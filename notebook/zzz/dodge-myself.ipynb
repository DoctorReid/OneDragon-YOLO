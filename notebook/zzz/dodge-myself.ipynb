{
 "cells": [
  {
   "cell_type": "code",
   "execution_count": 1,
   "id": "e564ae1e-bd26-4e3b-a18a-c1bf6bdb95ed",
   "metadata": {},
   "outputs": [],
   "source": [
    "import pandas as pd\n",
    "import sys\n",
    "import os\n",
    "sys.path.append('../../src')"
   ]
  },
  {
   "cell_type": "code",
   "execution_count": 2,
   "id": "f7f2c72d-69f4-45c9-89cb-a8cd6d689736",
   "metadata": {},
   "outputs": [],
   "source": [
    "from train.devtools import os_utils\n",
    "from train.devtools import ultralytics_utils"
   ]
  },
  {
   "cell_type": "code",
   "execution_count": 3,
   "id": "49e57432-67df-4778-9b33-87b2132346c0",
   "metadata": {},
   "outputs": [],
   "source": [
    "ultralytics_utils.init_ultralytics_settings()"
   ]
  },
  {
   "cell_type": "code",
   "execution_count": 4,
   "id": "cfe8bc76-9d7e-4f61-abe6-74d27e5e4363",
   "metadata": {},
   "outputs": [],
   "source": [
    "from train.zzz.dodge_classify.yolo import DodgeYolo"
   ]
  },
  {
   "cell_type": "code",
   "execution_count": 6,
   "id": "51ea149c-6f9c-4126-96ab-6bc3867fda47",
   "metadata": {},
   "outputs": [],
   "source": [
    "model = DodgeYolo(ultralytics_utils.get_base_model_path('yolov8n-cls.pt'))"
   ]
  },
  {
   "cell_type": "code",
   "execution_count": 7,
   "id": "e4b91840-d2e4-4a30-9826-768aef87dd28",
   "metadata": {},
   "outputs": [],
   "source": [
    "dataset_name = 'zzz_dodge_raw'"
   ]
  },
  {
   "cell_type": "code",
   "execution_count": null,
   "id": "e5d1f7f3-314a-46dc-b6fe-633e0beb5e66",
   "metadata": {
    "scrolled": true
   },
   "outputs": [],
   "source": [
    "model.train(\n",
    "    data=ultralytics_utils.get_dataset_dir(dataset_name),  # 数据集配置文件的位置\n",
    "    project=ultralytics_utils.get_dataset_model_dir(dataset_name),  # 训练模型的数据（包括模型文件）的自动保存位置\n",
    "    epochs=200,\n",
    "    imgsz=640,\n",
    "    batch=-1,  # 根据可使用内存 自动判断batch_size\n",
    "    scale=1,  # 部分图片需要缩放处理\n",
    "    flipud=0, fliplr=0,  # 不需要翻转对称\n",
    "    erasing=0,  # 不需要消除了 图片下方空白比较多\n",
    "    hsv_h=0, hsv_s=0, hsv_v=0,  # 关闭色彩调节\n",
    ")"
   ]
  },
  {
   "cell_type": "code",
   "execution_count": null,
   "id": "e7d84a53-ea2d-481d-af2e-94a84b2d3b77",
   "metadata": {},
   "outputs": [],
   "source": [
    "model.export(format=\"onnx\", imgsz=640)"
   ]
  },
  {
   "cell_type": "code",
   "execution_count": null,
   "id": "8f84224d-f07e-4084-a7d8-ffb2d411697b",
   "metadata": {},
   "outputs": [],
   "source": [
    "val_dir = os.path.join(ultralytics_utils.get_dataset_dir(dataset_name), 'val')"
   ]
  },
  {
   "cell_type": "code",
   "execution_count": null,
   "id": "bac68da3-f49e-46eb-a0f3-ce500c79316f",
   "metadata": {},
   "outputs": [],
   "source": [
    "import random"
   ]
  },
  {
   "cell_type": "code",
   "execution_count": null,
   "id": "574bad92-7bf4-4daf-91ee-3e97c451aa80",
   "metadata": {},
   "outputs": [],
   "source": [
    "class_dir = os.path.join(\n",
    "    val_dir,\n",
    "    random.choice(os.listdir(val_dir))\n",
    ")\n",
    "image = os.path.join(\n",
    "    class_dir,\n",
    "    random.choice(os.listdir(class_dir))\n",
    ")\n",
    "results = model(image)"
   ]
  },
  {
   "cell_type": "code",
   "execution_count": null,
   "id": "2ad81cc0-7beb-45ad-a222-60a34ce801e2",
   "metadata": {},
   "outputs": [],
   "source": []
  }
 ],
 "metadata": {
  "kernelspec": {
   "display_name": "Python 3 (ipykernel)",
   "language": "python",
   "name": "python3"
  },
  "language_info": {
   "codemirror_mode": {
    "name": "ipython",
    "version": 3
   },
   "file_extension": ".py",
   "mimetype": "text/x-python",
   "name": "python",
   "nbconvert_exporter": "python",
   "pygments_lexer": "ipython3",
   "version": "3.11.9"
  }
 },
 "nbformat": 4,
 "nbformat_minor": 5
}

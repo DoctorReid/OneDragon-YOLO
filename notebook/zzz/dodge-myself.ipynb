{
 "cells": [
  {
   "cell_type": "code",
   "execution_count": 1,
   "id": "e564ae1e-bd26-4e3b-a18a-c1bf6bdb95ed",
   "metadata": {},
   "outputs": [],
   "source": [
    "import pandas as pd\n",
    "import sys\n",
    "import os\n",
    "sys.path.append('../../src')"
   ]
  },
  {
   "cell_type": "code",
   "execution_count": 2,
   "id": "f7f2c72d-69f4-45c9-89cb-a8cd6d689736",
   "metadata": {},
   "outputs": [],
   "source": [
    "from train.devtools import os_utils\n",
    "from train.devtools import ultralytics_utils"
   ]
  },
  {
   "cell_type": "code",
   "execution_count": 3,
   "id": "49e57432-67df-4778-9b33-87b2132346c0",
   "metadata": {},
   "outputs": [],
   "source": [
    "ultralytics_utils.init_ultralytics_settings()"
   ]
  },
  {
   "cell_type": "code",
   "execution_count": 4,
   "id": "cfe8bc76-9d7e-4f61-abe6-74d27e5e4363",
   "metadata": {},
   "outputs": [],
   "source": [
    "from train.zzz.dodge_classify.yolo import DodgeYolo"
   ]
  },
  {
   "cell_type": "code",
   "execution_count": 5,
   "id": "51ea149c-6f9c-4126-96ab-6bc3867fda47",
   "metadata": {},
   "outputs": [],
   "source": [
    "model = DodgeYolo(ultralytics_utils.get_base_model_path('yolov8n-cls.pt'))"
   ]
  },
  {
   "cell_type": "code",
   "execution_count": 6,
   "id": "e4b91840-d2e4-4a30-9826-768aef87dd28",
   "metadata": {},
   "outputs": [],
   "source": [
    "dataset_name = 'zzz-dodge-raw'"
   ]
  },
  {
   "cell_type": "code",
   "execution_count": 7,
   "id": "e5d1f7f3-314a-46dc-b6fe-633e0beb5e66",
   "metadata": {
    "scrolled": true
   },
   "outputs": [
    {
     "name": "stdout",
     "output_type": "stream",
     "text": [
      "New https://pypi.org/project/ultralytics/8.2.60 available  Update with 'pip install -U ultralytics'\n",
      "Ultralytics YOLOv8.2.52  Python-3.11.9 torch-2.3.1 CPU (AMD Ryzen 5 5600U with Radeon Graphics)\n",
      "\u001b[34m\u001b[1mengine\\trainer: \u001b[0mtask=classify, mode=train, model=D:\\Users\\yijie.mo\\root\\workspace\\myself\\OneDragon-YOLO\\ultralytics\\models\\yolov8n-cls.pt, data=D:\\Users\\yijie.mo\\root\\workspace\\myself\\OneDragon-YOLO\\ultralytics\\datasets\\zzz-dodge-raw, epochs=20, time=None, patience=100, batch=-1, imgsz=640, save=True, save_period=-1, cache=False, device=None, workers=8, project=D:\\Users\\yijie.mo\\root\\workspace\\myself\\OneDragon-YOLO\\ultralytics\\runs\\zzz-dodge-raw, name=train12, exist_ok=False, pretrained=True, optimizer=auto, verbose=True, seed=0, deterministic=True, single_cls=False, rect=False, cos_lr=False, close_mosaic=10, resume=False, amp=True, fraction=1.0, profile=False, freeze=None, multi_scale=False, overlap_mask=True, mask_ratio=4, dropout=0.0, val=True, split=val, save_json=False, save_hybrid=False, conf=None, iou=0.7, max_det=300, half=False, dnn=False, plots=True, source=None, vid_stride=1, stream_buffer=False, visualize=False, augment=False, agnostic_nms=False, classes=None, retina_masks=False, embed=None, show=False, save_frames=False, save_txt=False, save_conf=False, save_crop=False, show_labels=True, show_conf=True, show_boxes=True, line_width=None, format=torchscript, keras=False, optimize=False, int8=False, dynamic=False, simplify=False, opset=None, workspace=4, nms=False, lr0=0.01, lrf=0.01, momentum=0.937, weight_decay=0.0005, warmup_epochs=3.0, warmup_momentum=0.8, warmup_bias_lr=0.1, box=7.5, cls=0.5, dfl=1.5, pose=12.0, kobj=1.0, label_smoothing=0.0, nbs=64, hsv_h=0, hsv_s=0, hsv_v=0, degrees=0.0, translate=0.1, scale=1, shear=0.0, perspective=0.0, flipud=0, fliplr=0, bgr=0.0, mosaic=1.0, mixup=0.0, copy_paste=0.0, auto_augment=randaugment, erasing=0, crop_fraction=1.0, cfg=None, tracker=botsort.yaml, save_dir=D:\\Users\\yijie.mo\\root\\workspace\\myself\\OneDragon-YOLO\\ultralytics\\runs\\zzz-dodge-raw\\train12\n",
      "\u001b[34m\u001b[1mtrain:\u001b[0m D:\\Users\\yijie.mo\\root\\workspace\\myself\\OneDragon-YOLO\\ultralytics\\datasets\\zzz-dodge-raw\\train... found 3 images in 3 classes  \n",
      "\u001b[34m\u001b[1mval:\u001b[0m D:\\Users\\yijie.mo\\root\\workspace\\myself\\OneDragon-YOLO\\ultralytics\\datasets\\zzz-dodge-raw\\val... found 3 images in 3 classes  \n",
      "\u001b[34m\u001b[1mtest:\u001b[0m None...\n",
      "Overriding model.yaml nc=1000 with nc=3\n",
      "\n",
      "                   from  n    params  module                                       arguments                     \n",
      "  0                  -1  1       464  ultralytics.nn.modules.conv.Conv             [3, 16, 3, 2]                 \n",
      "  1                  -1  1      4672  ultralytics.nn.modules.conv.Conv             [16, 32, 3, 2]                \n",
      "  2                  -1  1      7360  ultralytics.nn.modules.block.C2f             [32, 32, 1, True]             \n",
      "  3                  -1  1     18560  ultralytics.nn.modules.conv.Conv             [32, 64, 3, 2]                \n",
      "  4                  -1  2     49664  ultralytics.nn.modules.block.C2f             [64, 64, 2, True]             \n",
      "  5                  -1  1     73984  ultralytics.nn.modules.conv.Conv             [64, 128, 3, 2]               \n",
      "  6                  -1  2    197632  ultralytics.nn.modules.block.C2f             [128, 128, 2, True]           \n",
      "  7                  -1  1    295424  ultralytics.nn.modules.conv.Conv             [128, 256, 3, 2]              \n",
      "  8                  -1  1    460288  ultralytics.nn.modules.block.C2f             [256, 256, 1, True]           \n",
      "  9                  -1  1    334083  ultralytics.nn.modules.head.Classify         [256, 3]                      \n",
      "YOLOv8n-cls summary: 99 layers, 1442131 parameters, 1442131 gradients\n",
      "Transferred 156/158 items from pretrained weights\n",
      "\u001b[34m\u001b[1mAutoBatch: \u001b[0mComputing optimal batch size for imgsz=640 at 60.0% CUDA memory utilization.\n",
      "\u001b[34m\u001b[1mAutoBatch: \u001b[0m  intended for CUDA devices, using default batch-size 16\n"
     ]
    },
    {
     "name": "stderr",
     "output_type": "stream",
     "text": [
      "\u001b[34m\u001b[1mtrain: \u001b[0mScanning D:\\Users\\yijie.mo\\root\\workspace\\myself\\OneDragon-YOLO\\ultralytics\\datasets\\zzz-dodge-raw\\train... 3 images, 0 corrupt: 100%|██████████| 3/3 [00:00<?, ?it/s]\u001b[0m\n",
      "\u001b[34m\u001b[1mval: \u001b[0mScanning D:\\Users\\yijie.mo\\root\\workspace\\myself\\OneDragon-YOLO\\ultralytics\\datasets\\zzz-dodge-raw\\val... 3 images, 0 corrupt: 100%|██████████| 3/3 [00:00<?, ?it/s]\u001b[0m"
     ]
    },
    {
     "name": "stdout",
     "output_type": "stream",
     "text": [
      "\u001b[34m\u001b[1moptimizer:\u001b[0m 'optimizer=auto' found, ignoring 'lr0=0.01' and 'momentum=0.937' and determining best 'optimizer', 'lr0' and 'momentum' automatically... \n",
      "\u001b[34m\u001b[1moptimizer:\u001b[0m AdamW(lr=0.000714, momentum=0.9) with parameter groups 26 weight(decay=0.0), 27 weight(decay=0.0005), 27 bias(decay=0.0)\n",
      "Image sizes 640 train, 640 val\n",
      "Using 0 dataloader workers\n",
      "Logging results to \u001b[1mD:\\Users\\yijie.mo\\root\\workspace\\myself\\OneDragon-YOLO\\ultralytics\\runs\\zzz-dodge-raw\\train12\u001b[0m\n",
      "Starting training for 20 epochs...\n",
      "\n",
      "      Epoch    GPU_mem       loss  Instances       Size\n"
     ]
    },
    {
     "name": "stderr",
     "output_type": "stream",
     "text": [
      "\n",
      "       1/20         0G      1.103          3        640: 100%|██████████| 1/1 [00:01<00:00,  1.29s/it]\n",
      "               classes   top1_acc   top5_acc: 100%|██████████| 1/1 [00:00<00:00,  1.73it/s]"
     ]
    },
    {
     "name": "stdout",
     "output_type": "stream",
     "text": [
      "                   all      0.333          1\n"
     ]
    },
    {
     "name": "stderr",
     "output_type": "stream",
     "text": [
      "\n"
     ]
    },
    {
     "name": "stdout",
     "output_type": "stream",
     "text": [
      "\n",
      "      Epoch    GPU_mem       loss  Instances       Size\n"
     ]
    },
    {
     "name": "stderr",
     "output_type": "stream",
     "text": [
      "       2/20         0G      1.111          3        640: 100%|██████████| 1/1 [00:01<00:00,  1.17s/it]\n",
      "               classes   top1_acc   top5_acc: 100%|██████████| 1/1 [00:00<00:00,  1.98it/s]"
     ]
    },
    {
     "name": "stdout",
     "output_type": "stream",
     "text": [
      "                   all      0.333          1\n",
      "\n",
      "      Epoch    GPU_mem       loss  Instances       Size\n"
     ]
    },
    {
     "name": "stderr",
     "output_type": "stream",
     "text": [
      "\n",
      "       3/20         0G      1.108          3        640: 100%|██████████| 1/1 [00:01<00:00,  1.10s/it]\n",
      "               classes   top1_acc   top5_acc: 100%|██████████| 1/1 [00:00<00:00,  2.12it/s]"
     ]
    },
    {
     "name": "stdout",
     "output_type": "stream",
     "text": [
      "                   all      0.333          1\n",
      "\n",
      "      Epoch    GPU_mem       loss  Instances       Size\n"
     ]
    },
    {
     "name": "stderr",
     "output_type": "stream",
     "text": [
      "\n",
      "       4/20         0G      1.076          3        640: 100%|██████████| 1/1 [00:01<00:00,  1.05s/it]\n",
      "               classes   top1_acc   top5_acc: 100%|██████████| 1/1 [00:00<00:00,  2.14it/s]"
     ]
    },
    {
     "name": "stdout",
     "output_type": "stream",
     "text": [
      "                   all      0.333          1\n",
      "\n",
      "      Epoch    GPU_mem       loss  Instances       Size\n"
     ]
    },
    {
     "name": "stderr",
     "output_type": "stream",
     "text": [
      "\n",
      "       5/20         0G      1.075          3        640: 100%|██████████| 1/1 [00:01<00:00,  1.06s/it]\n",
      "               classes   top1_acc   top5_acc: 100%|██████████| 1/1 [00:00<00:00,  2.11it/s]"
     ]
    },
    {
     "name": "stdout",
     "output_type": "stream",
     "text": [
      "                   all      0.333          1\n",
      "\n",
      "      Epoch    GPU_mem       loss  Instances       Size\n"
     ]
    },
    {
     "name": "stderr",
     "output_type": "stream",
     "text": [
      "\n",
      "       6/20         0G      1.064          3        640: 100%|██████████| 1/1 [00:01<00:00,  1.05s/it]\n",
      "               classes   top1_acc   top5_acc: 100%|██████████| 1/1 [00:00<00:00,  2.11it/s]"
     ]
    },
    {
     "name": "stdout",
     "output_type": "stream",
     "text": [
      "                   all      0.333          1\n",
      "\n",
      "      Epoch    GPU_mem       loss  Instances       Size\n"
     ]
    },
    {
     "name": "stderr",
     "output_type": "stream",
     "text": [
      "\n",
      "       7/20         0G      1.012          3        640: 100%|██████████| 1/1 [00:01<00:00,  1.07s/it]\n",
      "               classes   top1_acc   top5_acc: 100%|██████████| 1/1 [00:00<00:00,  2.14it/s]"
     ]
    },
    {
     "name": "stdout",
     "output_type": "stream",
     "text": [
      "                   all      0.333          1\n",
      "\n",
      "      Epoch    GPU_mem       loss  Instances       Size\n"
     ]
    },
    {
     "name": "stderr",
     "output_type": "stream",
     "text": [
      "\n",
      "       8/20         0G      1.033          3        640: 100%|██████████| 1/1 [00:01<00:00,  1.05s/it]\n",
      "               classes   top1_acc   top5_acc: 100%|██████████| 1/1 [00:00<00:00,  2.14it/s]"
     ]
    },
    {
     "name": "stdout",
     "output_type": "stream",
     "text": [
      "                   all      0.333          1\n"
     ]
    },
    {
     "name": "stderr",
     "output_type": "stream",
     "text": [
      "\n"
     ]
    },
    {
     "name": "stdout",
     "output_type": "stream",
     "text": [
      "\n",
      "      Epoch    GPU_mem       loss  Instances       Size\n"
     ]
    },
    {
     "name": "stderr",
     "output_type": "stream",
     "text": [
      "       9/20         0G     0.9772          3        640: 100%|██████████| 1/1 [00:01<00:00,  1.34s/it]\n",
      "               classes   top1_acc   top5_acc: 100%|██████████| 1/1 [00:00<00:00,  1.60it/s]"
     ]
    },
    {
     "name": "stdout",
     "output_type": "stream",
     "text": [
      "                   all      0.333          1\n"
     ]
    },
    {
     "name": "stderr",
     "output_type": "stream",
     "text": [
      "\n"
     ]
    },
    {
     "name": "stdout",
     "output_type": "stream",
     "text": [
      "\n",
      "      Epoch    GPU_mem       loss  Instances       Size\n"
     ]
    },
    {
     "name": "stderr",
     "output_type": "stream",
     "text": [
      "      10/20         0G      1.009          3        640: 100%|██████████| 1/1 [00:01<00:00,  1.08s/it]\n",
      "               classes   top1_acc   top5_acc: 100%|██████████| 1/1 [00:00<00:00,  1.91it/s]"
     ]
    },
    {
     "name": "stdout",
     "output_type": "stream",
     "text": [
      "                   all      0.333          1\n",
      "\n",
      "      Epoch    GPU_mem       loss  Instances       Size\n"
     ]
    },
    {
     "name": "stderr",
     "output_type": "stream",
     "text": [
      "\n",
      "      11/20         0G     0.9342          3        640: 100%|██████████| 1/1 [00:01<00:00,  1.09s/it]\n",
      "               classes   top1_acc   top5_acc: 100%|██████████| 1/1 [00:00<00:00,  2.02it/s]"
     ]
    },
    {
     "name": "stdout",
     "output_type": "stream",
     "text": [
      "                   all      0.333          1\n"
     ]
    },
    {
     "name": "stderr",
     "output_type": "stream",
     "text": [
      "\n"
     ]
    },
    {
     "name": "stdout",
     "output_type": "stream",
     "text": [
      "\n",
      "      Epoch    GPU_mem       loss  Instances       Size\n"
     ]
    },
    {
     "name": "stderr",
     "output_type": "stream",
     "text": [
      "      12/20         0G     0.9675          3        640: 100%|██████████| 1/1 [00:01<00:00,  1.10s/it]\n",
      "               classes   top1_acc   top5_acc: 100%|██████████| 1/1 [00:00<00:00,  2.06it/s]"
     ]
    },
    {
     "name": "stdout",
     "output_type": "stream",
     "text": [
      "                   all      0.333          1\n"
     ]
    },
    {
     "name": "stderr",
     "output_type": "stream",
     "text": [
      "\n"
     ]
    },
    {
     "name": "stdout",
     "output_type": "stream",
     "text": [
      "\n",
      "      Epoch    GPU_mem       loss  Instances       Size\n"
     ]
    },
    {
     "name": "stderr",
     "output_type": "stream",
     "text": [
      "      13/20         0G     0.9113          3        640: 100%|██████████| 1/1 [00:01<00:00,  1.12s/it]\n",
      "               classes   top1_acc   top5_acc: 100%|██████████| 1/1 [00:00<00:00,  2.01it/s]"
     ]
    },
    {
     "name": "stdout",
     "output_type": "stream",
     "text": [
      "                   all      0.333          1\n",
      "\n",
      "      Epoch    GPU_mem       loss  Instances       Size\n"
     ]
    },
    {
     "name": "stderr",
     "output_type": "stream",
     "text": [
      "\n",
      "      14/20         0G     0.8926          3        640: 100%|██████████| 1/1 [00:01<00:00,  1.06s/it]\n",
      "               classes   top1_acc   top5_acc: 100%|██████████| 1/1 [00:00<00:00,  1.94it/s]"
     ]
    },
    {
     "name": "stdout",
     "output_type": "stream",
     "text": [
      "                   all      0.667          1\n",
      "\n",
      "      Epoch    GPU_mem       loss  Instances       Size\n"
     ]
    },
    {
     "name": "stderr",
     "output_type": "stream",
     "text": [
      "\n",
      "      15/20         0G     0.8643          3        640: 100%|██████████| 1/1 [00:01<00:00,  1.07s/it]\n",
      "               classes   top1_acc   top5_acc: 100%|██████████| 1/1 [00:00<00:00,  2.11it/s]"
     ]
    },
    {
     "name": "stdout",
     "output_type": "stream",
     "text": [
      "                   all      0.667          1\n",
      "\n",
      "      Epoch    GPU_mem       loss  Instances       Size\n"
     ]
    },
    {
     "name": "stderr",
     "output_type": "stream",
     "text": [
      "\n",
      "      16/20         0G     0.8364          3        640: 100%|██████████| 1/1 [00:01<00:00,  1.11s/it]\n",
      "               classes   top1_acc   top5_acc: 100%|██████████| 1/1 [00:00<00:00,  2.10it/s]"
     ]
    },
    {
     "name": "stdout",
     "output_type": "stream",
     "text": [
      "                   all      0.667          1\n",
      "\n",
      "      Epoch    GPU_mem       loss  Instances       Size\n"
     ]
    },
    {
     "name": "stderr",
     "output_type": "stream",
     "text": [
      "\n",
      "      17/20         0G     0.8173          3        640: 100%|██████████| 1/1 [00:01<00:00,  1.13s/it]\n",
      "               classes   top1_acc   top5_acc: 100%|██████████| 1/1 [00:00<00:00,  2.14it/s]"
     ]
    },
    {
     "name": "stdout",
     "output_type": "stream",
     "text": [
      "                   all      0.667          1\n",
      "\n",
      "      Epoch    GPU_mem       loss  Instances       Size\n"
     ]
    },
    {
     "name": "stderr",
     "output_type": "stream",
     "text": [
      "\n",
      "      18/20         0G      0.793          3        640: 100%|██████████| 1/1 [00:01<00:00,  1.09s/it]\n",
      "               classes   top1_acc   top5_acc: 100%|██████████| 1/1 [00:00<00:00,  2.12it/s]"
     ]
    },
    {
     "name": "stdout",
     "output_type": "stream",
     "text": [
      "                   all      0.667          1\n",
      "\n",
      "      Epoch    GPU_mem       loss  Instances       Size\n"
     ]
    },
    {
     "name": "stderr",
     "output_type": "stream",
     "text": [
      "\n",
      "      19/20         0G     0.7997          3        640: 100%|██████████| 1/1 [00:01<00:00,  1.19s/it]\n",
      "               classes   top1_acc   top5_acc: 100%|██████████| 1/1 [00:00<00:00,  2.06it/s]"
     ]
    },
    {
     "name": "stdout",
     "output_type": "stream",
     "text": [
      "                   all      0.667          1\n",
      "\n",
      "      Epoch    GPU_mem       loss  Instances       Size\n"
     ]
    },
    {
     "name": "stderr",
     "output_type": "stream",
     "text": [
      "\n",
      "      20/20         0G     0.7801          3        640: 100%|██████████| 1/1 [00:01<00:00,  1.05s/it]\n",
      "               classes   top1_acc   top5_acc: 100%|██████████| 1/1 [00:00<00:00,  2.06it/s]"
     ]
    },
    {
     "name": "stdout",
     "output_type": "stream",
     "text": [
      "                   all      0.667          1\n"
     ]
    },
    {
     "name": "stderr",
     "output_type": "stream",
     "text": [
      "\n"
     ]
    },
    {
     "name": "stdout",
     "output_type": "stream",
     "text": [
      "\n",
      "20 epochs completed in 0.010 hours.\n",
      "Optimizer stripped from D:\\Users\\yijie.mo\\root\\workspace\\myself\\OneDragon-YOLO\\ultralytics\\runs\\zzz-dodge-raw\\train12\\weights\\last.pt, 3.0MB\n",
      "Optimizer stripped from D:\\Users\\yijie.mo\\root\\workspace\\myself\\OneDragon-YOLO\\ultralytics\\runs\\zzz-dodge-raw\\train12\\weights\\best.pt, 3.0MB\n",
      "\n",
      "Validating D:\\Users\\yijie.mo\\root\\workspace\\myself\\OneDragon-YOLO\\ultralytics\\runs\\zzz-dodge-raw\\train12\\weights\\best.pt...\n",
      "Ultralytics YOLOv8.2.52  Python-3.11.9 torch-2.3.1 CPU (AMD Ryzen 5 5600U with Radeon Graphics)\n",
      "YOLOv8n-cls summary (fused): 73 layers, 1438723 parameters, 0 gradients\n",
      "\u001b[34m\u001b[1mtrain:\u001b[0m D:\\Users\\yijie.mo\\root\\workspace\\myself\\OneDragon-YOLO\\ultralytics\\datasets\\zzz-dodge-raw\\train... found 3 images in 3 classes  \n",
      "\u001b[34m\u001b[1mval:\u001b[0m D:\\Users\\yijie.mo\\root\\workspace\\myself\\OneDragon-YOLO\\ultralytics\\datasets\\zzz-dodge-raw\\val... found 3 images in 3 classes  \n",
      "\u001b[34m\u001b[1mtest:\u001b[0m None...\n"
     ]
    },
    {
     "name": "stderr",
     "output_type": "stream",
     "text": [
      "               classes   top1_acc   top5_acc: 100%|██████████| 1/1 [00:00<00:00,  2.14it/s]\n"
     ]
    },
    {
     "name": "stdout",
     "output_type": "stream",
     "text": [
      "                   all      0.667          1\n",
      "Speed: 0.0ms preprocess, 88.8ms inference, 0.0ms loss, 0.0ms postprocess per image\n",
      "Results saved to \u001b[1mD:\\Users\\yijie.mo\\root\\workspace\\myself\\OneDragon-YOLO\\ultralytics\\runs\\zzz-dodge-raw\\train12\u001b[0m\n",
      "Results saved to \u001b[1mD:\\Users\\yijie.mo\\root\\workspace\\myself\\OneDragon-YOLO\\ultralytics\\runs\\zzz-dodge-raw\\train12\u001b[0m\n"
     ]
    },
    {
     "data": {
      "text/plain": [
       "ultralytics.utils.metrics.ClassifyMetrics object with attributes:\n",
       "\n",
       "confusion_matrix: <ultralytics.utils.metrics.ConfusionMatrix object at 0x0000027EB8B89ED0>\n",
       "curves: []\n",
       "curves_results: []\n",
       "fitness: 0.8333333432674408\n",
       "keys: ['metrics/accuracy_top1', 'metrics/accuracy_top5']\n",
       "results_dict: {'metrics/accuracy_top1': 0.6666666865348816, 'metrics/accuracy_top5': 1.0, 'fitness': 0.8333333432674408}\n",
       "save_dir: WindowsPath('D:/Users/yijie.mo/root/workspace/myself/OneDragon-YOLO/ultralytics/runs/zzz-dodge-raw/train12')\n",
       "speed: {'preprocess': 0.0, 'inference': 88.79899978637695, 'loss': 0.0, 'postprocess': 0.0}\n",
       "task: 'classify'\n",
       "top1: 0.6666666865348816\n",
       "top5: 1.0"
      ]
     },
     "execution_count": 7,
     "metadata": {},
     "output_type": "execute_result"
    }
   ],
   "source": [
    "model.train(\n",
    "    data=ultralytics_utils.get_dataset_dir(dataset_name),  # 数据集配置文件的位置\n",
    "    project=ultralytics_utils.get_dataset_model_dir(dataset_name),  # 训练模型的数据（包括模型文件）的自动保存位置\n",
    "    epochs=20,\n",
    "    imgsz=640,\n",
    "    batch=-1,  # 根据可使用内存 自动判断batch_size\n",
    "    scale=1,  # 部分图片需要缩放处理\n",
    "    flipud=0, fliplr=0,  # 不需要翻转对称\n",
    "    erasing=0,  # 不需要消除了 图片下方空白比较多\n",
    "    hsv_h=0, hsv_s=0, hsv_v=0,  # 关闭色彩调节\n",
    ")"
   ]
  },
  {
   "cell_type": "code",
   "execution_count": 8,
   "id": "e7d84a53-ea2d-481d-af2e-94a84b2d3b77",
   "metadata": {},
   "outputs": [
    {
     "name": "stdout",
     "output_type": "stream",
     "text": [
      "Ultralytics YOLOv8.2.51  Python-3.11.9 torch-2.3.1 CPU (AMD Ryzen 9 5950X 16-Core Processor)\n",
      "YOLOv8n-cls summary (fused): 73 layers, 1438723 parameters, 0 gradients\n",
      "\n",
      "\u001b[34m\u001b[1mPyTorch:\u001b[0m starting from 'D:\\code\\workspace\\OneDragon-YOLO\\ultralytics\\runs\\zzz-switch-raw\\train\\weights\\best.pt' with input shape (1, 3, 640, 640) BCHW and output shape(s) (1, 3) (2.8 MB)\n",
      "\n",
      "\u001b[34m\u001b[1mONNX:\u001b[0m starting export with onnx 1.16.0 opset 17...\n",
      "\u001b[34m\u001b[1mONNX:\u001b[0m export success  0.3s, saved as 'D:\\code\\workspace\\OneDragon-YOLO\\ultralytics\\runs\\zzz-switch-raw\\train\\weights\\best.onnx' (5.5 MB)\n",
      "\n",
      "Export complete (1.8s)\n",
      "Results saved to \u001b[1mD:\\code\\workspace\\OneDragon-YOLO\\ultralytics\\runs\\zzz-switch-raw\\train\\weights\u001b[0m\n",
      "Predict:         yolo predict task=classify model=D:\\code\\workspace\\OneDragon-YOLO\\ultralytics\\runs\\zzz-switch-raw\\train\\weights\\best.onnx imgsz=640  \n",
      "Validate:        yolo val task=classify model=D:\\code\\workspace\\OneDragon-YOLO\\ultralytics\\runs\\zzz-switch-raw\\train\\weights\\best.onnx imgsz=640 data=D:\\code\\workspace\\OneDragon-YOLO\\ultralytics\\datasets\\zzz-switch-raw  \n",
      "Visualize:       https://netron.app\n"
     ]
    },
    {
     "data": {
      "text/plain": [
       "'D:\\\\code\\\\workspace\\\\OneDragon-YOLO\\\\ultralytics\\\\runs\\\\zzz-switch-raw\\\\train\\\\weights\\\\best.onnx'"
      ]
     },
     "execution_count": 8,
     "metadata": {},
     "output_type": "execute_result"
    }
   ],
   "source": [
    "model.export(format=\"onnx\", imgsz=640)"
   ]
  },
  {
   "cell_type": "code",
   "execution_count": 10,
   "id": "8f84224d-f07e-4084-a7d8-ffb2d411697b",
   "metadata": {},
   "outputs": [],
   "source": [
    "val_dir = os.path.join(ultralytics_utils.get_dataset_dir(dataset_name), 'val')"
   ]
  },
  {
   "cell_type": "code",
   "execution_count": 13,
   "id": "bac68da3-f49e-46eb-a0f3-ce500c79316f",
   "metadata": {},
   "outputs": [],
   "source": [
    "import random"
   ]
  },
  {
   "cell_type": "code",
   "execution_count": 21,
   "id": "574bad92-7bf4-4daf-91ee-3e97c451aa80",
   "metadata": {},
   "outputs": [
    {
     "name": "stdout",
     "output_type": "stream",
     "text": [
      "\n",
      "image 1/1 D:\\code\\workspace\\OneDragon-YOLO\\ultralytics\\datasets\\zzz-switch-raw\\val\\01-red\\switch_1720455189892.png: 640x640 01-red 1.00, 02-yellow 0.00, 00-none 0.00, 8.0ms\n",
      "Speed: 24.0ms preprocess, 8.0ms inference, 0.0ms postprocess per image at shape (1, 3, 640, 640)\n"
     ]
    }
   ],
   "source": [
    "class_dir = os.path.join(\n",
    "    val_dir,\n",
    "    random.choice(os.listdir(val_dir))\n",
    ")\n",
    "image = os.path.join(\n",
    "    class_dir,\n",
    "    random.choice(os.listdir(class_dir))\n",
    ")\n",
    "results = model(image)"
   ]
  },
  {
   "cell_type": "code",
   "execution_count": null,
   "id": "2ad81cc0-7beb-45ad-a222-60a34ce801e2",
   "metadata": {},
   "outputs": [],
   "source": []
  }
 ],
 "metadata": {
  "kernelspec": {
   "display_name": "Python 3 (ipykernel)",
   "language": "python",
   "name": "python3"
  },
  "language_info": {
   "codemirror_mode": {
    "name": "ipython",
    "version": 3
   },
   "file_extension": ".py",
   "mimetype": "text/x-python",
   "name": "python",
   "nbconvert_exporter": "python",
   "pygments_lexer": "ipython3",
   "version": "3.11.9"
  }
 },
 "nbformat": 4,
 "nbformat_minor": 5
}

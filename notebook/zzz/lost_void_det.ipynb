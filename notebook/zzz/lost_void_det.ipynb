{
 "cells": [
  {
   "cell_type": "code",
   "execution_count": 1,
   "id": "2ccd20a0-e4f7-4ccc-8f98-4a069b707efb",
   "metadata": {},
   "outputs": [],
   "source": [
    "import pandas as pd\n",
    "import sys\n",
    "import os\n",
    "import math\n",
    "sys.path.append('../../src')"
   ]
  },
  {
   "cell_type": "code",
   "execution_count": 2,
   "id": "6bfd7549-a791-43b5-9045-2408985315af",
   "metadata": {},
   "outputs": [],
   "source": [
    "from train.devtools import os_utils\n",
    "from train.devtools import ultralytics_utils\n",
    "from train.devtools import yolo_dataset_utils"
   ]
  },
  {
   "cell_type": "code",
   "execution_count": 3,
   "id": "61d9666e-ed67-43ee-805c-96c1fde496f1",
   "metadata": {},
   "outputs": [],
   "source": [
    "ultralytics_utils.init_ultralytics_settings()"
   ]
  },
  {
   "cell_type": "code",
   "execution_count": 4,
   "id": "603bce91-cb98-45fd-9187-b6e37f065693",
   "metadata": {},
   "outputs": [],
   "source": [
    "# origin_img_size = 32 * 68\n",
    "# img_size_div = 2\n",
    "origin_img_size = 32 * 69\n",
    "img_size_div = 3\n",
    "train_img_size = origin_img_size // img_size_div\n",
    "\n",
    "export_width = origin_img_size // img_size_div\n",
    "export_height = math.ceil((export_width // 16 * 9) * 1.0 / 32) * 32\n",
    "export_img_size = (export_height, export_width) # 由于训练时候没有开启缩放，使用训练的尺寸效果会更好\n",
    "\n",
    "dataset_name = f'zzz_lost_void_det_{origin_img_size}'\n",
    "\n",
    "# pretrained_model_name = 'yolo11n'\n",
    "pretrained_model_name = 'yolov8n'\n",
    "train_name = f'{pretrained_model_name}-{train_img_size}'"
   ]
  },
  {
   "cell_type": "code",
   "execution_count": 5,
   "id": "c0279b8a-e510-4d0f-a77f-01614927ded0",
   "metadata": {},
   "outputs": [
    {
     "data": {
      "text/plain": [
       "('zzz_lost_void_det_2208', 'yolov8n-736', (416, 736))"
      ]
     },
     "execution_count": 5,
     "metadata": {},
     "output_type": "execute_result"
    }
   ],
   "source": [
    "dataset_name, train_name, export_img_size"
   ]
  },
  {
   "cell_type": "code",
   "execution_count": 6,
   "id": "608bc633-42d2-48a5-8b42-f14424237d8b",
   "metadata": {},
   "outputs": [
    {
     "name": "stdout",
     "output_type": "stream",
     "text": [
      "Autosplitting images from D:\\code\\workspace\\OneDragon-YOLO\\ultralytics\\datasets\\zzz_lost_void_det_2208\\images, using *.txt labeled images only\n"
     ]
    },
    {
     "name": "stderr",
     "output_type": "stream",
     "text": [
      "100%|██████████| 605/605 [00:00<00:00, 3813.00it/s]\n"
     ]
    }
   ],
   "source": [
    "yolo_dataset_utils.init_dataset(\n",
    "    dataset_name=dataset_name,\n",
    "    raw_dataset_name='zzz_lost_void_det_raw',\n",
    "    raw_images_dir_path=os_utils.get_path_under_work_dir('label_studio', 'zzz', 'lost_void_det', 'raw'),\n",
    "    target_img_size=origin_img_size,\n",
    "    split_weights=(1, 0, 0)\n",
    ")"
   ]
  },
  {
   "cell_type": "code",
   "execution_count": 7,
   "id": "721d4f40-6cd0-450b-ba19-00b89076b42c",
   "metadata": {},
   "outputs": [],
   "source": [
    "from ultralytics import YOLO"
   ]
  },
  {
   "cell_type": "code",
   "execution_count": 8,
   "id": "3bdbb5bf-3bcf-4c48-9439-d2b5f983e9b6",
   "metadata": {},
   "outputs": [],
   "source": [
    "model = YOLO(ultralytics_utils.get_base_model_path(f'{pretrained_model_name}.pt'))"
   ]
  },
  {
   "cell_type": "code",
   "execution_count": 9,
   "id": "372da530-416e-4796-a81e-9fc1857a626c",
   "metadata": {
    "scrolled": true
   },
   "outputs": [
    {
     "name": "stdout",
     "output_type": "stream",
     "text": [
      "Ultralytics 8.3.1  Python-3.11.9 torch-2.3.1 CUDA:0 (NVIDIA GeForce RTX 4070 Ti, 12282MiB)\n",
      "\u001b[34m\u001b[1mengine\\trainer: \u001b[0mtask=detect, mode=train, model=D:\\code\\workspace\\OneDragon-YOLO\\ultralytics\\models\\yolov8n.pt, data=D:\\code\\workspace\\OneDragon-YOLO\\ultralytics\\datasets\\zzz_lost_void_det_2208\\dataset.yaml, epochs=1000, time=None, patience=100, batch=30, imgsz=736, save=True, save_period=100, cache=False, device=None, workers=8, project=D:\\code\\workspace\\OneDragon-YOLO\\ultralytics\\runs\\zzz_lost_void_det_2208, name=yolov8n-736, exist_ok=True, pretrained=True, optimizer=auto, verbose=True, seed=0, deterministic=True, single_cls=False, rect=False, cos_lr=False, close_mosaic=10, resume=False, amp=True, fraction=1.0, profile=False, freeze=None, multi_scale=False, overlap_mask=True, mask_ratio=4, dropout=0.0, val=False, split=val, save_json=False, save_hybrid=False, conf=None, iou=0.7, max_det=300, half=False, dnn=False, plots=True, source=None, vid_stride=1, stream_buffer=False, visualize=False, augment=False, agnostic_nms=False, classes=None, retina_masks=False, embed=None, show=False, save_frames=False, save_txt=False, save_conf=False, save_crop=False, show_labels=True, show_conf=True, show_boxes=True, line_width=None, format=torchscript, keras=False, optimize=False, int8=False, dynamic=False, simplify=True, opset=None, workspace=4, nms=False, lr0=0.01, lrf=0.01, momentum=0.937, weight_decay=0.0005, warmup_epochs=3.0, warmup_momentum=0.8, warmup_bias_lr=0.1, box=7.5, cls=0.5, dfl=1.5, pose=12.0, kobj=1.0, label_smoothing=0.0, nbs=64, hsv_h=0, hsv_s=0, hsv_v=0, degrees=0.0, translate=0.1, scale=0, shear=0.0, perspective=0.0, flipud=0, fliplr=0, bgr=0.0, mosaic=0, mixup=0.0, copy_paste=0.0, copy_paste_mode=flip, auto_augment=randaugment, erasing=0, crop_fraction=1.0, cfg=None, tracker=botsort.yaml, save_dir=D:\\code\\workspace\\OneDragon-YOLO\\ultralytics\\runs\\zzz_lost_void_det_2208\\yolov8n-736\n",
      "Overriding model.yaml nc=80 with nc=14\n",
      "\n",
      "                   from  n    params  module                                       arguments                     \n",
      "  0                  -1  1       464  ultralytics.nn.modules.conv.Conv             [3, 16, 3, 2]                 \n",
      "  1                  -1  1      4672  ultralytics.nn.modules.conv.Conv             [16, 32, 3, 2]                \n",
      "  2                  -1  1      7360  ultralytics.nn.modules.block.C2f             [32, 32, 1, True]             \n",
      "  3                  -1  1     18560  ultralytics.nn.modules.conv.Conv             [32, 64, 3, 2]                \n",
      "  4                  -1  2     49664  ultralytics.nn.modules.block.C2f             [64, 64, 2, True]             \n",
      "  5                  -1  1     73984  ultralytics.nn.modules.conv.Conv             [64, 128, 3, 2]               \n",
      "  6                  -1  2    197632  ultralytics.nn.modules.block.C2f             [128, 128, 2, True]           \n",
      "  7                  -1  1    295424  ultralytics.nn.modules.conv.Conv             [128, 256, 3, 2]              \n",
      "  8                  -1  1    460288  ultralytics.nn.modules.block.C2f             [256, 256, 1, True]           \n",
      "  9                  -1  1    164608  ultralytics.nn.modules.block.SPPF            [256, 256, 5]                 \n",
      " 10                  -1  1         0  torch.nn.modules.upsampling.Upsample         [None, 2, 'nearest']          \n",
      " 11             [-1, 6]  1         0  ultralytics.nn.modules.conv.Concat           [1]                           \n",
      " 12                  -1  1    148224  ultralytics.nn.modules.block.C2f             [384, 128, 1]                 \n",
      " 13                  -1  1         0  torch.nn.modules.upsampling.Upsample         [None, 2, 'nearest']          \n",
      " 14             [-1, 4]  1         0  ultralytics.nn.modules.conv.Concat           [1]                           \n",
      " 15                  -1  1     37248  ultralytics.nn.modules.block.C2f             [192, 64, 1]                  \n",
      " 16                  -1  1     36992  ultralytics.nn.modules.conv.Conv             [64, 64, 3, 2]                \n",
      " 17            [-1, 12]  1         0  ultralytics.nn.modules.conv.Concat           [1]                           \n",
      " 18                  -1  1    123648  ultralytics.nn.modules.block.C2f             [192, 128, 1]                 \n",
      " 19                  -1  1    147712  ultralytics.nn.modules.conv.Conv             [128, 128, 3, 2]              \n",
      " 20             [-1, 9]  1         0  ultralytics.nn.modules.conv.Concat           [1]                           \n",
      " 21                  -1  1    493056  ultralytics.nn.modules.block.C2f             [384, 256, 1]                 \n",
      " 22        [15, 18, 21]  1    433402  ultralytics.nn.modules.head.Detect           [14, [64, 128, 256]]          \n",
      "Model summary: 249 layers, 2,692,938 parameters, 2,692,922 gradients, 7.0 GFLOPs\n",
      "\n",
      "Transferred 313/391 items from pretrained weights\n",
      "Freezing layer 'model.22.dfl.conv.weight'\n",
      "\u001b[34m\u001b[1mAMP: \u001b[0mrunning Automatic Mixed Precision (AMP) checks with YOLO11n...\n",
      "\u001b[34m\u001b[1mAMP: \u001b[0mchecks failed . Anomalies were detected with AMP on your system that may lead to NaN losses or zero-mAP results, so AMP will be disabled during training.\n"
     ]
    },
    {
     "name": "stderr",
     "output_type": "stream",
     "text": [
      "\u001b[34m\u001b[1mtrain: \u001b[0mScanning D:\\code\\workspace\\OneDragon-YOLO\\ultralytics\\datasets\\zzz_lost_void_det_2208\\labels... 605 images, 0 backgrounds, 0 corrupt: 100%|██████████| 605/605 [00:04<00:00, 140.80it/s]\u001b[0m"
     ]
    },
    {
     "name": "stdout",
     "output_type": "stream",
     "text": [
      "\u001b[34m\u001b[1mtrain: \u001b[0mNew cache created: D:\\code\\workspace\\OneDragon-YOLO\\ultralytics\\datasets\\zzz_lost_void_det_2208\\labels.cache\n"
     ]
    },
    {
     "name": "stderr",
     "output_type": "stream",
     "text": [
      "\n",
      "\u001b[34m\u001b[1mval: \u001b[0mScanning D:\\code\\workspace\\OneDragon-YOLO\\ultralytics\\datasets\\zzz_lost_void_det_2208\\labels.cache... 605 images, 0 backgrounds, 0 corrupt: 100%|██████████| 605/605 [00:00<?, ?it/s]\u001b[0m\n"
     ]
    },
    {
     "name": "stdout",
     "output_type": "stream",
     "text": [
      "Plotting labels to D:\\code\\workspace\\OneDragon-YOLO\\ultralytics\\runs\\zzz_lost_void_det_2208\\yolov8n-736\\labels.jpg... \n"
     ]
    },
    {
     "name": "stderr",
     "output_type": "stream",
     "text": [
      "D:\\code\\env\\anaconda\\envs\\mhy-yolo\\Lib\\site-packages\\ultralytics\\utils\\plotting.py:921: UserWarning: Glyph 24863 (\\N{CJK UNIFIED IDEOGRAPH-611F}) missing from current font.\n",
      "  plt.savefig(fname, dpi=200)\n",
      "D:\\code\\env\\anaconda\\envs\\mhy-yolo\\Lib\\site-packages\\ultralytics\\utils\\plotting.py:921: UserWarning: Glyph 21497 (\\N{CJK UNIFIED IDEOGRAPH-53F9}) missing from current font.\n",
      "  plt.savefig(fname, dpi=200)\n",
      "D:\\code\\env\\anaconda\\envs\\mhy-yolo\\Lib\\site-packages\\ultralytics\\utils\\plotting.py:921: UserWarning: Glyph 21495 (\\N{CJK UNIFIED IDEOGRAPH-53F7}) missing from current font.\n",
      "  plt.savefig(fname, dpi=200)\n",
      "D:\\code\\env\\anaconda\\envs\\mhy-yolo\\Lib\\site-packages\\ultralytics\\utils\\plotting.py:921: UserWarning: Glyph 36317 (\\N{CJK UNIFIED IDEOGRAPH-8DDD}) missing from current font.\n",
      "  plt.savefig(fname, dpi=200)\n",
      "D:\\code\\env\\anaconda\\envs\\mhy-yolo\\Lib\\site-packages\\ultralytics\\utils\\plotting.py:921: UserWarning: Glyph 31163 (\\N{CJK UNIFIED IDEOGRAPH-79BB}) missing from current font.\n",
      "  plt.savefig(fname, dpi=200)\n",
      "D:\\code\\env\\anaconda\\envs\\mhy-yolo\\Lib\\site-packages\\ultralytics\\utils\\plotting.py:921: UserWarning: Glyph 25112 (\\N{CJK UNIFIED IDEOGRAPH-6218}) missing from current font.\n",
      "  plt.savefig(fname, dpi=200)\n",
      "D:\\code\\env\\anaconda\\envs\\mhy-yolo\\Lib\\site-packages\\ultralytics\\utils\\plotting.py:921: UserWarning: Glyph 26007 (\\N{CJK UNIFIED IDEOGRAPH-6597}) missing from current font.\n",
      "  plt.savefig(fname, dpi=200)\n",
      "D:\\code\\env\\anaconda\\envs\\mhy-yolo\\Lib\\site-packages\\ultralytics\\utils\\plotting.py:921: UserWarning: Glyph 40483 (\\N{CJK UNIFIED IDEOGRAPH-9E23}) missing from current font.\n",
      "  plt.savefig(fname, dpi=200)\n",
      "D:\\code\\env\\anaconda\\envs\\mhy-yolo\\Lib\\site-packages\\ultralytics\\utils\\plotting.py:921: UserWarning: Glyph 24509 (\\N{CJK UNIFIED IDEOGRAPH-5FBD}) missing from current font.\n",
      "  plt.savefig(fname, dpi=200)\n",
      "D:\\code\\env\\anaconda\\envs\\mhy-yolo\\Lib\\site-packages\\ultralytics\\utils\\plotting.py:921: UserWarning: Glyph 27494 (\\N{CJK UNIFIED IDEOGRAPH-6B66}) missing from current font.\n",
      "  plt.savefig(fname, dpi=200)\n",
      "D:\\code\\env\\anaconda\\envs\\mhy-yolo\\Lib\\site-packages\\ultralytics\\utils\\plotting.py:921: UserWarning: Glyph 22791 (\\N{CJK UNIFIED IDEOGRAPH-5907}) missing from current font.\n",
      "  plt.savefig(fname, dpi=200)\n",
      "D:\\code\\env\\anaconda\\envs\\mhy-yolo\\Lib\\site-packages\\ultralytics\\utils\\plotting.py:921: UserWarning: Glyph 30828 (\\N{CJK UNIFIED IDEOGRAPH-786C}) missing from current font.\n",
      "  plt.savefig(fname, dpi=200)\n",
      "D:\\code\\env\\anaconda\\envs\\mhy-yolo\\Lib\\site-packages\\ultralytics\\utils\\plotting.py:921: UserWarning: Glyph 24065 (\\N{CJK UNIFIED IDEOGRAPH-5E01}) missing from current font.\n",
      "  plt.savefig(fname, dpi=200)\n",
      "D:\\code\\env\\anaconda\\envs\\mhy-yolo\\Lib\\site-packages\\ultralytics\\utils\\plotting.py:921: UserWarning: Glyph 25361 (\\N{CJK UNIFIED IDEOGRAPH-6311}) missing from current font.\n",
      "  plt.savefig(fname, dpi=200)\n",
      "D:\\code\\env\\anaconda\\envs\\mhy-yolo\\Lib\\site-packages\\ultralytics\\utils\\plotting.py:921: UserWarning: Glyph 26080 (\\N{CJK UNIFIED IDEOGRAPH-65E0}) missing from current font.\n",
      "  plt.savefig(fname, dpi=200)\n",
      "D:\\code\\env\\anaconda\\envs\\mhy-yolo\\Lib\\site-packages\\ultralytics\\utils\\plotting.py:921: UserWarning: Glyph 20260 (\\N{CJK UNIFIED IDEOGRAPH-4F24}) missing from current font.\n",
      "  plt.savefig(fname, dpi=200)\n",
      "D:\\code\\env\\anaconda\\envs\\mhy-yolo\\Lib\\site-packages\\ultralytics\\utils\\plotting.py:921: UserWarning: Glyph 38480 (\\N{CJK UNIFIED IDEOGRAPH-9650}) missing from current font.\n",
      "  plt.savefig(fname, dpi=200)\n",
      "D:\\code\\env\\anaconda\\envs\\mhy-yolo\\Lib\\site-packages\\ultralytics\\utils\\plotting.py:921: UserWarning: Glyph 26102 (\\N{CJK UNIFIED IDEOGRAPH-65F6}) missing from current font.\n",
      "  plt.savefig(fname, dpi=200)\n",
      "D:\\code\\env\\anaconda\\envs\\mhy-yolo\\Lib\\site-packages\\ultralytics\\utils\\plotting.py:921: UserWarning: Glyph 20598 (\\N{CJK UNIFIED IDEOGRAPH-5076}) missing from current font.\n",
      "  plt.savefig(fname, dpi=200)\n",
      "D:\\code\\env\\anaconda\\envs\\mhy-yolo\\Lib\\site-packages\\ultralytics\\utils\\plotting.py:921: UserWarning: Glyph 36935 (\\N{CJK UNIFIED IDEOGRAPH-9047}) missing from current font.\n",
      "  plt.savefig(fname, dpi=200)\n",
      "D:\\code\\env\\anaconda\\envs\\mhy-yolo\\Lib\\site-packages\\ultralytics\\utils\\plotting.py:921: UserWarning: Glyph 20107 (\\N{CJK UNIFIED IDEOGRAPH-4E8B}) missing from current font.\n",
      "  plt.savefig(fname, dpi=200)\n",
      "D:\\code\\env\\anaconda\\envs\\mhy-yolo\\Lib\\site-packages\\ultralytics\\utils\\plotting.py:921: UserWarning: Glyph 20214 (\\N{CJK UNIFIED IDEOGRAPH-4EF6}) missing from current font.\n",
      "  plt.savefig(fname, dpi=200)\n",
      "D:\\code\\env\\anaconda\\envs\\mhy-yolo\\Lib\\site-packages\\ultralytics\\utils\\plotting.py:921: UserWarning: Glyph 20195 (\\N{CJK UNIFIED IDEOGRAPH-4EE3}) missing from current font.\n",
      "  plt.savefig(fname, dpi=200)\n",
      "D:\\code\\env\\anaconda\\envs\\mhy-yolo\\Lib\\site-packages\\ultralytics\\utils\\plotting.py:921: UserWarning: Glyph 20215 (\\N{CJK UNIFIED IDEOGRAPH-4EF7}) missing from current font.\n",
      "  plt.savefig(fname, dpi=200)\n",
      "D:\\code\\env\\anaconda\\envs\\mhy-yolo\\Lib\\site-packages\\ultralytics\\utils\\plotting.py:921: UserWarning: Glyph 20043 (\\N{CJK UNIFIED IDEOGRAPH-4E4B}) missing from current font.\n",
      "  plt.savefig(fname, dpi=200)\n",
      "D:\\code\\env\\anaconda\\envs\\mhy-yolo\\Lib\\site-packages\\ultralytics\\utils\\plotting.py:921: UserWarning: Glyph 38388 (\\N{CJK UNIFIED IDEOGRAPH-95F4}) missing from current font.\n",
      "  plt.savefig(fname, dpi=200)\n",
      "D:\\code\\env\\anaconda\\envs\\mhy-yolo\\Lib\\site-packages\\ultralytics\\utils\\plotting.py:921: UserWarning: Glyph 20241 (\\N{CJK UNIFIED IDEOGRAPH-4F11}) missing from current font.\n",
      "  plt.savefig(fname, dpi=200)\n",
      "D:\\code\\env\\anaconda\\envs\\mhy-yolo\\Lib\\site-packages\\ultralytics\\utils\\plotting.py:921: UserWarning: Glyph 25001 (\\N{CJK UNIFIED IDEOGRAPH-61A9}) missing from current font.\n",
      "  plt.savefig(fname, dpi=200)\n",
      "D:\\code\\env\\anaconda\\envs\\mhy-yolo\\Lib\\site-packages\\ultralytics\\utils\\plotting.py:921: UserWarning: Glyph 35843 (\\N{CJK UNIFIED IDEOGRAPH-8C03}) missing from current font.\n",
      "  plt.savefig(fname, dpi=200)\n",
      "D:\\code\\env\\anaconda\\envs\\mhy-yolo\\Lib\\site-packages\\ultralytics\\utils\\plotting.py:921: UserWarning: Glyph 24687 (\\N{CJK UNIFIED IDEOGRAPH-606F}) missing from current font.\n",
      "  plt.savefig(fname, dpi=200)\n",
      "D:\\code\\env\\anaconda\\envs\\mhy-yolo\\Lib\\site-packages\\ultralytics\\utils\\plotting.py:921: UserWarning: Glyph 37030 (\\N{CJK UNIFIED IDEOGRAPH-90A6}) missing from current font.\n",
      "  plt.savefig(fname, dpi=200)\n",
      "D:\\code\\env\\anaconda\\envs\\mhy-yolo\\Lib\\site-packages\\ultralytics\\utils\\plotting.py:921: UserWarning: Glyph 24067 (\\N{CJK UNIFIED IDEOGRAPH-5E03}) missing from current font.\n",
      "  plt.savefig(fname, dpi=200)\n",
      "D:\\code\\env\\anaconda\\envs\\mhy-yolo\\Lib\\site-packages\\ultralytics\\utils\\plotting.py:921: UserWarning: Glyph 21830 (\\N{CJK UNIFIED IDEOGRAPH-5546}) missing from current font.\n",
      "  plt.savefig(fname, dpi=200)\n",
      "D:\\code\\env\\anaconda\\envs\\mhy-yolo\\Lib\\site-packages\\ultralytics\\utils\\plotting.py:921: UserWarning: Glyph 24215 (\\N{CJK UNIFIED IDEOGRAPH-5E97}) missing from current font.\n",
      "  plt.savefig(fname, dpi=200)\n",
      "D:\\code\\env\\anaconda\\envs\\mhy-yolo\\Lib\\site-packages\\ultralytics\\utils\\plotting.py:921: UserWarning: Glyph 25370 (\\N{CJK UNIFIED IDEOGRAPH-631A}) missing from current font.\n",
      "  plt.savefig(fname, dpi=200)\n",
      "D:\\code\\env\\anaconda\\envs\\mhy-yolo\\Lib\\site-packages\\ultralytics\\utils\\plotting.py:921: UserWarning: Glyph 20132 (\\N{CJK UNIFIED IDEOGRAPH-4EA4}) missing from current font.\n",
      "  plt.savefig(fname, dpi=200)\n",
      "D:\\code\\env\\anaconda\\envs\\mhy-yolo\\Lib\\site-packages\\ultralytics\\utils\\plotting.py:921: UserWarning: Glyph 20250 (\\N{CJK UNIFIED IDEOGRAPH-4F1A}) missing from current font.\n",
      "  plt.savefig(fname, dpi=200)\n",
      "D:\\code\\env\\anaconda\\envs\\mhy-yolo\\Lib\\site-packages\\ultralytics\\utils\\plotting.py:921: UserWarning: Glyph 35848 (\\N{CJK UNIFIED IDEOGRAPH-8C08}) missing from current font.\n",
      "  plt.savefig(fname, dpi=200)\n",
      "D:\\code\\env\\anaconda\\envs\\mhy-yolo\\Lib\\site-packages\\ultralytics\\utils\\plotting.py:921: UserWarning: Glyph 36947 (\\N{CJK UNIFIED IDEOGRAPH-9053}) missing from current font.\n",
      "  plt.savefig(fname, dpi=200)\n",
      "D:\\code\\env\\anaconda\\envs\\mhy-yolo\\Lib\\site-packages\\ultralytics\\utils\\plotting.py:921: UserWarning: Glyph 20013 (\\N{CJK UNIFIED IDEOGRAPH-4E2D}) missing from current font.\n",
      "  plt.savefig(fname, dpi=200)\n",
      "D:\\code\\env\\anaconda\\envs\\mhy-yolo\\Lib\\site-packages\\ultralytics\\utils\\plotting.py:921: UserWarning: Glyph 21361 (\\N{CJK UNIFIED IDEOGRAPH-5371}) missing from current font.\n",
      "  plt.savefig(fname, dpi=200)\n",
      "D:\\code\\env\\anaconda\\envs\\mhy-yolo\\Lib\\site-packages\\ultralytics\\utils\\plotting.py:921: UserWarning: Glyph 26426 (\\N{CJK UNIFIED IDEOGRAPH-673A}) missing from current font.\n",
      "  plt.savefig(fname, dpi=200)\n",
      "D:\\code\\env\\anaconda\\envs\\mhy-yolo\\Lib\\site-packages\\ultralytics\\utils\\plotting.py:921: UserWarning: Glyph 32456 (\\N{CJK UNIFIED IDEOGRAPH-7EC8}) missing from current font.\n",
      "  plt.savefig(fname, dpi=200)\n",
      "D:\\code\\env\\anaconda\\envs\\mhy-yolo\\Lib\\site-packages\\ultralytics\\utils\\plotting.py:921: UserWarning: Glyph 32467 (\\N{CJK UNIFIED IDEOGRAPH-7ED3}) missing from current font.\n",
      "  plt.savefig(fname, dpi=200)\n",
      "D:\\code\\env\\anaconda\\envs\\mhy-yolo\\Lib\\site-packages\\ultralytics\\utils\\plotting.py:921: UserWarning: Glyph 24441 (\\N{CJK UNIFIED IDEOGRAPH-5F79}) missing from current font.\n",
      "  plt.savefig(fname, dpi=200)\n",
      "D:\\code\\env\\anaconda\\envs\\mhy-yolo\\Lib\\site-packages\\ultralytics\\utils\\plotting.py:921: UserWarning: Glyph 24863 (\\N{CJK UNIFIED IDEOGRAPH-611F}) missing from current font.\n",
      "  plt.savefig(fname, dpi=200)\n",
      "D:\\code\\env\\anaconda\\envs\\mhy-yolo\\Lib\\site-packages\\ultralytics\\utils\\plotting.py:921: UserWarning: Glyph 21497 (\\N{CJK UNIFIED IDEOGRAPH-53F9}) missing from current font.\n",
      "  plt.savefig(fname, dpi=200)\n",
      "D:\\code\\env\\anaconda\\envs\\mhy-yolo\\Lib\\site-packages\\ultralytics\\utils\\plotting.py:921: UserWarning: Glyph 21495 (\\N{CJK UNIFIED IDEOGRAPH-53F7}) missing from current font.\n",
      "  plt.savefig(fname, dpi=200)\n",
      "D:\\code\\env\\anaconda\\envs\\mhy-yolo\\Lib\\site-packages\\ultralytics\\utils\\plotting.py:921: UserWarning: Glyph 36317 (\\N{CJK UNIFIED IDEOGRAPH-8DDD}) missing from current font.\n",
      "  plt.savefig(fname, dpi=200)\n",
      "D:\\code\\env\\anaconda\\envs\\mhy-yolo\\Lib\\site-packages\\ultralytics\\utils\\plotting.py:921: UserWarning: Glyph 31163 (\\N{CJK UNIFIED IDEOGRAPH-79BB}) missing from current font.\n",
      "  plt.savefig(fname, dpi=200)\n",
      "D:\\code\\env\\anaconda\\envs\\mhy-yolo\\Lib\\site-packages\\ultralytics\\utils\\plotting.py:921: UserWarning: Glyph 25112 (\\N{CJK UNIFIED IDEOGRAPH-6218}) missing from current font.\n",
      "  plt.savefig(fname, dpi=200)\n",
      "D:\\code\\env\\anaconda\\envs\\mhy-yolo\\Lib\\site-packages\\ultralytics\\utils\\plotting.py:921: UserWarning: Glyph 26007 (\\N{CJK UNIFIED IDEOGRAPH-6597}) missing from current font.\n",
      "  plt.savefig(fname, dpi=200)\n",
      "D:\\code\\env\\anaconda\\envs\\mhy-yolo\\Lib\\site-packages\\ultralytics\\utils\\plotting.py:921: UserWarning: Glyph 40483 (\\N{CJK UNIFIED IDEOGRAPH-9E23}) missing from current font.\n",
      "  plt.savefig(fname, dpi=200)\n",
      "D:\\code\\env\\anaconda\\envs\\mhy-yolo\\Lib\\site-packages\\ultralytics\\utils\\plotting.py:921: UserWarning: Glyph 24509 (\\N{CJK UNIFIED IDEOGRAPH-5FBD}) missing from current font.\n",
      "  plt.savefig(fname, dpi=200)\n",
      "D:\\code\\env\\anaconda\\envs\\mhy-yolo\\Lib\\site-packages\\ultralytics\\utils\\plotting.py:921: UserWarning: Glyph 27494 (\\N{CJK UNIFIED IDEOGRAPH-6B66}) missing from current font.\n",
      "  plt.savefig(fname, dpi=200)\n",
      "D:\\code\\env\\anaconda\\envs\\mhy-yolo\\Lib\\site-packages\\ultralytics\\utils\\plotting.py:921: UserWarning: Glyph 22791 (\\N{CJK UNIFIED IDEOGRAPH-5907}) missing from current font.\n",
      "  plt.savefig(fname, dpi=200)\n",
      "D:\\code\\env\\anaconda\\envs\\mhy-yolo\\Lib\\site-packages\\ultralytics\\utils\\plotting.py:921: UserWarning: Glyph 30828 (\\N{CJK UNIFIED IDEOGRAPH-786C}) missing from current font.\n",
      "  plt.savefig(fname, dpi=200)\n",
      "D:\\code\\env\\anaconda\\envs\\mhy-yolo\\Lib\\site-packages\\ultralytics\\utils\\plotting.py:921: UserWarning: Glyph 24065 (\\N{CJK UNIFIED IDEOGRAPH-5E01}) missing from current font.\n",
      "  plt.savefig(fname, dpi=200)\n",
      "D:\\code\\env\\anaconda\\envs\\mhy-yolo\\Lib\\site-packages\\ultralytics\\utils\\plotting.py:921: UserWarning: Glyph 25361 (\\N{CJK UNIFIED IDEOGRAPH-6311}) missing from current font.\n",
      "  plt.savefig(fname, dpi=200)\n",
      "D:\\code\\env\\anaconda\\envs\\mhy-yolo\\Lib\\site-packages\\ultralytics\\utils\\plotting.py:921: UserWarning: Glyph 26080 (\\N{CJK UNIFIED IDEOGRAPH-65E0}) missing from current font.\n",
      "  plt.savefig(fname, dpi=200)\n",
      "D:\\code\\env\\anaconda\\envs\\mhy-yolo\\Lib\\site-packages\\ultralytics\\utils\\plotting.py:921: UserWarning: Glyph 20260 (\\N{CJK UNIFIED IDEOGRAPH-4F24}) missing from current font.\n",
      "  plt.savefig(fname, dpi=200)\n",
      "D:\\code\\env\\anaconda\\envs\\mhy-yolo\\Lib\\site-packages\\ultralytics\\utils\\plotting.py:921: UserWarning: Glyph 38480 (\\N{CJK UNIFIED IDEOGRAPH-9650}) missing from current font.\n",
      "  plt.savefig(fname, dpi=200)\n",
      "D:\\code\\env\\anaconda\\envs\\mhy-yolo\\Lib\\site-packages\\ultralytics\\utils\\plotting.py:921: UserWarning: Glyph 26102 (\\N{CJK UNIFIED IDEOGRAPH-65F6}) missing from current font.\n",
      "  plt.savefig(fname, dpi=200)\n",
      "D:\\code\\env\\anaconda\\envs\\mhy-yolo\\Lib\\site-packages\\ultralytics\\utils\\plotting.py:921: UserWarning: Glyph 20598 (\\N{CJK UNIFIED IDEOGRAPH-5076}) missing from current font.\n",
      "  plt.savefig(fname, dpi=200)\n",
      "D:\\code\\env\\anaconda\\envs\\mhy-yolo\\Lib\\site-packages\\ultralytics\\utils\\plotting.py:921: UserWarning: Glyph 36935 (\\N{CJK UNIFIED IDEOGRAPH-9047}) missing from current font.\n",
      "  plt.savefig(fname, dpi=200)\n",
      "D:\\code\\env\\anaconda\\envs\\mhy-yolo\\Lib\\site-packages\\ultralytics\\utils\\plotting.py:921: UserWarning: Glyph 20107 (\\N{CJK UNIFIED IDEOGRAPH-4E8B}) missing from current font.\n",
      "  plt.savefig(fname, dpi=200)\n",
      "D:\\code\\env\\anaconda\\envs\\mhy-yolo\\Lib\\site-packages\\ultralytics\\utils\\plotting.py:921: UserWarning: Glyph 20214 (\\N{CJK UNIFIED IDEOGRAPH-4EF6}) missing from current font.\n",
      "  plt.savefig(fname, dpi=200)\n",
      "D:\\code\\env\\anaconda\\envs\\mhy-yolo\\Lib\\site-packages\\ultralytics\\utils\\plotting.py:921: UserWarning: Glyph 20195 (\\N{CJK UNIFIED IDEOGRAPH-4EE3}) missing from current font.\n",
      "  plt.savefig(fname, dpi=200)\n",
      "D:\\code\\env\\anaconda\\envs\\mhy-yolo\\Lib\\site-packages\\ultralytics\\utils\\plotting.py:921: UserWarning: Glyph 20215 (\\N{CJK UNIFIED IDEOGRAPH-4EF7}) missing from current font.\n",
      "  plt.savefig(fname, dpi=200)\n",
      "D:\\code\\env\\anaconda\\envs\\mhy-yolo\\Lib\\site-packages\\ultralytics\\utils\\plotting.py:921: UserWarning: Glyph 20043 (\\N{CJK UNIFIED IDEOGRAPH-4E4B}) missing from current font.\n",
      "  plt.savefig(fname, dpi=200)\n",
      "D:\\code\\env\\anaconda\\envs\\mhy-yolo\\Lib\\site-packages\\ultralytics\\utils\\plotting.py:921: UserWarning: Glyph 38388 (\\N{CJK UNIFIED IDEOGRAPH-95F4}) missing from current font.\n",
      "  plt.savefig(fname, dpi=200)\n",
      "D:\\code\\env\\anaconda\\envs\\mhy-yolo\\Lib\\site-packages\\ultralytics\\utils\\plotting.py:921: UserWarning: Glyph 20241 (\\N{CJK UNIFIED IDEOGRAPH-4F11}) missing from current font.\n",
      "  plt.savefig(fname, dpi=200)\n",
      "D:\\code\\env\\anaconda\\envs\\mhy-yolo\\Lib\\site-packages\\ultralytics\\utils\\plotting.py:921: UserWarning: Glyph 25001 (\\N{CJK UNIFIED IDEOGRAPH-61A9}) missing from current font.\n",
      "  plt.savefig(fname, dpi=200)\n",
      "D:\\code\\env\\anaconda\\envs\\mhy-yolo\\Lib\\site-packages\\ultralytics\\utils\\plotting.py:921: UserWarning: Glyph 35843 (\\N{CJK UNIFIED IDEOGRAPH-8C03}) missing from current font.\n",
      "  plt.savefig(fname, dpi=200)\n",
      "D:\\code\\env\\anaconda\\envs\\mhy-yolo\\Lib\\site-packages\\ultralytics\\utils\\plotting.py:921: UserWarning: Glyph 24687 (\\N{CJK UNIFIED IDEOGRAPH-606F}) missing from current font.\n",
      "  plt.savefig(fname, dpi=200)\n",
      "D:\\code\\env\\anaconda\\envs\\mhy-yolo\\Lib\\site-packages\\ultralytics\\utils\\plotting.py:921: UserWarning: Glyph 37030 (\\N{CJK UNIFIED IDEOGRAPH-90A6}) missing from current font.\n",
      "  plt.savefig(fname, dpi=200)\n",
      "D:\\code\\env\\anaconda\\envs\\mhy-yolo\\Lib\\site-packages\\ultralytics\\utils\\plotting.py:921: UserWarning: Glyph 24067 (\\N{CJK UNIFIED IDEOGRAPH-5E03}) missing from current font.\n",
      "  plt.savefig(fname, dpi=200)\n",
      "D:\\code\\env\\anaconda\\envs\\mhy-yolo\\Lib\\site-packages\\ultralytics\\utils\\plotting.py:921: UserWarning: Glyph 21830 (\\N{CJK UNIFIED IDEOGRAPH-5546}) missing from current font.\n",
      "  plt.savefig(fname, dpi=200)\n",
      "D:\\code\\env\\anaconda\\envs\\mhy-yolo\\Lib\\site-packages\\ultralytics\\utils\\plotting.py:921: UserWarning: Glyph 24215 (\\N{CJK UNIFIED IDEOGRAPH-5E97}) missing from current font.\n",
      "  plt.savefig(fname, dpi=200)\n",
      "D:\\code\\env\\anaconda\\envs\\mhy-yolo\\Lib\\site-packages\\ultralytics\\utils\\plotting.py:921: UserWarning: Glyph 25370 (\\N{CJK UNIFIED IDEOGRAPH-631A}) missing from current font.\n",
      "  plt.savefig(fname, dpi=200)\n",
      "D:\\code\\env\\anaconda\\envs\\mhy-yolo\\Lib\\site-packages\\ultralytics\\utils\\plotting.py:921: UserWarning: Glyph 20132 (\\N{CJK UNIFIED IDEOGRAPH-4EA4}) missing from current font.\n",
      "  plt.savefig(fname, dpi=200)\n",
      "D:\\code\\env\\anaconda\\envs\\mhy-yolo\\Lib\\site-packages\\ultralytics\\utils\\plotting.py:921: UserWarning: Glyph 20250 (\\N{CJK UNIFIED IDEOGRAPH-4F1A}) missing from current font.\n",
      "  plt.savefig(fname, dpi=200)\n",
      "D:\\code\\env\\anaconda\\envs\\mhy-yolo\\Lib\\site-packages\\ultralytics\\utils\\plotting.py:921: UserWarning: Glyph 35848 (\\N{CJK UNIFIED IDEOGRAPH-8C08}) missing from current font.\n",
      "  plt.savefig(fname, dpi=200)\n",
      "D:\\code\\env\\anaconda\\envs\\mhy-yolo\\Lib\\site-packages\\ultralytics\\utils\\plotting.py:921: UserWarning: Glyph 36947 (\\N{CJK UNIFIED IDEOGRAPH-9053}) missing from current font.\n",
      "  plt.savefig(fname, dpi=200)\n",
      "D:\\code\\env\\anaconda\\envs\\mhy-yolo\\Lib\\site-packages\\ultralytics\\utils\\plotting.py:921: UserWarning: Glyph 20013 (\\N{CJK UNIFIED IDEOGRAPH-4E2D}) missing from current font.\n",
      "  plt.savefig(fname, dpi=200)\n",
      "D:\\code\\env\\anaconda\\envs\\mhy-yolo\\Lib\\site-packages\\ultralytics\\utils\\plotting.py:921: UserWarning: Glyph 21361 (\\N{CJK UNIFIED IDEOGRAPH-5371}) missing from current font.\n",
      "  plt.savefig(fname, dpi=200)\n",
      "D:\\code\\env\\anaconda\\envs\\mhy-yolo\\Lib\\site-packages\\ultralytics\\utils\\plotting.py:921: UserWarning: Glyph 26426 (\\N{CJK UNIFIED IDEOGRAPH-673A}) missing from current font.\n",
      "  plt.savefig(fname, dpi=200)\n",
      "D:\\code\\env\\anaconda\\envs\\mhy-yolo\\Lib\\site-packages\\ultralytics\\utils\\plotting.py:921: UserWarning: Glyph 32456 (\\N{CJK UNIFIED IDEOGRAPH-7EC8}) missing from current font.\n",
      "  plt.savefig(fname, dpi=200)\n",
      "D:\\code\\env\\anaconda\\envs\\mhy-yolo\\Lib\\site-packages\\ultralytics\\utils\\plotting.py:921: UserWarning: Glyph 32467 (\\N{CJK UNIFIED IDEOGRAPH-7ED3}) missing from current font.\n",
      "  plt.savefig(fname, dpi=200)\n",
      "D:\\code\\env\\anaconda\\envs\\mhy-yolo\\Lib\\site-packages\\ultralytics\\utils\\plotting.py:921: UserWarning: Glyph 24441 (\\N{CJK UNIFIED IDEOGRAPH-5F79}) missing from current font.\n",
      "  plt.savefig(fname, dpi=200)\n"
     ]
    },
    {
     "name": "stdout",
     "output_type": "stream",
     "text": [
      "\u001b[34m\u001b[1moptimizer:\u001b[0m 'optimizer=auto' found, ignoring 'lr0=0.01' and 'momentum=0.937' and determining best 'optimizer', 'lr0' and 'momentum' automatically... \n",
      "\u001b[34m\u001b[1moptimizer:\u001b[0m AdamW(lr=0.000556, momentum=0.9) with parameter groups 63 weight(decay=0.0), 70 weight(decay=0.00046875), 69 bias(decay=0.0)\n",
      "Image sizes 736 train, 736 val\n",
      "Using 8 dataloader workers\n",
      "Logging results to \u001b[1mD:\\code\\workspace\\OneDragon-YOLO\\ultralytics\\runs\\zzz_lost_void_det_2208\\yolov8n-736\u001b[0m\n",
      "Starting training for 1000 epochs...\n",
      "\n",
      "      Epoch    GPU_mem   box_loss   cls_loss   dfl_loss  Instances       Size\n"
     ]
    },
    {
     "name": "stderr",
     "output_type": "stream",
     "text": [
      "     1/1000      10.8G      1.295      6.056     0.9047         18        736: 100%|██████████| 21/21 [00:08<00:00,  2.55it/s]\n"
     ]
    },
    {
     "name": "stdout",
     "output_type": "stream",
     "text": [
      "\n",
      "      Epoch    GPU_mem   box_loss   cls_loss   dfl_loss  Instances       Size\n"
     ]
    },
    {
     "name": "stderr",
     "output_type": "stream",
     "text": [
      "     2/1000      10.8G     0.9984      4.904     0.8111         13        736: 100%|██████████| 21/21 [00:05<00:00,  4.16it/s]\n"
     ]
    },
    {
     "name": "stdout",
     "output_type": "stream",
     "text": [
      "\n",
      "      Epoch    GPU_mem   box_loss   cls_loss   dfl_loss  Instances       Size\n"
     ]
    },
    {
     "name": "stderr",
     "output_type": "stream",
     "text": [
      "     3/1000      10.8G     0.9158      3.935     0.8108         21        736: 100%|██████████| 21/21 [00:05<00:00,  4.13it/s]\n"
     ]
    },
    {
     "name": "stdout",
     "output_type": "stream",
     "text": [
      "\n",
      "      Epoch    GPU_mem   box_loss   cls_loss   dfl_loss  Instances       Size\n"
     ]
    },
    {
     "name": "stderr",
     "output_type": "stream",
     "text": [
      "     4/1000      10.8G     0.8573      3.381     0.8008         14        736: 100%|██████████| 21/21 [00:04<00:00,  4.26it/s]\n"
     ]
    },
    {
     "name": "stdout",
     "output_type": "stream",
     "text": [
      "\n",
      "      Epoch    GPU_mem   box_loss   cls_loss   dfl_loss  Instances       Size\n"
     ]
    },
    {
     "name": "stderr",
     "output_type": "stream",
     "text": [
      "     5/1000      10.8G     0.8522      2.971     0.8049         14        736: 100%|██████████| 21/21 [00:01<00:00, 11.20it/s]  \n"
     ]
    },
    {
     "name": "stdout",
     "output_type": "stream",
     "text": [
      "\n",
      "      Epoch    GPU_mem   box_loss   cls_loss   dfl_loss  Instances       Size\n"
     ]
    },
    {
     "name": "stderr",
     "output_type": "stream",
     "text": [
      "     6/1000      10.8G     0.7896      2.546     0.8107         14        736: 100%|██████████| 21/21 [00:04<00:00,  4.27it/s]\n"
     ]
    },
    {
     "name": "stdout",
     "output_type": "stream",
     "text": [
      "\n",
      "      Epoch    GPU_mem   box_loss   cls_loss   dfl_loss  Instances       Size\n"
     ]
    },
    {
     "name": "stderr",
     "output_type": "stream",
     "text": [
      "     7/1000      10.8G     0.7403      2.206     0.8119         13        736: 100%|██████████| 21/21 [00:04<00:00,  4.25it/s]\n"
     ]
    },
    {
     "name": "stdout",
     "output_type": "stream",
     "text": [
      "\n",
      "      Epoch    GPU_mem   box_loss   cls_loss   dfl_loss  Instances       Size\n"
     ]
    },
    {
     "name": "stderr",
     "output_type": "stream",
     "text": [
      "     8/1000      10.8G     0.7457      1.961     0.8073         13        736: 100%|██████████| 21/21 [00:04<00:00,  4.25it/s]\n"
     ]
    },
    {
     "name": "stdout",
     "output_type": "stream",
     "text": [
      "\n",
      "      Epoch    GPU_mem   box_loss   cls_loss   dfl_loss  Instances       Size\n"
     ]
    },
    {
     "name": "stderr",
     "output_type": "stream",
     "text": [
      "     9/1000      10.8G     0.6927      1.633     0.8025         15        736: 100%|██████████| 21/21 [00:04<00:00,  4.26it/s]\n"
     ]
    },
    {
     "name": "stdout",
     "output_type": "stream",
     "text": [
      "\n",
      "      Epoch    GPU_mem   box_loss   cls_loss   dfl_loss  Instances       Size\n"
     ]
    },
    {
     "name": "stderr",
     "output_type": "stream",
     "text": [
      "    10/1000      10.8G     0.6872      1.421     0.8046         12        736: 100%|██████████| 21/21 [00:04<00:00,  4.27it/s]\n"
     ]
    },
    {
     "name": "stdout",
     "output_type": "stream",
     "text": [
      "\n",
      "      Epoch    GPU_mem   box_loss   cls_loss   dfl_loss  Instances       Size\n"
     ]
    },
    {
     "name": "stderr",
     "output_type": "stream",
     "text": [
      "    11/1000      10.8G     0.6369      1.198      0.805         20        736: 100%|██████████| 21/21 [00:04<00:00,  4.23it/s]\n"
     ]
    },
    {
     "name": "stdout",
     "output_type": "stream",
     "text": [
      "\n",
      "      Epoch    GPU_mem   box_loss   cls_loss   dfl_loss  Instances       Size\n"
     ]
    },
    {
     "name": "stderr",
     "output_type": "stream",
     "text": [
      "    12/1000      10.8G     0.6258      1.114     0.7981         17        736: 100%|██████████| 21/21 [00:04<00:00,  4.27it/s]\n"
     ]
    },
    {
     "name": "stdout",
     "output_type": "stream",
     "text": [
      "\n",
      "      Epoch    GPU_mem   box_loss   cls_loss   dfl_loss  Instances       Size\n"
     ]
    },
    {
     "name": "stderr",
     "output_type": "stream",
     "text": [
      "    13/1000      10.8G     0.6126       1.03     0.7991         15        736: 100%|██████████| 21/21 [00:04<00:00,  4.26it/s]\n"
     ]
    },
    {
     "name": "stdout",
     "output_type": "stream",
     "text": [
      "\n",
      "      Epoch    GPU_mem   box_loss   cls_loss   dfl_loss  Instances       Size\n"
     ]
    },
    {
     "name": "stderr",
     "output_type": "stream",
     "text": [
      "    14/1000      10.8G     0.5845     0.9858       0.79         11        736: 100%|██████████| 21/21 [00:04<00:00,  4.24it/s]\n"
     ]
    },
    {
     "name": "stdout",
     "output_type": "stream",
     "text": [
      "\n",
      "      Epoch    GPU_mem   box_loss   cls_loss   dfl_loss  Instances       Size\n"
     ]
    },
    {
     "name": "stderr",
     "output_type": "stream",
     "text": [
      "    15/1000      10.8G     0.5577     0.9108      0.795         18        736: 100%|██████████| 21/21 [00:04<00:00,  4.26it/s]\n"
     ]
    },
    {
     "name": "stdout",
     "output_type": "stream",
     "text": [
      "\n",
      "      Epoch    GPU_mem   box_loss   cls_loss   dfl_loss  Instances       Size\n"
     ]
    },
    {
     "name": "stderr",
     "output_type": "stream",
     "text": [
      "    16/1000      10.8G      0.541     0.8444     0.7968         17        736: 100%|██████████| 21/21 [00:04<00:00,  4.24it/s]\n"
     ]
    },
    {
     "name": "stdout",
     "output_type": "stream",
     "text": [
      "\n",
      "      Epoch    GPU_mem   box_loss   cls_loss   dfl_loss  Instances       Size\n"
     ]
    },
    {
     "name": "stderr",
     "output_type": "stream",
     "text": [
      "    17/1000      10.8G     0.5224     0.8068     0.7852         19        736: 100%|██████████| 21/21 [00:04<00:00,  4.26it/s]\n"
     ]
    },
    {
     "name": "stdout",
     "output_type": "stream",
     "text": [
      "\n",
      "      Epoch    GPU_mem   box_loss   cls_loss   dfl_loss  Instances       Size\n"
     ]
    },
    {
     "name": "stderr",
     "output_type": "stream",
     "text": [
      "    18/1000      10.8G     0.5398     0.7678     0.7933         17        736: 100%|██████████| 21/21 [00:04<00:00,  4.25it/s]\n"
     ]
    },
    {
     "name": "stdout",
     "output_type": "stream",
     "text": [
      "\n",
      "      Epoch    GPU_mem   box_loss   cls_loss   dfl_loss  Instances       Size\n"
     ]
    },
    {
     "name": "stderr",
     "output_type": "stream",
     "text": [
      "    19/1000      10.8G     0.5068     0.7348     0.7863         13        736: 100%|██████████| 21/21 [00:04<00:00,  4.25it/s]\n"
     ]
    },
    {
     "name": "stdout",
     "output_type": "stream",
     "text": [
      "\n",
      "      Epoch    GPU_mem   box_loss   cls_loss   dfl_loss  Instances       Size\n"
     ]
    },
    {
     "name": "stderr",
     "output_type": "stream",
     "text": [
      "    20/1000      10.8G     0.4938     0.7074     0.7947         14        736: 100%|██████████| 21/21 [00:04<00:00,  4.28it/s]\n"
     ]
    },
    {
     "name": "stdout",
     "output_type": "stream",
     "text": [
      "\n",
      "      Epoch    GPU_mem   box_loss   cls_loss   dfl_loss  Instances       Size\n"
     ]
    },
    {
     "name": "stderr",
     "output_type": "stream",
     "text": [
      "    21/1000      10.8G     0.5266     0.6813     0.7992         17        736: 100%|██████████| 21/21 [00:04<00:00,  4.26it/s]\n"
     ]
    },
    {
     "name": "stdout",
     "output_type": "stream",
     "text": [
      "\n",
      "      Epoch    GPU_mem   box_loss   cls_loss   dfl_loss  Instances       Size\n"
     ]
    },
    {
     "name": "stderr",
     "output_type": "stream",
     "text": [
      "    22/1000      10.8G     0.4978     0.6658     0.7868         12        736: 100%|██████████| 21/21 [00:04<00:00,  4.25it/s]\n"
     ]
    },
    {
     "name": "stdout",
     "output_type": "stream",
     "text": [
      "\n",
      "      Epoch    GPU_mem   box_loss   cls_loss   dfl_loss  Instances       Size\n"
     ]
    },
    {
     "name": "stderr",
     "output_type": "stream",
     "text": [
      "    23/1000      10.8G     0.4705     0.6226     0.7922         18        736: 100%|██████████| 21/21 [00:04<00:00,  4.25it/s]\n"
     ]
    },
    {
     "name": "stdout",
     "output_type": "stream",
     "text": [
      "\n",
      "      Epoch    GPU_mem   box_loss   cls_loss   dfl_loss  Instances       Size\n"
     ]
    },
    {
     "name": "stderr",
     "output_type": "stream",
     "text": [
      "    24/1000      10.7G     0.4724     0.6092     0.7882         22        736: 100%|██████████| 21/21 [00:04<00:00,  4.27it/s]\n"
     ]
    },
    {
     "name": "stdout",
     "output_type": "stream",
     "text": [
      "\n",
      "      Epoch    GPU_mem   box_loss   cls_loss   dfl_loss  Instances       Size\n"
     ]
    },
    {
     "name": "stderr",
     "output_type": "stream",
     "text": [
      "    25/1000      10.8G     0.4599     0.5941     0.7819         25        736: 100%|██████████| 21/21 [00:04<00:00,  4.25it/s]\n"
     ]
    },
    {
     "name": "stdout",
     "output_type": "stream",
     "text": [
      "\n",
      "      Epoch    GPU_mem   box_loss   cls_loss   dfl_loss  Instances       Size\n"
     ]
    },
    {
     "name": "stderr",
     "output_type": "stream",
     "text": [
      "    26/1000      10.8G     0.4521     0.5755     0.7826         17        736: 100%|██████████| 21/21 [00:04<00:00,  4.26it/s]\n"
     ]
    },
    {
     "name": "stdout",
     "output_type": "stream",
     "text": [
      "\n",
      "      Epoch    GPU_mem   box_loss   cls_loss   dfl_loss  Instances       Size\n"
     ]
    },
    {
     "name": "stderr",
     "output_type": "stream",
     "text": [
      "    27/1000      10.8G     0.4437      0.552     0.7871         18        736: 100%|██████████| 21/21 [00:04<00:00,  4.23it/s]\n"
     ]
    },
    {
     "name": "stdout",
     "output_type": "stream",
     "text": [
      "\n",
      "      Epoch    GPU_mem   box_loss   cls_loss   dfl_loss  Instances       Size\n"
     ]
    },
    {
     "name": "stderr",
     "output_type": "stream",
     "text": [
      "    28/1000      10.8G     0.4406     0.5406     0.7886         17        736: 100%|██████████| 21/21 [00:04<00:00,  4.25it/s]\n"
     ]
    },
    {
     "name": "stdout",
     "output_type": "stream",
     "text": [
      "\n",
      "      Epoch    GPU_mem   box_loss   cls_loss   dfl_loss  Instances       Size\n"
     ]
    },
    {
     "name": "stderr",
     "output_type": "stream",
     "text": [
      "    29/1000      10.8G     0.4268     0.5168     0.7917         20        736: 100%|██████████| 21/21 [00:04<00:00,  4.25it/s]\n"
     ]
    },
    {
     "name": "stdout",
     "output_type": "stream",
     "text": [
      "\n",
      "      Epoch    GPU_mem   box_loss   cls_loss   dfl_loss  Instances       Size\n"
     ]
    },
    {
     "name": "stderr",
     "output_type": "stream",
     "text": [
      "    30/1000      10.8G     0.4243     0.5103     0.7827         12        736: 100%|██████████| 21/21 [00:04<00:00,  4.25it/s]\n"
     ]
    },
    {
     "name": "stdout",
     "output_type": "stream",
     "text": [
      "\n",
      "      Epoch    GPU_mem   box_loss   cls_loss   dfl_loss  Instances       Size\n"
     ]
    },
    {
     "name": "stderr",
     "output_type": "stream",
     "text": [
      "    31/1000      10.8G     0.4241     0.5057      0.783         20        736: 100%|██████████| 21/21 [00:04<00:00,  4.27it/s]\n"
     ]
    },
    {
     "name": "stdout",
     "output_type": "stream",
     "text": [
      "\n",
      "      Epoch    GPU_mem   box_loss   cls_loss   dfl_loss  Instances       Size\n"
     ]
    },
    {
     "name": "stderr",
     "output_type": "stream",
     "text": [
      "    32/1000      10.8G     0.4134     0.4797     0.7902         14        736: 100%|██████████| 21/21 [00:04<00:00,  4.26it/s]\n"
     ]
    },
    {
     "name": "stdout",
     "output_type": "stream",
     "text": [
      "\n",
      "      Epoch    GPU_mem   box_loss   cls_loss   dfl_loss  Instances       Size\n"
     ]
    },
    {
     "name": "stderr",
     "output_type": "stream",
     "text": [
      "    33/1000      10.8G     0.3995     0.4646     0.7821         16        736: 100%|██████████| 21/21 [00:04<00:00,  4.25it/s]\n"
     ]
    },
    {
     "name": "stdout",
     "output_type": "stream",
     "text": [
      "\n",
      "      Epoch    GPU_mem   box_loss   cls_loss   dfl_loss  Instances       Size\n"
     ]
    },
    {
     "name": "stderr",
     "output_type": "stream",
     "text": [
      "    34/1000      10.8G      0.397     0.4503     0.7859         19        736: 100%|██████████| 21/21 [00:04<00:00,  4.27it/s]\n"
     ]
    },
    {
     "name": "stdout",
     "output_type": "stream",
     "text": [
      "\n",
      "      Epoch    GPU_mem   box_loss   cls_loss   dfl_loss  Instances       Size\n"
     ]
    },
    {
     "name": "stderr",
     "output_type": "stream",
     "text": [
      "    35/1000      10.8G      0.377     0.4452     0.7811         12        736: 100%|██████████| 21/21 [00:04<00:00,  4.25it/s]\n"
     ]
    },
    {
     "name": "stdout",
     "output_type": "stream",
     "text": [
      "\n",
      "      Epoch    GPU_mem   box_loss   cls_loss   dfl_loss  Instances       Size\n"
     ]
    },
    {
     "name": "stderr",
     "output_type": "stream",
     "text": [
      "    36/1000      10.8G     0.3831     0.4435     0.7719         12        736: 100%|██████████| 21/21 [00:04<00:00,  4.27it/s]\n"
     ]
    },
    {
     "name": "stdout",
     "output_type": "stream",
     "text": [
      "\n",
      "      Epoch    GPU_mem   box_loss   cls_loss   dfl_loss  Instances       Size\n"
     ]
    },
    {
     "name": "stderr",
     "output_type": "stream",
     "text": [
      "    37/1000      10.8G     0.3974     0.4341     0.7848         20        736: 100%|██████████| 21/21 [00:04<00:00,  4.26it/s]\n"
     ]
    },
    {
     "name": "stdout",
     "output_type": "stream",
     "text": [
      "\n",
      "      Epoch    GPU_mem   box_loss   cls_loss   dfl_loss  Instances       Size\n"
     ]
    },
    {
     "name": "stderr",
     "output_type": "stream",
     "text": [
      "    38/1000      10.8G     0.3896     0.4241      0.779         16        736: 100%|██████████| 21/21 [00:04<00:00,  4.24it/s]\n"
     ]
    },
    {
     "name": "stdout",
     "output_type": "stream",
     "text": [
      "\n",
      "      Epoch    GPU_mem   box_loss   cls_loss   dfl_loss  Instances       Size\n"
     ]
    },
    {
     "name": "stderr",
     "output_type": "stream",
     "text": [
      "    39/1000      10.8G     0.4428     0.4284     0.7859         10        736: 100%|██████████| 21/21 [00:04<00:00,  4.26it/s]\n"
     ]
    },
    {
     "name": "stdout",
     "output_type": "stream",
     "text": [
      "\n",
      "      Epoch    GPU_mem   box_loss   cls_loss   dfl_loss  Instances       Size\n"
     ]
    },
    {
     "name": "stderr",
     "output_type": "stream",
     "text": [
      "    40/1000      10.8G     0.4084     0.4142     0.7757         12        736: 100%|██████████| 21/21 [00:04<00:00,  4.24it/s]\n"
     ]
    },
    {
     "name": "stdout",
     "output_type": "stream",
     "text": [
      "\n",
      "      Epoch    GPU_mem   box_loss   cls_loss   dfl_loss  Instances       Size\n"
     ]
    },
    {
     "name": "stderr",
     "output_type": "stream",
     "text": [
      "    41/1000      10.8G      0.399     0.3959     0.7805         15        736: 100%|██████████| 21/21 [00:04<00:00,  4.22it/s]\n"
     ]
    },
    {
     "name": "stdout",
     "output_type": "stream",
     "text": [
      "\n",
      "      Epoch    GPU_mem   box_loss   cls_loss   dfl_loss  Instances       Size\n"
     ]
    },
    {
     "name": "stderr",
     "output_type": "stream",
     "text": [
      "    42/1000      10.8G     0.3511     0.3824     0.7851         15        736: 100%|██████████| 21/21 [00:04<00:00,  4.27it/s]\n"
     ]
    },
    {
     "name": "stdout",
     "output_type": "stream",
     "text": [
      "\n",
      "      Epoch    GPU_mem   box_loss   cls_loss   dfl_loss  Instances       Size\n"
     ]
    },
    {
     "name": "stderr",
     "output_type": "stream",
     "text": [
      "    43/1000      10.8G     0.3446     0.3755     0.7843         22        736: 100%|██████████| 21/21 [00:04<00:00,  4.26it/s]\n"
     ]
    },
    {
     "name": "stdout",
     "output_type": "stream",
     "text": [
      "\n",
      "      Epoch    GPU_mem   box_loss   cls_loss   dfl_loss  Instances       Size\n"
     ]
    },
    {
     "name": "stderr",
     "output_type": "stream",
     "text": [
      "    44/1000      10.8G     0.3765      0.384     0.7792         14        736: 100%|██████████| 21/21 [00:04<00:00,  4.24it/s]\n"
     ]
    },
    {
     "name": "stdout",
     "output_type": "stream",
     "text": [
      "\n",
      "      Epoch    GPU_mem   box_loss   cls_loss   dfl_loss  Instances       Size\n"
     ]
    },
    {
     "name": "stderr",
     "output_type": "stream",
     "text": [
      "    45/1000      10.8G     0.3584     0.3732     0.7808         16        736: 100%|██████████| 21/21 [00:04<00:00,  4.26it/s]\n"
     ]
    },
    {
     "name": "stdout",
     "output_type": "stream",
     "text": [
      "\n",
      "      Epoch    GPU_mem   box_loss   cls_loss   dfl_loss  Instances       Size\n"
     ]
    },
    {
     "name": "stderr",
     "output_type": "stream",
     "text": [
      "    46/1000      10.8G      0.366     0.3647     0.7856         14        736: 100%|██████████| 21/21 [00:04<00:00,  4.25it/s]\n"
     ]
    },
    {
     "name": "stdout",
     "output_type": "stream",
     "text": [
      "\n",
      "      Epoch    GPU_mem   box_loss   cls_loss   dfl_loss  Instances       Size\n"
     ]
    },
    {
     "name": "stderr",
     "output_type": "stream",
     "text": [
      "    47/1000      10.8G     0.3459     0.3549     0.7821         13        736: 100%|██████████| 21/21 [00:04<00:00,  4.25it/s]\n"
     ]
    },
    {
     "name": "stdout",
     "output_type": "stream",
     "text": [
      "\n",
      "      Epoch    GPU_mem   box_loss   cls_loss   dfl_loss  Instances       Size\n"
     ]
    },
    {
     "name": "stderr",
     "output_type": "stream",
     "text": [
      "    48/1000      10.8G      0.338     0.3466     0.7829         15        736: 100%|██████████| 21/21 [00:04<00:00,  4.27it/s]\n"
     ]
    },
    {
     "name": "stdout",
     "output_type": "stream",
     "text": [
      "\n",
      "      Epoch    GPU_mem   box_loss   cls_loss   dfl_loss  Instances       Size\n"
     ]
    },
    {
     "name": "stderr",
     "output_type": "stream",
     "text": [
      "    49/1000      10.8G     0.3399     0.3521      0.783         15        736: 100%|██████████| 21/21 [00:04<00:00,  4.25it/s]\n"
     ]
    },
    {
     "name": "stdout",
     "output_type": "stream",
     "text": [
      "\n",
      "      Epoch    GPU_mem   box_loss   cls_loss   dfl_loss  Instances       Size\n"
     ]
    },
    {
     "name": "stderr",
     "output_type": "stream",
     "text": [
      "    50/1000      10.8G     0.3375     0.3469      0.775         19        736: 100%|██████████| 21/21 [00:04<00:00,  4.26it/s]\n"
     ]
    },
    {
     "name": "stdout",
     "output_type": "stream",
     "text": [
      "\n",
      "      Epoch    GPU_mem   box_loss   cls_loss   dfl_loss  Instances       Size\n"
     ]
    },
    {
     "name": "stderr",
     "output_type": "stream",
     "text": [
      "    51/1000      10.8G     0.3369      0.339     0.7764         17        736: 100%|██████████| 21/21 [00:04<00:00,  4.24it/s]\n"
     ]
    },
    {
     "name": "stdout",
     "output_type": "stream",
     "text": [
      "\n",
      "      Epoch    GPU_mem   box_loss   cls_loss   dfl_loss  Instances       Size\n"
     ]
    },
    {
     "name": "stderr",
     "output_type": "stream",
     "text": [
      "    52/1000      10.8G     0.3454      0.342     0.7784         17        736: 100%|██████████| 21/21 [00:04<00:00,  4.22it/s]\n"
     ]
    },
    {
     "name": "stdout",
     "output_type": "stream",
     "text": [
      "\n",
      "      Epoch    GPU_mem   box_loss   cls_loss   dfl_loss  Instances       Size\n"
     ]
    },
    {
     "name": "stderr",
     "output_type": "stream",
     "text": [
      "    53/1000      10.8G     0.3352     0.3365     0.7809         16        736: 100%|██████████| 21/21 [00:04<00:00,  4.26it/s]\n"
     ]
    },
    {
     "name": "stdout",
     "output_type": "stream",
     "text": [
      "\n",
      "      Epoch    GPU_mem   box_loss   cls_loss   dfl_loss  Instances       Size\n"
     ]
    },
    {
     "name": "stderr",
     "output_type": "stream",
     "text": [
      "    54/1000      10.8G     0.3205     0.3276     0.7771         13        736: 100%|██████████| 21/21 [00:04<00:00,  4.27it/s]\n"
     ]
    },
    {
     "name": "stdout",
     "output_type": "stream",
     "text": [
      "\n",
      "      Epoch    GPU_mem   box_loss   cls_loss   dfl_loss  Instances       Size\n"
     ]
    },
    {
     "name": "stderr",
     "output_type": "stream",
     "text": [
      "    55/1000      10.8G     0.3196     0.3199     0.7781         15        736: 100%|██████████| 21/21 [00:04<00:00,  4.26it/s]\n"
     ]
    },
    {
     "name": "stdout",
     "output_type": "stream",
     "text": [
      "\n",
      "      Epoch    GPU_mem   box_loss   cls_loss   dfl_loss  Instances       Size\n"
     ]
    },
    {
     "name": "stderr",
     "output_type": "stream",
     "text": [
      "    56/1000      10.8G     0.3246      0.323     0.7706         22        736: 100%|██████████| 21/21 [00:04<00:00,  4.27it/s]\n"
     ]
    },
    {
     "name": "stdout",
     "output_type": "stream",
     "text": [
      "\n",
      "      Epoch    GPU_mem   box_loss   cls_loss   dfl_loss  Instances       Size\n"
     ]
    },
    {
     "name": "stderr",
     "output_type": "stream",
     "text": [
      "    57/1000      10.8G     0.3179     0.3118     0.7798         13        736: 100%|██████████| 21/21 [00:04<00:00,  4.24it/s]\n"
     ]
    },
    {
     "name": "stdout",
     "output_type": "stream",
     "text": [
      "\n",
      "      Epoch    GPU_mem   box_loss   cls_loss   dfl_loss  Instances       Size\n"
     ]
    },
    {
     "name": "stderr",
     "output_type": "stream",
     "text": [
      "    58/1000      10.8G     0.3202      0.312      0.779         15        736: 100%|██████████| 21/21 [00:04<00:00,  4.22it/s]\n"
     ]
    },
    {
     "name": "stdout",
     "output_type": "stream",
     "text": [
      "\n",
      "      Epoch    GPU_mem   box_loss   cls_loss   dfl_loss  Instances       Size\n"
     ]
    },
    {
     "name": "stderr",
     "output_type": "stream",
     "text": [
      "    59/1000      10.8G     0.3182     0.3084     0.7838         12        736: 100%|██████████| 21/21 [00:05<00:00,  4.17it/s]\n"
     ]
    },
    {
     "name": "stdout",
     "output_type": "stream",
     "text": [
      "\n",
      "      Epoch    GPU_mem   box_loss   cls_loss   dfl_loss  Instances       Size\n"
     ]
    },
    {
     "name": "stderr",
     "output_type": "stream",
     "text": [
      "    60/1000      10.8G     0.3209     0.3111     0.7795         14        736: 100%|██████████| 21/21 [00:05<00:00,  4.20it/s]\n"
     ]
    },
    {
     "name": "stdout",
     "output_type": "stream",
     "text": [
      "\n",
      "      Epoch    GPU_mem   box_loss   cls_loss   dfl_loss  Instances       Size\n"
     ]
    },
    {
     "name": "stderr",
     "output_type": "stream",
     "text": [
      "    61/1000      10.8G     0.3109     0.3014     0.7768         16        736: 100%|██████████| 21/21 [00:04<00:00,  4.23it/s]\n"
     ]
    },
    {
     "name": "stdout",
     "output_type": "stream",
     "text": [
      "\n",
      "      Epoch    GPU_mem   box_loss   cls_loss   dfl_loss  Instances       Size\n"
     ]
    },
    {
     "name": "stderr",
     "output_type": "stream",
     "text": [
      "    62/1000      10.8G     0.2936     0.2981     0.7761         17        736: 100%|██████████| 21/21 [00:04<00:00,  4.22it/s]\n"
     ]
    },
    {
     "name": "stdout",
     "output_type": "stream",
     "text": [
      "\n",
      "      Epoch    GPU_mem   box_loss   cls_loss   dfl_loss  Instances       Size\n"
     ]
    },
    {
     "name": "stderr",
     "output_type": "stream",
     "text": [
      "    63/1000      10.8G     0.3127     0.2983     0.7766         14        736: 100%|██████████| 21/21 [00:05<00:00,  4.19it/s]\n"
     ]
    },
    {
     "name": "stdout",
     "output_type": "stream",
     "text": [
      "\n",
      "      Epoch    GPU_mem   box_loss   cls_loss   dfl_loss  Instances       Size\n"
     ]
    },
    {
     "name": "stderr",
     "output_type": "stream",
     "text": [
      "    64/1000      10.8G     0.3014     0.2948     0.7675         16        736: 100%|██████████| 21/21 [00:04<00:00,  4.20it/s]\n"
     ]
    },
    {
     "name": "stdout",
     "output_type": "stream",
     "text": [
      "\n",
      "      Epoch    GPU_mem   box_loss   cls_loss   dfl_loss  Instances       Size\n"
     ]
    },
    {
     "name": "stderr",
     "output_type": "stream",
     "text": [
      "    65/1000      10.8G      0.295      0.289     0.7811         13        736: 100%|██████████| 21/21 [00:04<00:00,  4.21it/s]\n"
     ]
    },
    {
     "name": "stdout",
     "output_type": "stream",
     "text": [
      "\n",
      "      Epoch    GPU_mem   box_loss   cls_loss   dfl_loss  Instances       Size\n"
     ]
    },
    {
     "name": "stderr",
     "output_type": "stream",
     "text": [
      "    66/1000      10.8G     0.2927     0.2799     0.7805         15        736: 100%|██████████| 21/21 [00:04<00:00,  4.23it/s]\n"
     ]
    },
    {
     "name": "stdout",
     "output_type": "stream",
     "text": [
      "\n",
      "      Epoch    GPU_mem   box_loss   cls_loss   dfl_loss  Instances       Size\n"
     ]
    },
    {
     "name": "stderr",
     "output_type": "stream",
     "text": [
      "    67/1000      10.8G     0.2965     0.2836     0.7742         11        736: 100%|██████████| 21/21 [00:04<00:00,  4.21it/s]\n"
     ]
    },
    {
     "name": "stdout",
     "output_type": "stream",
     "text": [
      "\n",
      "      Epoch    GPU_mem   box_loss   cls_loss   dfl_loss  Instances       Size\n"
     ]
    },
    {
     "name": "stderr",
     "output_type": "stream",
     "text": [
      "    68/1000      10.8G     0.2887     0.2728     0.7803         20        736: 100%|██████████| 21/21 [00:04<00:00,  4.22it/s]\n"
     ]
    },
    {
     "name": "stdout",
     "output_type": "stream",
     "text": [
      "\n",
      "      Epoch    GPU_mem   box_loss   cls_loss   dfl_loss  Instances       Size\n"
     ]
    },
    {
     "name": "stderr",
     "output_type": "stream",
     "text": [
      "    69/1000      10.8G     0.2888     0.2763     0.7775         23        736: 100%|██████████| 21/21 [00:05<00:00,  4.15it/s]\n"
     ]
    },
    {
     "name": "stdout",
     "output_type": "stream",
     "text": [
      "\n",
      "      Epoch    GPU_mem   box_loss   cls_loss   dfl_loss  Instances       Size\n"
     ]
    },
    {
     "name": "stderr",
     "output_type": "stream",
     "text": [
      "    70/1000      10.8G     0.2926     0.2814     0.7778         25        736: 100%|██████████| 21/21 [00:04<00:00,  4.26it/s]\n"
     ]
    },
    {
     "name": "stdout",
     "output_type": "stream",
     "text": [
      "\n",
      "      Epoch    GPU_mem   box_loss   cls_loss   dfl_loss  Instances       Size\n"
     ]
    },
    {
     "name": "stderr",
     "output_type": "stream",
     "text": [
      "    71/1000      10.8G     0.2826     0.2738     0.7767         13        736: 100%|██████████| 21/21 [00:05<00:00,  4.20it/s]\n"
     ]
    },
    {
     "name": "stdout",
     "output_type": "stream",
     "text": [
      "\n",
      "      Epoch    GPU_mem   box_loss   cls_loss   dfl_loss  Instances       Size\n"
     ]
    },
    {
     "name": "stderr",
     "output_type": "stream",
     "text": [
      "    72/1000      10.8G     0.2878     0.2722     0.7742         15        736: 100%|██████████| 21/21 [00:04<00:00,  4.26it/s]\n"
     ]
    },
    {
     "name": "stdout",
     "output_type": "stream",
     "text": [
      "\n",
      "      Epoch    GPU_mem   box_loss   cls_loss   dfl_loss  Instances       Size\n"
     ]
    },
    {
     "name": "stderr",
     "output_type": "stream",
     "text": [
      "    73/1000      10.8G     0.2895     0.2721     0.7719         16        736: 100%|██████████| 21/21 [00:04<00:00,  4.21it/s]\n"
     ]
    },
    {
     "name": "stdout",
     "output_type": "stream",
     "text": [
      "\n",
      "      Epoch    GPU_mem   box_loss   cls_loss   dfl_loss  Instances       Size\n"
     ]
    },
    {
     "name": "stderr",
     "output_type": "stream",
     "text": [
      "    74/1000      10.8G     0.2809     0.2672     0.7767         15        736: 100%|██████████| 21/21 [00:04<00:00,  4.24it/s]\n"
     ]
    },
    {
     "name": "stdout",
     "output_type": "stream",
     "text": [
      "\n",
      "      Epoch    GPU_mem   box_loss   cls_loss   dfl_loss  Instances       Size\n"
     ]
    },
    {
     "name": "stderr",
     "output_type": "stream",
     "text": [
      "    75/1000      10.8G     0.2741     0.2634     0.7783         16        736: 100%|██████████| 21/21 [00:04<00:00,  4.23it/s]\n"
     ]
    },
    {
     "name": "stdout",
     "output_type": "stream",
     "text": [
      "\n",
      "      Epoch    GPU_mem   box_loss   cls_loss   dfl_loss  Instances       Size\n"
     ]
    },
    {
     "name": "stderr",
     "output_type": "stream",
     "text": [
      "    76/1000      10.8G     0.2874     0.2677     0.7754         18        736: 100%|██████████| 21/21 [00:04<00:00,  4.23it/s]\n"
     ]
    },
    {
     "name": "stdout",
     "output_type": "stream",
     "text": [
      "\n",
      "      Epoch    GPU_mem   box_loss   cls_loss   dfl_loss  Instances       Size\n"
     ]
    },
    {
     "name": "stderr",
     "output_type": "stream",
     "text": [
      "    77/1000      10.8G     0.2849     0.2646     0.7733         15        736: 100%|██████████| 21/21 [00:04<00:00,  4.24it/s]\n"
     ]
    },
    {
     "name": "stdout",
     "output_type": "stream",
     "text": [
      "\n",
      "      Epoch    GPU_mem   box_loss   cls_loss   dfl_loss  Instances       Size\n"
     ]
    },
    {
     "name": "stderr",
     "output_type": "stream",
     "text": [
      "    78/1000      10.8G     0.2781     0.2572     0.7775         15        736: 100%|██████████| 21/21 [00:04<00:00,  4.25it/s]\n"
     ]
    },
    {
     "name": "stdout",
     "output_type": "stream",
     "text": [
      "\n",
      "      Epoch    GPU_mem   box_loss   cls_loss   dfl_loss  Instances       Size\n"
     ]
    },
    {
     "name": "stderr",
     "output_type": "stream",
     "text": [
      "    79/1000      10.8G     0.2782     0.2603     0.7752         12        736: 100%|██████████| 21/21 [00:04<00:00,  4.22it/s]\n"
     ]
    },
    {
     "name": "stdout",
     "output_type": "stream",
     "text": [
      "\n",
      "      Epoch    GPU_mem   box_loss   cls_loss   dfl_loss  Instances       Size\n"
     ]
    },
    {
     "name": "stderr",
     "output_type": "stream",
     "text": [
      "    80/1000      10.8G     0.2643     0.2565     0.7746         22        736: 100%|██████████| 21/21 [00:04<00:00,  4.25it/s]\n"
     ]
    },
    {
     "name": "stdout",
     "output_type": "stream",
     "text": [
      "\n",
      "      Epoch    GPU_mem   box_loss   cls_loss   dfl_loss  Instances       Size\n"
     ]
    },
    {
     "name": "stderr",
     "output_type": "stream",
     "text": [
      "    81/1000      10.8G     0.2623      0.252     0.7752         14        736: 100%|██████████| 21/21 [00:04<00:00,  4.25it/s]\n"
     ]
    },
    {
     "name": "stdout",
     "output_type": "stream",
     "text": [
      "\n",
      "      Epoch    GPU_mem   box_loss   cls_loss   dfl_loss  Instances       Size\n"
     ]
    },
    {
     "name": "stderr",
     "output_type": "stream",
     "text": [
      "    82/1000      10.8G     0.2686      0.254     0.7729         10        736: 100%|██████████| 21/21 [00:04<00:00,  4.24it/s]\n"
     ]
    },
    {
     "name": "stdout",
     "output_type": "stream",
     "text": [
      "\n",
      "      Epoch    GPU_mem   box_loss   cls_loss   dfl_loss  Instances       Size\n"
     ]
    },
    {
     "name": "stderr",
     "output_type": "stream",
     "text": [
      "    83/1000      10.8G     0.2751     0.2553     0.7711         10        736: 100%|██████████| 21/21 [00:04<00:00,  4.25it/s]\n"
     ]
    },
    {
     "name": "stdout",
     "output_type": "stream",
     "text": [
      "\n",
      "      Epoch    GPU_mem   box_loss   cls_loss   dfl_loss  Instances       Size\n"
     ]
    },
    {
     "name": "stderr",
     "output_type": "stream",
     "text": [
      "    84/1000      10.7G     0.2525     0.2383     0.7813         19        736: 100%|██████████| 21/21 [00:04<00:00,  4.29it/s]\n"
     ]
    },
    {
     "name": "stdout",
     "output_type": "stream",
     "text": [
      "\n",
      "      Epoch    GPU_mem   box_loss   cls_loss   dfl_loss  Instances       Size\n"
     ]
    },
    {
     "name": "stderr",
     "output_type": "stream",
     "text": [
      "    85/1000      10.8G     0.2781     0.2548     0.7736         22        736: 100%|██████████| 21/21 [00:04<00:00,  4.30it/s]\n"
     ]
    },
    {
     "name": "stdout",
     "output_type": "stream",
     "text": [
      "\n",
      "      Epoch    GPU_mem   box_loss   cls_loss   dfl_loss  Instances       Size\n"
     ]
    },
    {
     "name": "stderr",
     "output_type": "stream",
     "text": [
      "    86/1000      10.8G     0.2641     0.2434      0.774         13        736: 100%|██████████| 21/21 [00:04<00:00,  4.32it/s]\n"
     ]
    },
    {
     "name": "stdout",
     "output_type": "stream",
     "text": [
      "\n",
      "      Epoch    GPU_mem   box_loss   cls_loss   dfl_loss  Instances       Size\n"
     ]
    },
    {
     "name": "stderr",
     "output_type": "stream",
     "text": [
      "    87/1000      10.8G     0.2722      0.247     0.7682         19        736: 100%|██████████| 21/21 [00:04<00:00,  4.29it/s]\n"
     ]
    },
    {
     "name": "stdout",
     "output_type": "stream",
     "text": [
      "\n",
      "      Epoch    GPU_mem   box_loss   cls_loss   dfl_loss  Instances       Size\n"
     ]
    },
    {
     "name": "stderr",
     "output_type": "stream",
     "text": [
      "    88/1000      10.8G     0.2637     0.2394     0.7796         16        736: 100%|██████████| 21/21 [00:04<00:00,  4.31it/s]\n"
     ]
    },
    {
     "name": "stdout",
     "output_type": "stream",
     "text": [
      "\n",
      "      Epoch    GPU_mem   box_loss   cls_loss   dfl_loss  Instances       Size\n"
     ]
    },
    {
     "name": "stderr",
     "output_type": "stream",
     "text": [
      "    89/1000      10.8G      0.263      0.242     0.7786         19        736: 100%|██████████| 21/21 [00:04<00:00,  4.31it/s]\n"
     ]
    },
    {
     "name": "stdout",
     "output_type": "stream",
     "text": [
      "\n",
      "      Epoch    GPU_mem   box_loss   cls_loss   dfl_loss  Instances       Size\n"
     ]
    },
    {
     "name": "stderr",
     "output_type": "stream",
     "text": [
      "    90/1000      10.8G     0.2632     0.2451     0.7714         21        736: 100%|██████████| 21/21 [00:04<00:00,  4.30it/s]\n"
     ]
    },
    {
     "name": "stdout",
     "output_type": "stream",
     "text": [
      "\n",
      "      Epoch    GPU_mem   box_loss   cls_loss   dfl_loss  Instances       Size\n"
     ]
    },
    {
     "name": "stderr",
     "output_type": "stream",
     "text": [
      "    91/1000      10.8G     0.2707     0.2403     0.7786         17        736: 100%|██████████| 21/21 [00:04<00:00,  4.31it/s]\n"
     ]
    },
    {
     "name": "stdout",
     "output_type": "stream",
     "text": [
      "\n",
      "      Epoch    GPU_mem   box_loss   cls_loss   dfl_loss  Instances       Size\n"
     ]
    },
    {
     "name": "stderr",
     "output_type": "stream",
     "text": [
      "    92/1000      10.7G      0.266     0.2396     0.7737         16        736: 100%|██████████| 21/21 [00:04<00:00,  4.33it/s]\n"
     ]
    },
    {
     "name": "stdout",
     "output_type": "stream",
     "text": [
      "\n",
      "      Epoch    GPU_mem   box_loss   cls_loss   dfl_loss  Instances       Size\n"
     ]
    },
    {
     "name": "stderr",
     "output_type": "stream",
     "text": [
      "    93/1000      10.8G      0.254     0.2377     0.7668         12        736: 100%|██████████| 21/21 [00:04<00:00,  4.29it/s]\n"
     ]
    },
    {
     "name": "stdout",
     "output_type": "stream",
     "text": [
      "\n",
      "      Epoch    GPU_mem   box_loss   cls_loss   dfl_loss  Instances       Size\n"
     ]
    },
    {
     "name": "stderr",
     "output_type": "stream",
     "text": [
      "    94/1000      10.7G     0.2575     0.2386     0.7714         13        736: 100%|██████████| 21/21 [00:04<00:00,  4.32it/s]\n"
     ]
    },
    {
     "name": "stdout",
     "output_type": "stream",
     "text": [
      "\n",
      "      Epoch    GPU_mem   box_loss   cls_loss   dfl_loss  Instances       Size\n"
     ]
    },
    {
     "name": "stderr",
     "output_type": "stream",
     "text": [
      "    95/1000      10.8G     0.2645     0.2406     0.7738         23        736: 100%|██████████| 21/21 [00:04<00:00,  4.28it/s]\n"
     ]
    },
    {
     "name": "stdout",
     "output_type": "stream",
     "text": [
      "\n",
      "      Epoch    GPU_mem   box_loss   cls_loss   dfl_loss  Instances       Size\n"
     ]
    },
    {
     "name": "stderr",
     "output_type": "stream",
     "text": [
      "    96/1000      10.8G     0.2587     0.2318     0.7747         16        736: 100%|██████████| 21/21 [00:04<00:00,  4.31it/s]\n"
     ]
    },
    {
     "name": "stdout",
     "output_type": "stream",
     "text": [
      "\n",
      "      Epoch    GPU_mem   box_loss   cls_loss   dfl_loss  Instances       Size\n"
     ]
    },
    {
     "name": "stderr",
     "output_type": "stream",
     "text": [
      "    97/1000      10.8G     0.2623     0.2334     0.7773         15        736: 100%|██████████| 21/21 [00:04<00:00,  4.29it/s]\n"
     ]
    },
    {
     "name": "stdout",
     "output_type": "stream",
     "text": [
      "\n",
      "      Epoch    GPU_mem   box_loss   cls_loss   dfl_loss  Instances       Size\n"
     ]
    },
    {
     "name": "stderr",
     "output_type": "stream",
     "text": [
      "    98/1000      10.7G     0.2482     0.2301     0.7698         25        736: 100%|██████████| 21/21 [00:04<00:00,  4.29it/s]\n"
     ]
    },
    {
     "name": "stdout",
     "output_type": "stream",
     "text": [
      "\n",
      "      Epoch    GPU_mem   box_loss   cls_loss   dfl_loss  Instances       Size\n"
     ]
    },
    {
     "name": "stderr",
     "output_type": "stream",
     "text": [
      "    99/1000      10.8G     0.2532     0.2294      0.772         21        736: 100%|██████████| 21/21 [00:04<00:00,  4.30it/s]\n"
     ]
    },
    {
     "name": "stdout",
     "output_type": "stream",
     "text": [
      "\n",
      "      Epoch    GPU_mem   box_loss   cls_loss   dfl_loss  Instances       Size\n"
     ]
    },
    {
     "name": "stderr",
     "output_type": "stream",
     "text": [
      "   100/1000      10.8G     0.2596     0.2313      0.776         17        736: 100%|██████████| 21/21 [00:04<00:00,  4.31it/s]\n"
     ]
    },
    {
     "name": "stdout",
     "output_type": "stream",
     "text": [
      "\n",
      "      Epoch    GPU_mem   box_loss   cls_loss   dfl_loss  Instances       Size\n"
     ]
    },
    {
     "name": "stderr",
     "output_type": "stream",
     "text": [
      "   101/1000      10.8G     0.2461     0.2301     0.7771         20        736: 100%|██████████| 21/21 [00:04<00:00,  4.28it/s]\n"
     ]
    },
    {
     "name": "stdout",
     "output_type": "stream",
     "text": [
      "\n",
      "      Epoch    GPU_mem   box_loss   cls_loss   dfl_loss  Instances       Size\n"
     ]
    },
    {
     "name": "stderr",
     "output_type": "stream",
     "text": [
      "   102/1000      10.8G     0.2465     0.2261     0.7649         18        736: 100%|██████████| 21/21 [00:04<00:00,  4.31it/s]\n"
     ]
    },
    {
     "name": "stdout",
     "output_type": "stream",
     "text": [
      "\n",
      "      Epoch    GPU_mem   box_loss   cls_loss   dfl_loss  Instances       Size\n"
     ]
    },
    {
     "name": "stderr",
     "output_type": "stream",
     "text": [
      "   103/1000      10.8G     0.2442     0.2289     0.7664         18        736: 100%|██████████| 21/21 [00:04<00:00,  4.27it/s]\n"
     ]
    },
    {
     "name": "stdout",
     "output_type": "stream",
     "text": [
      "\n",
      "      Epoch    GPU_mem   box_loss   cls_loss   dfl_loss  Instances       Size\n"
     ]
    },
    {
     "name": "stderr",
     "output_type": "stream",
     "text": [
      "   104/1000      10.8G     0.2523     0.2296     0.7733         20        736: 100%|██████████| 21/21 [00:04<00:00,  4.28it/s]\n"
     ]
    },
    {
     "name": "stdout",
     "output_type": "stream",
     "text": [
      "\n",
      "      Epoch    GPU_mem   box_loss   cls_loss   dfl_loss  Instances       Size\n"
     ]
    },
    {
     "name": "stderr",
     "output_type": "stream",
     "text": [
      "   105/1000      10.8G     0.2459      0.224     0.7649         13        736: 100%|██████████| 21/21 [00:04<00:00,  4.30it/s]\n"
     ]
    },
    {
     "name": "stdout",
     "output_type": "stream",
     "text": [
      "\n",
      "      Epoch    GPU_mem   box_loss   cls_loss   dfl_loss  Instances       Size\n"
     ]
    },
    {
     "name": "stderr",
     "output_type": "stream",
     "text": [
      "   106/1000      10.8G      0.263       0.23     0.7791         22        736: 100%|██████████| 21/21 [00:04<00:00,  4.30it/s]\n"
     ]
    },
    {
     "name": "stdout",
     "output_type": "stream",
     "text": [
      "\n",
      "      Epoch    GPU_mem   box_loss   cls_loss   dfl_loss  Instances       Size\n"
     ]
    },
    {
     "name": "stderr",
     "output_type": "stream",
     "text": [
      "   107/1000      10.8G     0.2441     0.2237     0.7762         15        736: 100%|██████████| 21/21 [00:04<00:00,  4.31it/s]\n"
     ]
    },
    {
     "name": "stdout",
     "output_type": "stream",
     "text": [
      "\n",
      "      Epoch    GPU_mem   box_loss   cls_loss   dfl_loss  Instances       Size\n"
     ]
    },
    {
     "name": "stderr",
     "output_type": "stream",
     "text": [
      "   108/1000      10.8G     0.2496     0.2242     0.7753         17        736: 100%|██████████| 21/21 [00:04<00:00,  4.32it/s]\n"
     ]
    },
    {
     "name": "stdout",
     "output_type": "stream",
     "text": [
      "\n",
      "      Epoch    GPU_mem   box_loss   cls_loss   dfl_loss  Instances       Size\n"
     ]
    },
    {
     "name": "stderr",
     "output_type": "stream",
     "text": [
      "   109/1000      10.8G     0.2568     0.2241      0.771         13        736: 100%|██████████| 21/21 [00:04<00:00,  4.29it/s]\n"
     ]
    },
    {
     "name": "stdout",
     "output_type": "stream",
     "text": [
      "\n",
      "      Epoch    GPU_mem   box_loss   cls_loss   dfl_loss  Instances       Size\n"
     ]
    },
    {
     "name": "stderr",
     "output_type": "stream",
     "text": [
      "   110/1000      10.8G     0.2415     0.2138     0.7785         19        736: 100%|██████████| 21/21 [00:04<00:00,  4.33it/s]\n"
     ]
    },
    {
     "name": "stdout",
     "output_type": "stream",
     "text": [
      "\n",
      "      Epoch    GPU_mem   box_loss   cls_loss   dfl_loss  Instances       Size\n"
     ]
    },
    {
     "name": "stderr",
     "output_type": "stream",
     "text": [
      "   111/1000      10.8G     0.2287     0.2139     0.7704         16        736: 100%|██████████| 21/21 [00:04<00:00,  4.31it/s]\n"
     ]
    },
    {
     "name": "stdout",
     "output_type": "stream",
     "text": [
      "\n",
      "      Epoch    GPU_mem   box_loss   cls_loss   dfl_loss  Instances       Size\n"
     ]
    },
    {
     "name": "stderr",
     "output_type": "stream",
     "text": [
      "   112/1000      10.8G     0.2493     0.2193     0.7785         14        736: 100%|██████████| 21/21 [00:04<00:00,  4.29it/s]\n"
     ]
    },
    {
     "name": "stdout",
     "output_type": "stream",
     "text": [
      "\n",
      "      Epoch    GPU_mem   box_loss   cls_loss   dfl_loss  Instances       Size\n"
     ]
    },
    {
     "name": "stderr",
     "output_type": "stream",
     "text": [
      "   113/1000      10.8G     0.2473     0.2212     0.7717         18        736: 100%|██████████| 21/21 [00:04<00:00,  4.30it/s]\n"
     ]
    },
    {
     "name": "stdout",
     "output_type": "stream",
     "text": [
      "\n",
      "      Epoch    GPU_mem   box_loss   cls_loss   dfl_loss  Instances       Size\n"
     ]
    },
    {
     "name": "stderr",
     "output_type": "stream",
     "text": [
      "   114/1000      10.7G     0.2465      0.215     0.7704         16        736: 100%|██████████| 21/21 [00:04<00:00,  4.31it/s]\n"
     ]
    },
    {
     "name": "stdout",
     "output_type": "stream",
     "text": [
      "\n",
      "      Epoch    GPU_mem   box_loss   cls_loss   dfl_loss  Instances       Size\n"
     ]
    },
    {
     "name": "stderr",
     "output_type": "stream",
     "text": [
      "   115/1000      10.8G     0.2409     0.2106     0.7806         17        736: 100%|██████████| 21/21 [00:04<00:00,  4.29it/s]\n"
     ]
    },
    {
     "name": "stdout",
     "output_type": "stream",
     "text": [
      "\n",
      "      Epoch    GPU_mem   box_loss   cls_loss   dfl_loss  Instances       Size\n"
     ]
    },
    {
     "name": "stderr",
     "output_type": "stream",
     "text": [
      "   116/1000      10.8G     0.2428     0.2172     0.7665         12        736: 100%|██████████| 21/21 [00:04<00:00,  4.30it/s]\n"
     ]
    },
    {
     "name": "stdout",
     "output_type": "stream",
     "text": [
      "\n",
      "      Epoch    GPU_mem   box_loss   cls_loss   dfl_loss  Instances       Size\n"
     ]
    },
    {
     "name": "stderr",
     "output_type": "stream",
     "text": [
      "   117/1000      10.8G     0.2403     0.2112     0.7726         15        736: 100%|██████████| 21/21 [00:04<00:00,  4.28it/s]\n"
     ]
    },
    {
     "name": "stdout",
     "output_type": "stream",
     "text": [
      "\n",
      "      Epoch    GPU_mem   box_loss   cls_loss   dfl_loss  Instances       Size\n"
     ]
    },
    {
     "name": "stderr",
     "output_type": "stream",
     "text": [
      "   118/1000      10.8G     0.2359     0.2086     0.7657         16        736: 100%|██████████| 21/21 [00:04<00:00,  4.30it/s]\n"
     ]
    },
    {
     "name": "stdout",
     "output_type": "stream",
     "text": [
      "\n",
      "      Epoch    GPU_mem   box_loss   cls_loss   dfl_loss  Instances       Size\n"
     ]
    },
    {
     "name": "stderr",
     "output_type": "stream",
     "text": [
      "   119/1000      10.8G     0.2336     0.2096     0.7723         14        736: 100%|██████████| 21/21 [00:04<00:00,  4.30it/s]\n"
     ]
    },
    {
     "name": "stdout",
     "output_type": "stream",
     "text": [
      "\n",
      "      Epoch    GPU_mem   box_loss   cls_loss   dfl_loss  Instances       Size\n"
     ]
    },
    {
     "name": "stderr",
     "output_type": "stream",
     "text": [
      "   120/1000      10.8G     0.2324     0.2054     0.7738         21        736: 100%|██████████| 21/21 [00:04<00:00,  4.29it/s]\n"
     ]
    },
    {
     "name": "stdout",
     "output_type": "stream",
     "text": [
      "\n",
      "      Epoch    GPU_mem   box_loss   cls_loss   dfl_loss  Instances       Size\n"
     ]
    },
    {
     "name": "stderr",
     "output_type": "stream",
     "text": [
      "   121/1000      10.8G     0.2377     0.2064     0.7724         14        736: 100%|██████████| 21/21 [00:04<00:00,  4.30it/s]\n"
     ]
    },
    {
     "name": "stdout",
     "output_type": "stream",
     "text": [
      "\n",
      "      Epoch    GPU_mem   box_loss   cls_loss   dfl_loss  Instances       Size\n"
     ]
    },
    {
     "name": "stderr",
     "output_type": "stream",
     "text": [
      "   122/1000      10.8G     0.2288     0.2091      0.775         20        736: 100%|██████████| 21/21 [00:04<00:00,  4.31it/s]\n"
     ]
    },
    {
     "name": "stdout",
     "output_type": "stream",
     "text": [
      "\n",
      "      Epoch    GPU_mem   box_loss   cls_loss   dfl_loss  Instances       Size\n"
     ]
    },
    {
     "name": "stderr",
     "output_type": "stream",
     "text": [
      "   123/1000      10.8G     0.2288     0.2091     0.7688         19        736: 100%|██████████| 21/21 [00:04<00:00,  4.29it/s]\n"
     ]
    },
    {
     "name": "stdout",
     "output_type": "stream",
     "text": [
      "\n",
      "      Epoch    GPU_mem   box_loss   cls_loss   dfl_loss  Instances       Size\n"
     ]
    },
    {
     "name": "stderr",
     "output_type": "stream",
     "text": [
      "   124/1000      10.8G      0.234     0.2099     0.7668         15        736: 100%|██████████| 21/21 [00:04<00:00,  4.31it/s]\n"
     ]
    },
    {
     "name": "stdout",
     "output_type": "stream",
     "text": [
      "\n",
      "      Epoch    GPU_mem   box_loss   cls_loss   dfl_loss  Instances       Size\n"
     ]
    },
    {
     "name": "stderr",
     "output_type": "stream",
     "text": [
      "   125/1000      10.8G     0.2343     0.2098     0.7685         12        736: 100%|██████████| 21/21 [00:04<00:00,  4.30it/s]\n"
     ]
    },
    {
     "name": "stdout",
     "output_type": "stream",
     "text": [
      "\n",
      "      Epoch    GPU_mem   box_loss   cls_loss   dfl_loss  Instances       Size\n"
     ]
    },
    {
     "name": "stderr",
     "output_type": "stream",
     "text": [
      "   126/1000      10.8G     0.2343     0.2141     0.7661         11        736: 100%|██████████| 21/21 [00:04<00:00,  4.29it/s]\n"
     ]
    },
    {
     "name": "stdout",
     "output_type": "stream",
     "text": [
      "\n",
      "      Epoch    GPU_mem   box_loss   cls_loss   dfl_loss  Instances       Size\n"
     ]
    },
    {
     "name": "stderr",
     "output_type": "stream",
     "text": [
      "   127/1000      10.8G     0.2291     0.2123      0.771         16        736: 100%|██████████| 21/21 [00:04<00:00,  4.29it/s]\n"
     ]
    },
    {
     "name": "stdout",
     "output_type": "stream",
     "text": [
      "\n",
      "      Epoch    GPU_mem   box_loss   cls_loss   dfl_loss  Instances       Size\n"
     ]
    },
    {
     "name": "stderr",
     "output_type": "stream",
     "text": [
      "   128/1000      10.8G     0.2284     0.2107      0.765         20        736: 100%|██████████| 21/21 [00:04<00:00,  4.29it/s]\n"
     ]
    },
    {
     "name": "stdout",
     "output_type": "stream",
     "text": [
      "\n",
      "      Epoch    GPU_mem   box_loss   cls_loss   dfl_loss  Instances       Size\n"
     ]
    },
    {
     "name": "stderr",
     "output_type": "stream",
     "text": [
      "   129/1000      10.8G     0.2219     0.2045     0.7695         17        736: 100%|██████████| 21/21 [00:04<00:00,  4.30it/s]\n"
     ]
    },
    {
     "name": "stdout",
     "output_type": "stream",
     "text": [
      "\n",
      "      Epoch    GPU_mem   box_loss   cls_loss   dfl_loss  Instances       Size\n"
     ]
    },
    {
     "name": "stderr",
     "output_type": "stream",
     "text": [
      "   130/1000      10.8G     0.2271     0.2065     0.7704         16        736: 100%|██████████| 21/21 [00:04<00:00,  4.31it/s]\n"
     ]
    },
    {
     "name": "stdout",
     "output_type": "stream",
     "text": [
      "\n",
      "      Epoch    GPU_mem   box_loss   cls_loss   dfl_loss  Instances       Size\n"
     ]
    },
    {
     "name": "stderr",
     "output_type": "stream",
     "text": [
      "   131/1000      10.8G     0.2248     0.2077     0.7704         15        736: 100%|██████████| 21/21 [00:04<00:00,  4.28it/s]\n"
     ]
    },
    {
     "name": "stdout",
     "output_type": "stream",
     "text": [
      "\n",
      "      Epoch    GPU_mem   box_loss   cls_loss   dfl_loss  Instances       Size\n"
     ]
    },
    {
     "name": "stderr",
     "output_type": "stream",
     "text": [
      "   132/1000      10.8G     0.2305     0.2108     0.7686         18        736: 100%|██████████| 21/21 [00:04<00:00,  4.30it/s]\n"
     ]
    },
    {
     "name": "stdout",
     "output_type": "stream",
     "text": [
      "\n",
      "      Epoch    GPU_mem   box_loss   cls_loss   dfl_loss  Instances       Size\n"
     ]
    },
    {
     "name": "stderr",
     "output_type": "stream",
     "text": [
      "   133/1000      10.8G     0.2181     0.1977     0.7673         16        736: 100%|██████████| 21/21 [00:04<00:00,  4.29it/s]\n"
     ]
    },
    {
     "name": "stdout",
     "output_type": "stream",
     "text": [
      "\n",
      "      Epoch    GPU_mem   box_loss   cls_loss   dfl_loss  Instances       Size\n"
     ]
    },
    {
     "name": "stderr",
     "output_type": "stream",
     "text": [
      "   134/1000      10.8G     0.2237      0.205     0.7672         16        736: 100%|██████████| 21/21 [00:04<00:00,  4.27it/s]\n"
     ]
    },
    {
     "name": "stdout",
     "output_type": "stream",
     "text": [
      "\n",
      "      Epoch    GPU_mem   box_loss   cls_loss   dfl_loss  Instances       Size\n"
     ]
    },
    {
     "name": "stderr",
     "output_type": "stream",
     "text": [
      "   135/1000      10.8G     0.2183      0.197     0.7763         17        736: 100%|██████████| 21/21 [00:04<00:00,  4.29it/s]\n"
     ]
    },
    {
     "name": "stdout",
     "output_type": "stream",
     "text": [
      "\n",
      "      Epoch    GPU_mem   box_loss   cls_loss   dfl_loss  Instances       Size\n"
     ]
    },
    {
     "name": "stderr",
     "output_type": "stream",
     "text": [
      "   136/1000      10.8G     0.2415     0.2088     0.7688         15        736: 100%|██████████| 21/21 [00:04<00:00,  4.30it/s]\n"
     ]
    },
    {
     "name": "stdout",
     "output_type": "stream",
     "text": [
      "\n",
      "      Epoch    GPU_mem   box_loss   cls_loss   dfl_loss  Instances       Size\n"
     ]
    },
    {
     "name": "stderr",
     "output_type": "stream",
     "text": [
      "   137/1000      10.8G     0.2307      0.208     0.7716         19        736: 100%|██████████| 21/21 [00:04<00:00,  4.29it/s]\n"
     ]
    },
    {
     "name": "stdout",
     "output_type": "stream",
     "text": [
      "\n",
      "      Epoch    GPU_mem   box_loss   cls_loss   dfl_loss  Instances       Size\n"
     ]
    },
    {
     "name": "stderr",
     "output_type": "stream",
     "text": [
      "   138/1000      10.8G      0.212     0.1996     0.7751         15        736: 100%|██████████| 21/21 [00:04<00:00,  4.32it/s]\n"
     ]
    },
    {
     "name": "stdout",
     "output_type": "stream",
     "text": [
      "\n",
      "      Epoch    GPU_mem   box_loss   cls_loss   dfl_loss  Instances       Size\n"
     ]
    },
    {
     "name": "stderr",
     "output_type": "stream",
     "text": [
      "   139/1000      10.8G     0.2262     0.2033      0.773         16        736: 100%|██████████| 21/21 [00:04<00:00,  4.28it/s]\n"
     ]
    },
    {
     "name": "stdout",
     "output_type": "stream",
     "text": [
      "\n",
      "      Epoch    GPU_mem   box_loss   cls_loss   dfl_loss  Instances       Size\n"
     ]
    },
    {
     "name": "stderr",
     "output_type": "stream",
     "text": [
      "   140/1000      10.8G     0.2265     0.2042     0.7627         16        736: 100%|██████████| 21/21 [00:04<00:00,  4.31it/s]\n"
     ]
    },
    {
     "name": "stdout",
     "output_type": "stream",
     "text": [
      "\n",
      "      Epoch    GPU_mem   box_loss   cls_loss   dfl_loss  Instances       Size\n"
     ]
    },
    {
     "name": "stderr",
     "output_type": "stream",
     "text": [
      "   141/1000      10.8G      0.219     0.1998     0.7711         17        736: 100%|██████████| 21/21 [00:04<00:00,  4.30it/s]\n"
     ]
    },
    {
     "name": "stdout",
     "output_type": "stream",
     "text": [
      "\n",
      "      Epoch    GPU_mem   box_loss   cls_loss   dfl_loss  Instances       Size\n"
     ]
    },
    {
     "name": "stderr",
     "output_type": "stream",
     "text": [
      "   142/1000      10.8G     0.2258     0.2008     0.7713         20        736: 100%|██████████| 21/21 [00:04<00:00,  4.30it/s]\n"
     ]
    },
    {
     "name": "stdout",
     "output_type": "stream",
     "text": [
      "\n",
      "      Epoch    GPU_mem   box_loss   cls_loss   dfl_loss  Instances       Size\n"
     ]
    },
    {
     "name": "stderr",
     "output_type": "stream",
     "text": [
      "   143/1000      10.8G     0.2198     0.1956     0.7745         12        736: 100%|██████████| 21/21 [00:04<00:00,  4.30it/s]\n"
     ]
    },
    {
     "name": "stdout",
     "output_type": "stream",
     "text": [
      "\n",
      "      Epoch    GPU_mem   box_loss   cls_loss   dfl_loss  Instances       Size\n"
     ]
    },
    {
     "name": "stderr",
     "output_type": "stream",
     "text": [
      "   144/1000      10.8G     0.2164     0.1941     0.7675         14        736: 100%|██████████| 21/21 [00:04<00:00,  4.32it/s]\n"
     ]
    },
    {
     "name": "stdout",
     "output_type": "stream",
     "text": [
      "\n",
      "      Epoch    GPU_mem   box_loss   cls_loss   dfl_loss  Instances       Size\n"
     ]
    },
    {
     "name": "stderr",
     "output_type": "stream",
     "text": [
      "   145/1000      10.8G     0.2288     0.1979      0.772         15        736: 100%|██████████| 21/21 [00:04<00:00,  4.28it/s]\n"
     ]
    },
    {
     "name": "stdout",
     "output_type": "stream",
     "text": [
      "\n",
      "      Epoch    GPU_mem   box_loss   cls_loss   dfl_loss  Instances       Size\n"
     ]
    },
    {
     "name": "stderr",
     "output_type": "stream",
     "text": [
      "   146/1000      10.8G     0.2395     0.2066     0.7687         16        736: 100%|██████████| 21/21 [00:04<00:00,  4.31it/s]\n"
     ]
    },
    {
     "name": "stdout",
     "output_type": "stream",
     "text": [
      "\n",
      "      Epoch    GPU_mem   box_loss   cls_loss   dfl_loss  Instances       Size\n"
     ]
    },
    {
     "name": "stderr",
     "output_type": "stream",
     "text": [
      "   147/1000      10.8G     0.2294     0.2022      0.772         18        736: 100%|██████████| 21/21 [00:04<00:00,  4.31it/s]\n"
     ]
    },
    {
     "name": "stdout",
     "output_type": "stream",
     "text": [
      "\n",
      "      Epoch    GPU_mem   box_loss   cls_loss   dfl_loss  Instances       Size\n"
     ]
    },
    {
     "name": "stderr",
     "output_type": "stream",
     "text": [
      "   148/1000      10.8G     0.2099     0.1888     0.7794         21        736: 100%|██████████| 21/21 [00:04<00:00,  4.29it/s]\n"
     ]
    },
    {
     "name": "stdout",
     "output_type": "stream",
     "text": [
      "\n",
      "      Epoch    GPU_mem   box_loss   cls_loss   dfl_loss  Instances       Size\n"
     ]
    },
    {
     "name": "stderr",
     "output_type": "stream",
     "text": [
      "   149/1000      10.8G     0.2054     0.1908     0.7648         14        736: 100%|██████████| 21/21 [00:04<00:00,  4.30it/s]\n"
     ]
    },
    {
     "name": "stdout",
     "output_type": "stream",
     "text": [
      "\n",
      "      Epoch    GPU_mem   box_loss   cls_loss   dfl_loss  Instances       Size\n"
     ]
    },
    {
     "name": "stderr",
     "output_type": "stream",
     "text": [
      "   150/1000      10.8G     0.2079     0.1913     0.7696         15        736: 100%|██████████| 21/21 [00:04<00:00,  4.29it/s]\n"
     ]
    },
    {
     "name": "stdout",
     "output_type": "stream",
     "text": [
      "\n",
      "      Epoch    GPU_mem   box_loss   cls_loss   dfl_loss  Instances       Size\n"
     ]
    },
    {
     "name": "stderr",
     "output_type": "stream",
     "text": [
      "   151/1000      10.8G     0.2118     0.1906     0.7659         13        736: 100%|██████████| 21/21 [00:04<00:00,  4.30it/s]\n"
     ]
    },
    {
     "name": "stdout",
     "output_type": "stream",
     "text": [
      "\n",
      "      Epoch    GPU_mem   box_loss   cls_loss   dfl_loss  Instances       Size\n"
     ]
    },
    {
     "name": "stderr",
     "output_type": "stream",
     "text": [
      "   152/1000      10.8G     0.2286     0.1977     0.7771         18        736: 100%|██████████| 21/21 [00:04<00:00,  4.31it/s]\n"
     ]
    },
    {
     "name": "stdout",
     "output_type": "stream",
     "text": [
      "\n",
      "      Epoch    GPU_mem   box_loss   cls_loss   dfl_loss  Instances       Size\n"
     ]
    },
    {
     "name": "stderr",
     "output_type": "stream",
     "text": [
      "   153/1000      10.8G     0.2217      0.195     0.7686         20        736: 100%|██████████| 21/21 [00:04<00:00,  4.28it/s]\n"
     ]
    },
    {
     "name": "stdout",
     "output_type": "stream",
     "text": [
      "\n",
      "      Epoch    GPU_mem   box_loss   cls_loss   dfl_loss  Instances       Size\n"
     ]
    },
    {
     "name": "stderr",
     "output_type": "stream",
     "text": [
      "   154/1000      10.8G     0.2203     0.1988     0.7669         15        736: 100%|██████████| 21/21 [00:04<00:00,  4.29it/s]\n"
     ]
    },
    {
     "name": "stdout",
     "output_type": "stream",
     "text": [
      "\n",
      "      Epoch    GPU_mem   box_loss   cls_loss   dfl_loss  Instances       Size\n"
     ]
    },
    {
     "name": "stderr",
     "output_type": "stream",
     "text": [
      "   155/1000      10.8G     0.2147     0.1931     0.7657         20        736: 100%|██████████| 21/21 [00:04<00:00,  4.30it/s]\n"
     ]
    },
    {
     "name": "stdout",
     "output_type": "stream",
     "text": [
      "\n",
      "      Epoch    GPU_mem   box_loss   cls_loss   dfl_loss  Instances       Size\n"
     ]
    },
    {
     "name": "stderr",
     "output_type": "stream",
     "text": [
      "   156/1000      10.8G     0.2177     0.1889     0.7686         17        736: 100%|██████████| 21/21 [00:04<00:00,  4.29it/s]\n"
     ]
    },
    {
     "name": "stdout",
     "output_type": "stream",
     "text": [
      "\n",
      "      Epoch    GPU_mem   box_loss   cls_loss   dfl_loss  Instances       Size\n"
     ]
    },
    {
     "name": "stderr",
     "output_type": "stream",
     "text": [
      "   157/1000      10.8G     0.2162     0.1904     0.7661         14        736: 100%|██████████| 21/21 [00:04<00:00,  4.30it/s]\n"
     ]
    },
    {
     "name": "stdout",
     "output_type": "stream",
     "text": [
      "\n",
      "      Epoch    GPU_mem   box_loss   cls_loss   dfl_loss  Instances       Size\n"
     ]
    },
    {
     "name": "stderr",
     "output_type": "stream",
     "text": [
      "   158/1000      10.8G     0.2097     0.1883     0.7732         13        736: 100%|██████████| 21/21 [00:04<00:00,  4.31it/s]\n"
     ]
    },
    {
     "name": "stdout",
     "output_type": "stream",
     "text": [
      "\n",
      "      Epoch    GPU_mem   box_loss   cls_loss   dfl_loss  Instances       Size\n"
     ]
    },
    {
     "name": "stderr",
     "output_type": "stream",
     "text": [
      "   159/1000      10.8G      0.213     0.1919     0.7663         16        736: 100%|██████████| 21/21 [00:04<00:00,  4.29it/s]\n"
     ]
    },
    {
     "name": "stdout",
     "output_type": "stream",
     "text": [
      "\n",
      "      Epoch    GPU_mem   box_loss   cls_loss   dfl_loss  Instances       Size\n"
     ]
    },
    {
     "name": "stderr",
     "output_type": "stream",
     "text": [
      "   160/1000      10.8G      0.213      0.195     0.7674         14        736: 100%|██████████| 21/21 [00:04<00:00,  4.29it/s]\n"
     ]
    },
    {
     "name": "stdout",
     "output_type": "stream",
     "text": [
      "\n",
      "      Epoch    GPU_mem   box_loss   cls_loss   dfl_loss  Instances       Size\n"
     ]
    },
    {
     "name": "stderr",
     "output_type": "stream",
     "text": [
      "   161/1000      10.8G     0.2059     0.1799     0.7698         15        736: 100%|██████████| 21/21 [00:04<00:00,  4.28it/s]\n"
     ]
    },
    {
     "name": "stdout",
     "output_type": "stream",
     "text": [
      "\n",
      "      Epoch    GPU_mem   box_loss   cls_loss   dfl_loss  Instances       Size\n"
     ]
    },
    {
     "name": "stderr",
     "output_type": "stream",
     "text": [
      "   162/1000      10.8G     0.2118     0.1847       0.77         15        736: 100%|██████████| 21/21 [00:04<00:00,  4.32it/s]\n"
     ]
    },
    {
     "name": "stdout",
     "output_type": "stream",
     "text": [
      "\n",
      "      Epoch    GPU_mem   box_loss   cls_loss   dfl_loss  Instances       Size\n"
     ]
    },
    {
     "name": "stderr",
     "output_type": "stream",
     "text": [
      "   163/1000      10.8G     0.2121     0.1923     0.7679         23        736: 100%|██████████| 21/21 [00:04<00:00,  4.29it/s]\n"
     ]
    },
    {
     "name": "stdout",
     "output_type": "stream",
     "text": [
      "\n",
      "      Epoch    GPU_mem   box_loss   cls_loss   dfl_loss  Instances       Size\n"
     ]
    },
    {
     "name": "stderr",
     "output_type": "stream",
     "text": [
      "   164/1000      10.8G     0.1944     0.1725     0.7767         11        736: 100%|██████████| 21/21 [00:04<00:00,  4.30it/s]\n"
     ]
    },
    {
     "name": "stdout",
     "output_type": "stream",
     "text": [
      "\n",
      "      Epoch    GPU_mem   box_loss   cls_loss   dfl_loss  Instances       Size\n"
     ]
    },
    {
     "name": "stderr",
     "output_type": "stream",
     "text": [
      "   165/1000      10.8G     0.1995     0.1823      0.768         12        736: 100%|██████████| 21/21 [00:04<00:00,  4.30it/s]\n"
     ]
    },
    {
     "name": "stdout",
     "output_type": "stream",
     "text": [
      "\n",
      "      Epoch    GPU_mem   box_loss   cls_loss   dfl_loss  Instances       Size\n"
     ]
    },
    {
     "name": "stderr",
     "output_type": "stream",
     "text": [
      "   166/1000      10.8G     0.2112     0.1855     0.7631         15        736: 100%|██████████| 21/21 [00:04<00:00,  4.31it/s]\n"
     ]
    },
    {
     "name": "stdout",
     "output_type": "stream",
     "text": [
      "\n",
      "      Epoch    GPU_mem   box_loss   cls_loss   dfl_loss  Instances       Size\n"
     ]
    },
    {
     "name": "stderr",
     "output_type": "stream",
     "text": [
      "   167/1000      10.8G     0.2116     0.1876     0.7668         17        736: 100%|██████████| 21/21 [00:04<00:00,  4.28it/s]\n"
     ]
    },
    {
     "name": "stdout",
     "output_type": "stream",
     "text": [
      "\n",
      "      Epoch    GPU_mem   box_loss   cls_loss   dfl_loss  Instances       Size\n"
     ]
    },
    {
     "name": "stderr",
     "output_type": "stream",
     "text": [
      "   168/1000      10.8G     0.2099     0.1858     0.7632         19        736: 100%|██████████| 21/21 [00:04<00:00,  4.31it/s]\n"
     ]
    },
    {
     "name": "stdout",
     "output_type": "stream",
     "text": [
      "\n",
      "      Epoch    GPU_mem   box_loss   cls_loss   dfl_loss  Instances       Size\n"
     ]
    },
    {
     "name": "stderr",
     "output_type": "stream",
     "text": [
      "   169/1000      10.8G     0.2089     0.1854     0.7675         14        736: 100%|██████████| 21/21 [00:04<00:00,  4.29it/s]\n"
     ]
    },
    {
     "name": "stdout",
     "output_type": "stream",
     "text": [
      "\n",
      "      Epoch    GPU_mem   box_loss   cls_loss   dfl_loss  Instances       Size\n"
     ]
    },
    {
     "name": "stderr",
     "output_type": "stream",
     "text": [
      "   170/1000      10.8G     0.2084     0.1878     0.7736         19        736: 100%|██████████| 21/21 [00:04<00:00,  4.30it/s]\n"
     ]
    },
    {
     "name": "stdout",
     "output_type": "stream",
     "text": [
      "\n",
      "      Epoch    GPU_mem   box_loss   cls_loss   dfl_loss  Instances       Size\n"
     ]
    },
    {
     "name": "stderr",
     "output_type": "stream",
     "text": [
      "   171/1000      10.8G     0.2123     0.1841     0.7741         12        736: 100%|██████████| 21/21 [00:04<00:00,  4.29it/s]\n"
     ]
    },
    {
     "name": "stdout",
     "output_type": "stream",
     "text": [
      "\n",
      "      Epoch    GPU_mem   box_loss   cls_loss   dfl_loss  Instances       Size\n"
     ]
    },
    {
     "name": "stderr",
     "output_type": "stream",
     "text": [
      "   172/1000      10.8G     0.2072     0.1824     0.7647         12        736: 100%|██████████| 21/21 [00:04<00:00,  4.28it/s]\n"
     ]
    },
    {
     "name": "stdout",
     "output_type": "stream",
     "text": [
      "\n",
      "      Epoch    GPU_mem   box_loss   cls_loss   dfl_loss  Instances       Size\n"
     ]
    },
    {
     "name": "stderr",
     "output_type": "stream",
     "text": [
      "   173/1000      10.8G     0.2141     0.1889     0.7684         16        736: 100%|██████████| 21/21 [00:04<00:00,  4.30it/s]\n"
     ]
    },
    {
     "name": "stdout",
     "output_type": "stream",
     "text": [
      "\n",
      "      Epoch    GPU_mem   box_loss   cls_loss   dfl_loss  Instances       Size\n"
     ]
    },
    {
     "name": "stderr",
     "output_type": "stream",
     "text": [
      "   174/1000      10.8G     0.1935     0.1726     0.7717         13        736: 100%|██████████| 21/21 [00:04<00:00,  4.29it/s]\n"
     ]
    },
    {
     "name": "stdout",
     "output_type": "stream",
     "text": [
      "\n",
      "      Epoch    GPU_mem   box_loss   cls_loss   dfl_loss  Instances       Size\n"
     ]
    },
    {
     "name": "stderr",
     "output_type": "stream",
     "text": [
      "   175/1000      10.8G     0.1997     0.1796     0.7714         16        736: 100%|██████████| 21/21 [00:04<00:00,  4.27it/s]\n"
     ]
    },
    {
     "name": "stdout",
     "output_type": "stream",
     "text": [
      "\n",
      "      Epoch    GPU_mem   box_loss   cls_loss   dfl_loss  Instances       Size\n"
     ]
    },
    {
     "name": "stderr",
     "output_type": "stream",
     "text": [
      "   176/1000      10.8G     0.2026     0.1839     0.7645         14        736: 100%|██████████| 21/21 [00:04<00:00,  4.31it/s]\n"
     ]
    },
    {
     "name": "stdout",
     "output_type": "stream",
     "text": [
      "\n",
      "      Epoch    GPU_mem   box_loss   cls_loss   dfl_loss  Instances       Size\n"
     ]
    },
    {
     "name": "stderr",
     "output_type": "stream",
     "text": [
      "   177/1000      10.8G      0.203     0.1791     0.7696         18        736: 100%|██████████| 21/21 [00:04<00:00,  4.30it/s]\n"
     ]
    },
    {
     "name": "stdout",
     "output_type": "stream",
     "text": [
      "\n",
      "      Epoch    GPU_mem   box_loss   cls_loss   dfl_loss  Instances       Size\n"
     ]
    },
    {
     "name": "stderr",
     "output_type": "stream",
     "text": [
      "   178/1000      10.8G     0.2007     0.1772     0.7681         13        736: 100%|██████████| 21/21 [00:04<00:00,  4.29it/s]\n"
     ]
    },
    {
     "name": "stdout",
     "output_type": "stream",
     "text": [
      "\n",
      "      Epoch    GPU_mem   box_loss   cls_loss   dfl_loss  Instances       Size\n"
     ]
    },
    {
     "name": "stderr",
     "output_type": "stream",
     "text": [
      "   179/1000      10.8G      0.203     0.1776     0.7659         12        736: 100%|██████████| 21/21 [00:04<00:00,  4.29it/s]\n"
     ]
    },
    {
     "name": "stdout",
     "output_type": "stream",
     "text": [
      "\n",
      "      Epoch    GPU_mem   box_loss   cls_loss   dfl_loss  Instances       Size\n"
     ]
    },
    {
     "name": "stderr",
     "output_type": "stream",
     "text": [
      "   180/1000      10.8G        0.2     0.1749      0.771         15        736: 100%|██████████| 21/21 [00:04<00:00,  4.31it/s]\n"
     ]
    },
    {
     "name": "stdout",
     "output_type": "stream",
     "text": [
      "\n",
      "      Epoch    GPU_mem   box_loss   cls_loss   dfl_loss  Instances       Size\n"
     ]
    },
    {
     "name": "stderr",
     "output_type": "stream",
     "text": [
      "   181/1000      10.8G     0.1951     0.1763     0.7705         21        736: 100%|██████████| 21/21 [00:04<00:00,  4.28it/s]\n"
     ]
    },
    {
     "name": "stdout",
     "output_type": "stream",
     "text": [
      "\n",
      "      Epoch    GPU_mem   box_loss   cls_loss   dfl_loss  Instances       Size\n"
     ]
    },
    {
     "name": "stderr",
     "output_type": "stream",
     "text": [
      "   182/1000      10.7G     0.1938     0.1711      0.764         11        736: 100%|██████████| 21/21 [00:04<00:00,  4.31it/s]\n"
     ]
    },
    {
     "name": "stdout",
     "output_type": "stream",
     "text": [
      "\n",
      "      Epoch    GPU_mem   box_loss   cls_loss   dfl_loss  Instances       Size\n"
     ]
    },
    {
     "name": "stderr",
     "output_type": "stream",
     "text": [
      "   183/1000      10.8G     0.1955     0.1767     0.7653         13        736: 100%|██████████| 21/21 [00:04<00:00,  4.29it/s]\n"
     ]
    },
    {
     "name": "stdout",
     "output_type": "stream",
     "text": [
      "\n",
      "      Epoch    GPU_mem   box_loss   cls_loss   dfl_loss  Instances       Size\n"
     ]
    },
    {
     "name": "stderr",
     "output_type": "stream",
     "text": [
      "   184/1000      10.8G     0.2012     0.1746     0.7747         11        736: 100%|██████████| 21/21 [00:04<00:00,  4.31it/s]\n"
     ]
    },
    {
     "name": "stdout",
     "output_type": "stream",
     "text": [
      "\n",
      "      Epoch    GPU_mem   box_loss   cls_loss   dfl_loss  Instances       Size\n"
     ]
    },
    {
     "name": "stderr",
     "output_type": "stream",
     "text": [
      "   185/1000      10.8G     0.2129     0.1809     0.7643         28        736: 100%|██████████| 21/21 [00:04<00:00,  4.31it/s]\n"
     ]
    },
    {
     "name": "stdout",
     "output_type": "stream",
     "text": [
      "\n",
      "      Epoch    GPU_mem   box_loss   cls_loss   dfl_loss  Instances       Size\n"
     ]
    },
    {
     "name": "stderr",
     "output_type": "stream",
     "text": [
      "   186/1000      10.8G     0.2014     0.1705     0.7752         13        736: 100%|██████████| 21/21 [00:04<00:00,  4.30it/s]\n"
     ]
    },
    {
     "name": "stdout",
     "output_type": "stream",
     "text": [
      "\n",
      "      Epoch    GPU_mem   box_loss   cls_loss   dfl_loss  Instances       Size\n"
     ]
    },
    {
     "name": "stderr",
     "output_type": "stream",
     "text": [
      "   187/1000      10.8G     0.1884     0.1752     0.7629         20        736: 100%|██████████| 21/21 [00:04<00:00,  4.30it/s]\n"
     ]
    },
    {
     "name": "stdout",
     "output_type": "stream",
     "text": [
      "\n",
      "      Epoch    GPU_mem   box_loss   cls_loss   dfl_loss  Instances       Size\n"
     ]
    },
    {
     "name": "stderr",
     "output_type": "stream",
     "text": [
      "   188/1000      10.8G     0.2037     0.1805     0.7735         21        736: 100%|██████████| 21/21 [00:04<00:00,  4.33it/s]\n"
     ]
    },
    {
     "name": "stdout",
     "output_type": "stream",
     "text": [
      "\n",
      "      Epoch    GPU_mem   box_loss   cls_loss   dfl_loss  Instances       Size\n"
     ]
    },
    {
     "name": "stderr",
     "output_type": "stream",
     "text": [
      "   189/1000      10.8G     0.1979     0.1718     0.7746         19        736: 100%|██████████| 21/21 [00:04<00:00,  4.28it/s]\n"
     ]
    },
    {
     "name": "stdout",
     "output_type": "stream",
     "text": [
      "\n",
      "      Epoch    GPU_mem   box_loss   cls_loss   dfl_loss  Instances       Size\n"
     ]
    },
    {
     "name": "stderr",
     "output_type": "stream",
     "text": [
      "   190/1000      10.7G     0.1974     0.1731     0.7705         14        736: 100%|██████████| 21/21 [00:04<00:00,  4.31it/s]\n"
     ]
    },
    {
     "name": "stdout",
     "output_type": "stream",
     "text": [
      "\n",
      "      Epoch    GPU_mem   box_loss   cls_loss   dfl_loss  Instances       Size\n"
     ]
    },
    {
     "name": "stderr",
     "output_type": "stream",
     "text": [
      "   191/1000      10.8G     0.2094     0.1756     0.7718         16        736: 100%|██████████| 21/21 [00:04<00:00,  4.28it/s]\n"
     ]
    },
    {
     "name": "stdout",
     "output_type": "stream",
     "text": [
      "\n",
      "      Epoch    GPU_mem   box_loss   cls_loss   dfl_loss  Instances       Size\n"
     ]
    },
    {
     "name": "stderr",
     "output_type": "stream",
     "text": [
      "   192/1000      10.8G     0.2008     0.1741     0.7659         16        736: 100%|██████████| 21/21 [00:04<00:00,  4.30it/s]\n"
     ]
    },
    {
     "name": "stdout",
     "output_type": "stream",
     "text": [
      "\n",
      "      Epoch    GPU_mem   box_loss   cls_loss   dfl_loss  Instances       Size\n"
     ]
    },
    {
     "name": "stderr",
     "output_type": "stream",
     "text": [
      "   193/1000      10.8G     0.1937     0.1722     0.7745         14        736: 100%|██████████| 21/21 [00:04<00:00,  4.30it/s]\n"
     ]
    },
    {
     "name": "stdout",
     "output_type": "stream",
     "text": [
      "\n",
      "      Epoch    GPU_mem   box_loss   cls_loss   dfl_loss  Instances       Size\n"
     ]
    },
    {
     "name": "stderr",
     "output_type": "stream",
     "text": [
      "   194/1000      10.8G     0.1877     0.1666     0.7703         13        736: 100%|██████████| 21/21 [00:04<00:00,  4.28it/s]\n"
     ]
    },
    {
     "name": "stdout",
     "output_type": "stream",
     "text": [
      "\n",
      "      Epoch    GPU_mem   box_loss   cls_loss   dfl_loss  Instances       Size\n"
     ]
    },
    {
     "name": "stderr",
     "output_type": "stream",
     "text": [
      "   195/1000      10.8G     0.1973     0.1714     0.7674         15        736: 100%|██████████| 21/21 [00:04<00:00,  4.29it/s]\n"
     ]
    },
    {
     "name": "stdout",
     "output_type": "stream",
     "text": [
      "\n",
      "      Epoch    GPU_mem   box_loss   cls_loss   dfl_loss  Instances       Size\n"
     ]
    },
    {
     "name": "stderr",
     "output_type": "stream",
     "text": [
      "   196/1000      10.8G     0.1888     0.1689     0.7699         16        736: 100%|██████████| 21/21 [00:04<00:00,  4.30it/s]\n"
     ]
    },
    {
     "name": "stdout",
     "output_type": "stream",
     "text": [
      "\n",
      "      Epoch    GPU_mem   box_loss   cls_loss   dfl_loss  Instances       Size\n"
     ]
    },
    {
     "name": "stderr",
     "output_type": "stream",
     "text": [
      "   197/1000      10.8G     0.2001     0.1737     0.7679         19        736: 100%|██████████| 21/21 [00:04<00:00,  4.29it/s]\n"
     ]
    },
    {
     "name": "stdout",
     "output_type": "stream",
     "text": [
      "\n",
      "      Epoch    GPU_mem   box_loss   cls_loss   dfl_loss  Instances       Size\n"
     ]
    },
    {
     "name": "stderr",
     "output_type": "stream",
     "text": [
      "   198/1000      10.8G     0.1877       0.17      0.767         20        736: 100%|██████████| 21/21 [00:04<00:00,  4.31it/s]\n"
     ]
    },
    {
     "name": "stdout",
     "output_type": "stream",
     "text": [
      "\n",
      "      Epoch    GPU_mem   box_loss   cls_loss   dfl_loss  Instances       Size\n"
     ]
    },
    {
     "name": "stderr",
     "output_type": "stream",
     "text": [
      "   199/1000      10.8G      0.191     0.1739     0.7709         14        736: 100%|██████████| 21/21 [00:04<00:00,  4.30it/s]\n"
     ]
    },
    {
     "name": "stdout",
     "output_type": "stream",
     "text": [
      "\n",
      "      Epoch    GPU_mem   box_loss   cls_loss   dfl_loss  Instances       Size\n"
     ]
    },
    {
     "name": "stderr",
     "output_type": "stream",
     "text": [
      "   200/1000      10.8G     0.1937     0.1727     0.7694         11        736: 100%|██████████| 21/21 [00:04<00:00,  4.29it/s]\n"
     ]
    },
    {
     "name": "stdout",
     "output_type": "stream",
     "text": [
      "\n",
      "      Epoch    GPU_mem   box_loss   cls_loss   dfl_loss  Instances       Size\n"
     ]
    },
    {
     "name": "stderr",
     "output_type": "stream",
     "text": [
      "   201/1000      10.8G     0.1924     0.1728     0.7636         11        736: 100%|██████████| 21/21 [00:04<00:00,  4.30it/s]\n"
     ]
    },
    {
     "name": "stdout",
     "output_type": "stream",
     "text": [
      "\n",
      "      Epoch    GPU_mem   box_loss   cls_loss   dfl_loss  Instances       Size\n"
     ]
    },
    {
     "name": "stderr",
     "output_type": "stream",
     "text": [
      "   202/1000      10.8G     0.1973     0.1765     0.7627         15        736: 100%|██████████| 21/21 [00:04<00:00,  4.32it/s]\n"
     ]
    },
    {
     "name": "stdout",
     "output_type": "stream",
     "text": [
      "\n",
      "      Epoch    GPU_mem   box_loss   cls_loss   dfl_loss  Instances       Size\n"
     ]
    },
    {
     "name": "stderr",
     "output_type": "stream",
     "text": [
      "   203/1000      10.8G     0.1987     0.1708     0.7779         11        736: 100%|██████████| 21/21 [00:04<00:00,  4.29it/s]\n"
     ]
    },
    {
     "name": "stdout",
     "output_type": "stream",
     "text": [
      "\n",
      "      Epoch    GPU_mem   box_loss   cls_loss   dfl_loss  Instances       Size\n"
     ]
    },
    {
     "name": "stderr",
     "output_type": "stream",
     "text": [
      "   204/1000      10.8G     0.1929     0.1672     0.7673         17        736: 100%|██████████| 21/21 [00:04<00:00,  4.31it/s]\n"
     ]
    },
    {
     "name": "stdout",
     "output_type": "stream",
     "text": [
      "\n",
      "      Epoch    GPU_mem   box_loss   cls_loss   dfl_loss  Instances       Size\n"
     ]
    },
    {
     "name": "stderr",
     "output_type": "stream",
     "text": [
      "   205/1000      10.8G     0.1936      0.168     0.7694         18        736: 100%|██████████| 21/21 [00:04<00:00,  4.26it/s]\n"
     ]
    },
    {
     "name": "stdout",
     "output_type": "stream",
     "text": [
      "\n",
      "      Epoch    GPU_mem   box_loss   cls_loss   dfl_loss  Instances       Size\n"
     ]
    },
    {
     "name": "stderr",
     "output_type": "stream",
     "text": [
      "   206/1000      10.8G     0.1794     0.1651     0.7609         16        736: 100%|██████████| 21/21 [00:04<00:00,  4.32it/s]\n"
     ]
    },
    {
     "name": "stdout",
     "output_type": "stream",
     "text": [
      "\n",
      "      Epoch    GPU_mem   box_loss   cls_loss   dfl_loss  Instances       Size\n"
     ]
    },
    {
     "name": "stderr",
     "output_type": "stream",
     "text": [
      "   207/1000      10.8G     0.1839     0.1626     0.7739         21        736: 100%|██████████| 21/21 [00:04<00:00,  4.31it/s]\n"
     ]
    },
    {
     "name": "stdout",
     "output_type": "stream",
     "text": [
      "\n",
      "      Epoch    GPU_mem   box_loss   cls_loss   dfl_loss  Instances       Size\n"
     ]
    },
    {
     "name": "stderr",
     "output_type": "stream",
     "text": [
      "   208/1000      10.8G     0.1932     0.1619     0.7739         18        736: 100%|██████████| 21/21 [00:04<00:00,  4.30it/s]\n"
     ]
    },
    {
     "name": "stdout",
     "output_type": "stream",
     "text": [
      "\n",
      "      Epoch    GPU_mem   box_loss   cls_loss   dfl_loss  Instances       Size\n"
     ]
    },
    {
     "name": "stderr",
     "output_type": "stream",
     "text": [
      "   209/1000      10.8G      0.199     0.1675     0.7607         12        736: 100%|██████████| 21/21 [00:04<00:00,  4.29it/s]\n"
     ]
    },
    {
     "name": "stdout",
     "output_type": "stream",
     "text": [
      "\n",
      "      Epoch    GPU_mem   box_loss   cls_loss   dfl_loss  Instances       Size\n"
     ]
    },
    {
     "name": "stderr",
     "output_type": "stream",
     "text": [
      "   210/1000      10.8G     0.1873     0.1661     0.7667         16        736: 100%|██████████| 21/21 [00:04<00:00,  4.30it/s]\n"
     ]
    },
    {
     "name": "stdout",
     "output_type": "stream",
     "text": [
      "\n",
      "      Epoch    GPU_mem   box_loss   cls_loss   dfl_loss  Instances       Size\n"
     ]
    },
    {
     "name": "stderr",
     "output_type": "stream",
     "text": [
      "   211/1000      10.8G     0.2038     0.1718     0.7578         11        736: 100%|██████████| 21/21 [00:04<00:00,  4.28it/s]\n"
     ]
    },
    {
     "name": "stdout",
     "output_type": "stream",
     "text": [
      "\n",
      "      Epoch    GPU_mem   box_loss   cls_loss   dfl_loss  Instances       Size\n"
     ]
    },
    {
     "name": "stderr",
     "output_type": "stream",
     "text": [
      "   212/1000      10.8G     0.1907     0.1669     0.7653         15        736: 100%|██████████| 21/21 [00:04<00:00,  4.30it/s]\n"
     ]
    },
    {
     "name": "stdout",
     "output_type": "stream",
     "text": [
      "\n",
      "      Epoch    GPU_mem   box_loss   cls_loss   dfl_loss  Instances       Size\n"
     ]
    },
    {
     "name": "stderr",
     "output_type": "stream",
     "text": [
      "   213/1000      10.8G     0.1924     0.1684     0.7671         16        736: 100%|██████████| 21/21 [00:04<00:00,  4.29it/s]\n"
     ]
    },
    {
     "name": "stdout",
     "output_type": "stream",
     "text": [
      "\n",
      "      Epoch    GPU_mem   box_loss   cls_loss   dfl_loss  Instances       Size\n"
     ]
    },
    {
     "name": "stderr",
     "output_type": "stream",
     "text": [
      "   214/1000      10.8G     0.1802     0.1581     0.7753         21        736: 100%|██████████| 21/21 [00:04<00:00,  4.29it/s]\n"
     ]
    },
    {
     "name": "stdout",
     "output_type": "stream",
     "text": [
      "\n",
      "      Epoch    GPU_mem   box_loss   cls_loss   dfl_loss  Instances       Size\n"
     ]
    },
    {
     "name": "stderr",
     "output_type": "stream",
     "text": [
      "   215/1000      10.8G     0.1902     0.1699     0.7622         15        736: 100%|██████████| 21/21 [00:04<00:00,  4.30it/s]\n"
     ]
    },
    {
     "name": "stdout",
     "output_type": "stream",
     "text": [
      "\n",
      "      Epoch    GPU_mem   box_loss   cls_loss   dfl_loss  Instances       Size\n"
     ]
    },
    {
     "name": "stderr",
     "output_type": "stream",
     "text": [
      "   216/1000      10.8G     0.1894     0.1674      0.775         18        736: 100%|██████████| 21/21 [00:04<00:00,  4.29it/s]\n"
     ]
    },
    {
     "name": "stdout",
     "output_type": "stream",
     "text": [
      "\n",
      "      Epoch    GPU_mem   box_loss   cls_loss   dfl_loss  Instances       Size\n"
     ]
    },
    {
     "name": "stderr",
     "output_type": "stream",
     "text": [
      "   217/1000      10.8G     0.1855     0.1613      0.763         12        736: 100%|██████████| 21/21 [00:04<00:00,  4.31it/s]\n"
     ]
    },
    {
     "name": "stdout",
     "output_type": "stream",
     "text": [
      "\n",
      "      Epoch    GPU_mem   box_loss   cls_loss   dfl_loss  Instances       Size\n"
     ]
    },
    {
     "name": "stderr",
     "output_type": "stream",
     "text": [
      "   218/1000      10.8G     0.1895     0.1595     0.7703         12        736: 100%|██████████| 21/21 [00:04<00:00,  4.31it/s]\n"
     ]
    },
    {
     "name": "stdout",
     "output_type": "stream",
     "text": [
      "\n",
      "      Epoch    GPU_mem   box_loss   cls_loss   dfl_loss  Instances       Size\n"
     ]
    },
    {
     "name": "stderr",
     "output_type": "stream",
     "text": [
      "   219/1000      10.8G     0.1916     0.1623     0.7713         14        736: 100%|██████████| 21/21 [00:04<00:00,  4.28it/s]\n"
     ]
    },
    {
     "name": "stdout",
     "output_type": "stream",
     "text": [
      "\n",
      "      Epoch    GPU_mem   box_loss   cls_loss   dfl_loss  Instances       Size\n"
     ]
    },
    {
     "name": "stderr",
     "output_type": "stream",
     "text": [
      "   220/1000      10.8G     0.1799     0.1603     0.7645         16        736: 100%|██████████| 21/21 [00:04<00:00,  4.31it/s]\n"
     ]
    },
    {
     "name": "stdout",
     "output_type": "stream",
     "text": [
      "\n",
      "      Epoch    GPU_mem   box_loss   cls_loss   dfl_loss  Instances       Size\n"
     ]
    },
    {
     "name": "stderr",
     "output_type": "stream",
     "text": [
      "   221/1000      10.8G     0.1905     0.1672     0.7704         13        736: 100%|██████████| 21/21 [00:04<00:00,  4.30it/s]\n"
     ]
    },
    {
     "name": "stdout",
     "output_type": "stream",
     "text": [
      "\n",
      "      Epoch    GPU_mem   box_loss   cls_loss   dfl_loss  Instances       Size\n"
     ]
    },
    {
     "name": "stderr",
     "output_type": "stream",
     "text": [
      "   222/1000      10.8G     0.1884     0.1601     0.7678         19        736: 100%|██████████| 21/21 [00:04<00:00,  4.28it/s]\n"
     ]
    },
    {
     "name": "stdout",
     "output_type": "stream",
     "text": [
      "\n",
      "      Epoch    GPU_mem   box_loss   cls_loss   dfl_loss  Instances       Size\n"
     ]
    },
    {
     "name": "stderr",
     "output_type": "stream",
     "text": [
      "   223/1000      10.8G     0.1913     0.1643     0.7731         16        736: 100%|██████████| 21/21 [00:04<00:00,  4.28it/s]\n"
     ]
    },
    {
     "name": "stdout",
     "output_type": "stream",
     "text": [
      "\n",
      "      Epoch    GPU_mem   box_loss   cls_loss   dfl_loss  Instances       Size\n"
     ]
    },
    {
     "name": "stderr",
     "output_type": "stream",
     "text": [
      "   224/1000      10.8G     0.1918     0.1659      0.773         13        736: 100%|██████████| 21/21 [00:04<00:00,  4.30it/s]\n"
     ]
    },
    {
     "name": "stdout",
     "output_type": "stream",
     "text": [
      "\n",
      "      Epoch    GPU_mem   box_loss   cls_loss   dfl_loss  Instances       Size\n"
     ]
    },
    {
     "name": "stderr",
     "output_type": "stream",
     "text": [
      "   225/1000      10.8G      0.194     0.1708     0.7657         21        736: 100%|██████████| 21/21 [00:04<00:00,  4.26it/s]\n"
     ]
    },
    {
     "name": "stdout",
     "output_type": "stream",
     "text": [
      "\n",
      "      Epoch    GPU_mem   box_loss   cls_loss   dfl_loss  Instances       Size\n"
     ]
    },
    {
     "name": "stderr",
     "output_type": "stream",
     "text": [
      "   226/1000      10.8G     0.1849      0.163     0.7669         14        736: 100%|██████████| 21/21 [00:04<00:00,  4.31it/s]\n"
     ]
    },
    {
     "name": "stdout",
     "output_type": "stream",
     "text": [
      "\n",
      "      Epoch    GPU_mem   box_loss   cls_loss   dfl_loss  Instances       Size\n"
     ]
    },
    {
     "name": "stderr",
     "output_type": "stream",
     "text": [
      "   227/1000      10.8G     0.1804     0.1577     0.7675         27        736: 100%|██████████| 21/21 [00:04<00:00,  4.28it/s]\n"
     ]
    },
    {
     "name": "stdout",
     "output_type": "stream",
     "text": [
      "\n",
      "      Epoch    GPU_mem   box_loss   cls_loss   dfl_loss  Instances       Size\n"
     ]
    },
    {
     "name": "stderr",
     "output_type": "stream",
     "text": [
      "   228/1000      10.8G      0.189     0.1624     0.7631         10        736: 100%|██████████| 21/21 [00:04<00:00,  4.31it/s]\n"
     ]
    },
    {
     "name": "stdout",
     "output_type": "stream",
     "text": [
      "\n",
      "      Epoch    GPU_mem   box_loss   cls_loss   dfl_loss  Instances       Size\n"
     ]
    },
    {
     "name": "stderr",
     "output_type": "stream",
     "text": [
      "   229/1000      10.8G     0.1753     0.1572     0.7678         17        736: 100%|██████████| 21/21 [00:04<00:00,  4.31it/s]\n"
     ]
    },
    {
     "name": "stdout",
     "output_type": "stream",
     "text": [
      "\n",
      "      Epoch    GPU_mem   box_loss   cls_loss   dfl_loss  Instances       Size\n"
     ]
    },
    {
     "name": "stderr",
     "output_type": "stream",
     "text": [
      "   230/1000      10.8G     0.1827     0.1593     0.7736         15        736: 100%|██████████| 21/21 [00:04<00:00,  4.29it/s]\n"
     ]
    },
    {
     "name": "stdout",
     "output_type": "stream",
     "text": [
      "\n",
      "      Epoch    GPU_mem   box_loss   cls_loss   dfl_loss  Instances       Size\n"
     ]
    },
    {
     "name": "stderr",
     "output_type": "stream",
     "text": [
      "   231/1000      10.8G     0.1781     0.1582     0.7638         16        736: 100%|██████████| 21/21 [00:04<00:00,  4.30it/s]\n"
     ]
    },
    {
     "name": "stdout",
     "output_type": "stream",
     "text": [
      "\n",
      "      Epoch    GPU_mem   box_loss   cls_loss   dfl_loss  Instances       Size\n"
     ]
    },
    {
     "name": "stderr",
     "output_type": "stream",
     "text": [
      "   232/1000      10.7G     0.1863     0.1609     0.7672         14        736: 100%|██████████| 21/21 [00:04<00:00,  4.30it/s]\n"
     ]
    },
    {
     "name": "stdout",
     "output_type": "stream",
     "text": [
      "\n",
      "      Epoch    GPU_mem   box_loss   cls_loss   dfl_loss  Instances       Size\n"
     ]
    },
    {
     "name": "stderr",
     "output_type": "stream",
     "text": [
      "   233/1000      10.8G     0.1846     0.1652     0.7624         17        736: 100%|██████████| 21/21 [00:04<00:00,  4.28it/s]\n"
     ]
    },
    {
     "name": "stdout",
     "output_type": "stream",
     "text": [
      "\n",
      "      Epoch    GPU_mem   box_loss   cls_loss   dfl_loss  Instances       Size\n"
     ]
    },
    {
     "name": "stderr",
     "output_type": "stream",
     "text": [
      "   234/1000      10.8G     0.1918     0.1634     0.7705         11        736: 100%|██████████| 21/21 [00:04<00:00,  4.32it/s]\n"
     ]
    },
    {
     "name": "stdout",
     "output_type": "stream",
     "text": [
      "\n",
      "      Epoch    GPU_mem   box_loss   cls_loss   dfl_loss  Instances       Size\n"
     ]
    },
    {
     "name": "stderr",
     "output_type": "stream",
     "text": [
      "   235/1000      10.8G      0.185     0.1638     0.7614         13        736: 100%|██████████| 21/21 [00:04<00:00,  4.31it/s]\n"
     ]
    },
    {
     "name": "stdout",
     "output_type": "stream",
     "text": [
      "\n",
      "      Epoch    GPU_mem   box_loss   cls_loss   dfl_loss  Instances       Size\n"
     ]
    },
    {
     "name": "stderr",
     "output_type": "stream",
     "text": [
      "   236/1000      10.8G     0.1857     0.1614     0.7604         12        736: 100%|██████████| 21/21 [00:04<00:00,  4.30it/s]\n"
     ]
    },
    {
     "name": "stdout",
     "output_type": "stream",
     "text": [
      "\n",
      "      Epoch    GPU_mem   box_loss   cls_loss   dfl_loss  Instances       Size\n"
     ]
    },
    {
     "name": "stderr",
     "output_type": "stream",
     "text": [
      "   237/1000      10.8G     0.1773     0.1546       0.77         11        736: 100%|██████████| 21/21 [00:04<00:00,  4.31it/s]\n"
     ]
    },
    {
     "name": "stdout",
     "output_type": "stream",
     "text": [
      "\n",
      "      Epoch    GPU_mem   box_loss   cls_loss   dfl_loss  Instances       Size\n"
     ]
    },
    {
     "name": "stderr",
     "output_type": "stream",
     "text": [
      "   238/1000      10.8G     0.1942     0.1553     0.7711         17        736: 100%|██████████| 21/21 [00:04<00:00,  4.30it/s]\n"
     ]
    },
    {
     "name": "stdout",
     "output_type": "stream",
     "text": [
      "\n",
      "      Epoch    GPU_mem   box_loss   cls_loss   dfl_loss  Instances       Size\n"
     ]
    },
    {
     "name": "stderr",
     "output_type": "stream",
     "text": [
      "   239/1000      10.8G     0.2162     0.1694     0.7655         18        736: 100%|██████████| 21/21 [00:04<00:00,  4.29it/s]\n"
     ]
    },
    {
     "name": "stdout",
     "output_type": "stream",
     "text": [
      "\n",
      "      Epoch    GPU_mem   box_loss   cls_loss   dfl_loss  Instances       Size\n"
     ]
    },
    {
     "name": "stderr",
     "output_type": "stream",
     "text": [
      "   240/1000      10.8G     0.2058     0.1654     0.7761         13        736: 100%|██████████| 21/21 [00:04<00:00,  4.30it/s]\n"
     ]
    },
    {
     "name": "stdout",
     "output_type": "stream",
     "text": [
      "\n",
      "      Epoch    GPU_mem   box_loss   cls_loss   dfl_loss  Instances       Size\n"
     ]
    },
    {
     "name": "stderr",
     "output_type": "stream",
     "text": [
      "   241/1000      10.8G     0.1912      0.159     0.7658         22        736: 100%|██████████| 21/21 [00:04<00:00,  4.26it/s]\n"
     ]
    },
    {
     "name": "stdout",
     "output_type": "stream",
     "text": [
      "\n",
      "      Epoch    GPU_mem   box_loss   cls_loss   dfl_loss  Instances       Size\n"
     ]
    },
    {
     "name": "stderr",
     "output_type": "stream",
     "text": [
      "   242/1000      10.8G     0.1756     0.1527     0.7728         19        736: 100%|██████████| 21/21 [00:04<00:00,  4.30it/s]\n"
     ]
    },
    {
     "name": "stdout",
     "output_type": "stream",
     "text": [
      "\n",
      "      Epoch    GPU_mem   box_loss   cls_loss   dfl_loss  Instances       Size\n"
     ]
    },
    {
     "name": "stderr",
     "output_type": "stream",
     "text": [
      "   243/1000      10.8G       0.17     0.1562     0.7717         15        736: 100%|██████████| 21/21 [00:04<00:00,  4.29it/s]\n"
     ]
    },
    {
     "name": "stdout",
     "output_type": "stream",
     "text": [
      "\n",
      "      Epoch    GPU_mem   box_loss   cls_loss   dfl_loss  Instances       Size\n"
     ]
    },
    {
     "name": "stderr",
     "output_type": "stream",
     "text": [
      "   244/1000      10.8G      0.186     0.1601     0.7694         15        736: 100%|██████████| 21/21 [00:04<00:00,  4.28it/s]\n"
     ]
    },
    {
     "name": "stdout",
     "output_type": "stream",
     "text": [
      "\n",
      "      Epoch    GPU_mem   box_loss   cls_loss   dfl_loss  Instances       Size\n"
     ]
    },
    {
     "name": "stderr",
     "output_type": "stream",
     "text": [
      "   245/1000      10.8G     0.1918     0.1571     0.7727         10        736: 100%|██████████| 21/21 [00:04<00:00,  4.29it/s]\n"
     ]
    },
    {
     "name": "stdout",
     "output_type": "stream",
     "text": [
      "\n",
      "      Epoch    GPU_mem   box_loss   cls_loss   dfl_loss  Instances       Size\n"
     ]
    },
    {
     "name": "stderr",
     "output_type": "stream",
     "text": [
      "   246/1000      10.8G     0.1849     0.1566     0.7689         20        736: 100%|██████████| 21/21 [00:04<00:00,  4.31it/s]\n"
     ]
    },
    {
     "name": "stdout",
     "output_type": "stream",
     "text": [
      "\n",
      "      Epoch    GPU_mem   box_loss   cls_loss   dfl_loss  Instances       Size\n"
     ]
    },
    {
     "name": "stderr",
     "output_type": "stream",
     "text": [
      "   247/1000      10.8G     0.1809     0.1511      0.774         15        736: 100%|██████████| 21/21 [00:04<00:00,  4.28it/s]\n"
     ]
    },
    {
     "name": "stdout",
     "output_type": "stream",
     "text": [
      "\n",
      "      Epoch    GPU_mem   box_loss   cls_loss   dfl_loss  Instances       Size\n"
     ]
    },
    {
     "name": "stderr",
     "output_type": "stream",
     "text": [
      "   248/1000      10.8G     0.1824     0.1549     0.7709         18        736: 100%|██████████| 21/21 [00:04<00:00,  4.31it/s]\n"
     ]
    },
    {
     "name": "stdout",
     "output_type": "stream",
     "text": [
      "\n",
      "      Epoch    GPU_mem   box_loss   cls_loss   dfl_loss  Instances       Size\n"
     ]
    },
    {
     "name": "stderr",
     "output_type": "stream",
     "text": [
      "   249/1000      10.8G     0.1702     0.1504     0.7706         20        736: 100%|██████████| 21/21 [00:04<00:00,  4.28it/s]\n"
     ]
    },
    {
     "name": "stdout",
     "output_type": "stream",
     "text": [
      "\n",
      "      Epoch    GPU_mem   box_loss   cls_loss   dfl_loss  Instances       Size\n"
     ]
    },
    {
     "name": "stderr",
     "output_type": "stream",
     "text": [
      "   250/1000      10.8G     0.1826     0.1546      0.771         13        736: 100%|██████████| 21/21 [00:04<00:00,  4.31it/s]\n"
     ]
    },
    {
     "name": "stdout",
     "output_type": "stream",
     "text": [
      "\n",
      "      Epoch    GPU_mem   box_loss   cls_loss   dfl_loss  Instances       Size\n"
     ]
    },
    {
     "name": "stderr",
     "output_type": "stream",
     "text": [
      "   251/1000      10.8G     0.1774     0.1566     0.7699         20        736: 100%|██████████| 21/21 [00:04<00:00,  4.30it/s]\n"
     ]
    },
    {
     "name": "stdout",
     "output_type": "stream",
     "text": [
      "\n",
      "      Epoch    GPU_mem   box_loss   cls_loss   dfl_loss  Instances       Size\n"
     ]
    },
    {
     "name": "stderr",
     "output_type": "stream",
     "text": [
      "   252/1000      10.8G     0.1826     0.1562     0.7648         16        736: 100%|██████████| 21/21 [00:04<00:00,  4.29it/s]\n"
     ]
    },
    {
     "name": "stdout",
     "output_type": "stream",
     "text": [
      "\n",
      "      Epoch    GPU_mem   box_loss   cls_loss   dfl_loss  Instances       Size\n"
     ]
    },
    {
     "name": "stderr",
     "output_type": "stream",
     "text": [
      "   253/1000      10.8G     0.1737     0.1517     0.7626         19        736: 100%|██████████| 21/21 [00:04<00:00,  4.29it/s]\n"
     ]
    },
    {
     "name": "stdout",
     "output_type": "stream",
     "text": [
      "\n",
      "      Epoch    GPU_mem   box_loss   cls_loss   dfl_loss  Instances       Size\n"
     ]
    },
    {
     "name": "stderr",
     "output_type": "stream",
     "text": [
      "   254/1000      10.8G     0.1707     0.1543     0.7722         16        736: 100%|██████████| 21/21 [00:04<00:00,  4.31it/s]\n"
     ]
    },
    {
     "name": "stdout",
     "output_type": "stream",
     "text": [
      "\n",
      "      Epoch    GPU_mem   box_loss   cls_loss   dfl_loss  Instances       Size\n"
     ]
    },
    {
     "name": "stderr",
     "output_type": "stream",
     "text": [
      "   255/1000      10.8G     0.1768     0.1561     0.7752         14        736: 100%|██████████| 21/21 [00:04<00:00,  4.27it/s]\n"
     ]
    },
    {
     "name": "stdout",
     "output_type": "stream",
     "text": [
      "\n",
      "      Epoch    GPU_mem   box_loss   cls_loss   dfl_loss  Instances       Size\n"
     ]
    },
    {
     "name": "stderr",
     "output_type": "stream",
     "text": [
      "   256/1000      10.8G     0.1694      0.149     0.7745         13        736: 100%|██████████| 21/21 [00:04<00:00,  4.30it/s]\n"
     ]
    },
    {
     "name": "stdout",
     "output_type": "stream",
     "text": [
      "\n",
      "      Epoch    GPU_mem   box_loss   cls_loss   dfl_loss  Instances       Size\n"
     ]
    },
    {
     "name": "stderr",
     "output_type": "stream",
     "text": [
      "   257/1000      10.8G     0.1791     0.1579     0.7673         22        736: 100%|██████████| 21/21 [00:04<00:00,  4.29it/s]\n"
     ]
    },
    {
     "name": "stdout",
     "output_type": "stream",
     "text": [
      "\n",
      "      Epoch    GPU_mem   box_loss   cls_loss   dfl_loss  Instances       Size\n"
     ]
    },
    {
     "name": "stderr",
     "output_type": "stream",
     "text": [
      "   258/1000      10.8G     0.1762      0.157     0.7648         14        736: 100%|██████████| 21/21 [00:04<00:00,  4.29it/s]\n"
     ]
    },
    {
     "name": "stdout",
     "output_type": "stream",
     "text": [
      "\n",
      "      Epoch    GPU_mem   box_loss   cls_loss   dfl_loss  Instances       Size\n"
     ]
    },
    {
     "name": "stderr",
     "output_type": "stream",
     "text": [
      "   259/1000      10.8G     0.2008     0.1619     0.7751         17        736: 100%|██████████| 21/21 [00:04<00:00,  4.27it/s]\n"
     ]
    },
    {
     "name": "stdout",
     "output_type": "stream",
     "text": [
      "\n",
      "      Epoch    GPU_mem   box_loss   cls_loss   dfl_loss  Instances       Size\n"
     ]
    },
    {
     "name": "stderr",
     "output_type": "stream",
     "text": [
      "   260/1000      10.8G     0.1842     0.1541     0.7664         17        736: 100%|██████████| 21/21 [00:04<00:00,  4.29it/s]\n"
     ]
    },
    {
     "name": "stdout",
     "output_type": "stream",
     "text": [
      "\n",
      "      Epoch    GPU_mem   box_loss   cls_loss   dfl_loss  Instances       Size\n"
     ]
    },
    {
     "name": "stderr",
     "output_type": "stream",
     "text": [
      "   261/1000      10.8G     0.1687      0.148     0.7693         15        736: 100%|██████████| 21/21 [00:04<00:00,  4.29it/s]\n"
     ]
    },
    {
     "name": "stdout",
     "output_type": "stream",
     "text": [
      "\n",
      "      Epoch    GPU_mem   box_loss   cls_loss   dfl_loss  Instances       Size\n"
     ]
    },
    {
     "name": "stderr",
     "output_type": "stream",
     "text": [
      "   262/1000      10.7G     0.1724     0.1554     0.7698         18        736: 100%|██████████| 21/21 [00:04<00:00,  4.31it/s]\n"
     ]
    },
    {
     "name": "stdout",
     "output_type": "stream",
     "text": [
      "\n",
      "      Epoch    GPU_mem   box_loss   cls_loss   dfl_loss  Instances       Size\n"
     ]
    },
    {
     "name": "stderr",
     "output_type": "stream",
     "text": [
      "   263/1000      10.8G     0.1604      0.146     0.7655         15        736: 100%|██████████| 21/21 [00:04<00:00,  4.28it/s]\n"
     ]
    },
    {
     "name": "stdout",
     "output_type": "stream",
     "text": [
      "\n",
      "      Epoch    GPU_mem   box_loss   cls_loss   dfl_loss  Instances       Size\n"
     ]
    },
    {
     "name": "stderr",
     "output_type": "stream",
     "text": [
      "   264/1000      10.8G      0.176     0.1547     0.7653         12        736: 100%|██████████| 21/21 [00:04<00:00,  4.30it/s]\n"
     ]
    },
    {
     "name": "stdout",
     "output_type": "stream",
     "text": [
      "\n",
      "      Epoch    GPU_mem   box_loss   cls_loss   dfl_loss  Instances       Size\n"
     ]
    },
    {
     "name": "stderr",
     "output_type": "stream",
     "text": [
      "   265/1000      10.8G     0.1686      0.145     0.7705         12        736: 100%|██████████| 21/21 [00:04<00:00,  4.29it/s]\n"
     ]
    },
    {
     "name": "stdout",
     "output_type": "stream",
     "text": [
      "\n",
      "      Epoch    GPU_mem   box_loss   cls_loss   dfl_loss  Instances       Size\n"
     ]
    },
    {
     "name": "stderr",
     "output_type": "stream",
     "text": [
      "   266/1000      10.7G     0.1739     0.1544     0.7668         15        736: 100%|██████████| 21/21 [00:04<00:00,  4.29it/s]\n"
     ]
    },
    {
     "name": "stdout",
     "output_type": "stream",
     "text": [
      "\n",
      "      Epoch    GPU_mem   box_loss   cls_loss   dfl_loss  Instances       Size\n"
     ]
    },
    {
     "name": "stderr",
     "output_type": "stream",
     "text": [
      "   267/1000      10.8G     0.1743     0.1552     0.7666         12        736: 100%|██████████| 21/21 [00:04<00:00,  4.31it/s]\n"
     ]
    },
    {
     "name": "stdout",
     "output_type": "stream",
     "text": [
      "\n",
      "      Epoch    GPU_mem   box_loss   cls_loss   dfl_loss  Instances       Size\n"
     ]
    },
    {
     "name": "stderr",
     "output_type": "stream",
     "text": [
      "   268/1000      10.8G     0.1677     0.1483      0.769         11        736: 100%|██████████| 21/21 [00:04<00:00,  4.30it/s]\n"
     ]
    },
    {
     "name": "stdout",
     "output_type": "stream",
     "text": [
      "\n",
      "      Epoch    GPU_mem   box_loss   cls_loss   dfl_loss  Instances       Size\n"
     ]
    },
    {
     "name": "stderr",
     "output_type": "stream",
     "text": [
      "   269/1000      10.8G     0.1673     0.1485     0.7605         14        736: 100%|██████████| 21/21 [00:04<00:00,  4.29it/s]\n"
     ]
    },
    {
     "name": "stdout",
     "output_type": "stream",
     "text": [
      "\n",
      "      Epoch    GPU_mem   box_loss   cls_loss   dfl_loss  Instances       Size\n"
     ]
    },
    {
     "name": "stderr",
     "output_type": "stream",
     "text": [
      "   270/1000      10.8G     0.1759     0.1537     0.7655         14        736: 100%|██████████| 21/21 [00:04<00:00,  4.30it/s]\n"
     ]
    },
    {
     "name": "stdout",
     "output_type": "stream",
     "text": [
      "\n",
      "      Epoch    GPU_mem   box_loss   cls_loss   dfl_loss  Instances       Size\n"
     ]
    },
    {
     "name": "stderr",
     "output_type": "stream",
     "text": [
      "   271/1000      10.8G     0.1682     0.1512     0.7665         15        736: 100%|██████████| 21/21 [00:04<00:00,  4.29it/s]\n"
     ]
    },
    {
     "name": "stdout",
     "output_type": "stream",
     "text": [
      "\n",
      "      Epoch    GPU_mem   box_loss   cls_loss   dfl_loss  Instances       Size\n"
     ]
    },
    {
     "name": "stderr",
     "output_type": "stream",
     "text": [
      "   272/1000      10.8G     0.1688     0.1548     0.7644         17        736: 100%|██████████| 21/21 [00:04<00:00,  4.32it/s]\n"
     ]
    },
    {
     "name": "stdout",
     "output_type": "stream",
     "text": [
      "\n",
      "      Epoch    GPU_mem   box_loss   cls_loss   dfl_loss  Instances       Size\n"
     ]
    },
    {
     "name": "stderr",
     "output_type": "stream",
     "text": [
      "   273/1000      10.8G      0.174      0.153     0.7658         15        736: 100%|██████████| 21/21 [00:04<00:00,  4.30it/s]\n"
     ]
    },
    {
     "name": "stdout",
     "output_type": "stream",
     "text": [
      "\n",
      "      Epoch    GPU_mem   box_loss   cls_loss   dfl_loss  Instances       Size\n"
     ]
    },
    {
     "name": "stderr",
     "output_type": "stream",
     "text": [
      "   274/1000      10.8G     0.1742     0.1535     0.7683         12        736: 100%|██████████| 21/21 [00:04<00:00,  4.28it/s]\n"
     ]
    },
    {
     "name": "stdout",
     "output_type": "stream",
     "text": [
      "\n",
      "      Epoch    GPU_mem   box_loss   cls_loss   dfl_loss  Instances       Size\n"
     ]
    },
    {
     "name": "stderr",
     "output_type": "stream",
     "text": [
      "   275/1000      10.8G     0.1731     0.1477     0.7647         12        736: 100%|██████████| 21/21 [00:04<00:00,  4.29it/s]\n"
     ]
    },
    {
     "name": "stdout",
     "output_type": "stream",
     "text": [
      "\n",
      "      Epoch    GPU_mem   box_loss   cls_loss   dfl_loss  Instances       Size\n"
     ]
    },
    {
     "name": "stderr",
     "output_type": "stream",
     "text": [
      "   276/1000      10.8G     0.1646     0.1465     0.7639         12        736: 100%|██████████| 21/21 [00:04<00:00,  4.30it/s]\n"
     ]
    },
    {
     "name": "stdout",
     "output_type": "stream",
     "text": [
      "\n",
      "      Epoch    GPU_mem   box_loss   cls_loss   dfl_loss  Instances       Size\n"
     ]
    },
    {
     "name": "stderr",
     "output_type": "stream",
     "text": [
      "   277/1000      10.8G     0.1646     0.1479     0.7636         18        736: 100%|██████████| 21/21 [00:04<00:00,  4.28it/s]\n"
     ]
    },
    {
     "name": "stdout",
     "output_type": "stream",
     "text": [
      "\n",
      "      Epoch    GPU_mem   box_loss   cls_loss   dfl_loss  Instances       Size\n"
     ]
    },
    {
     "name": "stderr",
     "output_type": "stream",
     "text": [
      "   278/1000      10.7G     0.1877     0.1597     0.7696         22        736: 100%|██████████| 21/21 [00:04<00:00,  4.31it/s]\n"
     ]
    },
    {
     "name": "stdout",
     "output_type": "stream",
     "text": [
      "\n",
      "      Epoch    GPU_mem   box_loss   cls_loss   dfl_loss  Instances       Size\n"
     ]
    },
    {
     "name": "stderr",
     "output_type": "stream",
     "text": [
      "   279/1000      10.8G     0.1815     0.1555     0.7685         13        736: 100%|██████████| 21/21 [00:04<00:00,  4.30it/s]\n"
     ]
    },
    {
     "name": "stdout",
     "output_type": "stream",
     "text": [
      "\n",
      "      Epoch    GPU_mem   box_loss   cls_loss   dfl_loss  Instances       Size\n"
     ]
    },
    {
     "name": "stderr",
     "output_type": "stream",
     "text": [
      "   280/1000      10.8G     0.1711      0.147     0.7688         24        736: 100%|██████████| 21/21 [00:04<00:00,  4.29it/s]\n"
     ]
    },
    {
     "name": "stdout",
     "output_type": "stream",
     "text": [
      "\n",
      "      Epoch    GPU_mem   box_loss   cls_loss   dfl_loss  Instances       Size\n"
     ]
    },
    {
     "name": "stderr",
     "output_type": "stream",
     "text": [
      "   281/1000      10.8G     0.1635     0.1496     0.7616         23        736: 100%|██████████| 21/21 [00:04<00:00,  4.30it/s]\n"
     ]
    },
    {
     "name": "stdout",
     "output_type": "stream",
     "text": [
      "\n",
      "      Epoch    GPU_mem   box_loss   cls_loss   dfl_loss  Instances       Size\n"
     ]
    },
    {
     "name": "stderr",
     "output_type": "stream",
     "text": [
      "   282/1000      10.8G     0.1607     0.1432     0.7698         15        736: 100%|██████████| 21/21 [00:04<00:00,  4.28it/s]\n"
     ]
    },
    {
     "name": "stdout",
     "output_type": "stream",
     "text": [
      "\n",
      "      Epoch    GPU_mem   box_loss   cls_loss   dfl_loss  Instances       Size\n"
     ]
    },
    {
     "name": "stderr",
     "output_type": "stream",
     "text": [
      "   283/1000      10.8G     0.1647     0.1467     0.7693         21        736: 100%|██████████| 21/21 [00:04<00:00,  4.30it/s]\n"
     ]
    },
    {
     "name": "stdout",
     "output_type": "stream",
     "text": [
      "\n",
      "      Epoch    GPU_mem   box_loss   cls_loss   dfl_loss  Instances       Size\n"
     ]
    },
    {
     "name": "stderr",
     "output_type": "stream",
     "text": [
      "   284/1000      10.8G     0.1622     0.1433     0.7693         18        736: 100%|██████████| 21/21 [00:04<00:00,  4.32it/s]\n"
     ]
    },
    {
     "name": "stdout",
     "output_type": "stream",
     "text": [
      "\n",
      "      Epoch    GPU_mem   box_loss   cls_loss   dfl_loss  Instances       Size\n"
     ]
    },
    {
     "name": "stderr",
     "output_type": "stream",
     "text": [
      "   285/1000      10.8G     0.1632      0.146      0.769         20        736: 100%|██████████| 21/21 [00:04<00:00,  4.27it/s]\n"
     ]
    },
    {
     "name": "stdout",
     "output_type": "stream",
     "text": [
      "\n",
      "      Epoch    GPU_mem   box_loss   cls_loss   dfl_loss  Instances       Size\n"
     ]
    },
    {
     "name": "stderr",
     "output_type": "stream",
     "text": [
      "   286/1000      10.8G     0.1699     0.1508     0.7614         15        736: 100%|██████████| 21/21 [00:04<00:00,  4.31it/s]\n"
     ]
    },
    {
     "name": "stdout",
     "output_type": "stream",
     "text": [
      "\n",
      "      Epoch    GPU_mem   box_loss   cls_loss   dfl_loss  Instances       Size\n"
     ]
    },
    {
     "name": "stderr",
     "output_type": "stream",
     "text": [
      "   287/1000      10.8G     0.1774     0.1503      0.764         20        736: 100%|██████████| 21/21 [00:04<00:00,  4.30it/s]\n"
     ]
    },
    {
     "name": "stdout",
     "output_type": "stream",
     "text": [
      "\n",
      "      Epoch    GPU_mem   box_loss   cls_loss   dfl_loss  Instances       Size\n"
     ]
    },
    {
     "name": "stderr",
     "output_type": "stream",
     "text": [
      "   288/1000      10.8G     0.1644     0.1476     0.7671         13        736: 100%|██████████| 21/21 [00:04<00:00,  4.29it/s]\n"
     ]
    },
    {
     "name": "stdout",
     "output_type": "stream",
     "text": [
      "\n",
      "      Epoch    GPU_mem   box_loss   cls_loss   dfl_loss  Instances       Size\n"
     ]
    },
    {
     "name": "stderr",
     "output_type": "stream",
     "text": [
      "   289/1000      10.8G      0.176      0.152     0.7673         22        736: 100%|██████████| 21/21 [00:04<00:00,  4.31it/s]\n"
     ]
    },
    {
     "name": "stdout",
     "output_type": "stream",
     "text": [
      "\n",
      "      Epoch    GPU_mem   box_loss   cls_loss   dfl_loss  Instances       Size\n"
     ]
    },
    {
     "name": "stderr",
     "output_type": "stream",
     "text": [
      "   290/1000      10.8G     0.1656     0.1458     0.7684         15        736: 100%|██████████| 21/21 [00:04<00:00,  4.31it/s]\n"
     ]
    },
    {
     "name": "stdout",
     "output_type": "stream",
     "text": [
      "\n",
      "      Epoch    GPU_mem   box_loss   cls_loss   dfl_loss  Instances       Size\n"
     ]
    },
    {
     "name": "stderr",
     "output_type": "stream",
     "text": [
      "   291/1000      10.8G     0.1622      0.147     0.7633         15        736: 100%|██████████| 21/21 [00:04<00:00,  4.28it/s]\n"
     ]
    },
    {
     "name": "stdout",
     "output_type": "stream",
     "text": [
      "\n",
      "      Epoch    GPU_mem   box_loss   cls_loss   dfl_loss  Instances       Size\n"
     ]
    },
    {
     "name": "stderr",
     "output_type": "stream",
     "text": [
      "   292/1000      10.8G     0.1641     0.1457     0.7669         21        736: 100%|██████████| 21/21 [00:04<00:00,  4.31it/s]\n"
     ]
    },
    {
     "name": "stdout",
     "output_type": "stream",
     "text": [
      "\n",
      "      Epoch    GPU_mem   box_loss   cls_loss   dfl_loss  Instances       Size\n"
     ]
    },
    {
     "name": "stderr",
     "output_type": "stream",
     "text": [
      "   293/1000      10.8G     0.1668     0.1506     0.7671         15        736: 100%|██████████| 21/21 [00:04<00:00,  4.27it/s]\n"
     ]
    },
    {
     "name": "stdout",
     "output_type": "stream",
     "text": [
      "\n",
      "      Epoch    GPU_mem   box_loss   cls_loss   dfl_loss  Instances       Size\n"
     ]
    },
    {
     "name": "stderr",
     "output_type": "stream",
     "text": [
      "   294/1000      10.8G     0.1653     0.1476     0.7593         15        736: 100%|██████████| 21/21 [00:04<00:00,  4.29it/s]\n"
     ]
    },
    {
     "name": "stdout",
     "output_type": "stream",
     "text": [
      "\n",
      "      Epoch    GPU_mem   box_loss   cls_loss   dfl_loss  Instances       Size\n"
     ]
    },
    {
     "name": "stderr",
     "output_type": "stream",
     "text": [
      "   295/1000      10.8G     0.1672     0.1477     0.7689         19        736: 100%|██████████| 21/21 [00:04<00:00,  4.29it/s]\n"
     ]
    },
    {
     "name": "stdout",
     "output_type": "stream",
     "text": [
      "\n",
      "      Epoch    GPU_mem   box_loss   cls_loss   dfl_loss  Instances       Size\n"
     ]
    },
    {
     "name": "stderr",
     "output_type": "stream",
     "text": [
      "   296/1000      10.8G     0.1606     0.1423     0.7673         14        736: 100%|██████████| 21/21 [00:04<00:00,  4.28it/s]\n"
     ]
    },
    {
     "name": "stdout",
     "output_type": "stream",
     "text": [
      "\n",
      "      Epoch    GPU_mem   box_loss   cls_loss   dfl_loss  Instances       Size\n"
     ]
    },
    {
     "name": "stderr",
     "output_type": "stream",
     "text": [
      "   297/1000      10.8G     0.1661     0.1456     0.7684         15        736: 100%|██████████| 21/21 [00:04<00:00,  4.29it/s]\n"
     ]
    },
    {
     "name": "stdout",
     "output_type": "stream",
     "text": [
      "\n",
      "      Epoch    GPU_mem   box_loss   cls_loss   dfl_loss  Instances       Size\n"
     ]
    },
    {
     "name": "stderr",
     "output_type": "stream",
     "text": [
      "   298/1000      10.8G     0.1729      0.149     0.7716         17        736: 100%|██████████| 21/21 [00:04<00:00,  4.31it/s]\n"
     ]
    },
    {
     "name": "stdout",
     "output_type": "stream",
     "text": [
      "\n",
      "      Epoch    GPU_mem   box_loss   cls_loss   dfl_loss  Instances       Size\n"
     ]
    },
    {
     "name": "stderr",
     "output_type": "stream",
     "text": [
      "   299/1000      10.8G     0.1707     0.1453     0.7723         19        736: 100%|██████████| 21/21 [00:04<00:00,  4.27it/s]\n"
     ]
    },
    {
     "name": "stdout",
     "output_type": "stream",
     "text": [
      "\n",
      "      Epoch    GPU_mem   box_loss   cls_loss   dfl_loss  Instances       Size\n"
     ]
    },
    {
     "name": "stderr",
     "output_type": "stream",
     "text": [
      "   300/1000      10.8G     0.1835     0.1472     0.7715         13        736: 100%|██████████| 21/21 [00:04<00:00,  4.31it/s]\n"
     ]
    },
    {
     "name": "stdout",
     "output_type": "stream",
     "text": [
      "\n",
      "      Epoch    GPU_mem   box_loss   cls_loss   dfl_loss  Instances       Size\n"
     ]
    },
    {
     "name": "stderr",
     "output_type": "stream",
     "text": [
      "   301/1000      10.8G     0.1849     0.1527     0.7631         16        736: 100%|██████████| 21/21 [00:04<00:00,  4.29it/s]\n"
     ]
    },
    {
     "name": "stdout",
     "output_type": "stream",
     "text": [
      "\n",
      "      Epoch    GPU_mem   box_loss   cls_loss   dfl_loss  Instances       Size\n"
     ]
    },
    {
     "name": "stderr",
     "output_type": "stream",
     "text": [
      "   302/1000      10.8G     0.1681      0.149     0.7668         25        736: 100%|██████████| 21/21 [00:04<00:00,  4.31it/s]\n"
     ]
    },
    {
     "name": "stdout",
     "output_type": "stream",
     "text": [
      "\n",
      "      Epoch    GPU_mem   box_loss   cls_loss   dfl_loss  Instances       Size\n"
     ]
    },
    {
     "name": "stderr",
     "output_type": "stream",
     "text": [
      "   303/1000      10.8G     0.1678      0.148     0.7711         15        736: 100%|██████████| 21/21 [00:04<00:00,  4.30it/s]\n"
     ]
    },
    {
     "name": "stdout",
     "output_type": "stream",
     "text": [
      "\n",
      "      Epoch    GPU_mem   box_loss   cls_loss   dfl_loss  Instances       Size\n"
     ]
    },
    {
     "name": "stderr",
     "output_type": "stream",
     "text": [
      "   304/1000      10.8G     0.1649     0.1467     0.7677         15        736: 100%|██████████| 21/21 [00:04<00:00,  4.28it/s]\n"
     ]
    },
    {
     "name": "stdout",
     "output_type": "stream",
     "text": [
      "\n",
      "      Epoch    GPU_mem   box_loss   cls_loss   dfl_loss  Instances       Size\n"
     ]
    },
    {
     "name": "stderr",
     "output_type": "stream",
     "text": [
      "   305/1000      10.8G     0.1717     0.1422     0.7703         15        736: 100%|██████████| 21/21 [00:04<00:00,  4.30it/s]\n"
     ]
    },
    {
     "name": "stdout",
     "output_type": "stream",
     "text": [
      "\n",
      "      Epoch    GPU_mem   box_loss   cls_loss   dfl_loss  Instances       Size\n"
     ]
    },
    {
     "name": "stderr",
     "output_type": "stream",
     "text": [
      "   306/1000      10.8G     0.1823     0.1463     0.7728         12        736: 100%|██████████| 21/21 [00:04<00:00,  4.32it/s]\n"
     ]
    },
    {
     "name": "stdout",
     "output_type": "stream",
     "text": [
      "\n",
      "      Epoch    GPU_mem   box_loss   cls_loss   dfl_loss  Instances       Size\n"
     ]
    },
    {
     "name": "stderr",
     "output_type": "stream",
     "text": [
      "   307/1000      10.8G     0.1608     0.1364     0.7659         15        736: 100%|██████████| 21/21 [00:04<00:00,  4.29it/s]\n"
     ]
    },
    {
     "name": "stdout",
     "output_type": "stream",
     "text": [
      "\n",
      "      Epoch    GPU_mem   box_loss   cls_loss   dfl_loss  Instances       Size\n"
     ]
    },
    {
     "name": "stderr",
     "output_type": "stream",
     "text": [
      "   308/1000      10.8G     0.1573     0.1374     0.7689         21        736: 100%|██████████| 21/21 [00:04<00:00,  4.31it/s]\n"
     ]
    },
    {
     "name": "stdout",
     "output_type": "stream",
     "text": [
      "\n",
      "      Epoch    GPU_mem   box_loss   cls_loss   dfl_loss  Instances       Size\n"
     ]
    },
    {
     "name": "stderr",
     "output_type": "stream",
     "text": [
      "   309/1000      10.8G     0.1515     0.1351     0.7708         11        736: 100%|██████████| 21/21 [00:04<00:00,  4.29it/s]\n"
     ]
    },
    {
     "name": "stdout",
     "output_type": "stream",
     "text": [
      "\n",
      "      Epoch    GPU_mem   box_loss   cls_loss   dfl_loss  Instances       Size\n"
     ]
    },
    {
     "name": "stderr",
     "output_type": "stream",
     "text": [
      "   310/1000      10.8G     0.1564     0.1397     0.7674         20        736: 100%|██████████| 21/21 [00:04<00:00,  4.29it/s]\n"
     ]
    },
    {
     "name": "stdout",
     "output_type": "stream",
     "text": [
      "\n",
      "      Epoch    GPU_mem   box_loss   cls_loss   dfl_loss  Instances       Size\n"
     ]
    },
    {
     "name": "stderr",
     "output_type": "stream",
     "text": [
      "   311/1000      10.8G     0.1597     0.1412     0.7623         17        736: 100%|██████████| 21/21 [00:04<00:00,  4.30it/s]\n"
     ]
    },
    {
     "name": "stdout",
     "output_type": "stream",
     "text": [
      "\n",
      "      Epoch    GPU_mem   box_loss   cls_loss   dfl_loss  Instances       Size\n"
     ]
    },
    {
     "name": "stderr",
     "output_type": "stream",
     "text": [
      "   312/1000      10.7G     0.1624     0.1404     0.7651         16        736: 100%|██████████| 21/21 [00:04<00:00,  4.28it/s]\n"
     ]
    },
    {
     "name": "stdout",
     "output_type": "stream",
     "text": [
      "\n",
      "      Epoch    GPU_mem   box_loss   cls_loss   dfl_loss  Instances       Size\n"
     ]
    },
    {
     "name": "stderr",
     "output_type": "stream",
     "text": [
      "   313/1000      10.8G     0.1573     0.1378     0.7599         12        736: 100%|██████████| 21/21 [00:04<00:00,  4.29it/s]\n"
     ]
    },
    {
     "name": "stdout",
     "output_type": "stream",
     "text": [
      "\n",
      "      Epoch    GPU_mem   box_loss   cls_loss   dfl_loss  Instances       Size\n"
     ]
    },
    {
     "name": "stderr",
     "output_type": "stream",
     "text": [
      "   314/1000      10.8G     0.1627     0.1456     0.7616         16        736: 100%|██████████| 21/21 [00:04<00:00,  4.30it/s]\n"
     ]
    },
    {
     "name": "stdout",
     "output_type": "stream",
     "text": [
      "\n",
      "      Epoch    GPU_mem   box_loss   cls_loss   dfl_loss  Instances       Size\n"
     ]
    },
    {
     "name": "stderr",
     "output_type": "stream",
     "text": [
      "   315/1000      10.8G     0.1638      0.142     0.7713         20        736: 100%|██████████| 21/21 [00:04<00:00,  4.27it/s]\n"
     ]
    },
    {
     "name": "stdout",
     "output_type": "stream",
     "text": [
      "\n",
      "      Epoch    GPU_mem   box_loss   cls_loss   dfl_loss  Instances       Size\n"
     ]
    },
    {
     "name": "stderr",
     "output_type": "stream",
     "text": [
      "   316/1000      10.8G     0.1594     0.1431     0.7626         16        736: 100%|██████████| 21/21 [00:04<00:00,  4.31it/s]\n"
     ]
    },
    {
     "name": "stdout",
     "output_type": "stream",
     "text": [
      "\n",
      "      Epoch    GPU_mem   box_loss   cls_loss   dfl_loss  Instances       Size\n"
     ]
    },
    {
     "name": "stderr",
     "output_type": "stream",
     "text": [
      "   317/1000      10.8G     0.1671     0.1478     0.7652         16        736: 100%|██████████| 21/21 [00:04<00:00,  4.30it/s]\n"
     ]
    },
    {
     "name": "stdout",
     "output_type": "stream",
     "text": [
      "\n",
      "      Epoch    GPU_mem   box_loss   cls_loss   dfl_loss  Instances       Size\n"
     ]
    },
    {
     "name": "stderr",
     "output_type": "stream",
     "text": [
      "   318/1000      10.8G     0.1584     0.1397     0.7671         17        736: 100%|██████████| 21/21 [00:04<00:00,  4.28it/s]\n"
     ]
    },
    {
     "name": "stdout",
     "output_type": "stream",
     "text": [
      "\n",
      "      Epoch    GPU_mem   box_loss   cls_loss   dfl_loss  Instances       Size\n"
     ]
    },
    {
     "name": "stderr",
     "output_type": "stream",
     "text": [
      "   319/1000      10.8G     0.1521     0.1382     0.7649         18        736: 100%|██████████| 21/21 [00:04<00:00,  4.30it/s]\n"
     ]
    },
    {
     "name": "stdout",
     "output_type": "stream",
     "text": [
      "\n",
      "      Epoch    GPU_mem   box_loss   cls_loss   dfl_loss  Instances       Size\n"
     ]
    },
    {
     "name": "stderr",
     "output_type": "stream",
     "text": [
      "   320/1000      10.8G     0.1585     0.1437     0.7639         15        736: 100%|██████████| 21/21 [00:04<00:00,  4.31it/s]\n"
     ]
    },
    {
     "name": "stdout",
     "output_type": "stream",
     "text": [
      "\n",
      "      Epoch    GPU_mem   box_loss   cls_loss   dfl_loss  Instances       Size\n"
     ]
    },
    {
     "name": "stderr",
     "output_type": "stream",
     "text": [
      "   321/1000      10.8G     0.1678     0.1452     0.7692         16        736: 100%|██████████| 21/21 [00:04<00:00,  4.29it/s]\n"
     ]
    },
    {
     "name": "stdout",
     "output_type": "stream",
     "text": [
      "\n",
      "      Epoch    GPU_mem   box_loss   cls_loss   dfl_loss  Instances       Size\n"
     ]
    },
    {
     "name": "stderr",
     "output_type": "stream",
     "text": [
      "   322/1000      10.8G     0.1696     0.1422     0.7685         16        736: 100%|██████████| 21/21 [00:04<00:00,  4.31it/s]\n"
     ]
    },
    {
     "name": "stdout",
     "output_type": "stream",
     "text": [
      "\n",
      "      Epoch    GPU_mem   box_loss   cls_loss   dfl_loss  Instances       Size\n"
     ]
    },
    {
     "name": "stderr",
     "output_type": "stream",
     "text": [
      "   323/1000      10.8G      0.154     0.1395     0.7637         15        736: 100%|██████████| 21/21 [00:04<00:00,  4.30it/s]\n"
     ]
    },
    {
     "name": "stdout",
     "output_type": "stream",
     "text": [
      "\n",
      "      Epoch    GPU_mem   box_loss   cls_loss   dfl_loss  Instances       Size\n"
     ]
    },
    {
     "name": "stderr",
     "output_type": "stream",
     "text": [
      "   324/1000      10.8G     0.1512     0.1383     0.7662         12        736: 100%|██████████| 21/21 [00:04<00:00,  4.32it/s]\n"
     ]
    },
    {
     "name": "stdout",
     "output_type": "stream",
     "text": [
      "\n",
      "      Epoch    GPU_mem   box_loss   cls_loss   dfl_loss  Instances       Size\n"
     ]
    },
    {
     "name": "stderr",
     "output_type": "stream",
     "text": [
      "   325/1000      10.8G     0.1562      0.138     0.7716         18        736: 100%|██████████| 21/21 [00:04<00:00,  4.30it/s]\n"
     ]
    },
    {
     "name": "stdout",
     "output_type": "stream",
     "text": [
      "\n",
      "      Epoch    GPU_mem   box_loss   cls_loss   dfl_loss  Instances       Size\n"
     ]
    },
    {
     "name": "stderr",
     "output_type": "stream",
     "text": [
      "   326/1000      10.8G     0.1583     0.1396     0.7701         16        736: 100%|██████████| 21/21 [00:04<00:00,  4.29it/s]\n"
     ]
    },
    {
     "name": "stdout",
     "output_type": "stream",
     "text": [
      "\n",
      "      Epoch    GPU_mem   box_loss   cls_loss   dfl_loss  Instances       Size\n"
     ]
    },
    {
     "name": "stderr",
     "output_type": "stream",
     "text": [
      "   327/1000      10.8G     0.1591     0.1425     0.7576         10        736: 100%|██████████| 21/21 [00:04<00:00,  4.30it/s]\n"
     ]
    },
    {
     "name": "stdout",
     "output_type": "stream",
     "text": [
      "\n",
      "      Epoch    GPU_mem   box_loss   cls_loss   dfl_loss  Instances       Size\n"
     ]
    },
    {
     "name": "stderr",
     "output_type": "stream",
     "text": [
      "   328/1000      10.8G     0.1608     0.1419     0.7725         14        736: 100%|██████████| 21/21 [00:04<00:00,  4.30it/s]\n"
     ]
    },
    {
     "name": "stdout",
     "output_type": "stream",
     "text": [
      "\n",
      "      Epoch    GPU_mem   box_loss   cls_loss   dfl_loss  Instances       Size\n"
     ]
    },
    {
     "name": "stderr",
     "output_type": "stream",
     "text": [
      "   329/1000      10.8G     0.1619     0.1397     0.7704         17        736: 100%|██████████| 21/21 [00:04<00:00,  4.28it/s]\n"
     ]
    },
    {
     "name": "stdout",
     "output_type": "stream",
     "text": [
      "\n",
      "      Epoch    GPU_mem   box_loss   cls_loss   dfl_loss  Instances       Size\n"
     ]
    },
    {
     "name": "stderr",
     "output_type": "stream",
     "text": [
      "   330/1000      10.8G     0.1697     0.1409     0.7679         14        736: 100%|██████████| 21/21 [00:04<00:00,  4.31it/s]\n"
     ]
    },
    {
     "name": "stdout",
     "output_type": "stream",
     "text": [
      "\n",
      "      Epoch    GPU_mem   box_loss   cls_loss   dfl_loss  Instances       Size\n"
     ]
    },
    {
     "name": "stderr",
     "output_type": "stream",
     "text": [
      "   331/1000      10.8G     0.1613      0.139     0.7652         12        736: 100%|██████████| 21/21 [00:04<00:00,  4.31it/s]\n"
     ]
    },
    {
     "name": "stdout",
     "output_type": "stream",
     "text": [
      "\n",
      "      Epoch    GPU_mem   box_loss   cls_loss   dfl_loss  Instances       Size\n"
     ]
    },
    {
     "name": "stderr",
     "output_type": "stream",
     "text": [
      "   332/1000      10.8G     0.1621     0.1403     0.7612         17        736: 100%|██████████| 21/21 [00:04<00:00,  4.29it/s]\n"
     ]
    },
    {
     "name": "stdout",
     "output_type": "stream",
     "text": [
      "\n",
      "      Epoch    GPU_mem   box_loss   cls_loss   dfl_loss  Instances       Size\n"
     ]
    },
    {
     "name": "stderr",
     "output_type": "stream",
     "text": [
      "   333/1000      10.8G     0.1555     0.1375     0.7719         10        736: 100%|██████████| 21/21 [00:04<00:00,  4.31it/s]\n"
     ]
    },
    {
     "name": "stdout",
     "output_type": "stream",
     "text": [
      "\n",
      "      Epoch    GPU_mem   box_loss   cls_loss   dfl_loss  Instances       Size\n"
     ]
    },
    {
     "name": "stderr",
     "output_type": "stream",
     "text": [
      "   334/1000      10.8G     0.1579     0.1418     0.7676         20        736: 100%|██████████| 21/21 [00:04<00:00,  4.31it/s]\n"
     ]
    },
    {
     "name": "stdout",
     "output_type": "stream",
     "text": [
      "\n",
      "      Epoch    GPU_mem   box_loss   cls_loss   dfl_loss  Instances       Size\n"
     ]
    },
    {
     "name": "stderr",
     "output_type": "stream",
     "text": [
      "   335/1000      10.8G     0.1606     0.1389     0.7699         22        736: 100%|██████████| 21/21 [00:04<00:00,  4.29it/s]\n"
     ]
    },
    {
     "name": "stdout",
     "output_type": "stream",
     "text": [
      "\n",
      "      Epoch    GPU_mem   box_loss   cls_loss   dfl_loss  Instances       Size\n"
     ]
    },
    {
     "name": "stderr",
     "output_type": "stream",
     "text": [
      "   336/1000      10.8G     0.1564     0.1395     0.7619         22        736: 100%|██████████| 21/21 [00:04<00:00,  4.30it/s]\n"
     ]
    },
    {
     "name": "stdout",
     "output_type": "stream",
     "text": [
      "\n",
      "      Epoch    GPU_mem   box_loss   cls_loss   dfl_loss  Instances       Size\n"
     ]
    },
    {
     "name": "stderr",
     "output_type": "stream",
     "text": [
      "   337/1000      10.8G     0.1524      0.135      0.769         14        736: 100%|██████████| 21/21 [00:04<00:00,  4.28it/s]\n"
     ]
    },
    {
     "name": "stdout",
     "output_type": "stream",
     "text": [
      "\n",
      "      Epoch    GPU_mem   box_loss   cls_loss   dfl_loss  Instances       Size\n"
     ]
    },
    {
     "name": "stderr",
     "output_type": "stream",
     "text": [
      "   338/1000      10.8G     0.1476     0.1326     0.7733         23        736: 100%|██████████| 21/21 [00:04<00:00,  4.31it/s]\n"
     ]
    },
    {
     "name": "stdout",
     "output_type": "stream",
     "text": [
      "\n",
      "      Epoch    GPU_mem   box_loss   cls_loss   dfl_loss  Instances       Size\n"
     ]
    },
    {
     "name": "stderr",
     "output_type": "stream",
     "text": [
      "   339/1000      10.8G     0.1532     0.1354     0.7763         12        736: 100%|██████████| 21/21 [00:04<00:00,  4.29it/s]\n"
     ]
    },
    {
     "name": "stdout",
     "output_type": "stream",
     "text": [
      "\n",
      "      Epoch    GPU_mem   box_loss   cls_loss   dfl_loss  Instances       Size\n"
     ]
    },
    {
     "name": "stderr",
     "output_type": "stream",
     "text": [
      "   340/1000      10.8G     0.1628     0.1374     0.7676         12        736: 100%|██████████| 21/21 [00:04<00:00,  4.29it/s]\n"
     ]
    },
    {
     "name": "stdout",
     "output_type": "stream",
     "text": [
      "\n",
      "      Epoch    GPU_mem   box_loss   cls_loss   dfl_loss  Instances       Size\n"
     ]
    },
    {
     "name": "stderr",
     "output_type": "stream",
     "text": [
      "   341/1000      10.8G      0.159     0.1349     0.7668         14        736: 100%|██████████| 21/21 [00:04<00:00,  4.29it/s]\n"
     ]
    },
    {
     "name": "stdout",
     "output_type": "stream",
     "text": [
      "\n",
      "      Epoch    GPU_mem   box_loss   cls_loss   dfl_loss  Instances       Size\n"
     ]
    },
    {
     "name": "stderr",
     "output_type": "stream",
     "text": [
      "   342/1000      10.8G     0.1562     0.1399     0.7631         13        736: 100%|██████████| 21/21 [00:04<00:00,  4.32it/s]\n"
     ]
    },
    {
     "name": "stdout",
     "output_type": "stream",
     "text": [
      "\n",
      "      Epoch    GPU_mem   box_loss   cls_loss   dfl_loss  Instances       Size\n"
     ]
    },
    {
     "name": "stderr",
     "output_type": "stream",
     "text": [
      "   343/1000      10.8G     0.1456     0.1326     0.7662         11        736: 100%|██████████| 21/21 [00:04<00:00,  4.29it/s]\n"
     ]
    },
    {
     "name": "stdout",
     "output_type": "stream",
     "text": [
      "\n",
      "      Epoch    GPU_mem   box_loss   cls_loss   dfl_loss  Instances       Size\n"
     ]
    },
    {
     "name": "stderr",
     "output_type": "stream",
     "text": [
      "   344/1000      10.8G     0.1621     0.1393     0.7733         17        736: 100%|██████████| 21/21 [00:04<00:00,  4.31it/s]\n"
     ]
    },
    {
     "name": "stdout",
     "output_type": "stream",
     "text": [
      "\n",
      "      Epoch    GPU_mem   box_loss   cls_loss   dfl_loss  Instances       Size\n"
     ]
    },
    {
     "name": "stderr",
     "output_type": "stream",
     "text": [
      "   345/1000      10.8G     0.1552     0.1371     0.7633         15        736: 100%|██████████| 21/21 [00:04<00:00,  4.29it/s]\n"
     ]
    },
    {
     "name": "stdout",
     "output_type": "stream",
     "text": [
      "\n",
      "      Epoch    GPU_mem   box_loss   cls_loss   dfl_loss  Instances       Size\n"
     ]
    },
    {
     "name": "stderr",
     "output_type": "stream",
     "text": [
      "   346/1000      10.8G     0.1556      0.134     0.7671         17        736: 100%|██████████| 21/21 [00:04<00:00,  4.31it/s]\n"
     ]
    },
    {
     "name": "stdout",
     "output_type": "stream",
     "text": [
      "\n",
      "      Epoch    GPU_mem   box_loss   cls_loss   dfl_loss  Instances       Size\n"
     ]
    },
    {
     "name": "stderr",
     "output_type": "stream",
     "text": [
      "   347/1000      10.8G     0.1569     0.1368     0.7646         11        736: 100%|██████████| 21/21 [00:04<00:00,  4.30it/s]\n"
     ]
    },
    {
     "name": "stdout",
     "output_type": "stream",
     "text": [
      "\n",
      "      Epoch    GPU_mem   box_loss   cls_loss   dfl_loss  Instances       Size\n"
     ]
    },
    {
     "name": "stderr",
     "output_type": "stream",
     "text": [
      "   348/1000      10.8G     0.1467     0.1326     0.7617         12        736: 100%|██████████| 21/21 [00:04<00:00,  4.30it/s]\n"
     ]
    },
    {
     "name": "stdout",
     "output_type": "stream",
     "text": [
      "\n",
      "      Epoch    GPU_mem   box_loss   cls_loss   dfl_loss  Instances       Size\n"
     ]
    },
    {
     "name": "stderr",
     "output_type": "stream",
     "text": [
      "   349/1000      10.8G     0.1529      0.136     0.7666         13        736: 100%|██████████| 21/21 [00:04<00:00,  4.29it/s]\n"
     ]
    },
    {
     "name": "stdout",
     "output_type": "stream",
     "text": [
      "\n",
      "      Epoch    GPU_mem   box_loss   cls_loss   dfl_loss  Instances       Size\n"
     ]
    },
    {
     "name": "stderr",
     "output_type": "stream",
     "text": [
      "   350/1000      10.8G     0.1608     0.1386      0.764         11        736: 100%|██████████| 21/21 [00:04<00:00,  4.30it/s]\n"
     ]
    },
    {
     "name": "stdout",
     "output_type": "stream",
     "text": [
      "\n",
      "      Epoch    GPU_mem   box_loss   cls_loss   dfl_loss  Instances       Size\n"
     ]
    },
    {
     "name": "stderr",
     "output_type": "stream",
     "text": [
      "   351/1000      10.8G      0.152      0.133     0.7738         12        736: 100%|██████████| 21/21 [00:04<00:00,  4.28it/s]\n"
     ]
    },
    {
     "name": "stdout",
     "output_type": "stream",
     "text": [
      "\n",
      "      Epoch    GPU_mem   box_loss   cls_loss   dfl_loss  Instances       Size\n"
     ]
    },
    {
     "name": "stderr",
     "output_type": "stream",
     "text": [
      "   352/1000      10.8G     0.1547      0.133     0.7635         15        736: 100%|██████████| 21/21 [00:04<00:00,  4.30it/s]\n"
     ]
    },
    {
     "name": "stdout",
     "output_type": "stream",
     "text": [
      "\n",
      "      Epoch    GPU_mem   box_loss   cls_loss   dfl_loss  Instances       Size\n"
     ]
    },
    {
     "name": "stderr",
     "output_type": "stream",
     "text": [
      "   353/1000      10.8G     0.1561     0.1328     0.7702         15        736: 100%|██████████| 21/21 [00:04<00:00,  4.30it/s]\n"
     ]
    },
    {
     "name": "stdout",
     "output_type": "stream",
     "text": [
      "\n",
      "      Epoch    GPU_mem   box_loss   cls_loss   dfl_loss  Instances       Size\n"
     ]
    },
    {
     "name": "stderr",
     "output_type": "stream",
     "text": [
      "   354/1000      10.8G     0.1496      0.131     0.7639         13        736: 100%|██████████| 21/21 [00:04<00:00,  4.29it/s]\n"
     ]
    },
    {
     "name": "stdout",
     "output_type": "stream",
     "text": [
      "\n",
      "      Epoch    GPU_mem   box_loss   cls_loss   dfl_loss  Instances       Size\n"
     ]
    },
    {
     "name": "stderr",
     "output_type": "stream",
     "text": [
      "   355/1000      10.8G     0.1513     0.1325      0.771         19        736: 100%|██████████| 21/21 [00:04<00:00,  4.29it/s]\n"
     ]
    },
    {
     "name": "stdout",
     "output_type": "stream",
     "text": [
      "\n",
      "      Epoch    GPU_mem   box_loss   cls_loss   dfl_loss  Instances       Size\n"
     ]
    },
    {
     "name": "stderr",
     "output_type": "stream",
     "text": [
      "   356/1000      10.8G     0.1521     0.1327      0.764         11        736: 100%|██████████| 21/21 [00:04<00:00,  4.30it/s]\n"
     ]
    },
    {
     "name": "stdout",
     "output_type": "stream",
     "text": [
      "\n",
      "      Epoch    GPU_mem   box_loss   cls_loss   dfl_loss  Instances       Size\n"
     ]
    },
    {
     "name": "stderr",
     "output_type": "stream",
     "text": [
      "   357/1000      10.8G     0.1515     0.1341     0.7654         20        736: 100%|██████████| 21/21 [00:04<00:00,  4.30it/s]\n"
     ]
    },
    {
     "name": "stdout",
     "output_type": "stream",
     "text": [
      "\n",
      "      Epoch    GPU_mem   box_loss   cls_loss   dfl_loss  Instances       Size\n"
     ]
    },
    {
     "name": "stderr",
     "output_type": "stream",
     "text": [
      "   358/1000      10.8G      0.148     0.1289     0.7682         17        736: 100%|██████████| 21/21 [00:04<00:00,  4.31it/s]\n"
     ]
    },
    {
     "name": "stdout",
     "output_type": "stream",
     "text": [
      "\n",
      "      Epoch    GPU_mem   box_loss   cls_loss   dfl_loss  Instances       Size\n"
     ]
    },
    {
     "name": "stderr",
     "output_type": "stream",
     "text": [
      "   359/1000      10.8G     0.1502     0.1311     0.7605         16        736: 100%|██████████| 21/21 [00:04<00:00,  4.29it/s]\n"
     ]
    },
    {
     "name": "stdout",
     "output_type": "stream",
     "text": [
      "\n",
      "      Epoch    GPU_mem   box_loss   cls_loss   dfl_loss  Instances       Size\n"
     ]
    },
    {
     "name": "stderr",
     "output_type": "stream",
     "text": [
      "   360/1000      10.8G     0.1467     0.1292     0.7723         19        736: 100%|██████████| 21/21 [00:04<00:00,  4.31it/s]\n"
     ]
    },
    {
     "name": "stdout",
     "output_type": "stream",
     "text": [
      "\n",
      "      Epoch    GPU_mem   box_loss   cls_loss   dfl_loss  Instances       Size\n"
     ]
    },
    {
     "name": "stderr",
     "output_type": "stream",
     "text": [
      "   361/1000      10.8G     0.1551     0.1337     0.7657         14        736: 100%|██████████| 21/21 [00:04<00:00,  4.31it/s]\n"
     ]
    },
    {
     "name": "stdout",
     "output_type": "stream",
     "text": [
      "\n",
      "      Epoch    GPU_mem   box_loss   cls_loss   dfl_loss  Instances       Size\n"
     ]
    },
    {
     "name": "stderr",
     "output_type": "stream",
     "text": [
      "   362/1000      10.8G      0.153      0.132     0.7684         12        736: 100%|██████████| 21/21 [00:04<00:00,  4.30it/s]\n"
     ]
    },
    {
     "name": "stdout",
     "output_type": "stream",
     "text": [
      "\n",
      "      Epoch    GPU_mem   box_loss   cls_loss   dfl_loss  Instances       Size\n"
     ]
    },
    {
     "name": "stderr",
     "output_type": "stream",
     "text": [
      "   363/1000      10.8G     0.1458     0.1309     0.7621         21        736: 100%|██████████| 21/21 [00:04<00:00,  4.31it/s]\n"
     ]
    },
    {
     "name": "stdout",
     "output_type": "stream",
     "text": [
      "\n",
      "      Epoch    GPU_mem   box_loss   cls_loss   dfl_loss  Instances       Size\n"
     ]
    },
    {
     "name": "stderr",
     "output_type": "stream",
     "text": [
      "   364/1000      10.8G     0.1459     0.1329     0.7695         12        736: 100%|██████████| 21/21 [00:04<00:00,  4.31it/s]\n"
     ]
    },
    {
     "name": "stdout",
     "output_type": "stream",
     "text": [
      "\n",
      "      Epoch    GPU_mem   box_loss   cls_loss   dfl_loss  Instances       Size\n"
     ]
    },
    {
     "name": "stderr",
     "output_type": "stream",
     "text": [
      "   365/1000      10.8G     0.1532     0.1352     0.7714         14        736: 100%|██████████| 21/21 [00:04<00:00,  4.28it/s]\n"
     ]
    },
    {
     "name": "stdout",
     "output_type": "stream",
     "text": [
      "\n",
      "      Epoch    GPU_mem   box_loss   cls_loss   dfl_loss  Instances       Size\n"
     ]
    },
    {
     "name": "stderr",
     "output_type": "stream",
     "text": [
      "   366/1000      10.8G     0.1456     0.1316     0.7668         22        736: 100%|██████████| 21/21 [00:04<00:00,  4.31it/s]\n"
     ]
    },
    {
     "name": "stdout",
     "output_type": "stream",
     "text": [
      "\n",
      "      Epoch    GPU_mem   box_loss   cls_loss   dfl_loss  Instances       Size\n"
     ]
    },
    {
     "name": "stderr",
     "output_type": "stream",
     "text": [
      "   367/1000      10.8G     0.1482     0.1316     0.7646         14        736: 100%|██████████| 21/21 [00:04<00:00,  4.27it/s]\n"
     ]
    },
    {
     "name": "stdout",
     "output_type": "stream",
     "text": [
      "\n",
      "      Epoch    GPU_mem   box_loss   cls_loss   dfl_loss  Instances       Size\n"
     ]
    },
    {
     "name": "stderr",
     "output_type": "stream",
     "text": [
      "   368/1000      10.8G     0.1474     0.1345     0.7626         16        736: 100%|██████████| 21/21 [00:04<00:00,  4.31it/s]\n"
     ]
    },
    {
     "name": "stdout",
     "output_type": "stream",
     "text": [
      "\n",
      "      Epoch    GPU_mem   box_loss   cls_loss   dfl_loss  Instances       Size\n"
     ]
    },
    {
     "name": "stderr",
     "output_type": "stream",
     "text": [
      "   369/1000      10.8G     0.1495     0.1341     0.7643         19        736: 100%|██████████| 21/21 [00:04<00:00,  4.30it/s]\n"
     ]
    },
    {
     "name": "stdout",
     "output_type": "stream",
     "text": [
      "\n",
      "      Epoch    GPU_mem   box_loss   cls_loss   dfl_loss  Instances       Size\n"
     ]
    },
    {
     "name": "stderr",
     "output_type": "stream",
     "text": [
      "   370/1000      10.8G     0.1495     0.1293      0.771         16        736: 100%|██████████| 21/21 [00:04<00:00,  4.28it/s]\n"
     ]
    },
    {
     "name": "stdout",
     "output_type": "stream",
     "text": [
      "\n",
      "      Epoch    GPU_mem   box_loss   cls_loss   dfl_loss  Instances       Size\n"
     ]
    },
    {
     "name": "stderr",
     "output_type": "stream",
     "text": [
      "   371/1000      10.8G     0.1509     0.1325     0.7746         12        736: 100%|██████████| 21/21 [00:04<00:00,  4.30it/s]\n"
     ]
    },
    {
     "name": "stdout",
     "output_type": "stream",
     "text": [
      "\n",
      "      Epoch    GPU_mem   box_loss   cls_loss   dfl_loss  Instances       Size\n"
     ]
    },
    {
     "name": "stderr",
     "output_type": "stream",
     "text": [
      "   372/1000      10.8G     0.1479     0.1291     0.7712         13        736: 100%|██████████| 21/21 [00:04<00:00,  4.31it/s]\n"
     ]
    },
    {
     "name": "stdout",
     "output_type": "stream",
     "text": [
      "\n",
      "      Epoch    GPU_mem   box_loss   cls_loss   dfl_loss  Instances       Size\n"
     ]
    },
    {
     "name": "stderr",
     "output_type": "stream",
     "text": [
      "   373/1000      10.8G     0.1478     0.1358     0.7629         15        736: 100%|██████████| 21/21 [00:04<00:00,  4.27it/s]\n"
     ]
    },
    {
     "name": "stdout",
     "output_type": "stream",
     "text": [
      "\n",
      "      Epoch    GPU_mem   box_loss   cls_loss   dfl_loss  Instances       Size\n"
     ]
    },
    {
     "name": "stderr",
     "output_type": "stream",
     "text": [
      "   374/1000      10.8G     0.1417     0.1237     0.7644         19        736: 100%|██████████| 21/21 [00:04<00:00,  4.30it/s]\n"
     ]
    },
    {
     "name": "stdout",
     "output_type": "stream",
     "text": [
      "\n",
      "      Epoch    GPU_mem   box_loss   cls_loss   dfl_loss  Instances       Size\n"
     ]
    },
    {
     "name": "stderr",
     "output_type": "stream",
     "text": [
      "   375/1000      10.8G     0.1468     0.1298     0.7633         17        736: 100%|██████████| 21/21 [00:04<00:00,  4.28it/s]\n"
     ]
    },
    {
     "name": "stdout",
     "output_type": "stream",
     "text": [
      "\n",
      "      Epoch    GPU_mem   box_loss   cls_loss   dfl_loss  Instances       Size\n"
     ]
    },
    {
     "name": "stderr",
     "output_type": "stream",
     "text": [
      "   376/1000      10.8G     0.1473     0.1309     0.7635         15        736: 100%|██████████| 21/21 [00:04<00:00,  4.29it/s]\n"
     ]
    },
    {
     "name": "stdout",
     "output_type": "stream",
     "text": [
      "\n",
      "      Epoch    GPU_mem   box_loss   cls_loss   dfl_loss  Instances       Size\n"
     ]
    },
    {
     "name": "stderr",
     "output_type": "stream",
     "text": [
      "   377/1000      10.8G     0.1519     0.1344     0.7604         15        736: 100%|██████████| 21/21 [00:04<00:00,  4.30it/s]\n"
     ]
    },
    {
     "name": "stdout",
     "output_type": "stream",
     "text": [
      "\n",
      "      Epoch    GPU_mem   box_loss   cls_loss   dfl_loss  Instances       Size\n"
     ]
    },
    {
     "name": "stderr",
     "output_type": "stream",
     "text": [
      "   378/1000      10.8G     0.1464     0.1267     0.7662         11        736: 100%|██████████| 21/21 [00:04<00:00,  4.30it/s]\n"
     ]
    },
    {
     "name": "stdout",
     "output_type": "stream",
     "text": [
      "\n",
      "      Epoch    GPU_mem   box_loss   cls_loss   dfl_loss  Instances       Size\n"
     ]
    },
    {
     "name": "stderr",
     "output_type": "stream",
     "text": [
      "   379/1000      10.8G     0.1492     0.1341     0.7627         20        736: 100%|██████████| 21/21 [00:04<00:00,  4.31it/s]\n"
     ]
    },
    {
     "name": "stdout",
     "output_type": "stream",
     "text": [
      "\n",
      "      Epoch    GPU_mem   box_loss   cls_loss   dfl_loss  Instances       Size\n"
     ]
    },
    {
     "name": "stderr",
     "output_type": "stream",
     "text": [
      "   380/1000      10.8G     0.1517     0.1313     0.7652         21        736: 100%|██████████| 21/21 [00:04<00:00,  4.32it/s]\n"
     ]
    },
    {
     "name": "stdout",
     "output_type": "stream",
     "text": [
      "\n",
      "      Epoch    GPU_mem   box_loss   cls_loss   dfl_loss  Instances       Size\n"
     ]
    },
    {
     "name": "stderr",
     "output_type": "stream",
     "text": [
      "   381/1000      10.8G     0.1404     0.1237     0.7654         13        736: 100%|██████████| 21/21 [00:04<00:00,  4.28it/s]\n"
     ]
    },
    {
     "name": "stdout",
     "output_type": "stream",
     "text": [
      "\n",
      "      Epoch    GPU_mem   box_loss   cls_loss   dfl_loss  Instances       Size\n"
     ]
    },
    {
     "name": "stderr",
     "output_type": "stream",
     "text": [
      "   382/1000      10.8G     0.1471       0.13     0.7693         20        736: 100%|██████████| 21/21 [00:04<00:00,  4.31it/s]\n"
     ]
    },
    {
     "name": "stdout",
     "output_type": "stream",
     "text": [
      "\n",
      "      Epoch    GPU_mem   box_loss   cls_loss   dfl_loss  Instances       Size\n"
     ]
    },
    {
     "name": "stderr",
     "output_type": "stream",
     "text": [
      "   383/1000      10.8G       0.14     0.1257     0.7629         16        736: 100%|██████████| 21/21 [00:04<00:00,  4.30it/s]\n"
     ]
    },
    {
     "name": "stdout",
     "output_type": "stream",
     "text": [
      "\n",
      "      Epoch    GPU_mem   box_loss   cls_loss   dfl_loss  Instances       Size\n"
     ]
    },
    {
     "name": "stderr",
     "output_type": "stream",
     "text": [
      "   384/1000      10.8G     0.1405     0.1249     0.7671         19        736: 100%|██████████| 21/21 [00:04<00:00,  4.29it/s]\n"
     ]
    },
    {
     "name": "stdout",
     "output_type": "stream",
     "text": [
      "\n",
      "      Epoch    GPU_mem   box_loss   cls_loss   dfl_loss  Instances       Size\n"
     ]
    },
    {
     "name": "stderr",
     "output_type": "stream",
     "text": [
      "   385/1000      10.8G     0.1495     0.1291     0.7705         16        736: 100%|██████████| 21/21 [00:04<00:00,  4.29it/s]\n"
     ]
    },
    {
     "name": "stdout",
     "output_type": "stream",
     "text": [
      "\n",
      "      Epoch    GPU_mem   box_loss   cls_loss   dfl_loss  Instances       Size\n"
     ]
    },
    {
     "name": "stderr",
     "output_type": "stream",
     "text": [
      "   386/1000      10.8G     0.1386     0.1266     0.7664         14        736: 100%|██████████| 21/21 [00:04<00:00,  4.30it/s]\n"
     ]
    },
    {
     "name": "stdout",
     "output_type": "stream",
     "text": [
      "\n",
      "      Epoch    GPU_mem   box_loss   cls_loss   dfl_loss  Instances       Size\n"
     ]
    },
    {
     "name": "stderr",
     "output_type": "stream",
     "text": [
      "   387/1000      10.8G     0.1435     0.1306     0.7692         13        736: 100%|██████████| 21/21 [00:04<00:00,  4.28it/s]\n"
     ]
    },
    {
     "name": "stdout",
     "output_type": "stream",
     "text": [
      "\n",
      "      Epoch    GPU_mem   box_loss   cls_loss   dfl_loss  Instances       Size\n"
     ]
    },
    {
     "name": "stderr",
     "output_type": "stream",
     "text": [
      "   388/1000      10.8G     0.1376     0.1298     0.7629         19        736: 100%|██████████| 21/21 [00:04<00:00,  4.31it/s]\n"
     ]
    },
    {
     "name": "stdout",
     "output_type": "stream",
     "text": [
      "\n",
      "      Epoch    GPU_mem   box_loss   cls_loss   dfl_loss  Instances       Size\n"
     ]
    },
    {
     "name": "stderr",
     "output_type": "stream",
     "text": [
      "   389/1000      10.8G     0.1423     0.1305     0.7659         17        736: 100%|██████████| 21/21 [00:04<00:00,  4.28it/s]\n"
     ]
    },
    {
     "name": "stdout",
     "output_type": "stream",
     "text": [
      "\n",
      "      Epoch    GPU_mem   box_loss   cls_loss   dfl_loss  Instances       Size\n"
     ]
    },
    {
     "name": "stderr",
     "output_type": "stream",
     "text": [
      "   390/1000      10.8G     0.1542      0.136     0.7733         19        736: 100%|██████████| 21/21 [00:04<00:00,  4.31it/s]\n"
     ]
    },
    {
     "name": "stdout",
     "output_type": "stream",
     "text": [
      "\n",
      "      Epoch    GPU_mem   box_loss   cls_loss   dfl_loss  Instances       Size\n"
     ]
    },
    {
     "name": "stderr",
     "output_type": "stream",
     "text": [
      "   391/1000      10.8G     0.1458     0.1319     0.7649         13        736: 100%|██████████| 21/21 [00:04<00:00,  4.30it/s]\n"
     ]
    },
    {
     "name": "stdout",
     "output_type": "stream",
     "text": [
      "\n",
      "      Epoch    GPU_mem   box_loss   cls_loss   dfl_loss  Instances       Size\n"
     ]
    },
    {
     "name": "stderr",
     "output_type": "stream",
     "text": [
      "   392/1000      10.8G      0.145     0.1259     0.7657         13        736: 100%|██████████| 21/21 [00:04<00:00,  4.29it/s]\n"
     ]
    },
    {
     "name": "stdout",
     "output_type": "stream",
     "text": [
      "\n",
      "      Epoch    GPU_mem   box_loss   cls_loss   dfl_loss  Instances       Size\n"
     ]
    },
    {
     "name": "stderr",
     "output_type": "stream",
     "text": [
      "   393/1000      10.8G     0.1491     0.1295     0.7674         12        736: 100%|██████████| 21/21 [00:04<00:00,  4.30it/s]\n"
     ]
    },
    {
     "name": "stdout",
     "output_type": "stream",
     "text": [
      "\n",
      "      Epoch    GPU_mem   box_loss   cls_loss   dfl_loss  Instances       Size\n"
     ]
    },
    {
     "name": "stderr",
     "output_type": "stream",
     "text": [
      "   394/1000      10.8G     0.1463     0.1281     0.7647         15        736: 100%|██████████| 21/21 [00:04<00:00,  4.31it/s]\n"
     ]
    },
    {
     "name": "stdout",
     "output_type": "stream",
     "text": [
      "\n",
      "      Epoch    GPU_mem   box_loss   cls_loss   dfl_loss  Instances       Size\n"
     ]
    },
    {
     "name": "stderr",
     "output_type": "stream",
     "text": [
      "   395/1000      10.8G     0.1525     0.1313     0.7678         16        736: 100%|██████████| 21/21 [00:04<00:00,  4.28it/s]\n"
     ]
    },
    {
     "name": "stdout",
     "output_type": "stream",
     "text": [
      "\n",
      "      Epoch    GPU_mem   box_loss   cls_loss   dfl_loss  Instances       Size\n"
     ]
    },
    {
     "name": "stderr",
     "output_type": "stream",
     "text": [
      "   396/1000      10.8G     0.1461     0.1251       0.77         14        736: 100%|██████████| 21/21 [00:04<00:00,  4.31it/s]\n"
     ]
    },
    {
     "name": "stdout",
     "output_type": "stream",
     "text": [
      "\n",
      "      Epoch    GPU_mem   box_loss   cls_loss   dfl_loss  Instances       Size\n"
     ]
    },
    {
     "name": "stderr",
     "output_type": "stream",
     "text": [
      "   397/1000      10.8G     0.1386     0.1242     0.7619         19        736: 100%|██████████| 21/21 [00:04<00:00,  4.31it/s]\n"
     ]
    },
    {
     "name": "stdout",
     "output_type": "stream",
     "text": [
      "\n",
      "      Epoch    GPU_mem   box_loss   cls_loss   dfl_loss  Instances       Size\n"
     ]
    },
    {
     "name": "stderr",
     "output_type": "stream",
     "text": [
      "   398/1000      10.8G     0.1373     0.1225     0.7658         10        736: 100%|██████████| 21/21 [00:04<00:00,  4.30it/s]\n"
     ]
    },
    {
     "name": "stdout",
     "output_type": "stream",
     "text": [
      "\n",
      "      Epoch    GPU_mem   box_loss   cls_loss   dfl_loss  Instances       Size\n"
     ]
    },
    {
     "name": "stderr",
     "output_type": "stream",
     "text": [
      "   399/1000      10.8G     0.1471     0.1286     0.7652         24        736: 100%|██████████| 21/21 [00:04<00:00,  4.30it/s]\n"
     ]
    },
    {
     "name": "stdout",
     "output_type": "stream",
     "text": [
      "\n",
      "      Epoch    GPU_mem   box_loss   cls_loss   dfl_loss  Instances       Size\n"
     ]
    },
    {
     "name": "stderr",
     "output_type": "stream",
     "text": [
      "   400/1000      10.8G     0.1437      0.129     0.7627         18        736: 100%|██████████| 21/21 [00:04<00:00,  4.28it/s]\n"
     ]
    },
    {
     "name": "stdout",
     "output_type": "stream",
     "text": [
      "\n",
      "      Epoch    GPU_mem   box_loss   cls_loss   dfl_loss  Instances       Size\n"
     ]
    },
    {
     "name": "stderr",
     "output_type": "stream",
     "text": [
      "   401/1000      10.8G     0.1445     0.1259     0.7654         15        736: 100%|██████████| 21/21 [00:04<00:00,  4.29it/s]\n"
     ]
    },
    {
     "name": "stdout",
     "output_type": "stream",
     "text": [
      "\n",
      "      Epoch    GPU_mem   box_loss   cls_loss   dfl_loss  Instances       Size\n"
     ]
    },
    {
     "name": "stderr",
     "output_type": "stream",
     "text": [
      "   402/1000      10.8G     0.1494     0.1307     0.7603         12        736: 100%|██████████| 21/21 [00:04<00:00,  4.30it/s]\n"
     ]
    },
    {
     "name": "stdout",
     "output_type": "stream",
     "text": [
      "\n",
      "      Epoch    GPU_mem   box_loss   cls_loss   dfl_loss  Instances       Size\n"
     ]
    },
    {
     "name": "stderr",
     "output_type": "stream",
     "text": [
      "   403/1000      10.8G     0.1487     0.1309     0.7657         17        736: 100%|██████████| 21/21 [00:04<00:00,  4.27it/s]\n"
     ]
    },
    {
     "name": "stdout",
     "output_type": "stream",
     "text": [
      "\n",
      "      Epoch    GPU_mem   box_loss   cls_loss   dfl_loss  Instances       Size\n"
     ]
    },
    {
     "name": "stderr",
     "output_type": "stream",
     "text": [
      "   404/1000      10.8G     0.1447      0.127     0.7621         16        736: 100%|██████████| 21/21 [00:04<00:00,  4.30it/s]\n"
     ]
    },
    {
     "name": "stdout",
     "output_type": "stream",
     "text": [
      "\n",
      "      Epoch    GPU_mem   box_loss   cls_loss   dfl_loss  Instances       Size\n"
     ]
    },
    {
     "name": "stderr",
     "output_type": "stream",
     "text": [
      "   405/1000      10.8G     0.1488     0.1267     0.7637         11        736: 100%|██████████| 21/21 [00:04<00:00,  4.29it/s]\n"
     ]
    },
    {
     "name": "stdout",
     "output_type": "stream",
     "text": [
      "\n",
      "      Epoch    GPU_mem   box_loss   cls_loss   dfl_loss  Instances       Size\n"
     ]
    },
    {
     "name": "stderr",
     "output_type": "stream",
     "text": [
      "   406/1000      10.8G     0.1431     0.1249     0.7607         15        736: 100%|██████████| 21/21 [00:04<00:00,  4.28it/s]\n"
     ]
    },
    {
     "name": "stdout",
     "output_type": "stream",
     "text": [
      "\n",
      "      Epoch    GPU_mem   box_loss   cls_loss   dfl_loss  Instances       Size\n"
     ]
    },
    {
     "name": "stderr",
     "output_type": "stream",
     "text": [
      "   407/1000      10.8G     0.1444     0.1289     0.7683         23        736: 100%|██████████| 21/21 [00:04<00:00,  4.30it/s]\n"
     ]
    },
    {
     "name": "stdout",
     "output_type": "stream",
     "text": [
      "\n",
      "      Epoch    GPU_mem   box_loss   cls_loss   dfl_loss  Instances       Size\n"
     ]
    },
    {
     "name": "stderr",
     "output_type": "stream",
     "text": [
      "   408/1000      10.8G     0.1418     0.1251     0.7675         14        736: 100%|██████████| 21/21 [00:04<00:00,  4.31it/s]\n"
     ]
    },
    {
     "name": "stdout",
     "output_type": "stream",
     "text": [
      "\n",
      "      Epoch    GPU_mem   box_loss   cls_loss   dfl_loss  Instances       Size\n"
     ]
    },
    {
     "name": "stderr",
     "output_type": "stream",
     "text": [
      "   409/1000      10.8G     0.1532     0.1305     0.7703         14        736: 100%|██████████| 21/21 [00:04<00:00,  4.28it/s]\n"
     ]
    },
    {
     "name": "stdout",
     "output_type": "stream",
     "text": [
      "\n",
      "      Epoch    GPU_mem   box_loss   cls_loss   dfl_loss  Instances       Size\n"
     ]
    },
    {
     "name": "stderr",
     "output_type": "stream",
     "text": [
      "   410/1000      10.8G     0.1364     0.1223     0.7641         12        736: 100%|██████████| 21/21 [00:04<00:00,  4.32it/s]\n"
     ]
    },
    {
     "name": "stdout",
     "output_type": "stream",
     "text": [
      "\n",
      "      Epoch    GPU_mem   box_loss   cls_loss   dfl_loss  Instances       Size\n"
     ]
    },
    {
     "name": "stderr",
     "output_type": "stream",
     "text": [
      "   411/1000      10.8G     0.1313      0.122     0.7665         15        736: 100%|██████████| 21/21 [00:04<00:00,  4.29it/s]\n"
     ]
    },
    {
     "name": "stdout",
     "output_type": "stream",
     "text": [
      "\n",
      "      Epoch    GPU_mem   box_loss   cls_loss   dfl_loss  Instances       Size\n"
     ]
    },
    {
     "name": "stderr",
     "output_type": "stream",
     "text": [
      "   412/1000      10.7G     0.1386     0.1212     0.7761         18        736: 100%|██████████| 21/21 [00:04<00:00,  4.32it/s]\n"
     ]
    },
    {
     "name": "stdout",
     "output_type": "stream",
     "text": [
      "\n",
      "      Epoch    GPU_mem   box_loss   cls_loss   dfl_loss  Instances       Size\n"
     ]
    },
    {
     "name": "stderr",
     "output_type": "stream",
     "text": [
      "   413/1000      10.8G     0.1453     0.1281     0.7647         12        736: 100%|██████████| 21/21 [00:04<00:00,  4.31it/s]\n"
     ]
    },
    {
     "name": "stdout",
     "output_type": "stream",
     "text": [
      "\n",
      "      Epoch    GPU_mem   box_loss   cls_loss   dfl_loss  Instances       Size\n"
     ]
    },
    {
     "name": "stderr",
     "output_type": "stream",
     "text": [
      "   414/1000      10.8G     0.1422      0.127     0.7621         13        736: 100%|██████████| 21/21 [00:04<00:00,  4.30it/s]\n"
     ]
    },
    {
     "name": "stdout",
     "output_type": "stream",
     "text": [
      "\n",
      "      Epoch    GPU_mem   box_loss   cls_loss   dfl_loss  Instances       Size\n"
     ]
    },
    {
     "name": "stderr",
     "output_type": "stream",
     "text": [
      "   415/1000      10.8G      0.141     0.1272     0.7624         12        736: 100%|██████████| 21/21 [00:04<00:00,  4.30it/s]\n"
     ]
    },
    {
     "name": "stdout",
     "output_type": "stream",
     "text": [
      "\n",
      "      Epoch    GPU_mem   box_loss   cls_loss   dfl_loss  Instances       Size\n"
     ]
    },
    {
     "name": "stderr",
     "output_type": "stream",
     "text": [
      "   416/1000      10.8G     0.1401     0.1254     0.7674         17        736: 100%|██████████| 21/21 [00:04<00:00,  4.30it/s]\n"
     ]
    },
    {
     "name": "stdout",
     "output_type": "stream",
     "text": [
      "\n",
      "      Epoch    GPU_mem   box_loss   cls_loss   dfl_loss  Instances       Size\n"
     ]
    },
    {
     "name": "stderr",
     "output_type": "stream",
     "text": [
      "   417/1000      10.8G     0.1407     0.1308     0.7672         15        736: 100%|██████████| 21/21 [00:04<00:00,  4.28it/s]\n"
     ]
    },
    {
     "name": "stdout",
     "output_type": "stream",
     "text": [
      "\n",
      "      Epoch    GPU_mem   box_loss   cls_loss   dfl_loss  Instances       Size\n"
     ]
    },
    {
     "name": "stderr",
     "output_type": "stream",
     "text": [
      "   418/1000      10.8G     0.1472     0.1278     0.7684         13        736: 100%|██████████| 21/21 [00:04<00:00,  4.30it/s]\n"
     ]
    },
    {
     "name": "stdout",
     "output_type": "stream",
     "text": [
      "\n",
      "      Epoch    GPU_mem   box_loss   cls_loss   dfl_loss  Instances       Size\n"
     ]
    },
    {
     "name": "stderr",
     "output_type": "stream",
     "text": [
      "   419/1000      10.8G     0.1395     0.1273     0.7624         15        736: 100%|██████████| 21/21 [00:04<00:00,  4.29it/s]\n"
     ]
    },
    {
     "name": "stdout",
     "output_type": "stream",
     "text": [
      "\n",
      "      Epoch    GPU_mem   box_loss   cls_loss   dfl_loss  Instances       Size\n"
     ]
    },
    {
     "name": "stderr",
     "output_type": "stream",
     "text": [
      "   420/1000      10.8G     0.1359     0.1248     0.7613         16        736: 100%|██████████| 21/21 [00:04<00:00,  4.29it/s]\n"
     ]
    },
    {
     "name": "stdout",
     "output_type": "stream",
     "text": [
      "\n",
      "      Epoch    GPU_mem   box_loss   cls_loss   dfl_loss  Instances       Size\n"
     ]
    },
    {
     "name": "stderr",
     "output_type": "stream",
     "text": [
      "   421/1000      10.8G     0.1343     0.1252     0.7606         15        736: 100%|██████████| 21/21 [00:04<00:00,  4.30it/s]\n"
     ]
    },
    {
     "name": "stdout",
     "output_type": "stream",
     "text": [
      "\n",
      "      Epoch    GPU_mem   box_loss   cls_loss   dfl_loss  Instances       Size\n"
     ]
    },
    {
     "name": "stderr",
     "output_type": "stream",
     "text": [
      "   422/1000      10.8G     0.1385     0.1254     0.7647         11        736: 100%|██████████| 21/21 [00:04<00:00,  4.28it/s]\n"
     ]
    },
    {
     "name": "stdout",
     "output_type": "stream",
     "text": [
      "\n",
      "      Epoch    GPU_mem   box_loss   cls_loss   dfl_loss  Instances       Size\n"
     ]
    },
    {
     "name": "stderr",
     "output_type": "stream",
     "text": [
      "   423/1000      10.8G     0.1431     0.1234     0.7699         13        736: 100%|██████████| 21/21 [00:04<00:00,  4.30it/s]\n"
     ]
    },
    {
     "name": "stdout",
     "output_type": "stream",
     "text": [
      "\n",
      "      Epoch    GPU_mem   box_loss   cls_loss   dfl_loss  Instances       Size\n"
     ]
    },
    {
     "name": "stderr",
     "output_type": "stream",
     "text": [
      "   424/1000      10.8G     0.1366     0.1243     0.7635         15        736: 100%|██████████| 21/21 [00:04<00:00,  4.32it/s]\n"
     ]
    },
    {
     "name": "stdout",
     "output_type": "stream",
     "text": [
      "\n",
      "      Epoch    GPU_mem   box_loss   cls_loss   dfl_loss  Instances       Size\n"
     ]
    },
    {
     "name": "stderr",
     "output_type": "stream",
     "text": [
      "   425/1000      10.8G     0.1407     0.1284      0.763         17        736: 100%|██████████| 21/21 [00:04<00:00,  4.27it/s]\n"
     ]
    },
    {
     "name": "stdout",
     "output_type": "stream",
     "text": [
      "\n",
      "      Epoch    GPU_mem   box_loss   cls_loss   dfl_loss  Instances       Size\n"
     ]
    },
    {
     "name": "stderr",
     "output_type": "stream",
     "text": [
      "   426/1000      10.8G     0.1449     0.1283     0.7624         19        736: 100%|██████████| 21/21 [00:04<00:00,  4.31it/s]\n"
     ]
    },
    {
     "name": "stdout",
     "output_type": "stream",
     "text": [
      "\n",
      "      Epoch    GPU_mem   box_loss   cls_loss   dfl_loss  Instances       Size\n"
     ]
    },
    {
     "name": "stderr",
     "output_type": "stream",
     "text": [
      "   427/1000      10.8G     0.1428     0.1287     0.7613         17        736: 100%|██████████| 21/21 [00:04<00:00,  4.30it/s]\n"
     ]
    },
    {
     "name": "stdout",
     "output_type": "stream",
     "text": [
      "\n",
      "      Epoch    GPU_mem   box_loss   cls_loss   dfl_loss  Instances       Size\n"
     ]
    },
    {
     "name": "stderr",
     "output_type": "stream",
     "text": [
      "   428/1000      10.8G     0.1342     0.1211     0.7615         16        736: 100%|██████████| 21/21 [00:04<00:00,  4.30it/s]\n"
     ]
    },
    {
     "name": "stdout",
     "output_type": "stream",
     "text": [
      "\n",
      "      Epoch    GPU_mem   box_loss   cls_loss   dfl_loss  Instances       Size\n"
     ]
    },
    {
     "name": "stderr",
     "output_type": "stream",
     "text": [
      "   429/1000      10.8G     0.1453     0.1265     0.7687         12        736: 100%|██████████| 21/21 [00:04<00:00,  4.30it/s]\n"
     ]
    },
    {
     "name": "stdout",
     "output_type": "stream",
     "text": [
      "\n",
      "      Epoch    GPU_mem   box_loss   cls_loss   dfl_loss  Instances       Size\n"
     ]
    },
    {
     "name": "stderr",
     "output_type": "stream",
     "text": [
      "   430/1000      10.8G     0.1338     0.1203     0.7615         14        736: 100%|██████████| 21/21 [00:04<00:00,  4.31it/s]\n"
     ]
    },
    {
     "name": "stdout",
     "output_type": "stream",
     "text": [
      "\n",
      "      Epoch    GPU_mem   box_loss   cls_loss   dfl_loss  Instances       Size\n"
     ]
    },
    {
     "name": "stderr",
     "output_type": "stream",
     "text": [
      "   431/1000      10.8G     0.1426     0.1284     0.7628         18        736: 100%|██████████| 21/21 [00:04<00:00,  4.29it/s]\n"
     ]
    },
    {
     "name": "stdout",
     "output_type": "stream",
     "text": [
      "\n",
      "      Epoch    GPU_mem   box_loss   cls_loss   dfl_loss  Instances       Size\n"
     ]
    },
    {
     "name": "stderr",
     "output_type": "stream",
     "text": [
      "   432/1000      10.8G     0.1482     0.1308     0.7722         16        736: 100%|██████████| 21/21 [00:04<00:00,  4.30it/s]\n"
     ]
    },
    {
     "name": "stdout",
     "output_type": "stream",
     "text": [
      "\n",
      "      Epoch    GPU_mem   box_loss   cls_loss   dfl_loss  Instances       Size\n"
     ]
    },
    {
     "name": "stderr",
     "output_type": "stream",
     "text": [
      "   433/1000      10.8G     0.1417     0.1266     0.7611         12        736: 100%|██████████| 21/21 [00:04<00:00,  4.28it/s]\n"
     ]
    },
    {
     "name": "stdout",
     "output_type": "stream",
     "text": [
      "\n",
      "      Epoch    GPU_mem   box_loss   cls_loss   dfl_loss  Instances       Size\n"
     ]
    },
    {
     "name": "stderr",
     "output_type": "stream",
     "text": [
      "   434/1000      10.8G     0.1414     0.1245     0.7663         17        736: 100%|██████████| 21/21 [00:04<00:00,  4.29it/s]\n"
     ]
    },
    {
     "name": "stdout",
     "output_type": "stream",
     "text": [
      "\n",
      "      Epoch    GPU_mem   box_loss   cls_loss   dfl_loss  Instances       Size\n"
     ]
    },
    {
     "name": "stderr",
     "output_type": "stream",
     "text": [
      "   435/1000      10.8G     0.1393     0.1232     0.7694         19        736: 100%|██████████| 21/21 [00:04<00:00,  4.27it/s]\n"
     ]
    },
    {
     "name": "stdout",
     "output_type": "stream",
     "text": [
      "\n",
      "      Epoch    GPU_mem   box_loss   cls_loss   dfl_loss  Instances       Size\n"
     ]
    },
    {
     "name": "stderr",
     "output_type": "stream",
     "text": [
      "   436/1000      10.7G     0.1417     0.1262     0.7643         16        736: 100%|██████████| 21/21 [00:04<00:00,  4.29it/s]\n"
     ]
    },
    {
     "name": "stdout",
     "output_type": "stream",
     "text": [
      "\n",
      "      Epoch    GPU_mem   box_loss   cls_loss   dfl_loss  Instances       Size\n"
     ]
    },
    {
     "name": "stderr",
     "output_type": "stream",
     "text": [
      "   437/1000      10.8G     0.1338     0.1245     0.7679         14        736: 100%|██████████| 21/21 [00:04<00:00,  4.29it/s]\n"
     ]
    },
    {
     "name": "stdout",
     "output_type": "stream",
     "text": [
      "\n",
      "      Epoch    GPU_mem   box_loss   cls_loss   dfl_loss  Instances       Size\n"
     ]
    },
    {
     "name": "stderr",
     "output_type": "stream",
     "text": [
      "   438/1000      10.8G      0.133     0.1188     0.7702         14        736: 100%|██████████| 21/21 [00:04<00:00,  4.30it/s]\n"
     ]
    },
    {
     "name": "stdout",
     "output_type": "stream",
     "text": [
      "\n",
      "      Epoch    GPU_mem   box_loss   cls_loss   dfl_loss  Instances       Size\n"
     ]
    },
    {
     "name": "stderr",
     "output_type": "stream",
     "text": [
      "   439/1000      10.8G     0.1302     0.1195     0.7642         14        736: 100%|██████████| 21/21 [00:04<00:00,  4.28it/s]\n"
     ]
    },
    {
     "name": "stdout",
     "output_type": "stream",
     "text": [
      "\n",
      "      Epoch    GPU_mem   box_loss   cls_loss   dfl_loss  Instances       Size\n"
     ]
    },
    {
     "name": "stderr",
     "output_type": "stream",
     "text": [
      "   440/1000      10.8G     0.1367     0.1235     0.7651         22        736: 100%|██████████| 21/21 [00:04<00:00,  4.29it/s]\n"
     ]
    },
    {
     "name": "stdout",
     "output_type": "stream",
     "text": [
      "\n",
      "      Epoch    GPU_mem   box_loss   cls_loss   dfl_loss  Instances       Size\n"
     ]
    },
    {
     "name": "stderr",
     "output_type": "stream",
     "text": [
      "   441/1000      10.8G     0.1329       0.12     0.7671         19        736: 100%|██████████| 21/21 [00:04<00:00,  4.29it/s]\n"
     ]
    },
    {
     "name": "stdout",
     "output_type": "stream",
     "text": [
      "\n",
      "      Epoch    GPU_mem   box_loss   cls_loss   dfl_loss  Instances       Size\n"
     ]
    },
    {
     "name": "stderr",
     "output_type": "stream",
     "text": [
      "   442/1000      10.8G     0.1363     0.1226     0.7614         13        736: 100%|██████████| 21/21 [00:04<00:00,  4.29it/s]\n"
     ]
    },
    {
     "name": "stdout",
     "output_type": "stream",
     "text": [
      "\n",
      "      Epoch    GPU_mem   box_loss   cls_loss   dfl_loss  Instances       Size\n"
     ]
    },
    {
     "name": "stderr",
     "output_type": "stream",
     "text": [
      "   443/1000      10.8G     0.1307       0.12     0.7625         14        736: 100%|██████████| 21/21 [00:04<00:00,  4.30it/s]\n"
     ]
    },
    {
     "name": "stdout",
     "output_type": "stream",
     "text": [
      "\n",
      "      Epoch    GPU_mem   box_loss   cls_loss   dfl_loss  Instances       Size\n"
     ]
    },
    {
     "name": "stderr",
     "output_type": "stream",
     "text": [
      "   444/1000      10.7G     0.1365     0.1246     0.7634         11        736: 100%|██████████| 21/21 [00:04<00:00,  4.29it/s]\n"
     ]
    },
    {
     "name": "stdout",
     "output_type": "stream",
     "text": [
      "\n",
      "      Epoch    GPU_mem   box_loss   cls_loss   dfl_loss  Instances       Size\n"
     ]
    },
    {
     "name": "stderr",
     "output_type": "stream",
     "text": [
      "   445/1000      10.8G     0.1402     0.1261     0.7618         11        736: 100%|██████████| 21/21 [00:04<00:00,  4.29it/s]\n"
     ]
    },
    {
     "name": "stdout",
     "output_type": "stream",
     "text": [
      "\n",
      "      Epoch    GPU_mem   box_loss   cls_loss   dfl_loss  Instances       Size\n"
     ]
    },
    {
     "name": "stderr",
     "output_type": "stream",
     "text": [
      "   446/1000      10.8G     0.1353     0.1204     0.7686         15        736: 100%|██████████| 21/21 [00:04<00:00,  4.30it/s]\n"
     ]
    },
    {
     "name": "stdout",
     "output_type": "stream",
     "text": [
      "\n",
      "      Epoch    GPU_mem   box_loss   cls_loss   dfl_loss  Instances       Size\n"
     ]
    },
    {
     "name": "stderr",
     "output_type": "stream",
     "text": [
      "   447/1000      10.8G     0.1408     0.1233     0.7704         14        736: 100%|██████████| 21/21 [00:04<00:00,  4.28it/s]\n"
     ]
    },
    {
     "name": "stdout",
     "output_type": "stream",
     "text": [
      "\n",
      "      Epoch    GPU_mem   box_loss   cls_loss   dfl_loss  Instances       Size\n"
     ]
    },
    {
     "name": "stderr",
     "output_type": "stream",
     "text": [
      "   448/1000      10.8G     0.1375     0.1223     0.7657         15        736: 100%|██████████| 21/21 [00:04<00:00,  4.30it/s]\n"
     ]
    },
    {
     "name": "stdout",
     "output_type": "stream",
     "text": [
      "\n",
      "      Epoch    GPU_mem   box_loss   cls_loss   dfl_loss  Instances       Size\n"
     ]
    },
    {
     "name": "stderr",
     "output_type": "stream",
     "text": [
      "   449/1000      10.8G     0.1364     0.1215     0.7676         13        736: 100%|██████████| 21/21 [00:04<00:00,  4.31it/s]\n"
     ]
    },
    {
     "name": "stdout",
     "output_type": "stream",
     "text": [
      "\n",
      "      Epoch    GPU_mem   box_loss   cls_loss   dfl_loss  Instances       Size\n"
     ]
    },
    {
     "name": "stderr",
     "output_type": "stream",
     "text": [
      "   450/1000      10.8G     0.1395     0.1234     0.7635         19        736: 100%|██████████| 21/21 [00:04<00:00,  4.29it/s]\n"
     ]
    },
    {
     "name": "stdout",
     "output_type": "stream",
     "text": [
      "\n",
      "      Epoch    GPU_mem   box_loss   cls_loss   dfl_loss  Instances       Size\n"
     ]
    },
    {
     "name": "stderr",
     "output_type": "stream",
     "text": [
      "   451/1000      10.8G     0.1335     0.1196     0.7753         13        736: 100%|██████████| 21/21 [00:04<00:00,  4.30it/s]\n"
     ]
    },
    {
     "name": "stdout",
     "output_type": "stream",
     "text": [
      "\n",
      "      Epoch    GPU_mem   box_loss   cls_loss   dfl_loss  Instances       Size\n"
     ]
    },
    {
     "name": "stderr",
     "output_type": "stream",
     "text": [
      "   452/1000      10.8G     0.1305     0.1185     0.7623         16        736: 100%|██████████| 21/21 [00:04<00:00,  4.32it/s]\n"
     ]
    },
    {
     "name": "stdout",
     "output_type": "stream",
     "text": [
      "\n",
      "      Epoch    GPU_mem   box_loss   cls_loss   dfl_loss  Instances       Size\n"
     ]
    },
    {
     "name": "stderr",
     "output_type": "stream",
     "text": [
      "   453/1000      10.8G     0.1321     0.1184      0.768         14        736: 100%|██████████| 21/21 [00:04<00:00,  4.29it/s]\n"
     ]
    },
    {
     "name": "stdout",
     "output_type": "stream",
     "text": [
      "\n",
      "      Epoch    GPU_mem   box_loss   cls_loss   dfl_loss  Instances       Size\n"
     ]
    },
    {
     "name": "stderr",
     "output_type": "stream",
     "text": [
      "   454/1000      10.8G     0.1289      0.117      0.758         15        736: 100%|██████████| 21/21 [00:04<00:00,  4.31it/s]\n"
     ]
    },
    {
     "name": "stdout",
     "output_type": "stream",
     "text": [
      "\n",
      "      Epoch    GPU_mem   box_loss   cls_loss   dfl_loss  Instances       Size\n"
     ]
    },
    {
     "name": "stderr",
     "output_type": "stream",
     "text": [
      "   455/1000      10.8G     0.1361     0.1198      0.771         15        736: 100%|██████████| 21/21 [00:04<00:00,  4.29it/s]\n"
     ]
    },
    {
     "name": "stdout",
     "output_type": "stream",
     "text": [
      "\n",
      "      Epoch    GPU_mem   box_loss   cls_loss   dfl_loss  Instances       Size\n"
     ]
    },
    {
     "name": "stderr",
     "output_type": "stream",
     "text": [
      "   456/1000      10.8G     0.1349     0.1208     0.7651         15        736: 100%|██████████| 21/21 [00:04<00:00,  4.31it/s]\n"
     ]
    },
    {
     "name": "stdout",
     "output_type": "stream",
     "text": [
      "\n",
      "      Epoch    GPU_mem   box_loss   cls_loss   dfl_loss  Instances       Size\n"
     ]
    },
    {
     "name": "stderr",
     "output_type": "stream",
     "text": [
      "   457/1000      10.8G     0.1308     0.1213     0.7665         17        736: 100%|██████████| 21/21 [00:04<00:00,  4.30it/s]\n"
     ]
    },
    {
     "name": "stdout",
     "output_type": "stream",
     "text": [
      "\n",
      "      Epoch    GPU_mem   box_loss   cls_loss   dfl_loss  Instances       Size\n"
     ]
    },
    {
     "name": "stderr",
     "output_type": "stream",
     "text": [
      "   458/1000      10.8G     0.1424     0.1247     0.7644         19        736: 100%|██████████| 21/21 [00:04<00:00,  4.27it/s]\n"
     ]
    },
    {
     "name": "stdout",
     "output_type": "stream",
     "text": [
      "\n",
      "      Epoch    GPU_mem   box_loss   cls_loss   dfl_loss  Instances       Size\n"
     ]
    },
    {
     "name": "stderr",
     "output_type": "stream",
     "text": [
      "   459/1000      10.8G     0.1344      0.121     0.7631         15        736: 100%|██████████| 21/21 [00:04<00:00,  4.30it/s]\n"
     ]
    },
    {
     "name": "stdout",
     "output_type": "stream",
     "text": [
      "\n",
      "      Epoch    GPU_mem   box_loss   cls_loss   dfl_loss  Instances       Size\n"
     ]
    },
    {
     "name": "stderr",
     "output_type": "stream",
     "text": [
      "   460/1000      10.8G     0.1342     0.1197     0.7681         15        736: 100%|██████████| 21/21 [00:04<00:00,  4.31it/s]\n"
     ]
    },
    {
     "name": "stdout",
     "output_type": "stream",
     "text": [
      "\n",
      "      Epoch    GPU_mem   box_loss   cls_loss   dfl_loss  Instances       Size\n"
     ]
    },
    {
     "name": "stderr",
     "output_type": "stream",
     "text": [
      "   461/1000      10.8G     0.1316     0.1205     0.7639         19        736: 100%|██████████| 21/21 [00:04<00:00,  4.27it/s]\n"
     ]
    },
    {
     "name": "stdout",
     "output_type": "stream",
     "text": [
      "\n",
      "      Epoch    GPU_mem   box_loss   cls_loss   dfl_loss  Instances       Size\n"
     ]
    },
    {
     "name": "stderr",
     "output_type": "stream",
     "text": [
      "   462/1000      10.8G     0.1306     0.1169     0.7634         11        736: 100%|██████████| 21/21 [00:04<00:00,  4.31it/s]\n"
     ]
    },
    {
     "name": "stdout",
     "output_type": "stream",
     "text": [
      "\n",
      "      Epoch    GPU_mem   box_loss   cls_loss   dfl_loss  Instances       Size\n"
     ]
    },
    {
     "name": "stderr",
     "output_type": "stream",
     "text": [
      "   463/1000      10.8G     0.1366     0.1202     0.7639         19        736: 100%|██████████| 21/21 [00:04<00:00,  4.29it/s]\n"
     ]
    },
    {
     "name": "stdout",
     "output_type": "stream",
     "text": [
      "\n",
      "      Epoch    GPU_mem   box_loss   cls_loss   dfl_loss  Instances       Size\n"
     ]
    },
    {
     "name": "stderr",
     "output_type": "stream",
     "text": [
      "   464/1000      10.8G     0.1305      0.119     0.7766         15        736: 100%|██████████| 21/21 [00:04<00:00,  4.30it/s]\n"
     ]
    },
    {
     "name": "stdout",
     "output_type": "stream",
     "text": [
      "\n",
      "      Epoch    GPU_mem   box_loss   cls_loss   dfl_loss  Instances       Size\n"
     ]
    },
    {
     "name": "stderr",
     "output_type": "stream",
     "text": [
      "   465/1000      10.8G     0.1336     0.1224     0.7718         13        736: 100%|██████████| 21/21 [00:04<00:00,  4.29it/s]\n"
     ]
    },
    {
     "name": "stdout",
     "output_type": "stream",
     "text": [
      "\n",
      "      Epoch    GPU_mem   box_loss   cls_loss   dfl_loss  Instances       Size\n"
     ]
    },
    {
     "name": "stderr",
     "output_type": "stream",
     "text": [
      "   466/1000      10.8G     0.1335       0.12      0.766         18        736: 100%|██████████| 21/21 [00:04<00:00,  4.30it/s]\n"
     ]
    },
    {
     "name": "stdout",
     "output_type": "stream",
     "text": [
      "\n",
      "      Epoch    GPU_mem   box_loss   cls_loss   dfl_loss  Instances       Size\n"
     ]
    },
    {
     "name": "stderr",
     "output_type": "stream",
     "text": [
      "   467/1000      10.8G     0.1289     0.1194     0.7667         13        736: 100%|██████████| 21/21 [00:04<00:00,  4.30it/s]\n"
     ]
    },
    {
     "name": "stdout",
     "output_type": "stream",
     "text": [
      "\n",
      "      Epoch    GPU_mem   box_loss   cls_loss   dfl_loss  Instances       Size\n"
     ]
    },
    {
     "name": "stderr",
     "output_type": "stream",
     "text": [
      "   468/1000      10.8G     0.1316     0.1208     0.7614         10        736: 100%|██████████| 21/21 [00:04<00:00,  4.31it/s]\n"
     ]
    },
    {
     "name": "stdout",
     "output_type": "stream",
     "text": [
      "\n",
      "      Epoch    GPU_mem   box_loss   cls_loss   dfl_loss  Instances       Size\n"
     ]
    },
    {
     "name": "stderr",
     "output_type": "stream",
     "text": [
      "   469/1000      10.8G     0.1223     0.1133     0.7647         15        736: 100%|██████████| 21/21 [00:04<00:00,  4.27it/s]\n"
     ]
    },
    {
     "name": "stdout",
     "output_type": "stream",
     "text": [
      "\n",
      "      Epoch    GPU_mem   box_loss   cls_loss   dfl_loss  Instances       Size\n"
     ]
    },
    {
     "name": "stderr",
     "output_type": "stream",
     "text": [
      "   470/1000      10.8G     0.1294     0.1183     0.7568         17        736: 100%|██████████| 21/21 [00:04<00:00,  4.31it/s]\n"
     ]
    },
    {
     "name": "stdout",
     "output_type": "stream",
     "text": [
      "\n",
      "      Epoch    GPU_mem   box_loss   cls_loss   dfl_loss  Instances       Size\n"
     ]
    },
    {
     "name": "stderr",
     "output_type": "stream",
     "text": [
      "   471/1000      10.8G     0.1355     0.1193     0.7658         17        736: 100%|██████████| 21/21 [00:04<00:00,  4.29it/s]\n"
     ]
    },
    {
     "name": "stdout",
     "output_type": "stream",
     "text": [
      "\n",
      "      Epoch    GPU_mem   box_loss   cls_loss   dfl_loss  Instances       Size\n"
     ]
    },
    {
     "name": "stderr",
     "output_type": "stream",
     "text": [
      "   472/1000      10.8G     0.1301     0.1179     0.7647         18        736: 100%|██████████| 21/21 [00:04<00:00,  4.28it/s]\n"
     ]
    },
    {
     "name": "stdout",
     "output_type": "stream",
     "text": [
      "\n",
      "      Epoch    GPU_mem   box_loss   cls_loss   dfl_loss  Instances       Size\n"
     ]
    },
    {
     "name": "stderr",
     "output_type": "stream",
     "text": [
      "   473/1000      10.8G     0.1262     0.1184     0.7612         12        736: 100%|██████████| 21/21 [00:04<00:00,  4.28it/s]\n"
     ]
    },
    {
     "name": "stdout",
     "output_type": "stream",
     "text": [
      "\n",
      "      Epoch    GPU_mem   box_loss   cls_loss   dfl_loss  Instances       Size\n"
     ]
    },
    {
     "name": "stderr",
     "output_type": "stream",
     "text": [
      "   474/1000      10.8G     0.1269     0.1251      0.761         15        736: 100%|██████████| 21/21 [00:04<00:00,  4.30it/s]\n"
     ]
    },
    {
     "name": "stdout",
     "output_type": "stream",
     "text": [
      "\n",
      "      Epoch    GPU_mem   box_loss   cls_loss   dfl_loss  Instances       Size\n"
     ]
    },
    {
     "name": "stderr",
     "output_type": "stream",
     "text": [
      "   475/1000      10.8G     0.1427       0.13     0.7638         15        736: 100%|██████████| 21/21 [00:04<00:00,  4.28it/s]\n"
     ]
    },
    {
     "name": "stdout",
     "output_type": "stream",
     "text": [
      "\n",
      "      Epoch    GPU_mem   box_loss   cls_loss   dfl_loss  Instances       Size\n"
     ]
    },
    {
     "name": "stderr",
     "output_type": "stream",
     "text": [
      "   476/1000      10.8G     0.1399      0.126     0.7613         11        736: 100%|██████████| 21/21 [00:04<00:00,  4.31it/s]\n"
     ]
    },
    {
     "name": "stdout",
     "output_type": "stream",
     "text": [
      "\n",
      "      Epoch    GPU_mem   box_loss   cls_loss   dfl_loss  Instances       Size\n"
     ]
    },
    {
     "name": "stderr",
     "output_type": "stream",
     "text": [
      "   477/1000      10.8G     0.1331     0.1221     0.7617         24        736: 100%|██████████| 21/21 [00:04<00:00,  4.27it/s]\n"
     ]
    },
    {
     "name": "stdout",
     "output_type": "stream",
     "text": [
      "\n",
      "      Epoch    GPU_mem   box_loss   cls_loss   dfl_loss  Instances       Size\n"
     ]
    },
    {
     "name": "stderr",
     "output_type": "stream",
     "text": [
      "   478/1000      10.8G     0.1347     0.1201     0.7583         15        736: 100%|██████████| 21/21 [00:04<00:00,  4.31it/s]\n"
     ]
    },
    {
     "name": "stdout",
     "output_type": "stream",
     "text": [
      "\n",
      "      Epoch    GPU_mem   box_loss   cls_loss   dfl_loss  Instances       Size\n"
     ]
    },
    {
     "name": "stderr",
     "output_type": "stream",
     "text": [
      "   479/1000      10.8G     0.1344     0.1231     0.7656         20        736: 100%|██████████| 21/21 [00:04<00:00,  4.29it/s]\n"
     ]
    },
    {
     "name": "stdout",
     "output_type": "stream",
     "text": [
      "\n",
      "      Epoch    GPU_mem   box_loss   cls_loss   dfl_loss  Instances       Size\n"
     ]
    },
    {
     "name": "stderr",
     "output_type": "stream",
     "text": [
      "   480/1000      10.8G     0.1319     0.1206     0.7651         12        736: 100%|██████████| 21/21 [00:04<00:00,  4.29it/s]\n"
     ]
    },
    {
     "name": "stdout",
     "output_type": "stream",
     "text": [
      "\n",
      "      Epoch    GPU_mem   box_loss   cls_loss   dfl_loss  Instances       Size\n"
     ]
    },
    {
     "name": "stderr",
     "output_type": "stream",
     "text": [
      "   481/1000      10.8G     0.1369     0.1238     0.7549         21        736: 100%|██████████| 21/21 [00:04<00:00,  4.29it/s]\n"
     ]
    },
    {
     "name": "stdout",
     "output_type": "stream",
     "text": [
      "\n",
      "      Epoch    GPU_mem   box_loss   cls_loss   dfl_loss  Instances       Size\n"
     ]
    },
    {
     "name": "stderr",
     "output_type": "stream",
     "text": [
      "   482/1000      10.8G     0.1336     0.1228      0.771         18        736: 100%|██████████| 21/21 [00:04<00:00,  4.31it/s]\n"
     ]
    },
    {
     "name": "stdout",
     "output_type": "stream",
     "text": [
      "\n",
      "      Epoch    GPU_mem   box_loss   cls_loss   dfl_loss  Instances       Size\n"
     ]
    },
    {
     "name": "stderr",
     "output_type": "stream",
     "text": [
      "   483/1000      10.8G     0.1237     0.1124     0.7742         18        736: 100%|██████████| 21/21 [00:04<00:00,  4.26it/s]\n"
     ]
    },
    {
     "name": "stdout",
     "output_type": "stream",
     "text": [
      "\n",
      "      Epoch    GPU_mem   box_loss   cls_loss   dfl_loss  Instances       Size\n"
     ]
    },
    {
     "name": "stderr",
     "output_type": "stream",
     "text": [
      "   484/1000      10.8G     0.1242     0.1156     0.7627         15        736: 100%|██████████| 21/21 [00:04<00:00,  4.30it/s]\n"
     ]
    },
    {
     "name": "stdout",
     "output_type": "stream",
     "text": [
      "\n",
      "      Epoch    GPU_mem   box_loss   cls_loss   dfl_loss  Instances       Size\n"
     ]
    },
    {
     "name": "stderr",
     "output_type": "stream",
     "text": [
      "   485/1000      10.8G     0.1286      0.116      0.767         15        736: 100%|██████████| 21/21 [00:04<00:00,  4.28it/s]\n"
     ]
    },
    {
     "name": "stdout",
     "output_type": "stream",
     "text": [
      "\n",
      "      Epoch    GPU_mem   box_loss   cls_loss   dfl_loss  Instances       Size\n"
     ]
    },
    {
     "name": "stderr",
     "output_type": "stream",
     "text": [
      "   486/1000      10.8G     0.1275     0.1171     0.7693         16        736: 100%|██████████| 21/21 [00:04<00:00,  4.31it/s]\n"
     ]
    },
    {
     "name": "stdout",
     "output_type": "stream",
     "text": [
      "\n",
      "      Epoch    GPU_mem   box_loss   cls_loss   dfl_loss  Instances       Size\n"
     ]
    },
    {
     "name": "stderr",
     "output_type": "stream",
     "text": [
      "   487/1000      10.8G     0.1322     0.1182     0.7587         17        736: 100%|██████████| 21/21 [00:04<00:00,  4.30it/s]\n"
     ]
    },
    {
     "name": "stdout",
     "output_type": "stream",
     "text": [
      "\n",
      "      Epoch    GPU_mem   box_loss   cls_loss   dfl_loss  Instances       Size\n"
     ]
    },
    {
     "name": "stderr",
     "output_type": "stream",
     "text": [
      "   488/1000      10.8G     0.1368     0.1192     0.7566         20        736: 100%|██████████| 21/21 [00:04<00:00,  4.28it/s]\n"
     ]
    },
    {
     "name": "stdout",
     "output_type": "stream",
     "text": [
      "\n",
      "      Epoch    GPU_mem   box_loss   cls_loss   dfl_loss  Instances       Size\n"
     ]
    },
    {
     "name": "stderr",
     "output_type": "stream",
     "text": [
      "   489/1000      10.8G     0.1331     0.1204     0.7617         15        736: 100%|██████████| 21/21 [00:04<00:00,  4.31it/s]\n"
     ]
    },
    {
     "name": "stdout",
     "output_type": "stream",
     "text": [
      "\n",
      "      Epoch    GPU_mem   box_loss   cls_loss   dfl_loss  Instances       Size\n"
     ]
    },
    {
     "name": "stderr",
     "output_type": "stream",
     "text": [
      "   490/1000      10.7G     0.1302     0.1131     0.7683         14        736: 100%|██████████| 21/21 [00:04<00:00,  4.32it/s]\n"
     ]
    },
    {
     "name": "stdout",
     "output_type": "stream",
     "text": [
      "\n",
      "      Epoch    GPU_mem   box_loss   cls_loss   dfl_loss  Instances       Size\n"
     ]
    },
    {
     "name": "stderr",
     "output_type": "stream",
     "text": [
      "   491/1000      10.8G      0.125     0.1129     0.7629         12        736: 100%|██████████| 21/21 [00:04<00:00,  4.28it/s]\n"
     ]
    },
    {
     "name": "stdout",
     "output_type": "stream",
     "text": [
      "\n",
      "      Epoch    GPU_mem   box_loss   cls_loss   dfl_loss  Instances       Size\n"
     ]
    },
    {
     "name": "stderr",
     "output_type": "stream",
     "text": [
      "   492/1000      10.8G     0.1308     0.1169     0.7662         13        736: 100%|██████████| 21/21 [00:04<00:00,  4.32it/s]\n"
     ]
    },
    {
     "name": "stdout",
     "output_type": "stream",
     "text": [
      "\n",
      "      Epoch    GPU_mem   box_loss   cls_loss   dfl_loss  Instances       Size\n"
     ]
    },
    {
     "name": "stderr",
     "output_type": "stream",
     "text": [
      "   493/1000      10.8G     0.1291     0.1164     0.7666         19        736: 100%|██████████| 21/21 [00:04<00:00,  4.30it/s]\n"
     ]
    },
    {
     "name": "stdout",
     "output_type": "stream",
     "text": [
      "\n",
      "      Epoch    GPU_mem   box_loss   cls_loss   dfl_loss  Instances       Size\n"
     ]
    },
    {
     "name": "stderr",
     "output_type": "stream",
     "text": [
      "   494/1000      10.8G     0.1269     0.1168     0.7674         21        736: 100%|██████████| 21/21 [00:04<00:00,  4.29it/s]\n"
     ]
    },
    {
     "name": "stdout",
     "output_type": "stream",
     "text": [
      "\n",
      "      Epoch    GPU_mem   box_loss   cls_loss   dfl_loss  Instances       Size\n"
     ]
    },
    {
     "name": "stderr",
     "output_type": "stream",
     "text": [
      "   495/1000      10.8G     0.1259     0.1174     0.7664         15        736: 100%|██████████| 21/21 [00:04<00:00,  4.29it/s]\n"
     ]
    },
    {
     "name": "stdout",
     "output_type": "stream",
     "text": [
      "\n",
      "      Epoch    GPU_mem   box_loss   cls_loss   dfl_loss  Instances       Size\n"
     ]
    },
    {
     "name": "stderr",
     "output_type": "stream",
     "text": [
      "   496/1000      10.8G     0.1315     0.1175     0.7592         25        736: 100%|██████████| 21/21 [00:04<00:00,  4.27it/s]\n"
     ]
    },
    {
     "name": "stdout",
     "output_type": "stream",
     "text": [
      "\n",
      "      Epoch    GPU_mem   box_loss   cls_loss   dfl_loss  Instances       Size\n"
     ]
    },
    {
     "name": "stderr",
     "output_type": "stream",
     "text": [
      "   497/1000      10.8G     0.1244     0.1126     0.7654         15        736: 100%|██████████| 21/21 [00:04<00:00,  4.28it/s]\n"
     ]
    },
    {
     "name": "stdout",
     "output_type": "stream",
     "text": [
      "\n",
      "      Epoch    GPU_mem   box_loss   cls_loss   dfl_loss  Instances       Size\n"
     ]
    },
    {
     "name": "stderr",
     "output_type": "stream",
     "text": [
      "   498/1000      10.8G      0.125     0.1131     0.7683         12        736: 100%|██████████| 21/21 [00:04<00:00,  4.31it/s]\n"
     ]
    },
    {
     "name": "stdout",
     "output_type": "stream",
     "text": [
      "\n",
      "      Epoch    GPU_mem   box_loss   cls_loss   dfl_loss  Instances       Size\n"
     ]
    },
    {
     "name": "stderr",
     "output_type": "stream",
     "text": [
      "   499/1000      10.8G     0.1284     0.1144      0.762         17        736: 100%|██████████| 21/21 [00:04<00:00,  4.28it/s]\n"
     ]
    },
    {
     "name": "stdout",
     "output_type": "stream",
     "text": [
      "\n",
      "      Epoch    GPU_mem   box_loss   cls_loss   dfl_loss  Instances       Size\n"
     ]
    },
    {
     "name": "stderr",
     "output_type": "stream",
     "text": [
      "   500/1000      10.8G     0.1264      0.111     0.7659         15        736: 100%|██████████| 21/21 [00:04<00:00,  4.31it/s]\n"
     ]
    },
    {
     "name": "stdout",
     "output_type": "stream",
     "text": [
      "\n",
      "      Epoch    GPU_mem   box_loss   cls_loss   dfl_loss  Instances       Size\n"
     ]
    },
    {
     "name": "stderr",
     "output_type": "stream",
     "text": [
      "   501/1000      10.8G     0.1237      0.113     0.7602         12        736: 100%|██████████| 21/21 [00:04<00:00,  4.30it/s]\n"
     ]
    },
    {
     "name": "stdout",
     "output_type": "stream",
     "text": [
      "\n",
      "      Epoch    GPU_mem   box_loss   cls_loss   dfl_loss  Instances       Size\n"
     ]
    },
    {
     "name": "stderr",
     "output_type": "stream",
     "text": [
      "   502/1000      10.8G      0.121     0.1128     0.7639         15        736: 100%|██████████| 21/21 [00:04<00:00,  4.29it/s]\n"
     ]
    },
    {
     "name": "stdout",
     "output_type": "stream",
     "text": [
      "\n",
      "      Epoch    GPU_mem   box_loss   cls_loss   dfl_loss  Instances       Size\n"
     ]
    },
    {
     "name": "stderr",
     "output_type": "stream",
     "text": [
      "   503/1000      10.8G     0.1222     0.1097     0.7597         14        736: 100%|██████████| 21/21 [00:04<00:00,  4.30it/s]\n"
     ]
    },
    {
     "name": "stdout",
     "output_type": "stream",
     "text": [
      "\n",
      "      Epoch    GPU_mem   box_loss   cls_loss   dfl_loss  Instances       Size\n"
     ]
    },
    {
     "name": "stderr",
     "output_type": "stream",
     "text": [
      "   504/1000      10.8G     0.1241      0.113     0.7647         22        736: 100%|██████████| 21/21 [00:04<00:00,  4.31it/s]\n"
     ]
    },
    {
     "name": "stdout",
     "output_type": "stream",
     "text": [
      "\n",
      "      Epoch    GPU_mem   box_loss   cls_loss   dfl_loss  Instances       Size\n"
     ]
    },
    {
     "name": "stderr",
     "output_type": "stream",
     "text": [
      "   505/1000      10.8G     0.1291     0.1147     0.7645         14        736: 100%|██████████| 21/21 [00:04<00:00,  4.28it/s]\n"
     ]
    },
    {
     "name": "stdout",
     "output_type": "stream",
     "text": [
      "\n",
      "      Epoch    GPU_mem   box_loss   cls_loss   dfl_loss  Instances       Size\n"
     ]
    },
    {
     "name": "stderr",
     "output_type": "stream",
     "text": [
      "   506/1000      10.8G     0.1204     0.1111     0.7619         21        736: 100%|██████████| 21/21 [00:04<00:00,  4.32it/s]\n"
     ]
    },
    {
     "name": "stdout",
     "output_type": "stream",
     "text": [
      "\n",
      "      Epoch    GPU_mem   box_loss   cls_loss   dfl_loss  Instances       Size\n"
     ]
    },
    {
     "name": "stderr",
     "output_type": "stream",
     "text": [
      "   507/1000      10.8G     0.1197     0.1076     0.7684         10        736: 100%|██████████| 21/21 [00:04<00:00,  4.28it/s]\n"
     ]
    },
    {
     "name": "stdout",
     "output_type": "stream",
     "text": [
      "\n",
      "      Epoch    GPU_mem   box_loss   cls_loss   dfl_loss  Instances       Size\n"
     ]
    },
    {
     "name": "stderr",
     "output_type": "stream",
     "text": [
      "   508/1000      10.8G     0.1239     0.1121     0.7692         16        736: 100%|██████████| 21/21 [00:04<00:00,  4.31it/s]\n"
     ]
    },
    {
     "name": "stdout",
     "output_type": "stream",
     "text": [
      "\n",
      "      Epoch    GPU_mem   box_loss   cls_loss   dfl_loss  Instances       Size\n"
     ]
    },
    {
     "name": "stderr",
     "output_type": "stream",
     "text": [
      "   509/1000      10.8G     0.1218     0.1152     0.7675         20        736: 100%|██████████| 21/21 [00:04<00:00,  4.30it/s]\n"
     ]
    },
    {
     "name": "stdout",
     "output_type": "stream",
     "text": [
      "\n",
      "      Epoch    GPU_mem   box_loss   cls_loss   dfl_loss  Instances       Size\n"
     ]
    },
    {
     "name": "stderr",
     "output_type": "stream",
     "text": [
      "   510/1000      10.8G     0.1274      0.118     0.7654         20        736: 100%|██████████| 21/21 [00:04<00:00,  4.29it/s]\n"
     ]
    },
    {
     "name": "stdout",
     "output_type": "stream",
     "text": [
      "\n",
      "      Epoch    GPU_mem   box_loss   cls_loss   dfl_loss  Instances       Size\n"
     ]
    },
    {
     "name": "stderr",
     "output_type": "stream",
     "text": [
      "   511/1000      10.8G     0.1336     0.1176      0.764         19        736: 100%|██████████| 21/21 [00:04<00:00,  4.29it/s]\n"
     ]
    },
    {
     "name": "stdout",
     "output_type": "stream",
     "text": [
      "\n",
      "      Epoch    GPU_mem   box_loss   cls_loss   dfl_loss  Instances       Size\n"
     ]
    },
    {
     "name": "stderr",
     "output_type": "stream",
     "text": [
      "   512/1000      10.8G     0.1236      0.112     0.7695         11        736: 100%|██████████| 21/21 [00:04<00:00,  4.30it/s]\n"
     ]
    },
    {
     "name": "stdout",
     "output_type": "stream",
     "text": [
      "\n",
      "      Epoch    GPU_mem   box_loss   cls_loss   dfl_loss  Instances       Size\n"
     ]
    },
    {
     "name": "stderr",
     "output_type": "stream",
     "text": [
      "   513/1000      10.8G     0.1273     0.1157     0.7563         15        736: 100%|██████████| 21/21 [00:04<00:00,  4.27it/s]\n"
     ]
    },
    {
     "name": "stdout",
     "output_type": "stream",
     "text": [
      "\n",
      "      Epoch    GPU_mem   box_loss   cls_loss   dfl_loss  Instances       Size\n"
     ]
    },
    {
     "name": "stderr",
     "output_type": "stream",
     "text": [
      "   514/1000      10.8G     0.1282     0.1166     0.7718         19        736: 100%|██████████| 21/21 [00:04<00:00,  4.28it/s]\n"
     ]
    },
    {
     "name": "stdout",
     "output_type": "stream",
     "text": [
      "\n",
      "      Epoch    GPU_mem   box_loss   cls_loss   dfl_loss  Instances       Size\n"
     ]
    },
    {
     "name": "stderr",
     "output_type": "stream",
     "text": [
      "   515/1000      10.8G     0.1285     0.1177     0.7689         12        736: 100%|██████████| 21/21 [00:04<00:00,  4.30it/s]\n"
     ]
    },
    {
     "name": "stdout",
     "output_type": "stream",
     "text": [
      "\n",
      "      Epoch    GPU_mem   box_loss   cls_loss   dfl_loss  Instances       Size\n"
     ]
    },
    {
     "name": "stderr",
     "output_type": "stream",
     "text": [
      "   516/1000      10.8G     0.1209       0.11     0.7735         13        736: 100%|██████████| 21/21 [00:04<00:00,  4.29it/s]\n"
     ]
    },
    {
     "name": "stdout",
     "output_type": "stream",
     "text": [
      "\n",
      "      Epoch    GPU_mem   box_loss   cls_loss   dfl_loss  Instances       Size\n"
     ]
    },
    {
     "name": "stderr",
     "output_type": "stream",
     "text": [
      "   517/1000      10.8G      0.122     0.1124     0.7686         16        736: 100%|██████████| 21/21 [00:04<00:00,  4.29it/s]\n"
     ]
    },
    {
     "name": "stdout",
     "output_type": "stream",
     "text": [
      "\n",
      "      Epoch    GPU_mem   box_loss   cls_loss   dfl_loss  Instances       Size\n"
     ]
    },
    {
     "name": "stderr",
     "output_type": "stream",
     "text": [
      "   518/1000      10.8G     0.1253     0.1119     0.7638         18        736: 100%|██████████| 21/21 [00:04<00:00,  4.29it/s]\n"
     ]
    },
    {
     "name": "stdout",
     "output_type": "stream",
     "text": [
      "\n",
      "      Epoch    GPU_mem   box_loss   cls_loss   dfl_loss  Instances       Size\n"
     ]
    },
    {
     "name": "stderr",
     "output_type": "stream",
     "text": [
      "   519/1000      10.8G     0.1247     0.1108     0.7693         16        736: 100%|██████████| 21/21 [00:04<00:00,  4.29it/s]\n"
     ]
    },
    {
     "name": "stdout",
     "output_type": "stream",
     "text": [
      "\n",
      "      Epoch    GPU_mem   box_loss   cls_loss   dfl_loss  Instances       Size\n"
     ]
    },
    {
     "name": "stderr",
     "output_type": "stream",
     "text": [
      "   520/1000      10.8G     0.1217     0.1162     0.7662         18        736: 100%|██████████| 21/21 [00:04<00:00,  4.31it/s]\n"
     ]
    },
    {
     "name": "stdout",
     "output_type": "stream",
     "text": [
      "\n",
      "      Epoch    GPU_mem   box_loss   cls_loss   dfl_loss  Instances       Size\n"
     ]
    },
    {
     "name": "stderr",
     "output_type": "stream",
     "text": [
      "   521/1000      10.8G     0.1186     0.1093     0.7681         19        736: 100%|██████████| 21/21 [00:04<00:00,  4.29it/s]\n"
     ]
    },
    {
     "name": "stdout",
     "output_type": "stream",
     "text": [
      "\n",
      "      Epoch    GPU_mem   box_loss   cls_loss   dfl_loss  Instances       Size\n"
     ]
    },
    {
     "name": "stderr",
     "output_type": "stream",
     "text": [
      "   522/1000      10.8G     0.1166     0.1094     0.7667         17        736: 100%|██████████| 21/21 [00:04<00:00,  4.31it/s]\n"
     ]
    },
    {
     "name": "stdout",
     "output_type": "stream",
     "text": [
      "\n",
      "      Epoch    GPU_mem   box_loss   cls_loss   dfl_loss  Instances       Size\n"
     ]
    },
    {
     "name": "stderr",
     "output_type": "stream",
     "text": [
      "   523/1000      10.8G     0.1202      0.111     0.7649         17        736: 100%|██████████| 21/21 [00:04<00:00,  4.31it/s]\n"
     ]
    },
    {
     "name": "stdout",
     "output_type": "stream",
     "text": [
      "\n",
      "      Epoch    GPU_mem   box_loss   cls_loss   dfl_loss  Instances       Size\n"
     ]
    },
    {
     "name": "stderr",
     "output_type": "stream",
     "text": [
      "   524/1000      10.8G     0.1227     0.1127     0.7604         13        736: 100%|██████████| 21/21 [00:04<00:00,  4.31it/s]\n"
     ]
    },
    {
     "name": "stdout",
     "output_type": "stream",
     "text": [
      "\n",
      "      Epoch    GPU_mem   box_loss   cls_loss   dfl_loss  Instances       Size\n"
     ]
    },
    {
     "name": "stderr",
     "output_type": "stream",
     "text": [
      "   525/1000      10.8G     0.1208     0.1121     0.7708         14        736: 100%|██████████| 21/21 [00:04<00:00,  4.31it/s]\n"
     ]
    },
    {
     "name": "stdout",
     "output_type": "stream",
     "text": [
      "\n",
      "      Epoch    GPU_mem   box_loss   cls_loss   dfl_loss  Instances       Size\n"
     ]
    },
    {
     "name": "stderr",
     "output_type": "stream",
     "text": [
      "   526/1000      10.8G     0.1239      0.117     0.7589         22        736: 100%|██████████| 21/21 [00:04<00:00,  4.33it/s]\n"
     ]
    },
    {
     "name": "stdout",
     "output_type": "stream",
     "text": [
      "\n",
      "      Epoch    GPU_mem   box_loss   cls_loss   dfl_loss  Instances       Size\n"
     ]
    },
    {
     "name": "stderr",
     "output_type": "stream",
     "text": [
      "   527/1000      10.8G     0.1224     0.1135     0.7631         18        736: 100%|██████████| 21/21 [00:04<00:00,  4.27it/s]\n"
     ]
    },
    {
     "name": "stdout",
     "output_type": "stream",
     "text": [
      "\n",
      "      Epoch    GPU_mem   box_loss   cls_loss   dfl_loss  Instances       Size\n"
     ]
    },
    {
     "name": "stderr",
     "output_type": "stream",
     "text": [
      "   528/1000      10.8G     0.1191     0.1093     0.7634         16        736: 100%|██████████| 21/21 [00:04<00:00,  4.31it/s]\n"
     ]
    },
    {
     "name": "stdout",
     "output_type": "stream",
     "text": [
      "\n",
      "      Epoch    GPU_mem   box_loss   cls_loss   dfl_loss  Instances       Size\n"
     ]
    },
    {
     "name": "stderr",
     "output_type": "stream",
     "text": [
      "   529/1000      10.8G     0.1217     0.1092     0.7684         16        736: 100%|██████████| 21/21 [00:04<00:00,  4.26it/s]\n"
     ]
    },
    {
     "name": "stdout",
     "output_type": "stream",
     "text": [
      "\n",
      "      Epoch    GPU_mem   box_loss   cls_loss   dfl_loss  Instances       Size\n"
     ]
    },
    {
     "name": "stderr",
     "output_type": "stream",
     "text": [
      "   530/1000      10.8G     0.1205     0.1087     0.7665         20        736: 100%|██████████| 21/21 [00:04<00:00,  4.30it/s]\n"
     ]
    },
    {
     "name": "stdout",
     "output_type": "stream",
     "text": [
      "\n",
      "      Epoch    GPU_mem   box_loss   cls_loss   dfl_loss  Instances       Size\n"
     ]
    },
    {
     "name": "stderr",
     "output_type": "stream",
     "text": [
      "   531/1000      10.8G      0.116     0.1077      0.773         17        736: 100%|██████████| 21/21 [00:04<00:00,  4.29it/s]\n"
     ]
    },
    {
     "name": "stdout",
     "output_type": "stream",
     "text": [
      "\n",
      "      Epoch    GPU_mem   box_loss   cls_loss   dfl_loss  Instances       Size\n"
     ]
    },
    {
     "name": "stderr",
     "output_type": "stream",
     "text": [
      "   532/1000      10.8G      0.123     0.1132     0.7695         13        736: 100%|██████████| 21/21 [00:04<00:00,  4.28it/s]\n"
     ]
    },
    {
     "name": "stdout",
     "output_type": "stream",
     "text": [
      "\n",
      "      Epoch    GPU_mem   box_loss   cls_loss   dfl_loss  Instances       Size\n"
     ]
    },
    {
     "name": "stderr",
     "output_type": "stream",
     "text": [
      "   533/1000      10.8G     0.1268     0.1162     0.7649         12        736: 100%|██████████| 21/21 [00:04<00:00,  4.28it/s]\n"
     ]
    },
    {
     "name": "stdout",
     "output_type": "stream",
     "text": [
      "\n",
      "      Epoch    GPU_mem   box_loss   cls_loss   dfl_loss  Instances       Size\n"
     ]
    },
    {
     "name": "stderr",
     "output_type": "stream",
     "text": [
      "   534/1000      10.8G     0.1198     0.1098     0.7686         16        736: 100%|██████████| 21/21 [00:04<00:00,  4.32it/s]\n"
     ]
    },
    {
     "name": "stdout",
     "output_type": "stream",
     "text": [
      "\n",
      "      Epoch    GPU_mem   box_loss   cls_loss   dfl_loss  Instances       Size\n"
     ]
    },
    {
     "name": "stderr",
     "output_type": "stream",
     "text": [
      "   535/1000      10.8G     0.1165     0.1084     0.7658         15        736: 100%|██████████| 21/21 [00:04<00:00,  4.28it/s]\n"
     ]
    },
    {
     "name": "stdout",
     "output_type": "stream",
     "text": [
      "\n",
      "      Epoch    GPU_mem   box_loss   cls_loss   dfl_loss  Instances       Size\n"
     ]
    },
    {
     "name": "stderr",
     "output_type": "stream",
     "text": [
      "   536/1000      10.8G     0.1215     0.1107     0.7693         13        736: 100%|██████████| 21/21 [00:04<00:00,  4.30it/s]\n"
     ]
    },
    {
     "name": "stdout",
     "output_type": "stream",
     "text": [
      "\n",
      "      Epoch    GPU_mem   box_loss   cls_loss   dfl_loss  Instances       Size\n"
     ]
    },
    {
     "name": "stderr",
     "output_type": "stream",
     "text": [
      "   537/1000      10.8G     0.1232     0.1097     0.7684         18        736: 100%|██████████| 21/21 [00:04<00:00,  4.30it/s]\n"
     ]
    },
    {
     "name": "stdout",
     "output_type": "stream",
     "text": [
      "\n",
      "      Epoch    GPU_mem   box_loss   cls_loss   dfl_loss  Instances       Size\n"
     ]
    },
    {
     "name": "stderr",
     "output_type": "stream",
     "text": [
      "   538/1000      10.8G     0.1262     0.1091      0.768         17        736: 100%|██████████| 21/21 [00:04<00:00,  4.29it/s]\n"
     ]
    },
    {
     "name": "stdout",
     "output_type": "stream",
     "text": [
      "\n",
      "      Epoch    GPU_mem   box_loss   cls_loss   dfl_loss  Instances       Size\n"
     ]
    },
    {
     "name": "stderr",
     "output_type": "stream",
     "text": [
      "   539/1000      10.8G     0.1246     0.1112     0.7692         16        736: 100%|██████████| 21/21 [00:04<00:00,  4.30it/s]\n"
     ]
    },
    {
     "name": "stdout",
     "output_type": "stream",
     "text": [
      "\n",
      "      Epoch    GPU_mem   box_loss   cls_loss   dfl_loss  Instances       Size\n"
     ]
    },
    {
     "name": "stderr",
     "output_type": "stream",
     "text": [
      "   540/1000      10.8G     0.1176     0.1049     0.7751         18        736: 100%|██████████| 21/21 [00:04<00:00,  4.31it/s]\n"
     ]
    },
    {
     "name": "stdout",
     "output_type": "stream",
     "text": [
      "\n",
      "      Epoch    GPU_mem   box_loss   cls_loss   dfl_loss  Instances       Size\n"
     ]
    },
    {
     "name": "stderr",
     "output_type": "stream",
     "text": [
      "   541/1000      10.8G     0.1145     0.1048     0.7696         18        736: 100%|██████████| 21/21 [00:04<00:00,  4.30it/s]\n"
     ]
    },
    {
     "name": "stdout",
     "output_type": "stream",
     "text": [
      "\n",
      "      Epoch    GPU_mem   box_loss   cls_loss   dfl_loss  Instances       Size\n"
     ]
    },
    {
     "name": "stderr",
     "output_type": "stream",
     "text": [
      "   542/1000      10.8G     0.1196     0.1092      0.766         21        736: 100%|██████████| 21/21 [00:04<00:00,  4.30it/s]\n"
     ]
    },
    {
     "name": "stdout",
     "output_type": "stream",
     "text": [
      "\n",
      "      Epoch    GPU_mem   box_loss   cls_loss   dfl_loss  Instances       Size\n"
     ]
    },
    {
     "name": "stderr",
     "output_type": "stream",
     "text": [
      "   543/1000      10.8G     0.1188     0.1073     0.7624         14        736: 100%|██████████| 21/21 [00:04<00:00,  4.27it/s]\n"
     ]
    },
    {
     "name": "stdout",
     "output_type": "stream",
     "text": [
      "\n",
      "      Epoch    GPU_mem   box_loss   cls_loss   dfl_loss  Instances       Size\n"
     ]
    },
    {
     "name": "stderr",
     "output_type": "stream",
     "text": [
      "   544/1000      10.8G     0.1187     0.1082     0.7656         18        736: 100%|██████████| 21/21 [00:04<00:00,  4.31it/s]\n"
     ]
    },
    {
     "name": "stdout",
     "output_type": "stream",
     "text": [
      "\n",
      "      Epoch    GPU_mem   box_loss   cls_loss   dfl_loss  Instances       Size\n"
     ]
    },
    {
     "name": "stderr",
     "output_type": "stream",
     "text": [
      "   545/1000      10.8G     0.1258     0.1137     0.7675         14        736: 100%|██████████| 21/21 [00:04<00:00,  4.29it/s]\n"
     ]
    },
    {
     "name": "stdout",
     "output_type": "stream",
     "text": [
      "\n",
      "      Epoch    GPU_mem   box_loss   cls_loss   dfl_loss  Instances       Size\n"
     ]
    },
    {
     "name": "stderr",
     "output_type": "stream",
     "text": [
      "   546/1000      10.8G     0.1177     0.1086       0.77         11        736: 100%|██████████| 21/21 [00:04<00:00,  4.30it/s]\n"
     ]
    },
    {
     "name": "stdout",
     "output_type": "stream",
     "text": [
      "\n",
      "      Epoch    GPU_mem   box_loss   cls_loss   dfl_loss  Instances       Size\n"
     ]
    },
    {
     "name": "stderr",
     "output_type": "stream",
     "text": [
      "   547/1000      10.8G     0.1149     0.1074     0.7621         14        736: 100%|██████████| 21/21 [00:04<00:00,  4.30it/s]\n"
     ]
    },
    {
     "name": "stdout",
     "output_type": "stream",
     "text": [
      "\n",
      "      Epoch    GPU_mem   box_loss   cls_loss   dfl_loss  Instances       Size\n"
     ]
    },
    {
     "name": "stderr",
     "output_type": "stream",
     "text": [
      "   548/1000      10.8G     0.1132     0.1056     0.7602         12        736: 100%|██████████| 21/21 [00:04<00:00,  4.30it/s]\n"
     ]
    },
    {
     "name": "stdout",
     "output_type": "stream",
     "text": [
      "\n",
      "      Epoch    GPU_mem   box_loss   cls_loss   dfl_loss  Instances       Size\n"
     ]
    },
    {
     "name": "stderr",
     "output_type": "stream",
     "text": [
      "   549/1000      10.8G      0.115     0.1072     0.7632         11        736: 100%|██████████| 21/21 [00:04<00:00,  4.27it/s]\n"
     ]
    },
    {
     "name": "stdout",
     "output_type": "stream",
     "text": [
      "\n",
      "      Epoch    GPU_mem   box_loss   cls_loss   dfl_loss  Instances       Size\n"
     ]
    },
    {
     "name": "stderr",
     "output_type": "stream",
     "text": [
      "   550/1000      10.8G     0.1191     0.1061     0.7727         14        736: 100%|██████████| 21/21 [00:04<00:00,  4.30it/s]\n"
     ]
    },
    {
     "name": "stdout",
     "output_type": "stream",
     "text": [
      "\n",
      "      Epoch    GPU_mem   box_loss   cls_loss   dfl_loss  Instances       Size\n"
     ]
    },
    {
     "name": "stderr",
     "output_type": "stream",
     "text": [
      "   551/1000      10.8G     0.1179     0.1053     0.7654         18        736: 100%|██████████| 21/21 [00:04<00:00,  4.27it/s]\n"
     ]
    },
    {
     "name": "stdout",
     "output_type": "stream",
     "text": [
      "\n",
      "      Epoch    GPU_mem   box_loss   cls_loss   dfl_loss  Instances       Size\n"
     ]
    },
    {
     "name": "stderr",
     "output_type": "stream",
     "text": [
      "   552/1000      10.8G     0.1209     0.1094     0.7609         20        736: 100%|██████████| 21/21 [00:04<00:00,  4.31it/s]\n"
     ]
    },
    {
     "name": "stdout",
     "output_type": "stream",
     "text": [
      "\n",
      "      Epoch    GPU_mem   box_loss   cls_loss   dfl_loss  Instances       Size\n"
     ]
    },
    {
     "name": "stderr",
     "output_type": "stream",
     "text": [
      "   553/1000      10.8G      0.121     0.1063     0.7694         24        736: 100%|██████████| 21/21 [00:04<00:00,  4.29it/s]\n"
     ]
    },
    {
     "name": "stdout",
     "output_type": "stream",
     "text": [
      "\n",
      "      Epoch    GPU_mem   box_loss   cls_loss   dfl_loss  Instances       Size\n"
     ]
    },
    {
     "name": "stderr",
     "output_type": "stream",
     "text": [
      "   554/1000      10.8G     0.1166     0.1055     0.7652         12        736: 100%|██████████| 21/21 [00:04<00:00,  4.29it/s]\n"
     ]
    },
    {
     "name": "stdout",
     "output_type": "stream",
     "text": [
      "\n",
      "      Epoch    GPU_mem   box_loss   cls_loss   dfl_loss  Instances       Size\n"
     ]
    },
    {
     "name": "stderr",
     "output_type": "stream",
     "text": [
      "   555/1000      10.8G     0.1188     0.1077     0.7663         17        736: 100%|██████████| 21/21 [00:04<00:00,  4.29it/s]\n"
     ]
    },
    {
     "name": "stdout",
     "output_type": "stream",
     "text": [
      "\n",
      "      Epoch    GPU_mem   box_loss   cls_loss   dfl_loss  Instances       Size\n"
     ]
    },
    {
     "name": "stderr",
     "output_type": "stream",
     "text": [
      "   556/1000      10.8G     0.1245     0.1137     0.7631         15        736: 100%|██████████| 21/21 [00:04<00:00,  4.31it/s]\n"
     ]
    },
    {
     "name": "stdout",
     "output_type": "stream",
     "text": [
      "\n",
      "      Epoch    GPU_mem   box_loss   cls_loss   dfl_loss  Instances       Size\n"
     ]
    },
    {
     "name": "stderr",
     "output_type": "stream",
     "text": [
      "   557/1000      10.8G     0.1174     0.1087     0.7661         17        736: 100%|██████████| 21/21 [00:04<00:00,  4.28it/s]\n"
     ]
    },
    {
     "name": "stdout",
     "output_type": "stream",
     "text": [
      "\n",
      "      Epoch    GPU_mem   box_loss   cls_loss   dfl_loss  Instances       Size\n"
     ]
    },
    {
     "name": "stderr",
     "output_type": "stream",
     "text": [
      "   558/1000      10.8G     0.1175     0.1077     0.7599         14        736: 100%|██████████| 21/21 [00:04<00:00,  4.32it/s]\n"
     ]
    },
    {
     "name": "stdout",
     "output_type": "stream",
     "text": [
      "\n",
      "      Epoch    GPU_mem   box_loss   cls_loss   dfl_loss  Instances       Size\n"
     ]
    },
    {
     "name": "stderr",
     "output_type": "stream",
     "text": [
      "   559/1000      10.8G     0.1137     0.1052     0.7658         14        736: 100%|██████████| 21/21 [00:04<00:00,  4.30it/s]\n"
     ]
    },
    {
     "name": "stdout",
     "output_type": "stream",
     "text": [
      "\n",
      "      Epoch    GPU_mem   box_loss   cls_loss   dfl_loss  Instances       Size\n"
     ]
    },
    {
     "name": "stderr",
     "output_type": "stream",
     "text": [
      "   560/1000      10.8G     0.1144     0.1074     0.7765         15        736: 100%|██████████| 21/21 [00:04<00:00,  4.32it/s]\n"
     ]
    },
    {
     "name": "stdout",
     "output_type": "stream",
     "text": [
      "\n",
      "      Epoch    GPU_mem   box_loss   cls_loss   dfl_loss  Instances       Size\n"
     ]
    },
    {
     "name": "stderr",
     "output_type": "stream",
     "text": [
      "   561/1000      10.8G     0.1168      0.109     0.7721         14        736: 100%|██████████| 21/21 [00:04<00:00,  4.30it/s]\n"
     ]
    },
    {
     "name": "stdout",
     "output_type": "stream",
     "text": [
      "\n",
      "      Epoch    GPU_mem   box_loss   cls_loss   dfl_loss  Instances       Size\n"
     ]
    },
    {
     "name": "stderr",
     "output_type": "stream",
     "text": [
      "   562/1000      10.8G     0.1179     0.1092      0.763         19        736: 100%|██████████| 21/21 [00:04<00:00,  4.29it/s]\n"
     ]
    },
    {
     "name": "stdout",
     "output_type": "stream",
     "text": [
      "\n",
      "      Epoch    GPU_mem   box_loss   cls_loss   dfl_loss  Instances       Size\n"
     ]
    },
    {
     "name": "stderr",
     "output_type": "stream",
     "text": [
      "   563/1000      10.8G     0.1195     0.1083     0.7699         24        736: 100%|██████████| 21/21 [00:04<00:00,  4.30it/s]\n"
     ]
    },
    {
     "name": "stdout",
     "output_type": "stream",
     "text": [
      "\n",
      "      Epoch    GPU_mem   box_loss   cls_loss   dfl_loss  Instances       Size\n"
     ]
    },
    {
     "name": "stderr",
     "output_type": "stream",
     "text": [
      "   564/1000      10.8G     0.1164      0.108     0.7614         22        736: 100%|██████████| 21/21 [00:04<00:00,  4.30it/s]\n"
     ]
    },
    {
     "name": "stdout",
     "output_type": "stream",
     "text": [
      "\n",
      "      Epoch    GPU_mem   box_loss   cls_loss   dfl_loss  Instances       Size\n"
     ]
    },
    {
     "name": "stderr",
     "output_type": "stream",
     "text": [
      "   565/1000      10.8G     0.1161     0.1053     0.7674         18        736: 100%|██████████| 21/21 [00:04<00:00,  4.27it/s]\n"
     ]
    },
    {
     "name": "stdout",
     "output_type": "stream",
     "text": [
      "\n",
      "      Epoch    GPU_mem   box_loss   cls_loss   dfl_loss  Instances       Size\n"
     ]
    },
    {
     "name": "stderr",
     "output_type": "stream",
     "text": [
      "   566/1000      10.8G     0.1192     0.1083     0.7742         20        736: 100%|██████████| 21/21 [00:04<00:00,  4.31it/s]\n"
     ]
    },
    {
     "name": "stdout",
     "output_type": "stream",
     "text": [
      "\n",
      "      Epoch    GPU_mem   box_loss   cls_loss   dfl_loss  Instances       Size\n"
     ]
    },
    {
     "name": "stderr",
     "output_type": "stream",
     "text": [
      "   567/1000      10.8G     0.1139     0.1049     0.7659         18        736: 100%|██████████| 21/21 [00:04<00:00,  4.29it/s]\n"
     ]
    },
    {
     "name": "stdout",
     "output_type": "stream",
     "text": [
      "\n",
      "      Epoch    GPU_mem   box_loss   cls_loss   dfl_loss  Instances       Size\n"
     ]
    },
    {
     "name": "stderr",
     "output_type": "stream",
     "text": [
      "   568/1000      10.8G     0.1148     0.1041     0.7648         12        736: 100%|██████████| 21/21 [00:04<00:00,  4.29it/s]\n"
     ]
    },
    {
     "name": "stdout",
     "output_type": "stream",
     "text": [
      "\n",
      "      Epoch    GPU_mem   box_loss   cls_loss   dfl_loss  Instances       Size\n"
     ]
    },
    {
     "name": "stderr",
     "output_type": "stream",
     "text": [
      "   569/1000      10.8G     0.1151     0.1045     0.7571         17        736: 100%|██████████| 21/21 [00:04<00:00,  4.31it/s]\n"
     ]
    },
    {
     "name": "stdout",
     "output_type": "stream",
     "text": [
      "\n",
      "      Epoch    GPU_mem   box_loss   cls_loss   dfl_loss  Instances       Size\n"
     ]
    },
    {
     "name": "stderr",
     "output_type": "stream",
     "text": [
      "   570/1000      10.8G      0.117     0.1089     0.7638         17        736: 100%|██████████| 21/21 [00:04<00:00,  4.30it/s]\n"
     ]
    },
    {
     "name": "stdout",
     "output_type": "stream",
     "text": [
      "\n",
      "      Epoch    GPU_mem   box_loss   cls_loss   dfl_loss  Instances       Size\n"
     ]
    },
    {
     "name": "stderr",
     "output_type": "stream",
     "text": [
      "   571/1000      10.8G     0.1168     0.1073     0.7625         17        736: 100%|██████████| 21/21 [00:04<00:00,  4.30it/s]\n"
     ]
    },
    {
     "name": "stdout",
     "output_type": "stream",
     "text": [
      "\n",
      "      Epoch    GPU_mem   box_loss   cls_loss   dfl_loss  Instances       Size\n"
     ]
    },
    {
     "name": "stderr",
     "output_type": "stream",
     "text": [
      "   572/1000      10.7G     0.1172     0.1075      0.756         16        736: 100%|██████████| 21/21 [00:04<00:00,  4.31it/s]\n"
     ]
    },
    {
     "name": "stdout",
     "output_type": "stream",
     "text": [
      "\n",
      "      Epoch    GPU_mem   box_loss   cls_loss   dfl_loss  Instances       Size\n"
     ]
    },
    {
     "name": "stderr",
     "output_type": "stream",
     "text": [
      "   573/1000      10.8G     0.1165     0.1059     0.7676         15        736: 100%|██████████| 21/21 [00:04<00:00,  4.27it/s]\n"
     ]
    },
    {
     "name": "stdout",
     "output_type": "stream",
     "text": [
      "\n",
      "      Epoch    GPU_mem   box_loss   cls_loss   dfl_loss  Instances       Size\n"
     ]
    },
    {
     "name": "stderr",
     "output_type": "stream",
     "text": [
      "   574/1000      10.8G     0.1133     0.1053     0.7693         17        736: 100%|██████████| 21/21 [00:04<00:00,  4.30it/s]\n"
     ]
    },
    {
     "name": "stdout",
     "output_type": "stream",
     "text": [
      "\n",
      "      Epoch    GPU_mem   box_loss   cls_loss   dfl_loss  Instances       Size\n"
     ]
    },
    {
     "name": "stderr",
     "output_type": "stream",
     "text": [
      "   575/1000      10.8G     0.1164     0.1051      0.768         11        736: 100%|██████████| 21/21 [00:04<00:00,  4.30it/s]\n"
     ]
    },
    {
     "name": "stdout",
     "output_type": "stream",
     "text": [
      "\n",
      "      Epoch    GPU_mem   box_loss   cls_loss   dfl_loss  Instances       Size\n"
     ]
    },
    {
     "name": "stderr",
     "output_type": "stream",
     "text": [
      "   576/1000      10.8G     0.1092     0.1018     0.7671         18        736: 100%|██████████| 21/21 [00:04<00:00,  4.28it/s]\n"
     ]
    },
    {
     "name": "stdout",
     "output_type": "stream",
     "text": [
      "\n",
      "      Epoch    GPU_mem   box_loss   cls_loss   dfl_loss  Instances       Size\n"
     ]
    },
    {
     "name": "stderr",
     "output_type": "stream",
     "text": [
      "   577/1000      10.8G     0.1135     0.1054     0.7686         26        736: 100%|██████████| 21/21 [00:04<00:00,  4.30it/s]\n"
     ]
    },
    {
     "name": "stdout",
     "output_type": "stream",
     "text": [
      "\n",
      "      Epoch    GPU_mem   box_loss   cls_loss   dfl_loss  Instances       Size\n"
     ]
    },
    {
     "name": "stderr",
     "output_type": "stream",
     "text": [
      "   578/1000      10.8G     0.1152      0.105      0.768         21        736: 100%|██████████| 21/21 [00:04<00:00,  4.32it/s]\n"
     ]
    },
    {
     "name": "stdout",
     "output_type": "stream",
     "text": [
      "\n",
      "      Epoch    GPU_mem   box_loss   cls_loss   dfl_loss  Instances       Size\n"
     ]
    },
    {
     "name": "stderr",
     "output_type": "stream",
     "text": [
      "   579/1000      10.8G     0.1121     0.1051     0.7631         21        736: 100%|██████████| 21/21 [00:04<00:00,  4.27it/s]\n"
     ]
    },
    {
     "name": "stdout",
     "output_type": "stream",
     "text": [
      "\n",
      "      Epoch    GPU_mem   box_loss   cls_loss   dfl_loss  Instances       Size\n"
     ]
    },
    {
     "name": "stderr",
     "output_type": "stream",
     "text": [
      "   580/1000      10.8G      0.121     0.1108     0.7595         19        736: 100%|██████████| 21/21 [00:04<00:00,  4.31it/s]\n"
     ]
    },
    {
     "name": "stdout",
     "output_type": "stream",
     "text": [
      "\n",
      "      Epoch    GPU_mem   box_loss   cls_loss   dfl_loss  Instances       Size\n"
     ]
    },
    {
     "name": "stderr",
     "output_type": "stream",
     "text": [
      "   581/1000      10.8G     0.1182      0.106     0.7653         16        736: 100%|██████████| 21/21 [00:04<00:00,  4.30it/s]\n"
     ]
    },
    {
     "name": "stdout",
     "output_type": "stream",
     "text": [
      "\n",
      "      Epoch    GPU_mem   box_loss   cls_loss   dfl_loss  Instances       Size\n"
     ]
    },
    {
     "name": "stderr",
     "output_type": "stream",
     "text": [
      "   582/1000      10.8G     0.1174     0.1041     0.7619         16        736: 100%|██████████| 21/21 [00:04<00:00,  4.29it/s]\n"
     ]
    },
    {
     "name": "stdout",
     "output_type": "stream",
     "text": [
      "\n",
      "      Epoch    GPU_mem   box_loss   cls_loss   dfl_loss  Instances       Size\n"
     ]
    },
    {
     "name": "stderr",
     "output_type": "stream",
     "text": [
      "   583/1000      10.8G      0.116     0.1036     0.7684         16        736: 100%|██████████| 21/21 [00:04<00:00,  4.29it/s]\n"
     ]
    },
    {
     "name": "stdout",
     "output_type": "stream",
     "text": [
      "\n",
      "      Epoch    GPU_mem   box_loss   cls_loss   dfl_loss  Instances       Size\n"
     ]
    },
    {
     "name": "stderr",
     "output_type": "stream",
     "text": [
      "   584/1000      10.8G     0.1127     0.1028     0.7571         14        736: 100%|██████████| 21/21 [00:04<00:00,  4.29it/s]\n"
     ]
    },
    {
     "name": "stdout",
     "output_type": "stream",
     "text": [
      "\n",
      "      Epoch    GPU_mem   box_loss   cls_loss   dfl_loss  Instances       Size\n"
     ]
    },
    {
     "name": "stderr",
     "output_type": "stream",
     "text": [
      "   585/1000      10.8G     0.1111     0.1019     0.7619         18        736: 100%|██████████| 21/21 [00:04<00:00,  4.30it/s]\n"
     ]
    },
    {
     "name": "stdout",
     "output_type": "stream",
     "text": [
      "\n",
      "      Epoch    GPU_mem   box_loss   cls_loss   dfl_loss  Instances       Size\n"
     ]
    },
    {
     "name": "stderr",
     "output_type": "stream",
     "text": [
      "   586/1000      10.8G     0.1107     0.1027     0.7657         13        736: 100%|██████████| 21/21 [00:04<00:00,  4.32it/s]\n"
     ]
    },
    {
     "name": "stdout",
     "output_type": "stream",
     "text": [
      "\n",
      "      Epoch    GPU_mem   box_loss   cls_loss   dfl_loss  Instances       Size\n"
     ]
    },
    {
     "name": "stderr",
     "output_type": "stream",
     "text": [
      "   587/1000      10.8G     0.1148     0.1045     0.7687         16        736: 100%|██████████| 21/21 [00:04<00:00,  4.28it/s]\n"
     ]
    },
    {
     "name": "stdout",
     "output_type": "stream",
     "text": [
      "\n",
      "      Epoch    GPU_mem   box_loss   cls_loss   dfl_loss  Instances       Size\n"
     ]
    },
    {
     "name": "stderr",
     "output_type": "stream",
     "text": [
      "   588/1000      10.8G     0.1172     0.1091     0.7582         14        736: 100%|██████████| 21/21 [00:04<00:00,  4.31it/s]\n"
     ]
    },
    {
     "name": "stdout",
     "output_type": "stream",
     "text": [
      "\n",
      "      Epoch    GPU_mem   box_loss   cls_loss   dfl_loss  Instances       Size\n"
     ]
    },
    {
     "name": "stderr",
     "output_type": "stream",
     "text": [
      "   589/1000      10.8G     0.1162     0.1057     0.7647         16        736: 100%|██████████| 21/21 [00:04<00:00,  4.31it/s]\n"
     ]
    },
    {
     "name": "stdout",
     "output_type": "stream",
     "text": [
      "\n",
      "      Epoch    GPU_mem   box_loss   cls_loss   dfl_loss  Instances       Size\n"
     ]
    },
    {
     "name": "stderr",
     "output_type": "stream",
     "text": [
      "   590/1000      10.8G     0.1174     0.1027     0.7632         13        736: 100%|██████████| 21/21 [00:04<00:00,  4.29it/s]\n"
     ]
    },
    {
     "name": "stdout",
     "output_type": "stream",
     "text": [
      "\n",
      "      Epoch    GPU_mem   box_loss   cls_loss   dfl_loss  Instances       Size\n"
     ]
    },
    {
     "name": "stderr",
     "output_type": "stream",
     "text": [
      "   591/1000      10.8G     0.1135     0.1024     0.7621         15        736: 100%|██████████| 21/21 [00:04<00:00,  4.29it/s]\n"
     ]
    },
    {
     "name": "stdout",
     "output_type": "stream",
     "text": [
      "\n",
      "      Epoch    GPU_mem   box_loss   cls_loss   dfl_loss  Instances       Size\n"
     ]
    },
    {
     "name": "stderr",
     "output_type": "stream",
     "text": [
      "   592/1000      10.8G     0.1124      0.104     0.7644         24        736: 100%|██████████| 21/21 [00:04<00:00,  4.28it/s]\n"
     ]
    },
    {
     "name": "stdout",
     "output_type": "stream",
     "text": [
      "\n",
      "      Epoch    GPU_mem   box_loss   cls_loss   dfl_loss  Instances       Size\n"
     ]
    },
    {
     "name": "stderr",
     "output_type": "stream",
     "text": [
      "   593/1000      10.8G     0.1123     0.1055      0.764         17        736: 100%|██████████| 21/21 [00:04<00:00,  4.28it/s]\n"
     ]
    },
    {
     "name": "stdout",
     "output_type": "stream",
     "text": [
      "\n",
      "      Epoch    GPU_mem   box_loss   cls_loss   dfl_loss  Instances       Size\n"
     ]
    },
    {
     "name": "stderr",
     "output_type": "stream",
     "text": [
      "   594/1000      10.8G     0.1094     0.1024     0.7671         18        736: 100%|██████████| 21/21 [00:04<00:00,  4.30it/s]\n"
     ]
    },
    {
     "name": "stdout",
     "output_type": "stream",
     "text": [
      "\n",
      "      Epoch    GPU_mem   box_loss   cls_loss   dfl_loss  Instances       Size\n"
     ]
    },
    {
     "name": "stderr",
     "output_type": "stream",
     "text": [
      "   595/1000      10.8G     0.1137      0.103     0.7639         15        736: 100%|██████████| 21/21 [00:04<00:00,  4.27it/s]\n"
     ]
    },
    {
     "name": "stdout",
     "output_type": "stream",
     "text": [
      "\n",
      "      Epoch    GPU_mem   box_loss   cls_loss   dfl_loss  Instances       Size\n"
     ]
    },
    {
     "name": "stderr",
     "output_type": "stream",
     "text": [
      "   596/1000      10.8G     0.1154     0.1037     0.7723         11        736: 100%|██████████| 21/21 [00:04<00:00,  4.31it/s]\n"
     ]
    },
    {
     "name": "stdout",
     "output_type": "stream",
     "text": [
      "\n",
      "      Epoch    GPU_mem   box_loss   cls_loss   dfl_loss  Instances       Size\n"
     ]
    },
    {
     "name": "stderr",
     "output_type": "stream",
     "text": [
      "   597/1000      10.8G     0.1107     0.1027     0.7686         16        736: 100%|██████████| 21/21 [00:04<00:00,  4.30it/s]\n"
     ]
    },
    {
     "name": "stdout",
     "output_type": "stream",
     "text": [
      "\n",
      "      Epoch    GPU_mem   box_loss   cls_loss   dfl_loss  Instances       Size\n"
     ]
    },
    {
     "name": "stderr",
     "output_type": "stream",
     "text": [
      "   598/1000      10.8G     0.1107     0.1037     0.7614         21        736: 100%|██████████| 21/21 [00:04<00:00,  4.29it/s]\n"
     ]
    },
    {
     "name": "stdout",
     "output_type": "stream",
     "text": [
      "\n",
      "      Epoch    GPU_mem   box_loss   cls_loss   dfl_loss  Instances       Size\n"
     ]
    },
    {
     "name": "stderr",
     "output_type": "stream",
     "text": [
      "   599/1000      10.8G     0.1149     0.1073     0.7637         15        736: 100%|██████████| 21/21 [00:04<00:00,  4.29it/s]\n"
     ]
    },
    {
     "name": "stdout",
     "output_type": "stream",
     "text": [
      "\n",
      "      Epoch    GPU_mem   box_loss   cls_loss   dfl_loss  Instances       Size\n"
     ]
    },
    {
     "name": "stderr",
     "output_type": "stream",
     "text": [
      "   600/1000      10.8G     0.1088     0.1003     0.7633         19        736: 100%|██████████| 21/21 [00:04<00:00,  4.31it/s]\n"
     ]
    },
    {
     "name": "stdout",
     "output_type": "stream",
     "text": [
      "\n",
      "      Epoch    GPU_mem   box_loss   cls_loss   dfl_loss  Instances       Size\n"
     ]
    },
    {
     "name": "stderr",
     "output_type": "stream",
     "text": [
      "   601/1000      10.8G     0.1079    0.09901     0.7693         17        736: 100%|██████████| 21/21 [00:04<00:00,  4.28it/s]\n"
     ]
    },
    {
     "name": "stdout",
     "output_type": "stream",
     "text": [
      "\n",
      "      Epoch    GPU_mem   box_loss   cls_loss   dfl_loss  Instances       Size\n"
     ]
    },
    {
     "name": "stderr",
     "output_type": "stream",
     "text": [
      "   602/1000      10.8G     0.1118     0.1034     0.7645         14        736: 100%|██████████| 21/21 [00:04<00:00,  4.30it/s]\n"
     ]
    },
    {
     "name": "stdout",
     "output_type": "stream",
     "text": [
      "\n",
      "      Epoch    GPU_mem   box_loss   cls_loss   dfl_loss  Instances       Size\n"
     ]
    },
    {
     "name": "stderr",
     "output_type": "stream",
     "text": [
      "   603/1000      10.8G     0.1135     0.1024     0.7672         14        736: 100%|██████████| 21/21 [00:04<00:00,  4.28it/s]\n"
     ]
    },
    {
     "name": "stdout",
     "output_type": "stream",
     "text": [
      "\n",
      "      Epoch    GPU_mem   box_loss   cls_loss   dfl_loss  Instances       Size\n"
     ]
    },
    {
     "name": "stderr",
     "output_type": "stream",
     "text": [
      "   604/1000      10.8G     0.1092    0.09925     0.7681         16        736: 100%|██████████| 21/21 [00:04<00:00,  4.31it/s]\n"
     ]
    },
    {
     "name": "stdout",
     "output_type": "stream",
     "text": [
      "\n",
      "      Epoch    GPU_mem   box_loss   cls_loss   dfl_loss  Instances       Size\n"
     ]
    },
    {
     "name": "stderr",
     "output_type": "stream",
     "text": [
      "   605/1000      10.8G     0.1148     0.1034     0.7657         16        736: 100%|██████████| 21/21 [00:04<00:00,  4.30it/s]\n"
     ]
    },
    {
     "name": "stdout",
     "output_type": "stream",
     "text": [
      "\n",
      "      Epoch    GPU_mem   box_loss   cls_loss   dfl_loss  Instances       Size\n"
     ]
    },
    {
     "name": "stderr",
     "output_type": "stream",
     "text": [
      "   606/1000      10.8G     0.1176     0.1038     0.7705         18        736: 100%|██████████| 21/21 [00:04<00:00,  4.30it/s]\n"
     ]
    },
    {
     "name": "stdout",
     "output_type": "stream",
     "text": [
      "\n",
      "      Epoch    GPU_mem   box_loss   cls_loss   dfl_loss  Instances       Size\n"
     ]
    },
    {
     "name": "stderr",
     "output_type": "stream",
     "text": [
      "   607/1000      10.8G     0.1126     0.1002     0.7693         27        736: 100%|██████████| 21/21 [00:04<00:00,  4.30it/s]\n"
     ]
    },
    {
     "name": "stdout",
     "output_type": "stream",
     "text": [
      "\n",
      "      Epoch    GPU_mem   box_loss   cls_loss   dfl_loss  Instances       Size\n"
     ]
    },
    {
     "name": "stderr",
     "output_type": "stream",
     "text": [
      "   608/1000      10.8G     0.1156     0.1024     0.7683         25        736: 100%|██████████| 21/21 [00:04<00:00,  4.31it/s]\n"
     ]
    },
    {
     "name": "stdout",
     "output_type": "stream",
     "text": [
      "\n",
      "      Epoch    GPU_mem   box_loss   cls_loss   dfl_loss  Instances       Size\n"
     ]
    },
    {
     "name": "stderr",
     "output_type": "stream",
     "text": [
      "   609/1000      10.8G     0.1043    0.09793     0.7591         14        736: 100%|██████████| 21/21 [00:04<00:00,  4.27it/s]\n"
     ]
    },
    {
     "name": "stdout",
     "output_type": "stream",
     "text": [
      "\n",
      "      Epoch    GPU_mem   box_loss   cls_loss   dfl_loss  Instances       Size\n"
     ]
    },
    {
     "name": "stderr",
     "output_type": "stream",
     "text": [
      "   610/1000      10.8G     0.1145     0.1036     0.7664         19        736: 100%|██████████| 21/21 [00:04<00:00,  4.31it/s]\n"
     ]
    },
    {
     "name": "stdout",
     "output_type": "stream",
     "text": [
      "\n",
      "      Epoch    GPU_mem   box_loss   cls_loss   dfl_loss  Instances       Size\n"
     ]
    },
    {
     "name": "stderr",
     "output_type": "stream",
     "text": [
      "   611/1000      10.8G     0.1146     0.1083     0.7681         14        736: 100%|██████████| 21/21 [00:04<00:00,  4.30it/s]\n"
     ]
    },
    {
     "name": "stdout",
     "output_type": "stream",
     "text": [
      "\n",
      "      Epoch    GPU_mem   box_loss   cls_loss   dfl_loss  Instances       Size\n"
     ]
    },
    {
     "name": "stderr",
     "output_type": "stream",
     "text": [
      "   612/1000      10.8G     0.1138     0.1019     0.7709         21        736: 100%|██████████| 21/21 [00:04<00:00,  4.28it/s]\n"
     ]
    },
    {
     "name": "stdout",
     "output_type": "stream",
     "text": [
      "\n",
      "      Epoch    GPU_mem   box_loss   cls_loss   dfl_loss  Instances       Size\n"
     ]
    },
    {
     "name": "stderr",
     "output_type": "stream",
     "text": [
      "   613/1000      10.8G     0.1057    0.09599     0.7689         17        736: 100%|██████████| 21/21 [00:04<00:00,  4.30it/s]\n"
     ]
    },
    {
     "name": "stdout",
     "output_type": "stream",
     "text": [
      "\n",
      "      Epoch    GPU_mem   box_loss   cls_loss   dfl_loss  Instances       Size\n"
     ]
    },
    {
     "name": "stderr",
     "output_type": "stream",
     "text": [
      "   614/1000      10.8G     0.1033    0.09883     0.7589         16        736: 100%|██████████| 21/21 [00:04<00:00,  4.28it/s]\n"
     ]
    },
    {
     "name": "stdout",
     "output_type": "stream",
     "text": [
      "\n",
      "      Epoch    GPU_mem   box_loss   cls_loss   dfl_loss  Instances       Size\n"
     ]
    },
    {
     "name": "stderr",
     "output_type": "stream",
     "text": [
      "   615/1000      10.8G     0.1049    0.09896     0.7608         18        736: 100%|██████████| 21/21 [00:04<00:00,  4.29it/s]\n"
     ]
    },
    {
     "name": "stdout",
     "output_type": "stream",
     "text": [
      "\n",
      "      Epoch    GPU_mem   box_loss   cls_loss   dfl_loss  Instances       Size\n"
     ]
    },
    {
     "name": "stderr",
     "output_type": "stream",
     "text": [
      "   616/1000      10.8G      0.111     0.1018     0.7679         13        736: 100%|██████████| 21/21 [00:04<00:00,  4.29it/s]\n"
     ]
    },
    {
     "name": "stdout",
     "output_type": "stream",
     "text": [
      "\n",
      "      Epoch    GPU_mem   box_loss   cls_loss   dfl_loss  Instances       Size\n"
     ]
    },
    {
     "name": "stderr",
     "output_type": "stream",
     "text": [
      "   617/1000      10.8G     0.1063    0.09992     0.7658         18        736: 100%|██████████| 21/21 [00:04<00:00,  4.27it/s]\n"
     ]
    },
    {
     "name": "stdout",
     "output_type": "stream",
     "text": [
      "\n",
      "      Epoch    GPU_mem   box_loss   cls_loss   dfl_loss  Instances       Size\n"
     ]
    },
    {
     "name": "stderr",
     "output_type": "stream",
     "text": [
      "   618/1000      10.8G     0.1139     0.1049     0.7651         18        736: 100%|██████████| 21/21 [00:04<00:00,  4.30it/s]\n"
     ]
    },
    {
     "name": "stdout",
     "output_type": "stream",
     "text": [
      "\n",
      "      Epoch    GPU_mem   box_loss   cls_loss   dfl_loss  Instances       Size\n"
     ]
    },
    {
     "name": "stderr",
     "output_type": "stream",
     "text": [
      "   619/1000      10.8G     0.1106     0.1024     0.7747         14        736: 100%|██████████| 21/21 [00:04<00:00,  4.29it/s]\n"
     ]
    },
    {
     "name": "stdout",
     "output_type": "stream",
     "text": [
      "\n",
      "      Epoch    GPU_mem   box_loss   cls_loss   dfl_loss  Instances       Size\n"
     ]
    },
    {
     "name": "stderr",
     "output_type": "stream",
     "text": [
      "   620/1000      10.8G     0.1091     0.1001     0.7624         21        736: 100%|██████████| 21/21 [00:04<00:00,  4.30it/s]\n"
     ]
    },
    {
     "name": "stdout",
     "output_type": "stream",
     "text": [
      "\n",
      "      Epoch    GPU_mem   box_loss   cls_loss   dfl_loss  Instances       Size\n"
     ]
    },
    {
     "name": "stderr",
     "output_type": "stream",
     "text": [
      "   621/1000      10.8G     0.1081     0.0989     0.7747         25        736: 100%|██████████| 21/21 [00:04<00:00,  4.31it/s]\n"
     ]
    },
    {
     "name": "stdout",
     "output_type": "stream",
     "text": [
      "\n",
      "      Epoch    GPU_mem   box_loss   cls_loss   dfl_loss  Instances       Size\n"
     ]
    },
    {
     "name": "stderr",
     "output_type": "stream",
     "text": [
      "   622/1000      10.8G     0.1084     0.1035     0.7613         20        736: 100%|██████████| 21/21 [00:04<00:00,  4.31it/s]\n"
     ]
    },
    {
     "name": "stdout",
     "output_type": "stream",
     "text": [
      "\n",
      "      Epoch    GPU_mem   box_loss   cls_loss   dfl_loss  Instances       Size\n"
     ]
    },
    {
     "name": "stderr",
     "output_type": "stream",
     "text": [
      "   623/1000      10.8G      0.108    0.09977      0.766         19        736: 100%|██████████| 21/21 [00:04<00:00,  4.27it/s]\n"
     ]
    },
    {
     "name": "stdout",
     "output_type": "stream",
     "text": [
      "\n",
      "      Epoch    GPU_mem   box_loss   cls_loss   dfl_loss  Instances       Size\n"
     ]
    },
    {
     "name": "stderr",
     "output_type": "stream",
     "text": [
      "   624/1000      10.8G     0.1054     0.1006     0.7634         12        736: 100%|██████████| 21/21 [00:04<00:00,  4.31it/s]\n"
     ]
    },
    {
     "name": "stdout",
     "output_type": "stream",
     "text": [
      "\n",
      "      Epoch    GPU_mem   box_loss   cls_loss   dfl_loss  Instances       Size\n"
     ]
    },
    {
     "name": "stderr",
     "output_type": "stream",
     "text": [
      "   625/1000      10.8G     0.1062     0.1006     0.7642         18        736: 100%|██████████| 21/21 [00:04<00:00,  4.27it/s]\n"
     ]
    },
    {
     "name": "stdout",
     "output_type": "stream",
     "text": [
      "\n",
      "      Epoch    GPU_mem   box_loss   cls_loss   dfl_loss  Instances       Size\n"
     ]
    },
    {
     "name": "stderr",
     "output_type": "stream",
     "text": [
      "   626/1000      10.8G     0.1068    0.09853     0.7684         16        736: 100%|██████████| 21/21 [00:04<00:00,  4.31it/s]\n"
     ]
    },
    {
     "name": "stdout",
     "output_type": "stream",
     "text": [
      "\n",
      "      Epoch    GPU_mem   box_loss   cls_loss   dfl_loss  Instances       Size\n"
     ]
    },
    {
     "name": "stderr",
     "output_type": "stream",
     "text": [
      "   627/1000      10.8G     0.1112     0.1057     0.7647         16        736: 100%|██████████| 21/21 [00:04<00:00,  4.29it/s]\n"
     ]
    },
    {
     "name": "stdout",
     "output_type": "stream",
     "text": [
      "\n",
      "      Epoch    GPU_mem   box_loss   cls_loss   dfl_loss  Instances       Size\n"
     ]
    },
    {
     "name": "stderr",
     "output_type": "stream",
     "text": [
      "   628/1000      10.8G     0.1077    0.09982     0.7665         12        736: 100%|██████████| 21/21 [00:04<00:00,  4.28it/s]\n"
     ]
    },
    {
     "name": "stdout",
     "output_type": "stream",
     "text": [
      "\n",
      "      Epoch    GPU_mem   box_loss   cls_loss   dfl_loss  Instances       Size\n"
     ]
    },
    {
     "name": "stderr",
     "output_type": "stream",
     "text": [
      "   629/1000      10.8G     0.1087     0.1042     0.7608         15        736: 100%|██████████| 21/21 [00:04<00:00,  4.30it/s]\n"
     ]
    },
    {
     "name": "stdout",
     "output_type": "stream",
     "text": [
      "\n",
      "      Epoch    GPU_mem   box_loss   cls_loss   dfl_loss  Instances       Size\n"
     ]
    },
    {
     "name": "stderr",
     "output_type": "stream",
     "text": [
      "   630/1000      10.8G     0.1117     0.1011     0.7694         16        736: 100%|██████████| 21/21 [00:04<00:00,  4.31it/s]\n"
     ]
    },
    {
     "name": "stdout",
     "output_type": "stream",
     "text": [
      "\n",
      "      Epoch    GPU_mem   box_loss   cls_loss   dfl_loss  Instances       Size\n"
     ]
    },
    {
     "name": "stderr",
     "output_type": "stream",
     "text": [
      "   631/1000      10.8G     0.1076    0.09924      0.765         24        736: 100%|██████████| 21/21 [00:04<00:00,  4.28it/s]\n"
     ]
    },
    {
     "name": "stdout",
     "output_type": "stream",
     "text": [
      "\n",
      "      Epoch    GPU_mem   box_loss   cls_loss   dfl_loss  Instances       Size\n"
     ]
    },
    {
     "name": "stderr",
     "output_type": "stream",
     "text": [
      "   632/1000      10.8G     0.1066    0.09964     0.7582         18        736: 100%|██████████| 21/21 [00:04<00:00,  4.32it/s]\n"
     ]
    },
    {
     "name": "stdout",
     "output_type": "stream",
     "text": [
      "\n",
      "      Epoch    GPU_mem   box_loss   cls_loss   dfl_loss  Instances       Size\n"
     ]
    },
    {
     "name": "stderr",
     "output_type": "stream",
     "text": [
      "   633/1000      10.8G     0.1053    0.09803     0.7678         17        736: 100%|██████████| 21/21 [00:04<00:00,  4.29it/s]\n"
     ]
    },
    {
     "name": "stdout",
     "output_type": "stream",
     "text": [
      "\n",
      "      Epoch    GPU_mem   box_loss   cls_loss   dfl_loss  Instances       Size\n"
     ]
    },
    {
     "name": "stderr",
     "output_type": "stream",
     "text": [
      "   634/1000      10.8G     0.1038    0.09687     0.7609         14        736: 100%|██████████| 21/21 [00:04<00:00,  4.29it/s]\n"
     ]
    },
    {
     "name": "stdout",
     "output_type": "stream",
     "text": [
      "\n",
      "      Epoch    GPU_mem   box_loss   cls_loss   dfl_loss  Instances       Size\n"
     ]
    },
    {
     "name": "stderr",
     "output_type": "stream",
     "text": [
      "   635/1000      10.8G     0.1026    0.09694      0.768         12        736: 100%|██████████| 21/21 [00:04<00:00,  4.27it/s]\n"
     ]
    },
    {
     "name": "stdout",
     "output_type": "stream",
     "text": [
      "\n",
      "      Epoch    GPU_mem   box_loss   cls_loss   dfl_loss  Instances       Size\n"
     ]
    },
    {
     "name": "stderr",
     "output_type": "stream",
     "text": [
      "   636/1000      10.8G     0.1024     0.0981     0.7716         17        736: 100%|██████████| 21/21 [00:04<00:00,  4.28it/s]\n"
     ]
    },
    {
     "name": "stdout",
     "output_type": "stream",
     "text": [
      "\n",
      "      Epoch    GPU_mem   box_loss   cls_loss   dfl_loss  Instances       Size\n"
     ]
    },
    {
     "name": "stderr",
     "output_type": "stream",
     "text": [
      "   637/1000      10.8G     0.1047    0.09852      0.761         16        736: 100%|██████████| 21/21 [00:04<00:00,  4.26it/s]\n"
     ]
    },
    {
     "name": "stdout",
     "output_type": "stream",
     "text": [
      "\n",
      "      Epoch    GPU_mem   box_loss   cls_loss   dfl_loss  Instances       Size\n"
     ]
    },
    {
     "name": "stderr",
     "output_type": "stream",
     "text": [
      "   638/1000      10.8G     0.1092     0.1009     0.7627         19        736: 100%|██████████| 21/21 [00:04<00:00,  4.27it/s]\n"
     ]
    },
    {
     "name": "stdout",
     "output_type": "stream",
     "text": [
      "\n",
      "      Epoch    GPU_mem   box_loss   cls_loss   dfl_loss  Instances       Size\n"
     ]
    },
    {
     "name": "stderr",
     "output_type": "stream",
     "text": [
      "   639/1000      10.8G     0.1103     0.1044      0.767         15        736: 100%|██████████| 21/21 [00:04<00:00,  4.27it/s]\n"
     ]
    },
    {
     "name": "stdout",
     "output_type": "stream",
     "text": [
      "\n",
      "      Epoch    GPU_mem   box_loss   cls_loss   dfl_loss  Instances       Size\n"
     ]
    },
    {
     "name": "stderr",
     "output_type": "stream",
     "text": [
      "   640/1000      10.8G     0.1081     0.1014     0.7606         19        736: 100%|██████████| 21/21 [00:04<00:00,  4.30it/s]\n"
     ]
    },
    {
     "name": "stdout",
     "output_type": "stream",
     "text": [
      "\n",
      "      Epoch    GPU_mem   box_loss   cls_loss   dfl_loss  Instances       Size\n"
     ]
    },
    {
     "name": "stderr",
     "output_type": "stream",
     "text": [
      "   641/1000      10.8G     0.1066    0.09644     0.7633         19        736: 100%|██████████| 21/21 [00:04<00:00,  4.28it/s]\n"
     ]
    },
    {
     "name": "stdout",
     "output_type": "stream",
     "text": [
      "\n",
      "      Epoch    GPU_mem   box_loss   cls_loss   dfl_loss  Instances       Size\n"
     ]
    },
    {
     "name": "stderr",
     "output_type": "stream",
     "text": [
      "   642/1000      10.8G     0.1044    0.09954      0.764         15        736: 100%|██████████| 21/21 [00:04<00:00,  4.29it/s]\n"
     ]
    },
    {
     "name": "stdout",
     "output_type": "stream",
     "text": [
      "\n",
      "      Epoch    GPU_mem   box_loss   cls_loss   dfl_loss  Instances       Size\n"
     ]
    },
    {
     "name": "stderr",
     "output_type": "stream",
     "text": [
      "   643/1000      10.8G     0.1047    0.09935       0.76         17        736: 100%|██████████| 21/21 [00:04<00:00,  4.30it/s]\n"
     ]
    },
    {
     "name": "stdout",
     "output_type": "stream",
     "text": [
      "\n",
      "      Epoch    GPU_mem   box_loss   cls_loss   dfl_loss  Instances       Size\n"
     ]
    },
    {
     "name": "stderr",
     "output_type": "stream",
     "text": [
      "   644/1000      10.8G     0.1044    0.09669     0.7618         11        736: 100%|██████████| 21/21 [00:04<00:00,  4.30it/s]\n"
     ]
    },
    {
     "name": "stdout",
     "output_type": "stream",
     "text": [
      "\n",
      "      Epoch    GPU_mem   box_loss   cls_loss   dfl_loss  Instances       Size\n"
     ]
    },
    {
     "name": "stderr",
     "output_type": "stream",
     "text": [
      "   645/1000      10.8G     0.1037    0.09624     0.7686         23        736: 100%|██████████| 21/21 [00:04<00:00,  4.30it/s]\n"
     ]
    },
    {
     "name": "stdout",
     "output_type": "stream",
     "text": [
      "\n",
      "      Epoch    GPU_mem   box_loss   cls_loss   dfl_loss  Instances       Size\n"
     ]
    },
    {
     "name": "stderr",
     "output_type": "stream",
     "text": [
      "   646/1000      10.8G     0.1055     0.1013     0.7623         17        736: 100%|██████████| 21/21 [00:04<00:00,  4.31it/s]\n"
     ]
    },
    {
     "name": "stdout",
     "output_type": "stream",
     "text": [
      "\n",
      "      Epoch    GPU_mem   box_loss   cls_loss   dfl_loss  Instances       Size\n"
     ]
    },
    {
     "name": "stderr",
     "output_type": "stream",
     "text": [
      "   647/1000      10.8G     0.1091     0.1013     0.7664         11        736: 100%|██████████| 21/21 [00:04<00:00,  4.28it/s]\n"
     ]
    },
    {
     "name": "stdout",
     "output_type": "stream",
     "text": [
      "\n",
      "      Epoch    GPU_mem   box_loss   cls_loss   dfl_loss  Instances       Size\n"
     ]
    },
    {
     "name": "stderr",
     "output_type": "stream",
     "text": [
      "   648/1000      10.8G     0.1027    0.09759     0.7703         17        736: 100%|██████████| 21/21 [00:04<00:00,  4.31it/s]\n"
     ]
    },
    {
     "name": "stdout",
     "output_type": "stream",
     "text": [
      "\n",
      "      Epoch    GPU_mem   box_loss   cls_loss   dfl_loss  Instances       Size\n"
     ]
    },
    {
     "name": "stderr",
     "output_type": "stream",
     "text": [
      "   649/1000      10.8G     0.1083     0.1001      0.768         13        736: 100%|██████████| 21/21 [00:04<00:00,  4.30it/s]\n"
     ]
    },
    {
     "name": "stdout",
     "output_type": "stream",
     "text": [
      "\n",
      "      Epoch    GPU_mem   box_loss   cls_loss   dfl_loss  Instances       Size\n"
     ]
    },
    {
     "name": "stderr",
     "output_type": "stream",
     "text": [
      "   650/1000      10.8G     0.1064    0.09971     0.7561         13        736: 100%|██████████| 21/21 [00:04<00:00,  4.30it/s]\n"
     ]
    },
    {
     "name": "stdout",
     "output_type": "stream",
     "text": [
      "\n",
      "      Epoch    GPU_mem   box_loss   cls_loss   dfl_loss  Instances       Size\n"
     ]
    },
    {
     "name": "stderr",
     "output_type": "stream",
     "text": [
      "   651/1000      10.8G     0.1034    0.09797     0.7674         11        736: 100%|██████████| 21/21 [00:04<00:00,  4.31it/s]\n"
     ]
    },
    {
     "name": "stdout",
     "output_type": "stream",
     "text": [
      "\n",
      "      Epoch    GPU_mem   box_loss   cls_loss   dfl_loss  Instances       Size\n"
     ]
    },
    {
     "name": "stderr",
     "output_type": "stream",
     "text": [
      "   652/1000      10.8G     0.1145     0.1001     0.7593         16        736: 100%|██████████| 21/21 [00:04<00:00,  4.32it/s]\n"
     ]
    },
    {
     "name": "stdout",
     "output_type": "stream",
     "text": [
      "\n",
      "      Epoch    GPU_mem   box_loss   cls_loss   dfl_loss  Instances       Size\n"
     ]
    },
    {
     "name": "stderr",
     "output_type": "stream",
     "text": [
      "   653/1000      10.8G     0.1144     0.1014     0.7623         18        736: 100%|██████████| 21/21 [00:04<00:00,  4.29it/s]\n"
     ]
    },
    {
     "name": "stdout",
     "output_type": "stream",
     "text": [
      "\n",
      "      Epoch    GPU_mem   box_loss   cls_loss   dfl_loss  Instances       Size\n"
     ]
    },
    {
     "name": "stderr",
     "output_type": "stream",
     "text": [
      "   654/1000      10.8G     0.1112    0.09767     0.7686         20        736: 100%|██████████| 21/21 [00:04<00:00,  4.30it/s]\n"
     ]
    },
    {
     "name": "stdout",
     "output_type": "stream",
     "text": [
      "\n",
      "      Epoch    GPU_mem   box_loss   cls_loss   dfl_loss  Instances       Size\n"
     ]
    },
    {
     "name": "stderr",
     "output_type": "stream",
     "text": [
      "   655/1000      10.8G       0.11    0.09869     0.7652         11        736: 100%|██████████| 21/21 [00:04<00:00,  4.28it/s]\n"
     ]
    },
    {
     "name": "stdout",
     "output_type": "stream",
     "text": [
      "\n",
      "      Epoch    GPU_mem   box_loss   cls_loss   dfl_loss  Instances       Size\n"
     ]
    },
    {
     "name": "stderr",
     "output_type": "stream",
     "text": [
      "   656/1000      10.8G      0.104    0.09365     0.7609         18        736: 100%|██████████| 21/21 [00:04<00:00,  4.29it/s]\n"
     ]
    },
    {
     "name": "stdout",
     "output_type": "stream",
     "text": [
      "\n",
      "      Epoch    GPU_mem   box_loss   cls_loss   dfl_loss  Instances       Size\n"
     ]
    },
    {
     "name": "stderr",
     "output_type": "stream",
     "text": [
      "   657/1000      10.8G      0.102    0.09526      0.768         15        736: 100%|██████████| 21/21 [00:04<00:00,  4.29it/s]\n"
     ]
    },
    {
     "name": "stdout",
     "output_type": "stream",
     "text": [
      "\n",
      "      Epoch    GPU_mem   box_loss   cls_loss   dfl_loss  Instances       Size\n"
     ]
    },
    {
     "name": "stderr",
     "output_type": "stream",
     "text": [
      "   658/1000      10.8G     0.1028    0.09497     0.7692         13        736: 100%|██████████| 21/21 [00:04<00:00,  4.29it/s]\n"
     ]
    },
    {
     "name": "stdout",
     "output_type": "stream",
     "text": [
      "\n",
      "      Epoch    GPU_mem   box_loss   cls_loss   dfl_loss  Instances       Size\n"
     ]
    },
    {
     "name": "stderr",
     "output_type": "stream",
     "text": [
      "   659/1000      10.8G     0.1071     0.1003     0.7612         18        736: 100%|██████████| 21/21 [00:04<00:00,  4.30it/s]\n"
     ]
    },
    {
     "name": "stdout",
     "output_type": "stream",
     "text": [
      "\n",
      "      Epoch    GPU_mem   box_loss   cls_loss   dfl_loss  Instances       Size\n"
     ]
    },
    {
     "name": "stderr",
     "output_type": "stream",
     "text": [
      "   660/1000      10.8G     0.1058    0.09857      0.763         15        736: 100%|██████████| 21/21 [00:04<00:00,  4.30it/s]\n"
     ]
    },
    {
     "name": "stdout",
     "output_type": "stream",
     "text": [
      "\n",
      "      Epoch    GPU_mem   box_loss   cls_loss   dfl_loss  Instances       Size\n"
     ]
    },
    {
     "name": "stderr",
     "output_type": "stream",
     "text": [
      "   661/1000      10.8G     0.1018    0.09632     0.7623         24        736: 100%|██████████| 21/21 [00:04<00:00,  4.27it/s]\n"
     ]
    },
    {
     "name": "stdout",
     "output_type": "stream",
     "text": [
      "\n",
      "      Epoch    GPU_mem   box_loss   cls_loss   dfl_loss  Instances       Size\n"
     ]
    },
    {
     "name": "stderr",
     "output_type": "stream",
     "text": [
      "   662/1000      10.8G     0.1022     0.0965     0.7616         23        736: 100%|██████████| 21/21 [00:04<00:00,  4.30it/s]\n"
     ]
    },
    {
     "name": "stdout",
     "output_type": "stream",
     "text": [
      "\n",
      "      Epoch    GPU_mem   box_loss   cls_loss   dfl_loss  Instances       Size\n"
     ]
    },
    {
     "name": "stderr",
     "output_type": "stream",
     "text": [
      "   663/1000      10.8G     0.1023    0.09705     0.7671         21        736: 100%|██████████| 21/21 [00:04<00:00,  4.30it/s]\n"
     ]
    },
    {
     "name": "stdout",
     "output_type": "stream",
     "text": [
      "\n",
      "      Epoch    GPU_mem   box_loss   cls_loss   dfl_loss  Instances       Size\n"
     ]
    },
    {
     "name": "stderr",
     "output_type": "stream",
     "text": [
      "   664/1000      10.8G     0.1027    0.09759     0.7637         13        736: 100%|██████████| 21/21 [00:04<00:00,  4.29it/s]\n"
     ]
    },
    {
     "name": "stdout",
     "output_type": "stream",
     "text": [
      "\n",
      "      Epoch    GPU_mem   box_loss   cls_loss   dfl_loss  Instances       Size\n"
     ]
    },
    {
     "name": "stderr",
     "output_type": "stream",
     "text": [
      "   665/1000      10.8G     0.1035    0.09346      0.769         15        736: 100%|██████████| 21/21 [00:04<00:00,  4.30it/s]\n"
     ]
    },
    {
     "name": "stdout",
     "output_type": "stream",
     "text": [
      "\n",
      "      Epoch    GPU_mem   box_loss   cls_loss   dfl_loss  Instances       Size\n"
     ]
    },
    {
     "name": "stderr",
     "output_type": "stream",
     "text": [
      "   666/1000      10.8G      0.106    0.09698      0.766         21        736: 100%|██████████| 21/21 [00:04<00:00,  4.31it/s]\n"
     ]
    },
    {
     "name": "stdout",
     "output_type": "stream",
     "text": [
      "\n",
      "      Epoch    GPU_mem   box_loss   cls_loss   dfl_loss  Instances       Size\n"
     ]
    },
    {
     "name": "stderr",
     "output_type": "stream",
     "text": [
      "   667/1000      10.8G     0.1008    0.09363     0.7655         19        736: 100%|██████████| 21/21 [00:04<00:00,  4.30it/s]\n"
     ]
    },
    {
     "name": "stdout",
     "output_type": "stream",
     "text": [
      "\n",
      "      Epoch    GPU_mem   box_loss   cls_loss   dfl_loss  Instances       Size\n"
     ]
    },
    {
     "name": "stderr",
     "output_type": "stream",
     "text": [
      "   668/1000      10.8G     0.1002    0.09616     0.7584         21        736: 100%|██████████| 21/21 [00:04<00:00,  4.31it/s]\n"
     ]
    },
    {
     "name": "stdout",
     "output_type": "stream",
     "text": [
      "\n",
      "      Epoch    GPU_mem   box_loss   cls_loss   dfl_loss  Instances       Size\n"
     ]
    },
    {
     "name": "stderr",
     "output_type": "stream",
     "text": [
      "   669/1000      10.8G      0.101    0.09482     0.7717         18        736: 100%|██████████| 21/21 [00:04<00:00,  4.29it/s]\n"
     ]
    },
    {
     "name": "stdout",
     "output_type": "stream",
     "text": [
      "\n",
      "      Epoch    GPU_mem   box_loss   cls_loss   dfl_loss  Instances       Size\n"
     ]
    },
    {
     "name": "stderr",
     "output_type": "stream",
     "text": [
      "   670/1000      10.8G     0.1035    0.09515     0.7641         13        736: 100%|██████████| 21/21 [00:04<00:00,  4.32it/s]\n"
     ]
    },
    {
     "name": "stdout",
     "output_type": "stream",
     "text": [
      "\n",
      "      Epoch    GPU_mem   box_loss   cls_loss   dfl_loss  Instances       Size\n"
     ]
    },
    {
     "name": "stderr",
     "output_type": "stream",
     "text": [
      "   671/1000      10.8G     0.1061    0.09712     0.7652         17        736: 100%|██████████| 21/21 [00:04<00:00,  4.30it/s]\n"
     ]
    },
    {
     "name": "stdout",
     "output_type": "stream",
     "text": [
      "\n",
      "      Epoch    GPU_mem   box_loss   cls_loss   dfl_loss  Instances       Size\n"
     ]
    },
    {
     "name": "stderr",
     "output_type": "stream",
     "text": [
      "   672/1000      10.8G     0.1047    0.09549     0.7658         16        736: 100%|██████████| 21/21 [00:04<00:00,  4.30it/s]\n"
     ]
    },
    {
     "name": "stdout",
     "output_type": "stream",
     "text": [
      "\n",
      "      Epoch    GPU_mem   box_loss   cls_loss   dfl_loss  Instances       Size\n"
     ]
    },
    {
     "name": "stderr",
     "output_type": "stream",
     "text": [
      "   673/1000      10.8G      0.106     0.0968     0.7714         16        736: 100%|██████████| 21/21 [00:04<00:00,  4.30it/s]\n"
     ]
    },
    {
     "name": "stdout",
     "output_type": "stream",
     "text": [
      "\n",
      "      Epoch    GPU_mem   box_loss   cls_loss   dfl_loss  Instances       Size\n"
     ]
    },
    {
     "name": "stderr",
     "output_type": "stream",
     "text": [
      "   674/1000      10.8G     0.1005    0.09095     0.7662         21        736: 100%|██████████| 21/21 [00:04<00:00,  4.31it/s]\n"
     ]
    },
    {
     "name": "stdout",
     "output_type": "stream",
     "text": [
      "\n",
      "      Epoch    GPU_mem   box_loss   cls_loss   dfl_loss  Instances       Size\n"
     ]
    },
    {
     "name": "stderr",
     "output_type": "stream",
     "text": [
      "   675/1000      10.8G     0.1009    0.09473     0.7599         21        736: 100%|██████████| 21/21 [00:04<00:00,  4.28it/s]\n"
     ]
    },
    {
     "name": "stdout",
     "output_type": "stream",
     "text": [
      "\n",
      "      Epoch    GPU_mem   box_loss   cls_loss   dfl_loss  Instances       Size\n"
     ]
    },
    {
     "name": "stderr",
     "output_type": "stream",
     "text": [
      "   676/1000      10.8G     0.1013    0.09354     0.7605         21        736: 100%|██████████| 21/21 [00:04<00:00,  4.31it/s]\n"
     ]
    },
    {
     "name": "stdout",
     "output_type": "stream",
     "text": [
      "\n",
      "      Epoch    GPU_mem   box_loss   cls_loss   dfl_loss  Instances       Size\n"
     ]
    },
    {
     "name": "stderr",
     "output_type": "stream",
     "text": [
      "   677/1000      10.8G     0.1055    0.09833     0.7574         24        736: 100%|██████████| 21/21 [00:04<00:00,  4.28it/s]\n"
     ]
    },
    {
     "name": "stdout",
     "output_type": "stream",
     "text": [
      "\n",
      "      Epoch    GPU_mem   box_loss   cls_loss   dfl_loss  Instances       Size\n"
     ]
    },
    {
     "name": "stderr",
     "output_type": "stream",
     "text": [
      "   678/1000      10.8G     0.1052    0.09704     0.7632         13        736: 100%|██████████| 21/21 [00:04<00:00,  4.30it/s]\n"
     ]
    },
    {
     "name": "stdout",
     "output_type": "stream",
     "text": [
      "\n",
      "      Epoch    GPU_mem   box_loss   cls_loss   dfl_loss  Instances       Size\n"
     ]
    },
    {
     "name": "stderr",
     "output_type": "stream",
     "text": [
      "   679/1000      10.8G    0.09902    0.09128     0.7646         15        736: 100%|██████████| 21/21 [00:04<00:00,  4.28it/s]\n"
     ]
    },
    {
     "name": "stdout",
     "output_type": "stream",
     "text": [
      "\n",
      "      Epoch    GPU_mem   box_loss   cls_loss   dfl_loss  Instances       Size\n"
     ]
    },
    {
     "name": "stderr",
     "output_type": "stream",
     "text": [
      "   680/1000      10.8G     0.1003    0.09446     0.7643         12        736: 100%|██████████| 21/21 [00:04<00:00,  4.28it/s]\n"
     ]
    },
    {
     "name": "stdout",
     "output_type": "stream",
     "text": [
      "\n",
      "      Epoch    GPU_mem   box_loss   cls_loss   dfl_loss  Instances       Size\n"
     ]
    },
    {
     "name": "stderr",
     "output_type": "stream",
     "text": [
      "   681/1000      10.8G     0.1008    0.09583     0.7652         21        736: 100%|██████████| 21/21 [00:04<00:00,  4.29it/s]\n"
     ]
    },
    {
     "name": "stdout",
     "output_type": "stream",
     "text": [
      "\n",
      "      Epoch    GPU_mem   box_loss   cls_loss   dfl_loss  Instances       Size\n"
     ]
    },
    {
     "name": "stderr",
     "output_type": "stream",
     "text": [
      "   682/1000      10.8G     0.1004    0.09511      0.768         21        736: 100%|██████████| 21/21 [00:04<00:00,  4.31it/s]\n"
     ]
    },
    {
     "name": "stdout",
     "output_type": "stream",
     "text": [
      "\n",
      "      Epoch    GPU_mem   box_loss   cls_loss   dfl_loss  Instances       Size\n"
     ]
    },
    {
     "name": "stderr",
     "output_type": "stream",
     "text": [
      "   683/1000      10.8G      0.098     0.0921     0.7662         15        736: 100%|██████████| 21/21 [00:04<00:00,  4.28it/s]\n"
     ]
    },
    {
     "name": "stdout",
     "output_type": "stream",
     "text": [
      "\n",
      "      Epoch    GPU_mem   box_loss   cls_loss   dfl_loss  Instances       Size\n"
     ]
    },
    {
     "name": "stderr",
     "output_type": "stream",
     "text": [
      "   684/1000      10.8G     0.1014    0.09524     0.7615         16        736: 100%|██████████| 21/21 [00:04<00:00,  4.31it/s]\n"
     ]
    },
    {
     "name": "stdout",
     "output_type": "stream",
     "text": [
      "\n",
      "      Epoch    GPU_mem   box_loss   cls_loss   dfl_loss  Instances       Size\n"
     ]
    },
    {
     "name": "stderr",
     "output_type": "stream",
     "text": [
      "   685/1000      10.8G     0.1043    0.09854     0.7594         15        736: 100%|██████████| 21/21 [00:04<00:00,  4.29it/s]\n"
     ]
    },
    {
     "name": "stdout",
     "output_type": "stream",
     "text": [
      "\n",
      "      Epoch    GPU_mem   box_loss   cls_loss   dfl_loss  Instances       Size\n"
     ]
    },
    {
     "name": "stderr",
     "output_type": "stream",
     "text": [
      "   686/1000      10.8G      0.102    0.09648      0.764         21        736: 100%|██████████| 21/21 [00:04<00:00,  4.29it/s]\n"
     ]
    },
    {
     "name": "stdout",
     "output_type": "stream",
     "text": [
      "\n",
      "      Epoch    GPU_mem   box_loss   cls_loss   dfl_loss  Instances       Size\n"
     ]
    },
    {
     "name": "stderr",
     "output_type": "stream",
     "text": [
      "   687/1000      10.8G      0.101    0.09556     0.7664         21        736: 100%|██████████| 21/21 [00:04<00:00,  4.29it/s]\n"
     ]
    },
    {
     "name": "stdout",
     "output_type": "stream",
     "text": [
      "\n",
      "      Epoch    GPU_mem   box_loss   cls_loss   dfl_loss  Instances       Size\n"
     ]
    },
    {
     "name": "stderr",
     "output_type": "stream",
     "text": [
      "   688/1000      10.8G    0.09941    0.09879     0.7606         16        736: 100%|██████████| 21/21 [00:04<00:00,  4.29it/s]\n"
     ]
    },
    {
     "name": "stdout",
     "output_type": "stream",
     "text": [
      "\n",
      "      Epoch    GPU_mem   box_loss   cls_loss   dfl_loss  Instances       Size\n"
     ]
    },
    {
     "name": "stderr",
     "output_type": "stream",
     "text": [
      "   689/1000      10.8G    0.09822    0.09315     0.7703         16        736: 100%|██████████| 21/21 [00:04<00:00,  4.29it/s]\n"
     ]
    },
    {
     "name": "stdout",
     "output_type": "stream",
     "text": [
      "\n",
      "      Epoch    GPU_mem   box_loss   cls_loss   dfl_loss  Instances       Size\n"
     ]
    },
    {
     "name": "stderr",
     "output_type": "stream",
     "text": [
      "   690/1000      10.8G    0.09533    0.09152      0.767         15        736: 100%|██████████| 21/21 [00:04<00:00,  4.31it/s]\n"
     ]
    },
    {
     "name": "stdout",
     "output_type": "stream",
     "text": [
      "\n",
      "      Epoch    GPU_mem   box_loss   cls_loss   dfl_loss  Instances       Size\n"
     ]
    },
    {
     "name": "stderr",
     "output_type": "stream",
     "text": [
      "   691/1000      10.8G     0.1085    0.09855     0.7697         19        736: 100%|██████████| 21/21 [00:04<00:00,  4.27it/s]\n"
     ]
    },
    {
     "name": "stdout",
     "output_type": "stream",
     "text": [
      "\n",
      "      Epoch    GPU_mem   box_loss   cls_loss   dfl_loss  Instances       Size\n"
     ]
    },
    {
     "name": "stderr",
     "output_type": "stream",
     "text": [
      "   692/1000      10.8G     0.1069    0.09694     0.7661         19        736: 100%|██████████| 21/21 [00:04<00:00,  4.30it/s]\n"
     ]
    },
    {
     "name": "stdout",
     "output_type": "stream",
     "text": [
      "\n",
      "      Epoch    GPU_mem   box_loss   cls_loss   dfl_loss  Instances       Size\n"
     ]
    },
    {
     "name": "stderr",
     "output_type": "stream",
     "text": [
      "   693/1000      10.8G     0.1072    0.09669     0.7664         20        736: 100%|██████████| 21/21 [00:04<00:00,  4.29it/s]\n"
     ]
    },
    {
     "name": "stdout",
     "output_type": "stream",
     "text": [
      "\n",
      "      Epoch    GPU_mem   box_loss   cls_loss   dfl_loss  Instances       Size\n"
     ]
    },
    {
     "name": "stderr",
     "output_type": "stream",
     "text": [
      "   694/1000      10.8G    0.09686    0.09216     0.7629         16        736: 100%|██████████| 21/21 [00:04<00:00,  4.28it/s]\n"
     ]
    },
    {
     "name": "stdout",
     "output_type": "stream",
     "text": [
      "\n",
      "      Epoch    GPU_mem   box_loss   cls_loss   dfl_loss  Instances       Size\n"
     ]
    },
    {
     "name": "stderr",
     "output_type": "stream",
     "text": [
      "   695/1000      10.8G     0.1013    0.09414     0.7651         18        736: 100%|██████████| 21/21 [00:04<00:00,  4.30it/s]\n"
     ]
    },
    {
     "name": "stdout",
     "output_type": "stream",
     "text": [
      "\n",
      "      Epoch    GPU_mem   box_loss   cls_loss   dfl_loss  Instances       Size\n"
     ]
    },
    {
     "name": "stderr",
     "output_type": "stream",
     "text": [
      "   696/1000      10.8G    0.09898    0.09484     0.7587         16        736: 100%|██████████| 21/21 [00:04<00:00,  4.31it/s]\n"
     ]
    },
    {
     "name": "stdout",
     "output_type": "stream",
     "text": [
      "\n",
      "      Epoch    GPU_mem   box_loss   cls_loss   dfl_loss  Instances       Size\n"
     ]
    },
    {
     "name": "stderr",
     "output_type": "stream",
     "text": [
      "   697/1000      10.8G    0.09945    0.09304      0.774         15        736: 100%|██████████| 21/21 [00:04<00:00,  4.28it/s]\n"
     ]
    },
    {
     "name": "stdout",
     "output_type": "stream",
     "text": [
      "\n",
      "      Epoch    GPU_mem   box_loss   cls_loss   dfl_loss  Instances       Size\n"
     ]
    },
    {
     "name": "stderr",
     "output_type": "stream",
     "text": [
      "   698/1000      10.8G        0.1    0.09585     0.7657         14        736: 100%|██████████| 21/21 [00:04<00:00,  4.31it/s]\n"
     ]
    },
    {
     "name": "stdout",
     "output_type": "stream",
     "text": [
      "\n",
      "      Epoch    GPU_mem   box_loss   cls_loss   dfl_loss  Instances       Size\n"
     ]
    },
    {
     "name": "stderr",
     "output_type": "stream",
     "text": [
      "   699/1000      10.8G     0.1015    0.09804     0.7612         19        736: 100%|██████████| 21/21 [00:04<00:00,  4.28it/s]\n"
     ]
    },
    {
     "name": "stdout",
     "output_type": "stream",
     "text": [
      "\n",
      "      Epoch    GPU_mem   box_loss   cls_loss   dfl_loss  Instances       Size\n"
     ]
    },
    {
     "name": "stderr",
     "output_type": "stream",
     "text": [
      "   700/1000      10.8G     0.1009     0.0945     0.7655         16        736: 100%|██████████| 21/21 [00:04<00:00,  4.32it/s]\n"
     ]
    },
    {
     "name": "stdout",
     "output_type": "stream",
     "text": [
      "\n",
      "      Epoch    GPU_mem   box_loss   cls_loss   dfl_loss  Instances       Size\n"
     ]
    },
    {
     "name": "stderr",
     "output_type": "stream",
     "text": [
      "   701/1000      10.8G     0.1037    0.09429     0.7637         17        736: 100%|██████████| 21/21 [00:04<00:00,  4.30it/s]\n"
     ]
    },
    {
     "name": "stdout",
     "output_type": "stream",
     "text": [
      "\n",
      "      Epoch    GPU_mem   box_loss   cls_loss   dfl_loss  Instances       Size\n"
     ]
    },
    {
     "name": "stderr",
     "output_type": "stream",
     "text": [
      "   702/1000      10.7G    0.09986    0.09993     0.7578         20        736: 100%|██████████| 21/21 [00:04<00:00,  4.29it/s]\n"
     ]
    },
    {
     "name": "stdout",
     "output_type": "stream",
     "text": [
      "\n",
      "      Epoch    GPU_mem   box_loss   cls_loss   dfl_loss  Instances       Size\n"
     ]
    },
    {
     "name": "stderr",
     "output_type": "stream",
     "text": [
      "   703/1000      10.8G    0.09989    0.09509     0.7714         16        736: 100%|██████████| 21/21 [00:04<00:00,  4.30it/s]\n"
     ]
    },
    {
     "name": "stdout",
     "output_type": "stream",
     "text": [
      "\n",
      "      Epoch    GPU_mem   box_loss   cls_loss   dfl_loss  Instances       Size\n"
     ]
    },
    {
     "name": "stderr",
     "output_type": "stream",
     "text": [
      "   704/1000      10.8G    0.09913    0.09748     0.7577         11        736: 100%|██████████| 21/21 [00:04<00:00,  4.31it/s]\n"
     ]
    },
    {
     "name": "stdout",
     "output_type": "stream",
     "text": [
      "\n",
      "      Epoch    GPU_mem   box_loss   cls_loss   dfl_loss  Instances       Size\n"
     ]
    },
    {
     "name": "stderr",
     "output_type": "stream",
     "text": [
      "   705/1000      10.8G     0.1015    0.09566     0.7573         19        736: 100%|██████████| 21/21 [00:04<00:00,  4.26it/s]\n"
     ]
    },
    {
     "name": "stdout",
     "output_type": "stream",
     "text": [
      "\n",
      "      Epoch    GPU_mem   box_loss   cls_loss   dfl_loss  Instances       Size\n"
     ]
    },
    {
     "name": "stderr",
     "output_type": "stream",
     "text": [
      "   706/1000      10.8G     0.1049    0.09473     0.7636         15        736: 100%|██████████| 21/21 [00:04<00:00,  4.32it/s]\n"
     ]
    },
    {
     "name": "stdout",
     "output_type": "stream",
     "text": [
      "\n",
      "      Epoch    GPU_mem   box_loss   cls_loss   dfl_loss  Instances       Size\n"
     ]
    },
    {
     "name": "stderr",
     "output_type": "stream",
     "text": [
      "   707/1000      10.8G    0.09799    0.09265     0.7607         16        736: 100%|██████████| 21/21 [00:04<00:00,  4.29it/s]\n"
     ]
    },
    {
     "name": "stdout",
     "output_type": "stream",
     "text": [
      "\n",
      "      Epoch    GPU_mem   box_loss   cls_loss   dfl_loss  Instances       Size\n"
     ]
    },
    {
     "name": "stderr",
     "output_type": "stream",
     "text": [
      "   708/1000      10.8G    0.09474     0.0916     0.7686         15        736: 100%|██████████| 21/21 [00:04<00:00,  4.30it/s]\n"
     ]
    },
    {
     "name": "stdout",
     "output_type": "stream",
     "text": [
      "\n",
      "      Epoch    GPU_mem   box_loss   cls_loss   dfl_loss  Instances       Size\n"
     ]
    },
    {
     "name": "stderr",
     "output_type": "stream",
     "text": [
      "   709/1000      10.8G     0.1001    0.09553      0.757         15        736: 100%|██████████| 21/21 [00:04<00:00,  4.29it/s]\n"
     ]
    },
    {
     "name": "stdout",
     "output_type": "stream",
     "text": [
      "\n",
      "      Epoch    GPU_mem   box_loss   cls_loss   dfl_loss  Instances       Size\n"
     ]
    },
    {
     "name": "stderr",
     "output_type": "stream",
     "text": [
      "   710/1000      10.8G    0.09821    0.09386     0.7605         12        736: 100%|██████████| 21/21 [00:04<00:00,  4.29it/s]\n"
     ]
    },
    {
     "name": "stdout",
     "output_type": "stream",
     "text": [
      "\n",
      "      Epoch    GPU_mem   box_loss   cls_loss   dfl_loss  Instances       Size\n"
     ]
    },
    {
     "name": "stderr",
     "output_type": "stream",
     "text": [
      "   711/1000      10.8G    0.09654    0.09072     0.7665         22        736: 100%|██████████| 21/21 [00:04<00:00,  4.29it/s]\n"
     ]
    },
    {
     "name": "stdout",
     "output_type": "stream",
     "text": [
      "\n",
      "      Epoch    GPU_mem   box_loss   cls_loss   dfl_loss  Instances       Size\n"
     ]
    },
    {
     "name": "stderr",
     "output_type": "stream",
     "text": [
      "   712/1000      10.8G    0.09917    0.09383     0.7674         16        736: 100%|██████████| 21/21 [00:04<00:00,  4.31it/s]\n"
     ]
    },
    {
     "name": "stdout",
     "output_type": "stream",
     "text": [
      "\n",
      "      Epoch    GPU_mem   box_loss   cls_loss   dfl_loss  Instances       Size\n"
     ]
    },
    {
     "name": "stderr",
     "output_type": "stream",
     "text": [
      "   713/1000      10.8G     0.1011    0.09449     0.7674         15        736: 100%|██████████| 21/21 [00:04<00:00,  4.26it/s]\n"
     ]
    },
    {
     "name": "stdout",
     "output_type": "stream",
     "text": [
      "\n",
      "      Epoch    GPU_mem   box_loss   cls_loss   dfl_loss  Instances       Size\n"
     ]
    },
    {
     "name": "stderr",
     "output_type": "stream",
     "text": [
      "   714/1000      10.7G    0.09332     0.0905     0.7637         15        736: 100%|██████████| 21/21 [00:04<00:00,  4.31it/s]\n"
     ]
    },
    {
     "name": "stdout",
     "output_type": "stream",
     "text": [
      "\n",
      "      Epoch    GPU_mem   box_loss   cls_loss   dfl_loss  Instances       Size\n"
     ]
    },
    {
     "name": "stderr",
     "output_type": "stream",
     "text": [
      "   715/1000      10.8G    0.09421    0.09194     0.7643         17        736: 100%|██████████| 21/21 [00:04<00:00,  4.29it/s]\n"
     ]
    },
    {
     "name": "stdout",
     "output_type": "stream",
     "text": [
      "\n",
      "      Epoch    GPU_mem   box_loss   cls_loss   dfl_loss  Instances       Size\n"
     ]
    },
    {
     "name": "stderr",
     "output_type": "stream",
     "text": [
      "   716/1000      10.8G    0.09648    0.08965      0.764         14        736: 100%|██████████| 21/21 [00:04<00:00,  4.30it/s]\n"
     ]
    },
    {
     "name": "stdout",
     "output_type": "stream",
     "text": [
      "\n",
      "      Epoch    GPU_mem   box_loss   cls_loss   dfl_loss  Instances       Size\n"
     ]
    },
    {
     "name": "stderr",
     "output_type": "stream",
     "text": [
      "   717/1000      10.8G    0.09595    0.09006     0.7606         18        736: 100%|██████████| 21/21 [00:04<00:00,  4.30it/s]\n"
     ]
    },
    {
     "name": "stdout",
     "output_type": "stream",
     "text": [
      "\n",
      "      Epoch    GPU_mem   box_loss   cls_loss   dfl_loss  Instances       Size\n"
     ]
    },
    {
     "name": "stderr",
     "output_type": "stream",
     "text": [
      "   718/1000      10.8G    0.09789    0.09264     0.7692         23        736: 100%|██████████| 21/21 [00:04<00:00,  4.31it/s]\n"
     ]
    },
    {
     "name": "stdout",
     "output_type": "stream",
     "text": [
      "\n",
      "      Epoch    GPU_mem   box_loss   cls_loss   dfl_loss  Instances       Size\n"
     ]
    },
    {
     "name": "stderr",
     "output_type": "stream",
     "text": [
      "   719/1000      10.8G    0.09665    0.09325     0.7586         23        736: 100%|██████████| 21/21 [00:04<00:00,  4.29it/s]\n"
     ]
    },
    {
     "name": "stdout",
     "output_type": "stream",
     "text": [
      "\n",
      "      Epoch    GPU_mem   box_loss   cls_loss   dfl_loss  Instances       Size\n"
     ]
    },
    {
     "name": "stderr",
     "output_type": "stream",
     "text": [
      "   720/1000      10.8G    0.09664    0.09092     0.7675         13        736: 100%|██████████| 21/21 [00:04<00:00,  4.32it/s]\n"
     ]
    },
    {
     "name": "stdout",
     "output_type": "stream",
     "text": [
      "\n",
      "      Epoch    GPU_mem   box_loss   cls_loss   dfl_loss  Instances       Size\n"
     ]
    },
    {
     "name": "stderr",
     "output_type": "stream",
     "text": [
      "   721/1000      10.8G    0.09231    0.08862     0.7643         14        736: 100%|██████████| 21/21 [00:04<00:00,  4.27it/s]\n"
     ]
    },
    {
     "name": "stdout",
     "output_type": "stream",
     "text": [
      "\n",
      "      Epoch    GPU_mem   box_loss   cls_loss   dfl_loss  Instances       Size\n"
     ]
    },
    {
     "name": "stderr",
     "output_type": "stream",
     "text": [
      "   722/1000      10.8G    0.09726    0.09372     0.7606         20        736: 100%|██████████| 21/21 [00:04<00:00,  4.30it/s]\n"
     ]
    },
    {
     "name": "stdout",
     "output_type": "stream",
     "text": [
      "\n",
      "      Epoch    GPU_mem   box_loss   cls_loss   dfl_loss  Instances       Size\n"
     ]
    },
    {
     "name": "stderr",
     "output_type": "stream",
     "text": [
      "   723/1000      10.8G    0.09528     0.0903     0.7618         13        736: 100%|██████████| 21/21 [00:04<00:00,  4.29it/s]\n"
     ]
    },
    {
     "name": "stdout",
     "output_type": "stream",
     "text": [
      "\n",
      "      Epoch    GPU_mem   box_loss   cls_loss   dfl_loss  Instances       Size\n"
     ]
    },
    {
     "name": "stderr",
     "output_type": "stream",
     "text": [
      "   724/1000      10.8G    0.09704    0.09147     0.7677         13        736: 100%|██████████| 21/21 [00:04<00:00,  4.29it/s]\n"
     ]
    },
    {
     "name": "stdout",
     "output_type": "stream",
     "text": [
      "\n",
      "      Epoch    GPU_mem   box_loss   cls_loss   dfl_loss  Instances       Size\n"
     ]
    },
    {
     "name": "stderr",
     "output_type": "stream",
     "text": [
      "   725/1000      10.8G     0.1006    0.09753     0.7656         18        736: 100%|██████████| 21/21 [00:04<00:00,  4.29it/s]\n"
     ]
    },
    {
     "name": "stdout",
     "output_type": "stream",
     "text": [
      "\n",
      "      Epoch    GPU_mem   box_loss   cls_loss   dfl_loss  Instances       Size\n"
     ]
    },
    {
     "name": "stderr",
     "output_type": "stream",
     "text": [
      "   726/1000      10.8G    0.09881    0.09205     0.7646         17        736: 100%|██████████| 21/21 [00:04<00:00,  4.31it/s]\n"
     ]
    },
    {
     "name": "stdout",
     "output_type": "stream",
     "text": [
      "\n",
      "      Epoch    GPU_mem   box_loss   cls_loss   dfl_loss  Instances       Size\n"
     ]
    },
    {
     "name": "stderr",
     "output_type": "stream",
     "text": [
      "   727/1000      10.8G    0.09724    0.09288     0.7568         16        736: 100%|██████████| 21/21 [00:04<00:00,  4.27it/s]\n"
     ]
    },
    {
     "name": "stdout",
     "output_type": "stream",
     "text": [
      "\n",
      "      Epoch    GPU_mem   box_loss   cls_loss   dfl_loss  Instances       Size\n"
     ]
    },
    {
     "name": "stderr",
     "output_type": "stream",
     "text": [
      "   728/1000      10.8G    0.09487    0.09091      0.765         19        736: 100%|██████████| 21/21 [00:04<00:00,  4.31it/s]\n"
     ]
    },
    {
     "name": "stdout",
     "output_type": "stream",
     "text": [
      "\n",
      "      Epoch    GPU_mem   box_loss   cls_loss   dfl_loss  Instances       Size\n"
     ]
    },
    {
     "name": "stderr",
     "output_type": "stream",
     "text": [
      "   729/1000      10.8G    0.09358     0.0897     0.7677         16        736: 100%|██████████| 21/21 [00:04<00:00,  4.30it/s]\n"
     ]
    },
    {
     "name": "stdout",
     "output_type": "stream",
     "text": [
      "\n",
      "      Epoch    GPU_mem   box_loss   cls_loss   dfl_loss  Instances       Size\n"
     ]
    },
    {
     "name": "stderr",
     "output_type": "stream",
     "text": [
      "   730/1000      10.8G    0.09779    0.09177     0.7677         18        736: 100%|██████████| 21/21 [00:04<00:00,  4.30it/s]\n"
     ]
    },
    {
     "name": "stdout",
     "output_type": "stream",
     "text": [
      "\n",
      "      Epoch    GPU_mem   box_loss   cls_loss   dfl_loss  Instances       Size\n"
     ]
    },
    {
     "name": "stderr",
     "output_type": "stream",
     "text": [
      "   731/1000      10.8G    0.09532    0.08936     0.7581         21        736: 100%|██████████| 21/21 [00:04<00:00,  4.30it/s]\n"
     ]
    },
    {
     "name": "stdout",
     "output_type": "stream",
     "text": [
      "\n",
      "      Epoch    GPU_mem   box_loss   cls_loss   dfl_loss  Instances       Size\n"
     ]
    },
    {
     "name": "stderr",
     "output_type": "stream",
     "text": [
      "   732/1000      10.8G    0.09897    0.09162     0.7638         16        736: 100%|██████████| 21/21 [00:04<00:00,  4.29it/s]\n"
     ]
    },
    {
     "name": "stdout",
     "output_type": "stream",
     "text": [
      "\n",
      "      Epoch    GPU_mem   box_loss   cls_loss   dfl_loss  Instances       Size\n"
     ]
    },
    {
     "name": "stderr",
     "output_type": "stream",
     "text": [
      "   733/1000      10.8G    0.09246    0.08817     0.7587         17        736: 100%|██████████| 21/21 [00:04<00:00,  4.28it/s]\n"
     ]
    },
    {
     "name": "stdout",
     "output_type": "stream",
     "text": [
      "\n",
      "      Epoch    GPU_mem   box_loss   cls_loss   dfl_loss  Instances       Size\n"
     ]
    },
    {
     "name": "stderr",
     "output_type": "stream",
     "text": [
      "   734/1000      10.8G    0.09226    0.09066     0.7634         16        736: 100%|██████████| 21/21 [00:04<00:00,  4.30it/s]\n"
     ]
    },
    {
     "name": "stdout",
     "output_type": "stream",
     "text": [
      "\n",
      "      Epoch    GPU_mem   box_loss   cls_loss   dfl_loss  Instances       Size\n"
     ]
    },
    {
     "name": "stderr",
     "output_type": "stream",
     "text": [
      "   735/1000      10.8G    0.09479    0.08903     0.7592         14        736: 100%|██████████| 21/21 [00:04<00:00,  4.27it/s]\n"
     ]
    },
    {
     "name": "stdout",
     "output_type": "stream",
     "text": [
      "\n",
      "      Epoch    GPU_mem   box_loss   cls_loss   dfl_loss  Instances       Size\n"
     ]
    },
    {
     "name": "stderr",
     "output_type": "stream",
     "text": [
      "   736/1000      10.8G    0.09337    0.08913      0.768         14        736: 100%|██████████| 21/21 [00:04<00:00,  4.30it/s]\n"
     ]
    },
    {
     "name": "stdout",
     "output_type": "stream",
     "text": [
      "\n",
      "      Epoch    GPU_mem   box_loss   cls_loss   dfl_loss  Instances       Size\n"
     ]
    },
    {
     "name": "stderr",
     "output_type": "stream",
     "text": [
      "   737/1000      10.8G    0.09642    0.09167     0.7667         19        736: 100%|██████████| 21/21 [00:04<00:00,  4.29it/s]\n"
     ]
    },
    {
     "name": "stdout",
     "output_type": "stream",
     "text": [
      "\n",
      "      Epoch    GPU_mem   box_loss   cls_loss   dfl_loss  Instances       Size\n"
     ]
    },
    {
     "name": "stderr",
     "output_type": "stream",
     "text": [
      "   738/1000      10.8G    0.09573    0.08829     0.7707         16        736: 100%|██████████| 21/21 [00:04<00:00,  4.29it/s]\n"
     ]
    },
    {
     "name": "stdout",
     "output_type": "stream",
     "text": [
      "\n",
      "      Epoch    GPU_mem   box_loss   cls_loss   dfl_loss  Instances       Size\n"
     ]
    },
    {
     "name": "stderr",
     "output_type": "stream",
     "text": [
      "   739/1000      10.8G    0.09663    0.08868     0.7645         15        736: 100%|██████████| 21/21 [00:04<00:00,  4.30it/s]\n"
     ]
    },
    {
     "name": "stdout",
     "output_type": "stream",
     "text": [
      "\n",
      "      Epoch    GPU_mem   box_loss   cls_loss   dfl_loss  Instances       Size\n"
     ]
    },
    {
     "name": "stderr",
     "output_type": "stream",
     "text": [
      "   740/1000      10.8G    0.09138    0.08742     0.7565         11        736: 100%|██████████| 21/21 [00:04<00:00,  4.31it/s]\n"
     ]
    },
    {
     "name": "stdout",
     "output_type": "stream",
     "text": [
      "\n",
      "      Epoch    GPU_mem   box_loss   cls_loss   dfl_loss  Instances       Size\n"
     ]
    },
    {
     "name": "stderr",
     "output_type": "stream",
     "text": [
      "   741/1000      10.8G     0.0918    0.08595     0.7729         22        736: 100%|██████████| 21/21 [00:04<00:00,  4.29it/s]\n"
     ]
    },
    {
     "name": "stdout",
     "output_type": "stream",
     "text": [
      "\n",
      "      Epoch    GPU_mem   box_loss   cls_loss   dfl_loss  Instances       Size\n"
     ]
    },
    {
     "name": "stderr",
     "output_type": "stream",
     "text": [
      "   742/1000      10.8G    0.09194    0.08786     0.7711         13        736: 100%|██████████| 21/21 [00:04<00:00,  4.32it/s]\n"
     ]
    },
    {
     "name": "stdout",
     "output_type": "stream",
     "text": [
      "\n",
      "      Epoch    GPU_mem   box_loss   cls_loss   dfl_loss  Instances       Size\n"
     ]
    },
    {
     "name": "stderr",
     "output_type": "stream",
     "text": [
      "   743/1000      10.8G    0.09156     0.0878     0.7668         14        736: 100%|██████████| 21/21 [00:04<00:00,  4.27it/s]\n"
     ]
    },
    {
     "name": "stdout",
     "output_type": "stream",
     "text": [
      "\n",
      "      Epoch    GPU_mem   box_loss   cls_loss   dfl_loss  Instances       Size\n"
     ]
    },
    {
     "name": "stderr",
     "output_type": "stream",
     "text": [
      "   744/1000      10.8G     0.0919    0.08821     0.7613         14        736: 100%|██████████| 21/21 [00:04<00:00,  4.31it/s]\n"
     ]
    },
    {
     "name": "stdout",
     "output_type": "stream",
     "text": [
      "\n",
      "      Epoch    GPU_mem   box_loss   cls_loss   dfl_loss  Instances       Size\n"
     ]
    },
    {
     "name": "stderr",
     "output_type": "stream",
     "text": [
      "   745/1000      10.8G    0.09382    0.09199     0.7672         22        736: 100%|██████████| 21/21 [00:04<00:00,  4.30it/s]\n"
     ]
    },
    {
     "name": "stdout",
     "output_type": "stream",
     "text": [
      "\n",
      "      Epoch    GPU_mem   box_loss   cls_loss   dfl_loss  Instances       Size\n"
     ]
    },
    {
     "name": "stderr",
     "output_type": "stream",
     "text": [
      "   746/1000      10.8G    0.09582    0.09019     0.7691         17        736: 100%|██████████| 21/21 [00:04<00:00,  4.30it/s]\n"
     ]
    },
    {
     "name": "stdout",
     "output_type": "stream",
     "text": [
      "\n",
      "      Epoch    GPU_mem   box_loss   cls_loss   dfl_loss  Instances       Size\n"
     ]
    },
    {
     "name": "stderr",
     "output_type": "stream",
     "text": [
      "   747/1000      10.8G     0.0926    0.09035     0.7609         16        736: 100%|██████████| 21/21 [00:04<00:00,  4.29it/s]\n"
     ]
    },
    {
     "name": "stdout",
     "output_type": "stream",
     "text": [
      "\n",
      "      Epoch    GPU_mem   box_loss   cls_loss   dfl_loss  Instances       Size\n"
     ]
    },
    {
     "name": "stderr",
     "output_type": "stream",
     "text": [
      "   748/1000      10.8G    0.09302     0.0892      0.765         17        736: 100%|██████████| 21/21 [00:04<00:00,  4.31it/s]\n"
     ]
    },
    {
     "name": "stdout",
     "output_type": "stream",
     "text": [
      "\n",
      "      Epoch    GPU_mem   box_loss   cls_loss   dfl_loss  Instances       Size\n"
     ]
    },
    {
     "name": "stderr",
     "output_type": "stream",
     "text": [
      "   749/1000      10.8G    0.09266    0.08784     0.7665         15        736: 100%|██████████| 21/21 [00:04<00:00,  4.28it/s]\n"
     ]
    },
    {
     "name": "stdout",
     "output_type": "stream",
     "text": [
      "\n",
      "      Epoch    GPU_mem   box_loss   cls_loss   dfl_loss  Instances       Size\n"
     ]
    },
    {
     "name": "stderr",
     "output_type": "stream",
     "text": [
      "   750/1000      10.8G    0.09541    0.09039     0.7621         20        736: 100%|██████████| 21/21 [00:04<00:00,  4.32it/s]\n"
     ]
    },
    {
     "name": "stdout",
     "output_type": "stream",
     "text": [
      "\n",
      "      Epoch    GPU_mem   box_loss   cls_loss   dfl_loss  Instances       Size\n"
     ]
    },
    {
     "name": "stderr",
     "output_type": "stream",
     "text": [
      "   751/1000      10.8G    0.09379    0.08906     0.7639         16        736: 100%|██████████| 21/21 [00:04<00:00,  4.28it/s]\n"
     ]
    },
    {
     "name": "stdout",
     "output_type": "stream",
     "text": [
      "\n",
      "      Epoch    GPU_mem   box_loss   cls_loss   dfl_loss  Instances       Size\n"
     ]
    },
    {
     "name": "stderr",
     "output_type": "stream",
     "text": [
      "   752/1000      10.8G     0.0924    0.08954     0.7638         13        736: 100%|██████████| 21/21 [00:04<00:00,  4.31it/s]\n"
     ]
    },
    {
     "name": "stdout",
     "output_type": "stream",
     "text": [
      "\n",
      "      Epoch    GPU_mem   box_loss   cls_loss   dfl_loss  Instances       Size\n"
     ]
    },
    {
     "name": "stderr",
     "output_type": "stream",
     "text": [
      "   753/1000      10.8G    0.09624    0.09005     0.7628         13        736: 100%|██████████| 21/21 [00:04<00:00,  4.28it/s]\n"
     ]
    },
    {
     "name": "stdout",
     "output_type": "stream",
     "text": [
      "\n",
      "      Epoch    GPU_mem   box_loss   cls_loss   dfl_loss  Instances       Size\n"
     ]
    },
    {
     "name": "stderr",
     "output_type": "stream",
     "text": [
      "   754/1000      10.8G    0.09284    0.08963     0.7591         13        736: 100%|██████████| 21/21 [00:04<00:00,  4.30it/s]\n"
     ]
    },
    {
     "name": "stdout",
     "output_type": "stream",
     "text": [
      "\n",
      "      Epoch    GPU_mem   box_loss   cls_loss   dfl_loss  Instances       Size\n"
     ]
    },
    {
     "name": "stderr",
     "output_type": "stream",
     "text": [
      "   755/1000      10.8G    0.09333    0.08856     0.7655         20        736: 100%|██████████| 21/21 [00:04<00:00,  4.30it/s]\n"
     ]
    },
    {
     "name": "stdout",
     "output_type": "stream",
     "text": [
      "\n",
      "      Epoch    GPU_mem   box_loss   cls_loss   dfl_loss  Instances       Size\n"
     ]
    },
    {
     "name": "stderr",
     "output_type": "stream",
     "text": [
      "   756/1000      10.8G    0.09519    0.08812     0.7603         15        736: 100%|██████████| 21/21 [00:04<00:00,  4.31it/s]\n"
     ]
    },
    {
     "name": "stdout",
     "output_type": "stream",
     "text": [
      "\n",
      "      Epoch    GPU_mem   box_loss   cls_loss   dfl_loss  Instances       Size\n"
     ]
    },
    {
     "name": "stderr",
     "output_type": "stream",
     "text": [
      "   757/1000      10.8G    0.09264    0.09197     0.7655         16        736: 100%|██████████| 21/21 [00:04<00:00,  4.28it/s]\n"
     ]
    },
    {
     "name": "stdout",
     "output_type": "stream",
     "text": [
      "\n",
      "      Epoch    GPU_mem   box_loss   cls_loss   dfl_loss  Instances       Size\n"
     ]
    },
    {
     "name": "stderr",
     "output_type": "stream",
     "text": [
      "   758/1000      10.8G     0.0953    0.09264     0.7602         19        736: 100%|██████████| 21/21 [00:04<00:00,  4.31it/s]\n"
     ]
    },
    {
     "name": "stdout",
     "output_type": "stream",
     "text": [
      "\n",
      "      Epoch    GPU_mem   box_loss   cls_loss   dfl_loss  Instances       Size\n"
     ]
    },
    {
     "name": "stderr",
     "output_type": "stream",
     "text": [
      "   759/1000      10.8G    0.09478    0.09125     0.7653         13        736: 100%|██████████| 21/21 [00:04<00:00,  4.30it/s]\n"
     ]
    },
    {
     "name": "stdout",
     "output_type": "stream",
     "text": [
      "\n",
      "      Epoch    GPU_mem   box_loss   cls_loss   dfl_loss  Instances       Size\n"
     ]
    },
    {
     "name": "stderr",
     "output_type": "stream",
     "text": [
      "   760/1000      10.8G    0.09421    0.08947     0.7632         21        736: 100%|██████████| 21/21 [00:04<00:00,  4.30it/s]\n"
     ]
    },
    {
     "name": "stdout",
     "output_type": "stream",
     "text": [
      "\n",
      "      Epoch    GPU_mem   box_loss   cls_loss   dfl_loss  Instances       Size\n"
     ]
    },
    {
     "name": "stderr",
     "output_type": "stream",
     "text": [
      "   761/1000      10.8G    0.08962    0.08644     0.7645         13        736: 100%|██████████| 21/21 [00:04<00:00,  4.29it/s]\n"
     ]
    },
    {
     "name": "stdout",
     "output_type": "stream",
     "text": [
      "\n",
      "      Epoch    GPU_mem   box_loss   cls_loss   dfl_loss  Instances       Size\n"
     ]
    },
    {
     "name": "stderr",
     "output_type": "stream",
     "text": [
      "   762/1000      10.7G    0.09012    0.08769     0.7599         14        736: 100%|██████████| 21/21 [00:04<00:00,  4.28it/s]\n"
     ]
    },
    {
     "name": "stdout",
     "output_type": "stream",
     "text": [
      "\n",
      "      Epoch    GPU_mem   box_loss   cls_loss   dfl_loss  Instances       Size\n"
     ]
    },
    {
     "name": "stderr",
     "output_type": "stream",
     "text": [
      "   763/1000      10.8G    0.09103    0.08458     0.7703         18        736: 100%|██████████| 21/21 [00:04<00:00,  4.29it/s]\n"
     ]
    },
    {
     "name": "stdout",
     "output_type": "stream",
     "text": [
      "\n",
      "      Epoch    GPU_mem   box_loss   cls_loss   dfl_loss  Instances       Size\n"
     ]
    },
    {
     "name": "stderr",
     "output_type": "stream",
     "text": [
      "   764/1000      10.8G    0.09496    0.08838     0.7658         21        736: 100%|██████████| 21/21 [00:04<00:00,  4.31it/s]\n"
     ]
    },
    {
     "name": "stdout",
     "output_type": "stream",
     "text": [
      "\n",
      "      Epoch    GPU_mem   box_loss   cls_loss   dfl_loss  Instances       Size\n"
     ]
    },
    {
     "name": "stderr",
     "output_type": "stream",
     "text": [
      "   765/1000      10.8G    0.09017    0.08523      0.765         13        736: 100%|██████████| 21/21 [00:04<00:00,  4.29it/s]\n"
     ]
    },
    {
     "name": "stdout",
     "output_type": "stream",
     "text": [
      "\n",
      "      Epoch    GPU_mem   box_loss   cls_loss   dfl_loss  Instances       Size\n"
     ]
    },
    {
     "name": "stderr",
     "output_type": "stream",
     "text": [
      "   766/1000      10.8G    0.09344    0.08961      0.761         23        736: 100%|██████████| 21/21 [00:04<00:00,  4.31it/s]\n"
     ]
    },
    {
     "name": "stdout",
     "output_type": "stream",
     "text": [
      "\n",
      "      Epoch    GPU_mem   box_loss   cls_loss   dfl_loss  Instances       Size\n"
     ]
    },
    {
     "name": "stderr",
     "output_type": "stream",
     "text": [
      "   767/1000      10.8G    0.09355    0.08986     0.7601         12        736: 100%|██████████| 21/21 [00:04<00:00,  4.29it/s]\n"
     ]
    },
    {
     "name": "stdout",
     "output_type": "stream",
     "text": [
      "\n",
      "      Epoch    GPU_mem   box_loss   cls_loss   dfl_loss  Instances       Size\n"
     ]
    },
    {
     "name": "stderr",
     "output_type": "stream",
     "text": [
      "   768/1000      10.8G    0.09261     0.0867     0.7684         16        736: 100%|██████████| 21/21 [00:04<00:00,  4.29it/s]\n"
     ]
    },
    {
     "name": "stdout",
     "output_type": "stream",
     "text": [
      "\n",
      "      Epoch    GPU_mem   box_loss   cls_loss   dfl_loss  Instances       Size\n"
     ]
    },
    {
     "name": "stderr",
     "output_type": "stream",
     "text": [
      "   769/1000      10.8G    0.08618     0.0833     0.7653         12        736: 100%|██████████| 21/21 [00:04<00:00,  4.29it/s]\n"
     ]
    },
    {
     "name": "stdout",
     "output_type": "stream",
     "text": [
      "\n",
      "      Epoch    GPU_mem   box_loss   cls_loss   dfl_loss  Instances       Size\n"
     ]
    },
    {
     "name": "stderr",
     "output_type": "stream",
     "text": [
      "   770/1000      10.8G    0.08821    0.08267     0.7667         21        736: 100%|██████████| 21/21 [00:04<00:00,  4.31it/s]\n"
     ]
    },
    {
     "name": "stdout",
     "output_type": "stream",
     "text": [
      "\n",
      "      Epoch    GPU_mem   box_loss   cls_loss   dfl_loss  Instances       Size\n"
     ]
    },
    {
     "name": "stderr",
     "output_type": "stream",
     "text": [
      "   771/1000      10.8G    0.09266    0.08734     0.7685         15        736: 100%|██████████| 21/21 [00:04<00:00,  4.28it/s]\n"
     ]
    },
    {
     "name": "stdout",
     "output_type": "stream",
     "text": [
      "\n",
      "      Epoch    GPU_mem   box_loss   cls_loss   dfl_loss  Instances       Size\n"
     ]
    },
    {
     "name": "stderr",
     "output_type": "stream",
     "text": [
      "   772/1000      10.8G    0.09276    0.08761     0.7644         12        736: 100%|██████████| 21/21 [00:04<00:00,  4.30it/s]\n"
     ]
    },
    {
     "name": "stdout",
     "output_type": "stream",
     "text": [
      "\n",
      "      Epoch    GPU_mem   box_loss   cls_loss   dfl_loss  Instances       Size\n"
     ]
    },
    {
     "name": "stderr",
     "output_type": "stream",
     "text": [
      "   773/1000      10.8G     0.0932    0.08419     0.7674         16        736: 100%|██████████| 21/21 [00:04<00:00,  4.29it/s]\n"
     ]
    },
    {
     "name": "stdout",
     "output_type": "stream",
     "text": [
      "\n",
      "      Epoch    GPU_mem   box_loss   cls_loss   dfl_loss  Instances       Size\n"
     ]
    },
    {
     "name": "stderr",
     "output_type": "stream",
     "text": [
      "   774/1000      10.8G    0.08923      0.085     0.7645         18        736: 100%|██████████| 21/21 [00:04<00:00,  4.30it/s]\n"
     ]
    },
    {
     "name": "stdout",
     "output_type": "stream",
     "text": [
      "\n",
      "      Epoch    GPU_mem   box_loss   cls_loss   dfl_loss  Instances       Size\n"
     ]
    },
    {
     "name": "stderr",
     "output_type": "stream",
     "text": [
      "   775/1000      10.8G    0.09137    0.08686     0.7657         12        736: 100%|██████████| 21/21 [00:04<00:00,  4.28it/s]\n"
     ]
    },
    {
     "name": "stdout",
     "output_type": "stream",
     "text": [
      "\n",
      "      Epoch    GPU_mem   box_loss   cls_loss   dfl_loss  Instances       Size\n"
     ]
    },
    {
     "name": "stderr",
     "output_type": "stream",
     "text": [
      "   776/1000      10.8G    0.08965    0.08772     0.7645         16        736: 100%|██████████| 21/21 [00:04<00:00,  4.29it/s]\n"
     ]
    },
    {
     "name": "stdout",
     "output_type": "stream",
     "text": [
      "\n",
      "      Epoch    GPU_mem   box_loss   cls_loss   dfl_loss  Instances       Size\n"
     ]
    },
    {
     "name": "stderr",
     "output_type": "stream",
     "text": [
      "   777/1000      10.8G    0.08997    0.08733      0.768         12        736: 100%|██████████| 21/21 [00:04<00:00,  4.29it/s]\n"
     ]
    },
    {
     "name": "stdout",
     "output_type": "stream",
     "text": [
      "\n",
      "      Epoch    GPU_mem   box_loss   cls_loss   dfl_loss  Instances       Size\n"
     ]
    },
    {
     "name": "stderr",
     "output_type": "stream",
     "text": [
      "   778/1000      10.8G    0.08874    0.08503     0.7644         24        736: 100%|██████████| 21/21 [00:04<00:00,  4.31it/s]\n"
     ]
    },
    {
     "name": "stdout",
     "output_type": "stream",
     "text": [
      "\n",
      "      Epoch    GPU_mem   box_loss   cls_loss   dfl_loss  Instances       Size\n"
     ]
    },
    {
     "name": "stderr",
     "output_type": "stream",
     "text": [
      "   779/1000      10.8G    0.08774    0.08424     0.7578         18        736: 100%|██████████| 21/21 [00:04<00:00,  4.26it/s]\n"
     ]
    },
    {
     "name": "stdout",
     "output_type": "stream",
     "text": [
      "\n",
      "      Epoch    GPU_mem   box_loss   cls_loss   dfl_loss  Instances       Size\n"
     ]
    },
    {
     "name": "stderr",
     "output_type": "stream",
     "text": [
      "   780/1000      10.8G     0.0895    0.08338     0.7614         15        736: 100%|██████████| 21/21 [00:04<00:00,  4.30it/s]\n"
     ]
    },
    {
     "name": "stdout",
     "output_type": "stream",
     "text": [
      "\n",
      "      Epoch    GPU_mem   box_loss   cls_loss   dfl_loss  Instances       Size\n"
     ]
    },
    {
     "name": "stderr",
     "output_type": "stream",
     "text": [
      "   781/1000      10.8G    0.09041    0.08615     0.7603         19        736: 100%|██████████| 21/21 [00:04<00:00,  4.30it/s]\n"
     ]
    },
    {
     "name": "stdout",
     "output_type": "stream",
     "text": [
      "\n",
      "      Epoch    GPU_mem   box_loss   cls_loss   dfl_loss  Instances       Size\n"
     ]
    },
    {
     "name": "stderr",
     "output_type": "stream",
     "text": [
      "   782/1000      10.8G    0.09079    0.08586     0.7676         17        736: 100%|██████████| 21/21 [00:04<00:00,  4.29it/s]\n"
     ]
    },
    {
     "name": "stdout",
     "output_type": "stream",
     "text": [
      "\n",
      "      Epoch    GPU_mem   box_loss   cls_loss   dfl_loss  Instances       Size\n"
     ]
    },
    {
     "name": "stderr",
     "output_type": "stream",
     "text": [
      "   783/1000      10.8G    0.08576    0.08313     0.7633         12        736: 100%|██████████| 21/21 [00:04<00:00,  4.30it/s]\n"
     ]
    },
    {
     "name": "stdout",
     "output_type": "stream",
     "text": [
      "\n",
      "      Epoch    GPU_mem   box_loss   cls_loss   dfl_loss  Instances       Size\n"
     ]
    },
    {
     "name": "stderr",
     "output_type": "stream",
     "text": [
      "   784/1000      10.8G    0.09038     0.0847     0.7669         15        736: 100%|██████████| 21/21 [00:04<00:00,  4.30it/s]\n"
     ]
    },
    {
     "name": "stdout",
     "output_type": "stream",
     "text": [
      "\n",
      "      Epoch    GPU_mem   box_loss   cls_loss   dfl_loss  Instances       Size\n"
     ]
    },
    {
     "name": "stderr",
     "output_type": "stream",
     "text": [
      "   785/1000      10.8G    0.09105    0.08606     0.7659         18        736: 100%|██████████| 21/21 [00:04<00:00,  4.31it/s]\n"
     ]
    },
    {
     "name": "stdout",
     "output_type": "stream",
     "text": [
      "\n",
      "      Epoch    GPU_mem   box_loss   cls_loss   dfl_loss  Instances       Size\n"
     ]
    },
    {
     "name": "stderr",
     "output_type": "stream",
     "text": [
      "   786/1000      10.8G    0.09042    0.08614      0.766         21        736: 100%|██████████| 21/21 [00:04<00:00,  4.31it/s]\n"
     ]
    },
    {
     "name": "stdout",
     "output_type": "stream",
     "text": [
      "\n",
      "      Epoch    GPU_mem   box_loss   cls_loss   dfl_loss  Instances       Size\n"
     ]
    },
    {
     "name": "stderr",
     "output_type": "stream",
     "text": [
      "   787/1000      10.8G    0.09072    0.08492     0.7666         19        736: 100%|██████████| 21/21 [00:04<00:00,  4.28it/s]\n"
     ]
    },
    {
     "name": "stdout",
     "output_type": "stream",
     "text": [
      "\n",
      "      Epoch    GPU_mem   box_loss   cls_loss   dfl_loss  Instances       Size\n"
     ]
    },
    {
     "name": "stderr",
     "output_type": "stream",
     "text": [
      "   788/1000      10.8G    0.08896    0.08401     0.7577         12        736: 100%|██████████| 21/21 [00:04<00:00,  4.31it/s]\n"
     ]
    },
    {
     "name": "stdout",
     "output_type": "stream",
     "text": [
      "\n",
      "      Epoch    GPU_mem   box_loss   cls_loss   dfl_loss  Instances       Size\n"
     ]
    },
    {
     "name": "stderr",
     "output_type": "stream",
     "text": [
      "   789/1000      10.8G    0.09246    0.08633     0.7643         18        736: 100%|██████████| 21/21 [00:04<00:00,  4.30it/s]\n"
     ]
    },
    {
     "name": "stdout",
     "output_type": "stream",
     "text": [
      "\n",
      "      Epoch    GPU_mem   box_loss   cls_loss   dfl_loss  Instances       Size\n"
     ]
    },
    {
     "name": "stderr",
     "output_type": "stream",
     "text": [
      "   790/1000      10.8G    0.08784    0.08534     0.7634         18        736: 100%|██████████| 21/21 [00:04<00:00,  4.29it/s]\n"
     ]
    },
    {
     "name": "stdout",
     "output_type": "stream",
     "text": [
      "\n",
      "      Epoch    GPU_mem   box_loss   cls_loss   dfl_loss  Instances       Size\n"
     ]
    },
    {
     "name": "stderr",
     "output_type": "stream",
     "text": [
      "   791/1000      10.8G    0.08632    0.08288      0.761         14        736: 100%|██████████| 21/21 [00:04<00:00,  4.29it/s]\n"
     ]
    },
    {
     "name": "stdout",
     "output_type": "stream",
     "text": [
      "\n",
      "      Epoch    GPU_mem   box_loss   cls_loss   dfl_loss  Instances       Size\n"
     ]
    },
    {
     "name": "stderr",
     "output_type": "stream",
     "text": [
      "   792/1000      10.8G    0.08483    0.08267     0.7682         12        736: 100%|██████████| 21/21 [00:04<00:00,  4.31it/s]\n"
     ]
    },
    {
     "name": "stdout",
     "output_type": "stream",
     "text": [
      "\n",
      "      Epoch    GPU_mem   box_loss   cls_loss   dfl_loss  Instances       Size\n"
     ]
    },
    {
     "name": "stderr",
     "output_type": "stream",
     "text": [
      "   793/1000      10.8G    0.08608    0.08305     0.7689         14        736: 100%|██████████| 21/21 [00:04<00:00,  4.29it/s]\n"
     ]
    },
    {
     "name": "stdout",
     "output_type": "stream",
     "text": [
      "\n",
      "      Epoch    GPU_mem   box_loss   cls_loss   dfl_loss  Instances       Size\n"
     ]
    },
    {
     "name": "stderr",
     "output_type": "stream",
     "text": [
      "   794/1000      10.8G     0.0883    0.08594     0.7666         16        736: 100%|██████████| 21/21 [00:04<00:00,  4.31it/s]\n"
     ]
    },
    {
     "name": "stdout",
     "output_type": "stream",
     "text": [
      "\n",
      "      Epoch    GPU_mem   box_loss   cls_loss   dfl_loss  Instances       Size\n"
     ]
    },
    {
     "name": "stderr",
     "output_type": "stream",
     "text": [
      "   795/1000      10.8G    0.08689    0.08399     0.7658         14        736: 100%|██████████| 21/21 [00:04<00:00,  4.27it/s]\n"
     ]
    },
    {
     "name": "stdout",
     "output_type": "stream",
     "text": [
      "\n",
      "      Epoch    GPU_mem   box_loss   cls_loss   dfl_loss  Instances       Size\n"
     ]
    },
    {
     "name": "stderr",
     "output_type": "stream",
     "text": [
      "   796/1000      10.7G    0.08785    0.08341     0.7622         14        736: 100%|██████████| 21/21 [00:04<00:00,  4.31it/s]\n"
     ]
    },
    {
     "name": "stdout",
     "output_type": "stream",
     "text": [
      "\n",
      "      Epoch    GPU_mem   box_loss   cls_loss   dfl_loss  Instances       Size\n"
     ]
    },
    {
     "name": "stderr",
     "output_type": "stream",
     "text": [
      "   797/1000      10.8G     0.0846    0.08155     0.7636         17        736: 100%|██████████| 21/21 [00:04<00:00,  4.30it/s]\n"
     ]
    },
    {
     "name": "stdout",
     "output_type": "stream",
     "text": [
      "\n",
      "      Epoch    GPU_mem   box_loss   cls_loss   dfl_loss  Instances       Size\n"
     ]
    },
    {
     "name": "stderr",
     "output_type": "stream",
     "text": [
      "   798/1000      10.8G     0.0878    0.08536     0.7621         17        736: 100%|██████████| 21/21 [00:04<00:00,  4.29it/s]\n"
     ]
    },
    {
     "name": "stdout",
     "output_type": "stream",
     "text": [
      "\n",
      "      Epoch    GPU_mem   box_loss   cls_loss   dfl_loss  Instances       Size\n"
     ]
    },
    {
     "name": "stderr",
     "output_type": "stream",
     "text": [
      "   799/1000      10.8G    0.08624    0.08532     0.7583         13        736: 100%|██████████| 21/21 [00:04<00:00,  4.28it/s]\n"
     ]
    },
    {
     "name": "stdout",
     "output_type": "stream",
     "text": [
      "\n",
      "      Epoch    GPU_mem   box_loss   cls_loss   dfl_loss  Instances       Size\n"
     ]
    },
    {
     "name": "stderr",
     "output_type": "stream",
     "text": [
      "   800/1000      10.8G    0.08978     0.0872     0.7706         15        736: 100%|██████████| 21/21 [00:04<00:00,  4.30it/s]\n"
     ]
    },
    {
     "name": "stdout",
     "output_type": "stream",
     "text": [
      "\n",
      "      Epoch    GPU_mem   box_loss   cls_loss   dfl_loss  Instances       Size\n"
     ]
    },
    {
     "name": "stderr",
     "output_type": "stream",
     "text": [
      "   801/1000      10.8G    0.08746    0.08423     0.7652         19        736: 100%|██████████| 21/21 [00:04<00:00,  4.27it/s]\n"
     ]
    },
    {
     "name": "stdout",
     "output_type": "stream",
     "text": [
      "\n",
      "      Epoch    GPU_mem   box_loss   cls_loss   dfl_loss  Instances       Size\n"
     ]
    },
    {
     "name": "stderr",
     "output_type": "stream",
     "text": [
      "   802/1000      10.8G    0.08873    0.08247     0.7649         16        736: 100%|██████████| 21/21 [00:04<00:00,  4.30it/s]\n"
     ]
    },
    {
     "name": "stdout",
     "output_type": "stream",
     "text": [
      "\n",
      "      Epoch    GPU_mem   box_loss   cls_loss   dfl_loss  Instances       Size\n"
     ]
    },
    {
     "name": "stderr",
     "output_type": "stream",
     "text": [
      "   803/1000      10.8G    0.08677    0.08431     0.7667         14        736: 100%|██████████| 21/21 [00:04<00:00,  4.29it/s]\n"
     ]
    },
    {
     "name": "stdout",
     "output_type": "stream",
     "text": [
      "\n",
      "      Epoch    GPU_mem   box_loss   cls_loss   dfl_loss  Instances       Size\n"
     ]
    },
    {
     "name": "stderr",
     "output_type": "stream",
     "text": [
      "   804/1000      10.7G    0.08437    0.08161     0.7652         20        736: 100%|██████████| 21/21 [00:04<00:00,  4.30it/s]\n"
     ]
    },
    {
     "name": "stdout",
     "output_type": "stream",
     "text": [
      "\n",
      "      Epoch    GPU_mem   box_loss   cls_loss   dfl_loss  Instances       Size\n"
     ]
    },
    {
     "name": "stderr",
     "output_type": "stream",
     "text": [
      "   805/1000      10.8G    0.08983    0.08736     0.7578         23        736: 100%|██████████| 21/21 [00:04<00:00,  4.30it/s]\n"
     ]
    },
    {
     "name": "stdout",
     "output_type": "stream",
     "text": [
      "\n",
      "      Epoch    GPU_mem   box_loss   cls_loss   dfl_loss  Instances       Size\n"
     ]
    },
    {
     "name": "stderr",
     "output_type": "stream",
     "text": [
      "   806/1000      10.8G    0.08807    0.08591     0.7654         17        736: 100%|██████████| 21/21 [00:04<00:00,  4.28it/s]\n"
     ]
    },
    {
     "name": "stdout",
     "output_type": "stream",
     "text": [
      "\n",
      "      Epoch    GPU_mem   box_loss   cls_loss   dfl_loss  Instances       Size\n"
     ]
    },
    {
     "name": "stderr",
     "output_type": "stream",
     "text": [
      "   807/1000      10.8G    0.08911    0.08357     0.7676         13        736: 100%|██████████| 21/21 [00:04<00:00,  4.30it/s]\n"
     ]
    },
    {
     "name": "stdout",
     "output_type": "stream",
     "text": [
      "\n",
      "      Epoch    GPU_mem   box_loss   cls_loss   dfl_loss  Instances       Size\n"
     ]
    },
    {
     "name": "stderr",
     "output_type": "stream",
     "text": [
      "   808/1000      10.8G     0.0842    0.08062      0.764         16        736: 100%|██████████| 21/21 [00:04<00:00,  4.32it/s]\n"
     ]
    },
    {
     "name": "stdout",
     "output_type": "stream",
     "text": [
      "\n",
      "      Epoch    GPU_mem   box_loss   cls_loss   dfl_loss  Instances       Size\n"
     ]
    },
    {
     "name": "stderr",
     "output_type": "stream",
     "text": [
      "   809/1000      10.8G    0.08774     0.0824     0.7621         16        736: 100%|██████████| 21/21 [00:04<00:00,  4.29it/s]\n"
     ]
    },
    {
     "name": "stdout",
     "output_type": "stream",
     "text": [
      "\n",
      "      Epoch    GPU_mem   box_loss   cls_loss   dfl_loss  Instances       Size\n"
     ]
    },
    {
     "name": "stderr",
     "output_type": "stream",
     "text": [
      "   810/1000      10.8G    0.08424    0.08028     0.7657         14        736: 100%|██████████| 21/21 [00:04<00:00,  4.31it/s]\n"
     ]
    },
    {
     "name": "stdout",
     "output_type": "stream",
     "text": [
      "\n",
      "      Epoch    GPU_mem   box_loss   cls_loss   dfl_loss  Instances       Size\n"
     ]
    },
    {
     "name": "stderr",
     "output_type": "stream",
     "text": [
      "   811/1000      10.8G    0.08461    0.08198     0.7648         17        736: 100%|██████████| 21/21 [00:04<00:00,  4.29it/s]\n"
     ]
    },
    {
     "name": "stdout",
     "output_type": "stream",
     "text": [
      "\n",
      "      Epoch    GPU_mem   box_loss   cls_loss   dfl_loss  Instances       Size\n"
     ]
    },
    {
     "name": "stderr",
     "output_type": "stream",
     "text": [
      "   812/1000      10.8G    0.08551    0.08139     0.7635         17        736: 100%|██████████| 21/21 [00:04<00:00,  4.30it/s]\n"
     ]
    },
    {
     "name": "stdout",
     "output_type": "stream",
     "text": [
      "\n",
      "      Epoch    GPU_mem   box_loss   cls_loss   dfl_loss  Instances       Size\n"
     ]
    },
    {
     "name": "stderr",
     "output_type": "stream",
     "text": [
      "   813/1000      10.8G    0.08435    0.08306     0.7631         19        736: 100%|██████████| 21/21 [00:04<00:00,  4.30it/s]\n"
     ]
    },
    {
     "name": "stdout",
     "output_type": "stream",
     "text": [
      "\n",
      "      Epoch    GPU_mem   box_loss   cls_loss   dfl_loss  Instances       Size\n"
     ]
    },
    {
     "name": "stderr",
     "output_type": "stream",
     "text": [
      "   814/1000      10.8G    0.08372    0.08284     0.7707         13        736: 100%|██████████| 21/21 [00:04<00:00,  4.31it/s]\n"
     ]
    },
    {
     "name": "stdout",
     "output_type": "stream",
     "text": [
      "\n",
      "      Epoch    GPU_mem   box_loss   cls_loss   dfl_loss  Instances       Size\n"
     ]
    },
    {
     "name": "stderr",
     "output_type": "stream",
     "text": [
      "   815/1000      10.8G    0.08639     0.0825     0.7639         14        736: 100%|██████████| 21/21 [00:04<00:00,  4.31it/s]\n"
     ]
    },
    {
     "name": "stdout",
     "output_type": "stream",
     "text": [
      "\n",
      "      Epoch    GPU_mem   box_loss   cls_loss   dfl_loss  Instances       Size\n"
     ]
    },
    {
     "name": "stderr",
     "output_type": "stream",
     "text": [
      "   816/1000      10.8G    0.08487    0.08211     0.7643         16        736: 100%|██████████| 21/21 [00:04<00:00,  4.32it/s]\n"
     ]
    },
    {
     "name": "stdout",
     "output_type": "stream",
     "text": [
      "\n",
      "      Epoch    GPU_mem   box_loss   cls_loss   dfl_loss  Instances       Size\n"
     ]
    },
    {
     "name": "stderr",
     "output_type": "stream",
     "text": [
      "   817/1000      10.8G    0.08299    0.08015     0.7592         17        736: 100%|██████████| 21/21 [00:04<00:00,  4.28it/s]\n"
     ]
    },
    {
     "name": "stdout",
     "output_type": "stream",
     "text": [
      "\n",
      "      Epoch    GPU_mem   box_loss   cls_loss   dfl_loss  Instances       Size\n"
     ]
    },
    {
     "name": "stderr",
     "output_type": "stream",
     "text": [
      "   818/1000      10.8G    0.08371    0.08272     0.7606         20        736: 100%|██████████| 21/21 [00:04<00:00,  4.30it/s]\n"
     ]
    },
    {
     "name": "stdout",
     "output_type": "stream",
     "text": [
      "\n",
      "      Epoch    GPU_mem   box_loss   cls_loss   dfl_loss  Instances       Size\n"
     ]
    },
    {
     "name": "stderr",
     "output_type": "stream",
     "text": [
      "   819/1000      10.8G    0.08714    0.08382     0.7625         15        736: 100%|██████████| 21/21 [00:04<00:00,  4.29it/s]\n"
     ]
    },
    {
     "name": "stdout",
     "output_type": "stream",
     "text": [
      "\n",
      "      Epoch    GPU_mem   box_loss   cls_loss   dfl_loss  Instances       Size\n"
     ]
    },
    {
     "name": "stderr",
     "output_type": "stream",
     "text": [
      "   820/1000      10.8G    0.08445     0.0826      0.759         17        736: 100%|██████████| 21/21 [00:04<00:00,  4.28it/s]\n"
     ]
    },
    {
     "name": "stdout",
     "output_type": "stream",
     "text": [
      "\n",
      "      Epoch    GPU_mem   box_loss   cls_loss   dfl_loss  Instances       Size\n"
     ]
    },
    {
     "name": "stderr",
     "output_type": "stream",
     "text": [
      "   821/1000      10.8G    0.08395    0.08381      0.764         14        736: 100%|██████████| 21/21 [00:04<00:00,  4.29it/s]\n"
     ]
    },
    {
     "name": "stdout",
     "output_type": "stream",
     "text": [
      "\n",
      "      Epoch    GPU_mem   box_loss   cls_loss   dfl_loss  Instances       Size\n"
     ]
    },
    {
     "name": "stderr",
     "output_type": "stream",
     "text": [
      "   822/1000      10.8G    0.08319    0.08209     0.7636         20        736: 100%|██████████| 21/21 [00:04<00:00,  4.31it/s]\n"
     ]
    },
    {
     "name": "stdout",
     "output_type": "stream",
     "text": [
      "\n",
      "      Epoch    GPU_mem   box_loss   cls_loss   dfl_loss  Instances       Size\n"
     ]
    },
    {
     "name": "stderr",
     "output_type": "stream",
     "text": [
      "   823/1000      10.8G     0.0834    0.08099     0.7601         13        736: 100%|██████████| 21/21 [00:04<00:00,  4.28it/s]\n"
     ]
    },
    {
     "name": "stdout",
     "output_type": "stream",
     "text": [
      "\n",
      "      Epoch    GPU_mem   box_loss   cls_loss   dfl_loss  Instances       Size\n"
     ]
    },
    {
     "name": "stderr",
     "output_type": "stream",
     "text": [
      "   824/1000      10.8G     0.0857    0.08372     0.7639         20        736: 100%|██████████| 21/21 [00:04<00:00,  4.31it/s]\n"
     ]
    },
    {
     "name": "stdout",
     "output_type": "stream",
     "text": [
      "\n",
      "      Epoch    GPU_mem   box_loss   cls_loss   dfl_loss  Instances       Size\n"
     ]
    },
    {
     "name": "stderr",
     "output_type": "stream",
     "text": [
      "   825/1000      10.8G     0.0849    0.08474     0.7628         22        736: 100%|██████████| 21/21 [00:04<00:00,  4.30it/s]\n"
     ]
    },
    {
     "name": "stdout",
     "output_type": "stream",
     "text": [
      "\n",
      "      Epoch    GPU_mem   box_loss   cls_loss   dfl_loss  Instances       Size\n"
     ]
    },
    {
     "name": "stderr",
     "output_type": "stream",
     "text": [
      "   826/1000      10.8G    0.08581    0.08329     0.7661         18        736: 100%|██████████| 21/21 [00:04<00:00,  4.31it/s]\n"
     ]
    },
    {
     "name": "stdout",
     "output_type": "stream",
     "text": [
      "\n",
      "      Epoch    GPU_mem   box_loss   cls_loss   dfl_loss  Instances       Size\n"
     ]
    },
    {
     "name": "stderr",
     "output_type": "stream",
     "text": [
      "   827/1000      10.8G    0.08314    0.08109     0.7578         15        736: 100%|██████████| 21/21 [00:04<00:00,  4.32it/s]\n"
     ]
    },
    {
     "name": "stdout",
     "output_type": "stream",
     "text": [
      "\n",
      "      Epoch    GPU_mem   box_loss   cls_loss   dfl_loss  Instances       Size\n"
     ]
    },
    {
     "name": "stderr",
     "output_type": "stream",
     "text": [
      "   828/1000      10.8G    0.08365     0.0823     0.7627         14        736: 100%|██████████| 21/21 [00:04<00:00,  4.29it/s]\n"
     ]
    },
    {
     "name": "stdout",
     "output_type": "stream",
     "text": [
      "\n",
      "      Epoch    GPU_mem   box_loss   cls_loss   dfl_loss  Instances       Size\n"
     ]
    },
    {
     "name": "stderr",
     "output_type": "stream",
     "text": [
      "   829/1000      10.8G    0.08423    0.08284     0.7642         20        736: 100%|██████████| 21/21 [00:04<00:00,  4.29it/s]\n"
     ]
    },
    {
     "name": "stdout",
     "output_type": "stream",
     "text": [
      "\n",
      "      Epoch    GPU_mem   box_loss   cls_loss   dfl_loss  Instances       Size\n"
     ]
    },
    {
     "name": "stderr",
     "output_type": "stream",
     "text": [
      "   830/1000      10.8G    0.08239    0.08067     0.7668         16        736: 100%|██████████| 21/21 [00:04<00:00,  4.31it/s]\n"
     ]
    },
    {
     "name": "stdout",
     "output_type": "stream",
     "text": [
      "\n",
      "      Epoch    GPU_mem   box_loss   cls_loss   dfl_loss  Instances       Size\n"
     ]
    },
    {
     "name": "stderr",
     "output_type": "stream",
     "text": [
      "   831/1000      10.8G    0.08326    0.08128     0.7698         17        736: 100%|██████████| 21/21 [00:04<00:00,  4.24it/s]\n"
     ]
    },
    {
     "name": "stdout",
     "output_type": "stream",
     "text": [
      "\n",
      "      Epoch    GPU_mem   box_loss   cls_loss   dfl_loss  Instances       Size\n"
     ]
    },
    {
     "name": "stderr",
     "output_type": "stream",
     "text": [
      "   832/1000      10.8G    0.08199    0.08159     0.7683         13        736: 100%|██████████| 21/21 [00:04<00:00,  4.30it/s]\n"
     ]
    },
    {
     "name": "stdout",
     "output_type": "stream",
     "text": [
      "\n",
      "      Epoch    GPU_mem   box_loss   cls_loss   dfl_loss  Instances       Size\n"
     ]
    },
    {
     "name": "stderr",
     "output_type": "stream",
     "text": [
      "   833/1000      10.8G    0.08497    0.08231     0.7533         17        736: 100%|██████████| 21/21 [00:04<00:00,  4.29it/s]\n"
     ]
    },
    {
     "name": "stdout",
     "output_type": "stream",
     "text": [
      "\n",
      "      Epoch    GPU_mem   box_loss   cls_loss   dfl_loss  Instances       Size\n"
     ]
    },
    {
     "name": "stderr",
     "output_type": "stream",
     "text": [
      "   834/1000      10.8G     0.0839    0.08252     0.7641         14        736: 100%|██████████| 21/21 [00:04<00:00,  4.28it/s]\n"
     ]
    },
    {
     "name": "stdout",
     "output_type": "stream",
     "text": [
      "\n",
      "      Epoch    GPU_mem   box_loss   cls_loss   dfl_loss  Instances       Size\n"
     ]
    },
    {
     "name": "stderr",
     "output_type": "stream",
     "text": [
      "   835/1000      10.8G    0.08565    0.08234     0.7701         13        736: 100%|██████████| 21/21 [00:04<00:00,  4.29it/s]\n"
     ]
    },
    {
     "name": "stdout",
     "output_type": "stream",
     "text": [
      "\n",
      "      Epoch    GPU_mem   box_loss   cls_loss   dfl_loss  Instances       Size\n"
     ]
    },
    {
     "name": "stderr",
     "output_type": "stream",
     "text": [
      "   836/1000      10.8G    0.08218    0.08029     0.7634         17        736: 100%|██████████| 21/21 [00:04<00:00,  4.28it/s]\n"
     ]
    },
    {
     "name": "stdout",
     "output_type": "stream",
     "text": [
      "\n",
      "      Epoch    GPU_mem   box_loss   cls_loss   dfl_loss  Instances       Size\n"
     ]
    },
    {
     "name": "stderr",
     "output_type": "stream",
     "text": [
      "   837/1000      10.8G    0.08278    0.08017     0.7608         18        736: 100%|██████████| 21/21 [00:04<00:00,  4.29it/s]\n"
     ]
    },
    {
     "name": "stdout",
     "output_type": "stream",
     "text": [
      "\n",
      "      Epoch    GPU_mem   box_loss   cls_loss   dfl_loss  Instances       Size\n"
     ]
    },
    {
     "name": "stderr",
     "output_type": "stream",
     "text": [
      "   838/1000      10.8G    0.08162    0.07947     0.7631         14        736: 100%|██████████| 21/21 [00:04<00:00,  4.30it/s]\n"
     ]
    },
    {
     "name": "stdout",
     "output_type": "stream",
     "text": [
      "\n",
      "      Epoch    GPU_mem   box_loss   cls_loss   dfl_loss  Instances       Size\n"
     ]
    },
    {
     "name": "stderr",
     "output_type": "stream",
     "text": [
      "   839/1000      10.8G    0.08212    0.08093     0.7641         12        736: 100%|██████████| 21/21 [00:04<00:00,  4.27it/s]\n"
     ]
    },
    {
     "name": "stdout",
     "output_type": "stream",
     "text": [
      "\n",
      "      Epoch    GPU_mem   box_loss   cls_loss   dfl_loss  Instances       Size\n"
     ]
    },
    {
     "name": "stderr",
     "output_type": "stream",
     "text": [
      "   840/1000      10.8G     0.0834    0.07957     0.7681         15        736: 100%|██████████| 21/21 [00:04<00:00,  4.31it/s]\n"
     ]
    },
    {
     "name": "stdout",
     "output_type": "stream",
     "text": [
      "\n",
      "      Epoch    GPU_mem   box_loss   cls_loss   dfl_loss  Instances       Size\n"
     ]
    },
    {
     "name": "stderr",
     "output_type": "stream",
     "text": [
      "   841/1000      10.8G    0.08285    0.08043     0.7628         12        736: 100%|██████████| 21/21 [00:04<00:00,  4.31it/s]\n"
     ]
    },
    {
     "name": "stdout",
     "output_type": "stream",
     "text": [
      "\n",
      "      Epoch    GPU_mem   box_loss   cls_loss   dfl_loss  Instances       Size\n"
     ]
    },
    {
     "name": "stderr",
     "output_type": "stream",
     "text": [
      "   842/1000      10.8G    0.08081    0.07891     0.7631         26        736: 100%|██████████| 21/21 [00:04<00:00,  4.29it/s]\n"
     ]
    },
    {
     "name": "stdout",
     "output_type": "stream",
     "text": [
      "\n",
      "      Epoch    GPU_mem   box_loss   cls_loss   dfl_loss  Instances       Size\n"
     ]
    },
    {
     "name": "stderr",
     "output_type": "stream",
     "text": [
      "   843/1000      10.8G    0.08438    0.08195       0.76         15        736: 100%|██████████| 21/21 [00:04<00:00,  4.29it/s]\n"
     ]
    },
    {
     "name": "stdout",
     "output_type": "stream",
     "text": [
      "\n",
      "      Epoch    GPU_mem   box_loss   cls_loss   dfl_loss  Instances       Size\n"
     ]
    },
    {
     "name": "stderr",
     "output_type": "stream",
     "text": [
      "   844/1000      10.7G    0.08308    0.07864      0.767         19        736: 100%|██████████| 21/21 [00:04<00:00,  4.32it/s]\n"
     ]
    },
    {
     "name": "stdout",
     "output_type": "stream",
     "text": [
      "\n",
      "      Epoch    GPU_mem   box_loss   cls_loss   dfl_loss  Instances       Size\n"
     ]
    },
    {
     "name": "stderr",
     "output_type": "stream",
     "text": [
      "   845/1000      10.8G    0.07929     0.0773     0.7644         14        736: 100%|██████████| 21/21 [00:04<00:00,  4.29it/s]\n"
     ]
    },
    {
     "name": "stdout",
     "output_type": "stream",
     "text": [
      "\n",
      "      Epoch    GPU_mem   box_loss   cls_loss   dfl_loss  Instances       Size\n"
     ]
    },
    {
     "name": "stderr",
     "output_type": "stream",
     "text": [
      "   846/1000      10.8G    0.08257    0.08102     0.7625         17        736: 100%|██████████| 21/21 [00:04<00:00,  4.31it/s]\n"
     ]
    },
    {
     "name": "stdout",
     "output_type": "stream",
     "text": [
      "\n",
      "      Epoch    GPU_mem   box_loss   cls_loss   dfl_loss  Instances       Size\n"
     ]
    },
    {
     "name": "stderr",
     "output_type": "stream",
     "text": [
      "   847/1000      10.8G    0.08199    0.08145     0.7637         15        736: 100%|██████████| 21/21 [00:04<00:00,  4.28it/s]\n"
     ]
    },
    {
     "name": "stdout",
     "output_type": "stream",
     "text": [
      "\n",
      "      Epoch    GPU_mem   box_loss   cls_loss   dfl_loss  Instances       Size\n"
     ]
    },
    {
     "name": "stderr",
     "output_type": "stream",
     "text": [
      "   848/1000      10.8G    0.08043    0.08027     0.7608         18        736: 100%|██████████| 21/21 [00:04<00:00,  4.32it/s]\n"
     ]
    },
    {
     "name": "stdout",
     "output_type": "stream",
     "text": [
      "\n",
      "      Epoch    GPU_mem   box_loss   cls_loss   dfl_loss  Instances       Size\n"
     ]
    },
    {
     "name": "stderr",
     "output_type": "stream",
     "text": [
      "   849/1000      10.8G    0.07989    0.07921     0.7569         14        736: 100%|██████████| 21/21 [00:04<00:00,  4.31it/s]\n"
     ]
    },
    {
     "name": "stdout",
     "output_type": "stream",
     "text": [
      "\n",
      "      Epoch    GPU_mem   box_loss   cls_loss   dfl_loss  Instances       Size\n"
     ]
    },
    {
     "name": "stderr",
     "output_type": "stream",
     "text": [
      "   850/1000      10.8G    0.07905    0.07994     0.7591         18        736: 100%|██████████| 21/21 [00:04<00:00,  4.30it/s]\n"
     ]
    },
    {
     "name": "stdout",
     "output_type": "stream",
     "text": [
      "\n",
      "      Epoch    GPU_mem   box_loss   cls_loss   dfl_loss  Instances       Size\n"
     ]
    },
    {
     "name": "stderr",
     "output_type": "stream",
     "text": [
      "   851/1000      10.8G    0.08023    0.08034     0.7655         16        736: 100%|██████████| 21/21 [00:04<00:00,  4.30it/s]\n"
     ]
    },
    {
     "name": "stdout",
     "output_type": "stream",
     "text": [
      "\n",
      "      Epoch    GPU_mem   box_loss   cls_loss   dfl_loss  Instances       Size\n"
     ]
    },
    {
     "name": "stderr",
     "output_type": "stream",
     "text": [
      "   852/1000      10.8G     0.0801    0.08036      0.755         21        736: 100%|██████████| 21/21 [00:04<00:00,  4.31it/s]\n"
     ]
    },
    {
     "name": "stdout",
     "output_type": "stream",
     "text": [
      "\n",
      "      Epoch    GPU_mem   box_loss   cls_loss   dfl_loss  Instances       Size\n"
     ]
    },
    {
     "name": "stderr",
     "output_type": "stream",
     "text": [
      "   853/1000      10.8G    0.07985    0.07834      0.769         15        736: 100%|██████████| 21/21 [00:04<00:00,  4.26it/s]\n"
     ]
    },
    {
     "name": "stdout",
     "output_type": "stream",
     "text": [
      "\n",
      "      Epoch    GPU_mem   box_loss   cls_loss   dfl_loss  Instances       Size\n"
     ]
    },
    {
     "name": "stderr",
     "output_type": "stream",
     "text": [
      "   854/1000      10.8G    0.08105    0.07995     0.7644         23        736: 100%|██████████| 21/21 [00:04<00:00,  4.29it/s]\n"
     ]
    },
    {
     "name": "stdout",
     "output_type": "stream",
     "text": [
      "\n",
      "      Epoch    GPU_mem   box_loss   cls_loss   dfl_loss  Instances       Size\n"
     ]
    },
    {
     "name": "stderr",
     "output_type": "stream",
     "text": [
      "   855/1000      10.8G    0.08072    0.07943     0.7691         18        736: 100%|██████████| 21/21 [00:04<00:00,  4.29it/s]\n"
     ]
    },
    {
     "name": "stdout",
     "output_type": "stream",
     "text": [
      "\n",
      "      Epoch    GPU_mem   box_loss   cls_loss   dfl_loss  Instances       Size\n"
     ]
    },
    {
     "name": "stderr",
     "output_type": "stream",
     "text": [
      "   856/1000      10.8G    0.07864     0.0783     0.7643         13        736: 100%|██████████| 21/21 [00:04<00:00,  4.30it/s]\n"
     ]
    },
    {
     "name": "stdout",
     "output_type": "stream",
     "text": [
      "\n",
      "      Epoch    GPU_mem   box_loss   cls_loss   dfl_loss  Instances       Size\n"
     ]
    },
    {
     "name": "stderr",
     "output_type": "stream",
     "text": [
      "   857/1000      10.8G    0.08174    0.08021     0.7608         15        736: 100%|██████████| 21/21 [00:04<00:00,  4.29it/s]\n"
     ]
    },
    {
     "name": "stdout",
     "output_type": "stream",
     "text": [
      "\n",
      "      Epoch    GPU_mem   box_loss   cls_loss   dfl_loss  Instances       Size\n"
     ]
    },
    {
     "name": "stderr",
     "output_type": "stream",
     "text": [
      "   858/1000      10.8G    0.07861    0.07899     0.7635         14        736: 100%|██████████| 21/21 [00:04<00:00,  4.29it/s]\n"
     ]
    },
    {
     "name": "stdout",
     "output_type": "stream",
     "text": [
      "\n",
      "      Epoch    GPU_mem   box_loss   cls_loss   dfl_loss  Instances       Size\n"
     ]
    },
    {
     "name": "stderr",
     "output_type": "stream",
     "text": [
      "   859/1000      10.8G    0.07928    0.07606     0.7669         15        736: 100%|██████████| 21/21 [00:04<00:00,  4.29it/s]\n"
     ]
    },
    {
     "name": "stdout",
     "output_type": "stream",
     "text": [
      "\n",
      "      Epoch    GPU_mem   box_loss   cls_loss   dfl_loss  Instances       Size\n"
     ]
    },
    {
     "name": "stderr",
     "output_type": "stream",
     "text": [
      "   860/1000      10.8G    0.08016    0.07867     0.7585         14        736: 100%|██████████| 21/21 [00:04<00:00,  4.31it/s]\n"
     ]
    },
    {
     "name": "stdout",
     "output_type": "stream",
     "text": [
      "\n",
      "      Epoch    GPU_mem   box_loss   cls_loss   dfl_loss  Instances       Size\n"
     ]
    },
    {
     "name": "stderr",
     "output_type": "stream",
     "text": [
      "   861/1000      10.8G    0.07751     0.0776     0.7607         15        736: 100%|██████████| 21/21 [00:04<00:00,  4.27it/s]\n"
     ]
    },
    {
     "name": "stdout",
     "output_type": "stream",
     "text": [
      "\n",
      "      Epoch    GPU_mem   box_loss   cls_loss   dfl_loss  Instances       Size\n"
     ]
    },
    {
     "name": "stderr",
     "output_type": "stream",
     "text": [
      "   862/1000      10.8G    0.07971    0.07843     0.7548         22        736: 100%|██████████| 21/21 [00:04<00:00,  4.30it/s]\n"
     ]
    },
    {
     "name": "stdout",
     "output_type": "stream",
     "text": [
      "\n",
      "      Epoch    GPU_mem   box_loss   cls_loss   dfl_loss  Instances       Size\n"
     ]
    },
    {
     "name": "stderr",
     "output_type": "stream",
     "text": [
      "   863/1000      10.8G    0.07905    0.07919     0.7632         18        736: 100%|██████████| 21/21 [00:04<00:00,  4.29it/s]\n"
     ]
    },
    {
     "name": "stdout",
     "output_type": "stream",
     "text": [
      "\n",
      "      Epoch    GPU_mem   box_loss   cls_loss   dfl_loss  Instances       Size\n"
     ]
    },
    {
     "name": "stderr",
     "output_type": "stream",
     "text": [
      "   864/1000      10.8G    0.08057    0.08071     0.7571         18        736: 100%|██████████| 21/21 [00:04<00:00,  4.28it/s]\n"
     ]
    },
    {
     "name": "stdout",
     "output_type": "stream",
     "text": [
      "\n",
      "      Epoch    GPU_mem   box_loss   cls_loss   dfl_loss  Instances       Size\n"
     ]
    },
    {
     "name": "stderr",
     "output_type": "stream",
     "text": [
      "   865/1000      10.8G    0.08039    0.07896     0.7643         13        736: 100%|██████████| 21/21 [00:04<00:00,  4.30it/s]\n"
     ]
    },
    {
     "name": "stdout",
     "output_type": "stream",
     "text": [
      "\n",
      "      Epoch    GPU_mem   box_loss   cls_loss   dfl_loss  Instances       Size\n"
     ]
    },
    {
     "name": "stderr",
     "output_type": "stream",
     "text": [
      "   866/1000      10.8G    0.07934    0.07881     0.7646         14        736: 100%|██████████| 21/21 [00:04<00:00,  4.30it/s]\n"
     ]
    },
    {
     "name": "stdout",
     "output_type": "stream",
     "text": [
      "\n",
      "      Epoch    GPU_mem   box_loss   cls_loss   dfl_loss  Instances       Size\n"
     ]
    },
    {
     "name": "stderr",
     "output_type": "stream",
     "text": [
      "   867/1000      10.8G    0.07942    0.07833     0.7671         16        736: 100%|██████████| 21/21 [00:04<00:00,  4.28it/s]\n"
     ]
    },
    {
     "name": "stdout",
     "output_type": "stream",
     "text": [
      "\n",
      "      Epoch    GPU_mem   box_loss   cls_loss   dfl_loss  Instances       Size\n"
     ]
    },
    {
     "name": "stderr",
     "output_type": "stream",
     "text": [
      "   868/1000      10.8G    0.07827    0.07785     0.7646         17        736: 100%|██████████| 21/21 [00:04<00:00,  4.31it/s]\n"
     ]
    },
    {
     "name": "stdout",
     "output_type": "stream",
     "text": [
      "\n",
      "      Epoch    GPU_mem   box_loss   cls_loss   dfl_loss  Instances       Size\n"
     ]
    },
    {
     "name": "stderr",
     "output_type": "stream",
     "text": [
      "   869/1000      10.8G    0.07769    0.07913     0.7602         10        736: 100%|██████████| 21/21 [00:04<00:00,  4.28it/s]\n"
     ]
    },
    {
     "name": "stdout",
     "output_type": "stream",
     "text": [
      "\n",
      "      Epoch    GPU_mem   box_loss   cls_loss   dfl_loss  Instances       Size\n"
     ]
    },
    {
     "name": "stderr",
     "output_type": "stream",
     "text": [
      "   870/1000      10.8G    0.07707    0.07698     0.7602         13        736: 100%|██████████| 21/21 [00:04<00:00,  4.31it/s]\n"
     ]
    },
    {
     "name": "stdout",
     "output_type": "stream",
     "text": [
      "\n",
      "      Epoch    GPU_mem   box_loss   cls_loss   dfl_loss  Instances       Size\n"
     ]
    },
    {
     "name": "stderr",
     "output_type": "stream",
     "text": [
      "   871/1000      10.8G    0.07974     0.0779     0.7693         18        736: 100%|██████████| 21/21 [00:04<00:00,  4.30it/s]\n"
     ]
    },
    {
     "name": "stdout",
     "output_type": "stream",
     "text": [
      "\n",
      "      Epoch    GPU_mem   box_loss   cls_loss   dfl_loss  Instances       Size\n"
     ]
    },
    {
     "name": "stderr",
     "output_type": "stream",
     "text": [
      "   872/1000      10.8G    0.08069    0.07959     0.7581         14        736: 100%|██████████| 21/21 [00:04<00:00,  4.28it/s]\n"
     ]
    },
    {
     "name": "stdout",
     "output_type": "stream",
     "text": [
      "\n",
      "      Epoch    GPU_mem   box_loss   cls_loss   dfl_loss  Instances       Size\n"
     ]
    },
    {
     "name": "stderr",
     "output_type": "stream",
     "text": [
      "   873/1000      10.8G    0.07671    0.07607     0.7665         16        736: 100%|██████████| 21/21 [00:04<00:00,  4.28it/s]\n"
     ]
    },
    {
     "name": "stdout",
     "output_type": "stream",
     "text": [
      "\n",
      "      Epoch    GPU_mem   box_loss   cls_loss   dfl_loss  Instances       Size\n"
     ]
    },
    {
     "name": "stderr",
     "output_type": "stream",
     "text": [
      "   874/1000      10.8G    0.07957    0.07775     0.7717         12        736: 100%|██████████| 21/21 [00:04<00:00,  4.30it/s]\n"
     ]
    },
    {
     "name": "stdout",
     "output_type": "stream",
     "text": [
      "\n",
      "      Epoch    GPU_mem   box_loss   cls_loss   dfl_loss  Instances       Size\n"
     ]
    },
    {
     "name": "stderr",
     "output_type": "stream",
     "text": [
      "   875/1000      10.8G    0.07872    0.07659     0.7683         23        736: 100%|██████████| 21/21 [00:04<00:00,  4.27it/s]\n"
     ]
    },
    {
     "name": "stdout",
     "output_type": "stream",
     "text": [
      "\n",
      "      Epoch    GPU_mem   box_loss   cls_loss   dfl_loss  Instances       Size\n"
     ]
    },
    {
     "name": "stderr",
     "output_type": "stream",
     "text": [
      "   876/1000      10.7G    0.07951    0.07674     0.7637         12        736: 100%|██████████| 21/21 [00:04<00:00,  4.31it/s]\n"
     ]
    },
    {
     "name": "stdout",
     "output_type": "stream",
     "text": [
      "\n",
      "      Epoch    GPU_mem   box_loss   cls_loss   dfl_loss  Instances       Size\n"
     ]
    },
    {
     "name": "stderr",
     "output_type": "stream",
     "text": [
      "   877/1000      10.8G    0.07857    0.07666     0.7638         19        736: 100%|██████████| 21/21 [00:04<00:00,  4.29it/s]\n"
     ]
    },
    {
     "name": "stdout",
     "output_type": "stream",
     "text": [
      "\n",
      "      Epoch    GPU_mem   box_loss   cls_loss   dfl_loss  Instances       Size\n"
     ]
    },
    {
     "name": "stderr",
     "output_type": "stream",
     "text": [
      "   878/1000      10.8G     0.0789    0.07774       0.76         14        736: 100%|██████████| 21/21 [00:04<00:00,  4.30it/s]\n"
     ]
    },
    {
     "name": "stdout",
     "output_type": "stream",
     "text": [
      "\n",
      "      Epoch    GPU_mem   box_loss   cls_loss   dfl_loss  Instances       Size\n"
     ]
    },
    {
     "name": "stderr",
     "output_type": "stream",
     "text": [
      "   879/1000      10.8G    0.07932    0.07778     0.7619         22        736: 100%|██████████| 21/21 [00:04<00:00,  4.29it/s]\n"
     ]
    },
    {
     "name": "stdout",
     "output_type": "stream",
     "text": [
      "\n",
      "      Epoch    GPU_mem   box_loss   cls_loss   dfl_loss  Instances       Size\n"
     ]
    },
    {
     "name": "stderr",
     "output_type": "stream",
     "text": [
      "   880/1000      10.8G    0.07784    0.07555     0.7659         13        736: 100%|██████████| 21/21 [00:04<00:00,  4.29it/s]\n"
     ]
    },
    {
     "name": "stdout",
     "output_type": "stream",
     "text": [
      "\n",
      "      Epoch    GPU_mem   box_loss   cls_loss   dfl_loss  Instances       Size\n"
     ]
    },
    {
     "name": "stderr",
     "output_type": "stream",
     "text": [
      "   881/1000      10.8G    0.07901    0.07541     0.7687         18        736: 100%|██████████| 21/21 [00:04<00:00,  4.30it/s]\n"
     ]
    },
    {
     "name": "stdout",
     "output_type": "stream",
     "text": [
      "\n",
      "      Epoch    GPU_mem   box_loss   cls_loss   dfl_loss  Instances       Size\n"
     ]
    },
    {
     "name": "stderr",
     "output_type": "stream",
     "text": [
      "   882/1000      10.8G    0.07729    0.07642     0.7671         12        736: 100%|██████████| 21/21 [00:04<00:00,  4.31it/s]\n"
     ]
    },
    {
     "name": "stdout",
     "output_type": "stream",
     "text": [
      "\n",
      "      Epoch    GPU_mem   box_loss   cls_loss   dfl_loss  Instances       Size\n"
     ]
    },
    {
     "name": "stderr",
     "output_type": "stream",
     "text": [
      "   883/1000      10.8G    0.07801    0.07543     0.7683         13        736: 100%|██████████| 21/21 [00:04<00:00,  4.28it/s]\n"
     ]
    },
    {
     "name": "stdout",
     "output_type": "stream",
     "text": [
      "\n",
      "      Epoch    GPU_mem   box_loss   cls_loss   dfl_loss  Instances       Size\n"
     ]
    },
    {
     "name": "stderr",
     "output_type": "stream",
     "text": [
      "   884/1000      10.8G     0.0766    0.07513     0.7568         14        736: 100%|██████████| 21/21 [00:04<00:00,  4.31it/s]\n"
     ]
    },
    {
     "name": "stdout",
     "output_type": "stream",
     "text": [
      "\n",
      "      Epoch    GPU_mem   box_loss   cls_loss   dfl_loss  Instances       Size\n"
     ]
    },
    {
     "name": "stderr",
     "output_type": "stream",
     "text": [
      "   885/1000      10.8G    0.07742    0.07773     0.7607         18        736: 100%|██████████| 21/21 [00:04<00:00,  4.31it/s]\n"
     ]
    },
    {
     "name": "stdout",
     "output_type": "stream",
     "text": [
      "\n",
      "      Epoch    GPU_mem   box_loss   cls_loss   dfl_loss  Instances       Size\n"
     ]
    },
    {
     "name": "stderr",
     "output_type": "stream",
     "text": [
      "   886/1000      10.8G     0.0785    0.07827     0.7693         16        736: 100%|██████████| 21/21 [00:04<00:00,  4.29it/s]\n"
     ]
    },
    {
     "name": "stdout",
     "output_type": "stream",
     "text": [
      "\n",
      "      Epoch    GPU_mem   box_loss   cls_loss   dfl_loss  Instances       Size\n"
     ]
    },
    {
     "name": "stderr",
     "output_type": "stream",
     "text": [
      "   887/1000      10.8G     0.0788    0.07689     0.7652         16        736: 100%|██████████| 21/21 [00:04<00:00,  4.30it/s]\n"
     ]
    },
    {
     "name": "stdout",
     "output_type": "stream",
     "text": [
      "\n",
      "      Epoch    GPU_mem   box_loss   cls_loss   dfl_loss  Instances       Size\n"
     ]
    },
    {
     "name": "stderr",
     "output_type": "stream",
     "text": [
      "   888/1000      10.8G    0.07998      0.077     0.7549         12        736: 100%|██████████| 21/21 [00:04<00:00,  4.30it/s]\n"
     ]
    },
    {
     "name": "stdout",
     "output_type": "stream",
     "text": [
      "\n",
      "      Epoch    GPU_mem   box_loss   cls_loss   dfl_loss  Instances       Size\n"
     ]
    },
    {
     "name": "stderr",
     "output_type": "stream",
     "text": [
      "   889/1000      10.8G    0.07611    0.07497     0.7694         21        736: 100%|██████████| 21/21 [00:04<00:00,  4.30it/s]\n"
     ]
    },
    {
     "name": "stdout",
     "output_type": "stream",
     "text": [
      "\n",
      "      Epoch    GPU_mem   box_loss   cls_loss   dfl_loss  Instances       Size\n"
     ]
    },
    {
     "name": "stderr",
     "output_type": "stream",
     "text": [
      "   890/1000      10.8G    0.07656    0.07425     0.7577         10        736: 100%|██████████| 21/21 [00:04<00:00,  4.31it/s]\n"
     ]
    },
    {
     "name": "stdout",
     "output_type": "stream",
     "text": [
      "\n",
      "      Epoch    GPU_mem   box_loss   cls_loss   dfl_loss  Instances       Size\n"
     ]
    },
    {
     "name": "stderr",
     "output_type": "stream",
     "text": [
      "   891/1000      10.8G    0.07674    0.07703     0.7678         16        736: 100%|██████████| 21/21 [00:04<00:00,  4.29it/s]\n"
     ]
    },
    {
     "name": "stdout",
     "output_type": "stream",
     "text": [
      "\n",
      "      Epoch    GPU_mem   box_loss   cls_loss   dfl_loss  Instances       Size\n"
     ]
    },
    {
     "name": "stderr",
     "output_type": "stream",
     "text": [
      "   892/1000      10.8G     0.0739    0.07432     0.7704         18        736: 100%|██████████| 21/21 [00:04<00:00,  4.32it/s]\n"
     ]
    },
    {
     "name": "stdout",
     "output_type": "stream",
     "text": [
      "\n",
      "      Epoch    GPU_mem   box_loss   cls_loss   dfl_loss  Instances       Size\n"
     ]
    },
    {
     "name": "stderr",
     "output_type": "stream",
     "text": [
      "   893/1000      10.8G    0.07585    0.07617     0.7608         16        736: 100%|██████████| 21/21 [00:04<00:00,  4.28it/s]\n"
     ]
    },
    {
     "name": "stdout",
     "output_type": "stream",
     "text": [
      "\n",
      "      Epoch    GPU_mem   box_loss   cls_loss   dfl_loss  Instances       Size\n"
     ]
    },
    {
     "name": "stderr",
     "output_type": "stream",
     "text": [
      "   894/1000      10.8G    0.07581    0.07634     0.7694         15        736: 100%|██████████| 21/21 [00:04<00:00,  4.28it/s]\n"
     ]
    },
    {
     "name": "stdout",
     "output_type": "stream",
     "text": [
      "\n",
      "      Epoch    GPU_mem   box_loss   cls_loss   dfl_loss  Instances       Size\n"
     ]
    },
    {
     "name": "stderr",
     "output_type": "stream",
     "text": [
      "   895/1000      10.8G    0.07717    0.07771     0.7603         17        736: 100%|██████████| 21/21 [00:04<00:00,  4.29it/s]\n"
     ]
    },
    {
     "name": "stdout",
     "output_type": "stream",
     "text": [
      "\n",
      "      Epoch    GPU_mem   box_loss   cls_loss   dfl_loss  Instances       Size\n"
     ]
    },
    {
     "name": "stderr",
     "output_type": "stream",
     "text": [
      "   896/1000      10.8G    0.07637    0.07836     0.7595         19        736: 100%|██████████| 21/21 [00:04<00:00,  4.30it/s]\n"
     ]
    },
    {
     "name": "stdout",
     "output_type": "stream",
     "text": [
      "\n",
      "      Epoch    GPU_mem   box_loss   cls_loss   dfl_loss  Instances       Size\n"
     ]
    },
    {
     "name": "stderr",
     "output_type": "stream",
     "text": [
      "   897/1000      10.8G    0.07656    0.07609     0.7665         18        736: 100%|██████████| 21/21 [00:04<00:00,  4.28it/s]\n"
     ]
    },
    {
     "name": "stdout",
     "output_type": "stream",
     "text": [
      "\n",
      "      Epoch    GPU_mem   box_loss   cls_loss   dfl_loss  Instances       Size\n"
     ]
    },
    {
     "name": "stderr",
     "output_type": "stream",
     "text": [
      "   898/1000      10.8G    0.07759    0.07926     0.7631         22        736: 100%|██████████| 21/21 [00:04<00:00,  4.31it/s]\n"
     ]
    },
    {
     "name": "stdout",
     "output_type": "stream",
     "text": [
      "\n",
      "      Epoch    GPU_mem   box_loss   cls_loss   dfl_loss  Instances       Size\n"
     ]
    },
    {
     "name": "stderr",
     "output_type": "stream",
     "text": [
      "   899/1000      10.8G    0.07581    0.07811     0.7588         17        736: 100%|██████████| 21/21 [00:04<00:00,  4.28it/s]\n"
     ]
    },
    {
     "name": "stdout",
     "output_type": "stream",
     "text": [
      "\n",
      "      Epoch    GPU_mem   box_loss   cls_loss   dfl_loss  Instances       Size\n"
     ]
    },
    {
     "name": "stderr",
     "output_type": "stream",
     "text": [
      "   900/1000      10.8G     0.0753     0.0738     0.7721         11        736: 100%|██████████| 21/21 [00:04<00:00,  4.30it/s]\n"
     ]
    },
    {
     "name": "stdout",
     "output_type": "stream",
     "text": [
      "\n",
      "      Epoch    GPU_mem   box_loss   cls_loss   dfl_loss  Instances       Size\n"
     ]
    },
    {
     "name": "stderr",
     "output_type": "stream",
     "text": [
      "   901/1000      10.8G    0.07463    0.07353     0.7664         18        736: 100%|██████████| 21/21 [00:04<00:00,  4.30it/s]\n"
     ]
    },
    {
     "name": "stdout",
     "output_type": "stream",
     "text": [
      "\n",
      "      Epoch    GPU_mem   box_loss   cls_loss   dfl_loss  Instances       Size\n"
     ]
    },
    {
     "name": "stderr",
     "output_type": "stream",
     "text": [
      "   902/1000      10.8G    0.07663    0.07666     0.7611         21        736: 100%|██████████| 21/21 [00:04<00:00,  4.29it/s]\n"
     ]
    },
    {
     "name": "stdout",
     "output_type": "stream",
     "text": [
      "\n",
      "      Epoch    GPU_mem   box_loss   cls_loss   dfl_loss  Instances       Size\n"
     ]
    },
    {
     "name": "stderr",
     "output_type": "stream",
     "text": [
      "   903/1000      10.8G    0.07451    0.07655     0.7646         16        736: 100%|██████████| 21/21 [00:04<00:00,  4.30it/s]\n"
     ]
    },
    {
     "name": "stdout",
     "output_type": "stream",
     "text": [
      "\n",
      "      Epoch    GPU_mem   box_loss   cls_loss   dfl_loss  Instances       Size\n"
     ]
    },
    {
     "name": "stderr",
     "output_type": "stream",
     "text": [
      "   904/1000      10.8G    0.07633    0.07602     0.7644         16        736: 100%|██████████| 21/21 [00:04<00:00,  4.31it/s]\n"
     ]
    },
    {
     "name": "stdout",
     "output_type": "stream",
     "text": [
      "\n",
      "      Epoch    GPU_mem   box_loss   cls_loss   dfl_loss  Instances       Size\n"
     ]
    },
    {
     "name": "stderr",
     "output_type": "stream",
     "text": [
      "   905/1000      10.8G    0.07588    0.07476     0.7615         17        736: 100%|██████████| 21/21 [00:04<00:00,  4.28it/s]\n"
     ]
    },
    {
     "name": "stdout",
     "output_type": "stream",
     "text": [
      "\n",
      "      Epoch    GPU_mem   box_loss   cls_loss   dfl_loss  Instances       Size\n"
     ]
    },
    {
     "name": "stderr",
     "output_type": "stream",
     "text": [
      "   906/1000      10.8G    0.07554    0.07563     0.7576         17        736: 100%|██████████| 21/21 [00:04<00:00,  4.31it/s]\n"
     ]
    },
    {
     "name": "stdout",
     "output_type": "stream",
     "text": [
      "\n",
      "      Epoch    GPU_mem   box_loss   cls_loss   dfl_loss  Instances       Size\n"
     ]
    },
    {
     "name": "stderr",
     "output_type": "stream",
     "text": [
      "   907/1000      10.8G     0.0725    0.07292     0.7597         11        736: 100%|██████████| 21/21 [00:04<00:00,  4.30it/s]\n"
     ]
    },
    {
     "name": "stdout",
     "output_type": "stream",
     "text": [
      "\n",
      "      Epoch    GPU_mem   box_loss   cls_loss   dfl_loss  Instances       Size\n"
     ]
    },
    {
     "name": "stderr",
     "output_type": "stream",
     "text": [
      "   908/1000      10.8G    0.07474    0.07435     0.7582         11        736: 100%|██████████| 21/21 [00:04<00:00,  4.29it/s]\n"
     ]
    },
    {
     "name": "stdout",
     "output_type": "stream",
     "text": [
      "\n",
      "      Epoch    GPU_mem   box_loss   cls_loss   dfl_loss  Instances       Size\n"
     ]
    },
    {
     "name": "stderr",
     "output_type": "stream",
     "text": [
      "   909/1000      10.8G    0.07397    0.07417     0.7663         18        736: 100%|██████████| 21/21 [00:04<00:00,  4.30it/s]\n"
     ]
    },
    {
     "name": "stdout",
     "output_type": "stream",
     "text": [
      "\n",
      "      Epoch    GPU_mem   box_loss   cls_loss   dfl_loss  Instances       Size\n"
     ]
    },
    {
     "name": "stderr",
     "output_type": "stream",
     "text": [
      "   910/1000      10.8G    0.07705    0.07696     0.7535         17        736: 100%|██████████| 21/21 [00:04<00:00,  4.30it/s]\n"
     ]
    },
    {
     "name": "stdout",
     "output_type": "stream",
     "text": [
      "\n",
      "      Epoch    GPU_mem   box_loss   cls_loss   dfl_loss  Instances       Size\n"
     ]
    },
    {
     "name": "stderr",
     "output_type": "stream",
     "text": [
      "   911/1000      10.8G    0.07544    0.07516     0.7644         12        736: 100%|██████████| 21/21 [00:04<00:00,  4.29it/s]\n"
     ]
    },
    {
     "name": "stdout",
     "output_type": "stream",
     "text": [
      "\n",
      "      Epoch    GPU_mem   box_loss   cls_loss   dfl_loss  Instances       Size\n"
     ]
    },
    {
     "name": "stderr",
     "output_type": "stream",
     "text": [
      "   912/1000      10.8G    0.07646    0.07546     0.7616         15        736: 100%|██████████| 21/21 [00:04<00:00,  4.31it/s]\n"
     ]
    },
    {
     "name": "stdout",
     "output_type": "stream",
     "text": [
      "\n",
      "      Epoch    GPU_mem   box_loss   cls_loss   dfl_loss  Instances       Size\n"
     ]
    },
    {
     "name": "stderr",
     "output_type": "stream",
     "text": [
      "   913/1000      10.8G    0.07365     0.0735     0.7558         17        736: 100%|██████████| 21/21 [00:04<00:00,  4.28it/s]\n"
     ]
    },
    {
     "name": "stdout",
     "output_type": "stream",
     "text": [
      "\n",
      "      Epoch    GPU_mem   box_loss   cls_loss   dfl_loss  Instances       Size\n"
     ]
    },
    {
     "name": "stderr",
     "output_type": "stream",
     "text": [
      "   914/1000      10.8G    0.07482    0.07541     0.7679         25        736: 100%|██████████| 21/21 [00:04<00:00,  4.30it/s]\n"
     ]
    },
    {
     "name": "stdout",
     "output_type": "stream",
     "text": [
      "\n",
      "      Epoch    GPU_mem   box_loss   cls_loss   dfl_loss  Instances       Size\n"
     ]
    },
    {
     "name": "stderr",
     "output_type": "stream",
     "text": [
      "   915/1000      10.8G    0.07489    0.07356     0.7655         16        736: 100%|██████████| 21/21 [00:04<00:00,  4.29it/s]\n"
     ]
    },
    {
     "name": "stdout",
     "output_type": "stream",
     "text": [
      "\n",
      "      Epoch    GPU_mem   box_loss   cls_loss   dfl_loss  Instances       Size\n"
     ]
    },
    {
     "name": "stderr",
     "output_type": "stream",
     "text": [
      "   916/1000      10.7G    0.07485    0.07588     0.7589         12        736: 100%|██████████| 21/21 [00:04<00:00,  4.29it/s]\n"
     ]
    },
    {
     "name": "stdout",
     "output_type": "stream",
     "text": [
      "\n",
      "      Epoch    GPU_mem   box_loss   cls_loss   dfl_loss  Instances       Size\n"
     ]
    },
    {
     "name": "stderr",
     "output_type": "stream",
     "text": [
      "   917/1000      10.8G    0.07449    0.07298     0.7653         20        736: 100%|██████████| 21/21 [00:04<00:00,  4.30it/s]\n"
     ]
    },
    {
     "name": "stdout",
     "output_type": "stream",
     "text": [
      "\n",
      "      Epoch    GPU_mem   box_loss   cls_loss   dfl_loss  Instances       Size\n"
     ]
    },
    {
     "name": "stderr",
     "output_type": "stream",
     "text": [
      "   918/1000      10.8G    0.07463    0.07475     0.7622         16        736: 100%|██████████| 21/21 [00:04<00:00,  4.31it/s]\n"
     ]
    },
    {
     "name": "stdout",
     "output_type": "stream",
     "text": [
      "\n",
      "      Epoch    GPU_mem   box_loss   cls_loss   dfl_loss  Instances       Size\n"
     ]
    },
    {
     "name": "stderr",
     "output_type": "stream",
     "text": [
      "   919/1000      10.8G    0.07346    0.07334     0.7695         12        736: 100%|██████████| 21/21 [00:04<00:00,  4.29it/s]\n"
     ]
    },
    {
     "name": "stdout",
     "output_type": "stream",
     "text": [
      "\n",
      "      Epoch    GPU_mem   box_loss   cls_loss   dfl_loss  Instances       Size\n"
     ]
    },
    {
     "name": "stderr",
     "output_type": "stream",
     "text": [
      "   920/1000      10.8G    0.07316    0.07301     0.7628         14        736: 100%|██████████| 21/21 [00:04<00:00,  4.31it/s]\n"
     ]
    },
    {
     "name": "stdout",
     "output_type": "stream",
     "text": [
      "\n",
      "      Epoch    GPU_mem   box_loss   cls_loss   dfl_loss  Instances       Size\n"
     ]
    },
    {
     "name": "stderr",
     "output_type": "stream",
     "text": [
      "   921/1000      10.8G     0.0746      0.075     0.7626         14        736: 100%|██████████| 21/21 [00:04<00:00,  4.27it/s]\n"
     ]
    },
    {
     "name": "stdout",
     "output_type": "stream",
     "text": [
      "\n",
      "      Epoch    GPU_mem   box_loss   cls_loss   dfl_loss  Instances       Size\n"
     ]
    },
    {
     "name": "stderr",
     "output_type": "stream",
     "text": [
      "   922/1000      10.8G    0.07225     0.0727      0.758         19        736: 100%|██████████| 21/21 [00:04<00:00,  4.32it/s]\n"
     ]
    },
    {
     "name": "stdout",
     "output_type": "stream",
     "text": [
      "\n",
      "      Epoch    GPU_mem   box_loss   cls_loss   dfl_loss  Instances       Size\n"
     ]
    },
    {
     "name": "stderr",
     "output_type": "stream",
     "text": [
      "   923/1000      10.8G    0.07338    0.07455      0.765         17        736: 100%|██████████| 21/21 [00:04<00:00,  4.29it/s]\n"
     ]
    },
    {
     "name": "stdout",
     "output_type": "stream",
     "text": [
      "\n",
      "      Epoch    GPU_mem   box_loss   cls_loss   dfl_loss  Instances       Size\n"
     ]
    },
    {
     "name": "stderr",
     "output_type": "stream",
     "text": [
      "   924/1000      10.8G     0.0745      0.073       0.77         15        736: 100%|██████████| 21/21 [00:04<00:00,  4.29it/s]\n"
     ]
    },
    {
     "name": "stdout",
     "output_type": "stream",
     "text": [
      "\n",
      "      Epoch    GPU_mem   box_loss   cls_loss   dfl_loss  Instances       Size\n"
     ]
    },
    {
     "name": "stderr",
     "output_type": "stream",
     "text": [
      "   925/1000      10.8G    0.07248     0.0723      0.765         15        736: 100%|██████████| 21/21 [00:04<00:00,  4.29it/s]\n"
     ]
    },
    {
     "name": "stdout",
     "output_type": "stream",
     "text": [
      "\n",
      "      Epoch    GPU_mem   box_loss   cls_loss   dfl_loss  Instances       Size\n"
     ]
    },
    {
     "name": "stderr",
     "output_type": "stream",
     "text": [
      "   926/1000      10.8G     0.0727     0.0717      0.765         13        736: 100%|██████████| 21/21 [00:04<00:00,  4.29it/s]\n"
     ]
    },
    {
     "name": "stdout",
     "output_type": "stream",
     "text": [
      "\n",
      "      Epoch    GPU_mem   box_loss   cls_loss   dfl_loss  Instances       Size\n"
     ]
    },
    {
     "name": "stderr",
     "output_type": "stream",
     "text": [
      "   927/1000      10.8G    0.07288    0.07447     0.7631         12        736: 100%|██████████| 21/21 [00:04<00:00,  4.29it/s]\n"
     ]
    },
    {
     "name": "stdout",
     "output_type": "stream",
     "text": [
      "\n",
      "      Epoch    GPU_mem   box_loss   cls_loss   dfl_loss  Instances       Size\n"
     ]
    },
    {
     "name": "stderr",
     "output_type": "stream",
     "text": [
      "   928/1000      10.8G    0.07293    0.07253     0.7636         14        736: 100%|██████████| 21/21 [00:04<00:00,  4.32it/s]\n"
     ]
    },
    {
     "name": "stdout",
     "output_type": "stream",
     "text": [
      "\n",
      "      Epoch    GPU_mem   box_loss   cls_loss   dfl_loss  Instances       Size\n"
     ]
    },
    {
     "name": "stderr",
     "output_type": "stream",
     "text": [
      "   929/1000      10.8G    0.07271    0.07122     0.7688         18        736: 100%|██████████| 21/21 [00:04<00:00,  4.29it/s]\n"
     ]
    },
    {
     "name": "stdout",
     "output_type": "stream",
     "text": [
      "\n",
      "      Epoch    GPU_mem   box_loss   cls_loss   dfl_loss  Instances       Size\n"
     ]
    },
    {
     "name": "stderr",
     "output_type": "stream",
     "text": [
      "   930/1000      10.8G     0.0708    0.06986     0.7686         17        736: 100%|██████████| 21/21 [00:04<00:00,  4.29it/s]\n"
     ]
    },
    {
     "name": "stdout",
     "output_type": "stream",
     "text": [
      "\n",
      "      Epoch    GPU_mem   box_loss   cls_loss   dfl_loss  Instances       Size\n"
     ]
    },
    {
     "name": "stderr",
     "output_type": "stream",
     "text": [
      "   931/1000      10.8G    0.07136    0.07291     0.7592         16        736: 100%|██████████| 21/21 [00:04<00:00,  4.30it/s]\n"
     ]
    },
    {
     "name": "stdout",
     "output_type": "stream",
     "text": [
      "\n",
      "      Epoch    GPU_mem   box_loss   cls_loss   dfl_loss  Instances       Size\n"
     ]
    },
    {
     "name": "stderr",
     "output_type": "stream",
     "text": [
      "   932/1000      10.8G    0.07031    0.07233     0.7636         18        736: 100%|██████████| 21/21 [00:04<00:00,  4.29it/s]\n"
     ]
    },
    {
     "name": "stdout",
     "output_type": "stream",
     "text": [
      "\n",
      "      Epoch    GPU_mem   box_loss   cls_loss   dfl_loss  Instances       Size\n"
     ]
    },
    {
     "name": "stderr",
     "output_type": "stream",
     "text": [
      "   933/1000      10.8G    0.07165    0.07195     0.7606         17        736: 100%|██████████| 21/21 [00:04<00:00,  4.28it/s]\n"
     ]
    },
    {
     "name": "stdout",
     "output_type": "stream",
     "text": [
      "\n",
      "      Epoch    GPU_mem   box_loss   cls_loss   dfl_loss  Instances       Size\n"
     ]
    },
    {
     "name": "stderr",
     "output_type": "stream",
     "text": [
      "   934/1000      10.8G    0.07138    0.07259     0.7633         10        736: 100%|██████████| 21/21 [00:04<00:00,  4.31it/s]\n"
     ]
    },
    {
     "name": "stdout",
     "output_type": "stream",
     "text": [
      "\n",
      "      Epoch    GPU_mem   box_loss   cls_loss   dfl_loss  Instances       Size\n"
     ]
    },
    {
     "name": "stderr",
     "output_type": "stream",
     "text": [
      "   935/1000      10.8G    0.07224    0.07312     0.7609         15        736: 100%|██████████| 21/21 [00:04<00:00,  4.28it/s]\n"
     ]
    },
    {
     "name": "stdout",
     "output_type": "stream",
     "text": [
      "\n",
      "      Epoch    GPU_mem   box_loss   cls_loss   dfl_loss  Instances       Size\n"
     ]
    },
    {
     "name": "stderr",
     "output_type": "stream",
     "text": [
      "   936/1000      10.8G    0.07137    0.07179     0.7673         15        736: 100%|██████████| 21/21 [00:04<00:00,  4.31it/s]\n"
     ]
    },
    {
     "name": "stdout",
     "output_type": "stream",
     "text": [
      "\n",
      "      Epoch    GPU_mem   box_loss   cls_loss   dfl_loss  Instances       Size\n"
     ]
    },
    {
     "name": "stderr",
     "output_type": "stream",
     "text": [
      "   937/1000      10.8G    0.07087    0.07072     0.7687         19        736: 100%|██████████| 21/21 [00:04<00:00,  4.29it/s]\n"
     ]
    },
    {
     "name": "stdout",
     "output_type": "stream",
     "text": [
      "\n",
      "      Epoch    GPU_mem   box_loss   cls_loss   dfl_loss  Instances       Size\n"
     ]
    },
    {
     "name": "stderr",
     "output_type": "stream",
     "text": [
      "   938/1000      10.8G    0.07283    0.07286     0.7594         14        736: 100%|██████████| 21/21 [00:04<00:00,  4.30it/s]\n"
     ]
    },
    {
     "name": "stdout",
     "output_type": "stream",
     "text": [
      "\n",
      "      Epoch    GPU_mem   box_loss   cls_loss   dfl_loss  Instances       Size\n"
     ]
    },
    {
     "name": "stderr",
     "output_type": "stream",
     "text": [
      "   939/1000      10.8G    0.07055    0.07102     0.7607         13        736: 100%|██████████| 21/21 [00:04<00:00,  4.30it/s]\n"
     ]
    },
    {
     "name": "stdout",
     "output_type": "stream",
     "text": [
      "\n",
      "      Epoch    GPU_mem   box_loss   cls_loss   dfl_loss  Instances       Size\n"
     ]
    },
    {
     "name": "stderr",
     "output_type": "stream",
     "text": [
      "   940/1000      10.8G    0.07027    0.07159     0.7619         15        736: 100%|██████████| 21/21 [00:04<00:00,  4.31it/s]\n"
     ]
    },
    {
     "name": "stdout",
     "output_type": "stream",
     "text": [
      "\n",
      "      Epoch    GPU_mem   box_loss   cls_loss   dfl_loss  Instances       Size\n"
     ]
    },
    {
     "name": "stderr",
     "output_type": "stream",
     "text": [
      "   941/1000      10.8G    0.07139     0.0709     0.7675         15        736: 100%|██████████| 21/21 [00:04<00:00,  4.29it/s]\n"
     ]
    },
    {
     "name": "stdout",
     "output_type": "stream",
     "text": [
      "\n",
      "      Epoch    GPU_mem   box_loss   cls_loss   dfl_loss  Instances       Size\n"
     ]
    },
    {
     "name": "stderr",
     "output_type": "stream",
     "text": [
      "   942/1000      10.8G    0.07123    0.07152     0.7658         16        736: 100%|██████████| 21/21 [00:04<00:00,  4.30it/s]\n"
     ]
    },
    {
     "name": "stdout",
     "output_type": "stream",
     "text": [
      "\n",
      "      Epoch    GPU_mem   box_loss   cls_loss   dfl_loss  Instances       Size\n"
     ]
    },
    {
     "name": "stderr",
     "output_type": "stream",
     "text": [
      "   943/1000      10.8G    0.07217    0.07047     0.7658         19        736: 100%|██████████| 21/21 [00:04<00:00,  4.27it/s]\n"
     ]
    },
    {
     "name": "stdout",
     "output_type": "stream",
     "text": [
      "\n",
      "      Epoch    GPU_mem   box_loss   cls_loss   dfl_loss  Instances       Size\n"
     ]
    },
    {
     "name": "stderr",
     "output_type": "stream",
     "text": [
      "   944/1000      10.8G    0.07215    0.07079     0.7638         22        736: 100%|██████████| 21/21 [00:04<00:00,  4.29it/s]\n"
     ]
    },
    {
     "name": "stdout",
     "output_type": "stream",
     "text": [
      "\n",
      "      Epoch    GPU_mem   box_loss   cls_loss   dfl_loss  Instances       Size\n"
     ]
    },
    {
     "name": "stderr",
     "output_type": "stream",
     "text": [
      "   945/1000      10.8G    0.07121    0.07213     0.7617         17        736: 100%|██████████| 21/21 [00:04<00:00,  4.29it/s]\n"
     ]
    },
    {
     "name": "stdout",
     "output_type": "stream",
     "text": [
      "\n",
      "      Epoch    GPU_mem   box_loss   cls_loss   dfl_loss  Instances       Size\n"
     ]
    },
    {
     "name": "stderr",
     "output_type": "stream",
     "text": [
      "   946/1000      10.7G    0.07142    0.07219     0.7578         13        736: 100%|██████████| 21/21 [00:04<00:00,  4.27it/s]\n"
     ]
    },
    {
     "name": "stdout",
     "output_type": "stream",
     "text": [
      "\n",
      "      Epoch    GPU_mem   box_loss   cls_loss   dfl_loss  Instances       Size\n"
     ]
    },
    {
     "name": "stderr",
     "output_type": "stream",
     "text": [
      "   947/1000      10.8G    0.07014    0.07107     0.7655         13        736: 100%|██████████| 21/21 [00:04<00:00,  4.30it/s]\n"
     ]
    },
    {
     "name": "stdout",
     "output_type": "stream",
     "text": [
      "\n",
      "      Epoch    GPU_mem   box_loss   cls_loss   dfl_loss  Instances       Size\n"
     ]
    },
    {
     "name": "stderr",
     "output_type": "stream",
     "text": [
      "   948/1000      10.8G    0.07018    0.07084     0.7639         18        736: 100%|██████████| 21/21 [00:04<00:00,  4.31it/s]\n"
     ]
    },
    {
     "name": "stdout",
     "output_type": "stream",
     "text": [
      "\n",
      "      Epoch    GPU_mem   box_loss   cls_loss   dfl_loss  Instances       Size\n"
     ]
    },
    {
     "name": "stderr",
     "output_type": "stream",
     "text": [
      "   949/1000      10.8G    0.07153    0.07108     0.7604         22        736: 100%|██████████| 21/21 [00:04<00:00,  4.28it/s]\n"
     ]
    },
    {
     "name": "stdout",
     "output_type": "stream",
     "text": [
      "\n",
      "      Epoch    GPU_mem   box_loss   cls_loss   dfl_loss  Instances       Size\n"
     ]
    },
    {
     "name": "stderr",
     "output_type": "stream",
     "text": [
      "   950/1000      10.8G    0.07276    0.07247     0.7615         11        736: 100%|██████████| 21/21 [00:04<00:00,  4.31it/s]\n"
     ]
    },
    {
     "name": "stdout",
     "output_type": "stream",
     "text": [
      "\n",
      "      Epoch    GPU_mem   box_loss   cls_loss   dfl_loss  Instances       Size\n"
     ]
    },
    {
     "name": "stderr",
     "output_type": "stream",
     "text": [
      "   951/1000      10.8G    0.07015    0.06872     0.7685         19        736: 100%|██████████| 21/21 [00:04<00:00,  4.29it/s]\n"
     ]
    },
    {
     "name": "stdout",
     "output_type": "stream",
     "text": [
      "\n",
      "      Epoch    GPU_mem   box_loss   cls_loss   dfl_loss  Instances       Size\n"
     ]
    },
    {
     "name": "stderr",
     "output_type": "stream",
     "text": [
      "   952/1000      10.8G    0.06925    0.07165     0.7609         19        736: 100%|██████████| 21/21 [00:04<00:00,  4.31it/s]\n"
     ]
    },
    {
     "name": "stdout",
     "output_type": "stream",
     "text": [
      "\n",
      "      Epoch    GPU_mem   box_loss   cls_loss   dfl_loss  Instances       Size\n"
     ]
    },
    {
     "name": "stderr",
     "output_type": "stream",
     "text": [
      "   953/1000      10.8G    0.07064    0.07114     0.7643         16        736: 100%|██████████| 21/21 [00:04<00:00,  4.30it/s]\n"
     ]
    },
    {
     "name": "stdout",
     "output_type": "stream",
     "text": [
      "\n",
      "      Epoch    GPU_mem   box_loss   cls_loss   dfl_loss  Instances       Size\n"
     ]
    },
    {
     "name": "stderr",
     "output_type": "stream",
     "text": [
      "   954/1000      10.8G    0.07077    0.06974     0.7617         16        736: 100%|██████████| 21/21 [00:04<00:00,  4.30it/s]\n"
     ]
    },
    {
     "name": "stdout",
     "output_type": "stream",
     "text": [
      "\n",
      "      Epoch    GPU_mem   box_loss   cls_loss   dfl_loss  Instances       Size\n"
     ]
    },
    {
     "name": "stderr",
     "output_type": "stream",
     "text": [
      "   955/1000      10.8G    0.07047    0.06996     0.7645         21        736: 100%|██████████| 21/21 [00:04<00:00,  4.31it/s]\n"
     ]
    },
    {
     "name": "stdout",
     "output_type": "stream",
     "text": [
      "\n",
      "      Epoch    GPU_mem   box_loss   cls_loss   dfl_loss  Instances       Size\n"
     ]
    },
    {
     "name": "stderr",
     "output_type": "stream",
     "text": [
      "   956/1000      10.7G    0.06839    0.06792     0.7645         14        736: 100%|██████████| 21/21 [00:04<00:00,  4.31it/s]\n"
     ]
    },
    {
     "name": "stdout",
     "output_type": "stream",
     "text": [
      "\n",
      "      Epoch    GPU_mem   box_loss   cls_loss   dfl_loss  Instances       Size\n"
     ]
    },
    {
     "name": "stderr",
     "output_type": "stream",
     "text": [
      "   957/1000      10.8G    0.06935    0.07115     0.7624         13        736: 100%|██████████| 21/21 [00:04<00:00,  4.29it/s]\n"
     ]
    },
    {
     "name": "stdout",
     "output_type": "stream",
     "text": [
      "\n",
      "      Epoch    GPU_mem   box_loss   cls_loss   dfl_loss  Instances       Size\n"
     ]
    },
    {
     "name": "stderr",
     "output_type": "stream",
     "text": [
      "   958/1000      10.8G    0.06803    0.06875     0.7665         21        736: 100%|██████████| 21/21 [00:04<00:00,  4.30it/s]\n"
     ]
    },
    {
     "name": "stdout",
     "output_type": "stream",
     "text": [
      "\n",
      "      Epoch    GPU_mem   box_loss   cls_loss   dfl_loss  Instances       Size\n"
     ]
    },
    {
     "name": "stderr",
     "output_type": "stream",
     "text": [
      "   959/1000      10.8G    0.06979    0.06935     0.7665         10        736: 100%|██████████| 21/21 [00:04<00:00,  4.30it/s]\n"
     ]
    },
    {
     "name": "stdout",
     "output_type": "stream",
     "text": [
      "\n",
      "      Epoch    GPU_mem   box_loss   cls_loss   dfl_loss  Instances       Size\n"
     ]
    },
    {
     "name": "stderr",
     "output_type": "stream",
     "text": [
      "   960/1000      10.8G     0.0706    0.07008     0.7634         17        736: 100%|██████████| 21/21 [00:04<00:00,  4.29it/s]\n"
     ]
    },
    {
     "name": "stdout",
     "output_type": "stream",
     "text": [
      "\n",
      "      Epoch    GPU_mem   box_loss   cls_loss   dfl_loss  Instances       Size\n"
     ]
    },
    {
     "name": "stderr",
     "output_type": "stream",
     "text": [
      "   961/1000      10.8G    0.07062    0.06967     0.7631         15        736: 100%|██████████| 21/21 [00:04<00:00,  4.29it/s]\n"
     ]
    },
    {
     "name": "stdout",
     "output_type": "stream",
     "text": [
      "\n",
      "      Epoch    GPU_mem   box_loss   cls_loss   dfl_loss  Instances       Size\n"
     ]
    },
    {
     "name": "stderr",
     "output_type": "stream",
     "text": [
      "   962/1000      10.8G    0.06972    0.07096     0.7647         19        736: 100%|██████████| 21/21 [00:04<00:00,  4.28it/s]\n"
     ]
    },
    {
     "name": "stdout",
     "output_type": "stream",
     "text": [
      "\n",
      "      Epoch    GPU_mem   box_loss   cls_loss   dfl_loss  Instances       Size\n"
     ]
    },
    {
     "name": "stderr",
     "output_type": "stream",
     "text": [
      "   963/1000      10.8G    0.06916    0.06979     0.7567         16        736: 100%|██████████| 21/21 [00:04<00:00,  4.29it/s]\n"
     ]
    },
    {
     "name": "stdout",
     "output_type": "stream",
     "text": [
      "\n",
      "      Epoch    GPU_mem   box_loss   cls_loss   dfl_loss  Instances       Size\n"
     ]
    },
    {
     "name": "stderr",
     "output_type": "stream",
     "text": [
      "   964/1000      10.7G    0.06918    0.06962     0.7588         16        736: 100%|██████████| 21/21 [00:04<00:00,  4.31it/s]\n"
     ]
    },
    {
     "name": "stdout",
     "output_type": "stream",
     "text": [
      "\n",
      "      Epoch    GPU_mem   box_loss   cls_loss   dfl_loss  Instances       Size\n"
     ]
    },
    {
     "name": "stderr",
     "output_type": "stream",
     "text": [
      "   965/1000      10.8G    0.06942    0.06985     0.7604         14        736: 100%|██████████| 21/21 [00:04<00:00,  4.28it/s]\n"
     ]
    },
    {
     "name": "stdout",
     "output_type": "stream",
     "text": [
      "\n",
      "      Epoch    GPU_mem   box_loss   cls_loss   dfl_loss  Instances       Size\n"
     ]
    },
    {
     "name": "stderr",
     "output_type": "stream",
     "text": [
      "   966/1000      10.8G    0.06861    0.07047     0.7567         15        736: 100%|██████████| 21/21 [00:04<00:00,  4.29it/s]\n"
     ]
    },
    {
     "name": "stdout",
     "output_type": "stream",
     "text": [
      "\n",
      "      Epoch    GPU_mem   box_loss   cls_loss   dfl_loss  Instances       Size\n"
     ]
    },
    {
     "name": "stderr",
     "output_type": "stream",
     "text": [
      "   967/1000      10.8G    0.06986    0.06977     0.7596         13        736: 100%|██████████| 21/21 [00:04<00:00,  4.29it/s]\n"
     ]
    },
    {
     "name": "stdout",
     "output_type": "stream",
     "text": [
      "\n",
      "      Epoch    GPU_mem   box_loss   cls_loss   dfl_loss  Instances       Size\n"
     ]
    },
    {
     "name": "stderr",
     "output_type": "stream",
     "text": [
      "   968/1000      10.8G    0.06829    0.06868     0.7573         12        736: 100%|██████████| 21/21 [00:04<00:00,  4.29it/s]\n"
     ]
    },
    {
     "name": "stdout",
     "output_type": "stream",
     "text": [
      "\n",
      "      Epoch    GPU_mem   box_loss   cls_loss   dfl_loss  Instances       Size\n"
     ]
    },
    {
     "name": "stderr",
     "output_type": "stream",
     "text": [
      "   969/1000      10.8G    0.07019    0.07059     0.7643         21        736: 100%|██████████| 21/21 [00:04<00:00,  4.31it/s]\n"
     ]
    },
    {
     "name": "stdout",
     "output_type": "stream",
     "text": [
      "\n",
      "      Epoch    GPU_mem   box_loss   cls_loss   dfl_loss  Instances       Size\n"
     ]
    },
    {
     "name": "stderr",
     "output_type": "stream",
     "text": [
      "   970/1000      10.8G    0.06676    0.06745     0.7657         20        736: 100%|██████████| 21/21 [00:04<00:00,  4.30it/s]\n"
     ]
    },
    {
     "name": "stdout",
     "output_type": "stream",
     "text": [
      "\n",
      "      Epoch    GPU_mem   box_loss   cls_loss   dfl_loss  Instances       Size\n"
     ]
    },
    {
     "name": "stderr",
     "output_type": "stream",
     "text": [
      "   971/1000      10.8G    0.06757    0.07036     0.7644         21        736: 100%|██████████| 21/21 [00:04<00:00,  4.29it/s]\n"
     ]
    },
    {
     "name": "stdout",
     "output_type": "stream",
     "text": [
      "\n",
      "      Epoch    GPU_mem   box_loss   cls_loss   dfl_loss  Instances       Size\n"
     ]
    },
    {
     "name": "stderr",
     "output_type": "stream",
     "text": [
      "   972/1000      10.8G    0.06719    0.06873     0.7642         13        736: 100%|██████████| 21/21 [00:04<00:00,  4.31it/s]\n"
     ]
    },
    {
     "name": "stdout",
     "output_type": "stream",
     "text": [
      "\n",
      "      Epoch    GPU_mem   box_loss   cls_loss   dfl_loss  Instances       Size\n"
     ]
    },
    {
     "name": "stderr",
     "output_type": "stream",
     "text": [
      "   973/1000      10.8G    0.06799    0.06929     0.7629         12        736: 100%|██████████| 21/21 [00:04<00:00,  4.27it/s]\n"
     ]
    },
    {
     "name": "stdout",
     "output_type": "stream",
     "text": [
      "\n",
      "      Epoch    GPU_mem   box_loss   cls_loss   dfl_loss  Instances       Size\n"
     ]
    },
    {
     "name": "stderr",
     "output_type": "stream",
     "text": [
      "   974/1000      10.8G    0.06817    0.06965     0.7627         15        736: 100%|██████████| 21/21 [00:04<00:00,  4.30it/s]\n"
     ]
    },
    {
     "name": "stdout",
     "output_type": "stream",
     "text": [
      "\n",
      "      Epoch    GPU_mem   box_loss   cls_loss   dfl_loss  Instances       Size\n"
     ]
    },
    {
     "name": "stderr",
     "output_type": "stream",
     "text": [
      "   975/1000      10.8G     0.0689    0.07006     0.7699         14        736: 100%|██████████| 21/21 [00:04<00:00,  4.29it/s]\n"
     ]
    },
    {
     "name": "stdout",
     "output_type": "stream",
     "text": [
      "\n",
      "      Epoch    GPU_mem   box_loss   cls_loss   dfl_loss  Instances       Size\n"
     ]
    },
    {
     "name": "stderr",
     "output_type": "stream",
     "text": [
      "   976/1000      10.8G    0.06728    0.06989     0.7592         24        736: 100%|██████████| 21/21 [00:04<00:00,  4.28it/s]\n"
     ]
    },
    {
     "name": "stdout",
     "output_type": "stream",
     "text": [
      "\n",
      "      Epoch    GPU_mem   box_loss   cls_loss   dfl_loss  Instances       Size\n"
     ]
    },
    {
     "name": "stderr",
     "output_type": "stream",
     "text": [
      "   977/1000      10.8G    0.06753    0.06793     0.7588         13        736: 100%|██████████| 21/21 [00:04<00:00,  4.29it/s]\n"
     ]
    },
    {
     "name": "stdout",
     "output_type": "stream",
     "text": [
      "\n",
      "      Epoch    GPU_mem   box_loss   cls_loss   dfl_loss  Instances       Size\n"
     ]
    },
    {
     "name": "stderr",
     "output_type": "stream",
     "text": [
      "   978/1000      10.8G    0.06663     0.0681     0.7658         13        736: 100%|██████████| 21/21 [00:04<00:00,  4.31it/s]\n"
     ]
    },
    {
     "name": "stdout",
     "output_type": "stream",
     "text": [
      "\n",
      "      Epoch    GPU_mem   box_loss   cls_loss   dfl_loss  Instances       Size\n"
     ]
    },
    {
     "name": "stderr",
     "output_type": "stream",
     "text": [
      "   979/1000      10.8G    0.06767    0.06887      0.766         16        736: 100%|██████████| 21/21 [00:04<00:00,  4.27it/s]\n"
     ]
    },
    {
     "name": "stdout",
     "output_type": "stream",
     "text": [
      "\n",
      "      Epoch    GPU_mem   box_loss   cls_loss   dfl_loss  Instances       Size\n"
     ]
    },
    {
     "name": "stderr",
     "output_type": "stream",
     "text": [
      "   980/1000      10.8G    0.06696    0.06825     0.7661         12        736: 100%|██████████| 21/21 [00:04<00:00,  4.30it/s]\n"
     ]
    },
    {
     "name": "stdout",
     "output_type": "stream",
     "text": [
      "\n",
      "      Epoch    GPU_mem   box_loss   cls_loss   dfl_loss  Instances       Size\n"
     ]
    },
    {
     "name": "stderr",
     "output_type": "stream",
     "text": [
      "   981/1000      10.8G    0.06754    0.07002     0.7671         18        736: 100%|██████████| 21/21 [00:04<00:00,  4.29it/s]\n"
     ]
    },
    {
     "name": "stdout",
     "output_type": "stream",
     "text": [
      "\n",
      "      Epoch    GPU_mem   box_loss   cls_loss   dfl_loss  Instances       Size\n"
     ]
    },
    {
     "name": "stderr",
     "output_type": "stream",
     "text": [
      "   982/1000      10.8G    0.06716    0.06965     0.7633         20        736: 100%|██████████| 21/21 [00:04<00:00,  4.28it/s]\n"
     ]
    },
    {
     "name": "stdout",
     "output_type": "stream",
     "text": [
      "\n",
      "      Epoch    GPU_mem   box_loss   cls_loss   dfl_loss  Instances       Size\n"
     ]
    },
    {
     "name": "stderr",
     "output_type": "stream",
     "text": [
      "   983/1000      10.8G    0.06757    0.06942     0.7619         13        736: 100%|██████████| 21/21 [00:04<00:00,  4.29it/s]\n"
     ]
    },
    {
     "name": "stdout",
     "output_type": "stream",
     "text": [
      "\n",
      "      Epoch    GPU_mem   box_loss   cls_loss   dfl_loss  Instances       Size\n"
     ]
    },
    {
     "name": "stderr",
     "output_type": "stream",
     "text": [
      "   984/1000      10.8G    0.06597    0.06761     0.7639         17        736: 100%|██████████| 21/21 [00:04<00:00,  4.29it/s]\n"
     ]
    },
    {
     "name": "stdout",
     "output_type": "stream",
     "text": [
      "\n",
      "      Epoch    GPU_mem   box_loss   cls_loss   dfl_loss  Instances       Size\n"
     ]
    },
    {
     "name": "stderr",
     "output_type": "stream",
     "text": [
      "   985/1000      10.8G    0.06762    0.06878     0.7616         14        736: 100%|██████████| 21/21 [00:04<00:00,  4.30it/s]\n"
     ]
    },
    {
     "name": "stdout",
     "output_type": "stream",
     "text": [
      "\n",
      "      Epoch    GPU_mem   box_loss   cls_loss   dfl_loss  Instances       Size\n"
     ]
    },
    {
     "name": "stderr",
     "output_type": "stream",
     "text": [
      "   986/1000      10.8G    0.06582    0.06654     0.7647         13        736: 100%|██████████| 21/21 [00:04<00:00,  4.31it/s]\n"
     ]
    },
    {
     "name": "stdout",
     "output_type": "stream",
     "text": [
      "\n",
      "      Epoch    GPU_mem   box_loss   cls_loss   dfl_loss  Instances       Size\n"
     ]
    },
    {
     "name": "stderr",
     "output_type": "stream",
     "text": [
      "   987/1000      10.8G    0.06627    0.06748     0.7617         17        736: 100%|██████████| 21/21 [00:04<00:00,  4.29it/s]\n"
     ]
    },
    {
     "name": "stdout",
     "output_type": "stream",
     "text": [
      "\n",
      "      Epoch    GPU_mem   box_loss   cls_loss   dfl_loss  Instances       Size\n"
     ]
    },
    {
     "name": "stderr",
     "output_type": "stream",
     "text": [
      "   988/1000      10.8G    0.06718    0.06828     0.7625         14        736: 100%|██████████| 21/21 [00:04<00:00,  4.31it/s]\n"
     ]
    },
    {
     "name": "stdout",
     "output_type": "stream",
     "text": [
      "\n",
      "      Epoch    GPU_mem   box_loss   cls_loss   dfl_loss  Instances       Size\n"
     ]
    },
    {
     "name": "stderr",
     "output_type": "stream",
     "text": [
      "   989/1000      10.8G    0.06537    0.06632     0.7627         18        736: 100%|██████████| 21/21 [00:04<00:00,  4.30it/s]\n"
     ]
    },
    {
     "name": "stdout",
     "output_type": "stream",
     "text": [
      "\n",
      "      Epoch    GPU_mem   box_loss   cls_loss   dfl_loss  Instances       Size\n"
     ]
    },
    {
     "name": "stderr",
     "output_type": "stream",
     "text": [
      "   990/1000      10.8G    0.06555    0.06795      0.759         22        736: 100%|██████████| 21/21 [00:04<00:00,  4.28it/s]\n"
     ]
    },
    {
     "name": "stdout",
     "output_type": "stream",
     "text": [
      "Closing dataloader mosaic\n",
      "\n",
      "      Epoch    GPU_mem   box_loss   cls_loss   dfl_loss  Instances       Size\n"
     ]
    },
    {
     "name": "stderr",
     "output_type": "stream",
     "text": [
      "   991/1000      10.8G    0.06784    0.06778     0.7595         20        736: 100%|██████████| 21/21 [00:07<00:00,  2.82it/s]\n"
     ]
    },
    {
     "name": "stdout",
     "output_type": "stream",
     "text": [
      "\n",
      "      Epoch    GPU_mem   box_loss   cls_loss   dfl_loss  Instances       Size\n"
     ]
    },
    {
     "name": "stderr",
     "output_type": "stream",
     "text": [
      "   992/1000      10.8G    0.06677    0.06811     0.7643         17        736: 100%|██████████| 21/21 [00:04<00:00,  4.26it/s]\n"
     ]
    },
    {
     "name": "stdout",
     "output_type": "stream",
     "text": [
      "\n",
      "      Epoch    GPU_mem   box_loss   cls_loss   dfl_loss  Instances       Size\n"
     ]
    },
    {
     "name": "stderr",
     "output_type": "stream",
     "text": [
      "   993/1000      10.8G    0.06576    0.06794     0.7694         19        736: 100%|██████████| 21/21 [00:04<00:00,  4.28it/s]\n"
     ]
    },
    {
     "name": "stdout",
     "output_type": "stream",
     "text": [
      "\n",
      "      Epoch    GPU_mem   box_loss   cls_loss   dfl_loss  Instances       Size\n"
     ]
    },
    {
     "name": "stderr",
     "output_type": "stream",
     "text": [
      "   994/1000      10.8G    0.06544    0.06672     0.7632         15        736: 100%|██████████| 21/21 [00:04<00:00,  4.28it/s]\n"
     ]
    },
    {
     "name": "stdout",
     "output_type": "stream",
     "text": [
      "\n",
      "      Epoch    GPU_mem   box_loss   cls_loss   dfl_loss  Instances       Size\n"
     ]
    },
    {
     "name": "stderr",
     "output_type": "stream",
     "text": [
      "   995/1000      10.8G    0.06622    0.06836     0.7647         18        736: 100%|██████████| 21/21 [00:04<00:00,  4.29it/s]\n"
     ]
    },
    {
     "name": "stdout",
     "output_type": "stream",
     "text": [
      "\n",
      "      Epoch    GPU_mem   box_loss   cls_loss   dfl_loss  Instances       Size\n"
     ]
    },
    {
     "name": "stderr",
     "output_type": "stream",
     "text": [
      "   996/1000      10.8G    0.06529    0.06574     0.7669         14        736: 100%|██████████| 21/21 [00:04<00:00,  4.30it/s]\n"
     ]
    },
    {
     "name": "stdout",
     "output_type": "stream",
     "text": [
      "\n",
      "      Epoch    GPU_mem   box_loss   cls_loss   dfl_loss  Instances       Size\n"
     ]
    },
    {
     "name": "stderr",
     "output_type": "stream",
     "text": [
      "   997/1000      10.8G    0.06649    0.07059     0.7592         20        736: 100%|██████████| 21/21 [00:04<00:00,  4.29it/s]\n"
     ]
    },
    {
     "name": "stdout",
     "output_type": "stream",
     "text": [
      "\n",
      "      Epoch    GPU_mem   box_loss   cls_loss   dfl_loss  Instances       Size\n"
     ]
    },
    {
     "name": "stderr",
     "output_type": "stream",
     "text": [
      "   998/1000      10.8G    0.06571    0.06617     0.7693         16        736: 100%|██████████| 21/21 [00:04<00:00,  4.30it/s]\n"
     ]
    },
    {
     "name": "stdout",
     "output_type": "stream",
     "text": [
      "\n",
      "      Epoch    GPU_mem   box_loss   cls_loss   dfl_loss  Instances       Size\n"
     ]
    },
    {
     "name": "stderr",
     "output_type": "stream",
     "text": [
      "   999/1000      10.8G    0.06424    0.06521      0.772         14        736: 100%|██████████| 21/21 [00:04<00:00,  4.28it/s]\n"
     ]
    },
    {
     "name": "stdout",
     "output_type": "stream",
     "text": [
      "\n",
      "      Epoch    GPU_mem   box_loss   cls_loss   dfl_loss  Instances       Size\n"
     ]
    },
    {
     "name": "stderr",
     "output_type": "stream",
     "text": [
      "  1000/1000      10.8G    0.06494    0.06747     0.7661         17        736: 100%|██████████| 21/21 [00:04<00:00,  4.30it/s]\n",
      "                 Class     Images  Instances      Box(P          R      mAP50  mAP50-95): 100%|██████████| 11/11 [00:07<00:00,  1.40it/s]\n",
      "D:\\code\\env\\anaconda\\envs\\mhy-yolo\\Lib\\site-packages\\ultralytics\\utils\\metrics.py:470: UserWarning: Glyph 24863 (\\N{CJK UNIFIED IDEOGRAPH-611F}) missing from current font.\n",
      "  fig.savefig(save_dir, dpi=250)\n",
      "D:\\code\\env\\anaconda\\envs\\mhy-yolo\\Lib\\site-packages\\ultralytics\\utils\\metrics.py:470: UserWarning: Glyph 21497 (\\N{CJK UNIFIED IDEOGRAPH-53F9}) missing from current font.\n",
      "  fig.savefig(save_dir, dpi=250)\n",
      "D:\\code\\env\\anaconda\\envs\\mhy-yolo\\Lib\\site-packages\\ultralytics\\utils\\metrics.py:470: UserWarning: Glyph 21495 (\\N{CJK UNIFIED IDEOGRAPH-53F7}) missing from current font.\n",
      "  fig.savefig(save_dir, dpi=250)\n",
      "D:\\code\\env\\anaconda\\envs\\mhy-yolo\\Lib\\site-packages\\ultralytics\\utils\\metrics.py:470: UserWarning: Glyph 36317 (\\N{CJK UNIFIED IDEOGRAPH-8DDD}) missing from current font.\n",
      "  fig.savefig(save_dir, dpi=250)\n",
      "D:\\code\\env\\anaconda\\envs\\mhy-yolo\\Lib\\site-packages\\ultralytics\\utils\\metrics.py:470: UserWarning: Glyph 31163 (\\N{CJK UNIFIED IDEOGRAPH-79BB}) missing from current font.\n",
      "  fig.savefig(save_dir, dpi=250)\n",
      "D:\\code\\env\\anaconda\\envs\\mhy-yolo\\Lib\\site-packages\\ultralytics\\utils\\metrics.py:470: UserWarning: Glyph 25112 (\\N{CJK UNIFIED IDEOGRAPH-6218}) missing from current font.\n",
      "  fig.savefig(save_dir, dpi=250)\n",
      "D:\\code\\env\\anaconda\\envs\\mhy-yolo\\Lib\\site-packages\\ultralytics\\utils\\metrics.py:470: UserWarning: Glyph 26007 (\\N{CJK UNIFIED IDEOGRAPH-6597}) missing from current font.\n",
      "  fig.savefig(save_dir, dpi=250)\n",
      "D:\\code\\env\\anaconda\\envs\\mhy-yolo\\Lib\\site-packages\\ultralytics\\utils\\metrics.py:470: UserWarning: Glyph 40483 (\\N{CJK UNIFIED IDEOGRAPH-9E23}) missing from current font.\n",
      "  fig.savefig(save_dir, dpi=250)\n",
      "D:\\code\\env\\anaconda\\envs\\mhy-yolo\\Lib\\site-packages\\ultralytics\\utils\\metrics.py:470: UserWarning: Glyph 24509 (\\N{CJK UNIFIED IDEOGRAPH-5FBD}) missing from current font.\n",
      "  fig.savefig(save_dir, dpi=250)\n",
      "D:\\code\\env\\anaconda\\envs\\mhy-yolo\\Lib\\site-packages\\ultralytics\\utils\\metrics.py:470: UserWarning: Glyph 27494 (\\N{CJK UNIFIED IDEOGRAPH-6B66}) missing from current font.\n",
      "  fig.savefig(save_dir, dpi=250)\n",
      "D:\\code\\env\\anaconda\\envs\\mhy-yolo\\Lib\\site-packages\\ultralytics\\utils\\metrics.py:470: UserWarning: Glyph 22791 (\\N{CJK UNIFIED IDEOGRAPH-5907}) missing from current font.\n",
      "  fig.savefig(save_dir, dpi=250)\n",
      "D:\\code\\env\\anaconda\\envs\\mhy-yolo\\Lib\\site-packages\\ultralytics\\utils\\metrics.py:470: UserWarning: Glyph 30828 (\\N{CJK UNIFIED IDEOGRAPH-786C}) missing from current font.\n",
      "  fig.savefig(save_dir, dpi=250)\n",
      "D:\\code\\env\\anaconda\\envs\\mhy-yolo\\Lib\\site-packages\\ultralytics\\utils\\metrics.py:470: UserWarning: Glyph 24065 (\\N{CJK UNIFIED IDEOGRAPH-5E01}) missing from current font.\n",
      "  fig.savefig(save_dir, dpi=250)\n",
      "D:\\code\\env\\anaconda\\envs\\mhy-yolo\\Lib\\site-packages\\ultralytics\\utils\\metrics.py:470: UserWarning: Glyph 25361 (\\N{CJK UNIFIED IDEOGRAPH-6311}) missing from current font.\n",
      "  fig.savefig(save_dir, dpi=250)\n",
      "D:\\code\\env\\anaconda\\envs\\mhy-yolo\\Lib\\site-packages\\ultralytics\\utils\\metrics.py:470: UserWarning: Glyph 26080 (\\N{CJK UNIFIED IDEOGRAPH-65E0}) missing from current font.\n",
      "  fig.savefig(save_dir, dpi=250)\n",
      "D:\\code\\env\\anaconda\\envs\\mhy-yolo\\Lib\\site-packages\\ultralytics\\utils\\metrics.py:470: UserWarning: Glyph 20260 (\\N{CJK UNIFIED IDEOGRAPH-4F24}) missing from current font.\n",
      "  fig.savefig(save_dir, dpi=250)\n",
      "D:\\code\\env\\anaconda\\envs\\mhy-yolo\\Lib\\site-packages\\ultralytics\\utils\\metrics.py:470: UserWarning: Glyph 38480 (\\N{CJK UNIFIED IDEOGRAPH-9650}) missing from current font.\n",
      "  fig.savefig(save_dir, dpi=250)\n",
      "D:\\code\\env\\anaconda\\envs\\mhy-yolo\\Lib\\site-packages\\ultralytics\\utils\\metrics.py:470: UserWarning: Glyph 26102 (\\N{CJK UNIFIED IDEOGRAPH-65F6}) missing from current font.\n",
      "  fig.savefig(save_dir, dpi=250)\n",
      "D:\\code\\env\\anaconda\\envs\\mhy-yolo\\Lib\\site-packages\\ultralytics\\utils\\metrics.py:470: UserWarning: Glyph 20598 (\\N{CJK UNIFIED IDEOGRAPH-5076}) missing from current font.\n",
      "  fig.savefig(save_dir, dpi=250)\n",
      "D:\\code\\env\\anaconda\\envs\\mhy-yolo\\Lib\\site-packages\\ultralytics\\utils\\metrics.py:470: UserWarning: Glyph 36935 (\\N{CJK UNIFIED IDEOGRAPH-9047}) missing from current font.\n",
      "  fig.savefig(save_dir, dpi=250)\n",
      "D:\\code\\env\\anaconda\\envs\\mhy-yolo\\Lib\\site-packages\\ultralytics\\utils\\metrics.py:470: UserWarning: Glyph 20107 (\\N{CJK UNIFIED IDEOGRAPH-4E8B}) missing from current font.\n",
      "  fig.savefig(save_dir, dpi=250)\n",
      "D:\\code\\env\\anaconda\\envs\\mhy-yolo\\Lib\\site-packages\\ultralytics\\utils\\metrics.py:470: UserWarning: Glyph 20214 (\\N{CJK UNIFIED IDEOGRAPH-4EF6}) missing from current font.\n",
      "  fig.savefig(save_dir, dpi=250)\n",
      "D:\\code\\env\\anaconda\\envs\\mhy-yolo\\Lib\\site-packages\\ultralytics\\utils\\metrics.py:470: UserWarning: Glyph 20195 (\\N{CJK UNIFIED IDEOGRAPH-4EE3}) missing from current font.\n",
      "  fig.savefig(save_dir, dpi=250)\n",
      "D:\\code\\env\\anaconda\\envs\\mhy-yolo\\Lib\\site-packages\\ultralytics\\utils\\metrics.py:470: UserWarning: Glyph 20215 (\\N{CJK UNIFIED IDEOGRAPH-4EF7}) missing from current font.\n",
      "  fig.savefig(save_dir, dpi=250)\n",
      "D:\\code\\env\\anaconda\\envs\\mhy-yolo\\Lib\\site-packages\\ultralytics\\utils\\metrics.py:470: UserWarning: Glyph 20043 (\\N{CJK UNIFIED IDEOGRAPH-4E4B}) missing from current font.\n",
      "  fig.savefig(save_dir, dpi=250)\n",
      "D:\\code\\env\\anaconda\\envs\\mhy-yolo\\Lib\\site-packages\\ultralytics\\utils\\metrics.py:470: UserWarning: Glyph 38388 (\\N{CJK UNIFIED IDEOGRAPH-95F4}) missing from current font.\n",
      "  fig.savefig(save_dir, dpi=250)\n",
      "D:\\code\\env\\anaconda\\envs\\mhy-yolo\\Lib\\site-packages\\ultralytics\\utils\\metrics.py:470: UserWarning: Glyph 20241 (\\N{CJK UNIFIED IDEOGRAPH-4F11}) missing from current font.\n",
      "  fig.savefig(save_dir, dpi=250)\n",
      "D:\\code\\env\\anaconda\\envs\\mhy-yolo\\Lib\\site-packages\\ultralytics\\utils\\metrics.py:470: UserWarning: Glyph 25001 (\\N{CJK UNIFIED IDEOGRAPH-61A9}) missing from current font.\n",
      "  fig.savefig(save_dir, dpi=250)\n",
      "D:\\code\\env\\anaconda\\envs\\mhy-yolo\\Lib\\site-packages\\ultralytics\\utils\\metrics.py:470: UserWarning: Glyph 35843 (\\N{CJK UNIFIED IDEOGRAPH-8C03}) missing from current font.\n",
      "  fig.savefig(save_dir, dpi=250)\n",
      "D:\\code\\env\\anaconda\\envs\\mhy-yolo\\Lib\\site-packages\\ultralytics\\utils\\metrics.py:470: UserWarning: Glyph 24687 (\\N{CJK UNIFIED IDEOGRAPH-606F}) missing from current font.\n",
      "  fig.savefig(save_dir, dpi=250)\n",
      "D:\\code\\env\\anaconda\\envs\\mhy-yolo\\Lib\\site-packages\\ultralytics\\utils\\metrics.py:470: UserWarning: Glyph 37030 (\\N{CJK UNIFIED IDEOGRAPH-90A6}) missing from current font.\n",
      "  fig.savefig(save_dir, dpi=250)\n",
      "D:\\code\\env\\anaconda\\envs\\mhy-yolo\\Lib\\site-packages\\ultralytics\\utils\\metrics.py:470: UserWarning: Glyph 24067 (\\N{CJK UNIFIED IDEOGRAPH-5E03}) missing from current font.\n",
      "  fig.savefig(save_dir, dpi=250)\n",
      "D:\\code\\env\\anaconda\\envs\\mhy-yolo\\Lib\\site-packages\\ultralytics\\utils\\metrics.py:470: UserWarning: Glyph 21830 (\\N{CJK UNIFIED IDEOGRAPH-5546}) missing from current font.\n",
      "  fig.savefig(save_dir, dpi=250)\n",
      "D:\\code\\env\\anaconda\\envs\\mhy-yolo\\Lib\\site-packages\\ultralytics\\utils\\metrics.py:470: UserWarning: Glyph 24215 (\\N{CJK UNIFIED IDEOGRAPH-5E97}) missing from current font.\n",
      "  fig.savefig(save_dir, dpi=250)\n",
      "D:\\code\\env\\anaconda\\envs\\mhy-yolo\\Lib\\site-packages\\ultralytics\\utils\\metrics.py:470: UserWarning: Glyph 25370 (\\N{CJK UNIFIED IDEOGRAPH-631A}) missing from current font.\n",
      "  fig.savefig(save_dir, dpi=250)\n",
      "D:\\code\\env\\anaconda\\envs\\mhy-yolo\\Lib\\site-packages\\ultralytics\\utils\\metrics.py:470: UserWarning: Glyph 20132 (\\N{CJK UNIFIED IDEOGRAPH-4EA4}) missing from current font.\n",
      "  fig.savefig(save_dir, dpi=250)\n",
      "D:\\code\\env\\anaconda\\envs\\mhy-yolo\\Lib\\site-packages\\ultralytics\\utils\\metrics.py:470: UserWarning: Glyph 20250 (\\N{CJK UNIFIED IDEOGRAPH-4F1A}) missing from current font.\n",
      "  fig.savefig(save_dir, dpi=250)\n",
      "D:\\code\\env\\anaconda\\envs\\mhy-yolo\\Lib\\site-packages\\ultralytics\\utils\\metrics.py:470: UserWarning: Glyph 35848 (\\N{CJK UNIFIED IDEOGRAPH-8C08}) missing from current font.\n",
      "  fig.savefig(save_dir, dpi=250)\n",
      "D:\\code\\env\\anaconda\\envs\\mhy-yolo\\Lib\\site-packages\\ultralytics\\utils\\metrics.py:470: UserWarning: Glyph 36947 (\\N{CJK UNIFIED IDEOGRAPH-9053}) missing from current font.\n",
      "  fig.savefig(save_dir, dpi=250)\n",
      "D:\\code\\env\\anaconda\\envs\\mhy-yolo\\Lib\\site-packages\\ultralytics\\utils\\metrics.py:470: UserWarning: Glyph 20013 (\\N{CJK UNIFIED IDEOGRAPH-4E2D}) missing from current font.\n",
      "  fig.savefig(save_dir, dpi=250)\n",
      "D:\\code\\env\\anaconda\\envs\\mhy-yolo\\Lib\\site-packages\\ultralytics\\utils\\metrics.py:470: UserWarning: Glyph 21361 (\\N{CJK UNIFIED IDEOGRAPH-5371}) missing from current font.\n",
      "  fig.savefig(save_dir, dpi=250)\n",
      "D:\\code\\env\\anaconda\\envs\\mhy-yolo\\Lib\\site-packages\\ultralytics\\utils\\metrics.py:470: UserWarning: Glyph 26426 (\\N{CJK UNIFIED IDEOGRAPH-673A}) missing from current font.\n",
      "  fig.savefig(save_dir, dpi=250)\n",
      "D:\\code\\env\\anaconda\\envs\\mhy-yolo\\Lib\\site-packages\\ultralytics\\utils\\metrics.py:470: UserWarning: Glyph 32456 (\\N{CJK UNIFIED IDEOGRAPH-7EC8}) missing from current font.\n",
      "  fig.savefig(save_dir, dpi=250)\n",
      "D:\\code\\env\\anaconda\\envs\\mhy-yolo\\Lib\\site-packages\\ultralytics\\utils\\metrics.py:470: UserWarning: Glyph 32467 (\\N{CJK UNIFIED IDEOGRAPH-7ED3}) missing from current font.\n",
      "  fig.savefig(save_dir, dpi=250)\n",
      "D:\\code\\env\\anaconda\\envs\\mhy-yolo\\Lib\\site-packages\\ultralytics\\utils\\metrics.py:470: UserWarning: Glyph 24441 (\\N{CJK UNIFIED IDEOGRAPH-5F79}) missing from current font.\n",
      "  fig.savefig(save_dir, dpi=250)\n",
      "D:\\code\\env\\anaconda\\envs\\mhy-yolo\\Lib\\site-packages\\ultralytics\\utils\\metrics.py:495: UserWarning: Glyph 24863 (\\N{CJK UNIFIED IDEOGRAPH-611F}) missing from current font.\n",
      "  fig.savefig(save_dir, dpi=250)\n",
      "D:\\code\\env\\anaconda\\envs\\mhy-yolo\\Lib\\site-packages\\ultralytics\\utils\\metrics.py:495: UserWarning: Glyph 21497 (\\N{CJK UNIFIED IDEOGRAPH-53F9}) missing from current font.\n",
      "  fig.savefig(save_dir, dpi=250)\n",
      "D:\\code\\env\\anaconda\\envs\\mhy-yolo\\Lib\\site-packages\\ultralytics\\utils\\metrics.py:495: UserWarning: Glyph 21495 (\\N{CJK UNIFIED IDEOGRAPH-53F7}) missing from current font.\n",
      "  fig.savefig(save_dir, dpi=250)\n",
      "D:\\code\\env\\anaconda\\envs\\mhy-yolo\\Lib\\site-packages\\ultralytics\\utils\\metrics.py:495: UserWarning: Glyph 36317 (\\N{CJK UNIFIED IDEOGRAPH-8DDD}) missing from current font.\n",
      "  fig.savefig(save_dir, dpi=250)\n",
      "D:\\code\\env\\anaconda\\envs\\mhy-yolo\\Lib\\site-packages\\ultralytics\\utils\\metrics.py:495: UserWarning: Glyph 31163 (\\N{CJK UNIFIED IDEOGRAPH-79BB}) missing from current font.\n",
      "  fig.savefig(save_dir, dpi=250)\n",
      "D:\\code\\env\\anaconda\\envs\\mhy-yolo\\Lib\\site-packages\\ultralytics\\utils\\metrics.py:495: UserWarning: Glyph 25112 (\\N{CJK UNIFIED IDEOGRAPH-6218}) missing from current font.\n",
      "  fig.savefig(save_dir, dpi=250)\n",
      "D:\\code\\env\\anaconda\\envs\\mhy-yolo\\Lib\\site-packages\\ultralytics\\utils\\metrics.py:495: UserWarning: Glyph 26007 (\\N{CJK UNIFIED IDEOGRAPH-6597}) missing from current font.\n",
      "  fig.savefig(save_dir, dpi=250)\n",
      "D:\\code\\env\\anaconda\\envs\\mhy-yolo\\Lib\\site-packages\\ultralytics\\utils\\metrics.py:495: UserWarning: Glyph 40483 (\\N{CJK UNIFIED IDEOGRAPH-9E23}) missing from current font.\n",
      "  fig.savefig(save_dir, dpi=250)\n",
      "D:\\code\\env\\anaconda\\envs\\mhy-yolo\\Lib\\site-packages\\ultralytics\\utils\\metrics.py:495: UserWarning: Glyph 24509 (\\N{CJK UNIFIED IDEOGRAPH-5FBD}) missing from current font.\n",
      "  fig.savefig(save_dir, dpi=250)\n",
      "D:\\code\\env\\anaconda\\envs\\mhy-yolo\\Lib\\site-packages\\ultralytics\\utils\\metrics.py:495: UserWarning: Glyph 27494 (\\N{CJK UNIFIED IDEOGRAPH-6B66}) missing from current font.\n",
      "  fig.savefig(save_dir, dpi=250)\n",
      "D:\\code\\env\\anaconda\\envs\\mhy-yolo\\Lib\\site-packages\\ultralytics\\utils\\metrics.py:495: UserWarning: Glyph 22791 (\\N{CJK UNIFIED IDEOGRAPH-5907}) missing from current font.\n",
      "  fig.savefig(save_dir, dpi=250)\n",
      "D:\\code\\env\\anaconda\\envs\\mhy-yolo\\Lib\\site-packages\\ultralytics\\utils\\metrics.py:495: UserWarning: Glyph 30828 (\\N{CJK UNIFIED IDEOGRAPH-786C}) missing from current font.\n",
      "  fig.savefig(save_dir, dpi=250)\n",
      "D:\\code\\env\\anaconda\\envs\\mhy-yolo\\Lib\\site-packages\\ultralytics\\utils\\metrics.py:495: UserWarning: Glyph 24065 (\\N{CJK UNIFIED IDEOGRAPH-5E01}) missing from current font.\n",
      "  fig.savefig(save_dir, dpi=250)\n",
      "D:\\code\\env\\anaconda\\envs\\mhy-yolo\\Lib\\site-packages\\ultralytics\\utils\\metrics.py:495: UserWarning: Glyph 25361 (\\N{CJK UNIFIED IDEOGRAPH-6311}) missing from current font.\n",
      "  fig.savefig(save_dir, dpi=250)\n",
      "D:\\code\\env\\anaconda\\envs\\mhy-yolo\\Lib\\site-packages\\ultralytics\\utils\\metrics.py:495: UserWarning: Glyph 26080 (\\N{CJK UNIFIED IDEOGRAPH-65E0}) missing from current font.\n",
      "  fig.savefig(save_dir, dpi=250)\n",
      "D:\\code\\env\\anaconda\\envs\\mhy-yolo\\Lib\\site-packages\\ultralytics\\utils\\metrics.py:495: UserWarning: Glyph 20260 (\\N{CJK UNIFIED IDEOGRAPH-4F24}) missing from current font.\n",
      "  fig.savefig(save_dir, dpi=250)\n",
      "D:\\code\\env\\anaconda\\envs\\mhy-yolo\\Lib\\site-packages\\ultralytics\\utils\\metrics.py:495: UserWarning: Glyph 38480 (\\N{CJK UNIFIED IDEOGRAPH-9650}) missing from current font.\n",
      "  fig.savefig(save_dir, dpi=250)\n",
      "D:\\code\\env\\anaconda\\envs\\mhy-yolo\\Lib\\site-packages\\ultralytics\\utils\\metrics.py:495: UserWarning: Glyph 26102 (\\N{CJK UNIFIED IDEOGRAPH-65F6}) missing from current font.\n",
      "  fig.savefig(save_dir, dpi=250)\n",
      "D:\\code\\env\\anaconda\\envs\\mhy-yolo\\Lib\\site-packages\\ultralytics\\utils\\metrics.py:495: UserWarning: Glyph 20598 (\\N{CJK UNIFIED IDEOGRAPH-5076}) missing from current font.\n",
      "  fig.savefig(save_dir, dpi=250)\n",
      "D:\\code\\env\\anaconda\\envs\\mhy-yolo\\Lib\\site-packages\\ultralytics\\utils\\metrics.py:495: UserWarning: Glyph 36935 (\\N{CJK UNIFIED IDEOGRAPH-9047}) missing from current font.\n",
      "  fig.savefig(save_dir, dpi=250)\n",
      "D:\\code\\env\\anaconda\\envs\\mhy-yolo\\Lib\\site-packages\\ultralytics\\utils\\metrics.py:495: UserWarning: Glyph 20107 (\\N{CJK UNIFIED IDEOGRAPH-4E8B}) missing from current font.\n",
      "  fig.savefig(save_dir, dpi=250)\n",
      "D:\\code\\env\\anaconda\\envs\\mhy-yolo\\Lib\\site-packages\\ultralytics\\utils\\metrics.py:495: UserWarning: Glyph 20214 (\\N{CJK UNIFIED IDEOGRAPH-4EF6}) missing from current font.\n",
      "  fig.savefig(save_dir, dpi=250)\n",
      "D:\\code\\env\\anaconda\\envs\\mhy-yolo\\Lib\\site-packages\\ultralytics\\utils\\metrics.py:495: UserWarning: Glyph 20195 (\\N{CJK UNIFIED IDEOGRAPH-4EE3}) missing from current font.\n",
      "  fig.savefig(save_dir, dpi=250)\n",
      "D:\\code\\env\\anaconda\\envs\\mhy-yolo\\Lib\\site-packages\\ultralytics\\utils\\metrics.py:495: UserWarning: Glyph 20215 (\\N{CJK UNIFIED IDEOGRAPH-4EF7}) missing from current font.\n",
      "  fig.savefig(save_dir, dpi=250)\n",
      "D:\\code\\env\\anaconda\\envs\\mhy-yolo\\Lib\\site-packages\\ultralytics\\utils\\metrics.py:495: UserWarning: Glyph 20043 (\\N{CJK UNIFIED IDEOGRAPH-4E4B}) missing from current font.\n",
      "  fig.savefig(save_dir, dpi=250)\n",
      "D:\\code\\env\\anaconda\\envs\\mhy-yolo\\Lib\\site-packages\\ultralytics\\utils\\metrics.py:495: UserWarning: Glyph 38388 (\\N{CJK UNIFIED IDEOGRAPH-95F4}) missing from current font.\n",
      "  fig.savefig(save_dir, dpi=250)\n",
      "D:\\code\\env\\anaconda\\envs\\mhy-yolo\\Lib\\site-packages\\ultralytics\\utils\\metrics.py:495: UserWarning: Glyph 20241 (\\N{CJK UNIFIED IDEOGRAPH-4F11}) missing from current font.\n",
      "  fig.savefig(save_dir, dpi=250)\n",
      "D:\\code\\env\\anaconda\\envs\\mhy-yolo\\Lib\\site-packages\\ultralytics\\utils\\metrics.py:495: UserWarning: Glyph 25001 (\\N{CJK UNIFIED IDEOGRAPH-61A9}) missing from current font.\n",
      "  fig.savefig(save_dir, dpi=250)\n",
      "D:\\code\\env\\anaconda\\envs\\mhy-yolo\\Lib\\site-packages\\ultralytics\\utils\\metrics.py:495: UserWarning: Glyph 35843 (\\N{CJK UNIFIED IDEOGRAPH-8C03}) missing from current font.\n",
      "  fig.savefig(save_dir, dpi=250)\n",
      "D:\\code\\env\\anaconda\\envs\\mhy-yolo\\Lib\\site-packages\\ultralytics\\utils\\metrics.py:495: UserWarning: Glyph 24687 (\\N{CJK UNIFIED IDEOGRAPH-606F}) missing from current font.\n",
      "  fig.savefig(save_dir, dpi=250)\n",
      "D:\\code\\env\\anaconda\\envs\\mhy-yolo\\Lib\\site-packages\\ultralytics\\utils\\metrics.py:495: UserWarning: Glyph 37030 (\\N{CJK UNIFIED IDEOGRAPH-90A6}) missing from current font.\n",
      "  fig.savefig(save_dir, dpi=250)\n",
      "D:\\code\\env\\anaconda\\envs\\mhy-yolo\\Lib\\site-packages\\ultralytics\\utils\\metrics.py:495: UserWarning: Glyph 24067 (\\N{CJK UNIFIED IDEOGRAPH-5E03}) missing from current font.\n",
      "  fig.savefig(save_dir, dpi=250)\n",
      "D:\\code\\env\\anaconda\\envs\\mhy-yolo\\Lib\\site-packages\\ultralytics\\utils\\metrics.py:495: UserWarning: Glyph 21830 (\\N{CJK UNIFIED IDEOGRAPH-5546}) missing from current font.\n",
      "  fig.savefig(save_dir, dpi=250)\n",
      "D:\\code\\env\\anaconda\\envs\\mhy-yolo\\Lib\\site-packages\\ultralytics\\utils\\metrics.py:495: UserWarning: Glyph 24215 (\\N{CJK UNIFIED IDEOGRAPH-5E97}) missing from current font.\n",
      "  fig.savefig(save_dir, dpi=250)\n",
      "D:\\code\\env\\anaconda\\envs\\mhy-yolo\\Lib\\site-packages\\ultralytics\\utils\\metrics.py:495: UserWarning: Glyph 25370 (\\N{CJK UNIFIED IDEOGRAPH-631A}) missing from current font.\n",
      "  fig.savefig(save_dir, dpi=250)\n",
      "D:\\code\\env\\anaconda\\envs\\mhy-yolo\\Lib\\site-packages\\ultralytics\\utils\\metrics.py:495: UserWarning: Glyph 20132 (\\N{CJK UNIFIED IDEOGRAPH-4EA4}) missing from current font.\n",
      "  fig.savefig(save_dir, dpi=250)\n",
      "D:\\code\\env\\anaconda\\envs\\mhy-yolo\\Lib\\site-packages\\ultralytics\\utils\\metrics.py:495: UserWarning: Glyph 20250 (\\N{CJK UNIFIED IDEOGRAPH-4F1A}) missing from current font.\n",
      "  fig.savefig(save_dir, dpi=250)\n",
      "D:\\code\\env\\anaconda\\envs\\mhy-yolo\\Lib\\site-packages\\ultralytics\\utils\\metrics.py:495: UserWarning: Glyph 35848 (\\N{CJK UNIFIED IDEOGRAPH-8C08}) missing from current font.\n",
      "  fig.savefig(save_dir, dpi=250)\n",
      "D:\\code\\env\\anaconda\\envs\\mhy-yolo\\Lib\\site-packages\\ultralytics\\utils\\metrics.py:495: UserWarning: Glyph 36947 (\\N{CJK UNIFIED IDEOGRAPH-9053}) missing from current font.\n",
      "  fig.savefig(save_dir, dpi=250)\n",
      "D:\\code\\env\\anaconda\\envs\\mhy-yolo\\Lib\\site-packages\\ultralytics\\utils\\metrics.py:495: UserWarning: Glyph 20013 (\\N{CJK UNIFIED IDEOGRAPH-4E2D}) missing from current font.\n",
      "  fig.savefig(save_dir, dpi=250)\n",
      "D:\\code\\env\\anaconda\\envs\\mhy-yolo\\Lib\\site-packages\\ultralytics\\utils\\metrics.py:495: UserWarning: Glyph 21361 (\\N{CJK UNIFIED IDEOGRAPH-5371}) missing from current font.\n",
      "  fig.savefig(save_dir, dpi=250)\n",
      "D:\\code\\env\\anaconda\\envs\\mhy-yolo\\Lib\\site-packages\\ultralytics\\utils\\metrics.py:495: UserWarning: Glyph 26426 (\\N{CJK UNIFIED IDEOGRAPH-673A}) missing from current font.\n",
      "  fig.savefig(save_dir, dpi=250)\n",
      "D:\\code\\env\\anaconda\\envs\\mhy-yolo\\Lib\\site-packages\\ultralytics\\utils\\metrics.py:495: UserWarning: Glyph 32456 (\\N{CJK UNIFIED IDEOGRAPH-7EC8}) missing from current font.\n",
      "  fig.savefig(save_dir, dpi=250)\n",
      "D:\\code\\env\\anaconda\\envs\\mhy-yolo\\Lib\\site-packages\\ultralytics\\utils\\metrics.py:495: UserWarning: Glyph 32467 (\\N{CJK UNIFIED IDEOGRAPH-7ED3}) missing from current font.\n",
      "  fig.savefig(save_dir, dpi=250)\n",
      "D:\\code\\env\\anaconda\\envs\\mhy-yolo\\Lib\\site-packages\\ultralytics\\utils\\metrics.py:495: UserWarning: Glyph 24441 (\\N{CJK UNIFIED IDEOGRAPH-5F79}) missing from current font.\n",
      "  fig.savefig(save_dir, dpi=250)\n",
      "D:\\code\\env\\anaconda\\envs\\mhy-yolo\\Lib\\site-packages\\ultralytics\\utils\\metrics.py:495: UserWarning: Glyph 24863 (\\N{CJK UNIFIED IDEOGRAPH-611F}) missing from current font.\n",
      "  fig.savefig(save_dir, dpi=250)\n",
      "D:\\code\\env\\anaconda\\envs\\mhy-yolo\\Lib\\site-packages\\ultralytics\\utils\\metrics.py:495: UserWarning: Glyph 21497 (\\N{CJK UNIFIED IDEOGRAPH-53F9}) missing from current font.\n",
      "  fig.savefig(save_dir, dpi=250)\n",
      "D:\\code\\env\\anaconda\\envs\\mhy-yolo\\Lib\\site-packages\\ultralytics\\utils\\metrics.py:495: UserWarning: Glyph 21495 (\\N{CJK UNIFIED IDEOGRAPH-53F7}) missing from current font.\n",
      "  fig.savefig(save_dir, dpi=250)\n",
      "D:\\code\\env\\anaconda\\envs\\mhy-yolo\\Lib\\site-packages\\ultralytics\\utils\\metrics.py:495: UserWarning: Glyph 36317 (\\N{CJK UNIFIED IDEOGRAPH-8DDD}) missing from current font.\n",
      "  fig.savefig(save_dir, dpi=250)\n",
      "D:\\code\\env\\anaconda\\envs\\mhy-yolo\\Lib\\site-packages\\ultralytics\\utils\\metrics.py:495: UserWarning: Glyph 31163 (\\N{CJK UNIFIED IDEOGRAPH-79BB}) missing from current font.\n",
      "  fig.savefig(save_dir, dpi=250)\n",
      "D:\\code\\env\\anaconda\\envs\\mhy-yolo\\Lib\\site-packages\\ultralytics\\utils\\metrics.py:495: UserWarning: Glyph 25112 (\\N{CJK UNIFIED IDEOGRAPH-6218}) missing from current font.\n",
      "  fig.savefig(save_dir, dpi=250)\n",
      "D:\\code\\env\\anaconda\\envs\\mhy-yolo\\Lib\\site-packages\\ultralytics\\utils\\metrics.py:495: UserWarning: Glyph 26007 (\\N{CJK UNIFIED IDEOGRAPH-6597}) missing from current font.\n",
      "  fig.savefig(save_dir, dpi=250)\n",
      "D:\\code\\env\\anaconda\\envs\\mhy-yolo\\Lib\\site-packages\\ultralytics\\utils\\metrics.py:495: UserWarning: Glyph 40483 (\\N{CJK UNIFIED IDEOGRAPH-9E23}) missing from current font.\n",
      "  fig.savefig(save_dir, dpi=250)\n",
      "D:\\code\\env\\anaconda\\envs\\mhy-yolo\\Lib\\site-packages\\ultralytics\\utils\\metrics.py:495: UserWarning: Glyph 24509 (\\N{CJK UNIFIED IDEOGRAPH-5FBD}) missing from current font.\n",
      "  fig.savefig(save_dir, dpi=250)\n",
      "D:\\code\\env\\anaconda\\envs\\mhy-yolo\\Lib\\site-packages\\ultralytics\\utils\\metrics.py:495: UserWarning: Glyph 27494 (\\N{CJK UNIFIED IDEOGRAPH-6B66}) missing from current font.\n",
      "  fig.savefig(save_dir, dpi=250)\n",
      "D:\\code\\env\\anaconda\\envs\\mhy-yolo\\Lib\\site-packages\\ultralytics\\utils\\metrics.py:495: UserWarning: Glyph 22791 (\\N{CJK UNIFIED IDEOGRAPH-5907}) missing from current font.\n",
      "  fig.savefig(save_dir, dpi=250)\n",
      "D:\\code\\env\\anaconda\\envs\\mhy-yolo\\Lib\\site-packages\\ultralytics\\utils\\metrics.py:495: UserWarning: Glyph 30828 (\\N{CJK UNIFIED IDEOGRAPH-786C}) missing from current font.\n",
      "  fig.savefig(save_dir, dpi=250)\n",
      "D:\\code\\env\\anaconda\\envs\\mhy-yolo\\Lib\\site-packages\\ultralytics\\utils\\metrics.py:495: UserWarning: Glyph 24065 (\\N{CJK UNIFIED IDEOGRAPH-5E01}) missing from current font.\n",
      "  fig.savefig(save_dir, dpi=250)\n",
      "D:\\code\\env\\anaconda\\envs\\mhy-yolo\\Lib\\site-packages\\ultralytics\\utils\\metrics.py:495: UserWarning: Glyph 25361 (\\N{CJK UNIFIED IDEOGRAPH-6311}) missing from current font.\n",
      "  fig.savefig(save_dir, dpi=250)\n",
      "D:\\code\\env\\anaconda\\envs\\mhy-yolo\\Lib\\site-packages\\ultralytics\\utils\\metrics.py:495: UserWarning: Glyph 26080 (\\N{CJK UNIFIED IDEOGRAPH-65E0}) missing from current font.\n",
      "  fig.savefig(save_dir, dpi=250)\n",
      "D:\\code\\env\\anaconda\\envs\\mhy-yolo\\Lib\\site-packages\\ultralytics\\utils\\metrics.py:495: UserWarning: Glyph 20260 (\\N{CJK UNIFIED IDEOGRAPH-4F24}) missing from current font.\n",
      "  fig.savefig(save_dir, dpi=250)\n",
      "D:\\code\\env\\anaconda\\envs\\mhy-yolo\\Lib\\site-packages\\ultralytics\\utils\\metrics.py:495: UserWarning: Glyph 38480 (\\N{CJK UNIFIED IDEOGRAPH-9650}) missing from current font.\n",
      "  fig.savefig(save_dir, dpi=250)\n",
      "D:\\code\\env\\anaconda\\envs\\mhy-yolo\\Lib\\site-packages\\ultralytics\\utils\\metrics.py:495: UserWarning: Glyph 26102 (\\N{CJK UNIFIED IDEOGRAPH-65F6}) missing from current font.\n",
      "  fig.savefig(save_dir, dpi=250)\n",
      "D:\\code\\env\\anaconda\\envs\\mhy-yolo\\Lib\\site-packages\\ultralytics\\utils\\metrics.py:495: UserWarning: Glyph 20598 (\\N{CJK UNIFIED IDEOGRAPH-5076}) missing from current font.\n",
      "  fig.savefig(save_dir, dpi=250)\n",
      "D:\\code\\env\\anaconda\\envs\\mhy-yolo\\Lib\\site-packages\\ultralytics\\utils\\metrics.py:495: UserWarning: Glyph 36935 (\\N{CJK UNIFIED IDEOGRAPH-9047}) missing from current font.\n",
      "  fig.savefig(save_dir, dpi=250)\n",
      "D:\\code\\env\\anaconda\\envs\\mhy-yolo\\Lib\\site-packages\\ultralytics\\utils\\metrics.py:495: UserWarning: Glyph 20107 (\\N{CJK UNIFIED IDEOGRAPH-4E8B}) missing from current font.\n",
      "  fig.savefig(save_dir, dpi=250)\n",
      "D:\\code\\env\\anaconda\\envs\\mhy-yolo\\Lib\\site-packages\\ultralytics\\utils\\metrics.py:495: UserWarning: Glyph 20214 (\\N{CJK UNIFIED IDEOGRAPH-4EF6}) missing from current font.\n",
      "  fig.savefig(save_dir, dpi=250)\n",
      "D:\\code\\env\\anaconda\\envs\\mhy-yolo\\Lib\\site-packages\\ultralytics\\utils\\metrics.py:495: UserWarning: Glyph 20195 (\\N{CJK UNIFIED IDEOGRAPH-4EE3}) missing from current font.\n",
      "  fig.savefig(save_dir, dpi=250)\n",
      "D:\\code\\env\\anaconda\\envs\\mhy-yolo\\Lib\\site-packages\\ultralytics\\utils\\metrics.py:495: UserWarning: Glyph 20215 (\\N{CJK UNIFIED IDEOGRAPH-4EF7}) missing from current font.\n",
      "  fig.savefig(save_dir, dpi=250)\n",
      "D:\\code\\env\\anaconda\\envs\\mhy-yolo\\Lib\\site-packages\\ultralytics\\utils\\metrics.py:495: UserWarning: Glyph 20043 (\\N{CJK UNIFIED IDEOGRAPH-4E4B}) missing from current font.\n",
      "  fig.savefig(save_dir, dpi=250)\n",
      "D:\\code\\env\\anaconda\\envs\\mhy-yolo\\Lib\\site-packages\\ultralytics\\utils\\metrics.py:495: UserWarning: Glyph 38388 (\\N{CJK UNIFIED IDEOGRAPH-95F4}) missing from current font.\n",
      "  fig.savefig(save_dir, dpi=250)\n",
      "D:\\code\\env\\anaconda\\envs\\mhy-yolo\\Lib\\site-packages\\ultralytics\\utils\\metrics.py:495: UserWarning: Glyph 20241 (\\N{CJK UNIFIED IDEOGRAPH-4F11}) missing from current font.\n",
      "  fig.savefig(save_dir, dpi=250)\n",
      "D:\\code\\env\\anaconda\\envs\\mhy-yolo\\Lib\\site-packages\\ultralytics\\utils\\metrics.py:495: UserWarning: Glyph 25001 (\\N{CJK UNIFIED IDEOGRAPH-61A9}) missing from current font.\n",
      "  fig.savefig(save_dir, dpi=250)\n",
      "D:\\code\\env\\anaconda\\envs\\mhy-yolo\\Lib\\site-packages\\ultralytics\\utils\\metrics.py:495: UserWarning: Glyph 35843 (\\N{CJK UNIFIED IDEOGRAPH-8C03}) missing from current font.\n",
      "  fig.savefig(save_dir, dpi=250)\n",
      "D:\\code\\env\\anaconda\\envs\\mhy-yolo\\Lib\\site-packages\\ultralytics\\utils\\metrics.py:495: UserWarning: Glyph 24687 (\\N{CJK UNIFIED IDEOGRAPH-606F}) missing from current font.\n",
      "  fig.savefig(save_dir, dpi=250)\n",
      "D:\\code\\env\\anaconda\\envs\\mhy-yolo\\Lib\\site-packages\\ultralytics\\utils\\metrics.py:495: UserWarning: Glyph 37030 (\\N{CJK UNIFIED IDEOGRAPH-90A6}) missing from current font.\n",
      "  fig.savefig(save_dir, dpi=250)\n",
      "D:\\code\\env\\anaconda\\envs\\mhy-yolo\\Lib\\site-packages\\ultralytics\\utils\\metrics.py:495: UserWarning: Glyph 24067 (\\N{CJK UNIFIED IDEOGRAPH-5E03}) missing from current font.\n",
      "  fig.savefig(save_dir, dpi=250)\n",
      "D:\\code\\env\\anaconda\\envs\\mhy-yolo\\Lib\\site-packages\\ultralytics\\utils\\metrics.py:495: UserWarning: Glyph 21830 (\\N{CJK UNIFIED IDEOGRAPH-5546}) missing from current font.\n",
      "  fig.savefig(save_dir, dpi=250)\n",
      "D:\\code\\env\\anaconda\\envs\\mhy-yolo\\Lib\\site-packages\\ultralytics\\utils\\metrics.py:495: UserWarning: Glyph 24215 (\\N{CJK UNIFIED IDEOGRAPH-5E97}) missing from current font.\n",
      "  fig.savefig(save_dir, dpi=250)\n",
      "D:\\code\\env\\anaconda\\envs\\mhy-yolo\\Lib\\site-packages\\ultralytics\\utils\\metrics.py:495: UserWarning: Glyph 25370 (\\N{CJK UNIFIED IDEOGRAPH-631A}) missing from current font.\n",
      "  fig.savefig(save_dir, dpi=250)\n",
      "D:\\code\\env\\anaconda\\envs\\mhy-yolo\\Lib\\site-packages\\ultralytics\\utils\\metrics.py:495: UserWarning: Glyph 20132 (\\N{CJK UNIFIED IDEOGRAPH-4EA4}) missing from current font.\n",
      "  fig.savefig(save_dir, dpi=250)\n",
      "D:\\code\\env\\anaconda\\envs\\mhy-yolo\\Lib\\site-packages\\ultralytics\\utils\\metrics.py:495: UserWarning: Glyph 20250 (\\N{CJK UNIFIED IDEOGRAPH-4F1A}) missing from current font.\n",
      "  fig.savefig(save_dir, dpi=250)\n",
      "D:\\code\\env\\anaconda\\envs\\mhy-yolo\\Lib\\site-packages\\ultralytics\\utils\\metrics.py:495: UserWarning: Glyph 35848 (\\N{CJK UNIFIED IDEOGRAPH-8C08}) missing from current font.\n",
      "  fig.savefig(save_dir, dpi=250)\n",
      "D:\\code\\env\\anaconda\\envs\\mhy-yolo\\Lib\\site-packages\\ultralytics\\utils\\metrics.py:495: UserWarning: Glyph 36947 (\\N{CJK UNIFIED IDEOGRAPH-9053}) missing from current font.\n",
      "  fig.savefig(save_dir, dpi=250)\n",
      "D:\\code\\env\\anaconda\\envs\\mhy-yolo\\Lib\\site-packages\\ultralytics\\utils\\metrics.py:495: UserWarning: Glyph 20013 (\\N{CJK UNIFIED IDEOGRAPH-4E2D}) missing from current font.\n",
      "  fig.savefig(save_dir, dpi=250)\n",
      "D:\\code\\env\\anaconda\\envs\\mhy-yolo\\Lib\\site-packages\\ultralytics\\utils\\metrics.py:495: UserWarning: Glyph 21361 (\\N{CJK UNIFIED IDEOGRAPH-5371}) missing from current font.\n",
      "  fig.savefig(save_dir, dpi=250)\n",
      "D:\\code\\env\\anaconda\\envs\\mhy-yolo\\Lib\\site-packages\\ultralytics\\utils\\metrics.py:495: UserWarning: Glyph 26426 (\\N{CJK UNIFIED IDEOGRAPH-673A}) missing from current font.\n",
      "  fig.savefig(save_dir, dpi=250)\n",
      "D:\\code\\env\\anaconda\\envs\\mhy-yolo\\Lib\\site-packages\\ultralytics\\utils\\metrics.py:495: UserWarning: Glyph 32456 (\\N{CJK UNIFIED IDEOGRAPH-7EC8}) missing from current font.\n",
      "  fig.savefig(save_dir, dpi=250)\n",
      "D:\\code\\env\\anaconda\\envs\\mhy-yolo\\Lib\\site-packages\\ultralytics\\utils\\metrics.py:495: UserWarning: Glyph 32467 (\\N{CJK UNIFIED IDEOGRAPH-7ED3}) missing from current font.\n",
      "  fig.savefig(save_dir, dpi=250)\n",
      "D:\\code\\env\\anaconda\\envs\\mhy-yolo\\Lib\\site-packages\\ultralytics\\utils\\metrics.py:495: UserWarning: Glyph 24441 (\\N{CJK UNIFIED IDEOGRAPH-5F79}) missing from current font.\n",
      "  fig.savefig(save_dir, dpi=250)\n",
      "D:\\code\\env\\anaconda\\envs\\mhy-yolo\\Lib\\site-packages\\ultralytics\\utils\\metrics.py:495: UserWarning: Glyph 24863 (\\N{CJK UNIFIED IDEOGRAPH-611F}) missing from current font.\n",
      "  fig.savefig(save_dir, dpi=250)\n",
      "D:\\code\\env\\anaconda\\envs\\mhy-yolo\\Lib\\site-packages\\ultralytics\\utils\\metrics.py:495: UserWarning: Glyph 21497 (\\N{CJK UNIFIED IDEOGRAPH-53F9}) missing from current font.\n",
      "  fig.savefig(save_dir, dpi=250)\n",
      "D:\\code\\env\\anaconda\\envs\\mhy-yolo\\Lib\\site-packages\\ultralytics\\utils\\metrics.py:495: UserWarning: Glyph 21495 (\\N{CJK UNIFIED IDEOGRAPH-53F7}) missing from current font.\n",
      "  fig.savefig(save_dir, dpi=250)\n",
      "D:\\code\\env\\anaconda\\envs\\mhy-yolo\\Lib\\site-packages\\ultralytics\\utils\\metrics.py:495: UserWarning: Glyph 36317 (\\N{CJK UNIFIED IDEOGRAPH-8DDD}) missing from current font.\n",
      "  fig.savefig(save_dir, dpi=250)\n",
      "D:\\code\\env\\anaconda\\envs\\mhy-yolo\\Lib\\site-packages\\ultralytics\\utils\\metrics.py:495: UserWarning: Glyph 31163 (\\N{CJK UNIFIED IDEOGRAPH-79BB}) missing from current font.\n",
      "  fig.savefig(save_dir, dpi=250)\n",
      "D:\\code\\env\\anaconda\\envs\\mhy-yolo\\Lib\\site-packages\\ultralytics\\utils\\metrics.py:495: UserWarning: Glyph 25112 (\\N{CJK UNIFIED IDEOGRAPH-6218}) missing from current font.\n",
      "  fig.savefig(save_dir, dpi=250)\n",
      "D:\\code\\env\\anaconda\\envs\\mhy-yolo\\Lib\\site-packages\\ultralytics\\utils\\metrics.py:495: UserWarning: Glyph 26007 (\\N{CJK UNIFIED IDEOGRAPH-6597}) missing from current font.\n",
      "  fig.savefig(save_dir, dpi=250)\n",
      "D:\\code\\env\\anaconda\\envs\\mhy-yolo\\Lib\\site-packages\\ultralytics\\utils\\metrics.py:495: UserWarning: Glyph 40483 (\\N{CJK UNIFIED IDEOGRAPH-9E23}) missing from current font.\n",
      "  fig.savefig(save_dir, dpi=250)\n",
      "D:\\code\\env\\anaconda\\envs\\mhy-yolo\\Lib\\site-packages\\ultralytics\\utils\\metrics.py:495: UserWarning: Glyph 24509 (\\N{CJK UNIFIED IDEOGRAPH-5FBD}) missing from current font.\n",
      "  fig.savefig(save_dir, dpi=250)\n",
      "D:\\code\\env\\anaconda\\envs\\mhy-yolo\\Lib\\site-packages\\ultralytics\\utils\\metrics.py:495: UserWarning: Glyph 27494 (\\N{CJK UNIFIED IDEOGRAPH-6B66}) missing from current font.\n",
      "  fig.savefig(save_dir, dpi=250)\n",
      "D:\\code\\env\\anaconda\\envs\\mhy-yolo\\Lib\\site-packages\\ultralytics\\utils\\metrics.py:495: UserWarning: Glyph 22791 (\\N{CJK UNIFIED IDEOGRAPH-5907}) missing from current font.\n",
      "  fig.savefig(save_dir, dpi=250)\n",
      "D:\\code\\env\\anaconda\\envs\\mhy-yolo\\Lib\\site-packages\\ultralytics\\utils\\metrics.py:495: UserWarning: Glyph 30828 (\\N{CJK UNIFIED IDEOGRAPH-786C}) missing from current font.\n",
      "  fig.savefig(save_dir, dpi=250)\n",
      "D:\\code\\env\\anaconda\\envs\\mhy-yolo\\Lib\\site-packages\\ultralytics\\utils\\metrics.py:495: UserWarning: Glyph 24065 (\\N{CJK UNIFIED IDEOGRAPH-5E01}) missing from current font.\n",
      "  fig.savefig(save_dir, dpi=250)\n",
      "D:\\code\\env\\anaconda\\envs\\mhy-yolo\\Lib\\site-packages\\ultralytics\\utils\\metrics.py:495: UserWarning: Glyph 25361 (\\N{CJK UNIFIED IDEOGRAPH-6311}) missing from current font.\n",
      "  fig.savefig(save_dir, dpi=250)\n",
      "D:\\code\\env\\anaconda\\envs\\mhy-yolo\\Lib\\site-packages\\ultralytics\\utils\\metrics.py:495: UserWarning: Glyph 26080 (\\N{CJK UNIFIED IDEOGRAPH-65E0}) missing from current font.\n",
      "  fig.savefig(save_dir, dpi=250)\n",
      "D:\\code\\env\\anaconda\\envs\\mhy-yolo\\Lib\\site-packages\\ultralytics\\utils\\metrics.py:495: UserWarning: Glyph 20260 (\\N{CJK UNIFIED IDEOGRAPH-4F24}) missing from current font.\n",
      "  fig.savefig(save_dir, dpi=250)\n",
      "D:\\code\\env\\anaconda\\envs\\mhy-yolo\\Lib\\site-packages\\ultralytics\\utils\\metrics.py:495: UserWarning: Glyph 38480 (\\N{CJK UNIFIED IDEOGRAPH-9650}) missing from current font.\n",
      "  fig.savefig(save_dir, dpi=250)\n",
      "D:\\code\\env\\anaconda\\envs\\mhy-yolo\\Lib\\site-packages\\ultralytics\\utils\\metrics.py:495: UserWarning: Glyph 26102 (\\N{CJK UNIFIED IDEOGRAPH-65F6}) missing from current font.\n",
      "  fig.savefig(save_dir, dpi=250)\n",
      "D:\\code\\env\\anaconda\\envs\\mhy-yolo\\Lib\\site-packages\\ultralytics\\utils\\metrics.py:495: UserWarning: Glyph 20598 (\\N{CJK UNIFIED IDEOGRAPH-5076}) missing from current font.\n",
      "  fig.savefig(save_dir, dpi=250)\n",
      "D:\\code\\env\\anaconda\\envs\\mhy-yolo\\Lib\\site-packages\\ultralytics\\utils\\metrics.py:495: UserWarning: Glyph 36935 (\\N{CJK UNIFIED IDEOGRAPH-9047}) missing from current font.\n",
      "  fig.savefig(save_dir, dpi=250)\n",
      "D:\\code\\env\\anaconda\\envs\\mhy-yolo\\Lib\\site-packages\\ultralytics\\utils\\metrics.py:495: UserWarning: Glyph 20107 (\\N{CJK UNIFIED IDEOGRAPH-4E8B}) missing from current font.\n",
      "  fig.savefig(save_dir, dpi=250)\n",
      "D:\\code\\env\\anaconda\\envs\\mhy-yolo\\Lib\\site-packages\\ultralytics\\utils\\metrics.py:495: UserWarning: Glyph 20214 (\\N{CJK UNIFIED IDEOGRAPH-4EF6}) missing from current font.\n",
      "  fig.savefig(save_dir, dpi=250)\n",
      "D:\\code\\env\\anaconda\\envs\\mhy-yolo\\Lib\\site-packages\\ultralytics\\utils\\metrics.py:495: UserWarning: Glyph 20195 (\\N{CJK UNIFIED IDEOGRAPH-4EE3}) missing from current font.\n",
      "  fig.savefig(save_dir, dpi=250)\n",
      "D:\\code\\env\\anaconda\\envs\\mhy-yolo\\Lib\\site-packages\\ultralytics\\utils\\metrics.py:495: UserWarning: Glyph 20215 (\\N{CJK UNIFIED IDEOGRAPH-4EF7}) missing from current font.\n",
      "  fig.savefig(save_dir, dpi=250)\n",
      "D:\\code\\env\\anaconda\\envs\\mhy-yolo\\Lib\\site-packages\\ultralytics\\utils\\metrics.py:495: UserWarning: Glyph 20043 (\\N{CJK UNIFIED IDEOGRAPH-4E4B}) missing from current font.\n",
      "  fig.savefig(save_dir, dpi=250)\n",
      "D:\\code\\env\\anaconda\\envs\\mhy-yolo\\Lib\\site-packages\\ultralytics\\utils\\metrics.py:495: UserWarning: Glyph 38388 (\\N{CJK UNIFIED IDEOGRAPH-95F4}) missing from current font.\n",
      "  fig.savefig(save_dir, dpi=250)\n",
      "D:\\code\\env\\anaconda\\envs\\mhy-yolo\\Lib\\site-packages\\ultralytics\\utils\\metrics.py:495: UserWarning: Glyph 20241 (\\N{CJK UNIFIED IDEOGRAPH-4F11}) missing from current font.\n",
      "  fig.savefig(save_dir, dpi=250)\n",
      "D:\\code\\env\\anaconda\\envs\\mhy-yolo\\Lib\\site-packages\\ultralytics\\utils\\metrics.py:495: UserWarning: Glyph 25001 (\\N{CJK UNIFIED IDEOGRAPH-61A9}) missing from current font.\n",
      "  fig.savefig(save_dir, dpi=250)\n",
      "D:\\code\\env\\anaconda\\envs\\mhy-yolo\\Lib\\site-packages\\ultralytics\\utils\\metrics.py:495: UserWarning: Glyph 35843 (\\N{CJK UNIFIED IDEOGRAPH-8C03}) missing from current font.\n",
      "  fig.savefig(save_dir, dpi=250)\n",
      "D:\\code\\env\\anaconda\\envs\\mhy-yolo\\Lib\\site-packages\\ultralytics\\utils\\metrics.py:495: UserWarning: Glyph 24687 (\\N{CJK UNIFIED IDEOGRAPH-606F}) missing from current font.\n",
      "  fig.savefig(save_dir, dpi=250)\n",
      "D:\\code\\env\\anaconda\\envs\\mhy-yolo\\Lib\\site-packages\\ultralytics\\utils\\metrics.py:495: UserWarning: Glyph 37030 (\\N{CJK UNIFIED IDEOGRAPH-90A6}) missing from current font.\n",
      "  fig.savefig(save_dir, dpi=250)\n",
      "D:\\code\\env\\anaconda\\envs\\mhy-yolo\\Lib\\site-packages\\ultralytics\\utils\\metrics.py:495: UserWarning: Glyph 24067 (\\N{CJK UNIFIED IDEOGRAPH-5E03}) missing from current font.\n",
      "  fig.savefig(save_dir, dpi=250)\n",
      "D:\\code\\env\\anaconda\\envs\\mhy-yolo\\Lib\\site-packages\\ultralytics\\utils\\metrics.py:495: UserWarning: Glyph 21830 (\\N{CJK UNIFIED IDEOGRAPH-5546}) missing from current font.\n",
      "  fig.savefig(save_dir, dpi=250)\n",
      "D:\\code\\env\\anaconda\\envs\\mhy-yolo\\Lib\\site-packages\\ultralytics\\utils\\metrics.py:495: UserWarning: Glyph 24215 (\\N{CJK UNIFIED IDEOGRAPH-5E97}) missing from current font.\n",
      "  fig.savefig(save_dir, dpi=250)\n",
      "D:\\code\\env\\anaconda\\envs\\mhy-yolo\\Lib\\site-packages\\ultralytics\\utils\\metrics.py:495: UserWarning: Glyph 25370 (\\N{CJK UNIFIED IDEOGRAPH-631A}) missing from current font.\n",
      "  fig.savefig(save_dir, dpi=250)\n",
      "D:\\code\\env\\anaconda\\envs\\mhy-yolo\\Lib\\site-packages\\ultralytics\\utils\\metrics.py:495: UserWarning: Glyph 20132 (\\N{CJK UNIFIED IDEOGRAPH-4EA4}) missing from current font.\n",
      "  fig.savefig(save_dir, dpi=250)\n",
      "D:\\code\\env\\anaconda\\envs\\mhy-yolo\\Lib\\site-packages\\ultralytics\\utils\\metrics.py:495: UserWarning: Glyph 20250 (\\N{CJK UNIFIED IDEOGRAPH-4F1A}) missing from current font.\n",
      "  fig.savefig(save_dir, dpi=250)\n",
      "D:\\code\\env\\anaconda\\envs\\mhy-yolo\\Lib\\site-packages\\ultralytics\\utils\\metrics.py:495: UserWarning: Glyph 35848 (\\N{CJK UNIFIED IDEOGRAPH-8C08}) missing from current font.\n",
      "  fig.savefig(save_dir, dpi=250)\n",
      "D:\\code\\env\\anaconda\\envs\\mhy-yolo\\Lib\\site-packages\\ultralytics\\utils\\metrics.py:495: UserWarning: Glyph 36947 (\\N{CJK UNIFIED IDEOGRAPH-9053}) missing from current font.\n",
      "  fig.savefig(save_dir, dpi=250)\n",
      "D:\\code\\env\\anaconda\\envs\\mhy-yolo\\Lib\\site-packages\\ultralytics\\utils\\metrics.py:495: UserWarning: Glyph 20013 (\\N{CJK UNIFIED IDEOGRAPH-4E2D}) missing from current font.\n",
      "  fig.savefig(save_dir, dpi=250)\n",
      "D:\\code\\env\\anaconda\\envs\\mhy-yolo\\Lib\\site-packages\\ultralytics\\utils\\metrics.py:495: UserWarning: Glyph 21361 (\\N{CJK UNIFIED IDEOGRAPH-5371}) missing from current font.\n",
      "  fig.savefig(save_dir, dpi=250)\n",
      "D:\\code\\env\\anaconda\\envs\\mhy-yolo\\Lib\\site-packages\\ultralytics\\utils\\metrics.py:495: UserWarning: Glyph 26426 (\\N{CJK UNIFIED IDEOGRAPH-673A}) missing from current font.\n",
      "  fig.savefig(save_dir, dpi=250)\n",
      "D:\\code\\env\\anaconda\\envs\\mhy-yolo\\Lib\\site-packages\\ultralytics\\utils\\metrics.py:495: UserWarning: Glyph 32456 (\\N{CJK UNIFIED IDEOGRAPH-7EC8}) missing from current font.\n",
      "  fig.savefig(save_dir, dpi=250)\n",
      "D:\\code\\env\\anaconda\\envs\\mhy-yolo\\Lib\\site-packages\\ultralytics\\utils\\metrics.py:495: UserWarning: Glyph 32467 (\\N{CJK UNIFIED IDEOGRAPH-7ED3}) missing from current font.\n",
      "  fig.savefig(save_dir, dpi=250)\n",
      "D:\\code\\env\\anaconda\\envs\\mhy-yolo\\Lib\\site-packages\\ultralytics\\utils\\metrics.py:495: UserWarning: Glyph 24441 (\\N{CJK UNIFIED IDEOGRAPH-5F79}) missing from current font.\n",
      "  fig.savefig(save_dir, dpi=250)\n"
     ]
    },
    {
     "name": "stdout",
     "output_type": "stream",
     "text": [
      "                   all        605       1970      0.999          1      0.995      0.995\n"
     ]
    },
    {
     "name": "stderr",
     "output_type": "stream",
     "text": [
      "D:\\code\\env\\anaconda\\envs\\mhy-yolo\\Lib\\site-packages\\ultralytics\\utils\\metrics.py:432: UserWarning: Glyph 24863 (\\N{CJK UNIFIED IDEOGRAPH-611F}) missing from current font.\n",
      "  fig.savefig(plot_fname, dpi=250)\n",
      "D:\\code\\env\\anaconda\\envs\\mhy-yolo\\Lib\\site-packages\\ultralytics\\utils\\metrics.py:432: UserWarning: Glyph 21497 (\\N{CJK UNIFIED IDEOGRAPH-53F9}) missing from current font.\n",
      "  fig.savefig(plot_fname, dpi=250)\n",
      "D:\\code\\env\\anaconda\\envs\\mhy-yolo\\Lib\\site-packages\\ultralytics\\utils\\metrics.py:432: UserWarning: Glyph 21495 (\\N{CJK UNIFIED IDEOGRAPH-53F7}) missing from current font.\n",
      "  fig.savefig(plot_fname, dpi=250)\n",
      "D:\\code\\env\\anaconda\\envs\\mhy-yolo\\Lib\\site-packages\\ultralytics\\utils\\metrics.py:432: UserWarning: Glyph 36317 (\\N{CJK UNIFIED IDEOGRAPH-8DDD}) missing from current font.\n",
      "  fig.savefig(plot_fname, dpi=250)\n",
      "D:\\code\\env\\anaconda\\envs\\mhy-yolo\\Lib\\site-packages\\ultralytics\\utils\\metrics.py:432: UserWarning: Glyph 31163 (\\N{CJK UNIFIED IDEOGRAPH-79BB}) missing from current font.\n",
      "  fig.savefig(plot_fname, dpi=250)\n",
      "D:\\code\\env\\anaconda\\envs\\mhy-yolo\\Lib\\site-packages\\ultralytics\\utils\\metrics.py:432: UserWarning: Glyph 25112 (\\N{CJK UNIFIED IDEOGRAPH-6218}) missing from current font.\n",
      "  fig.savefig(plot_fname, dpi=250)\n",
      "D:\\code\\env\\anaconda\\envs\\mhy-yolo\\Lib\\site-packages\\ultralytics\\utils\\metrics.py:432: UserWarning: Glyph 26007 (\\N{CJK UNIFIED IDEOGRAPH-6597}) missing from current font.\n",
      "  fig.savefig(plot_fname, dpi=250)\n",
      "D:\\code\\env\\anaconda\\envs\\mhy-yolo\\Lib\\site-packages\\ultralytics\\utils\\metrics.py:432: UserWarning: Glyph 40483 (\\N{CJK UNIFIED IDEOGRAPH-9E23}) missing from current font.\n",
      "  fig.savefig(plot_fname, dpi=250)\n",
      "D:\\code\\env\\anaconda\\envs\\mhy-yolo\\Lib\\site-packages\\ultralytics\\utils\\metrics.py:432: UserWarning: Glyph 24509 (\\N{CJK UNIFIED IDEOGRAPH-5FBD}) missing from current font.\n",
      "  fig.savefig(plot_fname, dpi=250)\n",
      "D:\\code\\env\\anaconda\\envs\\mhy-yolo\\Lib\\site-packages\\ultralytics\\utils\\metrics.py:432: UserWarning: Glyph 27494 (\\N{CJK UNIFIED IDEOGRAPH-6B66}) missing from current font.\n",
      "  fig.savefig(plot_fname, dpi=250)\n",
      "D:\\code\\env\\anaconda\\envs\\mhy-yolo\\Lib\\site-packages\\ultralytics\\utils\\metrics.py:432: UserWarning: Glyph 22791 (\\N{CJK UNIFIED IDEOGRAPH-5907}) missing from current font.\n",
      "  fig.savefig(plot_fname, dpi=250)\n",
      "D:\\code\\env\\anaconda\\envs\\mhy-yolo\\Lib\\site-packages\\ultralytics\\utils\\metrics.py:432: UserWarning: Glyph 30828 (\\N{CJK UNIFIED IDEOGRAPH-786C}) missing from current font.\n",
      "  fig.savefig(plot_fname, dpi=250)\n",
      "D:\\code\\env\\anaconda\\envs\\mhy-yolo\\Lib\\site-packages\\ultralytics\\utils\\metrics.py:432: UserWarning: Glyph 24065 (\\N{CJK UNIFIED IDEOGRAPH-5E01}) missing from current font.\n",
      "  fig.savefig(plot_fname, dpi=250)\n",
      "D:\\code\\env\\anaconda\\envs\\mhy-yolo\\Lib\\site-packages\\ultralytics\\utils\\metrics.py:432: UserWarning: Glyph 25361 (\\N{CJK UNIFIED IDEOGRAPH-6311}) missing from current font.\n",
      "  fig.savefig(plot_fname, dpi=250)\n",
      "D:\\code\\env\\anaconda\\envs\\mhy-yolo\\Lib\\site-packages\\ultralytics\\utils\\metrics.py:432: UserWarning: Glyph 26080 (\\N{CJK UNIFIED IDEOGRAPH-65E0}) missing from current font.\n",
      "  fig.savefig(plot_fname, dpi=250)\n",
      "D:\\code\\env\\anaconda\\envs\\mhy-yolo\\Lib\\site-packages\\ultralytics\\utils\\metrics.py:432: UserWarning: Glyph 20260 (\\N{CJK UNIFIED IDEOGRAPH-4F24}) missing from current font.\n",
      "  fig.savefig(plot_fname, dpi=250)\n",
      "D:\\code\\env\\anaconda\\envs\\mhy-yolo\\Lib\\site-packages\\ultralytics\\utils\\metrics.py:432: UserWarning: Glyph 38480 (\\N{CJK UNIFIED IDEOGRAPH-9650}) missing from current font.\n",
      "  fig.savefig(plot_fname, dpi=250)\n",
      "D:\\code\\env\\anaconda\\envs\\mhy-yolo\\Lib\\site-packages\\ultralytics\\utils\\metrics.py:432: UserWarning: Glyph 26102 (\\N{CJK UNIFIED IDEOGRAPH-65F6}) missing from current font.\n",
      "  fig.savefig(plot_fname, dpi=250)\n",
      "D:\\code\\env\\anaconda\\envs\\mhy-yolo\\Lib\\site-packages\\ultralytics\\utils\\metrics.py:432: UserWarning: Glyph 20598 (\\N{CJK UNIFIED IDEOGRAPH-5076}) missing from current font.\n",
      "  fig.savefig(plot_fname, dpi=250)\n",
      "D:\\code\\env\\anaconda\\envs\\mhy-yolo\\Lib\\site-packages\\ultralytics\\utils\\metrics.py:432: UserWarning: Glyph 36935 (\\N{CJK UNIFIED IDEOGRAPH-9047}) missing from current font.\n",
      "  fig.savefig(plot_fname, dpi=250)\n",
      "D:\\code\\env\\anaconda\\envs\\mhy-yolo\\Lib\\site-packages\\ultralytics\\utils\\metrics.py:432: UserWarning: Glyph 20107 (\\N{CJK UNIFIED IDEOGRAPH-4E8B}) missing from current font.\n",
      "  fig.savefig(plot_fname, dpi=250)\n",
      "D:\\code\\env\\anaconda\\envs\\mhy-yolo\\Lib\\site-packages\\ultralytics\\utils\\metrics.py:432: UserWarning: Glyph 20214 (\\N{CJK UNIFIED IDEOGRAPH-4EF6}) missing from current font.\n",
      "  fig.savefig(plot_fname, dpi=250)\n",
      "D:\\code\\env\\anaconda\\envs\\mhy-yolo\\Lib\\site-packages\\ultralytics\\utils\\metrics.py:432: UserWarning: Glyph 20195 (\\N{CJK UNIFIED IDEOGRAPH-4EE3}) missing from current font.\n",
      "  fig.savefig(plot_fname, dpi=250)\n",
      "D:\\code\\env\\anaconda\\envs\\mhy-yolo\\Lib\\site-packages\\ultralytics\\utils\\metrics.py:432: UserWarning: Glyph 20215 (\\N{CJK UNIFIED IDEOGRAPH-4EF7}) missing from current font.\n",
      "  fig.savefig(plot_fname, dpi=250)\n",
      "D:\\code\\env\\anaconda\\envs\\mhy-yolo\\Lib\\site-packages\\ultralytics\\utils\\metrics.py:432: UserWarning: Glyph 20043 (\\N{CJK UNIFIED IDEOGRAPH-4E4B}) missing from current font.\n",
      "  fig.savefig(plot_fname, dpi=250)\n",
      "D:\\code\\env\\anaconda\\envs\\mhy-yolo\\Lib\\site-packages\\ultralytics\\utils\\metrics.py:432: UserWarning: Glyph 38388 (\\N{CJK UNIFIED IDEOGRAPH-95F4}) missing from current font.\n",
      "  fig.savefig(plot_fname, dpi=250)\n",
      "D:\\code\\env\\anaconda\\envs\\mhy-yolo\\Lib\\site-packages\\ultralytics\\utils\\metrics.py:432: UserWarning: Glyph 20241 (\\N{CJK UNIFIED IDEOGRAPH-4F11}) missing from current font.\n",
      "  fig.savefig(plot_fname, dpi=250)\n",
      "D:\\code\\env\\anaconda\\envs\\mhy-yolo\\Lib\\site-packages\\ultralytics\\utils\\metrics.py:432: UserWarning: Glyph 25001 (\\N{CJK UNIFIED IDEOGRAPH-61A9}) missing from current font.\n",
      "  fig.savefig(plot_fname, dpi=250)\n",
      "D:\\code\\env\\anaconda\\envs\\mhy-yolo\\Lib\\site-packages\\ultralytics\\utils\\metrics.py:432: UserWarning: Glyph 35843 (\\N{CJK UNIFIED IDEOGRAPH-8C03}) missing from current font.\n",
      "  fig.savefig(plot_fname, dpi=250)\n",
      "D:\\code\\env\\anaconda\\envs\\mhy-yolo\\Lib\\site-packages\\ultralytics\\utils\\metrics.py:432: UserWarning: Glyph 24687 (\\N{CJK UNIFIED IDEOGRAPH-606F}) missing from current font.\n",
      "  fig.savefig(plot_fname, dpi=250)\n",
      "D:\\code\\env\\anaconda\\envs\\mhy-yolo\\Lib\\site-packages\\ultralytics\\utils\\metrics.py:432: UserWarning: Glyph 37030 (\\N{CJK UNIFIED IDEOGRAPH-90A6}) missing from current font.\n",
      "  fig.savefig(plot_fname, dpi=250)\n",
      "D:\\code\\env\\anaconda\\envs\\mhy-yolo\\Lib\\site-packages\\ultralytics\\utils\\metrics.py:432: UserWarning: Glyph 24067 (\\N{CJK UNIFIED IDEOGRAPH-5E03}) missing from current font.\n",
      "  fig.savefig(plot_fname, dpi=250)\n",
      "D:\\code\\env\\anaconda\\envs\\mhy-yolo\\Lib\\site-packages\\ultralytics\\utils\\metrics.py:432: UserWarning: Glyph 21830 (\\N{CJK UNIFIED IDEOGRAPH-5546}) missing from current font.\n",
      "  fig.savefig(plot_fname, dpi=250)\n",
      "D:\\code\\env\\anaconda\\envs\\mhy-yolo\\Lib\\site-packages\\ultralytics\\utils\\metrics.py:432: UserWarning: Glyph 24215 (\\N{CJK UNIFIED IDEOGRAPH-5E97}) missing from current font.\n",
      "  fig.savefig(plot_fname, dpi=250)\n",
      "D:\\code\\env\\anaconda\\envs\\mhy-yolo\\Lib\\site-packages\\ultralytics\\utils\\metrics.py:432: UserWarning: Glyph 25370 (\\N{CJK UNIFIED IDEOGRAPH-631A}) missing from current font.\n",
      "  fig.savefig(plot_fname, dpi=250)\n",
      "D:\\code\\env\\anaconda\\envs\\mhy-yolo\\Lib\\site-packages\\ultralytics\\utils\\metrics.py:432: UserWarning: Glyph 20132 (\\N{CJK UNIFIED IDEOGRAPH-4EA4}) missing from current font.\n",
      "  fig.savefig(plot_fname, dpi=250)\n",
      "D:\\code\\env\\anaconda\\envs\\mhy-yolo\\Lib\\site-packages\\ultralytics\\utils\\metrics.py:432: UserWarning: Glyph 20250 (\\N{CJK UNIFIED IDEOGRAPH-4F1A}) missing from current font.\n",
      "  fig.savefig(plot_fname, dpi=250)\n",
      "D:\\code\\env\\anaconda\\envs\\mhy-yolo\\Lib\\site-packages\\ultralytics\\utils\\metrics.py:432: UserWarning: Glyph 35848 (\\N{CJK UNIFIED IDEOGRAPH-8C08}) missing from current font.\n",
      "  fig.savefig(plot_fname, dpi=250)\n",
      "D:\\code\\env\\anaconda\\envs\\mhy-yolo\\Lib\\site-packages\\ultralytics\\utils\\metrics.py:432: UserWarning: Glyph 36947 (\\N{CJK UNIFIED IDEOGRAPH-9053}) missing from current font.\n",
      "  fig.savefig(plot_fname, dpi=250)\n",
      "D:\\code\\env\\anaconda\\envs\\mhy-yolo\\Lib\\site-packages\\ultralytics\\utils\\metrics.py:432: UserWarning: Glyph 20013 (\\N{CJK UNIFIED IDEOGRAPH-4E2D}) missing from current font.\n",
      "  fig.savefig(plot_fname, dpi=250)\n",
      "D:\\code\\env\\anaconda\\envs\\mhy-yolo\\Lib\\site-packages\\ultralytics\\utils\\metrics.py:432: UserWarning: Glyph 21361 (\\N{CJK UNIFIED IDEOGRAPH-5371}) missing from current font.\n",
      "  fig.savefig(plot_fname, dpi=250)\n",
      "D:\\code\\env\\anaconda\\envs\\mhy-yolo\\Lib\\site-packages\\ultralytics\\utils\\metrics.py:432: UserWarning: Glyph 26426 (\\N{CJK UNIFIED IDEOGRAPH-673A}) missing from current font.\n",
      "  fig.savefig(plot_fname, dpi=250)\n",
      "D:\\code\\env\\anaconda\\envs\\mhy-yolo\\Lib\\site-packages\\ultralytics\\utils\\metrics.py:432: UserWarning: Glyph 32456 (\\N{CJK UNIFIED IDEOGRAPH-7EC8}) missing from current font.\n",
      "  fig.savefig(plot_fname, dpi=250)\n",
      "D:\\code\\env\\anaconda\\envs\\mhy-yolo\\Lib\\site-packages\\ultralytics\\utils\\metrics.py:432: UserWarning: Glyph 32467 (\\N{CJK UNIFIED IDEOGRAPH-7ED3}) missing from current font.\n",
      "  fig.savefig(plot_fname, dpi=250)\n",
      "D:\\code\\env\\anaconda\\envs\\mhy-yolo\\Lib\\site-packages\\ultralytics\\utils\\metrics.py:432: UserWarning: Glyph 24441 (\\N{CJK UNIFIED IDEOGRAPH-5F79}) missing from current font.\n",
      "  fig.savefig(plot_fname, dpi=250)\n",
      "D:\\code\\env\\anaconda\\envs\\mhy-yolo\\Lib\\site-packages\\ultralytics\\utils\\metrics.py:432: UserWarning: Glyph 24863 (\\N{CJK UNIFIED IDEOGRAPH-611F}) missing from current font.\n",
      "  fig.savefig(plot_fname, dpi=250)\n",
      "D:\\code\\env\\anaconda\\envs\\mhy-yolo\\Lib\\site-packages\\ultralytics\\utils\\metrics.py:432: UserWarning: Glyph 21497 (\\N{CJK UNIFIED IDEOGRAPH-53F9}) missing from current font.\n",
      "  fig.savefig(plot_fname, dpi=250)\n",
      "D:\\code\\env\\anaconda\\envs\\mhy-yolo\\Lib\\site-packages\\ultralytics\\utils\\metrics.py:432: UserWarning: Glyph 21495 (\\N{CJK UNIFIED IDEOGRAPH-53F7}) missing from current font.\n",
      "  fig.savefig(plot_fname, dpi=250)\n",
      "D:\\code\\env\\anaconda\\envs\\mhy-yolo\\Lib\\site-packages\\ultralytics\\utils\\metrics.py:432: UserWarning: Glyph 36317 (\\N{CJK UNIFIED IDEOGRAPH-8DDD}) missing from current font.\n",
      "  fig.savefig(plot_fname, dpi=250)\n",
      "D:\\code\\env\\anaconda\\envs\\mhy-yolo\\Lib\\site-packages\\ultralytics\\utils\\metrics.py:432: UserWarning: Glyph 31163 (\\N{CJK UNIFIED IDEOGRAPH-79BB}) missing from current font.\n",
      "  fig.savefig(plot_fname, dpi=250)\n",
      "D:\\code\\env\\anaconda\\envs\\mhy-yolo\\Lib\\site-packages\\ultralytics\\utils\\metrics.py:432: UserWarning: Glyph 25112 (\\N{CJK UNIFIED IDEOGRAPH-6218}) missing from current font.\n",
      "  fig.savefig(plot_fname, dpi=250)\n",
      "D:\\code\\env\\anaconda\\envs\\mhy-yolo\\Lib\\site-packages\\ultralytics\\utils\\metrics.py:432: UserWarning: Glyph 26007 (\\N{CJK UNIFIED IDEOGRAPH-6597}) missing from current font.\n",
      "  fig.savefig(plot_fname, dpi=250)\n",
      "D:\\code\\env\\anaconda\\envs\\mhy-yolo\\Lib\\site-packages\\ultralytics\\utils\\metrics.py:432: UserWarning: Glyph 40483 (\\N{CJK UNIFIED IDEOGRAPH-9E23}) missing from current font.\n",
      "  fig.savefig(plot_fname, dpi=250)\n",
      "D:\\code\\env\\anaconda\\envs\\mhy-yolo\\Lib\\site-packages\\ultralytics\\utils\\metrics.py:432: UserWarning: Glyph 24509 (\\N{CJK UNIFIED IDEOGRAPH-5FBD}) missing from current font.\n",
      "  fig.savefig(plot_fname, dpi=250)\n",
      "D:\\code\\env\\anaconda\\envs\\mhy-yolo\\Lib\\site-packages\\ultralytics\\utils\\metrics.py:432: UserWarning: Glyph 27494 (\\N{CJK UNIFIED IDEOGRAPH-6B66}) missing from current font.\n",
      "  fig.savefig(plot_fname, dpi=250)\n",
      "D:\\code\\env\\anaconda\\envs\\mhy-yolo\\Lib\\site-packages\\ultralytics\\utils\\metrics.py:432: UserWarning: Glyph 22791 (\\N{CJK UNIFIED IDEOGRAPH-5907}) missing from current font.\n",
      "  fig.savefig(plot_fname, dpi=250)\n",
      "D:\\code\\env\\anaconda\\envs\\mhy-yolo\\Lib\\site-packages\\ultralytics\\utils\\metrics.py:432: UserWarning: Glyph 30828 (\\N{CJK UNIFIED IDEOGRAPH-786C}) missing from current font.\n",
      "  fig.savefig(plot_fname, dpi=250)\n",
      "D:\\code\\env\\anaconda\\envs\\mhy-yolo\\Lib\\site-packages\\ultralytics\\utils\\metrics.py:432: UserWarning: Glyph 24065 (\\N{CJK UNIFIED IDEOGRAPH-5E01}) missing from current font.\n",
      "  fig.savefig(plot_fname, dpi=250)\n",
      "D:\\code\\env\\anaconda\\envs\\mhy-yolo\\Lib\\site-packages\\ultralytics\\utils\\metrics.py:432: UserWarning: Glyph 25361 (\\N{CJK UNIFIED IDEOGRAPH-6311}) missing from current font.\n",
      "  fig.savefig(plot_fname, dpi=250)\n",
      "D:\\code\\env\\anaconda\\envs\\mhy-yolo\\Lib\\site-packages\\ultralytics\\utils\\metrics.py:432: UserWarning: Glyph 26080 (\\N{CJK UNIFIED IDEOGRAPH-65E0}) missing from current font.\n",
      "  fig.savefig(plot_fname, dpi=250)\n",
      "D:\\code\\env\\anaconda\\envs\\mhy-yolo\\Lib\\site-packages\\ultralytics\\utils\\metrics.py:432: UserWarning: Glyph 20260 (\\N{CJK UNIFIED IDEOGRAPH-4F24}) missing from current font.\n",
      "  fig.savefig(plot_fname, dpi=250)\n",
      "D:\\code\\env\\anaconda\\envs\\mhy-yolo\\Lib\\site-packages\\ultralytics\\utils\\metrics.py:432: UserWarning: Glyph 38480 (\\N{CJK UNIFIED IDEOGRAPH-9650}) missing from current font.\n",
      "  fig.savefig(plot_fname, dpi=250)\n",
      "D:\\code\\env\\anaconda\\envs\\mhy-yolo\\Lib\\site-packages\\ultralytics\\utils\\metrics.py:432: UserWarning: Glyph 26102 (\\N{CJK UNIFIED IDEOGRAPH-65F6}) missing from current font.\n",
      "  fig.savefig(plot_fname, dpi=250)\n",
      "D:\\code\\env\\anaconda\\envs\\mhy-yolo\\Lib\\site-packages\\ultralytics\\utils\\metrics.py:432: UserWarning: Glyph 20598 (\\N{CJK UNIFIED IDEOGRAPH-5076}) missing from current font.\n",
      "  fig.savefig(plot_fname, dpi=250)\n",
      "D:\\code\\env\\anaconda\\envs\\mhy-yolo\\Lib\\site-packages\\ultralytics\\utils\\metrics.py:432: UserWarning: Glyph 36935 (\\N{CJK UNIFIED IDEOGRAPH-9047}) missing from current font.\n",
      "  fig.savefig(plot_fname, dpi=250)\n",
      "D:\\code\\env\\anaconda\\envs\\mhy-yolo\\Lib\\site-packages\\ultralytics\\utils\\metrics.py:432: UserWarning: Glyph 20107 (\\N{CJK UNIFIED IDEOGRAPH-4E8B}) missing from current font.\n",
      "  fig.savefig(plot_fname, dpi=250)\n",
      "D:\\code\\env\\anaconda\\envs\\mhy-yolo\\Lib\\site-packages\\ultralytics\\utils\\metrics.py:432: UserWarning: Glyph 20214 (\\N{CJK UNIFIED IDEOGRAPH-4EF6}) missing from current font.\n",
      "  fig.savefig(plot_fname, dpi=250)\n",
      "D:\\code\\env\\anaconda\\envs\\mhy-yolo\\Lib\\site-packages\\ultralytics\\utils\\metrics.py:432: UserWarning: Glyph 20195 (\\N{CJK UNIFIED IDEOGRAPH-4EE3}) missing from current font.\n",
      "  fig.savefig(plot_fname, dpi=250)\n",
      "D:\\code\\env\\anaconda\\envs\\mhy-yolo\\Lib\\site-packages\\ultralytics\\utils\\metrics.py:432: UserWarning: Glyph 20215 (\\N{CJK UNIFIED IDEOGRAPH-4EF7}) missing from current font.\n",
      "  fig.savefig(plot_fname, dpi=250)\n",
      "D:\\code\\env\\anaconda\\envs\\mhy-yolo\\Lib\\site-packages\\ultralytics\\utils\\metrics.py:432: UserWarning: Glyph 20043 (\\N{CJK UNIFIED IDEOGRAPH-4E4B}) missing from current font.\n",
      "  fig.savefig(plot_fname, dpi=250)\n",
      "D:\\code\\env\\anaconda\\envs\\mhy-yolo\\Lib\\site-packages\\ultralytics\\utils\\metrics.py:432: UserWarning: Glyph 38388 (\\N{CJK UNIFIED IDEOGRAPH-95F4}) missing from current font.\n",
      "  fig.savefig(plot_fname, dpi=250)\n",
      "D:\\code\\env\\anaconda\\envs\\mhy-yolo\\Lib\\site-packages\\ultralytics\\utils\\metrics.py:432: UserWarning: Glyph 20241 (\\N{CJK UNIFIED IDEOGRAPH-4F11}) missing from current font.\n",
      "  fig.savefig(plot_fname, dpi=250)\n",
      "D:\\code\\env\\anaconda\\envs\\mhy-yolo\\Lib\\site-packages\\ultralytics\\utils\\metrics.py:432: UserWarning: Glyph 25001 (\\N{CJK UNIFIED IDEOGRAPH-61A9}) missing from current font.\n",
      "  fig.savefig(plot_fname, dpi=250)\n",
      "D:\\code\\env\\anaconda\\envs\\mhy-yolo\\Lib\\site-packages\\ultralytics\\utils\\metrics.py:432: UserWarning: Glyph 35843 (\\N{CJK UNIFIED IDEOGRAPH-8C03}) missing from current font.\n",
      "  fig.savefig(plot_fname, dpi=250)\n",
      "D:\\code\\env\\anaconda\\envs\\mhy-yolo\\Lib\\site-packages\\ultralytics\\utils\\metrics.py:432: UserWarning: Glyph 24687 (\\N{CJK UNIFIED IDEOGRAPH-606F}) missing from current font.\n",
      "  fig.savefig(plot_fname, dpi=250)\n",
      "D:\\code\\env\\anaconda\\envs\\mhy-yolo\\Lib\\site-packages\\ultralytics\\utils\\metrics.py:432: UserWarning: Glyph 37030 (\\N{CJK UNIFIED IDEOGRAPH-90A6}) missing from current font.\n",
      "  fig.savefig(plot_fname, dpi=250)\n",
      "D:\\code\\env\\anaconda\\envs\\mhy-yolo\\Lib\\site-packages\\ultralytics\\utils\\metrics.py:432: UserWarning: Glyph 24067 (\\N{CJK UNIFIED IDEOGRAPH-5E03}) missing from current font.\n",
      "  fig.savefig(plot_fname, dpi=250)\n",
      "D:\\code\\env\\anaconda\\envs\\mhy-yolo\\Lib\\site-packages\\ultralytics\\utils\\metrics.py:432: UserWarning: Glyph 21830 (\\N{CJK UNIFIED IDEOGRAPH-5546}) missing from current font.\n",
      "  fig.savefig(plot_fname, dpi=250)\n",
      "D:\\code\\env\\anaconda\\envs\\mhy-yolo\\Lib\\site-packages\\ultralytics\\utils\\metrics.py:432: UserWarning: Glyph 24215 (\\N{CJK UNIFIED IDEOGRAPH-5E97}) missing from current font.\n",
      "  fig.savefig(plot_fname, dpi=250)\n",
      "D:\\code\\env\\anaconda\\envs\\mhy-yolo\\Lib\\site-packages\\ultralytics\\utils\\metrics.py:432: UserWarning: Glyph 25370 (\\N{CJK UNIFIED IDEOGRAPH-631A}) missing from current font.\n",
      "  fig.savefig(plot_fname, dpi=250)\n",
      "D:\\code\\env\\anaconda\\envs\\mhy-yolo\\Lib\\site-packages\\ultralytics\\utils\\metrics.py:432: UserWarning: Glyph 20132 (\\N{CJK UNIFIED IDEOGRAPH-4EA4}) missing from current font.\n",
      "  fig.savefig(plot_fname, dpi=250)\n",
      "D:\\code\\env\\anaconda\\envs\\mhy-yolo\\Lib\\site-packages\\ultralytics\\utils\\metrics.py:432: UserWarning: Glyph 20250 (\\N{CJK UNIFIED IDEOGRAPH-4F1A}) missing from current font.\n",
      "  fig.savefig(plot_fname, dpi=250)\n",
      "D:\\code\\env\\anaconda\\envs\\mhy-yolo\\Lib\\site-packages\\ultralytics\\utils\\metrics.py:432: UserWarning: Glyph 35848 (\\N{CJK UNIFIED IDEOGRAPH-8C08}) missing from current font.\n",
      "  fig.savefig(plot_fname, dpi=250)\n",
      "D:\\code\\env\\anaconda\\envs\\mhy-yolo\\Lib\\site-packages\\ultralytics\\utils\\metrics.py:432: UserWarning: Glyph 36947 (\\N{CJK UNIFIED IDEOGRAPH-9053}) missing from current font.\n",
      "  fig.savefig(plot_fname, dpi=250)\n",
      "D:\\code\\env\\anaconda\\envs\\mhy-yolo\\Lib\\site-packages\\ultralytics\\utils\\metrics.py:432: UserWarning: Glyph 20013 (\\N{CJK UNIFIED IDEOGRAPH-4E2D}) missing from current font.\n",
      "  fig.savefig(plot_fname, dpi=250)\n",
      "D:\\code\\env\\anaconda\\envs\\mhy-yolo\\Lib\\site-packages\\ultralytics\\utils\\metrics.py:432: UserWarning: Glyph 21361 (\\N{CJK UNIFIED IDEOGRAPH-5371}) missing from current font.\n",
      "  fig.savefig(plot_fname, dpi=250)\n",
      "D:\\code\\env\\anaconda\\envs\\mhy-yolo\\Lib\\site-packages\\ultralytics\\utils\\metrics.py:432: UserWarning: Glyph 26426 (\\N{CJK UNIFIED IDEOGRAPH-673A}) missing from current font.\n",
      "  fig.savefig(plot_fname, dpi=250)\n",
      "D:\\code\\env\\anaconda\\envs\\mhy-yolo\\Lib\\site-packages\\ultralytics\\utils\\metrics.py:432: UserWarning: Glyph 32456 (\\N{CJK UNIFIED IDEOGRAPH-7EC8}) missing from current font.\n",
      "  fig.savefig(plot_fname, dpi=250)\n",
      "D:\\code\\env\\anaconda\\envs\\mhy-yolo\\Lib\\site-packages\\ultralytics\\utils\\metrics.py:432: UserWarning: Glyph 32467 (\\N{CJK UNIFIED IDEOGRAPH-7ED3}) missing from current font.\n",
      "  fig.savefig(plot_fname, dpi=250)\n",
      "D:\\code\\env\\anaconda\\envs\\mhy-yolo\\Lib\\site-packages\\ultralytics\\utils\\metrics.py:432: UserWarning: Glyph 24441 (\\N{CJK UNIFIED IDEOGRAPH-5F79}) missing from current font.\n",
      "  fig.savefig(plot_fname, dpi=250)\n"
     ]
    },
    {
     "name": "stdout",
     "output_type": "stream",
     "text": [
      "\n",
      "1000 epochs completed in 1.534 hours.\n",
      "Optimizer stripped from D:\\code\\workspace\\OneDragon-YOLO\\ultralytics\\runs\\zzz_lost_void_det_2208\\yolov8n-736\\weights\\last.pt, 6.0MB\n",
      "Optimizer stripped from D:\\code\\workspace\\OneDragon-YOLO\\ultralytics\\runs\\zzz_lost_void_det_2208\\yolov8n-736\\weights\\best.pt, 6.0MB\n",
      "\n",
      "Validating D:\\code\\workspace\\OneDragon-YOLO\\ultralytics\\runs\\zzz_lost_void_det_2208\\yolov8n-736\\weights\\best.pt...\n",
      "Ultralytics 8.3.1  Python-3.11.9 torch-2.3.1 CUDA:0 (NVIDIA GeForce RTX 4070 Ti, 12282MiB)\n",
      "Model summary (fused): 186 layers, 2,687,098 parameters, 0 gradients, 6.8 GFLOPs\n"
     ]
    },
    {
     "name": "stderr",
     "output_type": "stream",
     "text": [
      "                 Class     Images  Instances      Box(P          R      mAP50  mAP50-95): 100%|██████████| 11/11 [00:04<00:00,  2.38it/s]\n",
      "D:\\code\\env\\anaconda\\envs\\mhy-yolo\\Lib\\site-packages\\ultralytics\\utils\\metrics.py:470: UserWarning: Glyph 24863 (\\N{CJK UNIFIED IDEOGRAPH-611F}) missing from current font.\n",
      "  fig.savefig(save_dir, dpi=250)\n",
      "D:\\code\\env\\anaconda\\envs\\mhy-yolo\\Lib\\site-packages\\ultralytics\\utils\\metrics.py:470: UserWarning: Glyph 21497 (\\N{CJK UNIFIED IDEOGRAPH-53F9}) missing from current font.\n",
      "  fig.savefig(save_dir, dpi=250)\n",
      "D:\\code\\env\\anaconda\\envs\\mhy-yolo\\Lib\\site-packages\\ultralytics\\utils\\metrics.py:470: UserWarning: Glyph 21495 (\\N{CJK UNIFIED IDEOGRAPH-53F7}) missing from current font.\n",
      "  fig.savefig(save_dir, dpi=250)\n",
      "D:\\code\\env\\anaconda\\envs\\mhy-yolo\\Lib\\site-packages\\ultralytics\\utils\\metrics.py:470: UserWarning: Glyph 36317 (\\N{CJK UNIFIED IDEOGRAPH-8DDD}) missing from current font.\n",
      "  fig.savefig(save_dir, dpi=250)\n",
      "D:\\code\\env\\anaconda\\envs\\mhy-yolo\\Lib\\site-packages\\ultralytics\\utils\\metrics.py:470: UserWarning: Glyph 31163 (\\N{CJK UNIFIED IDEOGRAPH-79BB}) missing from current font.\n",
      "  fig.savefig(save_dir, dpi=250)\n",
      "D:\\code\\env\\anaconda\\envs\\mhy-yolo\\Lib\\site-packages\\ultralytics\\utils\\metrics.py:470: UserWarning: Glyph 25112 (\\N{CJK UNIFIED IDEOGRAPH-6218}) missing from current font.\n",
      "  fig.savefig(save_dir, dpi=250)\n",
      "D:\\code\\env\\anaconda\\envs\\mhy-yolo\\Lib\\site-packages\\ultralytics\\utils\\metrics.py:470: UserWarning: Glyph 26007 (\\N{CJK UNIFIED IDEOGRAPH-6597}) missing from current font.\n",
      "  fig.savefig(save_dir, dpi=250)\n",
      "D:\\code\\env\\anaconda\\envs\\mhy-yolo\\Lib\\site-packages\\ultralytics\\utils\\metrics.py:470: UserWarning: Glyph 40483 (\\N{CJK UNIFIED IDEOGRAPH-9E23}) missing from current font.\n",
      "  fig.savefig(save_dir, dpi=250)\n",
      "D:\\code\\env\\anaconda\\envs\\mhy-yolo\\Lib\\site-packages\\ultralytics\\utils\\metrics.py:470: UserWarning: Glyph 24509 (\\N{CJK UNIFIED IDEOGRAPH-5FBD}) missing from current font.\n",
      "  fig.savefig(save_dir, dpi=250)\n",
      "D:\\code\\env\\anaconda\\envs\\mhy-yolo\\Lib\\site-packages\\ultralytics\\utils\\metrics.py:470: UserWarning: Glyph 27494 (\\N{CJK UNIFIED IDEOGRAPH-6B66}) missing from current font.\n",
      "  fig.savefig(save_dir, dpi=250)\n",
      "D:\\code\\env\\anaconda\\envs\\mhy-yolo\\Lib\\site-packages\\ultralytics\\utils\\metrics.py:470: UserWarning: Glyph 22791 (\\N{CJK UNIFIED IDEOGRAPH-5907}) missing from current font.\n",
      "  fig.savefig(save_dir, dpi=250)\n",
      "D:\\code\\env\\anaconda\\envs\\mhy-yolo\\Lib\\site-packages\\ultralytics\\utils\\metrics.py:470: UserWarning: Glyph 30828 (\\N{CJK UNIFIED IDEOGRAPH-786C}) missing from current font.\n",
      "  fig.savefig(save_dir, dpi=250)\n",
      "D:\\code\\env\\anaconda\\envs\\mhy-yolo\\Lib\\site-packages\\ultralytics\\utils\\metrics.py:470: UserWarning: Glyph 24065 (\\N{CJK UNIFIED IDEOGRAPH-5E01}) missing from current font.\n",
      "  fig.savefig(save_dir, dpi=250)\n",
      "D:\\code\\env\\anaconda\\envs\\mhy-yolo\\Lib\\site-packages\\ultralytics\\utils\\metrics.py:470: UserWarning: Glyph 25361 (\\N{CJK UNIFIED IDEOGRAPH-6311}) missing from current font.\n",
      "  fig.savefig(save_dir, dpi=250)\n",
      "D:\\code\\env\\anaconda\\envs\\mhy-yolo\\Lib\\site-packages\\ultralytics\\utils\\metrics.py:470: UserWarning: Glyph 26080 (\\N{CJK UNIFIED IDEOGRAPH-65E0}) missing from current font.\n",
      "  fig.savefig(save_dir, dpi=250)\n",
      "D:\\code\\env\\anaconda\\envs\\mhy-yolo\\Lib\\site-packages\\ultralytics\\utils\\metrics.py:470: UserWarning: Glyph 20260 (\\N{CJK UNIFIED IDEOGRAPH-4F24}) missing from current font.\n",
      "  fig.savefig(save_dir, dpi=250)\n",
      "D:\\code\\env\\anaconda\\envs\\mhy-yolo\\Lib\\site-packages\\ultralytics\\utils\\metrics.py:470: UserWarning: Glyph 38480 (\\N{CJK UNIFIED IDEOGRAPH-9650}) missing from current font.\n",
      "  fig.savefig(save_dir, dpi=250)\n",
      "D:\\code\\env\\anaconda\\envs\\mhy-yolo\\Lib\\site-packages\\ultralytics\\utils\\metrics.py:470: UserWarning: Glyph 26102 (\\N{CJK UNIFIED IDEOGRAPH-65F6}) missing from current font.\n",
      "  fig.savefig(save_dir, dpi=250)\n",
      "D:\\code\\env\\anaconda\\envs\\mhy-yolo\\Lib\\site-packages\\ultralytics\\utils\\metrics.py:470: UserWarning: Glyph 20598 (\\N{CJK UNIFIED IDEOGRAPH-5076}) missing from current font.\n",
      "  fig.savefig(save_dir, dpi=250)\n",
      "D:\\code\\env\\anaconda\\envs\\mhy-yolo\\Lib\\site-packages\\ultralytics\\utils\\metrics.py:470: UserWarning: Glyph 36935 (\\N{CJK UNIFIED IDEOGRAPH-9047}) missing from current font.\n",
      "  fig.savefig(save_dir, dpi=250)\n",
      "D:\\code\\env\\anaconda\\envs\\mhy-yolo\\Lib\\site-packages\\ultralytics\\utils\\metrics.py:470: UserWarning: Glyph 20107 (\\N{CJK UNIFIED IDEOGRAPH-4E8B}) missing from current font.\n",
      "  fig.savefig(save_dir, dpi=250)\n",
      "D:\\code\\env\\anaconda\\envs\\mhy-yolo\\Lib\\site-packages\\ultralytics\\utils\\metrics.py:470: UserWarning: Glyph 20214 (\\N{CJK UNIFIED IDEOGRAPH-4EF6}) missing from current font.\n",
      "  fig.savefig(save_dir, dpi=250)\n",
      "D:\\code\\env\\anaconda\\envs\\mhy-yolo\\Lib\\site-packages\\ultralytics\\utils\\metrics.py:470: UserWarning: Glyph 20195 (\\N{CJK UNIFIED IDEOGRAPH-4EE3}) missing from current font.\n",
      "  fig.savefig(save_dir, dpi=250)\n",
      "D:\\code\\env\\anaconda\\envs\\mhy-yolo\\Lib\\site-packages\\ultralytics\\utils\\metrics.py:470: UserWarning: Glyph 20215 (\\N{CJK UNIFIED IDEOGRAPH-4EF7}) missing from current font.\n",
      "  fig.savefig(save_dir, dpi=250)\n",
      "D:\\code\\env\\anaconda\\envs\\mhy-yolo\\Lib\\site-packages\\ultralytics\\utils\\metrics.py:470: UserWarning: Glyph 20043 (\\N{CJK UNIFIED IDEOGRAPH-4E4B}) missing from current font.\n",
      "  fig.savefig(save_dir, dpi=250)\n",
      "D:\\code\\env\\anaconda\\envs\\mhy-yolo\\Lib\\site-packages\\ultralytics\\utils\\metrics.py:470: UserWarning: Glyph 38388 (\\N{CJK UNIFIED IDEOGRAPH-95F4}) missing from current font.\n",
      "  fig.savefig(save_dir, dpi=250)\n",
      "D:\\code\\env\\anaconda\\envs\\mhy-yolo\\Lib\\site-packages\\ultralytics\\utils\\metrics.py:470: UserWarning: Glyph 20241 (\\N{CJK UNIFIED IDEOGRAPH-4F11}) missing from current font.\n",
      "  fig.savefig(save_dir, dpi=250)\n",
      "D:\\code\\env\\anaconda\\envs\\mhy-yolo\\Lib\\site-packages\\ultralytics\\utils\\metrics.py:470: UserWarning: Glyph 25001 (\\N{CJK UNIFIED IDEOGRAPH-61A9}) missing from current font.\n",
      "  fig.savefig(save_dir, dpi=250)\n",
      "D:\\code\\env\\anaconda\\envs\\mhy-yolo\\Lib\\site-packages\\ultralytics\\utils\\metrics.py:470: UserWarning: Glyph 35843 (\\N{CJK UNIFIED IDEOGRAPH-8C03}) missing from current font.\n",
      "  fig.savefig(save_dir, dpi=250)\n",
      "D:\\code\\env\\anaconda\\envs\\mhy-yolo\\Lib\\site-packages\\ultralytics\\utils\\metrics.py:470: UserWarning: Glyph 24687 (\\N{CJK UNIFIED IDEOGRAPH-606F}) missing from current font.\n",
      "  fig.savefig(save_dir, dpi=250)\n",
      "D:\\code\\env\\anaconda\\envs\\mhy-yolo\\Lib\\site-packages\\ultralytics\\utils\\metrics.py:470: UserWarning: Glyph 37030 (\\N{CJK UNIFIED IDEOGRAPH-90A6}) missing from current font.\n",
      "  fig.savefig(save_dir, dpi=250)\n",
      "D:\\code\\env\\anaconda\\envs\\mhy-yolo\\Lib\\site-packages\\ultralytics\\utils\\metrics.py:470: UserWarning: Glyph 24067 (\\N{CJK UNIFIED IDEOGRAPH-5E03}) missing from current font.\n",
      "  fig.savefig(save_dir, dpi=250)\n",
      "D:\\code\\env\\anaconda\\envs\\mhy-yolo\\Lib\\site-packages\\ultralytics\\utils\\metrics.py:470: UserWarning: Glyph 21830 (\\N{CJK UNIFIED IDEOGRAPH-5546}) missing from current font.\n",
      "  fig.savefig(save_dir, dpi=250)\n",
      "D:\\code\\env\\anaconda\\envs\\mhy-yolo\\Lib\\site-packages\\ultralytics\\utils\\metrics.py:470: UserWarning: Glyph 24215 (\\N{CJK UNIFIED IDEOGRAPH-5E97}) missing from current font.\n",
      "  fig.savefig(save_dir, dpi=250)\n",
      "D:\\code\\env\\anaconda\\envs\\mhy-yolo\\Lib\\site-packages\\ultralytics\\utils\\metrics.py:470: UserWarning: Glyph 25370 (\\N{CJK UNIFIED IDEOGRAPH-631A}) missing from current font.\n",
      "  fig.savefig(save_dir, dpi=250)\n",
      "D:\\code\\env\\anaconda\\envs\\mhy-yolo\\Lib\\site-packages\\ultralytics\\utils\\metrics.py:470: UserWarning: Glyph 20132 (\\N{CJK UNIFIED IDEOGRAPH-4EA4}) missing from current font.\n",
      "  fig.savefig(save_dir, dpi=250)\n",
      "D:\\code\\env\\anaconda\\envs\\mhy-yolo\\Lib\\site-packages\\ultralytics\\utils\\metrics.py:470: UserWarning: Glyph 20250 (\\N{CJK UNIFIED IDEOGRAPH-4F1A}) missing from current font.\n",
      "  fig.savefig(save_dir, dpi=250)\n",
      "D:\\code\\env\\anaconda\\envs\\mhy-yolo\\Lib\\site-packages\\ultralytics\\utils\\metrics.py:470: UserWarning: Glyph 35848 (\\N{CJK UNIFIED IDEOGRAPH-8C08}) missing from current font.\n",
      "  fig.savefig(save_dir, dpi=250)\n",
      "D:\\code\\env\\anaconda\\envs\\mhy-yolo\\Lib\\site-packages\\ultralytics\\utils\\metrics.py:470: UserWarning: Glyph 36947 (\\N{CJK UNIFIED IDEOGRAPH-9053}) missing from current font.\n",
      "  fig.savefig(save_dir, dpi=250)\n",
      "D:\\code\\env\\anaconda\\envs\\mhy-yolo\\Lib\\site-packages\\ultralytics\\utils\\metrics.py:470: UserWarning: Glyph 20013 (\\N{CJK UNIFIED IDEOGRAPH-4E2D}) missing from current font.\n",
      "  fig.savefig(save_dir, dpi=250)\n",
      "D:\\code\\env\\anaconda\\envs\\mhy-yolo\\Lib\\site-packages\\ultralytics\\utils\\metrics.py:470: UserWarning: Glyph 21361 (\\N{CJK UNIFIED IDEOGRAPH-5371}) missing from current font.\n",
      "  fig.savefig(save_dir, dpi=250)\n",
      "D:\\code\\env\\anaconda\\envs\\mhy-yolo\\Lib\\site-packages\\ultralytics\\utils\\metrics.py:470: UserWarning: Glyph 26426 (\\N{CJK UNIFIED IDEOGRAPH-673A}) missing from current font.\n",
      "  fig.savefig(save_dir, dpi=250)\n",
      "D:\\code\\env\\anaconda\\envs\\mhy-yolo\\Lib\\site-packages\\ultralytics\\utils\\metrics.py:470: UserWarning: Glyph 32456 (\\N{CJK UNIFIED IDEOGRAPH-7EC8}) missing from current font.\n",
      "  fig.savefig(save_dir, dpi=250)\n",
      "D:\\code\\env\\anaconda\\envs\\mhy-yolo\\Lib\\site-packages\\ultralytics\\utils\\metrics.py:470: UserWarning: Glyph 32467 (\\N{CJK UNIFIED IDEOGRAPH-7ED3}) missing from current font.\n",
      "  fig.savefig(save_dir, dpi=250)\n",
      "D:\\code\\env\\anaconda\\envs\\mhy-yolo\\Lib\\site-packages\\ultralytics\\utils\\metrics.py:470: UserWarning: Glyph 24441 (\\N{CJK UNIFIED IDEOGRAPH-5F79}) missing from current font.\n",
      "  fig.savefig(save_dir, dpi=250)\n",
      "D:\\code\\env\\anaconda\\envs\\mhy-yolo\\Lib\\site-packages\\ultralytics\\utils\\metrics.py:495: UserWarning: Glyph 24863 (\\N{CJK UNIFIED IDEOGRAPH-611F}) missing from current font.\n",
      "  fig.savefig(save_dir, dpi=250)\n",
      "D:\\code\\env\\anaconda\\envs\\mhy-yolo\\Lib\\site-packages\\ultralytics\\utils\\metrics.py:495: UserWarning: Glyph 21497 (\\N{CJK UNIFIED IDEOGRAPH-53F9}) missing from current font.\n",
      "  fig.savefig(save_dir, dpi=250)\n",
      "D:\\code\\env\\anaconda\\envs\\mhy-yolo\\Lib\\site-packages\\ultralytics\\utils\\metrics.py:495: UserWarning: Glyph 21495 (\\N{CJK UNIFIED IDEOGRAPH-53F7}) missing from current font.\n",
      "  fig.savefig(save_dir, dpi=250)\n",
      "D:\\code\\env\\anaconda\\envs\\mhy-yolo\\Lib\\site-packages\\ultralytics\\utils\\metrics.py:495: UserWarning: Glyph 36317 (\\N{CJK UNIFIED IDEOGRAPH-8DDD}) missing from current font.\n",
      "  fig.savefig(save_dir, dpi=250)\n",
      "D:\\code\\env\\anaconda\\envs\\mhy-yolo\\Lib\\site-packages\\ultralytics\\utils\\metrics.py:495: UserWarning: Glyph 31163 (\\N{CJK UNIFIED IDEOGRAPH-79BB}) missing from current font.\n",
      "  fig.savefig(save_dir, dpi=250)\n",
      "D:\\code\\env\\anaconda\\envs\\mhy-yolo\\Lib\\site-packages\\ultralytics\\utils\\metrics.py:495: UserWarning: Glyph 25112 (\\N{CJK UNIFIED IDEOGRAPH-6218}) missing from current font.\n",
      "  fig.savefig(save_dir, dpi=250)\n",
      "D:\\code\\env\\anaconda\\envs\\mhy-yolo\\Lib\\site-packages\\ultralytics\\utils\\metrics.py:495: UserWarning: Glyph 26007 (\\N{CJK UNIFIED IDEOGRAPH-6597}) missing from current font.\n",
      "  fig.savefig(save_dir, dpi=250)\n",
      "D:\\code\\env\\anaconda\\envs\\mhy-yolo\\Lib\\site-packages\\ultralytics\\utils\\metrics.py:495: UserWarning: Glyph 40483 (\\N{CJK UNIFIED IDEOGRAPH-9E23}) missing from current font.\n",
      "  fig.savefig(save_dir, dpi=250)\n",
      "D:\\code\\env\\anaconda\\envs\\mhy-yolo\\Lib\\site-packages\\ultralytics\\utils\\metrics.py:495: UserWarning: Glyph 24509 (\\N{CJK UNIFIED IDEOGRAPH-5FBD}) missing from current font.\n",
      "  fig.savefig(save_dir, dpi=250)\n",
      "D:\\code\\env\\anaconda\\envs\\mhy-yolo\\Lib\\site-packages\\ultralytics\\utils\\metrics.py:495: UserWarning: Glyph 27494 (\\N{CJK UNIFIED IDEOGRAPH-6B66}) missing from current font.\n",
      "  fig.savefig(save_dir, dpi=250)\n",
      "D:\\code\\env\\anaconda\\envs\\mhy-yolo\\Lib\\site-packages\\ultralytics\\utils\\metrics.py:495: UserWarning: Glyph 22791 (\\N{CJK UNIFIED IDEOGRAPH-5907}) missing from current font.\n",
      "  fig.savefig(save_dir, dpi=250)\n",
      "D:\\code\\env\\anaconda\\envs\\mhy-yolo\\Lib\\site-packages\\ultralytics\\utils\\metrics.py:495: UserWarning: Glyph 30828 (\\N{CJK UNIFIED IDEOGRAPH-786C}) missing from current font.\n",
      "  fig.savefig(save_dir, dpi=250)\n",
      "D:\\code\\env\\anaconda\\envs\\mhy-yolo\\Lib\\site-packages\\ultralytics\\utils\\metrics.py:495: UserWarning: Glyph 24065 (\\N{CJK UNIFIED IDEOGRAPH-5E01}) missing from current font.\n",
      "  fig.savefig(save_dir, dpi=250)\n",
      "D:\\code\\env\\anaconda\\envs\\mhy-yolo\\Lib\\site-packages\\ultralytics\\utils\\metrics.py:495: UserWarning: Glyph 25361 (\\N{CJK UNIFIED IDEOGRAPH-6311}) missing from current font.\n",
      "  fig.savefig(save_dir, dpi=250)\n",
      "D:\\code\\env\\anaconda\\envs\\mhy-yolo\\Lib\\site-packages\\ultralytics\\utils\\metrics.py:495: UserWarning: Glyph 26080 (\\N{CJK UNIFIED IDEOGRAPH-65E0}) missing from current font.\n",
      "  fig.savefig(save_dir, dpi=250)\n",
      "D:\\code\\env\\anaconda\\envs\\mhy-yolo\\Lib\\site-packages\\ultralytics\\utils\\metrics.py:495: UserWarning: Glyph 20260 (\\N{CJK UNIFIED IDEOGRAPH-4F24}) missing from current font.\n",
      "  fig.savefig(save_dir, dpi=250)\n",
      "D:\\code\\env\\anaconda\\envs\\mhy-yolo\\Lib\\site-packages\\ultralytics\\utils\\metrics.py:495: UserWarning: Glyph 38480 (\\N{CJK UNIFIED IDEOGRAPH-9650}) missing from current font.\n",
      "  fig.savefig(save_dir, dpi=250)\n",
      "D:\\code\\env\\anaconda\\envs\\mhy-yolo\\Lib\\site-packages\\ultralytics\\utils\\metrics.py:495: UserWarning: Glyph 26102 (\\N{CJK UNIFIED IDEOGRAPH-65F6}) missing from current font.\n",
      "  fig.savefig(save_dir, dpi=250)\n",
      "D:\\code\\env\\anaconda\\envs\\mhy-yolo\\Lib\\site-packages\\ultralytics\\utils\\metrics.py:495: UserWarning: Glyph 20598 (\\N{CJK UNIFIED IDEOGRAPH-5076}) missing from current font.\n",
      "  fig.savefig(save_dir, dpi=250)\n",
      "D:\\code\\env\\anaconda\\envs\\mhy-yolo\\Lib\\site-packages\\ultralytics\\utils\\metrics.py:495: UserWarning: Glyph 36935 (\\N{CJK UNIFIED IDEOGRAPH-9047}) missing from current font.\n",
      "  fig.savefig(save_dir, dpi=250)\n",
      "D:\\code\\env\\anaconda\\envs\\mhy-yolo\\Lib\\site-packages\\ultralytics\\utils\\metrics.py:495: UserWarning: Glyph 20107 (\\N{CJK UNIFIED IDEOGRAPH-4E8B}) missing from current font.\n",
      "  fig.savefig(save_dir, dpi=250)\n",
      "D:\\code\\env\\anaconda\\envs\\mhy-yolo\\Lib\\site-packages\\ultralytics\\utils\\metrics.py:495: UserWarning: Glyph 20214 (\\N{CJK UNIFIED IDEOGRAPH-4EF6}) missing from current font.\n",
      "  fig.savefig(save_dir, dpi=250)\n",
      "D:\\code\\env\\anaconda\\envs\\mhy-yolo\\Lib\\site-packages\\ultralytics\\utils\\metrics.py:495: UserWarning: Glyph 20195 (\\N{CJK UNIFIED IDEOGRAPH-4EE3}) missing from current font.\n",
      "  fig.savefig(save_dir, dpi=250)\n",
      "D:\\code\\env\\anaconda\\envs\\mhy-yolo\\Lib\\site-packages\\ultralytics\\utils\\metrics.py:495: UserWarning: Glyph 20215 (\\N{CJK UNIFIED IDEOGRAPH-4EF7}) missing from current font.\n",
      "  fig.savefig(save_dir, dpi=250)\n",
      "D:\\code\\env\\anaconda\\envs\\mhy-yolo\\Lib\\site-packages\\ultralytics\\utils\\metrics.py:495: UserWarning: Glyph 20043 (\\N{CJK UNIFIED IDEOGRAPH-4E4B}) missing from current font.\n",
      "  fig.savefig(save_dir, dpi=250)\n",
      "D:\\code\\env\\anaconda\\envs\\mhy-yolo\\Lib\\site-packages\\ultralytics\\utils\\metrics.py:495: UserWarning: Glyph 38388 (\\N{CJK UNIFIED IDEOGRAPH-95F4}) missing from current font.\n",
      "  fig.savefig(save_dir, dpi=250)\n",
      "D:\\code\\env\\anaconda\\envs\\mhy-yolo\\Lib\\site-packages\\ultralytics\\utils\\metrics.py:495: UserWarning: Glyph 20241 (\\N{CJK UNIFIED IDEOGRAPH-4F11}) missing from current font.\n",
      "  fig.savefig(save_dir, dpi=250)\n",
      "D:\\code\\env\\anaconda\\envs\\mhy-yolo\\Lib\\site-packages\\ultralytics\\utils\\metrics.py:495: UserWarning: Glyph 25001 (\\N{CJK UNIFIED IDEOGRAPH-61A9}) missing from current font.\n",
      "  fig.savefig(save_dir, dpi=250)\n",
      "D:\\code\\env\\anaconda\\envs\\mhy-yolo\\Lib\\site-packages\\ultralytics\\utils\\metrics.py:495: UserWarning: Glyph 35843 (\\N{CJK UNIFIED IDEOGRAPH-8C03}) missing from current font.\n",
      "  fig.savefig(save_dir, dpi=250)\n",
      "D:\\code\\env\\anaconda\\envs\\mhy-yolo\\Lib\\site-packages\\ultralytics\\utils\\metrics.py:495: UserWarning: Glyph 24687 (\\N{CJK UNIFIED IDEOGRAPH-606F}) missing from current font.\n",
      "  fig.savefig(save_dir, dpi=250)\n",
      "D:\\code\\env\\anaconda\\envs\\mhy-yolo\\Lib\\site-packages\\ultralytics\\utils\\metrics.py:495: UserWarning: Glyph 37030 (\\N{CJK UNIFIED IDEOGRAPH-90A6}) missing from current font.\n",
      "  fig.savefig(save_dir, dpi=250)\n",
      "D:\\code\\env\\anaconda\\envs\\mhy-yolo\\Lib\\site-packages\\ultralytics\\utils\\metrics.py:495: UserWarning: Glyph 24067 (\\N{CJK UNIFIED IDEOGRAPH-5E03}) missing from current font.\n",
      "  fig.savefig(save_dir, dpi=250)\n",
      "D:\\code\\env\\anaconda\\envs\\mhy-yolo\\Lib\\site-packages\\ultralytics\\utils\\metrics.py:495: UserWarning: Glyph 21830 (\\N{CJK UNIFIED IDEOGRAPH-5546}) missing from current font.\n",
      "  fig.savefig(save_dir, dpi=250)\n",
      "D:\\code\\env\\anaconda\\envs\\mhy-yolo\\Lib\\site-packages\\ultralytics\\utils\\metrics.py:495: UserWarning: Glyph 24215 (\\N{CJK UNIFIED IDEOGRAPH-5E97}) missing from current font.\n",
      "  fig.savefig(save_dir, dpi=250)\n",
      "D:\\code\\env\\anaconda\\envs\\mhy-yolo\\Lib\\site-packages\\ultralytics\\utils\\metrics.py:495: UserWarning: Glyph 25370 (\\N{CJK UNIFIED IDEOGRAPH-631A}) missing from current font.\n",
      "  fig.savefig(save_dir, dpi=250)\n",
      "D:\\code\\env\\anaconda\\envs\\mhy-yolo\\Lib\\site-packages\\ultralytics\\utils\\metrics.py:495: UserWarning: Glyph 20132 (\\N{CJK UNIFIED IDEOGRAPH-4EA4}) missing from current font.\n",
      "  fig.savefig(save_dir, dpi=250)\n",
      "D:\\code\\env\\anaconda\\envs\\mhy-yolo\\Lib\\site-packages\\ultralytics\\utils\\metrics.py:495: UserWarning: Glyph 20250 (\\N{CJK UNIFIED IDEOGRAPH-4F1A}) missing from current font.\n",
      "  fig.savefig(save_dir, dpi=250)\n",
      "D:\\code\\env\\anaconda\\envs\\mhy-yolo\\Lib\\site-packages\\ultralytics\\utils\\metrics.py:495: UserWarning: Glyph 35848 (\\N{CJK UNIFIED IDEOGRAPH-8C08}) missing from current font.\n",
      "  fig.savefig(save_dir, dpi=250)\n",
      "D:\\code\\env\\anaconda\\envs\\mhy-yolo\\Lib\\site-packages\\ultralytics\\utils\\metrics.py:495: UserWarning: Glyph 36947 (\\N{CJK UNIFIED IDEOGRAPH-9053}) missing from current font.\n",
      "  fig.savefig(save_dir, dpi=250)\n",
      "D:\\code\\env\\anaconda\\envs\\mhy-yolo\\Lib\\site-packages\\ultralytics\\utils\\metrics.py:495: UserWarning: Glyph 20013 (\\N{CJK UNIFIED IDEOGRAPH-4E2D}) missing from current font.\n",
      "  fig.savefig(save_dir, dpi=250)\n",
      "D:\\code\\env\\anaconda\\envs\\mhy-yolo\\Lib\\site-packages\\ultralytics\\utils\\metrics.py:495: UserWarning: Glyph 21361 (\\N{CJK UNIFIED IDEOGRAPH-5371}) missing from current font.\n",
      "  fig.savefig(save_dir, dpi=250)\n",
      "D:\\code\\env\\anaconda\\envs\\mhy-yolo\\Lib\\site-packages\\ultralytics\\utils\\metrics.py:495: UserWarning: Glyph 26426 (\\N{CJK UNIFIED IDEOGRAPH-673A}) missing from current font.\n",
      "  fig.savefig(save_dir, dpi=250)\n",
      "D:\\code\\env\\anaconda\\envs\\mhy-yolo\\Lib\\site-packages\\ultralytics\\utils\\metrics.py:495: UserWarning: Glyph 32456 (\\N{CJK UNIFIED IDEOGRAPH-7EC8}) missing from current font.\n",
      "  fig.savefig(save_dir, dpi=250)\n",
      "D:\\code\\env\\anaconda\\envs\\mhy-yolo\\Lib\\site-packages\\ultralytics\\utils\\metrics.py:495: UserWarning: Glyph 32467 (\\N{CJK UNIFIED IDEOGRAPH-7ED3}) missing from current font.\n",
      "  fig.savefig(save_dir, dpi=250)\n",
      "D:\\code\\env\\anaconda\\envs\\mhy-yolo\\Lib\\site-packages\\ultralytics\\utils\\metrics.py:495: UserWarning: Glyph 24441 (\\N{CJK UNIFIED IDEOGRAPH-5F79}) missing from current font.\n",
      "  fig.savefig(save_dir, dpi=250)\n",
      "D:\\code\\env\\anaconda\\envs\\mhy-yolo\\Lib\\site-packages\\ultralytics\\utils\\metrics.py:495: UserWarning: Glyph 24863 (\\N{CJK UNIFIED IDEOGRAPH-611F}) missing from current font.\n",
      "  fig.savefig(save_dir, dpi=250)\n",
      "D:\\code\\env\\anaconda\\envs\\mhy-yolo\\Lib\\site-packages\\ultralytics\\utils\\metrics.py:495: UserWarning: Glyph 21497 (\\N{CJK UNIFIED IDEOGRAPH-53F9}) missing from current font.\n",
      "  fig.savefig(save_dir, dpi=250)\n",
      "D:\\code\\env\\anaconda\\envs\\mhy-yolo\\Lib\\site-packages\\ultralytics\\utils\\metrics.py:495: UserWarning: Glyph 21495 (\\N{CJK UNIFIED IDEOGRAPH-53F7}) missing from current font.\n",
      "  fig.savefig(save_dir, dpi=250)\n",
      "D:\\code\\env\\anaconda\\envs\\mhy-yolo\\Lib\\site-packages\\ultralytics\\utils\\metrics.py:495: UserWarning: Glyph 36317 (\\N{CJK UNIFIED IDEOGRAPH-8DDD}) missing from current font.\n",
      "  fig.savefig(save_dir, dpi=250)\n",
      "D:\\code\\env\\anaconda\\envs\\mhy-yolo\\Lib\\site-packages\\ultralytics\\utils\\metrics.py:495: UserWarning: Glyph 31163 (\\N{CJK UNIFIED IDEOGRAPH-79BB}) missing from current font.\n",
      "  fig.savefig(save_dir, dpi=250)\n",
      "D:\\code\\env\\anaconda\\envs\\mhy-yolo\\Lib\\site-packages\\ultralytics\\utils\\metrics.py:495: UserWarning: Glyph 25112 (\\N{CJK UNIFIED IDEOGRAPH-6218}) missing from current font.\n",
      "  fig.savefig(save_dir, dpi=250)\n",
      "D:\\code\\env\\anaconda\\envs\\mhy-yolo\\Lib\\site-packages\\ultralytics\\utils\\metrics.py:495: UserWarning: Glyph 26007 (\\N{CJK UNIFIED IDEOGRAPH-6597}) missing from current font.\n",
      "  fig.savefig(save_dir, dpi=250)\n",
      "D:\\code\\env\\anaconda\\envs\\mhy-yolo\\Lib\\site-packages\\ultralytics\\utils\\metrics.py:495: UserWarning: Glyph 40483 (\\N{CJK UNIFIED IDEOGRAPH-9E23}) missing from current font.\n",
      "  fig.savefig(save_dir, dpi=250)\n",
      "D:\\code\\env\\anaconda\\envs\\mhy-yolo\\Lib\\site-packages\\ultralytics\\utils\\metrics.py:495: UserWarning: Glyph 24509 (\\N{CJK UNIFIED IDEOGRAPH-5FBD}) missing from current font.\n",
      "  fig.savefig(save_dir, dpi=250)\n",
      "D:\\code\\env\\anaconda\\envs\\mhy-yolo\\Lib\\site-packages\\ultralytics\\utils\\metrics.py:495: UserWarning: Glyph 27494 (\\N{CJK UNIFIED IDEOGRAPH-6B66}) missing from current font.\n",
      "  fig.savefig(save_dir, dpi=250)\n",
      "D:\\code\\env\\anaconda\\envs\\mhy-yolo\\Lib\\site-packages\\ultralytics\\utils\\metrics.py:495: UserWarning: Glyph 22791 (\\N{CJK UNIFIED IDEOGRAPH-5907}) missing from current font.\n",
      "  fig.savefig(save_dir, dpi=250)\n",
      "D:\\code\\env\\anaconda\\envs\\mhy-yolo\\Lib\\site-packages\\ultralytics\\utils\\metrics.py:495: UserWarning: Glyph 30828 (\\N{CJK UNIFIED IDEOGRAPH-786C}) missing from current font.\n",
      "  fig.savefig(save_dir, dpi=250)\n",
      "D:\\code\\env\\anaconda\\envs\\mhy-yolo\\Lib\\site-packages\\ultralytics\\utils\\metrics.py:495: UserWarning: Glyph 24065 (\\N{CJK UNIFIED IDEOGRAPH-5E01}) missing from current font.\n",
      "  fig.savefig(save_dir, dpi=250)\n",
      "D:\\code\\env\\anaconda\\envs\\mhy-yolo\\Lib\\site-packages\\ultralytics\\utils\\metrics.py:495: UserWarning: Glyph 25361 (\\N{CJK UNIFIED IDEOGRAPH-6311}) missing from current font.\n",
      "  fig.savefig(save_dir, dpi=250)\n",
      "D:\\code\\env\\anaconda\\envs\\mhy-yolo\\Lib\\site-packages\\ultralytics\\utils\\metrics.py:495: UserWarning: Glyph 26080 (\\N{CJK UNIFIED IDEOGRAPH-65E0}) missing from current font.\n",
      "  fig.savefig(save_dir, dpi=250)\n",
      "D:\\code\\env\\anaconda\\envs\\mhy-yolo\\Lib\\site-packages\\ultralytics\\utils\\metrics.py:495: UserWarning: Glyph 20260 (\\N{CJK UNIFIED IDEOGRAPH-4F24}) missing from current font.\n",
      "  fig.savefig(save_dir, dpi=250)\n",
      "D:\\code\\env\\anaconda\\envs\\mhy-yolo\\Lib\\site-packages\\ultralytics\\utils\\metrics.py:495: UserWarning: Glyph 38480 (\\N{CJK UNIFIED IDEOGRAPH-9650}) missing from current font.\n",
      "  fig.savefig(save_dir, dpi=250)\n",
      "D:\\code\\env\\anaconda\\envs\\mhy-yolo\\Lib\\site-packages\\ultralytics\\utils\\metrics.py:495: UserWarning: Glyph 26102 (\\N{CJK UNIFIED IDEOGRAPH-65F6}) missing from current font.\n",
      "  fig.savefig(save_dir, dpi=250)\n",
      "D:\\code\\env\\anaconda\\envs\\mhy-yolo\\Lib\\site-packages\\ultralytics\\utils\\metrics.py:495: UserWarning: Glyph 20598 (\\N{CJK UNIFIED IDEOGRAPH-5076}) missing from current font.\n",
      "  fig.savefig(save_dir, dpi=250)\n",
      "D:\\code\\env\\anaconda\\envs\\mhy-yolo\\Lib\\site-packages\\ultralytics\\utils\\metrics.py:495: UserWarning: Glyph 36935 (\\N{CJK UNIFIED IDEOGRAPH-9047}) missing from current font.\n",
      "  fig.savefig(save_dir, dpi=250)\n",
      "D:\\code\\env\\anaconda\\envs\\mhy-yolo\\Lib\\site-packages\\ultralytics\\utils\\metrics.py:495: UserWarning: Glyph 20107 (\\N{CJK UNIFIED IDEOGRAPH-4E8B}) missing from current font.\n",
      "  fig.savefig(save_dir, dpi=250)\n",
      "D:\\code\\env\\anaconda\\envs\\mhy-yolo\\Lib\\site-packages\\ultralytics\\utils\\metrics.py:495: UserWarning: Glyph 20214 (\\N{CJK UNIFIED IDEOGRAPH-4EF6}) missing from current font.\n",
      "  fig.savefig(save_dir, dpi=250)\n",
      "D:\\code\\env\\anaconda\\envs\\mhy-yolo\\Lib\\site-packages\\ultralytics\\utils\\metrics.py:495: UserWarning: Glyph 20195 (\\N{CJK UNIFIED IDEOGRAPH-4EE3}) missing from current font.\n",
      "  fig.savefig(save_dir, dpi=250)\n",
      "D:\\code\\env\\anaconda\\envs\\mhy-yolo\\Lib\\site-packages\\ultralytics\\utils\\metrics.py:495: UserWarning: Glyph 20215 (\\N{CJK UNIFIED IDEOGRAPH-4EF7}) missing from current font.\n",
      "  fig.savefig(save_dir, dpi=250)\n",
      "D:\\code\\env\\anaconda\\envs\\mhy-yolo\\Lib\\site-packages\\ultralytics\\utils\\metrics.py:495: UserWarning: Glyph 20043 (\\N{CJK UNIFIED IDEOGRAPH-4E4B}) missing from current font.\n",
      "  fig.savefig(save_dir, dpi=250)\n",
      "D:\\code\\env\\anaconda\\envs\\mhy-yolo\\Lib\\site-packages\\ultralytics\\utils\\metrics.py:495: UserWarning: Glyph 38388 (\\N{CJK UNIFIED IDEOGRAPH-95F4}) missing from current font.\n",
      "  fig.savefig(save_dir, dpi=250)\n",
      "D:\\code\\env\\anaconda\\envs\\mhy-yolo\\Lib\\site-packages\\ultralytics\\utils\\metrics.py:495: UserWarning: Glyph 20241 (\\N{CJK UNIFIED IDEOGRAPH-4F11}) missing from current font.\n",
      "  fig.savefig(save_dir, dpi=250)\n",
      "D:\\code\\env\\anaconda\\envs\\mhy-yolo\\Lib\\site-packages\\ultralytics\\utils\\metrics.py:495: UserWarning: Glyph 25001 (\\N{CJK UNIFIED IDEOGRAPH-61A9}) missing from current font.\n",
      "  fig.savefig(save_dir, dpi=250)\n",
      "D:\\code\\env\\anaconda\\envs\\mhy-yolo\\Lib\\site-packages\\ultralytics\\utils\\metrics.py:495: UserWarning: Glyph 35843 (\\N{CJK UNIFIED IDEOGRAPH-8C03}) missing from current font.\n",
      "  fig.savefig(save_dir, dpi=250)\n",
      "D:\\code\\env\\anaconda\\envs\\mhy-yolo\\Lib\\site-packages\\ultralytics\\utils\\metrics.py:495: UserWarning: Glyph 24687 (\\N{CJK UNIFIED IDEOGRAPH-606F}) missing from current font.\n",
      "  fig.savefig(save_dir, dpi=250)\n",
      "D:\\code\\env\\anaconda\\envs\\mhy-yolo\\Lib\\site-packages\\ultralytics\\utils\\metrics.py:495: UserWarning: Glyph 37030 (\\N{CJK UNIFIED IDEOGRAPH-90A6}) missing from current font.\n",
      "  fig.savefig(save_dir, dpi=250)\n",
      "D:\\code\\env\\anaconda\\envs\\mhy-yolo\\Lib\\site-packages\\ultralytics\\utils\\metrics.py:495: UserWarning: Glyph 24067 (\\N{CJK UNIFIED IDEOGRAPH-5E03}) missing from current font.\n",
      "  fig.savefig(save_dir, dpi=250)\n",
      "D:\\code\\env\\anaconda\\envs\\mhy-yolo\\Lib\\site-packages\\ultralytics\\utils\\metrics.py:495: UserWarning: Glyph 21830 (\\N{CJK UNIFIED IDEOGRAPH-5546}) missing from current font.\n",
      "  fig.savefig(save_dir, dpi=250)\n",
      "D:\\code\\env\\anaconda\\envs\\mhy-yolo\\Lib\\site-packages\\ultralytics\\utils\\metrics.py:495: UserWarning: Glyph 24215 (\\N{CJK UNIFIED IDEOGRAPH-5E97}) missing from current font.\n",
      "  fig.savefig(save_dir, dpi=250)\n",
      "D:\\code\\env\\anaconda\\envs\\mhy-yolo\\Lib\\site-packages\\ultralytics\\utils\\metrics.py:495: UserWarning: Glyph 25370 (\\N{CJK UNIFIED IDEOGRAPH-631A}) missing from current font.\n",
      "  fig.savefig(save_dir, dpi=250)\n",
      "D:\\code\\env\\anaconda\\envs\\mhy-yolo\\Lib\\site-packages\\ultralytics\\utils\\metrics.py:495: UserWarning: Glyph 20132 (\\N{CJK UNIFIED IDEOGRAPH-4EA4}) missing from current font.\n",
      "  fig.savefig(save_dir, dpi=250)\n",
      "D:\\code\\env\\anaconda\\envs\\mhy-yolo\\Lib\\site-packages\\ultralytics\\utils\\metrics.py:495: UserWarning: Glyph 20250 (\\N{CJK UNIFIED IDEOGRAPH-4F1A}) missing from current font.\n",
      "  fig.savefig(save_dir, dpi=250)\n",
      "D:\\code\\env\\anaconda\\envs\\mhy-yolo\\Lib\\site-packages\\ultralytics\\utils\\metrics.py:495: UserWarning: Glyph 35848 (\\N{CJK UNIFIED IDEOGRAPH-8C08}) missing from current font.\n",
      "  fig.savefig(save_dir, dpi=250)\n",
      "D:\\code\\env\\anaconda\\envs\\mhy-yolo\\Lib\\site-packages\\ultralytics\\utils\\metrics.py:495: UserWarning: Glyph 36947 (\\N{CJK UNIFIED IDEOGRAPH-9053}) missing from current font.\n",
      "  fig.savefig(save_dir, dpi=250)\n",
      "D:\\code\\env\\anaconda\\envs\\mhy-yolo\\Lib\\site-packages\\ultralytics\\utils\\metrics.py:495: UserWarning: Glyph 20013 (\\N{CJK UNIFIED IDEOGRAPH-4E2D}) missing from current font.\n",
      "  fig.savefig(save_dir, dpi=250)\n",
      "D:\\code\\env\\anaconda\\envs\\mhy-yolo\\Lib\\site-packages\\ultralytics\\utils\\metrics.py:495: UserWarning: Glyph 21361 (\\N{CJK UNIFIED IDEOGRAPH-5371}) missing from current font.\n",
      "  fig.savefig(save_dir, dpi=250)\n",
      "D:\\code\\env\\anaconda\\envs\\mhy-yolo\\Lib\\site-packages\\ultralytics\\utils\\metrics.py:495: UserWarning: Glyph 26426 (\\N{CJK UNIFIED IDEOGRAPH-673A}) missing from current font.\n",
      "  fig.savefig(save_dir, dpi=250)\n",
      "D:\\code\\env\\anaconda\\envs\\mhy-yolo\\Lib\\site-packages\\ultralytics\\utils\\metrics.py:495: UserWarning: Glyph 32456 (\\N{CJK UNIFIED IDEOGRAPH-7EC8}) missing from current font.\n",
      "  fig.savefig(save_dir, dpi=250)\n",
      "D:\\code\\env\\anaconda\\envs\\mhy-yolo\\Lib\\site-packages\\ultralytics\\utils\\metrics.py:495: UserWarning: Glyph 32467 (\\N{CJK UNIFIED IDEOGRAPH-7ED3}) missing from current font.\n",
      "  fig.savefig(save_dir, dpi=250)\n",
      "D:\\code\\env\\anaconda\\envs\\mhy-yolo\\Lib\\site-packages\\ultralytics\\utils\\metrics.py:495: UserWarning: Glyph 24441 (\\N{CJK UNIFIED IDEOGRAPH-5F79}) missing from current font.\n",
      "  fig.savefig(save_dir, dpi=250)\n",
      "D:\\code\\env\\anaconda\\envs\\mhy-yolo\\Lib\\site-packages\\ultralytics\\utils\\metrics.py:495: UserWarning: Glyph 24863 (\\N{CJK UNIFIED IDEOGRAPH-611F}) missing from current font.\n",
      "  fig.savefig(save_dir, dpi=250)\n",
      "D:\\code\\env\\anaconda\\envs\\mhy-yolo\\Lib\\site-packages\\ultralytics\\utils\\metrics.py:495: UserWarning: Glyph 21497 (\\N{CJK UNIFIED IDEOGRAPH-53F9}) missing from current font.\n",
      "  fig.savefig(save_dir, dpi=250)\n",
      "D:\\code\\env\\anaconda\\envs\\mhy-yolo\\Lib\\site-packages\\ultralytics\\utils\\metrics.py:495: UserWarning: Glyph 21495 (\\N{CJK UNIFIED IDEOGRAPH-53F7}) missing from current font.\n",
      "  fig.savefig(save_dir, dpi=250)\n",
      "D:\\code\\env\\anaconda\\envs\\mhy-yolo\\Lib\\site-packages\\ultralytics\\utils\\metrics.py:495: UserWarning: Glyph 36317 (\\N{CJK UNIFIED IDEOGRAPH-8DDD}) missing from current font.\n",
      "  fig.savefig(save_dir, dpi=250)\n",
      "D:\\code\\env\\anaconda\\envs\\mhy-yolo\\Lib\\site-packages\\ultralytics\\utils\\metrics.py:495: UserWarning: Glyph 31163 (\\N{CJK UNIFIED IDEOGRAPH-79BB}) missing from current font.\n",
      "  fig.savefig(save_dir, dpi=250)\n",
      "D:\\code\\env\\anaconda\\envs\\mhy-yolo\\Lib\\site-packages\\ultralytics\\utils\\metrics.py:495: UserWarning: Glyph 25112 (\\N{CJK UNIFIED IDEOGRAPH-6218}) missing from current font.\n",
      "  fig.savefig(save_dir, dpi=250)\n",
      "D:\\code\\env\\anaconda\\envs\\mhy-yolo\\Lib\\site-packages\\ultralytics\\utils\\metrics.py:495: UserWarning: Glyph 26007 (\\N{CJK UNIFIED IDEOGRAPH-6597}) missing from current font.\n",
      "  fig.savefig(save_dir, dpi=250)\n",
      "D:\\code\\env\\anaconda\\envs\\mhy-yolo\\Lib\\site-packages\\ultralytics\\utils\\metrics.py:495: UserWarning: Glyph 40483 (\\N{CJK UNIFIED IDEOGRAPH-9E23}) missing from current font.\n",
      "  fig.savefig(save_dir, dpi=250)\n",
      "D:\\code\\env\\anaconda\\envs\\mhy-yolo\\Lib\\site-packages\\ultralytics\\utils\\metrics.py:495: UserWarning: Glyph 24509 (\\N{CJK UNIFIED IDEOGRAPH-5FBD}) missing from current font.\n",
      "  fig.savefig(save_dir, dpi=250)\n",
      "D:\\code\\env\\anaconda\\envs\\mhy-yolo\\Lib\\site-packages\\ultralytics\\utils\\metrics.py:495: UserWarning: Glyph 27494 (\\N{CJK UNIFIED IDEOGRAPH-6B66}) missing from current font.\n",
      "  fig.savefig(save_dir, dpi=250)\n",
      "D:\\code\\env\\anaconda\\envs\\mhy-yolo\\Lib\\site-packages\\ultralytics\\utils\\metrics.py:495: UserWarning: Glyph 22791 (\\N{CJK UNIFIED IDEOGRAPH-5907}) missing from current font.\n",
      "  fig.savefig(save_dir, dpi=250)\n",
      "D:\\code\\env\\anaconda\\envs\\mhy-yolo\\Lib\\site-packages\\ultralytics\\utils\\metrics.py:495: UserWarning: Glyph 30828 (\\N{CJK UNIFIED IDEOGRAPH-786C}) missing from current font.\n",
      "  fig.savefig(save_dir, dpi=250)\n",
      "D:\\code\\env\\anaconda\\envs\\mhy-yolo\\Lib\\site-packages\\ultralytics\\utils\\metrics.py:495: UserWarning: Glyph 24065 (\\N{CJK UNIFIED IDEOGRAPH-5E01}) missing from current font.\n",
      "  fig.savefig(save_dir, dpi=250)\n",
      "D:\\code\\env\\anaconda\\envs\\mhy-yolo\\Lib\\site-packages\\ultralytics\\utils\\metrics.py:495: UserWarning: Glyph 25361 (\\N{CJK UNIFIED IDEOGRAPH-6311}) missing from current font.\n",
      "  fig.savefig(save_dir, dpi=250)\n",
      "D:\\code\\env\\anaconda\\envs\\mhy-yolo\\Lib\\site-packages\\ultralytics\\utils\\metrics.py:495: UserWarning: Glyph 26080 (\\N{CJK UNIFIED IDEOGRAPH-65E0}) missing from current font.\n",
      "  fig.savefig(save_dir, dpi=250)\n",
      "D:\\code\\env\\anaconda\\envs\\mhy-yolo\\Lib\\site-packages\\ultralytics\\utils\\metrics.py:495: UserWarning: Glyph 20260 (\\N{CJK UNIFIED IDEOGRAPH-4F24}) missing from current font.\n",
      "  fig.savefig(save_dir, dpi=250)\n",
      "D:\\code\\env\\anaconda\\envs\\mhy-yolo\\Lib\\site-packages\\ultralytics\\utils\\metrics.py:495: UserWarning: Glyph 38480 (\\N{CJK UNIFIED IDEOGRAPH-9650}) missing from current font.\n",
      "  fig.savefig(save_dir, dpi=250)\n",
      "D:\\code\\env\\anaconda\\envs\\mhy-yolo\\Lib\\site-packages\\ultralytics\\utils\\metrics.py:495: UserWarning: Glyph 26102 (\\N{CJK UNIFIED IDEOGRAPH-65F6}) missing from current font.\n",
      "  fig.savefig(save_dir, dpi=250)\n",
      "D:\\code\\env\\anaconda\\envs\\mhy-yolo\\Lib\\site-packages\\ultralytics\\utils\\metrics.py:495: UserWarning: Glyph 20598 (\\N{CJK UNIFIED IDEOGRAPH-5076}) missing from current font.\n",
      "  fig.savefig(save_dir, dpi=250)\n",
      "D:\\code\\env\\anaconda\\envs\\mhy-yolo\\Lib\\site-packages\\ultralytics\\utils\\metrics.py:495: UserWarning: Glyph 36935 (\\N{CJK UNIFIED IDEOGRAPH-9047}) missing from current font.\n",
      "  fig.savefig(save_dir, dpi=250)\n",
      "D:\\code\\env\\anaconda\\envs\\mhy-yolo\\Lib\\site-packages\\ultralytics\\utils\\metrics.py:495: UserWarning: Glyph 20107 (\\N{CJK UNIFIED IDEOGRAPH-4E8B}) missing from current font.\n",
      "  fig.savefig(save_dir, dpi=250)\n",
      "D:\\code\\env\\anaconda\\envs\\mhy-yolo\\Lib\\site-packages\\ultralytics\\utils\\metrics.py:495: UserWarning: Glyph 20214 (\\N{CJK UNIFIED IDEOGRAPH-4EF6}) missing from current font.\n",
      "  fig.savefig(save_dir, dpi=250)\n",
      "D:\\code\\env\\anaconda\\envs\\mhy-yolo\\Lib\\site-packages\\ultralytics\\utils\\metrics.py:495: UserWarning: Glyph 20195 (\\N{CJK UNIFIED IDEOGRAPH-4EE3}) missing from current font.\n",
      "  fig.savefig(save_dir, dpi=250)\n",
      "D:\\code\\env\\anaconda\\envs\\mhy-yolo\\Lib\\site-packages\\ultralytics\\utils\\metrics.py:495: UserWarning: Glyph 20215 (\\N{CJK UNIFIED IDEOGRAPH-4EF7}) missing from current font.\n",
      "  fig.savefig(save_dir, dpi=250)\n",
      "D:\\code\\env\\anaconda\\envs\\mhy-yolo\\Lib\\site-packages\\ultralytics\\utils\\metrics.py:495: UserWarning: Glyph 20043 (\\N{CJK UNIFIED IDEOGRAPH-4E4B}) missing from current font.\n",
      "  fig.savefig(save_dir, dpi=250)\n",
      "D:\\code\\env\\anaconda\\envs\\mhy-yolo\\Lib\\site-packages\\ultralytics\\utils\\metrics.py:495: UserWarning: Glyph 38388 (\\N{CJK UNIFIED IDEOGRAPH-95F4}) missing from current font.\n",
      "  fig.savefig(save_dir, dpi=250)\n",
      "D:\\code\\env\\anaconda\\envs\\mhy-yolo\\Lib\\site-packages\\ultralytics\\utils\\metrics.py:495: UserWarning: Glyph 20241 (\\N{CJK UNIFIED IDEOGRAPH-4F11}) missing from current font.\n",
      "  fig.savefig(save_dir, dpi=250)\n",
      "D:\\code\\env\\anaconda\\envs\\mhy-yolo\\Lib\\site-packages\\ultralytics\\utils\\metrics.py:495: UserWarning: Glyph 25001 (\\N{CJK UNIFIED IDEOGRAPH-61A9}) missing from current font.\n",
      "  fig.savefig(save_dir, dpi=250)\n",
      "D:\\code\\env\\anaconda\\envs\\mhy-yolo\\Lib\\site-packages\\ultralytics\\utils\\metrics.py:495: UserWarning: Glyph 35843 (\\N{CJK UNIFIED IDEOGRAPH-8C03}) missing from current font.\n",
      "  fig.savefig(save_dir, dpi=250)\n",
      "D:\\code\\env\\anaconda\\envs\\mhy-yolo\\Lib\\site-packages\\ultralytics\\utils\\metrics.py:495: UserWarning: Glyph 24687 (\\N{CJK UNIFIED IDEOGRAPH-606F}) missing from current font.\n",
      "  fig.savefig(save_dir, dpi=250)\n",
      "D:\\code\\env\\anaconda\\envs\\mhy-yolo\\Lib\\site-packages\\ultralytics\\utils\\metrics.py:495: UserWarning: Glyph 37030 (\\N{CJK UNIFIED IDEOGRAPH-90A6}) missing from current font.\n",
      "  fig.savefig(save_dir, dpi=250)\n",
      "D:\\code\\env\\anaconda\\envs\\mhy-yolo\\Lib\\site-packages\\ultralytics\\utils\\metrics.py:495: UserWarning: Glyph 24067 (\\N{CJK UNIFIED IDEOGRAPH-5E03}) missing from current font.\n",
      "  fig.savefig(save_dir, dpi=250)\n",
      "D:\\code\\env\\anaconda\\envs\\mhy-yolo\\Lib\\site-packages\\ultralytics\\utils\\metrics.py:495: UserWarning: Glyph 21830 (\\N{CJK UNIFIED IDEOGRAPH-5546}) missing from current font.\n",
      "  fig.savefig(save_dir, dpi=250)\n",
      "D:\\code\\env\\anaconda\\envs\\mhy-yolo\\Lib\\site-packages\\ultralytics\\utils\\metrics.py:495: UserWarning: Glyph 24215 (\\N{CJK UNIFIED IDEOGRAPH-5E97}) missing from current font.\n",
      "  fig.savefig(save_dir, dpi=250)\n",
      "D:\\code\\env\\anaconda\\envs\\mhy-yolo\\Lib\\site-packages\\ultralytics\\utils\\metrics.py:495: UserWarning: Glyph 25370 (\\N{CJK UNIFIED IDEOGRAPH-631A}) missing from current font.\n",
      "  fig.savefig(save_dir, dpi=250)\n",
      "D:\\code\\env\\anaconda\\envs\\mhy-yolo\\Lib\\site-packages\\ultralytics\\utils\\metrics.py:495: UserWarning: Glyph 20132 (\\N{CJK UNIFIED IDEOGRAPH-4EA4}) missing from current font.\n",
      "  fig.savefig(save_dir, dpi=250)\n",
      "D:\\code\\env\\anaconda\\envs\\mhy-yolo\\Lib\\site-packages\\ultralytics\\utils\\metrics.py:495: UserWarning: Glyph 20250 (\\N{CJK UNIFIED IDEOGRAPH-4F1A}) missing from current font.\n",
      "  fig.savefig(save_dir, dpi=250)\n",
      "D:\\code\\env\\anaconda\\envs\\mhy-yolo\\Lib\\site-packages\\ultralytics\\utils\\metrics.py:495: UserWarning: Glyph 35848 (\\N{CJK UNIFIED IDEOGRAPH-8C08}) missing from current font.\n",
      "  fig.savefig(save_dir, dpi=250)\n",
      "D:\\code\\env\\anaconda\\envs\\mhy-yolo\\Lib\\site-packages\\ultralytics\\utils\\metrics.py:495: UserWarning: Glyph 36947 (\\N{CJK UNIFIED IDEOGRAPH-9053}) missing from current font.\n",
      "  fig.savefig(save_dir, dpi=250)\n",
      "D:\\code\\env\\anaconda\\envs\\mhy-yolo\\Lib\\site-packages\\ultralytics\\utils\\metrics.py:495: UserWarning: Glyph 20013 (\\N{CJK UNIFIED IDEOGRAPH-4E2D}) missing from current font.\n",
      "  fig.savefig(save_dir, dpi=250)\n",
      "D:\\code\\env\\anaconda\\envs\\mhy-yolo\\Lib\\site-packages\\ultralytics\\utils\\metrics.py:495: UserWarning: Glyph 21361 (\\N{CJK UNIFIED IDEOGRAPH-5371}) missing from current font.\n",
      "  fig.savefig(save_dir, dpi=250)\n",
      "D:\\code\\env\\anaconda\\envs\\mhy-yolo\\Lib\\site-packages\\ultralytics\\utils\\metrics.py:495: UserWarning: Glyph 26426 (\\N{CJK UNIFIED IDEOGRAPH-673A}) missing from current font.\n",
      "  fig.savefig(save_dir, dpi=250)\n",
      "D:\\code\\env\\anaconda\\envs\\mhy-yolo\\Lib\\site-packages\\ultralytics\\utils\\metrics.py:495: UserWarning: Glyph 32456 (\\N{CJK UNIFIED IDEOGRAPH-7EC8}) missing from current font.\n",
      "  fig.savefig(save_dir, dpi=250)\n",
      "D:\\code\\env\\anaconda\\envs\\mhy-yolo\\Lib\\site-packages\\ultralytics\\utils\\metrics.py:495: UserWarning: Glyph 32467 (\\N{CJK UNIFIED IDEOGRAPH-7ED3}) missing from current font.\n",
      "  fig.savefig(save_dir, dpi=250)\n",
      "D:\\code\\env\\anaconda\\envs\\mhy-yolo\\Lib\\site-packages\\ultralytics\\utils\\metrics.py:495: UserWarning: Glyph 24441 (\\N{CJK UNIFIED IDEOGRAPH-5F79}) missing from current font.\n",
      "  fig.savefig(save_dir, dpi=250)\n"
     ]
    },
    {
     "name": "stdout",
     "output_type": "stream",
     "text": [
      "                   all        605       1970      0.999          1      0.995      0.995\n",
      "              0000-        192        243          1          1      0.995      0.995\n",
      "               0001-        178        188          1          1      0.995      0.995\n",
      "            0002--        240        299          1          1      0.995      0.995\n",
      "            0003--        147        161      0.999          1      0.995      0.995\n",
      "            0004--         87         93      0.999          1      0.995      0.995\n",
      "            0005--        104        109      0.999          1      0.995      0.995\n",
      "            0006--         96        100      0.999          1      0.995      0.995\n",
      "             0007-        134        162          1          1      0.995      0.995\n",
      "             0008-         83         97      0.999          1      0.995      0.995\n",
      "             0009-         95        101      0.999          1      0.995      0.995\n",
      "             0010-         94        104      0.999          1      0.995      0.995\n",
      "             0011-         93         96      0.999          1      0.995      0.995\n",
      "          0012--        109        115      0.999          1      0.995      0.995\n",
      "          0013--         98        102      0.999          1      0.995      0.995\n"
     ]
    },
    {
     "name": "stderr",
     "output_type": "stream",
     "text": [
      "D:\\code\\env\\anaconda\\envs\\mhy-yolo\\Lib\\site-packages\\ultralytics\\utils\\metrics.py:432: UserWarning: Glyph 24863 (\\N{CJK UNIFIED IDEOGRAPH-611F}) missing from current font.\n",
      "  fig.savefig(plot_fname, dpi=250)\n",
      "D:\\code\\env\\anaconda\\envs\\mhy-yolo\\Lib\\site-packages\\ultralytics\\utils\\metrics.py:432: UserWarning: Glyph 21497 (\\N{CJK UNIFIED IDEOGRAPH-53F9}) missing from current font.\n",
      "  fig.savefig(plot_fname, dpi=250)\n",
      "D:\\code\\env\\anaconda\\envs\\mhy-yolo\\Lib\\site-packages\\ultralytics\\utils\\metrics.py:432: UserWarning: Glyph 21495 (\\N{CJK UNIFIED IDEOGRAPH-53F7}) missing from current font.\n",
      "  fig.savefig(plot_fname, dpi=250)\n",
      "D:\\code\\env\\anaconda\\envs\\mhy-yolo\\Lib\\site-packages\\ultralytics\\utils\\metrics.py:432: UserWarning: Glyph 36317 (\\N{CJK UNIFIED IDEOGRAPH-8DDD}) missing from current font.\n",
      "  fig.savefig(plot_fname, dpi=250)\n",
      "D:\\code\\env\\anaconda\\envs\\mhy-yolo\\Lib\\site-packages\\ultralytics\\utils\\metrics.py:432: UserWarning: Glyph 31163 (\\N{CJK UNIFIED IDEOGRAPH-79BB}) missing from current font.\n",
      "  fig.savefig(plot_fname, dpi=250)\n",
      "D:\\code\\env\\anaconda\\envs\\mhy-yolo\\Lib\\site-packages\\ultralytics\\utils\\metrics.py:432: UserWarning: Glyph 25112 (\\N{CJK UNIFIED IDEOGRAPH-6218}) missing from current font.\n",
      "  fig.savefig(plot_fname, dpi=250)\n",
      "D:\\code\\env\\anaconda\\envs\\mhy-yolo\\Lib\\site-packages\\ultralytics\\utils\\metrics.py:432: UserWarning: Glyph 26007 (\\N{CJK UNIFIED IDEOGRAPH-6597}) missing from current font.\n",
      "  fig.savefig(plot_fname, dpi=250)\n",
      "D:\\code\\env\\anaconda\\envs\\mhy-yolo\\Lib\\site-packages\\ultralytics\\utils\\metrics.py:432: UserWarning: Glyph 40483 (\\N{CJK UNIFIED IDEOGRAPH-9E23}) missing from current font.\n",
      "  fig.savefig(plot_fname, dpi=250)\n",
      "D:\\code\\env\\anaconda\\envs\\mhy-yolo\\Lib\\site-packages\\ultralytics\\utils\\metrics.py:432: UserWarning: Glyph 24509 (\\N{CJK UNIFIED IDEOGRAPH-5FBD}) missing from current font.\n",
      "  fig.savefig(plot_fname, dpi=250)\n",
      "D:\\code\\env\\anaconda\\envs\\mhy-yolo\\Lib\\site-packages\\ultralytics\\utils\\metrics.py:432: UserWarning: Glyph 27494 (\\N{CJK UNIFIED IDEOGRAPH-6B66}) missing from current font.\n",
      "  fig.savefig(plot_fname, dpi=250)\n",
      "D:\\code\\env\\anaconda\\envs\\mhy-yolo\\Lib\\site-packages\\ultralytics\\utils\\metrics.py:432: UserWarning: Glyph 22791 (\\N{CJK UNIFIED IDEOGRAPH-5907}) missing from current font.\n",
      "  fig.savefig(plot_fname, dpi=250)\n",
      "D:\\code\\env\\anaconda\\envs\\mhy-yolo\\Lib\\site-packages\\ultralytics\\utils\\metrics.py:432: UserWarning: Glyph 30828 (\\N{CJK UNIFIED IDEOGRAPH-786C}) missing from current font.\n",
      "  fig.savefig(plot_fname, dpi=250)\n",
      "D:\\code\\env\\anaconda\\envs\\mhy-yolo\\Lib\\site-packages\\ultralytics\\utils\\metrics.py:432: UserWarning: Glyph 24065 (\\N{CJK UNIFIED IDEOGRAPH-5E01}) missing from current font.\n",
      "  fig.savefig(plot_fname, dpi=250)\n",
      "D:\\code\\env\\anaconda\\envs\\mhy-yolo\\Lib\\site-packages\\ultralytics\\utils\\metrics.py:432: UserWarning: Glyph 25361 (\\N{CJK UNIFIED IDEOGRAPH-6311}) missing from current font.\n",
      "  fig.savefig(plot_fname, dpi=250)\n",
      "D:\\code\\env\\anaconda\\envs\\mhy-yolo\\Lib\\site-packages\\ultralytics\\utils\\metrics.py:432: UserWarning: Glyph 26080 (\\N{CJK UNIFIED IDEOGRAPH-65E0}) missing from current font.\n",
      "  fig.savefig(plot_fname, dpi=250)\n",
      "D:\\code\\env\\anaconda\\envs\\mhy-yolo\\Lib\\site-packages\\ultralytics\\utils\\metrics.py:432: UserWarning: Glyph 20260 (\\N{CJK UNIFIED IDEOGRAPH-4F24}) missing from current font.\n",
      "  fig.savefig(plot_fname, dpi=250)\n",
      "D:\\code\\env\\anaconda\\envs\\mhy-yolo\\Lib\\site-packages\\ultralytics\\utils\\metrics.py:432: UserWarning: Glyph 38480 (\\N{CJK UNIFIED IDEOGRAPH-9650}) missing from current font.\n",
      "  fig.savefig(plot_fname, dpi=250)\n",
      "D:\\code\\env\\anaconda\\envs\\mhy-yolo\\Lib\\site-packages\\ultralytics\\utils\\metrics.py:432: UserWarning: Glyph 26102 (\\N{CJK UNIFIED IDEOGRAPH-65F6}) missing from current font.\n",
      "  fig.savefig(plot_fname, dpi=250)\n",
      "D:\\code\\env\\anaconda\\envs\\mhy-yolo\\Lib\\site-packages\\ultralytics\\utils\\metrics.py:432: UserWarning: Glyph 20598 (\\N{CJK UNIFIED IDEOGRAPH-5076}) missing from current font.\n",
      "  fig.savefig(plot_fname, dpi=250)\n",
      "D:\\code\\env\\anaconda\\envs\\mhy-yolo\\Lib\\site-packages\\ultralytics\\utils\\metrics.py:432: UserWarning: Glyph 36935 (\\N{CJK UNIFIED IDEOGRAPH-9047}) missing from current font.\n",
      "  fig.savefig(plot_fname, dpi=250)\n",
      "D:\\code\\env\\anaconda\\envs\\mhy-yolo\\Lib\\site-packages\\ultralytics\\utils\\metrics.py:432: UserWarning: Glyph 20107 (\\N{CJK UNIFIED IDEOGRAPH-4E8B}) missing from current font.\n",
      "  fig.savefig(plot_fname, dpi=250)\n",
      "D:\\code\\env\\anaconda\\envs\\mhy-yolo\\Lib\\site-packages\\ultralytics\\utils\\metrics.py:432: UserWarning: Glyph 20214 (\\N{CJK UNIFIED IDEOGRAPH-4EF6}) missing from current font.\n",
      "  fig.savefig(plot_fname, dpi=250)\n",
      "D:\\code\\env\\anaconda\\envs\\mhy-yolo\\Lib\\site-packages\\ultralytics\\utils\\metrics.py:432: UserWarning: Glyph 20195 (\\N{CJK UNIFIED IDEOGRAPH-4EE3}) missing from current font.\n",
      "  fig.savefig(plot_fname, dpi=250)\n",
      "D:\\code\\env\\anaconda\\envs\\mhy-yolo\\Lib\\site-packages\\ultralytics\\utils\\metrics.py:432: UserWarning: Glyph 20215 (\\N{CJK UNIFIED IDEOGRAPH-4EF7}) missing from current font.\n",
      "  fig.savefig(plot_fname, dpi=250)\n",
      "D:\\code\\env\\anaconda\\envs\\mhy-yolo\\Lib\\site-packages\\ultralytics\\utils\\metrics.py:432: UserWarning: Glyph 20043 (\\N{CJK UNIFIED IDEOGRAPH-4E4B}) missing from current font.\n",
      "  fig.savefig(plot_fname, dpi=250)\n",
      "D:\\code\\env\\anaconda\\envs\\mhy-yolo\\Lib\\site-packages\\ultralytics\\utils\\metrics.py:432: UserWarning: Glyph 38388 (\\N{CJK UNIFIED IDEOGRAPH-95F4}) missing from current font.\n",
      "  fig.savefig(plot_fname, dpi=250)\n",
      "D:\\code\\env\\anaconda\\envs\\mhy-yolo\\Lib\\site-packages\\ultralytics\\utils\\metrics.py:432: UserWarning: Glyph 20241 (\\N{CJK UNIFIED IDEOGRAPH-4F11}) missing from current font.\n",
      "  fig.savefig(plot_fname, dpi=250)\n",
      "D:\\code\\env\\anaconda\\envs\\mhy-yolo\\Lib\\site-packages\\ultralytics\\utils\\metrics.py:432: UserWarning: Glyph 25001 (\\N{CJK UNIFIED IDEOGRAPH-61A9}) missing from current font.\n",
      "  fig.savefig(plot_fname, dpi=250)\n",
      "D:\\code\\env\\anaconda\\envs\\mhy-yolo\\Lib\\site-packages\\ultralytics\\utils\\metrics.py:432: UserWarning: Glyph 35843 (\\N{CJK UNIFIED IDEOGRAPH-8C03}) missing from current font.\n",
      "  fig.savefig(plot_fname, dpi=250)\n",
      "D:\\code\\env\\anaconda\\envs\\mhy-yolo\\Lib\\site-packages\\ultralytics\\utils\\metrics.py:432: UserWarning: Glyph 24687 (\\N{CJK UNIFIED IDEOGRAPH-606F}) missing from current font.\n",
      "  fig.savefig(plot_fname, dpi=250)\n",
      "D:\\code\\env\\anaconda\\envs\\mhy-yolo\\Lib\\site-packages\\ultralytics\\utils\\metrics.py:432: UserWarning: Glyph 37030 (\\N{CJK UNIFIED IDEOGRAPH-90A6}) missing from current font.\n",
      "  fig.savefig(plot_fname, dpi=250)\n",
      "D:\\code\\env\\anaconda\\envs\\mhy-yolo\\Lib\\site-packages\\ultralytics\\utils\\metrics.py:432: UserWarning: Glyph 24067 (\\N{CJK UNIFIED IDEOGRAPH-5E03}) missing from current font.\n",
      "  fig.savefig(plot_fname, dpi=250)\n",
      "D:\\code\\env\\anaconda\\envs\\mhy-yolo\\Lib\\site-packages\\ultralytics\\utils\\metrics.py:432: UserWarning: Glyph 21830 (\\N{CJK UNIFIED IDEOGRAPH-5546}) missing from current font.\n",
      "  fig.savefig(plot_fname, dpi=250)\n",
      "D:\\code\\env\\anaconda\\envs\\mhy-yolo\\Lib\\site-packages\\ultralytics\\utils\\metrics.py:432: UserWarning: Glyph 24215 (\\N{CJK UNIFIED IDEOGRAPH-5E97}) missing from current font.\n",
      "  fig.savefig(plot_fname, dpi=250)\n",
      "D:\\code\\env\\anaconda\\envs\\mhy-yolo\\Lib\\site-packages\\ultralytics\\utils\\metrics.py:432: UserWarning: Glyph 25370 (\\N{CJK UNIFIED IDEOGRAPH-631A}) missing from current font.\n",
      "  fig.savefig(plot_fname, dpi=250)\n",
      "D:\\code\\env\\anaconda\\envs\\mhy-yolo\\Lib\\site-packages\\ultralytics\\utils\\metrics.py:432: UserWarning: Glyph 20132 (\\N{CJK UNIFIED IDEOGRAPH-4EA4}) missing from current font.\n",
      "  fig.savefig(plot_fname, dpi=250)\n",
      "D:\\code\\env\\anaconda\\envs\\mhy-yolo\\Lib\\site-packages\\ultralytics\\utils\\metrics.py:432: UserWarning: Glyph 20250 (\\N{CJK UNIFIED IDEOGRAPH-4F1A}) missing from current font.\n",
      "  fig.savefig(plot_fname, dpi=250)\n",
      "D:\\code\\env\\anaconda\\envs\\mhy-yolo\\Lib\\site-packages\\ultralytics\\utils\\metrics.py:432: UserWarning: Glyph 35848 (\\N{CJK UNIFIED IDEOGRAPH-8C08}) missing from current font.\n",
      "  fig.savefig(plot_fname, dpi=250)\n",
      "D:\\code\\env\\anaconda\\envs\\mhy-yolo\\Lib\\site-packages\\ultralytics\\utils\\metrics.py:432: UserWarning: Glyph 36947 (\\N{CJK UNIFIED IDEOGRAPH-9053}) missing from current font.\n",
      "  fig.savefig(plot_fname, dpi=250)\n",
      "D:\\code\\env\\anaconda\\envs\\mhy-yolo\\Lib\\site-packages\\ultralytics\\utils\\metrics.py:432: UserWarning: Glyph 20013 (\\N{CJK UNIFIED IDEOGRAPH-4E2D}) missing from current font.\n",
      "  fig.savefig(plot_fname, dpi=250)\n",
      "D:\\code\\env\\anaconda\\envs\\mhy-yolo\\Lib\\site-packages\\ultralytics\\utils\\metrics.py:432: UserWarning: Glyph 21361 (\\N{CJK UNIFIED IDEOGRAPH-5371}) missing from current font.\n",
      "  fig.savefig(plot_fname, dpi=250)\n",
      "D:\\code\\env\\anaconda\\envs\\mhy-yolo\\Lib\\site-packages\\ultralytics\\utils\\metrics.py:432: UserWarning: Glyph 26426 (\\N{CJK UNIFIED IDEOGRAPH-673A}) missing from current font.\n",
      "  fig.savefig(plot_fname, dpi=250)\n",
      "D:\\code\\env\\anaconda\\envs\\mhy-yolo\\Lib\\site-packages\\ultralytics\\utils\\metrics.py:432: UserWarning: Glyph 32456 (\\N{CJK UNIFIED IDEOGRAPH-7EC8}) missing from current font.\n",
      "  fig.savefig(plot_fname, dpi=250)\n",
      "D:\\code\\env\\anaconda\\envs\\mhy-yolo\\Lib\\site-packages\\ultralytics\\utils\\metrics.py:432: UserWarning: Glyph 32467 (\\N{CJK UNIFIED IDEOGRAPH-7ED3}) missing from current font.\n",
      "  fig.savefig(plot_fname, dpi=250)\n",
      "D:\\code\\env\\anaconda\\envs\\mhy-yolo\\Lib\\site-packages\\ultralytics\\utils\\metrics.py:432: UserWarning: Glyph 24441 (\\N{CJK UNIFIED IDEOGRAPH-5F79}) missing from current font.\n",
      "  fig.savefig(plot_fname, dpi=250)\n",
      "D:\\code\\env\\anaconda\\envs\\mhy-yolo\\Lib\\site-packages\\ultralytics\\utils\\metrics.py:432: UserWarning: Glyph 24863 (\\N{CJK UNIFIED IDEOGRAPH-611F}) missing from current font.\n",
      "  fig.savefig(plot_fname, dpi=250)\n",
      "D:\\code\\env\\anaconda\\envs\\mhy-yolo\\Lib\\site-packages\\ultralytics\\utils\\metrics.py:432: UserWarning: Glyph 21497 (\\N{CJK UNIFIED IDEOGRAPH-53F9}) missing from current font.\n",
      "  fig.savefig(plot_fname, dpi=250)\n",
      "D:\\code\\env\\anaconda\\envs\\mhy-yolo\\Lib\\site-packages\\ultralytics\\utils\\metrics.py:432: UserWarning: Glyph 21495 (\\N{CJK UNIFIED IDEOGRAPH-53F7}) missing from current font.\n",
      "  fig.savefig(plot_fname, dpi=250)\n",
      "D:\\code\\env\\anaconda\\envs\\mhy-yolo\\Lib\\site-packages\\ultralytics\\utils\\metrics.py:432: UserWarning: Glyph 36317 (\\N{CJK UNIFIED IDEOGRAPH-8DDD}) missing from current font.\n",
      "  fig.savefig(plot_fname, dpi=250)\n",
      "D:\\code\\env\\anaconda\\envs\\mhy-yolo\\Lib\\site-packages\\ultralytics\\utils\\metrics.py:432: UserWarning: Glyph 31163 (\\N{CJK UNIFIED IDEOGRAPH-79BB}) missing from current font.\n",
      "  fig.savefig(plot_fname, dpi=250)\n",
      "D:\\code\\env\\anaconda\\envs\\mhy-yolo\\Lib\\site-packages\\ultralytics\\utils\\metrics.py:432: UserWarning: Glyph 25112 (\\N{CJK UNIFIED IDEOGRAPH-6218}) missing from current font.\n",
      "  fig.savefig(plot_fname, dpi=250)\n",
      "D:\\code\\env\\anaconda\\envs\\mhy-yolo\\Lib\\site-packages\\ultralytics\\utils\\metrics.py:432: UserWarning: Glyph 26007 (\\N{CJK UNIFIED IDEOGRAPH-6597}) missing from current font.\n",
      "  fig.savefig(plot_fname, dpi=250)\n",
      "D:\\code\\env\\anaconda\\envs\\mhy-yolo\\Lib\\site-packages\\ultralytics\\utils\\metrics.py:432: UserWarning: Glyph 40483 (\\N{CJK UNIFIED IDEOGRAPH-9E23}) missing from current font.\n",
      "  fig.savefig(plot_fname, dpi=250)\n",
      "D:\\code\\env\\anaconda\\envs\\mhy-yolo\\Lib\\site-packages\\ultralytics\\utils\\metrics.py:432: UserWarning: Glyph 24509 (\\N{CJK UNIFIED IDEOGRAPH-5FBD}) missing from current font.\n",
      "  fig.savefig(plot_fname, dpi=250)\n",
      "D:\\code\\env\\anaconda\\envs\\mhy-yolo\\Lib\\site-packages\\ultralytics\\utils\\metrics.py:432: UserWarning: Glyph 27494 (\\N{CJK UNIFIED IDEOGRAPH-6B66}) missing from current font.\n",
      "  fig.savefig(plot_fname, dpi=250)\n",
      "D:\\code\\env\\anaconda\\envs\\mhy-yolo\\Lib\\site-packages\\ultralytics\\utils\\metrics.py:432: UserWarning: Glyph 22791 (\\N{CJK UNIFIED IDEOGRAPH-5907}) missing from current font.\n",
      "  fig.savefig(plot_fname, dpi=250)\n",
      "D:\\code\\env\\anaconda\\envs\\mhy-yolo\\Lib\\site-packages\\ultralytics\\utils\\metrics.py:432: UserWarning: Glyph 30828 (\\N{CJK UNIFIED IDEOGRAPH-786C}) missing from current font.\n",
      "  fig.savefig(plot_fname, dpi=250)\n",
      "D:\\code\\env\\anaconda\\envs\\mhy-yolo\\Lib\\site-packages\\ultralytics\\utils\\metrics.py:432: UserWarning: Glyph 24065 (\\N{CJK UNIFIED IDEOGRAPH-5E01}) missing from current font.\n",
      "  fig.savefig(plot_fname, dpi=250)\n",
      "D:\\code\\env\\anaconda\\envs\\mhy-yolo\\Lib\\site-packages\\ultralytics\\utils\\metrics.py:432: UserWarning: Glyph 25361 (\\N{CJK UNIFIED IDEOGRAPH-6311}) missing from current font.\n",
      "  fig.savefig(plot_fname, dpi=250)\n",
      "D:\\code\\env\\anaconda\\envs\\mhy-yolo\\Lib\\site-packages\\ultralytics\\utils\\metrics.py:432: UserWarning: Glyph 26080 (\\N{CJK UNIFIED IDEOGRAPH-65E0}) missing from current font.\n",
      "  fig.savefig(plot_fname, dpi=250)\n",
      "D:\\code\\env\\anaconda\\envs\\mhy-yolo\\Lib\\site-packages\\ultralytics\\utils\\metrics.py:432: UserWarning: Glyph 20260 (\\N{CJK UNIFIED IDEOGRAPH-4F24}) missing from current font.\n",
      "  fig.savefig(plot_fname, dpi=250)\n",
      "D:\\code\\env\\anaconda\\envs\\mhy-yolo\\Lib\\site-packages\\ultralytics\\utils\\metrics.py:432: UserWarning: Glyph 38480 (\\N{CJK UNIFIED IDEOGRAPH-9650}) missing from current font.\n",
      "  fig.savefig(plot_fname, dpi=250)\n",
      "D:\\code\\env\\anaconda\\envs\\mhy-yolo\\Lib\\site-packages\\ultralytics\\utils\\metrics.py:432: UserWarning: Glyph 26102 (\\N{CJK UNIFIED IDEOGRAPH-65F6}) missing from current font.\n",
      "  fig.savefig(plot_fname, dpi=250)\n",
      "D:\\code\\env\\anaconda\\envs\\mhy-yolo\\Lib\\site-packages\\ultralytics\\utils\\metrics.py:432: UserWarning: Glyph 20598 (\\N{CJK UNIFIED IDEOGRAPH-5076}) missing from current font.\n",
      "  fig.savefig(plot_fname, dpi=250)\n",
      "D:\\code\\env\\anaconda\\envs\\mhy-yolo\\Lib\\site-packages\\ultralytics\\utils\\metrics.py:432: UserWarning: Glyph 36935 (\\N{CJK UNIFIED IDEOGRAPH-9047}) missing from current font.\n",
      "  fig.savefig(plot_fname, dpi=250)\n",
      "D:\\code\\env\\anaconda\\envs\\mhy-yolo\\Lib\\site-packages\\ultralytics\\utils\\metrics.py:432: UserWarning: Glyph 20107 (\\N{CJK UNIFIED IDEOGRAPH-4E8B}) missing from current font.\n",
      "  fig.savefig(plot_fname, dpi=250)\n",
      "D:\\code\\env\\anaconda\\envs\\mhy-yolo\\Lib\\site-packages\\ultralytics\\utils\\metrics.py:432: UserWarning: Glyph 20214 (\\N{CJK UNIFIED IDEOGRAPH-4EF6}) missing from current font.\n",
      "  fig.savefig(plot_fname, dpi=250)\n",
      "D:\\code\\env\\anaconda\\envs\\mhy-yolo\\Lib\\site-packages\\ultralytics\\utils\\metrics.py:432: UserWarning: Glyph 20195 (\\N{CJK UNIFIED IDEOGRAPH-4EE3}) missing from current font.\n",
      "  fig.savefig(plot_fname, dpi=250)\n",
      "D:\\code\\env\\anaconda\\envs\\mhy-yolo\\Lib\\site-packages\\ultralytics\\utils\\metrics.py:432: UserWarning: Glyph 20215 (\\N{CJK UNIFIED IDEOGRAPH-4EF7}) missing from current font.\n",
      "  fig.savefig(plot_fname, dpi=250)\n",
      "D:\\code\\env\\anaconda\\envs\\mhy-yolo\\Lib\\site-packages\\ultralytics\\utils\\metrics.py:432: UserWarning: Glyph 20043 (\\N{CJK UNIFIED IDEOGRAPH-4E4B}) missing from current font.\n",
      "  fig.savefig(plot_fname, dpi=250)\n",
      "D:\\code\\env\\anaconda\\envs\\mhy-yolo\\Lib\\site-packages\\ultralytics\\utils\\metrics.py:432: UserWarning: Glyph 38388 (\\N{CJK UNIFIED IDEOGRAPH-95F4}) missing from current font.\n",
      "  fig.savefig(plot_fname, dpi=250)\n",
      "D:\\code\\env\\anaconda\\envs\\mhy-yolo\\Lib\\site-packages\\ultralytics\\utils\\metrics.py:432: UserWarning: Glyph 20241 (\\N{CJK UNIFIED IDEOGRAPH-4F11}) missing from current font.\n",
      "  fig.savefig(plot_fname, dpi=250)\n",
      "D:\\code\\env\\anaconda\\envs\\mhy-yolo\\Lib\\site-packages\\ultralytics\\utils\\metrics.py:432: UserWarning: Glyph 25001 (\\N{CJK UNIFIED IDEOGRAPH-61A9}) missing from current font.\n",
      "  fig.savefig(plot_fname, dpi=250)\n",
      "D:\\code\\env\\anaconda\\envs\\mhy-yolo\\Lib\\site-packages\\ultralytics\\utils\\metrics.py:432: UserWarning: Glyph 35843 (\\N{CJK UNIFIED IDEOGRAPH-8C03}) missing from current font.\n",
      "  fig.savefig(plot_fname, dpi=250)\n",
      "D:\\code\\env\\anaconda\\envs\\mhy-yolo\\Lib\\site-packages\\ultralytics\\utils\\metrics.py:432: UserWarning: Glyph 24687 (\\N{CJK UNIFIED IDEOGRAPH-606F}) missing from current font.\n",
      "  fig.savefig(plot_fname, dpi=250)\n",
      "D:\\code\\env\\anaconda\\envs\\mhy-yolo\\Lib\\site-packages\\ultralytics\\utils\\metrics.py:432: UserWarning: Glyph 37030 (\\N{CJK UNIFIED IDEOGRAPH-90A6}) missing from current font.\n",
      "  fig.savefig(plot_fname, dpi=250)\n",
      "D:\\code\\env\\anaconda\\envs\\mhy-yolo\\Lib\\site-packages\\ultralytics\\utils\\metrics.py:432: UserWarning: Glyph 24067 (\\N{CJK UNIFIED IDEOGRAPH-5E03}) missing from current font.\n",
      "  fig.savefig(plot_fname, dpi=250)\n",
      "D:\\code\\env\\anaconda\\envs\\mhy-yolo\\Lib\\site-packages\\ultralytics\\utils\\metrics.py:432: UserWarning: Glyph 21830 (\\N{CJK UNIFIED IDEOGRAPH-5546}) missing from current font.\n",
      "  fig.savefig(plot_fname, dpi=250)\n",
      "D:\\code\\env\\anaconda\\envs\\mhy-yolo\\Lib\\site-packages\\ultralytics\\utils\\metrics.py:432: UserWarning: Glyph 24215 (\\N{CJK UNIFIED IDEOGRAPH-5E97}) missing from current font.\n",
      "  fig.savefig(plot_fname, dpi=250)\n",
      "D:\\code\\env\\anaconda\\envs\\mhy-yolo\\Lib\\site-packages\\ultralytics\\utils\\metrics.py:432: UserWarning: Glyph 25370 (\\N{CJK UNIFIED IDEOGRAPH-631A}) missing from current font.\n",
      "  fig.savefig(plot_fname, dpi=250)\n",
      "D:\\code\\env\\anaconda\\envs\\mhy-yolo\\Lib\\site-packages\\ultralytics\\utils\\metrics.py:432: UserWarning: Glyph 20132 (\\N{CJK UNIFIED IDEOGRAPH-4EA4}) missing from current font.\n",
      "  fig.savefig(plot_fname, dpi=250)\n",
      "D:\\code\\env\\anaconda\\envs\\mhy-yolo\\Lib\\site-packages\\ultralytics\\utils\\metrics.py:432: UserWarning: Glyph 20250 (\\N{CJK UNIFIED IDEOGRAPH-4F1A}) missing from current font.\n",
      "  fig.savefig(plot_fname, dpi=250)\n",
      "D:\\code\\env\\anaconda\\envs\\mhy-yolo\\Lib\\site-packages\\ultralytics\\utils\\metrics.py:432: UserWarning: Glyph 35848 (\\N{CJK UNIFIED IDEOGRAPH-8C08}) missing from current font.\n",
      "  fig.savefig(plot_fname, dpi=250)\n",
      "D:\\code\\env\\anaconda\\envs\\mhy-yolo\\Lib\\site-packages\\ultralytics\\utils\\metrics.py:432: UserWarning: Glyph 36947 (\\N{CJK UNIFIED IDEOGRAPH-9053}) missing from current font.\n",
      "  fig.savefig(plot_fname, dpi=250)\n",
      "D:\\code\\env\\anaconda\\envs\\mhy-yolo\\Lib\\site-packages\\ultralytics\\utils\\metrics.py:432: UserWarning: Glyph 20013 (\\N{CJK UNIFIED IDEOGRAPH-4E2D}) missing from current font.\n",
      "  fig.savefig(plot_fname, dpi=250)\n",
      "D:\\code\\env\\anaconda\\envs\\mhy-yolo\\Lib\\site-packages\\ultralytics\\utils\\metrics.py:432: UserWarning: Glyph 21361 (\\N{CJK UNIFIED IDEOGRAPH-5371}) missing from current font.\n",
      "  fig.savefig(plot_fname, dpi=250)\n",
      "D:\\code\\env\\anaconda\\envs\\mhy-yolo\\Lib\\site-packages\\ultralytics\\utils\\metrics.py:432: UserWarning: Glyph 26426 (\\N{CJK UNIFIED IDEOGRAPH-673A}) missing from current font.\n",
      "  fig.savefig(plot_fname, dpi=250)\n",
      "D:\\code\\env\\anaconda\\envs\\mhy-yolo\\Lib\\site-packages\\ultralytics\\utils\\metrics.py:432: UserWarning: Glyph 32456 (\\N{CJK UNIFIED IDEOGRAPH-7EC8}) missing from current font.\n",
      "  fig.savefig(plot_fname, dpi=250)\n",
      "D:\\code\\env\\anaconda\\envs\\mhy-yolo\\Lib\\site-packages\\ultralytics\\utils\\metrics.py:432: UserWarning: Glyph 32467 (\\N{CJK UNIFIED IDEOGRAPH-7ED3}) missing from current font.\n",
      "  fig.savefig(plot_fname, dpi=250)\n",
      "D:\\code\\env\\anaconda\\envs\\mhy-yolo\\Lib\\site-packages\\ultralytics\\utils\\metrics.py:432: UserWarning: Glyph 24441 (\\N{CJK UNIFIED IDEOGRAPH-5F79}) missing from current font.\n",
      "  fig.savefig(plot_fname, dpi=250)\n"
     ]
    },
    {
     "name": "stdout",
     "output_type": "stream",
     "text": [
      "Speed: 0.5ms preprocess, 2.0ms inference, 0.0ms loss, 1.4ms postprocess per image\n",
      "Results saved to \u001b[1mD:\\code\\workspace\\OneDragon-YOLO\\ultralytics\\runs\\zzz_lost_void_det_2208\\yolov8n-736\u001b[0m\n"
     ]
    },
    {
     "data": {
      "text/plain": [
       "ultralytics.utils.metrics.DetMetrics object with attributes:\n",
       "\n",
       "ap_class_index: array([ 0,  1,  2,  3,  4,  5,  6,  7,  8,  9, 10, 11, 12, 13])\n",
       "box: ultralytics.utils.metrics.Metric object\n",
       "confusion_matrix: <ultralytics.utils.metrics.ConfusionMatrix object at 0x00000195D1003AD0>\n",
       "curves: ['Precision-Recall(B)', 'F1-Confidence(B)', 'Precision-Confidence(B)', 'Recall-Confidence(B)']\n",
       "curves_results: [[array([          0,    0.001001,    0.002002,    0.003003,    0.004004,    0.005005,    0.006006,    0.007007,    0.008008,    0.009009,     0.01001,    0.011011,    0.012012,    0.013013,    0.014014,    0.015015,    0.016016,    0.017017,    0.018018,    0.019019,     0.02002,    0.021021,    0.022022,    0.023023,\n",
       "          0.024024,    0.025025,    0.026026,    0.027027,    0.028028,    0.029029,     0.03003,    0.031031,    0.032032,    0.033033,    0.034034,    0.035035,    0.036036,    0.037037,    0.038038,    0.039039,     0.04004,    0.041041,    0.042042,    0.043043,    0.044044,    0.045045,    0.046046,    0.047047,\n",
       "          0.048048,    0.049049,     0.05005,    0.051051,    0.052052,    0.053053,    0.054054,    0.055055,    0.056056,    0.057057,    0.058058,    0.059059,     0.06006,    0.061061,    0.062062,    0.063063,    0.064064,    0.065065,    0.066066,    0.067067,    0.068068,    0.069069,     0.07007,    0.071071,\n",
       "          0.072072,    0.073073,    0.074074,    0.075075,    0.076076,    0.077077,    0.078078,    0.079079,     0.08008,    0.081081,    0.082082,    0.083083,    0.084084,    0.085085,    0.086086,    0.087087,    0.088088,    0.089089,     0.09009,    0.091091,    0.092092,    0.093093,    0.094094,    0.095095,\n",
       "          0.096096,    0.097097,    0.098098,    0.099099,      0.1001,      0.1011,      0.1021,      0.1031,      0.1041,     0.10511,     0.10611,     0.10711,     0.10811,     0.10911,     0.11011,     0.11111,     0.11211,     0.11311,     0.11411,     0.11512,     0.11612,     0.11712,     0.11812,     0.11912,\n",
       "           0.12012,     0.12112,     0.12212,     0.12312,     0.12412,     0.12513,     0.12613,     0.12713,     0.12813,     0.12913,     0.13013,     0.13113,     0.13213,     0.13313,     0.13413,     0.13514,     0.13614,     0.13714,     0.13814,     0.13914,     0.14014,     0.14114,     0.14214,     0.14314,\n",
       "           0.14414,     0.14515,     0.14615,     0.14715,     0.14815,     0.14915,     0.15015,     0.15115,     0.15215,     0.15315,     0.15415,     0.15516,     0.15616,     0.15716,     0.15816,     0.15916,     0.16016,     0.16116,     0.16216,     0.16316,     0.16416,     0.16517,     0.16617,     0.16717,\n",
       "           0.16817,     0.16917,     0.17017,     0.17117,     0.17217,     0.17317,     0.17417,     0.17518,     0.17618,     0.17718,     0.17818,     0.17918,     0.18018,     0.18118,     0.18218,     0.18318,     0.18418,     0.18519,     0.18619,     0.18719,     0.18819,     0.18919,     0.19019,     0.19119,\n",
       "           0.19219,     0.19319,     0.19419,      0.1952,      0.1962,      0.1972,      0.1982,      0.1992,      0.2002,      0.2012,      0.2022,      0.2032,      0.2042,     0.20521,     0.20621,     0.20721,     0.20821,     0.20921,     0.21021,     0.21121,     0.21221,     0.21321,     0.21421,     0.21522,\n",
       "           0.21622,     0.21722,     0.21822,     0.21922,     0.22022,     0.22122,     0.22222,     0.22322,     0.22422,     0.22523,     0.22623,     0.22723,     0.22823,     0.22923,     0.23023,     0.23123,     0.23223,     0.23323,     0.23423,     0.23524,     0.23624,     0.23724,     0.23824,     0.23924,\n",
       "           0.24024,     0.24124,     0.24224,     0.24324,     0.24424,     0.24525,     0.24625,     0.24725,     0.24825,     0.24925,     0.25025,     0.25125,     0.25225,     0.25325,     0.25425,     0.25526,     0.25626,     0.25726,     0.25826,     0.25926,     0.26026,     0.26126,     0.26226,     0.26326,\n",
       "           0.26426,     0.26527,     0.26627,     0.26727,     0.26827,     0.26927,     0.27027,     0.27127,     0.27227,     0.27327,     0.27427,     0.27528,     0.27628,     0.27728,     0.27828,     0.27928,     0.28028,     0.28128,     0.28228,     0.28328,     0.28428,     0.28529,     0.28629,     0.28729,\n",
       "           0.28829,     0.28929,     0.29029,     0.29129,     0.29229,     0.29329,     0.29429,      0.2953,      0.2963,      0.2973,      0.2983,      0.2993,      0.3003,      0.3013,      0.3023,      0.3033,      0.3043,     0.30531,     0.30631,     0.30731,     0.30831,     0.30931,     0.31031,     0.31131,\n",
       "           0.31231,     0.31331,     0.31431,     0.31532,     0.31632,     0.31732,     0.31832,     0.31932,     0.32032,     0.32132,     0.32232,     0.32332,     0.32432,     0.32533,     0.32633,     0.32733,     0.32833,     0.32933,     0.33033,     0.33133,     0.33233,     0.33333,     0.33433,     0.33534,\n",
       "           0.33634,     0.33734,     0.33834,     0.33934,     0.34034,     0.34134,     0.34234,     0.34334,     0.34434,     0.34535,     0.34635,     0.34735,     0.34835,     0.34935,     0.35035,     0.35135,     0.35235,     0.35335,     0.35435,     0.35536,     0.35636,     0.35736,     0.35836,     0.35936,\n",
       "           0.36036,     0.36136,     0.36236,     0.36336,     0.36436,     0.36537,     0.36637,     0.36737,     0.36837,     0.36937,     0.37037,     0.37137,     0.37237,     0.37337,     0.37437,     0.37538,     0.37638,     0.37738,     0.37838,     0.37938,     0.38038,     0.38138,     0.38238,     0.38338,\n",
       "           0.38438,     0.38539,     0.38639,     0.38739,     0.38839,     0.38939,     0.39039,     0.39139,     0.39239,     0.39339,     0.39439,      0.3954,      0.3964,      0.3974,      0.3984,      0.3994,      0.4004,      0.4014,      0.4024,      0.4034,      0.4044,     0.40541,     0.40641,     0.40741,\n",
       "           0.40841,     0.40941,     0.41041,     0.41141,     0.41241,     0.41341,     0.41441,     0.41542,     0.41642,     0.41742,     0.41842,     0.41942,     0.42042,     0.42142,     0.42242,     0.42342,     0.42442,     0.42543,     0.42643,     0.42743,     0.42843,     0.42943,     0.43043,     0.43143,\n",
       "           0.43243,     0.43343,     0.43443,     0.43544,     0.43644,     0.43744,     0.43844,     0.43944,     0.44044,     0.44144,     0.44244,     0.44344,     0.44444,     0.44545,     0.44645,     0.44745,     0.44845,     0.44945,     0.45045,     0.45145,     0.45245,     0.45345,     0.45445,     0.45546,\n",
       "           0.45646,     0.45746,     0.45846,     0.45946,     0.46046,     0.46146,     0.46246,     0.46346,     0.46446,     0.46547,     0.46647,     0.46747,     0.46847,     0.46947,     0.47047,     0.47147,     0.47247,     0.47347,     0.47447,     0.47548,     0.47648,     0.47748,     0.47848,     0.47948,\n",
       "           0.48048,     0.48148,     0.48248,     0.48348,     0.48448,     0.48549,     0.48649,     0.48749,     0.48849,     0.48949,     0.49049,     0.49149,     0.49249,     0.49349,     0.49449,      0.4955,      0.4965,      0.4975,      0.4985,      0.4995,      0.5005,      0.5015,      0.5025,      0.5035,\n",
       "            0.5045,     0.50551,     0.50651,     0.50751,     0.50851,     0.50951,     0.51051,     0.51151,     0.51251,     0.51351,     0.51451,     0.51552,     0.51652,     0.51752,     0.51852,     0.51952,     0.52052,     0.52152,     0.52252,     0.52352,     0.52452,     0.52553,     0.52653,     0.52753,\n",
       "           0.52853,     0.52953,     0.53053,     0.53153,     0.53253,     0.53353,     0.53453,     0.53554,     0.53654,     0.53754,     0.53854,     0.53954,     0.54054,     0.54154,     0.54254,     0.54354,     0.54454,     0.54555,     0.54655,     0.54755,     0.54855,     0.54955,     0.55055,     0.55155,\n",
       "           0.55255,     0.55355,     0.55455,     0.55556,     0.55656,     0.55756,     0.55856,     0.55956,     0.56056,     0.56156,     0.56256,     0.56356,     0.56456,     0.56557,     0.56657,     0.56757,     0.56857,     0.56957,     0.57057,     0.57157,     0.57257,     0.57357,     0.57457,     0.57558,\n",
       "           0.57658,     0.57758,     0.57858,     0.57958,     0.58058,     0.58158,     0.58258,     0.58358,     0.58458,     0.58559,     0.58659,     0.58759,     0.58859,     0.58959,     0.59059,     0.59159,     0.59259,     0.59359,     0.59459,      0.5956,      0.5966,      0.5976,      0.5986,      0.5996,\n",
       "            0.6006,      0.6016,      0.6026,      0.6036,      0.6046,     0.60561,     0.60661,     0.60761,     0.60861,     0.60961,     0.61061,     0.61161,     0.61261,     0.61361,     0.61461,     0.61562,     0.61662,     0.61762,     0.61862,     0.61962,     0.62062,     0.62162,     0.62262,     0.62362,\n",
       "           0.62462,     0.62563,     0.62663,     0.62763,     0.62863,     0.62963,     0.63063,     0.63163,     0.63263,     0.63363,     0.63463,     0.63564,     0.63664,     0.63764,     0.63864,     0.63964,     0.64064,     0.64164,     0.64264,     0.64364,     0.64464,     0.64565,     0.64665,     0.64765,\n",
       "           0.64865,     0.64965,     0.65065,     0.65165,     0.65265,     0.65365,     0.65465,     0.65566,     0.65666,     0.65766,     0.65866,     0.65966,     0.66066,     0.66166,     0.66266,     0.66366,     0.66466,     0.66567,     0.66667,     0.66767,     0.66867,     0.66967,     0.67067,     0.67167,\n",
       "           0.67267,     0.67367,     0.67467,     0.67568,     0.67668,     0.67768,     0.67868,     0.67968,     0.68068,     0.68168,     0.68268,     0.68368,     0.68468,     0.68569,     0.68669,     0.68769,     0.68869,     0.68969,     0.69069,     0.69169,     0.69269,     0.69369,     0.69469,      0.6957,\n",
       "            0.6967,      0.6977,      0.6987,      0.6997,      0.7007,      0.7017,      0.7027,      0.7037,      0.7047,     0.70571,     0.70671,     0.70771,     0.70871,     0.70971,     0.71071,     0.71171,     0.71271,     0.71371,     0.71471,     0.71572,     0.71672,     0.71772,     0.71872,     0.71972,\n",
       "           0.72072,     0.72172,     0.72272,     0.72372,     0.72472,     0.72573,     0.72673,     0.72773,     0.72873,     0.72973,     0.73073,     0.73173,     0.73273,     0.73373,     0.73473,     0.73574,     0.73674,     0.73774,     0.73874,     0.73974,     0.74074,     0.74174,     0.74274,     0.74374,\n",
       "           0.74474,     0.74575,     0.74675,     0.74775,     0.74875,     0.74975,     0.75075,     0.75175,     0.75275,     0.75375,     0.75475,     0.75576,     0.75676,     0.75776,     0.75876,     0.75976,     0.76076,     0.76176,     0.76276,     0.76376,     0.76476,     0.76577,     0.76677,     0.76777,\n",
       "           0.76877,     0.76977,     0.77077,     0.77177,     0.77277,     0.77377,     0.77477,     0.77578,     0.77678,     0.77778,     0.77878,     0.77978,     0.78078,     0.78178,     0.78278,     0.78378,     0.78478,     0.78579,     0.78679,     0.78779,     0.78879,     0.78979,     0.79079,     0.79179,\n",
       "           0.79279,     0.79379,     0.79479,      0.7958,      0.7968,      0.7978,      0.7988,      0.7998,      0.8008,      0.8018,      0.8028,      0.8038,      0.8048,     0.80581,     0.80681,     0.80781,     0.80881,     0.80981,     0.81081,     0.81181,     0.81281,     0.81381,     0.81481,     0.81582,\n",
       "           0.81682,     0.81782,     0.81882,     0.81982,     0.82082,     0.82182,     0.82282,     0.82382,     0.82482,     0.82583,     0.82683,     0.82783,     0.82883,     0.82983,     0.83083,     0.83183,     0.83283,     0.83383,     0.83483,     0.83584,     0.83684,     0.83784,     0.83884,     0.83984,\n",
       "           0.84084,     0.84184,     0.84284,     0.84384,     0.84484,     0.84585,     0.84685,     0.84785,     0.84885,     0.84985,     0.85085,     0.85185,     0.85285,     0.85385,     0.85485,     0.85586,     0.85686,     0.85786,     0.85886,     0.85986,     0.86086,     0.86186,     0.86286,     0.86386,\n",
       "           0.86486,     0.86587,     0.86687,     0.86787,     0.86887,     0.86987,     0.87087,     0.87187,     0.87287,     0.87387,     0.87487,     0.87588,     0.87688,     0.87788,     0.87888,     0.87988,     0.88088,     0.88188,     0.88288,     0.88388,     0.88488,     0.88589,     0.88689,     0.88789,\n",
       "           0.88889,     0.88989,     0.89089,     0.89189,     0.89289,     0.89389,     0.89489,      0.8959,      0.8969,      0.8979,      0.8989,      0.8999,      0.9009,      0.9019,      0.9029,      0.9039,      0.9049,     0.90591,     0.90691,     0.90791,     0.90891,     0.90991,     0.91091,     0.91191,\n",
       "           0.91291,     0.91391,     0.91491,     0.91592,     0.91692,     0.91792,     0.91892,     0.91992,     0.92092,     0.92192,     0.92292,     0.92392,     0.92492,     0.92593,     0.92693,     0.92793,     0.92893,     0.92993,     0.93093,     0.93193,     0.93293,     0.93393,     0.93493,     0.93594,\n",
       "           0.93694,     0.93794,     0.93894,     0.93994,     0.94094,     0.94194,     0.94294,     0.94394,     0.94494,     0.94595,     0.94695,     0.94795,     0.94895,     0.94995,     0.95095,     0.95195,     0.95295,     0.95395,     0.95495,     0.95596,     0.95696,     0.95796,     0.95896,     0.95996,\n",
       "           0.96096,     0.96196,     0.96296,     0.96396,     0.96496,     0.96597,     0.96697,     0.96797,     0.96897,     0.96997,     0.97097,     0.97197,     0.97297,     0.97397,     0.97497,     0.97598,     0.97698,     0.97798,     0.97898,     0.97998,     0.98098,     0.98198,     0.98298,     0.98398,\n",
       "           0.98498,     0.98599,     0.98699,     0.98799,     0.98899,     0.98999,     0.99099,     0.99199,     0.99299,     0.99399,     0.99499,       0.996,       0.997,       0.998,       0.999,           1]), array([[          1,           1,           1, ...,           1,           1,           0],\n",
       "       [          1,           1,           1, ...,           1,           1,           0],\n",
       "       [          1,           1,           1, ...,           1,           1,           0],\n",
       "       ...,\n",
       "       [          1,           1,           1, ...,           1,           1,           0],\n",
       "       [          1,           1,           1, ...,           1,           1,           0],\n",
       "       [          1,           1,           1, ...,           1,           1,           0]]), 'Recall', 'Precision'], [array([          0,    0.001001,    0.002002,    0.003003,    0.004004,    0.005005,    0.006006,    0.007007,    0.008008,    0.009009,     0.01001,    0.011011,    0.012012,    0.013013,    0.014014,    0.015015,    0.016016,    0.017017,    0.018018,    0.019019,     0.02002,    0.021021,    0.022022,    0.023023,\n",
       "          0.024024,    0.025025,    0.026026,    0.027027,    0.028028,    0.029029,     0.03003,    0.031031,    0.032032,    0.033033,    0.034034,    0.035035,    0.036036,    0.037037,    0.038038,    0.039039,     0.04004,    0.041041,    0.042042,    0.043043,    0.044044,    0.045045,    0.046046,    0.047047,\n",
       "          0.048048,    0.049049,     0.05005,    0.051051,    0.052052,    0.053053,    0.054054,    0.055055,    0.056056,    0.057057,    0.058058,    0.059059,     0.06006,    0.061061,    0.062062,    0.063063,    0.064064,    0.065065,    0.066066,    0.067067,    0.068068,    0.069069,     0.07007,    0.071071,\n",
       "          0.072072,    0.073073,    0.074074,    0.075075,    0.076076,    0.077077,    0.078078,    0.079079,     0.08008,    0.081081,    0.082082,    0.083083,    0.084084,    0.085085,    0.086086,    0.087087,    0.088088,    0.089089,     0.09009,    0.091091,    0.092092,    0.093093,    0.094094,    0.095095,\n",
       "          0.096096,    0.097097,    0.098098,    0.099099,      0.1001,      0.1011,      0.1021,      0.1031,      0.1041,     0.10511,     0.10611,     0.10711,     0.10811,     0.10911,     0.11011,     0.11111,     0.11211,     0.11311,     0.11411,     0.11512,     0.11612,     0.11712,     0.11812,     0.11912,\n",
       "           0.12012,     0.12112,     0.12212,     0.12312,     0.12412,     0.12513,     0.12613,     0.12713,     0.12813,     0.12913,     0.13013,     0.13113,     0.13213,     0.13313,     0.13413,     0.13514,     0.13614,     0.13714,     0.13814,     0.13914,     0.14014,     0.14114,     0.14214,     0.14314,\n",
       "           0.14414,     0.14515,     0.14615,     0.14715,     0.14815,     0.14915,     0.15015,     0.15115,     0.15215,     0.15315,     0.15415,     0.15516,     0.15616,     0.15716,     0.15816,     0.15916,     0.16016,     0.16116,     0.16216,     0.16316,     0.16416,     0.16517,     0.16617,     0.16717,\n",
       "           0.16817,     0.16917,     0.17017,     0.17117,     0.17217,     0.17317,     0.17417,     0.17518,     0.17618,     0.17718,     0.17818,     0.17918,     0.18018,     0.18118,     0.18218,     0.18318,     0.18418,     0.18519,     0.18619,     0.18719,     0.18819,     0.18919,     0.19019,     0.19119,\n",
       "           0.19219,     0.19319,     0.19419,      0.1952,      0.1962,      0.1972,      0.1982,      0.1992,      0.2002,      0.2012,      0.2022,      0.2032,      0.2042,     0.20521,     0.20621,     0.20721,     0.20821,     0.20921,     0.21021,     0.21121,     0.21221,     0.21321,     0.21421,     0.21522,\n",
       "           0.21622,     0.21722,     0.21822,     0.21922,     0.22022,     0.22122,     0.22222,     0.22322,     0.22422,     0.22523,     0.22623,     0.22723,     0.22823,     0.22923,     0.23023,     0.23123,     0.23223,     0.23323,     0.23423,     0.23524,     0.23624,     0.23724,     0.23824,     0.23924,\n",
       "           0.24024,     0.24124,     0.24224,     0.24324,     0.24424,     0.24525,     0.24625,     0.24725,     0.24825,     0.24925,     0.25025,     0.25125,     0.25225,     0.25325,     0.25425,     0.25526,     0.25626,     0.25726,     0.25826,     0.25926,     0.26026,     0.26126,     0.26226,     0.26326,\n",
       "           0.26426,     0.26527,     0.26627,     0.26727,     0.26827,     0.26927,     0.27027,     0.27127,     0.27227,     0.27327,     0.27427,     0.27528,     0.27628,     0.27728,     0.27828,     0.27928,     0.28028,     0.28128,     0.28228,     0.28328,     0.28428,     0.28529,     0.28629,     0.28729,\n",
       "           0.28829,     0.28929,     0.29029,     0.29129,     0.29229,     0.29329,     0.29429,      0.2953,      0.2963,      0.2973,      0.2983,      0.2993,      0.3003,      0.3013,      0.3023,      0.3033,      0.3043,     0.30531,     0.30631,     0.30731,     0.30831,     0.30931,     0.31031,     0.31131,\n",
       "           0.31231,     0.31331,     0.31431,     0.31532,     0.31632,     0.31732,     0.31832,     0.31932,     0.32032,     0.32132,     0.32232,     0.32332,     0.32432,     0.32533,     0.32633,     0.32733,     0.32833,     0.32933,     0.33033,     0.33133,     0.33233,     0.33333,     0.33433,     0.33534,\n",
       "           0.33634,     0.33734,     0.33834,     0.33934,     0.34034,     0.34134,     0.34234,     0.34334,     0.34434,     0.34535,     0.34635,     0.34735,     0.34835,     0.34935,     0.35035,     0.35135,     0.35235,     0.35335,     0.35435,     0.35536,     0.35636,     0.35736,     0.35836,     0.35936,\n",
       "           0.36036,     0.36136,     0.36236,     0.36336,     0.36436,     0.36537,     0.36637,     0.36737,     0.36837,     0.36937,     0.37037,     0.37137,     0.37237,     0.37337,     0.37437,     0.37538,     0.37638,     0.37738,     0.37838,     0.37938,     0.38038,     0.38138,     0.38238,     0.38338,\n",
       "           0.38438,     0.38539,     0.38639,     0.38739,     0.38839,     0.38939,     0.39039,     0.39139,     0.39239,     0.39339,     0.39439,      0.3954,      0.3964,      0.3974,      0.3984,      0.3994,      0.4004,      0.4014,      0.4024,      0.4034,      0.4044,     0.40541,     0.40641,     0.40741,\n",
       "           0.40841,     0.40941,     0.41041,     0.41141,     0.41241,     0.41341,     0.41441,     0.41542,     0.41642,     0.41742,     0.41842,     0.41942,     0.42042,     0.42142,     0.42242,     0.42342,     0.42442,     0.42543,     0.42643,     0.42743,     0.42843,     0.42943,     0.43043,     0.43143,\n",
       "           0.43243,     0.43343,     0.43443,     0.43544,     0.43644,     0.43744,     0.43844,     0.43944,     0.44044,     0.44144,     0.44244,     0.44344,     0.44444,     0.44545,     0.44645,     0.44745,     0.44845,     0.44945,     0.45045,     0.45145,     0.45245,     0.45345,     0.45445,     0.45546,\n",
       "           0.45646,     0.45746,     0.45846,     0.45946,     0.46046,     0.46146,     0.46246,     0.46346,     0.46446,     0.46547,     0.46647,     0.46747,     0.46847,     0.46947,     0.47047,     0.47147,     0.47247,     0.47347,     0.47447,     0.47548,     0.47648,     0.47748,     0.47848,     0.47948,\n",
       "           0.48048,     0.48148,     0.48248,     0.48348,     0.48448,     0.48549,     0.48649,     0.48749,     0.48849,     0.48949,     0.49049,     0.49149,     0.49249,     0.49349,     0.49449,      0.4955,      0.4965,      0.4975,      0.4985,      0.4995,      0.5005,      0.5015,      0.5025,      0.5035,\n",
       "            0.5045,     0.50551,     0.50651,     0.50751,     0.50851,     0.50951,     0.51051,     0.51151,     0.51251,     0.51351,     0.51451,     0.51552,     0.51652,     0.51752,     0.51852,     0.51952,     0.52052,     0.52152,     0.52252,     0.52352,     0.52452,     0.52553,     0.52653,     0.52753,\n",
       "           0.52853,     0.52953,     0.53053,     0.53153,     0.53253,     0.53353,     0.53453,     0.53554,     0.53654,     0.53754,     0.53854,     0.53954,     0.54054,     0.54154,     0.54254,     0.54354,     0.54454,     0.54555,     0.54655,     0.54755,     0.54855,     0.54955,     0.55055,     0.55155,\n",
       "           0.55255,     0.55355,     0.55455,     0.55556,     0.55656,     0.55756,     0.55856,     0.55956,     0.56056,     0.56156,     0.56256,     0.56356,     0.56456,     0.56557,     0.56657,     0.56757,     0.56857,     0.56957,     0.57057,     0.57157,     0.57257,     0.57357,     0.57457,     0.57558,\n",
       "           0.57658,     0.57758,     0.57858,     0.57958,     0.58058,     0.58158,     0.58258,     0.58358,     0.58458,     0.58559,     0.58659,     0.58759,     0.58859,     0.58959,     0.59059,     0.59159,     0.59259,     0.59359,     0.59459,      0.5956,      0.5966,      0.5976,      0.5986,      0.5996,\n",
       "            0.6006,      0.6016,      0.6026,      0.6036,      0.6046,     0.60561,     0.60661,     0.60761,     0.60861,     0.60961,     0.61061,     0.61161,     0.61261,     0.61361,     0.61461,     0.61562,     0.61662,     0.61762,     0.61862,     0.61962,     0.62062,     0.62162,     0.62262,     0.62362,\n",
       "           0.62462,     0.62563,     0.62663,     0.62763,     0.62863,     0.62963,     0.63063,     0.63163,     0.63263,     0.63363,     0.63463,     0.63564,     0.63664,     0.63764,     0.63864,     0.63964,     0.64064,     0.64164,     0.64264,     0.64364,     0.64464,     0.64565,     0.64665,     0.64765,\n",
       "           0.64865,     0.64965,     0.65065,     0.65165,     0.65265,     0.65365,     0.65465,     0.65566,     0.65666,     0.65766,     0.65866,     0.65966,     0.66066,     0.66166,     0.66266,     0.66366,     0.66466,     0.66567,     0.66667,     0.66767,     0.66867,     0.66967,     0.67067,     0.67167,\n",
       "           0.67267,     0.67367,     0.67467,     0.67568,     0.67668,     0.67768,     0.67868,     0.67968,     0.68068,     0.68168,     0.68268,     0.68368,     0.68468,     0.68569,     0.68669,     0.68769,     0.68869,     0.68969,     0.69069,     0.69169,     0.69269,     0.69369,     0.69469,      0.6957,\n",
       "            0.6967,      0.6977,      0.6987,      0.6997,      0.7007,      0.7017,      0.7027,      0.7037,      0.7047,     0.70571,     0.70671,     0.70771,     0.70871,     0.70971,     0.71071,     0.71171,     0.71271,     0.71371,     0.71471,     0.71572,     0.71672,     0.71772,     0.71872,     0.71972,\n",
       "           0.72072,     0.72172,     0.72272,     0.72372,     0.72472,     0.72573,     0.72673,     0.72773,     0.72873,     0.72973,     0.73073,     0.73173,     0.73273,     0.73373,     0.73473,     0.73574,     0.73674,     0.73774,     0.73874,     0.73974,     0.74074,     0.74174,     0.74274,     0.74374,\n",
       "           0.74474,     0.74575,     0.74675,     0.74775,     0.74875,     0.74975,     0.75075,     0.75175,     0.75275,     0.75375,     0.75475,     0.75576,     0.75676,     0.75776,     0.75876,     0.75976,     0.76076,     0.76176,     0.76276,     0.76376,     0.76476,     0.76577,     0.76677,     0.76777,\n",
       "           0.76877,     0.76977,     0.77077,     0.77177,     0.77277,     0.77377,     0.77477,     0.77578,     0.77678,     0.77778,     0.77878,     0.77978,     0.78078,     0.78178,     0.78278,     0.78378,     0.78478,     0.78579,     0.78679,     0.78779,     0.78879,     0.78979,     0.79079,     0.79179,\n",
       "           0.79279,     0.79379,     0.79479,      0.7958,      0.7968,      0.7978,      0.7988,      0.7998,      0.8008,      0.8018,      0.8028,      0.8038,      0.8048,     0.80581,     0.80681,     0.80781,     0.80881,     0.80981,     0.81081,     0.81181,     0.81281,     0.81381,     0.81481,     0.81582,\n",
       "           0.81682,     0.81782,     0.81882,     0.81982,     0.82082,     0.82182,     0.82282,     0.82382,     0.82482,     0.82583,     0.82683,     0.82783,     0.82883,     0.82983,     0.83083,     0.83183,     0.83283,     0.83383,     0.83483,     0.83584,     0.83684,     0.83784,     0.83884,     0.83984,\n",
       "           0.84084,     0.84184,     0.84284,     0.84384,     0.84484,     0.84585,     0.84685,     0.84785,     0.84885,     0.84985,     0.85085,     0.85185,     0.85285,     0.85385,     0.85485,     0.85586,     0.85686,     0.85786,     0.85886,     0.85986,     0.86086,     0.86186,     0.86286,     0.86386,\n",
       "           0.86486,     0.86587,     0.86687,     0.86787,     0.86887,     0.86987,     0.87087,     0.87187,     0.87287,     0.87387,     0.87487,     0.87588,     0.87688,     0.87788,     0.87888,     0.87988,     0.88088,     0.88188,     0.88288,     0.88388,     0.88488,     0.88589,     0.88689,     0.88789,\n",
       "           0.88889,     0.88989,     0.89089,     0.89189,     0.89289,     0.89389,     0.89489,      0.8959,      0.8969,      0.8979,      0.8989,      0.8999,      0.9009,      0.9019,      0.9029,      0.9039,      0.9049,     0.90591,     0.90691,     0.90791,     0.90891,     0.90991,     0.91091,     0.91191,\n",
       "           0.91291,     0.91391,     0.91491,     0.91592,     0.91692,     0.91792,     0.91892,     0.91992,     0.92092,     0.92192,     0.92292,     0.92392,     0.92492,     0.92593,     0.92693,     0.92793,     0.92893,     0.92993,     0.93093,     0.93193,     0.93293,     0.93393,     0.93493,     0.93594,\n",
       "           0.93694,     0.93794,     0.93894,     0.93994,     0.94094,     0.94194,     0.94294,     0.94394,     0.94494,     0.94595,     0.94695,     0.94795,     0.94895,     0.94995,     0.95095,     0.95195,     0.95295,     0.95395,     0.95495,     0.95596,     0.95696,     0.95796,     0.95896,     0.95996,\n",
       "           0.96096,     0.96196,     0.96296,     0.96396,     0.96496,     0.96597,     0.96697,     0.96797,     0.96897,     0.96997,     0.97097,     0.97197,     0.97297,     0.97397,     0.97497,     0.97598,     0.97698,     0.97798,     0.97898,     0.97998,     0.98098,     0.98198,     0.98298,     0.98398,\n",
       "           0.98498,     0.98599,     0.98699,     0.98799,     0.98899,     0.98999,     0.99099,     0.99199,     0.99299,     0.99399,     0.99499,       0.996,       0.997,       0.998,       0.999,           1]), array([[      0.972,       0.972,     0.97761, ...,           0,           0,           0],\n",
       "       [    0.94949,     0.94952,     0.97246, ...,           0,           0,           0],\n",
       "       [    0.94921,     0.94921,     0.97874, ...,           0,           0,           0],\n",
       "       ...,\n",
       "       [    0.96482,     0.96482,     0.98287, ...,           0,           0,           0],\n",
       "       [    0.99567,     0.99567,     0.99567, ...,           0,           0,           0],\n",
       "       [    0.93151,     0.93151,     0.97361, ...,           0,           0,           0]]), 'Confidence', 'F1'], [array([          0,    0.001001,    0.002002,    0.003003,    0.004004,    0.005005,    0.006006,    0.007007,    0.008008,    0.009009,     0.01001,    0.011011,    0.012012,    0.013013,    0.014014,    0.015015,    0.016016,    0.017017,    0.018018,    0.019019,     0.02002,    0.021021,    0.022022,    0.023023,\n",
       "          0.024024,    0.025025,    0.026026,    0.027027,    0.028028,    0.029029,     0.03003,    0.031031,    0.032032,    0.033033,    0.034034,    0.035035,    0.036036,    0.037037,    0.038038,    0.039039,     0.04004,    0.041041,    0.042042,    0.043043,    0.044044,    0.045045,    0.046046,    0.047047,\n",
       "          0.048048,    0.049049,     0.05005,    0.051051,    0.052052,    0.053053,    0.054054,    0.055055,    0.056056,    0.057057,    0.058058,    0.059059,     0.06006,    0.061061,    0.062062,    0.063063,    0.064064,    0.065065,    0.066066,    0.067067,    0.068068,    0.069069,     0.07007,    0.071071,\n",
       "          0.072072,    0.073073,    0.074074,    0.075075,    0.076076,    0.077077,    0.078078,    0.079079,     0.08008,    0.081081,    0.082082,    0.083083,    0.084084,    0.085085,    0.086086,    0.087087,    0.088088,    0.089089,     0.09009,    0.091091,    0.092092,    0.093093,    0.094094,    0.095095,\n",
       "          0.096096,    0.097097,    0.098098,    0.099099,      0.1001,      0.1011,      0.1021,      0.1031,      0.1041,     0.10511,     0.10611,     0.10711,     0.10811,     0.10911,     0.11011,     0.11111,     0.11211,     0.11311,     0.11411,     0.11512,     0.11612,     0.11712,     0.11812,     0.11912,\n",
       "           0.12012,     0.12112,     0.12212,     0.12312,     0.12412,     0.12513,     0.12613,     0.12713,     0.12813,     0.12913,     0.13013,     0.13113,     0.13213,     0.13313,     0.13413,     0.13514,     0.13614,     0.13714,     0.13814,     0.13914,     0.14014,     0.14114,     0.14214,     0.14314,\n",
       "           0.14414,     0.14515,     0.14615,     0.14715,     0.14815,     0.14915,     0.15015,     0.15115,     0.15215,     0.15315,     0.15415,     0.15516,     0.15616,     0.15716,     0.15816,     0.15916,     0.16016,     0.16116,     0.16216,     0.16316,     0.16416,     0.16517,     0.16617,     0.16717,\n",
       "           0.16817,     0.16917,     0.17017,     0.17117,     0.17217,     0.17317,     0.17417,     0.17518,     0.17618,     0.17718,     0.17818,     0.17918,     0.18018,     0.18118,     0.18218,     0.18318,     0.18418,     0.18519,     0.18619,     0.18719,     0.18819,     0.18919,     0.19019,     0.19119,\n",
       "           0.19219,     0.19319,     0.19419,      0.1952,      0.1962,      0.1972,      0.1982,      0.1992,      0.2002,      0.2012,      0.2022,      0.2032,      0.2042,     0.20521,     0.20621,     0.20721,     0.20821,     0.20921,     0.21021,     0.21121,     0.21221,     0.21321,     0.21421,     0.21522,\n",
       "           0.21622,     0.21722,     0.21822,     0.21922,     0.22022,     0.22122,     0.22222,     0.22322,     0.22422,     0.22523,     0.22623,     0.22723,     0.22823,     0.22923,     0.23023,     0.23123,     0.23223,     0.23323,     0.23423,     0.23524,     0.23624,     0.23724,     0.23824,     0.23924,\n",
       "           0.24024,     0.24124,     0.24224,     0.24324,     0.24424,     0.24525,     0.24625,     0.24725,     0.24825,     0.24925,     0.25025,     0.25125,     0.25225,     0.25325,     0.25425,     0.25526,     0.25626,     0.25726,     0.25826,     0.25926,     0.26026,     0.26126,     0.26226,     0.26326,\n",
       "           0.26426,     0.26527,     0.26627,     0.26727,     0.26827,     0.26927,     0.27027,     0.27127,     0.27227,     0.27327,     0.27427,     0.27528,     0.27628,     0.27728,     0.27828,     0.27928,     0.28028,     0.28128,     0.28228,     0.28328,     0.28428,     0.28529,     0.28629,     0.28729,\n",
       "           0.28829,     0.28929,     0.29029,     0.29129,     0.29229,     0.29329,     0.29429,      0.2953,      0.2963,      0.2973,      0.2983,      0.2993,      0.3003,      0.3013,      0.3023,      0.3033,      0.3043,     0.30531,     0.30631,     0.30731,     0.30831,     0.30931,     0.31031,     0.31131,\n",
       "           0.31231,     0.31331,     0.31431,     0.31532,     0.31632,     0.31732,     0.31832,     0.31932,     0.32032,     0.32132,     0.32232,     0.32332,     0.32432,     0.32533,     0.32633,     0.32733,     0.32833,     0.32933,     0.33033,     0.33133,     0.33233,     0.33333,     0.33433,     0.33534,\n",
       "           0.33634,     0.33734,     0.33834,     0.33934,     0.34034,     0.34134,     0.34234,     0.34334,     0.34434,     0.34535,     0.34635,     0.34735,     0.34835,     0.34935,     0.35035,     0.35135,     0.35235,     0.35335,     0.35435,     0.35536,     0.35636,     0.35736,     0.35836,     0.35936,\n",
       "           0.36036,     0.36136,     0.36236,     0.36336,     0.36436,     0.36537,     0.36637,     0.36737,     0.36837,     0.36937,     0.37037,     0.37137,     0.37237,     0.37337,     0.37437,     0.37538,     0.37638,     0.37738,     0.37838,     0.37938,     0.38038,     0.38138,     0.38238,     0.38338,\n",
       "           0.38438,     0.38539,     0.38639,     0.38739,     0.38839,     0.38939,     0.39039,     0.39139,     0.39239,     0.39339,     0.39439,      0.3954,      0.3964,      0.3974,      0.3984,      0.3994,      0.4004,      0.4014,      0.4024,      0.4034,      0.4044,     0.40541,     0.40641,     0.40741,\n",
       "           0.40841,     0.40941,     0.41041,     0.41141,     0.41241,     0.41341,     0.41441,     0.41542,     0.41642,     0.41742,     0.41842,     0.41942,     0.42042,     0.42142,     0.42242,     0.42342,     0.42442,     0.42543,     0.42643,     0.42743,     0.42843,     0.42943,     0.43043,     0.43143,\n",
       "           0.43243,     0.43343,     0.43443,     0.43544,     0.43644,     0.43744,     0.43844,     0.43944,     0.44044,     0.44144,     0.44244,     0.44344,     0.44444,     0.44545,     0.44645,     0.44745,     0.44845,     0.44945,     0.45045,     0.45145,     0.45245,     0.45345,     0.45445,     0.45546,\n",
       "           0.45646,     0.45746,     0.45846,     0.45946,     0.46046,     0.46146,     0.46246,     0.46346,     0.46446,     0.46547,     0.46647,     0.46747,     0.46847,     0.46947,     0.47047,     0.47147,     0.47247,     0.47347,     0.47447,     0.47548,     0.47648,     0.47748,     0.47848,     0.47948,\n",
       "           0.48048,     0.48148,     0.48248,     0.48348,     0.48448,     0.48549,     0.48649,     0.48749,     0.48849,     0.48949,     0.49049,     0.49149,     0.49249,     0.49349,     0.49449,      0.4955,      0.4965,      0.4975,      0.4985,      0.4995,      0.5005,      0.5015,      0.5025,      0.5035,\n",
       "            0.5045,     0.50551,     0.50651,     0.50751,     0.50851,     0.50951,     0.51051,     0.51151,     0.51251,     0.51351,     0.51451,     0.51552,     0.51652,     0.51752,     0.51852,     0.51952,     0.52052,     0.52152,     0.52252,     0.52352,     0.52452,     0.52553,     0.52653,     0.52753,\n",
       "           0.52853,     0.52953,     0.53053,     0.53153,     0.53253,     0.53353,     0.53453,     0.53554,     0.53654,     0.53754,     0.53854,     0.53954,     0.54054,     0.54154,     0.54254,     0.54354,     0.54454,     0.54555,     0.54655,     0.54755,     0.54855,     0.54955,     0.55055,     0.55155,\n",
       "           0.55255,     0.55355,     0.55455,     0.55556,     0.55656,     0.55756,     0.55856,     0.55956,     0.56056,     0.56156,     0.56256,     0.56356,     0.56456,     0.56557,     0.56657,     0.56757,     0.56857,     0.56957,     0.57057,     0.57157,     0.57257,     0.57357,     0.57457,     0.57558,\n",
       "           0.57658,     0.57758,     0.57858,     0.57958,     0.58058,     0.58158,     0.58258,     0.58358,     0.58458,     0.58559,     0.58659,     0.58759,     0.58859,     0.58959,     0.59059,     0.59159,     0.59259,     0.59359,     0.59459,      0.5956,      0.5966,      0.5976,      0.5986,      0.5996,\n",
       "            0.6006,      0.6016,      0.6026,      0.6036,      0.6046,     0.60561,     0.60661,     0.60761,     0.60861,     0.60961,     0.61061,     0.61161,     0.61261,     0.61361,     0.61461,     0.61562,     0.61662,     0.61762,     0.61862,     0.61962,     0.62062,     0.62162,     0.62262,     0.62362,\n",
       "           0.62462,     0.62563,     0.62663,     0.62763,     0.62863,     0.62963,     0.63063,     0.63163,     0.63263,     0.63363,     0.63463,     0.63564,     0.63664,     0.63764,     0.63864,     0.63964,     0.64064,     0.64164,     0.64264,     0.64364,     0.64464,     0.64565,     0.64665,     0.64765,\n",
       "           0.64865,     0.64965,     0.65065,     0.65165,     0.65265,     0.65365,     0.65465,     0.65566,     0.65666,     0.65766,     0.65866,     0.65966,     0.66066,     0.66166,     0.66266,     0.66366,     0.66466,     0.66567,     0.66667,     0.66767,     0.66867,     0.66967,     0.67067,     0.67167,\n",
       "           0.67267,     0.67367,     0.67467,     0.67568,     0.67668,     0.67768,     0.67868,     0.67968,     0.68068,     0.68168,     0.68268,     0.68368,     0.68468,     0.68569,     0.68669,     0.68769,     0.68869,     0.68969,     0.69069,     0.69169,     0.69269,     0.69369,     0.69469,      0.6957,\n",
       "            0.6967,      0.6977,      0.6987,      0.6997,      0.7007,      0.7017,      0.7027,      0.7037,      0.7047,     0.70571,     0.70671,     0.70771,     0.70871,     0.70971,     0.71071,     0.71171,     0.71271,     0.71371,     0.71471,     0.71572,     0.71672,     0.71772,     0.71872,     0.71972,\n",
       "           0.72072,     0.72172,     0.72272,     0.72372,     0.72472,     0.72573,     0.72673,     0.72773,     0.72873,     0.72973,     0.73073,     0.73173,     0.73273,     0.73373,     0.73473,     0.73574,     0.73674,     0.73774,     0.73874,     0.73974,     0.74074,     0.74174,     0.74274,     0.74374,\n",
       "           0.74474,     0.74575,     0.74675,     0.74775,     0.74875,     0.74975,     0.75075,     0.75175,     0.75275,     0.75375,     0.75475,     0.75576,     0.75676,     0.75776,     0.75876,     0.75976,     0.76076,     0.76176,     0.76276,     0.76376,     0.76476,     0.76577,     0.76677,     0.76777,\n",
       "           0.76877,     0.76977,     0.77077,     0.77177,     0.77277,     0.77377,     0.77477,     0.77578,     0.77678,     0.77778,     0.77878,     0.77978,     0.78078,     0.78178,     0.78278,     0.78378,     0.78478,     0.78579,     0.78679,     0.78779,     0.78879,     0.78979,     0.79079,     0.79179,\n",
       "           0.79279,     0.79379,     0.79479,      0.7958,      0.7968,      0.7978,      0.7988,      0.7998,      0.8008,      0.8018,      0.8028,      0.8038,      0.8048,     0.80581,     0.80681,     0.80781,     0.80881,     0.80981,     0.81081,     0.81181,     0.81281,     0.81381,     0.81481,     0.81582,\n",
       "           0.81682,     0.81782,     0.81882,     0.81982,     0.82082,     0.82182,     0.82282,     0.82382,     0.82482,     0.82583,     0.82683,     0.82783,     0.82883,     0.82983,     0.83083,     0.83183,     0.83283,     0.83383,     0.83483,     0.83584,     0.83684,     0.83784,     0.83884,     0.83984,\n",
       "           0.84084,     0.84184,     0.84284,     0.84384,     0.84484,     0.84585,     0.84685,     0.84785,     0.84885,     0.84985,     0.85085,     0.85185,     0.85285,     0.85385,     0.85485,     0.85586,     0.85686,     0.85786,     0.85886,     0.85986,     0.86086,     0.86186,     0.86286,     0.86386,\n",
       "           0.86486,     0.86587,     0.86687,     0.86787,     0.86887,     0.86987,     0.87087,     0.87187,     0.87287,     0.87387,     0.87487,     0.87588,     0.87688,     0.87788,     0.87888,     0.87988,     0.88088,     0.88188,     0.88288,     0.88388,     0.88488,     0.88589,     0.88689,     0.88789,\n",
       "           0.88889,     0.88989,     0.89089,     0.89189,     0.89289,     0.89389,     0.89489,      0.8959,      0.8969,      0.8979,      0.8989,      0.8999,      0.9009,      0.9019,      0.9029,      0.9039,      0.9049,     0.90591,     0.90691,     0.90791,     0.90891,     0.90991,     0.91091,     0.91191,\n",
       "           0.91291,     0.91391,     0.91491,     0.91592,     0.91692,     0.91792,     0.91892,     0.91992,     0.92092,     0.92192,     0.92292,     0.92392,     0.92492,     0.92593,     0.92693,     0.92793,     0.92893,     0.92993,     0.93093,     0.93193,     0.93293,     0.93393,     0.93493,     0.93594,\n",
       "           0.93694,     0.93794,     0.93894,     0.93994,     0.94094,     0.94194,     0.94294,     0.94394,     0.94494,     0.94595,     0.94695,     0.94795,     0.94895,     0.94995,     0.95095,     0.95195,     0.95295,     0.95395,     0.95495,     0.95596,     0.95696,     0.95796,     0.95896,     0.95996,\n",
       "           0.96096,     0.96196,     0.96296,     0.96396,     0.96496,     0.96597,     0.96697,     0.96797,     0.96897,     0.96997,     0.97097,     0.97197,     0.97297,     0.97397,     0.97497,     0.97598,     0.97698,     0.97798,     0.97898,     0.97998,     0.98098,     0.98198,     0.98298,     0.98398,\n",
       "           0.98498,     0.98599,     0.98699,     0.98799,     0.98899,     0.98999,     0.99099,     0.99199,     0.99299,     0.99399,     0.99499,       0.996,       0.997,       0.998,       0.999,           1]), array([[    0.94553,     0.94553,     0.95621, ...,           1,           1,           1],\n",
       "       [    0.90385,      0.9039,      0.9464, ...,           1,           1,           1],\n",
       "       [    0.90332,     0.90332,     0.95837, ...,           1,           1,           1],\n",
       "       ...,\n",
       "       [    0.93204,     0.93204,     0.96631, ...,           1,           1,           1],\n",
       "       [    0.99138,     0.99138,     0.99138, ...,           1,           1,           1],\n",
       "       [    0.87179,     0.87179,     0.94858, ...,           1,           1,           1]]), 'Confidence', 'Precision'], [array([          0,    0.001001,    0.002002,    0.003003,    0.004004,    0.005005,    0.006006,    0.007007,    0.008008,    0.009009,     0.01001,    0.011011,    0.012012,    0.013013,    0.014014,    0.015015,    0.016016,    0.017017,    0.018018,    0.019019,     0.02002,    0.021021,    0.022022,    0.023023,\n",
       "          0.024024,    0.025025,    0.026026,    0.027027,    0.028028,    0.029029,     0.03003,    0.031031,    0.032032,    0.033033,    0.034034,    0.035035,    0.036036,    0.037037,    0.038038,    0.039039,     0.04004,    0.041041,    0.042042,    0.043043,    0.044044,    0.045045,    0.046046,    0.047047,\n",
       "          0.048048,    0.049049,     0.05005,    0.051051,    0.052052,    0.053053,    0.054054,    0.055055,    0.056056,    0.057057,    0.058058,    0.059059,     0.06006,    0.061061,    0.062062,    0.063063,    0.064064,    0.065065,    0.066066,    0.067067,    0.068068,    0.069069,     0.07007,    0.071071,\n",
       "          0.072072,    0.073073,    0.074074,    0.075075,    0.076076,    0.077077,    0.078078,    0.079079,     0.08008,    0.081081,    0.082082,    0.083083,    0.084084,    0.085085,    0.086086,    0.087087,    0.088088,    0.089089,     0.09009,    0.091091,    0.092092,    0.093093,    0.094094,    0.095095,\n",
       "          0.096096,    0.097097,    0.098098,    0.099099,      0.1001,      0.1011,      0.1021,      0.1031,      0.1041,     0.10511,     0.10611,     0.10711,     0.10811,     0.10911,     0.11011,     0.11111,     0.11211,     0.11311,     0.11411,     0.11512,     0.11612,     0.11712,     0.11812,     0.11912,\n",
       "           0.12012,     0.12112,     0.12212,     0.12312,     0.12412,     0.12513,     0.12613,     0.12713,     0.12813,     0.12913,     0.13013,     0.13113,     0.13213,     0.13313,     0.13413,     0.13514,     0.13614,     0.13714,     0.13814,     0.13914,     0.14014,     0.14114,     0.14214,     0.14314,\n",
       "           0.14414,     0.14515,     0.14615,     0.14715,     0.14815,     0.14915,     0.15015,     0.15115,     0.15215,     0.15315,     0.15415,     0.15516,     0.15616,     0.15716,     0.15816,     0.15916,     0.16016,     0.16116,     0.16216,     0.16316,     0.16416,     0.16517,     0.16617,     0.16717,\n",
       "           0.16817,     0.16917,     0.17017,     0.17117,     0.17217,     0.17317,     0.17417,     0.17518,     0.17618,     0.17718,     0.17818,     0.17918,     0.18018,     0.18118,     0.18218,     0.18318,     0.18418,     0.18519,     0.18619,     0.18719,     0.18819,     0.18919,     0.19019,     0.19119,\n",
       "           0.19219,     0.19319,     0.19419,      0.1952,      0.1962,      0.1972,      0.1982,      0.1992,      0.2002,      0.2012,      0.2022,      0.2032,      0.2042,     0.20521,     0.20621,     0.20721,     0.20821,     0.20921,     0.21021,     0.21121,     0.21221,     0.21321,     0.21421,     0.21522,\n",
       "           0.21622,     0.21722,     0.21822,     0.21922,     0.22022,     0.22122,     0.22222,     0.22322,     0.22422,     0.22523,     0.22623,     0.22723,     0.22823,     0.22923,     0.23023,     0.23123,     0.23223,     0.23323,     0.23423,     0.23524,     0.23624,     0.23724,     0.23824,     0.23924,\n",
       "           0.24024,     0.24124,     0.24224,     0.24324,     0.24424,     0.24525,     0.24625,     0.24725,     0.24825,     0.24925,     0.25025,     0.25125,     0.25225,     0.25325,     0.25425,     0.25526,     0.25626,     0.25726,     0.25826,     0.25926,     0.26026,     0.26126,     0.26226,     0.26326,\n",
       "           0.26426,     0.26527,     0.26627,     0.26727,     0.26827,     0.26927,     0.27027,     0.27127,     0.27227,     0.27327,     0.27427,     0.27528,     0.27628,     0.27728,     0.27828,     0.27928,     0.28028,     0.28128,     0.28228,     0.28328,     0.28428,     0.28529,     0.28629,     0.28729,\n",
       "           0.28829,     0.28929,     0.29029,     0.29129,     0.29229,     0.29329,     0.29429,      0.2953,      0.2963,      0.2973,      0.2983,      0.2993,      0.3003,      0.3013,      0.3023,      0.3033,      0.3043,     0.30531,     0.30631,     0.30731,     0.30831,     0.30931,     0.31031,     0.31131,\n",
       "           0.31231,     0.31331,     0.31431,     0.31532,     0.31632,     0.31732,     0.31832,     0.31932,     0.32032,     0.32132,     0.32232,     0.32332,     0.32432,     0.32533,     0.32633,     0.32733,     0.32833,     0.32933,     0.33033,     0.33133,     0.33233,     0.33333,     0.33433,     0.33534,\n",
       "           0.33634,     0.33734,     0.33834,     0.33934,     0.34034,     0.34134,     0.34234,     0.34334,     0.34434,     0.34535,     0.34635,     0.34735,     0.34835,     0.34935,     0.35035,     0.35135,     0.35235,     0.35335,     0.35435,     0.35536,     0.35636,     0.35736,     0.35836,     0.35936,\n",
       "           0.36036,     0.36136,     0.36236,     0.36336,     0.36436,     0.36537,     0.36637,     0.36737,     0.36837,     0.36937,     0.37037,     0.37137,     0.37237,     0.37337,     0.37437,     0.37538,     0.37638,     0.37738,     0.37838,     0.37938,     0.38038,     0.38138,     0.38238,     0.38338,\n",
       "           0.38438,     0.38539,     0.38639,     0.38739,     0.38839,     0.38939,     0.39039,     0.39139,     0.39239,     0.39339,     0.39439,      0.3954,      0.3964,      0.3974,      0.3984,      0.3994,      0.4004,      0.4014,      0.4024,      0.4034,      0.4044,     0.40541,     0.40641,     0.40741,\n",
       "           0.40841,     0.40941,     0.41041,     0.41141,     0.41241,     0.41341,     0.41441,     0.41542,     0.41642,     0.41742,     0.41842,     0.41942,     0.42042,     0.42142,     0.42242,     0.42342,     0.42442,     0.42543,     0.42643,     0.42743,     0.42843,     0.42943,     0.43043,     0.43143,\n",
       "           0.43243,     0.43343,     0.43443,     0.43544,     0.43644,     0.43744,     0.43844,     0.43944,     0.44044,     0.44144,     0.44244,     0.44344,     0.44444,     0.44545,     0.44645,     0.44745,     0.44845,     0.44945,     0.45045,     0.45145,     0.45245,     0.45345,     0.45445,     0.45546,\n",
       "           0.45646,     0.45746,     0.45846,     0.45946,     0.46046,     0.46146,     0.46246,     0.46346,     0.46446,     0.46547,     0.46647,     0.46747,     0.46847,     0.46947,     0.47047,     0.47147,     0.47247,     0.47347,     0.47447,     0.47548,     0.47648,     0.47748,     0.47848,     0.47948,\n",
       "           0.48048,     0.48148,     0.48248,     0.48348,     0.48448,     0.48549,     0.48649,     0.48749,     0.48849,     0.48949,     0.49049,     0.49149,     0.49249,     0.49349,     0.49449,      0.4955,      0.4965,      0.4975,      0.4985,      0.4995,      0.5005,      0.5015,      0.5025,      0.5035,\n",
       "            0.5045,     0.50551,     0.50651,     0.50751,     0.50851,     0.50951,     0.51051,     0.51151,     0.51251,     0.51351,     0.51451,     0.51552,     0.51652,     0.51752,     0.51852,     0.51952,     0.52052,     0.52152,     0.52252,     0.52352,     0.52452,     0.52553,     0.52653,     0.52753,\n",
       "           0.52853,     0.52953,     0.53053,     0.53153,     0.53253,     0.53353,     0.53453,     0.53554,     0.53654,     0.53754,     0.53854,     0.53954,     0.54054,     0.54154,     0.54254,     0.54354,     0.54454,     0.54555,     0.54655,     0.54755,     0.54855,     0.54955,     0.55055,     0.55155,\n",
       "           0.55255,     0.55355,     0.55455,     0.55556,     0.55656,     0.55756,     0.55856,     0.55956,     0.56056,     0.56156,     0.56256,     0.56356,     0.56456,     0.56557,     0.56657,     0.56757,     0.56857,     0.56957,     0.57057,     0.57157,     0.57257,     0.57357,     0.57457,     0.57558,\n",
       "           0.57658,     0.57758,     0.57858,     0.57958,     0.58058,     0.58158,     0.58258,     0.58358,     0.58458,     0.58559,     0.58659,     0.58759,     0.58859,     0.58959,     0.59059,     0.59159,     0.59259,     0.59359,     0.59459,      0.5956,      0.5966,      0.5976,      0.5986,      0.5996,\n",
       "            0.6006,      0.6016,      0.6026,      0.6036,      0.6046,     0.60561,     0.60661,     0.60761,     0.60861,     0.60961,     0.61061,     0.61161,     0.61261,     0.61361,     0.61461,     0.61562,     0.61662,     0.61762,     0.61862,     0.61962,     0.62062,     0.62162,     0.62262,     0.62362,\n",
       "           0.62462,     0.62563,     0.62663,     0.62763,     0.62863,     0.62963,     0.63063,     0.63163,     0.63263,     0.63363,     0.63463,     0.63564,     0.63664,     0.63764,     0.63864,     0.63964,     0.64064,     0.64164,     0.64264,     0.64364,     0.64464,     0.64565,     0.64665,     0.64765,\n",
       "           0.64865,     0.64965,     0.65065,     0.65165,     0.65265,     0.65365,     0.65465,     0.65566,     0.65666,     0.65766,     0.65866,     0.65966,     0.66066,     0.66166,     0.66266,     0.66366,     0.66466,     0.66567,     0.66667,     0.66767,     0.66867,     0.66967,     0.67067,     0.67167,\n",
       "           0.67267,     0.67367,     0.67467,     0.67568,     0.67668,     0.67768,     0.67868,     0.67968,     0.68068,     0.68168,     0.68268,     0.68368,     0.68468,     0.68569,     0.68669,     0.68769,     0.68869,     0.68969,     0.69069,     0.69169,     0.69269,     0.69369,     0.69469,      0.6957,\n",
       "            0.6967,      0.6977,      0.6987,      0.6997,      0.7007,      0.7017,      0.7027,      0.7037,      0.7047,     0.70571,     0.70671,     0.70771,     0.70871,     0.70971,     0.71071,     0.71171,     0.71271,     0.71371,     0.71471,     0.71572,     0.71672,     0.71772,     0.71872,     0.71972,\n",
       "           0.72072,     0.72172,     0.72272,     0.72372,     0.72472,     0.72573,     0.72673,     0.72773,     0.72873,     0.72973,     0.73073,     0.73173,     0.73273,     0.73373,     0.73473,     0.73574,     0.73674,     0.73774,     0.73874,     0.73974,     0.74074,     0.74174,     0.74274,     0.74374,\n",
       "           0.74474,     0.74575,     0.74675,     0.74775,     0.74875,     0.74975,     0.75075,     0.75175,     0.75275,     0.75375,     0.75475,     0.75576,     0.75676,     0.75776,     0.75876,     0.75976,     0.76076,     0.76176,     0.76276,     0.76376,     0.76476,     0.76577,     0.76677,     0.76777,\n",
       "           0.76877,     0.76977,     0.77077,     0.77177,     0.77277,     0.77377,     0.77477,     0.77578,     0.77678,     0.77778,     0.77878,     0.77978,     0.78078,     0.78178,     0.78278,     0.78378,     0.78478,     0.78579,     0.78679,     0.78779,     0.78879,     0.78979,     0.79079,     0.79179,\n",
       "           0.79279,     0.79379,     0.79479,      0.7958,      0.7968,      0.7978,      0.7988,      0.7998,      0.8008,      0.8018,      0.8028,      0.8038,      0.8048,     0.80581,     0.80681,     0.80781,     0.80881,     0.80981,     0.81081,     0.81181,     0.81281,     0.81381,     0.81481,     0.81582,\n",
       "           0.81682,     0.81782,     0.81882,     0.81982,     0.82082,     0.82182,     0.82282,     0.82382,     0.82482,     0.82583,     0.82683,     0.82783,     0.82883,     0.82983,     0.83083,     0.83183,     0.83283,     0.83383,     0.83483,     0.83584,     0.83684,     0.83784,     0.83884,     0.83984,\n",
       "           0.84084,     0.84184,     0.84284,     0.84384,     0.84484,     0.84585,     0.84685,     0.84785,     0.84885,     0.84985,     0.85085,     0.85185,     0.85285,     0.85385,     0.85485,     0.85586,     0.85686,     0.85786,     0.85886,     0.85986,     0.86086,     0.86186,     0.86286,     0.86386,\n",
       "           0.86486,     0.86587,     0.86687,     0.86787,     0.86887,     0.86987,     0.87087,     0.87187,     0.87287,     0.87387,     0.87487,     0.87588,     0.87688,     0.87788,     0.87888,     0.87988,     0.88088,     0.88188,     0.88288,     0.88388,     0.88488,     0.88589,     0.88689,     0.88789,\n",
       "           0.88889,     0.88989,     0.89089,     0.89189,     0.89289,     0.89389,     0.89489,      0.8959,      0.8969,      0.8979,      0.8989,      0.8999,      0.9009,      0.9019,      0.9029,      0.9039,      0.9049,     0.90591,     0.90691,     0.90791,     0.90891,     0.90991,     0.91091,     0.91191,\n",
       "           0.91291,     0.91391,     0.91491,     0.91592,     0.91692,     0.91792,     0.91892,     0.91992,     0.92092,     0.92192,     0.92292,     0.92392,     0.92492,     0.92593,     0.92693,     0.92793,     0.92893,     0.92993,     0.93093,     0.93193,     0.93293,     0.93393,     0.93493,     0.93594,\n",
       "           0.93694,     0.93794,     0.93894,     0.93994,     0.94094,     0.94194,     0.94294,     0.94394,     0.94494,     0.94595,     0.94695,     0.94795,     0.94895,     0.94995,     0.95095,     0.95195,     0.95295,     0.95395,     0.95495,     0.95596,     0.95696,     0.95796,     0.95896,     0.95996,\n",
       "           0.96096,     0.96196,     0.96296,     0.96396,     0.96496,     0.96597,     0.96697,     0.96797,     0.96897,     0.96997,     0.97097,     0.97197,     0.97297,     0.97397,     0.97497,     0.97598,     0.97698,     0.97798,     0.97898,     0.97998,     0.98098,     0.98198,     0.98298,     0.98398,\n",
       "           0.98498,     0.98599,     0.98699,     0.98799,     0.98899,     0.98999,     0.99099,     0.99199,     0.99299,     0.99399,     0.99499,       0.996,       0.997,       0.998,       0.999,           1]), array([[          1,           1,           1, ...,           0,           0,           0],\n",
       "       [          1,           1,           1, ...,           0,           0,           0],\n",
       "       [          1,           1,           1, ...,           0,           0,           0],\n",
       "       ...,\n",
       "       [          1,           1,           1, ...,           0,           0,           0],\n",
       "       [          1,           1,           1, ...,           0,           0,           0],\n",
       "       [          1,           1,           1, ...,           0,           0,           0]]), 'Confidence', 'Recall']]\n",
       "fitness: 0.9949941295852294\n",
       "keys: ['metrics/precision(B)', 'metrics/recall(B)', 'metrics/mAP50(B)', 'metrics/mAP50-95(B)']\n",
       "maps: array([      0.995,     0.99491,       0.995,     0.99499,       0.995,       0.995,       0.995,       0.995,       0.995,       0.995,       0.995,       0.995,       0.995,       0.995])\n",
       "names: {0: '0000-感叹号', 1: '0001-距离', 2: '0002-战斗-鸣徽', 3: '0003-战斗-武备', 4: '0004-战斗-硬币', 5: '0005-挑战-无伤', 6: '0006-挑战-限时', 7: '0007-偶遇事件', 8: '0008-代价之间', 9: '0009-休憩调息', 10: '0010-邦布商店', 11: '0011-挚交会谈', 12: '0012-战斗-道中危机', 13: '0013-战斗-终结之役'}\n",
       "plot: True\n",
       "results_dict: {'metrics/precision(B)': 0.9993687771404117, 'metrics/recall(B)': 1.0, 'metrics/mAP50(B)': 0.9949999999999998, 'metrics/mAP50-95(B)': 0.9949934773169214, 'fitness': 0.9949941295852294}\n",
       "save_dir: WindowsPath('D:/code/workspace/OneDragon-YOLO/ultralytics/runs/zzz_lost_void_det_2208/yolov8n-736')\n",
       "speed: {'preprocess': 0.5369344033485601, 'inference': 2.0287009310131228, 'loss': 0.0016543490827576187, 'postprocess': 1.4380494425119448}\n",
       "task: 'detect'"
      ]
     },
     "execution_count": 9,
     "metadata": {},
     "output_type": "execute_result"
    }
   ],
   "source": [
    "model.train(\n",
    "    data=ultralytics_utils.get_dataset_yaml_path(dataset_name),  # 数据集配置文件的位置\n",
    "    project=ultralytics_utils.get_dataset_model_dir(dataset_name),  # 训练模型的数据（包括模型文件）的自动保存位置\n",
    "    name= train_name,\n",
    "    imgsz=train_img_size,\n",
    "    epochs=1000,\n",
    "    save_period=100,\n",
    "    batch=30,  # 根据可使用内存 自动判断batch_size\n",
    "    val=False,  # 关闭验证\n",
    "    exist_ok=True,\n",
    "    scale=0,  # 不需要缩放处理\n",
    "    flipud=0, fliplr=0,  # 不需要翻转对称\n",
    "    erasing=0,  # 不需要消除了 图片下方空白比较多\n",
    "    hsv_h=0, hsv_s=0, hsv_v=0,  # 关闭色彩调节\n",
    "    mosaic=0,  # 不需要拼接 使用原装大小\n",
    ")"
   ]
  },
  {
   "cell_type": "code",
   "execution_count": 10,
   "id": "863e41a5-d98a-44fb-9e61-e4990bcb4701",
   "metadata": {},
   "outputs": [
    {
     "name": "stdout",
     "output_type": "stream",
     "text": [
      "Ultralytics 8.3.1  Python-3.11.9 torch-2.3.1 CPU (AMD Ryzen 9 5950X 16-Core Processor)\n",
      "Model summary (fused): 186 layers, 2,687,098 parameters, 0 gradients, 6.8 GFLOPs\n",
      "\n",
      "\u001b[34m\u001b[1mPyTorch:\u001b[0m starting from 'D:\\code\\workspace\\OneDragon-YOLO\\ultralytics\\runs\\zzz_lost_void_det_2208\\yolov8n-736\\weights\\best.pt' with input shape (1, 3, 416, 736) BCHW and output shape(s) (1, 18, 6279) (5.7 MB)\n",
      "\u001b[31m\u001b[1mrequirements:\u001b[0m Ultralytics requirements ['onnxslim==0.1.34', 'onnxruntime-gpu'] not found, attempting AutoUpdate...\n",
      "\u001b[31m\u001b[1mrequirements:\u001b[0m  AutoUpdate skipped (offline)\n",
      "\n",
      "\u001b[34m\u001b[1mONNX:\u001b[0m starting export with onnx 1.16.0 opset 17...\n",
      "\u001b[34m\u001b[1mONNX:\u001b[0m simplifier failure: No module named 'onnxslim'\n",
      "\u001b[34m\u001b[1mONNX:\u001b[0m export success  0.6s, saved as 'D:\\code\\workspace\\OneDragon-YOLO\\ultralytics\\runs\\zzz_lost_void_det_2208\\yolov8n-736\\weights\\best.onnx' (10.4 MB)\n",
      "\n",
      "Export complete (0.9s)\n",
      "Results saved to \u001b[1mD:\\code\\workspace\\OneDragon-YOLO\\ultralytics\\runs\\zzz_lost_void_det_2208\\yolov8n-736\\weights\u001b[0m\n",
      "Predict:         yolo predict task=detect model=D:\\code\\workspace\\OneDragon-YOLO\\ultralytics\\runs\\zzz_lost_void_det_2208\\yolov8n-736\\weights\\best.onnx imgsz=416,736  \n",
      "Validate:        yolo val task=detect model=D:\\code\\workspace\\OneDragon-YOLO\\ultralytics\\runs\\zzz_lost_void_det_2208\\yolov8n-736\\weights\\best.onnx imgsz=416,736 data=D:\\code\\workspace\\OneDragon-YOLO\\ultralytics\\datasets\\zzz_lost_void_det_2208\\dataset.yaml  WARNING  non-PyTorch val requires square images, 'imgsz=[416, 736]' will not work. Use export 'imgsz=736' if val is required.\n",
      "Visualize:       https://netron.app\n"
     ]
    }
   ],
   "source": [
    "ultralytics_utils.export_model(\n",
    "    dataset_name=dataset_name,\n",
    "    train_name=train_name,\n",
    "    imgsz=export_img_size\n",
    ")"
   ]
  },
  {
   "cell_type": "code",
   "execution_count": 11,
   "id": "7b339773-2a77-4a37-b51f-5cc07990bd53",
   "metadata": {
    "scrolled": true
   },
   "outputs": [
    {
     "name": "stdout",
     "output_type": "stream",
     "text": [
      "Ultralytics 8.3.1  Python-3.11.9 torch-2.3.1 CPU (AMD Ryzen 9 5950X 16-Core Processor)\n",
      "Model summary (fused): 186 layers, 2,687,098 parameters, 0 gradients, 6.8 GFLOPs\n",
      "\n",
      "\u001b[34m\u001b[1mPyTorch:\u001b[0m starting from 'D:\\code\\workspace\\OneDragon-YOLO\\ultralytics\\runs\\zzz_lost_void_det_2208\\yolov8n-736\\weights\\epoch100.pt' with input shape (1, 3, 416, 736) BCHW and output shape(s) (1, 18, 6279) (16.0 MB)\n",
      "\u001b[31m\u001b[1mrequirements:\u001b[0m Ultralytics requirements ['onnxslim==0.1.34', 'onnxruntime-gpu'] not found, attempting AutoUpdate...\n",
      "\u001b[31m\u001b[1mrequirements:\u001b[0m  AutoUpdate skipped (offline)\n",
      "\n",
      "\u001b[34m\u001b[1mONNX:\u001b[0m starting export with onnx 1.16.0 opset 17...\n",
      "\u001b[34m\u001b[1mONNX:\u001b[0m simplifier failure: No module named 'onnxslim'\n",
      "\u001b[34m\u001b[1mONNX:\u001b[0m export success  0.5s, saved as 'D:\\code\\workspace\\OneDragon-YOLO\\ultralytics\\runs\\zzz_lost_void_det_2208\\yolov8n-736\\weights\\epoch100.onnx' (10.4 MB)\n",
      "\n",
      "Export complete (0.7s)\n",
      "Results saved to \u001b[1mD:\\code\\workspace\\OneDragon-YOLO\\ultralytics\\runs\\zzz_lost_void_det_2208\\yolov8n-736\\weights\u001b[0m\n",
      "Predict:         yolo predict task=detect model=D:\\code\\workspace\\OneDragon-YOLO\\ultralytics\\runs\\zzz_lost_void_det_2208\\yolov8n-736\\weights\\epoch100.onnx imgsz=416,736  \n",
      "Validate:        yolo val task=detect model=D:\\code\\workspace\\OneDragon-YOLO\\ultralytics\\runs\\zzz_lost_void_det_2208\\yolov8n-736\\weights\\epoch100.onnx imgsz=416,736 data=D:\\code\\workspace\\OneDragon-YOLO\\ultralytics\\datasets\\zzz_lost_void_det_2208\\dataset.yaml  WARNING  non-PyTorch val requires square images, 'imgsz=[416, 736]' will not work. Use export 'imgsz=736' if val is required.\n",
      "Visualize:       https://netron.app\n",
      "Ultralytics 8.3.1  Python-3.11.9 torch-2.3.1 CPU (AMD Ryzen 9 5950X 16-Core Processor)\n",
      "Model summary (fused): 186 layers, 2,687,098 parameters, 0 gradients, 6.8 GFLOPs\n",
      "\n",
      "\u001b[34m\u001b[1mPyTorch:\u001b[0m starting from 'D:\\code\\workspace\\OneDragon-YOLO\\ultralytics\\runs\\zzz_lost_void_det_2208\\yolov8n-736\\weights\\epoch200.pt' with input shape (1, 3, 416, 736) BCHW and output shape(s) (1, 18, 6279) (16.0 MB)\n",
      "\u001b[31m\u001b[1mrequirements:\u001b[0m Ultralytics requirements ['onnxslim==0.1.34', 'onnxruntime-gpu'] not found, attempting AutoUpdate...\n",
      "\u001b[31m\u001b[1mrequirements:\u001b[0m  AutoUpdate skipped (offline)\n",
      "\n",
      "\u001b[34m\u001b[1mONNX:\u001b[0m starting export with onnx 1.16.0 opset 17...\n",
      "\u001b[34m\u001b[1mONNX:\u001b[0m simplifier failure: No module named 'onnxslim'\n",
      "\u001b[34m\u001b[1mONNX:\u001b[0m export success  0.5s, saved as 'D:\\code\\workspace\\OneDragon-YOLO\\ultralytics\\runs\\zzz_lost_void_det_2208\\yolov8n-736\\weights\\epoch200.onnx' (10.4 MB)\n",
      "\n",
      "Export complete (0.7s)\n",
      "Results saved to \u001b[1mD:\\code\\workspace\\OneDragon-YOLO\\ultralytics\\runs\\zzz_lost_void_det_2208\\yolov8n-736\\weights\u001b[0m\n",
      "Predict:         yolo predict task=detect model=D:\\code\\workspace\\OneDragon-YOLO\\ultralytics\\runs\\zzz_lost_void_det_2208\\yolov8n-736\\weights\\epoch200.onnx imgsz=416,736  \n",
      "Validate:        yolo val task=detect model=D:\\code\\workspace\\OneDragon-YOLO\\ultralytics\\runs\\zzz_lost_void_det_2208\\yolov8n-736\\weights\\epoch200.onnx imgsz=416,736 data=D:\\code\\workspace\\OneDragon-YOLO\\ultralytics\\datasets\\zzz_lost_void_det_2208\\dataset.yaml  WARNING  non-PyTorch val requires square images, 'imgsz=[416, 736]' will not work. Use export 'imgsz=736' if val is required.\n",
      "Visualize:       https://netron.app\n",
      "Ultralytics 8.3.1  Python-3.11.9 torch-2.3.1 CPU (AMD Ryzen 9 5950X 16-Core Processor)\n",
      "Model summary (fused): 186 layers, 2,687,098 parameters, 0 gradients, 6.8 GFLOPs\n",
      "\n",
      "\u001b[34m\u001b[1mPyTorch:\u001b[0m starting from 'D:\\code\\workspace\\OneDragon-YOLO\\ultralytics\\runs\\zzz_lost_void_det_2208\\yolov8n-736\\weights\\epoch300.pt' with input shape (1, 3, 416, 736) BCHW and output shape(s) (1, 18, 6279) (16.0 MB)\n",
      "\u001b[31m\u001b[1mrequirements:\u001b[0m Ultralytics requirements ['onnxslim==0.1.34', 'onnxruntime-gpu'] not found, attempting AutoUpdate...\n",
      "\u001b[31m\u001b[1mrequirements:\u001b[0m  AutoUpdate skipped (offline)\n",
      "\n",
      "\u001b[34m\u001b[1mONNX:\u001b[0m starting export with onnx 1.16.0 opset 17...\n",
      "\u001b[34m\u001b[1mONNX:\u001b[0m simplifier failure: No module named 'onnxslim'\n",
      "\u001b[34m\u001b[1mONNX:\u001b[0m export success  0.6s, saved as 'D:\\code\\workspace\\OneDragon-YOLO\\ultralytics\\runs\\zzz_lost_void_det_2208\\yolov8n-736\\weights\\epoch300.onnx' (10.4 MB)\n",
      "\n",
      "Export complete (0.8s)\n",
      "Results saved to \u001b[1mD:\\code\\workspace\\OneDragon-YOLO\\ultralytics\\runs\\zzz_lost_void_det_2208\\yolov8n-736\\weights\u001b[0m\n",
      "Predict:         yolo predict task=detect model=D:\\code\\workspace\\OneDragon-YOLO\\ultralytics\\runs\\zzz_lost_void_det_2208\\yolov8n-736\\weights\\epoch300.onnx imgsz=416,736  \n",
      "Validate:        yolo val task=detect model=D:\\code\\workspace\\OneDragon-YOLO\\ultralytics\\runs\\zzz_lost_void_det_2208\\yolov8n-736\\weights\\epoch300.onnx imgsz=416,736 data=D:\\code\\workspace\\OneDragon-YOLO\\ultralytics\\datasets\\zzz_lost_void_det_2208\\dataset.yaml  WARNING  non-PyTorch val requires square images, 'imgsz=[416, 736]' will not work. Use export 'imgsz=736' if val is required.\n",
      "Visualize:       https://netron.app\n",
      "Ultralytics 8.3.1  Python-3.11.9 torch-2.3.1 CPU (AMD Ryzen 9 5950X 16-Core Processor)\n",
      "Model summary (fused): 186 layers, 2,687,098 parameters, 0 gradients, 6.8 GFLOPs\n",
      "\n",
      "\u001b[34m\u001b[1mPyTorch:\u001b[0m starting from 'D:\\code\\workspace\\OneDragon-YOLO\\ultralytics\\runs\\zzz_lost_void_det_2208\\yolov8n-736\\weights\\epoch400.pt' with input shape (1, 3, 416, 736) BCHW and output shape(s) (1, 18, 6279) (16.0 MB)\n",
      "\u001b[31m\u001b[1mrequirements:\u001b[0m Ultralytics requirements ['onnxslim==0.1.34', 'onnxruntime-gpu'] not found, attempting AutoUpdate...\n",
      "\u001b[31m\u001b[1mrequirements:\u001b[0m  AutoUpdate skipped (offline)\n",
      "\n",
      "\u001b[34m\u001b[1mONNX:\u001b[0m starting export with onnx 1.16.0 opset 17...\n",
      "\u001b[34m\u001b[1mONNX:\u001b[0m simplifier failure: No module named 'onnxslim'\n",
      "\u001b[34m\u001b[1mONNX:\u001b[0m export success  0.5s, saved as 'D:\\code\\workspace\\OneDragon-YOLO\\ultralytics\\runs\\zzz_lost_void_det_2208\\yolov8n-736\\weights\\epoch400.onnx' (10.4 MB)\n",
      "\n",
      "Export complete (0.7s)\n",
      "Results saved to \u001b[1mD:\\code\\workspace\\OneDragon-YOLO\\ultralytics\\runs\\zzz_lost_void_det_2208\\yolov8n-736\\weights\u001b[0m\n",
      "Predict:         yolo predict task=detect model=D:\\code\\workspace\\OneDragon-YOLO\\ultralytics\\runs\\zzz_lost_void_det_2208\\yolov8n-736\\weights\\epoch400.onnx imgsz=416,736  \n",
      "Validate:        yolo val task=detect model=D:\\code\\workspace\\OneDragon-YOLO\\ultralytics\\runs\\zzz_lost_void_det_2208\\yolov8n-736\\weights\\epoch400.onnx imgsz=416,736 data=D:\\code\\workspace\\OneDragon-YOLO\\ultralytics\\datasets\\zzz_lost_void_det_2208\\dataset.yaml  WARNING  non-PyTorch val requires square images, 'imgsz=[416, 736]' will not work. Use export 'imgsz=736' if val is required.\n",
      "Visualize:       https://netron.app\n",
      "Ultralytics 8.3.1  Python-3.11.9 torch-2.3.1 CPU (AMD Ryzen 9 5950X 16-Core Processor)\n",
      "Model summary (fused): 186 layers, 2,687,098 parameters, 0 gradients, 6.8 GFLOPs\n",
      "\n",
      "\u001b[34m\u001b[1mPyTorch:\u001b[0m starting from 'D:\\code\\workspace\\OneDragon-YOLO\\ultralytics\\runs\\zzz_lost_void_det_2208\\yolov8n-736\\weights\\epoch500.pt' with input shape (1, 3, 416, 736) BCHW and output shape(s) (1, 18, 6279) (16.0 MB)\n",
      "\u001b[31m\u001b[1mrequirements:\u001b[0m Ultralytics requirements ['onnxslim==0.1.34', 'onnxruntime-gpu'] not found, attempting AutoUpdate...\n",
      "\u001b[31m\u001b[1mrequirements:\u001b[0m  AutoUpdate skipped (offline)\n",
      "\n",
      "\u001b[34m\u001b[1mONNX:\u001b[0m starting export with onnx 1.16.0 opset 17...\n",
      "\u001b[34m\u001b[1mONNX:\u001b[0m simplifier failure: No module named 'onnxslim'\n",
      "\u001b[34m\u001b[1mONNX:\u001b[0m export success  0.6s, saved as 'D:\\code\\workspace\\OneDragon-YOLO\\ultralytics\\runs\\zzz_lost_void_det_2208\\yolov8n-736\\weights\\epoch500.onnx' (10.4 MB)\n",
      "\n",
      "Export complete (0.8s)\n",
      "Results saved to \u001b[1mD:\\code\\workspace\\OneDragon-YOLO\\ultralytics\\runs\\zzz_lost_void_det_2208\\yolov8n-736\\weights\u001b[0m\n",
      "Predict:         yolo predict task=detect model=D:\\code\\workspace\\OneDragon-YOLO\\ultralytics\\runs\\zzz_lost_void_det_2208\\yolov8n-736\\weights\\epoch500.onnx imgsz=416,736  \n",
      "Validate:        yolo val task=detect model=D:\\code\\workspace\\OneDragon-YOLO\\ultralytics\\runs\\zzz_lost_void_det_2208\\yolov8n-736\\weights\\epoch500.onnx imgsz=416,736 data=D:\\code\\workspace\\OneDragon-YOLO\\ultralytics\\datasets\\zzz_lost_void_det_2208\\dataset.yaml  WARNING  non-PyTorch val requires square images, 'imgsz=[416, 736]' will not work. Use export 'imgsz=736' if val is required.\n",
      "Visualize:       https://netron.app\n",
      "Ultralytics 8.3.1  Python-3.11.9 torch-2.3.1 CPU (AMD Ryzen 9 5950X 16-Core Processor)\n",
      "Model summary (fused): 186 layers, 2,687,098 parameters, 0 gradients, 6.8 GFLOPs\n",
      "\n",
      "\u001b[34m\u001b[1mPyTorch:\u001b[0m starting from 'D:\\code\\workspace\\OneDragon-YOLO\\ultralytics\\runs\\zzz_lost_void_det_2208\\yolov8n-736\\weights\\epoch600.pt' with input shape (1, 3, 416, 736) BCHW and output shape(s) (1, 18, 6279) (16.0 MB)\n",
      "\u001b[31m\u001b[1mrequirements:\u001b[0m Ultralytics requirements ['onnxslim==0.1.34', 'onnxruntime-gpu'] not found, attempting AutoUpdate...\n",
      "\u001b[31m\u001b[1mrequirements:\u001b[0m  AutoUpdate skipped (offline)\n",
      "\n",
      "\u001b[34m\u001b[1mONNX:\u001b[0m starting export with onnx 1.16.0 opset 17...\n",
      "\u001b[34m\u001b[1mONNX:\u001b[0m simplifier failure: No module named 'onnxslim'\n",
      "\u001b[34m\u001b[1mONNX:\u001b[0m export success  0.5s, saved as 'D:\\code\\workspace\\OneDragon-YOLO\\ultralytics\\runs\\zzz_lost_void_det_2208\\yolov8n-736\\weights\\epoch600.onnx' (10.4 MB)\n",
      "\n",
      "Export complete (0.7s)\n",
      "Results saved to \u001b[1mD:\\code\\workspace\\OneDragon-YOLO\\ultralytics\\runs\\zzz_lost_void_det_2208\\yolov8n-736\\weights\u001b[0m\n",
      "Predict:         yolo predict task=detect model=D:\\code\\workspace\\OneDragon-YOLO\\ultralytics\\runs\\zzz_lost_void_det_2208\\yolov8n-736\\weights\\epoch600.onnx imgsz=416,736  \n",
      "Validate:        yolo val task=detect model=D:\\code\\workspace\\OneDragon-YOLO\\ultralytics\\runs\\zzz_lost_void_det_2208\\yolov8n-736\\weights\\epoch600.onnx imgsz=416,736 data=D:\\code\\workspace\\OneDragon-YOLO\\ultralytics\\datasets\\zzz_lost_void_det_2208\\dataset.yaml  WARNING  non-PyTorch val requires square images, 'imgsz=[416, 736]' will not work. Use export 'imgsz=736' if val is required.\n",
      "Visualize:       https://netron.app\n",
      "Ultralytics 8.3.1  Python-3.11.9 torch-2.3.1 CPU (AMD Ryzen 9 5950X 16-Core Processor)\n",
      "Model summary (fused): 186 layers, 2,687,098 parameters, 0 gradients, 6.8 GFLOPs\n",
      "\n",
      "\u001b[34m\u001b[1mPyTorch:\u001b[0m starting from 'D:\\code\\workspace\\OneDragon-YOLO\\ultralytics\\runs\\zzz_lost_void_det_2208\\yolov8n-736\\weights\\epoch700.pt' with input shape (1, 3, 416, 736) BCHW and output shape(s) (1, 18, 6279) (16.1 MB)\n",
      "\u001b[31m\u001b[1mrequirements:\u001b[0m Ultralytics requirements ['onnxslim==0.1.34', 'onnxruntime-gpu'] not found, attempting AutoUpdate...\n",
      "\u001b[31m\u001b[1mrequirements:\u001b[0m  AutoUpdate skipped (offline)\n",
      "\n",
      "\u001b[34m\u001b[1mONNX:\u001b[0m starting export with onnx 1.16.0 opset 17...\n",
      "\u001b[34m\u001b[1mONNX:\u001b[0m simplifier failure: No module named 'onnxslim'\n",
      "\u001b[34m\u001b[1mONNX:\u001b[0m export success  0.6s, saved as 'D:\\code\\workspace\\OneDragon-YOLO\\ultralytics\\runs\\zzz_lost_void_det_2208\\yolov8n-736\\weights\\epoch700.onnx' (10.4 MB)\n",
      "\n",
      "Export complete (0.8s)\n",
      "Results saved to \u001b[1mD:\\code\\workspace\\OneDragon-YOLO\\ultralytics\\runs\\zzz_lost_void_det_2208\\yolov8n-736\\weights\u001b[0m\n",
      "Predict:         yolo predict task=detect model=D:\\code\\workspace\\OneDragon-YOLO\\ultralytics\\runs\\zzz_lost_void_det_2208\\yolov8n-736\\weights\\epoch700.onnx imgsz=416,736  \n",
      "Validate:        yolo val task=detect model=D:\\code\\workspace\\OneDragon-YOLO\\ultralytics\\runs\\zzz_lost_void_det_2208\\yolov8n-736\\weights\\epoch700.onnx imgsz=416,736 data=D:\\code\\workspace\\OneDragon-YOLO\\ultralytics\\datasets\\zzz_lost_void_det_2208\\dataset.yaml  WARNING  non-PyTorch val requires square images, 'imgsz=[416, 736]' will not work. Use export 'imgsz=736' if val is required.\n",
      "Visualize:       https://netron.app\n",
      "Ultralytics 8.3.1  Python-3.11.9 torch-2.3.1 CPU (AMD Ryzen 9 5950X 16-Core Processor)\n",
      "Model summary (fused): 186 layers, 2,687,098 parameters, 0 gradients, 6.8 GFLOPs\n",
      "\n",
      "\u001b[34m\u001b[1mPyTorch:\u001b[0m starting from 'D:\\code\\workspace\\OneDragon-YOLO\\ultralytics\\runs\\zzz_lost_void_det_2208\\yolov8n-736\\weights\\epoch800.pt' with input shape (1, 3, 416, 736) BCHW and output shape(s) (1, 18, 6279) (16.1 MB)\n",
      "\u001b[31m\u001b[1mrequirements:\u001b[0m Ultralytics requirements ['onnxslim==0.1.34', 'onnxruntime-gpu'] not found, attempting AutoUpdate...\n",
      "\u001b[31m\u001b[1mrequirements:\u001b[0m  AutoUpdate skipped (offline)\n",
      "\n",
      "\u001b[34m\u001b[1mONNX:\u001b[0m starting export with onnx 1.16.0 opset 17...\n",
      "\u001b[34m\u001b[1mONNX:\u001b[0m simplifier failure: No module named 'onnxslim'\n",
      "\u001b[34m\u001b[1mONNX:\u001b[0m export success  0.5s, saved as 'D:\\code\\workspace\\OneDragon-YOLO\\ultralytics\\runs\\zzz_lost_void_det_2208\\yolov8n-736\\weights\\epoch800.onnx' (10.4 MB)\n",
      "\n",
      "Export complete (0.7s)\n",
      "Results saved to \u001b[1mD:\\code\\workspace\\OneDragon-YOLO\\ultralytics\\runs\\zzz_lost_void_det_2208\\yolov8n-736\\weights\u001b[0m\n",
      "Predict:         yolo predict task=detect model=D:\\code\\workspace\\OneDragon-YOLO\\ultralytics\\runs\\zzz_lost_void_det_2208\\yolov8n-736\\weights\\epoch800.onnx imgsz=416,736  \n",
      "Validate:        yolo val task=detect model=D:\\code\\workspace\\OneDragon-YOLO\\ultralytics\\runs\\zzz_lost_void_det_2208\\yolov8n-736\\weights\\epoch800.onnx imgsz=416,736 data=D:\\code\\workspace\\OneDragon-YOLO\\ultralytics\\datasets\\zzz_lost_void_det_2208\\dataset.yaml  WARNING  non-PyTorch val requires square images, 'imgsz=[416, 736]' will not work. Use export 'imgsz=736' if val is required.\n",
      "Visualize:       https://netron.app\n",
      "Ultralytics 8.3.1  Python-3.11.9 torch-2.3.1 CPU (AMD Ryzen 9 5950X 16-Core Processor)\n",
      "Model summary (fused): 186 layers, 2,687,098 parameters, 0 gradients, 6.8 GFLOPs\n",
      "\n",
      "\u001b[34m\u001b[1mPyTorch:\u001b[0m starting from 'D:\\code\\workspace\\OneDragon-YOLO\\ultralytics\\runs\\zzz_lost_void_det_2208\\yolov8n-736\\weights\\epoch900.pt' with input shape (1, 3, 416, 736) BCHW and output shape(s) (1, 18, 6279) (16.1 MB)\n",
      "\u001b[31m\u001b[1mrequirements:\u001b[0m Ultralytics requirements ['onnxslim==0.1.34', 'onnxruntime-gpu'] not found, attempting AutoUpdate...\n",
      "\u001b[31m\u001b[1mrequirements:\u001b[0m  AutoUpdate skipped (offline)\n",
      "\n",
      "\u001b[34m\u001b[1mONNX:\u001b[0m starting export with onnx 1.16.0 opset 17...\n",
      "\u001b[34m\u001b[1mONNX:\u001b[0m simplifier failure: No module named 'onnxslim'\n",
      "\u001b[34m\u001b[1mONNX:\u001b[0m export success  0.5s, saved as 'D:\\code\\workspace\\OneDragon-YOLO\\ultralytics\\runs\\zzz_lost_void_det_2208\\yolov8n-736\\weights\\epoch900.onnx' (10.4 MB)\n",
      "\n",
      "Export complete (0.7s)\n",
      "Results saved to \u001b[1mD:\\code\\workspace\\OneDragon-YOLO\\ultralytics\\runs\\zzz_lost_void_det_2208\\yolov8n-736\\weights\u001b[0m\n",
      "Predict:         yolo predict task=detect model=D:\\code\\workspace\\OneDragon-YOLO\\ultralytics\\runs\\zzz_lost_void_det_2208\\yolov8n-736\\weights\\epoch900.onnx imgsz=416,736  \n",
      "Validate:        yolo val task=detect model=D:\\code\\workspace\\OneDragon-YOLO\\ultralytics\\runs\\zzz_lost_void_det_2208\\yolov8n-736\\weights\\epoch900.onnx imgsz=416,736 data=D:\\code\\workspace\\OneDragon-YOLO\\ultralytics\\datasets\\zzz_lost_void_det_2208\\dataset.yaml  WARNING  non-PyTorch val requires square images, 'imgsz=[416, 736]' will not work. Use export 'imgsz=736' if val is required.\n",
      "Visualize:       https://netron.app\n"
     ]
    }
   ],
   "source": [
    "for i in range(1, 10):\n",
    "    model_name = 'epoch%d00' % i\n",
    "    ultralytics_utils.export_model(\n",
    "        dataset_name=dataset_name,\n",
    "        train_name=train_name,\n",
    "        imgsz=export_img_size,\n",
    "        model_name=model_name,\n",
    "        save_name=f'{train_name}-{model_name}'\n",
    "    )"
   ]
  },
  {
   "cell_type": "code",
   "execution_count": null,
   "id": "dba1ceac-be89-4024-b3b2-63d1761fa81d",
   "metadata": {},
   "outputs": [],
   "source": []
  }
 ],
 "metadata": {
  "kernelspec": {
   "display_name": "Python 3 (ipykernel)",
   "language": "python",
   "name": "python3"
  },
  "language_info": {
   "codemirror_mode": {
    "name": "ipython",
    "version": 3
   },
   "file_extension": ".py",
   "mimetype": "text/x-python",
   "name": "python",
   "nbconvert_exporter": "python",
   "pygments_lexer": "ipython3",
   "version": "3.11.9"
  }
 },
 "nbformat": 4,
 "nbformat_minor": 5
}

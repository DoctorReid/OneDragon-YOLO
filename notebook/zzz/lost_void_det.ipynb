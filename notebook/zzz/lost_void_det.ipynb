{
 "cells": [
  {
   "cell_type": "code",
   "execution_count": 1,
   "id": "2ccd20a0-e4f7-4ccc-8f98-4a069b707efb",
   "metadata": {},
   "outputs": [],
   "source": [
    "import pandas as pd\n",
    "import sys\n",
    "import os\n",
    "import math\n",
    "sys.path.append('../../src')"
   ]
  },
  {
   "cell_type": "code",
   "execution_count": 2,
   "id": "6bfd7549-a791-43b5-9045-2408985315af",
   "metadata": {},
   "outputs": [],
   "source": [
    "from train.devtools import os_utils\n",
    "from train.devtools import ultralytics_utils\n",
    "from train.devtools import yolo_dataset_utils"
   ]
  },
  {
   "cell_type": "code",
   "execution_count": 3,
   "id": "61d9666e-ed67-43ee-805c-96c1fde496f1",
   "metadata": {},
   "outputs": [],
   "source": [
    "ultralytics_utils.init_ultralytics_settings()"
   ]
  },
  {
   "cell_type": "code",
   "execution_count": 4,
   "id": "603bce91-cb98-45fd-9187-b6e37f065693",
   "metadata": {},
   "outputs": [],
   "source": [
    "# origin_img_size = 32 * 68\n",
    "# img_size_div = 2\n",
    "origin_img_size = 32 * 69\n",
    "img_size_div = 3\n",
    "train_img_size = origin_img_size // img_size_div\n",
    "\n",
    "export_width = origin_img_size // img_size_div\n",
    "export_height = math.ceil((export_width // 16 * 9) * 1.0 / 32) * 32\n",
    "export_img_size = (export_height, export_width) # 由于训练时候没有开启缩放，使用训练的尺寸效果会更好\n",
    "\n",
    "dataset_name = f'zzz_lost_void_det_{origin_img_size}'\n",
    "\n",
    "# pretrained_model_name = 'yolo11n'\n",
    "pretrained_model_name = 'yolov8n'\n",
    "train_name = f'{pretrained_model_name}-{train_img_size}'"
   ]
  },
  {
   "cell_type": "code",
   "execution_count": 5,
   "id": "c0279b8a-e510-4d0f-a77f-01614927ded0",
   "metadata": {},
   "outputs": [
    {
     "data": {
      "text/plain": [
       "('zzz_lost_void_det_2208', 'yolov8n-736', (416, 736))"
      ]
     },
     "execution_count": 5,
     "metadata": {},
     "output_type": "execute_result"
    }
   ],
   "source": [
    "dataset_name, train_name, export_img_size"
   ]
  },
  {
   "cell_type": "code",
   "execution_count": 6,
   "id": "608bc633-42d2-48a5-8b42-f14424237d8b",
   "metadata": {},
   "outputs": [
    {
     "name": "stdout",
     "output_type": "stream",
     "text": [
      "Autosplitting images from D:\\code\\workspace\\OneDragon-YOLO\\ultralytics\\datasets\\zzz_lost_void_det_2208\\images, using *.txt labeled images only\n"
     ]
    },
    {
     "name": "stderr",
     "output_type": "stream",
     "text": [
      "100%|██████████| 546/546 [00:00<00:00, 3924.47it/s]\n"
     ]
    }
   ],
   "source": [
    "yolo_dataset_utils.init_dataset(\n",
    "    dataset_name=dataset_name,\n",
    "    raw_dataset_name='zzz_lost_void_det_raw',\n",
    "    raw_images_dir_path=os_utils.get_path_under_work_dir('label_studio', 'zzz', 'lost_void_det', 'raw'),\n",
    "    target_img_size=origin_img_size,\n",
    "    split_weights=(1, 0, 0)\n",
    ")"
   ]
  },
  {
   "cell_type": "code",
   "execution_count": 7,
   "id": "721d4f40-6cd0-450b-ba19-00b89076b42c",
   "metadata": {},
   "outputs": [],
   "source": [
    "from ultralytics import YOLO"
   ]
  },
  {
   "cell_type": "code",
   "execution_count": 8,
   "id": "3bdbb5bf-3bcf-4c48-9439-d2b5f983e9b6",
   "metadata": {},
   "outputs": [],
   "source": [
    "model = YOLO(ultralytics_utils.get_base_model_path(f'{pretrained_model_name}.pt'))"
   ]
  },
  {
   "cell_type": "code",
   "execution_count": 9,
   "id": "372da530-416e-4796-a81e-9fc1857a626c",
   "metadata": {
    "scrolled": true
   },
   "outputs": [
    {
     "name": "stdout",
     "output_type": "stream",
     "text": [
      "Ultralytics 8.3.1  Python-3.11.9 torch-2.3.1 CUDA:0 (NVIDIA GeForce RTX 4070 Ti, 12282MiB)\n",
      "\u001b[34m\u001b[1mengine\\trainer: \u001b[0mtask=detect, mode=train, model=D:\\code\\workspace\\OneDragon-YOLO\\ultralytics\\models\\yolov8n.pt, data=D:\\code\\workspace\\OneDragon-YOLO\\ultralytics\\datasets\\zzz_lost_void_det_2208\\dataset.yaml, epochs=1000, time=None, patience=100, batch=-1, imgsz=736, save=True, save_period=100, cache=False, device=None, workers=8, project=D:\\code\\workspace\\OneDragon-YOLO\\ultralytics\\runs\\zzz_lost_void_det_2208, name=yolov8n-736, exist_ok=True, pretrained=True, optimizer=auto, verbose=True, seed=0, deterministic=True, single_cls=False, rect=False, cos_lr=False, close_mosaic=10, resume=False, amp=True, fraction=1.0, profile=False, freeze=None, multi_scale=False, overlap_mask=True, mask_ratio=4, dropout=0.0, val=False, split=val, save_json=False, save_hybrid=False, conf=None, iou=0.7, max_det=300, half=False, dnn=False, plots=True, source=None, vid_stride=1, stream_buffer=False, visualize=False, augment=False, agnostic_nms=False, classes=None, retina_masks=False, embed=None, show=False, save_frames=False, save_txt=False, save_conf=False, save_crop=False, show_labels=True, show_conf=True, show_boxes=True, line_width=None, format=torchscript, keras=False, optimize=False, int8=False, dynamic=False, simplify=True, opset=None, workspace=4, nms=False, lr0=0.01, lrf=0.01, momentum=0.937, weight_decay=0.0005, warmup_epochs=3.0, warmup_momentum=0.8, warmup_bias_lr=0.1, box=7.5, cls=0.5, dfl=1.5, pose=12.0, kobj=1.0, label_smoothing=0.0, nbs=64, hsv_h=0, hsv_s=0, hsv_v=0, degrees=0.0, translate=0.1, scale=0, shear=0.0, perspective=0.0, flipud=0, fliplr=0, bgr=0.0, mosaic=0, mixup=0.0, copy_paste=0.0, copy_paste_mode=flip, auto_augment=randaugment, erasing=0, crop_fraction=1.0, cfg=None, tracker=botsort.yaml, save_dir=D:\\code\\workspace\\OneDragon-YOLO\\ultralytics\\runs\\zzz_lost_void_det_2208\\yolov8n-736\n",
      "Overriding model.yaml nc=80 with nc=14\n",
      "\n",
      "                   from  n    params  module                                       arguments                     \n",
      "  0                  -1  1       464  ultralytics.nn.modules.conv.Conv             [3, 16, 3, 2]                 \n",
      "  1                  -1  1      4672  ultralytics.nn.modules.conv.Conv             [16, 32, 3, 2]                \n",
      "  2                  -1  1      7360  ultralytics.nn.modules.block.C2f             [32, 32, 1, True]             \n",
      "  3                  -1  1     18560  ultralytics.nn.modules.conv.Conv             [32, 64, 3, 2]                \n",
      "  4                  -1  2     49664  ultralytics.nn.modules.block.C2f             [64, 64, 2, True]             \n",
      "  5                  -1  1     73984  ultralytics.nn.modules.conv.Conv             [64, 128, 3, 2]               \n",
      "  6                  -1  2    197632  ultralytics.nn.modules.block.C2f             [128, 128, 2, True]           \n",
      "  7                  -1  1    295424  ultralytics.nn.modules.conv.Conv             [128, 256, 3, 2]              \n",
      "  8                  -1  1    460288  ultralytics.nn.modules.block.C2f             [256, 256, 1, True]           \n",
      "  9                  -1  1    164608  ultralytics.nn.modules.block.SPPF            [256, 256, 5]                 \n",
      " 10                  -1  1         0  torch.nn.modules.upsampling.Upsample         [None, 2, 'nearest']          \n",
      " 11             [-1, 6]  1         0  ultralytics.nn.modules.conv.Concat           [1]                           \n",
      " 12                  -1  1    148224  ultralytics.nn.modules.block.C2f             [384, 128, 1]                 \n",
      " 13                  -1  1         0  torch.nn.modules.upsampling.Upsample         [None, 2, 'nearest']          \n",
      " 14             [-1, 4]  1         0  ultralytics.nn.modules.conv.Concat           [1]                           \n",
      " 15                  -1  1     37248  ultralytics.nn.modules.block.C2f             [192, 64, 1]                  \n",
      " 16                  -1  1     36992  ultralytics.nn.modules.conv.Conv             [64, 64, 3, 2]                \n",
      " 17            [-1, 12]  1         0  ultralytics.nn.modules.conv.Concat           [1]                           \n",
      " 18                  -1  1    123648  ultralytics.nn.modules.block.C2f             [192, 128, 1]                 \n",
      " 19                  -1  1    147712  ultralytics.nn.modules.conv.Conv             [128, 128, 3, 2]              \n",
      " 20             [-1, 9]  1         0  ultralytics.nn.modules.conv.Concat           [1]                           \n",
      " 21                  -1  1    493056  ultralytics.nn.modules.block.C2f             [384, 256, 1]                 \n",
      " 22        [15, 18, 21]  1    433402  ultralytics.nn.modules.head.Detect           [14, [64, 128, 256]]          \n",
      "Model summary: 249 layers, 2,692,938 parameters, 2,692,922 gradients, 7.0 GFLOPs\n",
      "\n",
      "Transferred 313/391 items from pretrained weights\n",
      "Freezing layer 'model.22.dfl.conv.weight'\n",
      "\u001b[34m\u001b[1mAMP: \u001b[0mrunning Automatic Mixed Precision (AMP) checks with YOLO11n...\n",
      "\u001b[34m\u001b[1mAMP: \u001b[0mchecks failed . Anomalies were detected with AMP on your system that may lead to NaN losses or zero-mAP results, so AMP will be disabled during training.\n",
      "\u001b[34m\u001b[1mAutoBatch: \u001b[0mComputing optimal batch size for imgsz=736 at 60.0% CUDA memory utilization.\n",
      "\u001b[34m\u001b[1mAutoBatch: \u001b[0mCUDA:0 (NVIDIA GeForce RTX 4070 Ti) 11.99G total, 0.20G reserved, 0.06G allocated, 11.73G free\n",
      "      Params      GFLOPs  GPU_mem (GB)  forward (ms) backward (ms)                   input                  output\n",
      "     2692938         9.2         0.682         17.68         98.19        (1, 3, 736, 736)                    list\n",
      "     2692938        18.4         1.053         13.68         46.05        (2, 3, 736, 736)                    list\n",
      "     2692938        36.8         1.535         14.68         45.43        (4, 3, 736, 736)                    list\n",
      "     2692938        73.6         3.062         23.88         57.54        (8, 3, 736, 736)                    list\n",
      "     2692938       147.2         5.792         48.89         81.78       (16, 3, 736, 736)                    list\n",
      "\u001b[34m\u001b[1mAutoBatch: \u001b[0mUsing batch-size 19 for CUDA:0 7.07G/11.99G (59%) \n"
     ]
    },
    {
     "name": "stderr",
     "output_type": "stream",
     "text": [
      "\u001b[34m\u001b[1mtrain: \u001b[0mScanning D:\\code\\workspace\\OneDragon-YOLO\\ultralytics\\datasets\\zzz_lost_void_det_2208\\labels... 546 images, 0 backgrounds, 0 corrupt: 100%|██████████| 546/546 [00:03<00:00, 140.36it/s]\u001b[0m"
     ]
    },
    {
     "name": "stdout",
     "output_type": "stream",
     "text": [
      "\u001b[34m\u001b[1mtrain: \u001b[0mNew cache created: D:\\code\\workspace\\OneDragon-YOLO\\ultralytics\\datasets\\zzz_lost_void_det_2208\\labels.cache\n"
     ]
    },
    {
     "name": "stderr",
     "output_type": "stream",
     "text": [
      "\n",
      "\u001b[34m\u001b[1mval: \u001b[0mScanning D:\\code\\workspace\\OneDragon-YOLO\\ultralytics\\datasets\\zzz_lost_void_det_2208\\labels.cache... 546 images, 0 backgrounds, 0 corrupt: 100%|██████████| 546/546 [00:00<?, ?it/s]\u001b[0m\n"
     ]
    },
    {
     "name": "stdout",
     "output_type": "stream",
     "text": [
      "Plotting labels to D:\\code\\workspace\\OneDragon-YOLO\\ultralytics\\runs\\zzz_lost_void_det_2208\\yolov8n-736\\labels.jpg... \n"
     ]
    },
    {
     "name": "stderr",
     "output_type": "stream",
     "text": [
      "D:\\code\\env\\anaconda\\envs\\mhy-yolo\\Lib\\site-packages\\ultralytics\\utils\\plotting.py:921: UserWarning: Glyph 24863 (\\N{CJK UNIFIED IDEOGRAPH-611F}) missing from current font.\n",
      "  plt.savefig(fname, dpi=200)\n",
      "D:\\code\\env\\anaconda\\envs\\mhy-yolo\\Lib\\site-packages\\ultralytics\\utils\\plotting.py:921: UserWarning: Glyph 21497 (\\N{CJK UNIFIED IDEOGRAPH-53F9}) missing from current font.\n",
      "  plt.savefig(fname, dpi=200)\n",
      "D:\\code\\env\\anaconda\\envs\\mhy-yolo\\Lib\\site-packages\\ultralytics\\utils\\plotting.py:921: UserWarning: Glyph 21495 (\\N{CJK UNIFIED IDEOGRAPH-53F7}) missing from current font.\n",
      "  plt.savefig(fname, dpi=200)\n",
      "D:\\code\\env\\anaconda\\envs\\mhy-yolo\\Lib\\site-packages\\ultralytics\\utils\\plotting.py:921: UserWarning: Glyph 36317 (\\N{CJK UNIFIED IDEOGRAPH-8DDD}) missing from current font.\n",
      "  plt.savefig(fname, dpi=200)\n",
      "D:\\code\\env\\anaconda\\envs\\mhy-yolo\\Lib\\site-packages\\ultralytics\\utils\\plotting.py:921: UserWarning: Glyph 31163 (\\N{CJK UNIFIED IDEOGRAPH-79BB}) missing from current font.\n",
      "  plt.savefig(fname, dpi=200)\n",
      "D:\\code\\env\\anaconda\\envs\\mhy-yolo\\Lib\\site-packages\\ultralytics\\utils\\plotting.py:921: UserWarning: Glyph 25112 (\\N{CJK UNIFIED IDEOGRAPH-6218}) missing from current font.\n",
      "  plt.savefig(fname, dpi=200)\n",
      "D:\\code\\env\\anaconda\\envs\\mhy-yolo\\Lib\\site-packages\\ultralytics\\utils\\plotting.py:921: UserWarning: Glyph 26007 (\\N{CJK UNIFIED IDEOGRAPH-6597}) missing from current font.\n",
      "  plt.savefig(fname, dpi=200)\n",
      "D:\\code\\env\\anaconda\\envs\\mhy-yolo\\Lib\\site-packages\\ultralytics\\utils\\plotting.py:921: UserWarning: Glyph 40483 (\\N{CJK UNIFIED IDEOGRAPH-9E23}) missing from current font.\n",
      "  plt.savefig(fname, dpi=200)\n",
      "D:\\code\\env\\anaconda\\envs\\mhy-yolo\\Lib\\site-packages\\ultralytics\\utils\\plotting.py:921: UserWarning: Glyph 24509 (\\N{CJK UNIFIED IDEOGRAPH-5FBD}) missing from current font.\n",
      "  plt.savefig(fname, dpi=200)\n",
      "D:\\code\\env\\anaconda\\envs\\mhy-yolo\\Lib\\site-packages\\ultralytics\\utils\\plotting.py:921: UserWarning: Glyph 27494 (\\N{CJK UNIFIED IDEOGRAPH-6B66}) missing from current font.\n",
      "  plt.savefig(fname, dpi=200)\n",
      "D:\\code\\env\\anaconda\\envs\\mhy-yolo\\Lib\\site-packages\\ultralytics\\utils\\plotting.py:921: UserWarning: Glyph 22791 (\\N{CJK UNIFIED IDEOGRAPH-5907}) missing from current font.\n",
      "  plt.savefig(fname, dpi=200)\n",
      "D:\\code\\env\\anaconda\\envs\\mhy-yolo\\Lib\\site-packages\\ultralytics\\utils\\plotting.py:921: UserWarning: Glyph 30828 (\\N{CJK UNIFIED IDEOGRAPH-786C}) missing from current font.\n",
      "  plt.savefig(fname, dpi=200)\n",
      "D:\\code\\env\\anaconda\\envs\\mhy-yolo\\Lib\\site-packages\\ultralytics\\utils\\plotting.py:921: UserWarning: Glyph 24065 (\\N{CJK UNIFIED IDEOGRAPH-5E01}) missing from current font.\n",
      "  plt.savefig(fname, dpi=200)\n",
      "D:\\code\\env\\anaconda\\envs\\mhy-yolo\\Lib\\site-packages\\ultralytics\\utils\\plotting.py:921: UserWarning: Glyph 25361 (\\N{CJK UNIFIED IDEOGRAPH-6311}) missing from current font.\n",
      "  plt.savefig(fname, dpi=200)\n",
      "D:\\code\\env\\anaconda\\envs\\mhy-yolo\\Lib\\site-packages\\ultralytics\\utils\\plotting.py:921: UserWarning: Glyph 26080 (\\N{CJK UNIFIED IDEOGRAPH-65E0}) missing from current font.\n",
      "  plt.savefig(fname, dpi=200)\n",
      "D:\\code\\env\\anaconda\\envs\\mhy-yolo\\Lib\\site-packages\\ultralytics\\utils\\plotting.py:921: UserWarning: Glyph 20260 (\\N{CJK UNIFIED IDEOGRAPH-4F24}) missing from current font.\n",
      "  plt.savefig(fname, dpi=200)\n",
      "D:\\code\\env\\anaconda\\envs\\mhy-yolo\\Lib\\site-packages\\ultralytics\\utils\\plotting.py:921: UserWarning: Glyph 38480 (\\N{CJK UNIFIED IDEOGRAPH-9650}) missing from current font.\n",
      "  plt.savefig(fname, dpi=200)\n",
      "D:\\code\\env\\anaconda\\envs\\mhy-yolo\\Lib\\site-packages\\ultralytics\\utils\\plotting.py:921: UserWarning: Glyph 26102 (\\N{CJK UNIFIED IDEOGRAPH-65F6}) missing from current font.\n",
      "  plt.savefig(fname, dpi=200)\n",
      "D:\\code\\env\\anaconda\\envs\\mhy-yolo\\Lib\\site-packages\\ultralytics\\utils\\plotting.py:921: UserWarning: Glyph 20598 (\\N{CJK UNIFIED IDEOGRAPH-5076}) missing from current font.\n",
      "  plt.savefig(fname, dpi=200)\n",
      "D:\\code\\env\\anaconda\\envs\\mhy-yolo\\Lib\\site-packages\\ultralytics\\utils\\plotting.py:921: UserWarning: Glyph 36935 (\\N{CJK UNIFIED IDEOGRAPH-9047}) missing from current font.\n",
      "  plt.savefig(fname, dpi=200)\n",
      "D:\\code\\env\\anaconda\\envs\\mhy-yolo\\Lib\\site-packages\\ultralytics\\utils\\plotting.py:921: UserWarning: Glyph 20107 (\\N{CJK UNIFIED IDEOGRAPH-4E8B}) missing from current font.\n",
      "  plt.savefig(fname, dpi=200)\n",
      "D:\\code\\env\\anaconda\\envs\\mhy-yolo\\Lib\\site-packages\\ultralytics\\utils\\plotting.py:921: UserWarning: Glyph 20214 (\\N{CJK UNIFIED IDEOGRAPH-4EF6}) missing from current font.\n",
      "  plt.savefig(fname, dpi=200)\n",
      "D:\\code\\env\\anaconda\\envs\\mhy-yolo\\Lib\\site-packages\\ultralytics\\utils\\plotting.py:921: UserWarning: Glyph 20195 (\\N{CJK UNIFIED IDEOGRAPH-4EE3}) missing from current font.\n",
      "  plt.savefig(fname, dpi=200)\n",
      "D:\\code\\env\\anaconda\\envs\\mhy-yolo\\Lib\\site-packages\\ultralytics\\utils\\plotting.py:921: UserWarning: Glyph 20215 (\\N{CJK UNIFIED IDEOGRAPH-4EF7}) missing from current font.\n",
      "  plt.savefig(fname, dpi=200)\n",
      "D:\\code\\env\\anaconda\\envs\\mhy-yolo\\Lib\\site-packages\\ultralytics\\utils\\plotting.py:921: UserWarning: Glyph 20043 (\\N{CJK UNIFIED IDEOGRAPH-4E4B}) missing from current font.\n",
      "  plt.savefig(fname, dpi=200)\n",
      "D:\\code\\env\\anaconda\\envs\\mhy-yolo\\Lib\\site-packages\\ultralytics\\utils\\plotting.py:921: UserWarning: Glyph 38388 (\\N{CJK UNIFIED IDEOGRAPH-95F4}) missing from current font.\n",
      "  plt.savefig(fname, dpi=200)\n",
      "D:\\code\\env\\anaconda\\envs\\mhy-yolo\\Lib\\site-packages\\ultralytics\\utils\\plotting.py:921: UserWarning: Glyph 20241 (\\N{CJK UNIFIED IDEOGRAPH-4F11}) missing from current font.\n",
      "  plt.savefig(fname, dpi=200)\n",
      "D:\\code\\env\\anaconda\\envs\\mhy-yolo\\Lib\\site-packages\\ultralytics\\utils\\plotting.py:921: UserWarning: Glyph 25001 (\\N{CJK UNIFIED IDEOGRAPH-61A9}) missing from current font.\n",
      "  plt.savefig(fname, dpi=200)\n",
      "D:\\code\\env\\anaconda\\envs\\mhy-yolo\\Lib\\site-packages\\ultralytics\\utils\\plotting.py:921: UserWarning: Glyph 35843 (\\N{CJK UNIFIED IDEOGRAPH-8C03}) missing from current font.\n",
      "  plt.savefig(fname, dpi=200)\n",
      "D:\\code\\env\\anaconda\\envs\\mhy-yolo\\Lib\\site-packages\\ultralytics\\utils\\plotting.py:921: UserWarning: Glyph 24687 (\\N{CJK UNIFIED IDEOGRAPH-606F}) missing from current font.\n",
      "  plt.savefig(fname, dpi=200)\n",
      "D:\\code\\env\\anaconda\\envs\\mhy-yolo\\Lib\\site-packages\\ultralytics\\utils\\plotting.py:921: UserWarning: Glyph 37030 (\\N{CJK UNIFIED IDEOGRAPH-90A6}) missing from current font.\n",
      "  plt.savefig(fname, dpi=200)\n",
      "D:\\code\\env\\anaconda\\envs\\mhy-yolo\\Lib\\site-packages\\ultralytics\\utils\\plotting.py:921: UserWarning: Glyph 24067 (\\N{CJK UNIFIED IDEOGRAPH-5E03}) missing from current font.\n",
      "  plt.savefig(fname, dpi=200)\n",
      "D:\\code\\env\\anaconda\\envs\\mhy-yolo\\Lib\\site-packages\\ultralytics\\utils\\plotting.py:921: UserWarning: Glyph 21830 (\\N{CJK UNIFIED IDEOGRAPH-5546}) missing from current font.\n",
      "  plt.savefig(fname, dpi=200)\n",
      "D:\\code\\env\\anaconda\\envs\\mhy-yolo\\Lib\\site-packages\\ultralytics\\utils\\plotting.py:921: UserWarning: Glyph 24215 (\\N{CJK UNIFIED IDEOGRAPH-5E97}) missing from current font.\n",
      "  plt.savefig(fname, dpi=200)\n",
      "D:\\code\\env\\anaconda\\envs\\mhy-yolo\\Lib\\site-packages\\ultralytics\\utils\\plotting.py:921: UserWarning: Glyph 25370 (\\N{CJK UNIFIED IDEOGRAPH-631A}) missing from current font.\n",
      "  plt.savefig(fname, dpi=200)\n",
      "D:\\code\\env\\anaconda\\envs\\mhy-yolo\\Lib\\site-packages\\ultralytics\\utils\\plotting.py:921: UserWarning: Glyph 20132 (\\N{CJK UNIFIED IDEOGRAPH-4EA4}) missing from current font.\n",
      "  plt.savefig(fname, dpi=200)\n",
      "D:\\code\\env\\anaconda\\envs\\mhy-yolo\\Lib\\site-packages\\ultralytics\\utils\\plotting.py:921: UserWarning: Glyph 20250 (\\N{CJK UNIFIED IDEOGRAPH-4F1A}) missing from current font.\n",
      "  plt.savefig(fname, dpi=200)\n",
      "D:\\code\\env\\anaconda\\envs\\mhy-yolo\\Lib\\site-packages\\ultralytics\\utils\\plotting.py:921: UserWarning: Glyph 35848 (\\N{CJK UNIFIED IDEOGRAPH-8C08}) missing from current font.\n",
      "  plt.savefig(fname, dpi=200)\n",
      "D:\\code\\env\\anaconda\\envs\\mhy-yolo\\Lib\\site-packages\\ultralytics\\utils\\plotting.py:921: UserWarning: Glyph 36947 (\\N{CJK UNIFIED IDEOGRAPH-9053}) missing from current font.\n",
      "  plt.savefig(fname, dpi=200)\n",
      "D:\\code\\env\\anaconda\\envs\\mhy-yolo\\Lib\\site-packages\\ultralytics\\utils\\plotting.py:921: UserWarning: Glyph 20013 (\\N{CJK UNIFIED IDEOGRAPH-4E2D}) missing from current font.\n",
      "  plt.savefig(fname, dpi=200)\n",
      "D:\\code\\env\\anaconda\\envs\\mhy-yolo\\Lib\\site-packages\\ultralytics\\utils\\plotting.py:921: UserWarning: Glyph 21361 (\\N{CJK UNIFIED IDEOGRAPH-5371}) missing from current font.\n",
      "  plt.savefig(fname, dpi=200)\n",
      "D:\\code\\env\\anaconda\\envs\\mhy-yolo\\Lib\\site-packages\\ultralytics\\utils\\plotting.py:921: UserWarning: Glyph 26426 (\\N{CJK UNIFIED IDEOGRAPH-673A}) missing from current font.\n",
      "  plt.savefig(fname, dpi=200)\n",
      "D:\\code\\env\\anaconda\\envs\\mhy-yolo\\Lib\\site-packages\\ultralytics\\utils\\plotting.py:921: UserWarning: Glyph 32456 (\\N{CJK UNIFIED IDEOGRAPH-7EC8}) missing from current font.\n",
      "  plt.savefig(fname, dpi=200)\n",
      "D:\\code\\env\\anaconda\\envs\\mhy-yolo\\Lib\\site-packages\\ultralytics\\utils\\plotting.py:921: UserWarning: Glyph 32467 (\\N{CJK UNIFIED IDEOGRAPH-7ED3}) missing from current font.\n",
      "  plt.savefig(fname, dpi=200)\n",
      "D:\\code\\env\\anaconda\\envs\\mhy-yolo\\Lib\\site-packages\\ultralytics\\utils\\plotting.py:921: UserWarning: Glyph 24441 (\\N{CJK UNIFIED IDEOGRAPH-5F79}) missing from current font.\n",
      "  plt.savefig(fname, dpi=200)\n",
      "D:\\code\\env\\anaconda\\envs\\mhy-yolo\\Lib\\site-packages\\ultralytics\\utils\\plotting.py:921: UserWarning: Glyph 24863 (\\N{CJK UNIFIED IDEOGRAPH-611F}) missing from current font.\n",
      "  plt.savefig(fname, dpi=200)\n",
      "D:\\code\\env\\anaconda\\envs\\mhy-yolo\\Lib\\site-packages\\ultralytics\\utils\\plotting.py:921: UserWarning: Glyph 21497 (\\N{CJK UNIFIED IDEOGRAPH-53F9}) missing from current font.\n",
      "  plt.savefig(fname, dpi=200)\n",
      "D:\\code\\env\\anaconda\\envs\\mhy-yolo\\Lib\\site-packages\\ultralytics\\utils\\plotting.py:921: UserWarning: Glyph 21495 (\\N{CJK UNIFIED IDEOGRAPH-53F7}) missing from current font.\n",
      "  plt.savefig(fname, dpi=200)\n",
      "D:\\code\\env\\anaconda\\envs\\mhy-yolo\\Lib\\site-packages\\ultralytics\\utils\\plotting.py:921: UserWarning: Glyph 36317 (\\N{CJK UNIFIED IDEOGRAPH-8DDD}) missing from current font.\n",
      "  plt.savefig(fname, dpi=200)\n",
      "D:\\code\\env\\anaconda\\envs\\mhy-yolo\\Lib\\site-packages\\ultralytics\\utils\\plotting.py:921: UserWarning: Glyph 31163 (\\N{CJK UNIFIED IDEOGRAPH-79BB}) missing from current font.\n",
      "  plt.savefig(fname, dpi=200)\n",
      "D:\\code\\env\\anaconda\\envs\\mhy-yolo\\Lib\\site-packages\\ultralytics\\utils\\plotting.py:921: UserWarning: Glyph 25112 (\\N{CJK UNIFIED IDEOGRAPH-6218}) missing from current font.\n",
      "  plt.savefig(fname, dpi=200)\n",
      "D:\\code\\env\\anaconda\\envs\\mhy-yolo\\Lib\\site-packages\\ultralytics\\utils\\plotting.py:921: UserWarning: Glyph 26007 (\\N{CJK UNIFIED IDEOGRAPH-6597}) missing from current font.\n",
      "  plt.savefig(fname, dpi=200)\n",
      "D:\\code\\env\\anaconda\\envs\\mhy-yolo\\Lib\\site-packages\\ultralytics\\utils\\plotting.py:921: UserWarning: Glyph 40483 (\\N{CJK UNIFIED IDEOGRAPH-9E23}) missing from current font.\n",
      "  plt.savefig(fname, dpi=200)\n",
      "D:\\code\\env\\anaconda\\envs\\mhy-yolo\\Lib\\site-packages\\ultralytics\\utils\\plotting.py:921: UserWarning: Glyph 24509 (\\N{CJK UNIFIED IDEOGRAPH-5FBD}) missing from current font.\n",
      "  plt.savefig(fname, dpi=200)\n",
      "D:\\code\\env\\anaconda\\envs\\mhy-yolo\\Lib\\site-packages\\ultralytics\\utils\\plotting.py:921: UserWarning: Glyph 27494 (\\N{CJK UNIFIED IDEOGRAPH-6B66}) missing from current font.\n",
      "  plt.savefig(fname, dpi=200)\n",
      "D:\\code\\env\\anaconda\\envs\\mhy-yolo\\Lib\\site-packages\\ultralytics\\utils\\plotting.py:921: UserWarning: Glyph 22791 (\\N{CJK UNIFIED IDEOGRAPH-5907}) missing from current font.\n",
      "  plt.savefig(fname, dpi=200)\n",
      "D:\\code\\env\\anaconda\\envs\\mhy-yolo\\Lib\\site-packages\\ultralytics\\utils\\plotting.py:921: UserWarning: Glyph 30828 (\\N{CJK UNIFIED IDEOGRAPH-786C}) missing from current font.\n",
      "  plt.savefig(fname, dpi=200)\n",
      "D:\\code\\env\\anaconda\\envs\\mhy-yolo\\Lib\\site-packages\\ultralytics\\utils\\plotting.py:921: UserWarning: Glyph 24065 (\\N{CJK UNIFIED IDEOGRAPH-5E01}) missing from current font.\n",
      "  plt.savefig(fname, dpi=200)\n",
      "D:\\code\\env\\anaconda\\envs\\mhy-yolo\\Lib\\site-packages\\ultralytics\\utils\\plotting.py:921: UserWarning: Glyph 25361 (\\N{CJK UNIFIED IDEOGRAPH-6311}) missing from current font.\n",
      "  plt.savefig(fname, dpi=200)\n",
      "D:\\code\\env\\anaconda\\envs\\mhy-yolo\\Lib\\site-packages\\ultralytics\\utils\\plotting.py:921: UserWarning: Glyph 26080 (\\N{CJK UNIFIED IDEOGRAPH-65E0}) missing from current font.\n",
      "  plt.savefig(fname, dpi=200)\n",
      "D:\\code\\env\\anaconda\\envs\\mhy-yolo\\Lib\\site-packages\\ultralytics\\utils\\plotting.py:921: UserWarning: Glyph 20260 (\\N{CJK UNIFIED IDEOGRAPH-4F24}) missing from current font.\n",
      "  plt.savefig(fname, dpi=200)\n",
      "D:\\code\\env\\anaconda\\envs\\mhy-yolo\\Lib\\site-packages\\ultralytics\\utils\\plotting.py:921: UserWarning: Glyph 38480 (\\N{CJK UNIFIED IDEOGRAPH-9650}) missing from current font.\n",
      "  plt.savefig(fname, dpi=200)\n",
      "D:\\code\\env\\anaconda\\envs\\mhy-yolo\\Lib\\site-packages\\ultralytics\\utils\\plotting.py:921: UserWarning: Glyph 26102 (\\N{CJK UNIFIED IDEOGRAPH-65F6}) missing from current font.\n",
      "  plt.savefig(fname, dpi=200)\n",
      "D:\\code\\env\\anaconda\\envs\\mhy-yolo\\Lib\\site-packages\\ultralytics\\utils\\plotting.py:921: UserWarning: Glyph 20598 (\\N{CJK UNIFIED IDEOGRAPH-5076}) missing from current font.\n",
      "  plt.savefig(fname, dpi=200)\n",
      "D:\\code\\env\\anaconda\\envs\\mhy-yolo\\Lib\\site-packages\\ultralytics\\utils\\plotting.py:921: UserWarning: Glyph 36935 (\\N{CJK UNIFIED IDEOGRAPH-9047}) missing from current font.\n",
      "  plt.savefig(fname, dpi=200)\n",
      "D:\\code\\env\\anaconda\\envs\\mhy-yolo\\Lib\\site-packages\\ultralytics\\utils\\plotting.py:921: UserWarning: Glyph 20107 (\\N{CJK UNIFIED IDEOGRAPH-4E8B}) missing from current font.\n",
      "  plt.savefig(fname, dpi=200)\n",
      "D:\\code\\env\\anaconda\\envs\\mhy-yolo\\Lib\\site-packages\\ultralytics\\utils\\plotting.py:921: UserWarning: Glyph 20214 (\\N{CJK UNIFIED IDEOGRAPH-4EF6}) missing from current font.\n",
      "  plt.savefig(fname, dpi=200)\n",
      "D:\\code\\env\\anaconda\\envs\\mhy-yolo\\Lib\\site-packages\\ultralytics\\utils\\plotting.py:921: UserWarning: Glyph 20195 (\\N{CJK UNIFIED IDEOGRAPH-4EE3}) missing from current font.\n",
      "  plt.savefig(fname, dpi=200)\n",
      "D:\\code\\env\\anaconda\\envs\\mhy-yolo\\Lib\\site-packages\\ultralytics\\utils\\plotting.py:921: UserWarning: Glyph 20215 (\\N{CJK UNIFIED IDEOGRAPH-4EF7}) missing from current font.\n",
      "  plt.savefig(fname, dpi=200)\n",
      "D:\\code\\env\\anaconda\\envs\\mhy-yolo\\Lib\\site-packages\\ultralytics\\utils\\plotting.py:921: UserWarning: Glyph 20043 (\\N{CJK UNIFIED IDEOGRAPH-4E4B}) missing from current font.\n",
      "  plt.savefig(fname, dpi=200)\n",
      "D:\\code\\env\\anaconda\\envs\\mhy-yolo\\Lib\\site-packages\\ultralytics\\utils\\plotting.py:921: UserWarning: Glyph 38388 (\\N{CJK UNIFIED IDEOGRAPH-95F4}) missing from current font.\n",
      "  plt.savefig(fname, dpi=200)\n",
      "D:\\code\\env\\anaconda\\envs\\mhy-yolo\\Lib\\site-packages\\ultralytics\\utils\\plotting.py:921: UserWarning: Glyph 20241 (\\N{CJK UNIFIED IDEOGRAPH-4F11}) missing from current font.\n",
      "  plt.savefig(fname, dpi=200)\n",
      "D:\\code\\env\\anaconda\\envs\\mhy-yolo\\Lib\\site-packages\\ultralytics\\utils\\plotting.py:921: UserWarning: Glyph 25001 (\\N{CJK UNIFIED IDEOGRAPH-61A9}) missing from current font.\n",
      "  plt.savefig(fname, dpi=200)\n",
      "D:\\code\\env\\anaconda\\envs\\mhy-yolo\\Lib\\site-packages\\ultralytics\\utils\\plotting.py:921: UserWarning: Glyph 35843 (\\N{CJK UNIFIED IDEOGRAPH-8C03}) missing from current font.\n",
      "  plt.savefig(fname, dpi=200)\n",
      "D:\\code\\env\\anaconda\\envs\\mhy-yolo\\Lib\\site-packages\\ultralytics\\utils\\plotting.py:921: UserWarning: Glyph 24687 (\\N{CJK UNIFIED IDEOGRAPH-606F}) missing from current font.\n",
      "  plt.savefig(fname, dpi=200)\n",
      "D:\\code\\env\\anaconda\\envs\\mhy-yolo\\Lib\\site-packages\\ultralytics\\utils\\plotting.py:921: UserWarning: Glyph 37030 (\\N{CJK UNIFIED IDEOGRAPH-90A6}) missing from current font.\n",
      "  plt.savefig(fname, dpi=200)\n",
      "D:\\code\\env\\anaconda\\envs\\mhy-yolo\\Lib\\site-packages\\ultralytics\\utils\\plotting.py:921: UserWarning: Glyph 24067 (\\N{CJK UNIFIED IDEOGRAPH-5E03}) missing from current font.\n",
      "  plt.savefig(fname, dpi=200)\n",
      "D:\\code\\env\\anaconda\\envs\\mhy-yolo\\Lib\\site-packages\\ultralytics\\utils\\plotting.py:921: UserWarning: Glyph 21830 (\\N{CJK UNIFIED IDEOGRAPH-5546}) missing from current font.\n",
      "  plt.savefig(fname, dpi=200)\n",
      "D:\\code\\env\\anaconda\\envs\\mhy-yolo\\Lib\\site-packages\\ultralytics\\utils\\plotting.py:921: UserWarning: Glyph 24215 (\\N{CJK UNIFIED IDEOGRAPH-5E97}) missing from current font.\n",
      "  plt.savefig(fname, dpi=200)\n",
      "D:\\code\\env\\anaconda\\envs\\mhy-yolo\\Lib\\site-packages\\ultralytics\\utils\\plotting.py:921: UserWarning: Glyph 25370 (\\N{CJK UNIFIED IDEOGRAPH-631A}) missing from current font.\n",
      "  plt.savefig(fname, dpi=200)\n",
      "D:\\code\\env\\anaconda\\envs\\mhy-yolo\\Lib\\site-packages\\ultralytics\\utils\\plotting.py:921: UserWarning: Glyph 20132 (\\N{CJK UNIFIED IDEOGRAPH-4EA4}) missing from current font.\n",
      "  plt.savefig(fname, dpi=200)\n",
      "D:\\code\\env\\anaconda\\envs\\mhy-yolo\\Lib\\site-packages\\ultralytics\\utils\\plotting.py:921: UserWarning: Glyph 20250 (\\N{CJK UNIFIED IDEOGRAPH-4F1A}) missing from current font.\n",
      "  plt.savefig(fname, dpi=200)\n",
      "D:\\code\\env\\anaconda\\envs\\mhy-yolo\\Lib\\site-packages\\ultralytics\\utils\\plotting.py:921: UserWarning: Glyph 35848 (\\N{CJK UNIFIED IDEOGRAPH-8C08}) missing from current font.\n",
      "  plt.savefig(fname, dpi=200)\n",
      "D:\\code\\env\\anaconda\\envs\\mhy-yolo\\Lib\\site-packages\\ultralytics\\utils\\plotting.py:921: UserWarning: Glyph 36947 (\\N{CJK UNIFIED IDEOGRAPH-9053}) missing from current font.\n",
      "  plt.savefig(fname, dpi=200)\n",
      "D:\\code\\env\\anaconda\\envs\\mhy-yolo\\Lib\\site-packages\\ultralytics\\utils\\plotting.py:921: UserWarning: Glyph 20013 (\\N{CJK UNIFIED IDEOGRAPH-4E2D}) missing from current font.\n",
      "  plt.savefig(fname, dpi=200)\n",
      "D:\\code\\env\\anaconda\\envs\\mhy-yolo\\Lib\\site-packages\\ultralytics\\utils\\plotting.py:921: UserWarning: Glyph 21361 (\\N{CJK UNIFIED IDEOGRAPH-5371}) missing from current font.\n",
      "  plt.savefig(fname, dpi=200)\n",
      "D:\\code\\env\\anaconda\\envs\\mhy-yolo\\Lib\\site-packages\\ultralytics\\utils\\plotting.py:921: UserWarning: Glyph 26426 (\\N{CJK UNIFIED IDEOGRAPH-673A}) missing from current font.\n",
      "  plt.savefig(fname, dpi=200)\n",
      "D:\\code\\env\\anaconda\\envs\\mhy-yolo\\Lib\\site-packages\\ultralytics\\utils\\plotting.py:921: UserWarning: Glyph 32456 (\\N{CJK UNIFIED IDEOGRAPH-7EC8}) missing from current font.\n",
      "  plt.savefig(fname, dpi=200)\n",
      "D:\\code\\env\\anaconda\\envs\\mhy-yolo\\Lib\\site-packages\\ultralytics\\utils\\plotting.py:921: UserWarning: Glyph 32467 (\\N{CJK UNIFIED IDEOGRAPH-7ED3}) missing from current font.\n",
      "  plt.savefig(fname, dpi=200)\n",
      "D:\\code\\env\\anaconda\\envs\\mhy-yolo\\Lib\\site-packages\\ultralytics\\utils\\plotting.py:921: UserWarning: Glyph 24441 (\\N{CJK UNIFIED IDEOGRAPH-5F79}) missing from current font.\n",
      "  plt.savefig(fname, dpi=200)\n"
     ]
    },
    {
     "name": "stdout",
     "output_type": "stream",
     "text": [
      "\u001b[34m\u001b[1moptimizer:\u001b[0m 'optimizer=auto' found, ignoring 'lr0=0.01' and 'momentum=0.937' and determining best 'optimizer', 'lr0' and 'momentum' automatically... \n",
      "\u001b[34m\u001b[1moptimizer:\u001b[0m AdamW(lr=0.000556, momentum=0.9) with parameter groups 63 weight(decay=0.0), 70 weight(decay=0.00044531249999999996), 69 bias(decay=0.0)\n",
      "Image sizes 736 train, 736 val\n",
      "Using 8 dataloader workers\n",
      "Logging results to \u001b[1mD:\\code\\workspace\\OneDragon-YOLO\\ultralytics\\runs\\zzz_lost_void_det_2208\\yolov8n-736\u001b[0m\n",
      "Starting training for 1000 epochs...\n",
      "\n",
      "      Epoch    GPU_mem   box_loss   cls_loss   dfl_loss  Instances       Size\n"
     ]
    },
    {
     "name": "stderr",
     "output_type": "stream",
     "text": [
      "     1/1000      7.01G      1.228      5.913     0.8845         44        736: 100%|██████████| 29/29 [00:06<00:00,  4.28it/s]\n"
     ]
    },
    {
     "name": "stdout",
     "output_type": "stream",
     "text": [
      "\n",
      "      Epoch    GPU_mem   box_loss   cls_loss   dfl_loss  Instances       Size\n"
     ]
    },
    {
     "name": "stderr",
     "output_type": "stream",
     "text": [
      "     2/1000      6.95G     0.9894      4.778     0.8113         40        736: 100%|██████████| 29/29 [00:04<00:00,  6.35it/s]\n"
     ]
    },
    {
     "name": "stdout",
     "output_type": "stream",
     "text": [
      "\n",
      "      Epoch    GPU_mem   box_loss   cls_loss   dfl_loss  Instances       Size\n"
     ]
    },
    {
     "name": "stderr",
     "output_type": "stream",
     "text": [
      "     3/1000      6.95G     0.9361      3.861     0.8159         41        736: 100%|██████████| 29/29 [00:04<00:00,  6.39it/s]\n"
     ]
    },
    {
     "name": "stdout",
     "output_type": "stream",
     "text": [
      "\n",
      "      Epoch    GPU_mem   box_loss   cls_loss   dfl_loss  Instances       Size\n"
     ]
    },
    {
     "name": "stderr",
     "output_type": "stream",
     "text": [
      "     4/1000      6.95G     0.8746      3.342     0.8082         45        736: 100%|██████████| 29/29 [00:04<00:00,  6.37it/s]\n"
     ]
    },
    {
     "name": "stdout",
     "output_type": "stream",
     "text": [
      "\n",
      "      Epoch    GPU_mem   box_loss   cls_loss   dfl_loss  Instances       Size\n"
     ]
    },
    {
     "name": "stderr",
     "output_type": "stream",
     "text": [
      "     5/1000      6.95G     0.8238      2.887     0.8093         38        736: 100%|██████████| 29/29 [00:04<00:00,  6.39it/s]\n"
     ]
    },
    {
     "name": "stdout",
     "output_type": "stream",
     "text": [
      "\n",
      "      Epoch    GPU_mem   box_loss   cls_loss   dfl_loss  Instances       Size\n"
     ]
    },
    {
     "name": "stderr",
     "output_type": "stream",
     "text": [
      "     6/1000      6.95G     0.7939      2.526     0.8038         48        736: 100%|██████████| 29/29 [00:04<00:00,  6.33it/s]\n"
     ]
    },
    {
     "name": "stdout",
     "output_type": "stream",
     "text": [
      "\n",
      "      Epoch    GPU_mem   box_loss   cls_loss   dfl_loss  Instances       Size\n"
     ]
    },
    {
     "name": "stderr",
     "output_type": "stream",
     "text": [
      "     7/1000      6.95G      0.751      2.243     0.8025         35        736: 100%|██████████| 29/29 [00:04<00:00,  6.27it/s]\n"
     ]
    },
    {
     "name": "stdout",
     "output_type": "stream",
     "text": [
      "\n",
      "      Epoch    GPU_mem   box_loss   cls_loss   dfl_loss  Instances       Size\n"
     ]
    },
    {
     "name": "stderr",
     "output_type": "stream",
     "text": [
      "     8/1000      6.95G     0.7209      2.001     0.7973         41        736: 100%|██████████| 29/29 [00:04<00:00,  6.38it/s]\n"
     ]
    },
    {
     "name": "stdout",
     "output_type": "stream",
     "text": [
      "\n",
      "      Epoch    GPU_mem   box_loss   cls_loss   dfl_loss  Instances       Size\n"
     ]
    },
    {
     "name": "stderr",
     "output_type": "stream",
     "text": [
      "     9/1000      6.95G     0.6807      1.692     0.8067         56        736: 100%|██████████| 29/29 [00:04<00:00,  6.38it/s]\n"
     ]
    },
    {
     "name": "stdout",
     "output_type": "stream",
     "text": [
      "\n",
      "      Epoch    GPU_mem   box_loss   cls_loss   dfl_loss  Instances       Size\n"
     ]
    },
    {
     "name": "stderr",
     "output_type": "stream",
     "text": [
      "    10/1000      6.95G     0.6409      1.456      0.806         45        736: 100%|██████████| 29/29 [00:02<00:00, 12.53it/s]\n"
     ]
    },
    {
     "name": "stdout",
     "output_type": "stream",
     "text": [
      "\n",
      "      Epoch    GPU_mem   box_loss   cls_loss   dfl_loss  Instances       Size\n"
     ]
    },
    {
     "name": "stderr",
     "output_type": "stream",
     "text": [
      "    11/1000      6.95G     0.6502      1.273     0.8026         50        736: 100%|██████████| 29/29 [00:04<00:00,  6.35it/s]\n"
     ]
    },
    {
     "name": "stdout",
     "output_type": "stream",
     "text": [
      "\n",
      "      Epoch    GPU_mem   box_loss   cls_loss   dfl_loss  Instances       Size\n"
     ]
    },
    {
     "name": "stderr",
     "output_type": "stream",
     "text": [
      "    12/1000      6.82G     0.6232      1.138     0.8037         42        736: 100%|██████████| 29/29 [00:04<00:00,  6.35it/s]\n"
     ]
    },
    {
     "name": "stdout",
     "output_type": "stream",
     "text": [
      "\n",
      "      Epoch    GPU_mem   box_loss   cls_loss   dfl_loss  Instances       Size\n"
     ]
    },
    {
     "name": "stderr",
     "output_type": "stream",
     "text": [
      "    13/1000      6.82G     0.5823      1.032     0.7987         52        736: 100%|██████████| 29/29 [00:04<00:00,  6.39it/s]\n"
     ]
    },
    {
     "name": "stdout",
     "output_type": "stream",
     "text": [
      "\n",
      "      Epoch    GPU_mem   box_loss   cls_loss   dfl_loss  Instances       Size\n"
     ]
    },
    {
     "name": "stderr",
     "output_type": "stream",
     "text": [
      "    14/1000      6.95G     0.5738     0.9575      0.796         51        736: 100%|██████████| 29/29 [00:04<00:00,  6.36it/s]\n"
     ]
    },
    {
     "name": "stdout",
     "output_type": "stream",
     "text": [
      "\n",
      "      Epoch    GPU_mem   box_loss   cls_loss   dfl_loss  Instances       Size\n"
     ]
    },
    {
     "name": "stderr",
     "output_type": "stream",
     "text": [
      "    15/1000      6.95G     0.5456     0.9046     0.7925         48        736: 100%|██████████| 29/29 [00:04<00:00,  6.37it/s]\n"
     ]
    },
    {
     "name": "stdout",
     "output_type": "stream",
     "text": [
      "\n",
      "      Epoch    GPU_mem   box_loss   cls_loss   dfl_loss  Instances       Size\n"
     ]
    },
    {
     "name": "stderr",
     "output_type": "stream",
     "text": [
      "    16/1000      6.95G     0.5357     0.8537     0.7902         36        736: 100%|██████████| 29/29 [00:04<00:00,  6.39it/s]\n"
     ]
    },
    {
     "name": "stdout",
     "output_type": "stream",
     "text": [
      "\n",
      "      Epoch    GPU_mem   box_loss   cls_loss   dfl_loss  Instances       Size\n"
     ]
    },
    {
     "name": "stderr",
     "output_type": "stream",
     "text": [
      "    17/1000      6.95G     0.5428     0.8188      0.794         42        736: 100%|██████████| 29/29 [00:04<00:00,  6.34it/s]\n"
     ]
    },
    {
     "name": "stdout",
     "output_type": "stream",
     "text": [
      "\n",
      "      Epoch    GPU_mem   box_loss   cls_loss   dfl_loss  Instances       Size\n"
     ]
    },
    {
     "name": "stderr",
     "output_type": "stream",
     "text": [
      "    18/1000      6.95G     0.5113     0.7839     0.7941         48        736: 100%|██████████| 29/29 [00:04<00:00,  6.37it/s]\n"
     ]
    },
    {
     "name": "stdout",
     "output_type": "stream",
     "text": [
      "\n",
      "      Epoch    GPU_mem   box_loss   cls_loss   dfl_loss  Instances       Size\n"
     ]
    },
    {
     "name": "stderr",
     "output_type": "stream",
     "text": [
      "    19/1000      6.95G     0.5125     0.7583     0.7897         52        736: 100%|██████████| 29/29 [00:04<00:00,  6.38it/s]\n"
     ]
    },
    {
     "name": "stdout",
     "output_type": "stream",
     "text": [
      "\n",
      "      Epoch    GPU_mem   box_loss   cls_loss   dfl_loss  Instances       Size\n"
     ]
    },
    {
     "name": "stderr",
     "output_type": "stream",
     "text": [
      "    20/1000      6.95G     0.5193     0.7367     0.7934         38        736: 100%|██████████| 29/29 [00:04<00:00,  6.34it/s]\n"
     ]
    },
    {
     "name": "stdout",
     "output_type": "stream",
     "text": [
      "\n",
      "      Epoch    GPU_mem   box_loss   cls_loss   dfl_loss  Instances       Size\n"
     ]
    },
    {
     "name": "stderr",
     "output_type": "stream",
     "text": [
      "    21/1000      6.95G     0.5227     0.7132     0.7896         43        736: 100%|██████████| 29/29 [00:04<00:00,  6.36it/s]\n"
     ]
    },
    {
     "name": "stdout",
     "output_type": "stream",
     "text": [
      "\n",
      "      Epoch    GPU_mem   box_loss   cls_loss   dfl_loss  Instances       Size\n"
     ]
    },
    {
     "name": "stderr",
     "output_type": "stream",
     "text": [
      "    22/1000      6.95G      0.467     0.6564     0.7864         39        736: 100%|██████████| 29/29 [00:04<00:00,  6.39it/s]\n"
     ]
    },
    {
     "name": "stdout",
     "output_type": "stream",
     "text": [
      "\n",
      "      Epoch    GPU_mem   box_loss   cls_loss   dfl_loss  Instances       Size\n"
     ]
    },
    {
     "name": "stderr",
     "output_type": "stream",
     "text": [
      "    23/1000      6.82G     0.4564     0.6376     0.7893         53        736: 100%|██████████| 29/29 [00:04<00:00,  6.35it/s]\n"
     ]
    },
    {
     "name": "stdout",
     "output_type": "stream",
     "text": [
      "\n",
      "      Epoch    GPU_mem   box_loss   cls_loss   dfl_loss  Instances       Size\n"
     ]
    },
    {
     "name": "stderr",
     "output_type": "stream",
     "text": [
      "    24/1000      6.95G      0.443     0.6226     0.7902         39        736: 100%|██████████| 29/29 [00:04<00:00,  6.36it/s]\n"
     ]
    },
    {
     "name": "stdout",
     "output_type": "stream",
     "text": [
      "\n",
      "      Epoch    GPU_mem   box_loss   cls_loss   dfl_loss  Instances       Size\n"
     ]
    },
    {
     "name": "stderr",
     "output_type": "stream",
     "text": [
      "    25/1000      6.82G     0.4675     0.6115       0.79         48        736: 100%|██████████| 29/29 [00:04<00:00,  6.37it/s]\n"
     ]
    },
    {
     "name": "stdout",
     "output_type": "stream",
     "text": [
      "\n",
      "      Epoch    GPU_mem   box_loss   cls_loss   dfl_loss  Instances       Size\n"
     ]
    },
    {
     "name": "stderr",
     "output_type": "stream",
     "text": [
      "    26/1000      6.95G     0.4643     0.5917     0.7831         45        736: 100%|██████████| 29/29 [00:04<00:00,  6.32it/s]\n"
     ]
    },
    {
     "name": "stdout",
     "output_type": "stream",
     "text": [
      "\n",
      "      Epoch    GPU_mem   box_loss   cls_loss   dfl_loss  Instances       Size\n"
     ]
    },
    {
     "name": "stderr",
     "output_type": "stream",
     "text": [
      "    27/1000      6.95G     0.4445     0.5653     0.7865         46        736: 100%|██████████| 29/29 [00:04<00:00,  6.38it/s]\n"
     ]
    },
    {
     "name": "stdout",
     "output_type": "stream",
     "text": [
      "\n",
      "      Epoch    GPU_mem   box_loss   cls_loss   dfl_loss  Instances       Size\n"
     ]
    },
    {
     "name": "stderr",
     "output_type": "stream",
     "text": [
      "    28/1000      6.82G     0.4299     0.5441     0.7859         45        736: 100%|██████████| 29/29 [00:04<00:00,  6.36it/s]\n"
     ]
    },
    {
     "name": "stdout",
     "output_type": "stream",
     "text": [
      "\n",
      "      Epoch    GPU_mem   box_loss   cls_loss   dfl_loss  Instances       Size\n"
     ]
    },
    {
     "name": "stderr",
     "output_type": "stream",
     "text": [
      "    29/1000      6.95G     0.4303     0.5299     0.7867         44        736: 100%|██████████| 29/29 [00:04<00:00,  6.33it/s]\n"
     ]
    },
    {
     "name": "stdout",
     "output_type": "stream",
     "text": [
      "\n",
      "      Epoch    GPU_mem   box_loss   cls_loss   dfl_loss  Instances       Size\n"
     ]
    },
    {
     "name": "stderr",
     "output_type": "stream",
     "text": [
      "    30/1000      6.95G     0.4048     0.5124     0.7827         51        736: 100%|██████████| 29/29 [00:04<00:00,  6.38it/s]\n"
     ]
    },
    {
     "name": "stdout",
     "output_type": "stream",
     "text": [
      "\n",
      "      Epoch    GPU_mem   box_loss   cls_loss   dfl_loss  Instances       Size\n"
     ]
    },
    {
     "name": "stderr",
     "output_type": "stream",
     "text": [
      "    31/1000      6.95G     0.4171      0.512     0.7922         37        736: 100%|██████████| 29/29 [00:04<00:00,  6.34it/s]\n"
     ]
    },
    {
     "name": "stdout",
     "output_type": "stream",
     "text": [
      "\n",
      "      Epoch    GPU_mem   box_loss   cls_loss   dfl_loss  Instances       Size\n"
     ]
    },
    {
     "name": "stderr",
     "output_type": "stream",
     "text": [
      "    32/1000      6.95G     0.4168     0.4983     0.7853         44        736: 100%|██████████| 29/29 [00:04<00:00,  6.33it/s]\n"
     ]
    },
    {
     "name": "stdout",
     "output_type": "stream",
     "text": [
      "\n",
      "      Epoch    GPU_mem   box_loss   cls_loss   dfl_loss  Instances       Size\n"
     ]
    },
    {
     "name": "stderr",
     "output_type": "stream",
     "text": [
      "    33/1000      6.95G     0.3988     0.4869     0.7854         39        736: 100%|██████████| 29/29 [00:04<00:00,  6.38it/s]\n"
     ]
    },
    {
     "name": "stdout",
     "output_type": "stream",
     "text": [
      "\n",
      "      Epoch    GPU_mem   box_loss   cls_loss   dfl_loss  Instances       Size\n"
     ]
    },
    {
     "name": "stderr",
     "output_type": "stream",
     "text": [
      "    34/1000      6.82G     0.3903     0.4731     0.7802         53        736: 100%|██████████| 29/29 [00:04<00:00,  6.35it/s]\n"
     ]
    },
    {
     "name": "stdout",
     "output_type": "stream",
     "text": [
      "\n",
      "      Epoch    GPU_mem   box_loss   cls_loss   dfl_loss  Instances       Size\n"
     ]
    },
    {
     "name": "stderr",
     "output_type": "stream",
     "text": [
      "    35/1000      6.95G     0.3918      0.459     0.7877         43        736: 100%|██████████| 29/29 [00:04<00:00,  6.38it/s]\n"
     ]
    },
    {
     "name": "stdout",
     "output_type": "stream",
     "text": [
      "\n",
      "      Epoch    GPU_mem   box_loss   cls_loss   dfl_loss  Instances       Size\n"
     ]
    },
    {
     "name": "stderr",
     "output_type": "stream",
     "text": [
      "    36/1000      6.82G     0.4025     0.4591     0.7812         49        736: 100%|██████████| 29/29 [00:04<00:00,  6.35it/s]\n"
     ]
    },
    {
     "name": "stdout",
     "output_type": "stream",
     "text": [
      "\n",
      "      Epoch    GPU_mem   box_loss   cls_loss   dfl_loss  Instances       Size\n"
     ]
    },
    {
     "name": "stderr",
     "output_type": "stream",
     "text": [
      "    37/1000      6.95G     0.3834     0.4384      0.789         39        736: 100%|██████████| 29/29 [00:04<00:00,  6.32it/s]\n"
     ]
    },
    {
     "name": "stdout",
     "output_type": "stream",
     "text": [
      "\n",
      "      Epoch    GPU_mem   box_loss   cls_loss   dfl_loss  Instances       Size\n"
     ]
    },
    {
     "name": "stderr",
     "output_type": "stream",
     "text": [
      "    38/1000      6.95G     0.3732     0.4342     0.7866         51        736: 100%|██████████| 29/29 [00:04<00:00,  6.36it/s]\n"
     ]
    },
    {
     "name": "stdout",
     "output_type": "stream",
     "text": [
      "\n",
      "      Epoch    GPU_mem   box_loss   cls_loss   dfl_loss  Instances       Size\n"
     ]
    },
    {
     "name": "stderr",
     "output_type": "stream",
     "text": [
      "    39/1000      6.95G     0.3568     0.4178     0.7816         48        736: 100%|██████████| 29/29 [00:04<00:00,  6.36it/s]\n"
     ]
    },
    {
     "name": "stdout",
     "output_type": "stream",
     "text": [
      "\n",
      "      Epoch    GPU_mem   box_loss   cls_loss   dfl_loss  Instances       Size\n"
     ]
    },
    {
     "name": "stderr",
     "output_type": "stream",
     "text": [
      "    40/1000      6.95G     0.3544      0.412     0.7883         50        736: 100%|██████████| 29/29 [00:04<00:00,  6.35it/s]\n"
     ]
    },
    {
     "name": "stdout",
     "output_type": "stream",
     "text": [
      "\n",
      "      Epoch    GPU_mem   box_loss   cls_loss   dfl_loss  Instances       Size\n"
     ]
    },
    {
     "name": "stderr",
     "output_type": "stream",
     "text": [
      "    41/1000      6.95G     0.3521     0.4067     0.7783         41        736: 100%|██████████| 29/29 [00:04<00:00,  6.37it/s]\n"
     ]
    },
    {
     "name": "stdout",
     "output_type": "stream",
     "text": [
      "\n",
      "      Epoch    GPU_mem   box_loss   cls_loss   dfl_loss  Instances       Size\n"
     ]
    },
    {
     "name": "stderr",
     "output_type": "stream",
     "text": [
      "    42/1000      6.95G     0.3521      0.399     0.7778         42        736: 100%|██████████| 29/29 [00:04<00:00,  6.36it/s]\n"
     ]
    },
    {
     "name": "stdout",
     "output_type": "stream",
     "text": [
      "\n",
      "      Epoch    GPU_mem   box_loss   cls_loss   dfl_loss  Instances       Size\n"
     ]
    },
    {
     "name": "stderr",
     "output_type": "stream",
     "text": [
      "    43/1000      6.95G     0.3533     0.3868      0.789         48        736: 100%|██████████| 29/29 [00:04<00:00,  6.35it/s]\n"
     ]
    },
    {
     "name": "stdout",
     "output_type": "stream",
     "text": [
      "\n",
      "      Epoch    GPU_mem   box_loss   cls_loss   dfl_loss  Instances       Size\n"
     ]
    },
    {
     "name": "stderr",
     "output_type": "stream",
     "text": [
      "    44/1000      6.95G     0.3513     0.3884     0.7768         41        736: 100%|██████████| 29/29 [00:04<00:00,  6.39it/s]\n"
     ]
    },
    {
     "name": "stdout",
     "output_type": "stream",
     "text": [
      "\n",
      "      Epoch    GPU_mem   box_loss   cls_loss   dfl_loss  Instances       Size\n"
     ]
    },
    {
     "name": "stderr",
     "output_type": "stream",
     "text": [
      "    45/1000      6.95G     0.3568     0.3831     0.7765         40        736: 100%|██████████| 29/29 [00:04<00:00,  6.37it/s]\n"
     ]
    },
    {
     "name": "stdout",
     "output_type": "stream",
     "text": [
      "\n",
      "      Epoch    GPU_mem   box_loss   cls_loss   dfl_loss  Instances       Size\n"
     ]
    },
    {
     "name": "stderr",
     "output_type": "stream",
     "text": [
      "    46/1000      6.95G     0.3429     0.3758     0.7736         33        736: 100%|██████████| 29/29 [00:04<00:00,  6.39it/s]\n"
     ]
    },
    {
     "name": "stdout",
     "output_type": "stream",
     "text": [
      "\n",
      "      Epoch    GPU_mem   box_loss   cls_loss   dfl_loss  Instances       Size\n"
     ]
    },
    {
     "name": "stderr",
     "output_type": "stream",
     "text": [
      "    47/1000      6.95G     0.3627     0.3769     0.7765         45        736: 100%|██████████| 29/29 [00:04<00:00,  6.35it/s]\n"
     ]
    },
    {
     "name": "stdout",
     "output_type": "stream",
     "text": [
      "\n",
      "      Epoch    GPU_mem   box_loss   cls_loss   dfl_loss  Instances       Size\n"
     ]
    },
    {
     "name": "stderr",
     "output_type": "stream",
     "text": [
      "    48/1000      6.95G     0.3453      0.368     0.7759         39        736: 100%|██████████| 29/29 [00:04<00:00,  6.33it/s]\n"
     ]
    },
    {
     "name": "stdout",
     "output_type": "stream",
     "text": [
      "\n",
      "      Epoch    GPU_mem   box_loss   cls_loss   dfl_loss  Instances       Size\n"
     ]
    },
    {
     "name": "stderr",
     "output_type": "stream",
     "text": [
      "    49/1000      6.95G     0.3226     0.3433     0.7821         52        736: 100%|██████████| 29/29 [00:04<00:00,  6.34it/s]\n"
     ]
    },
    {
     "name": "stdout",
     "output_type": "stream",
     "text": [
      "\n",
      "      Epoch    GPU_mem   box_loss   cls_loss   dfl_loss  Instances       Size\n"
     ]
    },
    {
     "name": "stderr",
     "output_type": "stream",
     "text": [
      "    50/1000      6.95G     0.3178     0.3455     0.7737         35        736: 100%|██████████| 29/29 [00:04<00:00,  6.33it/s]\n"
     ]
    },
    {
     "name": "stdout",
     "output_type": "stream",
     "text": [
      "\n",
      "      Epoch    GPU_mem   box_loss   cls_loss   dfl_loss  Instances       Size\n"
     ]
    },
    {
     "name": "stderr",
     "output_type": "stream",
     "text": [
      "    51/1000      6.95G     0.3269     0.3427     0.7835         47        736: 100%|██████████| 29/29 [00:04<00:00,  6.34it/s]\n"
     ]
    },
    {
     "name": "stdout",
     "output_type": "stream",
     "text": [
      "\n",
      "      Epoch    GPU_mem   box_loss   cls_loss   dfl_loss  Instances       Size\n"
     ]
    },
    {
     "name": "stderr",
     "output_type": "stream",
     "text": [
      "    52/1000      6.95G     0.3346     0.3458     0.7759         47        736: 100%|██████████| 29/29 [00:04<00:00,  6.38it/s]\n"
     ]
    },
    {
     "name": "stdout",
     "output_type": "stream",
     "text": [
      "\n",
      "      Epoch    GPU_mem   box_loss   cls_loss   dfl_loss  Instances       Size\n"
     ]
    },
    {
     "name": "stderr",
     "output_type": "stream",
     "text": [
      "    53/1000      6.95G     0.3201     0.3305     0.7802         51        736: 100%|██████████| 29/29 [00:04<00:00,  6.34it/s]\n"
     ]
    },
    {
     "name": "stdout",
     "output_type": "stream",
     "text": [
      "\n",
      "      Epoch    GPU_mem   box_loss   cls_loss   dfl_loss  Instances       Size\n"
     ]
    },
    {
     "name": "stderr",
     "output_type": "stream",
     "text": [
      "    54/1000      6.95G     0.3333     0.3351     0.7799         46        736: 100%|██████████| 29/29 [00:04<00:00,  6.37it/s]\n"
     ]
    },
    {
     "name": "stdout",
     "output_type": "stream",
     "text": [
      "\n",
      "      Epoch    GPU_mem   box_loss   cls_loss   dfl_loss  Instances       Size\n"
     ]
    },
    {
     "name": "stderr",
     "output_type": "stream",
     "text": [
      "    55/1000      6.95G     0.3321     0.3292     0.7762         41        736: 100%|██████████| 29/29 [00:04<00:00,  6.39it/s]\n"
     ]
    },
    {
     "name": "stdout",
     "output_type": "stream",
     "text": [
      "\n",
      "      Epoch    GPU_mem   box_loss   cls_loss   dfl_loss  Instances       Size\n"
     ]
    },
    {
     "name": "stderr",
     "output_type": "stream",
     "text": [
      "    56/1000      6.95G     0.3155     0.3194     0.7814         50        736: 100%|██████████| 29/29 [00:04<00:00,  6.35it/s]\n"
     ]
    },
    {
     "name": "stdout",
     "output_type": "stream",
     "text": [
      "\n",
      "      Epoch    GPU_mem   box_loss   cls_loss   dfl_loss  Instances       Size\n"
     ]
    },
    {
     "name": "stderr",
     "output_type": "stream",
     "text": [
      "    57/1000      6.95G     0.3041     0.3166     0.7785         47        736: 100%|██████████| 29/29 [00:04<00:00,  6.39it/s]\n"
     ]
    },
    {
     "name": "stdout",
     "output_type": "stream",
     "text": [
      "\n",
      "      Epoch    GPU_mem   box_loss   cls_loss   dfl_loss  Instances       Size\n"
     ]
    },
    {
     "name": "stderr",
     "output_type": "stream",
     "text": [
      "    58/1000      6.95G     0.3203     0.3188     0.7818         47        736: 100%|██████████| 29/29 [00:04<00:00,  6.37it/s]\n"
     ]
    },
    {
     "name": "stdout",
     "output_type": "stream",
     "text": [
      "\n",
      "      Epoch    GPU_mem   box_loss   cls_loss   dfl_loss  Instances       Size\n"
     ]
    },
    {
     "name": "stderr",
     "output_type": "stream",
     "text": [
      "    59/1000      6.95G     0.3178     0.3185     0.7784         39        736: 100%|██████████| 29/29 [00:04<00:00,  6.35it/s]\n"
     ]
    },
    {
     "name": "stdout",
     "output_type": "stream",
     "text": [
      "\n",
      "      Epoch    GPU_mem   box_loss   cls_loss   dfl_loss  Instances       Size\n"
     ]
    },
    {
     "name": "stderr",
     "output_type": "stream",
     "text": [
      "    60/1000      6.95G     0.2976     0.3055     0.7756         45        736: 100%|██████████| 29/29 [00:04<00:00,  6.36it/s]\n"
     ]
    },
    {
     "name": "stdout",
     "output_type": "stream",
     "text": [
      "\n",
      "      Epoch    GPU_mem   box_loss   cls_loss   dfl_loss  Instances       Size\n"
     ]
    },
    {
     "name": "stderr",
     "output_type": "stream",
     "text": [
      "    61/1000      6.95G     0.3133     0.3041     0.7806         46        736: 100%|██████████| 29/29 [00:04<00:00,  6.34it/s]\n"
     ]
    },
    {
     "name": "stdout",
     "output_type": "stream",
     "text": [
      "\n",
      "      Epoch    GPU_mem   box_loss   cls_loss   dfl_loss  Instances       Size\n"
     ]
    },
    {
     "name": "stderr",
     "output_type": "stream",
     "text": [
      "    62/1000      6.95G     0.2984     0.3001     0.7755         46        736: 100%|██████████| 29/29 [00:04<00:00,  6.36it/s]\n"
     ]
    },
    {
     "name": "stdout",
     "output_type": "stream",
     "text": [
      "\n",
      "      Epoch    GPU_mem   box_loss   cls_loss   dfl_loss  Instances       Size\n"
     ]
    },
    {
     "name": "stderr",
     "output_type": "stream",
     "text": [
      "    63/1000      6.95G     0.2976     0.3025     0.7719         48        736: 100%|██████████| 29/29 [00:04<00:00,  6.38it/s]\n"
     ]
    },
    {
     "name": "stdout",
     "output_type": "stream",
     "text": [
      "\n",
      "      Epoch    GPU_mem   box_loss   cls_loss   dfl_loss  Instances       Size\n"
     ]
    },
    {
     "name": "stderr",
     "output_type": "stream",
     "text": [
      "    64/1000      6.95G     0.2912     0.2983     0.7807         38        736: 100%|██████████| 29/29 [00:04<00:00,  6.36it/s]\n"
     ]
    },
    {
     "name": "stdout",
     "output_type": "stream",
     "text": [
      "\n",
      "      Epoch    GPU_mem   box_loss   cls_loss   dfl_loss  Instances       Size\n"
     ]
    },
    {
     "name": "stderr",
     "output_type": "stream",
     "text": [
      "    65/1000      6.82G     0.2929     0.2906     0.7814         49        736: 100%|██████████| 29/29 [00:04<00:00,  6.36it/s]\n"
     ]
    },
    {
     "name": "stdout",
     "output_type": "stream",
     "text": [
      "\n",
      "      Epoch    GPU_mem   box_loss   cls_loss   dfl_loss  Instances       Size\n"
     ]
    },
    {
     "name": "stderr",
     "output_type": "stream",
     "text": [
      "    66/1000      6.95G     0.3142     0.3043      0.781         54        736: 100%|██████████| 29/29 [00:04<00:00,  6.38it/s]\n"
     ]
    },
    {
     "name": "stdout",
     "output_type": "stream",
     "text": [
      "\n",
      "      Epoch    GPU_mem   box_loss   cls_loss   dfl_loss  Instances       Size\n"
     ]
    },
    {
     "name": "stderr",
     "output_type": "stream",
     "text": [
      "    67/1000      6.95G      0.309     0.2962     0.7729         57        736: 100%|██████████| 29/29 [00:04<00:00,  6.36it/s]\n"
     ]
    },
    {
     "name": "stdout",
     "output_type": "stream",
     "text": [
      "\n",
      "      Epoch    GPU_mem   box_loss   cls_loss   dfl_loss  Instances       Size\n"
     ]
    },
    {
     "name": "stderr",
     "output_type": "stream",
     "text": [
      "    68/1000      6.95G     0.2859     0.2843     0.7813         40        736: 100%|██████████| 29/29 [00:04<00:00,  6.38it/s]\n"
     ]
    },
    {
     "name": "stdout",
     "output_type": "stream",
     "text": [
      "\n",
      "      Epoch    GPU_mem   box_loss   cls_loss   dfl_loss  Instances       Size\n"
     ]
    },
    {
     "name": "stderr",
     "output_type": "stream",
     "text": [
      "    69/1000      6.95G     0.2887     0.2807      0.772         44        736: 100%|██████████| 29/29 [00:04<00:00,  6.38it/s]\n"
     ]
    },
    {
     "name": "stdout",
     "output_type": "stream",
     "text": [
      "\n",
      "      Epoch    GPU_mem   box_loss   cls_loss   dfl_loss  Instances       Size\n"
     ]
    },
    {
     "name": "stderr",
     "output_type": "stream",
     "text": [
      "    70/1000      6.95G     0.2803     0.2751     0.7739         42        736: 100%|██████████| 29/29 [00:04<00:00,  6.35it/s]\n"
     ]
    },
    {
     "name": "stdout",
     "output_type": "stream",
     "text": [
      "\n",
      "      Epoch    GPU_mem   box_loss   cls_loss   dfl_loss  Instances       Size\n"
     ]
    },
    {
     "name": "stderr",
     "output_type": "stream",
     "text": [
      "    71/1000      6.95G     0.2861     0.2886     0.7755         57        736: 100%|██████████| 29/29 [00:04<00:00,  6.37it/s]\n"
     ]
    },
    {
     "name": "stdout",
     "output_type": "stream",
     "text": [
      "\n",
      "      Epoch    GPU_mem   box_loss   cls_loss   dfl_loss  Instances       Size\n"
     ]
    },
    {
     "name": "stderr",
     "output_type": "stream",
     "text": [
      "    72/1000      6.95G     0.2906     0.2829     0.7713         56        736: 100%|██████████| 29/29 [00:04<00:00,  6.35it/s]\n"
     ]
    },
    {
     "name": "stdout",
     "output_type": "stream",
     "text": [
      "\n",
      "      Epoch    GPU_mem   box_loss   cls_loss   dfl_loss  Instances       Size\n"
     ]
    },
    {
     "name": "stderr",
     "output_type": "stream",
     "text": [
      "    73/1000      6.95G     0.2916     0.2797     0.7773         49        736: 100%|██████████| 29/29 [00:04<00:00,  6.31it/s]\n"
     ]
    },
    {
     "name": "stdout",
     "output_type": "stream",
     "text": [
      "\n",
      "      Epoch    GPU_mem   box_loss   cls_loss   dfl_loss  Instances       Size\n"
     ]
    },
    {
     "name": "stderr",
     "output_type": "stream",
     "text": [
      "    74/1000      6.82G     0.2908     0.2787     0.7801         39        736: 100%|██████████| 29/29 [00:04<00:00,  6.35it/s]\n"
     ]
    },
    {
     "name": "stdout",
     "output_type": "stream",
     "text": [
      "\n",
      "      Epoch    GPU_mem   box_loss   cls_loss   dfl_loss  Instances       Size\n"
     ]
    },
    {
     "name": "stderr",
     "output_type": "stream",
     "text": [
      "    75/1000      6.95G     0.2762     0.2663     0.7789         40        736: 100%|██████████| 29/29 [00:04<00:00,  6.35it/s]\n"
     ]
    },
    {
     "name": "stdout",
     "output_type": "stream",
     "text": [
      "\n",
      "      Epoch    GPU_mem   box_loss   cls_loss   dfl_loss  Instances       Size\n"
     ]
    },
    {
     "name": "stderr",
     "output_type": "stream",
     "text": [
      "    76/1000      6.95G     0.3067     0.2875      0.775         44        736: 100%|██████████| 29/29 [00:04<00:00,  6.35it/s]\n"
     ]
    },
    {
     "name": "stdout",
     "output_type": "stream",
     "text": [
      "\n",
      "      Epoch    GPU_mem   box_loss   cls_loss   dfl_loss  Instances       Size\n"
     ]
    },
    {
     "name": "stderr",
     "output_type": "stream",
     "text": [
      "    77/1000      6.95G      0.295     0.2851     0.7652         56        736: 100%|██████████| 29/29 [00:04<00:00,  6.39it/s]\n"
     ]
    },
    {
     "name": "stdout",
     "output_type": "stream",
     "text": [
      "\n",
      "      Epoch    GPU_mem   box_loss   cls_loss   dfl_loss  Instances       Size\n"
     ]
    },
    {
     "name": "stderr",
     "output_type": "stream",
     "text": [
      "    78/1000      6.95G     0.2751     0.2682      0.775         41        736: 100%|██████████| 29/29 [00:04<00:00,  6.36it/s]\n"
     ]
    },
    {
     "name": "stdout",
     "output_type": "stream",
     "text": [
      "\n",
      "      Epoch    GPU_mem   box_loss   cls_loss   dfl_loss  Instances       Size\n"
     ]
    },
    {
     "name": "stderr",
     "output_type": "stream",
     "text": [
      "    79/1000         7G     0.2839     0.2715     0.7723         42        736: 100%|██████████| 29/29 [00:04<00:00,  6.37it/s]\n"
     ]
    },
    {
     "name": "stdout",
     "output_type": "stream",
     "text": [
      "\n",
      "      Epoch    GPU_mem   box_loss   cls_loss   dfl_loss  Instances       Size\n"
     ]
    },
    {
     "name": "stderr",
     "output_type": "stream",
     "text": [
      "    80/1000      6.95G     0.2777      0.268     0.7765         51        736: 100%|██████████| 29/29 [00:04<00:00,  6.38it/s]\n"
     ]
    },
    {
     "name": "stdout",
     "output_type": "stream",
     "text": [
      "\n",
      "      Epoch    GPU_mem   box_loss   cls_loss   dfl_loss  Instances       Size\n"
     ]
    },
    {
     "name": "stderr",
     "output_type": "stream",
     "text": [
      "    81/1000      6.95G     0.2661     0.2582     0.7759         39        736: 100%|██████████| 29/29 [00:04<00:00,  6.35it/s]\n"
     ]
    },
    {
     "name": "stdout",
     "output_type": "stream",
     "text": [
      "\n",
      "      Epoch    GPU_mem   box_loss   cls_loss   dfl_loss  Instances       Size\n"
     ]
    },
    {
     "name": "stderr",
     "output_type": "stream",
     "text": [
      "    82/1000      6.95G     0.2749     0.2583     0.7781         47        736: 100%|██████████| 29/29 [00:04<00:00,  6.37it/s]\n"
     ]
    },
    {
     "name": "stdout",
     "output_type": "stream",
     "text": [
      "\n",
      "      Epoch    GPU_mem   box_loss   cls_loss   dfl_loss  Instances       Size\n"
     ]
    },
    {
     "name": "stderr",
     "output_type": "stream",
     "text": [
      "    83/1000      6.95G     0.2712     0.2586      0.776         46        736: 100%|██████████| 29/29 [00:04<00:00,  6.35it/s]\n"
     ]
    },
    {
     "name": "stdout",
     "output_type": "stream",
     "text": [
      "\n",
      "      Epoch    GPU_mem   box_loss   cls_loss   dfl_loss  Instances       Size\n"
     ]
    },
    {
     "name": "stderr",
     "output_type": "stream",
     "text": [
      "    84/1000      6.95G     0.2733     0.2597     0.7721         42        736: 100%|██████████| 29/29 [00:04<00:00,  6.35it/s]\n"
     ]
    },
    {
     "name": "stdout",
     "output_type": "stream",
     "text": [
      "\n",
      "      Epoch    GPU_mem   box_loss   cls_loss   dfl_loss  Instances       Size\n"
     ]
    },
    {
     "name": "stderr",
     "output_type": "stream",
     "text": [
      "    85/1000      6.95G     0.2775     0.2596     0.7771         41        736: 100%|██████████| 29/29 [00:04<00:00,  6.34it/s]\n"
     ]
    },
    {
     "name": "stdout",
     "output_type": "stream",
     "text": [
      "\n",
      "      Epoch    GPU_mem   box_loss   cls_loss   dfl_loss  Instances       Size\n"
     ]
    },
    {
     "name": "stderr",
     "output_type": "stream",
     "text": [
      "    86/1000      6.95G     0.2804     0.2581       0.77         43        736: 100%|██████████| 29/29 [00:04<00:00,  6.29it/s]\n"
     ]
    },
    {
     "name": "stdout",
     "output_type": "stream",
     "text": [
      "\n",
      "      Epoch    GPU_mem   box_loss   cls_loss   dfl_loss  Instances       Size\n"
     ]
    },
    {
     "name": "stderr",
     "output_type": "stream",
     "text": [
      "    87/1000      6.82G     0.2824     0.2511     0.7759         46        736: 100%|██████████| 29/29 [00:04<00:00,  6.36it/s]\n"
     ]
    },
    {
     "name": "stdout",
     "output_type": "stream",
     "text": [
      "\n",
      "      Epoch    GPU_mem   box_loss   cls_loss   dfl_loss  Instances       Size\n"
     ]
    },
    {
     "name": "stderr",
     "output_type": "stream",
     "text": [
      "    88/1000      6.95G     0.2563     0.2423     0.7753         47        736: 100%|██████████| 29/29 [00:04<00:00,  6.35it/s]\n"
     ]
    },
    {
     "name": "stdout",
     "output_type": "stream",
     "text": [
      "\n",
      "      Epoch    GPU_mem   box_loss   cls_loss   dfl_loss  Instances       Size\n"
     ]
    },
    {
     "name": "stderr",
     "output_type": "stream",
     "text": [
      "    89/1000      6.95G     0.2588      0.243     0.7731         49        736: 100%|██████████| 29/29 [00:04<00:00,  6.34it/s]\n"
     ]
    },
    {
     "name": "stdout",
     "output_type": "stream",
     "text": [
      "\n",
      "      Epoch    GPU_mem   box_loss   cls_loss   dfl_loss  Instances       Size\n"
     ]
    },
    {
     "name": "stderr",
     "output_type": "stream",
     "text": [
      "    90/1000      6.95G     0.2649     0.2483     0.7717         41        736: 100%|██████████| 29/29 [00:04<00:00,  6.37it/s]\n"
     ]
    },
    {
     "name": "stdout",
     "output_type": "stream",
     "text": [
      "\n",
      "      Epoch    GPU_mem   box_loss   cls_loss   dfl_loss  Instances       Size\n"
     ]
    },
    {
     "name": "stderr",
     "output_type": "stream",
     "text": [
      "    91/1000      6.95G      0.267     0.2446     0.7764         41        736: 100%|██████████| 29/29 [00:04<00:00,  6.38it/s]\n"
     ]
    },
    {
     "name": "stdout",
     "output_type": "stream",
     "text": [
      "\n",
      "      Epoch    GPU_mem   box_loss   cls_loss   dfl_loss  Instances       Size\n"
     ]
    },
    {
     "name": "stderr",
     "output_type": "stream",
     "text": [
      "    92/1000      6.95G     0.2674     0.2523     0.7702         42        736: 100%|██████████| 29/29 [00:04<00:00,  6.36it/s]\n"
     ]
    },
    {
     "name": "stdout",
     "output_type": "stream",
     "text": [
      "\n",
      "      Epoch    GPU_mem   box_loss   cls_loss   dfl_loss  Instances       Size\n"
     ]
    },
    {
     "name": "stderr",
     "output_type": "stream",
     "text": [
      "    93/1000      6.95G     0.2873     0.2568     0.7703         49        736: 100%|██████████| 29/29 [00:04<00:00,  6.39it/s]\n"
     ]
    },
    {
     "name": "stdout",
     "output_type": "stream",
     "text": [
      "\n",
      "      Epoch    GPU_mem   box_loss   cls_loss   dfl_loss  Instances       Size\n"
     ]
    },
    {
     "name": "stderr",
     "output_type": "stream",
     "text": [
      "    94/1000      6.95G     0.2665     0.2424     0.7795         40        736: 100%|██████████| 29/29 [00:04<00:00,  6.37it/s]\n"
     ]
    },
    {
     "name": "stdout",
     "output_type": "stream",
     "text": [
      "\n",
      "      Epoch    GPU_mem   box_loss   cls_loss   dfl_loss  Instances       Size\n"
     ]
    },
    {
     "name": "stderr",
     "output_type": "stream",
     "text": [
      "    95/1000      6.95G     0.2661     0.2504     0.7652         37        736: 100%|██████████| 29/29 [00:04<00:00,  6.36it/s]\n"
     ]
    },
    {
     "name": "stdout",
     "output_type": "stream",
     "text": [
      "\n",
      "      Epoch    GPU_mem   box_loss   cls_loss   dfl_loss  Instances       Size\n"
     ]
    },
    {
     "name": "stderr",
     "output_type": "stream",
     "text": [
      "    96/1000      6.95G     0.2514     0.2343     0.7654         48        736: 100%|██████████| 29/29 [00:04<00:00,  6.39it/s]\n"
     ]
    },
    {
     "name": "stdout",
     "output_type": "stream",
     "text": [
      "\n",
      "      Epoch    GPU_mem   box_loss   cls_loss   dfl_loss  Instances       Size\n"
     ]
    },
    {
     "name": "stderr",
     "output_type": "stream",
     "text": [
      "    97/1000      6.95G     0.2566     0.2381     0.7683         41        736: 100%|██████████| 29/29 [00:04<00:00,  6.33it/s]\n"
     ]
    },
    {
     "name": "stdout",
     "output_type": "stream",
     "text": [
      "\n",
      "      Epoch    GPU_mem   box_loss   cls_loss   dfl_loss  Instances       Size\n"
     ]
    },
    {
     "name": "stderr",
     "output_type": "stream",
     "text": [
      "    98/1000      6.95G     0.2585     0.2378     0.7716         41        736: 100%|██████████| 29/29 [00:04<00:00,  6.34it/s]\n"
     ]
    },
    {
     "name": "stdout",
     "output_type": "stream",
     "text": [
      "\n",
      "      Epoch    GPU_mem   box_loss   cls_loss   dfl_loss  Instances       Size\n"
     ]
    },
    {
     "name": "stderr",
     "output_type": "stream",
     "text": [
      "    99/1000      6.95G      0.257     0.2418     0.7732         41        736: 100%|██████████| 29/29 [00:04<00:00,  6.36it/s]\n"
     ]
    },
    {
     "name": "stdout",
     "output_type": "stream",
     "text": [
      "\n",
      "      Epoch    GPU_mem   box_loss   cls_loss   dfl_loss  Instances       Size\n"
     ]
    },
    {
     "name": "stderr",
     "output_type": "stream",
     "text": [
      "   100/1000      6.95G     0.2561     0.2381     0.7668         43        736: 100%|██████████| 29/29 [00:04<00:00,  6.34it/s]\n"
     ]
    },
    {
     "name": "stdout",
     "output_type": "stream",
     "text": [
      "\n",
      "      Epoch    GPU_mem   box_loss   cls_loss   dfl_loss  Instances       Size\n"
     ]
    },
    {
     "name": "stderr",
     "output_type": "stream",
     "text": [
      "   101/1000      6.95G     0.2646     0.2395     0.7733         38        736: 100%|██████████| 29/29 [00:04<00:00,  6.37it/s]\n"
     ]
    },
    {
     "name": "stdout",
     "output_type": "stream",
     "text": [
      "\n",
      "      Epoch    GPU_mem   box_loss   cls_loss   dfl_loss  Instances       Size\n"
     ]
    },
    {
     "name": "stderr",
     "output_type": "stream",
     "text": [
      "   102/1000      6.95G     0.2582     0.2421     0.7657         36        736: 100%|██████████| 29/29 [00:04<00:00,  6.39it/s]\n"
     ]
    },
    {
     "name": "stdout",
     "output_type": "stream",
     "text": [
      "\n",
      "      Epoch    GPU_mem   box_loss   cls_loss   dfl_loss  Instances       Size\n"
     ]
    },
    {
     "name": "stderr",
     "output_type": "stream",
     "text": [
      "   103/1000      6.95G      0.261     0.2335     0.7773         43        736: 100%|██████████| 29/29 [00:04<00:00,  6.35it/s]\n"
     ]
    },
    {
     "name": "stdout",
     "output_type": "stream",
     "text": [
      "\n",
      "      Epoch    GPU_mem   box_loss   cls_loss   dfl_loss  Instances       Size\n"
     ]
    },
    {
     "name": "stderr",
     "output_type": "stream",
     "text": [
      "   104/1000      6.95G     0.2689     0.2401     0.7788         36        736: 100%|██████████| 29/29 [00:04<00:00,  6.37it/s]\n"
     ]
    },
    {
     "name": "stdout",
     "output_type": "stream",
     "text": [
      "\n",
      "      Epoch    GPU_mem   box_loss   cls_loss   dfl_loss  Instances       Size\n"
     ]
    },
    {
     "name": "stderr",
     "output_type": "stream",
     "text": [
      "   105/1000      6.95G     0.2646     0.2374     0.7709         51        736: 100%|██████████| 29/29 [00:04<00:00,  6.33it/s]\n"
     ]
    },
    {
     "name": "stdout",
     "output_type": "stream",
     "text": [
      "\n",
      "      Epoch    GPU_mem   box_loss   cls_loss   dfl_loss  Instances       Size\n"
     ]
    },
    {
     "name": "stderr",
     "output_type": "stream",
     "text": [
      "   106/1000      6.95G     0.2734     0.2418     0.7772         38        736: 100%|██████████| 29/29 [00:04<00:00,  6.35it/s]\n"
     ]
    },
    {
     "name": "stdout",
     "output_type": "stream",
     "text": [
      "\n",
      "      Epoch    GPU_mem   box_loss   cls_loss   dfl_loss  Instances       Size\n"
     ]
    },
    {
     "name": "stderr",
     "output_type": "stream",
     "text": [
      "   107/1000      6.95G     0.2693     0.2304     0.7802         55        736: 100%|██████████| 29/29 [00:04<00:00,  6.36it/s]\n"
     ]
    },
    {
     "name": "stdout",
     "output_type": "stream",
     "text": [
      "\n",
      "      Epoch    GPU_mem   box_loss   cls_loss   dfl_loss  Instances       Size\n"
     ]
    },
    {
     "name": "stderr",
     "output_type": "stream",
     "text": [
      "   108/1000      6.95G     0.2505     0.2276     0.7686         50        736: 100%|██████████| 29/29 [00:04<00:00,  6.34it/s]\n"
     ]
    },
    {
     "name": "stdout",
     "output_type": "stream",
     "text": [
      "\n",
      "      Epoch    GPU_mem   box_loss   cls_loss   dfl_loss  Instances       Size\n"
     ]
    },
    {
     "name": "stderr",
     "output_type": "stream",
     "text": [
      "   109/1000      6.95G     0.2373     0.2157     0.7766         43        736: 100%|██████████| 29/29 [00:04<00:00,  6.37it/s]\n"
     ]
    },
    {
     "name": "stdout",
     "output_type": "stream",
     "text": [
      "\n",
      "      Epoch    GPU_mem   box_loss   cls_loss   dfl_loss  Instances       Size\n"
     ]
    },
    {
     "name": "stderr",
     "output_type": "stream",
     "text": [
      "   110/1000      6.95G      0.236     0.2198     0.7702         52        736: 100%|██████████| 29/29 [00:04<00:00,  6.34it/s]\n"
     ]
    },
    {
     "name": "stdout",
     "output_type": "stream",
     "text": [
      "\n",
      "      Epoch    GPU_mem   box_loss   cls_loss   dfl_loss  Instances       Size\n"
     ]
    },
    {
     "name": "stderr",
     "output_type": "stream",
     "text": [
      "   111/1000      6.95G     0.2472     0.2271     0.7735         44        736: 100%|██████████| 29/29 [00:04<00:00,  6.33it/s]\n"
     ]
    },
    {
     "name": "stdout",
     "output_type": "stream",
     "text": [
      "\n",
      "      Epoch    GPU_mem   box_loss   cls_loss   dfl_loss  Instances       Size\n"
     ]
    },
    {
     "name": "stderr",
     "output_type": "stream",
     "text": [
      "   112/1000      6.95G     0.2401     0.2245     0.7739         49        736: 100%|██████████| 29/29 [00:04<00:00,  6.38it/s]\n"
     ]
    },
    {
     "name": "stdout",
     "output_type": "stream",
     "text": [
      "\n",
      "      Epoch    GPU_mem   box_loss   cls_loss   dfl_loss  Instances       Size\n"
     ]
    },
    {
     "name": "stderr",
     "output_type": "stream",
     "text": [
      "   113/1000      6.95G     0.2318     0.2179     0.7732         46        736: 100%|██████████| 29/29 [00:04<00:00,  6.39it/s]\n"
     ]
    },
    {
     "name": "stdout",
     "output_type": "stream",
     "text": [
      "\n",
      "      Epoch    GPU_mem   box_loss   cls_loss   dfl_loss  Instances       Size\n"
     ]
    },
    {
     "name": "stderr",
     "output_type": "stream",
     "text": [
      "   114/1000      6.95G     0.2476     0.2243      0.778         45        736: 100%|██████████| 29/29 [00:04<00:00,  6.36it/s]\n"
     ]
    },
    {
     "name": "stdout",
     "output_type": "stream",
     "text": [
      "\n",
      "      Epoch    GPU_mem   box_loss   cls_loss   dfl_loss  Instances       Size\n"
     ]
    },
    {
     "name": "stderr",
     "output_type": "stream",
     "text": [
      "   115/1000      6.95G     0.2394     0.2214     0.7722         46        736: 100%|██████████| 29/29 [00:04<00:00,  6.38it/s]\n"
     ]
    },
    {
     "name": "stdout",
     "output_type": "stream",
     "text": [
      "\n",
      "      Epoch    GPU_mem   box_loss   cls_loss   dfl_loss  Instances       Size\n"
     ]
    },
    {
     "name": "stderr",
     "output_type": "stream",
     "text": [
      "   116/1000      6.95G      0.236     0.2185     0.7658         40        736: 100%|██████████| 29/29 [00:04<00:00,  6.33it/s]\n"
     ]
    },
    {
     "name": "stdout",
     "output_type": "stream",
     "text": [
      "\n",
      "      Epoch    GPU_mem   box_loss   cls_loss   dfl_loss  Instances       Size\n"
     ]
    },
    {
     "name": "stderr",
     "output_type": "stream",
     "text": [
      "   117/1000      6.95G     0.2378     0.2144     0.7711         38        736: 100%|██████████| 29/29 [00:04<00:00,  6.36it/s]\n"
     ]
    },
    {
     "name": "stdout",
     "output_type": "stream",
     "text": [
      "\n",
      "      Epoch    GPU_mem   box_loss   cls_loss   dfl_loss  Instances       Size\n"
     ]
    },
    {
     "name": "stderr",
     "output_type": "stream",
     "text": [
      "   118/1000      6.95G     0.2274     0.2124     0.7683         48        736: 100%|██████████| 29/29 [00:04<00:00,  6.38it/s]\n"
     ]
    },
    {
     "name": "stdout",
     "output_type": "stream",
     "text": [
      "\n",
      "      Epoch    GPU_mem   box_loss   cls_loss   dfl_loss  Instances       Size\n"
     ]
    },
    {
     "name": "stderr",
     "output_type": "stream",
     "text": [
      "   119/1000      6.95G     0.2278     0.2123     0.7704         50        736: 100%|██████████| 29/29 [00:04<00:00,  6.37it/s]\n"
     ]
    },
    {
     "name": "stdout",
     "output_type": "stream",
     "text": [
      "\n",
      "      Epoch    GPU_mem   box_loss   cls_loss   dfl_loss  Instances       Size\n"
     ]
    },
    {
     "name": "stderr",
     "output_type": "stream",
     "text": [
      "   120/1000      6.95G     0.2451     0.2171     0.7724         39        736: 100%|██████████| 29/29 [00:04<00:00,  6.36it/s]\n"
     ]
    },
    {
     "name": "stdout",
     "output_type": "stream",
     "text": [
      "\n",
      "      Epoch    GPU_mem   box_loss   cls_loss   dfl_loss  Instances       Size\n"
     ]
    },
    {
     "name": "stderr",
     "output_type": "stream",
     "text": [
      "   121/1000      6.95G     0.2381     0.2145     0.7766         41        736: 100%|██████████| 29/29 [00:04<00:00,  6.38it/s]\n"
     ]
    },
    {
     "name": "stdout",
     "output_type": "stream",
     "text": [
      "\n",
      "      Epoch    GPU_mem   box_loss   cls_loss   dfl_loss  Instances       Size\n"
     ]
    },
    {
     "name": "stderr",
     "output_type": "stream",
     "text": [
      "   122/1000      6.95G     0.2293     0.2113     0.7694         43        736: 100%|██████████| 29/29 [00:04<00:00,  6.32it/s]\n"
     ]
    },
    {
     "name": "stdout",
     "output_type": "stream",
     "text": [
      "\n",
      "      Epoch    GPU_mem   box_loss   cls_loss   dfl_loss  Instances       Size\n"
     ]
    },
    {
     "name": "stderr",
     "output_type": "stream",
     "text": [
      "   123/1000      6.95G      0.223     0.2071     0.7694         47        736: 100%|██████████| 29/29 [00:04<00:00,  6.34it/s]\n"
     ]
    },
    {
     "name": "stdout",
     "output_type": "stream",
     "text": [
      "\n",
      "      Epoch    GPU_mem   box_loss   cls_loss   dfl_loss  Instances       Size\n"
     ]
    },
    {
     "name": "stderr",
     "output_type": "stream",
     "text": [
      "   124/1000      6.82G     0.2378     0.2113     0.7722         46        736: 100%|██████████| 29/29 [00:04<00:00,  6.40it/s]\n"
     ]
    },
    {
     "name": "stdout",
     "output_type": "stream",
     "text": [
      "\n",
      "      Epoch    GPU_mem   box_loss   cls_loss   dfl_loss  Instances       Size\n"
     ]
    },
    {
     "name": "stderr",
     "output_type": "stream",
     "text": [
      "   125/1000      6.95G     0.2363     0.2151     0.7615         59        736: 100%|██████████| 29/29 [00:04<00:00,  6.30it/s]\n"
     ]
    },
    {
     "name": "stdout",
     "output_type": "stream",
     "text": [
      "\n",
      "      Epoch    GPU_mem   box_loss   cls_loss   dfl_loss  Instances       Size\n"
     ]
    },
    {
     "name": "stderr",
     "output_type": "stream",
     "text": [
      "   126/1000      6.95G     0.2356     0.2096     0.7754         42        736: 100%|██████████| 29/29 [00:04<00:00,  6.37it/s]\n"
     ]
    },
    {
     "name": "stdout",
     "output_type": "stream",
     "text": [
      "\n",
      "      Epoch    GPU_mem   box_loss   cls_loss   dfl_loss  Instances       Size\n"
     ]
    },
    {
     "name": "stderr",
     "output_type": "stream",
     "text": [
      "   127/1000      6.95G     0.2259     0.2031     0.7728         31        736: 100%|██████████| 29/29 [00:04<00:00,  6.34it/s]\n"
     ]
    },
    {
     "name": "stdout",
     "output_type": "stream",
     "text": [
      "\n",
      "      Epoch    GPU_mem   box_loss   cls_loss   dfl_loss  Instances       Size\n"
     ]
    },
    {
     "name": "stderr",
     "output_type": "stream",
     "text": [
      "   128/1000      6.95G     0.2151     0.1989     0.7727         41        736: 100%|██████████| 29/29 [00:04<00:00,  6.34it/s]\n"
     ]
    },
    {
     "name": "stdout",
     "output_type": "stream",
     "text": [
      "\n",
      "      Epoch    GPU_mem   box_loss   cls_loss   dfl_loss  Instances       Size\n"
     ]
    },
    {
     "name": "stderr",
     "output_type": "stream",
     "text": [
      "   129/1000      6.95G     0.2208     0.1978     0.7744         44        736: 100%|██████████| 29/29 [00:04<00:00,  6.38it/s]\n"
     ]
    },
    {
     "name": "stdout",
     "output_type": "stream",
     "text": [
      "\n",
      "      Epoch    GPU_mem   box_loss   cls_loss   dfl_loss  Instances       Size\n"
     ]
    },
    {
     "name": "stderr",
     "output_type": "stream",
     "text": [
      "   130/1000      6.95G     0.2412     0.2108     0.7701         38        736: 100%|██████████| 29/29 [00:04<00:00,  6.34it/s]\n"
     ]
    },
    {
     "name": "stdout",
     "output_type": "stream",
     "text": [
      "\n",
      "      Epoch    GPU_mem   box_loss   cls_loss   dfl_loss  Instances       Size\n"
     ]
    },
    {
     "name": "stderr",
     "output_type": "stream",
     "text": [
      "   131/1000      6.95G     0.2216     0.1988     0.7742         41        736: 100%|██████████| 29/29 [00:04<00:00,  6.34it/s]\n"
     ]
    },
    {
     "name": "stdout",
     "output_type": "stream",
     "text": [
      "\n",
      "      Epoch    GPU_mem   box_loss   cls_loss   dfl_loss  Instances       Size\n"
     ]
    },
    {
     "name": "stderr",
     "output_type": "stream",
     "text": [
      "   132/1000      6.95G     0.2197     0.2009     0.7742         48        736: 100%|██████████| 29/29 [00:04<00:00,  6.39it/s]\n"
     ]
    },
    {
     "name": "stdout",
     "output_type": "stream",
     "text": [
      "\n",
      "      Epoch    GPU_mem   box_loss   cls_loss   dfl_loss  Instances       Size\n"
     ]
    },
    {
     "name": "stderr",
     "output_type": "stream",
     "text": [
      "   133/1000      6.95G     0.2275     0.2053     0.7652         53        736: 100%|██████████| 29/29 [00:04<00:00,  6.34it/s]\n"
     ]
    },
    {
     "name": "stdout",
     "output_type": "stream",
     "text": [
      "\n",
      "      Epoch    GPU_mem   box_loss   cls_loss   dfl_loss  Instances       Size\n"
     ]
    },
    {
     "name": "stderr",
     "output_type": "stream",
     "text": [
      "   134/1000      6.95G     0.2246     0.2005     0.7788         43        736: 100%|██████████| 29/29 [00:04<00:00,  6.38it/s]\n"
     ]
    },
    {
     "name": "stdout",
     "output_type": "stream",
     "text": [
      "\n",
      "      Epoch    GPU_mem   box_loss   cls_loss   dfl_loss  Instances       Size\n"
     ]
    },
    {
     "name": "stderr",
     "output_type": "stream",
     "text": [
      "   135/1000      6.95G      0.233      0.209     0.7661         47        736: 100%|██████████| 29/29 [00:04<00:00,  6.38it/s]\n"
     ]
    },
    {
     "name": "stdout",
     "output_type": "stream",
     "text": [
      "\n",
      "      Epoch    GPU_mem   box_loss   cls_loss   dfl_loss  Instances       Size\n"
     ]
    },
    {
     "name": "stderr",
     "output_type": "stream",
     "text": [
      "   136/1000      6.95G      0.225     0.2008     0.7658         49        736: 100%|██████████| 29/29 [00:04<00:00,  6.32it/s]\n"
     ]
    },
    {
     "name": "stdout",
     "output_type": "stream",
     "text": [
      "\n",
      "      Epoch    GPU_mem   box_loss   cls_loss   dfl_loss  Instances       Size\n"
     ]
    },
    {
     "name": "stderr",
     "output_type": "stream",
     "text": [
      "   137/1000      6.95G     0.2205     0.1957     0.7715         39        736: 100%|██████████| 29/29 [00:04<00:00,  6.38it/s]\n"
     ]
    },
    {
     "name": "stdout",
     "output_type": "stream",
     "text": [
      "\n",
      "      Epoch    GPU_mem   box_loss   cls_loss   dfl_loss  Instances       Size\n"
     ]
    },
    {
     "name": "stderr",
     "output_type": "stream",
     "text": [
      "   138/1000      6.95G     0.2297     0.2037     0.7597         40        736: 100%|██████████| 29/29 [00:04<00:00,  6.36it/s]\n"
     ]
    },
    {
     "name": "stdout",
     "output_type": "stream",
     "text": [
      "\n",
      "      Epoch    GPU_mem   box_loss   cls_loss   dfl_loss  Instances       Size\n"
     ]
    },
    {
     "name": "stderr",
     "output_type": "stream",
     "text": [
      "   139/1000      6.95G     0.2237     0.1992     0.7754         43        736: 100%|██████████| 29/29 [00:04<00:00,  6.37it/s]\n"
     ]
    },
    {
     "name": "stdout",
     "output_type": "stream",
     "text": [
      "\n",
      "      Epoch    GPU_mem   box_loss   cls_loss   dfl_loss  Instances       Size\n"
     ]
    },
    {
     "name": "stderr",
     "output_type": "stream",
     "text": [
      "   140/1000      6.95G     0.2121      0.194     0.7679         53        736: 100%|██████████| 29/29 [00:04<00:00,  6.37it/s]\n"
     ]
    },
    {
     "name": "stdout",
     "output_type": "stream",
     "text": [
      "\n",
      "      Epoch    GPU_mem   box_loss   cls_loss   dfl_loss  Instances       Size\n"
     ]
    },
    {
     "name": "stderr",
     "output_type": "stream",
     "text": [
      "   141/1000      6.95G      0.209     0.1973     0.7705         49        736: 100%|██████████| 29/29 [00:04<00:00,  6.36it/s]\n"
     ]
    },
    {
     "name": "stdout",
     "output_type": "stream",
     "text": [
      "\n",
      "      Epoch    GPU_mem   box_loss   cls_loss   dfl_loss  Instances       Size\n"
     ]
    },
    {
     "name": "stderr",
     "output_type": "stream",
     "text": [
      "   142/1000      6.95G     0.2224     0.2009     0.7711         38        736: 100%|██████████| 29/29 [00:04<00:00,  6.36it/s]\n"
     ]
    },
    {
     "name": "stdout",
     "output_type": "stream",
     "text": [
      "\n",
      "      Epoch    GPU_mem   box_loss   cls_loss   dfl_loss  Instances       Size\n"
     ]
    },
    {
     "name": "stderr",
     "output_type": "stream",
     "text": [
      "   143/1000      6.95G     0.2237     0.2032     0.7697         48        736: 100%|██████████| 29/29 [00:04<00:00,  6.37it/s]\n"
     ]
    },
    {
     "name": "stdout",
     "output_type": "stream",
     "text": [
      "\n",
      "      Epoch    GPU_mem   box_loss   cls_loss   dfl_loss  Instances       Size\n"
     ]
    },
    {
     "name": "stderr",
     "output_type": "stream",
     "text": [
      "   144/1000      6.95G     0.2275     0.1976     0.7698         44        736: 100%|██████████| 29/29 [00:04<00:00,  6.35it/s]\n"
     ]
    },
    {
     "name": "stdout",
     "output_type": "stream",
     "text": [
      "\n",
      "      Epoch    GPU_mem   box_loss   cls_loss   dfl_loss  Instances       Size\n"
     ]
    },
    {
     "name": "stderr",
     "output_type": "stream",
     "text": [
      "   145/1000      6.95G     0.2302     0.1991     0.7682         45        736: 100%|██████████| 29/29 [00:04<00:00,  6.37it/s]\n"
     ]
    },
    {
     "name": "stdout",
     "output_type": "stream",
     "text": [
      "\n",
      "      Epoch    GPU_mem   box_loss   cls_loss   dfl_loss  Instances       Size\n"
     ]
    },
    {
     "name": "stderr",
     "output_type": "stream",
     "text": [
      "   146/1000      6.82G     0.2146     0.1976     0.7679         36        736: 100%|██████████| 29/29 [00:04<00:00,  6.38it/s]\n"
     ]
    },
    {
     "name": "stdout",
     "output_type": "stream",
     "text": [
      "\n",
      "      Epoch    GPU_mem   box_loss   cls_loss   dfl_loss  Instances       Size\n"
     ]
    },
    {
     "name": "stderr",
     "output_type": "stream",
     "text": [
      "   147/1000      6.95G     0.2312     0.1992      0.772         42        736: 100%|██████████| 29/29 [00:04<00:00,  6.31it/s]\n"
     ]
    },
    {
     "name": "stdout",
     "output_type": "stream",
     "text": [
      "\n",
      "      Epoch    GPU_mem   box_loss   cls_loss   dfl_loss  Instances       Size\n"
     ]
    },
    {
     "name": "stderr",
     "output_type": "stream",
     "text": [
      "   148/1000      6.95G     0.2231     0.1957     0.7705         40        736: 100%|██████████| 29/29 [00:04<00:00,  6.35it/s]\n"
     ]
    },
    {
     "name": "stdout",
     "output_type": "stream",
     "text": [
      "\n",
      "      Epoch    GPU_mem   box_loss   cls_loss   dfl_loss  Instances       Size\n"
     ]
    },
    {
     "name": "stderr",
     "output_type": "stream",
     "text": [
      "   149/1000      6.95G     0.2205     0.1994      0.774         50        736: 100%|██████████| 29/29 [00:04<00:00,  6.38it/s]\n"
     ]
    },
    {
     "name": "stdout",
     "output_type": "stream",
     "text": [
      "\n",
      "      Epoch    GPU_mem   box_loss   cls_loss   dfl_loss  Instances       Size\n"
     ]
    },
    {
     "name": "stderr",
     "output_type": "stream",
     "text": [
      "   150/1000      6.82G     0.2193      0.195      0.766         44        736: 100%|██████████| 29/29 [00:04<00:00,  6.37it/s]\n"
     ]
    },
    {
     "name": "stdout",
     "output_type": "stream",
     "text": [
      "\n",
      "      Epoch    GPU_mem   box_loss   cls_loss   dfl_loss  Instances       Size\n"
     ]
    },
    {
     "name": "stderr",
     "output_type": "stream",
     "text": [
      "   151/1000      6.95G     0.2329     0.2027     0.7708         51        736: 100%|██████████| 29/29 [00:04<00:00,  6.37it/s]\n"
     ]
    },
    {
     "name": "stdout",
     "output_type": "stream",
     "text": [
      "\n",
      "      Epoch    GPU_mem   box_loss   cls_loss   dfl_loss  Instances       Size\n"
     ]
    },
    {
     "name": "stderr",
     "output_type": "stream",
     "text": [
      "   152/1000      6.95G     0.2246     0.1967     0.7678         46        736: 100%|██████████| 29/29 [00:04<00:00,  6.35it/s]\n"
     ]
    },
    {
     "name": "stdout",
     "output_type": "stream",
     "text": [
      "\n",
      "      Epoch    GPU_mem   box_loss   cls_loss   dfl_loss  Instances       Size\n"
     ]
    },
    {
     "name": "stderr",
     "output_type": "stream",
     "text": [
      "   153/1000      6.95G     0.2156     0.1921     0.7686         33        736: 100%|██████████| 29/29 [00:04<00:00,  6.36it/s]\n"
     ]
    },
    {
     "name": "stdout",
     "output_type": "stream",
     "text": [
      "\n",
      "      Epoch    GPU_mem   box_loss   cls_loss   dfl_loss  Instances       Size\n"
     ]
    },
    {
     "name": "stderr",
     "output_type": "stream",
     "text": [
      "   154/1000      6.95G     0.2095     0.1894     0.7683         46        736: 100%|██████████| 29/29 [00:04<00:00,  6.38it/s]\n"
     ]
    },
    {
     "name": "stdout",
     "output_type": "stream",
     "text": [
      "\n",
      "      Epoch    GPU_mem   box_loss   cls_loss   dfl_loss  Instances       Size\n"
     ]
    },
    {
     "name": "stderr",
     "output_type": "stream",
     "text": [
      "   155/1000      6.95G       0.21     0.1934     0.7668         46        736: 100%|██████████| 29/29 [00:04<00:00,  6.36it/s]\n"
     ]
    },
    {
     "name": "stdout",
     "output_type": "stream",
     "text": [
      "\n",
      "      Epoch    GPU_mem   box_loss   cls_loss   dfl_loss  Instances       Size\n"
     ]
    },
    {
     "name": "stderr",
     "output_type": "stream",
     "text": [
      "   156/1000      6.95G     0.2149     0.1889      0.773         42        736: 100%|██████████| 29/29 [00:04<00:00,  6.37it/s]\n"
     ]
    },
    {
     "name": "stdout",
     "output_type": "stream",
     "text": [
      "\n",
      "      Epoch    GPU_mem   box_loss   cls_loss   dfl_loss  Instances       Size\n"
     ]
    },
    {
     "name": "stderr",
     "output_type": "stream",
     "text": [
      "   157/1000      6.95G     0.1988     0.1856     0.7674         44        736: 100%|██████████| 29/29 [00:04<00:00,  6.38it/s]\n"
     ]
    },
    {
     "name": "stdout",
     "output_type": "stream",
     "text": [
      "\n",
      "      Epoch    GPU_mem   box_loss   cls_loss   dfl_loss  Instances       Size\n"
     ]
    },
    {
     "name": "stderr",
     "output_type": "stream",
     "text": [
      "   158/1000      6.95G     0.2095     0.1902       0.77         42        736: 100%|██████████| 29/29 [00:04<00:00,  6.37it/s]\n"
     ]
    },
    {
     "name": "stdout",
     "output_type": "stream",
     "text": [
      "\n",
      "      Epoch    GPU_mem   box_loss   cls_loss   dfl_loss  Instances       Size\n"
     ]
    },
    {
     "name": "stderr",
     "output_type": "stream",
     "text": [
      "   159/1000      6.95G     0.2161     0.1906     0.7681         39        736: 100%|██████████| 29/29 [00:04<00:00,  6.35it/s]\n"
     ]
    },
    {
     "name": "stdout",
     "output_type": "stream",
     "text": [
      "\n",
      "      Epoch    GPU_mem   box_loss   cls_loss   dfl_loss  Instances       Size\n"
     ]
    },
    {
     "name": "stderr",
     "output_type": "stream",
     "text": [
      "   160/1000      6.95G     0.2248     0.1904     0.7686         50        736: 100%|██████████| 29/29 [00:04<00:00,  6.32it/s]\n"
     ]
    },
    {
     "name": "stdout",
     "output_type": "stream",
     "text": [
      "\n",
      "      Epoch    GPU_mem   box_loss   cls_loss   dfl_loss  Instances       Size\n"
     ]
    },
    {
     "name": "stderr",
     "output_type": "stream",
     "text": [
      "   161/1000      6.95G     0.2198     0.1928     0.7696         48        736: 100%|██████████| 29/29 [00:04<00:00,  6.35it/s]\n"
     ]
    },
    {
     "name": "stdout",
     "output_type": "stream",
     "text": [
      "\n",
      "      Epoch    GPU_mem   box_loss   cls_loss   dfl_loss  Instances       Size\n"
     ]
    },
    {
     "name": "stderr",
     "output_type": "stream",
     "text": [
      "   162/1000      6.82G     0.2036     0.1831     0.7701         43        736: 100%|██████████| 29/29 [00:04<00:00,  6.39it/s]\n"
     ]
    },
    {
     "name": "stdout",
     "output_type": "stream",
     "text": [
      "\n",
      "      Epoch    GPU_mem   box_loss   cls_loss   dfl_loss  Instances       Size\n"
     ]
    },
    {
     "name": "stderr",
     "output_type": "stream",
     "text": [
      "   163/1000      6.95G     0.2124     0.1899     0.7706         48        736: 100%|██████████| 29/29 [00:04<00:00,  6.34it/s]\n"
     ]
    },
    {
     "name": "stdout",
     "output_type": "stream",
     "text": [
      "\n",
      "      Epoch    GPU_mem   box_loss   cls_loss   dfl_loss  Instances       Size\n"
     ]
    },
    {
     "name": "stderr",
     "output_type": "stream",
     "text": [
      "   164/1000      6.95G     0.2188     0.1937     0.7673         42        736: 100%|██████████| 29/29 [00:04<00:00,  6.35it/s]\n"
     ]
    },
    {
     "name": "stdout",
     "output_type": "stream",
     "text": [
      "\n",
      "      Epoch    GPU_mem   box_loss   cls_loss   dfl_loss  Instances       Size\n"
     ]
    },
    {
     "name": "stderr",
     "output_type": "stream",
     "text": [
      "   165/1000      6.95G     0.2142     0.1949      0.771         41        736: 100%|██████████| 29/29 [00:04<00:00,  6.40it/s]\n"
     ]
    },
    {
     "name": "stdout",
     "output_type": "stream",
     "text": [
      "\n",
      "      Epoch    GPU_mem   box_loss   cls_loss   dfl_loss  Instances       Size\n"
     ]
    },
    {
     "name": "stderr",
     "output_type": "stream",
     "text": [
      "   166/1000      6.95G     0.2118      0.192     0.7696         43        736: 100%|██████████| 29/29 [00:04<00:00,  6.34it/s]\n"
     ]
    },
    {
     "name": "stdout",
     "output_type": "stream",
     "text": [
      "\n",
      "      Epoch    GPU_mem   box_loss   cls_loss   dfl_loss  Instances       Size\n"
     ]
    },
    {
     "name": "stderr",
     "output_type": "stream",
     "text": [
      "   167/1000      6.82G     0.2113      0.187     0.7739         44        736: 100%|██████████| 29/29 [00:04<00:00,  6.37it/s]\n"
     ]
    },
    {
     "name": "stdout",
     "output_type": "stream",
     "text": [
      "\n",
      "      Epoch    GPU_mem   box_loss   cls_loss   dfl_loss  Instances       Size\n"
     ]
    },
    {
     "name": "stderr",
     "output_type": "stream",
     "text": [
      "   168/1000      6.82G     0.2097     0.1868      0.763         36        736: 100%|██████████| 29/29 [00:04<00:00,  6.38it/s]\n"
     ]
    },
    {
     "name": "stdout",
     "output_type": "stream",
     "text": [
      "\n",
      "      Epoch    GPU_mem   box_loss   cls_loss   dfl_loss  Instances       Size\n"
     ]
    },
    {
     "name": "stderr",
     "output_type": "stream",
     "text": [
      "   169/1000         7G     0.2078     0.1935     0.7642         45        736: 100%|██████████| 29/29 [00:04<00:00,  6.37it/s]\n"
     ]
    },
    {
     "name": "stdout",
     "output_type": "stream",
     "text": [
      "\n",
      "      Epoch    GPU_mem   box_loss   cls_loss   dfl_loss  Instances       Size\n"
     ]
    },
    {
     "name": "stderr",
     "output_type": "stream",
     "text": [
      "   170/1000      6.82G     0.2065     0.1871     0.7709         46        736: 100%|██████████| 29/29 [00:04<00:00,  6.37it/s]\n"
     ]
    },
    {
     "name": "stdout",
     "output_type": "stream",
     "text": [
      "\n",
      "      Epoch    GPU_mem   box_loss   cls_loss   dfl_loss  Instances       Size\n"
     ]
    },
    {
     "name": "stderr",
     "output_type": "stream",
     "text": [
      "   171/1000      6.95G     0.2098     0.1877     0.7733         42        736: 100%|██████████| 29/29 [00:04<00:00,  6.36it/s]\n"
     ]
    },
    {
     "name": "stdout",
     "output_type": "stream",
     "text": [
      "\n",
      "      Epoch    GPU_mem   box_loss   cls_loss   dfl_loss  Instances       Size\n"
     ]
    },
    {
     "name": "stderr",
     "output_type": "stream",
     "text": [
      "   172/1000      6.95G     0.2124     0.1909     0.7753         49        736: 100%|██████████| 29/29 [00:04<00:00,  6.32it/s]\n"
     ]
    },
    {
     "name": "stdout",
     "output_type": "stream",
     "text": [
      "\n",
      "      Epoch    GPU_mem   box_loss   cls_loss   dfl_loss  Instances       Size\n"
     ]
    },
    {
     "name": "stderr",
     "output_type": "stream",
     "text": [
      "   173/1000      6.95G     0.2073     0.1884     0.7698         38        736: 100%|██████████| 29/29 [00:04<00:00,  6.33it/s]\n"
     ]
    },
    {
     "name": "stdout",
     "output_type": "stream",
     "text": [
      "\n",
      "      Epoch    GPU_mem   box_loss   cls_loss   dfl_loss  Instances       Size\n"
     ]
    },
    {
     "name": "stderr",
     "output_type": "stream",
     "text": [
      "   174/1000      6.95G     0.2064     0.1856     0.7653         51        736: 100%|██████████| 29/29 [00:04<00:00,  6.35it/s]\n"
     ]
    },
    {
     "name": "stdout",
     "output_type": "stream",
     "text": [
      "\n",
      "      Epoch    GPU_mem   box_loss   cls_loss   dfl_loss  Instances       Size\n"
     ]
    },
    {
     "name": "stderr",
     "output_type": "stream",
     "text": [
      "   175/1000      6.95G     0.2153     0.1895     0.7698         43        736: 100%|██████████| 29/29 [00:04<00:00,  6.36it/s]\n"
     ]
    },
    {
     "name": "stdout",
     "output_type": "stream",
     "text": [
      "\n",
      "      Epoch    GPU_mem   box_loss   cls_loss   dfl_loss  Instances       Size\n"
     ]
    },
    {
     "name": "stderr",
     "output_type": "stream",
     "text": [
      "   176/1000      6.95G     0.2068     0.1834     0.7636         40        736: 100%|██████████| 29/29 [00:04<00:00,  6.36it/s]\n"
     ]
    },
    {
     "name": "stdout",
     "output_type": "stream",
     "text": [
      "\n",
      "      Epoch    GPU_mem   box_loss   cls_loss   dfl_loss  Instances       Size\n"
     ]
    },
    {
     "name": "stderr",
     "output_type": "stream",
     "text": [
      "   177/1000      6.95G     0.1986      0.179     0.7708         48        736: 100%|██████████| 29/29 [00:04<00:00,  6.35it/s]\n"
     ]
    },
    {
     "name": "stdout",
     "output_type": "stream",
     "text": [
      "\n",
      "      Epoch    GPU_mem   box_loss   cls_loss   dfl_loss  Instances       Size\n"
     ]
    },
    {
     "name": "stderr",
     "output_type": "stream",
     "text": [
      "   178/1000      6.95G     0.1991      0.177      0.774         51        736: 100%|██████████| 29/29 [00:04<00:00,  6.38it/s]\n"
     ]
    },
    {
     "name": "stdout",
     "output_type": "stream",
     "text": [
      "\n",
      "      Epoch    GPU_mem   box_loss   cls_loss   dfl_loss  Instances       Size\n"
     ]
    },
    {
     "name": "stderr",
     "output_type": "stream",
     "text": [
      "   179/1000      6.95G     0.2068     0.1795     0.7639         47        736: 100%|██████████| 29/29 [00:04<00:00,  6.39it/s]\n"
     ]
    },
    {
     "name": "stdout",
     "output_type": "stream",
     "text": [
      "\n",
      "      Epoch    GPU_mem   box_loss   cls_loss   dfl_loss  Instances       Size\n"
     ]
    },
    {
     "name": "stderr",
     "output_type": "stream",
     "text": [
      "   180/1000      6.95G     0.2056     0.1798     0.7713         43        736: 100%|██████████| 29/29 [00:04<00:00,  6.35it/s]\n"
     ]
    },
    {
     "name": "stdout",
     "output_type": "stream",
     "text": [
      "\n",
      "      Epoch    GPU_mem   box_loss   cls_loss   dfl_loss  Instances       Size\n"
     ]
    },
    {
     "name": "stderr",
     "output_type": "stream",
     "text": [
      "   181/1000      6.95G     0.1974      0.178     0.7726         44        736: 100%|██████████| 29/29 [00:04<00:00,  6.39it/s]\n"
     ]
    },
    {
     "name": "stdout",
     "output_type": "stream",
     "text": [
      "\n",
      "      Epoch    GPU_mem   box_loss   cls_loss   dfl_loss  Instances       Size\n"
     ]
    },
    {
     "name": "stderr",
     "output_type": "stream",
     "text": [
      "   182/1000      6.95G     0.1971     0.1817     0.7663         39        736: 100%|██████████| 29/29 [00:04<00:00,  6.36it/s]\n"
     ]
    },
    {
     "name": "stdout",
     "output_type": "stream",
     "text": [
      "\n",
      "      Epoch    GPU_mem   box_loss   cls_loss   dfl_loss  Instances       Size\n"
     ]
    },
    {
     "name": "stderr",
     "output_type": "stream",
     "text": [
      "   183/1000      6.95G     0.2042     0.1829     0.7653         47        736: 100%|██████████| 29/29 [00:04<00:00,  6.36it/s]\n"
     ]
    },
    {
     "name": "stdout",
     "output_type": "stream",
     "text": [
      "\n",
      "      Epoch    GPU_mem   box_loss   cls_loss   dfl_loss  Instances       Size\n"
     ]
    },
    {
     "name": "stderr",
     "output_type": "stream",
     "text": [
      "   184/1000      6.95G     0.2053     0.1855     0.7647         43        736: 100%|██████████| 29/29 [00:04<00:00,  6.34it/s]\n"
     ]
    },
    {
     "name": "stdout",
     "output_type": "stream",
     "text": [
      "\n",
      "      Epoch    GPU_mem   box_loss   cls_loss   dfl_loss  Instances       Size\n"
     ]
    },
    {
     "name": "stderr",
     "output_type": "stream",
     "text": [
      "   185/1000      6.95G     0.1941     0.1764     0.7664         50        736: 100%|██████████| 29/29 [00:04<00:00,  6.32it/s]\n"
     ]
    },
    {
     "name": "stdout",
     "output_type": "stream",
     "text": [
      "\n",
      "      Epoch    GPU_mem   box_loss   cls_loss   dfl_loss  Instances       Size\n"
     ]
    },
    {
     "name": "stderr",
     "output_type": "stream",
     "text": [
      "   186/1000      6.95G      0.195     0.1749     0.7726         44        736: 100%|██████████| 29/29 [00:04<00:00,  6.35it/s]\n"
     ]
    },
    {
     "name": "stdout",
     "output_type": "stream",
     "text": [
      "\n",
      "      Epoch    GPU_mem   box_loss   cls_loss   dfl_loss  Instances       Size\n"
     ]
    },
    {
     "name": "stderr",
     "output_type": "stream",
     "text": [
      "   187/1000      6.95G     0.1937     0.1721     0.7778         35        736: 100%|██████████| 29/29 [00:04<00:00,  6.39it/s]\n"
     ]
    },
    {
     "name": "stdout",
     "output_type": "stream",
     "text": [
      "\n",
      "      Epoch    GPU_mem   box_loss   cls_loss   dfl_loss  Instances       Size\n"
     ]
    },
    {
     "name": "stderr",
     "output_type": "stream",
     "text": [
      "   188/1000      6.95G     0.2056     0.1766     0.7708         48        736: 100%|██████████| 29/29 [00:04<00:00,  6.33it/s]\n"
     ]
    },
    {
     "name": "stdout",
     "output_type": "stream",
     "text": [
      "\n",
      "      Epoch    GPU_mem   box_loss   cls_loss   dfl_loss  Instances       Size\n"
     ]
    },
    {
     "name": "stderr",
     "output_type": "stream",
     "text": [
      "   189/1000      6.95G     0.2068       0.18     0.7683         39        736: 100%|██████████| 29/29 [00:04<00:00,  6.37it/s]\n"
     ]
    },
    {
     "name": "stdout",
     "output_type": "stream",
     "text": [
      "\n",
      "      Epoch    GPU_mem   box_loss   cls_loss   dfl_loss  Instances       Size\n"
     ]
    },
    {
     "name": "stderr",
     "output_type": "stream",
     "text": [
      "   190/1000      6.95G     0.1946     0.1765     0.7722         41        736: 100%|██████████| 29/29 [00:04<00:00,  6.38it/s]\n"
     ]
    },
    {
     "name": "stdout",
     "output_type": "stream",
     "text": [
      "\n",
      "      Epoch    GPU_mem   box_loss   cls_loss   dfl_loss  Instances       Size\n"
     ]
    },
    {
     "name": "stderr",
     "output_type": "stream",
     "text": [
      "   191/1000      6.95G     0.2076     0.1797     0.7709         45        736: 100%|██████████| 29/29 [00:04<00:00,  6.35it/s]\n"
     ]
    },
    {
     "name": "stdout",
     "output_type": "stream",
     "text": [
      "\n",
      "      Epoch    GPU_mem   box_loss   cls_loss   dfl_loss  Instances       Size\n"
     ]
    },
    {
     "name": "stderr",
     "output_type": "stream",
     "text": [
      "   192/1000      6.95G     0.2127     0.1805     0.7712         41        736: 100%|██████████| 29/29 [00:04<00:00,  6.39it/s]\n"
     ]
    },
    {
     "name": "stdout",
     "output_type": "stream",
     "text": [
      "\n",
      "      Epoch    GPU_mem   box_loss   cls_loss   dfl_loss  Instances       Size\n"
     ]
    },
    {
     "name": "stderr",
     "output_type": "stream",
     "text": [
      "   193/1000      6.95G     0.1975     0.1775     0.7737         45        736: 100%|██████████| 29/29 [00:04<00:00,  6.37it/s]\n"
     ]
    },
    {
     "name": "stdout",
     "output_type": "stream",
     "text": [
      "\n",
      "      Epoch    GPU_mem   box_loss   cls_loss   dfl_loss  Instances       Size\n"
     ]
    },
    {
     "name": "stderr",
     "output_type": "stream",
     "text": [
      "   194/1000      6.95G     0.1936     0.1758     0.7675         40        736: 100%|██████████| 29/29 [00:04<00:00,  6.35it/s]\n"
     ]
    },
    {
     "name": "stdout",
     "output_type": "stream",
     "text": [
      "\n",
      "      Epoch    GPU_mem   box_loss   cls_loss   dfl_loss  Instances       Size\n"
     ]
    },
    {
     "name": "stderr",
     "output_type": "stream",
     "text": [
      "   195/1000      6.95G     0.1904     0.1727     0.7679         43        736: 100%|██████████| 29/29 [00:04<00:00,  6.39it/s]\n"
     ]
    },
    {
     "name": "stdout",
     "output_type": "stream",
     "text": [
      "\n",
      "      Epoch    GPU_mem   box_loss   cls_loss   dfl_loss  Instances       Size\n"
     ]
    },
    {
     "name": "stderr",
     "output_type": "stream",
     "text": [
      "   196/1000      6.95G     0.1902     0.1732     0.7681         46        736: 100%|██████████| 29/29 [00:04<00:00,  6.32it/s]\n"
     ]
    },
    {
     "name": "stdout",
     "output_type": "stream",
     "text": [
      "\n",
      "      Epoch    GPU_mem   box_loss   cls_loss   dfl_loss  Instances       Size\n"
     ]
    },
    {
     "name": "stderr",
     "output_type": "stream",
     "text": [
      "   197/1000      6.95G     0.1908     0.1703     0.7665         49        736: 100%|██████████| 29/29 [00:04<00:00,  6.33it/s]\n"
     ]
    },
    {
     "name": "stdout",
     "output_type": "stream",
     "text": [
      "\n",
      "      Epoch    GPU_mem   box_loss   cls_loss   dfl_loss  Instances       Size\n"
     ]
    },
    {
     "name": "stderr",
     "output_type": "stream",
     "text": [
      "   198/1000      6.95G     0.1869     0.1708     0.7682         49        736: 100%|██████████| 29/29 [00:04<00:00,  6.38it/s]\n"
     ]
    },
    {
     "name": "stdout",
     "output_type": "stream",
     "text": [
      "\n",
      "      Epoch    GPU_mem   box_loss   cls_loss   dfl_loss  Instances       Size\n"
     ]
    },
    {
     "name": "stderr",
     "output_type": "stream",
     "text": [
      "   199/1000      6.95G     0.1956     0.1711     0.7639         36        736: 100%|██████████| 29/29 [00:04<00:00,  6.36it/s]\n"
     ]
    },
    {
     "name": "stdout",
     "output_type": "stream",
     "text": [
      "\n",
      "      Epoch    GPU_mem   box_loss   cls_loss   dfl_loss  Instances       Size\n"
     ]
    },
    {
     "name": "stderr",
     "output_type": "stream",
     "text": [
      "   200/1000      6.95G     0.1907     0.1697     0.7718         40        736: 100%|██████████| 29/29 [00:04<00:00,  6.36it/s]\n"
     ]
    },
    {
     "name": "stdout",
     "output_type": "stream",
     "text": [
      "\n",
      "      Epoch    GPU_mem   box_loss   cls_loss   dfl_loss  Instances       Size\n"
     ]
    },
    {
     "name": "stderr",
     "output_type": "stream",
     "text": [
      "   201/1000      6.95G     0.1958     0.1724     0.7614         43        736: 100%|██████████| 29/29 [00:04<00:00,  6.39it/s]\n"
     ]
    },
    {
     "name": "stdout",
     "output_type": "stream",
     "text": [
      "\n",
      "      Epoch    GPU_mem   box_loss   cls_loss   dfl_loss  Instances       Size\n"
     ]
    },
    {
     "name": "stderr",
     "output_type": "stream",
     "text": [
      "   202/1000      6.95G     0.1892     0.1701     0.7669         41        736: 100%|██████████| 29/29 [00:04<00:00,  6.36it/s]\n"
     ]
    },
    {
     "name": "stdout",
     "output_type": "stream",
     "text": [
      "\n",
      "      Epoch    GPU_mem   box_loss   cls_loss   dfl_loss  Instances       Size\n"
     ]
    },
    {
     "name": "stderr",
     "output_type": "stream",
     "text": [
      "   203/1000      6.95G     0.1907     0.1689     0.7751         48        736: 100%|██████████| 29/29 [00:04<00:00,  6.38it/s]\n"
     ]
    },
    {
     "name": "stdout",
     "output_type": "stream",
     "text": [
      "\n",
      "      Epoch    GPU_mem   box_loss   cls_loss   dfl_loss  Instances       Size\n"
     ]
    },
    {
     "name": "stderr",
     "output_type": "stream",
     "text": [
      "   204/1000      6.95G     0.1894     0.1711     0.7765         47        736: 100%|██████████| 29/29 [00:04<00:00,  6.37it/s]\n"
     ]
    },
    {
     "name": "stdout",
     "output_type": "stream",
     "text": [
      "\n",
      "      Epoch    GPU_mem   box_loss   cls_loss   dfl_loss  Instances       Size\n"
     ]
    },
    {
     "name": "stderr",
     "output_type": "stream",
     "text": [
      "   205/1000      6.95G     0.1887     0.1728     0.7743         44        736: 100%|██████████| 29/29 [00:04<00:00,  6.35it/s]\n"
     ]
    },
    {
     "name": "stdout",
     "output_type": "stream",
     "text": [
      "\n",
      "      Epoch    GPU_mem   box_loss   cls_loss   dfl_loss  Instances       Size\n"
     ]
    },
    {
     "name": "stderr",
     "output_type": "stream",
     "text": [
      "   206/1000      6.95G     0.1926     0.1731      0.763         43        736: 100%|██████████| 29/29 [00:04<00:00,  6.38it/s]\n"
     ]
    },
    {
     "name": "stdout",
     "output_type": "stream",
     "text": [
      "\n",
      "      Epoch    GPU_mem   box_loss   cls_loss   dfl_loss  Instances       Size\n"
     ]
    },
    {
     "name": "stderr",
     "output_type": "stream",
     "text": [
      "   207/1000      6.95G     0.1947     0.1707      0.769         49        736: 100%|██████████| 29/29 [00:04<00:00,  6.35it/s]\n"
     ]
    },
    {
     "name": "stdout",
     "output_type": "stream",
     "text": [
      "\n",
      "      Epoch    GPU_mem   box_loss   cls_loss   dfl_loss  Instances       Size\n"
     ]
    },
    {
     "name": "stderr",
     "output_type": "stream",
     "text": [
      "   208/1000      6.95G      0.186     0.1616      0.775         48        736: 100%|██████████| 29/29 [00:04<00:00,  6.37it/s]\n"
     ]
    },
    {
     "name": "stdout",
     "output_type": "stream",
     "text": [
      "\n",
      "      Epoch    GPU_mem   box_loss   cls_loss   dfl_loss  Instances       Size\n"
     ]
    },
    {
     "name": "stderr",
     "output_type": "stream",
     "text": [
      "   209/1000      6.95G     0.1937     0.1702     0.7672         44        736: 100%|██████████| 29/29 [00:04<00:00,  6.34it/s]\n"
     ]
    },
    {
     "name": "stdout",
     "output_type": "stream",
     "text": [
      "\n",
      "      Epoch    GPU_mem   box_loss   cls_loss   dfl_loss  Instances       Size\n"
     ]
    },
    {
     "name": "stderr",
     "output_type": "stream",
     "text": [
      "   210/1000      6.95G     0.1888     0.1662     0.7684         35        736: 100%|██████████| 29/29 [00:04<00:00,  6.31it/s]\n"
     ]
    },
    {
     "name": "stdout",
     "output_type": "stream",
     "text": [
      "\n",
      "      Epoch    GPU_mem   box_loss   cls_loss   dfl_loss  Instances       Size\n"
     ]
    },
    {
     "name": "stderr",
     "output_type": "stream",
     "text": [
      "   211/1000      6.95G     0.1767     0.1624     0.7675         49        736: 100%|██████████| 29/29 [00:04<00:00,  6.35it/s]\n"
     ]
    },
    {
     "name": "stdout",
     "output_type": "stream",
     "text": [
      "\n",
      "      Epoch    GPU_mem   box_loss   cls_loss   dfl_loss  Instances       Size\n"
     ]
    },
    {
     "name": "stderr",
     "output_type": "stream",
     "text": [
      "   212/1000      6.95G     0.1729     0.1628     0.7644         44        736: 100%|██████████| 29/29 [00:04<00:00,  6.37it/s]\n"
     ]
    },
    {
     "name": "stdout",
     "output_type": "stream",
     "text": [
      "\n",
      "      Epoch    GPU_mem   box_loss   cls_loss   dfl_loss  Instances       Size\n"
     ]
    },
    {
     "name": "stderr",
     "output_type": "stream",
     "text": [
      "   213/1000      6.95G     0.1818     0.1648     0.7653         39        736: 100%|██████████| 29/29 [00:04<00:00,  6.35it/s]\n"
     ]
    },
    {
     "name": "stdout",
     "output_type": "stream",
     "text": [
      "\n",
      "      Epoch    GPU_mem   box_loss   cls_loss   dfl_loss  Instances       Size\n"
     ]
    },
    {
     "name": "stderr",
     "output_type": "stream",
     "text": [
      "   214/1000      6.95G     0.1913      0.166     0.7695         41        736: 100%|██████████| 29/29 [00:04<00:00,  6.39it/s]\n"
     ]
    },
    {
     "name": "stdout",
     "output_type": "stream",
     "text": [
      "\n",
      "      Epoch    GPU_mem   box_loss   cls_loss   dfl_loss  Instances       Size\n"
     ]
    },
    {
     "name": "stderr",
     "output_type": "stream",
     "text": [
      "   215/1000      6.95G     0.1854     0.1688     0.7682         57        736: 100%|██████████| 29/29 [00:04<00:00,  6.36it/s]\n"
     ]
    },
    {
     "name": "stdout",
     "output_type": "stream",
     "text": [
      "\n",
      "      Epoch    GPU_mem   box_loss   cls_loss   dfl_loss  Instances       Size\n"
     ]
    },
    {
     "name": "stderr",
     "output_type": "stream",
     "text": [
      "   216/1000      6.95G     0.1838     0.1655     0.7695         40        736: 100%|██████████| 29/29 [00:04<00:00,  6.36it/s]\n"
     ]
    },
    {
     "name": "stdout",
     "output_type": "stream",
     "text": [
      "\n",
      "      Epoch    GPU_mem   box_loss   cls_loss   dfl_loss  Instances       Size\n"
     ]
    },
    {
     "name": "stderr",
     "output_type": "stream",
     "text": [
      "   217/1000      6.95G     0.1933     0.1706     0.7679         39        736: 100%|██████████| 29/29 [00:04<00:00,  6.38it/s]\n"
     ]
    },
    {
     "name": "stdout",
     "output_type": "stream",
     "text": [
      "\n",
      "      Epoch    GPU_mem   box_loss   cls_loss   dfl_loss  Instances       Size\n"
     ]
    },
    {
     "name": "stderr",
     "output_type": "stream",
     "text": [
      "   218/1000      6.95G     0.1943     0.1701     0.7691         47        736: 100%|██████████| 29/29 [00:04<00:00,  6.35it/s]\n"
     ]
    },
    {
     "name": "stdout",
     "output_type": "stream",
     "text": [
      "\n",
      "      Epoch    GPU_mem   box_loss   cls_loss   dfl_loss  Instances       Size\n"
     ]
    },
    {
     "name": "stderr",
     "output_type": "stream",
     "text": [
      "   219/1000      6.95G     0.1829     0.1638     0.7727         41        736: 100%|██████████| 29/29 [00:04<00:00,  6.34it/s]\n"
     ]
    },
    {
     "name": "stdout",
     "output_type": "stream",
     "text": [
      "\n",
      "      Epoch    GPU_mem   box_loss   cls_loss   dfl_loss  Instances       Size\n"
     ]
    },
    {
     "name": "stderr",
     "output_type": "stream",
     "text": [
      "   220/1000      6.95G     0.1825     0.1642      0.765         50        736: 100%|██████████| 29/29 [00:04<00:00,  6.38it/s]\n"
     ]
    },
    {
     "name": "stdout",
     "output_type": "stream",
     "text": [
      "\n",
      "      Epoch    GPU_mem   box_loss   cls_loss   dfl_loss  Instances       Size\n"
     ]
    },
    {
     "name": "stderr",
     "output_type": "stream",
     "text": [
      "   221/1000      6.95G     0.1869     0.1669     0.7731         36        736: 100%|██████████| 29/29 [00:04<00:00,  6.31it/s]\n"
     ]
    },
    {
     "name": "stdout",
     "output_type": "stream",
     "text": [
      "\n",
      "      Epoch    GPU_mem   box_loss   cls_loss   dfl_loss  Instances       Size\n"
     ]
    },
    {
     "name": "stderr",
     "output_type": "stream",
     "text": [
      "   222/1000      6.95G     0.1747     0.1562     0.7719         55        736: 100%|██████████| 29/29 [00:04<00:00,  6.33it/s]\n"
     ]
    },
    {
     "name": "stdout",
     "output_type": "stream",
     "text": [
      "\n",
      "      Epoch    GPU_mem   box_loss   cls_loss   dfl_loss  Instances       Size\n"
     ]
    },
    {
     "name": "stderr",
     "output_type": "stream",
     "text": [
      "   223/1000      6.95G     0.1879     0.1658     0.7655         42        736: 100%|██████████| 29/29 [00:04<00:00,  6.38it/s]\n"
     ]
    },
    {
     "name": "stdout",
     "output_type": "stream",
     "text": [
      "\n",
      "      Epoch    GPU_mem   box_loss   cls_loss   dfl_loss  Instances       Size\n"
     ]
    },
    {
     "name": "stderr",
     "output_type": "stream",
     "text": [
      "   224/1000      6.95G     0.1834     0.1623     0.7638         50        736: 100%|██████████| 29/29 [00:04<00:00,  6.33it/s]\n"
     ]
    },
    {
     "name": "stdout",
     "output_type": "stream",
     "text": [
      "\n",
      "      Epoch    GPU_mem   box_loss   cls_loss   dfl_loss  Instances       Size\n"
     ]
    },
    {
     "name": "stderr",
     "output_type": "stream",
     "text": [
      "   225/1000      6.95G     0.1938      0.165      0.768         37        736: 100%|██████████| 29/29 [00:04<00:00,  6.38it/s]\n"
     ]
    },
    {
     "name": "stdout",
     "output_type": "stream",
     "text": [
      "\n",
      "      Epoch    GPU_mem   box_loss   cls_loss   dfl_loss  Instances       Size\n"
     ]
    },
    {
     "name": "stderr",
     "output_type": "stream",
     "text": [
      "   226/1000      6.95G     0.1733     0.1584       0.77         44        736: 100%|██████████| 29/29 [00:04<00:00,  6.37it/s]\n"
     ]
    },
    {
     "name": "stdout",
     "output_type": "stream",
     "text": [
      "\n",
      "      Epoch    GPU_mem   box_loss   cls_loss   dfl_loss  Instances       Size\n"
     ]
    },
    {
     "name": "stderr",
     "output_type": "stream",
     "text": [
      "   227/1000      6.95G     0.1836     0.1611      0.767         47        736: 100%|██████████| 29/29 [00:04<00:00,  6.35it/s]\n"
     ]
    },
    {
     "name": "stdout",
     "output_type": "stream",
     "text": [
      "\n",
      "      Epoch    GPU_mem   box_loss   cls_loss   dfl_loss  Instances       Size\n"
     ]
    },
    {
     "name": "stderr",
     "output_type": "stream",
     "text": [
      "   228/1000      6.95G     0.1899     0.1613     0.7624         38        736: 100%|██████████| 29/29 [00:04<00:00,  6.38it/s]\n"
     ]
    },
    {
     "name": "stdout",
     "output_type": "stream",
     "text": [
      "\n",
      "      Epoch    GPU_mem   box_loss   cls_loss   dfl_loss  Instances       Size\n"
     ]
    },
    {
     "name": "stderr",
     "output_type": "stream",
     "text": [
      "   229/1000      6.95G     0.1877     0.1605      0.769         46        736: 100%|██████████| 29/29 [00:04<00:00,  6.35it/s]\n"
     ]
    },
    {
     "name": "stdout",
     "output_type": "stream",
     "text": [
      "\n",
      "      Epoch    GPU_mem   box_loss   cls_loss   dfl_loss  Instances       Size\n"
     ]
    },
    {
     "name": "stderr",
     "output_type": "stream",
     "text": [
      "   230/1000      6.82G      0.179     0.1583     0.7651         41        736: 100%|██████████| 29/29 [00:04<00:00,  6.35it/s]\n"
     ]
    },
    {
     "name": "stdout",
     "output_type": "stream",
     "text": [
      "\n",
      "      Epoch    GPU_mem   box_loss   cls_loss   dfl_loss  Instances       Size\n"
     ]
    },
    {
     "name": "stderr",
     "output_type": "stream",
     "text": [
      "   231/1000      6.95G     0.1746     0.1585     0.7727         43        736: 100%|██████████| 29/29 [00:04<00:00,  6.39it/s]\n"
     ]
    },
    {
     "name": "stdout",
     "output_type": "stream",
     "text": [
      "\n",
      "      Epoch    GPU_mem   box_loss   cls_loss   dfl_loss  Instances       Size\n"
     ]
    },
    {
     "name": "stderr",
     "output_type": "stream",
     "text": [
      "   232/1000      6.95G     0.1735     0.1547     0.7656         51        736: 100%|██████████| 29/29 [00:04<00:00,  6.34it/s]\n"
     ]
    },
    {
     "name": "stdout",
     "output_type": "stream",
     "text": [
      "\n",
      "      Epoch    GPU_mem   box_loss   cls_loss   dfl_loss  Instances       Size\n"
     ]
    },
    {
     "name": "stderr",
     "output_type": "stream",
     "text": [
      "   233/1000      6.95G     0.1786     0.1564     0.7756         41        736: 100%|██████████| 29/29 [00:04<00:00,  6.35it/s]\n"
     ]
    },
    {
     "name": "stdout",
     "output_type": "stream",
     "text": [
      "\n",
      "      Epoch    GPU_mem   box_loss   cls_loss   dfl_loss  Instances       Size\n"
     ]
    },
    {
     "name": "stderr",
     "output_type": "stream",
     "text": [
      "   234/1000      6.95G     0.1786     0.1657     0.7637         44        736: 100%|██████████| 29/29 [00:04<00:00,  6.38it/s]\n"
     ]
    },
    {
     "name": "stdout",
     "output_type": "stream",
     "text": [
      "\n",
      "      Epoch    GPU_mem   box_loss   cls_loss   dfl_loss  Instances       Size\n"
     ]
    },
    {
     "name": "stderr",
     "output_type": "stream",
     "text": [
      "   235/1000      6.95G     0.1823     0.1638     0.7662         43        736: 100%|██████████| 29/29 [00:04<00:00,  6.34it/s]\n"
     ]
    },
    {
     "name": "stdout",
     "output_type": "stream",
     "text": [
      "\n",
      "      Epoch    GPU_mem   box_loss   cls_loss   dfl_loss  Instances       Size\n"
     ]
    },
    {
     "name": "stderr",
     "output_type": "stream",
     "text": [
      "   236/1000      6.95G     0.1729     0.1562     0.7694         40        736: 100%|██████████| 29/29 [00:04<00:00,  6.39it/s]\n"
     ]
    },
    {
     "name": "stdout",
     "output_type": "stream",
     "text": [
      "\n",
      "      Epoch    GPU_mem   box_loss   cls_loss   dfl_loss  Instances       Size\n"
     ]
    },
    {
     "name": "stderr",
     "output_type": "stream",
     "text": [
      "   237/1000      6.95G     0.1793     0.1593      0.758         47        736: 100%|██████████| 29/29 [00:04<00:00,  6.38it/s]\n"
     ]
    },
    {
     "name": "stdout",
     "output_type": "stream",
     "text": [
      "\n",
      "      Epoch    GPU_mem   box_loss   cls_loss   dfl_loss  Instances       Size\n"
     ]
    },
    {
     "name": "stderr",
     "output_type": "stream",
     "text": [
      "   238/1000      6.95G     0.1804     0.1569     0.7746         50        736: 100%|██████████| 29/29 [00:04<00:00,  6.35it/s]\n"
     ]
    },
    {
     "name": "stdout",
     "output_type": "stream",
     "text": [
      "\n",
      "      Epoch    GPU_mem   box_loss   cls_loss   dfl_loss  Instances       Size\n"
     ]
    },
    {
     "name": "stderr",
     "output_type": "stream",
     "text": [
      "   239/1000      6.95G     0.1761     0.1571     0.7642         43        736: 100%|██████████| 29/29 [00:04<00:00,  6.36it/s]\n"
     ]
    },
    {
     "name": "stdout",
     "output_type": "stream",
     "text": [
      "\n",
      "      Epoch    GPU_mem   box_loss   cls_loss   dfl_loss  Instances       Size\n"
     ]
    },
    {
     "name": "stderr",
     "output_type": "stream",
     "text": [
      "   240/1000      6.95G     0.1796     0.1585     0.7616         44        736: 100%|██████████| 29/29 [00:04<00:00,  6.38it/s]\n"
     ]
    },
    {
     "name": "stdout",
     "output_type": "stream",
     "text": [
      "\n",
      "      Epoch    GPU_mem   box_loss   cls_loss   dfl_loss  Instances       Size\n"
     ]
    },
    {
     "name": "stderr",
     "output_type": "stream",
     "text": [
      "   241/1000      6.95G     0.1701     0.1559     0.7604         50        736: 100%|██████████| 29/29 [00:04<00:00,  6.32it/s]\n"
     ]
    },
    {
     "name": "stdout",
     "output_type": "stream",
     "text": [
      "\n",
      "      Epoch    GPU_mem   box_loss   cls_loss   dfl_loss  Instances       Size\n"
     ]
    },
    {
     "name": "stderr",
     "output_type": "stream",
     "text": [
      "   242/1000      6.95G     0.1714     0.1567     0.7691         55        736: 100%|██████████| 29/29 [00:04<00:00,  6.38it/s]\n"
     ]
    },
    {
     "name": "stdout",
     "output_type": "stream",
     "text": [
      "\n",
      "      Epoch    GPU_mem   box_loss   cls_loss   dfl_loss  Instances       Size\n"
     ]
    },
    {
     "name": "stderr",
     "output_type": "stream",
     "text": [
      "   243/1000      6.95G     0.1768     0.1562     0.7727         52        736: 100%|██████████| 29/29 [00:04<00:00,  6.36it/s]\n"
     ]
    },
    {
     "name": "stdout",
     "output_type": "stream",
     "text": [
      "\n",
      "      Epoch    GPU_mem   box_loss   cls_loss   dfl_loss  Instances       Size\n"
     ]
    },
    {
     "name": "stderr",
     "output_type": "stream",
     "text": [
      "   244/1000      6.95G     0.1922     0.1653     0.7651         38        736: 100%|██████████| 29/29 [00:04<00:00,  6.36it/s]\n"
     ]
    },
    {
     "name": "stdout",
     "output_type": "stream",
     "text": [
      "\n",
      "      Epoch    GPU_mem   box_loss   cls_loss   dfl_loss  Instances       Size\n"
     ]
    },
    {
     "name": "stderr",
     "output_type": "stream",
     "text": [
      "   245/1000      6.95G     0.1813     0.1567     0.7666         43        736: 100%|██████████| 29/29 [00:04<00:00,  6.38it/s]\n"
     ]
    },
    {
     "name": "stdout",
     "output_type": "stream",
     "text": [
      "\n",
      "      Epoch    GPU_mem   box_loss   cls_loss   dfl_loss  Instances       Size\n"
     ]
    },
    {
     "name": "stderr",
     "output_type": "stream",
     "text": [
      "   246/1000      6.95G     0.1779     0.1527     0.7731         55        736: 100%|██████████| 29/29 [00:04<00:00,  6.33it/s]\n"
     ]
    },
    {
     "name": "stdout",
     "output_type": "stream",
     "text": [
      "\n",
      "      Epoch    GPU_mem   box_loss   cls_loss   dfl_loss  Instances       Size\n"
     ]
    },
    {
     "name": "stderr",
     "output_type": "stream",
     "text": [
      "   247/1000      6.95G     0.1848     0.1564     0.7667         39        736: 100%|██████████| 29/29 [00:04<00:00,  6.33it/s]\n"
     ]
    },
    {
     "name": "stdout",
     "output_type": "stream",
     "text": [
      "\n",
      "      Epoch    GPU_mem   box_loss   cls_loss   dfl_loss  Instances       Size\n"
     ]
    },
    {
     "name": "stderr",
     "output_type": "stream",
     "text": [
      "   248/1000      6.95G     0.1803     0.1566     0.7659         50        736: 100%|██████████| 29/29 [00:04<00:00,  6.35it/s]\n"
     ]
    },
    {
     "name": "stdout",
     "output_type": "stream",
     "text": [
      "\n",
      "      Epoch    GPU_mem   box_loss   cls_loss   dfl_loss  Instances       Size\n"
     ]
    },
    {
     "name": "stderr",
     "output_type": "stream",
     "text": [
      "   249/1000      6.95G     0.1823     0.1578     0.7704         49        736: 100%|██████████| 29/29 [00:04<00:00,  6.38it/s]\n"
     ]
    },
    {
     "name": "stdout",
     "output_type": "stream",
     "text": [
      "\n",
      "      Epoch    GPU_mem   box_loss   cls_loss   dfl_loss  Instances       Size\n"
     ]
    },
    {
     "name": "stderr",
     "output_type": "stream",
     "text": [
      "   250/1000      6.95G     0.1766     0.1578     0.7708         47        736: 100%|██████████| 29/29 [00:04<00:00,  6.38it/s]\n"
     ]
    },
    {
     "name": "stdout",
     "output_type": "stream",
     "text": [
      "\n",
      "      Epoch    GPU_mem   box_loss   cls_loss   dfl_loss  Instances       Size\n"
     ]
    },
    {
     "name": "stderr",
     "output_type": "stream",
     "text": [
      "   251/1000      6.95G      0.173     0.1524     0.7729         34        736: 100%|██████████| 29/29 [00:04<00:00,  6.35it/s]\n"
     ]
    },
    {
     "name": "stdout",
     "output_type": "stream",
     "text": [
      "\n",
      "      Epoch    GPU_mem   box_loss   cls_loss   dfl_loss  Instances       Size\n"
     ]
    },
    {
     "name": "stderr",
     "output_type": "stream",
     "text": [
      "   252/1000      6.95G     0.1777     0.1568     0.7643         48        736: 100%|██████████| 29/29 [00:04<00:00,  6.36it/s]\n"
     ]
    },
    {
     "name": "stdout",
     "output_type": "stream",
     "text": [
      "\n",
      "      Epoch    GPU_mem   box_loss   cls_loss   dfl_loss  Instances       Size\n"
     ]
    },
    {
     "name": "stderr",
     "output_type": "stream",
     "text": [
      "   253/1000      6.95G     0.1754     0.1525     0.7645         46        736: 100%|██████████| 29/29 [00:04<00:00,  6.37it/s]\n"
     ]
    },
    {
     "name": "stdout",
     "output_type": "stream",
     "text": [
      "\n",
      "      Epoch    GPU_mem   box_loss   cls_loss   dfl_loss  Instances       Size\n"
     ]
    },
    {
     "name": "stderr",
     "output_type": "stream",
     "text": [
      "   254/1000      6.95G     0.1816      0.161      0.762         42        736: 100%|██████████| 29/29 [00:04<00:00,  6.34it/s]\n"
     ]
    },
    {
     "name": "stdout",
     "output_type": "stream",
     "text": [
      "\n",
      "      Epoch    GPU_mem   box_loss   cls_loss   dfl_loss  Instances       Size\n"
     ]
    },
    {
     "name": "stderr",
     "output_type": "stream",
     "text": [
      "   255/1000      6.95G     0.1777     0.1613     0.7716         44        736: 100%|██████████| 29/29 [00:04<00:00,  6.38it/s]\n"
     ]
    },
    {
     "name": "stdout",
     "output_type": "stream",
     "text": [
      "\n",
      "      Epoch    GPU_mem   box_loss   cls_loss   dfl_loss  Instances       Size\n"
     ]
    },
    {
     "name": "stderr",
     "output_type": "stream",
     "text": [
      "   256/1000      6.95G     0.1749     0.1553     0.7654         41        736: 100%|██████████| 29/29 [00:04<00:00,  6.38it/s]\n"
     ]
    },
    {
     "name": "stdout",
     "output_type": "stream",
     "text": [
      "\n",
      "      Epoch    GPU_mem   box_loss   cls_loss   dfl_loss  Instances       Size\n"
     ]
    },
    {
     "name": "stderr",
     "output_type": "stream",
     "text": [
      "   257/1000      6.95G      0.184      0.158     0.7607         40        736: 100%|██████████| 29/29 [00:04<00:00,  6.36it/s]\n"
     ]
    },
    {
     "name": "stdout",
     "output_type": "stream",
     "text": [
      "\n",
      "      Epoch    GPU_mem   box_loss   cls_loss   dfl_loss  Instances       Size\n"
     ]
    },
    {
     "name": "stderr",
     "output_type": "stream",
     "text": [
      "   258/1000      6.82G     0.1841      0.158      0.772         45        736: 100%|██████████| 29/29 [00:04<00:00,  6.36it/s]\n"
     ]
    },
    {
     "name": "stdout",
     "output_type": "stream",
     "text": [
      "\n",
      "      Epoch    GPU_mem   box_loss   cls_loss   dfl_loss  Instances       Size\n"
     ]
    },
    {
     "name": "stderr",
     "output_type": "stream",
     "text": [
      "   259/1000      6.82G     0.1771     0.1575     0.7692         53        736: 100%|██████████| 29/29 [00:04<00:00,  6.33it/s]\n"
     ]
    },
    {
     "name": "stdout",
     "output_type": "stream",
     "text": [
      "\n",
      "      Epoch    GPU_mem   box_loss   cls_loss   dfl_loss  Instances       Size\n"
     ]
    },
    {
     "name": "stderr",
     "output_type": "stream",
     "text": [
      "   260/1000      6.95G     0.1686     0.1537     0.7672         48        736: 100%|██████████| 29/29 [00:04<00:00,  6.36it/s]\n"
     ]
    },
    {
     "name": "stdout",
     "output_type": "stream",
     "text": [
      "\n",
      "      Epoch    GPU_mem   box_loss   cls_loss   dfl_loss  Instances       Size\n"
     ]
    },
    {
     "name": "stderr",
     "output_type": "stream",
     "text": [
      "   261/1000      6.95G     0.1712     0.1571      0.765         42        736: 100%|██████████| 29/29 [00:04<00:00,  6.40it/s]\n"
     ]
    },
    {
     "name": "stdout",
     "output_type": "stream",
     "text": [
      "\n",
      "      Epoch    GPU_mem   box_loss   cls_loss   dfl_loss  Instances       Size\n"
     ]
    },
    {
     "name": "stderr",
     "output_type": "stream",
     "text": [
      "   262/1000      6.95G     0.1715      0.154     0.7668         53        736: 100%|██████████| 29/29 [00:04<00:00,  6.34it/s]\n"
     ]
    },
    {
     "name": "stdout",
     "output_type": "stream",
     "text": [
      "\n",
      "      Epoch    GPU_mem   box_loss   cls_loss   dfl_loss  Instances       Size\n"
     ]
    },
    {
     "name": "stderr",
     "output_type": "stream",
     "text": [
      "   263/1000      6.95G     0.1698     0.1523     0.7723         52        736: 100%|██████████| 29/29 [00:04<00:00,  6.35it/s]\n"
     ]
    },
    {
     "name": "stdout",
     "output_type": "stream",
     "text": [
      "\n",
      "      Epoch    GPU_mem   box_loss   cls_loss   dfl_loss  Instances       Size\n"
     ]
    },
    {
     "name": "stderr",
     "output_type": "stream",
     "text": [
      "   264/1000      6.95G     0.1727     0.1594     0.7668         53        736: 100%|██████████| 29/29 [00:04<00:00,  6.39it/s]\n"
     ]
    },
    {
     "name": "stdout",
     "output_type": "stream",
     "text": [
      "\n",
      "      Epoch    GPU_mem   box_loss   cls_loss   dfl_loss  Instances       Size\n"
     ]
    },
    {
     "name": "stderr",
     "output_type": "stream",
     "text": [
      "   265/1000      6.95G      0.174      0.159     0.7704         47        736: 100%|██████████| 29/29 [00:04<00:00,  6.35it/s]\n"
     ]
    },
    {
     "name": "stdout",
     "output_type": "stream",
     "text": [
      "\n",
      "      Epoch    GPU_mem   box_loss   cls_loss   dfl_loss  Instances       Size\n"
     ]
    },
    {
     "name": "stderr",
     "output_type": "stream",
     "text": [
      "   266/1000      6.95G     0.1797     0.1609     0.7665         49        736: 100%|██████████| 29/29 [00:04<00:00,  6.37it/s]\n"
     ]
    },
    {
     "name": "stdout",
     "output_type": "stream",
     "text": [
      "\n",
      "      Epoch    GPU_mem   box_loss   cls_loss   dfl_loss  Instances       Size\n"
     ]
    },
    {
     "name": "stderr",
     "output_type": "stream",
     "text": [
      "   267/1000      6.95G     0.1918     0.1628     0.7689         43        736: 100%|██████████| 29/29 [00:04<00:00,  6.40it/s]\n"
     ]
    },
    {
     "name": "stdout",
     "output_type": "stream",
     "text": [
      "\n",
      "      Epoch    GPU_mem   box_loss   cls_loss   dfl_loss  Instances       Size\n"
     ]
    },
    {
     "name": "stderr",
     "output_type": "stream",
     "text": [
      "   268/1000      6.95G     0.1738      0.155     0.7686         34        736: 100%|██████████| 29/29 [00:04<00:00,  6.35it/s]\n"
     ]
    },
    {
     "name": "stdout",
     "output_type": "stream",
     "text": [
      "\n",
      "      Epoch    GPU_mem   box_loss   cls_loss   dfl_loss  Instances       Size\n"
     ]
    },
    {
     "name": "stderr",
     "output_type": "stream",
     "text": [
      "   269/1000      6.95G     0.1694     0.1542     0.7685         35        736: 100%|██████████| 29/29 [00:04<00:00,  6.38it/s]\n"
     ]
    },
    {
     "name": "stdout",
     "output_type": "stream",
     "text": [
      "\n",
      "      Epoch    GPU_mem   box_loss   cls_loss   dfl_loss  Instances       Size\n"
     ]
    },
    {
     "name": "stderr",
     "output_type": "stream",
     "text": [
      "   270/1000      6.95G     0.1738      0.159      0.772         47        736: 100%|██████████| 29/29 [00:04<00:00,  6.38it/s]\n"
     ]
    },
    {
     "name": "stdout",
     "output_type": "stream",
     "text": [
      "\n",
      "      Epoch    GPU_mem   box_loss   cls_loss   dfl_loss  Instances       Size\n"
     ]
    },
    {
     "name": "stderr",
     "output_type": "stream",
     "text": [
      "   271/1000      6.95G     0.1719     0.1585     0.7638         45        736: 100%|██████████| 29/29 [00:04<00:00,  6.34it/s]\n"
     ]
    },
    {
     "name": "stdout",
     "output_type": "stream",
     "text": [
      "\n",
      "      Epoch    GPU_mem   box_loss   cls_loss   dfl_loss  Instances       Size\n"
     ]
    },
    {
     "name": "stderr",
     "output_type": "stream",
     "text": [
      "   272/1000      6.95G     0.1701     0.1579     0.7612         43        736: 100%|██████████| 29/29 [00:04<00:00,  6.34it/s]\n"
     ]
    },
    {
     "name": "stdout",
     "output_type": "stream",
     "text": [
      "\n",
      "      Epoch    GPU_mem   box_loss   cls_loss   dfl_loss  Instances       Size\n"
     ]
    },
    {
     "name": "stderr",
     "output_type": "stream",
     "text": [
      "   273/1000      6.95G     0.1886      0.161     0.7658         48        736: 100%|██████████| 29/29 [00:04<00:00,  6.37it/s]\n"
     ]
    },
    {
     "name": "stdout",
     "output_type": "stream",
     "text": [
      "\n",
      "      Epoch    GPU_mem   box_loss   cls_loss   dfl_loss  Instances       Size\n"
     ]
    },
    {
     "name": "stderr",
     "output_type": "stream",
     "text": [
      "   274/1000      6.82G     0.1803     0.1562     0.7657         42        736: 100%|██████████| 29/29 [00:04<00:00,  6.35it/s]\n"
     ]
    },
    {
     "name": "stdout",
     "output_type": "stream",
     "text": [
      "\n",
      "      Epoch    GPU_mem   box_loss   cls_loss   dfl_loss  Instances       Size\n"
     ]
    },
    {
     "name": "stderr",
     "output_type": "stream",
     "text": [
      "   275/1000      6.95G     0.1694     0.1506     0.7728         49        736: 100%|██████████| 29/29 [00:04<00:00,  6.39it/s]\n"
     ]
    },
    {
     "name": "stdout",
     "output_type": "stream",
     "text": [
      "\n",
      "      Epoch    GPU_mem   box_loss   cls_loss   dfl_loss  Instances       Size\n"
     ]
    },
    {
     "name": "stderr",
     "output_type": "stream",
     "text": [
      "   276/1000      6.95G     0.1667     0.1449     0.7692         44        736: 100%|██████████| 29/29 [00:04<00:00,  6.35it/s]\n"
     ]
    },
    {
     "name": "stdout",
     "output_type": "stream",
     "text": [
      "\n",
      "      Epoch    GPU_mem   box_loss   cls_loss   dfl_loss  Instances       Size\n"
     ]
    },
    {
     "name": "stderr",
     "output_type": "stream",
     "text": [
      "   277/1000      6.95G      0.163      0.144     0.7737         49        736: 100%|██████████| 29/29 [00:04<00:00,  6.38it/s]\n"
     ]
    },
    {
     "name": "stdout",
     "output_type": "stream",
     "text": [
      "\n",
      "      Epoch    GPU_mem   box_loss   cls_loss   dfl_loss  Instances       Size\n"
     ]
    },
    {
     "name": "stderr",
     "output_type": "stream",
     "text": [
      "   278/1000      6.95G     0.1603     0.1461      0.774         36        736: 100%|██████████| 29/29 [00:04<00:00,  6.38it/s]\n"
     ]
    },
    {
     "name": "stdout",
     "output_type": "stream",
     "text": [
      "\n",
      "      Epoch    GPU_mem   box_loss   cls_loss   dfl_loss  Instances       Size\n"
     ]
    },
    {
     "name": "stderr",
     "output_type": "stream",
     "text": [
      "   279/1000      6.95G     0.1674     0.1505     0.7684         39        736: 100%|██████████| 29/29 [00:04<00:00,  6.36it/s]\n"
     ]
    },
    {
     "name": "stdout",
     "output_type": "stream",
     "text": [
      "\n",
      "      Epoch    GPU_mem   box_loss   cls_loss   dfl_loss  Instances       Size\n"
     ]
    },
    {
     "name": "stderr",
     "output_type": "stream",
     "text": [
      "   280/1000      6.95G     0.1694     0.1544     0.7694         36        736: 100%|██████████| 29/29 [00:04<00:00,  6.38it/s]\n"
     ]
    },
    {
     "name": "stdout",
     "output_type": "stream",
     "text": [
      "\n",
      "      Epoch    GPU_mem   box_loss   cls_loss   dfl_loss  Instances       Size\n"
     ]
    },
    {
     "name": "stderr",
     "output_type": "stream",
     "text": [
      "   281/1000      6.95G     0.1839     0.1602     0.7764         45        736: 100%|██████████| 29/29 [00:04<00:00,  6.38it/s]\n"
     ]
    },
    {
     "name": "stdout",
     "output_type": "stream",
     "text": [
      "\n",
      "      Epoch    GPU_mem   box_loss   cls_loss   dfl_loss  Instances       Size\n"
     ]
    },
    {
     "name": "stderr",
     "output_type": "stream",
     "text": [
      "   282/1000         7G     0.1782      0.154     0.7652         40        736: 100%|██████████| 29/29 [00:04<00:00,  6.36it/s]\n"
     ]
    },
    {
     "name": "stdout",
     "output_type": "stream",
     "text": [
      "\n",
      "      Epoch    GPU_mem   box_loss   cls_loss   dfl_loss  Instances       Size\n"
     ]
    },
    {
     "name": "stderr",
     "output_type": "stream",
     "text": [
      "   283/1000      6.95G     0.1775     0.1534     0.7632         40        736: 100%|██████████| 29/29 [00:04<00:00,  6.34it/s]\n"
     ]
    },
    {
     "name": "stdout",
     "output_type": "stream",
     "text": [
      "\n",
      "      Epoch    GPU_mem   box_loss   cls_loss   dfl_loss  Instances       Size\n"
     ]
    },
    {
     "name": "stderr",
     "output_type": "stream",
     "text": [
      "   284/1000      6.95G     0.1727     0.1526     0.7708         40        736: 100%|██████████| 29/29 [00:04<00:00,  6.31it/s]\n"
     ]
    },
    {
     "name": "stdout",
     "output_type": "stream",
     "text": [
      "\n",
      "      Epoch    GPU_mem   box_loss   cls_loss   dfl_loss  Instances       Size\n"
     ]
    },
    {
     "name": "stderr",
     "output_type": "stream",
     "text": [
      "   285/1000      6.95G     0.1752     0.1551     0.7661         53        736: 100%|██████████| 29/29 [00:04<00:00,  6.35it/s]\n"
     ]
    },
    {
     "name": "stdout",
     "output_type": "stream",
     "text": [
      "\n",
      "      Epoch    GPU_mem   box_loss   cls_loss   dfl_loss  Instances       Size\n"
     ]
    },
    {
     "name": "stderr",
     "output_type": "stream",
     "text": [
      "   286/1000      6.95G     0.1675     0.1503     0.7679         43        736: 100%|██████████| 29/29 [00:04<00:00,  6.37it/s]\n"
     ]
    },
    {
     "name": "stdout",
     "output_type": "stream",
     "text": [
      "\n",
      "      Epoch    GPU_mem   box_loss   cls_loss   dfl_loss  Instances       Size\n"
     ]
    },
    {
     "name": "stderr",
     "output_type": "stream",
     "text": [
      "   287/1000      6.95G     0.1669     0.1505     0.7685         39        736: 100%|██████████| 29/29 [00:04<00:00,  6.34it/s]\n"
     ]
    },
    {
     "name": "stdout",
     "output_type": "stream",
     "text": [
      "\n",
      "      Epoch    GPU_mem   box_loss   cls_loss   dfl_loss  Instances       Size\n"
     ]
    },
    {
     "name": "stderr",
     "output_type": "stream",
     "text": [
      "   288/1000      6.95G     0.1652     0.1474     0.7686         43        736: 100%|██████████| 29/29 [00:04<00:00,  6.38it/s]\n"
     ]
    },
    {
     "name": "stdout",
     "output_type": "stream",
     "text": [
      "\n",
      "      Epoch    GPU_mem   box_loss   cls_loss   dfl_loss  Instances       Size\n"
     ]
    },
    {
     "name": "stderr",
     "output_type": "stream",
     "text": [
      "   289/1000      6.95G     0.1646     0.1498     0.7615         48        736: 100%|██████████| 29/29 [00:04<00:00,  6.38it/s]\n"
     ]
    },
    {
     "name": "stdout",
     "output_type": "stream",
     "text": [
      "\n",
      "      Epoch    GPU_mem   box_loss   cls_loss   dfl_loss  Instances       Size\n"
     ]
    },
    {
     "name": "stderr",
     "output_type": "stream",
     "text": [
      "   290/1000      6.95G     0.1591     0.1433     0.7682         42        736: 100%|██████████| 29/29 [00:04<00:00,  6.35it/s]\n"
     ]
    },
    {
     "name": "stdout",
     "output_type": "stream",
     "text": [
      "\n",
      "      Epoch    GPU_mem   box_loss   cls_loss   dfl_loss  Instances       Size\n"
     ]
    },
    {
     "name": "stderr",
     "output_type": "stream",
     "text": [
      "   291/1000      6.95G     0.1644      0.147     0.7689         44        736: 100%|██████████| 29/29 [00:04<00:00,  6.40it/s]\n"
     ]
    },
    {
     "name": "stdout",
     "output_type": "stream",
     "text": [
      "\n",
      "      Epoch    GPU_mem   box_loss   cls_loss   dfl_loss  Instances       Size\n"
     ]
    },
    {
     "name": "stderr",
     "output_type": "stream",
     "text": [
      "   292/1000      6.82G     0.1611     0.1501     0.7674         40        736: 100%|██████████| 29/29 [00:04<00:00,  6.38it/s]\n"
     ]
    },
    {
     "name": "stdout",
     "output_type": "stream",
     "text": [
      "\n",
      "      Epoch    GPU_mem   box_loss   cls_loss   dfl_loss  Instances       Size\n"
     ]
    },
    {
     "name": "stderr",
     "output_type": "stream",
     "text": [
      "   293/1000      6.95G     0.1699     0.1512     0.7639         44        736: 100%|██████████| 29/29 [00:04<00:00,  6.35it/s]\n"
     ]
    },
    {
     "name": "stdout",
     "output_type": "stream",
     "text": [
      "\n",
      "      Epoch    GPU_mem   box_loss   cls_loss   dfl_loss  Instances       Size\n"
     ]
    },
    {
     "name": "stderr",
     "output_type": "stream",
     "text": [
      "   294/1000      6.95G     0.1617     0.1467      0.765         47        736: 100%|██████████| 29/29 [00:04<00:00,  6.38it/s]\n"
     ]
    },
    {
     "name": "stdout",
     "output_type": "stream",
     "text": [
      "\n",
      "      Epoch    GPU_mem   box_loss   cls_loss   dfl_loss  Instances       Size\n"
     ]
    },
    {
     "name": "stderr",
     "output_type": "stream",
     "text": [
      "   295/1000      6.95G       0.16     0.1474     0.7657         38        736: 100%|██████████| 29/29 [00:04<00:00,  6.33it/s]\n"
     ]
    },
    {
     "name": "stdout",
     "output_type": "stream",
     "text": [
      "\n",
      "      Epoch    GPU_mem   box_loss   cls_loss   dfl_loss  Instances       Size\n"
     ]
    },
    {
     "name": "stderr",
     "output_type": "stream",
     "text": [
      "   296/1000      6.95G     0.1632      0.145     0.7679         54        736: 100%|██████████| 29/29 [00:04<00:00,  6.31it/s]\n"
     ]
    },
    {
     "name": "stdout",
     "output_type": "stream",
     "text": [
      "\n",
      "      Epoch    GPU_mem   box_loss   cls_loss   dfl_loss  Instances       Size\n"
     ]
    },
    {
     "name": "stderr",
     "output_type": "stream",
     "text": [
      "   297/1000      6.95G     0.1652     0.1465     0.7598         45        736: 100%|██████████| 29/29 [00:04<00:00,  6.40it/s]\n"
     ]
    },
    {
     "name": "stdout",
     "output_type": "stream",
     "text": [
      "\n",
      "      Epoch    GPU_mem   box_loss   cls_loss   dfl_loss  Instances       Size\n"
     ]
    },
    {
     "name": "stderr",
     "output_type": "stream",
     "text": [
      "   298/1000      6.95G      0.162     0.1449     0.7664         60        736: 100%|██████████| 29/29 [00:04<00:00,  6.37it/s]\n"
     ]
    },
    {
     "name": "stdout",
     "output_type": "stream",
     "text": [
      "\n",
      "      Epoch    GPU_mem   box_loss   cls_loss   dfl_loss  Instances       Size\n"
     ]
    },
    {
     "name": "stderr",
     "output_type": "stream",
     "text": [
      "   299/1000      6.95G     0.1606     0.1438     0.7657         46        736: 100%|██████████| 29/29 [00:04<00:00,  6.33it/s]\n"
     ]
    },
    {
     "name": "stdout",
     "output_type": "stream",
     "text": [
      "\n",
      "      Epoch    GPU_mem   box_loss   cls_loss   dfl_loss  Instances       Size\n"
     ]
    },
    {
     "name": "stderr",
     "output_type": "stream",
     "text": [
      "   300/1000      6.95G     0.1691     0.1462     0.7676         52        736: 100%|██████████| 29/29 [00:04<00:00,  6.38it/s]\n"
     ]
    },
    {
     "name": "stdout",
     "output_type": "stream",
     "text": [
      "\n",
      "      Epoch    GPU_mem   box_loss   cls_loss   dfl_loss  Instances       Size\n"
     ]
    },
    {
     "name": "stderr",
     "output_type": "stream",
     "text": [
      "   301/1000      6.95G     0.1604     0.1448     0.7628         49        736: 100%|██████████| 29/29 [00:04<00:00,  6.34it/s]\n"
     ]
    },
    {
     "name": "stdout",
     "output_type": "stream",
     "text": [
      "\n",
      "      Epoch    GPU_mem   box_loss   cls_loss   dfl_loss  Instances       Size\n"
     ]
    },
    {
     "name": "stderr",
     "output_type": "stream",
     "text": [
      "   302/1000      6.95G     0.1512     0.1405     0.7635         60        736: 100%|██████████| 29/29 [00:04<00:00,  6.36it/s]\n"
     ]
    },
    {
     "name": "stdout",
     "output_type": "stream",
     "text": [
      "\n",
      "      Epoch    GPU_mem   box_loss   cls_loss   dfl_loss  Instances       Size\n"
     ]
    },
    {
     "name": "stderr",
     "output_type": "stream",
     "text": [
      "   303/1000      6.95G     0.1689     0.1461       0.77         33        736: 100%|██████████| 29/29 [00:04<00:00,  6.37it/s]\n"
     ]
    },
    {
     "name": "stdout",
     "output_type": "stream",
     "text": [
      "\n",
      "      Epoch    GPU_mem   box_loss   cls_loss   dfl_loss  Instances       Size\n"
     ]
    },
    {
     "name": "stderr",
     "output_type": "stream",
     "text": [
      "   304/1000      6.95G     0.1755     0.1486      0.768         50        736: 100%|██████████| 29/29 [00:04<00:00,  6.36it/s]\n"
     ]
    },
    {
     "name": "stdout",
     "output_type": "stream",
     "text": [
      "\n",
      "      Epoch    GPU_mem   box_loss   cls_loss   dfl_loss  Instances       Size\n"
     ]
    },
    {
     "name": "stderr",
     "output_type": "stream",
     "text": [
      "   305/1000      6.95G     0.1758     0.1514     0.7712         42        736: 100%|██████████| 29/29 [00:04<00:00,  6.38it/s]\n"
     ]
    },
    {
     "name": "stdout",
     "output_type": "stream",
     "text": [
      "\n",
      "      Epoch    GPU_mem   box_loss   cls_loss   dfl_loss  Instances       Size\n"
     ]
    },
    {
     "name": "stderr",
     "output_type": "stream",
     "text": [
      "   306/1000      6.95G     0.1703     0.1493     0.7683         45        736: 100%|██████████| 29/29 [00:04<00:00,  6.35it/s]\n"
     ]
    },
    {
     "name": "stdout",
     "output_type": "stream",
     "text": [
      "\n",
      "      Epoch    GPU_mem   box_loss   cls_loss   dfl_loss  Instances       Size\n"
     ]
    },
    {
     "name": "stderr",
     "output_type": "stream",
     "text": [
      "   307/1000      6.95G     0.1654     0.1432     0.7743         48        736: 100%|██████████| 29/29 [00:04<00:00,  6.36it/s]\n"
     ]
    },
    {
     "name": "stdout",
     "output_type": "stream",
     "text": [
      "\n",
      "      Epoch    GPU_mem   box_loss   cls_loss   dfl_loss  Instances       Size\n"
     ]
    },
    {
     "name": "stderr",
     "output_type": "stream",
     "text": [
      "   308/1000      6.95G     0.1609     0.1419     0.7723         36        736: 100%|██████████| 29/29 [00:04<00:00,  6.33it/s]\n"
     ]
    },
    {
     "name": "stdout",
     "output_type": "stream",
     "text": [
      "\n",
      "      Epoch    GPU_mem   box_loss   cls_loss   dfl_loss  Instances       Size\n"
     ]
    },
    {
     "name": "stderr",
     "output_type": "stream",
     "text": [
      "   309/1000      6.95G      0.172     0.1559     0.7659         46        736: 100%|██████████| 29/29 [00:04<00:00,  6.32it/s]\n"
     ]
    },
    {
     "name": "stdout",
     "output_type": "stream",
     "text": [
      "\n",
      "      Epoch    GPU_mem   box_loss   cls_loss   dfl_loss  Instances       Size\n"
     ]
    },
    {
     "name": "stderr",
     "output_type": "stream",
     "text": [
      "   310/1000      6.95G     0.1668     0.1472     0.7668         51        736: 100%|██████████| 29/29 [00:04<00:00,  6.36it/s]\n"
     ]
    },
    {
     "name": "stdout",
     "output_type": "stream",
     "text": [
      "\n",
      "      Epoch    GPU_mem   box_loss   cls_loss   dfl_loss  Instances       Size\n"
     ]
    },
    {
     "name": "stderr",
     "output_type": "stream",
     "text": [
      "   311/1000      6.95G     0.1682     0.1428     0.7715         40        736: 100%|██████████| 29/29 [00:04<00:00,  6.38it/s]\n"
     ]
    },
    {
     "name": "stdout",
     "output_type": "stream",
     "text": [
      "\n",
      "      Epoch    GPU_mem   box_loss   cls_loss   dfl_loss  Instances       Size\n"
     ]
    },
    {
     "name": "stderr",
     "output_type": "stream",
     "text": [
      "   312/1000      6.95G     0.1573       0.14     0.7661         45        736: 100%|██████████| 29/29 [00:04<00:00,  6.40it/s]\n"
     ]
    },
    {
     "name": "stdout",
     "output_type": "stream",
     "text": [
      "\n",
      "      Epoch    GPU_mem   box_loss   cls_loss   dfl_loss  Instances       Size\n"
     ]
    },
    {
     "name": "stderr",
     "output_type": "stream",
     "text": [
      "   313/1000      6.95G     0.1644     0.1439     0.7594         53        736: 100%|██████████| 29/29 [00:04<00:00,  6.44it/s]\n"
     ]
    },
    {
     "name": "stdout",
     "output_type": "stream",
     "text": [
      "\n",
      "      Epoch    GPU_mem   box_loss   cls_loss   dfl_loss  Instances       Size\n"
     ]
    },
    {
     "name": "stderr",
     "output_type": "stream",
     "text": [
      "   314/1000      6.95G     0.1679     0.1449     0.7688         40        736: 100%|██████████| 29/29 [00:04<00:00,  6.44it/s]\n"
     ]
    },
    {
     "name": "stdout",
     "output_type": "stream",
     "text": [
      "\n",
      "      Epoch    GPU_mem   box_loss   cls_loss   dfl_loss  Instances       Size\n"
     ]
    },
    {
     "name": "stderr",
     "output_type": "stream",
     "text": [
      "   315/1000      6.95G      0.153     0.1374     0.7573         38        736: 100%|██████████| 29/29 [00:04<00:00,  6.43it/s]\n"
     ]
    },
    {
     "name": "stdout",
     "output_type": "stream",
     "text": [
      "\n",
      "      Epoch    GPU_mem   box_loss   cls_loss   dfl_loss  Instances       Size\n"
     ]
    },
    {
     "name": "stderr",
     "output_type": "stream",
     "text": [
      "   316/1000      6.95G     0.1552     0.1449     0.7642         43        736: 100%|██████████| 29/29 [00:04<00:00,  6.45it/s]\n"
     ]
    },
    {
     "name": "stdout",
     "output_type": "stream",
     "text": [
      "\n",
      "      Epoch    GPU_mem   box_loss   cls_loss   dfl_loss  Instances       Size\n"
     ]
    },
    {
     "name": "stderr",
     "output_type": "stream",
     "text": [
      "   317/1000      6.95G      0.174     0.1491     0.7732         35        736: 100%|██████████| 29/29 [00:04<00:00,  6.42it/s]\n"
     ]
    },
    {
     "name": "stdout",
     "output_type": "stream",
     "text": [
      "\n",
      "      Epoch    GPU_mem   box_loss   cls_loss   dfl_loss  Instances       Size\n"
     ]
    },
    {
     "name": "stderr",
     "output_type": "stream",
     "text": [
      "   318/1000      6.95G     0.1618     0.1451     0.7653         58        736: 100%|██████████| 29/29 [00:04<00:00,  6.43it/s]\n"
     ]
    },
    {
     "name": "stdout",
     "output_type": "stream",
     "text": [
      "\n",
      "      Epoch    GPU_mem   box_loss   cls_loss   dfl_loss  Instances       Size\n"
     ]
    },
    {
     "name": "stderr",
     "output_type": "stream",
     "text": [
      "   319/1000      6.95G     0.1591     0.1416     0.7725         43        736: 100%|██████████| 29/29 [00:04<00:00,  6.43it/s]\n"
     ]
    },
    {
     "name": "stdout",
     "output_type": "stream",
     "text": [
      "\n",
      "      Epoch    GPU_mem   box_loss   cls_loss   dfl_loss  Instances       Size\n"
     ]
    },
    {
     "name": "stderr",
     "output_type": "stream",
     "text": [
      "   320/1000      6.95G     0.1461     0.1357     0.7687         47        736: 100%|██████████| 29/29 [00:04<00:00,  6.44it/s]\n"
     ]
    },
    {
     "name": "stdout",
     "output_type": "stream",
     "text": [
      "\n",
      "      Epoch    GPU_mem   box_loss   cls_loss   dfl_loss  Instances       Size\n"
     ]
    },
    {
     "name": "stderr",
     "output_type": "stream",
     "text": [
      "   321/1000      6.95G     0.1516     0.1385     0.7722         48        736: 100%|██████████| 29/29 [00:04<00:00,  6.46it/s]\n"
     ]
    },
    {
     "name": "stdout",
     "output_type": "stream",
     "text": [
      "\n",
      "      Epoch    GPU_mem   box_loss   cls_loss   dfl_loss  Instances       Size\n"
     ]
    },
    {
     "name": "stderr",
     "output_type": "stream",
     "text": [
      "   322/1000      6.95G     0.1578     0.1428     0.7642         52        736: 100%|██████████| 29/29 [00:04<00:00,  6.45it/s]\n"
     ]
    },
    {
     "name": "stdout",
     "output_type": "stream",
     "text": [
      "\n",
      "      Epoch    GPU_mem   box_loss   cls_loss   dfl_loss  Instances       Size\n"
     ]
    },
    {
     "name": "stderr",
     "output_type": "stream",
     "text": [
      "   323/1000      6.95G     0.1581     0.1398     0.7668         40        736: 100%|██████████| 29/29 [00:04<00:00,  6.44it/s]\n"
     ]
    },
    {
     "name": "stdout",
     "output_type": "stream",
     "text": [
      "\n",
      "      Epoch    GPU_mem   box_loss   cls_loss   dfl_loss  Instances       Size\n"
     ]
    },
    {
     "name": "stderr",
     "output_type": "stream",
     "text": [
      "   324/1000      6.95G     0.1513     0.1369      0.772         46        736: 100%|██████████| 29/29 [00:04<00:00,  6.44it/s]\n"
     ]
    },
    {
     "name": "stdout",
     "output_type": "stream",
     "text": [
      "\n",
      "      Epoch    GPU_mem   box_loss   cls_loss   dfl_loss  Instances       Size\n"
     ]
    },
    {
     "name": "stderr",
     "output_type": "stream",
     "text": [
      "   325/1000      6.95G     0.1594     0.1392     0.7679         51        736: 100%|██████████| 29/29 [00:04<00:00,  6.42it/s]\n"
     ]
    },
    {
     "name": "stdout",
     "output_type": "stream",
     "text": [
      "\n",
      "      Epoch    GPU_mem   box_loss   cls_loss   dfl_loss  Instances       Size\n"
     ]
    },
    {
     "name": "stderr",
     "output_type": "stream",
     "text": [
      "   326/1000      6.95G     0.1674     0.1433     0.7691         46        736: 100%|██████████| 29/29 [00:04<00:00,  6.42it/s]\n"
     ]
    },
    {
     "name": "stdout",
     "output_type": "stream",
     "text": [
      "\n",
      "      Epoch    GPU_mem   box_loss   cls_loss   dfl_loss  Instances       Size\n"
     ]
    },
    {
     "name": "stderr",
     "output_type": "stream",
     "text": [
      "   327/1000      6.95G     0.1593     0.1422     0.7713         50        736: 100%|██████████| 29/29 [00:04<00:00,  6.45it/s]\n"
     ]
    },
    {
     "name": "stdout",
     "output_type": "stream",
     "text": [
      "\n",
      "      Epoch    GPU_mem   box_loss   cls_loss   dfl_loss  Instances       Size\n"
     ]
    },
    {
     "name": "stderr",
     "output_type": "stream",
     "text": [
      "   328/1000      6.95G     0.1547      0.143     0.7633         46        736: 100%|██████████| 29/29 [00:04<00:00,  6.44it/s]\n"
     ]
    },
    {
     "name": "stdout",
     "output_type": "stream",
     "text": [
      "\n",
      "      Epoch    GPU_mem   box_loss   cls_loss   dfl_loss  Instances       Size\n"
     ]
    },
    {
     "name": "stderr",
     "output_type": "stream",
     "text": [
      "   329/1000      6.95G     0.1566     0.1433     0.7713         40        736: 100%|██████████| 29/29 [00:04<00:00,  6.43it/s]\n"
     ]
    },
    {
     "name": "stdout",
     "output_type": "stream",
     "text": [
      "\n",
      "      Epoch    GPU_mem   box_loss   cls_loss   dfl_loss  Instances       Size\n"
     ]
    },
    {
     "name": "stderr",
     "output_type": "stream",
     "text": [
      "   330/1000      6.95G     0.1556     0.1417     0.7651         41        736: 100%|██████████| 29/29 [00:04<00:00,  6.45it/s]\n"
     ]
    },
    {
     "name": "stdout",
     "output_type": "stream",
     "text": [
      "\n",
      "      Epoch    GPU_mem   box_loss   cls_loss   dfl_loss  Instances       Size\n"
     ]
    },
    {
     "name": "stderr",
     "output_type": "stream",
     "text": [
      "   331/1000      6.95G     0.1648     0.1449     0.7654         47        736: 100%|██████████| 29/29 [00:04<00:00,  6.44it/s]\n"
     ]
    },
    {
     "name": "stdout",
     "output_type": "stream",
     "text": [
      "\n",
      "      Epoch    GPU_mem   box_loss   cls_loss   dfl_loss  Instances       Size\n"
     ]
    },
    {
     "name": "stderr",
     "output_type": "stream",
     "text": [
      "   332/1000      6.95G     0.1651      0.144     0.7628         42        736: 100%|██████████| 29/29 [00:04<00:00,  6.43it/s]\n"
     ]
    },
    {
     "name": "stdout",
     "output_type": "stream",
     "text": [
      "\n",
      "      Epoch    GPU_mem   box_loss   cls_loss   dfl_loss  Instances       Size\n"
     ]
    },
    {
     "name": "stderr",
     "output_type": "stream",
     "text": [
      "   333/1000      6.95G     0.1669     0.1453     0.7634         49        736: 100%|██████████| 29/29 [00:04<00:00,  6.45it/s]\n"
     ]
    },
    {
     "name": "stdout",
     "output_type": "stream",
     "text": [
      "\n",
      "      Epoch    GPU_mem   box_loss   cls_loss   dfl_loss  Instances       Size\n"
     ]
    },
    {
     "name": "stderr",
     "output_type": "stream",
     "text": [
      "   334/1000      6.95G     0.1509     0.1345     0.7641         52        736: 100%|██████████| 29/29 [00:04<00:00,  6.42it/s]\n"
     ]
    },
    {
     "name": "stdout",
     "output_type": "stream",
     "text": [
      "\n",
      "      Epoch    GPU_mem   box_loss   cls_loss   dfl_loss  Instances       Size\n"
     ]
    },
    {
     "name": "stderr",
     "output_type": "stream",
     "text": [
      "   335/1000      6.95G     0.1602     0.1426     0.7634         43        736: 100%|██████████| 29/29 [00:04<00:00,  6.42it/s]\n"
     ]
    },
    {
     "name": "stdout",
     "output_type": "stream",
     "text": [
      "\n",
      "      Epoch    GPU_mem   box_loss   cls_loss   dfl_loss  Instances       Size\n"
     ]
    },
    {
     "name": "stderr",
     "output_type": "stream",
     "text": [
      "   336/1000      6.95G     0.1549     0.1354     0.7689         41        736: 100%|██████████| 29/29 [00:04<00:00,  6.41it/s]\n"
     ]
    },
    {
     "name": "stdout",
     "output_type": "stream",
     "text": [
      "\n",
      "      Epoch    GPU_mem   box_loss   cls_loss   dfl_loss  Instances       Size\n"
     ]
    },
    {
     "name": "stderr",
     "output_type": "stream",
     "text": [
      "   337/1000      6.95G     0.1513     0.1345     0.7715         43        736: 100%|██████████| 29/29 [00:04<00:00,  6.40it/s]\n"
     ]
    },
    {
     "name": "stdout",
     "output_type": "stream",
     "text": [
      "\n",
      "      Epoch    GPU_mem   box_loss   cls_loss   dfl_loss  Instances       Size\n"
     ]
    },
    {
     "name": "stderr",
     "output_type": "stream",
     "text": [
      "   338/1000      6.95G     0.1467     0.1336     0.7691         48        736: 100%|██████████| 29/29 [00:04<00:00,  6.44it/s]\n"
     ]
    },
    {
     "name": "stdout",
     "output_type": "stream",
     "text": [
      "\n",
      "      Epoch    GPU_mem   box_loss   cls_loss   dfl_loss  Instances       Size\n"
     ]
    },
    {
     "name": "stderr",
     "output_type": "stream",
     "text": [
      "   339/1000      6.95G       0.16     0.1435     0.7667         42        736: 100%|██████████| 29/29 [00:04<00:00,  6.43it/s]\n"
     ]
    },
    {
     "name": "stdout",
     "output_type": "stream",
     "text": [
      "\n",
      "      Epoch    GPU_mem   box_loss   cls_loss   dfl_loss  Instances       Size\n"
     ]
    },
    {
     "name": "stderr",
     "output_type": "stream",
     "text": [
      "   340/1000      6.95G     0.1515     0.1406      0.765         43        736: 100%|██████████| 29/29 [00:04<00:00,  6.43it/s]\n"
     ]
    },
    {
     "name": "stdout",
     "output_type": "stream",
     "text": [
      "\n",
      "      Epoch    GPU_mem   box_loss   cls_loss   dfl_loss  Instances       Size\n"
     ]
    },
    {
     "name": "stderr",
     "output_type": "stream",
     "text": [
      "   341/1000      6.95G     0.1641     0.1418     0.7585         50        736: 100%|██████████| 29/29 [00:04<00:00,  6.43it/s]\n"
     ]
    },
    {
     "name": "stdout",
     "output_type": "stream",
     "text": [
      "\n",
      "      Epoch    GPU_mem   box_loss   cls_loss   dfl_loss  Instances       Size\n"
     ]
    },
    {
     "name": "stderr",
     "output_type": "stream",
     "text": [
      "   342/1000      6.95G     0.1638     0.1442       0.77         40        736: 100%|██████████| 29/29 [00:04<00:00,  6.42it/s]\n"
     ]
    },
    {
     "name": "stdout",
     "output_type": "stream",
     "text": [
      "\n",
      "      Epoch    GPU_mem   box_loss   cls_loss   dfl_loss  Instances       Size\n"
     ]
    },
    {
     "name": "stderr",
     "output_type": "stream",
     "text": [
      "   343/1000      6.95G     0.1538     0.1365     0.7715         46        736: 100%|██████████| 29/29 [00:04<00:00,  6.44it/s]\n"
     ]
    },
    {
     "name": "stdout",
     "output_type": "stream",
     "text": [
      "\n",
      "      Epoch    GPU_mem   box_loss   cls_loss   dfl_loss  Instances       Size\n"
     ]
    },
    {
     "name": "stderr",
     "output_type": "stream",
     "text": [
      "   344/1000      6.95G     0.1703     0.1482      0.761         45        736: 100%|██████████| 29/29 [00:04<00:00,  6.40it/s]\n"
     ]
    },
    {
     "name": "stdout",
     "output_type": "stream",
     "text": [
      "\n",
      "      Epoch    GPU_mem   box_loss   cls_loss   dfl_loss  Instances       Size\n"
     ]
    },
    {
     "name": "stderr",
     "output_type": "stream",
     "text": [
      "   345/1000      6.95G     0.1527     0.1364     0.7726         45        736: 100%|██████████| 29/29 [00:04<00:00,  6.43it/s]\n"
     ]
    },
    {
     "name": "stdout",
     "output_type": "stream",
     "text": [
      "\n",
      "      Epoch    GPU_mem   box_loss   cls_loss   dfl_loss  Instances       Size\n"
     ]
    },
    {
     "name": "stderr",
     "output_type": "stream",
     "text": [
      "   346/1000      6.95G     0.1491     0.1363     0.7672         43        736: 100%|██████████| 29/29 [00:04<00:00,  6.44it/s]\n"
     ]
    },
    {
     "name": "stdout",
     "output_type": "stream",
     "text": [
      "\n",
      "      Epoch    GPU_mem   box_loss   cls_loss   dfl_loss  Instances       Size\n"
     ]
    },
    {
     "name": "stderr",
     "output_type": "stream",
     "text": [
      "   347/1000      6.95G      0.149     0.1396     0.7627         44        736: 100%|██████████| 29/29 [00:04<00:00,  6.43it/s]\n"
     ]
    },
    {
     "name": "stdout",
     "output_type": "stream",
     "text": [
      "\n",
      "      Epoch    GPU_mem   box_loss   cls_loss   dfl_loss  Instances       Size\n"
     ]
    },
    {
     "name": "stderr",
     "output_type": "stream",
     "text": [
      "   348/1000      6.95G     0.1518     0.1362     0.7688         42        736: 100%|██████████| 29/29 [00:04<00:00,  6.42it/s]\n"
     ]
    },
    {
     "name": "stdout",
     "output_type": "stream",
     "text": [
      "\n",
      "      Epoch    GPU_mem   box_loss   cls_loss   dfl_loss  Instances       Size\n"
     ]
    },
    {
     "name": "stderr",
     "output_type": "stream",
     "text": [
      "   349/1000      6.95G     0.1556     0.1408     0.7695         45        736: 100%|██████████| 29/29 [00:04<00:00,  6.46it/s]\n"
     ]
    },
    {
     "name": "stdout",
     "output_type": "stream",
     "text": [
      "\n",
      "      Epoch    GPU_mem   box_loss   cls_loss   dfl_loss  Instances       Size\n"
     ]
    },
    {
     "name": "stderr",
     "output_type": "stream",
     "text": [
      "   350/1000      6.95G     0.1515     0.1351     0.7654         43        736: 100%|██████████| 29/29 [00:04<00:00,  6.43it/s]\n"
     ]
    },
    {
     "name": "stdout",
     "output_type": "stream",
     "text": [
      "\n",
      "      Epoch    GPU_mem   box_loss   cls_loss   dfl_loss  Instances       Size\n"
     ]
    },
    {
     "name": "stderr",
     "output_type": "stream",
     "text": [
      "   351/1000      6.95G     0.1525     0.1374     0.7697         43        736: 100%|██████████| 29/29 [00:04<00:00,  6.44it/s]\n"
     ]
    },
    {
     "name": "stdout",
     "output_type": "stream",
     "text": [
      "\n",
      "      Epoch    GPU_mem   box_loss   cls_loss   dfl_loss  Instances       Size\n"
     ]
    },
    {
     "name": "stderr",
     "output_type": "stream",
     "text": [
      "   352/1000      6.95G     0.1467     0.1348     0.7677         52        736: 100%|██████████| 29/29 [00:04<00:00,  6.43it/s]\n"
     ]
    },
    {
     "name": "stdout",
     "output_type": "stream",
     "text": [
      "\n",
      "      Epoch    GPU_mem   box_loss   cls_loss   dfl_loss  Instances       Size\n"
     ]
    },
    {
     "name": "stderr",
     "output_type": "stream",
     "text": [
      "   353/1000      6.95G     0.1568     0.1398     0.7696         44        736: 100%|██████████| 29/29 [00:04<00:00,  6.43it/s]\n"
     ]
    },
    {
     "name": "stdout",
     "output_type": "stream",
     "text": [
      "\n",
      "      Epoch    GPU_mem   box_loss   cls_loss   dfl_loss  Instances       Size\n"
     ]
    },
    {
     "name": "stderr",
     "output_type": "stream",
     "text": [
      "   354/1000      6.95G     0.1566     0.1384     0.7651         38        736: 100%|██████████| 29/29 [00:04<00:00,  6.45it/s]\n"
     ]
    },
    {
     "name": "stdout",
     "output_type": "stream",
     "text": [
      "\n",
      "      Epoch    GPU_mem   box_loss   cls_loss   dfl_loss  Instances       Size\n"
     ]
    },
    {
     "name": "stderr",
     "output_type": "stream",
     "text": [
      "   355/1000      6.95G     0.1528     0.1376     0.7683         53        736: 100%|██████████| 29/29 [00:04<00:00,  6.43it/s]\n"
     ]
    },
    {
     "name": "stdout",
     "output_type": "stream",
     "text": [
      "\n",
      "      Epoch    GPU_mem   box_loss   cls_loss   dfl_loss  Instances       Size\n"
     ]
    },
    {
     "name": "stderr",
     "output_type": "stream",
     "text": [
      "   356/1000      6.95G     0.1554     0.1406     0.7609         46        736: 100%|██████████| 29/29 [00:04<00:00,  6.43it/s]\n"
     ]
    },
    {
     "name": "stdout",
     "output_type": "stream",
     "text": [
      "\n",
      "      Epoch    GPU_mem   box_loss   cls_loss   dfl_loss  Instances       Size\n"
     ]
    },
    {
     "name": "stderr",
     "output_type": "stream",
     "text": [
      "   357/1000      6.95G     0.1485     0.1324     0.7736         38        736: 100%|██████████| 29/29 [00:04<00:00,  6.45it/s]\n"
     ]
    },
    {
     "name": "stdout",
     "output_type": "stream",
     "text": [
      "\n",
      "      Epoch    GPU_mem   box_loss   cls_loss   dfl_loss  Instances       Size\n"
     ]
    },
    {
     "name": "stderr",
     "output_type": "stream",
     "text": [
      "   358/1000      6.95G     0.1432     0.1322     0.7634         47        736: 100%|██████████| 29/29 [00:04<00:00,  6.44it/s]\n"
     ]
    },
    {
     "name": "stdout",
     "output_type": "stream",
     "text": [
      "\n",
      "      Epoch    GPU_mem   box_loss   cls_loss   dfl_loss  Instances       Size\n"
     ]
    },
    {
     "name": "stderr",
     "output_type": "stream",
     "text": [
      "   359/1000      6.95G     0.1614     0.1402     0.7678         51        736: 100%|██████████| 29/29 [00:04<00:00,  6.43it/s]\n"
     ]
    },
    {
     "name": "stdout",
     "output_type": "stream",
     "text": [
      "\n",
      "      Epoch    GPU_mem   box_loss   cls_loss   dfl_loss  Instances       Size\n"
     ]
    },
    {
     "name": "stderr",
     "output_type": "stream",
     "text": [
      "   360/1000      6.95G      0.156     0.1335     0.7672         32        736: 100%|██████████| 29/29 [00:04<00:00,  6.43it/s]\n"
     ]
    },
    {
     "name": "stdout",
     "output_type": "stream",
     "text": [
      "\n",
      "      Epoch    GPU_mem   box_loss   cls_loss   dfl_loss  Instances       Size\n"
     ]
    },
    {
     "name": "stderr",
     "output_type": "stream",
     "text": [
      "   361/1000      6.95G     0.1504     0.1338     0.7652         52        736: 100%|██████████| 29/29 [00:04<00:00,  6.41it/s]\n"
     ]
    },
    {
     "name": "stdout",
     "output_type": "stream",
     "text": [
      "\n",
      "      Epoch    GPU_mem   box_loss   cls_loss   dfl_loss  Instances       Size\n"
     ]
    },
    {
     "name": "stderr",
     "output_type": "stream",
     "text": [
      "   362/1000      6.82G      0.145     0.1301     0.7694         52        736: 100%|██████████| 29/29 [00:04<00:00,  6.44it/s]\n"
     ]
    },
    {
     "name": "stdout",
     "output_type": "stream",
     "text": [
      "\n",
      "      Epoch    GPU_mem   box_loss   cls_loss   dfl_loss  Instances       Size\n"
     ]
    },
    {
     "name": "stderr",
     "output_type": "stream",
     "text": [
      "   363/1000      6.95G     0.1526     0.1317     0.7715         46        736: 100%|██████████| 29/29 [00:04<00:00,  6.42it/s]\n"
     ]
    },
    {
     "name": "stdout",
     "output_type": "stream",
     "text": [
      "\n",
      "      Epoch    GPU_mem   box_loss   cls_loss   dfl_loss  Instances       Size\n"
     ]
    },
    {
     "name": "stderr",
     "output_type": "stream",
     "text": [
      "   364/1000      6.95G     0.1435     0.1278     0.7641         45        736: 100%|██████████| 29/29 [00:04<00:00,  6.42it/s]\n"
     ]
    },
    {
     "name": "stdout",
     "output_type": "stream",
     "text": [
      "\n",
      "      Epoch    GPU_mem   box_loss   cls_loss   dfl_loss  Instances       Size\n"
     ]
    },
    {
     "name": "stderr",
     "output_type": "stream",
     "text": [
      "   365/1000      6.95G     0.1442     0.1286     0.7633         43        736: 100%|██████████| 29/29 [00:04<00:00,  6.43it/s]\n"
     ]
    },
    {
     "name": "stdout",
     "output_type": "stream",
     "text": [
      "\n",
      "      Epoch    GPU_mem   box_loss   cls_loss   dfl_loss  Instances       Size\n"
     ]
    },
    {
     "name": "stderr",
     "output_type": "stream",
     "text": [
      "   366/1000      6.95G     0.1455     0.1327     0.7643         48        736: 100%|██████████| 29/29 [00:04<00:00,  6.45it/s]\n"
     ]
    },
    {
     "name": "stdout",
     "output_type": "stream",
     "text": [
      "\n",
      "      Epoch    GPU_mem   box_loss   cls_loss   dfl_loss  Instances       Size\n"
     ]
    },
    {
     "name": "stderr",
     "output_type": "stream",
     "text": [
      "   367/1000      6.95G     0.1403     0.1335     0.7627         42        736: 100%|██████████| 29/29 [00:04<00:00,  6.45it/s]\n"
     ]
    },
    {
     "name": "stdout",
     "output_type": "stream",
     "text": [
      "\n",
      "      Epoch    GPU_mem   box_loss   cls_loss   dfl_loss  Instances       Size\n"
     ]
    },
    {
     "name": "stderr",
     "output_type": "stream",
     "text": [
      "   368/1000      6.82G     0.1511     0.1361     0.7686         51        736: 100%|██████████| 29/29 [00:04<00:00,  6.44it/s]\n"
     ]
    },
    {
     "name": "stdout",
     "output_type": "stream",
     "text": [
      "\n",
      "      Epoch    GPU_mem   box_loss   cls_loss   dfl_loss  Instances       Size\n"
     ]
    },
    {
     "name": "stderr",
     "output_type": "stream",
     "text": [
      "   369/1000      6.95G      0.155     0.1354     0.7683         36        736: 100%|██████████| 29/29 [00:04<00:00,  6.44it/s]\n"
     ]
    },
    {
     "name": "stdout",
     "output_type": "stream",
     "text": [
      "\n",
      "      Epoch    GPU_mem   box_loss   cls_loss   dfl_loss  Instances       Size\n"
     ]
    },
    {
     "name": "stderr",
     "output_type": "stream",
     "text": [
      "   370/1000      6.95G     0.1458     0.1313     0.7699         42        736: 100%|██████████| 29/29 [00:04<00:00,  6.44it/s]\n"
     ]
    },
    {
     "name": "stdout",
     "output_type": "stream",
     "text": [
      "\n",
      "      Epoch    GPU_mem   box_loss   cls_loss   dfl_loss  Instances       Size\n"
     ]
    },
    {
     "name": "stderr",
     "output_type": "stream",
     "text": [
      "   371/1000      6.95G     0.1519     0.1345     0.7711         44        736: 100%|██████████| 29/29 [00:04<00:00,  6.43it/s]\n"
     ]
    },
    {
     "name": "stdout",
     "output_type": "stream",
     "text": [
      "\n",
      "      Epoch    GPU_mem   box_loss   cls_loss   dfl_loss  Instances       Size\n"
     ]
    },
    {
     "name": "stderr",
     "output_type": "stream",
     "text": [
      "   372/1000         7G     0.1447     0.1318     0.7687         42        736: 100%|██████████| 29/29 [00:04<00:00,  6.42it/s]\n"
     ]
    },
    {
     "name": "stdout",
     "output_type": "stream",
     "text": [
      "\n",
      "      Epoch    GPU_mem   box_loss   cls_loss   dfl_loss  Instances       Size\n"
     ]
    },
    {
     "name": "stderr",
     "output_type": "stream",
     "text": [
      "   373/1000      6.95G     0.1416     0.1285     0.7701         38        736: 100%|██████████| 29/29 [00:04<00:00,  6.44it/s]\n"
     ]
    },
    {
     "name": "stdout",
     "output_type": "stream",
     "text": [
      "\n",
      "      Epoch    GPU_mem   box_loss   cls_loss   dfl_loss  Instances       Size\n"
     ]
    },
    {
     "name": "stderr",
     "output_type": "stream",
     "text": [
      "   374/1000      6.95G     0.1632     0.1378     0.7648         45        736: 100%|██████████| 29/29 [00:04<00:00,  6.42it/s]\n"
     ]
    },
    {
     "name": "stdout",
     "output_type": "stream",
     "text": [
      "\n",
      "      Epoch    GPU_mem   box_loss   cls_loss   dfl_loss  Instances       Size\n"
     ]
    },
    {
     "name": "stderr",
     "output_type": "stream",
     "text": [
      "   375/1000      6.95G     0.1472     0.1358     0.7673         47        736: 100%|██████████| 29/29 [00:04<00:00,  6.43it/s]\n"
     ]
    },
    {
     "name": "stdout",
     "output_type": "stream",
     "text": [
      "\n",
      "      Epoch    GPU_mem   box_loss   cls_loss   dfl_loss  Instances       Size\n"
     ]
    },
    {
     "name": "stderr",
     "output_type": "stream",
     "text": [
      "   376/1000      6.95G     0.1461      0.131      0.771         47        736: 100%|██████████| 29/29 [00:04<00:00,  6.44it/s]\n"
     ]
    },
    {
     "name": "stdout",
     "output_type": "stream",
     "text": [
      "\n",
      "      Epoch    GPU_mem   box_loss   cls_loss   dfl_loss  Instances       Size\n"
     ]
    },
    {
     "name": "stderr",
     "output_type": "stream",
     "text": [
      "   377/1000      6.95G     0.1503     0.1334     0.7628         45        736: 100%|██████████| 29/29 [00:04<00:00,  6.42it/s]\n"
     ]
    },
    {
     "name": "stdout",
     "output_type": "stream",
     "text": [
      "\n",
      "      Epoch    GPU_mem   box_loss   cls_loss   dfl_loss  Instances       Size\n"
     ]
    },
    {
     "name": "stderr",
     "output_type": "stream",
     "text": [
      "   378/1000      6.95G     0.1449     0.1308     0.7638         46        736: 100%|██████████| 29/29 [00:04<00:00,  6.46it/s]\n"
     ]
    },
    {
     "name": "stdout",
     "output_type": "stream",
     "text": [
      "\n",
      "      Epoch    GPU_mem   box_loss   cls_loss   dfl_loss  Instances       Size\n"
     ]
    },
    {
     "name": "stderr",
     "output_type": "stream",
     "text": [
      "   379/1000      6.95G     0.1413     0.1273      0.762         39        736: 100%|██████████| 29/29 [00:04<00:00,  6.45it/s]\n"
     ]
    },
    {
     "name": "stdout",
     "output_type": "stream",
     "text": [
      "\n",
      "      Epoch    GPU_mem   box_loss   cls_loss   dfl_loss  Instances       Size\n"
     ]
    },
    {
     "name": "stderr",
     "output_type": "stream",
     "text": [
      "   380/1000      6.95G     0.1484     0.1342     0.7612         40        736: 100%|██████████| 29/29 [00:04<00:00,  6.41it/s]\n"
     ]
    },
    {
     "name": "stdout",
     "output_type": "stream",
     "text": [
      "\n",
      "      Epoch    GPU_mem   box_loss   cls_loss   dfl_loss  Instances       Size\n"
     ]
    },
    {
     "name": "stderr",
     "output_type": "stream",
     "text": [
      "   381/1000      6.95G     0.1469     0.1331     0.7657         50        736: 100%|██████████| 29/29 [00:04<00:00,  6.44it/s]\n"
     ]
    },
    {
     "name": "stdout",
     "output_type": "stream",
     "text": [
      "\n",
      "      Epoch    GPU_mem   box_loss   cls_loss   dfl_loss  Instances       Size\n"
     ]
    },
    {
     "name": "stderr",
     "output_type": "stream",
     "text": [
      "   382/1000      6.95G     0.1444     0.1286     0.7684         49        736: 100%|██████████| 29/29 [00:04<00:00,  6.42it/s]\n"
     ]
    },
    {
     "name": "stdout",
     "output_type": "stream",
     "text": [
      "\n",
      "      Epoch    GPU_mem   box_loss   cls_loss   dfl_loss  Instances       Size\n"
     ]
    },
    {
     "name": "stderr",
     "output_type": "stream",
     "text": [
      "   383/1000      6.95G     0.1469     0.1323      0.767         43        736: 100%|██████████| 29/29 [00:04<00:00,  6.41it/s]\n"
     ]
    },
    {
     "name": "stdout",
     "output_type": "stream",
     "text": [
      "\n",
      "      Epoch    GPU_mem   box_loss   cls_loss   dfl_loss  Instances       Size\n"
     ]
    },
    {
     "name": "stderr",
     "output_type": "stream",
     "text": [
      "   384/1000      6.95G     0.1549     0.1338     0.7663         46        736: 100%|██████████| 29/29 [00:04<00:00,  6.46it/s]\n"
     ]
    },
    {
     "name": "stdout",
     "output_type": "stream",
     "text": [
      "\n",
      "      Epoch    GPU_mem   box_loss   cls_loss   dfl_loss  Instances       Size\n"
     ]
    },
    {
     "name": "stderr",
     "output_type": "stream",
     "text": [
      "   385/1000      6.95G     0.1576     0.1362     0.7666         43        736: 100%|██████████| 29/29 [00:04<00:00,  6.40it/s]\n"
     ]
    },
    {
     "name": "stdout",
     "output_type": "stream",
     "text": [
      "\n",
      "      Epoch    GPU_mem   box_loss   cls_loss   dfl_loss  Instances       Size\n"
     ]
    },
    {
     "name": "stderr",
     "output_type": "stream",
     "text": [
      "   386/1000      7.01G     0.1468     0.1282     0.7703         55        736: 100%|██████████| 29/29 [00:04<00:00,  6.42it/s]\n"
     ]
    },
    {
     "name": "stdout",
     "output_type": "stream",
     "text": [
      "\n",
      "      Epoch    GPU_mem   box_loss   cls_loss   dfl_loss  Instances       Size\n"
     ]
    },
    {
     "name": "stderr",
     "output_type": "stream",
     "text": [
      "   387/1000      6.95G     0.1454     0.1313     0.7675         44        736: 100%|██████████| 29/29 [00:04<00:00,  6.45it/s]\n"
     ]
    },
    {
     "name": "stdout",
     "output_type": "stream",
     "text": [
      "\n",
      "      Epoch    GPU_mem   box_loss   cls_loss   dfl_loss  Instances       Size\n"
     ]
    },
    {
     "name": "stderr",
     "output_type": "stream",
     "text": [
      "   388/1000      6.95G     0.1423     0.1297     0.7645         36        736: 100%|██████████| 29/29 [00:04<00:00,  6.42it/s]\n"
     ]
    },
    {
     "name": "stdout",
     "output_type": "stream",
     "text": [
      "\n",
      "      Epoch    GPU_mem   box_loss   cls_loss   dfl_loss  Instances       Size\n"
     ]
    },
    {
     "name": "stderr",
     "output_type": "stream",
     "text": [
      "   389/1000      6.95G     0.1418     0.1277     0.7663         50        736: 100%|██████████| 29/29 [00:04<00:00,  6.42it/s]\n"
     ]
    },
    {
     "name": "stdout",
     "output_type": "stream",
     "text": [
      "\n",
      "      Epoch    GPU_mem   box_loss   cls_loss   dfl_loss  Instances       Size\n"
     ]
    },
    {
     "name": "stderr",
     "output_type": "stream",
     "text": [
      "   390/1000      6.95G     0.1393     0.1271     0.7671         55        736: 100%|██████████| 29/29 [00:04<00:00,  6.42it/s]\n"
     ]
    },
    {
     "name": "stdout",
     "output_type": "stream",
     "text": [
      "\n",
      "      Epoch    GPU_mem   box_loss   cls_loss   dfl_loss  Instances       Size\n"
     ]
    },
    {
     "name": "stderr",
     "output_type": "stream",
     "text": [
      "   391/1000      6.95G     0.1402      0.127      0.762         43        736: 100%|██████████| 29/29 [00:04<00:00,  6.42it/s]\n"
     ]
    },
    {
     "name": "stdout",
     "output_type": "stream",
     "text": [
      "\n",
      "      Epoch    GPU_mem   box_loss   cls_loss   dfl_loss  Instances       Size\n"
     ]
    },
    {
     "name": "stderr",
     "output_type": "stream",
     "text": [
      "   392/1000      6.95G     0.1385     0.1268     0.7674         45        736: 100%|██████████| 29/29 [00:04<00:00,  6.43it/s]\n"
     ]
    },
    {
     "name": "stdout",
     "output_type": "stream",
     "text": [
      "\n",
      "      Epoch    GPU_mem   box_loss   cls_loss   dfl_loss  Instances       Size\n"
     ]
    },
    {
     "name": "stderr",
     "output_type": "stream",
     "text": [
      "   393/1000      6.95G     0.1475     0.1308     0.7738         40        736: 100%|██████████| 29/29 [00:04<00:00,  6.44it/s]\n"
     ]
    },
    {
     "name": "stdout",
     "output_type": "stream",
     "text": [
      "\n",
      "      Epoch    GPU_mem   box_loss   cls_loss   dfl_loss  Instances       Size\n"
     ]
    },
    {
     "name": "stderr",
     "output_type": "stream",
     "text": [
      "   394/1000      6.95G     0.1502     0.1317     0.7654         44        736: 100%|██████████| 29/29 [00:04<00:00,  6.43it/s]\n"
     ]
    },
    {
     "name": "stdout",
     "output_type": "stream",
     "text": [
      "\n",
      "      Epoch    GPU_mem   box_loss   cls_loss   dfl_loss  Instances       Size\n"
     ]
    },
    {
     "name": "stderr",
     "output_type": "stream",
     "text": [
      "   395/1000      6.95G     0.1407     0.1272     0.7674         49        736: 100%|██████████| 29/29 [00:04<00:00,  6.44it/s]\n"
     ]
    },
    {
     "name": "stdout",
     "output_type": "stream",
     "text": [
      "\n",
      "      Epoch    GPU_mem   box_loss   cls_loss   dfl_loss  Instances       Size\n"
     ]
    },
    {
     "name": "stderr",
     "output_type": "stream",
     "text": [
      "   396/1000      6.95G     0.1427      0.128      0.769         47        736: 100%|██████████| 29/29 [00:04<00:00,  6.43it/s]\n"
     ]
    },
    {
     "name": "stdout",
     "output_type": "stream",
     "text": [
      "\n",
      "      Epoch    GPU_mem   box_loss   cls_loss   dfl_loss  Instances       Size\n"
     ]
    },
    {
     "name": "stderr",
     "output_type": "stream",
     "text": [
      "   397/1000      6.95G     0.1407      0.125     0.7697         37        736: 100%|██████████| 29/29 [00:04<00:00,  6.45it/s]\n"
     ]
    },
    {
     "name": "stdout",
     "output_type": "stream",
     "text": [
      "\n",
      "      Epoch    GPU_mem   box_loss   cls_loss   dfl_loss  Instances       Size\n"
     ]
    },
    {
     "name": "stderr",
     "output_type": "stream",
     "text": [
      "   398/1000      6.95G     0.1382     0.1266     0.7672         45        736: 100%|██████████| 29/29 [00:04<00:00,  6.44it/s]\n"
     ]
    },
    {
     "name": "stdout",
     "output_type": "stream",
     "text": [
      "\n",
      "      Epoch    GPU_mem   box_loss   cls_loss   dfl_loss  Instances       Size\n"
     ]
    },
    {
     "name": "stderr",
     "output_type": "stream",
     "text": [
      "   399/1000      6.95G     0.1384     0.1314     0.7592         55        736: 100%|██████████| 29/29 [00:04<00:00,  6.43it/s]\n"
     ]
    },
    {
     "name": "stdout",
     "output_type": "stream",
     "text": [
      "\n",
      "      Epoch    GPU_mem   box_loss   cls_loss   dfl_loss  Instances       Size\n"
     ]
    },
    {
     "name": "stderr",
     "output_type": "stream",
     "text": [
      "   400/1000      6.95G     0.1451     0.1303     0.7637         44        736: 100%|██████████| 29/29 [00:04<00:00,  6.44it/s]\n"
     ]
    },
    {
     "name": "stdout",
     "output_type": "stream",
     "text": [
      "\n",
      "      Epoch    GPU_mem   box_loss   cls_loss   dfl_loss  Instances       Size\n"
     ]
    },
    {
     "name": "stderr",
     "output_type": "stream",
     "text": [
      "   401/1000      6.95G     0.1374     0.1284      0.768         44        736: 100%|██████████| 29/29 [00:04<00:00,  6.42it/s]\n"
     ]
    },
    {
     "name": "stdout",
     "output_type": "stream",
     "text": [
      "\n",
      "      Epoch    GPU_mem   box_loss   cls_loss   dfl_loss  Instances       Size\n"
     ]
    },
    {
     "name": "stderr",
     "output_type": "stream",
     "text": [
      "   402/1000      6.95G     0.1406     0.1302     0.7649         40        736: 100%|██████████| 29/29 [00:04<00:00,  6.44it/s]\n"
     ]
    },
    {
     "name": "stdout",
     "output_type": "stream",
     "text": [
      "\n",
      "      Epoch    GPU_mem   box_loss   cls_loss   dfl_loss  Instances       Size\n"
     ]
    },
    {
     "name": "stderr",
     "output_type": "stream",
     "text": [
      "   403/1000      6.95G     0.1459     0.1331     0.7748         42        736: 100%|██████████| 29/29 [00:04<00:00,  6.44it/s]\n"
     ]
    },
    {
     "name": "stdout",
     "output_type": "stream",
     "text": [
      "\n",
      "      Epoch    GPU_mem   box_loss   cls_loss   dfl_loss  Instances       Size\n"
     ]
    },
    {
     "name": "stderr",
     "output_type": "stream",
     "text": [
      "   404/1000      6.82G     0.1442     0.1323     0.7646         43        736: 100%|██████████| 29/29 [00:04<00:00,  6.40it/s]\n"
     ]
    },
    {
     "name": "stdout",
     "output_type": "stream",
     "text": [
      "\n",
      "      Epoch    GPU_mem   box_loss   cls_loss   dfl_loss  Instances       Size\n"
     ]
    },
    {
     "name": "stderr",
     "output_type": "stream",
     "text": [
      "   405/1000      6.95G     0.1441     0.1312     0.7662         40        736: 100%|██████████| 29/29 [00:04<00:00,  6.43it/s]\n"
     ]
    },
    {
     "name": "stdout",
     "output_type": "stream",
     "text": [
      "\n",
      "      Epoch    GPU_mem   box_loss   cls_loss   dfl_loss  Instances       Size\n"
     ]
    },
    {
     "name": "stderr",
     "output_type": "stream",
     "text": [
      "   406/1000      6.95G     0.1389     0.1272      0.768         42        736: 100%|██████████| 29/29 [00:04<00:00,  6.45it/s]\n"
     ]
    },
    {
     "name": "stdout",
     "output_type": "stream",
     "text": [
      "\n",
      "      Epoch    GPU_mem   box_loss   cls_loss   dfl_loss  Instances       Size\n"
     ]
    },
    {
     "name": "stderr",
     "output_type": "stream",
     "text": [
      "   407/1000      6.95G     0.1411     0.1257     0.7671         45        736: 100%|██████████| 29/29 [00:04<00:00,  6.41it/s]\n"
     ]
    },
    {
     "name": "stdout",
     "output_type": "stream",
     "text": [
      "\n",
      "      Epoch    GPU_mem   box_loss   cls_loss   dfl_loss  Instances       Size\n"
     ]
    },
    {
     "name": "stderr",
     "output_type": "stream",
     "text": [
      "   408/1000         7G     0.1474     0.1291     0.7645         44        736: 100%|██████████| 29/29 [00:04<00:00,  6.43it/s]\n"
     ]
    },
    {
     "name": "stdout",
     "output_type": "stream",
     "text": [
      "\n",
      "      Epoch    GPU_mem   box_loss   cls_loss   dfl_loss  Instances       Size\n"
     ]
    },
    {
     "name": "stderr",
     "output_type": "stream",
     "text": [
      "   409/1000      6.95G     0.1456     0.1287     0.7599         47        736: 100%|██████████| 29/29 [00:04<00:00,  6.44it/s]\n"
     ]
    },
    {
     "name": "stdout",
     "output_type": "stream",
     "text": [
      "\n",
      "      Epoch    GPU_mem   box_loss   cls_loss   dfl_loss  Instances       Size\n"
     ]
    },
    {
     "name": "stderr",
     "output_type": "stream",
     "text": [
      "   410/1000      6.95G      0.137     0.1256     0.7636         38        736: 100%|██████████| 29/29 [00:04<00:00,  6.40it/s]\n"
     ]
    },
    {
     "name": "stdout",
     "output_type": "stream",
     "text": [
      "\n",
      "      Epoch    GPU_mem   box_loss   cls_loss   dfl_loss  Instances       Size\n"
     ]
    },
    {
     "name": "stderr",
     "output_type": "stream",
     "text": [
      "   411/1000      6.95G     0.1377     0.1273     0.7635         38        736: 100%|██████████| 29/29 [00:04<00:00,  6.45it/s]\n"
     ]
    },
    {
     "name": "stdout",
     "output_type": "stream",
     "text": [
      "\n",
      "      Epoch    GPU_mem   box_loss   cls_loss   dfl_loss  Instances       Size\n"
     ]
    },
    {
     "name": "stderr",
     "output_type": "stream",
     "text": [
      "   412/1000      6.95G     0.1519     0.1261     0.7722         45        736: 100%|██████████| 29/29 [00:04<00:00,  6.43it/s]\n"
     ]
    },
    {
     "name": "stdout",
     "output_type": "stream",
     "text": [
      "\n",
      "      Epoch    GPU_mem   box_loss   cls_loss   dfl_loss  Instances       Size\n"
     ]
    },
    {
     "name": "stderr",
     "output_type": "stream",
     "text": [
      "   413/1000      6.95G     0.1354     0.1225     0.7682         43        736: 100%|██████████| 29/29 [00:04<00:00,  6.41it/s]\n"
     ]
    },
    {
     "name": "stdout",
     "output_type": "stream",
     "text": [
      "\n",
      "      Epoch    GPU_mem   box_loss   cls_loss   dfl_loss  Instances       Size\n"
     ]
    },
    {
     "name": "stderr",
     "output_type": "stream",
     "text": [
      "   414/1000      6.95G     0.1379      0.124     0.7649         40        736: 100%|██████████| 29/29 [00:04<00:00,  6.45it/s]\n"
     ]
    },
    {
     "name": "stdout",
     "output_type": "stream",
     "text": [
      "\n",
      "      Epoch    GPU_mem   box_loss   cls_loss   dfl_loss  Instances       Size\n"
     ]
    },
    {
     "name": "stderr",
     "output_type": "stream",
     "text": [
      "   415/1000      6.95G     0.1336     0.1236     0.7623         49        736: 100%|██████████| 29/29 [00:04<00:00,  6.43it/s]\n"
     ]
    },
    {
     "name": "stdout",
     "output_type": "stream",
     "text": [
      "\n",
      "      Epoch    GPU_mem   box_loss   cls_loss   dfl_loss  Instances       Size\n"
     ]
    },
    {
     "name": "stderr",
     "output_type": "stream",
     "text": [
      "   416/1000      6.95G     0.1378     0.1268     0.7632         50        736: 100%|██████████| 29/29 [00:04<00:00,  6.44it/s]\n"
     ]
    },
    {
     "name": "stdout",
     "output_type": "stream",
     "text": [
      "\n",
      "      Epoch    GPU_mem   box_loss   cls_loss   dfl_loss  Instances       Size\n"
     ]
    },
    {
     "name": "stderr",
     "output_type": "stream",
     "text": [
      "   417/1000      6.95G     0.1399     0.1241     0.7681         42        736: 100%|██████████| 29/29 [00:04<00:00,  6.43it/s]\n"
     ]
    },
    {
     "name": "stdout",
     "output_type": "stream",
     "text": [
      "\n",
      "      Epoch    GPU_mem   box_loss   cls_loss   dfl_loss  Instances       Size\n"
     ]
    },
    {
     "name": "stderr",
     "output_type": "stream",
     "text": [
      "   418/1000      6.95G     0.1393     0.1215     0.7621         45        736: 100%|██████████| 29/29 [00:04<00:00,  6.44it/s]\n"
     ]
    },
    {
     "name": "stdout",
     "output_type": "stream",
     "text": [
      "\n",
      "      Epoch    GPU_mem   box_loss   cls_loss   dfl_loss  Instances       Size\n"
     ]
    },
    {
     "name": "stderr",
     "output_type": "stream",
     "text": [
      "   419/1000      6.82G     0.1437     0.1267     0.7639         48        736: 100%|██████████| 29/29 [00:04<00:00,  6.44it/s]\n"
     ]
    },
    {
     "name": "stdout",
     "output_type": "stream",
     "text": [
      "\n",
      "      Epoch    GPU_mem   box_loss   cls_loss   dfl_loss  Instances       Size\n"
     ]
    },
    {
     "name": "stderr",
     "output_type": "stream",
     "text": [
      "   420/1000      6.95G     0.1401     0.1261     0.7716         39        736: 100%|██████████| 29/29 [00:04<00:00,  6.43it/s]\n"
     ]
    },
    {
     "name": "stdout",
     "output_type": "stream",
     "text": [
      "\n",
      "      Epoch    GPU_mem   box_loss   cls_loss   dfl_loss  Instances       Size\n"
     ]
    },
    {
     "name": "stderr",
     "output_type": "stream",
     "text": [
      "   421/1000      6.95G     0.1398     0.1259     0.7627         43        736: 100%|██████████| 29/29 [00:04<00:00,  6.44it/s]\n"
     ]
    },
    {
     "name": "stdout",
     "output_type": "stream",
     "text": [
      "\n",
      "      Epoch    GPU_mem   box_loss   cls_loss   dfl_loss  Instances       Size\n"
     ]
    },
    {
     "name": "stderr",
     "output_type": "stream",
     "text": [
      "   422/1000      6.82G     0.1419     0.1226     0.7705         37        736: 100%|██████████| 29/29 [00:04<00:00,  6.42it/s]\n"
     ]
    },
    {
     "name": "stdout",
     "output_type": "stream",
     "text": [
      "\n",
      "      Epoch    GPU_mem   box_loss   cls_loss   dfl_loss  Instances       Size\n"
     ]
    },
    {
     "name": "stderr",
     "output_type": "stream",
     "text": [
      "   423/1000      6.82G     0.1387     0.1225     0.7646         44        736: 100%|██████████| 29/29 [00:04<00:00,  6.43it/s]\n"
     ]
    },
    {
     "name": "stdout",
     "output_type": "stream",
     "text": [
      "\n",
      "      Epoch    GPU_mem   box_loss   cls_loss   dfl_loss  Instances       Size\n"
     ]
    },
    {
     "name": "stderr",
     "output_type": "stream",
     "text": [
      "   424/1000      6.95G     0.1324     0.1231      0.768         47        736: 100%|██████████| 29/29 [00:04<00:00,  6.43it/s]\n"
     ]
    },
    {
     "name": "stdout",
     "output_type": "stream",
     "text": [
      "\n",
      "      Epoch    GPU_mem   box_loss   cls_loss   dfl_loss  Instances       Size\n"
     ]
    },
    {
     "name": "stderr",
     "output_type": "stream",
     "text": [
      "   425/1000      6.95G     0.1401      0.126     0.7616         43        736: 100%|██████████| 29/29 [00:04<00:00,  6.44it/s]\n"
     ]
    },
    {
     "name": "stdout",
     "output_type": "stream",
     "text": [
      "\n",
      "      Epoch    GPU_mem   box_loss   cls_loss   dfl_loss  Instances       Size\n"
     ]
    },
    {
     "name": "stderr",
     "output_type": "stream",
     "text": [
      "   426/1000      6.95G     0.1423     0.1271     0.7719         42        736: 100%|██████████| 29/29 [00:04<00:00,  6.43it/s]\n"
     ]
    },
    {
     "name": "stdout",
     "output_type": "stream",
     "text": [
      "\n",
      "      Epoch    GPU_mem   box_loss   cls_loss   dfl_loss  Instances       Size\n"
     ]
    },
    {
     "name": "stderr",
     "output_type": "stream",
     "text": [
      "   427/1000      6.95G     0.1371     0.1236     0.7582         49        736: 100%|██████████| 29/29 [00:04<00:00,  6.44it/s]\n"
     ]
    },
    {
     "name": "stdout",
     "output_type": "stream",
     "text": [
      "\n",
      "      Epoch    GPU_mem   box_loss   cls_loss   dfl_loss  Instances       Size\n"
     ]
    },
    {
     "name": "stderr",
     "output_type": "stream",
     "text": [
      "   428/1000      6.95G     0.1351     0.1228     0.7635         41        736: 100%|██████████| 29/29 [00:04<00:00,  6.42it/s]\n"
     ]
    },
    {
     "name": "stdout",
     "output_type": "stream",
     "text": [
      "\n",
      "      Epoch    GPU_mem   box_loss   cls_loss   dfl_loss  Instances       Size\n"
     ]
    },
    {
     "name": "stderr",
     "output_type": "stream",
     "text": [
      "   429/1000      6.82G     0.1386     0.1256     0.7603         42        736: 100%|██████████| 29/29 [00:04<00:00,  6.43it/s]\n"
     ]
    },
    {
     "name": "stdout",
     "output_type": "stream",
     "text": [
      "\n",
      "      Epoch    GPU_mem   box_loss   cls_loss   dfl_loss  Instances       Size\n"
     ]
    },
    {
     "name": "stderr",
     "output_type": "stream",
     "text": [
      "   430/1000      6.95G     0.1418      0.128     0.7719         54        736: 100%|██████████| 29/29 [00:04<00:00,  6.44it/s]\n"
     ]
    },
    {
     "name": "stdout",
     "output_type": "stream",
     "text": [
      "\n",
      "      Epoch    GPU_mem   box_loss   cls_loss   dfl_loss  Instances       Size\n"
     ]
    },
    {
     "name": "stderr",
     "output_type": "stream",
     "text": [
      "   431/1000      6.95G     0.1405      0.128      0.771         46        736: 100%|██████████| 29/29 [00:04<00:00,  6.40it/s]\n"
     ]
    },
    {
     "name": "stdout",
     "output_type": "stream",
     "text": [
      "\n",
      "      Epoch    GPU_mem   box_loss   cls_loss   dfl_loss  Instances       Size\n"
     ]
    },
    {
     "name": "stderr",
     "output_type": "stream",
     "text": [
      "   432/1000      6.95G      0.136     0.1231     0.7663         49        736: 100%|██████████| 29/29 [00:04<00:00,  6.44it/s]\n"
     ]
    },
    {
     "name": "stdout",
     "output_type": "stream",
     "text": [
      "\n",
      "      Epoch    GPU_mem   box_loss   cls_loss   dfl_loss  Instances       Size\n"
     ]
    },
    {
     "name": "stderr",
     "output_type": "stream",
     "text": [
      "   433/1000      6.95G     0.1316     0.1208     0.7623         48        736: 100%|██████████| 29/29 [00:04<00:00,  6.43it/s]\n"
     ]
    },
    {
     "name": "stdout",
     "output_type": "stream",
     "text": [
      "\n",
      "      Epoch    GPU_mem   box_loss   cls_loss   dfl_loss  Instances       Size\n"
     ]
    },
    {
     "name": "stderr",
     "output_type": "stream",
     "text": [
      "   434/1000      6.95G     0.1349     0.1231      0.763         49        736: 100%|██████████| 29/29 [00:04<00:00,  6.42it/s]\n"
     ]
    },
    {
     "name": "stdout",
     "output_type": "stream",
     "text": [
      "\n",
      "      Epoch    GPU_mem   box_loss   cls_loss   dfl_loss  Instances       Size\n"
     ]
    },
    {
     "name": "stderr",
     "output_type": "stream",
     "text": [
      "   435/1000      6.95G     0.1308     0.1238     0.7625         50        736: 100%|██████████| 29/29 [00:04<00:00,  6.47it/s]\n"
     ]
    },
    {
     "name": "stdout",
     "output_type": "stream",
     "text": [
      "\n",
      "      Epoch    GPU_mem   box_loss   cls_loss   dfl_loss  Instances       Size\n"
     ]
    },
    {
     "name": "stderr",
     "output_type": "stream",
     "text": [
      "   436/1000      6.95G     0.1321     0.1248     0.7681         40        736: 100%|██████████| 29/29 [00:04<00:00,  6.44it/s]\n"
     ]
    },
    {
     "name": "stdout",
     "output_type": "stream",
     "text": [
      "\n",
      "      Epoch    GPU_mem   box_loss   cls_loss   dfl_loss  Instances       Size\n"
     ]
    },
    {
     "name": "stderr",
     "output_type": "stream",
     "text": [
      "   437/1000      6.95G     0.1353     0.1239     0.7673         45        736: 100%|██████████| 29/29 [00:04<00:00,  6.40it/s]\n"
     ]
    },
    {
     "name": "stdout",
     "output_type": "stream",
     "text": [
      "\n",
      "      Epoch    GPU_mem   box_loss   cls_loss   dfl_loss  Instances       Size\n"
     ]
    },
    {
     "name": "stderr",
     "output_type": "stream",
     "text": [
      "   438/1000      6.95G     0.1431     0.1274     0.7707         38        736: 100%|██████████| 29/29 [00:04<00:00,  6.46it/s]\n"
     ]
    },
    {
     "name": "stdout",
     "output_type": "stream",
     "text": [
      "\n",
      "      Epoch    GPU_mem   box_loss   cls_loss   dfl_loss  Instances       Size\n"
     ]
    },
    {
     "name": "stderr",
     "output_type": "stream",
     "text": [
      "   439/1000      6.95G     0.1317     0.1199     0.7697         50        736: 100%|██████████| 29/29 [00:04<00:00,  6.43it/s]\n"
     ]
    },
    {
     "name": "stdout",
     "output_type": "stream",
     "text": [
      "\n",
      "      Epoch    GPU_mem   box_loss   cls_loss   dfl_loss  Instances       Size\n"
     ]
    },
    {
     "name": "stderr",
     "output_type": "stream",
     "text": [
      "   440/1000      6.95G     0.1295     0.1211      0.764         45        736: 100%|██████████| 29/29 [00:04<00:00,  6.42it/s]\n"
     ]
    },
    {
     "name": "stdout",
     "output_type": "stream",
     "text": [
      "\n",
      "      Epoch    GPU_mem   box_loss   cls_loss   dfl_loss  Instances       Size\n"
     ]
    },
    {
     "name": "stderr",
     "output_type": "stream",
     "text": [
      "   441/1000      6.95G     0.1352     0.1212     0.7647         51        736: 100%|██████████| 29/29 [00:04<00:00,  6.43it/s]\n"
     ]
    },
    {
     "name": "stdout",
     "output_type": "stream",
     "text": [
      "\n",
      "      Epoch    GPU_mem   box_loss   cls_loss   dfl_loss  Instances       Size\n"
     ]
    },
    {
     "name": "stderr",
     "output_type": "stream",
     "text": [
      "   442/1000      6.95G      0.136     0.1227     0.7639         43        736: 100%|██████████| 29/29 [00:04<00:00,  6.42it/s]\n"
     ]
    },
    {
     "name": "stdout",
     "output_type": "stream",
     "text": [
      "\n",
      "      Epoch    GPU_mem   box_loss   cls_loss   dfl_loss  Instances       Size\n"
     ]
    },
    {
     "name": "stderr",
     "output_type": "stream",
     "text": [
      "   443/1000      6.95G     0.1381     0.1238     0.7636         37        736: 100%|██████████| 29/29 [00:04<00:00,  6.42it/s]\n"
     ]
    },
    {
     "name": "stdout",
     "output_type": "stream",
     "text": [
      "\n",
      "      Epoch    GPU_mem   box_loss   cls_loss   dfl_loss  Instances       Size\n"
     ]
    },
    {
     "name": "stderr",
     "output_type": "stream",
     "text": [
      "   444/1000      6.95G     0.1333     0.1196     0.7704         52        736: 100%|██████████| 29/29 [00:04<00:00,  6.42it/s]\n"
     ]
    },
    {
     "name": "stdout",
     "output_type": "stream",
     "text": [
      "\n",
      "      Epoch    GPU_mem   box_loss   cls_loss   dfl_loss  Instances       Size\n"
     ]
    },
    {
     "name": "stderr",
     "output_type": "stream",
     "text": [
      "   445/1000      6.95G     0.1373     0.1216     0.7612         43        736: 100%|██████████| 29/29 [00:04<00:00,  6.42it/s]\n"
     ]
    },
    {
     "name": "stdout",
     "output_type": "stream",
     "text": [
      "\n",
      "      Epoch    GPU_mem   box_loss   cls_loss   dfl_loss  Instances       Size\n"
     ]
    },
    {
     "name": "stderr",
     "output_type": "stream",
     "text": [
      "   446/1000      6.95G     0.1387     0.1236     0.7676         41        736: 100%|██████████| 29/29 [00:04<00:00,  6.44it/s]\n"
     ]
    },
    {
     "name": "stdout",
     "output_type": "stream",
     "text": [
      "\n",
      "      Epoch    GPU_mem   box_loss   cls_loss   dfl_loss  Instances       Size\n"
     ]
    },
    {
     "name": "stderr",
     "output_type": "stream",
     "text": [
      "   447/1000      6.95G      0.138     0.1299     0.7591         47        736: 100%|██████████| 29/29 [00:04<00:00,  6.43it/s]\n"
     ]
    },
    {
     "name": "stdout",
     "output_type": "stream",
     "text": [
      "\n",
      "      Epoch    GPU_mem   box_loss   cls_loss   dfl_loss  Instances       Size\n"
     ]
    },
    {
     "name": "stderr",
     "output_type": "stream",
     "text": [
      "   448/1000      6.95G     0.1435     0.1298     0.7707         41        736: 100%|██████████| 29/29 [00:04<00:00,  6.44it/s]\n"
     ]
    },
    {
     "name": "stdout",
     "output_type": "stream",
     "text": [
      "\n",
      "      Epoch    GPU_mem   box_loss   cls_loss   dfl_loss  Instances       Size\n"
     ]
    },
    {
     "name": "stderr",
     "output_type": "stream",
     "text": [
      "   449/1000      6.82G     0.1347     0.1259     0.7686         49        736: 100%|██████████| 29/29 [00:04<00:00,  6.43it/s]\n"
     ]
    },
    {
     "name": "stdout",
     "output_type": "stream",
     "text": [
      "\n",
      "      Epoch    GPU_mem   box_loss   cls_loss   dfl_loss  Instances       Size\n"
     ]
    },
    {
     "name": "stderr",
     "output_type": "stream",
     "text": [
      "   450/1000      6.95G     0.1313     0.1199     0.7629         37        736: 100%|██████████| 29/29 [00:04<00:00,  6.43it/s]\n"
     ]
    },
    {
     "name": "stdout",
     "output_type": "stream",
     "text": [
      "\n",
      "      Epoch    GPU_mem   box_loss   cls_loss   dfl_loss  Instances       Size\n"
     ]
    },
    {
     "name": "stderr",
     "output_type": "stream",
     "text": [
      "   451/1000      6.82G     0.1343      0.125     0.7645         41        736: 100%|██████████| 29/29 [00:04<00:00,  6.43it/s]\n"
     ]
    },
    {
     "name": "stdout",
     "output_type": "stream",
     "text": [
      "\n",
      "      Epoch    GPU_mem   box_loss   cls_loss   dfl_loss  Instances       Size\n"
     ]
    },
    {
     "name": "stderr",
     "output_type": "stream",
     "text": [
      "   452/1000      6.95G     0.1295     0.1196     0.7684         45        736: 100%|██████████| 29/29 [00:04<00:00,  6.43it/s]\n"
     ]
    },
    {
     "name": "stdout",
     "output_type": "stream",
     "text": [
      "\n",
      "      Epoch    GPU_mem   box_loss   cls_loss   dfl_loss  Instances       Size\n"
     ]
    },
    {
     "name": "stderr",
     "output_type": "stream",
     "text": [
      "   453/1000      6.95G     0.1266     0.1168     0.7693         45        736: 100%|██████████| 29/29 [00:04<00:00,  6.41it/s]\n"
     ]
    },
    {
     "name": "stdout",
     "output_type": "stream",
     "text": [
      "\n",
      "      Epoch    GPU_mem   box_loss   cls_loss   dfl_loss  Instances       Size\n"
     ]
    },
    {
     "name": "stderr",
     "output_type": "stream",
     "text": [
      "   454/1000      6.95G     0.1295      0.119     0.7665         45        736: 100%|██████████| 29/29 [00:04<00:00,  6.44it/s]\n"
     ]
    },
    {
     "name": "stdout",
     "output_type": "stream",
     "text": [
      "\n",
      "      Epoch    GPU_mem   box_loss   cls_loss   dfl_loss  Instances       Size\n"
     ]
    },
    {
     "name": "stderr",
     "output_type": "stream",
     "text": [
      "   455/1000      6.95G     0.1363     0.1237      0.772         46        736: 100%|██████████| 29/29 [00:04<00:00,  6.41it/s]\n"
     ]
    },
    {
     "name": "stdout",
     "output_type": "stream",
     "text": [
      "\n",
      "      Epoch    GPU_mem   box_loss   cls_loss   dfl_loss  Instances       Size\n"
     ]
    },
    {
     "name": "stderr",
     "output_type": "stream",
     "text": [
      "   456/1000      6.95G     0.1371     0.1208     0.7615         44        736: 100%|██████████| 29/29 [00:04<00:00,  6.42it/s]\n"
     ]
    },
    {
     "name": "stdout",
     "output_type": "stream",
     "text": [
      "\n",
      "      Epoch    GPU_mem   box_loss   cls_loss   dfl_loss  Instances       Size\n"
     ]
    },
    {
     "name": "stderr",
     "output_type": "stream",
     "text": [
      "   457/1000      6.95G     0.1267      0.117     0.7698         44        736: 100%|██████████| 29/29 [00:04<00:00,  6.44it/s]\n"
     ]
    },
    {
     "name": "stdout",
     "output_type": "stream",
     "text": [
      "\n",
      "      Epoch    GPU_mem   box_loss   cls_loss   dfl_loss  Instances       Size\n"
     ]
    },
    {
     "name": "stderr",
     "output_type": "stream",
     "text": [
      "   458/1000      6.82G      0.132     0.1178     0.7656         47        736: 100%|██████████| 29/29 [00:04<00:00,  6.43it/s]\n"
     ]
    },
    {
     "name": "stdout",
     "output_type": "stream",
     "text": [
      "\n",
      "      Epoch    GPU_mem   box_loss   cls_loss   dfl_loss  Instances       Size\n"
     ]
    },
    {
     "name": "stderr",
     "output_type": "stream",
     "text": [
      "   459/1000      6.95G     0.1327     0.1193     0.7583         45        736: 100%|██████████| 29/29 [00:04<00:00,  6.42it/s]\n"
     ]
    },
    {
     "name": "stdout",
     "output_type": "stream",
     "text": [
      "\n",
      "      Epoch    GPU_mem   box_loss   cls_loss   dfl_loss  Instances       Size\n"
     ]
    },
    {
     "name": "stderr",
     "output_type": "stream",
     "text": [
      "   460/1000      6.95G     0.1346     0.1204      0.763         45        736: 100%|██████████| 29/29 [00:04<00:00,  6.44it/s]\n"
     ]
    },
    {
     "name": "stdout",
     "output_type": "stream",
     "text": [
      "\n",
      "      Epoch    GPU_mem   box_loss   cls_loss   dfl_loss  Instances       Size\n"
     ]
    },
    {
     "name": "stderr",
     "output_type": "stream",
     "text": [
      "   461/1000      6.95G     0.1345     0.1195     0.7675         44        736: 100%|██████████| 29/29 [00:04<00:00,  6.41it/s]\n"
     ]
    },
    {
     "name": "stdout",
     "output_type": "stream",
     "text": [
      "\n",
      "      Epoch    GPU_mem   box_loss   cls_loss   dfl_loss  Instances       Size\n"
     ]
    },
    {
     "name": "stderr",
     "output_type": "stream",
     "text": [
      "   462/1000      6.95G     0.1353     0.1218     0.7772         44        736: 100%|██████████| 29/29 [00:04<00:00,  6.45it/s]\n"
     ]
    },
    {
     "name": "stdout",
     "output_type": "stream",
     "text": [
      "\n",
      "      Epoch    GPU_mem   box_loss   cls_loss   dfl_loss  Instances       Size\n"
     ]
    },
    {
     "name": "stderr",
     "output_type": "stream",
     "text": [
      "   463/1000      6.95G     0.1301     0.1213     0.7582         54        736: 100%|██████████| 29/29 [00:04<00:00,  6.43it/s]\n"
     ]
    },
    {
     "name": "stdout",
     "output_type": "stream",
     "text": [
      "\n",
      "      Epoch    GPU_mem   box_loss   cls_loss   dfl_loss  Instances       Size\n"
     ]
    },
    {
     "name": "stderr",
     "output_type": "stream",
     "text": [
      "   464/1000      6.95G     0.1364     0.1234     0.7578         45        736: 100%|██████████| 29/29 [00:04<00:00,  6.41it/s]\n"
     ]
    },
    {
     "name": "stdout",
     "output_type": "stream",
     "text": [
      "\n",
      "      Epoch    GPU_mem   box_loss   cls_loss   dfl_loss  Instances       Size\n"
     ]
    },
    {
     "name": "stderr",
     "output_type": "stream",
     "text": [
      "   465/1000         7G     0.1404     0.1245     0.7652         47        736: 100%|██████████| 29/29 [00:04<00:00,  6.45it/s]\n"
     ]
    },
    {
     "name": "stdout",
     "output_type": "stream",
     "text": [
      "\n",
      "      Epoch    GPU_mem   box_loss   cls_loss   dfl_loss  Instances       Size\n"
     ]
    },
    {
     "name": "stderr",
     "output_type": "stream",
     "text": [
      "   466/1000      6.95G     0.1463     0.1258      0.764         40        736: 100%|██████████| 29/29 [00:04<00:00,  6.43it/s]\n"
     ]
    },
    {
     "name": "stdout",
     "output_type": "stream",
     "text": [
      "\n",
      "      Epoch    GPU_mem   box_loss   cls_loss   dfl_loss  Instances       Size\n"
     ]
    },
    {
     "name": "stderr",
     "output_type": "stream",
     "text": [
      "   467/1000      6.95G     0.1284     0.1178      0.767         49        736: 100%|██████████| 29/29 [00:04<00:00,  6.42it/s]\n"
     ]
    },
    {
     "name": "stdout",
     "output_type": "stream",
     "text": [
      "\n",
      "      Epoch    GPU_mem   box_loss   cls_loss   dfl_loss  Instances       Size\n"
     ]
    },
    {
     "name": "stderr",
     "output_type": "stream",
     "text": [
      "   468/1000      6.95G     0.1339     0.1214     0.7644         38        736: 100%|██████████| 29/29 [00:04<00:00,  6.45it/s]\n"
     ]
    },
    {
     "name": "stdout",
     "output_type": "stream",
     "text": [
      "\n",
      "      Epoch    GPU_mem   box_loss   cls_loss   dfl_loss  Instances       Size\n"
     ]
    },
    {
     "name": "stderr",
     "output_type": "stream",
     "text": [
      "   469/1000      6.95G      0.134     0.1205     0.7624         32        736: 100%|██████████| 29/29 [00:04<00:00,  6.43it/s]\n"
     ]
    },
    {
     "name": "stdout",
     "output_type": "stream",
     "text": [
      "\n",
      "      Epoch    GPU_mem   box_loss   cls_loss   dfl_loss  Instances       Size\n"
     ]
    },
    {
     "name": "stderr",
     "output_type": "stream",
     "text": [
      "   470/1000      6.95G      0.128     0.1177     0.7684         44        736: 100%|██████████| 29/29 [00:04<00:00,  6.43it/s]\n"
     ]
    },
    {
     "name": "stdout",
     "output_type": "stream",
     "text": [
      "\n",
      "      Epoch    GPU_mem   box_loss   cls_loss   dfl_loss  Instances       Size\n"
     ]
    },
    {
     "name": "stderr",
     "output_type": "stream",
     "text": [
      "   471/1000      6.95G      0.127      0.116     0.7716         47        736: 100%|██████████| 29/29 [00:04<00:00,  6.44it/s]\n"
     ]
    },
    {
     "name": "stdout",
     "output_type": "stream",
     "text": [
      "\n",
      "      Epoch    GPU_mem   box_loss   cls_loss   dfl_loss  Instances       Size\n"
     ]
    },
    {
     "name": "stderr",
     "output_type": "stream",
     "text": [
      "   472/1000      6.95G     0.1272     0.1175     0.7704         42        736: 100%|██████████| 29/29 [00:04<00:00,  6.42it/s]\n"
     ]
    },
    {
     "name": "stdout",
     "output_type": "stream",
     "text": [
      "\n",
      "      Epoch    GPU_mem   box_loss   cls_loss   dfl_loss  Instances       Size\n"
     ]
    },
    {
     "name": "stderr",
     "output_type": "stream",
     "text": [
      "   473/1000      6.82G     0.1287     0.1155     0.7681         43        736: 100%|██████████| 29/29 [00:04<00:00,  6.44it/s]\n"
     ]
    },
    {
     "name": "stdout",
     "output_type": "stream",
     "text": [
      "\n",
      "      Epoch    GPU_mem   box_loss   cls_loss   dfl_loss  Instances       Size\n"
     ]
    },
    {
     "name": "stderr",
     "output_type": "stream",
     "text": [
      "   474/1000      6.95G     0.1268     0.1181     0.7654         38        736: 100%|██████████| 29/29 [00:04<00:00,  6.43it/s]\n"
     ]
    },
    {
     "name": "stdout",
     "output_type": "stream",
     "text": [
      "\n",
      "      Epoch    GPU_mem   box_loss   cls_loss   dfl_loss  Instances       Size\n"
     ]
    },
    {
     "name": "stderr",
     "output_type": "stream",
     "text": [
      "   475/1000      6.95G     0.1254     0.1154     0.7655         34        736: 100%|██████████| 29/29 [00:04<00:00,  6.42it/s]\n"
     ]
    },
    {
     "name": "stdout",
     "output_type": "stream",
     "text": [
      "\n",
      "      Epoch    GPU_mem   box_loss   cls_loss   dfl_loss  Instances       Size\n"
     ]
    },
    {
     "name": "stderr",
     "output_type": "stream",
     "text": [
      "   476/1000      6.95G     0.1336       0.12     0.7667         43        736: 100%|██████████| 29/29 [00:04<00:00,  6.43it/s]\n"
     ]
    },
    {
     "name": "stdout",
     "output_type": "stream",
     "text": [
      "\n",
      "      Epoch    GPU_mem   box_loss   cls_loss   dfl_loss  Instances       Size\n"
     ]
    },
    {
     "name": "stderr",
     "output_type": "stream",
     "text": [
      "   477/1000      6.95G      0.144      0.123     0.7682         51        736: 100%|██████████| 29/29 [00:04<00:00,  6.43it/s]\n"
     ]
    },
    {
     "name": "stdout",
     "output_type": "stream",
     "text": [
      "\n",
      "      Epoch    GPU_mem   box_loss   cls_loss   dfl_loss  Instances       Size\n"
     ]
    },
    {
     "name": "stderr",
     "output_type": "stream",
     "text": [
      "   478/1000      6.95G     0.1306     0.1184     0.7648         39        736: 100%|██████████| 29/29 [00:04<00:00,  6.41it/s]\n"
     ]
    },
    {
     "name": "stdout",
     "output_type": "stream",
     "text": [
      "\n",
      "      Epoch    GPU_mem   box_loss   cls_loss   dfl_loss  Instances       Size\n"
     ]
    },
    {
     "name": "stderr",
     "output_type": "stream",
     "text": [
      "   479/1000      6.82G     0.1321     0.1197     0.7634         49        736: 100%|██████████| 29/29 [00:04<00:00,  6.44it/s]\n"
     ]
    },
    {
     "name": "stdout",
     "output_type": "stream",
     "text": [
      "\n",
      "      Epoch    GPU_mem   box_loss   cls_loss   dfl_loss  Instances       Size\n"
     ]
    },
    {
     "name": "stderr",
     "output_type": "stream",
     "text": [
      "   480/1000      6.95G     0.1253     0.1139     0.7639         53        736: 100%|██████████| 29/29 [00:04<00:00,  6.42it/s]\n"
     ]
    },
    {
     "name": "stdout",
     "output_type": "stream",
     "text": [
      "\n",
      "      Epoch    GPU_mem   box_loss   cls_loss   dfl_loss  Instances       Size\n"
     ]
    },
    {
     "name": "stderr",
     "output_type": "stream",
     "text": [
      "   481/1000      6.95G       0.12     0.1125     0.7634         34        736: 100%|██████████| 29/29 [00:04<00:00,  6.43it/s]\n"
     ]
    },
    {
     "name": "stdout",
     "output_type": "stream",
     "text": [
      "\n",
      "      Epoch    GPU_mem   box_loss   cls_loss   dfl_loss  Instances       Size\n"
     ]
    },
    {
     "name": "stderr",
     "output_type": "stream",
     "text": [
      "   482/1000      6.95G     0.1245     0.1147     0.7616         46        736: 100%|██████████| 29/29 [00:04<00:00,  6.43it/s]\n"
     ]
    },
    {
     "name": "stdout",
     "output_type": "stream",
     "text": [
      "\n",
      "      Epoch    GPU_mem   box_loss   cls_loss   dfl_loss  Instances       Size\n"
     ]
    },
    {
     "name": "stderr",
     "output_type": "stream",
     "text": [
      "   483/1000      6.95G     0.1265     0.1178     0.7664         41        736: 100%|██████████| 29/29 [00:04<00:00,  6.42it/s]\n"
     ]
    },
    {
     "name": "stdout",
     "output_type": "stream",
     "text": [
      "\n",
      "      Epoch    GPU_mem   box_loss   cls_loss   dfl_loss  Instances       Size\n"
     ]
    },
    {
     "name": "stderr",
     "output_type": "stream",
     "text": [
      "   484/1000      6.95G     0.1325     0.1218     0.7622         61        736: 100%|██████████| 29/29 [00:04<00:00,  6.43it/s]\n"
     ]
    },
    {
     "name": "stdout",
     "output_type": "stream",
     "text": [
      "\n",
      "      Epoch    GPU_mem   box_loss   cls_loss   dfl_loss  Instances       Size\n"
     ]
    },
    {
     "name": "stderr",
     "output_type": "stream",
     "text": [
      "   485/1000      6.95G     0.1319     0.1193     0.7631         50        736: 100%|██████████| 29/29 [00:04<00:00,  6.43it/s]\n"
     ]
    },
    {
     "name": "stdout",
     "output_type": "stream",
     "text": [
      "\n",
      "      Epoch    GPU_mem   box_loss   cls_loss   dfl_loss  Instances       Size\n"
     ]
    },
    {
     "name": "stderr",
     "output_type": "stream",
     "text": [
      "   486/1000      6.95G     0.1284     0.1213     0.7659         38        736: 100%|██████████| 29/29 [00:04<00:00,  6.43it/s]\n"
     ]
    },
    {
     "name": "stdout",
     "output_type": "stream",
     "text": [
      "\n",
      "      Epoch    GPU_mem   box_loss   cls_loss   dfl_loss  Instances       Size\n"
     ]
    },
    {
     "name": "stderr",
     "output_type": "stream",
     "text": [
      "   487/1000      6.95G     0.1273     0.1175     0.7648         41        736: 100%|██████████| 29/29 [00:04<00:00,  6.43it/s]\n"
     ]
    },
    {
     "name": "stdout",
     "output_type": "stream",
     "text": [
      "\n",
      "      Epoch    GPU_mem   box_loss   cls_loss   dfl_loss  Instances       Size\n"
     ]
    },
    {
     "name": "stderr",
     "output_type": "stream",
     "text": [
      "   488/1000      6.95G     0.1296     0.1191     0.7634         47        736: 100%|██████████| 29/29 [00:04<00:00,  6.43it/s]\n"
     ]
    },
    {
     "name": "stdout",
     "output_type": "stream",
     "text": [
      "\n",
      "      Epoch    GPU_mem   box_loss   cls_loss   dfl_loss  Instances       Size\n"
     ]
    },
    {
     "name": "stderr",
     "output_type": "stream",
     "text": [
      "   489/1000      6.95G     0.1433      0.122     0.7668         39        736: 100%|██████████| 29/29 [00:04<00:00,  6.43it/s]\n"
     ]
    },
    {
     "name": "stdout",
     "output_type": "stream",
     "text": [
      "\n",
      "      Epoch    GPU_mem   box_loss   cls_loss   dfl_loss  Instances       Size\n"
     ]
    },
    {
     "name": "stderr",
     "output_type": "stream",
     "text": [
      "   490/1000      6.95G     0.1489     0.1232     0.7633         45        736: 100%|██████████| 29/29 [00:04<00:00,  6.44it/s]\n"
     ]
    },
    {
     "name": "stdout",
     "output_type": "stream",
     "text": [
      "\n",
      "      Epoch    GPU_mem   box_loss   cls_loss   dfl_loss  Instances       Size\n"
     ]
    },
    {
     "name": "stderr",
     "output_type": "stream",
     "text": [
      "   491/1000      6.95G     0.1364      0.116     0.7623         38        736: 100%|██████████| 29/29 [00:04<00:00,  6.42it/s]\n"
     ]
    },
    {
     "name": "stdout",
     "output_type": "stream",
     "text": [
      "\n",
      "      Epoch    GPU_mem   box_loss   cls_loss   dfl_loss  Instances       Size\n"
     ]
    },
    {
     "name": "stderr",
     "output_type": "stream",
     "text": [
      "   492/1000      6.95G     0.1298     0.1151     0.7674         41        736: 100%|██████████| 29/29 [00:04<00:00,  6.45it/s]\n"
     ]
    },
    {
     "name": "stdout",
     "output_type": "stream",
     "text": [
      "\n",
      "      Epoch    GPU_mem   box_loss   cls_loss   dfl_loss  Instances       Size\n"
     ]
    },
    {
     "name": "stderr",
     "output_type": "stream",
     "text": [
      "   493/1000      6.95G     0.1281     0.1157     0.7632         37        736: 100%|██████████| 29/29 [00:04<00:00,  6.43it/s]\n"
     ]
    },
    {
     "name": "stdout",
     "output_type": "stream",
     "text": [
      "\n",
      "      Epoch    GPU_mem   box_loss   cls_loss   dfl_loss  Instances       Size\n"
     ]
    },
    {
     "name": "stderr",
     "output_type": "stream",
     "text": [
      "   494/1000      7.01G     0.1165     0.1111     0.7685         51        736: 100%|██████████| 29/29 [00:04<00:00,  6.43it/s]\n"
     ]
    },
    {
     "name": "stdout",
     "output_type": "stream",
     "text": [
      "\n",
      "      Epoch    GPU_mem   box_loss   cls_loss   dfl_loss  Instances       Size\n"
     ]
    },
    {
     "name": "stderr",
     "output_type": "stream",
     "text": [
      "   495/1000      6.95G     0.1231     0.1119     0.7675         50        736: 100%|██████████| 29/29 [00:04<00:00,  6.46it/s]\n"
     ]
    },
    {
     "name": "stdout",
     "output_type": "stream",
     "text": [
      "\n",
      "      Epoch    GPU_mem   box_loss   cls_loss   dfl_loss  Instances       Size\n"
     ]
    },
    {
     "name": "stderr",
     "output_type": "stream",
     "text": [
      "   496/1000      6.95G      0.126     0.1159      0.763         45        736: 100%|██████████| 29/29 [00:04<00:00,  6.43it/s]\n"
     ]
    },
    {
     "name": "stdout",
     "output_type": "stream",
     "text": [
      "\n",
      "      Epoch    GPU_mem   box_loss   cls_loss   dfl_loss  Instances       Size\n"
     ]
    },
    {
     "name": "stderr",
     "output_type": "stream",
     "text": [
      "   497/1000      6.95G     0.1234     0.1139     0.7663         34        736: 100%|██████████| 29/29 [00:04<00:00,  6.42it/s]\n"
     ]
    },
    {
     "name": "stdout",
     "output_type": "stream",
     "text": [
      "\n",
      "      Epoch    GPU_mem   box_loss   cls_loss   dfl_loss  Instances       Size\n"
     ]
    },
    {
     "name": "stderr",
     "output_type": "stream",
     "text": [
      "   498/1000      6.95G     0.1277     0.1152     0.7596         39        736: 100%|██████████| 29/29 [00:04<00:00,  6.43it/s]\n"
     ]
    },
    {
     "name": "stdout",
     "output_type": "stream",
     "text": [
      "\n",
      "      Epoch    GPU_mem   box_loss   cls_loss   dfl_loss  Instances       Size\n"
     ]
    },
    {
     "name": "stderr",
     "output_type": "stream",
     "text": [
      "   499/1000      6.95G     0.1334     0.1182     0.7664         38        736: 100%|██████████| 29/29 [00:04<00:00,  6.42it/s]\n"
     ]
    },
    {
     "name": "stdout",
     "output_type": "stream",
     "text": [
      "\n",
      "      Epoch    GPU_mem   box_loss   cls_loss   dfl_loss  Instances       Size\n"
     ]
    },
    {
     "name": "stderr",
     "output_type": "stream",
     "text": [
      "   500/1000      6.95G     0.1342     0.1164     0.7669         46        736: 100%|██████████| 29/29 [00:04<00:00,  6.42it/s]\n"
     ]
    },
    {
     "name": "stdout",
     "output_type": "stream",
     "text": [
      "\n",
      "      Epoch    GPU_mem   box_loss   cls_loss   dfl_loss  Instances       Size\n"
     ]
    },
    {
     "name": "stderr",
     "output_type": "stream",
     "text": [
      "   501/1000      6.95G     0.1365     0.1188     0.7617         46        736: 100%|██████████| 29/29 [00:04<00:00,  6.44it/s]\n"
     ]
    },
    {
     "name": "stdout",
     "output_type": "stream",
     "text": [
      "\n",
      "      Epoch    GPU_mem   box_loss   cls_loss   dfl_loss  Instances       Size\n"
     ]
    },
    {
     "name": "stderr",
     "output_type": "stream",
     "text": [
      "   502/1000      6.95G     0.1274     0.1173     0.7627         47        736: 100%|██████████| 29/29 [00:04<00:00,  6.42it/s]\n"
     ]
    },
    {
     "name": "stdout",
     "output_type": "stream",
     "text": [
      "\n",
      "      Epoch    GPU_mem   box_loss   cls_loss   dfl_loss  Instances       Size\n"
     ]
    },
    {
     "name": "stderr",
     "output_type": "stream",
     "text": [
      "   503/1000      6.95G     0.1286     0.1162     0.7662         43        736: 100%|██████████| 29/29 [00:04<00:00,  6.43it/s]\n"
     ]
    },
    {
     "name": "stdout",
     "output_type": "stream",
     "text": [
      "\n",
      "      Epoch    GPU_mem   box_loss   cls_loss   dfl_loss  Instances       Size\n"
     ]
    },
    {
     "name": "stderr",
     "output_type": "stream",
     "text": [
      "   504/1000      6.95G     0.1189     0.1104      0.758         48        736: 100%|██████████| 29/29 [00:04<00:00,  6.42it/s]\n"
     ]
    },
    {
     "name": "stdout",
     "output_type": "stream",
     "text": [
      "\n",
      "      Epoch    GPU_mem   box_loss   cls_loss   dfl_loss  Instances       Size\n"
     ]
    },
    {
     "name": "stderr",
     "output_type": "stream",
     "text": [
      "   505/1000      6.95G     0.1196     0.1119     0.7642         48        736: 100%|██████████| 29/29 [00:04<00:00,  6.40it/s]\n"
     ]
    },
    {
     "name": "stdout",
     "output_type": "stream",
     "text": [
      "\n",
      "      Epoch    GPU_mem   box_loss   cls_loss   dfl_loss  Instances       Size\n"
     ]
    },
    {
     "name": "stderr",
     "output_type": "stream",
     "text": [
      "   506/1000      6.95G     0.1242     0.1139     0.7662         47        736: 100%|██████████| 29/29 [00:04<00:00,  6.43it/s]\n"
     ]
    },
    {
     "name": "stdout",
     "output_type": "stream",
     "text": [
      "\n",
      "      Epoch    GPU_mem   box_loss   cls_loss   dfl_loss  Instances       Size\n"
     ]
    },
    {
     "name": "stderr",
     "output_type": "stream",
     "text": [
      "   507/1000      6.95G     0.1281     0.1145      0.764         41        736: 100%|██████████| 29/29 [00:04<00:00,  6.44it/s]\n"
     ]
    },
    {
     "name": "stdout",
     "output_type": "stream",
     "text": [
      "\n",
      "      Epoch    GPU_mem   box_loss   cls_loss   dfl_loss  Instances       Size\n"
     ]
    },
    {
     "name": "stderr",
     "output_type": "stream",
     "text": [
      "   508/1000      6.95G     0.1277     0.1162     0.7588         52        736: 100%|██████████| 29/29 [00:04<00:00,  6.40it/s]\n"
     ]
    },
    {
     "name": "stdout",
     "output_type": "stream",
     "text": [
      "\n",
      "      Epoch    GPU_mem   box_loss   cls_loss   dfl_loss  Instances       Size\n"
     ]
    },
    {
     "name": "stderr",
     "output_type": "stream",
     "text": [
      "   509/1000      6.95G     0.1215     0.1113      0.767         42        736: 100%|██████████| 29/29 [00:04<00:00,  6.44it/s]\n"
     ]
    },
    {
     "name": "stdout",
     "output_type": "stream",
     "text": [
      "\n",
      "      Epoch    GPU_mem   box_loss   cls_loss   dfl_loss  Instances       Size\n"
     ]
    },
    {
     "name": "stderr",
     "output_type": "stream",
     "text": [
      "   510/1000      6.95G      0.123     0.1163     0.7693         50        736: 100%|██████████| 29/29 [00:04<00:00,  6.43it/s]\n"
     ]
    },
    {
     "name": "stdout",
     "output_type": "stream",
     "text": [
      "\n",
      "      Epoch    GPU_mem   box_loss   cls_loss   dfl_loss  Instances       Size\n"
     ]
    },
    {
     "name": "stderr",
     "output_type": "stream",
     "text": [
      "   511/1000      6.95G     0.1236     0.1126     0.7654         40        736: 100%|██████████| 29/29 [00:04<00:00,  6.45it/s]\n"
     ]
    },
    {
     "name": "stdout",
     "output_type": "stream",
     "text": [
      "\n",
      "      Epoch    GPU_mem   box_loss   cls_loss   dfl_loss  Instances       Size\n"
     ]
    },
    {
     "name": "stderr",
     "output_type": "stream",
     "text": [
      "   512/1000      6.95G     0.1202     0.1113     0.7644         47        736: 100%|██████████| 29/29 [00:04<00:00,  6.44it/s]\n"
     ]
    },
    {
     "name": "stdout",
     "output_type": "stream",
     "text": [
      "\n",
      "      Epoch    GPU_mem   box_loss   cls_loss   dfl_loss  Instances       Size\n"
     ]
    },
    {
     "name": "stderr",
     "output_type": "stream",
     "text": [
      "   513/1000      6.95G     0.1237     0.1128     0.7657         42        736: 100%|██████████| 29/29 [00:04<00:00,  6.44it/s]\n"
     ]
    },
    {
     "name": "stdout",
     "output_type": "stream",
     "text": [
      "\n",
      "      Epoch    GPU_mem   box_loss   cls_loss   dfl_loss  Instances       Size\n"
     ]
    },
    {
     "name": "stderr",
     "output_type": "stream",
     "text": [
      "   514/1000      6.95G     0.1227     0.1131     0.7714         38        736: 100%|██████████| 29/29 [00:04<00:00,  6.44it/s]\n"
     ]
    },
    {
     "name": "stdout",
     "output_type": "stream",
     "text": [
      "\n",
      "      Epoch    GPU_mem   box_loss   cls_loss   dfl_loss  Instances       Size\n"
     ]
    },
    {
     "name": "stderr",
     "output_type": "stream",
     "text": [
      "   515/1000      6.95G     0.1195     0.1127     0.7617         40        736: 100%|██████████| 29/29 [00:04<00:00,  6.41it/s]\n"
     ]
    },
    {
     "name": "stdout",
     "output_type": "stream",
     "text": [
      "\n",
      "      Epoch    GPU_mem   box_loss   cls_loss   dfl_loss  Instances       Size\n"
     ]
    },
    {
     "name": "stderr",
     "output_type": "stream",
     "text": [
      "   516/1000      6.95G     0.1281     0.1186     0.7653         43        736: 100%|██████████| 29/29 [00:04<00:00,  6.44it/s]\n"
     ]
    },
    {
     "name": "stdout",
     "output_type": "stream",
     "text": [
      "\n",
      "      Epoch    GPU_mem   box_loss   cls_loss   dfl_loss  Instances       Size\n"
     ]
    },
    {
     "name": "stderr",
     "output_type": "stream",
     "text": [
      "   517/1000      6.95G     0.1265     0.1158     0.7607         42        736: 100%|██████████| 29/29 [00:04<00:00,  6.44it/s]\n"
     ]
    },
    {
     "name": "stdout",
     "output_type": "stream",
     "text": [
      "\n",
      "      Epoch    GPU_mem   box_loss   cls_loss   dfl_loss  Instances       Size\n"
     ]
    },
    {
     "name": "stderr",
     "output_type": "stream",
     "text": [
      "   518/1000      6.95G     0.1248     0.1147     0.7608         40        736: 100%|██████████| 29/29 [00:04<00:00,  6.42it/s]\n"
     ]
    },
    {
     "name": "stdout",
     "output_type": "stream",
     "text": [
      "\n",
      "      Epoch    GPU_mem   box_loss   cls_loss   dfl_loss  Instances       Size\n"
     ]
    },
    {
     "name": "stderr",
     "output_type": "stream",
     "text": [
      "   519/1000      6.95G       0.13     0.1145     0.7663         55        736: 100%|██████████| 29/29 [00:04<00:00,  6.46it/s]\n"
     ]
    },
    {
     "name": "stdout",
     "output_type": "stream",
     "text": [
      "\n",
      "      Epoch    GPU_mem   box_loss   cls_loss   dfl_loss  Instances       Size\n"
     ]
    },
    {
     "name": "stderr",
     "output_type": "stream",
     "text": [
      "   520/1000      6.95G     0.1217     0.1118     0.7563         45        736: 100%|██████████| 29/29 [00:04<00:00,  6.42it/s]\n"
     ]
    },
    {
     "name": "stdout",
     "output_type": "stream",
     "text": [
      "\n",
      "      Epoch    GPU_mem   box_loss   cls_loss   dfl_loss  Instances       Size\n"
     ]
    },
    {
     "name": "stderr",
     "output_type": "stream",
     "text": [
      "   521/1000      6.95G     0.1205       0.11      0.761         33        736: 100%|██████████| 29/29 [00:04<00:00,  6.41it/s]\n"
     ]
    },
    {
     "name": "stdout",
     "output_type": "stream",
     "text": [
      "\n",
      "      Epoch    GPU_mem   box_loss   cls_loss   dfl_loss  Instances       Size\n"
     ]
    },
    {
     "name": "stderr",
     "output_type": "stream",
     "text": [
      "   522/1000      6.95G     0.1221     0.1111     0.7734         45        736: 100%|██████████| 29/29 [00:04<00:00,  6.45it/s]\n"
     ]
    },
    {
     "name": "stdout",
     "output_type": "stream",
     "text": [
      "\n",
      "      Epoch    GPU_mem   box_loss   cls_loss   dfl_loss  Instances       Size\n"
     ]
    },
    {
     "name": "stderr",
     "output_type": "stream",
     "text": [
      "   523/1000      6.95G     0.1196     0.1116      0.766         42        736: 100%|██████████| 29/29 [00:04<00:00,  6.43it/s]\n"
     ]
    },
    {
     "name": "stdout",
     "output_type": "stream",
     "text": [
      "\n",
      "      Epoch    GPU_mem   box_loss   cls_loss   dfl_loss  Instances       Size\n"
     ]
    },
    {
     "name": "stderr",
     "output_type": "stream",
     "text": [
      "   524/1000      6.95G     0.1189     0.1097     0.7638         49        736: 100%|██████████| 29/29 [00:04<00:00,  6.44it/s]\n"
     ]
    },
    {
     "name": "stdout",
     "output_type": "stream",
     "text": [
      "\n",
      "      Epoch    GPU_mem   box_loss   cls_loss   dfl_loss  Instances       Size\n"
     ]
    },
    {
     "name": "stderr",
     "output_type": "stream",
     "text": [
      "   525/1000      6.95G      0.123     0.1137     0.7677         50        736: 100%|██████████| 29/29 [00:04<00:00,  6.46it/s]\n"
     ]
    },
    {
     "name": "stdout",
     "output_type": "stream",
     "text": [
      "\n",
      "      Epoch    GPU_mem   box_loss   cls_loss   dfl_loss  Instances       Size\n"
     ]
    },
    {
     "name": "stderr",
     "output_type": "stream",
     "text": [
      "   526/1000      6.95G     0.1225     0.1132     0.7593         40        736: 100%|██████████| 29/29 [00:04<00:00,  6.41it/s]\n"
     ]
    },
    {
     "name": "stdout",
     "output_type": "stream",
     "text": [
      "\n",
      "      Epoch    GPU_mem   box_loss   cls_loss   dfl_loss  Instances       Size\n"
     ]
    },
    {
     "name": "stderr",
     "output_type": "stream",
     "text": [
      "   527/1000      6.95G     0.1198     0.1135     0.7652         39        736: 100%|██████████| 29/29 [00:04<00:00,  6.45it/s]\n"
     ]
    },
    {
     "name": "stdout",
     "output_type": "stream",
     "text": [
      "\n",
      "      Epoch    GPU_mem   box_loss   cls_loss   dfl_loss  Instances       Size\n"
     ]
    },
    {
     "name": "stderr",
     "output_type": "stream",
     "text": [
      "   528/1000      6.95G     0.1217     0.1124     0.7668         46        736: 100%|██████████| 29/29 [00:04<00:00,  6.46it/s]\n"
     ]
    },
    {
     "name": "stdout",
     "output_type": "stream",
     "text": [
      "\n",
      "      Epoch    GPU_mem   box_loss   cls_loss   dfl_loss  Instances       Size\n"
     ]
    },
    {
     "name": "stderr",
     "output_type": "stream",
     "text": [
      "   529/1000      6.95G     0.1188     0.1092     0.7667         44        736: 100%|██████████| 29/29 [00:04<00:00,  6.42it/s]\n"
     ]
    },
    {
     "name": "stdout",
     "output_type": "stream",
     "text": [
      "\n",
      "      Epoch    GPU_mem   box_loss   cls_loss   dfl_loss  Instances       Size\n"
     ]
    },
    {
     "name": "stderr",
     "output_type": "stream",
     "text": [
      "   530/1000      6.95G     0.1183     0.1114     0.7634         42        736: 100%|██████████| 29/29 [00:04<00:00,  6.44it/s]\n"
     ]
    },
    {
     "name": "stdout",
     "output_type": "stream",
     "text": [
      "\n",
      "      Epoch    GPU_mem   box_loss   cls_loss   dfl_loss  Instances       Size\n"
     ]
    },
    {
     "name": "stderr",
     "output_type": "stream",
     "text": [
      "   531/1000      6.95G     0.1223     0.1118     0.7647         51        736: 100%|██████████| 29/29 [00:04<00:00,  6.42it/s]\n"
     ]
    },
    {
     "name": "stdout",
     "output_type": "stream",
     "text": [
      "\n",
      "      Epoch    GPU_mem   box_loss   cls_loss   dfl_loss  Instances       Size\n"
     ]
    },
    {
     "name": "stderr",
     "output_type": "stream",
     "text": [
      "   532/1000      6.95G     0.1332     0.1167     0.7582         46        736: 100%|██████████| 29/29 [00:04<00:00,  6.41it/s]\n"
     ]
    },
    {
     "name": "stdout",
     "output_type": "stream",
     "text": [
      "\n",
      "      Epoch    GPU_mem   box_loss   cls_loss   dfl_loss  Instances       Size\n"
     ]
    },
    {
     "name": "stderr",
     "output_type": "stream",
     "text": [
      "   533/1000      6.95G     0.1242     0.1126     0.7687         52        736: 100%|██████████| 29/29 [00:04<00:00,  6.44it/s]\n"
     ]
    },
    {
     "name": "stdout",
     "output_type": "stream",
     "text": [
      "\n",
      "      Epoch    GPU_mem   box_loss   cls_loss   dfl_loss  Instances       Size\n"
     ]
    },
    {
     "name": "stderr",
     "output_type": "stream",
     "text": [
      "   534/1000      6.95G     0.1255     0.1162     0.7639         58        736: 100%|██████████| 29/29 [00:04<00:00,  6.44it/s]\n"
     ]
    },
    {
     "name": "stdout",
     "output_type": "stream",
     "text": [
      "\n",
      "      Epoch    GPU_mem   box_loss   cls_loss   dfl_loss  Instances       Size\n"
     ]
    },
    {
     "name": "stderr",
     "output_type": "stream",
     "text": [
      "   535/1000      6.95G      0.124     0.1169     0.7672         49        736: 100%|██████████| 29/29 [00:04<00:00,  6.39it/s]\n"
     ]
    },
    {
     "name": "stdout",
     "output_type": "stream",
     "text": [
      "\n",
      "      Epoch    GPU_mem   box_loss   cls_loss   dfl_loss  Instances       Size\n"
     ]
    },
    {
     "name": "stderr",
     "output_type": "stream",
     "text": [
      "   536/1000      6.95G      0.121     0.1143     0.7605         42        736: 100%|██████████| 29/29 [00:04<00:00,  6.45it/s]\n"
     ]
    },
    {
     "name": "stdout",
     "output_type": "stream",
     "text": [
      "\n",
      "      Epoch    GPU_mem   box_loss   cls_loss   dfl_loss  Instances       Size\n"
     ]
    },
    {
     "name": "stderr",
     "output_type": "stream",
     "text": [
      "   537/1000      6.95G     0.1241     0.1184     0.7676         37        736: 100%|██████████| 29/29 [00:04<00:00,  6.43it/s]\n"
     ]
    },
    {
     "name": "stdout",
     "output_type": "stream",
     "text": [
      "\n",
      "      Epoch    GPU_mem   box_loss   cls_loss   dfl_loss  Instances       Size\n"
     ]
    },
    {
     "name": "stderr",
     "output_type": "stream",
     "text": [
      "   538/1000      6.95G     0.1272     0.1193     0.7564         52        736: 100%|██████████| 29/29 [00:04<00:00,  6.42it/s]\n"
     ]
    },
    {
     "name": "stdout",
     "output_type": "stream",
     "text": [
      "\n",
      "      Epoch    GPU_mem   box_loss   cls_loss   dfl_loss  Instances       Size\n"
     ]
    },
    {
     "name": "stderr",
     "output_type": "stream",
     "text": [
      "   539/1000      6.95G     0.1291     0.1175     0.7705         42        736: 100%|██████████| 29/29 [00:04<00:00,  6.42it/s]\n"
     ]
    },
    {
     "name": "stdout",
     "output_type": "stream",
     "text": [
      "\n",
      "      Epoch    GPU_mem   box_loss   cls_loss   dfl_loss  Instances       Size\n"
     ]
    },
    {
     "name": "stderr",
     "output_type": "stream",
     "text": [
      "   540/1000         7G     0.1311     0.1193      0.767         46        736: 100%|██████████| 29/29 [00:04<00:00,  6.41it/s]\n"
     ]
    },
    {
     "name": "stdout",
     "output_type": "stream",
     "text": [
      "\n",
      "      Epoch    GPU_mem   box_loss   cls_loss   dfl_loss  Instances       Size\n"
     ]
    },
    {
     "name": "stderr",
     "output_type": "stream",
     "text": [
      "   541/1000      6.95G     0.1293     0.1156     0.7651         50        736: 100%|██████████| 29/29 [00:04<00:00,  6.43it/s]\n"
     ]
    },
    {
     "name": "stdout",
     "output_type": "stream",
     "text": [
      "\n",
      "      Epoch    GPU_mem   box_loss   cls_loss   dfl_loss  Instances       Size\n"
     ]
    },
    {
     "name": "stderr",
     "output_type": "stream",
     "text": [
      "   542/1000      6.95G     0.1263     0.1184     0.7658         55        736: 100%|██████████| 29/29 [00:04<00:00,  6.42it/s]\n"
     ]
    },
    {
     "name": "stdout",
     "output_type": "stream",
     "text": [
      "\n",
      "      Epoch    GPU_mem   box_loss   cls_loss   dfl_loss  Instances       Size\n"
     ]
    },
    {
     "name": "stderr",
     "output_type": "stream",
     "text": [
      "   543/1000      6.95G     0.1247     0.1139     0.7623         45        736: 100%|██████████| 29/29 [00:04<00:00,  6.44it/s]\n"
     ]
    },
    {
     "name": "stdout",
     "output_type": "stream",
     "text": [
      "\n",
      "      Epoch    GPU_mem   box_loss   cls_loss   dfl_loss  Instances       Size\n"
     ]
    },
    {
     "name": "stderr",
     "output_type": "stream",
     "text": [
      "   544/1000      6.95G     0.1325     0.1177     0.7585         41        736: 100%|██████████| 29/29 [00:04<00:00,  6.43it/s]\n"
     ]
    },
    {
     "name": "stdout",
     "output_type": "stream",
     "text": [
      "\n",
      "      Epoch    GPU_mem   box_loss   cls_loss   dfl_loss  Instances       Size\n"
     ]
    },
    {
     "name": "stderr",
     "output_type": "stream",
     "text": [
      "   545/1000      6.95G     0.1238     0.1142     0.7659         45        736: 100%|██████████| 29/29 [00:04<00:00,  6.41it/s]\n"
     ]
    },
    {
     "name": "stdout",
     "output_type": "stream",
     "text": [
      "\n",
      "      Epoch    GPU_mem   box_loss   cls_loss   dfl_loss  Instances       Size\n"
     ]
    },
    {
     "name": "stderr",
     "output_type": "stream",
     "text": [
      "   546/1000      6.95G     0.1249     0.1153     0.7628         42        736: 100%|██████████| 29/29 [00:04<00:00,  6.44it/s]\n"
     ]
    },
    {
     "name": "stdout",
     "output_type": "stream",
     "text": [
      "\n",
      "      Epoch    GPU_mem   box_loss   cls_loss   dfl_loss  Instances       Size\n"
     ]
    },
    {
     "name": "stderr",
     "output_type": "stream",
     "text": [
      "   547/1000      6.95G     0.1208     0.1113      0.767         43        736: 100%|██████████| 29/29 [00:04<00:00,  6.42it/s]\n"
     ]
    },
    {
     "name": "stdout",
     "output_type": "stream",
     "text": [
      "\n",
      "      Epoch    GPU_mem   box_loss   cls_loss   dfl_loss  Instances       Size\n"
     ]
    },
    {
     "name": "stderr",
     "output_type": "stream",
     "text": [
      "   548/1000      6.95G      0.124     0.1133      0.763         37        736: 100%|██████████| 29/29 [00:04<00:00,  6.43it/s]\n"
     ]
    },
    {
     "name": "stdout",
     "output_type": "stream",
     "text": [
      "\n",
      "      Epoch    GPU_mem   box_loss   cls_loss   dfl_loss  Instances       Size\n"
     ]
    },
    {
     "name": "stderr",
     "output_type": "stream",
     "text": [
      "   549/1000      6.95G     0.1202     0.1084     0.7586         39        736: 100%|██████████| 29/29 [00:04<00:00,  6.44it/s]\n"
     ]
    },
    {
     "name": "stdout",
     "output_type": "stream",
     "text": [
      "\n",
      "      Epoch    GPU_mem   box_loss   cls_loss   dfl_loss  Instances       Size\n"
     ]
    },
    {
     "name": "stderr",
     "output_type": "stream",
     "text": [
      "   550/1000      6.95G     0.1215     0.1092     0.7671         37        736: 100%|██████████| 29/29 [00:04<00:00,  6.42it/s]\n"
     ]
    },
    {
     "name": "stdout",
     "output_type": "stream",
     "text": [
      "\n",
      "      Epoch    GPU_mem   box_loss   cls_loss   dfl_loss  Instances       Size\n"
     ]
    },
    {
     "name": "stderr",
     "output_type": "stream",
     "text": [
      "   551/1000      6.95G     0.1189     0.1086     0.7652         47        736: 100%|██████████| 29/29 [00:04<00:00,  6.40it/s]\n"
     ]
    },
    {
     "name": "stdout",
     "output_type": "stream",
     "text": [
      "\n",
      "      Epoch    GPU_mem   box_loss   cls_loss   dfl_loss  Instances       Size\n"
     ]
    },
    {
     "name": "stderr",
     "output_type": "stream",
     "text": [
      "   552/1000      6.95G      0.119     0.1117     0.7649         49        736: 100%|██████████| 29/29 [00:04<00:00,  6.44it/s]\n"
     ]
    },
    {
     "name": "stdout",
     "output_type": "stream",
     "text": [
      "\n",
      "      Epoch    GPU_mem   box_loss   cls_loss   dfl_loss  Instances       Size\n"
     ]
    },
    {
     "name": "stderr",
     "output_type": "stream",
     "text": [
      "   553/1000      6.95G     0.1182     0.1064     0.7631         49        736: 100%|██████████| 29/29 [00:04<00:00,  6.42it/s]\n"
     ]
    },
    {
     "name": "stdout",
     "output_type": "stream",
     "text": [
      "\n",
      "      Epoch    GPU_mem   box_loss   cls_loss   dfl_loss  Instances       Size\n"
     ]
    },
    {
     "name": "stderr",
     "output_type": "stream",
     "text": [
      "   554/1000      6.95G      0.114     0.1055     0.7642         43        736: 100%|██████████| 29/29 [00:04<00:00,  6.42it/s]\n"
     ]
    },
    {
     "name": "stdout",
     "output_type": "stream",
     "text": [
      "\n",
      "      Epoch    GPU_mem   box_loss   cls_loss   dfl_loss  Instances       Size\n"
     ]
    },
    {
     "name": "stderr",
     "output_type": "stream",
     "text": [
      "   555/1000      6.95G     0.1124     0.1069     0.7654         50        736: 100%|██████████| 29/29 [00:04<00:00,  6.45it/s]\n"
     ]
    },
    {
     "name": "stdout",
     "output_type": "stream",
     "text": [
      "\n",
      "      Epoch    GPU_mem   box_loss   cls_loss   dfl_loss  Instances       Size\n"
     ]
    },
    {
     "name": "stderr",
     "output_type": "stream",
     "text": [
      "   556/1000      6.95G     0.1124      0.105     0.7712         48        736: 100%|██████████| 29/29 [00:04<00:00,  6.41it/s]\n"
     ]
    },
    {
     "name": "stdout",
     "output_type": "stream",
     "text": [
      "\n",
      "      Epoch    GPU_mem   box_loss   cls_loss   dfl_loss  Instances       Size\n"
     ]
    },
    {
     "name": "stderr",
     "output_type": "stream",
     "text": [
      "   557/1000      6.95G      0.112     0.1055     0.7651         50        736: 100%|██████████| 29/29 [00:04<00:00,  6.44it/s]\n"
     ]
    },
    {
     "name": "stdout",
     "output_type": "stream",
     "text": [
      "\n",
      "      Epoch    GPU_mem   box_loss   cls_loss   dfl_loss  Instances       Size\n"
     ]
    },
    {
     "name": "stderr",
     "output_type": "stream",
     "text": [
      "   558/1000      6.95G     0.1177     0.1098     0.7653         50        736: 100%|██████████| 29/29 [00:04<00:00,  6.42it/s]\n"
     ]
    },
    {
     "name": "stdout",
     "output_type": "stream",
     "text": [
      "\n",
      "      Epoch    GPU_mem   box_loss   cls_loss   dfl_loss  Instances       Size\n"
     ]
    },
    {
     "name": "stderr",
     "output_type": "stream",
     "text": [
      "   559/1000      6.95G     0.1154     0.1093      0.757         49        736: 100%|██████████| 29/29 [00:04<00:00,  6.41it/s]\n"
     ]
    },
    {
     "name": "stdout",
     "output_type": "stream",
     "text": [
      "\n",
      "      Epoch    GPU_mem   box_loss   cls_loss   dfl_loss  Instances       Size\n"
     ]
    },
    {
     "name": "stderr",
     "output_type": "stream",
     "text": [
      "   560/1000      6.95G     0.1144      0.109     0.7661         35        736: 100%|██████████| 29/29 [00:04<00:00,  6.44it/s]\n"
     ]
    },
    {
     "name": "stdout",
     "output_type": "stream",
     "text": [
      "\n",
      "      Epoch    GPU_mem   box_loss   cls_loss   dfl_loss  Instances       Size\n"
     ]
    },
    {
     "name": "stderr",
     "output_type": "stream",
     "text": [
      "   561/1000      6.95G     0.1173     0.1112     0.7663         52        736: 100%|██████████| 29/29 [00:04<00:00,  6.42it/s]\n"
     ]
    },
    {
     "name": "stdout",
     "output_type": "stream",
     "text": [
      "\n",
      "      Epoch    GPU_mem   box_loss   cls_loss   dfl_loss  Instances       Size\n"
     ]
    },
    {
     "name": "stderr",
     "output_type": "stream",
     "text": [
      "   562/1000      6.95G     0.1206     0.1114     0.7696         45        736: 100%|██████████| 29/29 [00:04<00:00,  6.43it/s]\n"
     ]
    },
    {
     "name": "stdout",
     "output_type": "stream",
     "text": [
      "\n",
      "      Epoch    GPU_mem   box_loss   cls_loss   dfl_loss  Instances       Size\n"
     ]
    },
    {
     "name": "stderr",
     "output_type": "stream",
     "text": [
      "   563/1000      6.95G     0.1199      0.111     0.7642         40        736: 100%|██████████| 29/29 [00:04<00:00,  6.43it/s]\n"
     ]
    },
    {
     "name": "stdout",
     "output_type": "stream",
     "text": [
      "\n",
      "      Epoch    GPU_mem   box_loss   cls_loss   dfl_loss  Instances       Size\n"
     ]
    },
    {
     "name": "stderr",
     "output_type": "stream",
     "text": [
      "   564/1000      6.95G      0.114     0.1078     0.7592         50        736: 100%|██████████| 29/29 [00:04<00:00,  6.43it/s]\n"
     ]
    },
    {
     "name": "stdout",
     "output_type": "stream",
     "text": [
      "\n",
      "      Epoch    GPU_mem   box_loss   cls_loss   dfl_loss  Instances       Size\n"
     ]
    },
    {
     "name": "stderr",
     "output_type": "stream",
     "text": [
      "   565/1000      6.95G     0.1212     0.1093     0.7622         46        736: 100%|██████████| 29/29 [00:04<00:00,  6.45it/s]\n"
     ]
    },
    {
     "name": "stdout",
     "output_type": "stream",
     "text": [
      "\n",
      "      Epoch    GPU_mem   box_loss   cls_loss   dfl_loss  Instances       Size\n"
     ]
    },
    {
     "name": "stderr",
     "output_type": "stream",
     "text": [
      "   566/1000      6.95G     0.1191     0.1097     0.7666         39        736: 100%|██████████| 29/29 [00:04<00:00,  6.45it/s]\n"
     ]
    },
    {
     "name": "stdout",
     "output_type": "stream",
     "text": [
      "\n",
      "      Epoch    GPU_mem   box_loss   cls_loss   dfl_loss  Instances       Size\n"
     ]
    },
    {
     "name": "stderr",
     "output_type": "stream",
     "text": [
      "   567/1000      6.95G     0.1144     0.1078     0.7616         46        736: 100%|██████████| 29/29 [00:04<00:00,  6.42it/s]\n"
     ]
    },
    {
     "name": "stdout",
     "output_type": "stream",
     "text": [
      "\n",
      "      Epoch    GPU_mem   box_loss   cls_loss   dfl_loss  Instances       Size\n"
     ]
    },
    {
     "name": "stderr",
     "output_type": "stream",
     "text": [
      "   568/1000      6.95G      0.118     0.1079     0.7567         45        736: 100%|██████████| 29/29 [00:04<00:00,  6.44it/s]\n"
     ]
    },
    {
     "name": "stdout",
     "output_type": "stream",
     "text": [
      "\n",
      "      Epoch    GPU_mem   box_loss   cls_loss   dfl_loss  Instances       Size\n"
     ]
    },
    {
     "name": "stderr",
     "output_type": "stream",
     "text": [
      "   569/1000      6.95G     0.1178     0.1089     0.7614         50        736: 100%|██████████| 29/29 [00:04<00:00,  6.40it/s]\n"
     ]
    },
    {
     "name": "stdout",
     "output_type": "stream",
     "text": [
      "\n",
      "      Epoch    GPU_mem   box_loss   cls_loss   dfl_loss  Instances       Size\n"
     ]
    },
    {
     "name": "stderr",
     "output_type": "stream",
     "text": [
      "   570/1000      6.95G     0.1259     0.1119     0.7683         43        736: 100%|██████████| 29/29 [00:04<00:00,  6.42it/s]\n"
     ]
    },
    {
     "name": "stdout",
     "output_type": "stream",
     "text": [
      "\n",
      "      Epoch    GPU_mem   box_loss   cls_loss   dfl_loss  Instances       Size\n"
     ]
    },
    {
     "name": "stderr",
     "output_type": "stream",
     "text": [
      "   571/1000      6.95G     0.1191     0.1084      0.768         40        736: 100%|██████████| 29/29 [00:04<00:00,  6.46it/s]\n"
     ]
    },
    {
     "name": "stdout",
     "output_type": "stream",
     "text": [
      "\n",
      "      Epoch    GPU_mem   box_loss   cls_loss   dfl_loss  Instances       Size\n"
     ]
    },
    {
     "name": "stderr",
     "output_type": "stream",
     "text": [
      "   572/1000      6.95G     0.1148     0.1045     0.7648         46        736: 100%|██████████| 29/29 [00:04<00:00,  6.41it/s]\n"
     ]
    },
    {
     "name": "stdout",
     "output_type": "stream",
     "text": [
      "\n",
      "      Epoch    GPU_mem   box_loss   cls_loss   dfl_loss  Instances       Size\n"
     ]
    },
    {
     "name": "stderr",
     "output_type": "stream",
     "text": [
      "   573/1000      6.95G     0.1113     0.1038     0.7646         48        736: 100%|██████████| 29/29 [00:04<00:00,  6.42it/s]\n"
     ]
    },
    {
     "name": "stdout",
     "output_type": "stream",
     "text": [
      "\n",
      "      Epoch    GPU_mem   box_loss   cls_loss   dfl_loss  Instances       Size\n"
     ]
    },
    {
     "name": "stderr",
     "output_type": "stream",
     "text": [
      "   574/1000      6.95G     0.1134     0.1082     0.7611         45        736: 100%|██████████| 29/29 [00:04<00:00,  6.44it/s]\n"
     ]
    },
    {
     "name": "stdout",
     "output_type": "stream",
     "text": [
      "\n",
      "      Epoch    GPU_mem   box_loss   cls_loss   dfl_loss  Instances       Size\n"
     ]
    },
    {
     "name": "stderr",
     "output_type": "stream",
     "text": [
      "   575/1000      6.95G     0.1184     0.1108     0.7689         42        736: 100%|██████████| 29/29 [00:04<00:00,  6.43it/s]\n"
     ]
    },
    {
     "name": "stdout",
     "output_type": "stream",
     "text": [
      "\n",
      "      Epoch    GPU_mem   box_loss   cls_loss   dfl_loss  Instances       Size\n"
     ]
    },
    {
     "name": "stderr",
     "output_type": "stream",
     "text": [
      "   576/1000      6.95G      0.115     0.1083     0.7653         42        736: 100%|██████████| 29/29 [00:04<00:00,  6.45it/s]\n"
     ]
    },
    {
     "name": "stdout",
     "output_type": "stream",
     "text": [
      "\n",
      "      Epoch    GPU_mem   box_loss   cls_loss   dfl_loss  Instances       Size\n"
     ]
    },
    {
     "name": "stderr",
     "output_type": "stream",
     "text": [
      "   577/1000      6.95G     0.1148     0.1093     0.7656         47        736: 100%|██████████| 29/29 [00:04<00:00,  6.43it/s]\n"
     ]
    },
    {
     "name": "stdout",
     "output_type": "stream",
     "text": [
      "\n",
      "      Epoch    GPU_mem   box_loss   cls_loss   dfl_loss  Instances       Size\n"
     ]
    },
    {
     "name": "stderr",
     "output_type": "stream",
     "text": [
      "   578/1000      6.95G     0.1225     0.1085     0.7678         47        736: 100%|██████████| 29/29 [00:04<00:00,  6.42it/s]\n"
     ]
    },
    {
     "name": "stdout",
     "output_type": "stream",
     "text": [
      "\n",
      "      Epoch    GPU_mem   box_loss   cls_loss   dfl_loss  Instances       Size\n"
     ]
    },
    {
     "name": "stderr",
     "output_type": "stream",
     "text": [
      "   579/1000      6.95G     0.1311      0.114     0.7694         50        736: 100%|██████████| 29/29 [00:04<00:00,  6.44it/s]\n"
     ]
    },
    {
     "name": "stdout",
     "output_type": "stream",
     "text": [
      "\n",
      "      Epoch    GPU_mem   box_loss   cls_loss   dfl_loss  Instances       Size\n"
     ]
    },
    {
     "name": "stderr",
     "output_type": "stream",
     "text": [
      "   580/1000      6.95G     0.1246     0.1088     0.7595         47        736: 100%|██████████| 29/29 [00:04<00:00,  6.44it/s]\n"
     ]
    },
    {
     "name": "stdout",
     "output_type": "stream",
     "text": [
      "\n",
      "      Epoch    GPU_mem   box_loss   cls_loss   dfl_loss  Instances       Size\n"
     ]
    },
    {
     "name": "stderr",
     "output_type": "stream",
     "text": [
      "   581/1000      6.95G     0.1157     0.1073     0.7696         48        736: 100%|██████████| 29/29 [00:04<00:00,  6.43it/s]\n"
     ]
    },
    {
     "name": "stdout",
     "output_type": "stream",
     "text": [
      "\n",
      "      Epoch    GPU_mem   box_loss   cls_loss   dfl_loss  Instances       Size\n"
     ]
    },
    {
     "name": "stderr",
     "output_type": "stream",
     "text": [
      "   582/1000      6.95G     0.1135     0.1053      0.765         51        736: 100%|██████████| 29/29 [00:04<00:00,  6.46it/s]\n"
     ]
    },
    {
     "name": "stdout",
     "output_type": "stream",
     "text": [
      "\n",
      "      Epoch    GPU_mem   box_loss   cls_loss   dfl_loss  Instances       Size\n"
     ]
    },
    {
     "name": "stderr",
     "output_type": "stream",
     "text": [
      "   583/1000      6.95G     0.1123     0.1064     0.7635         46        736: 100%|██████████| 29/29 [00:04<00:00,  6.44it/s]\n"
     ]
    },
    {
     "name": "stdout",
     "output_type": "stream",
     "text": [
      "\n",
      "      Epoch    GPU_mem   box_loss   cls_loss   dfl_loss  Instances       Size\n"
     ]
    },
    {
     "name": "stderr",
     "output_type": "stream",
     "text": [
      "   584/1000      6.95G     0.1095     0.1042     0.7702         39        736: 100%|██████████| 29/29 [00:04<00:00,  6.46it/s]\n"
     ]
    },
    {
     "name": "stdout",
     "output_type": "stream",
     "text": [
      "\n",
      "      Epoch    GPU_mem   box_loss   cls_loss   dfl_loss  Instances       Size\n"
     ]
    },
    {
     "name": "stderr",
     "output_type": "stream",
     "text": [
      "   585/1000      6.95G     0.1162     0.1102     0.7634         44        736: 100%|██████████| 29/29 [00:04<00:00,  6.43it/s]\n"
     ]
    },
    {
     "name": "stdout",
     "output_type": "stream",
     "text": [
      "\n",
      "      Epoch    GPU_mem   box_loss   cls_loss   dfl_loss  Instances       Size\n"
     ]
    },
    {
     "name": "stderr",
     "output_type": "stream",
     "text": [
      "   586/1000      6.95G     0.1168     0.1094     0.7563         35        736: 100%|██████████| 29/29 [00:04<00:00,  6.41it/s]\n"
     ]
    },
    {
     "name": "stdout",
     "output_type": "stream",
     "text": [
      "\n",
      "      Epoch    GPU_mem   box_loss   cls_loss   dfl_loss  Instances       Size\n"
     ]
    },
    {
     "name": "stderr",
     "output_type": "stream",
     "text": [
      "   587/1000      7.01G     0.1256     0.1176     0.7658         47        736: 100%|██████████| 29/29 [00:04<00:00,  6.43it/s]\n"
     ]
    },
    {
     "name": "stdout",
     "output_type": "stream",
     "text": [
      "\n",
      "      Epoch    GPU_mem   box_loss   cls_loss   dfl_loss  Instances       Size\n"
     ]
    },
    {
     "name": "stderr",
     "output_type": "stream",
     "text": [
      "   588/1000      6.95G     0.1204      0.112     0.7666         44        736: 100%|██████████| 29/29 [00:04<00:00,  6.44it/s]\n"
     ]
    },
    {
     "name": "stdout",
     "output_type": "stream",
     "text": [
      "\n",
      "      Epoch    GPU_mem   box_loss   cls_loss   dfl_loss  Instances       Size\n"
     ]
    },
    {
     "name": "stderr",
     "output_type": "stream",
     "text": [
      "   589/1000      6.95G     0.1203     0.1116     0.7667         45        736: 100%|██████████| 29/29 [00:04<00:00,  6.41it/s]\n"
     ]
    },
    {
     "name": "stdout",
     "output_type": "stream",
     "text": [
      "\n",
      "      Epoch    GPU_mem   box_loss   cls_loss   dfl_loss  Instances       Size\n"
     ]
    },
    {
     "name": "stderr",
     "output_type": "stream",
     "text": [
      "   590/1000      6.95G     0.1154     0.1057     0.7674         48        736: 100%|██████████| 29/29 [00:04<00:00,  6.43it/s]\n"
     ]
    },
    {
     "name": "stdout",
     "output_type": "stream",
     "text": [
      "\n",
      "      Epoch    GPU_mem   box_loss   cls_loss   dfl_loss  Instances       Size\n"
     ]
    },
    {
     "name": "stderr",
     "output_type": "stream",
     "text": [
      "   591/1000      6.95G     0.1124     0.1036     0.7653         52        736: 100%|██████████| 29/29 [00:04<00:00,  6.44it/s]\n"
     ]
    },
    {
     "name": "stdout",
     "output_type": "stream",
     "text": [
      "\n",
      "      Epoch    GPU_mem   box_loss   cls_loss   dfl_loss  Instances       Size\n"
     ]
    },
    {
     "name": "stderr",
     "output_type": "stream",
     "text": [
      "   592/1000      6.95G     0.1159     0.1059     0.7643         59        736: 100%|██████████| 29/29 [00:04<00:00,  6.44it/s]\n"
     ]
    },
    {
     "name": "stdout",
     "output_type": "stream",
     "text": [
      "\n",
      "      Epoch    GPU_mem   box_loss   cls_loss   dfl_loss  Instances       Size\n"
     ]
    },
    {
     "name": "stderr",
     "output_type": "stream",
     "text": [
      "   593/1000      6.95G     0.1175     0.1077     0.7597         42        736: 100%|██████████| 29/29 [00:04<00:00,  6.45it/s]\n"
     ]
    },
    {
     "name": "stdout",
     "output_type": "stream",
     "text": [
      "\n",
      "      Epoch    GPU_mem   box_loss   cls_loss   dfl_loss  Instances       Size\n"
     ]
    },
    {
     "name": "stderr",
     "output_type": "stream",
     "text": [
      "   594/1000      6.95G     0.1206     0.1061      0.768         49        736: 100%|██████████| 29/29 [00:04<00:00,  6.41it/s]\n"
     ]
    },
    {
     "name": "stdout",
     "output_type": "stream",
     "text": [
      "\n",
      "      Epoch    GPU_mem   box_loss   cls_loss   dfl_loss  Instances       Size\n"
     ]
    },
    {
     "name": "stderr",
     "output_type": "stream",
     "text": [
      "   595/1000      6.95G     0.1109     0.1058     0.7602         40        736: 100%|██████████| 29/29 [00:04<00:00,  6.44it/s]\n"
     ]
    },
    {
     "name": "stdout",
     "output_type": "stream",
     "text": [
      "\n",
      "      Epoch    GPU_mem   box_loss   cls_loss   dfl_loss  Instances       Size\n"
     ]
    },
    {
     "name": "stderr",
     "output_type": "stream",
     "text": [
      "   596/1000      6.82G     0.1096     0.1053     0.7595         50        736: 100%|██████████| 29/29 [00:04<00:00,  6.42it/s]\n"
     ]
    },
    {
     "name": "stdout",
     "output_type": "stream",
     "text": [
      "\n",
      "      Epoch    GPU_mem   box_loss   cls_loss   dfl_loss  Instances       Size\n"
     ]
    },
    {
     "name": "stderr",
     "output_type": "stream",
     "text": [
      "   597/1000      6.95G     0.1132     0.1058     0.7585         47        736: 100%|██████████| 29/29 [00:04<00:00,  6.41it/s]\n"
     ]
    },
    {
     "name": "stdout",
     "output_type": "stream",
     "text": [
      "\n",
      "      Epoch    GPU_mem   box_loss   cls_loss   dfl_loss  Instances       Size\n"
     ]
    },
    {
     "name": "stderr",
     "output_type": "stream",
     "text": [
      "   598/1000      6.95G     0.1147      0.106     0.7687         40        736: 100%|██████████| 29/29 [00:04<00:00,  6.43it/s]\n"
     ]
    },
    {
     "name": "stdout",
     "output_type": "stream",
     "text": [
      "\n",
      "      Epoch    GPU_mem   box_loss   cls_loss   dfl_loss  Instances       Size\n"
     ]
    },
    {
     "name": "stderr",
     "output_type": "stream",
     "text": [
      "   599/1000      6.82G     0.1157     0.1059     0.7671         44        736: 100%|██████████| 29/29 [00:04<00:00,  6.42it/s]\n"
     ]
    },
    {
     "name": "stdout",
     "output_type": "stream",
     "text": [
      "\n",
      "      Epoch    GPU_mem   box_loss   cls_loss   dfl_loss  Instances       Size\n"
     ]
    },
    {
     "name": "stderr",
     "output_type": "stream",
     "text": [
      "   600/1000      6.95G     0.1123     0.1049     0.7634         48        736: 100%|██████████| 29/29 [00:04<00:00,  6.43it/s]\n"
     ]
    },
    {
     "name": "stdout",
     "output_type": "stream",
     "text": [
      "\n",
      "      Epoch    GPU_mem   box_loss   cls_loss   dfl_loss  Instances       Size\n"
     ]
    },
    {
     "name": "stderr",
     "output_type": "stream",
     "text": [
      "   601/1000      6.95G     0.1113     0.1035     0.7688         46        736: 100%|██████████| 29/29 [00:04<00:00,  6.44it/s]\n"
     ]
    },
    {
     "name": "stdout",
     "output_type": "stream",
     "text": [
      "\n",
      "      Epoch    GPU_mem   box_loss   cls_loss   dfl_loss  Instances       Size\n"
     ]
    },
    {
     "name": "stderr",
     "output_type": "stream",
     "text": [
      "   602/1000      6.95G     0.1095     0.1035     0.7683         50        736: 100%|██████████| 29/29 [00:04<00:00,  6.41it/s]\n"
     ]
    },
    {
     "name": "stdout",
     "output_type": "stream",
     "text": [
      "\n",
      "      Epoch    GPU_mem   box_loss   cls_loss   dfl_loss  Instances       Size\n"
     ]
    },
    {
     "name": "stderr",
     "output_type": "stream",
     "text": [
      "   603/1000      6.95G     0.1059     0.1037     0.7596         48        736: 100%|██████████| 29/29 [00:04<00:00,  6.43it/s]\n"
     ]
    },
    {
     "name": "stdout",
     "output_type": "stream",
     "text": [
      "\n",
      "      Epoch    GPU_mem   box_loss   cls_loss   dfl_loss  Instances       Size\n"
     ]
    },
    {
     "name": "stderr",
     "output_type": "stream",
     "text": [
      "   604/1000      6.95G      0.115     0.1049     0.7633         51        736: 100%|██████████| 29/29 [00:04<00:00,  6.42it/s]\n"
     ]
    },
    {
     "name": "stdout",
     "output_type": "stream",
     "text": [
      "\n",
      "      Epoch    GPU_mem   box_loss   cls_loss   dfl_loss  Instances       Size\n"
     ]
    },
    {
     "name": "stderr",
     "output_type": "stream",
     "text": [
      "   605/1000      6.95G     0.1139     0.1042     0.7638         45        736: 100%|██████████| 29/29 [00:04<00:00,  6.42it/s]\n"
     ]
    },
    {
     "name": "stdout",
     "output_type": "stream",
     "text": [
      "\n",
      "      Epoch    GPU_mem   box_loss   cls_loss   dfl_loss  Instances       Size\n"
     ]
    },
    {
     "name": "stderr",
     "output_type": "stream",
     "text": [
      "   606/1000      6.95G     0.1121     0.1054     0.7669         58        736: 100%|██████████| 29/29 [00:04<00:00,  6.45it/s]\n"
     ]
    },
    {
     "name": "stdout",
     "output_type": "stream",
     "text": [
      "\n",
      "      Epoch    GPU_mem   box_loss   cls_loss   dfl_loss  Instances       Size\n"
     ]
    },
    {
     "name": "stderr",
     "output_type": "stream",
     "text": [
      "   607/1000      6.95G     0.1084     0.1033     0.7633         45        736: 100%|██████████| 29/29 [00:04<00:00,  6.43it/s]\n"
     ]
    },
    {
     "name": "stdout",
     "output_type": "stream",
     "text": [
      "\n",
      "      Epoch    GPU_mem   box_loss   cls_loss   dfl_loss  Instances       Size\n"
     ]
    },
    {
     "name": "stderr",
     "output_type": "stream",
     "text": [
      "   608/1000      6.95G     0.1125     0.1044     0.7621         40        736: 100%|██████████| 29/29 [00:04<00:00,  6.41it/s]\n"
     ]
    },
    {
     "name": "stdout",
     "output_type": "stream",
     "text": [
      "\n",
      "      Epoch    GPU_mem   box_loss   cls_loss   dfl_loss  Instances       Size\n"
     ]
    },
    {
     "name": "stderr",
     "output_type": "stream",
     "text": [
      "   609/1000      6.95G     0.1146     0.1068     0.7621         51        736: 100%|██████████| 29/29 [00:04<00:00,  6.43it/s]\n"
     ]
    },
    {
     "name": "stdout",
     "output_type": "stream",
     "text": [
      "\n",
      "      Epoch    GPU_mem   box_loss   cls_loss   dfl_loss  Instances       Size\n"
     ]
    },
    {
     "name": "stderr",
     "output_type": "stream",
     "text": [
      "   610/1000      6.95G     0.1087     0.1012     0.7658         49        736: 100%|██████████| 29/29 [00:04<00:00,  6.42it/s]\n"
     ]
    },
    {
     "name": "stdout",
     "output_type": "stream",
     "text": [
      "\n",
      "      Epoch    GPU_mem   box_loss   cls_loss   dfl_loss  Instances       Size\n"
     ]
    },
    {
     "name": "stderr",
     "output_type": "stream",
     "text": [
      "   611/1000      6.95G     0.1135     0.1059     0.7597         43        736: 100%|██████████| 29/29 [00:04<00:00,  6.44it/s]\n"
     ]
    },
    {
     "name": "stdout",
     "output_type": "stream",
     "text": [
      "\n",
      "      Epoch    GPU_mem   box_loss   cls_loss   dfl_loss  Instances       Size\n"
     ]
    },
    {
     "name": "stderr",
     "output_type": "stream",
     "text": [
      "   612/1000      6.95G     0.1092     0.1043     0.7554         41        736: 100%|██████████| 29/29 [00:04<00:00,  6.43it/s]\n"
     ]
    },
    {
     "name": "stdout",
     "output_type": "stream",
     "text": [
      "\n",
      "      Epoch    GPU_mem   box_loss   cls_loss   dfl_loss  Instances       Size\n"
     ]
    },
    {
     "name": "stderr",
     "output_type": "stream",
     "text": [
      "   613/1000      6.95G     0.1139     0.1073     0.7609         44        736: 100%|██████████| 29/29 [00:04<00:00,  6.41it/s]\n"
     ]
    },
    {
     "name": "stdout",
     "output_type": "stream",
     "text": [
      "\n",
      "      Epoch    GPU_mem   box_loss   cls_loss   dfl_loss  Instances       Size\n"
     ]
    },
    {
     "name": "stderr",
     "output_type": "stream",
     "text": [
      "   614/1000      6.95G     0.1081     0.1024     0.7583         42        736: 100%|██████████| 29/29 [00:04<00:00,  6.44it/s]\n"
     ]
    },
    {
     "name": "stdout",
     "output_type": "stream",
     "text": [
      "\n",
      "      Epoch    GPU_mem   box_loss   cls_loss   dfl_loss  Instances       Size\n"
     ]
    },
    {
     "name": "stderr",
     "output_type": "stream",
     "text": [
      "   615/1000      6.95G     0.1116      0.102     0.7649         42        736: 100%|██████████| 29/29 [00:04<00:00,  6.43it/s]\n"
     ]
    },
    {
     "name": "stdout",
     "output_type": "stream",
     "text": [
      "\n",
      "      Epoch    GPU_mem   box_loss   cls_loss   dfl_loss  Instances       Size\n"
     ]
    },
    {
     "name": "stderr",
     "output_type": "stream",
     "text": [
      "   616/1000      6.95G     0.1159     0.1063     0.7679         41        736: 100%|██████████| 29/29 [00:04<00:00,  6.43it/s]\n"
     ]
    },
    {
     "name": "stdout",
     "output_type": "stream",
     "text": [
      "\n",
      "      Epoch    GPU_mem   box_loss   cls_loss   dfl_loss  Instances       Size\n"
     ]
    },
    {
     "name": "stderr",
     "output_type": "stream",
     "text": [
      "   617/1000      6.82G     0.1114     0.1059     0.7639         49        736: 100%|██████████| 29/29 [00:04<00:00,  6.44it/s]\n"
     ]
    },
    {
     "name": "stdout",
     "output_type": "stream",
     "text": [
      "\n",
      "      Epoch    GPU_mem   box_loss   cls_loss   dfl_loss  Instances       Size\n"
     ]
    },
    {
     "name": "stderr",
     "output_type": "stream",
     "text": [
      "   618/1000      6.95G     0.1101     0.1023      0.762         50        736: 100%|██████████| 29/29 [00:04<00:00,  6.43it/s]\n"
     ]
    },
    {
     "name": "stdout",
     "output_type": "stream",
     "text": [
      "\n",
      "      Epoch    GPU_mem   box_loss   cls_loss   dfl_loss  Instances       Size\n"
     ]
    },
    {
     "name": "stderr",
     "output_type": "stream",
     "text": [
      "   619/1000      6.95G      0.106    0.09747     0.7704         38        736: 100%|██████████| 29/29 [00:04<00:00,  6.42it/s]\n"
     ]
    },
    {
     "name": "stdout",
     "output_type": "stream",
     "text": [
      "\n",
      "      Epoch    GPU_mem   box_loss   cls_loss   dfl_loss  Instances       Size\n"
     ]
    },
    {
     "name": "stderr",
     "output_type": "stream",
     "text": [
      "   620/1000      6.95G      0.109     0.1023     0.7543         31        736: 100%|██████████| 29/29 [00:04<00:00,  6.43it/s]\n"
     ]
    },
    {
     "name": "stdout",
     "output_type": "stream",
     "text": [
      "\n",
      "      Epoch    GPU_mem   box_loss   cls_loss   dfl_loss  Instances       Size\n"
     ]
    },
    {
     "name": "stderr",
     "output_type": "stream",
     "text": [
      "   621/1000      6.95G     0.1111     0.1015     0.7683         38        736: 100%|██████████| 29/29 [00:04<00:00,  6.42it/s]\n"
     ]
    },
    {
     "name": "stdout",
     "output_type": "stream",
     "text": [
      "\n",
      "      Epoch    GPU_mem   box_loss   cls_loss   dfl_loss  Instances       Size\n"
     ]
    },
    {
     "name": "stderr",
     "output_type": "stream",
     "text": [
      "   622/1000      6.95G     0.1149     0.1079     0.7613         52        736: 100%|██████████| 29/29 [00:04<00:00,  6.43it/s]\n"
     ]
    },
    {
     "name": "stdout",
     "output_type": "stream",
     "text": [
      "\n",
      "      Epoch    GPU_mem   box_loss   cls_loss   dfl_loss  Instances       Size\n"
     ]
    },
    {
     "name": "stderr",
     "output_type": "stream",
     "text": [
      "   623/1000      6.95G     0.1133     0.1035     0.7655         46        736: 100%|██████████| 29/29 [00:04<00:00,  6.43it/s]\n"
     ]
    },
    {
     "name": "stdout",
     "output_type": "stream",
     "text": [
      "\n",
      "      Epoch    GPU_mem   box_loss   cls_loss   dfl_loss  Instances       Size\n"
     ]
    },
    {
     "name": "stderr",
     "output_type": "stream",
     "text": [
      "   624/1000      6.95G     0.1108     0.1035     0.7635         37        736: 100%|██████████| 29/29 [00:04<00:00,  6.41it/s]\n"
     ]
    },
    {
     "name": "stdout",
     "output_type": "stream",
     "text": [
      "\n",
      "      Epoch    GPU_mem   box_loss   cls_loss   dfl_loss  Instances       Size\n"
     ]
    },
    {
     "name": "stderr",
     "output_type": "stream",
     "text": [
      "   625/1000      6.95G     0.1088     0.1039     0.7662         49        736: 100%|██████████| 29/29 [00:04<00:00,  6.44it/s]\n"
     ]
    },
    {
     "name": "stdout",
     "output_type": "stream",
     "text": [
      "\n",
      "      Epoch    GPU_mem   box_loss   cls_loss   dfl_loss  Instances       Size\n"
     ]
    },
    {
     "name": "stderr",
     "output_type": "stream",
     "text": [
      "   626/1000      6.95G     0.1086     0.1026     0.7701         48        736: 100%|██████████| 29/29 [00:04<00:00,  6.42it/s]\n"
     ]
    },
    {
     "name": "stdout",
     "output_type": "stream",
     "text": [
      "\n",
      "      Epoch    GPU_mem   box_loss   cls_loss   dfl_loss  Instances       Size\n"
     ]
    },
    {
     "name": "stderr",
     "output_type": "stream",
     "text": [
      "   627/1000      6.95G     0.1125     0.1034     0.7666         52        736: 100%|██████████| 29/29 [00:04<00:00,  6.44it/s]\n"
     ]
    },
    {
     "name": "stdout",
     "output_type": "stream",
     "text": [
      "\n",
      "      Epoch    GPU_mem   box_loss   cls_loss   dfl_loss  Instances       Size\n"
     ]
    },
    {
     "name": "stderr",
     "output_type": "stream",
     "text": [
      "   628/1000      6.95G     0.1074     0.1046     0.7569         51        736: 100%|██████████| 29/29 [00:04<00:00,  6.43it/s]\n"
     ]
    },
    {
     "name": "stdout",
     "output_type": "stream",
     "text": [
      "\n",
      "      Epoch    GPU_mem   box_loss   cls_loss   dfl_loss  Instances       Size\n"
     ]
    },
    {
     "name": "stderr",
     "output_type": "stream",
     "text": [
      "   629/1000      6.95G     0.1111     0.1037     0.7639         50        736: 100%|██████████| 29/29 [00:04<00:00,  6.42it/s]\n"
     ]
    },
    {
     "name": "stdout",
     "output_type": "stream",
     "text": [
      "\n",
      "      Epoch    GPU_mem   box_loss   cls_loss   dfl_loss  Instances       Size\n"
     ]
    },
    {
     "name": "stderr",
     "output_type": "stream",
     "text": [
      "   630/1000      6.95G     0.1073     0.1024     0.7653         39        736: 100%|██████████| 29/29 [00:04<00:00,  6.42it/s]\n"
     ]
    },
    {
     "name": "stdout",
     "output_type": "stream",
     "text": [
      "\n",
      "      Epoch    GPU_mem   box_loss   cls_loss   dfl_loss  Instances       Size\n"
     ]
    },
    {
     "name": "stderr",
     "output_type": "stream",
     "text": [
      "   631/1000      6.95G      0.101    0.09989     0.7647         47        736: 100%|██████████| 29/29 [00:04<00:00,  6.44it/s]\n"
     ]
    },
    {
     "name": "stdout",
     "output_type": "stream",
     "text": [
      "\n",
      "      Epoch    GPU_mem   box_loss   cls_loss   dfl_loss  Instances       Size\n"
     ]
    },
    {
     "name": "stderr",
     "output_type": "stream",
     "text": [
      "   632/1000      6.95G     0.1058     0.1014     0.7558         51        736: 100%|██████████| 29/29 [00:04<00:00,  6.41it/s]\n"
     ]
    },
    {
     "name": "stdout",
     "output_type": "stream",
     "text": [
      "\n",
      "      Epoch    GPU_mem   box_loss   cls_loss   dfl_loss  Instances       Size\n"
     ]
    },
    {
     "name": "stderr",
     "output_type": "stream",
     "text": [
      "   633/1000      6.95G     0.1084     0.1038     0.7603         47        736: 100%|██████████| 29/29 [00:04<00:00,  6.45it/s]\n"
     ]
    },
    {
     "name": "stdout",
     "output_type": "stream",
     "text": [
      "\n",
      "      Epoch    GPU_mem   box_loss   cls_loss   dfl_loss  Instances       Size\n"
     ]
    },
    {
     "name": "stderr",
     "output_type": "stream",
     "text": [
      "   634/1000      6.95G     0.1093    0.09874     0.7679         38        736: 100%|██████████| 29/29 [00:04<00:00,  6.43it/s]\n"
     ]
    },
    {
     "name": "stdout",
     "output_type": "stream",
     "text": [
      "\n",
      "      Epoch    GPU_mem   box_loss   cls_loss   dfl_loss  Instances       Size\n"
     ]
    },
    {
     "name": "stderr",
     "output_type": "stream",
     "text": [
      "   635/1000      6.95G      0.105     0.1007     0.7693         42        736: 100%|██████████| 29/29 [00:04<00:00,  6.41it/s]\n"
     ]
    },
    {
     "name": "stdout",
     "output_type": "stream",
     "text": [
      "\n",
      "      Epoch    GPU_mem   box_loss   cls_loss   dfl_loss  Instances       Size\n"
     ]
    },
    {
     "name": "stderr",
     "output_type": "stream",
     "text": [
      "   636/1000      6.95G     0.1048    0.09905     0.7671         35        736: 100%|██████████| 29/29 [00:04<00:00,  6.46it/s]\n"
     ]
    },
    {
     "name": "stdout",
     "output_type": "stream",
     "text": [
      "\n",
      "      Epoch    GPU_mem   box_loss   cls_loss   dfl_loss  Instances       Size\n"
     ]
    },
    {
     "name": "stderr",
     "output_type": "stream",
     "text": [
      "   637/1000      6.95G     0.1061     0.1025     0.7642         46        736: 100%|██████████| 29/29 [00:04<00:00,  6.42it/s]\n"
     ]
    },
    {
     "name": "stdout",
     "output_type": "stream",
     "text": [
      "\n",
      "      Epoch    GPU_mem   box_loss   cls_loss   dfl_loss  Instances       Size\n"
     ]
    },
    {
     "name": "stderr",
     "output_type": "stream",
     "text": [
      "   638/1000      6.95G     0.1092     0.1025     0.7684         44        736: 100%|██████████| 29/29 [00:04<00:00,  6.42it/s]\n"
     ]
    },
    {
     "name": "stdout",
     "output_type": "stream",
     "text": [
      "\n",
      "      Epoch    GPU_mem   box_loss   cls_loss   dfl_loss  Instances       Size\n"
     ]
    },
    {
     "name": "stderr",
     "output_type": "stream",
     "text": [
      "   639/1000      6.95G     0.1112     0.1026     0.7748         40        736: 100%|██████████| 29/29 [00:04<00:00,  6.44it/s]\n"
     ]
    },
    {
     "name": "stdout",
     "output_type": "stream",
     "text": [
      "\n",
      "      Epoch    GPU_mem   box_loss   cls_loss   dfl_loss  Instances       Size\n"
     ]
    },
    {
     "name": "stderr",
     "output_type": "stream",
     "text": [
      "   640/1000      6.95G     0.1122     0.1034     0.7666         41        736: 100%|██████████| 29/29 [00:04<00:00,  6.43it/s]\n"
     ]
    },
    {
     "name": "stdout",
     "output_type": "stream",
     "text": [
      "\n",
      "      Epoch    GPU_mem   box_loss   cls_loss   dfl_loss  Instances       Size\n"
     ]
    },
    {
     "name": "stderr",
     "output_type": "stream",
     "text": [
      "   641/1000      6.95G     0.1162     0.1036     0.7668         57        736: 100%|██████████| 29/29 [00:04<00:00,  6.44it/s]\n"
     ]
    },
    {
     "name": "stdout",
     "output_type": "stream",
     "text": [
      "\n",
      "      Epoch    GPU_mem   box_loss   cls_loss   dfl_loss  Instances       Size\n"
     ]
    },
    {
     "name": "stderr",
     "output_type": "stream",
     "text": [
      "   642/1000      6.95G     0.1151    0.09875     0.7629         37        736: 100%|██████████| 29/29 [00:04<00:00,  6.43it/s]\n"
     ]
    },
    {
     "name": "stdout",
     "output_type": "stream",
     "text": [
      "\n",
      "      Epoch    GPU_mem   box_loss   cls_loss   dfl_loss  Instances       Size\n"
     ]
    },
    {
     "name": "stderr",
     "output_type": "stream",
     "text": [
      "   643/1000      6.95G     0.1083    0.09927      0.768         32        736: 100%|██████████| 29/29 [00:04<00:00,  6.43it/s]\n"
     ]
    },
    {
     "name": "stdout",
     "output_type": "stream",
     "text": [
      "\n",
      "      Epoch    GPU_mem   box_loss   cls_loss   dfl_loss  Instances       Size\n"
     ]
    },
    {
     "name": "stderr",
     "output_type": "stream",
     "text": [
      "   644/1000      6.95G     0.1155     0.1001      0.772         32        736: 100%|██████████| 29/29 [00:04<00:00,  6.44it/s]\n"
     ]
    },
    {
     "name": "stdout",
     "output_type": "stream",
     "text": [
      "\n",
      "      Epoch    GPU_mem   box_loss   cls_loss   dfl_loss  Instances       Size\n"
     ]
    },
    {
     "name": "stderr",
     "output_type": "stream",
     "text": [
      "   645/1000      6.95G     0.1083     0.1012      0.768         38        736: 100%|██████████| 29/29 [00:04<00:00,  6.41it/s]\n"
     ]
    },
    {
     "name": "stdout",
     "output_type": "stream",
     "text": [
      "\n",
      "      Epoch    GPU_mem   box_loss   cls_loss   dfl_loss  Instances       Size\n"
     ]
    },
    {
     "name": "stderr",
     "output_type": "stream",
     "text": [
      "   646/1000      6.95G     0.1068    0.09876     0.7642         44        736: 100%|██████████| 29/29 [00:04<00:00,  6.42it/s]\n"
     ]
    },
    {
     "name": "stdout",
     "output_type": "stream",
     "text": [
      "\n",
      "      Epoch    GPU_mem   box_loss   cls_loss   dfl_loss  Instances       Size\n"
     ]
    },
    {
     "name": "stderr",
     "output_type": "stream",
     "text": [
      "   647/1000      6.95G     0.1006    0.09517     0.7632         49        736: 100%|██████████| 29/29 [00:04<00:00,  6.44it/s]\n"
     ]
    },
    {
     "name": "stdout",
     "output_type": "stream",
     "text": [
      "\n",
      "      Epoch    GPU_mem   box_loss   cls_loss   dfl_loss  Instances       Size\n"
     ]
    },
    {
     "name": "stderr",
     "output_type": "stream",
     "text": [
      "   648/1000         7G     0.1035    0.09823     0.7651         42        736: 100%|██████████| 29/29 [00:04<00:00,  6.42it/s]\n"
     ]
    },
    {
     "name": "stdout",
     "output_type": "stream",
     "text": [
      "\n",
      "      Epoch    GPU_mem   box_loss   cls_loss   dfl_loss  Instances       Size\n"
     ]
    },
    {
     "name": "stderr",
     "output_type": "stream",
     "text": [
      "   649/1000      6.95G     0.1079    0.09861     0.7702         56        736: 100%|██████████| 29/29 [00:04<00:00,  6.43it/s]\n"
     ]
    },
    {
     "name": "stdout",
     "output_type": "stream",
     "text": [
      "\n",
      "      Epoch    GPU_mem   box_loss   cls_loss   dfl_loss  Instances       Size\n"
     ]
    },
    {
     "name": "stderr",
     "output_type": "stream",
     "text": [
      "   650/1000      6.95G    0.09976    0.09675      0.767         49        736: 100%|██████████| 29/29 [00:04<00:00,  6.44it/s]\n"
     ]
    },
    {
     "name": "stdout",
     "output_type": "stream",
     "text": [
      "\n",
      "      Epoch    GPU_mem   box_loss   cls_loss   dfl_loss  Instances       Size\n"
     ]
    },
    {
     "name": "stderr",
     "output_type": "stream",
     "text": [
      "   651/1000      6.95G     0.1023    0.09846     0.7594         46        736: 100%|██████████| 29/29 [00:04<00:00,  6.44it/s]\n"
     ]
    },
    {
     "name": "stdout",
     "output_type": "stream",
     "text": [
      "\n",
      "      Epoch    GPU_mem   box_loss   cls_loss   dfl_loss  Instances       Size\n"
     ]
    },
    {
     "name": "stderr",
     "output_type": "stream",
     "text": [
      "   652/1000      6.95G    0.09993    0.09597     0.7593         46        736: 100%|██████████| 29/29 [00:04<00:00,  6.44it/s]\n"
     ]
    },
    {
     "name": "stdout",
     "output_type": "stream",
     "text": [
      "\n",
      "      Epoch    GPU_mem   box_loss   cls_loss   dfl_loss  Instances       Size\n"
     ]
    },
    {
     "name": "stderr",
     "output_type": "stream",
     "text": [
      "   653/1000      6.95G     0.1027    0.09852     0.7603         42        736: 100%|██████████| 29/29 [00:04<00:00,  6.44it/s]\n"
     ]
    },
    {
     "name": "stdout",
     "output_type": "stream",
     "text": [
      "\n",
      "      Epoch    GPU_mem   box_loss   cls_loss   dfl_loss  Instances       Size\n"
     ]
    },
    {
     "name": "stderr",
     "output_type": "stream",
     "text": [
      "   654/1000      6.95G     0.1034    0.09673     0.7648         41        736: 100%|██████████| 29/29 [00:04<00:00,  6.43it/s]\n"
     ]
    },
    {
     "name": "stdout",
     "output_type": "stream",
     "text": [
      "\n",
      "      Epoch    GPU_mem   box_loss   cls_loss   dfl_loss  Instances       Size\n"
     ]
    },
    {
     "name": "stderr",
     "output_type": "stream",
     "text": [
      "   655/1000      6.95G     0.1102     0.1041     0.7626         42        736: 100%|██████████| 29/29 [00:04<00:00,  6.46it/s]\n"
     ]
    },
    {
     "name": "stdout",
     "output_type": "stream",
     "text": [
      "\n",
      "      Epoch    GPU_mem   box_loss   cls_loss   dfl_loss  Instances       Size\n"
     ]
    },
    {
     "name": "stderr",
     "output_type": "stream",
     "text": [
      "   656/1000      6.95G     0.1076        0.1     0.7645         47        736: 100%|██████████| 29/29 [00:04<00:00,  6.42it/s]\n"
     ]
    },
    {
     "name": "stdout",
     "output_type": "stream",
     "text": [
      "\n",
      "      Epoch    GPU_mem   box_loss   cls_loss   dfl_loss  Instances       Size\n"
     ]
    },
    {
     "name": "stderr",
     "output_type": "stream",
     "text": [
      "   657/1000      6.95G      0.106     0.1004     0.7613         39        736: 100%|██████████| 29/29 [00:04<00:00,  6.42it/s]\n"
     ]
    },
    {
     "name": "stdout",
     "output_type": "stream",
     "text": [
      "\n",
      "      Epoch    GPU_mem   box_loss   cls_loss   dfl_loss  Instances       Size\n"
     ]
    },
    {
     "name": "stderr",
     "output_type": "stream",
     "text": [
      "   658/1000      6.95G     0.1026     0.1017      0.757         45        736: 100%|██████████| 29/29 [00:04<00:00,  6.44it/s]\n"
     ]
    },
    {
     "name": "stdout",
     "output_type": "stream",
     "text": [
      "\n",
      "      Epoch    GPU_mem   box_loss   cls_loss   dfl_loss  Instances       Size\n"
     ]
    },
    {
     "name": "stderr",
     "output_type": "stream",
     "text": [
      "   659/1000      6.95G     0.1038    0.09837     0.7613         53        736: 100%|██████████| 29/29 [00:04<00:00,  6.41it/s]\n"
     ]
    },
    {
     "name": "stdout",
     "output_type": "stream",
     "text": [
      "\n",
      "      Epoch    GPU_mem   box_loss   cls_loss   dfl_loss  Instances       Size\n"
     ]
    },
    {
     "name": "stderr",
     "output_type": "stream",
     "text": [
      "   660/1000      6.95G      0.106    0.09889     0.7578         52        736: 100%|██████████| 29/29 [00:04<00:00,  6.46it/s]\n"
     ]
    },
    {
     "name": "stdout",
     "output_type": "stream",
     "text": [
      "\n",
      "      Epoch    GPU_mem   box_loss   cls_loss   dfl_loss  Instances       Size\n"
     ]
    },
    {
     "name": "stderr",
     "output_type": "stream",
     "text": [
      "   661/1000      6.95G     0.1047      0.101     0.7635         57        736: 100%|██████████| 29/29 [00:04<00:00,  6.44it/s]\n"
     ]
    },
    {
     "name": "stdout",
     "output_type": "stream",
     "text": [
      "\n",
      "      Epoch    GPU_mem   box_loss   cls_loss   dfl_loss  Instances       Size\n"
     ]
    },
    {
     "name": "stderr",
     "output_type": "stream",
     "text": [
      "   662/1000      6.95G     0.1061    0.09964     0.7597         47        736: 100%|██████████| 29/29 [00:04<00:00,  6.42it/s]\n"
     ]
    },
    {
     "name": "stdout",
     "output_type": "stream",
     "text": [
      "\n",
      "      Epoch    GPU_mem   box_loss   cls_loss   dfl_loss  Instances       Size\n"
     ]
    },
    {
     "name": "stderr",
     "output_type": "stream",
     "text": [
      "   663/1000      6.95G     0.1076     0.1014     0.7634         36        736: 100%|██████████| 29/29 [00:04<00:00,  6.45it/s]\n"
     ]
    },
    {
     "name": "stdout",
     "output_type": "stream",
     "text": [
      "\n",
      "      Epoch    GPU_mem   box_loss   cls_loss   dfl_loss  Instances       Size\n"
     ]
    },
    {
     "name": "stderr",
     "output_type": "stream",
     "text": [
      "   664/1000      6.95G     0.1001    0.09534      0.768         36        736: 100%|██████████| 29/29 [00:04<00:00,  6.40it/s]\n"
     ]
    },
    {
     "name": "stdout",
     "output_type": "stream",
     "text": [
      "\n",
      "      Epoch    GPU_mem   box_loss   cls_loss   dfl_loss  Instances       Size\n"
     ]
    },
    {
     "name": "stderr",
     "output_type": "stream",
     "text": [
      "   665/1000      6.95G     0.1032    0.09561     0.7625         46        736: 100%|██████████| 29/29 [00:04<00:00,  6.41it/s]\n"
     ]
    },
    {
     "name": "stdout",
     "output_type": "stream",
     "text": [
      "\n",
      "      Epoch    GPU_mem   box_loss   cls_loss   dfl_loss  Instances       Size\n"
     ]
    },
    {
     "name": "stderr",
     "output_type": "stream",
     "text": [
      "   666/1000      6.95G     0.1052    0.09974     0.7619         44        736: 100%|██████████| 29/29 [00:04<00:00,  6.44it/s]\n"
     ]
    },
    {
     "name": "stdout",
     "output_type": "stream",
     "text": [
      "\n",
      "      Epoch    GPU_mem   box_loss   cls_loss   dfl_loss  Instances       Size\n"
     ]
    },
    {
     "name": "stderr",
     "output_type": "stream",
     "text": [
      "   667/1000      6.95G     0.1024     0.1007     0.7581         41        736: 100%|██████████| 29/29 [00:04<00:00,  6.42it/s]\n"
     ]
    },
    {
     "name": "stdout",
     "output_type": "stream",
     "text": [
      "\n",
      "      Epoch    GPU_mem   box_loss   cls_loss   dfl_loss  Instances       Size\n"
     ]
    },
    {
     "name": "stderr",
     "output_type": "stream",
     "text": [
      "   668/1000      6.95G     0.1057      0.101     0.7631         48        736: 100%|██████████| 29/29 [00:04<00:00,  6.42it/s]\n"
     ]
    },
    {
     "name": "stdout",
     "output_type": "stream",
     "text": [
      "\n",
      "      Epoch    GPU_mem   box_loss   cls_loss   dfl_loss  Instances       Size\n"
     ]
    },
    {
     "name": "stderr",
     "output_type": "stream",
     "text": [
      "   669/1000      6.95G     0.1051      0.102     0.7604         41        736: 100%|██████████| 29/29 [00:04<00:00,  6.46it/s]\n"
     ]
    },
    {
     "name": "stdout",
     "output_type": "stream",
     "text": [
      "\n",
      "      Epoch    GPU_mem   box_loss   cls_loss   dfl_loss  Instances       Size\n"
     ]
    },
    {
     "name": "stderr",
     "output_type": "stream",
     "text": [
      "   670/1000      6.95G     0.1046    0.09855     0.7632         56        736: 100%|██████████| 29/29 [00:04<00:00,  6.41it/s]\n"
     ]
    },
    {
     "name": "stdout",
     "output_type": "stream",
     "text": [
      "\n",
      "      Epoch    GPU_mem   box_loss   cls_loss   dfl_loss  Instances       Size\n"
     ]
    },
    {
     "name": "stderr",
     "output_type": "stream",
     "text": [
      "   671/1000      6.95G     0.1015     0.0964     0.7667         44        736: 100%|██████████| 29/29 [00:04<00:00,  6.43it/s]\n"
     ]
    },
    {
     "name": "stdout",
     "output_type": "stream",
     "text": [
      "\n",
      "      Epoch    GPU_mem   box_loss   cls_loss   dfl_loss  Instances       Size\n"
     ]
    },
    {
     "name": "stderr",
     "output_type": "stream",
     "text": [
      "   672/1000      6.95G     0.1025    0.09845     0.7615         45        736: 100%|██████████| 29/29 [00:04<00:00,  6.45it/s]\n"
     ]
    },
    {
     "name": "stdout",
     "output_type": "stream",
     "text": [
      "\n",
      "      Epoch    GPU_mem   box_loss   cls_loss   dfl_loss  Instances       Size\n"
     ]
    },
    {
     "name": "stderr",
     "output_type": "stream",
     "text": [
      "   673/1000      6.95G     0.1036    0.09904     0.7654         53        736: 100%|██████████| 29/29 [00:04<00:00,  6.42it/s]\n"
     ]
    },
    {
     "name": "stdout",
     "output_type": "stream",
     "text": [
      "\n",
      "      Epoch    GPU_mem   box_loss   cls_loss   dfl_loss  Instances       Size\n"
     ]
    },
    {
     "name": "stderr",
     "output_type": "stream",
     "text": [
      "   674/1000      6.95G        0.1    0.09833      0.764         41        736: 100%|██████████| 29/29 [00:04<00:00,  6.43it/s]\n"
     ]
    },
    {
     "name": "stdout",
     "output_type": "stream",
     "text": [
      "\n",
      "      Epoch    GPU_mem   box_loss   cls_loss   dfl_loss  Instances       Size\n"
     ]
    },
    {
     "name": "stderr",
     "output_type": "stream",
     "text": [
      "   675/1000      6.95G     0.1067     0.1002     0.7669         44        736: 100%|██████████| 29/29 [00:04<00:00,  6.42it/s]\n"
     ]
    },
    {
     "name": "stdout",
     "output_type": "stream",
     "text": [
      "\n",
      "      Epoch    GPU_mem   box_loss   cls_loss   dfl_loss  Instances       Size\n"
     ]
    },
    {
     "name": "stderr",
     "output_type": "stream",
     "text": [
      "   676/1000      6.95G      0.105      0.097     0.7715         42        736: 100%|██████████| 29/29 [00:04<00:00,  6.42it/s]\n"
     ]
    },
    {
     "name": "stdout",
     "output_type": "stream",
     "text": [
      "\n",
      "      Epoch    GPU_mem   box_loss   cls_loss   dfl_loss  Instances       Size\n"
     ]
    },
    {
     "name": "stderr",
     "output_type": "stream",
     "text": [
      "   677/1000      6.82G     0.1008    0.09576     0.7575         42        736: 100%|██████████| 29/29 [00:04<00:00,  6.42it/s]\n"
     ]
    },
    {
     "name": "stdout",
     "output_type": "stream",
     "text": [
      "\n",
      "      Epoch    GPU_mem   box_loss   cls_loss   dfl_loss  Instances       Size\n"
     ]
    },
    {
     "name": "stderr",
     "output_type": "stream",
     "text": [
      "   678/1000      6.95G     0.1004    0.09504     0.7602         42        736: 100%|██████████| 29/29 [00:04<00:00,  6.43it/s]\n"
     ]
    },
    {
     "name": "stdout",
     "output_type": "stream",
     "text": [
      "\n",
      "      Epoch    GPU_mem   box_loss   cls_loss   dfl_loss  Instances       Size\n"
     ]
    },
    {
     "name": "stderr",
     "output_type": "stream",
     "text": [
      "   679/1000      6.82G     0.1003    0.09298     0.7675         36        736: 100%|██████████| 29/29 [00:04<00:00,  6.43it/s]\n"
     ]
    },
    {
     "name": "stdout",
     "output_type": "stream",
     "text": [
      "\n",
      "      Epoch    GPU_mem   box_loss   cls_loss   dfl_loss  Instances       Size\n"
     ]
    },
    {
     "name": "stderr",
     "output_type": "stream",
     "text": [
      "   680/1000      6.95G    0.09865    0.09115      0.768         49        736: 100%|██████████| 29/29 [00:04<00:00,  6.42it/s]\n"
     ]
    },
    {
     "name": "stdout",
     "output_type": "stream",
     "text": [
      "\n",
      "      Epoch    GPU_mem   box_loss   cls_loss   dfl_loss  Instances       Size\n"
     ]
    },
    {
     "name": "stderr",
     "output_type": "stream",
     "text": [
      "   681/1000      6.95G    0.09601    0.09165     0.7623         49        736: 100%|██████████| 29/29 [00:04<00:00,  6.44it/s]\n"
     ]
    },
    {
     "name": "stdout",
     "output_type": "stream",
     "text": [
      "\n",
      "      Epoch    GPU_mem   box_loss   cls_loss   dfl_loss  Instances       Size\n"
     ]
    },
    {
     "name": "stderr",
     "output_type": "stream",
     "text": [
      "   682/1000      6.95G     0.1007    0.09453     0.7639         47        736: 100%|██████████| 29/29 [00:04<00:00,  6.44it/s]\n"
     ]
    },
    {
     "name": "stdout",
     "output_type": "stream",
     "text": [
      "\n",
      "      Epoch    GPU_mem   box_loss   cls_loss   dfl_loss  Instances       Size\n"
     ]
    },
    {
     "name": "stderr",
     "output_type": "stream",
     "text": [
      "   683/1000      6.95G     0.1038    0.09534     0.7664         47        736: 100%|██████████| 29/29 [00:04<00:00,  6.43it/s]\n"
     ]
    },
    {
     "name": "stdout",
     "output_type": "stream",
     "text": [
      "\n",
      "      Epoch    GPU_mem   box_loss   cls_loss   dfl_loss  Instances       Size\n"
     ]
    },
    {
     "name": "stderr",
     "output_type": "stream",
     "text": [
      "   684/1000      6.95G     0.1065    0.09717     0.7702         38        736: 100%|██████████| 29/29 [00:04<00:00,  6.45it/s]\n"
     ]
    },
    {
     "name": "stdout",
     "output_type": "stream",
     "text": [
      "\n",
      "      Epoch    GPU_mem   box_loss   cls_loss   dfl_loss  Instances       Size\n"
     ]
    },
    {
     "name": "stderr",
     "output_type": "stream",
     "text": [
      "   685/1000      6.95G     0.1004    0.09555     0.7673         55        736: 100%|██████████| 29/29 [00:04<00:00,  6.45it/s]\n"
     ]
    },
    {
     "name": "stdout",
     "output_type": "stream",
     "text": [
      "\n",
      "      Epoch    GPU_mem   box_loss   cls_loss   dfl_loss  Instances       Size\n"
     ]
    },
    {
     "name": "stderr",
     "output_type": "stream",
     "text": [
      "   686/1000      6.95G     0.1031    0.09851     0.7656         46        736: 100%|██████████| 29/29 [00:04<00:00,  6.40it/s]\n"
     ]
    },
    {
     "name": "stdout",
     "output_type": "stream",
     "text": [
      "\n",
      "      Epoch    GPU_mem   box_loss   cls_loss   dfl_loss  Instances       Size\n"
     ]
    },
    {
     "name": "stderr",
     "output_type": "stream",
     "text": [
      "   687/1000      6.95G     0.1044    0.09867     0.7643         45        736: 100%|██████████| 29/29 [00:04<00:00,  6.44it/s]\n"
     ]
    },
    {
     "name": "stdout",
     "output_type": "stream",
     "text": [
      "\n",
      "      Epoch    GPU_mem   box_loss   cls_loss   dfl_loss  Instances       Size\n"
     ]
    },
    {
     "name": "stderr",
     "output_type": "stream",
     "text": [
      "   688/1000      6.95G     0.1041    0.09968     0.7572         45        736: 100%|██████████| 29/29 [00:04<00:00,  6.44it/s]\n"
     ]
    },
    {
     "name": "stdout",
     "output_type": "stream",
     "text": [
      "\n",
      "      Epoch    GPU_mem   box_loss   cls_loss   dfl_loss  Instances       Size\n"
     ]
    },
    {
     "name": "stderr",
     "output_type": "stream",
     "text": [
      "   689/1000      6.95G     0.1001    0.09813     0.7655         50        736: 100%|██████████| 29/29 [00:04<00:00,  6.44it/s]\n"
     ]
    },
    {
     "name": "stdout",
     "output_type": "stream",
     "text": [
      "\n",
      "      Epoch    GPU_mem   box_loss   cls_loss   dfl_loss  Instances       Size\n"
     ]
    },
    {
     "name": "stderr",
     "output_type": "stream",
     "text": [
      "   690/1000      6.95G     0.1022    0.09739     0.7671         43        736: 100%|██████████| 29/29 [00:04<00:00,  6.43it/s]\n"
     ]
    },
    {
     "name": "stdout",
     "output_type": "stream",
     "text": [
      "\n",
      "      Epoch    GPU_mem   box_loss   cls_loss   dfl_loss  Instances       Size\n"
     ]
    },
    {
     "name": "stderr",
     "output_type": "stream",
     "text": [
      "   691/1000      6.95G    0.09785    0.09467     0.7598         50        736: 100%|██████████| 29/29 [00:04<00:00,  6.42it/s]\n"
     ]
    },
    {
     "name": "stdout",
     "output_type": "stream",
     "text": [
      "\n",
      "      Epoch    GPU_mem   box_loss   cls_loss   dfl_loss  Instances       Size\n"
     ]
    },
    {
     "name": "stderr",
     "output_type": "stream",
     "text": [
      "   692/1000      6.95G    0.09828    0.09395     0.7673         41        736: 100%|██████████| 29/29 [00:04<00:00,  6.39it/s]\n"
     ]
    },
    {
     "name": "stdout",
     "output_type": "stream",
     "text": [
      "\n",
      "      Epoch    GPU_mem   box_loss   cls_loss   dfl_loss  Instances       Size\n"
     ]
    },
    {
     "name": "stderr",
     "output_type": "stream",
     "text": [
      "   693/1000      6.95G     0.1096     0.1008     0.7654         47        736: 100%|██████████| 29/29 [00:04<00:00,  6.44it/s]\n"
     ]
    },
    {
     "name": "stdout",
     "output_type": "stream",
     "text": [
      "\n",
      "      Epoch    GPU_mem   box_loss   cls_loss   dfl_loss  Instances       Size\n"
     ]
    },
    {
     "name": "stderr",
     "output_type": "stream",
     "text": [
      "   694/1000      6.82G     0.1031    0.09492     0.7642         44        736: 100%|██████████| 29/29 [00:04<00:00,  6.42it/s]\n"
     ]
    },
    {
     "name": "stdout",
     "output_type": "stream",
     "text": [
      "\n",
      "      Epoch    GPU_mem   box_loss   cls_loss   dfl_loss  Instances       Size\n"
     ]
    },
    {
     "name": "stderr",
     "output_type": "stream",
     "text": [
      "   695/1000      6.95G     0.1046    0.09554      0.772         46        736: 100%|██████████| 29/29 [00:04<00:00,  6.42it/s]\n"
     ]
    },
    {
     "name": "stdout",
     "output_type": "stream",
     "text": [
      "\n",
      "      Epoch    GPU_mem   box_loss   cls_loss   dfl_loss  Instances       Size\n"
     ]
    },
    {
     "name": "stderr",
     "output_type": "stream",
     "text": [
      "   696/1000      6.95G     0.1035    0.09356     0.7697         46        736: 100%|██████████| 29/29 [00:04<00:00,  6.44it/s]\n"
     ]
    },
    {
     "name": "stdout",
     "output_type": "stream",
     "text": [
      "\n",
      "      Epoch    GPU_mem   box_loss   cls_loss   dfl_loss  Instances       Size\n"
     ]
    },
    {
     "name": "stderr",
     "output_type": "stream",
     "text": [
      "   697/1000      6.95G     0.1035    0.09612     0.7597         47        736: 100%|██████████| 29/29 [00:04<00:00,  6.42it/s]\n"
     ]
    },
    {
     "name": "stdout",
     "output_type": "stream",
     "text": [
      "\n",
      "      Epoch    GPU_mem   box_loss   cls_loss   dfl_loss  Instances       Size\n"
     ]
    },
    {
     "name": "stderr",
     "output_type": "stream",
     "text": [
      "   698/1000      6.95G     0.1012    0.09405     0.7637         49        736: 100%|██████████| 29/29 [00:04<00:00,  6.43it/s]\n"
     ]
    },
    {
     "name": "stdout",
     "output_type": "stream",
     "text": [
      "\n",
      "      Epoch    GPU_mem   box_loss   cls_loss   dfl_loss  Instances       Size\n"
     ]
    },
    {
     "name": "stderr",
     "output_type": "stream",
     "text": [
      "   699/1000      6.95G    0.09818    0.09187      0.759         51        736: 100%|██████████| 29/29 [00:04<00:00,  6.44it/s]\n"
     ]
    },
    {
     "name": "stdout",
     "output_type": "stream",
     "text": [
      "\n",
      "      Epoch    GPU_mem   box_loss   cls_loss   dfl_loss  Instances       Size\n"
     ]
    },
    {
     "name": "stderr",
     "output_type": "stream",
     "text": [
      "   700/1000      6.95G    0.09478    0.09108     0.7627         40        736: 100%|██████████| 29/29 [00:04<00:00,  6.41it/s]\n"
     ]
    },
    {
     "name": "stdout",
     "output_type": "stream",
     "text": [
      "\n",
      "      Epoch    GPU_mem   box_loss   cls_loss   dfl_loss  Instances       Size\n"
     ]
    },
    {
     "name": "stderr",
     "output_type": "stream",
     "text": [
      "   701/1000      6.95G    0.09571     0.0905     0.7628         48        736: 100%|██████████| 29/29 [00:04<00:00,  6.44it/s]\n"
     ]
    },
    {
     "name": "stdout",
     "output_type": "stream",
     "text": [
      "\n",
      "      Epoch    GPU_mem   box_loss   cls_loss   dfl_loss  Instances       Size\n"
     ]
    },
    {
     "name": "stderr",
     "output_type": "stream",
     "text": [
      "   702/1000      6.95G     0.1015    0.09591     0.7622         49        736: 100%|██████████| 29/29 [00:04<00:00,  6.43it/s]\n"
     ]
    },
    {
     "name": "stdout",
     "output_type": "stream",
     "text": [
      "\n",
      "      Epoch    GPU_mem   box_loss   cls_loss   dfl_loss  Instances       Size\n"
     ]
    },
    {
     "name": "stderr",
     "output_type": "stream",
     "text": [
      "   703/1000      6.95G     0.1022    0.09463      0.764         45        736: 100%|██████████| 29/29 [00:04<00:00,  6.42it/s]\n"
     ]
    },
    {
     "name": "stdout",
     "output_type": "stream",
     "text": [
      "\n",
      "      Epoch    GPU_mem   box_loss   cls_loss   dfl_loss  Instances       Size\n"
     ]
    },
    {
     "name": "stderr",
     "output_type": "stream",
     "text": [
      "   704/1000      6.95G      0.102    0.09542     0.7687         45        736: 100%|██████████| 29/29 [00:04<00:00,  6.44it/s]\n"
     ]
    },
    {
     "name": "stdout",
     "output_type": "stream",
     "text": [
      "\n",
      "      Epoch    GPU_mem   box_loss   cls_loss   dfl_loss  Instances       Size\n"
     ]
    },
    {
     "name": "stderr",
     "output_type": "stream",
     "text": [
      "   705/1000      6.95G    0.09973    0.09177     0.7672         45        736: 100%|██████████| 29/29 [00:04<00:00,  6.43it/s]\n"
     ]
    },
    {
     "name": "stdout",
     "output_type": "stream",
     "text": [
      "\n",
      "      Epoch    GPU_mem   box_loss   cls_loss   dfl_loss  Instances       Size\n"
     ]
    },
    {
     "name": "stderr",
     "output_type": "stream",
     "text": [
      "   706/1000      6.95G     0.1001    0.09386     0.7604         47        736: 100%|██████████| 29/29 [00:04<00:00,  6.42it/s]\n"
     ]
    },
    {
     "name": "stdout",
     "output_type": "stream",
     "text": [
      "\n",
      "      Epoch    GPU_mem   box_loss   cls_loss   dfl_loss  Instances       Size\n"
     ]
    },
    {
     "name": "stderr",
     "output_type": "stream",
     "text": [
      "   707/1000      6.95G     0.0956    0.09278     0.7611         49        736: 100%|██████████| 29/29 [00:04<00:00,  6.45it/s]\n"
     ]
    },
    {
     "name": "stdout",
     "output_type": "stream",
     "text": [
      "\n",
      "      Epoch    GPU_mem   box_loss   cls_loss   dfl_loss  Instances       Size\n"
     ]
    },
    {
     "name": "stderr",
     "output_type": "stream",
     "text": [
      "   708/1000      6.95G    0.09716    0.09329     0.7686         43        736: 100%|██████████| 29/29 [00:04<00:00,  6.42it/s]\n"
     ]
    },
    {
     "name": "stdout",
     "output_type": "stream",
     "text": [
      "\n",
      "      Epoch    GPU_mem   box_loss   cls_loss   dfl_loss  Instances       Size\n"
     ]
    },
    {
     "name": "stderr",
     "output_type": "stream",
     "text": [
      "   709/1000      6.95G    0.09816    0.09252     0.7637         51        736: 100%|██████████| 29/29 [00:04<00:00,  6.43it/s]\n"
     ]
    },
    {
     "name": "stdout",
     "output_type": "stream",
     "text": [
      "\n",
      "      Epoch    GPU_mem   box_loss   cls_loss   dfl_loss  Instances       Size\n"
     ]
    },
    {
     "name": "stderr",
     "output_type": "stream",
     "text": [
      "   710/1000      6.95G        0.1    0.09438     0.7628         42        736: 100%|██████████| 29/29 [00:04<00:00,  6.42it/s]\n"
     ]
    },
    {
     "name": "stdout",
     "output_type": "stream",
     "text": [
      "\n",
      "      Epoch    GPU_mem   box_loss   cls_loss   dfl_loss  Instances       Size\n"
     ]
    },
    {
     "name": "stderr",
     "output_type": "stream",
     "text": [
      "   711/1000      6.95G     0.1021    0.09419     0.7636         48        736: 100%|██████████| 29/29 [00:04<00:00,  6.42it/s]\n"
     ]
    },
    {
     "name": "stdout",
     "output_type": "stream",
     "text": [
      "\n",
      "      Epoch    GPU_mem   box_loss   cls_loss   dfl_loss  Instances       Size\n"
     ]
    },
    {
     "name": "stderr",
     "output_type": "stream",
     "text": [
      "   712/1000      6.82G     0.1001    0.09456      0.763         47        736: 100%|██████████| 29/29 [00:04<00:00,  6.43it/s]\n"
     ]
    },
    {
     "name": "stdout",
     "output_type": "stream",
     "text": [
      "\n",
      "      Epoch    GPU_mem   box_loss   cls_loss   dfl_loss  Instances       Size\n"
     ]
    },
    {
     "name": "stderr",
     "output_type": "stream",
     "text": [
      "   713/1000      6.95G    0.09578    0.09116     0.7591         48        736: 100%|██████████| 29/29 [00:04<00:00,  6.41it/s]\n"
     ]
    },
    {
     "name": "stdout",
     "output_type": "stream",
     "text": [
      "\n",
      "      Epoch    GPU_mem   box_loss   cls_loss   dfl_loss  Instances       Size\n"
     ]
    },
    {
     "name": "stderr",
     "output_type": "stream",
     "text": [
      "   714/1000      6.95G    0.09699    0.09229     0.7656         52        736: 100%|██████████| 29/29 [00:04<00:00,  6.43it/s]\n"
     ]
    },
    {
     "name": "stdout",
     "output_type": "stream",
     "text": [
      "\n",
      "      Epoch    GPU_mem   box_loss   cls_loss   dfl_loss  Instances       Size\n"
     ]
    },
    {
     "name": "stderr",
     "output_type": "stream",
     "text": [
      "   715/1000      6.95G    0.09449    0.09208     0.7676         39        736: 100%|██████████| 29/29 [00:04<00:00,  6.43it/s]\n"
     ]
    },
    {
     "name": "stdout",
     "output_type": "stream",
     "text": [
      "\n",
      "      Epoch    GPU_mem   box_loss   cls_loss   dfl_loss  Instances       Size\n"
     ]
    },
    {
     "name": "stderr",
     "output_type": "stream",
     "text": [
      "   716/1000      6.82G    0.09947    0.09504     0.7607         39        736: 100%|██████████| 29/29 [00:04<00:00,  6.42it/s]\n"
     ]
    },
    {
     "name": "stdout",
     "output_type": "stream",
     "text": [
      "\n",
      "      Epoch    GPU_mem   box_loss   cls_loss   dfl_loss  Instances       Size\n"
     ]
    },
    {
     "name": "stderr",
     "output_type": "stream",
     "text": [
      "   717/1000      6.95G     0.0953     0.0945     0.7683         49        736: 100%|██████████| 29/29 [00:04<00:00,  6.44it/s]\n"
     ]
    },
    {
     "name": "stdout",
     "output_type": "stream",
     "text": [
      "\n",
      "      Epoch    GPU_mem   box_loss   cls_loss   dfl_loss  Instances       Size\n"
     ]
    },
    {
     "name": "stderr",
     "output_type": "stream",
     "text": [
      "   718/1000      6.95G    0.09577    0.09159     0.7649         48        736: 100%|██████████| 29/29 [00:04<00:00,  6.45it/s]\n"
     ]
    },
    {
     "name": "stdout",
     "output_type": "stream",
     "text": [
      "\n",
      "      Epoch    GPU_mem   box_loss   cls_loss   dfl_loss  Instances       Size\n"
     ]
    },
    {
     "name": "stderr",
     "output_type": "stream",
     "text": [
      "   719/1000      6.95G    0.09471    0.09214     0.7636         53        736: 100%|██████████| 29/29 [00:04<00:00,  6.42it/s]\n"
     ]
    },
    {
     "name": "stdout",
     "output_type": "stream",
     "text": [
      "\n",
      "      Epoch    GPU_mem   box_loss   cls_loss   dfl_loss  Instances       Size\n"
     ]
    },
    {
     "name": "stderr",
     "output_type": "stream",
     "text": [
      "   720/1000      6.95G    0.09562    0.09167     0.7609         51        736: 100%|██████████| 29/29 [00:04<00:00,  6.43it/s]\n"
     ]
    },
    {
     "name": "stdout",
     "output_type": "stream",
     "text": [
      "\n",
      "      Epoch    GPU_mem   box_loss   cls_loss   dfl_loss  Instances       Size\n"
     ]
    },
    {
     "name": "stderr",
     "output_type": "stream",
     "text": [
      "   721/1000      6.95G    0.09494    0.09187     0.7605         47        736: 100%|██████████| 29/29 [00:04<00:00,  6.42it/s]\n"
     ]
    },
    {
     "name": "stdout",
     "output_type": "stream",
     "text": [
      "\n",
      "      Epoch    GPU_mem   box_loss   cls_loss   dfl_loss  Instances       Size\n"
     ]
    },
    {
     "name": "stderr",
     "output_type": "stream",
     "text": [
      "   722/1000      6.95G    0.09669    0.09432     0.7567         41        736: 100%|██████████| 29/29 [00:04<00:00,  6.41it/s]\n"
     ]
    },
    {
     "name": "stdout",
     "output_type": "stream",
     "text": [
      "\n",
      "      Epoch    GPU_mem   box_loss   cls_loss   dfl_loss  Instances       Size\n"
     ]
    },
    {
     "name": "stderr",
     "output_type": "stream",
     "text": [
      "   723/1000      6.95G    0.09566    0.09338     0.7646         57        736: 100%|██████████| 29/29 [00:04<00:00,  6.46it/s]\n"
     ]
    },
    {
     "name": "stdout",
     "output_type": "stream",
     "text": [
      "\n",
      "      Epoch    GPU_mem   box_loss   cls_loss   dfl_loss  Instances       Size\n"
     ]
    },
    {
     "name": "stderr",
     "output_type": "stream",
     "text": [
      "   724/1000      6.95G    0.09741    0.09188     0.7652         41        736: 100%|██████████| 29/29 [00:04<00:00,  6.42it/s]\n"
     ]
    },
    {
     "name": "stdout",
     "output_type": "stream",
     "text": [
      "\n",
      "      Epoch    GPU_mem   box_loss   cls_loss   dfl_loss  Instances       Size\n"
     ]
    },
    {
     "name": "stderr",
     "output_type": "stream",
     "text": [
      "   725/1000      7.01G    0.09665    0.09146     0.7653         51        736: 100%|██████████| 29/29 [00:04<00:00,  6.41it/s]\n"
     ]
    },
    {
     "name": "stdout",
     "output_type": "stream",
     "text": [
      "\n",
      "      Epoch    GPU_mem   box_loss   cls_loss   dfl_loss  Instances       Size\n"
     ]
    },
    {
     "name": "stderr",
     "output_type": "stream",
     "text": [
      "   726/1000      6.95G     0.0987    0.09202     0.7642         50        736: 100%|██████████| 29/29 [00:04<00:00,  6.44it/s]\n"
     ]
    },
    {
     "name": "stdout",
     "output_type": "stream",
     "text": [
      "\n",
      "      Epoch    GPU_mem   box_loss   cls_loss   dfl_loss  Instances       Size\n"
     ]
    },
    {
     "name": "stderr",
     "output_type": "stream",
     "text": [
      "   727/1000      6.95G    0.09603    0.08724     0.7704         44        736: 100%|██████████| 29/29 [00:04<00:00,  6.41it/s]\n"
     ]
    },
    {
     "name": "stdout",
     "output_type": "stream",
     "text": [
      "\n",
      "      Epoch    GPU_mem   box_loss   cls_loss   dfl_loss  Instances       Size\n"
     ]
    },
    {
     "name": "stderr",
     "output_type": "stream",
     "text": [
      "   728/1000      6.95G     0.0934    0.08867     0.7666         54        736: 100%|██████████| 29/29 [00:04<00:00,  6.43it/s]\n"
     ]
    },
    {
     "name": "stdout",
     "output_type": "stream",
     "text": [
      "\n",
      "      Epoch    GPU_mem   box_loss   cls_loss   dfl_loss  Instances       Size\n"
     ]
    },
    {
     "name": "stderr",
     "output_type": "stream",
     "text": [
      "   729/1000      6.95G    0.09288    0.09063     0.7671         41        736: 100%|██████████| 29/29 [00:04<00:00,  6.44it/s]\n"
     ]
    },
    {
     "name": "stdout",
     "output_type": "stream",
     "text": [
      "\n",
      "      Epoch    GPU_mem   box_loss   cls_loss   dfl_loss  Instances       Size\n"
     ]
    },
    {
     "name": "stderr",
     "output_type": "stream",
     "text": [
      "   730/1000      6.95G    0.09469    0.09158      0.761         47        736: 100%|██████████| 29/29 [00:04<00:00,  6.42it/s]\n"
     ]
    },
    {
     "name": "stdout",
     "output_type": "stream",
     "text": [
      "\n",
      "      Epoch    GPU_mem   box_loss   cls_loss   dfl_loss  Instances       Size\n"
     ]
    },
    {
     "name": "stderr",
     "output_type": "stream",
     "text": [
      "   731/1000      6.95G     0.0952    0.09155     0.7681         37        736: 100%|██████████| 29/29 [00:04<00:00,  6.41it/s]\n"
     ]
    },
    {
     "name": "stdout",
     "output_type": "stream",
     "text": [
      "\n",
      "      Epoch    GPU_mem   box_loss   cls_loss   dfl_loss  Instances       Size\n"
     ]
    },
    {
     "name": "stderr",
     "output_type": "stream",
     "text": [
      "   732/1000      6.82G    0.09507    0.09377     0.7631         37        736: 100%|██████████| 29/29 [00:04<00:00,  6.42it/s]\n"
     ]
    },
    {
     "name": "stdout",
     "output_type": "stream",
     "text": [
      "\n",
      "      Epoch    GPU_mem   box_loss   cls_loss   dfl_loss  Instances       Size\n"
     ]
    },
    {
     "name": "stderr",
     "output_type": "stream",
     "text": [
      "   733/1000      6.95G    0.09537    0.09064      0.767         50        736: 100%|██████████| 29/29 [00:04<00:00,  6.44it/s]\n"
     ]
    },
    {
     "name": "stdout",
     "output_type": "stream",
     "text": [
      "\n",
      "      Epoch    GPU_mem   box_loss   cls_loss   dfl_loss  Instances       Size\n"
     ]
    },
    {
     "name": "stderr",
     "output_type": "stream",
     "text": [
      "   734/1000      6.95G    0.09467      0.091     0.7678         46        736: 100%|██████████| 29/29 [00:04<00:00,  6.42it/s]\n"
     ]
    },
    {
     "name": "stdout",
     "output_type": "stream",
     "text": [
      "\n",
      "      Epoch    GPU_mem   box_loss   cls_loss   dfl_loss  Instances       Size\n"
     ]
    },
    {
     "name": "stderr",
     "output_type": "stream",
     "text": [
      "   735/1000      6.95G    0.09658    0.09252     0.7617         40        736: 100%|██████████| 29/29 [00:04<00:00,  6.43it/s]\n"
     ]
    },
    {
     "name": "stdout",
     "output_type": "stream",
     "text": [
      "\n",
      "      Epoch    GPU_mem   box_loss   cls_loss   dfl_loss  Instances       Size\n"
     ]
    },
    {
     "name": "stderr",
     "output_type": "stream",
     "text": [
      "   736/1000      6.95G    0.09447    0.09208     0.7586         39        736: 100%|██████████| 29/29 [00:04<00:00,  6.43it/s]\n"
     ]
    },
    {
     "name": "stdout",
     "output_type": "stream",
     "text": [
      "\n",
      "      Epoch    GPU_mem   box_loss   cls_loss   dfl_loss  Instances       Size\n"
     ]
    },
    {
     "name": "stderr",
     "output_type": "stream",
     "text": [
      "   737/1000      6.95G    0.09322    0.08947     0.7598         48        736: 100%|██████████| 29/29 [00:04<00:00,  6.43it/s]\n"
     ]
    },
    {
     "name": "stdout",
     "output_type": "stream",
     "text": [
      "\n",
      "      Epoch    GPU_mem   box_loss   cls_loss   dfl_loss  Instances       Size\n"
     ]
    },
    {
     "name": "stderr",
     "output_type": "stream",
     "text": [
      "   738/1000      6.95G    0.09476    0.08948     0.7624         43        736: 100%|██████████| 29/29 [00:04<00:00,  6.42it/s]\n"
     ]
    },
    {
     "name": "stdout",
     "output_type": "stream",
     "text": [
      "\n",
      "      Epoch    GPU_mem   box_loss   cls_loss   dfl_loss  Instances       Size\n"
     ]
    },
    {
     "name": "stderr",
     "output_type": "stream",
     "text": [
      "   739/1000      6.95G    0.09475    0.09018     0.7669         53        736: 100%|██████████| 29/29 [00:04<00:00,  6.44it/s]\n"
     ]
    },
    {
     "name": "stdout",
     "output_type": "stream",
     "text": [
      "\n",
      "      Epoch    GPU_mem   box_loss   cls_loss   dfl_loss  Instances       Size\n"
     ]
    },
    {
     "name": "stderr",
     "output_type": "stream",
     "text": [
      "   740/1000      6.95G    0.09543    0.09116     0.7623         33        736: 100%|██████████| 29/29 [00:04<00:00,  6.42it/s]\n"
     ]
    },
    {
     "name": "stdout",
     "output_type": "stream",
     "text": [
      "\n",
      "      Epoch    GPU_mem   box_loss   cls_loss   dfl_loss  Instances       Size\n"
     ]
    },
    {
     "name": "stderr",
     "output_type": "stream",
     "text": [
      "   741/1000      6.95G    0.09407    0.09073     0.7632         48        736: 100%|██████████| 29/29 [00:04<00:00,  6.41it/s]\n"
     ]
    },
    {
     "name": "stdout",
     "output_type": "stream",
     "text": [
      "\n",
      "      Epoch    GPU_mem   box_loss   cls_loss   dfl_loss  Instances       Size\n"
     ]
    },
    {
     "name": "stderr",
     "output_type": "stream",
     "text": [
      "   742/1000      6.95G     0.0956     0.0921      0.761         40        736: 100%|██████████| 29/29 [00:04<00:00,  6.45it/s]\n"
     ]
    },
    {
     "name": "stdout",
     "output_type": "stream",
     "text": [
      "\n",
      "      Epoch    GPU_mem   box_loss   cls_loss   dfl_loss  Instances       Size\n"
     ]
    },
    {
     "name": "stderr",
     "output_type": "stream",
     "text": [
      "   743/1000      6.95G    0.09453    0.09351     0.7634         46        736: 100%|██████████| 29/29 [00:04<00:00,  6.42it/s]\n"
     ]
    },
    {
     "name": "stdout",
     "output_type": "stream",
     "text": [
      "\n",
      "      Epoch    GPU_mem   box_loss   cls_loss   dfl_loss  Instances       Size\n"
     ]
    },
    {
     "name": "stderr",
     "output_type": "stream",
     "text": [
      "   744/1000      6.82G    0.09321    0.09171     0.7683         54        736: 100%|██████████| 29/29 [00:04<00:00,  6.44it/s]\n"
     ]
    },
    {
     "name": "stdout",
     "output_type": "stream",
     "text": [
      "\n",
      "      Epoch    GPU_mem   box_loss   cls_loss   dfl_loss  Instances       Size\n"
     ]
    },
    {
     "name": "stderr",
     "output_type": "stream",
     "text": [
      "   745/1000      6.95G    0.09216      0.092     0.7626         48        736: 100%|██████████| 29/29 [00:04<00:00,  6.43it/s]\n"
     ]
    },
    {
     "name": "stdout",
     "output_type": "stream",
     "text": [
      "\n",
      "      Epoch    GPU_mem   box_loss   cls_loss   dfl_loss  Instances       Size\n"
     ]
    },
    {
     "name": "stderr",
     "output_type": "stream",
     "text": [
      "   746/1000      6.95G    0.09204    0.08931     0.7587         48        736: 100%|██████████| 29/29 [00:04<00:00,  6.41it/s]\n"
     ]
    },
    {
     "name": "stdout",
     "output_type": "stream",
     "text": [
      "\n",
      "      Epoch    GPU_mem   box_loss   cls_loss   dfl_loss  Instances       Size\n"
     ]
    },
    {
     "name": "stderr",
     "output_type": "stream",
     "text": [
      "   747/1000      6.95G    0.09509    0.09026     0.7635         49        736: 100%|██████████| 29/29 [00:04<00:00,  6.45it/s]\n"
     ]
    },
    {
     "name": "stdout",
     "output_type": "stream",
     "text": [
      "\n",
      "      Epoch    GPU_mem   box_loss   cls_loss   dfl_loss  Instances       Size\n"
     ]
    },
    {
     "name": "stderr",
     "output_type": "stream",
     "text": [
      "   748/1000      6.95G    0.09268    0.09264     0.7611         40        736: 100%|██████████| 29/29 [00:04<00:00,  6.43it/s]\n"
     ]
    },
    {
     "name": "stdout",
     "output_type": "stream",
     "text": [
      "\n",
      "      Epoch    GPU_mem   box_loss   cls_loss   dfl_loss  Instances       Size\n"
     ]
    },
    {
     "name": "stderr",
     "output_type": "stream",
     "text": [
      "   749/1000      6.95G    0.09181    0.09213     0.7548         51        736: 100%|██████████| 29/29 [00:04<00:00,  6.41it/s]\n"
     ]
    },
    {
     "name": "stdout",
     "output_type": "stream",
     "text": [
      "\n",
      "      Epoch    GPU_mem   box_loss   cls_loss   dfl_loss  Instances       Size\n"
     ]
    },
    {
     "name": "stderr",
     "output_type": "stream",
     "text": [
      "   750/1000      6.95G    0.09156    0.08758     0.7677         45        736: 100%|██████████| 29/29 [00:04<00:00,  6.47it/s]\n"
     ]
    },
    {
     "name": "stdout",
     "output_type": "stream",
     "text": [
      "\n",
      "      Epoch    GPU_mem   box_loss   cls_loss   dfl_loss  Instances       Size\n"
     ]
    },
    {
     "name": "stderr",
     "output_type": "stream",
     "text": [
      "   751/1000      6.95G    0.09334    0.08912     0.7635         44        736: 100%|██████████| 29/29 [00:04<00:00,  6.42it/s]\n"
     ]
    },
    {
     "name": "stdout",
     "output_type": "stream",
     "text": [
      "\n",
      "      Epoch    GPU_mem   box_loss   cls_loss   dfl_loss  Instances       Size\n"
     ]
    },
    {
     "name": "stderr",
     "output_type": "stream",
     "text": [
      "   752/1000      6.95G    0.09182    0.08834     0.7627         38        736: 100%|██████████| 29/29 [00:04<00:00,  6.42it/s]\n"
     ]
    },
    {
     "name": "stdout",
     "output_type": "stream",
     "text": [
      "\n",
      "      Epoch    GPU_mem   box_loss   cls_loss   dfl_loss  Instances       Size\n"
     ]
    },
    {
     "name": "stderr",
     "output_type": "stream",
     "text": [
      "   753/1000      6.95G    0.09443    0.08767     0.7688         40        736: 100%|██████████| 29/29 [00:04<00:00,  6.43it/s]\n"
     ]
    },
    {
     "name": "stdout",
     "output_type": "stream",
     "text": [
      "\n",
      "      Epoch    GPU_mem   box_loss   cls_loss   dfl_loss  Instances       Size\n"
     ]
    },
    {
     "name": "stderr",
     "output_type": "stream",
     "text": [
      "   754/1000      6.95G    0.08786    0.08593      0.761         55        736: 100%|██████████| 29/29 [00:04<00:00,  6.42it/s]\n"
     ]
    },
    {
     "name": "stdout",
     "output_type": "stream",
     "text": [
      "\n",
      "      Epoch    GPU_mem   box_loss   cls_loss   dfl_loss  Instances       Size\n"
     ]
    },
    {
     "name": "stderr",
     "output_type": "stream",
     "text": [
      "   755/1000      6.95G    0.08928    0.08774     0.7655         48        736: 100%|██████████| 29/29 [00:04<00:00,  6.42it/s]\n"
     ]
    },
    {
     "name": "stdout",
     "output_type": "stream",
     "text": [
      "\n",
      "      Epoch    GPU_mem   box_loss   cls_loss   dfl_loss  Instances       Size\n"
     ]
    },
    {
     "name": "stderr",
     "output_type": "stream",
     "text": [
      "   756/1000      6.95G    0.09283    0.08913     0.7656         47        736: 100%|██████████| 29/29 [00:04<00:00,  6.42it/s]\n"
     ]
    },
    {
     "name": "stdout",
     "output_type": "stream",
     "text": [
      "\n",
      "      Epoch    GPU_mem   box_loss   cls_loss   dfl_loss  Instances       Size\n"
     ]
    },
    {
     "name": "stderr",
     "output_type": "stream",
     "text": [
      "   757/1000      6.95G    0.09352    0.08935     0.7624         49        736: 100%|██████████| 29/29 [00:04<00:00,  6.42it/s]\n"
     ]
    },
    {
     "name": "stdout",
     "output_type": "stream",
     "text": [
      "\n",
      "      Epoch    GPU_mem   box_loss   cls_loss   dfl_loss  Instances       Size\n"
     ]
    },
    {
     "name": "stderr",
     "output_type": "stream",
     "text": [
      "   758/1000      6.95G    0.09226    0.08805     0.7645         49        736: 100%|██████████| 29/29 [00:04<00:00,  6.44it/s]\n"
     ]
    },
    {
     "name": "stdout",
     "output_type": "stream",
     "text": [
      "\n",
      "      Epoch    GPU_mem   box_loss   cls_loss   dfl_loss  Instances       Size\n"
     ]
    },
    {
     "name": "stderr",
     "output_type": "stream",
     "text": [
      "   759/1000      6.95G    0.09057    0.08886       0.77         55        736: 100%|██████████| 29/29 [00:04<00:00,  6.44it/s]\n"
     ]
    },
    {
     "name": "stdout",
     "output_type": "stream",
     "text": [
      "\n",
      "      Epoch    GPU_mem   box_loss   cls_loss   dfl_loss  Instances       Size\n"
     ]
    },
    {
     "name": "stderr",
     "output_type": "stream",
     "text": [
      "   760/1000      6.95G    0.09227    0.09023     0.7643         42        736: 100%|██████████| 29/29 [00:04<00:00,  6.42it/s]\n"
     ]
    },
    {
     "name": "stdout",
     "output_type": "stream",
     "text": [
      "\n",
      "      Epoch    GPU_mem   box_loss   cls_loss   dfl_loss  Instances       Size\n"
     ]
    },
    {
     "name": "stderr",
     "output_type": "stream",
     "text": [
      "   761/1000      6.95G    0.09423    0.08986     0.7627         39        736: 100%|██████████| 29/29 [00:04<00:00,  6.45it/s]\n"
     ]
    },
    {
     "name": "stdout",
     "output_type": "stream",
     "text": [
      "\n",
      "      Epoch    GPU_mem   box_loss   cls_loss   dfl_loss  Instances       Size\n"
     ]
    },
    {
     "name": "stderr",
     "output_type": "stream",
     "text": [
      "   762/1000      6.95G    0.09297    0.08822     0.7601         39        736: 100%|██████████| 29/29 [00:04<00:00,  6.43it/s]\n"
     ]
    },
    {
     "name": "stdout",
     "output_type": "stream",
     "text": [
      "\n",
      "      Epoch    GPU_mem   box_loss   cls_loss   dfl_loss  Instances       Size\n"
     ]
    },
    {
     "name": "stderr",
     "output_type": "stream",
     "text": [
      "   763/1000      6.95G    0.09397    0.08711     0.7675         51        736: 100%|██████████| 29/29 [00:04<00:00,  6.43it/s]\n"
     ]
    },
    {
     "name": "stdout",
     "output_type": "stream",
     "text": [
      "\n",
      "      Epoch    GPU_mem   box_loss   cls_loss   dfl_loss  Instances       Size\n"
     ]
    },
    {
     "name": "stderr",
     "output_type": "stream",
     "text": [
      "   764/1000      6.95G    0.08905    0.08898     0.7654         38        736: 100%|██████████| 29/29 [00:04<00:00,  6.44it/s]\n"
     ]
    },
    {
     "name": "stdout",
     "output_type": "stream",
     "text": [
      "\n",
      "      Epoch    GPU_mem   box_loss   cls_loss   dfl_loss  Instances       Size\n"
     ]
    },
    {
     "name": "stderr",
     "output_type": "stream",
     "text": [
      "   765/1000      6.95G    0.08805    0.08744     0.7642         41        736: 100%|██████████| 29/29 [00:04<00:00,  6.41it/s]\n"
     ]
    },
    {
     "name": "stdout",
     "output_type": "stream",
     "text": [
      "\n",
      "      Epoch    GPU_mem   box_loss   cls_loss   dfl_loss  Instances       Size\n"
     ]
    },
    {
     "name": "stderr",
     "output_type": "stream",
     "text": [
      "   766/1000      6.95G    0.09058    0.08832     0.7685         45        736: 100%|██████████| 29/29 [00:04<00:00,  6.41it/s]\n"
     ]
    },
    {
     "name": "stdout",
     "output_type": "stream",
     "text": [
      "\n",
      "      Epoch    GPU_mem   box_loss   cls_loss   dfl_loss  Instances       Size\n"
     ]
    },
    {
     "name": "stderr",
     "output_type": "stream",
     "text": [
      "   767/1000      6.95G    0.09045    0.08814      0.763         36        736: 100%|██████████| 29/29 [00:04<00:00,  6.42it/s]\n"
     ]
    },
    {
     "name": "stdout",
     "output_type": "stream",
     "text": [
      "\n",
      "      Epoch    GPU_mem   box_loss   cls_loss   dfl_loss  Instances       Size\n"
     ]
    },
    {
     "name": "stderr",
     "output_type": "stream",
     "text": [
      "   768/1000      6.82G    0.08669    0.08551     0.7597         41        736: 100%|██████████| 29/29 [00:04<00:00,  6.42it/s]\n"
     ]
    },
    {
     "name": "stdout",
     "output_type": "stream",
     "text": [
      "\n",
      "      Epoch    GPU_mem   box_loss   cls_loss   dfl_loss  Instances       Size\n"
     ]
    },
    {
     "name": "stderr",
     "output_type": "stream",
     "text": [
      "   769/1000      6.95G    0.08843     0.0855     0.7714         45        736: 100%|██████████| 29/29 [00:04<00:00,  6.43it/s]\n"
     ]
    },
    {
     "name": "stdout",
     "output_type": "stream",
     "text": [
      "\n",
      "      Epoch    GPU_mem   box_loss   cls_loss   dfl_loss  Instances       Size\n"
     ]
    },
    {
     "name": "stderr",
     "output_type": "stream",
     "text": [
      "   770/1000      6.95G    0.09148     0.0879     0.7648         48        736: 100%|██████████| 29/29 [00:04<00:00,  6.41it/s]\n"
     ]
    },
    {
     "name": "stdout",
     "output_type": "stream",
     "text": [
      "\n",
      "      Epoch    GPU_mem   box_loss   cls_loss   dfl_loss  Instances       Size\n"
     ]
    },
    {
     "name": "stderr",
     "output_type": "stream",
     "text": [
      "   771/1000      6.95G    0.09056    0.08668     0.7633         39        736: 100%|██████████| 29/29 [00:04<00:00,  6.42it/s]\n"
     ]
    },
    {
     "name": "stdout",
     "output_type": "stream",
     "text": [
      "\n",
      "      Epoch    GPU_mem   box_loss   cls_loss   dfl_loss  Instances       Size\n"
     ]
    },
    {
     "name": "stderr",
     "output_type": "stream",
     "text": [
      "   772/1000      6.95G    0.09154    0.09121     0.7614         49        736: 100%|██████████| 29/29 [00:04<00:00,  6.42it/s]\n"
     ]
    },
    {
     "name": "stdout",
     "output_type": "stream",
     "text": [
      "\n",
      "      Epoch    GPU_mem   box_loss   cls_loss   dfl_loss  Instances       Size\n"
     ]
    },
    {
     "name": "stderr",
     "output_type": "stream",
     "text": [
      "   773/1000      6.82G    0.09363    0.08972     0.7664         52        736: 100%|██████████| 29/29 [00:04<00:00,  6.42it/s]\n"
     ]
    },
    {
     "name": "stdout",
     "output_type": "stream",
     "text": [
      "\n",
      "      Epoch    GPU_mem   box_loss   cls_loss   dfl_loss  Instances       Size\n"
     ]
    },
    {
     "name": "stderr",
     "output_type": "stream",
     "text": [
      "   774/1000      6.95G    0.09209    0.08873     0.7593         42        736: 100%|██████████| 29/29 [00:04<00:00,  6.44it/s]\n"
     ]
    },
    {
     "name": "stdout",
     "output_type": "stream",
     "text": [
      "\n",
      "      Epoch    GPU_mem   box_loss   cls_loss   dfl_loss  Instances       Size\n"
     ]
    },
    {
     "name": "stderr",
     "output_type": "stream",
     "text": [
      "   775/1000      6.95G    0.09029    0.08823     0.7641         45        736: 100%|██████████| 29/29 [00:04<00:00,  6.43it/s]\n"
     ]
    },
    {
     "name": "stdout",
     "output_type": "stream",
     "text": [
      "\n",
      "      Epoch    GPU_mem   box_loss   cls_loss   dfl_loss  Instances       Size\n"
     ]
    },
    {
     "name": "stderr",
     "output_type": "stream",
     "text": [
      "   776/1000      6.95G    0.09044     0.0882     0.7603         46        736: 100%|██████████| 29/29 [00:04<00:00,  6.42it/s]\n"
     ]
    },
    {
     "name": "stdout",
     "output_type": "stream",
     "text": [
      "\n",
      "      Epoch    GPU_mem   box_loss   cls_loss   dfl_loss  Instances       Size\n"
     ]
    },
    {
     "name": "stderr",
     "output_type": "stream",
     "text": [
      "   777/1000      6.95G    0.09089     0.0873     0.7683         38        736: 100%|██████████| 29/29 [00:04<00:00,  6.45it/s]\n"
     ]
    },
    {
     "name": "stdout",
     "output_type": "stream",
     "text": [
      "\n",
      "      Epoch    GPU_mem   box_loss   cls_loss   dfl_loss  Instances       Size\n"
     ]
    },
    {
     "name": "stderr",
     "output_type": "stream",
     "text": [
      "   778/1000      6.95G    0.08994    0.08649     0.7603         43        736: 100%|██████████| 29/29 [00:04<00:00,  6.43it/s]\n"
     ]
    },
    {
     "name": "stdout",
     "output_type": "stream",
     "text": [
      "\n",
      "      Epoch    GPU_mem   box_loss   cls_loss   dfl_loss  Instances       Size\n"
     ]
    },
    {
     "name": "stderr",
     "output_type": "stream",
     "text": [
      "   779/1000      6.95G    0.08612    0.08421     0.7647         47        736: 100%|██████████| 29/29 [00:04<00:00,  6.42it/s]\n"
     ]
    },
    {
     "name": "stdout",
     "output_type": "stream",
     "text": [
      "\n",
      "      Epoch    GPU_mem   box_loss   cls_loss   dfl_loss  Instances       Size\n"
     ]
    },
    {
     "name": "stderr",
     "output_type": "stream",
     "text": [
      "   780/1000      6.95G    0.08561    0.08466      0.763         42        736: 100%|██████████| 29/29 [00:04<00:00,  6.44it/s]\n"
     ]
    },
    {
     "name": "stdout",
     "output_type": "stream",
     "text": [
      "\n",
      "      Epoch    GPU_mem   box_loss   cls_loss   dfl_loss  Instances       Size\n"
     ]
    },
    {
     "name": "stderr",
     "output_type": "stream",
     "text": [
      "   781/1000      6.95G    0.08994     0.0864     0.7629         44        736: 100%|██████████| 29/29 [00:04<00:00,  6.42it/s]\n"
     ]
    },
    {
     "name": "stdout",
     "output_type": "stream",
     "text": [
      "\n",
      "      Epoch    GPU_mem   box_loss   cls_loss   dfl_loss  Instances       Size\n"
     ]
    },
    {
     "name": "stderr",
     "output_type": "stream",
     "text": [
      "   782/1000      6.82G     0.0896    0.08701     0.7664         46        736: 100%|██████████| 29/29 [00:04<00:00,  6.42it/s]\n"
     ]
    },
    {
     "name": "stdout",
     "output_type": "stream",
     "text": [
      "\n",
      "      Epoch    GPU_mem   box_loss   cls_loss   dfl_loss  Instances       Size\n"
     ]
    },
    {
     "name": "stderr",
     "output_type": "stream",
     "text": [
      "   783/1000      6.95G    0.09026    0.08923     0.7611         47        736: 100%|██████████| 29/29 [00:04<00:00,  6.44it/s]\n"
     ]
    },
    {
     "name": "stdout",
     "output_type": "stream",
     "text": [
      "\n",
      "      Epoch    GPU_mem   box_loss   cls_loss   dfl_loss  Instances       Size\n"
     ]
    },
    {
     "name": "stderr",
     "output_type": "stream",
     "text": [
      "   784/1000      6.95G    0.09079    0.08638     0.7632         42        736: 100%|██████████| 29/29 [00:04<00:00,  6.42it/s]\n"
     ]
    },
    {
     "name": "stdout",
     "output_type": "stream",
     "text": [
      "\n",
      "      Epoch    GPU_mem   box_loss   cls_loss   dfl_loss  Instances       Size\n"
     ]
    },
    {
     "name": "stderr",
     "output_type": "stream",
     "text": [
      "   785/1000      6.95G    0.08942    0.08583     0.7617         47        736: 100%|██████████| 29/29 [00:04<00:00,  6.44it/s]\n"
     ]
    },
    {
     "name": "stdout",
     "output_type": "stream",
     "text": [
      "\n",
      "      Epoch    GPU_mem   box_loss   cls_loss   dfl_loss  Instances       Size\n"
     ]
    },
    {
     "name": "stderr",
     "output_type": "stream",
     "text": [
      "   786/1000      6.95G    0.08913    0.08547     0.7606         37        736: 100%|██████████| 29/29 [00:04<00:00,  6.44it/s]\n"
     ]
    },
    {
     "name": "stdout",
     "output_type": "stream",
     "text": [
      "\n",
      "      Epoch    GPU_mem   box_loss   cls_loss   dfl_loss  Instances       Size\n"
     ]
    },
    {
     "name": "stderr",
     "output_type": "stream",
     "text": [
      "   787/1000      6.95G    0.08838    0.08685      0.762         39        736: 100%|██████████| 29/29 [00:04<00:00,  6.40it/s]\n"
     ]
    },
    {
     "name": "stdout",
     "output_type": "stream",
     "text": [
      "\n",
      "      Epoch    GPU_mem   box_loss   cls_loss   dfl_loss  Instances       Size\n"
     ]
    },
    {
     "name": "stderr",
     "output_type": "stream",
     "text": [
      "   788/1000      6.95G    0.09083    0.08628     0.7583         44        736: 100%|██████████| 29/29 [00:04<00:00,  6.44it/s]\n"
     ]
    },
    {
     "name": "stdout",
     "output_type": "stream",
     "text": [
      "\n",
      "      Epoch    GPU_mem   box_loss   cls_loss   dfl_loss  Instances       Size\n"
     ]
    },
    {
     "name": "stderr",
     "output_type": "stream",
     "text": [
      "   789/1000      6.95G     0.0895    0.08904     0.7559         39        736: 100%|██████████| 29/29 [00:04<00:00,  6.44it/s]\n"
     ]
    },
    {
     "name": "stdout",
     "output_type": "stream",
     "text": [
      "\n",
      "      Epoch    GPU_mem   box_loss   cls_loss   dfl_loss  Instances       Size\n"
     ]
    },
    {
     "name": "stderr",
     "output_type": "stream",
     "text": [
      "   790/1000      6.95G    0.09304    0.08725     0.7632         46        736: 100%|██████████| 29/29 [00:04<00:00,  6.41it/s]\n"
     ]
    },
    {
     "name": "stdout",
     "output_type": "stream",
     "text": [
      "\n",
      "      Epoch    GPU_mem   box_loss   cls_loss   dfl_loss  Instances       Size\n"
     ]
    },
    {
     "name": "stderr",
     "output_type": "stream",
     "text": [
      "   791/1000      6.95G      0.088    0.08677     0.7578         46        736: 100%|██████████| 29/29 [00:04<00:00,  6.44it/s]\n"
     ]
    },
    {
     "name": "stdout",
     "output_type": "stream",
     "text": [
      "\n",
      "      Epoch    GPU_mem   box_loss   cls_loss   dfl_loss  Instances       Size\n"
     ]
    },
    {
     "name": "stderr",
     "output_type": "stream",
     "text": [
      "   792/1000      6.95G    0.08798    0.08626     0.7638         47        736: 100%|██████████| 29/29 [00:04<00:00,  6.43it/s]\n"
     ]
    },
    {
     "name": "stdout",
     "output_type": "stream",
     "text": [
      "\n",
      "      Epoch    GPU_mem   box_loss   cls_loss   dfl_loss  Instances       Size\n"
     ]
    },
    {
     "name": "stderr",
     "output_type": "stream",
     "text": [
      "   793/1000      6.95G    0.08594    0.08457     0.7632         42        736: 100%|██████████| 29/29 [00:04<00:00,  6.42it/s]\n"
     ]
    },
    {
     "name": "stdout",
     "output_type": "stream",
     "text": [
      "\n",
      "      Epoch    GPU_mem   box_loss   cls_loss   dfl_loss  Instances       Size\n"
     ]
    },
    {
     "name": "stderr",
     "output_type": "stream",
     "text": [
      "   794/1000      6.95G     0.0865    0.08601     0.7617         49        736: 100%|██████████| 29/29 [00:04<00:00,  6.42it/s]\n"
     ]
    },
    {
     "name": "stdout",
     "output_type": "stream",
     "text": [
      "\n",
      "      Epoch    GPU_mem   box_loss   cls_loss   dfl_loss  Instances       Size\n"
     ]
    },
    {
     "name": "stderr",
     "output_type": "stream",
     "text": [
      "   795/1000      6.95G    0.08787    0.08468     0.7612         46        736: 100%|██████████| 29/29 [00:04<00:00,  6.43it/s]\n"
     ]
    },
    {
     "name": "stdout",
     "output_type": "stream",
     "text": [
      "\n",
      "      Epoch    GPU_mem   box_loss   cls_loss   dfl_loss  Instances       Size\n"
     ]
    },
    {
     "name": "stderr",
     "output_type": "stream",
     "text": [
      "   796/1000      6.95G      0.088    0.08551     0.7587         47        736: 100%|██████████| 29/29 [00:04<00:00,  6.45it/s]\n"
     ]
    },
    {
     "name": "stdout",
     "output_type": "stream",
     "text": [
      "\n",
      "      Epoch    GPU_mem   box_loss   cls_loss   dfl_loss  Instances       Size\n"
     ]
    },
    {
     "name": "stderr",
     "output_type": "stream",
     "text": [
      "   797/1000      6.95G    0.08617     0.0845     0.7657         38        736: 100%|██████████| 29/29 [00:04<00:00,  6.44it/s]\n"
     ]
    },
    {
     "name": "stdout",
     "output_type": "stream",
     "text": [
      "\n",
      "      Epoch    GPU_mem   box_loss   cls_loss   dfl_loss  Instances       Size\n"
     ]
    },
    {
     "name": "stderr",
     "output_type": "stream",
     "text": [
      "   798/1000      6.95G    0.08791    0.08615     0.7672         34        736: 100%|██████████| 29/29 [00:04<00:00,  6.43it/s]\n"
     ]
    },
    {
     "name": "stdout",
     "output_type": "stream",
     "text": [
      "\n",
      "      Epoch    GPU_mem   box_loss   cls_loss   dfl_loss  Instances       Size\n"
     ]
    },
    {
     "name": "stderr",
     "output_type": "stream",
     "text": [
      "   799/1000      6.95G    0.08739    0.08556     0.7614         41        736: 100%|██████████| 29/29 [00:04<00:00,  6.44it/s]\n"
     ]
    },
    {
     "name": "stdout",
     "output_type": "stream",
     "text": [
      "\n",
      "      Epoch    GPU_mem   box_loss   cls_loss   dfl_loss  Instances       Size\n"
     ]
    },
    {
     "name": "stderr",
     "output_type": "stream",
     "text": [
      "   800/1000      6.95G    0.08707    0.08479     0.7648         38        736: 100%|██████████| 29/29 [00:04<00:00,  6.41it/s]\n"
     ]
    },
    {
     "name": "stdout",
     "output_type": "stream",
     "text": [
      "\n",
      "      Epoch    GPU_mem   box_loss   cls_loss   dfl_loss  Instances       Size\n"
     ]
    },
    {
     "name": "stderr",
     "output_type": "stream",
     "text": [
      "   801/1000      6.95G    0.08921    0.08399     0.7683         39        736: 100%|██████████| 29/29 [00:04<00:00,  6.41it/s]\n"
     ]
    },
    {
     "name": "stdout",
     "output_type": "stream",
     "text": [
      "\n",
      "      Epoch    GPU_mem   box_loss   cls_loss   dfl_loss  Instances       Size\n"
     ]
    },
    {
     "name": "stderr",
     "output_type": "stream",
     "text": [
      "   802/1000      6.82G    0.08754    0.08316     0.7675         42        736: 100%|██████████| 29/29 [00:04<00:00,  6.42it/s]\n"
     ]
    },
    {
     "name": "stdout",
     "output_type": "stream",
     "text": [
      "\n",
      "      Epoch    GPU_mem   box_loss   cls_loss   dfl_loss  Instances       Size\n"
     ]
    },
    {
     "name": "stderr",
     "output_type": "stream",
     "text": [
      "   803/1000      6.95G    0.08689    0.08374     0.7697         50        736: 100%|██████████| 29/29 [00:04<00:00,  6.44it/s]\n"
     ]
    },
    {
     "name": "stdout",
     "output_type": "stream",
     "text": [
      "\n",
      "      Epoch    GPU_mem   box_loss   cls_loss   dfl_loss  Instances       Size\n"
     ]
    },
    {
     "name": "stderr",
     "output_type": "stream",
     "text": [
      "   804/1000      6.95G    0.08631    0.08471      0.765         53        736: 100%|██████████| 29/29 [00:04<00:00,  6.43it/s]\n"
     ]
    },
    {
     "name": "stdout",
     "output_type": "stream",
     "text": [
      "\n",
      "      Epoch    GPU_mem   box_loss   cls_loss   dfl_loss  Instances       Size\n"
     ]
    },
    {
     "name": "stderr",
     "output_type": "stream",
     "text": [
      "   805/1000      6.95G    0.08495    0.08388     0.7662         40        736: 100%|██████████| 29/29 [00:04<00:00,  6.43it/s]\n"
     ]
    },
    {
     "name": "stdout",
     "output_type": "stream",
     "text": [
      "\n",
      "      Epoch    GPU_mem   box_loss   cls_loss   dfl_loss  Instances       Size\n"
     ]
    },
    {
     "name": "stderr",
     "output_type": "stream",
     "text": [
      "   806/1000      6.95G    0.08794    0.08567     0.7648         55        736: 100%|██████████| 29/29 [00:04<00:00,  6.44it/s]\n"
     ]
    },
    {
     "name": "stdout",
     "output_type": "stream",
     "text": [
      "\n",
      "      Epoch    GPU_mem   box_loss   cls_loss   dfl_loss  Instances       Size\n"
     ]
    },
    {
     "name": "stderr",
     "output_type": "stream",
     "text": [
      "   807/1000      6.95G    0.09078    0.08791     0.7626         37        736: 100%|██████████| 29/29 [00:04<00:00,  6.45it/s]\n"
     ]
    },
    {
     "name": "stdout",
     "output_type": "stream",
     "text": [
      "\n",
      "      Epoch    GPU_mem   box_loss   cls_loss   dfl_loss  Instances       Size\n"
     ]
    },
    {
     "name": "stderr",
     "output_type": "stream",
     "text": [
      "   808/1000      6.95G    0.08682    0.08647     0.7637         45        736: 100%|██████████| 29/29 [00:04<00:00,  6.41it/s]\n"
     ]
    },
    {
     "name": "stdout",
     "output_type": "stream",
     "text": [
      "\n",
      "      Epoch    GPU_mem   box_loss   cls_loss   dfl_loss  Instances       Size\n"
     ]
    },
    {
     "name": "stderr",
     "output_type": "stream",
     "text": [
      "   809/1000      6.95G    0.08441    0.08451     0.7674         48        736: 100%|██████████| 29/29 [00:04<00:00,  6.42it/s]\n"
     ]
    },
    {
     "name": "stdout",
     "output_type": "stream",
     "text": [
      "\n",
      "      Epoch    GPU_mem   box_loss   cls_loss   dfl_loss  Instances       Size\n"
     ]
    },
    {
     "name": "stderr",
     "output_type": "stream",
     "text": [
      "   810/1000      6.95G    0.08524    0.08462     0.7558         46        736: 100%|██████████| 29/29 [00:04<00:00,  6.45it/s]\n"
     ]
    },
    {
     "name": "stdout",
     "output_type": "stream",
     "text": [
      "\n",
      "      Epoch    GPU_mem   box_loss   cls_loss   dfl_loss  Instances       Size\n"
     ]
    },
    {
     "name": "stderr",
     "output_type": "stream",
     "text": [
      "   811/1000      6.95G    0.08648    0.08426     0.7651         42        736: 100%|██████████| 29/29 [00:04<00:00,  6.41it/s]\n"
     ]
    },
    {
     "name": "stdout",
     "output_type": "stream",
     "text": [
      "\n",
      "      Epoch    GPU_mem   box_loss   cls_loss   dfl_loss  Instances       Size\n"
     ]
    },
    {
     "name": "stderr",
     "output_type": "stream",
     "text": [
      "   812/1000      6.95G    0.08453    0.08225     0.7649         46        736: 100%|██████████| 29/29 [00:04<00:00,  6.43it/s]\n"
     ]
    },
    {
     "name": "stdout",
     "output_type": "stream",
     "text": [
      "\n",
      "      Epoch    GPU_mem   box_loss   cls_loss   dfl_loss  Instances       Size\n"
     ]
    },
    {
     "name": "stderr",
     "output_type": "stream",
     "text": [
      "   813/1000      6.95G    0.08412    0.08292     0.7597         44        736: 100%|██████████| 29/29 [00:04<00:00,  6.45it/s]\n"
     ]
    },
    {
     "name": "stdout",
     "output_type": "stream",
     "text": [
      "\n",
      "      Epoch    GPU_mem   box_loss   cls_loss   dfl_loss  Instances       Size\n"
     ]
    },
    {
     "name": "stderr",
     "output_type": "stream",
     "text": [
      "   814/1000      6.95G      0.088     0.0818     0.7671         40        736: 100%|██████████| 29/29 [00:04<00:00,  6.42it/s]\n"
     ]
    },
    {
     "name": "stdout",
     "output_type": "stream",
     "text": [
      "\n",
      "      Epoch    GPU_mem   box_loss   cls_loss   dfl_loss  Instances       Size\n"
     ]
    },
    {
     "name": "stderr",
     "output_type": "stream",
     "text": [
      "   815/1000      6.95G    0.08828    0.08524     0.7654         44        736: 100%|██████████| 29/29 [00:04<00:00,  6.42it/s]\n"
     ]
    },
    {
     "name": "stdout",
     "output_type": "stream",
     "text": [
      "\n",
      "      Epoch    GPU_mem   box_loss   cls_loss   dfl_loss  Instances       Size\n"
     ]
    },
    {
     "name": "stderr",
     "output_type": "stream",
     "text": [
      "   816/1000      6.95G    0.08532     0.0832     0.7672         47        736: 100%|██████████| 29/29 [00:04<00:00,  6.42it/s]\n"
     ]
    },
    {
     "name": "stdout",
     "output_type": "stream",
     "text": [
      "\n",
      "      Epoch    GPU_mem   box_loss   cls_loss   dfl_loss  Instances       Size\n"
     ]
    },
    {
     "name": "stderr",
     "output_type": "stream",
     "text": [
      "   817/1000      6.95G    0.08558    0.08412     0.7603         41        736: 100%|██████████| 29/29 [00:04<00:00,  6.43it/s]\n"
     ]
    },
    {
     "name": "stdout",
     "output_type": "stream",
     "text": [
      "\n",
      "      Epoch    GPU_mem   box_loss   cls_loss   dfl_loss  Instances       Size\n"
     ]
    },
    {
     "name": "stderr",
     "output_type": "stream",
     "text": [
      "   818/1000      6.95G     0.0837     0.0839      0.765         41        736: 100%|██████████| 29/29 [00:04<00:00,  6.43it/s]\n"
     ]
    },
    {
     "name": "stdout",
     "output_type": "stream",
     "text": [
      "\n",
      "      Epoch    GPU_mem   box_loss   cls_loss   dfl_loss  Instances       Size\n"
     ]
    },
    {
     "name": "stderr",
     "output_type": "stream",
     "text": [
      "   819/1000      6.95G    0.08364    0.08184     0.7641         36        736: 100%|██████████| 29/29 [00:04<00:00,  6.42it/s]\n"
     ]
    },
    {
     "name": "stdout",
     "output_type": "stream",
     "text": [
      "\n",
      "      Epoch    GPU_mem   box_loss   cls_loss   dfl_loss  Instances       Size\n"
     ]
    },
    {
     "name": "stderr",
     "output_type": "stream",
     "text": [
      "   820/1000      6.95G    0.08602    0.08362     0.7633         51        736: 100%|██████████| 29/29 [00:04<00:00,  6.40it/s]\n"
     ]
    },
    {
     "name": "stdout",
     "output_type": "stream",
     "text": [
      "\n",
      "      Epoch    GPU_mem   box_loss   cls_loss   dfl_loss  Instances       Size\n"
     ]
    },
    {
     "name": "stderr",
     "output_type": "stream",
     "text": [
      "   821/1000      6.82G    0.08458    0.08295     0.7618         43        736: 100%|██████████| 29/29 [00:04<00:00,  6.45it/s]\n"
     ]
    },
    {
     "name": "stdout",
     "output_type": "stream",
     "text": [
      "\n",
      "      Epoch    GPU_mem   box_loss   cls_loss   dfl_loss  Instances       Size\n"
     ]
    },
    {
     "name": "stderr",
     "output_type": "stream",
     "text": [
      "   822/1000      6.95G    0.08345    0.08151     0.7662         38        736: 100%|██████████| 29/29 [00:04<00:00,  6.45it/s]\n"
     ]
    },
    {
     "name": "stdout",
     "output_type": "stream",
     "text": [
      "\n",
      "      Epoch    GPU_mem   box_loss   cls_loss   dfl_loss  Instances       Size\n"
     ]
    },
    {
     "name": "stderr",
     "output_type": "stream",
     "text": [
      "   823/1000      6.95G    0.08267    0.08356     0.7621         49        736: 100%|██████████| 29/29 [00:04<00:00,  6.43it/s]\n"
     ]
    },
    {
     "name": "stdout",
     "output_type": "stream",
     "text": [
      "\n",
      "      Epoch    GPU_mem   box_loss   cls_loss   dfl_loss  Instances       Size\n"
     ]
    },
    {
     "name": "stderr",
     "output_type": "stream",
     "text": [
      "   824/1000      6.95G    0.08133    0.08115     0.7644         41        736: 100%|██████████| 29/29 [00:04<00:00,  6.42it/s]\n"
     ]
    },
    {
     "name": "stdout",
     "output_type": "stream",
     "text": [
      "\n",
      "      Epoch    GPU_mem   box_loss   cls_loss   dfl_loss  Instances       Size\n"
     ]
    },
    {
     "name": "stderr",
     "output_type": "stream",
     "text": [
      "   825/1000      6.95G    0.08422    0.08346     0.7641         40        736: 100%|██████████| 29/29 [00:04<00:00,  6.42it/s]\n"
     ]
    },
    {
     "name": "stdout",
     "output_type": "stream",
     "text": [
      "\n",
      "      Epoch    GPU_mem   box_loss   cls_loss   dfl_loss  Instances       Size\n"
     ]
    },
    {
     "name": "stderr",
     "output_type": "stream",
     "text": [
      "   826/1000      6.95G    0.08433    0.08356     0.7672         40        736: 100%|██████████| 29/29 [00:04<00:00,  6.41it/s]\n"
     ]
    },
    {
     "name": "stdout",
     "output_type": "stream",
     "text": [
      "\n",
      "      Epoch    GPU_mem   box_loss   cls_loss   dfl_loss  Instances       Size\n"
     ]
    },
    {
     "name": "stderr",
     "output_type": "stream",
     "text": [
      "   827/1000      6.95G    0.08404    0.08273     0.7575         48        736: 100%|██████████| 29/29 [00:04<00:00,  6.43it/s]\n"
     ]
    },
    {
     "name": "stdout",
     "output_type": "stream",
     "text": [
      "\n",
      "      Epoch    GPU_mem   box_loss   cls_loss   dfl_loss  Instances       Size\n"
     ]
    },
    {
     "name": "stderr",
     "output_type": "stream",
     "text": [
      "   828/1000      6.95G    0.08645     0.0841     0.7632         41        736: 100%|██████████| 29/29 [00:04<00:00,  6.44it/s]\n"
     ]
    },
    {
     "name": "stdout",
     "output_type": "stream",
     "text": [
      "\n",
      "      Epoch    GPU_mem   box_loss   cls_loss   dfl_loss  Instances       Size\n"
     ]
    },
    {
     "name": "stderr",
     "output_type": "stream",
     "text": [
      "   829/1000      6.95G    0.08512    0.08483      0.758         41        736: 100%|██████████| 29/29 [00:04<00:00,  6.46it/s]\n"
     ]
    },
    {
     "name": "stdout",
     "output_type": "stream",
     "text": [
      "\n",
      "      Epoch    GPU_mem   box_loss   cls_loss   dfl_loss  Instances       Size\n"
     ]
    },
    {
     "name": "stderr",
     "output_type": "stream",
     "text": [
      "   830/1000      6.95G    0.08613    0.08522     0.7614         41        736: 100%|██████████| 29/29 [00:04<00:00,  6.44it/s]\n"
     ]
    },
    {
     "name": "stdout",
     "output_type": "stream",
     "text": [
      "\n",
      "      Epoch    GPU_mem   box_loss   cls_loss   dfl_loss  Instances       Size\n"
     ]
    },
    {
     "name": "stderr",
     "output_type": "stream",
     "text": [
      "   831/1000      6.95G    0.08489    0.08471     0.7588         46        736: 100%|██████████| 29/29 [00:04<00:00,  6.43it/s]\n"
     ]
    },
    {
     "name": "stdout",
     "output_type": "stream",
     "text": [
      "\n",
      "      Epoch    GPU_mem   box_loss   cls_loss   dfl_loss  Instances       Size\n"
     ]
    },
    {
     "name": "stderr",
     "output_type": "stream",
     "text": [
      "   832/1000      6.95G    0.08394     0.0822     0.7646         44        736: 100%|██████████| 29/29 [00:04<00:00,  6.44it/s]\n"
     ]
    },
    {
     "name": "stdout",
     "output_type": "stream",
     "text": [
      "\n",
      "      Epoch    GPU_mem   box_loss   cls_loss   dfl_loss  Instances       Size\n"
     ]
    },
    {
     "name": "stderr",
     "output_type": "stream",
     "text": [
      "   833/1000      6.95G    0.08536    0.08256     0.7612         40        736: 100%|██████████| 29/29 [00:04<00:00,  6.42it/s]\n"
     ]
    },
    {
     "name": "stdout",
     "output_type": "stream",
     "text": [
      "\n",
      "      Epoch    GPU_mem   box_loss   cls_loss   dfl_loss  Instances       Size\n"
     ]
    },
    {
     "name": "stderr",
     "output_type": "stream",
     "text": [
      "   834/1000      6.95G     0.0841    0.08163     0.7672         52        736: 100%|██████████| 29/29 [00:04<00:00,  6.42it/s]\n"
     ]
    },
    {
     "name": "stdout",
     "output_type": "stream",
     "text": [
      "\n",
      "      Epoch    GPU_mem   box_loss   cls_loss   dfl_loss  Instances       Size\n"
     ]
    },
    {
     "name": "stderr",
     "output_type": "stream",
     "text": [
      "   835/1000      6.95G    0.08212     0.0808     0.7628         41        736: 100%|██████████| 29/29 [00:04<00:00,  6.43it/s]\n"
     ]
    },
    {
     "name": "stdout",
     "output_type": "stream",
     "text": [
      "\n",
      "      Epoch    GPU_mem   box_loss   cls_loss   dfl_loss  Instances       Size\n"
     ]
    },
    {
     "name": "stderr",
     "output_type": "stream",
     "text": [
      "   836/1000      6.95G    0.08264    0.08103     0.7594         41        736: 100%|██████████| 29/29 [00:04<00:00,  6.42it/s]\n"
     ]
    },
    {
     "name": "stdout",
     "output_type": "stream",
     "text": [
      "\n",
      "      Epoch    GPU_mem   box_loss   cls_loss   dfl_loss  Instances       Size\n"
     ]
    },
    {
     "name": "stderr",
     "output_type": "stream",
     "text": [
      "   837/1000      6.95G    0.08269    0.08107     0.7703         48        736: 100%|██████████| 29/29 [00:04<00:00,  6.45it/s]\n"
     ]
    },
    {
     "name": "stdout",
     "output_type": "stream",
     "text": [
      "\n",
      "      Epoch    GPU_mem   box_loss   cls_loss   dfl_loss  Instances       Size\n"
     ]
    },
    {
     "name": "stderr",
     "output_type": "stream",
     "text": [
      "   838/1000      6.95G    0.08379    0.08313     0.7535         50        736: 100%|██████████| 29/29 [00:04<00:00,  6.42it/s]\n"
     ]
    },
    {
     "name": "stdout",
     "output_type": "stream",
     "text": [
      "\n",
      "      Epoch    GPU_mem   box_loss   cls_loss   dfl_loss  Instances       Size\n"
     ]
    },
    {
     "name": "stderr",
     "output_type": "stream",
     "text": [
      "   839/1000      6.95G    0.08288    0.08167     0.7605         54        736: 100%|██████████| 29/29 [00:04<00:00,  6.41it/s]\n"
     ]
    },
    {
     "name": "stdout",
     "output_type": "stream",
     "text": [
      "\n",
      "      Epoch    GPU_mem   box_loss   cls_loss   dfl_loss  Instances       Size\n"
     ]
    },
    {
     "name": "stderr",
     "output_type": "stream",
     "text": [
      "   840/1000      6.95G    0.08187    0.08238      0.762         43        736: 100%|██████████| 29/29 [00:04<00:00,  6.44it/s]\n"
     ]
    },
    {
     "name": "stdout",
     "output_type": "stream",
     "text": [
      "\n",
      "      Epoch    GPU_mem   box_loss   cls_loss   dfl_loss  Instances       Size\n"
     ]
    },
    {
     "name": "stderr",
     "output_type": "stream",
     "text": [
      "   841/1000      6.95G    0.08333    0.08095     0.7629         43        736: 100%|██████████| 29/29 [00:04<00:00,  6.43it/s]\n"
     ]
    },
    {
     "name": "stdout",
     "output_type": "stream",
     "text": [
      "\n",
      "      Epoch    GPU_mem   box_loss   cls_loss   dfl_loss  Instances       Size\n"
     ]
    },
    {
     "name": "stderr",
     "output_type": "stream",
     "text": [
      "   842/1000      6.95G    0.08515    0.08212     0.7646         36        736: 100%|██████████| 29/29 [00:04<00:00,  6.43it/s]\n"
     ]
    },
    {
     "name": "stdout",
     "output_type": "stream",
     "text": [
      "\n",
      "      Epoch    GPU_mem   box_loss   cls_loss   dfl_loss  Instances       Size\n"
     ]
    },
    {
     "name": "stderr",
     "output_type": "stream",
     "text": [
      "   843/1000      6.95G    0.08058    0.08004     0.7603         41        736: 100%|██████████| 29/29 [00:04<00:00,  6.47it/s]\n"
     ]
    },
    {
     "name": "stdout",
     "output_type": "stream",
     "text": [
      "\n",
      "      Epoch    GPU_mem   box_loss   cls_loss   dfl_loss  Instances       Size\n"
     ]
    },
    {
     "name": "stderr",
     "output_type": "stream",
     "text": [
      "   844/1000      6.82G    0.08132    0.08029     0.7617         46        736: 100%|██████████| 29/29 [00:04<00:00,  6.43it/s]\n"
     ]
    },
    {
     "name": "stdout",
     "output_type": "stream",
     "text": [
      "\n",
      "      Epoch    GPU_mem   box_loss   cls_loss   dfl_loss  Instances       Size\n"
     ]
    },
    {
     "name": "stderr",
     "output_type": "stream",
     "text": [
      "   845/1000      6.95G    0.08183    0.08255     0.7643         41        736: 100%|██████████| 29/29 [00:04<00:00,  6.44it/s]\n"
     ]
    },
    {
     "name": "stdout",
     "output_type": "stream",
     "text": [
      "\n",
      "      Epoch    GPU_mem   box_loss   cls_loss   dfl_loss  Instances       Size\n"
     ]
    },
    {
     "name": "stderr",
     "output_type": "stream",
     "text": [
      "   846/1000      6.95G    0.08363    0.08236     0.7672         57        736: 100%|██████████| 29/29 [00:04<00:00,  6.43it/s]\n"
     ]
    },
    {
     "name": "stdout",
     "output_type": "stream",
     "text": [
      "\n",
      "      Epoch    GPU_mem   box_loss   cls_loss   dfl_loss  Instances       Size\n"
     ]
    },
    {
     "name": "stderr",
     "output_type": "stream",
     "text": [
      "   847/1000      6.95G    0.08177    0.08115     0.7673         56        736: 100%|██████████| 29/29 [00:04<00:00,  6.41it/s]\n"
     ]
    },
    {
     "name": "stdout",
     "output_type": "stream",
     "text": [
      "\n",
      "      Epoch    GPU_mem   box_loss   cls_loss   dfl_loss  Instances       Size\n"
     ]
    },
    {
     "name": "stderr",
     "output_type": "stream",
     "text": [
      "   848/1000      6.82G     0.0828    0.08118     0.7593         51        736: 100%|██████████| 29/29 [00:04<00:00,  6.44it/s]\n"
     ]
    },
    {
     "name": "stdout",
     "output_type": "stream",
     "text": [
      "\n",
      "      Epoch    GPU_mem   box_loss   cls_loss   dfl_loss  Instances       Size\n"
     ]
    },
    {
     "name": "stderr",
     "output_type": "stream",
     "text": [
      "   849/1000      6.95G    0.08333    0.08058     0.7622         42        736: 100%|██████████| 29/29 [00:04<00:00,  6.42it/s]\n"
     ]
    },
    {
     "name": "stdout",
     "output_type": "stream",
     "text": [
      "\n",
      "      Epoch    GPU_mem   box_loss   cls_loss   dfl_loss  Instances       Size\n"
     ]
    },
    {
     "name": "stderr",
     "output_type": "stream",
     "text": [
      "   850/1000      6.95G    0.08202    0.08048     0.7584         45        736: 100%|██████████| 29/29 [00:04<00:00,  6.42it/s]\n"
     ]
    },
    {
     "name": "stdout",
     "output_type": "stream",
     "text": [
      "\n",
      "      Epoch    GPU_mem   box_loss   cls_loss   dfl_loss  Instances       Size\n"
     ]
    },
    {
     "name": "stderr",
     "output_type": "stream",
     "text": [
      "   851/1000      6.95G    0.07995    0.07775     0.7596         46        736: 100%|██████████| 29/29 [00:04<00:00,  6.42it/s]\n"
     ]
    },
    {
     "name": "stdout",
     "output_type": "stream",
     "text": [
      "\n",
      "      Epoch    GPU_mem   box_loss   cls_loss   dfl_loss  Instances       Size\n"
     ]
    },
    {
     "name": "stderr",
     "output_type": "stream",
     "text": [
      "   852/1000      6.95G    0.08119    0.07998     0.7678         52        736: 100%|██████████| 29/29 [00:04<00:00,  6.45it/s]\n"
     ]
    },
    {
     "name": "stdout",
     "output_type": "stream",
     "text": [
      "\n",
      "      Epoch    GPU_mem   box_loss   cls_loss   dfl_loss  Instances       Size\n"
     ]
    },
    {
     "name": "stderr",
     "output_type": "stream",
     "text": [
      "   853/1000      6.95G    0.07784    0.07719     0.7667         42        736: 100%|██████████| 29/29 [00:04<00:00,  6.45it/s]\n"
     ]
    },
    {
     "name": "stdout",
     "output_type": "stream",
     "text": [
      "\n",
      "      Epoch    GPU_mem   box_loss   cls_loss   dfl_loss  Instances       Size\n"
     ]
    },
    {
     "name": "stderr",
     "output_type": "stream",
     "text": [
      "   854/1000      6.95G    0.08109    0.07947     0.7655         39        736: 100%|██████████| 29/29 [00:04<00:00,  6.43it/s]\n"
     ]
    },
    {
     "name": "stdout",
     "output_type": "stream",
     "text": [
      "\n",
      "      Epoch    GPU_mem   box_loss   cls_loss   dfl_loss  Instances       Size\n"
     ]
    },
    {
     "name": "stderr",
     "output_type": "stream",
     "text": [
      "   855/1000      6.95G    0.08094    0.08025     0.7593         47        736: 100%|██████████| 29/29 [00:04<00:00,  6.42it/s]\n"
     ]
    },
    {
     "name": "stdout",
     "output_type": "stream",
     "text": [
      "\n",
      "      Epoch    GPU_mem   box_loss   cls_loss   dfl_loss  Instances       Size\n"
     ]
    },
    {
     "name": "stderr",
     "output_type": "stream",
     "text": [
      "   856/1000      6.95G    0.08174    0.08017     0.7654         49        736: 100%|██████████| 29/29 [00:04<00:00,  6.41it/s]\n"
     ]
    },
    {
     "name": "stdout",
     "output_type": "stream",
     "text": [
      "\n",
      "      Epoch    GPU_mem   box_loss   cls_loss   dfl_loss  Instances       Size\n"
     ]
    },
    {
     "name": "stderr",
     "output_type": "stream",
     "text": [
      "   857/1000      6.95G    0.08267    0.08156     0.7603         40        736: 100%|██████████| 29/29 [00:04<00:00,  6.41it/s]\n"
     ]
    },
    {
     "name": "stdout",
     "output_type": "stream",
     "text": [
      "\n",
      "      Epoch    GPU_mem   box_loss   cls_loss   dfl_loss  Instances       Size\n"
     ]
    },
    {
     "name": "stderr",
     "output_type": "stream",
     "text": [
      "   858/1000      6.95G    0.08421    0.08187      0.772         56        736: 100%|██████████| 29/29 [00:04<00:00,  6.43it/s]\n"
     ]
    },
    {
     "name": "stdout",
     "output_type": "stream",
     "text": [
      "\n",
      "      Epoch    GPU_mem   box_loss   cls_loss   dfl_loss  Instances       Size\n"
     ]
    },
    {
     "name": "stderr",
     "output_type": "stream",
     "text": [
      "   859/1000      6.95G    0.08398    0.08243     0.7639         48        736: 100%|██████████| 29/29 [00:04<00:00,  6.43it/s]\n"
     ]
    },
    {
     "name": "stdout",
     "output_type": "stream",
     "text": [
      "\n",
      "      Epoch    GPU_mem   box_loss   cls_loss   dfl_loss  Instances       Size\n"
     ]
    },
    {
     "name": "stderr",
     "output_type": "stream",
     "text": [
      "   860/1000      6.95G    0.07974    0.07847     0.7633         49        736: 100%|██████████| 29/29 [00:04<00:00,  6.42it/s]\n"
     ]
    },
    {
     "name": "stdout",
     "output_type": "stream",
     "text": [
      "\n",
      "      Epoch    GPU_mem   box_loss   cls_loss   dfl_loss  Instances       Size\n"
     ]
    },
    {
     "name": "stderr",
     "output_type": "stream",
     "text": [
      "   861/1000      6.95G    0.07853    0.07762     0.7627         53        736: 100%|██████████| 29/29 [00:04<00:00,  6.40it/s]\n"
     ]
    },
    {
     "name": "stdout",
     "output_type": "stream",
     "text": [
      "\n",
      "      Epoch    GPU_mem   box_loss   cls_loss   dfl_loss  Instances       Size\n"
     ]
    },
    {
     "name": "stderr",
     "output_type": "stream",
     "text": [
      "   862/1000      6.95G    0.07897    0.07954     0.7597         45        736: 100%|██████████| 29/29 [00:04<00:00,  6.41it/s]\n"
     ]
    },
    {
     "name": "stdout",
     "output_type": "stream",
     "text": [
      "\n",
      "      Epoch    GPU_mem   box_loss   cls_loss   dfl_loss  Instances       Size\n"
     ]
    },
    {
     "name": "stderr",
     "output_type": "stream",
     "text": [
      "   863/1000      6.95G    0.08306    0.08224     0.7559         41        736: 100%|██████████| 29/29 [00:04<00:00,  6.41it/s]\n"
     ]
    },
    {
     "name": "stdout",
     "output_type": "stream",
     "text": [
      "\n",
      "      Epoch    GPU_mem   box_loss   cls_loss   dfl_loss  Instances       Size\n"
     ]
    },
    {
     "name": "stderr",
     "output_type": "stream",
     "text": [
      "   864/1000      6.95G    0.08061    0.07747     0.7654         40        736: 100%|██████████| 29/29 [00:04<00:00,  6.40it/s]\n"
     ]
    },
    {
     "name": "stdout",
     "output_type": "stream",
     "text": [
      "\n",
      "      Epoch    GPU_mem   box_loss   cls_loss   dfl_loss  Instances       Size\n"
     ]
    },
    {
     "name": "stderr",
     "output_type": "stream",
     "text": [
      "   865/1000      6.95G    0.08017    0.07777     0.7609         46        736: 100%|██████████| 29/29 [00:04<00:00,  6.43it/s]\n"
     ]
    },
    {
     "name": "stdout",
     "output_type": "stream",
     "text": [
      "\n",
      "      Epoch    GPU_mem   box_loss   cls_loss   dfl_loss  Instances       Size\n"
     ]
    },
    {
     "name": "stderr",
     "output_type": "stream",
     "text": [
      "   866/1000      6.95G     0.0774    0.07863     0.7588         47        736: 100%|██████████| 29/29 [00:04<00:00,  6.42it/s]\n"
     ]
    },
    {
     "name": "stdout",
     "output_type": "stream",
     "text": [
      "\n",
      "      Epoch    GPU_mem   box_loss   cls_loss   dfl_loss  Instances       Size\n"
     ]
    },
    {
     "name": "stderr",
     "output_type": "stream",
     "text": [
      "   867/1000      6.82G    0.07994    0.08004     0.7624         42        736: 100%|██████████| 29/29 [00:04<00:00,  6.45it/s]\n"
     ]
    },
    {
     "name": "stdout",
     "output_type": "stream",
     "text": [
      "\n",
      "      Epoch    GPU_mem   box_loss   cls_loss   dfl_loss  Instances       Size\n"
     ]
    },
    {
     "name": "stderr",
     "output_type": "stream",
     "text": [
      "   868/1000      6.95G    0.07897    0.08028     0.7576         37        736: 100%|██████████| 29/29 [00:04<00:00,  6.42it/s]\n"
     ]
    },
    {
     "name": "stdout",
     "output_type": "stream",
     "text": [
      "\n",
      "      Epoch    GPU_mem   box_loss   cls_loss   dfl_loss  Instances       Size\n"
     ]
    },
    {
     "name": "stderr",
     "output_type": "stream",
     "text": [
      "   869/1000      6.95G    0.08026    0.07889     0.7735         50        736: 100%|██████████| 29/29 [00:04<00:00,  6.44it/s]\n"
     ]
    },
    {
     "name": "stdout",
     "output_type": "stream",
     "text": [
      "\n",
      "      Epoch    GPU_mem   box_loss   cls_loss   dfl_loss  Instances       Size\n"
     ]
    },
    {
     "name": "stderr",
     "output_type": "stream",
     "text": [
      "   870/1000      6.95G    0.07954    0.07936     0.7639         49        736: 100%|██████████| 29/29 [00:04<00:00,  6.44it/s]\n"
     ]
    },
    {
     "name": "stdout",
     "output_type": "stream",
     "text": [
      "\n",
      "      Epoch    GPU_mem   box_loss   cls_loss   dfl_loss  Instances       Size\n"
     ]
    },
    {
     "name": "stderr",
     "output_type": "stream",
     "text": [
      "   871/1000      6.95G    0.07793    0.07892     0.7547         47        736: 100%|██████████| 29/29 [00:04<00:00,  6.43it/s]\n"
     ]
    },
    {
     "name": "stdout",
     "output_type": "stream",
     "text": [
      "\n",
      "      Epoch    GPU_mem   box_loss   cls_loss   dfl_loss  Instances       Size\n"
     ]
    },
    {
     "name": "stderr",
     "output_type": "stream",
     "text": [
      "   872/1000      6.95G    0.07888    0.07872     0.7595         49        736: 100%|██████████| 29/29 [00:04<00:00,  6.42it/s]\n"
     ]
    },
    {
     "name": "stdout",
     "output_type": "stream",
     "text": [
      "\n",
      "      Epoch    GPU_mem   box_loss   cls_loss   dfl_loss  Instances       Size\n"
     ]
    },
    {
     "name": "stderr",
     "output_type": "stream",
     "text": [
      "   873/1000      6.95G     0.0796    0.07761     0.7616         44        736: 100%|██████████| 29/29 [00:04<00:00,  6.45it/s]\n"
     ]
    },
    {
     "name": "stdout",
     "output_type": "stream",
     "text": [
      "\n",
      "      Epoch    GPU_mem   box_loss   cls_loss   dfl_loss  Instances       Size\n"
     ]
    },
    {
     "name": "stderr",
     "output_type": "stream",
     "text": [
      "   874/1000      6.95G    0.07832    0.07722     0.7689         45        736: 100%|██████████| 29/29 [00:04<00:00,  6.44it/s]\n"
     ]
    },
    {
     "name": "stdout",
     "output_type": "stream",
     "text": [
      "\n",
      "      Epoch    GPU_mem   box_loss   cls_loss   dfl_loss  Instances       Size\n"
     ]
    },
    {
     "name": "stderr",
     "output_type": "stream",
     "text": [
      "   875/1000      6.95G    0.08016    0.07896     0.7667         52        736: 100%|██████████| 29/29 [00:04<00:00,  6.44it/s]\n"
     ]
    },
    {
     "name": "stdout",
     "output_type": "stream",
     "text": [
      "\n",
      "      Epoch    GPU_mem   box_loss   cls_loss   dfl_loss  Instances       Size\n"
     ]
    },
    {
     "name": "stderr",
     "output_type": "stream",
     "text": [
      "   876/1000      6.95G    0.07726    0.07827     0.7632         42        736: 100%|██████████| 29/29 [00:04<00:00,  6.41it/s]\n"
     ]
    },
    {
     "name": "stdout",
     "output_type": "stream",
     "text": [
      "\n",
      "      Epoch    GPU_mem   box_loss   cls_loss   dfl_loss  Instances       Size\n"
     ]
    },
    {
     "name": "stderr",
     "output_type": "stream",
     "text": [
      "   877/1000      6.95G    0.07915    0.07892      0.766         46        736: 100%|██████████| 29/29 [00:04<00:00,  6.43it/s]\n"
     ]
    },
    {
     "name": "stdout",
     "output_type": "stream",
     "text": [
      "\n",
      "      Epoch    GPU_mem   box_loss   cls_loss   dfl_loss  Instances       Size\n"
     ]
    },
    {
     "name": "stderr",
     "output_type": "stream",
     "text": [
      "   878/1000      6.82G    0.07999    0.07871     0.7649         50        736: 100%|██████████| 29/29 [00:04<00:00,  6.45it/s]\n"
     ]
    },
    {
     "name": "stdout",
     "output_type": "stream",
     "text": [
      "\n",
      "      Epoch    GPU_mem   box_loss   cls_loss   dfl_loss  Instances       Size\n"
     ]
    },
    {
     "name": "stderr",
     "output_type": "stream",
     "text": [
      "   879/1000      6.95G    0.08139    0.07926     0.7622         45        736: 100%|██████████| 29/29 [00:04<00:00,  6.41it/s]\n"
     ]
    },
    {
     "name": "stdout",
     "output_type": "stream",
     "text": [
      "\n",
      "      Epoch    GPU_mem   box_loss   cls_loss   dfl_loss  Instances       Size\n"
     ]
    },
    {
     "name": "stderr",
     "output_type": "stream",
     "text": [
      "   880/1000      6.95G    0.07774    0.07869     0.7609         38        736: 100%|██████████| 29/29 [00:04<00:00,  6.43it/s]\n"
     ]
    },
    {
     "name": "stdout",
     "output_type": "stream",
     "text": [
      "\n",
      "      Epoch    GPU_mem   box_loss   cls_loss   dfl_loss  Instances       Size\n"
     ]
    },
    {
     "name": "stderr",
     "output_type": "stream",
     "text": [
      "   881/1000      6.95G    0.07683    0.07674     0.7639         48        736: 100%|██████████| 29/29 [00:04<00:00,  6.42it/s]\n"
     ]
    },
    {
     "name": "stdout",
     "output_type": "stream",
     "text": [
      "\n",
      "      Epoch    GPU_mem   box_loss   cls_loss   dfl_loss  Instances       Size\n"
     ]
    },
    {
     "name": "stderr",
     "output_type": "stream",
     "text": [
      "   882/1000      6.95G    0.07593    0.07792     0.7655         41        736: 100%|██████████| 29/29 [00:04<00:00,  6.41it/s]\n"
     ]
    },
    {
     "name": "stdout",
     "output_type": "stream",
     "text": [
      "\n",
      "      Epoch    GPU_mem   box_loss   cls_loss   dfl_loss  Instances       Size\n"
     ]
    },
    {
     "name": "stderr",
     "output_type": "stream",
     "text": [
      "   883/1000      6.95G    0.07597    0.07686     0.7675         64        736: 100%|██████████| 29/29 [00:04<00:00,  6.46it/s]\n"
     ]
    },
    {
     "name": "stdout",
     "output_type": "stream",
     "text": [
      "\n",
      "      Epoch    GPU_mem   box_loss   cls_loss   dfl_loss  Instances       Size\n"
     ]
    },
    {
     "name": "stderr",
     "output_type": "stream",
     "text": [
      "   884/1000      6.95G    0.07765    0.07898     0.7634         53        736: 100%|██████████| 29/29 [00:04<00:00,  6.43it/s]\n"
     ]
    },
    {
     "name": "stdout",
     "output_type": "stream",
     "text": [
      "\n",
      "      Epoch    GPU_mem   box_loss   cls_loss   dfl_loss  Instances       Size\n"
     ]
    },
    {
     "name": "stderr",
     "output_type": "stream",
     "text": [
      "   885/1000      6.95G    0.07854    0.07865     0.7587         42        736: 100%|██████████| 29/29 [00:04<00:00,  6.41it/s]\n"
     ]
    },
    {
     "name": "stdout",
     "output_type": "stream",
     "text": [
      "\n",
      "      Epoch    GPU_mem   box_loss   cls_loss   dfl_loss  Instances       Size\n"
     ]
    },
    {
     "name": "stderr",
     "output_type": "stream",
     "text": [
      "   886/1000      6.95G    0.07808    0.07891     0.7673         49        736: 100%|██████████| 29/29 [00:04<00:00,  6.44it/s]\n"
     ]
    },
    {
     "name": "stdout",
     "output_type": "stream",
     "text": [
      "\n",
      "      Epoch    GPU_mem   box_loss   cls_loss   dfl_loss  Instances       Size\n"
     ]
    },
    {
     "name": "stderr",
     "output_type": "stream",
     "text": [
      "   887/1000      6.95G    0.07701    0.07899     0.7591         40        736: 100%|██████████| 29/29 [00:04<00:00,  6.42it/s]\n"
     ]
    },
    {
     "name": "stdout",
     "output_type": "stream",
     "text": [
      "\n",
      "      Epoch    GPU_mem   box_loss   cls_loss   dfl_loss  Instances       Size\n"
     ]
    },
    {
     "name": "stderr",
     "output_type": "stream",
     "text": [
      "   888/1000      6.95G     0.0777    0.07824     0.7616         46        736: 100%|██████████| 29/29 [00:04<00:00,  6.43it/s]\n"
     ]
    },
    {
     "name": "stdout",
     "output_type": "stream",
     "text": [
      "\n",
      "      Epoch    GPU_mem   box_loss   cls_loss   dfl_loss  Instances       Size\n"
     ]
    },
    {
     "name": "stderr",
     "output_type": "stream",
     "text": [
      "   889/1000      6.95G    0.07539     0.0769     0.7626         39        736: 100%|██████████| 29/29 [00:04<00:00,  6.45it/s]\n"
     ]
    },
    {
     "name": "stdout",
     "output_type": "stream",
     "text": [
      "\n",
      "      Epoch    GPU_mem   box_loss   cls_loss   dfl_loss  Instances       Size\n"
     ]
    },
    {
     "name": "stderr",
     "output_type": "stream",
     "text": [
      "   890/1000      6.95G    0.07738    0.07682      0.757         44        736: 100%|██████████| 29/29 [00:04<00:00,  6.41it/s]\n"
     ]
    },
    {
     "name": "stdout",
     "output_type": "stream",
     "text": [
      "\n",
      "      Epoch    GPU_mem   box_loss   cls_loss   dfl_loss  Instances       Size\n"
     ]
    },
    {
     "name": "stderr",
     "output_type": "stream",
     "text": [
      "   891/1000      6.95G    0.07575    0.07659     0.7658         53        736: 100%|██████████| 29/29 [00:04<00:00,  6.44it/s]\n"
     ]
    },
    {
     "name": "stdout",
     "output_type": "stream",
     "text": [
      "\n",
      "      Epoch    GPU_mem   box_loss   cls_loss   dfl_loss  Instances       Size\n"
     ]
    },
    {
     "name": "stderr",
     "output_type": "stream",
     "text": [
      "   892/1000      6.82G    0.07503    0.07793     0.7616         45        736: 100%|██████████| 29/29 [00:04<00:00,  6.43it/s]\n"
     ]
    },
    {
     "name": "stdout",
     "output_type": "stream",
     "text": [
      "\n",
      "      Epoch    GPU_mem   box_loss   cls_loss   dfl_loss  Instances       Size\n"
     ]
    },
    {
     "name": "stderr",
     "output_type": "stream",
     "text": [
      "   893/1000      6.95G    0.07683    0.07841       0.76         40        736: 100%|██████████| 29/29 [00:04<00:00,  6.43it/s]\n"
     ]
    },
    {
     "name": "stdout",
     "output_type": "stream",
     "text": [
      "\n",
      "      Epoch    GPU_mem   box_loss   cls_loss   dfl_loss  Instances       Size\n"
     ]
    },
    {
     "name": "stderr",
     "output_type": "stream",
     "text": [
      "   894/1000      6.95G    0.07767    0.07752     0.7628         40        736: 100%|██████████| 29/29 [00:04<00:00,  6.44it/s]\n"
     ]
    },
    {
     "name": "stdout",
     "output_type": "stream",
     "text": [
      "\n",
      "      Epoch    GPU_mem   box_loss   cls_loss   dfl_loss  Instances       Size\n"
     ]
    },
    {
     "name": "stderr",
     "output_type": "stream",
     "text": [
      "   895/1000      6.95G    0.07537    0.07736     0.7636         41        736: 100%|██████████| 29/29 [00:04<00:00,  6.44it/s]\n"
     ]
    },
    {
     "name": "stdout",
     "output_type": "stream",
     "text": [
      "\n",
      "      Epoch    GPU_mem   box_loss   cls_loss   dfl_loss  Instances       Size\n"
     ]
    },
    {
     "name": "stderr",
     "output_type": "stream",
     "text": [
      "   896/1000      6.95G    0.07705    0.07694     0.7641         52        736: 100%|██████████| 29/29 [00:04<00:00,  6.42it/s]\n"
     ]
    },
    {
     "name": "stdout",
     "output_type": "stream",
     "text": [
      "\n",
      "      Epoch    GPU_mem   box_loss   cls_loss   dfl_loss  Instances       Size\n"
     ]
    },
    {
     "name": "stderr",
     "output_type": "stream",
     "text": [
      "   897/1000      6.95G    0.07855    0.07925     0.7654         46        736: 100%|██████████| 29/29 [00:04<00:00,  6.45it/s]\n"
     ]
    },
    {
     "name": "stdout",
     "output_type": "stream",
     "text": [
      "\n",
      "      Epoch    GPU_mem   box_loss   cls_loss   dfl_loss  Instances       Size\n"
     ]
    },
    {
     "name": "stderr",
     "output_type": "stream",
     "text": [
      "   898/1000      6.95G    0.07627    0.07678     0.7605         45        736: 100%|██████████| 29/29 [00:04<00:00,  6.43it/s]\n"
     ]
    },
    {
     "name": "stdout",
     "output_type": "stream",
     "text": [
      "\n",
      "      Epoch    GPU_mem   box_loss   cls_loss   dfl_loss  Instances       Size\n"
     ]
    },
    {
     "name": "stderr",
     "output_type": "stream",
     "text": [
      "   899/1000      6.95G    0.07621    0.07668     0.7615         42        736: 100%|██████████| 29/29 [00:04<00:00,  6.41it/s]\n"
     ]
    },
    {
     "name": "stdout",
     "output_type": "stream",
     "text": [
      "\n",
      "      Epoch    GPU_mem   box_loss   cls_loss   dfl_loss  Instances       Size\n"
     ]
    },
    {
     "name": "stderr",
     "output_type": "stream",
     "text": [
      "   900/1000         7G    0.07567    0.07647     0.7624         48        736: 100%|██████████| 29/29 [00:04<00:00,  6.42it/s]\n"
     ]
    },
    {
     "name": "stdout",
     "output_type": "stream",
     "text": [
      "\n",
      "      Epoch    GPU_mem   box_loss   cls_loss   dfl_loss  Instances       Size\n"
     ]
    },
    {
     "name": "stderr",
     "output_type": "stream",
     "text": [
      "   901/1000      6.95G    0.07572    0.07775     0.7565         47        736: 100%|██████████| 29/29 [00:04<00:00,  6.41it/s]\n"
     ]
    },
    {
     "name": "stdout",
     "output_type": "stream",
     "text": [
      "\n",
      "      Epoch    GPU_mem   box_loss   cls_loss   dfl_loss  Instances       Size\n"
     ]
    },
    {
     "name": "stderr",
     "output_type": "stream",
     "text": [
      "   902/1000      6.95G    0.07587     0.0774     0.7636         47        736: 100%|██████████| 29/29 [00:04<00:00,  6.44it/s]\n"
     ]
    },
    {
     "name": "stdout",
     "output_type": "stream",
     "text": [
      "\n",
      "      Epoch    GPU_mem   box_loss   cls_loss   dfl_loss  Instances       Size\n"
     ]
    },
    {
     "name": "stderr",
     "output_type": "stream",
     "text": [
      "   903/1000      6.95G    0.07649    0.07781     0.7566         48        736: 100%|██████████| 29/29 [00:04<00:00,  6.46it/s]\n"
     ]
    },
    {
     "name": "stdout",
     "output_type": "stream",
     "text": [
      "\n",
      "      Epoch    GPU_mem   box_loss   cls_loss   dfl_loss  Instances       Size\n"
     ]
    },
    {
     "name": "stderr",
     "output_type": "stream",
     "text": [
      "   904/1000      6.95G    0.07721    0.07662     0.7634         40        736: 100%|██████████| 29/29 [00:04<00:00,  6.43it/s]\n"
     ]
    },
    {
     "name": "stdout",
     "output_type": "stream",
     "text": [
      "\n",
      "      Epoch    GPU_mem   box_loss   cls_loss   dfl_loss  Instances       Size\n"
     ]
    },
    {
     "name": "stderr",
     "output_type": "stream",
     "text": [
      "   905/1000      6.95G     0.0772    0.07844     0.7665         33        736: 100%|██████████| 29/29 [00:04<00:00,  6.46it/s]\n"
     ]
    },
    {
     "name": "stdout",
     "output_type": "stream",
     "text": [
      "\n",
      "      Epoch    GPU_mem   box_loss   cls_loss   dfl_loss  Instances       Size\n"
     ]
    },
    {
     "name": "stderr",
     "output_type": "stream",
     "text": [
      "   906/1000      6.95G    0.07518    0.07556     0.7646         45        736: 100%|██████████| 29/29 [00:04<00:00,  6.44it/s]\n"
     ]
    },
    {
     "name": "stdout",
     "output_type": "stream",
     "text": [
      "\n",
      "      Epoch    GPU_mem   box_loss   cls_loss   dfl_loss  Instances       Size\n"
     ]
    },
    {
     "name": "stderr",
     "output_type": "stream",
     "text": [
      "   907/1000      6.95G    0.07712    0.07658     0.7592         55        736: 100%|██████████| 29/29 [00:04<00:00,  6.41it/s]\n"
     ]
    },
    {
     "name": "stdout",
     "output_type": "stream",
     "text": [
      "\n",
      "      Epoch    GPU_mem   box_loss   cls_loss   dfl_loss  Instances       Size\n"
     ]
    },
    {
     "name": "stderr",
     "output_type": "stream",
     "text": [
      "   908/1000      6.95G    0.07307    0.07382      0.764         50        736: 100%|██████████| 29/29 [00:04<00:00,  6.44it/s]\n"
     ]
    },
    {
     "name": "stdout",
     "output_type": "stream",
     "text": [
      "\n",
      "      Epoch    GPU_mem   box_loss   cls_loss   dfl_loss  Instances       Size\n"
     ]
    },
    {
     "name": "stderr",
     "output_type": "stream",
     "text": [
      "   909/1000      6.95G    0.07333    0.07409     0.7603         52        736: 100%|██████████| 29/29 [00:04<00:00,  6.43it/s]\n"
     ]
    },
    {
     "name": "stdout",
     "output_type": "stream",
     "text": [
      "\n",
      "      Epoch    GPU_mem   box_loss   cls_loss   dfl_loss  Instances       Size\n"
     ]
    },
    {
     "name": "stderr",
     "output_type": "stream",
     "text": [
      "   910/1000      6.95G    0.07455      0.076     0.7622         54        736: 100%|██████████| 29/29 [00:04<00:00,  6.45it/s]\n"
     ]
    },
    {
     "name": "stdout",
     "output_type": "stream",
     "text": [
      "\n",
      "      Epoch    GPU_mem   box_loss   cls_loss   dfl_loss  Instances       Size\n"
     ]
    },
    {
     "name": "stderr",
     "output_type": "stream",
     "text": [
      "   911/1000      6.95G    0.07605    0.07646     0.7646         42        736: 100%|██████████| 29/29 [00:04<00:00,  6.43it/s]\n"
     ]
    },
    {
     "name": "stdout",
     "output_type": "stream",
     "text": [
      "\n",
      "      Epoch    GPU_mem   box_loss   cls_loss   dfl_loss  Instances       Size\n"
     ]
    },
    {
     "name": "stderr",
     "output_type": "stream",
     "text": [
      "   912/1000      6.95G    0.07519    0.07494     0.7665         52        736: 100%|██████████| 29/29 [00:04<00:00,  6.41it/s]\n"
     ]
    },
    {
     "name": "stdout",
     "output_type": "stream",
     "text": [
      "\n",
      "      Epoch    GPU_mem   box_loss   cls_loss   dfl_loss  Instances       Size\n"
     ]
    },
    {
     "name": "stderr",
     "output_type": "stream",
     "text": [
      "   913/1000      6.95G    0.07316    0.07485     0.7613         36        736: 100%|██████████| 29/29 [00:04<00:00,  6.44it/s]\n"
     ]
    },
    {
     "name": "stdout",
     "output_type": "stream",
     "text": [
      "\n",
      "      Epoch    GPU_mem   box_loss   cls_loss   dfl_loss  Instances       Size\n"
     ]
    },
    {
     "name": "stderr",
     "output_type": "stream",
     "text": [
      "   914/1000      6.95G    0.07441    0.07615     0.7661         44        736: 100%|██████████| 29/29 [00:04<00:00,  6.43it/s]\n"
     ]
    },
    {
     "name": "stdout",
     "output_type": "stream",
     "text": [
      "\n",
      "      Epoch    GPU_mem   box_loss   cls_loss   dfl_loss  Instances       Size\n"
     ]
    },
    {
     "name": "stderr",
     "output_type": "stream",
     "text": [
      "   915/1000      6.95G    0.07357    0.07496     0.7659         35        736: 100%|██████████| 29/29 [00:04<00:00,  6.43it/s]\n"
     ]
    },
    {
     "name": "stdout",
     "output_type": "stream",
     "text": [
      "\n",
      "      Epoch    GPU_mem   box_loss   cls_loss   dfl_loss  Instances       Size\n"
     ]
    },
    {
     "name": "stderr",
     "output_type": "stream",
     "text": [
      "   916/1000      6.95G    0.07588    0.07659     0.7613         35        736: 100%|██████████| 29/29 [00:04<00:00,  6.43it/s]\n"
     ]
    },
    {
     "name": "stdout",
     "output_type": "stream",
     "text": [
      "\n",
      "      Epoch    GPU_mem   box_loss   cls_loss   dfl_loss  Instances       Size\n"
     ]
    },
    {
     "name": "stderr",
     "output_type": "stream",
     "text": [
      "   917/1000      6.95G     0.0767    0.07668      0.768         47        736: 100%|██████████| 29/29 [00:04<00:00,  6.40it/s]\n"
     ]
    },
    {
     "name": "stdout",
     "output_type": "stream",
     "text": [
      "\n",
      "      Epoch    GPU_mem   box_loss   cls_loss   dfl_loss  Instances       Size\n"
     ]
    },
    {
     "name": "stderr",
     "output_type": "stream",
     "text": [
      "   918/1000      6.95G    0.07558    0.07628      0.762         40        736: 100%|██████████| 29/29 [00:04<00:00,  6.42it/s]\n"
     ]
    },
    {
     "name": "stdout",
     "output_type": "stream",
     "text": [
      "\n",
      "      Epoch    GPU_mem   box_loss   cls_loss   dfl_loss  Instances       Size\n"
     ]
    },
    {
     "name": "stderr",
     "output_type": "stream",
     "text": [
      "   919/1000      6.95G    0.07506    0.07561     0.7624         51        736: 100%|██████████| 29/29 [00:04<00:00,  6.44it/s]\n"
     ]
    },
    {
     "name": "stdout",
     "output_type": "stream",
     "text": [
      "\n",
      "      Epoch    GPU_mem   box_loss   cls_loss   dfl_loss  Instances       Size\n"
     ]
    },
    {
     "name": "stderr",
     "output_type": "stream",
     "text": [
      "   920/1000      6.95G    0.07326    0.07471     0.7649         49        736: 100%|██████████| 29/29 [00:04<00:00,  6.43it/s]\n"
     ]
    },
    {
     "name": "stdout",
     "output_type": "stream",
     "text": [
      "\n",
      "      Epoch    GPU_mem   box_loss   cls_loss   dfl_loss  Instances       Size\n"
     ]
    },
    {
     "name": "stderr",
     "output_type": "stream",
     "text": [
      "   921/1000      6.95G    0.07436    0.07532      0.766         45        736: 100%|██████████| 29/29 [00:04<00:00,  6.44it/s]\n"
     ]
    },
    {
     "name": "stdout",
     "output_type": "stream",
     "text": [
      "\n",
      "      Epoch    GPU_mem   box_loss   cls_loss   dfl_loss  Instances       Size\n"
     ]
    },
    {
     "name": "stderr",
     "output_type": "stream",
     "text": [
      "   922/1000      6.95G    0.07481    0.07462     0.7598         39        736: 100%|██████████| 29/29 [00:04<00:00,  6.43it/s]\n"
     ]
    },
    {
     "name": "stdout",
     "output_type": "stream",
     "text": [
      "\n",
      "      Epoch    GPU_mem   box_loss   cls_loss   dfl_loss  Instances       Size\n"
     ]
    },
    {
     "name": "stderr",
     "output_type": "stream",
     "text": [
      "   923/1000      6.95G    0.07303    0.07285     0.7684         47        736: 100%|██████████| 29/29 [00:04<00:00,  6.41it/s]\n"
     ]
    },
    {
     "name": "stdout",
     "output_type": "stream",
     "text": [
      "\n",
      "      Epoch    GPU_mem   box_loss   cls_loss   dfl_loss  Instances       Size\n"
     ]
    },
    {
     "name": "stderr",
     "output_type": "stream",
     "text": [
      "   924/1000      6.95G    0.07263    0.07267     0.7619         43        736: 100%|██████████| 29/29 [00:04<00:00,  6.46it/s]\n"
     ]
    },
    {
     "name": "stdout",
     "output_type": "stream",
     "text": [
      "\n",
      "      Epoch    GPU_mem   box_loss   cls_loss   dfl_loss  Instances       Size\n"
     ]
    },
    {
     "name": "stderr",
     "output_type": "stream",
     "text": [
      "   925/1000      6.95G    0.07255    0.07403      0.762         40        736: 100%|██████████| 29/29 [00:04<00:00,  6.42it/s]\n"
     ]
    },
    {
     "name": "stdout",
     "output_type": "stream",
     "text": [
      "\n",
      "      Epoch    GPU_mem   box_loss   cls_loss   dfl_loss  Instances       Size\n"
     ]
    },
    {
     "name": "stderr",
     "output_type": "stream",
     "text": [
      "   926/1000      6.95G    0.07308    0.07388     0.7615         43        736: 100%|██████████| 29/29 [00:04<00:00,  6.41it/s]\n"
     ]
    },
    {
     "name": "stdout",
     "output_type": "stream",
     "text": [
      "\n",
      "      Epoch    GPU_mem   box_loss   cls_loss   dfl_loss  Instances       Size\n"
     ]
    },
    {
     "name": "stderr",
     "output_type": "stream",
     "text": [
      "   927/1000      6.95G    0.07293    0.07471     0.7639         41        736: 100%|██████████| 29/29 [00:04<00:00,  6.43it/s]\n"
     ]
    },
    {
     "name": "stdout",
     "output_type": "stream",
     "text": [
      "\n",
      "      Epoch    GPU_mem   box_loss   cls_loss   dfl_loss  Instances       Size\n"
     ]
    },
    {
     "name": "stderr",
     "output_type": "stream",
     "text": [
      "   928/1000      6.95G    0.07276    0.07399      0.759         51        736: 100%|██████████| 29/29 [00:04<00:00,  6.42it/s]\n"
     ]
    },
    {
     "name": "stdout",
     "output_type": "stream",
     "text": [
      "\n",
      "      Epoch    GPU_mem   box_loss   cls_loss   dfl_loss  Instances       Size\n"
     ]
    },
    {
     "name": "stderr",
     "output_type": "stream",
     "text": [
      "   929/1000      6.95G    0.07325    0.07382     0.7595         47        736: 100%|██████████| 29/29 [00:04<00:00,  6.43it/s]\n"
     ]
    },
    {
     "name": "stdout",
     "output_type": "stream",
     "text": [
      "\n",
      "      Epoch    GPU_mem   box_loss   cls_loss   dfl_loss  Instances       Size\n"
     ]
    },
    {
     "name": "stderr",
     "output_type": "stream",
     "text": [
      "   930/1000      6.95G    0.07401     0.0736     0.7677         51        736: 100%|██████████| 29/29 [00:04<00:00,  6.45it/s]\n"
     ]
    },
    {
     "name": "stdout",
     "output_type": "stream",
     "text": [
      "\n",
      "      Epoch    GPU_mem   box_loss   cls_loss   dfl_loss  Instances       Size\n"
     ]
    },
    {
     "name": "stderr",
     "output_type": "stream",
     "text": [
      "   931/1000      6.95G    0.07273    0.07393     0.7687         48        736: 100%|██████████| 29/29 [00:04<00:00,  6.43it/s]\n"
     ]
    },
    {
     "name": "stdout",
     "output_type": "stream",
     "text": [
      "\n",
      "      Epoch    GPU_mem   box_loss   cls_loss   dfl_loss  Instances       Size\n"
     ]
    },
    {
     "name": "stderr",
     "output_type": "stream",
     "text": [
      "   932/1000      6.95G    0.07132    0.07341     0.7688         40        736: 100%|██████████| 29/29 [00:04<00:00,  6.44it/s]\n"
     ]
    },
    {
     "name": "stdout",
     "output_type": "stream",
     "text": [
      "\n",
      "      Epoch    GPU_mem   box_loss   cls_loss   dfl_loss  Instances       Size\n"
     ]
    },
    {
     "name": "stderr",
     "output_type": "stream",
     "text": [
      "   933/1000      6.95G    0.07124    0.07251     0.7652         46        736: 100%|██████████| 29/29 [00:04<00:00,  6.43it/s]\n"
     ]
    },
    {
     "name": "stdout",
     "output_type": "stream",
     "text": [
      "\n",
      "      Epoch    GPU_mem   box_loss   cls_loss   dfl_loss  Instances       Size\n"
     ]
    },
    {
     "name": "stderr",
     "output_type": "stream",
     "text": [
      "   934/1000      6.95G    0.07249    0.07246     0.7665         49        736: 100%|██████████| 29/29 [00:04<00:00,  6.42it/s]\n"
     ]
    },
    {
     "name": "stdout",
     "output_type": "stream",
     "text": [
      "\n",
      "      Epoch    GPU_mem   box_loss   cls_loss   dfl_loss  Instances       Size\n"
     ]
    },
    {
     "name": "stderr",
     "output_type": "stream",
     "text": [
      "   935/1000      6.95G    0.07187    0.07284     0.7634         43        736: 100%|██████████| 29/29 [00:04<00:00,  6.44it/s]\n"
     ]
    },
    {
     "name": "stdout",
     "output_type": "stream",
     "text": [
      "\n",
      "      Epoch    GPU_mem   box_loss   cls_loss   dfl_loss  Instances       Size\n"
     ]
    },
    {
     "name": "stderr",
     "output_type": "stream",
     "text": [
      "   936/1000      6.95G    0.07251    0.07384     0.7636         40        736: 100%|██████████| 29/29 [00:04<00:00,  6.44it/s]\n"
     ]
    },
    {
     "name": "stdout",
     "output_type": "stream",
     "text": [
      "\n",
      "      Epoch    GPU_mem   box_loss   cls_loss   dfl_loss  Instances       Size\n"
     ]
    },
    {
     "name": "stderr",
     "output_type": "stream",
     "text": [
      "   937/1000      6.95G    0.07279    0.07501     0.7615         40        736: 100%|██████████| 29/29 [00:04<00:00,  6.44it/s]\n"
     ]
    },
    {
     "name": "stdout",
     "output_type": "stream",
     "text": [
      "\n",
      "      Epoch    GPU_mem   box_loss   cls_loss   dfl_loss  Instances       Size\n"
     ]
    },
    {
     "name": "stderr",
     "output_type": "stream",
     "text": [
      "   938/1000      6.95G    0.07099     0.0717     0.7704         48        736: 100%|██████████| 29/29 [00:04<00:00,  6.42it/s]\n"
     ]
    },
    {
     "name": "stdout",
     "output_type": "stream",
     "text": [
      "\n",
      "      Epoch    GPU_mem   box_loss   cls_loss   dfl_loss  Instances       Size\n"
     ]
    },
    {
     "name": "stderr",
     "output_type": "stream",
     "text": [
      "   939/1000      6.95G    0.07052    0.07318     0.7649         48        736: 100%|██████████| 29/29 [00:04<00:00,  6.42it/s]\n"
     ]
    },
    {
     "name": "stdout",
     "output_type": "stream",
     "text": [
      "\n",
      "      Epoch    GPU_mem   box_loss   cls_loss   dfl_loss  Instances       Size\n"
     ]
    },
    {
     "name": "stderr",
     "output_type": "stream",
     "text": [
      "   940/1000      6.95G     0.0727    0.07263     0.7683         46        736: 100%|██████████| 29/29 [00:04<00:00,  6.44it/s]\n"
     ]
    },
    {
     "name": "stdout",
     "output_type": "stream",
     "text": [
      "\n",
      "      Epoch    GPU_mem   box_loss   cls_loss   dfl_loss  Instances       Size\n"
     ]
    },
    {
     "name": "stderr",
     "output_type": "stream",
     "text": [
      "   941/1000      6.82G    0.07289    0.07211     0.7618         46        736: 100%|██████████| 29/29 [00:04<00:00,  6.44it/s]\n"
     ]
    },
    {
     "name": "stdout",
     "output_type": "stream",
     "text": [
      "\n",
      "      Epoch    GPU_mem   box_loss   cls_loss   dfl_loss  Instances       Size\n"
     ]
    },
    {
     "name": "stderr",
     "output_type": "stream",
     "text": [
      "   942/1000      6.82G     0.0724    0.07324     0.7643         42        736: 100%|██████████| 29/29 [00:04<00:00,  6.45it/s]\n"
     ]
    },
    {
     "name": "stdout",
     "output_type": "stream",
     "text": [
      "\n",
      "      Epoch    GPU_mem   box_loss   cls_loss   dfl_loss  Instances       Size\n"
     ]
    },
    {
     "name": "stderr",
     "output_type": "stream",
     "text": [
      "   943/1000      6.95G    0.07082    0.07076      0.762         52        736: 100%|██████████| 29/29 [00:04<00:00,  6.45it/s]\n"
     ]
    },
    {
     "name": "stdout",
     "output_type": "stream",
     "text": [
      "\n",
      "      Epoch    GPU_mem   box_loss   cls_loss   dfl_loss  Instances       Size\n"
     ]
    },
    {
     "name": "stderr",
     "output_type": "stream",
     "text": [
      "   944/1000      6.95G    0.06963    0.07043     0.7688         41        736: 100%|██████████| 29/29 [00:04<00:00,  6.40it/s]\n"
     ]
    },
    {
     "name": "stdout",
     "output_type": "stream",
     "text": [
      "\n",
      "      Epoch    GPU_mem   box_loss   cls_loss   dfl_loss  Instances       Size\n"
     ]
    },
    {
     "name": "stderr",
     "output_type": "stream",
     "text": [
      "   945/1000      6.95G    0.07096    0.07236     0.7625         42        736: 100%|██████████| 29/29 [00:04<00:00,  6.43it/s]\n"
     ]
    },
    {
     "name": "stdout",
     "output_type": "stream",
     "text": [
      "\n",
      "      Epoch    GPU_mem   box_loss   cls_loss   dfl_loss  Instances       Size\n"
     ]
    },
    {
     "name": "stderr",
     "output_type": "stream",
     "text": [
      "   946/1000      6.95G    0.07279    0.07471     0.7574         33        736: 100%|██████████| 29/29 [00:04<00:00,  6.46it/s]\n"
     ]
    },
    {
     "name": "stdout",
     "output_type": "stream",
     "text": [
      "\n",
      "      Epoch    GPU_mem   box_loss   cls_loss   dfl_loss  Instances       Size\n"
     ]
    },
    {
     "name": "stderr",
     "output_type": "stream",
     "text": [
      "   947/1000      6.95G    0.07144    0.07394     0.7601         40        736: 100%|██████████| 29/29 [00:04<00:00,  6.40it/s]\n"
     ]
    },
    {
     "name": "stdout",
     "output_type": "stream",
     "text": [
      "\n",
      "      Epoch    GPU_mem   box_loss   cls_loss   dfl_loss  Instances       Size\n"
     ]
    },
    {
     "name": "stderr",
     "output_type": "stream",
     "text": [
      "   948/1000      6.95G    0.07066    0.07303     0.7563         51        736: 100%|██████████| 29/29 [00:04<00:00,  6.43it/s]\n"
     ]
    },
    {
     "name": "stdout",
     "output_type": "stream",
     "text": [
      "\n",
      "      Epoch    GPU_mem   box_loss   cls_loss   dfl_loss  Instances       Size\n"
     ]
    },
    {
     "name": "stderr",
     "output_type": "stream",
     "text": [
      "   949/1000      6.95G     0.0706    0.07281      0.764         49        736: 100%|██████████| 29/29 [00:04<00:00,  6.43it/s]\n"
     ]
    },
    {
     "name": "stdout",
     "output_type": "stream",
     "text": [
      "\n",
      "      Epoch    GPU_mem   box_loss   cls_loss   dfl_loss  Instances       Size\n"
     ]
    },
    {
     "name": "stderr",
     "output_type": "stream",
     "text": [
      "   950/1000      6.95G    0.07139    0.07236     0.7626         40        736: 100%|██████████| 29/29 [00:04<00:00,  6.41it/s]\n"
     ]
    },
    {
     "name": "stdout",
     "output_type": "stream",
     "text": [
      "\n",
      "      Epoch    GPU_mem   box_loss   cls_loss   dfl_loss  Instances       Size\n"
     ]
    },
    {
     "name": "stderr",
     "output_type": "stream",
     "text": [
      "   951/1000      6.95G    0.07022    0.07061     0.7679         51        736: 100%|██████████| 29/29 [00:04<00:00,  6.44it/s]\n"
     ]
    },
    {
     "name": "stdout",
     "output_type": "stream",
     "text": [
      "\n",
      "      Epoch    GPU_mem   box_loss   cls_loss   dfl_loss  Instances       Size\n"
     ]
    },
    {
     "name": "stderr",
     "output_type": "stream",
     "text": [
      "   952/1000      6.95G    0.07023    0.07173     0.7647         48        736: 100%|██████████| 29/29 [00:04<00:00,  6.44it/s]\n"
     ]
    },
    {
     "name": "stdout",
     "output_type": "stream",
     "text": [
      "\n",
      "      Epoch    GPU_mem   box_loss   cls_loss   dfl_loss  Instances       Size\n"
     ]
    },
    {
     "name": "stderr",
     "output_type": "stream",
     "text": [
      "   953/1000      6.95G    0.06981    0.07136     0.7718         48        736: 100%|██████████| 29/29 [00:04<00:00,  6.42it/s]\n"
     ]
    },
    {
     "name": "stdout",
     "output_type": "stream",
     "text": [
      "\n",
      "      Epoch    GPU_mem   box_loss   cls_loss   dfl_loss  Instances       Size\n"
     ]
    },
    {
     "name": "stderr",
     "output_type": "stream",
     "text": [
      "   954/1000      6.95G    0.06987    0.07157     0.7664         41        736: 100%|██████████| 29/29 [00:04<00:00,  6.44it/s]\n"
     ]
    },
    {
     "name": "stdout",
     "output_type": "stream",
     "text": [
      "\n",
      "      Epoch    GPU_mem   box_loss   cls_loss   dfl_loss  Instances       Size\n"
     ]
    },
    {
     "name": "stderr",
     "output_type": "stream",
     "text": [
      "   955/1000      6.95G    0.07111    0.07386     0.7618         48        736: 100%|██████████| 29/29 [00:04<00:00,  6.44it/s]\n"
     ]
    },
    {
     "name": "stdout",
     "output_type": "stream",
     "text": [
      "\n",
      "      Epoch    GPU_mem   box_loss   cls_loss   dfl_loss  Instances       Size\n"
     ]
    },
    {
     "name": "stderr",
     "output_type": "stream",
     "text": [
      "   956/1000      6.95G    0.06902     0.0718     0.7715         48        736: 100%|██████████| 29/29 [00:04<00:00,  6.41it/s]\n"
     ]
    },
    {
     "name": "stdout",
     "output_type": "stream",
     "text": [
      "\n",
      "      Epoch    GPU_mem   box_loss   cls_loss   dfl_loss  Instances       Size\n"
     ]
    },
    {
     "name": "stderr",
     "output_type": "stream",
     "text": [
      "   957/1000      6.95G    0.07042    0.07148     0.7625         44        736: 100%|██████████| 29/29 [00:04<00:00,  6.43it/s]\n"
     ]
    },
    {
     "name": "stdout",
     "output_type": "stream",
     "text": [
      "\n",
      "      Epoch    GPU_mem   box_loss   cls_loss   dfl_loss  Instances       Size\n"
     ]
    },
    {
     "name": "stderr",
     "output_type": "stream",
     "text": [
      "   958/1000      6.95G    0.07052    0.07047      0.766         45        736: 100%|██████████| 29/29 [00:04<00:00,  6.41it/s]\n"
     ]
    },
    {
     "name": "stdout",
     "output_type": "stream",
     "text": [
      "\n",
      "      Epoch    GPU_mem   box_loss   cls_loss   dfl_loss  Instances       Size\n"
     ]
    },
    {
     "name": "stderr",
     "output_type": "stream",
     "text": [
      "   959/1000      6.95G    0.07058    0.07176     0.7633         36        736: 100%|██████████| 29/29 [00:04<00:00,  6.41it/s]\n"
     ]
    },
    {
     "name": "stdout",
     "output_type": "stream",
     "text": [
      "\n",
      "      Epoch    GPU_mem   box_loss   cls_loss   dfl_loss  Instances       Size\n"
     ]
    },
    {
     "name": "stderr",
     "output_type": "stream",
     "text": [
      "   960/1000      6.95G    0.06965    0.06975     0.7681         48        736: 100%|██████████| 29/29 [00:04<00:00,  6.46it/s]\n"
     ]
    },
    {
     "name": "stdout",
     "output_type": "stream",
     "text": [
      "\n",
      "      Epoch    GPU_mem   box_loss   cls_loss   dfl_loss  Instances       Size\n"
     ]
    },
    {
     "name": "stderr",
     "output_type": "stream",
     "text": [
      "   961/1000      6.95G    0.06895    0.07175     0.7574         41        736: 100%|██████████| 29/29 [00:04<00:00,  6.43it/s]\n"
     ]
    },
    {
     "name": "stdout",
     "output_type": "stream",
     "text": [
      "\n",
      "      Epoch    GPU_mem   box_loss   cls_loss   dfl_loss  Instances       Size\n"
     ]
    },
    {
     "name": "stderr",
     "output_type": "stream",
     "text": [
      "   962/1000      6.95G    0.06954    0.07211     0.7633         52        736: 100%|██████████| 29/29 [00:04<00:00,  6.42it/s]\n"
     ]
    },
    {
     "name": "stdout",
     "output_type": "stream",
     "text": [
      "\n",
      "      Epoch    GPU_mem   box_loss   cls_loss   dfl_loss  Instances       Size\n"
     ]
    },
    {
     "name": "stderr",
     "output_type": "stream",
     "text": [
      "   963/1000      6.95G    0.06999    0.07048     0.7595         65        736: 100%|██████████| 29/29 [00:04<00:00,  6.42it/s]\n"
     ]
    },
    {
     "name": "stdout",
     "output_type": "stream",
     "text": [
      "\n",
      "      Epoch    GPU_mem   box_loss   cls_loss   dfl_loss  Instances       Size\n"
     ]
    },
    {
     "name": "stderr",
     "output_type": "stream",
     "text": [
      "   964/1000      6.95G    0.06907    0.07032      0.763         47        736: 100%|██████████| 29/29 [00:04<00:00,  6.44it/s]\n"
     ]
    },
    {
     "name": "stdout",
     "output_type": "stream",
     "text": [
      "\n",
      "      Epoch    GPU_mem   box_loss   cls_loss   dfl_loss  Instances       Size\n"
     ]
    },
    {
     "name": "stderr",
     "output_type": "stream",
     "text": [
      "   965/1000      6.95G    0.06932    0.07123     0.7594         44        736: 100%|██████████| 29/29 [00:04<00:00,  6.43it/s]\n"
     ]
    },
    {
     "name": "stdout",
     "output_type": "stream",
     "text": [
      "\n",
      "      Epoch    GPU_mem   box_loss   cls_loss   dfl_loss  Instances       Size\n"
     ]
    },
    {
     "name": "stderr",
     "output_type": "stream",
     "text": [
      "   966/1000      6.95G    0.06905    0.07084     0.7664         54        736: 100%|██████████| 29/29 [00:04<00:00,  6.42it/s]\n"
     ]
    },
    {
     "name": "stdout",
     "output_type": "stream",
     "text": [
      "\n",
      "      Epoch    GPU_mem   box_loss   cls_loss   dfl_loss  Instances       Size\n"
     ]
    },
    {
     "name": "stderr",
     "output_type": "stream",
     "text": [
      "   967/1000      6.95G    0.06897    0.06984     0.7631         41        736: 100%|██████████| 29/29 [00:04<00:00,  6.41it/s]\n"
     ]
    },
    {
     "name": "stdout",
     "output_type": "stream",
     "text": [
      "\n",
      "      Epoch    GPU_mem   box_loss   cls_loss   dfl_loss  Instances       Size\n"
     ]
    },
    {
     "name": "stderr",
     "output_type": "stream",
     "text": [
      "   968/1000      6.95G    0.06919    0.06949     0.7716         47        736: 100%|██████████| 29/29 [00:04<00:00,  6.44it/s]\n"
     ]
    },
    {
     "name": "stdout",
     "output_type": "stream",
     "text": [
      "\n",
      "      Epoch    GPU_mem   box_loss   cls_loss   dfl_loss  Instances       Size\n"
     ]
    },
    {
     "name": "stderr",
     "output_type": "stream",
     "text": [
      "   969/1000      6.95G    0.06863    0.07137       0.76         39        736: 100%|██████████| 29/29 [00:04<00:00,  6.43it/s]\n"
     ]
    },
    {
     "name": "stdout",
     "output_type": "stream",
     "text": [
      "\n",
      "      Epoch    GPU_mem   box_loss   cls_loss   dfl_loss  Instances       Size\n"
     ]
    },
    {
     "name": "stderr",
     "output_type": "stream",
     "text": [
      "   970/1000      6.82G    0.06807    0.06929      0.769         51        736: 100%|██████████| 29/29 [00:04<00:00,  6.44it/s]\n"
     ]
    },
    {
     "name": "stdout",
     "output_type": "stream",
     "text": [
      "\n",
      "      Epoch    GPU_mem   box_loss   cls_loss   dfl_loss  Instances       Size\n"
     ]
    },
    {
     "name": "stderr",
     "output_type": "stream",
     "text": [
      "   971/1000      6.82G    0.06912    0.06849     0.7666         50        736: 100%|██████████| 29/29 [00:04<00:00,  6.42it/s]\n"
     ]
    },
    {
     "name": "stdout",
     "output_type": "stream",
     "text": [
      "\n",
      "      Epoch    GPU_mem   box_loss   cls_loss   dfl_loss  Instances       Size\n"
     ]
    },
    {
     "name": "stderr",
     "output_type": "stream",
     "text": [
      "   972/1000      6.95G    0.06681     0.0686     0.7663         44        736: 100%|██████████| 29/29 [00:04<00:00,  6.44it/s]\n"
     ]
    },
    {
     "name": "stdout",
     "output_type": "stream",
     "text": [
      "\n",
      "      Epoch    GPU_mem   box_loss   cls_loss   dfl_loss  Instances       Size\n"
     ]
    },
    {
     "name": "stderr",
     "output_type": "stream",
     "text": [
      "   973/1000      6.95G    0.06717    0.06891     0.7611         38        736: 100%|██████████| 29/29 [00:04<00:00,  6.45it/s]\n"
     ]
    },
    {
     "name": "stdout",
     "output_type": "stream",
     "text": [
      "\n",
      "      Epoch    GPU_mem   box_loss   cls_loss   dfl_loss  Instances       Size\n"
     ]
    },
    {
     "name": "stderr",
     "output_type": "stream",
     "text": [
      "   974/1000      6.95G    0.06832    0.07048     0.7644         37        736: 100%|██████████| 29/29 [00:04<00:00,  6.42it/s]\n"
     ]
    },
    {
     "name": "stdout",
     "output_type": "stream",
     "text": [
      "\n",
      "      Epoch    GPU_mem   box_loss   cls_loss   dfl_loss  Instances       Size\n"
     ]
    },
    {
     "name": "stderr",
     "output_type": "stream",
     "text": [
      "   975/1000      6.95G    0.06885     0.0697     0.7602         40        736: 100%|██████████| 29/29 [00:04<00:00,  6.44it/s]\n"
     ]
    },
    {
     "name": "stdout",
     "output_type": "stream",
     "text": [
      "\n",
      "      Epoch    GPU_mem   box_loss   cls_loss   dfl_loss  Instances       Size\n"
     ]
    },
    {
     "name": "stderr",
     "output_type": "stream",
     "text": [
      "   976/1000      6.95G    0.06716    0.06951     0.7651         40        736: 100%|██████████| 29/29 [00:04<00:00,  6.45it/s]\n"
     ]
    },
    {
     "name": "stdout",
     "output_type": "stream",
     "text": [
      "\n",
      "      Epoch    GPU_mem   box_loss   cls_loss   dfl_loss  Instances       Size\n"
     ]
    },
    {
     "name": "stderr",
     "output_type": "stream",
     "text": [
      "   977/1000      6.95G    0.06887    0.07013     0.7565         43        736: 100%|██████████| 29/29 [00:04<00:00,  6.44it/s]\n"
     ]
    },
    {
     "name": "stdout",
     "output_type": "stream",
     "text": [
      "\n",
      "      Epoch    GPU_mem   box_loss   cls_loss   dfl_loss  Instances       Size\n"
     ]
    },
    {
     "name": "stderr",
     "output_type": "stream",
     "text": [
      "   978/1000      6.95G    0.06758    0.07009     0.7654         40        736: 100%|██████████| 29/29 [00:04<00:00,  6.44it/s]\n"
     ]
    },
    {
     "name": "stdout",
     "output_type": "stream",
     "text": [
      "\n",
      "      Epoch    GPU_mem   box_loss   cls_loss   dfl_loss  Instances       Size\n"
     ]
    },
    {
     "name": "stderr",
     "output_type": "stream",
     "text": [
      "   979/1000      6.95G    0.06726    0.06941     0.7657         41        736: 100%|██████████| 29/29 [00:04<00:00,  6.43it/s]\n"
     ]
    },
    {
     "name": "stdout",
     "output_type": "stream",
     "text": [
      "\n",
      "      Epoch    GPU_mem   box_loss   cls_loss   dfl_loss  Instances       Size\n"
     ]
    },
    {
     "name": "stderr",
     "output_type": "stream",
     "text": [
      "   980/1000      6.95G    0.06793    0.07307      0.757         35        736: 100%|██████████| 29/29 [00:04<00:00,  6.41it/s]\n"
     ]
    },
    {
     "name": "stdout",
     "output_type": "stream",
     "text": [
      "\n",
      "      Epoch    GPU_mem   box_loss   cls_loss   dfl_loss  Instances       Size\n"
     ]
    },
    {
     "name": "stderr",
     "output_type": "stream",
     "text": [
      "   981/1000      6.95G    0.06942    0.06836      0.766         41        736: 100%|██████████| 29/29 [00:04<00:00,  6.43it/s]\n"
     ]
    },
    {
     "name": "stdout",
     "output_type": "stream",
     "text": [
      "\n",
      "      Epoch    GPU_mem   box_loss   cls_loss   dfl_loss  Instances       Size\n"
     ]
    },
    {
     "name": "stderr",
     "output_type": "stream",
     "text": [
      "   982/1000      6.95G    0.06764    0.06927     0.7652         48        736: 100%|██████████| 29/29 [00:04<00:00,  6.42it/s]\n"
     ]
    },
    {
     "name": "stdout",
     "output_type": "stream",
     "text": [
      "\n",
      "      Epoch    GPU_mem   box_loss   cls_loss   dfl_loss  Instances       Size\n"
     ]
    },
    {
     "name": "stderr",
     "output_type": "stream",
     "text": [
      "   983/1000      6.95G    0.06742    0.06891     0.7612         38        736: 100%|██████████| 29/29 [00:04<00:00,  6.41it/s]\n"
     ]
    },
    {
     "name": "stdout",
     "output_type": "stream",
     "text": [
      "\n",
      "      Epoch    GPU_mem   box_loss   cls_loss   dfl_loss  Instances       Size\n"
     ]
    },
    {
     "name": "stderr",
     "output_type": "stream",
     "text": [
      "   984/1000      6.95G    0.06777    0.06966     0.7638         46        736: 100%|██████████| 29/29 [00:04<00:00,  6.44it/s]\n"
     ]
    },
    {
     "name": "stdout",
     "output_type": "stream",
     "text": [
      "\n",
      "      Epoch    GPU_mem   box_loss   cls_loss   dfl_loss  Instances       Size\n"
     ]
    },
    {
     "name": "stderr",
     "output_type": "stream",
     "text": [
      "   985/1000      6.95G    0.06618    0.06768     0.7637         36        736: 100%|██████████| 29/29 [00:04<00:00,  6.42it/s]\n"
     ]
    },
    {
     "name": "stdout",
     "output_type": "stream",
     "text": [
      "\n",
      "      Epoch    GPU_mem   box_loss   cls_loss   dfl_loss  Instances       Size\n"
     ]
    },
    {
     "name": "stderr",
     "output_type": "stream",
     "text": [
      "   986/1000      7.01G    0.06779    0.06876     0.7612         44        736: 100%|██████████| 29/29 [00:04<00:00,  6.40it/s]\n"
     ]
    },
    {
     "name": "stdout",
     "output_type": "stream",
     "text": [
      "\n",
      "      Epoch    GPU_mem   box_loss   cls_loss   dfl_loss  Instances       Size\n"
     ]
    },
    {
     "name": "stderr",
     "output_type": "stream",
     "text": [
      "   987/1000      6.95G    0.06711    0.07044     0.7618         46        736: 100%|██████████| 29/29 [00:04<00:00,  6.45it/s]\n"
     ]
    },
    {
     "name": "stdout",
     "output_type": "stream",
     "text": [
      "\n",
      "      Epoch    GPU_mem   box_loss   cls_loss   dfl_loss  Instances       Size\n"
     ]
    },
    {
     "name": "stderr",
     "output_type": "stream",
     "text": [
      "   988/1000      6.95G    0.06611    0.06782     0.7655         40        736: 100%|██████████| 29/29 [00:04<00:00,  6.42it/s]\n"
     ]
    },
    {
     "name": "stdout",
     "output_type": "stream",
     "text": [
      "\n",
      "      Epoch    GPU_mem   box_loss   cls_loss   dfl_loss  Instances       Size\n"
     ]
    },
    {
     "name": "stderr",
     "output_type": "stream",
     "text": [
      "   989/1000      6.95G    0.06682    0.07009     0.7612         40        736: 100%|██████████| 29/29 [00:04<00:00,  6.44it/s]\n"
     ]
    },
    {
     "name": "stdout",
     "output_type": "stream",
     "text": [
      "\n",
      "      Epoch    GPU_mem   box_loss   cls_loss   dfl_loss  Instances       Size\n"
     ]
    },
    {
     "name": "stderr",
     "output_type": "stream",
     "text": [
      "   990/1000      6.95G    0.06681    0.06959     0.7684         38        736: 100%|██████████| 29/29 [00:04<00:00,  6.44it/s]\n"
     ]
    },
    {
     "name": "stdout",
     "output_type": "stream",
     "text": [
      "Closing dataloader mosaic\n",
      "\n",
      "      Epoch    GPU_mem   box_loss   cls_loss   dfl_loss  Instances       Size\n"
     ]
    },
    {
     "name": "stderr",
     "output_type": "stream",
     "text": [
      "   991/1000      6.95G    0.06693    0.06973     0.7587         44        736: 100%|██████████| 29/29 [00:06<00:00,  4.46it/s]\n"
     ]
    },
    {
     "name": "stdout",
     "output_type": "stream",
     "text": [
      "\n",
      "      Epoch    GPU_mem   box_loss   cls_loss   dfl_loss  Instances       Size\n"
     ]
    },
    {
     "name": "stderr",
     "output_type": "stream",
     "text": [
      "   992/1000      6.95G    0.06732    0.06843     0.7639         48        736: 100%|██████████| 29/29 [00:04<00:00,  6.38it/s]\n"
     ]
    },
    {
     "name": "stdout",
     "output_type": "stream",
     "text": [
      "\n",
      "      Epoch    GPU_mem   box_loss   cls_loss   dfl_loss  Instances       Size\n"
     ]
    },
    {
     "name": "stderr",
     "output_type": "stream",
     "text": [
      "   993/1000      6.95G    0.06781    0.06987     0.7619         33        736: 100%|██████████| 29/29 [00:04<00:00,  6.40it/s]\n"
     ]
    },
    {
     "name": "stdout",
     "output_type": "stream",
     "text": [
      "\n",
      "      Epoch    GPU_mem   box_loss   cls_loss   dfl_loss  Instances       Size\n"
     ]
    },
    {
     "name": "stderr",
     "output_type": "stream",
     "text": [
      "   994/1000      6.95G    0.06627    0.06893     0.7603         40        736: 100%|██████████| 29/29 [00:04<00:00,  6.45it/s]\n"
     ]
    },
    {
     "name": "stdout",
     "output_type": "stream",
     "text": [
      "\n",
      "      Epoch    GPU_mem   box_loss   cls_loss   dfl_loss  Instances       Size\n"
     ]
    },
    {
     "name": "stderr",
     "output_type": "stream",
     "text": [
      "   995/1000      6.95G    0.06538    0.06712      0.765         40        736: 100%|██████████| 29/29 [00:04<00:00,  6.44it/s]\n"
     ]
    },
    {
     "name": "stdout",
     "output_type": "stream",
     "text": [
      "\n",
      "      Epoch    GPU_mem   box_loss   cls_loss   dfl_loss  Instances       Size\n"
     ]
    },
    {
     "name": "stderr",
     "output_type": "stream",
     "text": [
      "   996/1000      6.95G     0.0669    0.06823     0.7611         43        736: 100%|██████████| 29/29 [00:04<00:00,  6.45it/s]\n"
     ]
    },
    {
     "name": "stdout",
     "output_type": "stream",
     "text": [
      "\n",
      "      Epoch    GPU_mem   box_loss   cls_loss   dfl_loss  Instances       Size\n"
     ]
    },
    {
     "name": "stderr",
     "output_type": "stream",
     "text": [
      "   997/1000      6.95G     0.0667    0.06844     0.7632         55        736: 100%|██████████| 29/29 [00:04<00:00,  6.38it/s]\n"
     ]
    },
    {
     "name": "stdout",
     "output_type": "stream",
     "text": [
      "\n",
      "      Epoch    GPU_mem   box_loss   cls_loss   dfl_loss  Instances       Size\n"
     ]
    },
    {
     "name": "stderr",
     "output_type": "stream",
     "text": [
      "   998/1000      6.95G    0.06587    0.06876     0.7656         47        736: 100%|██████████| 29/29 [00:04<00:00,  6.43it/s]\n"
     ]
    },
    {
     "name": "stdout",
     "output_type": "stream",
     "text": [
      "\n",
      "      Epoch    GPU_mem   box_loss   cls_loss   dfl_loss  Instances       Size\n"
     ]
    },
    {
     "name": "stderr",
     "output_type": "stream",
     "text": [
      "   999/1000      6.95G    0.06482     0.0672     0.7599         49        736: 100%|██████████| 29/29 [00:04<00:00,  6.42it/s]\n"
     ]
    },
    {
     "name": "stdout",
     "output_type": "stream",
     "text": [
      "\n",
      "      Epoch    GPU_mem   box_loss   cls_loss   dfl_loss  Instances       Size\n"
     ]
    },
    {
     "name": "stderr",
     "output_type": "stream",
     "text": [
      "  1000/1000      6.95G    0.06537    0.06691     0.7628         52        736: 100%|██████████| 29/29 [00:04<00:00,  6.45it/s]\n",
      "                 Class     Images  Instances      Box(P          R      mAP50  mAP50-95): 100%|██████████| 15/15 [00:04<00:00,  3.19it/s]\n",
      "D:\\code\\env\\anaconda\\envs\\mhy-yolo\\Lib\\site-packages\\ultralytics\\utils\\metrics.py:470: UserWarning: Glyph 24863 (\\N{CJK UNIFIED IDEOGRAPH-611F}) missing from current font.\n",
      "  fig.savefig(save_dir, dpi=250)\n",
      "D:\\code\\env\\anaconda\\envs\\mhy-yolo\\Lib\\site-packages\\ultralytics\\utils\\metrics.py:470: UserWarning: Glyph 21497 (\\N{CJK UNIFIED IDEOGRAPH-53F9}) missing from current font.\n",
      "  fig.savefig(save_dir, dpi=250)\n",
      "D:\\code\\env\\anaconda\\envs\\mhy-yolo\\Lib\\site-packages\\ultralytics\\utils\\metrics.py:470: UserWarning: Glyph 21495 (\\N{CJK UNIFIED IDEOGRAPH-53F7}) missing from current font.\n",
      "  fig.savefig(save_dir, dpi=250)\n",
      "D:\\code\\env\\anaconda\\envs\\mhy-yolo\\Lib\\site-packages\\ultralytics\\utils\\metrics.py:470: UserWarning: Glyph 36317 (\\N{CJK UNIFIED IDEOGRAPH-8DDD}) missing from current font.\n",
      "  fig.savefig(save_dir, dpi=250)\n",
      "D:\\code\\env\\anaconda\\envs\\mhy-yolo\\Lib\\site-packages\\ultralytics\\utils\\metrics.py:470: UserWarning: Glyph 31163 (\\N{CJK UNIFIED IDEOGRAPH-79BB}) missing from current font.\n",
      "  fig.savefig(save_dir, dpi=250)\n",
      "D:\\code\\env\\anaconda\\envs\\mhy-yolo\\Lib\\site-packages\\ultralytics\\utils\\metrics.py:470: UserWarning: Glyph 25112 (\\N{CJK UNIFIED IDEOGRAPH-6218}) missing from current font.\n",
      "  fig.savefig(save_dir, dpi=250)\n",
      "D:\\code\\env\\anaconda\\envs\\mhy-yolo\\Lib\\site-packages\\ultralytics\\utils\\metrics.py:470: UserWarning: Glyph 26007 (\\N{CJK UNIFIED IDEOGRAPH-6597}) missing from current font.\n",
      "  fig.savefig(save_dir, dpi=250)\n",
      "D:\\code\\env\\anaconda\\envs\\mhy-yolo\\Lib\\site-packages\\ultralytics\\utils\\metrics.py:470: UserWarning: Glyph 40483 (\\N{CJK UNIFIED IDEOGRAPH-9E23}) missing from current font.\n",
      "  fig.savefig(save_dir, dpi=250)\n",
      "D:\\code\\env\\anaconda\\envs\\mhy-yolo\\Lib\\site-packages\\ultralytics\\utils\\metrics.py:470: UserWarning: Glyph 24509 (\\N{CJK UNIFIED IDEOGRAPH-5FBD}) missing from current font.\n",
      "  fig.savefig(save_dir, dpi=250)\n",
      "D:\\code\\env\\anaconda\\envs\\mhy-yolo\\Lib\\site-packages\\ultralytics\\utils\\metrics.py:470: UserWarning: Glyph 27494 (\\N{CJK UNIFIED IDEOGRAPH-6B66}) missing from current font.\n",
      "  fig.savefig(save_dir, dpi=250)\n",
      "D:\\code\\env\\anaconda\\envs\\mhy-yolo\\Lib\\site-packages\\ultralytics\\utils\\metrics.py:470: UserWarning: Glyph 22791 (\\N{CJK UNIFIED IDEOGRAPH-5907}) missing from current font.\n",
      "  fig.savefig(save_dir, dpi=250)\n",
      "D:\\code\\env\\anaconda\\envs\\mhy-yolo\\Lib\\site-packages\\ultralytics\\utils\\metrics.py:470: UserWarning: Glyph 30828 (\\N{CJK UNIFIED IDEOGRAPH-786C}) missing from current font.\n",
      "  fig.savefig(save_dir, dpi=250)\n",
      "D:\\code\\env\\anaconda\\envs\\mhy-yolo\\Lib\\site-packages\\ultralytics\\utils\\metrics.py:470: UserWarning: Glyph 24065 (\\N{CJK UNIFIED IDEOGRAPH-5E01}) missing from current font.\n",
      "  fig.savefig(save_dir, dpi=250)\n",
      "D:\\code\\env\\anaconda\\envs\\mhy-yolo\\Lib\\site-packages\\ultralytics\\utils\\metrics.py:470: UserWarning: Glyph 25361 (\\N{CJK UNIFIED IDEOGRAPH-6311}) missing from current font.\n",
      "  fig.savefig(save_dir, dpi=250)\n",
      "D:\\code\\env\\anaconda\\envs\\mhy-yolo\\Lib\\site-packages\\ultralytics\\utils\\metrics.py:470: UserWarning: Glyph 26080 (\\N{CJK UNIFIED IDEOGRAPH-65E0}) missing from current font.\n",
      "  fig.savefig(save_dir, dpi=250)\n",
      "D:\\code\\env\\anaconda\\envs\\mhy-yolo\\Lib\\site-packages\\ultralytics\\utils\\metrics.py:470: UserWarning: Glyph 20260 (\\N{CJK UNIFIED IDEOGRAPH-4F24}) missing from current font.\n",
      "  fig.savefig(save_dir, dpi=250)\n",
      "D:\\code\\env\\anaconda\\envs\\mhy-yolo\\Lib\\site-packages\\ultralytics\\utils\\metrics.py:470: UserWarning: Glyph 38480 (\\N{CJK UNIFIED IDEOGRAPH-9650}) missing from current font.\n",
      "  fig.savefig(save_dir, dpi=250)\n",
      "D:\\code\\env\\anaconda\\envs\\mhy-yolo\\Lib\\site-packages\\ultralytics\\utils\\metrics.py:470: UserWarning: Glyph 26102 (\\N{CJK UNIFIED IDEOGRAPH-65F6}) missing from current font.\n",
      "  fig.savefig(save_dir, dpi=250)\n",
      "D:\\code\\env\\anaconda\\envs\\mhy-yolo\\Lib\\site-packages\\ultralytics\\utils\\metrics.py:470: UserWarning: Glyph 20598 (\\N{CJK UNIFIED IDEOGRAPH-5076}) missing from current font.\n",
      "  fig.savefig(save_dir, dpi=250)\n",
      "D:\\code\\env\\anaconda\\envs\\mhy-yolo\\Lib\\site-packages\\ultralytics\\utils\\metrics.py:470: UserWarning: Glyph 36935 (\\N{CJK UNIFIED IDEOGRAPH-9047}) missing from current font.\n",
      "  fig.savefig(save_dir, dpi=250)\n",
      "D:\\code\\env\\anaconda\\envs\\mhy-yolo\\Lib\\site-packages\\ultralytics\\utils\\metrics.py:470: UserWarning: Glyph 20107 (\\N{CJK UNIFIED IDEOGRAPH-4E8B}) missing from current font.\n",
      "  fig.savefig(save_dir, dpi=250)\n",
      "D:\\code\\env\\anaconda\\envs\\mhy-yolo\\Lib\\site-packages\\ultralytics\\utils\\metrics.py:470: UserWarning: Glyph 20214 (\\N{CJK UNIFIED IDEOGRAPH-4EF6}) missing from current font.\n",
      "  fig.savefig(save_dir, dpi=250)\n",
      "D:\\code\\env\\anaconda\\envs\\mhy-yolo\\Lib\\site-packages\\ultralytics\\utils\\metrics.py:470: UserWarning: Glyph 20195 (\\N{CJK UNIFIED IDEOGRAPH-4EE3}) missing from current font.\n",
      "  fig.savefig(save_dir, dpi=250)\n",
      "D:\\code\\env\\anaconda\\envs\\mhy-yolo\\Lib\\site-packages\\ultralytics\\utils\\metrics.py:470: UserWarning: Glyph 20215 (\\N{CJK UNIFIED IDEOGRAPH-4EF7}) missing from current font.\n",
      "  fig.savefig(save_dir, dpi=250)\n",
      "D:\\code\\env\\anaconda\\envs\\mhy-yolo\\Lib\\site-packages\\ultralytics\\utils\\metrics.py:470: UserWarning: Glyph 20043 (\\N{CJK UNIFIED IDEOGRAPH-4E4B}) missing from current font.\n",
      "  fig.savefig(save_dir, dpi=250)\n",
      "D:\\code\\env\\anaconda\\envs\\mhy-yolo\\Lib\\site-packages\\ultralytics\\utils\\metrics.py:470: UserWarning: Glyph 38388 (\\N{CJK UNIFIED IDEOGRAPH-95F4}) missing from current font.\n",
      "  fig.savefig(save_dir, dpi=250)\n",
      "D:\\code\\env\\anaconda\\envs\\mhy-yolo\\Lib\\site-packages\\ultralytics\\utils\\metrics.py:470: UserWarning: Glyph 20241 (\\N{CJK UNIFIED IDEOGRAPH-4F11}) missing from current font.\n",
      "  fig.savefig(save_dir, dpi=250)\n",
      "D:\\code\\env\\anaconda\\envs\\mhy-yolo\\Lib\\site-packages\\ultralytics\\utils\\metrics.py:470: UserWarning: Glyph 25001 (\\N{CJK UNIFIED IDEOGRAPH-61A9}) missing from current font.\n",
      "  fig.savefig(save_dir, dpi=250)\n",
      "D:\\code\\env\\anaconda\\envs\\mhy-yolo\\Lib\\site-packages\\ultralytics\\utils\\metrics.py:470: UserWarning: Glyph 35843 (\\N{CJK UNIFIED IDEOGRAPH-8C03}) missing from current font.\n",
      "  fig.savefig(save_dir, dpi=250)\n",
      "D:\\code\\env\\anaconda\\envs\\mhy-yolo\\Lib\\site-packages\\ultralytics\\utils\\metrics.py:470: UserWarning: Glyph 24687 (\\N{CJK UNIFIED IDEOGRAPH-606F}) missing from current font.\n",
      "  fig.savefig(save_dir, dpi=250)\n",
      "D:\\code\\env\\anaconda\\envs\\mhy-yolo\\Lib\\site-packages\\ultralytics\\utils\\metrics.py:470: UserWarning: Glyph 37030 (\\N{CJK UNIFIED IDEOGRAPH-90A6}) missing from current font.\n",
      "  fig.savefig(save_dir, dpi=250)\n",
      "D:\\code\\env\\anaconda\\envs\\mhy-yolo\\Lib\\site-packages\\ultralytics\\utils\\metrics.py:470: UserWarning: Glyph 24067 (\\N{CJK UNIFIED IDEOGRAPH-5E03}) missing from current font.\n",
      "  fig.savefig(save_dir, dpi=250)\n",
      "D:\\code\\env\\anaconda\\envs\\mhy-yolo\\Lib\\site-packages\\ultralytics\\utils\\metrics.py:470: UserWarning: Glyph 21830 (\\N{CJK UNIFIED IDEOGRAPH-5546}) missing from current font.\n",
      "  fig.savefig(save_dir, dpi=250)\n",
      "D:\\code\\env\\anaconda\\envs\\mhy-yolo\\Lib\\site-packages\\ultralytics\\utils\\metrics.py:470: UserWarning: Glyph 24215 (\\N{CJK UNIFIED IDEOGRAPH-5E97}) missing from current font.\n",
      "  fig.savefig(save_dir, dpi=250)\n",
      "D:\\code\\env\\anaconda\\envs\\mhy-yolo\\Lib\\site-packages\\ultralytics\\utils\\metrics.py:470: UserWarning: Glyph 25370 (\\N{CJK UNIFIED IDEOGRAPH-631A}) missing from current font.\n",
      "  fig.savefig(save_dir, dpi=250)\n",
      "D:\\code\\env\\anaconda\\envs\\mhy-yolo\\Lib\\site-packages\\ultralytics\\utils\\metrics.py:470: UserWarning: Glyph 20132 (\\N{CJK UNIFIED IDEOGRAPH-4EA4}) missing from current font.\n",
      "  fig.savefig(save_dir, dpi=250)\n",
      "D:\\code\\env\\anaconda\\envs\\mhy-yolo\\Lib\\site-packages\\ultralytics\\utils\\metrics.py:470: UserWarning: Glyph 20250 (\\N{CJK UNIFIED IDEOGRAPH-4F1A}) missing from current font.\n",
      "  fig.savefig(save_dir, dpi=250)\n",
      "D:\\code\\env\\anaconda\\envs\\mhy-yolo\\Lib\\site-packages\\ultralytics\\utils\\metrics.py:470: UserWarning: Glyph 35848 (\\N{CJK UNIFIED IDEOGRAPH-8C08}) missing from current font.\n",
      "  fig.savefig(save_dir, dpi=250)\n",
      "D:\\code\\env\\anaconda\\envs\\mhy-yolo\\Lib\\site-packages\\ultralytics\\utils\\metrics.py:470: UserWarning: Glyph 36947 (\\N{CJK UNIFIED IDEOGRAPH-9053}) missing from current font.\n",
      "  fig.savefig(save_dir, dpi=250)\n",
      "D:\\code\\env\\anaconda\\envs\\mhy-yolo\\Lib\\site-packages\\ultralytics\\utils\\metrics.py:470: UserWarning: Glyph 20013 (\\N{CJK UNIFIED IDEOGRAPH-4E2D}) missing from current font.\n",
      "  fig.savefig(save_dir, dpi=250)\n",
      "D:\\code\\env\\anaconda\\envs\\mhy-yolo\\Lib\\site-packages\\ultralytics\\utils\\metrics.py:470: UserWarning: Glyph 21361 (\\N{CJK UNIFIED IDEOGRAPH-5371}) missing from current font.\n",
      "  fig.savefig(save_dir, dpi=250)\n",
      "D:\\code\\env\\anaconda\\envs\\mhy-yolo\\Lib\\site-packages\\ultralytics\\utils\\metrics.py:470: UserWarning: Glyph 26426 (\\N{CJK UNIFIED IDEOGRAPH-673A}) missing from current font.\n",
      "  fig.savefig(save_dir, dpi=250)\n",
      "D:\\code\\env\\anaconda\\envs\\mhy-yolo\\Lib\\site-packages\\ultralytics\\utils\\metrics.py:470: UserWarning: Glyph 32456 (\\N{CJK UNIFIED IDEOGRAPH-7EC8}) missing from current font.\n",
      "  fig.savefig(save_dir, dpi=250)\n",
      "D:\\code\\env\\anaconda\\envs\\mhy-yolo\\Lib\\site-packages\\ultralytics\\utils\\metrics.py:470: UserWarning: Glyph 32467 (\\N{CJK UNIFIED IDEOGRAPH-7ED3}) missing from current font.\n",
      "  fig.savefig(save_dir, dpi=250)\n",
      "D:\\code\\env\\anaconda\\envs\\mhy-yolo\\Lib\\site-packages\\ultralytics\\utils\\metrics.py:470: UserWarning: Glyph 24441 (\\N{CJK UNIFIED IDEOGRAPH-5F79}) missing from current font.\n",
      "  fig.savefig(save_dir, dpi=250)\n",
      "D:\\code\\env\\anaconda\\envs\\mhy-yolo\\Lib\\site-packages\\ultralytics\\utils\\metrics.py:495: UserWarning: Glyph 24863 (\\N{CJK UNIFIED IDEOGRAPH-611F}) missing from current font.\n",
      "  fig.savefig(save_dir, dpi=250)\n",
      "D:\\code\\env\\anaconda\\envs\\mhy-yolo\\Lib\\site-packages\\ultralytics\\utils\\metrics.py:495: UserWarning: Glyph 21497 (\\N{CJK UNIFIED IDEOGRAPH-53F9}) missing from current font.\n",
      "  fig.savefig(save_dir, dpi=250)\n",
      "D:\\code\\env\\anaconda\\envs\\mhy-yolo\\Lib\\site-packages\\ultralytics\\utils\\metrics.py:495: UserWarning: Glyph 21495 (\\N{CJK UNIFIED IDEOGRAPH-53F7}) missing from current font.\n",
      "  fig.savefig(save_dir, dpi=250)\n",
      "D:\\code\\env\\anaconda\\envs\\mhy-yolo\\Lib\\site-packages\\ultralytics\\utils\\metrics.py:495: UserWarning: Glyph 36317 (\\N{CJK UNIFIED IDEOGRAPH-8DDD}) missing from current font.\n",
      "  fig.savefig(save_dir, dpi=250)\n",
      "D:\\code\\env\\anaconda\\envs\\mhy-yolo\\Lib\\site-packages\\ultralytics\\utils\\metrics.py:495: UserWarning: Glyph 31163 (\\N{CJK UNIFIED IDEOGRAPH-79BB}) missing from current font.\n",
      "  fig.savefig(save_dir, dpi=250)\n",
      "D:\\code\\env\\anaconda\\envs\\mhy-yolo\\Lib\\site-packages\\ultralytics\\utils\\metrics.py:495: UserWarning: Glyph 25112 (\\N{CJK UNIFIED IDEOGRAPH-6218}) missing from current font.\n",
      "  fig.savefig(save_dir, dpi=250)\n",
      "D:\\code\\env\\anaconda\\envs\\mhy-yolo\\Lib\\site-packages\\ultralytics\\utils\\metrics.py:495: UserWarning: Glyph 26007 (\\N{CJK UNIFIED IDEOGRAPH-6597}) missing from current font.\n",
      "  fig.savefig(save_dir, dpi=250)\n",
      "D:\\code\\env\\anaconda\\envs\\mhy-yolo\\Lib\\site-packages\\ultralytics\\utils\\metrics.py:495: UserWarning: Glyph 40483 (\\N{CJK UNIFIED IDEOGRAPH-9E23}) missing from current font.\n",
      "  fig.savefig(save_dir, dpi=250)\n",
      "D:\\code\\env\\anaconda\\envs\\mhy-yolo\\Lib\\site-packages\\ultralytics\\utils\\metrics.py:495: UserWarning: Glyph 24509 (\\N{CJK UNIFIED IDEOGRAPH-5FBD}) missing from current font.\n",
      "  fig.savefig(save_dir, dpi=250)\n",
      "D:\\code\\env\\anaconda\\envs\\mhy-yolo\\Lib\\site-packages\\ultralytics\\utils\\metrics.py:495: UserWarning: Glyph 27494 (\\N{CJK UNIFIED IDEOGRAPH-6B66}) missing from current font.\n",
      "  fig.savefig(save_dir, dpi=250)\n",
      "D:\\code\\env\\anaconda\\envs\\mhy-yolo\\Lib\\site-packages\\ultralytics\\utils\\metrics.py:495: UserWarning: Glyph 22791 (\\N{CJK UNIFIED IDEOGRAPH-5907}) missing from current font.\n",
      "  fig.savefig(save_dir, dpi=250)\n",
      "D:\\code\\env\\anaconda\\envs\\mhy-yolo\\Lib\\site-packages\\ultralytics\\utils\\metrics.py:495: UserWarning: Glyph 30828 (\\N{CJK UNIFIED IDEOGRAPH-786C}) missing from current font.\n",
      "  fig.savefig(save_dir, dpi=250)\n",
      "D:\\code\\env\\anaconda\\envs\\mhy-yolo\\Lib\\site-packages\\ultralytics\\utils\\metrics.py:495: UserWarning: Glyph 24065 (\\N{CJK UNIFIED IDEOGRAPH-5E01}) missing from current font.\n",
      "  fig.savefig(save_dir, dpi=250)\n",
      "D:\\code\\env\\anaconda\\envs\\mhy-yolo\\Lib\\site-packages\\ultralytics\\utils\\metrics.py:495: UserWarning: Glyph 25361 (\\N{CJK UNIFIED IDEOGRAPH-6311}) missing from current font.\n",
      "  fig.savefig(save_dir, dpi=250)\n",
      "D:\\code\\env\\anaconda\\envs\\mhy-yolo\\Lib\\site-packages\\ultralytics\\utils\\metrics.py:495: UserWarning: Glyph 26080 (\\N{CJK UNIFIED IDEOGRAPH-65E0}) missing from current font.\n",
      "  fig.savefig(save_dir, dpi=250)\n",
      "D:\\code\\env\\anaconda\\envs\\mhy-yolo\\Lib\\site-packages\\ultralytics\\utils\\metrics.py:495: UserWarning: Glyph 20260 (\\N{CJK UNIFIED IDEOGRAPH-4F24}) missing from current font.\n",
      "  fig.savefig(save_dir, dpi=250)\n",
      "D:\\code\\env\\anaconda\\envs\\mhy-yolo\\Lib\\site-packages\\ultralytics\\utils\\metrics.py:495: UserWarning: Glyph 38480 (\\N{CJK UNIFIED IDEOGRAPH-9650}) missing from current font.\n",
      "  fig.savefig(save_dir, dpi=250)\n",
      "D:\\code\\env\\anaconda\\envs\\mhy-yolo\\Lib\\site-packages\\ultralytics\\utils\\metrics.py:495: UserWarning: Glyph 26102 (\\N{CJK UNIFIED IDEOGRAPH-65F6}) missing from current font.\n",
      "  fig.savefig(save_dir, dpi=250)\n",
      "D:\\code\\env\\anaconda\\envs\\mhy-yolo\\Lib\\site-packages\\ultralytics\\utils\\metrics.py:495: UserWarning: Glyph 20598 (\\N{CJK UNIFIED IDEOGRAPH-5076}) missing from current font.\n",
      "  fig.savefig(save_dir, dpi=250)\n",
      "D:\\code\\env\\anaconda\\envs\\mhy-yolo\\Lib\\site-packages\\ultralytics\\utils\\metrics.py:495: UserWarning: Glyph 36935 (\\N{CJK UNIFIED IDEOGRAPH-9047}) missing from current font.\n",
      "  fig.savefig(save_dir, dpi=250)\n",
      "D:\\code\\env\\anaconda\\envs\\mhy-yolo\\Lib\\site-packages\\ultralytics\\utils\\metrics.py:495: UserWarning: Glyph 20107 (\\N{CJK UNIFIED IDEOGRAPH-4E8B}) missing from current font.\n",
      "  fig.savefig(save_dir, dpi=250)\n",
      "D:\\code\\env\\anaconda\\envs\\mhy-yolo\\Lib\\site-packages\\ultralytics\\utils\\metrics.py:495: UserWarning: Glyph 20214 (\\N{CJK UNIFIED IDEOGRAPH-4EF6}) missing from current font.\n",
      "  fig.savefig(save_dir, dpi=250)\n",
      "D:\\code\\env\\anaconda\\envs\\mhy-yolo\\Lib\\site-packages\\ultralytics\\utils\\metrics.py:495: UserWarning: Glyph 20195 (\\N{CJK UNIFIED IDEOGRAPH-4EE3}) missing from current font.\n",
      "  fig.savefig(save_dir, dpi=250)\n",
      "D:\\code\\env\\anaconda\\envs\\mhy-yolo\\Lib\\site-packages\\ultralytics\\utils\\metrics.py:495: UserWarning: Glyph 20215 (\\N{CJK UNIFIED IDEOGRAPH-4EF7}) missing from current font.\n",
      "  fig.savefig(save_dir, dpi=250)\n",
      "D:\\code\\env\\anaconda\\envs\\mhy-yolo\\Lib\\site-packages\\ultralytics\\utils\\metrics.py:495: UserWarning: Glyph 20043 (\\N{CJK UNIFIED IDEOGRAPH-4E4B}) missing from current font.\n",
      "  fig.savefig(save_dir, dpi=250)\n",
      "D:\\code\\env\\anaconda\\envs\\mhy-yolo\\Lib\\site-packages\\ultralytics\\utils\\metrics.py:495: UserWarning: Glyph 38388 (\\N{CJK UNIFIED IDEOGRAPH-95F4}) missing from current font.\n",
      "  fig.savefig(save_dir, dpi=250)\n",
      "D:\\code\\env\\anaconda\\envs\\mhy-yolo\\Lib\\site-packages\\ultralytics\\utils\\metrics.py:495: UserWarning: Glyph 20241 (\\N{CJK UNIFIED IDEOGRAPH-4F11}) missing from current font.\n",
      "  fig.savefig(save_dir, dpi=250)\n",
      "D:\\code\\env\\anaconda\\envs\\mhy-yolo\\Lib\\site-packages\\ultralytics\\utils\\metrics.py:495: UserWarning: Glyph 25001 (\\N{CJK UNIFIED IDEOGRAPH-61A9}) missing from current font.\n",
      "  fig.savefig(save_dir, dpi=250)\n",
      "D:\\code\\env\\anaconda\\envs\\mhy-yolo\\Lib\\site-packages\\ultralytics\\utils\\metrics.py:495: UserWarning: Glyph 35843 (\\N{CJK UNIFIED IDEOGRAPH-8C03}) missing from current font.\n",
      "  fig.savefig(save_dir, dpi=250)\n",
      "D:\\code\\env\\anaconda\\envs\\mhy-yolo\\Lib\\site-packages\\ultralytics\\utils\\metrics.py:495: UserWarning: Glyph 24687 (\\N{CJK UNIFIED IDEOGRAPH-606F}) missing from current font.\n",
      "  fig.savefig(save_dir, dpi=250)\n",
      "D:\\code\\env\\anaconda\\envs\\mhy-yolo\\Lib\\site-packages\\ultralytics\\utils\\metrics.py:495: UserWarning: Glyph 37030 (\\N{CJK UNIFIED IDEOGRAPH-90A6}) missing from current font.\n",
      "  fig.savefig(save_dir, dpi=250)\n",
      "D:\\code\\env\\anaconda\\envs\\mhy-yolo\\Lib\\site-packages\\ultralytics\\utils\\metrics.py:495: UserWarning: Glyph 24067 (\\N{CJK UNIFIED IDEOGRAPH-5E03}) missing from current font.\n",
      "  fig.savefig(save_dir, dpi=250)\n",
      "D:\\code\\env\\anaconda\\envs\\mhy-yolo\\Lib\\site-packages\\ultralytics\\utils\\metrics.py:495: UserWarning: Glyph 21830 (\\N{CJK UNIFIED IDEOGRAPH-5546}) missing from current font.\n",
      "  fig.savefig(save_dir, dpi=250)\n",
      "D:\\code\\env\\anaconda\\envs\\mhy-yolo\\Lib\\site-packages\\ultralytics\\utils\\metrics.py:495: UserWarning: Glyph 24215 (\\N{CJK UNIFIED IDEOGRAPH-5E97}) missing from current font.\n",
      "  fig.savefig(save_dir, dpi=250)\n",
      "D:\\code\\env\\anaconda\\envs\\mhy-yolo\\Lib\\site-packages\\ultralytics\\utils\\metrics.py:495: UserWarning: Glyph 25370 (\\N{CJK UNIFIED IDEOGRAPH-631A}) missing from current font.\n",
      "  fig.savefig(save_dir, dpi=250)\n",
      "D:\\code\\env\\anaconda\\envs\\mhy-yolo\\Lib\\site-packages\\ultralytics\\utils\\metrics.py:495: UserWarning: Glyph 20132 (\\N{CJK UNIFIED IDEOGRAPH-4EA4}) missing from current font.\n",
      "  fig.savefig(save_dir, dpi=250)\n",
      "D:\\code\\env\\anaconda\\envs\\mhy-yolo\\Lib\\site-packages\\ultralytics\\utils\\metrics.py:495: UserWarning: Glyph 20250 (\\N{CJK UNIFIED IDEOGRAPH-4F1A}) missing from current font.\n",
      "  fig.savefig(save_dir, dpi=250)\n",
      "D:\\code\\env\\anaconda\\envs\\mhy-yolo\\Lib\\site-packages\\ultralytics\\utils\\metrics.py:495: UserWarning: Glyph 35848 (\\N{CJK UNIFIED IDEOGRAPH-8C08}) missing from current font.\n",
      "  fig.savefig(save_dir, dpi=250)\n",
      "D:\\code\\env\\anaconda\\envs\\mhy-yolo\\Lib\\site-packages\\ultralytics\\utils\\metrics.py:495: UserWarning: Glyph 36947 (\\N{CJK UNIFIED IDEOGRAPH-9053}) missing from current font.\n",
      "  fig.savefig(save_dir, dpi=250)\n",
      "D:\\code\\env\\anaconda\\envs\\mhy-yolo\\Lib\\site-packages\\ultralytics\\utils\\metrics.py:495: UserWarning: Glyph 20013 (\\N{CJK UNIFIED IDEOGRAPH-4E2D}) missing from current font.\n",
      "  fig.savefig(save_dir, dpi=250)\n",
      "D:\\code\\env\\anaconda\\envs\\mhy-yolo\\Lib\\site-packages\\ultralytics\\utils\\metrics.py:495: UserWarning: Glyph 21361 (\\N{CJK UNIFIED IDEOGRAPH-5371}) missing from current font.\n",
      "  fig.savefig(save_dir, dpi=250)\n",
      "D:\\code\\env\\anaconda\\envs\\mhy-yolo\\Lib\\site-packages\\ultralytics\\utils\\metrics.py:495: UserWarning: Glyph 26426 (\\N{CJK UNIFIED IDEOGRAPH-673A}) missing from current font.\n",
      "  fig.savefig(save_dir, dpi=250)\n",
      "D:\\code\\env\\anaconda\\envs\\mhy-yolo\\Lib\\site-packages\\ultralytics\\utils\\metrics.py:495: UserWarning: Glyph 32456 (\\N{CJK UNIFIED IDEOGRAPH-7EC8}) missing from current font.\n",
      "  fig.savefig(save_dir, dpi=250)\n",
      "D:\\code\\env\\anaconda\\envs\\mhy-yolo\\Lib\\site-packages\\ultralytics\\utils\\metrics.py:495: UserWarning: Glyph 32467 (\\N{CJK UNIFIED IDEOGRAPH-7ED3}) missing from current font.\n",
      "  fig.savefig(save_dir, dpi=250)\n",
      "D:\\code\\env\\anaconda\\envs\\mhy-yolo\\Lib\\site-packages\\ultralytics\\utils\\metrics.py:495: UserWarning: Glyph 24441 (\\N{CJK UNIFIED IDEOGRAPH-5F79}) missing from current font.\n",
      "  fig.savefig(save_dir, dpi=250)\n",
      "D:\\code\\env\\anaconda\\envs\\mhy-yolo\\Lib\\site-packages\\ultralytics\\utils\\metrics.py:495: UserWarning: Glyph 24863 (\\N{CJK UNIFIED IDEOGRAPH-611F}) missing from current font.\n",
      "  fig.savefig(save_dir, dpi=250)\n",
      "D:\\code\\env\\anaconda\\envs\\mhy-yolo\\Lib\\site-packages\\ultralytics\\utils\\metrics.py:495: UserWarning: Glyph 21497 (\\N{CJK UNIFIED IDEOGRAPH-53F9}) missing from current font.\n",
      "  fig.savefig(save_dir, dpi=250)\n",
      "D:\\code\\env\\anaconda\\envs\\mhy-yolo\\Lib\\site-packages\\ultralytics\\utils\\metrics.py:495: UserWarning: Glyph 21495 (\\N{CJK UNIFIED IDEOGRAPH-53F7}) missing from current font.\n",
      "  fig.savefig(save_dir, dpi=250)\n",
      "D:\\code\\env\\anaconda\\envs\\mhy-yolo\\Lib\\site-packages\\ultralytics\\utils\\metrics.py:495: UserWarning: Glyph 36317 (\\N{CJK UNIFIED IDEOGRAPH-8DDD}) missing from current font.\n",
      "  fig.savefig(save_dir, dpi=250)\n",
      "D:\\code\\env\\anaconda\\envs\\mhy-yolo\\Lib\\site-packages\\ultralytics\\utils\\metrics.py:495: UserWarning: Glyph 31163 (\\N{CJK UNIFIED IDEOGRAPH-79BB}) missing from current font.\n",
      "  fig.savefig(save_dir, dpi=250)\n",
      "D:\\code\\env\\anaconda\\envs\\mhy-yolo\\Lib\\site-packages\\ultralytics\\utils\\metrics.py:495: UserWarning: Glyph 25112 (\\N{CJK UNIFIED IDEOGRAPH-6218}) missing from current font.\n",
      "  fig.savefig(save_dir, dpi=250)\n",
      "D:\\code\\env\\anaconda\\envs\\mhy-yolo\\Lib\\site-packages\\ultralytics\\utils\\metrics.py:495: UserWarning: Glyph 26007 (\\N{CJK UNIFIED IDEOGRAPH-6597}) missing from current font.\n",
      "  fig.savefig(save_dir, dpi=250)\n",
      "D:\\code\\env\\anaconda\\envs\\mhy-yolo\\Lib\\site-packages\\ultralytics\\utils\\metrics.py:495: UserWarning: Glyph 40483 (\\N{CJK UNIFIED IDEOGRAPH-9E23}) missing from current font.\n",
      "  fig.savefig(save_dir, dpi=250)\n",
      "D:\\code\\env\\anaconda\\envs\\mhy-yolo\\Lib\\site-packages\\ultralytics\\utils\\metrics.py:495: UserWarning: Glyph 24509 (\\N{CJK UNIFIED IDEOGRAPH-5FBD}) missing from current font.\n",
      "  fig.savefig(save_dir, dpi=250)\n",
      "D:\\code\\env\\anaconda\\envs\\mhy-yolo\\Lib\\site-packages\\ultralytics\\utils\\metrics.py:495: UserWarning: Glyph 27494 (\\N{CJK UNIFIED IDEOGRAPH-6B66}) missing from current font.\n",
      "  fig.savefig(save_dir, dpi=250)\n",
      "D:\\code\\env\\anaconda\\envs\\mhy-yolo\\Lib\\site-packages\\ultralytics\\utils\\metrics.py:495: UserWarning: Glyph 22791 (\\N{CJK UNIFIED IDEOGRAPH-5907}) missing from current font.\n",
      "  fig.savefig(save_dir, dpi=250)\n",
      "D:\\code\\env\\anaconda\\envs\\mhy-yolo\\Lib\\site-packages\\ultralytics\\utils\\metrics.py:495: UserWarning: Glyph 30828 (\\N{CJK UNIFIED IDEOGRAPH-786C}) missing from current font.\n",
      "  fig.savefig(save_dir, dpi=250)\n",
      "D:\\code\\env\\anaconda\\envs\\mhy-yolo\\Lib\\site-packages\\ultralytics\\utils\\metrics.py:495: UserWarning: Glyph 24065 (\\N{CJK UNIFIED IDEOGRAPH-5E01}) missing from current font.\n",
      "  fig.savefig(save_dir, dpi=250)\n",
      "D:\\code\\env\\anaconda\\envs\\mhy-yolo\\Lib\\site-packages\\ultralytics\\utils\\metrics.py:495: UserWarning: Glyph 25361 (\\N{CJK UNIFIED IDEOGRAPH-6311}) missing from current font.\n",
      "  fig.savefig(save_dir, dpi=250)\n",
      "D:\\code\\env\\anaconda\\envs\\mhy-yolo\\Lib\\site-packages\\ultralytics\\utils\\metrics.py:495: UserWarning: Glyph 26080 (\\N{CJK UNIFIED IDEOGRAPH-65E0}) missing from current font.\n",
      "  fig.savefig(save_dir, dpi=250)\n",
      "D:\\code\\env\\anaconda\\envs\\mhy-yolo\\Lib\\site-packages\\ultralytics\\utils\\metrics.py:495: UserWarning: Glyph 20260 (\\N{CJK UNIFIED IDEOGRAPH-4F24}) missing from current font.\n",
      "  fig.savefig(save_dir, dpi=250)\n",
      "D:\\code\\env\\anaconda\\envs\\mhy-yolo\\Lib\\site-packages\\ultralytics\\utils\\metrics.py:495: UserWarning: Glyph 38480 (\\N{CJK UNIFIED IDEOGRAPH-9650}) missing from current font.\n",
      "  fig.savefig(save_dir, dpi=250)\n",
      "D:\\code\\env\\anaconda\\envs\\mhy-yolo\\Lib\\site-packages\\ultralytics\\utils\\metrics.py:495: UserWarning: Glyph 26102 (\\N{CJK UNIFIED IDEOGRAPH-65F6}) missing from current font.\n",
      "  fig.savefig(save_dir, dpi=250)\n",
      "D:\\code\\env\\anaconda\\envs\\mhy-yolo\\Lib\\site-packages\\ultralytics\\utils\\metrics.py:495: UserWarning: Glyph 20598 (\\N{CJK UNIFIED IDEOGRAPH-5076}) missing from current font.\n",
      "  fig.savefig(save_dir, dpi=250)\n",
      "D:\\code\\env\\anaconda\\envs\\mhy-yolo\\Lib\\site-packages\\ultralytics\\utils\\metrics.py:495: UserWarning: Glyph 36935 (\\N{CJK UNIFIED IDEOGRAPH-9047}) missing from current font.\n",
      "  fig.savefig(save_dir, dpi=250)\n",
      "D:\\code\\env\\anaconda\\envs\\mhy-yolo\\Lib\\site-packages\\ultralytics\\utils\\metrics.py:495: UserWarning: Glyph 20107 (\\N{CJK UNIFIED IDEOGRAPH-4E8B}) missing from current font.\n",
      "  fig.savefig(save_dir, dpi=250)\n",
      "D:\\code\\env\\anaconda\\envs\\mhy-yolo\\Lib\\site-packages\\ultralytics\\utils\\metrics.py:495: UserWarning: Glyph 20214 (\\N{CJK UNIFIED IDEOGRAPH-4EF6}) missing from current font.\n",
      "  fig.savefig(save_dir, dpi=250)\n",
      "D:\\code\\env\\anaconda\\envs\\mhy-yolo\\Lib\\site-packages\\ultralytics\\utils\\metrics.py:495: UserWarning: Glyph 20195 (\\N{CJK UNIFIED IDEOGRAPH-4EE3}) missing from current font.\n",
      "  fig.savefig(save_dir, dpi=250)\n",
      "D:\\code\\env\\anaconda\\envs\\mhy-yolo\\Lib\\site-packages\\ultralytics\\utils\\metrics.py:495: UserWarning: Glyph 20215 (\\N{CJK UNIFIED IDEOGRAPH-4EF7}) missing from current font.\n",
      "  fig.savefig(save_dir, dpi=250)\n",
      "D:\\code\\env\\anaconda\\envs\\mhy-yolo\\Lib\\site-packages\\ultralytics\\utils\\metrics.py:495: UserWarning: Glyph 20043 (\\N{CJK UNIFIED IDEOGRAPH-4E4B}) missing from current font.\n",
      "  fig.savefig(save_dir, dpi=250)\n",
      "D:\\code\\env\\anaconda\\envs\\mhy-yolo\\Lib\\site-packages\\ultralytics\\utils\\metrics.py:495: UserWarning: Glyph 38388 (\\N{CJK UNIFIED IDEOGRAPH-95F4}) missing from current font.\n",
      "  fig.savefig(save_dir, dpi=250)\n",
      "D:\\code\\env\\anaconda\\envs\\mhy-yolo\\Lib\\site-packages\\ultralytics\\utils\\metrics.py:495: UserWarning: Glyph 20241 (\\N{CJK UNIFIED IDEOGRAPH-4F11}) missing from current font.\n",
      "  fig.savefig(save_dir, dpi=250)\n",
      "D:\\code\\env\\anaconda\\envs\\mhy-yolo\\Lib\\site-packages\\ultralytics\\utils\\metrics.py:495: UserWarning: Glyph 25001 (\\N{CJK UNIFIED IDEOGRAPH-61A9}) missing from current font.\n",
      "  fig.savefig(save_dir, dpi=250)\n",
      "D:\\code\\env\\anaconda\\envs\\mhy-yolo\\Lib\\site-packages\\ultralytics\\utils\\metrics.py:495: UserWarning: Glyph 35843 (\\N{CJK UNIFIED IDEOGRAPH-8C03}) missing from current font.\n",
      "  fig.savefig(save_dir, dpi=250)\n",
      "D:\\code\\env\\anaconda\\envs\\mhy-yolo\\Lib\\site-packages\\ultralytics\\utils\\metrics.py:495: UserWarning: Glyph 24687 (\\N{CJK UNIFIED IDEOGRAPH-606F}) missing from current font.\n",
      "  fig.savefig(save_dir, dpi=250)\n",
      "D:\\code\\env\\anaconda\\envs\\mhy-yolo\\Lib\\site-packages\\ultralytics\\utils\\metrics.py:495: UserWarning: Glyph 37030 (\\N{CJK UNIFIED IDEOGRAPH-90A6}) missing from current font.\n",
      "  fig.savefig(save_dir, dpi=250)\n",
      "D:\\code\\env\\anaconda\\envs\\mhy-yolo\\Lib\\site-packages\\ultralytics\\utils\\metrics.py:495: UserWarning: Glyph 24067 (\\N{CJK UNIFIED IDEOGRAPH-5E03}) missing from current font.\n",
      "  fig.savefig(save_dir, dpi=250)\n",
      "D:\\code\\env\\anaconda\\envs\\mhy-yolo\\Lib\\site-packages\\ultralytics\\utils\\metrics.py:495: UserWarning: Glyph 21830 (\\N{CJK UNIFIED IDEOGRAPH-5546}) missing from current font.\n",
      "  fig.savefig(save_dir, dpi=250)\n",
      "D:\\code\\env\\anaconda\\envs\\mhy-yolo\\Lib\\site-packages\\ultralytics\\utils\\metrics.py:495: UserWarning: Glyph 24215 (\\N{CJK UNIFIED IDEOGRAPH-5E97}) missing from current font.\n",
      "  fig.savefig(save_dir, dpi=250)\n",
      "D:\\code\\env\\anaconda\\envs\\mhy-yolo\\Lib\\site-packages\\ultralytics\\utils\\metrics.py:495: UserWarning: Glyph 25370 (\\N{CJK UNIFIED IDEOGRAPH-631A}) missing from current font.\n",
      "  fig.savefig(save_dir, dpi=250)\n",
      "D:\\code\\env\\anaconda\\envs\\mhy-yolo\\Lib\\site-packages\\ultralytics\\utils\\metrics.py:495: UserWarning: Glyph 20132 (\\N{CJK UNIFIED IDEOGRAPH-4EA4}) missing from current font.\n",
      "  fig.savefig(save_dir, dpi=250)\n",
      "D:\\code\\env\\anaconda\\envs\\mhy-yolo\\Lib\\site-packages\\ultralytics\\utils\\metrics.py:495: UserWarning: Glyph 20250 (\\N{CJK UNIFIED IDEOGRAPH-4F1A}) missing from current font.\n",
      "  fig.savefig(save_dir, dpi=250)\n",
      "D:\\code\\env\\anaconda\\envs\\mhy-yolo\\Lib\\site-packages\\ultralytics\\utils\\metrics.py:495: UserWarning: Glyph 35848 (\\N{CJK UNIFIED IDEOGRAPH-8C08}) missing from current font.\n",
      "  fig.savefig(save_dir, dpi=250)\n",
      "D:\\code\\env\\anaconda\\envs\\mhy-yolo\\Lib\\site-packages\\ultralytics\\utils\\metrics.py:495: UserWarning: Glyph 36947 (\\N{CJK UNIFIED IDEOGRAPH-9053}) missing from current font.\n",
      "  fig.savefig(save_dir, dpi=250)\n",
      "D:\\code\\env\\anaconda\\envs\\mhy-yolo\\Lib\\site-packages\\ultralytics\\utils\\metrics.py:495: UserWarning: Glyph 20013 (\\N{CJK UNIFIED IDEOGRAPH-4E2D}) missing from current font.\n",
      "  fig.savefig(save_dir, dpi=250)\n",
      "D:\\code\\env\\anaconda\\envs\\mhy-yolo\\Lib\\site-packages\\ultralytics\\utils\\metrics.py:495: UserWarning: Glyph 21361 (\\N{CJK UNIFIED IDEOGRAPH-5371}) missing from current font.\n",
      "  fig.savefig(save_dir, dpi=250)\n",
      "D:\\code\\env\\anaconda\\envs\\mhy-yolo\\Lib\\site-packages\\ultralytics\\utils\\metrics.py:495: UserWarning: Glyph 26426 (\\N{CJK UNIFIED IDEOGRAPH-673A}) missing from current font.\n",
      "  fig.savefig(save_dir, dpi=250)\n",
      "D:\\code\\env\\anaconda\\envs\\mhy-yolo\\Lib\\site-packages\\ultralytics\\utils\\metrics.py:495: UserWarning: Glyph 32456 (\\N{CJK UNIFIED IDEOGRAPH-7EC8}) missing from current font.\n",
      "  fig.savefig(save_dir, dpi=250)\n",
      "D:\\code\\env\\anaconda\\envs\\mhy-yolo\\Lib\\site-packages\\ultralytics\\utils\\metrics.py:495: UserWarning: Glyph 32467 (\\N{CJK UNIFIED IDEOGRAPH-7ED3}) missing from current font.\n",
      "  fig.savefig(save_dir, dpi=250)\n",
      "D:\\code\\env\\anaconda\\envs\\mhy-yolo\\Lib\\site-packages\\ultralytics\\utils\\metrics.py:495: UserWarning: Glyph 24441 (\\N{CJK UNIFIED IDEOGRAPH-5F79}) missing from current font.\n",
      "  fig.savefig(save_dir, dpi=250)\n",
      "D:\\code\\env\\anaconda\\envs\\mhy-yolo\\Lib\\site-packages\\ultralytics\\utils\\metrics.py:495: UserWarning: Glyph 24863 (\\N{CJK UNIFIED IDEOGRAPH-611F}) missing from current font.\n",
      "  fig.savefig(save_dir, dpi=250)\n",
      "D:\\code\\env\\anaconda\\envs\\mhy-yolo\\Lib\\site-packages\\ultralytics\\utils\\metrics.py:495: UserWarning: Glyph 21497 (\\N{CJK UNIFIED IDEOGRAPH-53F9}) missing from current font.\n",
      "  fig.savefig(save_dir, dpi=250)\n",
      "D:\\code\\env\\anaconda\\envs\\mhy-yolo\\Lib\\site-packages\\ultralytics\\utils\\metrics.py:495: UserWarning: Glyph 21495 (\\N{CJK UNIFIED IDEOGRAPH-53F7}) missing from current font.\n",
      "  fig.savefig(save_dir, dpi=250)\n",
      "D:\\code\\env\\anaconda\\envs\\mhy-yolo\\Lib\\site-packages\\ultralytics\\utils\\metrics.py:495: UserWarning: Glyph 36317 (\\N{CJK UNIFIED IDEOGRAPH-8DDD}) missing from current font.\n",
      "  fig.savefig(save_dir, dpi=250)\n",
      "D:\\code\\env\\anaconda\\envs\\mhy-yolo\\Lib\\site-packages\\ultralytics\\utils\\metrics.py:495: UserWarning: Glyph 31163 (\\N{CJK UNIFIED IDEOGRAPH-79BB}) missing from current font.\n",
      "  fig.savefig(save_dir, dpi=250)\n",
      "D:\\code\\env\\anaconda\\envs\\mhy-yolo\\Lib\\site-packages\\ultralytics\\utils\\metrics.py:495: UserWarning: Glyph 25112 (\\N{CJK UNIFIED IDEOGRAPH-6218}) missing from current font.\n",
      "  fig.savefig(save_dir, dpi=250)\n",
      "D:\\code\\env\\anaconda\\envs\\mhy-yolo\\Lib\\site-packages\\ultralytics\\utils\\metrics.py:495: UserWarning: Glyph 26007 (\\N{CJK UNIFIED IDEOGRAPH-6597}) missing from current font.\n",
      "  fig.savefig(save_dir, dpi=250)\n",
      "D:\\code\\env\\anaconda\\envs\\mhy-yolo\\Lib\\site-packages\\ultralytics\\utils\\metrics.py:495: UserWarning: Glyph 40483 (\\N{CJK UNIFIED IDEOGRAPH-9E23}) missing from current font.\n",
      "  fig.savefig(save_dir, dpi=250)\n",
      "D:\\code\\env\\anaconda\\envs\\mhy-yolo\\Lib\\site-packages\\ultralytics\\utils\\metrics.py:495: UserWarning: Glyph 24509 (\\N{CJK UNIFIED IDEOGRAPH-5FBD}) missing from current font.\n",
      "  fig.savefig(save_dir, dpi=250)\n",
      "D:\\code\\env\\anaconda\\envs\\mhy-yolo\\Lib\\site-packages\\ultralytics\\utils\\metrics.py:495: UserWarning: Glyph 27494 (\\N{CJK UNIFIED IDEOGRAPH-6B66}) missing from current font.\n",
      "  fig.savefig(save_dir, dpi=250)\n",
      "D:\\code\\env\\anaconda\\envs\\mhy-yolo\\Lib\\site-packages\\ultralytics\\utils\\metrics.py:495: UserWarning: Glyph 22791 (\\N{CJK UNIFIED IDEOGRAPH-5907}) missing from current font.\n",
      "  fig.savefig(save_dir, dpi=250)\n",
      "D:\\code\\env\\anaconda\\envs\\mhy-yolo\\Lib\\site-packages\\ultralytics\\utils\\metrics.py:495: UserWarning: Glyph 30828 (\\N{CJK UNIFIED IDEOGRAPH-786C}) missing from current font.\n",
      "  fig.savefig(save_dir, dpi=250)\n",
      "D:\\code\\env\\anaconda\\envs\\mhy-yolo\\Lib\\site-packages\\ultralytics\\utils\\metrics.py:495: UserWarning: Glyph 24065 (\\N{CJK UNIFIED IDEOGRAPH-5E01}) missing from current font.\n",
      "  fig.savefig(save_dir, dpi=250)\n",
      "D:\\code\\env\\anaconda\\envs\\mhy-yolo\\Lib\\site-packages\\ultralytics\\utils\\metrics.py:495: UserWarning: Glyph 25361 (\\N{CJK UNIFIED IDEOGRAPH-6311}) missing from current font.\n",
      "  fig.savefig(save_dir, dpi=250)\n",
      "D:\\code\\env\\anaconda\\envs\\mhy-yolo\\Lib\\site-packages\\ultralytics\\utils\\metrics.py:495: UserWarning: Glyph 26080 (\\N{CJK UNIFIED IDEOGRAPH-65E0}) missing from current font.\n",
      "  fig.savefig(save_dir, dpi=250)\n",
      "D:\\code\\env\\anaconda\\envs\\mhy-yolo\\Lib\\site-packages\\ultralytics\\utils\\metrics.py:495: UserWarning: Glyph 20260 (\\N{CJK UNIFIED IDEOGRAPH-4F24}) missing from current font.\n",
      "  fig.savefig(save_dir, dpi=250)\n",
      "D:\\code\\env\\anaconda\\envs\\mhy-yolo\\Lib\\site-packages\\ultralytics\\utils\\metrics.py:495: UserWarning: Glyph 38480 (\\N{CJK UNIFIED IDEOGRAPH-9650}) missing from current font.\n",
      "  fig.savefig(save_dir, dpi=250)\n",
      "D:\\code\\env\\anaconda\\envs\\mhy-yolo\\Lib\\site-packages\\ultralytics\\utils\\metrics.py:495: UserWarning: Glyph 26102 (\\N{CJK UNIFIED IDEOGRAPH-65F6}) missing from current font.\n",
      "  fig.savefig(save_dir, dpi=250)\n",
      "D:\\code\\env\\anaconda\\envs\\mhy-yolo\\Lib\\site-packages\\ultralytics\\utils\\metrics.py:495: UserWarning: Glyph 20598 (\\N{CJK UNIFIED IDEOGRAPH-5076}) missing from current font.\n",
      "  fig.savefig(save_dir, dpi=250)\n",
      "D:\\code\\env\\anaconda\\envs\\mhy-yolo\\Lib\\site-packages\\ultralytics\\utils\\metrics.py:495: UserWarning: Glyph 36935 (\\N{CJK UNIFIED IDEOGRAPH-9047}) missing from current font.\n",
      "  fig.savefig(save_dir, dpi=250)\n",
      "D:\\code\\env\\anaconda\\envs\\mhy-yolo\\Lib\\site-packages\\ultralytics\\utils\\metrics.py:495: UserWarning: Glyph 20107 (\\N{CJK UNIFIED IDEOGRAPH-4E8B}) missing from current font.\n",
      "  fig.savefig(save_dir, dpi=250)\n",
      "D:\\code\\env\\anaconda\\envs\\mhy-yolo\\Lib\\site-packages\\ultralytics\\utils\\metrics.py:495: UserWarning: Glyph 20214 (\\N{CJK UNIFIED IDEOGRAPH-4EF6}) missing from current font.\n",
      "  fig.savefig(save_dir, dpi=250)\n",
      "D:\\code\\env\\anaconda\\envs\\mhy-yolo\\Lib\\site-packages\\ultralytics\\utils\\metrics.py:495: UserWarning: Glyph 20195 (\\N{CJK UNIFIED IDEOGRAPH-4EE3}) missing from current font.\n",
      "  fig.savefig(save_dir, dpi=250)\n",
      "D:\\code\\env\\anaconda\\envs\\mhy-yolo\\Lib\\site-packages\\ultralytics\\utils\\metrics.py:495: UserWarning: Glyph 20215 (\\N{CJK UNIFIED IDEOGRAPH-4EF7}) missing from current font.\n",
      "  fig.savefig(save_dir, dpi=250)\n",
      "D:\\code\\env\\anaconda\\envs\\mhy-yolo\\Lib\\site-packages\\ultralytics\\utils\\metrics.py:495: UserWarning: Glyph 20043 (\\N{CJK UNIFIED IDEOGRAPH-4E4B}) missing from current font.\n",
      "  fig.savefig(save_dir, dpi=250)\n",
      "D:\\code\\env\\anaconda\\envs\\mhy-yolo\\Lib\\site-packages\\ultralytics\\utils\\metrics.py:495: UserWarning: Glyph 38388 (\\N{CJK UNIFIED IDEOGRAPH-95F4}) missing from current font.\n",
      "  fig.savefig(save_dir, dpi=250)\n",
      "D:\\code\\env\\anaconda\\envs\\mhy-yolo\\Lib\\site-packages\\ultralytics\\utils\\metrics.py:495: UserWarning: Glyph 20241 (\\N{CJK UNIFIED IDEOGRAPH-4F11}) missing from current font.\n",
      "  fig.savefig(save_dir, dpi=250)\n",
      "D:\\code\\env\\anaconda\\envs\\mhy-yolo\\Lib\\site-packages\\ultralytics\\utils\\metrics.py:495: UserWarning: Glyph 25001 (\\N{CJK UNIFIED IDEOGRAPH-61A9}) missing from current font.\n",
      "  fig.savefig(save_dir, dpi=250)\n",
      "D:\\code\\env\\anaconda\\envs\\mhy-yolo\\Lib\\site-packages\\ultralytics\\utils\\metrics.py:495: UserWarning: Glyph 35843 (\\N{CJK UNIFIED IDEOGRAPH-8C03}) missing from current font.\n",
      "  fig.savefig(save_dir, dpi=250)\n",
      "D:\\code\\env\\anaconda\\envs\\mhy-yolo\\Lib\\site-packages\\ultralytics\\utils\\metrics.py:495: UserWarning: Glyph 24687 (\\N{CJK UNIFIED IDEOGRAPH-606F}) missing from current font.\n",
      "  fig.savefig(save_dir, dpi=250)\n",
      "D:\\code\\env\\anaconda\\envs\\mhy-yolo\\Lib\\site-packages\\ultralytics\\utils\\metrics.py:495: UserWarning: Glyph 37030 (\\N{CJK UNIFIED IDEOGRAPH-90A6}) missing from current font.\n",
      "  fig.savefig(save_dir, dpi=250)\n",
      "D:\\code\\env\\anaconda\\envs\\mhy-yolo\\Lib\\site-packages\\ultralytics\\utils\\metrics.py:495: UserWarning: Glyph 24067 (\\N{CJK UNIFIED IDEOGRAPH-5E03}) missing from current font.\n",
      "  fig.savefig(save_dir, dpi=250)\n",
      "D:\\code\\env\\anaconda\\envs\\mhy-yolo\\Lib\\site-packages\\ultralytics\\utils\\metrics.py:495: UserWarning: Glyph 21830 (\\N{CJK UNIFIED IDEOGRAPH-5546}) missing from current font.\n",
      "  fig.savefig(save_dir, dpi=250)\n",
      "D:\\code\\env\\anaconda\\envs\\mhy-yolo\\Lib\\site-packages\\ultralytics\\utils\\metrics.py:495: UserWarning: Glyph 24215 (\\N{CJK UNIFIED IDEOGRAPH-5E97}) missing from current font.\n",
      "  fig.savefig(save_dir, dpi=250)\n",
      "D:\\code\\env\\anaconda\\envs\\mhy-yolo\\Lib\\site-packages\\ultralytics\\utils\\metrics.py:495: UserWarning: Glyph 25370 (\\N{CJK UNIFIED IDEOGRAPH-631A}) missing from current font.\n",
      "  fig.savefig(save_dir, dpi=250)\n",
      "D:\\code\\env\\anaconda\\envs\\mhy-yolo\\Lib\\site-packages\\ultralytics\\utils\\metrics.py:495: UserWarning: Glyph 20132 (\\N{CJK UNIFIED IDEOGRAPH-4EA4}) missing from current font.\n",
      "  fig.savefig(save_dir, dpi=250)\n",
      "D:\\code\\env\\anaconda\\envs\\mhy-yolo\\Lib\\site-packages\\ultralytics\\utils\\metrics.py:495: UserWarning: Glyph 20250 (\\N{CJK UNIFIED IDEOGRAPH-4F1A}) missing from current font.\n",
      "  fig.savefig(save_dir, dpi=250)\n",
      "D:\\code\\env\\anaconda\\envs\\mhy-yolo\\Lib\\site-packages\\ultralytics\\utils\\metrics.py:495: UserWarning: Glyph 35848 (\\N{CJK UNIFIED IDEOGRAPH-8C08}) missing from current font.\n",
      "  fig.savefig(save_dir, dpi=250)\n",
      "D:\\code\\env\\anaconda\\envs\\mhy-yolo\\Lib\\site-packages\\ultralytics\\utils\\metrics.py:495: UserWarning: Glyph 36947 (\\N{CJK UNIFIED IDEOGRAPH-9053}) missing from current font.\n",
      "  fig.savefig(save_dir, dpi=250)\n",
      "D:\\code\\env\\anaconda\\envs\\mhy-yolo\\Lib\\site-packages\\ultralytics\\utils\\metrics.py:495: UserWarning: Glyph 20013 (\\N{CJK UNIFIED IDEOGRAPH-4E2D}) missing from current font.\n",
      "  fig.savefig(save_dir, dpi=250)\n",
      "D:\\code\\env\\anaconda\\envs\\mhy-yolo\\Lib\\site-packages\\ultralytics\\utils\\metrics.py:495: UserWarning: Glyph 21361 (\\N{CJK UNIFIED IDEOGRAPH-5371}) missing from current font.\n",
      "  fig.savefig(save_dir, dpi=250)\n",
      "D:\\code\\env\\anaconda\\envs\\mhy-yolo\\Lib\\site-packages\\ultralytics\\utils\\metrics.py:495: UserWarning: Glyph 26426 (\\N{CJK UNIFIED IDEOGRAPH-673A}) missing from current font.\n",
      "  fig.savefig(save_dir, dpi=250)\n",
      "D:\\code\\env\\anaconda\\envs\\mhy-yolo\\Lib\\site-packages\\ultralytics\\utils\\metrics.py:495: UserWarning: Glyph 32456 (\\N{CJK UNIFIED IDEOGRAPH-7EC8}) missing from current font.\n",
      "  fig.savefig(save_dir, dpi=250)\n",
      "D:\\code\\env\\anaconda\\envs\\mhy-yolo\\Lib\\site-packages\\ultralytics\\utils\\metrics.py:495: UserWarning: Glyph 32467 (\\N{CJK UNIFIED IDEOGRAPH-7ED3}) missing from current font.\n",
      "  fig.savefig(save_dir, dpi=250)\n",
      "D:\\code\\env\\anaconda\\envs\\mhy-yolo\\Lib\\site-packages\\ultralytics\\utils\\metrics.py:495: UserWarning: Glyph 24441 (\\N{CJK UNIFIED IDEOGRAPH-5F79}) missing from current font.\n",
      "  fig.savefig(save_dir, dpi=250)\n"
     ]
    },
    {
     "name": "stdout",
     "output_type": "stream",
     "text": [
      "                   all        546       1771      0.999          1      0.995      0.995\n"
     ]
    },
    {
     "name": "stderr",
     "output_type": "stream",
     "text": [
      "D:\\code\\env\\anaconda\\envs\\mhy-yolo\\Lib\\site-packages\\ultralytics\\utils\\metrics.py:432: UserWarning: Glyph 24863 (\\N{CJK UNIFIED IDEOGRAPH-611F}) missing from current font.\n",
      "  fig.savefig(plot_fname, dpi=250)\n",
      "D:\\code\\env\\anaconda\\envs\\mhy-yolo\\Lib\\site-packages\\ultralytics\\utils\\metrics.py:432: UserWarning: Glyph 21497 (\\N{CJK UNIFIED IDEOGRAPH-53F9}) missing from current font.\n",
      "  fig.savefig(plot_fname, dpi=250)\n",
      "D:\\code\\env\\anaconda\\envs\\mhy-yolo\\Lib\\site-packages\\ultralytics\\utils\\metrics.py:432: UserWarning: Glyph 21495 (\\N{CJK UNIFIED IDEOGRAPH-53F7}) missing from current font.\n",
      "  fig.savefig(plot_fname, dpi=250)\n",
      "D:\\code\\env\\anaconda\\envs\\mhy-yolo\\Lib\\site-packages\\ultralytics\\utils\\metrics.py:432: UserWarning: Glyph 36317 (\\N{CJK UNIFIED IDEOGRAPH-8DDD}) missing from current font.\n",
      "  fig.savefig(plot_fname, dpi=250)\n",
      "D:\\code\\env\\anaconda\\envs\\mhy-yolo\\Lib\\site-packages\\ultralytics\\utils\\metrics.py:432: UserWarning: Glyph 31163 (\\N{CJK UNIFIED IDEOGRAPH-79BB}) missing from current font.\n",
      "  fig.savefig(plot_fname, dpi=250)\n",
      "D:\\code\\env\\anaconda\\envs\\mhy-yolo\\Lib\\site-packages\\ultralytics\\utils\\metrics.py:432: UserWarning: Glyph 25112 (\\N{CJK UNIFIED IDEOGRAPH-6218}) missing from current font.\n",
      "  fig.savefig(plot_fname, dpi=250)\n",
      "D:\\code\\env\\anaconda\\envs\\mhy-yolo\\Lib\\site-packages\\ultralytics\\utils\\metrics.py:432: UserWarning: Glyph 26007 (\\N{CJK UNIFIED IDEOGRAPH-6597}) missing from current font.\n",
      "  fig.savefig(plot_fname, dpi=250)\n",
      "D:\\code\\env\\anaconda\\envs\\mhy-yolo\\Lib\\site-packages\\ultralytics\\utils\\metrics.py:432: UserWarning: Glyph 40483 (\\N{CJK UNIFIED IDEOGRAPH-9E23}) missing from current font.\n",
      "  fig.savefig(plot_fname, dpi=250)\n",
      "D:\\code\\env\\anaconda\\envs\\mhy-yolo\\Lib\\site-packages\\ultralytics\\utils\\metrics.py:432: UserWarning: Glyph 24509 (\\N{CJK UNIFIED IDEOGRAPH-5FBD}) missing from current font.\n",
      "  fig.savefig(plot_fname, dpi=250)\n",
      "D:\\code\\env\\anaconda\\envs\\mhy-yolo\\Lib\\site-packages\\ultralytics\\utils\\metrics.py:432: UserWarning: Glyph 27494 (\\N{CJK UNIFIED IDEOGRAPH-6B66}) missing from current font.\n",
      "  fig.savefig(plot_fname, dpi=250)\n",
      "D:\\code\\env\\anaconda\\envs\\mhy-yolo\\Lib\\site-packages\\ultralytics\\utils\\metrics.py:432: UserWarning: Glyph 22791 (\\N{CJK UNIFIED IDEOGRAPH-5907}) missing from current font.\n",
      "  fig.savefig(plot_fname, dpi=250)\n",
      "D:\\code\\env\\anaconda\\envs\\mhy-yolo\\Lib\\site-packages\\ultralytics\\utils\\metrics.py:432: UserWarning: Glyph 30828 (\\N{CJK UNIFIED IDEOGRAPH-786C}) missing from current font.\n",
      "  fig.savefig(plot_fname, dpi=250)\n",
      "D:\\code\\env\\anaconda\\envs\\mhy-yolo\\Lib\\site-packages\\ultralytics\\utils\\metrics.py:432: UserWarning: Glyph 24065 (\\N{CJK UNIFIED IDEOGRAPH-5E01}) missing from current font.\n",
      "  fig.savefig(plot_fname, dpi=250)\n",
      "D:\\code\\env\\anaconda\\envs\\mhy-yolo\\Lib\\site-packages\\ultralytics\\utils\\metrics.py:432: UserWarning: Glyph 25361 (\\N{CJK UNIFIED IDEOGRAPH-6311}) missing from current font.\n",
      "  fig.savefig(plot_fname, dpi=250)\n",
      "D:\\code\\env\\anaconda\\envs\\mhy-yolo\\Lib\\site-packages\\ultralytics\\utils\\metrics.py:432: UserWarning: Glyph 26080 (\\N{CJK UNIFIED IDEOGRAPH-65E0}) missing from current font.\n",
      "  fig.savefig(plot_fname, dpi=250)\n",
      "D:\\code\\env\\anaconda\\envs\\mhy-yolo\\Lib\\site-packages\\ultralytics\\utils\\metrics.py:432: UserWarning: Glyph 20260 (\\N{CJK UNIFIED IDEOGRAPH-4F24}) missing from current font.\n",
      "  fig.savefig(plot_fname, dpi=250)\n",
      "D:\\code\\env\\anaconda\\envs\\mhy-yolo\\Lib\\site-packages\\ultralytics\\utils\\metrics.py:432: UserWarning: Glyph 38480 (\\N{CJK UNIFIED IDEOGRAPH-9650}) missing from current font.\n",
      "  fig.savefig(plot_fname, dpi=250)\n",
      "D:\\code\\env\\anaconda\\envs\\mhy-yolo\\Lib\\site-packages\\ultralytics\\utils\\metrics.py:432: UserWarning: Glyph 26102 (\\N{CJK UNIFIED IDEOGRAPH-65F6}) missing from current font.\n",
      "  fig.savefig(plot_fname, dpi=250)\n",
      "D:\\code\\env\\anaconda\\envs\\mhy-yolo\\Lib\\site-packages\\ultralytics\\utils\\metrics.py:432: UserWarning: Glyph 20598 (\\N{CJK UNIFIED IDEOGRAPH-5076}) missing from current font.\n",
      "  fig.savefig(plot_fname, dpi=250)\n",
      "D:\\code\\env\\anaconda\\envs\\mhy-yolo\\Lib\\site-packages\\ultralytics\\utils\\metrics.py:432: UserWarning: Glyph 36935 (\\N{CJK UNIFIED IDEOGRAPH-9047}) missing from current font.\n",
      "  fig.savefig(plot_fname, dpi=250)\n",
      "D:\\code\\env\\anaconda\\envs\\mhy-yolo\\Lib\\site-packages\\ultralytics\\utils\\metrics.py:432: UserWarning: Glyph 20107 (\\N{CJK UNIFIED IDEOGRAPH-4E8B}) missing from current font.\n",
      "  fig.savefig(plot_fname, dpi=250)\n",
      "D:\\code\\env\\anaconda\\envs\\mhy-yolo\\Lib\\site-packages\\ultralytics\\utils\\metrics.py:432: UserWarning: Glyph 20214 (\\N{CJK UNIFIED IDEOGRAPH-4EF6}) missing from current font.\n",
      "  fig.savefig(plot_fname, dpi=250)\n",
      "D:\\code\\env\\anaconda\\envs\\mhy-yolo\\Lib\\site-packages\\ultralytics\\utils\\metrics.py:432: UserWarning: Glyph 20195 (\\N{CJK UNIFIED IDEOGRAPH-4EE3}) missing from current font.\n",
      "  fig.savefig(plot_fname, dpi=250)\n",
      "D:\\code\\env\\anaconda\\envs\\mhy-yolo\\Lib\\site-packages\\ultralytics\\utils\\metrics.py:432: UserWarning: Glyph 20215 (\\N{CJK UNIFIED IDEOGRAPH-4EF7}) missing from current font.\n",
      "  fig.savefig(plot_fname, dpi=250)\n",
      "D:\\code\\env\\anaconda\\envs\\mhy-yolo\\Lib\\site-packages\\ultralytics\\utils\\metrics.py:432: UserWarning: Glyph 20043 (\\N{CJK UNIFIED IDEOGRAPH-4E4B}) missing from current font.\n",
      "  fig.savefig(plot_fname, dpi=250)\n",
      "D:\\code\\env\\anaconda\\envs\\mhy-yolo\\Lib\\site-packages\\ultralytics\\utils\\metrics.py:432: UserWarning: Glyph 38388 (\\N{CJK UNIFIED IDEOGRAPH-95F4}) missing from current font.\n",
      "  fig.savefig(plot_fname, dpi=250)\n",
      "D:\\code\\env\\anaconda\\envs\\mhy-yolo\\Lib\\site-packages\\ultralytics\\utils\\metrics.py:432: UserWarning: Glyph 20241 (\\N{CJK UNIFIED IDEOGRAPH-4F11}) missing from current font.\n",
      "  fig.savefig(plot_fname, dpi=250)\n",
      "D:\\code\\env\\anaconda\\envs\\mhy-yolo\\Lib\\site-packages\\ultralytics\\utils\\metrics.py:432: UserWarning: Glyph 25001 (\\N{CJK UNIFIED IDEOGRAPH-61A9}) missing from current font.\n",
      "  fig.savefig(plot_fname, dpi=250)\n",
      "D:\\code\\env\\anaconda\\envs\\mhy-yolo\\Lib\\site-packages\\ultralytics\\utils\\metrics.py:432: UserWarning: Glyph 35843 (\\N{CJK UNIFIED IDEOGRAPH-8C03}) missing from current font.\n",
      "  fig.savefig(plot_fname, dpi=250)\n",
      "D:\\code\\env\\anaconda\\envs\\mhy-yolo\\Lib\\site-packages\\ultralytics\\utils\\metrics.py:432: UserWarning: Glyph 24687 (\\N{CJK UNIFIED IDEOGRAPH-606F}) missing from current font.\n",
      "  fig.savefig(plot_fname, dpi=250)\n",
      "D:\\code\\env\\anaconda\\envs\\mhy-yolo\\Lib\\site-packages\\ultralytics\\utils\\metrics.py:432: UserWarning: Glyph 37030 (\\N{CJK UNIFIED IDEOGRAPH-90A6}) missing from current font.\n",
      "  fig.savefig(plot_fname, dpi=250)\n",
      "D:\\code\\env\\anaconda\\envs\\mhy-yolo\\Lib\\site-packages\\ultralytics\\utils\\metrics.py:432: UserWarning: Glyph 24067 (\\N{CJK UNIFIED IDEOGRAPH-5E03}) missing from current font.\n",
      "  fig.savefig(plot_fname, dpi=250)\n",
      "D:\\code\\env\\anaconda\\envs\\mhy-yolo\\Lib\\site-packages\\ultralytics\\utils\\metrics.py:432: UserWarning: Glyph 21830 (\\N{CJK UNIFIED IDEOGRAPH-5546}) missing from current font.\n",
      "  fig.savefig(plot_fname, dpi=250)\n",
      "D:\\code\\env\\anaconda\\envs\\mhy-yolo\\Lib\\site-packages\\ultralytics\\utils\\metrics.py:432: UserWarning: Glyph 24215 (\\N{CJK UNIFIED IDEOGRAPH-5E97}) missing from current font.\n",
      "  fig.savefig(plot_fname, dpi=250)\n",
      "D:\\code\\env\\anaconda\\envs\\mhy-yolo\\Lib\\site-packages\\ultralytics\\utils\\metrics.py:432: UserWarning: Glyph 25370 (\\N{CJK UNIFIED IDEOGRAPH-631A}) missing from current font.\n",
      "  fig.savefig(plot_fname, dpi=250)\n",
      "D:\\code\\env\\anaconda\\envs\\mhy-yolo\\Lib\\site-packages\\ultralytics\\utils\\metrics.py:432: UserWarning: Glyph 20132 (\\N{CJK UNIFIED IDEOGRAPH-4EA4}) missing from current font.\n",
      "  fig.savefig(plot_fname, dpi=250)\n",
      "D:\\code\\env\\anaconda\\envs\\mhy-yolo\\Lib\\site-packages\\ultralytics\\utils\\metrics.py:432: UserWarning: Glyph 20250 (\\N{CJK UNIFIED IDEOGRAPH-4F1A}) missing from current font.\n",
      "  fig.savefig(plot_fname, dpi=250)\n",
      "D:\\code\\env\\anaconda\\envs\\mhy-yolo\\Lib\\site-packages\\ultralytics\\utils\\metrics.py:432: UserWarning: Glyph 35848 (\\N{CJK UNIFIED IDEOGRAPH-8C08}) missing from current font.\n",
      "  fig.savefig(plot_fname, dpi=250)\n",
      "D:\\code\\env\\anaconda\\envs\\mhy-yolo\\Lib\\site-packages\\ultralytics\\utils\\metrics.py:432: UserWarning: Glyph 36947 (\\N{CJK UNIFIED IDEOGRAPH-9053}) missing from current font.\n",
      "  fig.savefig(plot_fname, dpi=250)\n",
      "D:\\code\\env\\anaconda\\envs\\mhy-yolo\\Lib\\site-packages\\ultralytics\\utils\\metrics.py:432: UserWarning: Glyph 20013 (\\N{CJK UNIFIED IDEOGRAPH-4E2D}) missing from current font.\n",
      "  fig.savefig(plot_fname, dpi=250)\n",
      "D:\\code\\env\\anaconda\\envs\\mhy-yolo\\Lib\\site-packages\\ultralytics\\utils\\metrics.py:432: UserWarning: Glyph 21361 (\\N{CJK UNIFIED IDEOGRAPH-5371}) missing from current font.\n",
      "  fig.savefig(plot_fname, dpi=250)\n",
      "D:\\code\\env\\anaconda\\envs\\mhy-yolo\\Lib\\site-packages\\ultralytics\\utils\\metrics.py:432: UserWarning: Glyph 26426 (\\N{CJK UNIFIED IDEOGRAPH-673A}) missing from current font.\n",
      "  fig.savefig(plot_fname, dpi=250)\n",
      "D:\\code\\env\\anaconda\\envs\\mhy-yolo\\Lib\\site-packages\\ultralytics\\utils\\metrics.py:432: UserWarning: Glyph 32456 (\\N{CJK UNIFIED IDEOGRAPH-7EC8}) missing from current font.\n",
      "  fig.savefig(plot_fname, dpi=250)\n",
      "D:\\code\\env\\anaconda\\envs\\mhy-yolo\\Lib\\site-packages\\ultralytics\\utils\\metrics.py:432: UserWarning: Glyph 32467 (\\N{CJK UNIFIED IDEOGRAPH-7ED3}) missing from current font.\n",
      "  fig.savefig(plot_fname, dpi=250)\n",
      "D:\\code\\env\\anaconda\\envs\\mhy-yolo\\Lib\\site-packages\\ultralytics\\utils\\metrics.py:432: UserWarning: Glyph 24441 (\\N{CJK UNIFIED IDEOGRAPH-5F79}) missing from current font.\n",
      "  fig.savefig(plot_fname, dpi=250)\n",
      "D:\\code\\env\\anaconda\\envs\\mhy-yolo\\Lib\\site-packages\\ultralytics\\utils\\metrics.py:432: UserWarning: Glyph 24863 (\\N{CJK UNIFIED IDEOGRAPH-611F}) missing from current font.\n",
      "  fig.savefig(plot_fname, dpi=250)\n",
      "D:\\code\\env\\anaconda\\envs\\mhy-yolo\\Lib\\site-packages\\ultralytics\\utils\\metrics.py:432: UserWarning: Glyph 21497 (\\N{CJK UNIFIED IDEOGRAPH-53F9}) missing from current font.\n",
      "  fig.savefig(plot_fname, dpi=250)\n",
      "D:\\code\\env\\anaconda\\envs\\mhy-yolo\\Lib\\site-packages\\ultralytics\\utils\\metrics.py:432: UserWarning: Glyph 21495 (\\N{CJK UNIFIED IDEOGRAPH-53F7}) missing from current font.\n",
      "  fig.savefig(plot_fname, dpi=250)\n",
      "D:\\code\\env\\anaconda\\envs\\mhy-yolo\\Lib\\site-packages\\ultralytics\\utils\\metrics.py:432: UserWarning: Glyph 36317 (\\N{CJK UNIFIED IDEOGRAPH-8DDD}) missing from current font.\n",
      "  fig.savefig(plot_fname, dpi=250)\n",
      "D:\\code\\env\\anaconda\\envs\\mhy-yolo\\Lib\\site-packages\\ultralytics\\utils\\metrics.py:432: UserWarning: Glyph 31163 (\\N{CJK UNIFIED IDEOGRAPH-79BB}) missing from current font.\n",
      "  fig.savefig(plot_fname, dpi=250)\n",
      "D:\\code\\env\\anaconda\\envs\\mhy-yolo\\Lib\\site-packages\\ultralytics\\utils\\metrics.py:432: UserWarning: Glyph 25112 (\\N{CJK UNIFIED IDEOGRAPH-6218}) missing from current font.\n",
      "  fig.savefig(plot_fname, dpi=250)\n",
      "D:\\code\\env\\anaconda\\envs\\mhy-yolo\\Lib\\site-packages\\ultralytics\\utils\\metrics.py:432: UserWarning: Glyph 26007 (\\N{CJK UNIFIED IDEOGRAPH-6597}) missing from current font.\n",
      "  fig.savefig(plot_fname, dpi=250)\n",
      "D:\\code\\env\\anaconda\\envs\\mhy-yolo\\Lib\\site-packages\\ultralytics\\utils\\metrics.py:432: UserWarning: Glyph 40483 (\\N{CJK UNIFIED IDEOGRAPH-9E23}) missing from current font.\n",
      "  fig.savefig(plot_fname, dpi=250)\n",
      "D:\\code\\env\\anaconda\\envs\\mhy-yolo\\Lib\\site-packages\\ultralytics\\utils\\metrics.py:432: UserWarning: Glyph 24509 (\\N{CJK UNIFIED IDEOGRAPH-5FBD}) missing from current font.\n",
      "  fig.savefig(plot_fname, dpi=250)\n",
      "D:\\code\\env\\anaconda\\envs\\mhy-yolo\\Lib\\site-packages\\ultralytics\\utils\\metrics.py:432: UserWarning: Glyph 27494 (\\N{CJK UNIFIED IDEOGRAPH-6B66}) missing from current font.\n",
      "  fig.savefig(plot_fname, dpi=250)\n",
      "D:\\code\\env\\anaconda\\envs\\mhy-yolo\\Lib\\site-packages\\ultralytics\\utils\\metrics.py:432: UserWarning: Glyph 22791 (\\N{CJK UNIFIED IDEOGRAPH-5907}) missing from current font.\n",
      "  fig.savefig(plot_fname, dpi=250)\n",
      "D:\\code\\env\\anaconda\\envs\\mhy-yolo\\Lib\\site-packages\\ultralytics\\utils\\metrics.py:432: UserWarning: Glyph 30828 (\\N{CJK UNIFIED IDEOGRAPH-786C}) missing from current font.\n",
      "  fig.savefig(plot_fname, dpi=250)\n",
      "D:\\code\\env\\anaconda\\envs\\mhy-yolo\\Lib\\site-packages\\ultralytics\\utils\\metrics.py:432: UserWarning: Glyph 24065 (\\N{CJK UNIFIED IDEOGRAPH-5E01}) missing from current font.\n",
      "  fig.savefig(plot_fname, dpi=250)\n",
      "D:\\code\\env\\anaconda\\envs\\mhy-yolo\\Lib\\site-packages\\ultralytics\\utils\\metrics.py:432: UserWarning: Glyph 25361 (\\N{CJK UNIFIED IDEOGRAPH-6311}) missing from current font.\n",
      "  fig.savefig(plot_fname, dpi=250)\n",
      "D:\\code\\env\\anaconda\\envs\\mhy-yolo\\Lib\\site-packages\\ultralytics\\utils\\metrics.py:432: UserWarning: Glyph 26080 (\\N{CJK UNIFIED IDEOGRAPH-65E0}) missing from current font.\n",
      "  fig.savefig(plot_fname, dpi=250)\n",
      "D:\\code\\env\\anaconda\\envs\\mhy-yolo\\Lib\\site-packages\\ultralytics\\utils\\metrics.py:432: UserWarning: Glyph 20260 (\\N{CJK UNIFIED IDEOGRAPH-4F24}) missing from current font.\n",
      "  fig.savefig(plot_fname, dpi=250)\n",
      "D:\\code\\env\\anaconda\\envs\\mhy-yolo\\Lib\\site-packages\\ultralytics\\utils\\metrics.py:432: UserWarning: Glyph 38480 (\\N{CJK UNIFIED IDEOGRAPH-9650}) missing from current font.\n",
      "  fig.savefig(plot_fname, dpi=250)\n",
      "D:\\code\\env\\anaconda\\envs\\mhy-yolo\\Lib\\site-packages\\ultralytics\\utils\\metrics.py:432: UserWarning: Glyph 26102 (\\N{CJK UNIFIED IDEOGRAPH-65F6}) missing from current font.\n",
      "  fig.savefig(plot_fname, dpi=250)\n",
      "D:\\code\\env\\anaconda\\envs\\mhy-yolo\\Lib\\site-packages\\ultralytics\\utils\\metrics.py:432: UserWarning: Glyph 20598 (\\N{CJK UNIFIED IDEOGRAPH-5076}) missing from current font.\n",
      "  fig.savefig(plot_fname, dpi=250)\n",
      "D:\\code\\env\\anaconda\\envs\\mhy-yolo\\Lib\\site-packages\\ultralytics\\utils\\metrics.py:432: UserWarning: Glyph 36935 (\\N{CJK UNIFIED IDEOGRAPH-9047}) missing from current font.\n",
      "  fig.savefig(plot_fname, dpi=250)\n",
      "D:\\code\\env\\anaconda\\envs\\mhy-yolo\\Lib\\site-packages\\ultralytics\\utils\\metrics.py:432: UserWarning: Glyph 20107 (\\N{CJK UNIFIED IDEOGRAPH-4E8B}) missing from current font.\n",
      "  fig.savefig(plot_fname, dpi=250)\n",
      "D:\\code\\env\\anaconda\\envs\\mhy-yolo\\Lib\\site-packages\\ultralytics\\utils\\metrics.py:432: UserWarning: Glyph 20214 (\\N{CJK UNIFIED IDEOGRAPH-4EF6}) missing from current font.\n",
      "  fig.savefig(plot_fname, dpi=250)\n",
      "D:\\code\\env\\anaconda\\envs\\mhy-yolo\\Lib\\site-packages\\ultralytics\\utils\\metrics.py:432: UserWarning: Glyph 20195 (\\N{CJK UNIFIED IDEOGRAPH-4EE3}) missing from current font.\n",
      "  fig.savefig(plot_fname, dpi=250)\n",
      "D:\\code\\env\\anaconda\\envs\\mhy-yolo\\Lib\\site-packages\\ultralytics\\utils\\metrics.py:432: UserWarning: Glyph 20215 (\\N{CJK UNIFIED IDEOGRAPH-4EF7}) missing from current font.\n",
      "  fig.savefig(plot_fname, dpi=250)\n",
      "D:\\code\\env\\anaconda\\envs\\mhy-yolo\\Lib\\site-packages\\ultralytics\\utils\\metrics.py:432: UserWarning: Glyph 20043 (\\N{CJK UNIFIED IDEOGRAPH-4E4B}) missing from current font.\n",
      "  fig.savefig(plot_fname, dpi=250)\n",
      "D:\\code\\env\\anaconda\\envs\\mhy-yolo\\Lib\\site-packages\\ultralytics\\utils\\metrics.py:432: UserWarning: Glyph 38388 (\\N{CJK UNIFIED IDEOGRAPH-95F4}) missing from current font.\n",
      "  fig.savefig(plot_fname, dpi=250)\n",
      "D:\\code\\env\\anaconda\\envs\\mhy-yolo\\Lib\\site-packages\\ultralytics\\utils\\metrics.py:432: UserWarning: Glyph 20241 (\\N{CJK UNIFIED IDEOGRAPH-4F11}) missing from current font.\n",
      "  fig.savefig(plot_fname, dpi=250)\n",
      "D:\\code\\env\\anaconda\\envs\\mhy-yolo\\Lib\\site-packages\\ultralytics\\utils\\metrics.py:432: UserWarning: Glyph 25001 (\\N{CJK UNIFIED IDEOGRAPH-61A9}) missing from current font.\n",
      "  fig.savefig(plot_fname, dpi=250)\n",
      "D:\\code\\env\\anaconda\\envs\\mhy-yolo\\Lib\\site-packages\\ultralytics\\utils\\metrics.py:432: UserWarning: Glyph 35843 (\\N{CJK UNIFIED IDEOGRAPH-8C03}) missing from current font.\n",
      "  fig.savefig(plot_fname, dpi=250)\n",
      "D:\\code\\env\\anaconda\\envs\\mhy-yolo\\Lib\\site-packages\\ultralytics\\utils\\metrics.py:432: UserWarning: Glyph 24687 (\\N{CJK UNIFIED IDEOGRAPH-606F}) missing from current font.\n",
      "  fig.savefig(plot_fname, dpi=250)\n",
      "D:\\code\\env\\anaconda\\envs\\mhy-yolo\\Lib\\site-packages\\ultralytics\\utils\\metrics.py:432: UserWarning: Glyph 37030 (\\N{CJK UNIFIED IDEOGRAPH-90A6}) missing from current font.\n",
      "  fig.savefig(plot_fname, dpi=250)\n",
      "D:\\code\\env\\anaconda\\envs\\mhy-yolo\\Lib\\site-packages\\ultralytics\\utils\\metrics.py:432: UserWarning: Glyph 24067 (\\N{CJK UNIFIED IDEOGRAPH-5E03}) missing from current font.\n",
      "  fig.savefig(plot_fname, dpi=250)\n",
      "D:\\code\\env\\anaconda\\envs\\mhy-yolo\\Lib\\site-packages\\ultralytics\\utils\\metrics.py:432: UserWarning: Glyph 21830 (\\N{CJK UNIFIED IDEOGRAPH-5546}) missing from current font.\n",
      "  fig.savefig(plot_fname, dpi=250)\n",
      "D:\\code\\env\\anaconda\\envs\\mhy-yolo\\Lib\\site-packages\\ultralytics\\utils\\metrics.py:432: UserWarning: Glyph 24215 (\\N{CJK UNIFIED IDEOGRAPH-5E97}) missing from current font.\n",
      "  fig.savefig(plot_fname, dpi=250)\n",
      "D:\\code\\env\\anaconda\\envs\\mhy-yolo\\Lib\\site-packages\\ultralytics\\utils\\metrics.py:432: UserWarning: Glyph 25370 (\\N{CJK UNIFIED IDEOGRAPH-631A}) missing from current font.\n",
      "  fig.savefig(plot_fname, dpi=250)\n",
      "D:\\code\\env\\anaconda\\envs\\mhy-yolo\\Lib\\site-packages\\ultralytics\\utils\\metrics.py:432: UserWarning: Glyph 20132 (\\N{CJK UNIFIED IDEOGRAPH-4EA4}) missing from current font.\n",
      "  fig.savefig(plot_fname, dpi=250)\n",
      "D:\\code\\env\\anaconda\\envs\\mhy-yolo\\Lib\\site-packages\\ultralytics\\utils\\metrics.py:432: UserWarning: Glyph 20250 (\\N{CJK UNIFIED IDEOGRAPH-4F1A}) missing from current font.\n",
      "  fig.savefig(plot_fname, dpi=250)\n",
      "D:\\code\\env\\anaconda\\envs\\mhy-yolo\\Lib\\site-packages\\ultralytics\\utils\\metrics.py:432: UserWarning: Glyph 35848 (\\N{CJK UNIFIED IDEOGRAPH-8C08}) missing from current font.\n",
      "  fig.savefig(plot_fname, dpi=250)\n",
      "D:\\code\\env\\anaconda\\envs\\mhy-yolo\\Lib\\site-packages\\ultralytics\\utils\\metrics.py:432: UserWarning: Glyph 36947 (\\N{CJK UNIFIED IDEOGRAPH-9053}) missing from current font.\n",
      "  fig.savefig(plot_fname, dpi=250)\n",
      "D:\\code\\env\\anaconda\\envs\\mhy-yolo\\Lib\\site-packages\\ultralytics\\utils\\metrics.py:432: UserWarning: Glyph 20013 (\\N{CJK UNIFIED IDEOGRAPH-4E2D}) missing from current font.\n",
      "  fig.savefig(plot_fname, dpi=250)\n",
      "D:\\code\\env\\anaconda\\envs\\mhy-yolo\\Lib\\site-packages\\ultralytics\\utils\\metrics.py:432: UserWarning: Glyph 21361 (\\N{CJK UNIFIED IDEOGRAPH-5371}) missing from current font.\n",
      "  fig.savefig(plot_fname, dpi=250)\n",
      "D:\\code\\env\\anaconda\\envs\\mhy-yolo\\Lib\\site-packages\\ultralytics\\utils\\metrics.py:432: UserWarning: Glyph 26426 (\\N{CJK UNIFIED IDEOGRAPH-673A}) missing from current font.\n",
      "  fig.savefig(plot_fname, dpi=250)\n",
      "D:\\code\\env\\anaconda\\envs\\mhy-yolo\\Lib\\site-packages\\ultralytics\\utils\\metrics.py:432: UserWarning: Glyph 32456 (\\N{CJK UNIFIED IDEOGRAPH-7EC8}) missing from current font.\n",
      "  fig.savefig(plot_fname, dpi=250)\n",
      "D:\\code\\env\\anaconda\\envs\\mhy-yolo\\Lib\\site-packages\\ultralytics\\utils\\metrics.py:432: UserWarning: Glyph 32467 (\\N{CJK UNIFIED IDEOGRAPH-7ED3}) missing from current font.\n",
      "  fig.savefig(plot_fname, dpi=250)\n",
      "D:\\code\\env\\anaconda\\envs\\mhy-yolo\\Lib\\site-packages\\ultralytics\\utils\\metrics.py:432: UserWarning: Glyph 24441 (\\N{CJK UNIFIED IDEOGRAPH-5F79}) missing from current font.\n",
      "  fig.savefig(plot_fname, dpi=250)\n"
     ]
    },
    {
     "name": "stdout",
     "output_type": "stream",
     "text": [
      "\n",
      "1000 epochs completed in 1.420 hours.\n",
      "Optimizer stripped from D:\\code\\workspace\\OneDragon-YOLO\\ultralytics\\runs\\zzz_lost_void_det_2208\\yolov8n-736\\weights\\last.pt, 5.9MB\n",
      "Optimizer stripped from D:\\code\\workspace\\OneDragon-YOLO\\ultralytics\\runs\\zzz_lost_void_det_2208\\yolov8n-736\\weights\\best.pt, 5.9MB\n",
      "\n",
      "Validating D:\\code\\workspace\\OneDragon-YOLO\\ultralytics\\runs\\zzz_lost_void_det_2208\\yolov8n-736\\weights\\best.pt...\n",
      "Ultralytics 8.3.1  Python-3.11.9 torch-2.3.1 CUDA:0 (NVIDIA GeForce RTX 4070 Ti, 12282MiB)\n",
      "Model summary (fused): 186 layers, 2,687,098 parameters, 0 gradients, 6.8 GFLOPs\n"
     ]
    },
    {
     "name": "stderr",
     "output_type": "stream",
     "text": [
      "                 Class     Images  Instances      Box(P          R      mAP50  mAP50-95): 100%|██████████| 15/15 [00:04<00:00,  3.65it/s]\n",
      "D:\\code\\env\\anaconda\\envs\\mhy-yolo\\Lib\\site-packages\\ultralytics\\utils\\metrics.py:470: UserWarning: Glyph 24863 (\\N{CJK UNIFIED IDEOGRAPH-611F}) missing from current font.\n",
      "  fig.savefig(save_dir, dpi=250)\n",
      "D:\\code\\env\\anaconda\\envs\\mhy-yolo\\Lib\\site-packages\\ultralytics\\utils\\metrics.py:470: UserWarning: Glyph 21497 (\\N{CJK UNIFIED IDEOGRAPH-53F9}) missing from current font.\n",
      "  fig.savefig(save_dir, dpi=250)\n",
      "D:\\code\\env\\anaconda\\envs\\mhy-yolo\\Lib\\site-packages\\ultralytics\\utils\\metrics.py:470: UserWarning: Glyph 21495 (\\N{CJK UNIFIED IDEOGRAPH-53F7}) missing from current font.\n",
      "  fig.savefig(save_dir, dpi=250)\n",
      "D:\\code\\env\\anaconda\\envs\\mhy-yolo\\Lib\\site-packages\\ultralytics\\utils\\metrics.py:470: UserWarning: Glyph 36317 (\\N{CJK UNIFIED IDEOGRAPH-8DDD}) missing from current font.\n",
      "  fig.savefig(save_dir, dpi=250)\n",
      "D:\\code\\env\\anaconda\\envs\\mhy-yolo\\Lib\\site-packages\\ultralytics\\utils\\metrics.py:470: UserWarning: Glyph 31163 (\\N{CJK UNIFIED IDEOGRAPH-79BB}) missing from current font.\n",
      "  fig.savefig(save_dir, dpi=250)\n",
      "D:\\code\\env\\anaconda\\envs\\mhy-yolo\\Lib\\site-packages\\ultralytics\\utils\\metrics.py:470: UserWarning: Glyph 25112 (\\N{CJK UNIFIED IDEOGRAPH-6218}) missing from current font.\n",
      "  fig.savefig(save_dir, dpi=250)\n",
      "D:\\code\\env\\anaconda\\envs\\mhy-yolo\\Lib\\site-packages\\ultralytics\\utils\\metrics.py:470: UserWarning: Glyph 26007 (\\N{CJK UNIFIED IDEOGRAPH-6597}) missing from current font.\n",
      "  fig.savefig(save_dir, dpi=250)\n",
      "D:\\code\\env\\anaconda\\envs\\mhy-yolo\\Lib\\site-packages\\ultralytics\\utils\\metrics.py:470: UserWarning: Glyph 40483 (\\N{CJK UNIFIED IDEOGRAPH-9E23}) missing from current font.\n",
      "  fig.savefig(save_dir, dpi=250)\n",
      "D:\\code\\env\\anaconda\\envs\\mhy-yolo\\Lib\\site-packages\\ultralytics\\utils\\metrics.py:470: UserWarning: Glyph 24509 (\\N{CJK UNIFIED IDEOGRAPH-5FBD}) missing from current font.\n",
      "  fig.savefig(save_dir, dpi=250)\n",
      "D:\\code\\env\\anaconda\\envs\\mhy-yolo\\Lib\\site-packages\\ultralytics\\utils\\metrics.py:470: UserWarning: Glyph 27494 (\\N{CJK UNIFIED IDEOGRAPH-6B66}) missing from current font.\n",
      "  fig.savefig(save_dir, dpi=250)\n",
      "D:\\code\\env\\anaconda\\envs\\mhy-yolo\\Lib\\site-packages\\ultralytics\\utils\\metrics.py:470: UserWarning: Glyph 22791 (\\N{CJK UNIFIED IDEOGRAPH-5907}) missing from current font.\n",
      "  fig.savefig(save_dir, dpi=250)\n",
      "D:\\code\\env\\anaconda\\envs\\mhy-yolo\\Lib\\site-packages\\ultralytics\\utils\\metrics.py:470: UserWarning: Glyph 30828 (\\N{CJK UNIFIED IDEOGRAPH-786C}) missing from current font.\n",
      "  fig.savefig(save_dir, dpi=250)\n",
      "D:\\code\\env\\anaconda\\envs\\mhy-yolo\\Lib\\site-packages\\ultralytics\\utils\\metrics.py:470: UserWarning: Glyph 24065 (\\N{CJK UNIFIED IDEOGRAPH-5E01}) missing from current font.\n",
      "  fig.savefig(save_dir, dpi=250)\n",
      "D:\\code\\env\\anaconda\\envs\\mhy-yolo\\Lib\\site-packages\\ultralytics\\utils\\metrics.py:470: UserWarning: Glyph 25361 (\\N{CJK UNIFIED IDEOGRAPH-6311}) missing from current font.\n",
      "  fig.savefig(save_dir, dpi=250)\n",
      "D:\\code\\env\\anaconda\\envs\\mhy-yolo\\Lib\\site-packages\\ultralytics\\utils\\metrics.py:470: UserWarning: Glyph 26080 (\\N{CJK UNIFIED IDEOGRAPH-65E0}) missing from current font.\n",
      "  fig.savefig(save_dir, dpi=250)\n",
      "D:\\code\\env\\anaconda\\envs\\mhy-yolo\\Lib\\site-packages\\ultralytics\\utils\\metrics.py:470: UserWarning: Glyph 20260 (\\N{CJK UNIFIED IDEOGRAPH-4F24}) missing from current font.\n",
      "  fig.savefig(save_dir, dpi=250)\n",
      "D:\\code\\env\\anaconda\\envs\\mhy-yolo\\Lib\\site-packages\\ultralytics\\utils\\metrics.py:470: UserWarning: Glyph 38480 (\\N{CJK UNIFIED IDEOGRAPH-9650}) missing from current font.\n",
      "  fig.savefig(save_dir, dpi=250)\n",
      "D:\\code\\env\\anaconda\\envs\\mhy-yolo\\Lib\\site-packages\\ultralytics\\utils\\metrics.py:470: UserWarning: Glyph 26102 (\\N{CJK UNIFIED IDEOGRAPH-65F6}) missing from current font.\n",
      "  fig.savefig(save_dir, dpi=250)\n",
      "D:\\code\\env\\anaconda\\envs\\mhy-yolo\\Lib\\site-packages\\ultralytics\\utils\\metrics.py:470: UserWarning: Glyph 20598 (\\N{CJK UNIFIED IDEOGRAPH-5076}) missing from current font.\n",
      "  fig.savefig(save_dir, dpi=250)\n",
      "D:\\code\\env\\anaconda\\envs\\mhy-yolo\\Lib\\site-packages\\ultralytics\\utils\\metrics.py:470: UserWarning: Glyph 36935 (\\N{CJK UNIFIED IDEOGRAPH-9047}) missing from current font.\n",
      "  fig.savefig(save_dir, dpi=250)\n",
      "D:\\code\\env\\anaconda\\envs\\mhy-yolo\\Lib\\site-packages\\ultralytics\\utils\\metrics.py:470: UserWarning: Glyph 20107 (\\N{CJK UNIFIED IDEOGRAPH-4E8B}) missing from current font.\n",
      "  fig.savefig(save_dir, dpi=250)\n",
      "D:\\code\\env\\anaconda\\envs\\mhy-yolo\\Lib\\site-packages\\ultralytics\\utils\\metrics.py:470: UserWarning: Glyph 20214 (\\N{CJK UNIFIED IDEOGRAPH-4EF6}) missing from current font.\n",
      "  fig.savefig(save_dir, dpi=250)\n",
      "D:\\code\\env\\anaconda\\envs\\mhy-yolo\\Lib\\site-packages\\ultralytics\\utils\\metrics.py:470: UserWarning: Glyph 20195 (\\N{CJK UNIFIED IDEOGRAPH-4EE3}) missing from current font.\n",
      "  fig.savefig(save_dir, dpi=250)\n",
      "D:\\code\\env\\anaconda\\envs\\mhy-yolo\\Lib\\site-packages\\ultralytics\\utils\\metrics.py:470: UserWarning: Glyph 20215 (\\N{CJK UNIFIED IDEOGRAPH-4EF7}) missing from current font.\n",
      "  fig.savefig(save_dir, dpi=250)\n",
      "D:\\code\\env\\anaconda\\envs\\mhy-yolo\\Lib\\site-packages\\ultralytics\\utils\\metrics.py:470: UserWarning: Glyph 20043 (\\N{CJK UNIFIED IDEOGRAPH-4E4B}) missing from current font.\n",
      "  fig.savefig(save_dir, dpi=250)\n",
      "D:\\code\\env\\anaconda\\envs\\mhy-yolo\\Lib\\site-packages\\ultralytics\\utils\\metrics.py:470: UserWarning: Glyph 38388 (\\N{CJK UNIFIED IDEOGRAPH-95F4}) missing from current font.\n",
      "  fig.savefig(save_dir, dpi=250)\n",
      "D:\\code\\env\\anaconda\\envs\\mhy-yolo\\Lib\\site-packages\\ultralytics\\utils\\metrics.py:470: UserWarning: Glyph 20241 (\\N{CJK UNIFIED IDEOGRAPH-4F11}) missing from current font.\n",
      "  fig.savefig(save_dir, dpi=250)\n",
      "D:\\code\\env\\anaconda\\envs\\mhy-yolo\\Lib\\site-packages\\ultralytics\\utils\\metrics.py:470: UserWarning: Glyph 25001 (\\N{CJK UNIFIED IDEOGRAPH-61A9}) missing from current font.\n",
      "  fig.savefig(save_dir, dpi=250)\n",
      "D:\\code\\env\\anaconda\\envs\\mhy-yolo\\Lib\\site-packages\\ultralytics\\utils\\metrics.py:470: UserWarning: Glyph 35843 (\\N{CJK UNIFIED IDEOGRAPH-8C03}) missing from current font.\n",
      "  fig.savefig(save_dir, dpi=250)\n",
      "D:\\code\\env\\anaconda\\envs\\mhy-yolo\\Lib\\site-packages\\ultralytics\\utils\\metrics.py:470: UserWarning: Glyph 24687 (\\N{CJK UNIFIED IDEOGRAPH-606F}) missing from current font.\n",
      "  fig.savefig(save_dir, dpi=250)\n",
      "D:\\code\\env\\anaconda\\envs\\mhy-yolo\\Lib\\site-packages\\ultralytics\\utils\\metrics.py:470: UserWarning: Glyph 37030 (\\N{CJK UNIFIED IDEOGRAPH-90A6}) missing from current font.\n",
      "  fig.savefig(save_dir, dpi=250)\n",
      "D:\\code\\env\\anaconda\\envs\\mhy-yolo\\Lib\\site-packages\\ultralytics\\utils\\metrics.py:470: UserWarning: Glyph 24067 (\\N{CJK UNIFIED IDEOGRAPH-5E03}) missing from current font.\n",
      "  fig.savefig(save_dir, dpi=250)\n",
      "D:\\code\\env\\anaconda\\envs\\mhy-yolo\\Lib\\site-packages\\ultralytics\\utils\\metrics.py:470: UserWarning: Glyph 21830 (\\N{CJK UNIFIED IDEOGRAPH-5546}) missing from current font.\n",
      "  fig.savefig(save_dir, dpi=250)\n",
      "D:\\code\\env\\anaconda\\envs\\mhy-yolo\\Lib\\site-packages\\ultralytics\\utils\\metrics.py:470: UserWarning: Glyph 24215 (\\N{CJK UNIFIED IDEOGRAPH-5E97}) missing from current font.\n",
      "  fig.savefig(save_dir, dpi=250)\n",
      "D:\\code\\env\\anaconda\\envs\\mhy-yolo\\Lib\\site-packages\\ultralytics\\utils\\metrics.py:470: UserWarning: Glyph 25370 (\\N{CJK UNIFIED IDEOGRAPH-631A}) missing from current font.\n",
      "  fig.savefig(save_dir, dpi=250)\n",
      "D:\\code\\env\\anaconda\\envs\\mhy-yolo\\Lib\\site-packages\\ultralytics\\utils\\metrics.py:470: UserWarning: Glyph 20132 (\\N{CJK UNIFIED IDEOGRAPH-4EA4}) missing from current font.\n",
      "  fig.savefig(save_dir, dpi=250)\n",
      "D:\\code\\env\\anaconda\\envs\\mhy-yolo\\Lib\\site-packages\\ultralytics\\utils\\metrics.py:470: UserWarning: Glyph 20250 (\\N{CJK UNIFIED IDEOGRAPH-4F1A}) missing from current font.\n",
      "  fig.savefig(save_dir, dpi=250)\n",
      "D:\\code\\env\\anaconda\\envs\\mhy-yolo\\Lib\\site-packages\\ultralytics\\utils\\metrics.py:470: UserWarning: Glyph 35848 (\\N{CJK UNIFIED IDEOGRAPH-8C08}) missing from current font.\n",
      "  fig.savefig(save_dir, dpi=250)\n",
      "D:\\code\\env\\anaconda\\envs\\mhy-yolo\\Lib\\site-packages\\ultralytics\\utils\\metrics.py:470: UserWarning: Glyph 36947 (\\N{CJK UNIFIED IDEOGRAPH-9053}) missing from current font.\n",
      "  fig.savefig(save_dir, dpi=250)\n",
      "D:\\code\\env\\anaconda\\envs\\mhy-yolo\\Lib\\site-packages\\ultralytics\\utils\\metrics.py:470: UserWarning: Glyph 20013 (\\N{CJK UNIFIED IDEOGRAPH-4E2D}) missing from current font.\n",
      "  fig.savefig(save_dir, dpi=250)\n",
      "D:\\code\\env\\anaconda\\envs\\mhy-yolo\\Lib\\site-packages\\ultralytics\\utils\\metrics.py:470: UserWarning: Glyph 21361 (\\N{CJK UNIFIED IDEOGRAPH-5371}) missing from current font.\n",
      "  fig.savefig(save_dir, dpi=250)\n",
      "D:\\code\\env\\anaconda\\envs\\mhy-yolo\\Lib\\site-packages\\ultralytics\\utils\\metrics.py:470: UserWarning: Glyph 26426 (\\N{CJK UNIFIED IDEOGRAPH-673A}) missing from current font.\n",
      "  fig.savefig(save_dir, dpi=250)\n",
      "D:\\code\\env\\anaconda\\envs\\mhy-yolo\\Lib\\site-packages\\ultralytics\\utils\\metrics.py:470: UserWarning: Glyph 32456 (\\N{CJK UNIFIED IDEOGRAPH-7EC8}) missing from current font.\n",
      "  fig.savefig(save_dir, dpi=250)\n",
      "D:\\code\\env\\anaconda\\envs\\mhy-yolo\\Lib\\site-packages\\ultralytics\\utils\\metrics.py:470: UserWarning: Glyph 32467 (\\N{CJK UNIFIED IDEOGRAPH-7ED3}) missing from current font.\n",
      "  fig.savefig(save_dir, dpi=250)\n",
      "D:\\code\\env\\anaconda\\envs\\mhy-yolo\\Lib\\site-packages\\ultralytics\\utils\\metrics.py:470: UserWarning: Glyph 24441 (\\N{CJK UNIFIED IDEOGRAPH-5F79}) missing from current font.\n",
      "  fig.savefig(save_dir, dpi=250)\n",
      "D:\\code\\env\\anaconda\\envs\\mhy-yolo\\Lib\\site-packages\\ultralytics\\utils\\metrics.py:495: UserWarning: Glyph 24863 (\\N{CJK UNIFIED IDEOGRAPH-611F}) missing from current font.\n",
      "  fig.savefig(save_dir, dpi=250)\n",
      "D:\\code\\env\\anaconda\\envs\\mhy-yolo\\Lib\\site-packages\\ultralytics\\utils\\metrics.py:495: UserWarning: Glyph 21497 (\\N{CJK UNIFIED IDEOGRAPH-53F9}) missing from current font.\n",
      "  fig.savefig(save_dir, dpi=250)\n",
      "D:\\code\\env\\anaconda\\envs\\mhy-yolo\\Lib\\site-packages\\ultralytics\\utils\\metrics.py:495: UserWarning: Glyph 21495 (\\N{CJK UNIFIED IDEOGRAPH-53F7}) missing from current font.\n",
      "  fig.savefig(save_dir, dpi=250)\n",
      "D:\\code\\env\\anaconda\\envs\\mhy-yolo\\Lib\\site-packages\\ultralytics\\utils\\metrics.py:495: UserWarning: Glyph 36317 (\\N{CJK UNIFIED IDEOGRAPH-8DDD}) missing from current font.\n",
      "  fig.savefig(save_dir, dpi=250)\n",
      "D:\\code\\env\\anaconda\\envs\\mhy-yolo\\Lib\\site-packages\\ultralytics\\utils\\metrics.py:495: UserWarning: Glyph 31163 (\\N{CJK UNIFIED IDEOGRAPH-79BB}) missing from current font.\n",
      "  fig.savefig(save_dir, dpi=250)\n",
      "D:\\code\\env\\anaconda\\envs\\mhy-yolo\\Lib\\site-packages\\ultralytics\\utils\\metrics.py:495: UserWarning: Glyph 25112 (\\N{CJK UNIFIED IDEOGRAPH-6218}) missing from current font.\n",
      "  fig.savefig(save_dir, dpi=250)\n",
      "D:\\code\\env\\anaconda\\envs\\mhy-yolo\\Lib\\site-packages\\ultralytics\\utils\\metrics.py:495: UserWarning: Glyph 26007 (\\N{CJK UNIFIED IDEOGRAPH-6597}) missing from current font.\n",
      "  fig.savefig(save_dir, dpi=250)\n",
      "D:\\code\\env\\anaconda\\envs\\mhy-yolo\\Lib\\site-packages\\ultralytics\\utils\\metrics.py:495: UserWarning: Glyph 40483 (\\N{CJK UNIFIED IDEOGRAPH-9E23}) missing from current font.\n",
      "  fig.savefig(save_dir, dpi=250)\n",
      "D:\\code\\env\\anaconda\\envs\\mhy-yolo\\Lib\\site-packages\\ultralytics\\utils\\metrics.py:495: UserWarning: Glyph 24509 (\\N{CJK UNIFIED IDEOGRAPH-5FBD}) missing from current font.\n",
      "  fig.savefig(save_dir, dpi=250)\n",
      "D:\\code\\env\\anaconda\\envs\\mhy-yolo\\Lib\\site-packages\\ultralytics\\utils\\metrics.py:495: UserWarning: Glyph 27494 (\\N{CJK UNIFIED IDEOGRAPH-6B66}) missing from current font.\n",
      "  fig.savefig(save_dir, dpi=250)\n",
      "D:\\code\\env\\anaconda\\envs\\mhy-yolo\\Lib\\site-packages\\ultralytics\\utils\\metrics.py:495: UserWarning: Glyph 22791 (\\N{CJK UNIFIED IDEOGRAPH-5907}) missing from current font.\n",
      "  fig.savefig(save_dir, dpi=250)\n",
      "D:\\code\\env\\anaconda\\envs\\mhy-yolo\\Lib\\site-packages\\ultralytics\\utils\\metrics.py:495: UserWarning: Glyph 30828 (\\N{CJK UNIFIED IDEOGRAPH-786C}) missing from current font.\n",
      "  fig.savefig(save_dir, dpi=250)\n",
      "D:\\code\\env\\anaconda\\envs\\mhy-yolo\\Lib\\site-packages\\ultralytics\\utils\\metrics.py:495: UserWarning: Glyph 24065 (\\N{CJK UNIFIED IDEOGRAPH-5E01}) missing from current font.\n",
      "  fig.savefig(save_dir, dpi=250)\n",
      "D:\\code\\env\\anaconda\\envs\\mhy-yolo\\Lib\\site-packages\\ultralytics\\utils\\metrics.py:495: UserWarning: Glyph 25361 (\\N{CJK UNIFIED IDEOGRAPH-6311}) missing from current font.\n",
      "  fig.savefig(save_dir, dpi=250)\n",
      "D:\\code\\env\\anaconda\\envs\\mhy-yolo\\Lib\\site-packages\\ultralytics\\utils\\metrics.py:495: UserWarning: Glyph 26080 (\\N{CJK UNIFIED IDEOGRAPH-65E0}) missing from current font.\n",
      "  fig.savefig(save_dir, dpi=250)\n",
      "D:\\code\\env\\anaconda\\envs\\mhy-yolo\\Lib\\site-packages\\ultralytics\\utils\\metrics.py:495: UserWarning: Glyph 20260 (\\N{CJK UNIFIED IDEOGRAPH-4F24}) missing from current font.\n",
      "  fig.savefig(save_dir, dpi=250)\n",
      "D:\\code\\env\\anaconda\\envs\\mhy-yolo\\Lib\\site-packages\\ultralytics\\utils\\metrics.py:495: UserWarning: Glyph 38480 (\\N{CJK UNIFIED IDEOGRAPH-9650}) missing from current font.\n",
      "  fig.savefig(save_dir, dpi=250)\n",
      "D:\\code\\env\\anaconda\\envs\\mhy-yolo\\Lib\\site-packages\\ultralytics\\utils\\metrics.py:495: UserWarning: Glyph 26102 (\\N{CJK UNIFIED IDEOGRAPH-65F6}) missing from current font.\n",
      "  fig.savefig(save_dir, dpi=250)\n",
      "D:\\code\\env\\anaconda\\envs\\mhy-yolo\\Lib\\site-packages\\ultralytics\\utils\\metrics.py:495: UserWarning: Glyph 20598 (\\N{CJK UNIFIED IDEOGRAPH-5076}) missing from current font.\n",
      "  fig.savefig(save_dir, dpi=250)\n",
      "D:\\code\\env\\anaconda\\envs\\mhy-yolo\\Lib\\site-packages\\ultralytics\\utils\\metrics.py:495: UserWarning: Glyph 36935 (\\N{CJK UNIFIED IDEOGRAPH-9047}) missing from current font.\n",
      "  fig.savefig(save_dir, dpi=250)\n",
      "D:\\code\\env\\anaconda\\envs\\mhy-yolo\\Lib\\site-packages\\ultralytics\\utils\\metrics.py:495: UserWarning: Glyph 20107 (\\N{CJK UNIFIED IDEOGRAPH-4E8B}) missing from current font.\n",
      "  fig.savefig(save_dir, dpi=250)\n",
      "D:\\code\\env\\anaconda\\envs\\mhy-yolo\\Lib\\site-packages\\ultralytics\\utils\\metrics.py:495: UserWarning: Glyph 20214 (\\N{CJK UNIFIED IDEOGRAPH-4EF6}) missing from current font.\n",
      "  fig.savefig(save_dir, dpi=250)\n",
      "D:\\code\\env\\anaconda\\envs\\mhy-yolo\\Lib\\site-packages\\ultralytics\\utils\\metrics.py:495: UserWarning: Glyph 20195 (\\N{CJK UNIFIED IDEOGRAPH-4EE3}) missing from current font.\n",
      "  fig.savefig(save_dir, dpi=250)\n",
      "D:\\code\\env\\anaconda\\envs\\mhy-yolo\\Lib\\site-packages\\ultralytics\\utils\\metrics.py:495: UserWarning: Glyph 20215 (\\N{CJK UNIFIED IDEOGRAPH-4EF7}) missing from current font.\n",
      "  fig.savefig(save_dir, dpi=250)\n",
      "D:\\code\\env\\anaconda\\envs\\mhy-yolo\\Lib\\site-packages\\ultralytics\\utils\\metrics.py:495: UserWarning: Glyph 20043 (\\N{CJK UNIFIED IDEOGRAPH-4E4B}) missing from current font.\n",
      "  fig.savefig(save_dir, dpi=250)\n",
      "D:\\code\\env\\anaconda\\envs\\mhy-yolo\\Lib\\site-packages\\ultralytics\\utils\\metrics.py:495: UserWarning: Glyph 38388 (\\N{CJK UNIFIED IDEOGRAPH-95F4}) missing from current font.\n",
      "  fig.savefig(save_dir, dpi=250)\n",
      "D:\\code\\env\\anaconda\\envs\\mhy-yolo\\Lib\\site-packages\\ultralytics\\utils\\metrics.py:495: UserWarning: Glyph 20241 (\\N{CJK UNIFIED IDEOGRAPH-4F11}) missing from current font.\n",
      "  fig.savefig(save_dir, dpi=250)\n",
      "D:\\code\\env\\anaconda\\envs\\mhy-yolo\\Lib\\site-packages\\ultralytics\\utils\\metrics.py:495: UserWarning: Glyph 25001 (\\N{CJK UNIFIED IDEOGRAPH-61A9}) missing from current font.\n",
      "  fig.savefig(save_dir, dpi=250)\n",
      "D:\\code\\env\\anaconda\\envs\\mhy-yolo\\Lib\\site-packages\\ultralytics\\utils\\metrics.py:495: UserWarning: Glyph 35843 (\\N{CJK UNIFIED IDEOGRAPH-8C03}) missing from current font.\n",
      "  fig.savefig(save_dir, dpi=250)\n",
      "D:\\code\\env\\anaconda\\envs\\mhy-yolo\\Lib\\site-packages\\ultralytics\\utils\\metrics.py:495: UserWarning: Glyph 24687 (\\N{CJK UNIFIED IDEOGRAPH-606F}) missing from current font.\n",
      "  fig.savefig(save_dir, dpi=250)\n",
      "D:\\code\\env\\anaconda\\envs\\mhy-yolo\\Lib\\site-packages\\ultralytics\\utils\\metrics.py:495: UserWarning: Glyph 37030 (\\N{CJK UNIFIED IDEOGRAPH-90A6}) missing from current font.\n",
      "  fig.savefig(save_dir, dpi=250)\n",
      "D:\\code\\env\\anaconda\\envs\\mhy-yolo\\Lib\\site-packages\\ultralytics\\utils\\metrics.py:495: UserWarning: Glyph 24067 (\\N{CJK UNIFIED IDEOGRAPH-5E03}) missing from current font.\n",
      "  fig.savefig(save_dir, dpi=250)\n",
      "D:\\code\\env\\anaconda\\envs\\mhy-yolo\\Lib\\site-packages\\ultralytics\\utils\\metrics.py:495: UserWarning: Glyph 21830 (\\N{CJK UNIFIED IDEOGRAPH-5546}) missing from current font.\n",
      "  fig.savefig(save_dir, dpi=250)\n",
      "D:\\code\\env\\anaconda\\envs\\mhy-yolo\\Lib\\site-packages\\ultralytics\\utils\\metrics.py:495: UserWarning: Glyph 24215 (\\N{CJK UNIFIED IDEOGRAPH-5E97}) missing from current font.\n",
      "  fig.savefig(save_dir, dpi=250)\n",
      "D:\\code\\env\\anaconda\\envs\\mhy-yolo\\Lib\\site-packages\\ultralytics\\utils\\metrics.py:495: UserWarning: Glyph 25370 (\\N{CJK UNIFIED IDEOGRAPH-631A}) missing from current font.\n",
      "  fig.savefig(save_dir, dpi=250)\n",
      "D:\\code\\env\\anaconda\\envs\\mhy-yolo\\Lib\\site-packages\\ultralytics\\utils\\metrics.py:495: UserWarning: Glyph 20132 (\\N{CJK UNIFIED IDEOGRAPH-4EA4}) missing from current font.\n",
      "  fig.savefig(save_dir, dpi=250)\n",
      "D:\\code\\env\\anaconda\\envs\\mhy-yolo\\Lib\\site-packages\\ultralytics\\utils\\metrics.py:495: UserWarning: Glyph 20250 (\\N{CJK UNIFIED IDEOGRAPH-4F1A}) missing from current font.\n",
      "  fig.savefig(save_dir, dpi=250)\n",
      "D:\\code\\env\\anaconda\\envs\\mhy-yolo\\Lib\\site-packages\\ultralytics\\utils\\metrics.py:495: UserWarning: Glyph 35848 (\\N{CJK UNIFIED IDEOGRAPH-8C08}) missing from current font.\n",
      "  fig.savefig(save_dir, dpi=250)\n",
      "D:\\code\\env\\anaconda\\envs\\mhy-yolo\\Lib\\site-packages\\ultralytics\\utils\\metrics.py:495: UserWarning: Glyph 36947 (\\N{CJK UNIFIED IDEOGRAPH-9053}) missing from current font.\n",
      "  fig.savefig(save_dir, dpi=250)\n",
      "D:\\code\\env\\anaconda\\envs\\mhy-yolo\\Lib\\site-packages\\ultralytics\\utils\\metrics.py:495: UserWarning: Glyph 20013 (\\N{CJK UNIFIED IDEOGRAPH-4E2D}) missing from current font.\n",
      "  fig.savefig(save_dir, dpi=250)\n",
      "D:\\code\\env\\anaconda\\envs\\mhy-yolo\\Lib\\site-packages\\ultralytics\\utils\\metrics.py:495: UserWarning: Glyph 21361 (\\N{CJK UNIFIED IDEOGRAPH-5371}) missing from current font.\n",
      "  fig.savefig(save_dir, dpi=250)\n",
      "D:\\code\\env\\anaconda\\envs\\mhy-yolo\\Lib\\site-packages\\ultralytics\\utils\\metrics.py:495: UserWarning: Glyph 26426 (\\N{CJK UNIFIED IDEOGRAPH-673A}) missing from current font.\n",
      "  fig.savefig(save_dir, dpi=250)\n",
      "D:\\code\\env\\anaconda\\envs\\mhy-yolo\\Lib\\site-packages\\ultralytics\\utils\\metrics.py:495: UserWarning: Glyph 32456 (\\N{CJK UNIFIED IDEOGRAPH-7EC8}) missing from current font.\n",
      "  fig.savefig(save_dir, dpi=250)\n",
      "D:\\code\\env\\anaconda\\envs\\mhy-yolo\\Lib\\site-packages\\ultralytics\\utils\\metrics.py:495: UserWarning: Glyph 32467 (\\N{CJK UNIFIED IDEOGRAPH-7ED3}) missing from current font.\n",
      "  fig.savefig(save_dir, dpi=250)\n",
      "D:\\code\\env\\anaconda\\envs\\mhy-yolo\\Lib\\site-packages\\ultralytics\\utils\\metrics.py:495: UserWarning: Glyph 24441 (\\N{CJK UNIFIED IDEOGRAPH-5F79}) missing from current font.\n",
      "  fig.savefig(save_dir, dpi=250)\n",
      "D:\\code\\env\\anaconda\\envs\\mhy-yolo\\Lib\\site-packages\\ultralytics\\utils\\metrics.py:495: UserWarning: Glyph 24863 (\\N{CJK UNIFIED IDEOGRAPH-611F}) missing from current font.\n",
      "  fig.savefig(save_dir, dpi=250)\n",
      "D:\\code\\env\\anaconda\\envs\\mhy-yolo\\Lib\\site-packages\\ultralytics\\utils\\metrics.py:495: UserWarning: Glyph 21497 (\\N{CJK UNIFIED IDEOGRAPH-53F9}) missing from current font.\n",
      "  fig.savefig(save_dir, dpi=250)\n",
      "D:\\code\\env\\anaconda\\envs\\mhy-yolo\\Lib\\site-packages\\ultralytics\\utils\\metrics.py:495: UserWarning: Glyph 21495 (\\N{CJK UNIFIED IDEOGRAPH-53F7}) missing from current font.\n",
      "  fig.savefig(save_dir, dpi=250)\n",
      "D:\\code\\env\\anaconda\\envs\\mhy-yolo\\Lib\\site-packages\\ultralytics\\utils\\metrics.py:495: UserWarning: Glyph 36317 (\\N{CJK UNIFIED IDEOGRAPH-8DDD}) missing from current font.\n",
      "  fig.savefig(save_dir, dpi=250)\n",
      "D:\\code\\env\\anaconda\\envs\\mhy-yolo\\Lib\\site-packages\\ultralytics\\utils\\metrics.py:495: UserWarning: Glyph 31163 (\\N{CJK UNIFIED IDEOGRAPH-79BB}) missing from current font.\n",
      "  fig.savefig(save_dir, dpi=250)\n",
      "D:\\code\\env\\anaconda\\envs\\mhy-yolo\\Lib\\site-packages\\ultralytics\\utils\\metrics.py:495: UserWarning: Glyph 25112 (\\N{CJK UNIFIED IDEOGRAPH-6218}) missing from current font.\n",
      "  fig.savefig(save_dir, dpi=250)\n",
      "D:\\code\\env\\anaconda\\envs\\mhy-yolo\\Lib\\site-packages\\ultralytics\\utils\\metrics.py:495: UserWarning: Glyph 26007 (\\N{CJK UNIFIED IDEOGRAPH-6597}) missing from current font.\n",
      "  fig.savefig(save_dir, dpi=250)\n",
      "D:\\code\\env\\anaconda\\envs\\mhy-yolo\\Lib\\site-packages\\ultralytics\\utils\\metrics.py:495: UserWarning: Glyph 40483 (\\N{CJK UNIFIED IDEOGRAPH-9E23}) missing from current font.\n",
      "  fig.savefig(save_dir, dpi=250)\n",
      "D:\\code\\env\\anaconda\\envs\\mhy-yolo\\Lib\\site-packages\\ultralytics\\utils\\metrics.py:495: UserWarning: Glyph 24509 (\\N{CJK UNIFIED IDEOGRAPH-5FBD}) missing from current font.\n",
      "  fig.savefig(save_dir, dpi=250)\n",
      "D:\\code\\env\\anaconda\\envs\\mhy-yolo\\Lib\\site-packages\\ultralytics\\utils\\metrics.py:495: UserWarning: Glyph 27494 (\\N{CJK UNIFIED IDEOGRAPH-6B66}) missing from current font.\n",
      "  fig.savefig(save_dir, dpi=250)\n",
      "D:\\code\\env\\anaconda\\envs\\mhy-yolo\\Lib\\site-packages\\ultralytics\\utils\\metrics.py:495: UserWarning: Glyph 22791 (\\N{CJK UNIFIED IDEOGRAPH-5907}) missing from current font.\n",
      "  fig.savefig(save_dir, dpi=250)\n",
      "D:\\code\\env\\anaconda\\envs\\mhy-yolo\\Lib\\site-packages\\ultralytics\\utils\\metrics.py:495: UserWarning: Glyph 30828 (\\N{CJK UNIFIED IDEOGRAPH-786C}) missing from current font.\n",
      "  fig.savefig(save_dir, dpi=250)\n",
      "D:\\code\\env\\anaconda\\envs\\mhy-yolo\\Lib\\site-packages\\ultralytics\\utils\\metrics.py:495: UserWarning: Glyph 24065 (\\N{CJK UNIFIED IDEOGRAPH-5E01}) missing from current font.\n",
      "  fig.savefig(save_dir, dpi=250)\n",
      "D:\\code\\env\\anaconda\\envs\\mhy-yolo\\Lib\\site-packages\\ultralytics\\utils\\metrics.py:495: UserWarning: Glyph 25361 (\\N{CJK UNIFIED IDEOGRAPH-6311}) missing from current font.\n",
      "  fig.savefig(save_dir, dpi=250)\n",
      "D:\\code\\env\\anaconda\\envs\\mhy-yolo\\Lib\\site-packages\\ultralytics\\utils\\metrics.py:495: UserWarning: Glyph 26080 (\\N{CJK UNIFIED IDEOGRAPH-65E0}) missing from current font.\n",
      "  fig.savefig(save_dir, dpi=250)\n",
      "D:\\code\\env\\anaconda\\envs\\mhy-yolo\\Lib\\site-packages\\ultralytics\\utils\\metrics.py:495: UserWarning: Glyph 20260 (\\N{CJK UNIFIED IDEOGRAPH-4F24}) missing from current font.\n",
      "  fig.savefig(save_dir, dpi=250)\n",
      "D:\\code\\env\\anaconda\\envs\\mhy-yolo\\Lib\\site-packages\\ultralytics\\utils\\metrics.py:495: UserWarning: Glyph 38480 (\\N{CJK UNIFIED IDEOGRAPH-9650}) missing from current font.\n",
      "  fig.savefig(save_dir, dpi=250)\n",
      "D:\\code\\env\\anaconda\\envs\\mhy-yolo\\Lib\\site-packages\\ultralytics\\utils\\metrics.py:495: UserWarning: Glyph 26102 (\\N{CJK UNIFIED IDEOGRAPH-65F6}) missing from current font.\n",
      "  fig.savefig(save_dir, dpi=250)\n",
      "D:\\code\\env\\anaconda\\envs\\mhy-yolo\\Lib\\site-packages\\ultralytics\\utils\\metrics.py:495: UserWarning: Glyph 20598 (\\N{CJK UNIFIED IDEOGRAPH-5076}) missing from current font.\n",
      "  fig.savefig(save_dir, dpi=250)\n",
      "D:\\code\\env\\anaconda\\envs\\mhy-yolo\\Lib\\site-packages\\ultralytics\\utils\\metrics.py:495: UserWarning: Glyph 36935 (\\N{CJK UNIFIED IDEOGRAPH-9047}) missing from current font.\n",
      "  fig.savefig(save_dir, dpi=250)\n",
      "D:\\code\\env\\anaconda\\envs\\mhy-yolo\\Lib\\site-packages\\ultralytics\\utils\\metrics.py:495: UserWarning: Glyph 20107 (\\N{CJK UNIFIED IDEOGRAPH-4E8B}) missing from current font.\n",
      "  fig.savefig(save_dir, dpi=250)\n",
      "D:\\code\\env\\anaconda\\envs\\mhy-yolo\\Lib\\site-packages\\ultralytics\\utils\\metrics.py:495: UserWarning: Glyph 20214 (\\N{CJK UNIFIED IDEOGRAPH-4EF6}) missing from current font.\n",
      "  fig.savefig(save_dir, dpi=250)\n",
      "D:\\code\\env\\anaconda\\envs\\mhy-yolo\\Lib\\site-packages\\ultralytics\\utils\\metrics.py:495: UserWarning: Glyph 20195 (\\N{CJK UNIFIED IDEOGRAPH-4EE3}) missing from current font.\n",
      "  fig.savefig(save_dir, dpi=250)\n",
      "D:\\code\\env\\anaconda\\envs\\mhy-yolo\\Lib\\site-packages\\ultralytics\\utils\\metrics.py:495: UserWarning: Glyph 20215 (\\N{CJK UNIFIED IDEOGRAPH-4EF7}) missing from current font.\n",
      "  fig.savefig(save_dir, dpi=250)\n",
      "D:\\code\\env\\anaconda\\envs\\mhy-yolo\\Lib\\site-packages\\ultralytics\\utils\\metrics.py:495: UserWarning: Glyph 20043 (\\N{CJK UNIFIED IDEOGRAPH-4E4B}) missing from current font.\n",
      "  fig.savefig(save_dir, dpi=250)\n",
      "D:\\code\\env\\anaconda\\envs\\mhy-yolo\\Lib\\site-packages\\ultralytics\\utils\\metrics.py:495: UserWarning: Glyph 38388 (\\N{CJK UNIFIED IDEOGRAPH-95F4}) missing from current font.\n",
      "  fig.savefig(save_dir, dpi=250)\n",
      "D:\\code\\env\\anaconda\\envs\\mhy-yolo\\Lib\\site-packages\\ultralytics\\utils\\metrics.py:495: UserWarning: Glyph 20241 (\\N{CJK UNIFIED IDEOGRAPH-4F11}) missing from current font.\n",
      "  fig.savefig(save_dir, dpi=250)\n",
      "D:\\code\\env\\anaconda\\envs\\mhy-yolo\\Lib\\site-packages\\ultralytics\\utils\\metrics.py:495: UserWarning: Glyph 25001 (\\N{CJK UNIFIED IDEOGRAPH-61A9}) missing from current font.\n",
      "  fig.savefig(save_dir, dpi=250)\n",
      "D:\\code\\env\\anaconda\\envs\\mhy-yolo\\Lib\\site-packages\\ultralytics\\utils\\metrics.py:495: UserWarning: Glyph 35843 (\\N{CJK UNIFIED IDEOGRAPH-8C03}) missing from current font.\n",
      "  fig.savefig(save_dir, dpi=250)\n",
      "D:\\code\\env\\anaconda\\envs\\mhy-yolo\\Lib\\site-packages\\ultralytics\\utils\\metrics.py:495: UserWarning: Glyph 24687 (\\N{CJK UNIFIED IDEOGRAPH-606F}) missing from current font.\n",
      "  fig.savefig(save_dir, dpi=250)\n",
      "D:\\code\\env\\anaconda\\envs\\mhy-yolo\\Lib\\site-packages\\ultralytics\\utils\\metrics.py:495: UserWarning: Glyph 37030 (\\N{CJK UNIFIED IDEOGRAPH-90A6}) missing from current font.\n",
      "  fig.savefig(save_dir, dpi=250)\n",
      "D:\\code\\env\\anaconda\\envs\\mhy-yolo\\Lib\\site-packages\\ultralytics\\utils\\metrics.py:495: UserWarning: Glyph 24067 (\\N{CJK UNIFIED IDEOGRAPH-5E03}) missing from current font.\n",
      "  fig.savefig(save_dir, dpi=250)\n",
      "D:\\code\\env\\anaconda\\envs\\mhy-yolo\\Lib\\site-packages\\ultralytics\\utils\\metrics.py:495: UserWarning: Glyph 21830 (\\N{CJK UNIFIED IDEOGRAPH-5546}) missing from current font.\n",
      "  fig.savefig(save_dir, dpi=250)\n",
      "D:\\code\\env\\anaconda\\envs\\mhy-yolo\\Lib\\site-packages\\ultralytics\\utils\\metrics.py:495: UserWarning: Glyph 24215 (\\N{CJK UNIFIED IDEOGRAPH-5E97}) missing from current font.\n",
      "  fig.savefig(save_dir, dpi=250)\n",
      "D:\\code\\env\\anaconda\\envs\\mhy-yolo\\Lib\\site-packages\\ultralytics\\utils\\metrics.py:495: UserWarning: Glyph 25370 (\\N{CJK UNIFIED IDEOGRAPH-631A}) missing from current font.\n",
      "  fig.savefig(save_dir, dpi=250)\n",
      "D:\\code\\env\\anaconda\\envs\\mhy-yolo\\Lib\\site-packages\\ultralytics\\utils\\metrics.py:495: UserWarning: Glyph 20132 (\\N{CJK UNIFIED IDEOGRAPH-4EA4}) missing from current font.\n",
      "  fig.savefig(save_dir, dpi=250)\n",
      "D:\\code\\env\\anaconda\\envs\\mhy-yolo\\Lib\\site-packages\\ultralytics\\utils\\metrics.py:495: UserWarning: Glyph 20250 (\\N{CJK UNIFIED IDEOGRAPH-4F1A}) missing from current font.\n",
      "  fig.savefig(save_dir, dpi=250)\n",
      "D:\\code\\env\\anaconda\\envs\\mhy-yolo\\Lib\\site-packages\\ultralytics\\utils\\metrics.py:495: UserWarning: Glyph 35848 (\\N{CJK UNIFIED IDEOGRAPH-8C08}) missing from current font.\n",
      "  fig.savefig(save_dir, dpi=250)\n",
      "D:\\code\\env\\anaconda\\envs\\mhy-yolo\\Lib\\site-packages\\ultralytics\\utils\\metrics.py:495: UserWarning: Glyph 36947 (\\N{CJK UNIFIED IDEOGRAPH-9053}) missing from current font.\n",
      "  fig.savefig(save_dir, dpi=250)\n",
      "D:\\code\\env\\anaconda\\envs\\mhy-yolo\\Lib\\site-packages\\ultralytics\\utils\\metrics.py:495: UserWarning: Glyph 20013 (\\N{CJK UNIFIED IDEOGRAPH-4E2D}) missing from current font.\n",
      "  fig.savefig(save_dir, dpi=250)\n",
      "D:\\code\\env\\anaconda\\envs\\mhy-yolo\\Lib\\site-packages\\ultralytics\\utils\\metrics.py:495: UserWarning: Glyph 21361 (\\N{CJK UNIFIED IDEOGRAPH-5371}) missing from current font.\n",
      "  fig.savefig(save_dir, dpi=250)\n",
      "D:\\code\\env\\anaconda\\envs\\mhy-yolo\\Lib\\site-packages\\ultralytics\\utils\\metrics.py:495: UserWarning: Glyph 26426 (\\N{CJK UNIFIED IDEOGRAPH-673A}) missing from current font.\n",
      "  fig.savefig(save_dir, dpi=250)\n",
      "D:\\code\\env\\anaconda\\envs\\mhy-yolo\\Lib\\site-packages\\ultralytics\\utils\\metrics.py:495: UserWarning: Glyph 32456 (\\N{CJK UNIFIED IDEOGRAPH-7EC8}) missing from current font.\n",
      "  fig.savefig(save_dir, dpi=250)\n",
      "D:\\code\\env\\anaconda\\envs\\mhy-yolo\\Lib\\site-packages\\ultralytics\\utils\\metrics.py:495: UserWarning: Glyph 32467 (\\N{CJK UNIFIED IDEOGRAPH-7ED3}) missing from current font.\n",
      "  fig.savefig(save_dir, dpi=250)\n",
      "D:\\code\\env\\anaconda\\envs\\mhy-yolo\\Lib\\site-packages\\ultralytics\\utils\\metrics.py:495: UserWarning: Glyph 24441 (\\N{CJK UNIFIED IDEOGRAPH-5F79}) missing from current font.\n",
      "  fig.savefig(save_dir, dpi=250)\n",
      "D:\\code\\env\\anaconda\\envs\\mhy-yolo\\Lib\\site-packages\\ultralytics\\utils\\metrics.py:495: UserWarning: Glyph 24863 (\\N{CJK UNIFIED IDEOGRAPH-611F}) missing from current font.\n",
      "  fig.savefig(save_dir, dpi=250)\n",
      "D:\\code\\env\\anaconda\\envs\\mhy-yolo\\Lib\\site-packages\\ultralytics\\utils\\metrics.py:495: UserWarning: Glyph 21497 (\\N{CJK UNIFIED IDEOGRAPH-53F9}) missing from current font.\n",
      "  fig.savefig(save_dir, dpi=250)\n",
      "D:\\code\\env\\anaconda\\envs\\mhy-yolo\\Lib\\site-packages\\ultralytics\\utils\\metrics.py:495: UserWarning: Glyph 21495 (\\N{CJK UNIFIED IDEOGRAPH-53F7}) missing from current font.\n",
      "  fig.savefig(save_dir, dpi=250)\n",
      "D:\\code\\env\\anaconda\\envs\\mhy-yolo\\Lib\\site-packages\\ultralytics\\utils\\metrics.py:495: UserWarning: Glyph 36317 (\\N{CJK UNIFIED IDEOGRAPH-8DDD}) missing from current font.\n",
      "  fig.savefig(save_dir, dpi=250)\n",
      "D:\\code\\env\\anaconda\\envs\\mhy-yolo\\Lib\\site-packages\\ultralytics\\utils\\metrics.py:495: UserWarning: Glyph 31163 (\\N{CJK UNIFIED IDEOGRAPH-79BB}) missing from current font.\n",
      "  fig.savefig(save_dir, dpi=250)\n",
      "D:\\code\\env\\anaconda\\envs\\mhy-yolo\\Lib\\site-packages\\ultralytics\\utils\\metrics.py:495: UserWarning: Glyph 25112 (\\N{CJK UNIFIED IDEOGRAPH-6218}) missing from current font.\n",
      "  fig.savefig(save_dir, dpi=250)\n",
      "D:\\code\\env\\anaconda\\envs\\mhy-yolo\\Lib\\site-packages\\ultralytics\\utils\\metrics.py:495: UserWarning: Glyph 26007 (\\N{CJK UNIFIED IDEOGRAPH-6597}) missing from current font.\n",
      "  fig.savefig(save_dir, dpi=250)\n",
      "D:\\code\\env\\anaconda\\envs\\mhy-yolo\\Lib\\site-packages\\ultralytics\\utils\\metrics.py:495: UserWarning: Glyph 40483 (\\N{CJK UNIFIED IDEOGRAPH-9E23}) missing from current font.\n",
      "  fig.savefig(save_dir, dpi=250)\n",
      "D:\\code\\env\\anaconda\\envs\\mhy-yolo\\Lib\\site-packages\\ultralytics\\utils\\metrics.py:495: UserWarning: Glyph 24509 (\\N{CJK UNIFIED IDEOGRAPH-5FBD}) missing from current font.\n",
      "  fig.savefig(save_dir, dpi=250)\n",
      "D:\\code\\env\\anaconda\\envs\\mhy-yolo\\Lib\\site-packages\\ultralytics\\utils\\metrics.py:495: UserWarning: Glyph 27494 (\\N{CJK UNIFIED IDEOGRAPH-6B66}) missing from current font.\n",
      "  fig.savefig(save_dir, dpi=250)\n",
      "D:\\code\\env\\anaconda\\envs\\mhy-yolo\\Lib\\site-packages\\ultralytics\\utils\\metrics.py:495: UserWarning: Glyph 22791 (\\N{CJK UNIFIED IDEOGRAPH-5907}) missing from current font.\n",
      "  fig.savefig(save_dir, dpi=250)\n",
      "D:\\code\\env\\anaconda\\envs\\mhy-yolo\\Lib\\site-packages\\ultralytics\\utils\\metrics.py:495: UserWarning: Glyph 30828 (\\N{CJK UNIFIED IDEOGRAPH-786C}) missing from current font.\n",
      "  fig.savefig(save_dir, dpi=250)\n",
      "D:\\code\\env\\anaconda\\envs\\mhy-yolo\\Lib\\site-packages\\ultralytics\\utils\\metrics.py:495: UserWarning: Glyph 24065 (\\N{CJK UNIFIED IDEOGRAPH-5E01}) missing from current font.\n",
      "  fig.savefig(save_dir, dpi=250)\n",
      "D:\\code\\env\\anaconda\\envs\\mhy-yolo\\Lib\\site-packages\\ultralytics\\utils\\metrics.py:495: UserWarning: Glyph 25361 (\\N{CJK UNIFIED IDEOGRAPH-6311}) missing from current font.\n",
      "  fig.savefig(save_dir, dpi=250)\n",
      "D:\\code\\env\\anaconda\\envs\\mhy-yolo\\Lib\\site-packages\\ultralytics\\utils\\metrics.py:495: UserWarning: Glyph 26080 (\\N{CJK UNIFIED IDEOGRAPH-65E0}) missing from current font.\n",
      "  fig.savefig(save_dir, dpi=250)\n",
      "D:\\code\\env\\anaconda\\envs\\mhy-yolo\\Lib\\site-packages\\ultralytics\\utils\\metrics.py:495: UserWarning: Glyph 20260 (\\N{CJK UNIFIED IDEOGRAPH-4F24}) missing from current font.\n",
      "  fig.savefig(save_dir, dpi=250)\n",
      "D:\\code\\env\\anaconda\\envs\\mhy-yolo\\Lib\\site-packages\\ultralytics\\utils\\metrics.py:495: UserWarning: Glyph 38480 (\\N{CJK UNIFIED IDEOGRAPH-9650}) missing from current font.\n",
      "  fig.savefig(save_dir, dpi=250)\n",
      "D:\\code\\env\\anaconda\\envs\\mhy-yolo\\Lib\\site-packages\\ultralytics\\utils\\metrics.py:495: UserWarning: Glyph 26102 (\\N{CJK UNIFIED IDEOGRAPH-65F6}) missing from current font.\n",
      "  fig.savefig(save_dir, dpi=250)\n",
      "D:\\code\\env\\anaconda\\envs\\mhy-yolo\\Lib\\site-packages\\ultralytics\\utils\\metrics.py:495: UserWarning: Glyph 20598 (\\N{CJK UNIFIED IDEOGRAPH-5076}) missing from current font.\n",
      "  fig.savefig(save_dir, dpi=250)\n",
      "D:\\code\\env\\anaconda\\envs\\mhy-yolo\\Lib\\site-packages\\ultralytics\\utils\\metrics.py:495: UserWarning: Glyph 36935 (\\N{CJK UNIFIED IDEOGRAPH-9047}) missing from current font.\n",
      "  fig.savefig(save_dir, dpi=250)\n",
      "D:\\code\\env\\anaconda\\envs\\mhy-yolo\\Lib\\site-packages\\ultralytics\\utils\\metrics.py:495: UserWarning: Glyph 20107 (\\N{CJK UNIFIED IDEOGRAPH-4E8B}) missing from current font.\n",
      "  fig.savefig(save_dir, dpi=250)\n",
      "D:\\code\\env\\anaconda\\envs\\mhy-yolo\\Lib\\site-packages\\ultralytics\\utils\\metrics.py:495: UserWarning: Glyph 20214 (\\N{CJK UNIFIED IDEOGRAPH-4EF6}) missing from current font.\n",
      "  fig.savefig(save_dir, dpi=250)\n",
      "D:\\code\\env\\anaconda\\envs\\mhy-yolo\\Lib\\site-packages\\ultralytics\\utils\\metrics.py:495: UserWarning: Glyph 20195 (\\N{CJK UNIFIED IDEOGRAPH-4EE3}) missing from current font.\n",
      "  fig.savefig(save_dir, dpi=250)\n",
      "D:\\code\\env\\anaconda\\envs\\mhy-yolo\\Lib\\site-packages\\ultralytics\\utils\\metrics.py:495: UserWarning: Glyph 20215 (\\N{CJK UNIFIED IDEOGRAPH-4EF7}) missing from current font.\n",
      "  fig.savefig(save_dir, dpi=250)\n",
      "D:\\code\\env\\anaconda\\envs\\mhy-yolo\\Lib\\site-packages\\ultralytics\\utils\\metrics.py:495: UserWarning: Glyph 20043 (\\N{CJK UNIFIED IDEOGRAPH-4E4B}) missing from current font.\n",
      "  fig.savefig(save_dir, dpi=250)\n",
      "D:\\code\\env\\anaconda\\envs\\mhy-yolo\\Lib\\site-packages\\ultralytics\\utils\\metrics.py:495: UserWarning: Glyph 38388 (\\N{CJK UNIFIED IDEOGRAPH-95F4}) missing from current font.\n",
      "  fig.savefig(save_dir, dpi=250)\n",
      "D:\\code\\env\\anaconda\\envs\\mhy-yolo\\Lib\\site-packages\\ultralytics\\utils\\metrics.py:495: UserWarning: Glyph 20241 (\\N{CJK UNIFIED IDEOGRAPH-4F11}) missing from current font.\n",
      "  fig.savefig(save_dir, dpi=250)\n",
      "D:\\code\\env\\anaconda\\envs\\mhy-yolo\\Lib\\site-packages\\ultralytics\\utils\\metrics.py:495: UserWarning: Glyph 25001 (\\N{CJK UNIFIED IDEOGRAPH-61A9}) missing from current font.\n",
      "  fig.savefig(save_dir, dpi=250)\n",
      "D:\\code\\env\\anaconda\\envs\\mhy-yolo\\Lib\\site-packages\\ultralytics\\utils\\metrics.py:495: UserWarning: Glyph 35843 (\\N{CJK UNIFIED IDEOGRAPH-8C03}) missing from current font.\n",
      "  fig.savefig(save_dir, dpi=250)\n",
      "D:\\code\\env\\anaconda\\envs\\mhy-yolo\\Lib\\site-packages\\ultralytics\\utils\\metrics.py:495: UserWarning: Glyph 24687 (\\N{CJK UNIFIED IDEOGRAPH-606F}) missing from current font.\n",
      "  fig.savefig(save_dir, dpi=250)\n",
      "D:\\code\\env\\anaconda\\envs\\mhy-yolo\\Lib\\site-packages\\ultralytics\\utils\\metrics.py:495: UserWarning: Glyph 37030 (\\N{CJK UNIFIED IDEOGRAPH-90A6}) missing from current font.\n",
      "  fig.savefig(save_dir, dpi=250)\n",
      "D:\\code\\env\\anaconda\\envs\\mhy-yolo\\Lib\\site-packages\\ultralytics\\utils\\metrics.py:495: UserWarning: Glyph 24067 (\\N{CJK UNIFIED IDEOGRAPH-5E03}) missing from current font.\n",
      "  fig.savefig(save_dir, dpi=250)\n",
      "D:\\code\\env\\anaconda\\envs\\mhy-yolo\\Lib\\site-packages\\ultralytics\\utils\\metrics.py:495: UserWarning: Glyph 21830 (\\N{CJK UNIFIED IDEOGRAPH-5546}) missing from current font.\n",
      "  fig.savefig(save_dir, dpi=250)\n",
      "D:\\code\\env\\anaconda\\envs\\mhy-yolo\\Lib\\site-packages\\ultralytics\\utils\\metrics.py:495: UserWarning: Glyph 24215 (\\N{CJK UNIFIED IDEOGRAPH-5E97}) missing from current font.\n",
      "  fig.savefig(save_dir, dpi=250)\n",
      "D:\\code\\env\\anaconda\\envs\\mhy-yolo\\Lib\\site-packages\\ultralytics\\utils\\metrics.py:495: UserWarning: Glyph 25370 (\\N{CJK UNIFIED IDEOGRAPH-631A}) missing from current font.\n",
      "  fig.savefig(save_dir, dpi=250)\n",
      "D:\\code\\env\\anaconda\\envs\\mhy-yolo\\Lib\\site-packages\\ultralytics\\utils\\metrics.py:495: UserWarning: Glyph 20132 (\\N{CJK UNIFIED IDEOGRAPH-4EA4}) missing from current font.\n",
      "  fig.savefig(save_dir, dpi=250)\n",
      "D:\\code\\env\\anaconda\\envs\\mhy-yolo\\Lib\\site-packages\\ultralytics\\utils\\metrics.py:495: UserWarning: Glyph 20250 (\\N{CJK UNIFIED IDEOGRAPH-4F1A}) missing from current font.\n",
      "  fig.savefig(save_dir, dpi=250)\n",
      "D:\\code\\env\\anaconda\\envs\\mhy-yolo\\Lib\\site-packages\\ultralytics\\utils\\metrics.py:495: UserWarning: Glyph 35848 (\\N{CJK UNIFIED IDEOGRAPH-8C08}) missing from current font.\n",
      "  fig.savefig(save_dir, dpi=250)\n",
      "D:\\code\\env\\anaconda\\envs\\mhy-yolo\\Lib\\site-packages\\ultralytics\\utils\\metrics.py:495: UserWarning: Glyph 36947 (\\N{CJK UNIFIED IDEOGRAPH-9053}) missing from current font.\n",
      "  fig.savefig(save_dir, dpi=250)\n",
      "D:\\code\\env\\anaconda\\envs\\mhy-yolo\\Lib\\site-packages\\ultralytics\\utils\\metrics.py:495: UserWarning: Glyph 20013 (\\N{CJK UNIFIED IDEOGRAPH-4E2D}) missing from current font.\n",
      "  fig.savefig(save_dir, dpi=250)\n",
      "D:\\code\\env\\anaconda\\envs\\mhy-yolo\\Lib\\site-packages\\ultralytics\\utils\\metrics.py:495: UserWarning: Glyph 21361 (\\N{CJK UNIFIED IDEOGRAPH-5371}) missing from current font.\n",
      "  fig.savefig(save_dir, dpi=250)\n",
      "D:\\code\\env\\anaconda\\envs\\mhy-yolo\\Lib\\site-packages\\ultralytics\\utils\\metrics.py:495: UserWarning: Glyph 26426 (\\N{CJK UNIFIED IDEOGRAPH-673A}) missing from current font.\n",
      "  fig.savefig(save_dir, dpi=250)\n",
      "D:\\code\\env\\anaconda\\envs\\mhy-yolo\\Lib\\site-packages\\ultralytics\\utils\\metrics.py:495: UserWarning: Glyph 32456 (\\N{CJK UNIFIED IDEOGRAPH-7EC8}) missing from current font.\n",
      "  fig.savefig(save_dir, dpi=250)\n",
      "D:\\code\\env\\anaconda\\envs\\mhy-yolo\\Lib\\site-packages\\ultralytics\\utils\\metrics.py:495: UserWarning: Glyph 32467 (\\N{CJK UNIFIED IDEOGRAPH-7ED3}) missing from current font.\n",
      "  fig.savefig(save_dir, dpi=250)\n",
      "D:\\code\\env\\anaconda\\envs\\mhy-yolo\\Lib\\site-packages\\ultralytics\\utils\\metrics.py:495: UserWarning: Glyph 24441 (\\N{CJK UNIFIED IDEOGRAPH-5F79}) missing from current font.\n",
      "  fig.savefig(save_dir, dpi=250)\n"
     ]
    },
    {
     "name": "stdout",
     "output_type": "stream",
     "text": [
      "                   all        546       1771      0.999          1      0.995      0.995\n",
      "              0000-        195        261          1          1      0.995      0.995\n",
      "               0001-        147        151          1          1      0.995      0.994\n",
      "            0002--        202        258          1          1      0.995      0.995\n",
      "            0003--        135        142      0.999          1      0.995      0.995\n",
      "            0004--         96        109      0.999          1      0.995      0.995\n",
      "            0005--         75         80      0.999          1      0.995      0.995\n",
      "            0006--         71         74      0.999          1      0.995      0.995\n",
      "             0007-        118        136          1          1      0.995      0.995\n",
      "             0008-         83        105      0.999          1      0.995      0.995\n",
      "             0009-         62         67      0.999          1      0.995      0.994\n",
      "             0010-         95        103      0.999          1      0.995      0.995\n",
      "             0011-         77         83      0.999          1      0.995      0.995\n",
      "          0012--         93         97      0.999          1      0.995      0.995\n",
      "          0013--        100        105      0.999          1      0.995      0.995\n"
     ]
    },
    {
     "name": "stderr",
     "output_type": "stream",
     "text": [
      "D:\\code\\env\\anaconda\\envs\\mhy-yolo\\Lib\\site-packages\\ultralytics\\utils\\metrics.py:432: UserWarning: Glyph 24863 (\\N{CJK UNIFIED IDEOGRAPH-611F}) missing from current font.\n",
      "  fig.savefig(plot_fname, dpi=250)\n",
      "D:\\code\\env\\anaconda\\envs\\mhy-yolo\\Lib\\site-packages\\ultralytics\\utils\\metrics.py:432: UserWarning: Glyph 21497 (\\N{CJK UNIFIED IDEOGRAPH-53F9}) missing from current font.\n",
      "  fig.savefig(plot_fname, dpi=250)\n",
      "D:\\code\\env\\anaconda\\envs\\mhy-yolo\\Lib\\site-packages\\ultralytics\\utils\\metrics.py:432: UserWarning: Glyph 21495 (\\N{CJK UNIFIED IDEOGRAPH-53F7}) missing from current font.\n",
      "  fig.savefig(plot_fname, dpi=250)\n",
      "D:\\code\\env\\anaconda\\envs\\mhy-yolo\\Lib\\site-packages\\ultralytics\\utils\\metrics.py:432: UserWarning: Glyph 36317 (\\N{CJK UNIFIED IDEOGRAPH-8DDD}) missing from current font.\n",
      "  fig.savefig(plot_fname, dpi=250)\n",
      "D:\\code\\env\\anaconda\\envs\\mhy-yolo\\Lib\\site-packages\\ultralytics\\utils\\metrics.py:432: UserWarning: Glyph 31163 (\\N{CJK UNIFIED IDEOGRAPH-79BB}) missing from current font.\n",
      "  fig.savefig(plot_fname, dpi=250)\n",
      "D:\\code\\env\\anaconda\\envs\\mhy-yolo\\Lib\\site-packages\\ultralytics\\utils\\metrics.py:432: UserWarning: Glyph 25112 (\\N{CJK UNIFIED IDEOGRAPH-6218}) missing from current font.\n",
      "  fig.savefig(plot_fname, dpi=250)\n",
      "D:\\code\\env\\anaconda\\envs\\mhy-yolo\\Lib\\site-packages\\ultralytics\\utils\\metrics.py:432: UserWarning: Glyph 26007 (\\N{CJK UNIFIED IDEOGRAPH-6597}) missing from current font.\n",
      "  fig.savefig(plot_fname, dpi=250)\n",
      "D:\\code\\env\\anaconda\\envs\\mhy-yolo\\Lib\\site-packages\\ultralytics\\utils\\metrics.py:432: UserWarning: Glyph 40483 (\\N{CJK UNIFIED IDEOGRAPH-9E23}) missing from current font.\n",
      "  fig.savefig(plot_fname, dpi=250)\n",
      "D:\\code\\env\\anaconda\\envs\\mhy-yolo\\Lib\\site-packages\\ultralytics\\utils\\metrics.py:432: UserWarning: Glyph 24509 (\\N{CJK UNIFIED IDEOGRAPH-5FBD}) missing from current font.\n",
      "  fig.savefig(plot_fname, dpi=250)\n",
      "D:\\code\\env\\anaconda\\envs\\mhy-yolo\\Lib\\site-packages\\ultralytics\\utils\\metrics.py:432: UserWarning: Glyph 27494 (\\N{CJK UNIFIED IDEOGRAPH-6B66}) missing from current font.\n",
      "  fig.savefig(plot_fname, dpi=250)\n",
      "D:\\code\\env\\anaconda\\envs\\mhy-yolo\\Lib\\site-packages\\ultralytics\\utils\\metrics.py:432: UserWarning: Glyph 22791 (\\N{CJK UNIFIED IDEOGRAPH-5907}) missing from current font.\n",
      "  fig.savefig(plot_fname, dpi=250)\n",
      "D:\\code\\env\\anaconda\\envs\\mhy-yolo\\Lib\\site-packages\\ultralytics\\utils\\metrics.py:432: UserWarning: Glyph 30828 (\\N{CJK UNIFIED IDEOGRAPH-786C}) missing from current font.\n",
      "  fig.savefig(plot_fname, dpi=250)\n",
      "D:\\code\\env\\anaconda\\envs\\mhy-yolo\\Lib\\site-packages\\ultralytics\\utils\\metrics.py:432: UserWarning: Glyph 24065 (\\N{CJK UNIFIED IDEOGRAPH-5E01}) missing from current font.\n",
      "  fig.savefig(plot_fname, dpi=250)\n",
      "D:\\code\\env\\anaconda\\envs\\mhy-yolo\\Lib\\site-packages\\ultralytics\\utils\\metrics.py:432: UserWarning: Glyph 25361 (\\N{CJK UNIFIED IDEOGRAPH-6311}) missing from current font.\n",
      "  fig.savefig(plot_fname, dpi=250)\n",
      "D:\\code\\env\\anaconda\\envs\\mhy-yolo\\Lib\\site-packages\\ultralytics\\utils\\metrics.py:432: UserWarning: Glyph 26080 (\\N{CJK UNIFIED IDEOGRAPH-65E0}) missing from current font.\n",
      "  fig.savefig(plot_fname, dpi=250)\n",
      "D:\\code\\env\\anaconda\\envs\\mhy-yolo\\Lib\\site-packages\\ultralytics\\utils\\metrics.py:432: UserWarning: Glyph 20260 (\\N{CJK UNIFIED IDEOGRAPH-4F24}) missing from current font.\n",
      "  fig.savefig(plot_fname, dpi=250)\n",
      "D:\\code\\env\\anaconda\\envs\\mhy-yolo\\Lib\\site-packages\\ultralytics\\utils\\metrics.py:432: UserWarning: Glyph 38480 (\\N{CJK UNIFIED IDEOGRAPH-9650}) missing from current font.\n",
      "  fig.savefig(plot_fname, dpi=250)\n",
      "D:\\code\\env\\anaconda\\envs\\mhy-yolo\\Lib\\site-packages\\ultralytics\\utils\\metrics.py:432: UserWarning: Glyph 26102 (\\N{CJK UNIFIED IDEOGRAPH-65F6}) missing from current font.\n",
      "  fig.savefig(plot_fname, dpi=250)\n",
      "D:\\code\\env\\anaconda\\envs\\mhy-yolo\\Lib\\site-packages\\ultralytics\\utils\\metrics.py:432: UserWarning: Glyph 20598 (\\N{CJK UNIFIED IDEOGRAPH-5076}) missing from current font.\n",
      "  fig.savefig(plot_fname, dpi=250)\n",
      "D:\\code\\env\\anaconda\\envs\\mhy-yolo\\Lib\\site-packages\\ultralytics\\utils\\metrics.py:432: UserWarning: Glyph 36935 (\\N{CJK UNIFIED IDEOGRAPH-9047}) missing from current font.\n",
      "  fig.savefig(plot_fname, dpi=250)\n",
      "D:\\code\\env\\anaconda\\envs\\mhy-yolo\\Lib\\site-packages\\ultralytics\\utils\\metrics.py:432: UserWarning: Glyph 20107 (\\N{CJK UNIFIED IDEOGRAPH-4E8B}) missing from current font.\n",
      "  fig.savefig(plot_fname, dpi=250)\n",
      "D:\\code\\env\\anaconda\\envs\\mhy-yolo\\Lib\\site-packages\\ultralytics\\utils\\metrics.py:432: UserWarning: Glyph 20214 (\\N{CJK UNIFIED IDEOGRAPH-4EF6}) missing from current font.\n",
      "  fig.savefig(plot_fname, dpi=250)\n",
      "D:\\code\\env\\anaconda\\envs\\mhy-yolo\\Lib\\site-packages\\ultralytics\\utils\\metrics.py:432: UserWarning: Glyph 20195 (\\N{CJK UNIFIED IDEOGRAPH-4EE3}) missing from current font.\n",
      "  fig.savefig(plot_fname, dpi=250)\n",
      "D:\\code\\env\\anaconda\\envs\\mhy-yolo\\Lib\\site-packages\\ultralytics\\utils\\metrics.py:432: UserWarning: Glyph 20215 (\\N{CJK UNIFIED IDEOGRAPH-4EF7}) missing from current font.\n",
      "  fig.savefig(plot_fname, dpi=250)\n",
      "D:\\code\\env\\anaconda\\envs\\mhy-yolo\\Lib\\site-packages\\ultralytics\\utils\\metrics.py:432: UserWarning: Glyph 20043 (\\N{CJK UNIFIED IDEOGRAPH-4E4B}) missing from current font.\n",
      "  fig.savefig(plot_fname, dpi=250)\n",
      "D:\\code\\env\\anaconda\\envs\\mhy-yolo\\Lib\\site-packages\\ultralytics\\utils\\metrics.py:432: UserWarning: Glyph 38388 (\\N{CJK UNIFIED IDEOGRAPH-95F4}) missing from current font.\n",
      "  fig.savefig(plot_fname, dpi=250)\n",
      "D:\\code\\env\\anaconda\\envs\\mhy-yolo\\Lib\\site-packages\\ultralytics\\utils\\metrics.py:432: UserWarning: Glyph 20241 (\\N{CJK UNIFIED IDEOGRAPH-4F11}) missing from current font.\n",
      "  fig.savefig(plot_fname, dpi=250)\n",
      "D:\\code\\env\\anaconda\\envs\\mhy-yolo\\Lib\\site-packages\\ultralytics\\utils\\metrics.py:432: UserWarning: Glyph 25001 (\\N{CJK UNIFIED IDEOGRAPH-61A9}) missing from current font.\n",
      "  fig.savefig(plot_fname, dpi=250)\n",
      "D:\\code\\env\\anaconda\\envs\\mhy-yolo\\Lib\\site-packages\\ultralytics\\utils\\metrics.py:432: UserWarning: Glyph 35843 (\\N{CJK UNIFIED IDEOGRAPH-8C03}) missing from current font.\n",
      "  fig.savefig(plot_fname, dpi=250)\n",
      "D:\\code\\env\\anaconda\\envs\\mhy-yolo\\Lib\\site-packages\\ultralytics\\utils\\metrics.py:432: UserWarning: Glyph 24687 (\\N{CJK UNIFIED IDEOGRAPH-606F}) missing from current font.\n",
      "  fig.savefig(plot_fname, dpi=250)\n",
      "D:\\code\\env\\anaconda\\envs\\mhy-yolo\\Lib\\site-packages\\ultralytics\\utils\\metrics.py:432: UserWarning: Glyph 37030 (\\N{CJK UNIFIED IDEOGRAPH-90A6}) missing from current font.\n",
      "  fig.savefig(plot_fname, dpi=250)\n",
      "D:\\code\\env\\anaconda\\envs\\mhy-yolo\\Lib\\site-packages\\ultralytics\\utils\\metrics.py:432: UserWarning: Glyph 24067 (\\N{CJK UNIFIED IDEOGRAPH-5E03}) missing from current font.\n",
      "  fig.savefig(plot_fname, dpi=250)\n",
      "D:\\code\\env\\anaconda\\envs\\mhy-yolo\\Lib\\site-packages\\ultralytics\\utils\\metrics.py:432: UserWarning: Glyph 21830 (\\N{CJK UNIFIED IDEOGRAPH-5546}) missing from current font.\n",
      "  fig.savefig(plot_fname, dpi=250)\n",
      "D:\\code\\env\\anaconda\\envs\\mhy-yolo\\Lib\\site-packages\\ultralytics\\utils\\metrics.py:432: UserWarning: Glyph 24215 (\\N{CJK UNIFIED IDEOGRAPH-5E97}) missing from current font.\n",
      "  fig.savefig(plot_fname, dpi=250)\n",
      "D:\\code\\env\\anaconda\\envs\\mhy-yolo\\Lib\\site-packages\\ultralytics\\utils\\metrics.py:432: UserWarning: Glyph 25370 (\\N{CJK UNIFIED IDEOGRAPH-631A}) missing from current font.\n",
      "  fig.savefig(plot_fname, dpi=250)\n",
      "D:\\code\\env\\anaconda\\envs\\mhy-yolo\\Lib\\site-packages\\ultralytics\\utils\\metrics.py:432: UserWarning: Glyph 20132 (\\N{CJK UNIFIED IDEOGRAPH-4EA4}) missing from current font.\n",
      "  fig.savefig(plot_fname, dpi=250)\n",
      "D:\\code\\env\\anaconda\\envs\\mhy-yolo\\Lib\\site-packages\\ultralytics\\utils\\metrics.py:432: UserWarning: Glyph 20250 (\\N{CJK UNIFIED IDEOGRAPH-4F1A}) missing from current font.\n",
      "  fig.savefig(plot_fname, dpi=250)\n",
      "D:\\code\\env\\anaconda\\envs\\mhy-yolo\\Lib\\site-packages\\ultralytics\\utils\\metrics.py:432: UserWarning: Glyph 35848 (\\N{CJK UNIFIED IDEOGRAPH-8C08}) missing from current font.\n",
      "  fig.savefig(plot_fname, dpi=250)\n",
      "D:\\code\\env\\anaconda\\envs\\mhy-yolo\\Lib\\site-packages\\ultralytics\\utils\\metrics.py:432: UserWarning: Glyph 36947 (\\N{CJK UNIFIED IDEOGRAPH-9053}) missing from current font.\n",
      "  fig.savefig(plot_fname, dpi=250)\n",
      "D:\\code\\env\\anaconda\\envs\\mhy-yolo\\Lib\\site-packages\\ultralytics\\utils\\metrics.py:432: UserWarning: Glyph 20013 (\\N{CJK UNIFIED IDEOGRAPH-4E2D}) missing from current font.\n",
      "  fig.savefig(plot_fname, dpi=250)\n",
      "D:\\code\\env\\anaconda\\envs\\mhy-yolo\\Lib\\site-packages\\ultralytics\\utils\\metrics.py:432: UserWarning: Glyph 21361 (\\N{CJK UNIFIED IDEOGRAPH-5371}) missing from current font.\n",
      "  fig.savefig(plot_fname, dpi=250)\n",
      "D:\\code\\env\\anaconda\\envs\\mhy-yolo\\Lib\\site-packages\\ultralytics\\utils\\metrics.py:432: UserWarning: Glyph 26426 (\\N{CJK UNIFIED IDEOGRAPH-673A}) missing from current font.\n",
      "  fig.savefig(plot_fname, dpi=250)\n",
      "D:\\code\\env\\anaconda\\envs\\mhy-yolo\\Lib\\site-packages\\ultralytics\\utils\\metrics.py:432: UserWarning: Glyph 32456 (\\N{CJK UNIFIED IDEOGRAPH-7EC8}) missing from current font.\n",
      "  fig.savefig(plot_fname, dpi=250)\n",
      "D:\\code\\env\\anaconda\\envs\\mhy-yolo\\Lib\\site-packages\\ultralytics\\utils\\metrics.py:432: UserWarning: Glyph 32467 (\\N{CJK UNIFIED IDEOGRAPH-7ED3}) missing from current font.\n",
      "  fig.savefig(plot_fname, dpi=250)\n",
      "D:\\code\\env\\anaconda\\envs\\mhy-yolo\\Lib\\site-packages\\ultralytics\\utils\\metrics.py:432: UserWarning: Glyph 24441 (\\N{CJK UNIFIED IDEOGRAPH-5F79}) missing from current font.\n",
      "  fig.savefig(plot_fname, dpi=250)\n",
      "D:\\code\\env\\anaconda\\envs\\mhy-yolo\\Lib\\site-packages\\ultralytics\\utils\\metrics.py:432: UserWarning: Glyph 24863 (\\N{CJK UNIFIED IDEOGRAPH-611F}) missing from current font.\n",
      "  fig.savefig(plot_fname, dpi=250)\n",
      "D:\\code\\env\\anaconda\\envs\\mhy-yolo\\Lib\\site-packages\\ultralytics\\utils\\metrics.py:432: UserWarning: Glyph 21497 (\\N{CJK UNIFIED IDEOGRAPH-53F9}) missing from current font.\n",
      "  fig.savefig(plot_fname, dpi=250)\n",
      "D:\\code\\env\\anaconda\\envs\\mhy-yolo\\Lib\\site-packages\\ultralytics\\utils\\metrics.py:432: UserWarning: Glyph 21495 (\\N{CJK UNIFIED IDEOGRAPH-53F7}) missing from current font.\n",
      "  fig.savefig(plot_fname, dpi=250)\n",
      "D:\\code\\env\\anaconda\\envs\\mhy-yolo\\Lib\\site-packages\\ultralytics\\utils\\metrics.py:432: UserWarning: Glyph 36317 (\\N{CJK UNIFIED IDEOGRAPH-8DDD}) missing from current font.\n",
      "  fig.savefig(plot_fname, dpi=250)\n",
      "D:\\code\\env\\anaconda\\envs\\mhy-yolo\\Lib\\site-packages\\ultralytics\\utils\\metrics.py:432: UserWarning: Glyph 31163 (\\N{CJK UNIFIED IDEOGRAPH-79BB}) missing from current font.\n",
      "  fig.savefig(plot_fname, dpi=250)\n",
      "D:\\code\\env\\anaconda\\envs\\mhy-yolo\\Lib\\site-packages\\ultralytics\\utils\\metrics.py:432: UserWarning: Glyph 25112 (\\N{CJK UNIFIED IDEOGRAPH-6218}) missing from current font.\n",
      "  fig.savefig(plot_fname, dpi=250)\n",
      "D:\\code\\env\\anaconda\\envs\\mhy-yolo\\Lib\\site-packages\\ultralytics\\utils\\metrics.py:432: UserWarning: Glyph 26007 (\\N{CJK UNIFIED IDEOGRAPH-6597}) missing from current font.\n",
      "  fig.savefig(plot_fname, dpi=250)\n",
      "D:\\code\\env\\anaconda\\envs\\mhy-yolo\\Lib\\site-packages\\ultralytics\\utils\\metrics.py:432: UserWarning: Glyph 40483 (\\N{CJK UNIFIED IDEOGRAPH-9E23}) missing from current font.\n",
      "  fig.savefig(plot_fname, dpi=250)\n",
      "D:\\code\\env\\anaconda\\envs\\mhy-yolo\\Lib\\site-packages\\ultralytics\\utils\\metrics.py:432: UserWarning: Glyph 24509 (\\N{CJK UNIFIED IDEOGRAPH-5FBD}) missing from current font.\n",
      "  fig.savefig(plot_fname, dpi=250)\n",
      "D:\\code\\env\\anaconda\\envs\\mhy-yolo\\Lib\\site-packages\\ultralytics\\utils\\metrics.py:432: UserWarning: Glyph 27494 (\\N{CJK UNIFIED IDEOGRAPH-6B66}) missing from current font.\n",
      "  fig.savefig(plot_fname, dpi=250)\n",
      "D:\\code\\env\\anaconda\\envs\\mhy-yolo\\Lib\\site-packages\\ultralytics\\utils\\metrics.py:432: UserWarning: Glyph 22791 (\\N{CJK UNIFIED IDEOGRAPH-5907}) missing from current font.\n",
      "  fig.savefig(plot_fname, dpi=250)\n",
      "D:\\code\\env\\anaconda\\envs\\mhy-yolo\\Lib\\site-packages\\ultralytics\\utils\\metrics.py:432: UserWarning: Glyph 30828 (\\N{CJK UNIFIED IDEOGRAPH-786C}) missing from current font.\n",
      "  fig.savefig(plot_fname, dpi=250)\n",
      "D:\\code\\env\\anaconda\\envs\\mhy-yolo\\Lib\\site-packages\\ultralytics\\utils\\metrics.py:432: UserWarning: Glyph 24065 (\\N{CJK UNIFIED IDEOGRAPH-5E01}) missing from current font.\n",
      "  fig.savefig(plot_fname, dpi=250)\n",
      "D:\\code\\env\\anaconda\\envs\\mhy-yolo\\Lib\\site-packages\\ultralytics\\utils\\metrics.py:432: UserWarning: Glyph 25361 (\\N{CJK UNIFIED IDEOGRAPH-6311}) missing from current font.\n",
      "  fig.savefig(plot_fname, dpi=250)\n",
      "D:\\code\\env\\anaconda\\envs\\mhy-yolo\\Lib\\site-packages\\ultralytics\\utils\\metrics.py:432: UserWarning: Glyph 26080 (\\N{CJK UNIFIED IDEOGRAPH-65E0}) missing from current font.\n",
      "  fig.savefig(plot_fname, dpi=250)\n",
      "D:\\code\\env\\anaconda\\envs\\mhy-yolo\\Lib\\site-packages\\ultralytics\\utils\\metrics.py:432: UserWarning: Glyph 20260 (\\N{CJK UNIFIED IDEOGRAPH-4F24}) missing from current font.\n",
      "  fig.savefig(plot_fname, dpi=250)\n",
      "D:\\code\\env\\anaconda\\envs\\mhy-yolo\\Lib\\site-packages\\ultralytics\\utils\\metrics.py:432: UserWarning: Glyph 38480 (\\N{CJK UNIFIED IDEOGRAPH-9650}) missing from current font.\n",
      "  fig.savefig(plot_fname, dpi=250)\n",
      "D:\\code\\env\\anaconda\\envs\\mhy-yolo\\Lib\\site-packages\\ultralytics\\utils\\metrics.py:432: UserWarning: Glyph 26102 (\\N{CJK UNIFIED IDEOGRAPH-65F6}) missing from current font.\n",
      "  fig.savefig(plot_fname, dpi=250)\n",
      "D:\\code\\env\\anaconda\\envs\\mhy-yolo\\Lib\\site-packages\\ultralytics\\utils\\metrics.py:432: UserWarning: Glyph 20598 (\\N{CJK UNIFIED IDEOGRAPH-5076}) missing from current font.\n",
      "  fig.savefig(plot_fname, dpi=250)\n",
      "D:\\code\\env\\anaconda\\envs\\mhy-yolo\\Lib\\site-packages\\ultralytics\\utils\\metrics.py:432: UserWarning: Glyph 36935 (\\N{CJK UNIFIED IDEOGRAPH-9047}) missing from current font.\n",
      "  fig.savefig(plot_fname, dpi=250)\n",
      "D:\\code\\env\\anaconda\\envs\\mhy-yolo\\Lib\\site-packages\\ultralytics\\utils\\metrics.py:432: UserWarning: Glyph 20107 (\\N{CJK UNIFIED IDEOGRAPH-4E8B}) missing from current font.\n",
      "  fig.savefig(plot_fname, dpi=250)\n",
      "D:\\code\\env\\anaconda\\envs\\mhy-yolo\\Lib\\site-packages\\ultralytics\\utils\\metrics.py:432: UserWarning: Glyph 20214 (\\N{CJK UNIFIED IDEOGRAPH-4EF6}) missing from current font.\n",
      "  fig.savefig(plot_fname, dpi=250)\n",
      "D:\\code\\env\\anaconda\\envs\\mhy-yolo\\Lib\\site-packages\\ultralytics\\utils\\metrics.py:432: UserWarning: Glyph 20195 (\\N{CJK UNIFIED IDEOGRAPH-4EE3}) missing from current font.\n",
      "  fig.savefig(plot_fname, dpi=250)\n",
      "D:\\code\\env\\anaconda\\envs\\mhy-yolo\\Lib\\site-packages\\ultralytics\\utils\\metrics.py:432: UserWarning: Glyph 20215 (\\N{CJK UNIFIED IDEOGRAPH-4EF7}) missing from current font.\n",
      "  fig.savefig(plot_fname, dpi=250)\n",
      "D:\\code\\env\\anaconda\\envs\\mhy-yolo\\Lib\\site-packages\\ultralytics\\utils\\metrics.py:432: UserWarning: Glyph 20043 (\\N{CJK UNIFIED IDEOGRAPH-4E4B}) missing from current font.\n",
      "  fig.savefig(plot_fname, dpi=250)\n",
      "D:\\code\\env\\anaconda\\envs\\mhy-yolo\\Lib\\site-packages\\ultralytics\\utils\\metrics.py:432: UserWarning: Glyph 38388 (\\N{CJK UNIFIED IDEOGRAPH-95F4}) missing from current font.\n",
      "  fig.savefig(plot_fname, dpi=250)\n",
      "D:\\code\\env\\anaconda\\envs\\mhy-yolo\\Lib\\site-packages\\ultralytics\\utils\\metrics.py:432: UserWarning: Glyph 20241 (\\N{CJK UNIFIED IDEOGRAPH-4F11}) missing from current font.\n",
      "  fig.savefig(plot_fname, dpi=250)\n",
      "D:\\code\\env\\anaconda\\envs\\mhy-yolo\\Lib\\site-packages\\ultralytics\\utils\\metrics.py:432: UserWarning: Glyph 25001 (\\N{CJK UNIFIED IDEOGRAPH-61A9}) missing from current font.\n",
      "  fig.savefig(plot_fname, dpi=250)\n",
      "D:\\code\\env\\anaconda\\envs\\mhy-yolo\\Lib\\site-packages\\ultralytics\\utils\\metrics.py:432: UserWarning: Glyph 35843 (\\N{CJK UNIFIED IDEOGRAPH-8C03}) missing from current font.\n",
      "  fig.savefig(plot_fname, dpi=250)\n",
      "D:\\code\\env\\anaconda\\envs\\mhy-yolo\\Lib\\site-packages\\ultralytics\\utils\\metrics.py:432: UserWarning: Glyph 24687 (\\N{CJK UNIFIED IDEOGRAPH-606F}) missing from current font.\n",
      "  fig.savefig(plot_fname, dpi=250)\n",
      "D:\\code\\env\\anaconda\\envs\\mhy-yolo\\Lib\\site-packages\\ultralytics\\utils\\metrics.py:432: UserWarning: Glyph 37030 (\\N{CJK UNIFIED IDEOGRAPH-90A6}) missing from current font.\n",
      "  fig.savefig(plot_fname, dpi=250)\n",
      "D:\\code\\env\\anaconda\\envs\\mhy-yolo\\Lib\\site-packages\\ultralytics\\utils\\metrics.py:432: UserWarning: Glyph 24067 (\\N{CJK UNIFIED IDEOGRAPH-5E03}) missing from current font.\n",
      "  fig.savefig(plot_fname, dpi=250)\n",
      "D:\\code\\env\\anaconda\\envs\\mhy-yolo\\Lib\\site-packages\\ultralytics\\utils\\metrics.py:432: UserWarning: Glyph 21830 (\\N{CJK UNIFIED IDEOGRAPH-5546}) missing from current font.\n",
      "  fig.savefig(plot_fname, dpi=250)\n",
      "D:\\code\\env\\anaconda\\envs\\mhy-yolo\\Lib\\site-packages\\ultralytics\\utils\\metrics.py:432: UserWarning: Glyph 24215 (\\N{CJK UNIFIED IDEOGRAPH-5E97}) missing from current font.\n",
      "  fig.savefig(plot_fname, dpi=250)\n",
      "D:\\code\\env\\anaconda\\envs\\mhy-yolo\\Lib\\site-packages\\ultralytics\\utils\\metrics.py:432: UserWarning: Glyph 25370 (\\N{CJK UNIFIED IDEOGRAPH-631A}) missing from current font.\n",
      "  fig.savefig(plot_fname, dpi=250)\n",
      "D:\\code\\env\\anaconda\\envs\\mhy-yolo\\Lib\\site-packages\\ultralytics\\utils\\metrics.py:432: UserWarning: Glyph 20132 (\\N{CJK UNIFIED IDEOGRAPH-4EA4}) missing from current font.\n",
      "  fig.savefig(plot_fname, dpi=250)\n",
      "D:\\code\\env\\anaconda\\envs\\mhy-yolo\\Lib\\site-packages\\ultralytics\\utils\\metrics.py:432: UserWarning: Glyph 20250 (\\N{CJK UNIFIED IDEOGRAPH-4F1A}) missing from current font.\n",
      "  fig.savefig(plot_fname, dpi=250)\n",
      "D:\\code\\env\\anaconda\\envs\\mhy-yolo\\Lib\\site-packages\\ultralytics\\utils\\metrics.py:432: UserWarning: Glyph 35848 (\\N{CJK UNIFIED IDEOGRAPH-8C08}) missing from current font.\n",
      "  fig.savefig(plot_fname, dpi=250)\n",
      "D:\\code\\env\\anaconda\\envs\\mhy-yolo\\Lib\\site-packages\\ultralytics\\utils\\metrics.py:432: UserWarning: Glyph 36947 (\\N{CJK UNIFIED IDEOGRAPH-9053}) missing from current font.\n",
      "  fig.savefig(plot_fname, dpi=250)\n",
      "D:\\code\\env\\anaconda\\envs\\mhy-yolo\\Lib\\site-packages\\ultralytics\\utils\\metrics.py:432: UserWarning: Glyph 20013 (\\N{CJK UNIFIED IDEOGRAPH-4E2D}) missing from current font.\n",
      "  fig.savefig(plot_fname, dpi=250)\n",
      "D:\\code\\env\\anaconda\\envs\\mhy-yolo\\Lib\\site-packages\\ultralytics\\utils\\metrics.py:432: UserWarning: Glyph 21361 (\\N{CJK UNIFIED IDEOGRAPH-5371}) missing from current font.\n",
      "  fig.savefig(plot_fname, dpi=250)\n",
      "D:\\code\\env\\anaconda\\envs\\mhy-yolo\\Lib\\site-packages\\ultralytics\\utils\\metrics.py:432: UserWarning: Glyph 26426 (\\N{CJK UNIFIED IDEOGRAPH-673A}) missing from current font.\n",
      "  fig.savefig(plot_fname, dpi=250)\n",
      "D:\\code\\env\\anaconda\\envs\\mhy-yolo\\Lib\\site-packages\\ultralytics\\utils\\metrics.py:432: UserWarning: Glyph 32456 (\\N{CJK UNIFIED IDEOGRAPH-7EC8}) missing from current font.\n",
      "  fig.savefig(plot_fname, dpi=250)\n",
      "D:\\code\\env\\anaconda\\envs\\mhy-yolo\\Lib\\site-packages\\ultralytics\\utils\\metrics.py:432: UserWarning: Glyph 32467 (\\N{CJK UNIFIED IDEOGRAPH-7ED3}) missing from current font.\n",
      "  fig.savefig(plot_fname, dpi=250)\n",
      "D:\\code\\env\\anaconda\\envs\\mhy-yolo\\Lib\\site-packages\\ultralytics\\utils\\metrics.py:432: UserWarning: Glyph 24441 (\\N{CJK UNIFIED IDEOGRAPH-5F79}) missing from current font.\n",
      "  fig.savefig(plot_fname, dpi=250)\n"
     ]
    },
    {
     "name": "stdout",
     "output_type": "stream",
     "text": [
      "Speed: 0.5ms preprocess, 2.0ms inference, 0.0ms loss, 1.2ms postprocess per image\n",
      "Results saved to \u001b[1mD:\\code\\workspace\\OneDragon-YOLO\\ultralytics\\runs\\zzz_lost_void_det_2208\\yolov8n-736\u001b[0m\n"
     ]
    },
    {
     "data": {
      "text/plain": [
       "ultralytics.utils.metrics.DetMetrics object with attributes:\n",
       "\n",
       "ap_class_index: array([ 0,  1,  2,  3,  4,  5,  6,  7,  8,  9, 10, 11, 12, 13])\n",
       "box: ultralytics.utils.metrics.Metric object\n",
       "confusion_matrix: <ultralytics.utils.metrics.ConfusionMatrix object at 0x00000261D73316D0>\n",
       "curves: ['Precision-Recall(B)', 'F1-Confidence(B)', 'Precision-Confidence(B)', 'Recall-Confidence(B)']\n",
       "curves_results: [[array([          0,    0.001001,    0.002002,    0.003003,    0.004004,    0.005005,    0.006006,    0.007007,    0.008008,    0.009009,     0.01001,    0.011011,    0.012012,    0.013013,    0.014014,    0.015015,    0.016016,    0.017017,    0.018018,    0.019019,     0.02002,    0.021021,    0.022022,    0.023023,\n",
       "          0.024024,    0.025025,    0.026026,    0.027027,    0.028028,    0.029029,     0.03003,    0.031031,    0.032032,    0.033033,    0.034034,    0.035035,    0.036036,    0.037037,    0.038038,    0.039039,     0.04004,    0.041041,    0.042042,    0.043043,    0.044044,    0.045045,    0.046046,    0.047047,\n",
       "          0.048048,    0.049049,     0.05005,    0.051051,    0.052052,    0.053053,    0.054054,    0.055055,    0.056056,    0.057057,    0.058058,    0.059059,     0.06006,    0.061061,    0.062062,    0.063063,    0.064064,    0.065065,    0.066066,    0.067067,    0.068068,    0.069069,     0.07007,    0.071071,\n",
       "          0.072072,    0.073073,    0.074074,    0.075075,    0.076076,    0.077077,    0.078078,    0.079079,     0.08008,    0.081081,    0.082082,    0.083083,    0.084084,    0.085085,    0.086086,    0.087087,    0.088088,    0.089089,     0.09009,    0.091091,    0.092092,    0.093093,    0.094094,    0.095095,\n",
       "          0.096096,    0.097097,    0.098098,    0.099099,      0.1001,      0.1011,      0.1021,      0.1031,      0.1041,     0.10511,     0.10611,     0.10711,     0.10811,     0.10911,     0.11011,     0.11111,     0.11211,     0.11311,     0.11411,     0.11512,     0.11612,     0.11712,     0.11812,     0.11912,\n",
       "           0.12012,     0.12112,     0.12212,     0.12312,     0.12412,     0.12513,     0.12613,     0.12713,     0.12813,     0.12913,     0.13013,     0.13113,     0.13213,     0.13313,     0.13413,     0.13514,     0.13614,     0.13714,     0.13814,     0.13914,     0.14014,     0.14114,     0.14214,     0.14314,\n",
       "           0.14414,     0.14515,     0.14615,     0.14715,     0.14815,     0.14915,     0.15015,     0.15115,     0.15215,     0.15315,     0.15415,     0.15516,     0.15616,     0.15716,     0.15816,     0.15916,     0.16016,     0.16116,     0.16216,     0.16316,     0.16416,     0.16517,     0.16617,     0.16717,\n",
       "           0.16817,     0.16917,     0.17017,     0.17117,     0.17217,     0.17317,     0.17417,     0.17518,     0.17618,     0.17718,     0.17818,     0.17918,     0.18018,     0.18118,     0.18218,     0.18318,     0.18418,     0.18519,     0.18619,     0.18719,     0.18819,     0.18919,     0.19019,     0.19119,\n",
       "           0.19219,     0.19319,     0.19419,      0.1952,      0.1962,      0.1972,      0.1982,      0.1992,      0.2002,      0.2012,      0.2022,      0.2032,      0.2042,     0.20521,     0.20621,     0.20721,     0.20821,     0.20921,     0.21021,     0.21121,     0.21221,     0.21321,     0.21421,     0.21522,\n",
       "           0.21622,     0.21722,     0.21822,     0.21922,     0.22022,     0.22122,     0.22222,     0.22322,     0.22422,     0.22523,     0.22623,     0.22723,     0.22823,     0.22923,     0.23023,     0.23123,     0.23223,     0.23323,     0.23423,     0.23524,     0.23624,     0.23724,     0.23824,     0.23924,\n",
       "           0.24024,     0.24124,     0.24224,     0.24324,     0.24424,     0.24525,     0.24625,     0.24725,     0.24825,     0.24925,     0.25025,     0.25125,     0.25225,     0.25325,     0.25425,     0.25526,     0.25626,     0.25726,     0.25826,     0.25926,     0.26026,     0.26126,     0.26226,     0.26326,\n",
       "           0.26426,     0.26527,     0.26627,     0.26727,     0.26827,     0.26927,     0.27027,     0.27127,     0.27227,     0.27327,     0.27427,     0.27528,     0.27628,     0.27728,     0.27828,     0.27928,     0.28028,     0.28128,     0.28228,     0.28328,     0.28428,     0.28529,     0.28629,     0.28729,\n",
       "           0.28829,     0.28929,     0.29029,     0.29129,     0.29229,     0.29329,     0.29429,      0.2953,      0.2963,      0.2973,      0.2983,      0.2993,      0.3003,      0.3013,      0.3023,      0.3033,      0.3043,     0.30531,     0.30631,     0.30731,     0.30831,     0.30931,     0.31031,     0.31131,\n",
       "           0.31231,     0.31331,     0.31431,     0.31532,     0.31632,     0.31732,     0.31832,     0.31932,     0.32032,     0.32132,     0.32232,     0.32332,     0.32432,     0.32533,     0.32633,     0.32733,     0.32833,     0.32933,     0.33033,     0.33133,     0.33233,     0.33333,     0.33433,     0.33534,\n",
       "           0.33634,     0.33734,     0.33834,     0.33934,     0.34034,     0.34134,     0.34234,     0.34334,     0.34434,     0.34535,     0.34635,     0.34735,     0.34835,     0.34935,     0.35035,     0.35135,     0.35235,     0.35335,     0.35435,     0.35536,     0.35636,     0.35736,     0.35836,     0.35936,\n",
       "           0.36036,     0.36136,     0.36236,     0.36336,     0.36436,     0.36537,     0.36637,     0.36737,     0.36837,     0.36937,     0.37037,     0.37137,     0.37237,     0.37337,     0.37437,     0.37538,     0.37638,     0.37738,     0.37838,     0.37938,     0.38038,     0.38138,     0.38238,     0.38338,\n",
       "           0.38438,     0.38539,     0.38639,     0.38739,     0.38839,     0.38939,     0.39039,     0.39139,     0.39239,     0.39339,     0.39439,      0.3954,      0.3964,      0.3974,      0.3984,      0.3994,      0.4004,      0.4014,      0.4024,      0.4034,      0.4044,     0.40541,     0.40641,     0.40741,\n",
       "           0.40841,     0.40941,     0.41041,     0.41141,     0.41241,     0.41341,     0.41441,     0.41542,     0.41642,     0.41742,     0.41842,     0.41942,     0.42042,     0.42142,     0.42242,     0.42342,     0.42442,     0.42543,     0.42643,     0.42743,     0.42843,     0.42943,     0.43043,     0.43143,\n",
       "           0.43243,     0.43343,     0.43443,     0.43544,     0.43644,     0.43744,     0.43844,     0.43944,     0.44044,     0.44144,     0.44244,     0.44344,     0.44444,     0.44545,     0.44645,     0.44745,     0.44845,     0.44945,     0.45045,     0.45145,     0.45245,     0.45345,     0.45445,     0.45546,\n",
       "           0.45646,     0.45746,     0.45846,     0.45946,     0.46046,     0.46146,     0.46246,     0.46346,     0.46446,     0.46547,     0.46647,     0.46747,     0.46847,     0.46947,     0.47047,     0.47147,     0.47247,     0.47347,     0.47447,     0.47548,     0.47648,     0.47748,     0.47848,     0.47948,\n",
       "           0.48048,     0.48148,     0.48248,     0.48348,     0.48448,     0.48549,     0.48649,     0.48749,     0.48849,     0.48949,     0.49049,     0.49149,     0.49249,     0.49349,     0.49449,      0.4955,      0.4965,      0.4975,      0.4985,      0.4995,      0.5005,      0.5015,      0.5025,      0.5035,\n",
       "            0.5045,     0.50551,     0.50651,     0.50751,     0.50851,     0.50951,     0.51051,     0.51151,     0.51251,     0.51351,     0.51451,     0.51552,     0.51652,     0.51752,     0.51852,     0.51952,     0.52052,     0.52152,     0.52252,     0.52352,     0.52452,     0.52553,     0.52653,     0.52753,\n",
       "           0.52853,     0.52953,     0.53053,     0.53153,     0.53253,     0.53353,     0.53453,     0.53554,     0.53654,     0.53754,     0.53854,     0.53954,     0.54054,     0.54154,     0.54254,     0.54354,     0.54454,     0.54555,     0.54655,     0.54755,     0.54855,     0.54955,     0.55055,     0.55155,\n",
       "           0.55255,     0.55355,     0.55455,     0.55556,     0.55656,     0.55756,     0.55856,     0.55956,     0.56056,     0.56156,     0.56256,     0.56356,     0.56456,     0.56557,     0.56657,     0.56757,     0.56857,     0.56957,     0.57057,     0.57157,     0.57257,     0.57357,     0.57457,     0.57558,\n",
       "           0.57658,     0.57758,     0.57858,     0.57958,     0.58058,     0.58158,     0.58258,     0.58358,     0.58458,     0.58559,     0.58659,     0.58759,     0.58859,     0.58959,     0.59059,     0.59159,     0.59259,     0.59359,     0.59459,      0.5956,      0.5966,      0.5976,      0.5986,      0.5996,\n",
       "            0.6006,      0.6016,      0.6026,      0.6036,      0.6046,     0.60561,     0.60661,     0.60761,     0.60861,     0.60961,     0.61061,     0.61161,     0.61261,     0.61361,     0.61461,     0.61562,     0.61662,     0.61762,     0.61862,     0.61962,     0.62062,     0.62162,     0.62262,     0.62362,\n",
       "           0.62462,     0.62563,     0.62663,     0.62763,     0.62863,     0.62963,     0.63063,     0.63163,     0.63263,     0.63363,     0.63463,     0.63564,     0.63664,     0.63764,     0.63864,     0.63964,     0.64064,     0.64164,     0.64264,     0.64364,     0.64464,     0.64565,     0.64665,     0.64765,\n",
       "           0.64865,     0.64965,     0.65065,     0.65165,     0.65265,     0.65365,     0.65465,     0.65566,     0.65666,     0.65766,     0.65866,     0.65966,     0.66066,     0.66166,     0.66266,     0.66366,     0.66466,     0.66567,     0.66667,     0.66767,     0.66867,     0.66967,     0.67067,     0.67167,\n",
       "           0.67267,     0.67367,     0.67467,     0.67568,     0.67668,     0.67768,     0.67868,     0.67968,     0.68068,     0.68168,     0.68268,     0.68368,     0.68468,     0.68569,     0.68669,     0.68769,     0.68869,     0.68969,     0.69069,     0.69169,     0.69269,     0.69369,     0.69469,      0.6957,\n",
       "            0.6967,      0.6977,      0.6987,      0.6997,      0.7007,      0.7017,      0.7027,      0.7037,      0.7047,     0.70571,     0.70671,     0.70771,     0.70871,     0.70971,     0.71071,     0.71171,     0.71271,     0.71371,     0.71471,     0.71572,     0.71672,     0.71772,     0.71872,     0.71972,\n",
       "           0.72072,     0.72172,     0.72272,     0.72372,     0.72472,     0.72573,     0.72673,     0.72773,     0.72873,     0.72973,     0.73073,     0.73173,     0.73273,     0.73373,     0.73473,     0.73574,     0.73674,     0.73774,     0.73874,     0.73974,     0.74074,     0.74174,     0.74274,     0.74374,\n",
       "           0.74474,     0.74575,     0.74675,     0.74775,     0.74875,     0.74975,     0.75075,     0.75175,     0.75275,     0.75375,     0.75475,     0.75576,     0.75676,     0.75776,     0.75876,     0.75976,     0.76076,     0.76176,     0.76276,     0.76376,     0.76476,     0.76577,     0.76677,     0.76777,\n",
       "           0.76877,     0.76977,     0.77077,     0.77177,     0.77277,     0.77377,     0.77477,     0.77578,     0.77678,     0.77778,     0.77878,     0.77978,     0.78078,     0.78178,     0.78278,     0.78378,     0.78478,     0.78579,     0.78679,     0.78779,     0.78879,     0.78979,     0.79079,     0.79179,\n",
       "           0.79279,     0.79379,     0.79479,      0.7958,      0.7968,      0.7978,      0.7988,      0.7998,      0.8008,      0.8018,      0.8028,      0.8038,      0.8048,     0.80581,     0.80681,     0.80781,     0.80881,     0.80981,     0.81081,     0.81181,     0.81281,     0.81381,     0.81481,     0.81582,\n",
       "           0.81682,     0.81782,     0.81882,     0.81982,     0.82082,     0.82182,     0.82282,     0.82382,     0.82482,     0.82583,     0.82683,     0.82783,     0.82883,     0.82983,     0.83083,     0.83183,     0.83283,     0.83383,     0.83483,     0.83584,     0.83684,     0.83784,     0.83884,     0.83984,\n",
       "           0.84084,     0.84184,     0.84284,     0.84384,     0.84484,     0.84585,     0.84685,     0.84785,     0.84885,     0.84985,     0.85085,     0.85185,     0.85285,     0.85385,     0.85485,     0.85586,     0.85686,     0.85786,     0.85886,     0.85986,     0.86086,     0.86186,     0.86286,     0.86386,\n",
       "           0.86486,     0.86587,     0.86687,     0.86787,     0.86887,     0.86987,     0.87087,     0.87187,     0.87287,     0.87387,     0.87487,     0.87588,     0.87688,     0.87788,     0.87888,     0.87988,     0.88088,     0.88188,     0.88288,     0.88388,     0.88488,     0.88589,     0.88689,     0.88789,\n",
       "           0.88889,     0.88989,     0.89089,     0.89189,     0.89289,     0.89389,     0.89489,      0.8959,      0.8969,      0.8979,      0.8989,      0.8999,      0.9009,      0.9019,      0.9029,      0.9039,      0.9049,     0.90591,     0.90691,     0.90791,     0.90891,     0.90991,     0.91091,     0.91191,\n",
       "           0.91291,     0.91391,     0.91491,     0.91592,     0.91692,     0.91792,     0.91892,     0.91992,     0.92092,     0.92192,     0.92292,     0.92392,     0.92492,     0.92593,     0.92693,     0.92793,     0.92893,     0.92993,     0.93093,     0.93193,     0.93293,     0.93393,     0.93493,     0.93594,\n",
       "           0.93694,     0.93794,     0.93894,     0.93994,     0.94094,     0.94194,     0.94294,     0.94394,     0.94494,     0.94595,     0.94695,     0.94795,     0.94895,     0.94995,     0.95095,     0.95195,     0.95295,     0.95395,     0.95495,     0.95596,     0.95696,     0.95796,     0.95896,     0.95996,\n",
       "           0.96096,     0.96196,     0.96296,     0.96396,     0.96496,     0.96597,     0.96697,     0.96797,     0.96897,     0.96997,     0.97097,     0.97197,     0.97297,     0.97397,     0.97497,     0.97598,     0.97698,     0.97798,     0.97898,     0.97998,     0.98098,     0.98198,     0.98298,     0.98398,\n",
       "           0.98498,     0.98599,     0.98699,     0.98799,     0.98899,     0.98999,     0.99099,     0.99199,     0.99299,     0.99399,     0.99499,       0.996,       0.997,       0.998,       0.999,           1]), array([[          1,           1,           1, ...,           1,           1,           0],\n",
       "       [          1,           1,           1, ...,           1,           1,           0],\n",
       "       [          1,           1,           1, ...,           1,           1,           0],\n",
       "       ...,\n",
       "       [          1,           1,           1, ...,           1,           1,           0],\n",
       "       [          1,           1,           1, ...,           1,           1,           0],\n",
       "       [          1,           1,           1, ...,           1,           1,           0]]), 'Recall', 'Precision'], [array([          0,    0.001001,    0.002002,    0.003003,    0.004004,    0.005005,    0.006006,    0.007007,    0.008008,    0.009009,     0.01001,    0.011011,    0.012012,    0.013013,    0.014014,    0.015015,    0.016016,    0.017017,    0.018018,    0.019019,     0.02002,    0.021021,    0.022022,    0.023023,\n",
       "          0.024024,    0.025025,    0.026026,    0.027027,    0.028028,    0.029029,     0.03003,    0.031031,    0.032032,    0.033033,    0.034034,    0.035035,    0.036036,    0.037037,    0.038038,    0.039039,     0.04004,    0.041041,    0.042042,    0.043043,    0.044044,    0.045045,    0.046046,    0.047047,\n",
       "          0.048048,    0.049049,     0.05005,    0.051051,    0.052052,    0.053053,    0.054054,    0.055055,    0.056056,    0.057057,    0.058058,    0.059059,     0.06006,    0.061061,    0.062062,    0.063063,    0.064064,    0.065065,    0.066066,    0.067067,    0.068068,    0.069069,     0.07007,    0.071071,\n",
       "          0.072072,    0.073073,    0.074074,    0.075075,    0.076076,    0.077077,    0.078078,    0.079079,     0.08008,    0.081081,    0.082082,    0.083083,    0.084084,    0.085085,    0.086086,    0.087087,    0.088088,    0.089089,     0.09009,    0.091091,    0.092092,    0.093093,    0.094094,    0.095095,\n",
       "          0.096096,    0.097097,    0.098098,    0.099099,      0.1001,      0.1011,      0.1021,      0.1031,      0.1041,     0.10511,     0.10611,     0.10711,     0.10811,     0.10911,     0.11011,     0.11111,     0.11211,     0.11311,     0.11411,     0.11512,     0.11612,     0.11712,     0.11812,     0.11912,\n",
       "           0.12012,     0.12112,     0.12212,     0.12312,     0.12412,     0.12513,     0.12613,     0.12713,     0.12813,     0.12913,     0.13013,     0.13113,     0.13213,     0.13313,     0.13413,     0.13514,     0.13614,     0.13714,     0.13814,     0.13914,     0.14014,     0.14114,     0.14214,     0.14314,\n",
       "           0.14414,     0.14515,     0.14615,     0.14715,     0.14815,     0.14915,     0.15015,     0.15115,     0.15215,     0.15315,     0.15415,     0.15516,     0.15616,     0.15716,     0.15816,     0.15916,     0.16016,     0.16116,     0.16216,     0.16316,     0.16416,     0.16517,     0.16617,     0.16717,\n",
       "           0.16817,     0.16917,     0.17017,     0.17117,     0.17217,     0.17317,     0.17417,     0.17518,     0.17618,     0.17718,     0.17818,     0.17918,     0.18018,     0.18118,     0.18218,     0.18318,     0.18418,     0.18519,     0.18619,     0.18719,     0.18819,     0.18919,     0.19019,     0.19119,\n",
       "           0.19219,     0.19319,     0.19419,      0.1952,      0.1962,      0.1972,      0.1982,      0.1992,      0.2002,      0.2012,      0.2022,      0.2032,      0.2042,     0.20521,     0.20621,     0.20721,     0.20821,     0.20921,     0.21021,     0.21121,     0.21221,     0.21321,     0.21421,     0.21522,\n",
       "           0.21622,     0.21722,     0.21822,     0.21922,     0.22022,     0.22122,     0.22222,     0.22322,     0.22422,     0.22523,     0.22623,     0.22723,     0.22823,     0.22923,     0.23023,     0.23123,     0.23223,     0.23323,     0.23423,     0.23524,     0.23624,     0.23724,     0.23824,     0.23924,\n",
       "           0.24024,     0.24124,     0.24224,     0.24324,     0.24424,     0.24525,     0.24625,     0.24725,     0.24825,     0.24925,     0.25025,     0.25125,     0.25225,     0.25325,     0.25425,     0.25526,     0.25626,     0.25726,     0.25826,     0.25926,     0.26026,     0.26126,     0.26226,     0.26326,\n",
       "           0.26426,     0.26527,     0.26627,     0.26727,     0.26827,     0.26927,     0.27027,     0.27127,     0.27227,     0.27327,     0.27427,     0.27528,     0.27628,     0.27728,     0.27828,     0.27928,     0.28028,     0.28128,     0.28228,     0.28328,     0.28428,     0.28529,     0.28629,     0.28729,\n",
       "           0.28829,     0.28929,     0.29029,     0.29129,     0.29229,     0.29329,     0.29429,      0.2953,      0.2963,      0.2973,      0.2983,      0.2993,      0.3003,      0.3013,      0.3023,      0.3033,      0.3043,     0.30531,     0.30631,     0.30731,     0.30831,     0.30931,     0.31031,     0.31131,\n",
       "           0.31231,     0.31331,     0.31431,     0.31532,     0.31632,     0.31732,     0.31832,     0.31932,     0.32032,     0.32132,     0.32232,     0.32332,     0.32432,     0.32533,     0.32633,     0.32733,     0.32833,     0.32933,     0.33033,     0.33133,     0.33233,     0.33333,     0.33433,     0.33534,\n",
       "           0.33634,     0.33734,     0.33834,     0.33934,     0.34034,     0.34134,     0.34234,     0.34334,     0.34434,     0.34535,     0.34635,     0.34735,     0.34835,     0.34935,     0.35035,     0.35135,     0.35235,     0.35335,     0.35435,     0.35536,     0.35636,     0.35736,     0.35836,     0.35936,\n",
       "           0.36036,     0.36136,     0.36236,     0.36336,     0.36436,     0.36537,     0.36637,     0.36737,     0.36837,     0.36937,     0.37037,     0.37137,     0.37237,     0.37337,     0.37437,     0.37538,     0.37638,     0.37738,     0.37838,     0.37938,     0.38038,     0.38138,     0.38238,     0.38338,\n",
       "           0.38438,     0.38539,     0.38639,     0.38739,     0.38839,     0.38939,     0.39039,     0.39139,     0.39239,     0.39339,     0.39439,      0.3954,      0.3964,      0.3974,      0.3984,      0.3994,      0.4004,      0.4014,      0.4024,      0.4034,      0.4044,     0.40541,     0.40641,     0.40741,\n",
       "           0.40841,     0.40941,     0.41041,     0.41141,     0.41241,     0.41341,     0.41441,     0.41542,     0.41642,     0.41742,     0.41842,     0.41942,     0.42042,     0.42142,     0.42242,     0.42342,     0.42442,     0.42543,     0.42643,     0.42743,     0.42843,     0.42943,     0.43043,     0.43143,\n",
       "           0.43243,     0.43343,     0.43443,     0.43544,     0.43644,     0.43744,     0.43844,     0.43944,     0.44044,     0.44144,     0.44244,     0.44344,     0.44444,     0.44545,     0.44645,     0.44745,     0.44845,     0.44945,     0.45045,     0.45145,     0.45245,     0.45345,     0.45445,     0.45546,\n",
       "           0.45646,     0.45746,     0.45846,     0.45946,     0.46046,     0.46146,     0.46246,     0.46346,     0.46446,     0.46547,     0.46647,     0.46747,     0.46847,     0.46947,     0.47047,     0.47147,     0.47247,     0.47347,     0.47447,     0.47548,     0.47648,     0.47748,     0.47848,     0.47948,\n",
       "           0.48048,     0.48148,     0.48248,     0.48348,     0.48448,     0.48549,     0.48649,     0.48749,     0.48849,     0.48949,     0.49049,     0.49149,     0.49249,     0.49349,     0.49449,      0.4955,      0.4965,      0.4975,      0.4985,      0.4995,      0.5005,      0.5015,      0.5025,      0.5035,\n",
       "            0.5045,     0.50551,     0.50651,     0.50751,     0.50851,     0.50951,     0.51051,     0.51151,     0.51251,     0.51351,     0.51451,     0.51552,     0.51652,     0.51752,     0.51852,     0.51952,     0.52052,     0.52152,     0.52252,     0.52352,     0.52452,     0.52553,     0.52653,     0.52753,\n",
       "           0.52853,     0.52953,     0.53053,     0.53153,     0.53253,     0.53353,     0.53453,     0.53554,     0.53654,     0.53754,     0.53854,     0.53954,     0.54054,     0.54154,     0.54254,     0.54354,     0.54454,     0.54555,     0.54655,     0.54755,     0.54855,     0.54955,     0.55055,     0.55155,\n",
       "           0.55255,     0.55355,     0.55455,     0.55556,     0.55656,     0.55756,     0.55856,     0.55956,     0.56056,     0.56156,     0.56256,     0.56356,     0.56456,     0.56557,     0.56657,     0.56757,     0.56857,     0.56957,     0.57057,     0.57157,     0.57257,     0.57357,     0.57457,     0.57558,\n",
       "           0.57658,     0.57758,     0.57858,     0.57958,     0.58058,     0.58158,     0.58258,     0.58358,     0.58458,     0.58559,     0.58659,     0.58759,     0.58859,     0.58959,     0.59059,     0.59159,     0.59259,     0.59359,     0.59459,      0.5956,      0.5966,      0.5976,      0.5986,      0.5996,\n",
       "            0.6006,      0.6016,      0.6026,      0.6036,      0.6046,     0.60561,     0.60661,     0.60761,     0.60861,     0.60961,     0.61061,     0.61161,     0.61261,     0.61361,     0.61461,     0.61562,     0.61662,     0.61762,     0.61862,     0.61962,     0.62062,     0.62162,     0.62262,     0.62362,\n",
       "           0.62462,     0.62563,     0.62663,     0.62763,     0.62863,     0.62963,     0.63063,     0.63163,     0.63263,     0.63363,     0.63463,     0.63564,     0.63664,     0.63764,     0.63864,     0.63964,     0.64064,     0.64164,     0.64264,     0.64364,     0.64464,     0.64565,     0.64665,     0.64765,\n",
       "           0.64865,     0.64965,     0.65065,     0.65165,     0.65265,     0.65365,     0.65465,     0.65566,     0.65666,     0.65766,     0.65866,     0.65966,     0.66066,     0.66166,     0.66266,     0.66366,     0.66466,     0.66567,     0.66667,     0.66767,     0.66867,     0.66967,     0.67067,     0.67167,\n",
       "           0.67267,     0.67367,     0.67467,     0.67568,     0.67668,     0.67768,     0.67868,     0.67968,     0.68068,     0.68168,     0.68268,     0.68368,     0.68468,     0.68569,     0.68669,     0.68769,     0.68869,     0.68969,     0.69069,     0.69169,     0.69269,     0.69369,     0.69469,      0.6957,\n",
       "            0.6967,      0.6977,      0.6987,      0.6997,      0.7007,      0.7017,      0.7027,      0.7037,      0.7047,     0.70571,     0.70671,     0.70771,     0.70871,     0.70971,     0.71071,     0.71171,     0.71271,     0.71371,     0.71471,     0.71572,     0.71672,     0.71772,     0.71872,     0.71972,\n",
       "           0.72072,     0.72172,     0.72272,     0.72372,     0.72472,     0.72573,     0.72673,     0.72773,     0.72873,     0.72973,     0.73073,     0.73173,     0.73273,     0.73373,     0.73473,     0.73574,     0.73674,     0.73774,     0.73874,     0.73974,     0.74074,     0.74174,     0.74274,     0.74374,\n",
       "           0.74474,     0.74575,     0.74675,     0.74775,     0.74875,     0.74975,     0.75075,     0.75175,     0.75275,     0.75375,     0.75475,     0.75576,     0.75676,     0.75776,     0.75876,     0.75976,     0.76076,     0.76176,     0.76276,     0.76376,     0.76476,     0.76577,     0.76677,     0.76777,\n",
       "           0.76877,     0.76977,     0.77077,     0.77177,     0.77277,     0.77377,     0.77477,     0.77578,     0.77678,     0.77778,     0.77878,     0.77978,     0.78078,     0.78178,     0.78278,     0.78378,     0.78478,     0.78579,     0.78679,     0.78779,     0.78879,     0.78979,     0.79079,     0.79179,\n",
       "           0.79279,     0.79379,     0.79479,      0.7958,      0.7968,      0.7978,      0.7988,      0.7998,      0.8008,      0.8018,      0.8028,      0.8038,      0.8048,     0.80581,     0.80681,     0.80781,     0.80881,     0.80981,     0.81081,     0.81181,     0.81281,     0.81381,     0.81481,     0.81582,\n",
       "           0.81682,     0.81782,     0.81882,     0.81982,     0.82082,     0.82182,     0.82282,     0.82382,     0.82482,     0.82583,     0.82683,     0.82783,     0.82883,     0.82983,     0.83083,     0.83183,     0.83283,     0.83383,     0.83483,     0.83584,     0.83684,     0.83784,     0.83884,     0.83984,\n",
       "           0.84084,     0.84184,     0.84284,     0.84384,     0.84484,     0.84585,     0.84685,     0.84785,     0.84885,     0.84985,     0.85085,     0.85185,     0.85285,     0.85385,     0.85485,     0.85586,     0.85686,     0.85786,     0.85886,     0.85986,     0.86086,     0.86186,     0.86286,     0.86386,\n",
       "           0.86486,     0.86587,     0.86687,     0.86787,     0.86887,     0.86987,     0.87087,     0.87187,     0.87287,     0.87387,     0.87487,     0.87588,     0.87688,     0.87788,     0.87888,     0.87988,     0.88088,     0.88188,     0.88288,     0.88388,     0.88488,     0.88589,     0.88689,     0.88789,\n",
       "           0.88889,     0.88989,     0.89089,     0.89189,     0.89289,     0.89389,     0.89489,      0.8959,      0.8969,      0.8979,      0.8989,      0.8999,      0.9009,      0.9019,      0.9029,      0.9039,      0.9049,     0.90591,     0.90691,     0.90791,     0.90891,     0.90991,     0.91091,     0.91191,\n",
       "           0.91291,     0.91391,     0.91491,     0.91592,     0.91692,     0.91792,     0.91892,     0.91992,     0.92092,     0.92192,     0.92292,     0.92392,     0.92492,     0.92593,     0.92693,     0.92793,     0.92893,     0.92993,     0.93093,     0.93193,     0.93293,     0.93393,     0.93493,     0.93594,\n",
       "           0.93694,     0.93794,     0.93894,     0.93994,     0.94094,     0.94194,     0.94294,     0.94394,     0.94494,     0.94595,     0.94695,     0.94795,     0.94895,     0.94995,     0.95095,     0.95195,     0.95295,     0.95395,     0.95495,     0.95596,     0.95696,     0.95796,     0.95896,     0.95996,\n",
       "           0.96096,     0.96196,     0.96296,     0.96396,     0.96496,     0.96597,     0.96697,     0.96797,     0.96897,     0.96997,     0.97097,     0.97197,     0.97297,     0.97397,     0.97497,     0.97598,     0.97698,     0.97798,     0.97898,     0.97998,     0.98098,     0.98198,     0.98298,     0.98398,\n",
       "           0.98498,     0.98599,     0.98699,     0.98799,     0.98899,     0.98999,     0.99099,     0.99199,     0.99299,     0.99399,     0.99499,       0.996,       0.997,       0.998,       0.999,           1]), array([[    0.98864,     0.98864,     0.99271, ...,           0,           0,           0],\n",
       "       [    0.93498,     0.93498,     0.96418, ...,           0,           0,           0],\n",
       "       [    0.94853,     0.94853,     0.97734, ...,           0,           0,           0],\n",
       "       ...,\n",
       "       [    0.95954,     0.95954,     0.97832, ...,           0,           0,           0],\n",
       "       [     0.9898,      0.9898,     0.99472, ...,           0,           0,           0],\n",
       "       [    0.95455,     0.95455,     0.97394, ...,           0,           0,           0]]), 'Confidence', 'F1'], [array([          0,    0.001001,    0.002002,    0.003003,    0.004004,    0.005005,    0.006006,    0.007007,    0.008008,    0.009009,     0.01001,    0.011011,    0.012012,    0.013013,    0.014014,    0.015015,    0.016016,    0.017017,    0.018018,    0.019019,     0.02002,    0.021021,    0.022022,    0.023023,\n",
       "          0.024024,    0.025025,    0.026026,    0.027027,    0.028028,    0.029029,     0.03003,    0.031031,    0.032032,    0.033033,    0.034034,    0.035035,    0.036036,    0.037037,    0.038038,    0.039039,     0.04004,    0.041041,    0.042042,    0.043043,    0.044044,    0.045045,    0.046046,    0.047047,\n",
       "          0.048048,    0.049049,     0.05005,    0.051051,    0.052052,    0.053053,    0.054054,    0.055055,    0.056056,    0.057057,    0.058058,    0.059059,     0.06006,    0.061061,    0.062062,    0.063063,    0.064064,    0.065065,    0.066066,    0.067067,    0.068068,    0.069069,     0.07007,    0.071071,\n",
       "          0.072072,    0.073073,    0.074074,    0.075075,    0.076076,    0.077077,    0.078078,    0.079079,     0.08008,    0.081081,    0.082082,    0.083083,    0.084084,    0.085085,    0.086086,    0.087087,    0.088088,    0.089089,     0.09009,    0.091091,    0.092092,    0.093093,    0.094094,    0.095095,\n",
       "          0.096096,    0.097097,    0.098098,    0.099099,      0.1001,      0.1011,      0.1021,      0.1031,      0.1041,     0.10511,     0.10611,     0.10711,     0.10811,     0.10911,     0.11011,     0.11111,     0.11211,     0.11311,     0.11411,     0.11512,     0.11612,     0.11712,     0.11812,     0.11912,\n",
       "           0.12012,     0.12112,     0.12212,     0.12312,     0.12412,     0.12513,     0.12613,     0.12713,     0.12813,     0.12913,     0.13013,     0.13113,     0.13213,     0.13313,     0.13413,     0.13514,     0.13614,     0.13714,     0.13814,     0.13914,     0.14014,     0.14114,     0.14214,     0.14314,\n",
       "           0.14414,     0.14515,     0.14615,     0.14715,     0.14815,     0.14915,     0.15015,     0.15115,     0.15215,     0.15315,     0.15415,     0.15516,     0.15616,     0.15716,     0.15816,     0.15916,     0.16016,     0.16116,     0.16216,     0.16316,     0.16416,     0.16517,     0.16617,     0.16717,\n",
       "           0.16817,     0.16917,     0.17017,     0.17117,     0.17217,     0.17317,     0.17417,     0.17518,     0.17618,     0.17718,     0.17818,     0.17918,     0.18018,     0.18118,     0.18218,     0.18318,     0.18418,     0.18519,     0.18619,     0.18719,     0.18819,     0.18919,     0.19019,     0.19119,\n",
       "           0.19219,     0.19319,     0.19419,      0.1952,      0.1962,      0.1972,      0.1982,      0.1992,      0.2002,      0.2012,      0.2022,      0.2032,      0.2042,     0.20521,     0.20621,     0.20721,     0.20821,     0.20921,     0.21021,     0.21121,     0.21221,     0.21321,     0.21421,     0.21522,\n",
       "           0.21622,     0.21722,     0.21822,     0.21922,     0.22022,     0.22122,     0.22222,     0.22322,     0.22422,     0.22523,     0.22623,     0.22723,     0.22823,     0.22923,     0.23023,     0.23123,     0.23223,     0.23323,     0.23423,     0.23524,     0.23624,     0.23724,     0.23824,     0.23924,\n",
       "           0.24024,     0.24124,     0.24224,     0.24324,     0.24424,     0.24525,     0.24625,     0.24725,     0.24825,     0.24925,     0.25025,     0.25125,     0.25225,     0.25325,     0.25425,     0.25526,     0.25626,     0.25726,     0.25826,     0.25926,     0.26026,     0.26126,     0.26226,     0.26326,\n",
       "           0.26426,     0.26527,     0.26627,     0.26727,     0.26827,     0.26927,     0.27027,     0.27127,     0.27227,     0.27327,     0.27427,     0.27528,     0.27628,     0.27728,     0.27828,     0.27928,     0.28028,     0.28128,     0.28228,     0.28328,     0.28428,     0.28529,     0.28629,     0.28729,\n",
       "           0.28829,     0.28929,     0.29029,     0.29129,     0.29229,     0.29329,     0.29429,      0.2953,      0.2963,      0.2973,      0.2983,      0.2993,      0.3003,      0.3013,      0.3023,      0.3033,      0.3043,     0.30531,     0.30631,     0.30731,     0.30831,     0.30931,     0.31031,     0.31131,\n",
       "           0.31231,     0.31331,     0.31431,     0.31532,     0.31632,     0.31732,     0.31832,     0.31932,     0.32032,     0.32132,     0.32232,     0.32332,     0.32432,     0.32533,     0.32633,     0.32733,     0.32833,     0.32933,     0.33033,     0.33133,     0.33233,     0.33333,     0.33433,     0.33534,\n",
       "           0.33634,     0.33734,     0.33834,     0.33934,     0.34034,     0.34134,     0.34234,     0.34334,     0.34434,     0.34535,     0.34635,     0.34735,     0.34835,     0.34935,     0.35035,     0.35135,     0.35235,     0.35335,     0.35435,     0.35536,     0.35636,     0.35736,     0.35836,     0.35936,\n",
       "           0.36036,     0.36136,     0.36236,     0.36336,     0.36436,     0.36537,     0.36637,     0.36737,     0.36837,     0.36937,     0.37037,     0.37137,     0.37237,     0.37337,     0.37437,     0.37538,     0.37638,     0.37738,     0.37838,     0.37938,     0.38038,     0.38138,     0.38238,     0.38338,\n",
       "           0.38438,     0.38539,     0.38639,     0.38739,     0.38839,     0.38939,     0.39039,     0.39139,     0.39239,     0.39339,     0.39439,      0.3954,      0.3964,      0.3974,      0.3984,      0.3994,      0.4004,      0.4014,      0.4024,      0.4034,      0.4044,     0.40541,     0.40641,     0.40741,\n",
       "           0.40841,     0.40941,     0.41041,     0.41141,     0.41241,     0.41341,     0.41441,     0.41542,     0.41642,     0.41742,     0.41842,     0.41942,     0.42042,     0.42142,     0.42242,     0.42342,     0.42442,     0.42543,     0.42643,     0.42743,     0.42843,     0.42943,     0.43043,     0.43143,\n",
       "           0.43243,     0.43343,     0.43443,     0.43544,     0.43644,     0.43744,     0.43844,     0.43944,     0.44044,     0.44144,     0.44244,     0.44344,     0.44444,     0.44545,     0.44645,     0.44745,     0.44845,     0.44945,     0.45045,     0.45145,     0.45245,     0.45345,     0.45445,     0.45546,\n",
       "           0.45646,     0.45746,     0.45846,     0.45946,     0.46046,     0.46146,     0.46246,     0.46346,     0.46446,     0.46547,     0.46647,     0.46747,     0.46847,     0.46947,     0.47047,     0.47147,     0.47247,     0.47347,     0.47447,     0.47548,     0.47648,     0.47748,     0.47848,     0.47948,\n",
       "           0.48048,     0.48148,     0.48248,     0.48348,     0.48448,     0.48549,     0.48649,     0.48749,     0.48849,     0.48949,     0.49049,     0.49149,     0.49249,     0.49349,     0.49449,      0.4955,      0.4965,      0.4975,      0.4985,      0.4995,      0.5005,      0.5015,      0.5025,      0.5035,\n",
       "            0.5045,     0.50551,     0.50651,     0.50751,     0.50851,     0.50951,     0.51051,     0.51151,     0.51251,     0.51351,     0.51451,     0.51552,     0.51652,     0.51752,     0.51852,     0.51952,     0.52052,     0.52152,     0.52252,     0.52352,     0.52452,     0.52553,     0.52653,     0.52753,\n",
       "           0.52853,     0.52953,     0.53053,     0.53153,     0.53253,     0.53353,     0.53453,     0.53554,     0.53654,     0.53754,     0.53854,     0.53954,     0.54054,     0.54154,     0.54254,     0.54354,     0.54454,     0.54555,     0.54655,     0.54755,     0.54855,     0.54955,     0.55055,     0.55155,\n",
       "           0.55255,     0.55355,     0.55455,     0.55556,     0.55656,     0.55756,     0.55856,     0.55956,     0.56056,     0.56156,     0.56256,     0.56356,     0.56456,     0.56557,     0.56657,     0.56757,     0.56857,     0.56957,     0.57057,     0.57157,     0.57257,     0.57357,     0.57457,     0.57558,\n",
       "           0.57658,     0.57758,     0.57858,     0.57958,     0.58058,     0.58158,     0.58258,     0.58358,     0.58458,     0.58559,     0.58659,     0.58759,     0.58859,     0.58959,     0.59059,     0.59159,     0.59259,     0.59359,     0.59459,      0.5956,      0.5966,      0.5976,      0.5986,      0.5996,\n",
       "            0.6006,      0.6016,      0.6026,      0.6036,      0.6046,     0.60561,     0.60661,     0.60761,     0.60861,     0.60961,     0.61061,     0.61161,     0.61261,     0.61361,     0.61461,     0.61562,     0.61662,     0.61762,     0.61862,     0.61962,     0.62062,     0.62162,     0.62262,     0.62362,\n",
       "           0.62462,     0.62563,     0.62663,     0.62763,     0.62863,     0.62963,     0.63063,     0.63163,     0.63263,     0.63363,     0.63463,     0.63564,     0.63664,     0.63764,     0.63864,     0.63964,     0.64064,     0.64164,     0.64264,     0.64364,     0.64464,     0.64565,     0.64665,     0.64765,\n",
       "           0.64865,     0.64965,     0.65065,     0.65165,     0.65265,     0.65365,     0.65465,     0.65566,     0.65666,     0.65766,     0.65866,     0.65966,     0.66066,     0.66166,     0.66266,     0.66366,     0.66466,     0.66567,     0.66667,     0.66767,     0.66867,     0.66967,     0.67067,     0.67167,\n",
       "           0.67267,     0.67367,     0.67467,     0.67568,     0.67668,     0.67768,     0.67868,     0.67968,     0.68068,     0.68168,     0.68268,     0.68368,     0.68468,     0.68569,     0.68669,     0.68769,     0.68869,     0.68969,     0.69069,     0.69169,     0.69269,     0.69369,     0.69469,      0.6957,\n",
       "            0.6967,      0.6977,      0.6987,      0.6997,      0.7007,      0.7017,      0.7027,      0.7037,      0.7047,     0.70571,     0.70671,     0.70771,     0.70871,     0.70971,     0.71071,     0.71171,     0.71271,     0.71371,     0.71471,     0.71572,     0.71672,     0.71772,     0.71872,     0.71972,\n",
       "           0.72072,     0.72172,     0.72272,     0.72372,     0.72472,     0.72573,     0.72673,     0.72773,     0.72873,     0.72973,     0.73073,     0.73173,     0.73273,     0.73373,     0.73473,     0.73574,     0.73674,     0.73774,     0.73874,     0.73974,     0.74074,     0.74174,     0.74274,     0.74374,\n",
       "           0.74474,     0.74575,     0.74675,     0.74775,     0.74875,     0.74975,     0.75075,     0.75175,     0.75275,     0.75375,     0.75475,     0.75576,     0.75676,     0.75776,     0.75876,     0.75976,     0.76076,     0.76176,     0.76276,     0.76376,     0.76476,     0.76577,     0.76677,     0.76777,\n",
       "           0.76877,     0.76977,     0.77077,     0.77177,     0.77277,     0.77377,     0.77477,     0.77578,     0.77678,     0.77778,     0.77878,     0.77978,     0.78078,     0.78178,     0.78278,     0.78378,     0.78478,     0.78579,     0.78679,     0.78779,     0.78879,     0.78979,     0.79079,     0.79179,\n",
       "           0.79279,     0.79379,     0.79479,      0.7958,      0.7968,      0.7978,      0.7988,      0.7998,      0.8008,      0.8018,      0.8028,      0.8038,      0.8048,     0.80581,     0.80681,     0.80781,     0.80881,     0.80981,     0.81081,     0.81181,     0.81281,     0.81381,     0.81481,     0.81582,\n",
       "           0.81682,     0.81782,     0.81882,     0.81982,     0.82082,     0.82182,     0.82282,     0.82382,     0.82482,     0.82583,     0.82683,     0.82783,     0.82883,     0.82983,     0.83083,     0.83183,     0.83283,     0.83383,     0.83483,     0.83584,     0.83684,     0.83784,     0.83884,     0.83984,\n",
       "           0.84084,     0.84184,     0.84284,     0.84384,     0.84484,     0.84585,     0.84685,     0.84785,     0.84885,     0.84985,     0.85085,     0.85185,     0.85285,     0.85385,     0.85485,     0.85586,     0.85686,     0.85786,     0.85886,     0.85986,     0.86086,     0.86186,     0.86286,     0.86386,\n",
       "           0.86486,     0.86587,     0.86687,     0.86787,     0.86887,     0.86987,     0.87087,     0.87187,     0.87287,     0.87387,     0.87487,     0.87588,     0.87688,     0.87788,     0.87888,     0.87988,     0.88088,     0.88188,     0.88288,     0.88388,     0.88488,     0.88589,     0.88689,     0.88789,\n",
       "           0.88889,     0.88989,     0.89089,     0.89189,     0.89289,     0.89389,     0.89489,      0.8959,      0.8969,      0.8979,      0.8989,      0.8999,      0.9009,      0.9019,      0.9029,      0.9039,      0.9049,     0.90591,     0.90691,     0.90791,     0.90891,     0.90991,     0.91091,     0.91191,\n",
       "           0.91291,     0.91391,     0.91491,     0.91592,     0.91692,     0.91792,     0.91892,     0.91992,     0.92092,     0.92192,     0.92292,     0.92392,     0.92492,     0.92593,     0.92693,     0.92793,     0.92893,     0.92993,     0.93093,     0.93193,     0.93293,     0.93393,     0.93493,     0.93594,\n",
       "           0.93694,     0.93794,     0.93894,     0.93994,     0.94094,     0.94194,     0.94294,     0.94394,     0.94494,     0.94595,     0.94695,     0.94795,     0.94895,     0.94995,     0.95095,     0.95195,     0.95295,     0.95395,     0.95495,     0.95596,     0.95696,     0.95796,     0.95896,     0.95996,\n",
       "           0.96096,     0.96196,     0.96296,     0.96396,     0.96496,     0.96597,     0.96697,     0.96797,     0.96897,     0.96997,     0.97097,     0.97197,     0.97297,     0.97397,     0.97497,     0.97598,     0.97698,     0.97798,     0.97898,     0.97998,     0.98098,     0.98198,     0.98298,     0.98398,\n",
       "           0.98498,     0.98599,     0.98699,     0.98799,     0.98899,     0.98999,     0.99099,     0.99199,     0.99299,     0.99399,     0.99499,       0.996,       0.997,       0.998,       0.999,           1]), array([[    0.97753,     0.97753,     0.98553, ...,           1,           1,           1],\n",
       "       [    0.87791,     0.87791,     0.93083, ...,           1,           1,           1],\n",
       "       [     0.9021,      0.9021,     0.95568, ...,           1,           1,           1],\n",
       "       ...,\n",
       "       [    0.92222,     0.92222,     0.95755, ...,           1,           1,           1],\n",
       "       [     0.9798,      0.9798,     0.98949, ...,           1,           1,           1],\n",
       "       [    0.91304,     0.91304,      0.9492, ...,           1,           1,           1]]), 'Confidence', 'Precision'], [array([          0,    0.001001,    0.002002,    0.003003,    0.004004,    0.005005,    0.006006,    0.007007,    0.008008,    0.009009,     0.01001,    0.011011,    0.012012,    0.013013,    0.014014,    0.015015,    0.016016,    0.017017,    0.018018,    0.019019,     0.02002,    0.021021,    0.022022,    0.023023,\n",
       "          0.024024,    0.025025,    0.026026,    0.027027,    0.028028,    0.029029,     0.03003,    0.031031,    0.032032,    0.033033,    0.034034,    0.035035,    0.036036,    0.037037,    0.038038,    0.039039,     0.04004,    0.041041,    0.042042,    0.043043,    0.044044,    0.045045,    0.046046,    0.047047,\n",
       "          0.048048,    0.049049,     0.05005,    0.051051,    0.052052,    0.053053,    0.054054,    0.055055,    0.056056,    0.057057,    0.058058,    0.059059,     0.06006,    0.061061,    0.062062,    0.063063,    0.064064,    0.065065,    0.066066,    0.067067,    0.068068,    0.069069,     0.07007,    0.071071,\n",
       "          0.072072,    0.073073,    0.074074,    0.075075,    0.076076,    0.077077,    0.078078,    0.079079,     0.08008,    0.081081,    0.082082,    0.083083,    0.084084,    0.085085,    0.086086,    0.087087,    0.088088,    0.089089,     0.09009,    0.091091,    0.092092,    0.093093,    0.094094,    0.095095,\n",
       "          0.096096,    0.097097,    0.098098,    0.099099,      0.1001,      0.1011,      0.1021,      0.1031,      0.1041,     0.10511,     0.10611,     0.10711,     0.10811,     0.10911,     0.11011,     0.11111,     0.11211,     0.11311,     0.11411,     0.11512,     0.11612,     0.11712,     0.11812,     0.11912,\n",
       "           0.12012,     0.12112,     0.12212,     0.12312,     0.12412,     0.12513,     0.12613,     0.12713,     0.12813,     0.12913,     0.13013,     0.13113,     0.13213,     0.13313,     0.13413,     0.13514,     0.13614,     0.13714,     0.13814,     0.13914,     0.14014,     0.14114,     0.14214,     0.14314,\n",
       "           0.14414,     0.14515,     0.14615,     0.14715,     0.14815,     0.14915,     0.15015,     0.15115,     0.15215,     0.15315,     0.15415,     0.15516,     0.15616,     0.15716,     0.15816,     0.15916,     0.16016,     0.16116,     0.16216,     0.16316,     0.16416,     0.16517,     0.16617,     0.16717,\n",
       "           0.16817,     0.16917,     0.17017,     0.17117,     0.17217,     0.17317,     0.17417,     0.17518,     0.17618,     0.17718,     0.17818,     0.17918,     0.18018,     0.18118,     0.18218,     0.18318,     0.18418,     0.18519,     0.18619,     0.18719,     0.18819,     0.18919,     0.19019,     0.19119,\n",
       "           0.19219,     0.19319,     0.19419,      0.1952,      0.1962,      0.1972,      0.1982,      0.1992,      0.2002,      0.2012,      0.2022,      0.2032,      0.2042,     0.20521,     0.20621,     0.20721,     0.20821,     0.20921,     0.21021,     0.21121,     0.21221,     0.21321,     0.21421,     0.21522,\n",
       "           0.21622,     0.21722,     0.21822,     0.21922,     0.22022,     0.22122,     0.22222,     0.22322,     0.22422,     0.22523,     0.22623,     0.22723,     0.22823,     0.22923,     0.23023,     0.23123,     0.23223,     0.23323,     0.23423,     0.23524,     0.23624,     0.23724,     0.23824,     0.23924,\n",
       "           0.24024,     0.24124,     0.24224,     0.24324,     0.24424,     0.24525,     0.24625,     0.24725,     0.24825,     0.24925,     0.25025,     0.25125,     0.25225,     0.25325,     0.25425,     0.25526,     0.25626,     0.25726,     0.25826,     0.25926,     0.26026,     0.26126,     0.26226,     0.26326,\n",
       "           0.26426,     0.26527,     0.26627,     0.26727,     0.26827,     0.26927,     0.27027,     0.27127,     0.27227,     0.27327,     0.27427,     0.27528,     0.27628,     0.27728,     0.27828,     0.27928,     0.28028,     0.28128,     0.28228,     0.28328,     0.28428,     0.28529,     0.28629,     0.28729,\n",
       "           0.28829,     0.28929,     0.29029,     0.29129,     0.29229,     0.29329,     0.29429,      0.2953,      0.2963,      0.2973,      0.2983,      0.2993,      0.3003,      0.3013,      0.3023,      0.3033,      0.3043,     0.30531,     0.30631,     0.30731,     0.30831,     0.30931,     0.31031,     0.31131,\n",
       "           0.31231,     0.31331,     0.31431,     0.31532,     0.31632,     0.31732,     0.31832,     0.31932,     0.32032,     0.32132,     0.32232,     0.32332,     0.32432,     0.32533,     0.32633,     0.32733,     0.32833,     0.32933,     0.33033,     0.33133,     0.33233,     0.33333,     0.33433,     0.33534,\n",
       "           0.33634,     0.33734,     0.33834,     0.33934,     0.34034,     0.34134,     0.34234,     0.34334,     0.34434,     0.34535,     0.34635,     0.34735,     0.34835,     0.34935,     0.35035,     0.35135,     0.35235,     0.35335,     0.35435,     0.35536,     0.35636,     0.35736,     0.35836,     0.35936,\n",
       "           0.36036,     0.36136,     0.36236,     0.36336,     0.36436,     0.36537,     0.36637,     0.36737,     0.36837,     0.36937,     0.37037,     0.37137,     0.37237,     0.37337,     0.37437,     0.37538,     0.37638,     0.37738,     0.37838,     0.37938,     0.38038,     0.38138,     0.38238,     0.38338,\n",
       "           0.38438,     0.38539,     0.38639,     0.38739,     0.38839,     0.38939,     0.39039,     0.39139,     0.39239,     0.39339,     0.39439,      0.3954,      0.3964,      0.3974,      0.3984,      0.3994,      0.4004,      0.4014,      0.4024,      0.4034,      0.4044,     0.40541,     0.40641,     0.40741,\n",
       "           0.40841,     0.40941,     0.41041,     0.41141,     0.41241,     0.41341,     0.41441,     0.41542,     0.41642,     0.41742,     0.41842,     0.41942,     0.42042,     0.42142,     0.42242,     0.42342,     0.42442,     0.42543,     0.42643,     0.42743,     0.42843,     0.42943,     0.43043,     0.43143,\n",
       "           0.43243,     0.43343,     0.43443,     0.43544,     0.43644,     0.43744,     0.43844,     0.43944,     0.44044,     0.44144,     0.44244,     0.44344,     0.44444,     0.44545,     0.44645,     0.44745,     0.44845,     0.44945,     0.45045,     0.45145,     0.45245,     0.45345,     0.45445,     0.45546,\n",
       "           0.45646,     0.45746,     0.45846,     0.45946,     0.46046,     0.46146,     0.46246,     0.46346,     0.46446,     0.46547,     0.46647,     0.46747,     0.46847,     0.46947,     0.47047,     0.47147,     0.47247,     0.47347,     0.47447,     0.47548,     0.47648,     0.47748,     0.47848,     0.47948,\n",
       "           0.48048,     0.48148,     0.48248,     0.48348,     0.48448,     0.48549,     0.48649,     0.48749,     0.48849,     0.48949,     0.49049,     0.49149,     0.49249,     0.49349,     0.49449,      0.4955,      0.4965,      0.4975,      0.4985,      0.4995,      0.5005,      0.5015,      0.5025,      0.5035,\n",
       "            0.5045,     0.50551,     0.50651,     0.50751,     0.50851,     0.50951,     0.51051,     0.51151,     0.51251,     0.51351,     0.51451,     0.51552,     0.51652,     0.51752,     0.51852,     0.51952,     0.52052,     0.52152,     0.52252,     0.52352,     0.52452,     0.52553,     0.52653,     0.52753,\n",
       "           0.52853,     0.52953,     0.53053,     0.53153,     0.53253,     0.53353,     0.53453,     0.53554,     0.53654,     0.53754,     0.53854,     0.53954,     0.54054,     0.54154,     0.54254,     0.54354,     0.54454,     0.54555,     0.54655,     0.54755,     0.54855,     0.54955,     0.55055,     0.55155,\n",
       "           0.55255,     0.55355,     0.55455,     0.55556,     0.55656,     0.55756,     0.55856,     0.55956,     0.56056,     0.56156,     0.56256,     0.56356,     0.56456,     0.56557,     0.56657,     0.56757,     0.56857,     0.56957,     0.57057,     0.57157,     0.57257,     0.57357,     0.57457,     0.57558,\n",
       "           0.57658,     0.57758,     0.57858,     0.57958,     0.58058,     0.58158,     0.58258,     0.58358,     0.58458,     0.58559,     0.58659,     0.58759,     0.58859,     0.58959,     0.59059,     0.59159,     0.59259,     0.59359,     0.59459,      0.5956,      0.5966,      0.5976,      0.5986,      0.5996,\n",
       "            0.6006,      0.6016,      0.6026,      0.6036,      0.6046,     0.60561,     0.60661,     0.60761,     0.60861,     0.60961,     0.61061,     0.61161,     0.61261,     0.61361,     0.61461,     0.61562,     0.61662,     0.61762,     0.61862,     0.61962,     0.62062,     0.62162,     0.62262,     0.62362,\n",
       "           0.62462,     0.62563,     0.62663,     0.62763,     0.62863,     0.62963,     0.63063,     0.63163,     0.63263,     0.63363,     0.63463,     0.63564,     0.63664,     0.63764,     0.63864,     0.63964,     0.64064,     0.64164,     0.64264,     0.64364,     0.64464,     0.64565,     0.64665,     0.64765,\n",
       "           0.64865,     0.64965,     0.65065,     0.65165,     0.65265,     0.65365,     0.65465,     0.65566,     0.65666,     0.65766,     0.65866,     0.65966,     0.66066,     0.66166,     0.66266,     0.66366,     0.66466,     0.66567,     0.66667,     0.66767,     0.66867,     0.66967,     0.67067,     0.67167,\n",
       "           0.67267,     0.67367,     0.67467,     0.67568,     0.67668,     0.67768,     0.67868,     0.67968,     0.68068,     0.68168,     0.68268,     0.68368,     0.68468,     0.68569,     0.68669,     0.68769,     0.68869,     0.68969,     0.69069,     0.69169,     0.69269,     0.69369,     0.69469,      0.6957,\n",
       "            0.6967,      0.6977,      0.6987,      0.6997,      0.7007,      0.7017,      0.7027,      0.7037,      0.7047,     0.70571,     0.70671,     0.70771,     0.70871,     0.70971,     0.71071,     0.71171,     0.71271,     0.71371,     0.71471,     0.71572,     0.71672,     0.71772,     0.71872,     0.71972,\n",
       "           0.72072,     0.72172,     0.72272,     0.72372,     0.72472,     0.72573,     0.72673,     0.72773,     0.72873,     0.72973,     0.73073,     0.73173,     0.73273,     0.73373,     0.73473,     0.73574,     0.73674,     0.73774,     0.73874,     0.73974,     0.74074,     0.74174,     0.74274,     0.74374,\n",
       "           0.74474,     0.74575,     0.74675,     0.74775,     0.74875,     0.74975,     0.75075,     0.75175,     0.75275,     0.75375,     0.75475,     0.75576,     0.75676,     0.75776,     0.75876,     0.75976,     0.76076,     0.76176,     0.76276,     0.76376,     0.76476,     0.76577,     0.76677,     0.76777,\n",
       "           0.76877,     0.76977,     0.77077,     0.77177,     0.77277,     0.77377,     0.77477,     0.77578,     0.77678,     0.77778,     0.77878,     0.77978,     0.78078,     0.78178,     0.78278,     0.78378,     0.78478,     0.78579,     0.78679,     0.78779,     0.78879,     0.78979,     0.79079,     0.79179,\n",
       "           0.79279,     0.79379,     0.79479,      0.7958,      0.7968,      0.7978,      0.7988,      0.7998,      0.8008,      0.8018,      0.8028,      0.8038,      0.8048,     0.80581,     0.80681,     0.80781,     0.80881,     0.80981,     0.81081,     0.81181,     0.81281,     0.81381,     0.81481,     0.81582,\n",
       "           0.81682,     0.81782,     0.81882,     0.81982,     0.82082,     0.82182,     0.82282,     0.82382,     0.82482,     0.82583,     0.82683,     0.82783,     0.82883,     0.82983,     0.83083,     0.83183,     0.83283,     0.83383,     0.83483,     0.83584,     0.83684,     0.83784,     0.83884,     0.83984,\n",
       "           0.84084,     0.84184,     0.84284,     0.84384,     0.84484,     0.84585,     0.84685,     0.84785,     0.84885,     0.84985,     0.85085,     0.85185,     0.85285,     0.85385,     0.85485,     0.85586,     0.85686,     0.85786,     0.85886,     0.85986,     0.86086,     0.86186,     0.86286,     0.86386,\n",
       "           0.86486,     0.86587,     0.86687,     0.86787,     0.86887,     0.86987,     0.87087,     0.87187,     0.87287,     0.87387,     0.87487,     0.87588,     0.87688,     0.87788,     0.87888,     0.87988,     0.88088,     0.88188,     0.88288,     0.88388,     0.88488,     0.88589,     0.88689,     0.88789,\n",
       "           0.88889,     0.88989,     0.89089,     0.89189,     0.89289,     0.89389,     0.89489,      0.8959,      0.8969,      0.8979,      0.8989,      0.8999,      0.9009,      0.9019,      0.9029,      0.9039,      0.9049,     0.90591,     0.90691,     0.90791,     0.90891,     0.90991,     0.91091,     0.91191,\n",
       "           0.91291,     0.91391,     0.91491,     0.91592,     0.91692,     0.91792,     0.91892,     0.91992,     0.92092,     0.92192,     0.92292,     0.92392,     0.92492,     0.92593,     0.92693,     0.92793,     0.92893,     0.92993,     0.93093,     0.93193,     0.93293,     0.93393,     0.93493,     0.93594,\n",
       "           0.93694,     0.93794,     0.93894,     0.93994,     0.94094,     0.94194,     0.94294,     0.94394,     0.94494,     0.94595,     0.94695,     0.94795,     0.94895,     0.94995,     0.95095,     0.95195,     0.95295,     0.95395,     0.95495,     0.95596,     0.95696,     0.95796,     0.95896,     0.95996,\n",
       "           0.96096,     0.96196,     0.96296,     0.96396,     0.96496,     0.96597,     0.96697,     0.96797,     0.96897,     0.96997,     0.97097,     0.97197,     0.97297,     0.97397,     0.97497,     0.97598,     0.97698,     0.97798,     0.97898,     0.97998,     0.98098,     0.98198,     0.98298,     0.98398,\n",
       "           0.98498,     0.98599,     0.98699,     0.98799,     0.98899,     0.98999,     0.99099,     0.99199,     0.99299,     0.99399,     0.99499,       0.996,       0.997,       0.998,       0.999,           1]), array([[          1,           1,           1, ...,           0,           0,           0],\n",
       "       [          1,           1,           1, ...,           0,           0,           0],\n",
       "       [          1,           1,           1, ...,           0,           0,           0],\n",
       "       ...,\n",
       "       [          1,           1,           1, ...,           0,           0,           0],\n",
       "       [          1,           1,           1, ...,           0,           0,           0],\n",
       "       [          1,           1,           1, ...,           0,           0,           0]]), 'Confidence', 'Recall']]\n",
       "fitness: 0.9948458325225997\n",
       "keys: ['metrics/precision(B)', 'metrics/recall(B)', 'metrics/mAP50(B)', 'metrics/mAP50-95(B)']\n",
       "maps: array([      0.995,     0.99357,       0.995,       0.995,       0.995,       0.995,       0.995,       0.995,       0.995,     0.99403,       0.995,       0.995,       0.995,       0.995])\n",
       "names: {0: '0000-感叹号', 1: '0001-距离', 2: '0002-战斗-鸣徽', 3: '0003-战斗-武备', 4: '0004-战斗-硬币', 5: '0005-挑战-无伤', 6: '0006-挑战-限时', 7: '0007-偶遇事件', 8: '0008-代价之间', 9: '0009-休憩调息', 10: '0010-邦布商店', 11: '0011-挚交会谈', 12: '0012-战斗-道中危机', 13: '0013-战斗-终结之役'}\n",
       "plot: True\n",
       "results_dict: {'metrics/precision(B)': 0.9993270584557672, 'metrics/recall(B)': 1.0, 'metrics/mAP50(B)': 0.9949999999999998, 'metrics/mAP50-95(B)': 0.9948287028028886, 'fitness': 0.9948458325225997}\n",
       "save_dir: WindowsPath('D:/code/workspace/OneDragon-YOLO/ultralytics/runs/zzz_lost_void_det_2208/yolov8n-736')\n",
       "speed: {'preprocess': 0.4951512857234522, 'inference': 2.0370051101013855, 'loss': 0.0018339890700120192, 'postprocess': 1.192909457308032}\n",
       "task: 'detect'"
      ]
     },
     "execution_count": 9,
     "metadata": {},
     "output_type": "execute_result"
    }
   ],
   "source": [
    "model.train(\n",
    "    data=ultralytics_utils.get_dataset_yaml_path(dataset_name),  # 数据集配置文件的位置\n",
    "    project=ultralytics_utils.get_dataset_model_dir(dataset_name),  # 训练模型的数据（包括模型文件）的自动保存位置\n",
    "    name= train_name,\n",
    "    imgsz=train_img_size,\n",
    "    epochs=1000,\n",
    "    save_period=100,\n",
    "    batch=-1,  # 根据可使用内存 自动判断batch_size\n",
    "    val=False,  # 关闭验证\n",
    "    exist_ok=True,\n",
    "    scale=0,  # 不需要缩放处理\n",
    "    flipud=0, fliplr=0,  # 不需要翻转对称\n",
    "    erasing=0,  # 不需要消除了 图片下方空白比较多\n",
    "    hsv_h=0, hsv_s=0, hsv_v=0,  # 关闭色彩调节\n",
    "    mosaic=0,  # 不需要拼接 使用原装大小\n",
    ")"
   ]
  },
  {
   "cell_type": "code",
   "execution_count": 10,
   "id": "863e41a5-d98a-44fb-9e61-e4990bcb4701",
   "metadata": {},
   "outputs": [
    {
     "name": "stdout",
     "output_type": "stream",
     "text": [
      "Ultralytics 8.3.1  Python-3.11.9 torch-2.3.1 CPU (AMD Ryzen 9 5950X 16-Core Processor)\n",
      "Model summary (fused): 186 layers, 2,687,098 parameters, 0 gradients, 6.8 GFLOPs\n",
      "\n",
      "\u001b[34m\u001b[1mPyTorch:\u001b[0m starting from 'D:\\code\\workspace\\OneDragon-YOLO\\ultralytics\\runs\\zzz_lost_void_det_2208\\yolov8n-736\\weights\\best.pt' with input shape (1, 3, 416, 736) BCHW and output shape(s) (1, 18, 6279) (5.6 MB)\n",
      "\u001b[31m\u001b[1mrequirements:\u001b[0m Ultralytics requirements ['onnxslim==0.1.34', 'onnxruntime-gpu'] not found, attempting AutoUpdate...\n",
      "\u001b[31m\u001b[1mrequirements:\u001b[0m  AutoUpdate skipped (offline)\n",
      "\n",
      "\u001b[34m\u001b[1mONNX:\u001b[0m starting export with onnx 1.16.0 opset 17...\n",
      "\u001b[34m\u001b[1mONNX:\u001b[0m simplifier failure: No module named 'onnxslim'\n",
      "\u001b[34m\u001b[1mONNX:\u001b[0m export success  0.6s, saved as 'D:\\code\\workspace\\OneDragon-YOLO\\ultralytics\\runs\\zzz_lost_void_det_2208\\yolov8n-736\\weights\\best.onnx' (10.4 MB)\n",
      "\n",
      "Export complete (0.8s)\n",
      "Results saved to \u001b[1mD:\\code\\workspace\\OneDragon-YOLO\\ultralytics\\runs\\zzz_lost_void_det_2208\\yolov8n-736\\weights\u001b[0m\n",
      "Predict:         yolo predict task=detect model=D:\\code\\workspace\\OneDragon-YOLO\\ultralytics\\runs\\zzz_lost_void_det_2208\\yolov8n-736\\weights\\best.onnx imgsz=416,736  \n",
      "Validate:        yolo val task=detect model=D:\\code\\workspace\\OneDragon-YOLO\\ultralytics\\runs\\zzz_lost_void_det_2208\\yolov8n-736\\weights\\best.onnx imgsz=416,736 data=D:\\code\\workspace\\OneDragon-YOLO\\ultralytics\\datasets\\zzz_lost_void_det_2208\\dataset.yaml  WARNING  non-PyTorch val requires square images, 'imgsz=[416, 736]' will not work. Use export 'imgsz=736' if val is required.\n",
      "Visualize:       https://netron.app\n"
     ]
    }
   ],
   "source": [
    "ultralytics_utils.export_model(\n",
    "    dataset_name=dataset_name,\n",
    "    train_name=train_name,\n",
    "    imgsz=export_img_size\n",
    ")"
   ]
  },
  {
   "cell_type": "code",
   "execution_count": 11,
   "id": "7b339773-2a77-4a37-b51f-5cc07990bd53",
   "metadata": {
    "scrolled": true
   },
   "outputs": [
    {
     "name": "stdout",
     "output_type": "stream",
     "text": [
      "Ultralytics 8.3.1  Python-3.11.9 torch-2.3.1 CPU (AMD Ryzen 9 5950X 16-Core Processor)\n",
      "Model summary (fused): 186 layers, 2,687,098 parameters, 0 gradients, 6.8 GFLOPs\n",
      "\n",
      "\u001b[34m\u001b[1mPyTorch:\u001b[0m starting from 'D:\\code\\workspace\\OneDragon-YOLO\\ultralytics\\runs\\zzz_lost_void_det_2208\\yolov8n-736\\weights\\epoch100.pt' with input shape (1, 3, 416, 736) BCHW and output shape(s) (1, 18, 6279) (15.9 MB)\n",
      "\u001b[31m\u001b[1mrequirements:\u001b[0m Ultralytics requirements ['onnxslim==0.1.34', 'onnxruntime-gpu'] not found, attempting AutoUpdate...\n",
      "\u001b[31m\u001b[1mrequirements:\u001b[0m  AutoUpdate skipped (offline)\n",
      "\n",
      "\u001b[34m\u001b[1mONNX:\u001b[0m starting export with onnx 1.16.0 opset 17...\n",
      "\u001b[34m\u001b[1mONNX:\u001b[0m simplifier failure: No module named 'onnxslim'\n",
      "\u001b[34m\u001b[1mONNX:\u001b[0m export success  0.5s, saved as 'D:\\code\\workspace\\OneDragon-YOLO\\ultralytics\\runs\\zzz_lost_void_det_2208\\yolov8n-736\\weights\\epoch100.onnx' (10.4 MB)\n",
      "\n",
      "Export complete (0.7s)\n",
      "Results saved to \u001b[1mD:\\code\\workspace\\OneDragon-YOLO\\ultralytics\\runs\\zzz_lost_void_det_2208\\yolov8n-736\\weights\u001b[0m\n",
      "Predict:         yolo predict task=detect model=D:\\code\\workspace\\OneDragon-YOLO\\ultralytics\\runs\\zzz_lost_void_det_2208\\yolov8n-736\\weights\\epoch100.onnx imgsz=416,736  \n",
      "Validate:        yolo val task=detect model=D:\\code\\workspace\\OneDragon-YOLO\\ultralytics\\runs\\zzz_lost_void_det_2208\\yolov8n-736\\weights\\epoch100.onnx imgsz=416,736 data=D:\\code\\workspace\\OneDragon-YOLO\\ultralytics\\datasets\\zzz_lost_void_det_2208\\dataset.yaml  WARNING  non-PyTorch val requires square images, 'imgsz=[416, 736]' will not work. Use export 'imgsz=736' if val is required.\n",
      "Visualize:       https://netron.app\n",
      "Ultralytics 8.3.1  Python-3.11.9 torch-2.3.1 CPU (AMD Ryzen 9 5950X 16-Core Processor)\n",
      "Model summary (fused): 186 layers, 2,687,098 parameters, 0 gradients, 6.8 GFLOPs\n",
      "\n",
      "\u001b[34m\u001b[1mPyTorch:\u001b[0m starting from 'D:\\code\\workspace\\OneDragon-YOLO\\ultralytics\\runs\\zzz_lost_void_det_2208\\yolov8n-736\\weights\\epoch200.pt' with input shape (1, 3, 416, 736) BCHW and output shape(s) (1, 18, 6279) (15.9 MB)\n",
      "\u001b[31m\u001b[1mrequirements:\u001b[0m Ultralytics requirements ['onnxslim==0.1.34', 'onnxruntime-gpu'] not found, attempting AutoUpdate...\n",
      "\u001b[31m\u001b[1mrequirements:\u001b[0m  AutoUpdate skipped (offline)\n",
      "\n",
      "\u001b[34m\u001b[1mONNX:\u001b[0m starting export with onnx 1.16.0 opset 17...\n",
      "\u001b[34m\u001b[1mONNX:\u001b[0m simplifier failure: No module named 'onnxslim'\n",
      "\u001b[34m\u001b[1mONNX:\u001b[0m export success  0.5s, saved as 'D:\\code\\workspace\\OneDragon-YOLO\\ultralytics\\runs\\zzz_lost_void_det_2208\\yolov8n-736\\weights\\epoch200.onnx' (10.4 MB)\n",
      "\n",
      "Export complete (0.7s)\n",
      "Results saved to \u001b[1mD:\\code\\workspace\\OneDragon-YOLO\\ultralytics\\runs\\zzz_lost_void_det_2208\\yolov8n-736\\weights\u001b[0m\n",
      "Predict:         yolo predict task=detect model=D:\\code\\workspace\\OneDragon-YOLO\\ultralytics\\runs\\zzz_lost_void_det_2208\\yolov8n-736\\weights\\epoch200.onnx imgsz=416,736  \n",
      "Validate:        yolo val task=detect model=D:\\code\\workspace\\OneDragon-YOLO\\ultralytics\\runs\\zzz_lost_void_det_2208\\yolov8n-736\\weights\\epoch200.onnx imgsz=416,736 data=D:\\code\\workspace\\OneDragon-YOLO\\ultralytics\\datasets\\zzz_lost_void_det_2208\\dataset.yaml  WARNING  non-PyTorch val requires square images, 'imgsz=[416, 736]' will not work. Use export 'imgsz=736' if val is required.\n",
      "Visualize:       https://netron.app\n",
      "Ultralytics 8.3.1  Python-3.11.9 torch-2.3.1 CPU (AMD Ryzen 9 5950X 16-Core Processor)\n",
      "Model summary (fused): 186 layers, 2,687,098 parameters, 0 gradients, 6.8 GFLOPs\n",
      "\n",
      "\u001b[34m\u001b[1mPyTorch:\u001b[0m starting from 'D:\\code\\workspace\\OneDragon-YOLO\\ultralytics\\runs\\zzz_lost_void_det_2208\\yolov8n-736\\weights\\epoch300.pt' with input shape (1, 3, 416, 736) BCHW and output shape(s) (1, 18, 6279) (15.9 MB)\n",
      "\u001b[31m\u001b[1mrequirements:\u001b[0m Ultralytics requirements ['onnxslim==0.1.34', 'onnxruntime-gpu'] not found, attempting AutoUpdate...\n",
      "\u001b[31m\u001b[1mrequirements:\u001b[0m  AutoUpdate skipped (offline)\n",
      "\n",
      "\u001b[34m\u001b[1mONNX:\u001b[0m starting export with onnx 1.16.0 opset 17...\n",
      "\u001b[34m\u001b[1mONNX:\u001b[0m simplifier failure: No module named 'onnxslim'\n",
      "\u001b[34m\u001b[1mONNX:\u001b[0m export success  0.6s, saved as 'D:\\code\\workspace\\OneDragon-YOLO\\ultralytics\\runs\\zzz_lost_void_det_2208\\yolov8n-736\\weights\\epoch300.onnx' (10.4 MB)\n",
      "\n",
      "Export complete (0.8s)\n",
      "Results saved to \u001b[1mD:\\code\\workspace\\OneDragon-YOLO\\ultralytics\\runs\\zzz_lost_void_det_2208\\yolov8n-736\\weights\u001b[0m\n",
      "Predict:         yolo predict task=detect model=D:\\code\\workspace\\OneDragon-YOLO\\ultralytics\\runs\\zzz_lost_void_det_2208\\yolov8n-736\\weights\\epoch300.onnx imgsz=416,736  \n",
      "Validate:        yolo val task=detect model=D:\\code\\workspace\\OneDragon-YOLO\\ultralytics\\runs\\zzz_lost_void_det_2208\\yolov8n-736\\weights\\epoch300.onnx imgsz=416,736 data=D:\\code\\workspace\\OneDragon-YOLO\\ultralytics\\datasets\\zzz_lost_void_det_2208\\dataset.yaml  WARNING  non-PyTorch val requires square images, 'imgsz=[416, 736]' will not work. Use export 'imgsz=736' if val is required.\n",
      "Visualize:       https://netron.app\n",
      "Ultralytics 8.3.1  Python-3.11.9 torch-2.3.1 CPU (AMD Ryzen 9 5950X 16-Core Processor)\n",
      "Model summary (fused): 186 layers, 2,687,098 parameters, 0 gradients, 6.8 GFLOPs\n",
      "\n",
      "\u001b[34m\u001b[1mPyTorch:\u001b[0m starting from 'D:\\code\\workspace\\OneDragon-YOLO\\ultralytics\\runs\\zzz_lost_void_det_2208\\yolov8n-736\\weights\\epoch400.pt' with input shape (1, 3, 416, 736) BCHW and output shape(s) (1, 18, 6279) (15.9 MB)\n",
      "\u001b[31m\u001b[1mrequirements:\u001b[0m Ultralytics requirements ['onnxslim==0.1.34', 'onnxruntime-gpu'] not found, attempting AutoUpdate...\n",
      "\u001b[31m\u001b[1mrequirements:\u001b[0m  AutoUpdate skipped (offline)\n",
      "\n",
      "\u001b[34m\u001b[1mONNX:\u001b[0m starting export with onnx 1.16.0 opset 17...\n",
      "\u001b[34m\u001b[1mONNX:\u001b[0m simplifier failure: No module named 'onnxslim'\n",
      "\u001b[34m\u001b[1mONNX:\u001b[0m export success  0.5s, saved as 'D:\\code\\workspace\\OneDragon-YOLO\\ultralytics\\runs\\zzz_lost_void_det_2208\\yolov8n-736\\weights\\epoch400.onnx' (10.4 MB)\n",
      "\n",
      "Export complete (0.7s)\n",
      "Results saved to \u001b[1mD:\\code\\workspace\\OneDragon-YOLO\\ultralytics\\runs\\zzz_lost_void_det_2208\\yolov8n-736\\weights\u001b[0m\n",
      "Predict:         yolo predict task=detect model=D:\\code\\workspace\\OneDragon-YOLO\\ultralytics\\runs\\zzz_lost_void_det_2208\\yolov8n-736\\weights\\epoch400.onnx imgsz=416,736  \n",
      "Validate:        yolo val task=detect model=D:\\code\\workspace\\OneDragon-YOLO\\ultralytics\\runs\\zzz_lost_void_det_2208\\yolov8n-736\\weights\\epoch400.onnx imgsz=416,736 data=D:\\code\\workspace\\OneDragon-YOLO\\ultralytics\\datasets\\zzz_lost_void_det_2208\\dataset.yaml  WARNING  non-PyTorch val requires square images, 'imgsz=[416, 736]' will not work. Use export 'imgsz=736' if val is required.\n",
      "Visualize:       https://netron.app\n",
      "Ultralytics 8.3.1  Python-3.11.9 torch-2.3.1 CPU (AMD Ryzen 9 5950X 16-Core Processor)\n",
      "Model summary (fused): 186 layers, 2,687,098 parameters, 0 gradients, 6.8 GFLOPs\n",
      "\n",
      "\u001b[34m\u001b[1mPyTorch:\u001b[0m starting from 'D:\\code\\workspace\\OneDragon-YOLO\\ultralytics\\runs\\zzz_lost_void_det_2208\\yolov8n-736\\weights\\epoch500.pt' with input shape (1, 3, 416, 736) BCHW and output shape(s) (1, 18, 6279) (15.9 MB)\n",
      "\u001b[31m\u001b[1mrequirements:\u001b[0m Ultralytics requirements ['onnxslim==0.1.34', 'onnxruntime-gpu'] not found, attempting AutoUpdate...\n",
      "\u001b[31m\u001b[1mrequirements:\u001b[0m  AutoUpdate skipped (offline)\n",
      "\n",
      "\u001b[34m\u001b[1mONNX:\u001b[0m starting export with onnx 1.16.0 opset 17...\n",
      "\u001b[34m\u001b[1mONNX:\u001b[0m simplifier failure: No module named 'onnxslim'\n",
      "\u001b[34m\u001b[1mONNX:\u001b[0m export success  0.5s, saved as 'D:\\code\\workspace\\OneDragon-YOLO\\ultralytics\\runs\\zzz_lost_void_det_2208\\yolov8n-736\\weights\\epoch500.onnx' (10.4 MB)\n",
      "\n",
      "Export complete (0.7s)\n",
      "Results saved to \u001b[1mD:\\code\\workspace\\OneDragon-YOLO\\ultralytics\\runs\\zzz_lost_void_det_2208\\yolov8n-736\\weights\u001b[0m\n",
      "Predict:         yolo predict task=detect model=D:\\code\\workspace\\OneDragon-YOLO\\ultralytics\\runs\\zzz_lost_void_det_2208\\yolov8n-736\\weights\\epoch500.onnx imgsz=416,736  \n",
      "Validate:        yolo val task=detect model=D:\\code\\workspace\\OneDragon-YOLO\\ultralytics\\runs\\zzz_lost_void_det_2208\\yolov8n-736\\weights\\epoch500.onnx imgsz=416,736 data=D:\\code\\workspace\\OneDragon-YOLO\\ultralytics\\datasets\\zzz_lost_void_det_2208\\dataset.yaml  WARNING  non-PyTorch val requires square images, 'imgsz=[416, 736]' will not work. Use export 'imgsz=736' if val is required.\n",
      "Visualize:       https://netron.app\n",
      "Ultralytics 8.3.1  Python-3.11.9 torch-2.3.1 CPU (AMD Ryzen 9 5950X 16-Core Processor)\n",
      "Model summary (fused): 186 layers, 2,687,098 parameters, 0 gradients, 6.8 GFLOPs\n",
      "\n",
      "\u001b[34m\u001b[1mPyTorch:\u001b[0m starting from 'D:\\code\\workspace\\OneDragon-YOLO\\ultralytics\\runs\\zzz_lost_void_det_2208\\yolov8n-736\\weights\\epoch600.pt' with input shape (1, 3, 416, 736) BCHW and output shape(s) (1, 18, 6279) (15.9 MB)\n",
      "\u001b[31m\u001b[1mrequirements:\u001b[0m Ultralytics requirements ['onnxslim==0.1.34', 'onnxruntime-gpu'] not found, attempting AutoUpdate...\n",
      "\u001b[31m\u001b[1mrequirements:\u001b[0m  AutoUpdate skipped (offline)\n",
      "\n",
      "\u001b[34m\u001b[1mONNX:\u001b[0m starting export with onnx 1.16.0 opset 17...\n",
      "\u001b[34m\u001b[1mONNX:\u001b[0m simplifier failure: No module named 'onnxslim'\n",
      "\u001b[34m\u001b[1mONNX:\u001b[0m export success  0.5s, saved as 'D:\\code\\workspace\\OneDragon-YOLO\\ultralytics\\runs\\zzz_lost_void_det_2208\\yolov8n-736\\weights\\epoch600.onnx' (10.4 MB)\n",
      "\n",
      "Export complete (0.7s)\n",
      "Results saved to \u001b[1mD:\\code\\workspace\\OneDragon-YOLO\\ultralytics\\runs\\zzz_lost_void_det_2208\\yolov8n-736\\weights\u001b[0m\n",
      "Predict:         yolo predict task=detect model=D:\\code\\workspace\\OneDragon-YOLO\\ultralytics\\runs\\zzz_lost_void_det_2208\\yolov8n-736\\weights\\epoch600.onnx imgsz=416,736  \n",
      "Validate:        yolo val task=detect model=D:\\code\\workspace\\OneDragon-YOLO\\ultralytics\\runs\\zzz_lost_void_det_2208\\yolov8n-736\\weights\\epoch600.onnx imgsz=416,736 data=D:\\code\\workspace\\OneDragon-YOLO\\ultralytics\\datasets\\zzz_lost_void_det_2208\\dataset.yaml  WARNING  non-PyTorch val requires square images, 'imgsz=[416, 736]' will not work. Use export 'imgsz=736' if val is required.\n",
      "Visualize:       https://netron.app\n",
      "Ultralytics 8.3.1  Python-3.11.9 torch-2.3.1 CPU (AMD Ryzen 9 5950X 16-Core Processor)\n",
      "Model summary (fused): 186 layers, 2,687,098 parameters, 0 gradients, 6.8 GFLOPs\n",
      "\n",
      "\u001b[34m\u001b[1mPyTorch:\u001b[0m starting from 'D:\\code\\workspace\\OneDragon-YOLO\\ultralytics\\runs\\zzz_lost_void_det_2208\\yolov8n-736\\weights\\epoch700.pt' with input shape (1, 3, 416, 736) BCHW and output shape(s) (1, 18, 6279) (16.0 MB)\n",
      "\u001b[31m\u001b[1mrequirements:\u001b[0m Ultralytics requirements ['onnxslim==0.1.34', 'onnxruntime-gpu'] not found, attempting AutoUpdate...\n",
      "\u001b[31m\u001b[1mrequirements:\u001b[0m  AutoUpdate skipped (offline)\n",
      "\n",
      "\u001b[34m\u001b[1mONNX:\u001b[0m starting export with onnx 1.16.0 opset 17...\n",
      "\u001b[34m\u001b[1mONNX:\u001b[0m simplifier failure: No module named 'onnxslim'\n",
      "\u001b[34m\u001b[1mONNX:\u001b[0m export success  0.6s, saved as 'D:\\code\\workspace\\OneDragon-YOLO\\ultralytics\\runs\\zzz_lost_void_det_2208\\yolov8n-736\\weights\\epoch700.onnx' (10.4 MB)\n",
      "\n",
      "Export complete (0.8s)\n",
      "Results saved to \u001b[1mD:\\code\\workspace\\OneDragon-YOLO\\ultralytics\\runs\\zzz_lost_void_det_2208\\yolov8n-736\\weights\u001b[0m\n",
      "Predict:         yolo predict task=detect model=D:\\code\\workspace\\OneDragon-YOLO\\ultralytics\\runs\\zzz_lost_void_det_2208\\yolov8n-736\\weights\\epoch700.onnx imgsz=416,736  \n",
      "Validate:        yolo val task=detect model=D:\\code\\workspace\\OneDragon-YOLO\\ultralytics\\runs\\zzz_lost_void_det_2208\\yolov8n-736\\weights\\epoch700.onnx imgsz=416,736 data=D:\\code\\workspace\\OneDragon-YOLO\\ultralytics\\datasets\\zzz_lost_void_det_2208\\dataset.yaml  WARNING  non-PyTorch val requires square images, 'imgsz=[416, 736]' will not work. Use export 'imgsz=736' if val is required.\n",
      "Visualize:       https://netron.app\n",
      "Ultralytics 8.3.1  Python-3.11.9 torch-2.3.1 CPU (AMD Ryzen 9 5950X 16-Core Processor)\n",
      "Model summary (fused): 186 layers, 2,687,098 parameters, 0 gradients, 6.8 GFLOPs\n",
      "\n",
      "\u001b[34m\u001b[1mPyTorch:\u001b[0m starting from 'D:\\code\\workspace\\OneDragon-YOLO\\ultralytics\\runs\\zzz_lost_void_det_2208\\yolov8n-736\\weights\\epoch800.pt' with input shape (1, 3, 416, 736) BCHW and output shape(s) (1, 18, 6279) (16.0 MB)\n",
      "\u001b[31m\u001b[1mrequirements:\u001b[0m Ultralytics requirements ['onnxslim==0.1.34', 'onnxruntime-gpu'] not found, attempting AutoUpdate...\n",
      "\u001b[31m\u001b[1mrequirements:\u001b[0m  AutoUpdate skipped (offline)\n",
      "\n",
      "\u001b[34m\u001b[1mONNX:\u001b[0m starting export with onnx 1.16.0 opset 17...\n",
      "\u001b[34m\u001b[1mONNX:\u001b[0m simplifier failure: No module named 'onnxslim'\n",
      "\u001b[34m\u001b[1mONNX:\u001b[0m export success  0.5s, saved as 'D:\\code\\workspace\\OneDragon-YOLO\\ultralytics\\runs\\zzz_lost_void_det_2208\\yolov8n-736\\weights\\epoch800.onnx' (10.4 MB)\n",
      "\n",
      "Export complete (0.7s)\n",
      "Results saved to \u001b[1mD:\\code\\workspace\\OneDragon-YOLO\\ultralytics\\runs\\zzz_lost_void_det_2208\\yolov8n-736\\weights\u001b[0m\n",
      "Predict:         yolo predict task=detect model=D:\\code\\workspace\\OneDragon-YOLO\\ultralytics\\runs\\zzz_lost_void_det_2208\\yolov8n-736\\weights\\epoch800.onnx imgsz=416,736  \n",
      "Validate:        yolo val task=detect model=D:\\code\\workspace\\OneDragon-YOLO\\ultralytics\\runs\\zzz_lost_void_det_2208\\yolov8n-736\\weights\\epoch800.onnx imgsz=416,736 data=D:\\code\\workspace\\OneDragon-YOLO\\ultralytics\\datasets\\zzz_lost_void_det_2208\\dataset.yaml  WARNING  non-PyTorch val requires square images, 'imgsz=[416, 736]' will not work. Use export 'imgsz=736' if val is required.\n",
      "Visualize:       https://netron.app\n",
      "Ultralytics 8.3.1  Python-3.11.9 torch-2.3.1 CPU (AMD Ryzen 9 5950X 16-Core Processor)\n",
      "Model summary (fused): 186 layers, 2,687,098 parameters, 0 gradients, 6.8 GFLOPs\n",
      "\n",
      "\u001b[34m\u001b[1mPyTorch:\u001b[0m starting from 'D:\\code\\workspace\\OneDragon-YOLO\\ultralytics\\runs\\zzz_lost_void_det_2208\\yolov8n-736\\weights\\epoch900.pt' with input shape (1, 3, 416, 736) BCHW and output shape(s) (1, 18, 6279) (16.0 MB)\n",
      "\u001b[31m\u001b[1mrequirements:\u001b[0m Ultralytics requirements ['onnxslim==0.1.34', 'onnxruntime-gpu'] not found, attempting AutoUpdate...\n",
      "\u001b[31m\u001b[1mrequirements:\u001b[0m  AutoUpdate skipped (offline)\n",
      "\n",
      "\u001b[34m\u001b[1mONNX:\u001b[0m starting export with onnx 1.16.0 opset 17...\n",
      "\u001b[34m\u001b[1mONNX:\u001b[0m simplifier failure: No module named 'onnxslim'\n",
      "\u001b[34m\u001b[1mONNX:\u001b[0m export success  0.5s, saved as 'D:\\code\\workspace\\OneDragon-YOLO\\ultralytics\\runs\\zzz_lost_void_det_2208\\yolov8n-736\\weights\\epoch900.onnx' (10.4 MB)\n",
      "\n",
      "Export complete (0.7s)\n",
      "Results saved to \u001b[1mD:\\code\\workspace\\OneDragon-YOLO\\ultralytics\\runs\\zzz_lost_void_det_2208\\yolov8n-736\\weights\u001b[0m\n",
      "Predict:         yolo predict task=detect model=D:\\code\\workspace\\OneDragon-YOLO\\ultralytics\\runs\\zzz_lost_void_det_2208\\yolov8n-736\\weights\\epoch900.onnx imgsz=416,736  \n",
      "Validate:        yolo val task=detect model=D:\\code\\workspace\\OneDragon-YOLO\\ultralytics\\runs\\zzz_lost_void_det_2208\\yolov8n-736\\weights\\epoch900.onnx imgsz=416,736 data=D:\\code\\workspace\\OneDragon-YOLO\\ultralytics\\datasets\\zzz_lost_void_det_2208\\dataset.yaml  WARNING  non-PyTorch val requires square images, 'imgsz=[416, 736]' will not work. Use export 'imgsz=736' if val is required.\n",
      "Visualize:       https://netron.app\n"
     ]
    }
   ],
   "source": [
    "for i in range(1, 10):\n",
    "    model_name = 'epoch%d00' % i\n",
    "    ultralytics_utils.export_model(\n",
    "        dataset_name=dataset_name,\n",
    "        train_name=train_name,\n",
    "        imgsz=export_img_size,\n",
    "        model_name=model_name,\n",
    "        save_name=f'{train_name}-{model_name}'\n",
    "    )"
   ]
  },
  {
   "cell_type": "code",
   "execution_count": null,
   "id": "dba1ceac-be89-4024-b3b2-63d1761fa81d",
   "metadata": {},
   "outputs": [],
   "source": []
  }
 ],
 "metadata": {
  "kernelspec": {
   "display_name": "Python 3 (ipykernel)",
   "language": "python",
   "name": "python3"
  },
  "language_info": {
   "codemirror_mode": {
    "name": "ipython",
    "version": 3
   },
   "file_extension": ".py",
   "mimetype": "text/x-python",
   "name": "python",
   "nbconvert_exporter": "python",
   "pygments_lexer": "ipython3",
   "version": "3.11.9"
  }
 },
 "nbformat": 4,
 "nbformat_minor": 5
}

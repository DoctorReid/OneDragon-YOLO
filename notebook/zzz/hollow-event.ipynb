{
 "cells": [
  {
   "cell_type": "code",
   "execution_count": 1,
   "id": "2ccd20a0-e4f7-4ccc-8f98-4a069b707efb",
   "metadata": {},
   "outputs": [],
   "source": [
    "import pandas as pd\n",
    "import sys\n",
    "import os\n",
    "import math\n",
    "sys.path.append('../../src')"
   ]
  },
  {
   "cell_type": "code",
   "execution_count": 2,
   "id": "6bfd7549-a791-43b5-9045-2408985315af",
   "metadata": {},
   "outputs": [],
   "source": [
    "from train.devtools import os_utils\n",
    "from train.devtools import ultralytics_utils\n",
    "from train.devtools import yolo_dataset_utils"
   ]
  },
  {
   "cell_type": "code",
   "execution_count": 3,
   "id": "61d9666e-ed67-43ee-805c-96c1fde496f1",
   "metadata": {},
   "outputs": [],
   "source": [
    "ultralytics_utils.init_ultralytics_settings()"
   ]
  },
  {
   "cell_type": "code",
   "execution_count": 4,
   "id": "603bce91-cb98-45fd-9187-b6e37f065693",
   "metadata": {},
   "outputs": [],
   "source": [
    "# origin_img_size = 32 * 68\n",
    "# img_size_div = 2\n",
    "origin_img_size = 32 * 69\n",
    "img_size_div = 3\n",
    "train_img_size = origin_img_size // img_size_div\n",
    "\n",
    "export_width = origin_img_size // img_size_div\n",
    "export_height = math.ceil((export_width // 16 * 9) * 1.0 / 32) * 32\n",
    "export_img_size = (export_height, export_width) # 由于训练时候没有开启缩放，使用训练的尺寸效果会更好\n",
    "\n",
    "dataset_name = f'zzz_hollow_event_{origin_img_size}'\n",
    "\n",
    "# pretrained_model_name = 'yolo11n'\n",
    "pretrained_model_name = 'yolov8s'\n",
    "train_name = f'{pretrained_model_name}-{train_img_size}'"
   ]
  },
  {
   "cell_type": "code",
   "execution_count": 5,
   "id": "c0279b8a-e510-4d0f-a77f-01614927ded0",
   "metadata": {},
   "outputs": [
    {
     "data": {
      "text/plain": [
       "('zzz_hollow_event_2208', 'yolov8s-736', (416, 736))"
      ]
     },
     "execution_count": 5,
     "metadata": {},
     "output_type": "execute_result"
    }
   ],
   "source": [
    "dataset_name, train_name, export_img_size"
   ]
  },
  {
   "cell_type": "code",
   "execution_count": 6,
   "id": "608bc633-42d2-48a5-8b42-f14424237d8b",
   "metadata": {},
   "outputs": [
    {
     "name": "stdout",
     "output_type": "stream",
     "text": [
      "Autosplitting images from D:\\code\\workspace\\OneDragon-YOLO\\ultralytics\\datasets\\zzz_hollow_event_2208\\images, using *.txt labeled images only\n"
     ]
    },
    {
     "name": "stderr",
     "output_type": "stream",
     "text": [
      "100%|██████████| 735/735 [00:00<00:00, 3950.54it/s]\n"
     ]
    }
   ],
   "source": [
    "yolo_dataset_utils.init_dataset(\n",
    "    dataset_name=dataset_name,\n",
    "    raw_dataset_name='zzz_hollow_event_raw',\n",
    "    raw_images_dir_path=os_utils.get_path_under_work_dir('label_studio', 'zzz', 'hollow_event', 'raw'),\n",
    "    target_img_size=origin_img_size,\n",
    "    split_weights=(1, 0, 0)\n",
    ")"
   ]
  },
  {
   "cell_type": "code",
   "execution_count": 7,
   "id": "721d4f40-6cd0-450b-ba19-00b89076b42c",
   "metadata": {},
   "outputs": [],
   "source": [
    "from ultralytics import YOLO"
   ]
  },
  {
   "cell_type": "code",
   "execution_count": 8,
   "id": "3bdbb5bf-3bcf-4c48-9439-d2b5f983e9b6",
   "metadata": {},
   "outputs": [],
   "source": [
    "model = YOLO(ultralytics_utils.get_base_model_path(f'{pretrained_model_name}.pt'))"
   ]
  },
  {
   "cell_type": "code",
   "execution_count": 9,
   "id": "372da530-416e-4796-a81e-9fc1857a626c",
   "metadata": {
    "scrolled": true
   },
   "outputs": [
    {
     "name": "stdout",
     "output_type": "stream",
     "text": [
      "Ultralytics 8.3.1  Python-3.11.9 torch-2.3.1 CUDA:0 (NVIDIA GeForce RTX 4070 Ti, 12282MiB)\n",
      "\u001b[34m\u001b[1mengine\\trainer: \u001b[0mtask=detect, mode=train, model=D:\\code\\workspace\\OneDragon-YOLO\\ultralytics\\models\\yolov8s.pt, data=D:\\code\\workspace\\OneDragon-YOLO\\ultralytics\\datasets\\zzz_hollow_event_2208\\dataset.yaml, epochs=1000, time=None, patience=100, batch=-1, imgsz=736, save=True, save_period=100, cache=False, device=None, workers=8, project=D:\\code\\workspace\\OneDragon-YOLO\\ultralytics\\runs\\zzz_hollow_event_2208, name=yolov8s-736, exist_ok=True, pretrained=True, optimizer=auto, verbose=True, seed=0, deterministic=True, single_cls=False, rect=False, cos_lr=False, close_mosaic=10, resume=False, amp=True, fraction=1.0, profile=False, freeze=None, multi_scale=False, overlap_mask=True, mask_ratio=4, dropout=0.0, val=False, split=val, save_json=False, save_hybrid=False, conf=None, iou=0.7, max_det=300, half=False, dnn=False, plots=True, source=None, vid_stride=1, stream_buffer=False, visualize=False, augment=False, agnostic_nms=False, classes=None, retina_masks=False, embed=None, show=False, save_frames=False, save_txt=False, save_conf=False, save_crop=False, show_labels=True, show_conf=True, show_boxes=True, line_width=None, format=torchscript, keras=False, optimize=False, int8=False, dynamic=False, simplify=True, opset=None, workspace=4, nms=False, lr0=0.01, lrf=0.01, momentum=0.937, weight_decay=0.0005, warmup_epochs=3.0, warmup_momentum=0.8, warmup_bias_lr=0.1, box=7.5, cls=0.5, dfl=1.5, pose=12.0, kobj=1.0, label_smoothing=0.0, nbs=64, hsv_h=0, hsv_s=0, hsv_v=0, degrees=0.0, translate=0.1, scale=0, shear=0.0, perspective=0.0, flipud=0, fliplr=0, bgr=0.0, mosaic=0, mixup=0.0, copy_paste=0.0, copy_paste_mode=flip, auto_augment=randaugment, erasing=0, crop_fraction=1.0, cfg=None, tracker=botsort.yaml, save_dir=D:\\code\\workspace\\OneDragon-YOLO\\ultralytics\\runs\\zzz_hollow_event_2208\\yolov8s-736\n",
      "Overriding model.yaml nc=80 with nc=82\n",
      "\n",
      "                   from  n    params  module                                       arguments                     \n",
      "  0                  -1  1       928  ultralytics.nn.modules.conv.Conv             [3, 32, 3, 2]                 \n",
      "  1                  -1  1     18560  ultralytics.nn.modules.conv.Conv             [32, 64, 3, 2]                \n",
      "  2                  -1  1     29056  ultralytics.nn.modules.block.C2f             [64, 64, 1, True]             \n",
      "  3                  -1  1     73984  ultralytics.nn.modules.conv.Conv             [64, 128, 3, 2]               \n",
      "  4                  -1  2    197632  ultralytics.nn.modules.block.C2f             [128, 128, 2, True]           \n",
      "  5                  -1  1    295424  ultralytics.nn.modules.conv.Conv             [128, 256, 3, 2]              \n",
      "  6                  -1  2    788480  ultralytics.nn.modules.block.C2f             [256, 256, 2, True]           \n",
      "  7                  -1  1   1180672  ultralytics.nn.modules.conv.Conv             [256, 512, 3, 2]              \n",
      "  8                  -1  1   1838080  ultralytics.nn.modules.block.C2f             [512, 512, 1, True]           \n",
      "  9                  -1  1    656896  ultralytics.nn.modules.block.SPPF            [512, 512, 5]                 \n",
      " 10                  -1  1         0  torch.nn.modules.upsampling.Upsample         [None, 2, 'nearest']          \n",
      " 11             [-1, 6]  1         0  ultralytics.nn.modules.conv.Concat           [1]                           \n",
      " 12                  -1  1    591360  ultralytics.nn.modules.block.C2f             [768, 256, 1]                 \n",
      " 13                  -1  1         0  torch.nn.modules.upsampling.Upsample         [None, 2, 'nearest']          \n",
      " 14             [-1, 4]  1         0  ultralytics.nn.modules.conv.Concat           [1]                           \n",
      " 15                  -1  1    148224  ultralytics.nn.modules.block.C2f             [384, 128, 1]                 \n",
      " 16                  -1  1    147712  ultralytics.nn.modules.conv.Conv             [128, 128, 3, 2]              \n",
      " 17            [-1, 12]  1         0  ultralytics.nn.modules.conv.Concat           [1]                           \n",
      " 18                  -1  1    493056  ultralytics.nn.modules.block.C2f             [384, 256, 1]                 \n",
      " 19                  -1  1    590336  ultralytics.nn.modules.conv.Conv             [256, 256, 3, 2]              \n",
      " 20             [-1, 9]  1         0  ultralytics.nn.modules.conv.Concat           [1]                           \n",
      " 21                  -1  1   1969152  ultralytics.nn.modules.block.C2f             [768, 512, 1]                 \n",
      " 22        [15, 18, 21]  1    851142  ultralytics.nn.modules.head.Detect           [82, [128, 256, 512]]         \n",
      "Model summary: 249 layers, 9,870,694 parameters, 9,870,678 gradients, 23.7 GFLOPs\n",
      "\n",
      "Transferred 313/391 items from pretrained weights\n",
      "Freezing layer 'model.22.dfl.conv.weight'\n",
      "\u001b[34m\u001b[1mAMP: \u001b[0mrunning Automatic Mixed Precision (AMP) checks with YOLO11n...\n",
      "\u001b[34m\u001b[1mAMP: \u001b[0mchecks failed . Anomalies were detected with AMP on your system that may lead to NaN losses or zero-mAP results, so AMP will be disabled during training.\n",
      "\u001b[34m\u001b[1mAutoBatch: \u001b[0mComputing optimal batch size for imgsz=736 at 60.0% CUDA memory utilization.\n",
      "\u001b[34m\u001b[1mAutoBatch: \u001b[0mCUDA:0 (NVIDIA GeForce RTX 4070 Ti) 11.99G total, 0.23G reserved, 0.12G allocated, 11.65G free\n",
      "      Params      GFLOPs  GPU_mem (GB)  forward (ms) backward (ms)                   input                  output\n",
      "     9870694       31.41         1.019            19         101.6        (1, 3, 736, 736)                    list\n",
      "     9870694       62.81         1.550         14.35         53.18        (2, 3, 736, 736)                    list\n",
      "     9870694       125.6         2.695         24.36         61.65        (4, 3, 736, 736)                    list\n",
      "     9870694       251.3         5.430         49.71         86.23        (8, 3, 736, 736)                    list\n",
      "     9870694       502.5        11.669         106.4         462.9       (16, 3, 736, 736)                    list\n",
      "\u001b[34m\u001b[1mAutoBatch: \u001b[0mUsing batch-size 9 for CUDA:0 6.82G/11.99G (57%) \n"
     ]
    },
    {
     "name": "stderr",
     "output_type": "stream",
     "text": [
      "\u001b[34m\u001b[1mtrain: \u001b[0mScanning D:\\code\\workspace\\OneDragon-YOLO\\ultralytics\\datasets\\zzz_hollow_event_2208\\labels... 735 images, 0 backgrounds, 0 corrupt: 100%|██████████| 735/735 [00:06<00:00, 116.01it/s]\u001b[0m"
     ]
    },
    {
     "name": "stdout",
     "output_type": "stream",
     "text": [
      "\u001b[34m\u001b[1mtrain: \u001b[0mNew cache created: D:\\code\\workspace\\OneDragon-YOLO\\ultralytics\\datasets\\zzz_hollow_event_2208\\labels.cache\n"
     ]
    },
    {
     "name": "stderr",
     "output_type": "stream",
     "text": [
      "\n",
      "\u001b[34m\u001b[1mval: \u001b[0mScanning D:\\code\\workspace\\OneDragon-YOLO\\ultralytics\\datasets\\zzz_hollow_event_2208\\labels.cache... 735 images, 0 backgrounds, 0 corrupt: 100%|██████████| 735/735 [00:00<?, ?it/s]\u001b[0m\n"
     ]
    },
    {
     "name": "stdout",
     "output_type": "stream",
     "text": [
      "Plotting labels to D:\\code\\workspace\\OneDragon-YOLO\\ultralytics\\runs\\zzz_hollow_event_2208\\yolov8s-736\\labels.jpg... \n",
      "\u001b[34m\u001b[1moptimizer:\u001b[0m 'optimizer=auto' found, ignoring 'lr0=0.01' and 'momentum=0.937' and determining best 'optimizer', 'lr0' and 'momentum' automatically... \n",
      "\u001b[34m\u001b[1moptimizer:\u001b[0m SGD(lr=0.01, momentum=0.9) with parameter groups 63 weight(decay=0.0), 70 weight(decay=0.0004921875), 69 bias(decay=0.0)\n",
      "Image sizes 736 train, 736 val\n",
      "Using 8 dataloader workers\n",
      "Logging results to \u001b[1mD:\\code\\workspace\\OneDragon-YOLO\\ultralytics\\runs\\zzz_hollow_event_2208\\yolov8s-736\u001b[0m\n",
      "Starting training for 1000 epochs...\n",
      "\n",
      "      Epoch    GPU_mem   box_loss   cls_loss   dfl_loss  Instances       Size\n"
     ]
    },
    {
     "name": "stderr",
     "output_type": "stream",
     "text": [
      "     1/1000      6.93G     0.9839      4.723     0.9401        526        736: 100%|██████████| 82/82 [00:13<00:00,  6.09it/s]\n"
     ]
    },
    {
     "name": "stdout",
     "output_type": "stream",
     "text": [
      "\n",
      "      Epoch    GPU_mem   box_loss   cls_loss   dfl_loss  Instances       Size\n"
     ]
    },
    {
     "name": "stderr",
     "output_type": "stream",
     "text": [
      "     2/1000      7.43G      0.936      2.776     0.8593        506        736: 100%|██████████| 82/82 [00:12<00:00,  6.55it/s]\n"
     ]
    },
    {
     "name": "stdout",
     "output_type": "stream",
     "text": [
      "\n",
      "      Epoch    GPU_mem   box_loss   cls_loss   dfl_loss  Instances       Size\n"
     ]
    },
    {
     "name": "stderr",
     "output_type": "stream",
     "text": [
      "     3/1000      6.99G      1.095      1.996     0.8847        757        736: 100%|██████████| 82/82 [00:12<00:00,  6.53it/s]\n"
     ]
    },
    {
     "name": "stdout",
     "output_type": "stream",
     "text": [
      "\n",
      "      Epoch    GPU_mem   box_loss   cls_loss   dfl_loss  Instances       Size\n"
     ]
    },
    {
     "name": "stderr",
     "output_type": "stream",
     "text": [
      "     4/1000      6.66G       1.07      1.534     0.8893        540        736: 100%|██████████| 82/82 [00:12<00:00,  6.58it/s]\n"
     ]
    },
    {
     "name": "stdout",
     "output_type": "stream",
     "text": [
      "\n",
      "      Epoch    GPU_mem   box_loss   cls_loss   dfl_loss  Instances       Size\n"
     ]
    },
    {
     "name": "stderr",
     "output_type": "stream",
     "text": [
      "     5/1000      6.47G     0.9478      1.167     0.8704        529        736: 100%|██████████| 82/82 [00:12<00:00,  6.57it/s]\n"
     ]
    },
    {
     "name": "stdout",
     "output_type": "stream",
     "text": [
      "\n",
      "      Epoch    GPU_mem   box_loss   cls_loss   dfl_loss  Instances       Size\n"
     ]
    },
    {
     "name": "stderr",
     "output_type": "stream",
     "text": [
      "     6/1000      6.78G     0.9255     0.9899     0.8629        527        736: 100%|██████████| 82/82 [00:12<00:00,  6.57it/s]\n"
     ]
    },
    {
     "name": "stdout",
     "output_type": "stream",
     "text": [
      "\n",
      "      Epoch    GPU_mem   box_loss   cls_loss   dfl_loss  Instances       Size\n"
     ]
    },
    {
     "name": "stderr",
     "output_type": "stream",
     "text": [
      "     7/1000       6.9G      0.867     0.8384     0.8511        555        736: 100%|██████████| 82/82 [00:12<00:00,  6.58it/s]\n"
     ]
    },
    {
     "name": "stdout",
     "output_type": "stream",
     "text": [
      "\n",
      "      Epoch    GPU_mem   box_loss   cls_loss   dfl_loss  Instances       Size\n"
     ]
    },
    {
     "name": "stderr",
     "output_type": "stream",
     "text": [
      "     8/1000      6.62G     0.8396     0.7548     0.8519        727        736: 100%|██████████| 82/82 [00:12<00:00,  6.57it/s]\n"
     ]
    },
    {
     "name": "stdout",
     "output_type": "stream",
     "text": [
      "\n",
      "      Epoch    GPU_mem   box_loss   cls_loss   dfl_loss  Instances       Size\n"
     ]
    },
    {
     "name": "stderr",
     "output_type": "stream",
     "text": [
      "     9/1000      7.17G     0.8046     0.6954     0.8463        570        736: 100%|██████████| 82/82 [00:12<00:00,  6.57it/s]\n"
     ]
    },
    {
     "name": "stdout",
     "output_type": "stream",
     "text": [
      "\n",
      "      Epoch    GPU_mem   box_loss   cls_loss   dfl_loss  Instances       Size\n"
     ]
    },
    {
     "name": "stderr",
     "output_type": "stream",
     "text": [
      "    10/1000      7.64G       0.79     0.6475     0.8389        419        736: 100%|██████████| 82/82 [00:12<00:00,  6.57it/s]\n"
     ]
    },
    {
     "name": "stdout",
     "output_type": "stream",
     "text": [
      "\n",
      "      Epoch    GPU_mem   box_loss   cls_loss   dfl_loss  Instances       Size\n"
     ]
    },
    {
     "name": "stderr",
     "output_type": "stream",
     "text": [
      "    11/1000      7.59G     0.7851     0.6098     0.8362        694        736: 100%|██████████| 82/82 [00:12<00:00,  6.57it/s]\n"
     ]
    },
    {
     "name": "stdout",
     "output_type": "stream",
     "text": [
      "\n",
      "      Epoch    GPU_mem   box_loss   cls_loss   dfl_loss  Instances       Size\n"
     ]
    },
    {
     "name": "stderr",
     "output_type": "stream",
     "text": [
      "    12/1000      6.98G     0.7431     0.5713     0.8329        663        736: 100%|██████████| 82/82 [00:12<00:00,  6.58it/s]\n"
     ]
    },
    {
     "name": "stdout",
     "output_type": "stream",
     "text": [
      "\n",
      "      Epoch    GPU_mem   box_loss   cls_loss   dfl_loss  Instances       Size\n"
     ]
    },
    {
     "name": "stderr",
     "output_type": "stream",
     "text": [
      "    13/1000      7.27G     0.7416     0.5497     0.8284        496        736: 100%|██████████| 82/82 [00:12<00:00,  6.56it/s]\n"
     ]
    },
    {
     "name": "stdout",
     "output_type": "stream",
     "text": [
      "\n",
      "      Epoch    GPU_mem   box_loss   cls_loss   dfl_loss  Instances       Size\n"
     ]
    },
    {
     "name": "stderr",
     "output_type": "stream",
     "text": [
      "    14/1000      6.64G     0.7091     0.5216     0.8269        679        736: 100%|██████████| 82/82 [00:12<00:00,  6.60it/s]\n"
     ]
    },
    {
     "name": "stdout",
     "output_type": "stream",
     "text": [
      "\n",
      "      Epoch    GPU_mem   box_loss   cls_loss   dfl_loss  Instances       Size\n"
     ]
    },
    {
     "name": "stderr",
     "output_type": "stream",
     "text": [
      "    15/1000      6.46G     0.6942     0.5201      0.826        439        736: 100%|██████████| 82/82 [00:12<00:00,  6.58it/s]\n"
     ]
    },
    {
     "name": "stdout",
     "output_type": "stream",
     "text": [
      "\n",
      "      Epoch    GPU_mem   box_loss   cls_loss   dfl_loss  Instances       Size\n"
     ]
    },
    {
     "name": "stderr",
     "output_type": "stream",
     "text": [
      "    16/1000      6.38G     0.6878     0.4997     0.8212        445        736: 100%|██████████| 82/82 [00:12<00:00,  6.58it/s]\n"
     ]
    },
    {
     "name": "stdout",
     "output_type": "stream",
     "text": [
      "\n",
      "      Epoch    GPU_mem   box_loss   cls_loss   dfl_loss  Instances       Size\n"
     ]
    },
    {
     "name": "stderr",
     "output_type": "stream",
     "text": [
      "    17/1000      6.65G     0.6745     0.4883     0.8226        682        736: 100%|██████████| 82/82 [00:12<00:00,  6.58it/s]\n"
     ]
    },
    {
     "name": "stdout",
     "output_type": "stream",
     "text": [
      "\n",
      "      Epoch    GPU_mem   box_loss   cls_loss   dfl_loss  Instances       Size\n"
     ]
    },
    {
     "name": "stderr",
     "output_type": "stream",
     "text": [
      "    18/1000      6.93G     0.6587     0.4923     0.8169        478        736: 100%|██████████| 82/82 [00:12<00:00,  6.58it/s]\n"
     ]
    },
    {
     "name": "stdout",
     "output_type": "stream",
     "text": [
      "\n",
      "      Epoch    GPU_mem   box_loss   cls_loss   dfl_loss  Instances       Size\n"
     ]
    },
    {
     "name": "stderr",
     "output_type": "stream",
     "text": [
      "    19/1000      6.98G     0.6491     0.4721      0.818        605        736: 100%|██████████| 82/82 [00:12<00:00,  6.57it/s]\n"
     ]
    },
    {
     "name": "stdout",
     "output_type": "stream",
     "text": [
      "\n",
      "      Epoch    GPU_mem   box_loss   cls_loss   dfl_loss  Instances       Size\n"
     ]
    },
    {
     "name": "stderr",
     "output_type": "stream",
     "text": [
      "    20/1000      6.77G     0.6433     0.4649     0.8168        434        736: 100%|██████████| 82/82 [00:12<00:00,  6.57it/s]\n"
     ]
    },
    {
     "name": "stdout",
     "output_type": "stream",
     "text": [
      "\n",
      "      Epoch    GPU_mem   box_loss   cls_loss   dfl_loss  Instances       Size\n"
     ]
    },
    {
     "name": "stderr",
     "output_type": "stream",
     "text": [
      "    21/1000      6.73G     0.6205     0.4568     0.8151        569        736: 100%|██████████| 82/82 [00:12<00:00,  6.57it/s]\n"
     ]
    },
    {
     "name": "stdout",
     "output_type": "stream",
     "text": [
      "\n",
      "      Epoch    GPU_mem   box_loss   cls_loss   dfl_loss  Instances       Size\n"
     ]
    },
    {
     "name": "stderr",
     "output_type": "stream",
     "text": [
      "    22/1000      6.98G     0.6199      0.442     0.8117        607        736: 100%|██████████| 82/82 [00:12<00:00,  6.58it/s]\n"
     ]
    },
    {
     "name": "stdout",
     "output_type": "stream",
     "text": [
      "\n",
      "      Epoch    GPU_mem   box_loss   cls_loss   dfl_loss  Instances       Size\n"
     ]
    },
    {
     "name": "stderr",
     "output_type": "stream",
     "text": [
      "    23/1000      6.95G     0.6031     0.4355     0.8124        530        736: 100%|██████████| 82/82 [00:12<00:00,  6.57it/s]\n"
     ]
    },
    {
     "name": "stdout",
     "output_type": "stream",
     "text": [
      "\n",
      "      Epoch    GPU_mem   box_loss   cls_loss   dfl_loss  Instances       Size\n"
     ]
    },
    {
     "name": "stderr",
     "output_type": "stream",
     "text": [
      "    24/1000       7.4G     0.5987     0.4298     0.8118        429        736: 100%|██████████| 82/82 [00:12<00:00,  6.58it/s]\n"
     ]
    },
    {
     "name": "stdout",
     "output_type": "stream",
     "text": [
      "\n",
      "      Epoch    GPU_mem   box_loss   cls_loss   dfl_loss  Instances       Size\n"
     ]
    },
    {
     "name": "stderr",
     "output_type": "stream",
     "text": [
      "    25/1000      7.11G      0.582     0.4223     0.8123        634        736: 100%|██████████| 82/82 [00:12<00:00,  6.56it/s]\n"
     ]
    },
    {
     "name": "stdout",
     "output_type": "stream",
     "text": [
      "\n",
      "      Epoch    GPU_mem   box_loss   cls_loss   dfl_loss  Instances       Size\n"
     ]
    },
    {
     "name": "stderr",
     "output_type": "stream",
     "text": [
      "    26/1000      7.42G     0.5776      0.409     0.8054        369        736: 100%|██████████| 82/82 [00:12<00:00,  6.57it/s]\n"
     ]
    },
    {
     "name": "stdout",
     "output_type": "stream",
     "text": [
      "\n",
      "      Epoch    GPU_mem   box_loss   cls_loss   dfl_loss  Instances       Size\n"
     ]
    },
    {
     "name": "stderr",
     "output_type": "stream",
     "text": [
      "    27/1000      7.31G     0.5887     0.4054     0.8062        696        736: 100%|██████████| 82/82 [00:12<00:00,  6.56it/s]\n"
     ]
    },
    {
     "name": "stdout",
     "output_type": "stream",
     "text": [
      "\n",
      "      Epoch    GPU_mem   box_loss   cls_loss   dfl_loss  Instances       Size\n"
     ]
    },
    {
     "name": "stderr",
     "output_type": "stream",
     "text": [
      "    28/1000      7.32G     0.5722     0.4028     0.8086        432        736: 100%|██████████| 82/82 [00:12<00:00,  6.57it/s]\n"
     ]
    },
    {
     "name": "stdout",
     "output_type": "stream",
     "text": [
      "\n",
      "      Epoch    GPU_mem   box_loss   cls_loss   dfl_loss  Instances       Size\n"
     ]
    },
    {
     "name": "stderr",
     "output_type": "stream",
     "text": [
      "    29/1000      6.33G     0.5645     0.4015     0.8072        320        736: 100%|██████████| 82/82 [00:12<00:00,  6.58it/s]\n"
     ]
    },
    {
     "name": "stdout",
     "output_type": "stream",
     "text": [
      "\n",
      "      Epoch    GPU_mem   box_loss   cls_loss   dfl_loss  Instances       Size\n"
     ]
    },
    {
     "name": "stderr",
     "output_type": "stream",
     "text": [
      "    30/1000      6.75G     0.5529     0.3969     0.8051        571        736: 100%|██████████| 82/82 [00:12<00:00,  6.37it/s]\n"
     ]
    },
    {
     "name": "stdout",
     "output_type": "stream",
     "text": [
      "\n",
      "      Epoch    GPU_mem   box_loss   cls_loss   dfl_loss  Instances       Size\n"
     ]
    },
    {
     "name": "stderr",
     "output_type": "stream",
     "text": [
      "    31/1000      6.99G     0.5435     0.3891     0.8056        587        736: 100%|██████████| 82/82 [00:12<00:00,  6.46it/s]\n"
     ]
    },
    {
     "name": "stdout",
     "output_type": "stream",
     "text": [
      "\n",
      "      Epoch    GPU_mem   box_loss   cls_loss   dfl_loss  Instances       Size\n"
     ]
    },
    {
     "name": "stderr",
     "output_type": "stream",
     "text": [
      "    32/1000      6.97G     0.5548     0.3849     0.8024        477        736: 100%|██████████| 82/82 [00:12<00:00,  6.60it/s]\n"
     ]
    },
    {
     "name": "stdout",
     "output_type": "stream",
     "text": [
      "\n",
      "      Epoch    GPU_mem   box_loss   cls_loss   dfl_loss  Instances       Size\n"
     ]
    },
    {
     "name": "stderr",
     "output_type": "stream",
     "text": [
      "    33/1000      6.76G     0.5431     0.3808     0.8036        574        736: 100%|██████████| 82/82 [00:12<00:00,  6.59it/s]\n"
     ]
    },
    {
     "name": "stdout",
     "output_type": "stream",
     "text": [
      "\n",
      "      Epoch    GPU_mem   box_loss   cls_loss   dfl_loss  Instances       Size\n"
     ]
    },
    {
     "name": "stderr",
     "output_type": "stream",
     "text": [
      "    34/1000      7.21G     0.5327     0.3762     0.8051        483        736: 100%|██████████| 82/82 [00:12<00:00,  6.58it/s]\n"
     ]
    },
    {
     "name": "stdout",
     "output_type": "stream",
     "text": [
      "\n",
      "      Epoch    GPU_mem   box_loss   cls_loss   dfl_loss  Instances       Size\n"
     ]
    },
    {
     "name": "stderr",
     "output_type": "stream",
     "text": [
      "    35/1000      7.28G     0.5308     0.3729     0.8035        457        736: 100%|██████████| 82/82 [00:12<00:00,  6.59it/s]\n"
     ]
    },
    {
     "name": "stdout",
     "output_type": "stream",
     "text": [
      "\n",
      "      Epoch    GPU_mem   box_loss   cls_loss   dfl_loss  Instances       Size\n"
     ]
    },
    {
     "name": "stderr",
     "output_type": "stream",
     "text": [
      "    36/1000      6.76G     0.5306     0.3677     0.8001        641        736: 100%|██████████| 82/82 [00:12<00:00,  6.59it/s]\n"
     ]
    },
    {
     "name": "stdout",
     "output_type": "stream",
     "text": [
      "\n",
      "      Epoch    GPU_mem   box_loss   cls_loss   dfl_loss  Instances       Size\n"
     ]
    },
    {
     "name": "stderr",
     "output_type": "stream",
     "text": [
      "    37/1000      6.92G     0.5144      0.365     0.8005        540        736: 100%|██████████| 82/82 [00:12<00:00,  6.58it/s]\n"
     ]
    },
    {
     "name": "stdout",
     "output_type": "stream",
     "text": [
      "\n",
      "      Epoch    GPU_mem   box_loss   cls_loss   dfl_loss  Instances       Size\n"
     ]
    },
    {
     "name": "stderr",
     "output_type": "stream",
     "text": [
      "    38/1000      6.45G     0.5212     0.3649     0.8027        448        736: 100%|██████████| 82/82 [00:12<00:00,  6.58it/s]\n"
     ]
    },
    {
     "name": "stdout",
     "output_type": "stream",
     "text": [
      "\n",
      "      Epoch    GPU_mem   box_loss   cls_loss   dfl_loss  Instances       Size\n"
     ]
    },
    {
     "name": "stderr",
     "output_type": "stream",
     "text": [
      "    39/1000      7.27G     0.5143      0.364     0.7994        611        736: 100%|██████████| 82/82 [00:12<00:00,  6.58it/s]\n"
     ]
    },
    {
     "name": "stdout",
     "output_type": "stream",
     "text": [
      "\n",
      "      Epoch    GPU_mem   box_loss   cls_loss   dfl_loss  Instances       Size\n"
     ]
    },
    {
     "name": "stderr",
     "output_type": "stream",
     "text": [
      "    40/1000      5.97G     0.5021     0.3606     0.8002        583        736: 100%|██████████| 82/82 [00:12<00:00,  6.59it/s]\n"
     ]
    },
    {
     "name": "stdout",
     "output_type": "stream",
     "text": [
      "\n",
      "      Epoch    GPU_mem   box_loss   cls_loss   dfl_loss  Instances       Size\n"
     ]
    },
    {
     "name": "stderr",
     "output_type": "stream",
     "text": [
      "    41/1000      7.73G     0.5039     0.3559        0.8        663        736: 100%|██████████| 82/82 [00:12<00:00,  6.59it/s]\n"
     ]
    },
    {
     "name": "stdout",
     "output_type": "stream",
     "text": [
      "\n",
      "      Epoch    GPU_mem   box_loss   cls_loss   dfl_loss  Instances       Size\n"
     ]
    },
    {
     "name": "stderr",
     "output_type": "stream",
     "text": [
      "    42/1000      6.88G     0.4985     0.3536     0.7976        559        736: 100%|██████████| 82/82 [00:12<00:00,  6.59it/s]\n"
     ]
    },
    {
     "name": "stdout",
     "output_type": "stream",
     "text": [
      "\n",
      "      Epoch    GPU_mem   box_loss   cls_loss   dfl_loss  Instances       Size\n"
     ]
    },
    {
     "name": "stderr",
     "output_type": "stream",
     "text": [
      "    43/1000         7G     0.4931     0.3506     0.7984        499        736: 100%|██████████| 82/82 [00:12<00:00,  6.58it/s]\n"
     ]
    },
    {
     "name": "stdout",
     "output_type": "stream",
     "text": [
      "\n",
      "      Epoch    GPU_mem   box_loss   cls_loss   dfl_loss  Instances       Size\n"
     ]
    },
    {
     "name": "stderr",
     "output_type": "stream",
     "text": [
      "    44/1000      6.75G     0.4838     0.3509     0.7989        311        736: 100%|██████████| 82/82 [00:12<00:00,  6.57it/s]\n"
     ]
    },
    {
     "name": "stdout",
     "output_type": "stream",
     "text": [
      "\n",
      "      Epoch    GPU_mem   box_loss   cls_loss   dfl_loss  Instances       Size\n"
     ]
    },
    {
     "name": "stderr",
     "output_type": "stream",
     "text": [
      "    45/1000      6.76G     0.4765     0.3466     0.7979        547        736: 100%|██████████| 82/82 [00:12<00:00,  6.58it/s]\n"
     ]
    },
    {
     "name": "stdout",
     "output_type": "stream",
     "text": [
      "\n",
      "      Epoch    GPU_mem   box_loss   cls_loss   dfl_loss  Instances       Size\n"
     ]
    },
    {
     "name": "stderr",
     "output_type": "stream",
     "text": [
      "    46/1000      6.78G      0.492     0.3391     0.7959        575        736: 100%|██████████| 82/82 [00:12<00:00,  6.57it/s]\n"
     ]
    },
    {
     "name": "stdout",
     "output_type": "stream",
     "text": [
      "\n",
      "      Epoch    GPU_mem   box_loss   cls_loss   dfl_loss  Instances       Size\n"
     ]
    },
    {
     "name": "stderr",
     "output_type": "stream",
     "text": [
      "    47/1000      7.29G     0.4728     0.3374     0.7944        636        736: 100%|██████████| 82/82 [00:12<00:00,  6.58it/s]\n"
     ]
    },
    {
     "name": "stdout",
     "output_type": "stream",
     "text": [
      "\n",
      "      Epoch    GPU_mem   box_loss   cls_loss   dfl_loss  Instances       Size\n"
     ]
    },
    {
     "name": "stderr",
     "output_type": "stream",
     "text": [
      "    48/1000       7.1G     0.4667     0.3328      0.796        498        736: 100%|██████████| 82/82 [00:12<00:00,  6.58it/s]\n"
     ]
    },
    {
     "name": "stdout",
     "output_type": "stream",
     "text": [
      "\n",
      "      Epoch    GPU_mem   box_loss   cls_loss   dfl_loss  Instances       Size\n"
     ]
    },
    {
     "name": "stderr",
     "output_type": "stream",
     "text": [
      "    49/1000         7G     0.4586     0.3336     0.7955        844        736: 100%|██████████| 82/82 [00:12<00:00,  6.59it/s]\n"
     ]
    },
    {
     "name": "stdout",
     "output_type": "stream",
     "text": [
      "\n",
      "      Epoch    GPU_mem   box_loss   cls_loss   dfl_loss  Instances       Size\n"
     ]
    },
    {
     "name": "stderr",
     "output_type": "stream",
     "text": [
      "    50/1000      6.96G     0.4766     0.3357     0.7963        416        736: 100%|██████████| 82/82 [00:12<00:00,  6.58it/s]\n"
     ]
    },
    {
     "name": "stdout",
     "output_type": "stream",
     "text": [
      "\n",
      "      Epoch    GPU_mem   box_loss   cls_loss   dfl_loss  Instances       Size\n"
     ]
    },
    {
     "name": "stderr",
     "output_type": "stream",
     "text": [
      "    51/1000      7.24G     0.4712     0.3324     0.7945        672        736: 100%|██████████| 82/82 [00:12<00:00,  6.58it/s]\n"
     ]
    },
    {
     "name": "stdout",
     "output_type": "stream",
     "text": [
      "\n",
      "      Epoch    GPU_mem   box_loss   cls_loss   dfl_loss  Instances       Size\n"
     ]
    },
    {
     "name": "stderr",
     "output_type": "stream",
     "text": [
      "    52/1000      6.32G     0.4622     0.3306     0.7936        398        736: 100%|██████████| 82/82 [00:12<00:00,  6.60it/s]\n"
     ]
    },
    {
     "name": "stdout",
     "output_type": "stream",
     "text": [
      "\n",
      "      Epoch    GPU_mem   box_loss   cls_loss   dfl_loss  Instances       Size\n"
     ]
    },
    {
     "name": "stderr",
     "output_type": "stream",
     "text": [
      "    53/1000      6.88G     0.4507     0.3288     0.7945        444        736: 100%|██████████| 82/82 [00:12<00:00,  6.59it/s]\n"
     ]
    },
    {
     "name": "stdout",
     "output_type": "stream",
     "text": [
      "\n",
      "      Epoch    GPU_mem   box_loss   cls_loss   dfl_loss  Instances       Size\n"
     ]
    },
    {
     "name": "stderr",
     "output_type": "stream",
     "text": [
      "    54/1000      5.98G     0.4468     0.3249     0.7944        333        736: 100%|██████████| 82/82 [00:12<00:00,  6.60it/s]\n"
     ]
    },
    {
     "name": "stdout",
     "output_type": "stream",
     "text": [
      "\n",
      "      Epoch    GPU_mem   box_loss   cls_loss   dfl_loss  Instances       Size\n"
     ]
    },
    {
     "name": "stderr",
     "output_type": "stream",
     "text": [
      "    55/1000      6.88G     0.4421     0.3208     0.7937        484        736: 100%|██████████| 82/82 [00:12<00:00,  6.59it/s]\n"
     ]
    },
    {
     "name": "stdout",
     "output_type": "stream",
     "text": [
      "\n",
      "      Epoch    GPU_mem   box_loss   cls_loss   dfl_loss  Instances       Size\n"
     ]
    },
    {
     "name": "stderr",
     "output_type": "stream",
     "text": [
      "    56/1000      6.61G     0.4469     0.3239     0.7934        520        736: 100%|██████████| 82/82 [00:12<00:00,  6.60it/s]\n"
     ]
    },
    {
     "name": "stdout",
     "output_type": "stream",
     "text": [
      "\n",
      "      Epoch    GPU_mem   box_loss   cls_loss   dfl_loss  Instances       Size\n"
     ]
    },
    {
     "name": "stderr",
     "output_type": "stream",
     "text": [
      "    57/1000      5.96G     0.4424     0.3164     0.7922        462        736: 100%|██████████| 82/82 [00:12<00:00,  6.59it/s]\n"
     ]
    },
    {
     "name": "stdout",
     "output_type": "stream",
     "text": [
      "\n",
      "      Epoch    GPU_mem   box_loss   cls_loss   dfl_loss  Instances       Size\n"
     ]
    },
    {
     "name": "stderr",
     "output_type": "stream",
     "text": [
      "    58/1000      6.62G     0.4419     0.3205     0.7904        508        736: 100%|██████████| 82/82 [00:12<00:00,  6.59it/s]\n"
     ]
    },
    {
     "name": "stdout",
     "output_type": "stream",
     "text": [
      "\n",
      "      Epoch    GPU_mem   box_loss   cls_loss   dfl_loss  Instances       Size\n"
     ]
    },
    {
     "name": "stderr",
     "output_type": "stream",
     "text": [
      "    59/1000      6.44G     0.4322     0.3177     0.7922        854        736: 100%|██████████| 82/82 [00:12<00:00,  6.59it/s]\n"
     ]
    },
    {
     "name": "stdout",
     "output_type": "stream",
     "text": [
      "\n",
      "      Epoch    GPU_mem   box_loss   cls_loss   dfl_loss  Instances       Size\n"
     ]
    },
    {
     "name": "stderr",
     "output_type": "stream",
     "text": [
      "    60/1000      6.46G     0.4233      0.314      0.791        623        736: 100%|██████████| 82/82 [00:12<00:00,  6.60it/s]\n"
     ]
    },
    {
     "name": "stdout",
     "output_type": "stream",
     "text": [
      "\n",
      "      Epoch    GPU_mem   box_loss   cls_loss   dfl_loss  Instances       Size\n"
     ]
    },
    {
     "name": "stderr",
     "output_type": "stream",
     "text": [
      "    61/1000      7.52G     0.4291     0.3152     0.7926        628        736: 100%|██████████| 82/82 [00:12<00:00,  6.59it/s]\n"
     ]
    },
    {
     "name": "stdout",
     "output_type": "stream",
     "text": [
      "\n",
      "      Epoch    GPU_mem   box_loss   cls_loss   dfl_loss  Instances       Size\n"
     ]
    },
    {
     "name": "stderr",
     "output_type": "stream",
     "text": [
      "    62/1000      7.39G     0.4242     0.3097     0.7912        657        736: 100%|██████████| 82/82 [00:12<00:00,  6.58it/s]\n"
     ]
    },
    {
     "name": "stdout",
     "output_type": "stream",
     "text": [
      "\n",
      "      Epoch    GPU_mem   box_loss   cls_loss   dfl_loss  Instances       Size\n"
     ]
    },
    {
     "name": "stderr",
     "output_type": "stream",
     "text": [
      "    63/1000      5.97G     0.4238     0.3118     0.7899        532        736: 100%|██████████| 82/82 [00:12<00:00,  6.60it/s]\n"
     ]
    },
    {
     "name": "stdout",
     "output_type": "stream",
     "text": [
      "\n",
      "      Epoch    GPU_mem   box_loss   cls_loss   dfl_loss  Instances       Size\n"
     ]
    },
    {
     "name": "stderr",
     "output_type": "stream",
     "text": [
      "    64/1000      6.97G      0.418      0.311     0.7898        527        736: 100%|██████████| 82/82 [00:12<00:00,  6.58it/s]\n"
     ]
    },
    {
     "name": "stdout",
     "output_type": "stream",
     "text": [
      "\n",
      "      Epoch    GPU_mem   box_loss   cls_loss   dfl_loss  Instances       Size\n"
     ]
    },
    {
     "name": "stderr",
     "output_type": "stream",
     "text": [
      "    65/1000       6.6G     0.4144      0.308     0.7891        326        736: 100%|██████████| 82/82 [00:12<00:00,  6.60it/s]\n"
     ]
    },
    {
     "name": "stdout",
     "output_type": "stream",
     "text": [
      "\n",
      "      Epoch    GPU_mem   box_loss   cls_loss   dfl_loss  Instances       Size\n"
     ]
    },
    {
     "name": "stderr",
     "output_type": "stream",
     "text": [
      "    66/1000      7.52G     0.4101     0.3054     0.7896        529        736: 100%|██████████| 82/82 [00:12<00:00,  6.58it/s]\n"
     ]
    },
    {
     "name": "stdout",
     "output_type": "stream",
     "text": [
      "\n",
      "      Epoch    GPU_mem   box_loss   cls_loss   dfl_loss  Instances       Size\n"
     ]
    },
    {
     "name": "stderr",
     "output_type": "stream",
     "text": [
      "    67/1000      6.88G      0.408     0.2935     0.7887        543        736: 100%|██████████| 82/82 [00:12<00:00,  6.60it/s]\n"
     ]
    },
    {
     "name": "stdout",
     "output_type": "stream",
     "text": [
      "\n",
      "      Epoch    GPU_mem   box_loss   cls_loss   dfl_loss  Instances       Size\n"
     ]
    },
    {
     "name": "stderr",
     "output_type": "stream",
     "text": [
      "    68/1000         7G     0.4009     0.2928     0.7886        581        736: 100%|██████████| 82/82 [00:12<00:00,  6.60it/s]\n"
     ]
    },
    {
     "name": "stdout",
     "output_type": "stream",
     "text": [
      "\n",
      "      Epoch    GPU_mem   box_loss   cls_loss   dfl_loss  Instances       Size\n"
     ]
    },
    {
     "name": "stderr",
     "output_type": "stream",
     "text": [
      "    69/1000      7.21G     0.4134     0.3048      0.787        385        736: 100%|██████████| 82/82 [00:12<00:00,  6.58it/s]\n"
     ]
    },
    {
     "name": "stdout",
     "output_type": "stream",
     "text": [
      "\n",
      "      Epoch    GPU_mem   box_loss   cls_loss   dfl_loss  Instances       Size\n"
     ]
    },
    {
     "name": "stderr",
     "output_type": "stream",
     "text": [
      "    70/1000      7.33G     0.4075      0.297     0.7878        559        736: 100%|██████████| 82/82 [00:12<00:00,  6.56it/s]\n"
     ]
    },
    {
     "name": "stdout",
     "output_type": "stream",
     "text": [
      "\n",
      "      Epoch    GPU_mem   box_loss   cls_loss   dfl_loss  Instances       Size\n"
     ]
    },
    {
     "name": "stderr",
     "output_type": "stream",
     "text": [
      "    71/1000      7.18G      0.406     0.2974     0.7891        731        736: 100%|██████████| 82/82 [00:12<00:00,  6.60it/s]\n"
     ]
    },
    {
     "name": "stdout",
     "output_type": "stream",
     "text": [
      "\n",
      "      Epoch    GPU_mem   box_loss   cls_loss   dfl_loss  Instances       Size\n"
     ]
    },
    {
     "name": "stderr",
     "output_type": "stream",
     "text": [
      "    72/1000       6.6G     0.3997     0.2974     0.7864        498        736: 100%|██████████| 82/82 [00:12<00:00,  6.59it/s]\n"
     ]
    },
    {
     "name": "stdout",
     "output_type": "stream",
     "text": [
      "\n",
      "      Epoch    GPU_mem   box_loss   cls_loss   dfl_loss  Instances       Size\n"
     ]
    },
    {
     "name": "stderr",
     "output_type": "stream",
     "text": [
      "    73/1000      6.99G     0.3929     0.2955     0.7876        482        736: 100%|██████████| 82/82 [00:12<00:00,  6.58it/s]\n"
     ]
    },
    {
     "name": "stdout",
     "output_type": "stream",
     "text": [
      "\n",
      "      Epoch    GPU_mem   box_loss   cls_loss   dfl_loss  Instances       Size\n"
     ]
    },
    {
     "name": "stderr",
     "output_type": "stream",
     "text": [
      "    74/1000      7.31G     0.3924      0.295     0.7857        382        736: 100%|██████████| 82/82 [00:12<00:00,  6.59it/s]\n"
     ]
    },
    {
     "name": "stdout",
     "output_type": "stream",
     "text": [
      "\n",
      "      Epoch    GPU_mem   box_loss   cls_loss   dfl_loss  Instances       Size\n"
     ]
    },
    {
     "name": "stderr",
     "output_type": "stream",
     "text": [
      "    75/1000      6.77G     0.3928     0.2841     0.7849        423        736: 100%|██████████| 82/82 [00:12<00:00,  6.61it/s]\n"
     ]
    },
    {
     "name": "stdout",
     "output_type": "stream",
     "text": [
      "\n",
      "      Epoch    GPU_mem   box_loss   cls_loss   dfl_loss  Instances       Size\n"
     ]
    },
    {
     "name": "stderr",
     "output_type": "stream",
     "text": [
      "    76/1000      6.42G     0.3857     0.2843     0.7866        519        736: 100%|██████████| 82/82 [00:12<00:00,  6.60it/s]\n"
     ]
    },
    {
     "name": "stdout",
     "output_type": "stream",
     "text": [
      "\n",
      "      Epoch    GPU_mem   box_loss   cls_loss   dfl_loss  Instances       Size\n"
     ]
    },
    {
     "name": "stderr",
     "output_type": "stream",
     "text": [
      "    77/1000       6.4G     0.3915     0.2966     0.7869        626        736: 100%|██████████| 82/82 [00:12<00:00,  6.59it/s]\n"
     ]
    },
    {
     "name": "stdout",
     "output_type": "stream",
     "text": [
      "\n",
      "      Epoch    GPU_mem   box_loss   cls_loss   dfl_loss  Instances       Size\n"
     ]
    },
    {
     "name": "stderr",
     "output_type": "stream",
     "text": [
      "    78/1000      7.21G      0.384     0.2917     0.7865        632        736: 100%|██████████| 82/82 [00:12<00:00,  6.59it/s]\n"
     ]
    },
    {
     "name": "stdout",
     "output_type": "stream",
     "text": [
      "\n",
      "      Epoch    GPU_mem   box_loss   cls_loss   dfl_loss  Instances       Size\n"
     ]
    },
    {
     "name": "stderr",
     "output_type": "stream",
     "text": [
      "    79/1000      6.91G     0.3858     0.2881     0.7876        546        736: 100%|██████████| 82/82 [00:12<00:00,  6.59it/s]\n"
     ]
    },
    {
     "name": "stdout",
     "output_type": "stream",
     "text": [
      "\n",
      "      Epoch    GPU_mem   box_loss   cls_loss   dfl_loss  Instances       Size\n"
     ]
    },
    {
     "name": "stderr",
     "output_type": "stream",
     "text": [
      "    80/1000      6.65G     0.3824     0.2886     0.7857        482        736: 100%|██████████| 82/82 [00:12<00:00,  6.58it/s]\n"
     ]
    },
    {
     "name": "stdout",
     "output_type": "stream",
     "text": [
      "\n",
      "      Epoch    GPU_mem   box_loss   cls_loss   dfl_loss  Instances       Size\n"
     ]
    },
    {
     "name": "stderr",
     "output_type": "stream",
     "text": [
      "    81/1000      6.76G     0.3758     0.2849     0.7852        605        736: 100%|██████████| 82/82 [00:12<00:00,  6.58it/s]\n"
     ]
    },
    {
     "name": "stdout",
     "output_type": "stream",
     "text": [
      "\n",
      "      Epoch    GPU_mem   box_loss   cls_loss   dfl_loss  Instances       Size\n"
     ]
    },
    {
     "name": "stderr",
     "output_type": "stream",
     "text": [
      "    82/1000      6.64G     0.3773      0.286     0.7856        543        736: 100%|██████████| 82/82 [00:12<00:00,  6.59it/s]\n"
     ]
    },
    {
     "name": "stdout",
     "output_type": "stream",
     "text": [
      "\n",
      "      Epoch    GPU_mem   box_loss   cls_loss   dfl_loss  Instances       Size\n"
     ]
    },
    {
     "name": "stderr",
     "output_type": "stream",
     "text": [
      "    83/1000      7.43G     0.3704     0.2812     0.7863        591        736: 100%|██████████| 82/82 [00:12<00:00,  6.58it/s]\n"
     ]
    },
    {
     "name": "stdout",
     "output_type": "stream",
     "text": [
      "\n",
      "      Epoch    GPU_mem   box_loss   cls_loss   dfl_loss  Instances       Size\n"
     ]
    },
    {
     "name": "stderr",
     "output_type": "stream",
     "text": [
      "    84/1000      6.89G     0.3681     0.2847     0.7851        445        736: 100%|██████████| 82/82 [00:12<00:00,  6.59it/s]\n"
     ]
    },
    {
     "name": "stdout",
     "output_type": "stream",
     "text": [
      "\n",
      "      Epoch    GPU_mem   box_loss   cls_loss   dfl_loss  Instances       Size\n"
     ]
    },
    {
     "name": "stderr",
     "output_type": "stream",
     "text": [
      "    85/1000      7.41G     0.3667     0.2832     0.7854        470        736: 100%|██████████| 82/82 [00:12<00:00,  6.58it/s]\n"
     ]
    },
    {
     "name": "stdout",
     "output_type": "stream",
     "text": [
      "\n",
      "      Epoch    GPU_mem   box_loss   cls_loss   dfl_loss  Instances       Size\n"
     ]
    },
    {
     "name": "stderr",
     "output_type": "stream",
     "text": [
      "    86/1000       6.6G     0.3654     0.2797     0.7852        795        736: 100%|██████████| 82/82 [00:12<00:00,  6.60it/s]\n"
     ]
    },
    {
     "name": "stdout",
     "output_type": "stream",
     "text": [
      "\n",
      "      Epoch    GPU_mem   box_loss   cls_loss   dfl_loss  Instances       Size\n"
     ]
    },
    {
     "name": "stderr",
     "output_type": "stream",
     "text": [
      "    87/1000      6.58G     0.3651     0.2764     0.7844        614        736: 100%|██████████| 82/82 [00:12<00:00,  6.60it/s]\n"
     ]
    },
    {
     "name": "stdout",
     "output_type": "stream",
     "text": [
      "\n",
      "      Epoch    GPU_mem   box_loss   cls_loss   dfl_loss  Instances       Size\n"
     ]
    },
    {
     "name": "stderr",
     "output_type": "stream",
     "text": [
      "    88/1000      6.91G      0.366     0.2769     0.7842        546        736: 100%|██████████| 82/82 [00:12<00:00,  6.60it/s]\n"
     ]
    },
    {
     "name": "stdout",
     "output_type": "stream",
     "text": [
      "\n",
      "      Epoch    GPU_mem   box_loss   cls_loss   dfl_loss  Instances       Size\n"
     ]
    },
    {
     "name": "stderr",
     "output_type": "stream",
     "text": [
      "    89/1000      7.33G     0.3583     0.2715      0.784        603        736: 100%|██████████| 82/82 [00:12<00:00,  6.58it/s]\n"
     ]
    },
    {
     "name": "stdout",
     "output_type": "stream",
     "text": [
      "\n",
      "      Epoch    GPU_mem   box_loss   cls_loss   dfl_loss  Instances       Size\n"
     ]
    },
    {
     "name": "stderr",
     "output_type": "stream",
     "text": [
      "    90/1000      6.68G     0.3652     0.2773     0.7851        678        736: 100%|██████████| 82/82 [00:12<00:00,  6.59it/s]\n"
     ]
    },
    {
     "name": "stdout",
     "output_type": "stream",
     "text": [
      "\n",
      "      Epoch    GPU_mem   box_loss   cls_loss   dfl_loss  Instances       Size\n"
     ]
    },
    {
     "name": "stderr",
     "output_type": "stream",
     "text": [
      "    91/1000      6.62G     0.3596     0.2734     0.7822        811        736: 100%|██████████| 82/82 [00:12<00:00,  6.59it/s]\n"
     ]
    },
    {
     "name": "stdout",
     "output_type": "stream",
     "text": [
      "\n",
      "      Epoch    GPU_mem   box_loss   cls_loss   dfl_loss  Instances       Size\n"
     ]
    },
    {
     "name": "stderr",
     "output_type": "stream",
     "text": [
      "    92/1000      6.63G     0.3552     0.2715     0.7826        482        736: 100%|██████████| 82/82 [00:12<00:00,  6.60it/s]\n"
     ]
    },
    {
     "name": "stdout",
     "output_type": "stream",
     "text": [
      "\n",
      "      Epoch    GPU_mem   box_loss   cls_loss   dfl_loss  Instances       Size\n"
     ]
    },
    {
     "name": "stderr",
     "output_type": "stream",
     "text": [
      "    93/1000      7.61G     0.3523     0.2713     0.7822        640        736: 100%|██████████| 82/82 [00:12<00:00,  6.57it/s]\n"
     ]
    },
    {
     "name": "stdout",
     "output_type": "stream",
     "text": [
      "\n",
      "      Epoch    GPU_mem   box_loss   cls_loss   dfl_loss  Instances       Size\n"
     ]
    },
    {
     "name": "stderr",
     "output_type": "stream",
     "text": [
      "    94/1000      6.78G     0.3519     0.2697     0.7838        497        736: 100%|██████████| 82/82 [00:12<00:00,  6.57it/s]\n"
     ]
    },
    {
     "name": "stdout",
     "output_type": "stream",
     "text": [
      "\n",
      "      Epoch    GPU_mem   box_loss   cls_loss   dfl_loss  Instances       Size\n"
     ]
    },
    {
     "name": "stderr",
     "output_type": "stream",
     "text": [
      "    95/1000      6.66G     0.3537     0.2687     0.7831        631        736: 100%|██████████| 82/82 [00:12<00:00,  6.55it/s]\n"
     ]
    },
    {
     "name": "stdout",
     "output_type": "stream",
     "text": [
      "\n",
      "      Epoch    GPU_mem   box_loss   cls_loss   dfl_loss  Instances       Size\n"
     ]
    },
    {
     "name": "stderr",
     "output_type": "stream",
     "text": [
      "    96/1000      5.97G     0.3488     0.2663     0.7825        636        736: 100%|██████████| 82/82 [00:12<00:00,  6.59it/s]\n"
     ]
    },
    {
     "name": "stdout",
     "output_type": "stream",
     "text": [
      "\n",
      "      Epoch    GPU_mem   box_loss   cls_loss   dfl_loss  Instances       Size\n"
     ]
    },
    {
     "name": "stderr",
     "output_type": "stream",
     "text": [
      "    97/1000         7G     0.3437     0.2686      0.782        612        736: 100%|██████████| 82/82 [00:12<00:00,  6.58it/s]\n"
     ]
    },
    {
     "name": "stdout",
     "output_type": "stream",
     "text": [
      "\n",
      "      Epoch    GPU_mem   box_loss   cls_loss   dfl_loss  Instances       Size\n"
     ]
    },
    {
     "name": "stderr",
     "output_type": "stream",
     "text": [
      "    98/1000      7.64G     0.3465     0.2669     0.7819        614        736: 100%|██████████| 82/82 [00:12<00:00,  6.57it/s]\n"
     ]
    },
    {
     "name": "stdout",
     "output_type": "stream",
     "text": [
      "\n",
      "      Epoch    GPU_mem   box_loss   cls_loss   dfl_loss  Instances       Size\n"
     ]
    },
    {
     "name": "stderr",
     "output_type": "stream",
     "text": [
      "    99/1000      6.96G     0.3433     0.2654     0.7809        471        736: 100%|██████████| 82/82 [00:12<00:00,  6.59it/s]\n"
     ]
    },
    {
     "name": "stdout",
     "output_type": "stream",
     "text": [
      "\n",
      "      Epoch    GPU_mem   box_loss   cls_loss   dfl_loss  Instances       Size\n"
     ]
    },
    {
     "name": "stderr",
     "output_type": "stream",
     "text": [
      "   100/1000      6.62G     0.3405     0.2673     0.7821        536        736: 100%|██████████| 82/82 [00:12<00:00,  6.65it/s]\n"
     ]
    },
    {
     "name": "stdout",
     "output_type": "stream",
     "text": [
      "\n",
      "      Epoch    GPU_mem   box_loss   cls_loss   dfl_loss  Instances       Size\n"
     ]
    },
    {
     "name": "stderr",
     "output_type": "stream",
     "text": [
      "   101/1000      6.95G     0.3384     0.2625      0.783        699        736: 100%|██████████| 82/82 [00:12<00:00,  6.64it/s]\n"
     ]
    },
    {
     "name": "stdout",
     "output_type": "stream",
     "text": [
      "\n",
      "      Epoch    GPU_mem   box_loss   cls_loss   dfl_loss  Instances       Size\n"
     ]
    },
    {
     "name": "stderr",
     "output_type": "stream",
     "text": [
      "   102/1000      7.04G     0.3411     0.2624     0.7822        644        736: 100%|██████████| 82/82 [00:12<00:00,  6.65it/s]\n"
     ]
    },
    {
     "name": "stdout",
     "output_type": "stream",
     "text": [
      "\n",
      "      Epoch    GPU_mem   box_loss   cls_loss   dfl_loss  Instances       Size\n"
     ]
    },
    {
     "name": "stderr",
     "output_type": "stream",
     "text": [
      "   103/1000      7.48G     0.3395     0.2651     0.7805        403        736: 100%|██████████| 82/82 [00:12<00:00,  6.64it/s]\n"
     ]
    },
    {
     "name": "stdout",
     "output_type": "stream",
     "text": [
      "\n",
      "      Epoch    GPU_mem   box_loss   cls_loss   dfl_loss  Instances       Size\n"
     ]
    },
    {
     "name": "stderr",
     "output_type": "stream",
     "text": [
      "   104/1000      6.46G     0.3377     0.2627     0.7821        722        736: 100%|██████████| 82/82 [00:12<00:00,  6.64it/s]\n"
     ]
    },
    {
     "name": "stdout",
     "output_type": "stream",
     "text": [
      "\n",
      "      Epoch    GPU_mem   box_loss   cls_loss   dfl_loss  Instances       Size\n"
     ]
    },
    {
     "name": "stderr",
     "output_type": "stream",
     "text": [
      "   105/1000      7.41G     0.3348     0.2604     0.7803        656        736: 100%|██████████| 82/82 [00:12<00:00,  6.64it/s]\n"
     ]
    },
    {
     "name": "stdout",
     "output_type": "stream",
     "text": [
      "\n",
      "      Epoch    GPU_mem   box_loss   cls_loss   dfl_loss  Instances       Size\n"
     ]
    },
    {
     "name": "stderr",
     "output_type": "stream",
     "text": [
      "   106/1000         7G     0.3358     0.2582     0.7812        547        736: 100%|██████████| 82/82 [00:12<00:00,  6.63it/s]\n"
     ]
    },
    {
     "name": "stdout",
     "output_type": "stream",
     "text": [
      "\n",
      "      Epoch    GPU_mem   box_loss   cls_loss   dfl_loss  Instances       Size\n"
     ]
    },
    {
     "name": "stderr",
     "output_type": "stream",
     "text": [
      "   107/1000      6.26G     0.3326      0.261     0.7815        509        736: 100%|██████████| 82/82 [00:12<00:00,  6.65it/s]\n"
     ]
    },
    {
     "name": "stdout",
     "output_type": "stream",
     "text": [
      "\n",
      "      Epoch    GPU_mem   box_loss   cls_loss   dfl_loss  Instances       Size\n"
     ]
    },
    {
     "name": "stderr",
     "output_type": "stream",
     "text": [
      "   108/1000      6.62G     0.3311     0.2588     0.7818        573        736: 100%|██████████| 82/82 [00:12<00:00,  6.65it/s]\n"
     ]
    },
    {
     "name": "stdout",
     "output_type": "stream",
     "text": [
      "\n",
      "      Epoch    GPU_mem   box_loss   cls_loss   dfl_loss  Instances       Size\n"
     ]
    },
    {
     "name": "stderr",
     "output_type": "stream",
     "text": [
      "   109/1000      7.53G     0.3263     0.2546     0.7803        567        736: 100%|██████████| 82/82 [00:12<00:00,  6.64it/s]\n"
     ]
    },
    {
     "name": "stdout",
     "output_type": "stream",
     "text": [
      "\n",
      "      Epoch    GPU_mem   box_loss   cls_loss   dfl_loss  Instances       Size\n"
     ]
    },
    {
     "name": "stderr",
     "output_type": "stream",
     "text": [
      "   110/1000      6.48G     0.3271     0.2563     0.7813        782        736: 100%|██████████| 82/82 [00:12<00:00,  6.65it/s]\n"
     ]
    },
    {
     "name": "stdout",
     "output_type": "stream",
     "text": [
      "\n",
      "      Epoch    GPU_mem   box_loss   cls_loss   dfl_loss  Instances       Size\n"
     ]
    },
    {
     "name": "stderr",
     "output_type": "stream",
     "text": [
      "   111/1000      6.73G     0.3368     0.2538     0.7802        634        736: 100%|██████████| 82/82 [00:12<00:00,  6.65it/s]\n"
     ]
    },
    {
     "name": "stdout",
     "output_type": "stream",
     "text": [
      "\n",
      "      Epoch    GPU_mem   box_loss   cls_loss   dfl_loss  Instances       Size\n"
     ]
    },
    {
     "name": "stderr",
     "output_type": "stream",
     "text": [
      "   112/1000      6.81G     0.3288     0.2494     0.7796        646        736: 100%|██████████| 82/82 [00:12<00:00,  6.65it/s]\n"
     ]
    },
    {
     "name": "stdout",
     "output_type": "stream",
     "text": [
      "\n",
      "      Epoch    GPU_mem   box_loss   cls_loss   dfl_loss  Instances       Size\n"
     ]
    },
    {
     "name": "stderr",
     "output_type": "stream",
     "text": [
      "   113/1000      6.45G     0.3225     0.2519     0.7776        564        736: 100%|██████████| 82/82 [00:12<00:00,  6.65it/s]\n"
     ]
    },
    {
     "name": "stdout",
     "output_type": "stream",
     "text": [
      "\n",
      "      Epoch    GPU_mem   box_loss   cls_loss   dfl_loss  Instances       Size\n"
     ]
    },
    {
     "name": "stderr",
     "output_type": "stream",
     "text": [
      "   114/1000       6.6G     0.3188     0.2567     0.7782        756        736: 100%|██████████| 82/82 [00:12<00:00,  6.65it/s]\n"
     ]
    },
    {
     "name": "stdout",
     "output_type": "stream",
     "text": [
      "\n",
      "      Epoch    GPU_mem   box_loss   cls_loss   dfl_loss  Instances       Size\n"
     ]
    },
    {
     "name": "stderr",
     "output_type": "stream",
     "text": [
      "   115/1000      6.46G     0.3261     0.2565     0.7807        487        736: 100%|██████████| 82/82 [00:12<00:00,  6.65it/s]\n"
     ]
    },
    {
     "name": "stdout",
     "output_type": "stream",
     "text": [
      "\n",
      "      Epoch    GPU_mem   box_loss   cls_loss   dfl_loss  Instances       Size\n"
     ]
    },
    {
     "name": "stderr",
     "output_type": "stream",
     "text": [
      "   116/1000      6.35G     0.3224     0.2514     0.7793        696        736: 100%|██████████| 82/82 [00:12<00:00,  6.65it/s]\n"
     ]
    },
    {
     "name": "stdout",
     "output_type": "stream",
     "text": [
      "\n",
      "      Epoch    GPU_mem   box_loss   cls_loss   dfl_loss  Instances       Size\n"
     ]
    },
    {
     "name": "stderr",
     "output_type": "stream",
     "text": [
      "   117/1000      7.22G     0.3194     0.2538     0.7787        597        736: 100%|██████████| 82/82 [00:12<00:00,  6.64it/s]\n"
     ]
    },
    {
     "name": "stdout",
     "output_type": "stream",
     "text": [
      "\n",
      "      Epoch    GPU_mem   box_loss   cls_loss   dfl_loss  Instances       Size\n"
     ]
    },
    {
     "name": "stderr",
     "output_type": "stream",
     "text": [
      "   118/1000      7.43G     0.3168     0.2546     0.7793        498        736: 100%|██████████| 82/82 [00:12<00:00,  6.64it/s]\n"
     ]
    },
    {
     "name": "stdout",
     "output_type": "stream",
     "text": [
      "\n",
      "      Epoch    GPU_mem   box_loss   cls_loss   dfl_loss  Instances       Size\n"
     ]
    },
    {
     "name": "stderr",
     "output_type": "stream",
     "text": [
      "   119/1000      6.46G     0.3133     0.2527     0.7765        370        736: 100%|██████████| 82/82 [00:12<00:00,  6.65it/s]\n"
     ]
    },
    {
     "name": "stdout",
     "output_type": "stream",
     "text": [
      "\n",
      "      Epoch    GPU_mem   box_loss   cls_loss   dfl_loss  Instances       Size\n"
     ]
    },
    {
     "name": "stderr",
     "output_type": "stream",
     "text": [
      "   120/1000      6.64G     0.3154       0.25     0.7793        630        736: 100%|██████████| 82/82 [00:12<00:00,  6.65it/s]\n"
     ]
    },
    {
     "name": "stdout",
     "output_type": "stream",
     "text": [
      "\n",
      "      Epoch    GPU_mem   box_loss   cls_loss   dfl_loss  Instances       Size\n"
     ]
    },
    {
     "name": "stderr",
     "output_type": "stream",
     "text": [
      "   121/1000      7.07G     0.3127     0.2461     0.7777        548        736: 100%|██████████| 82/82 [00:12<00:00,  6.63it/s]\n"
     ]
    },
    {
     "name": "stdout",
     "output_type": "stream",
     "text": [
      "\n",
      "      Epoch    GPU_mem   box_loss   cls_loss   dfl_loss  Instances       Size\n"
     ]
    },
    {
     "name": "stderr",
     "output_type": "stream",
     "text": [
      "   122/1000      6.62G     0.3116     0.2475     0.7785        399        736: 100%|██████████| 82/82 [00:12<00:00,  6.65it/s]\n"
     ]
    },
    {
     "name": "stdout",
     "output_type": "stream",
     "text": [
      "\n",
      "      Epoch    GPU_mem   box_loss   cls_loss   dfl_loss  Instances       Size\n"
     ]
    },
    {
     "name": "stderr",
     "output_type": "stream",
     "text": [
      "   123/1000      6.46G     0.3043     0.2478     0.7778        627        736: 100%|██████████| 82/82 [00:12<00:00,  6.64it/s]\n"
     ]
    },
    {
     "name": "stdout",
     "output_type": "stream",
     "text": [
      "\n",
      "      Epoch    GPU_mem   box_loss   cls_loss   dfl_loss  Instances       Size\n"
     ]
    },
    {
     "name": "stderr",
     "output_type": "stream",
     "text": [
      "   124/1000      6.33G     0.3126     0.2474     0.7773        584        736: 100%|██████████| 82/82 [00:12<00:00,  6.66it/s]\n"
     ]
    },
    {
     "name": "stdout",
     "output_type": "stream",
     "text": [
      "\n",
      "      Epoch    GPU_mem   box_loss   cls_loss   dfl_loss  Instances       Size\n"
     ]
    },
    {
     "name": "stderr",
     "output_type": "stream",
     "text": [
      "   125/1000      6.46G     0.3078      0.245     0.7775        613        736: 100%|██████████| 82/82 [00:12<00:00,  6.64it/s]\n"
     ]
    },
    {
     "name": "stdout",
     "output_type": "stream",
     "text": [
      "\n",
      "      Epoch    GPU_mem   box_loss   cls_loss   dfl_loss  Instances       Size\n"
     ]
    },
    {
     "name": "stderr",
     "output_type": "stream",
     "text": [
      "   126/1000      6.46G     0.3065     0.2421     0.7775        573        736: 100%|██████████| 82/82 [00:12<00:00,  6.64it/s]\n"
     ]
    },
    {
     "name": "stdout",
     "output_type": "stream",
     "text": [
      "\n",
      "      Epoch    GPU_mem   box_loss   cls_loss   dfl_loss  Instances       Size\n"
     ]
    },
    {
     "name": "stderr",
     "output_type": "stream",
     "text": [
      "   127/1000      7.02G      0.306     0.2435      0.777        496        736: 100%|██████████| 82/82 [00:12<00:00,  6.64it/s]\n"
     ]
    },
    {
     "name": "stdout",
     "output_type": "stream",
     "text": [
      "\n",
      "      Epoch    GPU_mem   box_loss   cls_loss   dfl_loss  Instances       Size\n"
     ]
    },
    {
     "name": "stderr",
     "output_type": "stream",
     "text": [
      "   128/1000      6.87G     0.3038     0.2432     0.7763        361        736: 100%|██████████| 82/82 [00:12<00:00,  6.64it/s]\n"
     ]
    },
    {
     "name": "stdout",
     "output_type": "stream",
     "text": [
      "\n",
      "      Epoch    GPU_mem   box_loss   cls_loss   dfl_loss  Instances       Size\n"
     ]
    },
    {
     "name": "stderr",
     "output_type": "stream",
     "text": [
      "   129/1000      6.25G     0.3073     0.2442     0.7773        529        736: 100%|██████████| 82/82 [00:12<00:00,  6.66it/s]\n"
     ]
    },
    {
     "name": "stdout",
     "output_type": "stream",
     "text": [
      "\n",
      "      Epoch    GPU_mem   box_loss   cls_loss   dfl_loss  Instances       Size\n"
     ]
    },
    {
     "name": "stderr",
     "output_type": "stream",
     "text": [
      "   130/1000      6.67G     0.2986     0.2434     0.7773        766        736: 100%|██████████| 82/82 [00:12<00:00,  6.64it/s]\n"
     ]
    },
    {
     "name": "stdout",
     "output_type": "stream",
     "text": [
      "\n",
      "      Epoch    GPU_mem   box_loss   cls_loss   dfl_loss  Instances       Size\n"
     ]
    },
    {
     "name": "stderr",
     "output_type": "stream",
     "text": [
      "   131/1000      6.87G     0.3001     0.2443     0.7772        672        736: 100%|██████████| 82/82 [00:12<00:00,  6.65it/s]\n"
     ]
    },
    {
     "name": "stdout",
     "output_type": "stream",
     "text": [
      "\n",
      "      Epoch    GPU_mem   box_loss   cls_loss   dfl_loss  Instances       Size\n"
     ]
    },
    {
     "name": "stderr",
     "output_type": "stream",
     "text": [
      "   132/1000      7.24G     0.2948     0.2431     0.7774        653        736: 100%|██████████| 82/82 [00:12<00:00,  6.64it/s]\n"
     ]
    },
    {
     "name": "stdout",
     "output_type": "stream",
     "text": [
      "\n",
      "      Epoch    GPU_mem   box_loss   cls_loss   dfl_loss  Instances       Size\n"
     ]
    },
    {
     "name": "stderr",
     "output_type": "stream",
     "text": [
      "   133/1000      6.63G     0.2951     0.2402     0.7796        617        736: 100%|██████████| 82/82 [00:12<00:00,  6.66it/s]\n"
     ]
    },
    {
     "name": "stdout",
     "output_type": "stream",
     "text": [
      "\n",
      "      Epoch    GPU_mem   box_loss   cls_loss   dfl_loss  Instances       Size\n"
     ]
    },
    {
     "name": "stderr",
     "output_type": "stream",
     "text": [
      "   134/1000       7.1G     0.2986     0.2388     0.7781        685        736: 100%|██████████| 82/82 [00:12<00:00,  6.63it/s]\n"
     ]
    },
    {
     "name": "stdout",
     "output_type": "stream",
     "text": [
      "\n",
      "      Epoch    GPU_mem   box_loss   cls_loss   dfl_loss  Instances       Size\n"
     ]
    },
    {
     "name": "stderr",
     "output_type": "stream",
     "text": [
      "   135/1000      6.64G     0.2992      0.238     0.7776        609        736: 100%|██████████| 82/82 [00:12<00:00,  6.64it/s]\n"
     ]
    },
    {
     "name": "stdout",
     "output_type": "stream",
     "text": [
      "\n",
      "      Epoch    GPU_mem   box_loss   cls_loss   dfl_loss  Instances       Size\n"
     ]
    },
    {
     "name": "stderr",
     "output_type": "stream",
     "text": [
      "   136/1000      6.99G     0.2944     0.2396     0.7771        651        736: 100%|██████████| 82/82 [00:12<00:00,  6.64it/s]\n"
     ]
    },
    {
     "name": "stdout",
     "output_type": "stream",
     "text": [
      "\n",
      "      Epoch    GPU_mem   box_loss   cls_loss   dfl_loss  Instances       Size\n"
     ]
    },
    {
     "name": "stderr",
     "output_type": "stream",
     "text": [
      "   137/1000       7.1G     0.2933     0.2383     0.7772        993        736: 100%|██████████| 82/82 [00:12<00:00,  6.65it/s]\n"
     ]
    },
    {
     "name": "stdout",
     "output_type": "stream",
     "text": [
      "\n",
      "      Epoch    GPU_mem   box_loss   cls_loss   dfl_loss  Instances       Size\n"
     ]
    },
    {
     "name": "stderr",
     "output_type": "stream",
     "text": [
      "   138/1000      6.94G     0.2933     0.2358     0.7768        446        736: 100%|██████████| 82/82 [00:12<00:00,  6.65it/s]\n"
     ]
    },
    {
     "name": "stdout",
     "output_type": "stream",
     "text": [
      "\n",
      "      Epoch    GPU_mem   box_loss   cls_loss   dfl_loss  Instances       Size\n"
     ]
    },
    {
     "name": "stderr",
     "output_type": "stream",
     "text": [
      "   139/1000      7.07G     0.2911     0.2398     0.7774        707        736: 100%|██████████| 82/82 [00:12<00:00,  6.63it/s]\n"
     ]
    },
    {
     "name": "stdout",
     "output_type": "stream",
     "text": [
      "\n",
      "      Epoch    GPU_mem   box_loss   cls_loss   dfl_loss  Instances       Size\n"
     ]
    },
    {
     "name": "stderr",
     "output_type": "stream",
     "text": [
      "   140/1000      7.31G     0.2937      0.235     0.7764        749        736: 100%|██████████| 82/82 [00:12<00:00,  6.64it/s]\n"
     ]
    },
    {
     "name": "stdout",
     "output_type": "stream",
     "text": [
      "\n",
      "      Epoch    GPU_mem   box_loss   cls_loss   dfl_loss  Instances       Size\n"
     ]
    },
    {
     "name": "stderr",
     "output_type": "stream",
     "text": [
      "   141/1000      6.98G     0.2927     0.2321     0.7772        476        736: 100%|██████████| 82/82 [00:12<00:00,  6.64it/s]\n"
     ]
    },
    {
     "name": "stdout",
     "output_type": "stream",
     "text": [
      "\n",
      "      Epoch    GPU_mem   box_loss   cls_loss   dfl_loss  Instances       Size\n"
     ]
    },
    {
     "name": "stderr",
     "output_type": "stream",
     "text": [
      "   142/1000      6.59G     0.2856     0.2373     0.7751        421        736: 100%|██████████| 82/82 [00:12<00:00,  6.35it/s]\n"
     ]
    },
    {
     "name": "stdout",
     "output_type": "stream",
     "text": [
      "\n",
      "      Epoch    GPU_mem   box_loss   cls_loss   dfl_loss  Instances       Size\n"
     ]
    },
    {
     "name": "stderr",
     "output_type": "stream",
     "text": [
      "   143/1000      6.44G     0.2866     0.2395     0.7768        395        736: 100%|██████████| 82/82 [00:12<00:00,  6.58it/s]\n"
     ]
    },
    {
     "name": "stdout",
     "output_type": "stream",
     "text": [
      "\n",
      "      Epoch    GPU_mem   box_loss   cls_loss   dfl_loss  Instances       Size\n"
     ]
    },
    {
     "name": "stderr",
     "output_type": "stream",
     "text": [
      "   144/1000      6.62G     0.2929     0.2344     0.7771        593        736: 100%|██████████| 82/82 [00:12<00:00,  6.57it/s]\n"
     ]
    },
    {
     "name": "stdout",
     "output_type": "stream",
     "text": [
      "\n",
      "      Epoch    GPU_mem   box_loss   cls_loss   dfl_loss  Instances       Size\n"
     ]
    },
    {
     "name": "stderr",
     "output_type": "stream",
     "text": [
      "   145/1000       6.9G     0.2918     0.2327     0.7758        414        736: 100%|██████████| 82/82 [00:12<00:00,  6.57it/s]\n"
     ]
    },
    {
     "name": "stdout",
     "output_type": "stream",
     "text": [
      "\n",
      "      Epoch    GPU_mem   box_loss   cls_loss   dfl_loss  Instances       Size\n"
     ]
    },
    {
     "name": "stderr",
     "output_type": "stream",
     "text": [
      "   146/1000      6.68G     0.2875     0.2327     0.7769        699        736: 100%|██████████| 82/82 [00:12<00:00,  6.59it/s]\n"
     ]
    },
    {
     "name": "stdout",
     "output_type": "stream",
     "text": [
      "\n",
      "      Epoch    GPU_mem   box_loss   cls_loss   dfl_loss  Instances       Size\n"
     ]
    },
    {
     "name": "stderr",
     "output_type": "stream",
     "text": [
      "   147/1000      5.96G     0.2847     0.2301     0.7767        786        736: 100%|██████████| 82/82 [00:12<00:00,  6.66it/s]\n"
     ]
    },
    {
     "name": "stdout",
     "output_type": "stream",
     "text": [
      "\n",
      "      Epoch    GPU_mem   box_loss   cls_loss   dfl_loss  Instances       Size\n"
     ]
    },
    {
     "name": "stderr",
     "output_type": "stream",
     "text": [
      "   148/1000      7.09G     0.2827     0.2304     0.7747        675        736: 100%|██████████| 82/82 [00:12<00:00,  6.63it/s]\n"
     ]
    },
    {
     "name": "stdout",
     "output_type": "stream",
     "text": [
      "\n",
      "      Epoch    GPU_mem   box_loss   cls_loss   dfl_loss  Instances       Size\n"
     ]
    },
    {
     "name": "stderr",
     "output_type": "stream",
     "text": [
      "   149/1000      6.97G     0.2834     0.2314     0.7769        515        736: 100%|██████████| 82/82 [00:12<00:00,  6.65it/s]\n"
     ]
    },
    {
     "name": "stdout",
     "output_type": "stream",
     "text": [
      "\n",
      "      Epoch    GPU_mem   box_loss   cls_loss   dfl_loss  Instances       Size\n"
     ]
    },
    {
     "name": "stderr",
     "output_type": "stream",
     "text": [
      "   150/1000      7.23G     0.2806     0.2305     0.7751        705        736: 100%|██████████| 82/82 [00:12<00:00,  6.64it/s]\n"
     ]
    },
    {
     "name": "stdout",
     "output_type": "stream",
     "text": [
      "\n",
      "      Epoch    GPU_mem   box_loss   cls_loss   dfl_loss  Instances       Size\n"
     ]
    },
    {
     "name": "stderr",
     "output_type": "stream",
     "text": [
      "   151/1000      6.33G      0.281      0.231     0.7759        735        736: 100%|██████████| 82/82 [00:12<00:00,  6.67it/s]\n"
     ]
    },
    {
     "name": "stdout",
     "output_type": "stream",
     "text": [
      "\n",
      "      Epoch    GPU_mem   box_loss   cls_loss   dfl_loss  Instances       Size\n"
     ]
    },
    {
     "name": "stderr",
     "output_type": "stream",
     "text": [
      "   152/1000      6.81G     0.2824     0.2294     0.7771        548        736: 100%|██████████| 82/82 [00:12<00:00,  6.64it/s]\n"
     ]
    },
    {
     "name": "stdout",
     "output_type": "stream",
     "text": [
      "\n",
      "      Epoch    GPU_mem   box_loss   cls_loss   dfl_loss  Instances       Size\n"
     ]
    },
    {
     "name": "stderr",
     "output_type": "stream",
     "text": [
      "   153/1000      6.99G     0.2805     0.2306     0.7772        466        736: 100%|██████████| 82/82 [00:12<00:00,  6.65it/s]\n"
     ]
    },
    {
     "name": "stdout",
     "output_type": "stream",
     "text": [
      "\n",
      "      Epoch    GPU_mem   box_loss   cls_loss   dfl_loss  Instances       Size\n"
     ]
    },
    {
     "name": "stderr",
     "output_type": "stream",
     "text": [
      "   154/1000      6.77G       0.28     0.2266     0.7749        557        736: 100%|██████████| 82/82 [00:12<00:00,  6.64it/s]\n"
     ]
    },
    {
     "name": "stdout",
     "output_type": "stream",
     "text": [
      "\n",
      "      Epoch    GPU_mem   box_loss   cls_loss   dfl_loss  Instances       Size\n"
     ]
    },
    {
     "name": "stderr",
     "output_type": "stream",
     "text": [
      "   155/1000      6.81G     0.2802     0.2273     0.7767        482        736: 100%|██████████| 82/82 [00:12<00:00,  6.65it/s]\n"
     ]
    },
    {
     "name": "stdout",
     "output_type": "stream",
     "text": [
      "\n",
      "      Epoch    GPU_mem   box_loss   cls_loss   dfl_loss  Instances       Size\n"
     ]
    },
    {
     "name": "stderr",
     "output_type": "stream",
     "text": [
      "   156/1000      7.39G     0.2783     0.2265     0.7754        468        736: 100%|██████████| 82/82 [00:12<00:00,  6.63it/s]\n"
     ]
    },
    {
     "name": "stdout",
     "output_type": "stream",
     "text": [
      "\n",
      "      Epoch    GPU_mem   box_loss   cls_loss   dfl_loss  Instances       Size\n"
     ]
    },
    {
     "name": "stderr",
     "output_type": "stream",
     "text": [
      "   157/1000      7.05G     0.2743     0.2247     0.7758        546        736: 100%|██████████| 82/82 [00:12<00:00,  6.65it/s]\n"
     ]
    },
    {
     "name": "stdout",
     "output_type": "stream",
     "text": [
      "\n",
      "      Epoch    GPU_mem   box_loss   cls_loss   dfl_loss  Instances       Size\n"
     ]
    },
    {
     "name": "stderr",
     "output_type": "stream",
     "text": [
      "   158/1000      6.73G     0.2712     0.2242     0.7747        505        736: 100%|██████████| 82/82 [00:12<00:00,  6.65it/s]\n"
     ]
    },
    {
     "name": "stdout",
     "output_type": "stream",
     "text": [
      "\n",
      "      Epoch    GPU_mem   box_loss   cls_loss   dfl_loss  Instances       Size\n"
     ]
    },
    {
     "name": "stderr",
     "output_type": "stream",
     "text": [
      "   159/1000      6.94G     0.2752     0.2243     0.7742        563        736: 100%|██████████| 82/82 [00:12<00:00,  6.63it/s]\n"
     ]
    },
    {
     "name": "stdout",
     "output_type": "stream",
     "text": [
      "\n",
      "      Epoch    GPU_mem   box_loss   cls_loss   dfl_loss  Instances       Size\n"
     ]
    },
    {
     "name": "stderr",
     "output_type": "stream",
     "text": [
      "   160/1000      6.78G     0.2736     0.2246     0.7738        692        736: 100%|██████████| 82/82 [00:12<00:00,  6.63it/s]\n"
     ]
    },
    {
     "name": "stdout",
     "output_type": "stream",
     "text": [
      "\n",
      "      Epoch    GPU_mem   box_loss   cls_loss   dfl_loss  Instances       Size\n"
     ]
    },
    {
     "name": "stderr",
     "output_type": "stream",
     "text": [
      "   161/1000      7.02G     0.2723     0.2268      0.774        658        736: 100%|██████████| 82/82 [00:12<00:00,  6.65it/s]\n"
     ]
    },
    {
     "name": "stdout",
     "output_type": "stream",
     "text": [
      "\n",
      "      Epoch    GPU_mem   box_loss   cls_loss   dfl_loss  Instances       Size\n"
     ]
    },
    {
     "name": "stderr",
     "output_type": "stream",
     "text": [
      "   162/1000       6.9G     0.2732     0.2289     0.7748        575        736: 100%|██████████| 82/82 [00:12<00:00,  6.65it/s]\n"
     ]
    },
    {
     "name": "stdout",
     "output_type": "stream",
     "text": [
      "\n",
      "      Epoch    GPU_mem   box_loss   cls_loss   dfl_loss  Instances       Size\n"
     ]
    },
    {
     "name": "stderr",
     "output_type": "stream",
     "text": [
      "   163/1000      7.27G     0.2667     0.2273     0.7765        519        736: 100%|██████████| 82/82 [00:12<00:00,  6.64it/s]\n"
     ]
    },
    {
     "name": "stdout",
     "output_type": "stream",
     "text": [
      "\n",
      "      Epoch    GPU_mem   box_loss   cls_loss   dfl_loss  Instances       Size\n"
     ]
    },
    {
     "name": "stderr",
     "output_type": "stream",
     "text": [
      "   164/1000      6.78G     0.2756     0.2185     0.7762        552        736: 100%|██████████| 82/82 [00:12<00:00,  6.63it/s]\n"
     ]
    },
    {
     "name": "stdout",
     "output_type": "stream",
     "text": [
      "\n",
      "      Epoch    GPU_mem   box_loss   cls_loss   dfl_loss  Instances       Size\n"
     ]
    },
    {
     "name": "stderr",
     "output_type": "stream",
     "text": [
      "   165/1000      6.49G     0.2713     0.2186     0.7742        536        736: 100%|██████████| 82/82 [00:12<00:00,  6.66it/s]\n"
     ]
    },
    {
     "name": "stdout",
     "output_type": "stream",
     "text": [
      "\n",
      "      Epoch    GPU_mem   box_loss   cls_loss   dfl_loss  Instances       Size\n"
     ]
    },
    {
     "name": "stderr",
     "output_type": "stream",
     "text": [
      "   166/1000      6.47G     0.2704     0.2167     0.7736        504        736: 100%|██████████| 82/82 [00:12<00:00,  6.65it/s]\n"
     ]
    },
    {
     "name": "stdout",
     "output_type": "stream",
     "text": [
      "\n",
      "      Epoch    GPU_mem   box_loss   cls_loss   dfl_loss  Instances       Size\n"
     ]
    },
    {
     "name": "stderr",
     "output_type": "stream",
     "text": [
      "   167/1000       7.3G     0.2694     0.2159      0.772        628        736: 100%|██████████| 82/82 [00:12<00:00,  6.62it/s]\n"
     ]
    },
    {
     "name": "stdout",
     "output_type": "stream",
     "text": [
      "\n",
      "      Epoch    GPU_mem   box_loss   cls_loss   dfl_loss  Instances       Size\n"
     ]
    },
    {
     "name": "stderr",
     "output_type": "stream",
     "text": [
      "   168/1000      6.46G     0.2636     0.2149     0.7733        463        736: 100%|██████████| 82/82 [00:12<00:00,  6.64it/s]\n"
     ]
    },
    {
     "name": "stdout",
     "output_type": "stream",
     "text": [
      "\n",
      "      Epoch    GPU_mem   box_loss   cls_loss   dfl_loss  Instances       Size\n"
     ]
    },
    {
     "name": "stderr",
     "output_type": "stream",
     "text": [
      "   169/1000      7.11G     0.2716     0.2221     0.7738        700        736: 100%|██████████| 82/82 [00:12<00:00,  6.64it/s]\n"
     ]
    },
    {
     "name": "stdout",
     "output_type": "stream",
     "text": [
      "\n",
      "      Epoch    GPU_mem   box_loss   cls_loss   dfl_loss  Instances       Size\n"
     ]
    },
    {
     "name": "stderr",
     "output_type": "stream",
     "text": [
      "   170/1000       6.7G     0.2715     0.2194     0.7752        533        736: 100%|██████████| 82/82 [00:12<00:00,  6.65it/s]\n"
     ]
    },
    {
     "name": "stdout",
     "output_type": "stream",
     "text": [
      "\n",
      "      Epoch    GPU_mem   box_loss   cls_loss   dfl_loss  Instances       Size\n"
     ]
    },
    {
     "name": "stderr",
     "output_type": "stream",
     "text": [
      "   171/1000      6.67G     0.2694     0.2207     0.7746        435        736: 100%|██████████| 82/82 [00:12<00:00,  6.66it/s]\n"
     ]
    },
    {
     "name": "stdout",
     "output_type": "stream",
     "text": [
      "\n",
      "      Epoch    GPU_mem   box_loss   cls_loss   dfl_loss  Instances       Size\n"
     ]
    },
    {
     "name": "stderr",
     "output_type": "stream",
     "text": [
      "   172/1000      7.27G     0.2659     0.2254     0.7736        406        736: 100%|██████████| 82/82 [00:12<00:00,  6.66it/s]\n"
     ]
    },
    {
     "name": "stdout",
     "output_type": "stream",
     "text": [
      "\n",
      "      Epoch    GPU_mem   box_loss   cls_loss   dfl_loss  Instances       Size\n"
     ]
    },
    {
     "name": "stderr",
     "output_type": "stream",
     "text": [
      "   173/1000      6.69G     0.2632     0.2254     0.7751        598        736: 100%|██████████| 82/82 [00:12<00:00,  6.65it/s]\n"
     ]
    },
    {
     "name": "stdout",
     "output_type": "stream",
     "text": [
      "\n",
      "      Epoch    GPU_mem   box_loss   cls_loss   dfl_loss  Instances       Size\n"
     ]
    },
    {
     "name": "stderr",
     "output_type": "stream",
     "text": [
      "   174/1000      6.98G     0.2656     0.2173     0.7747        475        736: 100%|██████████| 82/82 [00:12<00:00,  6.65it/s]\n"
     ]
    },
    {
     "name": "stdout",
     "output_type": "stream",
     "text": [
      "\n",
      "      Epoch    GPU_mem   box_loss   cls_loss   dfl_loss  Instances       Size\n"
     ]
    },
    {
     "name": "stderr",
     "output_type": "stream",
     "text": [
      "   175/1000       6.3G     0.2621     0.2162     0.7735        563        736: 100%|██████████| 82/82 [00:12<00:00,  6.66it/s]\n"
     ]
    },
    {
     "name": "stdout",
     "output_type": "stream",
     "text": [
      "\n",
      "      Epoch    GPU_mem   box_loss   cls_loss   dfl_loss  Instances       Size\n"
     ]
    },
    {
     "name": "stderr",
     "output_type": "stream",
     "text": [
      "   176/1000      6.98G     0.2602     0.2175     0.7733        558        736: 100%|██████████| 82/82 [00:12<00:00,  6.65it/s]\n"
     ]
    },
    {
     "name": "stdout",
     "output_type": "stream",
     "text": [
      "\n",
      "      Epoch    GPU_mem   box_loss   cls_loss   dfl_loss  Instances       Size\n"
     ]
    },
    {
     "name": "stderr",
     "output_type": "stream",
     "text": [
      "   177/1000      7.32G     0.2579     0.2169     0.7738        546        736: 100%|██████████| 82/82 [00:12<00:00,  6.64it/s]\n"
     ]
    },
    {
     "name": "stdout",
     "output_type": "stream",
     "text": [
      "\n",
      "      Epoch    GPU_mem   box_loss   cls_loss   dfl_loss  Instances       Size\n"
     ]
    },
    {
     "name": "stderr",
     "output_type": "stream",
     "text": [
      "   178/1000      6.77G     0.2601     0.2157     0.7739        492        736: 100%|██████████| 82/82 [00:12<00:00,  6.65it/s]\n"
     ]
    },
    {
     "name": "stdout",
     "output_type": "stream",
     "text": [
      "\n",
      "      Epoch    GPU_mem   box_loss   cls_loss   dfl_loss  Instances       Size\n"
     ]
    },
    {
     "name": "stderr",
     "output_type": "stream",
     "text": [
      "   179/1000      7.05G      0.258     0.2192     0.7733        628        736: 100%|██████████| 82/82 [00:12<00:00,  6.63it/s]\n"
     ]
    },
    {
     "name": "stdout",
     "output_type": "stream",
     "text": [
      "\n",
      "      Epoch    GPU_mem   box_loss   cls_loss   dfl_loss  Instances       Size\n"
     ]
    },
    {
     "name": "stderr",
     "output_type": "stream",
     "text": [
      "   180/1000      7.01G     0.2565     0.2223     0.7737        691        736: 100%|██████████| 82/82 [00:12<00:00,  6.65it/s]\n"
     ]
    },
    {
     "name": "stdout",
     "output_type": "stream",
     "text": [
      "\n",
      "      Epoch    GPU_mem   box_loss   cls_loss   dfl_loss  Instances       Size\n"
     ]
    },
    {
     "name": "stderr",
     "output_type": "stream",
     "text": [
      "   181/1000      6.96G     0.2584       0.21     0.7737        615        736: 100%|██████████| 82/82 [00:12<00:00,  6.65it/s]\n"
     ]
    },
    {
     "name": "stdout",
     "output_type": "stream",
     "text": [
      "\n",
      "      Epoch    GPU_mem   box_loss   cls_loss   dfl_loss  Instances       Size\n"
     ]
    },
    {
     "name": "stderr",
     "output_type": "stream",
     "text": [
      "   182/1000      6.56G     0.2586     0.2152     0.7725        718        736: 100%|██████████| 82/82 [00:12<00:00,  6.64it/s]\n"
     ]
    },
    {
     "name": "stdout",
     "output_type": "stream",
     "text": [
      "\n",
      "      Epoch    GPU_mem   box_loss   cls_loss   dfl_loss  Instances       Size\n"
     ]
    },
    {
     "name": "stderr",
     "output_type": "stream",
     "text": [
      "   183/1000      7.14G     0.2562      0.218     0.7726        628        736: 100%|██████████| 82/82 [00:12<00:00,  6.65it/s]\n"
     ]
    },
    {
     "name": "stdout",
     "output_type": "stream",
     "text": [
      "\n",
      "      Epoch    GPU_mem   box_loss   cls_loss   dfl_loss  Instances       Size\n"
     ]
    },
    {
     "name": "stderr",
     "output_type": "stream",
     "text": [
      "   184/1000      6.86G     0.2579     0.2189     0.7741        532        736: 100%|██████████| 82/82 [00:12<00:00,  6.64it/s]\n"
     ]
    },
    {
     "name": "stdout",
     "output_type": "stream",
     "text": [
      "\n",
      "      Epoch    GPU_mem   box_loss   cls_loss   dfl_loss  Instances       Size\n"
     ]
    },
    {
     "name": "stderr",
     "output_type": "stream",
     "text": [
      "   185/1000       7.3G     0.2583     0.2147     0.7735        576        736: 100%|██████████| 82/82 [00:12<00:00,  6.63it/s]\n"
     ]
    },
    {
     "name": "stdout",
     "output_type": "stream",
     "text": [
      "\n",
      "      Epoch    GPU_mem   box_loss   cls_loss   dfl_loss  Instances       Size\n"
     ]
    },
    {
     "name": "stderr",
     "output_type": "stream",
     "text": [
      "   186/1000      7.07G     0.2587     0.2132     0.7734        539        736: 100%|██████████| 82/82 [00:12<00:00,  6.65it/s]\n"
     ]
    },
    {
     "name": "stdout",
     "output_type": "stream",
     "text": [
      "\n",
      "      Epoch    GPU_mem   box_loss   cls_loss   dfl_loss  Instances       Size\n"
     ]
    },
    {
     "name": "stderr",
     "output_type": "stream",
     "text": [
      "   187/1000      7.05G     0.2569     0.2113     0.7738        540        736: 100%|██████████| 82/82 [00:12<00:00,  6.65it/s]\n"
     ]
    },
    {
     "name": "stdout",
     "output_type": "stream",
     "text": [
      "\n",
      "      Epoch    GPU_mem   box_loss   cls_loss   dfl_loss  Instances       Size\n"
     ]
    },
    {
     "name": "stderr",
     "output_type": "stream",
     "text": [
      "   188/1000      7.24G     0.2543     0.2107     0.7739        632        736: 100%|██████████| 82/82 [00:12<00:00,  6.63it/s]\n"
     ]
    },
    {
     "name": "stdout",
     "output_type": "stream",
     "text": [
      "\n",
      "      Epoch    GPU_mem   box_loss   cls_loss   dfl_loss  Instances       Size\n"
     ]
    },
    {
     "name": "stderr",
     "output_type": "stream",
     "text": [
      "   189/1000       6.9G     0.2544     0.2123     0.7739        451        736: 100%|██████████| 82/82 [00:12<00:00,  6.63it/s]\n"
     ]
    },
    {
     "name": "stdout",
     "output_type": "stream",
     "text": [
      "\n",
      "      Epoch    GPU_mem   box_loss   cls_loss   dfl_loss  Instances       Size\n"
     ]
    },
    {
     "name": "stderr",
     "output_type": "stream",
     "text": [
      "   190/1000      6.99G     0.2508     0.2099     0.7727        534        736: 100%|██████████| 82/82 [00:12<00:00,  6.64it/s]\n"
     ]
    },
    {
     "name": "stdout",
     "output_type": "stream",
     "text": [
      "\n",
      "      Epoch    GPU_mem   box_loss   cls_loss   dfl_loss  Instances       Size\n"
     ]
    },
    {
     "name": "stderr",
     "output_type": "stream",
     "text": [
      "   191/1000       6.6G     0.2492     0.2097     0.7721        684        736: 100%|██████████| 82/82 [00:12<00:00,  6.65it/s]\n"
     ]
    },
    {
     "name": "stdout",
     "output_type": "stream",
     "text": [
      "\n",
      "      Epoch    GPU_mem   box_loss   cls_loss   dfl_loss  Instances       Size\n"
     ]
    },
    {
     "name": "stderr",
     "output_type": "stream",
     "text": [
      "   192/1000      6.75G     0.2477     0.2093      0.773        693        736: 100%|██████████| 82/82 [00:12<00:00,  6.66it/s]\n"
     ]
    },
    {
     "name": "stdout",
     "output_type": "stream",
     "text": [
      "\n",
      "      Epoch    GPU_mem   box_loss   cls_loss   dfl_loss  Instances       Size\n"
     ]
    },
    {
     "name": "stderr",
     "output_type": "stream",
     "text": [
      "   193/1000      7.01G     0.2475     0.2165      0.774        412        736: 100%|██████████| 82/82 [00:12<00:00,  6.65it/s]\n"
     ]
    },
    {
     "name": "stdout",
     "output_type": "stream",
     "text": [
      "\n",
      "      Epoch    GPU_mem   box_loss   cls_loss   dfl_loss  Instances       Size\n"
     ]
    },
    {
     "name": "stderr",
     "output_type": "stream",
     "text": [
      "   194/1000      6.85G     0.2462     0.2169     0.7736        562        736: 100%|██████████| 82/82 [00:12<00:00,  6.65it/s]\n"
     ]
    },
    {
     "name": "stdout",
     "output_type": "stream",
     "text": [
      "\n",
      "      Epoch    GPU_mem   box_loss   cls_loss   dfl_loss  Instances       Size\n"
     ]
    },
    {
     "name": "stderr",
     "output_type": "stream",
     "text": [
      "   195/1000      6.79G     0.2455     0.2056     0.7734        479        736: 100%|██████████| 82/82 [00:12<00:00,  6.65it/s]\n"
     ]
    },
    {
     "name": "stdout",
     "output_type": "stream",
     "text": [
      "\n",
      "      Epoch    GPU_mem   box_loss   cls_loss   dfl_loss  Instances       Size\n"
     ]
    },
    {
     "name": "stderr",
     "output_type": "stream",
     "text": [
      "   196/1000      6.75G     0.2491     0.2041     0.7723        613        736: 100%|██████████| 82/82 [00:12<00:00,  6.66it/s]\n"
     ]
    },
    {
     "name": "stdout",
     "output_type": "stream",
     "text": [
      "\n",
      "      Epoch    GPU_mem   box_loss   cls_loss   dfl_loss  Instances       Size\n"
     ]
    },
    {
     "name": "stderr",
     "output_type": "stream",
     "text": [
      "   197/1000       7.2G     0.2445     0.2023     0.7716        599        736: 100%|██████████| 82/82 [00:12<00:00,  6.64it/s]\n"
     ]
    },
    {
     "name": "stdout",
     "output_type": "stream",
     "text": [
      "\n",
      "      Epoch    GPU_mem   box_loss   cls_loss   dfl_loss  Instances       Size\n"
     ]
    },
    {
     "name": "stderr",
     "output_type": "stream",
     "text": [
      "   198/1000      6.73G     0.2505     0.2091     0.7735        431        736: 100%|██████████| 82/82 [00:12<00:00,  6.64it/s]\n"
     ]
    },
    {
     "name": "stdout",
     "output_type": "stream",
     "text": [
      "\n",
      "      Epoch    GPU_mem   box_loss   cls_loss   dfl_loss  Instances       Size\n"
     ]
    },
    {
     "name": "stderr",
     "output_type": "stream",
     "text": [
      "   199/1000      6.68G     0.2494     0.2077     0.7719        611        736: 100%|██████████| 82/82 [00:12<00:00,  6.65it/s]\n"
     ]
    },
    {
     "name": "stdout",
     "output_type": "stream",
     "text": [
      "\n",
      "      Epoch    GPU_mem   box_loss   cls_loss   dfl_loss  Instances       Size\n"
     ]
    },
    {
     "name": "stderr",
     "output_type": "stream",
     "text": [
      "   200/1000      6.45G     0.2497     0.2071     0.7735        358        736: 100%|██████████| 82/82 [00:12<00:00,  6.65it/s]\n"
     ]
    },
    {
     "name": "stdout",
     "output_type": "stream",
     "text": [
      "\n",
      "      Epoch    GPU_mem   box_loss   cls_loss   dfl_loss  Instances       Size\n"
     ]
    },
    {
     "name": "stderr",
     "output_type": "stream",
     "text": [
      "   201/1000      6.69G     0.2454     0.2052      0.771        511        736: 100%|██████████| 82/82 [00:12<00:00,  6.65it/s]\n"
     ]
    },
    {
     "name": "stdout",
     "output_type": "stream",
     "text": [
      "\n",
      "      Epoch    GPU_mem   box_loss   cls_loss   dfl_loss  Instances       Size\n"
     ]
    },
    {
     "name": "stderr",
     "output_type": "stream",
     "text": [
      "   202/1000      7.46G     0.2469     0.2085     0.7724        522        736: 100%|██████████| 82/82 [00:12<00:00,  6.65it/s]\n"
     ]
    },
    {
     "name": "stdout",
     "output_type": "stream",
     "text": [
      "\n",
      "      Epoch    GPU_mem   box_loss   cls_loss   dfl_loss  Instances       Size\n"
     ]
    },
    {
     "name": "stderr",
     "output_type": "stream",
     "text": [
      "   203/1000      6.46G     0.2457     0.2092     0.7726        450        736: 100%|██████████| 82/82 [00:12<00:00,  6.65it/s]\n"
     ]
    },
    {
     "name": "stdout",
     "output_type": "stream",
     "text": [
      "\n",
      "      Epoch    GPU_mem   box_loss   cls_loss   dfl_loss  Instances       Size\n"
     ]
    },
    {
     "name": "stderr",
     "output_type": "stream",
     "text": [
      "   204/1000      6.62G      0.241     0.2047     0.7722        552        736: 100%|██████████| 82/82 [00:12<00:00,  6.64it/s]\n"
     ]
    },
    {
     "name": "stdout",
     "output_type": "stream",
     "text": [
      "\n",
      "      Epoch    GPU_mem   box_loss   cls_loss   dfl_loss  Instances       Size\n"
     ]
    },
    {
     "name": "stderr",
     "output_type": "stream",
     "text": [
      "   205/1000      6.59G      0.242     0.2038     0.7727        563        736: 100%|██████████| 82/82 [00:12<00:00,  6.66it/s]\n"
     ]
    },
    {
     "name": "stdout",
     "output_type": "stream",
     "text": [
      "\n",
      "      Epoch    GPU_mem   box_loss   cls_loss   dfl_loss  Instances       Size\n"
     ]
    },
    {
     "name": "stderr",
     "output_type": "stream",
     "text": [
      "   206/1000      6.79G     0.2454      0.204     0.7739        458        736: 100%|██████████| 82/82 [00:12<00:00,  6.65it/s]\n"
     ]
    },
    {
     "name": "stdout",
     "output_type": "stream",
     "text": [
      "\n",
      "      Epoch    GPU_mem   box_loss   cls_loss   dfl_loss  Instances       Size\n"
     ]
    },
    {
     "name": "stderr",
     "output_type": "stream",
     "text": [
      "   207/1000      8.06G     0.2438     0.2039     0.7723        629        736: 100%|██████████| 82/82 [00:12<00:00,  6.65it/s]\n"
     ]
    },
    {
     "name": "stdout",
     "output_type": "stream",
     "text": [
      "\n",
      "      Epoch    GPU_mem   box_loss   cls_loss   dfl_loss  Instances       Size\n"
     ]
    },
    {
     "name": "stderr",
     "output_type": "stream",
     "text": [
      "   208/1000      6.75G     0.2402     0.2023     0.7716        637        736: 100%|██████████| 82/82 [00:12<00:00,  6.64it/s]\n"
     ]
    },
    {
     "name": "stdout",
     "output_type": "stream",
     "text": [
      "\n",
      "      Epoch    GPU_mem   box_loss   cls_loss   dfl_loss  Instances       Size\n"
     ]
    },
    {
     "name": "stderr",
     "output_type": "stream",
     "text": [
      "   209/1000      6.96G     0.2437     0.2031     0.7715        564        736: 100%|██████████| 82/82 [00:12<00:00,  6.65it/s]\n"
     ]
    },
    {
     "name": "stdout",
     "output_type": "stream",
     "text": [
      "\n",
      "      Epoch    GPU_mem   box_loss   cls_loss   dfl_loss  Instances       Size\n"
     ]
    },
    {
     "name": "stderr",
     "output_type": "stream",
     "text": [
      "   210/1000      7.64G     0.2441     0.2022     0.7717        554        736: 100%|██████████| 82/82 [00:12<00:00,  6.65it/s]\n"
     ]
    },
    {
     "name": "stdout",
     "output_type": "stream",
     "text": [
      "\n",
      "      Epoch    GPU_mem   box_loss   cls_loss   dfl_loss  Instances       Size\n"
     ]
    },
    {
     "name": "stderr",
     "output_type": "stream",
     "text": [
      "   211/1000      5.97G     0.2405     0.2043     0.7722        717        736: 100%|██████████| 82/82 [00:12<00:00,  6.66it/s]\n"
     ]
    },
    {
     "name": "stdout",
     "output_type": "stream",
     "text": [
      "\n",
      "      Epoch    GPU_mem   box_loss   cls_loss   dfl_loss  Instances       Size\n"
     ]
    },
    {
     "name": "stderr",
     "output_type": "stream",
     "text": [
      "   212/1000      6.92G     0.2411     0.2025     0.7716        723        736: 100%|██████████| 82/82 [00:12<00:00,  6.63it/s]\n"
     ]
    },
    {
     "name": "stdout",
     "output_type": "stream",
     "text": [
      "\n",
      "      Epoch    GPU_mem   box_loss   cls_loss   dfl_loss  Instances       Size\n"
     ]
    },
    {
     "name": "stderr",
     "output_type": "stream",
     "text": [
      "   213/1000       7.3G      0.237     0.2033     0.7702        545        736: 100%|██████████| 82/82 [00:12<00:00,  6.64it/s]\n"
     ]
    },
    {
     "name": "stdout",
     "output_type": "stream",
     "text": [
      "\n",
      "      Epoch    GPU_mem   box_loss   cls_loss   dfl_loss  Instances       Size\n"
     ]
    },
    {
     "name": "stderr",
     "output_type": "stream",
     "text": [
      "   214/1000      7.17G     0.2398     0.1984     0.7716        385        736: 100%|██████████| 82/82 [00:12<00:00,  6.64it/s]\n"
     ]
    },
    {
     "name": "stdout",
     "output_type": "stream",
     "text": [
      "\n",
      "      Epoch    GPU_mem   box_loss   cls_loss   dfl_loss  Instances       Size\n"
     ]
    },
    {
     "name": "stderr",
     "output_type": "stream",
     "text": [
      "   215/1000      6.79G     0.2365     0.1975      0.773        465        736: 100%|██████████| 82/82 [00:12<00:00,  6.64it/s]\n"
     ]
    },
    {
     "name": "stdout",
     "output_type": "stream",
     "text": [
      "\n",
      "      Epoch    GPU_mem   box_loss   cls_loss   dfl_loss  Instances       Size\n"
     ]
    },
    {
     "name": "stderr",
     "output_type": "stream",
     "text": [
      "   216/1000      6.78G     0.2357     0.2012     0.7712        358        736: 100%|██████████| 82/82 [00:12<00:00,  6.64it/s]\n"
     ]
    },
    {
     "name": "stdout",
     "output_type": "stream",
     "text": [
      "\n",
      "      Epoch    GPU_mem   box_loss   cls_loss   dfl_loss  Instances       Size\n"
     ]
    },
    {
     "name": "stderr",
     "output_type": "stream",
     "text": [
      "   217/1000      6.99G     0.2381     0.2003     0.7719        517        736: 100%|██████████| 82/82 [00:12<00:00,  6.64it/s]\n"
     ]
    },
    {
     "name": "stdout",
     "output_type": "stream",
     "text": [
      "\n",
      "      Epoch    GPU_mem   box_loss   cls_loss   dfl_loss  Instances       Size\n"
     ]
    },
    {
     "name": "stderr",
     "output_type": "stream",
     "text": [
      "   218/1000      6.64G     0.2346     0.1986     0.7707        373        736: 100%|██████████| 82/82 [00:12<00:00,  6.66it/s]\n"
     ]
    },
    {
     "name": "stdout",
     "output_type": "stream",
     "text": [
      "\n",
      "      Epoch    GPU_mem   box_loss   cls_loss   dfl_loss  Instances       Size\n"
     ]
    },
    {
     "name": "stderr",
     "output_type": "stream",
     "text": [
      "   219/1000      7.08G      0.235     0.2021     0.7708        541        736: 100%|██████████| 82/82 [00:12<00:00,  6.64it/s]\n"
     ]
    },
    {
     "name": "stdout",
     "output_type": "stream",
     "text": [
      "\n",
      "      Epoch    GPU_mem   box_loss   cls_loss   dfl_loss  Instances       Size\n"
     ]
    },
    {
     "name": "stderr",
     "output_type": "stream",
     "text": [
      "   220/1000      6.77G     0.2359     0.1972     0.7711        495        736: 100%|██████████| 82/82 [00:12<00:00,  6.65it/s]\n"
     ]
    },
    {
     "name": "stdout",
     "output_type": "stream",
     "text": [
      "\n",
      "      Epoch    GPU_mem   box_loss   cls_loss   dfl_loss  Instances       Size\n"
     ]
    },
    {
     "name": "stderr",
     "output_type": "stream",
     "text": [
      "   221/1000      6.87G     0.2342     0.1973     0.7719        385        736: 100%|██████████| 82/82 [00:12<00:00,  6.65it/s]\n"
     ]
    },
    {
     "name": "stdout",
     "output_type": "stream",
     "text": [
      "\n",
      "      Epoch    GPU_mem   box_loss   cls_loss   dfl_loss  Instances       Size\n"
     ]
    },
    {
     "name": "stderr",
     "output_type": "stream",
     "text": [
      "   222/1000      6.91G     0.2326     0.1984     0.7714        529        736: 100%|██████████| 82/82 [00:12<00:00,  6.64it/s]\n"
     ]
    },
    {
     "name": "stdout",
     "output_type": "stream",
     "text": [
      "\n",
      "      Epoch    GPU_mem   box_loss   cls_loss   dfl_loss  Instances       Size\n"
     ]
    },
    {
     "name": "stderr",
     "output_type": "stream",
     "text": [
      "   223/1000      6.67G     0.2336     0.1961     0.7706        839        736: 100%|██████████| 82/82 [00:12<00:00,  6.65it/s]\n"
     ]
    },
    {
     "name": "stdout",
     "output_type": "stream",
     "text": [
      "\n",
      "      Epoch    GPU_mem   box_loss   cls_loss   dfl_loss  Instances       Size\n"
     ]
    },
    {
     "name": "stderr",
     "output_type": "stream",
     "text": [
      "   224/1000      7.06G     0.2347     0.1956     0.7708        580        736: 100%|██████████| 82/82 [00:12<00:00,  6.66it/s]\n"
     ]
    },
    {
     "name": "stdout",
     "output_type": "stream",
     "text": [
      "\n",
      "      Epoch    GPU_mem   box_loss   cls_loss   dfl_loss  Instances       Size\n"
     ]
    },
    {
     "name": "stderr",
     "output_type": "stream",
     "text": [
      "   225/1000      7.59G     0.2309     0.1957     0.7708        458        736: 100%|██████████| 82/82 [00:12<00:00,  6.63it/s]\n"
     ]
    },
    {
     "name": "stdout",
     "output_type": "stream",
     "text": [
      "\n",
      "      Epoch    GPU_mem   box_loss   cls_loss   dfl_loss  Instances       Size\n"
     ]
    },
    {
     "name": "stderr",
     "output_type": "stream",
     "text": [
      "   226/1000      7.25G     0.2304     0.2033     0.7688        283        736: 100%|██████████| 82/82 [00:12<00:00,  6.65it/s]\n"
     ]
    },
    {
     "name": "stdout",
     "output_type": "stream",
     "text": [
      "\n",
      "      Epoch    GPU_mem   box_loss   cls_loss   dfl_loss  Instances       Size\n"
     ]
    },
    {
     "name": "stderr",
     "output_type": "stream",
     "text": [
      "   227/1000      7.29G     0.2275     0.2043     0.7723        766        736: 100%|██████████| 82/82 [00:12<00:00,  6.64it/s]\n"
     ]
    },
    {
     "name": "stdout",
     "output_type": "stream",
     "text": [
      "\n",
      "      Epoch    GPU_mem   box_loss   cls_loss   dfl_loss  Instances       Size\n"
     ]
    },
    {
     "name": "stderr",
     "output_type": "stream",
     "text": [
      "   228/1000      5.96G     0.2227     0.2017     0.7719        620        736: 100%|██████████| 82/82 [00:12<00:00,  6.65it/s]\n"
     ]
    },
    {
     "name": "stdout",
     "output_type": "stream",
     "text": [
      "\n",
      "      Epoch    GPU_mem   box_loss   cls_loss   dfl_loss  Instances       Size\n"
     ]
    },
    {
     "name": "stderr",
     "output_type": "stream",
     "text": [
      "   229/1000      7.11G     0.2287     0.1943     0.7707        440        736: 100%|██████████| 82/82 [00:12<00:00,  6.63it/s]\n"
     ]
    },
    {
     "name": "stdout",
     "output_type": "stream",
     "text": [
      "\n",
      "      Epoch    GPU_mem   box_loss   cls_loss   dfl_loss  Instances       Size\n"
     ]
    },
    {
     "name": "stderr",
     "output_type": "stream",
     "text": [
      "   230/1000      6.46G     0.2337     0.1954     0.7703        491        736: 100%|██████████| 82/82 [00:12<00:00,  6.65it/s]\n"
     ]
    },
    {
     "name": "stdout",
     "output_type": "stream",
     "text": [
      "\n",
      "      Epoch    GPU_mem   box_loss   cls_loss   dfl_loss  Instances       Size\n"
     ]
    },
    {
     "name": "stderr",
     "output_type": "stream",
     "text": [
      "   231/1000      6.66G     0.2322     0.1933     0.7718        518        736: 100%|██████████| 82/82 [00:12<00:00,  6.66it/s]\n"
     ]
    },
    {
     "name": "stdout",
     "output_type": "stream",
     "text": [
      "\n",
      "      Epoch    GPU_mem   box_loss   cls_loss   dfl_loss  Instances       Size\n"
     ]
    },
    {
     "name": "stderr",
     "output_type": "stream",
     "text": [
      "   232/1000      7.21G     0.2277     0.1933     0.7706        594        736: 100%|██████████| 82/82 [00:12<00:00,  6.66it/s]\n"
     ]
    },
    {
     "name": "stdout",
     "output_type": "stream",
     "text": [
      "\n",
      "      Epoch    GPU_mem   box_loss   cls_loss   dfl_loss  Instances       Size\n"
     ]
    },
    {
     "name": "stderr",
     "output_type": "stream",
     "text": [
      "   233/1000      6.59G     0.2313     0.1936      0.771        642        736: 100%|██████████| 82/82 [00:12<00:00,  6.64it/s]\n"
     ]
    },
    {
     "name": "stdout",
     "output_type": "stream",
     "text": [
      "\n",
      "      Epoch    GPU_mem   box_loss   cls_loss   dfl_loss  Instances       Size\n"
     ]
    },
    {
     "name": "stderr",
     "output_type": "stream",
     "text": [
      "   234/1000      7.64G     0.2303     0.1944     0.7713        748        736: 100%|██████████| 82/82 [00:12<00:00,  6.63it/s]\n"
     ]
    },
    {
     "name": "stdout",
     "output_type": "stream",
     "text": [
      "\n",
      "      Epoch    GPU_mem   box_loss   cls_loss   dfl_loss  Instances       Size\n"
     ]
    },
    {
     "name": "stderr",
     "output_type": "stream",
     "text": [
      "   235/1000      6.58G     0.2284     0.1934     0.7712        686        736: 100%|██████████| 82/82 [00:12<00:00,  6.66it/s]\n"
     ]
    },
    {
     "name": "stdout",
     "output_type": "stream",
     "text": [
      "\n",
      "      Epoch    GPU_mem   box_loss   cls_loss   dfl_loss  Instances       Size\n"
     ]
    },
    {
     "name": "stderr",
     "output_type": "stream",
     "text": [
      "   236/1000      7.25G      0.226     0.1914      0.771        243        736: 100%|██████████| 82/82 [00:12<00:00,  6.64it/s]\n"
     ]
    },
    {
     "name": "stdout",
     "output_type": "stream",
     "text": [
      "\n",
      "      Epoch    GPU_mem   box_loss   cls_loss   dfl_loss  Instances       Size\n"
     ]
    },
    {
     "name": "stderr",
     "output_type": "stream",
     "text": [
      "   237/1000      6.78G      0.225     0.1909     0.7694        496        736: 100%|██████████| 82/82 [00:12<00:00,  6.64it/s]\n"
     ]
    },
    {
     "name": "stdout",
     "output_type": "stream",
     "text": [
      "\n",
      "      Epoch    GPU_mem   box_loss   cls_loss   dfl_loss  Instances       Size\n"
     ]
    },
    {
     "name": "stderr",
     "output_type": "stream",
     "text": [
      "   238/1000      6.78G     0.2241     0.1927       0.77        579        736: 100%|██████████| 82/82 [00:12<00:00,  6.65it/s]\n"
     ]
    },
    {
     "name": "stdout",
     "output_type": "stream",
     "text": [
      "\n",
      "      Epoch    GPU_mem   box_loss   cls_loss   dfl_loss  Instances       Size\n"
     ]
    },
    {
     "name": "stderr",
     "output_type": "stream",
     "text": [
      "   239/1000      6.78G     0.2235     0.1909     0.7711        348        736: 100%|██████████| 82/82 [00:12<00:00,  6.64it/s]\n"
     ]
    },
    {
     "name": "stdout",
     "output_type": "stream",
     "text": [
      "\n",
      "      Epoch    GPU_mem   box_loss   cls_loss   dfl_loss  Instances       Size\n"
     ]
    },
    {
     "name": "stderr",
     "output_type": "stream",
     "text": [
      "   240/1000      7.59G     0.2237     0.1904     0.7718        531        736: 100%|██████████| 82/82 [00:12<00:00,  6.63it/s]\n"
     ]
    },
    {
     "name": "stdout",
     "output_type": "stream",
     "text": [
      "\n",
      "      Epoch    GPU_mem   box_loss   cls_loss   dfl_loss  Instances       Size\n"
     ]
    },
    {
     "name": "stderr",
     "output_type": "stream",
     "text": [
      "   241/1000      7.11G     0.2236      0.188     0.7702        712        736: 100%|██████████| 82/82 [00:12<00:00,  6.64it/s]\n"
     ]
    },
    {
     "name": "stdout",
     "output_type": "stream",
     "text": [
      "\n",
      "      Epoch    GPU_mem   box_loss   cls_loss   dfl_loss  Instances       Size\n"
     ]
    },
    {
     "name": "stderr",
     "output_type": "stream",
     "text": [
      "   242/1000      6.65G     0.2226     0.1902     0.7692        623        736: 100%|██████████| 82/82 [00:12<00:00,  6.66it/s]\n"
     ]
    },
    {
     "name": "stdout",
     "output_type": "stream",
     "text": [
      "\n",
      "      Epoch    GPU_mem   box_loss   cls_loss   dfl_loss  Instances       Size\n"
     ]
    },
    {
     "name": "stderr",
     "output_type": "stream",
     "text": [
      "   243/1000      7.44G     0.2223     0.1917     0.7699        920        736: 100%|██████████| 82/82 [00:12<00:00,  6.64it/s]\n"
     ]
    },
    {
     "name": "stdout",
     "output_type": "stream",
     "text": [
      "\n",
      "      Epoch    GPU_mem   box_loss   cls_loss   dfl_loss  Instances       Size\n"
     ]
    },
    {
     "name": "stderr",
     "output_type": "stream",
     "text": [
      "   244/1000       7.1G      0.224     0.1924     0.7699        766        736: 100%|██████████| 82/82 [00:12<00:00,  6.64it/s]\n"
     ]
    },
    {
     "name": "stdout",
     "output_type": "stream",
     "text": [
      "\n",
      "      Epoch    GPU_mem   box_loss   cls_loss   dfl_loss  Instances       Size\n"
     ]
    },
    {
     "name": "stderr",
     "output_type": "stream",
     "text": [
      "   245/1000      7.32G     0.2247     0.1976       0.77        589        736: 100%|██████████| 82/82 [00:12<00:00,  6.63it/s]\n"
     ]
    },
    {
     "name": "stdout",
     "output_type": "stream",
     "text": [
      "\n",
      "      Epoch    GPU_mem   box_loss   cls_loss   dfl_loss  Instances       Size\n"
     ]
    },
    {
     "name": "stderr",
     "output_type": "stream",
     "text": [
      "   246/1000      6.65G      0.222     0.1961     0.7702        429        736: 100%|██████████| 82/82 [00:12<00:00,  6.64it/s]\n"
     ]
    },
    {
     "name": "stdout",
     "output_type": "stream",
     "text": [
      "\n",
      "      Epoch    GPU_mem   box_loss   cls_loss   dfl_loss  Instances       Size\n"
     ]
    },
    {
     "name": "stderr",
     "output_type": "stream",
     "text": [
      "   247/1000      7.03G     0.2237     0.1918     0.7706        570        736: 100%|██████████| 82/82 [00:12<00:00,  6.64it/s]\n"
     ]
    },
    {
     "name": "stdout",
     "output_type": "stream",
     "text": [
      "\n",
      "      Epoch    GPU_mem   box_loss   cls_loss   dfl_loss  Instances       Size\n"
     ]
    },
    {
     "name": "stderr",
     "output_type": "stream",
     "text": [
      "   248/1000      6.98G     0.2227     0.1874     0.7705        526        736: 100%|██████████| 82/82 [00:12<00:00,  6.65it/s]\n"
     ]
    },
    {
     "name": "stdout",
     "output_type": "stream",
     "text": [
      "\n",
      "      Epoch    GPU_mem   box_loss   cls_loss   dfl_loss  Instances       Size\n"
     ]
    },
    {
     "name": "stderr",
     "output_type": "stream",
     "text": [
      "   249/1000      6.54G      0.223     0.1878     0.7705        631        736: 100%|██████████| 82/82 [00:12<00:00,  6.65it/s]\n"
     ]
    },
    {
     "name": "stdout",
     "output_type": "stream",
     "text": [
      "\n",
      "      Epoch    GPU_mem   box_loss   cls_loss   dfl_loss  Instances       Size\n"
     ]
    },
    {
     "name": "stderr",
     "output_type": "stream",
     "text": [
      "   250/1000      6.48G     0.2201     0.1913     0.7687        282        736: 100%|██████████| 82/82 [00:12<00:00,  6.66it/s]\n"
     ]
    },
    {
     "name": "stdout",
     "output_type": "stream",
     "text": [
      "\n",
      "      Epoch    GPU_mem   box_loss   cls_loss   dfl_loss  Instances       Size\n"
     ]
    },
    {
     "name": "stderr",
     "output_type": "stream",
     "text": [
      "   251/1000      7.56G     0.2172     0.1934     0.7705        525        736: 100%|██████████| 82/82 [00:12<00:00,  6.63it/s]\n"
     ]
    },
    {
     "name": "stdout",
     "output_type": "stream",
     "text": [
      "\n",
      "      Epoch    GPU_mem   box_loss   cls_loss   dfl_loss  Instances       Size\n"
     ]
    },
    {
     "name": "stderr",
     "output_type": "stream",
     "text": [
      "   252/1000      5.97G      0.219     0.1846     0.7711        385        736: 100%|██████████| 82/82 [00:12<00:00,  6.65it/s]\n"
     ]
    },
    {
     "name": "stdout",
     "output_type": "stream",
     "text": [
      "\n",
      "      Epoch    GPU_mem   box_loss   cls_loss   dfl_loss  Instances       Size\n"
     ]
    },
    {
     "name": "stderr",
     "output_type": "stream",
     "text": [
      "   253/1000      6.66G     0.2169     0.1843      0.768        542        736: 100%|██████████| 82/82 [00:12<00:00,  6.65it/s]\n"
     ]
    },
    {
     "name": "stdout",
     "output_type": "stream",
     "text": [
      "\n",
      "      Epoch    GPU_mem   box_loss   cls_loss   dfl_loss  Instances       Size\n"
     ]
    },
    {
     "name": "stderr",
     "output_type": "stream",
     "text": [
      "   254/1000      6.95G     0.2147      0.192     0.7684        517        736: 100%|██████████| 82/82 [00:12<00:00,  6.64it/s]\n"
     ]
    },
    {
     "name": "stdout",
     "output_type": "stream",
     "text": [
      "\n",
      "      Epoch    GPU_mem   box_loss   cls_loss   dfl_loss  Instances       Size\n"
     ]
    },
    {
     "name": "stderr",
     "output_type": "stream",
     "text": [
      "   255/1000      6.46G     0.2181     0.1875     0.7699        670        736: 100%|██████████| 82/82 [00:12<00:00,  6.65it/s]\n"
     ]
    },
    {
     "name": "stdout",
     "output_type": "stream",
     "text": [
      "\n",
      "      Epoch    GPU_mem   box_loss   cls_loss   dfl_loss  Instances       Size\n"
     ]
    },
    {
     "name": "stderr",
     "output_type": "stream",
     "text": [
      "   256/1000      6.78G     0.2163      0.184     0.7693        424        736: 100%|██████████| 82/82 [00:12<00:00,  6.65it/s]\n"
     ]
    },
    {
     "name": "stdout",
     "output_type": "stream",
     "text": [
      "\n",
      "      Epoch    GPU_mem   box_loss   cls_loss   dfl_loss  Instances       Size\n"
     ]
    },
    {
     "name": "stderr",
     "output_type": "stream",
     "text": [
      "   257/1000       7.1G     0.2185     0.1844     0.7695        541        736: 100%|██████████| 82/82 [00:12<00:00,  6.64it/s]\n"
     ]
    },
    {
     "name": "stdout",
     "output_type": "stream",
     "text": [
      "\n",
      "      Epoch    GPU_mem   box_loss   cls_loss   dfl_loss  Instances       Size\n"
     ]
    },
    {
     "name": "stderr",
     "output_type": "stream",
     "text": [
      "   258/1000      6.98G     0.2186     0.1853     0.7699        477        736: 100%|██████████| 82/82 [00:12<00:00,  6.63it/s]\n"
     ]
    },
    {
     "name": "stdout",
     "output_type": "stream",
     "text": [
      "\n",
      "      Epoch    GPU_mem   box_loss   cls_loss   dfl_loss  Instances       Size\n"
     ]
    },
    {
     "name": "stderr",
     "output_type": "stream",
     "text": [
      "   259/1000      6.65G      0.217      0.182     0.7703        499        736: 100%|██████████| 82/82 [00:12<00:00,  6.65it/s]\n"
     ]
    },
    {
     "name": "stdout",
     "output_type": "stream",
     "text": [
      "\n",
      "      Epoch    GPU_mem   box_loss   cls_loss   dfl_loss  Instances       Size\n"
     ]
    },
    {
     "name": "stderr",
     "output_type": "stream",
     "text": [
      "   260/1000         7G     0.2154     0.1837     0.7712        633        736: 100%|██████████| 82/82 [00:12<00:00,  6.65it/s]\n"
     ]
    },
    {
     "name": "stdout",
     "output_type": "stream",
     "text": [
      "\n",
      "      Epoch    GPU_mem   box_loss   cls_loss   dfl_loss  Instances       Size\n"
     ]
    },
    {
     "name": "stderr",
     "output_type": "stream",
     "text": [
      "   261/1000      6.59G      0.213     0.1845     0.7707        451        736: 100%|██████████| 82/82 [00:12<00:00,  6.65it/s]\n"
     ]
    },
    {
     "name": "stdout",
     "output_type": "stream",
     "text": [
      "\n",
      "      Epoch    GPU_mem   box_loss   cls_loss   dfl_loss  Instances       Size\n"
     ]
    },
    {
     "name": "stderr",
     "output_type": "stream",
     "text": [
      "   262/1000      6.29G     0.2146     0.1923     0.7693        387        736: 100%|██████████| 82/82 [00:12<00:00,  6.65it/s]\n"
     ]
    },
    {
     "name": "stdout",
     "output_type": "stream",
     "text": [
      "\n",
      "      Epoch    GPU_mem   box_loss   cls_loss   dfl_loss  Instances       Size\n"
     ]
    },
    {
     "name": "stderr",
     "output_type": "stream",
     "text": [
      "   263/1000      6.97G     0.2105     0.1914     0.7689        594        736: 100%|██████████| 82/82 [00:12<00:00,  6.66it/s]\n"
     ]
    },
    {
     "name": "stdout",
     "output_type": "stream",
     "text": [
      "\n",
      "      Epoch    GPU_mem   box_loss   cls_loss   dfl_loss  Instances       Size\n"
     ]
    },
    {
     "name": "stderr",
     "output_type": "stream",
     "text": [
      "   264/1000      6.97G     0.2143     0.1836     0.7713        637        736: 100%|██████████| 82/82 [00:12<00:00,  6.64it/s]\n"
     ]
    },
    {
     "name": "stdout",
     "output_type": "stream",
     "text": [
      "\n",
      "      Epoch    GPU_mem   box_loss   cls_loss   dfl_loss  Instances       Size\n"
     ]
    },
    {
     "name": "stderr",
     "output_type": "stream",
     "text": [
      "   265/1000      6.68G     0.2136     0.1822     0.7699        438        736: 100%|██████████| 82/82 [00:12<00:00,  6.65it/s]\n"
     ]
    },
    {
     "name": "stdout",
     "output_type": "stream",
     "text": [
      "\n",
      "      Epoch    GPU_mem   box_loss   cls_loss   dfl_loss  Instances       Size\n"
     ]
    },
    {
     "name": "stderr",
     "output_type": "stream",
     "text": [
      "   266/1000      6.74G     0.2129     0.1827     0.7703        349        736: 100%|██████████| 82/82 [00:12<00:00,  6.65it/s]\n"
     ]
    },
    {
     "name": "stdout",
     "output_type": "stream",
     "text": [
      "\n",
      "      Epoch    GPU_mem   box_loss   cls_loss   dfl_loss  Instances       Size\n"
     ]
    },
    {
     "name": "stderr",
     "output_type": "stream",
     "text": [
      "   267/1000      6.46G     0.2104     0.1817     0.7701        500        736: 100%|██████████| 82/82 [00:12<00:00,  6.65it/s]\n"
     ]
    },
    {
     "name": "stdout",
     "output_type": "stream",
     "text": [
      "\n",
      "      Epoch    GPU_mem   box_loss   cls_loss   dfl_loss  Instances       Size\n"
     ]
    },
    {
     "name": "stderr",
     "output_type": "stream",
     "text": [
      "   268/1000      6.85G     0.2116     0.1863     0.7706        557        736: 100%|██████████| 82/82 [00:12<00:00,  6.65it/s]\n"
     ]
    },
    {
     "name": "stdout",
     "output_type": "stream",
     "text": [
      "\n",
      "      Epoch    GPU_mem   box_loss   cls_loss   dfl_loss  Instances       Size\n"
     ]
    },
    {
     "name": "stderr",
     "output_type": "stream",
     "text": [
      "   269/1000      7.41G     0.2104     0.1836      0.769        406        736: 100%|██████████| 82/82 [00:12<00:00,  6.62it/s]\n"
     ]
    },
    {
     "name": "stdout",
     "output_type": "stream",
     "text": [
      "\n",
      "      Epoch    GPU_mem   box_loss   cls_loss   dfl_loss  Instances       Size\n"
     ]
    },
    {
     "name": "stderr",
     "output_type": "stream",
     "text": [
      "   270/1000      6.99G     0.2122     0.1764     0.7701        580        736: 100%|██████████| 82/82 [00:12<00:00,  6.65it/s]\n"
     ]
    },
    {
     "name": "stdout",
     "output_type": "stream",
     "text": [
      "\n",
      "      Epoch    GPU_mem   box_loss   cls_loss   dfl_loss  Instances       Size\n"
     ]
    },
    {
     "name": "stderr",
     "output_type": "stream",
     "text": [
      "   271/1000      7.34G     0.2134       0.18     0.7691        697        736: 100%|██████████| 82/82 [00:12<00:00,  6.65it/s]\n"
     ]
    },
    {
     "name": "stdout",
     "output_type": "stream",
     "text": [
      "\n",
      "      Epoch    GPU_mem   box_loss   cls_loss   dfl_loss  Instances       Size\n"
     ]
    },
    {
     "name": "stderr",
     "output_type": "stream",
     "text": [
      "   272/1000         7G     0.2122     0.1877     0.7681        845        736: 100%|██████████| 82/82 [00:12<00:00,  6.65it/s]\n"
     ]
    },
    {
     "name": "stdout",
     "output_type": "stream",
     "text": [
      "\n",
      "      Epoch    GPU_mem   box_loss   cls_loss   dfl_loss  Instances       Size\n"
     ]
    },
    {
     "name": "stderr",
     "output_type": "stream",
     "text": [
      "   273/1000      7.42G     0.2152     0.1815     0.7694        458        736: 100%|██████████| 82/82 [00:12<00:00,  6.64it/s]\n"
     ]
    },
    {
     "name": "stdout",
     "output_type": "stream",
     "text": [
      "\n",
      "      Epoch    GPU_mem   box_loss   cls_loss   dfl_loss  Instances       Size\n"
     ]
    },
    {
     "name": "stderr",
     "output_type": "stream",
     "text": [
      "   274/1000      6.66G      0.211     0.1801     0.7692        534        736: 100%|██████████| 82/82 [00:12<00:00,  6.66it/s]\n"
     ]
    },
    {
     "name": "stdout",
     "output_type": "stream",
     "text": [
      "\n",
      "      Epoch    GPU_mem   box_loss   cls_loss   dfl_loss  Instances       Size\n"
     ]
    },
    {
     "name": "stderr",
     "output_type": "stream",
     "text": [
      "   275/1000      6.59G     0.2091     0.1807     0.7686        512        736: 100%|██████████| 82/82 [00:12<00:00,  6.65it/s]\n"
     ]
    },
    {
     "name": "stdout",
     "output_type": "stream",
     "text": [
      "\n",
      "      Epoch    GPU_mem   box_loss   cls_loss   dfl_loss  Instances       Size\n"
     ]
    },
    {
     "name": "stderr",
     "output_type": "stream",
     "text": [
      "   276/1000      6.99G     0.2131     0.1791     0.7704        653        736: 100%|██████████| 82/82 [00:12<00:00,  6.64it/s]\n"
     ]
    },
    {
     "name": "stdout",
     "output_type": "stream",
     "text": [
      "\n",
      "      Epoch    GPU_mem   box_loss   cls_loss   dfl_loss  Instances       Size\n"
     ]
    },
    {
     "name": "stderr",
     "output_type": "stream",
     "text": [
      "   277/1000       6.3G     0.2113     0.1808     0.7686        425        736: 100%|██████████| 82/82 [00:12<00:00,  6.66it/s]\n"
     ]
    },
    {
     "name": "stdout",
     "output_type": "stream",
     "text": [
      "\n",
      "      Epoch    GPU_mem   box_loss   cls_loss   dfl_loss  Instances       Size\n"
     ]
    },
    {
     "name": "stderr",
     "output_type": "stream",
     "text": [
      "   278/1000      7.12G     0.2094     0.1793     0.7691        800        736: 100%|██████████| 82/82 [00:12<00:00,  6.65it/s]\n"
     ]
    },
    {
     "name": "stdout",
     "output_type": "stream",
     "text": [
      "\n",
      "      Epoch    GPU_mem   box_loss   cls_loss   dfl_loss  Instances       Size\n"
     ]
    },
    {
     "name": "stderr",
     "output_type": "stream",
     "text": [
      "   279/1000      6.46G     0.2054      0.179     0.7695        585        736: 100%|██████████| 82/82 [00:12<00:00,  6.66it/s]\n"
     ]
    },
    {
     "name": "stdout",
     "output_type": "stream",
     "text": [
      "\n",
      "      Epoch    GPU_mem   box_loss   cls_loss   dfl_loss  Instances       Size\n"
     ]
    },
    {
     "name": "stderr",
     "output_type": "stream",
     "text": [
      "   280/1000      6.32G      0.203      0.187     0.7679        847        736: 100%|██████████| 82/82 [00:12<00:00,  6.66it/s]\n"
     ]
    },
    {
     "name": "stdout",
     "output_type": "stream",
     "text": [
      "\n",
      "      Epoch    GPU_mem   box_loss   cls_loss   dfl_loss  Instances       Size\n"
     ]
    },
    {
     "name": "stderr",
     "output_type": "stream",
     "text": [
      "   281/1000      6.46G     0.2024     0.1882     0.7696        813        736: 100%|██████████| 82/82 [00:12<00:00,  6.65it/s]\n"
     ]
    },
    {
     "name": "stdout",
     "output_type": "stream",
     "text": [
      "\n",
      "      Epoch    GPU_mem   box_loss   cls_loss   dfl_loss  Instances       Size\n"
     ]
    },
    {
     "name": "stderr",
     "output_type": "stream",
     "text": [
      "   282/1000      7.02G     0.2062     0.1783     0.7692        565        736: 100%|██████████| 82/82 [00:12<00:00,  6.64it/s]\n"
     ]
    },
    {
     "name": "stdout",
     "output_type": "stream",
     "text": [
      "\n",
      "      Epoch    GPU_mem   box_loss   cls_loss   dfl_loss  Instances       Size\n"
     ]
    },
    {
     "name": "stderr",
     "output_type": "stream",
     "text": [
      "   283/1000      7.09G     0.2068     0.1761     0.7682        477        736: 100%|██████████| 82/82 [00:12<00:00,  6.64it/s]\n"
     ]
    },
    {
     "name": "stdout",
     "output_type": "stream",
     "text": [
      "\n",
      "      Epoch    GPU_mem   box_loss   cls_loss   dfl_loss  Instances       Size\n"
     ]
    },
    {
     "name": "stderr",
     "output_type": "stream",
     "text": [
      "   284/1000      6.97G     0.2062     0.1768      0.768        756        736: 100%|██████████| 82/82 [00:12<00:00,  6.64it/s]\n"
     ]
    },
    {
     "name": "stdout",
     "output_type": "stream",
     "text": [
      "\n",
      "      Epoch    GPU_mem   box_loss   cls_loss   dfl_loss  Instances       Size\n"
     ]
    },
    {
     "name": "stderr",
     "output_type": "stream",
     "text": [
      "   285/1000         7G     0.2059     0.1751     0.7695        541        736: 100%|██████████| 82/82 [00:12<00:00,  6.64it/s]\n"
     ]
    },
    {
     "name": "stdout",
     "output_type": "stream",
     "text": [
      "\n",
      "      Epoch    GPU_mem   box_loss   cls_loss   dfl_loss  Instances       Size\n"
     ]
    },
    {
     "name": "stderr",
     "output_type": "stream",
     "text": [
      "   286/1000      5.97G      0.207     0.1759     0.7694        708        736: 100%|██████████| 82/82 [00:12<00:00,  6.66it/s]\n"
     ]
    },
    {
     "name": "stdout",
     "output_type": "stream",
     "text": [
      "\n",
      "      Epoch    GPU_mem   box_loss   cls_loss   dfl_loss  Instances       Size\n"
     ]
    },
    {
     "name": "stderr",
     "output_type": "stream",
     "text": [
      "   287/1000      6.96G      0.204     0.1753     0.7677        841        736: 100%|██████████| 82/82 [00:12<00:00,  6.65it/s]\n"
     ]
    },
    {
     "name": "stdout",
     "output_type": "stream",
     "text": [
      "\n",
      "      Epoch    GPU_mem   box_loss   cls_loss   dfl_loss  Instances       Size\n"
     ]
    },
    {
     "name": "stderr",
     "output_type": "stream",
     "text": [
      "   288/1000      6.65G     0.2017     0.1749     0.7694        707        736: 100%|██████████| 82/82 [00:12<00:00,  6.67it/s]\n"
     ]
    },
    {
     "name": "stdout",
     "output_type": "stream",
     "text": [
      "\n",
      "      Epoch    GPU_mem   box_loss   cls_loss   dfl_loss  Instances       Size\n"
     ]
    },
    {
     "name": "stderr",
     "output_type": "stream",
     "text": [
      "   289/1000      6.91G     0.2024     0.1761     0.7689        556        736: 100%|██████████| 82/82 [00:12<00:00,  6.64it/s]\n"
     ]
    },
    {
     "name": "stdout",
     "output_type": "stream",
     "text": [
      "\n",
      "      Epoch    GPU_mem   box_loss   cls_loss   dfl_loss  Instances       Size\n"
     ]
    },
    {
     "name": "stderr",
     "output_type": "stream",
     "text": [
      "   290/1000       6.6G      0.204     0.1751     0.7687        449        736: 100%|██████████| 82/82 [00:12<00:00,  6.66it/s]\n"
     ]
    },
    {
     "name": "stdout",
     "output_type": "stream",
     "text": [
      "\n",
      "      Epoch    GPU_mem   box_loss   cls_loss   dfl_loss  Instances       Size\n"
     ]
    },
    {
     "name": "stderr",
     "output_type": "stream",
     "text": [
      "   291/1000      6.77G     0.2034     0.1774     0.7679        514        736: 100%|██████████| 82/82 [00:12<00:00,  6.64it/s]\n"
     ]
    },
    {
     "name": "stdout",
     "output_type": "stream",
     "text": [
      "\n",
      "      Epoch    GPU_mem   box_loss   cls_loss   dfl_loss  Instances       Size\n"
     ]
    },
    {
     "name": "stderr",
     "output_type": "stream",
     "text": [
      "   292/1000      7.91G     0.2012     0.1816     0.7686        683        736: 100%|██████████| 82/82 [00:12<00:00,  6.63it/s]\n"
     ]
    },
    {
     "name": "stdout",
     "output_type": "stream",
     "text": [
      "\n",
      "      Epoch    GPU_mem   box_loss   cls_loss   dfl_loss  Instances       Size\n"
     ]
    },
    {
     "name": "stderr",
     "output_type": "stream",
     "text": [
      "   293/1000      6.62G     0.2056     0.1745     0.7688        375        736: 100%|██████████| 82/82 [00:12<00:00,  6.65it/s]\n"
     ]
    },
    {
     "name": "stdout",
     "output_type": "stream",
     "text": [
      "\n",
      "      Epoch    GPU_mem   box_loss   cls_loss   dfl_loss  Instances       Size\n"
     ]
    },
    {
     "name": "stderr",
     "output_type": "stream",
     "text": [
      "   294/1000      6.64G     0.2057     0.1721     0.7686        437        736: 100%|██████████| 82/82 [00:12<00:00,  6.65it/s]\n"
     ]
    },
    {
     "name": "stdout",
     "output_type": "stream",
     "text": [
      "\n",
      "      Epoch    GPU_mem   box_loss   cls_loss   dfl_loss  Instances       Size\n"
     ]
    },
    {
     "name": "stderr",
     "output_type": "stream",
     "text": [
      "   295/1000      6.62G     0.2024     0.1703     0.7672        811        736: 100%|██████████| 82/82 [00:12<00:00,  6.65it/s]\n"
     ]
    },
    {
     "name": "stdout",
     "output_type": "stream",
     "text": [
      "\n",
      "      Epoch    GPU_mem   box_loss   cls_loss   dfl_loss  Instances       Size\n"
     ]
    },
    {
     "name": "stderr",
     "output_type": "stream",
     "text": [
      "   296/1000       6.6G     0.2029     0.1703     0.7692        547        736: 100%|██████████| 82/82 [00:12<00:00,  6.65it/s]\n"
     ]
    },
    {
     "name": "stdout",
     "output_type": "stream",
     "text": [
      "\n",
      "      Epoch    GPU_mem   box_loss   cls_loss   dfl_loss  Instances       Size\n"
     ]
    },
    {
     "name": "stderr",
     "output_type": "stream",
     "text": [
      "   297/1000       6.9G     0.2005     0.1764     0.7693        569        736: 100%|██████████| 82/82 [00:12<00:00,  6.64it/s]\n"
     ]
    },
    {
     "name": "stdout",
     "output_type": "stream",
     "text": [
      "\n",
      "      Epoch    GPU_mem   box_loss   cls_loss   dfl_loss  Instances       Size\n"
     ]
    },
    {
     "name": "stderr",
     "output_type": "stream",
     "text": [
      "   298/1000      7.21G     0.2031     0.1761     0.7688        705        736: 100%|██████████| 82/82 [00:12<00:00,  6.64it/s]\n"
     ]
    },
    {
     "name": "stdout",
     "output_type": "stream",
     "text": [
      "\n",
      "      Epoch    GPU_mem   box_loss   cls_loss   dfl_loss  Instances       Size\n"
     ]
    },
    {
     "name": "stderr",
     "output_type": "stream",
     "text": [
      "   299/1000      6.34G     0.2055     0.1742     0.7699        815        736: 100%|██████████| 82/82 [00:12<00:00,  6.65it/s]\n"
     ]
    },
    {
     "name": "stdout",
     "output_type": "stream",
     "text": [
      "\n",
      "      Epoch    GPU_mem   box_loss   cls_loss   dfl_loss  Instances       Size\n"
     ]
    },
    {
     "name": "stderr",
     "output_type": "stream",
     "text": [
      "   300/1000      7.96G     0.2036     0.1741     0.7671        640        736: 100%|██████████| 82/82 [00:12<00:00,  6.64it/s]\n"
     ]
    },
    {
     "name": "stdout",
     "output_type": "stream",
     "text": [
      "\n",
      "      Epoch    GPU_mem   box_loss   cls_loss   dfl_loss  Instances       Size\n"
     ]
    },
    {
     "name": "stderr",
     "output_type": "stream",
     "text": [
      "   301/1000      5.97G     0.2041     0.1729      0.769        643        736: 100%|██████████| 82/82 [00:12<00:00,  6.65it/s]\n"
     ]
    },
    {
     "name": "stdout",
     "output_type": "stream",
     "text": [
      "\n",
      "      Epoch    GPU_mem   box_loss   cls_loss   dfl_loss  Instances       Size\n"
     ]
    },
    {
     "name": "stderr",
     "output_type": "stream",
     "text": [
      "   302/1000       7.4G      0.202     0.1747     0.7687        620        736: 100%|██████████| 82/82 [00:12<00:00,  6.63it/s]\n"
     ]
    },
    {
     "name": "stdout",
     "output_type": "stream",
     "text": [
      "\n",
      "      Epoch    GPU_mem   box_loss   cls_loss   dfl_loss  Instances       Size\n"
     ]
    },
    {
     "name": "stderr",
     "output_type": "stream",
     "text": [
      "   303/1000      6.53G     0.1983     0.1727     0.7692        588        736: 100%|██████████| 82/82 [00:12<00:00,  6.66it/s]\n"
     ]
    },
    {
     "name": "stdout",
     "output_type": "stream",
     "text": [
      "\n",
      "      Epoch    GPU_mem   box_loss   cls_loss   dfl_loss  Instances       Size\n"
     ]
    },
    {
     "name": "stderr",
     "output_type": "stream",
     "text": [
      "   304/1000      7.51G     0.1997      0.174     0.7684        640        736: 100%|██████████| 82/82 [00:12<00:00,  6.64it/s]\n"
     ]
    },
    {
     "name": "stdout",
     "output_type": "stream",
     "text": [
      "\n",
      "      Epoch    GPU_mem   box_loss   cls_loss   dfl_loss  Instances       Size\n"
     ]
    },
    {
     "name": "stderr",
     "output_type": "stream",
     "text": [
      "   305/1000      6.66G     0.2003     0.1714     0.7692        580        736: 100%|██████████| 82/82 [00:12<00:00,  6.64it/s]\n"
     ]
    },
    {
     "name": "stdout",
     "output_type": "stream",
     "text": [
      "\n",
      "      Epoch    GPU_mem   box_loss   cls_loss   dfl_loss  Instances       Size\n"
     ]
    },
    {
     "name": "stderr",
     "output_type": "stream",
     "text": [
      "   306/1000      6.43G     0.1974     0.1693     0.7678        632        736: 100%|██████████| 82/82 [00:12<00:00,  6.66it/s]\n"
     ]
    },
    {
     "name": "stdout",
     "output_type": "stream",
     "text": [
      "\n",
      "      Epoch    GPU_mem   box_loss   cls_loss   dfl_loss  Instances       Size\n"
     ]
    },
    {
     "name": "stderr",
     "output_type": "stream",
     "text": [
      "   307/1000      6.65G        0.2     0.1708     0.7683        688        736: 100%|██████████| 82/82 [00:12<00:00,  6.64it/s]\n"
     ]
    },
    {
     "name": "stdout",
     "output_type": "stream",
     "text": [
      "\n",
      "      Epoch    GPU_mem   box_loss   cls_loss   dfl_loss  Instances       Size\n"
     ]
    },
    {
     "name": "stderr",
     "output_type": "stream",
     "text": [
      "   308/1000      6.61G     0.1968     0.1694     0.7693        601        736: 100%|██████████| 82/82 [00:12<00:00,  6.65it/s]\n"
     ]
    },
    {
     "name": "stdout",
     "output_type": "stream",
     "text": [
      "\n",
      "      Epoch    GPU_mem   box_loss   cls_loss   dfl_loss  Instances       Size\n"
     ]
    },
    {
     "name": "stderr",
     "output_type": "stream",
     "text": [
      "   309/1000      6.66G     0.1971     0.1692     0.7675        660        736: 100%|██████████| 82/82 [00:12<00:00,  6.64it/s]\n"
     ]
    },
    {
     "name": "stdout",
     "output_type": "stream",
     "text": [
      "\n",
      "      Epoch    GPU_mem   box_loss   cls_loss   dfl_loss  Instances       Size\n"
     ]
    },
    {
     "name": "stderr",
     "output_type": "stream",
     "text": [
      "   310/1000      6.57G     0.1963     0.1704      0.768        602        736: 100%|██████████| 82/82 [00:12<00:00,  6.65it/s]\n"
     ]
    },
    {
     "name": "stdout",
     "output_type": "stream",
     "text": [
      "\n",
      "      Epoch    GPU_mem   box_loss   cls_loss   dfl_loss  Instances       Size\n"
     ]
    },
    {
     "name": "stderr",
     "output_type": "stream",
     "text": [
      "   311/1000      7.11G     0.1985     0.1699      0.769        587        736: 100%|██████████| 82/82 [00:12<00:00,  6.64it/s]\n"
     ]
    },
    {
     "name": "stdout",
     "output_type": "stream",
     "text": [
      "\n",
      "      Epoch    GPU_mem   box_loss   cls_loss   dfl_loss  Instances       Size\n"
     ]
    },
    {
     "name": "stderr",
     "output_type": "stream",
     "text": [
      "   312/1000      6.89G     0.1976     0.1679     0.7689        867        736: 100%|██████████| 82/82 [00:12<00:00,  6.64it/s]\n"
     ]
    },
    {
     "name": "stdout",
     "output_type": "stream",
     "text": [
      "\n",
      "      Epoch    GPU_mem   box_loss   cls_loss   dfl_loss  Instances       Size\n"
     ]
    },
    {
     "name": "stderr",
     "output_type": "stream",
     "text": [
      "   313/1000      6.78G     0.1954     0.1687     0.7684        547        736: 100%|██████████| 82/82 [00:12<00:00,  6.64it/s]\n"
     ]
    },
    {
     "name": "stdout",
     "output_type": "stream",
     "text": [
      "\n",
      "      Epoch    GPU_mem   box_loss   cls_loss   dfl_loss  Instances       Size\n"
     ]
    },
    {
     "name": "stderr",
     "output_type": "stream",
     "text": [
      "   314/1000      7.04G     0.1968     0.1689     0.7684        533        736: 100%|██████████| 82/82 [00:12<00:00,  6.65it/s]\n"
     ]
    },
    {
     "name": "stdout",
     "output_type": "stream",
     "text": [
      "\n",
      "      Epoch    GPU_mem   box_loss   cls_loss   dfl_loss  Instances       Size\n"
     ]
    },
    {
     "name": "stderr",
     "output_type": "stream",
     "text": [
      "   315/1000      5.96G     0.1955     0.1685      0.768        600        736: 100%|██████████| 82/82 [00:12<00:00,  6.65it/s]\n"
     ]
    },
    {
     "name": "stdout",
     "output_type": "stream",
     "text": [
      "\n",
      "      Epoch    GPU_mem   box_loss   cls_loss   dfl_loss  Instances       Size\n"
     ]
    },
    {
     "name": "stderr",
     "output_type": "stream",
     "text": [
      "   316/1000      6.78G     0.1948     0.1696     0.7683        580        736: 100%|██████████| 82/82 [00:12<00:00,  6.63it/s]\n"
     ]
    },
    {
     "name": "stdout",
     "output_type": "stream",
     "text": [
      "\n",
      "      Epoch    GPU_mem   box_loss   cls_loss   dfl_loss  Instances       Size\n"
     ]
    },
    {
     "name": "stderr",
     "output_type": "stream",
     "text": [
      "   317/1000       6.6G     0.1939     0.1695     0.7683        641        736: 100%|██████████| 82/82 [00:12<00:00,  6.66it/s]\n"
     ]
    },
    {
     "name": "stdout",
     "output_type": "stream",
     "text": [
      "\n",
      "      Epoch    GPU_mem   box_loss   cls_loss   dfl_loss  Instances       Size\n"
     ]
    },
    {
     "name": "stderr",
     "output_type": "stream",
     "text": [
      "   318/1000      7.25G      0.194      0.165     0.7689        596        736: 100%|██████████| 82/82 [00:12<00:00,  6.65it/s]\n"
     ]
    },
    {
     "name": "stdout",
     "output_type": "stream",
     "text": [
      "\n",
      "      Epoch    GPU_mem   box_loss   cls_loss   dfl_loss  Instances       Size\n"
     ]
    },
    {
     "name": "stderr",
     "output_type": "stream",
     "text": [
      "   319/1000      6.61G     0.1924     0.1656     0.7675        479        736: 100%|██████████| 82/82 [00:12<00:00,  6.66it/s]\n"
     ]
    },
    {
     "name": "stdout",
     "output_type": "stream",
     "text": [
      "\n",
      "      Epoch    GPU_mem   box_loss   cls_loss   dfl_loss  Instances       Size\n"
     ]
    },
    {
     "name": "stderr",
     "output_type": "stream",
     "text": [
      "   320/1000      6.65G     0.1944     0.1667     0.7681        478        736: 100%|██████████| 82/82 [00:12<00:00,  6.66it/s]\n"
     ]
    },
    {
     "name": "stdout",
     "output_type": "stream",
     "text": [
      "\n",
      "      Epoch    GPU_mem   box_loss   cls_loss   dfl_loss  Instances       Size\n"
     ]
    },
    {
     "name": "stderr",
     "output_type": "stream",
     "text": [
      "   321/1000      6.62G     0.1943     0.1653      0.768        453        736: 100%|██████████| 82/82 [00:12<00:00,  6.66it/s]\n"
     ]
    },
    {
     "name": "stdout",
     "output_type": "stream",
     "text": [
      "\n",
      "      Epoch    GPU_mem   box_loss   cls_loss   dfl_loss  Instances       Size\n"
     ]
    },
    {
     "name": "stderr",
     "output_type": "stream",
     "text": [
      "   322/1000      6.98G     0.1944      0.164     0.7673        940        736: 100%|██████████| 82/82 [00:12<00:00,  6.65it/s]\n"
     ]
    },
    {
     "name": "stdout",
     "output_type": "stream",
     "text": [
      "\n",
      "      Epoch    GPU_mem   box_loss   cls_loss   dfl_loss  Instances       Size\n"
     ]
    },
    {
     "name": "stderr",
     "output_type": "stream",
     "text": [
      "   323/1000      7.29G     0.1934     0.1737     0.7679        361        736: 100%|██████████| 82/82 [00:12<00:00,  6.64it/s]\n"
     ]
    },
    {
     "name": "stdout",
     "output_type": "stream",
     "text": [
      "\n",
      "      Epoch    GPU_mem   box_loss   cls_loss   dfl_loss  Instances       Size\n"
     ]
    },
    {
     "name": "stderr",
     "output_type": "stream",
     "text": [
      "   324/1000      6.96G     0.1931     0.1663     0.7677        495        736: 100%|██████████| 82/82 [00:12<00:00,  6.64it/s]\n"
     ]
    },
    {
     "name": "stdout",
     "output_type": "stream",
     "text": [
      "\n",
      "      Epoch    GPU_mem   box_loss   cls_loss   dfl_loss  Instances       Size\n"
     ]
    },
    {
     "name": "stderr",
     "output_type": "stream",
     "text": [
      "   325/1000      6.76G     0.1961     0.1678      0.767        525        736: 100%|██████████| 82/82 [00:12<00:00,  6.64it/s]\n"
     ]
    },
    {
     "name": "stdout",
     "output_type": "stream",
     "text": [
      "\n",
      "      Epoch    GPU_mem   box_loss   cls_loss   dfl_loss  Instances       Size\n"
     ]
    },
    {
     "name": "stderr",
     "output_type": "stream",
     "text": [
      "   326/1000         7G     0.1937     0.1693     0.7671        684        736: 100%|██████████| 82/82 [00:12<00:00,  6.64it/s]\n"
     ]
    },
    {
     "name": "stdout",
     "output_type": "stream",
     "text": [
      "\n",
      "      Epoch    GPU_mem   box_loss   cls_loss   dfl_loss  Instances       Size\n"
     ]
    },
    {
     "name": "stderr",
     "output_type": "stream",
     "text": [
      "   327/1000      7.31G     0.1931     0.1691     0.7673        633        736: 100%|██████████| 82/82 [00:12<00:00,  6.64it/s]\n"
     ]
    },
    {
     "name": "stdout",
     "output_type": "stream",
     "text": [
      "\n",
      "      Epoch    GPU_mem   box_loss   cls_loss   dfl_loss  Instances       Size\n"
     ]
    },
    {
     "name": "stderr",
     "output_type": "stream",
     "text": [
      "   328/1000      6.45G     0.1942     0.1666     0.7676        456        736: 100%|██████████| 82/82 [00:12<00:00,  6.66it/s]\n"
     ]
    },
    {
     "name": "stdout",
     "output_type": "stream",
     "text": [
      "\n",
      "      Epoch    GPU_mem   box_loss   cls_loss   dfl_loss  Instances       Size\n"
     ]
    },
    {
     "name": "stderr",
     "output_type": "stream",
     "text": [
      "   329/1000      6.94G     0.1922     0.1641     0.7674        543        736: 100%|██████████| 82/82 [00:12<00:00,  6.65it/s]\n"
     ]
    },
    {
     "name": "stdout",
     "output_type": "stream",
     "text": [
      "\n",
      "      Epoch    GPU_mem   box_loss   cls_loss   dfl_loss  Instances       Size\n"
     ]
    },
    {
     "name": "stderr",
     "output_type": "stream",
     "text": [
      "   330/1000      6.98G     0.1916     0.1641     0.7674        411        736: 100%|██████████| 82/82 [00:12<00:00,  6.64it/s]\n"
     ]
    },
    {
     "name": "stdout",
     "output_type": "stream",
     "text": [
      "\n",
      "      Epoch    GPU_mem   box_loss   cls_loss   dfl_loss  Instances       Size\n"
     ]
    },
    {
     "name": "stderr",
     "output_type": "stream",
     "text": [
      "   331/1000      6.55G     0.1918     0.1672     0.7686        588        736: 100%|██████████| 82/82 [00:12<00:00,  6.64it/s]\n"
     ]
    },
    {
     "name": "stdout",
     "output_type": "stream",
     "text": [
      "\n",
      "      Epoch    GPU_mem   box_loss   cls_loss   dfl_loss  Instances       Size\n"
     ]
    },
    {
     "name": "stderr",
     "output_type": "stream",
     "text": [
      "   332/1000      6.96G     0.1916      0.166     0.7669        653        736: 100%|██████████| 82/82 [00:12<00:00,  6.64it/s]\n"
     ]
    },
    {
     "name": "stdout",
     "output_type": "stream",
     "text": [
      "\n",
      "      Epoch    GPU_mem   box_loss   cls_loss   dfl_loss  Instances       Size\n"
     ]
    },
    {
     "name": "stderr",
     "output_type": "stream",
     "text": [
      "   333/1000      7.16G     0.1901     0.1653     0.7676        434        736: 100%|██████████| 82/82 [00:12<00:00,  6.64it/s]\n"
     ]
    },
    {
     "name": "stdout",
     "output_type": "stream",
     "text": [
      "\n",
      "      Epoch    GPU_mem   box_loss   cls_loss   dfl_loss  Instances       Size\n"
     ]
    },
    {
     "name": "stderr",
     "output_type": "stream",
     "text": [
      "   334/1000      7.12G     0.1898     0.1655     0.7683        540        736: 100%|██████████| 82/82 [00:12<00:00,  6.65it/s]\n"
     ]
    },
    {
     "name": "stdout",
     "output_type": "stream",
     "text": [
      "\n",
      "      Epoch    GPU_mem   box_loss   cls_loss   dfl_loss  Instances       Size\n"
     ]
    },
    {
     "name": "stderr",
     "output_type": "stream",
     "text": [
      "   335/1000      6.92G      0.189     0.1707     0.7677        627        736: 100%|██████████| 82/82 [00:12<00:00,  6.64it/s]\n"
     ]
    },
    {
     "name": "stdout",
     "output_type": "stream",
     "text": [
      "\n",
      "      Epoch    GPU_mem   box_loss   cls_loss   dfl_loss  Instances       Size\n"
     ]
    },
    {
     "name": "stderr",
     "output_type": "stream",
     "text": [
      "   336/1000      7.24G     0.1888     0.1688     0.7672        692        736: 100%|██████████| 82/82 [00:12<00:00,  6.64it/s]\n"
     ]
    },
    {
     "name": "stdout",
     "output_type": "stream",
     "text": [
      "\n",
      "      Epoch    GPU_mem   box_loss   cls_loss   dfl_loss  Instances       Size\n"
     ]
    },
    {
     "name": "stderr",
     "output_type": "stream",
     "text": [
      "   337/1000      6.34G     0.1902     0.1624     0.7667        455        736: 100%|██████████| 82/82 [00:12<00:00,  6.65it/s]\n"
     ]
    },
    {
     "name": "stdout",
     "output_type": "stream",
     "text": [
      "\n",
      "      Epoch    GPU_mem   box_loss   cls_loss   dfl_loss  Instances       Size\n"
     ]
    },
    {
     "name": "stderr",
     "output_type": "stream",
     "text": [
      "   338/1000      6.93G     0.1876     0.1644     0.7669        511        736: 100%|██████████| 82/82 [00:12<00:00,  6.65it/s]\n"
     ]
    },
    {
     "name": "stdout",
     "output_type": "stream",
     "text": [
      "\n",
      "      Epoch    GPU_mem   box_loss   cls_loss   dfl_loss  Instances       Size\n"
     ]
    },
    {
     "name": "stderr",
     "output_type": "stream",
     "text": [
      "   339/1000      6.46G      0.189     0.1655     0.7684        555        736: 100%|██████████| 82/82 [00:12<00:00,  6.64it/s]\n"
     ]
    },
    {
     "name": "stdout",
     "output_type": "stream",
     "text": [
      "\n",
      "      Epoch    GPU_mem   box_loss   cls_loss   dfl_loss  Instances       Size\n"
     ]
    },
    {
     "name": "stderr",
     "output_type": "stream",
     "text": [
      "   340/1000      6.82G     0.1884     0.1626     0.7674        424        736: 100%|██████████| 82/82 [00:12<00:00,  6.64it/s]\n"
     ]
    },
    {
     "name": "stdout",
     "output_type": "stream",
     "text": [
      "\n",
      "      Epoch    GPU_mem   box_loss   cls_loss   dfl_loss  Instances       Size\n"
     ]
    },
    {
     "name": "stderr",
     "output_type": "stream",
     "text": [
      "   341/1000      6.64G     0.1879     0.1623     0.7673        516        736: 100%|██████████| 82/82 [00:12<00:00,  6.65it/s]\n"
     ]
    },
    {
     "name": "stdout",
     "output_type": "stream",
     "text": [
      "\n",
      "      Epoch    GPU_mem   box_loss   cls_loss   dfl_loss  Instances       Size\n"
     ]
    },
    {
     "name": "stderr",
     "output_type": "stream",
     "text": [
      "   342/1000      7.37G     0.1854     0.1635     0.7673        688        736: 100%|██████████| 82/82 [00:12<00:00,  6.64it/s]\n"
     ]
    },
    {
     "name": "stdout",
     "output_type": "stream",
     "text": [
      "\n",
      "      Epoch    GPU_mem   box_loss   cls_loss   dfl_loss  Instances       Size\n"
     ]
    },
    {
     "name": "stderr",
     "output_type": "stream",
     "text": [
      "   343/1000      6.66G     0.1856     0.1623     0.7685        630        736: 100%|██████████| 82/82 [00:12<00:00,  6.64it/s]\n"
     ]
    },
    {
     "name": "stdout",
     "output_type": "stream",
     "text": [
      "\n",
      "      Epoch    GPU_mem   box_loss   cls_loss   dfl_loss  Instances       Size\n"
     ]
    },
    {
     "name": "stderr",
     "output_type": "stream",
     "text": [
      "   344/1000      6.41G     0.1816     0.1625     0.7677        539        736: 100%|██████████| 82/82 [00:12<00:00,  6.65it/s]\n"
     ]
    },
    {
     "name": "stdout",
     "output_type": "stream",
     "text": [
      "\n",
      "      Epoch    GPU_mem   box_loss   cls_loss   dfl_loss  Instances       Size\n"
     ]
    },
    {
     "name": "stderr",
     "output_type": "stream",
     "text": [
      "   345/1000      6.29G     0.1836     0.1688     0.7676        695        736: 100%|██████████| 82/82 [00:12<00:00,  6.66it/s]\n"
     ]
    },
    {
     "name": "stdout",
     "output_type": "stream",
     "text": [
      "\n",
      "      Epoch    GPU_mem   box_loss   cls_loss   dfl_loss  Instances       Size\n"
     ]
    },
    {
     "name": "stderr",
     "output_type": "stream",
     "text": [
      "   346/1000      6.63G     0.1835     0.1673     0.7673        474        736: 100%|██████████| 82/82 [00:12<00:00,  6.65it/s]\n"
     ]
    },
    {
     "name": "stdout",
     "output_type": "stream",
     "text": [
      "\n",
      "      Epoch    GPU_mem   box_loss   cls_loss   dfl_loss  Instances       Size\n"
     ]
    },
    {
     "name": "stderr",
     "output_type": "stream",
     "text": [
      "   347/1000      6.92G     0.1855     0.1636     0.7667        446        736: 100%|██████████| 82/82 [00:12<00:00,  6.64it/s]\n"
     ]
    },
    {
     "name": "stdout",
     "output_type": "stream",
     "text": [
      "\n",
      "      Epoch    GPU_mem   box_loss   cls_loss   dfl_loss  Instances       Size\n"
     ]
    },
    {
     "name": "stderr",
     "output_type": "stream",
     "text": [
      "   348/1000      7.27G     0.1881     0.1649     0.7683        455        736: 100%|██████████| 82/82 [00:12<00:00,  6.64it/s]\n"
     ]
    },
    {
     "name": "stdout",
     "output_type": "stream",
     "text": [
      "\n",
      "      Epoch    GPU_mem   box_loss   cls_loss   dfl_loss  Instances       Size\n"
     ]
    },
    {
     "name": "stderr",
     "output_type": "stream",
     "text": [
      "   349/1000      6.88G      0.185      0.167     0.7662        484        736: 100%|██████████| 82/82 [00:12<00:00,  6.64it/s]\n"
     ]
    },
    {
     "name": "stdout",
     "output_type": "stream",
     "text": [
      "\n",
      "      Epoch    GPU_mem   box_loss   cls_loss   dfl_loss  Instances       Size\n"
     ]
    },
    {
     "name": "stderr",
     "output_type": "stream",
     "text": [
      "   350/1000      6.65G     0.1823     0.1684      0.767        584        736: 100%|██████████| 82/82 [00:12<00:00,  6.65it/s]\n"
     ]
    },
    {
     "name": "stdout",
     "output_type": "stream",
     "text": [
      "\n",
      "      Epoch    GPU_mem   box_loss   cls_loss   dfl_loss  Instances       Size\n"
     ]
    },
    {
     "name": "stderr",
     "output_type": "stream",
     "text": [
      "   351/1000      7.11G     0.1817      0.165     0.7675        566        736: 100%|██████████| 82/82 [00:12<00:00,  6.65it/s]\n"
     ]
    },
    {
     "name": "stdout",
     "output_type": "stream",
     "text": [
      "\n",
      "      Epoch    GPU_mem   box_loss   cls_loss   dfl_loss  Instances       Size\n"
     ]
    },
    {
     "name": "stderr",
     "output_type": "stream",
     "text": [
      "   352/1000      7.26G     0.1854     0.1609     0.7679        729        736: 100%|██████████| 82/82 [00:12<00:00,  6.63it/s]\n"
     ]
    },
    {
     "name": "stdout",
     "output_type": "stream",
     "text": [
      "\n",
      "      Epoch    GPU_mem   box_loss   cls_loss   dfl_loss  Instances       Size\n"
     ]
    },
    {
     "name": "stderr",
     "output_type": "stream",
     "text": [
      "   353/1000      6.56G     0.1834     0.1609     0.7682        600        736: 100%|██████████| 82/82 [00:12<00:00,  6.64it/s]\n"
     ]
    },
    {
     "name": "stdout",
     "output_type": "stream",
     "text": [
      "\n",
      "      Epoch    GPU_mem   box_loss   cls_loss   dfl_loss  Instances       Size\n"
     ]
    },
    {
     "name": "stderr",
     "output_type": "stream",
     "text": [
      "   354/1000      6.28G     0.1847     0.1609     0.7673        531        736: 100%|██████████| 82/82 [00:12<00:00,  6.65it/s]\n"
     ]
    },
    {
     "name": "stdout",
     "output_type": "stream",
     "text": [
      "\n",
      "      Epoch    GPU_mem   box_loss   cls_loss   dfl_loss  Instances       Size\n"
     ]
    },
    {
     "name": "stderr",
     "output_type": "stream",
     "text": [
      "   355/1000      6.98G     0.1823     0.1597      0.766        612        736: 100%|██████████| 82/82 [00:12<00:00,  6.64it/s]\n"
     ]
    },
    {
     "name": "stdout",
     "output_type": "stream",
     "text": [
      "\n",
      "      Epoch    GPU_mem   box_loss   cls_loss   dfl_loss  Instances       Size\n"
     ]
    },
    {
     "name": "stderr",
     "output_type": "stream",
     "text": [
      "   356/1000       7.1G     0.1843      0.158      0.768        786        736: 100%|██████████| 82/82 [00:12<00:00,  6.65it/s]\n"
     ]
    },
    {
     "name": "stdout",
     "output_type": "stream",
     "text": [
      "\n",
      "      Epoch    GPU_mem   box_loss   cls_loss   dfl_loss  Instances       Size\n"
     ]
    },
    {
     "name": "stderr",
     "output_type": "stream",
     "text": [
      "   357/1000      6.63G     0.1824     0.1583     0.7673        556        736: 100%|██████████| 82/82 [00:12<00:00,  6.66it/s]\n"
     ]
    },
    {
     "name": "stdout",
     "output_type": "stream",
     "text": [
      "\n",
      "      Epoch    GPU_mem   box_loss   cls_loss   dfl_loss  Instances       Size\n"
     ]
    },
    {
     "name": "stderr",
     "output_type": "stream",
     "text": [
      "   358/1000      6.64G     0.1809      0.159     0.7675        548        736: 100%|██████████| 82/82 [00:12<00:00,  6.67it/s]\n"
     ]
    },
    {
     "name": "stdout",
     "output_type": "stream",
     "text": [
      "\n",
      "      Epoch    GPU_mem   box_loss   cls_loss   dfl_loss  Instances       Size\n"
     ]
    },
    {
     "name": "stderr",
     "output_type": "stream",
     "text": [
      "   359/1000      6.92G     0.1818      0.165     0.7676        567        736: 100%|██████████| 82/82 [00:12<00:00,  6.66it/s]\n"
     ]
    },
    {
     "name": "stdout",
     "output_type": "stream",
     "text": [
      "\n",
      "      Epoch    GPU_mem   box_loss   cls_loss   dfl_loss  Instances       Size\n"
     ]
    },
    {
     "name": "stderr",
     "output_type": "stream",
     "text": [
      "   360/1000      6.62G      0.177     0.1657     0.7664        693        736: 100%|██████████| 82/82 [00:12<00:00,  6.66it/s]\n"
     ]
    },
    {
     "name": "stdout",
     "output_type": "stream",
     "text": [
      "\n",
      "      Epoch    GPU_mem   box_loss   cls_loss   dfl_loss  Instances       Size\n"
     ]
    },
    {
     "name": "stderr",
     "output_type": "stream",
     "text": [
      "   361/1000      7.22G     0.1833     0.1572     0.7671        589        736: 100%|██████████| 82/82 [00:12<00:00,  6.64it/s]\n"
     ]
    },
    {
     "name": "stdout",
     "output_type": "stream",
     "text": [
      "\n",
      "      Epoch    GPU_mem   box_loss   cls_loss   dfl_loss  Instances       Size\n"
     ]
    },
    {
     "name": "stderr",
     "output_type": "stream",
     "text": [
      "   362/1000      6.78G     0.1807      0.157     0.7674        500        736: 100%|██████████| 82/82 [00:12<00:00,  6.64it/s]\n"
     ]
    },
    {
     "name": "stdout",
     "output_type": "stream",
     "text": [
      "\n",
      "      Epoch    GPU_mem   box_loss   cls_loss   dfl_loss  Instances       Size\n"
     ]
    },
    {
     "name": "stderr",
     "output_type": "stream",
     "text": [
      "   363/1000      6.62G     0.1803     0.1583     0.7661        740        736: 100%|██████████| 82/82 [00:12<00:00,  6.65it/s]\n"
     ]
    },
    {
     "name": "stdout",
     "output_type": "stream",
     "text": [
      "\n",
      "      Epoch    GPU_mem   box_loss   cls_loss   dfl_loss  Instances       Size\n"
     ]
    },
    {
     "name": "stderr",
     "output_type": "stream",
     "text": [
      "   364/1000      7.42G     0.1813     0.1644     0.7683        586        736: 100%|██████████| 82/82 [00:12<00:00,  6.63it/s]\n"
     ]
    },
    {
     "name": "stdout",
     "output_type": "stream",
     "text": [
      "\n",
      "      Epoch    GPU_mem   box_loss   cls_loss   dfl_loss  Instances       Size\n"
     ]
    },
    {
     "name": "stderr",
     "output_type": "stream",
     "text": [
      "   365/1000      5.97G     0.1811     0.1598     0.7666        484        736: 100%|██████████| 82/82 [00:12<00:00,  6.65it/s]\n"
     ]
    },
    {
     "name": "stdout",
     "output_type": "stream",
     "text": [
      "\n",
      "      Epoch    GPU_mem   box_loss   cls_loss   dfl_loss  Instances       Size\n"
     ]
    },
    {
     "name": "stderr",
     "output_type": "stream",
     "text": [
      "   366/1000      6.74G     0.1804      0.157     0.7667        722        736: 100%|██████████| 82/82 [00:12<00:00,  6.64it/s]\n"
     ]
    },
    {
     "name": "stdout",
     "output_type": "stream",
     "text": [
      "\n",
      "      Epoch    GPU_mem   box_loss   cls_loss   dfl_loss  Instances       Size\n"
     ]
    },
    {
     "name": "stderr",
     "output_type": "stream",
     "text": [
      "   367/1000      6.64G     0.1818     0.1565     0.7676        555        736: 100%|██████████| 82/82 [00:12<00:00,  6.65it/s]\n"
     ]
    },
    {
     "name": "stdout",
     "output_type": "stream",
     "text": [
      "\n",
      "      Epoch    GPU_mem   box_loss   cls_loss   dfl_loss  Instances       Size\n"
     ]
    },
    {
     "name": "stderr",
     "output_type": "stream",
     "text": [
      "   368/1000      6.88G     0.1812     0.1564     0.7671        383        736: 100%|██████████| 82/82 [00:12<00:00,  6.65it/s]\n"
     ]
    },
    {
     "name": "stdout",
     "output_type": "stream",
     "text": [
      "\n",
      "      Epoch    GPU_mem   box_loss   cls_loss   dfl_loss  Instances       Size\n"
     ]
    },
    {
     "name": "stderr",
     "output_type": "stream",
     "text": [
      "   369/1000      7.29G     0.1785     0.1557     0.7662        479        736: 100%|██████████| 82/82 [00:12<00:00,  6.64it/s]\n"
     ]
    },
    {
     "name": "stdout",
     "output_type": "stream",
     "text": [
      "\n",
      "      Epoch    GPU_mem   box_loss   cls_loss   dfl_loss  Instances       Size\n"
     ]
    },
    {
     "name": "stderr",
     "output_type": "stream",
     "text": [
      "   370/1000      6.93G     0.1794     0.1561     0.7665        648        736: 100%|██████████| 82/82 [00:12<00:00,  6.64it/s]\n"
     ]
    },
    {
     "name": "stdout",
     "output_type": "stream",
     "text": [
      "\n",
      "      Epoch    GPU_mem   box_loss   cls_loss   dfl_loss  Instances       Size\n"
     ]
    },
    {
     "name": "stderr",
     "output_type": "stream",
     "text": [
      "   371/1000      6.31G     0.1774     0.1629     0.7677        501        736: 100%|██████████| 82/82 [00:12<00:00,  6.65it/s]\n"
     ]
    },
    {
     "name": "stdout",
     "output_type": "stream",
     "text": [
      "\n",
      "      Epoch    GPU_mem   box_loss   cls_loss   dfl_loss  Instances       Size\n"
     ]
    },
    {
     "name": "stderr",
     "output_type": "stream",
     "text": [
      "   372/1000      6.46G     0.1784     0.1641     0.7667        796        736: 100%|██████████| 82/82 [00:12<00:00,  6.65it/s]\n"
     ]
    },
    {
     "name": "stdout",
     "output_type": "stream",
     "text": [
      "\n",
      "      Epoch    GPU_mem   box_loss   cls_loss   dfl_loss  Instances       Size\n"
     ]
    },
    {
     "name": "stderr",
     "output_type": "stream",
     "text": [
      "   373/1000      7.06G     0.1763     0.1599     0.7672        512        736: 100%|██████████| 82/82 [00:12<00:00,  6.65it/s]\n"
     ]
    },
    {
     "name": "stdout",
     "output_type": "stream",
     "text": [
      "\n",
      "      Epoch    GPU_mem   box_loss   cls_loss   dfl_loss  Instances       Size\n"
     ]
    },
    {
     "name": "stderr",
     "output_type": "stream",
     "text": [
      "   374/1000      6.72G     0.1782     0.1539     0.7654        569        736: 100%|██████████| 82/82 [00:12<00:00,  6.64it/s]\n"
     ]
    },
    {
     "name": "stdout",
     "output_type": "stream",
     "text": [
      "\n",
      "      Epoch    GPU_mem   box_loss   cls_loss   dfl_loss  Instances       Size\n"
     ]
    },
    {
     "name": "stderr",
     "output_type": "stream",
     "text": [
      "   375/1000       6.7G     0.1772     0.1537     0.7678        488        736: 100%|██████████| 82/82 [00:12<00:00,  6.64it/s]\n"
     ]
    },
    {
     "name": "stdout",
     "output_type": "stream",
     "text": [
      "\n",
      "      Epoch    GPU_mem   box_loss   cls_loss   dfl_loss  Instances       Size\n"
     ]
    },
    {
     "name": "stderr",
     "output_type": "stream",
     "text": [
      "   376/1000      6.64G     0.1771      0.155     0.7667        487        736: 100%|██████████| 82/82 [00:12<00:00,  6.65it/s]\n"
     ]
    },
    {
     "name": "stdout",
     "output_type": "stream",
     "text": [
      "\n",
      "      Epoch    GPU_mem   box_loss   cls_loss   dfl_loss  Instances       Size\n"
     ]
    },
    {
     "name": "stderr",
     "output_type": "stream",
     "text": [
      "   377/1000      6.66G     0.1767     0.1555     0.7669        664        736: 100%|██████████| 82/82 [00:12<00:00,  6.64it/s]\n"
     ]
    },
    {
     "name": "stdout",
     "output_type": "stream",
     "text": [
      "\n",
      "      Epoch    GPU_mem   box_loss   cls_loss   dfl_loss  Instances       Size\n"
     ]
    },
    {
     "name": "stderr",
     "output_type": "stream",
     "text": [
      "   378/1000      6.62G     0.1784      0.157     0.7673        549        736: 100%|██████████| 82/82 [00:12<00:00,  6.64it/s]\n"
     ]
    },
    {
     "name": "stdout",
     "output_type": "stream",
     "text": [
      "\n",
      "      Epoch    GPU_mem   box_loss   cls_loss   dfl_loss  Instances       Size\n"
     ]
    },
    {
     "name": "stderr",
     "output_type": "stream",
     "text": [
      "   379/1000      6.77G     0.1758       0.16      0.766        540        736: 100%|██████████| 82/82 [00:12<00:00,  6.65it/s]\n"
     ]
    },
    {
     "name": "stdout",
     "output_type": "stream",
     "text": [
      "\n",
      "      Epoch    GPU_mem   box_loss   cls_loss   dfl_loss  Instances       Size\n"
     ]
    },
    {
     "name": "stderr",
     "output_type": "stream",
     "text": [
      "   380/1000       6.3G     0.1734     0.1627     0.7669        669        736: 100%|██████████| 82/82 [00:12<00:00,  6.65it/s]\n"
     ]
    },
    {
     "name": "stdout",
     "output_type": "stream",
     "text": [
      "\n",
      "      Epoch    GPU_mem   box_loss   cls_loss   dfl_loss  Instances       Size\n"
     ]
    },
    {
     "name": "stderr",
     "output_type": "stream",
     "text": [
      "   381/1000      6.99G     0.1748     0.1549     0.7676        451        736: 100%|██████████| 82/82 [00:12<00:00,  6.37it/s]\n"
     ]
    },
    {
     "name": "stdout",
     "output_type": "stream",
     "text": [
      "\n",
      "      Epoch    GPU_mem   box_loss   cls_loss   dfl_loss  Instances       Size\n"
     ]
    },
    {
     "name": "stderr",
     "output_type": "stream",
     "text": [
      "   382/1000      6.96G     0.1749     0.1548     0.7665        434        736: 100%|██████████| 82/82 [00:12<00:00,  6.56it/s]\n"
     ]
    },
    {
     "name": "stdout",
     "output_type": "stream",
     "text": [
      "\n",
      "      Epoch    GPU_mem   box_loss   cls_loss   dfl_loss  Instances       Size\n"
     ]
    },
    {
     "name": "stderr",
     "output_type": "stream",
     "text": [
      "   383/1000      6.79G     0.1759     0.1524     0.7663        661        736: 100%|██████████| 82/82 [00:12<00:00,  6.56it/s]\n"
     ]
    },
    {
     "name": "stdout",
     "output_type": "stream",
     "text": [
      "\n",
      "      Epoch    GPU_mem   box_loss   cls_loss   dfl_loss  Instances       Size\n"
     ]
    },
    {
     "name": "stderr",
     "output_type": "stream",
     "text": [
      "   384/1000      6.68G     0.1769      0.154     0.7669        486        736: 100%|██████████| 82/82 [00:12<00:00,  6.57it/s]\n"
     ]
    },
    {
     "name": "stdout",
     "output_type": "stream",
     "text": [
      "\n",
      "      Epoch    GPU_mem   box_loss   cls_loss   dfl_loss  Instances       Size\n"
     ]
    },
    {
     "name": "stderr",
     "output_type": "stream",
     "text": [
      "   385/1000      7.61G     0.1763     0.1554     0.7666        561        736: 100%|██████████| 82/82 [00:12<00:00,  6.56it/s]\n"
     ]
    },
    {
     "name": "stdout",
     "output_type": "stream",
     "text": [
      "\n",
      "      Epoch    GPU_mem   box_loss   cls_loss   dfl_loss  Instances       Size\n"
     ]
    },
    {
     "name": "stderr",
     "output_type": "stream",
     "text": [
      "   386/1000      7.71G     0.1757      0.154     0.7657        472        736: 100%|██████████| 82/82 [00:12<00:00,  6.65it/s]\n"
     ]
    },
    {
     "name": "stdout",
     "output_type": "stream",
     "text": [
      "\n",
      "      Epoch    GPU_mem   box_loss   cls_loss   dfl_loss  Instances       Size\n"
     ]
    },
    {
     "name": "stderr",
     "output_type": "stream",
     "text": [
      "   387/1000       7.3G     0.1761     0.1554     0.7665        311        736: 100%|██████████| 82/82 [00:12<00:00,  6.64it/s]\n"
     ]
    },
    {
     "name": "stdout",
     "output_type": "stream",
     "text": [
      "\n",
      "      Epoch    GPU_mem   box_loss   cls_loss   dfl_loss  Instances       Size\n"
     ]
    },
    {
     "name": "stderr",
     "output_type": "stream",
     "text": [
      "   388/1000      6.45G     0.1748     0.1529     0.7667        711        736: 100%|██████████| 82/82 [00:12<00:00,  6.65it/s]\n"
     ]
    },
    {
     "name": "stdout",
     "output_type": "stream",
     "text": [
      "\n",
      "      Epoch    GPU_mem   box_loss   cls_loss   dfl_loss  Instances       Size\n"
     ]
    },
    {
     "name": "stderr",
     "output_type": "stream",
     "text": [
      "   389/1000       7.3G     0.1732     0.1518     0.7671        560        736: 100%|██████████| 82/82 [00:12<00:00,  6.65it/s]\n"
     ]
    },
    {
     "name": "stdout",
     "output_type": "stream",
     "text": [
      "\n",
      "      Epoch    GPU_mem   box_loss   cls_loss   dfl_loss  Instances       Size\n"
     ]
    },
    {
     "name": "stderr",
     "output_type": "stream",
     "text": [
      "   390/1000      6.79G      0.172      0.156     0.7663        746        736: 100%|██████████| 82/82 [00:12<00:00,  6.66it/s]\n"
     ]
    },
    {
     "name": "stdout",
     "output_type": "stream",
     "text": [
      "\n",
      "      Epoch    GPU_mem   box_loss   cls_loss   dfl_loss  Instances       Size\n"
     ]
    },
    {
     "name": "stderr",
     "output_type": "stream",
     "text": [
      "   391/1000      7.02G      0.171     0.1605     0.7664        711        736: 100%|██████████| 82/82 [00:12<00:00,  6.63it/s]\n"
     ]
    },
    {
     "name": "stdout",
     "output_type": "stream",
     "text": [
      "\n",
      "      Epoch    GPU_mem   box_loss   cls_loss   dfl_loss  Instances       Size\n"
     ]
    },
    {
     "name": "stderr",
     "output_type": "stream",
     "text": [
      "   392/1000      6.77G      0.172     0.1543     0.7661        650        736: 100%|██████████| 82/82 [00:12<00:00,  6.64it/s]\n"
     ]
    },
    {
     "name": "stdout",
     "output_type": "stream",
     "text": [
      "\n",
      "      Epoch    GPU_mem   box_loss   cls_loss   dfl_loss  Instances       Size\n"
     ]
    },
    {
     "name": "stderr",
     "output_type": "stream",
     "text": [
      "   393/1000      7.09G      0.173     0.1487     0.7669        464        736: 100%|██████████| 82/82 [00:12<00:00,  6.65it/s]\n"
     ]
    },
    {
     "name": "stdout",
     "output_type": "stream",
     "text": [
      "\n",
      "      Epoch    GPU_mem   box_loss   cls_loss   dfl_loss  Instances       Size\n"
     ]
    },
    {
     "name": "stderr",
     "output_type": "stream",
     "text": [
      "   394/1000      7.15G     0.1711     0.1518     0.7672        547        736: 100%|██████████| 82/82 [00:12<00:00,  6.64it/s]\n"
     ]
    },
    {
     "name": "stdout",
     "output_type": "stream",
     "text": [
      "\n",
      "      Epoch    GPU_mem   box_loss   cls_loss   dfl_loss  Instances       Size\n"
     ]
    },
    {
     "name": "stderr",
     "output_type": "stream",
     "text": [
      "   395/1000      6.34G     0.1749     0.1539      0.766        550        736: 100%|██████████| 82/82 [00:12<00:00,  6.64it/s]\n"
     ]
    },
    {
     "name": "stdout",
     "output_type": "stream",
     "text": [
      "\n",
      "      Epoch    GPU_mem   box_loss   cls_loss   dfl_loss  Instances       Size\n"
     ]
    },
    {
     "name": "stderr",
     "output_type": "stream",
     "text": [
      "   396/1000      7.22G     0.1728     0.1519     0.7665        687        736: 100%|██████████| 82/82 [00:12<00:00,  6.64it/s]\n"
     ]
    },
    {
     "name": "stdout",
     "output_type": "stream",
     "text": [
      "\n",
      "      Epoch    GPU_mem   box_loss   cls_loss   dfl_loss  Instances       Size\n"
     ]
    },
    {
     "name": "stderr",
     "output_type": "stream",
     "text": [
      "   397/1000      7.09G     0.1726     0.1517      0.767        398        736: 100%|██████████| 82/82 [00:12<00:00,  6.65it/s]\n"
     ]
    },
    {
     "name": "stdout",
     "output_type": "stream",
     "text": [
      "\n",
      "      Epoch    GPU_mem   box_loss   cls_loss   dfl_loss  Instances       Size\n"
     ]
    },
    {
     "name": "stderr",
     "output_type": "stream",
     "text": [
      "   398/1000      6.77G     0.1724     0.1504     0.7662        631        736: 100%|██████████| 82/82 [00:12<00:00,  6.64it/s]\n"
     ]
    },
    {
     "name": "stdout",
     "output_type": "stream",
     "text": [
      "\n",
      "      Epoch    GPU_mem   box_loss   cls_loss   dfl_loss  Instances       Size\n"
     ]
    },
    {
     "name": "stderr",
     "output_type": "stream",
     "text": [
      "   399/1000      6.23G     0.1738      0.152     0.7653        532        736: 100%|██████████| 82/82 [00:12<00:00,  6.66it/s]\n"
     ]
    },
    {
     "name": "stdout",
     "output_type": "stream",
     "text": [
      "\n",
      "      Epoch    GPU_mem   box_loss   cls_loss   dfl_loss  Instances       Size\n"
     ]
    },
    {
     "name": "stderr",
     "output_type": "stream",
     "text": [
      "   400/1000      6.72G     0.1702     0.1495     0.7664        368        736: 100%|██████████| 82/82 [00:12<00:00,  6.64it/s]\n"
     ]
    },
    {
     "name": "stdout",
     "output_type": "stream",
     "text": [
      "\n",
      "      Epoch    GPU_mem   box_loss   cls_loss   dfl_loss  Instances       Size\n"
     ]
    },
    {
     "name": "stderr",
     "output_type": "stream",
     "text": [
      "   401/1000      6.27G     0.1704      0.149     0.7665        791        736: 100%|██████████| 82/82 [00:12<00:00,  6.64it/s]\n"
     ]
    },
    {
     "name": "stdout",
     "output_type": "stream",
     "text": [
      "\n",
      "      Epoch    GPU_mem   box_loss   cls_loss   dfl_loss  Instances       Size\n"
     ]
    },
    {
     "name": "stderr",
     "output_type": "stream",
     "text": [
      "   402/1000      7.36G     0.1705     0.1508     0.7659        594        736: 100%|██████████| 82/82 [00:12<00:00,  6.65it/s]\n"
     ]
    },
    {
     "name": "stdout",
     "output_type": "stream",
     "text": [
      "\n",
      "      Epoch    GPU_mem   box_loss   cls_loss   dfl_loss  Instances       Size\n"
     ]
    },
    {
     "name": "stderr",
     "output_type": "stream",
     "text": [
      "   403/1000      7.21G       0.17     0.1504     0.7644        713        736: 100%|██████████| 82/82 [00:12<00:00,  6.64it/s]\n"
     ]
    },
    {
     "name": "stdout",
     "output_type": "stream",
     "text": [
      "\n",
      "      Epoch    GPU_mem   box_loss   cls_loss   dfl_loss  Instances       Size\n"
     ]
    },
    {
     "name": "stderr",
     "output_type": "stream",
     "text": [
      "   404/1000      7.43G     0.1685     0.1491     0.7665        481        736: 100%|██████████| 82/82 [00:12<00:00,  6.63it/s]\n"
     ]
    },
    {
     "name": "stdout",
     "output_type": "stream",
     "text": [
      "\n",
      "      Epoch    GPU_mem   box_loss   cls_loss   dfl_loss  Instances       Size\n"
     ]
    },
    {
     "name": "stderr",
     "output_type": "stream",
     "text": [
      "   405/1000      6.62G     0.1699     0.1512     0.7664        669        736: 100%|██████████| 82/82 [00:12<00:00,  6.64it/s]\n"
     ]
    },
    {
     "name": "stdout",
     "output_type": "stream",
     "text": [
      "\n",
      "      Epoch    GPU_mem   box_loss   cls_loss   dfl_loss  Instances       Size\n"
     ]
    },
    {
     "name": "stderr",
     "output_type": "stream",
     "text": [
      "   406/1000      6.92G     0.1674     0.1569     0.7655        623        736: 100%|██████████| 82/82 [00:12<00:00,  6.63it/s]\n"
     ]
    },
    {
     "name": "stdout",
     "output_type": "stream",
     "text": [
      "\n",
      "      Epoch    GPU_mem   box_loss   cls_loss   dfl_loss  Instances       Size\n"
     ]
    },
    {
     "name": "stderr",
     "output_type": "stream",
     "text": [
      "   407/1000      6.97G     0.1685     0.1512     0.7673        430        736: 100%|██████████| 82/82 [00:12<00:00,  6.64it/s]\n"
     ]
    },
    {
     "name": "stdout",
     "output_type": "stream",
     "text": [
      "\n",
      "      Epoch    GPU_mem   box_loss   cls_loss   dfl_loss  Instances       Size\n"
     ]
    },
    {
     "name": "stderr",
     "output_type": "stream",
     "text": [
      "   408/1000      6.23G     0.1666     0.1503     0.7667        476        736: 100%|██████████| 82/82 [00:12<00:00,  6.65it/s]\n"
     ]
    },
    {
     "name": "stdout",
     "output_type": "stream",
     "text": [
      "\n",
      "      Epoch    GPU_mem   box_loss   cls_loss   dfl_loss  Instances       Size\n"
     ]
    },
    {
     "name": "stderr",
     "output_type": "stream",
     "text": [
      "   409/1000      6.45G     0.1678     0.1482     0.7668        754        736: 100%|██████████| 82/82 [00:12<00:00,  6.65it/s]\n"
     ]
    },
    {
     "name": "stdout",
     "output_type": "stream",
     "text": [
      "\n",
      "      Epoch    GPU_mem   box_loss   cls_loss   dfl_loss  Instances       Size\n"
     ]
    },
    {
     "name": "stderr",
     "output_type": "stream",
     "text": [
      "   410/1000      7.01G     0.1702     0.1496     0.7654        755        736: 100%|██████████| 82/82 [00:12<00:00,  6.64it/s]\n"
     ]
    },
    {
     "name": "stdout",
     "output_type": "stream",
     "text": [
      "\n",
      "      Epoch    GPU_mem   box_loss   cls_loss   dfl_loss  Instances       Size\n"
     ]
    },
    {
     "name": "stderr",
     "output_type": "stream",
     "text": [
      "   411/1000       7.3G     0.1686     0.1556     0.7657        582        736: 100%|██████████| 82/82 [00:12<00:00,  6.65it/s]\n"
     ]
    },
    {
     "name": "stdout",
     "output_type": "stream",
     "text": [
      "\n",
      "      Epoch    GPU_mem   box_loss   cls_loss   dfl_loss  Instances       Size\n"
     ]
    },
    {
     "name": "stderr",
     "output_type": "stream",
     "text": [
      "   412/1000      7.48G     0.1648     0.1495     0.7663        506        736: 100%|██████████| 82/82 [00:12<00:00,  6.63it/s]\n"
     ]
    },
    {
     "name": "stdout",
     "output_type": "stream",
     "text": [
      "\n",
      "      Epoch    GPU_mem   box_loss   cls_loss   dfl_loss  Instances       Size\n"
     ]
    },
    {
     "name": "stderr",
     "output_type": "stream",
     "text": [
      "   413/1000      7.19G     0.1683     0.1455      0.766        483        736: 100%|██████████| 82/82 [00:12<00:00,  6.65it/s]\n"
     ]
    },
    {
     "name": "stdout",
     "output_type": "stream",
     "text": [
      "\n",
      "      Epoch    GPU_mem   box_loss   cls_loss   dfl_loss  Instances       Size\n"
     ]
    },
    {
     "name": "stderr",
     "output_type": "stream",
     "text": [
      "   414/1000      6.99G     0.1668     0.1555     0.7665        715        736: 100%|██████████| 82/82 [00:12<00:00,  6.64it/s]\n"
     ]
    },
    {
     "name": "stdout",
     "output_type": "stream",
     "text": [
      "\n",
      "      Epoch    GPU_mem   box_loss   cls_loss   dfl_loss  Instances       Size\n"
     ]
    },
    {
     "name": "stderr",
     "output_type": "stream",
     "text": [
      "   415/1000      6.69G     0.1644      0.158     0.7666        503        736: 100%|██████████| 82/82 [00:12<00:00,  6.64it/s]\n"
     ]
    },
    {
     "name": "stdout",
     "output_type": "stream",
     "text": [
      "\n",
      "      Epoch    GPU_mem   box_loss   cls_loss   dfl_loss  Instances       Size\n"
     ]
    },
    {
     "name": "stderr",
     "output_type": "stream",
     "text": [
      "   416/1000      6.31G     0.1681     0.1512     0.7666        672        736: 100%|██████████| 82/82 [00:12<00:00,  6.65it/s]\n"
     ]
    },
    {
     "name": "stdout",
     "output_type": "stream",
     "text": [
      "\n",
      "      Epoch    GPU_mem   box_loss   cls_loss   dfl_loss  Instances       Size\n"
     ]
    },
    {
     "name": "stderr",
     "output_type": "stream",
     "text": [
      "   417/1000      7.38G     0.1705     0.1475      0.766        603        736: 100%|██████████| 82/82 [00:12<00:00,  6.63it/s]\n"
     ]
    },
    {
     "name": "stdout",
     "output_type": "stream",
     "text": [
      "\n",
      "      Epoch    GPU_mem   box_loss   cls_loss   dfl_loss  Instances       Size\n"
     ]
    },
    {
     "name": "stderr",
     "output_type": "stream",
     "text": [
      "   418/1000      6.63G     0.1674     0.1463     0.7667        578        736: 100%|██████████| 82/82 [00:12<00:00,  6.65it/s]\n"
     ]
    },
    {
     "name": "stdout",
     "output_type": "stream",
     "text": [
      "\n",
      "      Epoch    GPU_mem   box_loss   cls_loss   dfl_loss  Instances       Size\n"
     ]
    },
    {
     "name": "stderr",
     "output_type": "stream",
     "text": [
      "   419/1000      7.24G     0.1666     0.1472     0.7659        638        736: 100%|██████████| 82/82 [00:12<00:00,  6.64it/s]\n"
     ]
    },
    {
     "name": "stdout",
     "output_type": "stream",
     "text": [
      "\n",
      "      Epoch    GPU_mem   box_loss   cls_loss   dfl_loss  Instances       Size\n"
     ]
    },
    {
     "name": "stderr",
     "output_type": "stream",
     "text": [
      "   420/1000      6.45G     0.1654     0.1511     0.7653        700        736: 100%|██████████| 82/82 [00:12<00:00,  6.65it/s]\n"
     ]
    },
    {
     "name": "stdout",
     "output_type": "stream",
     "text": [
      "\n",
      "      Epoch    GPU_mem   box_loss   cls_loss   dfl_loss  Instances       Size\n"
     ]
    },
    {
     "name": "stderr",
     "output_type": "stream",
     "text": [
      "   421/1000      6.73G     0.1636     0.1539     0.7667        938        736: 100%|██████████| 82/82 [00:12<00:00,  6.65it/s]\n"
     ]
    },
    {
     "name": "stdout",
     "output_type": "stream",
     "text": [
      "\n",
      "      Epoch    GPU_mem   box_loss   cls_loss   dfl_loss  Instances       Size\n"
     ]
    },
    {
     "name": "stderr",
     "output_type": "stream",
     "text": [
      "   422/1000      6.94G     0.1641      0.152     0.7661        621        736: 100%|██████████| 82/82 [00:12<00:00,  6.63it/s]\n"
     ]
    },
    {
     "name": "stdout",
     "output_type": "stream",
     "text": [
      "\n",
      "      Epoch    GPU_mem   box_loss   cls_loss   dfl_loss  Instances       Size\n"
     ]
    },
    {
     "name": "stderr",
     "output_type": "stream",
     "text": [
      "   423/1000      7.42G     0.1647      0.146     0.7655        603        736: 100%|██████████| 82/82 [00:12<00:00,  6.64it/s]\n"
     ]
    },
    {
     "name": "stdout",
     "output_type": "stream",
     "text": [
      "\n",
      "      Epoch    GPU_mem   box_loss   cls_loss   dfl_loss  Instances       Size\n"
     ]
    },
    {
     "name": "stderr",
     "output_type": "stream",
     "text": [
      "   424/1000      6.46G     0.1645      0.146     0.7663        748        736: 100%|██████████| 82/82 [00:12<00:00,  6.63it/s]\n"
     ]
    },
    {
     "name": "stdout",
     "output_type": "stream",
     "text": [
      "\n",
      "      Epoch    GPU_mem   box_loss   cls_loss   dfl_loss  Instances       Size\n"
     ]
    },
    {
     "name": "stderr",
     "output_type": "stream",
     "text": [
      "   425/1000      7.12G     0.1651      0.146     0.7657        467        736: 100%|██████████| 82/82 [00:12<00:00,  6.65it/s]\n"
     ]
    },
    {
     "name": "stdout",
     "output_type": "stream",
     "text": [
      "\n",
      "      Epoch    GPU_mem   box_loss   cls_loss   dfl_loss  Instances       Size\n"
     ]
    },
    {
     "name": "stderr",
     "output_type": "stream",
     "text": [
      "   426/1000      7.25G     0.1648     0.1442     0.7654        559        736: 100%|██████████| 82/82 [00:12<00:00,  6.63it/s]\n"
     ]
    },
    {
     "name": "stdout",
     "output_type": "stream",
     "text": [
      "\n",
      "      Epoch    GPU_mem   box_loss   cls_loss   dfl_loss  Instances       Size\n"
     ]
    },
    {
     "name": "stderr",
     "output_type": "stream",
     "text": [
      "   427/1000      6.89G     0.1639     0.1453     0.7665        586        736: 100%|██████████| 82/82 [00:12<00:00,  6.65it/s]\n"
     ]
    },
    {
     "name": "stdout",
     "output_type": "stream",
     "text": [
      "\n",
      "      Epoch    GPU_mem   box_loss   cls_loss   dfl_loss  Instances       Size\n"
     ]
    },
    {
     "name": "stderr",
     "output_type": "stream",
     "text": [
      "   428/1000      6.66G      0.163     0.1438     0.7655        471        736: 100%|██████████| 82/82 [00:12<00:00,  6.64it/s]\n"
     ]
    },
    {
     "name": "stdout",
     "output_type": "stream",
     "text": [
      "\n",
      "      Epoch    GPU_mem   box_loss   cls_loss   dfl_loss  Instances       Size\n"
     ]
    },
    {
     "name": "stderr",
     "output_type": "stream",
     "text": [
      "   429/1000      6.72G     0.1626     0.1451     0.7644        589        736: 100%|██████████| 82/82 [00:12<00:00,  6.66it/s]\n"
     ]
    },
    {
     "name": "stdout",
     "output_type": "stream",
     "text": [
      "\n",
      "      Epoch    GPU_mem   box_loss   cls_loss   dfl_loss  Instances       Size\n"
     ]
    },
    {
     "name": "stderr",
     "output_type": "stream",
     "text": [
      "   430/1000      6.74G     0.1641     0.1519     0.7669        799        736: 100%|██████████| 82/82 [00:12<00:00,  6.65it/s]\n"
     ]
    },
    {
     "name": "stdout",
     "output_type": "stream",
     "text": [
      "\n",
      "      Epoch    GPU_mem   box_loss   cls_loss   dfl_loss  Instances       Size\n"
     ]
    },
    {
     "name": "stderr",
     "output_type": "stream",
     "text": [
      "   431/1000      6.46G     0.1643     0.1451     0.7664        553        736: 100%|██████████| 82/82 [00:12<00:00,  6.65it/s]\n"
     ]
    },
    {
     "name": "stdout",
     "output_type": "stream",
     "text": [
      "\n",
      "      Epoch    GPU_mem   box_loss   cls_loss   dfl_loss  Instances       Size\n"
     ]
    },
    {
     "name": "stderr",
     "output_type": "stream",
     "text": [
      "   432/1000      7.25G      0.162     0.1474     0.7661        689        736: 100%|██████████| 82/82 [00:12<00:00,  6.65it/s]\n"
     ]
    },
    {
     "name": "stdout",
     "output_type": "stream",
     "text": [
      "\n",
      "      Epoch    GPU_mem   box_loss   cls_loss   dfl_loss  Instances       Size\n"
     ]
    },
    {
     "name": "stderr",
     "output_type": "stream",
     "text": [
      "   433/1000      6.46G     0.1641     0.1551     0.7662        444        736: 100%|██████████| 82/82 [00:12<00:00,  6.65it/s]\n"
     ]
    },
    {
     "name": "stdout",
     "output_type": "stream",
     "text": [
      "\n",
      "      Epoch    GPU_mem   box_loss   cls_loss   dfl_loss  Instances       Size\n"
     ]
    },
    {
     "name": "stderr",
     "output_type": "stream",
     "text": [
      "   434/1000      6.67G     0.1632     0.1453     0.7676        568        736: 100%|██████████| 82/82 [00:12<00:00,  6.65it/s]\n"
     ]
    },
    {
     "name": "stdout",
     "output_type": "stream",
     "text": [
      "\n",
      "      Epoch    GPU_mem   box_loss   cls_loss   dfl_loss  Instances       Size\n"
     ]
    },
    {
     "name": "stderr",
     "output_type": "stream",
     "text": [
      "   435/1000      6.64G     0.1619      0.145     0.7656        476        736: 100%|██████████| 82/82 [00:12<00:00,  6.64it/s]\n"
     ]
    },
    {
     "name": "stdout",
     "output_type": "stream",
     "text": [
      "\n",
      "      Epoch    GPU_mem   box_loss   cls_loss   dfl_loss  Instances       Size\n"
     ]
    },
    {
     "name": "stderr",
     "output_type": "stream",
     "text": [
      "   436/1000      6.96G     0.1611     0.1459     0.7658        776        736: 100%|██████████| 82/82 [00:12<00:00,  6.64it/s]\n"
     ]
    },
    {
     "name": "stdout",
     "output_type": "stream",
     "text": [
      "\n",
      "      Epoch    GPU_mem   box_loss   cls_loss   dfl_loss  Instances       Size\n"
     ]
    },
    {
     "name": "stderr",
     "output_type": "stream",
     "text": [
      "   437/1000      6.46G     0.1594     0.1462     0.7654        535        736: 100%|██████████| 82/82 [00:12<00:00,  6.64it/s]\n"
     ]
    },
    {
     "name": "stdout",
     "output_type": "stream",
     "text": [
      "\n",
      "      Epoch    GPU_mem   box_loss   cls_loss   dfl_loss  Instances       Size\n"
     ]
    },
    {
     "name": "stderr",
     "output_type": "stream",
     "text": [
      "   438/1000      7.25G     0.1613     0.1437     0.7667        474        736: 100%|██████████| 82/82 [00:12<00:00,  6.64it/s]\n"
     ]
    },
    {
     "name": "stdout",
     "output_type": "stream",
     "text": [
      "\n",
      "      Epoch    GPU_mem   box_loss   cls_loss   dfl_loss  Instances       Size\n"
     ]
    },
    {
     "name": "stderr",
     "output_type": "stream",
     "text": [
      "   439/1000      6.56G     0.1619     0.1441     0.7675        556        736: 100%|██████████| 82/82 [00:12<00:00,  6.66it/s]\n"
     ]
    },
    {
     "name": "stdout",
     "output_type": "stream",
     "text": [
      "\n",
      "      Epoch    GPU_mem   box_loss   cls_loss   dfl_loss  Instances       Size\n"
     ]
    },
    {
     "name": "stderr",
     "output_type": "stream",
     "text": [
      "   440/1000      6.87G     0.1603     0.1424     0.7648        767        736: 100%|██████████| 82/82 [00:12<00:00,  6.64it/s]\n"
     ]
    },
    {
     "name": "stdout",
     "output_type": "stream",
     "text": [
      "\n",
      "      Epoch    GPU_mem   box_loss   cls_loss   dfl_loss  Instances       Size\n"
     ]
    },
    {
     "name": "stderr",
     "output_type": "stream",
     "text": [
      "   441/1000      6.61G     0.1603     0.1435     0.7652        550        736: 100%|██████████| 82/82 [00:12<00:00,  6.64it/s]\n"
     ]
    },
    {
     "name": "stdout",
     "output_type": "stream",
     "text": [
      "\n",
      "      Epoch    GPU_mem   box_loss   cls_loss   dfl_loss  Instances       Size\n"
     ]
    },
    {
     "name": "stderr",
     "output_type": "stream",
     "text": [
      "   442/1000      6.96G     0.1597     0.1433     0.7658        489        736: 100%|██████████| 82/82 [00:12<00:00,  6.65it/s]\n"
     ]
    },
    {
     "name": "stdout",
     "output_type": "stream",
     "text": [
      "\n",
      "      Epoch    GPU_mem   box_loss   cls_loss   dfl_loss  Instances       Size\n"
     ]
    },
    {
     "name": "stderr",
     "output_type": "stream",
     "text": [
      "   443/1000      6.75G     0.1596     0.1406     0.7655        688        736: 100%|██████████| 82/82 [00:12<00:00,  6.64it/s]\n"
     ]
    },
    {
     "name": "stdout",
     "output_type": "stream",
     "text": [
      "\n",
      "      Epoch    GPU_mem   box_loss   cls_loss   dfl_loss  Instances       Size\n"
     ]
    },
    {
     "name": "stderr",
     "output_type": "stream",
     "text": [
      "   444/1000      6.32G     0.1585     0.1435     0.7662        427        736: 100%|██████████| 82/82 [00:12<00:00,  6.66it/s]\n"
     ]
    },
    {
     "name": "stdout",
     "output_type": "stream",
     "text": [
      "\n",
      "      Epoch    GPU_mem   box_loss   cls_loss   dfl_loss  Instances       Size\n"
     ]
    },
    {
     "name": "stderr",
     "output_type": "stream",
     "text": [
      "   445/1000      6.32G     0.1596     0.1449     0.7654        505        736: 100%|██████████| 82/82 [00:12<00:00,  6.66it/s]\n"
     ]
    },
    {
     "name": "stdout",
     "output_type": "stream",
     "text": [
      "\n",
      "      Epoch    GPU_mem   box_loss   cls_loss   dfl_loss  Instances       Size\n"
     ]
    },
    {
     "name": "stderr",
     "output_type": "stream",
     "text": [
      "   446/1000      6.48G     0.1593     0.1425     0.7664        585        736: 100%|██████████| 82/82 [00:12<00:00,  6.65it/s]\n"
     ]
    },
    {
     "name": "stdout",
     "output_type": "stream",
     "text": [
      "\n",
      "      Epoch    GPU_mem   box_loss   cls_loss   dfl_loss  Instances       Size\n"
     ]
    },
    {
     "name": "stderr",
     "output_type": "stream",
     "text": [
      "   447/1000      6.92G     0.1585     0.1416     0.7659        603        736: 100%|██████████| 82/82 [00:12<00:00,  6.65it/s]\n"
     ]
    },
    {
     "name": "stdout",
     "output_type": "stream",
     "text": [
      "\n",
      "      Epoch    GPU_mem   box_loss   cls_loss   dfl_loss  Instances       Size\n"
     ]
    },
    {
     "name": "stderr",
     "output_type": "stream",
     "text": [
      "   448/1000      7.61G     0.1581     0.1421     0.7648        582        736: 100%|██████████| 82/82 [00:12<00:00,  6.63it/s]\n"
     ]
    },
    {
     "name": "stdout",
     "output_type": "stream",
     "text": [
      "\n",
      "      Epoch    GPU_mem   box_loss   cls_loss   dfl_loss  Instances       Size\n"
     ]
    },
    {
     "name": "stderr",
     "output_type": "stream",
     "text": [
      "   449/1000      7.11G     0.1606     0.1413     0.7653        746        736: 100%|██████████| 82/82 [00:12<00:00,  6.63it/s]\n"
     ]
    },
    {
     "name": "stdout",
     "output_type": "stream",
     "text": [
      "\n",
      "      Epoch    GPU_mem   box_loss   cls_loss   dfl_loss  Instances       Size\n"
     ]
    },
    {
     "name": "stderr",
     "output_type": "stream",
     "text": [
      "   450/1000      7.21G      0.159     0.1422     0.7654        513        736: 100%|██████████| 82/82 [00:12<00:00,  6.64it/s]\n"
     ]
    },
    {
     "name": "stdout",
     "output_type": "stream",
     "text": [
      "\n",
      "      Epoch    GPU_mem   box_loss   cls_loss   dfl_loss  Instances       Size\n"
     ]
    },
    {
     "name": "stderr",
     "output_type": "stream",
     "text": [
      "   451/1000      6.45G     0.1597     0.1418      0.767        914        736: 100%|██████████| 82/82 [00:12<00:00,  6.65it/s]\n"
     ]
    },
    {
     "name": "stdout",
     "output_type": "stream",
     "text": [
      "\n",
      "      Epoch    GPU_mem   box_loss   cls_loss   dfl_loss  Instances       Size\n"
     ]
    },
    {
     "name": "stderr",
     "output_type": "stream",
     "text": [
      "   452/1000       7.3G     0.1588     0.1424      0.766        643        736: 100%|██████████| 82/82 [00:12<00:00,  6.65it/s]\n"
     ]
    },
    {
     "name": "stdout",
     "output_type": "stream",
     "text": [
      "\n",
      "      Epoch    GPU_mem   box_loss   cls_loss   dfl_loss  Instances       Size\n"
     ]
    },
    {
     "name": "stderr",
     "output_type": "stream",
     "text": [
      "   453/1000      7.09G     0.1562     0.1406     0.7657        323        736: 100%|██████████| 82/82 [00:12<00:00,  6.66it/s]\n"
     ]
    },
    {
     "name": "stdout",
     "output_type": "stream",
     "text": [
      "\n",
      "      Epoch    GPU_mem   box_loss   cls_loss   dfl_loss  Instances       Size\n"
     ]
    },
    {
     "name": "stderr",
     "output_type": "stream",
     "text": [
      "   454/1000      7.06G     0.1563     0.1454     0.7649        737        736: 100%|██████████| 82/82 [00:12<00:00,  6.65it/s]\n"
     ]
    },
    {
     "name": "stdout",
     "output_type": "stream",
     "text": [
      "\n",
      "      Epoch    GPU_mem   box_loss   cls_loss   dfl_loss  Instances       Size\n"
     ]
    },
    {
     "name": "stderr",
     "output_type": "stream",
     "text": [
      "   455/1000      6.96G      0.156     0.1507     0.7659        629        736: 100%|██████████| 82/82 [00:12<00:00,  6.65it/s]\n"
     ]
    },
    {
     "name": "stdout",
     "output_type": "stream",
     "text": [
      "\n",
      "      Epoch    GPU_mem   box_loss   cls_loss   dfl_loss  Instances       Size\n"
     ]
    },
    {
     "name": "stderr",
     "output_type": "stream",
     "text": [
      "   456/1000      6.78G     0.1581      0.143     0.7651        646        736: 100%|██████████| 82/82 [00:12<00:00,  6.63it/s]\n"
     ]
    },
    {
     "name": "stdout",
     "output_type": "stream",
     "text": [
      "\n",
      "      Epoch    GPU_mem   box_loss   cls_loss   dfl_loss  Instances       Size\n"
     ]
    },
    {
     "name": "stderr",
     "output_type": "stream",
     "text": [
      "   457/1000      6.42G     0.1565     0.1407      0.766        541        736: 100%|██████████| 82/82 [00:12<00:00,  6.65it/s]\n"
     ]
    },
    {
     "name": "stdout",
     "output_type": "stream",
     "text": [
      "\n",
      "      Epoch    GPU_mem   box_loss   cls_loss   dfl_loss  Instances       Size\n"
     ]
    },
    {
     "name": "stderr",
     "output_type": "stream",
     "text": [
      "   458/1000      7.09G     0.1557     0.1396     0.7667        663        736: 100%|██████████| 82/82 [00:12<00:00,  6.64it/s]\n"
     ]
    },
    {
     "name": "stdout",
     "output_type": "stream",
     "text": [
      "\n",
      "      Epoch    GPU_mem   box_loss   cls_loss   dfl_loss  Instances       Size\n"
     ]
    },
    {
     "name": "stderr",
     "output_type": "stream",
     "text": [
      "   459/1000      7.33G      0.155     0.1383     0.7653        719        736: 100%|██████████| 82/82 [00:12<00:00,  6.65it/s]\n"
     ]
    },
    {
     "name": "stdout",
     "output_type": "stream",
     "text": [
      "\n",
      "      Epoch    GPU_mem   box_loss   cls_loss   dfl_loss  Instances       Size\n"
     ]
    },
    {
     "name": "stderr",
     "output_type": "stream",
     "text": [
      "   460/1000      7.32G     0.1572     0.1457     0.7641        529        736: 100%|██████████| 82/82 [00:12<00:00,  6.65it/s]\n"
     ]
    },
    {
     "name": "stdout",
     "output_type": "stream",
     "text": [
      "\n",
      "      Epoch    GPU_mem   box_loss   cls_loss   dfl_loss  Instances       Size\n"
     ]
    },
    {
     "name": "stderr",
     "output_type": "stream",
     "text": [
      "   461/1000      6.79G     0.1581     0.1386     0.7654        566        736: 100%|██████████| 82/82 [00:12<00:00,  6.65it/s]\n"
     ]
    },
    {
     "name": "stdout",
     "output_type": "stream",
     "text": [
      "\n",
      "      Epoch    GPU_mem   box_loss   cls_loss   dfl_loss  Instances       Size\n"
     ]
    },
    {
     "name": "stderr",
     "output_type": "stream",
     "text": [
      "   462/1000      6.65G     0.1577     0.1387     0.7655        478        736: 100%|██████████| 82/82 [00:12<00:00,  6.65it/s]\n"
     ]
    },
    {
     "name": "stdout",
     "output_type": "stream",
     "text": [
      "\n",
      "      Epoch    GPU_mem   box_loss   cls_loss   dfl_loss  Instances       Size\n"
     ]
    },
    {
     "name": "stderr",
     "output_type": "stream",
     "text": [
      "   463/1000      5.95G     0.1564     0.1395     0.7641        679        736: 100%|██████████| 82/82 [00:12<00:00,  6.66it/s]\n"
     ]
    },
    {
     "name": "stdout",
     "output_type": "stream",
     "text": [
      "\n",
      "      Epoch    GPU_mem   box_loss   cls_loss   dfl_loss  Instances       Size\n"
     ]
    },
    {
     "name": "stderr",
     "output_type": "stream",
     "text": [
      "   464/1000      6.59G     0.1552     0.1393     0.7654        611        736: 100%|██████████| 82/82 [00:12<00:00,  6.65it/s]\n"
     ]
    },
    {
     "name": "stdout",
     "output_type": "stream",
     "text": [
      "\n",
      "      Epoch    GPU_mem   box_loss   cls_loss   dfl_loss  Instances       Size\n"
     ]
    },
    {
     "name": "stderr",
     "output_type": "stream",
     "text": [
      "   465/1000      6.65G     0.1539     0.1389     0.7661        624        736: 100%|██████████| 82/82 [00:12<00:00,  6.64it/s]\n"
     ]
    },
    {
     "name": "stdout",
     "output_type": "stream",
     "text": [
      "\n",
      "      Epoch    GPU_mem   box_loss   cls_loss   dfl_loss  Instances       Size\n"
     ]
    },
    {
     "name": "stderr",
     "output_type": "stream",
     "text": [
      "   466/1000      6.45G      0.155     0.1388     0.7643        532        736: 100%|██████████| 82/82 [00:12<00:00,  6.65it/s]\n"
     ]
    },
    {
     "name": "stdout",
     "output_type": "stream",
     "text": [
      "\n",
      "      Epoch    GPU_mem   box_loss   cls_loss   dfl_loss  Instances       Size\n"
     ]
    },
    {
     "name": "stderr",
     "output_type": "stream",
     "text": [
      "   467/1000      7.43G     0.1543     0.1404     0.7644        420        736: 100%|██████████| 82/82 [00:12<00:00,  6.62it/s]\n"
     ]
    },
    {
     "name": "stdout",
     "output_type": "stream",
     "text": [
      "\n",
      "      Epoch    GPU_mem   box_loss   cls_loss   dfl_loss  Instances       Size\n"
     ]
    },
    {
     "name": "stderr",
     "output_type": "stream",
     "text": [
      "   468/1000      7.03G     0.1547     0.1394     0.7647        579        736: 100%|██████████| 82/82 [00:12<00:00,  6.65it/s]\n"
     ]
    },
    {
     "name": "stdout",
     "output_type": "stream",
     "text": [
      "\n",
      "      Epoch    GPU_mem   box_loss   cls_loss   dfl_loss  Instances       Size\n"
     ]
    },
    {
     "name": "stderr",
     "output_type": "stream",
     "text": [
      "   469/1000      6.78G     0.1539     0.1377     0.7651        513        736: 100%|██████████| 82/82 [00:12<00:00,  6.65it/s]\n"
     ]
    },
    {
     "name": "stdout",
     "output_type": "stream",
     "text": [
      "\n",
      "      Epoch    GPU_mem   box_loss   cls_loss   dfl_loss  Instances       Size\n"
     ]
    },
    {
     "name": "stderr",
     "output_type": "stream",
     "text": [
      "   470/1000      7.02G     0.1524     0.1372     0.7658        538        736: 100%|██████████| 82/82 [00:12<00:00,  6.64it/s]\n"
     ]
    },
    {
     "name": "stdout",
     "output_type": "stream",
     "text": [
      "\n",
      "      Epoch    GPU_mem   box_loss   cls_loss   dfl_loss  Instances       Size\n"
     ]
    },
    {
     "name": "stderr",
     "output_type": "stream",
     "text": [
      "   471/1000      6.29G     0.1535     0.1438     0.7647        603        736: 100%|██████████| 82/82 [00:12<00:00,  6.65it/s]\n"
     ]
    },
    {
     "name": "stdout",
     "output_type": "stream",
     "text": [
      "\n",
      "      Epoch    GPU_mem   box_loss   cls_loss   dfl_loss  Instances       Size\n"
     ]
    },
    {
     "name": "stderr",
     "output_type": "stream",
     "text": [
      "   472/1000      6.45G     0.1544     0.1427     0.7658        598        736: 100%|██████████| 82/82 [00:12<00:00,  6.65it/s]\n"
     ]
    },
    {
     "name": "stdout",
     "output_type": "stream",
     "text": [
      "\n",
      "      Epoch    GPU_mem   box_loss   cls_loss   dfl_loss  Instances       Size\n"
     ]
    },
    {
     "name": "stderr",
     "output_type": "stream",
     "text": [
      "   473/1000      6.46G     0.1546     0.1394     0.7664        380        736: 100%|██████████| 82/82 [00:12<00:00,  6.65it/s]\n"
     ]
    },
    {
     "name": "stdout",
     "output_type": "stream",
     "text": [
      "\n",
      "      Epoch    GPU_mem   box_loss   cls_loss   dfl_loss  Instances       Size\n"
     ]
    },
    {
     "name": "stderr",
     "output_type": "stream",
     "text": [
      "   474/1000      6.94G     0.1528      0.139     0.7651        427        736: 100%|██████████| 82/82 [00:12<00:00,  6.65it/s]\n"
     ]
    },
    {
     "name": "stdout",
     "output_type": "stream",
     "text": [
      "\n",
      "      Epoch    GPU_mem   box_loss   cls_loss   dfl_loss  Instances       Size\n"
     ]
    },
    {
     "name": "stderr",
     "output_type": "stream",
     "text": [
      "   475/1000      6.46G     0.1521     0.1375     0.7644        535        736: 100%|██████████| 82/82 [00:12<00:00,  6.64it/s]\n"
     ]
    },
    {
     "name": "stdout",
     "output_type": "stream",
     "text": [
      "\n",
      "      Epoch    GPU_mem   box_loss   cls_loss   dfl_loss  Instances       Size\n"
     ]
    },
    {
     "name": "stderr",
     "output_type": "stream",
     "text": [
      "   476/1000      7.33G     0.1535     0.1374     0.7655        816        736: 100%|██████████| 82/82 [00:12<00:00,  6.64it/s]\n"
     ]
    },
    {
     "name": "stdout",
     "output_type": "stream",
     "text": [
      "\n",
      "      Epoch    GPU_mem   box_loss   cls_loss   dfl_loss  Instances       Size\n"
     ]
    },
    {
     "name": "stderr",
     "output_type": "stream",
     "text": [
      "   477/1000      6.65G     0.1505      0.141      0.765        669        736: 100%|██████████| 82/82 [00:12<00:00,  6.65it/s]\n"
     ]
    },
    {
     "name": "stdout",
     "output_type": "stream",
     "text": [
      "\n",
      "      Epoch    GPU_mem   box_loss   cls_loss   dfl_loss  Instances       Size\n"
     ]
    },
    {
     "name": "stderr",
     "output_type": "stream",
     "text": [
      "   478/1000      6.58G      0.153     0.1386     0.7638        572        736: 100%|██████████| 82/82 [00:12<00:00,  6.64it/s]\n"
     ]
    },
    {
     "name": "stdout",
     "output_type": "stream",
     "text": [
      "\n",
      "      Epoch    GPU_mem   box_loss   cls_loss   dfl_loss  Instances       Size\n"
     ]
    },
    {
     "name": "stderr",
     "output_type": "stream",
     "text": [
      "   479/1000      7.82G     0.1524     0.1346     0.7643        660        736: 100%|██████████| 82/82 [00:12<00:00,  6.64it/s]\n"
     ]
    },
    {
     "name": "stdout",
     "output_type": "stream",
     "text": [
      "\n",
      "      Epoch    GPU_mem   box_loss   cls_loss   dfl_loss  Instances       Size\n"
     ]
    },
    {
     "name": "stderr",
     "output_type": "stream",
     "text": [
      "   480/1000      7.25G     0.1523     0.1346     0.7661        624        736: 100%|██████████| 82/82 [00:12<00:00,  6.65it/s]\n"
     ]
    },
    {
     "name": "stdout",
     "output_type": "stream",
     "text": [
      "\n",
      "      Epoch    GPU_mem   box_loss   cls_loss   dfl_loss  Instances       Size\n"
     ]
    },
    {
     "name": "stderr",
     "output_type": "stream",
     "text": [
      "   481/1000      7.44G     0.1503      0.135     0.7654        749        736: 100%|██████████| 82/82 [00:12<00:00,  6.63it/s]\n"
     ]
    },
    {
     "name": "stdout",
     "output_type": "stream",
     "text": [
      "\n",
      "      Epoch    GPU_mem   box_loss   cls_loss   dfl_loss  Instances       Size\n"
     ]
    },
    {
     "name": "stderr",
     "output_type": "stream",
     "text": [
      "   482/1000      6.62G     0.1513     0.1425     0.7647        665        736: 100%|██████████| 82/82 [00:12<00:00,  6.65it/s]\n"
     ]
    },
    {
     "name": "stdout",
     "output_type": "stream",
     "text": [
      "\n",
      "      Epoch    GPU_mem   box_loss   cls_loss   dfl_loss  Instances       Size\n"
     ]
    },
    {
     "name": "stderr",
     "output_type": "stream",
     "text": [
      "   483/1000      6.46G     0.1507      0.139     0.7648        531        736: 100%|██████████| 82/82 [00:12<00:00,  6.64it/s]\n"
     ]
    },
    {
     "name": "stdout",
     "output_type": "stream",
     "text": [
      "\n",
      "      Epoch    GPU_mem   box_loss   cls_loss   dfl_loss  Instances       Size\n"
     ]
    },
    {
     "name": "stderr",
     "output_type": "stream",
     "text": [
      "   484/1000      6.61G      0.151     0.1354     0.7657        732        736: 100%|██████████| 82/82 [00:12<00:00,  6.64it/s]\n"
     ]
    },
    {
     "name": "stdout",
     "output_type": "stream",
     "text": [
      "\n",
      "      Epoch    GPU_mem   box_loss   cls_loss   dfl_loss  Instances       Size\n"
     ]
    },
    {
     "name": "stderr",
     "output_type": "stream",
     "text": [
      "   485/1000      6.95G     0.1509     0.1376     0.7637        688        736: 100%|██████████| 82/82 [00:12<00:00,  6.65it/s]\n"
     ]
    },
    {
     "name": "stdout",
     "output_type": "stream",
     "text": [
      "\n",
      "      Epoch    GPU_mem   box_loss   cls_loss   dfl_loss  Instances       Size\n"
     ]
    },
    {
     "name": "stderr",
     "output_type": "stream",
     "text": [
      "   486/1000       7.3G     0.1515     0.1358     0.7641        424        736: 100%|██████████| 82/82 [00:12<00:00,  6.63it/s]\n"
     ]
    },
    {
     "name": "stdout",
     "output_type": "stream",
     "text": [
      "\n",
      "      Epoch    GPU_mem   box_loss   cls_loss   dfl_loss  Instances       Size\n"
     ]
    },
    {
     "name": "stderr",
     "output_type": "stream",
     "text": [
      "   487/1000      6.76G     0.1501     0.1363      0.765        627        736: 100%|██████████| 82/82 [00:12<00:00,  6.66it/s]\n"
     ]
    },
    {
     "name": "stdout",
     "output_type": "stream",
     "text": [
      "\n",
      "      Epoch    GPU_mem   box_loss   cls_loss   dfl_loss  Instances       Size\n"
     ]
    },
    {
     "name": "stderr",
     "output_type": "stream",
     "text": [
      "   488/1000      7.64G     0.1496     0.1393     0.7644        565        736: 100%|██████████| 82/82 [00:12<00:00,  6.63it/s]\n"
     ]
    },
    {
     "name": "stdout",
     "output_type": "stream",
     "text": [
      "\n",
      "      Epoch    GPU_mem   box_loss   cls_loss   dfl_loss  Instances       Size\n"
     ]
    },
    {
     "name": "stderr",
     "output_type": "stream",
     "text": [
      "   489/1000      7.23G     0.1485      0.142     0.7656        636        736: 100%|██████████| 82/82 [00:12<00:00,  6.63it/s]\n"
     ]
    },
    {
     "name": "stdout",
     "output_type": "stream",
     "text": [
      "\n",
      "      Epoch    GPU_mem   box_loss   cls_loss   dfl_loss  Instances       Size\n"
     ]
    },
    {
     "name": "stderr",
     "output_type": "stream",
     "text": [
      "   490/1000      7.32G     0.1491     0.1375     0.7671        515        736: 100%|██████████| 82/82 [00:12<00:00,  6.63it/s]\n"
     ]
    },
    {
     "name": "stdout",
     "output_type": "stream",
     "text": [
      "\n",
      "      Epoch    GPU_mem   box_loss   cls_loss   dfl_loss  Instances       Size\n"
     ]
    },
    {
     "name": "stderr",
     "output_type": "stream",
     "text": [
      "   491/1000      7.32G     0.1483     0.1356     0.7656        448        736: 100%|██████████| 82/82 [00:12<00:00,  6.66it/s]\n"
     ]
    },
    {
     "name": "stdout",
     "output_type": "stream",
     "text": [
      "\n",
      "      Epoch    GPU_mem   box_loss   cls_loss   dfl_loss  Instances       Size\n"
     ]
    },
    {
     "name": "stderr",
     "output_type": "stream",
     "text": [
      "   492/1000      7.48G     0.1496     0.1361     0.7651        668        736: 100%|██████████| 82/82 [00:12<00:00,  6.64it/s]\n"
     ]
    },
    {
     "name": "stdout",
     "output_type": "stream",
     "text": [
      "\n",
      "      Epoch    GPU_mem   box_loss   cls_loss   dfl_loss  Instances       Size\n"
     ]
    },
    {
     "name": "stderr",
     "output_type": "stream",
     "text": [
      "   493/1000       7.1G     0.1498     0.1348     0.7645        506        736: 100%|██████████| 82/82 [00:12<00:00,  6.64it/s]\n"
     ]
    },
    {
     "name": "stdout",
     "output_type": "stream",
     "text": [
      "\n",
      "      Epoch    GPU_mem   box_loss   cls_loss   dfl_loss  Instances       Size\n"
     ]
    },
    {
     "name": "stderr",
     "output_type": "stream",
     "text": [
      "   494/1000      6.46G     0.1476     0.1356     0.7633        559        736: 100%|██████████| 82/82 [00:12<00:00,  6.66it/s]\n"
     ]
    },
    {
     "name": "stdout",
     "output_type": "stream",
     "text": [
      "\n",
      "      Epoch    GPU_mem   box_loss   cls_loss   dfl_loss  Instances       Size\n"
     ]
    },
    {
     "name": "stderr",
     "output_type": "stream",
     "text": [
      "   495/1000      6.78G      0.148     0.1366     0.7646        684        736: 100%|██████████| 82/82 [00:12<00:00,  6.64it/s]\n"
     ]
    },
    {
     "name": "stdout",
     "output_type": "stream",
     "text": [
      "\n",
      "      Epoch    GPU_mem   box_loss   cls_loss   dfl_loss  Instances       Size\n"
     ]
    },
    {
     "name": "stderr",
     "output_type": "stream",
     "text": [
      "   496/1000      7.31G     0.1481     0.1366     0.7642        788        736: 100%|██████████| 82/82 [00:12<00:00,  6.63it/s]\n"
     ]
    },
    {
     "name": "stdout",
     "output_type": "stream",
     "text": [
      "\n",
      "      Epoch    GPU_mem   box_loss   cls_loss   dfl_loss  Instances       Size\n"
     ]
    },
    {
     "name": "stderr",
     "output_type": "stream",
     "text": [
      "   497/1000      6.31G     0.1476     0.1353     0.7654        356        736: 100%|██████████| 82/82 [00:12<00:00,  6.66it/s]\n"
     ]
    },
    {
     "name": "stdout",
     "output_type": "stream",
     "text": [
      "\n",
      "      Epoch    GPU_mem   box_loss   cls_loss   dfl_loss  Instances       Size\n"
     ]
    },
    {
     "name": "stderr",
     "output_type": "stream",
     "text": [
      "   498/1000      6.98G     0.1456     0.1335     0.7641        715        736: 100%|██████████| 82/82 [00:12<00:00,  6.64it/s]\n"
     ]
    },
    {
     "name": "stdout",
     "output_type": "stream",
     "text": [
      "\n",
      "      Epoch    GPU_mem   box_loss   cls_loss   dfl_loss  Instances       Size\n"
     ]
    },
    {
     "name": "stderr",
     "output_type": "stream",
     "text": [
      "   499/1000      6.54G     0.1458     0.1444     0.7645        401        736: 100%|██████████| 82/82 [00:12<00:00,  6.65it/s]\n"
     ]
    },
    {
     "name": "stdout",
     "output_type": "stream",
     "text": [
      "\n",
      "      Epoch    GPU_mem   box_loss   cls_loss   dfl_loss  Instances       Size\n"
     ]
    },
    {
     "name": "stderr",
     "output_type": "stream",
     "text": [
      "   500/1000      7.35G     0.1459     0.1411     0.7653        448        736: 100%|██████████| 82/82 [00:12<00:00,  6.64it/s]\n"
     ]
    },
    {
     "name": "stdout",
     "output_type": "stream",
     "text": [
      "\n",
      "      Epoch    GPU_mem   box_loss   cls_loss   dfl_loss  Instances       Size\n"
     ]
    },
    {
     "name": "stderr",
     "output_type": "stream",
     "text": [
      "   501/1000      7.89G     0.1483     0.1318     0.7649        543        736: 100%|██████████| 82/82 [00:12<00:00,  6.63it/s]\n"
     ]
    },
    {
     "name": "stdout",
     "output_type": "stream",
     "text": [
      "\n",
      "      Epoch    GPU_mem   box_loss   cls_loss   dfl_loss  Instances       Size\n"
     ]
    },
    {
     "name": "stderr",
     "output_type": "stream",
     "text": [
      "   502/1000      6.68G     0.1464     0.1303     0.7643        527        736: 100%|██████████| 82/82 [00:12<00:00,  6.65it/s]\n"
     ]
    },
    {
     "name": "stdout",
     "output_type": "stream",
     "text": [
      "\n",
      "      Epoch    GPU_mem   box_loss   cls_loss   dfl_loss  Instances       Size\n"
     ]
    },
    {
     "name": "stderr",
     "output_type": "stream",
     "text": [
      "   503/1000      6.34G     0.1481     0.1347     0.7636        419        736: 100%|██████████| 82/82 [00:12<00:00,  6.65it/s]\n"
     ]
    },
    {
     "name": "stdout",
     "output_type": "stream",
     "text": [
      "\n",
      "      Epoch    GPU_mem   box_loss   cls_loss   dfl_loss  Instances       Size\n"
     ]
    },
    {
     "name": "stderr",
     "output_type": "stream",
     "text": [
      "   504/1000      6.64G      0.145     0.1364     0.7645        631        736: 100%|██████████| 82/82 [00:12<00:00,  6.64it/s]\n"
     ]
    },
    {
     "name": "stdout",
     "output_type": "stream",
     "text": [
      "\n",
      "      Epoch    GPU_mem   box_loss   cls_loss   dfl_loss  Instances       Size\n"
     ]
    },
    {
     "name": "stderr",
     "output_type": "stream",
     "text": [
      "   505/1000      6.75G     0.1443     0.1397     0.7641        569        736: 100%|██████████| 82/82 [00:12<00:00,  6.64it/s]\n"
     ]
    },
    {
     "name": "stdout",
     "output_type": "stream",
     "text": [
      "\n",
      "      Epoch    GPU_mem   box_loss   cls_loss   dfl_loss  Instances       Size\n"
     ]
    },
    {
     "name": "stderr",
     "output_type": "stream",
     "text": [
      "   506/1000      6.94G      0.147      0.133      0.766        660        736: 100%|██████████| 82/82 [00:12<00:00,  6.64it/s]\n"
     ]
    },
    {
     "name": "stdout",
     "output_type": "stream",
     "text": [
      "\n",
      "      Epoch    GPU_mem   box_loss   cls_loss   dfl_loss  Instances       Size\n"
     ]
    },
    {
     "name": "stderr",
     "output_type": "stream",
     "text": [
      "   507/1000      7.61G     0.1469     0.1321     0.7662        376        736: 100%|██████████| 82/82 [00:12<00:00,  6.64it/s]\n"
     ]
    },
    {
     "name": "stdout",
     "output_type": "stream",
     "text": [
      "\n",
      "      Epoch    GPU_mem   box_loss   cls_loss   dfl_loss  Instances       Size\n"
     ]
    },
    {
     "name": "stderr",
     "output_type": "stream",
     "text": [
      "   508/1000      6.61G     0.1477     0.1322     0.7652        464        736: 100%|██████████| 82/82 [00:12<00:00,  6.64it/s]\n"
     ]
    },
    {
     "name": "stdout",
     "output_type": "stream",
     "text": [
      "\n",
      "      Epoch    GPU_mem   box_loss   cls_loss   dfl_loss  Instances       Size\n"
     ]
    },
    {
     "name": "stderr",
     "output_type": "stream",
     "text": [
      "   509/1000      6.47G     0.1478     0.1351     0.7643        339        736: 100%|██████████| 82/82 [00:12<00:00,  6.65it/s]\n"
     ]
    },
    {
     "name": "stdout",
     "output_type": "stream",
     "text": [
      "\n",
      "      Epoch    GPU_mem   box_loss   cls_loss   dfl_loss  Instances       Size\n"
     ]
    },
    {
     "name": "stderr",
     "output_type": "stream",
     "text": [
      "   510/1000      7.11G     0.1459     0.1348     0.7639        612        736: 100%|██████████| 82/82 [00:12<00:00,  6.64it/s]\n"
     ]
    },
    {
     "name": "stdout",
     "output_type": "stream",
     "text": [
      "\n",
      "      Epoch    GPU_mem   box_loss   cls_loss   dfl_loss  Instances       Size\n"
     ]
    },
    {
     "name": "stderr",
     "output_type": "stream",
     "text": [
      "   511/1000      6.32G     0.1467     0.1341     0.7648        470        736: 100%|██████████| 82/82 [00:12<00:00,  6.64it/s]\n"
     ]
    },
    {
     "name": "stdout",
     "output_type": "stream",
     "text": [
      "\n",
      "      Epoch    GPU_mem   box_loss   cls_loss   dfl_loss  Instances       Size\n"
     ]
    },
    {
     "name": "stderr",
     "output_type": "stream",
     "text": [
      "   512/1000      6.96G      0.145     0.1327     0.7644        599        736: 100%|██████████| 82/82 [00:12<00:00,  6.64it/s]\n"
     ]
    },
    {
     "name": "stdout",
     "output_type": "stream",
     "text": [
      "\n",
      "      Epoch    GPU_mem   box_loss   cls_loss   dfl_loss  Instances       Size\n"
     ]
    },
    {
     "name": "stderr",
     "output_type": "stream",
     "text": [
      "   513/1000      7.25G     0.1462     0.1315     0.7634        489        736: 100%|██████████| 82/82 [00:12<00:00,  6.66it/s]\n"
     ]
    },
    {
     "name": "stdout",
     "output_type": "stream",
     "text": [
      "\n",
      "      Epoch    GPU_mem   box_loss   cls_loss   dfl_loss  Instances       Size\n"
     ]
    },
    {
     "name": "stderr",
     "output_type": "stream",
     "text": [
      "   514/1000      6.34G     0.1452     0.1317     0.7634        605        736: 100%|██████████| 82/82 [00:12<00:00,  6.66it/s]\n"
     ]
    },
    {
     "name": "stdout",
     "output_type": "stream",
     "text": [
      "\n",
      "      Epoch    GPU_mem   box_loss   cls_loss   dfl_loss  Instances       Size\n"
     ]
    },
    {
     "name": "stderr",
     "output_type": "stream",
     "text": [
      "   515/1000      6.49G     0.1456     0.1343     0.7641        478        736: 100%|██████████| 82/82 [00:12<00:00,  6.65it/s]\n"
     ]
    },
    {
     "name": "stdout",
     "output_type": "stream",
     "text": [
      "\n",
      "      Epoch    GPU_mem   box_loss   cls_loss   dfl_loss  Instances       Size\n"
     ]
    },
    {
     "name": "stderr",
     "output_type": "stream",
     "text": [
      "   516/1000         7G     0.1436     0.1319     0.7645        483        736: 100%|██████████| 82/82 [00:12<00:00,  6.66it/s]\n"
     ]
    },
    {
     "name": "stdout",
     "output_type": "stream",
     "text": [
      "\n",
      "      Epoch    GPU_mem   box_loss   cls_loss   dfl_loss  Instances       Size\n"
     ]
    },
    {
     "name": "stderr",
     "output_type": "stream",
     "text": [
      "   517/1000      6.61G     0.1417     0.1321     0.7628        399        736: 100%|██████████| 82/82 [00:12<00:00,  6.64it/s]\n"
     ]
    },
    {
     "name": "stdout",
     "output_type": "stream",
     "text": [
      "\n",
      "      Epoch    GPU_mem   box_loss   cls_loss   dfl_loss  Instances       Size\n"
     ]
    },
    {
     "name": "stderr",
     "output_type": "stream",
     "text": [
      "   518/1000       7.4G     0.1438     0.1318     0.7638        715        736: 100%|██████████| 82/82 [00:12<00:00,  6.65it/s]\n"
     ]
    },
    {
     "name": "stdout",
     "output_type": "stream",
     "text": [
      "\n",
      "      Epoch    GPU_mem   box_loss   cls_loss   dfl_loss  Instances       Size\n"
     ]
    },
    {
     "name": "stderr",
     "output_type": "stream",
     "text": [
      "   519/1000      6.45G     0.1425     0.1296     0.7648        572        736: 100%|██████████| 82/82 [00:12<00:00,  6.64it/s]\n"
     ]
    },
    {
     "name": "stdout",
     "output_type": "stream",
     "text": [
      "\n",
      "      Epoch    GPU_mem   box_loss   cls_loss   dfl_loss  Instances       Size\n"
     ]
    },
    {
     "name": "stderr",
     "output_type": "stream",
     "text": [
      "   520/1000      6.43G     0.1418     0.1299     0.7651        515        736: 100%|██████████| 82/82 [00:12<00:00,  6.65it/s]\n"
     ]
    },
    {
     "name": "stdout",
     "output_type": "stream",
     "text": [
      "\n",
      "      Epoch    GPU_mem   box_loss   cls_loss   dfl_loss  Instances       Size\n"
     ]
    },
    {
     "name": "stderr",
     "output_type": "stream",
     "text": [
      "   521/1000      5.97G     0.1435     0.1302     0.7643        779        736: 100%|██████████| 82/82 [00:12<00:00,  6.65it/s]\n"
     ]
    },
    {
     "name": "stdout",
     "output_type": "stream",
     "text": [
      "\n",
      "      Epoch    GPU_mem   box_loss   cls_loss   dfl_loss  Instances       Size\n"
     ]
    },
    {
     "name": "stderr",
     "output_type": "stream",
     "text": [
      "   522/1000      7.01G     0.1425     0.1296      0.764        636        736: 100%|██████████| 82/82 [00:12<00:00,  6.64it/s]\n"
     ]
    },
    {
     "name": "stdout",
     "output_type": "stream",
     "text": [
      "\n",
      "      Epoch    GPU_mem   box_loss   cls_loss   dfl_loss  Instances       Size\n"
     ]
    },
    {
     "name": "stderr",
     "output_type": "stream",
     "text": [
      "   523/1000      6.99G     0.1437     0.1323     0.7653        463        736: 100%|██████████| 82/82 [00:12<00:00,  6.65it/s]\n"
     ]
    },
    {
     "name": "stdout",
     "output_type": "stream",
     "text": [
      "\n",
      "      Epoch    GPU_mem   box_loss   cls_loss   dfl_loss  Instances       Size\n"
     ]
    },
    {
     "name": "stderr",
     "output_type": "stream",
     "text": [
      "   524/1000      6.72G      0.143     0.1305     0.7654        687        736: 100%|██████████| 82/82 [00:12<00:00,  6.66it/s]\n"
     ]
    },
    {
     "name": "stdout",
     "output_type": "stream",
     "text": [
      "\n",
      "      Epoch    GPU_mem   box_loss   cls_loss   dfl_loss  Instances       Size\n"
     ]
    },
    {
     "name": "stderr",
     "output_type": "stream",
     "text": [
      "   525/1000      7.33G     0.1401     0.1299     0.7633        551        736: 100%|██████████| 82/82 [00:12<00:00,  6.64it/s]\n"
     ]
    },
    {
     "name": "stdout",
     "output_type": "stream",
     "text": [
      "\n",
      "      Epoch    GPU_mem   box_loss   cls_loss   dfl_loss  Instances       Size\n"
     ]
    },
    {
     "name": "stderr",
     "output_type": "stream",
     "text": [
      "   526/1000      7.22G      0.142     0.1305     0.7633        519        736: 100%|██████████| 82/82 [00:12<00:00,  6.64it/s]\n"
     ]
    },
    {
     "name": "stdout",
     "output_type": "stream",
     "text": [
      "\n",
      "      Epoch    GPU_mem   box_loss   cls_loss   dfl_loss  Instances       Size\n"
     ]
    },
    {
     "name": "stderr",
     "output_type": "stream",
     "text": [
      "   527/1000      6.42G      0.142     0.1304     0.7646        603        736: 100%|██████████| 82/82 [00:12<00:00,  6.65it/s]\n"
     ]
    },
    {
     "name": "stdout",
     "output_type": "stream",
     "text": [
      "\n",
      "      Epoch    GPU_mem   box_loss   cls_loss   dfl_loss  Instances       Size\n"
     ]
    },
    {
     "name": "stderr",
     "output_type": "stream",
     "text": [
      "   528/1000      6.66G     0.1392     0.1342     0.7644        668        736: 100%|██████████| 82/82 [00:12<00:00,  6.65it/s]\n"
     ]
    },
    {
     "name": "stdout",
     "output_type": "stream",
     "text": [
      "\n",
      "      Epoch    GPU_mem   box_loss   cls_loss   dfl_loss  Instances       Size\n"
     ]
    },
    {
     "name": "stderr",
     "output_type": "stream",
     "text": [
      "   529/1000      7.22G     0.1399     0.1372     0.7648        667        736: 100%|██████████| 82/82 [00:12<00:00,  6.65it/s]\n"
     ]
    },
    {
     "name": "stdout",
     "output_type": "stream",
     "text": [
      "\n",
      "      Epoch    GPU_mem   box_loss   cls_loss   dfl_loss  Instances       Size\n"
     ]
    },
    {
     "name": "stderr",
     "output_type": "stream",
     "text": [
      "   530/1000      6.99G     0.1395     0.1337     0.7626        429        736: 100%|██████████| 82/82 [00:12<00:00,  6.64it/s]\n"
     ]
    },
    {
     "name": "stdout",
     "output_type": "stream",
     "text": [
      "\n",
      "      Epoch    GPU_mem   box_loss   cls_loss   dfl_loss  Instances       Size\n"
     ]
    },
    {
     "name": "stderr",
     "output_type": "stream",
     "text": [
      "   531/1000      6.64G     0.1407     0.1267     0.7645        785        736: 100%|██████████| 82/82 [00:12<00:00,  6.65it/s]\n"
     ]
    },
    {
     "name": "stdout",
     "output_type": "stream",
     "text": [
      "\n",
      "      Epoch    GPU_mem   box_loss   cls_loss   dfl_loss  Instances       Size\n"
     ]
    },
    {
     "name": "stderr",
     "output_type": "stream",
     "text": [
      "   532/1000      6.45G      0.138     0.1288     0.7635        677        736: 100%|██████████| 82/82 [00:12<00:00,  6.65it/s]\n"
     ]
    },
    {
     "name": "stdout",
     "output_type": "stream",
     "text": [
      "\n",
      "      Epoch    GPU_mem   box_loss   cls_loss   dfl_loss  Instances       Size\n"
     ]
    },
    {
     "name": "stderr",
     "output_type": "stream",
     "text": [
      "   533/1000      7.43G     0.1389     0.1365     0.7635        647        736: 100%|██████████| 82/82 [00:12<00:00,  6.63it/s]\n"
     ]
    },
    {
     "name": "stdout",
     "output_type": "stream",
     "text": [
      "\n",
      "      Epoch    GPU_mem   box_loss   cls_loss   dfl_loss  Instances       Size\n"
     ]
    },
    {
     "name": "stderr",
     "output_type": "stream",
     "text": [
      "   534/1000      6.92G     0.1409     0.1311     0.7638        604        736: 100%|██████████| 82/82 [00:12<00:00,  6.65it/s]\n"
     ]
    },
    {
     "name": "stdout",
     "output_type": "stream",
     "text": [
      "\n",
      "      Epoch    GPU_mem   box_loss   cls_loss   dfl_loss  Instances       Size\n"
     ]
    },
    {
     "name": "stderr",
     "output_type": "stream",
     "text": [
      "   535/1000      6.53G     0.1413     0.1296      0.764        712        736: 100%|██████████| 82/82 [00:12<00:00,  6.65it/s]\n"
     ]
    },
    {
     "name": "stdout",
     "output_type": "stream",
     "text": [
      "\n",
      "      Epoch    GPU_mem   box_loss   cls_loss   dfl_loss  Instances       Size\n"
     ]
    },
    {
     "name": "stderr",
     "output_type": "stream",
     "text": [
      "   536/1000      6.62G     0.1407     0.1288     0.7642        661        736: 100%|██████████| 82/82 [00:12<00:00,  6.65it/s]\n"
     ]
    },
    {
     "name": "stdout",
     "output_type": "stream",
     "text": [
      "\n",
      "      Epoch    GPU_mem   box_loss   cls_loss   dfl_loss  Instances       Size\n"
     ]
    },
    {
     "name": "stderr",
     "output_type": "stream",
     "text": [
      "   537/1000       7.3G      0.139     0.1296     0.7631        609        736: 100%|██████████| 82/82 [00:12<00:00,  6.65it/s]\n"
     ]
    },
    {
     "name": "stdout",
     "output_type": "stream",
     "text": [
      "\n",
      "      Epoch    GPU_mem   box_loss   cls_loss   dfl_loss  Instances       Size\n"
     ]
    },
    {
     "name": "stderr",
     "output_type": "stream",
     "text": [
      "   538/1000       8.1G     0.1394     0.1296     0.7649        591        736: 100%|██████████| 82/82 [00:12<00:00,  6.63it/s]\n"
     ]
    },
    {
     "name": "stdout",
     "output_type": "stream",
     "text": [
      "\n",
      "      Epoch    GPU_mem   box_loss   cls_loss   dfl_loss  Instances       Size\n"
     ]
    },
    {
     "name": "stderr",
     "output_type": "stream",
     "text": [
      "   539/1000      7.29G       0.14     0.1276     0.7647        540        736: 100%|██████████| 82/82 [00:12<00:00,  6.65it/s]\n"
     ]
    },
    {
     "name": "stdout",
     "output_type": "stream",
     "text": [
      "\n",
      "      Epoch    GPU_mem   box_loss   cls_loss   dfl_loss  Instances       Size\n"
     ]
    },
    {
     "name": "stderr",
     "output_type": "stream",
     "text": [
      "   540/1000      7.46G     0.1402     0.1291     0.7636        646        736: 100%|██████████| 82/82 [00:12<00:00,  6.63it/s]\n"
     ]
    },
    {
     "name": "stdout",
     "output_type": "stream",
     "text": [
      "\n",
      "      Epoch    GPU_mem   box_loss   cls_loss   dfl_loss  Instances       Size\n"
     ]
    },
    {
     "name": "stderr",
     "output_type": "stream",
     "text": [
      "   541/1000      6.88G     0.1378     0.1302      0.764        572        736: 100%|██████████| 82/82 [00:12<00:00,  6.64it/s]\n"
     ]
    },
    {
     "name": "stdout",
     "output_type": "stream",
     "text": [
      "\n",
      "      Epoch    GPU_mem   box_loss   cls_loss   dfl_loss  Instances       Size\n"
     ]
    },
    {
     "name": "stderr",
     "output_type": "stream",
     "text": [
      "   542/1000      7.37G     0.1371     0.1322     0.7647        456        736: 100%|██████████| 82/82 [00:12<00:00,  6.65it/s]\n"
     ]
    },
    {
     "name": "stdout",
     "output_type": "stream",
     "text": [
      "\n",
      "      Epoch    GPU_mem   box_loss   cls_loss   dfl_loss  Instances       Size\n"
     ]
    },
    {
     "name": "stderr",
     "output_type": "stream",
     "text": [
      "   543/1000      6.96G     0.1378     0.1321     0.7649        346        736: 100%|██████████| 82/82 [00:12<00:00,  6.65it/s]\n"
     ]
    },
    {
     "name": "stdout",
     "output_type": "stream",
     "text": [
      "\n",
      "      Epoch    GPU_mem   box_loss   cls_loss   dfl_loss  Instances       Size\n"
     ]
    },
    {
     "name": "stderr",
     "output_type": "stream",
     "text": [
      "   544/1000      6.47G     0.1372     0.1264     0.7625        584        736: 100%|██████████| 82/82 [00:12<00:00,  6.64it/s]\n"
     ]
    },
    {
     "name": "stdout",
     "output_type": "stream",
     "text": [
      "\n",
      "      Epoch    GPU_mem   box_loss   cls_loss   dfl_loss  Instances       Size\n"
     ]
    },
    {
     "name": "stderr",
     "output_type": "stream",
     "text": [
      "   545/1000      6.57G     0.1377     0.1279      0.762        731        736: 100%|██████████| 82/82 [00:12<00:00,  6.65it/s]\n"
     ]
    },
    {
     "name": "stdout",
     "output_type": "stream",
     "text": [
      "\n",
      "      Epoch    GPU_mem   box_loss   cls_loss   dfl_loss  Instances       Size\n"
     ]
    },
    {
     "name": "stderr",
     "output_type": "stream",
     "text": [
      "   546/1000      6.76G     0.1393      0.126     0.7653        541        736: 100%|██████████| 82/82 [00:12<00:00,  6.65it/s]\n"
     ]
    },
    {
     "name": "stdout",
     "output_type": "stream",
     "text": [
      "\n",
      "      Epoch    GPU_mem   box_loss   cls_loss   dfl_loss  Instances       Size\n"
     ]
    },
    {
     "name": "stderr",
     "output_type": "stream",
     "text": [
      "   547/1000       7.1G     0.1378     0.1262     0.7659        567        736: 100%|██████████| 82/82 [00:12<00:00,  6.64it/s]\n"
     ]
    },
    {
     "name": "stdout",
     "output_type": "stream",
     "text": [
      "\n",
      "      Epoch    GPU_mem   box_loss   cls_loss   dfl_loss  Instances       Size\n"
     ]
    },
    {
     "name": "stderr",
     "output_type": "stream",
     "text": [
      "   548/1000      6.85G     0.1356     0.1263     0.7643        486        736: 100%|██████████| 82/82 [00:12<00:00,  6.64it/s]\n"
     ]
    },
    {
     "name": "stdout",
     "output_type": "stream",
     "text": [
      "\n",
      "      Epoch    GPU_mem   box_loss   cls_loss   dfl_loss  Instances       Size\n"
     ]
    },
    {
     "name": "stderr",
     "output_type": "stream",
     "text": [
      "   549/1000      6.43G     0.1374     0.1299     0.7629        625        736: 100%|██████████| 82/82 [00:12<00:00,  6.65it/s]\n"
     ]
    },
    {
     "name": "stdout",
     "output_type": "stream",
     "text": [
      "\n",
      "      Epoch    GPU_mem   box_loss   cls_loss   dfl_loss  Instances       Size\n"
     ]
    },
    {
     "name": "stderr",
     "output_type": "stream",
     "text": [
      "   550/1000      6.46G     0.1376     0.1322     0.7642        567        736: 100%|██████████| 82/82 [00:12<00:00,  6.66it/s]\n"
     ]
    },
    {
     "name": "stdout",
     "output_type": "stream",
     "text": [
      "\n",
      "      Epoch    GPU_mem   box_loss   cls_loss   dfl_loss  Instances       Size\n"
     ]
    },
    {
     "name": "stderr",
     "output_type": "stream",
     "text": [
      "   551/1000      6.79G     0.1365     0.1285     0.7633        779        736: 100%|██████████| 82/82 [00:12<00:00,  6.64it/s]\n"
     ]
    },
    {
     "name": "stdout",
     "output_type": "stream",
     "text": [
      "\n",
      "      Epoch    GPU_mem   box_loss   cls_loss   dfl_loss  Instances       Size\n"
     ]
    },
    {
     "name": "stderr",
     "output_type": "stream",
     "text": [
      "   552/1000      7.29G     0.1347     0.1277     0.7643        538        736: 100%|██████████| 82/82 [00:12<00:00,  6.65it/s]\n"
     ]
    },
    {
     "name": "stdout",
     "output_type": "stream",
     "text": [
      "\n",
      "      Epoch    GPU_mem   box_loss   cls_loss   dfl_loss  Instances       Size\n"
     ]
    },
    {
     "name": "stderr",
     "output_type": "stream",
     "text": [
      "   553/1000      7.45G     0.1351     0.1294     0.7631        493        736: 100%|██████████| 82/82 [00:12<00:00,  6.64it/s]\n"
     ]
    },
    {
     "name": "stdout",
     "output_type": "stream",
     "text": [
      "\n",
      "      Epoch    GPU_mem   box_loss   cls_loss   dfl_loss  Instances       Size\n"
     ]
    },
    {
     "name": "stderr",
     "output_type": "stream",
     "text": [
      "   554/1000      6.91G     0.1352     0.1267     0.7651        471        736: 100%|██████████| 82/82 [00:12<00:00,  6.63it/s]\n"
     ]
    },
    {
     "name": "stdout",
     "output_type": "stream",
     "text": [
      "\n",
      "      Epoch    GPU_mem   box_loss   cls_loss   dfl_loss  Instances       Size\n"
     ]
    },
    {
     "name": "stderr",
     "output_type": "stream",
     "text": [
      "   555/1000      6.72G      0.134     0.1254     0.7644        732        736: 100%|██████████| 82/82 [00:12<00:00,  6.64it/s]\n"
     ]
    },
    {
     "name": "stdout",
     "output_type": "stream",
     "text": [
      "\n",
      "      Epoch    GPU_mem   box_loss   cls_loss   dfl_loss  Instances       Size\n"
     ]
    },
    {
     "name": "stderr",
     "output_type": "stream",
     "text": [
      "   556/1000      7.39G     0.1351     0.1258      0.764        604        736: 100%|██████████| 82/82 [00:12<00:00,  6.64it/s]\n"
     ]
    },
    {
     "name": "stdout",
     "output_type": "stream",
     "text": [
      "\n",
      "      Epoch    GPU_mem   box_loss   cls_loss   dfl_loss  Instances       Size\n"
     ]
    },
    {
     "name": "stderr",
     "output_type": "stream",
     "text": [
      "   557/1000      6.65G     0.1356     0.1267     0.7651        563        736: 100%|██████████| 82/82 [00:12<00:00,  6.65it/s]\n"
     ]
    },
    {
     "name": "stdout",
     "output_type": "stream",
     "text": [
      "\n",
      "      Epoch    GPU_mem   box_loss   cls_loss   dfl_loss  Instances       Size\n"
     ]
    },
    {
     "name": "stderr",
     "output_type": "stream",
     "text": [
      "   558/1000      6.72G     0.1332     0.1264     0.7634        435        736: 100%|██████████| 82/82 [00:12<00:00,  6.63it/s]\n"
     ]
    },
    {
     "name": "stdout",
     "output_type": "stream",
     "text": [
      "\n",
      "      Epoch    GPU_mem   box_loss   cls_loss   dfl_loss  Instances       Size\n"
     ]
    },
    {
     "name": "stderr",
     "output_type": "stream",
     "text": [
      "   559/1000      6.46G     0.1348      0.127     0.7637        511        736: 100%|██████████| 82/82 [00:12<00:00,  6.64it/s]\n"
     ]
    },
    {
     "name": "stdout",
     "output_type": "stream",
     "text": [
      "\n",
      "      Epoch    GPU_mem   box_loss   cls_loss   dfl_loss  Instances       Size\n"
     ]
    },
    {
     "name": "stderr",
     "output_type": "stream",
     "text": [
      "   560/1000      7.26G     0.1359      0.125     0.7634        450        736: 100%|██████████| 82/82 [00:12<00:00,  6.63it/s]\n"
     ]
    },
    {
     "name": "stdout",
     "output_type": "stream",
     "text": [
      "\n",
      "      Epoch    GPU_mem   box_loss   cls_loss   dfl_loss  Instances       Size\n"
     ]
    },
    {
     "name": "stderr",
     "output_type": "stream",
     "text": [
      "   561/1000       7.3G      0.134     0.1241     0.7635        731        736: 100%|██████████| 82/82 [00:12<00:00,  6.64it/s]\n"
     ]
    },
    {
     "name": "stdout",
     "output_type": "stream",
     "text": [
      "\n",
      "      Epoch    GPU_mem   box_loss   cls_loss   dfl_loss  Instances       Size\n"
     ]
    },
    {
     "name": "stderr",
     "output_type": "stream",
     "text": [
      "   562/1000      7.21G     0.1348     0.1254     0.7616        586        736: 100%|██████████| 82/82 [00:12<00:00,  6.64it/s]\n"
     ]
    },
    {
     "name": "stdout",
     "output_type": "stream",
     "text": [
      "\n",
      "      Epoch    GPU_mem   box_loss   cls_loss   dfl_loss  Instances       Size\n"
     ]
    },
    {
     "name": "stderr",
     "output_type": "stream",
     "text": [
      "   563/1000      6.98G      0.134     0.1265      0.764        486        736: 100%|██████████| 82/82 [00:12<00:00,  6.64it/s]\n"
     ]
    },
    {
     "name": "stdout",
     "output_type": "stream",
     "text": [
      "\n",
      "      Epoch    GPU_mem   box_loss   cls_loss   dfl_loss  Instances       Size\n"
     ]
    },
    {
     "name": "stderr",
     "output_type": "stream",
     "text": [
      "   564/1000      7.57G     0.1329     0.1298     0.7633        640        736: 100%|██████████| 82/82 [00:12<00:00,  6.63it/s]\n"
     ]
    },
    {
     "name": "stdout",
     "output_type": "stream",
     "text": [
      "\n",
      "      Epoch    GPU_mem   box_loss   cls_loss   dfl_loss  Instances       Size\n"
     ]
    },
    {
     "name": "stderr",
     "output_type": "stream",
     "text": [
      "   565/1000       7.1G     0.1325     0.1305     0.7631        470        736: 100%|██████████| 82/82 [00:12<00:00,  6.64it/s]\n"
     ]
    },
    {
     "name": "stdout",
     "output_type": "stream",
     "text": [
      "\n",
      "      Epoch    GPU_mem   box_loss   cls_loss   dfl_loss  Instances       Size\n"
     ]
    },
    {
     "name": "stderr",
     "output_type": "stream",
     "text": [
      "   566/1000      6.96G     0.1327      0.129     0.7643        453        736: 100%|██████████| 82/82 [00:12<00:00,  6.64it/s]\n"
     ]
    },
    {
     "name": "stdout",
     "output_type": "stream",
     "text": [
      "\n",
      "      Epoch    GPU_mem   box_loss   cls_loss   dfl_loss  Instances       Size\n"
     ]
    },
    {
     "name": "stderr",
     "output_type": "stream",
     "text": [
      "   567/1000      7.03G     0.1333     0.1241     0.7641        686        736: 100%|██████████| 82/82 [00:12<00:00,  6.65it/s]\n"
     ]
    },
    {
     "name": "stdout",
     "output_type": "stream",
     "text": [
      "\n",
      "      Epoch    GPU_mem   box_loss   cls_loss   dfl_loss  Instances       Size\n"
     ]
    },
    {
     "name": "stderr",
     "output_type": "stream",
     "text": [
      "   568/1000      6.65G     0.1321     0.1225      0.764        638        736: 100%|██████████| 82/82 [00:12<00:00,  6.64it/s]\n"
     ]
    },
    {
     "name": "stdout",
     "output_type": "stream",
     "text": [
      "\n",
      "      Epoch    GPU_mem   box_loss   cls_loss   dfl_loss  Instances       Size\n"
     ]
    },
    {
     "name": "stderr",
     "output_type": "stream",
     "text": [
      "   569/1000      6.66G      0.133     0.1236     0.7646        454        736: 100%|██████████| 82/82 [00:12<00:00,  6.65it/s]\n"
     ]
    },
    {
     "name": "stdout",
     "output_type": "stream",
     "text": [
      "\n",
      "      Epoch    GPU_mem   box_loss   cls_loss   dfl_loss  Instances       Size\n"
     ]
    },
    {
     "name": "stderr",
     "output_type": "stream",
     "text": [
      "   570/1000      6.71G     0.1332     0.1243     0.7637        536        736: 100%|██████████| 82/82 [00:12<00:00,  6.64it/s]\n"
     ]
    },
    {
     "name": "stdout",
     "output_type": "stream",
     "text": [
      "\n",
      "      Epoch    GPU_mem   box_loss   cls_loss   dfl_loss  Instances       Size\n"
     ]
    },
    {
     "name": "stderr",
     "output_type": "stream",
     "text": [
      "   571/1000      7.24G     0.1329      0.123     0.7618        628        736: 100%|██████████| 82/82 [00:12<00:00,  6.64it/s]\n"
     ]
    },
    {
     "name": "stdout",
     "output_type": "stream",
     "text": [
      "\n",
      "      Epoch    GPU_mem   box_loss   cls_loss   dfl_loss  Instances       Size\n"
     ]
    },
    {
     "name": "stderr",
     "output_type": "stream",
     "text": [
      "   572/1000      7.04G     0.1296     0.1216     0.7642        534        736: 100%|██████████| 82/82 [00:12<00:00,  6.65it/s]\n"
     ]
    },
    {
     "name": "stdout",
     "output_type": "stream",
     "text": [
      "\n",
      "      Epoch    GPU_mem   box_loss   cls_loss   dfl_loss  Instances       Size\n"
     ]
    },
    {
     "name": "stderr",
     "output_type": "stream",
     "text": [
      "   573/1000      6.46G     0.1316     0.1237      0.763        562        736: 100%|██████████| 82/82 [00:12<00:00,  6.64it/s]\n"
     ]
    },
    {
     "name": "stdout",
     "output_type": "stream",
     "text": [
      "\n",
      "      Epoch    GPU_mem   box_loss   cls_loss   dfl_loss  Instances       Size\n"
     ]
    },
    {
     "name": "stderr",
     "output_type": "stream",
     "text": [
      "   574/1000      6.76G     0.1302     0.1233      0.763        447        736: 100%|██████████| 82/82 [00:12<00:00,  6.65it/s]\n"
     ]
    },
    {
     "name": "stdout",
     "output_type": "stream",
     "text": [
      "\n",
      "      Epoch    GPU_mem   box_loss   cls_loss   dfl_loss  Instances       Size\n"
     ]
    },
    {
     "name": "stderr",
     "output_type": "stream",
     "text": [
      "   575/1000      6.99G     0.1306     0.1234     0.7635        707        736: 100%|██████████| 82/82 [00:12<00:00,  6.64it/s]\n"
     ]
    },
    {
     "name": "stdout",
     "output_type": "stream",
     "text": [
      "\n",
      "      Epoch    GPU_mem   box_loss   cls_loss   dfl_loss  Instances       Size\n"
     ]
    },
    {
     "name": "stderr",
     "output_type": "stream",
     "text": [
      "   576/1000      6.95G     0.1301     0.1244     0.7626        480        736: 100%|██████████| 82/82 [00:12<00:00,  6.64it/s]\n"
     ]
    },
    {
     "name": "stdout",
     "output_type": "stream",
     "text": [
      "\n",
      "      Epoch    GPU_mem   box_loss   cls_loss   dfl_loss  Instances       Size\n"
     ]
    },
    {
     "name": "stderr",
     "output_type": "stream",
     "text": [
      "   577/1000      7.29G     0.1298     0.1239     0.7635        628        736: 100%|██████████| 82/82 [00:12<00:00,  6.64it/s]\n"
     ]
    },
    {
     "name": "stdout",
     "output_type": "stream",
     "text": [
      "\n",
      "      Epoch    GPU_mem   box_loss   cls_loss   dfl_loss  Instances       Size\n"
     ]
    },
    {
     "name": "stderr",
     "output_type": "stream",
     "text": [
      "   578/1000      6.98G     0.1301     0.1239     0.7647        623        736: 100%|██████████| 82/82 [00:12<00:00,  6.65it/s]\n"
     ]
    },
    {
     "name": "stdout",
     "output_type": "stream",
     "text": [
      "\n",
      "      Epoch    GPU_mem   box_loss   cls_loss   dfl_loss  Instances       Size\n"
     ]
    },
    {
     "name": "stderr",
     "output_type": "stream",
     "text": [
      "   579/1000      7.34G      0.131     0.1214     0.7643        594        736: 100%|██████████| 82/82 [00:12<00:00,  6.64it/s]\n"
     ]
    },
    {
     "name": "stdout",
     "output_type": "stream",
     "text": [
      "\n",
      "      Epoch    GPU_mem   box_loss   cls_loss   dfl_loss  Instances       Size\n"
     ]
    },
    {
     "name": "stderr",
     "output_type": "stream",
     "text": [
      "   580/1000      6.78G     0.1297     0.1213     0.7627        649        736: 100%|██████████| 82/82 [00:12<00:00,  6.65it/s]\n"
     ]
    },
    {
     "name": "stdout",
     "output_type": "stream",
     "text": [
      "\n",
      "      Epoch    GPU_mem   box_loss   cls_loss   dfl_loss  Instances       Size\n"
     ]
    },
    {
     "name": "stderr",
     "output_type": "stream",
     "text": [
      "   581/1000      6.64G     0.1286     0.1232     0.7631        706        736: 100%|██████████| 82/82 [00:12<00:00,  6.65it/s]\n"
     ]
    },
    {
     "name": "stdout",
     "output_type": "stream",
     "text": [
      "\n",
      "      Epoch    GPU_mem   box_loss   cls_loss   dfl_loss  Instances       Size\n"
     ]
    },
    {
     "name": "stderr",
     "output_type": "stream",
     "text": [
      "   582/1000       7.4G     0.1313     0.1215     0.7648        479        736: 100%|██████████| 82/82 [00:12<00:00,  6.64it/s]\n"
     ]
    },
    {
     "name": "stdout",
     "output_type": "stream",
     "text": [
      "\n",
      "      Epoch    GPU_mem   box_loss   cls_loss   dfl_loss  Instances       Size\n"
     ]
    },
    {
     "name": "stderr",
     "output_type": "stream",
     "text": [
      "   583/1000       6.6G     0.1275     0.1227     0.7635        561        736: 100%|██████████| 82/82 [00:12<00:00,  6.64it/s]\n"
     ]
    },
    {
     "name": "stdout",
     "output_type": "stream",
     "text": [
      "\n",
      "      Epoch    GPU_mem   box_loss   cls_loss   dfl_loss  Instances       Size\n"
     ]
    },
    {
     "name": "stderr",
     "output_type": "stream",
     "text": [
      "   584/1000      7.23G     0.1292      0.127     0.7639        581        736: 100%|██████████| 82/82 [00:12<00:00,  6.64it/s]\n"
     ]
    },
    {
     "name": "stdout",
     "output_type": "stream",
     "text": [
      "\n",
      "      Epoch    GPU_mem   box_loss   cls_loss   dfl_loss  Instances       Size\n"
     ]
    },
    {
     "name": "stderr",
     "output_type": "stream",
     "text": [
      "   585/1000      6.96G     0.1297     0.1278     0.7646        588        736: 100%|██████████| 82/82 [00:12<00:00,  6.64it/s]\n"
     ]
    },
    {
     "name": "stdout",
     "output_type": "stream",
     "text": [
      "\n",
      "      Epoch    GPU_mem   box_loss   cls_loss   dfl_loss  Instances       Size\n"
     ]
    },
    {
     "name": "stderr",
     "output_type": "stream",
     "text": [
      "   586/1000      7.03G     0.1283     0.1258      0.763        479        736: 100%|██████████| 82/82 [00:12<00:00,  6.64it/s]\n"
     ]
    },
    {
     "name": "stdout",
     "output_type": "stream",
     "text": [
      "\n",
      "      Epoch    GPU_mem   box_loss   cls_loss   dfl_loss  Instances       Size\n"
     ]
    },
    {
     "name": "stderr",
     "output_type": "stream",
     "text": [
      "   587/1000      7.32G     0.1277     0.1241     0.7635        563        736: 100%|██████████| 82/82 [00:12<00:00,  6.64it/s]\n"
     ]
    },
    {
     "name": "stdout",
     "output_type": "stream",
     "text": [
      "\n",
      "      Epoch    GPU_mem   box_loss   cls_loss   dfl_loss  Instances       Size\n"
     ]
    },
    {
     "name": "stderr",
     "output_type": "stream",
     "text": [
      "   588/1000      7.02G     0.1274     0.1208     0.7626        519        736: 100%|██████████| 82/82 [00:12<00:00,  6.65it/s]\n"
     ]
    },
    {
     "name": "stdout",
     "output_type": "stream",
     "text": [
      "\n",
      "      Epoch    GPU_mem   box_loss   cls_loss   dfl_loss  Instances       Size\n"
     ]
    },
    {
     "name": "stderr",
     "output_type": "stream",
     "text": [
      "   589/1000      6.71G     0.1298     0.1229     0.7638        623        736: 100%|██████████| 82/82 [00:12<00:00,  6.65it/s]\n"
     ]
    },
    {
     "name": "stdout",
     "output_type": "stream",
     "text": [
      "\n",
      "      Epoch    GPU_mem   box_loss   cls_loss   dfl_loss  Instances       Size\n"
     ]
    },
    {
     "name": "stderr",
     "output_type": "stream",
     "text": [
      "   590/1000      7.47G     0.1303     0.1215     0.7638        720        736: 100%|██████████| 82/82 [00:12<00:00,  6.65it/s]\n"
     ]
    },
    {
     "name": "stdout",
     "output_type": "stream",
     "text": [
      "\n",
      "      Epoch    GPU_mem   box_loss   cls_loss   dfl_loss  Instances       Size\n"
     ]
    },
    {
     "name": "stderr",
     "output_type": "stream",
     "text": [
      "   591/1000      6.98G     0.1278     0.1202     0.7635        327        736: 100%|██████████| 82/82 [00:12<00:00,  6.64it/s]\n"
     ]
    },
    {
     "name": "stdout",
     "output_type": "stream",
     "text": [
      "\n",
      "      Epoch    GPU_mem   box_loss   cls_loss   dfl_loss  Instances       Size\n"
     ]
    },
    {
     "name": "stderr",
     "output_type": "stream",
     "text": [
      "   592/1000      6.65G     0.1281     0.1199     0.7626        703        736: 100%|██████████| 82/82 [00:12<00:00,  6.64it/s]\n"
     ]
    },
    {
     "name": "stdout",
     "output_type": "stream",
     "text": [
      "\n",
      "      Epoch    GPU_mem   box_loss   cls_loss   dfl_loss  Instances       Size\n"
     ]
    },
    {
     "name": "stderr",
     "output_type": "stream",
     "text": [
      "   593/1000      6.92G     0.1287     0.1201     0.7635        660        736: 100%|██████████| 82/82 [00:12<00:00,  6.64it/s]\n"
     ]
    },
    {
     "name": "stdout",
     "output_type": "stream",
     "text": [
      "\n",
      "      Epoch    GPU_mem   box_loss   cls_loss   dfl_loss  Instances       Size\n"
     ]
    },
    {
     "name": "stderr",
     "output_type": "stream",
     "text": [
      "   594/1000      6.94G     0.1273     0.1197     0.7637        605        736: 100%|██████████| 82/82 [00:12<00:00,  6.63it/s]\n"
     ]
    },
    {
     "name": "stdout",
     "output_type": "stream",
     "text": [
      "\n",
      "      Epoch    GPU_mem   box_loss   cls_loss   dfl_loss  Instances       Size\n"
     ]
    },
    {
     "name": "stderr",
     "output_type": "stream",
     "text": [
      "   595/1000      6.65G      0.127     0.1199     0.7638        450        736: 100%|██████████| 82/82 [00:12<00:00,  6.64it/s]\n"
     ]
    },
    {
     "name": "stdout",
     "output_type": "stream",
     "text": [
      "\n",
      "      Epoch    GPU_mem   box_loss   cls_loss   dfl_loss  Instances       Size\n"
     ]
    },
    {
     "name": "stderr",
     "output_type": "stream",
     "text": [
      "   596/1000      7.09G     0.1275     0.1204     0.7634        536        736: 100%|██████████| 82/82 [00:12<00:00,  6.63it/s]\n"
     ]
    },
    {
     "name": "stdout",
     "output_type": "stream",
     "text": [
      "\n",
      "      Epoch    GPU_mem   box_loss   cls_loss   dfl_loss  Instances       Size\n"
     ]
    },
    {
     "name": "stderr",
     "output_type": "stream",
     "text": [
      "   597/1000      6.59G     0.1257     0.1237      0.763        616        736: 100%|██████████| 82/82 [00:12<00:00,  6.64it/s]\n"
     ]
    },
    {
     "name": "stdout",
     "output_type": "stream",
     "text": [
      "\n",
      "      Epoch    GPU_mem   box_loss   cls_loss   dfl_loss  Instances       Size\n"
     ]
    },
    {
     "name": "stderr",
     "output_type": "stream",
     "text": [
      "   598/1000      7.24G      0.126     0.1248     0.7629        686        736: 100%|██████████| 82/82 [00:12<00:00,  6.63it/s]\n"
     ]
    },
    {
     "name": "stdout",
     "output_type": "stream",
     "text": [
      "\n",
      "      Epoch    GPU_mem   box_loss   cls_loss   dfl_loss  Instances       Size\n"
     ]
    },
    {
     "name": "stderr",
     "output_type": "stream",
     "text": [
      "   599/1000      6.97G     0.1268     0.1203     0.7619        350        736: 100%|██████████| 82/82 [00:12<00:00,  6.65it/s]\n"
     ]
    },
    {
     "name": "stdout",
     "output_type": "stream",
     "text": [
      "\n",
      "      Epoch    GPU_mem   box_loss   cls_loss   dfl_loss  Instances       Size\n"
     ]
    },
    {
     "name": "stderr",
     "output_type": "stream",
     "text": [
      "   600/1000      7.24G     0.1248     0.1184     0.7619        523        736: 100%|██████████| 82/82 [00:12<00:00,  6.63it/s]\n"
     ]
    },
    {
     "name": "stdout",
     "output_type": "stream",
     "text": [
      "\n",
      "      Epoch    GPU_mem   box_loss   cls_loss   dfl_loss  Instances       Size\n"
     ]
    },
    {
     "name": "stderr",
     "output_type": "stream",
     "text": [
      "   601/1000      7.28G     0.1243     0.1187     0.7627        383        736: 100%|██████████| 82/82 [00:12<00:00,  6.64it/s]\n"
     ]
    },
    {
     "name": "stdout",
     "output_type": "stream",
     "text": [
      "\n",
      "      Epoch    GPU_mem   box_loss   cls_loss   dfl_loss  Instances       Size\n"
     ]
    },
    {
     "name": "stderr",
     "output_type": "stream",
     "text": [
      "   602/1000      7.61G     0.1247     0.1176     0.7609        652        736: 100%|██████████| 82/82 [00:12<00:00,  6.63it/s]\n"
     ]
    },
    {
     "name": "stdout",
     "output_type": "stream",
     "text": [
      "\n",
      "      Epoch    GPU_mem   box_loss   cls_loss   dfl_loss  Instances       Size\n"
     ]
    },
    {
     "name": "stderr",
     "output_type": "stream",
     "text": [
      "   603/1000      6.29G     0.1254     0.1235     0.7633        472        736: 100%|██████████| 82/82 [00:12<00:00,  6.64it/s]\n"
     ]
    },
    {
     "name": "stdout",
     "output_type": "stream",
     "text": [
      "\n",
      "      Epoch    GPU_mem   box_loss   cls_loss   dfl_loss  Instances       Size\n"
     ]
    },
    {
     "name": "stderr",
     "output_type": "stream",
     "text": [
      "   604/1000       6.3G     0.1224     0.1254     0.7622        550        736: 100%|██████████| 82/82 [00:12<00:00,  6.64it/s]\n"
     ]
    },
    {
     "name": "stdout",
     "output_type": "stream",
     "text": [
      "\n",
      "      Epoch    GPU_mem   box_loss   cls_loss   dfl_loss  Instances       Size\n"
     ]
    },
    {
     "name": "stderr",
     "output_type": "stream",
     "text": [
      "   605/1000      7.39G     0.1233     0.1215     0.7624        479        736: 100%|██████████| 82/82 [00:12<00:00,  6.64it/s]\n"
     ]
    },
    {
     "name": "stdout",
     "output_type": "stream",
     "text": [
      "\n",
      "      Epoch    GPU_mem   box_loss   cls_loss   dfl_loss  Instances       Size\n"
     ]
    },
    {
     "name": "stderr",
     "output_type": "stream",
     "text": [
      "   606/1000      7.35G     0.1249     0.1177     0.7638        546        736: 100%|██████████| 82/82 [00:12<00:00,  6.64it/s]\n"
     ]
    },
    {
     "name": "stdout",
     "output_type": "stream",
     "text": [
      "\n",
      "      Epoch    GPU_mem   box_loss   cls_loss   dfl_loss  Instances       Size\n"
     ]
    },
    {
     "name": "stderr",
     "output_type": "stream",
     "text": [
      "   607/1000      7.31G      0.124     0.1192     0.7609        456        736: 100%|██████████| 82/82 [00:12<00:00,  6.62it/s]\n"
     ]
    },
    {
     "name": "stdout",
     "output_type": "stream",
     "text": [
      "\n",
      "      Epoch    GPU_mem   box_loss   cls_loss   dfl_loss  Instances       Size\n"
     ]
    },
    {
     "name": "stderr",
     "output_type": "stream",
     "text": [
      "   608/1000      7.09G      0.124     0.1201     0.7632        532        736: 100%|██████████| 82/82 [00:12<00:00,  6.63it/s]\n"
     ]
    },
    {
     "name": "stdout",
     "output_type": "stream",
     "text": [
      "\n",
      "      Epoch    GPU_mem   box_loss   cls_loss   dfl_loss  Instances       Size\n"
     ]
    },
    {
     "name": "stderr",
     "output_type": "stream",
     "text": [
      "   609/1000      7.28G     0.1235     0.1254     0.7625        806        736: 100%|██████████| 82/82 [00:12<00:00,  6.64it/s]\n"
     ]
    },
    {
     "name": "stdout",
     "output_type": "stream",
     "text": [
      "\n",
      "      Epoch    GPU_mem   box_loss   cls_loss   dfl_loss  Instances       Size\n"
     ]
    },
    {
     "name": "stderr",
     "output_type": "stream",
     "text": [
      "   610/1000      6.78G     0.1251     0.1225     0.7634        486        736: 100%|██████████| 82/82 [00:12<00:00,  6.65it/s]\n"
     ]
    },
    {
     "name": "stdout",
     "output_type": "stream",
     "text": [
      "\n",
      "      Epoch    GPU_mem   box_loss   cls_loss   dfl_loss  Instances       Size\n"
     ]
    },
    {
     "name": "stderr",
     "output_type": "stream",
     "text": [
      "   611/1000       6.6G     0.1241     0.1189     0.7634        681        736: 100%|██████████| 82/82 [00:12<00:00,  6.65it/s]\n"
     ]
    },
    {
     "name": "stdout",
     "output_type": "stream",
     "text": [
      "\n",
      "      Epoch    GPU_mem   box_loss   cls_loss   dfl_loss  Instances       Size\n"
     ]
    },
    {
     "name": "stderr",
     "output_type": "stream",
     "text": [
      "   612/1000      7.23G     0.1239     0.1174     0.7622        610        736: 100%|██████████| 82/82 [00:12<00:00,  6.64it/s]\n"
     ]
    },
    {
     "name": "stdout",
     "output_type": "stream",
     "text": [
      "\n",
      "      Epoch    GPU_mem   box_loss   cls_loss   dfl_loss  Instances       Size\n"
     ]
    },
    {
     "name": "stderr",
     "output_type": "stream",
     "text": [
      "   613/1000      6.67G     0.1251     0.1179      0.764        498        736: 100%|██████████| 82/82 [00:12<00:00,  6.66it/s]\n"
     ]
    },
    {
     "name": "stdout",
     "output_type": "stream",
     "text": [
      "\n",
      "      Epoch    GPU_mem   box_loss   cls_loss   dfl_loss  Instances       Size\n"
     ]
    },
    {
     "name": "stderr",
     "output_type": "stream",
     "text": [
      "   614/1000      6.69G     0.1236     0.1168     0.7636        522        736: 100%|██████████| 82/82 [00:12<00:00,  6.64it/s]\n"
     ]
    },
    {
     "name": "stdout",
     "output_type": "stream",
     "text": [
      "\n",
      "      Epoch    GPU_mem   box_loss   cls_loss   dfl_loss  Instances       Size\n"
     ]
    },
    {
     "name": "stderr",
     "output_type": "stream",
     "text": [
      "   615/1000      6.95G     0.1224     0.1168      0.764        631        736: 100%|██████████| 82/82 [00:12<00:00,  6.65it/s]\n"
     ]
    },
    {
     "name": "stdout",
     "output_type": "stream",
     "text": [
      "\n",
      "      Epoch    GPU_mem   box_loss   cls_loss   dfl_loss  Instances       Size\n"
     ]
    },
    {
     "name": "stderr",
     "output_type": "stream",
     "text": [
      "   616/1000      6.65G     0.1244     0.1174     0.7627        647        736: 100%|██████████| 82/82 [00:12<00:00,  6.66it/s]\n"
     ]
    },
    {
     "name": "stdout",
     "output_type": "stream",
     "text": [
      "\n",
      "      Epoch    GPU_mem   box_loss   cls_loss   dfl_loss  Instances       Size\n"
     ]
    },
    {
     "name": "stderr",
     "output_type": "stream",
     "text": [
      "   617/1000      7.05G     0.1219     0.1173     0.7643        682        736: 100%|██████████| 82/82 [00:12<00:00,  6.64it/s]\n"
     ]
    },
    {
     "name": "stdout",
     "output_type": "stream",
     "text": [
      "\n",
      "      Epoch    GPU_mem   box_loss   cls_loss   dfl_loss  Instances       Size\n"
     ]
    },
    {
     "name": "stderr",
     "output_type": "stream",
     "text": [
      "   618/1000      6.59G     0.1238      0.116     0.7625        750        736: 100%|██████████| 82/82 [00:12<00:00,  6.64it/s]\n"
     ]
    },
    {
     "name": "stdout",
     "output_type": "stream",
     "text": [
      "\n",
      "      Epoch    GPU_mem   box_loss   cls_loss   dfl_loss  Instances       Size\n"
     ]
    },
    {
     "name": "stderr",
     "output_type": "stream",
     "text": [
      "   619/1000      5.97G      0.122     0.1165     0.7631        434        736: 100%|██████████| 82/82 [00:12<00:00,  6.66it/s]\n"
     ]
    },
    {
     "name": "stdout",
     "output_type": "stream",
     "text": [
      "\n",
      "      Epoch    GPU_mem   box_loss   cls_loss   dfl_loss  Instances       Size\n"
     ]
    },
    {
     "name": "stderr",
     "output_type": "stream",
     "text": [
      "   620/1000      7.11G     0.1218     0.1167     0.7615        291        736: 100%|██████████| 82/82 [00:12<00:00,  6.63it/s]\n"
     ]
    },
    {
     "name": "stdout",
     "output_type": "stream",
     "text": [
      "\n",
      "      Epoch    GPU_mem   box_loss   cls_loss   dfl_loss  Instances       Size\n"
     ]
    },
    {
     "name": "stderr",
     "output_type": "stream",
     "text": [
      "   621/1000      6.78G     0.1227     0.1162     0.7641        749        736: 100%|██████████| 82/82 [00:12<00:00,  6.64it/s]\n"
     ]
    },
    {
     "name": "stdout",
     "output_type": "stream",
     "text": [
      "\n",
      "      Epoch    GPU_mem   box_loss   cls_loss   dfl_loss  Instances       Size\n"
     ]
    },
    {
     "name": "stderr",
     "output_type": "stream",
     "text": [
      "   622/1000      6.98G     0.1223     0.1169     0.7631        372        736: 100%|██████████| 82/82 [00:12<00:00,  6.64it/s]\n"
     ]
    },
    {
     "name": "stdout",
     "output_type": "stream",
     "text": [
      "\n",
      "      Epoch    GPU_mem   box_loss   cls_loss   dfl_loss  Instances       Size\n"
     ]
    },
    {
     "name": "stderr",
     "output_type": "stream",
     "text": [
      "   623/1000      6.68G     0.1225     0.1177     0.7628        560        736: 100%|██████████| 82/82 [00:12<00:00,  6.64it/s]\n"
     ]
    },
    {
     "name": "stdout",
     "output_type": "stream",
     "text": [
      "\n",
      "      Epoch    GPU_mem   box_loss   cls_loss   dfl_loss  Instances       Size\n"
     ]
    },
    {
     "name": "stderr",
     "output_type": "stream",
     "text": [
      "   624/1000      7.23G     0.1226     0.1173     0.7633        521        736: 100%|██████████| 82/82 [00:12<00:00,  6.63it/s]\n"
     ]
    },
    {
     "name": "stdout",
     "output_type": "stream",
     "text": [
      "\n",
      "      Epoch    GPU_mem   box_loss   cls_loss   dfl_loss  Instances       Size\n"
     ]
    },
    {
     "name": "stderr",
     "output_type": "stream",
     "text": [
      "   625/1000      6.75G     0.1198     0.1195     0.7638        684        736: 100%|██████████| 82/82 [00:12<00:00,  6.62it/s]\n"
     ]
    },
    {
     "name": "stdout",
     "output_type": "stream",
     "text": [
      "\n",
      "      Epoch    GPU_mem   box_loss   cls_loss   dfl_loss  Instances       Size\n"
     ]
    },
    {
     "name": "stderr",
     "output_type": "stream",
     "text": [
      "   626/1000      7.24G     0.1207     0.1219     0.7622        748        736: 100%|██████████| 82/82 [00:12<00:00,  6.64it/s]\n"
     ]
    },
    {
     "name": "stdout",
     "output_type": "stream",
     "text": [
      "\n",
      "      Epoch    GPU_mem   box_loss   cls_loss   dfl_loss  Instances       Size\n"
     ]
    },
    {
     "name": "stderr",
     "output_type": "stream",
     "text": [
      "   627/1000      6.62G      0.119     0.1218      0.763        472        736: 100%|██████████| 82/82 [00:12<00:00,  6.64it/s]\n"
     ]
    },
    {
     "name": "stdout",
     "output_type": "stream",
     "text": [
      "\n",
      "      Epoch    GPU_mem   box_loss   cls_loss   dfl_loss  Instances       Size\n"
     ]
    },
    {
     "name": "stderr",
     "output_type": "stream",
     "text": [
      "   628/1000      6.66G     0.1195      0.121     0.7627        354        736: 100%|██████████| 82/82 [00:12<00:00,  6.64it/s]\n"
     ]
    },
    {
     "name": "stdout",
     "output_type": "stream",
     "text": [
      "\n",
      "      Epoch    GPU_mem   box_loss   cls_loss   dfl_loss  Instances       Size\n"
     ]
    },
    {
     "name": "stderr",
     "output_type": "stream",
     "text": [
      "   629/1000       7.3G     0.1197     0.1155     0.7644        393        736: 100%|██████████| 82/82 [00:12<00:00,  6.63it/s]\n"
     ]
    },
    {
     "name": "stdout",
     "output_type": "stream",
     "text": [
      "\n",
      "      Epoch    GPU_mem   box_loss   cls_loss   dfl_loss  Instances       Size\n"
     ]
    },
    {
     "name": "stderr",
     "output_type": "stream",
     "text": [
      "   630/1000      6.45G     0.1208     0.1144     0.7623        497        736: 100%|██████████| 82/82 [00:12<00:00,  6.65it/s]\n"
     ]
    },
    {
     "name": "stdout",
     "output_type": "stream",
     "text": [
      "\n",
      "      Epoch    GPU_mem   box_loss   cls_loss   dfl_loss  Instances       Size\n"
     ]
    },
    {
     "name": "stderr",
     "output_type": "stream",
     "text": [
      "   631/1000      7.09G     0.1203     0.1172     0.7627        902        736: 100%|██████████| 82/82 [00:12<00:00,  6.64it/s]\n"
     ]
    },
    {
     "name": "stdout",
     "output_type": "stream",
     "text": [
      "\n",
      "      Epoch    GPU_mem   box_loss   cls_loss   dfl_loss  Instances       Size\n"
     ]
    },
    {
     "name": "stderr",
     "output_type": "stream",
     "text": [
      "   632/1000      7.59G     0.1192     0.1217     0.7619        706        736: 100%|██████████| 82/82 [00:12<00:00,  6.63it/s]\n"
     ]
    },
    {
     "name": "stdout",
     "output_type": "stream",
     "text": [
      "\n",
      "      Epoch    GPU_mem   box_loss   cls_loss   dfl_loss  Instances       Size\n"
     ]
    },
    {
     "name": "stderr",
     "output_type": "stream",
     "text": [
      "   633/1000      7.63G     0.1206     0.1178     0.7616        521        736: 100%|██████████| 82/82 [00:12<00:00,  6.63it/s]\n"
     ]
    },
    {
     "name": "stdout",
     "output_type": "stream",
     "text": [
      "\n",
      "      Epoch    GPU_mem   box_loss   cls_loss   dfl_loss  Instances       Size\n"
     ]
    },
    {
     "name": "stderr",
     "output_type": "stream",
     "text": [
      "   634/1000      7.16G      0.121     0.1159     0.7609        695        736: 100%|██████████| 82/82 [00:12<00:00,  6.63it/s]\n"
     ]
    },
    {
     "name": "stdout",
     "output_type": "stream",
     "text": [
      "\n",
      "      Epoch    GPU_mem   box_loss   cls_loss   dfl_loss  Instances       Size\n"
     ]
    },
    {
     "name": "stderr",
     "output_type": "stream",
     "text": [
      "   635/1000      6.47G     0.1189     0.1149     0.7624        612        736: 100%|██████████| 82/82 [00:12<00:00,  6.64it/s]\n"
     ]
    },
    {
     "name": "stdout",
     "output_type": "stream",
     "text": [
      "\n",
      "      Epoch    GPU_mem   box_loss   cls_loss   dfl_loss  Instances       Size\n"
     ]
    },
    {
     "name": "stderr",
     "output_type": "stream",
     "text": [
      "   636/1000      7.26G     0.1196     0.1155     0.7638        620        736: 100%|██████████| 82/82 [00:12<00:00,  6.62it/s]\n"
     ]
    },
    {
     "name": "stdout",
     "output_type": "stream",
     "text": [
      "\n",
      "      Epoch    GPU_mem   box_loss   cls_loss   dfl_loss  Instances       Size\n"
     ]
    },
    {
     "name": "stderr",
     "output_type": "stream",
     "text": [
      "   637/1000      7.32G      0.119     0.1151     0.7638        467        736: 100%|██████████| 82/82 [00:12<00:00,  6.63it/s]\n"
     ]
    },
    {
     "name": "stdout",
     "output_type": "stream",
     "text": [
      "\n",
      "      Epoch    GPU_mem   box_loss   cls_loss   dfl_loss  Instances       Size\n"
     ]
    },
    {
     "name": "stderr",
     "output_type": "stream",
     "text": [
      "   638/1000      6.62G     0.1182     0.1149     0.7618        417        736: 100%|██████████| 82/82 [00:12<00:00,  6.63it/s]\n"
     ]
    },
    {
     "name": "stdout",
     "output_type": "stream",
     "text": [
      "\n",
      "      Epoch    GPU_mem   box_loss   cls_loss   dfl_loss  Instances       Size\n"
     ]
    },
    {
     "name": "stderr",
     "output_type": "stream",
     "text": [
      "   639/1000      6.75G     0.1196     0.1146     0.7628        432        736: 100%|██████████| 82/82 [00:12<00:00,  6.64it/s]\n"
     ]
    },
    {
     "name": "stdout",
     "output_type": "stream",
     "text": [
      "\n",
      "      Epoch    GPU_mem   box_loss   cls_loss   dfl_loss  Instances       Size\n"
     ]
    },
    {
     "name": "stderr",
     "output_type": "stream",
     "text": [
      "   640/1000      6.74G     0.1187     0.1131     0.7631        548        736: 100%|██████████| 82/82 [00:12<00:00,  6.64it/s]\n"
     ]
    },
    {
     "name": "stdout",
     "output_type": "stream",
     "text": [
      "\n",
      "      Epoch    GPU_mem   box_loss   cls_loss   dfl_loss  Instances       Size\n"
     ]
    },
    {
     "name": "stderr",
     "output_type": "stream",
     "text": [
      "   641/1000      6.62G     0.1189     0.1142     0.7631        720        736: 100%|██████████| 82/82 [00:12<00:00,  6.64it/s]\n"
     ]
    },
    {
     "name": "stdout",
     "output_type": "stream",
     "text": [
      "\n",
      "      Epoch    GPU_mem   box_loss   cls_loss   dfl_loss  Instances       Size\n"
     ]
    },
    {
     "name": "stderr",
     "output_type": "stream",
     "text": [
      "   642/1000      6.34G     0.1189     0.1139     0.7614        477        736: 100%|██████████| 82/82 [00:12<00:00,  6.64it/s]\n"
     ]
    },
    {
     "name": "stdout",
     "output_type": "stream",
     "text": [
      "\n",
      "      Epoch    GPU_mem   box_loss   cls_loss   dfl_loss  Instances       Size\n"
     ]
    },
    {
     "name": "stderr",
     "output_type": "stream",
     "text": [
      "   643/1000      7.08G     0.1182     0.1161     0.7618        667        736: 100%|██████████| 82/82 [00:12<00:00,  6.63it/s]\n"
     ]
    },
    {
     "name": "stdout",
     "output_type": "stream",
     "text": [
      "\n",
      "      Epoch    GPU_mem   box_loss   cls_loss   dfl_loss  Instances       Size\n"
     ]
    },
    {
     "name": "stderr",
     "output_type": "stream",
     "text": [
      "   644/1000      7.04G     0.1174     0.1183     0.7624        561        736: 100%|██████████| 82/82 [00:12<00:00,  6.65it/s]\n"
     ]
    },
    {
     "name": "stdout",
     "output_type": "stream",
     "text": [
      "\n",
      "      Epoch    GPU_mem   box_loss   cls_loss   dfl_loss  Instances       Size\n"
     ]
    },
    {
     "name": "stderr",
     "output_type": "stream",
     "text": [
      "   645/1000      6.98G      0.115     0.1179     0.7623        516        736: 100%|██████████| 82/82 [00:12<00:00,  6.64it/s]\n"
     ]
    },
    {
     "name": "stdout",
     "output_type": "stream",
     "text": [
      "\n",
      "      Epoch    GPU_mem   box_loss   cls_loss   dfl_loss  Instances       Size\n"
     ]
    },
    {
     "name": "stderr",
     "output_type": "stream",
     "text": [
      "   646/1000      6.57G     0.1164     0.1175     0.7631        666        736: 100%|██████████| 82/82 [00:12<00:00,  6.64it/s]\n"
     ]
    },
    {
     "name": "stdout",
     "output_type": "stream",
     "text": [
      "\n",
      "      Epoch    GPU_mem   box_loss   cls_loss   dfl_loss  Instances       Size\n"
     ]
    },
    {
     "name": "stderr",
     "output_type": "stream",
     "text": [
      "   647/1000      6.62G     0.1168     0.1128     0.7624        602        736: 100%|██████████| 82/82 [00:12<00:00,  6.64it/s]\n"
     ]
    },
    {
     "name": "stdout",
     "output_type": "stream",
     "text": [
      "\n",
      "      Epoch    GPU_mem   box_loss   cls_loss   dfl_loss  Instances       Size\n"
     ]
    },
    {
     "name": "stderr",
     "output_type": "stream",
     "text": [
      "   648/1000      7.66G     0.1161      0.113     0.7616        604        736: 100%|██████████| 82/82 [00:12<00:00,  6.64it/s]\n"
     ]
    },
    {
     "name": "stdout",
     "output_type": "stream",
     "text": [
      "\n",
      "      Epoch    GPU_mem   box_loss   cls_loss   dfl_loss  Instances       Size\n"
     ]
    },
    {
     "name": "stderr",
     "output_type": "stream",
     "text": [
      "   649/1000      6.79G     0.1156     0.1169     0.7622        587        736: 100%|██████████| 82/82 [00:12<00:00,  6.65it/s]\n"
     ]
    },
    {
     "name": "stdout",
     "output_type": "stream",
     "text": [
      "\n",
      "      Epoch    GPU_mem   box_loss   cls_loss   dfl_loss  Instances       Size\n"
     ]
    },
    {
     "name": "stderr",
     "output_type": "stream",
     "text": [
      "   650/1000      6.65G     0.1169     0.1184     0.7615        508        736: 100%|██████████| 82/82 [00:12<00:00,  6.65it/s]\n"
     ]
    },
    {
     "name": "stdout",
     "output_type": "stream",
     "text": [
      "\n",
      "      Epoch    GPU_mem   box_loss   cls_loss   dfl_loss  Instances       Size\n"
     ]
    },
    {
     "name": "stderr",
     "output_type": "stream",
     "text": [
      "   651/1000      7.62G     0.1145      0.113     0.7625        613        736: 100%|██████████| 82/82 [00:12<00:00,  6.63it/s]\n"
     ]
    },
    {
     "name": "stdout",
     "output_type": "stream",
     "text": [
      "\n",
      "      Epoch    GPU_mem   box_loss   cls_loss   dfl_loss  Instances       Size\n"
     ]
    },
    {
     "name": "stderr",
     "output_type": "stream",
     "text": [
      "   652/1000      6.98G     0.1156     0.1123     0.7622        462        736: 100%|██████████| 82/82 [00:12<00:00,  6.64it/s]\n"
     ]
    },
    {
     "name": "stdout",
     "output_type": "stream",
     "text": [
      "\n",
      "      Epoch    GPU_mem   box_loss   cls_loss   dfl_loss  Instances       Size\n"
     ]
    },
    {
     "name": "stderr",
     "output_type": "stream",
     "text": [
      "   653/1000      6.63G      0.116     0.1128     0.7619        521        736: 100%|██████████| 82/82 [00:12<00:00,  6.65it/s]\n"
     ]
    },
    {
     "name": "stdout",
     "output_type": "stream",
     "text": [
      "\n",
      "      Epoch    GPU_mem   box_loss   cls_loss   dfl_loss  Instances       Size\n"
     ]
    },
    {
     "name": "stderr",
     "output_type": "stream",
     "text": [
      "   654/1000      6.46G     0.1152     0.1137     0.7608        623        736: 100%|██████████| 82/82 [00:12<00:00,  6.64it/s]\n"
     ]
    },
    {
     "name": "stdout",
     "output_type": "stream",
     "text": [
      "\n",
      "      Epoch    GPU_mem   box_loss   cls_loss   dfl_loss  Instances       Size\n"
     ]
    },
    {
     "name": "stderr",
     "output_type": "stream",
     "text": [
      "   655/1000      6.99G     0.1146     0.1151     0.7621        546        736: 100%|██████████| 82/82 [00:12<00:00,  6.65it/s]\n"
     ]
    },
    {
     "name": "stdout",
     "output_type": "stream",
     "text": [
      "\n",
      "      Epoch    GPU_mem   box_loss   cls_loss   dfl_loss  Instances       Size\n"
     ]
    },
    {
     "name": "stderr",
     "output_type": "stream",
     "text": [
      "   656/1000      7.11G     0.1162     0.1125     0.7623        520        736: 100%|██████████| 82/82 [00:12<00:00,  6.63it/s]\n"
     ]
    },
    {
     "name": "stdout",
     "output_type": "stream",
     "text": [
      "\n",
      "      Epoch    GPU_mem   box_loss   cls_loss   dfl_loss  Instances       Size\n"
     ]
    },
    {
     "name": "stderr",
     "output_type": "stream",
     "text": [
      "   657/1000      6.98G     0.1173     0.1132     0.7622        448        736: 100%|██████████| 82/82 [00:12<00:00,  6.65it/s]\n"
     ]
    },
    {
     "name": "stdout",
     "output_type": "stream",
     "text": [
      "\n",
      "      Epoch    GPU_mem   box_loss   cls_loss   dfl_loss  Instances       Size\n"
     ]
    },
    {
     "name": "stderr",
     "output_type": "stream",
     "text": [
      "   658/1000      6.24G     0.1147     0.1118     0.7614        545        736: 100%|██████████| 82/82 [00:12<00:00,  6.64it/s]\n"
     ]
    },
    {
     "name": "stdout",
     "output_type": "stream",
     "text": [
      "\n",
      "      Epoch    GPU_mem   box_loss   cls_loss   dfl_loss  Instances       Size\n"
     ]
    },
    {
     "name": "stderr",
     "output_type": "stream",
     "text": [
      "   659/1000      7.26G     0.1156     0.1117     0.7621        509        736: 100%|██████████| 82/82 [00:12<00:00,  6.64it/s]\n"
     ]
    },
    {
     "name": "stdout",
     "output_type": "stream",
     "text": [
      "\n",
      "      Epoch    GPU_mem   box_loss   cls_loss   dfl_loss  Instances       Size\n"
     ]
    },
    {
     "name": "stderr",
     "output_type": "stream",
     "text": [
      "   660/1000      6.95G     0.1145     0.1129     0.7616        629        736: 100%|██████████| 82/82 [00:12<00:00,  6.64it/s]\n"
     ]
    },
    {
     "name": "stdout",
     "output_type": "stream",
     "text": [
      "\n",
      "      Epoch    GPU_mem   box_loss   cls_loss   dfl_loss  Instances       Size\n"
     ]
    },
    {
     "name": "stderr",
     "output_type": "stream",
     "text": [
      "   661/1000      6.98G     0.1146     0.1129      0.763        454        736: 100%|██████████| 82/82 [00:12<00:00,  6.64it/s]\n"
     ]
    },
    {
     "name": "stdout",
     "output_type": "stream",
     "text": [
      "\n",
      "      Epoch    GPU_mem   box_loss   cls_loss   dfl_loss  Instances       Size\n"
     ]
    },
    {
     "name": "stderr",
     "output_type": "stream",
     "text": [
      "   662/1000      7.53G     0.1151      0.112     0.7623        439        736: 100%|██████████| 82/82 [00:12<00:00,  6.64it/s]\n"
     ]
    },
    {
     "name": "stdout",
     "output_type": "stream",
     "text": [
      "\n",
      "      Epoch    GPU_mem   box_loss   cls_loss   dfl_loss  Instances       Size\n"
     ]
    },
    {
     "name": "stderr",
     "output_type": "stream",
     "text": [
      "   663/1000      7.19G     0.1145     0.1107     0.7627        568        736: 100%|██████████| 82/82 [00:12<00:00,  6.65it/s]\n"
     ]
    },
    {
     "name": "stdout",
     "output_type": "stream",
     "text": [
      "\n",
      "      Epoch    GPU_mem   box_loss   cls_loss   dfl_loss  Instances       Size\n"
     ]
    },
    {
     "name": "stderr",
     "output_type": "stream",
     "text": [
      "   664/1000      6.91G     0.1131     0.1104     0.7625        733        736: 100%|██████████| 82/82 [00:12<00:00,  6.65it/s]\n"
     ]
    },
    {
     "name": "stdout",
     "output_type": "stream",
     "text": [
      "\n",
      "      Epoch    GPU_mem   box_loss   cls_loss   dfl_loss  Instances       Size\n"
     ]
    },
    {
     "name": "stderr",
     "output_type": "stream",
     "text": [
      "   665/1000      6.45G     0.1133     0.1098     0.7624        433        736: 100%|██████████| 82/82 [00:12<00:00,  6.66it/s]\n"
     ]
    },
    {
     "name": "stdout",
     "output_type": "stream",
     "text": [
      "\n",
      "      Epoch    GPU_mem   box_loss   cls_loss   dfl_loss  Instances       Size\n"
     ]
    },
    {
     "name": "stderr",
     "output_type": "stream",
     "text": [
      "   666/1000      7.24G     0.1135     0.1115     0.7609        505        736: 100%|██████████| 82/82 [00:12<00:00,  6.63it/s]\n"
     ]
    },
    {
     "name": "stdout",
     "output_type": "stream",
     "text": [
      "\n",
      "      Epoch    GPU_mem   box_loss   cls_loss   dfl_loss  Instances       Size\n"
     ]
    },
    {
     "name": "stderr",
     "output_type": "stream",
     "text": [
      "   667/1000      6.59G     0.1139     0.1106     0.7628        538        736: 100%|██████████| 82/82 [00:12<00:00,  6.63it/s]\n"
     ]
    },
    {
     "name": "stdout",
     "output_type": "stream",
     "text": [
      "\n",
      "      Epoch    GPU_mem   box_loss   cls_loss   dfl_loss  Instances       Size\n"
     ]
    },
    {
     "name": "stderr",
     "output_type": "stream",
     "text": [
      "   668/1000      6.75G     0.1121     0.1105     0.7616        615        736: 100%|██████████| 82/82 [00:12<00:00,  6.64it/s]\n"
     ]
    },
    {
     "name": "stdout",
     "output_type": "stream",
     "text": [
      "\n",
      "      Epoch    GPU_mem   box_loss   cls_loss   dfl_loss  Instances       Size\n"
     ]
    },
    {
     "name": "stderr",
     "output_type": "stream",
     "text": [
      "   669/1000      6.65G     0.1128     0.1114     0.7621        618        736: 100%|██████████| 82/82 [00:12<00:00,  6.63it/s]\n"
     ]
    },
    {
     "name": "stdout",
     "output_type": "stream",
     "text": [
      "\n",
      "      Epoch    GPU_mem   box_loss   cls_loss   dfl_loss  Instances       Size\n"
     ]
    },
    {
     "name": "stderr",
     "output_type": "stream",
     "text": [
      "   670/1000      6.97G     0.1122     0.1121     0.7621        566        736: 100%|██████████| 82/82 [00:12<00:00,  6.64it/s]\n"
     ]
    },
    {
     "name": "stdout",
     "output_type": "stream",
     "text": [
      "\n",
      "      Epoch    GPU_mem   box_loss   cls_loss   dfl_loss  Instances       Size\n"
     ]
    },
    {
     "name": "stderr",
     "output_type": "stream",
     "text": [
      "   671/1000      6.99G     0.1118     0.1115     0.7626        891        736: 100%|██████████| 82/82 [00:12<00:00,  6.64it/s]\n"
     ]
    },
    {
     "name": "stdout",
     "output_type": "stream",
     "text": [
      "\n",
      "      Epoch    GPU_mem   box_loss   cls_loss   dfl_loss  Instances       Size\n"
     ]
    },
    {
     "name": "stderr",
     "output_type": "stream",
     "text": [
      "   672/1000      7.28G     0.1118     0.1102     0.7618        669        736: 100%|██████████| 82/82 [00:12<00:00,  6.64it/s]\n"
     ]
    },
    {
     "name": "stdout",
     "output_type": "stream",
     "text": [
      "\n",
      "      Epoch    GPU_mem   box_loss   cls_loss   dfl_loss  Instances       Size\n"
     ]
    },
    {
     "name": "stderr",
     "output_type": "stream",
     "text": [
      "   673/1000         7G     0.1123     0.1114     0.7615        477        736: 100%|██████████| 82/82 [00:12<00:00,  6.64it/s]\n"
     ]
    },
    {
     "name": "stdout",
     "output_type": "stream",
     "text": [
      "\n",
      "      Epoch    GPU_mem   box_loss   cls_loss   dfl_loss  Instances       Size\n"
     ]
    },
    {
     "name": "stderr",
     "output_type": "stream",
     "text": [
      "   674/1000      6.31G     0.1116     0.1094     0.7621        711        736: 100%|██████████| 82/82 [00:12<00:00,  6.67it/s]\n"
     ]
    },
    {
     "name": "stdout",
     "output_type": "stream",
     "text": [
      "\n",
      "      Epoch    GPU_mem   box_loss   cls_loss   dfl_loss  Instances       Size\n"
     ]
    },
    {
     "name": "stderr",
     "output_type": "stream",
     "text": [
      "   675/1000      6.78G     0.1117     0.1099     0.7615        697        736: 100%|██████████| 82/82 [00:12<00:00,  6.64it/s]\n"
     ]
    },
    {
     "name": "stdout",
     "output_type": "stream",
     "text": [
      "\n",
      "      Epoch    GPU_mem   box_loss   cls_loss   dfl_loss  Instances       Size\n"
     ]
    },
    {
     "name": "stderr",
     "output_type": "stream",
     "text": [
      "   676/1000      7.11G     0.1112     0.1104     0.7629        603        736: 100%|██████████| 82/82 [00:12<00:00,  6.64it/s]\n"
     ]
    },
    {
     "name": "stdout",
     "output_type": "stream",
     "text": [
      "\n",
      "      Epoch    GPU_mem   box_loss   cls_loss   dfl_loss  Instances       Size\n"
     ]
    },
    {
     "name": "stderr",
     "output_type": "stream",
     "text": [
      "   677/1000      6.36G     0.1129     0.1102     0.7619        481        736: 100%|██████████| 82/82 [00:12<00:00,  6.66it/s]\n"
     ]
    },
    {
     "name": "stdout",
     "output_type": "stream",
     "text": [
      "\n",
      "      Epoch    GPU_mem   box_loss   cls_loss   dfl_loss  Instances       Size\n"
     ]
    },
    {
     "name": "stderr",
     "output_type": "stream",
     "text": [
      "   678/1000      5.96G     0.1111     0.1093     0.7626        603        736: 100%|██████████| 82/82 [00:12<00:00,  6.65it/s]\n"
     ]
    },
    {
     "name": "stdout",
     "output_type": "stream",
     "text": [
      "\n",
      "      Epoch    GPU_mem   box_loss   cls_loss   dfl_loss  Instances       Size\n"
     ]
    },
    {
     "name": "stderr",
     "output_type": "stream",
     "text": [
      "   679/1000      6.62G     0.1099     0.1091      0.761        542        736: 100%|██████████| 82/82 [00:12<00:00,  6.64it/s]\n"
     ]
    },
    {
     "name": "stdout",
     "output_type": "stream",
     "text": [
      "\n",
      "      Epoch    GPU_mem   box_loss   cls_loss   dfl_loss  Instances       Size\n"
     ]
    },
    {
     "name": "stderr",
     "output_type": "stream",
     "text": [
      "   680/1000      6.45G      0.111       0.11      0.759        628        736: 100%|██████████| 82/82 [00:12<00:00,  6.65it/s]\n"
     ]
    },
    {
     "name": "stdout",
     "output_type": "stream",
     "text": [
      "\n",
      "      Epoch    GPU_mem   box_loss   cls_loss   dfl_loss  Instances       Size\n"
     ]
    },
    {
     "name": "stderr",
     "output_type": "stream",
     "text": [
      "   681/1000      6.79G     0.1117     0.1103     0.7616        667        736: 100%|██████████| 82/82 [00:12<00:00,  6.64it/s]\n"
     ]
    },
    {
     "name": "stdout",
     "output_type": "stream",
     "text": [
      "\n",
      "      Epoch    GPU_mem   box_loss   cls_loss   dfl_loss  Instances       Size\n"
     ]
    },
    {
     "name": "stderr",
     "output_type": "stream",
     "text": [
      "   682/1000      6.75G     0.1108     0.1094     0.7623        282        736: 100%|██████████| 82/82 [00:12<00:00,  6.65it/s]\n"
     ]
    },
    {
     "name": "stdout",
     "output_type": "stream",
     "text": [
      "\n",
      "      Epoch    GPU_mem   box_loss   cls_loss   dfl_loss  Instances       Size\n"
     ]
    },
    {
     "name": "stderr",
     "output_type": "stream",
     "text": [
      "   683/1000      6.46G     0.1106     0.1085     0.7613        484        736: 100%|██████████| 82/82 [00:12<00:00,  6.66it/s]\n"
     ]
    },
    {
     "name": "stdout",
     "output_type": "stream",
     "text": [
      "\n",
      "      Epoch    GPU_mem   box_loss   cls_loss   dfl_loss  Instances       Size\n"
     ]
    },
    {
     "name": "stderr",
     "output_type": "stream",
     "text": [
      "   684/1000      6.79G     0.1094     0.1084      0.762        655        736: 100%|██████████| 82/82 [00:12<00:00,  6.63it/s]\n"
     ]
    },
    {
     "name": "stdout",
     "output_type": "stream",
     "text": [
      "\n",
      "      Epoch    GPU_mem   box_loss   cls_loss   dfl_loss  Instances       Size\n"
     ]
    },
    {
     "name": "stderr",
     "output_type": "stream",
     "text": [
      "   685/1000      7.11G     0.1097     0.1142     0.7627        553        736: 100%|██████████| 82/82 [00:12<00:00,  6.62it/s]\n"
     ]
    },
    {
     "name": "stdout",
     "output_type": "stream",
     "text": [
      "\n",
      "      Epoch    GPU_mem   box_loss   cls_loss   dfl_loss  Instances       Size\n"
     ]
    },
    {
     "name": "stderr",
     "output_type": "stream",
     "text": [
      "   686/1000      6.66G     0.1096     0.1124     0.7634        513        736: 100%|██████████| 82/82 [00:12<00:00,  6.65it/s]\n"
     ]
    },
    {
     "name": "stdout",
     "output_type": "stream",
     "text": [
      "\n",
      "      Epoch    GPU_mem   box_loss   cls_loss   dfl_loss  Instances       Size\n"
     ]
    },
    {
     "name": "stderr",
     "output_type": "stream",
     "text": [
      "   687/1000      6.62G     0.1083     0.1135     0.7615        599        736: 100%|██████████| 82/82 [00:12<00:00,  6.65it/s]\n"
     ]
    },
    {
     "name": "stdout",
     "output_type": "stream",
     "text": [
      "\n",
      "      Epoch    GPU_mem   box_loss   cls_loss   dfl_loss  Instances       Size\n"
     ]
    },
    {
     "name": "stderr",
     "output_type": "stream",
     "text": [
      "   688/1000      6.85G     0.1095      0.113     0.7625        589        736: 100%|██████████| 82/82 [00:12<00:00,  6.63it/s]\n"
     ]
    },
    {
     "name": "stdout",
     "output_type": "stream",
     "text": [
      "\n",
      "      Epoch    GPU_mem   box_loss   cls_loss   dfl_loss  Instances       Size\n"
     ]
    },
    {
     "name": "stderr",
     "output_type": "stream",
     "text": [
      "   689/1000      7.32G     0.1095      0.112     0.7612        570        736: 100%|██████████| 82/82 [00:12<00:00,  6.64it/s]\n"
     ]
    },
    {
     "name": "stdout",
     "output_type": "stream",
     "text": [
      "\n",
      "      Epoch    GPU_mem   box_loss   cls_loss   dfl_loss  Instances       Size\n"
     ]
    },
    {
     "name": "stderr",
     "output_type": "stream",
     "text": [
      "   690/1000      6.77G     0.1093     0.1093      0.762        552        736: 100%|██████████| 82/82 [00:12<00:00,  6.65it/s]\n"
     ]
    },
    {
     "name": "stdout",
     "output_type": "stream",
     "text": [
      "\n",
      "      Epoch    GPU_mem   box_loss   cls_loss   dfl_loss  Instances       Size\n"
     ]
    },
    {
     "name": "stderr",
     "output_type": "stream",
     "text": [
      "   691/1000      7.09G     0.1076     0.1079     0.7626        676        736: 100%|██████████| 82/82 [00:12<00:00,  6.64it/s]\n"
     ]
    },
    {
     "name": "stdout",
     "output_type": "stream",
     "text": [
      "\n",
      "      Epoch    GPU_mem   box_loss   cls_loss   dfl_loss  Instances       Size\n"
     ]
    },
    {
     "name": "stderr",
     "output_type": "stream",
     "text": [
      "   692/1000      7.18G      0.108      0.108     0.7629        686        736: 100%|██████████| 82/82 [00:12<00:00,  6.63it/s]\n"
     ]
    },
    {
     "name": "stdout",
     "output_type": "stream",
     "text": [
      "\n",
      "      Epoch    GPU_mem   box_loss   cls_loss   dfl_loss  Instances       Size\n"
     ]
    },
    {
     "name": "stderr",
     "output_type": "stream",
     "text": [
      "   693/1000      6.66G     0.1088     0.1084     0.7621        483        736: 100%|██████████| 82/82 [00:12<00:00,  6.64it/s]\n"
     ]
    },
    {
     "name": "stdout",
     "output_type": "stream",
     "text": [
      "\n",
      "      Epoch    GPU_mem   box_loss   cls_loss   dfl_loss  Instances       Size\n"
     ]
    },
    {
     "name": "stderr",
     "output_type": "stream",
     "text": [
      "   694/1000      7.26G     0.1074     0.1077     0.7614        757        736: 100%|██████████| 82/82 [00:12<00:00,  6.64it/s]\n"
     ]
    },
    {
     "name": "stdout",
     "output_type": "stream",
     "text": [
      "\n",
      "      Epoch    GPU_mem   box_loss   cls_loss   dfl_loss  Instances       Size\n"
     ]
    },
    {
     "name": "stderr",
     "output_type": "stream",
     "text": [
      "   695/1000      6.59G     0.1069     0.1094     0.7618        540        736: 100%|██████████| 82/82 [00:12<00:00,  6.64it/s]\n"
     ]
    },
    {
     "name": "stdout",
     "output_type": "stream",
     "text": [
      "\n",
      "      Epoch    GPU_mem   box_loss   cls_loss   dfl_loss  Instances       Size\n"
     ]
    },
    {
     "name": "stderr",
     "output_type": "stream",
     "text": [
      "   696/1000      6.97G     0.1076     0.1123     0.7624        686        736: 100%|██████████| 82/82 [00:12<00:00,  6.64it/s]\n"
     ]
    },
    {
     "name": "stdout",
     "output_type": "stream",
     "text": [
      "\n",
      "      Epoch    GPU_mem   box_loss   cls_loss   dfl_loss  Instances       Size\n"
     ]
    },
    {
     "name": "stderr",
     "output_type": "stream",
     "text": [
      "   697/1000      7.36G     0.1066     0.1124     0.7619        683        736: 100%|██████████| 82/82 [00:12<00:00,  6.64it/s]\n"
     ]
    },
    {
     "name": "stdout",
     "output_type": "stream",
     "text": [
      "\n",
      "      Epoch    GPU_mem   box_loss   cls_loss   dfl_loss  Instances       Size\n"
     ]
    },
    {
     "name": "stderr",
     "output_type": "stream",
     "text": [
      "   698/1000      6.46G     0.1071     0.1128     0.7627        614        736: 100%|██████████| 82/82 [00:12<00:00,  6.65it/s]\n"
     ]
    },
    {
     "name": "stdout",
     "output_type": "stream",
     "text": [
      "\n",
      "      Epoch    GPU_mem   box_loss   cls_loss   dfl_loss  Instances       Size\n"
     ]
    },
    {
     "name": "stderr",
     "output_type": "stream",
     "text": [
      "   699/1000      6.56G     0.1052     0.1104      0.762        508        736: 100%|██████████| 82/82 [00:12<00:00,  6.64it/s]\n"
     ]
    },
    {
     "name": "stdout",
     "output_type": "stream",
     "text": [
      "\n",
      "      Epoch    GPU_mem   box_loss   cls_loss   dfl_loss  Instances       Size\n"
     ]
    },
    {
     "name": "stderr",
     "output_type": "stream",
     "text": [
      "   700/1000      6.78G     0.1053     0.1108     0.7607        328        736: 100%|██████████| 82/82 [00:12<00:00,  6.65it/s]\n"
     ]
    },
    {
     "name": "stdout",
     "output_type": "stream",
     "text": [
      "\n",
      "      Epoch    GPU_mem   box_loss   cls_loss   dfl_loss  Instances       Size\n"
     ]
    },
    {
     "name": "stderr",
     "output_type": "stream",
     "text": [
      "   701/1000      6.33G      0.106     0.1113     0.7631        601        736: 100%|██████████| 82/82 [00:12<00:00,  6.66it/s]\n"
     ]
    },
    {
     "name": "stdout",
     "output_type": "stream",
     "text": [
      "\n",
      "      Epoch    GPU_mem   box_loss   cls_loss   dfl_loss  Instances       Size\n"
     ]
    },
    {
     "name": "stderr",
     "output_type": "stream",
     "text": [
      "   702/1000      6.43G     0.1054     0.1108     0.7612        506        736: 100%|██████████| 82/82 [00:12<00:00,  6.64it/s]\n"
     ]
    },
    {
     "name": "stdout",
     "output_type": "stream",
     "text": [
      "\n",
      "      Epoch    GPU_mem   box_loss   cls_loss   dfl_loss  Instances       Size\n"
     ]
    },
    {
     "name": "stderr",
     "output_type": "stream",
     "text": [
      "   703/1000      6.95G     0.1064      0.108     0.7619        808        736: 100%|██████████| 82/82 [00:12<00:00,  6.64it/s]\n"
     ]
    },
    {
     "name": "stdout",
     "output_type": "stream",
     "text": [
      "\n",
      "      Epoch    GPU_mem   box_loss   cls_loss   dfl_loss  Instances       Size\n"
     ]
    },
    {
     "name": "stderr",
     "output_type": "stream",
     "text": [
      "   704/1000      6.94G     0.1059     0.1068     0.7622        542        736: 100%|██████████| 82/82 [00:12<00:00,  6.64it/s]\n"
     ]
    },
    {
     "name": "stdout",
     "output_type": "stream",
     "text": [
      "\n",
      "      Epoch    GPU_mem   box_loss   cls_loss   dfl_loss  Instances       Size\n"
     ]
    },
    {
     "name": "stderr",
     "output_type": "stream",
     "text": [
      "   705/1000      6.72G     0.1071     0.1066     0.7607        386        736: 100%|██████████| 82/82 [00:12<00:00,  6.66it/s]\n"
     ]
    },
    {
     "name": "stdout",
     "output_type": "stream",
     "text": [
      "\n",
      "      Epoch    GPU_mem   box_loss   cls_loss   dfl_loss  Instances       Size\n"
     ]
    },
    {
     "name": "stderr",
     "output_type": "stream",
     "text": [
      "   706/1000      7.29G     0.1043      0.105     0.7609        565        736: 100%|██████████| 82/82 [00:12<00:00,  6.64it/s]\n"
     ]
    },
    {
     "name": "stdout",
     "output_type": "stream",
     "text": [
      "\n",
      "      Epoch    GPU_mem   box_loss   cls_loss   dfl_loss  Instances       Size\n"
     ]
    },
    {
     "name": "stderr",
     "output_type": "stream",
     "text": [
      "   707/1000       7.1G     0.1057     0.1063     0.7621        434        736: 100%|██████████| 82/82 [00:12<00:00,  6.64it/s]\n"
     ]
    },
    {
     "name": "stdout",
     "output_type": "stream",
     "text": [
      "\n",
      "      Epoch    GPU_mem   box_loss   cls_loss   dfl_loss  Instances       Size\n"
     ]
    },
    {
     "name": "stderr",
     "output_type": "stream",
     "text": [
      "   708/1000      7.28G     0.1053     0.1064     0.7624        481        736: 100%|██████████| 82/82 [00:12<00:00,  6.62it/s]\n"
     ]
    },
    {
     "name": "stdout",
     "output_type": "stream",
     "text": [
      "\n",
      "      Epoch    GPU_mem   box_loss   cls_loss   dfl_loss  Instances       Size\n"
     ]
    },
    {
     "name": "stderr",
     "output_type": "stream",
     "text": [
      "   709/1000      6.57G     0.1064      0.106     0.7616        387        736: 100%|██████████| 82/82 [00:12<00:00,  6.64it/s]\n"
     ]
    },
    {
     "name": "stdout",
     "output_type": "stream",
     "text": [
      "\n",
      "      Epoch    GPU_mem   box_loss   cls_loss   dfl_loss  Instances       Size\n"
     ]
    },
    {
     "name": "stderr",
     "output_type": "stream",
     "text": [
      "   710/1000       7.6G     0.1034     0.1077     0.7623        492        736: 100%|██████████| 82/82 [00:12<00:00,  6.64it/s]\n"
     ]
    },
    {
     "name": "stdout",
     "output_type": "stream",
     "text": [
      "\n",
      "      Epoch    GPU_mem   box_loss   cls_loss   dfl_loss  Instances       Size\n"
     ]
    },
    {
     "name": "stderr",
     "output_type": "stream",
     "text": [
      "   711/1000      6.68G     0.1037     0.1129     0.7611        541        736: 100%|██████████| 82/82 [00:12<00:00,  6.65it/s]\n"
     ]
    },
    {
     "name": "stdout",
     "output_type": "stream",
     "text": [
      "\n",
      "      Epoch    GPU_mem   box_loss   cls_loss   dfl_loss  Instances       Size\n"
     ]
    },
    {
     "name": "stderr",
     "output_type": "stream",
     "text": [
      "   712/1000      6.27G     0.1026     0.1138     0.7607        730        736: 100%|██████████| 82/82 [00:12<00:00,  6.66it/s]\n"
     ]
    },
    {
     "name": "stdout",
     "output_type": "stream",
     "text": [
      "\n",
      "      Epoch    GPU_mem   box_loss   cls_loss   dfl_loss  Instances       Size\n"
     ]
    },
    {
     "name": "stderr",
     "output_type": "stream",
     "text": [
      "   713/1000      6.33G     0.1025     0.1103     0.7616        702        736: 100%|██████████| 82/82 [00:12<00:00,  6.65it/s]\n"
     ]
    },
    {
     "name": "stdout",
     "output_type": "stream",
     "text": [
      "\n",
      "      Epoch    GPU_mem   box_loss   cls_loss   dfl_loss  Instances       Size\n"
     ]
    },
    {
     "name": "stderr",
     "output_type": "stream",
     "text": [
      "   714/1000      6.97G     0.1031     0.1061     0.7621        480        736: 100%|██████████| 82/82 [00:12<00:00,  6.64it/s]\n"
     ]
    },
    {
     "name": "stdout",
     "output_type": "stream",
     "text": [
      "\n",
      "      Epoch    GPU_mem   box_loss   cls_loss   dfl_loss  Instances       Size\n"
     ]
    },
    {
     "name": "stderr",
     "output_type": "stream",
     "text": [
      "   715/1000      6.68G     0.1041     0.1041     0.7623        571        736: 100%|██████████| 82/82 [00:12<00:00,  6.65it/s]\n"
     ]
    },
    {
     "name": "stdout",
     "output_type": "stream",
     "text": [
      "\n",
      "      Epoch    GPU_mem   box_loss   cls_loss   dfl_loss  Instances       Size\n"
     ]
    },
    {
     "name": "stderr",
     "output_type": "stream",
     "text": [
      "   716/1000      6.55G     0.1034     0.1031     0.7625        415        736: 100%|██████████| 82/82 [00:12<00:00,  6.66it/s]\n"
     ]
    },
    {
     "name": "stdout",
     "output_type": "stream",
     "text": [
      "\n",
      "      Epoch    GPU_mem   box_loss   cls_loss   dfl_loss  Instances       Size\n"
     ]
    },
    {
     "name": "stderr",
     "output_type": "stream",
     "text": [
      "   717/1000      7.09G     0.1033     0.1045     0.7624        581        736: 100%|██████████| 82/82 [00:12<00:00,  6.62it/s]\n"
     ]
    },
    {
     "name": "stdout",
     "output_type": "stream",
     "text": [
      "\n",
      "      Epoch    GPU_mem   box_loss   cls_loss   dfl_loss  Instances       Size\n"
     ]
    },
    {
     "name": "stderr",
     "output_type": "stream",
     "text": [
      "   718/1000      7.01G     0.1034     0.1043     0.7612        777        736: 100%|██████████| 82/82 [00:12<00:00,  6.65it/s]\n"
     ]
    },
    {
     "name": "stdout",
     "output_type": "stream",
     "text": [
      "\n",
      "      Epoch    GPU_mem   box_loss   cls_loss   dfl_loss  Instances       Size\n"
     ]
    },
    {
     "name": "stderr",
     "output_type": "stream",
     "text": [
      "   719/1000      6.68G      0.103     0.1085     0.7632        502        736: 100%|██████████| 82/82 [00:12<00:00,  6.66it/s]\n"
     ]
    },
    {
     "name": "stdout",
     "output_type": "stream",
     "text": [
      "\n",
      "      Epoch    GPU_mem   box_loss   cls_loss   dfl_loss  Instances       Size\n"
     ]
    },
    {
     "name": "stderr",
     "output_type": "stream",
     "text": [
      "   720/1000      7.43G     0.1026      0.108      0.761        693        736: 100%|██████████| 82/82 [00:12<00:00,  6.63it/s]\n"
     ]
    },
    {
     "name": "stdout",
     "output_type": "stream",
     "text": [
      "\n",
      "      Epoch    GPU_mem   box_loss   cls_loss   dfl_loss  Instances       Size\n"
     ]
    },
    {
     "name": "stderr",
     "output_type": "stream",
     "text": [
      "   721/1000      6.46G     0.1042     0.1052     0.7624        629        736: 100%|██████████| 82/82 [00:12<00:00,  6.64it/s]\n"
     ]
    },
    {
     "name": "stdout",
     "output_type": "stream",
     "text": [
      "\n",
      "      Epoch    GPU_mem   box_loss   cls_loss   dfl_loss  Instances       Size\n"
     ]
    },
    {
     "name": "stderr",
     "output_type": "stream",
     "text": [
      "   722/1000      5.95G     0.1028     0.1051     0.7612        775        736: 100%|██████████| 82/82 [00:12<00:00,  6.65it/s]\n"
     ]
    },
    {
     "name": "stdout",
     "output_type": "stream",
     "text": [
      "\n",
      "      Epoch    GPU_mem   box_loss   cls_loss   dfl_loss  Instances       Size\n"
     ]
    },
    {
     "name": "stderr",
     "output_type": "stream",
     "text": [
      "   723/1000      7.21G     0.1025     0.1036     0.7623        635        736: 100%|██████████| 82/82 [00:12<00:00,  6.63it/s]\n"
     ]
    },
    {
     "name": "stdout",
     "output_type": "stream",
     "text": [
      "\n",
      "      Epoch    GPU_mem   box_loss   cls_loss   dfl_loss  Instances       Size\n"
     ]
    },
    {
     "name": "stderr",
     "output_type": "stream",
     "text": [
      "   724/1000      7.91G     0.1024     0.1036     0.7613        658        736: 100%|██████████| 82/82 [00:12<00:00,  6.63it/s]\n"
     ]
    },
    {
     "name": "stdout",
     "output_type": "stream",
     "text": [
      "\n",
      "      Epoch    GPU_mem   box_loss   cls_loss   dfl_loss  Instances       Size\n"
     ]
    },
    {
     "name": "stderr",
     "output_type": "stream",
     "text": [
      "   725/1000      7.31G     0.1021     0.1038     0.7602        421        736: 100%|██████████| 82/82 [00:12<00:00,  6.64it/s]\n"
     ]
    },
    {
     "name": "stdout",
     "output_type": "stream",
     "text": [
      "\n",
      "      Epoch    GPU_mem   box_loss   cls_loss   dfl_loss  Instances       Size\n"
     ]
    },
    {
     "name": "stderr",
     "output_type": "stream",
     "text": [
      "   726/1000      6.92G     0.1025     0.1036     0.7608        562        736: 100%|██████████| 82/82 [00:12<00:00,  6.64it/s]\n"
     ]
    },
    {
     "name": "stdout",
     "output_type": "stream",
     "text": [
      "\n",
      "      Epoch    GPU_mem   box_loss   cls_loss   dfl_loss  Instances       Size\n"
     ]
    },
    {
     "name": "stderr",
     "output_type": "stream",
     "text": [
      "   727/1000      6.46G     0.1015     0.1034     0.7608        472        736: 100%|██████████| 82/82 [00:12<00:00,  6.63it/s]\n"
     ]
    },
    {
     "name": "stdout",
     "output_type": "stream",
     "text": [
      "\n",
      "      Epoch    GPU_mem   box_loss   cls_loss   dfl_loss  Instances       Size\n"
     ]
    },
    {
     "name": "stderr",
     "output_type": "stream",
     "text": [
      "   728/1000      7.08G     0.1018     0.1032     0.7618        681        736: 100%|██████████| 82/82 [00:12<00:00,  6.64it/s]\n"
     ]
    },
    {
     "name": "stdout",
     "output_type": "stream",
     "text": [
      "\n",
      "      Epoch    GPU_mem   box_loss   cls_loss   dfl_loss  Instances       Size\n"
     ]
    },
    {
     "name": "stderr",
     "output_type": "stream",
     "text": [
      "   729/1000       6.6G      0.102     0.1034     0.7617        657        736: 100%|██████████| 82/82 [00:12<00:00,  6.65it/s]\n"
     ]
    },
    {
     "name": "stdout",
     "output_type": "stream",
     "text": [
      "\n",
      "      Epoch    GPU_mem   box_loss   cls_loss   dfl_loss  Instances       Size\n"
     ]
    },
    {
     "name": "stderr",
     "output_type": "stream",
     "text": [
      "   730/1000      6.62G     0.1012     0.1031     0.7621        397        736: 100%|██████████| 82/82 [00:12<00:00,  6.64it/s]\n"
     ]
    },
    {
     "name": "stdout",
     "output_type": "stream",
     "text": [
      "\n",
      "      Epoch    GPU_mem   box_loss   cls_loss   dfl_loss  Instances       Size\n"
     ]
    },
    {
     "name": "stderr",
     "output_type": "stream",
     "text": [
      "   731/1000      7.29G     0.1007     0.1029     0.7605        540        736: 100%|██████████| 82/82 [00:12<00:00,  6.65it/s]\n"
     ]
    },
    {
     "name": "stdout",
     "output_type": "stream",
     "text": [
      "\n",
      "      Epoch    GPU_mem   box_loss   cls_loss   dfl_loss  Instances       Size\n"
     ]
    },
    {
     "name": "stderr",
     "output_type": "stream",
     "text": [
      "   732/1000      6.96G     0.1005     0.1075     0.7612        586        736: 100%|██████████| 82/82 [00:12<00:00,  6.64it/s]\n"
     ]
    },
    {
     "name": "stdout",
     "output_type": "stream",
     "text": [
      "\n",
      "      Epoch    GPU_mem   box_loss   cls_loss   dfl_loss  Instances       Size\n"
     ]
    },
    {
     "name": "stderr",
     "output_type": "stream",
     "text": [
      "   733/1000      7.35G    0.09929     0.1103     0.7611        400        736: 100%|██████████| 82/82 [00:12<00:00,  6.63it/s]\n"
     ]
    },
    {
     "name": "stdout",
     "output_type": "stream",
     "text": [
      "\n",
      "      Epoch    GPU_mem   box_loss   cls_loss   dfl_loss  Instances       Size\n"
     ]
    },
    {
     "name": "stderr",
     "output_type": "stream",
     "text": [
      "   734/1000      6.46G     0.1001     0.1065     0.7616        472        736: 100%|██████████| 82/82 [00:12<00:00,  6.65it/s]\n"
     ]
    },
    {
     "name": "stdout",
     "output_type": "stream",
     "text": [
      "\n",
      "      Epoch    GPU_mem   box_loss   cls_loss   dfl_loss  Instances       Size\n"
     ]
    },
    {
     "name": "stderr",
     "output_type": "stream",
     "text": [
      "   735/1000      6.75G     0.1003     0.1031     0.7612        457        736: 100%|██████████| 82/82 [00:12<00:00,  6.64it/s]\n"
     ]
    },
    {
     "name": "stdout",
     "output_type": "stream",
     "text": [
      "\n",
      "      Epoch    GPU_mem   box_loss   cls_loss   dfl_loss  Instances       Size\n"
     ]
    },
    {
     "name": "stderr",
     "output_type": "stream",
     "text": [
      "   736/1000      6.46G     0.1015     0.1042     0.7608        527        736: 100%|██████████| 82/82 [00:12<00:00,  6.66it/s]\n"
     ]
    },
    {
     "name": "stdout",
     "output_type": "stream",
     "text": [
      "\n",
      "      Epoch    GPU_mem   box_loss   cls_loss   dfl_loss  Instances       Size\n"
     ]
    },
    {
     "name": "stderr",
     "output_type": "stream",
     "text": [
      "   737/1000      7.07G    0.09993     0.1029     0.7615        666        736: 100%|██████████| 82/82 [00:12<00:00,  6.64it/s]\n"
     ]
    },
    {
     "name": "stdout",
     "output_type": "stream",
     "text": [
      "\n",
      "      Epoch    GPU_mem   box_loss   cls_loss   dfl_loss  Instances       Size\n"
     ]
    },
    {
     "name": "stderr",
     "output_type": "stream",
     "text": [
      "   738/1000      6.78G    0.09994      0.102      0.763        805        736: 100%|██████████| 82/82 [00:12<00:00,  6.64it/s]\n"
     ]
    },
    {
     "name": "stdout",
     "output_type": "stream",
     "text": [
      "\n",
      "      Epoch    GPU_mem   box_loss   cls_loss   dfl_loss  Instances       Size\n"
     ]
    },
    {
     "name": "stderr",
     "output_type": "stream",
     "text": [
      "   739/1000      5.97G     0.1002     0.1025     0.7622        482        736: 100%|██████████| 82/82 [00:12<00:00,  6.65it/s]\n"
     ]
    },
    {
     "name": "stdout",
     "output_type": "stream",
     "text": [
      "\n",
      "      Epoch    GPU_mem   box_loss   cls_loss   dfl_loss  Instances       Size\n"
     ]
    },
    {
     "name": "stderr",
     "output_type": "stream",
     "text": [
      "   740/1000      6.79G     0.1001     0.1021     0.7606        454        736: 100%|██████████| 82/82 [00:12<00:00,  6.64it/s]\n"
     ]
    },
    {
     "name": "stdout",
     "output_type": "stream",
     "text": [
      "\n",
      "      Epoch    GPU_mem   box_loss   cls_loss   dfl_loss  Instances       Size\n"
     ]
    },
    {
     "name": "stderr",
     "output_type": "stream",
     "text": [
      "   741/1000      7.51G    0.09972     0.1026     0.7612        535        736: 100%|██████████| 82/82 [00:12<00:00,  6.64it/s]\n"
     ]
    },
    {
     "name": "stdout",
     "output_type": "stream",
     "text": [
      "\n",
      "      Epoch    GPU_mem   box_loss   cls_loss   dfl_loss  Instances       Size\n"
     ]
    },
    {
     "name": "stderr",
     "output_type": "stream",
     "text": [
      "   742/1000      6.69G    0.09919     0.1045     0.7605        485        736: 100%|██████████| 82/82 [00:12<00:00,  6.64it/s]\n"
     ]
    },
    {
     "name": "stdout",
     "output_type": "stream",
     "text": [
      "\n",
      "      Epoch    GPU_mem   box_loss   cls_loss   dfl_loss  Instances       Size\n"
     ]
    },
    {
     "name": "stderr",
     "output_type": "stream",
     "text": [
      "   743/1000      7.29G    0.09946      0.105     0.7613        591        736: 100%|██████████| 82/82 [00:12<00:00,  6.64it/s]\n"
     ]
    },
    {
     "name": "stdout",
     "output_type": "stream",
     "text": [
      "\n",
      "      Epoch    GPU_mem   box_loss   cls_loss   dfl_loss  Instances       Size\n"
     ]
    },
    {
     "name": "stderr",
     "output_type": "stream",
     "text": [
      "   744/1000      6.61G    0.09798     0.1022     0.7617        437        736: 100%|██████████| 82/82 [00:12<00:00,  6.64it/s]\n"
     ]
    },
    {
     "name": "stdout",
     "output_type": "stream",
     "text": [
      "\n",
      "      Epoch    GPU_mem   box_loss   cls_loss   dfl_loss  Instances       Size\n"
     ]
    },
    {
     "name": "stderr",
     "output_type": "stream",
     "text": [
      "   745/1000      6.65G    0.09712     0.1012     0.7605        639        736: 100%|██████████| 82/82 [00:12<00:00,  6.64it/s]\n"
     ]
    },
    {
     "name": "stdout",
     "output_type": "stream",
     "text": [
      "\n",
      "      Epoch    GPU_mem   box_loss   cls_loss   dfl_loss  Instances       Size\n"
     ]
    },
    {
     "name": "stderr",
     "output_type": "stream",
     "text": [
      "   746/1000      6.62G    0.09927     0.1021     0.7608        470        736: 100%|██████████| 82/82 [00:12<00:00,  6.64it/s]\n"
     ]
    },
    {
     "name": "stdout",
     "output_type": "stream",
     "text": [
      "\n",
      "      Epoch    GPU_mem   box_loss   cls_loss   dfl_loss  Instances       Size\n"
     ]
    },
    {
     "name": "stderr",
     "output_type": "stream",
     "text": [
      "   747/1000      6.47G    0.09789     0.1013     0.7609        524        736: 100%|██████████| 82/82 [00:12<00:00,  6.64it/s]\n"
     ]
    },
    {
     "name": "stdout",
     "output_type": "stream",
     "text": [
      "\n",
      "      Epoch    GPU_mem   box_loss   cls_loss   dfl_loss  Instances       Size\n"
     ]
    },
    {
     "name": "stderr",
     "output_type": "stream",
     "text": [
      "   748/1000      7.38G    0.09913      0.101     0.7626        782        736: 100%|██████████| 82/82 [00:12<00:00,  6.64it/s]\n"
     ]
    },
    {
     "name": "stdout",
     "output_type": "stream",
     "text": [
      "\n",
      "      Epoch    GPU_mem   box_loss   cls_loss   dfl_loss  Instances       Size\n"
     ]
    },
    {
     "name": "stderr",
     "output_type": "stream",
     "text": [
      "   749/1000      6.98G    0.09877      0.101      0.762        508        736: 100%|██████████| 82/82 [00:12<00:00,  6.66it/s]\n"
     ]
    },
    {
     "name": "stdout",
     "output_type": "stream",
     "text": [
      "\n",
      "      Epoch    GPU_mem   box_loss   cls_loss   dfl_loss  Instances       Size\n"
     ]
    },
    {
     "name": "stderr",
     "output_type": "stream",
     "text": [
      "   750/1000      6.32G    0.09767     0.1012     0.7612        625        736: 100%|██████████| 82/82 [00:12<00:00,  6.66it/s]\n"
     ]
    },
    {
     "name": "stdout",
     "output_type": "stream",
     "text": [
      "\n",
      "      Epoch    GPU_mem   box_loss   cls_loss   dfl_loss  Instances       Size\n"
     ]
    },
    {
     "name": "stderr",
     "output_type": "stream",
     "text": [
      "   751/1000      6.95G    0.09685     0.1004     0.7597        471        736: 100%|██████████| 82/82 [00:12<00:00,  6.64it/s]\n"
     ]
    },
    {
     "name": "stdout",
     "output_type": "stream",
     "text": [
      "\n",
      "      Epoch    GPU_mem   box_loss   cls_loss   dfl_loss  Instances       Size\n"
     ]
    },
    {
     "name": "stderr",
     "output_type": "stream",
     "text": [
      "   752/1000       7.4G    0.09692     0.1009     0.7612        553        736: 100%|██████████| 82/82 [00:12<00:00,  6.65it/s]\n"
     ]
    },
    {
     "name": "stdout",
     "output_type": "stream",
     "text": [
      "\n",
      "      Epoch    GPU_mem   box_loss   cls_loss   dfl_loss  Instances       Size\n"
     ]
    },
    {
     "name": "stderr",
     "output_type": "stream",
     "text": [
      "   753/1000      6.45G    0.09701     0.1043     0.7629        433        736: 100%|██████████| 82/82 [00:12<00:00,  6.65it/s]\n"
     ]
    },
    {
     "name": "stdout",
     "output_type": "stream",
     "text": [
      "\n",
      "      Epoch    GPU_mem   box_loss   cls_loss   dfl_loss  Instances       Size\n"
     ]
    },
    {
     "name": "stderr",
     "output_type": "stream",
     "text": [
      "   754/1000      7.44G    0.09633     0.1046     0.7603        539        736: 100%|██████████| 82/82 [00:12<00:00,  6.63it/s]\n"
     ]
    },
    {
     "name": "stdout",
     "output_type": "stream",
     "text": [
      "\n",
      "      Epoch    GPU_mem   box_loss   cls_loss   dfl_loss  Instances       Size\n"
     ]
    },
    {
     "name": "stderr",
     "output_type": "stream",
     "text": [
      "   755/1000      6.66G    0.09605     0.1033     0.7614        402        736: 100%|██████████| 82/82 [00:12<00:00,  6.65it/s]\n"
     ]
    },
    {
     "name": "stdout",
     "output_type": "stream",
     "text": [
      "\n",
      "      Epoch    GPU_mem   box_loss   cls_loss   dfl_loss  Instances       Size\n"
     ]
    },
    {
     "name": "stderr",
     "output_type": "stream",
     "text": [
      "   756/1000      7.23G    0.09712     0.1011     0.7608        810        736: 100%|██████████| 82/82 [00:12<00:00,  6.65it/s]\n"
     ]
    },
    {
     "name": "stdout",
     "output_type": "stream",
     "text": [
      "\n",
      "      Epoch    GPU_mem   box_loss   cls_loss   dfl_loss  Instances       Size\n"
     ]
    },
    {
     "name": "stderr",
     "output_type": "stream",
     "text": [
      "   757/1000      6.45G    0.09733     0.1006     0.7604        460        736: 100%|██████████| 82/82 [00:12<00:00,  6.65it/s]\n"
     ]
    },
    {
     "name": "stdout",
     "output_type": "stream",
     "text": [
      "\n",
      "      Epoch    GPU_mem   box_loss   cls_loss   dfl_loss  Instances       Size\n"
     ]
    },
    {
     "name": "stderr",
     "output_type": "stream",
     "text": [
      "   758/1000      6.89G    0.09664     0.1009     0.7618        647        736: 100%|██████████| 82/82 [00:12<00:00,  6.63it/s]\n"
     ]
    },
    {
     "name": "stdout",
     "output_type": "stream",
     "text": [
      "\n",
      "      Epoch    GPU_mem   box_loss   cls_loss   dfl_loss  Instances       Size\n"
     ]
    },
    {
     "name": "stderr",
     "output_type": "stream",
     "text": [
      "   759/1000      6.98G     0.0957     0.1002      0.762        573        736: 100%|██████████| 82/82 [00:12<00:00,  6.64it/s]\n"
     ]
    },
    {
     "name": "stdout",
     "output_type": "stream",
     "text": [
      "\n",
      "      Epoch    GPU_mem   box_loss   cls_loss   dfl_loss  Instances       Size\n"
     ]
    },
    {
     "name": "stderr",
     "output_type": "stream",
     "text": [
      "   760/1000      6.64G    0.09576     0.1002     0.7624        846        736: 100%|██████████| 82/82 [00:12<00:00,  6.65it/s]\n"
     ]
    },
    {
     "name": "stdout",
     "output_type": "stream",
     "text": [
      "\n",
      "      Epoch    GPU_mem   box_loss   cls_loss   dfl_loss  Instances       Size\n"
     ]
    },
    {
     "name": "stderr",
     "output_type": "stream",
     "text": [
      "   761/1000      6.47G    0.09612     0.1002     0.7603        470        736: 100%|██████████| 82/82 [00:12<00:00,  6.65it/s]\n"
     ]
    },
    {
     "name": "stdout",
     "output_type": "stream",
     "text": [
      "\n",
      "      Epoch    GPU_mem   box_loss   cls_loss   dfl_loss  Instances       Size\n"
     ]
    },
    {
     "name": "stderr",
     "output_type": "stream",
     "text": [
      "   762/1000      7.04G    0.09527    0.09915     0.7616        444        736: 100%|██████████| 82/82 [00:12<00:00,  6.64it/s]\n"
     ]
    },
    {
     "name": "stdout",
     "output_type": "stream",
     "text": [
      "\n",
      "      Epoch    GPU_mem   box_loss   cls_loss   dfl_loss  Instances       Size\n"
     ]
    },
    {
     "name": "stderr",
     "output_type": "stream",
     "text": [
      "   763/1000       7.3G    0.09493     0.1014     0.7592        546        736: 100%|██████████| 82/82 [00:12<00:00,  6.62it/s]\n"
     ]
    },
    {
     "name": "stdout",
     "output_type": "stream",
     "text": [
      "\n",
      "      Epoch    GPU_mem   box_loss   cls_loss   dfl_loss  Instances       Size\n"
     ]
    },
    {
     "name": "stderr",
     "output_type": "stream",
     "text": [
      "   764/1000      7.47G    0.09445     0.1026     0.7606        378        736: 100%|██████████| 82/82 [00:12<00:00,  6.64it/s]\n"
     ]
    },
    {
     "name": "stdout",
     "output_type": "stream",
     "text": [
      "\n",
      "      Epoch    GPU_mem   box_loss   cls_loss   dfl_loss  Instances       Size\n"
     ]
    },
    {
     "name": "stderr",
     "output_type": "stream",
     "text": [
      "   765/1000      6.71G    0.09481     0.1018      0.761        594        736: 100%|██████████| 82/82 [00:12<00:00,  6.64it/s]\n"
     ]
    },
    {
     "name": "stdout",
     "output_type": "stream",
     "text": [
      "\n",
      "      Epoch    GPU_mem   box_loss   cls_loss   dfl_loss  Instances       Size\n"
     ]
    },
    {
     "name": "stderr",
     "output_type": "stream",
     "text": [
      "   766/1000      6.42G    0.09391     0.1026     0.7602        452        736: 100%|██████████| 82/82 [00:12<00:00,  6.66it/s]\n"
     ]
    },
    {
     "name": "stdout",
     "output_type": "stream",
     "text": [
      "\n",
      "      Epoch    GPU_mem   box_loss   cls_loss   dfl_loss  Instances       Size\n"
     ]
    },
    {
     "name": "stderr",
     "output_type": "stream",
     "text": [
      "   767/1000      6.97G     0.0947    0.09858     0.7609        446        736: 100%|██████████| 82/82 [00:12<00:00,  6.64it/s]\n"
     ]
    },
    {
     "name": "stdout",
     "output_type": "stream",
     "text": [
      "\n",
      "      Epoch    GPU_mem   box_loss   cls_loss   dfl_loss  Instances       Size\n"
     ]
    },
    {
     "name": "stderr",
     "output_type": "stream",
     "text": [
      "   768/1000      6.98G    0.09447    0.09813     0.7605        532        736: 100%|██████████| 82/82 [00:12<00:00,  6.64it/s]\n"
     ]
    },
    {
     "name": "stdout",
     "output_type": "stream",
     "text": [
      "\n",
      "      Epoch    GPU_mem   box_loss   cls_loss   dfl_loss  Instances       Size\n"
     ]
    },
    {
     "name": "stderr",
     "output_type": "stream",
     "text": [
      "   769/1000      6.98G    0.09412    0.09912     0.7611        627        736: 100%|██████████| 82/82 [00:12<00:00,  6.65it/s]\n"
     ]
    },
    {
     "name": "stdout",
     "output_type": "stream",
     "text": [
      "\n",
      "      Epoch    GPU_mem   box_loss   cls_loss   dfl_loss  Instances       Size\n"
     ]
    },
    {
     "name": "stderr",
     "output_type": "stream",
     "text": [
      "   770/1000      6.94G    0.09375    0.09947     0.7613        613        736: 100%|██████████| 82/82 [00:12<00:00,  6.64it/s]\n"
     ]
    },
    {
     "name": "stdout",
     "output_type": "stream",
     "text": [
      "\n",
      "      Epoch    GPU_mem   box_loss   cls_loss   dfl_loss  Instances       Size\n"
     ]
    },
    {
     "name": "stderr",
     "output_type": "stream",
     "text": [
      "   771/1000      6.62G    0.09356    0.09937     0.7614        432        736: 100%|██████████| 82/82 [00:12<00:00,  6.65it/s]\n"
     ]
    },
    {
     "name": "stdout",
     "output_type": "stream",
     "text": [
      "\n",
      "      Epoch    GPU_mem   box_loss   cls_loss   dfl_loss  Instances       Size\n"
     ]
    },
    {
     "name": "stderr",
     "output_type": "stream",
     "text": [
      "   772/1000      6.91G    0.09337    0.09819     0.7605        591        736: 100%|██████████| 82/82 [00:12<00:00,  6.62it/s]\n"
     ]
    },
    {
     "name": "stdout",
     "output_type": "stream",
     "text": [
      "\n",
      "      Epoch    GPU_mem   box_loss   cls_loss   dfl_loss  Instances       Size\n"
     ]
    },
    {
     "name": "stderr",
     "output_type": "stream",
     "text": [
      "   773/1000      5.97G    0.09365    0.09923     0.7616        494        736: 100%|██████████| 82/82 [00:12<00:00,  6.65it/s]\n"
     ]
    },
    {
     "name": "stdout",
     "output_type": "stream",
     "text": [
      "\n",
      "      Epoch    GPU_mem   box_loss   cls_loss   dfl_loss  Instances       Size\n"
     ]
    },
    {
     "name": "stderr",
     "output_type": "stream",
     "text": [
      "   774/1000      7.11G    0.09383    0.09821     0.7616        474        736: 100%|██████████| 82/82 [00:12<00:00,  6.63it/s]\n"
     ]
    },
    {
     "name": "stdout",
     "output_type": "stream",
     "text": [
      "\n",
      "      Epoch    GPU_mem   box_loss   cls_loss   dfl_loss  Instances       Size\n"
     ]
    },
    {
     "name": "stderr",
     "output_type": "stream",
     "text": [
      "   775/1000      7.33G      0.093    0.09923     0.7603        428        736: 100%|██████████| 82/82 [00:12<00:00,  6.64it/s]\n"
     ]
    },
    {
     "name": "stdout",
     "output_type": "stream",
     "text": [
      "\n",
      "      Epoch    GPU_mem   box_loss   cls_loss   dfl_loss  Instances       Size\n"
     ]
    },
    {
     "name": "stderr",
     "output_type": "stream",
     "text": [
      "   776/1000      6.99G     0.0917     0.1025       0.76        769        736: 100%|██████████| 82/82 [00:12<00:00,  6.63it/s]\n"
     ]
    },
    {
     "name": "stdout",
     "output_type": "stream",
     "text": [
      "\n",
      "      Epoch    GPU_mem   box_loss   cls_loss   dfl_loss  Instances       Size\n"
     ]
    },
    {
     "name": "stderr",
     "output_type": "stream",
     "text": [
      "   777/1000      6.63G    0.09141     0.1016     0.7599        575        736: 100%|██████████| 82/82 [00:12<00:00,  6.64it/s]\n"
     ]
    },
    {
     "name": "stdout",
     "output_type": "stream",
     "text": [
      "\n",
      "      Epoch    GPU_mem   box_loss   cls_loss   dfl_loss  Instances       Size\n"
     ]
    },
    {
     "name": "stderr",
     "output_type": "stream",
     "text": [
      "   778/1000      7.52G    0.09108     0.0996     0.7606        449        736: 100%|██████████| 82/82 [00:12<00:00,  6.63it/s]\n"
     ]
    },
    {
     "name": "stdout",
     "output_type": "stream",
     "text": [
      "\n",
      "      Epoch    GPU_mem   box_loss   cls_loss   dfl_loss  Instances       Size\n"
     ]
    },
    {
     "name": "stderr",
     "output_type": "stream",
     "text": [
      "   779/1000      6.84G    0.09205     0.0975     0.7604        573        736: 100%|██████████| 82/82 [00:12<00:00,  6.63it/s]\n"
     ]
    },
    {
     "name": "stdout",
     "output_type": "stream",
     "text": [
      "\n",
      "      Epoch    GPU_mem   box_loss   cls_loss   dfl_loss  Instances       Size\n"
     ]
    },
    {
     "name": "stderr",
     "output_type": "stream",
     "text": [
      "   780/1000      6.99G     0.0913    0.09693     0.7611        607        736: 100%|██████████| 82/82 [00:12<00:00,  6.64it/s]\n"
     ]
    },
    {
     "name": "stdout",
     "output_type": "stream",
     "text": [
      "\n",
      "      Epoch    GPU_mem   box_loss   cls_loss   dfl_loss  Instances       Size\n"
     ]
    },
    {
     "name": "stderr",
     "output_type": "stream",
     "text": [
      "   781/1000       7.1G    0.09107    0.09644     0.7602        747        736: 100%|██████████| 82/82 [00:12<00:00,  6.65it/s]\n"
     ]
    },
    {
     "name": "stdout",
     "output_type": "stream",
     "text": [
      "\n",
      "      Epoch    GPU_mem   box_loss   cls_loss   dfl_loss  Instances       Size\n"
     ]
    },
    {
     "name": "stderr",
     "output_type": "stream",
     "text": [
      "   782/1000      7.49G    0.09201    0.09648     0.7598        504        736: 100%|██████████| 82/82 [00:12<00:00,  6.63it/s]\n"
     ]
    },
    {
     "name": "stdout",
     "output_type": "stream",
     "text": [
      "\n",
      "      Epoch    GPU_mem   box_loss   cls_loss   dfl_loss  Instances       Size\n"
     ]
    },
    {
     "name": "stderr",
     "output_type": "stream",
     "text": [
      "   783/1000      6.65G    0.09196    0.09692      0.762        695        736: 100%|██████████| 82/82 [00:12<00:00,  6.64it/s]\n"
     ]
    },
    {
     "name": "stdout",
     "output_type": "stream",
     "text": [
      "\n",
      "      Epoch    GPU_mem   box_loss   cls_loss   dfl_loss  Instances       Size\n"
     ]
    },
    {
     "name": "stderr",
     "output_type": "stream",
     "text": [
      "   784/1000      6.45G    0.09255    0.09692     0.7591        613        736: 100%|██████████| 82/82 [00:12<00:00,  6.65it/s]\n"
     ]
    },
    {
     "name": "stdout",
     "output_type": "stream",
     "text": [
      "\n",
      "      Epoch    GPU_mem   box_loss   cls_loss   dfl_loss  Instances       Size\n"
     ]
    },
    {
     "name": "stderr",
     "output_type": "stream",
     "text": [
      "   785/1000      6.45G    0.09146    0.09802     0.7612        766        736: 100%|██████████| 82/82 [00:12<00:00,  6.66it/s]\n"
     ]
    },
    {
     "name": "stdout",
     "output_type": "stream",
     "text": [
      "\n",
      "      Epoch    GPU_mem   box_loss   cls_loss   dfl_loss  Instances       Size\n"
     ]
    },
    {
     "name": "stderr",
     "output_type": "stream",
     "text": [
      "   786/1000      6.53G    0.09096     0.0979     0.7612        687        736: 100%|██████████| 82/82 [00:12<00:00,  6.65it/s]\n"
     ]
    },
    {
     "name": "stdout",
     "output_type": "stream",
     "text": [
      "\n",
      "      Epoch    GPU_mem   box_loss   cls_loss   dfl_loss  Instances       Size\n"
     ]
    },
    {
     "name": "stderr",
     "output_type": "stream",
     "text": [
      "   787/1000      6.99G    0.09059    0.09955      0.761        431        736: 100%|██████████| 82/82 [00:12<00:00,  6.63it/s]\n"
     ]
    },
    {
     "name": "stdout",
     "output_type": "stream",
     "text": [
      "\n",
      "      Epoch    GPU_mem   box_loss   cls_loss   dfl_loss  Instances       Size\n"
     ]
    },
    {
     "name": "stderr",
     "output_type": "stream",
     "text": [
      "   788/1000      6.77G    0.09086    0.09805     0.7603        456        736: 100%|██████████| 82/82 [00:12<00:00,  6.63it/s]\n"
     ]
    },
    {
     "name": "stdout",
     "output_type": "stream",
     "text": [
      "\n",
      "      Epoch    GPU_mem   box_loss   cls_loss   dfl_loss  Instances       Size\n"
     ]
    },
    {
     "name": "stderr",
     "output_type": "stream",
     "text": [
      "   789/1000      6.32G    0.09056    0.09903      0.761        790        736: 100%|██████████| 82/82 [00:12<00:00,  6.65it/s]\n"
     ]
    },
    {
     "name": "stdout",
     "output_type": "stream",
     "text": [
      "\n",
      "      Epoch    GPU_mem   box_loss   cls_loss   dfl_loss  Instances       Size\n"
     ]
    },
    {
     "name": "stderr",
     "output_type": "stream",
     "text": [
      "   790/1000      6.98G    0.08942    0.09686     0.7602        604        736: 100%|██████████| 82/82 [00:12<00:00,  6.64it/s]\n"
     ]
    },
    {
     "name": "stdout",
     "output_type": "stream",
     "text": [
      "\n",
      "      Epoch    GPU_mem   box_loss   cls_loss   dfl_loss  Instances       Size\n"
     ]
    },
    {
     "name": "stderr",
     "output_type": "stream",
     "text": [
      "   791/1000      6.92G    0.08851    0.09593     0.7596        684        736: 100%|██████████| 82/82 [00:12<00:00,  6.65it/s]\n"
     ]
    },
    {
     "name": "stdout",
     "output_type": "stream",
     "text": [
      "\n",
      "      Epoch    GPU_mem   box_loss   cls_loss   dfl_loss  Instances       Size\n"
     ]
    },
    {
     "name": "stderr",
     "output_type": "stream",
     "text": [
      "   792/1000      6.77G    0.09087    0.09664     0.7615        499        736: 100%|██████████| 82/82 [00:12<00:00,  6.64it/s]\n"
     ]
    },
    {
     "name": "stdout",
     "output_type": "stream",
     "text": [
      "\n",
      "      Epoch    GPU_mem   box_loss   cls_loss   dfl_loss  Instances       Size\n"
     ]
    },
    {
     "name": "stderr",
     "output_type": "stream",
     "text": [
      "   793/1000      7.31G    0.08934    0.09633     0.7611        668        736: 100%|██████████| 82/82 [00:12<00:00,  6.64it/s]\n"
     ]
    },
    {
     "name": "stdout",
     "output_type": "stream",
     "text": [
      "\n",
      "      Epoch    GPU_mem   box_loss   cls_loss   dfl_loss  Instances       Size\n"
     ]
    },
    {
     "name": "stderr",
     "output_type": "stream",
     "text": [
      "   794/1000      6.68G    0.08941     0.0981     0.7601        620        736: 100%|██████████| 82/82 [00:12<00:00,  6.64it/s]\n"
     ]
    },
    {
     "name": "stdout",
     "output_type": "stream",
     "text": [
      "\n",
      "      Epoch    GPU_mem   box_loss   cls_loss   dfl_loss  Instances       Size\n"
     ]
    },
    {
     "name": "stderr",
     "output_type": "stream",
     "text": [
      "   795/1000      7.63G    0.08888    0.09586     0.7604        465        736: 100%|██████████| 82/82 [00:12<00:00,  6.63it/s]\n"
     ]
    },
    {
     "name": "stdout",
     "output_type": "stream",
     "text": [
      "\n",
      "      Epoch    GPU_mem   box_loss   cls_loss   dfl_loss  Instances       Size\n"
     ]
    },
    {
     "name": "stderr",
     "output_type": "stream",
     "text": [
      "   796/1000      6.79G    0.08866    0.09785     0.7606        597        736: 100%|██████████| 82/82 [00:12<00:00,  6.64it/s]\n"
     ]
    },
    {
     "name": "stdout",
     "output_type": "stream",
     "text": [
      "\n",
      "      Epoch    GPU_mem   box_loss   cls_loss   dfl_loss  Instances       Size\n"
     ]
    },
    {
     "name": "stderr",
     "output_type": "stream",
     "text": [
      "   797/1000      6.78G    0.08885    0.09833     0.7601        558        736: 100%|██████████| 82/82 [00:12<00:00,  6.65it/s]\n"
     ]
    },
    {
     "name": "stdout",
     "output_type": "stream",
     "text": [
      "\n",
      "      Epoch    GPU_mem   box_loss   cls_loss   dfl_loss  Instances       Size\n"
     ]
    },
    {
     "name": "stderr",
     "output_type": "stream",
     "text": [
      "   798/1000      6.96G    0.08832    0.09513     0.7599        566        736: 100%|██████████| 82/82 [00:12<00:00,  6.63it/s]\n"
     ]
    },
    {
     "name": "stdout",
     "output_type": "stream",
     "text": [
      "\n",
      "      Epoch    GPU_mem   box_loss   cls_loss   dfl_loss  Instances       Size\n"
     ]
    },
    {
     "name": "stderr",
     "output_type": "stream",
     "text": [
      "   799/1000      6.32G    0.08825    0.09513     0.7589        528        736: 100%|██████████| 82/82 [00:12<00:00,  6.64it/s]\n"
     ]
    },
    {
     "name": "stdout",
     "output_type": "stream",
     "text": [
      "\n",
      "      Epoch    GPU_mem   box_loss   cls_loss   dfl_loss  Instances       Size\n"
     ]
    },
    {
     "name": "stderr",
     "output_type": "stream",
     "text": [
      "   800/1000      7.23G    0.08885    0.09389     0.7601        487        736: 100%|██████████| 82/82 [00:12<00:00,  6.63it/s]\n"
     ]
    },
    {
     "name": "stdout",
     "output_type": "stream",
     "text": [
      "\n",
      "      Epoch    GPU_mem   box_loss   cls_loss   dfl_loss  Instances       Size\n"
     ]
    },
    {
     "name": "stderr",
     "output_type": "stream",
     "text": [
      "   801/1000      7.03G      0.089    0.09402     0.7606        664        736: 100%|██████████| 82/82 [00:12<00:00,  6.65it/s]\n"
     ]
    },
    {
     "name": "stdout",
     "output_type": "stream",
     "text": [
      "\n",
      "      Epoch    GPU_mem   box_loss   cls_loss   dfl_loss  Instances       Size\n"
     ]
    },
    {
     "name": "stderr",
     "output_type": "stream",
     "text": [
      "   802/1000      7.31G    0.08817    0.09514     0.7606        581        736: 100%|██████████| 82/82 [00:12<00:00,  6.64it/s]\n"
     ]
    },
    {
     "name": "stdout",
     "output_type": "stream",
     "text": [
      "\n",
      "      Epoch    GPU_mem   box_loss   cls_loss   dfl_loss  Instances       Size\n"
     ]
    },
    {
     "name": "stderr",
     "output_type": "stream",
     "text": [
      "   803/1000      6.64G    0.08715    0.09482     0.7605        582        736: 100%|██████████| 82/82 [00:12<00:00,  6.64it/s]\n"
     ]
    },
    {
     "name": "stdout",
     "output_type": "stream",
     "text": [
      "\n",
      "      Epoch    GPU_mem   box_loss   cls_loss   dfl_loss  Instances       Size\n"
     ]
    },
    {
     "name": "stderr",
     "output_type": "stream",
     "text": [
      "   804/1000      6.46G    0.08812    0.09495     0.7609        592        736: 100%|██████████| 82/82 [00:12<00:00,  6.64it/s]\n"
     ]
    },
    {
     "name": "stdout",
     "output_type": "stream",
     "text": [
      "\n",
      "      Epoch    GPU_mem   box_loss   cls_loss   dfl_loss  Instances       Size\n"
     ]
    },
    {
     "name": "stderr",
     "output_type": "stream",
     "text": [
      "   805/1000      7.32G     0.0881     0.0947     0.7606        314        736: 100%|██████████| 82/82 [00:12<00:00,  6.63it/s]\n"
     ]
    },
    {
     "name": "stdout",
     "output_type": "stream",
     "text": [
      "\n",
      "      Epoch    GPU_mem   box_loss   cls_loss   dfl_loss  Instances       Size\n"
     ]
    },
    {
     "name": "stderr",
     "output_type": "stream",
     "text": [
      "   806/1000      6.46G    0.08692    0.09565       0.76        650        736: 100%|██████████| 82/82 [00:12<00:00,  6.65it/s]\n"
     ]
    },
    {
     "name": "stdout",
     "output_type": "stream",
     "text": [
      "\n",
      "      Epoch    GPU_mem   box_loss   cls_loss   dfl_loss  Instances       Size\n"
     ]
    },
    {
     "name": "stderr",
     "output_type": "stream",
     "text": [
      "   807/1000      6.99G    0.08759     0.0945     0.7605        713        736: 100%|██████████| 82/82 [00:12<00:00,  6.64it/s]\n"
     ]
    },
    {
     "name": "stdout",
     "output_type": "stream",
     "text": [
      "\n",
      "      Epoch    GPU_mem   box_loss   cls_loss   dfl_loss  Instances       Size\n"
     ]
    },
    {
     "name": "stderr",
     "output_type": "stream",
     "text": [
      "   808/1000      7.24G    0.08665    0.09306     0.7605        663        736: 100%|██████████| 82/82 [00:12<00:00,  6.64it/s]\n"
     ]
    },
    {
     "name": "stdout",
     "output_type": "stream",
     "text": [
      "\n",
      "      Epoch    GPU_mem   box_loss   cls_loss   dfl_loss  Instances       Size\n"
     ]
    },
    {
     "name": "stderr",
     "output_type": "stream",
     "text": [
      "   809/1000      6.93G    0.08778     0.0938     0.7596        466        736: 100%|██████████| 82/82 [00:12<00:00,  6.63it/s]\n"
     ]
    },
    {
     "name": "stdout",
     "output_type": "stream",
     "text": [
      "\n",
      "      Epoch    GPU_mem   box_loss   cls_loss   dfl_loss  Instances       Size\n"
     ]
    },
    {
     "name": "stderr",
     "output_type": "stream",
     "text": [
      "   810/1000      7.11G    0.08666    0.09307     0.7611        676        736: 100%|██████████| 82/82 [00:12<00:00,  6.62it/s]\n"
     ]
    },
    {
     "name": "stdout",
     "output_type": "stream",
     "text": [
      "\n",
      "      Epoch    GPU_mem   box_loss   cls_loss   dfl_loss  Instances       Size\n"
     ]
    },
    {
     "name": "stderr",
     "output_type": "stream",
     "text": [
      "   811/1000      6.77G    0.08686    0.09331     0.7601        647        736: 100%|██████████| 82/82 [00:12<00:00,  6.64it/s]\n"
     ]
    },
    {
     "name": "stdout",
     "output_type": "stream",
     "text": [
      "\n",
      "      Epoch    GPU_mem   box_loss   cls_loss   dfl_loss  Instances       Size\n"
     ]
    },
    {
     "name": "stderr",
     "output_type": "stream",
     "text": [
      "   812/1000      6.62G    0.08623    0.09263     0.7593        518        736: 100%|██████████| 82/82 [00:12<00:00,  6.64it/s]\n"
     ]
    },
    {
     "name": "stdout",
     "output_type": "stream",
     "text": [
      "\n",
      "      Epoch    GPU_mem   box_loss   cls_loss   dfl_loss  Instances       Size\n"
     ]
    },
    {
     "name": "stderr",
     "output_type": "stream",
     "text": [
      "   813/1000      6.62G    0.08649    0.09255     0.7597        695        736: 100%|██████████| 82/82 [00:12<00:00,  6.64it/s]\n"
     ]
    },
    {
     "name": "stdout",
     "output_type": "stream",
     "text": [
      "\n",
      "      Epoch    GPU_mem   box_loss   cls_loss   dfl_loss  Instances       Size\n"
     ]
    },
    {
     "name": "stderr",
     "output_type": "stream",
     "text": [
      "   814/1000      6.59G    0.08574     0.0929     0.7597        546        736: 100%|██████████| 82/82 [00:12<00:00,  6.63it/s]\n"
     ]
    },
    {
     "name": "stdout",
     "output_type": "stream",
     "text": [
      "\n",
      "      Epoch    GPU_mem   box_loss   cls_loss   dfl_loss  Instances       Size\n"
     ]
    },
    {
     "name": "stderr",
     "output_type": "stream",
     "text": [
      "   815/1000      7.31G    0.08496    0.09355     0.7583        579        736: 100%|██████████| 82/82 [00:12<00:00,  6.64it/s]\n"
     ]
    },
    {
     "name": "stdout",
     "output_type": "stream",
     "text": [
      "\n",
      "      Epoch    GPU_mem   box_loss   cls_loss   dfl_loss  Instances       Size\n"
     ]
    },
    {
     "name": "stderr",
     "output_type": "stream",
     "text": [
      "   816/1000      7.56G    0.08586    0.09503     0.7577        495        736: 100%|██████████| 82/82 [00:12<00:00,  6.64it/s]\n"
     ]
    },
    {
     "name": "stdout",
     "output_type": "stream",
     "text": [
      "\n",
      "      Epoch    GPU_mem   box_loss   cls_loss   dfl_loss  Instances       Size\n"
     ]
    },
    {
     "name": "stderr",
     "output_type": "stream",
     "text": [
      "   817/1000      6.79G    0.08558    0.09519     0.7605        471        736: 100%|██████████| 82/82 [00:12<00:00,  6.63it/s]\n"
     ]
    },
    {
     "name": "stdout",
     "output_type": "stream",
     "text": [
      "\n",
      "      Epoch    GPU_mem   box_loss   cls_loss   dfl_loss  Instances       Size\n"
     ]
    },
    {
     "name": "stderr",
     "output_type": "stream",
     "text": [
      "   818/1000       6.9G    0.08452    0.09297     0.7594        618        736: 100%|██████████| 82/82 [00:12<00:00,  6.63it/s]\n"
     ]
    },
    {
     "name": "stdout",
     "output_type": "stream",
     "text": [
      "\n",
      "      Epoch    GPU_mem   box_loss   cls_loss   dfl_loss  Instances       Size\n"
     ]
    },
    {
     "name": "stderr",
     "output_type": "stream",
     "text": [
      "   819/1000      5.96G    0.08526    0.09207     0.7605        478        736: 100%|██████████| 82/82 [00:12<00:00,  6.65it/s]\n"
     ]
    },
    {
     "name": "stdout",
     "output_type": "stream",
     "text": [
      "\n",
      "      Epoch    GPU_mem   box_loss   cls_loss   dfl_loss  Instances       Size\n"
     ]
    },
    {
     "name": "stderr",
     "output_type": "stream",
     "text": [
      "   820/1000      6.65G    0.08521    0.09275       0.76        572        736: 100%|██████████| 82/82 [00:12<00:00,  6.64it/s]\n"
     ]
    },
    {
     "name": "stdout",
     "output_type": "stream",
     "text": [
      "\n",
      "      Epoch    GPU_mem   box_loss   cls_loss   dfl_loss  Instances       Size\n"
     ]
    },
    {
     "name": "stderr",
     "output_type": "stream",
     "text": [
      "   821/1000      7.57G    0.08574    0.09263     0.7595        680        736: 100%|██████████| 82/82 [00:12<00:00,  6.63it/s]\n"
     ]
    },
    {
     "name": "stdout",
     "output_type": "stream",
     "text": [
      "\n",
      "      Epoch    GPU_mem   box_loss   cls_loss   dfl_loss  Instances       Size\n"
     ]
    },
    {
     "name": "stderr",
     "output_type": "stream",
     "text": [
      "   822/1000      7.27G    0.08515     0.0934     0.7592        592        736: 100%|██████████| 82/82 [00:12<00:00,  6.64it/s]\n"
     ]
    },
    {
     "name": "stdout",
     "output_type": "stream",
     "text": [
      "\n",
      "      Epoch    GPU_mem   box_loss   cls_loss   dfl_loss  Instances       Size\n"
     ]
    },
    {
     "name": "stderr",
     "output_type": "stream",
     "text": [
      "   823/1000      6.78G    0.08444    0.09386     0.7605        518        736: 100%|██████████| 82/82 [00:12<00:00,  6.64it/s]\n"
     ]
    },
    {
     "name": "stdout",
     "output_type": "stream",
     "text": [
      "\n",
      "      Epoch    GPU_mem   box_loss   cls_loss   dfl_loss  Instances       Size\n"
     ]
    },
    {
     "name": "stderr",
     "output_type": "stream",
     "text": [
      "   824/1000      6.63G    0.08546    0.09522     0.7602        517        736: 100%|██████████| 82/82 [00:12<00:00,  6.65it/s]\n"
     ]
    },
    {
     "name": "stdout",
     "output_type": "stream",
     "text": [
      "\n",
      "      Epoch    GPU_mem   box_loss   cls_loss   dfl_loss  Instances       Size\n"
     ]
    },
    {
     "name": "stderr",
     "output_type": "stream",
     "text": [
      "   825/1000      7.64G    0.08494    0.09201     0.7595        421        736: 100%|██████████| 82/82 [00:12<00:00,  6.63it/s]\n"
     ]
    },
    {
     "name": "stdout",
     "output_type": "stream",
     "text": [
      "\n",
      "      Epoch    GPU_mem   box_loss   cls_loss   dfl_loss  Instances       Size\n"
     ]
    },
    {
     "name": "stderr",
     "output_type": "stream",
     "text": [
      "   826/1000      6.68G    0.08415    0.09142     0.7612        521        736: 100%|██████████| 82/82 [00:12<00:00,  6.65it/s]\n"
     ]
    },
    {
     "name": "stdout",
     "output_type": "stream",
     "text": [
      "\n",
      "      Epoch    GPU_mem   box_loss   cls_loss   dfl_loss  Instances       Size\n"
     ]
    },
    {
     "name": "stderr",
     "output_type": "stream",
     "text": [
      "   827/1000      6.91G    0.08354    0.09102     0.7607        524        736: 100%|██████████| 82/82 [00:12<00:00,  6.64it/s]\n"
     ]
    },
    {
     "name": "stdout",
     "output_type": "stream",
     "text": [
      "\n",
      "      Epoch    GPU_mem   box_loss   cls_loss   dfl_loss  Instances       Size\n"
     ]
    },
    {
     "name": "stderr",
     "output_type": "stream",
     "text": [
      "   828/1000      6.74G    0.08353    0.09135      0.759        692        736: 100%|██████████| 82/82 [00:12<00:00,  6.63it/s]\n"
     ]
    },
    {
     "name": "stdout",
     "output_type": "stream",
     "text": [
      "\n",
      "      Epoch    GPU_mem   box_loss   cls_loss   dfl_loss  Instances       Size\n"
     ]
    },
    {
     "name": "stderr",
     "output_type": "stream",
     "text": [
      "   829/1000      6.98G      0.084    0.09177     0.7598        460        736: 100%|██████████| 82/82 [00:12<00:00,  6.64it/s]\n"
     ]
    },
    {
     "name": "stdout",
     "output_type": "stream",
     "text": [
      "\n",
      "      Epoch    GPU_mem   box_loss   cls_loss   dfl_loss  Instances       Size\n"
     ]
    },
    {
     "name": "stderr",
     "output_type": "stream",
     "text": [
      "   830/1000      7.31G    0.08363    0.09224     0.7616        410        736: 100%|██████████| 82/82 [00:12<00:00,  6.65it/s]\n"
     ]
    },
    {
     "name": "stdout",
     "output_type": "stream",
     "text": [
      "\n",
      "      Epoch    GPU_mem   box_loss   cls_loss   dfl_loss  Instances       Size\n"
     ]
    },
    {
     "name": "stderr",
     "output_type": "stream",
     "text": [
      "   831/1000      6.47G    0.08264    0.09155     0.7593        538        736: 100%|██████████| 82/82 [00:12<00:00,  6.66it/s]\n"
     ]
    },
    {
     "name": "stdout",
     "output_type": "stream",
     "text": [
      "\n",
      "      Epoch    GPU_mem   box_loss   cls_loss   dfl_loss  Instances       Size\n"
     ]
    },
    {
     "name": "stderr",
     "output_type": "stream",
     "text": [
      "   832/1000      6.57G    0.08254    0.09214       0.76        515        736: 100%|██████████| 82/82 [00:12<00:00,  6.65it/s]\n"
     ]
    },
    {
     "name": "stdout",
     "output_type": "stream",
     "text": [
      "\n",
      "      Epoch    GPU_mem   box_loss   cls_loss   dfl_loss  Instances       Size\n"
     ]
    },
    {
     "name": "stderr",
     "output_type": "stream",
     "text": [
      "   833/1000      6.57G    0.08287    0.09389     0.7602        360        736: 100%|██████████| 82/82 [00:12<00:00,  6.64it/s]\n"
     ]
    },
    {
     "name": "stdout",
     "output_type": "stream",
     "text": [
      "\n",
      "      Epoch    GPU_mem   box_loss   cls_loss   dfl_loss  Instances       Size\n"
     ]
    },
    {
     "name": "stderr",
     "output_type": "stream",
     "text": [
      "   834/1000      6.41G     0.0824    0.09476     0.7597        658        736: 100%|██████████| 82/82 [00:12<00:00,  6.65it/s]\n"
     ]
    },
    {
     "name": "stdout",
     "output_type": "stream",
     "text": [
      "\n",
      "      Epoch    GPU_mem   box_loss   cls_loss   dfl_loss  Instances       Size\n"
     ]
    },
    {
     "name": "stderr",
     "output_type": "stream",
     "text": [
      "   835/1000      6.61G    0.08279    0.09313     0.7602        551        736: 100%|██████████| 82/82 [00:12<00:00,  6.63it/s]\n"
     ]
    },
    {
     "name": "stdout",
     "output_type": "stream",
     "text": [
      "\n",
      "      Epoch    GPU_mem   box_loss   cls_loss   dfl_loss  Instances       Size\n"
     ]
    },
    {
     "name": "stderr",
     "output_type": "stream",
     "text": [
      "   836/1000      6.95G    0.08231    0.09135     0.7595        504        736: 100%|██████████| 82/82 [00:12<00:00,  6.63it/s]\n"
     ]
    },
    {
     "name": "stdout",
     "output_type": "stream",
     "text": [
      "\n",
      "      Epoch    GPU_mem   box_loss   cls_loss   dfl_loss  Instances       Size\n"
     ]
    },
    {
     "name": "stderr",
     "output_type": "stream",
     "text": [
      "   837/1000      6.64G    0.08183    0.09103     0.7592        512        736: 100%|██████████| 82/82 [00:12<00:00,  6.66it/s]\n"
     ]
    },
    {
     "name": "stdout",
     "output_type": "stream",
     "text": [
      "\n",
      "      Epoch    GPU_mem   box_loss   cls_loss   dfl_loss  Instances       Size\n"
     ]
    },
    {
     "name": "stderr",
     "output_type": "stream",
     "text": [
      "   838/1000      6.94G    0.08151    0.09097     0.7595        607        736: 100%|██████████| 82/82 [00:12<00:00,  6.65it/s]\n"
     ]
    },
    {
     "name": "stdout",
     "output_type": "stream",
     "text": [
      "\n",
      "      Epoch    GPU_mem   box_loss   cls_loss   dfl_loss  Instances       Size\n"
     ]
    },
    {
     "name": "stderr",
     "output_type": "stream",
     "text": [
      "   839/1000       7.6G    0.08175    0.09359     0.7589        584        736: 100%|██████████| 82/82 [00:12<00:00,  6.63it/s]\n"
     ]
    },
    {
     "name": "stdout",
     "output_type": "stream",
     "text": [
      "\n",
      "      Epoch    GPU_mem   box_loss   cls_loss   dfl_loss  Instances       Size\n"
     ]
    },
    {
     "name": "stderr",
     "output_type": "stream",
     "text": [
      "   840/1000      6.65G     0.0813    0.09285     0.7596        562        736: 100%|██████████| 82/82 [00:12<00:00,  6.64it/s]\n"
     ]
    },
    {
     "name": "stdout",
     "output_type": "stream",
     "text": [
      "\n",
      "      Epoch    GPU_mem   box_loss   cls_loss   dfl_loss  Instances       Size\n"
     ]
    },
    {
     "name": "stderr",
     "output_type": "stream",
     "text": [
      "   841/1000      6.75G    0.08154    0.09112       0.76        699        736: 100%|██████████| 82/82 [00:12<00:00,  6.64it/s]\n"
     ]
    },
    {
     "name": "stdout",
     "output_type": "stream",
     "text": [
      "\n",
      "      Epoch    GPU_mem   box_loss   cls_loss   dfl_loss  Instances       Size\n"
     ]
    },
    {
     "name": "stderr",
     "output_type": "stream",
     "text": [
      "   842/1000      6.62G    0.08156    0.08916       0.76        547        736: 100%|██████████| 82/82 [00:12<00:00,  6.63it/s]\n"
     ]
    },
    {
     "name": "stdout",
     "output_type": "stream",
     "text": [
      "\n",
      "      Epoch    GPU_mem   box_loss   cls_loss   dfl_loss  Instances       Size\n"
     ]
    },
    {
     "name": "stderr",
     "output_type": "stream",
     "text": [
      "   843/1000      7.08G    0.08166    0.08941     0.7606        559        736: 100%|██████████| 82/82 [00:12<00:00,  6.64it/s]\n"
     ]
    },
    {
     "name": "stdout",
     "output_type": "stream",
     "text": [
      "\n",
      "      Epoch    GPU_mem   box_loss   cls_loss   dfl_loss  Instances       Size\n"
     ]
    },
    {
     "name": "stderr",
     "output_type": "stream",
     "text": [
      "   844/1000      6.46G    0.08155    0.09111     0.7607        559        736: 100%|██████████| 82/82 [00:12<00:00,  6.65it/s]\n"
     ]
    },
    {
     "name": "stdout",
     "output_type": "stream",
     "text": [
      "\n",
      "      Epoch    GPU_mem   box_loss   cls_loss   dfl_loss  Instances       Size\n"
     ]
    },
    {
     "name": "stderr",
     "output_type": "stream",
     "text": [
      "   845/1000      7.57G    0.08099    0.09141     0.7607        684        736: 100%|██████████| 82/82 [00:12<00:00,  6.64it/s]\n"
     ]
    },
    {
     "name": "stdout",
     "output_type": "stream",
     "text": [
      "\n",
      "      Epoch    GPU_mem   box_loss   cls_loss   dfl_loss  Instances       Size\n"
     ]
    },
    {
     "name": "stderr",
     "output_type": "stream",
     "text": [
      "   846/1000       7.1G    0.08108    0.09151     0.7604        564        736: 100%|██████████| 82/82 [00:12<00:00,  6.64it/s]\n"
     ]
    },
    {
     "name": "stdout",
     "output_type": "stream",
     "text": [
      "\n",
      "      Epoch    GPU_mem   box_loss   cls_loss   dfl_loss  Instances       Size\n"
     ]
    },
    {
     "name": "stderr",
     "output_type": "stream",
     "text": [
      "   847/1000      7.25G    0.08016    0.09195     0.7597        745        736: 100%|██████████| 82/82 [00:12<00:00,  6.64it/s]\n"
     ]
    },
    {
     "name": "stdout",
     "output_type": "stream",
     "text": [
      "\n",
      "      Epoch    GPU_mem   box_loss   cls_loss   dfl_loss  Instances       Size\n"
     ]
    },
    {
     "name": "stderr",
     "output_type": "stream",
     "text": [
      "   848/1000      7.24G    0.07994    0.09193     0.7609        421        736: 100%|██████████| 82/82 [00:12<00:00,  6.65it/s]\n"
     ]
    },
    {
     "name": "stdout",
     "output_type": "stream",
     "text": [
      "\n",
      "      Epoch    GPU_mem   box_loss   cls_loss   dfl_loss  Instances       Size\n"
     ]
    },
    {
     "name": "stderr",
     "output_type": "stream",
     "text": [
      "   849/1000       7.2G     0.0809    0.09006     0.7594        625        736: 100%|██████████| 82/82 [00:12<00:00,  6.63it/s]\n"
     ]
    },
    {
     "name": "stdout",
     "output_type": "stream",
     "text": [
      "\n",
      "      Epoch    GPU_mem   box_loss   cls_loss   dfl_loss  Instances       Size\n"
     ]
    },
    {
     "name": "stderr",
     "output_type": "stream",
     "text": [
      "   850/1000      7.09G    0.08049    0.08982     0.7591        363        736: 100%|██████████| 82/82 [00:12<00:00,  6.64it/s]\n"
     ]
    },
    {
     "name": "stdout",
     "output_type": "stream",
     "text": [
      "\n",
      "      Epoch    GPU_mem   box_loss   cls_loss   dfl_loss  Instances       Size\n"
     ]
    },
    {
     "name": "stderr",
     "output_type": "stream",
     "text": [
      "   851/1000      7.31G    0.08065    0.08947     0.7578        548        736: 100%|██████████| 82/82 [00:12<00:00,  6.64it/s]\n"
     ]
    },
    {
     "name": "stdout",
     "output_type": "stream",
     "text": [
      "\n",
      "      Epoch    GPU_mem   box_loss   cls_loss   dfl_loss  Instances       Size\n"
     ]
    },
    {
     "name": "stderr",
     "output_type": "stream",
     "text": [
      "   852/1000      6.67G    0.07963    0.08871     0.7593        691        736: 100%|██████████| 82/82 [00:12<00:00,  6.66it/s]\n"
     ]
    },
    {
     "name": "stdout",
     "output_type": "stream",
     "text": [
      "\n",
      "      Epoch    GPU_mem   box_loss   cls_loss   dfl_loss  Instances       Size\n"
     ]
    },
    {
     "name": "stderr",
     "output_type": "stream",
     "text": [
      "   853/1000      7.21G    0.07931     0.0897     0.7595        531        736: 100%|██████████| 82/82 [00:12<00:00,  6.63it/s]\n"
     ]
    },
    {
     "name": "stdout",
     "output_type": "stream",
     "text": [
      "\n",
      "      Epoch    GPU_mem   box_loss   cls_loss   dfl_loss  Instances       Size\n"
     ]
    },
    {
     "name": "stderr",
     "output_type": "stream",
     "text": [
      "   854/1000      6.63G    0.07934     0.0907     0.7591        514        736: 100%|██████████| 82/82 [00:12<00:00,  6.65it/s]\n"
     ]
    },
    {
     "name": "stdout",
     "output_type": "stream",
     "text": [
      "\n",
      "      Epoch    GPU_mem   box_loss   cls_loss   dfl_loss  Instances       Size\n"
     ]
    },
    {
     "name": "stderr",
     "output_type": "stream",
     "text": [
      "   855/1000      6.46G    0.07901    0.09122     0.7598        390        736: 100%|██████████| 82/82 [00:12<00:00,  6.64it/s]\n"
     ]
    },
    {
     "name": "stdout",
     "output_type": "stream",
     "text": [
      "\n",
      "      Epoch    GPU_mem   box_loss   cls_loss   dfl_loss  Instances       Size\n"
     ]
    },
    {
     "name": "stderr",
     "output_type": "stream",
     "text": [
      "   856/1000      6.92G    0.07878    0.08845     0.7598        349        736: 100%|██████████| 82/82 [00:12<00:00,  6.65it/s]\n"
     ]
    },
    {
     "name": "stdout",
     "output_type": "stream",
     "text": [
      "\n",
      "      Epoch    GPU_mem   box_loss   cls_loss   dfl_loss  Instances       Size\n"
     ]
    },
    {
     "name": "stderr",
     "output_type": "stream",
     "text": [
      "   857/1000      7.31G     0.0781     0.0903     0.7601        588        736: 100%|██████████| 82/82 [00:12<00:00,  6.65it/s]\n"
     ]
    },
    {
     "name": "stdout",
     "output_type": "stream",
     "text": [
      "\n",
      "      Epoch    GPU_mem   box_loss   cls_loss   dfl_loss  Instances       Size\n"
     ]
    },
    {
     "name": "stderr",
     "output_type": "stream",
     "text": [
      "   858/1000      6.46G    0.07876    0.09187     0.7609        564        736: 100%|██████████| 82/82 [00:12<00:00,  6.65it/s]\n"
     ]
    },
    {
     "name": "stdout",
     "output_type": "stream",
     "text": [
      "\n",
      "      Epoch    GPU_mem   box_loss   cls_loss   dfl_loss  Instances       Size\n"
     ]
    },
    {
     "name": "stderr",
     "output_type": "stream",
     "text": [
      "   859/1000      5.98G    0.07838    0.09008     0.7602        453        736: 100%|██████████| 82/82 [00:12<00:00,  6.64it/s]\n"
     ]
    },
    {
     "name": "stdout",
     "output_type": "stream",
     "text": [
      "\n",
      "      Epoch    GPU_mem   box_loss   cls_loss   dfl_loss  Instances       Size\n"
     ]
    },
    {
     "name": "stderr",
     "output_type": "stream",
     "text": [
      "   860/1000      7.08G    0.07787    0.09032     0.7591        559        736: 100%|██████████| 82/82 [00:12<00:00,  6.64it/s]\n"
     ]
    },
    {
     "name": "stdout",
     "output_type": "stream",
     "text": [
      "\n",
      "      Epoch    GPU_mem   box_loss   cls_loss   dfl_loss  Instances       Size\n"
     ]
    },
    {
     "name": "stderr",
     "output_type": "stream",
     "text": [
      "   861/1000      6.46G    0.07852     0.0882     0.7596        565        736: 100%|██████████| 82/82 [00:12<00:00,  6.65it/s]\n"
     ]
    },
    {
     "name": "stdout",
     "output_type": "stream",
     "text": [
      "\n",
      "      Epoch    GPU_mem   box_loss   cls_loss   dfl_loss  Instances       Size\n"
     ]
    },
    {
     "name": "stderr",
     "output_type": "stream",
     "text": [
      "   862/1000       7.2G    0.07808    0.08917     0.7601        523        736: 100%|██████████| 82/82 [00:12<00:00,  6.64it/s]\n"
     ]
    },
    {
     "name": "stdout",
     "output_type": "stream",
     "text": [
      "\n",
      "      Epoch    GPU_mem   box_loss   cls_loss   dfl_loss  Instances       Size\n"
     ]
    },
    {
     "name": "stderr",
     "output_type": "stream",
     "text": [
      "   863/1000      7.16G    0.07824    0.08964     0.7593        528        736: 100%|██████████| 82/82 [00:12<00:00,  6.63it/s]\n"
     ]
    },
    {
     "name": "stdout",
     "output_type": "stream",
     "text": [
      "\n",
      "      Epoch    GPU_mem   box_loss   cls_loss   dfl_loss  Instances       Size\n"
     ]
    },
    {
     "name": "stderr",
     "output_type": "stream",
     "text": [
      "   864/1000      6.62G    0.07801    0.08861     0.7593        428        736: 100%|██████████| 82/82 [00:12<00:00,  6.64it/s]\n"
     ]
    },
    {
     "name": "stdout",
     "output_type": "stream",
     "text": [
      "\n",
      "      Epoch    GPU_mem   box_loss   cls_loss   dfl_loss  Instances       Size\n"
     ]
    },
    {
     "name": "stderr",
     "output_type": "stream",
     "text": [
      "   865/1000      7.31G    0.07869    0.08824     0.7588        675        736: 100%|██████████| 82/82 [00:12<00:00,  6.63it/s]\n"
     ]
    },
    {
     "name": "stdout",
     "output_type": "stream",
     "text": [
      "\n",
      "      Epoch    GPU_mem   box_loss   cls_loss   dfl_loss  Instances       Size\n"
     ]
    },
    {
     "name": "stderr",
     "output_type": "stream",
     "text": [
      "   866/1000      6.73G    0.07857    0.08759     0.7605        579        736: 100%|██████████| 82/82 [00:12<00:00,  6.64it/s]\n"
     ]
    },
    {
     "name": "stdout",
     "output_type": "stream",
     "text": [
      "\n",
      "      Epoch    GPU_mem   box_loss   cls_loss   dfl_loss  Instances       Size\n"
     ]
    },
    {
     "name": "stderr",
     "output_type": "stream",
     "text": [
      "   867/1000      5.96G    0.07787    0.08646     0.7601        659        736: 100%|██████████| 82/82 [00:12<00:00,  6.64it/s]\n"
     ]
    },
    {
     "name": "stdout",
     "output_type": "stream",
     "text": [
      "\n",
      "      Epoch    GPU_mem   box_loss   cls_loss   dfl_loss  Instances       Size\n"
     ]
    },
    {
     "name": "stderr",
     "output_type": "stream",
     "text": [
      "   868/1000      7.93G    0.07722    0.08755     0.7586        322        736: 100%|██████████| 82/82 [00:12<00:00,  6.63it/s]\n"
     ]
    },
    {
     "name": "stdout",
     "output_type": "stream",
     "text": [
      "\n",
      "      Epoch    GPU_mem   box_loss   cls_loss   dfl_loss  Instances       Size\n"
     ]
    },
    {
     "name": "stderr",
     "output_type": "stream",
     "text": [
      "   869/1000      6.67G    0.07627    0.08697      0.759        604        736: 100%|██████████| 82/82 [00:12<00:00,  6.65it/s]\n"
     ]
    },
    {
     "name": "stdout",
     "output_type": "stream",
     "text": [
      "\n",
      "      Epoch    GPU_mem   box_loss   cls_loss   dfl_loss  Instances       Size\n"
     ]
    },
    {
     "name": "stderr",
     "output_type": "stream",
     "text": [
      "   870/1000      6.75G    0.07674    0.08701      0.758        467        736: 100%|██████████| 82/82 [00:12<00:00,  6.63it/s]\n"
     ]
    },
    {
     "name": "stdout",
     "output_type": "stream",
     "text": [
      "\n",
      "      Epoch    GPU_mem   box_loss   cls_loss   dfl_loss  Instances       Size\n"
     ]
    },
    {
     "name": "stderr",
     "output_type": "stream",
     "text": [
      "   871/1000      6.45G    0.07647    0.08714     0.7592        570        736: 100%|██████████| 82/82 [00:12<00:00,  6.65it/s]\n"
     ]
    },
    {
     "name": "stdout",
     "output_type": "stream",
     "text": [
      "\n",
      "      Epoch    GPU_mem   box_loss   cls_loss   dfl_loss  Instances       Size\n"
     ]
    },
    {
     "name": "stderr",
     "output_type": "stream",
     "text": [
      "   872/1000      6.46G    0.07691    0.08715     0.7591        516        736: 100%|██████████| 82/82 [00:12<00:00,  6.65it/s]\n"
     ]
    },
    {
     "name": "stdout",
     "output_type": "stream",
     "text": [
      "\n",
      "      Epoch    GPU_mem   box_loss   cls_loss   dfl_loss  Instances       Size\n"
     ]
    },
    {
     "name": "stderr",
     "output_type": "stream",
     "text": [
      "   873/1000      6.64G    0.07655     0.0851     0.7605        567        736: 100%|██████████| 82/82 [00:12<00:00,  6.63it/s]\n"
     ]
    },
    {
     "name": "stdout",
     "output_type": "stream",
     "text": [
      "\n",
      "      Epoch    GPU_mem   box_loss   cls_loss   dfl_loss  Instances       Size\n"
     ]
    },
    {
     "name": "stderr",
     "output_type": "stream",
     "text": [
      "   874/1000      5.97G    0.07608    0.08786     0.7594        757        736: 100%|██████████| 82/82 [00:12<00:00,  6.66it/s]\n"
     ]
    },
    {
     "name": "stdout",
     "output_type": "stream",
     "text": [
      "\n",
      "      Epoch    GPU_mem   box_loss   cls_loss   dfl_loss  Instances       Size\n"
     ]
    },
    {
     "name": "stderr",
     "output_type": "stream",
     "text": [
      "   875/1000      6.97G    0.07585    0.09032     0.7595        598        736: 100%|██████████| 82/82 [00:12<00:00,  6.64it/s]\n"
     ]
    },
    {
     "name": "stdout",
     "output_type": "stream",
     "text": [
      "\n",
      "      Epoch    GPU_mem   box_loss   cls_loss   dfl_loss  Instances       Size\n"
     ]
    },
    {
     "name": "stderr",
     "output_type": "stream",
     "text": [
      "   876/1000      5.97G     0.0762    0.08984     0.7585        358        736: 100%|██████████| 82/82 [00:12<00:00,  6.65it/s]\n"
     ]
    },
    {
     "name": "stdout",
     "output_type": "stream",
     "text": [
      "\n",
      "      Epoch    GPU_mem   box_loss   cls_loss   dfl_loss  Instances       Size\n"
     ]
    },
    {
     "name": "stderr",
     "output_type": "stream",
     "text": [
      "   877/1000      6.65G     0.0755    0.08685     0.7584        542        736: 100%|██████████| 82/82 [00:12<00:00,  6.65it/s]\n"
     ]
    },
    {
     "name": "stdout",
     "output_type": "stream",
     "text": [
      "\n",
      "      Epoch    GPU_mem   box_loss   cls_loss   dfl_loss  Instances       Size\n"
     ]
    },
    {
     "name": "stderr",
     "output_type": "stream",
     "text": [
      "   878/1000      7.09G    0.07599    0.08698     0.7592        610        736: 100%|██████████| 82/82 [00:12<00:00,  6.64it/s]\n"
     ]
    },
    {
     "name": "stdout",
     "output_type": "stream",
     "text": [
      "\n",
      "      Epoch    GPU_mem   box_loss   cls_loss   dfl_loss  Instances       Size\n"
     ]
    },
    {
     "name": "stderr",
     "output_type": "stream",
     "text": [
      "   879/1000      6.61G    0.07541    0.08658     0.7583        640        736: 100%|██████████| 82/82 [00:12<00:00,  6.64it/s]\n"
     ]
    },
    {
     "name": "stdout",
     "output_type": "stream",
     "text": [
      "\n",
      "      Epoch    GPU_mem   box_loss   cls_loss   dfl_loss  Instances       Size\n"
     ]
    },
    {
     "name": "stderr",
     "output_type": "stream",
     "text": [
      "   880/1000      6.79G    0.07528    0.08612     0.7572        589        736: 100%|██████████| 82/82 [00:12<00:00,  6.63it/s]\n"
     ]
    },
    {
     "name": "stdout",
     "output_type": "stream",
     "text": [
      "\n",
      "      Epoch    GPU_mem   box_loss   cls_loss   dfl_loss  Instances       Size\n"
     ]
    },
    {
     "name": "stderr",
     "output_type": "stream",
     "text": [
      "   881/1000      6.92G    0.07562    0.08666     0.7592        464        736: 100%|██████████| 82/82 [00:12<00:00,  6.64it/s]\n"
     ]
    },
    {
     "name": "stdout",
     "output_type": "stream",
     "text": [
      "\n",
      "      Epoch    GPU_mem   box_loss   cls_loss   dfl_loss  Instances       Size\n"
     ]
    },
    {
     "name": "stderr",
     "output_type": "stream",
     "text": [
      "   882/1000      7.01G    0.07525    0.08616     0.7597        705        736: 100%|██████████| 82/82 [00:12<00:00,  6.64it/s]\n"
     ]
    },
    {
     "name": "stdout",
     "output_type": "stream",
     "text": [
      "\n",
      "      Epoch    GPU_mem   box_loss   cls_loss   dfl_loss  Instances       Size\n"
     ]
    },
    {
     "name": "stderr",
     "output_type": "stream",
     "text": [
      "   883/1000      6.64G    0.07444    0.08511     0.7587        617        736: 100%|██████████| 82/82 [00:12<00:00,  6.65it/s]\n"
     ]
    },
    {
     "name": "stdout",
     "output_type": "stream",
     "text": [
      "\n",
      "      Epoch    GPU_mem   box_loss   cls_loss   dfl_loss  Instances       Size\n"
     ]
    },
    {
     "name": "stderr",
     "output_type": "stream",
     "text": [
      "   884/1000      7.03G    0.07452    0.08636     0.7599        583        736: 100%|██████████| 82/82 [00:12<00:00,  6.63it/s]\n"
     ]
    },
    {
     "name": "stdout",
     "output_type": "stream",
     "text": [
      "\n",
      "      Epoch    GPU_mem   box_loss   cls_loss   dfl_loss  Instances       Size\n"
     ]
    },
    {
     "name": "stderr",
     "output_type": "stream",
     "text": [
      "   885/1000      7.33G    0.07434    0.08651      0.759        582        736: 100%|██████████| 82/82 [00:12<00:00,  6.63it/s]\n"
     ]
    },
    {
     "name": "stdout",
     "output_type": "stream",
     "text": [
      "\n",
      "      Epoch    GPU_mem   box_loss   cls_loss   dfl_loss  Instances       Size\n"
     ]
    },
    {
     "name": "stderr",
     "output_type": "stream",
     "text": [
      "   886/1000      6.84G    0.07452    0.08826     0.7592        698        736: 100%|██████████| 82/82 [00:12<00:00,  6.63it/s]\n"
     ]
    },
    {
     "name": "stdout",
     "output_type": "stream",
     "text": [
      "\n",
      "      Epoch    GPU_mem   box_loss   cls_loss   dfl_loss  Instances       Size\n"
     ]
    },
    {
     "name": "stderr",
     "output_type": "stream",
     "text": [
      "   887/1000      7.27G    0.07388    0.08618     0.7577        728        736: 100%|██████████| 82/82 [00:12<00:00,  6.64it/s]\n"
     ]
    },
    {
     "name": "stdout",
     "output_type": "stream",
     "text": [
      "\n",
      "      Epoch    GPU_mem   box_loss   cls_loss   dfl_loss  Instances       Size\n"
     ]
    },
    {
     "name": "stderr",
     "output_type": "stream",
     "text": [
      "   888/1000      6.33G    0.07406    0.08519     0.7606        491        736: 100%|██████████| 82/82 [00:12<00:00,  6.65it/s]\n"
     ]
    },
    {
     "name": "stdout",
     "output_type": "stream",
     "text": [
      "\n",
      "      Epoch    GPU_mem   box_loss   cls_loss   dfl_loss  Instances       Size\n"
     ]
    },
    {
     "name": "stderr",
     "output_type": "stream",
     "text": [
      "   889/1000      7.24G    0.07351    0.08547     0.7601        444        736: 100%|██████████| 82/82 [00:12<00:00,  6.64it/s]\n"
     ]
    },
    {
     "name": "stdout",
     "output_type": "stream",
     "text": [
      "\n",
      "      Epoch    GPU_mem   box_loss   cls_loss   dfl_loss  Instances       Size\n"
     ]
    },
    {
     "name": "stderr",
     "output_type": "stream",
     "text": [
      "   890/1000      7.21G    0.07375    0.08616     0.7589        570        736: 100%|██████████| 82/82 [00:12<00:00,  6.65it/s]\n"
     ]
    },
    {
     "name": "stdout",
     "output_type": "stream",
     "text": [
      "\n",
      "      Epoch    GPU_mem   box_loss   cls_loss   dfl_loss  Instances       Size\n"
     ]
    },
    {
     "name": "stderr",
     "output_type": "stream",
     "text": [
      "   891/1000      6.91G    0.07346    0.08559     0.7597        636        736: 100%|██████████| 82/82 [00:12<00:00,  6.64it/s]\n"
     ]
    },
    {
     "name": "stdout",
     "output_type": "stream",
     "text": [
      "\n",
      "      Epoch    GPU_mem   box_loss   cls_loss   dfl_loss  Instances       Size\n"
     ]
    },
    {
     "name": "stderr",
     "output_type": "stream",
     "text": [
      "   892/1000      6.77G    0.07348    0.08553     0.7581        636        736: 100%|██████████| 82/82 [00:12<00:00,  6.64it/s]\n"
     ]
    },
    {
     "name": "stdout",
     "output_type": "stream",
     "text": [
      "\n",
      "      Epoch    GPU_mem   box_loss   cls_loss   dfl_loss  Instances       Size\n"
     ]
    },
    {
     "name": "stderr",
     "output_type": "stream",
     "text": [
      "   893/1000      7.38G    0.07368    0.08501     0.7595        595        736: 100%|██████████| 82/82 [00:12<00:00,  6.63it/s]\n"
     ]
    },
    {
     "name": "stdout",
     "output_type": "stream",
     "text": [
      "\n",
      "      Epoch    GPU_mem   box_loss   cls_loss   dfl_loss  Instances       Size\n"
     ]
    },
    {
     "name": "stderr",
     "output_type": "stream",
     "text": [
      "   894/1000      6.47G    0.07309    0.08588     0.7586        530        736: 100%|██████████| 82/82 [00:12<00:00,  6.65it/s]\n"
     ]
    },
    {
     "name": "stdout",
     "output_type": "stream",
     "text": [
      "\n",
      "      Epoch    GPU_mem   box_loss   cls_loss   dfl_loss  Instances       Size\n"
     ]
    },
    {
     "name": "stderr",
     "output_type": "stream",
     "text": [
      "   895/1000       6.7G    0.07349    0.08528     0.7578        455        736: 100%|██████████| 82/82 [00:12<00:00,  6.64it/s]\n"
     ]
    },
    {
     "name": "stdout",
     "output_type": "stream",
     "text": [
      "\n",
      "      Epoch    GPU_mem   box_loss   cls_loss   dfl_loss  Instances       Size\n"
     ]
    },
    {
     "name": "stderr",
     "output_type": "stream",
     "text": [
      "   896/1000      7.07G    0.07342    0.08441      0.759        450        736: 100%|██████████| 82/82 [00:12<00:00,  6.65it/s]\n"
     ]
    },
    {
     "name": "stdout",
     "output_type": "stream",
     "text": [
      "\n",
      "      Epoch    GPU_mem   box_loss   cls_loss   dfl_loss  Instances       Size\n"
     ]
    },
    {
     "name": "stderr",
     "output_type": "stream",
     "text": [
      "   897/1000      6.99G    0.07286    0.08388     0.7588        533        736: 100%|██████████| 82/82 [00:12<00:00,  6.66it/s]\n"
     ]
    },
    {
     "name": "stdout",
     "output_type": "stream",
     "text": [
      "\n",
      "      Epoch    GPU_mem   box_loss   cls_loss   dfl_loss  Instances       Size\n"
     ]
    },
    {
     "name": "stderr",
     "output_type": "stream",
     "text": [
      "   898/1000      6.43G    0.07318    0.08462     0.7597        477        736: 100%|██████████| 82/82 [00:12<00:00,  6.65it/s]\n"
     ]
    },
    {
     "name": "stdout",
     "output_type": "stream",
     "text": [
      "\n",
      "      Epoch    GPU_mem   box_loss   cls_loss   dfl_loss  Instances       Size\n"
     ]
    },
    {
     "name": "stderr",
     "output_type": "stream",
     "text": [
      "   899/1000       7.1G    0.07243    0.08416     0.7589        566        736: 100%|██████████| 82/82 [00:12<00:00,  6.64it/s]\n"
     ]
    },
    {
     "name": "stdout",
     "output_type": "stream",
     "text": [
      "\n",
      "      Epoch    GPU_mem   box_loss   cls_loss   dfl_loss  Instances       Size\n"
     ]
    },
    {
     "name": "stderr",
     "output_type": "stream",
     "text": [
      "   900/1000      7.27G    0.07258    0.08393     0.7595        610        736: 100%|██████████| 82/82 [00:12<00:00,  6.63it/s]\n"
     ]
    },
    {
     "name": "stdout",
     "output_type": "stream",
     "text": [
      "\n",
      "      Epoch    GPU_mem   box_loss   cls_loss   dfl_loss  Instances       Size\n"
     ]
    },
    {
     "name": "stderr",
     "output_type": "stream",
     "text": [
      "   901/1000       6.9G     0.0721    0.08401      0.761        667        736: 100%|██████████| 82/82 [00:12<00:00,  6.65it/s]\n"
     ]
    },
    {
     "name": "stdout",
     "output_type": "stream",
     "text": [
      "\n",
      "      Epoch    GPU_mem   box_loss   cls_loss   dfl_loss  Instances       Size\n"
     ]
    },
    {
     "name": "stderr",
     "output_type": "stream",
     "text": [
      "   902/1000      7.22G    0.07165    0.08533     0.7603        700        736: 100%|██████████| 82/82 [00:12<00:00,  6.61it/s]\n"
     ]
    },
    {
     "name": "stdout",
     "output_type": "stream",
     "text": [
      "\n",
      "      Epoch    GPU_mem   box_loss   cls_loss   dfl_loss  Instances       Size\n"
     ]
    },
    {
     "name": "stderr",
     "output_type": "stream",
     "text": [
      "   903/1000      7.47G    0.07188    0.08575     0.7578        555        736: 100%|██████████| 82/82 [00:12<00:00,  6.64it/s]\n"
     ]
    },
    {
     "name": "stdout",
     "output_type": "stream",
     "text": [
      "\n",
      "      Epoch    GPU_mem   box_loss   cls_loss   dfl_loss  Instances       Size\n"
     ]
    },
    {
     "name": "stderr",
     "output_type": "stream",
     "text": [
      "   904/1000      6.64G    0.07136     0.0838     0.7598        671        736: 100%|██████████| 82/82 [00:12<00:00,  6.64it/s]\n"
     ]
    },
    {
     "name": "stdout",
     "output_type": "stream",
     "text": [
      "\n",
      "      Epoch    GPU_mem   box_loss   cls_loss   dfl_loss  Instances       Size\n"
     ]
    },
    {
     "name": "stderr",
     "output_type": "stream",
     "text": [
      "   905/1000      6.95G    0.07134    0.08467     0.7581        680        736: 100%|██████████| 82/82 [00:12<00:00,  6.63it/s]\n"
     ]
    },
    {
     "name": "stdout",
     "output_type": "stream",
     "text": [
      "\n",
      "      Epoch    GPU_mem   box_loss   cls_loss   dfl_loss  Instances       Size\n"
     ]
    },
    {
     "name": "stderr",
     "output_type": "stream",
     "text": [
      "   906/1000      7.42G    0.07162    0.08414     0.7586        748        736: 100%|██████████| 82/82 [00:12<00:00,  6.63it/s]\n"
     ]
    },
    {
     "name": "stdout",
     "output_type": "stream",
     "text": [
      "\n",
      "      Epoch    GPU_mem   box_loss   cls_loss   dfl_loss  Instances       Size\n"
     ]
    },
    {
     "name": "stderr",
     "output_type": "stream",
     "text": [
      "   907/1000      6.98G     0.0715    0.08348     0.7588        519        736: 100%|██████████| 82/82 [00:12<00:00,  6.63it/s]\n"
     ]
    },
    {
     "name": "stdout",
     "output_type": "stream",
     "text": [
      "\n",
      "      Epoch    GPU_mem   box_loss   cls_loss   dfl_loss  Instances       Size\n"
     ]
    },
    {
     "name": "stderr",
     "output_type": "stream",
     "text": [
      "   908/1000      7.09G    0.07172    0.08354     0.7598        840        736: 100%|██████████| 82/82 [00:12<00:00,  6.64it/s]\n"
     ]
    },
    {
     "name": "stdout",
     "output_type": "stream",
     "text": [
      "\n",
      "      Epoch    GPU_mem   box_loss   cls_loss   dfl_loss  Instances       Size\n"
     ]
    },
    {
     "name": "stderr",
     "output_type": "stream",
     "text": [
      "   909/1000      7.31G    0.07104    0.08293     0.7585        652        736: 100%|██████████| 82/82 [00:12<00:00,  6.63it/s]\n"
     ]
    },
    {
     "name": "stdout",
     "output_type": "stream",
     "text": [
      "\n",
      "      Epoch    GPU_mem   box_loss   cls_loss   dfl_loss  Instances       Size\n"
     ]
    },
    {
     "name": "stderr",
     "output_type": "stream",
     "text": [
      "   910/1000         7G    0.07122    0.08307     0.7593        685        736: 100%|██████████| 82/82 [00:12<00:00,  6.63it/s]\n"
     ]
    },
    {
     "name": "stdout",
     "output_type": "stream",
     "text": [
      "\n",
      "      Epoch    GPU_mem   box_loss   cls_loss   dfl_loss  Instances       Size\n"
     ]
    },
    {
     "name": "stderr",
     "output_type": "stream",
     "text": [
      "   911/1000      6.96G    0.07092    0.08277     0.7578        508        736: 100%|██████████| 82/82 [00:12<00:00,  6.65it/s]\n"
     ]
    },
    {
     "name": "stdout",
     "output_type": "stream",
     "text": [
      "\n",
      "      Epoch    GPU_mem   box_loss   cls_loss   dfl_loss  Instances       Size\n"
     ]
    },
    {
     "name": "stderr",
     "output_type": "stream",
     "text": [
      "   912/1000       7.5G    0.07111    0.08299     0.7594        453        736: 100%|██████████| 82/82 [00:12<00:00,  6.63it/s]\n"
     ]
    },
    {
     "name": "stdout",
     "output_type": "stream",
     "text": [
      "\n",
      "      Epoch    GPU_mem   box_loss   cls_loss   dfl_loss  Instances       Size\n"
     ]
    },
    {
     "name": "stderr",
     "output_type": "stream",
     "text": [
      "   913/1000      7.05G    0.07043    0.08306     0.7583        684        736: 100%|██████████| 82/82 [00:12<00:00,  6.64it/s]\n"
     ]
    },
    {
     "name": "stdout",
     "output_type": "stream",
     "text": [
      "\n",
      "      Epoch    GPU_mem   box_loss   cls_loss   dfl_loss  Instances       Size\n"
     ]
    },
    {
     "name": "stderr",
     "output_type": "stream",
     "text": [
      "   914/1000      6.96G    0.07052    0.08373     0.7587        660        736: 100%|██████████| 82/82 [00:12<00:00,  6.63it/s]\n"
     ]
    },
    {
     "name": "stdout",
     "output_type": "stream",
     "text": [
      "\n",
      "      Epoch    GPU_mem   box_loss   cls_loss   dfl_loss  Instances       Size\n"
     ]
    },
    {
     "name": "stderr",
     "output_type": "stream",
     "text": [
      "   915/1000      6.62G    0.06986    0.08236     0.7593        548        736: 100%|██████████| 82/82 [00:12<00:00,  6.64it/s]\n"
     ]
    },
    {
     "name": "stdout",
     "output_type": "stream",
     "text": [
      "\n",
      "      Epoch    GPU_mem   box_loss   cls_loss   dfl_loss  Instances       Size\n"
     ]
    },
    {
     "name": "stderr",
     "output_type": "stream",
     "text": [
      "   916/1000      6.98G    0.07002    0.08309       0.76        518        736: 100%|██████████| 82/82 [00:12<00:00,  6.64it/s]\n"
     ]
    },
    {
     "name": "stdout",
     "output_type": "stream",
     "text": [
      "\n",
      "      Epoch    GPU_mem   box_loss   cls_loss   dfl_loss  Instances       Size\n"
     ]
    },
    {
     "name": "stderr",
     "output_type": "stream",
     "text": [
      "   917/1000      7.09G    0.06984    0.08265     0.7581        382        736: 100%|██████████| 82/82 [00:12<00:00,  6.65it/s]\n"
     ]
    },
    {
     "name": "stdout",
     "output_type": "stream",
     "text": [
      "\n",
      "      Epoch    GPU_mem   box_loss   cls_loss   dfl_loss  Instances       Size\n"
     ]
    },
    {
     "name": "stderr",
     "output_type": "stream",
     "text": [
      "   918/1000      6.65G    0.06968    0.08223     0.7597        591        736: 100%|██████████| 82/82 [00:12<00:00,  6.64it/s]\n"
     ]
    },
    {
     "name": "stdout",
     "output_type": "stream",
     "text": [
      "\n",
      "      Epoch    GPU_mem   box_loss   cls_loss   dfl_loss  Instances       Size\n"
     ]
    },
    {
     "name": "stderr",
     "output_type": "stream",
     "text": [
      "   919/1000       6.3G    0.07005    0.08218     0.7591        603        736: 100%|██████████| 82/82 [00:12<00:00,  6.65it/s]\n"
     ]
    },
    {
     "name": "stdout",
     "output_type": "stream",
     "text": [
      "\n",
      "      Epoch    GPU_mem   box_loss   cls_loss   dfl_loss  Instances       Size\n"
     ]
    },
    {
     "name": "stderr",
     "output_type": "stream",
     "text": [
      "   920/1000      7.28G    0.06943    0.08176     0.7592        620        736: 100%|██████████| 82/82 [00:12<00:00,  6.64it/s]\n"
     ]
    },
    {
     "name": "stdout",
     "output_type": "stream",
     "text": [
      "\n",
      "      Epoch    GPU_mem   box_loss   cls_loss   dfl_loss  Instances       Size\n"
     ]
    },
    {
     "name": "stderr",
     "output_type": "stream",
     "text": [
      "   921/1000         7G    0.06942    0.08221     0.7613        644        736: 100%|██████████| 82/82 [00:12<00:00,  6.63it/s]\n"
     ]
    },
    {
     "name": "stdout",
     "output_type": "stream",
     "text": [
      "\n",
      "      Epoch    GPU_mem   box_loss   cls_loss   dfl_loss  Instances       Size\n"
     ]
    },
    {
     "name": "stderr",
     "output_type": "stream",
     "text": [
      "   922/1000      5.98G    0.06953    0.08244      0.759        229        736: 100%|██████████| 82/82 [00:12<00:00,  6.66it/s]\n"
     ]
    },
    {
     "name": "stdout",
     "output_type": "stream",
     "text": [
      "\n",
      "      Epoch    GPU_mem   box_loss   cls_loss   dfl_loss  Instances       Size\n"
     ]
    },
    {
     "name": "stderr",
     "output_type": "stream",
     "text": [
      "   923/1000      6.77G    0.06881    0.08302     0.7588        882        736: 100%|██████████| 82/82 [00:12<00:00,  6.64it/s]\n"
     ]
    },
    {
     "name": "stdout",
     "output_type": "stream",
     "text": [
      "\n",
      "      Epoch    GPU_mem   box_loss   cls_loss   dfl_loss  Instances       Size\n"
     ]
    },
    {
     "name": "stderr",
     "output_type": "stream",
     "text": [
      "   924/1000       7.6G    0.06876    0.08203     0.7574        589        736: 100%|██████████| 82/82 [00:12<00:00,  6.63it/s]\n"
     ]
    },
    {
     "name": "stdout",
     "output_type": "stream",
     "text": [
      "\n",
      "      Epoch    GPU_mem   box_loss   cls_loss   dfl_loss  Instances       Size\n"
     ]
    },
    {
     "name": "stderr",
     "output_type": "stream",
     "text": [
      "   925/1000      6.64G    0.06938    0.08164      0.758        832        736: 100%|██████████| 82/82 [00:12<00:00,  6.65it/s]\n"
     ]
    },
    {
     "name": "stdout",
     "output_type": "stream",
     "text": [
      "\n",
      "      Epoch    GPU_mem   box_loss   cls_loss   dfl_loss  Instances       Size\n"
     ]
    },
    {
     "name": "stderr",
     "output_type": "stream",
     "text": [
      "   926/1000      6.92G    0.06899    0.08242     0.7565        778        736: 100%|██████████| 82/82 [00:12<00:00,  6.64it/s]\n"
     ]
    },
    {
     "name": "stdout",
     "output_type": "stream",
     "text": [
      "\n",
      "      Epoch    GPU_mem   box_loss   cls_loss   dfl_loss  Instances       Size\n"
     ]
    },
    {
     "name": "stderr",
     "output_type": "stream",
     "text": [
      "   927/1000      7.11G    0.06872    0.08229     0.7582        568        736: 100%|██████████| 82/82 [00:12<00:00,  6.64it/s]\n"
     ]
    },
    {
     "name": "stdout",
     "output_type": "stream",
     "text": [
      "\n",
      "      Epoch    GPU_mem   box_loss   cls_loss   dfl_loss  Instances       Size\n"
     ]
    },
    {
     "name": "stderr",
     "output_type": "stream",
     "text": [
      "   928/1000      7.45G     0.0684    0.08139     0.7575        420        736: 100%|██████████| 82/82 [00:12<00:00,  6.63it/s]\n"
     ]
    },
    {
     "name": "stdout",
     "output_type": "stream",
     "text": [
      "\n",
      "      Epoch    GPU_mem   box_loss   cls_loss   dfl_loss  Instances       Size\n"
     ]
    },
    {
     "name": "stderr",
     "output_type": "stream",
     "text": [
      "   929/1000      7.72G    0.06891    0.08121     0.7583        610        736: 100%|██████████| 82/82 [00:12<00:00,  6.63it/s]\n"
     ]
    },
    {
     "name": "stdout",
     "output_type": "stream",
     "text": [
      "\n",
      "      Epoch    GPU_mem   box_loss   cls_loss   dfl_loss  Instances       Size\n"
     ]
    },
    {
     "name": "stderr",
     "output_type": "stream",
     "text": [
      "   930/1000      7.43G    0.06807    0.08184     0.7582        635        736: 100%|██████████| 82/82 [00:12<00:00,  6.63it/s]\n"
     ]
    },
    {
     "name": "stdout",
     "output_type": "stream",
     "text": [
      "\n",
      "      Epoch    GPU_mem   box_loss   cls_loss   dfl_loss  Instances       Size\n"
     ]
    },
    {
     "name": "stderr",
     "output_type": "stream",
     "text": [
      "   931/1000      7.24G    0.06823    0.08085     0.7586        715        736: 100%|██████████| 82/82 [00:12<00:00,  6.62it/s]\n"
     ]
    },
    {
     "name": "stdout",
     "output_type": "stream",
     "text": [
      "\n",
      "      Epoch    GPU_mem   box_loss   cls_loss   dfl_loss  Instances       Size\n"
     ]
    },
    {
     "name": "stderr",
     "output_type": "stream",
     "text": [
      "   932/1000      6.73G    0.06822    0.08106     0.7583        510        736: 100%|██████████| 82/82 [00:12<00:00,  6.64it/s]\n"
     ]
    },
    {
     "name": "stdout",
     "output_type": "stream",
     "text": [
      "\n",
      "      Epoch    GPU_mem   box_loss   cls_loss   dfl_loss  Instances       Size\n"
     ]
    },
    {
     "name": "stderr",
     "output_type": "stream",
     "text": [
      "   933/1000      7.24G    0.06849    0.08135     0.7584        619        736: 100%|██████████| 82/82 [00:12<00:00,  6.62it/s]\n"
     ]
    },
    {
     "name": "stdout",
     "output_type": "stream",
     "text": [
      "\n",
      "      Epoch    GPU_mem   box_loss   cls_loss   dfl_loss  Instances       Size\n"
     ]
    },
    {
     "name": "stderr",
     "output_type": "stream",
     "text": [
      "   934/1000      6.99G     0.0673    0.08084     0.7595        597        736: 100%|██████████| 82/82 [00:12<00:00,  6.64it/s]\n"
     ]
    },
    {
     "name": "stdout",
     "output_type": "stream",
     "text": [
      "\n",
      "      Epoch    GPU_mem   box_loss   cls_loss   dfl_loss  Instances       Size\n"
     ]
    },
    {
     "name": "stderr",
     "output_type": "stream",
     "text": [
      "   935/1000      6.77G    0.06817    0.08153     0.7584        362        736: 100%|██████████| 82/82 [00:12<00:00,  6.64it/s]\n"
     ]
    },
    {
     "name": "stdout",
     "output_type": "stream",
     "text": [
      "\n",
      "      Epoch    GPU_mem   box_loss   cls_loss   dfl_loss  Instances       Size\n"
     ]
    },
    {
     "name": "stderr",
     "output_type": "stream",
     "text": [
      "   936/1000      7.21G    0.06788    0.08117     0.7588        495        736: 100%|██████████| 82/82 [00:12<00:00,  6.64it/s]\n"
     ]
    },
    {
     "name": "stdout",
     "output_type": "stream",
     "text": [
      "\n",
      "      Epoch    GPU_mem   box_loss   cls_loss   dfl_loss  Instances       Size\n"
     ]
    },
    {
     "name": "stderr",
     "output_type": "stream",
     "text": [
      "   937/1000      6.46G    0.06777    0.08108     0.7595        745        736: 100%|██████████| 82/82 [00:12<00:00,  6.64it/s]\n"
     ]
    },
    {
     "name": "stdout",
     "output_type": "stream",
     "text": [
      "\n",
      "      Epoch    GPU_mem   box_loss   cls_loss   dfl_loss  Instances       Size\n"
     ]
    },
    {
     "name": "stderr",
     "output_type": "stream",
     "text": [
      "   938/1000      7.37G    0.06704    0.08016     0.7584        681        736: 100%|██████████| 82/82 [00:12<00:00,  6.63it/s]\n"
     ]
    },
    {
     "name": "stdout",
     "output_type": "stream",
     "text": [
      "\n",
      "      Epoch    GPU_mem   box_loss   cls_loss   dfl_loss  Instances       Size\n"
     ]
    },
    {
     "name": "stderr",
     "output_type": "stream",
     "text": [
      "   939/1000      6.45G    0.06689     0.0804     0.7582        756        736: 100%|██████████| 82/82 [00:12<00:00,  6.66it/s]\n"
     ]
    },
    {
     "name": "stdout",
     "output_type": "stream",
     "text": [
      "\n",
      "      Epoch    GPU_mem   box_loss   cls_loss   dfl_loss  Instances       Size\n"
     ]
    },
    {
     "name": "stderr",
     "output_type": "stream",
     "text": [
      "   940/1000      7.08G    0.06693    0.08051     0.7589        403        736: 100%|██████████| 82/82 [00:12<00:00,  6.64it/s]\n"
     ]
    },
    {
     "name": "stdout",
     "output_type": "stream",
     "text": [
      "\n",
      "      Epoch    GPU_mem   box_loss   cls_loss   dfl_loss  Instances       Size\n"
     ]
    },
    {
     "name": "stderr",
     "output_type": "stream",
     "text": [
      "   941/1000      7.23G    0.06723     0.0806     0.7575        690        736: 100%|██████████| 82/82 [00:12<00:00,  6.63it/s]\n"
     ]
    },
    {
     "name": "stdout",
     "output_type": "stream",
     "text": [
      "\n",
      "      Epoch    GPU_mem   box_loss   cls_loss   dfl_loss  Instances       Size\n"
     ]
    },
    {
     "name": "stderr",
     "output_type": "stream",
     "text": [
      "   942/1000      7.09G    0.06698    0.08029     0.7596        404        736: 100%|██████████| 82/82 [00:12<00:00,  6.64it/s]\n"
     ]
    },
    {
     "name": "stdout",
     "output_type": "stream",
     "text": [
      "\n",
      "      Epoch    GPU_mem   box_loss   cls_loss   dfl_loss  Instances       Size\n"
     ]
    },
    {
     "name": "stderr",
     "output_type": "stream",
     "text": [
      "   943/1000      7.33G    0.06644    0.08013     0.7582        641        736: 100%|██████████| 82/82 [00:12<00:00,  6.63it/s]\n"
     ]
    },
    {
     "name": "stdout",
     "output_type": "stream",
     "text": [
      "\n",
      "      Epoch    GPU_mem   box_loss   cls_loss   dfl_loss  Instances       Size\n"
     ]
    },
    {
     "name": "stderr",
     "output_type": "stream",
     "text": [
      "   944/1000      6.76G    0.06688    0.07983     0.7593        639        736: 100%|██████████| 82/82 [00:12<00:00,  6.64it/s]\n"
     ]
    },
    {
     "name": "stdout",
     "output_type": "stream",
     "text": [
      "\n",
      "      Epoch    GPU_mem   box_loss   cls_loss   dfl_loss  Instances       Size\n"
     ]
    },
    {
     "name": "stderr",
     "output_type": "stream",
     "text": [
      "   945/1000      6.98G     0.0667    0.07961     0.7582        342        736: 100%|██████████| 82/82 [00:12<00:00,  6.65it/s]\n"
     ]
    },
    {
     "name": "stdout",
     "output_type": "stream",
     "text": [
      "\n",
      "      Epoch    GPU_mem   box_loss   cls_loss   dfl_loss  Instances       Size\n"
     ]
    },
    {
     "name": "stderr",
     "output_type": "stream",
     "text": [
      "   946/1000      7.64G    0.06672    0.08018     0.7579        573        736: 100%|██████████| 82/82 [00:12<00:00,  6.63it/s]\n"
     ]
    },
    {
     "name": "stdout",
     "output_type": "stream",
     "text": [
      "\n",
      "      Epoch    GPU_mem   box_loss   cls_loss   dfl_loss  Instances       Size\n"
     ]
    },
    {
     "name": "stderr",
     "output_type": "stream",
     "text": [
      "   947/1000      7.08G    0.06676    0.08049     0.7578        385        736: 100%|██████████| 82/82 [00:12<00:00,  6.64it/s]\n"
     ]
    },
    {
     "name": "stdout",
     "output_type": "stream",
     "text": [
      "\n",
      "      Epoch    GPU_mem   box_loss   cls_loss   dfl_loss  Instances       Size\n"
     ]
    },
    {
     "name": "stderr",
     "output_type": "stream",
     "text": [
      "   948/1000       7.5G    0.06627    0.07968     0.7589        589        736: 100%|██████████| 82/82 [00:12<00:00,  6.63it/s]\n"
     ]
    },
    {
     "name": "stdout",
     "output_type": "stream",
     "text": [
      "\n",
      "      Epoch    GPU_mem   box_loss   cls_loss   dfl_loss  Instances       Size\n"
     ]
    },
    {
     "name": "stderr",
     "output_type": "stream",
     "text": [
      "   949/1000      6.62G    0.06645     0.0805     0.7573        498        736: 100%|██████████| 82/82 [00:12<00:00,  6.65it/s]\n"
     ]
    },
    {
     "name": "stdout",
     "output_type": "stream",
     "text": [
      "\n",
      "      Epoch    GPU_mem   box_loss   cls_loss   dfl_loss  Instances       Size\n"
     ]
    },
    {
     "name": "stderr",
     "output_type": "stream",
     "text": [
      "   950/1000      7.13G    0.06585    0.07973     0.7576        676        736: 100%|██████████| 82/82 [00:12<00:00,  6.63it/s]\n"
     ]
    },
    {
     "name": "stdout",
     "output_type": "stream",
     "text": [
      "\n",
      "      Epoch    GPU_mem   box_loss   cls_loss   dfl_loss  Instances       Size\n"
     ]
    },
    {
     "name": "stderr",
     "output_type": "stream",
     "text": [
      "   951/1000      5.97G     0.0661    0.07993     0.7586        545        736: 100%|██████████| 82/82 [00:12<00:00,  6.67it/s]\n"
     ]
    },
    {
     "name": "stdout",
     "output_type": "stream",
     "text": [
      "\n",
      "      Epoch    GPU_mem   box_loss   cls_loss   dfl_loss  Instances       Size\n"
     ]
    },
    {
     "name": "stderr",
     "output_type": "stream",
     "text": [
      "   952/1000      6.78G    0.06577    0.07927     0.7578        678        736: 100%|██████████| 82/82 [00:12<00:00,  6.64it/s]\n"
     ]
    },
    {
     "name": "stdout",
     "output_type": "stream",
     "text": [
      "\n",
      "      Epoch    GPU_mem   box_loss   cls_loss   dfl_loss  Instances       Size\n"
     ]
    },
    {
     "name": "stderr",
     "output_type": "stream",
     "text": [
      "   953/1000      6.62G    0.06519    0.07924     0.7572        692        736: 100%|██████████| 82/82 [00:12<00:00,  6.65it/s]\n"
     ]
    },
    {
     "name": "stdout",
     "output_type": "stream",
     "text": [
      "\n",
      "      Epoch    GPU_mem   box_loss   cls_loss   dfl_loss  Instances       Size\n"
     ]
    },
    {
     "name": "stderr",
     "output_type": "stream",
     "text": [
      "   954/1000      7.46G    0.06554    0.07897     0.7572        657        736: 100%|██████████| 82/82 [00:12<00:00,  6.64it/s]\n"
     ]
    },
    {
     "name": "stdout",
     "output_type": "stream",
     "text": [
      "\n",
      "      Epoch    GPU_mem   box_loss   cls_loss   dfl_loss  Instances       Size\n"
     ]
    },
    {
     "name": "stderr",
     "output_type": "stream",
     "text": [
      "   955/1000      6.96G     0.0655    0.07909     0.7584        630        736: 100%|██████████| 82/82 [00:12<00:00,  6.63it/s]\n"
     ]
    },
    {
     "name": "stdout",
     "output_type": "stream",
     "text": [
      "\n",
      "      Epoch    GPU_mem   box_loss   cls_loss   dfl_loss  Instances       Size\n"
     ]
    },
    {
     "name": "stderr",
     "output_type": "stream",
     "text": [
      "   956/1000      7.23G    0.06565      0.079     0.7581        534        736: 100%|██████████| 82/82 [00:12<00:00,  6.63it/s]\n"
     ]
    },
    {
     "name": "stdout",
     "output_type": "stream",
     "text": [
      "\n",
      "      Epoch    GPU_mem   box_loss   cls_loss   dfl_loss  Instances       Size\n"
     ]
    },
    {
     "name": "stderr",
     "output_type": "stream",
     "text": [
      "   957/1000       6.4G    0.06481    0.07799     0.7583        466        736: 100%|██████████| 82/82 [00:12<00:00,  6.64it/s]\n"
     ]
    },
    {
     "name": "stdout",
     "output_type": "stream",
     "text": [
      "\n",
      "      Epoch    GPU_mem   box_loss   cls_loss   dfl_loss  Instances       Size\n"
     ]
    },
    {
     "name": "stderr",
     "output_type": "stream",
     "text": [
      "   958/1000      6.78G    0.06476    0.07867     0.7599        542        736: 100%|██████████| 82/82 [00:12<00:00,  6.64it/s]\n"
     ]
    },
    {
     "name": "stdout",
     "output_type": "stream",
     "text": [
      "\n",
      "      Epoch    GPU_mem   box_loss   cls_loss   dfl_loss  Instances       Size\n"
     ]
    },
    {
     "name": "stderr",
     "output_type": "stream",
     "text": [
      "   959/1000      7.33G    0.06475    0.07834     0.7581        582        736: 100%|██████████| 82/82 [00:12<00:00,  6.64it/s]\n"
     ]
    },
    {
     "name": "stdout",
     "output_type": "stream",
     "text": [
      "\n",
      "      Epoch    GPU_mem   box_loss   cls_loss   dfl_loss  Instances       Size\n"
     ]
    },
    {
     "name": "stderr",
     "output_type": "stream",
     "text": [
      "   960/1000      6.99G    0.06486    0.07865     0.7586        551        736: 100%|██████████| 82/82 [00:12<00:00,  6.65it/s]\n"
     ]
    },
    {
     "name": "stdout",
     "output_type": "stream",
     "text": [
      "\n",
      "      Epoch    GPU_mem   box_loss   cls_loss   dfl_loss  Instances       Size\n"
     ]
    },
    {
     "name": "stderr",
     "output_type": "stream",
     "text": [
      "   961/1000      7.47G    0.06439    0.07851     0.7587        665        736: 100%|██████████| 82/82 [00:12<00:00,  6.63it/s]\n"
     ]
    },
    {
     "name": "stdout",
     "output_type": "stream",
     "text": [
      "\n",
      "      Epoch    GPU_mem   box_loss   cls_loss   dfl_loss  Instances       Size\n"
     ]
    },
    {
     "name": "stderr",
     "output_type": "stream",
     "text": [
      "   962/1000      6.82G    0.06478    0.07839     0.7586        546        736: 100%|██████████| 82/82 [00:12<00:00,  6.65it/s]\n"
     ]
    },
    {
     "name": "stdout",
     "output_type": "stream",
     "text": [
      "\n",
      "      Epoch    GPU_mem   box_loss   cls_loss   dfl_loss  Instances       Size\n"
     ]
    },
    {
     "name": "stderr",
     "output_type": "stream",
     "text": [
      "   963/1000      7.89G    0.06499    0.07882     0.7585        575        736: 100%|██████████| 82/82 [00:12<00:00,  6.63it/s]\n"
     ]
    },
    {
     "name": "stdout",
     "output_type": "stream",
     "text": [
      "\n",
      "      Epoch    GPU_mem   box_loss   cls_loss   dfl_loss  Instances       Size\n"
     ]
    },
    {
     "name": "stderr",
     "output_type": "stream",
     "text": [
      "   964/1000      6.64G    0.06417    0.07803     0.7578        432        736: 100%|██████████| 82/82 [00:12<00:00,  6.63it/s]\n"
     ]
    },
    {
     "name": "stdout",
     "output_type": "stream",
     "text": [
      "\n",
      "      Epoch    GPU_mem   box_loss   cls_loss   dfl_loss  Instances       Size\n"
     ]
    },
    {
     "name": "stderr",
     "output_type": "stream",
     "text": [
      "   965/1000      6.63G    0.06408    0.07812     0.7575        641        736: 100%|██████████| 82/82 [00:12<00:00,  6.65it/s]\n"
     ]
    },
    {
     "name": "stdout",
     "output_type": "stream",
     "text": [
      "\n",
      "      Epoch    GPU_mem   box_loss   cls_loss   dfl_loss  Instances       Size\n"
     ]
    },
    {
     "name": "stderr",
     "output_type": "stream",
     "text": [
      "   966/1000      6.98G    0.06437    0.07815     0.7588        415        736: 100%|██████████| 82/82 [00:12<00:00,  6.64it/s]\n"
     ]
    },
    {
     "name": "stdout",
     "output_type": "stream",
     "text": [
      "\n",
      "      Epoch    GPU_mem   box_loss   cls_loss   dfl_loss  Instances       Size\n"
     ]
    },
    {
     "name": "stderr",
     "output_type": "stream",
     "text": [
      "   967/1000      7.09G    0.06411    0.07805     0.7595        446        736: 100%|██████████| 82/82 [00:12<00:00,  6.64it/s]\n"
     ]
    },
    {
     "name": "stdout",
     "output_type": "stream",
     "text": [
      "\n",
      "      Epoch    GPU_mem   box_loss   cls_loss   dfl_loss  Instances       Size\n"
     ]
    },
    {
     "name": "stderr",
     "output_type": "stream",
     "text": [
      "   968/1000       6.3G     0.0634    0.07735     0.7577        668        736: 100%|██████████| 82/82 [00:12<00:00,  6.64it/s]\n"
     ]
    },
    {
     "name": "stdout",
     "output_type": "stream",
     "text": [
      "\n",
      "      Epoch    GPU_mem   box_loss   cls_loss   dfl_loss  Instances       Size\n"
     ]
    },
    {
     "name": "stderr",
     "output_type": "stream",
     "text": [
      "   969/1000      6.82G    0.06382    0.07793     0.7569        600        736: 100%|██████████| 82/82 [00:12<00:00,  6.64it/s]\n"
     ]
    },
    {
     "name": "stdout",
     "output_type": "stream",
     "text": [
      "\n",
      "      Epoch    GPU_mem   box_loss   cls_loss   dfl_loss  Instances       Size\n"
     ]
    },
    {
     "name": "stderr",
     "output_type": "stream",
     "text": [
      "   970/1000      6.77G    0.06389    0.07831     0.7574        708        736: 100%|██████████| 82/82 [00:12<00:00,  6.63it/s]\n"
     ]
    },
    {
     "name": "stdout",
     "output_type": "stream",
     "text": [
      "\n",
      "      Epoch    GPU_mem   box_loss   cls_loss   dfl_loss  Instances       Size\n"
     ]
    },
    {
     "name": "stderr",
     "output_type": "stream",
     "text": [
      "   971/1000      6.95G    0.06322    0.07755     0.7594        567        736: 100%|██████████| 82/82 [00:12<00:00,  6.65it/s]\n"
     ]
    },
    {
     "name": "stdout",
     "output_type": "stream",
     "text": [
      "\n",
      "      Epoch    GPU_mem   box_loss   cls_loss   dfl_loss  Instances       Size\n"
     ]
    },
    {
     "name": "stderr",
     "output_type": "stream",
     "text": [
      "   972/1000      6.62G    0.06355    0.07767     0.7584        473        736: 100%|██████████| 82/82 [00:12<00:00,  6.64it/s]\n"
     ]
    },
    {
     "name": "stdout",
     "output_type": "stream",
     "text": [
      "\n",
      "      Epoch    GPU_mem   box_loss   cls_loss   dfl_loss  Instances       Size\n"
     ]
    },
    {
     "name": "stderr",
     "output_type": "stream",
     "text": [
      "   973/1000       7.6G    0.06363    0.07766     0.7566        435        736: 100%|██████████| 82/82 [00:12<00:00,  6.63it/s]\n"
     ]
    },
    {
     "name": "stdout",
     "output_type": "stream",
     "text": [
      "\n",
      "      Epoch    GPU_mem   box_loss   cls_loss   dfl_loss  Instances       Size\n"
     ]
    },
    {
     "name": "stderr",
     "output_type": "stream",
     "text": [
      "   974/1000      6.98G     0.0628    0.07694     0.7581        695        736: 100%|██████████| 82/82 [00:12<00:00,  6.63it/s]\n"
     ]
    },
    {
     "name": "stdout",
     "output_type": "stream",
     "text": [
      "\n",
      "      Epoch    GPU_mem   box_loss   cls_loss   dfl_loss  Instances       Size\n"
     ]
    },
    {
     "name": "stderr",
     "output_type": "stream",
     "text": [
      "   975/1000       6.3G    0.06347     0.0775     0.7584        438        736: 100%|██████████| 82/82 [00:12<00:00,  6.66it/s]\n"
     ]
    },
    {
     "name": "stdout",
     "output_type": "stream",
     "text": [
      "\n",
      "      Epoch    GPU_mem   box_loss   cls_loss   dfl_loss  Instances       Size\n"
     ]
    },
    {
     "name": "stderr",
     "output_type": "stream",
     "text": [
      "   976/1000      7.08G    0.06342     0.0781      0.757        746        736: 100%|██████████| 82/82 [00:12<00:00,  6.65it/s]\n"
     ]
    },
    {
     "name": "stdout",
     "output_type": "stream",
     "text": [
      "\n",
      "      Epoch    GPU_mem   box_loss   cls_loss   dfl_loss  Instances       Size\n"
     ]
    },
    {
     "name": "stderr",
     "output_type": "stream",
     "text": [
      "   977/1000      5.97G    0.06333    0.07776      0.759        662        736: 100%|██████████| 82/82 [00:12<00:00,  6.65it/s]\n"
     ]
    },
    {
     "name": "stdout",
     "output_type": "stream",
     "text": [
      "\n",
      "      Epoch    GPU_mem   box_loss   cls_loss   dfl_loss  Instances       Size\n"
     ]
    },
    {
     "name": "stderr",
     "output_type": "stream",
     "text": [
      "   978/1000      6.97G     0.0629    0.07736     0.7595        700        736: 100%|██████████| 82/82 [00:12<00:00,  6.65it/s]\n"
     ]
    },
    {
     "name": "stdout",
     "output_type": "stream",
     "text": [
      "\n",
      "      Epoch    GPU_mem   box_loss   cls_loss   dfl_loss  Instances       Size\n"
     ]
    },
    {
     "name": "stderr",
     "output_type": "stream",
     "text": [
      "   979/1000      6.71G    0.06328    0.07776     0.7588        551        736: 100%|██████████| 82/82 [00:12<00:00,  6.66it/s]\n"
     ]
    },
    {
     "name": "stdout",
     "output_type": "stream",
     "text": [
      "\n",
      "      Epoch    GPU_mem   box_loss   cls_loss   dfl_loss  Instances       Size\n"
     ]
    },
    {
     "name": "stderr",
     "output_type": "stream",
     "text": [
      "   980/1000      6.46G    0.06271    0.07713     0.7583        639        736: 100%|██████████| 82/82 [00:12<00:00,  6.65it/s]\n"
     ]
    },
    {
     "name": "stdout",
     "output_type": "stream",
     "text": [
      "\n",
      "      Epoch    GPU_mem   box_loss   cls_loss   dfl_loss  Instances       Size\n"
     ]
    },
    {
     "name": "stderr",
     "output_type": "stream",
     "text": [
      "   981/1000      6.69G    0.06328    0.07741     0.7585        517        736: 100%|██████████| 82/82 [00:12<00:00,  6.65it/s]\n"
     ]
    },
    {
     "name": "stdout",
     "output_type": "stream",
     "text": [
      "\n",
      "      Epoch    GPU_mem   box_loss   cls_loss   dfl_loss  Instances       Size\n"
     ]
    },
    {
     "name": "stderr",
     "output_type": "stream",
     "text": [
      "   982/1000      6.62G    0.06267    0.07744     0.7579        590        736: 100%|██████████| 82/82 [00:12<00:00,  6.65it/s]\n"
     ]
    },
    {
     "name": "stdout",
     "output_type": "stream",
     "text": [
      "\n",
      "      Epoch    GPU_mem   box_loss   cls_loss   dfl_loss  Instances       Size\n"
     ]
    },
    {
     "name": "stderr",
     "output_type": "stream",
     "text": [
      "   983/1000      6.77G    0.06253    0.07681     0.7573        498        736: 100%|██████████| 82/82 [00:12<00:00,  6.63it/s]\n"
     ]
    },
    {
     "name": "stdout",
     "output_type": "stream",
     "text": [
      "\n",
      "      Epoch    GPU_mem   box_loss   cls_loss   dfl_loss  Instances       Size\n"
     ]
    },
    {
     "name": "stderr",
     "output_type": "stream",
     "text": [
      "   984/1000      6.46G    0.06243     0.0769     0.7583        450        736: 100%|██████████| 82/82 [00:12<00:00,  6.64it/s]\n"
     ]
    },
    {
     "name": "stdout",
     "output_type": "stream",
     "text": [
      "\n",
      "      Epoch    GPU_mem   box_loss   cls_loss   dfl_loss  Instances       Size\n"
     ]
    },
    {
     "name": "stderr",
     "output_type": "stream",
     "text": [
      "   985/1000      7.59G    0.06259     0.0773     0.7587        551        736: 100%|██████████| 82/82 [00:12<00:00,  6.63it/s]\n"
     ]
    },
    {
     "name": "stdout",
     "output_type": "stream",
     "text": [
      "\n",
      "      Epoch    GPU_mem   box_loss   cls_loss   dfl_loss  Instances       Size\n"
     ]
    },
    {
     "name": "stderr",
     "output_type": "stream",
     "text": [
      "   986/1000      6.94G    0.06257    0.07682     0.7576        546        736: 100%|██████████| 82/82 [00:12<00:00,  6.64it/s]\n"
     ]
    },
    {
     "name": "stdout",
     "output_type": "stream",
     "text": [
      "\n",
      "      Epoch    GPU_mem   box_loss   cls_loss   dfl_loss  Instances       Size\n"
     ]
    },
    {
     "name": "stderr",
     "output_type": "stream",
     "text": [
      "   987/1000      6.45G    0.06222    0.07685     0.7574        633        736: 100%|██████████| 82/82 [00:12<00:00,  6.64it/s]\n"
     ]
    },
    {
     "name": "stdout",
     "output_type": "stream",
     "text": [
      "\n",
      "      Epoch    GPU_mem   box_loss   cls_loss   dfl_loss  Instances       Size\n"
     ]
    },
    {
     "name": "stderr",
     "output_type": "stream",
     "text": [
      "   988/1000      6.46G    0.06184    0.07611     0.7562        657        736: 100%|██████████| 82/82 [00:12<00:00,  6.65it/s]\n"
     ]
    },
    {
     "name": "stdout",
     "output_type": "stream",
     "text": [
      "\n",
      "      Epoch    GPU_mem   box_loss   cls_loss   dfl_loss  Instances       Size\n"
     ]
    },
    {
     "name": "stderr",
     "output_type": "stream",
     "text": [
      "   989/1000      6.52G    0.06255    0.07746     0.7578        542        736: 100%|██████████| 82/82 [00:12<00:00,  6.66it/s]\n"
     ]
    },
    {
     "name": "stdout",
     "output_type": "stream",
     "text": [
      "\n",
      "      Epoch    GPU_mem   box_loss   cls_loss   dfl_loss  Instances       Size\n"
     ]
    },
    {
     "name": "stderr",
     "output_type": "stream",
     "text": [
      "   990/1000      7.03G    0.06198    0.07666     0.7566        522        736: 100%|██████████| 82/82 [00:12<00:00,  6.64it/s]\n"
     ]
    },
    {
     "name": "stdout",
     "output_type": "stream",
     "text": [
      "Closing dataloader mosaic\n",
      "\n",
      "      Epoch    GPU_mem   box_loss   cls_loss   dfl_loss  Instances       Size\n"
     ]
    },
    {
     "name": "stderr",
     "output_type": "stream",
     "text": [
      "   991/1000      6.77G    0.06206    0.07666      0.758        519        736: 100%|██████████| 82/82 [00:13<00:00,  6.05it/s]\n"
     ]
    },
    {
     "name": "stdout",
     "output_type": "stream",
     "text": [
      "\n",
      "      Epoch    GPU_mem   box_loss   cls_loss   dfl_loss  Instances       Size\n"
     ]
    },
    {
     "name": "stderr",
     "output_type": "stream",
     "text": [
      "   992/1000      7.16G    0.06192    0.07643     0.7581        524        736: 100%|██████████| 82/82 [00:12<00:00,  6.60it/s]\n"
     ]
    },
    {
     "name": "stdout",
     "output_type": "stream",
     "text": [
      "\n",
      "      Epoch    GPU_mem   box_loss   cls_loss   dfl_loss  Instances       Size\n"
     ]
    },
    {
     "name": "stderr",
     "output_type": "stream",
     "text": [
      "   993/1000       7.2G    0.06192    0.07634     0.7564        587        736: 100%|██████████| 82/82 [00:12<00:00,  6.60it/s]\n"
     ]
    },
    {
     "name": "stdout",
     "output_type": "stream",
     "text": [
      "\n",
      "      Epoch    GPU_mem   box_loss   cls_loss   dfl_loss  Instances       Size\n"
     ]
    },
    {
     "name": "stderr",
     "output_type": "stream",
     "text": [
      "   994/1000      6.24G    0.06145    0.07625     0.7576        523        736: 100%|██████████| 82/82 [00:12<00:00,  6.62it/s]\n"
     ]
    },
    {
     "name": "stdout",
     "output_type": "stream",
     "text": [
      "\n",
      "      Epoch    GPU_mem   box_loss   cls_loss   dfl_loss  Instances       Size\n"
     ]
    },
    {
     "name": "stderr",
     "output_type": "stream",
     "text": [
      "   995/1000      6.32G    0.06117      0.076     0.7574        683        736: 100%|██████████| 82/82 [00:12<00:00,  6.61it/s]\n"
     ]
    },
    {
     "name": "stdout",
     "output_type": "stream",
     "text": [
      "\n",
      "      Epoch    GPU_mem   box_loss   cls_loss   dfl_loss  Instances       Size\n"
     ]
    },
    {
     "name": "stderr",
     "output_type": "stream",
     "text": [
      "   996/1000      7.39G    0.06142    0.07616     0.7581        523        736: 100%|██████████| 82/82 [00:12<00:00,  6.57it/s]\n"
     ]
    },
    {
     "name": "stdout",
     "output_type": "stream",
     "text": [
      "\n",
      "      Epoch    GPU_mem   box_loss   cls_loss   dfl_loss  Instances       Size\n"
     ]
    },
    {
     "name": "stderr",
     "output_type": "stream",
     "text": [
      "   997/1000      6.68G     0.0619    0.07656     0.7568        670        736: 100%|██████████| 82/82 [00:12<00:00,  6.62it/s]\n"
     ]
    },
    {
     "name": "stdout",
     "output_type": "stream",
     "text": [
      "\n",
      "      Epoch    GPU_mem   box_loss   cls_loss   dfl_loss  Instances       Size\n"
     ]
    },
    {
     "name": "stderr",
     "output_type": "stream",
     "text": [
      "   998/1000      6.77G    0.06128    0.07608     0.7568        499        736: 100%|██████████| 82/82 [00:12<00:00,  6.60it/s]\n"
     ]
    },
    {
     "name": "stdout",
     "output_type": "stream",
     "text": [
      "\n",
      "      Epoch    GPU_mem   box_loss   cls_loss   dfl_loss  Instances       Size\n"
     ]
    },
    {
     "name": "stderr",
     "output_type": "stream",
     "text": [
      "   999/1000      7.12G    0.06135    0.07584     0.7574        442        736: 100%|██████████| 82/82 [00:12<00:00,  6.60it/s]\n"
     ]
    },
    {
     "name": "stdout",
     "output_type": "stream",
     "text": [
      "\n",
      "      Epoch    GPU_mem   box_loss   cls_loss   dfl_loss  Instances       Size\n"
     ]
    },
    {
     "name": "stderr",
     "output_type": "stream",
     "text": [
      "  1000/1000      5.95G    0.06106    0.07591     0.7583        674        736: 100%|██████████| 82/82 [00:12<00:00,  6.62it/s]\n",
      "                 Class     Images  Instances      Box(P          R      mAP50  mAP50-95): 100%|██████████| 41/41 [00:32<00:00,  1.25it/s]\n"
     ]
    },
    {
     "name": "stdout",
     "output_type": "stream",
     "text": [
      "                   all        735      69816      0.996      0.992      0.991      0.991\n"
     ]
    },
    {
     "name": "stderr",
     "output_type": "stream",
     "text": [
      "D:\\code\\env\\anaconda\\envs\\mhy-yolo\\Lib\\site-packages\\ultralytics\\utils\\metrics.py:432: UserWarning: Glyph 36215 (\\N{CJK UNIFIED IDEOGRAPH-8D77}) missing from current font.\n",
      "  fig.savefig(plot_fname, dpi=250)\n",
      "D:\\code\\env\\anaconda\\envs\\mhy-yolo\\Lib\\site-packages\\ultralytics\\utils\\metrics.py:432: UserWarning: Glyph 28857 (\\N{CJK UNIFIED IDEOGRAPH-70B9}) missing from current font.\n",
      "  fig.savefig(plot_fname, dpi=250)\n",
      "D:\\code\\env\\anaconda\\envs\\mhy-yolo\\Lib\\site-packages\\ultralytics\\utils\\metrics.py:432: UserWarning: Glyph 40831 (\\N{CJK UNIFIED IDEOGRAPH-9F7F}) missing from current font.\n",
      "  fig.savefig(plot_fname, dpi=250)\n",
      "D:\\code\\env\\anaconda\\envs\\mhy-yolo\\Lib\\site-packages\\ultralytics\\utils\\metrics.py:432: UserWarning: Glyph 36718 (\\N{CJK UNIFIED IDEOGRAPH-8F6E}) missing from current font.\n",
      "  fig.savefig(plot_fname, dpi=250)\n",
      "D:\\code\\env\\anaconda\\envs\\mhy-yolo\\Lib\\site-packages\\ultralytics\\utils\\metrics.py:432: UserWarning: Glyph 30828 (\\N{CJK UNIFIED IDEOGRAPH-786C}) missing from current font.\n",
      "  fig.savefig(plot_fname, dpi=250)\n",
      "D:\\code\\env\\anaconda\\envs\\mhy-yolo\\Lib\\site-packages\\ultralytics\\utils\\metrics.py:432: UserWarning: Glyph 24065 (\\N{CJK UNIFIED IDEOGRAPH-5E01}) missing from current font.\n",
      "  fig.savefig(plot_fname, dpi=250)\n",
      "D:\\code\\env\\anaconda\\envs\\mhy-yolo\\Lib\\site-packages\\ultralytics\\utils\\metrics.py:432: UserWarning: Glyph 31665 (\\N{CJK UNIFIED IDEOGRAPH-7BB1}) missing from current font.\n",
      "  fig.savefig(plot_fname, dpi=250)\n",
      "D:\\code\\env\\anaconda\\envs\\mhy-yolo\\Lib\\site-packages\\ultralytics\\utils\\metrics.py:432: UserWarning: Glyph 21361 (\\N{CJK UNIFIED IDEOGRAPH-5371}) missing from current font.\n",
      "  fig.savefig(plot_fname, dpi=250)\n",
      "D:\\code\\env\\anaconda\\envs\\mhy-yolo\\Lib\\site-packages\\ultralytics\\utils\\metrics.py:432: UserWarning: Glyph 26426 (\\N{CJK UNIFIED IDEOGRAPH-673A}) missing from current font.\n",
      "  fig.savefig(plot_fname, dpi=250)\n",
      "D:\\code\\env\\anaconda\\envs\\mhy-yolo\\Lib\\site-packages\\ultralytics\\utils\\metrics.py:432: UserWarning: Glyph 19994 (\\N{CJK UNIFIED IDEOGRAPH-4E1A}) missing from current font.\n",
      "  fig.savefig(plot_fname, dpi=250)\n",
      "D:\\code\\env\\anaconda\\envs\\mhy-yolo\\Lib\\site-packages\\ultralytics\\utils\\metrics.py:432: UserWarning: Glyph 32489 (\\N{CJK UNIFIED IDEOGRAPH-7EE9}) missing from current font.\n",
      "  fig.savefig(plot_fname, dpi=250)\n",
      "D:\\code\\env\\anaconda\\envs\\mhy-yolo\\Lib\\site-packages\\ultralytics\\utils\\metrics.py:432: UserWarning: Glyph 32771 (\\N{CJK UNIFIED IDEOGRAPH-8003}) missing from current font.\n",
      "  fig.savefig(plot_fname, dpi=250)\n",
      "D:\\code\\env\\anaconda\\envs\\mhy-yolo\\Lib\\site-packages\\ultralytics\\utils\\metrics.py:432: UserWarning: Glyph 23519 (\\N{CJK UNIFIED IDEOGRAPH-5BDF}) missing from current font.\n",
      "  fig.savefig(plot_fname, dpi=250)\n",
      "D:\\code\\env\\anaconda\\envs\\mhy-yolo\\Lib\\site-packages\\ultralytics\\utils\\metrics.py:432: UserWarning: Glyph 21450 (\\N{CJK UNIFIED IDEOGRAPH-53CA}) missing from current font.\n",
      "  fig.savefig(plot_fname, dpi=250)\n",
      "D:\\code\\env\\anaconda\\envs\\mhy-yolo\\Lib\\site-packages\\ultralytics\\utils\\metrics.py:432: UserWarning: Glyph 26102 (\\N{CJK UNIFIED IDEOGRAPH-65F6}) missing from current font.\n",
      "  fig.savefig(plot_fname, dpi=250)\n",
      "D:\\code\\env\\anaconda\\envs\\mhy-yolo\\Lib\\site-packages\\ultralytics\\utils\\metrics.py:432: UserWarning: Glyph 34917 (\\N{CJK UNIFIED IDEOGRAPH-8865}) missing from current font.\n",
      "  fig.savefig(plot_fname, dpi=250)\n",
      "D:\\code\\env\\anaconda\\envs\\mhy-yolo\\Lib\\site-packages\\ultralytics\\utils\\metrics.py:432: UserWarning: Glyph 32473 (\\N{CJK UNIFIED IDEOGRAPH-7ED9}) missing from current font.\n",
      "  fig.savefig(plot_fname, dpi=250)\n",
      "D:\\code\\env\\anaconda\\envs\\mhy-yolo\\Lib\\site-packages\\ultralytics\\utils\\metrics.py:432: UserWarning: Glyph 25554 (\\N{CJK UNIFIED IDEOGRAPH-63D2}) missing from current font.\n",
      "  fig.savefig(plot_fname, dpi=250)\n",
      "D:\\code\\env\\anaconda\\envs\\mhy-yolo\\Lib\\site-packages\\ultralytics\\utils\\metrics.py:432: UserWarning: Glyph 20214 (\\N{CJK UNIFIED IDEOGRAPH-4EF6}) missing from current font.\n",
      "  fig.savefig(plot_fname, dpi=250)\n",
      "D:\\code\\env\\anaconda\\envs\\mhy-yolo\\Lib\\site-packages\\ultralytics\\utils\\metrics.py:432: UserWarning: Glyph 33719 (\\N{CJK UNIFIED IDEOGRAPH-83B7}) missing from current font.\n",
      "  fig.savefig(plot_fname, dpi=250)\n",
      "D:\\code\\env\\anaconda\\envs\\mhy-yolo\\Lib\\site-packages\\ultralytics\\utils\\metrics.py:432: UserWarning: Glyph 21462 (\\N{CJK UNIFIED IDEOGRAPH-53D6}) missing from current font.\n",
      "  fig.savefig(plot_fname, dpi=250)\n",
      "D:\\code\\env\\anaconda\\envs\\mhy-yolo\\Lib\\site-packages\\ultralytics\\utils\\metrics.py:432: UserWarning: Glyph 25197 (\\N{CJK UNIFIED IDEOGRAPH-626D}) missing from current font.\n",
      "  fig.savefig(plot_fname, dpi=250)\n",
      "D:\\code\\env\\anaconda\\envs\\mhy-yolo\\Lib\\site-packages\\ultralytics\\utils\\metrics.py:432: UserWarning: Glyph 34507 (\\N{CJK UNIFIED IDEOGRAPH-86CB}) missing from current font.\n",
      "  fig.savefig(plot_fname, dpi=250)\n",
      "D:\\code\\env\\anaconda\\envs\\mhy-yolo\\Lib\\site-packages\\ultralytics\\utils\\metrics.py:432: UserWarning: Glyph 21628 (\\N{CJK UNIFIED IDEOGRAPH-547C}) missing from current font.\n",
      "  fig.savefig(plot_fname, dpi=250)\n",
      "D:\\code\\env\\anaconda\\envs\\mhy-yolo\\Lib\\site-packages\\ultralytics\\utils\\metrics.py:432: UserWarning: Glyph 21483 (\\N{CJK UNIFIED IDEOGRAPH-53EB}) missing from current font.\n",
      "  fig.savefig(plot_fname, dpi=250)\n",
      "D:\\code\\env\\anaconda\\envs\\mhy-yolo\\Lib\\site-packages\\ultralytics\\utils\\metrics.py:432: UserWarning: Glyph 22686 (\\N{CJK UNIFIED IDEOGRAPH-589E}) missing from current font.\n",
      "  fig.savefig(plot_fname, dpi=250)\n",
      "D:\\code\\env\\anaconda\\envs\\mhy-yolo\\Lib\\site-packages\\ultralytics\\utils\\metrics.py:432: UserWarning: Glyph 25588 (\\N{CJK UNIFIED IDEOGRAPH-63F4}) missing from current font.\n",
      "  fig.savefig(plot_fname, dpi=250)\n",
      "D:\\code\\env\\anaconda\\envs\\mhy-yolo\\Lib\\site-packages\\ultralytics\\utils\\metrics.py:432: UserWarning: Glyph 31192 (\\N{CJK UNIFIED IDEOGRAPH-79D8}) missing from current font.\n",
      "  fig.savefig(plot_fname, dpi=250)\n",
      "D:\\code\\env\\anaconda\\envs\\mhy-yolo\\Lib\\site-packages\\ultralytics\\utils\\metrics.py:432: UserWarning: Glyph 24452 (\\N{CJK UNIFIED IDEOGRAPH-5F84}) missing from current font.\n",
      "  fig.savefig(plot_fname, dpi=250)\n",
      "D:\\code\\env\\anaconda\\envs\\mhy-yolo\\Lib\\site-packages\\ultralytics\\utils\\metrics.py:432: UserWarning: Glyph 25805 (\\N{CJK UNIFIED IDEOGRAPH-64CD}) missing from current font.\n",
      "  fig.savefig(plot_fname, dpi=250)\n",
      "D:\\code\\env\\anaconda\\envs\\mhy-yolo\\Lib\\site-packages\\ultralytics\\utils\\metrics.py:432: UserWarning: Glyph 32437 (\\N{CJK UNIFIED IDEOGRAPH-7EB5}) missing from current font.\n",
      "  fig.savefig(plot_fname, dpi=250)\n",
      "D:\\code\\env\\anaconda\\envs\\mhy-yolo\\Lib\\site-packages\\ultralytics\\utils\\metrics.py:432: UserWarning: Glyph 26438 (\\N{CJK UNIFIED IDEOGRAPH-6746}) missing from current font.\n",
      "  fig.savefig(plot_fname, dpi=250)\n",
      "D:\\code\\env\\anaconda\\envs\\mhy-yolo\\Lib\\site-packages\\ultralytics\\utils\\metrics.py:432: UserWarning: Glyph 36994 (\\N{CJK UNIFIED IDEOGRAPH-9082}) missing from current font.\n",
      "  fig.savefig(plot_fname, dpi=250)\n",
      "D:\\code\\env\\anaconda\\envs\\mhy-yolo\\Lib\\site-packages\\ultralytics\\utils\\metrics.py:432: UserWarning: Glyph 36869 (\\N{CJK UNIFIED IDEOGRAPH-9005}) missing from current font.\n",
      "  fig.savefig(plot_fname, dpi=250)\n",
      "D:\\code\\env\\anaconda\\envs\\mhy-yolo\\Lib\\site-packages\\ultralytics\\utils\\metrics.py:432: UserWarning: Glyph 20405 (\\N{CJK UNIFIED IDEOGRAPH-4FB5}) missing from current font.\n",
      "  fig.savefig(plot_fname, dpi=250)\n",
      "D:\\code\\env\\anaconda\\envs\\mhy-yolo\\Lib\\site-packages\\ultralytics\\utils\\metrics.py:432: UserWarning: Glyph 34432 (\\N{CJK UNIFIED IDEOGRAPH-8680}) missing from current font.\n",
      "  fig.savefig(plot_fname, dpi=250)\n",
      "D:\\code\\env\\anaconda\\envs\\mhy-yolo\\Lib\\site-packages\\ultralytics\\utils\\metrics.py:432: UserWarning: Glyph 20020 (\\N{CJK UNIFIED IDEOGRAPH-4E34}) missing from current font.\n",
      "  fig.savefig(plot_fname, dpi=250)\n",
      "D:\\code\\env\\anaconda\\envs\\mhy-yolo\\Lib\\site-packages\\ultralytics\\utils\\metrics.py:432: UserWarning: Glyph 25293 (\\N{CJK UNIFIED IDEOGRAPH-62CD}) missing from current font.\n",
      "  fig.savefig(plot_fname, dpi=250)\n",
      "D:\\code\\env\\anaconda\\envs\\mhy-yolo\\Lib\\site-packages\\ultralytics\\utils\\metrics.py:432: UserWarning: Glyph 26723 (\\N{CJK UNIFIED IDEOGRAPH-6863}) missing from current font.\n",
      "  fig.savefig(plot_fname, dpi=250)\n",
      "D:\\code\\env\\anaconda\\envs\\mhy-yolo\\Lib\\site-packages\\ultralytics\\utils\\metrics.py:432: UserWarning: Glyph 20551 (\\N{CJK UNIFIED IDEOGRAPH-5047}) missing from current font.\n",
      "  fig.savefig(plot_fname, dpi=250)\n",
      "D:\\code\\env\\anaconda\\envs\\mhy-yolo\\Lib\\site-packages\\ultralytics\\utils\\metrics.py:432: UserWarning: Glyph 38754 (\\N{CJK UNIFIED IDEOGRAPH-9762}) missing from current font.\n",
      "  fig.savefig(plot_fname, dpi=250)\n",
      "D:\\code\\env\\anaconda\\envs\\mhy-yolo\\Lib\\site-packages\\ultralytics\\utils\\metrics.py:432: UserWarning: Glyph 30740 (\\N{CJK UNIFIED IDEOGRAPH-7814}) missing from current font.\n",
      "  fig.savefig(plot_fname, dpi=250)\n",
      "D:\\code\\env\\anaconda\\envs\\mhy-yolo\\Lib\\site-packages\\ultralytics\\utils\\metrics.py:432: UserWarning: Glyph 31350 (\\N{CJK UNIFIED IDEOGRAPH-7A76}) missing from current font.\n",
      "  fig.savefig(plot_fname, dpi=250)\n",
      "D:\\code\\env\\anaconda\\envs\\mhy-yolo\\Lib\\site-packages\\ultralytics\\utils\\metrics.py:432: UserWarning: Glyph 32773 (\\N{CJK UNIFIED IDEOGRAPH-8005}) missing from current font.\n",
      "  fig.savefig(plot_fname, dpi=250)\n",
      "D:\\code\\env\\anaconda\\envs\\mhy-yolo\\Lib\\site-packages\\ultralytics\\utils\\metrics.py:432: UserWarning: Glyph 40483 (\\N{CJK UNIFIED IDEOGRAPH-9E23}) missing from current font.\n",
      "  fig.savefig(plot_fname, dpi=250)\n",
      "D:\\code\\env\\anaconda\\envs\\mhy-yolo\\Lib\\site-packages\\ultralytics\\utils\\metrics.py:432: UserWarning: Glyph 24509 (\\N{CJK UNIFIED IDEOGRAPH-5FBD}) missing from current font.\n",
      "  fig.savefig(plot_fname, dpi=250)\n",
      "D:\\code\\env\\anaconda\\envs\\mhy-yolo\\Lib\\site-packages\\ultralytics\\utils\\metrics.py:432: UserWarning: Glyph 20652 (\\N{CJK UNIFIED IDEOGRAPH-50AC}) missing from current font.\n",
      "  fig.savefig(plot_fname, dpi=250)\n",
      "D:\\code\\env\\anaconda\\envs\\mhy-yolo\\Lib\\site-packages\\ultralytics\\utils\\metrics.py:432: UserWarning: Glyph 21270 (\\N{CJK UNIFIED IDEOGRAPH-5316}) missing from current font.\n",
      "  fig.savefig(plot_fname, dpi=250)\n",
      "D:\\code\\env\\anaconda\\envs\\mhy-yolo\\Lib\\site-packages\\ultralytics\\utils\\metrics.py:432: UserWarning: Glyph 21058 (\\N{CJK UNIFIED IDEOGRAPH-5242}) missing from current font.\n",
      "  fig.savefig(plot_fname, dpi=250)\n",
      "D:\\code\\env\\anaconda\\envs\\mhy-yolo\\Lib\\site-packages\\ultralytics\\utils\\metrics.py:432: UserWarning: Glyph 35843 (\\N{CJK UNIFIED IDEOGRAPH-8C03}) missing from current font.\n",
      "  fig.savefig(plot_fname, dpi=250)\n",
      "D:\\code\\env\\anaconda\\envs\\mhy-yolo\\Lib\\site-packages\\ultralytics\\utils\\metrics.py:432: UserWarning: Glyph 26597 (\\N{CJK UNIFIED IDEOGRAPH-67E5}) missing from current font.\n",
      "  fig.savefig(plot_fname, dpi=250)\n",
      "D:\\code\\env\\anaconda\\envs\\mhy-yolo\\Lib\\site-packages\\ultralytics\\utils\\metrics.py:432: UserWarning: Glyph 21592 (\\N{CJK UNIFIED IDEOGRAPH-5458}) missing from current font.\n",
      "  fig.savefig(plot_fname, dpi=250)\n",
      "D:\\code\\env\\anaconda\\envs\\mhy-yolo\\Lib\\site-packages\\ultralytics\\utils\\metrics.py:432: UserWarning: Glyph 30423 (\\N{CJK UNIFIED IDEOGRAPH-76D7}) missing from current font.\n",
      "  fig.savefig(plot_fname, dpi=250)\n",
      "D:\\code\\env\\anaconda\\envs\\mhy-yolo\\Lib\\site-packages\\ultralytics\\utils\\metrics.py:432: UserWarning: Glyph 27934 (\\N{CJK UNIFIED IDEOGRAPH-6D1E}) missing from current font.\n",
      "  fig.savefig(plot_fname, dpi=250)\n",
      "D:\\code\\env\\anaconda\\envs\\mhy-yolo\\Lib\\site-packages\\ultralytics\\utils\\metrics.py:432: UserWarning: Glyph 23458 (\\N{CJK UNIFIED IDEOGRAPH-5BA2}) missing from current font.\n",
      "  fig.savefig(plot_fname, dpi=250)\n",
      "D:\\code\\env\\anaconda\\envs\\mhy-yolo\\Lib\\site-packages\\ultralytics\\utils\\metrics.py:432: UserWarning: Glyph 37030 (\\N{CJK UNIFIED IDEOGRAPH-90A6}) missing from current font.\n",
      "  fig.savefig(plot_fname, dpi=250)\n",
      "D:\\code\\env\\anaconda\\envs\\mhy-yolo\\Lib\\site-packages\\ultralytics\\utils\\metrics.py:432: UserWarning: Glyph 24067 (\\N{CJK UNIFIED IDEOGRAPH-5E03}) missing from current font.\n",
      "  fig.savefig(plot_fname, dpi=250)\n",
      "D:\\code\\env\\anaconda\\envs\\mhy-yolo\\Lib\\site-packages\\ultralytics\\utils\\metrics.py:432: UserWarning: Glyph 21830 (\\N{CJK UNIFIED IDEOGRAPH-5546}) missing from current font.\n",
      "  fig.savefig(plot_fname, dpi=250)\n",
      "D:\\code\\env\\anaconda\\envs\\mhy-yolo\\Lib\\site-packages\\ultralytics\\utils\\metrics.py:432: UserWarning: Glyph 20154 (\\N{CJK UNIFIED IDEOGRAPH-4EBA}) missing from current font.\n",
      "  fig.savefig(plot_fname, dpi=250)\n",
      "D:\\code\\env\\anaconda\\envs\\mhy-yolo\\Lib\\site-packages\\ultralytics\\utils\\metrics.py:432: UserWarning: Glyph 38376 (\\N{CJK UNIFIED IDEOGRAPH-95E8}) missing from current font.\n",
      "  fig.savefig(plot_fname, dpi=250)\n",
      "D:\\code\\env\\anaconda\\envs\\mhy-yolo\\Lib\\site-packages\\ultralytics\\utils\\metrics.py:432: UserWarning: Glyph 25161 (\\N{CJK UNIFIED IDEOGRAPH-6249}) missing from current font.\n",
      "  fig.savefig(plot_fname, dpi=250)\n",
      "D:\\code\\env\\anaconda\\envs\\mhy-yolo\\Lib\\site-packages\\ultralytics\\utils\\metrics.py:432: UserWarning: Glyph 31105 (\\N{CJK UNIFIED IDEOGRAPH-7981}) missing from current font.\n",
      "  fig.savefig(plot_fname, dpi=250)\n",
      "D:\\code\\env\\anaconda\\envs\\mhy-yolo\\Lib\\site-packages\\ultralytics\\utils\\metrics.py:432: UserWarning: Glyph 38381 (\\N{CJK UNIFIED IDEOGRAPH-95ED}) missing from current font.\n",
      "  fig.savefig(plot_fname, dpi=250)\n",
      "D:\\code\\env\\anaconda\\envs\\mhy-yolo\\Lib\\site-packages\\ultralytics\\utils\\metrics.py:432: UserWarning: Glyph 36130 (\\N{CJK UNIFIED IDEOGRAPH-8D22}) missing from current font.\n",
      "  fig.savefig(plot_fname, dpi=250)\n",
      "D:\\code\\env\\anaconda\\envs\\mhy-yolo\\Lib\\site-packages\\ultralytics\\utils\\metrics.py:432: UserWarning: Glyph 23500 (\\N{CJK UNIFIED IDEOGRAPH-5BCC}) missing from current font.\n",
      "  fig.savefig(plot_fname, dpi=250)\n",
      "D:\\code\\env\\anaconda\\envs\\mhy-yolo\\Lib\\site-packages\\ultralytics\\utils\\metrics.py:432: UserWarning: Glyph 39037 (\\N{CJK UNIFIED IDEOGRAPH-987D}) missing from current font.\n",
      "  fig.savefig(plot_fname, dpi=250)\n",
      "D:\\code\\env\\anaconda\\envs\\mhy-yolo\\Lib\\site-packages\\ultralytics\\utils\\metrics.py:432: UserWarning: Glyph 22266 (\\N{CJK UNIFIED IDEOGRAPH-56FA}) missing from current font.\n",
      "  fig.savefig(plot_fname, dpi=250)\n",
      "D:\\code\\env\\anaconda\\envs\\mhy-yolo\\Lib\\site-packages\\ultralytics\\utils\\metrics.py:432: UserWarning: Glyph 30340 (\\N{CJK UNIFIED IDEOGRAPH-7684}) missing from current font.\n",
      "  fig.savefig(plot_fname, dpi=250)\n",
      "D:\\code\\env\\anaconda\\envs\\mhy-yolo\\Lib\\site-packages\\ultralytics\\utils\\metrics.py:432: UserWarning: Glyph 38556 (\\N{CJK UNIFIED IDEOGRAPH-969C}) missing from current font.\n",
      "  fig.savefig(plot_fname, dpi=250)\n",
      "D:\\code\\env\\anaconda\\envs\\mhy-yolo\\Lib\\site-packages\\ultralytics\\utils\\metrics.py:432: UserWarning: Glyph 30861 (\\N{CJK UNIFIED IDEOGRAPH-788D}) missing from current font.\n",
      "  fig.savefig(plot_fname, dpi=250)\n",
      "D:\\code\\env\\anaconda\\envs\\mhy-yolo\\Lib\\site-packages\\ultralytics\\utils\\metrics.py:432: UserWarning: Glyph 29289 (\\N{CJK UNIFIED IDEOGRAPH-7269}) missing from current font.\n",
      "  fig.savefig(plot_fname, dpi=250)\n",
      "D:\\code\\env\\anaconda\\envs\\mhy-yolo\\Lib\\site-packages\\ultralytics\\utils\\metrics.py:432: UserWarning: Glyph 27531 (\\N{CJK UNIFIED IDEOGRAPH-6B8B}) missing from current font.\n",
      "  fig.savefig(plot_fname, dpi=250)\n",
      "D:\\code\\env\\anaconda\\envs\\mhy-yolo\\Lib\\site-packages\\ultralytics\\utils\\metrics.py:432: UserWarning: Glyph 30772 (\\N{CJK UNIFIED IDEOGRAPH-7834}) missing from current font.\n",
      "  fig.savefig(plot_fname, dpi=250)\n",
      "D:\\code\\env\\anaconda\\envs\\mhy-yolo\\Lib\\site-packages\\ultralytics\\utils\\metrics.py:432: UserWarning: Glyph 21452 (\\N{CJK UNIFIED IDEOGRAPH-53CC}) missing from current font.\n",
      "  fig.savefig(plot_fname, dpi=250)\n",
      "D:\\code\\env\\anaconda\\envs\\mhy-yolo\\Lib\\site-packages\\ultralytics\\utils\\metrics.py:432: UserWarning: Glyph 37325 (\\N{CJK UNIFIED IDEOGRAPH-91CD}) missing from current font.\n",
      "  fig.savefig(plot_fname, dpi=250)\n",
      "D:\\code\\env\\anaconda\\envs\\mhy-yolo\\Lib\\site-packages\\ultralytics\\utils\\metrics.py:432: UserWarning: Glyph 21892 (\\N{CJK UNIFIED IDEOGRAPH-5584}) missing from current font.\n",
      "  fig.savefig(plot_fname, dpi=250)\n",
      "D:\\code\\env\\anaconda\\envs\\mhy-yolo\\Lib\\site-packages\\ultralytics\\utils\\metrics.py:432: UserWarning: Glyph 25112 (\\N{CJK UNIFIED IDEOGRAPH-6218}) missing from current font.\n",
      "  fig.savefig(plot_fname, dpi=250)\n",
      "D:\\code\\env\\anaconda\\envs\\mhy-yolo\\Lib\\site-packages\\ultralytics\\utils\\metrics.py:432: UserWarning: Glyph 24320 (\\N{CJK UNIFIED IDEOGRAPH-5F00}) missing from current font.\n",
      "  fig.savefig(plot_fname, dpi=250)\n",
      "D:\\code\\env\\anaconda\\envs\\mhy-yolo\\Lib\\site-packages\\ultralytics\\utils\\metrics.py:432: UserWarning: Glyph 21551 (\\N{CJK UNIFIED IDEOGRAPH-542F}) missing from current font.\n",
      "  fig.savefig(plot_fname, dpi=250)\n",
      "D:\\code\\env\\anaconda\\envs\\mhy-yolo\\Lib\\site-packages\\ultralytics\\utils\\metrics.py:432: UserWarning: Glyph 23433 (\\N{CJK UNIFIED IDEOGRAPH-5B89}) missing from current font.\n",
      "  fig.savefig(plot_fname, dpi=250)\n",
      "D:\\code\\env\\anaconda\\envs\\mhy-yolo\\Lib\\site-packages\\ultralytics\\utils\\metrics.py:432: UserWarning: Glyph 20840 (\\N{CJK UNIFIED IDEOGRAPH-5168}) missing from current font.\n",
      "  fig.savefig(plot_fname, dpi=250)\n",
      "D:\\code\\env\\anaconda\\envs\\mhy-yolo\\Lib\\site-packages\\ultralytics\\utils\\metrics.py:432: UserWarning: Glyph 21306 (\\N{CJK UNIFIED IDEOGRAPH-533A}) missing from current font.\n",
      "  fig.savefig(plot_fname, dpi=250)\n",
      "D:\\code\\env\\anaconda\\envs\\mhy-yolo\\Lib\\site-packages\\ultralytics\\utils\\metrics.py:432: UserWarning: Glyph 20241 (\\N{CJK UNIFIED IDEOGRAPH-4F11}) missing from current font.\n",
      "  fig.savefig(plot_fname, dpi=250)\n",
      "D:\\code\\env\\anaconda\\envs\\mhy-yolo\\Lib\\site-packages\\ultralytics\\utils\\metrics.py:432: UserWarning: Glyph 24687 (\\N{CJK UNIFIED IDEOGRAPH-606F}) missing from current font.\n",
      "  fig.savefig(plot_fname, dpi=250)\n",
      "D:\\code\\env\\anaconda\\envs\\mhy-yolo\\Lib\\site-packages\\ultralytics\\utils\\metrics.py:432: UserWarning: Glyph 22833 (\\N{CJK UNIFIED IDEOGRAPH-5931}) missing from current font.\n",
      "  fig.savefig(plot_fname, dpi=250)\n",
      "D:\\code\\env\\anaconda\\envs\\mhy-yolo\\Lib\\site-packages\\ultralytics\\utils\\metrics.py:432: UserWarning: Glyph 32852 (\\N{CJK UNIFIED IDEOGRAPH-8054}) missing from current font.\n",
      "  fig.savefig(plot_fname, dpi=250)\n",
      "D:\\code\\env\\anaconda\\envs\\mhy-yolo\\Lib\\site-packages\\ultralytics\\utils\\metrics.py:432: UserWarning: Glyph 20928 (\\N{CJK UNIFIED IDEOGRAPH-51C0}) missing from current font.\n",
      "  fig.savefig(plot_fname, dpi=250)\n",
      "D:\\code\\env\\anaconda\\envs\\mhy-yolo\\Lib\\site-packages\\ultralytics\\utils\\metrics.py:432: UserWarning: Glyph 23460 (\\N{CJK UNIFIED IDEOGRAPH-5BA4}) missing from current font.\n",
      "  fig.savefig(plot_fname, dpi=250)\n",
      "D:\\code\\env\\anaconda\\envs\\mhy-yolo\\Lib\\site-packages\\ultralytics\\utils\\metrics.py:432: UserWarning: Glyph 20256 (\\N{CJK UNIFIED IDEOGRAPH-4F20}) missing from current font.\n",
      "  fig.savefig(plot_fname, dpi=250)\n",
      "D:\\code\\env\\anaconda\\envs\\mhy-yolo\\Lib\\site-packages\\ultralytics\\utils\\metrics.py:432: UserWarning: Glyph 36865 (\\N{CJK UNIFIED IDEOGRAPH-9001}) missing from current font.\n",
      "  fig.savefig(plot_fname, dpi=250)\n",
      "D:\\code\\env\\anaconda\\envs\\mhy-yolo\\Lib\\site-packages\\ultralytics\\utils\\metrics.py:432: UserWarning: Glyph 30495 (\\N{CJK UNIFIED IDEOGRAPH-771F}) missing from current font.\n",
      "  fig.savefig(plot_fname, dpi=250)\n",
      "D:\\code\\env\\anaconda\\envs\\mhy-yolo\\Lib\\site-packages\\ultralytics\\utils\\metrics.py:432: UserWarning: Glyph 30456 (\\N{CJK UNIFIED IDEOGRAPH-76F8}) missing from current font.\n",
      "  fig.savefig(plot_fname, dpi=250)\n",
      "D:\\code\\env\\anaconda\\envs\\mhy-yolo\\Lib\\site-packages\\ultralytics\\utils\\metrics.py:432: UserWarning: Glyph 36890 (\\N{CJK UNIFIED IDEOGRAPH-901A}) missing from current font.\n",
      "  fig.savefig(plot_fname, dpi=250)\n",
      "D:\\code\\env\\anaconda\\envs\\mhy-yolo\\Lib\\site-packages\\ultralytics\\utils\\metrics.py:432: UserWarning: Glyph 36947 (\\N{CJK UNIFIED IDEOGRAPH-9053}) missing from current font.\n",
      "  fig.savefig(plot_fname, dpi=250)\n",
      "D:\\code\\env\\anaconda\\envs\\mhy-yolo\\Lib\\site-packages\\ultralytics\\utils\\metrics.py:432: UserWarning: Glyph 24040 (\\N{CJK UNIFIED IDEOGRAPH-5DE8}) missing from current font.\n",
      "  fig.savefig(plot_fname, dpi=250)\n",
      "D:\\code\\env\\anaconda\\envs\\mhy-yolo\\Lib\\site-packages\\ultralytics\\utils\\metrics.py:432: UserWarning: Glyph 20861 (\\N{CJK UNIFIED IDEOGRAPH-517D}) missing from current font.\n",
      "  fig.savefig(plot_fname, dpi=250)\n",
      "D:\\code\\env\\anaconda\\envs\\mhy-yolo\\Lib\\site-packages\\ultralytics\\utils\\metrics.py:432: UserWarning: Glyph 22855 (\\N{CJK UNIFIED IDEOGRAPH-5947}) missing from current font.\n",
      "  fig.savefig(plot_fname, dpi=250)\n",
      "D:\\code\\env\\anaconda\\envs\\mhy-yolo\\Lib\\site-packages\\ultralytics\\utils\\metrics.py:432: UserWarning: Glyph 36135 (\\N{CJK UNIFIED IDEOGRAPH-8D27}) missing from current font.\n",
      "  fig.savefig(plot_fname, dpi=250)\n",
      "D:\\code\\env\\anaconda\\envs\\mhy-yolo\\Lib\\site-packages\\ultralytics\\utils\\metrics.py:432: UserWarning: Glyph 30450 (\\N{CJK UNIFIED IDEOGRAPH-76F2}) missing from current font.\n",
      "  fig.savefig(plot_fname, dpi=250)\n",
      "D:\\code\\env\\anaconda\\envs\\mhy-yolo\\Lib\\site-packages\\ultralytics\\utils\\metrics.py:432: UserWarning: Glyph 30418 (\\N{CJK UNIFIED IDEOGRAPH-76D2}) missing from current font.\n",
      "  fig.savefig(plot_fname, dpi=250)\n",
      "D:\\code\\env\\anaconda\\envs\\mhy-yolo\\Lib\\site-packages\\ultralytics\\utils\\metrics.py:432: UserWarning: Glyph 22495 (\\N{CJK UNIFIED IDEOGRAPH-57DF}) missing from current font.\n",
      "  fig.savefig(plot_fname, dpi=250)\n",
      "D:\\code\\env\\anaconda\\envs\\mhy-yolo\\Lib\\site-packages\\ultralytics\\utils\\metrics.py:432: UserWarning: Glyph 19981 (\\N{CJK UNIFIED IDEOGRAPH-4E0D}) missing from current font.\n",
      "  fig.savefig(plot_fname, dpi=250)\n",
      "D:\\code\\env\\anaconda\\envs\\mhy-yolo\\Lib\\site-packages\\ultralytics\\utils\\metrics.py:432: UserWarning: Glyph 23452 (\\N{CJK UNIFIED IDEOGRAPH-5B9C}) missing from current font.\n",
      "  fig.savefig(plot_fname, dpi=250)\n",
      "D:\\code\\env\\anaconda\\envs\\mhy-yolo\\Lib\\site-packages\\ultralytics\\utils\\metrics.py:432: UserWarning: Glyph 20037 (\\N{CJK UNIFIED IDEOGRAPH-4E45}) missing from current font.\n",
      "  fig.savefig(plot_fname, dpi=250)\n",
      "D:\\code\\env\\anaconda\\envs\\mhy-yolo\\Lib\\site-packages\\ultralytics\\utils\\metrics.py:432: UserWarning: Glyph 30041 (\\N{CJK UNIFIED IDEOGRAPH-7559}) missing from current font.\n",
      "  fig.savefig(plot_fname, dpi=250)\n",
      "D:\\code\\env\\anaconda\\envs\\mhy-yolo\\Lib\\site-packages\\ultralytics\\utils\\metrics.py:432: UserWarning: Glyph 24618 (\\N{CJK UNIFIED IDEOGRAPH-602A}) missing from current font.\n",
      "  fig.savefig(plot_fname, dpi=250)\n",
      "D:\\code\\env\\anaconda\\envs\\mhy-yolo\\Lib\\site-packages\\ultralytics\\utils\\metrics.py:432: UserWarning: Glyph 20390 (\\N{CJK UNIFIED IDEOGRAPH-4FA6}) missing from current font.\n",
      "  fig.savefig(plot_fname, dpi=250)\n",
      "D:\\code\\env\\anaconda\\envs\\mhy-yolo\\Lib\\site-packages\\ultralytics\\utils\\metrics.py:432: UserWarning: Glyph 25506 (\\N{CJK UNIFIED IDEOGRAPH-63A2}) missing from current font.\n",
      "  fig.savefig(plot_fname, dpi=250)\n",
      "D:\\code\\env\\anaconda\\envs\\mhy-yolo\\Lib\\site-packages\\ultralytics\\utils\\metrics.py:432: UserWarning: Glyph 27714 (\\N{CJK UNIFIED IDEOGRAPH-6C42}) missing from current font.\n",
      "  fig.savefig(plot_fname, dpi=250)\n",
      "D:\\code\\env\\anaconda\\envs\\mhy-yolo\\Lib\\site-packages\\ultralytics\\utils\\metrics.py:432: UserWarning: Glyph 25937 (\\N{CJK UNIFIED IDEOGRAPH-6551}) missing from current font.\n",
      "  fig.savefig(plot_fname, dpi=250)\n",
      "D:\\code\\env\\anaconda\\envs\\mhy-yolo\\Lib\\site-packages\\ultralytics\\utils\\metrics.py:432: UserWarning: Glyph 20449 (\\N{CJK UNIFIED IDEOGRAPH-4FE1}) missing from current font.\n",
      "  fig.savefig(plot_fname, dpi=250)\n",
      "D:\\code\\env\\anaconda\\envs\\mhy-yolo\\Lib\\site-packages\\ultralytics\\utils\\metrics.py:432: UserWarning: Glyph 21495 (\\N{CJK UNIFIED IDEOGRAPH-53F7}) missing from current font.\n",
      "  fig.savefig(plot_fname, dpi=250)\n",
      "D:\\code\\env\\anaconda\\envs\\mhy-yolo\\Lib\\site-packages\\ultralytics\\utils\\metrics.py:432: UserWarning: Glyph 21327 (\\N{CJK UNIFIED IDEOGRAPH-534F}) missing from current font.\n",
      "  fig.savefig(plot_fname, dpi=250)\n",
      "D:\\code\\env\\anaconda\\envs\\mhy-yolo\\Lib\\site-packages\\ultralytics\\utils\\metrics.py:432: UserWarning: Glyph 20250 (\\N{CJK UNIFIED IDEOGRAPH-4F1A}) missing from current font.\n",
      "  fig.savefig(plot_fname, dpi=250)\n",
      "D:\\code\\env\\anaconda\\envs\\mhy-yolo\\Lib\\site-packages\\ultralytics\\utils\\metrics.py:432: UserWarning: Glyph 31449 (\\N{CJK UNIFIED IDEOGRAPH-7AD9}) missing from current font.\n",
      "  fig.savefig(plot_fname, dpi=250)\n",
      "D:\\code\\env\\anaconda\\envs\\mhy-yolo\\Lib\\site-packages\\ultralytics\\utils\\metrics.py:432: UserWarning: Glyph 31934 (\\N{CJK UNIFIED IDEOGRAPH-7CBE}) missing from current font.\n",
      "  fig.savefig(plot_fname, dpi=250)\n",
      "D:\\code\\env\\anaconda\\envs\\mhy-yolo\\Lib\\site-packages\\ultralytics\\utils\\metrics.py:432: UserWarning: Glyph 38160 (\\N{CJK UNIFIED IDEOGRAPH-9510}) missing from current font.\n",
      "  fig.savefig(plot_fname, dpi=250)\n",
      "D:\\code\\env\\anaconda\\envs\\mhy-yolo\\Lib\\site-packages\\ultralytics\\utils\\metrics.py:432: UserWarning: Glyph 21161 (\\N{CJK UNIFIED IDEOGRAPH-52A9}) missing from current font.\n",
      "  fig.savefig(plot_fname, dpi=250)\n",
      "D:\\code\\env\\anaconda\\envs\\mhy-yolo\\Lib\\site-packages\\ultralytics\\utils\\metrics.py:432: UserWarning: Glyph 25163 (\\N{CJK UNIFIED IDEOGRAPH-624B}) missing from current font.\n",
      "  fig.savefig(plot_fname, dpi=250)\n",
      "D:\\code\\env\\anaconda\\envs\\mhy-yolo\\Lib\\site-packages\\ultralytics\\utils\\metrics.py:432: UserWarning: Glyph 27835 (\\N{CJK UNIFIED IDEOGRAPH-6CBB}) missing from current font.\n",
      "  fig.savefig(plot_fname, dpi=250)\n",
      "D:\\code\\env\\anaconda\\envs\\mhy-yolo\\Lib\\site-packages\\ultralytics\\utils\\metrics.py:432: UserWarning: Glyph 23448 (\\N{CJK UNIFIED IDEOGRAPH-5B98}) missing from current font.\n",
      "  fig.savefig(plot_fname, dpi=250)\n",
      "D:\\code\\env\\anaconda\\envs\\mhy-yolo\\Lib\\site-packages\\ultralytics\\utils\\metrics.py:432: UserWarning: Glyph 23567 (\\N{CJK UNIFIED IDEOGRAPH-5C0F}) missing from current font.\n",
      "  fig.savefig(plot_fname, dpi=250)\n",
      "D:\\code\\env\\anaconda\\envs\\mhy-yolo\\Lib\\site-packages\\ultralytics\\utils\\metrics.py:432: UserWarning: Glyph 38431 (\\N{CJK UNIFIED IDEOGRAPH-961F}) missing from current font.\n",
      "  fig.savefig(plot_fname, dpi=250)\n",
      "D:\\code\\env\\anaconda\\envs\\mhy-yolo\\Lib\\site-packages\\ultralytics\\utils\\metrics.py:432: UserWarning: Glyph 26377 (\\N{CJK UNIFIED IDEOGRAPH-6709}) missing from current font.\n",
      "  fig.savefig(plot_fname, dpi=250)\n",
      "D:\\code\\env\\anaconda\\envs\\mhy-yolo\\Lib\\site-packages\\ultralytics\\utils\\metrics.py:432: UserWarning: Glyph 20607 (\\N{CJK UNIFIED IDEOGRAPH-507F}) missing from current font.\n",
      "  fig.savefig(plot_fname, dpi=250)\n",
      "D:\\code\\env\\anaconda\\envs\\mhy-yolo\\Lib\\site-packages\\ultralytics\\utils\\metrics.py:432: UserWarning: Glyph 39301 (\\N{CJK UNIFIED IDEOGRAPH-9985}) missing from current font.\n",
      "  fig.savefig(plot_fname, dpi=250)\n",
      "D:\\code\\env\\anaconda\\envs\\mhy-yolo\\Lib\\site-packages\\ultralytics\\utils\\metrics.py:432: UserWarning: Glyph 39292 (\\N{CJK UNIFIED IDEOGRAPH-997C}) missing from current font.\n",
      "  fig.savefig(plot_fname, dpi=250)\n",
      "D:\\code\\env\\anaconda\\envs\\mhy-yolo\\Lib\\site-packages\\ultralytics\\utils\\metrics.py:432: UserWarning: Glyph 22825 (\\N{CJK UNIFIED IDEOGRAPH-5929}) missing from current font.\n",
      "  fig.savefig(plot_fname, dpi=250)\n",
      "D:\\code\\env\\anaconda\\envs\\mhy-yolo\\Lib\\site-packages\\ultralytics\\utils\\metrics.py:432: UserWarning: Glyph 38477 (\\N{CJK UNIFIED IDEOGRAPH-964D}) missing from current font.\n",
      "  fig.savefig(plot_fname, dpi=250)\n",
      "D:\\code\\env\\anaconda\\envs\\mhy-yolo\\Lib\\site-packages\\ultralytics\\utils\\metrics.py:432: UserWarning: Glyph 24576 (\\N{CJK UNIFIED IDEOGRAPH-6000}) missing from current font.\n",
      "  fig.savefig(plot_fname, dpi=250)\n",
      "D:\\code\\env\\anaconda\\envs\\mhy-yolo\\Lib\\site-packages\\ultralytics\\utils\\metrics.py:432: UserWarning: Glyph 26031 (\\N{CJK UNIFIED IDEOGRAPH-65AF}) missing from current font.\n",
      "  fig.savefig(plot_fname, dpi=250)\n",
      "D:\\code\\env\\anaconda\\envs\\mhy-yolo\\Lib\\site-packages\\ultralytics\\utils\\metrics.py:432: UserWarning: Glyph 22612 (\\N{CJK UNIFIED IDEOGRAPH-5854}) missing from current font.\n",
      "  fig.savefig(plot_fname, dpi=250)\n",
      "D:\\code\\env\\anaconda\\envs\\mhy-yolo\\Lib\\site-packages\\ultralytics\\utils\\metrics.py:432: UserWarning: Glyph 23398 (\\N{CJK UNIFIED IDEOGRAPH-5B66}) missing from current font.\n",
      "  fig.savefig(plot_fname, dpi=250)\n",
      "D:\\code\\env\\anaconda\\envs\\mhy-yolo\\Lib\\site-packages\\ultralytics\\utils\\metrics.py:432: UserWarning: Glyph 27963 (\\N{CJK UNIFIED IDEOGRAPH-6D3B}) missing from current font.\n",
      "  fig.savefig(plot_fname, dpi=250)\n",
      "D:\\code\\env\\anaconda\\envs\\mhy-yolo\\Lib\\site-packages\\ultralytics\\utils\\metrics.py:432: UserWarning: Glyph 32467 (\\N{CJK UNIFIED IDEOGRAPH-7ED3}) missing from current font.\n",
      "  fig.savefig(plot_fname, dpi=250)\n",
      "D:\\code\\env\\anaconda\\envs\\mhy-yolo\\Lib\\site-packages\\ultralytics\\utils\\metrics.py:432: UserWarning: Glyph 26230 (\\N{CJK UNIFIED IDEOGRAPH-6676}) missing from current font.\n",
      "  fig.savefig(plot_fname, dpi=250)\n",
      "D:\\code\\env\\anaconda\\envs\\mhy-yolo\\Lib\\site-packages\\ultralytics\\utils\\metrics.py:432: UserWarning: Glyph 23432 (\\N{CJK UNIFIED IDEOGRAPH-5B88}) missing from current font.\n",
      "  fig.savefig(plot_fname, dpi=250)\n",
      "D:\\code\\env\\anaconda\\envs\\mhy-yolo\\Lib\\site-packages\\ultralytics\\utils\\metrics.py:432: UserWarning: Glyph 35010 (\\N{CJK UNIFIED IDEOGRAPH-88C2}) missing from current font.\n",
      "  fig.savefig(plot_fname, dpi=250)\n",
      "D:\\code\\env\\anaconda\\envs\\mhy-yolo\\Lib\\site-packages\\ultralytics\\utils\\metrics.py:432: UserWarning: Glyph 38553 (\\N{CJK UNIFIED IDEOGRAPH-9699}) missing from current font.\n",
      "  fig.savefig(plot_fname, dpi=250)\n",
      "D:\\code\\env\\anaconda\\envs\\mhy-yolo\\Lib\\site-packages\\ultralytics\\utils\\metrics.py:432: UserWarning: Glyph 32039 (\\N{CJK UNIFIED IDEOGRAPH-7D27}) missing from current font.\n",
      "  fig.savefig(plot_fname, dpi=250)\n",
      "D:\\code\\env\\anaconda\\envs\\mhy-yolo\\Lib\\site-packages\\ultralytics\\utils\\metrics.py:432: UserWarning: Glyph 24613 (\\N{CJK UNIFIED IDEOGRAPH-6025}) missing from current font.\n",
      "  fig.savefig(plot_fname, dpi=250)\n",
      "D:\\code\\env\\anaconda\\envs\\mhy-yolo\\Lib\\site-packages\\ultralytics\\utils\\metrics.py:432: UserWarning: Glyph 25764 (\\N{CJK UNIFIED IDEOGRAPH-64A4}) missing from current font.\n",
      "  fig.savefig(plot_fname, dpi=250)\n",
      "D:\\code\\env\\anaconda\\envs\\mhy-yolo\\Lib\\site-packages\\ultralytics\\utils\\metrics.py:432: UserWarning: Glyph 31163 (\\N{CJK UNIFIED IDEOGRAPH-79BB}) missing from current font.\n",
      "  fig.savefig(plot_fname, dpi=250)\n",
      "D:\\code\\env\\anaconda\\envs\\mhy-yolo\\Lib\\site-packages\\ultralytics\\utils\\metrics.py:432: UserWarning: Glyph 38450 (\\N{CJK UNIFIED IDEOGRAPH-9632}) missing from current font.\n",
      "  fig.savefig(plot_fname, dpi=250)\n",
      "D:\\code\\env\\anaconda\\envs\\mhy-yolo\\Lib\\site-packages\\ultralytics\\utils\\metrics.py:432: UserWarning: Glyph 21355 (\\N{CJK UNIFIED IDEOGRAPH-536B}) missing from current font.\n",
      "  fig.savefig(plot_fname, dpi=250)\n",
      "D:\\code\\env\\anaconda\\envs\\mhy-yolo\\Lib\\site-packages\\ultralytics\\utils\\metrics.py:432: UserWarning: Glyph 20891 (\\N{CJK UNIFIED IDEOGRAPH-519B}) missing from current font.\n",
      "  fig.savefig(plot_fname, dpi=250)\n",
      "D:\\code\\env\\anaconda\\envs\\mhy-yolo\\Lib\\site-packages\\ultralytics\\utils\\metrics.py:432: UserWarning: Glyph 21518 (\\N{CJK UNIFIED IDEOGRAPH-540E}) missing from current font.\n",
      "  fig.savefig(plot_fname, dpi=250)\n",
      "D:\\code\\env\\anaconda\\envs\\mhy-yolo\\Lib\\site-packages\\ultralytics\\utils\\metrics.py:432: UserWarning: Glyph 21220 (\\N{CJK UNIFIED IDEOGRAPH-52E4}) missing from current font.\n",
      "  fig.savefig(plot_fname, dpi=250)\n",
      "D:\\code\\env\\anaconda\\envs\\mhy-yolo\\Lib\\site-packages\\ultralytics\\utils\\metrics.py:432: UserWarning: Glyph 29579 (\\N{CJK UNIFIED IDEOGRAPH-738B}) missing from current font.\n",
      "  fig.savefig(plot_fname, dpi=250)\n",
      "D:\\code\\env\\anaconda\\envs\\mhy-yolo\\Lib\\site-packages\\ultralytics\\utils\\metrics.py:432: UserWarning: Glyph 29260 (\\N{CJK UNIFIED IDEOGRAPH-724C}) missing from current font.\n",
      "  fig.savefig(plot_fname, dpi=250)\n",
      "D:\\code\\env\\anaconda\\envs\\mhy-yolo\\Lib\\site-packages\\ultralytics\\utils\\metrics.py:432: UserWarning: Glyph 26410 (\\N{CJK UNIFIED IDEOGRAPH-672A}) missing from current font.\n",
      "  fig.savefig(plot_fname, dpi=250)\n",
      "D:\\code\\env\\anaconda\\envs\\mhy-yolo\\Lib\\site-packages\\ultralytics\\utils\\metrics.py:432: UserWarning: Glyph 30693 (\\N{CJK UNIFIED IDEOGRAPH-77E5}) missing from current font.\n",
      "  fig.savefig(plot_fname, dpi=250)\n",
      "D:\\code\\env\\anaconda\\envs\\mhy-yolo\\Lib\\site-packages\\ultralytics\\utils\\metrics.py:432: UserWarning: Glyph 29983 (\\N{CJK UNIFIED IDEOGRAPH-751F}) missing from current font.\n",
      "  fig.savefig(plot_fname, dpi=250)\n",
      "D:\\code\\env\\anaconda\\envs\\mhy-yolo\\Lib\\site-packages\\ultralytics\\utils\\metrics.py:432: UserWarning: Glyph 38646 (\\N{CJK UNIFIED IDEOGRAPH-96F6}) missing from current font.\n",
      "  fig.savefig(plot_fname, dpi=250)\n",
      "D:\\code\\env\\anaconda\\envs\\mhy-yolo\\Lib\\site-packages\\ultralytics\\utils\\metrics.py:432: UserWarning: Glyph 38134 (\\N{CJK UNIFIED IDEOGRAPH-94F6}) missing from current font.\n",
      "  fig.savefig(plot_fname, dpi=250)\n",
      "D:\\code\\env\\anaconda\\envs\\mhy-yolo\\Lib\\site-packages\\ultralytics\\utils\\metrics.py:432: UserWarning: Glyph 34892 (\\N{CJK UNIFIED IDEOGRAPH-884C}) missing from current font.\n",
      "  fig.savefig(plot_fname, dpi=250)\n",
      "D:\\code\\env\\anaconda\\envs\\mhy-yolo\\Lib\\site-packages\\ultralytics\\utils\\metrics.py:432: UserWarning: Glyph 25928 (\\N{CJK UNIFIED IDEOGRAPH-6548}) missing from current font.\n",
      "  fig.savefig(plot_fname, dpi=250)\n",
      "D:\\code\\env\\anaconda\\envs\\mhy-yolo\\Lib\\site-packages\\ultralytics\\utils\\metrics.py:432: UserWarning: Glyph 33410 (\\N{CJK UNIFIED IDEOGRAPH-8282}) missing from current font.\n",
      "  fig.savefig(plot_fname, dpi=250)\n",
      "D:\\code\\env\\anaconda\\envs\\mhy-yolo\\Lib\\site-packages\\ultralytics\\utils\\metrics.py:432: UserWarning: Glyph 36164 (\\N{CJK UNIFIED IDEOGRAPH-8D44}) missing from current font.\n",
      "  fig.savefig(plot_fname, dpi=250)\n",
      "D:\\code\\env\\anaconda\\envs\\mhy-yolo\\Lib\\site-packages\\ultralytics\\utils\\metrics.py:432: UserWarning: Glyph 28304 (\\N{CJK UNIFIED IDEOGRAPH-6E90}) missing from current font.\n",
      "  fig.savefig(plot_fname, dpi=250)\n",
      "D:\\code\\env\\anaconda\\envs\\mhy-yolo\\Lib\\site-packages\\ultralytics\\utils\\metrics.py:432: UserWarning: Glyph 22238 (\\N{CJK UNIFIED IDEOGRAPH-56DE}) missing from current font.\n",
      "  fig.savefig(plot_fname, dpi=250)\n",
      "D:\\code\\env\\anaconda\\envs\\mhy-yolo\\Lib\\site-packages\\ultralytics\\utils\\metrics.py:432: UserWarning: Glyph 25910 (\\N{CJK UNIFIED IDEOGRAPH-6536}) missing from current font.\n",
      "  fig.savefig(plot_fname, dpi=250)\n",
      "D:\\code\\env\\anaconda\\envs\\mhy-yolo\\Lib\\site-packages\\ultralytics\\utils\\metrics.py:432: UserWarning: Glyph 32452 (\\N{CJK UNIFIED IDEOGRAPH-7EC4}) missing from current font.\n",
      "  fig.savefig(plot_fname, dpi=250)\n",
      "D:\\code\\env\\anaconda\\envs\\mhy-yolo\\Lib\\site-packages\\ultralytics\\utils\\metrics.py:432: UserWarning: Glyph 25353 (\\N{CJK UNIFIED IDEOGRAPH-6309}) missing from current font.\n",
      "  fig.savefig(plot_fname, dpi=250)\n",
      "D:\\code\\env\\anaconda\\envs\\mhy-yolo\\Lib\\site-packages\\ultralytics\\utils\\metrics.py:432: UserWarning: Glyph 21387 (\\N{CJK UNIFIED IDEOGRAPH-538B}) missing from current font.\n",
      "  fig.savefig(plot_fname, dpi=250)\n",
      "D:\\code\\env\\anaconda\\envs\\mhy-yolo\\Lib\\site-packages\\ultralytics\\utils\\metrics.py:432: UserWarning: Glyph 24335 (\\N{CJK UNIFIED IDEOGRAPH-5F0F}) missing from current font.\n",
      "  fig.savefig(plot_fname, dpi=250)\n",
      "D:\\code\\env\\anaconda\\envs\\mhy-yolo\\Lib\\site-packages\\ultralytics\\utils\\metrics.py:432: UserWarning: Glyph 20851 (\\N{CJK UNIFIED IDEOGRAPH-5173}) missing from current font.\n",
      "  fig.savefig(plot_fname, dpi=250)\n",
      "D:\\code\\env\\anaconda\\envs\\mhy-yolo\\Lib\\site-packages\\ultralytics\\utils\\metrics.py:432: UserWarning: Glyph 24377 (\\N{CJK UNIFIED IDEOGRAPH-5F39}) missing from current font.\n",
      "  fig.savefig(plot_fname, dpi=250)\n",
      "D:\\code\\env\\anaconda\\envs\\mhy-yolo\\Lib\\site-packages\\ultralytics\\utils\\metrics.py:432: UserWarning: Glyph 23556 (\\N{CJK UNIFIED IDEOGRAPH-5C04}) missing from current font.\n",
      "  fig.savefig(plot_fname, dpi=250)\n",
      "D:\\code\\env\\anaconda\\envs\\mhy-yolo\\Lib\\site-packages\\ultralytics\\utils\\metrics.py:432: UserWarning: Glyph 19978 (\\N{CJK UNIFIED IDEOGRAPH-4E0A}) missing from current font.\n",
      "  fig.savefig(plot_fname, dpi=250)\n",
      "D:\\code\\env\\anaconda\\envs\\mhy-yolo\\Lib\\site-packages\\ultralytics\\utils\\metrics.py:432: UserWarning: Glyph 36712 (\\N{CJK UNIFIED IDEOGRAPH-8F68}) missing from current font.\n",
      "  fig.savefig(plot_fname, dpi=250)\n",
      "D:\\code\\env\\anaconda\\envs\\mhy-yolo\\Lib\\site-packages\\ultralytics\\utils\\metrics.py:432: UserWarning: Glyph 21516 (\\N{CJK UNIFIED IDEOGRAPH-540C}) missing from current font.\n",
      "  fig.savefig(plot_fname, dpi=250)\n",
      "D:\\code\\env\\anaconda\\envs\\mhy-yolo\\Lib\\site-packages\\ultralytics\\utils\\metrics.py:432: UserWarning: Glyph 20276 (\\N{CJK UNIFIED IDEOGRAPH-4F34}) missing from current font.\n",
      "  fig.savefig(plot_fname, dpi=250)\n",
      "D:\\code\\env\\anaconda\\envs\\mhy-yolo\\Lib\\site-packages\\ultralytics\\utils\\metrics.py:432: UserWarning: Glyph 19979 (\\N{CJK UNIFIED IDEOGRAPH-4E0B}) missing from current font.\n",
      "  fig.savefig(plot_fname, dpi=250)\n",
      "D:\\code\\env\\anaconda\\envs\\mhy-yolo\\Lib\\site-packages\\ultralytics\\utils\\metrics.py:432: UserWarning: Glyph 24038 (\\N{CJK UNIFIED IDEOGRAPH-5DE6}) missing from current font.\n",
      "  fig.savefig(plot_fname, dpi=250)\n",
      "D:\\code\\env\\anaconda\\envs\\mhy-yolo\\Lib\\site-packages\\ultralytics\\utils\\metrics.py:432: UserWarning: Glyph 21491 (\\N{CJK UNIFIED IDEOGRAPH-53F3}) missing from current font.\n",
      "  fig.savefig(plot_fname, dpi=250)\n",
      "D:\\code\\env\\anaconda\\envs\\mhy-yolo\\Lib\\site-packages\\ultralytics\\utils\\metrics.py:432: UserWarning: Glyph 25151 (\\N{CJK UNIFIED IDEOGRAPH-623F}) missing from current font.\n",
      "  fig.savefig(plot_fname, dpi=250)\n",
      "D:\\code\\env\\anaconda\\envs\\mhy-yolo\\Lib\\site-packages\\ultralytics\\utils\\metrics.py:432: UserWarning: Glyph 23627 (\\N{CJK UNIFIED IDEOGRAPH-5C4B}) missing from current font.\n",
      "  fig.savefig(plot_fname, dpi=250)\n",
      "D:\\code\\env\\anaconda\\envs\\mhy-yolo\\Lib\\site-packages\\ultralytics\\utils\\metrics.py:432: UserWarning: Glyph 39608 (\\N{CJK UNIFIED IDEOGRAPH-9AB8}) missing from current font.\n",
      "  fig.savefig(plot_fname, dpi=250)\n",
      "D:\\code\\env\\anaconda\\envs\\mhy-yolo\\Lib\\site-packages\\ultralytics\\utils\\metrics.py:432: UserWarning: Glyph 25237 (\\N{CJK UNIFIED IDEOGRAPH-6295}) missing from current font.\n",
      "  fig.savefig(plot_fname, dpi=250)\n",
      "D:\\code\\env\\anaconda\\envs\\mhy-yolo\\Lib\\site-packages\\ultralytics\\utils\\metrics.py:432: UserWarning: Glyph 35809 (\\N{CJK UNIFIED IDEOGRAPH-8BE1}) missing from current font.\n",
      "  fig.savefig(plot_fname, dpi=250)\n",
      "D:\\code\\env\\anaconda\\envs\\mhy-yolo\\Lib\\site-packages\\ultralytics\\utils\\metrics.py:432: UserWarning: Glyph 38654 (\\N{CJK UNIFIED IDEOGRAPH-96FE}) missing from current font.\n",
      "  fig.savefig(plot_fname, dpi=250)\n",
      "D:\\code\\env\\anaconda\\envs\\mhy-yolo\\Lib\\site-packages\\ultralytics\\utils\\metrics.py:432: UserWarning: Glyph 38480 (\\N{CJK UNIFIED IDEOGRAPH-9650}) missing from current font.\n",
      "  fig.savefig(plot_fname, dpi=250)\n",
      "D:\\code\\env\\anaconda\\envs\\mhy-yolo\\Lib\\site-packages\\ultralytics\\utils\\metrics.py:432: UserWarning: Glyph 26007 (\\N{CJK UNIFIED IDEOGRAPH-6597}) missing from current font.\n",
      "  fig.savefig(plot_fname, dpi=250)\n",
      "D:\\code\\env\\anaconda\\envs\\mhy-yolo\\Lib\\site-packages\\ultralytics\\utils\\metrics.py:432: UserWarning: Glyph 31354 (\\N{CJK UNIFIED IDEOGRAPH-7A7A}) missing from current font.\n",
      "  fig.savefig(plot_fname, dpi=250)\n",
      "D:\\code\\env\\anaconda\\envs\\mhy-yolo\\Lib\\site-packages\\ultralytics\\utils\\metrics.py:432: UserWarning: Glyph 21307 (\\N{CJK UNIFIED IDEOGRAPH-533B}) missing from current font.\n",
      "  fig.savefig(plot_fname, dpi=250)\n",
      "D:\\code\\env\\anaconda\\envs\\mhy-yolo\\Lib\\site-packages\\ultralytics\\utils\\metrics.py:432: UserWarning: Glyph 33258 (\\N{CJK UNIFIED IDEOGRAPH-81EA}) missing from current font.\n",
      "  fig.savefig(plot_fname, dpi=250)\n",
      "D:\\code\\env\\anaconda\\envs\\mhy-yolo\\Lib\\site-packages\\ultralytics\\utils\\metrics.py:432: UserWarning: Glyph 21160 (\\N{CJK UNIFIED IDEOGRAPH-52A8}) missing from current font.\n",
      "  fig.savefig(plot_fname, dpi=250)\n",
      "D:\\code\\env\\anaconda\\envs\\mhy-yolo\\Lib\\site-packages\\ultralytics\\utils\\metrics.py:432: UserWarning: Glyph 30103 (\\N{CJK UNIFIED IDEOGRAPH-7597}) missing from current font.\n",
      "  fig.savefig(plot_fname, dpi=250)\n",
      "D:\\code\\env\\anaconda\\envs\\mhy-yolo\\Lib\\site-packages\\ultralytics\\utils\\metrics.py:432: UserWarning: Glyph 20179 (\\N{CJK UNIFIED IDEOGRAPH-4ED3}) missing from current font.\n",
      "  fig.savefig(plot_fname, dpi=250)\n",
      "D:\\code\\env\\anaconda\\envs\\mhy-yolo\\Lib\\site-packages\\ultralytics\\utils\\metrics.py:432: UserWarning: Glyph 38505 (\\N{CJK UNIFIED IDEOGRAPH-9669}) missing from current font.\n",
      "  fig.savefig(plot_fname, dpi=250)\n",
      "D:\\code\\env\\anaconda\\envs\\mhy-yolo\\Lib\\site-packages\\ultralytics\\utils\\metrics.py:432: UserWarning: Glyph 30446 (\\N{CJK UNIFIED IDEOGRAPH-76EE}) missing from current font.\n",
      "  fig.savefig(plot_fname, dpi=250)\n",
      "D:\\code\\env\\anaconda\\envs\\mhy-yolo\\Lib\\site-packages\\ultralytics\\utils\\metrics.py:432: UserWarning: Glyph 26631 (\\N{CJK UNIFIED IDEOGRAPH-6807}) missing from current font.\n",
      "  fig.savefig(plot_fname, dpi=250)\n",
      "D:\\code\\env\\anaconda\\envs\\mhy-yolo\\Lib\\site-packages\\ultralytics\\utils\\metrics.py:432: UserWarning: Glyph 30005 (\\N{CJK UNIFIED IDEOGRAPH-7535}) missing from current font.\n",
      "  fig.savefig(plot_fname, dpi=250)\n",
      "D:\\code\\env\\anaconda\\envs\\mhy-yolo\\Lib\\site-packages\\ultralytics\\utils\\metrics.py:432: UserWarning: Glyph 35270 (\\N{CJK UNIFIED IDEOGRAPH-89C6}) missing from current font.\n",
      "  fig.savefig(plot_fname, dpi=250)\n",
      "D:\\code\\env\\anaconda\\envs\\mhy-yolo\\Lib\\site-packages\\ultralytics\\utils\\metrics.py:432: UserWarning: Glyph 24213 (\\N{CJK UNIFIED IDEOGRAPH-5E95}) missing from current font.\n",
      "  fig.savefig(plot_fname, dpi=250)\n",
      "D:\\code\\env\\anaconda\\envs\\mhy-yolo\\Lib\\site-packages\\ultralytics\\utils\\metrics.py:432: UserWarning: Glyph 24231 (\\N{CJK UNIFIED IDEOGRAPH-5EA7}) missing from current font.\n",
      "  fig.savefig(plot_fname, dpi=250)\n",
      "D:\\code\\env\\anaconda\\envs\\mhy-yolo\\Lib\\site-packages\\ultralytics\\utils\\metrics.py:432: UserWarning: Glyph 32511 (\\N{CJK UNIFIED IDEOGRAPH-7EFF}) missing from current font.\n",
      "  fig.savefig(plot_fname, dpi=250)\n",
      "D:\\code\\env\\anaconda\\envs\\mhy-yolo\\Lib\\site-packages\\ultralytics\\utils\\metrics.py:432: UserWarning: Glyph 32418 (\\N{CJK UNIFIED IDEOGRAPH-7EA2}) missing from current font.\n",
      "  fig.savefig(plot_fname, dpi=250)\n",
      "D:\\code\\env\\anaconda\\envs\\mhy-yolo\\Lib\\site-packages\\ultralytics\\utils\\metrics.py:432: UserWarning: Glyph 22823 (\\N{CJK UNIFIED IDEOGRAPH-5927}) missing from current font.\n",
      "  fig.savefig(plot_fname, dpi=250)\n",
      "D:\\code\\env\\anaconda\\envs\\mhy-yolo\\Lib\\site-packages\\ultralytics\\utils\\metrics.py:432: UserWarning: Glyph 24403 (\\N{CJK UNIFIED IDEOGRAPH-5F53}) missing from current font.\n",
      "  fig.savefig(plot_fname, dpi=250)\n",
      "D:\\code\\env\\anaconda\\envs\\mhy-yolo\\Lib\\site-packages\\ultralytics\\utils\\metrics.py:432: UserWarning: Glyph 21069 (\\N{CJK UNIFIED IDEOGRAPH-524D}) missing from current font.\n",
      "  fig.savefig(plot_fname, dpi=250)\n",
      "D:\\code\\env\\anaconda\\envs\\mhy-yolo\\Lib\\site-packages\\ultralytics\\utils\\metrics.py:432: UserWarning: Glyph 30333 (\\N{CJK UNIFIED IDEOGRAPH-767D}) missing from current font.\n",
      "  fig.savefig(plot_fname, dpi=250)\n",
      "D:\\code\\env\\anaconda\\envs\\mhy-yolo\\Lib\\site-packages\\ultralytics\\utils\\metrics.py:432: UserWarning: Glyph 24050 (\\N{CJK UNIFIED IDEOGRAPH-5DF2}) missing from current font.\n",
      "  fig.savefig(plot_fname, dpi=250)\n",
      "D:\\code\\env\\anaconda\\envs\\mhy-yolo\\Lib\\site-packages\\ultralytics\\utils\\metrics.py:432: UserWarning: Glyph 26080 (\\N{CJK UNIFIED IDEOGRAPH-65E0}) missing from current font.\n",
      "  fig.savefig(plot_fname, dpi=250)\n",
      "D:\\code\\env\\anaconda\\envs\\mhy-yolo\\Lib\\site-packages\\ultralytics\\utils\\metrics.py:432: UserWarning: Glyph 27861 (\\N{CJK UNIFIED IDEOGRAPH-6CD5}) missing from current font.\n",
      "  fig.savefig(plot_fname, dpi=250)\n",
      "D:\\code\\env\\anaconda\\envs\\mhy-yolo\\Lib\\site-packages\\ultralytics\\utils\\metrics.py:432: UserWarning: Glyph 36215 (\\N{CJK UNIFIED IDEOGRAPH-8D77}) missing from current font.\n",
      "  fig.savefig(plot_fname, dpi=250)\n",
      "D:\\code\\env\\anaconda\\envs\\mhy-yolo\\Lib\\site-packages\\ultralytics\\utils\\metrics.py:432: UserWarning: Glyph 28857 (\\N{CJK UNIFIED IDEOGRAPH-70B9}) missing from current font.\n",
      "  fig.savefig(plot_fname, dpi=250)\n",
      "D:\\code\\env\\anaconda\\envs\\mhy-yolo\\Lib\\site-packages\\ultralytics\\utils\\metrics.py:432: UserWarning: Glyph 40831 (\\N{CJK UNIFIED IDEOGRAPH-9F7F}) missing from current font.\n",
      "  fig.savefig(plot_fname, dpi=250)\n",
      "D:\\code\\env\\anaconda\\envs\\mhy-yolo\\Lib\\site-packages\\ultralytics\\utils\\metrics.py:432: UserWarning: Glyph 36718 (\\N{CJK UNIFIED IDEOGRAPH-8F6E}) missing from current font.\n",
      "  fig.savefig(plot_fname, dpi=250)\n",
      "D:\\code\\env\\anaconda\\envs\\mhy-yolo\\Lib\\site-packages\\ultralytics\\utils\\metrics.py:432: UserWarning: Glyph 30828 (\\N{CJK UNIFIED IDEOGRAPH-786C}) missing from current font.\n",
      "  fig.savefig(plot_fname, dpi=250)\n",
      "D:\\code\\env\\anaconda\\envs\\mhy-yolo\\Lib\\site-packages\\ultralytics\\utils\\metrics.py:432: UserWarning: Glyph 24065 (\\N{CJK UNIFIED IDEOGRAPH-5E01}) missing from current font.\n",
      "  fig.savefig(plot_fname, dpi=250)\n",
      "D:\\code\\env\\anaconda\\envs\\mhy-yolo\\Lib\\site-packages\\ultralytics\\utils\\metrics.py:432: UserWarning: Glyph 31665 (\\N{CJK UNIFIED IDEOGRAPH-7BB1}) missing from current font.\n",
      "  fig.savefig(plot_fname, dpi=250)\n",
      "D:\\code\\env\\anaconda\\envs\\mhy-yolo\\Lib\\site-packages\\ultralytics\\utils\\metrics.py:432: UserWarning: Glyph 21361 (\\N{CJK UNIFIED IDEOGRAPH-5371}) missing from current font.\n",
      "  fig.savefig(plot_fname, dpi=250)\n",
      "D:\\code\\env\\anaconda\\envs\\mhy-yolo\\Lib\\site-packages\\ultralytics\\utils\\metrics.py:432: UserWarning: Glyph 26426 (\\N{CJK UNIFIED IDEOGRAPH-673A}) missing from current font.\n",
      "  fig.savefig(plot_fname, dpi=250)\n",
      "D:\\code\\env\\anaconda\\envs\\mhy-yolo\\Lib\\site-packages\\ultralytics\\utils\\metrics.py:432: UserWarning: Glyph 19994 (\\N{CJK UNIFIED IDEOGRAPH-4E1A}) missing from current font.\n",
      "  fig.savefig(plot_fname, dpi=250)\n",
      "D:\\code\\env\\anaconda\\envs\\mhy-yolo\\Lib\\site-packages\\ultralytics\\utils\\metrics.py:432: UserWarning: Glyph 32489 (\\N{CJK UNIFIED IDEOGRAPH-7EE9}) missing from current font.\n",
      "  fig.savefig(plot_fname, dpi=250)\n",
      "D:\\code\\env\\anaconda\\envs\\mhy-yolo\\Lib\\site-packages\\ultralytics\\utils\\metrics.py:432: UserWarning: Glyph 32771 (\\N{CJK UNIFIED IDEOGRAPH-8003}) missing from current font.\n",
      "  fig.savefig(plot_fname, dpi=250)\n",
      "D:\\code\\env\\anaconda\\envs\\mhy-yolo\\Lib\\site-packages\\ultralytics\\utils\\metrics.py:432: UserWarning: Glyph 23519 (\\N{CJK UNIFIED IDEOGRAPH-5BDF}) missing from current font.\n",
      "  fig.savefig(plot_fname, dpi=250)\n",
      "D:\\code\\env\\anaconda\\envs\\mhy-yolo\\Lib\\site-packages\\ultralytics\\utils\\metrics.py:432: UserWarning: Glyph 21450 (\\N{CJK UNIFIED IDEOGRAPH-53CA}) missing from current font.\n",
      "  fig.savefig(plot_fname, dpi=250)\n",
      "D:\\code\\env\\anaconda\\envs\\mhy-yolo\\Lib\\site-packages\\ultralytics\\utils\\metrics.py:432: UserWarning: Glyph 26102 (\\N{CJK UNIFIED IDEOGRAPH-65F6}) missing from current font.\n",
      "  fig.savefig(plot_fname, dpi=250)\n",
      "D:\\code\\env\\anaconda\\envs\\mhy-yolo\\Lib\\site-packages\\ultralytics\\utils\\metrics.py:432: UserWarning: Glyph 34917 (\\N{CJK UNIFIED IDEOGRAPH-8865}) missing from current font.\n",
      "  fig.savefig(plot_fname, dpi=250)\n",
      "D:\\code\\env\\anaconda\\envs\\mhy-yolo\\Lib\\site-packages\\ultralytics\\utils\\metrics.py:432: UserWarning: Glyph 32473 (\\N{CJK UNIFIED IDEOGRAPH-7ED9}) missing from current font.\n",
      "  fig.savefig(plot_fname, dpi=250)\n",
      "D:\\code\\env\\anaconda\\envs\\mhy-yolo\\Lib\\site-packages\\ultralytics\\utils\\metrics.py:432: UserWarning: Glyph 25554 (\\N{CJK UNIFIED IDEOGRAPH-63D2}) missing from current font.\n",
      "  fig.savefig(plot_fname, dpi=250)\n",
      "D:\\code\\env\\anaconda\\envs\\mhy-yolo\\Lib\\site-packages\\ultralytics\\utils\\metrics.py:432: UserWarning: Glyph 20214 (\\N{CJK UNIFIED IDEOGRAPH-4EF6}) missing from current font.\n",
      "  fig.savefig(plot_fname, dpi=250)\n",
      "D:\\code\\env\\anaconda\\envs\\mhy-yolo\\Lib\\site-packages\\ultralytics\\utils\\metrics.py:432: UserWarning: Glyph 33719 (\\N{CJK UNIFIED IDEOGRAPH-83B7}) missing from current font.\n",
      "  fig.savefig(plot_fname, dpi=250)\n",
      "D:\\code\\env\\anaconda\\envs\\mhy-yolo\\Lib\\site-packages\\ultralytics\\utils\\metrics.py:432: UserWarning: Glyph 21462 (\\N{CJK UNIFIED IDEOGRAPH-53D6}) missing from current font.\n",
      "  fig.savefig(plot_fname, dpi=250)\n",
      "D:\\code\\env\\anaconda\\envs\\mhy-yolo\\Lib\\site-packages\\ultralytics\\utils\\metrics.py:432: UserWarning: Glyph 25197 (\\N{CJK UNIFIED IDEOGRAPH-626D}) missing from current font.\n",
      "  fig.savefig(plot_fname, dpi=250)\n",
      "D:\\code\\env\\anaconda\\envs\\mhy-yolo\\Lib\\site-packages\\ultralytics\\utils\\metrics.py:432: UserWarning: Glyph 34507 (\\N{CJK UNIFIED IDEOGRAPH-86CB}) missing from current font.\n",
      "  fig.savefig(plot_fname, dpi=250)\n",
      "D:\\code\\env\\anaconda\\envs\\mhy-yolo\\Lib\\site-packages\\ultralytics\\utils\\metrics.py:432: UserWarning: Glyph 21628 (\\N{CJK UNIFIED IDEOGRAPH-547C}) missing from current font.\n",
      "  fig.savefig(plot_fname, dpi=250)\n",
      "D:\\code\\env\\anaconda\\envs\\mhy-yolo\\Lib\\site-packages\\ultralytics\\utils\\metrics.py:432: UserWarning: Glyph 21483 (\\N{CJK UNIFIED IDEOGRAPH-53EB}) missing from current font.\n",
      "  fig.savefig(plot_fname, dpi=250)\n",
      "D:\\code\\env\\anaconda\\envs\\mhy-yolo\\Lib\\site-packages\\ultralytics\\utils\\metrics.py:432: UserWarning: Glyph 22686 (\\N{CJK UNIFIED IDEOGRAPH-589E}) missing from current font.\n",
      "  fig.savefig(plot_fname, dpi=250)\n",
      "D:\\code\\env\\anaconda\\envs\\mhy-yolo\\Lib\\site-packages\\ultralytics\\utils\\metrics.py:432: UserWarning: Glyph 25588 (\\N{CJK UNIFIED IDEOGRAPH-63F4}) missing from current font.\n",
      "  fig.savefig(plot_fname, dpi=250)\n",
      "D:\\code\\env\\anaconda\\envs\\mhy-yolo\\Lib\\site-packages\\ultralytics\\utils\\metrics.py:432: UserWarning: Glyph 31192 (\\N{CJK UNIFIED IDEOGRAPH-79D8}) missing from current font.\n",
      "  fig.savefig(plot_fname, dpi=250)\n",
      "D:\\code\\env\\anaconda\\envs\\mhy-yolo\\Lib\\site-packages\\ultralytics\\utils\\metrics.py:432: UserWarning: Glyph 24452 (\\N{CJK UNIFIED IDEOGRAPH-5F84}) missing from current font.\n",
      "  fig.savefig(plot_fname, dpi=250)\n",
      "D:\\code\\env\\anaconda\\envs\\mhy-yolo\\Lib\\site-packages\\ultralytics\\utils\\metrics.py:432: UserWarning: Glyph 25805 (\\N{CJK UNIFIED IDEOGRAPH-64CD}) missing from current font.\n",
      "  fig.savefig(plot_fname, dpi=250)\n",
      "D:\\code\\env\\anaconda\\envs\\mhy-yolo\\Lib\\site-packages\\ultralytics\\utils\\metrics.py:432: UserWarning: Glyph 32437 (\\N{CJK UNIFIED IDEOGRAPH-7EB5}) missing from current font.\n",
      "  fig.savefig(plot_fname, dpi=250)\n",
      "D:\\code\\env\\anaconda\\envs\\mhy-yolo\\Lib\\site-packages\\ultralytics\\utils\\metrics.py:432: UserWarning: Glyph 26438 (\\N{CJK UNIFIED IDEOGRAPH-6746}) missing from current font.\n",
      "  fig.savefig(plot_fname, dpi=250)\n",
      "D:\\code\\env\\anaconda\\envs\\mhy-yolo\\Lib\\site-packages\\ultralytics\\utils\\metrics.py:432: UserWarning: Glyph 36994 (\\N{CJK UNIFIED IDEOGRAPH-9082}) missing from current font.\n",
      "  fig.savefig(plot_fname, dpi=250)\n",
      "D:\\code\\env\\anaconda\\envs\\mhy-yolo\\Lib\\site-packages\\ultralytics\\utils\\metrics.py:432: UserWarning: Glyph 36869 (\\N{CJK UNIFIED IDEOGRAPH-9005}) missing from current font.\n",
      "  fig.savefig(plot_fname, dpi=250)\n",
      "D:\\code\\env\\anaconda\\envs\\mhy-yolo\\Lib\\site-packages\\ultralytics\\utils\\metrics.py:432: UserWarning: Glyph 20405 (\\N{CJK UNIFIED IDEOGRAPH-4FB5}) missing from current font.\n",
      "  fig.savefig(plot_fname, dpi=250)\n",
      "D:\\code\\env\\anaconda\\envs\\mhy-yolo\\Lib\\site-packages\\ultralytics\\utils\\metrics.py:432: UserWarning: Glyph 34432 (\\N{CJK UNIFIED IDEOGRAPH-8680}) missing from current font.\n",
      "  fig.savefig(plot_fname, dpi=250)\n",
      "D:\\code\\env\\anaconda\\envs\\mhy-yolo\\Lib\\site-packages\\ultralytics\\utils\\metrics.py:432: UserWarning: Glyph 20020 (\\N{CJK UNIFIED IDEOGRAPH-4E34}) missing from current font.\n",
      "  fig.savefig(plot_fname, dpi=250)\n",
      "D:\\code\\env\\anaconda\\envs\\mhy-yolo\\Lib\\site-packages\\ultralytics\\utils\\metrics.py:432: UserWarning: Glyph 25293 (\\N{CJK UNIFIED IDEOGRAPH-62CD}) missing from current font.\n",
      "  fig.savefig(plot_fname, dpi=250)\n",
      "D:\\code\\env\\anaconda\\envs\\mhy-yolo\\Lib\\site-packages\\ultralytics\\utils\\metrics.py:432: UserWarning: Glyph 26723 (\\N{CJK UNIFIED IDEOGRAPH-6863}) missing from current font.\n",
      "  fig.savefig(plot_fname, dpi=250)\n",
      "D:\\code\\env\\anaconda\\envs\\mhy-yolo\\Lib\\site-packages\\ultralytics\\utils\\metrics.py:432: UserWarning: Glyph 20551 (\\N{CJK UNIFIED IDEOGRAPH-5047}) missing from current font.\n",
      "  fig.savefig(plot_fname, dpi=250)\n",
      "D:\\code\\env\\anaconda\\envs\\mhy-yolo\\Lib\\site-packages\\ultralytics\\utils\\metrics.py:432: UserWarning: Glyph 38754 (\\N{CJK UNIFIED IDEOGRAPH-9762}) missing from current font.\n",
      "  fig.savefig(plot_fname, dpi=250)\n",
      "D:\\code\\env\\anaconda\\envs\\mhy-yolo\\Lib\\site-packages\\ultralytics\\utils\\metrics.py:432: UserWarning: Glyph 30740 (\\N{CJK UNIFIED IDEOGRAPH-7814}) missing from current font.\n",
      "  fig.savefig(plot_fname, dpi=250)\n",
      "D:\\code\\env\\anaconda\\envs\\mhy-yolo\\Lib\\site-packages\\ultralytics\\utils\\metrics.py:432: UserWarning: Glyph 31350 (\\N{CJK UNIFIED IDEOGRAPH-7A76}) missing from current font.\n",
      "  fig.savefig(plot_fname, dpi=250)\n",
      "D:\\code\\env\\anaconda\\envs\\mhy-yolo\\Lib\\site-packages\\ultralytics\\utils\\metrics.py:432: UserWarning: Glyph 32773 (\\N{CJK UNIFIED IDEOGRAPH-8005}) missing from current font.\n",
      "  fig.savefig(plot_fname, dpi=250)\n",
      "D:\\code\\env\\anaconda\\envs\\mhy-yolo\\Lib\\site-packages\\ultralytics\\utils\\metrics.py:432: UserWarning: Glyph 40483 (\\N{CJK UNIFIED IDEOGRAPH-9E23}) missing from current font.\n",
      "  fig.savefig(plot_fname, dpi=250)\n",
      "D:\\code\\env\\anaconda\\envs\\mhy-yolo\\Lib\\site-packages\\ultralytics\\utils\\metrics.py:432: UserWarning: Glyph 24509 (\\N{CJK UNIFIED IDEOGRAPH-5FBD}) missing from current font.\n",
      "  fig.savefig(plot_fname, dpi=250)\n",
      "D:\\code\\env\\anaconda\\envs\\mhy-yolo\\Lib\\site-packages\\ultralytics\\utils\\metrics.py:432: UserWarning: Glyph 20652 (\\N{CJK UNIFIED IDEOGRAPH-50AC}) missing from current font.\n",
      "  fig.savefig(plot_fname, dpi=250)\n",
      "D:\\code\\env\\anaconda\\envs\\mhy-yolo\\Lib\\site-packages\\ultralytics\\utils\\metrics.py:432: UserWarning: Glyph 21270 (\\N{CJK UNIFIED IDEOGRAPH-5316}) missing from current font.\n",
      "  fig.savefig(plot_fname, dpi=250)\n",
      "D:\\code\\env\\anaconda\\envs\\mhy-yolo\\Lib\\site-packages\\ultralytics\\utils\\metrics.py:432: UserWarning: Glyph 21058 (\\N{CJK UNIFIED IDEOGRAPH-5242}) missing from current font.\n",
      "  fig.savefig(plot_fname, dpi=250)\n",
      "D:\\code\\env\\anaconda\\envs\\mhy-yolo\\Lib\\site-packages\\ultralytics\\utils\\metrics.py:432: UserWarning: Glyph 35843 (\\N{CJK UNIFIED IDEOGRAPH-8C03}) missing from current font.\n",
      "  fig.savefig(plot_fname, dpi=250)\n",
      "D:\\code\\env\\anaconda\\envs\\mhy-yolo\\Lib\\site-packages\\ultralytics\\utils\\metrics.py:432: UserWarning: Glyph 26597 (\\N{CJK UNIFIED IDEOGRAPH-67E5}) missing from current font.\n",
      "  fig.savefig(plot_fname, dpi=250)\n",
      "D:\\code\\env\\anaconda\\envs\\mhy-yolo\\Lib\\site-packages\\ultralytics\\utils\\metrics.py:432: UserWarning: Glyph 21592 (\\N{CJK UNIFIED IDEOGRAPH-5458}) missing from current font.\n",
      "  fig.savefig(plot_fname, dpi=250)\n",
      "D:\\code\\env\\anaconda\\envs\\mhy-yolo\\Lib\\site-packages\\ultralytics\\utils\\metrics.py:432: UserWarning: Glyph 30423 (\\N{CJK UNIFIED IDEOGRAPH-76D7}) missing from current font.\n",
      "  fig.savefig(plot_fname, dpi=250)\n",
      "D:\\code\\env\\anaconda\\envs\\mhy-yolo\\Lib\\site-packages\\ultralytics\\utils\\metrics.py:432: UserWarning: Glyph 27934 (\\N{CJK UNIFIED IDEOGRAPH-6D1E}) missing from current font.\n",
      "  fig.savefig(plot_fname, dpi=250)\n",
      "D:\\code\\env\\anaconda\\envs\\mhy-yolo\\Lib\\site-packages\\ultralytics\\utils\\metrics.py:432: UserWarning: Glyph 23458 (\\N{CJK UNIFIED IDEOGRAPH-5BA2}) missing from current font.\n",
      "  fig.savefig(plot_fname, dpi=250)\n",
      "D:\\code\\env\\anaconda\\envs\\mhy-yolo\\Lib\\site-packages\\ultralytics\\utils\\metrics.py:432: UserWarning: Glyph 37030 (\\N{CJK UNIFIED IDEOGRAPH-90A6}) missing from current font.\n",
      "  fig.savefig(plot_fname, dpi=250)\n",
      "D:\\code\\env\\anaconda\\envs\\mhy-yolo\\Lib\\site-packages\\ultralytics\\utils\\metrics.py:432: UserWarning: Glyph 24067 (\\N{CJK UNIFIED IDEOGRAPH-5E03}) missing from current font.\n",
      "  fig.savefig(plot_fname, dpi=250)\n",
      "D:\\code\\env\\anaconda\\envs\\mhy-yolo\\Lib\\site-packages\\ultralytics\\utils\\metrics.py:432: UserWarning: Glyph 21830 (\\N{CJK UNIFIED IDEOGRAPH-5546}) missing from current font.\n",
      "  fig.savefig(plot_fname, dpi=250)\n",
      "D:\\code\\env\\anaconda\\envs\\mhy-yolo\\Lib\\site-packages\\ultralytics\\utils\\metrics.py:432: UserWarning: Glyph 20154 (\\N{CJK UNIFIED IDEOGRAPH-4EBA}) missing from current font.\n",
      "  fig.savefig(plot_fname, dpi=250)\n",
      "D:\\code\\env\\anaconda\\envs\\mhy-yolo\\Lib\\site-packages\\ultralytics\\utils\\metrics.py:432: UserWarning: Glyph 38376 (\\N{CJK UNIFIED IDEOGRAPH-95E8}) missing from current font.\n",
      "  fig.savefig(plot_fname, dpi=250)\n",
      "D:\\code\\env\\anaconda\\envs\\mhy-yolo\\Lib\\site-packages\\ultralytics\\utils\\metrics.py:432: UserWarning: Glyph 25161 (\\N{CJK UNIFIED IDEOGRAPH-6249}) missing from current font.\n",
      "  fig.savefig(plot_fname, dpi=250)\n",
      "D:\\code\\env\\anaconda\\envs\\mhy-yolo\\Lib\\site-packages\\ultralytics\\utils\\metrics.py:432: UserWarning: Glyph 31105 (\\N{CJK UNIFIED IDEOGRAPH-7981}) missing from current font.\n",
      "  fig.savefig(plot_fname, dpi=250)\n",
      "D:\\code\\env\\anaconda\\envs\\mhy-yolo\\Lib\\site-packages\\ultralytics\\utils\\metrics.py:432: UserWarning: Glyph 38381 (\\N{CJK UNIFIED IDEOGRAPH-95ED}) missing from current font.\n",
      "  fig.savefig(plot_fname, dpi=250)\n",
      "D:\\code\\env\\anaconda\\envs\\mhy-yolo\\Lib\\site-packages\\ultralytics\\utils\\metrics.py:432: UserWarning: Glyph 36130 (\\N{CJK UNIFIED IDEOGRAPH-8D22}) missing from current font.\n",
      "  fig.savefig(plot_fname, dpi=250)\n",
      "D:\\code\\env\\anaconda\\envs\\mhy-yolo\\Lib\\site-packages\\ultralytics\\utils\\metrics.py:432: UserWarning: Glyph 23500 (\\N{CJK UNIFIED IDEOGRAPH-5BCC}) missing from current font.\n",
      "  fig.savefig(plot_fname, dpi=250)\n",
      "D:\\code\\env\\anaconda\\envs\\mhy-yolo\\Lib\\site-packages\\ultralytics\\utils\\metrics.py:432: UserWarning: Glyph 39037 (\\N{CJK UNIFIED IDEOGRAPH-987D}) missing from current font.\n",
      "  fig.savefig(plot_fname, dpi=250)\n",
      "D:\\code\\env\\anaconda\\envs\\mhy-yolo\\Lib\\site-packages\\ultralytics\\utils\\metrics.py:432: UserWarning: Glyph 22266 (\\N{CJK UNIFIED IDEOGRAPH-56FA}) missing from current font.\n",
      "  fig.savefig(plot_fname, dpi=250)\n",
      "D:\\code\\env\\anaconda\\envs\\mhy-yolo\\Lib\\site-packages\\ultralytics\\utils\\metrics.py:432: UserWarning: Glyph 30340 (\\N{CJK UNIFIED IDEOGRAPH-7684}) missing from current font.\n",
      "  fig.savefig(plot_fname, dpi=250)\n",
      "D:\\code\\env\\anaconda\\envs\\mhy-yolo\\Lib\\site-packages\\ultralytics\\utils\\metrics.py:432: UserWarning: Glyph 38556 (\\N{CJK UNIFIED IDEOGRAPH-969C}) missing from current font.\n",
      "  fig.savefig(plot_fname, dpi=250)\n",
      "D:\\code\\env\\anaconda\\envs\\mhy-yolo\\Lib\\site-packages\\ultralytics\\utils\\metrics.py:432: UserWarning: Glyph 30861 (\\N{CJK UNIFIED IDEOGRAPH-788D}) missing from current font.\n",
      "  fig.savefig(plot_fname, dpi=250)\n",
      "D:\\code\\env\\anaconda\\envs\\mhy-yolo\\Lib\\site-packages\\ultralytics\\utils\\metrics.py:432: UserWarning: Glyph 29289 (\\N{CJK UNIFIED IDEOGRAPH-7269}) missing from current font.\n",
      "  fig.savefig(plot_fname, dpi=250)\n",
      "D:\\code\\env\\anaconda\\envs\\mhy-yolo\\Lib\\site-packages\\ultralytics\\utils\\metrics.py:432: UserWarning: Glyph 27531 (\\N{CJK UNIFIED IDEOGRAPH-6B8B}) missing from current font.\n",
      "  fig.savefig(plot_fname, dpi=250)\n",
      "D:\\code\\env\\anaconda\\envs\\mhy-yolo\\Lib\\site-packages\\ultralytics\\utils\\metrics.py:432: UserWarning: Glyph 30772 (\\N{CJK UNIFIED IDEOGRAPH-7834}) missing from current font.\n",
      "  fig.savefig(plot_fname, dpi=250)\n",
      "D:\\code\\env\\anaconda\\envs\\mhy-yolo\\Lib\\site-packages\\ultralytics\\utils\\metrics.py:432: UserWarning: Glyph 21452 (\\N{CJK UNIFIED IDEOGRAPH-53CC}) missing from current font.\n",
      "  fig.savefig(plot_fname, dpi=250)\n",
      "D:\\code\\env\\anaconda\\envs\\mhy-yolo\\Lib\\site-packages\\ultralytics\\utils\\metrics.py:432: UserWarning: Glyph 37325 (\\N{CJK UNIFIED IDEOGRAPH-91CD}) missing from current font.\n",
      "  fig.savefig(plot_fname, dpi=250)\n",
      "D:\\code\\env\\anaconda\\envs\\mhy-yolo\\Lib\\site-packages\\ultralytics\\utils\\metrics.py:432: UserWarning: Glyph 21892 (\\N{CJK UNIFIED IDEOGRAPH-5584}) missing from current font.\n",
      "  fig.savefig(plot_fname, dpi=250)\n",
      "D:\\code\\env\\anaconda\\envs\\mhy-yolo\\Lib\\site-packages\\ultralytics\\utils\\metrics.py:432: UserWarning: Glyph 25112 (\\N{CJK UNIFIED IDEOGRAPH-6218}) missing from current font.\n",
      "  fig.savefig(plot_fname, dpi=250)\n",
      "D:\\code\\env\\anaconda\\envs\\mhy-yolo\\Lib\\site-packages\\ultralytics\\utils\\metrics.py:432: UserWarning: Glyph 24320 (\\N{CJK UNIFIED IDEOGRAPH-5F00}) missing from current font.\n",
      "  fig.savefig(plot_fname, dpi=250)\n",
      "D:\\code\\env\\anaconda\\envs\\mhy-yolo\\Lib\\site-packages\\ultralytics\\utils\\metrics.py:432: UserWarning: Glyph 21551 (\\N{CJK UNIFIED IDEOGRAPH-542F}) missing from current font.\n",
      "  fig.savefig(plot_fname, dpi=250)\n",
      "D:\\code\\env\\anaconda\\envs\\mhy-yolo\\Lib\\site-packages\\ultralytics\\utils\\metrics.py:432: UserWarning: Glyph 23433 (\\N{CJK UNIFIED IDEOGRAPH-5B89}) missing from current font.\n",
      "  fig.savefig(plot_fname, dpi=250)\n",
      "D:\\code\\env\\anaconda\\envs\\mhy-yolo\\Lib\\site-packages\\ultralytics\\utils\\metrics.py:432: UserWarning: Glyph 20840 (\\N{CJK UNIFIED IDEOGRAPH-5168}) missing from current font.\n",
      "  fig.savefig(plot_fname, dpi=250)\n",
      "D:\\code\\env\\anaconda\\envs\\mhy-yolo\\Lib\\site-packages\\ultralytics\\utils\\metrics.py:432: UserWarning: Glyph 21306 (\\N{CJK UNIFIED IDEOGRAPH-533A}) missing from current font.\n",
      "  fig.savefig(plot_fname, dpi=250)\n",
      "D:\\code\\env\\anaconda\\envs\\mhy-yolo\\Lib\\site-packages\\ultralytics\\utils\\metrics.py:432: UserWarning: Glyph 20241 (\\N{CJK UNIFIED IDEOGRAPH-4F11}) missing from current font.\n",
      "  fig.savefig(plot_fname, dpi=250)\n",
      "D:\\code\\env\\anaconda\\envs\\mhy-yolo\\Lib\\site-packages\\ultralytics\\utils\\metrics.py:432: UserWarning: Glyph 24687 (\\N{CJK UNIFIED IDEOGRAPH-606F}) missing from current font.\n",
      "  fig.savefig(plot_fname, dpi=250)\n",
      "D:\\code\\env\\anaconda\\envs\\mhy-yolo\\Lib\\site-packages\\ultralytics\\utils\\metrics.py:432: UserWarning: Glyph 22833 (\\N{CJK UNIFIED IDEOGRAPH-5931}) missing from current font.\n",
      "  fig.savefig(plot_fname, dpi=250)\n",
      "D:\\code\\env\\anaconda\\envs\\mhy-yolo\\Lib\\site-packages\\ultralytics\\utils\\metrics.py:432: UserWarning: Glyph 32852 (\\N{CJK UNIFIED IDEOGRAPH-8054}) missing from current font.\n",
      "  fig.savefig(plot_fname, dpi=250)\n",
      "D:\\code\\env\\anaconda\\envs\\mhy-yolo\\Lib\\site-packages\\ultralytics\\utils\\metrics.py:432: UserWarning: Glyph 20928 (\\N{CJK UNIFIED IDEOGRAPH-51C0}) missing from current font.\n",
      "  fig.savefig(plot_fname, dpi=250)\n",
      "D:\\code\\env\\anaconda\\envs\\mhy-yolo\\Lib\\site-packages\\ultralytics\\utils\\metrics.py:432: UserWarning: Glyph 23460 (\\N{CJK UNIFIED IDEOGRAPH-5BA4}) missing from current font.\n",
      "  fig.savefig(plot_fname, dpi=250)\n",
      "D:\\code\\env\\anaconda\\envs\\mhy-yolo\\Lib\\site-packages\\ultralytics\\utils\\metrics.py:432: UserWarning: Glyph 20256 (\\N{CJK UNIFIED IDEOGRAPH-4F20}) missing from current font.\n",
      "  fig.savefig(plot_fname, dpi=250)\n",
      "D:\\code\\env\\anaconda\\envs\\mhy-yolo\\Lib\\site-packages\\ultralytics\\utils\\metrics.py:432: UserWarning: Glyph 36865 (\\N{CJK UNIFIED IDEOGRAPH-9001}) missing from current font.\n",
      "  fig.savefig(plot_fname, dpi=250)\n",
      "D:\\code\\env\\anaconda\\envs\\mhy-yolo\\Lib\\site-packages\\ultralytics\\utils\\metrics.py:432: UserWarning: Glyph 30495 (\\N{CJK UNIFIED IDEOGRAPH-771F}) missing from current font.\n",
      "  fig.savefig(plot_fname, dpi=250)\n",
      "D:\\code\\env\\anaconda\\envs\\mhy-yolo\\Lib\\site-packages\\ultralytics\\utils\\metrics.py:432: UserWarning: Glyph 30456 (\\N{CJK UNIFIED IDEOGRAPH-76F8}) missing from current font.\n",
      "  fig.savefig(plot_fname, dpi=250)\n",
      "D:\\code\\env\\anaconda\\envs\\mhy-yolo\\Lib\\site-packages\\ultralytics\\utils\\metrics.py:432: UserWarning: Glyph 36890 (\\N{CJK UNIFIED IDEOGRAPH-901A}) missing from current font.\n",
      "  fig.savefig(plot_fname, dpi=250)\n",
      "D:\\code\\env\\anaconda\\envs\\mhy-yolo\\Lib\\site-packages\\ultralytics\\utils\\metrics.py:432: UserWarning: Glyph 36947 (\\N{CJK UNIFIED IDEOGRAPH-9053}) missing from current font.\n",
      "  fig.savefig(plot_fname, dpi=250)\n",
      "D:\\code\\env\\anaconda\\envs\\mhy-yolo\\Lib\\site-packages\\ultralytics\\utils\\metrics.py:432: UserWarning: Glyph 24040 (\\N{CJK UNIFIED IDEOGRAPH-5DE8}) missing from current font.\n",
      "  fig.savefig(plot_fname, dpi=250)\n",
      "D:\\code\\env\\anaconda\\envs\\mhy-yolo\\Lib\\site-packages\\ultralytics\\utils\\metrics.py:432: UserWarning: Glyph 20861 (\\N{CJK UNIFIED IDEOGRAPH-517D}) missing from current font.\n",
      "  fig.savefig(plot_fname, dpi=250)\n",
      "D:\\code\\env\\anaconda\\envs\\mhy-yolo\\Lib\\site-packages\\ultralytics\\utils\\metrics.py:432: UserWarning: Glyph 22855 (\\N{CJK UNIFIED IDEOGRAPH-5947}) missing from current font.\n",
      "  fig.savefig(plot_fname, dpi=250)\n",
      "D:\\code\\env\\anaconda\\envs\\mhy-yolo\\Lib\\site-packages\\ultralytics\\utils\\metrics.py:432: UserWarning: Glyph 36135 (\\N{CJK UNIFIED IDEOGRAPH-8D27}) missing from current font.\n",
      "  fig.savefig(plot_fname, dpi=250)\n",
      "D:\\code\\env\\anaconda\\envs\\mhy-yolo\\Lib\\site-packages\\ultralytics\\utils\\metrics.py:432: UserWarning: Glyph 30450 (\\N{CJK UNIFIED IDEOGRAPH-76F2}) missing from current font.\n",
      "  fig.savefig(plot_fname, dpi=250)\n",
      "D:\\code\\env\\anaconda\\envs\\mhy-yolo\\Lib\\site-packages\\ultralytics\\utils\\metrics.py:432: UserWarning: Glyph 30418 (\\N{CJK UNIFIED IDEOGRAPH-76D2}) missing from current font.\n",
      "  fig.savefig(plot_fname, dpi=250)\n",
      "D:\\code\\env\\anaconda\\envs\\mhy-yolo\\Lib\\site-packages\\ultralytics\\utils\\metrics.py:432: UserWarning: Glyph 22495 (\\N{CJK UNIFIED IDEOGRAPH-57DF}) missing from current font.\n",
      "  fig.savefig(plot_fname, dpi=250)\n",
      "D:\\code\\env\\anaconda\\envs\\mhy-yolo\\Lib\\site-packages\\ultralytics\\utils\\metrics.py:432: UserWarning: Glyph 19981 (\\N{CJK UNIFIED IDEOGRAPH-4E0D}) missing from current font.\n",
      "  fig.savefig(plot_fname, dpi=250)\n",
      "D:\\code\\env\\anaconda\\envs\\mhy-yolo\\Lib\\site-packages\\ultralytics\\utils\\metrics.py:432: UserWarning: Glyph 23452 (\\N{CJK UNIFIED IDEOGRAPH-5B9C}) missing from current font.\n",
      "  fig.savefig(plot_fname, dpi=250)\n",
      "D:\\code\\env\\anaconda\\envs\\mhy-yolo\\Lib\\site-packages\\ultralytics\\utils\\metrics.py:432: UserWarning: Glyph 20037 (\\N{CJK UNIFIED IDEOGRAPH-4E45}) missing from current font.\n",
      "  fig.savefig(plot_fname, dpi=250)\n",
      "D:\\code\\env\\anaconda\\envs\\mhy-yolo\\Lib\\site-packages\\ultralytics\\utils\\metrics.py:432: UserWarning: Glyph 30041 (\\N{CJK UNIFIED IDEOGRAPH-7559}) missing from current font.\n",
      "  fig.savefig(plot_fname, dpi=250)\n",
      "D:\\code\\env\\anaconda\\envs\\mhy-yolo\\Lib\\site-packages\\ultralytics\\utils\\metrics.py:432: UserWarning: Glyph 24618 (\\N{CJK UNIFIED IDEOGRAPH-602A}) missing from current font.\n",
      "  fig.savefig(plot_fname, dpi=250)\n",
      "D:\\code\\env\\anaconda\\envs\\mhy-yolo\\Lib\\site-packages\\ultralytics\\utils\\metrics.py:432: UserWarning: Glyph 20390 (\\N{CJK UNIFIED IDEOGRAPH-4FA6}) missing from current font.\n",
      "  fig.savefig(plot_fname, dpi=250)\n",
      "D:\\code\\env\\anaconda\\envs\\mhy-yolo\\Lib\\site-packages\\ultralytics\\utils\\metrics.py:432: UserWarning: Glyph 25506 (\\N{CJK UNIFIED IDEOGRAPH-63A2}) missing from current font.\n",
      "  fig.savefig(plot_fname, dpi=250)\n",
      "D:\\code\\env\\anaconda\\envs\\mhy-yolo\\Lib\\site-packages\\ultralytics\\utils\\metrics.py:432: UserWarning: Glyph 27714 (\\N{CJK UNIFIED IDEOGRAPH-6C42}) missing from current font.\n",
      "  fig.savefig(plot_fname, dpi=250)\n",
      "D:\\code\\env\\anaconda\\envs\\mhy-yolo\\Lib\\site-packages\\ultralytics\\utils\\metrics.py:432: UserWarning: Glyph 25937 (\\N{CJK UNIFIED IDEOGRAPH-6551}) missing from current font.\n",
      "  fig.savefig(plot_fname, dpi=250)\n",
      "D:\\code\\env\\anaconda\\envs\\mhy-yolo\\Lib\\site-packages\\ultralytics\\utils\\metrics.py:432: UserWarning: Glyph 20449 (\\N{CJK UNIFIED IDEOGRAPH-4FE1}) missing from current font.\n",
      "  fig.savefig(plot_fname, dpi=250)\n",
      "D:\\code\\env\\anaconda\\envs\\mhy-yolo\\Lib\\site-packages\\ultralytics\\utils\\metrics.py:432: UserWarning: Glyph 21495 (\\N{CJK UNIFIED IDEOGRAPH-53F7}) missing from current font.\n",
      "  fig.savefig(plot_fname, dpi=250)\n",
      "D:\\code\\env\\anaconda\\envs\\mhy-yolo\\Lib\\site-packages\\ultralytics\\utils\\metrics.py:432: UserWarning: Glyph 21327 (\\N{CJK UNIFIED IDEOGRAPH-534F}) missing from current font.\n",
      "  fig.savefig(plot_fname, dpi=250)\n",
      "D:\\code\\env\\anaconda\\envs\\mhy-yolo\\Lib\\site-packages\\ultralytics\\utils\\metrics.py:432: UserWarning: Glyph 20250 (\\N{CJK UNIFIED IDEOGRAPH-4F1A}) missing from current font.\n",
      "  fig.savefig(plot_fname, dpi=250)\n",
      "D:\\code\\env\\anaconda\\envs\\mhy-yolo\\Lib\\site-packages\\ultralytics\\utils\\metrics.py:432: UserWarning: Glyph 31449 (\\N{CJK UNIFIED IDEOGRAPH-7AD9}) missing from current font.\n",
      "  fig.savefig(plot_fname, dpi=250)\n",
      "D:\\code\\env\\anaconda\\envs\\mhy-yolo\\Lib\\site-packages\\ultralytics\\utils\\metrics.py:432: UserWarning: Glyph 31934 (\\N{CJK UNIFIED IDEOGRAPH-7CBE}) missing from current font.\n",
      "  fig.savefig(plot_fname, dpi=250)\n",
      "D:\\code\\env\\anaconda\\envs\\mhy-yolo\\Lib\\site-packages\\ultralytics\\utils\\metrics.py:432: UserWarning: Glyph 38160 (\\N{CJK UNIFIED IDEOGRAPH-9510}) missing from current font.\n",
      "  fig.savefig(plot_fname, dpi=250)\n",
      "D:\\code\\env\\anaconda\\envs\\mhy-yolo\\Lib\\site-packages\\ultralytics\\utils\\metrics.py:432: UserWarning: Glyph 21161 (\\N{CJK UNIFIED IDEOGRAPH-52A9}) missing from current font.\n",
      "  fig.savefig(plot_fname, dpi=250)\n",
      "D:\\code\\env\\anaconda\\envs\\mhy-yolo\\Lib\\site-packages\\ultralytics\\utils\\metrics.py:432: UserWarning: Glyph 25163 (\\N{CJK UNIFIED IDEOGRAPH-624B}) missing from current font.\n",
      "  fig.savefig(plot_fname, dpi=250)\n",
      "D:\\code\\env\\anaconda\\envs\\mhy-yolo\\Lib\\site-packages\\ultralytics\\utils\\metrics.py:432: UserWarning: Glyph 27835 (\\N{CJK UNIFIED IDEOGRAPH-6CBB}) missing from current font.\n",
      "  fig.savefig(plot_fname, dpi=250)\n",
      "D:\\code\\env\\anaconda\\envs\\mhy-yolo\\Lib\\site-packages\\ultralytics\\utils\\metrics.py:432: UserWarning: Glyph 23448 (\\N{CJK UNIFIED IDEOGRAPH-5B98}) missing from current font.\n",
      "  fig.savefig(plot_fname, dpi=250)\n",
      "D:\\code\\env\\anaconda\\envs\\mhy-yolo\\Lib\\site-packages\\ultralytics\\utils\\metrics.py:432: UserWarning: Glyph 23567 (\\N{CJK UNIFIED IDEOGRAPH-5C0F}) missing from current font.\n",
      "  fig.savefig(plot_fname, dpi=250)\n",
      "D:\\code\\env\\anaconda\\envs\\mhy-yolo\\Lib\\site-packages\\ultralytics\\utils\\metrics.py:432: UserWarning: Glyph 38431 (\\N{CJK UNIFIED IDEOGRAPH-961F}) missing from current font.\n",
      "  fig.savefig(plot_fname, dpi=250)\n",
      "D:\\code\\env\\anaconda\\envs\\mhy-yolo\\Lib\\site-packages\\ultralytics\\utils\\metrics.py:432: UserWarning: Glyph 26377 (\\N{CJK UNIFIED IDEOGRAPH-6709}) missing from current font.\n",
      "  fig.savefig(plot_fname, dpi=250)\n",
      "D:\\code\\env\\anaconda\\envs\\mhy-yolo\\Lib\\site-packages\\ultralytics\\utils\\metrics.py:432: UserWarning: Glyph 20607 (\\N{CJK UNIFIED IDEOGRAPH-507F}) missing from current font.\n",
      "  fig.savefig(plot_fname, dpi=250)\n",
      "D:\\code\\env\\anaconda\\envs\\mhy-yolo\\Lib\\site-packages\\ultralytics\\utils\\metrics.py:432: UserWarning: Glyph 39301 (\\N{CJK UNIFIED IDEOGRAPH-9985}) missing from current font.\n",
      "  fig.savefig(plot_fname, dpi=250)\n",
      "D:\\code\\env\\anaconda\\envs\\mhy-yolo\\Lib\\site-packages\\ultralytics\\utils\\metrics.py:432: UserWarning: Glyph 39292 (\\N{CJK UNIFIED IDEOGRAPH-997C}) missing from current font.\n",
      "  fig.savefig(plot_fname, dpi=250)\n",
      "D:\\code\\env\\anaconda\\envs\\mhy-yolo\\Lib\\site-packages\\ultralytics\\utils\\metrics.py:432: UserWarning: Glyph 22825 (\\N{CJK UNIFIED IDEOGRAPH-5929}) missing from current font.\n",
      "  fig.savefig(plot_fname, dpi=250)\n",
      "D:\\code\\env\\anaconda\\envs\\mhy-yolo\\Lib\\site-packages\\ultralytics\\utils\\metrics.py:432: UserWarning: Glyph 38477 (\\N{CJK UNIFIED IDEOGRAPH-964D}) missing from current font.\n",
      "  fig.savefig(plot_fname, dpi=250)\n",
      "D:\\code\\env\\anaconda\\envs\\mhy-yolo\\Lib\\site-packages\\ultralytics\\utils\\metrics.py:432: UserWarning: Glyph 24576 (\\N{CJK UNIFIED IDEOGRAPH-6000}) missing from current font.\n",
      "  fig.savefig(plot_fname, dpi=250)\n",
      "D:\\code\\env\\anaconda\\envs\\mhy-yolo\\Lib\\site-packages\\ultralytics\\utils\\metrics.py:432: UserWarning: Glyph 26031 (\\N{CJK UNIFIED IDEOGRAPH-65AF}) missing from current font.\n",
      "  fig.savefig(plot_fname, dpi=250)\n",
      "D:\\code\\env\\anaconda\\envs\\mhy-yolo\\Lib\\site-packages\\ultralytics\\utils\\metrics.py:432: UserWarning: Glyph 22612 (\\N{CJK UNIFIED IDEOGRAPH-5854}) missing from current font.\n",
      "  fig.savefig(plot_fname, dpi=250)\n",
      "D:\\code\\env\\anaconda\\envs\\mhy-yolo\\Lib\\site-packages\\ultralytics\\utils\\metrics.py:432: UserWarning: Glyph 23398 (\\N{CJK UNIFIED IDEOGRAPH-5B66}) missing from current font.\n",
      "  fig.savefig(plot_fname, dpi=250)\n",
      "D:\\code\\env\\anaconda\\envs\\mhy-yolo\\Lib\\site-packages\\ultralytics\\utils\\metrics.py:432: UserWarning: Glyph 27963 (\\N{CJK UNIFIED IDEOGRAPH-6D3B}) missing from current font.\n",
      "  fig.savefig(plot_fname, dpi=250)\n",
      "D:\\code\\env\\anaconda\\envs\\mhy-yolo\\Lib\\site-packages\\ultralytics\\utils\\metrics.py:432: UserWarning: Glyph 32467 (\\N{CJK UNIFIED IDEOGRAPH-7ED3}) missing from current font.\n",
      "  fig.savefig(plot_fname, dpi=250)\n",
      "D:\\code\\env\\anaconda\\envs\\mhy-yolo\\Lib\\site-packages\\ultralytics\\utils\\metrics.py:432: UserWarning: Glyph 26230 (\\N{CJK UNIFIED IDEOGRAPH-6676}) missing from current font.\n",
      "  fig.savefig(plot_fname, dpi=250)\n",
      "D:\\code\\env\\anaconda\\envs\\mhy-yolo\\Lib\\site-packages\\ultralytics\\utils\\metrics.py:432: UserWarning: Glyph 23432 (\\N{CJK UNIFIED IDEOGRAPH-5B88}) missing from current font.\n",
      "  fig.savefig(plot_fname, dpi=250)\n",
      "D:\\code\\env\\anaconda\\envs\\mhy-yolo\\Lib\\site-packages\\ultralytics\\utils\\metrics.py:432: UserWarning: Glyph 35010 (\\N{CJK UNIFIED IDEOGRAPH-88C2}) missing from current font.\n",
      "  fig.savefig(plot_fname, dpi=250)\n",
      "D:\\code\\env\\anaconda\\envs\\mhy-yolo\\Lib\\site-packages\\ultralytics\\utils\\metrics.py:432: UserWarning: Glyph 38553 (\\N{CJK UNIFIED IDEOGRAPH-9699}) missing from current font.\n",
      "  fig.savefig(plot_fname, dpi=250)\n",
      "D:\\code\\env\\anaconda\\envs\\mhy-yolo\\Lib\\site-packages\\ultralytics\\utils\\metrics.py:432: UserWarning: Glyph 32039 (\\N{CJK UNIFIED IDEOGRAPH-7D27}) missing from current font.\n",
      "  fig.savefig(plot_fname, dpi=250)\n",
      "D:\\code\\env\\anaconda\\envs\\mhy-yolo\\Lib\\site-packages\\ultralytics\\utils\\metrics.py:432: UserWarning: Glyph 24613 (\\N{CJK UNIFIED IDEOGRAPH-6025}) missing from current font.\n",
      "  fig.savefig(plot_fname, dpi=250)\n",
      "D:\\code\\env\\anaconda\\envs\\mhy-yolo\\Lib\\site-packages\\ultralytics\\utils\\metrics.py:432: UserWarning: Glyph 25764 (\\N{CJK UNIFIED IDEOGRAPH-64A4}) missing from current font.\n",
      "  fig.savefig(plot_fname, dpi=250)\n",
      "D:\\code\\env\\anaconda\\envs\\mhy-yolo\\Lib\\site-packages\\ultralytics\\utils\\metrics.py:432: UserWarning: Glyph 31163 (\\N{CJK UNIFIED IDEOGRAPH-79BB}) missing from current font.\n",
      "  fig.savefig(plot_fname, dpi=250)\n",
      "D:\\code\\env\\anaconda\\envs\\mhy-yolo\\Lib\\site-packages\\ultralytics\\utils\\metrics.py:432: UserWarning: Glyph 38450 (\\N{CJK UNIFIED IDEOGRAPH-9632}) missing from current font.\n",
      "  fig.savefig(plot_fname, dpi=250)\n",
      "D:\\code\\env\\anaconda\\envs\\mhy-yolo\\Lib\\site-packages\\ultralytics\\utils\\metrics.py:432: UserWarning: Glyph 21355 (\\N{CJK UNIFIED IDEOGRAPH-536B}) missing from current font.\n",
      "  fig.savefig(plot_fname, dpi=250)\n",
      "D:\\code\\env\\anaconda\\envs\\mhy-yolo\\Lib\\site-packages\\ultralytics\\utils\\metrics.py:432: UserWarning: Glyph 20891 (\\N{CJK UNIFIED IDEOGRAPH-519B}) missing from current font.\n",
      "  fig.savefig(plot_fname, dpi=250)\n",
      "D:\\code\\env\\anaconda\\envs\\mhy-yolo\\Lib\\site-packages\\ultralytics\\utils\\metrics.py:432: UserWarning: Glyph 21518 (\\N{CJK UNIFIED IDEOGRAPH-540E}) missing from current font.\n",
      "  fig.savefig(plot_fname, dpi=250)\n",
      "D:\\code\\env\\anaconda\\envs\\mhy-yolo\\Lib\\site-packages\\ultralytics\\utils\\metrics.py:432: UserWarning: Glyph 21220 (\\N{CJK UNIFIED IDEOGRAPH-52E4}) missing from current font.\n",
      "  fig.savefig(plot_fname, dpi=250)\n",
      "D:\\code\\env\\anaconda\\envs\\mhy-yolo\\Lib\\site-packages\\ultralytics\\utils\\metrics.py:432: UserWarning: Glyph 29579 (\\N{CJK UNIFIED IDEOGRAPH-738B}) missing from current font.\n",
      "  fig.savefig(plot_fname, dpi=250)\n",
      "D:\\code\\env\\anaconda\\envs\\mhy-yolo\\Lib\\site-packages\\ultralytics\\utils\\metrics.py:432: UserWarning: Glyph 29260 (\\N{CJK UNIFIED IDEOGRAPH-724C}) missing from current font.\n",
      "  fig.savefig(plot_fname, dpi=250)\n",
      "D:\\code\\env\\anaconda\\envs\\mhy-yolo\\Lib\\site-packages\\ultralytics\\utils\\metrics.py:432: UserWarning: Glyph 26410 (\\N{CJK UNIFIED IDEOGRAPH-672A}) missing from current font.\n",
      "  fig.savefig(plot_fname, dpi=250)\n",
      "D:\\code\\env\\anaconda\\envs\\mhy-yolo\\Lib\\site-packages\\ultralytics\\utils\\metrics.py:432: UserWarning: Glyph 30693 (\\N{CJK UNIFIED IDEOGRAPH-77E5}) missing from current font.\n",
      "  fig.savefig(plot_fname, dpi=250)\n",
      "D:\\code\\env\\anaconda\\envs\\mhy-yolo\\Lib\\site-packages\\ultralytics\\utils\\metrics.py:432: UserWarning: Glyph 29983 (\\N{CJK UNIFIED IDEOGRAPH-751F}) missing from current font.\n",
      "  fig.savefig(plot_fname, dpi=250)\n",
      "D:\\code\\env\\anaconda\\envs\\mhy-yolo\\Lib\\site-packages\\ultralytics\\utils\\metrics.py:432: UserWarning: Glyph 38646 (\\N{CJK UNIFIED IDEOGRAPH-96F6}) missing from current font.\n",
      "  fig.savefig(plot_fname, dpi=250)\n",
      "D:\\code\\env\\anaconda\\envs\\mhy-yolo\\Lib\\site-packages\\ultralytics\\utils\\metrics.py:432: UserWarning: Glyph 38134 (\\N{CJK UNIFIED IDEOGRAPH-94F6}) missing from current font.\n",
      "  fig.savefig(plot_fname, dpi=250)\n",
      "D:\\code\\env\\anaconda\\envs\\mhy-yolo\\Lib\\site-packages\\ultralytics\\utils\\metrics.py:432: UserWarning: Glyph 34892 (\\N{CJK UNIFIED IDEOGRAPH-884C}) missing from current font.\n",
      "  fig.savefig(plot_fname, dpi=250)\n",
      "D:\\code\\env\\anaconda\\envs\\mhy-yolo\\Lib\\site-packages\\ultralytics\\utils\\metrics.py:432: UserWarning: Glyph 25928 (\\N{CJK UNIFIED IDEOGRAPH-6548}) missing from current font.\n",
      "  fig.savefig(plot_fname, dpi=250)\n",
      "D:\\code\\env\\anaconda\\envs\\mhy-yolo\\Lib\\site-packages\\ultralytics\\utils\\metrics.py:432: UserWarning: Glyph 33410 (\\N{CJK UNIFIED IDEOGRAPH-8282}) missing from current font.\n",
      "  fig.savefig(plot_fname, dpi=250)\n",
      "D:\\code\\env\\anaconda\\envs\\mhy-yolo\\Lib\\site-packages\\ultralytics\\utils\\metrics.py:432: UserWarning: Glyph 36164 (\\N{CJK UNIFIED IDEOGRAPH-8D44}) missing from current font.\n",
      "  fig.savefig(plot_fname, dpi=250)\n",
      "D:\\code\\env\\anaconda\\envs\\mhy-yolo\\Lib\\site-packages\\ultralytics\\utils\\metrics.py:432: UserWarning: Glyph 28304 (\\N{CJK UNIFIED IDEOGRAPH-6E90}) missing from current font.\n",
      "  fig.savefig(plot_fname, dpi=250)\n",
      "D:\\code\\env\\anaconda\\envs\\mhy-yolo\\Lib\\site-packages\\ultralytics\\utils\\metrics.py:432: UserWarning: Glyph 22238 (\\N{CJK UNIFIED IDEOGRAPH-56DE}) missing from current font.\n",
      "  fig.savefig(plot_fname, dpi=250)\n",
      "D:\\code\\env\\anaconda\\envs\\mhy-yolo\\Lib\\site-packages\\ultralytics\\utils\\metrics.py:432: UserWarning: Glyph 25910 (\\N{CJK UNIFIED IDEOGRAPH-6536}) missing from current font.\n",
      "  fig.savefig(plot_fname, dpi=250)\n",
      "D:\\code\\env\\anaconda\\envs\\mhy-yolo\\Lib\\site-packages\\ultralytics\\utils\\metrics.py:432: UserWarning: Glyph 32452 (\\N{CJK UNIFIED IDEOGRAPH-7EC4}) missing from current font.\n",
      "  fig.savefig(plot_fname, dpi=250)\n",
      "D:\\code\\env\\anaconda\\envs\\mhy-yolo\\Lib\\site-packages\\ultralytics\\utils\\metrics.py:432: UserWarning: Glyph 25353 (\\N{CJK UNIFIED IDEOGRAPH-6309}) missing from current font.\n",
      "  fig.savefig(plot_fname, dpi=250)\n",
      "D:\\code\\env\\anaconda\\envs\\mhy-yolo\\Lib\\site-packages\\ultralytics\\utils\\metrics.py:432: UserWarning: Glyph 21387 (\\N{CJK UNIFIED IDEOGRAPH-538B}) missing from current font.\n",
      "  fig.savefig(plot_fname, dpi=250)\n",
      "D:\\code\\env\\anaconda\\envs\\mhy-yolo\\Lib\\site-packages\\ultralytics\\utils\\metrics.py:432: UserWarning: Glyph 24335 (\\N{CJK UNIFIED IDEOGRAPH-5F0F}) missing from current font.\n",
      "  fig.savefig(plot_fname, dpi=250)\n",
      "D:\\code\\env\\anaconda\\envs\\mhy-yolo\\Lib\\site-packages\\ultralytics\\utils\\metrics.py:432: UserWarning: Glyph 20851 (\\N{CJK UNIFIED IDEOGRAPH-5173}) missing from current font.\n",
      "  fig.savefig(plot_fname, dpi=250)\n",
      "D:\\code\\env\\anaconda\\envs\\mhy-yolo\\Lib\\site-packages\\ultralytics\\utils\\metrics.py:432: UserWarning: Glyph 24377 (\\N{CJK UNIFIED IDEOGRAPH-5F39}) missing from current font.\n",
      "  fig.savefig(plot_fname, dpi=250)\n",
      "D:\\code\\env\\anaconda\\envs\\mhy-yolo\\Lib\\site-packages\\ultralytics\\utils\\metrics.py:432: UserWarning: Glyph 23556 (\\N{CJK UNIFIED IDEOGRAPH-5C04}) missing from current font.\n",
      "  fig.savefig(plot_fname, dpi=250)\n",
      "D:\\code\\env\\anaconda\\envs\\mhy-yolo\\Lib\\site-packages\\ultralytics\\utils\\metrics.py:432: UserWarning: Glyph 19978 (\\N{CJK UNIFIED IDEOGRAPH-4E0A}) missing from current font.\n",
      "  fig.savefig(plot_fname, dpi=250)\n",
      "D:\\code\\env\\anaconda\\envs\\mhy-yolo\\Lib\\site-packages\\ultralytics\\utils\\metrics.py:432: UserWarning: Glyph 36712 (\\N{CJK UNIFIED IDEOGRAPH-8F68}) missing from current font.\n",
      "  fig.savefig(plot_fname, dpi=250)\n",
      "D:\\code\\env\\anaconda\\envs\\mhy-yolo\\Lib\\site-packages\\ultralytics\\utils\\metrics.py:432: UserWarning: Glyph 21516 (\\N{CJK UNIFIED IDEOGRAPH-540C}) missing from current font.\n",
      "  fig.savefig(plot_fname, dpi=250)\n",
      "D:\\code\\env\\anaconda\\envs\\mhy-yolo\\Lib\\site-packages\\ultralytics\\utils\\metrics.py:432: UserWarning: Glyph 20276 (\\N{CJK UNIFIED IDEOGRAPH-4F34}) missing from current font.\n",
      "  fig.savefig(plot_fname, dpi=250)\n",
      "D:\\code\\env\\anaconda\\envs\\mhy-yolo\\Lib\\site-packages\\ultralytics\\utils\\metrics.py:432: UserWarning: Glyph 19979 (\\N{CJK UNIFIED IDEOGRAPH-4E0B}) missing from current font.\n",
      "  fig.savefig(plot_fname, dpi=250)\n",
      "D:\\code\\env\\anaconda\\envs\\mhy-yolo\\Lib\\site-packages\\ultralytics\\utils\\metrics.py:432: UserWarning: Glyph 24038 (\\N{CJK UNIFIED IDEOGRAPH-5DE6}) missing from current font.\n",
      "  fig.savefig(plot_fname, dpi=250)\n",
      "D:\\code\\env\\anaconda\\envs\\mhy-yolo\\Lib\\site-packages\\ultralytics\\utils\\metrics.py:432: UserWarning: Glyph 21491 (\\N{CJK UNIFIED IDEOGRAPH-53F3}) missing from current font.\n",
      "  fig.savefig(plot_fname, dpi=250)\n",
      "D:\\code\\env\\anaconda\\envs\\mhy-yolo\\Lib\\site-packages\\ultralytics\\utils\\metrics.py:432: UserWarning: Glyph 25151 (\\N{CJK UNIFIED IDEOGRAPH-623F}) missing from current font.\n",
      "  fig.savefig(plot_fname, dpi=250)\n",
      "D:\\code\\env\\anaconda\\envs\\mhy-yolo\\Lib\\site-packages\\ultralytics\\utils\\metrics.py:432: UserWarning: Glyph 23627 (\\N{CJK UNIFIED IDEOGRAPH-5C4B}) missing from current font.\n",
      "  fig.savefig(plot_fname, dpi=250)\n",
      "D:\\code\\env\\anaconda\\envs\\mhy-yolo\\Lib\\site-packages\\ultralytics\\utils\\metrics.py:432: UserWarning: Glyph 39608 (\\N{CJK UNIFIED IDEOGRAPH-9AB8}) missing from current font.\n",
      "  fig.savefig(plot_fname, dpi=250)\n",
      "D:\\code\\env\\anaconda\\envs\\mhy-yolo\\Lib\\site-packages\\ultralytics\\utils\\metrics.py:432: UserWarning: Glyph 25237 (\\N{CJK UNIFIED IDEOGRAPH-6295}) missing from current font.\n",
      "  fig.savefig(plot_fname, dpi=250)\n",
      "D:\\code\\env\\anaconda\\envs\\mhy-yolo\\Lib\\site-packages\\ultralytics\\utils\\metrics.py:432: UserWarning: Glyph 35809 (\\N{CJK UNIFIED IDEOGRAPH-8BE1}) missing from current font.\n",
      "  fig.savefig(plot_fname, dpi=250)\n",
      "D:\\code\\env\\anaconda\\envs\\mhy-yolo\\Lib\\site-packages\\ultralytics\\utils\\metrics.py:432: UserWarning: Glyph 38654 (\\N{CJK UNIFIED IDEOGRAPH-96FE}) missing from current font.\n",
      "  fig.savefig(plot_fname, dpi=250)\n",
      "D:\\code\\env\\anaconda\\envs\\mhy-yolo\\Lib\\site-packages\\ultralytics\\utils\\metrics.py:432: UserWarning: Glyph 38480 (\\N{CJK UNIFIED IDEOGRAPH-9650}) missing from current font.\n",
      "  fig.savefig(plot_fname, dpi=250)\n",
      "D:\\code\\env\\anaconda\\envs\\mhy-yolo\\Lib\\site-packages\\ultralytics\\utils\\metrics.py:432: UserWarning: Glyph 26007 (\\N{CJK UNIFIED IDEOGRAPH-6597}) missing from current font.\n",
      "  fig.savefig(plot_fname, dpi=250)\n",
      "D:\\code\\env\\anaconda\\envs\\mhy-yolo\\Lib\\site-packages\\ultralytics\\utils\\metrics.py:432: UserWarning: Glyph 31354 (\\N{CJK UNIFIED IDEOGRAPH-7A7A}) missing from current font.\n",
      "  fig.savefig(plot_fname, dpi=250)\n",
      "D:\\code\\env\\anaconda\\envs\\mhy-yolo\\Lib\\site-packages\\ultralytics\\utils\\metrics.py:432: UserWarning: Glyph 21307 (\\N{CJK UNIFIED IDEOGRAPH-533B}) missing from current font.\n",
      "  fig.savefig(plot_fname, dpi=250)\n",
      "D:\\code\\env\\anaconda\\envs\\mhy-yolo\\Lib\\site-packages\\ultralytics\\utils\\metrics.py:432: UserWarning: Glyph 33258 (\\N{CJK UNIFIED IDEOGRAPH-81EA}) missing from current font.\n",
      "  fig.savefig(plot_fname, dpi=250)\n",
      "D:\\code\\env\\anaconda\\envs\\mhy-yolo\\Lib\\site-packages\\ultralytics\\utils\\metrics.py:432: UserWarning: Glyph 21160 (\\N{CJK UNIFIED IDEOGRAPH-52A8}) missing from current font.\n",
      "  fig.savefig(plot_fname, dpi=250)\n",
      "D:\\code\\env\\anaconda\\envs\\mhy-yolo\\Lib\\site-packages\\ultralytics\\utils\\metrics.py:432: UserWarning: Glyph 30103 (\\N{CJK UNIFIED IDEOGRAPH-7597}) missing from current font.\n",
      "  fig.savefig(plot_fname, dpi=250)\n",
      "D:\\code\\env\\anaconda\\envs\\mhy-yolo\\Lib\\site-packages\\ultralytics\\utils\\metrics.py:432: UserWarning: Glyph 20179 (\\N{CJK UNIFIED IDEOGRAPH-4ED3}) missing from current font.\n",
      "  fig.savefig(plot_fname, dpi=250)\n",
      "D:\\code\\env\\anaconda\\envs\\mhy-yolo\\Lib\\site-packages\\ultralytics\\utils\\metrics.py:432: UserWarning: Glyph 38505 (\\N{CJK UNIFIED IDEOGRAPH-9669}) missing from current font.\n",
      "  fig.savefig(plot_fname, dpi=250)\n",
      "D:\\code\\env\\anaconda\\envs\\mhy-yolo\\Lib\\site-packages\\ultralytics\\utils\\metrics.py:432: UserWarning: Glyph 30446 (\\N{CJK UNIFIED IDEOGRAPH-76EE}) missing from current font.\n",
      "  fig.savefig(plot_fname, dpi=250)\n",
      "D:\\code\\env\\anaconda\\envs\\mhy-yolo\\Lib\\site-packages\\ultralytics\\utils\\metrics.py:432: UserWarning: Glyph 26631 (\\N{CJK UNIFIED IDEOGRAPH-6807}) missing from current font.\n",
      "  fig.savefig(plot_fname, dpi=250)\n",
      "D:\\code\\env\\anaconda\\envs\\mhy-yolo\\Lib\\site-packages\\ultralytics\\utils\\metrics.py:432: UserWarning: Glyph 30005 (\\N{CJK UNIFIED IDEOGRAPH-7535}) missing from current font.\n",
      "  fig.savefig(plot_fname, dpi=250)\n",
      "D:\\code\\env\\anaconda\\envs\\mhy-yolo\\Lib\\site-packages\\ultralytics\\utils\\metrics.py:432: UserWarning: Glyph 35270 (\\N{CJK UNIFIED IDEOGRAPH-89C6}) missing from current font.\n",
      "  fig.savefig(plot_fname, dpi=250)\n",
      "D:\\code\\env\\anaconda\\envs\\mhy-yolo\\Lib\\site-packages\\ultralytics\\utils\\metrics.py:432: UserWarning: Glyph 24213 (\\N{CJK UNIFIED IDEOGRAPH-5E95}) missing from current font.\n",
      "  fig.savefig(plot_fname, dpi=250)\n",
      "D:\\code\\env\\anaconda\\envs\\mhy-yolo\\Lib\\site-packages\\ultralytics\\utils\\metrics.py:432: UserWarning: Glyph 24231 (\\N{CJK UNIFIED IDEOGRAPH-5EA7}) missing from current font.\n",
      "  fig.savefig(plot_fname, dpi=250)\n",
      "D:\\code\\env\\anaconda\\envs\\mhy-yolo\\Lib\\site-packages\\ultralytics\\utils\\metrics.py:432: UserWarning: Glyph 32511 (\\N{CJK UNIFIED IDEOGRAPH-7EFF}) missing from current font.\n",
      "  fig.savefig(plot_fname, dpi=250)\n",
      "D:\\code\\env\\anaconda\\envs\\mhy-yolo\\Lib\\site-packages\\ultralytics\\utils\\metrics.py:432: UserWarning: Glyph 32418 (\\N{CJK UNIFIED IDEOGRAPH-7EA2}) missing from current font.\n",
      "  fig.savefig(plot_fname, dpi=250)\n",
      "D:\\code\\env\\anaconda\\envs\\mhy-yolo\\Lib\\site-packages\\ultralytics\\utils\\metrics.py:432: UserWarning: Glyph 22823 (\\N{CJK UNIFIED IDEOGRAPH-5927}) missing from current font.\n",
      "  fig.savefig(plot_fname, dpi=250)\n",
      "D:\\code\\env\\anaconda\\envs\\mhy-yolo\\Lib\\site-packages\\ultralytics\\utils\\metrics.py:432: UserWarning: Glyph 24403 (\\N{CJK UNIFIED IDEOGRAPH-5F53}) missing from current font.\n",
      "  fig.savefig(plot_fname, dpi=250)\n",
      "D:\\code\\env\\anaconda\\envs\\mhy-yolo\\Lib\\site-packages\\ultralytics\\utils\\metrics.py:432: UserWarning: Glyph 21069 (\\N{CJK UNIFIED IDEOGRAPH-524D}) missing from current font.\n",
      "  fig.savefig(plot_fname, dpi=250)\n",
      "D:\\code\\env\\anaconda\\envs\\mhy-yolo\\Lib\\site-packages\\ultralytics\\utils\\metrics.py:432: UserWarning: Glyph 30333 (\\N{CJK UNIFIED IDEOGRAPH-767D}) missing from current font.\n",
      "  fig.savefig(plot_fname, dpi=250)\n",
      "D:\\code\\env\\anaconda\\envs\\mhy-yolo\\Lib\\site-packages\\ultralytics\\utils\\metrics.py:432: UserWarning: Glyph 24050 (\\N{CJK UNIFIED IDEOGRAPH-5DF2}) missing from current font.\n",
      "  fig.savefig(plot_fname, dpi=250)\n",
      "D:\\code\\env\\anaconda\\envs\\mhy-yolo\\Lib\\site-packages\\ultralytics\\utils\\metrics.py:432: UserWarning: Glyph 26080 (\\N{CJK UNIFIED IDEOGRAPH-65E0}) missing from current font.\n",
      "  fig.savefig(plot_fname, dpi=250)\n",
      "D:\\code\\env\\anaconda\\envs\\mhy-yolo\\Lib\\site-packages\\ultralytics\\utils\\metrics.py:432: UserWarning: Glyph 27861 (\\N{CJK UNIFIED IDEOGRAPH-6CD5}) missing from current font.\n",
      "  fig.savefig(plot_fname, dpi=250)\n"
     ]
    },
    {
     "name": "stdout",
     "output_type": "stream",
     "text": [
      "\n",
      "1000 epochs completed in 3.626 hours.\n",
      "Optimizer stripped from D:\\code\\workspace\\OneDragon-YOLO\\ultralytics\\runs\\zzz_hollow_event_2208\\yolov8s-736\\weights\\last.pt, 21.0MB\n",
      "Optimizer stripped from D:\\code\\workspace\\OneDragon-YOLO\\ultralytics\\runs\\zzz_hollow_event_2208\\yolov8s-736\\weights\\best.pt, 21.0MB\n",
      "\n",
      "Validating D:\\code\\workspace\\OneDragon-YOLO\\ultralytics\\runs\\zzz_hollow_event_2208\\yolov8s-736\\weights\\best.pt...\n",
      "Ultralytics 8.3.1  Python-3.11.9 torch-2.3.1 CUDA:0 (NVIDIA GeForce RTX 4070 Ti, 12282MiB)\n",
      "Model summary (fused): 186 layers, 9,859,398 parameters, 0 gradients, 23.5 GFLOPs\n"
     ]
    },
    {
     "name": "stderr",
     "output_type": "stream",
     "text": [
      "                 Class     Images  Instances      Box(P          R      mAP50  mAP50-95): 100%|██████████| 41/41 [00:30<00:00,  1.34it/s]\n"
     ]
    },
    {
     "name": "stdout",
     "output_type": "stream",
     "text": [
      "                   all        735      69816      0.996      0.992      0.991      0.991\n",
      "            0002-        624       2573          1          1      0.995      0.995\n",
      "               0003-        425        854          1          1      0.995      0.995\n",
      "            0004-        118        125          1          1      0.995      0.995\n",
      "             0006-        330        394          1       0.99      0.995      0.995\n",
      "             0007-        245        306          1      0.987      0.989      0.989\n",
      "              0008-        355        513          1      0.994      0.995      0.995\n",
      "             0009-        374        652          1      0.991      0.995      0.995\n",
      "              0011-          5          8      0.993          1      0.995      0.995\n",
      "               0012-        155        168          1          1      0.995      0.995\n",
      "            0013-        316        371          1      0.996      0.995      0.995\n",
      "             0014-        346        433          1          1      0.995      0.995\n",
      "            0015-         31         33      0.998          1      0.995      0.995\n",
      "            0016-        286        368          1      0.998      0.995      0.995\n",
      "              0017-         11         11      0.993          1      0.995      0.995\n",
      "              0018-         85         88      0.999          1      0.995      0.995\n",
      "             0019-        593       1367          1          1      0.995      0.995\n",
      "          0020--        170        219          1          1      0.995      0.995\n",
      "           0021-        298       6393          1          1      0.995      0.995\n",
      "          0022--        393        679          1      0.998      0.995      0.995\n",
      "           0023-        158        195          1          1      0.995      0.995\n",
      "             0024-        129        133      0.999          1      0.995      0.995\n",
      "          0025--        152        202          1      0.822      0.864      0.864\n",
      "             0026-        289        385          1      0.995      0.995      0.995\n",
      "              0027-        364        507          1          1      0.995      0.995\n",
      "              0028-        368        520          1          1      0.995      0.995\n",
      "               0029-        427        722          1          1      0.995      0.995\n",
      "               0030-        355        542          1      0.993      0.995      0.995\n",
      "              0031-         54         54      0.998          1      0.995      0.995\n",
      "              0032-        270        308          1      0.999      0.995      0.995\n",
      "               0033-          6          6      0.987          1      0.995      0.995\n",
      "               0034-         61         61      0.999          1      0.995      0.995\n",
      "               0035-         51         55      0.999      0.945      0.951      0.951\n",
      "               0036-         35         36      0.998      0.972      0.978      0.978\n",
      "             0037-        256        281          1          1      0.995      0.995\n",
      "             0038-         89        101      0.999      0.911      0.943      0.943\n",
      "            0039-         11         11      0.992          1      0.995      0.995\n",
      "            0040-         11         11          1      0.988      0.995      0.995\n",
      "          0041-         14         14      0.994          1      0.995      0.995\n",
      "           0042-         78         82      0.999          1      0.995      0.995\n",
      "            0043-         92         93      0.999          1      0.995      0.995\n",
      "            0044-        147        159      0.999          1      0.995      0.995\n",
      "             0045-         32         32      0.997          1      0.995      0.995\n",
      "         0046-         45         45      0.999          1      0.995      0.995\n",
      "             0047-         29         29      0.996          1      0.995      0.995\n",
      "              0048-        547       1072          1      0.998      0.995      0.995\n",
      "               0049-         24         24          1      0.975      0.995      0.995\n",
      "            0051-         32         33      0.998          1      0.995      0.995\n",
      "           0052-         50         50      0.998          1      0.995      0.995\n",
      "           0053-          3          3      0.979          1      0.995      0.995\n",
      "             0054-         66         86      0.999      0.953      0.964      0.964\n",
      "            0055-         20         20      0.996          1      0.995      0.995\n",
      "             0056-        248        282          1          1      0.995      0.995\n",
      "             0057-         46         59          1      0.983      0.987      0.985\n",
      "           0058-         27         27      0.997          1      0.995      0.995\n",
      "            0059-          1          1      0.951          1      0.995      0.995\n",
      "             0061--        100        109      0.999          1      0.995      0.995\n",
      "               0062-          1          1      0.953          1      0.995      0.995\n",
      "             0063--          3          3      0.976          1      0.995      0.995\n",
      "             0066--         96        107      0.999          1      0.995      0.995\n",
      "             0068--         61        119      0.999          1      0.995      0.995\n",
      "             0069-         60         61      0.999          1      0.995      0.995\n",
      "              0070-         75        235          1          1      0.995      0.995\n",
      "               0071-         45         46      0.999          1      0.995      0.995\n",
      "             0072-         63         77      0.999          1      0.995      0.995\n",
      "           0073-        157        168          1          1      0.995      0.995\n",
      "               0074-          5          5      0.984          1      0.995      0.995\n",
      "           0075-         67         71      0.999          1      0.995      0.995\n",
      "             0076-         19         19      0.995          1      0.995      0.995\n",
      "            8000-        735      32666          1      0.949       0.98      0.979\n",
      "            8001-        624       1959          1      0.957      0.988      0.988\n",
      "            8002-        174        219          1          1      0.995      0.995\n",
      "               9000-        735       1467          1          1      0.995      0.995\n",
      "            9001-        350       4763          1          1      0.995      0.995\n",
      "            9002-        604       5770          1          1      0.995      0.995\n",
      "           9003-          1          2      0.965          1      0.995      0.995\n",
      "           9005-        116        153      0.999          1      0.995      0.995\n"
     ]
    },
    {
     "name": "stderr",
     "output_type": "stream",
     "text": [
      "D:\\code\\env\\anaconda\\envs\\mhy-yolo\\Lib\\site-packages\\ultralytics\\utils\\metrics.py:432: UserWarning: Glyph 36215 (\\N{CJK UNIFIED IDEOGRAPH-8D77}) missing from current font.\n",
      "  fig.savefig(plot_fname, dpi=250)\n",
      "D:\\code\\env\\anaconda\\envs\\mhy-yolo\\Lib\\site-packages\\ultralytics\\utils\\metrics.py:432: UserWarning: Glyph 28857 (\\N{CJK UNIFIED IDEOGRAPH-70B9}) missing from current font.\n",
      "  fig.savefig(plot_fname, dpi=250)\n",
      "D:\\code\\env\\anaconda\\envs\\mhy-yolo\\Lib\\site-packages\\ultralytics\\utils\\metrics.py:432: UserWarning: Glyph 40831 (\\N{CJK UNIFIED IDEOGRAPH-9F7F}) missing from current font.\n",
      "  fig.savefig(plot_fname, dpi=250)\n",
      "D:\\code\\env\\anaconda\\envs\\mhy-yolo\\Lib\\site-packages\\ultralytics\\utils\\metrics.py:432: UserWarning: Glyph 36718 (\\N{CJK UNIFIED IDEOGRAPH-8F6E}) missing from current font.\n",
      "  fig.savefig(plot_fname, dpi=250)\n",
      "D:\\code\\env\\anaconda\\envs\\mhy-yolo\\Lib\\site-packages\\ultralytics\\utils\\metrics.py:432: UserWarning: Glyph 30828 (\\N{CJK UNIFIED IDEOGRAPH-786C}) missing from current font.\n",
      "  fig.savefig(plot_fname, dpi=250)\n",
      "D:\\code\\env\\anaconda\\envs\\mhy-yolo\\Lib\\site-packages\\ultralytics\\utils\\metrics.py:432: UserWarning: Glyph 24065 (\\N{CJK UNIFIED IDEOGRAPH-5E01}) missing from current font.\n",
      "  fig.savefig(plot_fname, dpi=250)\n",
      "D:\\code\\env\\anaconda\\envs\\mhy-yolo\\Lib\\site-packages\\ultralytics\\utils\\metrics.py:432: UserWarning: Glyph 31665 (\\N{CJK UNIFIED IDEOGRAPH-7BB1}) missing from current font.\n",
      "  fig.savefig(plot_fname, dpi=250)\n",
      "D:\\code\\env\\anaconda\\envs\\mhy-yolo\\Lib\\site-packages\\ultralytics\\utils\\metrics.py:432: UserWarning: Glyph 21361 (\\N{CJK UNIFIED IDEOGRAPH-5371}) missing from current font.\n",
      "  fig.savefig(plot_fname, dpi=250)\n",
      "D:\\code\\env\\anaconda\\envs\\mhy-yolo\\Lib\\site-packages\\ultralytics\\utils\\metrics.py:432: UserWarning: Glyph 26426 (\\N{CJK UNIFIED IDEOGRAPH-673A}) missing from current font.\n",
      "  fig.savefig(plot_fname, dpi=250)\n",
      "D:\\code\\env\\anaconda\\envs\\mhy-yolo\\Lib\\site-packages\\ultralytics\\utils\\metrics.py:432: UserWarning: Glyph 19994 (\\N{CJK UNIFIED IDEOGRAPH-4E1A}) missing from current font.\n",
      "  fig.savefig(plot_fname, dpi=250)\n",
      "D:\\code\\env\\anaconda\\envs\\mhy-yolo\\Lib\\site-packages\\ultralytics\\utils\\metrics.py:432: UserWarning: Glyph 32489 (\\N{CJK UNIFIED IDEOGRAPH-7EE9}) missing from current font.\n",
      "  fig.savefig(plot_fname, dpi=250)\n",
      "D:\\code\\env\\anaconda\\envs\\mhy-yolo\\Lib\\site-packages\\ultralytics\\utils\\metrics.py:432: UserWarning: Glyph 32771 (\\N{CJK UNIFIED IDEOGRAPH-8003}) missing from current font.\n",
      "  fig.savefig(plot_fname, dpi=250)\n",
      "D:\\code\\env\\anaconda\\envs\\mhy-yolo\\Lib\\site-packages\\ultralytics\\utils\\metrics.py:432: UserWarning: Glyph 23519 (\\N{CJK UNIFIED IDEOGRAPH-5BDF}) missing from current font.\n",
      "  fig.savefig(plot_fname, dpi=250)\n",
      "D:\\code\\env\\anaconda\\envs\\mhy-yolo\\Lib\\site-packages\\ultralytics\\utils\\metrics.py:432: UserWarning: Glyph 21450 (\\N{CJK UNIFIED IDEOGRAPH-53CA}) missing from current font.\n",
      "  fig.savefig(plot_fname, dpi=250)\n",
      "D:\\code\\env\\anaconda\\envs\\mhy-yolo\\Lib\\site-packages\\ultralytics\\utils\\metrics.py:432: UserWarning: Glyph 26102 (\\N{CJK UNIFIED IDEOGRAPH-65F6}) missing from current font.\n",
      "  fig.savefig(plot_fname, dpi=250)\n",
      "D:\\code\\env\\anaconda\\envs\\mhy-yolo\\Lib\\site-packages\\ultralytics\\utils\\metrics.py:432: UserWarning: Glyph 34917 (\\N{CJK UNIFIED IDEOGRAPH-8865}) missing from current font.\n",
      "  fig.savefig(plot_fname, dpi=250)\n",
      "D:\\code\\env\\anaconda\\envs\\mhy-yolo\\Lib\\site-packages\\ultralytics\\utils\\metrics.py:432: UserWarning: Glyph 32473 (\\N{CJK UNIFIED IDEOGRAPH-7ED9}) missing from current font.\n",
      "  fig.savefig(plot_fname, dpi=250)\n",
      "D:\\code\\env\\anaconda\\envs\\mhy-yolo\\Lib\\site-packages\\ultralytics\\utils\\metrics.py:432: UserWarning: Glyph 25554 (\\N{CJK UNIFIED IDEOGRAPH-63D2}) missing from current font.\n",
      "  fig.savefig(plot_fname, dpi=250)\n",
      "D:\\code\\env\\anaconda\\envs\\mhy-yolo\\Lib\\site-packages\\ultralytics\\utils\\metrics.py:432: UserWarning: Glyph 20214 (\\N{CJK UNIFIED IDEOGRAPH-4EF6}) missing from current font.\n",
      "  fig.savefig(plot_fname, dpi=250)\n",
      "D:\\code\\env\\anaconda\\envs\\mhy-yolo\\Lib\\site-packages\\ultralytics\\utils\\metrics.py:432: UserWarning: Glyph 33719 (\\N{CJK UNIFIED IDEOGRAPH-83B7}) missing from current font.\n",
      "  fig.savefig(plot_fname, dpi=250)\n",
      "D:\\code\\env\\anaconda\\envs\\mhy-yolo\\Lib\\site-packages\\ultralytics\\utils\\metrics.py:432: UserWarning: Glyph 21462 (\\N{CJK UNIFIED IDEOGRAPH-53D6}) missing from current font.\n",
      "  fig.savefig(plot_fname, dpi=250)\n",
      "D:\\code\\env\\anaconda\\envs\\mhy-yolo\\Lib\\site-packages\\ultralytics\\utils\\metrics.py:432: UserWarning: Glyph 25197 (\\N{CJK UNIFIED IDEOGRAPH-626D}) missing from current font.\n",
      "  fig.savefig(plot_fname, dpi=250)\n",
      "D:\\code\\env\\anaconda\\envs\\mhy-yolo\\Lib\\site-packages\\ultralytics\\utils\\metrics.py:432: UserWarning: Glyph 34507 (\\N{CJK UNIFIED IDEOGRAPH-86CB}) missing from current font.\n",
      "  fig.savefig(plot_fname, dpi=250)\n",
      "D:\\code\\env\\anaconda\\envs\\mhy-yolo\\Lib\\site-packages\\ultralytics\\utils\\metrics.py:432: UserWarning: Glyph 21628 (\\N{CJK UNIFIED IDEOGRAPH-547C}) missing from current font.\n",
      "  fig.savefig(plot_fname, dpi=250)\n",
      "D:\\code\\env\\anaconda\\envs\\mhy-yolo\\Lib\\site-packages\\ultralytics\\utils\\metrics.py:432: UserWarning: Glyph 21483 (\\N{CJK UNIFIED IDEOGRAPH-53EB}) missing from current font.\n",
      "  fig.savefig(plot_fname, dpi=250)\n",
      "D:\\code\\env\\anaconda\\envs\\mhy-yolo\\Lib\\site-packages\\ultralytics\\utils\\metrics.py:432: UserWarning: Glyph 22686 (\\N{CJK UNIFIED IDEOGRAPH-589E}) missing from current font.\n",
      "  fig.savefig(plot_fname, dpi=250)\n",
      "D:\\code\\env\\anaconda\\envs\\mhy-yolo\\Lib\\site-packages\\ultralytics\\utils\\metrics.py:432: UserWarning: Glyph 25588 (\\N{CJK UNIFIED IDEOGRAPH-63F4}) missing from current font.\n",
      "  fig.savefig(plot_fname, dpi=250)\n",
      "D:\\code\\env\\anaconda\\envs\\mhy-yolo\\Lib\\site-packages\\ultralytics\\utils\\metrics.py:432: UserWarning: Glyph 31192 (\\N{CJK UNIFIED IDEOGRAPH-79D8}) missing from current font.\n",
      "  fig.savefig(plot_fname, dpi=250)\n",
      "D:\\code\\env\\anaconda\\envs\\mhy-yolo\\Lib\\site-packages\\ultralytics\\utils\\metrics.py:432: UserWarning: Glyph 24452 (\\N{CJK UNIFIED IDEOGRAPH-5F84}) missing from current font.\n",
      "  fig.savefig(plot_fname, dpi=250)\n",
      "D:\\code\\env\\anaconda\\envs\\mhy-yolo\\Lib\\site-packages\\ultralytics\\utils\\metrics.py:432: UserWarning: Glyph 25805 (\\N{CJK UNIFIED IDEOGRAPH-64CD}) missing from current font.\n",
      "  fig.savefig(plot_fname, dpi=250)\n",
      "D:\\code\\env\\anaconda\\envs\\mhy-yolo\\Lib\\site-packages\\ultralytics\\utils\\metrics.py:432: UserWarning: Glyph 32437 (\\N{CJK UNIFIED IDEOGRAPH-7EB5}) missing from current font.\n",
      "  fig.savefig(plot_fname, dpi=250)\n",
      "D:\\code\\env\\anaconda\\envs\\mhy-yolo\\Lib\\site-packages\\ultralytics\\utils\\metrics.py:432: UserWarning: Glyph 26438 (\\N{CJK UNIFIED IDEOGRAPH-6746}) missing from current font.\n",
      "  fig.savefig(plot_fname, dpi=250)\n",
      "D:\\code\\env\\anaconda\\envs\\mhy-yolo\\Lib\\site-packages\\ultralytics\\utils\\metrics.py:432: UserWarning: Glyph 36994 (\\N{CJK UNIFIED IDEOGRAPH-9082}) missing from current font.\n",
      "  fig.savefig(plot_fname, dpi=250)\n",
      "D:\\code\\env\\anaconda\\envs\\mhy-yolo\\Lib\\site-packages\\ultralytics\\utils\\metrics.py:432: UserWarning: Glyph 36869 (\\N{CJK UNIFIED IDEOGRAPH-9005}) missing from current font.\n",
      "  fig.savefig(plot_fname, dpi=250)\n",
      "D:\\code\\env\\anaconda\\envs\\mhy-yolo\\Lib\\site-packages\\ultralytics\\utils\\metrics.py:432: UserWarning: Glyph 20405 (\\N{CJK UNIFIED IDEOGRAPH-4FB5}) missing from current font.\n",
      "  fig.savefig(plot_fname, dpi=250)\n",
      "D:\\code\\env\\anaconda\\envs\\mhy-yolo\\Lib\\site-packages\\ultralytics\\utils\\metrics.py:432: UserWarning: Glyph 34432 (\\N{CJK UNIFIED IDEOGRAPH-8680}) missing from current font.\n",
      "  fig.savefig(plot_fname, dpi=250)\n",
      "D:\\code\\env\\anaconda\\envs\\mhy-yolo\\Lib\\site-packages\\ultralytics\\utils\\metrics.py:432: UserWarning: Glyph 20020 (\\N{CJK UNIFIED IDEOGRAPH-4E34}) missing from current font.\n",
      "  fig.savefig(plot_fname, dpi=250)\n",
      "D:\\code\\env\\anaconda\\envs\\mhy-yolo\\Lib\\site-packages\\ultralytics\\utils\\metrics.py:432: UserWarning: Glyph 25293 (\\N{CJK UNIFIED IDEOGRAPH-62CD}) missing from current font.\n",
      "  fig.savefig(plot_fname, dpi=250)\n",
      "D:\\code\\env\\anaconda\\envs\\mhy-yolo\\Lib\\site-packages\\ultralytics\\utils\\metrics.py:432: UserWarning: Glyph 26723 (\\N{CJK UNIFIED IDEOGRAPH-6863}) missing from current font.\n",
      "  fig.savefig(plot_fname, dpi=250)\n",
      "D:\\code\\env\\anaconda\\envs\\mhy-yolo\\Lib\\site-packages\\ultralytics\\utils\\metrics.py:432: UserWarning: Glyph 20551 (\\N{CJK UNIFIED IDEOGRAPH-5047}) missing from current font.\n",
      "  fig.savefig(plot_fname, dpi=250)\n",
      "D:\\code\\env\\anaconda\\envs\\mhy-yolo\\Lib\\site-packages\\ultralytics\\utils\\metrics.py:432: UserWarning: Glyph 38754 (\\N{CJK UNIFIED IDEOGRAPH-9762}) missing from current font.\n",
      "  fig.savefig(plot_fname, dpi=250)\n",
      "D:\\code\\env\\anaconda\\envs\\mhy-yolo\\Lib\\site-packages\\ultralytics\\utils\\metrics.py:432: UserWarning: Glyph 30740 (\\N{CJK UNIFIED IDEOGRAPH-7814}) missing from current font.\n",
      "  fig.savefig(plot_fname, dpi=250)\n",
      "D:\\code\\env\\anaconda\\envs\\mhy-yolo\\Lib\\site-packages\\ultralytics\\utils\\metrics.py:432: UserWarning: Glyph 31350 (\\N{CJK UNIFIED IDEOGRAPH-7A76}) missing from current font.\n",
      "  fig.savefig(plot_fname, dpi=250)\n",
      "D:\\code\\env\\anaconda\\envs\\mhy-yolo\\Lib\\site-packages\\ultralytics\\utils\\metrics.py:432: UserWarning: Glyph 32773 (\\N{CJK UNIFIED IDEOGRAPH-8005}) missing from current font.\n",
      "  fig.savefig(plot_fname, dpi=250)\n",
      "D:\\code\\env\\anaconda\\envs\\mhy-yolo\\Lib\\site-packages\\ultralytics\\utils\\metrics.py:432: UserWarning: Glyph 40483 (\\N{CJK UNIFIED IDEOGRAPH-9E23}) missing from current font.\n",
      "  fig.savefig(plot_fname, dpi=250)\n",
      "D:\\code\\env\\anaconda\\envs\\mhy-yolo\\Lib\\site-packages\\ultralytics\\utils\\metrics.py:432: UserWarning: Glyph 24509 (\\N{CJK UNIFIED IDEOGRAPH-5FBD}) missing from current font.\n",
      "  fig.savefig(plot_fname, dpi=250)\n",
      "D:\\code\\env\\anaconda\\envs\\mhy-yolo\\Lib\\site-packages\\ultralytics\\utils\\metrics.py:432: UserWarning: Glyph 20652 (\\N{CJK UNIFIED IDEOGRAPH-50AC}) missing from current font.\n",
      "  fig.savefig(plot_fname, dpi=250)\n",
      "D:\\code\\env\\anaconda\\envs\\mhy-yolo\\Lib\\site-packages\\ultralytics\\utils\\metrics.py:432: UserWarning: Glyph 21270 (\\N{CJK UNIFIED IDEOGRAPH-5316}) missing from current font.\n",
      "  fig.savefig(plot_fname, dpi=250)\n",
      "D:\\code\\env\\anaconda\\envs\\mhy-yolo\\Lib\\site-packages\\ultralytics\\utils\\metrics.py:432: UserWarning: Glyph 21058 (\\N{CJK UNIFIED IDEOGRAPH-5242}) missing from current font.\n",
      "  fig.savefig(plot_fname, dpi=250)\n",
      "D:\\code\\env\\anaconda\\envs\\mhy-yolo\\Lib\\site-packages\\ultralytics\\utils\\metrics.py:432: UserWarning: Glyph 35843 (\\N{CJK UNIFIED IDEOGRAPH-8C03}) missing from current font.\n",
      "  fig.savefig(plot_fname, dpi=250)\n",
      "D:\\code\\env\\anaconda\\envs\\mhy-yolo\\Lib\\site-packages\\ultralytics\\utils\\metrics.py:432: UserWarning: Glyph 26597 (\\N{CJK UNIFIED IDEOGRAPH-67E5}) missing from current font.\n",
      "  fig.savefig(plot_fname, dpi=250)\n",
      "D:\\code\\env\\anaconda\\envs\\mhy-yolo\\Lib\\site-packages\\ultralytics\\utils\\metrics.py:432: UserWarning: Glyph 21592 (\\N{CJK UNIFIED IDEOGRAPH-5458}) missing from current font.\n",
      "  fig.savefig(plot_fname, dpi=250)\n",
      "D:\\code\\env\\anaconda\\envs\\mhy-yolo\\Lib\\site-packages\\ultralytics\\utils\\metrics.py:432: UserWarning: Glyph 30423 (\\N{CJK UNIFIED IDEOGRAPH-76D7}) missing from current font.\n",
      "  fig.savefig(plot_fname, dpi=250)\n",
      "D:\\code\\env\\anaconda\\envs\\mhy-yolo\\Lib\\site-packages\\ultralytics\\utils\\metrics.py:432: UserWarning: Glyph 27934 (\\N{CJK UNIFIED IDEOGRAPH-6D1E}) missing from current font.\n",
      "  fig.savefig(plot_fname, dpi=250)\n",
      "D:\\code\\env\\anaconda\\envs\\mhy-yolo\\Lib\\site-packages\\ultralytics\\utils\\metrics.py:432: UserWarning: Glyph 23458 (\\N{CJK UNIFIED IDEOGRAPH-5BA2}) missing from current font.\n",
      "  fig.savefig(plot_fname, dpi=250)\n",
      "D:\\code\\env\\anaconda\\envs\\mhy-yolo\\Lib\\site-packages\\ultralytics\\utils\\metrics.py:432: UserWarning: Glyph 37030 (\\N{CJK UNIFIED IDEOGRAPH-90A6}) missing from current font.\n",
      "  fig.savefig(plot_fname, dpi=250)\n",
      "D:\\code\\env\\anaconda\\envs\\mhy-yolo\\Lib\\site-packages\\ultralytics\\utils\\metrics.py:432: UserWarning: Glyph 24067 (\\N{CJK UNIFIED IDEOGRAPH-5E03}) missing from current font.\n",
      "  fig.savefig(plot_fname, dpi=250)\n",
      "D:\\code\\env\\anaconda\\envs\\mhy-yolo\\Lib\\site-packages\\ultralytics\\utils\\metrics.py:432: UserWarning: Glyph 21830 (\\N{CJK UNIFIED IDEOGRAPH-5546}) missing from current font.\n",
      "  fig.savefig(plot_fname, dpi=250)\n",
      "D:\\code\\env\\anaconda\\envs\\mhy-yolo\\Lib\\site-packages\\ultralytics\\utils\\metrics.py:432: UserWarning: Glyph 20154 (\\N{CJK UNIFIED IDEOGRAPH-4EBA}) missing from current font.\n",
      "  fig.savefig(plot_fname, dpi=250)\n",
      "D:\\code\\env\\anaconda\\envs\\mhy-yolo\\Lib\\site-packages\\ultralytics\\utils\\metrics.py:432: UserWarning: Glyph 38376 (\\N{CJK UNIFIED IDEOGRAPH-95E8}) missing from current font.\n",
      "  fig.savefig(plot_fname, dpi=250)\n",
      "D:\\code\\env\\anaconda\\envs\\mhy-yolo\\Lib\\site-packages\\ultralytics\\utils\\metrics.py:432: UserWarning: Glyph 25161 (\\N{CJK UNIFIED IDEOGRAPH-6249}) missing from current font.\n",
      "  fig.savefig(plot_fname, dpi=250)\n",
      "D:\\code\\env\\anaconda\\envs\\mhy-yolo\\Lib\\site-packages\\ultralytics\\utils\\metrics.py:432: UserWarning: Glyph 31105 (\\N{CJK UNIFIED IDEOGRAPH-7981}) missing from current font.\n",
      "  fig.savefig(plot_fname, dpi=250)\n",
      "D:\\code\\env\\anaconda\\envs\\mhy-yolo\\Lib\\site-packages\\ultralytics\\utils\\metrics.py:432: UserWarning: Glyph 38381 (\\N{CJK UNIFIED IDEOGRAPH-95ED}) missing from current font.\n",
      "  fig.savefig(plot_fname, dpi=250)\n",
      "D:\\code\\env\\anaconda\\envs\\mhy-yolo\\Lib\\site-packages\\ultralytics\\utils\\metrics.py:432: UserWarning: Glyph 36130 (\\N{CJK UNIFIED IDEOGRAPH-8D22}) missing from current font.\n",
      "  fig.savefig(plot_fname, dpi=250)\n",
      "D:\\code\\env\\anaconda\\envs\\mhy-yolo\\Lib\\site-packages\\ultralytics\\utils\\metrics.py:432: UserWarning: Glyph 23500 (\\N{CJK UNIFIED IDEOGRAPH-5BCC}) missing from current font.\n",
      "  fig.savefig(plot_fname, dpi=250)\n",
      "D:\\code\\env\\anaconda\\envs\\mhy-yolo\\Lib\\site-packages\\ultralytics\\utils\\metrics.py:432: UserWarning: Glyph 39037 (\\N{CJK UNIFIED IDEOGRAPH-987D}) missing from current font.\n",
      "  fig.savefig(plot_fname, dpi=250)\n",
      "D:\\code\\env\\anaconda\\envs\\mhy-yolo\\Lib\\site-packages\\ultralytics\\utils\\metrics.py:432: UserWarning: Glyph 22266 (\\N{CJK UNIFIED IDEOGRAPH-56FA}) missing from current font.\n",
      "  fig.savefig(plot_fname, dpi=250)\n",
      "D:\\code\\env\\anaconda\\envs\\mhy-yolo\\Lib\\site-packages\\ultralytics\\utils\\metrics.py:432: UserWarning: Glyph 30340 (\\N{CJK UNIFIED IDEOGRAPH-7684}) missing from current font.\n",
      "  fig.savefig(plot_fname, dpi=250)\n",
      "D:\\code\\env\\anaconda\\envs\\mhy-yolo\\Lib\\site-packages\\ultralytics\\utils\\metrics.py:432: UserWarning: Glyph 38556 (\\N{CJK UNIFIED IDEOGRAPH-969C}) missing from current font.\n",
      "  fig.savefig(plot_fname, dpi=250)\n",
      "D:\\code\\env\\anaconda\\envs\\mhy-yolo\\Lib\\site-packages\\ultralytics\\utils\\metrics.py:432: UserWarning: Glyph 30861 (\\N{CJK UNIFIED IDEOGRAPH-788D}) missing from current font.\n",
      "  fig.savefig(plot_fname, dpi=250)\n",
      "D:\\code\\env\\anaconda\\envs\\mhy-yolo\\Lib\\site-packages\\ultralytics\\utils\\metrics.py:432: UserWarning: Glyph 29289 (\\N{CJK UNIFIED IDEOGRAPH-7269}) missing from current font.\n",
      "  fig.savefig(plot_fname, dpi=250)\n",
      "D:\\code\\env\\anaconda\\envs\\mhy-yolo\\Lib\\site-packages\\ultralytics\\utils\\metrics.py:432: UserWarning: Glyph 27531 (\\N{CJK UNIFIED IDEOGRAPH-6B8B}) missing from current font.\n",
      "  fig.savefig(plot_fname, dpi=250)\n",
      "D:\\code\\env\\anaconda\\envs\\mhy-yolo\\Lib\\site-packages\\ultralytics\\utils\\metrics.py:432: UserWarning: Glyph 30772 (\\N{CJK UNIFIED IDEOGRAPH-7834}) missing from current font.\n",
      "  fig.savefig(plot_fname, dpi=250)\n",
      "D:\\code\\env\\anaconda\\envs\\mhy-yolo\\Lib\\site-packages\\ultralytics\\utils\\metrics.py:432: UserWarning: Glyph 21452 (\\N{CJK UNIFIED IDEOGRAPH-53CC}) missing from current font.\n",
      "  fig.savefig(plot_fname, dpi=250)\n",
      "D:\\code\\env\\anaconda\\envs\\mhy-yolo\\Lib\\site-packages\\ultralytics\\utils\\metrics.py:432: UserWarning: Glyph 37325 (\\N{CJK UNIFIED IDEOGRAPH-91CD}) missing from current font.\n",
      "  fig.savefig(plot_fname, dpi=250)\n",
      "D:\\code\\env\\anaconda\\envs\\mhy-yolo\\Lib\\site-packages\\ultralytics\\utils\\metrics.py:432: UserWarning: Glyph 21892 (\\N{CJK UNIFIED IDEOGRAPH-5584}) missing from current font.\n",
      "  fig.savefig(plot_fname, dpi=250)\n",
      "D:\\code\\env\\anaconda\\envs\\mhy-yolo\\Lib\\site-packages\\ultralytics\\utils\\metrics.py:432: UserWarning: Glyph 25112 (\\N{CJK UNIFIED IDEOGRAPH-6218}) missing from current font.\n",
      "  fig.savefig(plot_fname, dpi=250)\n",
      "D:\\code\\env\\anaconda\\envs\\mhy-yolo\\Lib\\site-packages\\ultralytics\\utils\\metrics.py:432: UserWarning: Glyph 24320 (\\N{CJK UNIFIED IDEOGRAPH-5F00}) missing from current font.\n",
      "  fig.savefig(plot_fname, dpi=250)\n",
      "D:\\code\\env\\anaconda\\envs\\mhy-yolo\\Lib\\site-packages\\ultralytics\\utils\\metrics.py:432: UserWarning: Glyph 21551 (\\N{CJK UNIFIED IDEOGRAPH-542F}) missing from current font.\n",
      "  fig.savefig(plot_fname, dpi=250)\n",
      "D:\\code\\env\\anaconda\\envs\\mhy-yolo\\Lib\\site-packages\\ultralytics\\utils\\metrics.py:432: UserWarning: Glyph 23433 (\\N{CJK UNIFIED IDEOGRAPH-5B89}) missing from current font.\n",
      "  fig.savefig(plot_fname, dpi=250)\n",
      "D:\\code\\env\\anaconda\\envs\\mhy-yolo\\Lib\\site-packages\\ultralytics\\utils\\metrics.py:432: UserWarning: Glyph 20840 (\\N{CJK UNIFIED IDEOGRAPH-5168}) missing from current font.\n",
      "  fig.savefig(plot_fname, dpi=250)\n",
      "D:\\code\\env\\anaconda\\envs\\mhy-yolo\\Lib\\site-packages\\ultralytics\\utils\\metrics.py:432: UserWarning: Glyph 21306 (\\N{CJK UNIFIED IDEOGRAPH-533A}) missing from current font.\n",
      "  fig.savefig(plot_fname, dpi=250)\n",
      "D:\\code\\env\\anaconda\\envs\\mhy-yolo\\Lib\\site-packages\\ultralytics\\utils\\metrics.py:432: UserWarning: Glyph 20241 (\\N{CJK UNIFIED IDEOGRAPH-4F11}) missing from current font.\n",
      "  fig.savefig(plot_fname, dpi=250)\n",
      "D:\\code\\env\\anaconda\\envs\\mhy-yolo\\Lib\\site-packages\\ultralytics\\utils\\metrics.py:432: UserWarning: Glyph 24687 (\\N{CJK UNIFIED IDEOGRAPH-606F}) missing from current font.\n",
      "  fig.savefig(plot_fname, dpi=250)\n",
      "D:\\code\\env\\anaconda\\envs\\mhy-yolo\\Lib\\site-packages\\ultralytics\\utils\\metrics.py:432: UserWarning: Glyph 22833 (\\N{CJK UNIFIED IDEOGRAPH-5931}) missing from current font.\n",
      "  fig.savefig(plot_fname, dpi=250)\n",
      "D:\\code\\env\\anaconda\\envs\\mhy-yolo\\Lib\\site-packages\\ultralytics\\utils\\metrics.py:432: UserWarning: Glyph 32852 (\\N{CJK UNIFIED IDEOGRAPH-8054}) missing from current font.\n",
      "  fig.savefig(plot_fname, dpi=250)\n",
      "D:\\code\\env\\anaconda\\envs\\mhy-yolo\\Lib\\site-packages\\ultralytics\\utils\\metrics.py:432: UserWarning: Glyph 20928 (\\N{CJK UNIFIED IDEOGRAPH-51C0}) missing from current font.\n",
      "  fig.savefig(plot_fname, dpi=250)\n",
      "D:\\code\\env\\anaconda\\envs\\mhy-yolo\\Lib\\site-packages\\ultralytics\\utils\\metrics.py:432: UserWarning: Glyph 23460 (\\N{CJK UNIFIED IDEOGRAPH-5BA4}) missing from current font.\n",
      "  fig.savefig(plot_fname, dpi=250)\n",
      "D:\\code\\env\\anaconda\\envs\\mhy-yolo\\Lib\\site-packages\\ultralytics\\utils\\metrics.py:432: UserWarning: Glyph 20256 (\\N{CJK UNIFIED IDEOGRAPH-4F20}) missing from current font.\n",
      "  fig.savefig(plot_fname, dpi=250)\n",
      "D:\\code\\env\\anaconda\\envs\\mhy-yolo\\Lib\\site-packages\\ultralytics\\utils\\metrics.py:432: UserWarning: Glyph 36865 (\\N{CJK UNIFIED IDEOGRAPH-9001}) missing from current font.\n",
      "  fig.savefig(plot_fname, dpi=250)\n",
      "D:\\code\\env\\anaconda\\envs\\mhy-yolo\\Lib\\site-packages\\ultralytics\\utils\\metrics.py:432: UserWarning: Glyph 30495 (\\N{CJK UNIFIED IDEOGRAPH-771F}) missing from current font.\n",
      "  fig.savefig(plot_fname, dpi=250)\n",
      "D:\\code\\env\\anaconda\\envs\\mhy-yolo\\Lib\\site-packages\\ultralytics\\utils\\metrics.py:432: UserWarning: Glyph 30456 (\\N{CJK UNIFIED IDEOGRAPH-76F8}) missing from current font.\n",
      "  fig.savefig(plot_fname, dpi=250)\n",
      "D:\\code\\env\\anaconda\\envs\\mhy-yolo\\Lib\\site-packages\\ultralytics\\utils\\metrics.py:432: UserWarning: Glyph 36890 (\\N{CJK UNIFIED IDEOGRAPH-901A}) missing from current font.\n",
      "  fig.savefig(plot_fname, dpi=250)\n",
      "D:\\code\\env\\anaconda\\envs\\mhy-yolo\\Lib\\site-packages\\ultralytics\\utils\\metrics.py:432: UserWarning: Glyph 36947 (\\N{CJK UNIFIED IDEOGRAPH-9053}) missing from current font.\n",
      "  fig.savefig(plot_fname, dpi=250)\n",
      "D:\\code\\env\\anaconda\\envs\\mhy-yolo\\Lib\\site-packages\\ultralytics\\utils\\metrics.py:432: UserWarning: Glyph 24040 (\\N{CJK UNIFIED IDEOGRAPH-5DE8}) missing from current font.\n",
      "  fig.savefig(plot_fname, dpi=250)\n",
      "D:\\code\\env\\anaconda\\envs\\mhy-yolo\\Lib\\site-packages\\ultralytics\\utils\\metrics.py:432: UserWarning: Glyph 20861 (\\N{CJK UNIFIED IDEOGRAPH-517D}) missing from current font.\n",
      "  fig.savefig(plot_fname, dpi=250)\n",
      "D:\\code\\env\\anaconda\\envs\\mhy-yolo\\Lib\\site-packages\\ultralytics\\utils\\metrics.py:432: UserWarning: Glyph 22855 (\\N{CJK UNIFIED IDEOGRAPH-5947}) missing from current font.\n",
      "  fig.savefig(plot_fname, dpi=250)\n",
      "D:\\code\\env\\anaconda\\envs\\mhy-yolo\\Lib\\site-packages\\ultralytics\\utils\\metrics.py:432: UserWarning: Glyph 36135 (\\N{CJK UNIFIED IDEOGRAPH-8D27}) missing from current font.\n",
      "  fig.savefig(plot_fname, dpi=250)\n",
      "D:\\code\\env\\anaconda\\envs\\mhy-yolo\\Lib\\site-packages\\ultralytics\\utils\\metrics.py:432: UserWarning: Glyph 30450 (\\N{CJK UNIFIED IDEOGRAPH-76F2}) missing from current font.\n",
      "  fig.savefig(plot_fname, dpi=250)\n",
      "D:\\code\\env\\anaconda\\envs\\mhy-yolo\\Lib\\site-packages\\ultralytics\\utils\\metrics.py:432: UserWarning: Glyph 30418 (\\N{CJK UNIFIED IDEOGRAPH-76D2}) missing from current font.\n",
      "  fig.savefig(plot_fname, dpi=250)\n",
      "D:\\code\\env\\anaconda\\envs\\mhy-yolo\\Lib\\site-packages\\ultralytics\\utils\\metrics.py:432: UserWarning: Glyph 22495 (\\N{CJK UNIFIED IDEOGRAPH-57DF}) missing from current font.\n",
      "  fig.savefig(plot_fname, dpi=250)\n",
      "D:\\code\\env\\anaconda\\envs\\mhy-yolo\\Lib\\site-packages\\ultralytics\\utils\\metrics.py:432: UserWarning: Glyph 19981 (\\N{CJK UNIFIED IDEOGRAPH-4E0D}) missing from current font.\n",
      "  fig.savefig(plot_fname, dpi=250)\n",
      "D:\\code\\env\\anaconda\\envs\\mhy-yolo\\Lib\\site-packages\\ultralytics\\utils\\metrics.py:432: UserWarning: Glyph 23452 (\\N{CJK UNIFIED IDEOGRAPH-5B9C}) missing from current font.\n",
      "  fig.savefig(plot_fname, dpi=250)\n",
      "D:\\code\\env\\anaconda\\envs\\mhy-yolo\\Lib\\site-packages\\ultralytics\\utils\\metrics.py:432: UserWarning: Glyph 20037 (\\N{CJK UNIFIED IDEOGRAPH-4E45}) missing from current font.\n",
      "  fig.savefig(plot_fname, dpi=250)\n",
      "D:\\code\\env\\anaconda\\envs\\mhy-yolo\\Lib\\site-packages\\ultralytics\\utils\\metrics.py:432: UserWarning: Glyph 30041 (\\N{CJK UNIFIED IDEOGRAPH-7559}) missing from current font.\n",
      "  fig.savefig(plot_fname, dpi=250)\n",
      "D:\\code\\env\\anaconda\\envs\\mhy-yolo\\Lib\\site-packages\\ultralytics\\utils\\metrics.py:432: UserWarning: Glyph 24618 (\\N{CJK UNIFIED IDEOGRAPH-602A}) missing from current font.\n",
      "  fig.savefig(plot_fname, dpi=250)\n",
      "D:\\code\\env\\anaconda\\envs\\mhy-yolo\\Lib\\site-packages\\ultralytics\\utils\\metrics.py:432: UserWarning: Glyph 20390 (\\N{CJK UNIFIED IDEOGRAPH-4FA6}) missing from current font.\n",
      "  fig.savefig(plot_fname, dpi=250)\n",
      "D:\\code\\env\\anaconda\\envs\\mhy-yolo\\Lib\\site-packages\\ultralytics\\utils\\metrics.py:432: UserWarning: Glyph 25506 (\\N{CJK UNIFIED IDEOGRAPH-63A2}) missing from current font.\n",
      "  fig.savefig(plot_fname, dpi=250)\n",
      "D:\\code\\env\\anaconda\\envs\\mhy-yolo\\Lib\\site-packages\\ultralytics\\utils\\metrics.py:432: UserWarning: Glyph 27714 (\\N{CJK UNIFIED IDEOGRAPH-6C42}) missing from current font.\n",
      "  fig.savefig(plot_fname, dpi=250)\n",
      "D:\\code\\env\\anaconda\\envs\\mhy-yolo\\Lib\\site-packages\\ultralytics\\utils\\metrics.py:432: UserWarning: Glyph 25937 (\\N{CJK UNIFIED IDEOGRAPH-6551}) missing from current font.\n",
      "  fig.savefig(plot_fname, dpi=250)\n",
      "D:\\code\\env\\anaconda\\envs\\mhy-yolo\\Lib\\site-packages\\ultralytics\\utils\\metrics.py:432: UserWarning: Glyph 20449 (\\N{CJK UNIFIED IDEOGRAPH-4FE1}) missing from current font.\n",
      "  fig.savefig(plot_fname, dpi=250)\n",
      "D:\\code\\env\\anaconda\\envs\\mhy-yolo\\Lib\\site-packages\\ultralytics\\utils\\metrics.py:432: UserWarning: Glyph 21495 (\\N{CJK UNIFIED IDEOGRAPH-53F7}) missing from current font.\n",
      "  fig.savefig(plot_fname, dpi=250)\n",
      "D:\\code\\env\\anaconda\\envs\\mhy-yolo\\Lib\\site-packages\\ultralytics\\utils\\metrics.py:432: UserWarning: Glyph 21327 (\\N{CJK UNIFIED IDEOGRAPH-534F}) missing from current font.\n",
      "  fig.savefig(plot_fname, dpi=250)\n",
      "D:\\code\\env\\anaconda\\envs\\mhy-yolo\\Lib\\site-packages\\ultralytics\\utils\\metrics.py:432: UserWarning: Glyph 20250 (\\N{CJK UNIFIED IDEOGRAPH-4F1A}) missing from current font.\n",
      "  fig.savefig(plot_fname, dpi=250)\n",
      "D:\\code\\env\\anaconda\\envs\\mhy-yolo\\Lib\\site-packages\\ultralytics\\utils\\metrics.py:432: UserWarning: Glyph 31449 (\\N{CJK UNIFIED IDEOGRAPH-7AD9}) missing from current font.\n",
      "  fig.savefig(plot_fname, dpi=250)\n",
      "D:\\code\\env\\anaconda\\envs\\mhy-yolo\\Lib\\site-packages\\ultralytics\\utils\\metrics.py:432: UserWarning: Glyph 31934 (\\N{CJK UNIFIED IDEOGRAPH-7CBE}) missing from current font.\n",
      "  fig.savefig(plot_fname, dpi=250)\n",
      "D:\\code\\env\\anaconda\\envs\\mhy-yolo\\Lib\\site-packages\\ultralytics\\utils\\metrics.py:432: UserWarning: Glyph 38160 (\\N{CJK UNIFIED IDEOGRAPH-9510}) missing from current font.\n",
      "  fig.savefig(plot_fname, dpi=250)\n",
      "D:\\code\\env\\anaconda\\envs\\mhy-yolo\\Lib\\site-packages\\ultralytics\\utils\\metrics.py:432: UserWarning: Glyph 21161 (\\N{CJK UNIFIED IDEOGRAPH-52A9}) missing from current font.\n",
      "  fig.savefig(plot_fname, dpi=250)\n",
      "D:\\code\\env\\anaconda\\envs\\mhy-yolo\\Lib\\site-packages\\ultralytics\\utils\\metrics.py:432: UserWarning: Glyph 25163 (\\N{CJK UNIFIED IDEOGRAPH-624B}) missing from current font.\n",
      "  fig.savefig(plot_fname, dpi=250)\n",
      "D:\\code\\env\\anaconda\\envs\\mhy-yolo\\Lib\\site-packages\\ultralytics\\utils\\metrics.py:432: UserWarning: Glyph 27835 (\\N{CJK UNIFIED IDEOGRAPH-6CBB}) missing from current font.\n",
      "  fig.savefig(plot_fname, dpi=250)\n",
      "D:\\code\\env\\anaconda\\envs\\mhy-yolo\\Lib\\site-packages\\ultralytics\\utils\\metrics.py:432: UserWarning: Glyph 23448 (\\N{CJK UNIFIED IDEOGRAPH-5B98}) missing from current font.\n",
      "  fig.savefig(plot_fname, dpi=250)\n",
      "D:\\code\\env\\anaconda\\envs\\mhy-yolo\\Lib\\site-packages\\ultralytics\\utils\\metrics.py:432: UserWarning: Glyph 23567 (\\N{CJK UNIFIED IDEOGRAPH-5C0F}) missing from current font.\n",
      "  fig.savefig(plot_fname, dpi=250)\n",
      "D:\\code\\env\\anaconda\\envs\\mhy-yolo\\Lib\\site-packages\\ultralytics\\utils\\metrics.py:432: UserWarning: Glyph 38431 (\\N{CJK UNIFIED IDEOGRAPH-961F}) missing from current font.\n",
      "  fig.savefig(plot_fname, dpi=250)\n",
      "D:\\code\\env\\anaconda\\envs\\mhy-yolo\\Lib\\site-packages\\ultralytics\\utils\\metrics.py:432: UserWarning: Glyph 26377 (\\N{CJK UNIFIED IDEOGRAPH-6709}) missing from current font.\n",
      "  fig.savefig(plot_fname, dpi=250)\n",
      "D:\\code\\env\\anaconda\\envs\\mhy-yolo\\Lib\\site-packages\\ultralytics\\utils\\metrics.py:432: UserWarning: Glyph 20607 (\\N{CJK UNIFIED IDEOGRAPH-507F}) missing from current font.\n",
      "  fig.savefig(plot_fname, dpi=250)\n",
      "D:\\code\\env\\anaconda\\envs\\mhy-yolo\\Lib\\site-packages\\ultralytics\\utils\\metrics.py:432: UserWarning: Glyph 39301 (\\N{CJK UNIFIED IDEOGRAPH-9985}) missing from current font.\n",
      "  fig.savefig(plot_fname, dpi=250)\n",
      "D:\\code\\env\\anaconda\\envs\\mhy-yolo\\Lib\\site-packages\\ultralytics\\utils\\metrics.py:432: UserWarning: Glyph 39292 (\\N{CJK UNIFIED IDEOGRAPH-997C}) missing from current font.\n",
      "  fig.savefig(plot_fname, dpi=250)\n",
      "D:\\code\\env\\anaconda\\envs\\mhy-yolo\\Lib\\site-packages\\ultralytics\\utils\\metrics.py:432: UserWarning: Glyph 22825 (\\N{CJK UNIFIED IDEOGRAPH-5929}) missing from current font.\n",
      "  fig.savefig(plot_fname, dpi=250)\n",
      "D:\\code\\env\\anaconda\\envs\\mhy-yolo\\Lib\\site-packages\\ultralytics\\utils\\metrics.py:432: UserWarning: Glyph 38477 (\\N{CJK UNIFIED IDEOGRAPH-964D}) missing from current font.\n",
      "  fig.savefig(plot_fname, dpi=250)\n",
      "D:\\code\\env\\anaconda\\envs\\mhy-yolo\\Lib\\site-packages\\ultralytics\\utils\\metrics.py:432: UserWarning: Glyph 24576 (\\N{CJK UNIFIED IDEOGRAPH-6000}) missing from current font.\n",
      "  fig.savefig(plot_fname, dpi=250)\n",
      "D:\\code\\env\\anaconda\\envs\\mhy-yolo\\Lib\\site-packages\\ultralytics\\utils\\metrics.py:432: UserWarning: Glyph 26031 (\\N{CJK UNIFIED IDEOGRAPH-65AF}) missing from current font.\n",
      "  fig.savefig(plot_fname, dpi=250)\n",
      "D:\\code\\env\\anaconda\\envs\\mhy-yolo\\Lib\\site-packages\\ultralytics\\utils\\metrics.py:432: UserWarning: Glyph 22612 (\\N{CJK UNIFIED IDEOGRAPH-5854}) missing from current font.\n",
      "  fig.savefig(plot_fname, dpi=250)\n",
      "D:\\code\\env\\anaconda\\envs\\mhy-yolo\\Lib\\site-packages\\ultralytics\\utils\\metrics.py:432: UserWarning: Glyph 23398 (\\N{CJK UNIFIED IDEOGRAPH-5B66}) missing from current font.\n",
      "  fig.savefig(plot_fname, dpi=250)\n",
      "D:\\code\\env\\anaconda\\envs\\mhy-yolo\\Lib\\site-packages\\ultralytics\\utils\\metrics.py:432: UserWarning: Glyph 27963 (\\N{CJK UNIFIED IDEOGRAPH-6D3B}) missing from current font.\n",
      "  fig.savefig(plot_fname, dpi=250)\n",
      "D:\\code\\env\\anaconda\\envs\\mhy-yolo\\Lib\\site-packages\\ultralytics\\utils\\metrics.py:432: UserWarning: Glyph 32467 (\\N{CJK UNIFIED IDEOGRAPH-7ED3}) missing from current font.\n",
      "  fig.savefig(plot_fname, dpi=250)\n",
      "D:\\code\\env\\anaconda\\envs\\mhy-yolo\\Lib\\site-packages\\ultralytics\\utils\\metrics.py:432: UserWarning: Glyph 26230 (\\N{CJK UNIFIED IDEOGRAPH-6676}) missing from current font.\n",
      "  fig.savefig(plot_fname, dpi=250)\n",
      "D:\\code\\env\\anaconda\\envs\\mhy-yolo\\Lib\\site-packages\\ultralytics\\utils\\metrics.py:432: UserWarning: Glyph 23432 (\\N{CJK UNIFIED IDEOGRAPH-5B88}) missing from current font.\n",
      "  fig.savefig(plot_fname, dpi=250)\n",
      "D:\\code\\env\\anaconda\\envs\\mhy-yolo\\Lib\\site-packages\\ultralytics\\utils\\metrics.py:432: UserWarning: Glyph 35010 (\\N{CJK UNIFIED IDEOGRAPH-88C2}) missing from current font.\n",
      "  fig.savefig(plot_fname, dpi=250)\n",
      "D:\\code\\env\\anaconda\\envs\\mhy-yolo\\Lib\\site-packages\\ultralytics\\utils\\metrics.py:432: UserWarning: Glyph 38553 (\\N{CJK UNIFIED IDEOGRAPH-9699}) missing from current font.\n",
      "  fig.savefig(plot_fname, dpi=250)\n",
      "D:\\code\\env\\anaconda\\envs\\mhy-yolo\\Lib\\site-packages\\ultralytics\\utils\\metrics.py:432: UserWarning: Glyph 32039 (\\N{CJK UNIFIED IDEOGRAPH-7D27}) missing from current font.\n",
      "  fig.savefig(plot_fname, dpi=250)\n",
      "D:\\code\\env\\anaconda\\envs\\mhy-yolo\\Lib\\site-packages\\ultralytics\\utils\\metrics.py:432: UserWarning: Glyph 24613 (\\N{CJK UNIFIED IDEOGRAPH-6025}) missing from current font.\n",
      "  fig.savefig(plot_fname, dpi=250)\n",
      "D:\\code\\env\\anaconda\\envs\\mhy-yolo\\Lib\\site-packages\\ultralytics\\utils\\metrics.py:432: UserWarning: Glyph 25764 (\\N{CJK UNIFIED IDEOGRAPH-64A4}) missing from current font.\n",
      "  fig.savefig(plot_fname, dpi=250)\n",
      "D:\\code\\env\\anaconda\\envs\\mhy-yolo\\Lib\\site-packages\\ultralytics\\utils\\metrics.py:432: UserWarning: Glyph 31163 (\\N{CJK UNIFIED IDEOGRAPH-79BB}) missing from current font.\n",
      "  fig.savefig(plot_fname, dpi=250)\n",
      "D:\\code\\env\\anaconda\\envs\\mhy-yolo\\Lib\\site-packages\\ultralytics\\utils\\metrics.py:432: UserWarning: Glyph 38450 (\\N{CJK UNIFIED IDEOGRAPH-9632}) missing from current font.\n",
      "  fig.savefig(plot_fname, dpi=250)\n",
      "D:\\code\\env\\anaconda\\envs\\mhy-yolo\\Lib\\site-packages\\ultralytics\\utils\\metrics.py:432: UserWarning: Glyph 21355 (\\N{CJK UNIFIED IDEOGRAPH-536B}) missing from current font.\n",
      "  fig.savefig(plot_fname, dpi=250)\n",
      "D:\\code\\env\\anaconda\\envs\\mhy-yolo\\Lib\\site-packages\\ultralytics\\utils\\metrics.py:432: UserWarning: Glyph 20891 (\\N{CJK UNIFIED IDEOGRAPH-519B}) missing from current font.\n",
      "  fig.savefig(plot_fname, dpi=250)\n",
      "D:\\code\\env\\anaconda\\envs\\mhy-yolo\\Lib\\site-packages\\ultralytics\\utils\\metrics.py:432: UserWarning: Glyph 21518 (\\N{CJK UNIFIED IDEOGRAPH-540E}) missing from current font.\n",
      "  fig.savefig(plot_fname, dpi=250)\n",
      "D:\\code\\env\\anaconda\\envs\\mhy-yolo\\Lib\\site-packages\\ultralytics\\utils\\metrics.py:432: UserWarning: Glyph 21220 (\\N{CJK UNIFIED IDEOGRAPH-52E4}) missing from current font.\n",
      "  fig.savefig(plot_fname, dpi=250)\n",
      "D:\\code\\env\\anaconda\\envs\\mhy-yolo\\Lib\\site-packages\\ultralytics\\utils\\metrics.py:432: UserWarning: Glyph 29579 (\\N{CJK UNIFIED IDEOGRAPH-738B}) missing from current font.\n",
      "  fig.savefig(plot_fname, dpi=250)\n",
      "D:\\code\\env\\anaconda\\envs\\mhy-yolo\\Lib\\site-packages\\ultralytics\\utils\\metrics.py:432: UserWarning: Glyph 29260 (\\N{CJK UNIFIED IDEOGRAPH-724C}) missing from current font.\n",
      "  fig.savefig(plot_fname, dpi=250)\n",
      "D:\\code\\env\\anaconda\\envs\\mhy-yolo\\Lib\\site-packages\\ultralytics\\utils\\metrics.py:432: UserWarning: Glyph 26410 (\\N{CJK UNIFIED IDEOGRAPH-672A}) missing from current font.\n",
      "  fig.savefig(plot_fname, dpi=250)\n",
      "D:\\code\\env\\anaconda\\envs\\mhy-yolo\\Lib\\site-packages\\ultralytics\\utils\\metrics.py:432: UserWarning: Glyph 30693 (\\N{CJK UNIFIED IDEOGRAPH-77E5}) missing from current font.\n",
      "  fig.savefig(plot_fname, dpi=250)\n",
      "D:\\code\\env\\anaconda\\envs\\mhy-yolo\\Lib\\site-packages\\ultralytics\\utils\\metrics.py:432: UserWarning: Glyph 29983 (\\N{CJK UNIFIED IDEOGRAPH-751F}) missing from current font.\n",
      "  fig.savefig(plot_fname, dpi=250)\n",
      "D:\\code\\env\\anaconda\\envs\\mhy-yolo\\Lib\\site-packages\\ultralytics\\utils\\metrics.py:432: UserWarning: Glyph 38646 (\\N{CJK UNIFIED IDEOGRAPH-96F6}) missing from current font.\n",
      "  fig.savefig(plot_fname, dpi=250)\n",
      "D:\\code\\env\\anaconda\\envs\\mhy-yolo\\Lib\\site-packages\\ultralytics\\utils\\metrics.py:432: UserWarning: Glyph 38134 (\\N{CJK UNIFIED IDEOGRAPH-94F6}) missing from current font.\n",
      "  fig.savefig(plot_fname, dpi=250)\n",
      "D:\\code\\env\\anaconda\\envs\\mhy-yolo\\Lib\\site-packages\\ultralytics\\utils\\metrics.py:432: UserWarning: Glyph 34892 (\\N{CJK UNIFIED IDEOGRAPH-884C}) missing from current font.\n",
      "  fig.savefig(plot_fname, dpi=250)\n",
      "D:\\code\\env\\anaconda\\envs\\mhy-yolo\\Lib\\site-packages\\ultralytics\\utils\\metrics.py:432: UserWarning: Glyph 25928 (\\N{CJK UNIFIED IDEOGRAPH-6548}) missing from current font.\n",
      "  fig.savefig(plot_fname, dpi=250)\n",
      "D:\\code\\env\\anaconda\\envs\\mhy-yolo\\Lib\\site-packages\\ultralytics\\utils\\metrics.py:432: UserWarning: Glyph 33410 (\\N{CJK UNIFIED IDEOGRAPH-8282}) missing from current font.\n",
      "  fig.savefig(plot_fname, dpi=250)\n",
      "D:\\code\\env\\anaconda\\envs\\mhy-yolo\\Lib\\site-packages\\ultralytics\\utils\\metrics.py:432: UserWarning: Glyph 36164 (\\N{CJK UNIFIED IDEOGRAPH-8D44}) missing from current font.\n",
      "  fig.savefig(plot_fname, dpi=250)\n",
      "D:\\code\\env\\anaconda\\envs\\mhy-yolo\\Lib\\site-packages\\ultralytics\\utils\\metrics.py:432: UserWarning: Glyph 28304 (\\N{CJK UNIFIED IDEOGRAPH-6E90}) missing from current font.\n",
      "  fig.savefig(plot_fname, dpi=250)\n",
      "D:\\code\\env\\anaconda\\envs\\mhy-yolo\\Lib\\site-packages\\ultralytics\\utils\\metrics.py:432: UserWarning: Glyph 22238 (\\N{CJK UNIFIED IDEOGRAPH-56DE}) missing from current font.\n",
      "  fig.savefig(plot_fname, dpi=250)\n",
      "D:\\code\\env\\anaconda\\envs\\mhy-yolo\\Lib\\site-packages\\ultralytics\\utils\\metrics.py:432: UserWarning: Glyph 25910 (\\N{CJK UNIFIED IDEOGRAPH-6536}) missing from current font.\n",
      "  fig.savefig(plot_fname, dpi=250)\n",
      "D:\\code\\env\\anaconda\\envs\\mhy-yolo\\Lib\\site-packages\\ultralytics\\utils\\metrics.py:432: UserWarning: Glyph 32452 (\\N{CJK UNIFIED IDEOGRAPH-7EC4}) missing from current font.\n",
      "  fig.savefig(plot_fname, dpi=250)\n",
      "D:\\code\\env\\anaconda\\envs\\mhy-yolo\\Lib\\site-packages\\ultralytics\\utils\\metrics.py:432: UserWarning: Glyph 25353 (\\N{CJK UNIFIED IDEOGRAPH-6309}) missing from current font.\n",
      "  fig.savefig(plot_fname, dpi=250)\n",
      "D:\\code\\env\\anaconda\\envs\\mhy-yolo\\Lib\\site-packages\\ultralytics\\utils\\metrics.py:432: UserWarning: Glyph 21387 (\\N{CJK UNIFIED IDEOGRAPH-538B}) missing from current font.\n",
      "  fig.savefig(plot_fname, dpi=250)\n",
      "D:\\code\\env\\anaconda\\envs\\mhy-yolo\\Lib\\site-packages\\ultralytics\\utils\\metrics.py:432: UserWarning: Glyph 24335 (\\N{CJK UNIFIED IDEOGRAPH-5F0F}) missing from current font.\n",
      "  fig.savefig(plot_fname, dpi=250)\n",
      "D:\\code\\env\\anaconda\\envs\\mhy-yolo\\Lib\\site-packages\\ultralytics\\utils\\metrics.py:432: UserWarning: Glyph 20851 (\\N{CJK UNIFIED IDEOGRAPH-5173}) missing from current font.\n",
      "  fig.savefig(plot_fname, dpi=250)\n",
      "D:\\code\\env\\anaconda\\envs\\mhy-yolo\\Lib\\site-packages\\ultralytics\\utils\\metrics.py:432: UserWarning: Glyph 24377 (\\N{CJK UNIFIED IDEOGRAPH-5F39}) missing from current font.\n",
      "  fig.savefig(plot_fname, dpi=250)\n",
      "D:\\code\\env\\anaconda\\envs\\mhy-yolo\\Lib\\site-packages\\ultralytics\\utils\\metrics.py:432: UserWarning: Glyph 23556 (\\N{CJK UNIFIED IDEOGRAPH-5C04}) missing from current font.\n",
      "  fig.savefig(plot_fname, dpi=250)\n",
      "D:\\code\\env\\anaconda\\envs\\mhy-yolo\\Lib\\site-packages\\ultralytics\\utils\\metrics.py:432: UserWarning: Glyph 19978 (\\N{CJK UNIFIED IDEOGRAPH-4E0A}) missing from current font.\n",
      "  fig.savefig(plot_fname, dpi=250)\n",
      "D:\\code\\env\\anaconda\\envs\\mhy-yolo\\Lib\\site-packages\\ultralytics\\utils\\metrics.py:432: UserWarning: Glyph 36712 (\\N{CJK UNIFIED IDEOGRAPH-8F68}) missing from current font.\n",
      "  fig.savefig(plot_fname, dpi=250)\n",
      "D:\\code\\env\\anaconda\\envs\\mhy-yolo\\Lib\\site-packages\\ultralytics\\utils\\metrics.py:432: UserWarning: Glyph 21516 (\\N{CJK UNIFIED IDEOGRAPH-540C}) missing from current font.\n",
      "  fig.savefig(plot_fname, dpi=250)\n",
      "D:\\code\\env\\anaconda\\envs\\mhy-yolo\\Lib\\site-packages\\ultralytics\\utils\\metrics.py:432: UserWarning: Glyph 20276 (\\N{CJK UNIFIED IDEOGRAPH-4F34}) missing from current font.\n",
      "  fig.savefig(plot_fname, dpi=250)\n",
      "D:\\code\\env\\anaconda\\envs\\mhy-yolo\\Lib\\site-packages\\ultralytics\\utils\\metrics.py:432: UserWarning: Glyph 19979 (\\N{CJK UNIFIED IDEOGRAPH-4E0B}) missing from current font.\n",
      "  fig.savefig(plot_fname, dpi=250)\n",
      "D:\\code\\env\\anaconda\\envs\\mhy-yolo\\Lib\\site-packages\\ultralytics\\utils\\metrics.py:432: UserWarning: Glyph 24038 (\\N{CJK UNIFIED IDEOGRAPH-5DE6}) missing from current font.\n",
      "  fig.savefig(plot_fname, dpi=250)\n",
      "D:\\code\\env\\anaconda\\envs\\mhy-yolo\\Lib\\site-packages\\ultralytics\\utils\\metrics.py:432: UserWarning: Glyph 21491 (\\N{CJK UNIFIED IDEOGRAPH-53F3}) missing from current font.\n",
      "  fig.savefig(plot_fname, dpi=250)\n",
      "D:\\code\\env\\anaconda\\envs\\mhy-yolo\\Lib\\site-packages\\ultralytics\\utils\\metrics.py:432: UserWarning: Glyph 25151 (\\N{CJK UNIFIED IDEOGRAPH-623F}) missing from current font.\n",
      "  fig.savefig(plot_fname, dpi=250)\n",
      "D:\\code\\env\\anaconda\\envs\\mhy-yolo\\Lib\\site-packages\\ultralytics\\utils\\metrics.py:432: UserWarning: Glyph 23627 (\\N{CJK UNIFIED IDEOGRAPH-5C4B}) missing from current font.\n",
      "  fig.savefig(plot_fname, dpi=250)\n",
      "D:\\code\\env\\anaconda\\envs\\mhy-yolo\\Lib\\site-packages\\ultralytics\\utils\\metrics.py:432: UserWarning: Glyph 39608 (\\N{CJK UNIFIED IDEOGRAPH-9AB8}) missing from current font.\n",
      "  fig.savefig(plot_fname, dpi=250)\n",
      "D:\\code\\env\\anaconda\\envs\\mhy-yolo\\Lib\\site-packages\\ultralytics\\utils\\metrics.py:432: UserWarning: Glyph 25237 (\\N{CJK UNIFIED IDEOGRAPH-6295}) missing from current font.\n",
      "  fig.savefig(plot_fname, dpi=250)\n",
      "D:\\code\\env\\anaconda\\envs\\mhy-yolo\\Lib\\site-packages\\ultralytics\\utils\\metrics.py:432: UserWarning: Glyph 35809 (\\N{CJK UNIFIED IDEOGRAPH-8BE1}) missing from current font.\n",
      "  fig.savefig(plot_fname, dpi=250)\n",
      "D:\\code\\env\\anaconda\\envs\\mhy-yolo\\Lib\\site-packages\\ultralytics\\utils\\metrics.py:432: UserWarning: Glyph 38654 (\\N{CJK UNIFIED IDEOGRAPH-96FE}) missing from current font.\n",
      "  fig.savefig(plot_fname, dpi=250)\n",
      "D:\\code\\env\\anaconda\\envs\\mhy-yolo\\Lib\\site-packages\\ultralytics\\utils\\metrics.py:432: UserWarning: Glyph 38480 (\\N{CJK UNIFIED IDEOGRAPH-9650}) missing from current font.\n",
      "  fig.savefig(plot_fname, dpi=250)\n",
      "D:\\code\\env\\anaconda\\envs\\mhy-yolo\\Lib\\site-packages\\ultralytics\\utils\\metrics.py:432: UserWarning: Glyph 26007 (\\N{CJK UNIFIED IDEOGRAPH-6597}) missing from current font.\n",
      "  fig.savefig(plot_fname, dpi=250)\n",
      "D:\\code\\env\\anaconda\\envs\\mhy-yolo\\Lib\\site-packages\\ultralytics\\utils\\metrics.py:432: UserWarning: Glyph 31354 (\\N{CJK UNIFIED IDEOGRAPH-7A7A}) missing from current font.\n",
      "  fig.savefig(plot_fname, dpi=250)\n",
      "D:\\code\\env\\anaconda\\envs\\mhy-yolo\\Lib\\site-packages\\ultralytics\\utils\\metrics.py:432: UserWarning: Glyph 21307 (\\N{CJK UNIFIED IDEOGRAPH-533B}) missing from current font.\n",
      "  fig.savefig(plot_fname, dpi=250)\n",
      "D:\\code\\env\\anaconda\\envs\\mhy-yolo\\Lib\\site-packages\\ultralytics\\utils\\metrics.py:432: UserWarning: Glyph 33258 (\\N{CJK UNIFIED IDEOGRAPH-81EA}) missing from current font.\n",
      "  fig.savefig(plot_fname, dpi=250)\n",
      "D:\\code\\env\\anaconda\\envs\\mhy-yolo\\Lib\\site-packages\\ultralytics\\utils\\metrics.py:432: UserWarning: Glyph 21160 (\\N{CJK UNIFIED IDEOGRAPH-52A8}) missing from current font.\n",
      "  fig.savefig(plot_fname, dpi=250)\n",
      "D:\\code\\env\\anaconda\\envs\\mhy-yolo\\Lib\\site-packages\\ultralytics\\utils\\metrics.py:432: UserWarning: Glyph 30103 (\\N{CJK UNIFIED IDEOGRAPH-7597}) missing from current font.\n",
      "  fig.savefig(plot_fname, dpi=250)\n",
      "D:\\code\\env\\anaconda\\envs\\mhy-yolo\\Lib\\site-packages\\ultralytics\\utils\\metrics.py:432: UserWarning: Glyph 20179 (\\N{CJK UNIFIED IDEOGRAPH-4ED3}) missing from current font.\n",
      "  fig.savefig(plot_fname, dpi=250)\n",
      "D:\\code\\env\\anaconda\\envs\\mhy-yolo\\Lib\\site-packages\\ultralytics\\utils\\metrics.py:432: UserWarning: Glyph 38505 (\\N{CJK UNIFIED IDEOGRAPH-9669}) missing from current font.\n",
      "  fig.savefig(plot_fname, dpi=250)\n",
      "D:\\code\\env\\anaconda\\envs\\mhy-yolo\\Lib\\site-packages\\ultralytics\\utils\\metrics.py:432: UserWarning: Glyph 30446 (\\N{CJK UNIFIED IDEOGRAPH-76EE}) missing from current font.\n",
      "  fig.savefig(plot_fname, dpi=250)\n",
      "D:\\code\\env\\anaconda\\envs\\mhy-yolo\\Lib\\site-packages\\ultralytics\\utils\\metrics.py:432: UserWarning: Glyph 26631 (\\N{CJK UNIFIED IDEOGRAPH-6807}) missing from current font.\n",
      "  fig.savefig(plot_fname, dpi=250)\n",
      "D:\\code\\env\\anaconda\\envs\\mhy-yolo\\Lib\\site-packages\\ultralytics\\utils\\metrics.py:432: UserWarning: Glyph 30005 (\\N{CJK UNIFIED IDEOGRAPH-7535}) missing from current font.\n",
      "  fig.savefig(plot_fname, dpi=250)\n",
      "D:\\code\\env\\anaconda\\envs\\mhy-yolo\\Lib\\site-packages\\ultralytics\\utils\\metrics.py:432: UserWarning: Glyph 35270 (\\N{CJK UNIFIED IDEOGRAPH-89C6}) missing from current font.\n",
      "  fig.savefig(plot_fname, dpi=250)\n",
      "D:\\code\\env\\anaconda\\envs\\mhy-yolo\\Lib\\site-packages\\ultralytics\\utils\\metrics.py:432: UserWarning: Glyph 24213 (\\N{CJK UNIFIED IDEOGRAPH-5E95}) missing from current font.\n",
      "  fig.savefig(plot_fname, dpi=250)\n",
      "D:\\code\\env\\anaconda\\envs\\mhy-yolo\\Lib\\site-packages\\ultralytics\\utils\\metrics.py:432: UserWarning: Glyph 24231 (\\N{CJK UNIFIED IDEOGRAPH-5EA7}) missing from current font.\n",
      "  fig.savefig(plot_fname, dpi=250)\n",
      "D:\\code\\env\\anaconda\\envs\\mhy-yolo\\Lib\\site-packages\\ultralytics\\utils\\metrics.py:432: UserWarning: Glyph 32511 (\\N{CJK UNIFIED IDEOGRAPH-7EFF}) missing from current font.\n",
      "  fig.savefig(plot_fname, dpi=250)\n",
      "D:\\code\\env\\anaconda\\envs\\mhy-yolo\\Lib\\site-packages\\ultralytics\\utils\\metrics.py:432: UserWarning: Glyph 32418 (\\N{CJK UNIFIED IDEOGRAPH-7EA2}) missing from current font.\n",
      "  fig.savefig(plot_fname, dpi=250)\n",
      "D:\\code\\env\\anaconda\\envs\\mhy-yolo\\Lib\\site-packages\\ultralytics\\utils\\metrics.py:432: UserWarning: Glyph 22823 (\\N{CJK UNIFIED IDEOGRAPH-5927}) missing from current font.\n",
      "  fig.savefig(plot_fname, dpi=250)\n",
      "D:\\code\\env\\anaconda\\envs\\mhy-yolo\\Lib\\site-packages\\ultralytics\\utils\\metrics.py:432: UserWarning: Glyph 24403 (\\N{CJK UNIFIED IDEOGRAPH-5F53}) missing from current font.\n",
      "  fig.savefig(plot_fname, dpi=250)\n",
      "D:\\code\\env\\anaconda\\envs\\mhy-yolo\\Lib\\site-packages\\ultralytics\\utils\\metrics.py:432: UserWarning: Glyph 21069 (\\N{CJK UNIFIED IDEOGRAPH-524D}) missing from current font.\n",
      "  fig.savefig(plot_fname, dpi=250)\n",
      "D:\\code\\env\\anaconda\\envs\\mhy-yolo\\Lib\\site-packages\\ultralytics\\utils\\metrics.py:432: UserWarning: Glyph 30333 (\\N{CJK UNIFIED IDEOGRAPH-767D}) missing from current font.\n",
      "  fig.savefig(plot_fname, dpi=250)\n",
      "D:\\code\\env\\anaconda\\envs\\mhy-yolo\\Lib\\site-packages\\ultralytics\\utils\\metrics.py:432: UserWarning: Glyph 24050 (\\N{CJK UNIFIED IDEOGRAPH-5DF2}) missing from current font.\n",
      "  fig.savefig(plot_fname, dpi=250)\n",
      "D:\\code\\env\\anaconda\\envs\\mhy-yolo\\Lib\\site-packages\\ultralytics\\utils\\metrics.py:432: UserWarning: Glyph 26080 (\\N{CJK UNIFIED IDEOGRAPH-65E0}) missing from current font.\n",
      "  fig.savefig(plot_fname, dpi=250)\n",
      "D:\\code\\env\\anaconda\\envs\\mhy-yolo\\Lib\\site-packages\\ultralytics\\utils\\metrics.py:432: UserWarning: Glyph 27861 (\\N{CJK UNIFIED IDEOGRAPH-6CD5}) missing from current font.\n",
      "  fig.savefig(plot_fname, dpi=250)\n",
      "D:\\code\\env\\anaconda\\envs\\mhy-yolo\\Lib\\site-packages\\ultralytics\\utils\\metrics.py:432: UserWarning: Glyph 36215 (\\N{CJK UNIFIED IDEOGRAPH-8D77}) missing from current font.\n",
      "  fig.savefig(plot_fname, dpi=250)\n",
      "D:\\code\\env\\anaconda\\envs\\mhy-yolo\\Lib\\site-packages\\ultralytics\\utils\\metrics.py:432: UserWarning: Glyph 28857 (\\N{CJK UNIFIED IDEOGRAPH-70B9}) missing from current font.\n",
      "  fig.savefig(plot_fname, dpi=250)\n",
      "D:\\code\\env\\anaconda\\envs\\mhy-yolo\\Lib\\site-packages\\ultralytics\\utils\\metrics.py:432: UserWarning: Glyph 40831 (\\N{CJK UNIFIED IDEOGRAPH-9F7F}) missing from current font.\n",
      "  fig.savefig(plot_fname, dpi=250)\n",
      "D:\\code\\env\\anaconda\\envs\\mhy-yolo\\Lib\\site-packages\\ultralytics\\utils\\metrics.py:432: UserWarning: Glyph 36718 (\\N{CJK UNIFIED IDEOGRAPH-8F6E}) missing from current font.\n",
      "  fig.savefig(plot_fname, dpi=250)\n",
      "D:\\code\\env\\anaconda\\envs\\mhy-yolo\\Lib\\site-packages\\ultralytics\\utils\\metrics.py:432: UserWarning: Glyph 30828 (\\N{CJK UNIFIED IDEOGRAPH-786C}) missing from current font.\n",
      "  fig.savefig(plot_fname, dpi=250)\n",
      "D:\\code\\env\\anaconda\\envs\\mhy-yolo\\Lib\\site-packages\\ultralytics\\utils\\metrics.py:432: UserWarning: Glyph 24065 (\\N{CJK UNIFIED IDEOGRAPH-5E01}) missing from current font.\n",
      "  fig.savefig(plot_fname, dpi=250)\n",
      "D:\\code\\env\\anaconda\\envs\\mhy-yolo\\Lib\\site-packages\\ultralytics\\utils\\metrics.py:432: UserWarning: Glyph 31665 (\\N{CJK UNIFIED IDEOGRAPH-7BB1}) missing from current font.\n",
      "  fig.savefig(plot_fname, dpi=250)\n",
      "D:\\code\\env\\anaconda\\envs\\mhy-yolo\\Lib\\site-packages\\ultralytics\\utils\\metrics.py:432: UserWarning: Glyph 21361 (\\N{CJK UNIFIED IDEOGRAPH-5371}) missing from current font.\n",
      "  fig.savefig(plot_fname, dpi=250)\n",
      "D:\\code\\env\\anaconda\\envs\\mhy-yolo\\Lib\\site-packages\\ultralytics\\utils\\metrics.py:432: UserWarning: Glyph 26426 (\\N{CJK UNIFIED IDEOGRAPH-673A}) missing from current font.\n",
      "  fig.savefig(plot_fname, dpi=250)\n",
      "D:\\code\\env\\anaconda\\envs\\mhy-yolo\\Lib\\site-packages\\ultralytics\\utils\\metrics.py:432: UserWarning: Glyph 19994 (\\N{CJK UNIFIED IDEOGRAPH-4E1A}) missing from current font.\n",
      "  fig.savefig(plot_fname, dpi=250)\n",
      "D:\\code\\env\\anaconda\\envs\\mhy-yolo\\Lib\\site-packages\\ultralytics\\utils\\metrics.py:432: UserWarning: Glyph 32489 (\\N{CJK UNIFIED IDEOGRAPH-7EE9}) missing from current font.\n",
      "  fig.savefig(plot_fname, dpi=250)\n",
      "D:\\code\\env\\anaconda\\envs\\mhy-yolo\\Lib\\site-packages\\ultralytics\\utils\\metrics.py:432: UserWarning: Glyph 32771 (\\N{CJK UNIFIED IDEOGRAPH-8003}) missing from current font.\n",
      "  fig.savefig(plot_fname, dpi=250)\n",
      "D:\\code\\env\\anaconda\\envs\\mhy-yolo\\Lib\\site-packages\\ultralytics\\utils\\metrics.py:432: UserWarning: Glyph 23519 (\\N{CJK UNIFIED IDEOGRAPH-5BDF}) missing from current font.\n",
      "  fig.savefig(plot_fname, dpi=250)\n",
      "D:\\code\\env\\anaconda\\envs\\mhy-yolo\\Lib\\site-packages\\ultralytics\\utils\\metrics.py:432: UserWarning: Glyph 21450 (\\N{CJK UNIFIED IDEOGRAPH-53CA}) missing from current font.\n",
      "  fig.savefig(plot_fname, dpi=250)\n",
      "D:\\code\\env\\anaconda\\envs\\mhy-yolo\\Lib\\site-packages\\ultralytics\\utils\\metrics.py:432: UserWarning: Glyph 26102 (\\N{CJK UNIFIED IDEOGRAPH-65F6}) missing from current font.\n",
      "  fig.savefig(plot_fname, dpi=250)\n",
      "D:\\code\\env\\anaconda\\envs\\mhy-yolo\\Lib\\site-packages\\ultralytics\\utils\\metrics.py:432: UserWarning: Glyph 34917 (\\N{CJK UNIFIED IDEOGRAPH-8865}) missing from current font.\n",
      "  fig.savefig(plot_fname, dpi=250)\n",
      "D:\\code\\env\\anaconda\\envs\\mhy-yolo\\Lib\\site-packages\\ultralytics\\utils\\metrics.py:432: UserWarning: Glyph 32473 (\\N{CJK UNIFIED IDEOGRAPH-7ED9}) missing from current font.\n",
      "  fig.savefig(plot_fname, dpi=250)\n",
      "D:\\code\\env\\anaconda\\envs\\mhy-yolo\\Lib\\site-packages\\ultralytics\\utils\\metrics.py:432: UserWarning: Glyph 25554 (\\N{CJK UNIFIED IDEOGRAPH-63D2}) missing from current font.\n",
      "  fig.savefig(plot_fname, dpi=250)\n",
      "D:\\code\\env\\anaconda\\envs\\mhy-yolo\\Lib\\site-packages\\ultralytics\\utils\\metrics.py:432: UserWarning: Glyph 20214 (\\N{CJK UNIFIED IDEOGRAPH-4EF6}) missing from current font.\n",
      "  fig.savefig(plot_fname, dpi=250)\n",
      "D:\\code\\env\\anaconda\\envs\\mhy-yolo\\Lib\\site-packages\\ultralytics\\utils\\metrics.py:432: UserWarning: Glyph 33719 (\\N{CJK UNIFIED IDEOGRAPH-83B7}) missing from current font.\n",
      "  fig.savefig(plot_fname, dpi=250)\n",
      "D:\\code\\env\\anaconda\\envs\\mhy-yolo\\Lib\\site-packages\\ultralytics\\utils\\metrics.py:432: UserWarning: Glyph 21462 (\\N{CJK UNIFIED IDEOGRAPH-53D6}) missing from current font.\n",
      "  fig.savefig(plot_fname, dpi=250)\n",
      "D:\\code\\env\\anaconda\\envs\\mhy-yolo\\Lib\\site-packages\\ultralytics\\utils\\metrics.py:432: UserWarning: Glyph 25197 (\\N{CJK UNIFIED IDEOGRAPH-626D}) missing from current font.\n",
      "  fig.savefig(plot_fname, dpi=250)\n",
      "D:\\code\\env\\anaconda\\envs\\mhy-yolo\\Lib\\site-packages\\ultralytics\\utils\\metrics.py:432: UserWarning: Glyph 34507 (\\N{CJK UNIFIED IDEOGRAPH-86CB}) missing from current font.\n",
      "  fig.savefig(plot_fname, dpi=250)\n",
      "D:\\code\\env\\anaconda\\envs\\mhy-yolo\\Lib\\site-packages\\ultralytics\\utils\\metrics.py:432: UserWarning: Glyph 21628 (\\N{CJK UNIFIED IDEOGRAPH-547C}) missing from current font.\n",
      "  fig.savefig(plot_fname, dpi=250)\n",
      "D:\\code\\env\\anaconda\\envs\\mhy-yolo\\Lib\\site-packages\\ultralytics\\utils\\metrics.py:432: UserWarning: Glyph 21483 (\\N{CJK UNIFIED IDEOGRAPH-53EB}) missing from current font.\n",
      "  fig.savefig(plot_fname, dpi=250)\n",
      "D:\\code\\env\\anaconda\\envs\\mhy-yolo\\Lib\\site-packages\\ultralytics\\utils\\metrics.py:432: UserWarning: Glyph 22686 (\\N{CJK UNIFIED IDEOGRAPH-589E}) missing from current font.\n",
      "  fig.savefig(plot_fname, dpi=250)\n",
      "D:\\code\\env\\anaconda\\envs\\mhy-yolo\\Lib\\site-packages\\ultralytics\\utils\\metrics.py:432: UserWarning: Glyph 25588 (\\N{CJK UNIFIED IDEOGRAPH-63F4}) missing from current font.\n",
      "  fig.savefig(plot_fname, dpi=250)\n",
      "D:\\code\\env\\anaconda\\envs\\mhy-yolo\\Lib\\site-packages\\ultralytics\\utils\\metrics.py:432: UserWarning: Glyph 31192 (\\N{CJK UNIFIED IDEOGRAPH-79D8}) missing from current font.\n",
      "  fig.savefig(plot_fname, dpi=250)\n",
      "D:\\code\\env\\anaconda\\envs\\mhy-yolo\\Lib\\site-packages\\ultralytics\\utils\\metrics.py:432: UserWarning: Glyph 24452 (\\N{CJK UNIFIED IDEOGRAPH-5F84}) missing from current font.\n",
      "  fig.savefig(plot_fname, dpi=250)\n",
      "D:\\code\\env\\anaconda\\envs\\mhy-yolo\\Lib\\site-packages\\ultralytics\\utils\\metrics.py:432: UserWarning: Glyph 25805 (\\N{CJK UNIFIED IDEOGRAPH-64CD}) missing from current font.\n",
      "  fig.savefig(plot_fname, dpi=250)\n",
      "D:\\code\\env\\anaconda\\envs\\mhy-yolo\\Lib\\site-packages\\ultralytics\\utils\\metrics.py:432: UserWarning: Glyph 32437 (\\N{CJK UNIFIED IDEOGRAPH-7EB5}) missing from current font.\n",
      "  fig.savefig(plot_fname, dpi=250)\n",
      "D:\\code\\env\\anaconda\\envs\\mhy-yolo\\Lib\\site-packages\\ultralytics\\utils\\metrics.py:432: UserWarning: Glyph 26438 (\\N{CJK UNIFIED IDEOGRAPH-6746}) missing from current font.\n",
      "  fig.savefig(plot_fname, dpi=250)\n",
      "D:\\code\\env\\anaconda\\envs\\mhy-yolo\\Lib\\site-packages\\ultralytics\\utils\\metrics.py:432: UserWarning: Glyph 36994 (\\N{CJK UNIFIED IDEOGRAPH-9082}) missing from current font.\n",
      "  fig.savefig(plot_fname, dpi=250)\n",
      "D:\\code\\env\\anaconda\\envs\\mhy-yolo\\Lib\\site-packages\\ultralytics\\utils\\metrics.py:432: UserWarning: Glyph 36869 (\\N{CJK UNIFIED IDEOGRAPH-9005}) missing from current font.\n",
      "  fig.savefig(plot_fname, dpi=250)\n",
      "D:\\code\\env\\anaconda\\envs\\mhy-yolo\\Lib\\site-packages\\ultralytics\\utils\\metrics.py:432: UserWarning: Glyph 20405 (\\N{CJK UNIFIED IDEOGRAPH-4FB5}) missing from current font.\n",
      "  fig.savefig(plot_fname, dpi=250)\n",
      "D:\\code\\env\\anaconda\\envs\\mhy-yolo\\Lib\\site-packages\\ultralytics\\utils\\metrics.py:432: UserWarning: Glyph 34432 (\\N{CJK UNIFIED IDEOGRAPH-8680}) missing from current font.\n",
      "  fig.savefig(plot_fname, dpi=250)\n",
      "D:\\code\\env\\anaconda\\envs\\mhy-yolo\\Lib\\site-packages\\ultralytics\\utils\\metrics.py:432: UserWarning: Glyph 20020 (\\N{CJK UNIFIED IDEOGRAPH-4E34}) missing from current font.\n",
      "  fig.savefig(plot_fname, dpi=250)\n",
      "D:\\code\\env\\anaconda\\envs\\mhy-yolo\\Lib\\site-packages\\ultralytics\\utils\\metrics.py:432: UserWarning: Glyph 25293 (\\N{CJK UNIFIED IDEOGRAPH-62CD}) missing from current font.\n",
      "  fig.savefig(plot_fname, dpi=250)\n",
      "D:\\code\\env\\anaconda\\envs\\mhy-yolo\\Lib\\site-packages\\ultralytics\\utils\\metrics.py:432: UserWarning: Glyph 26723 (\\N{CJK UNIFIED IDEOGRAPH-6863}) missing from current font.\n",
      "  fig.savefig(plot_fname, dpi=250)\n",
      "D:\\code\\env\\anaconda\\envs\\mhy-yolo\\Lib\\site-packages\\ultralytics\\utils\\metrics.py:432: UserWarning: Glyph 20551 (\\N{CJK UNIFIED IDEOGRAPH-5047}) missing from current font.\n",
      "  fig.savefig(plot_fname, dpi=250)\n",
      "D:\\code\\env\\anaconda\\envs\\mhy-yolo\\Lib\\site-packages\\ultralytics\\utils\\metrics.py:432: UserWarning: Glyph 38754 (\\N{CJK UNIFIED IDEOGRAPH-9762}) missing from current font.\n",
      "  fig.savefig(plot_fname, dpi=250)\n",
      "D:\\code\\env\\anaconda\\envs\\mhy-yolo\\Lib\\site-packages\\ultralytics\\utils\\metrics.py:432: UserWarning: Glyph 30740 (\\N{CJK UNIFIED IDEOGRAPH-7814}) missing from current font.\n",
      "  fig.savefig(plot_fname, dpi=250)\n",
      "D:\\code\\env\\anaconda\\envs\\mhy-yolo\\Lib\\site-packages\\ultralytics\\utils\\metrics.py:432: UserWarning: Glyph 31350 (\\N{CJK UNIFIED IDEOGRAPH-7A76}) missing from current font.\n",
      "  fig.savefig(plot_fname, dpi=250)\n",
      "D:\\code\\env\\anaconda\\envs\\mhy-yolo\\Lib\\site-packages\\ultralytics\\utils\\metrics.py:432: UserWarning: Glyph 32773 (\\N{CJK UNIFIED IDEOGRAPH-8005}) missing from current font.\n",
      "  fig.savefig(plot_fname, dpi=250)\n",
      "D:\\code\\env\\anaconda\\envs\\mhy-yolo\\Lib\\site-packages\\ultralytics\\utils\\metrics.py:432: UserWarning: Glyph 40483 (\\N{CJK UNIFIED IDEOGRAPH-9E23}) missing from current font.\n",
      "  fig.savefig(plot_fname, dpi=250)\n",
      "D:\\code\\env\\anaconda\\envs\\mhy-yolo\\Lib\\site-packages\\ultralytics\\utils\\metrics.py:432: UserWarning: Glyph 24509 (\\N{CJK UNIFIED IDEOGRAPH-5FBD}) missing from current font.\n",
      "  fig.savefig(plot_fname, dpi=250)\n",
      "D:\\code\\env\\anaconda\\envs\\mhy-yolo\\Lib\\site-packages\\ultralytics\\utils\\metrics.py:432: UserWarning: Glyph 20652 (\\N{CJK UNIFIED IDEOGRAPH-50AC}) missing from current font.\n",
      "  fig.savefig(plot_fname, dpi=250)\n",
      "D:\\code\\env\\anaconda\\envs\\mhy-yolo\\Lib\\site-packages\\ultralytics\\utils\\metrics.py:432: UserWarning: Glyph 21270 (\\N{CJK UNIFIED IDEOGRAPH-5316}) missing from current font.\n",
      "  fig.savefig(plot_fname, dpi=250)\n",
      "D:\\code\\env\\anaconda\\envs\\mhy-yolo\\Lib\\site-packages\\ultralytics\\utils\\metrics.py:432: UserWarning: Glyph 21058 (\\N{CJK UNIFIED IDEOGRAPH-5242}) missing from current font.\n",
      "  fig.savefig(plot_fname, dpi=250)\n",
      "D:\\code\\env\\anaconda\\envs\\mhy-yolo\\Lib\\site-packages\\ultralytics\\utils\\metrics.py:432: UserWarning: Glyph 35843 (\\N{CJK UNIFIED IDEOGRAPH-8C03}) missing from current font.\n",
      "  fig.savefig(plot_fname, dpi=250)\n",
      "D:\\code\\env\\anaconda\\envs\\mhy-yolo\\Lib\\site-packages\\ultralytics\\utils\\metrics.py:432: UserWarning: Glyph 26597 (\\N{CJK UNIFIED IDEOGRAPH-67E5}) missing from current font.\n",
      "  fig.savefig(plot_fname, dpi=250)\n",
      "D:\\code\\env\\anaconda\\envs\\mhy-yolo\\Lib\\site-packages\\ultralytics\\utils\\metrics.py:432: UserWarning: Glyph 21592 (\\N{CJK UNIFIED IDEOGRAPH-5458}) missing from current font.\n",
      "  fig.savefig(plot_fname, dpi=250)\n",
      "D:\\code\\env\\anaconda\\envs\\mhy-yolo\\Lib\\site-packages\\ultralytics\\utils\\metrics.py:432: UserWarning: Glyph 30423 (\\N{CJK UNIFIED IDEOGRAPH-76D7}) missing from current font.\n",
      "  fig.savefig(plot_fname, dpi=250)\n",
      "D:\\code\\env\\anaconda\\envs\\mhy-yolo\\Lib\\site-packages\\ultralytics\\utils\\metrics.py:432: UserWarning: Glyph 27934 (\\N{CJK UNIFIED IDEOGRAPH-6D1E}) missing from current font.\n",
      "  fig.savefig(plot_fname, dpi=250)\n",
      "D:\\code\\env\\anaconda\\envs\\mhy-yolo\\Lib\\site-packages\\ultralytics\\utils\\metrics.py:432: UserWarning: Glyph 23458 (\\N{CJK UNIFIED IDEOGRAPH-5BA2}) missing from current font.\n",
      "  fig.savefig(plot_fname, dpi=250)\n",
      "D:\\code\\env\\anaconda\\envs\\mhy-yolo\\Lib\\site-packages\\ultralytics\\utils\\metrics.py:432: UserWarning: Glyph 37030 (\\N{CJK UNIFIED IDEOGRAPH-90A6}) missing from current font.\n",
      "  fig.savefig(plot_fname, dpi=250)\n",
      "D:\\code\\env\\anaconda\\envs\\mhy-yolo\\Lib\\site-packages\\ultralytics\\utils\\metrics.py:432: UserWarning: Glyph 24067 (\\N{CJK UNIFIED IDEOGRAPH-5E03}) missing from current font.\n",
      "  fig.savefig(plot_fname, dpi=250)\n",
      "D:\\code\\env\\anaconda\\envs\\mhy-yolo\\Lib\\site-packages\\ultralytics\\utils\\metrics.py:432: UserWarning: Glyph 21830 (\\N{CJK UNIFIED IDEOGRAPH-5546}) missing from current font.\n",
      "  fig.savefig(plot_fname, dpi=250)\n",
      "D:\\code\\env\\anaconda\\envs\\mhy-yolo\\Lib\\site-packages\\ultralytics\\utils\\metrics.py:432: UserWarning: Glyph 20154 (\\N{CJK UNIFIED IDEOGRAPH-4EBA}) missing from current font.\n",
      "  fig.savefig(plot_fname, dpi=250)\n",
      "D:\\code\\env\\anaconda\\envs\\mhy-yolo\\Lib\\site-packages\\ultralytics\\utils\\metrics.py:432: UserWarning: Glyph 38376 (\\N{CJK UNIFIED IDEOGRAPH-95E8}) missing from current font.\n",
      "  fig.savefig(plot_fname, dpi=250)\n",
      "D:\\code\\env\\anaconda\\envs\\mhy-yolo\\Lib\\site-packages\\ultralytics\\utils\\metrics.py:432: UserWarning: Glyph 25161 (\\N{CJK UNIFIED IDEOGRAPH-6249}) missing from current font.\n",
      "  fig.savefig(plot_fname, dpi=250)\n",
      "D:\\code\\env\\anaconda\\envs\\mhy-yolo\\Lib\\site-packages\\ultralytics\\utils\\metrics.py:432: UserWarning: Glyph 31105 (\\N{CJK UNIFIED IDEOGRAPH-7981}) missing from current font.\n",
      "  fig.savefig(plot_fname, dpi=250)\n",
      "D:\\code\\env\\anaconda\\envs\\mhy-yolo\\Lib\\site-packages\\ultralytics\\utils\\metrics.py:432: UserWarning: Glyph 38381 (\\N{CJK UNIFIED IDEOGRAPH-95ED}) missing from current font.\n",
      "  fig.savefig(plot_fname, dpi=250)\n",
      "D:\\code\\env\\anaconda\\envs\\mhy-yolo\\Lib\\site-packages\\ultralytics\\utils\\metrics.py:432: UserWarning: Glyph 36130 (\\N{CJK UNIFIED IDEOGRAPH-8D22}) missing from current font.\n",
      "  fig.savefig(plot_fname, dpi=250)\n",
      "D:\\code\\env\\anaconda\\envs\\mhy-yolo\\Lib\\site-packages\\ultralytics\\utils\\metrics.py:432: UserWarning: Glyph 23500 (\\N{CJK UNIFIED IDEOGRAPH-5BCC}) missing from current font.\n",
      "  fig.savefig(plot_fname, dpi=250)\n",
      "D:\\code\\env\\anaconda\\envs\\mhy-yolo\\Lib\\site-packages\\ultralytics\\utils\\metrics.py:432: UserWarning: Glyph 39037 (\\N{CJK UNIFIED IDEOGRAPH-987D}) missing from current font.\n",
      "  fig.savefig(plot_fname, dpi=250)\n",
      "D:\\code\\env\\anaconda\\envs\\mhy-yolo\\Lib\\site-packages\\ultralytics\\utils\\metrics.py:432: UserWarning: Glyph 22266 (\\N{CJK UNIFIED IDEOGRAPH-56FA}) missing from current font.\n",
      "  fig.savefig(plot_fname, dpi=250)\n",
      "D:\\code\\env\\anaconda\\envs\\mhy-yolo\\Lib\\site-packages\\ultralytics\\utils\\metrics.py:432: UserWarning: Glyph 30340 (\\N{CJK UNIFIED IDEOGRAPH-7684}) missing from current font.\n",
      "  fig.savefig(plot_fname, dpi=250)\n",
      "D:\\code\\env\\anaconda\\envs\\mhy-yolo\\Lib\\site-packages\\ultralytics\\utils\\metrics.py:432: UserWarning: Glyph 38556 (\\N{CJK UNIFIED IDEOGRAPH-969C}) missing from current font.\n",
      "  fig.savefig(plot_fname, dpi=250)\n",
      "D:\\code\\env\\anaconda\\envs\\mhy-yolo\\Lib\\site-packages\\ultralytics\\utils\\metrics.py:432: UserWarning: Glyph 30861 (\\N{CJK UNIFIED IDEOGRAPH-788D}) missing from current font.\n",
      "  fig.savefig(plot_fname, dpi=250)\n",
      "D:\\code\\env\\anaconda\\envs\\mhy-yolo\\Lib\\site-packages\\ultralytics\\utils\\metrics.py:432: UserWarning: Glyph 29289 (\\N{CJK UNIFIED IDEOGRAPH-7269}) missing from current font.\n",
      "  fig.savefig(plot_fname, dpi=250)\n",
      "D:\\code\\env\\anaconda\\envs\\mhy-yolo\\Lib\\site-packages\\ultralytics\\utils\\metrics.py:432: UserWarning: Glyph 27531 (\\N{CJK UNIFIED IDEOGRAPH-6B8B}) missing from current font.\n",
      "  fig.savefig(plot_fname, dpi=250)\n",
      "D:\\code\\env\\anaconda\\envs\\mhy-yolo\\Lib\\site-packages\\ultralytics\\utils\\metrics.py:432: UserWarning: Glyph 30772 (\\N{CJK UNIFIED IDEOGRAPH-7834}) missing from current font.\n",
      "  fig.savefig(plot_fname, dpi=250)\n",
      "D:\\code\\env\\anaconda\\envs\\mhy-yolo\\Lib\\site-packages\\ultralytics\\utils\\metrics.py:432: UserWarning: Glyph 21452 (\\N{CJK UNIFIED IDEOGRAPH-53CC}) missing from current font.\n",
      "  fig.savefig(plot_fname, dpi=250)\n",
      "D:\\code\\env\\anaconda\\envs\\mhy-yolo\\Lib\\site-packages\\ultralytics\\utils\\metrics.py:432: UserWarning: Glyph 37325 (\\N{CJK UNIFIED IDEOGRAPH-91CD}) missing from current font.\n",
      "  fig.savefig(plot_fname, dpi=250)\n",
      "D:\\code\\env\\anaconda\\envs\\mhy-yolo\\Lib\\site-packages\\ultralytics\\utils\\metrics.py:432: UserWarning: Glyph 21892 (\\N{CJK UNIFIED IDEOGRAPH-5584}) missing from current font.\n",
      "  fig.savefig(plot_fname, dpi=250)\n",
      "D:\\code\\env\\anaconda\\envs\\mhy-yolo\\Lib\\site-packages\\ultralytics\\utils\\metrics.py:432: UserWarning: Glyph 25112 (\\N{CJK UNIFIED IDEOGRAPH-6218}) missing from current font.\n",
      "  fig.savefig(plot_fname, dpi=250)\n",
      "D:\\code\\env\\anaconda\\envs\\mhy-yolo\\Lib\\site-packages\\ultralytics\\utils\\metrics.py:432: UserWarning: Glyph 24320 (\\N{CJK UNIFIED IDEOGRAPH-5F00}) missing from current font.\n",
      "  fig.savefig(plot_fname, dpi=250)\n",
      "D:\\code\\env\\anaconda\\envs\\mhy-yolo\\Lib\\site-packages\\ultralytics\\utils\\metrics.py:432: UserWarning: Glyph 21551 (\\N{CJK UNIFIED IDEOGRAPH-542F}) missing from current font.\n",
      "  fig.savefig(plot_fname, dpi=250)\n",
      "D:\\code\\env\\anaconda\\envs\\mhy-yolo\\Lib\\site-packages\\ultralytics\\utils\\metrics.py:432: UserWarning: Glyph 23433 (\\N{CJK UNIFIED IDEOGRAPH-5B89}) missing from current font.\n",
      "  fig.savefig(plot_fname, dpi=250)\n",
      "D:\\code\\env\\anaconda\\envs\\mhy-yolo\\Lib\\site-packages\\ultralytics\\utils\\metrics.py:432: UserWarning: Glyph 20840 (\\N{CJK UNIFIED IDEOGRAPH-5168}) missing from current font.\n",
      "  fig.savefig(plot_fname, dpi=250)\n",
      "D:\\code\\env\\anaconda\\envs\\mhy-yolo\\Lib\\site-packages\\ultralytics\\utils\\metrics.py:432: UserWarning: Glyph 21306 (\\N{CJK UNIFIED IDEOGRAPH-533A}) missing from current font.\n",
      "  fig.savefig(plot_fname, dpi=250)\n",
      "D:\\code\\env\\anaconda\\envs\\mhy-yolo\\Lib\\site-packages\\ultralytics\\utils\\metrics.py:432: UserWarning: Glyph 20241 (\\N{CJK UNIFIED IDEOGRAPH-4F11}) missing from current font.\n",
      "  fig.savefig(plot_fname, dpi=250)\n",
      "D:\\code\\env\\anaconda\\envs\\mhy-yolo\\Lib\\site-packages\\ultralytics\\utils\\metrics.py:432: UserWarning: Glyph 24687 (\\N{CJK UNIFIED IDEOGRAPH-606F}) missing from current font.\n",
      "  fig.savefig(plot_fname, dpi=250)\n",
      "D:\\code\\env\\anaconda\\envs\\mhy-yolo\\Lib\\site-packages\\ultralytics\\utils\\metrics.py:432: UserWarning: Glyph 22833 (\\N{CJK UNIFIED IDEOGRAPH-5931}) missing from current font.\n",
      "  fig.savefig(plot_fname, dpi=250)\n",
      "D:\\code\\env\\anaconda\\envs\\mhy-yolo\\Lib\\site-packages\\ultralytics\\utils\\metrics.py:432: UserWarning: Glyph 32852 (\\N{CJK UNIFIED IDEOGRAPH-8054}) missing from current font.\n",
      "  fig.savefig(plot_fname, dpi=250)\n",
      "D:\\code\\env\\anaconda\\envs\\mhy-yolo\\Lib\\site-packages\\ultralytics\\utils\\metrics.py:432: UserWarning: Glyph 20928 (\\N{CJK UNIFIED IDEOGRAPH-51C0}) missing from current font.\n",
      "  fig.savefig(plot_fname, dpi=250)\n",
      "D:\\code\\env\\anaconda\\envs\\mhy-yolo\\Lib\\site-packages\\ultralytics\\utils\\metrics.py:432: UserWarning: Glyph 23460 (\\N{CJK UNIFIED IDEOGRAPH-5BA4}) missing from current font.\n",
      "  fig.savefig(plot_fname, dpi=250)\n",
      "D:\\code\\env\\anaconda\\envs\\mhy-yolo\\Lib\\site-packages\\ultralytics\\utils\\metrics.py:432: UserWarning: Glyph 20256 (\\N{CJK UNIFIED IDEOGRAPH-4F20}) missing from current font.\n",
      "  fig.savefig(plot_fname, dpi=250)\n",
      "D:\\code\\env\\anaconda\\envs\\mhy-yolo\\Lib\\site-packages\\ultralytics\\utils\\metrics.py:432: UserWarning: Glyph 36865 (\\N{CJK UNIFIED IDEOGRAPH-9001}) missing from current font.\n",
      "  fig.savefig(plot_fname, dpi=250)\n",
      "D:\\code\\env\\anaconda\\envs\\mhy-yolo\\Lib\\site-packages\\ultralytics\\utils\\metrics.py:432: UserWarning: Glyph 30495 (\\N{CJK UNIFIED IDEOGRAPH-771F}) missing from current font.\n",
      "  fig.savefig(plot_fname, dpi=250)\n",
      "D:\\code\\env\\anaconda\\envs\\mhy-yolo\\Lib\\site-packages\\ultralytics\\utils\\metrics.py:432: UserWarning: Glyph 30456 (\\N{CJK UNIFIED IDEOGRAPH-76F8}) missing from current font.\n",
      "  fig.savefig(plot_fname, dpi=250)\n",
      "D:\\code\\env\\anaconda\\envs\\mhy-yolo\\Lib\\site-packages\\ultralytics\\utils\\metrics.py:432: UserWarning: Glyph 36890 (\\N{CJK UNIFIED IDEOGRAPH-901A}) missing from current font.\n",
      "  fig.savefig(plot_fname, dpi=250)\n",
      "D:\\code\\env\\anaconda\\envs\\mhy-yolo\\Lib\\site-packages\\ultralytics\\utils\\metrics.py:432: UserWarning: Glyph 36947 (\\N{CJK UNIFIED IDEOGRAPH-9053}) missing from current font.\n",
      "  fig.savefig(plot_fname, dpi=250)\n",
      "D:\\code\\env\\anaconda\\envs\\mhy-yolo\\Lib\\site-packages\\ultralytics\\utils\\metrics.py:432: UserWarning: Glyph 24040 (\\N{CJK UNIFIED IDEOGRAPH-5DE8}) missing from current font.\n",
      "  fig.savefig(plot_fname, dpi=250)\n",
      "D:\\code\\env\\anaconda\\envs\\mhy-yolo\\Lib\\site-packages\\ultralytics\\utils\\metrics.py:432: UserWarning: Glyph 20861 (\\N{CJK UNIFIED IDEOGRAPH-517D}) missing from current font.\n",
      "  fig.savefig(plot_fname, dpi=250)\n",
      "D:\\code\\env\\anaconda\\envs\\mhy-yolo\\Lib\\site-packages\\ultralytics\\utils\\metrics.py:432: UserWarning: Glyph 22855 (\\N{CJK UNIFIED IDEOGRAPH-5947}) missing from current font.\n",
      "  fig.savefig(plot_fname, dpi=250)\n",
      "D:\\code\\env\\anaconda\\envs\\mhy-yolo\\Lib\\site-packages\\ultralytics\\utils\\metrics.py:432: UserWarning: Glyph 36135 (\\N{CJK UNIFIED IDEOGRAPH-8D27}) missing from current font.\n",
      "  fig.savefig(plot_fname, dpi=250)\n",
      "D:\\code\\env\\anaconda\\envs\\mhy-yolo\\Lib\\site-packages\\ultralytics\\utils\\metrics.py:432: UserWarning: Glyph 30450 (\\N{CJK UNIFIED IDEOGRAPH-76F2}) missing from current font.\n",
      "  fig.savefig(plot_fname, dpi=250)\n",
      "D:\\code\\env\\anaconda\\envs\\mhy-yolo\\Lib\\site-packages\\ultralytics\\utils\\metrics.py:432: UserWarning: Glyph 30418 (\\N{CJK UNIFIED IDEOGRAPH-76D2}) missing from current font.\n",
      "  fig.savefig(plot_fname, dpi=250)\n",
      "D:\\code\\env\\anaconda\\envs\\mhy-yolo\\Lib\\site-packages\\ultralytics\\utils\\metrics.py:432: UserWarning: Glyph 22495 (\\N{CJK UNIFIED IDEOGRAPH-57DF}) missing from current font.\n",
      "  fig.savefig(plot_fname, dpi=250)\n",
      "D:\\code\\env\\anaconda\\envs\\mhy-yolo\\Lib\\site-packages\\ultralytics\\utils\\metrics.py:432: UserWarning: Glyph 19981 (\\N{CJK UNIFIED IDEOGRAPH-4E0D}) missing from current font.\n",
      "  fig.savefig(plot_fname, dpi=250)\n",
      "D:\\code\\env\\anaconda\\envs\\mhy-yolo\\Lib\\site-packages\\ultralytics\\utils\\metrics.py:432: UserWarning: Glyph 23452 (\\N{CJK UNIFIED IDEOGRAPH-5B9C}) missing from current font.\n",
      "  fig.savefig(plot_fname, dpi=250)\n",
      "D:\\code\\env\\anaconda\\envs\\mhy-yolo\\Lib\\site-packages\\ultralytics\\utils\\metrics.py:432: UserWarning: Glyph 20037 (\\N{CJK UNIFIED IDEOGRAPH-4E45}) missing from current font.\n",
      "  fig.savefig(plot_fname, dpi=250)\n",
      "D:\\code\\env\\anaconda\\envs\\mhy-yolo\\Lib\\site-packages\\ultralytics\\utils\\metrics.py:432: UserWarning: Glyph 30041 (\\N{CJK UNIFIED IDEOGRAPH-7559}) missing from current font.\n",
      "  fig.savefig(plot_fname, dpi=250)\n",
      "D:\\code\\env\\anaconda\\envs\\mhy-yolo\\Lib\\site-packages\\ultralytics\\utils\\metrics.py:432: UserWarning: Glyph 24618 (\\N{CJK UNIFIED IDEOGRAPH-602A}) missing from current font.\n",
      "  fig.savefig(plot_fname, dpi=250)\n",
      "D:\\code\\env\\anaconda\\envs\\mhy-yolo\\Lib\\site-packages\\ultralytics\\utils\\metrics.py:432: UserWarning: Glyph 20390 (\\N{CJK UNIFIED IDEOGRAPH-4FA6}) missing from current font.\n",
      "  fig.savefig(plot_fname, dpi=250)\n",
      "D:\\code\\env\\anaconda\\envs\\mhy-yolo\\Lib\\site-packages\\ultralytics\\utils\\metrics.py:432: UserWarning: Glyph 25506 (\\N{CJK UNIFIED IDEOGRAPH-63A2}) missing from current font.\n",
      "  fig.savefig(plot_fname, dpi=250)\n",
      "D:\\code\\env\\anaconda\\envs\\mhy-yolo\\Lib\\site-packages\\ultralytics\\utils\\metrics.py:432: UserWarning: Glyph 27714 (\\N{CJK UNIFIED IDEOGRAPH-6C42}) missing from current font.\n",
      "  fig.savefig(plot_fname, dpi=250)\n",
      "D:\\code\\env\\anaconda\\envs\\mhy-yolo\\Lib\\site-packages\\ultralytics\\utils\\metrics.py:432: UserWarning: Glyph 25937 (\\N{CJK UNIFIED IDEOGRAPH-6551}) missing from current font.\n",
      "  fig.savefig(plot_fname, dpi=250)\n",
      "D:\\code\\env\\anaconda\\envs\\mhy-yolo\\Lib\\site-packages\\ultralytics\\utils\\metrics.py:432: UserWarning: Glyph 20449 (\\N{CJK UNIFIED IDEOGRAPH-4FE1}) missing from current font.\n",
      "  fig.savefig(plot_fname, dpi=250)\n",
      "D:\\code\\env\\anaconda\\envs\\mhy-yolo\\Lib\\site-packages\\ultralytics\\utils\\metrics.py:432: UserWarning: Glyph 21495 (\\N{CJK UNIFIED IDEOGRAPH-53F7}) missing from current font.\n",
      "  fig.savefig(plot_fname, dpi=250)\n",
      "D:\\code\\env\\anaconda\\envs\\mhy-yolo\\Lib\\site-packages\\ultralytics\\utils\\metrics.py:432: UserWarning: Glyph 21327 (\\N{CJK UNIFIED IDEOGRAPH-534F}) missing from current font.\n",
      "  fig.savefig(plot_fname, dpi=250)\n",
      "D:\\code\\env\\anaconda\\envs\\mhy-yolo\\Lib\\site-packages\\ultralytics\\utils\\metrics.py:432: UserWarning: Glyph 20250 (\\N{CJK UNIFIED IDEOGRAPH-4F1A}) missing from current font.\n",
      "  fig.savefig(plot_fname, dpi=250)\n",
      "D:\\code\\env\\anaconda\\envs\\mhy-yolo\\Lib\\site-packages\\ultralytics\\utils\\metrics.py:432: UserWarning: Glyph 31449 (\\N{CJK UNIFIED IDEOGRAPH-7AD9}) missing from current font.\n",
      "  fig.savefig(plot_fname, dpi=250)\n",
      "D:\\code\\env\\anaconda\\envs\\mhy-yolo\\Lib\\site-packages\\ultralytics\\utils\\metrics.py:432: UserWarning: Glyph 31934 (\\N{CJK UNIFIED IDEOGRAPH-7CBE}) missing from current font.\n",
      "  fig.savefig(plot_fname, dpi=250)\n",
      "D:\\code\\env\\anaconda\\envs\\mhy-yolo\\Lib\\site-packages\\ultralytics\\utils\\metrics.py:432: UserWarning: Glyph 38160 (\\N{CJK UNIFIED IDEOGRAPH-9510}) missing from current font.\n",
      "  fig.savefig(plot_fname, dpi=250)\n",
      "D:\\code\\env\\anaconda\\envs\\mhy-yolo\\Lib\\site-packages\\ultralytics\\utils\\metrics.py:432: UserWarning: Glyph 21161 (\\N{CJK UNIFIED IDEOGRAPH-52A9}) missing from current font.\n",
      "  fig.savefig(plot_fname, dpi=250)\n",
      "D:\\code\\env\\anaconda\\envs\\mhy-yolo\\Lib\\site-packages\\ultralytics\\utils\\metrics.py:432: UserWarning: Glyph 25163 (\\N{CJK UNIFIED IDEOGRAPH-624B}) missing from current font.\n",
      "  fig.savefig(plot_fname, dpi=250)\n",
      "D:\\code\\env\\anaconda\\envs\\mhy-yolo\\Lib\\site-packages\\ultralytics\\utils\\metrics.py:432: UserWarning: Glyph 27835 (\\N{CJK UNIFIED IDEOGRAPH-6CBB}) missing from current font.\n",
      "  fig.savefig(plot_fname, dpi=250)\n",
      "D:\\code\\env\\anaconda\\envs\\mhy-yolo\\Lib\\site-packages\\ultralytics\\utils\\metrics.py:432: UserWarning: Glyph 23448 (\\N{CJK UNIFIED IDEOGRAPH-5B98}) missing from current font.\n",
      "  fig.savefig(plot_fname, dpi=250)\n",
      "D:\\code\\env\\anaconda\\envs\\mhy-yolo\\Lib\\site-packages\\ultralytics\\utils\\metrics.py:432: UserWarning: Glyph 23567 (\\N{CJK UNIFIED IDEOGRAPH-5C0F}) missing from current font.\n",
      "  fig.savefig(plot_fname, dpi=250)\n",
      "D:\\code\\env\\anaconda\\envs\\mhy-yolo\\Lib\\site-packages\\ultralytics\\utils\\metrics.py:432: UserWarning: Glyph 38431 (\\N{CJK UNIFIED IDEOGRAPH-961F}) missing from current font.\n",
      "  fig.savefig(plot_fname, dpi=250)\n",
      "D:\\code\\env\\anaconda\\envs\\mhy-yolo\\Lib\\site-packages\\ultralytics\\utils\\metrics.py:432: UserWarning: Glyph 26377 (\\N{CJK UNIFIED IDEOGRAPH-6709}) missing from current font.\n",
      "  fig.savefig(plot_fname, dpi=250)\n",
      "D:\\code\\env\\anaconda\\envs\\mhy-yolo\\Lib\\site-packages\\ultralytics\\utils\\metrics.py:432: UserWarning: Glyph 20607 (\\N{CJK UNIFIED IDEOGRAPH-507F}) missing from current font.\n",
      "  fig.savefig(plot_fname, dpi=250)\n",
      "D:\\code\\env\\anaconda\\envs\\mhy-yolo\\Lib\\site-packages\\ultralytics\\utils\\metrics.py:432: UserWarning: Glyph 39301 (\\N{CJK UNIFIED IDEOGRAPH-9985}) missing from current font.\n",
      "  fig.savefig(plot_fname, dpi=250)\n",
      "D:\\code\\env\\anaconda\\envs\\mhy-yolo\\Lib\\site-packages\\ultralytics\\utils\\metrics.py:432: UserWarning: Glyph 39292 (\\N{CJK UNIFIED IDEOGRAPH-997C}) missing from current font.\n",
      "  fig.savefig(plot_fname, dpi=250)\n",
      "D:\\code\\env\\anaconda\\envs\\mhy-yolo\\Lib\\site-packages\\ultralytics\\utils\\metrics.py:432: UserWarning: Glyph 22825 (\\N{CJK UNIFIED IDEOGRAPH-5929}) missing from current font.\n",
      "  fig.savefig(plot_fname, dpi=250)\n",
      "D:\\code\\env\\anaconda\\envs\\mhy-yolo\\Lib\\site-packages\\ultralytics\\utils\\metrics.py:432: UserWarning: Glyph 38477 (\\N{CJK UNIFIED IDEOGRAPH-964D}) missing from current font.\n",
      "  fig.savefig(plot_fname, dpi=250)\n",
      "D:\\code\\env\\anaconda\\envs\\mhy-yolo\\Lib\\site-packages\\ultralytics\\utils\\metrics.py:432: UserWarning: Glyph 24576 (\\N{CJK UNIFIED IDEOGRAPH-6000}) missing from current font.\n",
      "  fig.savefig(plot_fname, dpi=250)\n",
      "D:\\code\\env\\anaconda\\envs\\mhy-yolo\\Lib\\site-packages\\ultralytics\\utils\\metrics.py:432: UserWarning: Glyph 26031 (\\N{CJK UNIFIED IDEOGRAPH-65AF}) missing from current font.\n",
      "  fig.savefig(plot_fname, dpi=250)\n",
      "D:\\code\\env\\anaconda\\envs\\mhy-yolo\\Lib\\site-packages\\ultralytics\\utils\\metrics.py:432: UserWarning: Glyph 22612 (\\N{CJK UNIFIED IDEOGRAPH-5854}) missing from current font.\n",
      "  fig.savefig(plot_fname, dpi=250)\n",
      "D:\\code\\env\\anaconda\\envs\\mhy-yolo\\Lib\\site-packages\\ultralytics\\utils\\metrics.py:432: UserWarning: Glyph 23398 (\\N{CJK UNIFIED IDEOGRAPH-5B66}) missing from current font.\n",
      "  fig.savefig(plot_fname, dpi=250)\n",
      "D:\\code\\env\\anaconda\\envs\\mhy-yolo\\Lib\\site-packages\\ultralytics\\utils\\metrics.py:432: UserWarning: Glyph 27963 (\\N{CJK UNIFIED IDEOGRAPH-6D3B}) missing from current font.\n",
      "  fig.savefig(plot_fname, dpi=250)\n",
      "D:\\code\\env\\anaconda\\envs\\mhy-yolo\\Lib\\site-packages\\ultralytics\\utils\\metrics.py:432: UserWarning: Glyph 32467 (\\N{CJK UNIFIED IDEOGRAPH-7ED3}) missing from current font.\n",
      "  fig.savefig(plot_fname, dpi=250)\n",
      "D:\\code\\env\\anaconda\\envs\\mhy-yolo\\Lib\\site-packages\\ultralytics\\utils\\metrics.py:432: UserWarning: Glyph 26230 (\\N{CJK UNIFIED IDEOGRAPH-6676}) missing from current font.\n",
      "  fig.savefig(plot_fname, dpi=250)\n",
      "D:\\code\\env\\anaconda\\envs\\mhy-yolo\\Lib\\site-packages\\ultralytics\\utils\\metrics.py:432: UserWarning: Glyph 23432 (\\N{CJK UNIFIED IDEOGRAPH-5B88}) missing from current font.\n",
      "  fig.savefig(plot_fname, dpi=250)\n",
      "D:\\code\\env\\anaconda\\envs\\mhy-yolo\\Lib\\site-packages\\ultralytics\\utils\\metrics.py:432: UserWarning: Glyph 35010 (\\N{CJK UNIFIED IDEOGRAPH-88C2}) missing from current font.\n",
      "  fig.savefig(plot_fname, dpi=250)\n",
      "D:\\code\\env\\anaconda\\envs\\mhy-yolo\\Lib\\site-packages\\ultralytics\\utils\\metrics.py:432: UserWarning: Glyph 38553 (\\N{CJK UNIFIED IDEOGRAPH-9699}) missing from current font.\n",
      "  fig.savefig(plot_fname, dpi=250)\n",
      "D:\\code\\env\\anaconda\\envs\\mhy-yolo\\Lib\\site-packages\\ultralytics\\utils\\metrics.py:432: UserWarning: Glyph 32039 (\\N{CJK UNIFIED IDEOGRAPH-7D27}) missing from current font.\n",
      "  fig.savefig(plot_fname, dpi=250)\n",
      "D:\\code\\env\\anaconda\\envs\\mhy-yolo\\Lib\\site-packages\\ultralytics\\utils\\metrics.py:432: UserWarning: Glyph 24613 (\\N{CJK UNIFIED IDEOGRAPH-6025}) missing from current font.\n",
      "  fig.savefig(plot_fname, dpi=250)\n",
      "D:\\code\\env\\anaconda\\envs\\mhy-yolo\\Lib\\site-packages\\ultralytics\\utils\\metrics.py:432: UserWarning: Glyph 25764 (\\N{CJK UNIFIED IDEOGRAPH-64A4}) missing from current font.\n",
      "  fig.savefig(plot_fname, dpi=250)\n",
      "D:\\code\\env\\anaconda\\envs\\mhy-yolo\\Lib\\site-packages\\ultralytics\\utils\\metrics.py:432: UserWarning: Glyph 31163 (\\N{CJK UNIFIED IDEOGRAPH-79BB}) missing from current font.\n",
      "  fig.savefig(plot_fname, dpi=250)\n",
      "D:\\code\\env\\anaconda\\envs\\mhy-yolo\\Lib\\site-packages\\ultralytics\\utils\\metrics.py:432: UserWarning: Glyph 38450 (\\N{CJK UNIFIED IDEOGRAPH-9632}) missing from current font.\n",
      "  fig.savefig(plot_fname, dpi=250)\n",
      "D:\\code\\env\\anaconda\\envs\\mhy-yolo\\Lib\\site-packages\\ultralytics\\utils\\metrics.py:432: UserWarning: Glyph 21355 (\\N{CJK UNIFIED IDEOGRAPH-536B}) missing from current font.\n",
      "  fig.savefig(plot_fname, dpi=250)\n",
      "D:\\code\\env\\anaconda\\envs\\mhy-yolo\\Lib\\site-packages\\ultralytics\\utils\\metrics.py:432: UserWarning: Glyph 20891 (\\N{CJK UNIFIED IDEOGRAPH-519B}) missing from current font.\n",
      "  fig.savefig(plot_fname, dpi=250)\n",
      "D:\\code\\env\\anaconda\\envs\\mhy-yolo\\Lib\\site-packages\\ultralytics\\utils\\metrics.py:432: UserWarning: Glyph 21518 (\\N{CJK UNIFIED IDEOGRAPH-540E}) missing from current font.\n",
      "  fig.savefig(plot_fname, dpi=250)\n",
      "D:\\code\\env\\anaconda\\envs\\mhy-yolo\\Lib\\site-packages\\ultralytics\\utils\\metrics.py:432: UserWarning: Glyph 21220 (\\N{CJK UNIFIED IDEOGRAPH-52E4}) missing from current font.\n",
      "  fig.savefig(plot_fname, dpi=250)\n",
      "D:\\code\\env\\anaconda\\envs\\mhy-yolo\\Lib\\site-packages\\ultralytics\\utils\\metrics.py:432: UserWarning: Glyph 29579 (\\N{CJK UNIFIED IDEOGRAPH-738B}) missing from current font.\n",
      "  fig.savefig(plot_fname, dpi=250)\n",
      "D:\\code\\env\\anaconda\\envs\\mhy-yolo\\Lib\\site-packages\\ultralytics\\utils\\metrics.py:432: UserWarning: Glyph 29260 (\\N{CJK UNIFIED IDEOGRAPH-724C}) missing from current font.\n",
      "  fig.savefig(plot_fname, dpi=250)\n",
      "D:\\code\\env\\anaconda\\envs\\mhy-yolo\\Lib\\site-packages\\ultralytics\\utils\\metrics.py:432: UserWarning: Glyph 26410 (\\N{CJK UNIFIED IDEOGRAPH-672A}) missing from current font.\n",
      "  fig.savefig(plot_fname, dpi=250)\n",
      "D:\\code\\env\\anaconda\\envs\\mhy-yolo\\Lib\\site-packages\\ultralytics\\utils\\metrics.py:432: UserWarning: Glyph 30693 (\\N{CJK UNIFIED IDEOGRAPH-77E5}) missing from current font.\n",
      "  fig.savefig(plot_fname, dpi=250)\n",
      "D:\\code\\env\\anaconda\\envs\\mhy-yolo\\Lib\\site-packages\\ultralytics\\utils\\metrics.py:432: UserWarning: Glyph 29983 (\\N{CJK UNIFIED IDEOGRAPH-751F}) missing from current font.\n",
      "  fig.savefig(plot_fname, dpi=250)\n",
      "D:\\code\\env\\anaconda\\envs\\mhy-yolo\\Lib\\site-packages\\ultralytics\\utils\\metrics.py:432: UserWarning: Glyph 38646 (\\N{CJK UNIFIED IDEOGRAPH-96F6}) missing from current font.\n",
      "  fig.savefig(plot_fname, dpi=250)\n",
      "D:\\code\\env\\anaconda\\envs\\mhy-yolo\\Lib\\site-packages\\ultralytics\\utils\\metrics.py:432: UserWarning: Glyph 38134 (\\N{CJK UNIFIED IDEOGRAPH-94F6}) missing from current font.\n",
      "  fig.savefig(plot_fname, dpi=250)\n",
      "D:\\code\\env\\anaconda\\envs\\mhy-yolo\\Lib\\site-packages\\ultralytics\\utils\\metrics.py:432: UserWarning: Glyph 34892 (\\N{CJK UNIFIED IDEOGRAPH-884C}) missing from current font.\n",
      "  fig.savefig(plot_fname, dpi=250)\n",
      "D:\\code\\env\\anaconda\\envs\\mhy-yolo\\Lib\\site-packages\\ultralytics\\utils\\metrics.py:432: UserWarning: Glyph 25928 (\\N{CJK UNIFIED IDEOGRAPH-6548}) missing from current font.\n",
      "  fig.savefig(plot_fname, dpi=250)\n",
      "D:\\code\\env\\anaconda\\envs\\mhy-yolo\\Lib\\site-packages\\ultralytics\\utils\\metrics.py:432: UserWarning: Glyph 33410 (\\N{CJK UNIFIED IDEOGRAPH-8282}) missing from current font.\n",
      "  fig.savefig(plot_fname, dpi=250)\n",
      "D:\\code\\env\\anaconda\\envs\\mhy-yolo\\Lib\\site-packages\\ultralytics\\utils\\metrics.py:432: UserWarning: Glyph 36164 (\\N{CJK UNIFIED IDEOGRAPH-8D44}) missing from current font.\n",
      "  fig.savefig(plot_fname, dpi=250)\n",
      "D:\\code\\env\\anaconda\\envs\\mhy-yolo\\Lib\\site-packages\\ultralytics\\utils\\metrics.py:432: UserWarning: Glyph 28304 (\\N{CJK UNIFIED IDEOGRAPH-6E90}) missing from current font.\n",
      "  fig.savefig(plot_fname, dpi=250)\n",
      "D:\\code\\env\\anaconda\\envs\\mhy-yolo\\Lib\\site-packages\\ultralytics\\utils\\metrics.py:432: UserWarning: Glyph 22238 (\\N{CJK UNIFIED IDEOGRAPH-56DE}) missing from current font.\n",
      "  fig.savefig(plot_fname, dpi=250)\n",
      "D:\\code\\env\\anaconda\\envs\\mhy-yolo\\Lib\\site-packages\\ultralytics\\utils\\metrics.py:432: UserWarning: Glyph 25910 (\\N{CJK UNIFIED IDEOGRAPH-6536}) missing from current font.\n",
      "  fig.savefig(plot_fname, dpi=250)\n",
      "D:\\code\\env\\anaconda\\envs\\mhy-yolo\\Lib\\site-packages\\ultralytics\\utils\\metrics.py:432: UserWarning: Glyph 32452 (\\N{CJK UNIFIED IDEOGRAPH-7EC4}) missing from current font.\n",
      "  fig.savefig(plot_fname, dpi=250)\n",
      "D:\\code\\env\\anaconda\\envs\\mhy-yolo\\Lib\\site-packages\\ultralytics\\utils\\metrics.py:432: UserWarning: Glyph 25353 (\\N{CJK UNIFIED IDEOGRAPH-6309}) missing from current font.\n",
      "  fig.savefig(plot_fname, dpi=250)\n",
      "D:\\code\\env\\anaconda\\envs\\mhy-yolo\\Lib\\site-packages\\ultralytics\\utils\\metrics.py:432: UserWarning: Glyph 21387 (\\N{CJK UNIFIED IDEOGRAPH-538B}) missing from current font.\n",
      "  fig.savefig(plot_fname, dpi=250)\n",
      "D:\\code\\env\\anaconda\\envs\\mhy-yolo\\Lib\\site-packages\\ultralytics\\utils\\metrics.py:432: UserWarning: Glyph 24335 (\\N{CJK UNIFIED IDEOGRAPH-5F0F}) missing from current font.\n",
      "  fig.savefig(plot_fname, dpi=250)\n",
      "D:\\code\\env\\anaconda\\envs\\mhy-yolo\\Lib\\site-packages\\ultralytics\\utils\\metrics.py:432: UserWarning: Glyph 20851 (\\N{CJK UNIFIED IDEOGRAPH-5173}) missing from current font.\n",
      "  fig.savefig(plot_fname, dpi=250)\n",
      "D:\\code\\env\\anaconda\\envs\\mhy-yolo\\Lib\\site-packages\\ultralytics\\utils\\metrics.py:432: UserWarning: Glyph 24377 (\\N{CJK UNIFIED IDEOGRAPH-5F39}) missing from current font.\n",
      "  fig.savefig(plot_fname, dpi=250)\n",
      "D:\\code\\env\\anaconda\\envs\\mhy-yolo\\Lib\\site-packages\\ultralytics\\utils\\metrics.py:432: UserWarning: Glyph 23556 (\\N{CJK UNIFIED IDEOGRAPH-5C04}) missing from current font.\n",
      "  fig.savefig(plot_fname, dpi=250)\n",
      "D:\\code\\env\\anaconda\\envs\\mhy-yolo\\Lib\\site-packages\\ultralytics\\utils\\metrics.py:432: UserWarning: Glyph 19978 (\\N{CJK UNIFIED IDEOGRAPH-4E0A}) missing from current font.\n",
      "  fig.savefig(plot_fname, dpi=250)\n",
      "D:\\code\\env\\anaconda\\envs\\mhy-yolo\\Lib\\site-packages\\ultralytics\\utils\\metrics.py:432: UserWarning: Glyph 36712 (\\N{CJK UNIFIED IDEOGRAPH-8F68}) missing from current font.\n",
      "  fig.savefig(plot_fname, dpi=250)\n",
      "D:\\code\\env\\anaconda\\envs\\mhy-yolo\\Lib\\site-packages\\ultralytics\\utils\\metrics.py:432: UserWarning: Glyph 21516 (\\N{CJK UNIFIED IDEOGRAPH-540C}) missing from current font.\n",
      "  fig.savefig(plot_fname, dpi=250)\n",
      "D:\\code\\env\\anaconda\\envs\\mhy-yolo\\Lib\\site-packages\\ultralytics\\utils\\metrics.py:432: UserWarning: Glyph 20276 (\\N{CJK UNIFIED IDEOGRAPH-4F34}) missing from current font.\n",
      "  fig.savefig(plot_fname, dpi=250)\n",
      "D:\\code\\env\\anaconda\\envs\\mhy-yolo\\Lib\\site-packages\\ultralytics\\utils\\metrics.py:432: UserWarning: Glyph 19979 (\\N{CJK UNIFIED IDEOGRAPH-4E0B}) missing from current font.\n",
      "  fig.savefig(plot_fname, dpi=250)\n",
      "D:\\code\\env\\anaconda\\envs\\mhy-yolo\\Lib\\site-packages\\ultralytics\\utils\\metrics.py:432: UserWarning: Glyph 24038 (\\N{CJK UNIFIED IDEOGRAPH-5DE6}) missing from current font.\n",
      "  fig.savefig(plot_fname, dpi=250)\n",
      "D:\\code\\env\\anaconda\\envs\\mhy-yolo\\Lib\\site-packages\\ultralytics\\utils\\metrics.py:432: UserWarning: Glyph 21491 (\\N{CJK UNIFIED IDEOGRAPH-53F3}) missing from current font.\n",
      "  fig.savefig(plot_fname, dpi=250)\n",
      "D:\\code\\env\\anaconda\\envs\\mhy-yolo\\Lib\\site-packages\\ultralytics\\utils\\metrics.py:432: UserWarning: Glyph 25151 (\\N{CJK UNIFIED IDEOGRAPH-623F}) missing from current font.\n",
      "  fig.savefig(plot_fname, dpi=250)\n",
      "D:\\code\\env\\anaconda\\envs\\mhy-yolo\\Lib\\site-packages\\ultralytics\\utils\\metrics.py:432: UserWarning: Glyph 23627 (\\N{CJK UNIFIED IDEOGRAPH-5C4B}) missing from current font.\n",
      "  fig.savefig(plot_fname, dpi=250)\n",
      "D:\\code\\env\\anaconda\\envs\\mhy-yolo\\Lib\\site-packages\\ultralytics\\utils\\metrics.py:432: UserWarning: Glyph 39608 (\\N{CJK UNIFIED IDEOGRAPH-9AB8}) missing from current font.\n",
      "  fig.savefig(plot_fname, dpi=250)\n",
      "D:\\code\\env\\anaconda\\envs\\mhy-yolo\\Lib\\site-packages\\ultralytics\\utils\\metrics.py:432: UserWarning: Glyph 25237 (\\N{CJK UNIFIED IDEOGRAPH-6295}) missing from current font.\n",
      "  fig.savefig(plot_fname, dpi=250)\n",
      "D:\\code\\env\\anaconda\\envs\\mhy-yolo\\Lib\\site-packages\\ultralytics\\utils\\metrics.py:432: UserWarning: Glyph 35809 (\\N{CJK UNIFIED IDEOGRAPH-8BE1}) missing from current font.\n",
      "  fig.savefig(plot_fname, dpi=250)\n",
      "D:\\code\\env\\anaconda\\envs\\mhy-yolo\\Lib\\site-packages\\ultralytics\\utils\\metrics.py:432: UserWarning: Glyph 38654 (\\N{CJK UNIFIED IDEOGRAPH-96FE}) missing from current font.\n",
      "  fig.savefig(plot_fname, dpi=250)\n",
      "D:\\code\\env\\anaconda\\envs\\mhy-yolo\\Lib\\site-packages\\ultralytics\\utils\\metrics.py:432: UserWarning: Glyph 38480 (\\N{CJK UNIFIED IDEOGRAPH-9650}) missing from current font.\n",
      "  fig.savefig(plot_fname, dpi=250)\n",
      "D:\\code\\env\\anaconda\\envs\\mhy-yolo\\Lib\\site-packages\\ultralytics\\utils\\metrics.py:432: UserWarning: Glyph 26007 (\\N{CJK UNIFIED IDEOGRAPH-6597}) missing from current font.\n",
      "  fig.savefig(plot_fname, dpi=250)\n",
      "D:\\code\\env\\anaconda\\envs\\mhy-yolo\\Lib\\site-packages\\ultralytics\\utils\\metrics.py:432: UserWarning: Glyph 31354 (\\N{CJK UNIFIED IDEOGRAPH-7A7A}) missing from current font.\n",
      "  fig.savefig(plot_fname, dpi=250)\n",
      "D:\\code\\env\\anaconda\\envs\\mhy-yolo\\Lib\\site-packages\\ultralytics\\utils\\metrics.py:432: UserWarning: Glyph 21307 (\\N{CJK UNIFIED IDEOGRAPH-533B}) missing from current font.\n",
      "  fig.savefig(plot_fname, dpi=250)\n",
      "D:\\code\\env\\anaconda\\envs\\mhy-yolo\\Lib\\site-packages\\ultralytics\\utils\\metrics.py:432: UserWarning: Glyph 33258 (\\N{CJK UNIFIED IDEOGRAPH-81EA}) missing from current font.\n",
      "  fig.savefig(plot_fname, dpi=250)\n",
      "D:\\code\\env\\anaconda\\envs\\mhy-yolo\\Lib\\site-packages\\ultralytics\\utils\\metrics.py:432: UserWarning: Glyph 21160 (\\N{CJK UNIFIED IDEOGRAPH-52A8}) missing from current font.\n",
      "  fig.savefig(plot_fname, dpi=250)\n",
      "D:\\code\\env\\anaconda\\envs\\mhy-yolo\\Lib\\site-packages\\ultralytics\\utils\\metrics.py:432: UserWarning: Glyph 30103 (\\N{CJK UNIFIED IDEOGRAPH-7597}) missing from current font.\n",
      "  fig.savefig(plot_fname, dpi=250)\n",
      "D:\\code\\env\\anaconda\\envs\\mhy-yolo\\Lib\\site-packages\\ultralytics\\utils\\metrics.py:432: UserWarning: Glyph 20179 (\\N{CJK UNIFIED IDEOGRAPH-4ED3}) missing from current font.\n",
      "  fig.savefig(plot_fname, dpi=250)\n",
      "D:\\code\\env\\anaconda\\envs\\mhy-yolo\\Lib\\site-packages\\ultralytics\\utils\\metrics.py:432: UserWarning: Glyph 38505 (\\N{CJK UNIFIED IDEOGRAPH-9669}) missing from current font.\n",
      "  fig.savefig(plot_fname, dpi=250)\n",
      "D:\\code\\env\\anaconda\\envs\\mhy-yolo\\Lib\\site-packages\\ultralytics\\utils\\metrics.py:432: UserWarning: Glyph 30446 (\\N{CJK UNIFIED IDEOGRAPH-76EE}) missing from current font.\n",
      "  fig.savefig(plot_fname, dpi=250)\n",
      "D:\\code\\env\\anaconda\\envs\\mhy-yolo\\Lib\\site-packages\\ultralytics\\utils\\metrics.py:432: UserWarning: Glyph 26631 (\\N{CJK UNIFIED IDEOGRAPH-6807}) missing from current font.\n",
      "  fig.savefig(plot_fname, dpi=250)\n",
      "D:\\code\\env\\anaconda\\envs\\mhy-yolo\\Lib\\site-packages\\ultralytics\\utils\\metrics.py:432: UserWarning: Glyph 30005 (\\N{CJK UNIFIED IDEOGRAPH-7535}) missing from current font.\n",
      "  fig.savefig(plot_fname, dpi=250)\n",
      "D:\\code\\env\\anaconda\\envs\\mhy-yolo\\Lib\\site-packages\\ultralytics\\utils\\metrics.py:432: UserWarning: Glyph 35270 (\\N{CJK UNIFIED IDEOGRAPH-89C6}) missing from current font.\n",
      "  fig.savefig(plot_fname, dpi=250)\n",
      "D:\\code\\env\\anaconda\\envs\\mhy-yolo\\Lib\\site-packages\\ultralytics\\utils\\metrics.py:432: UserWarning: Glyph 24213 (\\N{CJK UNIFIED IDEOGRAPH-5E95}) missing from current font.\n",
      "  fig.savefig(plot_fname, dpi=250)\n",
      "D:\\code\\env\\anaconda\\envs\\mhy-yolo\\Lib\\site-packages\\ultralytics\\utils\\metrics.py:432: UserWarning: Glyph 24231 (\\N{CJK UNIFIED IDEOGRAPH-5EA7}) missing from current font.\n",
      "  fig.savefig(plot_fname, dpi=250)\n",
      "D:\\code\\env\\anaconda\\envs\\mhy-yolo\\Lib\\site-packages\\ultralytics\\utils\\metrics.py:432: UserWarning: Glyph 32511 (\\N{CJK UNIFIED IDEOGRAPH-7EFF}) missing from current font.\n",
      "  fig.savefig(plot_fname, dpi=250)\n",
      "D:\\code\\env\\anaconda\\envs\\mhy-yolo\\Lib\\site-packages\\ultralytics\\utils\\metrics.py:432: UserWarning: Glyph 32418 (\\N{CJK UNIFIED IDEOGRAPH-7EA2}) missing from current font.\n",
      "  fig.savefig(plot_fname, dpi=250)\n",
      "D:\\code\\env\\anaconda\\envs\\mhy-yolo\\Lib\\site-packages\\ultralytics\\utils\\metrics.py:432: UserWarning: Glyph 22823 (\\N{CJK UNIFIED IDEOGRAPH-5927}) missing from current font.\n",
      "  fig.savefig(plot_fname, dpi=250)\n",
      "D:\\code\\env\\anaconda\\envs\\mhy-yolo\\Lib\\site-packages\\ultralytics\\utils\\metrics.py:432: UserWarning: Glyph 24403 (\\N{CJK UNIFIED IDEOGRAPH-5F53}) missing from current font.\n",
      "  fig.savefig(plot_fname, dpi=250)\n",
      "D:\\code\\env\\anaconda\\envs\\mhy-yolo\\Lib\\site-packages\\ultralytics\\utils\\metrics.py:432: UserWarning: Glyph 21069 (\\N{CJK UNIFIED IDEOGRAPH-524D}) missing from current font.\n",
      "  fig.savefig(plot_fname, dpi=250)\n",
      "D:\\code\\env\\anaconda\\envs\\mhy-yolo\\Lib\\site-packages\\ultralytics\\utils\\metrics.py:432: UserWarning: Glyph 30333 (\\N{CJK UNIFIED IDEOGRAPH-767D}) missing from current font.\n",
      "  fig.savefig(plot_fname, dpi=250)\n",
      "D:\\code\\env\\anaconda\\envs\\mhy-yolo\\Lib\\site-packages\\ultralytics\\utils\\metrics.py:432: UserWarning: Glyph 24050 (\\N{CJK UNIFIED IDEOGRAPH-5DF2}) missing from current font.\n",
      "  fig.savefig(plot_fname, dpi=250)\n",
      "D:\\code\\env\\anaconda\\envs\\mhy-yolo\\Lib\\site-packages\\ultralytics\\utils\\metrics.py:432: UserWarning: Glyph 26080 (\\N{CJK UNIFIED IDEOGRAPH-65E0}) missing from current font.\n",
      "  fig.savefig(plot_fname, dpi=250)\n",
      "D:\\code\\env\\anaconda\\envs\\mhy-yolo\\Lib\\site-packages\\ultralytics\\utils\\metrics.py:432: UserWarning: Glyph 27861 (\\N{CJK UNIFIED IDEOGRAPH-6CD5}) missing from current font.\n",
      "  fig.savefig(plot_fname, dpi=250)\n"
     ]
    },
    {
     "name": "stdout",
     "output_type": "stream",
     "text": [
      "Speed: 0.6ms preprocess, 4.1ms inference, 0.0ms loss, 1.1ms postprocess per image\n",
      "Results saved to \u001b[1mD:\\code\\workspace\\OneDragon-YOLO\\ultralytics\\runs\\zzz_hollow_event_2208\\yolov8s-736\u001b[0m\n"
     ]
    },
    {
     "data": {
      "text/plain": [
       "ultralytics.utils.metrics.DetMetrics object with attributes:\n",
       "\n",
       "ap_class_index: array([ 1,  2,  3,  4,  5,  6,  7,  9, 10, 11, 12, 13, 14, 15, 16, 17, 18, 19, 20, 21, 22, 23, 24, 25, 26, 27, 28, 29, 30, 31, 32, 33, 34, 35, 36, 37, 38, 39, 40, 41, 42, 43, 44, 45, 46, 47, 48, 49, 50, 51, 52, 53, 54, 55, 56, 58, 59, 60, 63, 65, 66, 67, 68, 69, 70, 71, 72, 73, 74, 75, 76, 77, 78, 79, 80, 81])\n",
       "box: ultralytics.utils.metrics.Metric object\n",
       "confusion_matrix: <ultralytics.utils.metrics.ConfusionMatrix object at 0x0000026813582150>\n",
       "curves: ['Precision-Recall(B)', 'F1-Confidence(B)', 'Precision-Confidence(B)', 'Recall-Confidence(B)']\n",
       "curves_results: [[array([          0,    0.001001,    0.002002,    0.003003,    0.004004,    0.005005,    0.006006,    0.007007,    0.008008,    0.009009,     0.01001,    0.011011,    0.012012,    0.013013,    0.014014,    0.015015,    0.016016,    0.017017,    0.018018,    0.019019,     0.02002,    0.021021,    0.022022,    0.023023,\n",
       "          0.024024,    0.025025,    0.026026,    0.027027,    0.028028,    0.029029,     0.03003,    0.031031,    0.032032,    0.033033,    0.034034,    0.035035,    0.036036,    0.037037,    0.038038,    0.039039,     0.04004,    0.041041,    0.042042,    0.043043,    0.044044,    0.045045,    0.046046,    0.047047,\n",
       "          0.048048,    0.049049,     0.05005,    0.051051,    0.052052,    0.053053,    0.054054,    0.055055,    0.056056,    0.057057,    0.058058,    0.059059,     0.06006,    0.061061,    0.062062,    0.063063,    0.064064,    0.065065,    0.066066,    0.067067,    0.068068,    0.069069,     0.07007,    0.071071,\n",
       "          0.072072,    0.073073,    0.074074,    0.075075,    0.076076,    0.077077,    0.078078,    0.079079,     0.08008,    0.081081,    0.082082,    0.083083,    0.084084,    0.085085,    0.086086,    0.087087,    0.088088,    0.089089,     0.09009,    0.091091,    0.092092,    0.093093,    0.094094,    0.095095,\n",
       "          0.096096,    0.097097,    0.098098,    0.099099,      0.1001,      0.1011,      0.1021,      0.1031,      0.1041,     0.10511,     0.10611,     0.10711,     0.10811,     0.10911,     0.11011,     0.11111,     0.11211,     0.11311,     0.11411,     0.11512,     0.11612,     0.11712,     0.11812,     0.11912,\n",
       "           0.12012,     0.12112,     0.12212,     0.12312,     0.12412,     0.12513,     0.12613,     0.12713,     0.12813,     0.12913,     0.13013,     0.13113,     0.13213,     0.13313,     0.13413,     0.13514,     0.13614,     0.13714,     0.13814,     0.13914,     0.14014,     0.14114,     0.14214,     0.14314,\n",
       "           0.14414,     0.14515,     0.14615,     0.14715,     0.14815,     0.14915,     0.15015,     0.15115,     0.15215,     0.15315,     0.15415,     0.15516,     0.15616,     0.15716,     0.15816,     0.15916,     0.16016,     0.16116,     0.16216,     0.16316,     0.16416,     0.16517,     0.16617,     0.16717,\n",
       "           0.16817,     0.16917,     0.17017,     0.17117,     0.17217,     0.17317,     0.17417,     0.17518,     0.17618,     0.17718,     0.17818,     0.17918,     0.18018,     0.18118,     0.18218,     0.18318,     0.18418,     0.18519,     0.18619,     0.18719,     0.18819,     0.18919,     0.19019,     0.19119,\n",
       "           0.19219,     0.19319,     0.19419,      0.1952,      0.1962,      0.1972,      0.1982,      0.1992,      0.2002,      0.2012,      0.2022,      0.2032,      0.2042,     0.20521,     0.20621,     0.20721,     0.20821,     0.20921,     0.21021,     0.21121,     0.21221,     0.21321,     0.21421,     0.21522,\n",
       "           0.21622,     0.21722,     0.21822,     0.21922,     0.22022,     0.22122,     0.22222,     0.22322,     0.22422,     0.22523,     0.22623,     0.22723,     0.22823,     0.22923,     0.23023,     0.23123,     0.23223,     0.23323,     0.23423,     0.23524,     0.23624,     0.23724,     0.23824,     0.23924,\n",
       "           0.24024,     0.24124,     0.24224,     0.24324,     0.24424,     0.24525,     0.24625,     0.24725,     0.24825,     0.24925,     0.25025,     0.25125,     0.25225,     0.25325,     0.25425,     0.25526,     0.25626,     0.25726,     0.25826,     0.25926,     0.26026,     0.26126,     0.26226,     0.26326,\n",
       "           0.26426,     0.26527,     0.26627,     0.26727,     0.26827,     0.26927,     0.27027,     0.27127,     0.27227,     0.27327,     0.27427,     0.27528,     0.27628,     0.27728,     0.27828,     0.27928,     0.28028,     0.28128,     0.28228,     0.28328,     0.28428,     0.28529,     0.28629,     0.28729,\n",
       "           0.28829,     0.28929,     0.29029,     0.29129,     0.29229,     0.29329,     0.29429,      0.2953,      0.2963,      0.2973,      0.2983,      0.2993,      0.3003,      0.3013,      0.3023,      0.3033,      0.3043,     0.30531,     0.30631,     0.30731,     0.30831,     0.30931,     0.31031,     0.31131,\n",
       "           0.31231,     0.31331,     0.31431,     0.31532,     0.31632,     0.31732,     0.31832,     0.31932,     0.32032,     0.32132,     0.32232,     0.32332,     0.32432,     0.32533,     0.32633,     0.32733,     0.32833,     0.32933,     0.33033,     0.33133,     0.33233,     0.33333,     0.33433,     0.33534,\n",
       "           0.33634,     0.33734,     0.33834,     0.33934,     0.34034,     0.34134,     0.34234,     0.34334,     0.34434,     0.34535,     0.34635,     0.34735,     0.34835,     0.34935,     0.35035,     0.35135,     0.35235,     0.35335,     0.35435,     0.35536,     0.35636,     0.35736,     0.35836,     0.35936,\n",
       "           0.36036,     0.36136,     0.36236,     0.36336,     0.36436,     0.36537,     0.36637,     0.36737,     0.36837,     0.36937,     0.37037,     0.37137,     0.37237,     0.37337,     0.37437,     0.37538,     0.37638,     0.37738,     0.37838,     0.37938,     0.38038,     0.38138,     0.38238,     0.38338,\n",
       "           0.38438,     0.38539,     0.38639,     0.38739,     0.38839,     0.38939,     0.39039,     0.39139,     0.39239,     0.39339,     0.39439,      0.3954,      0.3964,      0.3974,      0.3984,      0.3994,      0.4004,      0.4014,      0.4024,      0.4034,      0.4044,     0.40541,     0.40641,     0.40741,\n",
       "           0.40841,     0.40941,     0.41041,     0.41141,     0.41241,     0.41341,     0.41441,     0.41542,     0.41642,     0.41742,     0.41842,     0.41942,     0.42042,     0.42142,     0.42242,     0.42342,     0.42442,     0.42543,     0.42643,     0.42743,     0.42843,     0.42943,     0.43043,     0.43143,\n",
       "           0.43243,     0.43343,     0.43443,     0.43544,     0.43644,     0.43744,     0.43844,     0.43944,     0.44044,     0.44144,     0.44244,     0.44344,     0.44444,     0.44545,     0.44645,     0.44745,     0.44845,     0.44945,     0.45045,     0.45145,     0.45245,     0.45345,     0.45445,     0.45546,\n",
       "           0.45646,     0.45746,     0.45846,     0.45946,     0.46046,     0.46146,     0.46246,     0.46346,     0.46446,     0.46547,     0.46647,     0.46747,     0.46847,     0.46947,     0.47047,     0.47147,     0.47247,     0.47347,     0.47447,     0.47548,     0.47648,     0.47748,     0.47848,     0.47948,\n",
       "           0.48048,     0.48148,     0.48248,     0.48348,     0.48448,     0.48549,     0.48649,     0.48749,     0.48849,     0.48949,     0.49049,     0.49149,     0.49249,     0.49349,     0.49449,      0.4955,      0.4965,      0.4975,      0.4985,      0.4995,      0.5005,      0.5015,      0.5025,      0.5035,\n",
       "            0.5045,     0.50551,     0.50651,     0.50751,     0.50851,     0.50951,     0.51051,     0.51151,     0.51251,     0.51351,     0.51451,     0.51552,     0.51652,     0.51752,     0.51852,     0.51952,     0.52052,     0.52152,     0.52252,     0.52352,     0.52452,     0.52553,     0.52653,     0.52753,\n",
       "           0.52853,     0.52953,     0.53053,     0.53153,     0.53253,     0.53353,     0.53453,     0.53554,     0.53654,     0.53754,     0.53854,     0.53954,     0.54054,     0.54154,     0.54254,     0.54354,     0.54454,     0.54555,     0.54655,     0.54755,     0.54855,     0.54955,     0.55055,     0.55155,\n",
       "           0.55255,     0.55355,     0.55455,     0.55556,     0.55656,     0.55756,     0.55856,     0.55956,     0.56056,     0.56156,     0.56256,     0.56356,     0.56456,     0.56557,     0.56657,     0.56757,     0.56857,     0.56957,     0.57057,     0.57157,     0.57257,     0.57357,     0.57457,     0.57558,\n",
       "           0.57658,     0.57758,     0.57858,     0.57958,     0.58058,     0.58158,     0.58258,     0.58358,     0.58458,     0.58559,     0.58659,     0.58759,     0.58859,     0.58959,     0.59059,     0.59159,     0.59259,     0.59359,     0.59459,      0.5956,      0.5966,      0.5976,      0.5986,      0.5996,\n",
       "            0.6006,      0.6016,      0.6026,      0.6036,      0.6046,     0.60561,     0.60661,     0.60761,     0.60861,     0.60961,     0.61061,     0.61161,     0.61261,     0.61361,     0.61461,     0.61562,     0.61662,     0.61762,     0.61862,     0.61962,     0.62062,     0.62162,     0.62262,     0.62362,\n",
       "           0.62462,     0.62563,     0.62663,     0.62763,     0.62863,     0.62963,     0.63063,     0.63163,     0.63263,     0.63363,     0.63463,     0.63564,     0.63664,     0.63764,     0.63864,     0.63964,     0.64064,     0.64164,     0.64264,     0.64364,     0.64464,     0.64565,     0.64665,     0.64765,\n",
       "           0.64865,     0.64965,     0.65065,     0.65165,     0.65265,     0.65365,     0.65465,     0.65566,     0.65666,     0.65766,     0.65866,     0.65966,     0.66066,     0.66166,     0.66266,     0.66366,     0.66466,     0.66567,     0.66667,     0.66767,     0.66867,     0.66967,     0.67067,     0.67167,\n",
       "           0.67267,     0.67367,     0.67467,     0.67568,     0.67668,     0.67768,     0.67868,     0.67968,     0.68068,     0.68168,     0.68268,     0.68368,     0.68468,     0.68569,     0.68669,     0.68769,     0.68869,     0.68969,     0.69069,     0.69169,     0.69269,     0.69369,     0.69469,      0.6957,\n",
       "            0.6967,      0.6977,      0.6987,      0.6997,      0.7007,      0.7017,      0.7027,      0.7037,      0.7047,     0.70571,     0.70671,     0.70771,     0.70871,     0.70971,     0.71071,     0.71171,     0.71271,     0.71371,     0.71471,     0.71572,     0.71672,     0.71772,     0.71872,     0.71972,\n",
       "           0.72072,     0.72172,     0.72272,     0.72372,     0.72472,     0.72573,     0.72673,     0.72773,     0.72873,     0.72973,     0.73073,     0.73173,     0.73273,     0.73373,     0.73473,     0.73574,     0.73674,     0.73774,     0.73874,     0.73974,     0.74074,     0.74174,     0.74274,     0.74374,\n",
       "           0.74474,     0.74575,     0.74675,     0.74775,     0.74875,     0.74975,     0.75075,     0.75175,     0.75275,     0.75375,     0.75475,     0.75576,     0.75676,     0.75776,     0.75876,     0.75976,     0.76076,     0.76176,     0.76276,     0.76376,     0.76476,     0.76577,     0.76677,     0.76777,\n",
       "           0.76877,     0.76977,     0.77077,     0.77177,     0.77277,     0.77377,     0.77477,     0.77578,     0.77678,     0.77778,     0.77878,     0.77978,     0.78078,     0.78178,     0.78278,     0.78378,     0.78478,     0.78579,     0.78679,     0.78779,     0.78879,     0.78979,     0.79079,     0.79179,\n",
       "           0.79279,     0.79379,     0.79479,      0.7958,      0.7968,      0.7978,      0.7988,      0.7998,      0.8008,      0.8018,      0.8028,      0.8038,      0.8048,     0.80581,     0.80681,     0.80781,     0.80881,     0.80981,     0.81081,     0.81181,     0.81281,     0.81381,     0.81481,     0.81582,\n",
       "           0.81682,     0.81782,     0.81882,     0.81982,     0.82082,     0.82182,     0.82282,     0.82382,     0.82482,     0.82583,     0.82683,     0.82783,     0.82883,     0.82983,     0.83083,     0.83183,     0.83283,     0.83383,     0.83483,     0.83584,     0.83684,     0.83784,     0.83884,     0.83984,\n",
       "           0.84084,     0.84184,     0.84284,     0.84384,     0.84484,     0.84585,     0.84685,     0.84785,     0.84885,     0.84985,     0.85085,     0.85185,     0.85285,     0.85385,     0.85485,     0.85586,     0.85686,     0.85786,     0.85886,     0.85986,     0.86086,     0.86186,     0.86286,     0.86386,\n",
       "           0.86486,     0.86587,     0.86687,     0.86787,     0.86887,     0.86987,     0.87087,     0.87187,     0.87287,     0.87387,     0.87487,     0.87588,     0.87688,     0.87788,     0.87888,     0.87988,     0.88088,     0.88188,     0.88288,     0.88388,     0.88488,     0.88589,     0.88689,     0.88789,\n",
       "           0.88889,     0.88989,     0.89089,     0.89189,     0.89289,     0.89389,     0.89489,      0.8959,      0.8969,      0.8979,      0.8989,      0.8999,      0.9009,      0.9019,      0.9029,      0.9039,      0.9049,     0.90591,     0.90691,     0.90791,     0.90891,     0.90991,     0.91091,     0.91191,\n",
       "           0.91291,     0.91391,     0.91491,     0.91592,     0.91692,     0.91792,     0.91892,     0.91992,     0.92092,     0.92192,     0.92292,     0.92392,     0.92492,     0.92593,     0.92693,     0.92793,     0.92893,     0.92993,     0.93093,     0.93193,     0.93293,     0.93393,     0.93493,     0.93594,\n",
       "           0.93694,     0.93794,     0.93894,     0.93994,     0.94094,     0.94194,     0.94294,     0.94394,     0.94494,     0.94595,     0.94695,     0.94795,     0.94895,     0.94995,     0.95095,     0.95195,     0.95295,     0.95395,     0.95495,     0.95596,     0.95696,     0.95796,     0.95896,     0.95996,\n",
       "           0.96096,     0.96196,     0.96296,     0.96396,     0.96496,     0.96597,     0.96697,     0.96797,     0.96897,     0.96997,     0.97097,     0.97197,     0.97297,     0.97397,     0.97497,     0.97598,     0.97698,     0.97798,     0.97898,     0.97998,     0.98098,     0.98198,     0.98298,     0.98398,\n",
       "           0.98498,     0.98599,     0.98699,     0.98799,     0.98899,     0.98999,     0.99099,     0.99199,     0.99299,     0.99399,     0.99499,       0.996,       0.997,       0.998,       0.999,           1]), array([[          1,           1,           1, ...,           1,           1,           0],\n",
       "       [          1,           1,           1, ...,           1,           1,           0],\n",
       "       [          1,           1,           1, ...,           1,           1,           0],\n",
       "       ...,\n",
       "       [          1,           1,           1, ...,           1,           1,           0],\n",
       "       [          1,           1,           1, ...,           1,           1,           0],\n",
       "       [          1,           1,           1, ...,           1,           1,           0]]), 'Recall', 'Precision'], [array([          0,    0.001001,    0.002002,    0.003003,    0.004004,    0.005005,    0.006006,    0.007007,    0.008008,    0.009009,     0.01001,    0.011011,    0.012012,    0.013013,    0.014014,    0.015015,    0.016016,    0.017017,    0.018018,    0.019019,     0.02002,    0.021021,    0.022022,    0.023023,\n",
       "          0.024024,    0.025025,    0.026026,    0.027027,    0.028028,    0.029029,     0.03003,    0.031031,    0.032032,    0.033033,    0.034034,    0.035035,    0.036036,    0.037037,    0.038038,    0.039039,     0.04004,    0.041041,    0.042042,    0.043043,    0.044044,    0.045045,    0.046046,    0.047047,\n",
       "          0.048048,    0.049049,     0.05005,    0.051051,    0.052052,    0.053053,    0.054054,    0.055055,    0.056056,    0.057057,    0.058058,    0.059059,     0.06006,    0.061061,    0.062062,    0.063063,    0.064064,    0.065065,    0.066066,    0.067067,    0.068068,    0.069069,     0.07007,    0.071071,\n",
       "          0.072072,    0.073073,    0.074074,    0.075075,    0.076076,    0.077077,    0.078078,    0.079079,     0.08008,    0.081081,    0.082082,    0.083083,    0.084084,    0.085085,    0.086086,    0.087087,    0.088088,    0.089089,     0.09009,    0.091091,    0.092092,    0.093093,    0.094094,    0.095095,\n",
       "          0.096096,    0.097097,    0.098098,    0.099099,      0.1001,      0.1011,      0.1021,      0.1031,      0.1041,     0.10511,     0.10611,     0.10711,     0.10811,     0.10911,     0.11011,     0.11111,     0.11211,     0.11311,     0.11411,     0.11512,     0.11612,     0.11712,     0.11812,     0.11912,\n",
       "           0.12012,     0.12112,     0.12212,     0.12312,     0.12412,     0.12513,     0.12613,     0.12713,     0.12813,     0.12913,     0.13013,     0.13113,     0.13213,     0.13313,     0.13413,     0.13514,     0.13614,     0.13714,     0.13814,     0.13914,     0.14014,     0.14114,     0.14214,     0.14314,\n",
       "           0.14414,     0.14515,     0.14615,     0.14715,     0.14815,     0.14915,     0.15015,     0.15115,     0.15215,     0.15315,     0.15415,     0.15516,     0.15616,     0.15716,     0.15816,     0.15916,     0.16016,     0.16116,     0.16216,     0.16316,     0.16416,     0.16517,     0.16617,     0.16717,\n",
       "           0.16817,     0.16917,     0.17017,     0.17117,     0.17217,     0.17317,     0.17417,     0.17518,     0.17618,     0.17718,     0.17818,     0.17918,     0.18018,     0.18118,     0.18218,     0.18318,     0.18418,     0.18519,     0.18619,     0.18719,     0.18819,     0.18919,     0.19019,     0.19119,\n",
       "           0.19219,     0.19319,     0.19419,      0.1952,      0.1962,      0.1972,      0.1982,      0.1992,      0.2002,      0.2012,      0.2022,      0.2032,      0.2042,     0.20521,     0.20621,     0.20721,     0.20821,     0.20921,     0.21021,     0.21121,     0.21221,     0.21321,     0.21421,     0.21522,\n",
       "           0.21622,     0.21722,     0.21822,     0.21922,     0.22022,     0.22122,     0.22222,     0.22322,     0.22422,     0.22523,     0.22623,     0.22723,     0.22823,     0.22923,     0.23023,     0.23123,     0.23223,     0.23323,     0.23423,     0.23524,     0.23624,     0.23724,     0.23824,     0.23924,\n",
       "           0.24024,     0.24124,     0.24224,     0.24324,     0.24424,     0.24525,     0.24625,     0.24725,     0.24825,     0.24925,     0.25025,     0.25125,     0.25225,     0.25325,     0.25425,     0.25526,     0.25626,     0.25726,     0.25826,     0.25926,     0.26026,     0.26126,     0.26226,     0.26326,\n",
       "           0.26426,     0.26527,     0.26627,     0.26727,     0.26827,     0.26927,     0.27027,     0.27127,     0.27227,     0.27327,     0.27427,     0.27528,     0.27628,     0.27728,     0.27828,     0.27928,     0.28028,     0.28128,     0.28228,     0.28328,     0.28428,     0.28529,     0.28629,     0.28729,\n",
       "           0.28829,     0.28929,     0.29029,     0.29129,     0.29229,     0.29329,     0.29429,      0.2953,      0.2963,      0.2973,      0.2983,      0.2993,      0.3003,      0.3013,      0.3023,      0.3033,      0.3043,     0.30531,     0.30631,     0.30731,     0.30831,     0.30931,     0.31031,     0.31131,\n",
       "           0.31231,     0.31331,     0.31431,     0.31532,     0.31632,     0.31732,     0.31832,     0.31932,     0.32032,     0.32132,     0.32232,     0.32332,     0.32432,     0.32533,     0.32633,     0.32733,     0.32833,     0.32933,     0.33033,     0.33133,     0.33233,     0.33333,     0.33433,     0.33534,\n",
       "           0.33634,     0.33734,     0.33834,     0.33934,     0.34034,     0.34134,     0.34234,     0.34334,     0.34434,     0.34535,     0.34635,     0.34735,     0.34835,     0.34935,     0.35035,     0.35135,     0.35235,     0.35335,     0.35435,     0.35536,     0.35636,     0.35736,     0.35836,     0.35936,\n",
       "           0.36036,     0.36136,     0.36236,     0.36336,     0.36436,     0.36537,     0.36637,     0.36737,     0.36837,     0.36937,     0.37037,     0.37137,     0.37237,     0.37337,     0.37437,     0.37538,     0.37638,     0.37738,     0.37838,     0.37938,     0.38038,     0.38138,     0.38238,     0.38338,\n",
       "           0.38438,     0.38539,     0.38639,     0.38739,     0.38839,     0.38939,     0.39039,     0.39139,     0.39239,     0.39339,     0.39439,      0.3954,      0.3964,      0.3974,      0.3984,      0.3994,      0.4004,      0.4014,      0.4024,      0.4034,      0.4044,     0.40541,     0.40641,     0.40741,\n",
       "           0.40841,     0.40941,     0.41041,     0.41141,     0.41241,     0.41341,     0.41441,     0.41542,     0.41642,     0.41742,     0.41842,     0.41942,     0.42042,     0.42142,     0.42242,     0.42342,     0.42442,     0.42543,     0.42643,     0.42743,     0.42843,     0.42943,     0.43043,     0.43143,\n",
       "           0.43243,     0.43343,     0.43443,     0.43544,     0.43644,     0.43744,     0.43844,     0.43944,     0.44044,     0.44144,     0.44244,     0.44344,     0.44444,     0.44545,     0.44645,     0.44745,     0.44845,     0.44945,     0.45045,     0.45145,     0.45245,     0.45345,     0.45445,     0.45546,\n",
       "           0.45646,     0.45746,     0.45846,     0.45946,     0.46046,     0.46146,     0.46246,     0.46346,     0.46446,     0.46547,     0.46647,     0.46747,     0.46847,     0.46947,     0.47047,     0.47147,     0.47247,     0.47347,     0.47447,     0.47548,     0.47648,     0.47748,     0.47848,     0.47948,\n",
       "           0.48048,     0.48148,     0.48248,     0.48348,     0.48448,     0.48549,     0.48649,     0.48749,     0.48849,     0.48949,     0.49049,     0.49149,     0.49249,     0.49349,     0.49449,      0.4955,      0.4965,      0.4975,      0.4985,      0.4995,      0.5005,      0.5015,      0.5025,      0.5035,\n",
       "            0.5045,     0.50551,     0.50651,     0.50751,     0.50851,     0.50951,     0.51051,     0.51151,     0.51251,     0.51351,     0.51451,     0.51552,     0.51652,     0.51752,     0.51852,     0.51952,     0.52052,     0.52152,     0.52252,     0.52352,     0.52452,     0.52553,     0.52653,     0.52753,\n",
       "           0.52853,     0.52953,     0.53053,     0.53153,     0.53253,     0.53353,     0.53453,     0.53554,     0.53654,     0.53754,     0.53854,     0.53954,     0.54054,     0.54154,     0.54254,     0.54354,     0.54454,     0.54555,     0.54655,     0.54755,     0.54855,     0.54955,     0.55055,     0.55155,\n",
       "           0.55255,     0.55355,     0.55455,     0.55556,     0.55656,     0.55756,     0.55856,     0.55956,     0.56056,     0.56156,     0.56256,     0.56356,     0.56456,     0.56557,     0.56657,     0.56757,     0.56857,     0.56957,     0.57057,     0.57157,     0.57257,     0.57357,     0.57457,     0.57558,\n",
       "           0.57658,     0.57758,     0.57858,     0.57958,     0.58058,     0.58158,     0.58258,     0.58358,     0.58458,     0.58559,     0.58659,     0.58759,     0.58859,     0.58959,     0.59059,     0.59159,     0.59259,     0.59359,     0.59459,      0.5956,      0.5966,      0.5976,      0.5986,      0.5996,\n",
       "            0.6006,      0.6016,      0.6026,      0.6036,      0.6046,     0.60561,     0.60661,     0.60761,     0.60861,     0.60961,     0.61061,     0.61161,     0.61261,     0.61361,     0.61461,     0.61562,     0.61662,     0.61762,     0.61862,     0.61962,     0.62062,     0.62162,     0.62262,     0.62362,\n",
       "           0.62462,     0.62563,     0.62663,     0.62763,     0.62863,     0.62963,     0.63063,     0.63163,     0.63263,     0.63363,     0.63463,     0.63564,     0.63664,     0.63764,     0.63864,     0.63964,     0.64064,     0.64164,     0.64264,     0.64364,     0.64464,     0.64565,     0.64665,     0.64765,\n",
       "           0.64865,     0.64965,     0.65065,     0.65165,     0.65265,     0.65365,     0.65465,     0.65566,     0.65666,     0.65766,     0.65866,     0.65966,     0.66066,     0.66166,     0.66266,     0.66366,     0.66466,     0.66567,     0.66667,     0.66767,     0.66867,     0.66967,     0.67067,     0.67167,\n",
       "           0.67267,     0.67367,     0.67467,     0.67568,     0.67668,     0.67768,     0.67868,     0.67968,     0.68068,     0.68168,     0.68268,     0.68368,     0.68468,     0.68569,     0.68669,     0.68769,     0.68869,     0.68969,     0.69069,     0.69169,     0.69269,     0.69369,     0.69469,      0.6957,\n",
       "            0.6967,      0.6977,      0.6987,      0.6997,      0.7007,      0.7017,      0.7027,      0.7037,      0.7047,     0.70571,     0.70671,     0.70771,     0.70871,     0.70971,     0.71071,     0.71171,     0.71271,     0.71371,     0.71471,     0.71572,     0.71672,     0.71772,     0.71872,     0.71972,\n",
       "           0.72072,     0.72172,     0.72272,     0.72372,     0.72472,     0.72573,     0.72673,     0.72773,     0.72873,     0.72973,     0.73073,     0.73173,     0.73273,     0.73373,     0.73473,     0.73574,     0.73674,     0.73774,     0.73874,     0.73974,     0.74074,     0.74174,     0.74274,     0.74374,\n",
       "           0.74474,     0.74575,     0.74675,     0.74775,     0.74875,     0.74975,     0.75075,     0.75175,     0.75275,     0.75375,     0.75475,     0.75576,     0.75676,     0.75776,     0.75876,     0.75976,     0.76076,     0.76176,     0.76276,     0.76376,     0.76476,     0.76577,     0.76677,     0.76777,\n",
       "           0.76877,     0.76977,     0.77077,     0.77177,     0.77277,     0.77377,     0.77477,     0.77578,     0.77678,     0.77778,     0.77878,     0.77978,     0.78078,     0.78178,     0.78278,     0.78378,     0.78478,     0.78579,     0.78679,     0.78779,     0.78879,     0.78979,     0.79079,     0.79179,\n",
       "           0.79279,     0.79379,     0.79479,      0.7958,      0.7968,      0.7978,      0.7988,      0.7998,      0.8008,      0.8018,      0.8028,      0.8038,      0.8048,     0.80581,     0.80681,     0.80781,     0.80881,     0.80981,     0.81081,     0.81181,     0.81281,     0.81381,     0.81481,     0.81582,\n",
       "           0.81682,     0.81782,     0.81882,     0.81982,     0.82082,     0.82182,     0.82282,     0.82382,     0.82482,     0.82583,     0.82683,     0.82783,     0.82883,     0.82983,     0.83083,     0.83183,     0.83283,     0.83383,     0.83483,     0.83584,     0.83684,     0.83784,     0.83884,     0.83984,\n",
       "           0.84084,     0.84184,     0.84284,     0.84384,     0.84484,     0.84585,     0.84685,     0.84785,     0.84885,     0.84985,     0.85085,     0.85185,     0.85285,     0.85385,     0.85485,     0.85586,     0.85686,     0.85786,     0.85886,     0.85986,     0.86086,     0.86186,     0.86286,     0.86386,\n",
       "           0.86486,     0.86587,     0.86687,     0.86787,     0.86887,     0.86987,     0.87087,     0.87187,     0.87287,     0.87387,     0.87487,     0.87588,     0.87688,     0.87788,     0.87888,     0.87988,     0.88088,     0.88188,     0.88288,     0.88388,     0.88488,     0.88589,     0.88689,     0.88789,\n",
       "           0.88889,     0.88989,     0.89089,     0.89189,     0.89289,     0.89389,     0.89489,      0.8959,      0.8969,      0.8979,      0.8989,      0.8999,      0.9009,      0.9019,      0.9029,      0.9039,      0.9049,     0.90591,     0.90691,     0.90791,     0.90891,     0.90991,     0.91091,     0.91191,\n",
       "           0.91291,     0.91391,     0.91491,     0.91592,     0.91692,     0.91792,     0.91892,     0.91992,     0.92092,     0.92192,     0.92292,     0.92392,     0.92492,     0.92593,     0.92693,     0.92793,     0.92893,     0.92993,     0.93093,     0.93193,     0.93293,     0.93393,     0.93493,     0.93594,\n",
       "           0.93694,     0.93794,     0.93894,     0.93994,     0.94094,     0.94194,     0.94294,     0.94394,     0.94494,     0.94595,     0.94695,     0.94795,     0.94895,     0.94995,     0.95095,     0.95195,     0.95295,     0.95395,     0.95495,     0.95596,     0.95696,     0.95796,     0.95896,     0.95996,\n",
       "           0.96096,     0.96196,     0.96296,     0.96396,     0.96496,     0.96597,     0.96697,     0.96797,     0.96897,     0.96997,     0.97097,     0.97197,     0.97297,     0.97397,     0.97497,     0.97598,     0.97698,     0.97798,     0.97898,     0.97998,     0.98098,     0.98198,     0.98298,     0.98398,\n",
       "           0.98498,     0.98599,     0.98699,     0.98799,     0.98899,     0.98999,     0.99099,     0.99199,     0.99299,     0.99399,     0.99499,       0.996,       0.997,       0.998,       0.999,           1]), array([[    0.97113,     0.97113,     0.99251, ...,    0.014613,           0,           0],\n",
       "       [    0.81918,     0.81925,     0.92308, ...,     0.22614,    0.087536,           0],\n",
       "       [    0.83333,     0.83333,     0.95114, ...,           0,           0,           0],\n",
       "       ...,\n",
       "       [    0.99243,     0.99246,     0.99828, ...,   0.0024897,           0,           0],\n",
       "       [    0.18182,     0.18182,     0.52157, ...,     0.99131,           0,           0],\n",
       "       [    0.71329,     0.71329,     0.92516, ...,    0.048824,    0.021363,           0]]), 'Confidence', 'F1'], [array([          0,    0.001001,    0.002002,    0.003003,    0.004004,    0.005005,    0.006006,    0.007007,    0.008008,    0.009009,     0.01001,    0.011011,    0.012012,    0.013013,    0.014014,    0.015015,    0.016016,    0.017017,    0.018018,    0.019019,     0.02002,    0.021021,    0.022022,    0.023023,\n",
       "          0.024024,    0.025025,    0.026026,    0.027027,    0.028028,    0.029029,     0.03003,    0.031031,    0.032032,    0.033033,    0.034034,    0.035035,    0.036036,    0.037037,    0.038038,    0.039039,     0.04004,    0.041041,    0.042042,    0.043043,    0.044044,    0.045045,    0.046046,    0.047047,\n",
       "          0.048048,    0.049049,     0.05005,    0.051051,    0.052052,    0.053053,    0.054054,    0.055055,    0.056056,    0.057057,    0.058058,    0.059059,     0.06006,    0.061061,    0.062062,    0.063063,    0.064064,    0.065065,    0.066066,    0.067067,    0.068068,    0.069069,     0.07007,    0.071071,\n",
       "          0.072072,    0.073073,    0.074074,    0.075075,    0.076076,    0.077077,    0.078078,    0.079079,     0.08008,    0.081081,    0.082082,    0.083083,    0.084084,    0.085085,    0.086086,    0.087087,    0.088088,    0.089089,     0.09009,    0.091091,    0.092092,    0.093093,    0.094094,    0.095095,\n",
       "          0.096096,    0.097097,    0.098098,    0.099099,      0.1001,      0.1011,      0.1021,      0.1031,      0.1041,     0.10511,     0.10611,     0.10711,     0.10811,     0.10911,     0.11011,     0.11111,     0.11211,     0.11311,     0.11411,     0.11512,     0.11612,     0.11712,     0.11812,     0.11912,\n",
       "           0.12012,     0.12112,     0.12212,     0.12312,     0.12412,     0.12513,     0.12613,     0.12713,     0.12813,     0.12913,     0.13013,     0.13113,     0.13213,     0.13313,     0.13413,     0.13514,     0.13614,     0.13714,     0.13814,     0.13914,     0.14014,     0.14114,     0.14214,     0.14314,\n",
       "           0.14414,     0.14515,     0.14615,     0.14715,     0.14815,     0.14915,     0.15015,     0.15115,     0.15215,     0.15315,     0.15415,     0.15516,     0.15616,     0.15716,     0.15816,     0.15916,     0.16016,     0.16116,     0.16216,     0.16316,     0.16416,     0.16517,     0.16617,     0.16717,\n",
       "           0.16817,     0.16917,     0.17017,     0.17117,     0.17217,     0.17317,     0.17417,     0.17518,     0.17618,     0.17718,     0.17818,     0.17918,     0.18018,     0.18118,     0.18218,     0.18318,     0.18418,     0.18519,     0.18619,     0.18719,     0.18819,     0.18919,     0.19019,     0.19119,\n",
       "           0.19219,     0.19319,     0.19419,      0.1952,      0.1962,      0.1972,      0.1982,      0.1992,      0.2002,      0.2012,      0.2022,      0.2032,      0.2042,     0.20521,     0.20621,     0.20721,     0.20821,     0.20921,     0.21021,     0.21121,     0.21221,     0.21321,     0.21421,     0.21522,\n",
       "           0.21622,     0.21722,     0.21822,     0.21922,     0.22022,     0.22122,     0.22222,     0.22322,     0.22422,     0.22523,     0.22623,     0.22723,     0.22823,     0.22923,     0.23023,     0.23123,     0.23223,     0.23323,     0.23423,     0.23524,     0.23624,     0.23724,     0.23824,     0.23924,\n",
       "           0.24024,     0.24124,     0.24224,     0.24324,     0.24424,     0.24525,     0.24625,     0.24725,     0.24825,     0.24925,     0.25025,     0.25125,     0.25225,     0.25325,     0.25425,     0.25526,     0.25626,     0.25726,     0.25826,     0.25926,     0.26026,     0.26126,     0.26226,     0.26326,\n",
       "           0.26426,     0.26527,     0.26627,     0.26727,     0.26827,     0.26927,     0.27027,     0.27127,     0.27227,     0.27327,     0.27427,     0.27528,     0.27628,     0.27728,     0.27828,     0.27928,     0.28028,     0.28128,     0.28228,     0.28328,     0.28428,     0.28529,     0.28629,     0.28729,\n",
       "           0.28829,     0.28929,     0.29029,     0.29129,     0.29229,     0.29329,     0.29429,      0.2953,      0.2963,      0.2973,      0.2983,      0.2993,      0.3003,      0.3013,      0.3023,      0.3033,      0.3043,     0.30531,     0.30631,     0.30731,     0.30831,     0.30931,     0.31031,     0.31131,\n",
       "           0.31231,     0.31331,     0.31431,     0.31532,     0.31632,     0.31732,     0.31832,     0.31932,     0.32032,     0.32132,     0.32232,     0.32332,     0.32432,     0.32533,     0.32633,     0.32733,     0.32833,     0.32933,     0.33033,     0.33133,     0.33233,     0.33333,     0.33433,     0.33534,\n",
       "           0.33634,     0.33734,     0.33834,     0.33934,     0.34034,     0.34134,     0.34234,     0.34334,     0.34434,     0.34535,     0.34635,     0.34735,     0.34835,     0.34935,     0.35035,     0.35135,     0.35235,     0.35335,     0.35435,     0.35536,     0.35636,     0.35736,     0.35836,     0.35936,\n",
       "           0.36036,     0.36136,     0.36236,     0.36336,     0.36436,     0.36537,     0.36637,     0.36737,     0.36837,     0.36937,     0.37037,     0.37137,     0.37237,     0.37337,     0.37437,     0.37538,     0.37638,     0.37738,     0.37838,     0.37938,     0.38038,     0.38138,     0.38238,     0.38338,\n",
       "           0.38438,     0.38539,     0.38639,     0.38739,     0.38839,     0.38939,     0.39039,     0.39139,     0.39239,     0.39339,     0.39439,      0.3954,      0.3964,      0.3974,      0.3984,      0.3994,      0.4004,      0.4014,      0.4024,      0.4034,      0.4044,     0.40541,     0.40641,     0.40741,\n",
       "           0.40841,     0.40941,     0.41041,     0.41141,     0.41241,     0.41341,     0.41441,     0.41542,     0.41642,     0.41742,     0.41842,     0.41942,     0.42042,     0.42142,     0.42242,     0.42342,     0.42442,     0.42543,     0.42643,     0.42743,     0.42843,     0.42943,     0.43043,     0.43143,\n",
       "           0.43243,     0.43343,     0.43443,     0.43544,     0.43644,     0.43744,     0.43844,     0.43944,     0.44044,     0.44144,     0.44244,     0.44344,     0.44444,     0.44545,     0.44645,     0.44745,     0.44845,     0.44945,     0.45045,     0.45145,     0.45245,     0.45345,     0.45445,     0.45546,\n",
       "           0.45646,     0.45746,     0.45846,     0.45946,     0.46046,     0.46146,     0.46246,     0.46346,     0.46446,     0.46547,     0.46647,     0.46747,     0.46847,     0.46947,     0.47047,     0.47147,     0.47247,     0.47347,     0.47447,     0.47548,     0.47648,     0.47748,     0.47848,     0.47948,\n",
       "           0.48048,     0.48148,     0.48248,     0.48348,     0.48448,     0.48549,     0.48649,     0.48749,     0.48849,     0.48949,     0.49049,     0.49149,     0.49249,     0.49349,     0.49449,      0.4955,      0.4965,      0.4975,      0.4985,      0.4995,      0.5005,      0.5015,      0.5025,      0.5035,\n",
       "            0.5045,     0.50551,     0.50651,     0.50751,     0.50851,     0.50951,     0.51051,     0.51151,     0.51251,     0.51351,     0.51451,     0.51552,     0.51652,     0.51752,     0.51852,     0.51952,     0.52052,     0.52152,     0.52252,     0.52352,     0.52452,     0.52553,     0.52653,     0.52753,\n",
       "           0.52853,     0.52953,     0.53053,     0.53153,     0.53253,     0.53353,     0.53453,     0.53554,     0.53654,     0.53754,     0.53854,     0.53954,     0.54054,     0.54154,     0.54254,     0.54354,     0.54454,     0.54555,     0.54655,     0.54755,     0.54855,     0.54955,     0.55055,     0.55155,\n",
       "           0.55255,     0.55355,     0.55455,     0.55556,     0.55656,     0.55756,     0.55856,     0.55956,     0.56056,     0.56156,     0.56256,     0.56356,     0.56456,     0.56557,     0.56657,     0.56757,     0.56857,     0.56957,     0.57057,     0.57157,     0.57257,     0.57357,     0.57457,     0.57558,\n",
       "           0.57658,     0.57758,     0.57858,     0.57958,     0.58058,     0.58158,     0.58258,     0.58358,     0.58458,     0.58559,     0.58659,     0.58759,     0.58859,     0.58959,     0.59059,     0.59159,     0.59259,     0.59359,     0.59459,      0.5956,      0.5966,      0.5976,      0.5986,      0.5996,\n",
       "            0.6006,      0.6016,      0.6026,      0.6036,      0.6046,     0.60561,     0.60661,     0.60761,     0.60861,     0.60961,     0.61061,     0.61161,     0.61261,     0.61361,     0.61461,     0.61562,     0.61662,     0.61762,     0.61862,     0.61962,     0.62062,     0.62162,     0.62262,     0.62362,\n",
       "           0.62462,     0.62563,     0.62663,     0.62763,     0.62863,     0.62963,     0.63063,     0.63163,     0.63263,     0.63363,     0.63463,     0.63564,     0.63664,     0.63764,     0.63864,     0.63964,     0.64064,     0.64164,     0.64264,     0.64364,     0.64464,     0.64565,     0.64665,     0.64765,\n",
       "           0.64865,     0.64965,     0.65065,     0.65165,     0.65265,     0.65365,     0.65465,     0.65566,     0.65666,     0.65766,     0.65866,     0.65966,     0.66066,     0.66166,     0.66266,     0.66366,     0.66466,     0.66567,     0.66667,     0.66767,     0.66867,     0.66967,     0.67067,     0.67167,\n",
       "           0.67267,     0.67367,     0.67467,     0.67568,     0.67668,     0.67768,     0.67868,     0.67968,     0.68068,     0.68168,     0.68268,     0.68368,     0.68468,     0.68569,     0.68669,     0.68769,     0.68869,     0.68969,     0.69069,     0.69169,     0.69269,     0.69369,     0.69469,      0.6957,\n",
       "            0.6967,      0.6977,      0.6987,      0.6997,      0.7007,      0.7017,      0.7027,      0.7037,      0.7047,     0.70571,     0.70671,     0.70771,     0.70871,     0.70971,     0.71071,     0.71171,     0.71271,     0.71371,     0.71471,     0.71572,     0.71672,     0.71772,     0.71872,     0.71972,\n",
       "           0.72072,     0.72172,     0.72272,     0.72372,     0.72472,     0.72573,     0.72673,     0.72773,     0.72873,     0.72973,     0.73073,     0.73173,     0.73273,     0.73373,     0.73473,     0.73574,     0.73674,     0.73774,     0.73874,     0.73974,     0.74074,     0.74174,     0.74274,     0.74374,\n",
       "           0.74474,     0.74575,     0.74675,     0.74775,     0.74875,     0.74975,     0.75075,     0.75175,     0.75275,     0.75375,     0.75475,     0.75576,     0.75676,     0.75776,     0.75876,     0.75976,     0.76076,     0.76176,     0.76276,     0.76376,     0.76476,     0.76577,     0.76677,     0.76777,\n",
       "           0.76877,     0.76977,     0.77077,     0.77177,     0.77277,     0.77377,     0.77477,     0.77578,     0.77678,     0.77778,     0.77878,     0.77978,     0.78078,     0.78178,     0.78278,     0.78378,     0.78478,     0.78579,     0.78679,     0.78779,     0.78879,     0.78979,     0.79079,     0.79179,\n",
       "           0.79279,     0.79379,     0.79479,      0.7958,      0.7968,      0.7978,      0.7988,      0.7998,      0.8008,      0.8018,      0.8028,      0.8038,      0.8048,     0.80581,     0.80681,     0.80781,     0.80881,     0.80981,     0.81081,     0.81181,     0.81281,     0.81381,     0.81481,     0.81582,\n",
       "           0.81682,     0.81782,     0.81882,     0.81982,     0.82082,     0.82182,     0.82282,     0.82382,     0.82482,     0.82583,     0.82683,     0.82783,     0.82883,     0.82983,     0.83083,     0.83183,     0.83283,     0.83383,     0.83483,     0.83584,     0.83684,     0.83784,     0.83884,     0.83984,\n",
       "           0.84084,     0.84184,     0.84284,     0.84384,     0.84484,     0.84585,     0.84685,     0.84785,     0.84885,     0.84985,     0.85085,     0.85185,     0.85285,     0.85385,     0.85485,     0.85586,     0.85686,     0.85786,     0.85886,     0.85986,     0.86086,     0.86186,     0.86286,     0.86386,\n",
       "           0.86486,     0.86587,     0.86687,     0.86787,     0.86887,     0.86987,     0.87087,     0.87187,     0.87287,     0.87387,     0.87487,     0.87588,     0.87688,     0.87788,     0.87888,     0.87988,     0.88088,     0.88188,     0.88288,     0.88388,     0.88488,     0.88589,     0.88689,     0.88789,\n",
       "           0.88889,     0.88989,     0.89089,     0.89189,     0.89289,     0.89389,     0.89489,      0.8959,      0.8969,      0.8979,      0.8989,      0.8999,      0.9009,      0.9019,      0.9029,      0.9039,      0.9049,     0.90591,     0.90691,     0.90791,     0.90891,     0.90991,     0.91091,     0.91191,\n",
       "           0.91291,     0.91391,     0.91491,     0.91592,     0.91692,     0.91792,     0.91892,     0.91992,     0.92092,     0.92192,     0.92292,     0.92392,     0.92492,     0.92593,     0.92693,     0.92793,     0.92893,     0.92993,     0.93093,     0.93193,     0.93293,     0.93393,     0.93493,     0.93594,\n",
       "           0.93694,     0.93794,     0.93894,     0.93994,     0.94094,     0.94194,     0.94294,     0.94394,     0.94494,     0.94595,     0.94695,     0.94795,     0.94895,     0.94995,     0.95095,     0.95195,     0.95295,     0.95395,     0.95495,     0.95596,     0.95696,     0.95796,     0.95896,     0.95996,\n",
       "           0.96096,     0.96196,     0.96296,     0.96396,     0.96496,     0.96597,     0.96697,     0.96797,     0.96897,     0.96997,     0.97097,     0.97197,     0.97297,     0.97397,     0.97497,     0.97598,     0.97698,     0.97798,     0.97898,     0.97998,     0.98098,     0.98198,     0.98298,     0.98398,\n",
       "           0.98498,     0.98599,     0.98699,     0.98799,     0.98899,     0.98999,     0.99099,     0.99199,     0.99299,     0.99399,     0.99499,       0.996,       0.997,       0.998,       0.999,           1]), array([[    0.94387,     0.94387,     0.98513, ...,           1,           1,           1],\n",
       "       [    0.69374,     0.69383,     0.85714, ...,           1,           1,           1],\n",
       "       [    0.71429,     0.71429,     0.90684, ...,           1,           1,           1],\n",
       "       ...,\n",
       "       [    0.98498,     0.98503,     0.99657, ...,           1,           1,           1],\n",
       "       [        0.1,         0.1,     0.35279, ...,           1,           1,           1],\n",
       "       [    0.55435,     0.55435,     0.86074, ...,           1,           1,           1]]), 'Confidence', 'Precision'], [array([          0,    0.001001,    0.002002,    0.003003,    0.004004,    0.005005,    0.006006,    0.007007,    0.008008,    0.009009,     0.01001,    0.011011,    0.012012,    0.013013,    0.014014,    0.015015,    0.016016,    0.017017,    0.018018,    0.019019,     0.02002,    0.021021,    0.022022,    0.023023,\n",
       "          0.024024,    0.025025,    0.026026,    0.027027,    0.028028,    0.029029,     0.03003,    0.031031,    0.032032,    0.033033,    0.034034,    0.035035,    0.036036,    0.037037,    0.038038,    0.039039,     0.04004,    0.041041,    0.042042,    0.043043,    0.044044,    0.045045,    0.046046,    0.047047,\n",
       "          0.048048,    0.049049,     0.05005,    0.051051,    0.052052,    0.053053,    0.054054,    0.055055,    0.056056,    0.057057,    0.058058,    0.059059,     0.06006,    0.061061,    0.062062,    0.063063,    0.064064,    0.065065,    0.066066,    0.067067,    0.068068,    0.069069,     0.07007,    0.071071,\n",
       "          0.072072,    0.073073,    0.074074,    0.075075,    0.076076,    0.077077,    0.078078,    0.079079,     0.08008,    0.081081,    0.082082,    0.083083,    0.084084,    0.085085,    0.086086,    0.087087,    0.088088,    0.089089,     0.09009,    0.091091,    0.092092,    0.093093,    0.094094,    0.095095,\n",
       "          0.096096,    0.097097,    0.098098,    0.099099,      0.1001,      0.1011,      0.1021,      0.1031,      0.1041,     0.10511,     0.10611,     0.10711,     0.10811,     0.10911,     0.11011,     0.11111,     0.11211,     0.11311,     0.11411,     0.11512,     0.11612,     0.11712,     0.11812,     0.11912,\n",
       "           0.12012,     0.12112,     0.12212,     0.12312,     0.12412,     0.12513,     0.12613,     0.12713,     0.12813,     0.12913,     0.13013,     0.13113,     0.13213,     0.13313,     0.13413,     0.13514,     0.13614,     0.13714,     0.13814,     0.13914,     0.14014,     0.14114,     0.14214,     0.14314,\n",
       "           0.14414,     0.14515,     0.14615,     0.14715,     0.14815,     0.14915,     0.15015,     0.15115,     0.15215,     0.15315,     0.15415,     0.15516,     0.15616,     0.15716,     0.15816,     0.15916,     0.16016,     0.16116,     0.16216,     0.16316,     0.16416,     0.16517,     0.16617,     0.16717,\n",
       "           0.16817,     0.16917,     0.17017,     0.17117,     0.17217,     0.17317,     0.17417,     0.17518,     0.17618,     0.17718,     0.17818,     0.17918,     0.18018,     0.18118,     0.18218,     0.18318,     0.18418,     0.18519,     0.18619,     0.18719,     0.18819,     0.18919,     0.19019,     0.19119,\n",
       "           0.19219,     0.19319,     0.19419,      0.1952,      0.1962,      0.1972,      0.1982,      0.1992,      0.2002,      0.2012,      0.2022,      0.2032,      0.2042,     0.20521,     0.20621,     0.20721,     0.20821,     0.20921,     0.21021,     0.21121,     0.21221,     0.21321,     0.21421,     0.21522,\n",
       "           0.21622,     0.21722,     0.21822,     0.21922,     0.22022,     0.22122,     0.22222,     0.22322,     0.22422,     0.22523,     0.22623,     0.22723,     0.22823,     0.22923,     0.23023,     0.23123,     0.23223,     0.23323,     0.23423,     0.23524,     0.23624,     0.23724,     0.23824,     0.23924,\n",
       "           0.24024,     0.24124,     0.24224,     0.24324,     0.24424,     0.24525,     0.24625,     0.24725,     0.24825,     0.24925,     0.25025,     0.25125,     0.25225,     0.25325,     0.25425,     0.25526,     0.25626,     0.25726,     0.25826,     0.25926,     0.26026,     0.26126,     0.26226,     0.26326,\n",
       "           0.26426,     0.26527,     0.26627,     0.26727,     0.26827,     0.26927,     0.27027,     0.27127,     0.27227,     0.27327,     0.27427,     0.27528,     0.27628,     0.27728,     0.27828,     0.27928,     0.28028,     0.28128,     0.28228,     0.28328,     0.28428,     0.28529,     0.28629,     0.28729,\n",
       "           0.28829,     0.28929,     0.29029,     0.29129,     0.29229,     0.29329,     0.29429,      0.2953,      0.2963,      0.2973,      0.2983,      0.2993,      0.3003,      0.3013,      0.3023,      0.3033,      0.3043,     0.30531,     0.30631,     0.30731,     0.30831,     0.30931,     0.31031,     0.31131,\n",
       "           0.31231,     0.31331,     0.31431,     0.31532,     0.31632,     0.31732,     0.31832,     0.31932,     0.32032,     0.32132,     0.32232,     0.32332,     0.32432,     0.32533,     0.32633,     0.32733,     0.32833,     0.32933,     0.33033,     0.33133,     0.33233,     0.33333,     0.33433,     0.33534,\n",
       "           0.33634,     0.33734,     0.33834,     0.33934,     0.34034,     0.34134,     0.34234,     0.34334,     0.34434,     0.34535,     0.34635,     0.34735,     0.34835,     0.34935,     0.35035,     0.35135,     0.35235,     0.35335,     0.35435,     0.35536,     0.35636,     0.35736,     0.35836,     0.35936,\n",
       "           0.36036,     0.36136,     0.36236,     0.36336,     0.36436,     0.36537,     0.36637,     0.36737,     0.36837,     0.36937,     0.37037,     0.37137,     0.37237,     0.37337,     0.37437,     0.37538,     0.37638,     0.37738,     0.37838,     0.37938,     0.38038,     0.38138,     0.38238,     0.38338,\n",
       "           0.38438,     0.38539,     0.38639,     0.38739,     0.38839,     0.38939,     0.39039,     0.39139,     0.39239,     0.39339,     0.39439,      0.3954,      0.3964,      0.3974,      0.3984,      0.3994,      0.4004,      0.4014,      0.4024,      0.4034,      0.4044,     0.40541,     0.40641,     0.40741,\n",
       "           0.40841,     0.40941,     0.41041,     0.41141,     0.41241,     0.41341,     0.41441,     0.41542,     0.41642,     0.41742,     0.41842,     0.41942,     0.42042,     0.42142,     0.42242,     0.42342,     0.42442,     0.42543,     0.42643,     0.42743,     0.42843,     0.42943,     0.43043,     0.43143,\n",
       "           0.43243,     0.43343,     0.43443,     0.43544,     0.43644,     0.43744,     0.43844,     0.43944,     0.44044,     0.44144,     0.44244,     0.44344,     0.44444,     0.44545,     0.44645,     0.44745,     0.44845,     0.44945,     0.45045,     0.45145,     0.45245,     0.45345,     0.45445,     0.45546,\n",
       "           0.45646,     0.45746,     0.45846,     0.45946,     0.46046,     0.46146,     0.46246,     0.46346,     0.46446,     0.46547,     0.46647,     0.46747,     0.46847,     0.46947,     0.47047,     0.47147,     0.47247,     0.47347,     0.47447,     0.47548,     0.47648,     0.47748,     0.47848,     0.47948,\n",
       "           0.48048,     0.48148,     0.48248,     0.48348,     0.48448,     0.48549,     0.48649,     0.48749,     0.48849,     0.48949,     0.49049,     0.49149,     0.49249,     0.49349,     0.49449,      0.4955,      0.4965,      0.4975,      0.4985,      0.4995,      0.5005,      0.5015,      0.5025,      0.5035,\n",
       "            0.5045,     0.50551,     0.50651,     0.50751,     0.50851,     0.50951,     0.51051,     0.51151,     0.51251,     0.51351,     0.51451,     0.51552,     0.51652,     0.51752,     0.51852,     0.51952,     0.52052,     0.52152,     0.52252,     0.52352,     0.52452,     0.52553,     0.52653,     0.52753,\n",
       "           0.52853,     0.52953,     0.53053,     0.53153,     0.53253,     0.53353,     0.53453,     0.53554,     0.53654,     0.53754,     0.53854,     0.53954,     0.54054,     0.54154,     0.54254,     0.54354,     0.54454,     0.54555,     0.54655,     0.54755,     0.54855,     0.54955,     0.55055,     0.55155,\n",
       "           0.55255,     0.55355,     0.55455,     0.55556,     0.55656,     0.55756,     0.55856,     0.55956,     0.56056,     0.56156,     0.56256,     0.56356,     0.56456,     0.56557,     0.56657,     0.56757,     0.56857,     0.56957,     0.57057,     0.57157,     0.57257,     0.57357,     0.57457,     0.57558,\n",
       "           0.57658,     0.57758,     0.57858,     0.57958,     0.58058,     0.58158,     0.58258,     0.58358,     0.58458,     0.58559,     0.58659,     0.58759,     0.58859,     0.58959,     0.59059,     0.59159,     0.59259,     0.59359,     0.59459,      0.5956,      0.5966,      0.5976,      0.5986,      0.5996,\n",
       "            0.6006,      0.6016,      0.6026,      0.6036,      0.6046,     0.60561,     0.60661,     0.60761,     0.60861,     0.60961,     0.61061,     0.61161,     0.61261,     0.61361,     0.61461,     0.61562,     0.61662,     0.61762,     0.61862,     0.61962,     0.62062,     0.62162,     0.62262,     0.62362,\n",
       "           0.62462,     0.62563,     0.62663,     0.62763,     0.62863,     0.62963,     0.63063,     0.63163,     0.63263,     0.63363,     0.63463,     0.63564,     0.63664,     0.63764,     0.63864,     0.63964,     0.64064,     0.64164,     0.64264,     0.64364,     0.64464,     0.64565,     0.64665,     0.64765,\n",
       "           0.64865,     0.64965,     0.65065,     0.65165,     0.65265,     0.65365,     0.65465,     0.65566,     0.65666,     0.65766,     0.65866,     0.65966,     0.66066,     0.66166,     0.66266,     0.66366,     0.66466,     0.66567,     0.66667,     0.66767,     0.66867,     0.66967,     0.67067,     0.67167,\n",
       "           0.67267,     0.67367,     0.67467,     0.67568,     0.67668,     0.67768,     0.67868,     0.67968,     0.68068,     0.68168,     0.68268,     0.68368,     0.68468,     0.68569,     0.68669,     0.68769,     0.68869,     0.68969,     0.69069,     0.69169,     0.69269,     0.69369,     0.69469,      0.6957,\n",
       "            0.6967,      0.6977,      0.6987,      0.6997,      0.7007,      0.7017,      0.7027,      0.7037,      0.7047,     0.70571,     0.70671,     0.70771,     0.70871,     0.70971,     0.71071,     0.71171,     0.71271,     0.71371,     0.71471,     0.71572,     0.71672,     0.71772,     0.71872,     0.71972,\n",
       "           0.72072,     0.72172,     0.72272,     0.72372,     0.72472,     0.72573,     0.72673,     0.72773,     0.72873,     0.72973,     0.73073,     0.73173,     0.73273,     0.73373,     0.73473,     0.73574,     0.73674,     0.73774,     0.73874,     0.73974,     0.74074,     0.74174,     0.74274,     0.74374,\n",
       "           0.74474,     0.74575,     0.74675,     0.74775,     0.74875,     0.74975,     0.75075,     0.75175,     0.75275,     0.75375,     0.75475,     0.75576,     0.75676,     0.75776,     0.75876,     0.75976,     0.76076,     0.76176,     0.76276,     0.76376,     0.76476,     0.76577,     0.76677,     0.76777,\n",
       "           0.76877,     0.76977,     0.77077,     0.77177,     0.77277,     0.77377,     0.77477,     0.77578,     0.77678,     0.77778,     0.77878,     0.77978,     0.78078,     0.78178,     0.78278,     0.78378,     0.78478,     0.78579,     0.78679,     0.78779,     0.78879,     0.78979,     0.79079,     0.79179,\n",
       "           0.79279,     0.79379,     0.79479,      0.7958,      0.7968,      0.7978,      0.7988,      0.7998,      0.8008,      0.8018,      0.8028,      0.8038,      0.8048,     0.80581,     0.80681,     0.80781,     0.80881,     0.80981,     0.81081,     0.81181,     0.81281,     0.81381,     0.81481,     0.81582,\n",
       "           0.81682,     0.81782,     0.81882,     0.81982,     0.82082,     0.82182,     0.82282,     0.82382,     0.82482,     0.82583,     0.82683,     0.82783,     0.82883,     0.82983,     0.83083,     0.83183,     0.83283,     0.83383,     0.83483,     0.83584,     0.83684,     0.83784,     0.83884,     0.83984,\n",
       "           0.84084,     0.84184,     0.84284,     0.84384,     0.84484,     0.84585,     0.84685,     0.84785,     0.84885,     0.84985,     0.85085,     0.85185,     0.85285,     0.85385,     0.85485,     0.85586,     0.85686,     0.85786,     0.85886,     0.85986,     0.86086,     0.86186,     0.86286,     0.86386,\n",
       "           0.86486,     0.86587,     0.86687,     0.86787,     0.86887,     0.86987,     0.87087,     0.87187,     0.87287,     0.87387,     0.87487,     0.87588,     0.87688,     0.87788,     0.87888,     0.87988,     0.88088,     0.88188,     0.88288,     0.88388,     0.88488,     0.88589,     0.88689,     0.88789,\n",
       "           0.88889,     0.88989,     0.89089,     0.89189,     0.89289,     0.89389,     0.89489,      0.8959,      0.8969,      0.8979,      0.8989,      0.8999,      0.9009,      0.9019,      0.9029,      0.9039,      0.9049,     0.90591,     0.90691,     0.90791,     0.90891,     0.90991,     0.91091,     0.91191,\n",
       "           0.91291,     0.91391,     0.91491,     0.91592,     0.91692,     0.91792,     0.91892,     0.91992,     0.92092,     0.92192,     0.92292,     0.92392,     0.92492,     0.92593,     0.92693,     0.92793,     0.92893,     0.92993,     0.93093,     0.93193,     0.93293,     0.93393,     0.93493,     0.93594,\n",
       "           0.93694,     0.93794,     0.93894,     0.93994,     0.94094,     0.94194,     0.94294,     0.94394,     0.94494,     0.94595,     0.94695,     0.94795,     0.94895,     0.94995,     0.95095,     0.95195,     0.95295,     0.95395,     0.95495,     0.95596,     0.95696,     0.95796,     0.95896,     0.95996,\n",
       "           0.96096,     0.96196,     0.96296,     0.96396,     0.96496,     0.96597,     0.96697,     0.96797,     0.96897,     0.96997,     0.97097,     0.97197,     0.97297,     0.97397,     0.97497,     0.97598,     0.97698,     0.97798,     0.97898,     0.97998,     0.98098,     0.98198,     0.98298,     0.98398,\n",
       "           0.98498,     0.98599,     0.98699,     0.98799,     0.98899,     0.98999,     0.99099,     0.99199,     0.99299,     0.99399,     0.99499,       0.996,       0.997,       0.998,       0.999,           1]), array([[          1,           1,           1, ...,   0.0073601,           0,           0],\n",
       "       [          1,           1,           1, ...,     0.12749,    0.045771,           0],\n",
       "       [          1,           1,           1, ...,           0,           0,           0],\n",
       "       ...,\n",
       "       [          1,           1,           1, ...,   0.0012464,           0,           0],\n",
       "       [          1,           1,           1, ...,     0.98276,           0,           0],\n",
       "       [          1,           1,           1, ...,    0.025023,    0.010797,           0]]), 'Confidence', 'Recall']]\n",
       "fitness: 0.9908774501029377\n",
       "keys: ['metrics/precision(B)', 'metrics/recall(B)', 'metrics/mAP50(B)', 'metrics/mAP50-95(B)']\n",
       "maps: array([    0.99087,       0.995,       0.995,       0.995,       0.995,      0.9885,       0.995,       0.995,     0.99087,       0.995,       0.995,     0.99499,     0.99498,       0.995,       0.995,       0.995,       0.995,       0.995,       0.995,       0.995,       0.995,       0.995,       0.995,     0.86448,\n",
       "             0.995,       0.995,       0.995,       0.995,       0.995,       0.995,       0.995,       0.995,       0.995,     0.95091,     0.97832,       0.995,     0.94295,       0.995,       0.995,       0.995,       0.995,       0.995,       0.995,       0.995,       0.995,       0.995,       0.995,       0.995,\n",
       "             0.995,       0.995,       0.995,     0.96377,       0.995,       0.995,     0.98526,       0.995,       0.995,     0.99087,       0.995,       0.995,       0.995,     0.99087,     0.99087,       0.995,     0.99087,       0.995,       0.995,       0.995,       0.995,       0.995,       0.995,       0.995,\n",
       "             0.995,       0.995,     0.97942,     0.98784,       0.995,       0.995,       0.995,       0.995,       0.995,       0.995])\n",
       "names: {0: '0001-起点', 1: '0002-齿轮硬币箱', 2: '0003-危机', 3: '0004-业绩考察点', 4: '0006-及时补给', 5: '0007-插件获取', 6: '0008-扭蛋机', 7: '0009-呼叫增援', 8: '0010-秘径', 9: '0011-操纵杆', 10: '0012-邂逅', 11: '0013-侵蚀扭蛋机', 12: '0014-临时拍档', 13: '0015-假面研究者', 14: '0016-鸣徽催化剂', 15: '0017-调查员', 16: '0018-盗洞客', 17: '0019-邦布商人', 18: '0020-门扉禁闭-财富', 19: '0021-顽固的障碍物', 20: '0022-门扉禁闭-侵蚀', 21: '0023-残破的障碍物', 22: '0024-双重危机', 23: '0025-门扉禁闭-善战', 24: '0026-开启的门', 25: '0027-安全区', 26: '0028-休息区', 27: '0029-失联', 28: '0030-侵蚀', 29: '0031-净化室', 30: '0032-传送点', 31: '0033-真相', 32: '0034-通道', 33: '0035-巨兽', 34: '0036-奇货', 35: '0037-盲盒区域', 36: '0038-不宜久留', 37: '0039-奇怪的侦探', 38: '0040-求救的信号', 39: '0041-调查协会补给站', 40: '0042-精锐邦布助手', 41: '0043-治安官小队', 42: '0044-有偿休息站', 43: '0045-馅饼天降', 44: '0046-怀斯塔学会研究站', 45: '0047-活化结晶', 46: '0048-守门人', 47: '0049-裂隙', 48: '0051-紧急撤离点', 49: '0052-防卫军后勤站', 50: '0053-王牌邦布助手', 51: '0054-未知区域', 52: '0055-奇怪的学生', 53: '0056-零号银行', 54: '0057-失效节点', 55: '0058-资源回收小组', 56: '0059-按压式开关', 57: '0060-弹射-上', 58: '0061-轨道-上', 59: '0062-同伴', 60: '0063-弹射-下', 61: '0064-弹射-左', 62: '0065-弹射-右', 63: '0066-轨道-下', 64: '0067-轨道-左', 65: '0068-轨道-右', 66: '0069-房屋残骸', 67: '0070-投机客', 68: '0071-诡雾', 69: '0072-限时战斗', 70: '0073-业绩考察点空', 71: '0074-秘医', 72: '0075-全自动医疗仓', 73: '0076-危险目标', 74: '8000-电视底座绿', 75: '8001-电视底座红', 76: '8002-电视底座大', 77: '9000-当前', 78: '9001-空白未通行', 79: '9002-空白已通行', 80: '9003-空白无法通行', 81: '9005-空白未通行红'}\n",
       "plot: True\n",
       "results_dict: {'metrics/precision(B)': 0.9962572365293583, 'metrics/recall(B)': 0.9920444529067347, 'metrics/mAP50(B)': 0.9909087147335708, 'metrics/mAP50-95(B)': 0.9908739762550897, 'fitness': 0.9908774501029377}\n",
       "save_dir: WindowsPath('D:/code/workspace/OneDragon-YOLO/ultralytics/runs/zzz_hollow_event_2208/yolov8s-736')\n",
       "speed: {'preprocess': 0.5610333008020102, 'inference': 4.140386451669291, 'loss': 0.012256985618954613, 'postprocess': 1.1044035152513154}\n",
       "task: 'detect'"
      ]
     },
     "execution_count": 9,
     "metadata": {},
     "output_type": "execute_result"
    }
   ],
   "source": [
    "model.train(\n",
    "    data=ultralytics_utils.get_dataset_yaml_path(dataset_name),  # 数据集配置文件的位置\n",
    "    project=ultralytics_utils.get_dataset_model_dir(dataset_name),  # 训练模型的数据（包括模型文件）的自动保存位置\n",
    "    name= train_name,\n",
    "    imgsz=train_img_size,\n",
    "    epochs=1000,\n",
    "    save_period=100,\n",
    "    batch=-1,  # 根据可使用内存 自动判断batch_size\n",
    "    val=False,  # 关闭验证\n",
    "    exist_ok=True,\n",
    "    scale=0,  # 不需要缩放处理\n",
    "    flipud=0, fliplr=0,  # 不需要翻转对称\n",
    "    erasing=0,  # 不需要消除了 图片下方空白比较多\n",
    "    hsv_h=0, hsv_s=0, hsv_v=0,  # 关闭色彩调节\n",
    "    mosaic=0,  # 不需要拼接 使用原装大小\n",
    ")"
   ]
  },
  {
   "cell_type": "code",
   "execution_count": 10,
   "id": "7b339773-2a77-4a37-b51f-5cc07990bd53",
   "metadata": {
    "scrolled": true
   },
   "outputs": [
    {
     "name": "stdout",
     "output_type": "stream",
     "text": [
      "Ultralytics 8.3.1  Python-3.11.9 torch-2.3.1 CPU (AMD Ryzen 9 5950X 16-Core Processor)\n",
      "Model summary (fused): 186 layers, 9,859,398 parameters, 0 gradients, 23.5 GFLOPs\n",
      "\n",
      "\u001b[34m\u001b[1mPyTorch:\u001b[0m starting from 'D:\\code\\workspace\\OneDragon-YOLO\\ultralytics\\runs\\zzz_hollow_event_2208\\yolov8s-736\\weights\\epoch100.pt' with input shape (1, 3, 416, 736) BCHW and output shape(s) (1, 86, 6279) (38.8 MB)\n",
      "\u001b[31m\u001b[1mrequirements:\u001b[0m Ultralytics requirements ['onnxslim==0.1.34', 'onnxruntime-gpu'] not found, attempting AutoUpdate...\n",
      "\u001b[31m\u001b[1mrequirements:\u001b[0m  AutoUpdate skipped (offline)\n",
      "\n",
      "\u001b[34m\u001b[1mONNX:\u001b[0m starting export with onnx 1.16.0 opset 17...\n",
      "\u001b[34m\u001b[1mONNX:\u001b[0m simplifier failure: No module named 'onnxslim'\n",
      "\u001b[34m\u001b[1mONNX:\u001b[0m export success  0.7s, saved as 'D:\\code\\workspace\\OneDragon-YOLO\\ultralytics\\runs\\zzz_hollow_event_2208\\yolov8s-736\\weights\\epoch100.onnx' (37.8 MB)\n",
      "\n",
      "Export complete (1.0s)\n",
      "Results saved to \u001b[1mD:\\code\\workspace\\OneDragon-YOLO\\ultralytics\\runs\\zzz_hollow_event_2208\\yolov8s-736\\weights\u001b[0m\n",
      "Predict:         yolo predict task=detect model=D:\\code\\workspace\\OneDragon-YOLO\\ultralytics\\runs\\zzz_hollow_event_2208\\yolov8s-736\\weights\\epoch100.onnx imgsz=416,736  \n",
      "Validate:        yolo val task=detect model=D:\\code\\workspace\\OneDragon-YOLO\\ultralytics\\runs\\zzz_hollow_event_2208\\yolov8s-736\\weights\\epoch100.onnx imgsz=416,736 data=D:\\code\\workspace\\OneDragon-YOLO\\ultralytics\\datasets\\zzz_hollow_event_2208\\dataset.yaml  WARNING  non-PyTorch val requires square images, 'imgsz=[416, 736]' will not work. Use export 'imgsz=736' if val is required.\n",
      "Visualize:       https://netron.app\n",
      "Ultralytics 8.3.1  Python-3.11.9 torch-2.3.1 CPU (AMD Ryzen 9 5950X 16-Core Processor)\n",
      "Model summary (fused): 186 layers, 9,859,398 parameters, 0 gradients, 23.5 GFLOPs\n",
      "\n",
      "\u001b[34m\u001b[1mPyTorch:\u001b[0m starting from 'D:\\code\\workspace\\OneDragon-YOLO\\ultralytics\\runs\\zzz_hollow_event_2208\\yolov8s-736\\weights\\epoch200.pt' with input shape (1, 3, 416, 736) BCHW and output shape(s) (1, 86, 6279) (38.8 MB)\n",
      "\u001b[31m\u001b[1mrequirements:\u001b[0m Ultralytics requirements ['onnxslim==0.1.34', 'onnxruntime-gpu'] not found, attempting AutoUpdate...\n",
      "\u001b[31m\u001b[1mrequirements:\u001b[0m  AutoUpdate skipped (offline)\n",
      "\n",
      "\u001b[34m\u001b[1mONNX:\u001b[0m starting export with onnx 1.16.0 opset 17...\n",
      "\u001b[34m\u001b[1mONNX:\u001b[0m simplifier failure: No module named 'onnxslim'\n",
      "\u001b[34m\u001b[1mONNX:\u001b[0m export success  0.7s, saved as 'D:\\code\\workspace\\OneDragon-YOLO\\ultralytics\\runs\\zzz_hollow_event_2208\\yolov8s-736\\weights\\epoch200.onnx' (37.8 MB)\n",
      "\n",
      "Export complete (0.9s)\n",
      "Results saved to \u001b[1mD:\\code\\workspace\\OneDragon-YOLO\\ultralytics\\runs\\zzz_hollow_event_2208\\yolov8s-736\\weights\u001b[0m\n",
      "Predict:         yolo predict task=detect model=D:\\code\\workspace\\OneDragon-YOLO\\ultralytics\\runs\\zzz_hollow_event_2208\\yolov8s-736\\weights\\epoch200.onnx imgsz=416,736  \n",
      "Validate:        yolo val task=detect model=D:\\code\\workspace\\OneDragon-YOLO\\ultralytics\\runs\\zzz_hollow_event_2208\\yolov8s-736\\weights\\epoch200.onnx imgsz=416,736 data=D:\\code\\workspace\\OneDragon-YOLO\\ultralytics\\datasets\\zzz_hollow_event_2208\\dataset.yaml  WARNING  non-PyTorch val requires square images, 'imgsz=[416, 736]' will not work. Use export 'imgsz=736' if val is required.\n",
      "Visualize:       https://netron.app\n",
      "Ultralytics 8.3.1  Python-3.11.9 torch-2.3.1 CPU (AMD Ryzen 9 5950X 16-Core Processor)\n",
      "Model summary (fused): 186 layers, 9,859,398 parameters, 0 gradients, 23.5 GFLOPs\n",
      "\n",
      "\u001b[34m\u001b[1mPyTorch:\u001b[0m starting from 'D:\\code\\workspace\\OneDragon-YOLO\\ultralytics\\runs\\zzz_hollow_event_2208\\yolov8s-736\\weights\\epoch300.pt' with input shape (1, 3, 416, 736) BCHW and output shape(s) (1, 86, 6279) (38.8 MB)\n",
      "\u001b[31m\u001b[1mrequirements:\u001b[0m Ultralytics requirements ['onnxslim==0.1.34', 'onnxruntime-gpu'] not found, attempting AutoUpdate...\n",
      "\u001b[31m\u001b[1mrequirements:\u001b[0m  AutoUpdate skipped (offline)\n",
      "\n",
      "\u001b[34m\u001b[1mONNX:\u001b[0m starting export with onnx 1.16.0 opset 17...\n",
      "\u001b[34m\u001b[1mONNX:\u001b[0m simplifier failure: No module named 'onnxslim'\n",
      "\u001b[34m\u001b[1mONNX:\u001b[0m export success  0.6s, saved as 'D:\\code\\workspace\\OneDragon-YOLO\\ultralytics\\runs\\zzz_hollow_event_2208\\yolov8s-736\\weights\\epoch300.onnx' (37.8 MB)\n",
      "\n",
      "Export complete (0.9s)\n",
      "Results saved to \u001b[1mD:\\code\\workspace\\OneDragon-YOLO\\ultralytics\\runs\\zzz_hollow_event_2208\\yolov8s-736\\weights\u001b[0m\n",
      "Predict:         yolo predict task=detect model=D:\\code\\workspace\\OneDragon-YOLO\\ultralytics\\runs\\zzz_hollow_event_2208\\yolov8s-736\\weights\\epoch300.onnx imgsz=416,736  \n",
      "Validate:        yolo val task=detect model=D:\\code\\workspace\\OneDragon-YOLO\\ultralytics\\runs\\zzz_hollow_event_2208\\yolov8s-736\\weights\\epoch300.onnx imgsz=416,736 data=D:\\code\\workspace\\OneDragon-YOLO\\ultralytics\\datasets\\zzz_hollow_event_2208\\dataset.yaml  WARNING  non-PyTorch val requires square images, 'imgsz=[416, 736]' will not work. Use export 'imgsz=736' if val is required.\n",
      "Visualize:       https://netron.app\n",
      "Ultralytics 8.3.1  Python-3.11.9 torch-2.3.1 CPU (AMD Ryzen 9 5950X 16-Core Processor)\n",
      "Model summary (fused): 186 layers, 9,859,398 parameters, 0 gradients, 23.5 GFLOPs\n",
      "\n",
      "\u001b[34m\u001b[1mPyTorch:\u001b[0m starting from 'D:\\code\\workspace\\OneDragon-YOLO\\ultralytics\\runs\\zzz_hollow_event_2208\\yolov8s-736\\weights\\epoch400.pt' with input shape (1, 3, 416, 736) BCHW and output shape(s) (1, 86, 6279) (38.8 MB)\n",
      "\u001b[31m\u001b[1mrequirements:\u001b[0m Ultralytics requirements ['onnxslim==0.1.34', 'onnxruntime-gpu'] not found, attempting AutoUpdate...\n",
      "\u001b[31m\u001b[1mrequirements:\u001b[0m  AutoUpdate skipped (offline)\n",
      "\n",
      "\u001b[34m\u001b[1mONNX:\u001b[0m starting export with onnx 1.16.0 opset 17...\n",
      "\u001b[34m\u001b[1mONNX:\u001b[0m simplifier failure: No module named 'onnxslim'\n",
      "\u001b[34m\u001b[1mONNX:\u001b[0m export success  0.7s, saved as 'D:\\code\\workspace\\OneDragon-YOLO\\ultralytics\\runs\\zzz_hollow_event_2208\\yolov8s-736\\weights\\epoch400.onnx' (37.8 MB)\n",
      "\n",
      "Export complete (0.9s)\n",
      "Results saved to \u001b[1mD:\\code\\workspace\\OneDragon-YOLO\\ultralytics\\runs\\zzz_hollow_event_2208\\yolov8s-736\\weights\u001b[0m\n",
      "Predict:         yolo predict task=detect model=D:\\code\\workspace\\OneDragon-YOLO\\ultralytics\\runs\\zzz_hollow_event_2208\\yolov8s-736\\weights\\epoch400.onnx imgsz=416,736  \n",
      "Validate:        yolo val task=detect model=D:\\code\\workspace\\OneDragon-YOLO\\ultralytics\\runs\\zzz_hollow_event_2208\\yolov8s-736\\weights\\epoch400.onnx imgsz=416,736 data=D:\\code\\workspace\\OneDragon-YOLO\\ultralytics\\datasets\\zzz_hollow_event_2208\\dataset.yaml  WARNING  non-PyTorch val requires square images, 'imgsz=[416, 736]' will not work. Use export 'imgsz=736' if val is required.\n",
      "Visualize:       https://netron.app\n",
      "Ultralytics 8.3.1  Python-3.11.9 torch-2.3.1 CPU (AMD Ryzen 9 5950X 16-Core Processor)\n",
      "Model summary (fused): 186 layers, 9,859,398 parameters, 0 gradients, 23.5 GFLOPs\n",
      "\n",
      "\u001b[34m\u001b[1mPyTorch:\u001b[0m starting from 'D:\\code\\workspace\\OneDragon-YOLO\\ultralytics\\runs\\zzz_hollow_event_2208\\yolov8s-736\\weights\\epoch500.pt' with input shape (1, 3, 416, 736) BCHW and output shape(s) (1, 86, 6279) (38.8 MB)\n",
      "\u001b[31m\u001b[1mrequirements:\u001b[0m Ultralytics requirements ['onnxslim==0.1.34', 'onnxruntime-gpu'] not found, attempting AutoUpdate...\n",
      "\u001b[31m\u001b[1mrequirements:\u001b[0m  AutoUpdate skipped (offline)\n",
      "\n",
      "\u001b[34m\u001b[1mONNX:\u001b[0m starting export with onnx 1.16.0 opset 17...\n",
      "\u001b[34m\u001b[1mONNX:\u001b[0m simplifier failure: No module named 'onnxslim'\n",
      "\u001b[34m\u001b[1mONNX:\u001b[0m export success  0.7s, saved as 'D:\\code\\workspace\\OneDragon-YOLO\\ultralytics\\runs\\zzz_hollow_event_2208\\yolov8s-736\\weights\\epoch500.onnx' (37.8 MB)\n",
      "\n",
      "Export complete (0.9s)\n",
      "Results saved to \u001b[1mD:\\code\\workspace\\OneDragon-YOLO\\ultralytics\\runs\\zzz_hollow_event_2208\\yolov8s-736\\weights\u001b[0m\n",
      "Predict:         yolo predict task=detect model=D:\\code\\workspace\\OneDragon-YOLO\\ultralytics\\runs\\zzz_hollow_event_2208\\yolov8s-736\\weights\\epoch500.onnx imgsz=416,736  \n",
      "Validate:        yolo val task=detect model=D:\\code\\workspace\\OneDragon-YOLO\\ultralytics\\runs\\zzz_hollow_event_2208\\yolov8s-736\\weights\\epoch500.onnx imgsz=416,736 data=D:\\code\\workspace\\OneDragon-YOLO\\ultralytics\\datasets\\zzz_hollow_event_2208\\dataset.yaml  WARNING  non-PyTorch val requires square images, 'imgsz=[416, 736]' will not work. Use export 'imgsz=736' if val is required.\n",
      "Visualize:       https://netron.app\n",
      "Ultralytics 8.3.1  Python-3.11.9 torch-2.3.1 CPU (AMD Ryzen 9 5950X 16-Core Processor)\n",
      "Model summary (fused): 186 layers, 9,859,398 parameters, 0 gradients, 23.5 GFLOPs\n",
      "\n",
      "\u001b[34m\u001b[1mPyTorch:\u001b[0m starting from 'D:\\code\\workspace\\OneDragon-YOLO\\ultralytics\\runs\\zzz_hollow_event_2208\\yolov8s-736\\weights\\epoch600.pt' with input shape (1, 3, 416, 736) BCHW and output shape(s) (1, 86, 6279) (38.8 MB)\n",
      "\u001b[31m\u001b[1mrequirements:\u001b[0m Ultralytics requirements ['onnxslim==0.1.34', 'onnxruntime-gpu'] not found, attempting AutoUpdate...\n",
      "\u001b[31m\u001b[1mrequirements:\u001b[0m  AutoUpdate skipped (offline)\n",
      "\n",
      "\u001b[34m\u001b[1mONNX:\u001b[0m starting export with onnx 1.16.0 opset 17...\n",
      "\u001b[34m\u001b[1mONNX:\u001b[0m simplifier failure: No module named 'onnxslim'\n",
      "\u001b[34m\u001b[1mONNX:\u001b[0m export success  0.6s, saved as 'D:\\code\\workspace\\OneDragon-YOLO\\ultralytics\\runs\\zzz_hollow_event_2208\\yolov8s-736\\weights\\epoch600.onnx' (37.8 MB)\n",
      "\n",
      "Export complete (0.9s)\n",
      "Results saved to \u001b[1mD:\\code\\workspace\\OneDragon-YOLO\\ultralytics\\runs\\zzz_hollow_event_2208\\yolov8s-736\\weights\u001b[0m\n",
      "Predict:         yolo predict task=detect model=D:\\code\\workspace\\OneDragon-YOLO\\ultralytics\\runs\\zzz_hollow_event_2208\\yolov8s-736\\weights\\epoch600.onnx imgsz=416,736  \n",
      "Validate:        yolo val task=detect model=D:\\code\\workspace\\OneDragon-YOLO\\ultralytics\\runs\\zzz_hollow_event_2208\\yolov8s-736\\weights\\epoch600.onnx imgsz=416,736 data=D:\\code\\workspace\\OneDragon-YOLO\\ultralytics\\datasets\\zzz_hollow_event_2208\\dataset.yaml  WARNING  non-PyTorch val requires square images, 'imgsz=[416, 736]' will not work. Use export 'imgsz=736' if val is required.\n",
      "Visualize:       https://netron.app\n",
      "Ultralytics 8.3.1  Python-3.11.9 torch-2.3.1 CPU (AMD Ryzen 9 5950X 16-Core Processor)\n",
      "Model summary (fused): 186 layers, 9,859,398 parameters, 0 gradients, 23.5 GFLOPs\n",
      "\n",
      "\u001b[34m\u001b[1mPyTorch:\u001b[0m starting from 'D:\\code\\workspace\\OneDragon-YOLO\\ultralytics\\runs\\zzz_hollow_event_2208\\yolov8s-736\\weights\\epoch700.pt' with input shape (1, 3, 416, 736) BCHW and output shape(s) (1, 86, 6279) (38.8 MB)\n",
      "\u001b[31m\u001b[1mrequirements:\u001b[0m Ultralytics requirements ['onnxslim==0.1.34', 'onnxruntime-gpu'] not found, attempting AutoUpdate...\n",
      "\u001b[31m\u001b[1mrequirements:\u001b[0m  AutoUpdate skipped (offline)\n",
      "\n",
      "\u001b[34m\u001b[1mONNX:\u001b[0m starting export with onnx 1.16.0 opset 17...\n",
      "\u001b[34m\u001b[1mONNX:\u001b[0m simplifier failure: No module named 'onnxslim'\n",
      "\u001b[34m\u001b[1mONNX:\u001b[0m export success  0.7s, saved as 'D:\\code\\workspace\\OneDragon-YOLO\\ultralytics\\runs\\zzz_hollow_event_2208\\yolov8s-736\\weights\\epoch700.onnx' (37.8 MB)\n",
      "\n",
      "Export complete (0.9s)\n",
      "Results saved to \u001b[1mD:\\code\\workspace\\OneDragon-YOLO\\ultralytics\\runs\\zzz_hollow_event_2208\\yolov8s-736\\weights\u001b[0m\n",
      "Predict:         yolo predict task=detect model=D:\\code\\workspace\\OneDragon-YOLO\\ultralytics\\runs\\zzz_hollow_event_2208\\yolov8s-736\\weights\\epoch700.onnx imgsz=416,736  \n",
      "Validate:        yolo val task=detect model=D:\\code\\workspace\\OneDragon-YOLO\\ultralytics\\runs\\zzz_hollow_event_2208\\yolov8s-736\\weights\\epoch700.onnx imgsz=416,736 data=D:\\code\\workspace\\OneDragon-YOLO\\ultralytics\\datasets\\zzz_hollow_event_2208\\dataset.yaml  WARNING  non-PyTorch val requires square images, 'imgsz=[416, 736]' will not work. Use export 'imgsz=736' if val is required.\n",
      "Visualize:       https://netron.app\n",
      "Ultralytics 8.3.1  Python-3.11.9 torch-2.3.1 CPU (AMD Ryzen 9 5950X 16-Core Processor)\n",
      "Model summary (fused): 186 layers, 9,859,398 parameters, 0 gradients, 23.5 GFLOPs\n",
      "\n",
      "\u001b[34m\u001b[1mPyTorch:\u001b[0m starting from 'D:\\code\\workspace\\OneDragon-YOLO\\ultralytics\\runs\\zzz_hollow_event_2208\\yolov8s-736\\weights\\epoch800.pt' with input shape (1, 3, 416, 736) BCHW and output shape(s) (1, 86, 6279) (38.8 MB)\n",
      "\u001b[31m\u001b[1mrequirements:\u001b[0m Ultralytics requirements ['onnxslim==0.1.34', 'onnxruntime-gpu'] not found, attempting AutoUpdate...\n",
      "\u001b[31m\u001b[1mrequirements:\u001b[0m  AutoUpdate skipped (offline)\n",
      "\n",
      "\u001b[34m\u001b[1mONNX:\u001b[0m starting export with onnx 1.16.0 opset 17...\n",
      "\u001b[34m\u001b[1mONNX:\u001b[0m simplifier failure: No module named 'onnxslim'\n",
      "\u001b[34m\u001b[1mONNX:\u001b[0m export success  0.6s, saved as 'D:\\code\\workspace\\OneDragon-YOLO\\ultralytics\\runs\\zzz_hollow_event_2208\\yolov8s-736\\weights\\epoch800.onnx' (37.8 MB)\n",
      "\n",
      "Export complete (0.9s)\n",
      "Results saved to \u001b[1mD:\\code\\workspace\\OneDragon-YOLO\\ultralytics\\runs\\zzz_hollow_event_2208\\yolov8s-736\\weights\u001b[0m\n",
      "Predict:         yolo predict task=detect model=D:\\code\\workspace\\OneDragon-YOLO\\ultralytics\\runs\\zzz_hollow_event_2208\\yolov8s-736\\weights\\epoch800.onnx imgsz=416,736  \n",
      "Validate:        yolo val task=detect model=D:\\code\\workspace\\OneDragon-YOLO\\ultralytics\\runs\\zzz_hollow_event_2208\\yolov8s-736\\weights\\epoch800.onnx imgsz=416,736 data=D:\\code\\workspace\\OneDragon-YOLO\\ultralytics\\datasets\\zzz_hollow_event_2208\\dataset.yaml  WARNING  non-PyTorch val requires square images, 'imgsz=[416, 736]' will not work. Use export 'imgsz=736' if val is required.\n",
      "Visualize:       https://netron.app\n",
      "Ultralytics 8.3.1  Python-3.11.9 torch-2.3.1 CPU (AMD Ryzen 9 5950X 16-Core Processor)\n",
      "Model summary (fused): 186 layers, 9,859,398 parameters, 0 gradients, 23.5 GFLOPs\n",
      "\n",
      "\u001b[34m\u001b[1mPyTorch:\u001b[0m starting from 'D:\\code\\workspace\\OneDragon-YOLO\\ultralytics\\runs\\zzz_hollow_event_2208\\yolov8s-736\\weights\\epoch900.pt' with input shape (1, 3, 416, 736) BCHW and output shape(s) (1, 86, 6279) (38.8 MB)\n",
      "\u001b[31m\u001b[1mrequirements:\u001b[0m Ultralytics requirements ['onnxslim==0.1.34', 'onnxruntime-gpu'] not found, attempting AutoUpdate...\n",
      "\u001b[31m\u001b[1mrequirements:\u001b[0m  AutoUpdate skipped (offline)\n",
      "\n",
      "\u001b[34m\u001b[1mONNX:\u001b[0m starting export with onnx 1.16.0 opset 17...\n",
      "\u001b[34m\u001b[1mONNX:\u001b[0m simplifier failure: No module named 'onnxslim'\n",
      "\u001b[34m\u001b[1mONNX:\u001b[0m export success  0.7s, saved as 'D:\\code\\workspace\\OneDragon-YOLO\\ultralytics\\runs\\zzz_hollow_event_2208\\yolov8s-736\\weights\\epoch900.onnx' (37.8 MB)\n",
      "\n",
      "Export complete (1.0s)\n",
      "Results saved to \u001b[1mD:\\code\\workspace\\OneDragon-YOLO\\ultralytics\\runs\\zzz_hollow_event_2208\\yolov8s-736\\weights\u001b[0m\n",
      "Predict:         yolo predict task=detect model=D:\\code\\workspace\\OneDragon-YOLO\\ultralytics\\runs\\zzz_hollow_event_2208\\yolov8s-736\\weights\\epoch900.onnx imgsz=416,736  \n",
      "Validate:        yolo val task=detect model=D:\\code\\workspace\\OneDragon-YOLO\\ultralytics\\runs\\zzz_hollow_event_2208\\yolov8s-736\\weights\\epoch900.onnx imgsz=416,736 data=D:\\code\\workspace\\OneDragon-YOLO\\ultralytics\\datasets\\zzz_hollow_event_2208\\dataset.yaml  WARNING  non-PyTorch val requires square images, 'imgsz=[416, 736]' will not work. Use export 'imgsz=736' if val is required.\n",
      "Visualize:       https://netron.app\n"
     ]
    }
   ],
   "source": [
    "for i in range(1, 10):\n",
    "    model_name = 'epoch%d00' % i\n",
    "    ultralytics_utils.export_model(\n",
    "        dataset_name=dataset_name,\n",
    "        train_name=train_name,\n",
    "        imgsz=export_img_size,\n",
    "        model_name=model_name,\n",
    "        save_name=f'{train_name}-{model_name}'\n",
    "    )"
   ]
  },
  {
   "cell_type": "code",
   "execution_count": 11,
   "id": "863e41a5-d98a-44fb-9e61-e4990bcb4701",
   "metadata": {},
   "outputs": [
    {
     "name": "stdout",
     "output_type": "stream",
     "text": [
      "Ultralytics 8.3.1  Python-3.11.9 torch-2.3.1 CPU (AMD Ryzen 9 5950X 16-Core Processor)\n",
      "Model summary (fused): 186 layers, 9,859,398 parameters, 0 gradients, 23.5 GFLOPs\n",
      "\n",
      "\u001b[34m\u001b[1mPyTorch:\u001b[0m starting from 'D:\\code\\workspace\\OneDragon-YOLO\\ultralytics\\runs\\zzz_hollow_event_2208\\yolov8s-736\\weights\\best.pt' with input shape (1, 3, 416, 736) BCHW and output shape(s) (1, 86, 6279) (20.0 MB)\n",
      "\u001b[31m\u001b[1mrequirements:\u001b[0m Ultralytics requirements ['onnxslim==0.1.34', 'onnxruntime-gpu'] not found, attempting AutoUpdate...\n",
      "\u001b[31m\u001b[1mrequirements:\u001b[0m  AutoUpdate skipped (offline)\n",
      "\n",
      "\u001b[34m\u001b[1mONNX:\u001b[0m starting export with onnx 1.16.0 opset 17...\n",
      "\u001b[34m\u001b[1mONNX:\u001b[0m simplifier failure: No module named 'onnxslim'\n",
      "\u001b[34m\u001b[1mONNX:\u001b[0m export success  0.6s, saved as 'D:\\code\\workspace\\OneDragon-YOLO\\ultralytics\\runs\\zzz_hollow_event_2208\\yolov8s-736\\weights\\best.onnx' (37.8 MB)\n",
      "\n",
      "Export complete (0.9s)\n",
      "Results saved to \u001b[1mD:\\code\\workspace\\OneDragon-YOLO\\ultralytics\\runs\\zzz_hollow_event_2208\\yolov8s-736\\weights\u001b[0m\n",
      "Predict:         yolo predict task=detect model=D:\\code\\workspace\\OneDragon-YOLO\\ultralytics\\runs\\zzz_hollow_event_2208\\yolov8s-736\\weights\\best.onnx imgsz=416,736  \n",
      "Validate:        yolo val task=detect model=D:\\code\\workspace\\OneDragon-YOLO\\ultralytics\\runs\\zzz_hollow_event_2208\\yolov8s-736\\weights\\best.onnx imgsz=416,736 data=D:\\code\\workspace\\OneDragon-YOLO\\ultralytics\\datasets\\zzz_hollow_event_2208\\dataset.yaml  WARNING  non-PyTorch val requires square images, 'imgsz=[416, 736]' will not work. Use export 'imgsz=736' if val is required.\n",
      "Visualize:       https://netron.app\n"
     ]
    }
   ],
   "source": [
    "ultralytics_utils.export_model(\n",
    "    dataset_name=dataset_name,\n",
    "    train_name=train_name,\n",
    "    imgsz=export_img_size\n",
    ")"
   ]
  },
  {
   "cell_type": "code",
   "execution_count": null,
   "id": "dba1ceac-be89-4024-b3b2-63d1761fa81d",
   "metadata": {},
   "outputs": [],
   "source": []
  }
 ],
 "metadata": {
  "kernelspec": {
   "display_name": "Python 3 (ipykernel)",
   "language": "python",
   "name": "python3"
  },
  "language_info": {
   "codemirror_mode": {
    "name": "ipython",
    "version": 3
   },
   "file_extension": ".py",
   "mimetype": "text/x-python",
   "name": "python",
   "nbconvert_exporter": "python",
   "pygments_lexer": "ipython3",
   "version": "3.11.9"
  }
 },
 "nbformat": 4,
 "nbformat_minor": 5
}

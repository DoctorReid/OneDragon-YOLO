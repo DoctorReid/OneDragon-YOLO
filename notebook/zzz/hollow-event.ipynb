{
 "cells": [
  {
   "cell_type": "code",
   "execution_count": 1,
   "id": "2ccd20a0-e4f7-4ccc-8f98-4a069b707efb",
   "metadata": {},
   "outputs": [],
   "source": [
    "import pandas as pd\n",
    "import sys\n",
    "import os\n",
    "sys.path.append('../../src')"
   ]
  },
  {
   "cell_type": "code",
   "execution_count": 7,
   "id": "6bfd7549-a791-43b5-9045-2408985315af",
   "metadata": {},
   "outputs": [],
   "source": [
    "from train.devtools import os_utils\n",
    "from train.devtools import ultralytics_utils\n",
    "from train.devtools import yolo_dataset_utils"
   ]
  },
  {
   "cell_type": "code",
   "execution_count": 3,
   "id": "61d9666e-ed67-43ee-805c-96c1fde496f1",
   "metadata": {},
   "outputs": [],
   "source": [
    "ultralytics_utils.init_ultralytics_settings()"
   ]
  },
  {
   "cell_type": "code",
   "execution_count": 5,
   "id": "603bce91-cb98-45fd-9187-b6e37f065693",
   "metadata": {},
   "outputs": [],
   "source": [
    "#origin_img_size = 32 * 68\n",
    "#img_size_div = 2\n",
    "origin_img_size = 32 * 69\n",
    "img_size_div = 3\n",
    "train_img_size = origin_img_size // img_size_div\n",
    "export_img_size = (1080 // img_size_div, 1920 // img_size_div)\n",
    "\n",
    "dataset_name = f'zzz_hollow_event_{origin_img_size}'\n",
    "\n",
    "pretrained_model_name = 'yolov8n'\n",
    "train_name = f'{pretrained_model_name}-{export_img_size[1]}'"
   ]
  },
  {
   "cell_type": "code",
   "execution_count": 6,
   "id": "c0279b8a-e510-4d0f-a77f-01614927ded0",
   "metadata": {},
   "outputs": [
    {
     "data": {
      "text/plain": [
       "('zzz_hollow_event_2208', 'yolov8n-640')"
      ]
     },
     "execution_count": 6,
     "metadata": {},
     "output_type": "execute_result"
    }
   ],
   "source": [
    "dataset_name, train_name"
   ]
  },
  {
   "cell_type": "code",
   "execution_count": 8,
   "id": "608bc633-42d2-48a5-8b42-f14424237d8b",
   "metadata": {},
   "outputs": [
    {
     "name": "stdout",
     "output_type": "stream",
     "text": [
      "Autosplitting images from D:\\code\\workspace\\OneDragon-YOLO\\ultralytics\\datasets\\zzz_hollow_event_2208\\images, using *.txt labeled images only\n"
     ]
    },
    {
     "name": "stderr",
     "output_type": "stream",
     "text": [
      "100%|██████████| 2/2 [00:00<00:00, 666.03it/s]\n"
     ]
    }
   ],
   "source": [
    "yolo_dataset_utils.init_dataset(\n",
    "    dataset_name=dataset_name,\n",
    "    raw_dataset_name='zzz_hollow_event_raw',\n",
    "    raw_images_dir_path=os_utils.get_path_under_work_dir('label_studio', 'zzz', 'hollow_event', 'raw'),\n",
    "    target_img_size=2208,\n",
    "    split_weights=(1, 0, 0)\n",
    ")"
   ]
  },
  {
   "cell_type": "code",
   "execution_count": 9,
   "id": "721d4f40-6cd0-450b-ba19-00b89076b42c",
   "metadata": {},
   "outputs": [],
   "source": [
    "from ultralytics import YOLO"
   ]
  },
  {
   "cell_type": "code",
   "execution_count": 10,
   "id": "3bdbb5bf-3bcf-4c48-9439-d2b5f983e9b6",
   "metadata": {},
   "outputs": [],
   "source": [
    "model = YOLO(ultralytics_utils.get_base_model_path(f'{pretrained_model_name}.pt'))"
   ]
  },
  {
   "cell_type": "code",
   "execution_count": 14,
   "id": "372da530-416e-4796-a81e-9fc1857a626c",
   "metadata": {
    "scrolled": true
   },
   "outputs": [
    {
     "name": "stdout",
     "output_type": "stream",
     "text": [
      "Ultralytics YOLOv8.2.51  Python-3.11.9 torch-2.3.1 CUDA:0 (NVIDIA GeForce RTX 4070 Ti, 12282MiB)\n",
      "\u001b[34m\u001b[1mengine\\trainer: \u001b[0mtask=detect, mode=train, model=D:\\code\\workspace\\OneDragon-YOLO\\ultralytics\\models\\yolov8n.pt, data=D:\\code\\workspace\\OneDragon-YOLO\\ultralytics\\datasets\\zzz_hollow_event_2208\\dataset.yaml, epochs=100, time=None, patience=100, batch=-1, imgsz=736, save=True, save_period=-1, cache=False, device=None, workers=8, project=D:\\code\\workspace\\OneDragon-YOLO\\ultralytics\\runs\\zzz_hollow_event_2208, name=yolov8n-640, exist_ok=True, pretrained=True, optimizer=auto, verbose=True, seed=0, deterministic=True, single_cls=False, rect=False, cos_lr=False, close_mosaic=10, resume=False, amp=True, fraction=1.0, profile=False, freeze=None, multi_scale=False, overlap_mask=True, mask_ratio=4, dropout=0.0, val=True, split=val, save_json=False, save_hybrid=False, conf=None, iou=0.7, max_det=300, half=False, dnn=False, plots=True, source=None, vid_stride=1, stream_buffer=False, visualize=False, augment=False, agnostic_nms=False, classes=None, retina_masks=False, embed=None, show=False, save_frames=False, save_txt=False, save_conf=False, save_crop=False, show_labels=True, show_conf=True, show_boxes=True, line_width=None, format=torchscript, keras=False, optimize=False, int8=False, dynamic=False, simplify=False, opset=None, workspace=4, nms=False, lr0=0.01, lrf=0.01, momentum=0.937, weight_decay=0.0005, warmup_epochs=3.0, warmup_momentum=0.8, warmup_bias_lr=0.1, box=7.5, cls=0.5, dfl=1.5, pose=12.0, kobj=1.0, label_smoothing=0.0, nbs=64, hsv_h=0, hsv_s=0, hsv_v=0, degrees=0.0, translate=0.1, scale=0, shear=0.0, perspective=0.0, flipud=0, fliplr=0, bgr=0.0, mosaic=1.0, mixup=0.0, copy_paste=0, auto_augment=randaugment, erasing=0, crop_fraction=1.0, cfg=None, tracker=botsort.yaml, save_dir=D:\\code\\workspace\\OneDragon-YOLO\\ultralytics\\runs\\zzz_hollow_event_2208\\yolov8n-640\n",
      "\n",
      "                   from  n    params  module                                       arguments                     \n",
      "  0                  -1  1       464  ultralytics.nn.modules.conv.Conv             [3, 16, 3, 2]                 \n",
      "  1                  -1  1      4672  ultralytics.nn.modules.conv.Conv             [16, 32, 3, 2]                \n",
      "  2                  -1  1      7360  ultralytics.nn.modules.block.C2f             [32, 32, 1, True]             \n",
      "  3                  -1  1     18560  ultralytics.nn.modules.conv.Conv             [32, 64, 3, 2]                \n",
      "  4                  -1  2     49664  ultralytics.nn.modules.block.C2f             [64, 64, 2, True]             \n",
      "  5                  -1  1     73984  ultralytics.nn.modules.conv.Conv             [64, 128, 3, 2]               \n",
      "  6                  -1  2    197632  ultralytics.nn.modules.block.C2f             [128, 128, 2, True]           \n",
      "  7                  -1  1    295424  ultralytics.nn.modules.conv.Conv             [128, 256, 3, 2]              \n",
      "  8                  -1  1    460288  ultralytics.nn.modules.block.C2f             [256, 256, 1, True]           \n",
      "  9                  -1  1    164608  ultralytics.nn.modules.block.SPPF            [256, 256, 5]                 \n",
      " 10                  -1  1         0  torch.nn.modules.upsampling.Upsample         [None, 2, 'nearest']          \n",
      " 11             [-1, 6]  1         0  ultralytics.nn.modules.conv.Concat           [1]                           \n",
      " 12                  -1  1    148224  ultralytics.nn.modules.block.C2f             [384, 128, 1]                 \n",
      " 13                  -1  1         0  torch.nn.modules.upsampling.Upsample         [None, 2, 'nearest']          \n",
      " 14             [-1, 4]  1         0  ultralytics.nn.modules.conv.Concat           [1]                           \n",
      " 15                  -1  1     37248  ultralytics.nn.modules.block.C2f             [192, 64, 1]                  \n",
      " 16                  -1  1     36992  ultralytics.nn.modules.conv.Conv             [64, 64, 3, 2]                \n",
      " 17            [-1, 12]  1         0  ultralytics.nn.modules.conv.Concat           [1]                           \n",
      " 18                  -1  1    123648  ultralytics.nn.modules.block.C2f             [192, 128, 1]                 \n",
      " 19                  -1  1    147712  ultralytics.nn.modules.conv.Conv             [128, 128, 3, 2]              \n",
      " 20             [-1, 9]  1         0  ultralytics.nn.modules.conv.Concat           [1]                           \n",
      " 21                  -1  1    493056  ultralytics.nn.modules.block.C2f             [384, 256, 1]                 \n",
      " 22        [15, 18, 21]  1    761842  ultralytics.nn.modules.head.Detect           [54, [64, 128, 256]]          \n",
      "Model summary: 225 layers, 3021378 parameters, 3021362 gradients\n",
      "\n",
      "Transferred 355/355 items from pretrained weights\n",
      "Freezing layer 'model.22.dfl.conv.weight'\n",
      "\u001b[34m\u001b[1mAMP: \u001b[0mrunning Automatic Mixed Precision (AMP) checks with YOLOv8n...\n",
      "\u001b[34m\u001b[1mAMP: \u001b[0mchecks passed \n",
      "\u001b[34m\u001b[1mAutoBatch: \u001b[0mComputing optimal batch size for imgsz=736 at 60.0% CUDA memory utilization.\n",
      "\u001b[34m\u001b[1mAutoBatch: \u001b[0mCUDA:0 (NVIDIA GeForce RTX 4070 Ti) 11.99G total, 0.91G reserved, 0.08G allocated, 11.01G free\n",
      "      Params      GFLOPs  GPU_mem (GB)  forward (ms) backward (ms)                   input                  output\n",
      "     3021378           0         1.143         22.35         80.07        (1, 3, 736, 736)                    list\n",
      "     3021378           0         0.690         12.01         13.68        (2, 3, 736, 736)                    list\n",
      "     3021378           0         1.093         13.01         15.35        (4, 3, 736, 736)                    list\n",
      "     3021378           0         1.653         15.01         21.69        (8, 3, 736, 736)                    list\n",
      "     3021378           0         3.043         27.69         38.04       (16, 3, 736, 736)                    list\n",
      "\u001b[34m\u001b[1mAutoBatch: \u001b[0mUsing batch-size 41 for CUDA:0 7.55G/11.99G (63%) \n"
     ]
    },
    {
     "name": "stderr",
     "output_type": "stream",
     "text": [
      "\u001b[34m\u001b[1mtrain: \u001b[0mScanning D:\\code\\workspace\\OneDragon-YOLO\\ultralytics\\datasets\\zzz_hollow_event_2208\\labels.cache... 2 images, 0 backgrounds, 0 corrupt: 100%|██████████| 2/2 [00:00<?, ?it/s]\u001b[0m\n",
      "\u001b[34m\u001b[1mval: \u001b[0mScanning D:\\code\\workspace\\OneDragon-YOLO\\ultralytics\\datasets\\zzz_hollow_event_2208\\labels.cache... 2 images, 0 backgrounds, 0 corrupt: 100%|██████████| 2/2 [00:00<?, ?it/s]\u001b[0m\n"
     ]
    },
    {
     "name": "stdout",
     "output_type": "stream",
     "text": [
      "Plotting labels to D:\\code\\workspace\\OneDragon-YOLO\\ultralytics\\runs\\zzz_hollow_event_2208\\yolov8n-640\\labels.jpg... \n",
      "\u001b[34m\u001b[1moptimizer:\u001b[0m 'optimizer=auto' found, ignoring 'lr0=0.01' and 'momentum=0.937' and determining best 'optimizer', 'lr0' and 'momentum' automatically... \n",
      "\u001b[34m\u001b[1moptimizer:\u001b[0m AdamW(lr=0.000172, momentum=0.9) with parameter groups 57 weight(decay=0.0), 64 weight(decay=0.000640625), 63 bias(decay=0.0)\n",
      "Image sizes 736 train, 736 val\n",
      "Using 8 dataloader workers\n",
      "Logging results to \u001b[1mD:\\code\\workspace\\OneDragon-YOLO\\ultralytics\\runs\\zzz_hollow_event_2208\\yolov8n-640\u001b[0m\n",
      "Starting training for 100 epochs...\n",
      "\n",
      "      Epoch    GPU_mem   box_loss   cls_loss   dfl_loss  Instances       Size\n"
     ]
    },
    {
     "name": "stderr",
     "output_type": "stream",
     "text": [
      "      1/100      1.08G      1.641      5.343      1.568         74        736: 100%|██████████| 1/1 [00:03<00:00,  3.08s/it]\n",
      "                 Class     Images  Instances      Box(P          R      mAP50  mAP50-95): 100%|██████████| 1/1 [00:00<00:00,  1.24it/s]"
     ]
    },
    {
     "name": "stdout",
     "output_type": "stream",
     "text": [
      "                   all          2         74          0          0          0          0\n"
     ]
    },
    {
     "name": "stderr",
     "output_type": "stream",
     "text": [
      "\n"
     ]
    },
    {
     "name": "stdout",
     "output_type": "stream",
     "text": [
      "\n",
      "      Epoch    GPU_mem   box_loss   cls_loss   dfl_loss  Instances       Size\n"
     ]
    },
    {
     "name": "stderr",
     "output_type": "stream",
     "text": [
      "      2/100     0.675G      1.631        5.4       1.57        100        736: 100%|██████████| 1/1 [00:00<00:00,  3.78it/s]\n",
      "                 Class     Images  Instances      Box(P          R      mAP50  mAP50-95): 100%|██████████| 1/1 [00:00<00:00, 29.38it/s]"
     ]
    },
    {
     "name": "stdout",
     "output_type": "stream",
     "text": [
      "                   all          2         74          0          0          0          0\n"
     ]
    },
    {
     "name": "stderr",
     "output_type": "stream",
     "text": [
      "\n"
     ]
    },
    {
     "name": "stdout",
     "output_type": "stream",
     "text": [
      "\n",
      "      Epoch    GPU_mem   box_loss   cls_loss   dfl_loss  Instances       Size\n"
     ]
    },
    {
     "name": "stderr",
     "output_type": "stream",
     "text": [
      "      3/100     0.675G      1.666      5.357      1.583         77        736: 100%|██████████| 1/1 [00:00<00:00,  9.08it/s]\n",
      "                 Class     Images  Instances      Box(P          R      mAP50  mAP50-95): 100%|██████████| 1/1 [00:00<00:00, 35.68it/s]"
     ]
    },
    {
     "name": "stdout",
     "output_type": "stream",
     "text": [
      "                   all          2         74          0          0          0          0\n"
     ]
    },
    {
     "name": "stderr",
     "output_type": "stream",
     "text": [
      "\n"
     ]
    },
    {
     "name": "stdout",
     "output_type": "stream",
     "text": [
      "\n",
      "      Epoch    GPU_mem   box_loss   cls_loss   dfl_loss  Instances       Size\n"
     ]
    },
    {
     "name": "stderr",
     "output_type": "stream",
     "text": [
      "      4/100     0.698G      1.691      5.321      1.572         85        736: 100%|██████████| 1/1 [00:00<00:00, 15.86it/s]\n",
      "                 Class     Images  Instances      Box(P          R      mAP50  mAP50-95): 100%|██████████| 1/1 [00:00<00:00, 43.83it/s]"
     ]
    },
    {
     "name": "stdout",
     "output_type": "stream",
     "text": [
      "                   all          2         74          0          0          0          0\n"
     ]
    },
    {
     "name": "stderr",
     "output_type": "stream",
     "text": [
      "\n"
     ]
    },
    {
     "name": "stdout",
     "output_type": "stream",
     "text": [
      "\n",
      "      Epoch    GPU_mem   box_loss   cls_loss   dfl_loss  Instances       Size\n"
     ]
    },
    {
     "name": "stderr",
     "output_type": "stream",
     "text": [
      "      5/100     0.663G      1.554      5.376      1.532         87        736: 100%|██████████| 1/1 [00:00<00:00, 16.24it/s]\n",
      "                 Class     Images  Instances      Box(P          R      mAP50  mAP50-95): 100%|██████████| 1/1 [00:00<00:00, 41.63it/s]"
     ]
    },
    {
     "name": "stdout",
     "output_type": "stream",
     "text": [
      "                   all          2         74          0          0          0          0\n"
     ]
    },
    {
     "name": "stderr",
     "output_type": "stream",
     "text": [
      "\n"
     ]
    },
    {
     "name": "stdout",
     "output_type": "stream",
     "text": [
      "\n",
      "      Epoch    GPU_mem   box_loss   cls_loss   dfl_loss  Instances       Size\n"
     ]
    },
    {
     "name": "stderr",
     "output_type": "stream",
     "text": [
      "      6/100     0.663G      1.584      5.365      1.523         89        736: 100%|██████████| 1/1 [00:00<00:00, 16.03it/s]\n",
      "                 Class     Images  Instances      Box(P          R      mAP50  mAP50-95): 100%|██████████| 1/1 [00:00<00:00, 41.63it/s]"
     ]
    },
    {
     "name": "stdout",
     "output_type": "stream",
     "text": [
      "                   all          2         74          0          0          0          0\n"
     ]
    },
    {
     "name": "stderr",
     "output_type": "stream",
     "text": [
      "\n"
     ]
    },
    {
     "name": "stdout",
     "output_type": "stream",
     "text": [
      "\n",
      "      Epoch    GPU_mem   box_loss   cls_loss   dfl_loss  Instances       Size\n"
     ]
    },
    {
     "name": "stderr",
     "output_type": "stream",
     "text": [
      "      7/100     0.663G      1.512      5.357      1.519         81        736: 100%|██████████| 1/1 [00:00<00:00, 15.37it/s]\n",
      "                 Class     Images  Instances      Box(P          R      mAP50  mAP50-95): 100%|██████████| 1/1 [00:00<00:00, 39.96it/s]"
     ]
    },
    {
     "name": "stdout",
     "output_type": "stream",
     "text": [
      "                   all          2         74          0          0          0          0\n"
     ]
    },
    {
     "name": "stderr",
     "output_type": "stream",
     "text": [
      "\n"
     ]
    },
    {
     "name": "stdout",
     "output_type": "stream",
     "text": [
      "\n",
      "      Epoch    GPU_mem   box_loss   cls_loss   dfl_loss  Instances       Size\n"
     ]
    },
    {
     "name": "stderr",
     "output_type": "stream",
     "text": [
      "      8/100     0.663G      1.432       5.34      1.477         84        736: 100%|██████████| 1/1 [00:00<00:00, 15.37it/s]\n",
      "                 Class     Images  Instances      Box(P          R      mAP50  mAP50-95): 100%|██████████| 1/1 [00:00<00:00, 39.96it/s]"
     ]
    },
    {
     "name": "stdout",
     "output_type": "stream",
     "text": [
      "                   all          2         74          0          0          0          0\n"
     ]
    },
    {
     "name": "stderr",
     "output_type": "stream",
     "text": [
      "\n"
     ]
    },
    {
     "name": "stdout",
     "output_type": "stream",
     "text": [
      "\n",
      "      Epoch    GPU_mem   box_loss   cls_loss   dfl_loss  Instances       Size\n"
     ]
    },
    {
     "name": "stderr",
     "output_type": "stream",
     "text": [
      "      9/100     0.663G      1.438      5.301      1.473         79        736: 100%|██████████| 1/1 [00:00<00:00, 15.47it/s]\n",
      "                 Class     Images  Instances      Box(P          R      mAP50  mAP50-95): 100%|██████████| 1/1 [00:00<00:00, 39.96it/s]"
     ]
    },
    {
     "name": "stdout",
     "output_type": "stream",
     "text": [
      "                   all          2         74          0          0          0          0\n"
     ]
    },
    {
     "name": "stderr",
     "output_type": "stream",
     "text": [
      "\n"
     ]
    },
    {
     "name": "stdout",
     "output_type": "stream",
     "text": [
      "\n",
      "      Epoch    GPU_mem   box_loss   cls_loss   dfl_loss  Instances       Size\n"
     ]
    },
    {
     "name": "stderr",
     "output_type": "stream",
     "text": [
      "     10/100     0.663G      1.332      5.329       1.41         84        736: 100%|██████████| 1/1 [00:00<00:00, 15.14it/s]\n",
      "                 Class     Images  Instances      Box(P          R      mAP50  mAP50-95): 100%|██████████| 1/1 [00:00<00:00, 39.96it/s]"
     ]
    },
    {
     "name": "stdout",
     "output_type": "stream",
     "text": [
      "                   all          2         74          0          0          0          0\n"
     ]
    },
    {
     "name": "stderr",
     "output_type": "stream",
     "text": [
      "\n"
     ]
    },
    {
     "name": "stdout",
     "output_type": "stream",
     "text": [
      "\n",
      "      Epoch    GPU_mem   box_loss   cls_loss   dfl_loss  Instances       Size\n"
     ]
    },
    {
     "name": "stderr",
     "output_type": "stream",
     "text": [
      "     11/100     0.663G      1.212      5.311      1.387         81        736: 100%|██████████| 1/1 [00:00<00:00,  7.57it/s]\n",
      "                 Class     Images  Instances      Box(P          R      mAP50  mAP50-95): 100%|██████████| 1/1 [00:00<00:00, 24.61it/s]\n"
     ]
    },
    {
     "name": "stdout",
     "output_type": "stream",
     "text": [
      "                   all          2         74          0          0          0          0\n",
      "\n",
      "      Epoch    GPU_mem   box_loss   cls_loss   dfl_loss  Instances       Size\n"
     ]
    },
    {
     "name": "stderr",
     "output_type": "stream",
     "text": [
      "     12/100     0.663G      1.249      5.252       1.33         98        736: 100%|██████████| 1/1 [00:00<00:00,  9.38it/s]\n",
      "                 Class     Images  Instances      Box(P          R      mAP50  mAP50-95): 100%|██████████| 1/1 [00:00<00:00, 30.28it/s]"
     ]
    },
    {
     "name": "stdout",
     "output_type": "stream",
     "text": [
      "                   all          2         74          0          0          0          0\n"
     ]
    },
    {
     "name": "stderr",
     "output_type": "stream",
     "text": [
      "\n"
     ]
    },
    {
     "name": "stdout",
     "output_type": "stream",
     "text": [
      "\n",
      "      Epoch    GPU_mem   box_loss   cls_loss   dfl_loss  Instances       Size\n"
     ]
    },
    {
     "name": "stderr",
     "output_type": "stream",
     "text": [
      "     13/100     0.663G      1.134       5.26       1.33         79        736: 100%|██████████| 1/1 [00:00<00:00,  9.89it/s]\n",
      "                 Class     Images  Instances      Box(P          R      mAP50  mAP50-95): 100%|██████████| 1/1 [00:00<00:00, 30.28it/s]"
     ]
    },
    {
     "name": "stdout",
     "output_type": "stream",
     "text": [
      "                   all          2         74          0          0          0          0\n"
     ]
    },
    {
     "name": "stderr",
     "output_type": "stream",
     "text": [
      "\n"
     ]
    },
    {
     "name": "stdout",
     "output_type": "stream",
     "text": [
      "\n",
      "      Epoch    GPU_mem   box_loss   cls_loss   dfl_loss  Instances       Size\n"
     ]
    },
    {
     "name": "stderr",
     "output_type": "stream",
     "text": [
      "     14/100     0.663G      1.068       5.23      1.295         77        736: 100%|██████████| 1/1 [00:00<00:00, 10.41it/s]\n",
      "                 Class     Images  Instances      Box(P          R      mAP50  mAP50-95): 100%|██████████| 1/1 [00:00<00:00, 33.30it/s]"
     ]
    },
    {
     "name": "stdout",
     "output_type": "stream",
     "text": [
      "                   all          2         74          0          0          0          0\n"
     ]
    },
    {
     "name": "stderr",
     "output_type": "stream",
     "text": [
      "\n"
     ]
    },
    {
     "name": "stdout",
     "output_type": "stream",
     "text": [
      "\n",
      "      Epoch    GPU_mem   box_loss   cls_loss   dfl_loss  Instances       Size\n"
     ]
    },
    {
     "name": "stderr",
     "output_type": "stream",
     "text": [
      "     15/100     0.663G      1.021      5.248      1.269         88        736: 100%|██████████| 1/1 [00:00<00:00,  9.79it/s]\n",
      "                 Class     Images  Instances      Box(P          R      mAP50  mAP50-95): 100%|██████████| 1/1 [00:00<00:00, 33.30it/s]"
     ]
    },
    {
     "name": "stdout",
     "output_type": "stream",
     "text": [
      "                   all          2         74          0          0          0          0\n"
     ]
    },
    {
     "name": "stderr",
     "output_type": "stream",
     "text": [
      "\n"
     ]
    },
    {
     "name": "stdout",
     "output_type": "stream",
     "text": [
      "\n",
      "      Epoch    GPU_mem   box_loss   cls_loss   dfl_loss  Instances       Size\n"
     ]
    },
    {
     "name": "stderr",
     "output_type": "stream",
     "text": [
      "     16/100     0.663G     0.9131       5.21      1.229         79        736: 100%|██████████| 1/1 [00:00<00:00,  9.83it/s]\n",
      "                 Class     Images  Instances      Box(P          R      mAP50  mAP50-95): 100%|██████████| 1/1 [00:00<00:00, 30.28it/s]"
     ]
    },
    {
     "name": "stdout",
     "output_type": "stream",
     "text": [
      "                   all          2         74          0          0          0          0\n"
     ]
    },
    {
     "name": "stderr",
     "output_type": "stream",
     "text": [
      "\n"
     ]
    },
    {
     "name": "stdout",
     "output_type": "stream",
     "text": [
      "\n",
      "      Epoch    GPU_mem   box_loss   cls_loss   dfl_loss  Instances       Size\n"
     ]
    },
    {
     "name": "stderr",
     "output_type": "stream",
     "text": [
      "     17/100     0.661G      1.017      5.183      1.234         93        736: 100%|██████████| 1/1 [00:00<00:00,  9.62it/s]\n",
      "                 Class     Images  Instances      Box(P          R      mAP50  mAP50-95): 100%|██████████| 1/1 [00:00<00:00, 33.30it/s]"
     ]
    },
    {
     "name": "stdout",
     "output_type": "stream",
     "text": [
      "                   all          2         74          0          0          0          0\n"
     ]
    },
    {
     "name": "stderr",
     "output_type": "stream",
     "text": [
      "\n"
     ]
    },
    {
     "name": "stdout",
     "output_type": "stream",
     "text": [
      "\n",
      "      Epoch    GPU_mem   box_loss   cls_loss   dfl_loss  Instances       Size\n"
     ]
    },
    {
     "name": "stderr",
     "output_type": "stream",
     "text": [
      "     18/100     0.663G     0.9112      5.113      1.159         85        736: 100%|██████████| 1/1 [00:00<00:00,  9.98it/s]\n",
      "                 Class     Images  Instances      Box(P          R      mAP50  mAP50-95): 100%|██████████| 1/1 [00:00<00:00, 33.30it/s]"
     ]
    },
    {
     "name": "stdout",
     "output_type": "stream",
     "text": [
      "                   all          2         74          0          0          0          0\n"
     ]
    },
    {
     "name": "stderr",
     "output_type": "stream",
     "text": [
      "\n"
     ]
    },
    {
     "name": "stdout",
     "output_type": "stream",
     "text": [
      "\n",
      "      Epoch    GPU_mem   box_loss   cls_loss   dfl_loss  Instances       Size\n"
     ]
    },
    {
     "name": "stderr",
     "output_type": "stream",
     "text": [
      "     19/100     0.663G     0.8551      5.131      1.154         81        736: 100%|██████████| 1/1 [00:00<00:00,  9.23it/s]\n",
      "                 Class     Images  Instances      Box(P          R      mAP50  mAP50-95): 100%|██████████| 1/1 [00:00<00:00, 31.22it/s]"
     ]
    },
    {
     "name": "stdout",
     "output_type": "stream",
     "text": [
      "                   all          2         74          0          0          0          0\n"
     ]
    },
    {
     "name": "stderr",
     "output_type": "stream",
     "text": [
      "\n"
     ]
    },
    {
     "name": "stdout",
     "output_type": "stream",
     "text": [
      "\n",
      "      Epoch    GPU_mem   box_loss   cls_loss   dfl_loss  Instances       Size\n"
     ]
    },
    {
     "name": "stderr",
     "output_type": "stream",
     "text": [
      "     20/100     0.663G     0.8726      5.038      1.128         76        736: 100%|██████████| 1/1 [00:00<00:00, 10.63it/s]\n",
      "                 Class     Images  Instances      Box(P          R      mAP50  mAP50-95): 100%|██████████| 1/1 [00:00<00:00, 36.19it/s]"
     ]
    },
    {
     "name": "stdout",
     "output_type": "stream",
     "text": [
      "                   all          2         74          0          0          0          0\n"
     ]
    },
    {
     "name": "stderr",
     "output_type": "stream",
     "text": [
      "\n"
     ]
    },
    {
     "name": "stdout",
     "output_type": "stream",
     "text": [
      "\n",
      "      Epoch    GPU_mem   box_loss   cls_loss   dfl_loss  Instances       Size\n"
     ]
    },
    {
     "name": "stderr",
     "output_type": "stream",
     "text": [
      "     21/100     0.663G     0.8054      5.059      1.102         79        736: 100%|██████████| 1/1 [00:00<00:00, 10.09it/s]\n",
      "                 Class     Images  Instances      Box(P          R      mAP50  mAP50-95): 100%|██████████| 1/1 [00:00<00:00, 35.68it/s]"
     ]
    },
    {
     "name": "stdout",
     "output_type": "stream",
     "text": [
      "                   all          2         74          0          0          0          0\n"
     ]
    },
    {
     "name": "stderr",
     "output_type": "stream",
     "text": [
      "\n"
     ]
    },
    {
     "name": "stdout",
     "output_type": "stream",
     "text": [
      "\n",
      "      Epoch    GPU_mem   box_loss   cls_loss   dfl_loss  Instances       Size\n"
     ]
    },
    {
     "name": "stderr",
     "output_type": "stream",
     "text": [
      "     22/100     0.663G     0.8068       5.07      1.106         91        736: 100%|██████████| 1/1 [00:00<00:00, 16.38it/s]\n",
      "                 Class     Images  Instances      Box(P          R      mAP50  mAP50-95): 100%|██████████| 1/1 [00:00<00:00, 45.41it/s]"
     ]
    },
    {
     "name": "stdout",
     "output_type": "stream",
     "text": [
      "                   all          2         74          0          0          0          0\n"
     ]
    },
    {
     "name": "stderr",
     "output_type": "stream",
     "text": [
      "\n"
     ]
    },
    {
     "name": "stdout",
     "output_type": "stream",
     "text": [
      "\n",
      "      Epoch    GPU_mem   box_loss   cls_loss   dfl_loss  Instances       Size\n"
     ]
    },
    {
     "name": "stderr",
     "output_type": "stream",
     "text": [
      "     23/100     0.663G     0.7437      4.916      1.021         78        736: 100%|██████████| 1/1 [00:00<00:00, 16.38it/s]\n",
      "                 Class     Images  Instances      Box(P          R      mAP50  mAP50-95): 100%|██████████| 1/1 [00:00<00:00, 41.63it/s]"
     ]
    },
    {
     "name": "stdout",
     "output_type": "stream",
     "text": [
      "                   all          2         74          0          0          0          0\n"
     ]
    },
    {
     "name": "stderr",
     "output_type": "stream",
     "text": [
      "\n"
     ]
    },
    {
     "name": "stdout",
     "output_type": "stream",
     "text": [
      "\n",
      "      Epoch    GPU_mem   box_loss   cls_loss   dfl_loss  Instances       Size\n"
     ]
    },
    {
     "name": "stderr",
     "output_type": "stream",
     "text": [
      "     24/100     0.663G     0.7626      5.024      1.076         90        736: 100%|██████████| 1/1 [00:00<00:00, 16.11it/s]\n",
      "                 Class     Images  Instances      Box(P          R      mAP50  mAP50-95): 100%|██████████| 1/1 [00:00<00:00, 39.97it/s]"
     ]
    },
    {
     "name": "stdout",
     "output_type": "stream",
     "text": [
      "                   all          2         74          0          0          0          0\n"
     ]
    },
    {
     "name": "stderr",
     "output_type": "stream",
     "text": [
      "\n"
     ]
    },
    {
     "name": "stdout",
     "output_type": "stream",
     "text": [
      "\n",
      "      Epoch    GPU_mem   box_loss   cls_loss   dfl_loss  Instances       Size\n"
     ]
    },
    {
     "name": "stderr",
     "output_type": "stream",
     "text": [
      "     25/100     0.663G     0.6578      4.887     0.9701         75        736: 100%|██████████| 1/1 [00:00<00:00, 15.73it/s]\n",
      "                 Class     Images  Instances      Box(P          R      mAP50  mAP50-95): 100%|██████████| 1/1 [00:00<00:00, 43.44it/s]"
     ]
    },
    {
     "name": "stdout",
     "output_type": "stream",
     "text": [
      "                   all          2         74          0          0          0          0\n"
     ]
    },
    {
     "name": "stderr",
     "output_type": "stream",
     "text": [
      "\n"
     ]
    },
    {
     "name": "stdout",
     "output_type": "stream",
     "text": [
      "\n",
      "      Epoch    GPU_mem   box_loss   cls_loss   dfl_loss  Instances       Size\n"
     ]
    },
    {
     "name": "stderr",
     "output_type": "stream",
     "text": [
      "     26/100     0.663G     0.6324      4.843     0.9509         77        736: 100%|██████████| 1/1 [00:00<00:00, 15.86it/s]\n",
      "                 Class     Images  Instances      Box(P          R      mAP50  mAP50-95): 100%|██████████| 1/1 [00:00<00:00, 43.44it/s]"
     ]
    },
    {
     "name": "stdout",
     "output_type": "stream",
     "text": [
      "                   all          2         74          0          0          0          0\n"
     ]
    },
    {
     "name": "stderr",
     "output_type": "stream",
     "text": [
      "\n"
     ]
    },
    {
     "name": "stdout",
     "output_type": "stream",
     "text": [
      "\n",
      "      Epoch    GPU_mem   box_loss   cls_loss   dfl_loss  Instances       Size\n"
     ]
    },
    {
     "name": "stderr",
     "output_type": "stream",
     "text": [
      "     27/100     0.663G     0.6803      4.928      1.005         94        736: 100%|██████████| 1/1 [00:00<00:00, 10.09it/s]\n",
      "                 Class     Images  Instances      Box(P          R      mAP50  mAP50-95): 100%|██████████| 1/1 [00:00<00:00, 34.45it/s]"
     ]
    },
    {
     "name": "stdout",
     "output_type": "stream",
     "text": [
      "                   all          2         74          0          0          0          0\n"
     ]
    },
    {
     "name": "stderr",
     "output_type": "stream",
     "text": [
      "\n"
     ]
    },
    {
     "name": "stdout",
     "output_type": "stream",
     "text": [
      "\n",
      "      Epoch    GPU_mem   box_loss   cls_loss   dfl_loss  Instances       Size\n"
     ]
    },
    {
     "name": "stderr",
     "output_type": "stream",
     "text": [
      "     28/100     0.663G     0.6237      4.793     0.9602         83        736: 100%|██████████| 1/1 [00:00<00:00, 10.30it/s]\n",
      "                 Class     Images  Instances      Box(P          R      mAP50  mAP50-95): 100%|██████████| 1/1 [00:00<00:00, 34.94it/s]"
     ]
    },
    {
     "name": "stdout",
     "output_type": "stream",
     "text": [
      "                   all          2         74          0          0          0          0\n"
     ]
    },
    {
     "name": "stderr",
     "output_type": "stream",
     "text": [
      "\n"
     ]
    },
    {
     "name": "stdout",
     "output_type": "stream",
     "text": [
      "\n",
      "      Epoch    GPU_mem   box_loss   cls_loss   dfl_loss  Instances       Size\n"
     ]
    },
    {
     "name": "stderr",
     "output_type": "stream",
     "text": [
      "     29/100     0.663G     0.7243      4.795     0.9578         88        736: 100%|██████████| 1/1 [00:00<00:00, 10.09it/s]\n",
      "                 Class     Images  Instances      Box(P          R      mAP50  mAP50-95): 100%|██████████| 1/1 [00:00<00:00, 34.45it/s]"
     ]
    },
    {
     "name": "stdout",
     "output_type": "stream",
     "text": [
      "                   all          2         74          0          0          0          0\n"
     ]
    },
    {
     "name": "stderr",
     "output_type": "stream",
     "text": [
      "\n"
     ]
    },
    {
     "name": "stdout",
     "output_type": "stream",
     "text": [
      "\n",
      "      Epoch    GPU_mem   box_loss   cls_loss   dfl_loss  Instances       Size\n"
     ]
    },
    {
     "name": "stderr",
     "output_type": "stream",
     "text": [
      "     30/100     0.663G     0.5912      4.714     0.9354         80        736: 100%|██████████| 1/1 [00:00<00:00, 10.38it/s]\n",
      "                 Class     Images  Instances      Box(P          R      mAP50  mAP50-95): 100%|██████████| 1/1 [00:00<00:00, 35.68it/s]"
     ]
    },
    {
     "name": "stdout",
     "output_type": "stream",
     "text": [
      "                   all          2         74          0          0          0          0\n"
     ]
    },
    {
     "name": "stderr",
     "output_type": "stream",
     "text": [
      "\n"
     ]
    },
    {
     "name": "stdout",
     "output_type": "stream",
     "text": [
      "\n",
      "      Epoch    GPU_mem   box_loss   cls_loss   dfl_loss  Instances       Size\n"
     ]
    },
    {
     "name": "stderr",
     "output_type": "stream",
     "text": [
      "     31/100     0.663G     0.5812       4.68     0.9185         78        736: 100%|██████████| 1/1 [00:00<00:00, 10.35it/s]\n",
      "                 Class     Images  Instances      Box(P          R      mAP50  mAP50-95): 100%|██████████| 1/1 [00:00<00:00, 33.30it/s]"
     ]
    },
    {
     "name": "stdout",
     "output_type": "stream",
     "text": [
      "                   all          2         74          0          0          0          0\n"
     ]
    },
    {
     "name": "stderr",
     "output_type": "stream",
     "text": [
      "\n"
     ]
    },
    {
     "name": "stdout",
     "output_type": "stream",
     "text": [
      "\n",
      "      Epoch    GPU_mem   box_loss   cls_loss   dfl_loss  Instances       Size\n"
     ]
    },
    {
     "name": "stderr",
     "output_type": "stream",
     "text": [
      "     32/100     0.663G     0.5602      4.644     0.8937         78        736: 100%|██████████| 1/1 [00:00<00:00,  9.08it/s]\n",
      "                 Class     Images  Instances      Box(P          R      mAP50  mAP50-95): 100%|██████████| 1/1 [00:00<00:00, 22.20it/s]"
     ]
    },
    {
     "name": "stdout",
     "output_type": "stream",
     "text": [
      "                   all          2         74          0          0          0          0\n"
     ]
    },
    {
     "name": "stderr",
     "output_type": "stream",
     "text": [
      "\n"
     ]
    },
    {
     "name": "stdout",
     "output_type": "stream",
     "text": [
      "\n",
      "      Epoch    GPU_mem   box_loss   cls_loss   dfl_loss  Instances       Size\n"
     ]
    },
    {
     "name": "stderr",
     "output_type": "stream",
     "text": [
      "     33/100     0.663G      0.642      4.738     0.9644         93        736: 100%|██████████| 1/1 [00:00<00:00,  9.52it/s]\n",
      "                 Class     Images  Instances      Box(P          R      mAP50  mAP50-95): 100%|██████████| 1/1 [00:00<00:00, 33.30it/s]"
     ]
    },
    {
     "name": "stdout",
     "output_type": "stream",
     "text": [
      "                   all          2         74          0          0          0          0\n"
     ]
    },
    {
     "name": "stderr",
     "output_type": "stream",
     "text": [
      "\n"
     ]
    },
    {
     "name": "stdout",
     "output_type": "stream",
     "text": [
      "\n",
      "      Epoch    GPU_mem   box_loss   cls_loss   dfl_loss  Instances       Size\n"
     ]
    },
    {
     "name": "stderr",
     "output_type": "stream",
     "text": [
      "     34/100     0.663G     0.5728      4.665     0.8995         85        736: 100%|██████████| 1/1 [00:00<00:00, 10.52it/s]\n",
      "                 Class     Images  Instances      Box(P          R      mAP50  mAP50-95): 100%|██████████| 1/1 [00:00<00:00, 34.45it/s]"
     ]
    },
    {
     "name": "stdout",
     "output_type": "stream",
     "text": [
      "                   all          2         74          0          0          0          0\n"
     ]
    },
    {
     "name": "stderr",
     "output_type": "stream",
     "text": [
      "\n"
     ]
    },
    {
     "name": "stdout",
     "output_type": "stream",
     "text": [
      "\n",
      "      Epoch    GPU_mem   box_loss   cls_loss   dfl_loss  Instances       Size\n"
     ]
    },
    {
     "name": "stderr",
     "output_type": "stream",
     "text": [
      "     35/100     0.663G     0.4969      4.578     0.9009         78        736: 100%|██████████| 1/1 [00:00<00:00,  9.99it/s]\n",
      "                 Class     Images  Instances      Box(P          R      mAP50  mAP50-95): 100%|██████████| 1/1 [00:00<00:00, 31.22it/s]"
     ]
    },
    {
     "name": "stdout",
     "output_type": "stream",
     "text": [
      "                   all          2         74          0          0          0          0\n"
     ]
    },
    {
     "name": "stderr",
     "output_type": "stream",
     "text": [
      "\n"
     ]
    },
    {
     "name": "stdout",
     "output_type": "stream",
     "text": [
      "\n",
      "      Epoch    GPU_mem   box_loss   cls_loss   dfl_loss  Instances       Size\n"
     ]
    },
    {
     "name": "stderr",
     "output_type": "stream",
     "text": [
      "     36/100     0.663G     0.5887      4.679      0.948         93        736: 100%|██████████| 1/1 [00:00<00:00, 10.30it/s]\n",
      "                 Class     Images  Instances      Box(P          R      mAP50  mAP50-95): 100%|██████████| 1/1 [00:00<00:00, 35.68it/s]"
     ]
    },
    {
     "name": "stdout",
     "output_type": "stream",
     "text": [
      "                   all          2         74          0          0          0          0\n"
     ]
    },
    {
     "name": "stderr",
     "output_type": "stream",
     "text": [
      "\n"
     ]
    },
    {
     "name": "stdout",
     "output_type": "stream",
     "text": [
      "\n",
      "      Epoch    GPU_mem   box_loss   cls_loss   dfl_loss  Instances       Size\n"
     ]
    },
    {
     "name": "stderr",
     "output_type": "stream",
     "text": [
      "     37/100     0.663G     0.5242      4.581     0.9144         88        736: 100%|██████████| 1/1 [00:00<00:00, 10.30it/s]\n",
      "                 Class     Images  Instances      Box(P          R      mAP50  mAP50-95): 100%|██████████| 1/1 [00:00<00:00, 32.71it/s]"
     ]
    },
    {
     "name": "stdout",
     "output_type": "stream",
     "text": [
      "                   all          2         74          0          0          0          0\n"
     ]
    },
    {
     "name": "stderr",
     "output_type": "stream",
     "text": [
      "\n"
     ]
    },
    {
     "name": "stdout",
     "output_type": "stream",
     "text": [
      "\n",
      "      Epoch    GPU_mem   box_loss   cls_loss   dfl_loss  Instances       Size\n"
     ]
    },
    {
     "name": "stderr",
     "output_type": "stream",
     "text": [
      "     38/100     0.663G     0.5318       4.59     0.9247         89        736: 100%|██████████| 1/1 [00:00<00:00,  7.93it/s]\n",
      "                 Class     Images  Instances      Box(P          R      mAP50  mAP50-95): 100%|██████████| 1/1 [00:00<00:00, 34.45it/s]"
     ]
    },
    {
     "name": "stdout",
     "output_type": "stream",
     "text": [
      "                   all          2         74          0          0          0          0\n"
     ]
    },
    {
     "name": "stderr",
     "output_type": "stream",
     "text": [
      "\n"
     ]
    },
    {
     "name": "stdout",
     "output_type": "stream",
     "text": [
      "\n",
      "      Epoch    GPU_mem   box_loss   cls_loss   dfl_loss  Instances       Size\n"
     ]
    },
    {
     "name": "stderr",
     "output_type": "stream",
     "text": [
      "     39/100     0.663G     0.5003      4.562     0.9226         92        736: 100%|██████████| 1/1 [00:00<00:00, 10.41it/s]\n",
      "                 Class     Images  Instances      Box(P          R      mAP50  mAP50-95): 100%|██████████| 1/1 [00:00<00:00, 35.68it/s]"
     ]
    },
    {
     "name": "stdout",
     "output_type": "stream",
     "text": [
      "                   all          2         74          0          0          0          0\n"
     ]
    },
    {
     "name": "stderr",
     "output_type": "stream",
     "text": [
      "\n"
     ]
    },
    {
     "name": "stdout",
     "output_type": "stream",
     "text": [
      "\n",
      "      Epoch    GPU_mem   box_loss   cls_loss   dfl_loss  Instances       Size\n"
     ]
    },
    {
     "name": "stderr",
     "output_type": "stream",
     "text": [
      "     40/100     0.663G     0.4463      4.481     0.8922         86        736: 100%|██████████| 1/1 [00:00<00:00, 10.07it/s]\n",
      "                 Class     Images  Instances      Box(P          R      mAP50  mAP50-95): 100%|██████████| 1/1 [00:00<00:00, 35.68it/s]"
     ]
    },
    {
     "name": "stdout",
     "output_type": "stream",
     "text": [
      "                   all          2         74          0          0          0          0\n"
     ]
    },
    {
     "name": "stderr",
     "output_type": "stream",
     "text": [
      "\n"
     ]
    },
    {
     "name": "stdout",
     "output_type": "stream",
     "text": [
      "\n",
      "      Epoch    GPU_mem   box_loss   cls_loss   dfl_loss  Instances       Size\n"
     ]
    },
    {
     "name": "stderr",
     "output_type": "stream",
     "text": [
      "     41/100     0.663G     0.4546      4.406     0.8819         84        736: 100%|██████████| 1/1 [00:00<00:00, 10.41it/s]\n",
      "                 Class     Images  Instances      Box(P          R      mAP50  mAP50-95): 100%|██████████| 1/1 [00:00<00:00, 35.68it/s]"
     ]
    },
    {
     "name": "stdout",
     "output_type": "stream",
     "text": [
      "                   all          2         74          0          0          0          0\n"
     ]
    },
    {
     "name": "stderr",
     "output_type": "stream",
     "text": [
      "\n"
     ]
    },
    {
     "name": "stdout",
     "output_type": "stream",
     "text": [
      "\n",
      "      Epoch    GPU_mem   box_loss   cls_loss   dfl_loss  Instances       Size\n"
     ]
    },
    {
     "name": "stderr",
     "output_type": "stream",
     "text": [
      "     42/100     0.663G     0.4544      4.359      0.878         82        736: 100%|██████████| 1/1 [00:00<00:00, 10.52it/s]\n",
      "                 Class     Images  Instances      Box(P          R      mAP50  mAP50-95): 100%|██████████| 1/1 [00:00<00:00, 34.45it/s]"
     ]
    },
    {
     "name": "stdout",
     "output_type": "stream",
     "text": [
      "                   all          2         74          0          0          0          0\n"
     ]
    },
    {
     "name": "stderr",
     "output_type": "stream",
     "text": [
      "\n"
     ]
    },
    {
     "name": "stdout",
     "output_type": "stream",
     "text": [
      "\n",
      "      Epoch    GPU_mem   box_loss   cls_loss   dfl_loss  Instances       Size\n"
     ]
    },
    {
     "name": "stderr",
     "output_type": "stream",
     "text": [
      "     43/100     0.663G     0.5083      4.394     0.9048         84        736: 100%|██████████| 1/1 [00:00<00:00, 10.67it/s]\n",
      "                 Class     Images  Instances      Box(P          R      mAP50  mAP50-95): 100%|██████████| 1/1 [00:00<00:00, 35.68it/s]"
     ]
    },
    {
     "name": "stdout",
     "output_type": "stream",
     "text": [
      "                   all          2         74          0          0          0          0\n"
     ]
    },
    {
     "name": "stderr",
     "output_type": "stream",
     "text": [
      "\n"
     ]
    },
    {
     "name": "stdout",
     "output_type": "stream",
     "text": [
      "\n",
      "      Epoch    GPU_mem   box_loss   cls_loss   dfl_loss  Instances       Size\n"
     ]
    },
    {
     "name": "stderr",
     "output_type": "stream",
     "text": [
      "     44/100     0.663G     0.4685      4.341     0.8647         82        736: 100%|██████████| 1/1 [00:00<00:00, 10.06it/s]\n",
      "                 Class     Images  Instances      Box(P          R      mAP50  mAP50-95): 100%|██████████| 1/1 [00:00<00:00, 35.68it/s]"
     ]
    },
    {
     "name": "stdout",
     "output_type": "stream",
     "text": [
      "                   all          2         74          0          0          0          0\n"
     ]
    },
    {
     "name": "stderr",
     "output_type": "stream",
     "text": [
      "\n"
     ]
    },
    {
     "name": "stdout",
     "output_type": "stream",
     "text": [
      "\n",
      "      Epoch    GPU_mem   box_loss   cls_loss   dfl_loss  Instances       Size\n"
     ]
    },
    {
     "name": "stderr",
     "output_type": "stream",
     "text": [
      "     45/100     0.663G     0.4374      4.343     0.8466         84        736: 100%|██████████| 1/1 [00:00<00:00,  9.84it/s]\n",
      "                 Class     Images  Instances      Box(P          R      mAP50  mAP50-95): 100%|██████████| 1/1 [00:00<00:00, 35.14it/s]"
     ]
    },
    {
     "name": "stdout",
     "output_type": "stream",
     "text": [
      "                   all          2         74          0          0          0          0\n"
     ]
    },
    {
     "name": "stderr",
     "output_type": "stream",
     "text": [
      "\n"
     ]
    },
    {
     "name": "stdout",
     "output_type": "stream",
     "text": [
      "\n",
      "      Epoch    GPU_mem   box_loss   cls_loss   dfl_loss  Instances       Size\n"
     ]
    },
    {
     "name": "stderr",
     "output_type": "stream",
     "text": [
      "     46/100     0.663G     0.4598      4.331     0.9011         87        736: 100%|██████████| 1/1 [00:00<00:00, 10.23it/s]\n",
      "                 Class     Images  Instances      Box(P          R      mAP50  mAP50-95): 100%|██████████| 1/1 [00:00<00:00, 34.94it/s]"
     ]
    },
    {
     "name": "stdout",
     "output_type": "stream",
     "text": [
      "                   all          2         74          0          0          0          0\n"
     ]
    },
    {
     "name": "stderr",
     "output_type": "stream",
     "text": [
      "\n"
     ]
    },
    {
     "name": "stdout",
     "output_type": "stream",
     "text": [
      "\n",
      "      Epoch    GPU_mem   box_loss   cls_loss   dfl_loss  Instances       Size\n"
     ]
    },
    {
     "name": "stderr",
     "output_type": "stream",
     "text": [
      "     47/100     0.663G     0.3812      4.196     0.8381         79        736: 100%|██████████| 1/1 [00:00<00:00, 10.08it/s]\n",
      "                 Class     Images  Instances      Box(P          R      mAP50  mAP50-95): 100%|██████████| 1/1 [00:00<00:00, 33.30it/s]"
     ]
    },
    {
     "name": "stdout",
     "output_type": "stream",
     "text": [
      "                   all          2         74          0          0          0          0\n"
     ]
    },
    {
     "name": "stderr",
     "output_type": "stream",
     "text": [
      "\n"
     ]
    },
    {
     "name": "stdout",
     "output_type": "stream",
     "text": [
      "\n",
      "      Epoch    GPU_mem   box_loss   cls_loss   dfl_loss  Instances       Size\n"
     ]
    },
    {
     "name": "stderr",
     "output_type": "stream",
     "text": [
      "     48/100     0.663G     0.3827      4.193      0.852         79        736: 100%|██████████| 1/1 [00:00<00:00,  9.38it/s]\n",
      "                 Class     Images  Instances      Box(P          R      mAP50  mAP50-95): 100%|██████████| 1/1 [00:00<00:00, 30.27it/s]"
     ]
    },
    {
     "name": "stdout",
     "output_type": "stream",
     "text": [
      "                   all          2         74          0          0          0          0\n"
     ]
    },
    {
     "name": "stderr",
     "output_type": "stream",
     "text": [
      "\n"
     ]
    },
    {
     "name": "stdout",
     "output_type": "stream",
     "text": [
      "\n",
      "      Epoch    GPU_mem   box_loss   cls_loss   dfl_loss  Instances       Size\n"
     ]
    },
    {
     "name": "stderr",
     "output_type": "stream",
     "text": [
      "     49/100     0.663G      0.363      4.093     0.8225         76        736: 100%|██████████| 1/1 [00:00<00:00,  9.12it/s]\n",
      "                 Class     Images  Instances      Box(P          R      mAP50  mAP50-95): 100%|██████████| 1/1 [00:00<00:00, 29.73it/s]"
     ]
    },
    {
     "name": "stdout",
     "output_type": "stream",
     "text": [
      "                   all          2         74          0          0          0          0\n"
     ]
    },
    {
     "name": "stderr",
     "output_type": "stream",
     "text": [
      "\n"
     ]
    },
    {
     "name": "stdout",
     "output_type": "stream",
     "text": [
      "\n",
      "      Epoch    GPU_mem   box_loss   cls_loss   dfl_loss  Instances       Size\n"
     ]
    },
    {
     "name": "stderr",
     "output_type": "stream",
     "text": [
      "     50/100     0.663G     0.3501      4.054     0.8401         76        736: 100%|██████████| 1/1 [00:00<00:00, 16.11it/s]\n",
      "                 Class     Images  Instances      Box(P          R      mAP50  mAP50-95): 100%|██████████| 1/1 [00:00<00:00, 43.44it/s]"
     ]
    },
    {
     "name": "stdout",
     "output_type": "stream",
     "text": [
      "                   all          2         74          0          0          0          0\n"
     ]
    },
    {
     "name": "stderr",
     "output_type": "stream",
     "text": [
      "\n"
     ]
    },
    {
     "name": "stdout",
     "output_type": "stream",
     "text": [
      "\n",
      "      Epoch    GPU_mem   box_loss   cls_loss   dfl_loss  Instances       Size\n"
     ]
    },
    {
     "name": "stderr",
     "output_type": "stream",
     "text": [
      "     51/100     0.663G     0.4163      4.111     0.8571         82        736: 100%|██████████| 1/1 [00:00<00:00, 16.38it/s]\n",
      "                 Class     Images  Instances      Box(P          R      mAP50  mAP50-95): 100%|██████████| 1/1 [00:00<00:00, 45.41it/s]"
     ]
    },
    {
     "name": "stdout",
     "output_type": "stream",
     "text": [
      "                   all          2         74          0          0          0          0\n"
     ]
    },
    {
     "name": "stderr",
     "output_type": "stream",
     "text": [
      "\n"
     ]
    },
    {
     "name": "stdout",
     "output_type": "stream",
     "text": [
      "\n",
      "      Epoch    GPU_mem   box_loss   cls_loss   dfl_loss  Instances       Size\n"
     ]
    },
    {
     "name": "stderr",
     "output_type": "stream",
     "text": [
      "     52/100     0.663G     0.4198      4.044     0.8665         80        736: 100%|██████████| 1/1 [00:00<00:00, 16.11it/s]\n",
      "                 Class     Images  Instances      Box(P          R      mAP50  mAP50-95): 100%|██████████| 1/1 [00:00<00:00, 36.98it/s]"
     ]
    },
    {
     "name": "stdout",
     "output_type": "stream",
     "text": [
      "                   all          2         74          0          0          0          0\n"
     ]
    },
    {
     "name": "stderr",
     "output_type": "stream",
     "text": [
      "\n"
     ]
    },
    {
     "name": "stdout",
     "output_type": "stream",
     "text": [
      "\n",
      "      Epoch    GPU_mem   box_loss   cls_loss   dfl_loss  Instances       Size\n"
     ]
    },
    {
     "name": "stderr",
     "output_type": "stream",
     "text": [
      "     53/100     0.663G      0.342      3.921     0.8264         75        736: 100%|██████████| 1/1 [00:00<00:00, 15.71it/s]\n",
      "                 Class     Images  Instances      Box(P          R      mAP50  mAP50-95): 100%|██████████| 1/1 [00:00<00:00, 33.30it/s]"
     ]
    },
    {
     "name": "stdout",
     "output_type": "stream",
     "text": [
      "                   all          2         74          0          0          0          0\n"
     ]
    },
    {
     "name": "stderr",
     "output_type": "stream",
     "text": [
      "\n"
     ]
    },
    {
     "name": "stdout",
     "output_type": "stream",
     "text": [
      "\n",
      "      Epoch    GPU_mem   box_loss   cls_loss   dfl_loss  Instances       Size\n"
     ]
    },
    {
     "name": "stderr",
     "output_type": "stream",
     "text": [
      "     54/100     0.663G     0.3957      4.086     0.8717         86        736: 100%|██████████| 1/1 [00:00<00:00, 11.35it/s]\n",
      "                 Class     Images  Instances      Box(P          R      mAP50  mAP50-95): 100%|██████████| 1/1 [00:00<00:00, 32.23it/s]"
     ]
    },
    {
     "name": "stdout",
     "output_type": "stream",
     "text": [
      "                   all          2         74     0.0435    0.00932     0.0264     0.0238\n"
     ]
    },
    {
     "name": "stderr",
     "output_type": "stream",
     "text": [
      "\n"
     ]
    },
    {
     "name": "stdout",
     "output_type": "stream",
     "text": [
      "\n",
      "      Epoch    GPU_mem   box_loss   cls_loss   dfl_loss  Instances       Size\n"
     ]
    },
    {
     "name": "stderr",
     "output_type": "stream",
     "text": [
      "     55/100     0.663G     0.4301      4.092     0.8861         92        736: 100%|██████████| 1/1 [00:00<00:00, 16.11it/s]\n",
      "                 Class     Images  Instances      Box(P          R      mAP50  mAP50-95): 100%|██████████| 1/1 [00:00<00:00, 33.30it/s]"
     ]
    },
    {
     "name": "stdout",
     "output_type": "stream",
     "text": [
      "                   all          2         74     0.0435     0.0248     0.0342     0.0321\n"
     ]
    },
    {
     "name": "stderr",
     "output_type": "stream",
     "text": [
      "\n"
     ]
    },
    {
     "name": "stdout",
     "output_type": "stream",
     "text": [
      "\n",
      "      Epoch    GPU_mem   box_loss   cls_loss   dfl_loss  Instances       Size\n"
     ]
    },
    {
     "name": "stderr",
     "output_type": "stream",
     "text": [
      "     56/100     0.663G     0.3999      3.946     0.8513         85        736: 100%|██████████| 1/1 [00:00<00:00, 14.69it/s]\n",
      "                 Class     Images  Instances      Box(P          R      mAP50  mAP50-95): 100%|██████████| 1/1 [00:00<00:00, 38.43it/s]"
     ]
    },
    {
     "name": "stdout",
     "output_type": "stream",
     "text": [
      "                   all          2         74     0.0435     0.0311     0.0373     0.0348\n"
     ]
    },
    {
     "name": "stderr",
     "output_type": "stream",
     "text": [
      "\n"
     ]
    },
    {
     "name": "stdout",
     "output_type": "stream",
     "text": [
      "\n",
      "      Epoch    GPU_mem   box_loss   cls_loss   dfl_loss  Instances       Size\n"
     ]
    },
    {
     "name": "stderr",
     "output_type": "stream",
     "text": [
      "     57/100     0.663G     0.3827      3.892     0.8504         82        736: 100%|██████████| 1/1 [00:00<00:00, 14.27it/s]\n",
      "                 Class     Images  Instances      Box(P          R      mAP50  mAP50-95): 100%|██████████| 1/1 [00:00<00:00, 37.00it/s]"
     ]
    },
    {
     "name": "stdout",
     "output_type": "stream",
     "text": [
      "                   all          2         74     0.0435     0.0373     0.0404     0.0375\n"
     ]
    },
    {
     "name": "stderr",
     "output_type": "stream",
     "text": [
      "\n"
     ]
    },
    {
     "name": "stdout",
     "output_type": "stream",
     "text": [
      "\n",
      "      Epoch    GPU_mem   box_loss   cls_loss   dfl_loss  Instances       Size\n"
     ]
    },
    {
     "name": "stderr",
     "output_type": "stream",
     "text": [
      "     58/100     0.663G     0.3413      3.776     0.8229         77        736: 100%|██████████| 1/1 [00:00<00:00, 14.91it/s]\n",
      "                 Class     Images  Instances      Box(P          R      mAP50  mAP50-95): 100%|██████████| 1/1 [00:00<00:00, 37.00it/s]"
     ]
    },
    {
     "name": "stdout",
     "output_type": "stream",
     "text": [
      "                   all          2         74     0.0435     0.0373     0.0404     0.0375\n"
     ]
    },
    {
     "name": "stderr",
     "output_type": "stream",
     "text": [
      "\n"
     ]
    },
    {
     "name": "stdout",
     "output_type": "stream",
     "text": [
      "\n",
      "      Epoch    GPU_mem   box_loss   cls_loss   dfl_loss  Instances       Size\n"
     ]
    },
    {
     "name": "stderr",
     "output_type": "stream",
     "text": [
      "     59/100     0.663G     0.3331      3.736     0.8275         78        736: 100%|██████████| 1/1 [00:00<00:00, 14.27it/s]\n",
      "                 Class     Images  Instances      Box(P          R      mAP50  mAP50-95): 100%|██████████| 1/1 [00:00<00:00, 37.00it/s]"
     ]
    },
    {
     "name": "stdout",
     "output_type": "stream",
     "text": [
      "                   all          2         74     0.0401     0.0373     0.0401     0.0373\n"
     ]
    },
    {
     "name": "stderr",
     "output_type": "stream",
     "text": [
      "\n"
     ]
    },
    {
     "name": "stdout",
     "output_type": "stream",
     "text": [
      "\n",
      "      Epoch    GPU_mem   box_loss   cls_loss   dfl_loss  Instances       Size\n"
     ]
    },
    {
     "name": "stderr",
     "output_type": "stream",
     "text": [
      "     60/100     0.663G     0.3372       3.74     0.8544         81        736: 100%|██████████| 1/1 [00:00<00:00,  9.67it/s]\n",
      "                 Class     Images  Instances      Box(P          R      mAP50  mAP50-95): 100%|██████████| 1/1 [00:00<00:00, 30.27it/s]"
     ]
    },
    {
     "name": "stdout",
     "output_type": "stream",
     "text": [
      "                   all          2         74     0.0401     0.0373     0.0401     0.0373\n"
     ]
    },
    {
     "name": "stderr",
     "output_type": "stream",
     "text": [
      "\n"
     ]
    },
    {
     "name": "stdout",
     "output_type": "stream",
     "text": [
      "\n",
      "      Epoch    GPU_mem   box_loss   cls_loss   dfl_loss  Instances       Size\n"
     ]
    },
    {
     "name": "stderr",
     "output_type": "stream",
     "text": [
      "     61/100     0.663G     0.4014      3.747     0.8523         82        736: 100%|██████████| 1/1 [00:00<00:00,  8.22it/s]\n",
      "                 Class     Images  Instances      Box(P          R      mAP50  mAP50-95): 100%|██████████| 1/1 [00:00<00:00, 25.62it/s]"
     ]
    },
    {
     "name": "stdout",
     "output_type": "stream",
     "text": [
      "                   all          2         74      0.038     0.0435     0.0429     0.0398\n"
     ]
    },
    {
     "name": "stderr",
     "output_type": "stream",
     "text": [
      "\n"
     ]
    },
    {
     "name": "stdout",
     "output_type": "stream",
     "text": [
      "\n",
      "      Epoch    GPU_mem   box_loss   cls_loss   dfl_loss  Instances       Size\n"
     ]
    },
    {
     "name": "stderr",
     "output_type": "stream",
     "text": [
      "     62/100     0.663G     0.3451       3.59      0.804         78        736: 100%|██████████| 1/1 [00:00<00:00,  9.85it/s]\n",
      "                 Class     Images  Instances      Box(P          R      mAP50  mAP50-95): 100%|██████████| 1/1 [00:00<00:00, 27.34it/s]"
     ]
    },
    {
     "name": "stdout",
     "output_type": "stream",
     "text": [
      "                   all          2         74     0.0304     0.0435     0.0429     0.0397\n"
     ]
    },
    {
     "name": "stderr",
     "output_type": "stream",
     "text": [
      "\n"
     ]
    },
    {
     "name": "stdout",
     "output_type": "stream",
     "text": [
      "\n",
      "      Epoch    GPU_mem   box_loss   cls_loss   dfl_loss  Instances       Size\n"
     ]
    },
    {
     "name": "stderr",
     "output_type": "stream",
     "text": [
      "     63/100     0.663G     0.4409      3.875     0.8852         93        736: 100%|██████████| 1/1 [00:00<00:00, 10.30it/s]\n",
      "                 Class     Images  Instances      Box(P          R      mAP50  mAP50-95): 100%|██████████| 1/1 [00:00<00:00, 28.54it/s]"
     ]
    },
    {
     "name": "stdout",
     "output_type": "stream",
     "text": [
      "                   all          2         74     0.0277     0.0435     0.0429     0.0394\n"
     ]
    },
    {
     "name": "stderr",
     "output_type": "stream",
     "text": [
      "\n"
     ]
    },
    {
     "name": "stdout",
     "output_type": "stream",
     "text": [
      "\n",
      "      Epoch    GPU_mem   box_loss   cls_loss   dfl_loss  Instances       Size\n"
     ]
    },
    {
     "name": "stderr",
     "output_type": "stream",
     "text": [
      "     64/100     0.663G     0.3457      3.567     0.8183         81        736: 100%|██████████| 1/1 [00:00<00:00,  9.79it/s]\n",
      "                 Class     Images  Instances      Box(P          R      mAP50  mAP50-95): 100%|██████████| 1/1 [00:00<00:00, 28.54it/s]"
     ]
    },
    {
     "name": "stdout",
     "output_type": "stream",
     "text": [
      "                   all          2         74     0.0254     0.0435     0.0431     0.0398\n"
     ]
    },
    {
     "name": "stderr",
     "output_type": "stream",
     "text": [
      "\n"
     ]
    },
    {
     "name": "stdout",
     "output_type": "stream",
     "text": [
      "\n",
      "      Epoch    GPU_mem   box_loss   cls_loss   dfl_loss  Instances       Size\n"
     ]
    },
    {
     "name": "stderr",
     "output_type": "stream",
     "text": [
      "     65/100     0.663G     0.3803      3.668       0.85         87        736: 100%|██████████| 1/1 [00:00<00:00,  9.89it/s]\n",
      "                 Class     Images  Instances      Box(P          R      mAP50  mAP50-95): 100%|██████████| 1/1 [00:00<00:00, 27.00it/s]"
     ]
    },
    {
     "name": "stdout",
     "output_type": "stream",
     "text": [
      "                   all          2         74     0.0645      0.087     0.0863       0.07\n"
     ]
    },
    {
     "name": "stderr",
     "output_type": "stream",
     "text": [
      "\n"
     ]
    },
    {
     "name": "stdout",
     "output_type": "stream",
     "text": [
      "\n",
      "      Epoch    GPU_mem   box_loss   cls_loss   dfl_loss  Instances       Size\n"
     ]
    },
    {
     "name": "stderr",
     "output_type": "stream",
     "text": [
      "     66/100     0.663G     0.3686      3.443     0.8279         79        736: 100%|██████████| 1/1 [00:00<00:00,  6.28it/s]\n",
      "                 Class     Images  Instances      Box(P          R      mAP50  mAP50-95): 100%|██████████| 1/1 [00:00<00:00, 27.75it/s]"
     ]
    },
    {
     "name": "stdout",
     "output_type": "stream",
     "text": [
      "                   all          2         74     0.0631      0.087     0.0865       0.07\n"
     ]
    },
    {
     "name": "stderr",
     "output_type": "stream",
     "text": [
      "\n"
     ]
    },
    {
     "name": "stdout",
     "output_type": "stream",
     "text": [
      "\n",
      "      Epoch    GPU_mem   box_loss   cls_loss   dfl_loss  Instances       Size\n"
     ]
    },
    {
     "name": "stderr",
     "output_type": "stream",
     "text": [
      "     67/100     0.663G     0.4139      3.568     0.8587         87        736: 100%|██████████| 1/1 [00:00<00:00, 16.38it/s]\n",
      "                 Class     Images  Instances      Box(P          R      mAP50  mAP50-95): 100%|██████████| 1/1 [00:00<00:00, 37.00it/s]"
     ]
    },
    {
     "name": "stdout",
     "output_type": "stream",
     "text": [
      "                   all          2         74     0.0975       0.13       0.11     0.0979\n"
     ]
    },
    {
     "name": "stderr",
     "output_type": "stream",
     "text": [
      "\n"
     ]
    },
    {
     "name": "stdout",
     "output_type": "stream",
     "text": [
      "\n",
      "      Epoch    GPU_mem   box_loss   cls_loss   dfl_loss  Instances       Size\n"
     ]
    },
    {
     "name": "stderr",
     "output_type": "stream",
     "text": [
      "     68/100     0.663G     0.4587      3.549     0.8851         88        736: 100%|██████████| 1/1 [00:00<00:00, 16.38it/s]\n",
      "                 Class     Images  Instances      Box(P          R      mAP50  mAP50-95): 100%|██████████| 1/1 [00:00<00:00, 39.96it/s]"
     ]
    },
    {
     "name": "stdout",
     "output_type": "stream",
     "text": [
      "                   all          2         74     0.0799       0.13      0.102      0.085\n"
     ]
    },
    {
     "name": "stderr",
     "output_type": "stream",
     "text": [
      "\n"
     ]
    },
    {
     "name": "stdout",
     "output_type": "stream",
     "text": [
      "\n",
      "      Epoch    GPU_mem   box_loss   cls_loss   dfl_loss  Instances       Size\n"
     ]
    },
    {
     "name": "stderr",
     "output_type": "stream",
     "text": [
      "     69/100     0.663G     0.3539      3.312     0.8347         80        736: 100%|██████████| 1/1 [00:00<00:00, 16.65it/s]\n",
      "                 Class     Images  Instances      Box(P          R      mAP50  mAP50-95): 100%|██████████| 1/1 [00:00<00:00, 38.43it/s]"
     ]
    },
    {
     "name": "stdout",
     "output_type": "stream",
     "text": [
      "                   all          2         74     0.0809      0.145      0.101     0.0852\n"
     ]
    },
    {
     "name": "stderr",
     "output_type": "stream",
     "text": [
      "\n"
     ]
    },
    {
     "name": "stdout",
     "output_type": "stream",
     "text": [
      "\n",
      "      Epoch    GPU_mem   box_loss   cls_loss   dfl_loss  Instances       Size\n"
     ]
    },
    {
     "name": "stderr",
     "output_type": "stream",
     "text": [
      "     70/100     0.663G     0.4125      3.297     0.8455         81        736: 100%|██████████| 1/1 [00:00<00:00, 15.14it/s]\n",
      "                 Class     Images  Instances      Box(P          R      mAP50  mAP50-95): 100%|██████████| 1/1 [00:00<00:00, 34.45it/s]"
     ]
    },
    {
     "name": "stdout",
     "output_type": "stream",
     "text": [
      "                   all          2         74     0.0737      0.145     0.0989     0.0785\n"
     ]
    },
    {
     "name": "stderr",
     "output_type": "stream",
     "text": [
      "\n"
     ]
    },
    {
     "name": "stdout",
     "output_type": "stream",
     "text": [
      "\n",
      "      Epoch    GPU_mem   box_loss   cls_loss   dfl_loss  Instances       Size\n"
     ]
    },
    {
     "name": "stderr",
     "output_type": "stream",
     "text": [
      "     71/100     0.663G     0.3868      3.153     0.8451         79        736: 100%|██████████| 1/1 [00:00<00:00, 16.38it/s]\n",
      "                 Class     Images  Instances      Box(P          R      mAP50  mAP50-95): 100%|██████████| 1/1 [00:00<00:00, 35.68it/s]"
     ]
    },
    {
     "name": "stdout",
     "output_type": "stream",
     "text": [
      "                   all          2         74     0.0729      0.145     0.0977     0.0775\n"
     ]
    },
    {
     "name": "stderr",
     "output_type": "stream",
     "text": [
      "\n"
     ]
    },
    {
     "name": "stdout",
     "output_type": "stream",
     "text": [
      "\n",
      "      Epoch    GPU_mem   box_loss   cls_loss   dfl_loss  Instances       Size\n"
     ]
    },
    {
     "name": "stderr",
     "output_type": "stream",
     "text": [
      "     72/100     0.663G     0.3277      3.115      0.838         77        736: 100%|██████████| 1/1 [00:00<00:00, 15.14it/s]\n",
      "                 Class     Images  Instances      Box(P          R      mAP50  mAP50-95): 100%|██████████| 1/1 [00:00<00:00, 37.62it/s]"
     ]
    },
    {
     "name": "stdout",
     "output_type": "stream",
     "text": [
      "                   all          2         74       0.16       0.21      0.174      0.154\n"
     ]
    },
    {
     "name": "stderr",
     "output_type": "stream",
     "text": [
      "\n"
     ]
    },
    {
     "name": "stdout",
     "output_type": "stream",
     "text": [
      "\n",
      "      Epoch    GPU_mem   box_loss   cls_loss   dfl_loss  Instances       Size\n"
     ]
    },
    {
     "name": "stderr",
     "output_type": "stream",
     "text": [
      "     73/100     0.663G     0.3166      3.011     0.8132         76        736: 100%|██████████| 1/1 [00:00<00:00,  6.94it/s]\n",
      "                 Class     Images  Instances      Box(P          R      mAP50  mAP50-95): 100%|██████████| 1/1 [00:00<00:00, 32.71it/s]\n"
     ]
    },
    {
     "name": "stdout",
     "output_type": "stream",
     "text": [
      "                   all          2         74      0.196      0.261      0.231      0.203\n",
      "\n",
      "      Epoch    GPU_mem   box_loss   cls_loss   dfl_loss  Instances       Size\n"
     ]
    },
    {
     "name": "stderr",
     "output_type": "stream",
     "text": [
      "     74/100     0.663G     0.4287      3.301     0.8824         87        736: 100%|██████████| 1/1 [00:00<00:00, 15.61it/s]\n",
      "                 Class     Images  Instances      Box(P          R      mAP50  mAP50-95): 100%|██████████| 1/1 [00:00<00:00, 34.45it/s]"
     ]
    },
    {
     "name": "stdout",
     "output_type": "stream",
     "text": [
      "                   all          2         74       0.23       0.29      0.266      0.234\n"
     ]
    },
    {
     "name": "stderr",
     "output_type": "stream",
     "text": [
      "\n"
     ]
    },
    {
     "name": "stdout",
     "output_type": "stream",
     "text": [
      "\n",
      "      Epoch    GPU_mem   box_loss   cls_loss   dfl_loss  Instances       Size\n"
     ]
    },
    {
     "name": "stderr",
     "output_type": "stream",
     "text": [
      "     75/100     0.663G     0.3336      3.068     0.8401         80        736: 100%|██████████| 1/1 [00:00<00:00, 16.38it/s]\n",
      "                 Class     Images  Instances      Box(P          R      mAP50  mAP50-95): 100%|██████████| 1/1 [00:00<00:00, 37.00it/s]"
     ]
    },
    {
     "name": "stdout",
     "output_type": "stream",
     "text": [
      "                   all          2         74      0.266      0.319      0.301      0.265\n"
     ]
    },
    {
     "name": "stderr",
     "output_type": "stream",
     "text": [
      "\n"
     ]
    },
    {
     "name": "stdout",
     "output_type": "stream",
     "text": [
      "\n",
      "      Epoch    GPU_mem   box_loss   cls_loss   dfl_loss  Instances       Size\n"
     ]
    },
    {
     "name": "stderr",
     "output_type": "stream",
     "text": [
      "     76/100     0.663G     0.2967      2.873     0.8114         76        736: 100%|██████████| 1/1 [00:00<00:00, 15.37it/s]\n",
      "                 Class     Images  Instances      Box(P          R      mAP50  mAP50-95): 100%|██████████| 1/1 [00:00<00:00, 32.23it/s]"
     ]
    },
    {
     "name": "stdout",
     "output_type": "stream",
     "text": [
      "                   all          2         74      0.266       0.33      0.307      0.269\n"
     ]
    },
    {
     "name": "stderr",
     "output_type": "stream",
     "text": [
      "\n"
     ]
    },
    {
     "name": "stdout",
     "output_type": "stream",
     "text": [
      "\n",
      "      Epoch    GPU_mem   box_loss   cls_loss   dfl_loss  Instances       Size\n"
     ]
    },
    {
     "name": "stderr",
     "output_type": "stream",
     "text": [
      "     77/100     0.663G     0.4074      3.084     0.8709         83        736: 100%|██████████| 1/1 [00:00<00:00, 16.99it/s]\n",
      "                 Class     Images  Instances      Box(P          R      mAP50  mAP50-95): 100%|██████████| 1/1 [00:00<00:00, 34.45it/s]"
     ]
    },
    {
     "name": "stdout",
     "output_type": "stream",
     "text": [
      "                   all          2         74      0.255      0.344      0.307      0.276\n"
     ]
    },
    {
     "name": "stderr",
     "output_type": "stream",
     "text": [
      "\n"
     ]
    },
    {
     "name": "stdout",
     "output_type": "stream",
     "text": [
      "\n",
      "      Epoch    GPU_mem   box_loss   cls_loss   dfl_loss  Instances       Size\n"
     ]
    },
    {
     "name": "stderr",
     "output_type": "stream",
     "text": [
      "     78/100     0.663G     0.3168      2.944     0.8297         79        736: 100%|██████████| 1/1 [00:00<00:00, 16.11it/s]\n",
      "                 Class     Images  Instances      Box(P          R      mAP50  mAP50-95): 100%|██████████| 1/1 [00:00<00:00, 37.88it/s]"
     ]
    },
    {
     "name": "stdout",
     "output_type": "stream",
     "text": [
      "                   all          2         74      0.238      0.359      0.321      0.294\n"
     ]
    },
    {
     "name": "stderr",
     "output_type": "stream",
     "text": [
      "\n"
     ]
    },
    {
     "name": "stdout",
     "output_type": "stream",
     "text": [
      "\n",
      "      Epoch    GPU_mem   box_loss   cls_loss   dfl_loss  Instances       Size\n"
     ]
    },
    {
     "name": "stderr",
     "output_type": "stream",
     "text": [
      "     79/100     0.663G     0.3228      2.854     0.8379         79        736: 100%|██████████| 1/1 [00:00<00:00, 15.86it/s]\n",
      "                 Class     Images  Instances      Box(P          R      mAP50  mAP50-95): 100%|██████████| 1/1 [00:00<00:00, 35.68it/s]"
     ]
    },
    {
     "name": "stdout",
     "output_type": "stream",
     "text": [
      "                   all          2         74      0.222       0.37      0.326      0.302\n"
     ]
    },
    {
     "name": "stderr",
     "output_type": "stream",
     "text": [
      "\n"
     ]
    },
    {
     "name": "stdout",
     "output_type": "stream",
     "text": [
      "\n",
      "      Epoch    GPU_mem   box_loss   cls_loss   dfl_loss  Instances       Size\n"
     ]
    },
    {
     "name": "stderr",
     "output_type": "stream",
     "text": [
      "     80/100     0.663G     0.3316      2.943     0.8218         82        736: 100%|██████████| 1/1 [00:00<00:00, 15.61it/s]\n",
      "                 Class     Images  Instances      Box(P          R      mAP50  mAP50-95): 100%|██████████| 1/1 [00:00<00:00, 37.10it/s]"
     ]
    },
    {
     "name": "stdout",
     "output_type": "stream",
     "text": [
      "                   all          2         74      0.251      0.384      0.353      0.337\n"
     ]
    },
    {
     "name": "stderr",
     "output_type": "stream",
     "text": [
      "\n"
     ]
    },
    {
     "name": "stdout",
     "output_type": "stream",
     "text": [
      "\n",
      "      Epoch    GPU_mem   box_loss   cls_loss   dfl_loss  Instances       Size\n"
     ]
    },
    {
     "name": "stderr",
     "output_type": "stream",
     "text": [
      "     81/100     0.663G     0.4161      2.869       0.83         83        736: 100%|██████████| 1/1 [00:00<00:00, 14.48it/s]\n",
      "                 Class     Images  Instances      Box(P          R      mAP50  mAP50-95): 100%|██████████| 1/1 [00:00<00:00, 37.00it/s]"
     ]
    },
    {
     "name": "stdout",
     "output_type": "stream",
     "text": [
      "                   all          2         74      0.222      0.384      0.347      0.332\n"
     ]
    },
    {
     "name": "stderr",
     "output_type": "stream",
     "text": [
      "\n"
     ]
    },
    {
     "name": "stdout",
     "output_type": "stream",
     "text": [
      "\n",
      "      Epoch    GPU_mem   box_loss   cls_loss   dfl_loss  Instances       Size\n"
     ]
    },
    {
     "name": "stderr",
     "output_type": "stream",
     "text": [
      "     82/100     0.663G     0.3984      3.141     0.8484         91        736: 100%|██████████| 1/1 [00:00<00:00, 14.91it/s]\n",
      "                 Class     Images  Instances      Box(P          R      mAP50  mAP50-95): 100%|██████████| 1/1 [00:00<00:00, 34.45it/s]"
     ]
    },
    {
     "name": "stdout",
     "output_type": "stream",
     "text": [
      "                   all          2         74      0.193      0.384      0.344       0.33\n"
     ]
    },
    {
     "name": "stderr",
     "output_type": "stream",
     "text": [
      "\n"
     ]
    },
    {
     "name": "stdout",
     "output_type": "stream",
     "text": [
      "\n",
      "      Epoch    GPU_mem   box_loss   cls_loss   dfl_loss  Instances       Size\n"
     ]
    },
    {
     "name": "stderr",
     "output_type": "stream",
     "text": [
      "     83/100     0.663G     0.3203      2.515      0.832         75        736: 100%|██████████| 1/1 [00:00<00:00, 14.07it/s]\n",
      "                 Class     Images  Instances      Box(P          R      mAP50  mAP50-95): 100%|██████████| 1/1 [00:00<00:00, 34.45it/s]"
     ]
    },
    {
     "name": "stdout",
     "output_type": "stream",
     "text": [
      "                   all          2         74      0.191      0.395      0.347      0.336\n"
     ]
    },
    {
     "name": "stderr",
     "output_type": "stream",
     "text": [
      "\n"
     ]
    },
    {
     "name": "stdout",
     "output_type": "stream",
     "text": [
      "\n",
      "      Epoch    GPU_mem   box_loss   cls_loss   dfl_loss  Instances       Size\n"
     ]
    },
    {
     "name": "stderr",
     "output_type": "stream",
     "text": [
      "     84/100     0.663G     0.2883      2.466       0.79         74        736: 100%|██████████| 1/1 [00:00<00:00, 13.32it/s]\n",
      "                 Class     Images  Instances      Box(P          R      mAP50  mAP50-95): 100%|██████████| 1/1 [00:00<00:00, 33.30it/s]"
     ]
    },
    {
     "name": "stdout",
     "output_type": "stream",
     "text": [
      "                   all          2         74       0.19      0.406      0.353      0.337\n"
     ]
    },
    {
     "name": "stderr",
     "output_type": "stream",
     "text": [
      "\n"
     ]
    },
    {
     "name": "stdout",
     "output_type": "stream",
     "text": [
      "\n",
      "      Epoch    GPU_mem   box_loss   cls_loss   dfl_loss  Instances       Size\n"
     ]
    },
    {
     "name": "stderr",
     "output_type": "stream",
     "text": [
      "     85/100     0.663G     0.3106      2.524     0.8265         76        736: 100%|██████████| 1/1 [00:00<00:00, 10.34it/s]\n",
      "                 Class     Images  Instances      Box(P          R      mAP50  mAP50-95): 100%|██████████| 1/1 [00:00<00:00, 27.75it/s]"
     ]
    },
    {
     "name": "stdout",
     "output_type": "stream",
     "text": [
      "                   all          2         74      0.182      0.417      0.358      0.342\n"
     ]
    },
    {
     "name": "stderr",
     "output_type": "stream",
     "text": [
      "\n"
     ]
    },
    {
     "name": "stdout",
     "output_type": "stream",
     "text": [
      "\n",
      "      Epoch    GPU_mem   box_loss   cls_loss   dfl_loss  Instances       Size\n"
     ]
    },
    {
     "name": "stderr",
     "output_type": "stream",
     "text": [
      "     86/100     0.663G     0.2855      2.408     0.8053         74        736: 100%|██████████| 1/1 [00:00<00:00,  9.89it/s]\n",
      "                 Class     Images  Instances      Box(P          R      mAP50  mAP50-95): 100%|██████████| 1/1 [00:00<00:00, 29.38it/s]"
     ]
    },
    {
     "name": "stdout",
     "output_type": "stream",
     "text": [
      "                   all          2         74      0.216      0.438      0.399       0.36\n"
     ]
    },
    {
     "name": "stderr",
     "output_type": "stream",
     "text": [
      "\n"
     ]
    },
    {
     "name": "stdout",
     "output_type": "stream",
     "text": [
      "\n",
      "      Epoch    GPU_mem   box_loss   cls_loss   dfl_loss  Instances       Size\n"
     ]
    },
    {
     "name": "stderr",
     "output_type": "stream",
     "text": [
      "     87/100     0.663G     0.3609      2.581     0.8608         78        736: 100%|██████████| 1/1 [00:00<00:00,  5.85it/s]\n",
      "                 Class     Images  Instances      Box(P          R      mAP50  mAP50-95): 100%|██████████| 1/1 [00:00<00:00, 27.75it/s]"
     ]
    },
    {
     "name": "stdout",
     "output_type": "stream",
     "text": [
      "                   all          2         74      0.225      0.482      0.442      0.405\n"
     ]
    },
    {
     "name": "stderr",
     "output_type": "stream",
     "text": [
      "\n"
     ]
    },
    {
     "name": "stdout",
     "output_type": "stream",
     "text": [
      "\n",
      "      Epoch    GPU_mem   box_loss   cls_loss   dfl_loss  Instances       Size\n"
     ]
    },
    {
     "name": "stderr",
     "output_type": "stream",
     "text": [
      "     88/100     0.663G     0.3434      2.706     0.8367         83        736: 100%|██████████| 1/1 [00:00<00:00, 14.80it/s]\n",
      "                 Class     Images  Instances      Box(P          R      mAP50  mAP50-95): 100%|██████████| 1/1 [00:00<00:00, 35.68it/s]"
     ]
    },
    {
     "name": "stdout",
     "output_type": "stream",
     "text": [
      "                   all          2         74      0.201      0.482      0.438      0.415\n"
     ]
    },
    {
     "name": "stderr",
     "output_type": "stream",
     "text": [
      "\n"
     ]
    },
    {
     "name": "stdout",
     "output_type": "stream",
     "text": [
      "\n",
      "      Epoch    GPU_mem   box_loss   cls_loss   dfl_loss  Instances       Size\n"
     ]
    },
    {
     "name": "stderr",
     "output_type": "stream",
     "text": [
      "     89/100     0.663G     0.2687      2.296     0.8096         74        736: 100%|██████████| 1/1 [00:00<00:00, 14.69it/s]\n",
      "                 Class     Images  Instances      Box(P          R      mAP50  mAP50-95): 100%|██████████| 1/1 [00:00<00:00, 38.43it/s]"
     ]
    },
    {
     "name": "stdout",
     "output_type": "stream",
     "text": [
      "                   all          2         74      0.249      0.565      0.487      0.463\n"
     ]
    },
    {
     "name": "stderr",
     "output_type": "stream",
     "text": [
      "\n"
     ]
    },
    {
     "name": "stdout",
     "output_type": "stream",
     "text": [
      "\n",
      "      Epoch    GPU_mem   box_loss   cls_loss   dfl_loss  Instances       Size\n"
     ]
    },
    {
     "name": "stderr",
     "output_type": "stream",
     "text": [
      "     90/100     0.663G     0.3441      2.482     0.8543         77        736: 100%|██████████| 1/1 [00:00<00:00, 16.65it/s]\n",
      "                 Class     Images  Instances      Box(P          R      mAP50  mAP50-95): 100%|██████████| 1/1 [00:00<00:00, 39.96it/s]"
     ]
    },
    {
     "name": "stdout",
     "output_type": "stream",
     "text": [
      "                   all          2         74      0.234      0.565      0.486      0.462\n"
     ]
    },
    {
     "name": "stderr",
     "output_type": "stream",
     "text": [
      "\n"
     ]
    },
    {
     "name": "stdout",
     "output_type": "stream",
     "text": [
      "Closing dataloader mosaic\n",
      "\n",
      "      Epoch    GPU_mem   box_loss   cls_loss   dfl_loss  Instances       Size\n"
     ]
    },
    {
     "name": "stderr",
     "output_type": "stream",
     "text": [
      "     91/100     0.663G     0.2713      2.189     0.7854         74        736: 100%|██████████| 1/1 [00:04<00:00,  4.94s/it]\n",
      "                 Class     Images  Instances      Box(P          R      mAP50  mAP50-95): 100%|██████████| 1/1 [00:00<00:00, 29.39it/s]"
     ]
    },
    {
     "name": "stdout",
     "output_type": "stream",
     "text": [
      "                   all          2         74      0.234      0.565      0.486      0.462\n"
     ]
    },
    {
     "name": "stderr",
     "output_type": "stream",
     "text": [
      "\n"
     ]
    },
    {
     "name": "stdout",
     "output_type": "stream",
     "text": [
      "\n",
      "      Epoch    GPU_mem   box_loss   cls_loss   dfl_loss  Instances       Size\n"
     ]
    },
    {
     "name": "stderr",
     "output_type": "stream",
     "text": [
      "     92/100     0.709G     0.3509      2.353     0.8326         74        736: 100%|██████████| 1/1 [00:00<00:00, 16.77it/s]\n",
      "                 Class     Images  Instances      Box(P          R      mAP50  mAP50-95): 100%|██████████| 1/1 [00:00<00:00, 30.28it/s]"
     ]
    },
    {
     "name": "stdout",
     "output_type": "stream",
     "text": [
      "                   all          2         74      0.234       0.58      0.498      0.474\n"
     ]
    },
    {
     "name": "stderr",
     "output_type": "stream",
     "text": [
      "\n"
     ]
    },
    {
     "name": "stdout",
     "output_type": "stream",
     "text": [
      "\n",
      "      Epoch    GPU_mem   box_loss   cls_loss   dfl_loss  Instances       Size\n"
     ]
    },
    {
     "name": "stderr",
     "output_type": "stream",
     "text": [
      "     93/100     0.663G     0.3569      2.324     0.8523         74        736: 100%|██████████| 1/1 [00:00<00:00, 20.39it/s]\n",
      "                 Class     Images  Instances      Box(P          R      mAP50  mAP50-95): 100%|██████████| 1/1 [00:00<00:00, 30.28it/s]"
     ]
    },
    {
     "name": "stdout",
     "output_type": "stream",
     "text": [
      "                   all          2         74      0.234       0.58      0.498      0.474\n"
     ]
    },
    {
     "name": "stderr",
     "output_type": "stream",
     "text": [
      "\n"
     ]
    },
    {
     "name": "stdout",
     "output_type": "stream",
     "text": [
      "\n",
      "      Epoch    GPU_mem   box_loss   cls_loss   dfl_loss  Instances       Size\n"
     ]
    },
    {
     "name": "stderr",
     "output_type": "stream",
     "text": [
      "     94/100     0.709G     0.3797      2.241     0.8357         74        736: 100%|██████████| 1/1 [00:00<00:00, 15.96it/s]\n",
      "                 Class     Images  Instances      Box(P          R      mAP50  mAP50-95): 100%|██████████| 1/1 [00:00<00:00, 39.96it/s]"
     ]
    },
    {
     "name": "stdout",
     "output_type": "stream",
     "text": [
      "                   all          2         74      0.198       0.58      0.498       0.48\n"
     ]
    },
    {
     "name": "stderr",
     "output_type": "stream",
     "text": [
      "\n"
     ]
    },
    {
     "name": "stdout",
     "output_type": "stream",
     "text": [
      "\n",
      "      Epoch    GPU_mem   box_loss   cls_loss   dfl_loss  Instances       Size\n"
     ]
    },
    {
     "name": "stderr",
     "output_type": "stream",
     "text": [
      "     95/100     0.663G      0.286      2.226     0.8284         74        736: 100%|██████████| 1/1 [00:00<00:00, 21.72it/s]\n",
      "                 Class     Images  Instances      Box(P          R      mAP50  mAP50-95): 100%|██████████| 1/1 [00:00<00:00, 38.43it/s]"
     ]
    },
    {
     "name": "stdout",
     "output_type": "stream",
     "text": [
      "                   all          2         74      0.198       0.58      0.498       0.48\n"
     ]
    },
    {
     "name": "stderr",
     "output_type": "stream",
     "text": [
      "\n"
     ]
    },
    {
     "name": "stdout",
     "output_type": "stream",
     "text": [
      "\n",
      "      Epoch    GPU_mem   box_loss   cls_loss   dfl_loss  Instances       Size\n"
     ]
    },
    {
     "name": "stderr",
     "output_type": "stream",
     "text": [
      "     96/100     0.709G     0.2778      2.179     0.7902         74        736: 100%|██████████| 1/1 [00:00<00:00, 16.11it/s]\n",
      "                 Class     Images  Instances      Box(P          R      mAP50  mAP50-95): 100%|██████████| 1/1 [00:00<00:00, 38.43it/s]"
     ]
    },
    {
     "name": "stdout",
     "output_type": "stream",
     "text": [
      "                   all          2         74      0.181      0.594      0.509       0.48\n"
     ]
    },
    {
     "name": "stderr",
     "output_type": "stream",
     "text": [
      "\n"
     ]
    },
    {
     "name": "stdout",
     "output_type": "stream",
     "text": [
      "\n",
      "      Epoch    GPU_mem   box_loss   cls_loss   dfl_loss  Instances       Size\n"
     ]
    },
    {
     "name": "stderr",
     "output_type": "stream",
     "text": [
      "     97/100     0.663G     0.2837      2.169     0.8069         74        736: 100%|██████████| 1/1 [00:00<00:00, 19.59it/s]\n",
      "                 Class     Images  Instances      Box(P          R      mAP50  mAP50-95): 100%|██████████| 1/1 [00:00<00:00, 33.30it/s]"
     ]
    },
    {
     "name": "stdout",
     "output_type": "stream",
     "text": [
      "                   all          2         74      0.181      0.594      0.509       0.48\n"
     ]
    },
    {
     "name": "stderr",
     "output_type": "stream",
     "text": [
      "\n"
     ]
    },
    {
     "name": "stdout",
     "output_type": "stream",
     "text": [
      "\n",
      "      Epoch    GPU_mem   box_loss   cls_loss   dfl_loss  Instances       Size\n"
     ]
    },
    {
     "name": "stderr",
     "output_type": "stream",
     "text": [
      "     98/100     0.709G     0.2535      2.103     0.8119         74        736: 100%|██████████| 1/1 [00:00<00:00, 10.49it/s]\n",
      "                 Class     Images  Instances      Box(P          R      mAP50  mAP50-95): 100%|██████████| 1/1 [00:00<00:00, 31.22it/s]"
     ]
    },
    {
     "name": "stdout",
     "output_type": "stream",
     "text": [
      "                   all          2         74      0.215      0.616       0.55      0.525\n"
     ]
    },
    {
     "name": "stderr",
     "output_type": "stream",
     "text": [
      "\n"
     ]
    },
    {
     "name": "stdout",
     "output_type": "stream",
     "text": [
      "\n",
      "      Epoch    GPU_mem   box_loss   cls_loss   dfl_loss  Instances       Size\n"
     ]
    },
    {
     "name": "stderr",
     "output_type": "stream",
     "text": [
      "     99/100     0.663G     0.3537      2.218     0.8097         73        736: 100%|██████████| 1/1 [00:00<00:00, 12.18it/s]\n",
      "                 Class     Images  Instances      Box(P          R      mAP50  mAP50-95): 100%|██████████| 1/1 [00:00<00:00, 29.39it/s]"
     ]
    },
    {
     "name": "stdout",
     "output_type": "stream",
     "text": [
      "                   all          2         74      0.215      0.616       0.55      0.525\n"
     ]
    },
    {
     "name": "stderr",
     "output_type": "stream",
     "text": [
      "\n"
     ]
    },
    {
     "name": "stdout",
     "output_type": "stream",
     "text": [
      "\n",
      "      Epoch    GPU_mem   box_loss   cls_loss   dfl_loss  Instances       Size\n"
     ]
    },
    {
     "name": "stderr",
     "output_type": "stream",
     "text": [
      "    100/100     0.709G     0.2838      2.169     0.8277         74        736: 100%|██████████| 1/1 [00:00<00:00, 10.74it/s]\n",
      "                 Class     Images  Instances      Box(P          R      mAP50  mAP50-95): 100%|██████████| 1/1 [00:00<00:00, 31.22it/s]"
     ]
    },
    {
     "name": "stdout",
     "output_type": "stream",
     "text": [
      "                   all          2         74       0.19      0.616      0.548      0.529\n"
     ]
    },
    {
     "name": "stderr",
     "output_type": "stream",
     "text": [
      "\n"
     ]
    },
    {
     "name": "stdout",
     "output_type": "stream",
     "text": [
      "\n",
      "100 epochs completed in 0.016 hours.\n",
      "Optimizer stripped from D:\\code\\workspace\\OneDragon-YOLO\\ultralytics\\runs\\zzz_hollow_event_2208\\yolov8n-640\\weights\\last.pt, 6.3MB\n",
      "Optimizer stripped from D:\\code\\workspace\\OneDragon-YOLO\\ultralytics\\runs\\zzz_hollow_event_2208\\yolov8n-640\\weights\\best.pt, 6.3MB\n",
      "\n",
      "Validating D:\\code\\workspace\\OneDragon-YOLO\\ultralytics\\runs\\zzz_hollow_event_2208\\yolov8n-640\\weights\\best.pt...\n",
      "Ultralytics YOLOv8.2.51  Python-3.11.9 torch-2.3.1 CUDA:0 (NVIDIA GeForce RTX 4070 Ti, 12282MiB)\n",
      "Model summary (fused): 168 layers, 3016178 parameters, 0 gradients\n"
     ]
    },
    {
     "name": "stderr",
     "output_type": "stream",
     "text": [
      "                 Class     Images  Instances      Box(P          R      mAP50  mAP50-95): 100%|██████████| 1/1 [00:00<00:00, 25.62it/s]\n"
     ]
    },
    {
     "name": "stdout",
     "output_type": "stream",
     "text": [
      "                   all          2         74       0.19      0.616      0.548      0.529\n",
      "             -0014          2          4      0.138          1      0.895      0.895\n",
      "              -0028          2          3      0.143          1      0.995      0.995\n",
      "               -0030          2          3      0.188          1      0.555      0.545\n",
      "            -0013          2          2          0          0          0          0\n",
      "               -0003          2          4        0.3       0.75      0.784      0.706\n",
      "             -0024          1          1       0.25          1      0.995      0.995\n",
      "             -0009          2          4      0.667        0.5      0.665      0.532\n",
      "               -0029          2          2          0          0          0          0\n",
      "              -0048          2          4      0.333          1      0.912      0.821\n",
      "              -0027          2          3      0.286      0.667      0.713      0.713\n",
      "               -9000          2          4      0.167       0.75      0.767      0.767\n",
      "              -0008          2          3          0          0          0          0\n",
      "             -0007          2          2          1        0.5       0.75       0.75\n",
      "            -0043          2          2     0.0714          1      0.995      0.995\n",
      "              -0018          1          1          0          0          0          0\n",
      "             -0037          2          2     0.0909          1      0.199      0.199\n",
      "           -0042          1          1          0          0          0          0\n",
      "               -0001          1          2          0          0          0          0\n",
      "             -0019          2          3        0.2          1      0.995      0.942\n",
      "          --0022          2          6       0.15          1      0.885      0.836\n",
      "           -0052          1          1          0          0          0          0\n",
      "            -0016          2          3     0.0508          1      0.497      0.497\n",
      "            -0002          2         14      0.341          1      0.995      0.984\n"
     ]
    },
    {
     "name": "stderr",
     "output_type": "stream",
     "text": [
      "D:\\code\\env\\anaconda\\envs\\mhy-yolo\\Lib\\site-packages\\ultralytics\\utils\\metrics.py:428: UserWarning: Glyph 19981 (\\N{CJK UNIFIED IDEOGRAPH-4E0D}) missing from current font.\n",
      "  fig.savefig(plot_fname, dpi=250)\n",
      "D:\\code\\env\\anaconda\\envs\\mhy-yolo\\Lib\\site-packages\\ultralytics\\utils\\metrics.py:428: UserWarning: Glyph 23452 (\\N{CJK UNIFIED IDEOGRAPH-5B9C}) missing from current font.\n",
      "  fig.savefig(plot_fname, dpi=250)\n",
      "D:\\code\\env\\anaconda\\envs\\mhy-yolo\\Lib\\site-packages\\ultralytics\\utils\\metrics.py:428: UserWarning: Glyph 20037 (\\N{CJK UNIFIED IDEOGRAPH-4E45}) missing from current font.\n",
      "  fig.savefig(plot_fname, dpi=250)\n",
      "D:\\code\\env\\anaconda\\envs\\mhy-yolo\\Lib\\site-packages\\ultralytics\\utils\\metrics.py:428: UserWarning: Glyph 30041 (\\N{CJK UNIFIED IDEOGRAPH-7559}) missing from current font.\n",
      "  fig.savefig(plot_fname, dpi=250)\n",
      "D:\\code\\env\\anaconda\\envs\\mhy-yolo\\Lib\\site-packages\\ultralytics\\utils\\metrics.py:428: UserWarning: Glyph 19994 (\\N{CJK UNIFIED IDEOGRAPH-4E1A}) missing from current font.\n",
      "  fig.savefig(plot_fname, dpi=250)\n",
      "D:\\code\\env\\anaconda\\envs\\mhy-yolo\\Lib\\site-packages\\ultralytics\\utils\\metrics.py:428: UserWarning: Glyph 32489 (\\N{CJK UNIFIED IDEOGRAPH-7EE9}) missing from current font.\n",
      "  fig.savefig(plot_fname, dpi=250)\n",
      "D:\\code\\env\\anaconda\\envs\\mhy-yolo\\Lib\\site-packages\\ultralytics\\utils\\metrics.py:428: UserWarning: Glyph 32771 (\\N{CJK UNIFIED IDEOGRAPH-8003}) missing from current font.\n",
      "  fig.savefig(plot_fname, dpi=250)\n",
      "D:\\code\\env\\anaconda\\envs\\mhy-yolo\\Lib\\site-packages\\ultralytics\\utils\\metrics.py:428: UserWarning: Glyph 23519 (\\N{CJK UNIFIED IDEOGRAPH-5BDF}) missing from current font.\n",
      "  fig.savefig(plot_fname, dpi=250)\n",
      "D:\\code\\env\\anaconda\\envs\\mhy-yolo\\Lib\\site-packages\\ultralytics\\utils\\metrics.py:428: UserWarning: Glyph 28857 (\\N{CJK UNIFIED IDEOGRAPH-70B9}) missing from current font.\n",
      "  fig.savefig(plot_fname, dpi=250)\n",
      "D:\\code\\env\\anaconda\\envs\\mhy-yolo\\Lib\\site-packages\\ultralytics\\utils\\metrics.py:428: UserWarning: Glyph 20020 (\\N{CJK UNIFIED IDEOGRAPH-4E34}) missing from current font.\n",
      "  fig.savefig(plot_fname, dpi=250)\n",
      "D:\\code\\env\\anaconda\\envs\\mhy-yolo\\Lib\\site-packages\\ultralytics\\utils\\metrics.py:428: UserWarning: Glyph 26102 (\\N{CJK UNIFIED IDEOGRAPH-65F6}) missing from current font.\n",
      "  fig.savefig(plot_fname, dpi=250)\n",
      "D:\\code\\env\\anaconda\\envs\\mhy-yolo\\Lib\\site-packages\\ultralytics\\utils\\metrics.py:428: UserWarning: Glyph 25293 (\\N{CJK UNIFIED IDEOGRAPH-62CD}) missing from current font.\n",
      "  fig.savefig(plot_fname, dpi=250)\n",
      "D:\\code\\env\\anaconda\\envs\\mhy-yolo\\Lib\\site-packages\\ultralytics\\utils\\metrics.py:428: UserWarning: Glyph 26723 (\\N{CJK UNIFIED IDEOGRAPH-6863}) missing from current font.\n",
      "  fig.savefig(plot_fname, dpi=250)\n",
      "D:\\code\\env\\anaconda\\envs\\mhy-yolo\\Lib\\site-packages\\ultralytics\\utils\\metrics.py:428: UserWarning: Glyph 20241 (\\N{CJK UNIFIED IDEOGRAPH-4F11}) missing from current font.\n",
      "  fig.savefig(plot_fname, dpi=250)\n",
      "D:\\code\\env\\anaconda\\envs\\mhy-yolo\\Lib\\site-packages\\ultralytics\\utils\\metrics.py:428: UserWarning: Glyph 24687 (\\N{CJK UNIFIED IDEOGRAPH-606F}) missing from current font.\n",
      "  fig.savefig(plot_fname, dpi=250)\n",
      "D:\\code\\env\\anaconda\\envs\\mhy-yolo\\Lib\\site-packages\\ultralytics\\utils\\metrics.py:428: UserWarning: Glyph 21306 (\\N{CJK UNIFIED IDEOGRAPH-533A}) missing from current font.\n",
      "  fig.savefig(plot_fname, dpi=250)\n",
      "D:\\code\\env\\anaconda\\envs\\mhy-yolo\\Lib\\site-packages\\ultralytics\\utils\\metrics.py:428: UserWarning: Glyph 20256 (\\N{CJK UNIFIED IDEOGRAPH-4F20}) missing from current font.\n",
      "  fig.savefig(plot_fname, dpi=250)\n",
      "D:\\code\\env\\anaconda\\envs\\mhy-yolo\\Lib\\site-packages\\ultralytics\\utils\\metrics.py:428: UserWarning: Glyph 36865 (\\N{CJK UNIFIED IDEOGRAPH-9001}) missing from current font.\n",
      "  fig.savefig(plot_fname, dpi=250)\n",
      "D:\\code\\env\\anaconda\\envs\\mhy-yolo\\Lib\\site-packages\\ultralytics\\utils\\metrics.py:428: UserWarning: Glyph 20405 (\\N{CJK UNIFIED IDEOGRAPH-4FB5}) missing from current font.\n",
      "  fig.savefig(plot_fname, dpi=250)\n",
      "D:\\code\\env\\anaconda\\envs\\mhy-yolo\\Lib\\site-packages\\ultralytics\\utils\\metrics.py:428: UserWarning: Glyph 34432 (\\N{CJK UNIFIED IDEOGRAPH-8680}) missing from current font.\n",
      "  fig.savefig(plot_fname, dpi=250)\n",
      "D:\\code\\env\\anaconda\\envs\\mhy-yolo\\Lib\\site-packages\\ultralytics\\utils\\metrics.py:428: UserWarning: Glyph 25197 (\\N{CJK UNIFIED IDEOGRAPH-626D}) missing from current font.\n",
      "  fig.savefig(plot_fname, dpi=250)\n",
      "D:\\code\\env\\anaconda\\envs\\mhy-yolo\\Lib\\site-packages\\ultralytics\\utils\\metrics.py:428: UserWarning: Glyph 34507 (\\N{CJK UNIFIED IDEOGRAPH-86CB}) missing from current font.\n",
      "  fig.savefig(plot_fname, dpi=250)\n",
      "D:\\code\\env\\anaconda\\envs\\mhy-yolo\\Lib\\site-packages\\ultralytics\\utils\\metrics.py:428: UserWarning: Glyph 26426 (\\N{CJK UNIFIED IDEOGRAPH-673A}) missing from current font.\n",
      "  fig.savefig(plot_fname, dpi=250)\n",
      "D:\\code\\env\\anaconda\\envs\\mhy-yolo\\Lib\\site-packages\\ultralytics\\utils\\metrics.py:428: UserWarning: Glyph 20551 (\\N{CJK UNIFIED IDEOGRAPH-5047}) missing from current font.\n",
      "  fig.savefig(plot_fname, dpi=250)\n",
      "D:\\code\\env\\anaconda\\envs\\mhy-yolo\\Lib\\site-packages\\ultralytics\\utils\\metrics.py:428: UserWarning: Glyph 38754 (\\N{CJK UNIFIED IDEOGRAPH-9762}) missing from current font.\n",
      "  fig.savefig(plot_fname, dpi=250)\n",
      "D:\\code\\env\\anaconda\\envs\\mhy-yolo\\Lib\\site-packages\\ultralytics\\utils\\metrics.py:428: UserWarning: Glyph 30740 (\\N{CJK UNIFIED IDEOGRAPH-7814}) missing from current font.\n",
      "  fig.savefig(plot_fname, dpi=250)\n",
      "D:\\code\\env\\anaconda\\envs\\mhy-yolo\\Lib\\site-packages\\ultralytics\\utils\\metrics.py:428: UserWarning: Glyph 31350 (\\N{CJK UNIFIED IDEOGRAPH-7A76}) missing from current font.\n",
      "  fig.savefig(plot_fname, dpi=250)\n",
      "D:\\code\\env\\anaconda\\envs\\mhy-yolo\\Lib\\site-packages\\ultralytics\\utils\\metrics.py:428: UserWarning: Glyph 32773 (\\N{CJK UNIFIED IDEOGRAPH-8005}) missing from current font.\n",
      "  fig.savefig(plot_fname, dpi=250)\n",
      "D:\\code\\env\\anaconda\\envs\\mhy-yolo\\Lib\\site-packages\\ultralytics\\utils\\metrics.py:428: UserWarning: Glyph 20928 (\\N{CJK UNIFIED IDEOGRAPH-51C0}) missing from current font.\n",
      "  fig.savefig(plot_fname, dpi=250)\n",
      "D:\\code\\env\\anaconda\\envs\\mhy-yolo\\Lib\\site-packages\\ultralytics\\utils\\metrics.py:428: UserWarning: Glyph 21270 (\\N{CJK UNIFIED IDEOGRAPH-5316}) missing from current font.\n",
      "  fig.savefig(plot_fname, dpi=250)\n",
      "D:\\code\\env\\anaconda\\envs\\mhy-yolo\\Lib\\site-packages\\ultralytics\\utils\\metrics.py:428: UserWarning: Glyph 23460 (\\N{CJK UNIFIED IDEOGRAPH-5BA4}) missing from current font.\n",
      "  fig.savefig(plot_fname, dpi=250)\n",
      "D:\\code\\env\\anaconda\\envs\\mhy-yolo\\Lib\\site-packages\\ultralytics\\utils\\metrics.py:428: UserWarning: Glyph 21361 (\\N{CJK UNIFIED IDEOGRAPH-5371}) missing from current font.\n",
      "  fig.savefig(plot_fname, dpi=250)\n",
      "D:\\code\\env\\anaconda\\envs\\mhy-yolo\\Lib\\site-packages\\ultralytics\\utils\\metrics.py:428: UserWarning: Glyph 21450 (\\N{CJK UNIFIED IDEOGRAPH-53CA}) missing from current font.\n",
      "  fig.savefig(plot_fname, dpi=250)\n",
      "D:\\code\\env\\anaconda\\envs\\mhy-yolo\\Lib\\site-packages\\ultralytics\\utils\\metrics.py:428: UserWarning: Glyph 34917 (\\N{CJK UNIFIED IDEOGRAPH-8865}) missing from current font.\n",
      "  fig.savefig(plot_fname, dpi=250)\n",
      "D:\\code\\env\\anaconda\\envs\\mhy-yolo\\Lib\\site-packages\\ultralytics\\utils\\metrics.py:428: UserWarning: Glyph 32473 (\\N{CJK UNIFIED IDEOGRAPH-7ED9}) missing from current font.\n",
      "  fig.savefig(plot_fname, dpi=250)\n",
      "D:\\code\\env\\anaconda\\envs\\mhy-yolo\\Lib\\site-packages\\ultralytics\\utils\\metrics.py:428: UserWarning: Glyph 21452 (\\N{CJK UNIFIED IDEOGRAPH-53CC}) missing from current font.\n",
      "  fig.savefig(plot_fname, dpi=250)\n",
      "D:\\code\\env\\anaconda\\envs\\mhy-yolo\\Lib\\site-packages\\ultralytics\\utils\\metrics.py:428: UserWarning: Glyph 37325 (\\N{CJK UNIFIED IDEOGRAPH-91CD}) missing from current font.\n",
      "  fig.savefig(plot_fname, dpi=250)\n",
      "D:\\code\\env\\anaconda\\envs\\mhy-yolo\\Lib\\site-packages\\ultralytics\\utils\\metrics.py:428: UserWarning: Glyph 21628 (\\N{CJK UNIFIED IDEOGRAPH-547C}) missing from current font.\n",
      "  fig.savefig(plot_fname, dpi=250)\n",
      "D:\\code\\env\\anaconda\\envs\\mhy-yolo\\Lib\\site-packages\\ultralytics\\utils\\metrics.py:428: UserWarning: Glyph 21483 (\\N{CJK UNIFIED IDEOGRAPH-53EB}) missing from current font.\n",
      "  fig.savefig(plot_fname, dpi=250)\n",
      "D:\\code\\env\\anaconda\\envs\\mhy-yolo\\Lib\\site-packages\\ultralytics\\utils\\metrics.py:428: UserWarning: Glyph 22686 (\\N{CJK UNIFIED IDEOGRAPH-589E}) missing from current font.\n",
      "  fig.savefig(plot_fname, dpi=250)\n",
      "D:\\code\\env\\anaconda\\envs\\mhy-yolo\\Lib\\site-packages\\ultralytics\\utils\\metrics.py:428: UserWarning: Glyph 25588 (\\N{CJK UNIFIED IDEOGRAPH-63F4}) missing from current font.\n",
      "  fig.savefig(plot_fname, dpi=250)\n",
      "D:\\code\\env\\anaconda\\envs\\mhy-yolo\\Lib\\site-packages\\ultralytics\\utils\\metrics.py:428: UserWarning: Glyph 22833 (\\N{CJK UNIFIED IDEOGRAPH-5931}) missing from current font.\n",
      "  fig.savefig(plot_fname, dpi=250)\n",
      "D:\\code\\env\\anaconda\\envs\\mhy-yolo\\Lib\\site-packages\\ultralytics\\utils\\metrics.py:428: UserWarning: Glyph 32852 (\\N{CJK UNIFIED IDEOGRAPH-8054}) missing from current font.\n",
      "  fig.savefig(plot_fname, dpi=250)\n",
      "D:\\code\\env\\anaconda\\envs\\mhy-yolo\\Lib\\site-packages\\ultralytics\\utils\\metrics.py:428: UserWarning: Glyph 22855 (\\N{CJK UNIFIED IDEOGRAPH-5947}) missing from current font.\n",
      "  fig.savefig(plot_fname, dpi=250)\n",
      "D:\\code\\env\\anaconda\\envs\\mhy-yolo\\Lib\\site-packages\\ultralytics\\utils\\metrics.py:428: UserWarning: Glyph 24618 (\\N{CJK UNIFIED IDEOGRAPH-602A}) missing from current font.\n",
      "  fig.savefig(plot_fname, dpi=250)\n",
      "D:\\code\\env\\anaconda\\envs\\mhy-yolo\\Lib\\site-packages\\ultralytics\\utils\\metrics.py:428: UserWarning: Glyph 30340 (\\N{CJK UNIFIED IDEOGRAPH-7684}) missing from current font.\n",
      "  fig.savefig(plot_fname, dpi=250)\n",
      "D:\\code\\env\\anaconda\\envs\\mhy-yolo\\Lib\\site-packages\\ultralytics\\utils\\metrics.py:428: UserWarning: Glyph 20390 (\\N{CJK UNIFIED IDEOGRAPH-4FA6}) missing from current font.\n",
      "  fig.savefig(plot_fname, dpi=250)\n",
      "D:\\code\\env\\anaconda\\envs\\mhy-yolo\\Lib\\site-packages\\ultralytics\\utils\\metrics.py:428: UserWarning: Glyph 25506 (\\N{CJK UNIFIED IDEOGRAPH-63A2}) missing from current font.\n",
      "  fig.savefig(plot_fname, dpi=250)\n",
      "D:\\code\\env\\anaconda\\envs\\mhy-yolo\\Lib\\site-packages\\ultralytics\\utils\\metrics.py:428: UserWarning: Glyph 36135 (\\N{CJK UNIFIED IDEOGRAPH-8D27}) missing from current font.\n",
      "  fig.savefig(plot_fname, dpi=250)\n",
      "D:\\code\\env\\anaconda\\envs\\mhy-yolo\\Lib\\site-packages\\ultralytics\\utils\\metrics.py:428: UserWarning: Glyph 23432 (\\N{CJK UNIFIED IDEOGRAPH-5B88}) missing from current font.\n",
      "  fig.savefig(plot_fname, dpi=250)\n",
      "D:\\code\\env\\anaconda\\envs\\mhy-yolo\\Lib\\site-packages\\ultralytics\\utils\\metrics.py:428: UserWarning: Glyph 38376 (\\N{CJK UNIFIED IDEOGRAPH-95E8}) missing from current font.\n",
      "  fig.savefig(plot_fname, dpi=250)\n",
      "D:\\code\\env\\anaconda\\envs\\mhy-yolo\\Lib\\site-packages\\ultralytics\\utils\\metrics.py:428: UserWarning: Glyph 20154 (\\N{CJK UNIFIED IDEOGRAPH-4EBA}) missing from current font.\n",
      "  fig.savefig(plot_fname, dpi=250)\n",
      "D:\\code\\env\\anaconda\\envs\\mhy-yolo\\Lib\\site-packages\\ultralytics\\utils\\metrics.py:428: UserWarning: Glyph 23433 (\\N{CJK UNIFIED IDEOGRAPH-5B89}) missing from current font.\n",
      "  fig.savefig(plot_fname, dpi=250)\n",
      "D:\\code\\env\\anaconda\\envs\\mhy-yolo\\Lib\\site-packages\\ultralytics\\utils\\metrics.py:428: UserWarning: Glyph 20840 (\\N{CJK UNIFIED IDEOGRAPH-5168}) missing from current font.\n",
      "  fig.savefig(plot_fname, dpi=250)\n",
      "D:\\code\\env\\anaconda\\envs\\mhy-yolo\\Lib\\site-packages\\ultralytics\\utils\\metrics.py:428: UserWarning: Glyph 24040 (\\N{CJK UNIFIED IDEOGRAPH-5DE8}) missing from current font.\n",
      "  fig.savefig(plot_fname, dpi=250)\n",
      "D:\\code\\env\\anaconda\\envs\\mhy-yolo\\Lib\\site-packages\\ultralytics\\utils\\metrics.py:428: UserWarning: Glyph 20861 (\\N{CJK UNIFIED IDEOGRAPH-517D}) missing from current font.\n",
      "  fig.savefig(plot_fname, dpi=250)\n",
      "D:\\code\\env\\anaconda\\envs\\mhy-yolo\\Lib\\site-packages\\ultralytics\\utils\\metrics.py:428: UserWarning: Glyph 24320 (\\N{CJK UNIFIED IDEOGRAPH-5F00}) missing from current font.\n",
      "  fig.savefig(plot_fname, dpi=250)\n",
      "D:\\code\\env\\anaconda\\envs\\mhy-yolo\\Lib\\site-packages\\ultralytics\\utils\\metrics.py:428: UserWarning: Glyph 21551 (\\N{CJK UNIFIED IDEOGRAPH-542F}) missing from current font.\n",
      "  fig.savefig(plot_fname, dpi=250)\n",
      "D:\\code\\env\\anaconda\\envs\\mhy-yolo\\Lib\\site-packages\\ultralytics\\utils\\metrics.py:428: UserWarning: Glyph 24403 (\\N{CJK UNIFIED IDEOGRAPH-5F53}) missing from current font.\n",
      "  fig.savefig(plot_fname, dpi=250)\n",
      "D:\\code\\env\\anaconda\\envs\\mhy-yolo\\Lib\\site-packages\\ultralytics\\utils\\metrics.py:428: UserWarning: Glyph 21069 (\\N{CJK UNIFIED IDEOGRAPH-524D}) missing from current font.\n",
      "  fig.savefig(plot_fname, dpi=250)\n",
      "D:\\code\\env\\anaconda\\envs\\mhy-yolo\\Lib\\site-packages\\ultralytics\\utils\\metrics.py:428: UserWarning: Glyph 24576 (\\N{CJK UNIFIED IDEOGRAPH-6000}) missing from current font.\n",
      "  fig.savefig(plot_fname, dpi=250)\n",
      "D:\\code\\env\\anaconda\\envs\\mhy-yolo\\Lib\\site-packages\\ultralytics\\utils\\metrics.py:428: UserWarning: Glyph 26031 (\\N{CJK UNIFIED IDEOGRAPH-65AF}) missing from current font.\n",
      "  fig.savefig(plot_fname, dpi=250)\n",
      "D:\\code\\env\\anaconda\\envs\\mhy-yolo\\Lib\\site-packages\\ultralytics\\utils\\metrics.py:428: UserWarning: Glyph 22612 (\\N{CJK UNIFIED IDEOGRAPH-5854}) missing from current font.\n",
      "  fig.savefig(plot_fname, dpi=250)\n",
      "D:\\code\\env\\anaconda\\envs\\mhy-yolo\\Lib\\site-packages\\ultralytics\\utils\\metrics.py:428: UserWarning: Glyph 23398 (\\N{CJK UNIFIED IDEOGRAPH-5B66}) missing from current font.\n",
      "  fig.savefig(plot_fname, dpi=250)\n",
      "D:\\code\\env\\anaconda\\envs\\mhy-yolo\\Lib\\site-packages\\ultralytics\\utils\\metrics.py:428: UserWarning: Glyph 20250 (\\N{CJK UNIFIED IDEOGRAPH-4F1A}) missing from current font.\n",
      "  fig.savefig(plot_fname, dpi=250)\n",
      "D:\\code\\env\\anaconda\\envs\\mhy-yolo\\Lib\\site-packages\\ultralytics\\utils\\metrics.py:428: UserWarning: Glyph 31449 (\\N{CJK UNIFIED IDEOGRAPH-7AD9}) missing from current font.\n",
      "  fig.savefig(plot_fname, dpi=250)\n",
      "D:\\code\\env\\anaconda\\envs\\mhy-yolo\\Lib\\site-packages\\ultralytics\\utils\\metrics.py:428: UserWarning: Glyph 25554 (\\N{CJK UNIFIED IDEOGRAPH-63D2}) missing from current font.\n",
      "  fig.savefig(plot_fname, dpi=250)\n",
      "D:\\code\\env\\anaconda\\envs\\mhy-yolo\\Lib\\site-packages\\ultralytics\\utils\\metrics.py:428: UserWarning: Glyph 20214 (\\N{CJK UNIFIED IDEOGRAPH-4EF6}) missing from current font.\n",
      "  fig.savefig(plot_fname, dpi=250)\n",
      "D:\\code\\env\\anaconda\\envs\\mhy-yolo\\Lib\\site-packages\\ultralytics\\utils\\metrics.py:428: UserWarning: Glyph 33719 (\\N{CJK UNIFIED IDEOGRAPH-83B7}) missing from current font.\n",
      "  fig.savefig(plot_fname, dpi=250)\n",
      "D:\\code\\env\\anaconda\\envs\\mhy-yolo\\Lib\\site-packages\\ultralytics\\utils\\metrics.py:428: UserWarning: Glyph 21462 (\\N{CJK UNIFIED IDEOGRAPH-53D6}) missing from current font.\n",
      "  fig.savefig(plot_fname, dpi=250)\n",
      "D:\\code\\env\\anaconda\\envs\\mhy-yolo\\Lib\\site-packages\\ultralytics\\utils\\metrics.py:428: UserWarning: Glyph 25805 (\\N{CJK UNIFIED IDEOGRAPH-64CD}) missing from current font.\n",
      "  fig.savefig(plot_fname, dpi=250)\n",
      "D:\\code\\env\\anaconda\\envs\\mhy-yolo\\Lib\\site-packages\\ultralytics\\utils\\metrics.py:428: UserWarning: Glyph 32437 (\\N{CJK UNIFIED IDEOGRAPH-7EB5}) missing from current font.\n",
      "  fig.savefig(plot_fname, dpi=250)\n",
      "D:\\code\\env\\anaconda\\envs\\mhy-yolo\\Lib\\site-packages\\ultralytics\\utils\\metrics.py:428: UserWarning: Glyph 26438 (\\N{CJK UNIFIED IDEOGRAPH-6746}) missing from current font.\n",
      "  fig.savefig(plot_fname, dpi=250)\n",
      "D:\\code\\env\\anaconda\\envs\\mhy-yolo\\Lib\\site-packages\\ultralytics\\utils\\metrics.py:428: UserWarning: Glyph 26377 (\\N{CJK UNIFIED IDEOGRAPH-6709}) missing from current font.\n",
      "  fig.savefig(plot_fname, dpi=250)\n",
      "D:\\code\\env\\anaconda\\envs\\mhy-yolo\\Lib\\site-packages\\ultralytics\\utils\\metrics.py:428: UserWarning: Glyph 20607 (\\N{CJK UNIFIED IDEOGRAPH-507F}) missing from current font.\n",
      "  fig.savefig(plot_fname, dpi=250)\n",
      "D:\\code\\env\\anaconda\\envs\\mhy-yolo\\Lib\\site-packages\\ultralytics\\utils\\metrics.py:428: UserWarning: Glyph 27531 (\\N{CJK UNIFIED IDEOGRAPH-6B8B}) missing from current font.\n",
      "  fig.savefig(plot_fname, dpi=250)\n",
      "D:\\code\\env\\anaconda\\envs\\mhy-yolo\\Lib\\site-packages\\ultralytics\\utils\\metrics.py:428: UserWarning: Glyph 30772 (\\N{CJK UNIFIED IDEOGRAPH-7834}) missing from current font.\n",
      "  fig.savefig(plot_fname, dpi=250)\n",
      "D:\\code\\env\\anaconda\\envs\\mhy-yolo\\Lib\\site-packages\\ultralytics\\utils\\metrics.py:428: UserWarning: Glyph 38556 (\\N{CJK UNIFIED IDEOGRAPH-969C}) missing from current font.\n",
      "  fig.savefig(plot_fname, dpi=250)\n",
      "D:\\code\\env\\anaconda\\envs\\mhy-yolo\\Lib\\site-packages\\ultralytics\\utils\\metrics.py:428: UserWarning: Glyph 30861 (\\N{CJK UNIFIED IDEOGRAPH-788D}) missing from current font.\n",
      "  fig.savefig(plot_fname, dpi=250)\n",
      "D:\\code\\env\\anaconda\\envs\\mhy-yolo\\Lib\\site-packages\\ultralytics\\utils\\metrics.py:428: UserWarning: Glyph 29289 (\\N{CJK UNIFIED IDEOGRAPH-7269}) missing from current font.\n",
      "  fig.savefig(plot_fname, dpi=250)\n",
      "D:\\code\\env\\anaconda\\envs\\mhy-yolo\\Lib\\site-packages\\ultralytics\\utils\\metrics.py:428: UserWarning: Glyph 27714 (\\N{CJK UNIFIED IDEOGRAPH-6C42}) missing from current font.\n",
      "  fig.savefig(plot_fname, dpi=250)\n",
      "D:\\code\\env\\anaconda\\envs\\mhy-yolo\\Lib\\site-packages\\ultralytics\\utils\\metrics.py:428: UserWarning: Glyph 25937 (\\N{CJK UNIFIED IDEOGRAPH-6551}) missing from current font.\n",
      "  fig.savefig(plot_fname, dpi=250)\n",
      "D:\\code\\env\\anaconda\\envs\\mhy-yolo\\Lib\\site-packages\\ultralytics\\utils\\metrics.py:428: UserWarning: Glyph 20449 (\\N{CJK UNIFIED IDEOGRAPH-4FE1}) missing from current font.\n",
      "  fig.savefig(plot_fname, dpi=250)\n",
      "D:\\code\\env\\anaconda\\envs\\mhy-yolo\\Lib\\site-packages\\ultralytics\\utils\\metrics.py:428: UserWarning: Glyph 21495 (\\N{CJK UNIFIED IDEOGRAPH-53F7}) missing from current font.\n",
      "  fig.savefig(plot_fname, dpi=250)\n",
      "D:\\code\\env\\anaconda\\envs\\mhy-yolo\\Lib\\site-packages\\ultralytics\\utils\\metrics.py:428: UserWarning: Glyph 27835 (\\N{CJK UNIFIED IDEOGRAPH-6CBB}) missing from current font.\n",
      "  fig.savefig(plot_fname, dpi=250)\n",
      "D:\\code\\env\\anaconda\\envs\\mhy-yolo\\Lib\\site-packages\\ultralytics\\utils\\metrics.py:428: UserWarning: Glyph 23448 (\\N{CJK UNIFIED IDEOGRAPH-5B98}) missing from current font.\n",
      "  fig.savefig(plot_fname, dpi=250)\n",
      "D:\\code\\env\\anaconda\\envs\\mhy-yolo\\Lib\\site-packages\\ultralytics\\utils\\metrics.py:428: UserWarning: Glyph 23567 (\\N{CJK UNIFIED IDEOGRAPH-5C0F}) missing from current font.\n",
      "  fig.savefig(plot_fname, dpi=250)\n",
      "D:\\code\\env\\anaconda\\envs\\mhy-yolo\\Lib\\site-packages\\ultralytics\\utils\\metrics.py:428: UserWarning: Glyph 38431 (\\N{CJK UNIFIED IDEOGRAPH-961F}) missing from current font.\n",
      "  fig.savefig(plot_fname, dpi=250)\n",
      "D:\\code\\env\\anaconda\\envs\\mhy-yolo\\Lib\\site-packages\\ultralytics\\utils\\metrics.py:428: UserWarning: Glyph 27963 (\\N{CJK UNIFIED IDEOGRAPH-6D3B}) missing from current font.\n",
      "  fig.savefig(plot_fname, dpi=250)\n",
      "D:\\code\\env\\anaconda\\envs\\mhy-yolo\\Lib\\site-packages\\ultralytics\\utils\\metrics.py:428: UserWarning: Glyph 32467 (\\N{CJK UNIFIED IDEOGRAPH-7ED3}) missing from current font.\n",
      "  fig.savefig(plot_fname, dpi=250)\n",
      "D:\\code\\env\\anaconda\\envs\\mhy-yolo\\Lib\\site-packages\\ultralytics\\utils\\metrics.py:428: UserWarning: Glyph 26230 (\\N{CJK UNIFIED IDEOGRAPH-6676}) missing from current font.\n",
      "  fig.savefig(plot_fname, dpi=250)\n",
      "D:\\code\\env\\anaconda\\envs\\mhy-yolo\\Lib\\site-packages\\ultralytics\\utils\\metrics.py:428: UserWarning: Glyph 29579 (\\N{CJK UNIFIED IDEOGRAPH-738B}) missing from current font.\n",
      "  fig.savefig(plot_fname, dpi=250)\n",
      "D:\\code\\env\\anaconda\\envs\\mhy-yolo\\Lib\\site-packages\\ultralytics\\utils\\metrics.py:428: UserWarning: Glyph 29260 (\\N{CJK UNIFIED IDEOGRAPH-724C}) missing from current font.\n",
      "  fig.savefig(plot_fname, dpi=250)\n",
      "D:\\code\\env\\anaconda\\envs\\mhy-yolo\\Lib\\site-packages\\ultralytics\\utils\\metrics.py:428: UserWarning: Glyph 37030 (\\N{CJK UNIFIED IDEOGRAPH-90A6}) missing from current font.\n",
      "  fig.savefig(plot_fname, dpi=250)\n",
      "D:\\code\\env\\anaconda\\envs\\mhy-yolo\\Lib\\site-packages\\ultralytics\\utils\\metrics.py:428: UserWarning: Glyph 24067 (\\N{CJK UNIFIED IDEOGRAPH-5E03}) missing from current font.\n",
      "  fig.savefig(plot_fname, dpi=250)\n",
      "D:\\code\\env\\anaconda\\envs\\mhy-yolo\\Lib\\site-packages\\ultralytics\\utils\\metrics.py:428: UserWarning: Glyph 21161 (\\N{CJK UNIFIED IDEOGRAPH-52A9}) missing from current font.\n",
      "  fig.savefig(plot_fname, dpi=250)\n",
      "D:\\code\\env\\anaconda\\envs\\mhy-yolo\\Lib\\site-packages\\ultralytics\\utils\\metrics.py:428: UserWarning: Glyph 25163 (\\N{CJK UNIFIED IDEOGRAPH-624B}) missing from current font.\n",
      "  fig.savefig(plot_fname, dpi=250)\n",
      "D:\\code\\env\\anaconda\\envs\\mhy-yolo\\Lib\\site-packages\\ultralytics\\utils\\metrics.py:428: UserWarning: Glyph 30423 (\\N{CJK UNIFIED IDEOGRAPH-76D7}) missing from current font.\n",
      "  fig.savefig(plot_fname, dpi=250)\n",
      "D:\\code\\env\\anaconda\\envs\\mhy-yolo\\Lib\\site-packages\\ultralytics\\utils\\metrics.py:428: UserWarning: Glyph 27934 (\\N{CJK UNIFIED IDEOGRAPH-6D1E}) missing from current font.\n",
      "  fig.savefig(plot_fname, dpi=250)\n",
      "D:\\code\\env\\anaconda\\envs\\mhy-yolo\\Lib\\site-packages\\ultralytics\\utils\\metrics.py:428: UserWarning: Glyph 23458 (\\N{CJK UNIFIED IDEOGRAPH-5BA2}) missing from current font.\n",
      "  fig.savefig(plot_fname, dpi=250)\n",
      "D:\\code\\env\\anaconda\\envs\\mhy-yolo\\Lib\\site-packages\\ultralytics\\utils\\metrics.py:428: UserWarning: Glyph 30450 (\\N{CJK UNIFIED IDEOGRAPH-76F2}) missing from current font.\n",
      "  fig.savefig(plot_fname, dpi=250)\n",
      "D:\\code\\env\\anaconda\\envs\\mhy-yolo\\Lib\\site-packages\\ultralytics\\utils\\metrics.py:428: UserWarning: Glyph 30418 (\\N{CJK UNIFIED IDEOGRAPH-76D2}) missing from current font.\n",
      "  fig.savefig(plot_fname, dpi=250)\n",
      "D:\\code\\env\\anaconda\\envs\\mhy-yolo\\Lib\\site-packages\\ultralytics\\utils\\metrics.py:428: UserWarning: Glyph 22495 (\\N{CJK UNIFIED IDEOGRAPH-57DF}) missing from current font.\n",
      "  fig.savefig(plot_fname, dpi=250)\n",
      "D:\\code\\env\\anaconda\\envs\\mhy-yolo\\Lib\\site-packages\\ultralytics\\utils\\metrics.py:428: UserWarning: Glyph 30495 (\\N{CJK UNIFIED IDEOGRAPH-771F}) missing from current font.\n",
      "  fig.savefig(plot_fname, dpi=250)\n",
      "D:\\code\\env\\anaconda\\envs\\mhy-yolo\\Lib\\site-packages\\ultralytics\\utils\\metrics.py:428: UserWarning: Glyph 30456 (\\N{CJK UNIFIED IDEOGRAPH-76F8}) missing from current font.\n",
      "  fig.savefig(plot_fname, dpi=250)\n",
      "D:\\code\\env\\anaconda\\envs\\mhy-yolo\\Lib\\site-packages\\ultralytics\\utils\\metrics.py:428: UserWarning: Glyph 31192 (\\N{CJK UNIFIED IDEOGRAPH-79D8}) missing from current font.\n",
      "  fig.savefig(plot_fname, dpi=250)\n",
      "D:\\code\\env\\anaconda\\envs\\mhy-yolo\\Lib\\site-packages\\ultralytics\\utils\\metrics.py:428: UserWarning: Glyph 24452 (\\N{CJK UNIFIED IDEOGRAPH-5F84}) missing from current font.\n",
      "  fig.savefig(plot_fname, dpi=250)\n",
      "D:\\code\\env\\anaconda\\envs\\mhy-yolo\\Lib\\site-packages\\ultralytics\\utils\\metrics.py:428: UserWarning: Glyph 31354 (\\N{CJK UNIFIED IDEOGRAPH-7A7A}) missing from current font.\n",
      "  fig.savefig(plot_fname, dpi=250)\n",
      "D:\\code\\env\\anaconda\\envs\\mhy-yolo\\Lib\\site-packages\\ultralytics\\utils\\metrics.py:428: UserWarning: Glyph 30333 (\\N{CJK UNIFIED IDEOGRAPH-767D}) missing from current font.\n",
      "  fig.savefig(plot_fname, dpi=250)\n",
      "D:\\code\\env\\anaconda\\envs\\mhy-yolo\\Lib\\site-packages\\ultralytics\\utils\\metrics.py:428: UserWarning: Glyph 24050 (\\N{CJK UNIFIED IDEOGRAPH-5DF2}) missing from current font.\n",
      "  fig.savefig(plot_fname, dpi=250)\n",
      "D:\\code\\env\\anaconda\\envs\\mhy-yolo\\Lib\\site-packages\\ultralytics\\utils\\metrics.py:428: UserWarning: Glyph 36890 (\\N{CJK UNIFIED IDEOGRAPH-901A}) missing from current font.\n",
      "  fig.savefig(plot_fname, dpi=250)\n",
      "D:\\code\\env\\anaconda\\envs\\mhy-yolo\\Lib\\site-packages\\ultralytics\\utils\\metrics.py:428: UserWarning: Glyph 34892 (\\N{CJK UNIFIED IDEOGRAPH-884C}) missing from current font.\n",
      "  fig.savefig(plot_fname, dpi=250)\n",
      "D:\\code\\env\\anaconda\\envs\\mhy-yolo\\Lib\\site-packages\\ultralytics\\utils\\metrics.py:428: UserWarning: Glyph 26410 (\\N{CJK UNIFIED IDEOGRAPH-672A}) missing from current font.\n",
      "  fig.savefig(plot_fname, dpi=250)\n",
      "D:\\code\\env\\anaconda\\envs\\mhy-yolo\\Lib\\site-packages\\ultralytics\\utils\\metrics.py:428: UserWarning: Glyph 31934 (\\N{CJK UNIFIED IDEOGRAPH-7CBE}) missing from current font.\n",
      "  fig.savefig(plot_fname, dpi=250)\n",
      "D:\\code\\env\\anaconda\\envs\\mhy-yolo\\Lib\\site-packages\\ultralytics\\utils\\metrics.py:428: UserWarning: Glyph 38160 (\\N{CJK UNIFIED IDEOGRAPH-9510}) missing from current font.\n",
      "  fig.savefig(plot_fname, dpi=250)\n",
      "D:\\code\\env\\anaconda\\envs\\mhy-yolo\\Lib\\site-packages\\ultralytics\\utils\\metrics.py:428: UserWarning: Glyph 32039 (\\N{CJK UNIFIED IDEOGRAPH-7D27}) missing from current font.\n",
      "  fig.savefig(plot_fname, dpi=250)\n",
      "D:\\code\\env\\anaconda\\envs\\mhy-yolo\\Lib\\site-packages\\ultralytics\\utils\\metrics.py:428: UserWarning: Glyph 24613 (\\N{CJK UNIFIED IDEOGRAPH-6025}) missing from current font.\n",
      "  fig.savefig(plot_fname, dpi=250)\n",
      "D:\\code\\env\\anaconda\\envs\\mhy-yolo\\Lib\\site-packages\\ultralytics\\utils\\metrics.py:428: UserWarning: Glyph 25764 (\\N{CJK UNIFIED IDEOGRAPH-64A4}) missing from current font.\n",
      "  fig.savefig(plot_fname, dpi=250)\n",
      "D:\\code\\env\\anaconda\\envs\\mhy-yolo\\Lib\\site-packages\\ultralytics\\utils\\metrics.py:428: UserWarning: Glyph 31163 (\\N{CJK UNIFIED IDEOGRAPH-79BB}) missing from current font.\n",
      "  fig.savefig(plot_fname, dpi=250)\n",
      "D:\\code\\env\\anaconda\\envs\\mhy-yolo\\Lib\\site-packages\\ultralytics\\utils\\metrics.py:428: UserWarning: Glyph 35010 (\\N{CJK UNIFIED IDEOGRAPH-88C2}) missing from current font.\n",
      "  fig.savefig(plot_fname, dpi=250)\n",
      "D:\\code\\env\\anaconda\\envs\\mhy-yolo\\Lib\\site-packages\\ultralytics\\utils\\metrics.py:428: UserWarning: Glyph 38553 (\\N{CJK UNIFIED IDEOGRAPH-9699}) missing from current font.\n",
      "  fig.savefig(plot_fname, dpi=250)\n",
      "D:\\code\\env\\anaconda\\envs\\mhy-yolo\\Lib\\site-packages\\ultralytics\\utils\\metrics.py:428: UserWarning: Glyph 35843 (\\N{CJK UNIFIED IDEOGRAPH-8C03}) missing from current font.\n",
      "  fig.savefig(plot_fname, dpi=250)\n",
      "D:\\code\\env\\anaconda\\envs\\mhy-yolo\\Lib\\site-packages\\ultralytics\\utils\\metrics.py:428: UserWarning: Glyph 26597 (\\N{CJK UNIFIED IDEOGRAPH-67E5}) missing from current font.\n",
      "  fig.savefig(plot_fname, dpi=250)\n",
      "D:\\code\\env\\anaconda\\envs\\mhy-yolo\\Lib\\site-packages\\ultralytics\\utils\\metrics.py:428: UserWarning: Glyph 21327 (\\N{CJK UNIFIED IDEOGRAPH-534F}) missing from current font.\n",
      "  fig.savefig(plot_fname, dpi=250)\n",
      "D:\\code\\env\\anaconda\\envs\\mhy-yolo\\Lib\\site-packages\\ultralytics\\utils\\metrics.py:428: UserWarning: Glyph 21592 (\\N{CJK UNIFIED IDEOGRAPH-5458}) missing from current font.\n",
      "  fig.savefig(plot_fname, dpi=250)\n",
      "D:\\code\\env\\anaconda\\envs\\mhy-yolo\\Lib\\site-packages\\ultralytics\\utils\\metrics.py:428: UserWarning: Glyph 36215 (\\N{CJK UNIFIED IDEOGRAPH-8D77}) missing from current font.\n",
      "  fig.savefig(plot_fname, dpi=250)\n",
      "D:\\code\\env\\anaconda\\envs\\mhy-yolo\\Lib\\site-packages\\ultralytics\\utils\\metrics.py:428: UserWarning: Glyph 36947 (\\N{CJK UNIFIED IDEOGRAPH-9053}) missing from current font.\n",
      "  fig.savefig(plot_fname, dpi=250)\n",
      "D:\\code\\env\\anaconda\\envs\\mhy-yolo\\Lib\\site-packages\\ultralytics\\utils\\metrics.py:428: UserWarning: Glyph 36994 (\\N{CJK UNIFIED IDEOGRAPH-9082}) missing from current font.\n",
      "  fig.savefig(plot_fname, dpi=250)\n",
      "D:\\code\\env\\anaconda\\envs\\mhy-yolo\\Lib\\site-packages\\ultralytics\\utils\\metrics.py:428: UserWarning: Glyph 36869 (\\N{CJK UNIFIED IDEOGRAPH-9005}) missing from current font.\n",
      "  fig.savefig(plot_fname, dpi=250)\n",
      "D:\\code\\env\\anaconda\\envs\\mhy-yolo\\Lib\\site-packages\\ultralytics\\utils\\metrics.py:428: UserWarning: Glyph 21830 (\\N{CJK UNIFIED IDEOGRAPH-5546}) missing from current font.\n",
      "  fig.savefig(plot_fname, dpi=250)\n",
      "D:\\code\\env\\anaconda\\envs\\mhy-yolo\\Lib\\site-packages\\ultralytics\\utils\\metrics.py:428: UserWarning: Glyph 25161 (\\N{CJK UNIFIED IDEOGRAPH-6249}) missing from current font.\n",
      "  fig.savefig(plot_fname, dpi=250)\n",
      "D:\\code\\env\\anaconda\\envs\\mhy-yolo\\Lib\\site-packages\\ultralytics\\utils\\metrics.py:428: UserWarning: Glyph 31105 (\\N{CJK UNIFIED IDEOGRAPH-7981}) missing from current font.\n",
      "  fig.savefig(plot_fname, dpi=250)\n",
      "D:\\code\\env\\anaconda\\envs\\mhy-yolo\\Lib\\site-packages\\ultralytics\\utils\\metrics.py:428: UserWarning: Glyph 38381 (\\N{CJK UNIFIED IDEOGRAPH-95ED}) missing from current font.\n",
      "  fig.savefig(plot_fname, dpi=250)\n",
      "D:\\code\\env\\anaconda\\envs\\mhy-yolo\\Lib\\site-packages\\ultralytics\\utils\\metrics.py:428: UserWarning: Glyph 21892 (\\N{CJK UNIFIED IDEOGRAPH-5584}) missing from current font.\n",
      "  fig.savefig(plot_fname, dpi=250)\n",
      "D:\\code\\env\\anaconda\\envs\\mhy-yolo\\Lib\\site-packages\\ultralytics\\utils\\metrics.py:428: UserWarning: Glyph 25112 (\\N{CJK UNIFIED IDEOGRAPH-6218}) missing from current font.\n",
      "  fig.savefig(plot_fname, dpi=250)\n",
      "D:\\code\\env\\anaconda\\envs\\mhy-yolo\\Lib\\site-packages\\ultralytics\\utils\\metrics.py:428: UserWarning: Glyph 36130 (\\N{CJK UNIFIED IDEOGRAPH-8D22}) missing from current font.\n",
      "  fig.savefig(plot_fname, dpi=250)\n",
      "D:\\code\\env\\anaconda\\envs\\mhy-yolo\\Lib\\site-packages\\ultralytics\\utils\\metrics.py:428: UserWarning: Glyph 23500 (\\N{CJK UNIFIED IDEOGRAPH-5BCC}) missing from current font.\n",
      "  fig.savefig(plot_fname, dpi=250)\n",
      "D:\\code\\env\\anaconda\\envs\\mhy-yolo\\Lib\\site-packages\\ultralytics\\utils\\metrics.py:428: UserWarning: Glyph 38450 (\\N{CJK UNIFIED IDEOGRAPH-9632}) missing from current font.\n",
      "  fig.savefig(plot_fname, dpi=250)\n",
      "D:\\code\\env\\anaconda\\envs\\mhy-yolo\\Lib\\site-packages\\ultralytics\\utils\\metrics.py:428: UserWarning: Glyph 21355 (\\N{CJK UNIFIED IDEOGRAPH-536B}) missing from current font.\n",
      "  fig.savefig(plot_fname, dpi=250)\n",
      "D:\\code\\env\\anaconda\\envs\\mhy-yolo\\Lib\\site-packages\\ultralytics\\utils\\metrics.py:428: UserWarning: Glyph 20891 (\\N{CJK UNIFIED IDEOGRAPH-519B}) missing from current font.\n",
      "  fig.savefig(plot_fname, dpi=250)\n",
      "D:\\code\\env\\anaconda\\envs\\mhy-yolo\\Lib\\site-packages\\ultralytics\\utils\\metrics.py:428: UserWarning: Glyph 21518 (\\N{CJK UNIFIED IDEOGRAPH-540E}) missing from current font.\n",
      "  fig.savefig(plot_fname, dpi=250)\n",
      "D:\\code\\env\\anaconda\\envs\\mhy-yolo\\Lib\\site-packages\\ultralytics\\utils\\metrics.py:428: UserWarning: Glyph 21220 (\\N{CJK UNIFIED IDEOGRAPH-52E4}) missing from current font.\n",
      "  fig.savefig(plot_fname, dpi=250)\n",
      "D:\\code\\env\\anaconda\\envs\\mhy-yolo\\Lib\\site-packages\\ultralytics\\utils\\metrics.py:428: UserWarning: Glyph 39037 (\\N{CJK UNIFIED IDEOGRAPH-987D}) missing from current font.\n",
      "  fig.savefig(plot_fname, dpi=250)\n",
      "D:\\code\\env\\anaconda\\envs\\mhy-yolo\\Lib\\site-packages\\ultralytics\\utils\\metrics.py:428: UserWarning: Glyph 22266 (\\N{CJK UNIFIED IDEOGRAPH-56FA}) missing from current font.\n",
      "  fig.savefig(plot_fname, dpi=250)\n",
      "D:\\code\\env\\anaconda\\envs\\mhy-yolo\\Lib\\site-packages\\ultralytics\\utils\\metrics.py:428: UserWarning: Glyph 39301 (\\N{CJK UNIFIED IDEOGRAPH-9985}) missing from current font.\n",
      "  fig.savefig(plot_fname, dpi=250)\n",
      "D:\\code\\env\\anaconda\\envs\\mhy-yolo\\Lib\\site-packages\\ultralytics\\utils\\metrics.py:428: UserWarning: Glyph 39292 (\\N{CJK UNIFIED IDEOGRAPH-997C}) missing from current font.\n",
      "  fig.savefig(plot_fname, dpi=250)\n",
      "D:\\code\\env\\anaconda\\envs\\mhy-yolo\\Lib\\site-packages\\ultralytics\\utils\\metrics.py:428: UserWarning: Glyph 22825 (\\N{CJK UNIFIED IDEOGRAPH-5929}) missing from current font.\n",
      "  fig.savefig(plot_fname, dpi=250)\n",
      "D:\\code\\env\\anaconda\\envs\\mhy-yolo\\Lib\\site-packages\\ultralytics\\utils\\metrics.py:428: UserWarning: Glyph 38477 (\\N{CJK UNIFIED IDEOGRAPH-964D}) missing from current font.\n",
      "  fig.savefig(plot_fname, dpi=250)\n",
      "D:\\code\\env\\anaconda\\envs\\mhy-yolo\\Lib\\site-packages\\ultralytics\\utils\\metrics.py:428: UserWarning: Glyph 40483 (\\N{CJK UNIFIED IDEOGRAPH-9E23}) missing from current font.\n",
      "  fig.savefig(plot_fname, dpi=250)\n",
      "D:\\code\\env\\anaconda\\envs\\mhy-yolo\\Lib\\site-packages\\ultralytics\\utils\\metrics.py:428: UserWarning: Glyph 24509 (\\N{CJK UNIFIED IDEOGRAPH-5FBD}) missing from current font.\n",
      "  fig.savefig(plot_fname, dpi=250)\n",
      "D:\\code\\env\\anaconda\\envs\\mhy-yolo\\Lib\\site-packages\\ultralytics\\utils\\metrics.py:428: UserWarning: Glyph 20652 (\\N{CJK UNIFIED IDEOGRAPH-50AC}) missing from current font.\n",
      "  fig.savefig(plot_fname, dpi=250)\n",
      "D:\\code\\env\\anaconda\\envs\\mhy-yolo\\Lib\\site-packages\\ultralytics\\utils\\metrics.py:428: UserWarning: Glyph 21058 (\\N{CJK UNIFIED IDEOGRAPH-5242}) missing from current font.\n",
      "  fig.savefig(plot_fname, dpi=250)\n",
      "D:\\code\\env\\anaconda\\envs\\mhy-yolo\\Lib\\site-packages\\ultralytics\\utils\\metrics.py:428: UserWarning: Glyph 40831 (\\N{CJK UNIFIED IDEOGRAPH-9F7F}) missing from current font.\n",
      "  fig.savefig(plot_fname, dpi=250)\n",
      "D:\\code\\env\\anaconda\\envs\\mhy-yolo\\Lib\\site-packages\\ultralytics\\utils\\metrics.py:428: UserWarning: Glyph 36718 (\\N{CJK UNIFIED IDEOGRAPH-8F6E}) missing from current font.\n",
      "  fig.savefig(plot_fname, dpi=250)\n",
      "D:\\code\\env\\anaconda\\envs\\mhy-yolo\\Lib\\site-packages\\ultralytics\\utils\\metrics.py:428: UserWarning: Glyph 30828 (\\N{CJK UNIFIED IDEOGRAPH-786C}) missing from current font.\n",
      "  fig.savefig(plot_fname, dpi=250)\n",
      "D:\\code\\env\\anaconda\\envs\\mhy-yolo\\Lib\\site-packages\\ultralytics\\utils\\metrics.py:428: UserWarning: Glyph 24065 (\\N{CJK UNIFIED IDEOGRAPH-5E01}) missing from current font.\n",
      "  fig.savefig(plot_fname, dpi=250)\n",
      "D:\\code\\env\\anaconda\\envs\\mhy-yolo\\Lib\\site-packages\\ultralytics\\utils\\metrics.py:428: UserWarning: Glyph 31665 (\\N{CJK UNIFIED IDEOGRAPH-7BB1}) missing from current font.\n",
      "  fig.savefig(plot_fname, dpi=250)\n",
      "D:\\code\\env\\anaconda\\envs\\mhy-yolo\\Lib\\site-packages\\ultralytics\\utils\\metrics.py:428: UserWarning: Glyph 19981 (\\N{CJK UNIFIED IDEOGRAPH-4E0D}) missing from current font.\n",
      "  fig.savefig(plot_fname, dpi=250)\n",
      "D:\\code\\env\\anaconda\\envs\\mhy-yolo\\Lib\\site-packages\\ultralytics\\utils\\metrics.py:428: UserWarning: Glyph 23452 (\\N{CJK UNIFIED IDEOGRAPH-5B9C}) missing from current font.\n",
      "  fig.savefig(plot_fname, dpi=250)\n",
      "D:\\code\\env\\anaconda\\envs\\mhy-yolo\\Lib\\site-packages\\ultralytics\\utils\\metrics.py:428: UserWarning: Glyph 20037 (\\N{CJK UNIFIED IDEOGRAPH-4E45}) missing from current font.\n",
      "  fig.savefig(plot_fname, dpi=250)\n",
      "D:\\code\\env\\anaconda\\envs\\mhy-yolo\\Lib\\site-packages\\ultralytics\\utils\\metrics.py:428: UserWarning: Glyph 30041 (\\N{CJK UNIFIED IDEOGRAPH-7559}) missing from current font.\n",
      "  fig.savefig(plot_fname, dpi=250)\n",
      "D:\\code\\env\\anaconda\\envs\\mhy-yolo\\Lib\\site-packages\\ultralytics\\utils\\metrics.py:428: UserWarning: Glyph 19994 (\\N{CJK UNIFIED IDEOGRAPH-4E1A}) missing from current font.\n",
      "  fig.savefig(plot_fname, dpi=250)\n",
      "D:\\code\\env\\anaconda\\envs\\mhy-yolo\\Lib\\site-packages\\ultralytics\\utils\\metrics.py:428: UserWarning: Glyph 32489 (\\N{CJK UNIFIED IDEOGRAPH-7EE9}) missing from current font.\n",
      "  fig.savefig(plot_fname, dpi=250)\n",
      "D:\\code\\env\\anaconda\\envs\\mhy-yolo\\Lib\\site-packages\\ultralytics\\utils\\metrics.py:428: UserWarning: Glyph 32771 (\\N{CJK UNIFIED IDEOGRAPH-8003}) missing from current font.\n",
      "  fig.savefig(plot_fname, dpi=250)\n",
      "D:\\code\\env\\anaconda\\envs\\mhy-yolo\\Lib\\site-packages\\ultralytics\\utils\\metrics.py:428: UserWarning: Glyph 23519 (\\N{CJK UNIFIED IDEOGRAPH-5BDF}) missing from current font.\n",
      "  fig.savefig(plot_fname, dpi=250)\n",
      "D:\\code\\env\\anaconda\\envs\\mhy-yolo\\Lib\\site-packages\\ultralytics\\utils\\metrics.py:428: UserWarning: Glyph 28857 (\\N{CJK UNIFIED IDEOGRAPH-70B9}) missing from current font.\n",
      "  fig.savefig(plot_fname, dpi=250)\n",
      "D:\\code\\env\\anaconda\\envs\\mhy-yolo\\Lib\\site-packages\\ultralytics\\utils\\metrics.py:428: UserWarning: Glyph 20020 (\\N{CJK UNIFIED IDEOGRAPH-4E34}) missing from current font.\n",
      "  fig.savefig(plot_fname, dpi=250)\n",
      "D:\\code\\env\\anaconda\\envs\\mhy-yolo\\Lib\\site-packages\\ultralytics\\utils\\metrics.py:428: UserWarning: Glyph 26102 (\\N{CJK UNIFIED IDEOGRAPH-65F6}) missing from current font.\n",
      "  fig.savefig(plot_fname, dpi=250)\n",
      "D:\\code\\env\\anaconda\\envs\\mhy-yolo\\Lib\\site-packages\\ultralytics\\utils\\metrics.py:428: UserWarning: Glyph 25293 (\\N{CJK UNIFIED IDEOGRAPH-62CD}) missing from current font.\n",
      "  fig.savefig(plot_fname, dpi=250)\n",
      "D:\\code\\env\\anaconda\\envs\\mhy-yolo\\Lib\\site-packages\\ultralytics\\utils\\metrics.py:428: UserWarning: Glyph 26723 (\\N{CJK UNIFIED IDEOGRAPH-6863}) missing from current font.\n",
      "  fig.savefig(plot_fname, dpi=250)\n",
      "D:\\code\\env\\anaconda\\envs\\mhy-yolo\\Lib\\site-packages\\ultralytics\\utils\\metrics.py:428: UserWarning: Glyph 20241 (\\N{CJK UNIFIED IDEOGRAPH-4F11}) missing from current font.\n",
      "  fig.savefig(plot_fname, dpi=250)\n",
      "D:\\code\\env\\anaconda\\envs\\mhy-yolo\\Lib\\site-packages\\ultralytics\\utils\\metrics.py:428: UserWarning: Glyph 24687 (\\N{CJK UNIFIED IDEOGRAPH-606F}) missing from current font.\n",
      "  fig.savefig(plot_fname, dpi=250)\n",
      "D:\\code\\env\\anaconda\\envs\\mhy-yolo\\Lib\\site-packages\\ultralytics\\utils\\metrics.py:428: UserWarning: Glyph 21306 (\\N{CJK UNIFIED IDEOGRAPH-533A}) missing from current font.\n",
      "  fig.savefig(plot_fname, dpi=250)\n",
      "D:\\code\\env\\anaconda\\envs\\mhy-yolo\\Lib\\site-packages\\ultralytics\\utils\\metrics.py:428: UserWarning: Glyph 20256 (\\N{CJK UNIFIED IDEOGRAPH-4F20}) missing from current font.\n",
      "  fig.savefig(plot_fname, dpi=250)\n",
      "D:\\code\\env\\anaconda\\envs\\mhy-yolo\\Lib\\site-packages\\ultralytics\\utils\\metrics.py:428: UserWarning: Glyph 36865 (\\N{CJK UNIFIED IDEOGRAPH-9001}) missing from current font.\n",
      "  fig.savefig(plot_fname, dpi=250)\n",
      "D:\\code\\env\\anaconda\\envs\\mhy-yolo\\Lib\\site-packages\\ultralytics\\utils\\metrics.py:428: UserWarning: Glyph 20405 (\\N{CJK UNIFIED IDEOGRAPH-4FB5}) missing from current font.\n",
      "  fig.savefig(plot_fname, dpi=250)\n",
      "D:\\code\\env\\anaconda\\envs\\mhy-yolo\\Lib\\site-packages\\ultralytics\\utils\\metrics.py:428: UserWarning: Glyph 34432 (\\N{CJK UNIFIED IDEOGRAPH-8680}) missing from current font.\n",
      "  fig.savefig(plot_fname, dpi=250)\n",
      "D:\\code\\env\\anaconda\\envs\\mhy-yolo\\Lib\\site-packages\\ultralytics\\utils\\metrics.py:428: UserWarning: Glyph 25197 (\\N{CJK UNIFIED IDEOGRAPH-626D}) missing from current font.\n",
      "  fig.savefig(plot_fname, dpi=250)\n",
      "D:\\code\\env\\anaconda\\envs\\mhy-yolo\\Lib\\site-packages\\ultralytics\\utils\\metrics.py:428: UserWarning: Glyph 34507 (\\N{CJK UNIFIED IDEOGRAPH-86CB}) missing from current font.\n",
      "  fig.savefig(plot_fname, dpi=250)\n",
      "D:\\code\\env\\anaconda\\envs\\mhy-yolo\\Lib\\site-packages\\ultralytics\\utils\\metrics.py:428: UserWarning: Glyph 26426 (\\N{CJK UNIFIED IDEOGRAPH-673A}) missing from current font.\n",
      "  fig.savefig(plot_fname, dpi=250)\n",
      "D:\\code\\env\\anaconda\\envs\\mhy-yolo\\Lib\\site-packages\\ultralytics\\utils\\metrics.py:428: UserWarning: Glyph 20551 (\\N{CJK UNIFIED IDEOGRAPH-5047}) missing from current font.\n",
      "  fig.savefig(plot_fname, dpi=250)\n",
      "D:\\code\\env\\anaconda\\envs\\mhy-yolo\\Lib\\site-packages\\ultralytics\\utils\\metrics.py:428: UserWarning: Glyph 38754 (\\N{CJK UNIFIED IDEOGRAPH-9762}) missing from current font.\n",
      "  fig.savefig(plot_fname, dpi=250)\n",
      "D:\\code\\env\\anaconda\\envs\\mhy-yolo\\Lib\\site-packages\\ultralytics\\utils\\metrics.py:428: UserWarning: Glyph 30740 (\\N{CJK UNIFIED IDEOGRAPH-7814}) missing from current font.\n",
      "  fig.savefig(plot_fname, dpi=250)\n",
      "D:\\code\\env\\anaconda\\envs\\mhy-yolo\\Lib\\site-packages\\ultralytics\\utils\\metrics.py:428: UserWarning: Glyph 31350 (\\N{CJK UNIFIED IDEOGRAPH-7A76}) missing from current font.\n",
      "  fig.savefig(plot_fname, dpi=250)\n",
      "D:\\code\\env\\anaconda\\envs\\mhy-yolo\\Lib\\site-packages\\ultralytics\\utils\\metrics.py:428: UserWarning: Glyph 32773 (\\N{CJK UNIFIED IDEOGRAPH-8005}) missing from current font.\n",
      "  fig.savefig(plot_fname, dpi=250)\n",
      "D:\\code\\env\\anaconda\\envs\\mhy-yolo\\Lib\\site-packages\\ultralytics\\utils\\metrics.py:428: UserWarning: Glyph 20928 (\\N{CJK UNIFIED IDEOGRAPH-51C0}) missing from current font.\n",
      "  fig.savefig(plot_fname, dpi=250)\n",
      "D:\\code\\env\\anaconda\\envs\\mhy-yolo\\Lib\\site-packages\\ultralytics\\utils\\metrics.py:428: UserWarning: Glyph 21270 (\\N{CJK UNIFIED IDEOGRAPH-5316}) missing from current font.\n",
      "  fig.savefig(plot_fname, dpi=250)\n",
      "D:\\code\\env\\anaconda\\envs\\mhy-yolo\\Lib\\site-packages\\ultralytics\\utils\\metrics.py:428: UserWarning: Glyph 23460 (\\N{CJK UNIFIED IDEOGRAPH-5BA4}) missing from current font.\n",
      "  fig.savefig(plot_fname, dpi=250)\n",
      "D:\\code\\env\\anaconda\\envs\\mhy-yolo\\Lib\\site-packages\\ultralytics\\utils\\metrics.py:428: UserWarning: Glyph 21361 (\\N{CJK UNIFIED IDEOGRAPH-5371}) missing from current font.\n",
      "  fig.savefig(plot_fname, dpi=250)\n",
      "D:\\code\\env\\anaconda\\envs\\mhy-yolo\\Lib\\site-packages\\ultralytics\\utils\\metrics.py:428: UserWarning: Glyph 21450 (\\N{CJK UNIFIED IDEOGRAPH-53CA}) missing from current font.\n",
      "  fig.savefig(plot_fname, dpi=250)\n",
      "D:\\code\\env\\anaconda\\envs\\mhy-yolo\\Lib\\site-packages\\ultralytics\\utils\\metrics.py:428: UserWarning: Glyph 34917 (\\N{CJK UNIFIED IDEOGRAPH-8865}) missing from current font.\n",
      "  fig.savefig(plot_fname, dpi=250)\n",
      "D:\\code\\env\\anaconda\\envs\\mhy-yolo\\Lib\\site-packages\\ultralytics\\utils\\metrics.py:428: UserWarning: Glyph 32473 (\\N{CJK UNIFIED IDEOGRAPH-7ED9}) missing from current font.\n",
      "  fig.savefig(plot_fname, dpi=250)\n",
      "D:\\code\\env\\anaconda\\envs\\mhy-yolo\\Lib\\site-packages\\ultralytics\\utils\\metrics.py:428: UserWarning: Glyph 21452 (\\N{CJK UNIFIED IDEOGRAPH-53CC}) missing from current font.\n",
      "  fig.savefig(plot_fname, dpi=250)\n",
      "D:\\code\\env\\anaconda\\envs\\mhy-yolo\\Lib\\site-packages\\ultralytics\\utils\\metrics.py:428: UserWarning: Glyph 37325 (\\N{CJK UNIFIED IDEOGRAPH-91CD}) missing from current font.\n",
      "  fig.savefig(plot_fname, dpi=250)\n",
      "D:\\code\\env\\anaconda\\envs\\mhy-yolo\\Lib\\site-packages\\ultralytics\\utils\\metrics.py:428: UserWarning: Glyph 21628 (\\N{CJK UNIFIED IDEOGRAPH-547C}) missing from current font.\n",
      "  fig.savefig(plot_fname, dpi=250)\n",
      "D:\\code\\env\\anaconda\\envs\\mhy-yolo\\Lib\\site-packages\\ultralytics\\utils\\metrics.py:428: UserWarning: Glyph 21483 (\\N{CJK UNIFIED IDEOGRAPH-53EB}) missing from current font.\n",
      "  fig.savefig(plot_fname, dpi=250)\n",
      "D:\\code\\env\\anaconda\\envs\\mhy-yolo\\Lib\\site-packages\\ultralytics\\utils\\metrics.py:428: UserWarning: Glyph 22686 (\\N{CJK UNIFIED IDEOGRAPH-589E}) missing from current font.\n",
      "  fig.savefig(plot_fname, dpi=250)\n",
      "D:\\code\\env\\anaconda\\envs\\mhy-yolo\\Lib\\site-packages\\ultralytics\\utils\\metrics.py:428: UserWarning: Glyph 25588 (\\N{CJK UNIFIED IDEOGRAPH-63F4}) missing from current font.\n",
      "  fig.savefig(plot_fname, dpi=250)\n",
      "D:\\code\\env\\anaconda\\envs\\mhy-yolo\\Lib\\site-packages\\ultralytics\\utils\\metrics.py:428: UserWarning: Glyph 22833 (\\N{CJK UNIFIED IDEOGRAPH-5931}) missing from current font.\n",
      "  fig.savefig(plot_fname, dpi=250)\n",
      "D:\\code\\env\\anaconda\\envs\\mhy-yolo\\Lib\\site-packages\\ultralytics\\utils\\metrics.py:428: UserWarning: Glyph 32852 (\\N{CJK UNIFIED IDEOGRAPH-8054}) missing from current font.\n",
      "  fig.savefig(plot_fname, dpi=250)\n",
      "D:\\code\\env\\anaconda\\envs\\mhy-yolo\\Lib\\site-packages\\ultralytics\\utils\\metrics.py:428: UserWarning: Glyph 22855 (\\N{CJK UNIFIED IDEOGRAPH-5947}) missing from current font.\n",
      "  fig.savefig(plot_fname, dpi=250)\n",
      "D:\\code\\env\\anaconda\\envs\\mhy-yolo\\Lib\\site-packages\\ultralytics\\utils\\metrics.py:428: UserWarning: Glyph 24618 (\\N{CJK UNIFIED IDEOGRAPH-602A}) missing from current font.\n",
      "  fig.savefig(plot_fname, dpi=250)\n",
      "D:\\code\\env\\anaconda\\envs\\mhy-yolo\\Lib\\site-packages\\ultralytics\\utils\\metrics.py:428: UserWarning: Glyph 30340 (\\N{CJK UNIFIED IDEOGRAPH-7684}) missing from current font.\n",
      "  fig.savefig(plot_fname, dpi=250)\n",
      "D:\\code\\env\\anaconda\\envs\\mhy-yolo\\Lib\\site-packages\\ultralytics\\utils\\metrics.py:428: UserWarning: Glyph 20390 (\\N{CJK UNIFIED IDEOGRAPH-4FA6}) missing from current font.\n",
      "  fig.savefig(plot_fname, dpi=250)\n",
      "D:\\code\\env\\anaconda\\envs\\mhy-yolo\\Lib\\site-packages\\ultralytics\\utils\\metrics.py:428: UserWarning: Glyph 25506 (\\N{CJK UNIFIED IDEOGRAPH-63A2}) missing from current font.\n",
      "  fig.savefig(plot_fname, dpi=250)\n",
      "D:\\code\\env\\anaconda\\envs\\mhy-yolo\\Lib\\site-packages\\ultralytics\\utils\\metrics.py:428: UserWarning: Glyph 36135 (\\N{CJK UNIFIED IDEOGRAPH-8D27}) missing from current font.\n",
      "  fig.savefig(plot_fname, dpi=250)\n",
      "D:\\code\\env\\anaconda\\envs\\mhy-yolo\\Lib\\site-packages\\ultralytics\\utils\\metrics.py:428: UserWarning: Glyph 23432 (\\N{CJK UNIFIED IDEOGRAPH-5B88}) missing from current font.\n",
      "  fig.savefig(plot_fname, dpi=250)\n",
      "D:\\code\\env\\anaconda\\envs\\mhy-yolo\\Lib\\site-packages\\ultralytics\\utils\\metrics.py:428: UserWarning: Glyph 38376 (\\N{CJK UNIFIED IDEOGRAPH-95E8}) missing from current font.\n",
      "  fig.savefig(plot_fname, dpi=250)\n",
      "D:\\code\\env\\anaconda\\envs\\mhy-yolo\\Lib\\site-packages\\ultralytics\\utils\\metrics.py:428: UserWarning: Glyph 20154 (\\N{CJK UNIFIED IDEOGRAPH-4EBA}) missing from current font.\n",
      "  fig.savefig(plot_fname, dpi=250)\n",
      "D:\\code\\env\\anaconda\\envs\\mhy-yolo\\Lib\\site-packages\\ultralytics\\utils\\metrics.py:428: UserWarning: Glyph 23433 (\\N{CJK UNIFIED IDEOGRAPH-5B89}) missing from current font.\n",
      "  fig.savefig(plot_fname, dpi=250)\n",
      "D:\\code\\env\\anaconda\\envs\\mhy-yolo\\Lib\\site-packages\\ultralytics\\utils\\metrics.py:428: UserWarning: Glyph 20840 (\\N{CJK UNIFIED IDEOGRAPH-5168}) missing from current font.\n",
      "  fig.savefig(plot_fname, dpi=250)\n",
      "D:\\code\\env\\anaconda\\envs\\mhy-yolo\\Lib\\site-packages\\ultralytics\\utils\\metrics.py:428: UserWarning: Glyph 24040 (\\N{CJK UNIFIED IDEOGRAPH-5DE8}) missing from current font.\n",
      "  fig.savefig(plot_fname, dpi=250)\n",
      "D:\\code\\env\\anaconda\\envs\\mhy-yolo\\Lib\\site-packages\\ultralytics\\utils\\metrics.py:428: UserWarning: Glyph 20861 (\\N{CJK UNIFIED IDEOGRAPH-517D}) missing from current font.\n",
      "  fig.savefig(plot_fname, dpi=250)\n",
      "D:\\code\\env\\anaconda\\envs\\mhy-yolo\\Lib\\site-packages\\ultralytics\\utils\\metrics.py:428: UserWarning: Glyph 24320 (\\N{CJK UNIFIED IDEOGRAPH-5F00}) missing from current font.\n",
      "  fig.savefig(plot_fname, dpi=250)\n",
      "D:\\code\\env\\anaconda\\envs\\mhy-yolo\\Lib\\site-packages\\ultralytics\\utils\\metrics.py:428: UserWarning: Glyph 21551 (\\N{CJK UNIFIED IDEOGRAPH-542F}) missing from current font.\n",
      "  fig.savefig(plot_fname, dpi=250)\n",
      "D:\\code\\env\\anaconda\\envs\\mhy-yolo\\Lib\\site-packages\\ultralytics\\utils\\metrics.py:428: UserWarning: Glyph 24403 (\\N{CJK UNIFIED IDEOGRAPH-5F53}) missing from current font.\n",
      "  fig.savefig(plot_fname, dpi=250)\n",
      "D:\\code\\env\\anaconda\\envs\\mhy-yolo\\Lib\\site-packages\\ultralytics\\utils\\metrics.py:428: UserWarning: Glyph 21069 (\\N{CJK UNIFIED IDEOGRAPH-524D}) missing from current font.\n",
      "  fig.savefig(plot_fname, dpi=250)\n",
      "D:\\code\\env\\anaconda\\envs\\mhy-yolo\\Lib\\site-packages\\ultralytics\\utils\\metrics.py:428: UserWarning: Glyph 24576 (\\N{CJK UNIFIED IDEOGRAPH-6000}) missing from current font.\n",
      "  fig.savefig(plot_fname, dpi=250)\n",
      "D:\\code\\env\\anaconda\\envs\\mhy-yolo\\Lib\\site-packages\\ultralytics\\utils\\metrics.py:428: UserWarning: Glyph 26031 (\\N{CJK UNIFIED IDEOGRAPH-65AF}) missing from current font.\n",
      "  fig.savefig(plot_fname, dpi=250)\n",
      "D:\\code\\env\\anaconda\\envs\\mhy-yolo\\Lib\\site-packages\\ultralytics\\utils\\metrics.py:428: UserWarning: Glyph 22612 (\\N{CJK UNIFIED IDEOGRAPH-5854}) missing from current font.\n",
      "  fig.savefig(plot_fname, dpi=250)\n",
      "D:\\code\\env\\anaconda\\envs\\mhy-yolo\\Lib\\site-packages\\ultralytics\\utils\\metrics.py:428: UserWarning: Glyph 23398 (\\N{CJK UNIFIED IDEOGRAPH-5B66}) missing from current font.\n",
      "  fig.savefig(plot_fname, dpi=250)\n",
      "D:\\code\\env\\anaconda\\envs\\mhy-yolo\\Lib\\site-packages\\ultralytics\\utils\\metrics.py:428: UserWarning: Glyph 20250 (\\N{CJK UNIFIED IDEOGRAPH-4F1A}) missing from current font.\n",
      "  fig.savefig(plot_fname, dpi=250)\n",
      "D:\\code\\env\\anaconda\\envs\\mhy-yolo\\Lib\\site-packages\\ultralytics\\utils\\metrics.py:428: UserWarning: Glyph 31449 (\\N{CJK UNIFIED IDEOGRAPH-7AD9}) missing from current font.\n",
      "  fig.savefig(plot_fname, dpi=250)\n",
      "D:\\code\\env\\anaconda\\envs\\mhy-yolo\\Lib\\site-packages\\ultralytics\\utils\\metrics.py:428: UserWarning: Glyph 25554 (\\N{CJK UNIFIED IDEOGRAPH-63D2}) missing from current font.\n",
      "  fig.savefig(plot_fname, dpi=250)\n",
      "D:\\code\\env\\anaconda\\envs\\mhy-yolo\\Lib\\site-packages\\ultralytics\\utils\\metrics.py:428: UserWarning: Glyph 20214 (\\N{CJK UNIFIED IDEOGRAPH-4EF6}) missing from current font.\n",
      "  fig.savefig(plot_fname, dpi=250)\n",
      "D:\\code\\env\\anaconda\\envs\\mhy-yolo\\Lib\\site-packages\\ultralytics\\utils\\metrics.py:428: UserWarning: Glyph 33719 (\\N{CJK UNIFIED IDEOGRAPH-83B7}) missing from current font.\n",
      "  fig.savefig(plot_fname, dpi=250)\n",
      "D:\\code\\env\\anaconda\\envs\\mhy-yolo\\Lib\\site-packages\\ultralytics\\utils\\metrics.py:428: UserWarning: Glyph 21462 (\\N{CJK UNIFIED IDEOGRAPH-53D6}) missing from current font.\n",
      "  fig.savefig(plot_fname, dpi=250)\n",
      "D:\\code\\env\\anaconda\\envs\\mhy-yolo\\Lib\\site-packages\\ultralytics\\utils\\metrics.py:428: UserWarning: Glyph 25805 (\\N{CJK UNIFIED IDEOGRAPH-64CD}) missing from current font.\n",
      "  fig.savefig(plot_fname, dpi=250)\n",
      "D:\\code\\env\\anaconda\\envs\\mhy-yolo\\Lib\\site-packages\\ultralytics\\utils\\metrics.py:428: UserWarning: Glyph 32437 (\\N{CJK UNIFIED IDEOGRAPH-7EB5}) missing from current font.\n",
      "  fig.savefig(plot_fname, dpi=250)\n",
      "D:\\code\\env\\anaconda\\envs\\mhy-yolo\\Lib\\site-packages\\ultralytics\\utils\\metrics.py:428: UserWarning: Glyph 26438 (\\N{CJK UNIFIED IDEOGRAPH-6746}) missing from current font.\n",
      "  fig.savefig(plot_fname, dpi=250)\n",
      "D:\\code\\env\\anaconda\\envs\\mhy-yolo\\Lib\\site-packages\\ultralytics\\utils\\metrics.py:428: UserWarning: Glyph 26377 (\\N{CJK UNIFIED IDEOGRAPH-6709}) missing from current font.\n",
      "  fig.savefig(plot_fname, dpi=250)\n",
      "D:\\code\\env\\anaconda\\envs\\mhy-yolo\\Lib\\site-packages\\ultralytics\\utils\\metrics.py:428: UserWarning: Glyph 20607 (\\N{CJK UNIFIED IDEOGRAPH-507F}) missing from current font.\n",
      "  fig.savefig(plot_fname, dpi=250)\n",
      "D:\\code\\env\\anaconda\\envs\\mhy-yolo\\Lib\\site-packages\\ultralytics\\utils\\metrics.py:428: UserWarning: Glyph 27531 (\\N{CJK UNIFIED IDEOGRAPH-6B8B}) missing from current font.\n",
      "  fig.savefig(plot_fname, dpi=250)\n",
      "D:\\code\\env\\anaconda\\envs\\mhy-yolo\\Lib\\site-packages\\ultralytics\\utils\\metrics.py:428: UserWarning: Glyph 30772 (\\N{CJK UNIFIED IDEOGRAPH-7834}) missing from current font.\n",
      "  fig.savefig(plot_fname, dpi=250)\n",
      "D:\\code\\env\\anaconda\\envs\\mhy-yolo\\Lib\\site-packages\\ultralytics\\utils\\metrics.py:428: UserWarning: Glyph 38556 (\\N{CJK UNIFIED IDEOGRAPH-969C}) missing from current font.\n",
      "  fig.savefig(plot_fname, dpi=250)\n",
      "D:\\code\\env\\anaconda\\envs\\mhy-yolo\\Lib\\site-packages\\ultralytics\\utils\\metrics.py:428: UserWarning: Glyph 30861 (\\N{CJK UNIFIED IDEOGRAPH-788D}) missing from current font.\n",
      "  fig.savefig(plot_fname, dpi=250)\n",
      "D:\\code\\env\\anaconda\\envs\\mhy-yolo\\Lib\\site-packages\\ultralytics\\utils\\metrics.py:428: UserWarning: Glyph 29289 (\\N{CJK UNIFIED IDEOGRAPH-7269}) missing from current font.\n",
      "  fig.savefig(plot_fname, dpi=250)\n",
      "D:\\code\\env\\anaconda\\envs\\mhy-yolo\\Lib\\site-packages\\ultralytics\\utils\\metrics.py:428: UserWarning: Glyph 27714 (\\N{CJK UNIFIED IDEOGRAPH-6C42}) missing from current font.\n",
      "  fig.savefig(plot_fname, dpi=250)\n",
      "D:\\code\\env\\anaconda\\envs\\mhy-yolo\\Lib\\site-packages\\ultralytics\\utils\\metrics.py:428: UserWarning: Glyph 25937 (\\N{CJK UNIFIED IDEOGRAPH-6551}) missing from current font.\n",
      "  fig.savefig(plot_fname, dpi=250)\n",
      "D:\\code\\env\\anaconda\\envs\\mhy-yolo\\Lib\\site-packages\\ultralytics\\utils\\metrics.py:428: UserWarning: Glyph 20449 (\\N{CJK UNIFIED IDEOGRAPH-4FE1}) missing from current font.\n",
      "  fig.savefig(plot_fname, dpi=250)\n",
      "D:\\code\\env\\anaconda\\envs\\mhy-yolo\\Lib\\site-packages\\ultralytics\\utils\\metrics.py:428: UserWarning: Glyph 21495 (\\N{CJK UNIFIED IDEOGRAPH-53F7}) missing from current font.\n",
      "  fig.savefig(plot_fname, dpi=250)\n",
      "D:\\code\\env\\anaconda\\envs\\mhy-yolo\\Lib\\site-packages\\ultralytics\\utils\\metrics.py:428: UserWarning: Glyph 27835 (\\N{CJK UNIFIED IDEOGRAPH-6CBB}) missing from current font.\n",
      "  fig.savefig(plot_fname, dpi=250)\n",
      "D:\\code\\env\\anaconda\\envs\\mhy-yolo\\Lib\\site-packages\\ultralytics\\utils\\metrics.py:428: UserWarning: Glyph 23448 (\\N{CJK UNIFIED IDEOGRAPH-5B98}) missing from current font.\n",
      "  fig.savefig(plot_fname, dpi=250)\n",
      "D:\\code\\env\\anaconda\\envs\\mhy-yolo\\Lib\\site-packages\\ultralytics\\utils\\metrics.py:428: UserWarning: Glyph 23567 (\\N{CJK UNIFIED IDEOGRAPH-5C0F}) missing from current font.\n",
      "  fig.savefig(plot_fname, dpi=250)\n",
      "D:\\code\\env\\anaconda\\envs\\mhy-yolo\\Lib\\site-packages\\ultralytics\\utils\\metrics.py:428: UserWarning: Glyph 38431 (\\N{CJK UNIFIED IDEOGRAPH-961F}) missing from current font.\n",
      "  fig.savefig(plot_fname, dpi=250)\n",
      "D:\\code\\env\\anaconda\\envs\\mhy-yolo\\Lib\\site-packages\\ultralytics\\utils\\metrics.py:428: UserWarning: Glyph 27963 (\\N{CJK UNIFIED IDEOGRAPH-6D3B}) missing from current font.\n",
      "  fig.savefig(plot_fname, dpi=250)\n",
      "D:\\code\\env\\anaconda\\envs\\mhy-yolo\\Lib\\site-packages\\ultralytics\\utils\\metrics.py:428: UserWarning: Glyph 32467 (\\N{CJK UNIFIED IDEOGRAPH-7ED3}) missing from current font.\n",
      "  fig.savefig(plot_fname, dpi=250)\n",
      "D:\\code\\env\\anaconda\\envs\\mhy-yolo\\Lib\\site-packages\\ultralytics\\utils\\metrics.py:428: UserWarning: Glyph 26230 (\\N{CJK UNIFIED IDEOGRAPH-6676}) missing from current font.\n",
      "  fig.savefig(plot_fname, dpi=250)\n",
      "D:\\code\\env\\anaconda\\envs\\mhy-yolo\\Lib\\site-packages\\ultralytics\\utils\\metrics.py:428: UserWarning: Glyph 29579 (\\N{CJK UNIFIED IDEOGRAPH-738B}) missing from current font.\n",
      "  fig.savefig(plot_fname, dpi=250)\n",
      "D:\\code\\env\\anaconda\\envs\\mhy-yolo\\Lib\\site-packages\\ultralytics\\utils\\metrics.py:428: UserWarning: Glyph 29260 (\\N{CJK UNIFIED IDEOGRAPH-724C}) missing from current font.\n",
      "  fig.savefig(plot_fname, dpi=250)\n",
      "D:\\code\\env\\anaconda\\envs\\mhy-yolo\\Lib\\site-packages\\ultralytics\\utils\\metrics.py:428: UserWarning: Glyph 37030 (\\N{CJK UNIFIED IDEOGRAPH-90A6}) missing from current font.\n",
      "  fig.savefig(plot_fname, dpi=250)\n",
      "D:\\code\\env\\anaconda\\envs\\mhy-yolo\\Lib\\site-packages\\ultralytics\\utils\\metrics.py:428: UserWarning: Glyph 24067 (\\N{CJK UNIFIED IDEOGRAPH-5E03}) missing from current font.\n",
      "  fig.savefig(plot_fname, dpi=250)\n",
      "D:\\code\\env\\anaconda\\envs\\mhy-yolo\\Lib\\site-packages\\ultralytics\\utils\\metrics.py:428: UserWarning: Glyph 21161 (\\N{CJK UNIFIED IDEOGRAPH-52A9}) missing from current font.\n",
      "  fig.savefig(plot_fname, dpi=250)\n",
      "D:\\code\\env\\anaconda\\envs\\mhy-yolo\\Lib\\site-packages\\ultralytics\\utils\\metrics.py:428: UserWarning: Glyph 25163 (\\N{CJK UNIFIED IDEOGRAPH-624B}) missing from current font.\n",
      "  fig.savefig(plot_fname, dpi=250)\n",
      "D:\\code\\env\\anaconda\\envs\\mhy-yolo\\Lib\\site-packages\\ultralytics\\utils\\metrics.py:428: UserWarning: Glyph 30423 (\\N{CJK UNIFIED IDEOGRAPH-76D7}) missing from current font.\n",
      "  fig.savefig(plot_fname, dpi=250)\n",
      "D:\\code\\env\\anaconda\\envs\\mhy-yolo\\Lib\\site-packages\\ultralytics\\utils\\metrics.py:428: UserWarning: Glyph 27934 (\\N{CJK UNIFIED IDEOGRAPH-6D1E}) missing from current font.\n",
      "  fig.savefig(plot_fname, dpi=250)\n",
      "D:\\code\\env\\anaconda\\envs\\mhy-yolo\\Lib\\site-packages\\ultralytics\\utils\\metrics.py:428: UserWarning: Glyph 23458 (\\N{CJK UNIFIED IDEOGRAPH-5BA2}) missing from current font.\n",
      "  fig.savefig(plot_fname, dpi=250)\n",
      "D:\\code\\env\\anaconda\\envs\\mhy-yolo\\Lib\\site-packages\\ultralytics\\utils\\metrics.py:428: UserWarning: Glyph 30450 (\\N{CJK UNIFIED IDEOGRAPH-76F2}) missing from current font.\n",
      "  fig.savefig(plot_fname, dpi=250)\n",
      "D:\\code\\env\\anaconda\\envs\\mhy-yolo\\Lib\\site-packages\\ultralytics\\utils\\metrics.py:428: UserWarning: Glyph 30418 (\\N{CJK UNIFIED IDEOGRAPH-76D2}) missing from current font.\n",
      "  fig.savefig(plot_fname, dpi=250)\n",
      "D:\\code\\env\\anaconda\\envs\\mhy-yolo\\Lib\\site-packages\\ultralytics\\utils\\metrics.py:428: UserWarning: Glyph 22495 (\\N{CJK UNIFIED IDEOGRAPH-57DF}) missing from current font.\n",
      "  fig.savefig(plot_fname, dpi=250)\n",
      "D:\\code\\env\\anaconda\\envs\\mhy-yolo\\Lib\\site-packages\\ultralytics\\utils\\metrics.py:428: UserWarning: Glyph 30495 (\\N{CJK UNIFIED IDEOGRAPH-771F}) missing from current font.\n",
      "  fig.savefig(plot_fname, dpi=250)\n",
      "D:\\code\\env\\anaconda\\envs\\mhy-yolo\\Lib\\site-packages\\ultralytics\\utils\\metrics.py:428: UserWarning: Glyph 30456 (\\N{CJK UNIFIED IDEOGRAPH-76F8}) missing from current font.\n",
      "  fig.savefig(plot_fname, dpi=250)\n",
      "D:\\code\\env\\anaconda\\envs\\mhy-yolo\\Lib\\site-packages\\ultralytics\\utils\\metrics.py:428: UserWarning: Glyph 31192 (\\N{CJK UNIFIED IDEOGRAPH-79D8}) missing from current font.\n",
      "  fig.savefig(plot_fname, dpi=250)\n",
      "D:\\code\\env\\anaconda\\envs\\mhy-yolo\\Lib\\site-packages\\ultralytics\\utils\\metrics.py:428: UserWarning: Glyph 24452 (\\N{CJK UNIFIED IDEOGRAPH-5F84}) missing from current font.\n",
      "  fig.savefig(plot_fname, dpi=250)\n",
      "D:\\code\\env\\anaconda\\envs\\mhy-yolo\\Lib\\site-packages\\ultralytics\\utils\\metrics.py:428: UserWarning: Glyph 31354 (\\N{CJK UNIFIED IDEOGRAPH-7A7A}) missing from current font.\n",
      "  fig.savefig(plot_fname, dpi=250)\n",
      "D:\\code\\env\\anaconda\\envs\\mhy-yolo\\Lib\\site-packages\\ultralytics\\utils\\metrics.py:428: UserWarning: Glyph 30333 (\\N{CJK UNIFIED IDEOGRAPH-767D}) missing from current font.\n",
      "  fig.savefig(plot_fname, dpi=250)\n",
      "D:\\code\\env\\anaconda\\envs\\mhy-yolo\\Lib\\site-packages\\ultralytics\\utils\\metrics.py:428: UserWarning: Glyph 24050 (\\N{CJK UNIFIED IDEOGRAPH-5DF2}) missing from current font.\n",
      "  fig.savefig(plot_fname, dpi=250)\n",
      "D:\\code\\env\\anaconda\\envs\\mhy-yolo\\Lib\\site-packages\\ultralytics\\utils\\metrics.py:428: UserWarning: Glyph 36890 (\\N{CJK UNIFIED IDEOGRAPH-901A}) missing from current font.\n",
      "  fig.savefig(plot_fname, dpi=250)\n",
      "D:\\code\\env\\anaconda\\envs\\mhy-yolo\\Lib\\site-packages\\ultralytics\\utils\\metrics.py:428: UserWarning: Glyph 34892 (\\N{CJK UNIFIED IDEOGRAPH-884C}) missing from current font.\n",
      "  fig.savefig(plot_fname, dpi=250)\n",
      "D:\\code\\env\\anaconda\\envs\\mhy-yolo\\Lib\\site-packages\\ultralytics\\utils\\metrics.py:428: UserWarning: Glyph 26410 (\\N{CJK UNIFIED IDEOGRAPH-672A}) missing from current font.\n",
      "  fig.savefig(plot_fname, dpi=250)\n",
      "D:\\code\\env\\anaconda\\envs\\mhy-yolo\\Lib\\site-packages\\ultralytics\\utils\\metrics.py:428: UserWarning: Glyph 31934 (\\N{CJK UNIFIED IDEOGRAPH-7CBE}) missing from current font.\n",
      "  fig.savefig(plot_fname, dpi=250)\n",
      "D:\\code\\env\\anaconda\\envs\\mhy-yolo\\Lib\\site-packages\\ultralytics\\utils\\metrics.py:428: UserWarning: Glyph 38160 (\\N{CJK UNIFIED IDEOGRAPH-9510}) missing from current font.\n",
      "  fig.savefig(plot_fname, dpi=250)\n",
      "D:\\code\\env\\anaconda\\envs\\mhy-yolo\\Lib\\site-packages\\ultralytics\\utils\\metrics.py:428: UserWarning: Glyph 32039 (\\N{CJK UNIFIED IDEOGRAPH-7D27}) missing from current font.\n",
      "  fig.savefig(plot_fname, dpi=250)\n",
      "D:\\code\\env\\anaconda\\envs\\mhy-yolo\\Lib\\site-packages\\ultralytics\\utils\\metrics.py:428: UserWarning: Glyph 24613 (\\N{CJK UNIFIED IDEOGRAPH-6025}) missing from current font.\n",
      "  fig.savefig(plot_fname, dpi=250)\n",
      "D:\\code\\env\\anaconda\\envs\\mhy-yolo\\Lib\\site-packages\\ultralytics\\utils\\metrics.py:428: UserWarning: Glyph 25764 (\\N{CJK UNIFIED IDEOGRAPH-64A4}) missing from current font.\n",
      "  fig.savefig(plot_fname, dpi=250)\n",
      "D:\\code\\env\\anaconda\\envs\\mhy-yolo\\Lib\\site-packages\\ultralytics\\utils\\metrics.py:428: UserWarning: Glyph 31163 (\\N{CJK UNIFIED IDEOGRAPH-79BB}) missing from current font.\n",
      "  fig.savefig(plot_fname, dpi=250)\n",
      "D:\\code\\env\\anaconda\\envs\\mhy-yolo\\Lib\\site-packages\\ultralytics\\utils\\metrics.py:428: UserWarning: Glyph 35010 (\\N{CJK UNIFIED IDEOGRAPH-88C2}) missing from current font.\n",
      "  fig.savefig(plot_fname, dpi=250)\n",
      "D:\\code\\env\\anaconda\\envs\\mhy-yolo\\Lib\\site-packages\\ultralytics\\utils\\metrics.py:428: UserWarning: Glyph 38553 (\\N{CJK UNIFIED IDEOGRAPH-9699}) missing from current font.\n",
      "  fig.savefig(plot_fname, dpi=250)\n",
      "D:\\code\\env\\anaconda\\envs\\mhy-yolo\\Lib\\site-packages\\ultralytics\\utils\\metrics.py:428: UserWarning: Glyph 35843 (\\N{CJK UNIFIED IDEOGRAPH-8C03}) missing from current font.\n",
      "  fig.savefig(plot_fname, dpi=250)\n",
      "D:\\code\\env\\anaconda\\envs\\mhy-yolo\\Lib\\site-packages\\ultralytics\\utils\\metrics.py:428: UserWarning: Glyph 26597 (\\N{CJK UNIFIED IDEOGRAPH-67E5}) missing from current font.\n",
      "  fig.savefig(plot_fname, dpi=250)\n",
      "D:\\code\\env\\anaconda\\envs\\mhy-yolo\\Lib\\site-packages\\ultralytics\\utils\\metrics.py:428: UserWarning: Glyph 21327 (\\N{CJK UNIFIED IDEOGRAPH-534F}) missing from current font.\n",
      "  fig.savefig(plot_fname, dpi=250)\n",
      "D:\\code\\env\\anaconda\\envs\\mhy-yolo\\Lib\\site-packages\\ultralytics\\utils\\metrics.py:428: UserWarning: Glyph 21592 (\\N{CJK UNIFIED IDEOGRAPH-5458}) missing from current font.\n",
      "  fig.savefig(plot_fname, dpi=250)\n",
      "D:\\code\\env\\anaconda\\envs\\mhy-yolo\\Lib\\site-packages\\ultralytics\\utils\\metrics.py:428: UserWarning: Glyph 36215 (\\N{CJK UNIFIED IDEOGRAPH-8D77}) missing from current font.\n",
      "  fig.savefig(plot_fname, dpi=250)\n",
      "D:\\code\\env\\anaconda\\envs\\mhy-yolo\\Lib\\site-packages\\ultralytics\\utils\\metrics.py:428: UserWarning: Glyph 36947 (\\N{CJK UNIFIED IDEOGRAPH-9053}) missing from current font.\n",
      "  fig.savefig(plot_fname, dpi=250)\n",
      "D:\\code\\env\\anaconda\\envs\\mhy-yolo\\Lib\\site-packages\\ultralytics\\utils\\metrics.py:428: UserWarning: Glyph 36994 (\\N{CJK UNIFIED IDEOGRAPH-9082}) missing from current font.\n",
      "  fig.savefig(plot_fname, dpi=250)\n",
      "D:\\code\\env\\anaconda\\envs\\mhy-yolo\\Lib\\site-packages\\ultralytics\\utils\\metrics.py:428: UserWarning: Glyph 36869 (\\N{CJK UNIFIED IDEOGRAPH-9005}) missing from current font.\n",
      "  fig.savefig(plot_fname, dpi=250)\n",
      "D:\\code\\env\\anaconda\\envs\\mhy-yolo\\Lib\\site-packages\\ultralytics\\utils\\metrics.py:428: UserWarning: Glyph 21830 (\\N{CJK UNIFIED IDEOGRAPH-5546}) missing from current font.\n",
      "  fig.savefig(plot_fname, dpi=250)\n",
      "D:\\code\\env\\anaconda\\envs\\mhy-yolo\\Lib\\site-packages\\ultralytics\\utils\\metrics.py:428: UserWarning: Glyph 25161 (\\N{CJK UNIFIED IDEOGRAPH-6249}) missing from current font.\n",
      "  fig.savefig(plot_fname, dpi=250)\n",
      "D:\\code\\env\\anaconda\\envs\\mhy-yolo\\Lib\\site-packages\\ultralytics\\utils\\metrics.py:428: UserWarning: Glyph 31105 (\\N{CJK UNIFIED IDEOGRAPH-7981}) missing from current font.\n",
      "  fig.savefig(plot_fname, dpi=250)\n",
      "D:\\code\\env\\anaconda\\envs\\mhy-yolo\\Lib\\site-packages\\ultralytics\\utils\\metrics.py:428: UserWarning: Glyph 38381 (\\N{CJK UNIFIED IDEOGRAPH-95ED}) missing from current font.\n",
      "  fig.savefig(plot_fname, dpi=250)\n",
      "D:\\code\\env\\anaconda\\envs\\mhy-yolo\\Lib\\site-packages\\ultralytics\\utils\\metrics.py:428: UserWarning: Glyph 21892 (\\N{CJK UNIFIED IDEOGRAPH-5584}) missing from current font.\n",
      "  fig.savefig(plot_fname, dpi=250)\n",
      "D:\\code\\env\\anaconda\\envs\\mhy-yolo\\Lib\\site-packages\\ultralytics\\utils\\metrics.py:428: UserWarning: Glyph 25112 (\\N{CJK UNIFIED IDEOGRAPH-6218}) missing from current font.\n",
      "  fig.savefig(plot_fname, dpi=250)\n",
      "D:\\code\\env\\anaconda\\envs\\mhy-yolo\\Lib\\site-packages\\ultralytics\\utils\\metrics.py:428: UserWarning: Glyph 36130 (\\N{CJK UNIFIED IDEOGRAPH-8D22}) missing from current font.\n",
      "  fig.savefig(plot_fname, dpi=250)\n",
      "D:\\code\\env\\anaconda\\envs\\mhy-yolo\\Lib\\site-packages\\ultralytics\\utils\\metrics.py:428: UserWarning: Glyph 23500 (\\N{CJK UNIFIED IDEOGRAPH-5BCC}) missing from current font.\n",
      "  fig.savefig(plot_fname, dpi=250)\n",
      "D:\\code\\env\\anaconda\\envs\\mhy-yolo\\Lib\\site-packages\\ultralytics\\utils\\metrics.py:428: UserWarning: Glyph 38450 (\\N{CJK UNIFIED IDEOGRAPH-9632}) missing from current font.\n",
      "  fig.savefig(plot_fname, dpi=250)\n",
      "D:\\code\\env\\anaconda\\envs\\mhy-yolo\\Lib\\site-packages\\ultralytics\\utils\\metrics.py:428: UserWarning: Glyph 21355 (\\N{CJK UNIFIED IDEOGRAPH-536B}) missing from current font.\n",
      "  fig.savefig(plot_fname, dpi=250)\n",
      "D:\\code\\env\\anaconda\\envs\\mhy-yolo\\Lib\\site-packages\\ultralytics\\utils\\metrics.py:428: UserWarning: Glyph 20891 (\\N{CJK UNIFIED IDEOGRAPH-519B}) missing from current font.\n",
      "  fig.savefig(plot_fname, dpi=250)\n",
      "D:\\code\\env\\anaconda\\envs\\mhy-yolo\\Lib\\site-packages\\ultralytics\\utils\\metrics.py:428: UserWarning: Glyph 21518 (\\N{CJK UNIFIED IDEOGRAPH-540E}) missing from current font.\n",
      "  fig.savefig(plot_fname, dpi=250)\n",
      "D:\\code\\env\\anaconda\\envs\\mhy-yolo\\Lib\\site-packages\\ultralytics\\utils\\metrics.py:428: UserWarning: Glyph 21220 (\\N{CJK UNIFIED IDEOGRAPH-52E4}) missing from current font.\n",
      "  fig.savefig(plot_fname, dpi=250)\n",
      "D:\\code\\env\\anaconda\\envs\\mhy-yolo\\Lib\\site-packages\\ultralytics\\utils\\metrics.py:428: UserWarning: Glyph 39037 (\\N{CJK UNIFIED IDEOGRAPH-987D}) missing from current font.\n",
      "  fig.savefig(plot_fname, dpi=250)\n",
      "D:\\code\\env\\anaconda\\envs\\mhy-yolo\\Lib\\site-packages\\ultralytics\\utils\\metrics.py:428: UserWarning: Glyph 22266 (\\N{CJK UNIFIED IDEOGRAPH-56FA}) missing from current font.\n",
      "  fig.savefig(plot_fname, dpi=250)\n",
      "D:\\code\\env\\anaconda\\envs\\mhy-yolo\\Lib\\site-packages\\ultralytics\\utils\\metrics.py:428: UserWarning: Glyph 39301 (\\N{CJK UNIFIED IDEOGRAPH-9985}) missing from current font.\n",
      "  fig.savefig(plot_fname, dpi=250)\n",
      "D:\\code\\env\\anaconda\\envs\\mhy-yolo\\Lib\\site-packages\\ultralytics\\utils\\metrics.py:428: UserWarning: Glyph 39292 (\\N{CJK UNIFIED IDEOGRAPH-997C}) missing from current font.\n",
      "  fig.savefig(plot_fname, dpi=250)\n",
      "D:\\code\\env\\anaconda\\envs\\mhy-yolo\\Lib\\site-packages\\ultralytics\\utils\\metrics.py:428: UserWarning: Glyph 22825 (\\N{CJK UNIFIED IDEOGRAPH-5929}) missing from current font.\n",
      "  fig.savefig(plot_fname, dpi=250)\n",
      "D:\\code\\env\\anaconda\\envs\\mhy-yolo\\Lib\\site-packages\\ultralytics\\utils\\metrics.py:428: UserWarning: Glyph 38477 (\\N{CJK UNIFIED IDEOGRAPH-964D}) missing from current font.\n",
      "  fig.savefig(plot_fname, dpi=250)\n",
      "D:\\code\\env\\anaconda\\envs\\mhy-yolo\\Lib\\site-packages\\ultralytics\\utils\\metrics.py:428: UserWarning: Glyph 40483 (\\N{CJK UNIFIED IDEOGRAPH-9E23}) missing from current font.\n",
      "  fig.savefig(plot_fname, dpi=250)\n",
      "D:\\code\\env\\anaconda\\envs\\mhy-yolo\\Lib\\site-packages\\ultralytics\\utils\\metrics.py:428: UserWarning: Glyph 24509 (\\N{CJK UNIFIED IDEOGRAPH-5FBD}) missing from current font.\n",
      "  fig.savefig(plot_fname, dpi=250)\n",
      "D:\\code\\env\\anaconda\\envs\\mhy-yolo\\Lib\\site-packages\\ultralytics\\utils\\metrics.py:428: UserWarning: Glyph 20652 (\\N{CJK UNIFIED IDEOGRAPH-50AC}) missing from current font.\n",
      "  fig.savefig(plot_fname, dpi=250)\n",
      "D:\\code\\env\\anaconda\\envs\\mhy-yolo\\Lib\\site-packages\\ultralytics\\utils\\metrics.py:428: UserWarning: Glyph 21058 (\\N{CJK UNIFIED IDEOGRAPH-5242}) missing from current font.\n",
      "  fig.savefig(plot_fname, dpi=250)\n",
      "D:\\code\\env\\anaconda\\envs\\mhy-yolo\\Lib\\site-packages\\ultralytics\\utils\\metrics.py:428: UserWarning: Glyph 40831 (\\N{CJK UNIFIED IDEOGRAPH-9F7F}) missing from current font.\n",
      "  fig.savefig(plot_fname, dpi=250)\n",
      "D:\\code\\env\\anaconda\\envs\\mhy-yolo\\Lib\\site-packages\\ultralytics\\utils\\metrics.py:428: UserWarning: Glyph 36718 (\\N{CJK UNIFIED IDEOGRAPH-8F6E}) missing from current font.\n",
      "  fig.savefig(plot_fname, dpi=250)\n",
      "D:\\code\\env\\anaconda\\envs\\mhy-yolo\\Lib\\site-packages\\ultralytics\\utils\\metrics.py:428: UserWarning: Glyph 30828 (\\N{CJK UNIFIED IDEOGRAPH-786C}) missing from current font.\n",
      "  fig.savefig(plot_fname, dpi=250)\n",
      "D:\\code\\env\\anaconda\\envs\\mhy-yolo\\Lib\\site-packages\\ultralytics\\utils\\metrics.py:428: UserWarning: Glyph 24065 (\\N{CJK UNIFIED IDEOGRAPH-5E01}) missing from current font.\n",
      "  fig.savefig(plot_fname, dpi=250)\n",
      "D:\\code\\env\\anaconda\\envs\\mhy-yolo\\Lib\\site-packages\\ultralytics\\utils\\metrics.py:428: UserWarning: Glyph 31665 (\\N{CJK UNIFIED IDEOGRAPH-7BB1}) missing from current font.\n",
      "  fig.savefig(plot_fname, dpi=250)\n"
     ]
    },
    {
     "name": "stdout",
     "output_type": "stream",
     "text": [
      "Speed: 1.5ms preprocess, 6.0ms inference, 0.0ms loss, 1.0ms postprocess per image\n",
      "Results saved to \u001b[1mD:\\code\\workspace\\OneDragon-YOLO\\ultralytics\\runs\\zzz_hollow_event_2208\\yolov8n-640\u001b[0m\n"
     ]
    },
    {
     "data": {
      "text/plain": [
       "ultralytics.utils.metrics.DetMetrics object with attributes:\n",
       "\n",
       "ap_class_index: array([ 2,  3,  5,  6,  9, 11, 12, 13, 16, 17, 20, 22, 23, 28, 31, 32, 37, 42, 45, 46, 49, 52, 53])\n",
       "box: ultralytics.utils.metrics.Metric object\n",
       "confusion_matrix: <ultralytics.utils.metrics.ConfusionMatrix object at 0x000001FE39A9F210>\n",
       "curves: ['Precision-Recall(B)', 'F1-Confidence(B)', 'Precision-Confidence(B)', 'Recall-Confidence(B)']\n",
       "curves_results: [[array([          0,    0.001001,    0.002002,    0.003003,    0.004004,    0.005005,    0.006006,    0.007007,    0.008008,    0.009009,     0.01001,    0.011011,    0.012012,    0.013013,    0.014014,    0.015015,    0.016016,    0.017017,    0.018018,    0.019019,     0.02002,    0.021021,    0.022022,    0.023023,\n",
       "          0.024024,    0.025025,    0.026026,    0.027027,    0.028028,    0.029029,     0.03003,    0.031031,    0.032032,    0.033033,    0.034034,    0.035035,    0.036036,    0.037037,    0.038038,    0.039039,     0.04004,    0.041041,    0.042042,    0.043043,    0.044044,    0.045045,    0.046046,    0.047047,\n",
       "          0.048048,    0.049049,     0.05005,    0.051051,    0.052052,    0.053053,    0.054054,    0.055055,    0.056056,    0.057057,    0.058058,    0.059059,     0.06006,    0.061061,    0.062062,    0.063063,    0.064064,    0.065065,    0.066066,    0.067067,    0.068068,    0.069069,     0.07007,    0.071071,\n",
       "          0.072072,    0.073073,    0.074074,    0.075075,    0.076076,    0.077077,    0.078078,    0.079079,     0.08008,    0.081081,    0.082082,    0.083083,    0.084084,    0.085085,    0.086086,    0.087087,    0.088088,    0.089089,     0.09009,    0.091091,    0.092092,    0.093093,    0.094094,    0.095095,\n",
       "          0.096096,    0.097097,    0.098098,    0.099099,      0.1001,      0.1011,      0.1021,      0.1031,      0.1041,     0.10511,     0.10611,     0.10711,     0.10811,     0.10911,     0.11011,     0.11111,     0.11211,     0.11311,     0.11411,     0.11512,     0.11612,     0.11712,     0.11812,     0.11912,\n",
       "           0.12012,     0.12112,     0.12212,     0.12312,     0.12412,     0.12513,     0.12613,     0.12713,     0.12813,     0.12913,     0.13013,     0.13113,     0.13213,     0.13313,     0.13413,     0.13514,     0.13614,     0.13714,     0.13814,     0.13914,     0.14014,     0.14114,     0.14214,     0.14314,\n",
       "           0.14414,     0.14515,     0.14615,     0.14715,     0.14815,     0.14915,     0.15015,     0.15115,     0.15215,     0.15315,     0.15415,     0.15516,     0.15616,     0.15716,     0.15816,     0.15916,     0.16016,     0.16116,     0.16216,     0.16316,     0.16416,     0.16517,     0.16617,     0.16717,\n",
       "           0.16817,     0.16917,     0.17017,     0.17117,     0.17217,     0.17317,     0.17417,     0.17518,     0.17618,     0.17718,     0.17818,     0.17918,     0.18018,     0.18118,     0.18218,     0.18318,     0.18418,     0.18519,     0.18619,     0.18719,     0.18819,     0.18919,     0.19019,     0.19119,\n",
       "           0.19219,     0.19319,     0.19419,      0.1952,      0.1962,      0.1972,      0.1982,      0.1992,      0.2002,      0.2012,      0.2022,      0.2032,      0.2042,     0.20521,     0.20621,     0.20721,     0.20821,     0.20921,     0.21021,     0.21121,     0.21221,     0.21321,     0.21421,     0.21522,\n",
       "           0.21622,     0.21722,     0.21822,     0.21922,     0.22022,     0.22122,     0.22222,     0.22322,     0.22422,     0.22523,     0.22623,     0.22723,     0.22823,     0.22923,     0.23023,     0.23123,     0.23223,     0.23323,     0.23423,     0.23524,     0.23624,     0.23724,     0.23824,     0.23924,\n",
       "           0.24024,     0.24124,     0.24224,     0.24324,     0.24424,     0.24525,     0.24625,     0.24725,     0.24825,     0.24925,     0.25025,     0.25125,     0.25225,     0.25325,     0.25425,     0.25526,     0.25626,     0.25726,     0.25826,     0.25926,     0.26026,     0.26126,     0.26226,     0.26326,\n",
       "           0.26426,     0.26527,     0.26627,     0.26727,     0.26827,     0.26927,     0.27027,     0.27127,     0.27227,     0.27327,     0.27427,     0.27528,     0.27628,     0.27728,     0.27828,     0.27928,     0.28028,     0.28128,     0.28228,     0.28328,     0.28428,     0.28529,     0.28629,     0.28729,\n",
       "           0.28829,     0.28929,     0.29029,     0.29129,     0.29229,     0.29329,     0.29429,      0.2953,      0.2963,      0.2973,      0.2983,      0.2993,      0.3003,      0.3013,      0.3023,      0.3033,      0.3043,     0.30531,     0.30631,     0.30731,     0.30831,     0.30931,     0.31031,     0.31131,\n",
       "           0.31231,     0.31331,     0.31431,     0.31532,     0.31632,     0.31732,     0.31832,     0.31932,     0.32032,     0.32132,     0.32232,     0.32332,     0.32432,     0.32533,     0.32633,     0.32733,     0.32833,     0.32933,     0.33033,     0.33133,     0.33233,     0.33333,     0.33433,     0.33534,\n",
       "           0.33634,     0.33734,     0.33834,     0.33934,     0.34034,     0.34134,     0.34234,     0.34334,     0.34434,     0.34535,     0.34635,     0.34735,     0.34835,     0.34935,     0.35035,     0.35135,     0.35235,     0.35335,     0.35435,     0.35536,     0.35636,     0.35736,     0.35836,     0.35936,\n",
       "           0.36036,     0.36136,     0.36236,     0.36336,     0.36436,     0.36537,     0.36637,     0.36737,     0.36837,     0.36937,     0.37037,     0.37137,     0.37237,     0.37337,     0.37437,     0.37538,     0.37638,     0.37738,     0.37838,     0.37938,     0.38038,     0.38138,     0.38238,     0.38338,\n",
       "           0.38438,     0.38539,     0.38639,     0.38739,     0.38839,     0.38939,     0.39039,     0.39139,     0.39239,     0.39339,     0.39439,      0.3954,      0.3964,      0.3974,      0.3984,      0.3994,      0.4004,      0.4014,      0.4024,      0.4034,      0.4044,     0.40541,     0.40641,     0.40741,\n",
       "           0.40841,     0.40941,     0.41041,     0.41141,     0.41241,     0.41341,     0.41441,     0.41542,     0.41642,     0.41742,     0.41842,     0.41942,     0.42042,     0.42142,     0.42242,     0.42342,     0.42442,     0.42543,     0.42643,     0.42743,     0.42843,     0.42943,     0.43043,     0.43143,\n",
       "           0.43243,     0.43343,     0.43443,     0.43544,     0.43644,     0.43744,     0.43844,     0.43944,     0.44044,     0.44144,     0.44244,     0.44344,     0.44444,     0.44545,     0.44645,     0.44745,     0.44845,     0.44945,     0.45045,     0.45145,     0.45245,     0.45345,     0.45445,     0.45546,\n",
       "           0.45646,     0.45746,     0.45846,     0.45946,     0.46046,     0.46146,     0.46246,     0.46346,     0.46446,     0.46547,     0.46647,     0.46747,     0.46847,     0.46947,     0.47047,     0.47147,     0.47247,     0.47347,     0.47447,     0.47548,     0.47648,     0.47748,     0.47848,     0.47948,\n",
       "           0.48048,     0.48148,     0.48248,     0.48348,     0.48448,     0.48549,     0.48649,     0.48749,     0.48849,     0.48949,     0.49049,     0.49149,     0.49249,     0.49349,     0.49449,      0.4955,      0.4965,      0.4975,      0.4985,      0.4995,      0.5005,      0.5015,      0.5025,      0.5035,\n",
       "            0.5045,     0.50551,     0.50651,     0.50751,     0.50851,     0.50951,     0.51051,     0.51151,     0.51251,     0.51351,     0.51451,     0.51552,     0.51652,     0.51752,     0.51852,     0.51952,     0.52052,     0.52152,     0.52252,     0.52352,     0.52452,     0.52553,     0.52653,     0.52753,\n",
       "           0.52853,     0.52953,     0.53053,     0.53153,     0.53253,     0.53353,     0.53453,     0.53554,     0.53654,     0.53754,     0.53854,     0.53954,     0.54054,     0.54154,     0.54254,     0.54354,     0.54454,     0.54555,     0.54655,     0.54755,     0.54855,     0.54955,     0.55055,     0.55155,\n",
       "           0.55255,     0.55355,     0.55455,     0.55556,     0.55656,     0.55756,     0.55856,     0.55956,     0.56056,     0.56156,     0.56256,     0.56356,     0.56456,     0.56557,     0.56657,     0.56757,     0.56857,     0.56957,     0.57057,     0.57157,     0.57257,     0.57357,     0.57457,     0.57558,\n",
       "           0.57658,     0.57758,     0.57858,     0.57958,     0.58058,     0.58158,     0.58258,     0.58358,     0.58458,     0.58559,     0.58659,     0.58759,     0.58859,     0.58959,     0.59059,     0.59159,     0.59259,     0.59359,     0.59459,      0.5956,      0.5966,      0.5976,      0.5986,      0.5996,\n",
       "            0.6006,      0.6016,      0.6026,      0.6036,      0.6046,     0.60561,     0.60661,     0.60761,     0.60861,     0.60961,     0.61061,     0.61161,     0.61261,     0.61361,     0.61461,     0.61562,     0.61662,     0.61762,     0.61862,     0.61962,     0.62062,     0.62162,     0.62262,     0.62362,\n",
       "           0.62462,     0.62563,     0.62663,     0.62763,     0.62863,     0.62963,     0.63063,     0.63163,     0.63263,     0.63363,     0.63463,     0.63564,     0.63664,     0.63764,     0.63864,     0.63964,     0.64064,     0.64164,     0.64264,     0.64364,     0.64464,     0.64565,     0.64665,     0.64765,\n",
       "           0.64865,     0.64965,     0.65065,     0.65165,     0.65265,     0.65365,     0.65465,     0.65566,     0.65666,     0.65766,     0.65866,     0.65966,     0.66066,     0.66166,     0.66266,     0.66366,     0.66466,     0.66567,     0.66667,     0.66767,     0.66867,     0.66967,     0.67067,     0.67167,\n",
       "           0.67267,     0.67367,     0.67467,     0.67568,     0.67668,     0.67768,     0.67868,     0.67968,     0.68068,     0.68168,     0.68268,     0.68368,     0.68468,     0.68569,     0.68669,     0.68769,     0.68869,     0.68969,     0.69069,     0.69169,     0.69269,     0.69369,     0.69469,      0.6957,\n",
       "            0.6967,      0.6977,      0.6987,      0.6997,      0.7007,      0.7017,      0.7027,      0.7037,      0.7047,     0.70571,     0.70671,     0.70771,     0.70871,     0.70971,     0.71071,     0.71171,     0.71271,     0.71371,     0.71471,     0.71572,     0.71672,     0.71772,     0.71872,     0.71972,\n",
       "           0.72072,     0.72172,     0.72272,     0.72372,     0.72472,     0.72573,     0.72673,     0.72773,     0.72873,     0.72973,     0.73073,     0.73173,     0.73273,     0.73373,     0.73473,     0.73574,     0.73674,     0.73774,     0.73874,     0.73974,     0.74074,     0.74174,     0.74274,     0.74374,\n",
       "           0.74474,     0.74575,     0.74675,     0.74775,     0.74875,     0.74975,     0.75075,     0.75175,     0.75275,     0.75375,     0.75475,     0.75576,     0.75676,     0.75776,     0.75876,     0.75976,     0.76076,     0.76176,     0.76276,     0.76376,     0.76476,     0.76577,     0.76677,     0.76777,\n",
       "           0.76877,     0.76977,     0.77077,     0.77177,     0.77277,     0.77377,     0.77477,     0.77578,     0.77678,     0.77778,     0.77878,     0.77978,     0.78078,     0.78178,     0.78278,     0.78378,     0.78478,     0.78579,     0.78679,     0.78779,     0.78879,     0.78979,     0.79079,     0.79179,\n",
       "           0.79279,     0.79379,     0.79479,      0.7958,      0.7968,      0.7978,      0.7988,      0.7998,      0.8008,      0.8018,      0.8028,      0.8038,      0.8048,     0.80581,     0.80681,     0.80781,     0.80881,     0.80981,     0.81081,     0.81181,     0.81281,     0.81381,     0.81481,     0.81582,\n",
       "           0.81682,     0.81782,     0.81882,     0.81982,     0.82082,     0.82182,     0.82282,     0.82382,     0.82482,     0.82583,     0.82683,     0.82783,     0.82883,     0.82983,     0.83083,     0.83183,     0.83283,     0.83383,     0.83483,     0.83584,     0.83684,     0.83784,     0.83884,     0.83984,\n",
       "           0.84084,     0.84184,     0.84284,     0.84384,     0.84484,     0.84585,     0.84685,     0.84785,     0.84885,     0.84985,     0.85085,     0.85185,     0.85285,     0.85385,     0.85485,     0.85586,     0.85686,     0.85786,     0.85886,     0.85986,     0.86086,     0.86186,     0.86286,     0.86386,\n",
       "           0.86486,     0.86587,     0.86687,     0.86787,     0.86887,     0.86987,     0.87087,     0.87187,     0.87287,     0.87387,     0.87487,     0.87588,     0.87688,     0.87788,     0.87888,     0.87988,     0.88088,     0.88188,     0.88288,     0.88388,     0.88488,     0.88589,     0.88689,     0.88789,\n",
       "           0.88889,     0.88989,     0.89089,     0.89189,     0.89289,     0.89389,     0.89489,      0.8959,      0.8969,      0.8979,      0.8989,      0.8999,      0.9009,      0.9019,      0.9029,      0.9039,      0.9049,     0.90591,     0.90691,     0.90791,     0.90891,     0.90991,     0.91091,     0.91191,\n",
       "           0.91291,     0.91391,     0.91491,     0.91592,     0.91692,     0.91792,     0.91892,     0.91992,     0.92092,     0.92192,     0.92292,     0.92392,     0.92492,     0.92593,     0.92693,     0.92793,     0.92893,     0.92993,     0.93093,     0.93193,     0.93293,     0.93393,     0.93493,     0.93594,\n",
       "           0.93694,     0.93794,     0.93894,     0.93994,     0.94094,     0.94194,     0.94294,     0.94394,     0.94494,     0.94595,     0.94695,     0.94795,     0.94895,     0.94995,     0.95095,     0.95195,     0.95295,     0.95395,     0.95495,     0.95596,     0.95696,     0.95796,     0.95896,     0.95996,\n",
       "           0.96096,     0.96196,     0.96296,     0.96396,     0.96496,     0.96597,     0.96697,     0.96797,     0.96897,     0.96997,     0.97097,     0.97197,     0.97297,     0.97397,     0.97497,     0.97598,     0.97698,     0.97798,     0.97898,     0.97998,     0.98098,     0.98198,     0.98298,     0.98398,\n",
       "           0.98498,     0.98599,     0.98699,     0.98799,     0.98899,     0.98999,     0.99099,     0.99199,     0.99299,     0.99399,     0.99499,       0.996,       0.997,       0.998,       0.999,           1]), array([[          1,           1,           1, ...,         0.8,         0.8,           0],\n",
       "       [          1,           1,           1, ...,           1,           1,           0],\n",
       "       [          1,           1,           1, ...,     0.33333,     0.33333,           0],\n",
       "       ...,\n",
       "       [          1,           1,           1, ...,     0.66667,     0.66667,           0],\n",
       "       [        0.5,         0.5,         0.5, ...,         0.5,         0.5,           0],\n",
       "       [          1,           1,           1, ...,           1,           1,           0]]), 'Recall', 'Precision'], [array([          0,    0.001001,    0.002002,    0.003003,    0.004004,    0.005005,    0.006006,    0.007007,    0.008008,    0.009009,     0.01001,    0.011011,    0.012012,    0.013013,    0.014014,    0.015015,    0.016016,    0.017017,    0.018018,    0.019019,     0.02002,    0.021021,    0.022022,    0.023023,\n",
       "          0.024024,    0.025025,    0.026026,    0.027027,    0.028028,    0.029029,     0.03003,    0.031031,    0.032032,    0.033033,    0.034034,    0.035035,    0.036036,    0.037037,    0.038038,    0.039039,     0.04004,    0.041041,    0.042042,    0.043043,    0.044044,    0.045045,    0.046046,    0.047047,\n",
       "          0.048048,    0.049049,     0.05005,    0.051051,    0.052052,    0.053053,    0.054054,    0.055055,    0.056056,    0.057057,    0.058058,    0.059059,     0.06006,    0.061061,    0.062062,    0.063063,    0.064064,    0.065065,    0.066066,    0.067067,    0.068068,    0.069069,     0.07007,    0.071071,\n",
       "          0.072072,    0.073073,    0.074074,    0.075075,    0.076076,    0.077077,    0.078078,    0.079079,     0.08008,    0.081081,    0.082082,    0.083083,    0.084084,    0.085085,    0.086086,    0.087087,    0.088088,    0.089089,     0.09009,    0.091091,    0.092092,    0.093093,    0.094094,    0.095095,\n",
       "          0.096096,    0.097097,    0.098098,    0.099099,      0.1001,      0.1011,      0.1021,      0.1031,      0.1041,     0.10511,     0.10611,     0.10711,     0.10811,     0.10911,     0.11011,     0.11111,     0.11211,     0.11311,     0.11411,     0.11512,     0.11612,     0.11712,     0.11812,     0.11912,\n",
       "           0.12012,     0.12112,     0.12212,     0.12312,     0.12412,     0.12513,     0.12613,     0.12713,     0.12813,     0.12913,     0.13013,     0.13113,     0.13213,     0.13313,     0.13413,     0.13514,     0.13614,     0.13714,     0.13814,     0.13914,     0.14014,     0.14114,     0.14214,     0.14314,\n",
       "           0.14414,     0.14515,     0.14615,     0.14715,     0.14815,     0.14915,     0.15015,     0.15115,     0.15215,     0.15315,     0.15415,     0.15516,     0.15616,     0.15716,     0.15816,     0.15916,     0.16016,     0.16116,     0.16216,     0.16316,     0.16416,     0.16517,     0.16617,     0.16717,\n",
       "           0.16817,     0.16917,     0.17017,     0.17117,     0.17217,     0.17317,     0.17417,     0.17518,     0.17618,     0.17718,     0.17818,     0.17918,     0.18018,     0.18118,     0.18218,     0.18318,     0.18418,     0.18519,     0.18619,     0.18719,     0.18819,     0.18919,     0.19019,     0.19119,\n",
       "           0.19219,     0.19319,     0.19419,      0.1952,      0.1962,      0.1972,      0.1982,      0.1992,      0.2002,      0.2012,      0.2022,      0.2032,      0.2042,     0.20521,     0.20621,     0.20721,     0.20821,     0.20921,     0.21021,     0.21121,     0.21221,     0.21321,     0.21421,     0.21522,\n",
       "           0.21622,     0.21722,     0.21822,     0.21922,     0.22022,     0.22122,     0.22222,     0.22322,     0.22422,     0.22523,     0.22623,     0.22723,     0.22823,     0.22923,     0.23023,     0.23123,     0.23223,     0.23323,     0.23423,     0.23524,     0.23624,     0.23724,     0.23824,     0.23924,\n",
       "           0.24024,     0.24124,     0.24224,     0.24324,     0.24424,     0.24525,     0.24625,     0.24725,     0.24825,     0.24925,     0.25025,     0.25125,     0.25225,     0.25325,     0.25425,     0.25526,     0.25626,     0.25726,     0.25826,     0.25926,     0.26026,     0.26126,     0.26226,     0.26326,\n",
       "           0.26426,     0.26527,     0.26627,     0.26727,     0.26827,     0.26927,     0.27027,     0.27127,     0.27227,     0.27327,     0.27427,     0.27528,     0.27628,     0.27728,     0.27828,     0.27928,     0.28028,     0.28128,     0.28228,     0.28328,     0.28428,     0.28529,     0.28629,     0.28729,\n",
       "           0.28829,     0.28929,     0.29029,     0.29129,     0.29229,     0.29329,     0.29429,      0.2953,      0.2963,      0.2973,      0.2983,      0.2993,      0.3003,      0.3013,      0.3023,      0.3033,      0.3043,     0.30531,     0.30631,     0.30731,     0.30831,     0.30931,     0.31031,     0.31131,\n",
       "           0.31231,     0.31331,     0.31431,     0.31532,     0.31632,     0.31732,     0.31832,     0.31932,     0.32032,     0.32132,     0.32232,     0.32332,     0.32432,     0.32533,     0.32633,     0.32733,     0.32833,     0.32933,     0.33033,     0.33133,     0.33233,     0.33333,     0.33433,     0.33534,\n",
       "           0.33634,     0.33734,     0.33834,     0.33934,     0.34034,     0.34134,     0.34234,     0.34334,     0.34434,     0.34535,     0.34635,     0.34735,     0.34835,     0.34935,     0.35035,     0.35135,     0.35235,     0.35335,     0.35435,     0.35536,     0.35636,     0.35736,     0.35836,     0.35936,\n",
       "           0.36036,     0.36136,     0.36236,     0.36336,     0.36436,     0.36537,     0.36637,     0.36737,     0.36837,     0.36937,     0.37037,     0.37137,     0.37237,     0.37337,     0.37437,     0.37538,     0.37638,     0.37738,     0.37838,     0.37938,     0.38038,     0.38138,     0.38238,     0.38338,\n",
       "           0.38438,     0.38539,     0.38639,     0.38739,     0.38839,     0.38939,     0.39039,     0.39139,     0.39239,     0.39339,     0.39439,      0.3954,      0.3964,      0.3974,      0.3984,      0.3994,      0.4004,      0.4014,      0.4024,      0.4034,      0.4044,     0.40541,     0.40641,     0.40741,\n",
       "           0.40841,     0.40941,     0.41041,     0.41141,     0.41241,     0.41341,     0.41441,     0.41542,     0.41642,     0.41742,     0.41842,     0.41942,     0.42042,     0.42142,     0.42242,     0.42342,     0.42442,     0.42543,     0.42643,     0.42743,     0.42843,     0.42943,     0.43043,     0.43143,\n",
       "           0.43243,     0.43343,     0.43443,     0.43544,     0.43644,     0.43744,     0.43844,     0.43944,     0.44044,     0.44144,     0.44244,     0.44344,     0.44444,     0.44545,     0.44645,     0.44745,     0.44845,     0.44945,     0.45045,     0.45145,     0.45245,     0.45345,     0.45445,     0.45546,\n",
       "           0.45646,     0.45746,     0.45846,     0.45946,     0.46046,     0.46146,     0.46246,     0.46346,     0.46446,     0.46547,     0.46647,     0.46747,     0.46847,     0.46947,     0.47047,     0.47147,     0.47247,     0.47347,     0.47447,     0.47548,     0.47648,     0.47748,     0.47848,     0.47948,\n",
       "           0.48048,     0.48148,     0.48248,     0.48348,     0.48448,     0.48549,     0.48649,     0.48749,     0.48849,     0.48949,     0.49049,     0.49149,     0.49249,     0.49349,     0.49449,      0.4955,      0.4965,      0.4975,      0.4985,      0.4995,      0.5005,      0.5015,      0.5025,      0.5035,\n",
       "            0.5045,     0.50551,     0.50651,     0.50751,     0.50851,     0.50951,     0.51051,     0.51151,     0.51251,     0.51351,     0.51451,     0.51552,     0.51652,     0.51752,     0.51852,     0.51952,     0.52052,     0.52152,     0.52252,     0.52352,     0.52452,     0.52553,     0.52653,     0.52753,\n",
       "           0.52853,     0.52953,     0.53053,     0.53153,     0.53253,     0.53353,     0.53453,     0.53554,     0.53654,     0.53754,     0.53854,     0.53954,     0.54054,     0.54154,     0.54254,     0.54354,     0.54454,     0.54555,     0.54655,     0.54755,     0.54855,     0.54955,     0.55055,     0.55155,\n",
       "           0.55255,     0.55355,     0.55455,     0.55556,     0.55656,     0.55756,     0.55856,     0.55956,     0.56056,     0.56156,     0.56256,     0.56356,     0.56456,     0.56557,     0.56657,     0.56757,     0.56857,     0.56957,     0.57057,     0.57157,     0.57257,     0.57357,     0.57457,     0.57558,\n",
       "           0.57658,     0.57758,     0.57858,     0.57958,     0.58058,     0.58158,     0.58258,     0.58358,     0.58458,     0.58559,     0.58659,     0.58759,     0.58859,     0.58959,     0.59059,     0.59159,     0.59259,     0.59359,     0.59459,      0.5956,      0.5966,      0.5976,      0.5986,      0.5996,\n",
       "            0.6006,      0.6016,      0.6026,      0.6036,      0.6046,     0.60561,     0.60661,     0.60761,     0.60861,     0.60961,     0.61061,     0.61161,     0.61261,     0.61361,     0.61461,     0.61562,     0.61662,     0.61762,     0.61862,     0.61962,     0.62062,     0.62162,     0.62262,     0.62362,\n",
       "           0.62462,     0.62563,     0.62663,     0.62763,     0.62863,     0.62963,     0.63063,     0.63163,     0.63263,     0.63363,     0.63463,     0.63564,     0.63664,     0.63764,     0.63864,     0.63964,     0.64064,     0.64164,     0.64264,     0.64364,     0.64464,     0.64565,     0.64665,     0.64765,\n",
       "           0.64865,     0.64965,     0.65065,     0.65165,     0.65265,     0.65365,     0.65465,     0.65566,     0.65666,     0.65766,     0.65866,     0.65966,     0.66066,     0.66166,     0.66266,     0.66366,     0.66466,     0.66567,     0.66667,     0.66767,     0.66867,     0.66967,     0.67067,     0.67167,\n",
       "           0.67267,     0.67367,     0.67467,     0.67568,     0.67668,     0.67768,     0.67868,     0.67968,     0.68068,     0.68168,     0.68268,     0.68368,     0.68468,     0.68569,     0.68669,     0.68769,     0.68869,     0.68969,     0.69069,     0.69169,     0.69269,     0.69369,     0.69469,      0.6957,\n",
       "            0.6967,      0.6977,      0.6987,      0.6997,      0.7007,      0.7017,      0.7027,      0.7037,      0.7047,     0.70571,     0.70671,     0.70771,     0.70871,     0.70971,     0.71071,     0.71171,     0.71271,     0.71371,     0.71471,     0.71572,     0.71672,     0.71772,     0.71872,     0.71972,\n",
       "           0.72072,     0.72172,     0.72272,     0.72372,     0.72472,     0.72573,     0.72673,     0.72773,     0.72873,     0.72973,     0.73073,     0.73173,     0.73273,     0.73373,     0.73473,     0.73574,     0.73674,     0.73774,     0.73874,     0.73974,     0.74074,     0.74174,     0.74274,     0.74374,\n",
       "           0.74474,     0.74575,     0.74675,     0.74775,     0.74875,     0.74975,     0.75075,     0.75175,     0.75275,     0.75375,     0.75475,     0.75576,     0.75676,     0.75776,     0.75876,     0.75976,     0.76076,     0.76176,     0.76276,     0.76376,     0.76476,     0.76577,     0.76677,     0.76777,\n",
       "           0.76877,     0.76977,     0.77077,     0.77177,     0.77277,     0.77377,     0.77477,     0.77578,     0.77678,     0.77778,     0.77878,     0.77978,     0.78078,     0.78178,     0.78278,     0.78378,     0.78478,     0.78579,     0.78679,     0.78779,     0.78879,     0.78979,     0.79079,     0.79179,\n",
       "           0.79279,     0.79379,     0.79479,      0.7958,      0.7968,      0.7978,      0.7988,      0.7998,      0.8008,      0.8018,      0.8028,      0.8038,      0.8048,     0.80581,     0.80681,     0.80781,     0.80881,     0.80981,     0.81081,     0.81181,     0.81281,     0.81381,     0.81481,     0.81582,\n",
       "           0.81682,     0.81782,     0.81882,     0.81982,     0.82082,     0.82182,     0.82282,     0.82382,     0.82482,     0.82583,     0.82683,     0.82783,     0.82883,     0.82983,     0.83083,     0.83183,     0.83283,     0.83383,     0.83483,     0.83584,     0.83684,     0.83784,     0.83884,     0.83984,\n",
       "           0.84084,     0.84184,     0.84284,     0.84384,     0.84484,     0.84585,     0.84685,     0.84785,     0.84885,     0.84985,     0.85085,     0.85185,     0.85285,     0.85385,     0.85485,     0.85586,     0.85686,     0.85786,     0.85886,     0.85986,     0.86086,     0.86186,     0.86286,     0.86386,\n",
       "           0.86486,     0.86587,     0.86687,     0.86787,     0.86887,     0.86987,     0.87087,     0.87187,     0.87287,     0.87387,     0.87487,     0.87588,     0.87688,     0.87788,     0.87888,     0.87988,     0.88088,     0.88188,     0.88288,     0.88388,     0.88488,     0.88589,     0.88689,     0.88789,\n",
       "           0.88889,     0.88989,     0.89089,     0.89189,     0.89289,     0.89389,     0.89489,      0.8959,      0.8969,      0.8979,      0.8989,      0.8999,      0.9009,      0.9019,      0.9029,      0.9039,      0.9049,     0.90591,     0.90691,     0.90791,     0.90891,     0.90991,     0.91091,     0.91191,\n",
       "           0.91291,     0.91391,     0.91491,     0.91592,     0.91692,     0.91792,     0.91892,     0.91992,     0.92092,     0.92192,     0.92292,     0.92392,     0.92492,     0.92593,     0.92693,     0.92793,     0.92893,     0.92993,     0.93093,     0.93193,     0.93293,     0.93393,     0.93493,     0.93594,\n",
       "           0.93694,     0.93794,     0.93894,     0.93994,     0.94094,     0.94194,     0.94294,     0.94394,     0.94494,     0.94595,     0.94695,     0.94795,     0.94895,     0.94995,     0.95095,     0.95195,     0.95295,     0.95395,     0.95495,     0.95596,     0.95696,     0.95796,     0.95896,     0.95996,\n",
       "           0.96096,     0.96196,     0.96296,     0.96396,     0.96496,     0.96597,     0.96697,     0.96797,     0.96897,     0.96997,     0.97097,     0.97197,     0.97297,     0.97397,     0.97497,     0.97598,     0.97698,     0.97798,     0.97898,     0.97998,     0.98098,     0.98198,     0.98298,     0.98398,\n",
       "           0.98498,     0.98599,     0.98699,     0.98799,     0.98899,     0.98999,     0.99099,     0.99199,     0.99299,     0.99399,     0.99499,       0.996,       0.997,       0.998,       0.999,           1]), array([[    0.24242,     0.24242,     0.42849, ...,           0,           0,           0],\n",
       "       [       0.25,        0.25,     0.48621, ...,           0,           0,           0],\n",
       "       [    0.31579,     0.31579,     0.46674, ...,           0,           0,           0],\n",
       "       ...,\n",
       "       [          0,           0,           0, ...,           0,           0,           0],\n",
       "       [   0.096774,    0.096774,     0.13826, ...,           0,           0,           0],\n",
       "       [    0.50909,     0.50909,     0.60906, ...,           0,           0,           0]]), 'Confidence', 'F1'], [array([          0,    0.001001,    0.002002,    0.003003,    0.004004,    0.005005,    0.006006,    0.007007,    0.008008,    0.009009,     0.01001,    0.011011,    0.012012,    0.013013,    0.014014,    0.015015,    0.016016,    0.017017,    0.018018,    0.019019,     0.02002,    0.021021,    0.022022,    0.023023,\n",
       "          0.024024,    0.025025,    0.026026,    0.027027,    0.028028,    0.029029,     0.03003,    0.031031,    0.032032,    0.033033,    0.034034,    0.035035,    0.036036,    0.037037,    0.038038,    0.039039,     0.04004,    0.041041,    0.042042,    0.043043,    0.044044,    0.045045,    0.046046,    0.047047,\n",
       "          0.048048,    0.049049,     0.05005,    0.051051,    0.052052,    0.053053,    0.054054,    0.055055,    0.056056,    0.057057,    0.058058,    0.059059,     0.06006,    0.061061,    0.062062,    0.063063,    0.064064,    0.065065,    0.066066,    0.067067,    0.068068,    0.069069,     0.07007,    0.071071,\n",
       "          0.072072,    0.073073,    0.074074,    0.075075,    0.076076,    0.077077,    0.078078,    0.079079,     0.08008,    0.081081,    0.082082,    0.083083,    0.084084,    0.085085,    0.086086,    0.087087,    0.088088,    0.089089,     0.09009,    0.091091,    0.092092,    0.093093,    0.094094,    0.095095,\n",
       "          0.096096,    0.097097,    0.098098,    0.099099,      0.1001,      0.1011,      0.1021,      0.1031,      0.1041,     0.10511,     0.10611,     0.10711,     0.10811,     0.10911,     0.11011,     0.11111,     0.11211,     0.11311,     0.11411,     0.11512,     0.11612,     0.11712,     0.11812,     0.11912,\n",
       "           0.12012,     0.12112,     0.12212,     0.12312,     0.12412,     0.12513,     0.12613,     0.12713,     0.12813,     0.12913,     0.13013,     0.13113,     0.13213,     0.13313,     0.13413,     0.13514,     0.13614,     0.13714,     0.13814,     0.13914,     0.14014,     0.14114,     0.14214,     0.14314,\n",
       "           0.14414,     0.14515,     0.14615,     0.14715,     0.14815,     0.14915,     0.15015,     0.15115,     0.15215,     0.15315,     0.15415,     0.15516,     0.15616,     0.15716,     0.15816,     0.15916,     0.16016,     0.16116,     0.16216,     0.16316,     0.16416,     0.16517,     0.16617,     0.16717,\n",
       "           0.16817,     0.16917,     0.17017,     0.17117,     0.17217,     0.17317,     0.17417,     0.17518,     0.17618,     0.17718,     0.17818,     0.17918,     0.18018,     0.18118,     0.18218,     0.18318,     0.18418,     0.18519,     0.18619,     0.18719,     0.18819,     0.18919,     0.19019,     0.19119,\n",
       "           0.19219,     0.19319,     0.19419,      0.1952,      0.1962,      0.1972,      0.1982,      0.1992,      0.2002,      0.2012,      0.2022,      0.2032,      0.2042,     0.20521,     0.20621,     0.20721,     0.20821,     0.20921,     0.21021,     0.21121,     0.21221,     0.21321,     0.21421,     0.21522,\n",
       "           0.21622,     0.21722,     0.21822,     0.21922,     0.22022,     0.22122,     0.22222,     0.22322,     0.22422,     0.22523,     0.22623,     0.22723,     0.22823,     0.22923,     0.23023,     0.23123,     0.23223,     0.23323,     0.23423,     0.23524,     0.23624,     0.23724,     0.23824,     0.23924,\n",
       "           0.24024,     0.24124,     0.24224,     0.24324,     0.24424,     0.24525,     0.24625,     0.24725,     0.24825,     0.24925,     0.25025,     0.25125,     0.25225,     0.25325,     0.25425,     0.25526,     0.25626,     0.25726,     0.25826,     0.25926,     0.26026,     0.26126,     0.26226,     0.26326,\n",
       "           0.26426,     0.26527,     0.26627,     0.26727,     0.26827,     0.26927,     0.27027,     0.27127,     0.27227,     0.27327,     0.27427,     0.27528,     0.27628,     0.27728,     0.27828,     0.27928,     0.28028,     0.28128,     0.28228,     0.28328,     0.28428,     0.28529,     0.28629,     0.28729,\n",
       "           0.28829,     0.28929,     0.29029,     0.29129,     0.29229,     0.29329,     0.29429,      0.2953,      0.2963,      0.2973,      0.2983,      0.2993,      0.3003,      0.3013,      0.3023,      0.3033,      0.3043,     0.30531,     0.30631,     0.30731,     0.30831,     0.30931,     0.31031,     0.31131,\n",
       "           0.31231,     0.31331,     0.31431,     0.31532,     0.31632,     0.31732,     0.31832,     0.31932,     0.32032,     0.32132,     0.32232,     0.32332,     0.32432,     0.32533,     0.32633,     0.32733,     0.32833,     0.32933,     0.33033,     0.33133,     0.33233,     0.33333,     0.33433,     0.33534,\n",
       "           0.33634,     0.33734,     0.33834,     0.33934,     0.34034,     0.34134,     0.34234,     0.34334,     0.34434,     0.34535,     0.34635,     0.34735,     0.34835,     0.34935,     0.35035,     0.35135,     0.35235,     0.35335,     0.35435,     0.35536,     0.35636,     0.35736,     0.35836,     0.35936,\n",
       "           0.36036,     0.36136,     0.36236,     0.36336,     0.36436,     0.36537,     0.36637,     0.36737,     0.36837,     0.36937,     0.37037,     0.37137,     0.37237,     0.37337,     0.37437,     0.37538,     0.37638,     0.37738,     0.37838,     0.37938,     0.38038,     0.38138,     0.38238,     0.38338,\n",
       "           0.38438,     0.38539,     0.38639,     0.38739,     0.38839,     0.38939,     0.39039,     0.39139,     0.39239,     0.39339,     0.39439,      0.3954,      0.3964,      0.3974,      0.3984,      0.3994,      0.4004,      0.4014,      0.4024,      0.4034,      0.4044,     0.40541,     0.40641,     0.40741,\n",
       "           0.40841,     0.40941,     0.41041,     0.41141,     0.41241,     0.41341,     0.41441,     0.41542,     0.41642,     0.41742,     0.41842,     0.41942,     0.42042,     0.42142,     0.42242,     0.42342,     0.42442,     0.42543,     0.42643,     0.42743,     0.42843,     0.42943,     0.43043,     0.43143,\n",
       "           0.43243,     0.43343,     0.43443,     0.43544,     0.43644,     0.43744,     0.43844,     0.43944,     0.44044,     0.44144,     0.44244,     0.44344,     0.44444,     0.44545,     0.44645,     0.44745,     0.44845,     0.44945,     0.45045,     0.45145,     0.45245,     0.45345,     0.45445,     0.45546,\n",
       "           0.45646,     0.45746,     0.45846,     0.45946,     0.46046,     0.46146,     0.46246,     0.46346,     0.46446,     0.46547,     0.46647,     0.46747,     0.46847,     0.46947,     0.47047,     0.47147,     0.47247,     0.47347,     0.47447,     0.47548,     0.47648,     0.47748,     0.47848,     0.47948,\n",
       "           0.48048,     0.48148,     0.48248,     0.48348,     0.48448,     0.48549,     0.48649,     0.48749,     0.48849,     0.48949,     0.49049,     0.49149,     0.49249,     0.49349,     0.49449,      0.4955,      0.4965,      0.4975,      0.4985,      0.4995,      0.5005,      0.5015,      0.5025,      0.5035,\n",
       "            0.5045,     0.50551,     0.50651,     0.50751,     0.50851,     0.50951,     0.51051,     0.51151,     0.51251,     0.51351,     0.51451,     0.51552,     0.51652,     0.51752,     0.51852,     0.51952,     0.52052,     0.52152,     0.52252,     0.52352,     0.52452,     0.52553,     0.52653,     0.52753,\n",
       "           0.52853,     0.52953,     0.53053,     0.53153,     0.53253,     0.53353,     0.53453,     0.53554,     0.53654,     0.53754,     0.53854,     0.53954,     0.54054,     0.54154,     0.54254,     0.54354,     0.54454,     0.54555,     0.54655,     0.54755,     0.54855,     0.54955,     0.55055,     0.55155,\n",
       "           0.55255,     0.55355,     0.55455,     0.55556,     0.55656,     0.55756,     0.55856,     0.55956,     0.56056,     0.56156,     0.56256,     0.56356,     0.56456,     0.56557,     0.56657,     0.56757,     0.56857,     0.56957,     0.57057,     0.57157,     0.57257,     0.57357,     0.57457,     0.57558,\n",
       "           0.57658,     0.57758,     0.57858,     0.57958,     0.58058,     0.58158,     0.58258,     0.58358,     0.58458,     0.58559,     0.58659,     0.58759,     0.58859,     0.58959,     0.59059,     0.59159,     0.59259,     0.59359,     0.59459,      0.5956,      0.5966,      0.5976,      0.5986,      0.5996,\n",
       "            0.6006,      0.6016,      0.6026,      0.6036,      0.6046,     0.60561,     0.60661,     0.60761,     0.60861,     0.60961,     0.61061,     0.61161,     0.61261,     0.61361,     0.61461,     0.61562,     0.61662,     0.61762,     0.61862,     0.61962,     0.62062,     0.62162,     0.62262,     0.62362,\n",
       "           0.62462,     0.62563,     0.62663,     0.62763,     0.62863,     0.62963,     0.63063,     0.63163,     0.63263,     0.63363,     0.63463,     0.63564,     0.63664,     0.63764,     0.63864,     0.63964,     0.64064,     0.64164,     0.64264,     0.64364,     0.64464,     0.64565,     0.64665,     0.64765,\n",
       "           0.64865,     0.64965,     0.65065,     0.65165,     0.65265,     0.65365,     0.65465,     0.65566,     0.65666,     0.65766,     0.65866,     0.65966,     0.66066,     0.66166,     0.66266,     0.66366,     0.66466,     0.66567,     0.66667,     0.66767,     0.66867,     0.66967,     0.67067,     0.67167,\n",
       "           0.67267,     0.67367,     0.67467,     0.67568,     0.67668,     0.67768,     0.67868,     0.67968,     0.68068,     0.68168,     0.68268,     0.68368,     0.68468,     0.68569,     0.68669,     0.68769,     0.68869,     0.68969,     0.69069,     0.69169,     0.69269,     0.69369,     0.69469,      0.6957,\n",
       "            0.6967,      0.6977,      0.6987,      0.6997,      0.7007,      0.7017,      0.7027,      0.7037,      0.7047,     0.70571,     0.70671,     0.70771,     0.70871,     0.70971,     0.71071,     0.71171,     0.71271,     0.71371,     0.71471,     0.71572,     0.71672,     0.71772,     0.71872,     0.71972,\n",
       "           0.72072,     0.72172,     0.72272,     0.72372,     0.72472,     0.72573,     0.72673,     0.72773,     0.72873,     0.72973,     0.73073,     0.73173,     0.73273,     0.73373,     0.73473,     0.73574,     0.73674,     0.73774,     0.73874,     0.73974,     0.74074,     0.74174,     0.74274,     0.74374,\n",
       "           0.74474,     0.74575,     0.74675,     0.74775,     0.74875,     0.74975,     0.75075,     0.75175,     0.75275,     0.75375,     0.75475,     0.75576,     0.75676,     0.75776,     0.75876,     0.75976,     0.76076,     0.76176,     0.76276,     0.76376,     0.76476,     0.76577,     0.76677,     0.76777,\n",
       "           0.76877,     0.76977,     0.77077,     0.77177,     0.77277,     0.77377,     0.77477,     0.77578,     0.77678,     0.77778,     0.77878,     0.77978,     0.78078,     0.78178,     0.78278,     0.78378,     0.78478,     0.78579,     0.78679,     0.78779,     0.78879,     0.78979,     0.79079,     0.79179,\n",
       "           0.79279,     0.79379,     0.79479,      0.7958,      0.7968,      0.7978,      0.7988,      0.7998,      0.8008,      0.8018,      0.8028,      0.8038,      0.8048,     0.80581,     0.80681,     0.80781,     0.80881,     0.80981,     0.81081,     0.81181,     0.81281,     0.81381,     0.81481,     0.81582,\n",
       "           0.81682,     0.81782,     0.81882,     0.81982,     0.82082,     0.82182,     0.82282,     0.82382,     0.82482,     0.82583,     0.82683,     0.82783,     0.82883,     0.82983,     0.83083,     0.83183,     0.83283,     0.83383,     0.83483,     0.83584,     0.83684,     0.83784,     0.83884,     0.83984,\n",
       "           0.84084,     0.84184,     0.84284,     0.84384,     0.84484,     0.84585,     0.84685,     0.84785,     0.84885,     0.84985,     0.85085,     0.85185,     0.85285,     0.85385,     0.85485,     0.85586,     0.85686,     0.85786,     0.85886,     0.85986,     0.86086,     0.86186,     0.86286,     0.86386,\n",
       "           0.86486,     0.86587,     0.86687,     0.86787,     0.86887,     0.86987,     0.87087,     0.87187,     0.87287,     0.87387,     0.87487,     0.87588,     0.87688,     0.87788,     0.87888,     0.87988,     0.88088,     0.88188,     0.88288,     0.88388,     0.88488,     0.88589,     0.88689,     0.88789,\n",
       "           0.88889,     0.88989,     0.89089,     0.89189,     0.89289,     0.89389,     0.89489,      0.8959,      0.8969,      0.8979,      0.8989,      0.8999,      0.9009,      0.9019,      0.9029,      0.9039,      0.9049,     0.90591,     0.90691,     0.90791,     0.90891,     0.90991,     0.91091,     0.91191,\n",
       "           0.91291,     0.91391,     0.91491,     0.91592,     0.91692,     0.91792,     0.91892,     0.91992,     0.92092,     0.92192,     0.92292,     0.92392,     0.92492,     0.92593,     0.92693,     0.92793,     0.92893,     0.92993,     0.93093,     0.93193,     0.93293,     0.93393,     0.93493,     0.93594,\n",
       "           0.93694,     0.93794,     0.93894,     0.93994,     0.94094,     0.94194,     0.94294,     0.94394,     0.94494,     0.94595,     0.94695,     0.94795,     0.94895,     0.94995,     0.95095,     0.95195,     0.95295,     0.95395,     0.95495,     0.95596,     0.95696,     0.95796,     0.95896,     0.95996,\n",
       "           0.96096,     0.96196,     0.96296,     0.96396,     0.96496,     0.96597,     0.96697,     0.96797,     0.96897,     0.96997,     0.97097,     0.97197,     0.97297,     0.97397,     0.97497,     0.97598,     0.97698,     0.97798,     0.97898,     0.97998,     0.98098,     0.98198,     0.98298,     0.98398,\n",
       "           0.98498,     0.98599,     0.98699,     0.98799,     0.98899,     0.98999,     0.99099,     0.99199,     0.99299,     0.99399,     0.99499,       0.996,       0.997,       0.998,       0.999,           1]), array([[    0.13793,     0.13793,     0.27266, ...,           1,           1,           1],\n",
       "       [    0.14286,     0.14286,     0.32119, ...,           1,           1,           1],\n",
       "       [     0.1875,      0.1875,     0.77817, ...,           1,           1,           1],\n",
       "       ...,\n",
       "       [          0,           0,           0, ...,           0,           0,           0],\n",
       "       [   0.050847,    0.050847,    0.074264, ...,           1,           1,           1],\n",
       "       [    0.34146,     0.34146,     0.43787, ...,           1,           1,           1]]), 'Confidence', 'Precision'], [array([          0,    0.001001,    0.002002,    0.003003,    0.004004,    0.005005,    0.006006,    0.007007,    0.008008,    0.009009,     0.01001,    0.011011,    0.012012,    0.013013,    0.014014,    0.015015,    0.016016,    0.017017,    0.018018,    0.019019,     0.02002,    0.021021,    0.022022,    0.023023,\n",
       "          0.024024,    0.025025,    0.026026,    0.027027,    0.028028,    0.029029,     0.03003,    0.031031,    0.032032,    0.033033,    0.034034,    0.035035,    0.036036,    0.037037,    0.038038,    0.039039,     0.04004,    0.041041,    0.042042,    0.043043,    0.044044,    0.045045,    0.046046,    0.047047,\n",
       "          0.048048,    0.049049,     0.05005,    0.051051,    0.052052,    0.053053,    0.054054,    0.055055,    0.056056,    0.057057,    0.058058,    0.059059,     0.06006,    0.061061,    0.062062,    0.063063,    0.064064,    0.065065,    0.066066,    0.067067,    0.068068,    0.069069,     0.07007,    0.071071,\n",
       "          0.072072,    0.073073,    0.074074,    0.075075,    0.076076,    0.077077,    0.078078,    0.079079,     0.08008,    0.081081,    0.082082,    0.083083,    0.084084,    0.085085,    0.086086,    0.087087,    0.088088,    0.089089,     0.09009,    0.091091,    0.092092,    0.093093,    0.094094,    0.095095,\n",
       "          0.096096,    0.097097,    0.098098,    0.099099,      0.1001,      0.1011,      0.1021,      0.1031,      0.1041,     0.10511,     0.10611,     0.10711,     0.10811,     0.10911,     0.11011,     0.11111,     0.11211,     0.11311,     0.11411,     0.11512,     0.11612,     0.11712,     0.11812,     0.11912,\n",
       "           0.12012,     0.12112,     0.12212,     0.12312,     0.12412,     0.12513,     0.12613,     0.12713,     0.12813,     0.12913,     0.13013,     0.13113,     0.13213,     0.13313,     0.13413,     0.13514,     0.13614,     0.13714,     0.13814,     0.13914,     0.14014,     0.14114,     0.14214,     0.14314,\n",
       "           0.14414,     0.14515,     0.14615,     0.14715,     0.14815,     0.14915,     0.15015,     0.15115,     0.15215,     0.15315,     0.15415,     0.15516,     0.15616,     0.15716,     0.15816,     0.15916,     0.16016,     0.16116,     0.16216,     0.16316,     0.16416,     0.16517,     0.16617,     0.16717,\n",
       "           0.16817,     0.16917,     0.17017,     0.17117,     0.17217,     0.17317,     0.17417,     0.17518,     0.17618,     0.17718,     0.17818,     0.17918,     0.18018,     0.18118,     0.18218,     0.18318,     0.18418,     0.18519,     0.18619,     0.18719,     0.18819,     0.18919,     0.19019,     0.19119,\n",
       "           0.19219,     0.19319,     0.19419,      0.1952,      0.1962,      0.1972,      0.1982,      0.1992,      0.2002,      0.2012,      0.2022,      0.2032,      0.2042,     0.20521,     0.20621,     0.20721,     0.20821,     0.20921,     0.21021,     0.21121,     0.21221,     0.21321,     0.21421,     0.21522,\n",
       "           0.21622,     0.21722,     0.21822,     0.21922,     0.22022,     0.22122,     0.22222,     0.22322,     0.22422,     0.22523,     0.22623,     0.22723,     0.22823,     0.22923,     0.23023,     0.23123,     0.23223,     0.23323,     0.23423,     0.23524,     0.23624,     0.23724,     0.23824,     0.23924,\n",
       "           0.24024,     0.24124,     0.24224,     0.24324,     0.24424,     0.24525,     0.24625,     0.24725,     0.24825,     0.24925,     0.25025,     0.25125,     0.25225,     0.25325,     0.25425,     0.25526,     0.25626,     0.25726,     0.25826,     0.25926,     0.26026,     0.26126,     0.26226,     0.26326,\n",
       "           0.26426,     0.26527,     0.26627,     0.26727,     0.26827,     0.26927,     0.27027,     0.27127,     0.27227,     0.27327,     0.27427,     0.27528,     0.27628,     0.27728,     0.27828,     0.27928,     0.28028,     0.28128,     0.28228,     0.28328,     0.28428,     0.28529,     0.28629,     0.28729,\n",
       "           0.28829,     0.28929,     0.29029,     0.29129,     0.29229,     0.29329,     0.29429,      0.2953,      0.2963,      0.2973,      0.2983,      0.2993,      0.3003,      0.3013,      0.3023,      0.3033,      0.3043,     0.30531,     0.30631,     0.30731,     0.30831,     0.30931,     0.31031,     0.31131,\n",
       "           0.31231,     0.31331,     0.31431,     0.31532,     0.31632,     0.31732,     0.31832,     0.31932,     0.32032,     0.32132,     0.32232,     0.32332,     0.32432,     0.32533,     0.32633,     0.32733,     0.32833,     0.32933,     0.33033,     0.33133,     0.33233,     0.33333,     0.33433,     0.33534,\n",
       "           0.33634,     0.33734,     0.33834,     0.33934,     0.34034,     0.34134,     0.34234,     0.34334,     0.34434,     0.34535,     0.34635,     0.34735,     0.34835,     0.34935,     0.35035,     0.35135,     0.35235,     0.35335,     0.35435,     0.35536,     0.35636,     0.35736,     0.35836,     0.35936,\n",
       "           0.36036,     0.36136,     0.36236,     0.36336,     0.36436,     0.36537,     0.36637,     0.36737,     0.36837,     0.36937,     0.37037,     0.37137,     0.37237,     0.37337,     0.37437,     0.37538,     0.37638,     0.37738,     0.37838,     0.37938,     0.38038,     0.38138,     0.38238,     0.38338,\n",
       "           0.38438,     0.38539,     0.38639,     0.38739,     0.38839,     0.38939,     0.39039,     0.39139,     0.39239,     0.39339,     0.39439,      0.3954,      0.3964,      0.3974,      0.3984,      0.3994,      0.4004,      0.4014,      0.4024,      0.4034,      0.4044,     0.40541,     0.40641,     0.40741,\n",
       "           0.40841,     0.40941,     0.41041,     0.41141,     0.41241,     0.41341,     0.41441,     0.41542,     0.41642,     0.41742,     0.41842,     0.41942,     0.42042,     0.42142,     0.42242,     0.42342,     0.42442,     0.42543,     0.42643,     0.42743,     0.42843,     0.42943,     0.43043,     0.43143,\n",
       "           0.43243,     0.43343,     0.43443,     0.43544,     0.43644,     0.43744,     0.43844,     0.43944,     0.44044,     0.44144,     0.44244,     0.44344,     0.44444,     0.44545,     0.44645,     0.44745,     0.44845,     0.44945,     0.45045,     0.45145,     0.45245,     0.45345,     0.45445,     0.45546,\n",
       "           0.45646,     0.45746,     0.45846,     0.45946,     0.46046,     0.46146,     0.46246,     0.46346,     0.46446,     0.46547,     0.46647,     0.46747,     0.46847,     0.46947,     0.47047,     0.47147,     0.47247,     0.47347,     0.47447,     0.47548,     0.47648,     0.47748,     0.47848,     0.47948,\n",
       "           0.48048,     0.48148,     0.48248,     0.48348,     0.48448,     0.48549,     0.48649,     0.48749,     0.48849,     0.48949,     0.49049,     0.49149,     0.49249,     0.49349,     0.49449,      0.4955,      0.4965,      0.4975,      0.4985,      0.4995,      0.5005,      0.5015,      0.5025,      0.5035,\n",
       "            0.5045,     0.50551,     0.50651,     0.50751,     0.50851,     0.50951,     0.51051,     0.51151,     0.51251,     0.51351,     0.51451,     0.51552,     0.51652,     0.51752,     0.51852,     0.51952,     0.52052,     0.52152,     0.52252,     0.52352,     0.52452,     0.52553,     0.52653,     0.52753,\n",
       "           0.52853,     0.52953,     0.53053,     0.53153,     0.53253,     0.53353,     0.53453,     0.53554,     0.53654,     0.53754,     0.53854,     0.53954,     0.54054,     0.54154,     0.54254,     0.54354,     0.54454,     0.54555,     0.54655,     0.54755,     0.54855,     0.54955,     0.55055,     0.55155,\n",
       "           0.55255,     0.55355,     0.55455,     0.55556,     0.55656,     0.55756,     0.55856,     0.55956,     0.56056,     0.56156,     0.56256,     0.56356,     0.56456,     0.56557,     0.56657,     0.56757,     0.56857,     0.56957,     0.57057,     0.57157,     0.57257,     0.57357,     0.57457,     0.57558,\n",
       "           0.57658,     0.57758,     0.57858,     0.57958,     0.58058,     0.58158,     0.58258,     0.58358,     0.58458,     0.58559,     0.58659,     0.58759,     0.58859,     0.58959,     0.59059,     0.59159,     0.59259,     0.59359,     0.59459,      0.5956,      0.5966,      0.5976,      0.5986,      0.5996,\n",
       "            0.6006,      0.6016,      0.6026,      0.6036,      0.6046,     0.60561,     0.60661,     0.60761,     0.60861,     0.60961,     0.61061,     0.61161,     0.61261,     0.61361,     0.61461,     0.61562,     0.61662,     0.61762,     0.61862,     0.61962,     0.62062,     0.62162,     0.62262,     0.62362,\n",
       "           0.62462,     0.62563,     0.62663,     0.62763,     0.62863,     0.62963,     0.63063,     0.63163,     0.63263,     0.63363,     0.63463,     0.63564,     0.63664,     0.63764,     0.63864,     0.63964,     0.64064,     0.64164,     0.64264,     0.64364,     0.64464,     0.64565,     0.64665,     0.64765,\n",
       "           0.64865,     0.64965,     0.65065,     0.65165,     0.65265,     0.65365,     0.65465,     0.65566,     0.65666,     0.65766,     0.65866,     0.65966,     0.66066,     0.66166,     0.66266,     0.66366,     0.66466,     0.66567,     0.66667,     0.66767,     0.66867,     0.66967,     0.67067,     0.67167,\n",
       "           0.67267,     0.67367,     0.67467,     0.67568,     0.67668,     0.67768,     0.67868,     0.67968,     0.68068,     0.68168,     0.68268,     0.68368,     0.68468,     0.68569,     0.68669,     0.68769,     0.68869,     0.68969,     0.69069,     0.69169,     0.69269,     0.69369,     0.69469,      0.6957,\n",
       "            0.6967,      0.6977,      0.6987,      0.6997,      0.7007,      0.7017,      0.7027,      0.7037,      0.7047,     0.70571,     0.70671,     0.70771,     0.70871,     0.70971,     0.71071,     0.71171,     0.71271,     0.71371,     0.71471,     0.71572,     0.71672,     0.71772,     0.71872,     0.71972,\n",
       "           0.72072,     0.72172,     0.72272,     0.72372,     0.72472,     0.72573,     0.72673,     0.72773,     0.72873,     0.72973,     0.73073,     0.73173,     0.73273,     0.73373,     0.73473,     0.73574,     0.73674,     0.73774,     0.73874,     0.73974,     0.74074,     0.74174,     0.74274,     0.74374,\n",
       "           0.74474,     0.74575,     0.74675,     0.74775,     0.74875,     0.74975,     0.75075,     0.75175,     0.75275,     0.75375,     0.75475,     0.75576,     0.75676,     0.75776,     0.75876,     0.75976,     0.76076,     0.76176,     0.76276,     0.76376,     0.76476,     0.76577,     0.76677,     0.76777,\n",
       "           0.76877,     0.76977,     0.77077,     0.77177,     0.77277,     0.77377,     0.77477,     0.77578,     0.77678,     0.77778,     0.77878,     0.77978,     0.78078,     0.78178,     0.78278,     0.78378,     0.78478,     0.78579,     0.78679,     0.78779,     0.78879,     0.78979,     0.79079,     0.79179,\n",
       "           0.79279,     0.79379,     0.79479,      0.7958,      0.7968,      0.7978,      0.7988,      0.7998,      0.8008,      0.8018,      0.8028,      0.8038,      0.8048,     0.80581,     0.80681,     0.80781,     0.80881,     0.80981,     0.81081,     0.81181,     0.81281,     0.81381,     0.81481,     0.81582,\n",
       "           0.81682,     0.81782,     0.81882,     0.81982,     0.82082,     0.82182,     0.82282,     0.82382,     0.82482,     0.82583,     0.82683,     0.82783,     0.82883,     0.82983,     0.83083,     0.83183,     0.83283,     0.83383,     0.83483,     0.83584,     0.83684,     0.83784,     0.83884,     0.83984,\n",
       "           0.84084,     0.84184,     0.84284,     0.84384,     0.84484,     0.84585,     0.84685,     0.84785,     0.84885,     0.84985,     0.85085,     0.85185,     0.85285,     0.85385,     0.85485,     0.85586,     0.85686,     0.85786,     0.85886,     0.85986,     0.86086,     0.86186,     0.86286,     0.86386,\n",
       "           0.86486,     0.86587,     0.86687,     0.86787,     0.86887,     0.86987,     0.87087,     0.87187,     0.87287,     0.87387,     0.87487,     0.87588,     0.87688,     0.87788,     0.87888,     0.87988,     0.88088,     0.88188,     0.88288,     0.88388,     0.88488,     0.88589,     0.88689,     0.88789,\n",
       "           0.88889,     0.88989,     0.89089,     0.89189,     0.89289,     0.89389,     0.89489,      0.8959,      0.8969,      0.8979,      0.8989,      0.8999,      0.9009,      0.9019,      0.9029,      0.9039,      0.9049,     0.90591,     0.90691,     0.90791,     0.90891,     0.90991,     0.91091,     0.91191,\n",
       "           0.91291,     0.91391,     0.91491,     0.91592,     0.91692,     0.91792,     0.91892,     0.91992,     0.92092,     0.92192,     0.92292,     0.92392,     0.92492,     0.92593,     0.92693,     0.92793,     0.92893,     0.92993,     0.93093,     0.93193,     0.93293,     0.93393,     0.93493,     0.93594,\n",
       "           0.93694,     0.93794,     0.93894,     0.93994,     0.94094,     0.94194,     0.94294,     0.94394,     0.94494,     0.94595,     0.94695,     0.94795,     0.94895,     0.94995,     0.95095,     0.95195,     0.95295,     0.95395,     0.95495,     0.95596,     0.95696,     0.95796,     0.95896,     0.95996,\n",
       "           0.96096,     0.96196,     0.96296,     0.96396,     0.96496,     0.96597,     0.96697,     0.96797,     0.96897,     0.96997,     0.97097,     0.97197,     0.97297,     0.97397,     0.97497,     0.97598,     0.97698,     0.97798,     0.97898,     0.97998,     0.98098,     0.98198,     0.98298,     0.98398,\n",
       "           0.98498,     0.98599,     0.98699,     0.98799,     0.98899,     0.98999,     0.99099,     0.99199,     0.99299,     0.99399,     0.99499,       0.996,       0.997,       0.998,       0.999,           1]), array([[          1,           1,           1, ...,           0,           0,           0],\n",
       "       [          1,           1,           1, ...,           0,           0,           0],\n",
       "       [          1,           1,     0.33333, ...,           0,           0,           0],\n",
       "       ...,\n",
       "       [          0,           0,           0, ...,           0,           0,           0],\n",
       "       [          1,           1,           1, ...,           0,           0,           0],\n",
       "       [          1,           1,           1, ...,           0,           0,           0]]), 'Confidence', 'Recall']]\n",
       "fitness: 0.5310128624059486\n",
       "keys: ['metrics/precision(B)', 'metrics/recall(B)', 'metrics/mAP50(B)', 'metrics/mAP50-95(B)']\n",
       "maps: array([    0.52916,     0.52916,       0.895,       0.995,     0.52916,     0.54453,           0,     0.52916,     0.52916,      0.7056,     0.52916,       0.995,       0.532,           0,     0.52916,     0.52916,      0.8205,     0.71309,     0.52916,     0.52916,     0.76667,     0.52916,           0,        0.75,\n",
       "           0.52916,     0.52916,     0.52916,     0.52916,       0.995,     0.52916,     0.52916,           0,       0.199,     0.52916,     0.52916,     0.52916,     0.52916,           0,     0.52916,     0.52916,     0.52916,     0.52916,           0,     0.52916,     0.52916,     0.94208,     0.83554,     0.52916,\n",
       "           0.52916,           0,     0.52916,     0.52916,      0.4975,     0.98417])\n",
       "names: {0: '不宜久留-0038', 1: '业绩考察点-0004', 2: '临时拍档-0014', 3: '休息区-0028', 4: '传送点-0032', 5: '侵蚀-0030', 6: '侵蚀扭蛋机-0013', 7: '假面研究者-0015', 8: '净化室-0031', 9: '危机-0003', 10: '及时补给-0006', 11: '双重危机-0024', 12: '呼叫增援-0009', 13: '失联-0029', 14: '奇怪的侦探-0039', 15: '奇货-0036', 16: '守门人-0048', 17: '安全区-0027', 18: '巨兽-0035', 19: '开启的门-0026', 20: '当前-9000', 21: '怀斯塔学会研究站-0046', 22: '扭蛋机-0008', 23: '插件获取-0007', 24: '操纵杆-0011', 25: '有偿休息站-0044', 26: '残破的障碍物-0023', 27: '求救的信号-0040', 28: '治安官小队-0043', 29: '活化结晶-0047', 30: '王牌邦布助手-0053', 31: '盗洞客-0018', 32: '盲盒区域-0037', 33: '真相-0033', 34: '秘径-0010', 35: '空白已通行-9002', 36: '空白未通行-9001', 37: '精锐邦布助手-0042', 38: '紧急撤离点-0051', 39: '裂隙-0049', 40: '调查协会补给站-0041', 41: '调查员-0017', 42: '起点-0001', 43: '通道-0034', 44: '邂逅-0012', 45: '邦布商人-0019', 46: '门扉禁闭-侵蚀-0022', 47: '门扉禁闭-善战-0025', 48: '门扉禁闭-财富-0020', 49: '防卫军后勤站-0052', 50: '顽固的障碍物-0021', 51: '馅饼天降-0045', 52: '鸣徽催化剂-0016', 53: '齿轮硬币箱-0002'}\n",
       "plot: True\n",
       "results_dict: {'metrics/precision(B)': 0.19023120279651223, 'metrics/recall(B)': 0.6159420289855072, 'metrics/mAP50(B)': 0.5476921325051759, 'metrics/mAP50-95(B)': 0.5291596101727011, 'fitness': 0.5310128624059486}\n",
       "save_dir: WindowsPath('D:/code/workspace/OneDragon-YOLO/ultralytics/runs/zzz_hollow_event_2208/yolov8n-640')\n",
       "speed: {'preprocess': 1.501321792602539, 'inference': 6.005525588989258, 'loss': 0.0, 'postprocess': 1.0008811950683594}\n",
       "task: 'detect'"
      ]
     },
     "execution_count": 14,
     "metadata": {},
     "output_type": "execute_result"
    }
   ],
   "source": [
    "model.train(\n",
    "    data=ultralytics_utils.get_dataset_yaml_path(dataset_name),  # 数据集配置文件的位置\n",
    "    project=ultralytics_utils.get_dataset_model_dir(dataset_name),  # 训练模型的数据（包括模型文件）的自动保存位置\n",
    "    name= train_name,\n",
    "    imgsz=train_img_size,\n",
    "    epochs=100, \n",
    "    batch=-1,  # 根据可使用内存 自动判断batch_size\n",
    "    exist_ok=True,\n",
    "    copy_paste=0,  # 数据集太小，复制多一点\n",
    "    scale=0,  # 不需要缩放处理\n",
    "    flipud=0, fliplr=0,  # 不需要翻转对称\n",
    "    erasing=0,  # 不需要消除了 图片下方空白比较多\n",
    "    hsv_h=0, hsv_s=0, hsv_v=0,  # 关闭色彩调节\n",
    ")"
   ]
  },
  {
   "cell_type": "code",
   "execution_count": null,
   "id": "7b339773-2a77-4a37-b51f-5cc07990bd53",
   "metadata": {},
   "outputs": [],
   "source": []
  }
 ],
 "metadata": {
  "kernelspec": {
   "display_name": "Python 3 (ipykernel)",
   "language": "python",
   "name": "python3"
  },
  "language_info": {
   "codemirror_mode": {
    "name": "ipython",
    "version": 3
   },
   "file_extension": ".py",
   "mimetype": "text/x-python",
   "name": "python",
   "nbconvert_exporter": "python",
   "pygments_lexer": "ipython3",
   "version": "3.11.9"
  }
 },
 "nbformat": 4,
 "nbformat_minor": 5
}

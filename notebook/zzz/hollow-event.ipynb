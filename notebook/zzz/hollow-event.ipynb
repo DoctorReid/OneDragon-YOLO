{
 "cells": [
  {
   "cell_type": "code",
   "execution_count": 1,
   "id": "2ccd20a0-e4f7-4ccc-8f98-4a069b707efb",
   "metadata": {},
   "outputs": [],
   "source": [
    "import pandas as pd\n",
    "import sys\n",
    "import os\n",
    "sys.path.append('../../src')"
   ]
  },
  {
   "cell_type": "code",
   "execution_count": 2,
   "id": "6bfd7549-a791-43b5-9045-2408985315af",
   "metadata": {},
   "outputs": [],
   "source": [
    "from train.devtools import os_utils\n",
    "from train.devtools import ultralytics_utils\n",
    "from train.devtools import yolo_dataset_utils"
   ]
  },
  {
   "cell_type": "code",
   "execution_count": 3,
   "id": "61d9666e-ed67-43ee-805c-96c1fde496f1",
   "metadata": {},
   "outputs": [],
   "source": [
    "ultralytics_utils.init_ultralytics_settings()"
   ]
  },
  {
   "cell_type": "code",
   "execution_count": 4,
   "id": "603bce91-cb98-45fd-9187-b6e37f065693",
   "metadata": {},
   "outputs": [],
   "source": [
    "#origin_img_size = 32 * 68\n",
    "#img_size_div = 2\n",
    "origin_img_size = 32 * 69\n",
    "img_size_div = 3\n",
    "train_img_size = origin_img_size // img_size_div\n",
    "export_img_size = (1080 // img_size_div, 1920 // img_size_div)\n",
    "\n",
    "dataset_name = f'zzz_hollow_event_{origin_img_size}'\n",
    "\n",
    "pretrained_model_name = 'yolov8x'\n",
    "train_name = f'{pretrained_model_name}-{export_img_size[1]}'"
   ]
  },
  {
   "cell_type": "code",
   "execution_count": 5,
   "id": "c0279b8a-e510-4d0f-a77f-01614927ded0",
   "metadata": {},
   "outputs": [
    {
     "data": {
      "text/plain": [
       "('zzz_hollow_event_2208', 'yolov8x-640')"
      ]
     },
     "execution_count": 5,
     "metadata": {},
     "output_type": "execute_result"
    }
   ],
   "source": [
    "dataset_name, train_name"
   ]
  },
  {
   "cell_type": "code",
   "execution_count": 6,
   "id": "608bc633-42d2-48a5-8b42-f14424237d8b",
   "metadata": {},
   "outputs": [
    {
     "name": "stdout",
     "output_type": "stream",
     "text": [
      "Autosplitting images from D:\\code\\workspace\\OneDragon-YOLO\\ultralytics\\datasets\\zzz_hollow_event_2208\\images, using *.txt labeled images only\n"
     ]
    },
    {
     "name": "stderr",
     "output_type": "stream",
     "text": [
      "100%|██████████| 208/208 [00:00<00:00, 3710.91it/s]\n"
     ]
    }
   ],
   "source": [
    "yolo_dataset_utils.init_dataset(\n",
    "    dataset_name=dataset_name,\n",
    "    raw_dataset_name='zzz_hollow_event_raw',\n",
    "    raw_images_dir_path=os_utils.get_path_under_work_dir('label_studio', 'zzz', 'hollow_event', 'raw'),\n",
    "    target_img_size=2208,\n",
    "    split_weights=(1, 0, 0)\n",
    ")"
   ]
  },
  {
   "cell_type": "code",
   "execution_count": 7,
   "id": "721d4f40-6cd0-450b-ba19-00b89076b42c",
   "metadata": {},
   "outputs": [],
   "source": [
    "from ultralytics import YOLO"
   ]
  },
  {
   "cell_type": "code",
   "execution_count": 8,
   "id": "3bdbb5bf-3bcf-4c48-9439-d2b5f983e9b6",
   "metadata": {},
   "outputs": [],
   "source": [
    "model = YOLO(ultralytics_utils.get_base_model_path(f'{pretrained_model_name}.pt'))"
   ]
  },
  {
   "cell_type": "code",
   "execution_count": 9,
   "id": "372da530-416e-4796-a81e-9fc1857a626c",
   "metadata": {
    "scrolled": true
   },
   "outputs": [
    {
     "name": "stdout",
     "output_type": "stream",
     "text": [
      "Ultralytics YOLOv8.2.51  Python-3.11.9 torch-2.3.1 CUDA:0 (NVIDIA GeForce RTX 4070 Ti, 12282MiB)\n",
      "\u001b[34m\u001b[1mengine\\trainer: \u001b[0mtask=detect, mode=train, model=D:\\code\\workspace\\OneDragon-YOLO\\ultralytics\\models\\yolov8x.pt, data=D:\\code\\workspace\\OneDragon-YOLO\\ultralytics\\datasets\\zzz_hollow_event_2208\\dataset.yaml, epochs=1000, time=None, patience=100, batch=-1, imgsz=736, save=True, save_period=100, cache=False, device=None, workers=8, project=D:\\code\\workspace\\OneDragon-YOLO\\ultralytics\\runs\\zzz_hollow_event_2208, name=yolov8x-640, exist_ok=True, pretrained=True, optimizer=auto, verbose=True, seed=0, deterministic=True, single_cls=False, rect=False, cos_lr=False, close_mosaic=10, resume=False, amp=True, fraction=1.0, profile=False, freeze=None, multi_scale=False, overlap_mask=True, mask_ratio=4, dropout=0.0, val=False, split=val, save_json=False, save_hybrid=False, conf=None, iou=0.7, max_det=300, half=False, dnn=False, plots=True, source=None, vid_stride=1, stream_buffer=False, visualize=False, augment=False, agnostic_nms=False, classes=None, retina_masks=False, embed=None, show=False, save_frames=False, save_txt=False, save_conf=False, save_crop=False, show_labels=True, show_conf=True, show_boxes=True, line_width=None, format=torchscript, keras=False, optimize=False, int8=False, dynamic=False, simplify=False, opset=None, workspace=4, nms=False, lr0=0.01, lrf=0.01, momentum=0.937, weight_decay=0.0005, warmup_epochs=3.0, warmup_momentum=0.8, warmup_bias_lr=0.1, box=7.5, cls=0.5, dfl=1.5, pose=12.0, kobj=1.0, label_smoothing=0.0, nbs=64, hsv_h=0, hsv_s=0, hsv_v=0, degrees=0.0, translate=0.1, scale=0, shear=0.0, perspective=0.0, flipud=0, fliplr=0, bgr=0.0, mosaic=0, mixup=0.0, copy_paste=0, auto_augment=randaugment, erasing=0, crop_fraction=1.0, cfg=None, tracker=botsort.yaml, save_dir=D:\\code\\workspace\\OneDragon-YOLO\\ultralytics\\runs\\zzz_hollow_event_2208\\yolov8x-640\n",
      "Overriding model.yaml nc=80 with nc=73\n",
      "\n",
      "                   from  n    params  module                                       arguments                     \n",
      "  0                  -1  1      2320  ultralytics.nn.modules.conv.Conv             [3, 80, 3, 2]                 \n",
      "  1                  -1  1    115520  ultralytics.nn.modules.conv.Conv             [80, 160, 3, 2]               \n",
      "  2                  -1  3    436800  ultralytics.nn.modules.block.C2f             [160, 160, 3, True]           \n",
      "  3                  -1  1    461440  ultralytics.nn.modules.conv.Conv             [160, 320, 3, 2]              \n",
      "  4                  -1  6   3281920  ultralytics.nn.modules.block.C2f             [320, 320, 6, True]           \n",
      "  5                  -1  1   1844480  ultralytics.nn.modules.conv.Conv             [320, 640, 3, 2]              \n",
      "  6                  -1  6  13117440  ultralytics.nn.modules.block.C2f             [640, 640, 6, True]           \n",
      "  7                  -1  1   3687680  ultralytics.nn.modules.conv.Conv             [640, 640, 3, 2]              \n",
      "  8                  -1  3   6969600  ultralytics.nn.modules.block.C2f             [640, 640, 3, True]           \n",
      "  9                  -1  1   1025920  ultralytics.nn.modules.block.SPPF            [640, 640, 5]                 \n",
      " 10                  -1  1         0  torch.nn.modules.upsampling.Upsample         [None, 2, 'nearest']          \n",
      " 11             [-1, 6]  1         0  ultralytics.nn.modules.conv.Concat           [1]                           \n",
      " 12                  -1  3   7379200  ultralytics.nn.modules.block.C2f             [1280, 640, 3]                \n",
      " 13                  -1  1         0  torch.nn.modules.upsampling.Upsample         [None, 2, 'nearest']          \n",
      " 14             [-1, 4]  1         0  ultralytics.nn.modules.conv.Concat           [1]                           \n",
      " 15                  -1  3   1948800  ultralytics.nn.modules.block.C2f             [960, 320, 3]                 \n",
      " 16                  -1  1    922240  ultralytics.nn.modules.conv.Conv             [320, 320, 3, 2]              \n",
      " 17            [-1, 12]  1         0  ultralytics.nn.modules.conv.Concat           [1]                           \n",
      " 18                  -1  3   7174400  ultralytics.nn.modules.block.C2f             [960, 640, 3]                 \n",
      " 19                  -1  1   3687680  ultralytics.nn.modules.conv.Conv             [640, 640, 3, 2]              \n",
      " 20             [-1, 9]  1         0  ultralytics.nn.modules.conv.Concat           [1]                           \n",
      " 21                  -1  3   7379200  ultralytics.nn.modules.block.C2f             [1280, 640, 3]                \n",
      " 22        [15, 18, 21]  1   8788267  ultralytics.nn.modules.head.Detect           [73, [320, 640, 640]]         \n",
      "Model summary: 365 layers, 68222907 parameters, 68222891 gradients\n",
      "\n",
      "Transferred 589/595 items from pretrained weights\n",
      "Freezing layer 'model.22.dfl.conv.weight'\n",
      "\u001b[34m\u001b[1mAMP: \u001b[0mrunning Automatic Mixed Precision (AMP) checks with YOLOv8n...\n",
      "\u001b[34m\u001b[1mAMP: \u001b[0mchecks passed \n",
      "\u001b[34m\u001b[1mAutoBatch: \u001b[0mComputing optimal batch size for imgsz=736 at 60.0% CUDA memory utilization.\n",
      "\u001b[34m\u001b[1mAutoBatch: \u001b[0mCUDA:0 (NVIDIA GeForce RTX 4070 Ti) 11.99G total, 0.58G reserved, 0.56G allocated, 10.86G free\n",
      "      Params      GFLOPs  GPU_mem (GB)  forward (ms) backward (ms)                   input                  output\n",
      "    68222907           0         2.133         71.78         88.66        (1, 3, 736, 736)                    list\n",
      "    68222907           0         3.228         64.79          83.8        (2, 3, 736, 736)                    list\n",
      "    68222907           0         5.163         76.77         118.7        (4, 3, 736, 736)                    list\n",
      "    68222907           0         9.213         115.4         206.6        (8, 3, 736, 736)                    list\n",
      "    68222907           0        17.444     1.482e+04     2.744e+04       (16, 3, 736, 736)                    list\n",
      "\u001b[34m\u001b[1mAutoBatch: \u001b[0mUsing batch-size 5 for CUDA:0 7.35G/11.99G (61%) \n"
     ]
    },
    {
     "name": "stderr",
     "output_type": "stream",
     "text": [
      "\u001b[34m\u001b[1mtrain: \u001b[0mScanning D:\\code\\workspace\\OneDragon-YOLO\\ultralytics\\datasets\\zzz_hollow_event_2208\\labels... 208 images, 0 backgrounds, 0 corrupt: 100%|██████████| 208/208 [00:01<00:00, 111.12it/s]\u001b[0m"
     ]
    },
    {
     "name": "stdout",
     "output_type": "stream",
     "text": [
      "\u001b[34m\u001b[1mtrain: \u001b[0mNew cache created: D:\\code\\workspace\\OneDragon-YOLO\\ultralytics\\datasets\\zzz_hollow_event_2208\\labels.cache\n"
     ]
    },
    {
     "name": "stderr",
     "output_type": "stream",
     "text": [
      "\n",
      "\u001b[34m\u001b[1mval: \u001b[0mScanning D:\\code\\workspace\\OneDragon-YOLO\\ultralytics\\datasets\\zzz_hollow_event_2208\\labels.cache... 208 images, 0 backgrounds, 0 corrupt: 100%|██████████| 208/208 [00:00<?, ?it/s]\u001b[0m\n"
     ]
    },
    {
     "name": "stdout",
     "output_type": "stream",
     "text": [
      "Plotting labels to D:\\code\\workspace\\OneDragon-YOLO\\ultralytics\\runs\\zzz_hollow_event_2208\\yolov8x-640\\labels.jpg... \n",
      "\u001b[34m\u001b[1moptimizer:\u001b[0m 'optimizer=auto' found, ignoring 'lr0=0.01' and 'momentum=0.937' and determining best 'optimizer', 'lr0' and 'momentum' automatically... \n",
      "\u001b[34m\u001b[1moptimizer:\u001b[0m AdamW(lr=0.00013, momentum=0.9) with parameter groups 97 weight(decay=0.0), 104 weight(decay=0.0005078125), 103 bias(decay=0.0)\n",
      "Image sizes 736 train, 736 val\n",
      "Using 8 dataloader workers\n",
      "Logging results to \u001b[1mD:\\code\\workspace\\OneDragon-YOLO\\ultralytics\\runs\\zzz_hollow_event_2208\\yolov8x-640\u001b[0m\n",
      "Starting training for 1000 epochs...\n",
      "\n",
      "      Epoch    GPU_mem   box_loss   cls_loss   dfl_loss  Instances       Size\n"
     ]
    },
    {
     "name": "stderr",
     "output_type": "stream",
     "text": [
      "     1/1000      6.54G      1.142      3.338      1.033        206        736: 100%|██████████| 42/42 [00:10<00:00,  3.88it/s]\n"
     ]
    },
    {
     "name": "stdout",
     "output_type": "stream",
     "text": [
      "\n",
      "      Epoch    GPU_mem   box_loss   cls_loss   dfl_loss  Instances       Size\n"
     ]
    },
    {
     "name": "stderr",
     "output_type": "stream",
     "text": [
      "     2/1000      6.51G      0.851      1.179     0.8864        268        736: 100%|██████████| 42/42 [00:08<00:00,  5.05it/s]\n"
     ]
    },
    {
     "name": "stdout",
     "output_type": "stream",
     "text": [
      "\n",
      "      Epoch    GPU_mem   box_loss   cls_loss   dfl_loss  Instances       Size\n"
     ]
    },
    {
     "name": "stderr",
     "output_type": "stream",
     "text": [
      "     3/1000      6.79G     0.7715     0.7626     0.8644        424        736: 100%|██████████| 42/42 [00:08<00:00,  5.09it/s]\n"
     ]
    },
    {
     "name": "stdout",
     "output_type": "stream",
     "text": [
      "\n",
      "      Epoch    GPU_mem   box_loss   cls_loss   dfl_loss  Instances       Size\n"
     ]
    },
    {
     "name": "stderr",
     "output_type": "stream",
     "text": [
      "     4/1000      6.65G     0.7566      0.642     0.8538        357        736: 100%|██████████| 42/42 [00:08<00:00,  5.01it/s]\n"
     ]
    },
    {
     "name": "stdout",
     "output_type": "stream",
     "text": [
      "\n",
      "      Epoch    GPU_mem   box_loss   cls_loss   dfl_loss  Instances       Size\n"
     ]
    },
    {
     "name": "stderr",
     "output_type": "stream",
     "text": [
      "     5/1000      6.46G     0.7436     0.5882     0.8454        241        736: 100%|██████████| 42/42 [00:08<00:00,  5.09it/s]\n"
     ]
    },
    {
     "name": "stdout",
     "output_type": "stream",
     "text": [
      "\n",
      "      Epoch    GPU_mem   box_loss   cls_loss   dfl_loss  Instances       Size\n"
     ]
    },
    {
     "name": "stderr",
     "output_type": "stream",
     "text": [
      "     6/1000      6.66G     0.7082     0.5239     0.8428        242        736: 100%|██████████| 42/42 [00:08<00:00,  5.05it/s]\n"
     ]
    },
    {
     "name": "stdout",
     "output_type": "stream",
     "text": [
      "\n",
      "      Epoch    GPU_mem   box_loss   cls_loss   dfl_loss  Instances       Size\n"
     ]
    },
    {
     "name": "stderr",
     "output_type": "stream",
     "text": [
      "     7/1000      6.71G      0.712     0.5027     0.8382        230        736: 100%|██████████| 42/42 [00:08<00:00,  5.09it/s]\n"
     ]
    },
    {
     "name": "stdout",
     "output_type": "stream",
     "text": [
      "\n",
      "      Epoch    GPU_mem   box_loss   cls_loss   dfl_loss  Instances       Size\n"
     ]
    },
    {
     "name": "stderr",
     "output_type": "stream",
     "text": [
      "     8/1000      6.71G     0.6902     0.4759     0.8353        264        736: 100%|██████████| 42/42 [00:08<00:00,  5.05it/s]\n"
     ]
    },
    {
     "name": "stdout",
     "output_type": "stream",
     "text": [
      "\n",
      "      Epoch    GPU_mem   box_loss   cls_loss   dfl_loss  Instances       Size\n"
     ]
    },
    {
     "name": "stderr",
     "output_type": "stream",
     "text": [
      "     9/1000      6.52G      0.655     0.4397     0.8309        208        736: 100%|██████████| 42/42 [00:08<00:00,  5.08it/s]\n"
     ]
    },
    {
     "name": "stdout",
     "output_type": "stream",
     "text": [
      "\n",
      "      Epoch    GPU_mem   box_loss   cls_loss   dfl_loss  Instances       Size\n"
     ]
    },
    {
     "name": "stderr",
     "output_type": "stream",
     "text": [
      "    10/1000      6.48G     0.6358     0.4145     0.8291        343        736: 100%|██████████| 42/42 [00:08<00:00,  5.08it/s]\n"
     ]
    },
    {
     "name": "stdout",
     "output_type": "stream",
     "text": [
      "\n",
      "      Epoch    GPU_mem   box_loss   cls_loss   dfl_loss  Instances       Size\n"
     ]
    },
    {
     "name": "stderr",
     "output_type": "stream",
     "text": [
      "    11/1000      6.53G     0.6357     0.4031     0.8232        384        736: 100%|██████████| 42/42 [00:08<00:00,  5.07it/s]\n"
     ]
    },
    {
     "name": "stdout",
     "output_type": "stream",
     "text": [
      "\n",
      "      Epoch    GPU_mem   box_loss   cls_loss   dfl_loss  Instances       Size\n"
     ]
    },
    {
     "name": "stderr",
     "output_type": "stream",
     "text": [
      "    12/1000      6.72G     0.6246       0.39     0.8229        245        736: 100%|██████████| 42/42 [00:08<00:00,  5.09it/s]\n"
     ]
    },
    {
     "name": "stdout",
     "output_type": "stream",
     "text": [
      "\n",
      "      Epoch    GPU_mem   box_loss   cls_loss   dfl_loss  Instances       Size\n"
     ]
    },
    {
     "name": "stderr",
     "output_type": "stream",
     "text": [
      "    13/1000      6.46G     0.6271     0.3899     0.8194        288        736: 100%|██████████| 42/42 [00:08<00:00,  5.04it/s]\n"
     ]
    },
    {
     "name": "stdout",
     "output_type": "stream",
     "text": [
      "\n",
      "      Epoch    GPU_mem   box_loss   cls_loss   dfl_loss  Instances       Size\n"
     ]
    },
    {
     "name": "stderr",
     "output_type": "stream",
     "text": [
      "    14/1000      6.79G     0.5944     0.3683     0.8186        216        736: 100%|██████████| 42/42 [00:08<00:00,  5.10it/s]\n"
     ]
    },
    {
     "name": "stdout",
     "output_type": "stream",
     "text": [
      "\n",
      "      Epoch    GPU_mem   box_loss   cls_loss   dfl_loss  Instances       Size\n"
     ]
    },
    {
     "name": "stderr",
     "output_type": "stream",
     "text": [
      "    15/1000      6.77G     0.5783     0.3585     0.8163        305        736: 100%|██████████| 42/42 [00:08<00:00,  5.08it/s]\n"
     ]
    },
    {
     "name": "stdout",
     "output_type": "stream",
     "text": [
      "\n",
      "      Epoch    GPU_mem   box_loss   cls_loss   dfl_loss  Instances       Size\n"
     ]
    },
    {
     "name": "stderr",
     "output_type": "stream",
     "text": [
      "    16/1000      6.75G     0.5687     0.3487     0.8145        212        736: 100%|██████████| 42/42 [00:08<00:00,  5.08it/s]\n"
     ]
    },
    {
     "name": "stdout",
     "output_type": "stream",
     "text": [
      "\n",
      "      Epoch    GPU_mem   box_loss   cls_loss   dfl_loss  Instances       Size\n"
     ]
    },
    {
     "name": "stderr",
     "output_type": "stream",
     "text": [
      "    17/1000       6.6G     0.5502     0.3405     0.8138        228        736: 100%|██████████| 42/42 [00:08<00:00,  5.03it/s]\n"
     ]
    },
    {
     "name": "stdout",
     "output_type": "stream",
     "text": [
      "\n",
      "      Epoch    GPU_mem   box_loss   cls_loss   dfl_loss  Instances       Size\n"
     ]
    },
    {
     "name": "stderr",
     "output_type": "stream",
     "text": [
      "    18/1000      6.52G     0.5589     0.3441     0.8139        207        736: 100%|██████████| 42/42 [00:08<00:00,  5.03it/s]\n"
     ]
    },
    {
     "name": "stdout",
     "output_type": "stream",
     "text": [
      "\n",
      "      Epoch    GPU_mem   box_loss   cls_loss   dfl_loss  Instances       Size\n"
     ]
    },
    {
     "name": "stderr",
     "output_type": "stream",
     "text": [
      "    19/1000       6.7G     0.5746     0.3537     0.8138        280        736: 100%|██████████| 42/42 [00:08<00:00,  5.08it/s]\n"
     ]
    },
    {
     "name": "stdout",
     "output_type": "stream",
     "text": [
      "\n",
      "      Epoch    GPU_mem   box_loss   cls_loss   dfl_loss  Instances       Size\n"
     ]
    },
    {
     "name": "stderr",
     "output_type": "stream",
     "text": [
      "    20/1000      6.78G      0.556     0.3422     0.8114        274        736: 100%|██████████| 42/42 [00:08<00:00,  5.06it/s]\n"
     ]
    },
    {
     "name": "stdout",
     "output_type": "stream",
     "text": [
      "\n",
      "      Epoch    GPU_mem   box_loss   cls_loss   dfl_loss  Instances       Size\n"
     ]
    },
    {
     "name": "stderr",
     "output_type": "stream",
     "text": [
      "    21/1000      6.78G     0.5222     0.3301     0.8058        453        736: 100%|██████████| 42/42 [00:08<00:00,  5.08it/s]\n"
     ]
    },
    {
     "name": "stdout",
     "output_type": "stream",
     "text": [
      "\n",
      "      Epoch    GPU_mem   box_loss   cls_loss   dfl_loss  Instances       Size\n"
     ]
    },
    {
     "name": "stderr",
     "output_type": "stream",
     "text": [
      "    22/1000       6.7G     0.5585     0.3465     0.8096        253        736: 100%|██████████| 42/42 [00:08<00:00,  5.03it/s]\n"
     ]
    },
    {
     "name": "stdout",
     "output_type": "stream",
     "text": [
      "\n",
      "      Epoch    GPU_mem   box_loss   cls_loss   dfl_loss  Instances       Size\n"
     ]
    },
    {
     "name": "stderr",
     "output_type": "stream",
     "text": [
      "    23/1000      6.65G     0.5436     0.3318     0.8044        232        736: 100%|██████████| 42/42 [00:08<00:00,  5.09it/s]\n"
     ]
    },
    {
     "name": "stdout",
     "output_type": "stream",
     "text": [
      "\n",
      "      Epoch    GPU_mem   box_loss   cls_loss   dfl_loss  Instances       Size\n"
     ]
    },
    {
     "name": "stderr",
     "output_type": "stream",
     "text": [
      "    24/1000      6.78G     0.5398     0.3328     0.8031        216        736: 100%|██████████| 42/42 [00:08<00:00,  5.07it/s]\n"
     ]
    },
    {
     "name": "stdout",
     "output_type": "stream",
     "text": [
      "\n",
      "      Epoch    GPU_mem   box_loss   cls_loss   dfl_loss  Instances       Size\n"
     ]
    },
    {
     "name": "stderr",
     "output_type": "stream",
     "text": [
      "    25/1000      6.71G     0.4892     0.3122     0.8046        233        736: 100%|██████████| 42/42 [00:08<00:00,  5.06it/s]\n"
     ]
    },
    {
     "name": "stdout",
     "output_type": "stream",
     "text": [
      "\n",
      "      Epoch    GPU_mem   box_loss   cls_loss   dfl_loss  Instances       Size\n"
     ]
    },
    {
     "name": "stderr",
     "output_type": "stream",
     "text": [
      "    26/1000      6.58G     0.4915     0.3121     0.8021        320        736: 100%|██████████| 42/42 [00:08<00:00,  5.06it/s]\n"
     ]
    },
    {
     "name": "stdout",
     "output_type": "stream",
     "text": [
      "\n",
      "      Epoch    GPU_mem   box_loss   cls_loss   dfl_loss  Instances       Size\n"
     ]
    },
    {
     "name": "stderr",
     "output_type": "stream",
     "text": [
      "    27/1000      6.74G     0.4679     0.2982     0.8012        410        736: 100%|██████████| 42/42 [00:08<00:00,  5.07it/s]\n"
     ]
    },
    {
     "name": "stdout",
     "output_type": "stream",
     "text": [
      "\n",
      "      Epoch    GPU_mem   box_loss   cls_loss   dfl_loss  Instances       Size\n"
     ]
    },
    {
     "name": "stderr",
     "output_type": "stream",
     "text": [
      "    28/1000      6.52G     0.4523     0.2917      0.798        344        736: 100%|██████████| 42/42 [00:08<00:00,  5.08it/s]\n"
     ]
    },
    {
     "name": "stdout",
     "output_type": "stream",
     "text": [
      "\n",
      "      Epoch    GPU_mem   box_loss   cls_loss   dfl_loss  Instances       Size\n"
     ]
    },
    {
     "name": "stderr",
     "output_type": "stream",
     "text": [
      "    29/1000      6.49G     0.4337     0.2811     0.7967        292        736: 100%|██████████| 42/42 [00:08<00:00,  5.08it/s]\n"
     ]
    },
    {
     "name": "stdout",
     "output_type": "stream",
     "text": [
      "\n",
      "      Epoch    GPU_mem   box_loss   cls_loss   dfl_loss  Instances       Size\n"
     ]
    },
    {
     "name": "stderr",
     "output_type": "stream",
     "text": [
      "    30/1000      6.55G     0.4203     0.2808     0.7949        205        736: 100%|██████████| 42/42 [00:08<00:00,  5.06it/s]\n"
     ]
    },
    {
     "name": "stdout",
     "output_type": "stream",
     "text": [
      "\n",
      "      Epoch    GPU_mem   box_loss   cls_loss   dfl_loss  Instances       Size\n"
     ]
    },
    {
     "name": "stderr",
     "output_type": "stream",
     "text": [
      "    31/1000      6.53G     0.4165     0.2746     0.7937        278        736: 100%|██████████| 42/42 [00:08<00:00,  5.05it/s]\n"
     ]
    },
    {
     "name": "stdout",
     "output_type": "stream",
     "text": [
      "\n",
      "      Epoch    GPU_mem   box_loss   cls_loss   dfl_loss  Instances       Size\n"
     ]
    },
    {
     "name": "stderr",
     "output_type": "stream",
     "text": [
      "    32/1000      6.77G     0.4249     0.2792     0.7928        294        736: 100%|██████████| 42/42 [00:08<00:00,  5.06it/s]\n"
     ]
    },
    {
     "name": "stdout",
     "output_type": "stream",
     "text": [
      "\n",
      "      Epoch    GPU_mem   box_loss   cls_loss   dfl_loss  Instances       Size\n"
     ]
    },
    {
     "name": "stderr",
     "output_type": "stream",
     "text": [
      "    33/1000      6.78G     0.4399     0.2827     0.7941        327        736: 100%|██████████| 42/42 [00:08<00:00,  5.05it/s]\n"
     ]
    },
    {
     "name": "stdout",
     "output_type": "stream",
     "text": [
      "\n",
      "      Epoch    GPU_mem   box_loss   cls_loss   dfl_loss  Instances       Size\n"
     ]
    },
    {
     "name": "stderr",
     "output_type": "stream",
     "text": [
      "    34/1000      6.64G     0.4364      0.277     0.7942        208        736: 100%|██████████| 42/42 [00:08<00:00,  5.08it/s]\n"
     ]
    },
    {
     "name": "stdout",
     "output_type": "stream",
     "text": [
      "\n",
      "      Epoch    GPU_mem   box_loss   cls_loss   dfl_loss  Instances       Size\n"
     ]
    },
    {
     "name": "stderr",
     "output_type": "stream",
     "text": [
      "    35/1000      6.72G     0.4186      0.269      0.792        248        736: 100%|██████████| 42/42 [00:08<00:00,  5.04it/s]\n"
     ]
    },
    {
     "name": "stdout",
     "output_type": "stream",
     "text": [
      "\n",
      "      Epoch    GPU_mem   box_loss   cls_loss   dfl_loss  Instances       Size\n"
     ]
    },
    {
     "name": "stderr",
     "output_type": "stream",
     "text": [
      "    36/1000      6.51G     0.4124     0.2701     0.7917        299        736: 100%|██████████| 42/42 [00:08<00:00,  5.08it/s]\n"
     ]
    },
    {
     "name": "stdout",
     "output_type": "stream",
     "text": [
      "\n",
      "      Epoch    GPU_mem   box_loss   cls_loss   dfl_loss  Instances       Size\n"
     ]
    },
    {
     "name": "stderr",
     "output_type": "stream",
     "text": [
      "    37/1000      6.62G     0.3894      0.256     0.7881        236        736: 100%|██████████| 42/42 [00:08<00:00,  5.05it/s]\n"
     ]
    },
    {
     "name": "stdout",
     "output_type": "stream",
     "text": [
      "\n",
      "      Epoch    GPU_mem   box_loss   cls_loss   dfl_loss  Instances       Size\n"
     ]
    },
    {
     "name": "stderr",
     "output_type": "stream",
     "text": [
      "    38/1000      6.77G     0.3671     0.2507     0.7873        342        736: 100%|██████████| 42/42 [00:08<00:00,  5.07it/s]\n"
     ]
    },
    {
     "name": "stdout",
     "output_type": "stream",
     "text": [
      "\n",
      "      Epoch    GPU_mem   box_loss   cls_loss   dfl_loss  Instances       Size\n"
     ]
    },
    {
     "name": "stderr",
     "output_type": "stream",
     "text": [
      "    39/1000      6.69G     0.3841     0.2536     0.7881        288        736: 100%|██████████| 42/42 [00:08<00:00,  5.04it/s]\n"
     ]
    },
    {
     "name": "stdout",
     "output_type": "stream",
     "text": [
      "\n",
      "      Epoch    GPU_mem   box_loss   cls_loss   dfl_loss  Instances       Size\n"
     ]
    },
    {
     "name": "stderr",
     "output_type": "stream",
     "text": [
      "    40/1000      6.56G     0.4001     0.2613     0.7892        236        736: 100%|██████████| 42/42 [00:08<00:00,  5.08it/s]\n"
     ]
    },
    {
     "name": "stdout",
     "output_type": "stream",
     "text": [
      "\n",
      "      Epoch    GPU_mem   box_loss   cls_loss   dfl_loss  Instances       Size\n"
     ]
    },
    {
     "name": "stderr",
     "output_type": "stream",
     "text": [
      "    41/1000      6.52G     0.4195     0.2659       0.79        234        736: 100%|██████████| 42/42 [00:08<00:00,  5.08it/s]\n"
     ]
    },
    {
     "name": "stdout",
     "output_type": "stream",
     "text": [
      "\n",
      "      Epoch    GPU_mem   box_loss   cls_loss   dfl_loss  Instances       Size\n"
     ]
    },
    {
     "name": "stderr",
     "output_type": "stream",
     "text": [
      "    42/1000      6.72G     0.4866     0.2853     0.8017        275        736: 100%|██████████| 42/42 [00:08<00:00,  5.07it/s]\n"
     ]
    },
    {
     "name": "stdout",
     "output_type": "stream",
     "text": [
      "\n",
      "      Epoch    GPU_mem   box_loss   cls_loss   dfl_loss  Instances       Size\n"
     ]
    },
    {
     "name": "stderr",
     "output_type": "stream",
     "text": [
      "    43/1000      6.77G     0.4571     0.2711     0.7993        255        736: 100%|██████████| 42/42 [00:08<00:00,  5.04it/s]\n"
     ]
    },
    {
     "name": "stdout",
     "output_type": "stream",
     "text": [
      "\n",
      "      Epoch    GPU_mem   box_loss   cls_loss   dfl_loss  Instances       Size\n"
     ]
    },
    {
     "name": "stderr",
     "output_type": "stream",
     "text": [
      "    44/1000      6.58G     0.4184     0.2617     0.7912        331        736: 100%|██████████| 42/42 [00:08<00:00,  5.04it/s]\n"
     ]
    },
    {
     "name": "stdout",
     "output_type": "stream",
     "text": [
      "\n",
      "      Epoch    GPU_mem   box_loss   cls_loss   dfl_loss  Instances       Size\n"
     ]
    },
    {
     "name": "stderr",
     "output_type": "stream",
     "text": [
      "    45/1000      6.71G     0.3772     0.2539     0.7865        238        736: 100%|██████████| 42/42 [00:08<00:00,  5.07it/s]\n"
     ]
    },
    {
     "name": "stdout",
     "output_type": "stream",
     "text": [
      "\n",
      "      Epoch    GPU_mem   box_loss   cls_loss   dfl_loss  Instances       Size\n"
     ]
    },
    {
     "name": "stderr",
     "output_type": "stream",
     "text": [
      "    46/1000      6.65G     0.3955     0.2592     0.7891        217        736: 100%|██████████| 42/42 [00:08<00:00,  5.04it/s]\n"
     ]
    },
    {
     "name": "stdout",
     "output_type": "stream",
     "text": [
      "\n",
      "      Epoch    GPU_mem   box_loss   cls_loss   dfl_loss  Instances       Size\n"
     ]
    },
    {
     "name": "stderr",
     "output_type": "stream",
     "text": [
      "    47/1000      6.65G      0.372     0.2463     0.7868        273        736: 100%|██████████| 42/42 [00:08<00:00,  5.03it/s]\n"
     ]
    },
    {
     "name": "stdout",
     "output_type": "stream",
     "text": [
      "\n",
      "      Epoch    GPU_mem   box_loss   cls_loss   dfl_loss  Instances       Size\n"
     ]
    },
    {
     "name": "stderr",
     "output_type": "stream",
     "text": [
      "    48/1000       6.6G     0.3465      0.238     0.7837        219        736: 100%|██████████| 42/42 [00:08<00:00,  5.01it/s]\n"
     ]
    },
    {
     "name": "stdout",
     "output_type": "stream",
     "text": [
      "\n",
      "      Epoch    GPU_mem   box_loss   cls_loss   dfl_loss  Instances       Size\n"
     ]
    },
    {
     "name": "stderr",
     "output_type": "stream",
     "text": [
      "    49/1000      6.72G     0.3384     0.2335     0.7819        262        736: 100%|██████████| 42/42 [00:08<00:00,  5.08it/s]\n"
     ]
    },
    {
     "name": "stdout",
     "output_type": "stream",
     "text": [
      "\n",
      "      Epoch    GPU_mem   box_loss   cls_loss   dfl_loss  Instances       Size\n"
     ]
    },
    {
     "name": "stderr",
     "output_type": "stream",
     "text": [
      "    50/1000      6.75G      0.343     0.2343     0.7847        295        736: 100%|██████████| 42/42 [00:08<00:00,  5.09it/s]\n"
     ]
    },
    {
     "name": "stdout",
     "output_type": "stream",
     "text": [
      "\n",
      "      Epoch    GPU_mem   box_loss   cls_loss   dfl_loss  Instances       Size\n"
     ]
    },
    {
     "name": "stderr",
     "output_type": "stream",
     "text": [
      "    51/1000      6.47G     0.3693     0.2409     0.7833        321        736: 100%|██████████| 42/42 [00:08<00:00,  5.06it/s]\n"
     ]
    },
    {
     "name": "stdout",
     "output_type": "stream",
     "text": [
      "\n",
      "      Epoch    GPU_mem   box_loss   cls_loss   dfl_loss  Instances       Size\n"
     ]
    },
    {
     "name": "stderr",
     "output_type": "stream",
     "text": [
      "    52/1000      6.69G     0.4054      0.254     0.7843        248        736: 100%|██████████| 42/42 [00:08<00:00,  5.04it/s]\n"
     ]
    },
    {
     "name": "stdout",
     "output_type": "stream",
     "text": [
      "\n",
      "      Epoch    GPU_mem   box_loss   cls_loss   dfl_loss  Instances       Size\n"
     ]
    },
    {
     "name": "stderr",
     "output_type": "stream",
     "text": [
      "    53/1000      6.79G      0.408      0.255     0.7859        275        736: 100%|██████████| 42/42 [00:08<00:00,  5.09it/s]\n"
     ]
    },
    {
     "name": "stdout",
     "output_type": "stream",
     "text": [
      "\n",
      "      Epoch    GPU_mem   box_loss   cls_loss   dfl_loss  Instances       Size\n"
     ]
    },
    {
     "name": "stderr",
     "output_type": "stream",
     "text": [
      "    54/1000      6.66G     0.3589     0.2437     0.7806        223        736: 100%|██████████| 42/42 [00:08<00:00,  5.08it/s]\n"
     ]
    },
    {
     "name": "stdout",
     "output_type": "stream",
     "text": [
      "\n",
      "      Epoch    GPU_mem   box_loss   cls_loss   dfl_loss  Instances       Size\n"
     ]
    },
    {
     "name": "stderr",
     "output_type": "stream",
     "text": [
      "    55/1000      6.71G     0.3322     0.2305     0.7797        238        736: 100%|██████████| 42/42 [00:08<00:00,  5.06it/s]\n"
     ]
    },
    {
     "name": "stdout",
     "output_type": "stream",
     "text": [
      "\n",
      "      Epoch    GPU_mem   box_loss   cls_loss   dfl_loss  Instances       Size\n"
     ]
    },
    {
     "name": "stderr",
     "output_type": "stream",
     "text": [
      "    56/1000      6.71G     0.3068     0.2192     0.7792        286        736: 100%|██████████| 42/42 [00:08<00:00,  5.04it/s]\n"
     ]
    },
    {
     "name": "stdout",
     "output_type": "stream",
     "text": [
      "\n",
      "      Epoch    GPU_mem   box_loss   cls_loss   dfl_loss  Instances       Size\n"
     ]
    },
    {
     "name": "stderr",
     "output_type": "stream",
     "text": [
      "    57/1000      6.52G      0.296     0.2145     0.7806        217        736: 100%|██████████| 42/42 [00:08<00:00,  5.08it/s]\n"
     ]
    },
    {
     "name": "stdout",
     "output_type": "stream",
     "text": [
      "\n",
      "      Epoch    GPU_mem   box_loss   cls_loss   dfl_loss  Instances       Size\n"
     ]
    },
    {
     "name": "stderr",
     "output_type": "stream",
     "text": [
      "    58/1000      6.72G     0.2925     0.2105     0.7775        283        736: 100%|██████████| 42/42 [00:08<00:00,  5.05it/s]\n"
     ]
    },
    {
     "name": "stdout",
     "output_type": "stream",
     "text": [
      "\n",
      "      Epoch    GPU_mem   box_loss   cls_loss   dfl_loss  Instances       Size\n"
     ]
    },
    {
     "name": "stderr",
     "output_type": "stream",
     "text": [
      "    59/1000      6.77G     0.2894     0.2085     0.7796        228        736: 100%|██████████| 42/42 [00:08<00:00,  5.09it/s]\n"
     ]
    },
    {
     "name": "stdout",
     "output_type": "stream",
     "text": [
      "\n",
      "      Epoch    GPU_mem   box_loss   cls_loss   dfl_loss  Instances       Size\n"
     ]
    },
    {
     "name": "stderr",
     "output_type": "stream",
     "text": [
      "    60/1000      6.78G     0.3256     0.2218     0.7789        253        736: 100%|██████████| 42/42 [00:08<00:00,  5.06it/s]\n"
     ]
    },
    {
     "name": "stdout",
     "output_type": "stream",
     "text": [
      "\n",
      "      Epoch    GPU_mem   box_loss   cls_loss   dfl_loss  Instances       Size\n"
     ]
    },
    {
     "name": "stderr",
     "output_type": "stream",
     "text": [
      "    61/1000      6.71G     0.3054     0.2129     0.7795        314        736: 100%|██████████| 42/42 [00:08<00:00,  5.05it/s]\n"
     ]
    },
    {
     "name": "stdout",
     "output_type": "stream",
     "text": [
      "\n",
      "      Epoch    GPU_mem   box_loss   cls_loss   dfl_loss  Instances       Size\n"
     ]
    },
    {
     "name": "stderr",
     "output_type": "stream",
     "text": [
      "    62/1000      6.67G     0.2979     0.2123     0.7751        272        736: 100%|██████████| 42/42 [00:08<00:00,  5.06it/s]\n"
     ]
    },
    {
     "name": "stdout",
     "output_type": "stream",
     "text": [
      "\n",
      "      Epoch    GPU_mem   box_loss   cls_loss   dfl_loss  Instances       Size\n"
     ]
    },
    {
     "name": "stderr",
     "output_type": "stream",
     "text": [
      "    63/1000      6.53G     0.3026     0.2154     0.7745        380        736: 100%|██████████| 42/42 [00:08<00:00,  5.03it/s]\n"
     ]
    },
    {
     "name": "stdout",
     "output_type": "stream",
     "text": [
      "\n",
      "      Epoch    GPU_mem   box_loss   cls_loss   dfl_loss  Instances       Size\n"
     ]
    },
    {
     "name": "stderr",
     "output_type": "stream",
     "text": [
      "    64/1000      6.71G     0.2865     0.2048     0.7748        229        736: 100%|██████████| 42/42 [00:08<00:00,  5.08it/s]\n"
     ]
    },
    {
     "name": "stdout",
     "output_type": "stream",
     "text": [
      "\n",
      "      Epoch    GPU_mem   box_loss   cls_loss   dfl_loss  Instances       Size\n"
     ]
    },
    {
     "name": "stderr",
     "output_type": "stream",
     "text": [
      "    65/1000      6.49G     0.2822     0.2034     0.7762        215        736: 100%|██████████| 42/42 [00:08<00:00,  5.03it/s]\n"
     ]
    },
    {
     "name": "stdout",
     "output_type": "stream",
     "text": [
      "\n",
      "      Epoch    GPU_mem   box_loss   cls_loss   dfl_loss  Instances       Size\n"
     ]
    },
    {
     "name": "stderr",
     "output_type": "stream",
     "text": [
      "    66/1000       6.7G     0.2697     0.1959      0.774        290        736: 100%|██████████| 42/42 [00:08<00:00,  5.09it/s]\n"
     ]
    },
    {
     "name": "stdout",
     "output_type": "stream",
     "text": [
      "\n",
      "      Epoch    GPU_mem   box_loss   cls_loss   dfl_loss  Instances       Size\n"
     ]
    },
    {
     "name": "stderr",
     "output_type": "stream",
     "text": [
      "    67/1000      6.52G     0.2678     0.1955     0.7751        255        736: 100%|██████████| 42/42 [00:08<00:00,  5.05it/s]\n"
     ]
    },
    {
     "name": "stdout",
     "output_type": "stream",
     "text": [
      "\n",
      "      Epoch    GPU_mem   box_loss   cls_loss   dfl_loss  Instances       Size\n"
     ]
    },
    {
     "name": "stderr",
     "output_type": "stream",
     "text": [
      "    68/1000      6.65G     0.2656     0.1934     0.7745        206        736: 100%|██████████| 42/42 [00:08<00:00,  5.04it/s]\n"
     ]
    },
    {
     "name": "stdout",
     "output_type": "stream",
     "text": [
      "\n",
      "      Epoch    GPU_mem   box_loss   cls_loss   dfl_loss  Instances       Size\n"
     ]
    },
    {
     "name": "stderr",
     "output_type": "stream",
     "text": [
      "    69/1000      6.72G     0.2451     0.1852     0.7719        216        736: 100%|██████████| 42/42 [00:08<00:00,  5.07it/s]\n"
     ]
    },
    {
     "name": "stdout",
     "output_type": "stream",
     "text": [
      "\n",
      "      Epoch    GPU_mem   box_loss   cls_loss   dfl_loss  Instances       Size\n"
     ]
    },
    {
     "name": "stderr",
     "output_type": "stream",
     "text": [
      "    70/1000      6.52G      0.251     0.1877     0.7729        272        736: 100%|██████████| 42/42 [00:08<00:00,  5.08it/s]\n"
     ]
    },
    {
     "name": "stdout",
     "output_type": "stream",
     "text": [
      "\n",
      "      Epoch    GPU_mem   box_loss   cls_loss   dfl_loss  Instances       Size\n"
     ]
    },
    {
     "name": "stderr",
     "output_type": "stream",
     "text": [
      "    71/1000      6.48G     0.2502     0.1882     0.7735        288        736: 100%|██████████| 42/42 [00:08<00:00,  5.04it/s]\n"
     ]
    },
    {
     "name": "stdout",
     "output_type": "stream",
     "text": [
      "\n",
      "      Epoch    GPU_mem   box_loss   cls_loss   dfl_loss  Instances       Size\n"
     ]
    },
    {
     "name": "stderr",
     "output_type": "stream",
     "text": [
      "    72/1000      6.51G     0.2482     0.1856     0.7715        218        736: 100%|██████████| 42/42 [00:08<00:00,  5.05it/s]\n"
     ]
    },
    {
     "name": "stdout",
     "output_type": "stream",
     "text": [
      "\n",
      "      Epoch    GPU_mem   box_loss   cls_loss   dfl_loss  Instances       Size\n"
     ]
    },
    {
     "name": "stderr",
     "output_type": "stream",
     "text": [
      "    73/1000      6.64G     0.2544     0.1863     0.7743        281        736: 100%|██████████| 42/42 [00:08<00:00,  5.09it/s]\n"
     ]
    },
    {
     "name": "stdout",
     "output_type": "stream",
     "text": [
      "\n",
      "      Epoch    GPU_mem   box_loss   cls_loss   dfl_loss  Instances       Size\n"
     ]
    },
    {
     "name": "stderr",
     "output_type": "stream",
     "text": [
      "    74/1000       6.6G     0.2473     0.1838     0.7716        296        736: 100%|██████████| 42/42 [00:08<00:00,  5.02it/s]\n"
     ]
    },
    {
     "name": "stdout",
     "output_type": "stream",
     "text": [
      "\n",
      "      Epoch    GPU_mem   box_loss   cls_loss   dfl_loss  Instances       Size\n"
     ]
    },
    {
     "name": "stderr",
     "output_type": "stream",
     "text": [
      "    75/1000      6.53G     0.2559     0.1854     0.7728        262        736: 100%|██████████| 42/42 [00:08<00:00,  5.08it/s]\n"
     ]
    },
    {
     "name": "stdout",
     "output_type": "stream",
     "text": [
      "\n",
      "      Epoch    GPU_mem   box_loss   cls_loss   dfl_loss  Instances       Size\n"
     ]
    },
    {
     "name": "stderr",
     "output_type": "stream",
     "text": [
      "    76/1000      6.73G     0.2882     0.2005     0.7769        261        736: 100%|██████████| 42/42 [00:08<00:00,  5.02it/s]\n"
     ]
    },
    {
     "name": "stdout",
     "output_type": "stream",
     "text": [
      "\n",
      "      Epoch    GPU_mem   box_loss   cls_loss   dfl_loss  Instances       Size\n"
     ]
    },
    {
     "name": "stderr",
     "output_type": "stream",
     "text": [
      "    77/1000      6.77G     0.3073      0.215     0.7766        299        736: 100%|██████████| 42/42 [00:08<00:00,  5.08it/s]\n"
     ]
    },
    {
     "name": "stdout",
     "output_type": "stream",
     "text": [
      "\n",
      "      Epoch    GPU_mem   box_loss   cls_loss   dfl_loss  Instances       Size\n"
     ]
    },
    {
     "name": "stderr",
     "output_type": "stream",
     "text": [
      "    78/1000      6.75G     0.2854     0.2032     0.7754        271        736: 100%|██████████| 42/42 [00:08<00:00,  5.07it/s]\n"
     ]
    },
    {
     "name": "stdout",
     "output_type": "stream",
     "text": [
      "\n",
      "      Epoch    GPU_mem   box_loss   cls_loss   dfl_loss  Instances       Size\n"
     ]
    },
    {
     "name": "stderr",
     "output_type": "stream",
     "text": [
      "    79/1000      6.67G     0.2712     0.2019     0.7732        236        736: 100%|██████████| 42/42 [00:08<00:00,  5.07it/s]\n"
     ]
    },
    {
     "name": "stdout",
     "output_type": "stream",
     "text": [
      "\n",
      "      Epoch    GPU_mem   box_loss   cls_loss   dfl_loss  Instances       Size\n"
     ]
    },
    {
     "name": "stderr",
     "output_type": "stream",
     "text": [
      "    80/1000      6.71G     0.2691     0.1971     0.7728        269        736: 100%|██████████| 42/42 [00:08<00:00,  5.07it/s]\n"
     ]
    },
    {
     "name": "stdout",
     "output_type": "stream",
     "text": [
      "\n",
      "      Epoch    GPU_mem   box_loss   cls_loss   dfl_loss  Instances       Size\n"
     ]
    },
    {
     "name": "stderr",
     "output_type": "stream",
     "text": [
      "    81/1000      6.51G     0.2504     0.1869     0.7719        280        736: 100%|██████████| 42/42 [00:08<00:00,  5.08it/s]\n"
     ]
    },
    {
     "name": "stdout",
     "output_type": "stream",
     "text": [
      "\n",
      "      Epoch    GPU_mem   box_loss   cls_loss   dfl_loss  Instances       Size\n"
     ]
    },
    {
     "name": "stderr",
     "output_type": "stream",
     "text": [
      "    82/1000      6.78G     0.2446     0.1831     0.7702        258        736: 100%|██████████| 42/42 [00:08<00:00,  5.06it/s]\n"
     ]
    },
    {
     "name": "stdout",
     "output_type": "stream",
     "text": [
      "\n",
      "      Epoch    GPU_mem   box_loss   cls_loss   dfl_loss  Instances       Size\n"
     ]
    },
    {
     "name": "stderr",
     "output_type": "stream",
     "text": [
      "    83/1000      6.52G     0.2408     0.1796     0.7718        278        736: 100%|██████████| 42/42 [00:08<00:00,  5.07it/s]\n"
     ]
    },
    {
     "name": "stdout",
     "output_type": "stream",
     "text": [
      "\n",
      "      Epoch    GPU_mem   box_loss   cls_loss   dfl_loss  Instances       Size\n"
     ]
    },
    {
     "name": "stderr",
     "output_type": "stream",
     "text": [
      "    84/1000      6.65G      0.251     0.1846     0.7695        279        736: 100%|██████████| 42/42 [00:08<00:00,  5.08it/s]\n"
     ]
    },
    {
     "name": "stdout",
     "output_type": "stream",
     "text": [
      "\n",
      "      Epoch    GPU_mem   box_loss   cls_loss   dfl_loss  Instances       Size\n"
     ]
    },
    {
     "name": "stderr",
     "output_type": "stream",
     "text": [
      "    85/1000      6.71G     0.2413     0.1796     0.7699        427        736: 100%|██████████| 42/42 [00:08<00:00,  5.07it/s]\n"
     ]
    },
    {
     "name": "stdout",
     "output_type": "stream",
     "text": [
      "\n",
      "      Epoch    GPU_mem   box_loss   cls_loss   dfl_loss  Instances       Size\n"
     ]
    },
    {
     "name": "stderr",
     "output_type": "stream",
     "text": [
      "    86/1000       6.7G     0.2652     0.1895     0.7714        228        736: 100%|██████████| 42/42 [00:08<00:00,  5.07it/s]\n"
     ]
    },
    {
     "name": "stdout",
     "output_type": "stream",
     "text": [
      "\n",
      "      Epoch    GPU_mem   box_loss   cls_loss   dfl_loss  Instances       Size\n"
     ]
    },
    {
     "name": "stderr",
     "output_type": "stream",
     "text": [
      "    87/1000      6.72G     0.2659     0.1919     0.7717        358        736: 100%|██████████| 42/42 [00:08<00:00,  5.07it/s]\n"
     ]
    },
    {
     "name": "stdout",
     "output_type": "stream",
     "text": [
      "\n",
      "      Epoch    GPU_mem   box_loss   cls_loss   dfl_loss  Instances       Size\n"
     ]
    },
    {
     "name": "stderr",
     "output_type": "stream",
     "text": [
      "    88/1000      6.61G      0.271     0.1929     0.7704        281        736: 100%|██████████| 42/42 [00:08<00:00,  5.08it/s]\n"
     ]
    },
    {
     "name": "stdout",
     "output_type": "stream",
     "text": [
      "\n",
      "      Epoch    GPU_mem   box_loss   cls_loss   dfl_loss  Instances       Size\n"
     ]
    },
    {
     "name": "stderr",
     "output_type": "stream",
     "text": [
      "    89/1000      6.77G     0.2415     0.1803     0.7722        215        736: 100%|██████████| 42/42 [00:08<00:00,  5.09it/s]\n"
     ]
    },
    {
     "name": "stdout",
     "output_type": "stream",
     "text": [
      "\n",
      "      Epoch    GPU_mem   box_loss   cls_loss   dfl_loss  Instances       Size\n"
     ]
    },
    {
     "name": "stderr",
     "output_type": "stream",
     "text": [
      "    90/1000      6.53G     0.2319      0.176     0.7698        277        736: 100%|██████████| 42/42 [00:08<00:00,  5.03it/s]\n"
     ]
    },
    {
     "name": "stdout",
     "output_type": "stream",
     "text": [
      "\n",
      "      Epoch    GPU_mem   box_loss   cls_loss   dfl_loss  Instances       Size\n"
     ]
    },
    {
     "name": "stderr",
     "output_type": "stream",
     "text": [
      "    91/1000      6.68G     0.2194     0.1701     0.7696        284        736: 100%|██████████| 42/42 [00:08<00:00,  5.07it/s]\n"
     ]
    },
    {
     "name": "stdout",
     "output_type": "stream",
     "text": [
      "\n",
      "      Epoch    GPU_mem   box_loss   cls_loss   dfl_loss  Instances       Size\n"
     ]
    },
    {
     "name": "stderr",
     "output_type": "stream",
     "text": [
      "    92/1000      6.54G     0.2329     0.1745     0.7711        249        736: 100%|██████████| 42/42 [00:08<00:00,  5.07it/s]\n"
     ]
    },
    {
     "name": "stdout",
     "output_type": "stream",
     "text": [
      "\n",
      "      Epoch    GPU_mem   box_loss   cls_loss   dfl_loss  Instances       Size\n"
     ]
    },
    {
     "name": "stderr",
     "output_type": "stream",
     "text": [
      "    93/1000      6.75G      0.239     0.1773     0.7699        257        736: 100%|██████████| 42/42 [00:08<00:00,  5.04it/s]\n"
     ]
    },
    {
     "name": "stdout",
     "output_type": "stream",
     "text": [
      "\n",
      "      Epoch    GPU_mem   box_loss   cls_loss   dfl_loss  Instances       Size\n"
     ]
    },
    {
     "name": "stderr",
     "output_type": "stream",
     "text": [
      "    94/1000      6.72G     0.2248     0.1722     0.7698        252        736: 100%|██████████| 42/42 [00:08<00:00,  5.07it/s]\n"
     ]
    },
    {
     "name": "stdout",
     "output_type": "stream",
     "text": [
      "\n",
      "      Epoch    GPU_mem   box_loss   cls_loss   dfl_loss  Instances       Size\n"
     ]
    },
    {
     "name": "stderr",
     "output_type": "stream",
     "text": [
      "    95/1000      6.73G      0.227     0.1703     0.7702        222        736: 100%|██████████| 42/42 [00:08<00:00,  5.05it/s]\n"
     ]
    },
    {
     "name": "stdout",
     "output_type": "stream",
     "text": [
      "\n",
      "      Epoch    GPU_mem   box_loss   cls_loss   dfl_loss  Instances       Size\n"
     ]
    },
    {
     "name": "stderr",
     "output_type": "stream",
     "text": [
      "    96/1000      6.58G     0.2282     0.1708     0.7707        218        736: 100%|██████████| 42/42 [00:08<00:00,  5.03it/s]\n"
     ]
    },
    {
     "name": "stdout",
     "output_type": "stream",
     "text": [
      "\n",
      "      Epoch    GPU_mem   box_loss   cls_loss   dfl_loss  Instances       Size\n"
     ]
    },
    {
     "name": "stderr",
     "output_type": "stream",
     "text": [
      "    97/1000      6.56G     0.2219     0.1686     0.7689        240        736: 100%|██████████| 42/42 [00:08<00:00,  5.07it/s]\n"
     ]
    },
    {
     "name": "stdout",
     "output_type": "stream",
     "text": [
      "\n",
      "      Epoch    GPU_mem   box_loss   cls_loss   dfl_loss  Instances       Size\n"
     ]
    },
    {
     "name": "stderr",
     "output_type": "stream",
     "text": [
      "    98/1000      6.71G     0.2201     0.1637     0.7685        247        736: 100%|██████████| 42/42 [00:08<00:00,  5.06it/s]\n"
     ]
    },
    {
     "name": "stdout",
     "output_type": "stream",
     "text": [
      "\n",
      "      Epoch    GPU_mem   box_loss   cls_loss   dfl_loss  Instances       Size\n"
     ]
    },
    {
     "name": "stderr",
     "output_type": "stream",
     "text": [
      "    99/1000      6.51G     0.2262     0.1675     0.7721        241        736: 100%|██████████| 42/42 [00:08<00:00,  5.09it/s]\n"
     ]
    },
    {
     "name": "stdout",
     "output_type": "stream",
     "text": [
      "\n",
      "      Epoch    GPU_mem   box_loss   cls_loss   dfl_loss  Instances       Size\n"
     ]
    },
    {
     "name": "stderr",
     "output_type": "stream",
     "text": [
      "   100/1000      6.66G     0.2275     0.1696     0.7692        259        736: 100%|██████████| 42/42 [00:08<00:00,  5.05it/s]\n"
     ]
    },
    {
     "name": "stdout",
     "output_type": "stream",
     "text": [
      "\n",
      "      Epoch    GPU_mem   box_loss   cls_loss   dfl_loss  Instances       Size\n"
     ]
    },
    {
     "name": "stderr",
     "output_type": "stream",
     "text": [
      "   101/1000      6.72G     0.2157     0.1613     0.7691        226        736: 100%|██████████| 42/42 [00:08<00:00,  5.08it/s]\n"
     ]
    },
    {
     "name": "stdout",
     "output_type": "stream",
     "text": [
      "\n",
      "      Epoch    GPU_mem   box_loss   cls_loss   dfl_loss  Instances       Size\n"
     ]
    },
    {
     "name": "stderr",
     "output_type": "stream",
     "text": [
      "   102/1000      6.72G     0.2308     0.1666     0.7697        260        736: 100%|██████████| 42/42 [00:08<00:00,  5.08it/s]\n"
     ]
    },
    {
     "name": "stdout",
     "output_type": "stream",
     "text": [
      "\n",
      "      Epoch    GPU_mem   box_loss   cls_loss   dfl_loss  Instances       Size\n"
     ]
    },
    {
     "name": "stderr",
     "output_type": "stream",
     "text": [
      "   103/1000      6.72G     0.2327     0.1669     0.7706        295        736: 100%|██████████| 42/42 [00:08<00:00,  5.05it/s]\n"
     ]
    },
    {
     "name": "stdout",
     "output_type": "stream",
     "text": [
      "\n",
      "      Epoch    GPU_mem   box_loss   cls_loss   dfl_loss  Instances       Size\n"
     ]
    },
    {
     "name": "stderr",
     "output_type": "stream",
     "text": [
      "   104/1000       6.5G     0.2232     0.1632     0.7709        234        736: 100%|██████████| 42/42 [00:08<00:00,  5.06it/s]\n"
     ]
    },
    {
     "name": "stdout",
     "output_type": "stream",
     "text": [
      "\n",
      "      Epoch    GPU_mem   box_loss   cls_loss   dfl_loss  Instances       Size\n"
     ]
    },
    {
     "name": "stderr",
     "output_type": "stream",
     "text": [
      "   105/1000      6.79G     0.2167     0.1631     0.7696        286        736: 100%|██████████| 42/42 [00:08<00:00,  5.08it/s]\n"
     ]
    },
    {
     "name": "stdout",
     "output_type": "stream",
     "text": [
      "\n",
      "      Epoch    GPU_mem   box_loss   cls_loss   dfl_loss  Instances       Size\n"
     ]
    },
    {
     "name": "stderr",
     "output_type": "stream",
     "text": [
      "   106/1000      6.53G     0.2127      0.159     0.7688        333        736: 100%|██████████| 42/42 [00:08<00:00,  5.05it/s]\n"
     ]
    },
    {
     "name": "stdout",
     "output_type": "stream",
     "text": [
      "\n",
      "      Epoch    GPU_mem   box_loss   cls_loss   dfl_loss  Instances       Size\n"
     ]
    },
    {
     "name": "stderr",
     "output_type": "stream",
     "text": [
      "   107/1000      6.52G     0.2088     0.1565     0.7664        414        736: 100%|██████████| 42/42 [00:08<00:00,  5.09it/s]\n"
     ]
    },
    {
     "name": "stdout",
     "output_type": "stream",
     "text": [
      "\n",
      "      Epoch    GPU_mem   box_loss   cls_loss   dfl_loss  Instances       Size\n"
     ]
    },
    {
     "name": "stderr",
     "output_type": "stream",
     "text": [
      "   108/1000      6.57G     0.2085     0.1554     0.7678        404        736: 100%|██████████| 42/42 [00:08<00:00,  5.07it/s]\n"
     ]
    },
    {
     "name": "stdout",
     "output_type": "stream",
     "text": [
      "\n",
      "      Epoch    GPU_mem   box_loss   cls_loss   dfl_loss  Instances       Size\n"
     ]
    },
    {
     "name": "stderr",
     "output_type": "stream",
     "text": [
      "   109/1000      6.52G      0.202     0.1539     0.7688        262        736: 100%|██████████| 42/42 [00:08<00:00,  5.08it/s]\n"
     ]
    },
    {
     "name": "stdout",
     "output_type": "stream",
     "text": [
      "\n",
      "      Epoch    GPU_mem   box_loss   cls_loss   dfl_loss  Instances       Size\n"
     ]
    },
    {
     "name": "stderr",
     "output_type": "stream",
     "text": [
      "   110/1000      6.53G     0.2017     0.1542     0.7682        306        736: 100%|██████████| 42/42 [00:08<00:00,  5.08it/s]\n"
     ]
    },
    {
     "name": "stdout",
     "output_type": "stream",
     "text": [
      "\n",
      "      Epoch    GPU_mem   box_loss   cls_loss   dfl_loss  Instances       Size\n"
     ]
    },
    {
     "name": "stderr",
     "output_type": "stream",
     "text": [
      "   111/1000      6.77G     0.1981     0.1515     0.7675        315        736: 100%|██████████| 42/42 [00:08<00:00,  5.07it/s]\n"
     ]
    },
    {
     "name": "stdout",
     "output_type": "stream",
     "text": [
      "\n",
      "      Epoch    GPU_mem   box_loss   cls_loss   dfl_loss  Instances       Size\n"
     ]
    },
    {
     "name": "stderr",
     "output_type": "stream",
     "text": [
      "   112/1000      6.75G     0.2039     0.1536     0.7654        380        736: 100%|██████████| 42/42 [00:08<00:00,  5.08it/s]\n"
     ]
    },
    {
     "name": "stdout",
     "output_type": "stream",
     "text": [
      "\n",
      "      Epoch    GPU_mem   box_loss   cls_loss   dfl_loss  Instances       Size\n"
     ]
    },
    {
     "name": "stderr",
     "output_type": "stream",
     "text": [
      "   113/1000      6.67G     0.2016     0.1524     0.7678        419        736: 100%|██████████| 42/42 [00:08<00:00,  5.06it/s]\n"
     ]
    },
    {
     "name": "stdout",
     "output_type": "stream",
     "text": [
      "\n",
      "      Epoch    GPU_mem   box_loss   cls_loss   dfl_loss  Instances       Size\n"
     ]
    },
    {
     "name": "stderr",
     "output_type": "stream",
     "text": [
      "   114/1000      6.52G     0.2027     0.1529     0.7685        266        736: 100%|██████████| 42/42 [00:08<00:00,  5.04it/s]\n"
     ]
    },
    {
     "name": "stdout",
     "output_type": "stream",
     "text": [
      "\n",
      "      Epoch    GPU_mem   box_loss   cls_loss   dfl_loss  Instances       Size\n"
     ]
    },
    {
     "name": "stderr",
     "output_type": "stream",
     "text": [
      "   115/1000      6.52G     0.1952     0.1472     0.7665        281        736: 100%|██████████| 42/42 [00:08<00:00,  5.09it/s]\n"
     ]
    },
    {
     "name": "stdout",
     "output_type": "stream",
     "text": [
      "\n",
      "      Epoch    GPU_mem   box_loss   cls_loss   dfl_loss  Instances       Size\n"
     ]
    },
    {
     "name": "stderr",
     "output_type": "stream",
     "text": [
      "   116/1000      6.58G     0.1978     0.1492     0.7669        255        736: 100%|██████████| 42/42 [00:08<00:00,  5.06it/s]\n"
     ]
    },
    {
     "name": "stdout",
     "output_type": "stream",
     "text": [
      "\n",
      "      Epoch    GPU_mem   box_loss   cls_loss   dfl_loss  Instances       Size\n"
     ]
    },
    {
     "name": "stderr",
     "output_type": "stream",
     "text": [
      "   117/1000      6.75G     0.2003      0.151     0.7676        301        736: 100%|██████████| 42/42 [00:08<00:00,  5.08it/s]\n"
     ]
    },
    {
     "name": "stdout",
     "output_type": "stream",
     "text": [
      "\n",
      "      Epoch    GPU_mem   box_loss   cls_loss   dfl_loss  Instances       Size\n"
     ]
    },
    {
     "name": "stderr",
     "output_type": "stream",
     "text": [
      "   118/1000      6.54G     0.1937     0.1466     0.7667        274        736: 100%|██████████| 42/42 [00:08<00:00,  5.09it/s]\n"
     ]
    },
    {
     "name": "stdout",
     "output_type": "stream",
     "text": [
      "\n",
      "      Epoch    GPU_mem   box_loss   cls_loss   dfl_loss  Instances       Size\n"
     ]
    },
    {
     "name": "stderr",
     "output_type": "stream",
     "text": [
      "   119/1000       6.6G      0.187     0.1423     0.7676        214        736: 100%|██████████| 42/42 [00:08<00:00,  5.06it/s]\n"
     ]
    },
    {
     "name": "stdout",
     "output_type": "stream",
     "text": [
      "\n",
      "      Epoch    GPU_mem   box_loss   cls_loss   dfl_loss  Instances       Size\n"
     ]
    },
    {
     "name": "stderr",
     "output_type": "stream",
     "text": [
      "   120/1000      6.65G     0.2037     0.1497     0.7673        312        736: 100%|██████████| 42/42 [00:08<00:00,  5.08it/s]\n"
     ]
    },
    {
     "name": "stdout",
     "output_type": "stream",
     "text": [
      "\n",
      "      Epoch    GPU_mem   box_loss   cls_loss   dfl_loss  Instances       Size\n"
     ]
    },
    {
     "name": "stderr",
     "output_type": "stream",
     "text": [
      "   121/1000      6.52G     0.2233     0.1622     0.7708        341        736: 100%|██████████| 42/42 [00:08<00:00,  5.05it/s]\n"
     ]
    },
    {
     "name": "stdout",
     "output_type": "stream",
     "text": [
      "\n",
      "      Epoch    GPU_mem   box_loss   cls_loss   dfl_loss  Instances       Size\n"
     ]
    },
    {
     "name": "stderr",
     "output_type": "stream",
     "text": [
      "   122/1000      6.53G     0.2161     0.1587      0.768        286        736: 100%|██████████| 42/42 [00:08<00:00,  5.05it/s]\n"
     ]
    },
    {
     "name": "stdout",
     "output_type": "stream",
     "text": [
      "\n",
      "      Epoch    GPU_mem   box_loss   cls_loss   dfl_loss  Instances       Size\n"
     ]
    },
    {
     "name": "stderr",
     "output_type": "stream",
     "text": [
      "   123/1000       6.6G     0.2195      0.164     0.7699        323        736: 100%|██████████| 42/42 [00:08<00:00,  5.08it/s]\n"
     ]
    },
    {
     "name": "stdout",
     "output_type": "stream",
     "text": [
      "\n",
      "      Epoch    GPU_mem   box_loss   cls_loss   dfl_loss  Instances       Size\n"
     ]
    },
    {
     "name": "stderr",
     "output_type": "stream",
     "text": [
      "   124/1000       6.6G     0.2134     0.1584     0.7684        332        736: 100%|██████████| 42/42 [00:08<00:00,  5.08it/s]\n"
     ]
    },
    {
     "name": "stdout",
     "output_type": "stream",
     "text": [
      "\n",
      "      Epoch    GPU_mem   box_loss   cls_loss   dfl_loss  Instances       Size\n"
     ]
    },
    {
     "name": "stderr",
     "output_type": "stream",
     "text": [
      "   125/1000      6.71G     0.2152     0.1597     0.7676        319        736: 100%|██████████| 42/42 [00:08<00:00,  5.08it/s]\n"
     ]
    },
    {
     "name": "stdout",
     "output_type": "stream",
     "text": [
      "\n",
      "      Epoch    GPU_mem   box_loss   cls_loss   dfl_loss  Instances       Size\n"
     ]
    },
    {
     "name": "stderr",
     "output_type": "stream",
     "text": [
      "   126/1000      6.55G     0.2119     0.1584     0.7685        327        736: 100%|██████████| 42/42 [00:08<00:00,  5.05it/s]\n"
     ]
    },
    {
     "name": "stdout",
     "output_type": "stream",
     "text": [
      "\n",
      "      Epoch    GPU_mem   box_loss   cls_loss   dfl_loss  Instances       Size\n"
     ]
    },
    {
     "name": "stderr",
     "output_type": "stream",
     "text": [
      "   127/1000       6.7G     0.2304     0.1642     0.7673        346        736: 100%|██████████| 42/42 [00:08<00:00,  5.07it/s]\n"
     ]
    },
    {
     "name": "stdout",
     "output_type": "stream",
     "text": [
      "\n",
      "      Epoch    GPU_mem   box_loss   cls_loss   dfl_loss  Instances       Size\n"
     ]
    },
    {
     "name": "stderr",
     "output_type": "stream",
     "text": [
      "   128/1000      6.71G     0.2142     0.1571     0.7657        320        736: 100%|██████████| 42/42 [00:08<00:00,  5.08it/s]\n"
     ]
    },
    {
     "name": "stdout",
     "output_type": "stream",
     "text": [
      "\n",
      "      Epoch    GPU_mem   box_loss   cls_loss   dfl_loss  Instances       Size\n"
     ]
    },
    {
     "name": "stderr",
     "output_type": "stream",
     "text": [
      "   129/1000      6.72G     0.2069     0.1554     0.7664        277        736: 100%|██████████| 42/42 [00:08<00:00,  5.09it/s]\n"
     ]
    },
    {
     "name": "stdout",
     "output_type": "stream",
     "text": [
      "\n",
      "      Epoch    GPU_mem   box_loss   cls_loss   dfl_loss  Instances       Size\n"
     ]
    },
    {
     "name": "stderr",
     "output_type": "stream",
     "text": [
      "   130/1000      6.69G     0.2054     0.1542      0.767        262        736: 100%|██████████| 42/42 [00:08<00:00,  5.07it/s]\n"
     ]
    },
    {
     "name": "stdout",
     "output_type": "stream",
     "text": [
      "\n",
      "      Epoch    GPU_mem   box_loss   cls_loss   dfl_loss  Instances       Size\n"
     ]
    },
    {
     "name": "stderr",
     "output_type": "stream",
     "text": [
      "   131/1000      6.57G     0.2104     0.1555     0.7663        227        736: 100%|██████████| 42/42 [00:08<00:00,  5.04it/s]\n"
     ]
    },
    {
     "name": "stdout",
     "output_type": "stream",
     "text": [
      "\n",
      "      Epoch    GPU_mem   box_loss   cls_loss   dfl_loss  Instances       Size\n"
     ]
    },
    {
     "name": "stderr",
     "output_type": "stream",
     "text": [
      "   132/1000      6.71G     0.2052     0.1559     0.7673        273        736: 100%|██████████| 42/42 [00:08<00:00,  5.04it/s]\n"
     ]
    },
    {
     "name": "stdout",
     "output_type": "stream",
     "text": [
      "\n",
      "      Epoch    GPU_mem   box_loss   cls_loss   dfl_loss  Instances       Size\n"
     ]
    },
    {
     "name": "stderr",
     "output_type": "stream",
     "text": [
      "   133/1000      6.67G     0.2103     0.1547     0.7655        290        736: 100%|██████████| 42/42 [00:08<00:00,  5.03it/s]\n"
     ]
    },
    {
     "name": "stdout",
     "output_type": "stream",
     "text": [
      "\n",
      "      Epoch    GPU_mem   box_loss   cls_loss   dfl_loss  Instances       Size\n"
     ]
    },
    {
     "name": "stderr",
     "output_type": "stream",
     "text": [
      "   134/1000      6.78G      0.211     0.1563     0.7676        363        736: 100%|██████████| 42/42 [00:08<00:00,  5.07it/s]\n"
     ]
    },
    {
     "name": "stdout",
     "output_type": "stream",
     "text": [
      "\n",
      "      Epoch    GPU_mem   box_loss   cls_loss   dfl_loss  Instances       Size\n"
     ]
    },
    {
     "name": "stderr",
     "output_type": "stream",
     "text": [
      "   135/1000      6.43G     0.2144     0.1569     0.7686        214        736: 100%|██████████| 42/42 [00:08<00:00,  5.04it/s]\n"
     ]
    },
    {
     "name": "stdout",
     "output_type": "stream",
     "text": [
      "\n",
      "      Epoch    GPU_mem   box_loss   cls_loss   dfl_loss  Instances       Size\n"
     ]
    },
    {
     "name": "stderr",
     "output_type": "stream",
     "text": [
      "   136/1000      6.71G     0.2262     0.1623     0.7692        346        736: 100%|██████████| 42/42 [00:08<00:00,  5.04it/s]\n"
     ]
    },
    {
     "name": "stdout",
     "output_type": "stream",
     "text": [
      "\n",
      "      Epoch    GPU_mem   box_loss   cls_loss   dfl_loss  Instances       Size\n"
     ]
    },
    {
     "name": "stderr",
     "output_type": "stream",
     "text": [
      "   137/1000      6.72G     0.2161     0.1576     0.7677        227        736: 100%|██████████| 42/42 [00:08<00:00,  5.08it/s]\n"
     ]
    },
    {
     "name": "stdout",
     "output_type": "stream",
     "text": [
      "\n",
      "      Epoch    GPU_mem   box_loss   cls_loss   dfl_loss  Instances       Size\n"
     ]
    },
    {
     "name": "stderr",
     "output_type": "stream",
     "text": [
      "   138/1000      6.72G      0.224     0.1601     0.7667        259        736: 100%|██████████| 42/42 [00:08<00:00,  5.09it/s]\n"
     ]
    },
    {
     "name": "stdout",
     "output_type": "stream",
     "text": [
      "\n",
      "      Epoch    GPU_mem   box_loss   cls_loss   dfl_loss  Instances       Size\n"
     ]
    },
    {
     "name": "stderr",
     "output_type": "stream",
     "text": [
      "   139/1000      6.55G     0.2231     0.1616     0.7673        341        736: 100%|██████████| 42/42 [00:08<00:00,  5.02it/s]\n"
     ]
    },
    {
     "name": "stdout",
     "output_type": "stream",
     "text": [
      "\n",
      "      Epoch    GPU_mem   box_loss   cls_loss   dfl_loss  Instances       Size\n"
     ]
    },
    {
     "name": "stderr",
     "output_type": "stream",
     "text": [
      "   140/1000      6.77G     0.2146     0.1577      0.765        227        736: 100%|██████████| 42/42 [00:08<00:00,  5.08it/s]\n"
     ]
    },
    {
     "name": "stdout",
     "output_type": "stream",
     "text": [
      "\n",
      "      Epoch    GPU_mem   box_loss   cls_loss   dfl_loss  Instances       Size\n"
     ]
    },
    {
     "name": "stderr",
     "output_type": "stream",
     "text": [
      "   141/1000      6.78G     0.2078     0.1543     0.7673        323        736: 100%|██████████| 42/42 [00:08<00:00,  5.04it/s]\n"
     ]
    },
    {
     "name": "stdout",
     "output_type": "stream",
     "text": [
      "\n",
      "      Epoch    GPU_mem   box_loss   cls_loss   dfl_loss  Instances       Size\n"
     ]
    },
    {
     "name": "stderr",
     "output_type": "stream",
     "text": [
      "   142/1000       6.6G     0.2001     0.1493     0.7649        275        736: 100%|██████████| 42/42 [00:08<00:00,  5.09it/s]\n"
     ]
    },
    {
     "name": "stdout",
     "output_type": "stream",
     "text": [
      "\n",
      "      Epoch    GPU_mem   box_loss   cls_loss   dfl_loss  Instances       Size\n"
     ]
    },
    {
     "name": "stderr",
     "output_type": "stream",
     "text": [
      "   143/1000      6.69G     0.1964     0.1454     0.7655        333        736: 100%|██████████| 42/42 [00:08<00:00,  5.08it/s]\n"
     ]
    },
    {
     "name": "stdout",
     "output_type": "stream",
     "text": [
      "\n",
      "      Epoch    GPU_mem   box_loss   cls_loss   dfl_loss  Instances       Size\n"
     ]
    },
    {
     "name": "stderr",
     "output_type": "stream",
     "text": [
      "   144/1000      6.61G     0.1932     0.1449     0.7644        224        736: 100%|██████████| 42/42 [00:08<00:00,  5.07it/s]\n"
     ]
    },
    {
     "name": "stdout",
     "output_type": "stream",
     "text": [
      "\n",
      "      Epoch    GPU_mem   box_loss   cls_loss   dfl_loss  Instances       Size\n"
     ]
    },
    {
     "name": "stderr",
     "output_type": "stream",
     "text": [
      "   145/1000      6.65G     0.1968     0.1458     0.7653        245        736: 100%|██████████| 42/42 [00:08<00:00,  5.04it/s]\n"
     ]
    },
    {
     "name": "stdout",
     "output_type": "stream",
     "text": [
      "\n",
      "      Epoch    GPU_mem   box_loss   cls_loss   dfl_loss  Instances       Size\n"
     ]
    },
    {
     "name": "stderr",
     "output_type": "stream",
     "text": [
      "   146/1000      6.71G     0.1845     0.1385     0.7672        283        736: 100%|██████████| 42/42 [00:08<00:00,  5.09it/s]\n"
     ]
    },
    {
     "name": "stdout",
     "output_type": "stream",
     "text": [
      "\n",
      "      Epoch    GPU_mem   box_loss   cls_loss   dfl_loss  Instances       Size\n"
     ]
    },
    {
     "name": "stderr",
     "output_type": "stream",
     "text": [
      "   147/1000      6.77G     0.1945     0.1438     0.7652        337        736: 100%|██████████| 42/42 [00:08<00:00,  5.03it/s]\n"
     ]
    },
    {
     "name": "stdout",
     "output_type": "stream",
     "text": [
      "\n",
      "      Epoch    GPU_mem   box_loss   cls_loss   dfl_loss  Instances       Size\n"
     ]
    },
    {
     "name": "stderr",
     "output_type": "stream",
     "text": [
      "   148/1000      6.52G      0.188     0.1429     0.7682        290        736: 100%|██████████| 42/42 [00:08<00:00,  5.04it/s]\n"
     ]
    },
    {
     "name": "stdout",
     "output_type": "stream",
     "text": [
      "\n",
      "      Epoch    GPU_mem   box_loss   cls_loss   dfl_loss  Instances       Size\n"
     ]
    },
    {
     "name": "stderr",
     "output_type": "stream",
     "text": [
      "   149/1000      6.55G     0.1872     0.1391     0.7659        356        736: 100%|██████████| 42/42 [00:08<00:00,  5.08it/s]\n"
     ]
    },
    {
     "name": "stdout",
     "output_type": "stream",
     "text": [
      "\n",
      "      Epoch    GPU_mem   box_loss   cls_loss   dfl_loss  Instances       Size\n"
     ]
    },
    {
     "name": "stderr",
     "output_type": "stream",
     "text": [
      "   150/1000      6.77G     0.2017     0.1477     0.7654        285        736: 100%|██████████| 42/42 [00:08<00:00,  5.07it/s]\n"
     ]
    },
    {
     "name": "stdout",
     "output_type": "stream",
     "text": [
      "\n",
      "      Epoch    GPU_mem   box_loss   cls_loss   dfl_loss  Instances       Size\n"
     ]
    },
    {
     "name": "stderr",
     "output_type": "stream",
     "text": [
      "   151/1000      6.71G     0.1953      0.146     0.7637        329        736: 100%|██████████| 42/42 [00:08<00:00,  5.08it/s]\n"
     ]
    },
    {
     "name": "stdout",
     "output_type": "stream",
     "text": [
      "\n",
      "      Epoch    GPU_mem   box_loss   cls_loss   dfl_loss  Instances       Size\n"
     ]
    },
    {
     "name": "stderr",
     "output_type": "stream",
     "text": [
      "   152/1000      6.78G     0.1824     0.1367     0.7647        228        736: 100%|██████████| 42/42 [00:08<00:00,  5.05it/s]\n"
     ]
    },
    {
     "name": "stdout",
     "output_type": "stream",
     "text": [
      "\n",
      "      Epoch    GPU_mem   box_loss   cls_loss   dfl_loss  Instances       Size\n"
     ]
    },
    {
     "name": "stderr",
     "output_type": "stream",
     "text": [
      "   153/1000       6.6G     0.1874     0.1394     0.7634        292        736: 100%|██████████| 42/42 [00:08<00:00,  5.08it/s]\n"
     ]
    },
    {
     "name": "stdout",
     "output_type": "stream",
     "text": [
      "\n",
      "      Epoch    GPU_mem   box_loss   cls_loss   dfl_loss  Instances       Size\n"
     ]
    },
    {
     "name": "stderr",
     "output_type": "stream",
     "text": [
      "   154/1000      6.49G     0.1862     0.1367     0.7654        230        736: 100%|██████████| 42/42 [00:08<00:00,  5.09it/s]\n"
     ]
    },
    {
     "name": "stdout",
     "output_type": "stream",
     "text": [
      "\n",
      "      Epoch    GPU_mem   box_loss   cls_loss   dfl_loss  Instances       Size\n"
     ]
    },
    {
     "name": "stderr",
     "output_type": "stream",
     "text": [
      "   155/1000      6.52G     0.1891     0.1411     0.7663        355        736: 100%|██████████| 42/42 [00:08<00:00,  5.04it/s]\n"
     ]
    },
    {
     "name": "stdout",
     "output_type": "stream",
     "text": [
      "\n",
      "      Epoch    GPU_mem   box_loss   cls_loss   dfl_loss  Instances       Size\n"
     ]
    },
    {
     "name": "stderr",
     "output_type": "stream",
     "text": [
      "   156/1000      6.44G     0.2078     0.1496     0.7644        288        736: 100%|██████████| 42/42 [00:08<00:00,  5.07it/s]\n"
     ]
    },
    {
     "name": "stdout",
     "output_type": "stream",
     "text": [
      "\n",
      "      Epoch    GPU_mem   box_loss   cls_loss   dfl_loss  Instances       Size\n"
     ]
    },
    {
     "name": "stderr",
     "output_type": "stream",
     "text": [
      "   157/1000      6.74G     0.1949     0.1415     0.7664        325        736: 100%|██████████| 42/42 [00:08<00:00,  5.08it/s]\n"
     ]
    },
    {
     "name": "stdout",
     "output_type": "stream",
     "text": [
      "\n",
      "      Epoch    GPU_mem   box_loss   cls_loss   dfl_loss  Instances       Size\n"
     ]
    },
    {
     "name": "stderr",
     "output_type": "stream",
     "text": [
      "   158/1000       6.7G     0.1998     0.1424     0.7663        213        736: 100%|██████████| 42/42 [00:08<00:00,  5.04it/s]\n"
     ]
    },
    {
     "name": "stdout",
     "output_type": "stream",
     "text": [
      "\n",
      "      Epoch    GPU_mem   box_loss   cls_loss   dfl_loss  Instances       Size\n"
     ]
    },
    {
     "name": "stderr",
     "output_type": "stream",
     "text": [
      "   159/1000      6.66G     0.2077     0.1502      0.767        265        736: 100%|██████████| 42/42 [00:08<00:00,  5.03it/s]\n"
     ]
    },
    {
     "name": "stdout",
     "output_type": "stream",
     "text": [
      "\n",
      "      Epoch    GPU_mem   box_loss   cls_loss   dfl_loss  Instances       Size\n"
     ]
    },
    {
     "name": "stderr",
     "output_type": "stream",
     "text": [
      "   160/1000      6.77G     0.1867     0.1382     0.7664        229        736: 100%|██████████| 42/42 [00:08<00:00,  5.07it/s]\n"
     ]
    },
    {
     "name": "stdout",
     "output_type": "stream",
     "text": [
      "\n",
      "      Epoch    GPU_mem   box_loss   cls_loss   dfl_loss  Instances       Size\n"
     ]
    },
    {
     "name": "stderr",
     "output_type": "stream",
     "text": [
      "   161/1000      6.58G     0.1953     0.1419     0.7656        272        736: 100%|██████████| 42/42 [00:08<00:00,  5.08it/s]\n"
     ]
    },
    {
     "name": "stdout",
     "output_type": "stream",
     "text": [
      "\n",
      "      Epoch    GPU_mem   box_loss   cls_loss   dfl_loss  Instances       Size\n"
     ]
    },
    {
     "name": "stderr",
     "output_type": "stream",
     "text": [
      "   162/1000      6.71G     0.1988      0.143     0.7667        324        736: 100%|██████████| 42/42 [00:08<00:00,  5.06it/s]\n"
     ]
    },
    {
     "name": "stdout",
     "output_type": "stream",
     "text": [
      "\n",
      "      Epoch    GPU_mem   box_loss   cls_loss   dfl_loss  Instances       Size\n"
     ]
    },
    {
     "name": "stderr",
     "output_type": "stream",
     "text": [
      "   163/1000      6.72G     0.1967     0.1426     0.7648        275        736: 100%|██████████| 42/42 [00:08<00:00,  5.07it/s]\n"
     ]
    },
    {
     "name": "stdout",
     "output_type": "stream",
     "text": [
      "\n",
      "      Epoch    GPU_mem   box_loss   cls_loss   dfl_loss  Instances       Size\n"
     ]
    },
    {
     "name": "stderr",
     "output_type": "stream",
     "text": [
      "   164/1000      6.53G     0.1899     0.1395     0.7635        273        736: 100%|██████████| 42/42 [00:08<00:00,  5.07it/s]\n"
     ]
    },
    {
     "name": "stdout",
     "output_type": "stream",
     "text": [
      "\n",
      "      Epoch    GPU_mem   box_loss   cls_loss   dfl_loss  Instances       Size\n"
     ]
    },
    {
     "name": "stderr",
     "output_type": "stream",
     "text": [
      "   165/1000      6.49G     0.1854     0.1359     0.7634        327        736: 100%|██████████| 42/42 [00:08<00:00,  5.03it/s]\n"
     ]
    },
    {
     "name": "stdout",
     "output_type": "stream",
     "text": [
      "\n",
      "      Epoch    GPU_mem   box_loss   cls_loss   dfl_loss  Instances       Size\n"
     ]
    },
    {
     "name": "stderr",
     "output_type": "stream",
     "text": [
      "   166/1000      6.76G     0.1835     0.1365     0.7648        259        736: 100%|██████████| 42/42 [00:08<00:00,  5.09it/s]\n"
     ]
    },
    {
     "name": "stdout",
     "output_type": "stream",
     "text": [
      "\n",
      "      Epoch    GPU_mem   box_loss   cls_loss   dfl_loss  Instances       Size\n"
     ]
    },
    {
     "name": "stderr",
     "output_type": "stream",
     "text": [
      "   167/1000      6.71G     0.1843      0.137     0.7643        316        736: 100%|██████████| 42/42 [00:08<00:00,  5.08it/s]\n"
     ]
    },
    {
     "name": "stdout",
     "output_type": "stream",
     "text": [
      "\n",
      "      Epoch    GPU_mem   box_loss   cls_loss   dfl_loss  Instances       Size\n"
     ]
    },
    {
     "name": "stderr",
     "output_type": "stream",
     "text": [
      "   168/1000      6.55G     0.1759     0.1325     0.7625        405        736: 100%|██████████| 42/42 [00:08<00:00,  5.09it/s]\n"
     ]
    },
    {
     "name": "stdout",
     "output_type": "stream",
     "text": [
      "\n",
      "      Epoch    GPU_mem   box_loss   cls_loss   dfl_loss  Instances       Size\n"
     ]
    },
    {
     "name": "stderr",
     "output_type": "stream",
     "text": [
      "   169/1000      6.54G     0.1757     0.1303     0.7645        271        736: 100%|██████████| 42/42 [00:08<00:00,  5.07it/s]\n"
     ]
    },
    {
     "name": "stdout",
     "output_type": "stream",
     "text": [
      "\n",
      "      Epoch    GPU_mem   box_loss   cls_loss   dfl_loss  Instances       Size\n"
     ]
    },
    {
     "name": "stderr",
     "output_type": "stream",
     "text": [
      "   170/1000      6.73G     0.1761     0.1298     0.7654        334        736: 100%|██████████| 42/42 [00:08<00:00,  5.08it/s]\n"
     ]
    },
    {
     "name": "stdout",
     "output_type": "stream",
     "text": [
      "\n",
      "      Epoch    GPU_mem   box_loss   cls_loss   dfl_loss  Instances       Size\n"
     ]
    },
    {
     "name": "stderr",
     "output_type": "stream",
     "text": [
      "   171/1000      6.77G     0.1761     0.1321     0.7658        264        736: 100%|██████████| 42/42 [00:08<00:00,  5.05it/s]\n"
     ]
    },
    {
     "name": "stdout",
     "output_type": "stream",
     "text": [
      "\n",
      "      Epoch    GPU_mem   box_loss   cls_loss   dfl_loss  Instances       Size\n"
     ]
    },
    {
     "name": "stderr",
     "output_type": "stream",
     "text": [
      "   172/1000      6.72G     0.1672     0.1257     0.7647        260        736: 100%|██████████| 42/42 [00:08<00:00,  5.08it/s]\n"
     ]
    },
    {
     "name": "stdout",
     "output_type": "stream",
     "text": [
      "\n",
      "      Epoch    GPU_mem   box_loss   cls_loss   dfl_loss  Instances       Size\n"
     ]
    },
    {
     "name": "stderr",
     "output_type": "stream",
     "text": [
      "   173/1000      6.51G     0.1739     0.1292     0.7633        287        736: 100%|██████████| 42/42 [00:08<00:00,  5.08it/s]\n"
     ]
    },
    {
     "name": "stdout",
     "output_type": "stream",
     "text": [
      "\n",
      "      Epoch    GPU_mem   box_loss   cls_loss   dfl_loss  Instances       Size\n"
     ]
    },
    {
     "name": "stderr",
     "output_type": "stream",
     "text": [
      "   174/1000      6.52G     0.1738     0.1292     0.7631        295        736: 100%|██████████| 42/42 [00:08<00:00,  5.08it/s]\n"
     ]
    },
    {
     "name": "stdout",
     "output_type": "stream",
     "text": [
      "\n",
      "      Epoch    GPU_mem   box_loss   cls_loss   dfl_loss  Instances       Size\n"
     ]
    },
    {
     "name": "stderr",
     "output_type": "stream",
     "text": [
      "   175/1000      6.72G     0.1709     0.1288     0.7646        271        736: 100%|██████████| 42/42 [00:08<00:00,  5.08it/s]\n"
     ]
    },
    {
     "name": "stdout",
     "output_type": "stream",
     "text": [
      "\n",
      "      Epoch    GPU_mem   box_loss   cls_loss   dfl_loss  Instances       Size\n"
     ]
    },
    {
     "name": "stderr",
     "output_type": "stream",
     "text": [
      "   176/1000      6.78G     0.1682     0.1258     0.7653        291        736: 100%|██████████| 42/42 [00:08<00:00,  5.06it/s]\n"
     ]
    },
    {
     "name": "stdout",
     "output_type": "stream",
     "text": [
      "\n",
      "      Epoch    GPU_mem   box_loss   cls_loss   dfl_loss  Instances       Size\n"
     ]
    },
    {
     "name": "stderr",
     "output_type": "stream",
     "text": [
      "   177/1000      6.77G     0.1735     0.1287     0.7633        251        736: 100%|██████████| 42/42 [00:08<00:00,  5.07it/s]\n"
     ]
    },
    {
     "name": "stdout",
     "output_type": "stream",
     "text": [
      "\n",
      "      Epoch    GPU_mem   box_loss   cls_loss   dfl_loss  Instances       Size\n"
     ]
    },
    {
     "name": "stderr",
     "output_type": "stream",
     "text": [
      "   178/1000      6.78G     0.1789     0.1326     0.7641        220        736: 100%|██████████| 42/42 [00:08<00:00,  5.06it/s]\n"
     ]
    },
    {
     "name": "stdout",
     "output_type": "stream",
     "text": [
      "\n",
      "      Epoch    GPU_mem   box_loss   cls_loss   dfl_loss  Instances       Size\n"
     ]
    },
    {
     "name": "stderr",
     "output_type": "stream",
     "text": [
      "   179/1000      6.71G     0.1673      0.126     0.7639        229        736: 100%|██████████| 42/42 [00:08<00:00,  5.08it/s]\n"
     ]
    },
    {
     "name": "stdout",
     "output_type": "stream",
     "text": [
      "\n",
      "      Epoch    GPU_mem   box_loss   cls_loss   dfl_loss  Instances       Size\n"
     ]
    },
    {
     "name": "stderr",
     "output_type": "stream",
     "text": [
      "   180/1000       6.7G     0.1673     0.1251     0.7645        301        736: 100%|██████████| 42/42 [00:08<00:00,  5.08it/s]\n"
     ]
    },
    {
     "name": "stdout",
     "output_type": "stream",
     "text": [
      "\n",
      "      Epoch    GPU_mem   box_loss   cls_loss   dfl_loss  Instances       Size\n"
     ]
    },
    {
     "name": "stderr",
     "output_type": "stream",
     "text": [
      "   181/1000      6.61G     0.1749     0.1276     0.7638        220        736: 100%|██████████| 42/42 [00:08<00:00,  5.07it/s]\n"
     ]
    },
    {
     "name": "stdout",
     "output_type": "stream",
     "text": [
      "\n",
      "      Epoch    GPU_mem   box_loss   cls_loss   dfl_loss  Instances       Size\n"
     ]
    },
    {
     "name": "stderr",
     "output_type": "stream",
     "text": [
      "   182/1000      6.63G     0.1741     0.1281     0.7632        240        736: 100%|██████████| 42/42 [00:08<00:00,  5.05it/s]\n"
     ]
    },
    {
     "name": "stdout",
     "output_type": "stream",
     "text": [
      "\n",
      "      Epoch    GPU_mem   box_loss   cls_loss   dfl_loss  Instances       Size\n"
     ]
    },
    {
     "name": "stderr",
     "output_type": "stream",
     "text": [
      "   183/1000      6.81G      0.172     0.1285     0.7638        335        736: 100%|██████████| 42/42 [00:08<00:00,  5.08it/s]\n"
     ]
    },
    {
     "name": "stdout",
     "output_type": "stream",
     "text": [
      "\n",
      "      Epoch    GPU_mem   box_loss   cls_loss   dfl_loss  Instances       Size\n"
     ]
    },
    {
     "name": "stderr",
     "output_type": "stream",
     "text": [
      "   184/1000      6.61G     0.1746      0.129     0.7624        350        736: 100%|██████████| 42/42 [00:08<00:00,  5.08it/s]\n"
     ]
    },
    {
     "name": "stdout",
     "output_type": "stream",
     "text": [
      "\n",
      "      Epoch    GPU_mem   box_loss   cls_loss   dfl_loss  Instances       Size\n"
     ]
    },
    {
     "name": "stderr",
     "output_type": "stream",
     "text": [
      "   185/1000      6.73G     0.1703     0.1263     0.7628        247        736: 100%|██████████| 42/42 [00:08<00:00,  5.08it/s]\n"
     ]
    },
    {
     "name": "stdout",
     "output_type": "stream",
     "text": [
      "\n",
      "      Epoch    GPU_mem   box_loss   cls_loss   dfl_loss  Instances       Size\n"
     ]
    },
    {
     "name": "stderr",
     "output_type": "stream",
     "text": [
      "   186/1000       6.7G     0.1657     0.1247     0.7636        386        736: 100%|██████████| 42/42 [00:08<00:00,  5.05it/s]\n"
     ]
    },
    {
     "name": "stdout",
     "output_type": "stream",
     "text": [
      "\n",
      "      Epoch    GPU_mem   box_loss   cls_loss   dfl_loss  Instances       Size\n"
     ]
    },
    {
     "name": "stderr",
     "output_type": "stream",
     "text": [
      "   187/1000      6.53G     0.1705     0.1247     0.7629        395        736: 100%|██████████| 42/42 [00:08<00:00,  5.09it/s]\n"
     ]
    },
    {
     "name": "stdout",
     "output_type": "stream",
     "text": [
      "\n",
      "      Epoch    GPU_mem   box_loss   cls_loss   dfl_loss  Instances       Size\n"
     ]
    },
    {
     "name": "stderr",
     "output_type": "stream",
     "text": [
      "   188/1000      6.65G     0.1705     0.1256     0.7641        383        736: 100%|██████████| 42/42 [00:08<00:00,  5.06it/s]\n"
     ]
    },
    {
     "name": "stdout",
     "output_type": "stream",
     "text": [
      "\n",
      "      Epoch    GPU_mem   box_loss   cls_loss   dfl_loss  Instances       Size\n"
     ]
    },
    {
     "name": "stderr",
     "output_type": "stream",
     "text": [
      "   189/1000       6.7G     0.1653     0.1239     0.7632        276        736: 100%|██████████| 42/42 [00:08<00:00,  5.08it/s]\n"
     ]
    },
    {
     "name": "stdout",
     "output_type": "stream",
     "text": [
      "\n",
      "      Epoch    GPU_mem   box_loss   cls_loss   dfl_loss  Instances       Size\n"
     ]
    },
    {
     "name": "stderr",
     "output_type": "stream",
     "text": [
      "   190/1000      6.77G     0.1729     0.1281     0.7635        233        736: 100%|██████████| 42/42 [00:08<00:00,  5.08it/s]\n"
     ]
    },
    {
     "name": "stdout",
     "output_type": "stream",
     "text": [
      "\n",
      "      Epoch    GPU_mem   box_loss   cls_loss   dfl_loss  Instances       Size\n"
     ]
    },
    {
     "name": "stderr",
     "output_type": "stream",
     "text": [
      "   191/1000      6.55G     0.1679     0.1254     0.7623        275        736: 100%|██████████| 42/42 [00:08<00:00,  5.08it/s]\n"
     ]
    },
    {
     "name": "stdout",
     "output_type": "stream",
     "text": [
      "\n",
      "      Epoch    GPU_mem   box_loss   cls_loss   dfl_loss  Instances       Size\n"
     ]
    },
    {
     "name": "stderr",
     "output_type": "stream",
     "text": [
      "   192/1000      6.78G     0.1719      0.127     0.7641        230        736: 100%|██████████| 42/42 [00:08<00:00,  5.07it/s]\n"
     ]
    },
    {
     "name": "stdout",
     "output_type": "stream",
     "text": [
      "\n",
      "      Epoch    GPU_mem   box_loss   cls_loss   dfl_loss  Instances       Size\n"
     ]
    },
    {
     "name": "stderr",
     "output_type": "stream",
     "text": [
      "   193/1000      6.52G     0.1665     0.1251     0.7636        294        736: 100%|██████████| 42/42 [00:08<00:00,  5.09it/s]\n"
     ]
    },
    {
     "name": "stdout",
     "output_type": "stream",
     "text": [
      "\n",
      "      Epoch    GPU_mem   box_loss   cls_loss   dfl_loss  Instances       Size\n"
     ]
    },
    {
     "name": "stderr",
     "output_type": "stream",
     "text": [
      "   194/1000      6.72G     0.1673     0.1233     0.7634        259        736: 100%|██████████| 42/42 [00:08<00:00,  5.05it/s]\n"
     ]
    },
    {
     "name": "stdout",
     "output_type": "stream",
     "text": [
      "\n",
      "      Epoch    GPU_mem   box_loss   cls_loss   dfl_loss  Instances       Size\n"
     ]
    },
    {
     "name": "stderr",
     "output_type": "stream",
     "text": [
      "   195/1000      6.68G     0.1621     0.1216     0.7644        322        736: 100%|██████████| 42/42 [00:08<00:00,  5.06it/s]\n"
     ]
    },
    {
     "name": "stdout",
     "output_type": "stream",
     "text": [
      "\n",
      "      Epoch    GPU_mem   box_loss   cls_loss   dfl_loss  Instances       Size\n"
     ]
    },
    {
     "name": "stderr",
     "output_type": "stream",
     "text": [
      "   196/1000      6.54G     0.1654     0.1225     0.7618        211        736: 100%|██████████| 42/42 [00:08<00:00,  5.08it/s]\n"
     ]
    },
    {
     "name": "stdout",
     "output_type": "stream",
     "text": [
      "\n",
      "      Epoch    GPU_mem   box_loss   cls_loss   dfl_loss  Instances       Size\n"
     ]
    },
    {
     "name": "stderr",
     "output_type": "stream",
     "text": [
      "   197/1000      6.71G     0.1686     0.1256     0.7625        409        736: 100%|██████████| 42/42 [00:08<00:00,  5.08it/s]\n"
     ]
    },
    {
     "name": "stdout",
     "output_type": "stream",
     "text": [
      "\n",
      "      Epoch    GPU_mem   box_loss   cls_loss   dfl_loss  Instances       Size\n"
     ]
    },
    {
     "name": "stderr",
     "output_type": "stream",
     "text": [
      "   198/1000      6.55G     0.1594      0.119     0.7624        350        736: 100%|██████████| 42/42 [00:08<00:00,  5.08it/s]\n"
     ]
    },
    {
     "name": "stdout",
     "output_type": "stream",
     "text": [
      "\n",
      "      Epoch    GPU_mem   box_loss   cls_loss   dfl_loss  Instances       Size\n"
     ]
    },
    {
     "name": "stderr",
     "output_type": "stream",
     "text": [
      "   199/1000      6.71G     0.1709     0.1247     0.7631        253        736: 100%|██████████| 42/42 [00:08<00:00,  5.07it/s]\n"
     ]
    },
    {
     "name": "stdout",
     "output_type": "stream",
     "text": [
      "\n",
      "      Epoch    GPU_mem   box_loss   cls_loss   dfl_loss  Instances       Size\n"
     ]
    },
    {
     "name": "stderr",
     "output_type": "stream",
     "text": [
      "   200/1000      6.58G     0.1657     0.1237      0.763        222        736: 100%|██████████| 42/42 [00:08<00:00,  5.07it/s]\n"
     ]
    },
    {
     "name": "stdout",
     "output_type": "stream",
     "text": [
      "\n",
      "      Epoch    GPU_mem   box_loss   cls_loss   dfl_loss  Instances       Size\n"
     ]
    },
    {
     "name": "stderr",
     "output_type": "stream",
     "text": [
      "   201/1000      6.53G     0.1676     0.1267     0.7643        267        736: 100%|██████████| 42/42 [00:08<00:00,  5.05it/s]\n"
     ]
    },
    {
     "name": "stdout",
     "output_type": "stream",
     "text": [
      "\n",
      "      Epoch    GPU_mem   box_loss   cls_loss   dfl_loss  Instances       Size\n"
     ]
    },
    {
     "name": "stderr",
     "output_type": "stream",
     "text": [
      "   202/1000      6.58G     0.1711      0.126     0.7641        327        736: 100%|██████████| 42/42 [00:08<00:00,  5.08it/s]\n"
     ]
    },
    {
     "name": "stdout",
     "output_type": "stream",
     "text": [
      "\n",
      "      Epoch    GPU_mem   box_loss   cls_loss   dfl_loss  Instances       Size\n"
     ]
    },
    {
     "name": "stderr",
     "output_type": "stream",
     "text": [
      "   203/1000      6.72G     0.1794     0.1335     0.7629        319        736: 100%|██████████| 42/42 [00:08<00:00,  5.08it/s]\n"
     ]
    },
    {
     "name": "stdout",
     "output_type": "stream",
     "text": [
      "\n",
      "      Epoch    GPU_mem   box_loss   cls_loss   dfl_loss  Instances       Size\n"
     ]
    },
    {
     "name": "stderr",
     "output_type": "stream",
     "text": [
      "   204/1000       6.6G     0.1915     0.1405     0.7627        232        736: 100%|██████████| 42/42 [00:08<00:00,  5.05it/s]\n"
     ]
    },
    {
     "name": "stdout",
     "output_type": "stream",
     "text": [
      "\n",
      "      Epoch    GPU_mem   box_loss   cls_loss   dfl_loss  Instances       Size\n"
     ]
    },
    {
     "name": "stderr",
     "output_type": "stream",
     "text": [
      "   205/1000      6.72G     0.1885     0.1364     0.7646        287        736: 100%|██████████| 42/42 [00:08<00:00,  5.08it/s]\n"
     ]
    },
    {
     "name": "stdout",
     "output_type": "stream",
     "text": [
      "\n",
      "      Epoch    GPU_mem   box_loss   cls_loss   dfl_loss  Instances       Size\n"
     ]
    },
    {
     "name": "stderr",
     "output_type": "stream",
     "text": [
      "   206/1000      6.71G     0.1876     0.1362     0.7653        243        736: 100%|██████████| 42/42 [00:08<00:00,  5.08it/s]\n"
     ]
    },
    {
     "name": "stdout",
     "output_type": "stream",
     "text": [
      "\n",
      "      Epoch    GPU_mem   box_loss   cls_loss   dfl_loss  Instances       Size\n"
     ]
    },
    {
     "name": "stderr",
     "output_type": "stream",
     "text": [
      "   207/1000       6.6G     0.1866     0.1353     0.7647        274        736: 100%|██████████| 42/42 [00:08<00:00,  5.08it/s]\n"
     ]
    },
    {
     "name": "stdout",
     "output_type": "stream",
     "text": [
      "\n",
      "      Epoch    GPU_mem   box_loss   cls_loss   dfl_loss  Instances       Size\n"
     ]
    },
    {
     "name": "stderr",
     "output_type": "stream",
     "text": [
      "   208/1000      6.58G     0.1812      0.131     0.7636        286        736: 100%|██████████| 42/42 [00:08<00:00,  5.07it/s]\n"
     ]
    },
    {
     "name": "stdout",
     "output_type": "stream",
     "text": [
      "\n",
      "      Epoch    GPU_mem   box_loss   cls_loss   dfl_loss  Instances       Size\n"
     ]
    },
    {
     "name": "stderr",
     "output_type": "stream",
     "text": [
      "   209/1000      6.74G     0.1991     0.1387     0.7652        279        736: 100%|██████████| 42/42 [00:08<00:00,  5.06it/s]\n"
     ]
    },
    {
     "name": "stdout",
     "output_type": "stream",
     "text": [
      "\n",
      "      Epoch    GPU_mem   box_loss   cls_loss   dfl_loss  Instances       Size\n"
     ]
    },
    {
     "name": "stderr",
     "output_type": "stream",
     "text": [
      "   210/1000      6.71G     0.2202     0.1515     0.7663        275        736: 100%|██████████| 42/42 [00:08<00:00,  5.08it/s]\n"
     ]
    },
    {
     "name": "stdout",
     "output_type": "stream",
     "text": [
      "\n",
      "      Epoch    GPU_mem   box_loss   cls_loss   dfl_loss  Instances       Size\n"
     ]
    },
    {
     "name": "stderr",
     "output_type": "stream",
     "text": [
      "   211/1000      6.78G     0.2118     0.1483     0.7652        242        736: 100%|██████████| 42/42 [00:08<00:00,  5.07it/s]\n"
     ]
    },
    {
     "name": "stdout",
     "output_type": "stream",
     "text": [
      "\n",
      "      Epoch    GPU_mem   box_loss   cls_loss   dfl_loss  Instances       Size\n"
     ]
    },
    {
     "name": "stderr",
     "output_type": "stream",
     "text": [
      "   212/1000      6.71G     0.2012     0.1435     0.7639        419        736: 100%|██████████| 42/42 [00:08<00:00,  5.07it/s]\n"
     ]
    },
    {
     "name": "stdout",
     "output_type": "stream",
     "text": [
      "\n",
      "      Epoch    GPU_mem   box_loss   cls_loss   dfl_loss  Instances       Size\n"
     ]
    },
    {
     "name": "stderr",
     "output_type": "stream",
     "text": [
      "   213/1000      6.57G      0.191     0.1405      0.763        239        736: 100%|██████████| 42/42 [00:08<00:00,  5.06it/s]\n"
     ]
    },
    {
     "name": "stdout",
     "output_type": "stream",
     "text": [
      "\n",
      "      Epoch    GPU_mem   box_loss   cls_loss   dfl_loss  Instances       Size\n"
     ]
    },
    {
     "name": "stderr",
     "output_type": "stream",
     "text": [
      "   214/1000      6.73G     0.2008     0.1436     0.7653        378        736: 100%|██████████| 42/42 [00:08<00:00,  5.09it/s]\n"
     ]
    },
    {
     "name": "stdout",
     "output_type": "stream",
     "text": [
      "\n",
      "      Epoch    GPU_mem   box_loss   cls_loss   dfl_loss  Instances       Size\n"
     ]
    },
    {
     "name": "stderr",
     "output_type": "stream",
     "text": [
      "   215/1000      6.48G     0.1931     0.1391     0.7637        216        736: 100%|██████████| 42/42 [00:08<00:00,  5.09it/s]\n"
     ]
    },
    {
     "name": "stdout",
     "output_type": "stream",
     "text": [
      "\n",
      "      Epoch    GPU_mem   box_loss   cls_loss   dfl_loss  Instances       Size\n"
     ]
    },
    {
     "name": "stderr",
     "output_type": "stream",
     "text": [
      "   216/1000      6.69G     0.1971     0.1425     0.7645        306        736: 100%|██████████| 42/42 [00:08<00:00,  5.09it/s]\n"
     ]
    },
    {
     "name": "stdout",
     "output_type": "stream",
     "text": [
      "\n",
      "      Epoch    GPU_mem   box_loss   cls_loss   dfl_loss  Instances       Size\n"
     ]
    },
    {
     "name": "stderr",
     "output_type": "stream",
     "text": [
      "   217/1000      6.51G     0.1874     0.1396     0.7644        284        736: 100%|██████████| 42/42 [00:08<00:00,  5.04it/s]\n"
     ]
    },
    {
     "name": "stdout",
     "output_type": "stream",
     "text": [
      "\n",
      "      Epoch    GPU_mem   box_loss   cls_loss   dfl_loss  Instances       Size\n"
     ]
    },
    {
     "name": "stderr",
     "output_type": "stream",
     "text": [
      "   218/1000      6.62G     0.1819      0.138     0.7645        334        736: 100%|██████████| 42/42 [00:08<00:00,  5.09it/s]\n"
     ]
    },
    {
     "name": "stdout",
     "output_type": "stream",
     "text": [
      "\n",
      "      Epoch    GPU_mem   box_loss   cls_loss   dfl_loss  Instances       Size\n"
     ]
    },
    {
     "name": "stderr",
     "output_type": "stream",
     "text": [
      "   219/1000      6.61G     0.1737     0.1303     0.7628        277        736: 100%|██████████| 42/42 [00:08<00:00,  5.09it/s]\n"
     ]
    },
    {
     "name": "stdout",
     "output_type": "stream",
     "text": [
      "\n",
      "      Epoch    GPU_mem   box_loss   cls_loss   dfl_loss  Instances       Size\n"
     ]
    },
    {
     "name": "stderr",
     "output_type": "stream",
     "text": [
      "   220/1000      6.72G     0.1743     0.1286     0.7647        282        736: 100%|██████████| 42/42 [00:08<00:00,  5.04it/s]\n"
     ]
    },
    {
     "name": "stdout",
     "output_type": "stream",
     "text": [
      "\n",
      "      Epoch    GPU_mem   box_loss   cls_loss   dfl_loss  Instances       Size\n"
     ]
    },
    {
     "name": "stderr",
     "output_type": "stream",
     "text": [
      "   221/1000       6.7G     0.1689     0.1268      0.764        319        736: 100%|██████████| 42/42 [00:08<00:00,  5.07it/s]\n"
     ]
    },
    {
     "name": "stdout",
     "output_type": "stream",
     "text": [
      "\n",
      "      Epoch    GPU_mem   box_loss   cls_loss   dfl_loss  Instances       Size\n"
     ]
    },
    {
     "name": "stderr",
     "output_type": "stream",
     "text": [
      "   222/1000       6.8G     0.1646     0.1237     0.7615        227        736: 100%|██████████| 42/42 [00:08<00:00,  5.07it/s]\n"
     ]
    },
    {
     "name": "stdout",
     "output_type": "stream",
     "text": [
      "\n",
      "      Epoch    GPU_mem   box_loss   cls_loss   dfl_loss  Instances       Size\n"
     ]
    },
    {
     "name": "stderr",
     "output_type": "stream",
     "text": [
      "   223/1000      6.77G     0.1611     0.1199     0.7642        277        736: 100%|██████████| 42/42 [00:08<00:00,  5.08it/s]\n"
     ]
    },
    {
     "name": "stdout",
     "output_type": "stream",
     "text": [
      "\n",
      "      Epoch    GPU_mem   box_loss   cls_loss   dfl_loss  Instances       Size\n"
     ]
    },
    {
     "name": "stderr",
     "output_type": "stream",
     "text": [
      "   224/1000      6.76G     0.1654     0.1224     0.7623        413        736: 100%|██████████| 42/42 [00:08<00:00,  5.08it/s]\n"
     ]
    },
    {
     "name": "stdout",
     "output_type": "stream",
     "text": [
      "\n",
      "      Epoch    GPU_mem   box_loss   cls_loss   dfl_loss  Instances       Size\n"
     ]
    },
    {
     "name": "stderr",
     "output_type": "stream",
     "text": [
      "   225/1000      6.72G     0.1618     0.1224     0.7623        251        736: 100%|██████████| 42/42 [00:08<00:00,  5.07it/s]\n"
     ]
    },
    {
     "name": "stdout",
     "output_type": "stream",
     "text": [
      "\n",
      "      Epoch    GPU_mem   box_loss   cls_loss   dfl_loss  Instances       Size\n"
     ]
    },
    {
     "name": "stderr",
     "output_type": "stream",
     "text": [
      "   226/1000      6.58G     0.1636     0.1191      0.762        296        736: 100%|██████████| 42/42 [00:08<00:00,  5.04it/s]\n"
     ]
    },
    {
     "name": "stdout",
     "output_type": "stream",
     "text": [
      "\n",
      "      Epoch    GPU_mem   box_loss   cls_loss   dfl_loss  Instances       Size\n"
     ]
    },
    {
     "name": "stderr",
     "output_type": "stream",
     "text": [
      "   227/1000       6.6G     0.1556     0.1155     0.7628        336        736: 100%|██████████| 42/42 [00:08<00:00,  5.08it/s]\n"
     ]
    },
    {
     "name": "stdout",
     "output_type": "stream",
     "text": [
      "\n",
      "      Epoch    GPU_mem   box_loss   cls_loss   dfl_loss  Instances       Size\n"
     ]
    },
    {
     "name": "stderr",
     "output_type": "stream",
     "text": [
      "   228/1000      6.76G     0.1664     0.1224     0.7623        354        736: 100%|██████████| 42/42 [00:08<00:00,  5.03it/s]\n"
     ]
    },
    {
     "name": "stdout",
     "output_type": "stream",
     "text": [
      "\n",
      "      Epoch    GPU_mem   box_loss   cls_loss   dfl_loss  Instances       Size\n"
     ]
    },
    {
     "name": "stderr",
     "output_type": "stream",
     "text": [
      "   229/1000      6.49G     0.1605     0.1183     0.7625        292        736: 100%|██████████| 42/42 [00:08<00:00,  5.08it/s]\n"
     ]
    },
    {
     "name": "stdout",
     "output_type": "stream",
     "text": [
      "\n",
      "      Epoch    GPU_mem   box_loss   cls_loss   dfl_loss  Instances       Size\n"
     ]
    },
    {
     "name": "stderr",
     "output_type": "stream",
     "text": [
      "   230/1000      6.61G     0.1602     0.1172     0.7631        288        736: 100%|██████████| 42/42 [00:08<00:00,  5.06it/s]\n"
     ]
    },
    {
     "name": "stdout",
     "output_type": "stream",
     "text": [
      "\n",
      "      Epoch    GPU_mem   box_loss   cls_loss   dfl_loss  Instances       Size\n"
     ]
    },
    {
     "name": "stderr",
     "output_type": "stream",
     "text": [
      "   231/1000      6.71G     0.1587     0.1175     0.7621        212        736: 100%|██████████| 42/42 [00:08<00:00,  5.07it/s]\n"
     ]
    },
    {
     "name": "stdout",
     "output_type": "stream",
     "text": [
      "\n",
      "      Epoch    GPU_mem   box_loss   cls_loss   dfl_loss  Instances       Size\n"
     ]
    },
    {
     "name": "stderr",
     "output_type": "stream",
     "text": [
      "   232/1000      6.77G     0.1728     0.1277     0.7607        257        736: 100%|██████████| 42/42 [00:08<00:00,  5.09it/s]\n"
     ]
    },
    {
     "name": "stdout",
     "output_type": "stream",
     "text": [
      "\n",
      "      Epoch    GPU_mem   box_loss   cls_loss   dfl_loss  Instances       Size\n"
     ]
    },
    {
     "name": "stderr",
     "output_type": "stream",
     "text": [
      "   233/1000      6.77G     0.1638     0.1222     0.7623        214        736: 100%|██████████| 42/42 [00:08<00:00,  5.08it/s]\n"
     ]
    },
    {
     "name": "stdout",
     "output_type": "stream",
     "text": [
      "\n",
      "      Epoch    GPU_mem   box_loss   cls_loss   dfl_loss  Instances       Size\n"
     ]
    },
    {
     "name": "stderr",
     "output_type": "stream",
     "text": [
      "   234/1000      6.69G     0.1638     0.1211     0.7614        248        736: 100%|██████████| 42/42 [00:08<00:00,  5.06it/s]\n"
     ]
    },
    {
     "name": "stdout",
     "output_type": "stream",
     "text": [
      "\n",
      "      Epoch    GPU_mem   box_loss   cls_loss   dfl_loss  Instances       Size\n"
     ]
    },
    {
     "name": "stderr",
     "output_type": "stream",
     "text": [
      "   235/1000      6.74G     0.1645       0.12     0.7625        385        736: 100%|██████████| 42/42 [00:08<00:00,  5.08it/s]\n"
     ]
    },
    {
     "name": "stdout",
     "output_type": "stream",
     "text": [
      "\n",
      "      Epoch    GPU_mem   box_loss   cls_loss   dfl_loss  Instances       Size\n"
     ]
    },
    {
     "name": "stderr",
     "output_type": "stream",
     "text": [
      "   236/1000      6.65G     0.1782      0.126     0.7647        294        736: 100%|██████████| 42/42 [00:08<00:00,  5.08it/s]\n"
     ]
    },
    {
     "name": "stdout",
     "output_type": "stream",
     "text": [
      "\n",
      "      Epoch    GPU_mem   box_loss   cls_loss   dfl_loss  Instances       Size\n"
     ]
    },
    {
     "name": "stderr",
     "output_type": "stream",
     "text": [
      "   237/1000      6.72G     0.1848     0.1324     0.7625        279        736: 100%|██████████| 42/42 [00:08<00:00,  5.09it/s]\n"
     ]
    },
    {
     "name": "stdout",
     "output_type": "stream",
     "text": [
      "\n",
      "      Epoch    GPU_mem   box_loss   cls_loss   dfl_loss  Instances       Size\n"
     ]
    },
    {
     "name": "stderr",
     "output_type": "stream",
     "text": [
      "   238/1000      6.65G      0.179     0.1289     0.7627        341        736: 100%|██████████| 42/42 [00:08<00:00,  5.03it/s]\n"
     ]
    },
    {
     "name": "stdout",
     "output_type": "stream",
     "text": [
      "\n",
      "      Epoch    GPU_mem   box_loss   cls_loss   dfl_loss  Instances       Size\n"
     ]
    },
    {
     "name": "stderr",
     "output_type": "stream",
     "text": [
      "   239/1000      6.57G     0.1753     0.1258     0.7645        405        736: 100%|██████████| 42/42 [00:08<00:00,  5.07it/s]\n"
     ]
    },
    {
     "name": "stdout",
     "output_type": "stream",
     "text": [
      "\n",
      "      Epoch    GPU_mem   box_loss   cls_loss   dfl_loss  Instances       Size\n"
     ]
    },
    {
     "name": "stderr",
     "output_type": "stream",
     "text": [
      "   240/1000      6.71G     0.1805     0.1324     0.7638        344        736: 100%|██████████| 42/42 [00:08<00:00,  5.06it/s]\n"
     ]
    },
    {
     "name": "stdout",
     "output_type": "stream",
     "text": [
      "\n",
      "      Epoch    GPU_mem   box_loss   cls_loss   dfl_loss  Instances       Size\n"
     ]
    },
    {
     "name": "stderr",
     "output_type": "stream",
     "text": [
      "   241/1000      6.72G     0.1741     0.1253     0.7634        341        736: 100%|██████████| 42/42 [00:08<00:00,  5.07it/s]\n"
     ]
    },
    {
     "name": "stdout",
     "output_type": "stream",
     "text": [
      "\n",
      "      Epoch    GPU_mem   box_loss   cls_loss   dfl_loss  Instances       Size\n"
     ]
    },
    {
     "name": "stderr",
     "output_type": "stream",
     "text": [
      "   242/1000      6.77G     0.1718     0.1253     0.7623        280        736: 100%|██████████| 42/42 [00:08<00:00,  5.09it/s]\n"
     ]
    },
    {
     "name": "stdout",
     "output_type": "stream",
     "text": [
      "\n",
      "      Epoch    GPU_mem   box_loss   cls_loss   dfl_loss  Instances       Size\n"
     ]
    },
    {
     "name": "stderr",
     "output_type": "stream",
     "text": [
      "   243/1000       6.6G     0.1746     0.1271     0.7639        245        736: 100%|██████████| 42/42 [00:08<00:00,  5.05it/s]\n"
     ]
    },
    {
     "name": "stdout",
     "output_type": "stream",
     "text": [
      "\n",
      "      Epoch    GPU_mem   box_loss   cls_loss   dfl_loss  Instances       Size\n"
     ]
    },
    {
     "name": "stderr",
     "output_type": "stream",
     "text": [
      "   244/1000      6.63G     0.1702      0.124     0.7628        326        736: 100%|██████████| 42/42 [00:08<00:00,  5.07it/s]\n"
     ]
    },
    {
     "name": "stdout",
     "output_type": "stream",
     "text": [
      "\n",
      "      Epoch    GPU_mem   box_loss   cls_loss   dfl_loss  Instances       Size\n"
     ]
    },
    {
     "name": "stderr",
     "output_type": "stream",
     "text": [
      "   245/1000      6.52G     0.1702      0.125     0.7635        206        736: 100%|██████████| 42/42 [00:08<00:00,  5.03it/s]\n"
     ]
    },
    {
     "name": "stdout",
     "output_type": "stream",
     "text": [
      "\n",
      "      Epoch    GPU_mem   box_loss   cls_loss   dfl_loss  Instances       Size\n"
     ]
    },
    {
     "name": "stderr",
     "output_type": "stream",
     "text": [
      "   246/1000      6.72G     0.1682     0.1231     0.7634        286        736: 100%|██████████| 42/42 [00:08<00:00,  5.04it/s]\n"
     ]
    },
    {
     "name": "stdout",
     "output_type": "stream",
     "text": [
      "\n",
      "      Epoch    GPU_mem   box_loss   cls_loss   dfl_loss  Instances       Size\n"
     ]
    },
    {
     "name": "stderr",
     "output_type": "stream",
     "text": [
      "   247/1000      6.49G     0.1752     0.1268     0.7625        209        736: 100%|██████████| 42/42 [00:08<00:00,  5.07it/s]\n"
     ]
    },
    {
     "name": "stdout",
     "output_type": "stream",
     "text": [
      "\n",
      "      Epoch    GPU_mem   box_loss   cls_loss   dfl_loss  Instances       Size\n"
     ]
    },
    {
     "name": "stderr",
     "output_type": "stream",
     "text": [
      "   248/1000      6.74G     0.1738     0.1252      0.762        412        736: 100%|██████████| 42/42 [00:08<00:00,  5.08it/s]\n"
     ]
    },
    {
     "name": "stdout",
     "output_type": "stream",
     "text": [
      "\n",
      "      Epoch    GPU_mem   box_loss   cls_loss   dfl_loss  Instances       Size\n"
     ]
    },
    {
     "name": "stderr",
     "output_type": "stream",
     "text": [
      "   249/1000      6.78G     0.1716     0.1265     0.7631        275        736: 100%|██████████| 42/42 [00:08<00:00,  5.07it/s]\n"
     ]
    },
    {
     "name": "stdout",
     "output_type": "stream",
     "text": [
      "\n",
      "      Epoch    GPU_mem   box_loss   cls_loss   dfl_loss  Instances       Size\n"
     ]
    },
    {
     "name": "stderr",
     "output_type": "stream",
     "text": [
      "   250/1000      6.71G     0.1898     0.1328     0.7635        297        736: 100%|██████████| 42/42 [00:08<00:00,  5.07it/s]\n"
     ]
    },
    {
     "name": "stdout",
     "output_type": "stream",
     "text": [
      "\n",
      "      Epoch    GPU_mem   box_loss   cls_loss   dfl_loss  Instances       Size\n"
     ]
    },
    {
     "name": "stderr",
     "output_type": "stream",
     "text": [
      "   251/1000      6.66G     0.1894     0.1363     0.7639        286        736: 100%|██████████| 42/42 [00:08<00:00,  5.06it/s]\n"
     ]
    },
    {
     "name": "stdout",
     "output_type": "stream",
     "text": [
      "\n",
      "      Epoch    GPU_mem   box_loss   cls_loss   dfl_loss  Instances       Size\n"
     ]
    },
    {
     "name": "stderr",
     "output_type": "stream",
     "text": [
      "   252/1000      6.46G     0.1817     0.1297     0.7622        418        736: 100%|██████████| 42/42 [00:08<00:00,  5.06it/s]\n"
     ]
    },
    {
     "name": "stdout",
     "output_type": "stream",
     "text": [
      "\n",
      "      Epoch    GPU_mem   box_loss   cls_loss   dfl_loss  Instances       Size\n"
     ]
    },
    {
     "name": "stderr",
     "output_type": "stream",
     "text": [
      "   253/1000      6.78G     0.1882     0.1343     0.7651        285        736: 100%|██████████| 42/42 [00:08<00:00,  5.08it/s]\n"
     ]
    },
    {
     "name": "stdout",
     "output_type": "stream",
     "text": [
      "\n",
      "      Epoch    GPU_mem   box_loss   cls_loss   dfl_loss  Instances       Size\n"
     ]
    },
    {
     "name": "stderr",
     "output_type": "stream",
     "text": [
      "   254/1000      6.62G     0.1924     0.1394      0.764        346        736: 100%|██████████| 42/42 [00:08<00:00,  5.08it/s]\n"
     ]
    },
    {
     "name": "stdout",
     "output_type": "stream",
     "text": [
      "\n",
      "      Epoch    GPU_mem   box_loss   cls_loss   dfl_loss  Instances       Size\n"
     ]
    },
    {
     "name": "stderr",
     "output_type": "stream",
     "text": [
      "   255/1000      6.66G     0.1735     0.1263     0.7622        218        736: 100%|██████████| 42/42 [00:08<00:00,  5.06it/s]\n"
     ]
    },
    {
     "name": "stdout",
     "output_type": "stream",
     "text": [
      "\n",
      "      Epoch    GPU_mem   box_loss   cls_loss   dfl_loss  Instances       Size\n"
     ]
    },
    {
     "name": "stderr",
     "output_type": "stream",
     "text": [
      "   256/1000       6.6G     0.1636     0.1201     0.7603        356        736: 100%|██████████| 42/42 [00:08<00:00,  5.07it/s]\n"
     ]
    },
    {
     "name": "stdout",
     "output_type": "stream",
     "text": [
      "\n",
      "      Epoch    GPU_mem   box_loss   cls_loss   dfl_loss  Instances       Size\n"
     ]
    },
    {
     "name": "stderr",
     "output_type": "stream",
     "text": [
      "   257/1000      6.53G     0.1673     0.1213     0.7616        284        736: 100%|██████████| 42/42 [00:08<00:00,  5.09it/s]\n"
     ]
    },
    {
     "name": "stdout",
     "output_type": "stream",
     "text": [
      "\n",
      "      Epoch    GPU_mem   box_loss   cls_loss   dfl_loss  Instances       Size\n"
     ]
    },
    {
     "name": "stderr",
     "output_type": "stream",
     "text": [
      "   258/1000      6.55G     0.1606     0.1184     0.7614        225        736: 100%|██████████| 42/42 [00:08<00:00,  5.09it/s]\n"
     ]
    },
    {
     "name": "stdout",
     "output_type": "stream",
     "text": [
      "\n",
      "      Epoch    GPU_mem   box_loss   cls_loss   dfl_loss  Instances       Size\n"
     ]
    },
    {
     "name": "stderr",
     "output_type": "stream",
     "text": [
      "   259/1000      6.47G     0.1688     0.1255     0.7612        280        736: 100%|██████████| 42/42 [00:08<00:00,  5.07it/s]\n"
     ]
    },
    {
     "name": "stdout",
     "output_type": "stream",
     "text": [
      "\n",
      "      Epoch    GPU_mem   box_loss   cls_loss   dfl_loss  Instances       Size\n"
     ]
    },
    {
     "name": "stderr",
     "output_type": "stream",
     "text": [
      "   260/1000      6.49G      0.166     0.1246     0.7629        262        736: 100%|██████████| 42/42 [00:08<00:00,  5.07it/s]\n"
     ]
    },
    {
     "name": "stdout",
     "output_type": "stream",
     "text": [
      "\n",
      "      Epoch    GPU_mem   box_loss   cls_loss   dfl_loss  Instances       Size\n"
     ]
    },
    {
     "name": "stderr",
     "output_type": "stream",
     "text": [
      "   261/1000      6.49G     0.1613     0.1203     0.7627        329        736: 100%|██████████| 42/42 [00:08<00:00,  5.08it/s]\n"
     ]
    },
    {
     "name": "stdout",
     "output_type": "stream",
     "text": [
      "\n",
      "      Epoch    GPU_mem   box_loss   cls_loss   dfl_loss  Instances       Size\n"
     ]
    },
    {
     "name": "stderr",
     "output_type": "stream",
     "text": [
      "   262/1000      6.77G     0.1584     0.1178      0.761        267        736: 100%|██████████| 42/42 [00:08<00:00,  5.03it/s]\n"
     ]
    },
    {
     "name": "stdout",
     "output_type": "stream",
     "text": [
      "\n",
      "      Epoch    GPU_mem   box_loss   cls_loss   dfl_loss  Instances       Size\n"
     ]
    },
    {
     "name": "stderr",
     "output_type": "stream",
     "text": [
      "   263/1000      6.77G     0.1615     0.1216      0.762        273        736: 100%|██████████| 42/42 [00:08<00:00,  5.08it/s]\n"
     ]
    },
    {
     "name": "stdout",
     "output_type": "stream",
     "text": [
      "\n",
      "      Epoch    GPU_mem   box_loss   cls_loss   dfl_loss  Instances       Size\n"
     ]
    },
    {
     "name": "stderr",
     "output_type": "stream",
     "text": [
      "   264/1000       6.6G     0.1638     0.1214      0.762        349        736: 100%|██████████| 42/42 [00:08<00:00,  5.05it/s]\n"
     ]
    },
    {
     "name": "stdout",
     "output_type": "stream",
     "text": [
      "\n",
      "      Epoch    GPU_mem   box_loss   cls_loss   dfl_loss  Instances       Size\n"
     ]
    },
    {
     "name": "stderr",
     "output_type": "stream",
     "text": [
      "   265/1000      6.46G     0.1684      0.124     0.7619        293        736: 100%|██████████| 42/42 [00:08<00:00,  5.07it/s]\n"
     ]
    },
    {
     "name": "stdout",
     "output_type": "stream",
     "text": [
      "\n",
      "      Epoch    GPU_mem   box_loss   cls_loss   dfl_loss  Instances       Size\n"
     ]
    },
    {
     "name": "stderr",
     "output_type": "stream",
     "text": [
      "   266/1000      6.52G     0.1755     0.1308     0.7647        269        736: 100%|██████████| 42/42 [00:08<00:00,  5.06it/s]\n"
     ]
    },
    {
     "name": "stdout",
     "output_type": "stream",
     "text": [
      "\n",
      "      Epoch    GPU_mem   box_loss   cls_loss   dfl_loss  Instances       Size\n"
     ]
    },
    {
     "name": "stderr",
     "output_type": "stream",
     "text": [
      "   267/1000      6.77G     0.1725     0.1268     0.7614        285        736: 100%|██████████| 42/42 [00:08<00:00,  5.08it/s]\n"
     ]
    },
    {
     "name": "stdout",
     "output_type": "stream",
     "text": [
      "\n",
      "      Epoch    GPU_mem   box_loss   cls_loss   dfl_loss  Instances       Size\n"
     ]
    },
    {
     "name": "stderr",
     "output_type": "stream",
     "text": [
      "   268/1000      6.65G     0.1605     0.1173     0.7615        319        736: 100%|██████████| 42/42 [00:08<00:00,  5.08it/s]\n"
     ]
    },
    {
     "name": "stdout",
     "output_type": "stream",
     "text": [
      "\n",
      "      Epoch    GPU_mem   box_loss   cls_loss   dfl_loss  Instances       Size\n"
     ]
    },
    {
     "name": "stderr",
     "output_type": "stream",
     "text": [
      "   269/1000      6.72G      0.157     0.1146     0.7625        284        736: 100%|██████████| 42/42 [00:08<00:00,  5.04it/s]\n"
     ]
    },
    {
     "name": "stdout",
     "output_type": "stream",
     "text": [
      "\n",
      "      Epoch    GPU_mem   box_loss   cls_loss   dfl_loss  Instances       Size\n"
     ]
    },
    {
     "name": "stderr",
     "output_type": "stream",
     "text": [
      "   270/1000      6.52G     0.1606      0.118     0.7612        275        736: 100%|██████████| 42/42 [00:08<00:00,  5.07it/s]\n"
     ]
    },
    {
     "name": "stdout",
     "output_type": "stream",
     "text": [
      "\n",
      "      Epoch    GPU_mem   box_loss   cls_loss   dfl_loss  Instances       Size\n"
     ]
    },
    {
     "name": "stderr",
     "output_type": "stream",
     "text": [
      "   271/1000      6.72G     0.1596     0.1169     0.7609        284        736: 100%|██████████| 42/42 [00:08<00:00,  5.07it/s]\n"
     ]
    },
    {
     "name": "stdout",
     "output_type": "stream",
     "text": [
      "\n",
      "      Epoch    GPU_mem   box_loss   cls_loss   dfl_loss  Instances       Size\n"
     ]
    },
    {
     "name": "stderr",
     "output_type": "stream",
     "text": [
      "   272/1000       6.6G     0.1619     0.1176     0.7624        225        736: 100%|██████████| 42/42 [00:08<00:00,  5.04it/s]\n"
     ]
    },
    {
     "name": "stdout",
     "output_type": "stream",
     "text": [
      "\n",
      "      Epoch    GPU_mem   box_loss   cls_loss   dfl_loss  Instances       Size\n"
     ]
    },
    {
     "name": "stderr",
     "output_type": "stream",
     "text": [
      "   273/1000       6.6G     0.1673     0.1213     0.7599        285        736: 100%|██████████| 42/42 [00:08<00:00,  5.05it/s]\n"
     ]
    },
    {
     "name": "stdout",
     "output_type": "stream",
     "text": [
      "\n",
      "      Epoch    GPU_mem   box_loss   cls_loss   dfl_loss  Instances       Size\n"
     ]
    },
    {
     "name": "stderr",
     "output_type": "stream",
     "text": [
      "   274/1000      6.62G     0.1685     0.1244     0.7642        416        736: 100%|██████████| 42/42 [00:08<00:00,  5.06it/s]\n"
     ]
    },
    {
     "name": "stdout",
     "output_type": "stream",
     "text": [
      "\n",
      "      Epoch    GPU_mem   box_loss   cls_loss   dfl_loss  Instances       Size\n"
     ]
    },
    {
     "name": "stderr",
     "output_type": "stream",
     "text": [
      "   275/1000       6.7G     0.1767     0.1316     0.7619        251        736: 100%|██████████| 42/42 [00:08<00:00,  5.09it/s]\n"
     ]
    },
    {
     "name": "stdout",
     "output_type": "stream",
     "text": [
      "\n",
      "      Epoch    GPU_mem   box_loss   cls_loss   dfl_loss  Instances       Size\n"
     ]
    },
    {
     "name": "stderr",
     "output_type": "stream",
     "text": [
      "   276/1000      6.71G     0.1872     0.1399      0.764        223        736: 100%|██████████| 42/42 [00:08<00:00,  5.09it/s]\n"
     ]
    },
    {
     "name": "stdout",
     "output_type": "stream",
     "text": [
      "\n",
      "      Epoch    GPU_mem   box_loss   cls_loss   dfl_loss  Instances       Size\n"
     ]
    },
    {
     "name": "stderr",
     "output_type": "stream",
     "text": [
      "   277/1000      6.77G     0.1819     0.1335     0.7628        288        736: 100%|██████████| 42/42 [00:08<00:00,  5.05it/s]\n"
     ]
    },
    {
     "name": "stdout",
     "output_type": "stream",
     "text": [
      "\n",
      "      Epoch    GPU_mem   box_loss   cls_loss   dfl_loss  Instances       Size\n"
     ]
    },
    {
     "name": "stderr",
     "output_type": "stream",
     "text": [
      "   278/1000      6.52G     0.1863     0.1391     0.7624        284        736: 100%|██████████| 42/42 [00:08<00:00,  5.04it/s]\n"
     ]
    },
    {
     "name": "stdout",
     "output_type": "stream",
     "text": [
      "\n",
      "      Epoch    GPU_mem   box_loss   cls_loss   dfl_loss  Instances       Size\n"
     ]
    },
    {
     "name": "stderr",
     "output_type": "stream",
     "text": [
      "   279/1000      6.53G     0.1892     0.1377     0.7619        294        736: 100%|██████████| 42/42 [00:08<00:00,  5.08it/s]\n"
     ]
    },
    {
     "name": "stdout",
     "output_type": "stream",
     "text": [
      "\n",
      "      Epoch    GPU_mem   box_loss   cls_loss   dfl_loss  Instances       Size\n"
     ]
    },
    {
     "name": "stderr",
     "output_type": "stream",
     "text": [
      "   280/1000      6.63G     0.1944     0.1379     0.7627        300        736: 100%|██████████| 42/42 [00:08<00:00,  5.07it/s]\n"
     ]
    },
    {
     "name": "stdout",
     "output_type": "stream",
     "text": [
      "\n",
      "      Epoch    GPU_mem   box_loss   cls_loss   dfl_loss  Instances       Size\n"
     ]
    },
    {
     "name": "stderr",
     "output_type": "stream",
     "text": [
      "   281/1000      6.48G     0.1896     0.1354     0.7637        356        736: 100%|██████████| 42/42 [00:08<00:00,  5.09it/s]\n"
     ]
    },
    {
     "name": "stdout",
     "output_type": "stream",
     "text": [
      "\n",
      "      Epoch    GPU_mem   box_loss   cls_loss   dfl_loss  Instances       Size\n"
     ]
    },
    {
     "name": "stderr",
     "output_type": "stream",
     "text": [
      "   282/1000      6.65G     0.1695     0.1236     0.7607        360        736: 100%|██████████| 42/42 [00:08<00:00,  5.04it/s]\n"
     ]
    },
    {
     "name": "stdout",
     "output_type": "stream",
     "text": [
      "\n",
      "      Epoch    GPU_mem   box_loss   cls_loss   dfl_loss  Instances       Size\n"
     ]
    },
    {
     "name": "stderr",
     "output_type": "stream",
     "text": [
      "   283/1000      6.66G     0.1603      0.119     0.7642        240        736: 100%|██████████| 42/42 [00:08<00:00,  5.08it/s]\n"
     ]
    },
    {
     "name": "stdout",
     "output_type": "stream",
     "text": [
      "\n",
      "      Epoch    GPU_mem   box_loss   cls_loss   dfl_loss  Instances       Size\n"
     ]
    },
    {
     "name": "stderr",
     "output_type": "stream",
     "text": [
      "   284/1000      6.49G     0.1572     0.1152     0.7627        239        736: 100%|██████████| 42/42 [00:08<00:00,  5.07it/s]\n"
     ]
    },
    {
     "name": "stdout",
     "output_type": "stream",
     "text": [
      "\n",
      "      Epoch    GPU_mem   box_loss   cls_loss   dfl_loss  Instances       Size\n"
     ]
    },
    {
     "name": "stderr",
     "output_type": "stream",
     "text": [
      "   285/1000      6.69G     0.1542     0.1141     0.7626        217        736: 100%|██████████| 42/42 [00:08<00:00,  5.07it/s]\n"
     ]
    },
    {
     "name": "stdout",
     "output_type": "stream",
     "text": [
      "\n",
      "      Epoch    GPU_mem   box_loss   cls_loss   dfl_loss  Instances       Size\n"
     ]
    },
    {
     "name": "stderr",
     "output_type": "stream",
     "text": [
      "   286/1000      6.74G      0.159     0.1168     0.7628        299        736: 100%|██████████| 42/42 [00:08<00:00,  5.07it/s]\n"
     ]
    },
    {
     "name": "stdout",
     "output_type": "stream",
     "text": [
      "\n",
      "      Epoch    GPU_mem   box_loss   cls_loss   dfl_loss  Instances       Size\n"
     ]
    },
    {
     "name": "stderr",
     "output_type": "stream",
     "text": [
      "   287/1000      6.79G     0.1643     0.1195      0.763        284        736: 100%|██████████| 42/42 [00:08<00:00,  5.04it/s]\n"
     ]
    },
    {
     "name": "stdout",
     "output_type": "stream",
     "text": [
      "\n",
      "      Epoch    GPU_mem   box_loss   cls_loss   dfl_loss  Instances       Size\n"
     ]
    },
    {
     "name": "stderr",
     "output_type": "stream",
     "text": [
      "   288/1000       6.7G     0.1699     0.1197     0.7626        228        736: 100%|██████████| 42/42 [00:08<00:00,  5.09it/s]\n"
     ]
    },
    {
     "name": "stdout",
     "output_type": "stream",
     "text": [
      "\n",
      "      Epoch    GPU_mem   box_loss   cls_loss   dfl_loss  Instances       Size\n"
     ]
    },
    {
     "name": "stderr",
     "output_type": "stream",
     "text": [
      "   289/1000      6.78G     0.1622     0.1166     0.7623        303        736: 100%|██████████| 42/42 [00:08<00:00,  5.09it/s]\n"
     ]
    },
    {
     "name": "stdout",
     "output_type": "stream",
     "text": [
      "\n",
      "      Epoch    GPU_mem   box_loss   cls_loss   dfl_loss  Instances       Size\n"
     ]
    },
    {
     "name": "stderr",
     "output_type": "stream",
     "text": [
      "   290/1000       6.7G     0.1724     0.1218     0.7625        223        736: 100%|██████████| 42/42 [00:08<00:00,  5.07it/s]\n"
     ]
    },
    {
     "name": "stdout",
     "output_type": "stream",
     "text": [
      "\n",
      "      Epoch    GPU_mem   box_loss   cls_loss   dfl_loss  Instances       Size\n"
     ]
    },
    {
     "name": "stderr",
     "output_type": "stream",
     "text": [
      "   291/1000      6.52G     0.1822     0.1244     0.7612        211        736: 100%|██████████| 42/42 [00:08<00:00,  5.05it/s]\n"
     ]
    },
    {
     "name": "stdout",
     "output_type": "stream",
     "text": [
      "\n",
      "      Epoch    GPU_mem   box_loss   cls_loss   dfl_loss  Instances       Size\n"
     ]
    },
    {
     "name": "stderr",
     "output_type": "stream",
     "text": [
      "   292/1000      6.79G     0.2036     0.1355     0.7622        305        736: 100%|██████████| 42/42 [00:08<00:00,  5.09it/s]\n"
     ]
    },
    {
     "name": "stdout",
     "output_type": "stream",
     "text": [
      "\n",
      "      Epoch    GPU_mem   box_loss   cls_loss   dfl_loss  Instances       Size\n"
     ]
    },
    {
     "name": "stderr",
     "output_type": "stream",
     "text": [
      "   293/1000      6.75G     0.1894     0.1302     0.7629        218        736: 100%|██████████| 42/42 [00:08<00:00,  5.03it/s]\n"
     ]
    },
    {
     "name": "stdout",
     "output_type": "stream",
     "text": [
      "\n",
      "      Epoch    GPU_mem   box_loss   cls_loss   dfl_loss  Instances       Size\n"
     ]
    },
    {
     "name": "stderr",
     "output_type": "stream",
     "text": [
      "   294/1000      6.73G     0.1822     0.1307     0.7648        226        736: 100%|██████████| 42/42 [00:08<00:00,  5.09it/s]\n"
     ]
    },
    {
     "name": "stdout",
     "output_type": "stream",
     "text": [
      "\n",
      "      Epoch    GPU_mem   box_loss   cls_loss   dfl_loss  Instances       Size\n"
     ]
    },
    {
     "name": "stderr",
     "output_type": "stream",
     "text": [
      "   295/1000      6.77G     0.1705     0.1215     0.7625        244        736: 100%|██████████| 42/42 [00:08<00:00,  5.05it/s]\n"
     ]
    },
    {
     "name": "stdout",
     "output_type": "stream",
     "text": [
      "\n",
      "      Epoch    GPU_mem   box_loss   cls_loss   dfl_loss  Instances       Size\n"
     ]
    },
    {
     "name": "stderr",
     "output_type": "stream",
     "text": [
      "   296/1000      6.72G     0.1882     0.1281      0.761        226        736: 100%|██████████| 42/42 [00:08<00:00,  5.08it/s]\n"
     ]
    },
    {
     "name": "stdout",
     "output_type": "stream",
     "text": [
      "\n",
      "      Epoch    GPU_mem   box_loss   cls_loss   dfl_loss  Instances       Size\n"
     ]
    },
    {
     "name": "stderr",
     "output_type": "stream",
     "text": [
      "   297/1000      6.53G     0.1809     0.1272     0.7612        244        736: 100%|██████████| 42/42 [00:08<00:00,  5.09it/s]\n"
     ]
    },
    {
     "name": "stdout",
     "output_type": "stream",
     "text": [
      "\n",
      "      Epoch    GPU_mem   box_loss   cls_loss   dfl_loss  Instances       Size\n"
     ]
    },
    {
     "name": "stderr",
     "output_type": "stream",
     "text": [
      "   298/1000      6.75G     0.1695     0.1193     0.7609        212        736: 100%|██████████| 42/42 [00:08<00:00,  5.07it/s]\n"
     ]
    },
    {
     "name": "stdout",
     "output_type": "stream",
     "text": [
      "\n",
      "      Epoch    GPU_mem   box_loss   cls_loss   dfl_loss  Instances       Size\n"
     ]
    },
    {
     "name": "stderr",
     "output_type": "stream",
     "text": [
      "   299/1000      6.69G     0.1606     0.1174     0.7643        231        736: 100%|██████████| 42/42 [00:08<00:00,  5.06it/s]\n"
     ]
    },
    {
     "name": "stdout",
     "output_type": "stream",
     "text": [
      "\n",
      "      Epoch    GPU_mem   box_loss   cls_loss   dfl_loss  Instances       Size\n"
     ]
    },
    {
     "name": "stderr",
     "output_type": "stream",
     "text": [
      "   300/1000      6.79G     0.1627     0.1173     0.7614        317        736: 100%|██████████| 42/42 [00:08<00:00,  5.07it/s]\n"
     ]
    },
    {
     "name": "stdout",
     "output_type": "stream",
     "text": [
      "\n",
      "      Epoch    GPU_mem   box_loss   cls_loss   dfl_loss  Instances       Size\n"
     ]
    },
    {
     "name": "stderr",
     "output_type": "stream",
     "text": [
      "   301/1000      6.52G     0.1621      0.116     0.7622        330        736: 100%|██████████| 42/42 [00:08<00:00,  5.06it/s]\n"
     ]
    },
    {
     "name": "stdout",
     "output_type": "stream",
     "text": [
      "\n",
      "      Epoch    GPU_mem   box_loss   cls_loss   dfl_loss  Instances       Size\n"
     ]
    },
    {
     "name": "stderr",
     "output_type": "stream",
     "text": [
      "   302/1000      6.78G     0.1605     0.1168     0.7615        278        736: 100%|██████████| 42/42 [00:08<00:00,  5.07it/s]\n"
     ]
    },
    {
     "name": "stdout",
     "output_type": "stream",
     "text": [
      "\n",
      "      Epoch    GPU_mem   box_loss   cls_loss   dfl_loss  Instances       Size\n"
     ]
    },
    {
     "name": "stderr",
     "output_type": "stream",
     "text": [
      "   303/1000       6.7G     0.1628     0.1151     0.7631        282        736: 100%|██████████| 42/42 [00:08<00:00,  5.04it/s]\n"
     ]
    },
    {
     "name": "stdout",
     "output_type": "stream",
     "text": [
      "\n",
      "      Epoch    GPU_mem   box_loss   cls_loss   dfl_loss  Instances       Size\n"
     ]
    },
    {
     "name": "stderr",
     "output_type": "stream",
     "text": [
      "   304/1000      6.46G     0.1664     0.1189     0.7618        319        736: 100%|██████████| 42/42 [00:08<00:00,  5.09it/s]\n"
     ]
    },
    {
     "name": "stdout",
     "output_type": "stream",
     "text": [
      "\n",
      "      Epoch    GPU_mem   box_loss   cls_loss   dfl_loss  Instances       Size\n"
     ]
    },
    {
     "name": "stderr",
     "output_type": "stream",
     "text": [
      "   305/1000      6.53G     0.1575     0.1146     0.7635        224        736: 100%|██████████| 42/42 [00:08<00:00,  5.04it/s]\n"
     ]
    },
    {
     "name": "stdout",
     "output_type": "stream",
     "text": [
      "\n",
      "      Epoch    GPU_mem   box_loss   cls_loss   dfl_loss  Instances       Size\n"
     ]
    },
    {
     "name": "stderr",
     "output_type": "stream",
     "text": [
      "   306/1000      6.61G     0.1668      0.118     0.7638        228        736: 100%|██████████| 42/42 [00:08<00:00,  5.06it/s]\n"
     ]
    },
    {
     "name": "stdout",
     "output_type": "stream",
     "text": [
      "\n",
      "      Epoch    GPU_mem   box_loss   cls_loss   dfl_loss  Instances       Size\n"
     ]
    },
    {
     "name": "stderr",
     "output_type": "stream",
     "text": [
      "   307/1000      6.69G     0.1815     0.1222     0.7629        278        736: 100%|██████████| 42/42 [00:08<00:00,  5.08it/s]\n"
     ]
    },
    {
     "name": "stdout",
     "output_type": "stream",
     "text": [
      "\n",
      "      Epoch    GPU_mem   box_loss   cls_loss   dfl_loss  Instances       Size\n"
     ]
    },
    {
     "name": "stderr",
     "output_type": "stream",
     "text": [
      "   308/1000      6.71G     0.1771     0.1219     0.7624        327        736: 100%|██████████| 42/42 [00:08<00:00,  5.07it/s]\n"
     ]
    },
    {
     "name": "stdout",
     "output_type": "stream",
     "text": [
      "\n",
      "      Epoch    GPU_mem   box_loss   cls_loss   dfl_loss  Instances       Size\n"
     ]
    },
    {
     "name": "stderr",
     "output_type": "stream",
     "text": [
      "   309/1000      6.71G     0.1653     0.1164     0.7613        350        736: 100%|██████████| 42/42 [00:08<00:00,  5.01it/s]\n"
     ]
    },
    {
     "name": "stdout",
     "output_type": "stream",
     "text": [
      "\n",
      "      Epoch    GPU_mem   box_loss   cls_loss   dfl_loss  Instances       Size\n"
     ]
    },
    {
     "name": "stderr",
     "output_type": "stream",
     "text": [
      "   310/1000       6.7G     0.1576       0.11     0.7615        220        736: 100%|██████████| 42/42 [00:08<00:00,  5.08it/s]\n"
     ]
    },
    {
     "name": "stdout",
     "output_type": "stream",
     "text": [
      "\n",
      "      Epoch    GPU_mem   box_loss   cls_loss   dfl_loss  Instances       Size\n"
     ]
    },
    {
     "name": "stderr",
     "output_type": "stream",
     "text": [
      "   311/1000      6.65G     0.1548     0.1097     0.7605        219        736: 100%|██████████| 42/42 [00:08<00:00,  5.10it/s]\n"
     ]
    },
    {
     "name": "stdout",
     "output_type": "stream",
     "text": [
      "\n",
      "      Epoch    GPU_mem   box_loss   cls_loss   dfl_loss  Instances       Size\n"
     ]
    },
    {
     "name": "stderr",
     "output_type": "stream",
     "text": [
      "   312/1000      6.75G     0.1578     0.1129     0.7618        310        736: 100%|██████████| 42/42 [00:08<00:00,  5.09it/s]\n"
     ]
    },
    {
     "name": "stdout",
     "output_type": "stream",
     "text": [
      "\n",
      "      Epoch    GPU_mem   box_loss   cls_loss   dfl_loss  Instances       Size\n"
     ]
    },
    {
     "name": "stderr",
     "output_type": "stream",
     "text": [
      "   313/1000      6.73G     0.1515     0.1092     0.7601        337        736: 100%|██████████| 42/42 [00:08<00:00,  5.10it/s]\n"
     ]
    },
    {
     "name": "stdout",
     "output_type": "stream",
     "text": [
      "\n",
      "      Epoch    GPU_mem   box_loss   cls_loss   dfl_loss  Instances       Size\n"
     ]
    },
    {
     "name": "stderr",
     "output_type": "stream",
     "text": [
      "   314/1000      6.71G     0.1508     0.1086     0.7609        258        736: 100%|██████████| 42/42 [00:08<00:00,  5.11it/s]\n"
     ]
    },
    {
     "name": "stdout",
     "output_type": "stream",
     "text": [
      "\n",
      "      Epoch    GPU_mem   box_loss   cls_loss   dfl_loss  Instances       Size\n"
     ]
    },
    {
     "name": "stderr",
     "output_type": "stream",
     "text": [
      "   315/1000       6.7G     0.1573     0.1119     0.7611        316        736: 100%|██████████| 42/42 [00:08<00:00,  5.08it/s]\n"
     ]
    },
    {
     "name": "stdout",
     "output_type": "stream",
     "text": [
      "\n",
      "      Epoch    GPU_mem   box_loss   cls_loss   dfl_loss  Instances       Size\n"
     ]
    },
    {
     "name": "stderr",
     "output_type": "stream",
     "text": [
      "   316/1000      6.72G     0.1525      0.109     0.7615        355        736: 100%|██████████| 42/42 [00:08<00:00,  5.03it/s]\n"
     ]
    },
    {
     "name": "stdout",
     "output_type": "stream",
     "text": [
      "\n",
      "      Epoch    GPU_mem   box_loss   cls_loss   dfl_loss  Instances       Size\n"
     ]
    },
    {
     "name": "stderr",
     "output_type": "stream",
     "text": [
      "   317/1000      6.57G     0.1473     0.1061      0.761        306        736: 100%|██████████| 42/42 [00:08<00:00,  5.04it/s]\n"
     ]
    },
    {
     "name": "stdout",
     "output_type": "stream",
     "text": [
      "\n",
      "      Epoch    GPU_mem   box_loss   cls_loss   dfl_loss  Instances       Size\n"
     ]
    },
    {
     "name": "stderr",
     "output_type": "stream",
     "text": [
      "   318/1000      6.71G     0.1522     0.1081     0.7607        211        736: 100%|██████████| 42/42 [00:08<00:00,  5.11it/s]\n"
     ]
    },
    {
     "name": "stdout",
     "output_type": "stream",
     "text": [
      "\n",
      "      Epoch    GPU_mem   box_loss   cls_loss   dfl_loss  Instances       Size\n"
     ]
    },
    {
     "name": "stderr",
     "output_type": "stream",
     "text": [
      "   319/1000      6.61G     0.1465     0.1051     0.7602        431        736: 100%|██████████| 42/42 [00:08<00:00,  5.08it/s]\n"
     ]
    },
    {
     "name": "stdout",
     "output_type": "stream",
     "text": [
      "\n",
      "      Epoch    GPU_mem   box_loss   cls_loss   dfl_loss  Instances       Size\n"
     ]
    },
    {
     "name": "stderr",
     "output_type": "stream",
     "text": [
      "   320/1000      6.78G     0.1464     0.1045     0.7622        206        736: 100%|██████████| 42/42 [00:08<00:00,  5.09it/s]\n"
     ]
    },
    {
     "name": "stdout",
     "output_type": "stream",
     "text": [
      "\n",
      "      Epoch    GPU_mem   box_loss   cls_loss   dfl_loss  Instances       Size\n"
     ]
    },
    {
     "name": "stderr",
     "output_type": "stream",
     "text": [
      "   321/1000      6.78G     0.1482     0.1066     0.7606        268        736: 100%|██████████| 42/42 [00:08<00:00,  5.09it/s]\n"
     ]
    },
    {
     "name": "stdout",
     "output_type": "stream",
     "text": [
      "\n",
      "      Epoch    GPU_mem   box_loss   cls_loss   dfl_loss  Instances       Size\n"
     ]
    },
    {
     "name": "stderr",
     "output_type": "stream",
     "text": [
      "   322/1000      6.61G     0.1444     0.1036     0.7606        268        736: 100%|██████████| 42/42 [00:08<00:00,  5.10it/s]\n"
     ]
    },
    {
     "name": "stdout",
     "output_type": "stream",
     "text": [
      "\n",
      "      Epoch    GPU_mem   box_loss   cls_loss   dfl_loss  Instances       Size\n"
     ]
    },
    {
     "name": "stderr",
     "output_type": "stream",
     "text": [
      "   323/1000      6.72G       0.15     0.1064       0.76        288        736: 100%|██████████| 42/42 [00:08<00:00,  5.11it/s]\n"
     ]
    },
    {
     "name": "stdout",
     "output_type": "stream",
     "text": [
      "\n",
      "      Epoch    GPU_mem   box_loss   cls_loss   dfl_loss  Instances       Size\n"
     ]
    },
    {
     "name": "stderr",
     "output_type": "stream",
     "text": [
      "   324/1000      6.72G     0.1448     0.1041      0.762        354        736: 100%|██████████| 42/42 [00:08<00:00,  5.11it/s]\n"
     ]
    },
    {
     "name": "stdout",
     "output_type": "stream",
     "text": [
      "\n",
      "      Epoch    GPU_mem   box_loss   cls_loss   dfl_loss  Instances       Size\n"
     ]
    },
    {
     "name": "stderr",
     "output_type": "stream",
     "text": [
      "   325/1000      6.68G     0.1484     0.1066     0.7611        197        736: 100%|██████████| 42/42 [00:08<00:00,  5.09it/s]\n"
     ]
    },
    {
     "name": "stdout",
     "output_type": "stream",
     "text": [
      "\n",
      "      Epoch    GPU_mem   box_loss   cls_loss   dfl_loss  Instances       Size\n"
     ]
    },
    {
     "name": "stderr",
     "output_type": "stream",
     "text": [
      "   326/1000      6.53G     0.1435     0.1031     0.7607        355        736: 100%|██████████| 42/42 [00:08<00:00,  5.10it/s]\n"
     ]
    },
    {
     "name": "stdout",
     "output_type": "stream",
     "text": [
      "\n",
      "      Epoch    GPU_mem   box_loss   cls_loss   dfl_loss  Instances       Size\n"
     ]
    },
    {
     "name": "stderr",
     "output_type": "stream",
     "text": [
      "   327/1000      6.72G     0.1444     0.1029     0.7614        292        736: 100%|██████████| 42/42 [00:08<00:00,  5.06it/s]\n"
     ]
    },
    {
     "name": "stdout",
     "output_type": "stream",
     "text": [
      "\n",
      "      Epoch    GPU_mem   box_loss   cls_loss   dfl_loss  Instances       Size\n"
     ]
    },
    {
     "name": "stderr",
     "output_type": "stream",
     "text": [
      "   328/1000      6.71G     0.1493     0.1053     0.7608        405        736: 100%|██████████| 42/42 [00:08<00:00,  5.09it/s]\n"
     ]
    },
    {
     "name": "stdout",
     "output_type": "stream",
     "text": [
      "\n",
      "      Epoch    GPU_mem   box_loss   cls_loss   dfl_loss  Instances       Size\n"
     ]
    },
    {
     "name": "stderr",
     "output_type": "stream",
     "text": [
      "   329/1000      6.71G     0.1417     0.1022     0.7586        241        736: 100%|██████████| 42/42 [00:08<00:00,  5.10it/s]\n"
     ]
    },
    {
     "name": "stdout",
     "output_type": "stream",
     "text": [
      "\n",
      "      Epoch    GPU_mem   box_loss   cls_loss   dfl_loss  Instances       Size\n"
     ]
    },
    {
     "name": "stderr",
     "output_type": "stream",
     "text": [
      "   330/1000      6.45G     0.1408     0.1002     0.7603        232        736: 100%|██████████| 42/42 [00:08<00:00,  5.10it/s]\n"
     ]
    },
    {
     "name": "stdout",
     "output_type": "stream",
     "text": [
      "\n",
      "      Epoch    GPU_mem   box_loss   cls_loss   dfl_loss  Instances       Size\n"
     ]
    },
    {
     "name": "stderr",
     "output_type": "stream",
     "text": [
      "   331/1000      6.52G      0.146     0.1022     0.7601        360        736: 100%|██████████| 42/42 [00:08<00:00,  5.10it/s]\n"
     ]
    },
    {
     "name": "stdout",
     "output_type": "stream",
     "text": [
      "\n",
      "      Epoch    GPU_mem   box_loss   cls_loss   dfl_loss  Instances       Size\n"
     ]
    },
    {
     "name": "stderr",
     "output_type": "stream",
     "text": [
      "   332/1000       6.7G     0.1476     0.1052     0.7601        270        736: 100%|██████████| 42/42 [00:08<00:00,  5.11it/s]\n"
     ]
    },
    {
     "name": "stdout",
     "output_type": "stream",
     "text": [
      "\n",
      "      Epoch    GPU_mem   box_loss   cls_loss   dfl_loss  Instances       Size\n"
     ]
    },
    {
     "name": "stderr",
     "output_type": "stream",
     "text": [
      "   333/1000      6.71G     0.1561     0.1096     0.7624        322        736: 100%|██████████| 42/42 [00:08<00:00,  5.08it/s]\n"
     ]
    },
    {
     "name": "stdout",
     "output_type": "stream",
     "text": [
      "\n",
      "      Epoch    GPU_mem   box_loss   cls_loss   dfl_loss  Instances       Size\n"
     ]
    },
    {
     "name": "stderr",
     "output_type": "stream",
     "text": [
      "   334/1000      6.52G     0.1702     0.1205     0.7615        279        736: 100%|██████████| 42/42 [00:08<00:00,  5.08it/s]\n"
     ]
    },
    {
     "name": "stdout",
     "output_type": "stream",
     "text": [
      "\n",
      "      Epoch    GPU_mem   box_loss   cls_loss   dfl_loss  Instances       Size\n"
     ]
    },
    {
     "name": "stderr",
     "output_type": "stream",
     "text": [
      "   335/1000      6.73G     0.1657     0.1192     0.7603        339        736: 100%|██████████| 42/42 [00:08<00:00,  5.10it/s]\n"
     ]
    },
    {
     "name": "stdout",
     "output_type": "stream",
     "text": [
      "\n",
      "      Epoch    GPU_mem   box_loss   cls_loss   dfl_loss  Instances       Size\n"
     ]
    },
    {
     "name": "stderr",
     "output_type": "stream",
     "text": [
      "   336/1000      6.71G     0.1677     0.1181     0.7622        387        736: 100%|██████████| 42/42 [00:08<00:00,  5.07it/s]\n"
     ]
    },
    {
     "name": "stdout",
     "output_type": "stream",
     "text": [
      "\n",
      "      Epoch    GPU_mem   box_loss   cls_loss   dfl_loss  Instances       Size\n"
     ]
    },
    {
     "name": "stderr",
     "output_type": "stream",
     "text": [
      "   337/1000      6.72G     0.1714     0.1187     0.7615        261        736: 100%|██████████| 42/42 [00:08<00:00,  5.11it/s]\n"
     ]
    },
    {
     "name": "stdout",
     "output_type": "stream",
     "text": [
      "\n",
      "      Epoch    GPU_mem   box_loss   cls_loss   dfl_loss  Instances       Size\n"
     ]
    },
    {
     "name": "stderr",
     "output_type": "stream",
     "text": [
      "   338/1000      6.49G     0.1819     0.1235     0.7615        289        736: 100%|██████████| 42/42 [00:08<00:00,  5.06it/s]\n"
     ]
    },
    {
     "name": "stdout",
     "output_type": "stream",
     "text": [
      "\n",
      "      Epoch    GPU_mem   box_loss   cls_loss   dfl_loss  Instances       Size\n"
     ]
    },
    {
     "name": "stderr",
     "output_type": "stream",
     "text": [
      "   339/1000      6.72G     0.1864     0.1266     0.7627        238        736: 100%|██████████| 42/42 [00:08<00:00,  5.11it/s]\n"
     ]
    },
    {
     "name": "stdout",
     "output_type": "stream",
     "text": [
      "\n",
      "      Epoch    GPU_mem   box_loss   cls_loss   dfl_loss  Instances       Size\n"
     ]
    },
    {
     "name": "stderr",
     "output_type": "stream",
     "text": [
      "   340/1000       6.6G     0.1738     0.1218     0.7608        261        736: 100%|██████████| 42/42 [00:08<00:00,  5.06it/s]\n"
     ]
    },
    {
     "name": "stdout",
     "output_type": "stream",
     "text": [
      "\n",
      "      Epoch    GPU_mem   box_loss   cls_loss   dfl_loss  Instances       Size\n"
     ]
    },
    {
     "name": "stderr",
     "output_type": "stream",
     "text": [
      "   341/1000      6.66G      0.184     0.1246       0.76        389        736: 100%|██████████| 42/42 [00:08<00:00,  5.09it/s]\n"
     ]
    },
    {
     "name": "stdout",
     "output_type": "stream",
     "text": [
      "\n",
      "      Epoch    GPU_mem   box_loss   cls_loss   dfl_loss  Instances       Size\n"
     ]
    },
    {
     "name": "stderr",
     "output_type": "stream",
     "text": [
      "   342/1000      6.55G     0.1767     0.1232     0.7611        224        736: 100%|██████████| 42/42 [00:08<00:00,  5.08it/s]\n"
     ]
    },
    {
     "name": "stdout",
     "output_type": "stream",
     "text": [
      "\n",
      "      Epoch    GPU_mem   box_loss   cls_loss   dfl_loss  Instances       Size\n"
     ]
    },
    {
     "name": "stderr",
     "output_type": "stream",
     "text": [
      "   343/1000      6.53G     0.1704     0.1187     0.7609        257        736: 100%|██████████| 42/42 [00:08<00:00,  5.10it/s]\n"
     ]
    },
    {
     "name": "stdout",
     "output_type": "stream",
     "text": [
      "\n",
      "      Epoch    GPU_mem   box_loss   cls_loss   dfl_loss  Instances       Size\n"
     ]
    },
    {
     "name": "stderr",
     "output_type": "stream",
     "text": [
      "   344/1000       6.7G     0.1682     0.1178     0.7597        234        736: 100%|██████████| 42/42 [00:08<00:00,  5.08it/s]\n"
     ]
    },
    {
     "name": "stdout",
     "output_type": "stream",
     "text": [
      "\n",
      "      Epoch    GPU_mem   box_loss   cls_loss   dfl_loss  Instances       Size\n"
     ]
    },
    {
     "name": "stderr",
     "output_type": "stream",
     "text": [
      "   345/1000      6.52G     0.1613     0.1155     0.7622        276        736: 100%|██████████| 42/42 [00:08<00:00,  5.11it/s]\n"
     ]
    },
    {
     "name": "stdout",
     "output_type": "stream",
     "text": [
      "\n",
      "      Epoch    GPU_mem   box_loss   cls_loss   dfl_loss  Instances       Size\n"
     ]
    },
    {
     "name": "stderr",
     "output_type": "stream",
     "text": [
      "   346/1000      6.78G     0.1584      0.111     0.7612        222        736: 100%|██████████| 42/42 [00:08<00:00,  5.10it/s]\n"
     ]
    },
    {
     "name": "stdout",
     "output_type": "stream",
     "text": [
      "\n",
      "      Epoch    GPU_mem   box_loss   cls_loss   dfl_loss  Instances       Size\n"
     ]
    },
    {
     "name": "stderr",
     "output_type": "stream",
     "text": [
      "   347/1000      6.66G     0.1603     0.1128     0.7609        291        736: 100%|██████████| 42/42 [00:08<00:00,  5.04it/s]\n"
     ]
    },
    {
     "name": "stdout",
     "output_type": "stream",
     "text": [
      "\n",
      "      Epoch    GPU_mem   box_loss   cls_loss   dfl_loss  Instances       Size\n"
     ]
    },
    {
     "name": "stderr",
     "output_type": "stream",
     "text": [
      "   348/1000      6.78G     0.1601     0.1126     0.7615        249        736: 100%|██████████| 42/42 [00:08<00:00,  5.08it/s]\n"
     ]
    },
    {
     "name": "stdout",
     "output_type": "stream",
     "text": [
      "\n",
      "      Epoch    GPU_mem   box_loss   cls_loss   dfl_loss  Instances       Size\n"
     ]
    },
    {
     "name": "stderr",
     "output_type": "stream",
     "text": [
      "   349/1000      6.52G     0.1634     0.1126     0.7612        232        736: 100%|██████████| 42/42 [00:08<00:00,  5.07it/s]\n"
     ]
    },
    {
     "name": "stdout",
     "output_type": "stream",
     "text": [
      "\n",
      "      Epoch    GPU_mem   box_loss   cls_loss   dfl_loss  Instances       Size\n"
     ]
    },
    {
     "name": "stderr",
     "output_type": "stream",
     "text": [
      "   350/1000      6.48G     0.1653     0.1149     0.7618        289        736: 100%|██████████| 42/42 [00:08<00:00,  5.10it/s]\n"
     ]
    },
    {
     "name": "stdout",
     "output_type": "stream",
     "text": [
      "\n",
      "      Epoch    GPU_mem   box_loss   cls_loss   dfl_loss  Instances       Size\n"
     ]
    },
    {
     "name": "stderr",
     "output_type": "stream",
     "text": [
      "   351/1000      6.69G     0.1645     0.1151     0.7622        258        736: 100%|██████████| 42/42 [00:08<00:00,  5.08it/s]\n"
     ]
    },
    {
     "name": "stdout",
     "output_type": "stream",
     "text": [
      "\n",
      "      Epoch    GPU_mem   box_loss   cls_loss   dfl_loss  Instances       Size\n"
     ]
    },
    {
     "name": "stderr",
     "output_type": "stream",
     "text": [
      "   352/1000      6.66G     0.1562     0.1104     0.7616        290        736: 100%|██████████| 42/42 [00:08<00:00,  5.10it/s]\n"
     ]
    },
    {
     "name": "stdout",
     "output_type": "stream",
     "text": [
      "\n",
      "      Epoch    GPU_mem   box_loss   cls_loss   dfl_loss  Instances       Size\n"
     ]
    },
    {
     "name": "stderr",
     "output_type": "stream",
     "text": [
      "   353/1000      6.66G      0.159     0.1107     0.7602        409        736: 100%|██████████| 42/42 [00:08<00:00,  5.10it/s]\n"
     ]
    },
    {
     "name": "stdout",
     "output_type": "stream",
     "text": [
      "\n",
      "      Epoch    GPU_mem   box_loss   cls_loss   dfl_loss  Instances       Size\n"
     ]
    },
    {
     "name": "stderr",
     "output_type": "stream",
     "text": [
      "   354/1000       6.7G     0.1693     0.1144     0.7612        225        736: 100%|██████████| 42/42 [00:08<00:00,  5.09it/s]\n"
     ]
    },
    {
     "name": "stdout",
     "output_type": "stream",
     "text": [
      "\n",
      "      Epoch    GPU_mem   box_loss   cls_loss   dfl_loss  Instances       Size\n"
     ]
    },
    {
     "name": "stderr",
     "output_type": "stream",
     "text": [
      "   355/1000      6.55G     0.1728      0.116     0.7642        268        736: 100%|██████████| 42/42 [00:08<00:00,  5.09it/s]\n"
     ]
    },
    {
     "name": "stdout",
     "output_type": "stream",
     "text": [
      "\n",
      "      Epoch    GPU_mem   box_loss   cls_loss   dfl_loss  Instances       Size\n"
     ]
    },
    {
     "name": "stderr",
     "output_type": "stream",
     "text": [
      "   356/1000      6.46G     0.1716     0.1178     0.7628        232        736: 100%|██████████| 42/42 [00:08<00:00,  5.05it/s]\n"
     ]
    },
    {
     "name": "stdout",
     "output_type": "stream",
     "text": [
      "\n",
      "      Epoch    GPU_mem   box_loss   cls_loss   dfl_loss  Instances       Size\n"
     ]
    },
    {
     "name": "stderr",
     "output_type": "stream",
     "text": [
      "   357/1000      6.78G     0.1766     0.1199     0.7645        292        736: 100%|██████████| 42/42 [00:08<00:00,  5.10it/s]\n"
     ]
    },
    {
     "name": "stdout",
     "output_type": "stream",
     "text": [
      "\n",
      "      Epoch    GPU_mem   box_loss   cls_loss   dfl_loss  Instances       Size\n"
     ]
    },
    {
     "name": "stderr",
     "output_type": "stream",
     "text": [
      "   358/1000      6.71G     0.1668     0.1147     0.7595        299        736: 100%|██████████| 42/42 [00:08<00:00,  5.11it/s]\n"
     ]
    },
    {
     "name": "stdout",
     "output_type": "stream",
     "text": [
      "\n",
      "      Epoch    GPU_mem   box_loss   cls_loss   dfl_loss  Instances       Size\n"
     ]
    },
    {
     "name": "stderr",
     "output_type": "stream",
     "text": [
      "   359/1000      6.71G     0.1849     0.1216     0.7632        291        736: 100%|██████████| 42/42 [00:08<00:00,  5.11it/s]\n"
     ]
    },
    {
     "name": "stdout",
     "output_type": "stream",
     "text": [
      "\n",
      "      Epoch    GPU_mem   box_loss   cls_loss   dfl_loss  Instances       Size\n"
     ]
    },
    {
     "name": "stderr",
     "output_type": "stream",
     "text": [
      "   360/1000      6.61G     0.1749     0.1195     0.7629        219        736: 100%|██████████| 42/42 [00:08<00:00,  5.08it/s]\n"
     ]
    },
    {
     "name": "stdout",
     "output_type": "stream",
     "text": [
      "\n",
      "      Epoch    GPU_mem   box_loss   cls_loss   dfl_loss  Instances       Size\n"
     ]
    },
    {
     "name": "stderr",
     "output_type": "stream",
     "text": [
      "   361/1000      6.49G     0.1607     0.1138     0.7625        245        736: 100%|██████████| 42/42 [00:08<00:00,  5.11it/s]\n"
     ]
    },
    {
     "name": "stdout",
     "output_type": "stream",
     "text": [
      "\n",
      "      Epoch    GPU_mem   box_loss   cls_loss   dfl_loss  Instances       Size\n"
     ]
    },
    {
     "name": "stderr",
     "output_type": "stream",
     "text": [
      "   362/1000      6.57G      0.152     0.1069     0.7593        286        736: 100%|██████████| 42/42 [00:08<00:00,  5.10it/s]\n"
     ]
    },
    {
     "name": "stdout",
     "output_type": "stream",
     "text": [
      "\n",
      "      Epoch    GPU_mem   box_loss   cls_loss   dfl_loss  Instances       Size\n"
     ]
    },
    {
     "name": "stderr",
     "output_type": "stream",
     "text": [
      "   363/1000      6.72G     0.1511     0.1073      0.761        303        736: 100%|██████████| 42/42 [00:08<00:00,  5.09it/s]\n"
     ]
    },
    {
     "name": "stdout",
     "output_type": "stream",
     "text": [
      "\n",
      "      Epoch    GPU_mem   box_loss   cls_loss   dfl_loss  Instances       Size\n"
     ]
    },
    {
     "name": "stderr",
     "output_type": "stream",
     "text": [
      "   364/1000      6.75G     0.1444      0.105     0.7612        416        736: 100%|██████████| 42/42 [00:08<00:00,  5.09it/s]\n"
     ]
    },
    {
     "name": "stdout",
     "output_type": "stream",
     "text": [
      "\n",
      "      Epoch    GPU_mem   box_loss   cls_loss   dfl_loss  Instances       Size\n"
     ]
    },
    {
     "name": "stderr",
     "output_type": "stream",
     "text": [
      "   365/1000      6.68G     0.1518     0.1087     0.7624        222        736: 100%|██████████| 42/42 [00:08<00:00,  5.09it/s]\n"
     ]
    },
    {
     "name": "stdout",
     "output_type": "stream",
     "text": [
      "\n",
      "      Epoch    GPU_mem   box_loss   cls_loss   dfl_loss  Instances       Size\n"
     ]
    },
    {
     "name": "stderr",
     "output_type": "stream",
     "text": [
      "   366/1000      6.78G     0.1482     0.1052      0.761        301        736: 100%|██████████| 42/42 [00:08<00:00,  5.07it/s]\n"
     ]
    },
    {
     "name": "stdout",
     "output_type": "stream",
     "text": [
      "\n",
      "      Epoch    GPU_mem   box_loss   cls_loss   dfl_loss  Instances       Size\n"
     ]
    },
    {
     "name": "stderr",
     "output_type": "stream",
     "text": [
      "   367/1000      6.72G     0.1439     0.1028     0.7633        341        736: 100%|██████████| 42/42 [00:08<00:00,  5.10it/s]\n"
     ]
    },
    {
     "name": "stdout",
     "output_type": "stream",
     "text": [
      "\n",
      "      Epoch    GPU_mem   box_loss   cls_loss   dfl_loss  Instances       Size\n"
     ]
    },
    {
     "name": "stderr",
     "output_type": "stream",
     "text": [
      "   368/1000      6.75G     0.1472     0.1039     0.7617        322        736: 100%|██████████| 42/42 [00:08<00:00,  5.09it/s]\n"
     ]
    },
    {
     "name": "stdout",
     "output_type": "stream",
     "text": [
      "\n",
      "      Epoch    GPU_mem   box_loss   cls_loss   dfl_loss  Instances       Size\n"
     ]
    },
    {
     "name": "stderr",
     "output_type": "stream",
     "text": [
      "   369/1000      6.57G     0.1476     0.1045     0.7611        396        736: 100%|██████████| 42/42 [00:08<00:00,  5.09it/s]\n"
     ]
    },
    {
     "name": "stdout",
     "output_type": "stream",
     "text": [
      "\n",
      "      Epoch    GPU_mem   box_loss   cls_loss   dfl_loss  Instances       Size\n"
     ]
    },
    {
     "name": "stderr",
     "output_type": "stream",
     "text": [
      "   370/1000      6.66G     0.1451     0.1022      0.762        304        736: 100%|██████████| 42/42 [00:08<00:00,  5.10it/s]\n"
     ]
    },
    {
     "name": "stdout",
     "output_type": "stream",
     "text": [
      "\n",
      "      Epoch    GPU_mem   box_loss   cls_loss   dfl_loss  Instances       Size\n"
     ]
    },
    {
     "name": "stderr",
     "output_type": "stream",
     "text": [
      "   371/1000      6.77G     0.1388    0.09697     0.7618        340        736: 100%|██████████| 42/42 [00:08<00:00,  5.07it/s]\n"
     ]
    },
    {
     "name": "stdout",
     "output_type": "stream",
     "text": [
      "\n",
      "      Epoch    GPU_mem   box_loss   cls_loss   dfl_loss  Instances       Size\n"
     ]
    },
    {
     "name": "stderr",
     "output_type": "stream",
     "text": [
      "   372/1000      6.71G     0.1423     0.1011     0.7589        267        736: 100%|██████████| 42/42 [00:08<00:00,  5.11it/s]\n"
     ]
    },
    {
     "name": "stdout",
     "output_type": "stream",
     "text": [
      "\n",
      "      Epoch    GPU_mem   box_loss   cls_loss   dfl_loss  Instances       Size\n"
     ]
    },
    {
     "name": "stderr",
     "output_type": "stream",
     "text": [
      "   373/1000      6.77G     0.1476     0.1063     0.7619        224        736: 100%|██████████| 42/42 [00:08<00:00,  5.09it/s]\n"
     ]
    },
    {
     "name": "stdout",
     "output_type": "stream",
     "text": [
      "\n",
      "      Epoch    GPU_mem   box_loss   cls_loss   dfl_loss  Instances       Size\n"
     ]
    },
    {
     "name": "stderr",
     "output_type": "stream",
     "text": [
      "   374/1000      6.51G     0.1518     0.1081     0.7601        327        736: 100%|██████████| 42/42 [00:08<00:00,  5.08it/s]\n"
     ]
    },
    {
     "name": "stdout",
     "output_type": "stream",
     "text": [
      "\n",
      "      Epoch    GPU_mem   box_loss   cls_loss   dfl_loss  Instances       Size\n"
     ]
    },
    {
     "name": "stderr",
     "output_type": "stream",
     "text": [
      "   375/1000      6.56G     0.1486     0.1059     0.7609        316        736: 100%|██████████| 42/42 [00:08<00:00,  5.11it/s]\n"
     ]
    },
    {
     "name": "stdout",
     "output_type": "stream",
     "text": [
      "\n",
      "      Epoch    GPU_mem   box_loss   cls_loss   dfl_loss  Instances       Size\n"
     ]
    },
    {
     "name": "stderr",
     "output_type": "stream",
     "text": [
      "   376/1000      6.72G     0.1565     0.1116     0.7595        247        736: 100%|██████████| 42/42 [00:08<00:00,  5.11it/s]\n"
     ]
    },
    {
     "name": "stdout",
     "output_type": "stream",
     "text": [
      "\n",
      "      Epoch    GPU_mem   box_loss   cls_loss   dfl_loss  Instances       Size\n"
     ]
    },
    {
     "name": "stderr",
     "output_type": "stream",
     "text": [
      "   377/1000      6.73G     0.1537      0.108     0.7614        227        736: 100%|██████████| 42/42 [00:08<00:00,  5.09it/s]\n"
     ]
    },
    {
     "name": "stdout",
     "output_type": "stream",
     "text": [
      "\n",
      "      Epoch    GPU_mem   box_loss   cls_loss   dfl_loss  Instances       Size\n"
     ]
    },
    {
     "name": "stderr",
     "output_type": "stream",
     "text": [
      "   378/1000       6.5G     0.1523     0.1079     0.7594        277        736: 100%|██████████| 42/42 [00:08<00:00,  5.10it/s]\n"
     ]
    },
    {
     "name": "stdout",
     "output_type": "stream",
     "text": [
      "\n",
      "      Epoch    GPU_mem   box_loss   cls_loss   dfl_loss  Instances       Size\n"
     ]
    },
    {
     "name": "stderr",
     "output_type": "stream",
     "text": [
      "   379/1000      6.55G     0.1512     0.1072     0.7607        255        736: 100%|██████████| 42/42 [00:08<00:00,  5.08it/s]\n"
     ]
    },
    {
     "name": "stdout",
     "output_type": "stream",
     "text": [
      "\n",
      "      Epoch    GPU_mem   box_loss   cls_loss   dfl_loss  Instances       Size\n"
     ]
    },
    {
     "name": "stderr",
     "output_type": "stream",
     "text": [
      "   380/1000      6.64G     0.1485     0.1066     0.7606        278        736: 100%|██████████| 42/42 [00:08<00:00,  5.10it/s]\n"
     ]
    },
    {
     "name": "stdout",
     "output_type": "stream",
     "text": [
      "\n",
      "      Epoch    GPU_mem   box_loss   cls_loss   dfl_loss  Instances       Size\n"
     ]
    },
    {
     "name": "stderr",
     "output_type": "stream",
     "text": [
      "   381/1000      6.78G     0.1447     0.1025     0.7593        264        736: 100%|██████████| 42/42 [00:08<00:00,  5.09it/s]\n"
     ]
    },
    {
     "name": "stdout",
     "output_type": "stream",
     "text": [
      "\n",
      "      Epoch    GPU_mem   box_loss   cls_loss   dfl_loss  Instances       Size\n"
     ]
    },
    {
     "name": "stderr",
     "output_type": "stream",
     "text": [
      "   382/1000      6.53G     0.1409    0.09983     0.7609        278        736: 100%|██████████| 42/42 [00:08<00:00,  5.09it/s]\n"
     ]
    },
    {
     "name": "stdout",
     "output_type": "stream",
     "text": [
      "\n",
      "      Epoch    GPU_mem   box_loss   cls_loss   dfl_loss  Instances       Size\n"
     ]
    },
    {
     "name": "stderr",
     "output_type": "stream",
     "text": [
      "   383/1000      6.65G     0.1441     0.1012     0.7596        285        736: 100%|██████████| 42/42 [00:08<00:00,  5.11it/s]\n"
     ]
    },
    {
     "name": "stdout",
     "output_type": "stream",
     "text": [
      "\n",
      "      Epoch    GPU_mem   box_loss   cls_loss   dfl_loss  Instances       Size\n"
     ]
    },
    {
     "name": "stderr",
     "output_type": "stream",
     "text": [
      "   384/1000      6.51G     0.1436     0.1019     0.7614        291        736: 100%|██████████| 42/42 [00:08<00:00,  5.10it/s]\n"
     ]
    },
    {
     "name": "stdout",
     "output_type": "stream",
     "text": [
      "\n",
      "      Epoch    GPU_mem   box_loss   cls_loss   dfl_loss  Instances       Size\n"
     ]
    },
    {
     "name": "stderr",
     "output_type": "stream",
     "text": [
      "   385/1000       6.6G     0.1446     0.1016     0.7598        219        736: 100%|██████████| 42/42 [00:08<00:00,  5.07it/s]\n"
     ]
    },
    {
     "name": "stdout",
     "output_type": "stream",
     "text": [
      "\n",
      "      Epoch    GPU_mem   box_loss   cls_loss   dfl_loss  Instances       Size\n"
     ]
    },
    {
     "name": "stderr",
     "output_type": "stream",
     "text": [
      "   386/1000      6.66G     0.1426    0.09883     0.7591        296        736: 100%|██████████| 42/42 [00:08<00:00,  5.06it/s]\n"
     ]
    },
    {
     "name": "stdout",
     "output_type": "stream",
     "text": [
      "\n",
      "      Epoch    GPU_mem   box_loss   cls_loss   dfl_loss  Instances       Size\n"
     ]
    },
    {
     "name": "stderr",
     "output_type": "stream",
     "text": [
      "   387/1000      6.53G      0.145     0.1009     0.7607        327        736: 100%|██████████| 42/42 [00:08<00:00,  5.07it/s]\n"
     ]
    },
    {
     "name": "stdout",
     "output_type": "stream",
     "text": [
      "\n",
      "      Epoch    GPU_mem   box_loss   cls_loss   dfl_loss  Instances       Size\n"
     ]
    },
    {
     "name": "stderr",
     "output_type": "stream",
     "text": [
      "   388/1000      6.63G     0.1393    0.09941      0.761        299        736: 100%|██████████| 42/42 [00:08<00:00,  5.09it/s]\n"
     ]
    },
    {
     "name": "stdout",
     "output_type": "stream",
     "text": [
      "\n",
      "      Epoch    GPU_mem   box_loss   cls_loss   dfl_loss  Instances       Size\n"
     ]
    },
    {
     "name": "stderr",
     "output_type": "stream",
     "text": [
      "   389/1000      6.72G     0.1374    0.09783     0.7612        220        736: 100%|██████████| 42/42 [00:08<00:00,  5.08it/s]\n"
     ]
    },
    {
     "name": "stdout",
     "output_type": "stream",
     "text": [
      "\n",
      "      Epoch    GPU_mem   box_loss   cls_loss   dfl_loss  Instances       Size\n"
     ]
    },
    {
     "name": "stderr",
     "output_type": "stream",
     "text": [
      "   390/1000      6.59G     0.1409    0.09897     0.7601        228        736: 100%|██████████| 42/42 [00:08<00:00,  5.08it/s]\n"
     ]
    },
    {
     "name": "stdout",
     "output_type": "stream",
     "text": [
      "\n",
      "      Epoch    GPU_mem   box_loss   cls_loss   dfl_loss  Instances       Size\n"
     ]
    },
    {
     "name": "stderr",
     "output_type": "stream",
     "text": [
      "   391/1000      6.52G     0.1426    0.09946     0.7588        243        736: 100%|██████████| 42/42 [00:08<00:00,  5.08it/s]\n"
     ]
    },
    {
     "name": "stdout",
     "output_type": "stream",
     "text": [
      "\n",
      "      Epoch    GPU_mem   box_loss   cls_loss   dfl_loss  Instances       Size\n"
     ]
    },
    {
     "name": "stderr",
     "output_type": "stream",
     "text": [
      "   392/1000      6.51G     0.1487     0.1049     0.7597        219        736: 100%|██████████| 42/42 [00:08<00:00,  5.09it/s]\n"
     ]
    },
    {
     "name": "stdout",
     "output_type": "stream",
     "text": [
      "\n",
      "      Epoch    GPU_mem   box_loss   cls_loss   dfl_loss  Instances       Size\n"
     ]
    },
    {
     "name": "stderr",
     "output_type": "stream",
     "text": [
      "   393/1000      6.77G     0.1547     0.1084     0.7621        304        736: 100%|██████████| 42/42 [00:08<00:00,  5.08it/s]\n"
     ]
    },
    {
     "name": "stdout",
     "output_type": "stream",
     "text": [
      "\n",
      "      Epoch    GPU_mem   box_loss   cls_loss   dfl_loss  Instances       Size\n"
     ]
    },
    {
     "name": "stderr",
     "output_type": "stream",
     "text": [
      "   394/1000      6.51G     0.1532     0.1075     0.7603        302        736: 100%|██████████| 42/42 [00:08<00:00,  5.08it/s]\n"
     ]
    },
    {
     "name": "stdout",
     "output_type": "stream",
     "text": [
      "\n",
      "      Epoch    GPU_mem   box_loss   cls_loss   dfl_loss  Instances       Size\n"
     ]
    },
    {
     "name": "stderr",
     "output_type": "stream",
     "text": [
      "   395/1000      6.53G     0.1493     0.1056     0.7603        244        736: 100%|██████████| 42/42 [00:08<00:00,  5.08it/s]\n"
     ]
    },
    {
     "name": "stdout",
     "output_type": "stream",
     "text": [
      "\n",
      "      Epoch    GPU_mem   box_loss   cls_loss   dfl_loss  Instances       Size\n"
     ]
    },
    {
     "name": "stderr",
     "output_type": "stream",
     "text": [
      "   396/1000      6.77G     0.1396     0.0983     0.7616        312        736: 100%|██████████| 42/42 [00:08<00:00,  5.10it/s]\n"
     ]
    },
    {
     "name": "stdout",
     "output_type": "stream",
     "text": [
      "\n",
      "      Epoch    GPU_mem   box_loss   cls_loss   dfl_loss  Instances       Size\n"
     ]
    },
    {
     "name": "stderr",
     "output_type": "stream",
     "text": [
      "   397/1000      6.54G     0.1446     0.1005     0.7596        303        736: 100%|██████████| 42/42 [00:08<00:00,  5.11it/s]\n"
     ]
    },
    {
     "name": "stdout",
     "output_type": "stream",
     "text": [
      "\n",
      "      Epoch    GPU_mem   box_loss   cls_loss   dfl_loss  Instances       Size\n"
     ]
    },
    {
     "name": "stderr",
     "output_type": "stream",
     "text": [
      "   398/1000      6.58G     0.1396    0.09963     0.7584        334        736: 100%|██████████| 42/42 [00:08<00:00,  5.08it/s]\n"
     ]
    },
    {
     "name": "stdout",
     "output_type": "stream",
     "text": [
      "\n",
      "      Epoch    GPU_mem   box_loss   cls_loss   dfl_loss  Instances       Size\n"
     ]
    },
    {
     "name": "stderr",
     "output_type": "stream",
     "text": [
      "   399/1000      6.71G     0.1418    0.09996     0.7591        311        736: 100%|██████████| 42/42 [00:08<00:00,  5.09it/s]\n"
     ]
    },
    {
     "name": "stdout",
     "output_type": "stream",
     "text": [
      "\n",
      "      Epoch    GPU_mem   box_loss   cls_loss   dfl_loss  Instances       Size\n"
     ]
    },
    {
     "name": "stderr",
     "output_type": "stream",
     "text": [
      "   400/1000       6.7G     0.1526     0.1099     0.7596        347        736: 100%|██████████| 42/42 [00:08<00:00,  5.04it/s]\n"
     ]
    },
    {
     "name": "stdout",
     "output_type": "stream",
     "text": [
      "\n",
      "      Epoch    GPU_mem   box_loss   cls_loss   dfl_loss  Instances       Size\n"
     ]
    },
    {
     "name": "stderr",
     "output_type": "stream",
     "text": [
      "   401/1000      6.71G     0.1513     0.1083     0.7606        280        736: 100%|██████████| 42/42 [00:08<00:00,  5.09it/s]\n"
     ]
    },
    {
     "name": "stdout",
     "output_type": "stream",
     "text": [
      "\n",
      "      Epoch    GPU_mem   box_loss   cls_loss   dfl_loss  Instances       Size\n"
     ]
    },
    {
     "name": "stderr",
     "output_type": "stream",
     "text": [
      "   402/1000      6.73G     0.1497     0.1092     0.7591        296        736: 100%|██████████| 42/42 [00:08<00:00,  5.06it/s]\n"
     ]
    },
    {
     "name": "stdout",
     "output_type": "stream",
     "text": [
      "\n",
      "      Epoch    GPU_mem   box_loss   cls_loss   dfl_loss  Instances       Size\n"
     ]
    },
    {
     "name": "stderr",
     "output_type": "stream",
     "text": [
      "   403/1000      6.69G     0.1491     0.1115     0.7599        344        736: 100%|██████████| 42/42 [00:08<00:00,  5.05it/s]\n"
     ]
    },
    {
     "name": "stdout",
     "output_type": "stream",
     "text": [
      "\n",
      "      Epoch    GPU_mem   box_loss   cls_loss   dfl_loss  Instances       Size\n"
     ]
    },
    {
     "name": "stderr",
     "output_type": "stream",
     "text": [
      "   404/1000      6.79G     0.1456      0.109     0.7604        214        736: 100%|██████████| 42/42 [00:08<00:00,  5.10it/s]\n"
     ]
    },
    {
     "name": "stdout",
     "output_type": "stream",
     "text": [
      "\n",
      "      Epoch    GPU_mem   box_loss   cls_loss   dfl_loss  Instances       Size\n"
     ]
    },
    {
     "name": "stderr",
     "output_type": "stream",
     "text": [
      "   405/1000      6.71G     0.1437     0.1051     0.7597        319        736: 100%|██████████| 42/42 [00:08<00:00,  5.04it/s]\n"
     ]
    },
    {
     "name": "stdout",
     "output_type": "stream",
     "text": [
      "\n",
      "      Epoch    GPU_mem   box_loss   cls_loss   dfl_loss  Instances       Size\n"
     ]
    },
    {
     "name": "stderr",
     "output_type": "stream",
     "text": [
      "   406/1000      6.71G     0.1433     0.1049     0.7607        308        736: 100%|██████████| 42/42 [00:08<00:00,  5.11it/s]\n"
     ]
    },
    {
     "name": "stdout",
     "output_type": "stream",
     "text": [
      "\n",
      "      Epoch    GPU_mem   box_loss   cls_loss   dfl_loss  Instances       Size\n"
     ]
    },
    {
     "name": "stderr",
     "output_type": "stream",
     "text": [
      "   407/1000      6.75G     0.1473     0.1075     0.7609        290        736: 100%|██████████| 42/42 [00:08<00:00,  5.05it/s]\n"
     ]
    },
    {
     "name": "stdout",
     "output_type": "stream",
     "text": [
      "\n",
      "      Epoch    GPU_mem   box_loss   cls_loss   dfl_loss  Instances       Size\n"
     ]
    },
    {
     "name": "stderr",
     "output_type": "stream",
     "text": [
      "   408/1000      6.52G     0.1507     0.1088     0.7609        280        736: 100%|██████████| 42/42 [00:08<00:00,  5.11it/s]\n"
     ]
    },
    {
     "name": "stdout",
     "output_type": "stream",
     "text": [
      "\n",
      "      Epoch    GPU_mem   box_loss   cls_loss   dfl_loss  Instances       Size\n"
     ]
    },
    {
     "name": "stderr",
     "output_type": "stream",
     "text": [
      "   409/1000      6.72G     0.1502     0.1062     0.7618        285        736: 100%|██████████| 42/42 [00:08<00:00,  5.10it/s]\n"
     ]
    },
    {
     "name": "stdout",
     "output_type": "stream",
     "text": [
      "\n",
      "      Epoch    GPU_mem   box_loss   cls_loss   dfl_loss  Instances       Size\n"
     ]
    },
    {
     "name": "stderr",
     "output_type": "stream",
     "text": [
      "   410/1000      6.76G      0.147      0.106     0.7615        409        736: 100%|██████████| 42/42 [00:08<00:00,  5.10it/s]\n"
     ]
    },
    {
     "name": "stdout",
     "output_type": "stream",
     "text": [
      "\n",
      "      Epoch    GPU_mem   box_loss   cls_loss   dfl_loss  Instances       Size\n"
     ]
    },
    {
     "name": "stderr",
     "output_type": "stream",
     "text": [
      "   411/1000      6.77G     0.1462     0.1034     0.7615        455        736: 100%|██████████| 42/42 [00:08<00:00,  5.08it/s]\n"
     ]
    },
    {
     "name": "stdout",
     "output_type": "stream",
     "text": [
      "\n",
      "      Epoch    GPU_mem   box_loss   cls_loss   dfl_loss  Instances       Size\n"
     ]
    },
    {
     "name": "stderr",
     "output_type": "stream",
     "text": [
      "   412/1000      6.48G     0.1424     0.1005     0.7633        387        736: 100%|██████████| 42/42 [00:08<00:00,  5.07it/s]\n"
     ]
    },
    {
     "name": "stdout",
     "output_type": "stream",
     "text": [
      "\n",
      "      Epoch    GPU_mem   box_loss   cls_loss   dfl_loss  Instances       Size\n"
     ]
    },
    {
     "name": "stderr",
     "output_type": "stream",
     "text": [
      "   413/1000      6.55G     0.1383    0.09782     0.7599        329        736: 100%|██████████| 42/42 [00:08<00:00,  5.10it/s]\n"
     ]
    },
    {
     "name": "stdout",
     "output_type": "stream",
     "text": [
      "\n",
      "      Epoch    GPU_mem   box_loss   cls_loss   dfl_loss  Instances       Size\n"
     ]
    },
    {
     "name": "stderr",
     "output_type": "stream",
     "text": [
      "   414/1000      6.77G     0.1427     0.1013     0.7588        329        736: 100%|██████████| 42/42 [00:08<00:00,  5.07it/s]\n"
     ]
    },
    {
     "name": "stdout",
     "output_type": "stream",
     "text": [
      "\n",
      "      Epoch    GPU_mem   box_loss   cls_loss   dfl_loss  Instances       Size\n"
     ]
    },
    {
     "name": "stderr",
     "output_type": "stream",
     "text": [
      "   415/1000      6.71G     0.1467     0.1033     0.7613        381        736: 100%|██████████| 42/42 [00:08<00:00,  5.10it/s]\n"
     ]
    },
    {
     "name": "stdout",
     "output_type": "stream",
     "text": [
      "\n",
      "      Epoch    GPU_mem   box_loss   cls_loss   dfl_loss  Instances       Size\n"
     ]
    },
    {
     "name": "stderr",
     "output_type": "stream",
     "text": [
      "   416/1000      6.68G     0.1449      0.102     0.7609        266        736: 100%|██████████| 42/42 [00:08<00:00,  5.09it/s]\n"
     ]
    },
    {
     "name": "stdout",
     "output_type": "stream",
     "text": [
      "\n",
      "      Epoch    GPU_mem   box_loss   cls_loss   dfl_loss  Instances       Size\n"
     ]
    },
    {
     "name": "stderr",
     "output_type": "stream",
     "text": [
      "   417/1000      6.73G     0.1443     0.1007     0.7594        271        736: 100%|██████████| 42/42 [00:08<00:00,  5.10it/s]\n"
     ]
    },
    {
     "name": "stdout",
     "output_type": "stream",
     "text": [
      "\n",
      "      Epoch    GPU_mem   box_loss   cls_loss   dfl_loss  Instances       Size\n"
     ]
    },
    {
     "name": "stderr",
     "output_type": "stream",
     "text": [
      "   418/1000      6.66G     0.1406    0.09793     0.7604        304        736: 100%|██████████| 42/42 [00:08<00:00,  5.07it/s]\n"
     ]
    },
    {
     "name": "stdout",
     "output_type": "stream",
     "text": [
      "\n",
      "      Epoch    GPU_mem   box_loss   cls_loss   dfl_loss  Instances       Size\n"
     ]
    },
    {
     "name": "stderr",
     "output_type": "stream",
     "text": [
      "   419/1000      6.78G     0.1405    0.09713     0.7601        335        736: 100%|██████████| 42/42 [00:08<00:00,  5.08it/s]\n"
     ]
    },
    {
     "name": "stdout",
     "output_type": "stream",
     "text": [
      "\n",
      "      Epoch    GPU_mem   box_loss   cls_loss   dfl_loss  Instances       Size\n"
     ]
    },
    {
     "name": "stderr",
     "output_type": "stream",
     "text": [
      "   420/1000      6.77G     0.1376    0.09632     0.7616        287        736: 100%|██████████| 42/42 [00:08<00:00,  5.09it/s]\n"
     ]
    },
    {
     "name": "stdout",
     "output_type": "stream",
     "text": [
      "\n",
      "      Epoch    GPU_mem   box_loss   cls_loss   dfl_loss  Instances       Size\n"
     ]
    },
    {
     "name": "stderr",
     "output_type": "stream",
     "text": [
      "   421/1000      6.53G     0.1377    0.09587     0.7602        290        736: 100%|██████████| 42/42 [00:08<00:00,  5.10it/s]\n"
     ]
    },
    {
     "name": "stdout",
     "output_type": "stream",
     "text": [
      "\n",
      "      Epoch    GPU_mem   box_loss   cls_loss   dfl_loss  Instances       Size\n"
     ]
    },
    {
     "name": "stderr",
     "output_type": "stream",
     "text": [
      "   422/1000      6.71G     0.1377    0.09629     0.7601        242        736: 100%|██████████| 42/42 [00:08<00:00,  5.11it/s]\n"
     ]
    },
    {
     "name": "stdout",
     "output_type": "stream",
     "text": [
      "\n",
      "      Epoch    GPU_mem   box_loss   cls_loss   dfl_loss  Instances       Size\n"
     ]
    },
    {
     "name": "stderr",
     "output_type": "stream",
     "text": [
      "   423/1000      6.56G     0.1366    0.09441     0.7594        325        736: 100%|██████████| 42/42 [00:08<00:00,  5.10it/s]\n"
     ]
    },
    {
     "name": "stdout",
     "output_type": "stream",
     "text": [
      "\n",
      "      Epoch    GPU_mem   box_loss   cls_loss   dfl_loss  Instances       Size\n"
     ]
    },
    {
     "name": "stderr",
     "output_type": "stream",
     "text": [
      "   424/1000      6.73G     0.1351    0.09388     0.7588        354        736: 100%|██████████| 42/42 [00:08<00:00,  5.07it/s]\n"
     ]
    },
    {
     "name": "stdout",
     "output_type": "stream",
     "text": [
      "\n",
      "      Epoch    GPU_mem   box_loss   cls_loss   dfl_loss  Instances       Size\n"
     ]
    },
    {
     "name": "stderr",
     "output_type": "stream",
     "text": [
      "   425/1000       6.6G     0.1377    0.09598     0.7598        298        736: 100%|██████████| 42/42 [00:08<00:00,  5.09it/s]\n"
     ]
    },
    {
     "name": "stdout",
     "output_type": "stream",
     "text": [
      "\n",
      "      Epoch    GPU_mem   box_loss   cls_loss   dfl_loss  Instances       Size\n"
     ]
    },
    {
     "name": "stderr",
     "output_type": "stream",
     "text": [
      "   426/1000      6.65G      0.135    0.09395     0.7607        259        736: 100%|██████████| 42/42 [00:08<00:00,  5.05it/s]\n"
     ]
    },
    {
     "name": "stdout",
     "output_type": "stream",
     "text": [
      "\n",
      "      Epoch    GPU_mem   box_loss   cls_loss   dfl_loss  Instances       Size\n"
     ]
    },
    {
     "name": "stderr",
     "output_type": "stream",
     "text": [
      "   427/1000      6.71G     0.1353    0.09383     0.7589        210        736: 100%|██████████| 42/42 [00:08<00:00,  5.09it/s]\n"
     ]
    },
    {
     "name": "stdout",
     "output_type": "stream",
     "text": [
      "\n",
      "      Epoch    GPU_mem   box_loss   cls_loss   dfl_loss  Instances       Size\n"
     ]
    },
    {
     "name": "stderr",
     "output_type": "stream",
     "text": [
      "   428/1000      6.73G     0.1348    0.09318     0.7595        242        736: 100%|██████████| 42/42 [00:08<00:00,  5.10it/s]\n"
     ]
    },
    {
     "name": "stdout",
     "output_type": "stream",
     "text": [
      "\n",
      "      Epoch    GPU_mem   box_loss   cls_loss   dfl_loss  Instances       Size\n"
     ]
    },
    {
     "name": "stderr",
     "output_type": "stream",
     "text": [
      "   429/1000      6.58G     0.1358    0.09313     0.7614        323        736: 100%|██████████| 42/42 [00:08<00:00,  5.09it/s]\n"
     ]
    },
    {
     "name": "stdout",
     "output_type": "stream",
     "text": [
      "\n",
      "      Epoch    GPU_mem   box_loss   cls_loss   dfl_loss  Instances       Size\n"
     ]
    },
    {
     "name": "stderr",
     "output_type": "stream",
     "text": [
      "   430/1000      6.73G     0.1325    0.09144     0.7582        316        736: 100%|██████████| 42/42 [00:08<00:00,  5.07it/s]\n"
     ]
    },
    {
     "name": "stdout",
     "output_type": "stream",
     "text": [
      "\n",
      "      Epoch    GPU_mem   box_loss   cls_loss   dfl_loss  Instances       Size\n"
     ]
    },
    {
     "name": "stderr",
     "output_type": "stream",
     "text": [
      "   431/1000      6.78G     0.1369    0.09446     0.7599        227        736: 100%|██████████| 42/42 [00:08<00:00,  5.06it/s]\n"
     ]
    },
    {
     "name": "stdout",
     "output_type": "stream",
     "text": [
      "\n",
      "      Epoch    GPU_mem   box_loss   cls_loss   dfl_loss  Instances       Size\n"
     ]
    },
    {
     "name": "stderr",
     "output_type": "stream",
     "text": [
      "   432/1000      6.66G     0.1386    0.09567     0.7603        212        736: 100%|██████████| 42/42 [00:08<00:00,  5.09it/s]\n"
     ]
    },
    {
     "name": "stdout",
     "output_type": "stream",
     "text": [
      "\n",
      "      Epoch    GPU_mem   box_loss   cls_loss   dfl_loss  Instances       Size\n"
     ]
    },
    {
     "name": "stderr",
     "output_type": "stream",
     "text": [
      "   433/1000      6.71G     0.1461     0.1023     0.7614        228        736: 100%|██████████| 42/42 [00:08<00:00,  5.07it/s]\n"
     ]
    },
    {
     "name": "stdout",
     "output_type": "stream",
     "text": [
      "\n",
      "      Epoch    GPU_mem   box_loss   cls_loss   dfl_loss  Instances       Size\n"
     ]
    },
    {
     "name": "stderr",
     "output_type": "stream",
     "text": [
      "   434/1000      6.58G     0.1563     0.1077     0.7598        200        736: 100%|██████████| 42/42 [00:08<00:00,  5.07it/s]\n"
     ]
    },
    {
     "name": "stdout",
     "output_type": "stream",
     "text": [
      "\n",
      "      Epoch    GPU_mem   box_loss   cls_loss   dfl_loss  Instances       Size\n"
     ]
    },
    {
     "name": "stderr",
     "output_type": "stream",
     "text": [
      "   435/1000      6.71G     0.1631     0.1117     0.7612        334        736: 100%|██████████| 42/42 [00:08<00:00,  5.11it/s]\n"
     ]
    },
    {
     "name": "stdout",
     "output_type": "stream",
     "text": [
      "\n",
      "      Epoch    GPU_mem   box_loss   cls_loss   dfl_loss  Instances       Size\n"
     ]
    },
    {
     "name": "stderr",
     "output_type": "stream",
     "text": [
      "   436/1000      6.71G     0.1533     0.1046     0.7595        282        736: 100%|██████████| 42/42 [00:08<00:00,  5.11it/s]\n"
     ]
    },
    {
     "name": "stdout",
     "output_type": "stream",
     "text": [
      "\n",
      "      Epoch    GPU_mem   box_loss   cls_loss   dfl_loss  Instances       Size\n"
     ]
    },
    {
     "name": "stderr",
     "output_type": "stream",
     "text": [
      "   437/1000      6.71G     0.1565     0.1058     0.7604        346        736: 100%|██████████| 42/42 [00:08<00:00,  5.09it/s]\n"
     ]
    },
    {
     "name": "stdout",
     "output_type": "stream",
     "text": [
      "\n",
      "      Epoch    GPU_mem   box_loss   cls_loss   dfl_loss  Instances       Size\n"
     ]
    },
    {
     "name": "stderr",
     "output_type": "stream",
     "text": [
      "   438/1000      6.51G     0.1603     0.1075     0.7594        410        736: 100%|██████████| 42/42 [00:08<00:00,  5.08it/s]\n"
     ]
    },
    {
     "name": "stdout",
     "output_type": "stream",
     "text": [
      "\n",
      "      Epoch    GPU_mem   box_loss   cls_loss   dfl_loss  Instances       Size\n"
     ]
    },
    {
     "name": "stderr",
     "output_type": "stream",
     "text": [
      "   439/1000      6.71G      0.153     0.1046     0.7607        215        736: 100%|██████████| 42/42 [00:08<00:00,  5.05it/s]\n"
     ]
    },
    {
     "name": "stdout",
     "output_type": "stream",
     "text": [
      "\n",
      "      Epoch    GPU_mem   box_loss   cls_loss   dfl_loss  Instances       Size\n"
     ]
    },
    {
     "name": "stderr",
     "output_type": "stream",
     "text": [
      "   440/1000      6.72G      0.145     0.1002     0.7603        283        736: 100%|██████████| 42/42 [00:08<00:00,  5.07it/s]\n"
     ]
    },
    {
     "name": "stdout",
     "output_type": "stream",
     "text": [
      "\n",
      "      Epoch    GPU_mem   box_loss   cls_loss   dfl_loss  Instances       Size\n"
     ]
    },
    {
     "name": "stderr",
     "output_type": "stream",
     "text": [
      "   441/1000      6.72G     0.1436    0.09948     0.7597        224        736: 100%|██████████| 42/42 [00:08<00:00,  5.11it/s]\n"
     ]
    },
    {
     "name": "stdout",
     "output_type": "stream",
     "text": [
      "\n",
      "      Epoch    GPU_mem   box_loss   cls_loss   dfl_loss  Instances       Size\n"
     ]
    },
    {
     "name": "stderr",
     "output_type": "stream",
     "text": [
      "   442/1000      6.46G     0.1435    0.09903     0.7603        279        736: 100%|██████████| 42/42 [00:08<00:00,  5.08it/s]\n"
     ]
    },
    {
     "name": "stdout",
     "output_type": "stream",
     "text": [
      "\n",
      "      Epoch    GPU_mem   box_loss   cls_loss   dfl_loss  Instances       Size\n"
     ]
    },
    {
     "name": "stderr",
     "output_type": "stream",
     "text": [
      "   443/1000      6.79G     0.1407    0.09758     0.7596        224        736: 100%|██████████| 42/42 [00:08<00:00,  5.11it/s]\n"
     ]
    },
    {
     "name": "stdout",
     "output_type": "stream",
     "text": [
      "\n",
      "      Epoch    GPU_mem   box_loss   cls_loss   dfl_loss  Instances       Size\n"
     ]
    },
    {
     "name": "stderr",
     "output_type": "stream",
     "text": [
      "   444/1000      6.52G     0.1453     0.0994     0.7587        376        736: 100%|██████████| 42/42 [00:08<00:00,  5.09it/s]\n"
     ]
    },
    {
     "name": "stdout",
     "output_type": "stream",
     "text": [
      "\n",
      "      Epoch    GPU_mem   box_loss   cls_loss   dfl_loss  Instances       Size\n"
     ]
    },
    {
     "name": "stderr",
     "output_type": "stream",
     "text": [
      "   445/1000      6.66G     0.1421    0.09922     0.7601        283        736: 100%|██████████| 42/42 [00:08<00:00,  5.11it/s]\n"
     ]
    },
    {
     "name": "stdout",
     "output_type": "stream",
     "text": [
      "\n",
      "      Epoch    GPU_mem   box_loss   cls_loss   dfl_loss  Instances       Size\n"
     ]
    },
    {
     "name": "stderr",
     "output_type": "stream",
     "text": [
      "   446/1000      6.65G     0.1415    0.09838     0.7588        360        736: 100%|██████████| 42/42 [00:08<00:00,  5.08it/s]\n"
     ]
    },
    {
     "name": "stdout",
     "output_type": "stream",
     "text": [
      "\n",
      "      Epoch    GPU_mem   box_loss   cls_loss   dfl_loss  Instances       Size\n"
     ]
    },
    {
     "name": "stderr",
     "output_type": "stream",
     "text": [
      "   447/1000      6.53G     0.1368     0.0945     0.7608        345        736: 100%|██████████| 42/42 [00:08<00:00,  5.07it/s]\n"
     ]
    },
    {
     "name": "stdout",
     "output_type": "stream",
     "text": [
      "\n",
      "      Epoch    GPU_mem   box_loss   cls_loss   dfl_loss  Instances       Size\n"
     ]
    },
    {
     "name": "stderr",
     "output_type": "stream",
     "text": [
      "   448/1000      6.77G     0.1421    0.09866     0.7602        291        736: 100%|██████████| 42/42 [00:08<00:00,  5.10it/s]\n"
     ]
    },
    {
     "name": "stdout",
     "output_type": "stream",
     "text": [
      "\n",
      "      Epoch    GPU_mem   box_loss   cls_loss   dfl_loss  Instances       Size\n"
     ]
    },
    {
     "name": "stderr",
     "output_type": "stream",
     "text": [
      "   449/1000      6.71G     0.1458     0.1024     0.7614        226        736: 100%|██████████| 42/42 [00:08<00:00,  5.10it/s]\n"
     ]
    },
    {
     "name": "stdout",
     "output_type": "stream",
     "text": [
      "\n",
      "      Epoch    GPU_mem   box_loss   cls_loss   dfl_loss  Instances       Size\n"
     ]
    },
    {
     "name": "stderr",
     "output_type": "stream",
     "text": [
      "   450/1000      6.65G     0.1401    0.09913     0.7589        316        736: 100%|██████████| 42/42 [00:08<00:00,  5.06it/s]\n"
     ]
    },
    {
     "name": "stdout",
     "output_type": "stream",
     "text": [
      "\n",
      "      Epoch    GPU_mem   box_loss   cls_loss   dfl_loss  Instances       Size\n"
     ]
    },
    {
     "name": "stderr",
     "output_type": "stream",
     "text": [
      "   451/1000      6.52G     0.1369    0.09634     0.7607        346        736: 100%|██████████| 42/42 [00:08<00:00,  5.07it/s]\n"
     ]
    },
    {
     "name": "stdout",
     "output_type": "stream",
     "text": [
      "\n",
      "      Epoch    GPU_mem   box_loss   cls_loss   dfl_loss  Instances       Size\n"
     ]
    },
    {
     "name": "stderr",
     "output_type": "stream",
     "text": [
      "   452/1000       6.6G     0.1364    0.09552     0.7614        278        736: 100%|██████████| 42/42 [00:08<00:00,  5.08it/s]\n"
     ]
    },
    {
     "name": "stdout",
     "output_type": "stream",
     "text": [
      "\n",
      "      Epoch    GPU_mem   box_loss   cls_loss   dfl_loss  Instances       Size\n"
     ]
    },
    {
     "name": "stderr",
     "output_type": "stream",
     "text": [
      "   453/1000      6.72G     0.1375    0.09546     0.7607        352        736: 100%|██████████| 42/42 [00:08<00:00,  5.11it/s]\n"
     ]
    },
    {
     "name": "stdout",
     "output_type": "stream",
     "text": [
      "\n",
      "      Epoch    GPU_mem   box_loss   cls_loss   dfl_loss  Instances       Size\n"
     ]
    },
    {
     "name": "stderr",
     "output_type": "stream",
     "text": [
      "   454/1000      6.72G     0.1426     0.1011     0.7614        258        736: 100%|██████████| 42/42 [00:08<00:00,  5.07it/s]\n"
     ]
    },
    {
     "name": "stdout",
     "output_type": "stream",
     "text": [
      "\n",
      "      Epoch    GPU_mem   box_loss   cls_loss   dfl_loss  Instances       Size\n"
     ]
    },
    {
     "name": "stderr",
     "output_type": "stream",
     "text": [
      "   455/1000      6.68G       0.14    0.09827     0.7609        286        736: 100%|██████████| 42/42 [00:08<00:00,  5.09it/s]\n"
     ]
    },
    {
     "name": "stdout",
     "output_type": "stream",
     "text": [
      "\n",
      "      Epoch    GPU_mem   box_loss   cls_loss   dfl_loss  Instances       Size\n"
     ]
    },
    {
     "name": "stderr",
     "output_type": "stream",
     "text": [
      "   456/1000      6.79G     0.1391    0.09775     0.7605        310        736: 100%|██████████| 42/42 [00:08<00:00,  5.09it/s]\n"
     ]
    },
    {
     "name": "stdout",
     "output_type": "stream",
     "text": [
      "\n",
      "      Epoch    GPU_mem   box_loss   cls_loss   dfl_loss  Instances       Size\n"
     ]
    },
    {
     "name": "stderr",
     "output_type": "stream",
     "text": [
      "   457/1000      6.61G     0.1414    0.09759     0.7604        218        736: 100%|██████████| 42/42 [00:08<00:00,  5.06it/s]\n"
     ]
    },
    {
     "name": "stdout",
     "output_type": "stream",
     "text": [
      "\n",
      "      Epoch    GPU_mem   box_loss   cls_loss   dfl_loss  Instances       Size\n"
     ]
    },
    {
     "name": "stderr",
     "output_type": "stream",
     "text": [
      "   458/1000      6.65G      0.141    0.09748       0.76        350        736: 100%|██████████| 42/42 [00:08<00:00,  5.10it/s]\n"
     ]
    },
    {
     "name": "stdout",
     "output_type": "stream",
     "text": [
      "\n",
      "      Epoch    GPU_mem   box_loss   cls_loss   dfl_loss  Instances       Size\n"
     ]
    },
    {
     "name": "stderr",
     "output_type": "stream",
     "text": [
      "   459/1000      6.72G     0.1444    0.09998     0.7598        280        736: 100%|██████████| 42/42 [00:08<00:00,  5.10it/s]\n"
     ]
    },
    {
     "name": "stdout",
     "output_type": "stream",
     "text": [
      "\n",
      "      Epoch    GPU_mem   box_loss   cls_loss   dfl_loss  Instances       Size\n"
     ]
    },
    {
     "name": "stderr",
     "output_type": "stream",
     "text": [
      "   460/1000      6.58G     0.1439    0.09979     0.7601        300        736: 100%|██████████| 42/42 [00:08<00:00,  5.09it/s]\n"
     ]
    },
    {
     "name": "stdout",
     "output_type": "stream",
     "text": [
      "\n",
      "      Epoch    GPU_mem   box_loss   cls_loss   dfl_loss  Instances       Size\n"
     ]
    },
    {
     "name": "stderr",
     "output_type": "stream",
     "text": [
      "   461/1000      6.48G     0.1468     0.1002      0.759        216        736: 100%|██████████| 42/42 [00:08<00:00,  5.06it/s]\n"
     ]
    },
    {
     "name": "stdout",
     "output_type": "stream",
     "text": [
      "\n",
      "      Epoch    GPU_mem   box_loss   cls_loss   dfl_loss  Instances       Size\n"
     ]
    },
    {
     "name": "stderr",
     "output_type": "stream",
     "text": [
      "   462/1000      6.71G     0.1448        0.1     0.7592        213        736: 100%|██████████| 42/42 [00:08<00:00,  5.08it/s]\n"
     ]
    },
    {
     "name": "stdout",
     "output_type": "stream",
     "text": [
      "\n",
      "      Epoch    GPU_mem   box_loss   cls_loss   dfl_loss  Instances       Size\n"
     ]
    },
    {
     "name": "stderr",
     "output_type": "stream",
     "text": [
      "   463/1000      6.78G     0.1395    0.09622     0.7587        336        736: 100%|██████████| 42/42 [00:08<00:00,  5.07it/s]\n"
     ]
    },
    {
     "name": "stdout",
     "output_type": "stream",
     "text": [
      "\n",
      "      Epoch    GPU_mem   box_loss   cls_loss   dfl_loss  Instances       Size\n"
     ]
    },
    {
     "name": "stderr",
     "output_type": "stream",
     "text": [
      "   464/1000      6.72G     0.1392    0.09509     0.7593        334        736: 100%|██████████| 42/42 [00:08<00:00,  5.08it/s]\n"
     ]
    },
    {
     "name": "stdout",
     "output_type": "stream",
     "text": [
      "\n",
      "      Epoch    GPU_mem   box_loss   cls_loss   dfl_loss  Instances       Size\n"
     ]
    },
    {
     "name": "stderr",
     "output_type": "stream",
     "text": [
      "   465/1000      6.72G     0.1359    0.09298     0.7592        287        736: 100%|██████████| 42/42 [00:08<00:00,  5.05it/s]\n"
     ]
    },
    {
     "name": "stdout",
     "output_type": "stream",
     "text": [
      "\n",
      "      Epoch    GPU_mem   box_loss   cls_loss   dfl_loss  Instances       Size\n"
     ]
    },
    {
     "name": "stderr",
     "output_type": "stream",
     "text": [
      "   466/1000      6.77G     0.1369    0.09504     0.7609        250        736: 100%|██████████| 42/42 [00:08<00:00,  5.10it/s]\n"
     ]
    },
    {
     "name": "stdout",
     "output_type": "stream",
     "text": [
      "\n",
      "      Epoch    GPU_mem   box_loss   cls_loss   dfl_loss  Instances       Size\n"
     ]
    },
    {
     "name": "stderr",
     "output_type": "stream",
     "text": [
      "   467/1000      6.65G     0.1364    0.09525     0.7598        366        736: 100%|██████████| 42/42 [00:08<00:00,  5.11it/s]\n"
     ]
    },
    {
     "name": "stdout",
     "output_type": "stream",
     "text": [
      "\n",
      "      Epoch    GPU_mem   box_loss   cls_loss   dfl_loss  Instances       Size\n"
     ]
    },
    {
     "name": "stderr",
     "output_type": "stream",
     "text": [
      "   468/1000       6.5G     0.1314    0.09097     0.7579        309        736: 100%|██████████| 42/42 [00:08<00:00,  5.03it/s]\n"
     ]
    },
    {
     "name": "stdout",
     "output_type": "stream",
     "text": [
      "\n",
      "      Epoch    GPU_mem   box_loss   cls_loss   dfl_loss  Instances       Size\n"
     ]
    },
    {
     "name": "stderr",
     "output_type": "stream",
     "text": [
      "   469/1000      6.73G     0.1349    0.09245     0.7604        236        736: 100%|██████████| 42/42 [00:08<00:00,  5.10it/s]\n"
     ]
    },
    {
     "name": "stdout",
     "output_type": "stream",
     "text": [
      "\n",
      "      Epoch    GPU_mem   box_loss   cls_loss   dfl_loss  Instances       Size\n"
     ]
    },
    {
     "name": "stderr",
     "output_type": "stream",
     "text": [
      "   470/1000      6.71G     0.1325    0.09139     0.7603        292        736: 100%|██████████| 42/42 [00:08<00:00,  5.09it/s]\n"
     ]
    },
    {
     "name": "stdout",
     "output_type": "stream",
     "text": [
      "\n",
      "      Epoch    GPU_mem   box_loss   cls_loss   dfl_loss  Instances       Size\n"
     ]
    },
    {
     "name": "stderr",
     "output_type": "stream",
     "text": [
      "   471/1000      6.55G     0.1353    0.09243     0.7599        288        736: 100%|██████████| 42/42 [00:08<00:00,  5.11it/s]\n"
     ]
    },
    {
     "name": "stdout",
     "output_type": "stream",
     "text": [
      "\n",
      "      Epoch    GPU_mem   box_loss   cls_loss   dfl_loss  Instances       Size\n"
     ]
    },
    {
     "name": "stderr",
     "output_type": "stream",
     "text": [
      "   472/1000      6.71G     0.1365    0.09362     0.7594        220        736: 100%|██████████| 42/42 [00:08<00:00,  5.08it/s]\n"
     ]
    },
    {
     "name": "stdout",
     "output_type": "stream",
     "text": [
      "\n",
      "      Epoch    GPU_mem   box_loss   cls_loss   dfl_loss  Instances       Size\n"
     ]
    },
    {
     "name": "stderr",
     "output_type": "stream",
     "text": [
      "   473/1000      6.52G     0.1349    0.09284     0.7607        232        736: 100%|██████████| 42/42 [00:08<00:00,  5.10it/s]\n"
     ]
    },
    {
     "name": "stdout",
     "output_type": "stream",
     "text": [
      "\n",
      "      Epoch    GPU_mem   box_loss   cls_loss   dfl_loss  Instances       Size\n"
     ]
    },
    {
     "name": "stderr",
     "output_type": "stream",
     "text": [
      "   474/1000      6.65G     0.1333    0.09286     0.7584        292        736: 100%|██████████| 42/42 [00:08<00:00,  5.04it/s]\n"
     ]
    },
    {
     "name": "stdout",
     "output_type": "stream",
     "text": [
      "\n",
      "      Epoch    GPU_mem   box_loss   cls_loss   dfl_loss  Instances       Size\n"
     ]
    },
    {
     "name": "stderr",
     "output_type": "stream",
     "text": [
      "   475/1000      6.72G     0.1303    0.09002     0.7596        355        736: 100%|██████████| 42/42 [00:08<00:00,  5.08it/s]\n"
     ]
    },
    {
     "name": "stdout",
     "output_type": "stream",
     "text": [
      "\n",
      "      Epoch    GPU_mem   box_loss   cls_loss   dfl_loss  Instances       Size\n"
     ]
    },
    {
     "name": "stderr",
     "output_type": "stream",
     "text": [
      "   476/1000      6.72G      0.132    0.08986     0.7613        304        736: 100%|██████████| 42/42 [00:08<00:00,  5.08it/s]\n"
     ]
    },
    {
     "name": "stdout",
     "output_type": "stream",
     "text": [
      "\n",
      "      Epoch    GPU_mem   box_loss   cls_loss   dfl_loss  Instances       Size\n"
     ]
    },
    {
     "name": "stderr",
     "output_type": "stream",
     "text": [
      "   477/1000      6.51G       0.14    0.09678     0.7621        300        736: 100%|██████████| 42/42 [00:08<00:00,  5.09it/s]\n"
     ]
    },
    {
     "name": "stdout",
     "output_type": "stream",
     "text": [
      "\n",
      "      Epoch    GPU_mem   box_loss   cls_loss   dfl_loss  Instances       Size\n"
     ]
    },
    {
     "name": "stderr",
     "output_type": "stream",
     "text": [
      "   478/1000      6.71G     0.1397     0.0979     0.7601        311        736: 100%|██████████| 42/42 [00:08<00:00,  5.06it/s]\n"
     ]
    },
    {
     "name": "stdout",
     "output_type": "stream",
     "text": [
      "\n",
      "      Epoch    GPU_mem   box_loss   cls_loss   dfl_loss  Instances       Size\n"
     ]
    },
    {
     "name": "stderr",
     "output_type": "stream",
     "text": [
      "   479/1000      6.66G     0.1383     0.0977     0.7598        274        736: 100%|██████████| 42/42 [00:08<00:00,  5.09it/s]\n"
     ]
    },
    {
     "name": "stdout",
     "output_type": "stream",
     "text": [
      "\n",
      "      Epoch    GPU_mem   box_loss   cls_loss   dfl_loss  Instances       Size\n"
     ]
    },
    {
     "name": "stderr",
     "output_type": "stream",
     "text": [
      "   480/1000       6.6G     0.1411     0.1004     0.7578        284        736: 100%|██████████| 42/42 [00:08<00:00,  5.08it/s]\n"
     ]
    },
    {
     "name": "stdout",
     "output_type": "stream",
     "text": [
      "\n",
      "      Epoch    GPU_mem   box_loss   cls_loss   dfl_loss  Instances       Size\n"
     ]
    },
    {
     "name": "stderr",
     "output_type": "stream",
     "text": [
      "   481/1000      6.69G     0.1452     0.1048     0.7593        348        736: 100%|██████████| 42/42 [00:08<00:00,  5.05it/s]\n"
     ]
    },
    {
     "name": "stdout",
     "output_type": "stream",
     "text": [
      "\n",
      "      Epoch    GPU_mem   box_loss   cls_loss   dfl_loss  Instances       Size\n"
     ]
    },
    {
     "name": "stderr",
     "output_type": "stream",
     "text": [
      "   482/1000      6.79G     0.1451     0.1041     0.7601        226        736: 100%|██████████| 42/42 [00:08<00:00,  5.10it/s]\n"
     ]
    },
    {
     "name": "stdout",
     "output_type": "stream",
     "text": [
      "\n",
      "      Epoch    GPU_mem   box_loss   cls_loss   dfl_loss  Instances       Size\n"
     ]
    },
    {
     "name": "stderr",
     "output_type": "stream",
     "text": [
      "   483/1000      6.53G      0.145     0.1022     0.7593        294        736: 100%|██████████| 42/42 [00:08<00:00,  5.11it/s]\n"
     ]
    },
    {
     "name": "stdout",
     "output_type": "stream",
     "text": [
      "\n",
      "      Epoch    GPU_mem   box_loss   cls_loss   dfl_loss  Instances       Size\n"
     ]
    },
    {
     "name": "stderr",
     "output_type": "stream",
     "text": [
      "   484/1000      6.71G     0.1439     0.1014     0.7593        402        736: 100%|██████████| 42/42 [00:08<00:00,  5.11it/s]\n"
     ]
    },
    {
     "name": "stdout",
     "output_type": "stream",
     "text": [
      "\n",
      "      Epoch    GPU_mem   box_loss   cls_loss   dfl_loss  Instances       Size\n"
     ]
    },
    {
     "name": "stderr",
     "output_type": "stream",
     "text": [
      "   485/1000      6.72G     0.1393    0.09819     0.7609        309        736: 100%|██████████| 42/42 [00:08<00:00,  5.08it/s]\n"
     ]
    },
    {
     "name": "stdout",
     "output_type": "stream",
     "text": [
      "\n",
      "      Epoch    GPU_mem   box_loss   cls_loss   dfl_loss  Instances       Size\n"
     ]
    },
    {
     "name": "stderr",
     "output_type": "stream",
     "text": [
      "   486/1000      6.48G     0.1376    0.09663     0.7594        291        736: 100%|██████████| 42/42 [00:08<00:00,  5.05it/s]\n"
     ]
    },
    {
     "name": "stdout",
     "output_type": "stream",
     "text": [
      "\n",
      "      Epoch    GPU_mem   box_loss   cls_loss   dfl_loss  Instances       Size\n"
     ]
    },
    {
     "name": "stderr",
     "output_type": "stream",
     "text": [
      "   487/1000      6.72G     0.1411    0.09807     0.7596        388        736: 100%|██████████| 42/42 [00:08<00:00,  5.11it/s]\n"
     ]
    },
    {
     "name": "stdout",
     "output_type": "stream",
     "text": [
      "\n",
      "      Epoch    GPU_mem   box_loss   cls_loss   dfl_loss  Instances       Size\n"
     ]
    },
    {
     "name": "stderr",
     "output_type": "stream",
     "text": [
      "   488/1000      6.72G     0.1393    0.09747     0.7581        256        736: 100%|██████████| 42/42 [00:08<00:00,  5.11it/s]\n"
     ]
    },
    {
     "name": "stdout",
     "output_type": "stream",
     "text": [
      "\n",
      "      Epoch    GPU_mem   box_loss   cls_loss   dfl_loss  Instances       Size\n"
     ]
    },
    {
     "name": "stderr",
     "output_type": "stream",
     "text": [
      "   489/1000      6.55G     0.1363    0.09604       0.76        275        736: 100%|██████████| 42/42 [00:08<00:00,  5.10it/s]\n"
     ]
    },
    {
     "name": "stdout",
     "output_type": "stream",
     "text": [
      "\n",
      "      Epoch    GPU_mem   box_loss   cls_loss   dfl_loss  Instances       Size\n"
     ]
    },
    {
     "name": "stderr",
     "output_type": "stream",
     "text": [
      "   490/1000      6.71G     0.1403    0.09815     0.7586        389        736: 100%|██████████| 42/42 [00:08<00:00,  5.09it/s]\n"
     ]
    },
    {
     "name": "stdout",
     "output_type": "stream",
     "text": [
      "\n",
      "      Epoch    GPU_mem   box_loss   cls_loss   dfl_loss  Instances       Size\n"
     ]
    },
    {
     "name": "stderr",
     "output_type": "stream",
     "text": [
      "   491/1000      6.72G     0.1372    0.09794     0.7584        290        736: 100%|██████████| 42/42 [00:08<00:00,  5.10it/s]\n"
     ]
    },
    {
     "name": "stdout",
     "output_type": "stream",
     "text": [
      "\n",
      "      Epoch    GPU_mem   box_loss   cls_loss   dfl_loss  Instances       Size\n"
     ]
    },
    {
     "name": "stderr",
     "output_type": "stream",
     "text": [
      "   492/1000      6.52G     0.1388    0.09621     0.7602        356        736: 100%|██████████| 42/42 [00:08<00:00,  5.11it/s]\n"
     ]
    },
    {
     "name": "stdout",
     "output_type": "stream",
     "text": [
      "\n",
      "      Epoch    GPU_mem   box_loss   cls_loss   dfl_loss  Instances       Size\n"
     ]
    },
    {
     "name": "stderr",
     "output_type": "stream",
     "text": [
      "   493/1000      6.78G     0.1377    0.09599     0.7584        276        736: 100%|██████████| 42/42 [00:08<00:00,  5.11it/s]\n"
     ]
    },
    {
     "name": "stdout",
     "output_type": "stream",
     "text": [
      "\n",
      "      Epoch    GPU_mem   box_loss   cls_loss   dfl_loss  Instances       Size\n"
     ]
    },
    {
     "name": "stderr",
     "output_type": "stream",
     "text": [
      "   494/1000      6.49G     0.1373    0.09542      0.759        269        736: 100%|██████████| 42/42 [00:08<00:00,  5.09it/s]\n"
     ]
    },
    {
     "name": "stdout",
     "output_type": "stream",
     "text": [
      "\n",
      "      Epoch    GPU_mem   box_loss   cls_loss   dfl_loss  Instances       Size\n"
     ]
    },
    {
     "name": "stderr",
     "output_type": "stream",
     "text": [
      "   495/1000       6.5G     0.1342    0.09414     0.7615        261        736: 100%|██████████| 42/42 [00:08<00:00,  5.06it/s]\n"
     ]
    },
    {
     "name": "stdout",
     "output_type": "stream",
     "text": [
      "\n",
      "      Epoch    GPU_mem   box_loss   cls_loss   dfl_loss  Instances       Size\n"
     ]
    },
    {
     "name": "stderr",
     "output_type": "stream",
     "text": [
      "   496/1000      6.71G     0.1344    0.09514     0.7606        310        736: 100%|██████████| 42/42 [00:08<00:00,  5.09it/s]\n"
     ]
    },
    {
     "name": "stdout",
     "output_type": "stream",
     "text": [
      "\n",
      "      Epoch    GPU_mem   box_loss   cls_loss   dfl_loss  Instances       Size\n"
     ]
    },
    {
     "name": "stderr",
     "output_type": "stream",
     "text": [
      "   497/1000      6.73G     0.1347    0.09472     0.7597        389        736: 100%|██████████| 42/42 [00:08<00:00,  5.09it/s]\n"
     ]
    },
    {
     "name": "stdout",
     "output_type": "stream",
     "text": [
      "\n",
      "      Epoch    GPU_mem   box_loss   cls_loss   dfl_loss  Instances       Size\n"
     ]
    },
    {
     "name": "stderr",
     "output_type": "stream",
     "text": [
      "   498/1000      6.64G     0.1316    0.09185     0.7598        239        736: 100%|██████████| 42/42 [00:08<00:00,  5.05it/s]\n"
     ]
    },
    {
     "name": "stdout",
     "output_type": "stream",
     "text": [
      "\n",
      "      Epoch    GPU_mem   box_loss   cls_loss   dfl_loss  Instances       Size\n"
     ]
    },
    {
     "name": "stderr",
     "output_type": "stream",
     "text": [
      "   499/1000      6.53G     0.1346    0.09313     0.7604        349        736: 100%|██████████| 42/42 [00:08<00:00,  5.09it/s]\n"
     ]
    },
    {
     "name": "stdout",
     "output_type": "stream",
     "text": [
      "\n",
      "      Epoch    GPU_mem   box_loss   cls_loss   dfl_loss  Instances       Size\n"
     ]
    },
    {
     "name": "stderr",
     "output_type": "stream",
     "text": [
      "   500/1000      6.78G     0.1343    0.09405     0.7599        286        736: 100%|██████████| 42/42 [00:08<00:00,  5.10it/s]\n"
     ]
    },
    {
     "name": "stdout",
     "output_type": "stream",
     "text": [
      "\n",
      "      Epoch    GPU_mem   box_loss   cls_loss   dfl_loss  Instances       Size\n"
     ]
    },
    {
     "name": "stderr",
     "output_type": "stream",
     "text": [
      "   501/1000      6.75G     0.1347    0.09552     0.7593        280        736: 100%|██████████| 42/42 [00:08<00:00,  5.08it/s]\n"
     ]
    },
    {
     "name": "stdout",
     "output_type": "stream",
     "text": [
      "\n",
      "      Epoch    GPU_mem   box_loss   cls_loss   dfl_loss  Instances       Size\n"
     ]
    },
    {
     "name": "stderr",
     "output_type": "stream",
     "text": [
      "   502/1000      6.72G     0.1366    0.09522     0.7599        226        736: 100%|██████████| 42/42 [00:08<00:00,  5.11it/s]\n"
     ]
    },
    {
     "name": "stdout",
     "output_type": "stream",
     "text": [
      "\n",
      "      Epoch    GPU_mem   box_loss   cls_loss   dfl_loss  Instances       Size\n"
     ]
    },
    {
     "name": "stderr",
     "output_type": "stream",
     "text": [
      "   503/1000      6.77G     0.1349    0.09357     0.7586        271        736: 100%|██████████| 42/42 [00:08<00:00,  5.09it/s]\n"
     ]
    },
    {
     "name": "stdout",
     "output_type": "stream",
     "text": [
      "\n",
      "      Epoch    GPU_mem   box_loss   cls_loss   dfl_loss  Instances       Size\n"
     ]
    },
    {
     "name": "stderr",
     "output_type": "stream",
     "text": [
      "   504/1000      6.65G     0.1318    0.09056     0.7593        343        736: 100%|██████████| 42/42 [00:08<00:00,  5.10it/s]\n"
     ]
    },
    {
     "name": "stdout",
     "output_type": "stream",
     "text": [
      "\n",
      "      Epoch    GPU_mem   box_loss   cls_loss   dfl_loss  Instances       Size\n"
     ]
    },
    {
     "name": "stderr",
     "output_type": "stream",
     "text": [
      "   505/1000      6.72G     0.1327    0.09155     0.7587        338        736: 100%|██████████| 42/42 [00:08<00:00,  5.09it/s]\n"
     ]
    },
    {
     "name": "stdout",
     "output_type": "stream",
     "text": [
      "\n",
      "      Epoch    GPU_mem   box_loss   cls_loss   dfl_loss  Instances       Size\n"
     ]
    },
    {
     "name": "stderr",
     "output_type": "stream",
     "text": [
      "   506/1000      6.78G     0.1354    0.09339      0.759        216        736: 100%|██████████| 42/42 [00:08<00:00,  5.09it/s]\n"
     ]
    },
    {
     "name": "stdout",
     "output_type": "stream",
     "text": [
      "\n",
      "      Epoch    GPU_mem   box_loss   cls_loss   dfl_loss  Instances       Size\n"
     ]
    },
    {
     "name": "stderr",
     "output_type": "stream",
     "text": [
      "   507/1000      6.62G     0.1388    0.09647     0.7593        376        736: 100%|██████████| 42/42 [00:08<00:00,  5.06it/s]\n"
     ]
    },
    {
     "name": "stdout",
     "output_type": "stream",
     "text": [
      "\n",
      "      Epoch    GPU_mem   box_loss   cls_loss   dfl_loss  Instances       Size\n"
     ]
    },
    {
     "name": "stderr",
     "output_type": "stream",
     "text": [
      "   508/1000      6.74G     0.1425    0.09845     0.7594        282        736: 100%|██████████| 42/42 [00:08<00:00,  5.10it/s]\n"
     ]
    },
    {
     "name": "stdout",
     "output_type": "stream",
     "text": [
      "\n",
      "      Epoch    GPU_mem   box_loss   cls_loss   dfl_loss  Instances       Size\n"
     ]
    },
    {
     "name": "stderr",
     "output_type": "stream",
     "text": [
      "   509/1000      6.71G      0.138    0.09566     0.7595        320        736: 100%|██████████| 42/42 [00:08<00:00,  5.10it/s]\n"
     ]
    },
    {
     "name": "stdout",
     "output_type": "stream",
     "text": [
      "\n",
      "      Epoch    GPU_mem   box_loss   cls_loss   dfl_loss  Instances       Size\n"
     ]
    },
    {
     "name": "stderr",
     "output_type": "stream",
     "text": [
      "   510/1000      6.47G     0.1398    0.09651     0.7573        215        736: 100%|██████████| 42/42 [00:08<00:00,  5.11it/s]\n"
     ]
    },
    {
     "name": "stdout",
     "output_type": "stream",
     "text": [
      "\n",
      "      Epoch    GPU_mem   box_loss   cls_loss   dfl_loss  Instances       Size\n"
     ]
    },
    {
     "name": "stderr",
     "output_type": "stream",
     "text": [
      "   511/1000      6.65G     0.1352    0.09359     0.7592        296        736: 100%|██████████| 42/42 [00:08<00:00,  5.09it/s]\n"
     ]
    },
    {
     "name": "stdout",
     "output_type": "stream",
     "text": [
      "\n",
      "      Epoch    GPU_mem   box_loss   cls_loss   dfl_loss  Instances       Size\n"
     ]
    },
    {
     "name": "stderr",
     "output_type": "stream",
     "text": [
      "   512/1000      6.44G     0.1432    0.09938     0.7599        232        736: 100%|██████████| 42/42 [00:08<00:00,  5.10it/s]\n"
     ]
    },
    {
     "name": "stdout",
     "output_type": "stream",
     "text": [
      "\n",
      "      Epoch    GPU_mem   box_loss   cls_loss   dfl_loss  Instances       Size\n"
     ]
    },
    {
     "name": "stderr",
     "output_type": "stream",
     "text": [
      "   513/1000       6.7G     0.1367    0.09388     0.7591        305        736: 100%|██████████| 42/42 [00:08<00:00,  5.11it/s]\n"
     ]
    },
    {
     "name": "stdout",
     "output_type": "stream",
     "text": [
      "\n",
      "      Epoch    GPU_mem   box_loss   cls_loss   dfl_loss  Instances       Size\n"
     ]
    },
    {
     "name": "stderr",
     "output_type": "stream",
     "text": [
      "   514/1000      6.78G     0.1487     0.1006     0.7603        381        736: 100%|██████████| 42/42 [00:08<00:00,  5.10it/s]\n"
     ]
    },
    {
     "name": "stdout",
     "output_type": "stream",
     "text": [
      "\n",
      "      Epoch    GPU_mem   box_loss   cls_loss   dfl_loss  Instances       Size\n"
     ]
    },
    {
     "name": "stderr",
     "output_type": "stream",
     "text": [
      "   515/1000      6.66G     0.1448    0.09869     0.7612        261        736: 100%|██████████| 42/42 [00:08<00:00,  5.08it/s]\n"
     ]
    },
    {
     "name": "stdout",
     "output_type": "stream",
     "text": [
      "\n",
      "      Epoch    GPU_mem   box_loss   cls_loss   dfl_loss  Instances       Size\n"
     ]
    },
    {
     "name": "stderr",
     "output_type": "stream",
     "text": [
      "   516/1000      6.77G     0.1422    0.09706     0.7604        424        736: 100%|██████████| 42/42 [00:08<00:00,  5.10it/s]\n"
     ]
    },
    {
     "name": "stdout",
     "output_type": "stream",
     "text": [
      "\n",
      "      Epoch    GPU_mem   box_loss   cls_loss   dfl_loss  Instances       Size\n"
     ]
    },
    {
     "name": "stderr",
     "output_type": "stream",
     "text": [
      "   517/1000       6.6G     0.1373    0.09303     0.7596        318        736: 100%|██████████| 42/42 [00:08<00:00,  5.08it/s]\n"
     ]
    },
    {
     "name": "stdout",
     "output_type": "stream",
     "text": [
      "\n",
      "      Epoch    GPU_mem   box_loss   cls_loss   dfl_loss  Instances       Size\n"
     ]
    },
    {
     "name": "stderr",
     "output_type": "stream",
     "text": [
      "   518/1000      6.71G     0.1333    0.09014     0.7604        295        736: 100%|██████████| 42/42 [00:08<00:00,  5.10it/s]\n"
     ]
    },
    {
     "name": "stdout",
     "output_type": "stream",
     "text": [
      "\n",
      "      Epoch    GPU_mem   box_loss   cls_loss   dfl_loss  Instances       Size\n"
     ]
    },
    {
     "name": "stderr",
     "output_type": "stream",
     "text": [
      "   519/1000      6.62G     0.1307    0.09023     0.7592        281        736: 100%|██████████| 42/42 [00:08<00:00,  5.10it/s]\n"
     ]
    },
    {
     "name": "stdout",
     "output_type": "stream",
     "text": [
      "\n",
      "      Epoch    GPU_mem   box_loss   cls_loss   dfl_loss  Instances       Size\n"
     ]
    },
    {
     "name": "stderr",
     "output_type": "stream",
     "text": [
      "   520/1000      6.69G     0.1295    0.08837     0.7575        245        736: 100%|██████████| 42/42 [00:08<00:00,  5.09it/s]\n"
     ]
    },
    {
     "name": "stdout",
     "output_type": "stream",
     "text": [
      "\n",
      "      Epoch    GPU_mem   box_loss   cls_loss   dfl_loss  Instances       Size\n"
     ]
    },
    {
     "name": "stderr",
     "output_type": "stream",
     "text": [
      "   521/1000      6.71G      0.129    0.08797     0.7598        327        736: 100%|██████████| 42/42 [00:08<00:00,  5.10it/s]\n"
     ]
    },
    {
     "name": "stdout",
     "output_type": "stream",
     "text": [
      "\n",
      "      Epoch    GPU_mem   box_loss   cls_loss   dfl_loss  Instances       Size\n"
     ]
    },
    {
     "name": "stderr",
     "output_type": "stream",
     "text": [
      "   522/1000      6.48G     0.1344    0.09081       0.76        232        736: 100%|██████████| 42/42 [00:08<00:00,  5.11it/s]\n"
     ]
    },
    {
     "name": "stdout",
     "output_type": "stream",
     "text": [
      "\n",
      "      Epoch    GPU_mem   box_loss   cls_loss   dfl_loss  Instances       Size\n"
     ]
    },
    {
     "name": "stderr",
     "output_type": "stream",
     "text": [
      "   523/1000      6.71G     0.1347    0.09107       0.76        271        736: 100%|██████████| 42/42 [00:08<00:00,  5.10it/s]\n"
     ]
    },
    {
     "name": "stdout",
     "output_type": "stream",
     "text": [
      "\n",
      "      Epoch    GPU_mem   box_loss   cls_loss   dfl_loss  Instances       Size\n"
     ]
    },
    {
     "name": "stderr",
     "output_type": "stream",
     "text": [
      "   524/1000      6.66G     0.1328    0.09021     0.7589        220        736: 100%|██████████| 42/42 [00:08<00:00,  5.09it/s]\n"
     ]
    },
    {
     "name": "stdout",
     "output_type": "stream",
     "text": [
      "\n",
      "      Epoch    GPU_mem   box_loss   cls_loss   dfl_loss  Instances       Size\n"
     ]
    },
    {
     "name": "stderr",
     "output_type": "stream",
     "text": [
      "   525/1000      6.46G     0.1392     0.0948     0.7596        413        736: 100%|██████████| 42/42 [00:08<00:00,  5.09it/s]\n"
     ]
    },
    {
     "name": "stdout",
     "output_type": "stream",
     "text": [
      "\n",
      "      Epoch    GPU_mem   box_loss   cls_loss   dfl_loss  Instances       Size\n"
     ]
    },
    {
     "name": "stderr",
     "output_type": "stream",
     "text": [
      "   526/1000      6.56G     0.1429    0.09712     0.7585        229        736: 100%|██████████| 42/42 [00:08<00:00,  5.11it/s]\n"
     ]
    },
    {
     "name": "stdout",
     "output_type": "stream",
     "text": [
      "\n",
      "      Epoch    GPU_mem   box_loss   cls_loss   dfl_loss  Instances       Size\n"
     ]
    },
    {
     "name": "stderr",
     "output_type": "stream",
     "text": [
      "   527/1000      6.62G     0.1392     0.0948     0.7592        250        736: 100%|██████████| 42/42 [00:08<00:00,  5.10it/s]\n"
     ]
    },
    {
     "name": "stdout",
     "output_type": "stream",
     "text": [
      "\n",
      "      Epoch    GPU_mem   box_loss   cls_loss   dfl_loss  Instances       Size\n"
     ]
    },
    {
     "name": "stderr",
     "output_type": "stream",
     "text": [
      "   528/1000      6.77G     0.1345    0.09138     0.7601        220        736: 100%|██████████| 42/42 [00:08<00:00,  5.12it/s]\n"
     ]
    },
    {
     "name": "stdout",
     "output_type": "stream",
     "text": [
      "\n",
      "      Epoch    GPU_mem   box_loss   cls_loss   dfl_loss  Instances       Size\n"
     ]
    },
    {
     "name": "stderr",
     "output_type": "stream",
     "text": [
      "   529/1000      6.72G     0.1283    0.08718     0.7594        326        736: 100%|██████████| 42/42 [00:08<00:00,  5.10it/s]\n"
     ]
    },
    {
     "name": "stdout",
     "output_type": "stream",
     "text": [
      "\n",
      "      Epoch    GPU_mem   box_loss   cls_loss   dfl_loss  Instances       Size\n"
     ]
    },
    {
     "name": "stderr",
     "output_type": "stream",
     "text": [
      "   530/1000      6.71G     0.1296    0.08723      0.761        355        736: 100%|██████████| 42/42 [00:08<00:00,  5.04it/s]\n"
     ]
    },
    {
     "name": "stdout",
     "output_type": "stream",
     "text": [
      "\n",
      "      Epoch    GPU_mem   box_loss   cls_loss   dfl_loss  Instances       Size\n"
     ]
    },
    {
     "name": "stderr",
     "output_type": "stream",
     "text": [
      "   531/1000      6.78G     0.1453    0.09709     0.7584        291        736: 100%|██████████| 42/42 [00:08<00:00,  5.05it/s]\n"
     ]
    },
    {
     "name": "stdout",
     "output_type": "stream",
     "text": [
      "\n",
      "      Epoch    GPU_mem   box_loss   cls_loss   dfl_loss  Instances       Size\n"
     ]
    },
    {
     "name": "stderr",
     "output_type": "stream",
     "text": [
      "   532/1000      6.72G     0.1436    0.09495     0.7592        254        736: 100%|██████████| 42/42 [00:08<00:00,  5.11it/s]\n"
     ]
    },
    {
     "name": "stdout",
     "output_type": "stream",
     "text": [
      "\n",
      "      Epoch    GPU_mem   box_loss   cls_loss   dfl_loss  Instances       Size\n"
     ]
    },
    {
     "name": "stderr",
     "output_type": "stream",
     "text": [
      "   533/1000      6.75G     0.1491    0.09919       0.76        236        736: 100%|██████████| 42/42 [00:08<00:00,  5.08it/s]\n"
     ]
    },
    {
     "name": "stdout",
     "output_type": "stream",
     "text": [
      "\n",
      "      Epoch    GPU_mem   box_loss   cls_loss   dfl_loss  Instances       Size\n"
     ]
    },
    {
     "name": "stderr",
     "output_type": "stream",
     "text": [
      "   534/1000      6.49G     0.1395    0.09458     0.7585        280        736: 100%|██████████| 42/42 [00:08<00:00,  5.06it/s]\n"
     ]
    },
    {
     "name": "stdout",
     "output_type": "stream",
     "text": [
      "\n",
      "      Epoch    GPU_mem   box_loss   cls_loss   dfl_loss  Instances       Size\n"
     ]
    },
    {
     "name": "stderr",
     "output_type": "stream",
     "text": [
      "   535/1000       6.6G     0.1358    0.09374     0.7596        282        736: 100%|██████████| 42/42 [00:08<00:00,  5.09it/s]\n"
     ]
    },
    {
     "name": "stdout",
     "output_type": "stream",
     "text": [
      "\n",
      "      Epoch    GPU_mem   box_loss   cls_loss   dfl_loss  Instances       Size\n"
     ]
    },
    {
     "name": "stderr",
     "output_type": "stream",
     "text": [
      "   536/1000      6.59G     0.1363    0.09255     0.7596        306        736: 100%|██████████| 42/42 [00:08<00:00,  5.09it/s]\n"
     ]
    },
    {
     "name": "stdout",
     "output_type": "stream",
     "text": [
      "\n",
      "      Epoch    GPU_mem   box_loss   cls_loss   dfl_loss  Instances       Size\n"
     ]
    },
    {
     "name": "stderr",
     "output_type": "stream",
     "text": [
      "   537/1000      6.62G      0.132    0.08946     0.7591        232        736: 100%|██████████| 42/42 [00:08<00:00,  5.08it/s]\n"
     ]
    },
    {
     "name": "stdout",
     "output_type": "stream",
     "text": [
      "\n",
      "      Epoch    GPU_mem   box_loss   cls_loss   dfl_loss  Instances       Size\n"
     ]
    },
    {
     "name": "stderr",
     "output_type": "stream",
     "text": [
      "   538/1000      6.57G     0.1323       0.09     0.7599        288        736: 100%|██████████| 42/42 [00:08<00:00,  5.03it/s]\n"
     ]
    },
    {
     "name": "stdout",
     "output_type": "stream",
     "text": [
      "\n",
      "      Epoch    GPU_mem   box_loss   cls_loss   dfl_loss  Instances       Size\n"
     ]
    },
    {
     "name": "stderr",
     "output_type": "stream",
     "text": [
      "   539/1000      6.72G     0.1343    0.09084     0.7585        452        736: 100%|██████████| 42/42 [00:08<00:00,  5.05it/s]\n"
     ]
    },
    {
     "name": "stdout",
     "output_type": "stream",
     "text": [
      "\n",
      "      Epoch    GPU_mem   box_loss   cls_loss   dfl_loss  Instances       Size\n"
     ]
    },
    {
     "name": "stderr",
     "output_type": "stream",
     "text": [
      "   540/1000      6.72G     0.1364     0.0935     0.7599        261        736: 100%|██████████| 42/42 [00:08<00:00,  5.10it/s]\n"
     ]
    },
    {
     "name": "stdout",
     "output_type": "stream",
     "text": [
      "\n",
      "      Epoch    GPU_mem   box_loss   cls_loss   dfl_loss  Instances       Size\n"
     ]
    },
    {
     "name": "stderr",
     "output_type": "stream",
     "text": [
      "   541/1000      6.61G      0.136    0.09468     0.7583        234        736: 100%|██████████| 42/42 [00:08<00:00,  5.08it/s]\n"
     ]
    },
    {
     "name": "stdout",
     "output_type": "stream",
     "text": [
      "\n",
      "      Epoch    GPU_mem   box_loss   cls_loss   dfl_loss  Instances       Size\n"
     ]
    },
    {
     "name": "stderr",
     "output_type": "stream",
     "text": [
      "   542/1000      6.71G      0.137    0.09312     0.7594        254        736: 100%|██████████| 42/42 [00:08<00:00,  5.09it/s]\n"
     ]
    },
    {
     "name": "stdout",
     "output_type": "stream",
     "text": [
      "\n",
      "      Epoch    GPU_mem   box_loss   cls_loss   dfl_loss  Instances       Size\n"
     ]
    },
    {
     "name": "stderr",
     "output_type": "stream",
     "text": [
      "   543/1000       6.7G     0.1318    0.09003     0.7594        202        736: 100%|██████████| 42/42 [00:08<00:00,  5.08it/s]\n"
     ]
    },
    {
     "name": "stdout",
     "output_type": "stream",
     "text": [
      "\n",
      "      Epoch    GPU_mem   box_loss   cls_loss   dfl_loss  Instances       Size\n"
     ]
    },
    {
     "name": "stderr",
     "output_type": "stream",
     "text": [
      "   544/1000      6.63G     0.1413    0.09558     0.7584        254        736: 100%|██████████| 42/42 [00:08<00:00,  5.10it/s]\n"
     ]
    },
    {
     "name": "stdout",
     "output_type": "stream",
     "text": [
      "\n",
      "      Epoch    GPU_mem   box_loss   cls_loss   dfl_loss  Instances       Size\n"
     ]
    },
    {
     "name": "stderr",
     "output_type": "stream",
     "text": [
      "   545/1000      6.78G     0.1421    0.09828      0.758        249        736: 100%|██████████| 42/42 [00:08<00:00,  5.07it/s]\n"
     ]
    },
    {
     "name": "stdout",
     "output_type": "stream",
     "text": [
      "\n",
      "      Epoch    GPU_mem   box_loss   cls_loss   dfl_loss  Instances       Size\n"
     ]
    },
    {
     "name": "stderr",
     "output_type": "stream",
     "text": [
      "   546/1000      6.63G     0.1438    0.09714     0.7598        227        736: 100%|██████████| 42/42 [00:08<00:00,  5.09it/s]\n"
     ]
    },
    {
     "name": "stdout",
     "output_type": "stream",
     "text": [
      "\n",
      "      Epoch    GPU_mem   box_loss   cls_loss   dfl_loss  Instances       Size\n"
     ]
    },
    {
     "name": "stderr",
     "output_type": "stream",
     "text": [
      "   547/1000      6.72G     0.1384    0.09431     0.7587        239        736: 100%|██████████| 42/42 [00:08<00:00,  5.09it/s]\n"
     ]
    },
    {
     "name": "stdout",
     "output_type": "stream",
     "text": [
      "\n",
      "      Epoch    GPU_mem   box_loss   cls_loss   dfl_loss  Instances       Size\n"
     ]
    },
    {
     "name": "stderr",
     "output_type": "stream",
     "text": [
      "   548/1000      6.72G        inf    0.09283     0.7593        248        736: 100%|██████████| 42/42 [00:08<00:00,  5.07it/s]\n"
     ]
    },
    {
     "name": "stdout",
     "output_type": "stream",
     "text": [
      "\n",
      "      Epoch    GPU_mem   box_loss   cls_loss   dfl_loss  Instances       Size\n"
     ]
    },
    {
     "name": "stderr",
     "output_type": "stream",
     "text": [
      "   549/1000      6.71G     0.1408     0.0959     0.7614        357        736: 100%|██████████| 42/42 [00:08<00:00,  5.10it/s]\n"
     ]
    },
    {
     "name": "stdout",
     "output_type": "stream",
     "text": [
      "\n",
      "      Epoch    GPU_mem   box_loss   cls_loss   dfl_loss  Instances       Size\n"
     ]
    },
    {
     "name": "stderr",
     "output_type": "stream",
     "text": [
      "   550/1000      6.67G     0.1355    0.09158     0.7597        282        736: 100%|██████████| 42/42 [00:08<00:00,  5.02it/s]\n"
     ]
    },
    {
     "name": "stdout",
     "output_type": "stream",
     "text": [
      "\n",
      "      Epoch    GPU_mem   box_loss   cls_loss   dfl_loss  Instances       Size\n"
     ]
    },
    {
     "name": "stderr",
     "output_type": "stream",
     "text": [
      "   551/1000      6.47G     0.1327    0.08825     0.7618        233        736: 100%|██████████| 42/42 [00:08<00:00,  5.10it/s]\n"
     ]
    },
    {
     "name": "stdout",
     "output_type": "stream",
     "text": [
      "\n",
      "      Epoch    GPU_mem   box_loss   cls_loss   dfl_loss  Instances       Size\n"
     ]
    },
    {
     "name": "stderr",
     "output_type": "stream",
     "text": [
      "   552/1000      6.78G     0.1314    0.08755     0.7596        211        736: 100%|██████████| 42/42 [00:08<00:00,  5.03it/s]\n"
     ]
    },
    {
     "name": "stdout",
     "output_type": "stream",
     "text": [
      "\n",
      "      Epoch    GPU_mem   box_loss   cls_loss   dfl_loss  Instances       Size\n"
     ]
    },
    {
     "name": "stderr",
     "output_type": "stream",
     "text": [
      "   553/1000      6.71G     0.1325    0.08987      0.758        212        736: 100%|██████████| 42/42 [00:08<00:00,  5.09it/s]\n"
     ]
    },
    {
     "name": "stdout",
     "output_type": "stream",
     "text": [
      "\n",
      "      Epoch    GPU_mem   box_loss   cls_loss   dfl_loss  Instances       Size\n"
     ]
    },
    {
     "name": "stderr",
     "output_type": "stream",
     "text": [
      "   554/1000       6.7G      0.131    0.08849     0.7609        290        736: 100%|██████████| 42/42 [00:08<00:00,  5.10it/s]\n"
     ]
    },
    {
     "name": "stdout",
     "output_type": "stream",
     "text": [
      "\n",
      "      Epoch    GPU_mem   box_loss   cls_loss   dfl_loss  Instances       Size\n"
     ]
    },
    {
     "name": "stderr",
     "output_type": "stream",
     "text": [
      "   555/1000      6.56G     0.1299    0.08684     0.7582        273        736: 100%|██████████| 42/42 [00:08<00:00,  5.07it/s]\n"
     ]
    },
    {
     "name": "stdout",
     "output_type": "stream",
     "text": [
      "\n",
      "      Epoch    GPU_mem   box_loss   cls_loss   dfl_loss  Instances       Size\n"
     ]
    },
    {
     "name": "stderr",
     "output_type": "stream",
     "text": [
      "   556/1000      6.59G     0.1327    0.08776      0.758        347        736: 100%|██████████| 42/42 [00:08<00:00,  5.10it/s]\n"
     ]
    },
    {
     "name": "stdout",
     "output_type": "stream",
     "text": [
      "\n",
      "      Epoch    GPU_mem   box_loss   cls_loss   dfl_loss  Instances       Size\n"
     ]
    },
    {
     "name": "stderr",
     "output_type": "stream",
     "text": [
      "   557/1000      6.78G     0.1295    0.08622     0.7586        237        736: 100%|██████████| 42/42 [00:08<00:00,  5.11it/s]\n"
     ]
    },
    {
     "name": "stdout",
     "output_type": "stream",
     "text": [
      "\n",
      "      Epoch    GPU_mem   box_loss   cls_loss   dfl_loss  Instances       Size\n"
     ]
    },
    {
     "name": "stderr",
     "output_type": "stream",
     "text": [
      "   558/1000      6.71G      0.127    0.08576     0.7587        340        736: 100%|██████████| 42/42 [00:08<00:00,  5.10it/s]\n"
     ]
    },
    {
     "name": "stdout",
     "output_type": "stream",
     "text": [
      "\n",
      "      Epoch    GPU_mem   box_loss   cls_loss   dfl_loss  Instances       Size\n"
     ]
    },
    {
     "name": "stderr",
     "output_type": "stream",
     "text": [
      "   559/1000      6.68G     0.1293    0.08663     0.7596        228        736: 100%|██████████| 42/42 [00:08<00:00,  5.09it/s]\n"
     ]
    },
    {
     "name": "stdout",
     "output_type": "stream",
     "text": [
      "\n",
      "      Epoch    GPU_mem   box_loss   cls_loss   dfl_loss  Instances       Size\n"
     ]
    },
    {
     "name": "stderr",
     "output_type": "stream",
     "text": [
      "   560/1000      6.71G     0.1375    0.09148     0.7598        259        736: 100%|██████████| 42/42 [00:08<00:00,  5.11it/s]\n"
     ]
    },
    {
     "name": "stdout",
     "output_type": "stream",
     "text": [
      "\n",
      "      Epoch    GPU_mem   box_loss   cls_loss   dfl_loss  Instances       Size\n"
     ]
    },
    {
     "name": "stderr",
     "output_type": "stream",
     "text": [
      "   561/1000      6.77G     0.1372    0.09122     0.7588        377        736: 100%|██████████| 42/42 [00:08<00:00,  5.07it/s]\n"
     ]
    },
    {
     "name": "stdout",
     "output_type": "stream",
     "text": [
      "\n",
      "      Epoch    GPU_mem   box_loss   cls_loss   dfl_loss  Instances       Size\n"
     ]
    },
    {
     "name": "stderr",
     "output_type": "stream",
     "text": [
      "   562/1000      6.52G     0.1358    0.09162     0.7587        305        736: 100%|██████████| 42/42 [00:08<00:00,  5.10it/s]\n"
     ]
    },
    {
     "name": "stdout",
     "output_type": "stream",
     "text": [
      "\n",
      "      Epoch    GPU_mem   box_loss   cls_loss   dfl_loss  Instances       Size\n"
     ]
    },
    {
     "name": "stderr",
     "output_type": "stream",
     "text": [
      "   563/1000      6.72G     0.1347    0.09002     0.7594        261        736: 100%|██████████| 42/42 [00:08<00:00,  5.07it/s]\n"
     ]
    },
    {
     "name": "stdout",
     "output_type": "stream",
     "text": [
      "\n",
      "      Epoch    GPU_mem   box_loss   cls_loss   dfl_loss  Instances       Size\n"
     ]
    },
    {
     "name": "stderr",
     "output_type": "stream",
     "text": [
      "   564/1000      6.52G     0.1306      0.088     0.7593        364        736: 100%|██████████| 42/42 [00:08<00:00,  5.10it/s]\n"
     ]
    },
    {
     "name": "stdout",
     "output_type": "stream",
     "text": [
      "\n",
      "      Epoch    GPU_mem   box_loss   cls_loss   dfl_loss  Instances       Size\n"
     ]
    },
    {
     "name": "stderr",
     "output_type": "stream",
     "text": [
      "   565/1000      6.61G     0.1291    0.08619     0.7588        258        736: 100%|██████████| 42/42 [00:08<00:00,  5.10it/s]\n"
     ]
    },
    {
     "name": "stdout",
     "output_type": "stream",
     "text": [
      "\n",
      "      Epoch    GPU_mem   box_loss   cls_loss   dfl_loss  Instances       Size\n"
     ]
    },
    {
     "name": "stderr",
     "output_type": "stream",
     "text": [
      "   566/1000      6.71G     0.1339    0.08943     0.7599        272        736: 100%|██████████| 42/42 [00:08<00:00,  5.10it/s]\n"
     ]
    },
    {
     "name": "stdout",
     "output_type": "stream",
     "text": [
      "\n",
      "      Epoch    GPU_mem   box_loss   cls_loss   dfl_loss  Instances       Size\n"
     ]
    },
    {
     "name": "stderr",
     "output_type": "stream",
     "text": [
      "   567/1000      6.71G      0.131    0.08752      0.757        278        736: 100%|██████████| 42/42 [00:08<00:00,  5.11it/s]\n"
     ]
    },
    {
     "name": "stdout",
     "output_type": "stream",
     "text": [
      "\n",
      "      Epoch    GPU_mem   box_loss   cls_loss   dfl_loss  Instances       Size\n"
     ]
    },
    {
     "name": "stderr",
     "output_type": "stream",
     "text": [
      "   568/1000      6.63G     0.1346    0.08839     0.7605        276        736: 100%|██████████| 42/42 [00:08<00:00,  5.08it/s]\n"
     ]
    },
    {
     "name": "stdout",
     "output_type": "stream",
     "text": [
      "\n",
      "      Epoch    GPU_mem   box_loss   cls_loss   dfl_loss  Instances       Size\n"
     ]
    },
    {
     "name": "stderr",
     "output_type": "stream",
     "text": [
      "   569/1000      6.71G     0.1384    0.09188       0.76        336        736: 100%|██████████| 42/42 [00:08<00:00,  5.10it/s]\n"
     ]
    },
    {
     "name": "stdout",
     "output_type": "stream",
     "text": [
      "\n",
      "      Epoch    GPU_mem   box_loss   cls_loss   dfl_loss  Instances       Size\n"
     ]
    },
    {
     "name": "stderr",
     "output_type": "stream",
     "text": [
      "   570/1000      6.78G     0.1371     0.0897      0.759        381        736: 100%|██████████| 42/42 [00:08<00:00,  5.11it/s]\n"
     ]
    },
    {
     "name": "stdout",
     "output_type": "stream",
     "text": [
      "\n",
      "      Epoch    GPU_mem   box_loss   cls_loss   dfl_loss  Instances       Size\n"
     ]
    },
    {
     "name": "stderr",
     "output_type": "stream",
     "text": [
      "   571/1000      6.71G     0.1358    0.09126     0.7594        214        736: 100%|██████████| 42/42 [00:08<00:00,  5.10it/s]\n"
     ]
    },
    {
     "name": "stdout",
     "output_type": "stream",
     "text": [
      "\n",
      "      Epoch    GPU_mem   box_loss   cls_loss   dfl_loss  Instances       Size\n"
     ]
    },
    {
     "name": "stderr",
     "output_type": "stream",
     "text": [
      "   572/1000      6.68G     0.1331    0.09089     0.7585        291        736: 100%|██████████| 42/42 [00:08<00:00,  5.09it/s]\n"
     ]
    },
    {
     "name": "stdout",
     "output_type": "stream",
     "text": [
      "\n",
      "      Epoch    GPU_mem   box_loss   cls_loss   dfl_loss  Instances       Size\n"
     ]
    },
    {
     "name": "stderr",
     "output_type": "stream",
     "text": [
      "   573/1000      6.61G     0.1308     0.0881     0.7589        290        736: 100%|██████████| 42/42 [00:08<00:00,  5.07it/s]\n"
     ]
    },
    {
     "name": "stdout",
     "output_type": "stream",
     "text": [
      "\n",
      "      Epoch    GPU_mem   box_loss   cls_loss   dfl_loss  Instances       Size\n"
     ]
    },
    {
     "name": "stderr",
     "output_type": "stream",
     "text": [
      "   574/1000      6.68G     0.1268    0.08453     0.7585        230        736: 100%|██████████| 42/42 [00:08<00:00,  5.10it/s]\n"
     ]
    },
    {
     "name": "stdout",
     "output_type": "stream",
     "text": [
      "\n",
      "      Epoch    GPU_mem   box_loss   cls_loss   dfl_loss  Instances       Size\n"
     ]
    },
    {
     "name": "stderr",
     "output_type": "stream",
     "text": [
      "   575/1000      6.61G     0.1234    0.08239     0.7581        327        736: 100%|██████████| 42/42 [00:08<00:00,  5.12it/s]\n"
     ]
    },
    {
     "name": "stdout",
     "output_type": "stream",
     "text": [
      "\n",
      "      Epoch    GPU_mem   box_loss   cls_loss   dfl_loss  Instances       Size\n"
     ]
    },
    {
     "name": "stderr",
     "output_type": "stream",
     "text": [
      "   576/1000      6.52G     0.1242    0.08262     0.7582        337        736: 100%|██████████| 42/42 [00:08<00:00,  5.04it/s]\n"
     ]
    },
    {
     "name": "stdout",
     "output_type": "stream",
     "text": [
      "\n",
      "      Epoch    GPU_mem   box_loss   cls_loss   dfl_loss  Instances       Size\n"
     ]
    },
    {
     "name": "stderr",
     "output_type": "stream",
     "text": [
      "   577/1000      6.58G     0.1235    0.08175     0.7573        327        736: 100%|██████████| 42/42 [00:08<00:00,  5.09it/s]\n"
     ]
    },
    {
     "name": "stdout",
     "output_type": "stream",
     "text": [
      "\n",
      "      Epoch    GPU_mem   box_loss   cls_loss   dfl_loss  Instances       Size\n"
     ]
    },
    {
     "name": "stderr",
     "output_type": "stream",
     "text": [
      "   578/1000      6.72G     0.1271    0.08407     0.7587        253        736: 100%|██████████| 42/42 [00:08<00:00,  5.07it/s]\n"
     ]
    },
    {
     "name": "stdout",
     "output_type": "stream",
     "text": [
      "\n",
      "      Epoch    GPU_mem   box_loss   cls_loss   dfl_loss  Instances       Size\n"
     ]
    },
    {
     "name": "stderr",
     "output_type": "stream",
     "text": [
      "   579/1000      6.65G      0.127    0.08452     0.7577        255        736: 100%|██████████| 42/42 [00:08<00:00,  5.09it/s]\n"
     ]
    },
    {
     "name": "stdout",
     "output_type": "stream",
     "text": [
      "\n",
      "      Epoch    GPU_mem   box_loss   cls_loss   dfl_loss  Instances       Size\n"
     ]
    },
    {
     "name": "stderr",
     "output_type": "stream",
     "text": [
      "   580/1000      6.77G     0.1245     0.0842     0.7593        288        736: 100%|██████████| 42/42 [00:08<00:00,  5.10it/s]\n"
     ]
    },
    {
     "name": "stdout",
     "output_type": "stream",
     "text": [
      "\n",
      "      Epoch    GPU_mem   box_loss   cls_loss   dfl_loss  Instances       Size\n"
     ]
    },
    {
     "name": "stderr",
     "output_type": "stream",
     "text": [
      "   581/1000       6.7G     0.1308    0.08832     0.7587        290        736: 100%|██████████| 42/42 [00:08<00:00,  5.08it/s]\n"
     ]
    },
    {
     "name": "stdout",
     "output_type": "stream",
     "text": [
      "\n",
      "      Epoch    GPU_mem   box_loss   cls_loss   dfl_loss  Instances       Size\n"
     ]
    },
    {
     "name": "stderr",
     "output_type": "stream",
     "text": [
      "   582/1000      6.59G     0.1298    0.08846     0.7582        356        736: 100%|██████████| 42/42 [00:08<00:00,  5.11it/s]\n"
     ]
    },
    {
     "name": "stdout",
     "output_type": "stream",
     "text": [
      "\n",
      "      Epoch    GPU_mem   box_loss   cls_loss   dfl_loss  Instances       Size\n"
     ]
    },
    {
     "name": "stderr",
     "output_type": "stream",
     "text": [
      "   583/1000      6.77G     0.1314    0.08895     0.7584        220        736: 100%|██████████| 42/42 [00:08<00:00,  5.08it/s]\n"
     ]
    },
    {
     "name": "stdout",
     "output_type": "stream",
     "text": [
      "\n",
      "      Epoch    GPU_mem   box_loss   cls_loss   dfl_loss  Instances       Size\n"
     ]
    },
    {
     "name": "stderr",
     "output_type": "stream",
     "text": [
      "   584/1000      6.72G      0.131    0.08946     0.7588        268        736: 100%|██████████| 42/42 [00:08<00:00,  5.09it/s]\n"
     ]
    },
    {
     "name": "stdout",
     "output_type": "stream",
     "text": [
      "\n",
      "      Epoch    GPU_mem   box_loss   cls_loss   dfl_loss  Instances       Size\n"
     ]
    },
    {
     "name": "stderr",
     "output_type": "stream",
     "text": [
      "   585/1000      6.69G     0.1318     0.0882     0.7572        343        736: 100%|██████████| 42/42 [00:08<00:00,  5.09it/s]\n"
     ]
    },
    {
     "name": "stdout",
     "output_type": "stream",
     "text": [
      "\n",
      "      Epoch    GPU_mem   box_loss   cls_loss   dfl_loss  Instances       Size\n"
     ]
    },
    {
     "name": "stderr",
     "output_type": "stream",
     "text": [
      "   586/1000      6.74G     0.1278    0.08481     0.7582        242        736: 100%|██████████| 42/42 [00:08<00:00,  5.10it/s]\n"
     ]
    },
    {
     "name": "stdout",
     "output_type": "stream",
     "text": [
      "\n",
      "      Epoch    GPU_mem   box_loss   cls_loss   dfl_loss  Instances       Size\n"
     ]
    },
    {
     "name": "stderr",
     "output_type": "stream",
     "text": [
      "   587/1000      6.65G      0.132    0.08845      0.757        227        736: 100%|██████████| 42/42 [00:08<00:00,  5.09it/s]\n"
     ]
    },
    {
     "name": "stdout",
     "output_type": "stream",
     "text": [
      "\n",
      "      Epoch    GPU_mem   box_loss   cls_loss   dfl_loss  Instances       Size\n"
     ]
    },
    {
     "name": "stderr",
     "output_type": "stream",
     "text": [
      "   588/1000      6.48G     0.1368    0.09293     0.7571        182        736: 100%|██████████| 42/42 [00:08<00:00,  5.10it/s]\n"
     ]
    },
    {
     "name": "stdout",
     "output_type": "stream",
     "text": [
      "\n",
      "      Epoch    GPU_mem   box_loss   cls_loss   dfl_loss  Instances       Size\n"
     ]
    },
    {
     "name": "stderr",
     "output_type": "stream",
     "text": [
      "   589/1000      6.58G     0.1526     0.1036     0.7595        258        736: 100%|██████████| 42/42 [00:08<00:00,  5.09it/s]\n"
     ]
    },
    {
     "name": "stdout",
     "output_type": "stream",
     "text": [
      "\n",
      "      Epoch    GPU_mem   box_loss   cls_loss   dfl_loss  Instances       Size\n"
     ]
    },
    {
     "name": "stderr",
     "output_type": "stream",
     "text": [
      "   590/1000      6.52G     0.1421    0.09875      0.758        379        736: 100%|██████████| 42/42 [00:08<00:00,  5.08it/s]\n"
     ]
    },
    {
     "name": "stdout",
     "output_type": "stream",
     "text": [
      "\n",
      "      Epoch    GPU_mem   box_loss   cls_loss   dfl_loss  Instances       Size\n"
     ]
    },
    {
     "name": "stderr",
     "output_type": "stream",
     "text": [
      "   591/1000      6.72G     0.1382    0.09246     0.7597        381        736: 100%|██████████| 42/42 [00:08<00:00,  5.06it/s]\n"
     ]
    },
    {
     "name": "stdout",
     "output_type": "stream",
     "text": [
      "\n",
      "      Epoch    GPU_mem   box_loss   cls_loss   dfl_loss  Instances       Size\n"
     ]
    },
    {
     "name": "stderr",
     "output_type": "stream",
     "text": [
      "   592/1000      6.78G     0.1358    0.09149     0.7604        239        736: 100%|██████████| 42/42 [00:08<00:00,  5.10it/s]\n"
     ]
    },
    {
     "name": "stdout",
     "output_type": "stream",
     "text": [
      "\n",
      "      Epoch    GPU_mem   box_loss   cls_loss   dfl_loss  Instances       Size\n"
     ]
    },
    {
     "name": "stderr",
     "output_type": "stream",
     "text": [
      "   593/1000      6.61G     0.1314    0.08808     0.7613        200        736: 100%|██████████| 42/42 [00:08<00:00,  5.11it/s]\n"
     ]
    },
    {
     "name": "stdout",
     "output_type": "stream",
     "text": [
      "\n",
      "      Epoch    GPU_mem   box_loss   cls_loss   dfl_loss  Instances       Size\n"
     ]
    },
    {
     "name": "stderr",
     "output_type": "stream",
     "text": [
      "   594/1000      6.78G     0.1322    0.08801     0.7582        228        736: 100%|██████████| 42/42 [00:08<00:00,  5.07it/s]\n"
     ]
    },
    {
     "name": "stdout",
     "output_type": "stream",
     "text": [
      "\n",
      "      Epoch    GPU_mem   box_loss   cls_loss   dfl_loss  Instances       Size\n"
     ]
    },
    {
     "name": "stderr",
     "output_type": "stream",
     "text": [
      "   595/1000      6.72G     0.1347    0.09068     0.7596        258        736: 100%|██████████| 42/42 [00:08<00:00,  5.10it/s]\n"
     ]
    },
    {
     "name": "stdout",
     "output_type": "stream",
     "text": [
      "\n",
      "      Epoch    GPU_mem   box_loss   cls_loss   dfl_loss  Instances       Size\n"
     ]
    },
    {
     "name": "stderr",
     "output_type": "stream",
     "text": [
      "   596/1000      6.66G     0.1412     0.0919     0.7607        284        736: 100%|██████████| 42/42 [00:08<00:00,  5.10it/s]\n"
     ]
    },
    {
     "name": "stdout",
     "output_type": "stream",
     "text": [
      "\n",
      "      Epoch    GPU_mem   box_loss   cls_loss   dfl_loss  Instances       Size\n"
     ]
    },
    {
     "name": "stderr",
     "output_type": "stream",
     "text": [
      "   597/1000      6.72G     0.1419    0.09249     0.7587        225        736: 100%|██████████| 42/42 [00:08<00:00,  5.10it/s]\n"
     ]
    },
    {
     "name": "stdout",
     "output_type": "stream",
     "text": [
      "\n",
      "      Epoch    GPU_mem   box_loss   cls_loss   dfl_loss  Instances       Size\n"
     ]
    },
    {
     "name": "stderr",
     "output_type": "stream",
     "text": [
      "   598/1000      6.63G     0.1288    0.08707     0.7595        213        736: 100%|██████████| 42/42 [00:08<00:00,  5.09it/s]\n"
     ]
    },
    {
     "name": "stdout",
     "output_type": "stream",
     "text": [
      "\n",
      "      Epoch    GPU_mem   box_loss   cls_loss   dfl_loss  Instances       Size\n"
     ]
    },
    {
     "name": "stderr",
     "output_type": "stream",
     "text": [
      "   599/1000      6.74G     0.1283    0.08693     0.7581        331        736: 100%|██████████| 42/42 [00:08<00:00,  5.09it/s]\n"
     ]
    },
    {
     "name": "stdout",
     "output_type": "stream",
     "text": [
      "\n",
      "      Epoch    GPU_mem   box_loss   cls_loss   dfl_loss  Instances       Size\n"
     ]
    },
    {
     "name": "stderr",
     "output_type": "stream",
     "text": [
      "   600/1000       6.6G      0.133    0.09127     0.7599        379        736: 100%|██████████| 42/42 [00:08<00:00,  5.11it/s]\n"
     ]
    },
    {
     "name": "stdout",
     "output_type": "stream",
     "text": [
      "\n",
      "      Epoch    GPU_mem   box_loss   cls_loss   dfl_loss  Instances       Size\n"
     ]
    },
    {
     "name": "stderr",
     "output_type": "stream",
     "text": [
      "   601/1000      6.65G     0.1298    0.08932     0.7601        277        736: 100%|██████████| 42/42 [00:08<00:00,  5.10it/s]\n"
     ]
    },
    {
     "name": "stdout",
     "output_type": "stream",
     "text": [
      "\n",
      "      Epoch    GPU_mem   box_loss   cls_loss   dfl_loss  Instances       Size\n"
     ]
    },
    {
     "name": "stderr",
     "output_type": "stream",
     "text": [
      "   602/1000      6.71G     0.1336    0.08944     0.7572        288        736: 100%|██████████| 42/42 [00:08<00:00,  5.10it/s]\n"
     ]
    },
    {
     "name": "stdout",
     "output_type": "stream",
     "text": [
      "\n",
      "      Epoch    GPU_mem   box_loss   cls_loss   dfl_loss  Instances       Size\n"
     ]
    },
    {
     "name": "stderr",
     "output_type": "stream",
     "text": [
      "   603/1000      6.58G     0.1365    0.09219     0.7617        224        736: 100%|██████████| 42/42 [00:08<00:00,  5.09it/s]\n"
     ]
    },
    {
     "name": "stdout",
     "output_type": "stream",
     "text": [
      "\n",
      "      Epoch    GPU_mem   box_loss   cls_loss   dfl_loss  Instances       Size\n"
     ]
    },
    {
     "name": "stderr",
     "output_type": "stream",
     "text": [
      "   604/1000      6.72G     0.1332    0.08961     0.7593        253        736: 100%|██████████| 42/42 [00:08<00:00,  5.08it/s]\n"
     ]
    },
    {
     "name": "stdout",
     "output_type": "stream",
     "text": [
      "\n",
      "      Epoch    GPU_mem   box_loss   cls_loss   dfl_loss  Instances       Size\n"
     ]
    },
    {
     "name": "stderr",
     "output_type": "stream",
     "text": [
      "   605/1000       6.5G     0.1335    0.08938     0.7602        226        736: 100%|██████████| 42/42 [00:08<00:00,  5.06it/s]\n"
     ]
    },
    {
     "name": "stdout",
     "output_type": "stream",
     "text": [
      "\n",
      "      Epoch    GPU_mem   box_loss   cls_loss   dfl_loss  Instances       Size\n"
     ]
    },
    {
     "name": "stderr",
     "output_type": "stream",
     "text": [
      "   606/1000      6.69G     0.1321    0.08836      0.758        217        736: 100%|██████████| 42/42 [00:08<00:00,  5.09it/s]\n"
     ]
    },
    {
     "name": "stdout",
     "output_type": "stream",
     "text": [
      "\n",
      "      Epoch    GPU_mem   box_loss   cls_loss   dfl_loss  Instances       Size\n"
     ]
    },
    {
     "name": "stderr",
     "output_type": "stream",
     "text": [
      "   607/1000       6.6G     0.1291    0.08596     0.7583        249        736: 100%|██████████| 42/42 [00:08<00:00,  5.08it/s]\n"
     ]
    },
    {
     "name": "stdout",
     "output_type": "stream",
     "text": [
      "\n",
      "      Epoch    GPU_mem   box_loss   cls_loss   dfl_loss  Instances       Size\n"
     ]
    },
    {
     "name": "stderr",
     "output_type": "stream",
     "text": [
      "   608/1000      6.66G     0.1278    0.08576     0.7612        269        736: 100%|██████████| 42/42 [00:08<00:00,  5.06it/s]\n"
     ]
    },
    {
     "name": "stdout",
     "output_type": "stream",
     "text": [
      "\n",
      "      Epoch    GPU_mem   box_loss   cls_loss   dfl_loss  Instances       Size\n"
     ]
    },
    {
     "name": "stderr",
     "output_type": "stream",
     "text": [
      "   609/1000      6.72G     0.1287    0.08656     0.7592        288        736: 100%|██████████| 42/42 [00:08<00:00,  5.11it/s]\n"
     ]
    },
    {
     "name": "stdout",
     "output_type": "stream",
     "text": [
      "\n",
      "      Epoch    GPU_mem   box_loss   cls_loss   dfl_loss  Instances       Size\n"
     ]
    },
    {
     "name": "stderr",
     "output_type": "stream",
     "text": [
      "   610/1000       6.7G     0.1281    0.08656     0.7571        290        736: 100%|██████████| 42/42 [00:08<00:00,  5.11it/s]\n"
     ]
    },
    {
     "name": "stdout",
     "output_type": "stream",
     "text": [
      "\n",
      "      Epoch    GPU_mem   box_loss   cls_loss   dfl_loss  Instances       Size\n"
     ]
    },
    {
     "name": "stderr",
     "output_type": "stream",
     "text": [
      "   611/1000      6.47G     0.1262     0.0827     0.7593        211        736: 100%|██████████| 42/42 [00:08<00:00,  5.09it/s]\n"
     ]
    },
    {
     "name": "stdout",
     "output_type": "stream",
     "text": [
      "\n",
      "      Epoch    GPU_mem   box_loss   cls_loss   dfl_loss  Instances       Size\n"
     ]
    },
    {
     "name": "stderr",
     "output_type": "stream",
     "text": [
      "   612/1000      6.67G     0.1237    0.08183     0.7586        243        736: 100%|██████████| 42/42 [00:08<00:00,  5.06it/s]\n"
     ]
    },
    {
     "name": "stdout",
     "output_type": "stream",
     "text": [
      "\n",
      "      Epoch    GPU_mem   box_loss   cls_loss   dfl_loss  Instances       Size\n"
     ]
    },
    {
     "name": "stderr",
     "output_type": "stream",
     "text": [
      "   613/1000      6.78G     0.1276    0.08401     0.7575        345        736: 100%|██████████| 42/42 [00:08<00:00,  5.09it/s]\n"
     ]
    },
    {
     "name": "stdout",
     "output_type": "stream",
     "text": [
      "\n",
      "      Epoch    GPU_mem   box_loss   cls_loss   dfl_loss  Instances       Size\n"
     ]
    },
    {
     "name": "stderr",
     "output_type": "stream",
     "text": [
      "   614/1000      6.65G     0.1252    0.08246     0.7595        229        736: 100%|██████████| 42/42 [00:08<00:00,  5.11it/s]\n"
     ]
    },
    {
     "name": "stdout",
     "output_type": "stream",
     "text": [
      "\n",
      "      Epoch    GPU_mem   box_loss   cls_loss   dfl_loss  Instances       Size\n"
     ]
    },
    {
     "name": "stderr",
     "output_type": "stream",
     "text": [
      "   615/1000       6.7G     0.1252    0.08348     0.7582        304        736: 100%|██████████| 42/42 [00:08<00:00,  5.09it/s]\n"
     ]
    },
    {
     "name": "stdout",
     "output_type": "stream",
     "text": [
      "\n",
      "      Epoch    GPU_mem   box_loss   cls_loss   dfl_loss  Instances       Size\n"
     ]
    },
    {
     "name": "stderr",
     "output_type": "stream",
     "text": [
      "   616/1000      6.58G     0.1269    0.08412     0.7584        272        736: 100%|██████████| 42/42 [00:08<00:00,  5.05it/s]\n"
     ]
    },
    {
     "name": "stdout",
     "output_type": "stream",
     "text": [
      "\n",
      "      Epoch    GPU_mem   box_loss   cls_loss   dfl_loss  Instances       Size\n"
     ]
    },
    {
     "name": "stderr",
     "output_type": "stream",
     "text": [
      "   617/1000      6.72G      0.127     0.0848       0.76        372        736: 100%|██████████| 42/42 [00:08<00:00,  5.07it/s]\n"
     ]
    },
    {
     "name": "stdout",
     "output_type": "stream",
     "text": [
      "\n",
      "      Epoch    GPU_mem   box_loss   cls_loss   dfl_loss  Instances       Size\n"
     ]
    },
    {
     "name": "stderr",
     "output_type": "stream",
     "text": [
      "   618/1000      6.78G     0.1253     0.0831     0.7591        290        736: 100%|██████████| 42/42 [00:08<00:00,  5.10it/s]\n"
     ]
    },
    {
     "name": "stdout",
     "output_type": "stream",
     "text": [
      "\n",
      "      Epoch    GPU_mem   box_loss   cls_loss   dfl_loss  Instances       Size\n"
     ]
    },
    {
     "name": "stderr",
     "output_type": "stream",
     "text": [
      "   619/1000      6.71G     0.1237    0.08137     0.7596        231        736: 100%|██████████| 42/42 [00:08<00:00,  5.10it/s]\n"
     ]
    },
    {
     "name": "stdout",
     "output_type": "stream",
     "text": [
      "\n",
      "      Epoch    GPU_mem   box_loss   cls_loss   dfl_loss  Instances       Size\n"
     ]
    },
    {
     "name": "stderr",
     "output_type": "stream",
     "text": [
      "   620/1000      6.66G     0.1304    0.08796     0.7583        284        736: 100%|██████████| 42/42 [00:08<00:00,  5.07it/s]\n"
     ]
    },
    {
     "name": "stdout",
     "output_type": "stream",
     "text": [
      "\n",
      "      Epoch    GPU_mem   box_loss   cls_loss   dfl_loss  Instances       Size\n"
     ]
    },
    {
     "name": "stderr",
     "output_type": "stream",
     "text": [
      "   621/1000      6.77G     0.1286      0.088     0.7571        319        736: 100%|██████████| 42/42 [00:08<00:00,  5.09it/s]\n"
     ]
    },
    {
     "name": "stdout",
     "output_type": "stream",
     "text": [
      "\n",
      "      Epoch    GPU_mem   box_loss   cls_loss   dfl_loss  Instances       Size\n"
     ]
    },
    {
     "name": "stderr",
     "output_type": "stream",
     "text": [
      "   622/1000      6.73G     0.1301    0.08811     0.7594        227        736: 100%|██████████| 42/42 [00:08<00:00,  5.09it/s]\n"
     ]
    },
    {
     "name": "stdout",
     "output_type": "stream",
     "text": [
      "\n",
      "      Epoch    GPU_mem   box_loss   cls_loss   dfl_loss  Instances       Size\n"
     ]
    },
    {
     "name": "stderr",
     "output_type": "stream",
     "text": [
      "   623/1000      6.65G     0.1327    0.09053     0.7604        272        736: 100%|██████████| 42/42 [00:08<00:00,  5.10it/s]\n"
     ]
    },
    {
     "name": "stdout",
     "output_type": "stream",
     "text": [
      "\n",
      "      Epoch    GPU_mem   box_loss   cls_loss   dfl_loss  Instances       Size\n"
     ]
    },
    {
     "name": "stderr",
     "output_type": "stream",
     "text": [
      "   624/1000      6.54G     0.1314    0.09174     0.7578        327        736: 100%|██████████| 42/42 [00:08<00:00,  5.09it/s]\n"
     ]
    },
    {
     "name": "stdout",
     "output_type": "stream",
     "text": [
      "\n",
      "      Epoch    GPU_mem   box_loss   cls_loss   dfl_loss  Instances       Size\n"
     ]
    },
    {
     "name": "stderr",
     "output_type": "stream",
     "text": [
      "   625/1000      6.78G     0.1312     0.0886     0.7577        345        736: 100%|██████████| 42/42 [00:08<00:00,  5.07it/s]\n"
     ]
    },
    {
     "name": "stdout",
     "output_type": "stream",
     "text": [
      "\n",
      "      Epoch    GPU_mem   box_loss   cls_loss   dfl_loss  Instances       Size\n"
     ]
    },
    {
     "name": "stderr",
     "output_type": "stream",
     "text": [
      "   626/1000      6.73G     0.1305    0.08872     0.7603        342        736: 100%|██████████| 42/42 [00:08<00:00,  5.07it/s]\n"
     ]
    },
    {
     "name": "stdout",
     "output_type": "stream",
     "text": [
      "\n",
      "      Epoch    GPU_mem   box_loss   cls_loss   dfl_loss  Instances       Size\n"
     ]
    },
    {
     "name": "stderr",
     "output_type": "stream",
     "text": [
      "   627/1000      6.55G       0.13    0.08819     0.7597        212        736: 100%|██████████| 42/42 [00:08<00:00,  5.08it/s]\n"
     ]
    },
    {
     "name": "stdout",
     "output_type": "stream",
     "text": [
      "\n",
      "      Epoch    GPU_mem   box_loss   cls_loss   dfl_loss  Instances       Size\n"
     ]
    },
    {
     "name": "stderr",
     "output_type": "stream",
     "text": [
      "   628/1000      6.72G     0.1306    0.08639     0.7578        226        736: 100%|██████████| 42/42 [00:08<00:00,  5.03it/s]\n"
     ]
    },
    {
     "name": "stdout",
     "output_type": "stream",
     "text": [
      "\n",
      "      Epoch    GPU_mem   box_loss   cls_loss   dfl_loss  Instances       Size\n"
     ]
    },
    {
     "name": "stderr",
     "output_type": "stream",
     "text": [
      "   629/1000      6.53G     0.1337    0.09019     0.7586        364        736: 100%|██████████| 42/42 [00:08<00:00,  5.10it/s]\n"
     ]
    },
    {
     "name": "stdout",
     "output_type": "stream",
     "text": [
      "\n",
      "      Epoch    GPU_mem   box_loss   cls_loss   dfl_loss  Instances       Size\n"
     ]
    },
    {
     "name": "stderr",
     "output_type": "stream",
     "text": [
      "   630/1000       6.7G     0.1408    0.09382     0.7601        286        736: 100%|██████████| 42/42 [00:08<00:00,  5.09it/s]\n"
     ]
    },
    {
     "name": "stdout",
     "output_type": "stream",
     "text": [
      "\n",
      "      Epoch    GPU_mem   box_loss   cls_loss   dfl_loss  Instances       Size\n"
     ]
    },
    {
     "name": "stderr",
     "output_type": "stream",
     "text": [
      "   631/1000      6.53G     0.1413    0.09524     0.7582        233        736: 100%|██████████| 42/42 [00:08<00:00,  5.09it/s]\n"
     ]
    },
    {
     "name": "stdout",
     "output_type": "stream",
     "text": [
      "\n",
      "      Epoch    GPU_mem   box_loss   cls_loss   dfl_loss  Instances       Size\n"
     ]
    },
    {
     "name": "stderr",
     "output_type": "stream",
     "text": [
      "   632/1000      6.72G      0.136    0.09244     0.7587        284        736: 100%|██████████| 42/42 [00:08<00:00,  5.10it/s]\n"
     ]
    },
    {
     "name": "stdout",
     "output_type": "stream",
     "text": [
      "\n",
      "      Epoch    GPU_mem   box_loss   cls_loss   dfl_loss  Instances       Size\n"
     ]
    },
    {
     "name": "stderr",
     "output_type": "stream",
     "text": [
      "   633/1000      6.71G     0.1355    0.08989     0.7588        287        736: 100%|██████████| 42/42 [00:08<00:00,  5.06it/s]\n"
     ]
    },
    {
     "name": "stdout",
     "output_type": "stream",
     "text": [
      "\n",
      "      Epoch    GPU_mem   box_loss   cls_loss   dfl_loss  Instances       Size\n"
     ]
    },
    {
     "name": "stderr",
     "output_type": "stream",
     "text": [
      "   634/1000      6.71G      0.142    0.09362     0.7597        292        736: 100%|██████████| 42/42 [00:08<00:00,  5.06it/s]\n"
     ]
    },
    {
     "name": "stdout",
     "output_type": "stream",
     "text": [
      "\n",
      "      Epoch    GPU_mem   box_loss   cls_loss   dfl_loss  Instances       Size\n"
     ]
    },
    {
     "name": "stderr",
     "output_type": "stream",
     "text": [
      "   635/1000      6.71G     0.1357    0.09062     0.7586        304        736: 100%|██████████| 42/42 [00:08<00:00,  5.08it/s]\n"
     ]
    },
    {
     "name": "stdout",
     "output_type": "stream",
     "text": [
      "\n",
      "      Epoch    GPU_mem   box_loss   cls_loss   dfl_loss  Instances       Size\n"
     ]
    },
    {
     "name": "stderr",
     "output_type": "stream",
     "text": [
      "   636/1000      6.71G     0.1281     0.0864     0.7573        285        736: 100%|██████████| 42/42 [00:08<00:00,  5.10it/s]\n"
     ]
    },
    {
     "name": "stdout",
     "output_type": "stream",
     "text": [
      "\n",
      "      Epoch    GPU_mem   box_loss   cls_loss   dfl_loss  Instances       Size\n"
     ]
    },
    {
     "name": "stderr",
     "output_type": "stream",
     "text": [
      "   637/1000      6.68G     0.1238    0.08178     0.7586        280        736: 100%|██████████| 42/42 [00:08<00:00,  5.08it/s]\n"
     ]
    },
    {
     "name": "stdout",
     "output_type": "stream",
     "text": [
      "\n",
      "      Epoch    GPU_mem   box_loss   cls_loss   dfl_loss  Instances       Size\n"
     ]
    },
    {
     "name": "stderr",
     "output_type": "stream",
     "text": [
      "   638/1000      6.49G     0.1229    0.07975     0.7595        261        736: 100%|██████████| 42/42 [00:08<00:00,  5.11it/s]\n"
     ]
    },
    {
     "name": "stdout",
     "output_type": "stream",
     "text": [
      "\n",
      "      Epoch    GPU_mem   box_loss   cls_loss   dfl_loss  Instances       Size\n"
     ]
    },
    {
     "name": "stderr",
     "output_type": "stream",
     "text": [
      "   639/1000      6.65G     0.1281    0.08284     0.7581        234        736: 100%|██████████| 42/42 [00:08<00:00,  5.08it/s]\n"
     ]
    },
    {
     "name": "stdout",
     "output_type": "stream",
     "text": [
      "\n",
      "      Epoch    GPU_mem   box_loss   cls_loss   dfl_loss  Instances       Size\n"
     ]
    },
    {
     "name": "stderr",
     "output_type": "stream",
     "text": [
      "   640/1000      6.52G     0.1302      0.086     0.7593        323        736: 100%|██████████| 42/42 [00:08<00:00,  5.11it/s]\n"
     ]
    },
    {
     "name": "stdout",
     "output_type": "stream",
     "text": [
      "\n",
      "      Epoch    GPU_mem   box_loss   cls_loss   dfl_loss  Instances       Size\n"
     ]
    },
    {
     "name": "stderr",
     "output_type": "stream",
     "text": [
      "   641/1000       6.6G     0.1288    0.08489     0.7595        416        736: 100%|██████████| 42/42 [00:08<00:00,  5.09it/s]\n"
     ]
    },
    {
     "name": "stdout",
     "output_type": "stream",
     "text": [
      "\n",
      "      Epoch    GPU_mem   box_loss   cls_loss   dfl_loss  Instances       Size\n"
     ]
    },
    {
     "name": "stderr",
     "output_type": "stream",
     "text": [
      "   642/1000      6.51G     0.1264    0.08253     0.7597        349        736: 100%|██████████| 42/42 [00:08<00:00,  5.09it/s]\n"
     ]
    },
    {
     "name": "stdout",
     "output_type": "stream",
     "text": [
      "\n",
      "      Epoch    GPU_mem   box_loss   cls_loss   dfl_loss  Instances       Size\n"
     ]
    },
    {
     "name": "stderr",
     "output_type": "stream",
     "text": [
      "   643/1000      6.49G     0.1267     0.0827     0.7585        250        736: 100%|██████████| 42/42 [00:08<00:00,  5.11it/s]\n"
     ]
    },
    {
     "name": "stdout",
     "output_type": "stream",
     "text": [
      "\n",
      "      Epoch    GPU_mem   box_loss   cls_loss   dfl_loss  Instances       Size\n"
     ]
    },
    {
     "name": "stderr",
     "output_type": "stream",
     "text": [
      "   644/1000       6.7G     0.1265    0.08297     0.7581        209        736: 100%|██████████| 42/42 [00:08<00:00,  5.08it/s]\n"
     ]
    },
    {
     "name": "stdout",
     "output_type": "stream",
     "text": [
      "\n",
      "      Epoch    GPU_mem   box_loss   cls_loss   dfl_loss  Instances       Size\n"
     ]
    },
    {
     "name": "stderr",
     "output_type": "stream",
     "text": [
      "   645/1000      6.64G     0.1249    0.08202     0.7582        255        736: 100%|██████████| 42/42 [00:08<00:00,  5.10it/s]\n"
     ]
    },
    {
     "name": "stdout",
     "output_type": "stream",
     "text": [
      "\n",
      "      Epoch    GPU_mem   box_loss   cls_loss   dfl_loss  Instances       Size\n"
     ]
    },
    {
     "name": "stderr",
     "output_type": "stream",
     "text": [
      "   646/1000       6.7G     0.1269    0.08379     0.7576        249        736: 100%|██████████| 42/42 [00:08<00:00,  5.07it/s]\n"
     ]
    },
    {
     "name": "stdout",
     "output_type": "stream",
     "text": [
      "\n",
      "      Epoch    GPU_mem   box_loss   cls_loss   dfl_loss  Instances       Size\n"
     ]
    },
    {
     "name": "stderr",
     "output_type": "stream",
     "text": [
      "   647/1000      6.72G     0.1251    0.08221     0.7601        271        736: 100%|██████████| 42/42 [00:08<00:00,  5.10it/s]\n"
     ]
    },
    {
     "name": "stdout",
     "output_type": "stream",
     "text": [
      "\n",
      "      Epoch    GPU_mem   box_loss   cls_loss   dfl_loss  Instances       Size\n"
     ]
    },
    {
     "name": "stderr",
     "output_type": "stream",
     "text": [
      "   648/1000      6.72G     0.1227    0.07997     0.7583        326        736: 100%|██████████| 42/42 [00:08<00:00,  5.08it/s]\n"
     ]
    },
    {
     "name": "stdout",
     "output_type": "stream",
     "text": [
      "\n",
      "      Epoch    GPU_mem   box_loss   cls_loss   dfl_loss  Instances       Size\n"
     ]
    },
    {
     "name": "stderr",
     "output_type": "stream",
     "text": [
      "   649/1000      6.72G     0.1206    0.07946     0.7588        262        736: 100%|██████████| 42/42 [00:08<00:00,  5.08it/s]\n"
     ]
    },
    {
     "name": "stdout",
     "output_type": "stream",
     "text": [
      "\n",
      "      Epoch    GPU_mem   box_loss   cls_loss   dfl_loss  Instances       Size\n"
     ]
    },
    {
     "name": "stderr",
     "output_type": "stream",
     "text": [
      "   650/1000      6.59G      0.122     0.0803     0.7592        216        736: 100%|██████████| 42/42 [00:08<00:00,  5.09it/s]\n"
     ]
    },
    {
     "name": "stdout",
     "output_type": "stream",
     "text": [
      "\n",
      "      Epoch    GPU_mem   box_loss   cls_loss   dfl_loss  Instances       Size\n"
     ]
    },
    {
     "name": "stderr",
     "output_type": "stream",
     "text": [
      "   651/1000      6.73G     0.1237    0.08117     0.7573        390        736: 100%|██████████| 42/42 [00:08<00:00,  5.09it/s]\n"
     ]
    },
    {
     "name": "stdout",
     "output_type": "stream",
     "text": [
      "\n",
      "      Epoch    GPU_mem   box_loss   cls_loss   dfl_loss  Instances       Size\n"
     ]
    },
    {
     "name": "stderr",
     "output_type": "stream",
     "text": [
      "   652/1000       6.7G      0.124    0.08165     0.7568        246        736: 100%|██████████| 42/42 [00:08<00:00,  5.09it/s]\n"
     ]
    },
    {
     "name": "stdout",
     "output_type": "stream",
     "text": [
      "\n",
      "      Epoch    GPU_mem   box_loss   cls_loss   dfl_loss  Instances       Size\n"
     ]
    },
    {
     "name": "stderr",
     "output_type": "stream",
     "text": [
      "   653/1000      6.48G     0.1199    0.07873     0.7574        244        736: 100%|██████████| 42/42 [00:08<00:00,  5.12it/s]\n"
     ]
    },
    {
     "name": "stdout",
     "output_type": "stream",
     "text": [
      "\n",
      "      Epoch    GPU_mem   box_loss   cls_loss   dfl_loss  Instances       Size\n"
     ]
    },
    {
     "name": "stderr",
     "output_type": "stream",
     "text": [
      "   654/1000      6.61G     0.1197    0.07822     0.7585        253        736: 100%|██████████| 42/42 [00:08<00:00,  5.07it/s]\n"
     ]
    },
    {
     "name": "stdout",
     "output_type": "stream",
     "text": [
      "\n",
      "      Epoch    GPU_mem   box_loss   cls_loss   dfl_loss  Instances       Size\n"
     ]
    },
    {
     "name": "stderr",
     "output_type": "stream",
     "text": [
      "   655/1000      6.53G     0.1219    0.07906     0.7596        266        736: 100%|██████████| 42/42 [00:08<00:00,  5.09it/s]\n"
     ]
    },
    {
     "name": "stdout",
     "output_type": "stream",
     "text": [
      "\n",
      "      Epoch    GPU_mem   box_loss   cls_loss   dfl_loss  Instances       Size\n"
     ]
    },
    {
     "name": "stderr",
     "output_type": "stream",
     "text": [
      "   656/1000      6.75G     0.1219    0.07857     0.7564        273        736: 100%|██████████| 42/42 [00:08<00:00,  5.11it/s]\n"
     ]
    },
    {
     "name": "stdout",
     "output_type": "stream",
     "text": [
      "\n",
      "      Epoch    GPU_mem   box_loss   cls_loss   dfl_loss  Instances       Size\n"
     ]
    },
    {
     "name": "stderr",
     "output_type": "stream",
     "text": [
      "   657/1000      6.55G     0.1221    0.07973     0.7577        351        736: 100%|██████████| 42/42 [00:08<00:00,  5.05it/s]\n"
     ]
    },
    {
     "name": "stdout",
     "output_type": "stream",
     "text": [
      "\n",
      "      Epoch    GPU_mem   box_loss   cls_loss   dfl_loss  Instances       Size\n"
     ]
    },
    {
     "name": "stderr",
     "output_type": "stream",
     "text": [
      "   658/1000      6.71G     0.1246    0.08175     0.7598        269        736: 100%|██████████| 42/42 [00:08<00:00,  5.10it/s]\n"
     ]
    },
    {
     "name": "stdout",
     "output_type": "stream",
     "text": [
      "\n",
      "      Epoch    GPU_mem   box_loss   cls_loss   dfl_loss  Instances       Size\n"
     ]
    },
    {
     "name": "stderr",
     "output_type": "stream",
     "text": [
      "   659/1000      6.66G     0.1271    0.08341      0.756        290        736: 100%|██████████| 42/42 [00:08<00:00,  5.10it/s]\n"
     ]
    },
    {
     "name": "stdout",
     "output_type": "stream",
     "text": [
      "\n",
      "      Epoch    GPU_mem   box_loss   cls_loss   dfl_loss  Instances       Size\n"
     ]
    },
    {
     "name": "stderr",
     "output_type": "stream",
     "text": [
      "   660/1000      6.56G     0.1399    0.09049     0.7585        236        736: 100%|██████████| 42/42 [00:08<00:00,  5.05it/s]\n"
     ]
    },
    {
     "name": "stdout",
     "output_type": "stream",
     "text": [
      "\n",
      "      Epoch    GPU_mem   box_loss   cls_loss   dfl_loss  Instances       Size\n"
     ]
    },
    {
     "name": "stderr",
     "output_type": "stream",
     "text": [
      "   661/1000      6.78G     0.1329    0.08755     0.7566        359        736: 100%|██████████| 42/42 [00:08<00:00,  5.08it/s]\n"
     ]
    },
    {
     "name": "stdout",
     "output_type": "stream",
     "text": [
      "\n",
      "      Epoch    GPU_mem   box_loss   cls_loss   dfl_loss  Instances       Size\n"
     ]
    },
    {
     "name": "stderr",
     "output_type": "stream",
     "text": [
      "   662/1000      6.61G     0.1307    0.08695     0.7581        286        736: 100%|██████████| 42/42 [00:08<00:00,  5.09it/s]\n"
     ]
    },
    {
     "name": "stdout",
     "output_type": "stream",
     "text": [
      "\n",
      "      Epoch    GPU_mem   box_loss   cls_loss   dfl_loss  Instances       Size\n"
     ]
    },
    {
     "name": "stderr",
     "output_type": "stream",
     "text": [
      "   663/1000      6.69G      0.128    0.08386     0.7589        240        736: 100%|██████████| 42/42 [00:08<00:00,  5.08it/s]\n"
     ]
    },
    {
     "name": "stdout",
     "output_type": "stream",
     "text": [
      "\n",
      "      Epoch    GPU_mem   box_loss   cls_loss   dfl_loss  Instances       Size\n"
     ]
    },
    {
     "name": "stderr",
     "output_type": "stream",
     "text": [
      "   664/1000       6.8G     0.1258    0.08268     0.7595        253        736: 100%|██████████| 42/42 [00:08<00:00,  5.10it/s]\n"
     ]
    },
    {
     "name": "stdout",
     "output_type": "stream",
     "text": [
      "\n",
      "      Epoch    GPU_mem   box_loss   cls_loss   dfl_loss  Instances       Size\n"
     ]
    },
    {
     "name": "stderr",
     "output_type": "stream",
     "text": [
      "   665/1000      6.65G     0.1241    0.08222     0.7594        357        736: 100%|██████████| 42/42 [00:08<00:00,  5.11it/s]\n"
     ]
    },
    {
     "name": "stdout",
     "output_type": "stream",
     "text": [
      "\n",
      "      Epoch    GPU_mem   box_loss   cls_loss   dfl_loss  Instances       Size\n"
     ]
    },
    {
     "name": "stderr",
     "output_type": "stream",
     "text": [
      "   666/1000       6.7G     0.1216    0.08017     0.7581        216        736: 100%|██████████| 42/42 [00:08<00:00,  5.10it/s]\n"
     ]
    },
    {
     "name": "stdout",
     "output_type": "stream",
     "text": [
      "\n",
      "      Epoch    GPU_mem   box_loss   cls_loss   dfl_loss  Instances       Size\n"
     ]
    },
    {
     "name": "stderr",
     "output_type": "stream",
     "text": [
      "   667/1000       6.6G     0.1258    0.08189     0.7574        234        736: 100%|██████████| 42/42 [00:08<00:00,  5.07it/s]\n"
     ]
    },
    {
     "name": "stdout",
     "output_type": "stream",
     "text": [
      "\n",
      "      Epoch    GPU_mem   box_loss   cls_loss   dfl_loss  Instances       Size\n"
     ]
    },
    {
     "name": "stderr",
     "output_type": "stream",
     "text": [
      "   668/1000      6.43G     0.1235    0.08004     0.7596        247        736: 100%|██████████| 42/42 [00:08<00:00,  5.07it/s]\n"
     ]
    },
    {
     "name": "stdout",
     "output_type": "stream",
     "text": [
      "\n",
      "      Epoch    GPU_mem   box_loss   cls_loss   dfl_loss  Instances       Size\n"
     ]
    },
    {
     "name": "stderr",
     "output_type": "stream",
     "text": [
      "   669/1000      6.77G     0.1252    0.08129     0.7594        297        736: 100%|██████████| 42/42 [00:08<00:00,  5.11it/s]\n"
     ]
    },
    {
     "name": "stdout",
     "output_type": "stream",
     "text": [
      "\n",
      "      Epoch    GPU_mem   box_loss   cls_loss   dfl_loss  Instances       Size\n"
     ]
    },
    {
     "name": "stderr",
     "output_type": "stream",
     "text": [
      "   670/1000      6.65G     0.1257    0.08174     0.7595        287        736: 100%|██████████| 42/42 [00:08<00:00,  5.08it/s]\n"
     ]
    },
    {
     "name": "stdout",
     "output_type": "stream",
     "text": [
      "\n",
      "      Epoch    GPU_mem   box_loss   cls_loss   dfl_loss  Instances       Size\n"
     ]
    },
    {
     "name": "stderr",
     "output_type": "stream",
     "text": [
      "   671/1000      6.68G     0.1257    0.08107     0.7593        286        736: 100%|██████████| 42/42 [00:08<00:00,  5.11it/s]\n"
     ]
    },
    {
     "name": "stdout",
     "output_type": "stream",
     "text": [
      "\n",
      "      Epoch    GPU_mem   box_loss   cls_loss   dfl_loss  Instances       Size\n"
     ]
    },
    {
     "name": "stderr",
     "output_type": "stream",
     "text": [
      "   672/1000       6.6G     0.1284    0.08295     0.7584        300        736: 100%|██████████| 42/42 [00:08<00:00,  5.07it/s]\n"
     ]
    },
    {
     "name": "stdout",
     "output_type": "stream",
     "text": [
      "\n",
      "      Epoch    GPU_mem   box_loss   cls_loss   dfl_loss  Instances       Size\n"
     ]
    },
    {
     "name": "stderr",
     "output_type": "stream",
     "text": [
      "   673/1000       6.7G     0.1313     0.0849     0.7586        334        736: 100%|██████████| 42/42 [00:08<00:00,  5.10it/s]\n"
     ]
    },
    {
     "name": "stdout",
     "output_type": "stream",
     "text": [
      "\n",
      "      Epoch    GPU_mem   box_loss   cls_loss   dfl_loss  Instances       Size\n"
     ]
    },
    {
     "name": "stderr",
     "output_type": "stream",
     "text": [
      "   674/1000      6.48G     0.1293    0.08429     0.7594        238        736: 100%|██████████| 42/42 [00:08<00:00,  5.10it/s]\n"
     ]
    },
    {
     "name": "stdout",
     "output_type": "stream",
     "text": [
      "\n",
      "      Epoch    GPU_mem   box_loss   cls_loss   dfl_loss  Instances       Size\n"
     ]
    },
    {
     "name": "stderr",
     "output_type": "stream",
     "text": [
      "   675/1000      6.77G     0.1234    0.08074     0.7576        215        736: 100%|██████████| 42/42 [00:08<00:00,  5.11it/s]\n"
     ]
    },
    {
     "name": "stdout",
     "output_type": "stream",
     "text": [
      "\n",
      "      Epoch    GPU_mem   box_loss   cls_loss   dfl_loss  Instances       Size\n"
     ]
    },
    {
     "name": "stderr",
     "output_type": "stream",
     "text": [
      "   676/1000      6.69G     0.1212     0.0785     0.7578        243        736: 100%|██████████| 42/42 [00:08<00:00,  5.07it/s]\n"
     ]
    },
    {
     "name": "stdout",
     "output_type": "stream",
     "text": [
      "\n",
      "      Epoch    GPU_mem   box_loss   cls_loss   dfl_loss  Instances       Size\n"
     ]
    },
    {
     "name": "stderr",
     "output_type": "stream",
     "text": [
      "   677/1000      6.79G     0.1242    0.08002     0.7587        299        736: 100%|██████████| 42/42 [00:08<00:00,  5.10it/s]\n"
     ]
    },
    {
     "name": "stdout",
     "output_type": "stream",
     "text": [
      "\n",
      "      Epoch    GPU_mem   box_loss   cls_loss   dfl_loss  Instances       Size\n"
     ]
    },
    {
     "name": "stderr",
     "output_type": "stream",
     "text": [
      "   678/1000       6.7G     0.1259     0.0815     0.7576        225        736: 100%|██████████| 42/42 [00:08<00:00,  5.09it/s]\n"
     ]
    },
    {
     "name": "stdout",
     "output_type": "stream",
     "text": [
      "\n",
      "      Epoch    GPU_mem   box_loss   cls_loss   dfl_loss  Instances       Size\n"
     ]
    },
    {
     "name": "stderr",
     "output_type": "stream",
     "text": [
      "   679/1000      6.55G     0.1247     0.0819     0.7566        358        736: 100%|██████████| 42/42 [00:08<00:00,  5.10it/s]\n"
     ]
    },
    {
     "name": "stdout",
     "output_type": "stream",
     "text": [
      "\n",
      "      Epoch    GPU_mem   box_loss   cls_loss   dfl_loss  Instances       Size\n"
     ]
    },
    {
     "name": "stderr",
     "output_type": "stream",
     "text": [
      "   680/1000       6.7G     0.1239    0.08074     0.7586        334        736: 100%|██████████| 42/42 [00:08<00:00,  5.08it/s]\n"
     ]
    },
    {
     "name": "stdout",
     "output_type": "stream",
     "text": [
      "\n",
      "      Epoch    GPU_mem   box_loss   cls_loss   dfl_loss  Instances       Size\n"
     ]
    },
    {
     "name": "stderr",
     "output_type": "stream",
     "text": [
      "   681/1000      6.58G     0.1258     0.0822     0.7599        270        736: 100%|██████████| 42/42 [00:08<00:00,  5.10it/s]\n"
     ]
    },
    {
     "name": "stdout",
     "output_type": "stream",
     "text": [
      "\n",
      "      Epoch    GPU_mem   box_loss   cls_loss   dfl_loss  Instances       Size\n"
     ]
    },
    {
     "name": "stderr",
     "output_type": "stream",
     "text": [
      "   682/1000      6.78G     0.1242    0.08095     0.7589        239        736: 100%|██████████| 42/42 [00:08<00:00,  5.10it/s]\n"
     ]
    },
    {
     "name": "stdout",
     "output_type": "stream",
     "text": [
      "\n",
      "      Epoch    GPU_mem   box_loss   cls_loss   dfl_loss  Instances       Size\n"
     ]
    },
    {
     "name": "stderr",
     "output_type": "stream",
     "text": [
      "   683/1000      6.71G     0.1224    0.08146      0.757        235        736: 100%|██████████| 42/42 [00:08<00:00,  5.09it/s]\n"
     ]
    },
    {
     "name": "stdout",
     "output_type": "stream",
     "text": [
      "\n",
      "      Epoch    GPU_mem   box_loss   cls_loss   dfl_loss  Instances       Size\n"
     ]
    },
    {
     "name": "stderr",
     "output_type": "stream",
     "text": [
      "   684/1000      6.71G     0.1247    0.08223     0.7612        220        736: 100%|██████████| 42/42 [00:08<00:00,  5.10it/s]\n"
     ]
    },
    {
     "name": "stdout",
     "output_type": "stream",
     "text": [
      "\n",
      "      Epoch    GPU_mem   box_loss   cls_loss   dfl_loss  Instances       Size\n"
     ]
    },
    {
     "name": "stderr",
     "output_type": "stream",
     "text": [
      "   685/1000      6.72G     0.1257    0.08295     0.7586        257        736: 100%|██████████| 42/42 [00:08<00:00,  5.09it/s]\n"
     ]
    },
    {
     "name": "stdout",
     "output_type": "stream",
     "text": [
      "\n",
      "      Epoch    GPU_mem   box_loss   cls_loss   dfl_loss  Instances       Size\n"
     ]
    },
    {
     "name": "stderr",
     "output_type": "stream",
     "text": [
      "   686/1000       6.7G     0.1267    0.08429     0.7605        281        736: 100%|██████████| 42/42 [00:08<00:00,  5.10it/s]\n"
     ]
    },
    {
     "name": "stdout",
     "output_type": "stream",
     "text": [
      "\n",
      "      Epoch    GPU_mem   box_loss   cls_loss   dfl_loss  Instances       Size\n"
     ]
    },
    {
     "name": "stderr",
     "output_type": "stream",
     "text": [
      "   687/1000      6.72G      0.125    0.08455      0.761        286        736: 100%|██████████| 42/42 [00:08<00:00,  5.09it/s]\n"
     ]
    },
    {
     "name": "stdout",
     "output_type": "stream",
     "text": [
      "\n",
      "      Epoch    GPU_mem   box_loss   cls_loss   dfl_loss  Instances       Size\n"
     ]
    },
    {
     "name": "stderr",
     "output_type": "stream",
     "text": [
      "   688/1000      6.72G     0.1247    0.08315      0.758        225        736: 100%|██████████| 42/42 [00:08<00:00,  5.11it/s]\n"
     ]
    },
    {
     "name": "stdout",
     "output_type": "stream",
     "text": [
      "\n",
      "      Epoch    GPU_mem   box_loss   cls_loss   dfl_loss  Instances       Size\n"
     ]
    },
    {
     "name": "stderr",
     "output_type": "stream",
     "text": [
      "   689/1000      6.58G     0.1228    0.08153     0.7559        226        736: 100%|██████████| 42/42 [00:08<00:00,  5.06it/s]\n"
     ]
    },
    {
     "name": "stdout",
     "output_type": "stream",
     "text": [
      "\n",
      "      Epoch    GPU_mem   box_loss   cls_loss   dfl_loss  Instances       Size\n"
     ]
    },
    {
     "name": "stderr",
     "output_type": "stream",
     "text": [
      "   690/1000      6.79G     0.1217    0.07975     0.7584        295        736: 100%|██████████| 42/42 [00:08<00:00,  5.07it/s]\n"
     ]
    },
    {
     "name": "stdout",
     "output_type": "stream",
     "text": [
      "\n",
      "      Epoch    GPU_mem   box_loss   cls_loss   dfl_loss  Instances       Size\n"
     ]
    },
    {
     "name": "stderr",
     "output_type": "stream",
     "text": [
      "   691/1000      6.78G     0.1216     0.0796     0.7598        259        736: 100%|██████████| 42/42 [00:08<00:00,  5.10it/s]\n"
     ]
    },
    {
     "name": "stdout",
     "output_type": "stream",
     "text": [
      "\n",
      "      Epoch    GPU_mem   box_loss   cls_loss   dfl_loss  Instances       Size\n"
     ]
    },
    {
     "name": "stderr",
     "output_type": "stream",
     "text": [
      "   692/1000      6.71G     0.1223    0.08067     0.7577        239        736: 100%|██████████| 42/42 [00:08<00:00,  5.10it/s]\n"
     ]
    },
    {
     "name": "stdout",
     "output_type": "stream",
     "text": [
      "\n",
      "      Epoch    GPU_mem   box_loss   cls_loss   dfl_loss  Instances       Size\n"
     ]
    },
    {
     "name": "stderr",
     "output_type": "stream",
     "text": [
      "   693/1000      6.59G     0.1235    0.08162     0.7587        304        736: 100%|██████████| 42/42 [00:08<00:00,  5.09it/s]\n"
     ]
    },
    {
     "name": "stdout",
     "output_type": "stream",
     "text": [
      "\n",
      "      Epoch    GPU_mem   box_loss   cls_loss   dfl_loss  Instances       Size\n"
     ]
    },
    {
     "name": "stderr",
     "output_type": "stream",
     "text": [
      "   694/1000       6.5G     0.1249    0.08082     0.7599        317        736: 100%|██████████| 42/42 [00:08<00:00,  5.10it/s]\n"
     ]
    },
    {
     "name": "stdout",
     "output_type": "stream",
     "text": [
      "\n",
      "      Epoch    GPU_mem   box_loss   cls_loss   dfl_loss  Instances       Size\n"
     ]
    },
    {
     "name": "stderr",
     "output_type": "stream",
     "text": [
      "   695/1000      6.71G     0.1249    0.08096     0.7576        303        736: 100%|██████████| 42/42 [00:08<00:00,  5.10it/s]\n"
     ]
    },
    {
     "name": "stdout",
     "output_type": "stream",
     "text": [
      "\n",
      "      Epoch    GPU_mem   box_loss   cls_loss   dfl_loss  Instances       Size\n"
     ]
    },
    {
     "name": "stderr",
     "output_type": "stream",
     "text": [
      "   696/1000      6.67G     0.1241    0.08082     0.7575        338        736: 100%|██████████| 42/42 [00:08<00:00,  5.06it/s]\n"
     ]
    },
    {
     "name": "stdout",
     "output_type": "stream",
     "text": [
      "\n",
      "      Epoch    GPU_mem   box_loss   cls_loss   dfl_loss  Instances       Size\n"
     ]
    },
    {
     "name": "stderr",
     "output_type": "stream",
     "text": [
      "   697/1000      6.72G     0.1228    0.08028     0.7581        274        736: 100%|██████████| 42/42 [00:08<00:00,  5.06it/s]\n"
     ]
    },
    {
     "name": "stdout",
     "output_type": "stream",
     "text": [
      "\n",
      "      Epoch    GPU_mem   box_loss   cls_loss   dfl_loss  Instances       Size\n"
     ]
    },
    {
     "name": "stderr",
     "output_type": "stream",
     "text": [
      "   698/1000      6.66G     0.1219    0.07842     0.7577        295        736: 100%|██████████| 42/42 [00:08<00:00,  5.08it/s]\n"
     ]
    },
    {
     "name": "stdout",
     "output_type": "stream",
     "text": [
      "\n",
      "      Epoch    GPU_mem   box_loss   cls_loss   dfl_loss  Instances       Size\n"
     ]
    },
    {
     "name": "stderr",
     "output_type": "stream",
     "text": [
      "   699/1000      6.77G     0.1217    0.07907     0.7588        285        736: 100%|██████████| 42/42 [00:08<00:00,  5.11it/s]\n"
     ]
    },
    {
     "name": "stdout",
     "output_type": "stream",
     "text": [
      "\n",
      "      Epoch    GPU_mem   box_loss   cls_loss   dfl_loss  Instances       Size\n"
     ]
    },
    {
     "name": "stderr",
     "output_type": "stream",
     "text": [
      "   700/1000      6.71G     0.1208    0.07928     0.7606        291        736: 100%|██████████| 42/42 [00:08<00:00,  5.08it/s]\n"
     ]
    },
    {
     "name": "stdout",
     "output_type": "stream",
     "text": [
      "\n",
      "      Epoch    GPU_mem   box_loss   cls_loss   dfl_loss  Instances       Size\n"
     ]
    },
    {
     "name": "stderr",
     "output_type": "stream",
     "text": [
      "   701/1000       6.7G     0.1204    0.07859     0.7589        341        736: 100%|██████████| 42/42 [00:08<00:00,  5.11it/s]\n"
     ]
    },
    {
     "name": "stdout",
     "output_type": "stream",
     "text": [
      "\n",
      "      Epoch    GPU_mem   box_loss   cls_loss   dfl_loss  Instances       Size\n"
     ]
    },
    {
     "name": "stderr",
     "output_type": "stream",
     "text": [
      "   702/1000      6.69G     0.1201    0.07827     0.7604        397        736: 100%|██████████| 42/42 [00:08<00:00,  5.08it/s]\n"
     ]
    },
    {
     "name": "stdout",
     "output_type": "stream",
     "text": [
      "\n",
      "      Epoch    GPU_mem   box_loss   cls_loss   dfl_loss  Instances       Size\n"
     ]
    },
    {
     "name": "stderr",
     "output_type": "stream",
     "text": [
      "   703/1000      6.67G     0.1269    0.08226     0.7592        243        736: 100%|██████████| 42/42 [00:08<00:00,  5.10it/s]\n"
     ]
    },
    {
     "name": "stdout",
     "output_type": "stream",
     "text": [
      "\n",
      "      Epoch    GPU_mem   box_loss   cls_loss   dfl_loss  Instances       Size\n"
     ]
    },
    {
     "name": "stderr",
     "output_type": "stream",
     "text": [
      "   704/1000      6.72G     0.1318    0.08611     0.7587        410        736: 100%|██████████| 42/42 [00:08<00:00,  5.08it/s]\n"
     ]
    },
    {
     "name": "stdout",
     "output_type": "stream",
     "text": [
      "\n",
      "      Epoch    GPU_mem   box_loss   cls_loss   dfl_loss  Instances       Size\n"
     ]
    },
    {
     "name": "stderr",
     "output_type": "stream",
     "text": [
      "   705/1000      6.77G     0.1403    0.09085     0.7591        289        736: 100%|██████████| 42/42 [00:08<00:00,  5.10it/s]\n"
     ]
    },
    {
     "name": "stdout",
     "output_type": "stream",
     "text": [
      "\n",
      "      Epoch    GPU_mem   box_loss   cls_loss   dfl_loss  Instances       Size\n"
     ]
    },
    {
     "name": "stderr",
     "output_type": "stream",
     "text": [
      "   706/1000      6.48G     0.1375    0.08988     0.7561        407        736: 100%|██████████| 42/42 [00:08<00:00,  5.05it/s]\n"
     ]
    },
    {
     "name": "stdout",
     "output_type": "stream",
     "text": [
      "\n",
      "      Epoch    GPU_mem   box_loss   cls_loss   dfl_loss  Instances       Size\n"
     ]
    },
    {
     "name": "stderr",
     "output_type": "stream",
     "text": [
      "   707/1000      6.48G     0.1434    0.09361      0.758        266        736: 100%|██████████| 42/42 [00:08<00:00,  5.09it/s]\n"
     ]
    },
    {
     "name": "stdout",
     "output_type": "stream",
     "text": [
      "\n",
      "      Epoch    GPU_mem   box_loss   cls_loss   dfl_loss  Instances       Size\n"
     ]
    },
    {
     "name": "stderr",
     "output_type": "stream",
     "text": [
      "   708/1000      6.77G     0.1442    0.09247     0.7588        351        736: 100%|██████████| 42/42 [00:08<00:00,  5.11it/s]\n"
     ]
    },
    {
     "name": "stdout",
     "output_type": "stream",
     "text": [
      "\n",
      "      Epoch    GPU_mem   box_loss   cls_loss   dfl_loss  Instances       Size\n"
     ]
    },
    {
     "name": "stderr",
     "output_type": "stream",
     "text": [
      "   709/1000      6.77G     0.1345    0.08851     0.7587        232        736: 100%|██████████| 42/42 [00:08<00:00,  5.06it/s]\n"
     ]
    },
    {
     "name": "stdout",
     "output_type": "stream",
     "text": [
      "\n",
      "      Epoch    GPU_mem   box_loss   cls_loss   dfl_loss  Instances       Size\n"
     ]
    },
    {
     "name": "stderr",
     "output_type": "stream",
     "text": [
      "   710/1000      6.77G     0.1266    0.08282     0.7575        320        736: 100%|██████████| 42/42 [00:08<00:00,  5.09it/s]\n"
     ]
    },
    {
     "name": "stdout",
     "output_type": "stream",
     "text": [
      "\n",
      "      Epoch    GPU_mem   box_loss   cls_loss   dfl_loss  Instances       Size\n"
     ]
    },
    {
     "name": "stderr",
     "output_type": "stream",
     "text": [
      "   711/1000       6.6G     0.1233    0.07983     0.7585        286        736: 100%|██████████| 42/42 [00:08<00:00,  5.09it/s]\n"
     ]
    },
    {
     "name": "stdout",
     "output_type": "stream",
     "text": [
      "\n",
      "      Epoch    GPU_mem   box_loss   cls_loss   dfl_loss  Instances       Size\n"
     ]
    },
    {
     "name": "stderr",
     "output_type": "stream",
     "text": [
      "   712/1000      6.77G     0.1246    0.08105     0.7595        385        736: 100%|██████████| 42/42 [00:08<00:00,  5.08it/s]\n"
     ]
    },
    {
     "name": "stdout",
     "output_type": "stream",
     "text": [
      "\n",
      "      Epoch    GPU_mem   box_loss   cls_loss   dfl_loss  Instances       Size\n"
     ]
    },
    {
     "name": "stderr",
     "output_type": "stream",
     "text": [
      "   713/1000      6.77G     0.1198    0.07802     0.7597        282        736: 100%|██████████| 42/42 [00:08<00:00,  5.09it/s]\n"
     ]
    },
    {
     "name": "stdout",
     "output_type": "stream",
     "text": [
      "\n",
      "      Epoch    GPU_mem   box_loss   cls_loss   dfl_loss  Instances       Size\n"
     ]
    },
    {
     "name": "stderr",
     "output_type": "stream",
     "text": [
      "   714/1000      6.77G     0.1179    0.07499     0.7576        267        736: 100%|██████████| 42/42 [00:08<00:00,  5.11it/s]\n"
     ]
    },
    {
     "name": "stdout",
     "output_type": "stream",
     "text": [
      "\n",
      "      Epoch    GPU_mem   box_loss   cls_loss   dfl_loss  Instances       Size\n"
     ]
    },
    {
     "name": "stderr",
     "output_type": "stream",
     "text": [
      "   715/1000       6.6G     0.1193    0.07701     0.7584        244        736: 100%|██████████| 42/42 [00:08<00:00,  5.03it/s]\n"
     ]
    },
    {
     "name": "stdout",
     "output_type": "stream",
     "text": [
      "\n",
      "      Epoch    GPU_mem   box_loss   cls_loss   dfl_loss  Instances       Size\n"
     ]
    },
    {
     "name": "stderr",
     "output_type": "stream",
     "text": [
      "   716/1000      6.72G     0.1197    0.07678     0.7563        294        736: 100%|██████████| 42/42 [00:08<00:00,  5.11it/s]\n"
     ]
    },
    {
     "name": "stdout",
     "output_type": "stream",
     "text": [
      "\n",
      "      Epoch    GPU_mem   box_loss   cls_loss   dfl_loss  Instances       Size\n"
     ]
    },
    {
     "name": "stderr",
     "output_type": "stream",
     "text": [
      "   717/1000      6.77G     0.1187    0.07605     0.7592        320        736: 100%|██████████| 42/42 [00:08<00:00,  5.11it/s]\n"
     ]
    },
    {
     "name": "stdout",
     "output_type": "stream",
     "text": [
      "\n",
      "      Epoch    GPU_mem   box_loss   cls_loss   dfl_loss  Instances       Size\n"
     ]
    },
    {
     "name": "stderr",
     "output_type": "stream",
     "text": [
      "   718/1000      6.61G     0.1171     0.0754     0.7579        353        736: 100%|██████████| 42/42 [00:08<00:00,  5.08it/s]\n"
     ]
    },
    {
     "name": "stdout",
     "output_type": "stream",
     "text": [
      "\n",
      "      Epoch    GPU_mem   box_loss   cls_loss   dfl_loss  Instances       Size\n"
     ]
    },
    {
     "name": "stderr",
     "output_type": "stream",
     "text": [
      "   719/1000      6.72G     0.1166    0.07429     0.7579        338        736: 100%|██████████| 42/42 [00:08<00:00,  5.03it/s]\n"
     ]
    },
    {
     "name": "stdout",
     "output_type": "stream",
     "text": [
      "\n",
      "      Epoch    GPU_mem   box_loss   cls_loss   dfl_loss  Instances       Size\n"
     ]
    },
    {
     "name": "stderr",
     "output_type": "stream",
     "text": [
      "   720/1000      6.53G     0.1164    0.07445     0.7595        206        736: 100%|██████████| 42/42 [00:08<00:00,  5.06it/s]\n"
     ]
    },
    {
     "name": "stdout",
     "output_type": "stream",
     "text": [
      "\n",
      "      Epoch    GPU_mem   box_loss   cls_loss   dfl_loss  Instances       Size\n"
     ]
    },
    {
     "name": "stderr",
     "output_type": "stream",
     "text": [
      "   721/1000      6.77G     0.1191    0.07682     0.7598        261        736: 100%|██████████| 42/42 [00:08<00:00,  5.09it/s]\n"
     ]
    },
    {
     "name": "stdout",
     "output_type": "stream",
     "text": [
      "\n",
      "      Epoch    GPU_mem   box_loss   cls_loss   dfl_loss  Instances       Size\n"
     ]
    },
    {
     "name": "stderr",
     "output_type": "stream",
     "text": [
      "   722/1000      6.66G     0.1197    0.07754     0.7597        301        736: 100%|██████████| 42/42 [00:08<00:00,  5.08it/s]\n"
     ]
    },
    {
     "name": "stdout",
     "output_type": "stream",
     "text": [
      "\n",
      "      Epoch    GPU_mem   box_loss   cls_loss   dfl_loss  Instances       Size\n"
     ]
    },
    {
     "name": "stderr",
     "output_type": "stream",
     "text": [
      "   723/1000      6.71G     0.1187    0.07655     0.7592        301        736: 100%|██████████| 42/42 [00:08<00:00,  5.10it/s]\n"
     ]
    },
    {
     "name": "stdout",
     "output_type": "stream",
     "text": [
      "\n",
      "      Epoch    GPU_mem   box_loss   cls_loss   dfl_loss  Instances       Size\n"
     ]
    },
    {
     "name": "stderr",
     "output_type": "stream",
     "text": [
      "   724/1000      6.48G     0.1194    0.07644     0.7573        293        736: 100%|██████████| 42/42 [00:08<00:00,  5.08it/s]\n"
     ]
    },
    {
     "name": "stdout",
     "output_type": "stream",
     "text": [
      "\n",
      "      Epoch    GPU_mem   box_loss   cls_loss   dfl_loss  Instances       Size\n"
     ]
    },
    {
     "name": "stderr",
     "output_type": "stream",
     "text": [
      "   725/1000      6.57G      0.119     0.0774     0.7583        250        736: 100%|██████████| 42/42 [00:08<00:00,  5.10it/s]\n"
     ]
    },
    {
     "name": "stdout",
     "output_type": "stream",
     "text": [
      "\n",
      "      Epoch    GPU_mem   box_loss   cls_loss   dfl_loss  Instances       Size\n"
     ]
    },
    {
     "name": "stderr",
     "output_type": "stream",
     "text": [
      "   726/1000      6.52G     0.1187     0.0777     0.7601        294        736: 100%|██████████| 42/42 [00:08<00:00,  5.11it/s]\n"
     ]
    },
    {
     "name": "stdout",
     "output_type": "stream",
     "text": [
      "\n",
      "      Epoch    GPU_mem   box_loss   cls_loss   dfl_loss  Instances       Size\n"
     ]
    },
    {
     "name": "stderr",
     "output_type": "stream",
     "text": [
      "   727/1000      6.49G     0.1226    0.07998     0.7581        288        736: 100%|██████████| 42/42 [00:08<00:00,  5.08it/s]\n"
     ]
    },
    {
     "name": "stdout",
     "output_type": "stream",
     "text": [
      "\n",
      "      Epoch    GPU_mem   box_loss   cls_loss   dfl_loss  Instances       Size\n"
     ]
    },
    {
     "name": "stderr",
     "output_type": "stream",
     "text": [
      "   728/1000      6.46G     0.1217    0.08006     0.7567        300        736: 100%|██████████| 42/42 [00:08<00:00,  5.08it/s]\n"
     ]
    },
    {
     "name": "stdout",
     "output_type": "stream",
     "text": [
      "\n",
      "      Epoch    GPU_mem   box_loss   cls_loss   dfl_loss  Instances       Size\n"
     ]
    },
    {
     "name": "stderr",
     "output_type": "stream",
     "text": [
      "   729/1000      6.68G     0.1206    0.07845     0.7582        230        736: 100%|██████████| 42/42 [00:08<00:00,  5.08it/s]\n"
     ]
    },
    {
     "name": "stdout",
     "output_type": "stream",
     "text": [
      "\n",
      "      Epoch    GPU_mem   box_loss   cls_loss   dfl_loss  Instances       Size\n"
     ]
    },
    {
     "name": "stderr",
     "output_type": "stream",
     "text": [
      "   730/1000      6.78G     0.1205    0.07908      0.759        246        736: 100%|██████████| 42/42 [00:08<00:00,  5.11it/s]\n"
     ]
    },
    {
     "name": "stdout",
     "output_type": "stream",
     "text": [
      "\n",
      "      Epoch    GPU_mem   box_loss   cls_loss   dfl_loss  Instances       Size\n"
     ]
    },
    {
     "name": "stderr",
     "output_type": "stream",
     "text": [
      "   731/1000       6.7G     0.1238    0.08165      0.758        270        736: 100%|██████████| 42/42 [00:08<00:00,  5.08it/s]\n"
     ]
    },
    {
     "name": "stdout",
     "output_type": "stream",
     "text": [
      "\n",
      "      Epoch    GPU_mem   box_loss   cls_loss   dfl_loss  Instances       Size\n"
     ]
    },
    {
     "name": "stderr",
     "output_type": "stream",
     "text": [
      "   732/1000      6.49G     0.1228    0.08001     0.7577        256        736: 100%|██████████| 42/42 [00:08<00:00,  5.09it/s]\n"
     ]
    },
    {
     "name": "stdout",
     "output_type": "stream",
     "text": [
      "\n",
      "      Epoch    GPU_mem   box_loss   cls_loss   dfl_loss  Instances       Size\n"
     ]
    },
    {
     "name": "stderr",
     "output_type": "stream",
     "text": [
      "   733/1000      6.47G     0.1216    0.07841      0.756        283        736: 100%|██████████| 42/42 [00:08<00:00,  5.07it/s]\n"
     ]
    },
    {
     "name": "stdout",
     "output_type": "stream",
     "text": [
      "\n",
      "      Epoch    GPU_mem   box_loss   cls_loss   dfl_loss  Instances       Size\n"
     ]
    },
    {
     "name": "stderr",
     "output_type": "stream",
     "text": [
      "   734/1000      6.72G     0.1213    0.07874     0.7575        243        736: 100%|██████████| 42/42 [00:08<00:00,  5.10it/s]\n"
     ]
    },
    {
     "name": "stdout",
     "output_type": "stream",
     "text": [
      "\n",
      "      Epoch    GPU_mem   box_loss   cls_loss   dfl_loss  Instances       Size\n"
     ]
    },
    {
     "name": "stderr",
     "output_type": "stream",
     "text": [
      "   735/1000      6.78G     0.1201    0.07797     0.7586        255        736: 100%|██████████| 42/42 [00:08<00:00,  5.06it/s]\n"
     ]
    },
    {
     "name": "stdout",
     "output_type": "stream",
     "text": [
      "\n",
      "      Epoch    GPU_mem   box_loss   cls_loss   dfl_loss  Instances       Size\n"
     ]
    },
    {
     "name": "stderr",
     "output_type": "stream",
     "text": [
      "   736/1000      6.71G     0.1224    0.07906     0.7579        288        736: 100%|██████████| 42/42 [00:08<00:00,  5.08it/s]\n"
     ]
    },
    {
     "name": "stdout",
     "output_type": "stream",
     "text": [
      "\n",
      "      Epoch    GPU_mem   box_loss   cls_loss   dfl_loss  Instances       Size\n"
     ]
    },
    {
     "name": "stderr",
     "output_type": "stream",
     "text": [
      "   737/1000      6.47G     0.1195    0.07715     0.7585        353        736: 100%|██████████| 42/42 [00:08<00:00,  5.08it/s]\n"
     ]
    },
    {
     "name": "stdout",
     "output_type": "stream",
     "text": [
      "\n",
      "      Epoch    GPU_mem   box_loss   cls_loss   dfl_loss  Instances       Size\n"
     ]
    },
    {
     "name": "stderr",
     "output_type": "stream",
     "text": [
      "   738/1000      6.58G     0.1225    0.07847      0.758        243        736: 100%|██████████| 42/42 [00:08<00:00,  5.10it/s]\n"
     ]
    },
    {
     "name": "stdout",
     "output_type": "stream",
     "text": [
      "\n",
      "      Epoch    GPU_mem   box_loss   cls_loss   dfl_loss  Instances       Size\n"
     ]
    },
    {
     "name": "stderr",
     "output_type": "stream",
     "text": [
      "   739/1000      6.65G     0.1222    0.07909     0.7587        331        736: 100%|██████████| 42/42 [00:08<00:00,  5.10it/s]\n"
     ]
    },
    {
     "name": "stdout",
     "output_type": "stream",
     "text": [
      "\n",
      "      Epoch    GPU_mem   box_loss   cls_loss   dfl_loss  Instances       Size\n"
     ]
    },
    {
     "name": "stderr",
     "output_type": "stream",
     "text": [
      "   740/1000      6.72G     0.1208    0.07766     0.7582        353        736: 100%|██████████| 42/42 [00:08<00:00,  5.08it/s]\n"
     ]
    },
    {
     "name": "stdout",
     "output_type": "stream",
     "text": [
      "\n",
      "      Epoch    GPU_mem   box_loss   cls_loss   dfl_loss  Instances       Size\n"
     ]
    },
    {
     "name": "stderr",
     "output_type": "stream",
     "text": [
      "   741/1000      6.58G     0.1208    0.07833     0.7573        268        736: 100%|██████████| 42/42 [00:08<00:00,  5.09it/s]\n"
     ]
    },
    {
     "name": "stdout",
     "output_type": "stream",
     "text": [
      "\n",
      "      Epoch    GPU_mem   box_loss   cls_loss   dfl_loss  Instances       Size\n"
     ]
    },
    {
     "name": "stderr",
     "output_type": "stream",
     "text": [
      "   742/1000      6.65G     0.1202    0.07728     0.7576        264        736: 100%|██████████| 42/42 [00:08<00:00,  5.08it/s]\n"
     ]
    },
    {
     "name": "stdout",
     "output_type": "stream",
     "text": [
      "\n",
      "      Epoch    GPU_mem   box_loss   cls_loss   dfl_loss  Instances       Size\n"
     ]
    },
    {
     "name": "stderr",
     "output_type": "stream",
     "text": [
      "   743/1000       6.7G     0.1185    0.07561     0.7603        318        736: 100%|██████████| 42/42 [00:08<00:00,  5.10it/s]\n"
     ]
    },
    {
     "name": "stdout",
     "output_type": "stream",
     "text": [
      "\n",
      "      Epoch    GPU_mem   box_loss   cls_loss   dfl_loss  Instances       Size\n"
     ]
    },
    {
     "name": "stderr",
     "output_type": "stream",
     "text": [
      "   744/1000      6.73G     0.1189    0.07597      0.756        265        736: 100%|██████████| 42/42 [00:08<00:00,  5.09it/s]\n"
     ]
    },
    {
     "name": "stdout",
     "output_type": "stream",
     "text": [
      "\n",
      "      Epoch    GPU_mem   box_loss   cls_loss   dfl_loss  Instances       Size\n"
     ]
    },
    {
     "name": "stderr",
     "output_type": "stream",
     "text": [
      "   745/1000      6.51G     0.1181    0.07649     0.7582        267        736: 100%|██████████| 42/42 [00:08<00:00,  5.09it/s]\n"
     ]
    },
    {
     "name": "stdout",
     "output_type": "stream",
     "text": [
      "\n",
      "      Epoch    GPU_mem   box_loss   cls_loss   dfl_loss  Instances       Size\n"
     ]
    },
    {
     "name": "stderr",
     "output_type": "stream",
     "text": [
      "   746/1000      6.53G     0.1176     0.0756     0.7569        214        736: 100%|██████████| 42/42 [00:08<00:00,  5.10it/s]\n"
     ]
    },
    {
     "name": "stdout",
     "output_type": "stream",
     "text": [
      "\n",
      "      Epoch    GPU_mem   box_loss   cls_loss   dfl_loss  Instances       Size\n"
     ]
    },
    {
     "name": "stderr",
     "output_type": "stream",
     "text": [
      "   747/1000      6.55G     0.1183    0.07567     0.7586        295        736: 100%|██████████| 42/42 [00:08<00:00,  5.03it/s]\n"
     ]
    },
    {
     "name": "stdout",
     "output_type": "stream",
     "text": [
      "\n",
      "      Epoch    GPU_mem   box_loss   cls_loss   dfl_loss  Instances       Size\n"
     ]
    },
    {
     "name": "stderr",
     "output_type": "stream",
     "text": [
      "   748/1000      6.51G     0.1195    0.07617     0.7585        290        736: 100%|██████████| 42/42 [00:08<00:00,  5.06it/s]\n"
     ]
    },
    {
     "name": "stdout",
     "output_type": "stream",
     "text": [
      "\n",
      "      Epoch    GPU_mem   box_loss   cls_loss   dfl_loss  Instances       Size\n"
     ]
    },
    {
     "name": "stderr",
     "output_type": "stream",
     "text": [
      "   749/1000      6.65G     0.1184    0.07638     0.7568        325        736: 100%|██████████| 42/42 [00:08<00:00,  5.10it/s]\n"
     ]
    },
    {
     "name": "stdout",
     "output_type": "stream",
     "text": [
      "\n",
      "      Epoch    GPU_mem   box_loss   cls_loss   dfl_loss  Instances       Size\n"
     ]
    },
    {
     "name": "stderr",
     "output_type": "stream",
     "text": [
      "   750/1000      6.72G     0.1189    0.07586     0.7579        310        736: 100%|██████████| 42/42 [00:08<00:00,  5.06it/s]\n"
     ]
    },
    {
     "name": "stdout",
     "output_type": "stream",
     "text": [
      "\n",
      "      Epoch    GPU_mem   box_loss   cls_loss   dfl_loss  Instances       Size\n"
     ]
    },
    {
     "name": "stderr",
     "output_type": "stream",
     "text": [
      "   751/1000      6.71G     0.1173    0.07519     0.7593        222        736: 100%|██████████| 42/42 [00:08<00:00,  5.08it/s]\n"
     ]
    },
    {
     "name": "stdout",
     "output_type": "stream",
     "text": [
      "\n",
      "      Epoch    GPU_mem   box_loss   cls_loss   dfl_loss  Instances       Size\n"
     ]
    },
    {
     "name": "stderr",
     "output_type": "stream",
     "text": [
      "   752/1000      6.51G     0.1167    0.07516     0.7578        316        736: 100%|██████████| 42/42 [00:08<00:00,  5.10it/s]\n"
     ]
    },
    {
     "name": "stdout",
     "output_type": "stream",
     "text": [
      "\n",
      "      Epoch    GPU_mem   box_loss   cls_loss   dfl_loss  Instances       Size\n"
     ]
    },
    {
     "name": "stderr",
     "output_type": "stream",
     "text": [
      "   753/1000      6.79G     0.1191    0.07574     0.7579        256        736: 100%|██████████| 42/42 [00:08<00:00,  5.10it/s]\n"
     ]
    },
    {
     "name": "stdout",
     "output_type": "stream",
     "text": [
      "\n",
      "      Epoch    GPU_mem   box_loss   cls_loss   dfl_loss  Instances       Size\n"
     ]
    },
    {
     "name": "stderr",
     "output_type": "stream",
     "text": [
      "   754/1000      6.71G     0.1194    0.07651     0.7581        273        736: 100%|██████████| 42/42 [00:08<00:00,  5.09it/s]\n"
     ]
    },
    {
     "name": "stdout",
     "output_type": "stream",
     "text": [
      "\n",
      "      Epoch    GPU_mem   box_loss   cls_loss   dfl_loss  Instances       Size\n"
     ]
    },
    {
     "name": "stderr",
     "output_type": "stream",
     "text": [
      "   755/1000      6.73G       0.12    0.07653     0.7592        287        736: 100%|██████████| 42/42 [00:08<00:00,  5.11it/s]\n"
     ]
    },
    {
     "name": "stdout",
     "output_type": "stream",
     "text": [
      "\n",
      "      Epoch    GPU_mem   box_loss   cls_loss   dfl_loss  Instances       Size\n"
     ]
    },
    {
     "name": "stderr",
     "output_type": "stream",
     "text": [
      "   756/1000      6.71G     0.1216    0.07764     0.7589        326        736: 100%|██████████| 42/42 [00:08<00:00,  5.10it/s]\n"
     ]
    },
    {
     "name": "stdout",
     "output_type": "stream",
     "text": [
      "\n",
      "      Epoch    GPU_mem   box_loss   cls_loss   dfl_loss  Instances       Size\n"
     ]
    },
    {
     "name": "stderr",
     "output_type": "stream",
     "text": [
      "   757/1000       6.6G     0.1201    0.07753     0.7577        421        736: 100%|██████████| 42/42 [00:08<00:00,  5.11it/s]\n"
     ]
    },
    {
     "name": "stdout",
     "output_type": "stream",
     "text": [
      "\n",
      "      Epoch    GPU_mem   box_loss   cls_loss   dfl_loss  Instances       Size\n"
     ]
    },
    {
     "name": "stderr",
     "output_type": "stream",
     "text": [
      "   758/1000      6.71G     0.1193    0.07714     0.7583        268        736: 100%|██████████| 42/42 [00:08<00:00,  5.08it/s]\n"
     ]
    },
    {
     "name": "stdout",
     "output_type": "stream",
     "text": [
      "\n",
      "      Epoch    GPU_mem   box_loss   cls_loss   dfl_loss  Instances       Size\n"
     ]
    },
    {
     "name": "stderr",
     "output_type": "stream",
     "text": [
      "   759/1000      6.43G     0.1187    0.07605     0.7587        239        736: 100%|██████████| 42/42 [00:08<00:00,  5.11it/s]\n"
     ]
    },
    {
     "name": "stdout",
     "output_type": "stream",
     "text": [
      "\n",
      "      Epoch    GPU_mem   box_loss   cls_loss   dfl_loss  Instances       Size\n"
     ]
    },
    {
     "name": "stderr",
     "output_type": "stream",
     "text": [
      "   760/1000       6.6G     0.1178    0.07503       0.76        330        736: 100%|██████████| 42/42 [00:08<00:00,  5.08it/s]\n"
     ]
    },
    {
     "name": "stdout",
     "output_type": "stream",
     "text": [
      "\n",
      "      Epoch    GPU_mem   box_loss   cls_loss   dfl_loss  Instances       Size\n"
     ]
    },
    {
     "name": "stderr",
     "output_type": "stream",
     "text": [
      "   761/1000      6.52G     0.1176    0.07465     0.7582        233        736: 100%|██████████| 42/42 [00:08<00:00,  5.07it/s]\n"
     ]
    },
    {
     "name": "stdout",
     "output_type": "stream",
     "text": [
      "\n",
      "      Epoch    GPU_mem   box_loss   cls_loss   dfl_loss  Instances       Size\n"
     ]
    },
    {
     "name": "stderr",
     "output_type": "stream",
     "text": [
      "   762/1000      6.78G     0.1186    0.07558     0.7568        257        736: 100%|██████████| 42/42 [00:08<00:00,  5.11it/s]\n"
     ]
    },
    {
     "name": "stdout",
     "output_type": "stream",
     "text": [
      "\n",
      "      Epoch    GPU_mem   box_loss   cls_loss   dfl_loss  Instances       Size\n"
     ]
    },
    {
     "name": "stderr",
     "output_type": "stream",
     "text": [
      "   763/1000      6.72G     0.1173    0.07543     0.7571        207        736: 100%|██████████| 42/42 [00:08<00:00,  5.08it/s]\n"
     ]
    },
    {
     "name": "stdout",
     "output_type": "stream",
     "text": [
      "\n",
      "      Epoch    GPU_mem   box_loss   cls_loss   dfl_loss  Instances       Size\n"
     ]
    },
    {
     "name": "stderr",
     "output_type": "stream",
     "text": [
      "   764/1000      6.71G     0.1184     0.0752     0.7579        242        736: 100%|██████████| 42/42 [00:08<00:00,  5.11it/s]\n"
     ]
    },
    {
     "name": "stdout",
     "output_type": "stream",
     "text": [
      "\n",
      "      Epoch    GPU_mem   box_loss   cls_loss   dfl_loss  Instances       Size\n"
     ]
    },
    {
     "name": "stderr",
     "output_type": "stream",
     "text": [
      "   765/1000      6.65G     0.1164    0.07425     0.7582        218        736: 100%|██████████| 42/42 [00:08<00:00,  5.10it/s]\n"
     ]
    },
    {
     "name": "stdout",
     "output_type": "stream",
     "text": [
      "\n",
      "      Epoch    GPU_mem   box_loss   cls_loss   dfl_loss  Instances       Size\n"
     ]
    },
    {
     "name": "stderr",
     "output_type": "stream",
     "text": [
      "   766/1000      6.73G     0.1183    0.07486     0.7575        286        736: 100%|██████████| 42/42 [00:08<00:00,  5.10it/s]\n"
     ]
    },
    {
     "name": "stdout",
     "output_type": "stream",
     "text": [
      "\n",
      "      Epoch    GPU_mem   box_loss   cls_loss   dfl_loss  Instances       Size\n"
     ]
    },
    {
     "name": "stderr",
     "output_type": "stream",
     "text": [
      "   767/1000      6.45G     0.1197    0.07567     0.7596        279        736: 100%|██████████| 42/42 [00:08<00:00,  5.08it/s]\n"
     ]
    },
    {
     "name": "stdout",
     "output_type": "stream",
     "text": [
      "\n",
      "      Epoch    GPU_mem   box_loss   cls_loss   dfl_loss  Instances       Size\n"
     ]
    },
    {
     "name": "stderr",
     "output_type": "stream",
     "text": [
      "   768/1000       6.8G     0.1187    0.07608     0.7585        423        736: 100%|██████████| 42/42 [00:08<00:00,  5.08it/s]\n"
     ]
    },
    {
     "name": "stdout",
     "output_type": "stream",
     "text": [
      "\n",
      "      Epoch    GPU_mem   box_loss   cls_loss   dfl_loss  Instances       Size\n"
     ]
    },
    {
     "name": "stderr",
     "output_type": "stream",
     "text": [
      "   769/1000      6.61G     0.1193    0.07601     0.7572        224        736: 100%|██████████| 42/42 [00:08<00:00,  5.10it/s]\n"
     ]
    },
    {
     "name": "stdout",
     "output_type": "stream",
     "text": [
      "\n",
      "      Epoch    GPU_mem   box_loss   cls_loss   dfl_loss  Instances       Size\n"
     ]
    },
    {
     "name": "stderr",
     "output_type": "stream",
     "text": [
      "   770/1000      6.65G     0.1181    0.07491     0.7598        284        736: 100%|██████████| 42/42 [00:08<00:00,  5.11it/s]\n"
     ]
    },
    {
     "name": "stdout",
     "output_type": "stream",
     "text": [
      "\n",
      "      Epoch    GPU_mem   box_loss   cls_loss   dfl_loss  Instances       Size\n"
     ]
    },
    {
     "name": "stderr",
     "output_type": "stream",
     "text": [
      "   771/1000      6.72G     0.1187    0.07495     0.7602        253        736: 100%|██████████| 42/42 [00:08<00:00,  5.09it/s]\n"
     ]
    },
    {
     "name": "stdout",
     "output_type": "stream",
     "text": [
      "\n",
      "      Epoch    GPU_mem   box_loss   cls_loss   dfl_loss  Instances       Size\n"
     ]
    },
    {
     "name": "stderr",
     "output_type": "stream",
     "text": [
      "   772/1000      6.52G     0.1185    0.07449     0.7581        303        736: 100%|██████████| 42/42 [00:08<00:00,  5.06it/s]\n"
     ]
    },
    {
     "name": "stdout",
     "output_type": "stream",
     "text": [
      "\n",
      "      Epoch    GPU_mem   box_loss   cls_loss   dfl_loss  Instances       Size\n"
     ]
    },
    {
     "name": "stderr",
     "output_type": "stream",
     "text": [
      "   773/1000      6.65G     0.1156     0.0734     0.7583        288        736: 100%|██████████| 42/42 [00:08<00:00,  5.11it/s]\n"
     ]
    },
    {
     "name": "stdout",
     "output_type": "stream",
     "text": [
      "\n",
      "      Epoch    GPU_mem   box_loss   cls_loss   dfl_loss  Instances       Size\n"
     ]
    },
    {
     "name": "stderr",
     "output_type": "stream",
     "text": [
      "   774/1000      6.65G     0.1158     0.0733     0.7572        296        736: 100%|██████████| 42/42 [00:08<00:00,  5.11it/s]\n"
     ]
    },
    {
     "name": "stdout",
     "output_type": "stream",
     "text": [
      "\n",
      "      Epoch    GPU_mem   box_loss   cls_loss   dfl_loss  Instances       Size\n"
     ]
    },
    {
     "name": "stderr",
     "output_type": "stream",
     "text": [
      "   775/1000      6.71G     0.1176    0.07426      0.759        281        736: 100%|██████████| 42/42 [00:08<00:00,  5.11it/s]\n"
     ]
    },
    {
     "name": "stdout",
     "output_type": "stream",
     "text": [
      "\n",
      "      Epoch    GPU_mem   box_loss   cls_loss   dfl_loss  Instances       Size\n"
     ]
    },
    {
     "name": "stderr",
     "output_type": "stream",
     "text": [
      "   776/1000      6.52G     0.1188    0.07538     0.7592        255        736: 100%|██████████| 42/42 [00:08<00:00,  5.07it/s]\n"
     ]
    },
    {
     "name": "stdout",
     "output_type": "stream",
     "text": [
      "\n",
      "      Epoch    GPU_mem   box_loss   cls_loss   dfl_loss  Instances       Size\n"
     ]
    },
    {
     "name": "stderr",
     "output_type": "stream",
     "text": [
      "   777/1000      6.57G     0.1171    0.07476     0.7573        244        736: 100%|██████████| 42/42 [00:08<00:00,  5.11it/s]\n"
     ]
    },
    {
     "name": "stdout",
     "output_type": "stream",
     "text": [
      "\n",
      "      Epoch    GPU_mem   box_loss   cls_loss   dfl_loss  Instances       Size\n"
     ]
    },
    {
     "name": "stderr",
     "output_type": "stream",
     "text": [
      "   778/1000      6.72G     0.1189     0.0757     0.7587        220        736: 100%|██████████| 42/42 [00:08<00:00,  5.09it/s]\n"
     ]
    },
    {
     "name": "stdout",
     "output_type": "stream",
     "text": [
      "\n",
      "      Epoch    GPU_mem   box_loss   cls_loss   dfl_loss  Instances       Size\n"
     ]
    },
    {
     "name": "stderr",
     "output_type": "stream",
     "text": [
      "   779/1000      6.48G     0.1223    0.07785     0.7597        325        736: 100%|██████████| 42/42 [00:08<00:00,  5.10it/s]\n"
     ]
    },
    {
     "name": "stdout",
     "output_type": "stream",
     "text": [
      "\n",
      "      Epoch    GPU_mem   box_loss   cls_loss   dfl_loss  Instances       Size\n"
     ]
    },
    {
     "name": "stderr",
     "output_type": "stream",
     "text": [
      "   780/1000      6.69G     0.1211    0.07884     0.7574        278        736: 100%|██████████| 42/42 [00:08<00:00,  5.07it/s]\n"
     ]
    },
    {
     "name": "stdout",
     "output_type": "stream",
     "text": [
      "\n",
      "      Epoch    GPU_mem   box_loss   cls_loss   dfl_loss  Instances       Size\n"
     ]
    },
    {
     "name": "stderr",
     "output_type": "stream",
     "text": [
      "   781/1000      6.67G     0.1209    0.07864     0.7573        222        736: 100%|██████████| 42/42 [00:08<00:00,  5.09it/s]\n"
     ]
    },
    {
     "name": "stdout",
     "output_type": "stream",
     "text": [
      "\n",
      "      Epoch    GPU_mem   box_loss   cls_loss   dfl_loss  Instances       Size\n"
     ]
    },
    {
     "name": "stderr",
     "output_type": "stream",
     "text": [
      "   782/1000      6.71G     0.1194    0.07671     0.7583        222        736: 100%|██████████| 42/42 [00:08<00:00,  5.10it/s]\n"
     ]
    },
    {
     "name": "stdout",
     "output_type": "stream",
     "text": [
      "\n",
      "      Epoch    GPU_mem   box_loss   cls_loss   dfl_loss  Instances       Size\n"
     ]
    },
    {
     "name": "stderr",
     "output_type": "stream",
     "text": [
      "   783/1000      6.78G     0.1175    0.07485     0.7588        299        736: 100%|██████████| 42/42 [00:08<00:00,  5.10it/s]\n"
     ]
    },
    {
     "name": "stdout",
     "output_type": "stream",
     "text": [
      "\n",
      "      Epoch    GPU_mem   box_loss   cls_loss   dfl_loss  Instances       Size\n"
     ]
    },
    {
     "name": "stderr",
     "output_type": "stream",
     "text": [
      "   784/1000      6.71G     0.1176    0.07436     0.7577        234        736: 100%|██████████| 42/42 [00:08<00:00,  5.08it/s]\n"
     ]
    },
    {
     "name": "stdout",
     "output_type": "stream",
     "text": [
      "\n",
      "      Epoch    GPU_mem   box_loss   cls_loss   dfl_loss  Instances       Size\n"
     ]
    },
    {
     "name": "stderr",
     "output_type": "stream",
     "text": [
      "   785/1000      6.53G     0.1163    0.07336     0.7588        419        736: 100%|██████████| 42/42 [00:08<00:00,  5.07it/s]\n"
     ]
    },
    {
     "name": "stdout",
     "output_type": "stream",
     "text": [
      "\n",
      "      Epoch    GPU_mem   box_loss   cls_loss   dfl_loss  Instances       Size\n"
     ]
    },
    {
     "name": "stderr",
     "output_type": "stream",
     "text": [
      "   786/1000      6.66G      0.116    0.07372     0.7586        242        736: 100%|██████████| 42/42 [00:08<00:00,  5.06it/s]\n"
     ]
    },
    {
     "name": "stdout",
     "output_type": "stream",
     "text": [
      "\n",
      "      Epoch    GPU_mem   box_loss   cls_loss   dfl_loss  Instances       Size\n"
     ]
    },
    {
     "name": "stderr",
     "output_type": "stream",
     "text": [
      "   787/1000      6.71G     0.1173    0.07456     0.7575        296        736: 100%|██████████| 42/42 [00:08<00:00,  5.10it/s]\n"
     ]
    },
    {
     "name": "stdout",
     "output_type": "stream",
     "text": [
      "\n",
      "      Epoch    GPU_mem   box_loss   cls_loss   dfl_loss  Instances       Size\n"
     ]
    },
    {
     "name": "stderr",
     "output_type": "stream",
     "text": [
      "   788/1000      6.72G      0.117    0.07437     0.7594        275        736: 100%|██████████| 42/42 [00:08<00:00,  5.03it/s]\n"
     ]
    },
    {
     "name": "stdout",
     "output_type": "stream",
     "text": [
      "\n",
      "      Epoch    GPU_mem   box_loss   cls_loss   dfl_loss  Instances       Size\n"
     ]
    },
    {
     "name": "stderr",
     "output_type": "stream",
     "text": [
      "   789/1000      6.65G     0.1174    0.07616     0.7592        276        736: 100%|██████████| 42/42 [00:08<00:00,  5.03it/s]\n"
     ]
    },
    {
     "name": "stdout",
     "output_type": "stream",
     "text": [
      "\n",
      "      Epoch    GPU_mem   box_loss   cls_loss   dfl_loss  Instances       Size\n"
     ]
    },
    {
     "name": "stderr",
     "output_type": "stream",
     "text": [
      "   790/1000       6.7G     0.1174    0.07541     0.7569        218        736: 100%|██████████| 42/42 [00:08<00:00,  5.10it/s]\n"
     ]
    },
    {
     "name": "stdout",
     "output_type": "stream",
     "text": [
      "\n",
      "      Epoch    GPU_mem   box_loss   cls_loss   dfl_loss  Instances       Size\n"
     ]
    },
    {
     "name": "stderr",
     "output_type": "stream",
     "text": [
      "   791/1000       6.6G     0.1166    0.07407     0.7585        421        736: 100%|██████████| 42/42 [00:08<00:00,  5.09it/s]\n"
     ]
    },
    {
     "name": "stdout",
     "output_type": "stream",
     "text": [
      "\n",
      "      Epoch    GPU_mem   box_loss   cls_loss   dfl_loss  Instances       Size\n"
     ]
    },
    {
     "name": "stderr",
     "output_type": "stream",
     "text": [
      "   792/1000      6.77G     0.1165    0.07387      0.758        210        736: 100%|██████████| 42/42 [00:08<00:00,  5.08it/s]\n"
     ]
    },
    {
     "name": "stdout",
     "output_type": "stream",
     "text": [
      "\n",
      "      Epoch    GPU_mem   box_loss   cls_loss   dfl_loss  Instances       Size\n"
     ]
    },
    {
     "name": "stderr",
     "output_type": "stream",
     "text": [
      "   793/1000      6.49G     0.1186    0.07542     0.7592        215        736: 100%|██████████| 42/42 [00:08<00:00,  5.10it/s]\n"
     ]
    },
    {
     "name": "stdout",
     "output_type": "stream",
     "text": [
      "\n",
      "      Epoch    GPU_mem   box_loss   cls_loss   dfl_loss  Instances       Size\n"
     ]
    },
    {
     "name": "stderr",
     "output_type": "stream",
     "text": [
      "   794/1000      6.73G     0.1191    0.07474     0.7571        208        736: 100%|██████████| 42/42 [00:08<00:00,  5.09it/s]\n"
     ]
    },
    {
     "name": "stdout",
     "output_type": "stream",
     "text": [
      "\n",
      "      Epoch    GPU_mem   box_loss   cls_loss   dfl_loss  Instances       Size\n"
     ]
    },
    {
     "name": "stderr",
     "output_type": "stream",
     "text": [
      "   795/1000       6.7G     0.1185    0.07508     0.7579        280        736: 100%|██████████| 42/42 [00:08<00:00,  5.10it/s]\n"
     ]
    },
    {
     "name": "stdout",
     "output_type": "stream",
     "text": [
      "\n",
      "      Epoch    GPU_mem   box_loss   cls_loss   dfl_loss  Instances       Size\n"
     ]
    },
    {
     "name": "stderr",
     "output_type": "stream",
     "text": [
      "   796/1000      6.77G     0.1184     0.0753     0.7563        253        736: 100%|██████████| 42/42 [00:08<00:00,  5.08it/s]\n"
     ]
    },
    {
     "name": "stdout",
     "output_type": "stream",
     "text": [
      "\n",
      "      Epoch    GPU_mem   box_loss   cls_loss   dfl_loss  Instances       Size\n"
     ]
    },
    {
     "name": "stderr",
     "output_type": "stream",
     "text": [
      "   797/1000       6.7G     0.1194    0.07534     0.7579        408        736: 100%|██████████| 42/42 [00:08<00:00,  5.08it/s]\n"
     ]
    },
    {
     "name": "stdout",
     "output_type": "stream",
     "text": [
      "\n",
      "      Epoch    GPU_mem   box_loss   cls_loss   dfl_loss  Instances       Size\n"
     ]
    },
    {
     "name": "stderr",
     "output_type": "stream",
     "text": [
      "   798/1000      6.61G     0.1177    0.07493     0.7584        330        736: 100%|██████████| 42/42 [00:08<00:00,  5.09it/s]\n"
     ]
    },
    {
     "name": "stdout",
     "output_type": "stream",
     "text": [
      "\n",
      "      Epoch    GPU_mem   box_loss   cls_loss   dfl_loss  Instances       Size\n"
     ]
    },
    {
     "name": "stderr",
     "output_type": "stream",
     "text": [
      "   799/1000      6.65G     0.1175    0.07401     0.7567        255        736: 100%|██████████| 42/42 [00:08<00:00,  5.09it/s]\n"
     ]
    },
    {
     "name": "stdout",
     "output_type": "stream",
     "text": [
      "\n",
      "      Epoch    GPU_mem   box_loss   cls_loss   dfl_loss  Instances       Size\n"
     ]
    },
    {
     "name": "stderr",
     "output_type": "stream",
     "text": [
      "   800/1000      6.48G     0.1181    0.07537     0.7578        287        736: 100%|██████████| 42/42 [00:08<00:00,  5.08it/s]\n"
     ]
    },
    {
     "name": "stdout",
     "output_type": "stream",
     "text": [
      "\n",
      "      Epoch    GPU_mem   box_loss   cls_loss   dfl_loss  Instances       Size\n"
     ]
    },
    {
     "name": "stderr",
     "output_type": "stream",
     "text": [
      "   801/1000      6.57G     0.1177    0.07414     0.7582        288        736: 100%|██████████| 42/42 [00:08<00:00,  5.11it/s]\n"
     ]
    },
    {
     "name": "stdout",
     "output_type": "stream",
     "text": [
      "\n",
      "      Epoch    GPU_mem   box_loss   cls_loss   dfl_loss  Instances       Size\n"
     ]
    },
    {
     "name": "stderr",
     "output_type": "stream",
     "text": [
      "   802/1000      6.65G     0.1179    0.07402     0.7574        306        736: 100%|██████████| 42/42 [00:08<00:00,  5.01it/s]\n"
     ]
    },
    {
     "name": "stdout",
     "output_type": "stream",
     "text": [
      "\n",
      "      Epoch    GPU_mem   box_loss   cls_loss   dfl_loss  Instances       Size\n"
     ]
    },
    {
     "name": "stderr",
     "output_type": "stream",
     "text": [
      "   803/1000      6.77G     0.1168    0.07465     0.7574        312        736: 100%|██████████| 42/42 [00:08<00:00,  5.05it/s]\n"
     ]
    },
    {
     "name": "stdout",
     "output_type": "stream",
     "text": [
      "\n",
      "      Epoch    GPU_mem   box_loss   cls_loss   dfl_loss  Instances       Size\n"
     ]
    },
    {
     "name": "stderr",
     "output_type": "stream",
     "text": [
      "   804/1000      6.65G     0.1161    0.07366     0.7565        284        736: 100%|██████████| 42/42 [00:08<00:00,  5.05it/s]\n"
     ]
    },
    {
     "name": "stdout",
     "output_type": "stream",
     "text": [
      "\n",
      "      Epoch    GPU_mem   box_loss   cls_loss   dfl_loss  Instances       Size\n"
     ]
    },
    {
     "name": "stderr",
     "output_type": "stream",
     "text": [
      "   805/1000      6.55G      0.115    0.07189      0.757        216        736: 100%|██████████| 42/42 [00:08<00:00,  5.08it/s]\n"
     ]
    },
    {
     "name": "stdout",
     "output_type": "stream",
     "text": [
      "\n",
      "      Epoch    GPU_mem   box_loss   cls_loss   dfl_loss  Instances       Size\n"
     ]
    },
    {
     "name": "stderr",
     "output_type": "stream",
     "text": [
      "   806/1000      6.51G     0.1157    0.07169     0.7586        221        736: 100%|██████████| 42/42 [00:08<00:00,  5.07it/s]\n"
     ]
    },
    {
     "name": "stdout",
     "output_type": "stream",
     "text": [
      "\n",
      "      Epoch    GPU_mem   box_loss   cls_loss   dfl_loss  Instances       Size\n"
     ]
    },
    {
     "name": "stderr",
     "output_type": "stream",
     "text": [
      "   807/1000      6.56G     0.1153    0.07185     0.7559        260        736: 100%|██████████| 42/42 [00:08<00:00,  5.08it/s]\n"
     ]
    },
    {
     "name": "stdout",
     "output_type": "stream",
     "text": [
      "\n",
      "      Epoch    GPU_mem   box_loss   cls_loss   dfl_loss  Instances       Size\n"
     ]
    },
    {
     "name": "stderr",
     "output_type": "stream",
     "text": [
      "   808/1000      6.53G     0.1144    0.07139     0.7563        256        736: 100%|██████████| 42/42 [00:08<00:00,  5.08it/s]\n"
     ]
    },
    {
     "name": "stdout",
     "output_type": "stream",
     "text": [
      "\n",
      "      Epoch    GPU_mem   box_loss   cls_loss   dfl_loss  Instances       Size\n"
     ]
    },
    {
     "name": "stderr",
     "output_type": "stream",
     "text": [
      "   809/1000      6.58G     0.1129    0.07088     0.7588        233        736: 100%|██████████| 42/42 [00:08<00:00,  5.06it/s]\n"
     ]
    },
    {
     "name": "stdout",
     "output_type": "stream",
     "text": [
      "\n",
      "      Epoch    GPU_mem   box_loss   cls_loss   dfl_loss  Instances       Size\n"
     ]
    },
    {
     "name": "stderr",
     "output_type": "stream",
     "text": [
      "   810/1000      6.72G     0.1145     0.0717     0.7562        217        736: 100%|██████████| 42/42 [00:08<00:00,  5.09it/s]\n"
     ]
    },
    {
     "name": "stdout",
     "output_type": "stream",
     "text": [
      "\n",
      "      Epoch    GPU_mem   box_loss   cls_loss   dfl_loss  Instances       Size\n"
     ]
    },
    {
     "name": "stderr",
     "output_type": "stream",
     "text": [
      "   811/1000      6.53G     0.1185    0.07452     0.7589        233        736: 100%|██████████| 42/42 [00:08<00:00,  5.10it/s]\n"
     ]
    },
    {
     "name": "stdout",
     "output_type": "stream",
     "text": [
      "\n",
      "      Epoch    GPU_mem   box_loss   cls_loss   dfl_loss  Instances       Size\n"
     ]
    },
    {
     "name": "stderr",
     "output_type": "stream",
     "text": [
      "   812/1000      6.71G      0.117    0.07499      0.758        290        736: 100%|██████████| 42/42 [00:08<00:00,  5.10it/s]\n"
     ]
    },
    {
     "name": "stdout",
     "output_type": "stream",
     "text": [
      "\n",
      "      Epoch    GPU_mem   box_loss   cls_loss   dfl_loss  Instances       Size\n"
     ]
    },
    {
     "name": "stderr",
     "output_type": "stream",
     "text": [
      "   813/1000      6.71G     0.1196    0.07705     0.7581        361        736: 100%|██████████| 42/42 [00:08<00:00,  5.10it/s]\n"
     ]
    },
    {
     "name": "stdout",
     "output_type": "stream",
     "text": [
      "\n",
      "      Epoch    GPU_mem   box_loss   cls_loss   dfl_loss  Instances       Size\n"
     ]
    },
    {
     "name": "stderr",
     "output_type": "stream",
     "text": [
      "   814/1000      6.78G     0.1171    0.07587      0.758        309        736: 100%|██████████| 42/42 [00:08<00:00,  5.08it/s]\n"
     ]
    },
    {
     "name": "stdout",
     "output_type": "stream",
     "text": [
      "\n",
      "      Epoch    GPU_mem   box_loss   cls_loss   dfl_loss  Instances       Size\n"
     ]
    },
    {
     "name": "stderr",
     "output_type": "stream",
     "text": [
      "   815/1000      6.51G     0.1175    0.07459     0.7579        284        736: 100%|██████████| 42/42 [00:08<00:00,  5.10it/s]\n"
     ]
    },
    {
     "name": "stdout",
     "output_type": "stream",
     "text": [
      "\n",
      "      Epoch    GPU_mem   box_loss   cls_loss   dfl_loss  Instances       Size\n"
     ]
    },
    {
     "name": "stderr",
     "output_type": "stream",
     "text": [
      "   816/1000      6.78G     0.1172    0.07431      0.758        254        736: 100%|██████████| 42/42 [00:08<00:00,  5.10it/s]\n"
     ]
    },
    {
     "name": "stdout",
     "output_type": "stream",
     "text": [
      "\n",
      "      Epoch    GPU_mem   box_loss   cls_loss   dfl_loss  Instances       Size\n"
     ]
    },
    {
     "name": "stderr",
     "output_type": "stream",
     "text": [
      "   817/1000      6.71G      0.116    0.07358     0.7584        352        736: 100%|██████████| 42/42 [00:08<00:00,  5.08it/s]\n"
     ]
    },
    {
     "name": "stdout",
     "output_type": "stream",
     "text": [
      "\n",
      "      Epoch    GPU_mem   box_loss   cls_loss   dfl_loss  Instances       Size\n"
     ]
    },
    {
     "name": "stderr",
     "output_type": "stream",
     "text": [
      "   818/1000      6.72G     0.1158    0.07236     0.7586        280        736: 100%|██████████| 42/42 [00:08<00:00,  5.10it/s]\n"
     ]
    },
    {
     "name": "stdout",
     "output_type": "stream",
     "text": [
      "\n",
      "      Epoch    GPU_mem   box_loss   cls_loss   dfl_loss  Instances       Size\n"
     ]
    },
    {
     "name": "stderr",
     "output_type": "stream",
     "text": [
      "   819/1000      6.63G     0.1146    0.07149     0.7577        347        736: 100%|██████████| 42/42 [00:08<00:00,  5.09it/s]\n"
     ]
    },
    {
     "name": "stdout",
     "output_type": "stream",
     "text": [
      "\n",
      "      Epoch    GPU_mem   box_loss   cls_loss   dfl_loss  Instances       Size\n"
     ]
    },
    {
     "name": "stderr",
     "output_type": "stream",
     "text": [
      "   820/1000      6.73G     0.1131    0.07026     0.7593        337        736: 100%|██████████| 42/42 [00:08<00:00,  5.10it/s]\n"
     ]
    },
    {
     "name": "stdout",
     "output_type": "stream",
     "text": [
      "\n",
      "      Epoch    GPU_mem   box_loss   cls_loss   dfl_loss  Instances       Size\n"
     ]
    },
    {
     "name": "stderr",
     "output_type": "stream",
     "text": [
      "   821/1000       6.7G     0.1133    0.07053     0.7577        216        736: 100%|██████████| 42/42 [00:08<00:00,  5.10it/s]\n"
     ]
    },
    {
     "name": "stdout",
     "output_type": "stream",
     "text": [
      "\n",
      "      Epoch    GPU_mem   box_loss   cls_loss   dfl_loss  Instances       Size\n"
     ]
    },
    {
     "name": "stderr",
     "output_type": "stream",
     "text": [
      "   822/1000      6.77G     0.1138    0.07149     0.7579        273        736: 100%|██████████| 42/42 [00:08<00:00,  5.10it/s]\n"
     ]
    },
    {
     "name": "stdout",
     "output_type": "stream",
     "text": [
      "\n",
      "      Epoch    GPU_mem   box_loss   cls_loss   dfl_loss  Instances       Size\n"
     ]
    },
    {
     "name": "stderr",
     "output_type": "stream",
     "text": [
      "   823/1000       6.6G     0.1158    0.07188     0.7577        266        736: 100%|██████████| 42/42 [00:08<00:00,  5.10it/s]\n"
     ]
    },
    {
     "name": "stdout",
     "output_type": "stream",
     "text": [
      "\n",
      "      Epoch    GPU_mem   box_loss   cls_loss   dfl_loss  Instances       Size\n"
     ]
    },
    {
     "name": "stderr",
     "output_type": "stream",
     "text": [
      "   824/1000      6.52G     0.1144    0.07005     0.7581        328        736: 100%|██████████| 42/42 [00:08<00:00,  5.09it/s]\n"
     ]
    },
    {
     "name": "stdout",
     "output_type": "stream",
     "text": [
      "\n",
      "      Epoch    GPU_mem   box_loss   cls_loss   dfl_loss  Instances       Size\n"
     ]
    },
    {
     "name": "stderr",
     "output_type": "stream",
     "text": [
      "   825/1000      6.77G     0.1131    0.06977     0.7562        349        736: 100%|██████████| 42/42 [00:08<00:00,  5.06it/s]\n"
     ]
    },
    {
     "name": "stdout",
     "output_type": "stream",
     "text": [
      "\n",
      "      Epoch    GPU_mem   box_loss   cls_loss   dfl_loss  Instances       Size\n"
     ]
    },
    {
     "name": "stderr",
     "output_type": "stream",
     "text": [
      "   826/1000      6.66G     0.1136    0.07005     0.7582        373        736: 100%|██████████| 42/42 [00:08<00:00,  5.10it/s]\n"
     ]
    },
    {
     "name": "stdout",
     "output_type": "stream",
     "text": [
      "\n",
      "      Epoch    GPU_mem   box_loss   cls_loss   dfl_loss  Instances       Size\n"
     ]
    },
    {
     "name": "stderr",
     "output_type": "stream",
     "text": [
      "   827/1000      6.47G     0.1156    0.07192     0.7569        224        736: 100%|██████████| 42/42 [00:08<00:00,  5.04it/s]\n"
     ]
    },
    {
     "name": "stdout",
     "output_type": "stream",
     "text": [
      "\n",
      "      Epoch    GPU_mem   box_loss   cls_loss   dfl_loss  Instances       Size\n"
     ]
    },
    {
     "name": "stderr",
     "output_type": "stream",
     "text": [
      "   828/1000      6.59G     0.1139    0.07039     0.7577        286        736: 100%|██████████| 42/42 [00:08<00:00,  5.08it/s]\n"
     ]
    },
    {
     "name": "stdout",
     "output_type": "stream",
     "text": [
      "\n",
      "      Epoch    GPU_mem   box_loss   cls_loss   dfl_loss  Instances       Size\n"
     ]
    },
    {
     "name": "stderr",
     "output_type": "stream",
     "text": [
      "   829/1000      6.78G     0.1141    0.07012     0.7583        295        736: 100%|██████████| 42/42 [00:08<00:00,  5.08it/s]\n"
     ]
    },
    {
     "name": "stdout",
     "output_type": "stream",
     "text": [
      "\n",
      "      Epoch    GPU_mem   box_loss   cls_loss   dfl_loss  Instances       Size\n"
     ]
    },
    {
     "name": "stderr",
     "output_type": "stream",
     "text": [
      "   830/1000      6.77G     0.1139    0.07096     0.7571        228        736: 100%|██████████| 42/42 [00:08<00:00,  5.08it/s]\n"
     ]
    },
    {
     "name": "stdout",
     "output_type": "stream",
     "text": [
      "\n",
      "      Epoch    GPU_mem   box_loss   cls_loss   dfl_loss  Instances       Size\n"
     ]
    },
    {
     "name": "stderr",
     "output_type": "stream",
     "text": [
      "   831/1000      6.49G     0.1129    0.06962     0.7563        241        736: 100%|██████████| 42/42 [00:08<00:00,  5.11it/s]\n"
     ]
    },
    {
     "name": "stdout",
     "output_type": "stream",
     "text": [
      "\n",
      "      Epoch    GPU_mem   box_loss   cls_loss   dfl_loss  Instances       Size\n"
     ]
    },
    {
     "name": "stderr",
     "output_type": "stream",
     "text": [
      "   832/1000      6.56G     0.1126    0.06917     0.7569        201        736: 100%|██████████| 42/42 [00:08<00:00,  5.09it/s]\n"
     ]
    },
    {
     "name": "stdout",
     "output_type": "stream",
     "text": [
      "\n",
      "      Epoch    GPU_mem   box_loss   cls_loss   dfl_loss  Instances       Size\n"
     ]
    },
    {
     "name": "stderr",
     "output_type": "stream",
     "text": [
      "   833/1000      6.74G     0.1145    0.07093     0.7573        434        736: 100%|██████████| 42/42 [00:08<00:00,  5.10it/s]\n"
     ]
    },
    {
     "name": "stdout",
     "output_type": "stream",
     "text": [
      "\n",
      "      Epoch    GPU_mem   box_loss   cls_loss   dfl_loss  Instances       Size\n"
     ]
    },
    {
     "name": "stderr",
     "output_type": "stream",
     "text": [
      "   834/1000      6.69G     0.1124    0.06948     0.7587        321        736: 100%|██████████| 42/42 [00:08<00:00,  5.07it/s]\n"
     ]
    },
    {
     "name": "stdout",
     "output_type": "stream",
     "text": [
      "\n",
      "      Epoch    GPU_mem   box_loss   cls_loss   dfl_loss  Instances       Size\n"
     ]
    },
    {
     "name": "stderr",
     "output_type": "stream",
     "text": [
      "   835/1000       6.6G     0.1119    0.06913     0.7571        317        736: 100%|██████████| 42/42 [00:08<00:00,  5.09it/s]\n"
     ]
    },
    {
     "name": "stdout",
     "output_type": "stream",
     "text": [
      "\n",
      "      Epoch    GPU_mem   box_loss   cls_loss   dfl_loss  Instances       Size\n"
     ]
    },
    {
     "name": "stderr",
     "output_type": "stream",
     "text": [
      "   836/1000      6.77G     0.1141    0.07024     0.7568        310        736: 100%|██████████| 42/42 [00:08<00:00,  5.05it/s]\n"
     ]
    },
    {
     "name": "stdout",
     "output_type": "stream",
     "text": [
      "\n",
      "      Epoch    GPU_mem   box_loss   cls_loss   dfl_loss  Instances       Size\n"
     ]
    },
    {
     "name": "stderr",
     "output_type": "stream",
     "text": [
      "   837/1000      6.52G     0.1135    0.07005     0.7587        351        736: 100%|██████████| 42/42 [00:08<00:00,  5.10it/s]\n"
     ]
    },
    {
     "name": "stdout",
     "output_type": "stream",
     "text": [
      "\n",
      "      Epoch    GPU_mem   box_loss   cls_loss   dfl_loss  Instances       Size\n"
     ]
    },
    {
     "name": "stderr",
     "output_type": "stream",
     "text": [
      "   838/1000       6.6G     0.1143    0.07067      0.758        327        736: 100%|██████████| 42/42 [00:08<00:00,  5.05it/s]\n"
     ]
    },
    {
     "name": "stdout",
     "output_type": "stream",
     "text": [
      "\n",
      "      Epoch    GPU_mem   box_loss   cls_loss   dfl_loss  Instances       Size\n"
     ]
    },
    {
     "name": "stderr",
     "output_type": "stream",
     "text": [
      "   839/1000      6.78G     0.1148    0.07146     0.7592        347        736: 100%|██████████| 42/42 [00:08<00:00,  5.10it/s]\n"
     ]
    },
    {
     "name": "stdout",
     "output_type": "stream",
     "text": [
      "\n",
      "      Epoch    GPU_mem   box_loss   cls_loss   dfl_loss  Instances       Size\n"
     ]
    },
    {
     "name": "stderr",
     "output_type": "stream",
     "text": [
      "   840/1000      6.71G     0.1159    0.07315     0.7576        291        736: 100%|██████████| 42/42 [00:08<00:00,  5.06it/s]\n"
     ]
    },
    {
     "name": "stdout",
     "output_type": "stream",
     "text": [
      "\n",
      "      Epoch    GPU_mem   box_loss   cls_loss   dfl_loss  Instances       Size\n"
     ]
    },
    {
     "name": "stderr",
     "output_type": "stream",
     "text": [
      "   841/1000      6.66G     0.1185    0.07423     0.7586        358        736: 100%|██████████| 42/42 [00:08<00:00,  5.09it/s]\n"
     ]
    },
    {
     "name": "stdout",
     "output_type": "stream",
     "text": [
      "\n",
      "      Epoch    GPU_mem   box_loss   cls_loss   dfl_loss  Instances       Size\n"
     ]
    },
    {
     "name": "stderr",
     "output_type": "stream",
     "text": [
      "   842/1000      6.66G     0.1178    0.07404     0.7571        270        736: 100%|██████████| 42/42 [00:08<00:00,  5.09it/s]\n"
     ]
    },
    {
     "name": "stdout",
     "output_type": "stream",
     "text": [
      "\n",
      "      Epoch    GPU_mem   box_loss   cls_loss   dfl_loss  Instances       Size\n"
     ]
    },
    {
     "name": "stderr",
     "output_type": "stream",
     "text": [
      "   843/1000      6.61G     0.1158    0.07265     0.7577        267        736: 100%|██████████| 42/42 [00:08<00:00,  5.11it/s]\n"
     ]
    },
    {
     "name": "stdout",
     "output_type": "stream",
     "text": [
      "\n",
      "      Epoch    GPU_mem   box_loss   cls_loss   dfl_loss  Instances       Size\n"
     ]
    },
    {
     "name": "stderr",
     "output_type": "stream",
     "text": [
      "   844/1000      6.78G     0.1158    0.07257     0.7573        269        736: 100%|██████████| 42/42 [00:08<00:00,  5.08it/s]\n"
     ]
    },
    {
     "name": "stdout",
     "output_type": "stream",
     "text": [
      "\n",
      "      Epoch    GPU_mem   box_loss   cls_loss   dfl_loss  Instances       Size\n"
     ]
    },
    {
     "name": "stderr",
     "output_type": "stream",
     "text": [
      "   845/1000      6.76G     0.1147    0.07173     0.7579        298        736: 100%|██████████| 42/42 [00:08<00:00,  5.04it/s]\n"
     ]
    },
    {
     "name": "stdout",
     "output_type": "stream",
     "text": [
      "\n",
      "      Epoch    GPU_mem   box_loss   cls_loss   dfl_loss  Instances       Size\n"
     ]
    },
    {
     "name": "stderr",
     "output_type": "stream",
     "text": [
      "   846/1000      6.79G     0.1152     0.0706      0.755        379        736: 100%|██████████| 42/42 [00:08<00:00,  5.06it/s]\n"
     ]
    },
    {
     "name": "stdout",
     "output_type": "stream",
     "text": [
      "\n",
      "      Epoch    GPU_mem   box_loss   cls_loss   dfl_loss  Instances       Size\n"
     ]
    },
    {
     "name": "stderr",
     "output_type": "stream",
     "text": [
      "   847/1000      6.71G     0.1143    0.07029     0.7554        262        736: 100%|██████████| 42/42 [00:08<00:00,  5.10it/s]\n"
     ]
    },
    {
     "name": "stdout",
     "output_type": "stream",
     "text": [
      "\n",
      "      Epoch    GPU_mem   box_loss   cls_loss   dfl_loss  Instances       Size\n"
     ]
    },
    {
     "name": "stderr",
     "output_type": "stream",
     "text": [
      "   848/1000      6.78G     0.1146    0.07058     0.7586        355        736: 100%|██████████| 42/42 [00:08<00:00,  5.10it/s]\n"
     ]
    },
    {
     "name": "stdout",
     "output_type": "stream",
     "text": [
      "\n",
      "      Epoch    GPU_mem   box_loss   cls_loss   dfl_loss  Instances       Size\n"
     ]
    },
    {
     "name": "stderr",
     "output_type": "stream",
     "text": [
      "   849/1000       6.6G     0.1161    0.07126     0.7577        268        736: 100%|██████████| 42/42 [00:08<00:00,  5.07it/s]\n"
     ]
    },
    {
     "name": "stdout",
     "output_type": "stream",
     "text": [
      "\n",
      "      Epoch    GPU_mem   box_loss   cls_loss   dfl_loss  Instances       Size\n"
     ]
    },
    {
     "name": "stderr",
     "output_type": "stream",
     "text": [
      "   850/1000      6.58G     0.1141    0.07042     0.7571        293        736: 100%|██████████| 42/42 [00:08<00:00,  5.10it/s]\n"
     ]
    },
    {
     "name": "stdout",
     "output_type": "stream",
     "text": [
      "\n",
      "      Epoch    GPU_mem   box_loss   cls_loss   dfl_loss  Instances       Size\n"
     ]
    },
    {
     "name": "stderr",
     "output_type": "stream",
     "text": [
      "   851/1000      6.65G     0.1144    0.07044     0.7588        206        736: 100%|██████████| 42/42 [00:08<00:00,  5.08it/s]\n"
     ]
    },
    {
     "name": "stdout",
     "output_type": "stream",
     "text": [
      "\n",
      "      Epoch    GPU_mem   box_loss   cls_loss   dfl_loss  Instances       Size\n"
     ]
    },
    {
     "name": "stderr",
     "output_type": "stream",
     "text": [
      "   852/1000      6.77G     0.1135    0.07081     0.7577        265        736: 100%|██████████| 42/42 [00:08<00:00,  5.09it/s]\n"
     ]
    },
    {
     "name": "stdout",
     "output_type": "stream",
     "text": [
      "\n",
      "      Epoch    GPU_mem   box_loss   cls_loss   dfl_loss  Instances       Size\n"
     ]
    },
    {
     "name": "stderr",
     "output_type": "stream",
     "text": [
      "   853/1000      6.72G     0.1129    0.07012     0.7592        236        736: 100%|██████████| 42/42 [00:08<00:00,  5.10it/s]\n"
     ]
    },
    {
     "name": "stdout",
     "output_type": "stream",
     "text": [
      "\n",
      "      Epoch    GPU_mem   box_loss   cls_loss   dfl_loss  Instances       Size\n"
     ]
    },
    {
     "name": "stderr",
     "output_type": "stream",
     "text": [
      "   854/1000      6.76G     0.1134    0.06996     0.7573        215        736: 100%|██████████| 42/42 [00:08<00:00,  5.08it/s]\n"
     ]
    },
    {
     "name": "stdout",
     "output_type": "stream",
     "text": [
      "\n",
      "      Epoch    GPU_mem   box_loss   cls_loss   dfl_loss  Instances       Size\n"
     ]
    },
    {
     "name": "stderr",
     "output_type": "stream",
     "text": [
      "   855/1000      6.52G     0.1138     0.0699     0.7569        211        736: 100%|██████████| 42/42 [00:08<00:00,  5.10it/s]\n"
     ]
    },
    {
     "name": "stdout",
     "output_type": "stream",
     "text": [
      "\n",
      "      Epoch    GPU_mem   box_loss   cls_loss   dfl_loss  Instances       Size\n"
     ]
    },
    {
     "name": "stderr",
     "output_type": "stream",
     "text": [
      "   856/1000       6.6G     0.1124    0.06934     0.7574        273        736: 100%|██████████| 42/42 [00:08<00:00,  5.10it/s]\n"
     ]
    },
    {
     "name": "stdout",
     "output_type": "stream",
     "text": [
      "\n",
      "      Epoch    GPU_mem   box_loss   cls_loss   dfl_loss  Instances       Size\n"
     ]
    },
    {
     "name": "stderr",
     "output_type": "stream",
     "text": [
      "   857/1000      6.77G     0.1138    0.06962     0.7575        224        736: 100%|██████████| 42/42 [00:08<00:00,  5.10it/s]\n"
     ]
    },
    {
     "name": "stdout",
     "output_type": "stream",
     "text": [
      "\n",
      "      Epoch    GPU_mem   box_loss   cls_loss   dfl_loss  Instances       Size\n"
     ]
    },
    {
     "name": "stderr",
     "output_type": "stream",
     "text": [
      "   858/1000      6.69G     0.1138    0.07042     0.7569        354        736: 100%|██████████| 42/42 [00:08<00:00,  5.06it/s]\n"
     ]
    },
    {
     "name": "stdout",
     "output_type": "stream",
     "text": [
      "\n",
      "      Epoch    GPU_mem   box_loss   cls_loss   dfl_loss  Instances       Size\n"
     ]
    },
    {
     "name": "stderr",
     "output_type": "stream",
     "text": [
      "   859/1000      6.79G     0.1139    0.07023     0.7583        301        736: 100%|██████████| 42/42 [00:08<00:00,  5.10it/s]\n"
     ]
    },
    {
     "name": "stdout",
     "output_type": "stream",
     "text": [
      "\n",
      "      Epoch    GPU_mem   box_loss   cls_loss   dfl_loss  Instances       Size\n"
     ]
    },
    {
     "name": "stderr",
     "output_type": "stream",
     "text": [
      "   860/1000      6.76G     0.1134    0.06902     0.7566        232        736: 100%|██████████| 42/42 [00:08<00:00,  5.06it/s]\n"
     ]
    },
    {
     "name": "stdout",
     "output_type": "stream",
     "text": [
      "\n",
      "      Epoch    GPU_mem   box_loss   cls_loss   dfl_loss  Instances       Size\n"
     ]
    },
    {
     "name": "stderr",
     "output_type": "stream",
     "text": [
      "   861/1000      6.71G     0.1137    0.06926     0.7559        280        736: 100%|██████████| 42/42 [00:08<00:00,  5.10it/s]\n"
     ]
    },
    {
     "name": "stdout",
     "output_type": "stream",
     "text": [
      "\n",
      "      Epoch    GPU_mem   box_loss   cls_loss   dfl_loss  Instances       Size\n"
     ]
    },
    {
     "name": "stderr",
     "output_type": "stream",
     "text": [
      "   862/1000      6.72G      0.113    0.06938     0.7584        280        736: 100%|██████████| 42/42 [00:08<00:00,  5.07it/s]\n"
     ]
    },
    {
     "name": "stdout",
     "output_type": "stream",
     "text": [
      "\n",
      "      Epoch    GPU_mem   box_loss   cls_loss   dfl_loss  Instances       Size\n"
     ]
    },
    {
     "name": "stderr",
     "output_type": "stream",
     "text": [
      "   863/1000      6.53G     0.1127    0.06939     0.7577        289        736: 100%|██████████| 42/42 [00:08<00:00,  5.10it/s]\n"
     ]
    },
    {
     "name": "stdout",
     "output_type": "stream",
     "text": [
      "\n",
      "      Epoch    GPU_mem   box_loss   cls_loss   dfl_loss  Instances       Size\n"
     ]
    },
    {
     "name": "stderr",
     "output_type": "stream",
     "text": [
      "   864/1000      6.78G     0.1119    0.06895     0.7561        263        736: 100%|██████████| 42/42 [00:08<00:00,  5.10it/s]\n"
     ]
    },
    {
     "name": "stdout",
     "output_type": "stream",
     "text": [
      "\n",
      "      Epoch    GPU_mem   box_loss   cls_loss   dfl_loss  Instances       Size\n"
     ]
    },
    {
     "name": "stderr",
     "output_type": "stream",
     "text": [
      "   865/1000      6.72G     0.1125    0.06916     0.7542        266        736: 100%|██████████| 42/42 [00:08<00:00,  5.10it/s]\n"
     ]
    },
    {
     "name": "stdout",
     "output_type": "stream",
     "text": [
      "\n",
      "      Epoch    GPU_mem   box_loss   cls_loss   dfl_loss  Instances       Size\n"
     ]
    },
    {
     "name": "stderr",
     "output_type": "stream",
     "text": [
      "   866/1000       6.7G     0.1107    0.06758     0.7574        229        736: 100%|██████████| 42/42 [00:08<00:00,  5.10it/s]\n"
     ]
    },
    {
     "name": "stdout",
     "output_type": "stream",
     "text": [
      "\n",
      "      Epoch    GPU_mem   box_loss   cls_loss   dfl_loss  Instances       Size\n"
     ]
    },
    {
     "name": "stderr",
     "output_type": "stream",
     "text": [
      "   867/1000      6.72G     0.1118    0.06827     0.7557        284        736: 100%|██████████| 42/42 [00:08<00:00,  5.08it/s]\n"
     ]
    },
    {
     "name": "stdout",
     "output_type": "stream",
     "text": [
      "\n",
      "      Epoch    GPU_mem   box_loss   cls_loss   dfl_loss  Instances       Size\n"
     ]
    },
    {
     "name": "stderr",
     "output_type": "stream",
     "text": [
      "   868/1000      6.65G     0.1131     0.0697     0.7583        279        736: 100%|██████████| 42/42 [00:08<00:00,  5.06it/s]\n"
     ]
    },
    {
     "name": "stdout",
     "output_type": "stream",
     "text": [
      "\n",
      "      Epoch    GPU_mem   box_loss   cls_loss   dfl_loss  Instances       Size\n"
     ]
    },
    {
     "name": "stderr",
     "output_type": "stream",
     "text": [
      "   869/1000      6.51G     0.1146    0.07044     0.7568        347        736: 100%|██████████| 42/42 [00:08<00:00,  5.10it/s]\n"
     ]
    },
    {
     "name": "stdout",
     "output_type": "stream",
     "text": [
      "\n",
      "      Epoch    GPU_mem   box_loss   cls_loss   dfl_loss  Instances       Size\n"
     ]
    },
    {
     "name": "stderr",
     "output_type": "stream",
     "text": [
      "   870/1000      6.71G     0.1151    0.07051     0.7559        236        736: 100%|██████████| 42/42 [00:08<00:00,  5.08it/s]\n"
     ]
    },
    {
     "name": "stdout",
     "output_type": "stream",
     "text": [
      "\n",
      "      Epoch    GPU_mem   box_loss   cls_loss   dfl_loss  Instances       Size\n"
     ]
    },
    {
     "name": "stderr",
     "output_type": "stream",
     "text": [
      "   871/1000      6.64G     0.1162    0.07137     0.7571        374        736: 100%|██████████| 42/42 [00:08<00:00,  5.09it/s]\n"
     ]
    },
    {
     "name": "stdout",
     "output_type": "stream",
     "text": [
      "\n",
      "      Epoch    GPU_mem   box_loss   cls_loss   dfl_loss  Instances       Size\n"
     ]
    },
    {
     "name": "stderr",
     "output_type": "stream",
     "text": [
      "   872/1000      6.79G     0.1142    0.07034     0.7566        401        736: 100%|██████████| 42/42 [00:08<00:00,  5.06it/s]\n"
     ]
    },
    {
     "name": "stdout",
     "output_type": "stream",
     "text": [
      "\n",
      "      Epoch    GPU_mem   box_loss   cls_loss   dfl_loss  Instances       Size\n"
     ]
    },
    {
     "name": "stderr",
     "output_type": "stream",
     "text": [
      "   873/1000      6.71G     0.1122    0.07036     0.7593        405        736: 100%|██████████| 42/42 [00:08<00:00,  5.11it/s]\n"
     ]
    },
    {
     "name": "stdout",
     "output_type": "stream",
     "text": [
      "\n",
      "      Epoch    GPU_mem   box_loss   cls_loss   dfl_loss  Instances       Size\n"
     ]
    },
    {
     "name": "stderr",
     "output_type": "stream",
     "text": [
      "   874/1000      6.61G     0.1128    0.06987     0.7563        384        736: 100%|██████████| 42/42 [00:08<00:00,  5.11it/s]\n"
     ]
    },
    {
     "name": "stdout",
     "output_type": "stream",
     "text": [
      "\n",
      "      Epoch    GPU_mem   box_loss   cls_loss   dfl_loss  Instances       Size\n"
     ]
    },
    {
     "name": "stderr",
     "output_type": "stream",
     "text": [
      "   875/1000      6.52G     0.1127    0.06946     0.7568        386        736: 100%|██████████| 42/42 [00:08<00:00,  5.09it/s]\n"
     ]
    },
    {
     "name": "stdout",
     "output_type": "stream",
     "text": [
      "\n",
      "      Epoch    GPU_mem   box_loss   cls_loss   dfl_loss  Instances       Size\n"
     ]
    },
    {
     "name": "stderr",
     "output_type": "stream",
     "text": [
      "   876/1000      6.52G     0.1121    0.06852     0.7564        226        736: 100%|██████████| 42/42 [00:08<00:00,  5.10it/s]\n"
     ]
    },
    {
     "name": "stdout",
     "output_type": "stream",
     "text": [
      "\n",
      "      Epoch    GPU_mem   box_loss   cls_loss   dfl_loss  Instances       Size\n"
     ]
    },
    {
     "name": "stderr",
     "output_type": "stream",
     "text": [
      "   877/1000      6.59G     0.1136    0.06898     0.7585        220        736: 100%|██████████| 42/42 [00:08<00:00,  5.08it/s]\n"
     ]
    },
    {
     "name": "stdout",
     "output_type": "stream",
     "text": [
      "\n",
      "      Epoch    GPU_mem   box_loss   cls_loss   dfl_loss  Instances       Size\n"
     ]
    },
    {
     "name": "stderr",
     "output_type": "stream",
     "text": [
      "   878/1000      6.71G     0.1115    0.06835     0.7573        315        736: 100%|██████████| 42/42 [00:08<00:00,  5.10it/s]\n"
     ]
    },
    {
     "name": "stdout",
     "output_type": "stream",
     "text": [
      "\n",
      "      Epoch    GPU_mem   box_loss   cls_loss   dfl_loss  Instances       Size\n"
     ]
    },
    {
     "name": "stderr",
     "output_type": "stream",
     "text": [
      "   879/1000      6.78G     0.1106    0.06804     0.7583        336        736: 100%|██████████| 42/42 [00:08<00:00,  5.07it/s]\n"
     ]
    },
    {
     "name": "stdout",
     "output_type": "stream",
     "text": [
      "\n",
      "      Epoch    GPU_mem   box_loss   cls_loss   dfl_loss  Instances       Size\n"
     ]
    },
    {
     "name": "stderr",
     "output_type": "stream",
     "text": [
      "   880/1000      6.71G     0.1118    0.06802     0.7563        246        736: 100%|██████████| 42/42 [00:08<00:00,  5.09it/s]\n"
     ]
    },
    {
     "name": "stdout",
     "output_type": "stream",
     "text": [
      "\n",
      "      Epoch    GPU_mem   box_loss   cls_loss   dfl_loss  Instances       Size\n"
     ]
    },
    {
     "name": "stderr",
     "output_type": "stream",
     "text": [
      "   881/1000      6.77G     0.1109     0.0679     0.7571        218        736: 100%|██████████| 42/42 [00:08<00:00,  5.08it/s]\n"
     ]
    },
    {
     "name": "stdout",
     "output_type": "stream",
     "text": [
      "\n",
      "      Epoch    GPU_mem   box_loss   cls_loss   dfl_loss  Instances       Size\n"
     ]
    },
    {
     "name": "stderr",
     "output_type": "stream",
     "text": [
      "   882/1000      6.72G     0.1098    0.06676     0.7577        326        736: 100%|██████████| 42/42 [00:08<00:00,  5.07it/s]\n"
     ]
    },
    {
     "name": "stdout",
     "output_type": "stream",
     "text": [
      "\n",
      "      Epoch    GPU_mem   box_loss   cls_loss   dfl_loss  Instances       Size\n"
     ]
    },
    {
     "name": "stderr",
     "output_type": "stream",
     "text": [
      "   883/1000      6.71G     0.1098     0.0669     0.7573        261        736: 100%|██████████| 42/42 [00:08<00:00,  5.10it/s]\n"
     ]
    },
    {
     "name": "stdout",
     "output_type": "stream",
     "text": [
      "\n",
      "      Epoch    GPU_mem   box_loss   cls_loss   dfl_loss  Instances       Size\n"
     ]
    },
    {
     "name": "stderr",
     "output_type": "stream",
     "text": [
      "   884/1000      6.68G     0.1102    0.06684     0.7574        215        736: 100%|██████████| 42/42 [00:08<00:00,  5.06it/s]\n"
     ]
    },
    {
     "name": "stdout",
     "output_type": "stream",
     "text": [
      "\n",
      "      Epoch    GPU_mem   box_loss   cls_loss   dfl_loss  Instances       Size\n"
     ]
    },
    {
     "name": "stderr",
     "output_type": "stream",
     "text": [
      "   885/1000      6.61G     0.1111    0.06754     0.7563        272        736: 100%|██████████| 42/42 [00:08<00:00,  5.07it/s]\n"
     ]
    },
    {
     "name": "stdout",
     "output_type": "stream",
     "text": [
      "\n",
      "      Epoch    GPU_mem   box_loss   cls_loss   dfl_loss  Instances       Size\n"
     ]
    },
    {
     "name": "stderr",
     "output_type": "stream",
     "text": [
      "   886/1000      6.71G     0.1101    0.06706     0.7565        224        736: 100%|██████████| 42/42 [00:08<00:00,  5.05it/s]\n"
     ]
    },
    {
     "name": "stdout",
     "output_type": "stream",
     "text": [
      "\n",
      "      Epoch    GPU_mem   box_loss   cls_loss   dfl_loss  Instances       Size\n"
     ]
    },
    {
     "name": "stderr",
     "output_type": "stream",
     "text": [
      "   887/1000      6.65G     0.1111    0.06768     0.7577        299        736: 100%|██████████| 42/42 [00:08<00:00,  5.10it/s]\n"
     ]
    },
    {
     "name": "stdout",
     "output_type": "stream",
     "text": [
      "\n",
      "      Epoch    GPU_mem   box_loss   cls_loss   dfl_loss  Instances       Size\n"
     ]
    },
    {
     "name": "stderr",
     "output_type": "stream",
     "text": [
      "   888/1000      6.51G     0.1112    0.06716      0.758        337        736: 100%|██████████| 42/42 [00:08<00:00,  5.08it/s]\n"
     ]
    },
    {
     "name": "stdout",
     "output_type": "stream",
     "text": [
      "\n",
      "      Epoch    GPU_mem   box_loss   cls_loss   dfl_loss  Instances       Size\n"
     ]
    },
    {
     "name": "stderr",
     "output_type": "stream",
     "text": [
      "   889/1000      6.57G       0.11    0.06707      0.759        217        736: 100%|██████████| 42/42 [00:08<00:00,  5.09it/s]\n"
     ]
    },
    {
     "name": "stdout",
     "output_type": "stream",
     "text": [
      "\n",
      "      Epoch    GPU_mem   box_loss   cls_loss   dfl_loss  Instances       Size\n"
     ]
    },
    {
     "name": "stderr",
     "output_type": "stream",
     "text": [
      "   890/1000      6.78G     0.1117    0.06766     0.7589        274        736: 100%|██████████| 42/42 [00:08<00:00,  5.05it/s]\n"
     ]
    },
    {
     "name": "stdout",
     "output_type": "stream",
     "text": [
      "\n",
      "      Epoch    GPU_mem   box_loss   cls_loss   dfl_loss  Instances       Size\n"
     ]
    },
    {
     "name": "stderr",
     "output_type": "stream",
     "text": [
      "   891/1000      6.62G     0.1118    0.06787     0.7577        325        736: 100%|██████████| 42/42 [00:08<00:00,  5.04it/s]\n"
     ]
    },
    {
     "name": "stdout",
     "output_type": "stream",
     "text": [
      "\n",
      "      Epoch    GPU_mem   box_loss   cls_loss   dfl_loss  Instances       Size\n"
     ]
    },
    {
     "name": "stderr",
     "output_type": "stream",
     "text": [
      "   892/1000      6.69G     0.1109    0.06722     0.7584        252        736: 100%|██████████| 42/42 [00:08<00:00,  5.11it/s]\n"
     ]
    },
    {
     "name": "stdout",
     "output_type": "stream",
     "text": [
      "\n",
      "      Epoch    GPU_mem   box_loss   cls_loss   dfl_loss  Instances       Size\n"
     ]
    },
    {
     "name": "stderr",
     "output_type": "stream",
     "text": [
      "   893/1000      6.77G     0.1098    0.06677     0.7572        379        736: 100%|██████████| 42/42 [00:08<00:00,  5.02it/s]\n"
     ]
    },
    {
     "name": "stdout",
     "output_type": "stream",
     "text": [
      "\n",
      "      Epoch    GPU_mem   box_loss   cls_loss   dfl_loss  Instances       Size\n"
     ]
    },
    {
     "name": "stderr",
     "output_type": "stream",
     "text": [
      "   894/1000      6.61G     0.1101    0.06623     0.7562        284        736: 100%|██████████| 42/42 [00:08<00:00,  5.10it/s]\n"
     ]
    },
    {
     "name": "stdout",
     "output_type": "stream",
     "text": [
      "\n",
      "      Epoch    GPU_mem   box_loss   cls_loss   dfl_loss  Instances       Size\n"
     ]
    },
    {
     "name": "stderr",
     "output_type": "stream",
     "text": [
      "   895/1000      6.65G     0.1112    0.06804     0.7588        265        736: 100%|██████████| 42/42 [00:08<00:00,  5.05it/s]\n"
     ]
    },
    {
     "name": "stdout",
     "output_type": "stream",
     "text": [
      "\n",
      "      Epoch    GPU_mem   box_loss   cls_loss   dfl_loss  Instances       Size\n"
     ]
    },
    {
     "name": "stderr",
     "output_type": "stream",
     "text": [
      "   896/1000      6.73G     0.1115     0.0681     0.7571        228        736: 100%|██████████| 42/42 [00:08<00:00,  5.10it/s]\n"
     ]
    },
    {
     "name": "stdout",
     "output_type": "stream",
     "text": [
      "\n",
      "      Epoch    GPU_mem   box_loss   cls_loss   dfl_loss  Instances       Size\n"
     ]
    },
    {
     "name": "stderr",
     "output_type": "stream",
     "text": [
      "   897/1000      6.76G     0.1118    0.06794     0.7571        339        736: 100%|██████████| 42/42 [00:08<00:00,  5.08it/s]\n"
     ]
    },
    {
     "name": "stdout",
     "output_type": "stream",
     "text": [
      "\n",
      "      Epoch    GPU_mem   box_loss   cls_loss   dfl_loss  Instances       Size\n"
     ]
    },
    {
     "name": "stderr",
     "output_type": "stream",
     "text": [
      "   898/1000      6.67G      0.111    0.06649     0.7572        264        736: 100%|██████████| 42/42 [00:08<00:00,  5.05it/s]\n"
     ]
    },
    {
     "name": "stdout",
     "output_type": "stream",
     "text": [
      "\n",
      "      Epoch    GPU_mem   box_loss   cls_loss   dfl_loss  Instances       Size\n"
     ]
    },
    {
     "name": "stderr",
     "output_type": "stream",
     "text": [
      "   899/1000      6.78G     0.1101    0.06649     0.7576        306        736: 100%|██████████| 42/42 [00:08<00:00,  5.09it/s]\n"
     ]
    },
    {
     "name": "stdout",
     "output_type": "stream",
     "text": [
      "\n",
      "      Epoch    GPU_mem   box_loss   cls_loss   dfl_loss  Instances       Size\n"
     ]
    },
    {
     "name": "stderr",
     "output_type": "stream",
     "text": [
      "   900/1000      6.78G     0.1099    0.06614     0.7592        296        736: 100%|██████████| 42/42 [00:08<00:00,  5.08it/s]\n"
     ]
    },
    {
     "name": "stdout",
     "output_type": "stream",
     "text": [
      "\n",
      "      Epoch    GPU_mem   box_loss   cls_loss   dfl_loss  Instances       Size\n"
     ]
    },
    {
     "name": "stderr",
     "output_type": "stream",
     "text": [
      "   901/1000      6.71G     0.1105    0.06649      0.758        331        736: 100%|██████████| 42/42 [00:08<00:00,  5.06it/s]\n"
     ]
    },
    {
     "name": "stdout",
     "output_type": "stream",
     "text": [
      "\n",
      "      Epoch    GPU_mem   box_loss   cls_loss   dfl_loss  Instances       Size\n"
     ]
    },
    {
     "name": "stderr",
     "output_type": "stream",
     "text": [
      "   902/1000      6.53G     0.1101    0.06606     0.7574        224        736: 100%|██████████| 42/42 [00:08<00:00,  5.09it/s]\n"
     ]
    },
    {
     "name": "stdout",
     "output_type": "stream",
     "text": [
      "\n",
      "      Epoch    GPU_mem   box_loss   cls_loss   dfl_loss  Instances       Size\n"
     ]
    },
    {
     "name": "stderr",
     "output_type": "stream",
     "text": [
      "   903/1000       6.7G     0.1095    0.06579      0.759        328        736: 100%|██████████| 42/42 [00:08<00:00,  5.05it/s]\n"
     ]
    },
    {
     "name": "stdout",
     "output_type": "stream",
     "text": [
      "\n",
      "      Epoch    GPU_mem   box_loss   cls_loss   dfl_loss  Instances       Size\n"
     ]
    },
    {
     "name": "stderr",
     "output_type": "stream",
     "text": [
      "   904/1000      6.65G     0.1104    0.06602     0.7586        284        736: 100%|██████████| 42/42 [00:08<00:00,  5.07it/s]\n"
     ]
    },
    {
     "name": "stdout",
     "output_type": "stream",
     "text": [
      "\n",
      "      Epoch    GPU_mem   box_loss   cls_loss   dfl_loss  Instances       Size\n"
     ]
    },
    {
     "name": "stderr",
     "output_type": "stream",
     "text": [
      "   905/1000      6.52G     0.1108    0.06665     0.7562        343        736: 100%|██████████| 42/42 [00:08<00:00,  5.08it/s]\n"
     ]
    },
    {
     "name": "stdout",
     "output_type": "stream",
     "text": [
      "\n",
      "      Epoch    GPU_mem   box_loss   cls_loss   dfl_loss  Instances       Size\n"
     ]
    },
    {
     "name": "stderr",
     "output_type": "stream",
     "text": [
      "   906/1000      6.71G     0.1094      0.066     0.7578        347        736: 100%|██████████| 42/42 [00:08<00:00,  5.09it/s]\n"
     ]
    },
    {
     "name": "stdout",
     "output_type": "stream",
     "text": [
      "\n",
      "      Epoch    GPU_mem   box_loss   cls_loss   dfl_loss  Instances       Size\n"
     ]
    },
    {
     "name": "stderr",
     "output_type": "stream",
     "text": [
      "   907/1000      6.71G     0.1097    0.06618     0.7579        287        736: 100%|██████████| 42/42 [00:08<00:00,  5.09it/s]\n"
     ]
    },
    {
     "name": "stdout",
     "output_type": "stream",
     "text": [
      "\n",
      "      Epoch    GPU_mem   box_loss   cls_loss   dfl_loss  Instances       Size\n"
     ]
    },
    {
     "name": "stderr",
     "output_type": "stream",
     "text": [
      "   908/1000      6.77G     0.1111    0.06579     0.7555        214        736: 100%|██████████| 42/42 [00:08<00:00,  5.11it/s]\n"
     ]
    },
    {
     "name": "stdout",
     "output_type": "stream",
     "text": [
      "\n",
      "      Epoch    GPU_mem   box_loss   cls_loss   dfl_loss  Instances       Size\n"
     ]
    },
    {
     "name": "stderr",
     "output_type": "stream",
     "text": [
      "   909/1000      6.75G       0.11    0.06571      0.758        371        736: 100%|██████████| 42/42 [00:08<00:00,  5.09it/s]\n"
     ]
    },
    {
     "name": "stdout",
     "output_type": "stream",
     "text": [
      "\n",
      "      Epoch    GPU_mem   box_loss   cls_loss   dfl_loss  Instances       Size\n"
     ]
    },
    {
     "name": "stderr",
     "output_type": "stream",
     "text": [
      "   910/1000       6.5G     0.1098    0.06551     0.7568        273        736: 100%|██████████| 42/42 [00:08<00:00,  5.08it/s]\n"
     ]
    },
    {
     "name": "stdout",
     "output_type": "stream",
     "text": [
      "\n",
      "      Epoch    GPU_mem   box_loss   cls_loss   dfl_loss  Instances       Size\n"
     ]
    },
    {
     "name": "stderr",
     "output_type": "stream",
     "text": [
      "   911/1000      6.57G     0.1089    0.06572     0.7588        237        736: 100%|██████████| 42/42 [00:08<00:00,  5.09it/s]\n"
     ]
    },
    {
     "name": "stdout",
     "output_type": "stream",
     "text": [
      "\n",
      "      Epoch    GPU_mem   box_loss   cls_loss   dfl_loss  Instances       Size\n"
     ]
    },
    {
     "name": "stderr",
     "output_type": "stream",
     "text": [
      "   912/1000      6.65G     0.1081    0.06549     0.7573        273        736: 100%|██████████| 42/42 [00:08<00:00,  5.09it/s]\n"
     ]
    },
    {
     "name": "stdout",
     "output_type": "stream",
     "text": [
      "\n",
      "      Epoch    GPU_mem   box_loss   cls_loss   dfl_loss  Instances       Size\n"
     ]
    },
    {
     "name": "stderr",
     "output_type": "stream",
     "text": [
      "   913/1000      6.72G     0.1096    0.06574     0.7572        234        736: 100%|██████████| 42/42 [00:08<00:00,  5.10it/s]\n"
     ]
    },
    {
     "name": "stdout",
     "output_type": "stream",
     "text": [
      "\n",
      "      Epoch    GPU_mem   box_loss   cls_loss   dfl_loss  Instances       Size\n"
     ]
    },
    {
     "name": "stderr",
     "output_type": "stream",
     "text": [
      "   914/1000      6.48G     0.1114    0.06701     0.7579        353        736: 100%|██████████| 42/42 [00:08<00:00,  5.08it/s]\n"
     ]
    },
    {
     "name": "stdout",
     "output_type": "stream",
     "text": [
      "\n",
      "      Epoch    GPU_mem   box_loss   cls_loss   dfl_loss  Instances       Size\n"
     ]
    },
    {
     "name": "stderr",
     "output_type": "stream",
     "text": [
      "   915/1000      6.48G     0.1101    0.06594     0.7572        345        736: 100%|██████████| 42/42 [00:08<00:00,  5.07it/s]\n"
     ]
    },
    {
     "name": "stdout",
     "output_type": "stream",
     "text": [
      "\n",
      "      Epoch    GPU_mem   box_loss   cls_loss   dfl_loss  Instances       Size\n"
     ]
    },
    {
     "name": "stderr",
     "output_type": "stream",
     "text": [
      "   916/1000      6.78G     0.1112    0.06681     0.7579        318        736: 100%|██████████| 42/42 [00:08<00:00,  5.11it/s]\n"
     ]
    },
    {
     "name": "stdout",
     "output_type": "stream",
     "text": [
      "\n",
      "      Epoch    GPU_mem   box_loss   cls_loss   dfl_loss  Instances       Size\n"
     ]
    },
    {
     "name": "stderr",
     "output_type": "stream",
     "text": [
      "   917/1000      6.72G     0.1097    0.06631     0.7569        280        736: 100%|██████████| 42/42 [00:08<00:00,  5.11it/s]\n"
     ]
    },
    {
     "name": "stdout",
     "output_type": "stream",
     "text": [
      "\n",
      "      Epoch    GPU_mem   box_loss   cls_loss   dfl_loss  Instances       Size\n"
     ]
    },
    {
     "name": "stderr",
     "output_type": "stream",
     "text": [
      "   918/1000      6.65G     0.1096    0.06612     0.7574        408        736: 100%|██████████| 42/42 [00:08<00:00,  5.08it/s]\n"
     ]
    },
    {
     "name": "stdout",
     "output_type": "stream",
     "text": [
      "\n",
      "      Epoch    GPU_mem   box_loss   cls_loss   dfl_loss  Instances       Size\n"
     ]
    },
    {
     "name": "stderr",
     "output_type": "stream",
     "text": [
      "   919/1000      6.62G     0.1088    0.06512     0.7568        268        736: 100%|██████████| 42/42 [00:08<00:00,  5.09it/s]\n"
     ]
    },
    {
     "name": "stdout",
     "output_type": "stream",
     "text": [
      "\n",
      "      Epoch    GPU_mem   box_loss   cls_loss   dfl_loss  Instances       Size\n"
     ]
    },
    {
     "name": "stderr",
     "output_type": "stream",
     "text": [
      "   920/1000      6.66G     0.1074    0.06428     0.7565        229        736: 100%|██████████| 42/42 [00:08<00:00,  5.10it/s]\n"
     ]
    },
    {
     "name": "stdout",
     "output_type": "stream",
     "text": [
      "\n",
      "      Epoch    GPU_mem   box_loss   cls_loss   dfl_loss  Instances       Size\n"
     ]
    },
    {
     "name": "stderr",
     "output_type": "stream",
     "text": [
      "   921/1000      6.65G     0.1076     0.0641     0.7577        346        736: 100%|██████████| 42/42 [00:08<00:00,  5.09it/s]\n"
     ]
    },
    {
     "name": "stdout",
     "output_type": "stream",
     "text": [
      "\n",
      "      Epoch    GPU_mem   box_loss   cls_loss   dfl_loss  Instances       Size\n"
     ]
    },
    {
     "name": "stderr",
     "output_type": "stream",
     "text": [
      "   922/1000      6.77G     0.1092    0.06451     0.7571        279        736: 100%|██████████| 42/42 [00:08<00:00,  5.10it/s]\n"
     ]
    },
    {
     "name": "stdout",
     "output_type": "stream",
     "text": [
      "\n",
      "      Epoch    GPU_mem   box_loss   cls_loss   dfl_loss  Instances       Size\n"
     ]
    },
    {
     "name": "stderr",
     "output_type": "stream",
     "text": [
      "   923/1000      6.66G     0.1094    0.06546     0.7573        350        736: 100%|██████████| 42/42 [00:08<00:00,  5.07it/s]\n"
     ]
    },
    {
     "name": "stdout",
     "output_type": "stream",
     "text": [
      "\n",
      "      Epoch    GPU_mem   box_loss   cls_loss   dfl_loss  Instances       Size\n"
     ]
    },
    {
     "name": "stderr",
     "output_type": "stream",
     "text": [
      "   924/1000      6.79G     0.1086    0.06491     0.7564        291        736: 100%|██████████| 42/42 [00:08<00:00,  5.10it/s]\n"
     ]
    },
    {
     "name": "stdout",
     "output_type": "stream",
     "text": [
      "\n",
      "      Epoch    GPU_mem   box_loss   cls_loss   dfl_loss  Instances       Size\n"
     ]
    },
    {
     "name": "stderr",
     "output_type": "stream",
     "text": [
      "   925/1000      6.61G     0.1085    0.06514     0.7582        315        736: 100%|██████████| 42/42 [00:08<00:00,  5.10it/s]\n"
     ]
    },
    {
     "name": "stdout",
     "output_type": "stream",
     "text": [
      "\n",
      "      Epoch    GPU_mem   box_loss   cls_loss   dfl_loss  Instances       Size\n"
     ]
    },
    {
     "name": "stderr",
     "output_type": "stream",
     "text": [
      "   926/1000      6.71G     0.1079     0.0651     0.7582        226        736: 100%|██████████| 42/42 [00:08<00:00,  5.10it/s]\n"
     ]
    },
    {
     "name": "stdout",
     "output_type": "stream",
     "text": [
      "\n",
      "      Epoch    GPU_mem   box_loss   cls_loss   dfl_loss  Instances       Size\n"
     ]
    },
    {
     "name": "stderr",
     "output_type": "stream",
     "text": [
      "   927/1000      6.71G     0.1086     0.0651      0.759        345        736: 100%|██████████| 42/42 [00:08<00:00,  5.08it/s]\n"
     ]
    },
    {
     "name": "stdout",
     "output_type": "stream",
     "text": [
      "\n",
      "      Epoch    GPU_mem   box_loss   cls_loss   dfl_loss  Instances       Size\n"
     ]
    },
    {
     "name": "stderr",
     "output_type": "stream",
     "text": [
      "   928/1000      6.57G     0.1092    0.06544     0.7565        288        736: 100%|██████████| 42/42 [00:08<00:00,  5.07it/s]\n"
     ]
    },
    {
     "name": "stdout",
     "output_type": "stream",
     "text": [
      "\n",
      "      Epoch    GPU_mem   box_loss   cls_loss   dfl_loss  Instances       Size\n"
     ]
    },
    {
     "name": "stderr",
     "output_type": "stream",
     "text": [
      "   929/1000      6.77G     0.1099    0.06528      0.756        233        736: 100%|██████████| 42/42 [00:08<00:00,  5.10it/s]\n"
     ]
    },
    {
     "name": "stdout",
     "output_type": "stream",
     "text": [
      "\n",
      "      Epoch    GPU_mem   box_loss   cls_loss   dfl_loss  Instances       Size\n"
     ]
    },
    {
     "name": "stderr",
     "output_type": "stream",
     "text": [
      "   930/1000      6.76G      0.109    0.06507     0.7551        245        736: 100%|██████████| 42/42 [00:08<00:00,  5.09it/s]\n"
     ]
    },
    {
     "name": "stdout",
     "output_type": "stream",
     "text": [
      "\n",
      "      Epoch    GPU_mem   box_loss   cls_loss   dfl_loss  Instances       Size\n"
     ]
    },
    {
     "name": "stderr",
     "output_type": "stream",
     "text": [
      "   931/1000      6.72G     0.1083    0.06392     0.7583        226        736: 100%|██████████| 42/42 [00:08<00:00,  5.09it/s]\n"
     ]
    },
    {
     "name": "stdout",
     "output_type": "stream",
     "text": [
      "\n",
      "      Epoch    GPU_mem   box_loss   cls_loss   dfl_loss  Instances       Size\n"
     ]
    },
    {
     "name": "stderr",
     "output_type": "stream",
     "text": [
      "   932/1000      6.65G     0.1092    0.06394     0.7573        335        736: 100%|██████████| 42/42 [00:08<00:00,  5.10it/s]\n"
     ]
    },
    {
     "name": "stdout",
     "output_type": "stream",
     "text": [
      "\n",
      "      Epoch    GPU_mem   box_loss   cls_loss   dfl_loss  Instances       Size\n"
     ]
    },
    {
     "name": "stderr",
     "output_type": "stream",
     "text": [
      "   933/1000      6.64G     0.1078    0.06386     0.7582        230        736: 100%|██████████| 42/42 [00:08<00:00,  5.10it/s]\n"
     ]
    },
    {
     "name": "stdout",
     "output_type": "stream",
     "text": [
      "\n",
      "      Epoch    GPU_mem   box_loss   cls_loss   dfl_loss  Instances       Size\n"
     ]
    },
    {
     "name": "stderr",
     "output_type": "stream",
     "text": [
      "   934/1000      6.71G     0.1081    0.06422     0.7586        349        736: 100%|██████████| 42/42 [00:08<00:00,  5.08it/s]\n"
     ]
    },
    {
     "name": "stdout",
     "output_type": "stream",
     "text": [
      "\n",
      "      Epoch    GPU_mem   box_loss   cls_loss   dfl_loss  Instances       Size\n"
     ]
    },
    {
     "name": "stderr",
     "output_type": "stream",
     "text": [
      "   935/1000      6.72G      0.109    0.06391     0.7562        290        736: 100%|██████████| 42/42 [00:08<00:00,  5.10it/s]\n"
     ]
    },
    {
     "name": "stdout",
     "output_type": "stream",
     "text": [
      "\n",
      "      Epoch    GPU_mem   box_loss   cls_loss   dfl_loss  Instances       Size\n"
     ]
    },
    {
     "name": "stderr",
     "output_type": "stream",
     "text": [
      "   936/1000      6.59G     0.1084    0.06407     0.7565        228        736: 100%|██████████| 42/42 [00:08<00:00,  5.08it/s]\n"
     ]
    },
    {
     "name": "stdout",
     "output_type": "stream",
     "text": [
      "\n",
      "      Epoch    GPU_mem   box_loss   cls_loss   dfl_loss  Instances       Size\n"
     ]
    },
    {
     "name": "stderr",
     "output_type": "stream",
     "text": [
      "   937/1000      6.74G      0.108     0.0643     0.7563        250        736: 100%|██████████| 42/42 [00:08<00:00,  5.09it/s]\n"
     ]
    },
    {
     "name": "stdout",
     "output_type": "stream",
     "text": [
      "\n",
      "      Epoch    GPU_mem   box_loss   cls_loss   dfl_loss  Instances       Size\n"
     ]
    },
    {
     "name": "stderr",
     "output_type": "stream",
     "text": [
      "   938/1000      6.77G     0.1086    0.06473     0.7562        358        736: 100%|██████████| 42/42 [00:08<00:00,  5.10it/s]\n"
     ]
    },
    {
     "name": "stdout",
     "output_type": "stream",
     "text": [
      "\n",
      "      Epoch    GPU_mem   box_loss   cls_loss   dfl_loss  Instances       Size\n"
     ]
    },
    {
     "name": "stderr",
     "output_type": "stream",
     "text": [
      "   939/1000      6.55G     0.1076    0.06361     0.7565        326        736: 100%|██████████| 42/42 [00:08<00:00,  5.09it/s]\n"
     ]
    },
    {
     "name": "stdout",
     "output_type": "stream",
     "text": [
      "\n",
      "      Epoch    GPU_mem   box_loss   cls_loss   dfl_loss  Instances       Size\n"
     ]
    },
    {
     "name": "stderr",
     "output_type": "stream",
     "text": [
      "   940/1000      6.71G     0.1082    0.06426      0.757        333        736: 100%|██████████| 42/42 [00:08<00:00,  5.08it/s]\n"
     ]
    },
    {
     "name": "stdout",
     "output_type": "stream",
     "text": [
      "\n",
      "      Epoch    GPU_mem   box_loss   cls_loss   dfl_loss  Instances       Size\n"
     ]
    },
    {
     "name": "stderr",
     "output_type": "stream",
     "text": [
      "   941/1000      6.53G     0.1089    0.06539     0.7563        290        736: 100%|██████████| 42/42 [00:08<00:00,  5.08it/s]\n"
     ]
    },
    {
     "name": "stdout",
     "output_type": "stream",
     "text": [
      "\n",
      "      Epoch    GPU_mem   box_loss   cls_loss   dfl_loss  Instances       Size\n"
     ]
    },
    {
     "name": "stderr",
     "output_type": "stream",
     "text": [
      "   942/1000      6.77G      0.109    0.06469     0.7566        282        736: 100%|██████████| 42/42 [00:08<00:00,  5.10it/s]\n"
     ]
    },
    {
     "name": "stdout",
     "output_type": "stream",
     "text": [
      "\n",
      "      Epoch    GPU_mem   box_loss   cls_loss   dfl_loss  Instances       Size\n"
     ]
    },
    {
     "name": "stderr",
     "output_type": "stream",
     "text": [
      "   943/1000      6.65G     0.1104    0.06529      0.756        346        736: 100%|██████████| 42/42 [00:08<00:00,  5.05it/s]\n"
     ]
    },
    {
     "name": "stdout",
     "output_type": "stream",
     "text": [
      "\n",
      "      Epoch    GPU_mem   box_loss   cls_loss   dfl_loss  Instances       Size\n"
     ]
    },
    {
     "name": "stderr",
     "output_type": "stream",
     "text": [
      "   944/1000      6.72G     0.1082    0.06425     0.7575        333        736: 100%|██████████| 42/42 [00:08<00:00,  5.08it/s]\n"
     ]
    },
    {
     "name": "stdout",
     "output_type": "stream",
     "text": [
      "\n",
      "      Epoch    GPU_mem   box_loss   cls_loss   dfl_loss  Instances       Size\n"
     ]
    },
    {
     "name": "stderr",
     "output_type": "stream",
     "text": [
      "   945/1000      6.52G     0.1084    0.06429     0.7578        275        736: 100%|██████████| 42/42 [00:08<00:00,  5.09it/s]\n"
     ]
    },
    {
     "name": "stdout",
     "output_type": "stream",
     "text": [
      "\n",
      "      Epoch    GPU_mem   box_loss   cls_loss   dfl_loss  Instances       Size\n"
     ]
    },
    {
     "name": "stderr",
     "output_type": "stream",
     "text": [
      "   946/1000      6.49G     0.1079    0.06344     0.7574        277        736: 100%|██████████| 42/42 [00:08<00:00,  5.07it/s]\n"
     ]
    },
    {
     "name": "stdout",
     "output_type": "stream",
     "text": [
      "\n",
      "      Epoch    GPU_mem   box_loss   cls_loss   dfl_loss  Instances       Size\n"
     ]
    },
    {
     "name": "stderr",
     "output_type": "stream",
     "text": [
      "   947/1000      6.54G     0.1089    0.06387     0.7564        267        736: 100%|██████████| 42/42 [00:08<00:00,  5.07it/s]\n"
     ]
    },
    {
     "name": "stdout",
     "output_type": "stream",
     "text": [
      "\n",
      "      Epoch    GPU_mem   box_loss   cls_loss   dfl_loss  Instances       Size\n"
     ]
    },
    {
     "name": "stderr",
     "output_type": "stream",
     "text": [
      "   948/1000      6.71G     0.1081    0.06409      0.758        220        736: 100%|██████████| 42/42 [00:08<00:00,  5.07it/s]\n"
     ]
    },
    {
     "name": "stdout",
     "output_type": "stream",
     "text": [
      "\n",
      "      Epoch    GPU_mem   box_loss   cls_loss   dfl_loss  Instances       Size\n"
     ]
    },
    {
     "name": "stderr",
     "output_type": "stream",
     "text": [
      "   949/1000       6.7G     0.1081    0.06337     0.7561        282        736: 100%|██████████| 42/42 [00:08<00:00,  5.08it/s]\n"
     ]
    },
    {
     "name": "stdout",
     "output_type": "stream",
     "text": [
      "\n",
      "      Epoch    GPU_mem   box_loss   cls_loss   dfl_loss  Instances       Size\n"
     ]
    },
    {
     "name": "stderr",
     "output_type": "stream",
     "text": [
      "   950/1000      6.58G     0.1082    0.06348     0.7576        350        736: 100%|██████████| 42/42 [00:08<00:00,  5.10it/s]\n"
     ]
    },
    {
     "name": "stdout",
     "output_type": "stream",
     "text": [
      "\n",
      "      Epoch    GPU_mem   box_loss   cls_loss   dfl_loss  Instances       Size\n"
     ]
    },
    {
     "name": "stderr",
     "output_type": "stream",
     "text": [
      "   951/1000      6.78G     0.1084    0.06322     0.7574        288        736: 100%|██████████| 42/42 [00:08<00:00,  5.09it/s]\n"
     ]
    },
    {
     "name": "stdout",
     "output_type": "stream",
     "text": [
      "\n",
      "      Epoch    GPU_mem   box_loss   cls_loss   dfl_loss  Instances       Size\n"
     ]
    },
    {
     "name": "stderr",
     "output_type": "stream",
     "text": [
      "   952/1000      6.55G     0.1074    0.06374     0.7574        338        736: 100%|██████████| 42/42 [00:08<00:00,  5.06it/s]\n"
     ]
    },
    {
     "name": "stdout",
     "output_type": "stream",
     "text": [
      "\n",
      "      Epoch    GPU_mem   box_loss   cls_loss   dfl_loss  Instances       Size\n"
     ]
    },
    {
     "name": "stderr",
     "output_type": "stream",
     "text": [
      "   953/1000      6.66G     0.1083    0.06409     0.7557        229        736: 100%|██████████| 42/42 [00:08<00:00,  5.09it/s]\n"
     ]
    },
    {
     "name": "stdout",
     "output_type": "stream",
     "text": [
      "\n",
      "      Epoch    GPU_mem   box_loss   cls_loss   dfl_loss  Instances       Size\n"
     ]
    },
    {
     "name": "stderr",
     "output_type": "stream",
     "text": [
      "   954/1000      6.53G     0.1082    0.06361     0.7579        293        736: 100%|██████████| 42/42 [00:08<00:00,  5.09it/s]\n"
     ]
    },
    {
     "name": "stdout",
     "output_type": "stream",
     "text": [
      "\n",
      "      Epoch    GPU_mem   box_loss   cls_loss   dfl_loss  Instances       Size\n"
     ]
    },
    {
     "name": "stderr",
     "output_type": "stream",
     "text": [
      "   955/1000      6.72G     0.1092    0.06391      0.757        295        736: 100%|██████████| 42/42 [00:08<00:00,  5.11it/s]\n"
     ]
    },
    {
     "name": "stdout",
     "output_type": "stream",
     "text": [
      "\n",
      "      Epoch    GPU_mem   box_loss   cls_loss   dfl_loss  Instances       Size\n"
     ]
    },
    {
     "name": "stderr",
     "output_type": "stream",
     "text": [
      "   956/1000      6.77G     0.1073    0.06309      0.759        321        736: 100%|██████████| 42/42 [00:08<00:00,  5.10it/s]\n"
     ]
    },
    {
     "name": "stdout",
     "output_type": "stream",
     "text": [
      "\n",
      "      Epoch    GPU_mem   box_loss   cls_loss   dfl_loss  Instances       Size\n"
     ]
    },
    {
     "name": "stderr",
     "output_type": "stream",
     "text": [
      "   957/1000      6.61G     0.1079    0.06291     0.7571        323        736: 100%|██████████| 42/42 [00:08<00:00,  5.11it/s]\n"
     ]
    },
    {
     "name": "stdout",
     "output_type": "stream",
     "text": [
      "\n",
      "      Epoch    GPU_mem   box_loss   cls_loss   dfl_loss  Instances       Size\n"
     ]
    },
    {
     "name": "stderr",
     "output_type": "stream",
     "text": [
      "   958/1000      6.72G     0.1066    0.06213     0.7573        265        736: 100%|██████████| 42/42 [00:08<00:00,  5.09it/s]\n"
     ]
    },
    {
     "name": "stdout",
     "output_type": "stream",
     "text": [
      "\n",
      "      Epoch    GPU_mem   box_loss   cls_loss   dfl_loss  Instances       Size\n"
     ]
    },
    {
     "name": "stderr",
     "output_type": "stream",
     "text": [
      "   959/1000      6.78G     0.1059    0.06208     0.7577        208        736: 100%|██████████| 42/42 [00:08<00:00,  5.07it/s]\n"
     ]
    },
    {
     "name": "stdout",
     "output_type": "stream",
     "text": [
      "\n",
      "      Epoch    GPU_mem   box_loss   cls_loss   dfl_loss  Instances       Size\n"
     ]
    },
    {
     "name": "stderr",
     "output_type": "stream",
     "text": [
      "   960/1000       6.7G     0.1076    0.06215     0.7564        315        736: 100%|██████████| 42/42 [00:08<00:00,  5.08it/s]\n"
     ]
    },
    {
     "name": "stdout",
     "output_type": "stream",
     "text": [
      "\n",
      "      Epoch    GPU_mem   box_loss   cls_loss   dfl_loss  Instances       Size\n"
     ]
    },
    {
     "name": "stderr",
     "output_type": "stream",
     "text": [
      "   961/1000       6.7G     0.1055    0.06216     0.7572        238        736: 100%|██████████| 42/42 [00:08<00:00,  5.09it/s]\n"
     ]
    },
    {
     "name": "stdout",
     "output_type": "stream",
     "text": [
      "\n",
      "      Epoch    GPU_mem   box_loss   cls_loss   dfl_loss  Instances       Size\n"
     ]
    },
    {
     "name": "stderr",
     "output_type": "stream",
     "text": [
      "   962/1000       6.6G     0.1073    0.06229     0.7574        277        736: 100%|██████████| 42/42 [00:08<00:00,  5.09it/s]\n"
     ]
    },
    {
     "name": "stdout",
     "output_type": "stream",
     "text": [
      "\n",
      "      Epoch    GPU_mem   box_loss   cls_loss   dfl_loss  Instances       Size\n"
     ]
    },
    {
     "name": "stderr",
     "output_type": "stream",
     "text": [
      "   963/1000      6.79G     0.1067    0.06214     0.7577        223        736: 100%|██████████| 42/42 [00:08<00:00,  5.08it/s]\n"
     ]
    },
    {
     "name": "stdout",
     "output_type": "stream",
     "text": [
      "\n",
      "      Epoch    GPU_mem   box_loss   cls_loss   dfl_loss  Instances       Size\n"
     ]
    },
    {
     "name": "stderr",
     "output_type": "stream",
     "text": [
      "   964/1000      6.53G     0.1065    0.06227     0.7568        238        736: 100%|██████████| 42/42 [00:08<00:00,  5.11it/s]\n"
     ]
    },
    {
     "name": "stdout",
     "output_type": "stream",
     "text": [
      "\n",
      "      Epoch    GPU_mem   box_loss   cls_loss   dfl_loss  Instances       Size\n"
     ]
    },
    {
     "name": "stderr",
     "output_type": "stream",
     "text": [
      "   965/1000      6.71G     0.1071    0.06192     0.7553        360        736: 100%|██████████| 42/42 [00:08<00:00,  5.06it/s]\n"
     ]
    },
    {
     "name": "stdout",
     "output_type": "stream",
     "text": [
      "\n",
      "      Epoch    GPU_mem   box_loss   cls_loss   dfl_loss  Instances       Size\n"
     ]
    },
    {
     "name": "stderr",
     "output_type": "stream",
     "text": [
      "   966/1000      6.78G     0.1063    0.06202     0.7564        298        736: 100%|██████████| 42/42 [00:08<00:00,  5.09it/s]\n"
     ]
    },
    {
     "name": "stdout",
     "output_type": "stream",
     "text": [
      "\n",
      "      Epoch    GPU_mem   box_loss   cls_loss   dfl_loss  Instances       Size\n"
     ]
    },
    {
     "name": "stderr",
     "output_type": "stream",
     "text": [
      "   967/1000      6.53G     0.1058    0.06281     0.7567        337        736: 100%|██████████| 42/42 [00:08<00:00,  5.09it/s]\n"
     ]
    },
    {
     "name": "stdout",
     "output_type": "stream",
     "text": [
      "\n",
      "      Epoch    GPU_mem   box_loss   cls_loss   dfl_loss  Instances       Size\n"
     ]
    },
    {
     "name": "stderr",
     "output_type": "stream",
     "text": [
      "   968/1000      6.77G     0.1059    0.06209     0.7572        328        736: 100%|██████████| 42/42 [00:08<00:00,  5.10it/s]\n"
     ]
    },
    {
     "name": "stdout",
     "output_type": "stream",
     "text": [
      "\n",
      "      Epoch    GPU_mem   box_loss   cls_loss   dfl_loss  Instances       Size\n"
     ]
    },
    {
     "name": "stderr",
     "output_type": "stream",
     "text": [
      "   969/1000      6.71G     0.1065    0.06218     0.7569        270        736: 100%|██████████| 42/42 [00:08<00:00,  5.11it/s]\n"
     ]
    },
    {
     "name": "stdout",
     "output_type": "stream",
     "text": [
      "\n",
      "      Epoch    GPU_mem   box_loss   cls_loss   dfl_loss  Instances       Size\n"
     ]
    },
    {
     "name": "stderr",
     "output_type": "stream",
     "text": [
      "   970/1000      6.78G     0.1057     0.0619     0.7568        292        736: 100%|██████████| 42/42 [00:08<00:00,  5.11it/s]\n"
     ]
    },
    {
     "name": "stdout",
     "output_type": "stream",
     "text": [
      "\n",
      "      Epoch    GPU_mem   box_loss   cls_loss   dfl_loss  Instances       Size\n"
     ]
    },
    {
     "name": "stderr",
     "output_type": "stream",
     "text": [
      "   971/1000       6.7G     0.1055    0.06194     0.7575        232        736: 100%|██████████| 42/42 [00:08<00:00,  5.09it/s]\n"
     ]
    },
    {
     "name": "stdout",
     "output_type": "stream",
     "text": [
      "\n",
      "      Epoch    GPU_mem   box_loss   cls_loss   dfl_loss  Instances       Size\n"
     ]
    },
    {
     "name": "stderr",
     "output_type": "stream",
     "text": [
      "   972/1000      6.55G     0.1049    0.06114     0.7565        275        736: 100%|██████████| 42/42 [00:08<00:00,  5.04it/s]\n"
     ]
    },
    {
     "name": "stdout",
     "output_type": "stream",
     "text": [
      "\n",
      "      Epoch    GPU_mem   box_loss   cls_loss   dfl_loss  Instances       Size\n"
     ]
    },
    {
     "name": "stderr",
     "output_type": "stream",
     "text": [
      "   973/1000      6.71G     0.1062    0.06188     0.7575        361        736: 100%|██████████| 42/42 [00:08<00:00,  5.07it/s]\n"
     ]
    },
    {
     "name": "stdout",
     "output_type": "stream",
     "text": [
      "\n",
      "      Epoch    GPU_mem   box_loss   cls_loss   dfl_loss  Instances       Size\n"
     ]
    },
    {
     "name": "stderr",
     "output_type": "stream",
     "text": [
      "   974/1000      6.61G      0.106    0.06177     0.7566        307        736: 100%|██████████| 42/42 [00:08<00:00,  5.08it/s]\n"
     ]
    },
    {
     "name": "stdout",
     "output_type": "stream",
     "text": [
      "\n",
      "      Epoch    GPU_mem   box_loss   cls_loss   dfl_loss  Instances       Size\n"
     ]
    },
    {
     "name": "stderr",
     "output_type": "stream",
     "text": [
      "   975/1000      6.69G     0.1049    0.06144      0.756        349        736: 100%|██████████| 42/42 [00:08<00:00,  5.08it/s]\n"
     ]
    },
    {
     "name": "stdout",
     "output_type": "stream",
     "text": [
      "\n",
      "      Epoch    GPU_mem   box_loss   cls_loss   dfl_loss  Instances       Size\n"
     ]
    },
    {
     "name": "stderr",
     "output_type": "stream",
     "text": [
      "   976/1000      6.72G     0.1064     0.0615     0.7574        357        736: 100%|██████████| 42/42 [00:08<00:00,  5.06it/s]\n"
     ]
    },
    {
     "name": "stdout",
     "output_type": "stream",
     "text": [
      "\n",
      "      Epoch    GPU_mem   box_loss   cls_loss   dfl_loss  Instances       Size\n"
     ]
    },
    {
     "name": "stderr",
     "output_type": "stream",
     "text": [
      "   977/1000      6.77G     0.1062    0.06154     0.7575        292        736: 100%|██████████| 42/42 [00:08<00:00,  5.09it/s]\n"
     ]
    },
    {
     "name": "stdout",
     "output_type": "stream",
     "text": [
      "\n",
      "      Epoch    GPU_mem   box_loss   cls_loss   dfl_loss  Instances       Size\n"
     ]
    },
    {
     "name": "stderr",
     "output_type": "stream",
     "text": [
      "   978/1000      6.61G     0.1043    0.06093     0.7562        385        736: 100%|██████████| 42/42 [00:08<00:00,  5.10it/s]\n"
     ]
    },
    {
     "name": "stdout",
     "output_type": "stream",
     "text": [
      "\n",
      "      Epoch    GPU_mem   box_loss   cls_loss   dfl_loss  Instances       Size\n"
     ]
    },
    {
     "name": "stderr",
     "output_type": "stream",
     "text": [
      "   979/1000      6.52G     0.1057     0.0607     0.7579        200        736: 100%|██████████| 42/42 [00:08<00:00,  5.05it/s]\n"
     ]
    },
    {
     "name": "stdout",
     "output_type": "stream",
     "text": [
      "\n",
      "      Epoch    GPU_mem   box_loss   cls_loss   dfl_loss  Instances       Size\n"
     ]
    },
    {
     "name": "stderr",
     "output_type": "stream",
     "text": [
      "   980/1000       6.5G     0.1062    0.06117     0.7588        256        736: 100%|██████████| 42/42 [00:08<00:00,  5.07it/s]\n"
     ]
    },
    {
     "name": "stdout",
     "output_type": "stream",
     "text": [
      "\n",
      "      Epoch    GPU_mem   box_loss   cls_loss   dfl_loss  Instances       Size\n"
     ]
    },
    {
     "name": "stderr",
     "output_type": "stream",
     "text": [
      "   981/1000      6.71G     0.1059    0.06087     0.7572        381        736: 100%|██████████| 42/42 [00:08<00:00,  5.10it/s]\n"
     ]
    },
    {
     "name": "stdout",
     "output_type": "stream",
     "text": [
      "\n",
      "      Epoch    GPU_mem   box_loss   cls_loss   dfl_loss  Instances       Size\n"
     ]
    },
    {
     "name": "stderr",
     "output_type": "stream",
     "text": [
      "   982/1000      6.71G     0.1065    0.06073     0.7568        341        736: 100%|██████████| 42/42 [00:08<00:00,  5.09it/s]\n"
     ]
    },
    {
     "name": "stdout",
     "output_type": "stream",
     "text": [
      "\n",
      "      Epoch    GPU_mem   box_loss   cls_loss   dfl_loss  Instances       Size\n"
     ]
    },
    {
     "name": "stderr",
     "output_type": "stream",
     "text": [
      "   983/1000      6.77G     0.1052    0.06079     0.7563        284        736: 100%|██████████| 42/42 [00:08<00:00,  5.09it/s]\n"
     ]
    },
    {
     "name": "stdout",
     "output_type": "stream",
     "text": [
      "\n",
      "      Epoch    GPU_mem   box_loss   cls_loss   dfl_loss  Instances       Size\n"
     ]
    },
    {
     "name": "stderr",
     "output_type": "stream",
     "text": [
      "   984/1000      6.48G     0.1052    0.06109     0.7582        217        736: 100%|██████████| 42/42 [00:08<00:00,  5.08it/s]\n"
     ]
    },
    {
     "name": "stdout",
     "output_type": "stream",
     "text": [
      "\n",
      "      Epoch    GPU_mem   box_loss   cls_loss   dfl_loss  Instances       Size\n"
     ]
    },
    {
     "name": "stderr",
     "output_type": "stream",
     "text": [
      "   985/1000      6.47G      0.105    0.06126     0.7566        354        736: 100%|██████████| 42/42 [00:08<00:00,  5.10it/s]\n"
     ]
    },
    {
     "name": "stdout",
     "output_type": "stream",
     "text": [
      "\n",
      "      Epoch    GPU_mem   box_loss   cls_loss   dfl_loss  Instances       Size\n"
     ]
    },
    {
     "name": "stderr",
     "output_type": "stream",
     "text": [
      "   986/1000      6.65G     0.1045    0.06117     0.7565        379        736: 100%|██████████| 42/42 [00:08<00:00,  5.11it/s]\n"
     ]
    },
    {
     "name": "stdout",
     "output_type": "stream",
     "text": [
      "\n",
      "      Epoch    GPU_mem   box_loss   cls_loss   dfl_loss  Instances       Size\n"
     ]
    },
    {
     "name": "stderr",
     "output_type": "stream",
     "text": [
      "   987/1000       6.7G     0.1043    0.06027     0.7559        320        736: 100%|██████████| 42/42 [00:08<00:00,  5.10it/s]\n"
     ]
    },
    {
     "name": "stdout",
     "output_type": "stream",
     "text": [
      "\n",
      "      Epoch    GPU_mem   box_loss   cls_loss   dfl_loss  Instances       Size\n"
     ]
    },
    {
     "name": "stderr",
     "output_type": "stream",
     "text": [
      "   988/1000       6.7G     0.1063    0.06069     0.7559        255        736: 100%|██████████| 42/42 [00:08<00:00,  5.04it/s]\n"
     ]
    },
    {
     "name": "stdout",
     "output_type": "stream",
     "text": [
      "\n",
      "      Epoch    GPU_mem   box_loss   cls_loss   dfl_loss  Instances       Size\n"
     ]
    },
    {
     "name": "stderr",
     "output_type": "stream",
     "text": [
      "   989/1000      6.67G      0.105    0.06066     0.7568        269        736: 100%|██████████| 42/42 [00:08<00:00,  5.07it/s]\n"
     ]
    },
    {
     "name": "stdout",
     "output_type": "stream",
     "text": [
      "\n",
      "      Epoch    GPU_mem   box_loss   cls_loss   dfl_loss  Instances       Size\n"
     ]
    },
    {
     "name": "stderr",
     "output_type": "stream",
     "text": [
      "   990/1000      6.71G     0.1051    0.06062     0.7576        298        736: 100%|██████████| 42/42 [00:08<00:00,  5.04it/s]\n"
     ]
    },
    {
     "name": "stdout",
     "output_type": "stream",
     "text": [
      "Closing dataloader mosaic\n",
      "\n",
      "      Epoch    GPU_mem   box_loss   cls_loss   dfl_loss  Instances       Size\n"
     ]
    },
    {
     "name": "stderr",
     "output_type": "stream",
     "text": [
      "   991/1000      6.78G     0.1053    0.06003     0.7579        324        736: 100%|██████████| 42/42 [00:09<00:00,  4.59it/s]\n"
     ]
    },
    {
     "name": "stdout",
     "output_type": "stream",
     "text": [
      "\n",
      "      Epoch    GPU_mem   box_loss   cls_loss   dfl_loss  Instances       Size\n"
     ]
    },
    {
     "name": "stderr",
     "output_type": "stream",
     "text": [
      "   992/1000      6.63G     0.1064    0.06071     0.7578        364        736: 100%|██████████| 42/42 [00:08<00:00,  5.09it/s]\n"
     ]
    },
    {
     "name": "stdout",
     "output_type": "stream",
     "text": [
      "\n",
      "      Epoch    GPU_mem   box_loss   cls_loss   dfl_loss  Instances       Size\n"
     ]
    },
    {
     "name": "stderr",
     "output_type": "stream",
     "text": [
      "   993/1000      6.52G     0.1045     0.0601     0.7565        354        736: 100%|██████████| 42/42 [00:08<00:00,  5.08it/s]\n"
     ]
    },
    {
     "name": "stdout",
     "output_type": "stream",
     "text": [
      "\n",
      "      Epoch    GPU_mem   box_loss   cls_loss   dfl_loss  Instances       Size\n"
     ]
    },
    {
     "name": "stderr",
     "output_type": "stream",
     "text": [
      "   994/1000      6.77G     0.1033     0.0601     0.7574        211        736: 100%|██████████| 42/42 [00:08<00:00,  5.10it/s]\n"
     ]
    },
    {
     "name": "stdout",
     "output_type": "stream",
     "text": [
      "\n",
      "      Epoch    GPU_mem   box_loss   cls_loss   dfl_loss  Instances       Size\n"
     ]
    },
    {
     "name": "stderr",
     "output_type": "stream",
     "text": [
      "   995/1000      6.47G     0.1041    0.06047     0.7571        224        736: 100%|██████████| 42/42 [00:08<00:00,  5.09it/s]\n"
     ]
    },
    {
     "name": "stdout",
     "output_type": "stream",
     "text": [
      "\n",
      "      Epoch    GPU_mem   box_loss   cls_loss   dfl_loss  Instances       Size\n"
     ]
    },
    {
     "name": "stderr",
     "output_type": "stream",
     "text": [
      "   996/1000      6.64G     0.1067    0.06062     0.7556        311        736: 100%|██████████| 42/42 [00:08<00:00,  5.10it/s]\n"
     ]
    },
    {
     "name": "stdout",
     "output_type": "stream",
     "text": [
      "\n",
      "      Epoch    GPU_mem   box_loss   cls_loss   dfl_loss  Instances       Size\n"
     ]
    },
    {
     "name": "stderr",
     "output_type": "stream",
     "text": [
      "   997/1000       6.7G      0.104    0.05984     0.7584        313        736: 100%|██████████| 42/42 [00:08<00:00,  5.07it/s]\n"
     ]
    },
    {
     "name": "stdout",
     "output_type": "stream",
     "text": [
      "\n",
      "      Epoch    GPU_mem   box_loss   cls_loss   dfl_loss  Instances       Size\n"
     ]
    },
    {
     "name": "stderr",
     "output_type": "stream",
     "text": [
      "   998/1000      6.63G     0.1054    0.06026     0.7573        352        736: 100%|██████████| 42/42 [00:08<00:00,  5.09it/s]\n"
     ]
    },
    {
     "name": "stdout",
     "output_type": "stream",
     "text": [
      "\n",
      "      Epoch    GPU_mem   box_loss   cls_loss   dfl_loss  Instances       Size\n"
     ]
    },
    {
     "name": "stderr",
     "output_type": "stream",
     "text": [
      "   999/1000      6.77G     0.1046    0.05936      0.758        256        736: 100%|██████████| 42/42 [00:08<00:00,  5.10it/s]\n"
     ]
    },
    {
     "name": "stdout",
     "output_type": "stream",
     "text": [
      "\n",
      "      Epoch    GPU_mem   box_loss   cls_loss   dfl_loss  Instances       Size\n"
     ]
    },
    {
     "name": "stderr",
     "output_type": "stream",
     "text": [
      "  1000/1000      6.52G     0.1048    0.05967     0.7563        228        736: 100%|██████████| 42/42 [00:08<00:00,  5.10it/s]\n",
      "                 Class     Images  Instances      Box(P          R      mAP50  mAP50-95): 100%|██████████| 21/21 [00:09<00:00,  2.26it/s]\n"
     ]
    },
    {
     "name": "stdout",
     "output_type": "stream",
     "text": [
      "                   all        208      19851      0.998      0.997      0.994      0.993\n"
     ]
    },
    {
     "name": "stderr",
     "output_type": "stream",
     "text": [
      "D:\\code\\env\\anaconda\\envs\\mhy-yolo\\Lib\\site-packages\\ultralytics\\utils\\metrics.py:428: UserWarning: Glyph 36215 (\\N{CJK UNIFIED IDEOGRAPH-8D77}) missing from current font.\n",
      "  fig.savefig(plot_fname, dpi=250)\n",
      "D:\\code\\env\\anaconda\\envs\\mhy-yolo\\Lib\\site-packages\\ultralytics\\utils\\metrics.py:428: UserWarning: Glyph 28857 (\\N{CJK UNIFIED IDEOGRAPH-70B9}) missing from current font.\n",
      "  fig.savefig(plot_fname, dpi=250)\n",
      "D:\\code\\env\\anaconda\\envs\\mhy-yolo\\Lib\\site-packages\\ultralytics\\utils\\metrics.py:428: UserWarning: Glyph 40831 (\\N{CJK UNIFIED IDEOGRAPH-9F7F}) missing from current font.\n",
      "  fig.savefig(plot_fname, dpi=250)\n",
      "D:\\code\\env\\anaconda\\envs\\mhy-yolo\\Lib\\site-packages\\ultralytics\\utils\\metrics.py:428: UserWarning: Glyph 36718 (\\N{CJK UNIFIED IDEOGRAPH-8F6E}) missing from current font.\n",
      "  fig.savefig(plot_fname, dpi=250)\n",
      "D:\\code\\env\\anaconda\\envs\\mhy-yolo\\Lib\\site-packages\\ultralytics\\utils\\metrics.py:428: UserWarning: Glyph 30828 (\\N{CJK UNIFIED IDEOGRAPH-786C}) missing from current font.\n",
      "  fig.savefig(plot_fname, dpi=250)\n",
      "D:\\code\\env\\anaconda\\envs\\mhy-yolo\\Lib\\site-packages\\ultralytics\\utils\\metrics.py:428: UserWarning: Glyph 24065 (\\N{CJK UNIFIED IDEOGRAPH-5E01}) missing from current font.\n",
      "  fig.savefig(plot_fname, dpi=250)\n",
      "D:\\code\\env\\anaconda\\envs\\mhy-yolo\\Lib\\site-packages\\ultralytics\\utils\\metrics.py:428: UserWarning: Glyph 31665 (\\N{CJK UNIFIED IDEOGRAPH-7BB1}) missing from current font.\n",
      "  fig.savefig(plot_fname, dpi=250)\n",
      "D:\\code\\env\\anaconda\\envs\\mhy-yolo\\Lib\\site-packages\\ultralytics\\utils\\metrics.py:428: UserWarning: Glyph 21361 (\\N{CJK UNIFIED IDEOGRAPH-5371}) missing from current font.\n",
      "  fig.savefig(plot_fname, dpi=250)\n",
      "D:\\code\\env\\anaconda\\envs\\mhy-yolo\\Lib\\site-packages\\ultralytics\\utils\\metrics.py:428: UserWarning: Glyph 26426 (\\N{CJK UNIFIED IDEOGRAPH-673A}) missing from current font.\n",
      "  fig.savefig(plot_fname, dpi=250)\n",
      "D:\\code\\env\\anaconda\\envs\\mhy-yolo\\Lib\\site-packages\\ultralytics\\utils\\metrics.py:428: UserWarning: Glyph 19994 (\\N{CJK UNIFIED IDEOGRAPH-4E1A}) missing from current font.\n",
      "  fig.savefig(plot_fname, dpi=250)\n",
      "D:\\code\\env\\anaconda\\envs\\mhy-yolo\\Lib\\site-packages\\ultralytics\\utils\\metrics.py:428: UserWarning: Glyph 32489 (\\N{CJK UNIFIED IDEOGRAPH-7EE9}) missing from current font.\n",
      "  fig.savefig(plot_fname, dpi=250)\n",
      "D:\\code\\env\\anaconda\\envs\\mhy-yolo\\Lib\\site-packages\\ultralytics\\utils\\metrics.py:428: UserWarning: Glyph 32771 (\\N{CJK UNIFIED IDEOGRAPH-8003}) missing from current font.\n",
      "  fig.savefig(plot_fname, dpi=250)\n",
      "D:\\code\\env\\anaconda\\envs\\mhy-yolo\\Lib\\site-packages\\ultralytics\\utils\\metrics.py:428: UserWarning: Glyph 23519 (\\N{CJK UNIFIED IDEOGRAPH-5BDF}) missing from current font.\n",
      "  fig.savefig(plot_fname, dpi=250)\n",
      "D:\\code\\env\\anaconda\\envs\\mhy-yolo\\Lib\\site-packages\\ultralytics\\utils\\metrics.py:428: UserWarning: Glyph 21450 (\\N{CJK UNIFIED IDEOGRAPH-53CA}) missing from current font.\n",
      "  fig.savefig(plot_fname, dpi=250)\n",
      "D:\\code\\env\\anaconda\\envs\\mhy-yolo\\Lib\\site-packages\\ultralytics\\utils\\metrics.py:428: UserWarning: Glyph 26102 (\\N{CJK UNIFIED IDEOGRAPH-65F6}) missing from current font.\n",
      "  fig.savefig(plot_fname, dpi=250)\n",
      "D:\\code\\env\\anaconda\\envs\\mhy-yolo\\Lib\\site-packages\\ultralytics\\utils\\metrics.py:428: UserWarning: Glyph 34917 (\\N{CJK UNIFIED IDEOGRAPH-8865}) missing from current font.\n",
      "  fig.savefig(plot_fname, dpi=250)\n",
      "D:\\code\\env\\anaconda\\envs\\mhy-yolo\\Lib\\site-packages\\ultralytics\\utils\\metrics.py:428: UserWarning: Glyph 32473 (\\N{CJK UNIFIED IDEOGRAPH-7ED9}) missing from current font.\n",
      "  fig.savefig(plot_fname, dpi=250)\n",
      "D:\\code\\env\\anaconda\\envs\\mhy-yolo\\Lib\\site-packages\\ultralytics\\utils\\metrics.py:428: UserWarning: Glyph 25554 (\\N{CJK UNIFIED IDEOGRAPH-63D2}) missing from current font.\n",
      "  fig.savefig(plot_fname, dpi=250)\n",
      "D:\\code\\env\\anaconda\\envs\\mhy-yolo\\Lib\\site-packages\\ultralytics\\utils\\metrics.py:428: UserWarning: Glyph 20214 (\\N{CJK UNIFIED IDEOGRAPH-4EF6}) missing from current font.\n",
      "  fig.savefig(plot_fname, dpi=250)\n",
      "D:\\code\\env\\anaconda\\envs\\mhy-yolo\\Lib\\site-packages\\ultralytics\\utils\\metrics.py:428: UserWarning: Glyph 33719 (\\N{CJK UNIFIED IDEOGRAPH-83B7}) missing from current font.\n",
      "  fig.savefig(plot_fname, dpi=250)\n",
      "D:\\code\\env\\anaconda\\envs\\mhy-yolo\\Lib\\site-packages\\ultralytics\\utils\\metrics.py:428: UserWarning: Glyph 21462 (\\N{CJK UNIFIED IDEOGRAPH-53D6}) missing from current font.\n",
      "  fig.savefig(plot_fname, dpi=250)\n",
      "D:\\code\\env\\anaconda\\envs\\mhy-yolo\\Lib\\site-packages\\ultralytics\\utils\\metrics.py:428: UserWarning: Glyph 25197 (\\N{CJK UNIFIED IDEOGRAPH-626D}) missing from current font.\n",
      "  fig.savefig(plot_fname, dpi=250)\n",
      "D:\\code\\env\\anaconda\\envs\\mhy-yolo\\Lib\\site-packages\\ultralytics\\utils\\metrics.py:428: UserWarning: Glyph 34507 (\\N{CJK UNIFIED IDEOGRAPH-86CB}) missing from current font.\n",
      "  fig.savefig(plot_fname, dpi=250)\n",
      "D:\\code\\env\\anaconda\\envs\\mhy-yolo\\Lib\\site-packages\\ultralytics\\utils\\metrics.py:428: UserWarning: Glyph 21628 (\\N{CJK UNIFIED IDEOGRAPH-547C}) missing from current font.\n",
      "  fig.savefig(plot_fname, dpi=250)\n",
      "D:\\code\\env\\anaconda\\envs\\mhy-yolo\\Lib\\site-packages\\ultralytics\\utils\\metrics.py:428: UserWarning: Glyph 21483 (\\N{CJK UNIFIED IDEOGRAPH-53EB}) missing from current font.\n",
      "  fig.savefig(plot_fname, dpi=250)\n",
      "D:\\code\\env\\anaconda\\envs\\mhy-yolo\\Lib\\site-packages\\ultralytics\\utils\\metrics.py:428: UserWarning: Glyph 22686 (\\N{CJK UNIFIED IDEOGRAPH-589E}) missing from current font.\n",
      "  fig.savefig(plot_fname, dpi=250)\n",
      "D:\\code\\env\\anaconda\\envs\\mhy-yolo\\Lib\\site-packages\\ultralytics\\utils\\metrics.py:428: UserWarning: Glyph 25588 (\\N{CJK UNIFIED IDEOGRAPH-63F4}) missing from current font.\n",
      "  fig.savefig(plot_fname, dpi=250)\n",
      "D:\\code\\env\\anaconda\\envs\\mhy-yolo\\Lib\\site-packages\\ultralytics\\utils\\metrics.py:428: UserWarning: Glyph 31192 (\\N{CJK UNIFIED IDEOGRAPH-79D8}) missing from current font.\n",
      "  fig.savefig(plot_fname, dpi=250)\n",
      "D:\\code\\env\\anaconda\\envs\\mhy-yolo\\Lib\\site-packages\\ultralytics\\utils\\metrics.py:428: UserWarning: Glyph 24452 (\\N{CJK UNIFIED IDEOGRAPH-5F84}) missing from current font.\n",
      "  fig.savefig(plot_fname, dpi=250)\n",
      "D:\\code\\env\\anaconda\\envs\\mhy-yolo\\Lib\\site-packages\\ultralytics\\utils\\metrics.py:428: UserWarning: Glyph 25805 (\\N{CJK UNIFIED IDEOGRAPH-64CD}) missing from current font.\n",
      "  fig.savefig(plot_fname, dpi=250)\n",
      "D:\\code\\env\\anaconda\\envs\\mhy-yolo\\Lib\\site-packages\\ultralytics\\utils\\metrics.py:428: UserWarning: Glyph 32437 (\\N{CJK UNIFIED IDEOGRAPH-7EB5}) missing from current font.\n",
      "  fig.savefig(plot_fname, dpi=250)\n",
      "D:\\code\\env\\anaconda\\envs\\mhy-yolo\\Lib\\site-packages\\ultralytics\\utils\\metrics.py:428: UserWarning: Glyph 26438 (\\N{CJK UNIFIED IDEOGRAPH-6746}) missing from current font.\n",
      "  fig.savefig(plot_fname, dpi=250)\n",
      "D:\\code\\env\\anaconda\\envs\\mhy-yolo\\Lib\\site-packages\\ultralytics\\utils\\metrics.py:428: UserWarning: Glyph 36994 (\\N{CJK UNIFIED IDEOGRAPH-9082}) missing from current font.\n",
      "  fig.savefig(plot_fname, dpi=250)\n",
      "D:\\code\\env\\anaconda\\envs\\mhy-yolo\\Lib\\site-packages\\ultralytics\\utils\\metrics.py:428: UserWarning: Glyph 36869 (\\N{CJK UNIFIED IDEOGRAPH-9005}) missing from current font.\n",
      "  fig.savefig(plot_fname, dpi=250)\n",
      "D:\\code\\env\\anaconda\\envs\\mhy-yolo\\Lib\\site-packages\\ultralytics\\utils\\metrics.py:428: UserWarning: Glyph 20405 (\\N{CJK UNIFIED IDEOGRAPH-4FB5}) missing from current font.\n",
      "  fig.savefig(plot_fname, dpi=250)\n",
      "D:\\code\\env\\anaconda\\envs\\mhy-yolo\\Lib\\site-packages\\ultralytics\\utils\\metrics.py:428: UserWarning: Glyph 34432 (\\N{CJK UNIFIED IDEOGRAPH-8680}) missing from current font.\n",
      "  fig.savefig(plot_fname, dpi=250)\n",
      "D:\\code\\env\\anaconda\\envs\\mhy-yolo\\Lib\\site-packages\\ultralytics\\utils\\metrics.py:428: UserWarning: Glyph 20020 (\\N{CJK UNIFIED IDEOGRAPH-4E34}) missing from current font.\n",
      "  fig.savefig(plot_fname, dpi=250)\n",
      "D:\\code\\env\\anaconda\\envs\\mhy-yolo\\Lib\\site-packages\\ultralytics\\utils\\metrics.py:428: UserWarning: Glyph 25293 (\\N{CJK UNIFIED IDEOGRAPH-62CD}) missing from current font.\n",
      "  fig.savefig(plot_fname, dpi=250)\n",
      "D:\\code\\env\\anaconda\\envs\\mhy-yolo\\Lib\\site-packages\\ultralytics\\utils\\metrics.py:428: UserWarning: Glyph 26723 (\\N{CJK UNIFIED IDEOGRAPH-6863}) missing from current font.\n",
      "  fig.savefig(plot_fname, dpi=250)\n",
      "D:\\code\\env\\anaconda\\envs\\mhy-yolo\\Lib\\site-packages\\ultralytics\\utils\\metrics.py:428: UserWarning: Glyph 20551 (\\N{CJK UNIFIED IDEOGRAPH-5047}) missing from current font.\n",
      "  fig.savefig(plot_fname, dpi=250)\n",
      "D:\\code\\env\\anaconda\\envs\\mhy-yolo\\Lib\\site-packages\\ultralytics\\utils\\metrics.py:428: UserWarning: Glyph 38754 (\\N{CJK UNIFIED IDEOGRAPH-9762}) missing from current font.\n",
      "  fig.savefig(plot_fname, dpi=250)\n",
      "D:\\code\\env\\anaconda\\envs\\mhy-yolo\\Lib\\site-packages\\ultralytics\\utils\\metrics.py:428: UserWarning: Glyph 30740 (\\N{CJK UNIFIED IDEOGRAPH-7814}) missing from current font.\n",
      "  fig.savefig(plot_fname, dpi=250)\n",
      "D:\\code\\env\\anaconda\\envs\\mhy-yolo\\Lib\\site-packages\\ultralytics\\utils\\metrics.py:428: UserWarning: Glyph 31350 (\\N{CJK UNIFIED IDEOGRAPH-7A76}) missing from current font.\n",
      "  fig.savefig(plot_fname, dpi=250)\n",
      "D:\\code\\env\\anaconda\\envs\\mhy-yolo\\Lib\\site-packages\\ultralytics\\utils\\metrics.py:428: UserWarning: Glyph 32773 (\\N{CJK UNIFIED IDEOGRAPH-8005}) missing from current font.\n",
      "  fig.savefig(plot_fname, dpi=250)\n",
      "D:\\code\\env\\anaconda\\envs\\mhy-yolo\\Lib\\site-packages\\ultralytics\\utils\\metrics.py:428: UserWarning: Glyph 40483 (\\N{CJK UNIFIED IDEOGRAPH-9E23}) missing from current font.\n",
      "  fig.savefig(plot_fname, dpi=250)\n",
      "D:\\code\\env\\anaconda\\envs\\mhy-yolo\\Lib\\site-packages\\ultralytics\\utils\\metrics.py:428: UserWarning: Glyph 24509 (\\N{CJK UNIFIED IDEOGRAPH-5FBD}) missing from current font.\n",
      "  fig.savefig(plot_fname, dpi=250)\n",
      "D:\\code\\env\\anaconda\\envs\\mhy-yolo\\Lib\\site-packages\\ultralytics\\utils\\metrics.py:428: UserWarning: Glyph 20652 (\\N{CJK UNIFIED IDEOGRAPH-50AC}) missing from current font.\n",
      "  fig.savefig(plot_fname, dpi=250)\n",
      "D:\\code\\env\\anaconda\\envs\\mhy-yolo\\Lib\\site-packages\\ultralytics\\utils\\metrics.py:428: UserWarning: Glyph 21270 (\\N{CJK UNIFIED IDEOGRAPH-5316}) missing from current font.\n",
      "  fig.savefig(plot_fname, dpi=250)\n",
      "D:\\code\\env\\anaconda\\envs\\mhy-yolo\\Lib\\site-packages\\ultralytics\\utils\\metrics.py:428: UserWarning: Glyph 21058 (\\N{CJK UNIFIED IDEOGRAPH-5242}) missing from current font.\n",
      "  fig.savefig(plot_fname, dpi=250)\n",
      "D:\\code\\env\\anaconda\\envs\\mhy-yolo\\Lib\\site-packages\\ultralytics\\utils\\metrics.py:428: UserWarning: Glyph 35843 (\\N{CJK UNIFIED IDEOGRAPH-8C03}) missing from current font.\n",
      "  fig.savefig(plot_fname, dpi=250)\n",
      "D:\\code\\env\\anaconda\\envs\\mhy-yolo\\Lib\\site-packages\\ultralytics\\utils\\metrics.py:428: UserWarning: Glyph 26597 (\\N{CJK UNIFIED IDEOGRAPH-67E5}) missing from current font.\n",
      "  fig.savefig(plot_fname, dpi=250)\n",
      "D:\\code\\env\\anaconda\\envs\\mhy-yolo\\Lib\\site-packages\\ultralytics\\utils\\metrics.py:428: UserWarning: Glyph 21592 (\\N{CJK UNIFIED IDEOGRAPH-5458}) missing from current font.\n",
      "  fig.savefig(plot_fname, dpi=250)\n",
      "D:\\code\\env\\anaconda\\envs\\mhy-yolo\\Lib\\site-packages\\ultralytics\\utils\\metrics.py:428: UserWarning: Glyph 30423 (\\N{CJK UNIFIED IDEOGRAPH-76D7}) missing from current font.\n",
      "  fig.savefig(plot_fname, dpi=250)\n",
      "D:\\code\\env\\anaconda\\envs\\mhy-yolo\\Lib\\site-packages\\ultralytics\\utils\\metrics.py:428: UserWarning: Glyph 27934 (\\N{CJK UNIFIED IDEOGRAPH-6D1E}) missing from current font.\n",
      "  fig.savefig(plot_fname, dpi=250)\n",
      "D:\\code\\env\\anaconda\\envs\\mhy-yolo\\Lib\\site-packages\\ultralytics\\utils\\metrics.py:428: UserWarning: Glyph 23458 (\\N{CJK UNIFIED IDEOGRAPH-5BA2}) missing from current font.\n",
      "  fig.savefig(plot_fname, dpi=250)\n",
      "D:\\code\\env\\anaconda\\envs\\mhy-yolo\\Lib\\site-packages\\ultralytics\\utils\\metrics.py:428: UserWarning: Glyph 37030 (\\N{CJK UNIFIED IDEOGRAPH-90A6}) missing from current font.\n",
      "  fig.savefig(plot_fname, dpi=250)\n",
      "D:\\code\\env\\anaconda\\envs\\mhy-yolo\\Lib\\site-packages\\ultralytics\\utils\\metrics.py:428: UserWarning: Glyph 24067 (\\N{CJK UNIFIED IDEOGRAPH-5E03}) missing from current font.\n",
      "  fig.savefig(plot_fname, dpi=250)\n",
      "D:\\code\\env\\anaconda\\envs\\mhy-yolo\\Lib\\site-packages\\ultralytics\\utils\\metrics.py:428: UserWarning: Glyph 21830 (\\N{CJK UNIFIED IDEOGRAPH-5546}) missing from current font.\n",
      "  fig.savefig(plot_fname, dpi=250)\n",
      "D:\\code\\env\\anaconda\\envs\\mhy-yolo\\Lib\\site-packages\\ultralytics\\utils\\metrics.py:428: UserWarning: Glyph 20154 (\\N{CJK UNIFIED IDEOGRAPH-4EBA}) missing from current font.\n",
      "  fig.savefig(plot_fname, dpi=250)\n",
      "D:\\code\\env\\anaconda\\envs\\mhy-yolo\\Lib\\site-packages\\ultralytics\\utils\\metrics.py:428: UserWarning: Glyph 38376 (\\N{CJK UNIFIED IDEOGRAPH-95E8}) missing from current font.\n",
      "  fig.savefig(plot_fname, dpi=250)\n",
      "D:\\code\\env\\anaconda\\envs\\mhy-yolo\\Lib\\site-packages\\ultralytics\\utils\\metrics.py:428: UserWarning: Glyph 25161 (\\N{CJK UNIFIED IDEOGRAPH-6249}) missing from current font.\n",
      "  fig.savefig(plot_fname, dpi=250)\n",
      "D:\\code\\env\\anaconda\\envs\\mhy-yolo\\Lib\\site-packages\\ultralytics\\utils\\metrics.py:428: UserWarning: Glyph 31105 (\\N{CJK UNIFIED IDEOGRAPH-7981}) missing from current font.\n",
      "  fig.savefig(plot_fname, dpi=250)\n",
      "D:\\code\\env\\anaconda\\envs\\mhy-yolo\\Lib\\site-packages\\ultralytics\\utils\\metrics.py:428: UserWarning: Glyph 38381 (\\N{CJK UNIFIED IDEOGRAPH-95ED}) missing from current font.\n",
      "  fig.savefig(plot_fname, dpi=250)\n",
      "D:\\code\\env\\anaconda\\envs\\mhy-yolo\\Lib\\site-packages\\ultralytics\\utils\\metrics.py:428: UserWarning: Glyph 36130 (\\N{CJK UNIFIED IDEOGRAPH-8D22}) missing from current font.\n",
      "  fig.savefig(plot_fname, dpi=250)\n",
      "D:\\code\\env\\anaconda\\envs\\mhy-yolo\\Lib\\site-packages\\ultralytics\\utils\\metrics.py:428: UserWarning: Glyph 23500 (\\N{CJK UNIFIED IDEOGRAPH-5BCC}) missing from current font.\n",
      "  fig.savefig(plot_fname, dpi=250)\n",
      "D:\\code\\env\\anaconda\\envs\\mhy-yolo\\Lib\\site-packages\\ultralytics\\utils\\metrics.py:428: UserWarning: Glyph 39037 (\\N{CJK UNIFIED IDEOGRAPH-987D}) missing from current font.\n",
      "  fig.savefig(plot_fname, dpi=250)\n",
      "D:\\code\\env\\anaconda\\envs\\mhy-yolo\\Lib\\site-packages\\ultralytics\\utils\\metrics.py:428: UserWarning: Glyph 22266 (\\N{CJK UNIFIED IDEOGRAPH-56FA}) missing from current font.\n",
      "  fig.savefig(plot_fname, dpi=250)\n",
      "D:\\code\\env\\anaconda\\envs\\mhy-yolo\\Lib\\site-packages\\ultralytics\\utils\\metrics.py:428: UserWarning: Glyph 30340 (\\N{CJK UNIFIED IDEOGRAPH-7684}) missing from current font.\n",
      "  fig.savefig(plot_fname, dpi=250)\n",
      "D:\\code\\env\\anaconda\\envs\\mhy-yolo\\Lib\\site-packages\\ultralytics\\utils\\metrics.py:428: UserWarning: Glyph 38556 (\\N{CJK UNIFIED IDEOGRAPH-969C}) missing from current font.\n",
      "  fig.savefig(plot_fname, dpi=250)\n",
      "D:\\code\\env\\anaconda\\envs\\mhy-yolo\\Lib\\site-packages\\ultralytics\\utils\\metrics.py:428: UserWarning: Glyph 30861 (\\N{CJK UNIFIED IDEOGRAPH-788D}) missing from current font.\n",
      "  fig.savefig(plot_fname, dpi=250)\n",
      "D:\\code\\env\\anaconda\\envs\\mhy-yolo\\Lib\\site-packages\\ultralytics\\utils\\metrics.py:428: UserWarning: Glyph 29289 (\\N{CJK UNIFIED IDEOGRAPH-7269}) missing from current font.\n",
      "  fig.savefig(plot_fname, dpi=250)\n",
      "D:\\code\\env\\anaconda\\envs\\mhy-yolo\\Lib\\site-packages\\ultralytics\\utils\\metrics.py:428: UserWarning: Glyph 27531 (\\N{CJK UNIFIED IDEOGRAPH-6B8B}) missing from current font.\n",
      "  fig.savefig(plot_fname, dpi=250)\n",
      "D:\\code\\env\\anaconda\\envs\\mhy-yolo\\Lib\\site-packages\\ultralytics\\utils\\metrics.py:428: UserWarning: Glyph 30772 (\\N{CJK UNIFIED IDEOGRAPH-7834}) missing from current font.\n",
      "  fig.savefig(plot_fname, dpi=250)\n",
      "D:\\code\\env\\anaconda\\envs\\mhy-yolo\\Lib\\site-packages\\ultralytics\\utils\\metrics.py:428: UserWarning: Glyph 21452 (\\N{CJK UNIFIED IDEOGRAPH-53CC}) missing from current font.\n",
      "  fig.savefig(plot_fname, dpi=250)\n",
      "D:\\code\\env\\anaconda\\envs\\mhy-yolo\\Lib\\site-packages\\ultralytics\\utils\\metrics.py:428: UserWarning: Glyph 37325 (\\N{CJK UNIFIED IDEOGRAPH-91CD}) missing from current font.\n",
      "  fig.savefig(plot_fname, dpi=250)\n",
      "D:\\code\\env\\anaconda\\envs\\mhy-yolo\\Lib\\site-packages\\ultralytics\\utils\\metrics.py:428: UserWarning: Glyph 21892 (\\N{CJK UNIFIED IDEOGRAPH-5584}) missing from current font.\n",
      "  fig.savefig(plot_fname, dpi=250)\n",
      "D:\\code\\env\\anaconda\\envs\\mhy-yolo\\Lib\\site-packages\\ultralytics\\utils\\metrics.py:428: UserWarning: Glyph 25112 (\\N{CJK UNIFIED IDEOGRAPH-6218}) missing from current font.\n",
      "  fig.savefig(plot_fname, dpi=250)\n",
      "D:\\code\\env\\anaconda\\envs\\mhy-yolo\\Lib\\site-packages\\ultralytics\\utils\\metrics.py:428: UserWarning: Glyph 24320 (\\N{CJK UNIFIED IDEOGRAPH-5F00}) missing from current font.\n",
      "  fig.savefig(plot_fname, dpi=250)\n",
      "D:\\code\\env\\anaconda\\envs\\mhy-yolo\\Lib\\site-packages\\ultralytics\\utils\\metrics.py:428: UserWarning: Glyph 21551 (\\N{CJK UNIFIED IDEOGRAPH-542F}) missing from current font.\n",
      "  fig.savefig(plot_fname, dpi=250)\n",
      "D:\\code\\env\\anaconda\\envs\\mhy-yolo\\Lib\\site-packages\\ultralytics\\utils\\metrics.py:428: UserWarning: Glyph 23433 (\\N{CJK UNIFIED IDEOGRAPH-5B89}) missing from current font.\n",
      "  fig.savefig(plot_fname, dpi=250)\n",
      "D:\\code\\env\\anaconda\\envs\\mhy-yolo\\Lib\\site-packages\\ultralytics\\utils\\metrics.py:428: UserWarning: Glyph 20840 (\\N{CJK UNIFIED IDEOGRAPH-5168}) missing from current font.\n",
      "  fig.savefig(plot_fname, dpi=250)\n",
      "D:\\code\\env\\anaconda\\envs\\mhy-yolo\\Lib\\site-packages\\ultralytics\\utils\\metrics.py:428: UserWarning: Glyph 21306 (\\N{CJK UNIFIED IDEOGRAPH-533A}) missing from current font.\n",
      "  fig.savefig(plot_fname, dpi=250)\n",
      "D:\\code\\env\\anaconda\\envs\\mhy-yolo\\Lib\\site-packages\\ultralytics\\utils\\metrics.py:428: UserWarning: Glyph 20241 (\\N{CJK UNIFIED IDEOGRAPH-4F11}) missing from current font.\n",
      "  fig.savefig(plot_fname, dpi=250)\n",
      "D:\\code\\env\\anaconda\\envs\\mhy-yolo\\Lib\\site-packages\\ultralytics\\utils\\metrics.py:428: UserWarning: Glyph 24687 (\\N{CJK UNIFIED IDEOGRAPH-606F}) missing from current font.\n",
      "  fig.savefig(plot_fname, dpi=250)\n",
      "D:\\code\\env\\anaconda\\envs\\mhy-yolo\\Lib\\site-packages\\ultralytics\\utils\\metrics.py:428: UserWarning: Glyph 22833 (\\N{CJK UNIFIED IDEOGRAPH-5931}) missing from current font.\n",
      "  fig.savefig(plot_fname, dpi=250)\n",
      "D:\\code\\env\\anaconda\\envs\\mhy-yolo\\Lib\\site-packages\\ultralytics\\utils\\metrics.py:428: UserWarning: Glyph 32852 (\\N{CJK UNIFIED IDEOGRAPH-8054}) missing from current font.\n",
      "  fig.savefig(plot_fname, dpi=250)\n",
      "D:\\code\\env\\anaconda\\envs\\mhy-yolo\\Lib\\site-packages\\ultralytics\\utils\\metrics.py:428: UserWarning: Glyph 20928 (\\N{CJK UNIFIED IDEOGRAPH-51C0}) missing from current font.\n",
      "  fig.savefig(plot_fname, dpi=250)\n",
      "D:\\code\\env\\anaconda\\envs\\mhy-yolo\\Lib\\site-packages\\ultralytics\\utils\\metrics.py:428: UserWarning: Glyph 23460 (\\N{CJK UNIFIED IDEOGRAPH-5BA4}) missing from current font.\n",
      "  fig.savefig(plot_fname, dpi=250)\n",
      "D:\\code\\env\\anaconda\\envs\\mhy-yolo\\Lib\\site-packages\\ultralytics\\utils\\metrics.py:428: UserWarning: Glyph 20256 (\\N{CJK UNIFIED IDEOGRAPH-4F20}) missing from current font.\n",
      "  fig.savefig(plot_fname, dpi=250)\n",
      "D:\\code\\env\\anaconda\\envs\\mhy-yolo\\Lib\\site-packages\\ultralytics\\utils\\metrics.py:428: UserWarning: Glyph 36865 (\\N{CJK UNIFIED IDEOGRAPH-9001}) missing from current font.\n",
      "  fig.savefig(plot_fname, dpi=250)\n",
      "D:\\code\\env\\anaconda\\envs\\mhy-yolo\\Lib\\site-packages\\ultralytics\\utils\\metrics.py:428: UserWarning: Glyph 30495 (\\N{CJK UNIFIED IDEOGRAPH-771F}) missing from current font.\n",
      "  fig.savefig(plot_fname, dpi=250)\n",
      "D:\\code\\env\\anaconda\\envs\\mhy-yolo\\Lib\\site-packages\\ultralytics\\utils\\metrics.py:428: UserWarning: Glyph 30456 (\\N{CJK UNIFIED IDEOGRAPH-76F8}) missing from current font.\n",
      "  fig.savefig(plot_fname, dpi=250)\n",
      "D:\\code\\env\\anaconda\\envs\\mhy-yolo\\Lib\\site-packages\\ultralytics\\utils\\metrics.py:428: UserWarning: Glyph 36890 (\\N{CJK UNIFIED IDEOGRAPH-901A}) missing from current font.\n",
      "  fig.savefig(plot_fname, dpi=250)\n",
      "D:\\code\\env\\anaconda\\envs\\mhy-yolo\\Lib\\site-packages\\ultralytics\\utils\\metrics.py:428: UserWarning: Glyph 36947 (\\N{CJK UNIFIED IDEOGRAPH-9053}) missing from current font.\n",
      "  fig.savefig(plot_fname, dpi=250)\n",
      "D:\\code\\env\\anaconda\\envs\\mhy-yolo\\Lib\\site-packages\\ultralytics\\utils\\metrics.py:428: UserWarning: Glyph 24040 (\\N{CJK UNIFIED IDEOGRAPH-5DE8}) missing from current font.\n",
      "  fig.savefig(plot_fname, dpi=250)\n",
      "D:\\code\\env\\anaconda\\envs\\mhy-yolo\\Lib\\site-packages\\ultralytics\\utils\\metrics.py:428: UserWarning: Glyph 20861 (\\N{CJK UNIFIED IDEOGRAPH-517D}) missing from current font.\n",
      "  fig.savefig(plot_fname, dpi=250)\n",
      "D:\\code\\env\\anaconda\\envs\\mhy-yolo\\Lib\\site-packages\\ultralytics\\utils\\metrics.py:428: UserWarning: Glyph 22855 (\\N{CJK UNIFIED IDEOGRAPH-5947}) missing from current font.\n",
      "  fig.savefig(plot_fname, dpi=250)\n",
      "D:\\code\\env\\anaconda\\envs\\mhy-yolo\\Lib\\site-packages\\ultralytics\\utils\\metrics.py:428: UserWarning: Glyph 36135 (\\N{CJK UNIFIED IDEOGRAPH-8D27}) missing from current font.\n",
      "  fig.savefig(plot_fname, dpi=250)\n",
      "D:\\code\\env\\anaconda\\envs\\mhy-yolo\\Lib\\site-packages\\ultralytics\\utils\\metrics.py:428: UserWarning: Glyph 30450 (\\N{CJK UNIFIED IDEOGRAPH-76F2}) missing from current font.\n",
      "  fig.savefig(plot_fname, dpi=250)\n",
      "D:\\code\\env\\anaconda\\envs\\mhy-yolo\\Lib\\site-packages\\ultralytics\\utils\\metrics.py:428: UserWarning: Glyph 30418 (\\N{CJK UNIFIED IDEOGRAPH-76D2}) missing from current font.\n",
      "  fig.savefig(plot_fname, dpi=250)\n",
      "D:\\code\\env\\anaconda\\envs\\mhy-yolo\\Lib\\site-packages\\ultralytics\\utils\\metrics.py:428: UserWarning: Glyph 22495 (\\N{CJK UNIFIED IDEOGRAPH-57DF}) missing from current font.\n",
      "  fig.savefig(plot_fname, dpi=250)\n",
      "D:\\code\\env\\anaconda\\envs\\mhy-yolo\\Lib\\site-packages\\ultralytics\\utils\\metrics.py:428: UserWarning: Glyph 19981 (\\N{CJK UNIFIED IDEOGRAPH-4E0D}) missing from current font.\n",
      "  fig.savefig(plot_fname, dpi=250)\n",
      "D:\\code\\env\\anaconda\\envs\\mhy-yolo\\Lib\\site-packages\\ultralytics\\utils\\metrics.py:428: UserWarning: Glyph 23452 (\\N{CJK UNIFIED IDEOGRAPH-5B9C}) missing from current font.\n",
      "  fig.savefig(plot_fname, dpi=250)\n",
      "D:\\code\\env\\anaconda\\envs\\mhy-yolo\\Lib\\site-packages\\ultralytics\\utils\\metrics.py:428: UserWarning: Glyph 20037 (\\N{CJK UNIFIED IDEOGRAPH-4E45}) missing from current font.\n",
      "  fig.savefig(plot_fname, dpi=250)\n",
      "D:\\code\\env\\anaconda\\envs\\mhy-yolo\\Lib\\site-packages\\ultralytics\\utils\\metrics.py:428: UserWarning: Glyph 30041 (\\N{CJK UNIFIED IDEOGRAPH-7559}) missing from current font.\n",
      "  fig.savefig(plot_fname, dpi=250)\n",
      "D:\\code\\env\\anaconda\\envs\\mhy-yolo\\Lib\\site-packages\\ultralytics\\utils\\metrics.py:428: UserWarning: Glyph 24618 (\\N{CJK UNIFIED IDEOGRAPH-602A}) missing from current font.\n",
      "  fig.savefig(plot_fname, dpi=250)\n",
      "D:\\code\\env\\anaconda\\envs\\mhy-yolo\\Lib\\site-packages\\ultralytics\\utils\\metrics.py:428: UserWarning: Glyph 20390 (\\N{CJK UNIFIED IDEOGRAPH-4FA6}) missing from current font.\n",
      "  fig.savefig(plot_fname, dpi=250)\n",
      "D:\\code\\env\\anaconda\\envs\\mhy-yolo\\Lib\\site-packages\\ultralytics\\utils\\metrics.py:428: UserWarning: Glyph 25506 (\\N{CJK UNIFIED IDEOGRAPH-63A2}) missing from current font.\n",
      "  fig.savefig(plot_fname, dpi=250)\n",
      "D:\\code\\env\\anaconda\\envs\\mhy-yolo\\Lib\\site-packages\\ultralytics\\utils\\metrics.py:428: UserWarning: Glyph 27714 (\\N{CJK UNIFIED IDEOGRAPH-6C42}) missing from current font.\n",
      "  fig.savefig(plot_fname, dpi=250)\n",
      "D:\\code\\env\\anaconda\\envs\\mhy-yolo\\Lib\\site-packages\\ultralytics\\utils\\metrics.py:428: UserWarning: Glyph 25937 (\\N{CJK UNIFIED IDEOGRAPH-6551}) missing from current font.\n",
      "  fig.savefig(plot_fname, dpi=250)\n",
      "D:\\code\\env\\anaconda\\envs\\mhy-yolo\\Lib\\site-packages\\ultralytics\\utils\\metrics.py:428: UserWarning: Glyph 20449 (\\N{CJK UNIFIED IDEOGRAPH-4FE1}) missing from current font.\n",
      "  fig.savefig(plot_fname, dpi=250)\n",
      "D:\\code\\env\\anaconda\\envs\\mhy-yolo\\Lib\\site-packages\\ultralytics\\utils\\metrics.py:428: UserWarning: Glyph 21495 (\\N{CJK UNIFIED IDEOGRAPH-53F7}) missing from current font.\n",
      "  fig.savefig(plot_fname, dpi=250)\n",
      "D:\\code\\env\\anaconda\\envs\\mhy-yolo\\Lib\\site-packages\\ultralytics\\utils\\metrics.py:428: UserWarning: Glyph 21327 (\\N{CJK UNIFIED IDEOGRAPH-534F}) missing from current font.\n",
      "  fig.savefig(plot_fname, dpi=250)\n",
      "D:\\code\\env\\anaconda\\envs\\mhy-yolo\\Lib\\site-packages\\ultralytics\\utils\\metrics.py:428: UserWarning: Glyph 20250 (\\N{CJK UNIFIED IDEOGRAPH-4F1A}) missing from current font.\n",
      "  fig.savefig(plot_fname, dpi=250)\n",
      "D:\\code\\env\\anaconda\\envs\\mhy-yolo\\Lib\\site-packages\\ultralytics\\utils\\metrics.py:428: UserWarning: Glyph 31449 (\\N{CJK UNIFIED IDEOGRAPH-7AD9}) missing from current font.\n",
      "  fig.savefig(plot_fname, dpi=250)\n",
      "D:\\code\\env\\anaconda\\envs\\mhy-yolo\\Lib\\site-packages\\ultralytics\\utils\\metrics.py:428: UserWarning: Glyph 31934 (\\N{CJK UNIFIED IDEOGRAPH-7CBE}) missing from current font.\n",
      "  fig.savefig(plot_fname, dpi=250)\n",
      "D:\\code\\env\\anaconda\\envs\\mhy-yolo\\Lib\\site-packages\\ultralytics\\utils\\metrics.py:428: UserWarning: Glyph 38160 (\\N{CJK UNIFIED IDEOGRAPH-9510}) missing from current font.\n",
      "  fig.savefig(plot_fname, dpi=250)\n",
      "D:\\code\\env\\anaconda\\envs\\mhy-yolo\\Lib\\site-packages\\ultralytics\\utils\\metrics.py:428: UserWarning: Glyph 21161 (\\N{CJK UNIFIED IDEOGRAPH-52A9}) missing from current font.\n",
      "  fig.savefig(plot_fname, dpi=250)\n",
      "D:\\code\\env\\anaconda\\envs\\mhy-yolo\\Lib\\site-packages\\ultralytics\\utils\\metrics.py:428: UserWarning: Glyph 25163 (\\N{CJK UNIFIED IDEOGRAPH-624B}) missing from current font.\n",
      "  fig.savefig(plot_fname, dpi=250)\n",
      "D:\\code\\env\\anaconda\\envs\\mhy-yolo\\Lib\\site-packages\\ultralytics\\utils\\metrics.py:428: UserWarning: Glyph 27835 (\\N{CJK UNIFIED IDEOGRAPH-6CBB}) missing from current font.\n",
      "  fig.savefig(plot_fname, dpi=250)\n",
      "D:\\code\\env\\anaconda\\envs\\mhy-yolo\\Lib\\site-packages\\ultralytics\\utils\\metrics.py:428: UserWarning: Glyph 23448 (\\N{CJK UNIFIED IDEOGRAPH-5B98}) missing from current font.\n",
      "  fig.savefig(plot_fname, dpi=250)\n",
      "D:\\code\\env\\anaconda\\envs\\mhy-yolo\\Lib\\site-packages\\ultralytics\\utils\\metrics.py:428: UserWarning: Glyph 23567 (\\N{CJK UNIFIED IDEOGRAPH-5C0F}) missing from current font.\n",
      "  fig.savefig(plot_fname, dpi=250)\n",
      "D:\\code\\env\\anaconda\\envs\\mhy-yolo\\Lib\\site-packages\\ultralytics\\utils\\metrics.py:428: UserWarning: Glyph 38431 (\\N{CJK UNIFIED IDEOGRAPH-961F}) missing from current font.\n",
      "  fig.savefig(plot_fname, dpi=250)\n",
      "D:\\code\\env\\anaconda\\envs\\mhy-yolo\\Lib\\site-packages\\ultralytics\\utils\\metrics.py:428: UserWarning: Glyph 26377 (\\N{CJK UNIFIED IDEOGRAPH-6709}) missing from current font.\n",
      "  fig.savefig(plot_fname, dpi=250)\n",
      "D:\\code\\env\\anaconda\\envs\\mhy-yolo\\Lib\\site-packages\\ultralytics\\utils\\metrics.py:428: UserWarning: Glyph 20607 (\\N{CJK UNIFIED IDEOGRAPH-507F}) missing from current font.\n",
      "  fig.savefig(plot_fname, dpi=250)\n",
      "D:\\code\\env\\anaconda\\envs\\mhy-yolo\\Lib\\site-packages\\ultralytics\\utils\\metrics.py:428: UserWarning: Glyph 39301 (\\N{CJK UNIFIED IDEOGRAPH-9985}) missing from current font.\n",
      "  fig.savefig(plot_fname, dpi=250)\n",
      "D:\\code\\env\\anaconda\\envs\\mhy-yolo\\Lib\\site-packages\\ultralytics\\utils\\metrics.py:428: UserWarning: Glyph 39292 (\\N{CJK UNIFIED IDEOGRAPH-997C}) missing from current font.\n",
      "  fig.savefig(plot_fname, dpi=250)\n",
      "D:\\code\\env\\anaconda\\envs\\mhy-yolo\\Lib\\site-packages\\ultralytics\\utils\\metrics.py:428: UserWarning: Glyph 22825 (\\N{CJK UNIFIED IDEOGRAPH-5929}) missing from current font.\n",
      "  fig.savefig(plot_fname, dpi=250)\n",
      "D:\\code\\env\\anaconda\\envs\\mhy-yolo\\Lib\\site-packages\\ultralytics\\utils\\metrics.py:428: UserWarning: Glyph 38477 (\\N{CJK UNIFIED IDEOGRAPH-964D}) missing from current font.\n",
      "  fig.savefig(plot_fname, dpi=250)\n",
      "D:\\code\\env\\anaconda\\envs\\mhy-yolo\\Lib\\site-packages\\ultralytics\\utils\\metrics.py:428: UserWarning: Glyph 24576 (\\N{CJK UNIFIED IDEOGRAPH-6000}) missing from current font.\n",
      "  fig.savefig(plot_fname, dpi=250)\n",
      "D:\\code\\env\\anaconda\\envs\\mhy-yolo\\Lib\\site-packages\\ultralytics\\utils\\metrics.py:428: UserWarning: Glyph 26031 (\\N{CJK UNIFIED IDEOGRAPH-65AF}) missing from current font.\n",
      "  fig.savefig(plot_fname, dpi=250)\n",
      "D:\\code\\env\\anaconda\\envs\\mhy-yolo\\Lib\\site-packages\\ultralytics\\utils\\metrics.py:428: UserWarning: Glyph 22612 (\\N{CJK UNIFIED IDEOGRAPH-5854}) missing from current font.\n",
      "  fig.savefig(plot_fname, dpi=250)\n",
      "D:\\code\\env\\anaconda\\envs\\mhy-yolo\\Lib\\site-packages\\ultralytics\\utils\\metrics.py:428: UserWarning: Glyph 23398 (\\N{CJK UNIFIED IDEOGRAPH-5B66}) missing from current font.\n",
      "  fig.savefig(plot_fname, dpi=250)\n",
      "D:\\code\\env\\anaconda\\envs\\mhy-yolo\\Lib\\site-packages\\ultralytics\\utils\\metrics.py:428: UserWarning: Glyph 27963 (\\N{CJK UNIFIED IDEOGRAPH-6D3B}) missing from current font.\n",
      "  fig.savefig(plot_fname, dpi=250)\n",
      "D:\\code\\env\\anaconda\\envs\\mhy-yolo\\Lib\\site-packages\\ultralytics\\utils\\metrics.py:428: UserWarning: Glyph 32467 (\\N{CJK UNIFIED IDEOGRAPH-7ED3}) missing from current font.\n",
      "  fig.savefig(plot_fname, dpi=250)\n",
      "D:\\code\\env\\anaconda\\envs\\mhy-yolo\\Lib\\site-packages\\ultralytics\\utils\\metrics.py:428: UserWarning: Glyph 26230 (\\N{CJK UNIFIED IDEOGRAPH-6676}) missing from current font.\n",
      "  fig.savefig(plot_fname, dpi=250)\n",
      "D:\\code\\env\\anaconda\\envs\\mhy-yolo\\Lib\\site-packages\\ultralytics\\utils\\metrics.py:428: UserWarning: Glyph 23432 (\\N{CJK UNIFIED IDEOGRAPH-5B88}) missing from current font.\n",
      "  fig.savefig(plot_fname, dpi=250)\n",
      "D:\\code\\env\\anaconda\\envs\\mhy-yolo\\Lib\\site-packages\\ultralytics\\utils\\metrics.py:428: UserWarning: Glyph 35010 (\\N{CJK UNIFIED IDEOGRAPH-88C2}) missing from current font.\n",
      "  fig.savefig(plot_fname, dpi=250)\n",
      "D:\\code\\env\\anaconda\\envs\\mhy-yolo\\Lib\\site-packages\\ultralytics\\utils\\metrics.py:428: UserWarning: Glyph 38553 (\\N{CJK UNIFIED IDEOGRAPH-9699}) missing from current font.\n",
      "  fig.savefig(plot_fname, dpi=250)\n",
      "D:\\code\\env\\anaconda\\envs\\mhy-yolo\\Lib\\site-packages\\ultralytics\\utils\\metrics.py:428: UserWarning: Glyph 32039 (\\N{CJK UNIFIED IDEOGRAPH-7D27}) missing from current font.\n",
      "  fig.savefig(plot_fname, dpi=250)\n",
      "D:\\code\\env\\anaconda\\envs\\mhy-yolo\\Lib\\site-packages\\ultralytics\\utils\\metrics.py:428: UserWarning: Glyph 24613 (\\N{CJK UNIFIED IDEOGRAPH-6025}) missing from current font.\n",
      "  fig.savefig(plot_fname, dpi=250)\n",
      "D:\\code\\env\\anaconda\\envs\\mhy-yolo\\Lib\\site-packages\\ultralytics\\utils\\metrics.py:428: UserWarning: Glyph 25764 (\\N{CJK UNIFIED IDEOGRAPH-64A4}) missing from current font.\n",
      "  fig.savefig(plot_fname, dpi=250)\n",
      "D:\\code\\env\\anaconda\\envs\\mhy-yolo\\Lib\\site-packages\\ultralytics\\utils\\metrics.py:428: UserWarning: Glyph 31163 (\\N{CJK UNIFIED IDEOGRAPH-79BB}) missing from current font.\n",
      "  fig.savefig(plot_fname, dpi=250)\n",
      "D:\\code\\env\\anaconda\\envs\\mhy-yolo\\Lib\\site-packages\\ultralytics\\utils\\metrics.py:428: UserWarning: Glyph 38450 (\\N{CJK UNIFIED IDEOGRAPH-9632}) missing from current font.\n",
      "  fig.savefig(plot_fname, dpi=250)\n",
      "D:\\code\\env\\anaconda\\envs\\mhy-yolo\\Lib\\site-packages\\ultralytics\\utils\\metrics.py:428: UserWarning: Glyph 21355 (\\N{CJK UNIFIED IDEOGRAPH-536B}) missing from current font.\n",
      "  fig.savefig(plot_fname, dpi=250)\n",
      "D:\\code\\env\\anaconda\\envs\\mhy-yolo\\Lib\\site-packages\\ultralytics\\utils\\metrics.py:428: UserWarning: Glyph 20891 (\\N{CJK UNIFIED IDEOGRAPH-519B}) missing from current font.\n",
      "  fig.savefig(plot_fname, dpi=250)\n",
      "D:\\code\\env\\anaconda\\envs\\mhy-yolo\\Lib\\site-packages\\ultralytics\\utils\\metrics.py:428: UserWarning: Glyph 21518 (\\N{CJK UNIFIED IDEOGRAPH-540E}) missing from current font.\n",
      "  fig.savefig(plot_fname, dpi=250)\n",
      "D:\\code\\env\\anaconda\\envs\\mhy-yolo\\Lib\\site-packages\\ultralytics\\utils\\metrics.py:428: UserWarning: Glyph 21220 (\\N{CJK UNIFIED IDEOGRAPH-52E4}) missing from current font.\n",
      "  fig.savefig(plot_fname, dpi=250)\n",
      "D:\\code\\env\\anaconda\\envs\\mhy-yolo\\Lib\\site-packages\\ultralytics\\utils\\metrics.py:428: UserWarning: Glyph 29579 (\\N{CJK UNIFIED IDEOGRAPH-738B}) missing from current font.\n",
      "  fig.savefig(plot_fname, dpi=250)\n",
      "D:\\code\\env\\anaconda\\envs\\mhy-yolo\\Lib\\site-packages\\ultralytics\\utils\\metrics.py:428: UserWarning: Glyph 29260 (\\N{CJK UNIFIED IDEOGRAPH-724C}) missing from current font.\n",
      "  fig.savefig(plot_fname, dpi=250)\n",
      "D:\\code\\env\\anaconda\\envs\\mhy-yolo\\Lib\\site-packages\\ultralytics\\utils\\metrics.py:428: UserWarning: Glyph 26410 (\\N{CJK UNIFIED IDEOGRAPH-672A}) missing from current font.\n",
      "  fig.savefig(plot_fname, dpi=250)\n",
      "D:\\code\\env\\anaconda\\envs\\mhy-yolo\\Lib\\site-packages\\ultralytics\\utils\\metrics.py:428: UserWarning: Glyph 30693 (\\N{CJK UNIFIED IDEOGRAPH-77E5}) missing from current font.\n",
      "  fig.savefig(plot_fname, dpi=250)\n",
      "D:\\code\\env\\anaconda\\envs\\mhy-yolo\\Lib\\site-packages\\ultralytics\\utils\\metrics.py:428: UserWarning: Glyph 29983 (\\N{CJK UNIFIED IDEOGRAPH-751F}) missing from current font.\n",
      "  fig.savefig(plot_fname, dpi=250)\n",
      "D:\\code\\env\\anaconda\\envs\\mhy-yolo\\Lib\\site-packages\\ultralytics\\utils\\metrics.py:428: UserWarning: Glyph 38646 (\\N{CJK UNIFIED IDEOGRAPH-96F6}) missing from current font.\n",
      "  fig.savefig(plot_fname, dpi=250)\n",
      "D:\\code\\env\\anaconda\\envs\\mhy-yolo\\Lib\\site-packages\\ultralytics\\utils\\metrics.py:428: UserWarning: Glyph 38134 (\\N{CJK UNIFIED IDEOGRAPH-94F6}) missing from current font.\n",
      "  fig.savefig(plot_fname, dpi=250)\n",
      "D:\\code\\env\\anaconda\\envs\\mhy-yolo\\Lib\\site-packages\\ultralytics\\utils\\metrics.py:428: UserWarning: Glyph 34892 (\\N{CJK UNIFIED IDEOGRAPH-884C}) missing from current font.\n",
      "  fig.savefig(plot_fname, dpi=250)\n",
      "D:\\code\\env\\anaconda\\envs\\mhy-yolo\\Lib\\site-packages\\ultralytics\\utils\\metrics.py:428: UserWarning: Glyph 25928 (\\N{CJK UNIFIED IDEOGRAPH-6548}) missing from current font.\n",
      "  fig.savefig(plot_fname, dpi=250)\n",
      "D:\\code\\env\\anaconda\\envs\\mhy-yolo\\Lib\\site-packages\\ultralytics\\utils\\metrics.py:428: UserWarning: Glyph 33410 (\\N{CJK UNIFIED IDEOGRAPH-8282}) missing from current font.\n",
      "  fig.savefig(plot_fname, dpi=250)\n",
      "D:\\code\\env\\anaconda\\envs\\mhy-yolo\\Lib\\site-packages\\ultralytics\\utils\\metrics.py:428: UserWarning: Glyph 36164 (\\N{CJK UNIFIED IDEOGRAPH-8D44}) missing from current font.\n",
      "  fig.savefig(plot_fname, dpi=250)\n",
      "D:\\code\\env\\anaconda\\envs\\mhy-yolo\\Lib\\site-packages\\ultralytics\\utils\\metrics.py:428: UserWarning: Glyph 28304 (\\N{CJK UNIFIED IDEOGRAPH-6E90}) missing from current font.\n",
      "  fig.savefig(plot_fname, dpi=250)\n",
      "D:\\code\\env\\anaconda\\envs\\mhy-yolo\\Lib\\site-packages\\ultralytics\\utils\\metrics.py:428: UserWarning: Glyph 22238 (\\N{CJK UNIFIED IDEOGRAPH-56DE}) missing from current font.\n",
      "  fig.savefig(plot_fname, dpi=250)\n",
      "D:\\code\\env\\anaconda\\envs\\mhy-yolo\\Lib\\site-packages\\ultralytics\\utils\\metrics.py:428: UserWarning: Glyph 25910 (\\N{CJK UNIFIED IDEOGRAPH-6536}) missing from current font.\n",
      "  fig.savefig(plot_fname, dpi=250)\n",
      "D:\\code\\env\\anaconda\\envs\\mhy-yolo\\Lib\\site-packages\\ultralytics\\utils\\metrics.py:428: UserWarning: Glyph 32452 (\\N{CJK UNIFIED IDEOGRAPH-7EC4}) missing from current font.\n",
      "  fig.savefig(plot_fname, dpi=250)\n",
      "D:\\code\\env\\anaconda\\envs\\mhy-yolo\\Lib\\site-packages\\ultralytics\\utils\\metrics.py:428: UserWarning: Glyph 25353 (\\N{CJK UNIFIED IDEOGRAPH-6309}) missing from current font.\n",
      "  fig.savefig(plot_fname, dpi=250)\n",
      "D:\\code\\env\\anaconda\\envs\\mhy-yolo\\Lib\\site-packages\\ultralytics\\utils\\metrics.py:428: UserWarning: Glyph 21387 (\\N{CJK UNIFIED IDEOGRAPH-538B}) missing from current font.\n",
      "  fig.savefig(plot_fname, dpi=250)\n",
      "D:\\code\\env\\anaconda\\envs\\mhy-yolo\\Lib\\site-packages\\ultralytics\\utils\\metrics.py:428: UserWarning: Glyph 24335 (\\N{CJK UNIFIED IDEOGRAPH-5F0F}) missing from current font.\n",
      "  fig.savefig(plot_fname, dpi=250)\n",
      "D:\\code\\env\\anaconda\\envs\\mhy-yolo\\Lib\\site-packages\\ultralytics\\utils\\metrics.py:428: UserWarning: Glyph 20851 (\\N{CJK UNIFIED IDEOGRAPH-5173}) missing from current font.\n",
      "  fig.savefig(plot_fname, dpi=250)\n",
      "D:\\code\\env\\anaconda\\envs\\mhy-yolo\\Lib\\site-packages\\ultralytics\\utils\\metrics.py:428: UserWarning: Glyph 24377 (\\N{CJK UNIFIED IDEOGRAPH-5F39}) missing from current font.\n",
      "  fig.savefig(plot_fname, dpi=250)\n",
      "D:\\code\\env\\anaconda\\envs\\mhy-yolo\\Lib\\site-packages\\ultralytics\\utils\\metrics.py:428: UserWarning: Glyph 23556 (\\N{CJK UNIFIED IDEOGRAPH-5C04}) missing from current font.\n",
      "  fig.savefig(plot_fname, dpi=250)\n",
      "D:\\code\\env\\anaconda\\envs\\mhy-yolo\\Lib\\site-packages\\ultralytics\\utils\\metrics.py:428: UserWarning: Glyph 19978 (\\N{CJK UNIFIED IDEOGRAPH-4E0A}) missing from current font.\n",
      "  fig.savefig(plot_fname, dpi=250)\n",
      "D:\\code\\env\\anaconda\\envs\\mhy-yolo\\Lib\\site-packages\\ultralytics\\utils\\metrics.py:428: UserWarning: Glyph 36712 (\\N{CJK UNIFIED IDEOGRAPH-8F68}) missing from current font.\n",
      "  fig.savefig(plot_fname, dpi=250)\n",
      "D:\\code\\env\\anaconda\\envs\\mhy-yolo\\Lib\\site-packages\\ultralytics\\utils\\metrics.py:428: UserWarning: Glyph 21516 (\\N{CJK UNIFIED IDEOGRAPH-540C}) missing from current font.\n",
      "  fig.savefig(plot_fname, dpi=250)\n",
      "D:\\code\\env\\anaconda\\envs\\mhy-yolo\\Lib\\site-packages\\ultralytics\\utils\\metrics.py:428: UserWarning: Glyph 20276 (\\N{CJK UNIFIED IDEOGRAPH-4F34}) missing from current font.\n",
      "  fig.savefig(plot_fname, dpi=250)\n",
      "D:\\code\\env\\anaconda\\envs\\mhy-yolo\\Lib\\site-packages\\ultralytics\\utils\\metrics.py:428: UserWarning: Glyph 19979 (\\N{CJK UNIFIED IDEOGRAPH-4E0B}) missing from current font.\n",
      "  fig.savefig(plot_fname, dpi=250)\n",
      "D:\\code\\env\\anaconda\\envs\\mhy-yolo\\Lib\\site-packages\\ultralytics\\utils\\metrics.py:428: UserWarning: Glyph 24038 (\\N{CJK UNIFIED IDEOGRAPH-5DE6}) missing from current font.\n",
      "  fig.savefig(plot_fname, dpi=250)\n",
      "D:\\code\\env\\anaconda\\envs\\mhy-yolo\\Lib\\site-packages\\ultralytics\\utils\\metrics.py:428: UserWarning: Glyph 21491 (\\N{CJK UNIFIED IDEOGRAPH-53F3}) missing from current font.\n",
      "  fig.savefig(plot_fname, dpi=250)\n",
      "D:\\code\\env\\anaconda\\envs\\mhy-yolo\\Lib\\site-packages\\ultralytics\\utils\\metrics.py:428: UserWarning: Glyph 25151 (\\N{CJK UNIFIED IDEOGRAPH-623F}) missing from current font.\n",
      "  fig.savefig(plot_fname, dpi=250)\n",
      "D:\\code\\env\\anaconda\\envs\\mhy-yolo\\Lib\\site-packages\\ultralytics\\utils\\metrics.py:428: UserWarning: Glyph 23627 (\\N{CJK UNIFIED IDEOGRAPH-5C4B}) missing from current font.\n",
      "  fig.savefig(plot_fname, dpi=250)\n",
      "D:\\code\\env\\anaconda\\envs\\mhy-yolo\\Lib\\site-packages\\ultralytics\\utils\\metrics.py:428: UserWarning: Glyph 39608 (\\N{CJK UNIFIED IDEOGRAPH-9AB8}) missing from current font.\n",
      "  fig.savefig(plot_fname, dpi=250)\n",
      "D:\\code\\env\\anaconda\\envs\\mhy-yolo\\Lib\\site-packages\\ultralytics\\utils\\metrics.py:428: UserWarning: Glyph 30005 (\\N{CJK UNIFIED IDEOGRAPH-7535}) missing from current font.\n",
      "  fig.savefig(plot_fname, dpi=250)\n",
      "D:\\code\\env\\anaconda\\envs\\mhy-yolo\\Lib\\site-packages\\ultralytics\\utils\\metrics.py:428: UserWarning: Glyph 35270 (\\N{CJK UNIFIED IDEOGRAPH-89C6}) missing from current font.\n",
      "  fig.savefig(plot_fname, dpi=250)\n",
      "D:\\code\\env\\anaconda\\envs\\mhy-yolo\\Lib\\site-packages\\ultralytics\\utils\\metrics.py:428: UserWarning: Glyph 24213 (\\N{CJK UNIFIED IDEOGRAPH-5E95}) missing from current font.\n",
      "  fig.savefig(plot_fname, dpi=250)\n",
      "D:\\code\\env\\anaconda\\envs\\mhy-yolo\\Lib\\site-packages\\ultralytics\\utils\\metrics.py:428: UserWarning: Glyph 24231 (\\N{CJK UNIFIED IDEOGRAPH-5EA7}) missing from current font.\n",
      "  fig.savefig(plot_fname, dpi=250)\n",
      "D:\\code\\env\\anaconda\\envs\\mhy-yolo\\Lib\\site-packages\\ultralytics\\utils\\metrics.py:428: UserWarning: Glyph 32511 (\\N{CJK UNIFIED IDEOGRAPH-7EFF}) missing from current font.\n",
      "  fig.savefig(plot_fname, dpi=250)\n",
      "D:\\code\\env\\anaconda\\envs\\mhy-yolo\\Lib\\site-packages\\ultralytics\\utils\\metrics.py:428: UserWarning: Glyph 32418 (\\N{CJK UNIFIED IDEOGRAPH-7EA2}) missing from current font.\n",
      "  fig.savefig(plot_fname, dpi=250)\n",
      "D:\\code\\env\\anaconda\\envs\\mhy-yolo\\Lib\\site-packages\\ultralytics\\utils\\metrics.py:428: UserWarning: Glyph 22823 (\\N{CJK UNIFIED IDEOGRAPH-5927}) missing from current font.\n",
      "  fig.savefig(plot_fname, dpi=250)\n",
      "D:\\code\\env\\anaconda\\envs\\mhy-yolo\\Lib\\site-packages\\ultralytics\\utils\\metrics.py:428: UserWarning: Glyph 24403 (\\N{CJK UNIFIED IDEOGRAPH-5F53}) missing from current font.\n",
      "  fig.savefig(plot_fname, dpi=250)\n",
      "D:\\code\\env\\anaconda\\envs\\mhy-yolo\\Lib\\site-packages\\ultralytics\\utils\\metrics.py:428: UserWarning: Glyph 21069 (\\N{CJK UNIFIED IDEOGRAPH-524D}) missing from current font.\n",
      "  fig.savefig(plot_fname, dpi=250)\n",
      "D:\\code\\env\\anaconda\\envs\\mhy-yolo\\Lib\\site-packages\\ultralytics\\utils\\metrics.py:428: UserWarning: Glyph 31354 (\\N{CJK UNIFIED IDEOGRAPH-7A7A}) missing from current font.\n",
      "  fig.savefig(plot_fname, dpi=250)\n",
      "D:\\code\\env\\anaconda\\envs\\mhy-yolo\\Lib\\site-packages\\ultralytics\\utils\\metrics.py:428: UserWarning: Glyph 30333 (\\N{CJK UNIFIED IDEOGRAPH-767D}) missing from current font.\n",
      "  fig.savefig(plot_fname, dpi=250)\n",
      "D:\\code\\env\\anaconda\\envs\\mhy-yolo\\Lib\\site-packages\\ultralytics\\utils\\metrics.py:428: UserWarning: Glyph 24050 (\\N{CJK UNIFIED IDEOGRAPH-5DF2}) missing from current font.\n",
      "  fig.savefig(plot_fname, dpi=250)\n",
      "D:\\code\\env\\anaconda\\envs\\mhy-yolo\\Lib\\site-packages\\ultralytics\\utils\\metrics.py:428: UserWarning: Glyph 36215 (\\N{CJK UNIFIED IDEOGRAPH-8D77}) missing from current font.\n",
      "  fig.savefig(plot_fname, dpi=250)\n",
      "D:\\code\\env\\anaconda\\envs\\mhy-yolo\\Lib\\site-packages\\ultralytics\\utils\\metrics.py:428: UserWarning: Glyph 28857 (\\N{CJK UNIFIED IDEOGRAPH-70B9}) missing from current font.\n",
      "  fig.savefig(plot_fname, dpi=250)\n",
      "D:\\code\\env\\anaconda\\envs\\mhy-yolo\\Lib\\site-packages\\ultralytics\\utils\\metrics.py:428: UserWarning: Glyph 40831 (\\N{CJK UNIFIED IDEOGRAPH-9F7F}) missing from current font.\n",
      "  fig.savefig(plot_fname, dpi=250)\n",
      "D:\\code\\env\\anaconda\\envs\\mhy-yolo\\Lib\\site-packages\\ultralytics\\utils\\metrics.py:428: UserWarning: Glyph 36718 (\\N{CJK UNIFIED IDEOGRAPH-8F6E}) missing from current font.\n",
      "  fig.savefig(plot_fname, dpi=250)\n",
      "D:\\code\\env\\anaconda\\envs\\mhy-yolo\\Lib\\site-packages\\ultralytics\\utils\\metrics.py:428: UserWarning: Glyph 30828 (\\N{CJK UNIFIED IDEOGRAPH-786C}) missing from current font.\n",
      "  fig.savefig(plot_fname, dpi=250)\n",
      "D:\\code\\env\\anaconda\\envs\\mhy-yolo\\Lib\\site-packages\\ultralytics\\utils\\metrics.py:428: UserWarning: Glyph 24065 (\\N{CJK UNIFIED IDEOGRAPH-5E01}) missing from current font.\n",
      "  fig.savefig(plot_fname, dpi=250)\n",
      "D:\\code\\env\\anaconda\\envs\\mhy-yolo\\Lib\\site-packages\\ultralytics\\utils\\metrics.py:428: UserWarning: Glyph 31665 (\\N{CJK UNIFIED IDEOGRAPH-7BB1}) missing from current font.\n",
      "  fig.savefig(plot_fname, dpi=250)\n",
      "D:\\code\\env\\anaconda\\envs\\mhy-yolo\\Lib\\site-packages\\ultralytics\\utils\\metrics.py:428: UserWarning: Glyph 21361 (\\N{CJK UNIFIED IDEOGRAPH-5371}) missing from current font.\n",
      "  fig.savefig(plot_fname, dpi=250)\n",
      "D:\\code\\env\\anaconda\\envs\\mhy-yolo\\Lib\\site-packages\\ultralytics\\utils\\metrics.py:428: UserWarning: Glyph 26426 (\\N{CJK UNIFIED IDEOGRAPH-673A}) missing from current font.\n",
      "  fig.savefig(plot_fname, dpi=250)\n",
      "D:\\code\\env\\anaconda\\envs\\mhy-yolo\\Lib\\site-packages\\ultralytics\\utils\\metrics.py:428: UserWarning: Glyph 19994 (\\N{CJK UNIFIED IDEOGRAPH-4E1A}) missing from current font.\n",
      "  fig.savefig(plot_fname, dpi=250)\n",
      "D:\\code\\env\\anaconda\\envs\\mhy-yolo\\Lib\\site-packages\\ultralytics\\utils\\metrics.py:428: UserWarning: Glyph 32489 (\\N{CJK UNIFIED IDEOGRAPH-7EE9}) missing from current font.\n",
      "  fig.savefig(plot_fname, dpi=250)\n",
      "D:\\code\\env\\anaconda\\envs\\mhy-yolo\\Lib\\site-packages\\ultralytics\\utils\\metrics.py:428: UserWarning: Glyph 32771 (\\N{CJK UNIFIED IDEOGRAPH-8003}) missing from current font.\n",
      "  fig.savefig(plot_fname, dpi=250)\n",
      "D:\\code\\env\\anaconda\\envs\\mhy-yolo\\Lib\\site-packages\\ultralytics\\utils\\metrics.py:428: UserWarning: Glyph 23519 (\\N{CJK UNIFIED IDEOGRAPH-5BDF}) missing from current font.\n",
      "  fig.savefig(plot_fname, dpi=250)\n",
      "D:\\code\\env\\anaconda\\envs\\mhy-yolo\\Lib\\site-packages\\ultralytics\\utils\\metrics.py:428: UserWarning: Glyph 21450 (\\N{CJK UNIFIED IDEOGRAPH-53CA}) missing from current font.\n",
      "  fig.savefig(plot_fname, dpi=250)\n",
      "D:\\code\\env\\anaconda\\envs\\mhy-yolo\\Lib\\site-packages\\ultralytics\\utils\\metrics.py:428: UserWarning: Glyph 26102 (\\N{CJK UNIFIED IDEOGRAPH-65F6}) missing from current font.\n",
      "  fig.savefig(plot_fname, dpi=250)\n",
      "D:\\code\\env\\anaconda\\envs\\mhy-yolo\\Lib\\site-packages\\ultralytics\\utils\\metrics.py:428: UserWarning: Glyph 34917 (\\N{CJK UNIFIED IDEOGRAPH-8865}) missing from current font.\n",
      "  fig.savefig(plot_fname, dpi=250)\n",
      "D:\\code\\env\\anaconda\\envs\\mhy-yolo\\Lib\\site-packages\\ultralytics\\utils\\metrics.py:428: UserWarning: Glyph 32473 (\\N{CJK UNIFIED IDEOGRAPH-7ED9}) missing from current font.\n",
      "  fig.savefig(plot_fname, dpi=250)\n",
      "D:\\code\\env\\anaconda\\envs\\mhy-yolo\\Lib\\site-packages\\ultralytics\\utils\\metrics.py:428: UserWarning: Glyph 25554 (\\N{CJK UNIFIED IDEOGRAPH-63D2}) missing from current font.\n",
      "  fig.savefig(plot_fname, dpi=250)\n",
      "D:\\code\\env\\anaconda\\envs\\mhy-yolo\\Lib\\site-packages\\ultralytics\\utils\\metrics.py:428: UserWarning: Glyph 20214 (\\N{CJK UNIFIED IDEOGRAPH-4EF6}) missing from current font.\n",
      "  fig.savefig(plot_fname, dpi=250)\n",
      "D:\\code\\env\\anaconda\\envs\\mhy-yolo\\Lib\\site-packages\\ultralytics\\utils\\metrics.py:428: UserWarning: Glyph 33719 (\\N{CJK UNIFIED IDEOGRAPH-83B7}) missing from current font.\n",
      "  fig.savefig(plot_fname, dpi=250)\n",
      "D:\\code\\env\\anaconda\\envs\\mhy-yolo\\Lib\\site-packages\\ultralytics\\utils\\metrics.py:428: UserWarning: Glyph 21462 (\\N{CJK UNIFIED IDEOGRAPH-53D6}) missing from current font.\n",
      "  fig.savefig(plot_fname, dpi=250)\n",
      "D:\\code\\env\\anaconda\\envs\\mhy-yolo\\Lib\\site-packages\\ultralytics\\utils\\metrics.py:428: UserWarning: Glyph 25197 (\\N{CJK UNIFIED IDEOGRAPH-626D}) missing from current font.\n",
      "  fig.savefig(plot_fname, dpi=250)\n",
      "D:\\code\\env\\anaconda\\envs\\mhy-yolo\\Lib\\site-packages\\ultralytics\\utils\\metrics.py:428: UserWarning: Glyph 34507 (\\N{CJK UNIFIED IDEOGRAPH-86CB}) missing from current font.\n",
      "  fig.savefig(plot_fname, dpi=250)\n",
      "D:\\code\\env\\anaconda\\envs\\mhy-yolo\\Lib\\site-packages\\ultralytics\\utils\\metrics.py:428: UserWarning: Glyph 21628 (\\N{CJK UNIFIED IDEOGRAPH-547C}) missing from current font.\n",
      "  fig.savefig(plot_fname, dpi=250)\n",
      "D:\\code\\env\\anaconda\\envs\\mhy-yolo\\Lib\\site-packages\\ultralytics\\utils\\metrics.py:428: UserWarning: Glyph 21483 (\\N{CJK UNIFIED IDEOGRAPH-53EB}) missing from current font.\n",
      "  fig.savefig(plot_fname, dpi=250)\n",
      "D:\\code\\env\\anaconda\\envs\\mhy-yolo\\Lib\\site-packages\\ultralytics\\utils\\metrics.py:428: UserWarning: Glyph 22686 (\\N{CJK UNIFIED IDEOGRAPH-589E}) missing from current font.\n",
      "  fig.savefig(plot_fname, dpi=250)\n",
      "D:\\code\\env\\anaconda\\envs\\mhy-yolo\\Lib\\site-packages\\ultralytics\\utils\\metrics.py:428: UserWarning: Glyph 25588 (\\N{CJK UNIFIED IDEOGRAPH-63F4}) missing from current font.\n",
      "  fig.savefig(plot_fname, dpi=250)\n",
      "D:\\code\\env\\anaconda\\envs\\mhy-yolo\\Lib\\site-packages\\ultralytics\\utils\\metrics.py:428: UserWarning: Glyph 31192 (\\N{CJK UNIFIED IDEOGRAPH-79D8}) missing from current font.\n",
      "  fig.savefig(plot_fname, dpi=250)\n",
      "D:\\code\\env\\anaconda\\envs\\mhy-yolo\\Lib\\site-packages\\ultralytics\\utils\\metrics.py:428: UserWarning: Glyph 24452 (\\N{CJK UNIFIED IDEOGRAPH-5F84}) missing from current font.\n",
      "  fig.savefig(plot_fname, dpi=250)\n",
      "D:\\code\\env\\anaconda\\envs\\mhy-yolo\\Lib\\site-packages\\ultralytics\\utils\\metrics.py:428: UserWarning: Glyph 25805 (\\N{CJK UNIFIED IDEOGRAPH-64CD}) missing from current font.\n",
      "  fig.savefig(plot_fname, dpi=250)\n",
      "D:\\code\\env\\anaconda\\envs\\mhy-yolo\\Lib\\site-packages\\ultralytics\\utils\\metrics.py:428: UserWarning: Glyph 32437 (\\N{CJK UNIFIED IDEOGRAPH-7EB5}) missing from current font.\n",
      "  fig.savefig(plot_fname, dpi=250)\n",
      "D:\\code\\env\\anaconda\\envs\\mhy-yolo\\Lib\\site-packages\\ultralytics\\utils\\metrics.py:428: UserWarning: Glyph 26438 (\\N{CJK UNIFIED IDEOGRAPH-6746}) missing from current font.\n",
      "  fig.savefig(plot_fname, dpi=250)\n",
      "D:\\code\\env\\anaconda\\envs\\mhy-yolo\\Lib\\site-packages\\ultralytics\\utils\\metrics.py:428: UserWarning: Glyph 36994 (\\N{CJK UNIFIED IDEOGRAPH-9082}) missing from current font.\n",
      "  fig.savefig(plot_fname, dpi=250)\n",
      "D:\\code\\env\\anaconda\\envs\\mhy-yolo\\Lib\\site-packages\\ultralytics\\utils\\metrics.py:428: UserWarning: Glyph 36869 (\\N{CJK UNIFIED IDEOGRAPH-9005}) missing from current font.\n",
      "  fig.savefig(plot_fname, dpi=250)\n",
      "D:\\code\\env\\anaconda\\envs\\mhy-yolo\\Lib\\site-packages\\ultralytics\\utils\\metrics.py:428: UserWarning: Glyph 20405 (\\N{CJK UNIFIED IDEOGRAPH-4FB5}) missing from current font.\n",
      "  fig.savefig(plot_fname, dpi=250)\n",
      "D:\\code\\env\\anaconda\\envs\\mhy-yolo\\Lib\\site-packages\\ultralytics\\utils\\metrics.py:428: UserWarning: Glyph 34432 (\\N{CJK UNIFIED IDEOGRAPH-8680}) missing from current font.\n",
      "  fig.savefig(plot_fname, dpi=250)\n",
      "D:\\code\\env\\anaconda\\envs\\mhy-yolo\\Lib\\site-packages\\ultralytics\\utils\\metrics.py:428: UserWarning: Glyph 20020 (\\N{CJK UNIFIED IDEOGRAPH-4E34}) missing from current font.\n",
      "  fig.savefig(plot_fname, dpi=250)\n",
      "D:\\code\\env\\anaconda\\envs\\mhy-yolo\\Lib\\site-packages\\ultralytics\\utils\\metrics.py:428: UserWarning: Glyph 25293 (\\N{CJK UNIFIED IDEOGRAPH-62CD}) missing from current font.\n",
      "  fig.savefig(plot_fname, dpi=250)\n",
      "D:\\code\\env\\anaconda\\envs\\mhy-yolo\\Lib\\site-packages\\ultralytics\\utils\\metrics.py:428: UserWarning: Glyph 26723 (\\N{CJK UNIFIED IDEOGRAPH-6863}) missing from current font.\n",
      "  fig.savefig(plot_fname, dpi=250)\n",
      "D:\\code\\env\\anaconda\\envs\\mhy-yolo\\Lib\\site-packages\\ultralytics\\utils\\metrics.py:428: UserWarning: Glyph 20551 (\\N{CJK UNIFIED IDEOGRAPH-5047}) missing from current font.\n",
      "  fig.savefig(plot_fname, dpi=250)\n",
      "D:\\code\\env\\anaconda\\envs\\mhy-yolo\\Lib\\site-packages\\ultralytics\\utils\\metrics.py:428: UserWarning: Glyph 38754 (\\N{CJK UNIFIED IDEOGRAPH-9762}) missing from current font.\n",
      "  fig.savefig(plot_fname, dpi=250)\n",
      "D:\\code\\env\\anaconda\\envs\\mhy-yolo\\Lib\\site-packages\\ultralytics\\utils\\metrics.py:428: UserWarning: Glyph 30740 (\\N{CJK UNIFIED IDEOGRAPH-7814}) missing from current font.\n",
      "  fig.savefig(plot_fname, dpi=250)\n",
      "D:\\code\\env\\anaconda\\envs\\mhy-yolo\\Lib\\site-packages\\ultralytics\\utils\\metrics.py:428: UserWarning: Glyph 31350 (\\N{CJK UNIFIED IDEOGRAPH-7A76}) missing from current font.\n",
      "  fig.savefig(plot_fname, dpi=250)\n",
      "D:\\code\\env\\anaconda\\envs\\mhy-yolo\\Lib\\site-packages\\ultralytics\\utils\\metrics.py:428: UserWarning: Glyph 32773 (\\N{CJK UNIFIED IDEOGRAPH-8005}) missing from current font.\n",
      "  fig.savefig(plot_fname, dpi=250)\n",
      "D:\\code\\env\\anaconda\\envs\\mhy-yolo\\Lib\\site-packages\\ultralytics\\utils\\metrics.py:428: UserWarning: Glyph 40483 (\\N{CJK UNIFIED IDEOGRAPH-9E23}) missing from current font.\n",
      "  fig.savefig(plot_fname, dpi=250)\n",
      "D:\\code\\env\\anaconda\\envs\\mhy-yolo\\Lib\\site-packages\\ultralytics\\utils\\metrics.py:428: UserWarning: Glyph 24509 (\\N{CJK UNIFIED IDEOGRAPH-5FBD}) missing from current font.\n",
      "  fig.savefig(plot_fname, dpi=250)\n",
      "D:\\code\\env\\anaconda\\envs\\mhy-yolo\\Lib\\site-packages\\ultralytics\\utils\\metrics.py:428: UserWarning: Glyph 20652 (\\N{CJK UNIFIED IDEOGRAPH-50AC}) missing from current font.\n",
      "  fig.savefig(plot_fname, dpi=250)\n",
      "D:\\code\\env\\anaconda\\envs\\mhy-yolo\\Lib\\site-packages\\ultralytics\\utils\\metrics.py:428: UserWarning: Glyph 21270 (\\N{CJK UNIFIED IDEOGRAPH-5316}) missing from current font.\n",
      "  fig.savefig(plot_fname, dpi=250)\n",
      "D:\\code\\env\\anaconda\\envs\\mhy-yolo\\Lib\\site-packages\\ultralytics\\utils\\metrics.py:428: UserWarning: Glyph 21058 (\\N{CJK UNIFIED IDEOGRAPH-5242}) missing from current font.\n",
      "  fig.savefig(plot_fname, dpi=250)\n",
      "D:\\code\\env\\anaconda\\envs\\mhy-yolo\\Lib\\site-packages\\ultralytics\\utils\\metrics.py:428: UserWarning: Glyph 35843 (\\N{CJK UNIFIED IDEOGRAPH-8C03}) missing from current font.\n",
      "  fig.savefig(plot_fname, dpi=250)\n",
      "D:\\code\\env\\anaconda\\envs\\mhy-yolo\\Lib\\site-packages\\ultralytics\\utils\\metrics.py:428: UserWarning: Glyph 26597 (\\N{CJK UNIFIED IDEOGRAPH-67E5}) missing from current font.\n",
      "  fig.savefig(plot_fname, dpi=250)\n",
      "D:\\code\\env\\anaconda\\envs\\mhy-yolo\\Lib\\site-packages\\ultralytics\\utils\\metrics.py:428: UserWarning: Glyph 21592 (\\N{CJK UNIFIED IDEOGRAPH-5458}) missing from current font.\n",
      "  fig.savefig(plot_fname, dpi=250)\n",
      "D:\\code\\env\\anaconda\\envs\\mhy-yolo\\Lib\\site-packages\\ultralytics\\utils\\metrics.py:428: UserWarning: Glyph 30423 (\\N{CJK UNIFIED IDEOGRAPH-76D7}) missing from current font.\n",
      "  fig.savefig(plot_fname, dpi=250)\n",
      "D:\\code\\env\\anaconda\\envs\\mhy-yolo\\Lib\\site-packages\\ultralytics\\utils\\metrics.py:428: UserWarning: Glyph 27934 (\\N{CJK UNIFIED IDEOGRAPH-6D1E}) missing from current font.\n",
      "  fig.savefig(plot_fname, dpi=250)\n",
      "D:\\code\\env\\anaconda\\envs\\mhy-yolo\\Lib\\site-packages\\ultralytics\\utils\\metrics.py:428: UserWarning: Glyph 23458 (\\N{CJK UNIFIED IDEOGRAPH-5BA2}) missing from current font.\n",
      "  fig.savefig(plot_fname, dpi=250)\n",
      "D:\\code\\env\\anaconda\\envs\\mhy-yolo\\Lib\\site-packages\\ultralytics\\utils\\metrics.py:428: UserWarning: Glyph 37030 (\\N{CJK UNIFIED IDEOGRAPH-90A6}) missing from current font.\n",
      "  fig.savefig(plot_fname, dpi=250)\n",
      "D:\\code\\env\\anaconda\\envs\\mhy-yolo\\Lib\\site-packages\\ultralytics\\utils\\metrics.py:428: UserWarning: Glyph 24067 (\\N{CJK UNIFIED IDEOGRAPH-5E03}) missing from current font.\n",
      "  fig.savefig(plot_fname, dpi=250)\n",
      "D:\\code\\env\\anaconda\\envs\\mhy-yolo\\Lib\\site-packages\\ultralytics\\utils\\metrics.py:428: UserWarning: Glyph 21830 (\\N{CJK UNIFIED IDEOGRAPH-5546}) missing from current font.\n",
      "  fig.savefig(plot_fname, dpi=250)\n",
      "D:\\code\\env\\anaconda\\envs\\mhy-yolo\\Lib\\site-packages\\ultralytics\\utils\\metrics.py:428: UserWarning: Glyph 20154 (\\N{CJK UNIFIED IDEOGRAPH-4EBA}) missing from current font.\n",
      "  fig.savefig(plot_fname, dpi=250)\n",
      "D:\\code\\env\\anaconda\\envs\\mhy-yolo\\Lib\\site-packages\\ultralytics\\utils\\metrics.py:428: UserWarning: Glyph 38376 (\\N{CJK UNIFIED IDEOGRAPH-95E8}) missing from current font.\n",
      "  fig.savefig(plot_fname, dpi=250)\n",
      "D:\\code\\env\\anaconda\\envs\\mhy-yolo\\Lib\\site-packages\\ultralytics\\utils\\metrics.py:428: UserWarning: Glyph 25161 (\\N{CJK UNIFIED IDEOGRAPH-6249}) missing from current font.\n",
      "  fig.savefig(plot_fname, dpi=250)\n",
      "D:\\code\\env\\anaconda\\envs\\mhy-yolo\\Lib\\site-packages\\ultralytics\\utils\\metrics.py:428: UserWarning: Glyph 31105 (\\N{CJK UNIFIED IDEOGRAPH-7981}) missing from current font.\n",
      "  fig.savefig(plot_fname, dpi=250)\n",
      "D:\\code\\env\\anaconda\\envs\\mhy-yolo\\Lib\\site-packages\\ultralytics\\utils\\metrics.py:428: UserWarning: Glyph 38381 (\\N{CJK UNIFIED IDEOGRAPH-95ED}) missing from current font.\n",
      "  fig.savefig(plot_fname, dpi=250)\n",
      "D:\\code\\env\\anaconda\\envs\\mhy-yolo\\Lib\\site-packages\\ultralytics\\utils\\metrics.py:428: UserWarning: Glyph 36130 (\\N{CJK UNIFIED IDEOGRAPH-8D22}) missing from current font.\n",
      "  fig.savefig(plot_fname, dpi=250)\n",
      "D:\\code\\env\\anaconda\\envs\\mhy-yolo\\Lib\\site-packages\\ultralytics\\utils\\metrics.py:428: UserWarning: Glyph 23500 (\\N{CJK UNIFIED IDEOGRAPH-5BCC}) missing from current font.\n",
      "  fig.savefig(plot_fname, dpi=250)\n",
      "D:\\code\\env\\anaconda\\envs\\mhy-yolo\\Lib\\site-packages\\ultralytics\\utils\\metrics.py:428: UserWarning: Glyph 39037 (\\N{CJK UNIFIED IDEOGRAPH-987D}) missing from current font.\n",
      "  fig.savefig(plot_fname, dpi=250)\n",
      "D:\\code\\env\\anaconda\\envs\\mhy-yolo\\Lib\\site-packages\\ultralytics\\utils\\metrics.py:428: UserWarning: Glyph 22266 (\\N{CJK UNIFIED IDEOGRAPH-56FA}) missing from current font.\n",
      "  fig.savefig(plot_fname, dpi=250)\n",
      "D:\\code\\env\\anaconda\\envs\\mhy-yolo\\Lib\\site-packages\\ultralytics\\utils\\metrics.py:428: UserWarning: Glyph 30340 (\\N{CJK UNIFIED IDEOGRAPH-7684}) missing from current font.\n",
      "  fig.savefig(plot_fname, dpi=250)\n",
      "D:\\code\\env\\anaconda\\envs\\mhy-yolo\\Lib\\site-packages\\ultralytics\\utils\\metrics.py:428: UserWarning: Glyph 38556 (\\N{CJK UNIFIED IDEOGRAPH-969C}) missing from current font.\n",
      "  fig.savefig(plot_fname, dpi=250)\n",
      "D:\\code\\env\\anaconda\\envs\\mhy-yolo\\Lib\\site-packages\\ultralytics\\utils\\metrics.py:428: UserWarning: Glyph 30861 (\\N{CJK UNIFIED IDEOGRAPH-788D}) missing from current font.\n",
      "  fig.savefig(plot_fname, dpi=250)\n",
      "D:\\code\\env\\anaconda\\envs\\mhy-yolo\\Lib\\site-packages\\ultralytics\\utils\\metrics.py:428: UserWarning: Glyph 29289 (\\N{CJK UNIFIED IDEOGRAPH-7269}) missing from current font.\n",
      "  fig.savefig(plot_fname, dpi=250)\n",
      "D:\\code\\env\\anaconda\\envs\\mhy-yolo\\Lib\\site-packages\\ultralytics\\utils\\metrics.py:428: UserWarning: Glyph 27531 (\\N{CJK UNIFIED IDEOGRAPH-6B8B}) missing from current font.\n",
      "  fig.savefig(plot_fname, dpi=250)\n",
      "D:\\code\\env\\anaconda\\envs\\mhy-yolo\\Lib\\site-packages\\ultralytics\\utils\\metrics.py:428: UserWarning: Glyph 30772 (\\N{CJK UNIFIED IDEOGRAPH-7834}) missing from current font.\n",
      "  fig.savefig(plot_fname, dpi=250)\n",
      "D:\\code\\env\\anaconda\\envs\\mhy-yolo\\Lib\\site-packages\\ultralytics\\utils\\metrics.py:428: UserWarning: Glyph 21452 (\\N{CJK UNIFIED IDEOGRAPH-53CC}) missing from current font.\n",
      "  fig.savefig(plot_fname, dpi=250)\n",
      "D:\\code\\env\\anaconda\\envs\\mhy-yolo\\Lib\\site-packages\\ultralytics\\utils\\metrics.py:428: UserWarning: Glyph 37325 (\\N{CJK UNIFIED IDEOGRAPH-91CD}) missing from current font.\n",
      "  fig.savefig(plot_fname, dpi=250)\n",
      "D:\\code\\env\\anaconda\\envs\\mhy-yolo\\Lib\\site-packages\\ultralytics\\utils\\metrics.py:428: UserWarning: Glyph 21892 (\\N{CJK UNIFIED IDEOGRAPH-5584}) missing from current font.\n",
      "  fig.savefig(plot_fname, dpi=250)\n",
      "D:\\code\\env\\anaconda\\envs\\mhy-yolo\\Lib\\site-packages\\ultralytics\\utils\\metrics.py:428: UserWarning: Glyph 25112 (\\N{CJK UNIFIED IDEOGRAPH-6218}) missing from current font.\n",
      "  fig.savefig(plot_fname, dpi=250)\n",
      "D:\\code\\env\\anaconda\\envs\\mhy-yolo\\Lib\\site-packages\\ultralytics\\utils\\metrics.py:428: UserWarning: Glyph 24320 (\\N{CJK UNIFIED IDEOGRAPH-5F00}) missing from current font.\n",
      "  fig.savefig(plot_fname, dpi=250)\n",
      "D:\\code\\env\\anaconda\\envs\\mhy-yolo\\Lib\\site-packages\\ultralytics\\utils\\metrics.py:428: UserWarning: Glyph 21551 (\\N{CJK UNIFIED IDEOGRAPH-542F}) missing from current font.\n",
      "  fig.savefig(plot_fname, dpi=250)\n",
      "D:\\code\\env\\anaconda\\envs\\mhy-yolo\\Lib\\site-packages\\ultralytics\\utils\\metrics.py:428: UserWarning: Glyph 23433 (\\N{CJK UNIFIED IDEOGRAPH-5B89}) missing from current font.\n",
      "  fig.savefig(plot_fname, dpi=250)\n",
      "D:\\code\\env\\anaconda\\envs\\mhy-yolo\\Lib\\site-packages\\ultralytics\\utils\\metrics.py:428: UserWarning: Glyph 20840 (\\N{CJK UNIFIED IDEOGRAPH-5168}) missing from current font.\n",
      "  fig.savefig(plot_fname, dpi=250)\n",
      "D:\\code\\env\\anaconda\\envs\\mhy-yolo\\Lib\\site-packages\\ultralytics\\utils\\metrics.py:428: UserWarning: Glyph 21306 (\\N{CJK UNIFIED IDEOGRAPH-533A}) missing from current font.\n",
      "  fig.savefig(plot_fname, dpi=250)\n",
      "D:\\code\\env\\anaconda\\envs\\mhy-yolo\\Lib\\site-packages\\ultralytics\\utils\\metrics.py:428: UserWarning: Glyph 20241 (\\N{CJK UNIFIED IDEOGRAPH-4F11}) missing from current font.\n",
      "  fig.savefig(plot_fname, dpi=250)\n",
      "D:\\code\\env\\anaconda\\envs\\mhy-yolo\\Lib\\site-packages\\ultralytics\\utils\\metrics.py:428: UserWarning: Glyph 24687 (\\N{CJK UNIFIED IDEOGRAPH-606F}) missing from current font.\n",
      "  fig.savefig(plot_fname, dpi=250)\n",
      "D:\\code\\env\\anaconda\\envs\\mhy-yolo\\Lib\\site-packages\\ultralytics\\utils\\metrics.py:428: UserWarning: Glyph 22833 (\\N{CJK UNIFIED IDEOGRAPH-5931}) missing from current font.\n",
      "  fig.savefig(plot_fname, dpi=250)\n",
      "D:\\code\\env\\anaconda\\envs\\mhy-yolo\\Lib\\site-packages\\ultralytics\\utils\\metrics.py:428: UserWarning: Glyph 32852 (\\N{CJK UNIFIED IDEOGRAPH-8054}) missing from current font.\n",
      "  fig.savefig(plot_fname, dpi=250)\n",
      "D:\\code\\env\\anaconda\\envs\\mhy-yolo\\Lib\\site-packages\\ultralytics\\utils\\metrics.py:428: UserWarning: Glyph 20928 (\\N{CJK UNIFIED IDEOGRAPH-51C0}) missing from current font.\n",
      "  fig.savefig(plot_fname, dpi=250)\n",
      "D:\\code\\env\\anaconda\\envs\\mhy-yolo\\Lib\\site-packages\\ultralytics\\utils\\metrics.py:428: UserWarning: Glyph 23460 (\\N{CJK UNIFIED IDEOGRAPH-5BA4}) missing from current font.\n",
      "  fig.savefig(plot_fname, dpi=250)\n",
      "D:\\code\\env\\anaconda\\envs\\mhy-yolo\\Lib\\site-packages\\ultralytics\\utils\\metrics.py:428: UserWarning: Glyph 20256 (\\N{CJK UNIFIED IDEOGRAPH-4F20}) missing from current font.\n",
      "  fig.savefig(plot_fname, dpi=250)\n",
      "D:\\code\\env\\anaconda\\envs\\mhy-yolo\\Lib\\site-packages\\ultralytics\\utils\\metrics.py:428: UserWarning: Glyph 36865 (\\N{CJK UNIFIED IDEOGRAPH-9001}) missing from current font.\n",
      "  fig.savefig(plot_fname, dpi=250)\n",
      "D:\\code\\env\\anaconda\\envs\\mhy-yolo\\Lib\\site-packages\\ultralytics\\utils\\metrics.py:428: UserWarning: Glyph 30495 (\\N{CJK UNIFIED IDEOGRAPH-771F}) missing from current font.\n",
      "  fig.savefig(plot_fname, dpi=250)\n",
      "D:\\code\\env\\anaconda\\envs\\mhy-yolo\\Lib\\site-packages\\ultralytics\\utils\\metrics.py:428: UserWarning: Glyph 30456 (\\N{CJK UNIFIED IDEOGRAPH-76F8}) missing from current font.\n",
      "  fig.savefig(plot_fname, dpi=250)\n",
      "D:\\code\\env\\anaconda\\envs\\mhy-yolo\\Lib\\site-packages\\ultralytics\\utils\\metrics.py:428: UserWarning: Glyph 36890 (\\N{CJK UNIFIED IDEOGRAPH-901A}) missing from current font.\n",
      "  fig.savefig(plot_fname, dpi=250)\n",
      "D:\\code\\env\\anaconda\\envs\\mhy-yolo\\Lib\\site-packages\\ultralytics\\utils\\metrics.py:428: UserWarning: Glyph 36947 (\\N{CJK UNIFIED IDEOGRAPH-9053}) missing from current font.\n",
      "  fig.savefig(plot_fname, dpi=250)\n",
      "D:\\code\\env\\anaconda\\envs\\mhy-yolo\\Lib\\site-packages\\ultralytics\\utils\\metrics.py:428: UserWarning: Glyph 24040 (\\N{CJK UNIFIED IDEOGRAPH-5DE8}) missing from current font.\n",
      "  fig.savefig(plot_fname, dpi=250)\n",
      "D:\\code\\env\\anaconda\\envs\\mhy-yolo\\Lib\\site-packages\\ultralytics\\utils\\metrics.py:428: UserWarning: Glyph 20861 (\\N{CJK UNIFIED IDEOGRAPH-517D}) missing from current font.\n",
      "  fig.savefig(plot_fname, dpi=250)\n",
      "D:\\code\\env\\anaconda\\envs\\mhy-yolo\\Lib\\site-packages\\ultralytics\\utils\\metrics.py:428: UserWarning: Glyph 22855 (\\N{CJK UNIFIED IDEOGRAPH-5947}) missing from current font.\n",
      "  fig.savefig(plot_fname, dpi=250)\n",
      "D:\\code\\env\\anaconda\\envs\\mhy-yolo\\Lib\\site-packages\\ultralytics\\utils\\metrics.py:428: UserWarning: Glyph 36135 (\\N{CJK UNIFIED IDEOGRAPH-8D27}) missing from current font.\n",
      "  fig.savefig(plot_fname, dpi=250)\n",
      "D:\\code\\env\\anaconda\\envs\\mhy-yolo\\Lib\\site-packages\\ultralytics\\utils\\metrics.py:428: UserWarning: Glyph 30450 (\\N{CJK UNIFIED IDEOGRAPH-76F2}) missing from current font.\n",
      "  fig.savefig(plot_fname, dpi=250)\n",
      "D:\\code\\env\\anaconda\\envs\\mhy-yolo\\Lib\\site-packages\\ultralytics\\utils\\metrics.py:428: UserWarning: Glyph 30418 (\\N{CJK UNIFIED IDEOGRAPH-76D2}) missing from current font.\n",
      "  fig.savefig(plot_fname, dpi=250)\n",
      "D:\\code\\env\\anaconda\\envs\\mhy-yolo\\Lib\\site-packages\\ultralytics\\utils\\metrics.py:428: UserWarning: Glyph 22495 (\\N{CJK UNIFIED IDEOGRAPH-57DF}) missing from current font.\n",
      "  fig.savefig(plot_fname, dpi=250)\n",
      "D:\\code\\env\\anaconda\\envs\\mhy-yolo\\Lib\\site-packages\\ultralytics\\utils\\metrics.py:428: UserWarning: Glyph 19981 (\\N{CJK UNIFIED IDEOGRAPH-4E0D}) missing from current font.\n",
      "  fig.savefig(plot_fname, dpi=250)\n",
      "D:\\code\\env\\anaconda\\envs\\mhy-yolo\\Lib\\site-packages\\ultralytics\\utils\\metrics.py:428: UserWarning: Glyph 23452 (\\N{CJK UNIFIED IDEOGRAPH-5B9C}) missing from current font.\n",
      "  fig.savefig(plot_fname, dpi=250)\n",
      "D:\\code\\env\\anaconda\\envs\\mhy-yolo\\Lib\\site-packages\\ultralytics\\utils\\metrics.py:428: UserWarning: Glyph 20037 (\\N{CJK UNIFIED IDEOGRAPH-4E45}) missing from current font.\n",
      "  fig.savefig(plot_fname, dpi=250)\n",
      "D:\\code\\env\\anaconda\\envs\\mhy-yolo\\Lib\\site-packages\\ultralytics\\utils\\metrics.py:428: UserWarning: Glyph 30041 (\\N{CJK UNIFIED IDEOGRAPH-7559}) missing from current font.\n",
      "  fig.savefig(plot_fname, dpi=250)\n",
      "D:\\code\\env\\anaconda\\envs\\mhy-yolo\\Lib\\site-packages\\ultralytics\\utils\\metrics.py:428: UserWarning: Glyph 24618 (\\N{CJK UNIFIED IDEOGRAPH-602A}) missing from current font.\n",
      "  fig.savefig(plot_fname, dpi=250)\n",
      "D:\\code\\env\\anaconda\\envs\\mhy-yolo\\Lib\\site-packages\\ultralytics\\utils\\metrics.py:428: UserWarning: Glyph 20390 (\\N{CJK UNIFIED IDEOGRAPH-4FA6}) missing from current font.\n",
      "  fig.savefig(plot_fname, dpi=250)\n",
      "D:\\code\\env\\anaconda\\envs\\mhy-yolo\\Lib\\site-packages\\ultralytics\\utils\\metrics.py:428: UserWarning: Glyph 25506 (\\N{CJK UNIFIED IDEOGRAPH-63A2}) missing from current font.\n",
      "  fig.savefig(plot_fname, dpi=250)\n",
      "D:\\code\\env\\anaconda\\envs\\mhy-yolo\\Lib\\site-packages\\ultralytics\\utils\\metrics.py:428: UserWarning: Glyph 27714 (\\N{CJK UNIFIED IDEOGRAPH-6C42}) missing from current font.\n",
      "  fig.savefig(plot_fname, dpi=250)\n",
      "D:\\code\\env\\anaconda\\envs\\mhy-yolo\\Lib\\site-packages\\ultralytics\\utils\\metrics.py:428: UserWarning: Glyph 25937 (\\N{CJK UNIFIED IDEOGRAPH-6551}) missing from current font.\n",
      "  fig.savefig(plot_fname, dpi=250)\n",
      "D:\\code\\env\\anaconda\\envs\\mhy-yolo\\Lib\\site-packages\\ultralytics\\utils\\metrics.py:428: UserWarning: Glyph 20449 (\\N{CJK UNIFIED IDEOGRAPH-4FE1}) missing from current font.\n",
      "  fig.savefig(plot_fname, dpi=250)\n",
      "D:\\code\\env\\anaconda\\envs\\mhy-yolo\\Lib\\site-packages\\ultralytics\\utils\\metrics.py:428: UserWarning: Glyph 21495 (\\N{CJK UNIFIED IDEOGRAPH-53F7}) missing from current font.\n",
      "  fig.savefig(plot_fname, dpi=250)\n",
      "D:\\code\\env\\anaconda\\envs\\mhy-yolo\\Lib\\site-packages\\ultralytics\\utils\\metrics.py:428: UserWarning: Glyph 21327 (\\N{CJK UNIFIED IDEOGRAPH-534F}) missing from current font.\n",
      "  fig.savefig(plot_fname, dpi=250)\n",
      "D:\\code\\env\\anaconda\\envs\\mhy-yolo\\Lib\\site-packages\\ultralytics\\utils\\metrics.py:428: UserWarning: Glyph 20250 (\\N{CJK UNIFIED IDEOGRAPH-4F1A}) missing from current font.\n",
      "  fig.savefig(plot_fname, dpi=250)\n",
      "D:\\code\\env\\anaconda\\envs\\mhy-yolo\\Lib\\site-packages\\ultralytics\\utils\\metrics.py:428: UserWarning: Glyph 31449 (\\N{CJK UNIFIED IDEOGRAPH-7AD9}) missing from current font.\n",
      "  fig.savefig(plot_fname, dpi=250)\n",
      "D:\\code\\env\\anaconda\\envs\\mhy-yolo\\Lib\\site-packages\\ultralytics\\utils\\metrics.py:428: UserWarning: Glyph 31934 (\\N{CJK UNIFIED IDEOGRAPH-7CBE}) missing from current font.\n",
      "  fig.savefig(plot_fname, dpi=250)\n",
      "D:\\code\\env\\anaconda\\envs\\mhy-yolo\\Lib\\site-packages\\ultralytics\\utils\\metrics.py:428: UserWarning: Glyph 38160 (\\N{CJK UNIFIED IDEOGRAPH-9510}) missing from current font.\n",
      "  fig.savefig(plot_fname, dpi=250)\n",
      "D:\\code\\env\\anaconda\\envs\\mhy-yolo\\Lib\\site-packages\\ultralytics\\utils\\metrics.py:428: UserWarning: Glyph 21161 (\\N{CJK UNIFIED IDEOGRAPH-52A9}) missing from current font.\n",
      "  fig.savefig(plot_fname, dpi=250)\n",
      "D:\\code\\env\\anaconda\\envs\\mhy-yolo\\Lib\\site-packages\\ultralytics\\utils\\metrics.py:428: UserWarning: Glyph 25163 (\\N{CJK UNIFIED IDEOGRAPH-624B}) missing from current font.\n",
      "  fig.savefig(plot_fname, dpi=250)\n",
      "D:\\code\\env\\anaconda\\envs\\mhy-yolo\\Lib\\site-packages\\ultralytics\\utils\\metrics.py:428: UserWarning: Glyph 27835 (\\N{CJK UNIFIED IDEOGRAPH-6CBB}) missing from current font.\n",
      "  fig.savefig(plot_fname, dpi=250)\n",
      "D:\\code\\env\\anaconda\\envs\\mhy-yolo\\Lib\\site-packages\\ultralytics\\utils\\metrics.py:428: UserWarning: Glyph 23448 (\\N{CJK UNIFIED IDEOGRAPH-5B98}) missing from current font.\n",
      "  fig.savefig(plot_fname, dpi=250)\n",
      "D:\\code\\env\\anaconda\\envs\\mhy-yolo\\Lib\\site-packages\\ultralytics\\utils\\metrics.py:428: UserWarning: Glyph 23567 (\\N{CJK UNIFIED IDEOGRAPH-5C0F}) missing from current font.\n",
      "  fig.savefig(plot_fname, dpi=250)\n",
      "D:\\code\\env\\anaconda\\envs\\mhy-yolo\\Lib\\site-packages\\ultralytics\\utils\\metrics.py:428: UserWarning: Glyph 38431 (\\N{CJK UNIFIED IDEOGRAPH-961F}) missing from current font.\n",
      "  fig.savefig(plot_fname, dpi=250)\n",
      "D:\\code\\env\\anaconda\\envs\\mhy-yolo\\Lib\\site-packages\\ultralytics\\utils\\metrics.py:428: UserWarning: Glyph 26377 (\\N{CJK UNIFIED IDEOGRAPH-6709}) missing from current font.\n",
      "  fig.savefig(plot_fname, dpi=250)\n",
      "D:\\code\\env\\anaconda\\envs\\mhy-yolo\\Lib\\site-packages\\ultralytics\\utils\\metrics.py:428: UserWarning: Glyph 20607 (\\N{CJK UNIFIED IDEOGRAPH-507F}) missing from current font.\n",
      "  fig.savefig(plot_fname, dpi=250)\n",
      "D:\\code\\env\\anaconda\\envs\\mhy-yolo\\Lib\\site-packages\\ultralytics\\utils\\metrics.py:428: UserWarning: Glyph 39301 (\\N{CJK UNIFIED IDEOGRAPH-9985}) missing from current font.\n",
      "  fig.savefig(plot_fname, dpi=250)\n",
      "D:\\code\\env\\anaconda\\envs\\mhy-yolo\\Lib\\site-packages\\ultralytics\\utils\\metrics.py:428: UserWarning: Glyph 39292 (\\N{CJK UNIFIED IDEOGRAPH-997C}) missing from current font.\n",
      "  fig.savefig(plot_fname, dpi=250)\n",
      "D:\\code\\env\\anaconda\\envs\\mhy-yolo\\Lib\\site-packages\\ultralytics\\utils\\metrics.py:428: UserWarning: Glyph 22825 (\\N{CJK UNIFIED IDEOGRAPH-5929}) missing from current font.\n",
      "  fig.savefig(plot_fname, dpi=250)\n",
      "D:\\code\\env\\anaconda\\envs\\mhy-yolo\\Lib\\site-packages\\ultralytics\\utils\\metrics.py:428: UserWarning: Glyph 38477 (\\N{CJK UNIFIED IDEOGRAPH-964D}) missing from current font.\n",
      "  fig.savefig(plot_fname, dpi=250)\n",
      "D:\\code\\env\\anaconda\\envs\\mhy-yolo\\Lib\\site-packages\\ultralytics\\utils\\metrics.py:428: UserWarning: Glyph 24576 (\\N{CJK UNIFIED IDEOGRAPH-6000}) missing from current font.\n",
      "  fig.savefig(plot_fname, dpi=250)\n",
      "D:\\code\\env\\anaconda\\envs\\mhy-yolo\\Lib\\site-packages\\ultralytics\\utils\\metrics.py:428: UserWarning: Glyph 26031 (\\N{CJK UNIFIED IDEOGRAPH-65AF}) missing from current font.\n",
      "  fig.savefig(plot_fname, dpi=250)\n",
      "D:\\code\\env\\anaconda\\envs\\mhy-yolo\\Lib\\site-packages\\ultralytics\\utils\\metrics.py:428: UserWarning: Glyph 22612 (\\N{CJK UNIFIED IDEOGRAPH-5854}) missing from current font.\n",
      "  fig.savefig(plot_fname, dpi=250)\n",
      "D:\\code\\env\\anaconda\\envs\\mhy-yolo\\Lib\\site-packages\\ultralytics\\utils\\metrics.py:428: UserWarning: Glyph 23398 (\\N{CJK UNIFIED IDEOGRAPH-5B66}) missing from current font.\n",
      "  fig.savefig(plot_fname, dpi=250)\n",
      "D:\\code\\env\\anaconda\\envs\\mhy-yolo\\Lib\\site-packages\\ultralytics\\utils\\metrics.py:428: UserWarning: Glyph 27963 (\\N{CJK UNIFIED IDEOGRAPH-6D3B}) missing from current font.\n",
      "  fig.savefig(plot_fname, dpi=250)\n",
      "D:\\code\\env\\anaconda\\envs\\mhy-yolo\\Lib\\site-packages\\ultralytics\\utils\\metrics.py:428: UserWarning: Glyph 32467 (\\N{CJK UNIFIED IDEOGRAPH-7ED3}) missing from current font.\n",
      "  fig.savefig(plot_fname, dpi=250)\n",
      "D:\\code\\env\\anaconda\\envs\\mhy-yolo\\Lib\\site-packages\\ultralytics\\utils\\metrics.py:428: UserWarning: Glyph 26230 (\\N{CJK UNIFIED IDEOGRAPH-6676}) missing from current font.\n",
      "  fig.savefig(plot_fname, dpi=250)\n",
      "D:\\code\\env\\anaconda\\envs\\mhy-yolo\\Lib\\site-packages\\ultralytics\\utils\\metrics.py:428: UserWarning: Glyph 23432 (\\N{CJK UNIFIED IDEOGRAPH-5B88}) missing from current font.\n",
      "  fig.savefig(plot_fname, dpi=250)\n",
      "D:\\code\\env\\anaconda\\envs\\mhy-yolo\\Lib\\site-packages\\ultralytics\\utils\\metrics.py:428: UserWarning: Glyph 35010 (\\N{CJK UNIFIED IDEOGRAPH-88C2}) missing from current font.\n",
      "  fig.savefig(plot_fname, dpi=250)\n",
      "D:\\code\\env\\anaconda\\envs\\mhy-yolo\\Lib\\site-packages\\ultralytics\\utils\\metrics.py:428: UserWarning: Glyph 38553 (\\N{CJK UNIFIED IDEOGRAPH-9699}) missing from current font.\n",
      "  fig.savefig(plot_fname, dpi=250)\n",
      "D:\\code\\env\\anaconda\\envs\\mhy-yolo\\Lib\\site-packages\\ultralytics\\utils\\metrics.py:428: UserWarning: Glyph 32039 (\\N{CJK UNIFIED IDEOGRAPH-7D27}) missing from current font.\n",
      "  fig.savefig(plot_fname, dpi=250)\n",
      "D:\\code\\env\\anaconda\\envs\\mhy-yolo\\Lib\\site-packages\\ultralytics\\utils\\metrics.py:428: UserWarning: Glyph 24613 (\\N{CJK UNIFIED IDEOGRAPH-6025}) missing from current font.\n",
      "  fig.savefig(plot_fname, dpi=250)\n",
      "D:\\code\\env\\anaconda\\envs\\mhy-yolo\\Lib\\site-packages\\ultralytics\\utils\\metrics.py:428: UserWarning: Glyph 25764 (\\N{CJK UNIFIED IDEOGRAPH-64A4}) missing from current font.\n",
      "  fig.savefig(plot_fname, dpi=250)\n",
      "D:\\code\\env\\anaconda\\envs\\mhy-yolo\\Lib\\site-packages\\ultralytics\\utils\\metrics.py:428: UserWarning: Glyph 31163 (\\N{CJK UNIFIED IDEOGRAPH-79BB}) missing from current font.\n",
      "  fig.savefig(plot_fname, dpi=250)\n",
      "D:\\code\\env\\anaconda\\envs\\mhy-yolo\\Lib\\site-packages\\ultralytics\\utils\\metrics.py:428: UserWarning: Glyph 38450 (\\N{CJK UNIFIED IDEOGRAPH-9632}) missing from current font.\n",
      "  fig.savefig(plot_fname, dpi=250)\n",
      "D:\\code\\env\\anaconda\\envs\\mhy-yolo\\Lib\\site-packages\\ultralytics\\utils\\metrics.py:428: UserWarning: Glyph 21355 (\\N{CJK UNIFIED IDEOGRAPH-536B}) missing from current font.\n",
      "  fig.savefig(plot_fname, dpi=250)\n",
      "D:\\code\\env\\anaconda\\envs\\mhy-yolo\\Lib\\site-packages\\ultralytics\\utils\\metrics.py:428: UserWarning: Glyph 20891 (\\N{CJK UNIFIED IDEOGRAPH-519B}) missing from current font.\n",
      "  fig.savefig(plot_fname, dpi=250)\n",
      "D:\\code\\env\\anaconda\\envs\\mhy-yolo\\Lib\\site-packages\\ultralytics\\utils\\metrics.py:428: UserWarning: Glyph 21518 (\\N{CJK UNIFIED IDEOGRAPH-540E}) missing from current font.\n",
      "  fig.savefig(plot_fname, dpi=250)\n",
      "D:\\code\\env\\anaconda\\envs\\mhy-yolo\\Lib\\site-packages\\ultralytics\\utils\\metrics.py:428: UserWarning: Glyph 21220 (\\N{CJK UNIFIED IDEOGRAPH-52E4}) missing from current font.\n",
      "  fig.savefig(plot_fname, dpi=250)\n",
      "D:\\code\\env\\anaconda\\envs\\mhy-yolo\\Lib\\site-packages\\ultralytics\\utils\\metrics.py:428: UserWarning: Glyph 29579 (\\N{CJK UNIFIED IDEOGRAPH-738B}) missing from current font.\n",
      "  fig.savefig(plot_fname, dpi=250)\n",
      "D:\\code\\env\\anaconda\\envs\\mhy-yolo\\Lib\\site-packages\\ultralytics\\utils\\metrics.py:428: UserWarning: Glyph 29260 (\\N{CJK UNIFIED IDEOGRAPH-724C}) missing from current font.\n",
      "  fig.savefig(plot_fname, dpi=250)\n",
      "D:\\code\\env\\anaconda\\envs\\mhy-yolo\\Lib\\site-packages\\ultralytics\\utils\\metrics.py:428: UserWarning: Glyph 26410 (\\N{CJK UNIFIED IDEOGRAPH-672A}) missing from current font.\n",
      "  fig.savefig(plot_fname, dpi=250)\n",
      "D:\\code\\env\\anaconda\\envs\\mhy-yolo\\Lib\\site-packages\\ultralytics\\utils\\metrics.py:428: UserWarning: Glyph 30693 (\\N{CJK UNIFIED IDEOGRAPH-77E5}) missing from current font.\n",
      "  fig.savefig(plot_fname, dpi=250)\n",
      "D:\\code\\env\\anaconda\\envs\\mhy-yolo\\Lib\\site-packages\\ultralytics\\utils\\metrics.py:428: UserWarning: Glyph 29983 (\\N{CJK UNIFIED IDEOGRAPH-751F}) missing from current font.\n",
      "  fig.savefig(plot_fname, dpi=250)\n",
      "D:\\code\\env\\anaconda\\envs\\mhy-yolo\\Lib\\site-packages\\ultralytics\\utils\\metrics.py:428: UserWarning: Glyph 38646 (\\N{CJK UNIFIED IDEOGRAPH-96F6}) missing from current font.\n",
      "  fig.savefig(plot_fname, dpi=250)\n",
      "D:\\code\\env\\anaconda\\envs\\mhy-yolo\\Lib\\site-packages\\ultralytics\\utils\\metrics.py:428: UserWarning: Glyph 38134 (\\N{CJK UNIFIED IDEOGRAPH-94F6}) missing from current font.\n",
      "  fig.savefig(plot_fname, dpi=250)\n",
      "D:\\code\\env\\anaconda\\envs\\mhy-yolo\\Lib\\site-packages\\ultralytics\\utils\\metrics.py:428: UserWarning: Glyph 34892 (\\N{CJK UNIFIED IDEOGRAPH-884C}) missing from current font.\n",
      "  fig.savefig(plot_fname, dpi=250)\n",
      "D:\\code\\env\\anaconda\\envs\\mhy-yolo\\Lib\\site-packages\\ultralytics\\utils\\metrics.py:428: UserWarning: Glyph 25928 (\\N{CJK UNIFIED IDEOGRAPH-6548}) missing from current font.\n",
      "  fig.savefig(plot_fname, dpi=250)\n",
      "D:\\code\\env\\anaconda\\envs\\mhy-yolo\\Lib\\site-packages\\ultralytics\\utils\\metrics.py:428: UserWarning: Glyph 33410 (\\N{CJK UNIFIED IDEOGRAPH-8282}) missing from current font.\n",
      "  fig.savefig(plot_fname, dpi=250)\n",
      "D:\\code\\env\\anaconda\\envs\\mhy-yolo\\Lib\\site-packages\\ultralytics\\utils\\metrics.py:428: UserWarning: Glyph 36164 (\\N{CJK UNIFIED IDEOGRAPH-8D44}) missing from current font.\n",
      "  fig.savefig(plot_fname, dpi=250)\n",
      "D:\\code\\env\\anaconda\\envs\\mhy-yolo\\Lib\\site-packages\\ultralytics\\utils\\metrics.py:428: UserWarning: Glyph 28304 (\\N{CJK UNIFIED IDEOGRAPH-6E90}) missing from current font.\n",
      "  fig.savefig(plot_fname, dpi=250)\n",
      "D:\\code\\env\\anaconda\\envs\\mhy-yolo\\Lib\\site-packages\\ultralytics\\utils\\metrics.py:428: UserWarning: Glyph 22238 (\\N{CJK UNIFIED IDEOGRAPH-56DE}) missing from current font.\n",
      "  fig.savefig(plot_fname, dpi=250)\n",
      "D:\\code\\env\\anaconda\\envs\\mhy-yolo\\Lib\\site-packages\\ultralytics\\utils\\metrics.py:428: UserWarning: Glyph 25910 (\\N{CJK UNIFIED IDEOGRAPH-6536}) missing from current font.\n",
      "  fig.savefig(plot_fname, dpi=250)\n",
      "D:\\code\\env\\anaconda\\envs\\mhy-yolo\\Lib\\site-packages\\ultralytics\\utils\\metrics.py:428: UserWarning: Glyph 32452 (\\N{CJK UNIFIED IDEOGRAPH-7EC4}) missing from current font.\n",
      "  fig.savefig(plot_fname, dpi=250)\n",
      "D:\\code\\env\\anaconda\\envs\\mhy-yolo\\Lib\\site-packages\\ultralytics\\utils\\metrics.py:428: UserWarning: Glyph 25353 (\\N{CJK UNIFIED IDEOGRAPH-6309}) missing from current font.\n",
      "  fig.savefig(plot_fname, dpi=250)\n",
      "D:\\code\\env\\anaconda\\envs\\mhy-yolo\\Lib\\site-packages\\ultralytics\\utils\\metrics.py:428: UserWarning: Glyph 21387 (\\N{CJK UNIFIED IDEOGRAPH-538B}) missing from current font.\n",
      "  fig.savefig(plot_fname, dpi=250)\n",
      "D:\\code\\env\\anaconda\\envs\\mhy-yolo\\Lib\\site-packages\\ultralytics\\utils\\metrics.py:428: UserWarning: Glyph 24335 (\\N{CJK UNIFIED IDEOGRAPH-5F0F}) missing from current font.\n",
      "  fig.savefig(plot_fname, dpi=250)\n",
      "D:\\code\\env\\anaconda\\envs\\mhy-yolo\\Lib\\site-packages\\ultralytics\\utils\\metrics.py:428: UserWarning: Glyph 20851 (\\N{CJK UNIFIED IDEOGRAPH-5173}) missing from current font.\n",
      "  fig.savefig(plot_fname, dpi=250)\n",
      "D:\\code\\env\\anaconda\\envs\\mhy-yolo\\Lib\\site-packages\\ultralytics\\utils\\metrics.py:428: UserWarning: Glyph 24377 (\\N{CJK UNIFIED IDEOGRAPH-5F39}) missing from current font.\n",
      "  fig.savefig(plot_fname, dpi=250)\n",
      "D:\\code\\env\\anaconda\\envs\\mhy-yolo\\Lib\\site-packages\\ultralytics\\utils\\metrics.py:428: UserWarning: Glyph 23556 (\\N{CJK UNIFIED IDEOGRAPH-5C04}) missing from current font.\n",
      "  fig.savefig(plot_fname, dpi=250)\n",
      "D:\\code\\env\\anaconda\\envs\\mhy-yolo\\Lib\\site-packages\\ultralytics\\utils\\metrics.py:428: UserWarning: Glyph 19978 (\\N{CJK UNIFIED IDEOGRAPH-4E0A}) missing from current font.\n",
      "  fig.savefig(plot_fname, dpi=250)\n",
      "D:\\code\\env\\anaconda\\envs\\mhy-yolo\\Lib\\site-packages\\ultralytics\\utils\\metrics.py:428: UserWarning: Glyph 36712 (\\N{CJK UNIFIED IDEOGRAPH-8F68}) missing from current font.\n",
      "  fig.savefig(plot_fname, dpi=250)\n",
      "D:\\code\\env\\anaconda\\envs\\mhy-yolo\\Lib\\site-packages\\ultralytics\\utils\\metrics.py:428: UserWarning: Glyph 21516 (\\N{CJK UNIFIED IDEOGRAPH-540C}) missing from current font.\n",
      "  fig.savefig(plot_fname, dpi=250)\n",
      "D:\\code\\env\\anaconda\\envs\\mhy-yolo\\Lib\\site-packages\\ultralytics\\utils\\metrics.py:428: UserWarning: Glyph 20276 (\\N{CJK UNIFIED IDEOGRAPH-4F34}) missing from current font.\n",
      "  fig.savefig(plot_fname, dpi=250)\n",
      "D:\\code\\env\\anaconda\\envs\\mhy-yolo\\Lib\\site-packages\\ultralytics\\utils\\metrics.py:428: UserWarning: Glyph 19979 (\\N{CJK UNIFIED IDEOGRAPH-4E0B}) missing from current font.\n",
      "  fig.savefig(plot_fname, dpi=250)\n",
      "D:\\code\\env\\anaconda\\envs\\mhy-yolo\\Lib\\site-packages\\ultralytics\\utils\\metrics.py:428: UserWarning: Glyph 24038 (\\N{CJK UNIFIED IDEOGRAPH-5DE6}) missing from current font.\n",
      "  fig.savefig(plot_fname, dpi=250)\n",
      "D:\\code\\env\\anaconda\\envs\\mhy-yolo\\Lib\\site-packages\\ultralytics\\utils\\metrics.py:428: UserWarning: Glyph 21491 (\\N{CJK UNIFIED IDEOGRAPH-53F3}) missing from current font.\n",
      "  fig.savefig(plot_fname, dpi=250)\n",
      "D:\\code\\env\\anaconda\\envs\\mhy-yolo\\Lib\\site-packages\\ultralytics\\utils\\metrics.py:428: UserWarning: Glyph 25151 (\\N{CJK UNIFIED IDEOGRAPH-623F}) missing from current font.\n",
      "  fig.savefig(plot_fname, dpi=250)\n",
      "D:\\code\\env\\anaconda\\envs\\mhy-yolo\\Lib\\site-packages\\ultralytics\\utils\\metrics.py:428: UserWarning: Glyph 23627 (\\N{CJK UNIFIED IDEOGRAPH-5C4B}) missing from current font.\n",
      "  fig.savefig(plot_fname, dpi=250)\n",
      "D:\\code\\env\\anaconda\\envs\\mhy-yolo\\Lib\\site-packages\\ultralytics\\utils\\metrics.py:428: UserWarning: Glyph 39608 (\\N{CJK UNIFIED IDEOGRAPH-9AB8}) missing from current font.\n",
      "  fig.savefig(plot_fname, dpi=250)\n",
      "D:\\code\\env\\anaconda\\envs\\mhy-yolo\\Lib\\site-packages\\ultralytics\\utils\\metrics.py:428: UserWarning: Glyph 30005 (\\N{CJK UNIFIED IDEOGRAPH-7535}) missing from current font.\n",
      "  fig.savefig(plot_fname, dpi=250)\n",
      "D:\\code\\env\\anaconda\\envs\\mhy-yolo\\Lib\\site-packages\\ultralytics\\utils\\metrics.py:428: UserWarning: Glyph 35270 (\\N{CJK UNIFIED IDEOGRAPH-89C6}) missing from current font.\n",
      "  fig.savefig(plot_fname, dpi=250)\n",
      "D:\\code\\env\\anaconda\\envs\\mhy-yolo\\Lib\\site-packages\\ultralytics\\utils\\metrics.py:428: UserWarning: Glyph 24213 (\\N{CJK UNIFIED IDEOGRAPH-5E95}) missing from current font.\n",
      "  fig.savefig(plot_fname, dpi=250)\n",
      "D:\\code\\env\\anaconda\\envs\\mhy-yolo\\Lib\\site-packages\\ultralytics\\utils\\metrics.py:428: UserWarning: Glyph 24231 (\\N{CJK UNIFIED IDEOGRAPH-5EA7}) missing from current font.\n",
      "  fig.savefig(plot_fname, dpi=250)\n",
      "D:\\code\\env\\anaconda\\envs\\mhy-yolo\\Lib\\site-packages\\ultralytics\\utils\\metrics.py:428: UserWarning: Glyph 32511 (\\N{CJK UNIFIED IDEOGRAPH-7EFF}) missing from current font.\n",
      "  fig.savefig(plot_fname, dpi=250)\n",
      "D:\\code\\env\\anaconda\\envs\\mhy-yolo\\Lib\\site-packages\\ultralytics\\utils\\metrics.py:428: UserWarning: Glyph 32418 (\\N{CJK UNIFIED IDEOGRAPH-7EA2}) missing from current font.\n",
      "  fig.savefig(plot_fname, dpi=250)\n",
      "D:\\code\\env\\anaconda\\envs\\mhy-yolo\\Lib\\site-packages\\ultralytics\\utils\\metrics.py:428: UserWarning: Glyph 22823 (\\N{CJK UNIFIED IDEOGRAPH-5927}) missing from current font.\n",
      "  fig.savefig(plot_fname, dpi=250)\n",
      "D:\\code\\env\\anaconda\\envs\\mhy-yolo\\Lib\\site-packages\\ultralytics\\utils\\metrics.py:428: UserWarning: Glyph 24403 (\\N{CJK UNIFIED IDEOGRAPH-5F53}) missing from current font.\n",
      "  fig.savefig(plot_fname, dpi=250)\n",
      "D:\\code\\env\\anaconda\\envs\\mhy-yolo\\Lib\\site-packages\\ultralytics\\utils\\metrics.py:428: UserWarning: Glyph 21069 (\\N{CJK UNIFIED IDEOGRAPH-524D}) missing from current font.\n",
      "  fig.savefig(plot_fname, dpi=250)\n",
      "D:\\code\\env\\anaconda\\envs\\mhy-yolo\\Lib\\site-packages\\ultralytics\\utils\\metrics.py:428: UserWarning: Glyph 31354 (\\N{CJK UNIFIED IDEOGRAPH-7A7A}) missing from current font.\n",
      "  fig.savefig(plot_fname, dpi=250)\n",
      "D:\\code\\env\\anaconda\\envs\\mhy-yolo\\Lib\\site-packages\\ultralytics\\utils\\metrics.py:428: UserWarning: Glyph 30333 (\\N{CJK UNIFIED IDEOGRAPH-767D}) missing from current font.\n",
      "  fig.savefig(plot_fname, dpi=250)\n",
      "D:\\code\\env\\anaconda\\envs\\mhy-yolo\\Lib\\site-packages\\ultralytics\\utils\\metrics.py:428: UserWarning: Glyph 24050 (\\N{CJK UNIFIED IDEOGRAPH-5DF2}) missing from current font.\n",
      "  fig.savefig(plot_fname, dpi=250)\n"
     ]
    },
    {
     "name": "stdout",
     "output_type": "stream",
     "text": [
      "\n",
      "1000 epochs completed in 2.717 hours.\n",
      "Optimizer stripped from D:\\code\\workspace\\OneDragon-YOLO\\ultralytics\\runs\\zzz_hollow_event_2208\\yolov8x-640\\weights\\last.pt, 137.0MB\n",
      "Optimizer stripped from D:\\code\\workspace\\OneDragon-YOLO\\ultralytics\\runs\\zzz_hollow_event_2208\\yolov8x-640\\weights\\best.pt, 137.0MB\n",
      "\n",
      "Validating D:\\code\\workspace\\OneDragon-YOLO\\ultralytics\\runs\\zzz_hollow_event_2208\\yolov8x-640\\weights\\best.pt...\n",
      "Ultralytics YOLOv8.2.51  Python-3.11.9 torch-2.3.1 CUDA:0 (NVIDIA GeForce RTX 4070 Ti, 12282MiB)\n",
      "Model summary (fused): 268 layers, 68193867 parameters, 0 gradients\n"
     ]
    },
    {
     "name": "stderr",
     "output_type": "stream",
     "text": [
      "                 Class     Images  Instances      Box(P          R      mAP50  mAP50-95): 100%|██████████| 21/21 [00:08<00:00,  2.42it/s]\n"
     ]
    },
    {
     "name": "stdout",
     "output_type": "stream",
     "text": [
      "                   all        208      19851      0.998      0.997      0.994      0.993\n",
      "               0001-         25         25      0.997          1      0.995      0.995\n",
      "            0002-        190        701          1          1      0.995      0.995\n",
      "               0003-        165        220          1          1      0.995      0.995\n",
      "            0004-         59         66      0.999          1      0.995      0.995\n",
      "             0006-        115        155          1          1      0.995      0.995\n",
      "             0007-        112        123      0.999          1      0.995      0.995\n",
      "              0008-        131        205          1      0.985      0.992      0.991\n",
      "             0009-        135        171          1          1      0.995      0.995\n",
      "              0011-          1          1          1          1      0.995      0.995\n",
      "               0012-         42         44          1          1      0.995      0.995\n",
      "            0013-        144        188          1          1      0.995      0.995\n",
      "             0014-        170        263          1          1      0.995      0.995\n",
      "            0015-         24         26          1          1      0.995      0.995\n",
      "            0016-        138        192          1          1      0.995      0.995\n",
      "              0017-         29         30          1          1      0.995      0.995\n",
      "              0018-         53         54      0.999          1      0.995      0.995\n",
      "             0019-        176        267          1          1      0.995      0.995\n",
      "           0021-         74       1258          1          1      0.995      0.995\n",
      "          0022--        195        430          1          1      0.995      0.995\n",
      "           0023-         33         38          1          1      0.995      0.995\n",
      "             0024-         73         81          1          1      0.995      0.995\n",
      "          0025--         43         47      0.999          1      0.995      0.995\n",
      "             0026-         96        131          1          1      0.995      0.995\n",
      "              0027-        129        192          1          1      0.995      0.995\n",
      "              0028-        153        221          1          1      0.995      0.995\n",
      "               0029-        170        264          1          1      0.995      0.995\n",
      "               0030-         99        149          1          1      0.995      0.995\n",
      "              0031-         20         20      0.997          1      0.995      0.995\n",
      "              0032-         49         53      0.999          1      0.995      0.995\n",
      "               0033-          2          2          1          1      0.995      0.995\n",
      "               0034-          2          2          1          1      0.995      0.995\n",
      "               0035-          9          9      0.992          1      0.995      0.995\n",
      "               0036-         26         29      0.997      0.931      0.963      0.963\n",
      "             0037-        102        122          1          1      0.995      0.995\n",
      "             0038-         16         16      0.996          1      0.995      0.995\n",
      "            0039-          2          2          1          1      0.995      0.995\n",
      "            0040-          3          3      0.982          1      0.995      0.995\n",
      "           0042-         32         32          1          1      0.995      0.995\n",
      "            0043-         28         28          1          1      0.995      0.995\n",
      "            0044-         27         28      0.997          1      0.995      0.995\n",
      "             0047-         15         15      0.995          1      0.995      0.995\n",
      "              0048-        193        312          1          1      0.995      0.995\n",
      "               0049-          6          6          1          1      0.995      0.995\n",
      "            0051-          8          8          1          1      0.995      0.995\n",
      "           0052-         31         31          1          1      0.995      0.995\n",
      "             0054-          5         15          1          1      0.995      0.995\n",
      "            0055-          5          5          1          1      0.995      0.995\n",
      "             0056-         43         45          1          1      0.995      0.995\n",
      "             0057-          7          7          1          1      0.995      0.995\n",
      "           0058-          5          5          1          1      0.995      0.995\n",
      "             0061--         55         57          1          1      0.995      0.995\n",
      "               0062-          1          1       0.96          1      0.995      0.995\n",
      "             0066--         55         57          1          1      0.995      0.995\n",
      "             0067--         30         30          1          1      0.995      0.995\n",
      "             0068--         33         33      0.998          1      0.995      0.995\n",
      "             0069-          5          5      0.987          1      0.995      0.995\n",
      "            8000-        208       9282          1       0.96      0.987      0.952\n",
      "            8001-        196        538          1      0.941      0.991      0.956\n",
      "            8002-         88        124          1          1      0.995      0.983\n",
      "               9000-        208        414          1      0.998      0.995      0.995\n",
      "            9001-         77        971          1          1      0.995      0.995\n",
      "            9002-        174       2002          1          1      0.995      0.995\n"
     ]
    },
    {
     "name": "stderr",
     "output_type": "stream",
     "text": [
      "D:\\code\\env\\anaconda\\envs\\mhy-yolo\\Lib\\site-packages\\ultralytics\\utils\\metrics.py:428: UserWarning: Glyph 36215 (\\N{CJK UNIFIED IDEOGRAPH-8D77}) missing from current font.\n",
      "  fig.savefig(plot_fname, dpi=250)\n",
      "D:\\code\\env\\anaconda\\envs\\mhy-yolo\\Lib\\site-packages\\ultralytics\\utils\\metrics.py:428: UserWarning: Glyph 28857 (\\N{CJK UNIFIED IDEOGRAPH-70B9}) missing from current font.\n",
      "  fig.savefig(plot_fname, dpi=250)\n",
      "D:\\code\\env\\anaconda\\envs\\mhy-yolo\\Lib\\site-packages\\ultralytics\\utils\\metrics.py:428: UserWarning: Glyph 40831 (\\N{CJK UNIFIED IDEOGRAPH-9F7F}) missing from current font.\n",
      "  fig.savefig(plot_fname, dpi=250)\n",
      "D:\\code\\env\\anaconda\\envs\\mhy-yolo\\Lib\\site-packages\\ultralytics\\utils\\metrics.py:428: UserWarning: Glyph 36718 (\\N{CJK UNIFIED IDEOGRAPH-8F6E}) missing from current font.\n",
      "  fig.savefig(plot_fname, dpi=250)\n",
      "D:\\code\\env\\anaconda\\envs\\mhy-yolo\\Lib\\site-packages\\ultralytics\\utils\\metrics.py:428: UserWarning: Glyph 30828 (\\N{CJK UNIFIED IDEOGRAPH-786C}) missing from current font.\n",
      "  fig.savefig(plot_fname, dpi=250)\n",
      "D:\\code\\env\\anaconda\\envs\\mhy-yolo\\Lib\\site-packages\\ultralytics\\utils\\metrics.py:428: UserWarning: Glyph 24065 (\\N{CJK UNIFIED IDEOGRAPH-5E01}) missing from current font.\n",
      "  fig.savefig(plot_fname, dpi=250)\n",
      "D:\\code\\env\\anaconda\\envs\\mhy-yolo\\Lib\\site-packages\\ultralytics\\utils\\metrics.py:428: UserWarning: Glyph 31665 (\\N{CJK UNIFIED IDEOGRAPH-7BB1}) missing from current font.\n",
      "  fig.savefig(plot_fname, dpi=250)\n",
      "D:\\code\\env\\anaconda\\envs\\mhy-yolo\\Lib\\site-packages\\ultralytics\\utils\\metrics.py:428: UserWarning: Glyph 21361 (\\N{CJK UNIFIED IDEOGRAPH-5371}) missing from current font.\n",
      "  fig.savefig(plot_fname, dpi=250)\n",
      "D:\\code\\env\\anaconda\\envs\\mhy-yolo\\Lib\\site-packages\\ultralytics\\utils\\metrics.py:428: UserWarning: Glyph 26426 (\\N{CJK UNIFIED IDEOGRAPH-673A}) missing from current font.\n",
      "  fig.savefig(plot_fname, dpi=250)\n",
      "D:\\code\\env\\anaconda\\envs\\mhy-yolo\\Lib\\site-packages\\ultralytics\\utils\\metrics.py:428: UserWarning: Glyph 19994 (\\N{CJK UNIFIED IDEOGRAPH-4E1A}) missing from current font.\n",
      "  fig.savefig(plot_fname, dpi=250)\n",
      "D:\\code\\env\\anaconda\\envs\\mhy-yolo\\Lib\\site-packages\\ultralytics\\utils\\metrics.py:428: UserWarning: Glyph 32489 (\\N{CJK UNIFIED IDEOGRAPH-7EE9}) missing from current font.\n",
      "  fig.savefig(plot_fname, dpi=250)\n",
      "D:\\code\\env\\anaconda\\envs\\mhy-yolo\\Lib\\site-packages\\ultralytics\\utils\\metrics.py:428: UserWarning: Glyph 32771 (\\N{CJK UNIFIED IDEOGRAPH-8003}) missing from current font.\n",
      "  fig.savefig(plot_fname, dpi=250)\n",
      "D:\\code\\env\\anaconda\\envs\\mhy-yolo\\Lib\\site-packages\\ultralytics\\utils\\metrics.py:428: UserWarning: Glyph 23519 (\\N{CJK UNIFIED IDEOGRAPH-5BDF}) missing from current font.\n",
      "  fig.savefig(plot_fname, dpi=250)\n",
      "D:\\code\\env\\anaconda\\envs\\mhy-yolo\\Lib\\site-packages\\ultralytics\\utils\\metrics.py:428: UserWarning: Glyph 21450 (\\N{CJK UNIFIED IDEOGRAPH-53CA}) missing from current font.\n",
      "  fig.savefig(plot_fname, dpi=250)\n",
      "D:\\code\\env\\anaconda\\envs\\mhy-yolo\\Lib\\site-packages\\ultralytics\\utils\\metrics.py:428: UserWarning: Glyph 26102 (\\N{CJK UNIFIED IDEOGRAPH-65F6}) missing from current font.\n",
      "  fig.savefig(plot_fname, dpi=250)\n",
      "D:\\code\\env\\anaconda\\envs\\mhy-yolo\\Lib\\site-packages\\ultralytics\\utils\\metrics.py:428: UserWarning: Glyph 34917 (\\N{CJK UNIFIED IDEOGRAPH-8865}) missing from current font.\n",
      "  fig.savefig(plot_fname, dpi=250)\n",
      "D:\\code\\env\\anaconda\\envs\\mhy-yolo\\Lib\\site-packages\\ultralytics\\utils\\metrics.py:428: UserWarning: Glyph 32473 (\\N{CJK UNIFIED IDEOGRAPH-7ED9}) missing from current font.\n",
      "  fig.savefig(plot_fname, dpi=250)\n",
      "D:\\code\\env\\anaconda\\envs\\mhy-yolo\\Lib\\site-packages\\ultralytics\\utils\\metrics.py:428: UserWarning: Glyph 25554 (\\N{CJK UNIFIED IDEOGRAPH-63D2}) missing from current font.\n",
      "  fig.savefig(plot_fname, dpi=250)\n",
      "D:\\code\\env\\anaconda\\envs\\mhy-yolo\\Lib\\site-packages\\ultralytics\\utils\\metrics.py:428: UserWarning: Glyph 20214 (\\N{CJK UNIFIED IDEOGRAPH-4EF6}) missing from current font.\n",
      "  fig.savefig(plot_fname, dpi=250)\n",
      "D:\\code\\env\\anaconda\\envs\\mhy-yolo\\Lib\\site-packages\\ultralytics\\utils\\metrics.py:428: UserWarning: Glyph 33719 (\\N{CJK UNIFIED IDEOGRAPH-83B7}) missing from current font.\n",
      "  fig.savefig(plot_fname, dpi=250)\n",
      "D:\\code\\env\\anaconda\\envs\\mhy-yolo\\Lib\\site-packages\\ultralytics\\utils\\metrics.py:428: UserWarning: Glyph 21462 (\\N{CJK UNIFIED IDEOGRAPH-53D6}) missing from current font.\n",
      "  fig.savefig(plot_fname, dpi=250)\n",
      "D:\\code\\env\\anaconda\\envs\\mhy-yolo\\Lib\\site-packages\\ultralytics\\utils\\metrics.py:428: UserWarning: Glyph 25197 (\\N{CJK UNIFIED IDEOGRAPH-626D}) missing from current font.\n",
      "  fig.savefig(plot_fname, dpi=250)\n",
      "D:\\code\\env\\anaconda\\envs\\mhy-yolo\\Lib\\site-packages\\ultralytics\\utils\\metrics.py:428: UserWarning: Glyph 34507 (\\N{CJK UNIFIED IDEOGRAPH-86CB}) missing from current font.\n",
      "  fig.savefig(plot_fname, dpi=250)\n",
      "D:\\code\\env\\anaconda\\envs\\mhy-yolo\\Lib\\site-packages\\ultralytics\\utils\\metrics.py:428: UserWarning: Glyph 21628 (\\N{CJK UNIFIED IDEOGRAPH-547C}) missing from current font.\n",
      "  fig.savefig(plot_fname, dpi=250)\n",
      "D:\\code\\env\\anaconda\\envs\\mhy-yolo\\Lib\\site-packages\\ultralytics\\utils\\metrics.py:428: UserWarning: Glyph 21483 (\\N{CJK UNIFIED IDEOGRAPH-53EB}) missing from current font.\n",
      "  fig.savefig(plot_fname, dpi=250)\n",
      "D:\\code\\env\\anaconda\\envs\\mhy-yolo\\Lib\\site-packages\\ultralytics\\utils\\metrics.py:428: UserWarning: Glyph 22686 (\\N{CJK UNIFIED IDEOGRAPH-589E}) missing from current font.\n",
      "  fig.savefig(plot_fname, dpi=250)\n",
      "D:\\code\\env\\anaconda\\envs\\mhy-yolo\\Lib\\site-packages\\ultralytics\\utils\\metrics.py:428: UserWarning: Glyph 25588 (\\N{CJK UNIFIED IDEOGRAPH-63F4}) missing from current font.\n",
      "  fig.savefig(plot_fname, dpi=250)\n",
      "D:\\code\\env\\anaconda\\envs\\mhy-yolo\\Lib\\site-packages\\ultralytics\\utils\\metrics.py:428: UserWarning: Glyph 31192 (\\N{CJK UNIFIED IDEOGRAPH-79D8}) missing from current font.\n",
      "  fig.savefig(plot_fname, dpi=250)\n",
      "D:\\code\\env\\anaconda\\envs\\mhy-yolo\\Lib\\site-packages\\ultralytics\\utils\\metrics.py:428: UserWarning: Glyph 24452 (\\N{CJK UNIFIED IDEOGRAPH-5F84}) missing from current font.\n",
      "  fig.savefig(plot_fname, dpi=250)\n",
      "D:\\code\\env\\anaconda\\envs\\mhy-yolo\\Lib\\site-packages\\ultralytics\\utils\\metrics.py:428: UserWarning: Glyph 25805 (\\N{CJK UNIFIED IDEOGRAPH-64CD}) missing from current font.\n",
      "  fig.savefig(plot_fname, dpi=250)\n",
      "D:\\code\\env\\anaconda\\envs\\mhy-yolo\\Lib\\site-packages\\ultralytics\\utils\\metrics.py:428: UserWarning: Glyph 32437 (\\N{CJK UNIFIED IDEOGRAPH-7EB5}) missing from current font.\n",
      "  fig.savefig(plot_fname, dpi=250)\n",
      "D:\\code\\env\\anaconda\\envs\\mhy-yolo\\Lib\\site-packages\\ultralytics\\utils\\metrics.py:428: UserWarning: Glyph 26438 (\\N{CJK UNIFIED IDEOGRAPH-6746}) missing from current font.\n",
      "  fig.savefig(plot_fname, dpi=250)\n",
      "D:\\code\\env\\anaconda\\envs\\mhy-yolo\\Lib\\site-packages\\ultralytics\\utils\\metrics.py:428: UserWarning: Glyph 36994 (\\N{CJK UNIFIED IDEOGRAPH-9082}) missing from current font.\n",
      "  fig.savefig(plot_fname, dpi=250)\n",
      "D:\\code\\env\\anaconda\\envs\\mhy-yolo\\Lib\\site-packages\\ultralytics\\utils\\metrics.py:428: UserWarning: Glyph 36869 (\\N{CJK UNIFIED IDEOGRAPH-9005}) missing from current font.\n",
      "  fig.savefig(plot_fname, dpi=250)\n",
      "D:\\code\\env\\anaconda\\envs\\mhy-yolo\\Lib\\site-packages\\ultralytics\\utils\\metrics.py:428: UserWarning: Glyph 20405 (\\N{CJK UNIFIED IDEOGRAPH-4FB5}) missing from current font.\n",
      "  fig.savefig(plot_fname, dpi=250)\n",
      "D:\\code\\env\\anaconda\\envs\\mhy-yolo\\Lib\\site-packages\\ultralytics\\utils\\metrics.py:428: UserWarning: Glyph 34432 (\\N{CJK UNIFIED IDEOGRAPH-8680}) missing from current font.\n",
      "  fig.savefig(plot_fname, dpi=250)\n",
      "D:\\code\\env\\anaconda\\envs\\mhy-yolo\\Lib\\site-packages\\ultralytics\\utils\\metrics.py:428: UserWarning: Glyph 20020 (\\N{CJK UNIFIED IDEOGRAPH-4E34}) missing from current font.\n",
      "  fig.savefig(plot_fname, dpi=250)\n",
      "D:\\code\\env\\anaconda\\envs\\mhy-yolo\\Lib\\site-packages\\ultralytics\\utils\\metrics.py:428: UserWarning: Glyph 25293 (\\N{CJK UNIFIED IDEOGRAPH-62CD}) missing from current font.\n",
      "  fig.savefig(plot_fname, dpi=250)\n",
      "D:\\code\\env\\anaconda\\envs\\mhy-yolo\\Lib\\site-packages\\ultralytics\\utils\\metrics.py:428: UserWarning: Glyph 26723 (\\N{CJK UNIFIED IDEOGRAPH-6863}) missing from current font.\n",
      "  fig.savefig(plot_fname, dpi=250)\n",
      "D:\\code\\env\\anaconda\\envs\\mhy-yolo\\Lib\\site-packages\\ultralytics\\utils\\metrics.py:428: UserWarning: Glyph 20551 (\\N{CJK UNIFIED IDEOGRAPH-5047}) missing from current font.\n",
      "  fig.savefig(plot_fname, dpi=250)\n",
      "D:\\code\\env\\anaconda\\envs\\mhy-yolo\\Lib\\site-packages\\ultralytics\\utils\\metrics.py:428: UserWarning: Glyph 38754 (\\N{CJK UNIFIED IDEOGRAPH-9762}) missing from current font.\n",
      "  fig.savefig(plot_fname, dpi=250)\n",
      "D:\\code\\env\\anaconda\\envs\\mhy-yolo\\Lib\\site-packages\\ultralytics\\utils\\metrics.py:428: UserWarning: Glyph 30740 (\\N{CJK UNIFIED IDEOGRAPH-7814}) missing from current font.\n",
      "  fig.savefig(plot_fname, dpi=250)\n",
      "D:\\code\\env\\anaconda\\envs\\mhy-yolo\\Lib\\site-packages\\ultralytics\\utils\\metrics.py:428: UserWarning: Glyph 31350 (\\N{CJK UNIFIED IDEOGRAPH-7A76}) missing from current font.\n",
      "  fig.savefig(plot_fname, dpi=250)\n",
      "D:\\code\\env\\anaconda\\envs\\mhy-yolo\\Lib\\site-packages\\ultralytics\\utils\\metrics.py:428: UserWarning: Glyph 32773 (\\N{CJK UNIFIED IDEOGRAPH-8005}) missing from current font.\n",
      "  fig.savefig(plot_fname, dpi=250)\n",
      "D:\\code\\env\\anaconda\\envs\\mhy-yolo\\Lib\\site-packages\\ultralytics\\utils\\metrics.py:428: UserWarning: Glyph 40483 (\\N{CJK UNIFIED IDEOGRAPH-9E23}) missing from current font.\n",
      "  fig.savefig(plot_fname, dpi=250)\n",
      "D:\\code\\env\\anaconda\\envs\\mhy-yolo\\Lib\\site-packages\\ultralytics\\utils\\metrics.py:428: UserWarning: Glyph 24509 (\\N{CJK UNIFIED IDEOGRAPH-5FBD}) missing from current font.\n",
      "  fig.savefig(plot_fname, dpi=250)\n",
      "D:\\code\\env\\anaconda\\envs\\mhy-yolo\\Lib\\site-packages\\ultralytics\\utils\\metrics.py:428: UserWarning: Glyph 20652 (\\N{CJK UNIFIED IDEOGRAPH-50AC}) missing from current font.\n",
      "  fig.savefig(plot_fname, dpi=250)\n",
      "D:\\code\\env\\anaconda\\envs\\mhy-yolo\\Lib\\site-packages\\ultralytics\\utils\\metrics.py:428: UserWarning: Glyph 21270 (\\N{CJK UNIFIED IDEOGRAPH-5316}) missing from current font.\n",
      "  fig.savefig(plot_fname, dpi=250)\n",
      "D:\\code\\env\\anaconda\\envs\\mhy-yolo\\Lib\\site-packages\\ultralytics\\utils\\metrics.py:428: UserWarning: Glyph 21058 (\\N{CJK UNIFIED IDEOGRAPH-5242}) missing from current font.\n",
      "  fig.savefig(plot_fname, dpi=250)\n",
      "D:\\code\\env\\anaconda\\envs\\mhy-yolo\\Lib\\site-packages\\ultralytics\\utils\\metrics.py:428: UserWarning: Glyph 35843 (\\N{CJK UNIFIED IDEOGRAPH-8C03}) missing from current font.\n",
      "  fig.savefig(plot_fname, dpi=250)\n",
      "D:\\code\\env\\anaconda\\envs\\mhy-yolo\\Lib\\site-packages\\ultralytics\\utils\\metrics.py:428: UserWarning: Glyph 26597 (\\N{CJK UNIFIED IDEOGRAPH-67E5}) missing from current font.\n",
      "  fig.savefig(plot_fname, dpi=250)\n",
      "D:\\code\\env\\anaconda\\envs\\mhy-yolo\\Lib\\site-packages\\ultralytics\\utils\\metrics.py:428: UserWarning: Glyph 21592 (\\N{CJK UNIFIED IDEOGRAPH-5458}) missing from current font.\n",
      "  fig.savefig(plot_fname, dpi=250)\n",
      "D:\\code\\env\\anaconda\\envs\\mhy-yolo\\Lib\\site-packages\\ultralytics\\utils\\metrics.py:428: UserWarning: Glyph 30423 (\\N{CJK UNIFIED IDEOGRAPH-76D7}) missing from current font.\n",
      "  fig.savefig(plot_fname, dpi=250)\n",
      "D:\\code\\env\\anaconda\\envs\\mhy-yolo\\Lib\\site-packages\\ultralytics\\utils\\metrics.py:428: UserWarning: Glyph 27934 (\\N{CJK UNIFIED IDEOGRAPH-6D1E}) missing from current font.\n",
      "  fig.savefig(plot_fname, dpi=250)\n",
      "D:\\code\\env\\anaconda\\envs\\mhy-yolo\\Lib\\site-packages\\ultralytics\\utils\\metrics.py:428: UserWarning: Glyph 23458 (\\N{CJK UNIFIED IDEOGRAPH-5BA2}) missing from current font.\n",
      "  fig.savefig(plot_fname, dpi=250)\n",
      "D:\\code\\env\\anaconda\\envs\\mhy-yolo\\Lib\\site-packages\\ultralytics\\utils\\metrics.py:428: UserWarning: Glyph 37030 (\\N{CJK UNIFIED IDEOGRAPH-90A6}) missing from current font.\n",
      "  fig.savefig(plot_fname, dpi=250)\n",
      "D:\\code\\env\\anaconda\\envs\\mhy-yolo\\Lib\\site-packages\\ultralytics\\utils\\metrics.py:428: UserWarning: Glyph 24067 (\\N{CJK UNIFIED IDEOGRAPH-5E03}) missing from current font.\n",
      "  fig.savefig(plot_fname, dpi=250)\n",
      "D:\\code\\env\\anaconda\\envs\\mhy-yolo\\Lib\\site-packages\\ultralytics\\utils\\metrics.py:428: UserWarning: Glyph 21830 (\\N{CJK UNIFIED IDEOGRAPH-5546}) missing from current font.\n",
      "  fig.savefig(plot_fname, dpi=250)\n",
      "D:\\code\\env\\anaconda\\envs\\mhy-yolo\\Lib\\site-packages\\ultralytics\\utils\\metrics.py:428: UserWarning: Glyph 20154 (\\N{CJK UNIFIED IDEOGRAPH-4EBA}) missing from current font.\n",
      "  fig.savefig(plot_fname, dpi=250)\n",
      "D:\\code\\env\\anaconda\\envs\\mhy-yolo\\Lib\\site-packages\\ultralytics\\utils\\metrics.py:428: UserWarning: Glyph 38376 (\\N{CJK UNIFIED IDEOGRAPH-95E8}) missing from current font.\n",
      "  fig.savefig(plot_fname, dpi=250)\n",
      "D:\\code\\env\\anaconda\\envs\\mhy-yolo\\Lib\\site-packages\\ultralytics\\utils\\metrics.py:428: UserWarning: Glyph 25161 (\\N{CJK UNIFIED IDEOGRAPH-6249}) missing from current font.\n",
      "  fig.savefig(plot_fname, dpi=250)\n",
      "D:\\code\\env\\anaconda\\envs\\mhy-yolo\\Lib\\site-packages\\ultralytics\\utils\\metrics.py:428: UserWarning: Glyph 31105 (\\N{CJK UNIFIED IDEOGRAPH-7981}) missing from current font.\n",
      "  fig.savefig(plot_fname, dpi=250)\n",
      "D:\\code\\env\\anaconda\\envs\\mhy-yolo\\Lib\\site-packages\\ultralytics\\utils\\metrics.py:428: UserWarning: Glyph 38381 (\\N{CJK UNIFIED IDEOGRAPH-95ED}) missing from current font.\n",
      "  fig.savefig(plot_fname, dpi=250)\n",
      "D:\\code\\env\\anaconda\\envs\\mhy-yolo\\Lib\\site-packages\\ultralytics\\utils\\metrics.py:428: UserWarning: Glyph 36130 (\\N{CJK UNIFIED IDEOGRAPH-8D22}) missing from current font.\n",
      "  fig.savefig(plot_fname, dpi=250)\n",
      "D:\\code\\env\\anaconda\\envs\\mhy-yolo\\Lib\\site-packages\\ultralytics\\utils\\metrics.py:428: UserWarning: Glyph 23500 (\\N{CJK UNIFIED IDEOGRAPH-5BCC}) missing from current font.\n",
      "  fig.savefig(plot_fname, dpi=250)\n",
      "D:\\code\\env\\anaconda\\envs\\mhy-yolo\\Lib\\site-packages\\ultralytics\\utils\\metrics.py:428: UserWarning: Glyph 39037 (\\N{CJK UNIFIED IDEOGRAPH-987D}) missing from current font.\n",
      "  fig.savefig(plot_fname, dpi=250)\n",
      "D:\\code\\env\\anaconda\\envs\\mhy-yolo\\Lib\\site-packages\\ultralytics\\utils\\metrics.py:428: UserWarning: Glyph 22266 (\\N{CJK UNIFIED IDEOGRAPH-56FA}) missing from current font.\n",
      "  fig.savefig(plot_fname, dpi=250)\n",
      "D:\\code\\env\\anaconda\\envs\\mhy-yolo\\Lib\\site-packages\\ultralytics\\utils\\metrics.py:428: UserWarning: Glyph 30340 (\\N{CJK UNIFIED IDEOGRAPH-7684}) missing from current font.\n",
      "  fig.savefig(plot_fname, dpi=250)\n",
      "D:\\code\\env\\anaconda\\envs\\mhy-yolo\\Lib\\site-packages\\ultralytics\\utils\\metrics.py:428: UserWarning: Glyph 38556 (\\N{CJK UNIFIED IDEOGRAPH-969C}) missing from current font.\n",
      "  fig.savefig(plot_fname, dpi=250)\n",
      "D:\\code\\env\\anaconda\\envs\\mhy-yolo\\Lib\\site-packages\\ultralytics\\utils\\metrics.py:428: UserWarning: Glyph 30861 (\\N{CJK UNIFIED IDEOGRAPH-788D}) missing from current font.\n",
      "  fig.savefig(plot_fname, dpi=250)\n",
      "D:\\code\\env\\anaconda\\envs\\mhy-yolo\\Lib\\site-packages\\ultralytics\\utils\\metrics.py:428: UserWarning: Glyph 29289 (\\N{CJK UNIFIED IDEOGRAPH-7269}) missing from current font.\n",
      "  fig.savefig(plot_fname, dpi=250)\n",
      "D:\\code\\env\\anaconda\\envs\\mhy-yolo\\Lib\\site-packages\\ultralytics\\utils\\metrics.py:428: UserWarning: Glyph 27531 (\\N{CJK UNIFIED IDEOGRAPH-6B8B}) missing from current font.\n",
      "  fig.savefig(plot_fname, dpi=250)\n",
      "D:\\code\\env\\anaconda\\envs\\mhy-yolo\\Lib\\site-packages\\ultralytics\\utils\\metrics.py:428: UserWarning: Glyph 30772 (\\N{CJK UNIFIED IDEOGRAPH-7834}) missing from current font.\n",
      "  fig.savefig(plot_fname, dpi=250)\n",
      "D:\\code\\env\\anaconda\\envs\\mhy-yolo\\Lib\\site-packages\\ultralytics\\utils\\metrics.py:428: UserWarning: Glyph 21452 (\\N{CJK UNIFIED IDEOGRAPH-53CC}) missing from current font.\n",
      "  fig.savefig(plot_fname, dpi=250)\n",
      "D:\\code\\env\\anaconda\\envs\\mhy-yolo\\Lib\\site-packages\\ultralytics\\utils\\metrics.py:428: UserWarning: Glyph 37325 (\\N{CJK UNIFIED IDEOGRAPH-91CD}) missing from current font.\n",
      "  fig.savefig(plot_fname, dpi=250)\n",
      "D:\\code\\env\\anaconda\\envs\\mhy-yolo\\Lib\\site-packages\\ultralytics\\utils\\metrics.py:428: UserWarning: Glyph 21892 (\\N{CJK UNIFIED IDEOGRAPH-5584}) missing from current font.\n",
      "  fig.savefig(plot_fname, dpi=250)\n",
      "D:\\code\\env\\anaconda\\envs\\mhy-yolo\\Lib\\site-packages\\ultralytics\\utils\\metrics.py:428: UserWarning: Glyph 25112 (\\N{CJK UNIFIED IDEOGRAPH-6218}) missing from current font.\n",
      "  fig.savefig(plot_fname, dpi=250)\n",
      "D:\\code\\env\\anaconda\\envs\\mhy-yolo\\Lib\\site-packages\\ultralytics\\utils\\metrics.py:428: UserWarning: Glyph 24320 (\\N{CJK UNIFIED IDEOGRAPH-5F00}) missing from current font.\n",
      "  fig.savefig(plot_fname, dpi=250)\n",
      "D:\\code\\env\\anaconda\\envs\\mhy-yolo\\Lib\\site-packages\\ultralytics\\utils\\metrics.py:428: UserWarning: Glyph 21551 (\\N{CJK UNIFIED IDEOGRAPH-542F}) missing from current font.\n",
      "  fig.savefig(plot_fname, dpi=250)\n",
      "D:\\code\\env\\anaconda\\envs\\mhy-yolo\\Lib\\site-packages\\ultralytics\\utils\\metrics.py:428: UserWarning: Glyph 23433 (\\N{CJK UNIFIED IDEOGRAPH-5B89}) missing from current font.\n",
      "  fig.savefig(plot_fname, dpi=250)\n",
      "D:\\code\\env\\anaconda\\envs\\mhy-yolo\\Lib\\site-packages\\ultralytics\\utils\\metrics.py:428: UserWarning: Glyph 20840 (\\N{CJK UNIFIED IDEOGRAPH-5168}) missing from current font.\n",
      "  fig.savefig(plot_fname, dpi=250)\n",
      "D:\\code\\env\\anaconda\\envs\\mhy-yolo\\Lib\\site-packages\\ultralytics\\utils\\metrics.py:428: UserWarning: Glyph 21306 (\\N{CJK UNIFIED IDEOGRAPH-533A}) missing from current font.\n",
      "  fig.savefig(plot_fname, dpi=250)\n",
      "D:\\code\\env\\anaconda\\envs\\mhy-yolo\\Lib\\site-packages\\ultralytics\\utils\\metrics.py:428: UserWarning: Glyph 20241 (\\N{CJK UNIFIED IDEOGRAPH-4F11}) missing from current font.\n",
      "  fig.savefig(plot_fname, dpi=250)\n",
      "D:\\code\\env\\anaconda\\envs\\mhy-yolo\\Lib\\site-packages\\ultralytics\\utils\\metrics.py:428: UserWarning: Glyph 24687 (\\N{CJK UNIFIED IDEOGRAPH-606F}) missing from current font.\n",
      "  fig.savefig(plot_fname, dpi=250)\n",
      "D:\\code\\env\\anaconda\\envs\\mhy-yolo\\Lib\\site-packages\\ultralytics\\utils\\metrics.py:428: UserWarning: Glyph 22833 (\\N{CJK UNIFIED IDEOGRAPH-5931}) missing from current font.\n",
      "  fig.savefig(plot_fname, dpi=250)\n",
      "D:\\code\\env\\anaconda\\envs\\mhy-yolo\\Lib\\site-packages\\ultralytics\\utils\\metrics.py:428: UserWarning: Glyph 32852 (\\N{CJK UNIFIED IDEOGRAPH-8054}) missing from current font.\n",
      "  fig.savefig(plot_fname, dpi=250)\n",
      "D:\\code\\env\\anaconda\\envs\\mhy-yolo\\Lib\\site-packages\\ultralytics\\utils\\metrics.py:428: UserWarning: Glyph 20928 (\\N{CJK UNIFIED IDEOGRAPH-51C0}) missing from current font.\n",
      "  fig.savefig(plot_fname, dpi=250)\n",
      "D:\\code\\env\\anaconda\\envs\\mhy-yolo\\Lib\\site-packages\\ultralytics\\utils\\metrics.py:428: UserWarning: Glyph 23460 (\\N{CJK UNIFIED IDEOGRAPH-5BA4}) missing from current font.\n",
      "  fig.savefig(plot_fname, dpi=250)\n",
      "D:\\code\\env\\anaconda\\envs\\mhy-yolo\\Lib\\site-packages\\ultralytics\\utils\\metrics.py:428: UserWarning: Glyph 20256 (\\N{CJK UNIFIED IDEOGRAPH-4F20}) missing from current font.\n",
      "  fig.savefig(plot_fname, dpi=250)\n",
      "D:\\code\\env\\anaconda\\envs\\mhy-yolo\\Lib\\site-packages\\ultralytics\\utils\\metrics.py:428: UserWarning: Glyph 36865 (\\N{CJK UNIFIED IDEOGRAPH-9001}) missing from current font.\n",
      "  fig.savefig(plot_fname, dpi=250)\n",
      "D:\\code\\env\\anaconda\\envs\\mhy-yolo\\Lib\\site-packages\\ultralytics\\utils\\metrics.py:428: UserWarning: Glyph 30495 (\\N{CJK UNIFIED IDEOGRAPH-771F}) missing from current font.\n",
      "  fig.savefig(plot_fname, dpi=250)\n",
      "D:\\code\\env\\anaconda\\envs\\mhy-yolo\\Lib\\site-packages\\ultralytics\\utils\\metrics.py:428: UserWarning: Glyph 30456 (\\N{CJK UNIFIED IDEOGRAPH-76F8}) missing from current font.\n",
      "  fig.savefig(plot_fname, dpi=250)\n",
      "D:\\code\\env\\anaconda\\envs\\mhy-yolo\\Lib\\site-packages\\ultralytics\\utils\\metrics.py:428: UserWarning: Glyph 36890 (\\N{CJK UNIFIED IDEOGRAPH-901A}) missing from current font.\n",
      "  fig.savefig(plot_fname, dpi=250)\n",
      "D:\\code\\env\\anaconda\\envs\\mhy-yolo\\Lib\\site-packages\\ultralytics\\utils\\metrics.py:428: UserWarning: Glyph 36947 (\\N{CJK UNIFIED IDEOGRAPH-9053}) missing from current font.\n",
      "  fig.savefig(plot_fname, dpi=250)\n",
      "D:\\code\\env\\anaconda\\envs\\mhy-yolo\\Lib\\site-packages\\ultralytics\\utils\\metrics.py:428: UserWarning: Glyph 24040 (\\N{CJK UNIFIED IDEOGRAPH-5DE8}) missing from current font.\n",
      "  fig.savefig(plot_fname, dpi=250)\n",
      "D:\\code\\env\\anaconda\\envs\\mhy-yolo\\Lib\\site-packages\\ultralytics\\utils\\metrics.py:428: UserWarning: Glyph 20861 (\\N{CJK UNIFIED IDEOGRAPH-517D}) missing from current font.\n",
      "  fig.savefig(plot_fname, dpi=250)\n",
      "D:\\code\\env\\anaconda\\envs\\mhy-yolo\\Lib\\site-packages\\ultralytics\\utils\\metrics.py:428: UserWarning: Glyph 22855 (\\N{CJK UNIFIED IDEOGRAPH-5947}) missing from current font.\n",
      "  fig.savefig(plot_fname, dpi=250)\n",
      "D:\\code\\env\\anaconda\\envs\\mhy-yolo\\Lib\\site-packages\\ultralytics\\utils\\metrics.py:428: UserWarning: Glyph 36135 (\\N{CJK UNIFIED IDEOGRAPH-8D27}) missing from current font.\n",
      "  fig.savefig(plot_fname, dpi=250)\n",
      "D:\\code\\env\\anaconda\\envs\\mhy-yolo\\Lib\\site-packages\\ultralytics\\utils\\metrics.py:428: UserWarning: Glyph 30450 (\\N{CJK UNIFIED IDEOGRAPH-76F2}) missing from current font.\n",
      "  fig.savefig(plot_fname, dpi=250)\n",
      "D:\\code\\env\\anaconda\\envs\\mhy-yolo\\Lib\\site-packages\\ultralytics\\utils\\metrics.py:428: UserWarning: Glyph 30418 (\\N{CJK UNIFIED IDEOGRAPH-76D2}) missing from current font.\n",
      "  fig.savefig(plot_fname, dpi=250)\n",
      "D:\\code\\env\\anaconda\\envs\\mhy-yolo\\Lib\\site-packages\\ultralytics\\utils\\metrics.py:428: UserWarning: Glyph 22495 (\\N{CJK UNIFIED IDEOGRAPH-57DF}) missing from current font.\n",
      "  fig.savefig(plot_fname, dpi=250)\n",
      "D:\\code\\env\\anaconda\\envs\\mhy-yolo\\Lib\\site-packages\\ultralytics\\utils\\metrics.py:428: UserWarning: Glyph 19981 (\\N{CJK UNIFIED IDEOGRAPH-4E0D}) missing from current font.\n",
      "  fig.savefig(plot_fname, dpi=250)\n",
      "D:\\code\\env\\anaconda\\envs\\mhy-yolo\\Lib\\site-packages\\ultralytics\\utils\\metrics.py:428: UserWarning: Glyph 23452 (\\N{CJK UNIFIED IDEOGRAPH-5B9C}) missing from current font.\n",
      "  fig.savefig(plot_fname, dpi=250)\n",
      "D:\\code\\env\\anaconda\\envs\\mhy-yolo\\Lib\\site-packages\\ultralytics\\utils\\metrics.py:428: UserWarning: Glyph 20037 (\\N{CJK UNIFIED IDEOGRAPH-4E45}) missing from current font.\n",
      "  fig.savefig(plot_fname, dpi=250)\n",
      "D:\\code\\env\\anaconda\\envs\\mhy-yolo\\Lib\\site-packages\\ultralytics\\utils\\metrics.py:428: UserWarning: Glyph 30041 (\\N{CJK UNIFIED IDEOGRAPH-7559}) missing from current font.\n",
      "  fig.savefig(plot_fname, dpi=250)\n",
      "D:\\code\\env\\anaconda\\envs\\mhy-yolo\\Lib\\site-packages\\ultralytics\\utils\\metrics.py:428: UserWarning: Glyph 24618 (\\N{CJK UNIFIED IDEOGRAPH-602A}) missing from current font.\n",
      "  fig.savefig(plot_fname, dpi=250)\n",
      "D:\\code\\env\\anaconda\\envs\\mhy-yolo\\Lib\\site-packages\\ultralytics\\utils\\metrics.py:428: UserWarning: Glyph 20390 (\\N{CJK UNIFIED IDEOGRAPH-4FA6}) missing from current font.\n",
      "  fig.savefig(plot_fname, dpi=250)\n",
      "D:\\code\\env\\anaconda\\envs\\mhy-yolo\\Lib\\site-packages\\ultralytics\\utils\\metrics.py:428: UserWarning: Glyph 25506 (\\N{CJK UNIFIED IDEOGRAPH-63A2}) missing from current font.\n",
      "  fig.savefig(plot_fname, dpi=250)\n",
      "D:\\code\\env\\anaconda\\envs\\mhy-yolo\\Lib\\site-packages\\ultralytics\\utils\\metrics.py:428: UserWarning: Glyph 27714 (\\N{CJK UNIFIED IDEOGRAPH-6C42}) missing from current font.\n",
      "  fig.savefig(plot_fname, dpi=250)\n",
      "D:\\code\\env\\anaconda\\envs\\mhy-yolo\\Lib\\site-packages\\ultralytics\\utils\\metrics.py:428: UserWarning: Glyph 25937 (\\N{CJK UNIFIED IDEOGRAPH-6551}) missing from current font.\n",
      "  fig.savefig(plot_fname, dpi=250)\n",
      "D:\\code\\env\\anaconda\\envs\\mhy-yolo\\Lib\\site-packages\\ultralytics\\utils\\metrics.py:428: UserWarning: Glyph 20449 (\\N{CJK UNIFIED IDEOGRAPH-4FE1}) missing from current font.\n",
      "  fig.savefig(plot_fname, dpi=250)\n",
      "D:\\code\\env\\anaconda\\envs\\mhy-yolo\\Lib\\site-packages\\ultralytics\\utils\\metrics.py:428: UserWarning: Glyph 21495 (\\N{CJK UNIFIED IDEOGRAPH-53F7}) missing from current font.\n",
      "  fig.savefig(plot_fname, dpi=250)\n",
      "D:\\code\\env\\anaconda\\envs\\mhy-yolo\\Lib\\site-packages\\ultralytics\\utils\\metrics.py:428: UserWarning: Glyph 21327 (\\N{CJK UNIFIED IDEOGRAPH-534F}) missing from current font.\n",
      "  fig.savefig(plot_fname, dpi=250)\n",
      "D:\\code\\env\\anaconda\\envs\\mhy-yolo\\Lib\\site-packages\\ultralytics\\utils\\metrics.py:428: UserWarning: Glyph 20250 (\\N{CJK UNIFIED IDEOGRAPH-4F1A}) missing from current font.\n",
      "  fig.savefig(plot_fname, dpi=250)\n",
      "D:\\code\\env\\anaconda\\envs\\mhy-yolo\\Lib\\site-packages\\ultralytics\\utils\\metrics.py:428: UserWarning: Glyph 31449 (\\N{CJK UNIFIED IDEOGRAPH-7AD9}) missing from current font.\n",
      "  fig.savefig(plot_fname, dpi=250)\n",
      "D:\\code\\env\\anaconda\\envs\\mhy-yolo\\Lib\\site-packages\\ultralytics\\utils\\metrics.py:428: UserWarning: Glyph 31934 (\\N{CJK UNIFIED IDEOGRAPH-7CBE}) missing from current font.\n",
      "  fig.savefig(plot_fname, dpi=250)\n",
      "D:\\code\\env\\anaconda\\envs\\mhy-yolo\\Lib\\site-packages\\ultralytics\\utils\\metrics.py:428: UserWarning: Glyph 38160 (\\N{CJK UNIFIED IDEOGRAPH-9510}) missing from current font.\n",
      "  fig.savefig(plot_fname, dpi=250)\n",
      "D:\\code\\env\\anaconda\\envs\\mhy-yolo\\Lib\\site-packages\\ultralytics\\utils\\metrics.py:428: UserWarning: Glyph 21161 (\\N{CJK UNIFIED IDEOGRAPH-52A9}) missing from current font.\n",
      "  fig.savefig(plot_fname, dpi=250)\n",
      "D:\\code\\env\\anaconda\\envs\\mhy-yolo\\Lib\\site-packages\\ultralytics\\utils\\metrics.py:428: UserWarning: Glyph 25163 (\\N{CJK UNIFIED IDEOGRAPH-624B}) missing from current font.\n",
      "  fig.savefig(plot_fname, dpi=250)\n",
      "D:\\code\\env\\anaconda\\envs\\mhy-yolo\\Lib\\site-packages\\ultralytics\\utils\\metrics.py:428: UserWarning: Glyph 27835 (\\N{CJK UNIFIED IDEOGRAPH-6CBB}) missing from current font.\n",
      "  fig.savefig(plot_fname, dpi=250)\n",
      "D:\\code\\env\\anaconda\\envs\\mhy-yolo\\Lib\\site-packages\\ultralytics\\utils\\metrics.py:428: UserWarning: Glyph 23448 (\\N{CJK UNIFIED IDEOGRAPH-5B98}) missing from current font.\n",
      "  fig.savefig(plot_fname, dpi=250)\n",
      "D:\\code\\env\\anaconda\\envs\\mhy-yolo\\Lib\\site-packages\\ultralytics\\utils\\metrics.py:428: UserWarning: Glyph 23567 (\\N{CJK UNIFIED IDEOGRAPH-5C0F}) missing from current font.\n",
      "  fig.savefig(plot_fname, dpi=250)\n",
      "D:\\code\\env\\anaconda\\envs\\mhy-yolo\\Lib\\site-packages\\ultralytics\\utils\\metrics.py:428: UserWarning: Glyph 38431 (\\N{CJK UNIFIED IDEOGRAPH-961F}) missing from current font.\n",
      "  fig.savefig(plot_fname, dpi=250)\n",
      "D:\\code\\env\\anaconda\\envs\\mhy-yolo\\Lib\\site-packages\\ultralytics\\utils\\metrics.py:428: UserWarning: Glyph 26377 (\\N{CJK UNIFIED IDEOGRAPH-6709}) missing from current font.\n",
      "  fig.savefig(plot_fname, dpi=250)\n",
      "D:\\code\\env\\anaconda\\envs\\mhy-yolo\\Lib\\site-packages\\ultralytics\\utils\\metrics.py:428: UserWarning: Glyph 20607 (\\N{CJK UNIFIED IDEOGRAPH-507F}) missing from current font.\n",
      "  fig.savefig(plot_fname, dpi=250)\n",
      "D:\\code\\env\\anaconda\\envs\\mhy-yolo\\Lib\\site-packages\\ultralytics\\utils\\metrics.py:428: UserWarning: Glyph 39301 (\\N{CJK UNIFIED IDEOGRAPH-9985}) missing from current font.\n",
      "  fig.savefig(plot_fname, dpi=250)\n",
      "D:\\code\\env\\anaconda\\envs\\mhy-yolo\\Lib\\site-packages\\ultralytics\\utils\\metrics.py:428: UserWarning: Glyph 39292 (\\N{CJK UNIFIED IDEOGRAPH-997C}) missing from current font.\n",
      "  fig.savefig(plot_fname, dpi=250)\n",
      "D:\\code\\env\\anaconda\\envs\\mhy-yolo\\Lib\\site-packages\\ultralytics\\utils\\metrics.py:428: UserWarning: Glyph 22825 (\\N{CJK UNIFIED IDEOGRAPH-5929}) missing from current font.\n",
      "  fig.savefig(plot_fname, dpi=250)\n",
      "D:\\code\\env\\anaconda\\envs\\mhy-yolo\\Lib\\site-packages\\ultralytics\\utils\\metrics.py:428: UserWarning: Glyph 38477 (\\N{CJK UNIFIED IDEOGRAPH-964D}) missing from current font.\n",
      "  fig.savefig(plot_fname, dpi=250)\n",
      "D:\\code\\env\\anaconda\\envs\\mhy-yolo\\Lib\\site-packages\\ultralytics\\utils\\metrics.py:428: UserWarning: Glyph 24576 (\\N{CJK UNIFIED IDEOGRAPH-6000}) missing from current font.\n",
      "  fig.savefig(plot_fname, dpi=250)\n",
      "D:\\code\\env\\anaconda\\envs\\mhy-yolo\\Lib\\site-packages\\ultralytics\\utils\\metrics.py:428: UserWarning: Glyph 26031 (\\N{CJK UNIFIED IDEOGRAPH-65AF}) missing from current font.\n",
      "  fig.savefig(plot_fname, dpi=250)\n",
      "D:\\code\\env\\anaconda\\envs\\mhy-yolo\\Lib\\site-packages\\ultralytics\\utils\\metrics.py:428: UserWarning: Glyph 22612 (\\N{CJK UNIFIED IDEOGRAPH-5854}) missing from current font.\n",
      "  fig.savefig(plot_fname, dpi=250)\n",
      "D:\\code\\env\\anaconda\\envs\\mhy-yolo\\Lib\\site-packages\\ultralytics\\utils\\metrics.py:428: UserWarning: Glyph 23398 (\\N{CJK UNIFIED IDEOGRAPH-5B66}) missing from current font.\n",
      "  fig.savefig(plot_fname, dpi=250)\n",
      "D:\\code\\env\\anaconda\\envs\\mhy-yolo\\Lib\\site-packages\\ultralytics\\utils\\metrics.py:428: UserWarning: Glyph 27963 (\\N{CJK UNIFIED IDEOGRAPH-6D3B}) missing from current font.\n",
      "  fig.savefig(plot_fname, dpi=250)\n",
      "D:\\code\\env\\anaconda\\envs\\mhy-yolo\\Lib\\site-packages\\ultralytics\\utils\\metrics.py:428: UserWarning: Glyph 32467 (\\N{CJK UNIFIED IDEOGRAPH-7ED3}) missing from current font.\n",
      "  fig.savefig(plot_fname, dpi=250)\n",
      "D:\\code\\env\\anaconda\\envs\\mhy-yolo\\Lib\\site-packages\\ultralytics\\utils\\metrics.py:428: UserWarning: Glyph 26230 (\\N{CJK UNIFIED IDEOGRAPH-6676}) missing from current font.\n",
      "  fig.savefig(plot_fname, dpi=250)\n",
      "D:\\code\\env\\anaconda\\envs\\mhy-yolo\\Lib\\site-packages\\ultralytics\\utils\\metrics.py:428: UserWarning: Glyph 23432 (\\N{CJK UNIFIED IDEOGRAPH-5B88}) missing from current font.\n",
      "  fig.savefig(plot_fname, dpi=250)\n",
      "D:\\code\\env\\anaconda\\envs\\mhy-yolo\\Lib\\site-packages\\ultralytics\\utils\\metrics.py:428: UserWarning: Glyph 35010 (\\N{CJK UNIFIED IDEOGRAPH-88C2}) missing from current font.\n",
      "  fig.savefig(plot_fname, dpi=250)\n",
      "D:\\code\\env\\anaconda\\envs\\mhy-yolo\\Lib\\site-packages\\ultralytics\\utils\\metrics.py:428: UserWarning: Glyph 38553 (\\N{CJK UNIFIED IDEOGRAPH-9699}) missing from current font.\n",
      "  fig.savefig(plot_fname, dpi=250)\n",
      "D:\\code\\env\\anaconda\\envs\\mhy-yolo\\Lib\\site-packages\\ultralytics\\utils\\metrics.py:428: UserWarning: Glyph 32039 (\\N{CJK UNIFIED IDEOGRAPH-7D27}) missing from current font.\n",
      "  fig.savefig(plot_fname, dpi=250)\n",
      "D:\\code\\env\\anaconda\\envs\\mhy-yolo\\Lib\\site-packages\\ultralytics\\utils\\metrics.py:428: UserWarning: Glyph 24613 (\\N{CJK UNIFIED IDEOGRAPH-6025}) missing from current font.\n",
      "  fig.savefig(plot_fname, dpi=250)\n",
      "D:\\code\\env\\anaconda\\envs\\mhy-yolo\\Lib\\site-packages\\ultralytics\\utils\\metrics.py:428: UserWarning: Glyph 25764 (\\N{CJK UNIFIED IDEOGRAPH-64A4}) missing from current font.\n",
      "  fig.savefig(plot_fname, dpi=250)\n",
      "D:\\code\\env\\anaconda\\envs\\mhy-yolo\\Lib\\site-packages\\ultralytics\\utils\\metrics.py:428: UserWarning: Glyph 31163 (\\N{CJK UNIFIED IDEOGRAPH-79BB}) missing from current font.\n",
      "  fig.savefig(plot_fname, dpi=250)\n",
      "D:\\code\\env\\anaconda\\envs\\mhy-yolo\\Lib\\site-packages\\ultralytics\\utils\\metrics.py:428: UserWarning: Glyph 38450 (\\N{CJK UNIFIED IDEOGRAPH-9632}) missing from current font.\n",
      "  fig.savefig(plot_fname, dpi=250)\n",
      "D:\\code\\env\\anaconda\\envs\\mhy-yolo\\Lib\\site-packages\\ultralytics\\utils\\metrics.py:428: UserWarning: Glyph 21355 (\\N{CJK UNIFIED IDEOGRAPH-536B}) missing from current font.\n",
      "  fig.savefig(plot_fname, dpi=250)\n",
      "D:\\code\\env\\anaconda\\envs\\mhy-yolo\\Lib\\site-packages\\ultralytics\\utils\\metrics.py:428: UserWarning: Glyph 20891 (\\N{CJK UNIFIED IDEOGRAPH-519B}) missing from current font.\n",
      "  fig.savefig(plot_fname, dpi=250)\n",
      "D:\\code\\env\\anaconda\\envs\\mhy-yolo\\Lib\\site-packages\\ultralytics\\utils\\metrics.py:428: UserWarning: Glyph 21518 (\\N{CJK UNIFIED IDEOGRAPH-540E}) missing from current font.\n",
      "  fig.savefig(plot_fname, dpi=250)\n",
      "D:\\code\\env\\anaconda\\envs\\mhy-yolo\\Lib\\site-packages\\ultralytics\\utils\\metrics.py:428: UserWarning: Glyph 21220 (\\N{CJK UNIFIED IDEOGRAPH-52E4}) missing from current font.\n",
      "  fig.savefig(plot_fname, dpi=250)\n",
      "D:\\code\\env\\anaconda\\envs\\mhy-yolo\\Lib\\site-packages\\ultralytics\\utils\\metrics.py:428: UserWarning: Glyph 29579 (\\N{CJK UNIFIED IDEOGRAPH-738B}) missing from current font.\n",
      "  fig.savefig(plot_fname, dpi=250)\n",
      "D:\\code\\env\\anaconda\\envs\\mhy-yolo\\Lib\\site-packages\\ultralytics\\utils\\metrics.py:428: UserWarning: Glyph 29260 (\\N{CJK UNIFIED IDEOGRAPH-724C}) missing from current font.\n",
      "  fig.savefig(plot_fname, dpi=250)\n",
      "D:\\code\\env\\anaconda\\envs\\mhy-yolo\\Lib\\site-packages\\ultralytics\\utils\\metrics.py:428: UserWarning: Glyph 26410 (\\N{CJK UNIFIED IDEOGRAPH-672A}) missing from current font.\n",
      "  fig.savefig(plot_fname, dpi=250)\n",
      "D:\\code\\env\\anaconda\\envs\\mhy-yolo\\Lib\\site-packages\\ultralytics\\utils\\metrics.py:428: UserWarning: Glyph 30693 (\\N{CJK UNIFIED IDEOGRAPH-77E5}) missing from current font.\n",
      "  fig.savefig(plot_fname, dpi=250)\n",
      "D:\\code\\env\\anaconda\\envs\\mhy-yolo\\Lib\\site-packages\\ultralytics\\utils\\metrics.py:428: UserWarning: Glyph 29983 (\\N{CJK UNIFIED IDEOGRAPH-751F}) missing from current font.\n",
      "  fig.savefig(plot_fname, dpi=250)\n",
      "D:\\code\\env\\anaconda\\envs\\mhy-yolo\\Lib\\site-packages\\ultralytics\\utils\\metrics.py:428: UserWarning: Glyph 38646 (\\N{CJK UNIFIED IDEOGRAPH-96F6}) missing from current font.\n",
      "  fig.savefig(plot_fname, dpi=250)\n",
      "D:\\code\\env\\anaconda\\envs\\mhy-yolo\\Lib\\site-packages\\ultralytics\\utils\\metrics.py:428: UserWarning: Glyph 38134 (\\N{CJK UNIFIED IDEOGRAPH-94F6}) missing from current font.\n",
      "  fig.savefig(plot_fname, dpi=250)\n",
      "D:\\code\\env\\anaconda\\envs\\mhy-yolo\\Lib\\site-packages\\ultralytics\\utils\\metrics.py:428: UserWarning: Glyph 34892 (\\N{CJK UNIFIED IDEOGRAPH-884C}) missing from current font.\n",
      "  fig.savefig(plot_fname, dpi=250)\n",
      "D:\\code\\env\\anaconda\\envs\\mhy-yolo\\Lib\\site-packages\\ultralytics\\utils\\metrics.py:428: UserWarning: Glyph 25928 (\\N{CJK UNIFIED IDEOGRAPH-6548}) missing from current font.\n",
      "  fig.savefig(plot_fname, dpi=250)\n",
      "D:\\code\\env\\anaconda\\envs\\mhy-yolo\\Lib\\site-packages\\ultralytics\\utils\\metrics.py:428: UserWarning: Glyph 33410 (\\N{CJK UNIFIED IDEOGRAPH-8282}) missing from current font.\n",
      "  fig.savefig(plot_fname, dpi=250)\n",
      "D:\\code\\env\\anaconda\\envs\\mhy-yolo\\Lib\\site-packages\\ultralytics\\utils\\metrics.py:428: UserWarning: Glyph 36164 (\\N{CJK UNIFIED IDEOGRAPH-8D44}) missing from current font.\n",
      "  fig.savefig(plot_fname, dpi=250)\n",
      "D:\\code\\env\\anaconda\\envs\\mhy-yolo\\Lib\\site-packages\\ultralytics\\utils\\metrics.py:428: UserWarning: Glyph 28304 (\\N{CJK UNIFIED IDEOGRAPH-6E90}) missing from current font.\n",
      "  fig.savefig(plot_fname, dpi=250)\n",
      "D:\\code\\env\\anaconda\\envs\\mhy-yolo\\Lib\\site-packages\\ultralytics\\utils\\metrics.py:428: UserWarning: Glyph 22238 (\\N{CJK UNIFIED IDEOGRAPH-56DE}) missing from current font.\n",
      "  fig.savefig(plot_fname, dpi=250)\n",
      "D:\\code\\env\\anaconda\\envs\\mhy-yolo\\Lib\\site-packages\\ultralytics\\utils\\metrics.py:428: UserWarning: Glyph 25910 (\\N{CJK UNIFIED IDEOGRAPH-6536}) missing from current font.\n",
      "  fig.savefig(plot_fname, dpi=250)\n",
      "D:\\code\\env\\anaconda\\envs\\mhy-yolo\\Lib\\site-packages\\ultralytics\\utils\\metrics.py:428: UserWarning: Glyph 32452 (\\N{CJK UNIFIED IDEOGRAPH-7EC4}) missing from current font.\n",
      "  fig.savefig(plot_fname, dpi=250)\n",
      "D:\\code\\env\\anaconda\\envs\\mhy-yolo\\Lib\\site-packages\\ultralytics\\utils\\metrics.py:428: UserWarning: Glyph 25353 (\\N{CJK UNIFIED IDEOGRAPH-6309}) missing from current font.\n",
      "  fig.savefig(plot_fname, dpi=250)\n",
      "D:\\code\\env\\anaconda\\envs\\mhy-yolo\\Lib\\site-packages\\ultralytics\\utils\\metrics.py:428: UserWarning: Glyph 21387 (\\N{CJK UNIFIED IDEOGRAPH-538B}) missing from current font.\n",
      "  fig.savefig(plot_fname, dpi=250)\n",
      "D:\\code\\env\\anaconda\\envs\\mhy-yolo\\Lib\\site-packages\\ultralytics\\utils\\metrics.py:428: UserWarning: Glyph 24335 (\\N{CJK UNIFIED IDEOGRAPH-5F0F}) missing from current font.\n",
      "  fig.savefig(plot_fname, dpi=250)\n",
      "D:\\code\\env\\anaconda\\envs\\mhy-yolo\\Lib\\site-packages\\ultralytics\\utils\\metrics.py:428: UserWarning: Glyph 20851 (\\N{CJK UNIFIED IDEOGRAPH-5173}) missing from current font.\n",
      "  fig.savefig(plot_fname, dpi=250)\n",
      "D:\\code\\env\\anaconda\\envs\\mhy-yolo\\Lib\\site-packages\\ultralytics\\utils\\metrics.py:428: UserWarning: Glyph 24377 (\\N{CJK UNIFIED IDEOGRAPH-5F39}) missing from current font.\n",
      "  fig.savefig(plot_fname, dpi=250)\n",
      "D:\\code\\env\\anaconda\\envs\\mhy-yolo\\Lib\\site-packages\\ultralytics\\utils\\metrics.py:428: UserWarning: Glyph 23556 (\\N{CJK UNIFIED IDEOGRAPH-5C04}) missing from current font.\n",
      "  fig.savefig(plot_fname, dpi=250)\n",
      "D:\\code\\env\\anaconda\\envs\\mhy-yolo\\Lib\\site-packages\\ultralytics\\utils\\metrics.py:428: UserWarning: Glyph 19978 (\\N{CJK UNIFIED IDEOGRAPH-4E0A}) missing from current font.\n",
      "  fig.savefig(plot_fname, dpi=250)\n",
      "D:\\code\\env\\anaconda\\envs\\mhy-yolo\\Lib\\site-packages\\ultralytics\\utils\\metrics.py:428: UserWarning: Glyph 36712 (\\N{CJK UNIFIED IDEOGRAPH-8F68}) missing from current font.\n",
      "  fig.savefig(plot_fname, dpi=250)\n",
      "D:\\code\\env\\anaconda\\envs\\mhy-yolo\\Lib\\site-packages\\ultralytics\\utils\\metrics.py:428: UserWarning: Glyph 21516 (\\N{CJK UNIFIED IDEOGRAPH-540C}) missing from current font.\n",
      "  fig.savefig(plot_fname, dpi=250)\n",
      "D:\\code\\env\\anaconda\\envs\\mhy-yolo\\Lib\\site-packages\\ultralytics\\utils\\metrics.py:428: UserWarning: Glyph 20276 (\\N{CJK UNIFIED IDEOGRAPH-4F34}) missing from current font.\n",
      "  fig.savefig(plot_fname, dpi=250)\n",
      "D:\\code\\env\\anaconda\\envs\\mhy-yolo\\Lib\\site-packages\\ultralytics\\utils\\metrics.py:428: UserWarning: Glyph 19979 (\\N{CJK UNIFIED IDEOGRAPH-4E0B}) missing from current font.\n",
      "  fig.savefig(plot_fname, dpi=250)\n",
      "D:\\code\\env\\anaconda\\envs\\mhy-yolo\\Lib\\site-packages\\ultralytics\\utils\\metrics.py:428: UserWarning: Glyph 24038 (\\N{CJK UNIFIED IDEOGRAPH-5DE6}) missing from current font.\n",
      "  fig.savefig(plot_fname, dpi=250)\n",
      "D:\\code\\env\\anaconda\\envs\\mhy-yolo\\Lib\\site-packages\\ultralytics\\utils\\metrics.py:428: UserWarning: Glyph 21491 (\\N{CJK UNIFIED IDEOGRAPH-53F3}) missing from current font.\n",
      "  fig.savefig(plot_fname, dpi=250)\n",
      "D:\\code\\env\\anaconda\\envs\\mhy-yolo\\Lib\\site-packages\\ultralytics\\utils\\metrics.py:428: UserWarning: Glyph 25151 (\\N{CJK UNIFIED IDEOGRAPH-623F}) missing from current font.\n",
      "  fig.savefig(plot_fname, dpi=250)\n",
      "D:\\code\\env\\anaconda\\envs\\mhy-yolo\\Lib\\site-packages\\ultralytics\\utils\\metrics.py:428: UserWarning: Glyph 23627 (\\N{CJK UNIFIED IDEOGRAPH-5C4B}) missing from current font.\n",
      "  fig.savefig(plot_fname, dpi=250)\n",
      "D:\\code\\env\\anaconda\\envs\\mhy-yolo\\Lib\\site-packages\\ultralytics\\utils\\metrics.py:428: UserWarning: Glyph 39608 (\\N{CJK UNIFIED IDEOGRAPH-9AB8}) missing from current font.\n",
      "  fig.savefig(plot_fname, dpi=250)\n",
      "D:\\code\\env\\anaconda\\envs\\mhy-yolo\\Lib\\site-packages\\ultralytics\\utils\\metrics.py:428: UserWarning: Glyph 30005 (\\N{CJK UNIFIED IDEOGRAPH-7535}) missing from current font.\n",
      "  fig.savefig(plot_fname, dpi=250)\n",
      "D:\\code\\env\\anaconda\\envs\\mhy-yolo\\Lib\\site-packages\\ultralytics\\utils\\metrics.py:428: UserWarning: Glyph 35270 (\\N{CJK UNIFIED IDEOGRAPH-89C6}) missing from current font.\n",
      "  fig.savefig(plot_fname, dpi=250)\n",
      "D:\\code\\env\\anaconda\\envs\\mhy-yolo\\Lib\\site-packages\\ultralytics\\utils\\metrics.py:428: UserWarning: Glyph 24213 (\\N{CJK UNIFIED IDEOGRAPH-5E95}) missing from current font.\n",
      "  fig.savefig(plot_fname, dpi=250)\n",
      "D:\\code\\env\\anaconda\\envs\\mhy-yolo\\Lib\\site-packages\\ultralytics\\utils\\metrics.py:428: UserWarning: Glyph 24231 (\\N{CJK UNIFIED IDEOGRAPH-5EA7}) missing from current font.\n",
      "  fig.savefig(plot_fname, dpi=250)\n",
      "D:\\code\\env\\anaconda\\envs\\mhy-yolo\\Lib\\site-packages\\ultralytics\\utils\\metrics.py:428: UserWarning: Glyph 32511 (\\N{CJK UNIFIED IDEOGRAPH-7EFF}) missing from current font.\n",
      "  fig.savefig(plot_fname, dpi=250)\n",
      "D:\\code\\env\\anaconda\\envs\\mhy-yolo\\Lib\\site-packages\\ultralytics\\utils\\metrics.py:428: UserWarning: Glyph 32418 (\\N{CJK UNIFIED IDEOGRAPH-7EA2}) missing from current font.\n",
      "  fig.savefig(plot_fname, dpi=250)\n",
      "D:\\code\\env\\anaconda\\envs\\mhy-yolo\\Lib\\site-packages\\ultralytics\\utils\\metrics.py:428: UserWarning: Glyph 22823 (\\N{CJK UNIFIED IDEOGRAPH-5927}) missing from current font.\n",
      "  fig.savefig(plot_fname, dpi=250)\n",
      "D:\\code\\env\\anaconda\\envs\\mhy-yolo\\Lib\\site-packages\\ultralytics\\utils\\metrics.py:428: UserWarning: Glyph 24403 (\\N{CJK UNIFIED IDEOGRAPH-5F53}) missing from current font.\n",
      "  fig.savefig(plot_fname, dpi=250)\n",
      "D:\\code\\env\\anaconda\\envs\\mhy-yolo\\Lib\\site-packages\\ultralytics\\utils\\metrics.py:428: UserWarning: Glyph 21069 (\\N{CJK UNIFIED IDEOGRAPH-524D}) missing from current font.\n",
      "  fig.savefig(plot_fname, dpi=250)\n",
      "D:\\code\\env\\anaconda\\envs\\mhy-yolo\\Lib\\site-packages\\ultralytics\\utils\\metrics.py:428: UserWarning: Glyph 31354 (\\N{CJK UNIFIED IDEOGRAPH-7A7A}) missing from current font.\n",
      "  fig.savefig(plot_fname, dpi=250)\n",
      "D:\\code\\env\\anaconda\\envs\\mhy-yolo\\Lib\\site-packages\\ultralytics\\utils\\metrics.py:428: UserWarning: Glyph 30333 (\\N{CJK UNIFIED IDEOGRAPH-767D}) missing from current font.\n",
      "  fig.savefig(plot_fname, dpi=250)\n",
      "D:\\code\\env\\anaconda\\envs\\mhy-yolo\\Lib\\site-packages\\ultralytics\\utils\\metrics.py:428: UserWarning: Glyph 24050 (\\N{CJK UNIFIED IDEOGRAPH-5DF2}) missing from current font.\n",
      "  fig.savefig(plot_fname, dpi=250)\n",
      "D:\\code\\env\\anaconda\\envs\\mhy-yolo\\Lib\\site-packages\\ultralytics\\utils\\metrics.py:428: UserWarning: Glyph 36215 (\\N{CJK UNIFIED IDEOGRAPH-8D77}) missing from current font.\n",
      "  fig.savefig(plot_fname, dpi=250)\n",
      "D:\\code\\env\\anaconda\\envs\\mhy-yolo\\Lib\\site-packages\\ultralytics\\utils\\metrics.py:428: UserWarning: Glyph 28857 (\\N{CJK UNIFIED IDEOGRAPH-70B9}) missing from current font.\n",
      "  fig.savefig(plot_fname, dpi=250)\n",
      "D:\\code\\env\\anaconda\\envs\\mhy-yolo\\Lib\\site-packages\\ultralytics\\utils\\metrics.py:428: UserWarning: Glyph 40831 (\\N{CJK UNIFIED IDEOGRAPH-9F7F}) missing from current font.\n",
      "  fig.savefig(plot_fname, dpi=250)\n",
      "D:\\code\\env\\anaconda\\envs\\mhy-yolo\\Lib\\site-packages\\ultralytics\\utils\\metrics.py:428: UserWarning: Glyph 36718 (\\N{CJK UNIFIED IDEOGRAPH-8F6E}) missing from current font.\n",
      "  fig.savefig(plot_fname, dpi=250)\n",
      "D:\\code\\env\\anaconda\\envs\\mhy-yolo\\Lib\\site-packages\\ultralytics\\utils\\metrics.py:428: UserWarning: Glyph 30828 (\\N{CJK UNIFIED IDEOGRAPH-786C}) missing from current font.\n",
      "  fig.savefig(plot_fname, dpi=250)\n",
      "D:\\code\\env\\anaconda\\envs\\mhy-yolo\\Lib\\site-packages\\ultralytics\\utils\\metrics.py:428: UserWarning: Glyph 24065 (\\N{CJK UNIFIED IDEOGRAPH-5E01}) missing from current font.\n",
      "  fig.savefig(plot_fname, dpi=250)\n",
      "D:\\code\\env\\anaconda\\envs\\mhy-yolo\\Lib\\site-packages\\ultralytics\\utils\\metrics.py:428: UserWarning: Glyph 31665 (\\N{CJK UNIFIED IDEOGRAPH-7BB1}) missing from current font.\n",
      "  fig.savefig(plot_fname, dpi=250)\n",
      "D:\\code\\env\\anaconda\\envs\\mhy-yolo\\Lib\\site-packages\\ultralytics\\utils\\metrics.py:428: UserWarning: Glyph 21361 (\\N{CJK UNIFIED IDEOGRAPH-5371}) missing from current font.\n",
      "  fig.savefig(plot_fname, dpi=250)\n",
      "D:\\code\\env\\anaconda\\envs\\mhy-yolo\\Lib\\site-packages\\ultralytics\\utils\\metrics.py:428: UserWarning: Glyph 26426 (\\N{CJK UNIFIED IDEOGRAPH-673A}) missing from current font.\n",
      "  fig.savefig(plot_fname, dpi=250)\n",
      "D:\\code\\env\\anaconda\\envs\\mhy-yolo\\Lib\\site-packages\\ultralytics\\utils\\metrics.py:428: UserWarning: Glyph 19994 (\\N{CJK UNIFIED IDEOGRAPH-4E1A}) missing from current font.\n",
      "  fig.savefig(plot_fname, dpi=250)\n",
      "D:\\code\\env\\anaconda\\envs\\mhy-yolo\\Lib\\site-packages\\ultralytics\\utils\\metrics.py:428: UserWarning: Glyph 32489 (\\N{CJK UNIFIED IDEOGRAPH-7EE9}) missing from current font.\n",
      "  fig.savefig(plot_fname, dpi=250)\n",
      "D:\\code\\env\\anaconda\\envs\\mhy-yolo\\Lib\\site-packages\\ultralytics\\utils\\metrics.py:428: UserWarning: Glyph 32771 (\\N{CJK UNIFIED IDEOGRAPH-8003}) missing from current font.\n",
      "  fig.savefig(plot_fname, dpi=250)\n",
      "D:\\code\\env\\anaconda\\envs\\mhy-yolo\\Lib\\site-packages\\ultralytics\\utils\\metrics.py:428: UserWarning: Glyph 23519 (\\N{CJK UNIFIED IDEOGRAPH-5BDF}) missing from current font.\n",
      "  fig.savefig(plot_fname, dpi=250)\n",
      "D:\\code\\env\\anaconda\\envs\\mhy-yolo\\Lib\\site-packages\\ultralytics\\utils\\metrics.py:428: UserWarning: Glyph 21450 (\\N{CJK UNIFIED IDEOGRAPH-53CA}) missing from current font.\n",
      "  fig.savefig(plot_fname, dpi=250)\n",
      "D:\\code\\env\\anaconda\\envs\\mhy-yolo\\Lib\\site-packages\\ultralytics\\utils\\metrics.py:428: UserWarning: Glyph 26102 (\\N{CJK UNIFIED IDEOGRAPH-65F6}) missing from current font.\n",
      "  fig.savefig(plot_fname, dpi=250)\n",
      "D:\\code\\env\\anaconda\\envs\\mhy-yolo\\Lib\\site-packages\\ultralytics\\utils\\metrics.py:428: UserWarning: Glyph 34917 (\\N{CJK UNIFIED IDEOGRAPH-8865}) missing from current font.\n",
      "  fig.savefig(plot_fname, dpi=250)\n",
      "D:\\code\\env\\anaconda\\envs\\mhy-yolo\\Lib\\site-packages\\ultralytics\\utils\\metrics.py:428: UserWarning: Glyph 32473 (\\N{CJK UNIFIED IDEOGRAPH-7ED9}) missing from current font.\n",
      "  fig.savefig(plot_fname, dpi=250)\n",
      "D:\\code\\env\\anaconda\\envs\\mhy-yolo\\Lib\\site-packages\\ultralytics\\utils\\metrics.py:428: UserWarning: Glyph 25554 (\\N{CJK UNIFIED IDEOGRAPH-63D2}) missing from current font.\n",
      "  fig.savefig(plot_fname, dpi=250)\n",
      "D:\\code\\env\\anaconda\\envs\\mhy-yolo\\Lib\\site-packages\\ultralytics\\utils\\metrics.py:428: UserWarning: Glyph 20214 (\\N{CJK UNIFIED IDEOGRAPH-4EF6}) missing from current font.\n",
      "  fig.savefig(plot_fname, dpi=250)\n",
      "D:\\code\\env\\anaconda\\envs\\mhy-yolo\\Lib\\site-packages\\ultralytics\\utils\\metrics.py:428: UserWarning: Glyph 33719 (\\N{CJK UNIFIED IDEOGRAPH-83B7}) missing from current font.\n",
      "  fig.savefig(plot_fname, dpi=250)\n",
      "D:\\code\\env\\anaconda\\envs\\mhy-yolo\\Lib\\site-packages\\ultralytics\\utils\\metrics.py:428: UserWarning: Glyph 21462 (\\N{CJK UNIFIED IDEOGRAPH-53D6}) missing from current font.\n",
      "  fig.savefig(plot_fname, dpi=250)\n",
      "D:\\code\\env\\anaconda\\envs\\mhy-yolo\\Lib\\site-packages\\ultralytics\\utils\\metrics.py:428: UserWarning: Glyph 25197 (\\N{CJK UNIFIED IDEOGRAPH-626D}) missing from current font.\n",
      "  fig.savefig(plot_fname, dpi=250)\n",
      "D:\\code\\env\\anaconda\\envs\\mhy-yolo\\Lib\\site-packages\\ultralytics\\utils\\metrics.py:428: UserWarning: Glyph 34507 (\\N{CJK UNIFIED IDEOGRAPH-86CB}) missing from current font.\n",
      "  fig.savefig(plot_fname, dpi=250)\n",
      "D:\\code\\env\\anaconda\\envs\\mhy-yolo\\Lib\\site-packages\\ultralytics\\utils\\metrics.py:428: UserWarning: Glyph 21628 (\\N{CJK UNIFIED IDEOGRAPH-547C}) missing from current font.\n",
      "  fig.savefig(plot_fname, dpi=250)\n",
      "D:\\code\\env\\anaconda\\envs\\mhy-yolo\\Lib\\site-packages\\ultralytics\\utils\\metrics.py:428: UserWarning: Glyph 21483 (\\N{CJK UNIFIED IDEOGRAPH-53EB}) missing from current font.\n",
      "  fig.savefig(plot_fname, dpi=250)\n",
      "D:\\code\\env\\anaconda\\envs\\mhy-yolo\\Lib\\site-packages\\ultralytics\\utils\\metrics.py:428: UserWarning: Glyph 22686 (\\N{CJK UNIFIED IDEOGRAPH-589E}) missing from current font.\n",
      "  fig.savefig(plot_fname, dpi=250)\n",
      "D:\\code\\env\\anaconda\\envs\\mhy-yolo\\Lib\\site-packages\\ultralytics\\utils\\metrics.py:428: UserWarning: Glyph 25588 (\\N{CJK UNIFIED IDEOGRAPH-63F4}) missing from current font.\n",
      "  fig.savefig(plot_fname, dpi=250)\n",
      "D:\\code\\env\\anaconda\\envs\\mhy-yolo\\Lib\\site-packages\\ultralytics\\utils\\metrics.py:428: UserWarning: Glyph 31192 (\\N{CJK UNIFIED IDEOGRAPH-79D8}) missing from current font.\n",
      "  fig.savefig(plot_fname, dpi=250)\n",
      "D:\\code\\env\\anaconda\\envs\\mhy-yolo\\Lib\\site-packages\\ultralytics\\utils\\metrics.py:428: UserWarning: Glyph 24452 (\\N{CJK UNIFIED IDEOGRAPH-5F84}) missing from current font.\n",
      "  fig.savefig(plot_fname, dpi=250)\n",
      "D:\\code\\env\\anaconda\\envs\\mhy-yolo\\Lib\\site-packages\\ultralytics\\utils\\metrics.py:428: UserWarning: Glyph 25805 (\\N{CJK UNIFIED IDEOGRAPH-64CD}) missing from current font.\n",
      "  fig.savefig(plot_fname, dpi=250)\n",
      "D:\\code\\env\\anaconda\\envs\\mhy-yolo\\Lib\\site-packages\\ultralytics\\utils\\metrics.py:428: UserWarning: Glyph 32437 (\\N{CJK UNIFIED IDEOGRAPH-7EB5}) missing from current font.\n",
      "  fig.savefig(plot_fname, dpi=250)\n",
      "D:\\code\\env\\anaconda\\envs\\mhy-yolo\\Lib\\site-packages\\ultralytics\\utils\\metrics.py:428: UserWarning: Glyph 26438 (\\N{CJK UNIFIED IDEOGRAPH-6746}) missing from current font.\n",
      "  fig.savefig(plot_fname, dpi=250)\n",
      "D:\\code\\env\\anaconda\\envs\\mhy-yolo\\Lib\\site-packages\\ultralytics\\utils\\metrics.py:428: UserWarning: Glyph 36994 (\\N{CJK UNIFIED IDEOGRAPH-9082}) missing from current font.\n",
      "  fig.savefig(plot_fname, dpi=250)\n",
      "D:\\code\\env\\anaconda\\envs\\mhy-yolo\\Lib\\site-packages\\ultralytics\\utils\\metrics.py:428: UserWarning: Glyph 36869 (\\N{CJK UNIFIED IDEOGRAPH-9005}) missing from current font.\n",
      "  fig.savefig(plot_fname, dpi=250)\n",
      "D:\\code\\env\\anaconda\\envs\\mhy-yolo\\Lib\\site-packages\\ultralytics\\utils\\metrics.py:428: UserWarning: Glyph 20405 (\\N{CJK UNIFIED IDEOGRAPH-4FB5}) missing from current font.\n",
      "  fig.savefig(plot_fname, dpi=250)\n",
      "D:\\code\\env\\anaconda\\envs\\mhy-yolo\\Lib\\site-packages\\ultralytics\\utils\\metrics.py:428: UserWarning: Glyph 34432 (\\N{CJK UNIFIED IDEOGRAPH-8680}) missing from current font.\n",
      "  fig.savefig(plot_fname, dpi=250)\n",
      "D:\\code\\env\\anaconda\\envs\\mhy-yolo\\Lib\\site-packages\\ultralytics\\utils\\metrics.py:428: UserWarning: Glyph 20020 (\\N{CJK UNIFIED IDEOGRAPH-4E34}) missing from current font.\n",
      "  fig.savefig(plot_fname, dpi=250)\n",
      "D:\\code\\env\\anaconda\\envs\\mhy-yolo\\Lib\\site-packages\\ultralytics\\utils\\metrics.py:428: UserWarning: Glyph 25293 (\\N{CJK UNIFIED IDEOGRAPH-62CD}) missing from current font.\n",
      "  fig.savefig(plot_fname, dpi=250)\n",
      "D:\\code\\env\\anaconda\\envs\\mhy-yolo\\Lib\\site-packages\\ultralytics\\utils\\metrics.py:428: UserWarning: Glyph 26723 (\\N{CJK UNIFIED IDEOGRAPH-6863}) missing from current font.\n",
      "  fig.savefig(plot_fname, dpi=250)\n",
      "D:\\code\\env\\anaconda\\envs\\mhy-yolo\\Lib\\site-packages\\ultralytics\\utils\\metrics.py:428: UserWarning: Glyph 20551 (\\N{CJK UNIFIED IDEOGRAPH-5047}) missing from current font.\n",
      "  fig.savefig(plot_fname, dpi=250)\n",
      "D:\\code\\env\\anaconda\\envs\\mhy-yolo\\Lib\\site-packages\\ultralytics\\utils\\metrics.py:428: UserWarning: Glyph 38754 (\\N{CJK UNIFIED IDEOGRAPH-9762}) missing from current font.\n",
      "  fig.savefig(plot_fname, dpi=250)\n",
      "D:\\code\\env\\anaconda\\envs\\mhy-yolo\\Lib\\site-packages\\ultralytics\\utils\\metrics.py:428: UserWarning: Glyph 30740 (\\N{CJK UNIFIED IDEOGRAPH-7814}) missing from current font.\n",
      "  fig.savefig(plot_fname, dpi=250)\n",
      "D:\\code\\env\\anaconda\\envs\\mhy-yolo\\Lib\\site-packages\\ultralytics\\utils\\metrics.py:428: UserWarning: Glyph 31350 (\\N{CJK UNIFIED IDEOGRAPH-7A76}) missing from current font.\n",
      "  fig.savefig(plot_fname, dpi=250)\n",
      "D:\\code\\env\\anaconda\\envs\\mhy-yolo\\Lib\\site-packages\\ultralytics\\utils\\metrics.py:428: UserWarning: Glyph 32773 (\\N{CJK UNIFIED IDEOGRAPH-8005}) missing from current font.\n",
      "  fig.savefig(plot_fname, dpi=250)\n",
      "D:\\code\\env\\anaconda\\envs\\mhy-yolo\\Lib\\site-packages\\ultralytics\\utils\\metrics.py:428: UserWarning: Glyph 40483 (\\N{CJK UNIFIED IDEOGRAPH-9E23}) missing from current font.\n",
      "  fig.savefig(plot_fname, dpi=250)\n",
      "D:\\code\\env\\anaconda\\envs\\mhy-yolo\\Lib\\site-packages\\ultralytics\\utils\\metrics.py:428: UserWarning: Glyph 24509 (\\N{CJK UNIFIED IDEOGRAPH-5FBD}) missing from current font.\n",
      "  fig.savefig(plot_fname, dpi=250)\n",
      "D:\\code\\env\\anaconda\\envs\\mhy-yolo\\Lib\\site-packages\\ultralytics\\utils\\metrics.py:428: UserWarning: Glyph 20652 (\\N{CJK UNIFIED IDEOGRAPH-50AC}) missing from current font.\n",
      "  fig.savefig(plot_fname, dpi=250)\n",
      "D:\\code\\env\\anaconda\\envs\\mhy-yolo\\Lib\\site-packages\\ultralytics\\utils\\metrics.py:428: UserWarning: Glyph 21270 (\\N{CJK UNIFIED IDEOGRAPH-5316}) missing from current font.\n",
      "  fig.savefig(plot_fname, dpi=250)\n",
      "D:\\code\\env\\anaconda\\envs\\mhy-yolo\\Lib\\site-packages\\ultralytics\\utils\\metrics.py:428: UserWarning: Glyph 21058 (\\N{CJK UNIFIED IDEOGRAPH-5242}) missing from current font.\n",
      "  fig.savefig(plot_fname, dpi=250)\n",
      "D:\\code\\env\\anaconda\\envs\\mhy-yolo\\Lib\\site-packages\\ultralytics\\utils\\metrics.py:428: UserWarning: Glyph 35843 (\\N{CJK UNIFIED IDEOGRAPH-8C03}) missing from current font.\n",
      "  fig.savefig(plot_fname, dpi=250)\n",
      "D:\\code\\env\\anaconda\\envs\\mhy-yolo\\Lib\\site-packages\\ultralytics\\utils\\metrics.py:428: UserWarning: Glyph 26597 (\\N{CJK UNIFIED IDEOGRAPH-67E5}) missing from current font.\n",
      "  fig.savefig(plot_fname, dpi=250)\n",
      "D:\\code\\env\\anaconda\\envs\\mhy-yolo\\Lib\\site-packages\\ultralytics\\utils\\metrics.py:428: UserWarning: Glyph 21592 (\\N{CJK UNIFIED IDEOGRAPH-5458}) missing from current font.\n",
      "  fig.savefig(plot_fname, dpi=250)\n",
      "D:\\code\\env\\anaconda\\envs\\mhy-yolo\\Lib\\site-packages\\ultralytics\\utils\\metrics.py:428: UserWarning: Glyph 30423 (\\N{CJK UNIFIED IDEOGRAPH-76D7}) missing from current font.\n",
      "  fig.savefig(plot_fname, dpi=250)\n",
      "D:\\code\\env\\anaconda\\envs\\mhy-yolo\\Lib\\site-packages\\ultralytics\\utils\\metrics.py:428: UserWarning: Glyph 27934 (\\N{CJK UNIFIED IDEOGRAPH-6D1E}) missing from current font.\n",
      "  fig.savefig(plot_fname, dpi=250)\n",
      "D:\\code\\env\\anaconda\\envs\\mhy-yolo\\Lib\\site-packages\\ultralytics\\utils\\metrics.py:428: UserWarning: Glyph 23458 (\\N{CJK UNIFIED IDEOGRAPH-5BA2}) missing from current font.\n",
      "  fig.savefig(plot_fname, dpi=250)\n",
      "D:\\code\\env\\anaconda\\envs\\mhy-yolo\\Lib\\site-packages\\ultralytics\\utils\\metrics.py:428: UserWarning: Glyph 37030 (\\N{CJK UNIFIED IDEOGRAPH-90A6}) missing from current font.\n",
      "  fig.savefig(plot_fname, dpi=250)\n",
      "D:\\code\\env\\anaconda\\envs\\mhy-yolo\\Lib\\site-packages\\ultralytics\\utils\\metrics.py:428: UserWarning: Glyph 24067 (\\N{CJK UNIFIED IDEOGRAPH-5E03}) missing from current font.\n",
      "  fig.savefig(plot_fname, dpi=250)\n",
      "D:\\code\\env\\anaconda\\envs\\mhy-yolo\\Lib\\site-packages\\ultralytics\\utils\\metrics.py:428: UserWarning: Glyph 21830 (\\N{CJK UNIFIED IDEOGRAPH-5546}) missing from current font.\n",
      "  fig.savefig(plot_fname, dpi=250)\n",
      "D:\\code\\env\\anaconda\\envs\\mhy-yolo\\Lib\\site-packages\\ultralytics\\utils\\metrics.py:428: UserWarning: Glyph 20154 (\\N{CJK UNIFIED IDEOGRAPH-4EBA}) missing from current font.\n",
      "  fig.savefig(plot_fname, dpi=250)\n",
      "D:\\code\\env\\anaconda\\envs\\mhy-yolo\\Lib\\site-packages\\ultralytics\\utils\\metrics.py:428: UserWarning: Glyph 38376 (\\N{CJK UNIFIED IDEOGRAPH-95E8}) missing from current font.\n",
      "  fig.savefig(plot_fname, dpi=250)\n",
      "D:\\code\\env\\anaconda\\envs\\mhy-yolo\\Lib\\site-packages\\ultralytics\\utils\\metrics.py:428: UserWarning: Glyph 25161 (\\N{CJK UNIFIED IDEOGRAPH-6249}) missing from current font.\n",
      "  fig.savefig(plot_fname, dpi=250)\n",
      "D:\\code\\env\\anaconda\\envs\\mhy-yolo\\Lib\\site-packages\\ultralytics\\utils\\metrics.py:428: UserWarning: Glyph 31105 (\\N{CJK UNIFIED IDEOGRAPH-7981}) missing from current font.\n",
      "  fig.savefig(plot_fname, dpi=250)\n",
      "D:\\code\\env\\anaconda\\envs\\mhy-yolo\\Lib\\site-packages\\ultralytics\\utils\\metrics.py:428: UserWarning: Glyph 38381 (\\N{CJK UNIFIED IDEOGRAPH-95ED}) missing from current font.\n",
      "  fig.savefig(plot_fname, dpi=250)\n",
      "D:\\code\\env\\anaconda\\envs\\mhy-yolo\\Lib\\site-packages\\ultralytics\\utils\\metrics.py:428: UserWarning: Glyph 36130 (\\N{CJK UNIFIED IDEOGRAPH-8D22}) missing from current font.\n",
      "  fig.savefig(plot_fname, dpi=250)\n",
      "D:\\code\\env\\anaconda\\envs\\mhy-yolo\\Lib\\site-packages\\ultralytics\\utils\\metrics.py:428: UserWarning: Glyph 23500 (\\N{CJK UNIFIED IDEOGRAPH-5BCC}) missing from current font.\n",
      "  fig.savefig(plot_fname, dpi=250)\n",
      "D:\\code\\env\\anaconda\\envs\\mhy-yolo\\Lib\\site-packages\\ultralytics\\utils\\metrics.py:428: UserWarning: Glyph 39037 (\\N{CJK UNIFIED IDEOGRAPH-987D}) missing from current font.\n",
      "  fig.savefig(plot_fname, dpi=250)\n",
      "D:\\code\\env\\anaconda\\envs\\mhy-yolo\\Lib\\site-packages\\ultralytics\\utils\\metrics.py:428: UserWarning: Glyph 22266 (\\N{CJK UNIFIED IDEOGRAPH-56FA}) missing from current font.\n",
      "  fig.savefig(plot_fname, dpi=250)\n",
      "D:\\code\\env\\anaconda\\envs\\mhy-yolo\\Lib\\site-packages\\ultralytics\\utils\\metrics.py:428: UserWarning: Glyph 30340 (\\N{CJK UNIFIED IDEOGRAPH-7684}) missing from current font.\n",
      "  fig.savefig(plot_fname, dpi=250)\n",
      "D:\\code\\env\\anaconda\\envs\\mhy-yolo\\Lib\\site-packages\\ultralytics\\utils\\metrics.py:428: UserWarning: Glyph 38556 (\\N{CJK UNIFIED IDEOGRAPH-969C}) missing from current font.\n",
      "  fig.savefig(plot_fname, dpi=250)\n",
      "D:\\code\\env\\anaconda\\envs\\mhy-yolo\\Lib\\site-packages\\ultralytics\\utils\\metrics.py:428: UserWarning: Glyph 30861 (\\N{CJK UNIFIED IDEOGRAPH-788D}) missing from current font.\n",
      "  fig.savefig(plot_fname, dpi=250)\n",
      "D:\\code\\env\\anaconda\\envs\\mhy-yolo\\Lib\\site-packages\\ultralytics\\utils\\metrics.py:428: UserWarning: Glyph 29289 (\\N{CJK UNIFIED IDEOGRAPH-7269}) missing from current font.\n",
      "  fig.savefig(plot_fname, dpi=250)\n",
      "D:\\code\\env\\anaconda\\envs\\mhy-yolo\\Lib\\site-packages\\ultralytics\\utils\\metrics.py:428: UserWarning: Glyph 27531 (\\N{CJK UNIFIED IDEOGRAPH-6B8B}) missing from current font.\n",
      "  fig.savefig(plot_fname, dpi=250)\n",
      "D:\\code\\env\\anaconda\\envs\\mhy-yolo\\Lib\\site-packages\\ultralytics\\utils\\metrics.py:428: UserWarning: Glyph 30772 (\\N{CJK UNIFIED IDEOGRAPH-7834}) missing from current font.\n",
      "  fig.savefig(plot_fname, dpi=250)\n",
      "D:\\code\\env\\anaconda\\envs\\mhy-yolo\\Lib\\site-packages\\ultralytics\\utils\\metrics.py:428: UserWarning: Glyph 21452 (\\N{CJK UNIFIED IDEOGRAPH-53CC}) missing from current font.\n",
      "  fig.savefig(plot_fname, dpi=250)\n",
      "D:\\code\\env\\anaconda\\envs\\mhy-yolo\\Lib\\site-packages\\ultralytics\\utils\\metrics.py:428: UserWarning: Glyph 37325 (\\N{CJK UNIFIED IDEOGRAPH-91CD}) missing from current font.\n",
      "  fig.savefig(plot_fname, dpi=250)\n",
      "D:\\code\\env\\anaconda\\envs\\mhy-yolo\\Lib\\site-packages\\ultralytics\\utils\\metrics.py:428: UserWarning: Glyph 21892 (\\N{CJK UNIFIED IDEOGRAPH-5584}) missing from current font.\n",
      "  fig.savefig(plot_fname, dpi=250)\n",
      "D:\\code\\env\\anaconda\\envs\\mhy-yolo\\Lib\\site-packages\\ultralytics\\utils\\metrics.py:428: UserWarning: Glyph 25112 (\\N{CJK UNIFIED IDEOGRAPH-6218}) missing from current font.\n",
      "  fig.savefig(plot_fname, dpi=250)\n",
      "D:\\code\\env\\anaconda\\envs\\mhy-yolo\\Lib\\site-packages\\ultralytics\\utils\\metrics.py:428: UserWarning: Glyph 24320 (\\N{CJK UNIFIED IDEOGRAPH-5F00}) missing from current font.\n",
      "  fig.savefig(plot_fname, dpi=250)\n",
      "D:\\code\\env\\anaconda\\envs\\mhy-yolo\\Lib\\site-packages\\ultralytics\\utils\\metrics.py:428: UserWarning: Glyph 21551 (\\N{CJK UNIFIED IDEOGRAPH-542F}) missing from current font.\n",
      "  fig.savefig(plot_fname, dpi=250)\n",
      "D:\\code\\env\\anaconda\\envs\\mhy-yolo\\Lib\\site-packages\\ultralytics\\utils\\metrics.py:428: UserWarning: Glyph 23433 (\\N{CJK UNIFIED IDEOGRAPH-5B89}) missing from current font.\n",
      "  fig.savefig(plot_fname, dpi=250)\n",
      "D:\\code\\env\\anaconda\\envs\\mhy-yolo\\Lib\\site-packages\\ultralytics\\utils\\metrics.py:428: UserWarning: Glyph 20840 (\\N{CJK UNIFIED IDEOGRAPH-5168}) missing from current font.\n",
      "  fig.savefig(plot_fname, dpi=250)\n",
      "D:\\code\\env\\anaconda\\envs\\mhy-yolo\\Lib\\site-packages\\ultralytics\\utils\\metrics.py:428: UserWarning: Glyph 21306 (\\N{CJK UNIFIED IDEOGRAPH-533A}) missing from current font.\n",
      "  fig.savefig(plot_fname, dpi=250)\n",
      "D:\\code\\env\\anaconda\\envs\\mhy-yolo\\Lib\\site-packages\\ultralytics\\utils\\metrics.py:428: UserWarning: Glyph 20241 (\\N{CJK UNIFIED IDEOGRAPH-4F11}) missing from current font.\n",
      "  fig.savefig(plot_fname, dpi=250)\n",
      "D:\\code\\env\\anaconda\\envs\\mhy-yolo\\Lib\\site-packages\\ultralytics\\utils\\metrics.py:428: UserWarning: Glyph 24687 (\\N{CJK UNIFIED IDEOGRAPH-606F}) missing from current font.\n",
      "  fig.savefig(plot_fname, dpi=250)\n",
      "D:\\code\\env\\anaconda\\envs\\mhy-yolo\\Lib\\site-packages\\ultralytics\\utils\\metrics.py:428: UserWarning: Glyph 22833 (\\N{CJK UNIFIED IDEOGRAPH-5931}) missing from current font.\n",
      "  fig.savefig(plot_fname, dpi=250)\n",
      "D:\\code\\env\\anaconda\\envs\\mhy-yolo\\Lib\\site-packages\\ultralytics\\utils\\metrics.py:428: UserWarning: Glyph 32852 (\\N{CJK UNIFIED IDEOGRAPH-8054}) missing from current font.\n",
      "  fig.savefig(plot_fname, dpi=250)\n",
      "D:\\code\\env\\anaconda\\envs\\mhy-yolo\\Lib\\site-packages\\ultralytics\\utils\\metrics.py:428: UserWarning: Glyph 20928 (\\N{CJK UNIFIED IDEOGRAPH-51C0}) missing from current font.\n",
      "  fig.savefig(plot_fname, dpi=250)\n",
      "D:\\code\\env\\anaconda\\envs\\mhy-yolo\\Lib\\site-packages\\ultralytics\\utils\\metrics.py:428: UserWarning: Glyph 23460 (\\N{CJK UNIFIED IDEOGRAPH-5BA4}) missing from current font.\n",
      "  fig.savefig(plot_fname, dpi=250)\n",
      "D:\\code\\env\\anaconda\\envs\\mhy-yolo\\Lib\\site-packages\\ultralytics\\utils\\metrics.py:428: UserWarning: Glyph 20256 (\\N{CJK UNIFIED IDEOGRAPH-4F20}) missing from current font.\n",
      "  fig.savefig(plot_fname, dpi=250)\n",
      "D:\\code\\env\\anaconda\\envs\\mhy-yolo\\Lib\\site-packages\\ultralytics\\utils\\metrics.py:428: UserWarning: Glyph 36865 (\\N{CJK UNIFIED IDEOGRAPH-9001}) missing from current font.\n",
      "  fig.savefig(plot_fname, dpi=250)\n",
      "D:\\code\\env\\anaconda\\envs\\mhy-yolo\\Lib\\site-packages\\ultralytics\\utils\\metrics.py:428: UserWarning: Glyph 30495 (\\N{CJK UNIFIED IDEOGRAPH-771F}) missing from current font.\n",
      "  fig.savefig(plot_fname, dpi=250)\n",
      "D:\\code\\env\\anaconda\\envs\\mhy-yolo\\Lib\\site-packages\\ultralytics\\utils\\metrics.py:428: UserWarning: Glyph 30456 (\\N{CJK UNIFIED IDEOGRAPH-76F8}) missing from current font.\n",
      "  fig.savefig(plot_fname, dpi=250)\n",
      "D:\\code\\env\\anaconda\\envs\\mhy-yolo\\Lib\\site-packages\\ultralytics\\utils\\metrics.py:428: UserWarning: Glyph 36890 (\\N{CJK UNIFIED IDEOGRAPH-901A}) missing from current font.\n",
      "  fig.savefig(plot_fname, dpi=250)\n",
      "D:\\code\\env\\anaconda\\envs\\mhy-yolo\\Lib\\site-packages\\ultralytics\\utils\\metrics.py:428: UserWarning: Glyph 36947 (\\N{CJK UNIFIED IDEOGRAPH-9053}) missing from current font.\n",
      "  fig.savefig(plot_fname, dpi=250)\n",
      "D:\\code\\env\\anaconda\\envs\\mhy-yolo\\Lib\\site-packages\\ultralytics\\utils\\metrics.py:428: UserWarning: Glyph 24040 (\\N{CJK UNIFIED IDEOGRAPH-5DE8}) missing from current font.\n",
      "  fig.savefig(plot_fname, dpi=250)\n",
      "D:\\code\\env\\anaconda\\envs\\mhy-yolo\\Lib\\site-packages\\ultralytics\\utils\\metrics.py:428: UserWarning: Glyph 20861 (\\N{CJK UNIFIED IDEOGRAPH-517D}) missing from current font.\n",
      "  fig.savefig(plot_fname, dpi=250)\n",
      "D:\\code\\env\\anaconda\\envs\\mhy-yolo\\Lib\\site-packages\\ultralytics\\utils\\metrics.py:428: UserWarning: Glyph 22855 (\\N{CJK UNIFIED IDEOGRAPH-5947}) missing from current font.\n",
      "  fig.savefig(plot_fname, dpi=250)\n",
      "D:\\code\\env\\anaconda\\envs\\mhy-yolo\\Lib\\site-packages\\ultralytics\\utils\\metrics.py:428: UserWarning: Glyph 36135 (\\N{CJK UNIFIED IDEOGRAPH-8D27}) missing from current font.\n",
      "  fig.savefig(plot_fname, dpi=250)\n",
      "D:\\code\\env\\anaconda\\envs\\mhy-yolo\\Lib\\site-packages\\ultralytics\\utils\\metrics.py:428: UserWarning: Glyph 30450 (\\N{CJK UNIFIED IDEOGRAPH-76F2}) missing from current font.\n",
      "  fig.savefig(plot_fname, dpi=250)\n",
      "D:\\code\\env\\anaconda\\envs\\mhy-yolo\\Lib\\site-packages\\ultralytics\\utils\\metrics.py:428: UserWarning: Glyph 30418 (\\N{CJK UNIFIED IDEOGRAPH-76D2}) missing from current font.\n",
      "  fig.savefig(plot_fname, dpi=250)\n",
      "D:\\code\\env\\anaconda\\envs\\mhy-yolo\\Lib\\site-packages\\ultralytics\\utils\\metrics.py:428: UserWarning: Glyph 22495 (\\N{CJK UNIFIED IDEOGRAPH-57DF}) missing from current font.\n",
      "  fig.savefig(plot_fname, dpi=250)\n",
      "D:\\code\\env\\anaconda\\envs\\mhy-yolo\\Lib\\site-packages\\ultralytics\\utils\\metrics.py:428: UserWarning: Glyph 19981 (\\N{CJK UNIFIED IDEOGRAPH-4E0D}) missing from current font.\n",
      "  fig.savefig(plot_fname, dpi=250)\n",
      "D:\\code\\env\\anaconda\\envs\\mhy-yolo\\Lib\\site-packages\\ultralytics\\utils\\metrics.py:428: UserWarning: Glyph 23452 (\\N{CJK UNIFIED IDEOGRAPH-5B9C}) missing from current font.\n",
      "  fig.savefig(plot_fname, dpi=250)\n",
      "D:\\code\\env\\anaconda\\envs\\mhy-yolo\\Lib\\site-packages\\ultralytics\\utils\\metrics.py:428: UserWarning: Glyph 20037 (\\N{CJK UNIFIED IDEOGRAPH-4E45}) missing from current font.\n",
      "  fig.savefig(plot_fname, dpi=250)\n",
      "D:\\code\\env\\anaconda\\envs\\mhy-yolo\\Lib\\site-packages\\ultralytics\\utils\\metrics.py:428: UserWarning: Glyph 30041 (\\N{CJK UNIFIED IDEOGRAPH-7559}) missing from current font.\n",
      "  fig.savefig(plot_fname, dpi=250)\n",
      "D:\\code\\env\\anaconda\\envs\\mhy-yolo\\Lib\\site-packages\\ultralytics\\utils\\metrics.py:428: UserWarning: Glyph 24618 (\\N{CJK UNIFIED IDEOGRAPH-602A}) missing from current font.\n",
      "  fig.savefig(plot_fname, dpi=250)\n",
      "D:\\code\\env\\anaconda\\envs\\mhy-yolo\\Lib\\site-packages\\ultralytics\\utils\\metrics.py:428: UserWarning: Glyph 20390 (\\N{CJK UNIFIED IDEOGRAPH-4FA6}) missing from current font.\n",
      "  fig.savefig(plot_fname, dpi=250)\n",
      "D:\\code\\env\\anaconda\\envs\\mhy-yolo\\Lib\\site-packages\\ultralytics\\utils\\metrics.py:428: UserWarning: Glyph 25506 (\\N{CJK UNIFIED IDEOGRAPH-63A2}) missing from current font.\n",
      "  fig.savefig(plot_fname, dpi=250)\n",
      "D:\\code\\env\\anaconda\\envs\\mhy-yolo\\Lib\\site-packages\\ultralytics\\utils\\metrics.py:428: UserWarning: Glyph 27714 (\\N{CJK UNIFIED IDEOGRAPH-6C42}) missing from current font.\n",
      "  fig.savefig(plot_fname, dpi=250)\n",
      "D:\\code\\env\\anaconda\\envs\\mhy-yolo\\Lib\\site-packages\\ultralytics\\utils\\metrics.py:428: UserWarning: Glyph 25937 (\\N{CJK UNIFIED IDEOGRAPH-6551}) missing from current font.\n",
      "  fig.savefig(plot_fname, dpi=250)\n",
      "D:\\code\\env\\anaconda\\envs\\mhy-yolo\\Lib\\site-packages\\ultralytics\\utils\\metrics.py:428: UserWarning: Glyph 20449 (\\N{CJK UNIFIED IDEOGRAPH-4FE1}) missing from current font.\n",
      "  fig.savefig(plot_fname, dpi=250)\n",
      "D:\\code\\env\\anaconda\\envs\\mhy-yolo\\Lib\\site-packages\\ultralytics\\utils\\metrics.py:428: UserWarning: Glyph 21495 (\\N{CJK UNIFIED IDEOGRAPH-53F7}) missing from current font.\n",
      "  fig.savefig(plot_fname, dpi=250)\n",
      "D:\\code\\env\\anaconda\\envs\\mhy-yolo\\Lib\\site-packages\\ultralytics\\utils\\metrics.py:428: UserWarning: Glyph 21327 (\\N{CJK UNIFIED IDEOGRAPH-534F}) missing from current font.\n",
      "  fig.savefig(plot_fname, dpi=250)\n",
      "D:\\code\\env\\anaconda\\envs\\mhy-yolo\\Lib\\site-packages\\ultralytics\\utils\\metrics.py:428: UserWarning: Glyph 20250 (\\N{CJK UNIFIED IDEOGRAPH-4F1A}) missing from current font.\n",
      "  fig.savefig(plot_fname, dpi=250)\n",
      "D:\\code\\env\\anaconda\\envs\\mhy-yolo\\Lib\\site-packages\\ultralytics\\utils\\metrics.py:428: UserWarning: Glyph 31449 (\\N{CJK UNIFIED IDEOGRAPH-7AD9}) missing from current font.\n",
      "  fig.savefig(plot_fname, dpi=250)\n",
      "D:\\code\\env\\anaconda\\envs\\mhy-yolo\\Lib\\site-packages\\ultralytics\\utils\\metrics.py:428: UserWarning: Glyph 31934 (\\N{CJK UNIFIED IDEOGRAPH-7CBE}) missing from current font.\n",
      "  fig.savefig(plot_fname, dpi=250)\n",
      "D:\\code\\env\\anaconda\\envs\\mhy-yolo\\Lib\\site-packages\\ultralytics\\utils\\metrics.py:428: UserWarning: Glyph 38160 (\\N{CJK UNIFIED IDEOGRAPH-9510}) missing from current font.\n",
      "  fig.savefig(plot_fname, dpi=250)\n",
      "D:\\code\\env\\anaconda\\envs\\mhy-yolo\\Lib\\site-packages\\ultralytics\\utils\\metrics.py:428: UserWarning: Glyph 21161 (\\N{CJK UNIFIED IDEOGRAPH-52A9}) missing from current font.\n",
      "  fig.savefig(plot_fname, dpi=250)\n",
      "D:\\code\\env\\anaconda\\envs\\mhy-yolo\\Lib\\site-packages\\ultralytics\\utils\\metrics.py:428: UserWarning: Glyph 25163 (\\N{CJK UNIFIED IDEOGRAPH-624B}) missing from current font.\n",
      "  fig.savefig(plot_fname, dpi=250)\n",
      "D:\\code\\env\\anaconda\\envs\\mhy-yolo\\Lib\\site-packages\\ultralytics\\utils\\metrics.py:428: UserWarning: Glyph 27835 (\\N{CJK UNIFIED IDEOGRAPH-6CBB}) missing from current font.\n",
      "  fig.savefig(plot_fname, dpi=250)\n",
      "D:\\code\\env\\anaconda\\envs\\mhy-yolo\\Lib\\site-packages\\ultralytics\\utils\\metrics.py:428: UserWarning: Glyph 23448 (\\N{CJK UNIFIED IDEOGRAPH-5B98}) missing from current font.\n",
      "  fig.savefig(plot_fname, dpi=250)\n",
      "D:\\code\\env\\anaconda\\envs\\mhy-yolo\\Lib\\site-packages\\ultralytics\\utils\\metrics.py:428: UserWarning: Glyph 23567 (\\N{CJK UNIFIED IDEOGRAPH-5C0F}) missing from current font.\n",
      "  fig.savefig(plot_fname, dpi=250)\n",
      "D:\\code\\env\\anaconda\\envs\\mhy-yolo\\Lib\\site-packages\\ultralytics\\utils\\metrics.py:428: UserWarning: Glyph 38431 (\\N{CJK UNIFIED IDEOGRAPH-961F}) missing from current font.\n",
      "  fig.savefig(plot_fname, dpi=250)\n",
      "D:\\code\\env\\anaconda\\envs\\mhy-yolo\\Lib\\site-packages\\ultralytics\\utils\\metrics.py:428: UserWarning: Glyph 26377 (\\N{CJK UNIFIED IDEOGRAPH-6709}) missing from current font.\n",
      "  fig.savefig(plot_fname, dpi=250)\n",
      "D:\\code\\env\\anaconda\\envs\\mhy-yolo\\Lib\\site-packages\\ultralytics\\utils\\metrics.py:428: UserWarning: Glyph 20607 (\\N{CJK UNIFIED IDEOGRAPH-507F}) missing from current font.\n",
      "  fig.savefig(plot_fname, dpi=250)\n",
      "D:\\code\\env\\anaconda\\envs\\mhy-yolo\\Lib\\site-packages\\ultralytics\\utils\\metrics.py:428: UserWarning: Glyph 39301 (\\N{CJK UNIFIED IDEOGRAPH-9985}) missing from current font.\n",
      "  fig.savefig(plot_fname, dpi=250)\n",
      "D:\\code\\env\\anaconda\\envs\\mhy-yolo\\Lib\\site-packages\\ultralytics\\utils\\metrics.py:428: UserWarning: Glyph 39292 (\\N{CJK UNIFIED IDEOGRAPH-997C}) missing from current font.\n",
      "  fig.savefig(plot_fname, dpi=250)\n",
      "D:\\code\\env\\anaconda\\envs\\mhy-yolo\\Lib\\site-packages\\ultralytics\\utils\\metrics.py:428: UserWarning: Glyph 22825 (\\N{CJK UNIFIED IDEOGRAPH-5929}) missing from current font.\n",
      "  fig.savefig(plot_fname, dpi=250)\n",
      "D:\\code\\env\\anaconda\\envs\\mhy-yolo\\Lib\\site-packages\\ultralytics\\utils\\metrics.py:428: UserWarning: Glyph 38477 (\\N{CJK UNIFIED IDEOGRAPH-964D}) missing from current font.\n",
      "  fig.savefig(plot_fname, dpi=250)\n",
      "D:\\code\\env\\anaconda\\envs\\mhy-yolo\\Lib\\site-packages\\ultralytics\\utils\\metrics.py:428: UserWarning: Glyph 24576 (\\N{CJK UNIFIED IDEOGRAPH-6000}) missing from current font.\n",
      "  fig.savefig(plot_fname, dpi=250)\n",
      "D:\\code\\env\\anaconda\\envs\\mhy-yolo\\Lib\\site-packages\\ultralytics\\utils\\metrics.py:428: UserWarning: Glyph 26031 (\\N{CJK UNIFIED IDEOGRAPH-65AF}) missing from current font.\n",
      "  fig.savefig(plot_fname, dpi=250)\n",
      "D:\\code\\env\\anaconda\\envs\\mhy-yolo\\Lib\\site-packages\\ultralytics\\utils\\metrics.py:428: UserWarning: Glyph 22612 (\\N{CJK UNIFIED IDEOGRAPH-5854}) missing from current font.\n",
      "  fig.savefig(plot_fname, dpi=250)\n",
      "D:\\code\\env\\anaconda\\envs\\mhy-yolo\\Lib\\site-packages\\ultralytics\\utils\\metrics.py:428: UserWarning: Glyph 23398 (\\N{CJK UNIFIED IDEOGRAPH-5B66}) missing from current font.\n",
      "  fig.savefig(plot_fname, dpi=250)\n",
      "D:\\code\\env\\anaconda\\envs\\mhy-yolo\\Lib\\site-packages\\ultralytics\\utils\\metrics.py:428: UserWarning: Glyph 27963 (\\N{CJK UNIFIED IDEOGRAPH-6D3B}) missing from current font.\n",
      "  fig.savefig(plot_fname, dpi=250)\n",
      "D:\\code\\env\\anaconda\\envs\\mhy-yolo\\Lib\\site-packages\\ultralytics\\utils\\metrics.py:428: UserWarning: Glyph 32467 (\\N{CJK UNIFIED IDEOGRAPH-7ED3}) missing from current font.\n",
      "  fig.savefig(plot_fname, dpi=250)\n",
      "D:\\code\\env\\anaconda\\envs\\mhy-yolo\\Lib\\site-packages\\ultralytics\\utils\\metrics.py:428: UserWarning: Glyph 26230 (\\N{CJK UNIFIED IDEOGRAPH-6676}) missing from current font.\n",
      "  fig.savefig(plot_fname, dpi=250)\n",
      "D:\\code\\env\\anaconda\\envs\\mhy-yolo\\Lib\\site-packages\\ultralytics\\utils\\metrics.py:428: UserWarning: Glyph 23432 (\\N{CJK UNIFIED IDEOGRAPH-5B88}) missing from current font.\n",
      "  fig.savefig(plot_fname, dpi=250)\n",
      "D:\\code\\env\\anaconda\\envs\\mhy-yolo\\Lib\\site-packages\\ultralytics\\utils\\metrics.py:428: UserWarning: Glyph 35010 (\\N{CJK UNIFIED IDEOGRAPH-88C2}) missing from current font.\n",
      "  fig.savefig(plot_fname, dpi=250)\n",
      "D:\\code\\env\\anaconda\\envs\\mhy-yolo\\Lib\\site-packages\\ultralytics\\utils\\metrics.py:428: UserWarning: Glyph 38553 (\\N{CJK UNIFIED IDEOGRAPH-9699}) missing from current font.\n",
      "  fig.savefig(plot_fname, dpi=250)\n",
      "D:\\code\\env\\anaconda\\envs\\mhy-yolo\\Lib\\site-packages\\ultralytics\\utils\\metrics.py:428: UserWarning: Glyph 32039 (\\N{CJK UNIFIED IDEOGRAPH-7D27}) missing from current font.\n",
      "  fig.savefig(plot_fname, dpi=250)\n",
      "D:\\code\\env\\anaconda\\envs\\mhy-yolo\\Lib\\site-packages\\ultralytics\\utils\\metrics.py:428: UserWarning: Glyph 24613 (\\N{CJK UNIFIED IDEOGRAPH-6025}) missing from current font.\n",
      "  fig.savefig(plot_fname, dpi=250)\n",
      "D:\\code\\env\\anaconda\\envs\\mhy-yolo\\Lib\\site-packages\\ultralytics\\utils\\metrics.py:428: UserWarning: Glyph 25764 (\\N{CJK UNIFIED IDEOGRAPH-64A4}) missing from current font.\n",
      "  fig.savefig(plot_fname, dpi=250)\n",
      "D:\\code\\env\\anaconda\\envs\\mhy-yolo\\Lib\\site-packages\\ultralytics\\utils\\metrics.py:428: UserWarning: Glyph 31163 (\\N{CJK UNIFIED IDEOGRAPH-79BB}) missing from current font.\n",
      "  fig.savefig(plot_fname, dpi=250)\n",
      "D:\\code\\env\\anaconda\\envs\\mhy-yolo\\Lib\\site-packages\\ultralytics\\utils\\metrics.py:428: UserWarning: Glyph 38450 (\\N{CJK UNIFIED IDEOGRAPH-9632}) missing from current font.\n",
      "  fig.savefig(plot_fname, dpi=250)\n",
      "D:\\code\\env\\anaconda\\envs\\mhy-yolo\\Lib\\site-packages\\ultralytics\\utils\\metrics.py:428: UserWarning: Glyph 21355 (\\N{CJK UNIFIED IDEOGRAPH-536B}) missing from current font.\n",
      "  fig.savefig(plot_fname, dpi=250)\n",
      "D:\\code\\env\\anaconda\\envs\\mhy-yolo\\Lib\\site-packages\\ultralytics\\utils\\metrics.py:428: UserWarning: Glyph 20891 (\\N{CJK UNIFIED IDEOGRAPH-519B}) missing from current font.\n",
      "  fig.savefig(plot_fname, dpi=250)\n",
      "D:\\code\\env\\anaconda\\envs\\mhy-yolo\\Lib\\site-packages\\ultralytics\\utils\\metrics.py:428: UserWarning: Glyph 21518 (\\N{CJK UNIFIED IDEOGRAPH-540E}) missing from current font.\n",
      "  fig.savefig(plot_fname, dpi=250)\n",
      "D:\\code\\env\\anaconda\\envs\\mhy-yolo\\Lib\\site-packages\\ultralytics\\utils\\metrics.py:428: UserWarning: Glyph 21220 (\\N{CJK UNIFIED IDEOGRAPH-52E4}) missing from current font.\n",
      "  fig.savefig(plot_fname, dpi=250)\n",
      "D:\\code\\env\\anaconda\\envs\\mhy-yolo\\Lib\\site-packages\\ultralytics\\utils\\metrics.py:428: UserWarning: Glyph 29579 (\\N{CJK UNIFIED IDEOGRAPH-738B}) missing from current font.\n",
      "  fig.savefig(plot_fname, dpi=250)\n",
      "D:\\code\\env\\anaconda\\envs\\mhy-yolo\\Lib\\site-packages\\ultralytics\\utils\\metrics.py:428: UserWarning: Glyph 29260 (\\N{CJK UNIFIED IDEOGRAPH-724C}) missing from current font.\n",
      "  fig.savefig(plot_fname, dpi=250)\n",
      "D:\\code\\env\\anaconda\\envs\\mhy-yolo\\Lib\\site-packages\\ultralytics\\utils\\metrics.py:428: UserWarning: Glyph 26410 (\\N{CJK UNIFIED IDEOGRAPH-672A}) missing from current font.\n",
      "  fig.savefig(plot_fname, dpi=250)\n",
      "D:\\code\\env\\anaconda\\envs\\mhy-yolo\\Lib\\site-packages\\ultralytics\\utils\\metrics.py:428: UserWarning: Glyph 30693 (\\N{CJK UNIFIED IDEOGRAPH-77E5}) missing from current font.\n",
      "  fig.savefig(plot_fname, dpi=250)\n",
      "D:\\code\\env\\anaconda\\envs\\mhy-yolo\\Lib\\site-packages\\ultralytics\\utils\\metrics.py:428: UserWarning: Glyph 29983 (\\N{CJK UNIFIED IDEOGRAPH-751F}) missing from current font.\n",
      "  fig.savefig(plot_fname, dpi=250)\n",
      "D:\\code\\env\\anaconda\\envs\\mhy-yolo\\Lib\\site-packages\\ultralytics\\utils\\metrics.py:428: UserWarning: Glyph 38646 (\\N{CJK UNIFIED IDEOGRAPH-96F6}) missing from current font.\n",
      "  fig.savefig(plot_fname, dpi=250)\n",
      "D:\\code\\env\\anaconda\\envs\\mhy-yolo\\Lib\\site-packages\\ultralytics\\utils\\metrics.py:428: UserWarning: Glyph 38134 (\\N{CJK UNIFIED IDEOGRAPH-94F6}) missing from current font.\n",
      "  fig.savefig(plot_fname, dpi=250)\n",
      "D:\\code\\env\\anaconda\\envs\\mhy-yolo\\Lib\\site-packages\\ultralytics\\utils\\metrics.py:428: UserWarning: Glyph 34892 (\\N{CJK UNIFIED IDEOGRAPH-884C}) missing from current font.\n",
      "  fig.savefig(plot_fname, dpi=250)\n",
      "D:\\code\\env\\anaconda\\envs\\mhy-yolo\\Lib\\site-packages\\ultralytics\\utils\\metrics.py:428: UserWarning: Glyph 25928 (\\N{CJK UNIFIED IDEOGRAPH-6548}) missing from current font.\n",
      "  fig.savefig(plot_fname, dpi=250)\n",
      "D:\\code\\env\\anaconda\\envs\\mhy-yolo\\Lib\\site-packages\\ultralytics\\utils\\metrics.py:428: UserWarning: Glyph 33410 (\\N{CJK UNIFIED IDEOGRAPH-8282}) missing from current font.\n",
      "  fig.savefig(plot_fname, dpi=250)\n",
      "D:\\code\\env\\anaconda\\envs\\mhy-yolo\\Lib\\site-packages\\ultralytics\\utils\\metrics.py:428: UserWarning: Glyph 36164 (\\N{CJK UNIFIED IDEOGRAPH-8D44}) missing from current font.\n",
      "  fig.savefig(plot_fname, dpi=250)\n",
      "D:\\code\\env\\anaconda\\envs\\mhy-yolo\\Lib\\site-packages\\ultralytics\\utils\\metrics.py:428: UserWarning: Glyph 28304 (\\N{CJK UNIFIED IDEOGRAPH-6E90}) missing from current font.\n",
      "  fig.savefig(plot_fname, dpi=250)\n",
      "D:\\code\\env\\anaconda\\envs\\mhy-yolo\\Lib\\site-packages\\ultralytics\\utils\\metrics.py:428: UserWarning: Glyph 22238 (\\N{CJK UNIFIED IDEOGRAPH-56DE}) missing from current font.\n",
      "  fig.savefig(plot_fname, dpi=250)\n",
      "D:\\code\\env\\anaconda\\envs\\mhy-yolo\\Lib\\site-packages\\ultralytics\\utils\\metrics.py:428: UserWarning: Glyph 25910 (\\N{CJK UNIFIED IDEOGRAPH-6536}) missing from current font.\n",
      "  fig.savefig(plot_fname, dpi=250)\n",
      "D:\\code\\env\\anaconda\\envs\\mhy-yolo\\Lib\\site-packages\\ultralytics\\utils\\metrics.py:428: UserWarning: Glyph 32452 (\\N{CJK UNIFIED IDEOGRAPH-7EC4}) missing from current font.\n",
      "  fig.savefig(plot_fname, dpi=250)\n",
      "D:\\code\\env\\anaconda\\envs\\mhy-yolo\\Lib\\site-packages\\ultralytics\\utils\\metrics.py:428: UserWarning: Glyph 25353 (\\N{CJK UNIFIED IDEOGRAPH-6309}) missing from current font.\n",
      "  fig.savefig(plot_fname, dpi=250)\n",
      "D:\\code\\env\\anaconda\\envs\\mhy-yolo\\Lib\\site-packages\\ultralytics\\utils\\metrics.py:428: UserWarning: Glyph 21387 (\\N{CJK UNIFIED IDEOGRAPH-538B}) missing from current font.\n",
      "  fig.savefig(plot_fname, dpi=250)\n",
      "D:\\code\\env\\anaconda\\envs\\mhy-yolo\\Lib\\site-packages\\ultralytics\\utils\\metrics.py:428: UserWarning: Glyph 24335 (\\N{CJK UNIFIED IDEOGRAPH-5F0F}) missing from current font.\n",
      "  fig.savefig(plot_fname, dpi=250)\n",
      "D:\\code\\env\\anaconda\\envs\\mhy-yolo\\Lib\\site-packages\\ultralytics\\utils\\metrics.py:428: UserWarning: Glyph 20851 (\\N{CJK UNIFIED IDEOGRAPH-5173}) missing from current font.\n",
      "  fig.savefig(plot_fname, dpi=250)\n",
      "D:\\code\\env\\anaconda\\envs\\mhy-yolo\\Lib\\site-packages\\ultralytics\\utils\\metrics.py:428: UserWarning: Glyph 24377 (\\N{CJK UNIFIED IDEOGRAPH-5F39}) missing from current font.\n",
      "  fig.savefig(plot_fname, dpi=250)\n",
      "D:\\code\\env\\anaconda\\envs\\mhy-yolo\\Lib\\site-packages\\ultralytics\\utils\\metrics.py:428: UserWarning: Glyph 23556 (\\N{CJK UNIFIED IDEOGRAPH-5C04}) missing from current font.\n",
      "  fig.savefig(plot_fname, dpi=250)\n",
      "D:\\code\\env\\anaconda\\envs\\mhy-yolo\\Lib\\site-packages\\ultralytics\\utils\\metrics.py:428: UserWarning: Glyph 19978 (\\N{CJK UNIFIED IDEOGRAPH-4E0A}) missing from current font.\n",
      "  fig.savefig(plot_fname, dpi=250)\n",
      "D:\\code\\env\\anaconda\\envs\\mhy-yolo\\Lib\\site-packages\\ultralytics\\utils\\metrics.py:428: UserWarning: Glyph 36712 (\\N{CJK UNIFIED IDEOGRAPH-8F68}) missing from current font.\n",
      "  fig.savefig(plot_fname, dpi=250)\n",
      "D:\\code\\env\\anaconda\\envs\\mhy-yolo\\Lib\\site-packages\\ultralytics\\utils\\metrics.py:428: UserWarning: Glyph 21516 (\\N{CJK UNIFIED IDEOGRAPH-540C}) missing from current font.\n",
      "  fig.savefig(plot_fname, dpi=250)\n",
      "D:\\code\\env\\anaconda\\envs\\mhy-yolo\\Lib\\site-packages\\ultralytics\\utils\\metrics.py:428: UserWarning: Glyph 20276 (\\N{CJK UNIFIED IDEOGRAPH-4F34}) missing from current font.\n",
      "  fig.savefig(plot_fname, dpi=250)\n",
      "D:\\code\\env\\anaconda\\envs\\mhy-yolo\\Lib\\site-packages\\ultralytics\\utils\\metrics.py:428: UserWarning: Glyph 19979 (\\N{CJK UNIFIED IDEOGRAPH-4E0B}) missing from current font.\n",
      "  fig.savefig(plot_fname, dpi=250)\n",
      "D:\\code\\env\\anaconda\\envs\\mhy-yolo\\Lib\\site-packages\\ultralytics\\utils\\metrics.py:428: UserWarning: Glyph 24038 (\\N{CJK UNIFIED IDEOGRAPH-5DE6}) missing from current font.\n",
      "  fig.savefig(plot_fname, dpi=250)\n",
      "D:\\code\\env\\anaconda\\envs\\mhy-yolo\\Lib\\site-packages\\ultralytics\\utils\\metrics.py:428: UserWarning: Glyph 21491 (\\N{CJK UNIFIED IDEOGRAPH-53F3}) missing from current font.\n",
      "  fig.savefig(plot_fname, dpi=250)\n",
      "D:\\code\\env\\anaconda\\envs\\mhy-yolo\\Lib\\site-packages\\ultralytics\\utils\\metrics.py:428: UserWarning: Glyph 25151 (\\N{CJK UNIFIED IDEOGRAPH-623F}) missing from current font.\n",
      "  fig.savefig(plot_fname, dpi=250)\n",
      "D:\\code\\env\\anaconda\\envs\\mhy-yolo\\Lib\\site-packages\\ultralytics\\utils\\metrics.py:428: UserWarning: Glyph 23627 (\\N{CJK UNIFIED IDEOGRAPH-5C4B}) missing from current font.\n",
      "  fig.savefig(plot_fname, dpi=250)\n",
      "D:\\code\\env\\anaconda\\envs\\mhy-yolo\\Lib\\site-packages\\ultralytics\\utils\\metrics.py:428: UserWarning: Glyph 39608 (\\N{CJK UNIFIED IDEOGRAPH-9AB8}) missing from current font.\n",
      "  fig.savefig(plot_fname, dpi=250)\n",
      "D:\\code\\env\\anaconda\\envs\\mhy-yolo\\Lib\\site-packages\\ultralytics\\utils\\metrics.py:428: UserWarning: Glyph 30005 (\\N{CJK UNIFIED IDEOGRAPH-7535}) missing from current font.\n",
      "  fig.savefig(plot_fname, dpi=250)\n",
      "D:\\code\\env\\anaconda\\envs\\mhy-yolo\\Lib\\site-packages\\ultralytics\\utils\\metrics.py:428: UserWarning: Glyph 35270 (\\N{CJK UNIFIED IDEOGRAPH-89C6}) missing from current font.\n",
      "  fig.savefig(plot_fname, dpi=250)\n",
      "D:\\code\\env\\anaconda\\envs\\mhy-yolo\\Lib\\site-packages\\ultralytics\\utils\\metrics.py:428: UserWarning: Glyph 24213 (\\N{CJK UNIFIED IDEOGRAPH-5E95}) missing from current font.\n",
      "  fig.savefig(plot_fname, dpi=250)\n",
      "D:\\code\\env\\anaconda\\envs\\mhy-yolo\\Lib\\site-packages\\ultralytics\\utils\\metrics.py:428: UserWarning: Glyph 24231 (\\N{CJK UNIFIED IDEOGRAPH-5EA7}) missing from current font.\n",
      "  fig.savefig(plot_fname, dpi=250)\n",
      "D:\\code\\env\\anaconda\\envs\\mhy-yolo\\Lib\\site-packages\\ultralytics\\utils\\metrics.py:428: UserWarning: Glyph 32511 (\\N{CJK UNIFIED IDEOGRAPH-7EFF}) missing from current font.\n",
      "  fig.savefig(plot_fname, dpi=250)\n",
      "D:\\code\\env\\anaconda\\envs\\mhy-yolo\\Lib\\site-packages\\ultralytics\\utils\\metrics.py:428: UserWarning: Glyph 32418 (\\N{CJK UNIFIED IDEOGRAPH-7EA2}) missing from current font.\n",
      "  fig.savefig(plot_fname, dpi=250)\n",
      "D:\\code\\env\\anaconda\\envs\\mhy-yolo\\Lib\\site-packages\\ultralytics\\utils\\metrics.py:428: UserWarning: Glyph 22823 (\\N{CJK UNIFIED IDEOGRAPH-5927}) missing from current font.\n",
      "  fig.savefig(plot_fname, dpi=250)\n",
      "D:\\code\\env\\anaconda\\envs\\mhy-yolo\\Lib\\site-packages\\ultralytics\\utils\\metrics.py:428: UserWarning: Glyph 24403 (\\N{CJK UNIFIED IDEOGRAPH-5F53}) missing from current font.\n",
      "  fig.savefig(plot_fname, dpi=250)\n",
      "D:\\code\\env\\anaconda\\envs\\mhy-yolo\\Lib\\site-packages\\ultralytics\\utils\\metrics.py:428: UserWarning: Glyph 21069 (\\N{CJK UNIFIED IDEOGRAPH-524D}) missing from current font.\n",
      "  fig.savefig(plot_fname, dpi=250)\n",
      "D:\\code\\env\\anaconda\\envs\\mhy-yolo\\Lib\\site-packages\\ultralytics\\utils\\metrics.py:428: UserWarning: Glyph 31354 (\\N{CJK UNIFIED IDEOGRAPH-7A7A}) missing from current font.\n",
      "  fig.savefig(plot_fname, dpi=250)\n",
      "D:\\code\\env\\anaconda\\envs\\mhy-yolo\\Lib\\site-packages\\ultralytics\\utils\\metrics.py:428: UserWarning: Glyph 30333 (\\N{CJK UNIFIED IDEOGRAPH-767D}) missing from current font.\n",
      "  fig.savefig(plot_fname, dpi=250)\n",
      "D:\\code\\env\\anaconda\\envs\\mhy-yolo\\Lib\\site-packages\\ultralytics\\utils\\metrics.py:428: UserWarning: Glyph 24050 (\\N{CJK UNIFIED IDEOGRAPH-5DF2}) missing from current font.\n",
      "  fig.savefig(plot_fname, dpi=250)\n"
     ]
    },
    {
     "name": "stdout",
     "output_type": "stream",
     "text": [
      "Speed: 0.6ms preprocess, 10.3ms inference, 0.0ms loss, 0.7ms postprocess per image\n",
      "Results saved to \u001b[1mD:\\code\\workspace\\OneDragon-YOLO\\ultralytics\\runs\\zzz_hollow_event_2208\\yolov8x-640\u001b[0m\n"
     ]
    },
    {
     "data": {
      "text/plain": [
       "ultralytics.utils.metrics.DetMetrics object with attributes:\n",
       "\n",
       "ap_class_index: array([ 0,  1,  2,  3,  4,  5,  6,  7,  9, 10, 11, 12, 13, 14, 15, 16, 17, 19, 20, 21, 22, 23, 24, 25, 26, 27, 28, 29, 30, 31, 32, 33, 34, 35, 36, 37, 38, 40, 41, 42, 45, 46, 47, 48, 49, 51, 52, 53, 54, 55, 58, 59, 63, 64, 65, 66, 67, 68, 69, 70, 71, 72])\n",
       "box: ultralytics.utils.metrics.Metric object\n",
       "confusion_matrix: <ultralytics.utils.metrics.ConfusionMatrix object at 0x0000021ADCA5CF10>\n",
       "curves: ['Precision-Recall(B)', 'F1-Confidence(B)', 'Precision-Confidence(B)', 'Recall-Confidence(B)']\n",
       "curves_results: [[array([          0,    0.001001,    0.002002,    0.003003,    0.004004,    0.005005,    0.006006,    0.007007,    0.008008,    0.009009,     0.01001,    0.011011,    0.012012,    0.013013,    0.014014,    0.015015,    0.016016,    0.017017,    0.018018,    0.019019,     0.02002,    0.021021,    0.022022,    0.023023,\n",
       "          0.024024,    0.025025,    0.026026,    0.027027,    0.028028,    0.029029,     0.03003,    0.031031,    0.032032,    0.033033,    0.034034,    0.035035,    0.036036,    0.037037,    0.038038,    0.039039,     0.04004,    0.041041,    0.042042,    0.043043,    0.044044,    0.045045,    0.046046,    0.047047,\n",
       "          0.048048,    0.049049,     0.05005,    0.051051,    0.052052,    0.053053,    0.054054,    0.055055,    0.056056,    0.057057,    0.058058,    0.059059,     0.06006,    0.061061,    0.062062,    0.063063,    0.064064,    0.065065,    0.066066,    0.067067,    0.068068,    0.069069,     0.07007,    0.071071,\n",
       "          0.072072,    0.073073,    0.074074,    0.075075,    0.076076,    0.077077,    0.078078,    0.079079,     0.08008,    0.081081,    0.082082,    0.083083,    0.084084,    0.085085,    0.086086,    0.087087,    0.088088,    0.089089,     0.09009,    0.091091,    0.092092,    0.093093,    0.094094,    0.095095,\n",
       "          0.096096,    0.097097,    0.098098,    0.099099,      0.1001,      0.1011,      0.1021,      0.1031,      0.1041,     0.10511,     0.10611,     0.10711,     0.10811,     0.10911,     0.11011,     0.11111,     0.11211,     0.11311,     0.11411,     0.11512,     0.11612,     0.11712,     0.11812,     0.11912,\n",
       "           0.12012,     0.12112,     0.12212,     0.12312,     0.12412,     0.12513,     0.12613,     0.12713,     0.12813,     0.12913,     0.13013,     0.13113,     0.13213,     0.13313,     0.13413,     0.13514,     0.13614,     0.13714,     0.13814,     0.13914,     0.14014,     0.14114,     0.14214,     0.14314,\n",
       "           0.14414,     0.14515,     0.14615,     0.14715,     0.14815,     0.14915,     0.15015,     0.15115,     0.15215,     0.15315,     0.15415,     0.15516,     0.15616,     0.15716,     0.15816,     0.15916,     0.16016,     0.16116,     0.16216,     0.16316,     0.16416,     0.16517,     0.16617,     0.16717,\n",
       "           0.16817,     0.16917,     0.17017,     0.17117,     0.17217,     0.17317,     0.17417,     0.17518,     0.17618,     0.17718,     0.17818,     0.17918,     0.18018,     0.18118,     0.18218,     0.18318,     0.18418,     0.18519,     0.18619,     0.18719,     0.18819,     0.18919,     0.19019,     0.19119,\n",
       "           0.19219,     0.19319,     0.19419,      0.1952,      0.1962,      0.1972,      0.1982,      0.1992,      0.2002,      0.2012,      0.2022,      0.2032,      0.2042,     0.20521,     0.20621,     0.20721,     0.20821,     0.20921,     0.21021,     0.21121,     0.21221,     0.21321,     0.21421,     0.21522,\n",
       "           0.21622,     0.21722,     0.21822,     0.21922,     0.22022,     0.22122,     0.22222,     0.22322,     0.22422,     0.22523,     0.22623,     0.22723,     0.22823,     0.22923,     0.23023,     0.23123,     0.23223,     0.23323,     0.23423,     0.23524,     0.23624,     0.23724,     0.23824,     0.23924,\n",
       "           0.24024,     0.24124,     0.24224,     0.24324,     0.24424,     0.24525,     0.24625,     0.24725,     0.24825,     0.24925,     0.25025,     0.25125,     0.25225,     0.25325,     0.25425,     0.25526,     0.25626,     0.25726,     0.25826,     0.25926,     0.26026,     0.26126,     0.26226,     0.26326,\n",
       "           0.26426,     0.26527,     0.26627,     0.26727,     0.26827,     0.26927,     0.27027,     0.27127,     0.27227,     0.27327,     0.27427,     0.27528,     0.27628,     0.27728,     0.27828,     0.27928,     0.28028,     0.28128,     0.28228,     0.28328,     0.28428,     0.28529,     0.28629,     0.28729,\n",
       "           0.28829,     0.28929,     0.29029,     0.29129,     0.29229,     0.29329,     0.29429,      0.2953,      0.2963,      0.2973,      0.2983,      0.2993,      0.3003,      0.3013,      0.3023,      0.3033,      0.3043,     0.30531,     0.30631,     0.30731,     0.30831,     0.30931,     0.31031,     0.31131,\n",
       "           0.31231,     0.31331,     0.31431,     0.31532,     0.31632,     0.31732,     0.31832,     0.31932,     0.32032,     0.32132,     0.32232,     0.32332,     0.32432,     0.32533,     0.32633,     0.32733,     0.32833,     0.32933,     0.33033,     0.33133,     0.33233,     0.33333,     0.33433,     0.33534,\n",
       "           0.33634,     0.33734,     0.33834,     0.33934,     0.34034,     0.34134,     0.34234,     0.34334,     0.34434,     0.34535,     0.34635,     0.34735,     0.34835,     0.34935,     0.35035,     0.35135,     0.35235,     0.35335,     0.35435,     0.35536,     0.35636,     0.35736,     0.35836,     0.35936,\n",
       "           0.36036,     0.36136,     0.36236,     0.36336,     0.36436,     0.36537,     0.36637,     0.36737,     0.36837,     0.36937,     0.37037,     0.37137,     0.37237,     0.37337,     0.37437,     0.37538,     0.37638,     0.37738,     0.37838,     0.37938,     0.38038,     0.38138,     0.38238,     0.38338,\n",
       "           0.38438,     0.38539,     0.38639,     0.38739,     0.38839,     0.38939,     0.39039,     0.39139,     0.39239,     0.39339,     0.39439,      0.3954,      0.3964,      0.3974,      0.3984,      0.3994,      0.4004,      0.4014,      0.4024,      0.4034,      0.4044,     0.40541,     0.40641,     0.40741,\n",
       "           0.40841,     0.40941,     0.41041,     0.41141,     0.41241,     0.41341,     0.41441,     0.41542,     0.41642,     0.41742,     0.41842,     0.41942,     0.42042,     0.42142,     0.42242,     0.42342,     0.42442,     0.42543,     0.42643,     0.42743,     0.42843,     0.42943,     0.43043,     0.43143,\n",
       "           0.43243,     0.43343,     0.43443,     0.43544,     0.43644,     0.43744,     0.43844,     0.43944,     0.44044,     0.44144,     0.44244,     0.44344,     0.44444,     0.44545,     0.44645,     0.44745,     0.44845,     0.44945,     0.45045,     0.45145,     0.45245,     0.45345,     0.45445,     0.45546,\n",
       "           0.45646,     0.45746,     0.45846,     0.45946,     0.46046,     0.46146,     0.46246,     0.46346,     0.46446,     0.46547,     0.46647,     0.46747,     0.46847,     0.46947,     0.47047,     0.47147,     0.47247,     0.47347,     0.47447,     0.47548,     0.47648,     0.47748,     0.47848,     0.47948,\n",
       "           0.48048,     0.48148,     0.48248,     0.48348,     0.48448,     0.48549,     0.48649,     0.48749,     0.48849,     0.48949,     0.49049,     0.49149,     0.49249,     0.49349,     0.49449,      0.4955,      0.4965,      0.4975,      0.4985,      0.4995,      0.5005,      0.5015,      0.5025,      0.5035,\n",
       "            0.5045,     0.50551,     0.50651,     0.50751,     0.50851,     0.50951,     0.51051,     0.51151,     0.51251,     0.51351,     0.51451,     0.51552,     0.51652,     0.51752,     0.51852,     0.51952,     0.52052,     0.52152,     0.52252,     0.52352,     0.52452,     0.52553,     0.52653,     0.52753,\n",
       "           0.52853,     0.52953,     0.53053,     0.53153,     0.53253,     0.53353,     0.53453,     0.53554,     0.53654,     0.53754,     0.53854,     0.53954,     0.54054,     0.54154,     0.54254,     0.54354,     0.54454,     0.54555,     0.54655,     0.54755,     0.54855,     0.54955,     0.55055,     0.55155,\n",
       "           0.55255,     0.55355,     0.55455,     0.55556,     0.55656,     0.55756,     0.55856,     0.55956,     0.56056,     0.56156,     0.56256,     0.56356,     0.56456,     0.56557,     0.56657,     0.56757,     0.56857,     0.56957,     0.57057,     0.57157,     0.57257,     0.57357,     0.57457,     0.57558,\n",
       "           0.57658,     0.57758,     0.57858,     0.57958,     0.58058,     0.58158,     0.58258,     0.58358,     0.58458,     0.58559,     0.58659,     0.58759,     0.58859,     0.58959,     0.59059,     0.59159,     0.59259,     0.59359,     0.59459,      0.5956,      0.5966,      0.5976,      0.5986,      0.5996,\n",
       "            0.6006,      0.6016,      0.6026,      0.6036,      0.6046,     0.60561,     0.60661,     0.60761,     0.60861,     0.60961,     0.61061,     0.61161,     0.61261,     0.61361,     0.61461,     0.61562,     0.61662,     0.61762,     0.61862,     0.61962,     0.62062,     0.62162,     0.62262,     0.62362,\n",
       "           0.62462,     0.62563,     0.62663,     0.62763,     0.62863,     0.62963,     0.63063,     0.63163,     0.63263,     0.63363,     0.63463,     0.63564,     0.63664,     0.63764,     0.63864,     0.63964,     0.64064,     0.64164,     0.64264,     0.64364,     0.64464,     0.64565,     0.64665,     0.64765,\n",
       "           0.64865,     0.64965,     0.65065,     0.65165,     0.65265,     0.65365,     0.65465,     0.65566,     0.65666,     0.65766,     0.65866,     0.65966,     0.66066,     0.66166,     0.66266,     0.66366,     0.66466,     0.66567,     0.66667,     0.66767,     0.66867,     0.66967,     0.67067,     0.67167,\n",
       "           0.67267,     0.67367,     0.67467,     0.67568,     0.67668,     0.67768,     0.67868,     0.67968,     0.68068,     0.68168,     0.68268,     0.68368,     0.68468,     0.68569,     0.68669,     0.68769,     0.68869,     0.68969,     0.69069,     0.69169,     0.69269,     0.69369,     0.69469,      0.6957,\n",
       "            0.6967,      0.6977,      0.6987,      0.6997,      0.7007,      0.7017,      0.7027,      0.7037,      0.7047,     0.70571,     0.70671,     0.70771,     0.70871,     0.70971,     0.71071,     0.71171,     0.71271,     0.71371,     0.71471,     0.71572,     0.71672,     0.71772,     0.71872,     0.71972,\n",
       "           0.72072,     0.72172,     0.72272,     0.72372,     0.72472,     0.72573,     0.72673,     0.72773,     0.72873,     0.72973,     0.73073,     0.73173,     0.73273,     0.73373,     0.73473,     0.73574,     0.73674,     0.73774,     0.73874,     0.73974,     0.74074,     0.74174,     0.74274,     0.74374,\n",
       "           0.74474,     0.74575,     0.74675,     0.74775,     0.74875,     0.74975,     0.75075,     0.75175,     0.75275,     0.75375,     0.75475,     0.75576,     0.75676,     0.75776,     0.75876,     0.75976,     0.76076,     0.76176,     0.76276,     0.76376,     0.76476,     0.76577,     0.76677,     0.76777,\n",
       "           0.76877,     0.76977,     0.77077,     0.77177,     0.77277,     0.77377,     0.77477,     0.77578,     0.77678,     0.77778,     0.77878,     0.77978,     0.78078,     0.78178,     0.78278,     0.78378,     0.78478,     0.78579,     0.78679,     0.78779,     0.78879,     0.78979,     0.79079,     0.79179,\n",
       "           0.79279,     0.79379,     0.79479,      0.7958,      0.7968,      0.7978,      0.7988,      0.7998,      0.8008,      0.8018,      0.8028,      0.8038,      0.8048,     0.80581,     0.80681,     0.80781,     0.80881,     0.80981,     0.81081,     0.81181,     0.81281,     0.81381,     0.81481,     0.81582,\n",
       "           0.81682,     0.81782,     0.81882,     0.81982,     0.82082,     0.82182,     0.82282,     0.82382,     0.82482,     0.82583,     0.82683,     0.82783,     0.82883,     0.82983,     0.83083,     0.83183,     0.83283,     0.83383,     0.83483,     0.83584,     0.83684,     0.83784,     0.83884,     0.83984,\n",
       "           0.84084,     0.84184,     0.84284,     0.84384,     0.84484,     0.84585,     0.84685,     0.84785,     0.84885,     0.84985,     0.85085,     0.85185,     0.85285,     0.85385,     0.85485,     0.85586,     0.85686,     0.85786,     0.85886,     0.85986,     0.86086,     0.86186,     0.86286,     0.86386,\n",
       "           0.86486,     0.86587,     0.86687,     0.86787,     0.86887,     0.86987,     0.87087,     0.87187,     0.87287,     0.87387,     0.87487,     0.87588,     0.87688,     0.87788,     0.87888,     0.87988,     0.88088,     0.88188,     0.88288,     0.88388,     0.88488,     0.88589,     0.88689,     0.88789,\n",
       "           0.88889,     0.88989,     0.89089,     0.89189,     0.89289,     0.89389,     0.89489,      0.8959,      0.8969,      0.8979,      0.8989,      0.8999,      0.9009,      0.9019,      0.9029,      0.9039,      0.9049,     0.90591,     0.90691,     0.90791,     0.90891,     0.90991,     0.91091,     0.91191,\n",
       "           0.91291,     0.91391,     0.91491,     0.91592,     0.91692,     0.91792,     0.91892,     0.91992,     0.92092,     0.92192,     0.92292,     0.92392,     0.92492,     0.92593,     0.92693,     0.92793,     0.92893,     0.92993,     0.93093,     0.93193,     0.93293,     0.93393,     0.93493,     0.93594,\n",
       "           0.93694,     0.93794,     0.93894,     0.93994,     0.94094,     0.94194,     0.94294,     0.94394,     0.94494,     0.94595,     0.94695,     0.94795,     0.94895,     0.94995,     0.95095,     0.95195,     0.95295,     0.95395,     0.95495,     0.95596,     0.95696,     0.95796,     0.95896,     0.95996,\n",
       "           0.96096,     0.96196,     0.96296,     0.96396,     0.96496,     0.96597,     0.96697,     0.96797,     0.96897,     0.96997,     0.97097,     0.97197,     0.97297,     0.97397,     0.97497,     0.97598,     0.97698,     0.97798,     0.97898,     0.97998,     0.98098,     0.98198,     0.98298,     0.98398,\n",
       "           0.98498,     0.98599,     0.98699,     0.98799,     0.98899,     0.98999,     0.99099,     0.99199,     0.99299,     0.99399,     0.99499,       0.996,       0.997,       0.998,       0.999,           1]), array([[          1,           1,           1, ...,           1,           1,           0],\n",
       "       [          1,           1,           1, ...,           1,           1,           0],\n",
       "       [          1,           1,           1, ...,           1,           1,           0],\n",
       "       ...,\n",
       "       [          1,           1,           1, ...,     0.82683,     0.41341,           0],\n",
       "       [          1,           1,           1, ...,           1,           1,           0],\n",
       "       [          1,           1,           1, ...,           1,           1,           0]]), 'Recall', 'Precision'], [array([          0,    0.001001,    0.002002,    0.003003,    0.004004,    0.005005,    0.006006,    0.007007,    0.008008,    0.009009,     0.01001,    0.011011,    0.012012,    0.013013,    0.014014,    0.015015,    0.016016,    0.017017,    0.018018,    0.019019,     0.02002,    0.021021,    0.022022,    0.023023,\n",
       "          0.024024,    0.025025,    0.026026,    0.027027,    0.028028,    0.029029,     0.03003,    0.031031,    0.032032,    0.033033,    0.034034,    0.035035,    0.036036,    0.037037,    0.038038,    0.039039,     0.04004,    0.041041,    0.042042,    0.043043,    0.044044,    0.045045,    0.046046,    0.047047,\n",
       "          0.048048,    0.049049,     0.05005,    0.051051,    0.052052,    0.053053,    0.054054,    0.055055,    0.056056,    0.057057,    0.058058,    0.059059,     0.06006,    0.061061,    0.062062,    0.063063,    0.064064,    0.065065,    0.066066,    0.067067,    0.068068,    0.069069,     0.07007,    0.071071,\n",
       "          0.072072,    0.073073,    0.074074,    0.075075,    0.076076,    0.077077,    0.078078,    0.079079,     0.08008,    0.081081,    0.082082,    0.083083,    0.084084,    0.085085,    0.086086,    0.087087,    0.088088,    0.089089,     0.09009,    0.091091,    0.092092,    0.093093,    0.094094,    0.095095,\n",
       "          0.096096,    0.097097,    0.098098,    0.099099,      0.1001,      0.1011,      0.1021,      0.1031,      0.1041,     0.10511,     0.10611,     0.10711,     0.10811,     0.10911,     0.11011,     0.11111,     0.11211,     0.11311,     0.11411,     0.11512,     0.11612,     0.11712,     0.11812,     0.11912,\n",
       "           0.12012,     0.12112,     0.12212,     0.12312,     0.12412,     0.12513,     0.12613,     0.12713,     0.12813,     0.12913,     0.13013,     0.13113,     0.13213,     0.13313,     0.13413,     0.13514,     0.13614,     0.13714,     0.13814,     0.13914,     0.14014,     0.14114,     0.14214,     0.14314,\n",
       "           0.14414,     0.14515,     0.14615,     0.14715,     0.14815,     0.14915,     0.15015,     0.15115,     0.15215,     0.15315,     0.15415,     0.15516,     0.15616,     0.15716,     0.15816,     0.15916,     0.16016,     0.16116,     0.16216,     0.16316,     0.16416,     0.16517,     0.16617,     0.16717,\n",
       "           0.16817,     0.16917,     0.17017,     0.17117,     0.17217,     0.17317,     0.17417,     0.17518,     0.17618,     0.17718,     0.17818,     0.17918,     0.18018,     0.18118,     0.18218,     0.18318,     0.18418,     0.18519,     0.18619,     0.18719,     0.18819,     0.18919,     0.19019,     0.19119,\n",
       "           0.19219,     0.19319,     0.19419,      0.1952,      0.1962,      0.1972,      0.1982,      0.1992,      0.2002,      0.2012,      0.2022,      0.2032,      0.2042,     0.20521,     0.20621,     0.20721,     0.20821,     0.20921,     0.21021,     0.21121,     0.21221,     0.21321,     0.21421,     0.21522,\n",
       "           0.21622,     0.21722,     0.21822,     0.21922,     0.22022,     0.22122,     0.22222,     0.22322,     0.22422,     0.22523,     0.22623,     0.22723,     0.22823,     0.22923,     0.23023,     0.23123,     0.23223,     0.23323,     0.23423,     0.23524,     0.23624,     0.23724,     0.23824,     0.23924,\n",
       "           0.24024,     0.24124,     0.24224,     0.24324,     0.24424,     0.24525,     0.24625,     0.24725,     0.24825,     0.24925,     0.25025,     0.25125,     0.25225,     0.25325,     0.25425,     0.25526,     0.25626,     0.25726,     0.25826,     0.25926,     0.26026,     0.26126,     0.26226,     0.26326,\n",
       "           0.26426,     0.26527,     0.26627,     0.26727,     0.26827,     0.26927,     0.27027,     0.27127,     0.27227,     0.27327,     0.27427,     0.27528,     0.27628,     0.27728,     0.27828,     0.27928,     0.28028,     0.28128,     0.28228,     0.28328,     0.28428,     0.28529,     0.28629,     0.28729,\n",
       "           0.28829,     0.28929,     0.29029,     0.29129,     0.29229,     0.29329,     0.29429,      0.2953,      0.2963,      0.2973,      0.2983,      0.2993,      0.3003,      0.3013,      0.3023,      0.3033,      0.3043,     0.30531,     0.30631,     0.30731,     0.30831,     0.30931,     0.31031,     0.31131,\n",
       "           0.31231,     0.31331,     0.31431,     0.31532,     0.31632,     0.31732,     0.31832,     0.31932,     0.32032,     0.32132,     0.32232,     0.32332,     0.32432,     0.32533,     0.32633,     0.32733,     0.32833,     0.32933,     0.33033,     0.33133,     0.33233,     0.33333,     0.33433,     0.33534,\n",
       "           0.33634,     0.33734,     0.33834,     0.33934,     0.34034,     0.34134,     0.34234,     0.34334,     0.34434,     0.34535,     0.34635,     0.34735,     0.34835,     0.34935,     0.35035,     0.35135,     0.35235,     0.35335,     0.35435,     0.35536,     0.35636,     0.35736,     0.35836,     0.35936,\n",
       "           0.36036,     0.36136,     0.36236,     0.36336,     0.36436,     0.36537,     0.36637,     0.36737,     0.36837,     0.36937,     0.37037,     0.37137,     0.37237,     0.37337,     0.37437,     0.37538,     0.37638,     0.37738,     0.37838,     0.37938,     0.38038,     0.38138,     0.38238,     0.38338,\n",
       "           0.38438,     0.38539,     0.38639,     0.38739,     0.38839,     0.38939,     0.39039,     0.39139,     0.39239,     0.39339,     0.39439,      0.3954,      0.3964,      0.3974,      0.3984,      0.3994,      0.4004,      0.4014,      0.4024,      0.4034,      0.4044,     0.40541,     0.40641,     0.40741,\n",
       "           0.40841,     0.40941,     0.41041,     0.41141,     0.41241,     0.41341,     0.41441,     0.41542,     0.41642,     0.41742,     0.41842,     0.41942,     0.42042,     0.42142,     0.42242,     0.42342,     0.42442,     0.42543,     0.42643,     0.42743,     0.42843,     0.42943,     0.43043,     0.43143,\n",
       "           0.43243,     0.43343,     0.43443,     0.43544,     0.43644,     0.43744,     0.43844,     0.43944,     0.44044,     0.44144,     0.44244,     0.44344,     0.44444,     0.44545,     0.44645,     0.44745,     0.44845,     0.44945,     0.45045,     0.45145,     0.45245,     0.45345,     0.45445,     0.45546,\n",
       "           0.45646,     0.45746,     0.45846,     0.45946,     0.46046,     0.46146,     0.46246,     0.46346,     0.46446,     0.46547,     0.46647,     0.46747,     0.46847,     0.46947,     0.47047,     0.47147,     0.47247,     0.47347,     0.47447,     0.47548,     0.47648,     0.47748,     0.47848,     0.47948,\n",
       "           0.48048,     0.48148,     0.48248,     0.48348,     0.48448,     0.48549,     0.48649,     0.48749,     0.48849,     0.48949,     0.49049,     0.49149,     0.49249,     0.49349,     0.49449,      0.4955,      0.4965,      0.4975,      0.4985,      0.4995,      0.5005,      0.5015,      0.5025,      0.5035,\n",
       "            0.5045,     0.50551,     0.50651,     0.50751,     0.50851,     0.50951,     0.51051,     0.51151,     0.51251,     0.51351,     0.51451,     0.51552,     0.51652,     0.51752,     0.51852,     0.51952,     0.52052,     0.52152,     0.52252,     0.52352,     0.52452,     0.52553,     0.52653,     0.52753,\n",
       "           0.52853,     0.52953,     0.53053,     0.53153,     0.53253,     0.53353,     0.53453,     0.53554,     0.53654,     0.53754,     0.53854,     0.53954,     0.54054,     0.54154,     0.54254,     0.54354,     0.54454,     0.54555,     0.54655,     0.54755,     0.54855,     0.54955,     0.55055,     0.55155,\n",
       "           0.55255,     0.55355,     0.55455,     0.55556,     0.55656,     0.55756,     0.55856,     0.55956,     0.56056,     0.56156,     0.56256,     0.56356,     0.56456,     0.56557,     0.56657,     0.56757,     0.56857,     0.56957,     0.57057,     0.57157,     0.57257,     0.57357,     0.57457,     0.57558,\n",
       "           0.57658,     0.57758,     0.57858,     0.57958,     0.58058,     0.58158,     0.58258,     0.58358,     0.58458,     0.58559,     0.58659,     0.58759,     0.58859,     0.58959,     0.59059,     0.59159,     0.59259,     0.59359,     0.59459,      0.5956,      0.5966,      0.5976,      0.5986,      0.5996,\n",
       "            0.6006,      0.6016,      0.6026,      0.6036,      0.6046,     0.60561,     0.60661,     0.60761,     0.60861,     0.60961,     0.61061,     0.61161,     0.61261,     0.61361,     0.61461,     0.61562,     0.61662,     0.61762,     0.61862,     0.61962,     0.62062,     0.62162,     0.62262,     0.62362,\n",
       "           0.62462,     0.62563,     0.62663,     0.62763,     0.62863,     0.62963,     0.63063,     0.63163,     0.63263,     0.63363,     0.63463,     0.63564,     0.63664,     0.63764,     0.63864,     0.63964,     0.64064,     0.64164,     0.64264,     0.64364,     0.64464,     0.64565,     0.64665,     0.64765,\n",
       "           0.64865,     0.64965,     0.65065,     0.65165,     0.65265,     0.65365,     0.65465,     0.65566,     0.65666,     0.65766,     0.65866,     0.65966,     0.66066,     0.66166,     0.66266,     0.66366,     0.66466,     0.66567,     0.66667,     0.66767,     0.66867,     0.66967,     0.67067,     0.67167,\n",
       "           0.67267,     0.67367,     0.67467,     0.67568,     0.67668,     0.67768,     0.67868,     0.67968,     0.68068,     0.68168,     0.68268,     0.68368,     0.68468,     0.68569,     0.68669,     0.68769,     0.68869,     0.68969,     0.69069,     0.69169,     0.69269,     0.69369,     0.69469,      0.6957,\n",
       "            0.6967,      0.6977,      0.6987,      0.6997,      0.7007,      0.7017,      0.7027,      0.7037,      0.7047,     0.70571,     0.70671,     0.70771,     0.70871,     0.70971,     0.71071,     0.71171,     0.71271,     0.71371,     0.71471,     0.71572,     0.71672,     0.71772,     0.71872,     0.71972,\n",
       "           0.72072,     0.72172,     0.72272,     0.72372,     0.72472,     0.72573,     0.72673,     0.72773,     0.72873,     0.72973,     0.73073,     0.73173,     0.73273,     0.73373,     0.73473,     0.73574,     0.73674,     0.73774,     0.73874,     0.73974,     0.74074,     0.74174,     0.74274,     0.74374,\n",
       "           0.74474,     0.74575,     0.74675,     0.74775,     0.74875,     0.74975,     0.75075,     0.75175,     0.75275,     0.75375,     0.75475,     0.75576,     0.75676,     0.75776,     0.75876,     0.75976,     0.76076,     0.76176,     0.76276,     0.76376,     0.76476,     0.76577,     0.76677,     0.76777,\n",
       "           0.76877,     0.76977,     0.77077,     0.77177,     0.77277,     0.77377,     0.77477,     0.77578,     0.77678,     0.77778,     0.77878,     0.77978,     0.78078,     0.78178,     0.78278,     0.78378,     0.78478,     0.78579,     0.78679,     0.78779,     0.78879,     0.78979,     0.79079,     0.79179,\n",
       "           0.79279,     0.79379,     0.79479,      0.7958,      0.7968,      0.7978,      0.7988,      0.7998,      0.8008,      0.8018,      0.8028,      0.8038,      0.8048,     0.80581,     0.80681,     0.80781,     0.80881,     0.80981,     0.81081,     0.81181,     0.81281,     0.81381,     0.81481,     0.81582,\n",
       "           0.81682,     0.81782,     0.81882,     0.81982,     0.82082,     0.82182,     0.82282,     0.82382,     0.82482,     0.82583,     0.82683,     0.82783,     0.82883,     0.82983,     0.83083,     0.83183,     0.83283,     0.83383,     0.83483,     0.83584,     0.83684,     0.83784,     0.83884,     0.83984,\n",
       "           0.84084,     0.84184,     0.84284,     0.84384,     0.84484,     0.84585,     0.84685,     0.84785,     0.84885,     0.84985,     0.85085,     0.85185,     0.85285,     0.85385,     0.85485,     0.85586,     0.85686,     0.85786,     0.85886,     0.85986,     0.86086,     0.86186,     0.86286,     0.86386,\n",
       "           0.86486,     0.86587,     0.86687,     0.86787,     0.86887,     0.86987,     0.87087,     0.87187,     0.87287,     0.87387,     0.87487,     0.87588,     0.87688,     0.87788,     0.87888,     0.87988,     0.88088,     0.88188,     0.88288,     0.88388,     0.88488,     0.88589,     0.88689,     0.88789,\n",
       "           0.88889,     0.88989,     0.89089,     0.89189,     0.89289,     0.89389,     0.89489,      0.8959,      0.8969,      0.8979,      0.8989,      0.8999,      0.9009,      0.9019,      0.9029,      0.9039,      0.9049,     0.90591,     0.90691,     0.90791,     0.90891,     0.90991,     0.91091,     0.91191,\n",
       "           0.91291,     0.91391,     0.91491,     0.91592,     0.91692,     0.91792,     0.91892,     0.91992,     0.92092,     0.92192,     0.92292,     0.92392,     0.92492,     0.92593,     0.92693,     0.92793,     0.92893,     0.92993,     0.93093,     0.93193,     0.93293,     0.93393,     0.93493,     0.93594,\n",
       "           0.93694,     0.93794,     0.93894,     0.93994,     0.94094,     0.94194,     0.94294,     0.94394,     0.94494,     0.94595,     0.94695,     0.94795,     0.94895,     0.94995,     0.95095,     0.95195,     0.95295,     0.95395,     0.95495,     0.95596,     0.95696,     0.95796,     0.95896,     0.95996,\n",
       "           0.96096,     0.96196,     0.96296,     0.96396,     0.96496,     0.96597,     0.96697,     0.96797,     0.96897,     0.96997,     0.97097,     0.97197,     0.97297,     0.97397,     0.97497,     0.97598,     0.97698,     0.97798,     0.97898,     0.97998,     0.98098,     0.98198,     0.98298,     0.98398,\n",
       "           0.98498,     0.98599,     0.98699,     0.98799,     0.98899,     0.98999,     0.99099,     0.99199,     0.99299,     0.99399,     0.99499,       0.996,       0.997,       0.998,       0.999,           1]), array([[    0.98039,     0.98039,     0.98041, ...,           0,           0,           0],\n",
       "       [    0.99858,     0.99858,     0.99858, ...,           0,           0,           0],\n",
       "       [    0.99773,     0.99773,     0.99773, ...,           0,           0,           0],\n",
       "       ...,\n",
       "       [    0.99758,     0.99758,     0.99759, ...,           0,           0,           0],\n",
       "       [    0.99794,     0.99794,     0.99949, ...,           0,           0,           0],\n",
       "       [          1,           1,           1, ...,           0,           0,           0]]), 'Confidence', 'F1'], [array([          0,    0.001001,    0.002002,    0.003003,    0.004004,    0.005005,    0.006006,    0.007007,    0.008008,    0.009009,     0.01001,    0.011011,    0.012012,    0.013013,    0.014014,    0.015015,    0.016016,    0.017017,    0.018018,    0.019019,     0.02002,    0.021021,    0.022022,    0.023023,\n",
       "          0.024024,    0.025025,    0.026026,    0.027027,    0.028028,    0.029029,     0.03003,    0.031031,    0.032032,    0.033033,    0.034034,    0.035035,    0.036036,    0.037037,    0.038038,    0.039039,     0.04004,    0.041041,    0.042042,    0.043043,    0.044044,    0.045045,    0.046046,    0.047047,\n",
       "          0.048048,    0.049049,     0.05005,    0.051051,    0.052052,    0.053053,    0.054054,    0.055055,    0.056056,    0.057057,    0.058058,    0.059059,     0.06006,    0.061061,    0.062062,    0.063063,    0.064064,    0.065065,    0.066066,    0.067067,    0.068068,    0.069069,     0.07007,    0.071071,\n",
       "          0.072072,    0.073073,    0.074074,    0.075075,    0.076076,    0.077077,    0.078078,    0.079079,     0.08008,    0.081081,    0.082082,    0.083083,    0.084084,    0.085085,    0.086086,    0.087087,    0.088088,    0.089089,     0.09009,    0.091091,    0.092092,    0.093093,    0.094094,    0.095095,\n",
       "          0.096096,    0.097097,    0.098098,    0.099099,      0.1001,      0.1011,      0.1021,      0.1031,      0.1041,     0.10511,     0.10611,     0.10711,     0.10811,     0.10911,     0.11011,     0.11111,     0.11211,     0.11311,     0.11411,     0.11512,     0.11612,     0.11712,     0.11812,     0.11912,\n",
       "           0.12012,     0.12112,     0.12212,     0.12312,     0.12412,     0.12513,     0.12613,     0.12713,     0.12813,     0.12913,     0.13013,     0.13113,     0.13213,     0.13313,     0.13413,     0.13514,     0.13614,     0.13714,     0.13814,     0.13914,     0.14014,     0.14114,     0.14214,     0.14314,\n",
       "           0.14414,     0.14515,     0.14615,     0.14715,     0.14815,     0.14915,     0.15015,     0.15115,     0.15215,     0.15315,     0.15415,     0.15516,     0.15616,     0.15716,     0.15816,     0.15916,     0.16016,     0.16116,     0.16216,     0.16316,     0.16416,     0.16517,     0.16617,     0.16717,\n",
       "           0.16817,     0.16917,     0.17017,     0.17117,     0.17217,     0.17317,     0.17417,     0.17518,     0.17618,     0.17718,     0.17818,     0.17918,     0.18018,     0.18118,     0.18218,     0.18318,     0.18418,     0.18519,     0.18619,     0.18719,     0.18819,     0.18919,     0.19019,     0.19119,\n",
       "           0.19219,     0.19319,     0.19419,      0.1952,      0.1962,      0.1972,      0.1982,      0.1992,      0.2002,      0.2012,      0.2022,      0.2032,      0.2042,     0.20521,     0.20621,     0.20721,     0.20821,     0.20921,     0.21021,     0.21121,     0.21221,     0.21321,     0.21421,     0.21522,\n",
       "           0.21622,     0.21722,     0.21822,     0.21922,     0.22022,     0.22122,     0.22222,     0.22322,     0.22422,     0.22523,     0.22623,     0.22723,     0.22823,     0.22923,     0.23023,     0.23123,     0.23223,     0.23323,     0.23423,     0.23524,     0.23624,     0.23724,     0.23824,     0.23924,\n",
       "           0.24024,     0.24124,     0.24224,     0.24324,     0.24424,     0.24525,     0.24625,     0.24725,     0.24825,     0.24925,     0.25025,     0.25125,     0.25225,     0.25325,     0.25425,     0.25526,     0.25626,     0.25726,     0.25826,     0.25926,     0.26026,     0.26126,     0.26226,     0.26326,\n",
       "           0.26426,     0.26527,     0.26627,     0.26727,     0.26827,     0.26927,     0.27027,     0.27127,     0.27227,     0.27327,     0.27427,     0.27528,     0.27628,     0.27728,     0.27828,     0.27928,     0.28028,     0.28128,     0.28228,     0.28328,     0.28428,     0.28529,     0.28629,     0.28729,\n",
       "           0.28829,     0.28929,     0.29029,     0.29129,     0.29229,     0.29329,     0.29429,      0.2953,      0.2963,      0.2973,      0.2983,      0.2993,      0.3003,      0.3013,      0.3023,      0.3033,      0.3043,     0.30531,     0.30631,     0.30731,     0.30831,     0.30931,     0.31031,     0.31131,\n",
       "           0.31231,     0.31331,     0.31431,     0.31532,     0.31632,     0.31732,     0.31832,     0.31932,     0.32032,     0.32132,     0.32232,     0.32332,     0.32432,     0.32533,     0.32633,     0.32733,     0.32833,     0.32933,     0.33033,     0.33133,     0.33233,     0.33333,     0.33433,     0.33534,\n",
       "           0.33634,     0.33734,     0.33834,     0.33934,     0.34034,     0.34134,     0.34234,     0.34334,     0.34434,     0.34535,     0.34635,     0.34735,     0.34835,     0.34935,     0.35035,     0.35135,     0.35235,     0.35335,     0.35435,     0.35536,     0.35636,     0.35736,     0.35836,     0.35936,\n",
       "           0.36036,     0.36136,     0.36236,     0.36336,     0.36436,     0.36537,     0.36637,     0.36737,     0.36837,     0.36937,     0.37037,     0.37137,     0.37237,     0.37337,     0.37437,     0.37538,     0.37638,     0.37738,     0.37838,     0.37938,     0.38038,     0.38138,     0.38238,     0.38338,\n",
       "           0.38438,     0.38539,     0.38639,     0.38739,     0.38839,     0.38939,     0.39039,     0.39139,     0.39239,     0.39339,     0.39439,      0.3954,      0.3964,      0.3974,      0.3984,      0.3994,      0.4004,      0.4014,      0.4024,      0.4034,      0.4044,     0.40541,     0.40641,     0.40741,\n",
       "           0.40841,     0.40941,     0.41041,     0.41141,     0.41241,     0.41341,     0.41441,     0.41542,     0.41642,     0.41742,     0.41842,     0.41942,     0.42042,     0.42142,     0.42242,     0.42342,     0.42442,     0.42543,     0.42643,     0.42743,     0.42843,     0.42943,     0.43043,     0.43143,\n",
       "           0.43243,     0.43343,     0.43443,     0.43544,     0.43644,     0.43744,     0.43844,     0.43944,     0.44044,     0.44144,     0.44244,     0.44344,     0.44444,     0.44545,     0.44645,     0.44745,     0.44845,     0.44945,     0.45045,     0.45145,     0.45245,     0.45345,     0.45445,     0.45546,\n",
       "           0.45646,     0.45746,     0.45846,     0.45946,     0.46046,     0.46146,     0.46246,     0.46346,     0.46446,     0.46547,     0.46647,     0.46747,     0.46847,     0.46947,     0.47047,     0.47147,     0.47247,     0.47347,     0.47447,     0.47548,     0.47648,     0.47748,     0.47848,     0.47948,\n",
       "           0.48048,     0.48148,     0.48248,     0.48348,     0.48448,     0.48549,     0.48649,     0.48749,     0.48849,     0.48949,     0.49049,     0.49149,     0.49249,     0.49349,     0.49449,      0.4955,      0.4965,      0.4975,      0.4985,      0.4995,      0.5005,      0.5015,      0.5025,      0.5035,\n",
       "            0.5045,     0.50551,     0.50651,     0.50751,     0.50851,     0.50951,     0.51051,     0.51151,     0.51251,     0.51351,     0.51451,     0.51552,     0.51652,     0.51752,     0.51852,     0.51952,     0.52052,     0.52152,     0.52252,     0.52352,     0.52452,     0.52553,     0.52653,     0.52753,\n",
       "           0.52853,     0.52953,     0.53053,     0.53153,     0.53253,     0.53353,     0.53453,     0.53554,     0.53654,     0.53754,     0.53854,     0.53954,     0.54054,     0.54154,     0.54254,     0.54354,     0.54454,     0.54555,     0.54655,     0.54755,     0.54855,     0.54955,     0.55055,     0.55155,\n",
       "           0.55255,     0.55355,     0.55455,     0.55556,     0.55656,     0.55756,     0.55856,     0.55956,     0.56056,     0.56156,     0.56256,     0.56356,     0.56456,     0.56557,     0.56657,     0.56757,     0.56857,     0.56957,     0.57057,     0.57157,     0.57257,     0.57357,     0.57457,     0.57558,\n",
       "           0.57658,     0.57758,     0.57858,     0.57958,     0.58058,     0.58158,     0.58258,     0.58358,     0.58458,     0.58559,     0.58659,     0.58759,     0.58859,     0.58959,     0.59059,     0.59159,     0.59259,     0.59359,     0.59459,      0.5956,      0.5966,      0.5976,      0.5986,      0.5996,\n",
       "            0.6006,      0.6016,      0.6026,      0.6036,      0.6046,     0.60561,     0.60661,     0.60761,     0.60861,     0.60961,     0.61061,     0.61161,     0.61261,     0.61361,     0.61461,     0.61562,     0.61662,     0.61762,     0.61862,     0.61962,     0.62062,     0.62162,     0.62262,     0.62362,\n",
       "           0.62462,     0.62563,     0.62663,     0.62763,     0.62863,     0.62963,     0.63063,     0.63163,     0.63263,     0.63363,     0.63463,     0.63564,     0.63664,     0.63764,     0.63864,     0.63964,     0.64064,     0.64164,     0.64264,     0.64364,     0.64464,     0.64565,     0.64665,     0.64765,\n",
       "           0.64865,     0.64965,     0.65065,     0.65165,     0.65265,     0.65365,     0.65465,     0.65566,     0.65666,     0.65766,     0.65866,     0.65966,     0.66066,     0.66166,     0.66266,     0.66366,     0.66466,     0.66567,     0.66667,     0.66767,     0.66867,     0.66967,     0.67067,     0.67167,\n",
       "           0.67267,     0.67367,     0.67467,     0.67568,     0.67668,     0.67768,     0.67868,     0.67968,     0.68068,     0.68168,     0.68268,     0.68368,     0.68468,     0.68569,     0.68669,     0.68769,     0.68869,     0.68969,     0.69069,     0.69169,     0.69269,     0.69369,     0.69469,      0.6957,\n",
       "            0.6967,      0.6977,      0.6987,      0.6997,      0.7007,      0.7017,      0.7027,      0.7037,      0.7047,     0.70571,     0.70671,     0.70771,     0.70871,     0.70971,     0.71071,     0.71171,     0.71271,     0.71371,     0.71471,     0.71572,     0.71672,     0.71772,     0.71872,     0.71972,\n",
       "           0.72072,     0.72172,     0.72272,     0.72372,     0.72472,     0.72573,     0.72673,     0.72773,     0.72873,     0.72973,     0.73073,     0.73173,     0.73273,     0.73373,     0.73473,     0.73574,     0.73674,     0.73774,     0.73874,     0.73974,     0.74074,     0.74174,     0.74274,     0.74374,\n",
       "           0.74474,     0.74575,     0.74675,     0.74775,     0.74875,     0.74975,     0.75075,     0.75175,     0.75275,     0.75375,     0.75475,     0.75576,     0.75676,     0.75776,     0.75876,     0.75976,     0.76076,     0.76176,     0.76276,     0.76376,     0.76476,     0.76577,     0.76677,     0.76777,\n",
       "           0.76877,     0.76977,     0.77077,     0.77177,     0.77277,     0.77377,     0.77477,     0.77578,     0.77678,     0.77778,     0.77878,     0.77978,     0.78078,     0.78178,     0.78278,     0.78378,     0.78478,     0.78579,     0.78679,     0.78779,     0.78879,     0.78979,     0.79079,     0.79179,\n",
       "           0.79279,     0.79379,     0.79479,      0.7958,      0.7968,      0.7978,      0.7988,      0.7998,      0.8008,      0.8018,      0.8028,      0.8038,      0.8048,     0.80581,     0.80681,     0.80781,     0.80881,     0.80981,     0.81081,     0.81181,     0.81281,     0.81381,     0.81481,     0.81582,\n",
       "           0.81682,     0.81782,     0.81882,     0.81982,     0.82082,     0.82182,     0.82282,     0.82382,     0.82482,     0.82583,     0.82683,     0.82783,     0.82883,     0.82983,     0.83083,     0.83183,     0.83283,     0.83383,     0.83483,     0.83584,     0.83684,     0.83784,     0.83884,     0.83984,\n",
       "           0.84084,     0.84184,     0.84284,     0.84384,     0.84484,     0.84585,     0.84685,     0.84785,     0.84885,     0.84985,     0.85085,     0.85185,     0.85285,     0.85385,     0.85485,     0.85586,     0.85686,     0.85786,     0.85886,     0.85986,     0.86086,     0.86186,     0.86286,     0.86386,\n",
       "           0.86486,     0.86587,     0.86687,     0.86787,     0.86887,     0.86987,     0.87087,     0.87187,     0.87287,     0.87387,     0.87487,     0.87588,     0.87688,     0.87788,     0.87888,     0.87988,     0.88088,     0.88188,     0.88288,     0.88388,     0.88488,     0.88589,     0.88689,     0.88789,\n",
       "           0.88889,     0.88989,     0.89089,     0.89189,     0.89289,     0.89389,     0.89489,      0.8959,      0.8969,      0.8979,      0.8989,      0.8999,      0.9009,      0.9019,      0.9029,      0.9039,      0.9049,     0.90591,     0.90691,     0.90791,     0.90891,     0.90991,     0.91091,     0.91191,\n",
       "           0.91291,     0.91391,     0.91491,     0.91592,     0.91692,     0.91792,     0.91892,     0.91992,     0.92092,     0.92192,     0.92292,     0.92392,     0.92492,     0.92593,     0.92693,     0.92793,     0.92893,     0.92993,     0.93093,     0.93193,     0.93293,     0.93393,     0.93493,     0.93594,\n",
       "           0.93694,     0.93794,     0.93894,     0.93994,     0.94094,     0.94194,     0.94294,     0.94394,     0.94494,     0.94595,     0.94695,     0.94795,     0.94895,     0.94995,     0.95095,     0.95195,     0.95295,     0.95395,     0.95495,     0.95596,     0.95696,     0.95796,     0.95896,     0.95996,\n",
       "           0.96096,     0.96196,     0.96296,     0.96396,     0.96496,     0.96597,     0.96697,     0.96797,     0.96897,     0.96997,     0.97097,     0.97197,     0.97297,     0.97397,     0.97497,     0.97598,     0.97698,     0.97798,     0.97898,     0.97998,     0.98098,     0.98198,     0.98298,     0.98398,\n",
       "           0.98498,     0.98599,     0.98699,     0.98799,     0.98899,     0.98999,     0.99099,     0.99199,     0.99299,     0.99399,     0.99499,       0.996,       0.997,       0.998,       0.999,           1]), array([[    0.96154,     0.96154,     0.96158, ...,           1,           1,           1],\n",
       "       [    0.99716,     0.99716,     0.99716, ...,           1,           1,           1],\n",
       "       [    0.99548,     0.99548,     0.99548, ...,           1,           1,           1],\n",
       "       ...,\n",
       "       [    0.99758,     0.99758,     0.99759, ...,           1,           1,           1],\n",
       "       [     0.9959,      0.9959,     0.99897, ...,           1,           1,           1],\n",
       "       [          1,           1,           1, ...,           1,           1,           1]]), 'Confidence', 'Precision'], [array([          0,    0.001001,    0.002002,    0.003003,    0.004004,    0.005005,    0.006006,    0.007007,    0.008008,    0.009009,     0.01001,    0.011011,    0.012012,    0.013013,    0.014014,    0.015015,    0.016016,    0.017017,    0.018018,    0.019019,     0.02002,    0.021021,    0.022022,    0.023023,\n",
       "          0.024024,    0.025025,    0.026026,    0.027027,    0.028028,    0.029029,     0.03003,    0.031031,    0.032032,    0.033033,    0.034034,    0.035035,    0.036036,    0.037037,    0.038038,    0.039039,     0.04004,    0.041041,    0.042042,    0.043043,    0.044044,    0.045045,    0.046046,    0.047047,\n",
       "          0.048048,    0.049049,     0.05005,    0.051051,    0.052052,    0.053053,    0.054054,    0.055055,    0.056056,    0.057057,    0.058058,    0.059059,     0.06006,    0.061061,    0.062062,    0.063063,    0.064064,    0.065065,    0.066066,    0.067067,    0.068068,    0.069069,     0.07007,    0.071071,\n",
       "          0.072072,    0.073073,    0.074074,    0.075075,    0.076076,    0.077077,    0.078078,    0.079079,     0.08008,    0.081081,    0.082082,    0.083083,    0.084084,    0.085085,    0.086086,    0.087087,    0.088088,    0.089089,     0.09009,    0.091091,    0.092092,    0.093093,    0.094094,    0.095095,\n",
       "          0.096096,    0.097097,    0.098098,    0.099099,      0.1001,      0.1011,      0.1021,      0.1031,      0.1041,     0.10511,     0.10611,     0.10711,     0.10811,     0.10911,     0.11011,     0.11111,     0.11211,     0.11311,     0.11411,     0.11512,     0.11612,     0.11712,     0.11812,     0.11912,\n",
       "           0.12012,     0.12112,     0.12212,     0.12312,     0.12412,     0.12513,     0.12613,     0.12713,     0.12813,     0.12913,     0.13013,     0.13113,     0.13213,     0.13313,     0.13413,     0.13514,     0.13614,     0.13714,     0.13814,     0.13914,     0.14014,     0.14114,     0.14214,     0.14314,\n",
       "           0.14414,     0.14515,     0.14615,     0.14715,     0.14815,     0.14915,     0.15015,     0.15115,     0.15215,     0.15315,     0.15415,     0.15516,     0.15616,     0.15716,     0.15816,     0.15916,     0.16016,     0.16116,     0.16216,     0.16316,     0.16416,     0.16517,     0.16617,     0.16717,\n",
       "           0.16817,     0.16917,     0.17017,     0.17117,     0.17217,     0.17317,     0.17417,     0.17518,     0.17618,     0.17718,     0.17818,     0.17918,     0.18018,     0.18118,     0.18218,     0.18318,     0.18418,     0.18519,     0.18619,     0.18719,     0.18819,     0.18919,     0.19019,     0.19119,\n",
       "           0.19219,     0.19319,     0.19419,      0.1952,      0.1962,      0.1972,      0.1982,      0.1992,      0.2002,      0.2012,      0.2022,      0.2032,      0.2042,     0.20521,     0.20621,     0.20721,     0.20821,     0.20921,     0.21021,     0.21121,     0.21221,     0.21321,     0.21421,     0.21522,\n",
       "           0.21622,     0.21722,     0.21822,     0.21922,     0.22022,     0.22122,     0.22222,     0.22322,     0.22422,     0.22523,     0.22623,     0.22723,     0.22823,     0.22923,     0.23023,     0.23123,     0.23223,     0.23323,     0.23423,     0.23524,     0.23624,     0.23724,     0.23824,     0.23924,\n",
       "           0.24024,     0.24124,     0.24224,     0.24324,     0.24424,     0.24525,     0.24625,     0.24725,     0.24825,     0.24925,     0.25025,     0.25125,     0.25225,     0.25325,     0.25425,     0.25526,     0.25626,     0.25726,     0.25826,     0.25926,     0.26026,     0.26126,     0.26226,     0.26326,\n",
       "           0.26426,     0.26527,     0.26627,     0.26727,     0.26827,     0.26927,     0.27027,     0.27127,     0.27227,     0.27327,     0.27427,     0.27528,     0.27628,     0.27728,     0.27828,     0.27928,     0.28028,     0.28128,     0.28228,     0.28328,     0.28428,     0.28529,     0.28629,     0.28729,\n",
       "           0.28829,     0.28929,     0.29029,     0.29129,     0.29229,     0.29329,     0.29429,      0.2953,      0.2963,      0.2973,      0.2983,      0.2993,      0.3003,      0.3013,      0.3023,      0.3033,      0.3043,     0.30531,     0.30631,     0.30731,     0.30831,     0.30931,     0.31031,     0.31131,\n",
       "           0.31231,     0.31331,     0.31431,     0.31532,     0.31632,     0.31732,     0.31832,     0.31932,     0.32032,     0.32132,     0.32232,     0.32332,     0.32432,     0.32533,     0.32633,     0.32733,     0.32833,     0.32933,     0.33033,     0.33133,     0.33233,     0.33333,     0.33433,     0.33534,\n",
       "           0.33634,     0.33734,     0.33834,     0.33934,     0.34034,     0.34134,     0.34234,     0.34334,     0.34434,     0.34535,     0.34635,     0.34735,     0.34835,     0.34935,     0.35035,     0.35135,     0.35235,     0.35335,     0.35435,     0.35536,     0.35636,     0.35736,     0.35836,     0.35936,\n",
       "           0.36036,     0.36136,     0.36236,     0.36336,     0.36436,     0.36537,     0.36637,     0.36737,     0.36837,     0.36937,     0.37037,     0.37137,     0.37237,     0.37337,     0.37437,     0.37538,     0.37638,     0.37738,     0.37838,     0.37938,     0.38038,     0.38138,     0.38238,     0.38338,\n",
       "           0.38438,     0.38539,     0.38639,     0.38739,     0.38839,     0.38939,     0.39039,     0.39139,     0.39239,     0.39339,     0.39439,      0.3954,      0.3964,      0.3974,      0.3984,      0.3994,      0.4004,      0.4014,      0.4024,      0.4034,      0.4044,     0.40541,     0.40641,     0.40741,\n",
       "           0.40841,     0.40941,     0.41041,     0.41141,     0.41241,     0.41341,     0.41441,     0.41542,     0.41642,     0.41742,     0.41842,     0.41942,     0.42042,     0.42142,     0.42242,     0.42342,     0.42442,     0.42543,     0.42643,     0.42743,     0.42843,     0.42943,     0.43043,     0.43143,\n",
       "           0.43243,     0.43343,     0.43443,     0.43544,     0.43644,     0.43744,     0.43844,     0.43944,     0.44044,     0.44144,     0.44244,     0.44344,     0.44444,     0.44545,     0.44645,     0.44745,     0.44845,     0.44945,     0.45045,     0.45145,     0.45245,     0.45345,     0.45445,     0.45546,\n",
       "           0.45646,     0.45746,     0.45846,     0.45946,     0.46046,     0.46146,     0.46246,     0.46346,     0.46446,     0.46547,     0.46647,     0.46747,     0.46847,     0.46947,     0.47047,     0.47147,     0.47247,     0.47347,     0.47447,     0.47548,     0.47648,     0.47748,     0.47848,     0.47948,\n",
       "           0.48048,     0.48148,     0.48248,     0.48348,     0.48448,     0.48549,     0.48649,     0.48749,     0.48849,     0.48949,     0.49049,     0.49149,     0.49249,     0.49349,     0.49449,      0.4955,      0.4965,      0.4975,      0.4985,      0.4995,      0.5005,      0.5015,      0.5025,      0.5035,\n",
       "            0.5045,     0.50551,     0.50651,     0.50751,     0.50851,     0.50951,     0.51051,     0.51151,     0.51251,     0.51351,     0.51451,     0.51552,     0.51652,     0.51752,     0.51852,     0.51952,     0.52052,     0.52152,     0.52252,     0.52352,     0.52452,     0.52553,     0.52653,     0.52753,\n",
       "           0.52853,     0.52953,     0.53053,     0.53153,     0.53253,     0.53353,     0.53453,     0.53554,     0.53654,     0.53754,     0.53854,     0.53954,     0.54054,     0.54154,     0.54254,     0.54354,     0.54454,     0.54555,     0.54655,     0.54755,     0.54855,     0.54955,     0.55055,     0.55155,\n",
       "           0.55255,     0.55355,     0.55455,     0.55556,     0.55656,     0.55756,     0.55856,     0.55956,     0.56056,     0.56156,     0.56256,     0.56356,     0.56456,     0.56557,     0.56657,     0.56757,     0.56857,     0.56957,     0.57057,     0.57157,     0.57257,     0.57357,     0.57457,     0.57558,\n",
       "           0.57658,     0.57758,     0.57858,     0.57958,     0.58058,     0.58158,     0.58258,     0.58358,     0.58458,     0.58559,     0.58659,     0.58759,     0.58859,     0.58959,     0.59059,     0.59159,     0.59259,     0.59359,     0.59459,      0.5956,      0.5966,      0.5976,      0.5986,      0.5996,\n",
       "            0.6006,      0.6016,      0.6026,      0.6036,      0.6046,     0.60561,     0.60661,     0.60761,     0.60861,     0.60961,     0.61061,     0.61161,     0.61261,     0.61361,     0.61461,     0.61562,     0.61662,     0.61762,     0.61862,     0.61962,     0.62062,     0.62162,     0.62262,     0.62362,\n",
       "           0.62462,     0.62563,     0.62663,     0.62763,     0.62863,     0.62963,     0.63063,     0.63163,     0.63263,     0.63363,     0.63463,     0.63564,     0.63664,     0.63764,     0.63864,     0.63964,     0.64064,     0.64164,     0.64264,     0.64364,     0.64464,     0.64565,     0.64665,     0.64765,\n",
       "           0.64865,     0.64965,     0.65065,     0.65165,     0.65265,     0.65365,     0.65465,     0.65566,     0.65666,     0.65766,     0.65866,     0.65966,     0.66066,     0.66166,     0.66266,     0.66366,     0.66466,     0.66567,     0.66667,     0.66767,     0.66867,     0.66967,     0.67067,     0.67167,\n",
       "           0.67267,     0.67367,     0.67467,     0.67568,     0.67668,     0.67768,     0.67868,     0.67968,     0.68068,     0.68168,     0.68268,     0.68368,     0.68468,     0.68569,     0.68669,     0.68769,     0.68869,     0.68969,     0.69069,     0.69169,     0.69269,     0.69369,     0.69469,      0.6957,\n",
       "            0.6967,      0.6977,      0.6987,      0.6997,      0.7007,      0.7017,      0.7027,      0.7037,      0.7047,     0.70571,     0.70671,     0.70771,     0.70871,     0.70971,     0.71071,     0.71171,     0.71271,     0.71371,     0.71471,     0.71572,     0.71672,     0.71772,     0.71872,     0.71972,\n",
       "           0.72072,     0.72172,     0.72272,     0.72372,     0.72472,     0.72573,     0.72673,     0.72773,     0.72873,     0.72973,     0.73073,     0.73173,     0.73273,     0.73373,     0.73473,     0.73574,     0.73674,     0.73774,     0.73874,     0.73974,     0.74074,     0.74174,     0.74274,     0.74374,\n",
       "           0.74474,     0.74575,     0.74675,     0.74775,     0.74875,     0.74975,     0.75075,     0.75175,     0.75275,     0.75375,     0.75475,     0.75576,     0.75676,     0.75776,     0.75876,     0.75976,     0.76076,     0.76176,     0.76276,     0.76376,     0.76476,     0.76577,     0.76677,     0.76777,\n",
       "           0.76877,     0.76977,     0.77077,     0.77177,     0.77277,     0.77377,     0.77477,     0.77578,     0.77678,     0.77778,     0.77878,     0.77978,     0.78078,     0.78178,     0.78278,     0.78378,     0.78478,     0.78579,     0.78679,     0.78779,     0.78879,     0.78979,     0.79079,     0.79179,\n",
       "           0.79279,     0.79379,     0.79479,      0.7958,      0.7968,      0.7978,      0.7988,      0.7998,      0.8008,      0.8018,      0.8028,      0.8038,      0.8048,     0.80581,     0.80681,     0.80781,     0.80881,     0.80981,     0.81081,     0.81181,     0.81281,     0.81381,     0.81481,     0.81582,\n",
       "           0.81682,     0.81782,     0.81882,     0.81982,     0.82082,     0.82182,     0.82282,     0.82382,     0.82482,     0.82583,     0.82683,     0.82783,     0.82883,     0.82983,     0.83083,     0.83183,     0.83283,     0.83383,     0.83483,     0.83584,     0.83684,     0.83784,     0.83884,     0.83984,\n",
       "           0.84084,     0.84184,     0.84284,     0.84384,     0.84484,     0.84585,     0.84685,     0.84785,     0.84885,     0.84985,     0.85085,     0.85185,     0.85285,     0.85385,     0.85485,     0.85586,     0.85686,     0.85786,     0.85886,     0.85986,     0.86086,     0.86186,     0.86286,     0.86386,\n",
       "           0.86486,     0.86587,     0.86687,     0.86787,     0.86887,     0.86987,     0.87087,     0.87187,     0.87287,     0.87387,     0.87487,     0.87588,     0.87688,     0.87788,     0.87888,     0.87988,     0.88088,     0.88188,     0.88288,     0.88388,     0.88488,     0.88589,     0.88689,     0.88789,\n",
       "           0.88889,     0.88989,     0.89089,     0.89189,     0.89289,     0.89389,     0.89489,      0.8959,      0.8969,      0.8979,      0.8989,      0.8999,      0.9009,      0.9019,      0.9029,      0.9039,      0.9049,     0.90591,     0.90691,     0.90791,     0.90891,     0.90991,     0.91091,     0.91191,\n",
       "           0.91291,     0.91391,     0.91491,     0.91592,     0.91692,     0.91792,     0.91892,     0.91992,     0.92092,     0.92192,     0.92292,     0.92392,     0.92492,     0.92593,     0.92693,     0.92793,     0.92893,     0.92993,     0.93093,     0.93193,     0.93293,     0.93393,     0.93493,     0.93594,\n",
       "           0.93694,     0.93794,     0.93894,     0.93994,     0.94094,     0.94194,     0.94294,     0.94394,     0.94494,     0.94595,     0.94695,     0.94795,     0.94895,     0.94995,     0.95095,     0.95195,     0.95295,     0.95395,     0.95495,     0.95596,     0.95696,     0.95796,     0.95896,     0.95996,\n",
       "           0.96096,     0.96196,     0.96296,     0.96396,     0.96496,     0.96597,     0.96697,     0.96797,     0.96897,     0.96997,     0.97097,     0.97197,     0.97297,     0.97397,     0.97497,     0.97598,     0.97698,     0.97798,     0.97898,     0.97998,     0.98098,     0.98198,     0.98298,     0.98398,\n",
       "           0.98498,     0.98599,     0.98699,     0.98799,     0.98899,     0.98999,     0.99099,     0.99199,     0.99299,     0.99399,     0.99499,       0.996,       0.997,       0.998,       0.999,           1]), array([[          1,           1,           1, ...,           0,           0,           0],\n",
       "       [          1,           1,           1, ...,           0,           0,           0],\n",
       "       [          1,           1,           1, ...,           0,           0,           0],\n",
       "       ...,\n",
       "       [    0.99758,     0.99758,     0.99758, ...,           0,           0,           0],\n",
       "       [          1,           1,           1, ...,           0,           0,           0],\n",
       "       [          1,           1,           1, ...,           0,           0,           0]]), 'Confidence', 'Recall']]\n",
       "fitness: 0.993041537053993\n",
       "keys: ['metrics/precision(B)', 'metrics/recall(B)', 'metrics/mAP50(B)', 'metrics/mAP50-95(B)']\n",
       "maps: array([      0.995,       0.995,       0.995,       0.995,       0.995,       0.995,     0.99135,       0.995,     0.99291,       0.995,       0.995,       0.995,       0.995,       0.995,       0.995,       0.995,       0.995,       0.995,     0.99291,       0.995,       0.995,       0.995,       0.995,       0.995,\n",
       "             0.995,       0.995,       0.995,       0.995,       0.995,       0.995,       0.995,       0.995,       0.995,       0.995,     0.96335,       0.995,       0.995,       0.995,       0.995,     0.99291,       0.995,       0.995,       0.995,     0.99291,     0.99291,       0.995,       0.995,       0.995,\n",
       "             0.995,       0.995,     0.99291,       0.995,       0.995,       0.995,       0.995,       0.995,     0.99291,     0.99291,       0.995,       0.995,     0.99291,     0.99291,     0.99291,       0.995,       0.995,       0.995,       0.995,     0.95172,      0.9557,     0.98331,       0.995,       0.995,\n",
       "            0.9949])\n",
       "names: {0: '0001-起点', 1: '0002-齿轮硬币箱', 2: '0003-危机', 3: '0004-业绩考察点', 4: '0006-及时补给', 5: '0007-插件获取', 6: '0008-扭蛋机', 7: '0009-呼叫增援', 8: '0010-秘径', 9: '0011-操纵杆', 10: '0012-邂逅', 11: '0013-侵蚀扭蛋机', 12: '0014-临时拍档', 13: '0015-假面研究者', 14: '0016-鸣徽催化剂', 15: '0017-调查员', 16: '0018-盗洞客', 17: '0019-邦布商人', 18: '0020-门扉禁闭-财富', 19: '0021-顽固的障碍物', 20: '0022-门扉禁闭-侵蚀', 21: '0023-残破的障碍物', 22: '0024-双重危机', 23: '0025-门扉禁闭-善战', 24: '0026-开启的门', 25: '0027-安全区', 26: '0028-休息区', 27: '0029-失联', 28: '0030-侵蚀', 29: '0031-净化室', 30: '0032-传送点', 31: '0033-真相', 32: '0034-通道', 33: '0035-巨兽', 34: '0036-奇货', 35: '0037-盲盒区域', 36: '0038-不宜久留', 37: '0039-奇怪的侦探', 38: '0040-求救的信号', 39: '0041-调查协会补给站', 40: '0042-精锐邦布助手', 41: '0043-治安官小队', 42: '0044-有偿休息站', 43: '0045-馅饼天降', 44: '0046-怀斯塔学会研究站', 45: '0047-活化结晶', 46: '0048-守门人', 47: '0049-裂隙', 48: '0051-紧急撤离点', 49: '0052-防卫军后勤站', 50: '0053-王牌邦布助手', 51: '0054-未知区域', 52: '0055-奇怪的学生', 53: '0056-零号银行', 54: '0057-失效节点', 55: '0058-资源回收小组', 56: '0059-按压式开关', 57: '0060-弹射-上', 58: '0061-轨道-上', 59: '0062-同伴', 60: '0063-弹射-下', 61: '0064-弹射-左', 62: '0065-弹射-右', 63: '0066-轨道-下', 64: '0067-轨道-左', 65: '0068-轨道-右', 66: '0069-房屋残骸', 67: '8000-电视底座绿', 68: '8001-电视底座红', 69: '8002-电视底座大', 70: '9000-当前', 71: '9001-空白未通行', 72: '9002-空白已通行'}\n",
       "plot: True\n",
       "results_dict: {'metrics/precision(B)': 0.9982140651902199, 'metrics/recall(B)': 0.9970267176496395, 'metrics/mAP50(B)': 0.9942381082328111, 'metrics/mAP50-95(B)': 0.992908584700791, 'fitness': 0.993041537053993}\n",
       "save_dir: WindowsPath('D:/code/workspace/OneDragon-YOLO/ultralytics/runs/zzz_hollow_event_2208/yolov8x-640')\n",
       "speed: {'preprocess': 0.625558770619906, 'inference': 10.327553519835838, 'loss': 0.0, 'postprocess': 0.7434773903626662}\n",
       "task: 'detect'"
      ]
     },
     "execution_count": 9,
     "metadata": {},
     "output_type": "execute_result"
    }
   ],
   "source": [
    "model.train(\n",
    "    data=ultralytics_utils.get_dataset_yaml_path(dataset_name),  # 数据集配置文件的位置\n",
    "    project=ultralytics_utils.get_dataset_model_dir(dataset_name),  # 训练模型的数据（包括模型文件）的自动保存位置\n",
    "    name= train_name,\n",
    "    imgsz=train_img_size,\n",
    "    epochs=1000,\n",
    "    save_period=100,\n",
    "    batch=-1,  # 根据可使用内存 自动判断batch_size\n",
    "    val=False,  # 关闭验证\n",
    "    exist_ok=True,\n",
    "    copy_paste=0,  # 数据集太小，复制多一点\n",
    "    scale=0,  # 不需要缩放处理\n",
    "    flipud=0, fliplr=0,  # 不需要翻转对称\n",
    "    erasing=0,  # 不需要消除了 图片下方空白比较多\n",
    "    hsv_h=0, hsv_s=0, hsv_v=0,  # 关闭色彩调节\n",
    "    mosaic=0,  # 不需要拼接 使用原装大小\n",
    ")"
   ]
  },
  {
   "cell_type": "code",
   "execution_count": 10,
   "id": "7b339773-2a77-4a37-b51f-5cc07990bd53",
   "metadata": {
    "scrolled": true
   },
   "outputs": [
    {
     "name": "stdout",
     "output_type": "stream",
     "text": [
      "Ultralytics YOLOv8.2.51  Python-3.11.9 torch-2.3.1 CPU (AMD Ryzen 9 5950X 16-Core Processor)\n",
      "WARNING  imgsz=[360, 640] must be multiple of max stride 32, updating to [384, 640]\n",
      "Model summary (fused): 268 layers, 68193867 parameters, 0 gradients\n",
      "\n",
      "\u001b[34m\u001b[1mPyTorch:\u001b[0m starting from 'D:\\code\\workspace\\OneDragon-YOLO\\ultralytics\\runs\\zzz_hollow_event_2208\\yolov8x-640\\weights\\epoch100.pt' with input shape (1, 3, 384, 640) BCHW and output shape(s) (1, 77, 5040) (391.0 MB)\n",
      "\n",
      "\u001b[34m\u001b[1mONNX:\u001b[0m starting export with onnx 1.16.0 opset 17...\n",
      "\u001b[34m\u001b[1mONNX:\u001b[0m export success  3.5s, saved as 'D:\\code\\workspace\\OneDragon-YOLO\\ultralytics\\runs\\zzz_hollow_event_2208\\yolov8x-640\\weights\\epoch100.onnx' (260.3 MB)\n",
      "\n",
      "Export complete (8.8s)\n",
      "Results saved to \u001b[1mD:\\code\\workspace\\OneDragon-YOLO\\ultralytics\\runs\\zzz_hollow_event_2208\\yolov8x-640\\weights\u001b[0m\n",
      "Predict:         yolo predict task=detect model=D:\\code\\workspace\\OneDragon-YOLO\\ultralytics\\runs\\zzz_hollow_event_2208\\yolov8x-640\\weights\\epoch100.onnx imgsz=384,640  \n",
      "Validate:        yolo val task=detect model=D:\\code\\workspace\\OneDragon-YOLO\\ultralytics\\runs\\zzz_hollow_event_2208\\yolov8x-640\\weights\\epoch100.onnx imgsz=384,640 data=D:\\code\\workspace\\OneDragon-YOLO\\ultralytics\\datasets\\zzz_hollow_event_2208\\dataset.yaml  WARNING  non-PyTorch val requires square images, 'imgsz=[384, 640]' will not work. Use export 'imgsz=640' if val is required.\n",
      "Visualize:       https://netron.app\n",
      "Ultralytics YOLOv8.2.51  Python-3.11.9 torch-2.3.1 CPU (AMD Ryzen 9 5950X 16-Core Processor)\n",
      "WARNING  imgsz=[360, 640] must be multiple of max stride 32, updating to [384, 640]\n",
      "Model summary (fused): 268 layers, 68193867 parameters, 0 gradients\n",
      "\n",
      "\u001b[34m\u001b[1mPyTorch:\u001b[0m starting from 'D:\\code\\workspace\\OneDragon-YOLO\\ultralytics\\runs\\zzz_hollow_event_2208\\yolov8x-640\\weights\\epoch200.pt' with input shape (1, 3, 384, 640) BCHW and output shape(s) (1, 77, 5040) (391.0 MB)\n",
      "\n",
      "\u001b[34m\u001b[1mONNX:\u001b[0m starting export with onnx 1.16.0 opset 17...\n",
      "\u001b[34m\u001b[1mONNX:\u001b[0m export success  3.5s, saved as 'D:\\code\\workspace\\OneDragon-YOLO\\ultralytics\\runs\\zzz_hollow_event_2208\\yolov8x-640\\weights\\epoch200.onnx' (260.3 MB)\n",
      "\n",
      "Export complete (8.7s)\n",
      "Results saved to \u001b[1mD:\\code\\workspace\\OneDragon-YOLO\\ultralytics\\runs\\zzz_hollow_event_2208\\yolov8x-640\\weights\u001b[0m\n",
      "Predict:         yolo predict task=detect model=D:\\code\\workspace\\OneDragon-YOLO\\ultralytics\\runs\\zzz_hollow_event_2208\\yolov8x-640\\weights\\epoch200.onnx imgsz=384,640  \n",
      "Validate:        yolo val task=detect model=D:\\code\\workspace\\OneDragon-YOLO\\ultralytics\\runs\\zzz_hollow_event_2208\\yolov8x-640\\weights\\epoch200.onnx imgsz=384,640 data=D:\\code\\workspace\\OneDragon-YOLO\\ultralytics\\datasets\\zzz_hollow_event_2208\\dataset.yaml  WARNING  non-PyTorch val requires square images, 'imgsz=[384, 640]' will not work. Use export 'imgsz=640' if val is required.\n",
      "Visualize:       https://netron.app\n",
      "Ultralytics YOLOv8.2.51  Python-3.11.9 torch-2.3.1 CPU (AMD Ryzen 9 5950X 16-Core Processor)\n",
      "WARNING  imgsz=[360, 640] must be multiple of max stride 32, updating to [384, 640]\n",
      "Model summary (fused): 268 layers, 68193867 parameters, 0 gradients\n",
      "\n",
      "\u001b[34m\u001b[1mPyTorch:\u001b[0m starting from 'D:\\code\\workspace\\OneDragon-YOLO\\ultralytics\\runs\\zzz_hollow_event_2208\\yolov8x-640\\weights\\epoch300.pt' with input shape (1, 3, 384, 640) BCHW and output shape(s) (1, 77, 5040) (391.0 MB)\n",
      "\n",
      "\u001b[34m\u001b[1mONNX:\u001b[0m starting export with onnx 1.16.0 opset 17...\n",
      "\u001b[34m\u001b[1mONNX:\u001b[0m export success  3.5s, saved as 'D:\\code\\workspace\\OneDragon-YOLO\\ultralytics\\runs\\zzz_hollow_event_2208\\yolov8x-640\\weights\\epoch300.onnx' (260.3 MB)\n",
      "\n",
      "Export complete (8.6s)\n",
      "Results saved to \u001b[1mD:\\code\\workspace\\OneDragon-YOLO\\ultralytics\\runs\\zzz_hollow_event_2208\\yolov8x-640\\weights\u001b[0m\n",
      "Predict:         yolo predict task=detect model=D:\\code\\workspace\\OneDragon-YOLO\\ultralytics\\runs\\zzz_hollow_event_2208\\yolov8x-640\\weights\\epoch300.onnx imgsz=384,640  \n",
      "Validate:        yolo val task=detect model=D:\\code\\workspace\\OneDragon-YOLO\\ultralytics\\runs\\zzz_hollow_event_2208\\yolov8x-640\\weights\\epoch300.onnx imgsz=384,640 data=D:\\code\\workspace\\OneDragon-YOLO\\ultralytics\\datasets\\zzz_hollow_event_2208\\dataset.yaml  WARNING  non-PyTorch val requires square images, 'imgsz=[384, 640]' will not work. Use export 'imgsz=640' if val is required.\n",
      "Visualize:       https://netron.app\n",
      "Ultralytics YOLOv8.2.51  Python-3.11.9 torch-2.3.1 CPU (AMD Ryzen 9 5950X 16-Core Processor)\n",
      "WARNING  imgsz=[360, 640] must be multiple of max stride 32, updating to [384, 640]\n",
      "Model summary (fused): 268 layers, 68193867 parameters, 0 gradients\n",
      "\n",
      "\u001b[34m\u001b[1mPyTorch:\u001b[0m starting from 'D:\\code\\workspace\\OneDragon-YOLO\\ultralytics\\runs\\zzz_hollow_event_2208\\yolov8x-640\\weights\\epoch400.pt' with input shape (1, 3, 384, 640) BCHW and output shape(s) (1, 77, 5040) (391.0 MB)\n",
      "\n",
      "\u001b[34m\u001b[1mONNX:\u001b[0m starting export with onnx 1.16.0 opset 17...\n",
      "\u001b[34m\u001b[1mONNX:\u001b[0m export success  3.5s, saved as 'D:\\code\\workspace\\OneDragon-YOLO\\ultralytics\\runs\\zzz_hollow_event_2208\\yolov8x-640\\weights\\epoch400.onnx' (260.3 MB)\n",
      "\n",
      "Export complete (8.7s)\n",
      "Results saved to \u001b[1mD:\\code\\workspace\\OneDragon-YOLO\\ultralytics\\runs\\zzz_hollow_event_2208\\yolov8x-640\\weights\u001b[0m\n",
      "Predict:         yolo predict task=detect model=D:\\code\\workspace\\OneDragon-YOLO\\ultralytics\\runs\\zzz_hollow_event_2208\\yolov8x-640\\weights\\epoch400.onnx imgsz=384,640  \n",
      "Validate:        yolo val task=detect model=D:\\code\\workspace\\OneDragon-YOLO\\ultralytics\\runs\\zzz_hollow_event_2208\\yolov8x-640\\weights\\epoch400.onnx imgsz=384,640 data=D:\\code\\workspace\\OneDragon-YOLO\\ultralytics\\datasets\\zzz_hollow_event_2208\\dataset.yaml  WARNING  non-PyTorch val requires square images, 'imgsz=[384, 640]' will not work. Use export 'imgsz=640' if val is required.\n",
      "Visualize:       https://netron.app\n",
      "Ultralytics YOLOv8.2.51  Python-3.11.9 torch-2.3.1 CPU (AMD Ryzen 9 5950X 16-Core Processor)\n",
      "WARNING  imgsz=[360, 640] must be multiple of max stride 32, updating to [384, 640]\n",
      "Model summary (fused): 268 layers, 68193867 parameters, 0 gradients\n",
      "\n",
      "\u001b[34m\u001b[1mPyTorch:\u001b[0m starting from 'D:\\code\\workspace\\OneDragon-YOLO\\ultralytics\\runs\\zzz_hollow_event_2208\\yolov8x-640\\weights\\epoch500.pt' with input shape (1, 3, 384, 640) BCHW and output shape(s) (1, 77, 5040) (391.0 MB)\n",
      "\n",
      "\u001b[34m\u001b[1mONNX:\u001b[0m starting export with onnx 1.16.0 opset 17...\n",
      "\u001b[34m\u001b[1mONNX:\u001b[0m export success  3.5s, saved as 'D:\\code\\workspace\\OneDragon-YOLO\\ultralytics\\runs\\zzz_hollow_event_2208\\yolov8x-640\\weights\\epoch500.onnx' (260.3 MB)\n",
      "\n",
      "Export complete (8.7s)\n",
      "Results saved to \u001b[1mD:\\code\\workspace\\OneDragon-YOLO\\ultralytics\\runs\\zzz_hollow_event_2208\\yolov8x-640\\weights\u001b[0m\n",
      "Predict:         yolo predict task=detect model=D:\\code\\workspace\\OneDragon-YOLO\\ultralytics\\runs\\zzz_hollow_event_2208\\yolov8x-640\\weights\\epoch500.onnx imgsz=384,640  \n",
      "Validate:        yolo val task=detect model=D:\\code\\workspace\\OneDragon-YOLO\\ultralytics\\runs\\zzz_hollow_event_2208\\yolov8x-640\\weights\\epoch500.onnx imgsz=384,640 data=D:\\code\\workspace\\OneDragon-YOLO\\ultralytics\\datasets\\zzz_hollow_event_2208\\dataset.yaml  WARNING  non-PyTorch val requires square images, 'imgsz=[384, 640]' will not work. Use export 'imgsz=640' if val is required.\n",
      "Visualize:       https://netron.app\n",
      "Ultralytics YOLOv8.2.51  Python-3.11.9 torch-2.3.1 CPU (AMD Ryzen 9 5950X 16-Core Processor)\n",
      "WARNING  imgsz=[360, 640] must be multiple of max stride 32, updating to [384, 640]\n",
      "Model summary (fused): 268 layers, 68193867 parameters, 0 gradients\n",
      "\n",
      "\u001b[34m\u001b[1mPyTorch:\u001b[0m starting from 'D:\\code\\workspace\\OneDragon-YOLO\\ultralytics\\runs\\zzz_hollow_event_2208\\yolov8x-640\\weights\\epoch600.pt' with input shape (1, 3, 384, 640) BCHW and output shape(s) (1, 77, 5040) (391.0 MB)\n",
      "\n",
      "\u001b[34m\u001b[1mONNX:\u001b[0m starting export with onnx 1.16.0 opset 17...\n",
      "\u001b[34m\u001b[1mONNX:\u001b[0m export success  3.5s, saved as 'D:\\code\\workspace\\OneDragon-YOLO\\ultralytics\\runs\\zzz_hollow_event_2208\\yolov8x-640\\weights\\epoch600.onnx' (260.3 MB)\n",
      "\n",
      "Export complete (8.6s)\n",
      "Results saved to \u001b[1mD:\\code\\workspace\\OneDragon-YOLO\\ultralytics\\runs\\zzz_hollow_event_2208\\yolov8x-640\\weights\u001b[0m\n",
      "Predict:         yolo predict task=detect model=D:\\code\\workspace\\OneDragon-YOLO\\ultralytics\\runs\\zzz_hollow_event_2208\\yolov8x-640\\weights\\epoch600.onnx imgsz=384,640  \n",
      "Validate:        yolo val task=detect model=D:\\code\\workspace\\OneDragon-YOLO\\ultralytics\\runs\\zzz_hollow_event_2208\\yolov8x-640\\weights\\epoch600.onnx imgsz=384,640 data=D:\\code\\workspace\\OneDragon-YOLO\\ultralytics\\datasets\\zzz_hollow_event_2208\\dataset.yaml  WARNING  non-PyTorch val requires square images, 'imgsz=[384, 640]' will not work. Use export 'imgsz=640' if val is required.\n",
      "Visualize:       https://netron.app\n",
      "Ultralytics YOLOv8.2.51  Python-3.11.9 torch-2.3.1 CPU (AMD Ryzen 9 5950X 16-Core Processor)\n",
      "WARNING  imgsz=[360, 640] must be multiple of max stride 32, updating to [384, 640]\n",
      "Model summary (fused): 268 layers, 68193867 parameters, 0 gradients\n",
      "\n",
      "\u001b[34m\u001b[1mPyTorch:\u001b[0m starting from 'D:\\code\\workspace\\OneDragon-YOLO\\ultralytics\\runs\\zzz_hollow_event_2208\\yolov8x-640\\weights\\epoch700.pt' with input shape (1, 3, 384, 640) BCHW and output shape(s) (1, 77, 5040) (391.1 MB)\n",
      "\n",
      "\u001b[34m\u001b[1mONNX:\u001b[0m starting export with onnx 1.16.0 opset 17...\n",
      "\u001b[34m\u001b[1mONNX:\u001b[0m export success  3.5s, saved as 'D:\\code\\workspace\\OneDragon-YOLO\\ultralytics\\runs\\zzz_hollow_event_2208\\yolov8x-640\\weights\\epoch700.onnx' (260.3 MB)\n",
      "\n",
      "Export complete (8.6s)\n",
      "Results saved to \u001b[1mD:\\code\\workspace\\OneDragon-YOLO\\ultralytics\\runs\\zzz_hollow_event_2208\\yolov8x-640\\weights\u001b[0m\n",
      "Predict:         yolo predict task=detect model=D:\\code\\workspace\\OneDragon-YOLO\\ultralytics\\runs\\zzz_hollow_event_2208\\yolov8x-640\\weights\\epoch700.onnx imgsz=384,640  \n",
      "Validate:        yolo val task=detect model=D:\\code\\workspace\\OneDragon-YOLO\\ultralytics\\runs\\zzz_hollow_event_2208\\yolov8x-640\\weights\\epoch700.onnx imgsz=384,640 data=D:\\code\\workspace\\OneDragon-YOLO\\ultralytics\\datasets\\zzz_hollow_event_2208\\dataset.yaml  WARNING  non-PyTorch val requires square images, 'imgsz=[384, 640]' will not work. Use export 'imgsz=640' if val is required.\n",
      "Visualize:       https://netron.app\n",
      "Ultralytics YOLOv8.2.51  Python-3.11.9 torch-2.3.1 CPU (AMD Ryzen 9 5950X 16-Core Processor)\n",
      "WARNING  imgsz=[360, 640] must be multiple of max stride 32, updating to [384, 640]\n",
      "Model summary (fused): 268 layers, 68193867 parameters, 0 gradients\n",
      "\n",
      "\u001b[34m\u001b[1mPyTorch:\u001b[0m starting from 'D:\\code\\workspace\\OneDragon-YOLO\\ultralytics\\runs\\zzz_hollow_event_2208\\yolov8x-640\\weights\\epoch800.pt' with input shape (1, 3, 384, 640) BCHW and output shape(s) (1, 77, 5040) (391.1 MB)\n",
      "\n",
      "\u001b[34m\u001b[1mONNX:\u001b[0m starting export with onnx 1.16.0 opset 17...\n",
      "\u001b[34m\u001b[1mONNX:\u001b[0m export success  3.6s, saved as 'D:\\code\\workspace\\OneDragon-YOLO\\ultralytics\\runs\\zzz_hollow_event_2208\\yolov8x-640\\weights\\epoch800.onnx' (260.3 MB)\n",
      "\n",
      "Export complete (8.8s)\n",
      "Results saved to \u001b[1mD:\\code\\workspace\\OneDragon-YOLO\\ultralytics\\runs\\zzz_hollow_event_2208\\yolov8x-640\\weights\u001b[0m\n",
      "Predict:         yolo predict task=detect model=D:\\code\\workspace\\OneDragon-YOLO\\ultralytics\\runs\\zzz_hollow_event_2208\\yolov8x-640\\weights\\epoch800.onnx imgsz=384,640  \n",
      "Validate:        yolo val task=detect model=D:\\code\\workspace\\OneDragon-YOLO\\ultralytics\\runs\\zzz_hollow_event_2208\\yolov8x-640\\weights\\epoch800.onnx imgsz=384,640 data=D:\\code\\workspace\\OneDragon-YOLO\\ultralytics\\datasets\\zzz_hollow_event_2208\\dataset.yaml  WARNING  non-PyTorch val requires square images, 'imgsz=[384, 640]' will not work. Use export 'imgsz=640' if val is required.\n",
      "Visualize:       https://netron.app\n",
      "Ultralytics YOLOv8.2.51  Python-3.11.9 torch-2.3.1 CPU (AMD Ryzen 9 5950X 16-Core Processor)\n",
      "WARNING  imgsz=[360, 640] must be multiple of max stride 32, updating to [384, 640]\n",
      "Model summary (fused): 268 layers, 68193867 parameters, 0 gradients\n",
      "\n",
      "\u001b[34m\u001b[1mPyTorch:\u001b[0m starting from 'D:\\code\\workspace\\OneDragon-YOLO\\ultralytics\\runs\\zzz_hollow_event_2208\\yolov8x-640\\weights\\epoch900.pt' with input shape (1, 3, 384, 640) BCHW and output shape(s) (1, 77, 5040) (391.1 MB)\n",
      "\n",
      "\u001b[34m\u001b[1mONNX:\u001b[0m starting export with onnx 1.16.0 opset 17...\n",
      "\u001b[34m\u001b[1mONNX:\u001b[0m export success  3.5s, saved as 'D:\\code\\workspace\\OneDragon-YOLO\\ultralytics\\runs\\zzz_hollow_event_2208\\yolov8x-640\\weights\\epoch900.onnx' (260.3 MB)\n",
      "\n",
      "Export complete (8.6s)\n",
      "Results saved to \u001b[1mD:\\code\\workspace\\OneDragon-YOLO\\ultralytics\\runs\\zzz_hollow_event_2208\\yolov8x-640\\weights\u001b[0m\n",
      "Predict:         yolo predict task=detect model=D:\\code\\workspace\\OneDragon-YOLO\\ultralytics\\runs\\zzz_hollow_event_2208\\yolov8x-640\\weights\\epoch900.onnx imgsz=384,640  \n",
      "Validate:        yolo val task=detect model=D:\\code\\workspace\\OneDragon-YOLO\\ultralytics\\runs\\zzz_hollow_event_2208\\yolov8x-640\\weights\\epoch900.onnx imgsz=384,640 data=D:\\code\\workspace\\OneDragon-YOLO\\ultralytics\\datasets\\zzz_hollow_event_2208\\dataset.yaml  WARNING  non-PyTorch val requires square images, 'imgsz=[384, 640]' will not work. Use export 'imgsz=640' if val is required.\n",
      "Visualize:       https://netron.app\n"
     ]
    }
   ],
   "source": [
    "for i in range(1, 10):\n",
    "    model_name = 'epoch%d00' % i\n",
    "    ultralytics_utils.export_model(\n",
    "        dataset_name=dataset_name,\n",
    "        train_name=train_name,\n",
    "        imgsz=export_img_size,\n",
    "        model_name=model_name,\n",
    "        save_name=f'{train_name}-{model_name}'\n",
    "    )"
   ]
  },
  {
   "cell_type": "code",
   "execution_count": 11,
   "id": "863e41a5-d98a-44fb-9e61-e4990bcb4701",
   "metadata": {},
   "outputs": [
    {
     "name": "stdout",
     "output_type": "stream",
     "text": [
      "Ultralytics YOLOv8.2.51  Python-3.11.9 torch-2.3.1 CPU (AMD Ryzen 9 5950X 16-Core Processor)\n",
      "WARNING  imgsz=[360, 640] must be multiple of max stride 32, updating to [384, 640]\n",
      "Model summary (fused): 268 layers, 68193867 parameters, 0 gradients\n",
      "\n",
      "\u001b[34m\u001b[1mPyTorch:\u001b[0m starting from 'D:\\code\\workspace\\OneDragon-YOLO\\ultralytics\\runs\\zzz_hollow_event_2208\\yolov8x-640\\weights\\best.pt' with input shape (1, 3, 384, 640) BCHW and output shape(s) (1, 77, 5040) (130.7 MB)\n",
      "\n",
      "\u001b[34m\u001b[1mONNX:\u001b[0m starting export with onnx 1.16.0 opset 17...\n",
      "\u001b[34m\u001b[1mONNX:\u001b[0m export success  3.5s, saved as 'D:\\code\\workspace\\OneDragon-YOLO\\ultralytics\\runs\\zzz_hollow_event_2208\\yolov8x-640\\weights\\best.onnx' (260.3 MB)\n",
      "\n",
      "Export complete (8.6s)\n",
      "Results saved to \u001b[1mD:\\code\\workspace\\OneDragon-YOLO\\ultralytics\\runs\\zzz_hollow_event_2208\\yolov8x-640\\weights\u001b[0m\n",
      "Predict:         yolo predict task=detect model=D:\\code\\workspace\\OneDragon-YOLO\\ultralytics\\runs\\zzz_hollow_event_2208\\yolov8x-640\\weights\\best.onnx imgsz=384,640  \n",
      "Validate:        yolo val task=detect model=D:\\code\\workspace\\OneDragon-YOLO\\ultralytics\\runs\\zzz_hollow_event_2208\\yolov8x-640\\weights\\best.onnx imgsz=384,640 data=D:\\code\\workspace\\OneDragon-YOLO\\ultralytics\\datasets\\zzz_hollow_event_2208\\dataset.yaml  WARNING  non-PyTorch val requires square images, 'imgsz=[384, 640]' will not work. Use export 'imgsz=640' if val is required.\n",
      "Visualize:       https://netron.app\n"
     ]
    }
   ],
   "source": [
    "ultralytics_utils.export_model(\n",
    "    dataset_name=dataset_name,\n",
    "    train_name=train_name,\n",
    "    imgsz=export_img_size\n",
    ")"
   ]
  },
  {
   "cell_type": "code",
   "execution_count": null,
   "id": "4a9f840e-b37b-4c4b-a1a4-e12658ddfc4c",
   "metadata": {},
   "outputs": [],
   "source": []
  }
 ],
 "metadata": {
  "kernelspec": {
   "display_name": "Python 3 (ipykernel)",
   "language": "python",
   "name": "python3"
  },
  "language_info": {
   "codemirror_mode": {
    "name": "ipython",
    "version": 3
   },
   "file_extension": ".py",
   "mimetype": "text/x-python",
   "name": "python",
   "nbconvert_exporter": "python",
   "pygments_lexer": "ipython3",
   "version": "3.11.9"
  }
 },
 "nbformat": 4,
 "nbformat_minor": 5
}

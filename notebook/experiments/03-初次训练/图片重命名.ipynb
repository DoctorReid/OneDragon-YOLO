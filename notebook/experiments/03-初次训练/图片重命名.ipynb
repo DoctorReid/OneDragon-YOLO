{
 "cells": [
  {
   "cell_type": "code",
   "execution_count": 5,
   "id": "d3a83785-8e6f-4e6c-a781-f60e63c726ad",
   "metadata": {},
   "outputs": [],
   "source": [
    "import pandas as pd\n",
    "import sys\n",
    "import os\n",
    "import json\n",
    "import cv2\n",
    "import uuid\n",
    "sys.path.append('../../../src')"
   ]
  },
  {
   "cell_type": "code",
   "execution_count": 6,
   "id": "1f21d2f9-01ee-4abd-90c2-28f1188af3ee",
   "metadata": {},
   "outputs": [],
   "source": [
    "from sryolo.utils import os_utils\n",
    "from sryolo.devtools import dataset_utils\n",
    "from sryolo.devtools import label_studio_utils\n",
    "from sryolo.devtools import ultralytics_utils"
   ]
  },
  {
   "cell_type": "code",
   "execution_count": 7,
   "id": "06653794-fcd4-4fe7-9462-214c1dc84324",
   "metadata": {},
   "outputs": [
    {
     "data": {
      "text/plain": [
       "{'F:\\\\code\\\\workspace\\\\StarRail-YOLO\\\\label-studio\\\\raw_images\\\\0015-自动机兵甲虫-jc\\\\_1713456167548.png': 'F:\\\\code\\\\workspace\\\\StarRail-YOLO\\\\label-studio\\\\raw_images\\\\0015-自动机兵甲虫-jc\\\\0015-自动机兵甲虫-jc-00030.png',\n",
       " 'F:\\\\code\\\\workspace\\\\StarRail-YOLO\\\\label-studio\\\\raw_images\\\\0021-银鬃士兵-yzsb\\\\_1713450982591.png': 'F:\\\\code\\\\workspace\\\\StarRail-YOLO\\\\label-studio\\\\raw_images\\\\0021-银鬃士兵-yzsb\\\\0021-银鬃士兵-yzsb-00023.png',\n",
       " 'F:\\\\code\\\\workspace\\\\StarRail-YOLO\\\\label-studio\\\\raw_images\\\\0021-银鬃士兵-yzsb\\\\_1713455964963.png': 'F:\\\\code\\\\workspace\\\\StarRail-YOLO\\\\label-studio\\\\raw_images\\\\0021-银鬃士兵-yzsb\\\\0021-银鬃士兵-yzsb-00024.png',\n",
       " 'F:\\\\code\\\\workspace\\\\StarRail-YOLO\\\\label-studio\\\\raw_images\\\\0021-银鬃士兵-yzsb\\\\_1713456006374.png': 'F:\\\\code\\\\workspace\\\\StarRail-YOLO\\\\label-studio\\\\raw_images\\\\0021-银鬃士兵-yzsb\\\\0021-银鬃士兵-yzsb-00025.png',\n",
       " 'F:\\\\code\\\\workspace\\\\StarRail-YOLO\\\\label-studio\\\\raw_images\\\\0033-云骑巡防士兵-yq\\\\_1713456367076.png': 'F:\\\\code\\\\workspace\\\\StarRail-YOLO\\\\label-studio\\\\raw_images\\\\0033-云骑巡防士兵-yq\\\\0033-云骑巡防士兵-yq-00008.png',\n",
       " 'F:\\\\code\\\\workspace\\\\StarRail-YOLO\\\\label-studio\\\\raw_images\\\\0033-云骑巡防士兵-yq\\\\_1713456386430.png': 'F:\\\\code\\\\workspace\\\\StarRail-YOLO\\\\label-studio\\\\raw_images\\\\0033-云骑巡防士兵-yq\\\\0033-云骑巡防士兵-yq-00009.png',\n",
       " 'F:\\\\code\\\\workspace\\\\StarRail-YOLO\\\\label-studio\\\\raw_images\\\\0033-云骑巡防士兵-yq\\\\_1713456411745.png': 'F:\\\\code\\\\workspace\\\\StarRail-YOLO\\\\label-studio\\\\raw_images\\\\0033-云骑巡防士兵-yq\\\\0033-云骑巡防士兵-yq-00010.png',\n",
       " 'F:\\\\code\\\\workspace\\\\StarRail-YOLO\\\\label-studio\\\\raw_images\\\\0033-云骑巡防士兵-yq\\\\_1713456420613.png': 'F:\\\\code\\\\workspace\\\\StarRail-YOLO\\\\label-studio\\\\raw_images\\\\0033-云骑巡防士兵-yq\\\\0033-云骑巡防士兵-yq-00011.png',\n",
       " 'F:\\\\code\\\\workspace\\\\StarRail-YOLO\\\\label-studio\\\\raw_images\\\\0033-云骑巡防士兵-yq\\\\_1713456448764.png': 'F:\\\\code\\\\workspace\\\\StarRail-YOLO\\\\label-studio\\\\raw_images\\\\0033-云骑巡防士兵-yq\\\\0033-云骑巡防士兵-yq-00012.png',\n",
       " 'F:\\\\code\\\\workspace\\\\StarRail-YOLO\\\\label-studio\\\\raw_images\\\\0033-云骑巡防士兵-yq\\\\_1713456475015.png': 'F:\\\\code\\\\workspace\\\\StarRail-YOLO\\\\label-studio\\\\raw_images\\\\0033-云骑巡防士兵-yq\\\\0033-云骑巡防士兵-yq-00013.png',\n",
       " 'F:\\\\code\\\\workspace\\\\StarRail-YOLO\\\\label-studio\\\\raw_images\\\\0033-云骑巡防士兵-yq\\\\_1713456484127.png': 'F:\\\\code\\\\workspace\\\\StarRail-YOLO\\\\label-studio\\\\raw_images\\\\0033-云骑巡防士兵-yq\\\\0033-云骑巡防士兵-yq-00014.png',\n",
       " 'F:\\\\code\\\\workspace\\\\StarRail-YOLO\\\\label-studio\\\\raw_images\\\\0033-云骑巡防士兵-yq\\\\_1713456498684.png': 'F:\\\\code\\\\workspace\\\\StarRail-YOLO\\\\label-studio\\\\raw_images\\\\0033-云骑巡防士兵-yq\\\\0033-云骑巡防士兵-yq-00015.png'}"
      ]
     },
     "execution_count": 7,
     "metadata": {},
     "output_type": "execute_result"
    }
   ],
   "source": [
    "label_studio_utils.rename_raw_images()"
   ]
  },
  {
   "cell_type": "code",
   "execution_count": 8,
   "id": "ddcc2bcc-881b-44a7-a508-660f2ad668dd",
   "metadata": {},
   "outputs": [
    {
     "name": "stdout",
     "output_type": "stream",
     "text": [
      "\n",
      "0: 384x640 1 0015-jc, 1 0018-llz, 76.1ms\n",
      "Speed: 3.0ms preprocess, 76.1ms inference, 906.0ms postprocess per image at shape (1, 3, 384, 640)\n",
      "\n",
      "0: 384x640 2 0021-yzsbs, 1 0035-mys, 1 0042-wb, 6.0ms\n",
      "Speed: 2.0ms preprocess, 6.0ms inference, 1.0ms postprocess per image at shape (1, 3, 384, 640)\n",
      "\n",
      "0: 384x640 1 0021-yzsb, 5.0ms\n",
      "Speed: 2.0ms preprocess, 5.0ms inference, 1.0ms postprocess per image at shape (1, 3, 384, 640)\n",
      "\n",
      "0: 384x640 4 0021-yzsbs, 5.0ms\n",
      "Speed: 1.0ms preprocess, 5.0ms inference, 2.0ms postprocess per image at shape (1, 3, 384, 640)\n",
      "\n",
      "0: 384x640 1 0033-yq, 5.0ms\n",
      "Speed: 2.0ms preprocess, 5.0ms inference, 1.0ms postprocess per image at shape (1, 3, 384, 640)\n",
      "\n",
      "0: 384x640 1 0033-yq, 1 0035-mys, 1 0042-wb, 5.0ms\n",
      "Speed: 2.0ms preprocess, 5.0ms inference, 1.0ms postprocess per image at shape (1, 3, 384, 640)\n",
      "\n",
      "0: 384x640 (no detections), 5.0ms\n",
      "Speed: 2.0ms preprocess, 5.0ms inference, 1.0ms postprocess per image at shape (1, 3, 384, 640)\n",
      "\n",
      "0: 384x640 1 0038-frls-km, 5.0ms\n",
      "Speed: 2.0ms preprocess, 5.0ms inference, 1.0ms postprocess per image at shape (1, 3, 384, 640)\n",
      "\n",
      "0: 384x640 2 0033-yqs, 2 0035-myss, 1 0039-frls-lj, 6.0ms\n",
      "Speed: 1.0ms preprocess, 6.0ms inference, 1.0ms postprocess per image at shape (1, 3, 384, 640)\n",
      "\n",
      "0: 384x640 1 0021-yzsb, 1 0033-yq, 5.0ms\n",
      "Speed: 2.0ms preprocess, 5.0ms inference, 2.0ms postprocess per image at shape (1, 3, 384, 640)\n",
      "\n",
      "0: 384x640 1 0033-yq, 1 0035-mys, 6.0ms\n",
      "Speed: 1.0ms preprocess, 6.0ms inference, 1.0ms postprocess per image at shape (1, 3, 384, 640)\n",
      "\n",
      "0: 384x640 1 0021-yzsb, 1 0033-yq, 6.0ms\n",
      "Speed: 1.0ms preprocess, 6.0ms inference, 1.0ms postprocess per image at shape (1, 3, 384, 640)\n"
     ]
    }
   ],
   "source": [
    "label_studio_utils.generate_tasks_by_predictions(dataset_name='full-test-v0', train_name='train')"
   ]
  },
  {
   "cell_type": "code",
   "execution_count": null,
   "id": "ee956d11-e7d6-4600-98cb-f30498e6a778",
   "metadata": {},
   "outputs": [],
   "source": []
  }
 ],
 "metadata": {
  "kernelspec": {
   "display_name": "Python 3 (ipykernel)",
   "language": "python",
   "name": "python3"
  },
  "language_info": {
   "codemirror_mode": {
    "name": "ipython",
    "version": 3
   },
   "file_extension": ".py",
   "mimetype": "text/x-python",
   "name": "python",
   "nbconvert_exporter": "python",
   "pygments_lexer": "ipython3",
   "version": "3.11.9"
  }
 },
 "nbformat": 4,
 "nbformat_minor": 5
}

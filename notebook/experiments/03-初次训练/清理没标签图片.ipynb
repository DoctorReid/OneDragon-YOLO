{
 "cells": [
  {
   "cell_type": "code",
   "execution_count": 1,
   "id": "c5aa2204-b040-4490-8d4b-66d932de206a",
   "metadata": {},
   "outputs": [],
   "source": [
    "import pandas as pd\n",
    "import sys\n",
    "sys.path.append('../../../src')"
   ]
  },
  {
   "cell_type": "code",
   "execution_count": 2,
   "id": "da92c6e8-e2eb-4ae3-aebf-5963a6cd049e",
   "metadata": {},
   "outputs": [],
   "source": [
    "from sryolo.devtools import dataset_utils"
   ]
  },
  {
   "cell_type": "code",
   "execution_count": 3,
   "id": "1e3c4068-8ba3-4cad-8b14-de11c1221b67",
   "metadata": {},
   "outputs": [
    {
     "data": {
      "text/plain": [
       "1"
      ]
     },
     "execution_count": 3,
     "metadata": {},
     "output_type": "execute_result"
    }
   ],
   "source": [
    "len(dataset_utils.clear_raw_images_without_label('full-test-v1'))"
   ]
  },
  {
   "cell_type": "code",
   "execution_count": 4,
   "id": "36ca5441-ad8f-4c87-b3a7-87e92c8e3a39",
   "metadata": {},
   "outputs": [
    {
     "data": {
      "text/plain": [
       "['F:\\\\code\\\\workspace\\\\StarRail-YOLO\\\\.env\\\\data\\\\raw_images\\\\0048-惊梦剧团的气泡埋伏-jmjt-qpmf\\\\0048-惊梦剧团的气泡埋伏-jmjt-qpmf-00021.png']"
      ]
     },
     "execution_count": 4,
     "metadata": {},
     "output_type": "execute_result"
    }
   ],
   "source": [
    "dataset_utils.clear_raw_images_without_label('full-test-v1', True)"
   ]
  },
  {
   "cell_type": "code",
   "execution_count": null,
   "id": "7f0d5cc6-c4c4-48fd-82e1-330099fa5973",
   "metadata": {},
   "outputs": [],
   "source": []
  }
 ],
 "metadata": {
  "kernelspec": {
   "display_name": "Python 3 (ipykernel)",
   "language": "python",
   "name": "python3"
  },
  "language_info": {
   "codemirror_mode": {
    "name": "ipython",
    "version": 3
   },
   "file_extension": ".py",
   "mimetype": "text/x-python",
   "name": "python",
   "nbconvert_exporter": "python",
   "pygments_lexer": "ipython3",
   "version": "3.11.9"
  }
 },
 "nbformat": 4,
 "nbformat_minor": 5
}

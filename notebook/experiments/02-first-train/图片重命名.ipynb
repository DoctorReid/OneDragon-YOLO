{
 "cells": [
  {
   "cell_type": "code",
   "execution_count": 1,
   "id": "d3a83785-8e6f-4e6c-a781-f60e63c726ad",
   "metadata": {},
   "outputs": [],
   "source": [
    "import pandas as pd\n",
    "import sys\n",
    "sys.path.append('../../../src')"
   ]
  },
  {
   "cell_type": "code",
   "execution_count": 2,
   "id": "1f21d2f9-01ee-4abd-90c2-28f1188af3ee",
   "metadata": {},
   "outputs": [],
   "source": [
    "from sryolo.utils import os_utils\n",
    "import os"
   ]
  },
  {
   "cell_type": "code",
   "execution_count": 3,
   "id": "c60e8131-8eb4-478f-8add-7d39ead2d56d",
   "metadata": {},
   "outputs": [],
   "source": [
    "from sryolo.devtools import label_studio"
   ]
  },
  {
   "cell_type": "code",
   "execution_count": 4,
   "id": "06653794-fcd4-4fe7-9462-214c1dc84324",
   "metadata": {},
   "outputs": [],
   "source": [
    "label_studio.generate_tasks_from_annotations(renew=True)"
   ]
  },
  {
   "cell_type": "code",
   "execution_count": null,
   "id": "89b8c284-1181-4812-ab82-7514c9feb6c4",
   "metadata": {},
   "outputs": [],
   "source": []
  }
 ],
 "metadata": {
  "kernelspec": {
   "display_name": "Python 3 (ipykernel)",
   "language": "python",
   "name": "python3"
  },
  "language_info": {
   "codemirror_mode": {
    "name": "ipython",
    "version": 3
   },
   "file_extension": ".py",
   "mimetype": "text/x-python",
   "name": "python",
   "nbconvert_exporter": "python",
   "pygments_lexer": "ipython3",
   "version": "3.11.9"
  }
 },
 "nbformat": 4,
 "nbformat_minor": 5
}

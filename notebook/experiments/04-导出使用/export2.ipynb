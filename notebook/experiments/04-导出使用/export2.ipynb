{
 "cells": [
  {
   "cell_type": "code",
   "execution_count": 1,
   "id": "359f82e4-baea-4137-b653-5ecb2fa5be1f",
   "metadata": {},
   "outputs": [],
   "source": [
    "import pandas as pd\n",
    "import sys\n",
    "import os\n",
    "import json\n",
    "import cv2\n",
    "import uuid\n",
    "sys.path.append('../../../src')"
   ]
  },
  {
   "cell_type": "code",
   "execution_count": 2,
   "id": "b6292f40-3870-4bf4-92c4-8187ee9fc4ec",
   "metadata": {},
   "outputs": [],
   "source": [
    "from sryolo.devtools import os_utils\n",
    "from sryolo.devtools import dataset_utils\n",
    "from sryolo.devtools import label_studio_utils\n",
    "from sryolo.devtools import ultralytics_utils"
   ]
  },
  {
   "cell_type": "code",
   "execution_count": 3,
   "id": "7561f2f3-f882-475c-a3af-7b107c53a8d1",
   "metadata": {},
   "outputs": [],
   "source": [
    "dataset_name = 'full-test-v0'\n",
    "train_name = 'train'"
   ]
  },
  {
   "cell_type": "code",
   "execution_count": 4,
   "id": "37586d94-a502-4dd5-b415-abeef0c27075",
   "metadata": {},
   "outputs": [
    {
     "name": "stdout",
     "output_type": "stream",
     "text": [
      "Ultralytics YOLOv8.1.44  Python-3.11.9 torch-2.2.2+cu121 CPU (AMD Ryzen 9 5950X 16-Core Processor)\n",
      "Model summary (fused): 168 layers, 3015593 parameters, 0 gradients, 8.1 GFLOPs\n",
      "\n",
      "\u001b[34m\u001b[1mPyTorch:\u001b[0m starting from 'F:\\code\\workspace\\StarRail-YOLO\\ultralytics\\runs\\full-test-v0\\train\\weights\\best.pt' with input shape (1, 3, 384, 640) BCHW and output shape(s) (1, 55, 5040) (6.0 MB)\n",
      "\n",
      "\u001b[34m\u001b[1mONNX:\u001b[0m starting export with onnx 1.16.0 opset 17...\n",
      "\u001b[34m\u001b[1mONNX:\u001b[0m export success  0.9s, saved as 'F:\\code\\workspace\\StarRail-YOLO\\ultralytics\\runs\\full-test-v0\\train\\weights\\best.onnx' (11.6 MB)\n",
      "\n",
      "Export complete (2.5s)\n",
      "Results saved to \u001b[1mF:\\code\\workspace\\StarRail-YOLO\\ultralytics\\runs\\full-test-v0\\train\\weights\u001b[0m\n",
      "Predict:         yolo predict task=detect model=F:\\code\\workspace\\StarRail-YOLO\\ultralytics\\runs\\full-test-v0\\train\\weights\\best.onnx imgsz=384,640  \n",
      "Validate:        yolo val task=detect model=F:\\code\\workspace\\StarRail-YOLO\\ultralytics\\runs\\full-test-v0\\train\\weights\\best.onnx imgsz=384,640 data=F:\\code\\workspace\\StarRail-YOLO\\ultralytics\\datasets\\full-test-v0\\dataset.yaml  WARNING  non-PyTorch val requires square images, 'imgsz=[384, 640]' will not work. Use export 'imgsz=640' if val is required.\n",
      "Visualize:       https://netron.app\n"
     ]
    }
   ],
   "source": [
    "ultralytics_utils.export_model(dataset_name,\n",
    "                               train_name=train_name)"
   ]
  },
  {
   "cell_type": "code",
   "execution_count": null,
   "id": "dfb468f4-ae00-4b63-b37f-c04f727718ad",
   "metadata": {},
   "outputs": [],
   "source": []
  }
 ],
 "metadata": {
  "kernelspec": {
   "display_name": "Python 3 (ipykernel)",
   "language": "python",
   "name": "python3"
  },
  "language_info": {
   "codemirror_mode": {
    "name": "ipython",
    "version": 3
   },
   "file_extension": ".py",
   "mimetype": "text/x-python",
   "name": "python",
   "nbconvert_exporter": "python",
   "pygments_lexer": "ipython3",
   "version": "3.11.9"
  }
 },
 "nbformat": 4,
 "nbformat_minor": 5
}

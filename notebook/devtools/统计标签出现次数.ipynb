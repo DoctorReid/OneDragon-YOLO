{
 "cells": [
  {
   "cell_type": "code",
   "execution_count": 3,
   "id": "208e5d70-6752-4c0d-ad49-1fe9fbe78dc7",
   "metadata": {},
   "outputs": [],
   "source": [
    "import pandas as pd\n",
    "import sys\n",
    "sys.path.append('../../src')"
   ]
  },
  {
   "cell_type": "code",
   "execution_count": 4,
   "id": "d6bbfeb9-d231-4952-b304-db7bbec18870",
   "metadata": {},
   "outputs": [],
   "source": [
    "from sryolo.devtools import dataset_utils"
   ]
  },
  {
   "cell_type": "code",
   "execution_count": 5,
   "id": "a084377d-ff71-4d2f-89ff-86a87c5fbeff",
   "metadata": {},
   "outputs": [],
   "source": [
    "count = dataset_utils.count_labels('base-detect')"
   ]
  },
  {
   "cell_type": "code",
   "execution_count": 7,
   "id": "60425197-c3ca-4020-81d8-cc214796549d",
   "metadata": {},
   "outputs": [
    {
     "name": "stdout",
     "output_type": "stream",
     "text": [
      "0028-基层员工-jcyg 16\n",
      "0022-银鬃尉官-yzwg 19\n",
      "0013-自动机兵战犬-zq 10\n",
      "0017-自动机兵齿狼-cl 17\n",
      "0025-杰帕德-jpd 8\n",
      "0024-布洛妮娅-blny 7\n",
      "0026-史瓦罗-swl 6\n",
      "0027-可可利亚-kkly 4\n",
      "0034-云骑骁卫彦卿-yq 9\n",
      "0036-炼形者-lxz 11\n",
      "0037-承露天人-cltr 11\n",
      "0040-丰饶灵兽长右-frls-cy 10\n",
      "0041-丰饶玄鹿-frxl 6\n",
      "0042-武弁-wb 16\n",
      "0043-金人勾魂使-jrghs 13\n",
      "0045-匹诺康尼可乐-kl 15\n",
      "0047-惊梦剧团的十七分热-jmjt-sqfr 16\n",
      "0050-惊梦剧团的甜猿泰山-jmjt-tyts 15\n",
      "0054-狂怒褪去之壳-yymy-kltqzk 16\n",
      "0055-何物朝向死亡-yymy-hwcxsw 4\n",
      "0057-「星核猎手」卡芙卡-kfk 4\n",
      "0058-「星核猎手」萨姆-sm 4\n",
      "0059-「石心十人」诡弈砂金-sj 2\n"
     ]
    }
   ],
   "source": [
    "for label, cnt in count.items():\n",
    "    if cnt < 20:\n",
    "        print(label, cnt)"
   ]
  },
  {
   "cell_type": "code",
   "execution_count": null,
   "id": "15e80953-db06-4ce1-bf75-0f2d13e6d51a",
   "metadata": {},
   "outputs": [],
   "source": []
  }
 ],
 "metadata": {
  "kernelspec": {
   "display_name": "Python 3 (ipykernel)",
   "language": "python",
   "name": "python3"
  },
  "language_info": {
   "codemirror_mode": {
    "name": "ipython",
    "version": 3
   },
   "file_extension": ".py",
   "mimetype": "text/x-python",
   "name": "python",
   "nbconvert_exporter": "python",
   "pygments_lexer": "ipython3",
   "version": "3.11.9"
  }
 },
 "nbformat": 4,
 "nbformat_minor": 5
}

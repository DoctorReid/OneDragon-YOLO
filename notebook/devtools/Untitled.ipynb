{
 "cells": [
  {
   "cell_type": "code",
   "execution_count": 1,
   "id": "e24d705d-72e1-4dc0-b360-a73fb488fe9b",
   "metadata": {},
   "outputs": [],
   "source": [
    "import pandas as pd\n",
    "import sys\n",
    "sys.path.append('../../src')"
   ]
  },
  {
   "cell_type": "code",
   "execution_count": 3,
   "id": "22188ebf-aeee-4a5a-9fd2-b9ab5d2b08e7",
   "metadata": {},
   "outputs": [],
   "source": [
    "from sryolo.utils import label_utils"
   ]
  },
  {
   "cell_type": "code",
   "execution_count": 5,
   "id": "fae334a1-42e2-4faa-aa5f-fae7dc6be0cb",
   "metadata": {},
   "outputs": [],
   "source": [
    "df = label_utils.read_label_csv()"
   ]
  },
  {
   "cell_type": "code",
   "execution_count": 6,
   "id": "54bd58a3-8eee-4e74-9cfc-fd58aba36365",
   "metadata": {},
   "outputs": [],
   "source": [
    "cate_to_use = ['普通怪', '可破坏物', '模拟宇宙下层入口', '模拟宇宙下层入口未激活', '模拟宇宙事件', '模拟宇宙黑塔', '模拟宇宙沉浸奖励', '界面提示被锁定', '界面提示可攻击']"
   ]
  },
  {
   "cell_type": "code",
   "execution_count": 9,
   "id": "5b730e25-e2c6-4450-ac97-44691d08a459",
   "metadata": {},
   "outputs": [],
   "source": [
    "names = []"
   ]
  },
  {
   "cell_type": "code",
   "execution_count": 10,
   "id": "588ad15a-66d0-40d8-bfa6-4848ea5ddb32",
   "metadata": {},
   "outputs": [],
   "source": [
    "for index, row in df.iterrows():\n",
    "    if row['cate'] not in cate_to_use:\n",
    "        continue\n",
    "    names.append(row['name'])"
   ]
  },
  {
   "cell_type": "code",
   "execution_count": 11,
   "id": "447d527c-f235-4946-bb2e-fa99744b6815",
   "metadata": {},
   "outputs": [
    {
     "data": {
      "text/plain": [
       "['扑满',\n",
       " '空间站黑塔·可破坏物·箱子',\n",
       " '空间站黑塔·可破坏物·罐子',\n",
       " '重子',\n",
       " '反重子',\n",
       " '虚卒·掠夺者',\n",
       " '虚卒·抹消者',\n",
       " '虚卒·篡改者',\n",
       " '次蛰虫',\n",
       " '幼蛰虫',\n",
       " '雅利洛·可破坏物·木桶',\n",
       " '雅利洛·可破坏物·罐子',\n",
       " '无想面具',\n",
       " '霜晶造物',\n",
       " '炎华造物',\n",
       " '鸣雷造物',\n",
       " '巽风造物',\n",
       " '虚数织叶者',\n",
       " '自动机兵·战犬',\n",
       " '自动机兵·蜘蛛',\n",
       " '自动机兵·甲虫',\n",
       " '流浪者',\n",
       " '永冬灾影',\n",
       " '火焚灾影',\n",
       " '银鬃近卫',\n",
       " '银鬃射手',\n",
       " '银鬃炮手',\n",
       " '基层员工·外勤',\n",
       " '基层员工·安保',\n",
       " '仙舟罗浮·可破坏物·陶罐',\n",
       " '仙舟罗浮·可破坏物·罐子',\n",
       " '入魔机巧·灯昼龙鱼',\n",
       " '入魔机巧·率从狻猊',\n",
       " '入魔机巧·浓云金蟾',\n",
       " '云骑巡防士兵',\n",
       " '魔阴身士卒',\n",
       " '「药王秘传」器元士',\n",
       " '「药王秘传」内丹士',\n",
       " '丰饶灵兽·奎木',\n",
       " '丰饶灵兽·娄金',\n",
       " '魔阴武弁',\n",
       " '幽府武弁',\n",
       " '匹诺康尼·可破坏物·气球',\n",
       " '匹诺康尼·可破坏物·可乐',\n",
       " '惊梦剧团的圆幕先生',\n",
       " '惊梦剧团的气泡埋伏',\n",
       " '惊梦剧团的弹簧荷官',\n",
       " '惊梦剧团的舞鸫假面',\n",
       " '惊梦剧团的发条暴徒',\n",
       " '忆域迷因「视线无处不在」',\n",
       " '忆域迷因「我心支离破碎」',\n",
       " '忆域迷因「何物藏于镜中」',\n",
       " '模拟宇宙·下层入口',\n",
       " '模拟宇宙·事件',\n",
       " '模拟宇宙·沉浸奖励',\n",
       " '模拟宇宙·黑塔',\n",
       " '模拟宇宙·下层入口-未激活',\n",
       " '界面提示-被锁定',\n",
       " '界面提示-可攻击',\n",
       " '界面提示-可攻击',\n",
       " '惊梦剧团的幸运贩卖',\n",
       " '忆域迷因「虚荣永无餍足」']"
      ]
     },
     "execution_count": 11,
     "metadata": {},
     "output_type": "execute_result"
    }
   ],
   "source": [
    "names"
   ]
  },
  {
   "cell_type": "code",
   "execution_count": null,
   "id": "db440f78-3653-416d-8b12-ecff46f59ed4",
   "metadata": {},
   "outputs": [],
   "source": []
  }
 ],
 "metadata": {
  "kernelspec": {
   "display_name": "Python 3 (ipykernel)",
   "language": "python",
   "name": "python3"
  },
  "language_info": {
   "codemirror_mode": {
    "name": "ipython",
    "version": 3
   },
   "file_extension": ".py",
   "mimetype": "text/x-python",
   "name": "python",
   "nbconvert_exporter": "python",
   "pygments_lexer": "ipython3",
   "version": "3.11.9"
  }
 },
 "nbformat": 4,
 "nbformat_minor": 5
}

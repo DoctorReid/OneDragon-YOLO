{
 "cells": [
  {
   "cell_type": "code",
   "execution_count": 1,
   "id": "0d720414-7ef5-488a-8efb-4f61bdf28e30",
   "metadata": {},
   "outputs": [],
   "source": [
    "import pandas as pd\n",
    "import sys\n",
    "sys.path.append('../../../src')"
   ]
  },
  {
   "cell_type": "code",
   "execution_count": 2,
   "id": "590a1ac3-4168-4626-ab1c-777000f4fe73",
   "metadata": {},
   "outputs": [],
   "source": [
    "from sryolo.devtools import dataset_utils"
   ]
  },
  {
   "cell_type": "code",
   "execution_count": 3,
   "id": "8c340d8e-b514-4b6d-89d5-1ceca1ce585e",
   "metadata": {},
   "outputs": [],
   "source": [
    "dataset_utils.sync_raw_images_to_dataset('full-test-v1')"
   ]
  },
  {
   "cell_type": "code",
   "execution_count": null,
   "id": "2fb20a6a-7c22-4ee5-aaed-5a7cf7ff05c8",
   "metadata": {},
   "outputs": [],
   "source": []
  }
 ],
 "metadata": {
  "kernelspec": {
   "display_name": "Python 3 (ipykernel)",
   "language": "python",
   "name": "python3"
  },
  "language_info": {
   "codemirror_mode": {
    "name": "ipython",
    "version": 3
   },
   "file_extension": ".py",
   "mimetype": "text/x-python",
   "name": "python",
   "nbconvert_exporter": "python",
   "pygments_lexer": "ipython3",
   "version": "3.11.9"
  }
 },
 "nbformat": 4,
 "nbformat_minor": 5
}

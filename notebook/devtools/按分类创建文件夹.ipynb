{
 "cells": [
  {
   "cell_type": "code",
   "execution_count": 1,
   "id": "757d9d8a-7f4e-4fdf-9111-562ccd89c9fc",
   "metadata": {},
   "outputs": [],
   "source": [
    "import pandas as pd\n",
    "import sys\n",
    "sys.path.append('../../src')"
   ]
  },
  {
   "cell_type": "code",
   "execution_count": 2,
   "id": "a92e77e0-d644-4293-bc20-d3491d5bf09c",
   "metadata": {},
   "outputs": [],
   "source": [
    "from sryolo.devtools import label_utils"
   ]
  },
  {
   "cell_type": "code",
   "execution_count": 42,
   "id": "75d3a948-7e52-4608-b221-8e1e14f60821",
   "metadata": {},
   "outputs": [],
   "source": [
    "df = label_utils.read_label_csv()"
   ]
  },
  {
   "cell_type": "code",
   "execution_count": 21,
   "id": "965c51cc-5513-439c-bfcd-8e50ab7df3ec",
   "metadata": {},
   "outputs": [],
   "source": [
    "df['dir_name'] = df['v1'] + '-' + df['name']"
   ]
  },
  {
   "cell_type": "code",
   "execution_count": 10,
   "id": "618ebb5a-553d-4560-96e7-9cbe245fc3c8",
   "metadata": {},
   "outputs": [],
   "source": [
    "env_dir = os.path.join(os.path.dirname(os.path.abspath('../../labels.csv')), '.env')"
   ]
  },
  {
   "cell_type": "code",
   "execution_count": 15,
   "id": "1ebd1cbc-a9bf-4341-8402-4edac365412d",
   "metadata": {},
   "outputs": [],
   "source": [
    "img_dir = os.path.join(env_dir, 'data', 'raw_images')"
   ]
  },
  {
   "cell_type": "code",
   "execution_count": 19,
   "id": "f6b750b1-7ccf-42da-a979-69b2f31b8739",
   "metadata": {},
   "outputs": [],
   "source": [
    "if not os.path.exists(img_dir):\n",
    "    os.mkdir(img_dir)"
   ]
  },
  {
   "cell_type": "code",
   "execution_count": 23,
   "id": "628342cf-a4d4-4ad8-b741-84b7496b42ea",
   "metadata": {},
   "outputs": [],
   "source": [
    "for value in df['dir_name']:\n",
    "    cate_dir = os.path.join(img_dir, value)\n",
    "    if not os.path.exists(cate_dir):\n",
    "        os.mkdir(cate_dir)"
   ]
  },
  {
   "cell_type": "code",
   "execution_count": null,
   "id": "6954dbf5-e954-4120-83b7-13e6d617da64",
   "metadata": {},
   "outputs": [],
   "source": []
  }
 ],
 "metadata": {
  "kernelspec": {
   "display_name": "Python 3 (ipykernel)",
   "language": "python",
   "name": "python3"
  },
  "language_info": {
   "codemirror_mode": {
    "name": "ipython",
    "version": 3
   },
   "file_extension": ".py",
   "mimetype": "text/x-python",
   "name": "python",
   "nbconvert_exporter": "python",
   "pygments_lexer": "ipython3",
   "version": "3.11.9"
  }
 },
 "nbformat": 4,
 "nbformat_minor": 5
}

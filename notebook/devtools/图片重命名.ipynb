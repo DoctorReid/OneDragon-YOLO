{
 "cells": [
  {
   "cell_type": "code",
   "execution_count": 3,
   "id": "2291582e-4adf-44ec-990f-14509d26e139",
   "metadata": {},
   "outputs": [],
   "source": [
    "import os"
   ]
  },
  {
   "cell_type": "code",
   "execution_count": 5,
   "id": "6f88e926-caac-4709-b4c9-8c872f25ee18",
   "metadata": {},
   "outputs": [],
   "source": [
    "raw_img_dir = os.path.join(os.path.dirname(os.path.abspath('../../labels.csv')), '.env', 'data', 'raw_images')"
   ]
  },
  {
   "cell_type": "code",
   "execution_count": 27,
   "id": "5977eb7e-6f18-49b7-afc3-ff83dd969a4d",
   "metadata": {},
   "outputs": [],
   "source": [
    "for cate_dir_name in os.listdir(raw_img_dir):\n",
    "    cate_dir = os.path.join(raw_img_dir, cate_dir_name)\n",
    "    if not os.path.isdir(cate_dir):\n",
    "        continue\n",
    "    v1_id = cate_dir_name\n",
    "\n",
    "    # 先找到最大的 id\n",
    "    max_id = 0\n",
    "    for img_name in os.listdir(cate_dir):\n",
    "        if not img_name.endswith('.png') or not img_name.startswith(v1_id):\n",
    "            continue\n",
    "        curr_id = int(img_name[len(v1_id) + 1:-4])\n",
    "        if curr_id > max_id:\n",
    "            max_id = curr_id\n",
    "\n",
    "    # 对未改名的进行改名\n",
    "    for img_name in os.listdir(cate_dir):\n",
    "        if not img_name.endswith('.png') or img_name.startswith(v1_id):\n",
    "            continue\n",
    "\n",
    "        max_id += 1\n",
    "        old_path = os.path.join(cate_dir, img_name)\n",
    "        new_path = os.path.join(cate_dir, '%s-%05d.png' % (v1_id, max_id))\n",
    "\n",
    "        os.rename(old_path, new_path)"
   ]
  },
  {
   "cell_type": "code",
   "execution_count": null,
   "id": "3dc5345c-0fa2-4448-ac11-6921ea1234f5",
   "metadata": {},
   "outputs": [],
   "source": []
  }
 ],
 "metadata": {
  "kernelspec": {
   "display_name": "Python 3 (ipykernel)",
   "language": "python",
   "name": "python3"
  },
  "language_info": {
   "codemirror_mode": {
    "name": "ipython",
    "version": 3
   },
   "file_extension": ".py",
   "mimetype": "text/x-python",
   "name": "python",
   "nbconvert_exporter": "python",
   "pygments_lexer": "ipython3",
   "version": "3.11.9"
  }
 },
 "nbformat": 4,
 "nbformat_minor": 5
}

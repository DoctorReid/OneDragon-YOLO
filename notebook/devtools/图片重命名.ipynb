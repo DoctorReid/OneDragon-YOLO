{
 "cells": [
  {
   "cell_type": "code",
   "execution_count": 1,
   "id": "d3a83785-8e6f-4e6c-a781-f60e63c726ad",
   "metadata": {},
   "outputs": [],
   "source": [
    "import pandas as pd\n",
    "import sys\n",
    "import os\n",
    "import json\n",
    "import cv2\n",
    "import uuid\n",
    "sys.path.append('../../src')"
   ]
  },
  {
   "cell_type": "code",
   "execution_count": 2,
   "id": "1f21d2f9-01ee-4abd-90c2-28f1188af3ee",
   "metadata": {},
   "outputs": [],
   "source": [
    "from sryolo.devtools import os_utils\n",
    "from sryolo.devtools import dataset_utils\n",
    "from sryolo.devtools import label_studio_utils\n",
    "from sryolo.devtools import ultralytics_utils"
   ]
  },
  {
   "cell_type": "code",
   "execution_count": 3,
   "id": "06653794-fcd4-4fe7-9462-214c1dc84324",
   "metadata": {},
   "outputs": [
    {
     "data": {
      "text/plain": [
       "{'F:\\\\code\\\\workspace\\\\StarRail-YOLO\\\\label-studio\\\\raw_images\\\\0001-扑满-pm\\\\20240422221232.png': 'F:\\\\code\\\\workspace\\\\StarRail-YOLO\\\\label-studio\\\\raw_images\\\\0001-扑满-pm\\\\0001-扑满-pm-00027.png',\n",
       " 'F:\\\\code\\\\workspace\\\\StarRail-YOLO\\\\label-studio\\\\raw_images\\\\0001-扑满-pm\\\\_1713971272883.png': 'F:\\\\code\\\\workspace\\\\StarRail-YOLO\\\\label-studio\\\\raw_images\\\\0001-扑满-pm\\\\0001-扑满-pm-00028.png',\n",
       " 'F:\\\\code\\\\workspace\\\\StarRail-YOLO\\\\label-studio\\\\raw_images\\\\0005-虚卒-xz\\\\20240422221316.png': 'F:\\\\code\\\\workspace\\\\StarRail-YOLO\\\\label-studio\\\\raw_images\\\\0005-虚卒-xz\\\\0005-虚卒-xz-00090.png',\n",
       " 'F:\\\\code\\\\workspace\\\\StarRail-YOLO\\\\label-studio\\\\raw_images\\\\0005-虚卒-xz\\\\20240422222244.png': 'F:\\\\code\\\\workspace\\\\StarRail-YOLO\\\\label-studio\\\\raw_images\\\\0005-虚卒-xz\\\\0005-虚卒-xz-00091.png',\n",
       " 'F:\\\\code\\\\workspace\\\\StarRail-YOLO\\\\label-studio\\\\raw_images\\\\0011-造物-zw\\\\_1713968563839.png': 'F:\\\\code\\\\workspace\\\\StarRail-YOLO\\\\label-studio\\\\raw_images\\\\0011-造物-zw\\\\0011-造物-zw-00104.png',\n",
       " 'F:\\\\code\\\\workspace\\\\StarRail-YOLO\\\\label-studio\\\\raw_images\\\\0042-武弁-wb\\\\_1713970348424.png': 'F:\\\\code\\\\workspace\\\\StarRail-YOLO\\\\label-studio\\\\raw_images\\\\0042-武弁-wb\\\\0042-武弁-wb-00015.png',\n",
       " 'F:\\\\code\\\\workspace\\\\StarRail-YOLO\\\\label-studio\\\\raw_images\\\\0048-惊梦剧团的气泡埋伏-jmjt-qpmf\\\\_1713969961137.png': 'F:\\\\code\\\\workspace\\\\StarRail-YOLO\\\\label-studio\\\\raw_images\\\\0048-惊梦剧团的气泡埋伏-jmjt-qpmf\\\\0048-惊梦剧团的气泡埋伏-jmjt-qpmf-00027.png',\n",
       " 'F:\\\\code\\\\workspace\\\\StarRail-YOLO\\\\label-studio\\\\raw_images\\\\0048-惊梦剧团的气泡埋伏-jmjt-qpmf\\\\_1713971004377.png': 'F:\\\\code\\\\workspace\\\\StarRail-YOLO\\\\label-studio\\\\raw_images\\\\0048-惊梦剧团的气泡埋伏-jmjt-qpmf\\\\0048-惊梦剧团的气泡埋伏-jmjt-qpmf-00028.png',\n",
       " 'F:\\\\code\\\\workspace\\\\StarRail-YOLO\\\\label-studio\\\\raw_images\\\\0051-惊梦剧团的发条暴徒-jmjt-ftbt\\\\_1713970146058.png': 'F:\\\\code\\\\workspace\\\\StarRail-YOLO\\\\label-studio\\\\raw_images\\\\0051-惊梦剧团的发条暴徒-jmjt-ftbt\\\\0051-惊梦剧团的发条暴徒-jmjt-ftbt-00027.png',\n",
       " 'F:\\\\code\\\\workspace\\\\StarRail-YOLO\\\\label-studio\\\\raw_images\\\\0051-惊梦剧团的发条暴徒-jmjt-ftbt\\\\_1713970151461.png': 'F:\\\\code\\\\workspace\\\\StarRail-YOLO\\\\label-studio\\\\raw_images\\\\0051-惊梦剧团的发条暴徒-jmjt-ftbt\\\\0051-惊梦剧团的发条暴徒-jmjt-ftbt-00028.png',\n",
       " 'F:\\\\code\\\\workspace\\\\StarRail-YOLO\\\\label-studio\\\\raw_images\\\\0051-惊梦剧团的发条暴徒-jmjt-ftbt\\\\_1713971110543.png': 'F:\\\\code\\\\workspace\\\\StarRail-YOLO\\\\label-studio\\\\raw_images\\\\0051-惊梦剧团的发条暴徒-jmjt-ftbt\\\\0051-惊梦剧团的发条暴徒-jmjt-ftbt-00029.png',\n",
       " 'F:\\\\code\\\\workspace\\\\StarRail-YOLO\\\\label-studio\\\\raw_images\\\\0061-模拟宇宙事件-mnyz-xcrk\\\\_1713969015224.png': 'F:\\\\code\\\\workspace\\\\StarRail-YOLO\\\\label-studio\\\\raw_images\\\\0061-模拟宇宙事件-mnyz-xcrk\\\\0061-模拟宇宙事件-mnyz-xcrk-00044.png',\n",
       " 'F:\\\\code\\\\workspace\\\\StarRail-YOLO\\\\label-studio\\\\raw_images\\\\0061-模拟宇宙事件-mnyz-xcrk\\\\_1713969016788.png': 'F:\\\\code\\\\workspace\\\\StarRail-YOLO\\\\label-studio\\\\raw_images\\\\0061-模拟宇宙事件-mnyz-xcrk\\\\0061-模拟宇宙事件-mnyz-xcrk-00045.png',\n",
       " 'F:\\\\code\\\\workspace\\\\StarRail-YOLO\\\\label-studio\\\\raw_images\\\\0061-模拟宇宙事件-mnyz-xcrk\\\\_1713969017873.png': 'F:\\\\code\\\\workspace\\\\StarRail-YOLO\\\\label-studio\\\\raw_images\\\\0061-模拟宇宙事件-mnyz-xcrk\\\\0061-模拟宇宙事件-mnyz-xcrk-00046.png',\n",
       " 'F:\\\\code\\\\workspace\\\\StarRail-YOLO\\\\label-studio\\\\raw_images\\\\0062-模拟宇宙沉浸奖励-mnyz-cjjl\\\\_1713800145720.png': 'F:\\\\code\\\\workspace\\\\StarRail-YOLO\\\\label-studio\\\\raw_images\\\\0062-模拟宇宙沉浸奖励-mnyz-cjjl\\\\0062-模拟宇宙沉浸奖励-mnyz-cjjl-00064.png',\n",
       " 'F:\\\\code\\\\workspace\\\\StarRail-YOLO\\\\label-studio\\\\raw_images\\\\0062-模拟宇宙沉浸奖励-mnyz-cjjl\\\\_1713800151150.png': 'F:\\\\code\\\\workspace\\\\StarRail-YOLO\\\\label-studio\\\\raw_images\\\\0062-模拟宇宙沉浸奖励-mnyz-cjjl\\\\0062-模拟宇宙沉浸奖励-mnyz-cjjl-00065.png',\n",
       " 'F:\\\\code\\\\workspace\\\\StarRail-YOLO\\\\label-studio\\\\raw_images\\\\0062-模拟宇宙沉浸奖励-mnyz-cjjl\\\\_1713800268793.png': 'F:\\\\code\\\\workspace\\\\StarRail-YOLO\\\\label-studio\\\\raw_images\\\\0062-模拟宇宙沉浸奖励-mnyz-cjjl\\\\0062-模拟宇宙沉浸奖励-mnyz-cjjl-00066.png',\n",
       " 'F:\\\\code\\\\workspace\\\\StarRail-YOLO\\\\label-studio\\\\raw_images\\\\0062-模拟宇宙沉浸奖励-mnyz-cjjl\\\\_1713800274006.png': 'F:\\\\code\\\\workspace\\\\StarRail-YOLO\\\\label-studio\\\\raw_images\\\\0062-模拟宇宙沉浸奖励-mnyz-cjjl\\\\0062-模拟宇宙沉浸奖励-mnyz-cjjl-00067.png',\n",
       " 'F:\\\\code\\\\workspace\\\\StarRail-YOLO\\\\label-studio\\\\raw_images\\\\0062-模拟宇宙沉浸奖励-mnyz-cjjl\\\\_1713884073276.png': 'F:\\\\code\\\\workspace\\\\StarRail-YOLO\\\\label-studio\\\\raw_images\\\\0062-模拟宇宙沉浸奖励-mnyz-cjjl\\\\0062-模拟宇宙沉浸奖励-mnyz-cjjl-00068.png',\n",
       " 'F:\\\\code\\\\workspace\\\\StarRail-YOLO\\\\label-studio\\\\raw_images\\\\0062-模拟宇宙沉浸奖励-mnyz-cjjl\\\\_1713884077046.png': 'F:\\\\code\\\\workspace\\\\StarRail-YOLO\\\\label-studio\\\\raw_images\\\\0062-模拟宇宙沉浸奖励-mnyz-cjjl\\\\0062-模拟宇宙沉浸奖励-mnyz-cjjl-00069.png',\n",
       " 'F:\\\\code\\\\workspace\\\\StarRail-YOLO\\\\label-studio\\\\raw_images\\\\0069-可攻击-kgj\\\\_1713800148826.png': 'F:\\\\code\\\\workspace\\\\StarRail-YOLO\\\\label-studio\\\\raw_images\\\\0069-可攻击-kgj\\\\0069-可攻击-kgj-00020.png',\n",
       " 'F:\\\\code\\\\workspace\\\\StarRail-YOLO\\\\label-studio\\\\raw_images\\\\0069-可攻击-kgj\\\\_1713800154560.png': 'F:\\\\code\\\\workspace\\\\StarRail-YOLO\\\\label-studio\\\\raw_images\\\\0069-可攻击-kgj\\\\0069-可攻击-kgj-00021.png',\n",
       " 'F:\\\\code\\\\workspace\\\\StarRail-YOLO\\\\label-studio\\\\raw_images\\\\0069-可攻击-kgj\\\\_1713884080908.png': 'F:\\\\code\\\\workspace\\\\StarRail-YOLO\\\\label-studio\\\\raw_images\\\\0069-可攻击-kgj\\\\0069-可攻击-kgj-00022.png',\n",
       " 'F:\\\\code\\\\workspace\\\\StarRail-YOLO\\\\label-studio\\\\raw_images\\\\0069-可攻击-kgj\\\\_1713884085576.png': 'F:\\\\code\\\\workspace\\\\StarRail-YOLO\\\\label-studio\\\\raw_images\\\\0069-可攻击-kgj\\\\0069-可攻击-kgj-00023.png',\n",
       " 'F:\\\\code\\\\workspace\\\\StarRail-YOLO\\\\label-studio\\\\raw_images\\\\0069-可攻击-kgj\\\\_1713888296731.png': 'F:\\\\code\\\\workspace\\\\StarRail-YOLO\\\\label-studio\\\\raw_images\\\\0069-可攻击-kgj\\\\0069-可攻击-kgj-00024.png'}"
      ]
     },
     "execution_count": 3,
     "metadata": {},
     "output_type": "execute_result"
    }
   ],
   "source": [
    "label_studio_utils.rename_raw_images()"
   ]
  },
  {
   "cell_type": "code",
   "execution_count": 4,
   "id": "ddcc2bcc-881b-44a7-a508-660f2ad668dd",
   "metadata": {},
   "outputs": [
    {
     "name": "stdout",
     "output_type": "stream",
     "text": [
      "\n",
      "0: 640x1088 1 0068-bsd, 107.2ms\n",
      "Speed: 5.0ms preprocess, 107.2ms inference, 1488.9ms postprocess per image at shape (1, 3, 640, 1088)\n",
      "\n",
      "0: 640x1088 (no detections), 5.0ms\n",
      "Speed: 4.0ms preprocess, 5.0ms inference, 1.0ms postprocess per image at shape (1, 3, 640, 1088)\n",
      "\n",
      "0: 640x1088 1 0005-xz, 2 0066-mnyz-xcrkwjhs, 5.0ms\n",
      "Speed: 5.0ms preprocess, 5.0ms inference, 2.0ms postprocess per image at shape (1, 3, 640, 1088)\n",
      "\n",
      "0: 640x1088 1 0005-xz, 1 0066-mnyz-xcrkwjh, 1 0069-kgj, 11.0ms\n",
      "Speed: 3.0ms preprocess, 11.0ms inference, 5.0ms postprocess per image at shape (1, 3, 640, 1088)\n",
      "\n",
      "0: 640x1088 2 0030-gzs, 1 0066-mnyz-xcrkwjh, 5.0ms\n",
      "Speed: 4.0ms preprocess, 5.0ms inference, 1.0ms postprocess per image at shape (1, 3, 640, 1088)\n",
      "\n",
      "0: 640x1088 1 0005-xz, 2 0045-kls, 2 0066-mnyz-xcrkwjhs, 6.0ms\n",
      "Speed: 5.0ms preprocess, 6.0ms inference, 1.0ms postprocess per image at shape (1, 3, 640, 1088)\n",
      "\n",
      "0: 640x1088 1 0048-jmjt-qpmf, 1 0066-mnyz-xcrkwjh, 5.0ms\n",
      "Speed: 5.0ms preprocess, 5.0ms inference, 1.0ms postprocess per image at shape (1, 3, 640, 1088)\n",
      "\n",
      "0: 640x1088 1 0048-jmjt-qpmf, 2 0066-mnyz-xcrkwjhs, 5.0ms\n",
      "Speed: 4.0ms preprocess, 5.0ms inference, 5.0ms postprocess per image at shape (1, 3, 640, 1088)\n",
      "\n",
      "0: 640x1088 1 0002-xz, 1 0051-jmjt-ftbt, 1 0066-mnyz-xcrkwjh, 7.0ms\n",
      "Speed: 4.0ms preprocess, 7.0ms inference, 1.0ms postprocess per image at shape (1, 3, 640, 1088)\n",
      "\n",
      "0: 640x1088 1 0002-xz, 1 0051-jmjt-ftbt, 1 0066-mnyz-xcrkwjh, 5.0ms\n",
      "Speed: 4.0ms preprocess, 5.0ms inference, 1.0ms postprocess per image at shape (1, 3, 640, 1088)\n",
      "\n",
      "0: 640x1088 1 0051-jmjt-ftbt, 1 0066-mnyz-xcrkwjh, 6.0ms\n",
      "Speed: 5.0ms preprocess, 6.0ms inference, 1.0ms postprocess per image at shape (1, 3, 640, 1088)\n",
      "\n",
      "0: 640x1088 1 0061-mnyz-xcrk, 1 0066-mnyz-xcrkwjh, 5.0ms\n",
      "Speed: 4.0ms preprocess, 5.0ms inference, 1.0ms postprocess per image at shape (1, 3, 640, 1088)\n",
      "\n",
      "0: 640x1088 1 0061-mnyz-xcrk, 5.0ms\n",
      "Speed: 4.0ms preprocess, 5.0ms inference, 1.0ms postprocess per image at shape (1, 3, 640, 1088)\n",
      "\n",
      "0: 640x1088 1 0061-mnyz-xcrk, 1 0066-mnyz-xcrkwjh, 6.0ms\n",
      "Speed: 4.0ms preprocess, 6.0ms inference, 1.0ms postprocess per image at shape (1, 3, 640, 1088)\n",
      "\n",
      "0: 640x1088 1 0062-mnyz-cjjl, 5.0ms\n",
      "Speed: 5.0ms preprocess, 5.0ms inference, 1.0ms postprocess per image at shape (1, 3, 640, 1088)\n",
      "\n",
      "0: 640x1088 1 0017-cl, 1 0062-mnyz-cjjl, 9.0ms\n",
      "Speed: 4.0ms preprocess, 9.0ms inference, 6.0ms postprocess per image at shape (1, 3, 640, 1088)\n",
      "\n",
      "0: 640x1088 1 0062-mnyz-cjjl, 10.0ms\n",
      "Speed: 4.0ms preprocess, 10.0ms inference, 1.0ms postprocess per image at shape (1, 3, 640, 1088)\n",
      "\n",
      "0: 640x1088 1 0062-mnyz-cjjl, 14.0ms\n",
      "Speed: 5.0ms preprocess, 14.0ms inference, 2.0ms postprocess per image at shape (1, 3, 640, 1088)\n",
      "\n",
      "0: 640x1088 1 0062-mnyz-cjjl, 16.0ms\n",
      "Speed: 5.0ms preprocess, 16.0ms inference, 5.0ms postprocess per image at shape (1, 3, 640, 1088)\n",
      "\n",
      "0: 640x1088 1 0017-cl, 1 0062-mnyz-cjjl, 8.7ms\n",
      "Speed: 2.5ms preprocess, 8.7ms inference, 4.0ms postprocess per image at shape (1, 3, 640, 1088)\n",
      "\n",
      "0: 640x1088 1 0017-cl, 1 0062-mnyz-cjjl, 14.0ms\n",
      "Speed: 4.0ms preprocess, 14.0ms inference, 1.0ms postprocess per image at shape (1, 3, 640, 1088)\n",
      "\n",
      "0: 640x1088 1 0062-mnyz-cjjl, 6.5ms\n",
      "Speed: 4.0ms preprocess, 6.5ms inference, 1.0ms postprocess per image at shape (1, 3, 640, 1088)\n",
      "\n",
      "0: 640x1088 1 0017-cl, 1 0062-mnyz-cjjl, 13.0ms\n",
      "Speed: 6.0ms preprocess, 13.0ms inference, 1.0ms postprocess per image at shape (1, 3, 640, 1088)\n",
      "\n",
      "0: 640x1088 1 0062-mnyz-cjjl, 1 0066-mnyz-xcrkwjh, 5.0ms\n",
      "Speed: 4.0ms preprocess, 5.0ms inference, 1.0ms postprocess per image at shape (1, 3, 640, 1088)\n",
      "\n",
      "0: 640x1088 2 0017-cls, 1 0032-jr, 11.0ms\n",
      "Speed: 4.0ms preprocess, 11.0ms inference, 1.0ms postprocess per image at shape (1, 3, 640, 1088)\n"
     ]
    }
   ],
   "source": [
    "label_studio_utils.generate_tasks_by_predictions(dataset_name='full-v1', train_name='yolov8n-1088-full-v1')"
   ]
  },
  {
   "cell_type": "code",
   "execution_count": 6,
   "id": "ee956d11-e7d6-4600-98cb-f30498e6a778",
   "metadata": {},
   "outputs": [],
   "source": [
    "label_studio_utils.generate_tasks_by_predictions()"
   ]
  },
  {
   "cell_type": "code",
   "execution_count": null,
   "id": "d307ed57-f8d1-4d8e-90dd-8943e9c5e6f3",
   "metadata": {},
   "outputs": [],
   "source": []
  }
 ],
 "metadata": {
  "kernelspec": {
   "display_name": "Python 3 (ipykernel)",
   "language": "python",
   "name": "python3"
  },
  "language_info": {
   "codemirror_mode": {
    "name": "ipython",
    "version": 3
   },
   "file_extension": ".py",
   "mimetype": "text/x-python",
   "name": "python",
   "nbconvert_exporter": "python",
   "pygments_lexer": "ipython3",
   "version": "3.11.9"
  }
 },
 "nbformat": 4,
 "nbformat_minor": 5
}
